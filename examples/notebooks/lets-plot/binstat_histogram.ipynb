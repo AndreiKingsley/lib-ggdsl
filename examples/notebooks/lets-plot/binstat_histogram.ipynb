{
 "cells": [
  {
   "cell_type": "code",
   "execution_count": 1,
   "metadata": {
    "datalore": {
     "hide_input_from_viewers": false,
     "hide_output_from_viewers": false,
     "node_id": "UAJZ9WlEGslnW9Rgbww7eT",
     "type": "CODE"
    },
    "pycharm": {
     "name": "#%%\n"
    }
   },
   "outputs": [
    {
     "data": {
      "text/plain": ""
     },
     "metadata": {},
     "output_type": "display_data"
    },
    {
     "data": {
      "text/html": "            <div id=\"kotlin_out_0\"/>\n            <script type=\"text/javascript\">\n                            if(!window.kotlinQueues) {\n                window.kotlinQueues = {};\n            }\n            if(!window.kotlinQueues[\"kandyLetsPlot\"]) {\n                var resQueue = [];\n                window.kotlinQueues[\"kandyLetsPlot\"] = resQueue;\n                window[\"call_kandyLetsPlot\"] = function(f) {\n                    resQueue.push(f);\n                }\n            }\n            (function (){\n                var modifiers = [(function(script) {\n    script.src = \"https://cdn.jsdelivr.net/gh/JetBrains/lets-plot@v3.1.0/js-package/distr/lets-plot.min.js\"\n    script.type = \"text/javascript\";\n})];\n                var e = document.getElementById(\"kotlin_out_0\");\n                modifiers.forEach(function (gen) {\n                    var script = document.createElement(\"script\");\n                    gen(script)\n                    script.addEventListener(\"load\", function() {\n                        window[\"call_kandyLetsPlot\"] = function(f) {f();};\n                        window.kotlinQueues[\"kandyLetsPlot\"].forEach(function(f) {f();});\n                        window.kotlinQueues[\"kandyLetsPlot\"] = [];\n                    }, false);\n                    script.addEventListener(\"error\", function() {\n                        window[\"call_kandyLetsPlot\"] = function(f) {};\n                        window.kotlinQueues[\"kandyLetsPlot\"] = [];\n                        var div = document.createElement(\"div\");\n                        div.style.color = 'darkred';\n                        div.textContent = 'Error loading resource kandyLetsPlot';\n                        document.getElementById(\"kotlin_out_0\").appendChild(div);\n                    }, false);\n                    \n                    e.appendChild(script);\n                });\n            })();\n            </script>"
     },
     "metadata": {},
     "output_type": "display_data"
    }
   ],
   "source": [
    "%use kandy(0.4.4)\n",
    "%use dataframe(0.11.0)"
   ]
  },
  {
   "cell_type": "code",
   "execution_count": 2,
   "metadata": {
    "datalore": {
     "hide_input_from_viewers": false,
     "hide_output_from_viewers": false,
     "node_id": "SVzS3HJP3fGxhUMsKqG3GF",
     "type": "CODE"
    },
    "pycharm": {
     "name": "#%%\n"
    }
   },
   "outputs": [],
   "source": [
    "import java.util.*\n",
    "val numbers = IntArray(1000) {Random().nextGaussian().times(25).toInt()}.toList()"
   ]
  },
  {
   "cell_type": "code",
   "execution_count": 3,
   "metadata": {},
   "outputs": [
    {
     "data": {
      "text/html": "            <script type=\"text/javascript\" data-lets-plot-script=\"library\" src=\"https://cdn.jsdelivr.net/gh/JetBrains/lets-plot@v3.1.0/js-package/distr/lets-plot.min.js\"></script>    \n               <div id=\"kXRItV\"></div>\n   <script type=\"text/javascript\" data-lets-plot-script=\"plot\">\n       var plotSpec={\n\"mapping\":{\n},\n\"data\":{\n},\n\"kind\":\"plot\",\n\"scales\":[{\n\"aesthetic\":\"x\",\n\"limits\":[null,null]\n},{\n\"aesthetic\":\"y\",\n\"limits\":[null,null]\n}],\n\"layers\":[{\n\"mapping\":{\n\"x\":\"STAT_BINS\",\n\"y\":\"STAT_COUNT\"\n},\n\"stat\":\"identity\",\n\"data\":{\n\"STAT_COUNT\":[1.0,0.0,1.0,5.0,9.0,18.0,37.0,57.0,91.0,100.0,121.0,160.0,128.0,115.0,57.0,50.0,30.0,13.0,5.0,2.0],\n\"STAT_BINS\":[-89.29525000000001,-80.89575,-72.49625,-64.09675000000001,-55.69725000000001,-47.29775000000001,-38.89825000000001,-30.498750000000015,-22.099250000000012,-13.699750000000009,-5.3002500000000055,3.0992499999999836,11.498749999999987,19.89824999999999,28.29774999999998,36.69724999999998,45.096749999999986,53.496249999999975,61.89574999999999,70.29524999999998]\n},\n\"sampling\":\"none\",\n\"position\":\"dodge\",\n\"geom\":\"bar\"\n}]\n};\n       var plotContainer = document.getElementById(\"kXRItV\");\n       LetsPlot.buildPlotFromProcessedSpecs(plotSpec, -1, -1, plotContainer);\n   </script>            \n        <svg id=6e8271a3-af77-4ae3-a651-ef44449840cb xmlns=\"http://www.w3.org/2000/svg\" xmlns:xlink=\"http://www.w3.org/1999/xlink\" class=\"plt-container\" width=\"600.0\" height=\"400.0\">\n  <style type=\"text/css\">\n  .plt-container {\n   font-family: Lucida Grande, sans-serif;\n   user-select: none;\n   -webkit-user-select: none;\n   -moz-user-select: none;\n   -ms-user-select: none;\n}\ntext {\n   text-rendering: optimizeLegibility;\n}\n#pZvXCva .plot-title {\n   fill: #474747;\n   font-family: Lucida Grande, sans-serif;\n   font-size: 16.0px;\n   font-weight: normal;\n   font-style: normal;   \n}\n#pZvXCva .plot-subtitle {\n   fill: #474747;\n   font-family: Lucida Grande, sans-serif;\n   font-size: 15.0px;\n   font-weight: normal;\n   font-style: normal;   \n}\n#pZvXCva .plot-caption {\n   fill: #474747;\n   font-family: Lucida Grande, sans-serif;\n   font-size: 13.0px;\n   font-weight: normal;\n   font-style: normal;   \n}\n#pZvXCva .legend-title {\n   fill: #474747;\n   font-family: Lucida Grande, sans-serif;\n   font-size: 15.0px;\n   font-weight: normal;\n   font-style: normal;   \n}\n#pZvXCva .legend-item {\n   fill: #474747;\n   font-family: Lucida Grande, sans-serif;\n   font-size: 13.0px;\n   font-weight: normal;\n   font-style: normal;   \n}\n#pZvXCva .axis-title-x {\n   fill: #474747;\n   font-family: Lucida Grande, sans-serif;\n   font-size: 15.0px;\n   font-weight: normal;\n   font-style: normal;   \n}\n#pZvXCva .axis-text-x {\n   fill: #474747;\n   font-family: Lucida Grande, sans-serif;\n   font-size: 13.0px;\n   font-weight: normal;\n   font-style: normal;   \n}\n#daIFqny .axis-tooltip-text-x {\n   fill: #ffffff;\n   font-family: Lucida Grande, sans-serif;\n   font-size: 13.0px;\n   font-weight: normal;\n   font-style: normal;   \n}\n#pZvXCva .axis-title-y {\n   fill: #474747;\n   font-family: Lucida Grande, sans-serif;\n   font-size: 15.0px;\n   font-weight: normal;\n   font-style: normal;   \n}\n#pZvXCva .axis-text-y {\n   fill: #474747;\n   font-family: Lucida Grande, sans-serif;\n   font-size: 13.0px;\n   font-weight: normal;\n   font-style: normal;   \n}\n#daIFqny .axis-tooltip-text-y {\n   fill: #ffffff;\n   font-family: Lucida Grande, sans-serif;\n   font-size: 13.0px;\n   font-weight: normal;\n   font-style: normal;   \n}\n#pZvXCva .facet-strip-text-x {\n   fill: #474747;\n   font-family: Lucida Grande, sans-serif;\n   font-size: 13.0px;\n   font-weight: normal;\n   font-style: normal;   \n}\n#pZvXCva .facet-strip-text-y {\n   fill: #474747;\n   font-family: Lucida Grande, sans-serif;\n   font-size: 13.0px;\n   font-weight: normal;\n   font-style: normal;   \n}\n#daIFqny .tooltip-text {\n   fill: #474747;\n   font-family: Lucida Grande, sans-serif;\n   font-size: 13.0px;\n   font-weight: normal;\n   font-style: normal;   \n}\n#daIFqny .tooltip-title {\n   fill: #474747;\n   font-family: Lucida Grande, sans-serif;\n   font-size: 13.0px;\n   font-weight: bold;\n   font-style: normal;   \n}\n#daIFqny .tooltip-label {\n   fill: #474747;\n   font-family: Lucida Grande, sans-serif;\n   font-size: 13.0px;\n   font-weight: bold;\n   font-style: normal;   \n}\n\n  </style>\n  <g id=\"pZvXCva\">\n    <rect x=\"0.0\" y=\"0.0\" height=\"400.0\" width=\"600.0\" stroke=\"rgb(71,71,71)\" stroke-opacity=\"1.0\" stroke-width=\"0.0\" fill=\"rgb(255,255,255)\" fill-opacity=\"1.0\">\n    </rect>\n    <g transform=\"translate(23.0 10.0 ) \">\n      <g transform=\"translate(29.941816366404606 344.0 ) \">\n        <line x1=\"62.60305575644642\" y1=\"-0.0\" x2=\"62.60305575644642\" y2=\"-344.0\" stroke=\"rgb(233,233,233)\" stroke-opacity=\"1.0\" stroke-width=\"1.0\">\n        </line>\n        <line x1=\"121.02178939058865\" y1=\"-0.0\" x2=\"121.02178939058865\" y2=\"-344.0\" stroke=\"rgb(233,233,233)\" stroke-opacity=\"1.0\" stroke-width=\"1.0\">\n        </line>\n        <line x1=\"179.44052302473085\" y1=\"-0.0\" x2=\"179.44052302473085\" y2=\"-344.0\" stroke=\"rgb(233,233,233)\" stroke-opacity=\"1.0\" stroke-width=\"1.0\">\n        </line>\n        <line x1=\"237.85925665887308\" y1=\"-0.0\" x2=\"237.85925665887308\" y2=\"-344.0\" stroke=\"rgb(233,233,233)\" stroke-opacity=\"1.0\" stroke-width=\"1.0\">\n        </line>\n        <line x1=\"296.2779902930153\" y1=\"-0.0\" x2=\"296.2779902930153\" y2=\"-344.0\" stroke=\"rgb(233,233,233)\" stroke-opacity=\"1.0\" stroke-width=\"1.0\">\n        </line>\n        <line x1=\"354.6967239271575\" y1=\"-0.0\" x2=\"354.6967239271575\" y2=\"-344.0\" stroke=\"rgb(233,233,233)\" stroke-opacity=\"1.0\" stroke-width=\"1.0\">\n        </line>\n        <line x1=\"413.11545756129976\" y1=\"-0.0\" x2=\"413.11545756129976\" y2=\"-344.0\" stroke=\"rgb(233,233,233)\" stroke-opacity=\"1.0\" stroke-width=\"1.0\">\n        </line>\n        <line x1=\"471.53419119544196\" y1=\"-0.0\" x2=\"471.53419119544196\" y2=\"-344.0\" stroke=\"rgb(233,233,233)\" stroke-opacity=\"1.0\" stroke-width=\"1.0\">\n        </line>\n        <line x1=\"529.9529248295842\" y1=\"-0.0\" x2=\"529.9529248295842\" y2=\"-344.0\" stroke=\"rgb(233,233,233)\" stroke-opacity=\"1.0\" stroke-width=\"1.0\">\n        </line>\n        <g transform=\"translate(4.184322122304195 0.0 ) \">\n          <line stroke-width=\"1.0\" stroke=\"rgb(71,71,71)\" stroke-opacity=\"1.0\" x2=\"0.0\" y2=\"4.0\">\n          </line>\n          <g transform=\"translate(0.0 7.0 ) \">\n            <text class=\"axis-text-x\" text-anchor=\"middle\" dy=\"0.7em\">\n            -100\n            </text>\n          </g>\n        </g>\n        <g transform=\"translate(62.60305575644642 0.0 ) \">\n          <line stroke-width=\"1.0\" stroke=\"rgb(71,71,71)\" stroke-opacity=\"1.0\" x2=\"0.0\" y2=\"4.0\">\n          </line>\n          <g transform=\"translate(0.0 7.0 ) \">\n            <text class=\"axis-text-x\" text-anchor=\"middle\" dy=\"0.7em\">\n            -80\n            </text>\n          </g>\n        </g>\n        <g transform=\"translate(121.02178939058865 0.0 ) \">\n          <line stroke-width=\"1.0\" stroke=\"rgb(71,71,71)\" stroke-opacity=\"1.0\" x2=\"0.0\" y2=\"4.0\">\n          </line>\n          <g transform=\"translate(0.0 7.0 ) \">\n            <text class=\"axis-text-x\" text-anchor=\"middle\" dy=\"0.7em\">\n            -60\n            </text>\n          </g>\n        </g>\n        <g transform=\"translate(179.44052302473085 0.0 ) \">\n          <line stroke-width=\"1.0\" stroke=\"rgb(71,71,71)\" stroke-opacity=\"1.0\" x2=\"0.0\" y2=\"4.0\">\n          </line>\n          <g transform=\"translate(0.0 7.0 ) \">\n            <text class=\"axis-text-x\" text-anchor=\"middle\" dy=\"0.7em\">\n            -40\n            </text>\n          </g>\n        </g>\n        <g transform=\"translate(237.85925665887308 0.0 ) \">\n          <line stroke-width=\"1.0\" stroke=\"rgb(71,71,71)\" stroke-opacity=\"1.0\" x2=\"0.0\" y2=\"4.0\">\n          </line>\n          <g transform=\"translate(0.0 7.0 ) \">\n            <text class=\"axis-text-x\" text-anchor=\"middle\" dy=\"0.7em\">\n            -20\n            </text>\n          </g>\n        </g>\n        <g transform=\"translate(296.2779902930153 0.0 ) \">\n          <line stroke-width=\"1.0\" stroke=\"rgb(71,71,71)\" stroke-opacity=\"1.0\" x2=\"0.0\" y2=\"4.0\">\n          </line>\n          <g transform=\"translate(0.0 7.0 ) \">\n            <text class=\"axis-text-x\" text-anchor=\"middle\" dy=\"0.7em\">\n            0\n            </text>\n          </g>\n        </g>\n        <g transform=\"translate(354.6967239271575 0.0 ) \">\n          <line stroke-width=\"1.0\" stroke=\"rgb(71,71,71)\" stroke-opacity=\"1.0\" x2=\"0.0\" y2=\"4.0\">\n          </line>\n          <g transform=\"translate(0.0 7.0 ) \">\n            <text class=\"axis-text-x\" text-anchor=\"middle\" dy=\"0.7em\">\n            20\n            </text>\n          </g>\n        </g>\n        <g transform=\"translate(413.11545756129976 0.0 ) \">\n          <line stroke-width=\"1.0\" stroke=\"rgb(71,71,71)\" stroke-opacity=\"1.0\" x2=\"0.0\" y2=\"4.0\">\n          </line>\n          <g transform=\"translate(0.0 7.0 ) \">\n            <text class=\"axis-text-x\" text-anchor=\"middle\" dy=\"0.7em\">\n            40\n            </text>\n          </g>\n        </g>\n        <g transform=\"translate(471.53419119544196 0.0 ) \">\n          <line stroke-width=\"1.0\" stroke=\"rgb(71,71,71)\" stroke-opacity=\"1.0\" x2=\"0.0\" y2=\"4.0\">\n          </line>\n          <g transform=\"translate(0.0 7.0 ) \">\n            <text class=\"axis-text-x\" text-anchor=\"middle\" dy=\"0.7em\">\n            60\n            </text>\n          </g>\n        </g>\n        <g transform=\"translate(529.9529248295842 0.0 ) \">\n          <line stroke-width=\"1.0\" stroke=\"rgb(71,71,71)\" stroke-opacity=\"1.0\" x2=\"0.0\" y2=\"4.0\">\n          </line>\n          <g transform=\"translate(0.0 7.0 ) \">\n            <text class=\"axis-text-x\" text-anchor=\"middle\" dy=\"0.7em\">\n            80\n            </text>\n          </g>\n        </g>\n        <line x1=\"0.0\" y1=\"0.0\" x2=\"537.0581836335954\" y2=\"0.0\" stroke-width=\"1.0\" stroke=\"rgb(71,71,71)\" stroke-opacity=\"1.0\">\n        </line>\n      </g>\n      <g transform=\"translate(29.941816366404606 0.0 ) \">\n        <line x1=\"0.0\" y1=\"303.04761904761904\" x2=\"537.0581836335954\" y2=\"303.04761904761904\" stroke=\"rgb(233,233,233)\" stroke-opacity=\"1.0\" stroke-width=\"1.0\">\n        </line>\n        <line x1=\"0.0\" y1=\"262.0952380952381\" x2=\"537.0581836335954\" y2=\"262.0952380952381\" stroke=\"rgb(233,233,233)\" stroke-opacity=\"1.0\" stroke-width=\"1.0\">\n        </line>\n        <line x1=\"0.0\" y1=\"221.14285714285717\" x2=\"537.0581836335954\" y2=\"221.14285714285717\" stroke=\"rgb(233,233,233)\" stroke-opacity=\"1.0\" stroke-width=\"1.0\">\n        </line>\n        <line x1=\"0.0\" y1=\"180.1904761904762\" x2=\"537.0581836335954\" y2=\"180.1904761904762\" stroke=\"rgb(233,233,233)\" stroke-opacity=\"1.0\" stroke-width=\"1.0\">\n        </line>\n        <line x1=\"0.0\" y1=\"139.23809523809524\" x2=\"537.0581836335954\" y2=\"139.23809523809524\" stroke=\"rgb(233,233,233)\" stroke-opacity=\"1.0\" stroke-width=\"1.0\">\n        </line>\n        <line x1=\"0.0\" y1=\"98.2857142857143\" x2=\"537.0581836335954\" y2=\"98.2857142857143\" stroke=\"rgb(233,233,233)\" stroke-opacity=\"1.0\" stroke-width=\"1.0\">\n        </line>\n        <line x1=\"0.0\" y1=\"57.33333333333337\" x2=\"537.0581836335954\" y2=\"57.33333333333337\" stroke=\"rgb(233,233,233)\" stroke-opacity=\"1.0\" stroke-width=\"1.0\">\n        </line>\n        <line x1=\"0.0\" y1=\"16.380952380952408\" x2=\"537.0581836335954\" y2=\"16.380952380952408\" stroke=\"rgb(233,233,233)\" stroke-opacity=\"1.0\" stroke-width=\"1.0\">\n        </line>\n        <g transform=\"translate(0.0 344.0 ) \">\n          <g transform=\"translate(-3.0 0.0 ) \">\n            <text class=\"axis-text-y\" text-anchor=\"end\" dy=\"0.35em\">\n            0\n            </text>\n          </g>\n        </g>\n        <g transform=\"translate(0.0 303.04761904761904 ) \">\n          <g transform=\"translate(-3.0 0.0 ) \">\n            <text class=\"axis-text-y\" text-anchor=\"end\" dy=\"0.35em\">\n            20\n            </text>\n          </g>\n        </g>\n        <g transform=\"translate(0.0 262.0952380952381 ) \">\n          <g transform=\"translate(-3.0 0.0 ) \">\n            <text class=\"axis-text-y\" text-anchor=\"end\" dy=\"0.35em\">\n            40\n            </text>\n          </g>\n        </g>\n        <g transform=\"translate(0.0 221.14285714285717 ) \">\n          <g transform=\"translate(-3.0 0.0 ) \">\n            <text class=\"axis-text-y\" text-anchor=\"end\" dy=\"0.35em\">\n            60\n            </text>\n          </g>\n        </g>\n        <g transform=\"translate(0.0 180.1904761904762 ) \">\n          <g transform=\"translate(-3.0 0.0 ) \">\n            <text class=\"axis-text-y\" text-anchor=\"end\" dy=\"0.35em\">\n            80\n            </text>\n          </g>\n        </g>\n        <g transform=\"translate(0.0 139.23809523809524 ) \">\n          <g transform=\"translate(-3.0 0.0 ) \">\n            <text class=\"axis-text-y\" text-anchor=\"end\" dy=\"0.35em\">\n            100\n            </text>\n          </g>\n        </g>\n        <g transform=\"translate(0.0 98.2857142857143 ) \">\n          <g transform=\"translate(-3.0 0.0 ) \">\n            <text class=\"axis-text-y\" text-anchor=\"end\" dy=\"0.35em\">\n            120\n            </text>\n          </g>\n        </g>\n        <g transform=\"translate(0.0 57.33333333333337 ) \">\n          <g transform=\"translate(-3.0 0.0 ) \">\n            <text class=\"axis-text-y\" text-anchor=\"end\" dy=\"0.35em\">\n            140\n            </text>\n          </g>\n        </g>\n        <g transform=\"translate(0.0 16.380952380952408 ) \">\n          <g transform=\"translate(-3.0 0.0 ) \">\n            <text class=\"axis-text-y\" text-anchor=\"end\" dy=\"0.35em\">\n            160\n            </text>\n          </g>\n        </g>\n      </g>\n      <g transform=\"translate(29.941816366404606 0.0 ) \" clip-path=\"url(#c2a6iD5)\" clip-bounds-jfx=\"[rect (0.0, 0.0), (537.0581836335954, 344.0)]\">\n        <defs>\n          <clipPath id=\"c2a6iD5\">\n            <rect x=\"0.0\" y=\"0.0\" width=\"537.0581836335954\" height=\"344.0\">\n            </rect>\n          </clipPath>\n        </defs>\n        <rect x=\"490.5654811216875\" y=\"339.9047619047619\" height=\"4.095238095238074\" width=\"22.080966892198944\" stroke=\"rgb(0,0,0)\" stroke-opacity=\"0.0\" fill=\"rgb(17,142,216)\" fill-opacity=\"1.0\" stroke-width=\"1.0\">\n        </rect>\n        <rect x=\"466.0310734636887\" y=\"333.76190476190476\" height=\"10.23809523809524\" width=\"22.080966892199\" stroke=\"rgb(0,0,0)\" stroke-opacity=\"0.0\" fill=\"rgb(17,142,216)\" fill-opacity=\"1.0\" stroke-width=\"1.0\">\n        </rect>\n        <rect x=\"441.49666580568976\" y=\"317.3809523809524\" height=\"26.619047619047592\" width=\"22.080966892199\" stroke=\"rgb(0,0,0)\" stroke-opacity=\"0.0\" fill=\"rgb(17,142,216)\" fill-opacity=\"1.0\" stroke-width=\"1.0\">\n        </rect>\n        <rect x=\"416.96225814769093\" y=\"282.57142857142856\" height=\"61.428571428571445\" width=\"22.080966892198944\" stroke=\"rgb(0,0,0)\" stroke-opacity=\"0.0\" fill=\"rgb(17,142,216)\" fill-opacity=\"1.0\" stroke-width=\"1.0\">\n        </rect>\n        <rect x=\"392.42785048969205\" y=\"241.61904761904762\" height=\"102.38095238095238\" width=\"22.080966892198944\" stroke=\"rgb(0,0,0)\" stroke-opacity=\"0.0\" fill=\"rgb(17,142,216)\" fill-opacity=\"1.0\" stroke-width=\"1.0\">\n        </rect>\n        <rect x=\"367.89344283169316\" y=\"227.28571428571428\" height=\"116.71428571428572\" width=\"22.080966892198944\" stroke=\"rgb(0,0,0)\" stroke-opacity=\"0.0\" fill=\"rgb(17,142,216)\" fill-opacity=\"1.0\" stroke-width=\"1.0\">\n        </rect>\n        <rect x=\"343.35903517369434\" y=\"108.52380952380955\" height=\"235.47619047619045\" width=\"22.080966892198944\" stroke=\"rgb(0,0,0)\" stroke-opacity=\"0.0\" fill=\"rgb(17,142,216)\" fill-opacity=\"1.0\" stroke-width=\"1.0\">\n        </rect>\n        <rect x=\"318.82462751569545\" y=\"81.90476190476193\" height=\"262.0952380952381\" width=\"22.080966892198944\" stroke=\"rgb(0,0,0)\" stroke-opacity=\"0.0\" fill=\"rgb(17,142,216)\" fill-opacity=\"1.0\" stroke-width=\"1.0\">\n        </rect>\n        <rect x=\"294.29021985769657\" y=\"16.380952380952408\" height=\"327.6190476190476\" width=\"22.080966892198944\" stroke=\"rgb(0,0,0)\" stroke-opacity=\"0.0\" fill=\"rgb(17,142,216)\" fill-opacity=\"1.0\" stroke-width=\"1.0\">\n        </rect>\n        <rect x=\"269.7558121996977\" y=\"96.23809523809527\" height=\"247.76190476190473\" width=\"22.080966892198944\" stroke=\"rgb(0,0,0)\" stroke-opacity=\"0.0\" fill=\"rgb(17,142,216)\" fill-opacity=\"1.0\" stroke-width=\"1.0\">\n        </rect>\n        <rect x=\"245.2214045416988\" y=\"139.23809523809524\" height=\"204.76190476190476\" width=\"22.080966892198944\" stroke=\"rgb(0,0,0)\" stroke-opacity=\"0.0\" fill=\"rgb(17,142,216)\" fill-opacity=\"1.0\" stroke-width=\"1.0\">\n        </rect>\n        <rect x=\"220.68699688369992\" y=\"157.66666666666669\" height=\"186.33333333333331\" width=\"22.080966892198973\" stroke=\"rgb(0,0,0)\" stroke-opacity=\"0.0\" fill=\"rgb(17,142,216)\" fill-opacity=\"1.0\" stroke-width=\"1.0\">\n        </rect>\n        <rect x=\"196.15258922570104\" y=\"227.28571428571428\" height=\"116.71428571428572\" width=\"22.080966892198944\" stroke=\"rgb(0,0,0)\" stroke-opacity=\"0.0\" fill=\"rgb(17,142,216)\" fill-opacity=\"1.0\" stroke-width=\"1.0\">\n        </rect>\n        <rect x=\"171.61818156770215\" y=\"268.23809523809524\" height=\"75.76190476190476\" width=\"22.080966892198973\" stroke=\"rgb(0,0,0)\" stroke-opacity=\"0.0\" fill=\"rgb(17,142,216)\" fill-opacity=\"1.0\" stroke-width=\"1.0\">\n        </rect>\n        <rect x=\"147.0837739097033\" y=\"307.14285714285717\" height=\"36.85714285714283\" width=\"22.080966892198973\" stroke=\"rgb(0,0,0)\" stroke-opacity=\"0.0\" fill=\"rgb(17,142,216)\" fill-opacity=\"1.0\" stroke-width=\"1.0\">\n        </rect>\n        <rect x=\"122.54936625170441\" y=\"325.57142857142856\" height=\"18.428571428571445\" width=\"22.080966892198944\" stroke=\"rgb(0,0,0)\" stroke-opacity=\"0.0\" fill=\"rgb(17,142,216)\" fill-opacity=\"1.0\" stroke-width=\"1.0\">\n        </rect>\n        <rect x=\"98.0149585937055\" y=\"333.76190476190476\" height=\"10.23809523809524\" width=\"22.080966892198944\" stroke=\"rgb(0,0,0)\" stroke-opacity=\"0.0\" fill=\"rgb(17,142,216)\" fill-opacity=\"1.0\" stroke-width=\"1.0\">\n        </rect>\n        <rect x=\"73.48055093570665\" y=\"341.95238095238096\" height=\"2.047619047619037\" width=\"22.080966892198973\" stroke=\"rgb(0,0,0)\" stroke-opacity=\"0.0\" fill=\"rgb(17,142,216)\" fill-opacity=\"1.0\" stroke-width=\"1.0\">\n        </rect>\n        <rect x=\"48.94614327770776\" y=\"344.0\" height=\"0.1\" width=\"22.080966892198973\" stroke=\"rgb(0,0,0)\" stroke-opacity=\"0.0\" fill=\"rgb(17,142,216)\" fill-opacity=\"1.0\" stroke-width=\"1.0\">\n        </rect>\n        <rect x=\"24.411735619708907\" y=\"341.95238095238096\" height=\"2.047619047619037\" width=\"22.080966892198916\" stroke=\"rgb(0,0,0)\" stroke-opacity=\"0.0\" fill=\"rgb(17,142,216)\" fill-opacity=\"1.0\" stroke-width=\"1.0\">\n        </rect>\n      </g>\n    </g>\n    <g transform=\"translate(14.5 182.0 ) rotate(-90.0 ) \">\n      <text class=\"axis-title-y\" y=\"0.0\" text-anchor=\"middle\">\n      STAT_COUNT\n      </text>\n    </g>\n    <g transform=\"translate(321.4709081832023 391.5 ) \">\n      <text class=\"axis-title-x\" y=\"0.0\" text-anchor=\"middle\">\n      STAT_BINS\n      </text>\n    </g>\n  </g>\n  <g id=\"daIFqny\">\n  </g>\n</svg>\n        <script>document.getElementById(\"6e8271a3-af77-4ae3-a651-ef44449840cb\").style.display = \"none\";</script>",
      "application/plot+json": {
       "output_type": "lets_plot_spec",
       "output": {
        "mapping": {},
        "data": {},
        "kind": "plot",
        "scales": [
         {
          "aesthetic": "x",
          "limits": [
           null,
           null
          ]
         },
         {
          "aesthetic": "y",
          "limits": [
           null,
           null
          ]
         }
        ],
        "layers": [
         {
          "mapping": {
           "x": "STAT_BINS",
           "y": "STAT_COUNT"
          },
          "stat": "identity",
          "data": {
           "STAT_COUNT": [
            1.0,
            0.0,
            1.0,
            5.0,
            9.0,
            18.0,
            37.0,
            57.0,
            91.0,
            100.0,
            121.0,
            160.0,
            128.0,
            115.0,
            57.0,
            50.0,
            30.0,
            13.0,
            5.0,
            2.0
           ],
           "STAT_BINS": [
            -89.29525,
            -80.89575,
            -72.49625,
            -64.09675,
            -55.69725,
            -47.29775,
            -38.89825,
            -30.49875,
            -22.09925,
            -13.69975,
            -5.30025,
            3.09925,
            11.49875,
            19.89825,
            28.29775,
            36.69725,
            45.09675,
            53.49625,
            61.89575,
            70.29525
           ]
          },
          "sampling": "none",
          "position": "dodge",
          "geom": "bar"
         }
        ]
       },
       "apply_color_scheme": true,
       "swing_enabled": true
      }
     },
     "execution_count": 3,
     "metadata": {},
     "output_type": "execute_result"
    }
   ],
   "source": [
    "plot {\n",
    "    histogram(numbers)\n",
    "}"
   ]
  },
  {
   "cell_type": "code",
   "execution_count": 4,
   "metadata": {},
   "outputs": [
    {
     "data": {
      "text/html": "            <script type=\"text/javascript\" data-lets-plot-script=\"library\" src=\"https://cdn.jsdelivr.net/gh/JetBrains/lets-plot@v3.1.0/js-package/distr/lets-plot.min.js\"></script>    \n               <div id=\"S5wfPl\"></div>\n   <script type=\"text/javascript\" data-lets-plot-script=\"plot\">\n       var plotSpec={\n\"mapping\":{\n},\n\"data\":{\n},\n\"kind\":\"plot\",\n\"scales\":[{\n\"aesthetic\":\"x\",\n\"limits\":[null,null]\n},{\n\"aesthetic\":\"y\",\n\"limits\":[null,null]\n}],\n\"layers\":[{\n\"mapping\":{\n\"x\":\"STAT_BINS\",\n\"y\":\"STAT_COUNT\"\n},\n\"stat\":\"identity\",\n\"data\":{\n\"STAT_COUNT\":[1.0,4.0,32.0,124.0,260.0,335.0,179.0,58.0,7.0,0.0],\n\"STAT_BINS\":[-92.0,-72.0,-52.0,-32.0,-12.0,8.0,28.0,48.0,68.0,88.0]\n},\n\"sampling\":\"none\",\n\"position\":\"dodge\",\n\"geom\":\"bar\"\n}]\n};\n       var plotContainer = document.getElementById(\"S5wfPl\");\n       LetsPlot.buildPlotFromProcessedSpecs(plotSpec, -1, -1, plotContainer);\n   </script>            \n        <svg id=92d7a652-1c34-440b-bd35-ec30451a4bb0 xmlns=\"http://www.w3.org/2000/svg\" xmlns:xlink=\"http://www.w3.org/1999/xlink\" class=\"plt-container\" width=\"600.0\" height=\"400.0\">\n  <style type=\"text/css\">\n  .plt-container {\n   font-family: Lucida Grande, sans-serif;\n   user-select: none;\n   -webkit-user-select: none;\n   -moz-user-select: none;\n   -ms-user-select: none;\n}\ntext {\n   text-rendering: optimizeLegibility;\n}\n#p6E2Ieq .plot-title {\n   fill: #474747;\n   font-family: Lucida Grande, sans-serif;\n   font-size: 16.0px;\n   font-weight: normal;\n   font-style: normal;   \n}\n#p6E2Ieq .plot-subtitle {\n   fill: #474747;\n   font-family: Lucida Grande, sans-serif;\n   font-size: 15.0px;\n   font-weight: normal;\n   font-style: normal;   \n}\n#p6E2Ieq .plot-caption {\n   fill: #474747;\n   font-family: Lucida Grande, sans-serif;\n   font-size: 13.0px;\n   font-weight: normal;\n   font-style: normal;   \n}\n#p6E2Ieq .legend-title {\n   fill: #474747;\n   font-family: Lucida Grande, sans-serif;\n   font-size: 15.0px;\n   font-weight: normal;\n   font-style: normal;   \n}\n#p6E2Ieq .legend-item {\n   fill: #474747;\n   font-family: Lucida Grande, sans-serif;\n   font-size: 13.0px;\n   font-weight: normal;\n   font-style: normal;   \n}\n#p6E2Ieq .axis-title-x {\n   fill: #474747;\n   font-family: Lucida Grande, sans-serif;\n   font-size: 15.0px;\n   font-weight: normal;\n   font-style: normal;   \n}\n#p6E2Ieq .axis-text-x {\n   fill: #474747;\n   font-family: Lucida Grande, sans-serif;\n   font-size: 13.0px;\n   font-weight: normal;\n   font-style: normal;   \n}\n#dlBJb9f .axis-tooltip-text-x {\n   fill: #ffffff;\n   font-family: Lucida Grande, sans-serif;\n   font-size: 13.0px;\n   font-weight: normal;\n   font-style: normal;   \n}\n#p6E2Ieq .axis-title-y {\n   fill: #474747;\n   font-family: Lucida Grande, sans-serif;\n   font-size: 15.0px;\n   font-weight: normal;\n   font-style: normal;   \n}\n#p6E2Ieq .axis-text-y {\n   fill: #474747;\n   font-family: Lucida Grande, sans-serif;\n   font-size: 13.0px;\n   font-weight: normal;\n   font-style: normal;   \n}\n#dlBJb9f .axis-tooltip-text-y {\n   fill: #ffffff;\n   font-family: Lucida Grande, sans-serif;\n   font-size: 13.0px;\n   font-weight: normal;\n   font-style: normal;   \n}\n#p6E2Ieq .facet-strip-text-x {\n   fill: #474747;\n   font-family: Lucida Grande, sans-serif;\n   font-size: 13.0px;\n   font-weight: normal;\n   font-style: normal;   \n}\n#p6E2Ieq .facet-strip-text-y {\n   fill: #474747;\n   font-family: Lucida Grande, sans-serif;\n   font-size: 13.0px;\n   font-weight: normal;\n   font-style: normal;   \n}\n#dlBJb9f .tooltip-text {\n   fill: #474747;\n   font-family: Lucida Grande, sans-serif;\n   font-size: 13.0px;\n   font-weight: normal;\n   font-style: normal;   \n}\n#dlBJb9f .tooltip-title {\n   fill: #474747;\n   font-family: Lucida Grande, sans-serif;\n   font-size: 13.0px;\n   font-weight: bold;\n   font-style: normal;   \n}\n#dlBJb9f .tooltip-label {\n   fill: #474747;\n   font-family: Lucida Grande, sans-serif;\n   font-size: 13.0px;\n   font-weight: bold;\n   font-style: normal;   \n}\n\n  </style>\n  <g id=\"p6E2Ieq\">\n    <rect x=\"0.0\" y=\"0.0\" height=\"400.0\" width=\"600.0\" stroke=\"rgb(71,71,71)\" stroke-opacity=\"1.0\" stroke-width=\"0.0\" fill=\"rgb(255,255,255)\" fill-opacity=\"1.0\">\n    </rect>\n    <g transform=\"translate(23.0 10.0 ) \">\n      <g transform=\"translate(29.941816366404606 344.0 ) \">\n        <line x1=\"26.877567500487572\" y1=\"-0.0\" x2=\"26.877567500487572\" y2=\"-344.0\" stroke=\"rgb(233,233,233)\" stroke-opacity=\"1.0\" stroke-width=\"1.0\">\n        </line>\n        <line x1=\"150.16916153942128\" y1=\"-0.0\" x2=\"150.16916153942128\" y2=\"-344.0\" stroke=\"rgb(233,233,233)\" stroke-opacity=\"1.0\" stroke-width=\"1.0\">\n        </line>\n        <line x1=\"273.460755578355\" y1=\"-0.0\" x2=\"273.460755578355\" y2=\"-344.0\" stroke=\"rgb(233,233,233)\" stroke-opacity=\"1.0\" stroke-width=\"1.0\">\n        </line>\n        <line x1=\"396.75234961728876\" y1=\"-0.0\" x2=\"396.75234961728876\" y2=\"-344.0\" stroke=\"rgb(233,233,233)\" stroke-opacity=\"1.0\" stroke-width=\"1.0\">\n        </line>\n        <line x1=\"520.0439436562225\" y1=\"-0.0\" x2=\"520.0439436562225\" y2=\"-344.0\" stroke=\"rgb(233,233,233)\" stroke-opacity=\"1.0\" stroke-width=\"1.0\">\n        </line>\n        <g transform=\"translate(26.877567500487572 0.0 ) \">\n          <line stroke-width=\"1.0\" stroke=\"rgb(71,71,71)\" stroke-opacity=\"1.0\" x2=\"0.0\" y2=\"4.0\">\n          </line>\n          <g transform=\"translate(0.0 7.0 ) \">\n            <text class=\"axis-text-x\" text-anchor=\"middle\" dy=\"0.7em\">\n            -100\n            </text>\n          </g>\n        </g>\n        <g transform=\"translate(150.16916153942128 0.0 ) \">\n          <line stroke-width=\"1.0\" stroke=\"rgb(71,71,71)\" stroke-opacity=\"1.0\" x2=\"0.0\" y2=\"4.0\">\n          </line>\n          <g transform=\"translate(0.0 7.0 ) \">\n            <text class=\"axis-text-x\" text-anchor=\"middle\" dy=\"0.7em\">\n            -50\n            </text>\n          </g>\n        </g>\n        <g transform=\"translate(273.460755578355 0.0 ) \">\n          <line stroke-width=\"1.0\" stroke=\"rgb(71,71,71)\" stroke-opacity=\"1.0\" x2=\"0.0\" y2=\"4.0\">\n          </line>\n          <g transform=\"translate(0.0 7.0 ) \">\n            <text class=\"axis-text-x\" text-anchor=\"middle\" dy=\"0.7em\">\n            0\n            </text>\n          </g>\n        </g>\n        <g transform=\"translate(396.75234961728876 0.0 ) \">\n          <line stroke-width=\"1.0\" stroke=\"rgb(71,71,71)\" stroke-opacity=\"1.0\" x2=\"0.0\" y2=\"4.0\">\n          </line>\n          <g transform=\"translate(0.0 7.0 ) \">\n            <text class=\"axis-text-x\" text-anchor=\"middle\" dy=\"0.7em\">\n            50\n            </text>\n          </g>\n        </g>\n        <g transform=\"translate(520.0439436562225 0.0 ) \">\n          <line stroke-width=\"1.0\" stroke=\"rgb(71,71,71)\" stroke-opacity=\"1.0\" x2=\"0.0\" y2=\"4.0\">\n          </line>\n          <g transform=\"translate(0.0 7.0 ) \">\n            <text class=\"axis-text-x\" text-anchor=\"middle\" dy=\"0.7em\">\n            100\n            </text>\n          </g>\n        </g>\n        <line x1=\"0.0\" y1=\"0.0\" x2=\"537.0581836335954\" y2=\"0.0\" stroke-width=\"1.0\" stroke=\"rgb(71,71,71)\" stroke-opacity=\"1.0\">\n        </line>\n      </g>\n      <g transform=\"translate(29.941816366404606 0.0 ) \">\n        <line x1=\"0.0\" y1=\"295.1016346837242\" x2=\"537.0581836335954\" y2=\"295.1016346837242\" stroke=\"rgb(233,233,233)\" stroke-opacity=\"1.0\" stroke-width=\"1.0\">\n        </line>\n        <line x1=\"0.0\" y1=\"246.20326936744846\" x2=\"537.0581836335954\" y2=\"246.20326936744846\" stroke=\"rgb(233,233,233)\" stroke-opacity=\"1.0\" stroke-width=\"1.0\">\n        </line>\n        <line x1=\"0.0\" y1=\"197.3049040511727\" x2=\"537.0581836335954\" y2=\"197.3049040511727\" stroke=\"rgb(233,233,233)\" stroke-opacity=\"1.0\" stroke-width=\"1.0\">\n        </line>\n        <line x1=\"0.0\" y1=\"148.40653873489694\" x2=\"537.0581836335954\" y2=\"148.40653873489694\" stroke=\"rgb(233,233,233)\" stroke-opacity=\"1.0\" stroke-width=\"1.0\">\n        </line>\n        <line x1=\"0.0\" y1=\"99.50817341862117\" x2=\"537.0581836335954\" y2=\"99.50817341862117\" stroke=\"rgb(233,233,233)\" stroke-opacity=\"1.0\" stroke-width=\"1.0\">\n        </line>\n        <line x1=\"0.0\" y1=\"50.609808102345426\" x2=\"537.0581836335954\" y2=\"50.609808102345426\" stroke=\"rgb(233,233,233)\" stroke-opacity=\"1.0\" stroke-width=\"1.0\">\n        </line>\n        <g transform=\"translate(0.0 344.0 ) \">\n          <g transform=\"translate(-3.0 0.0 ) \">\n            <text class=\"axis-text-y\" text-anchor=\"end\" dy=\"0.35em\">\n            0\n            </text>\n          </g>\n        </g>\n        <g transform=\"translate(0.0 295.1016346837242 ) \">\n          <g transform=\"translate(-3.0 0.0 ) \">\n            <text class=\"axis-text-y\" text-anchor=\"end\" dy=\"0.35em\">\n            50\n            </text>\n          </g>\n        </g>\n        <g transform=\"translate(0.0 246.20326936744846 ) \">\n          <g transform=\"translate(-3.0 0.0 ) \">\n            <text class=\"axis-text-y\" text-anchor=\"end\" dy=\"0.35em\">\n            100\n            </text>\n          </g>\n        </g>\n        <g transform=\"translate(0.0 197.3049040511727 ) \">\n          <g transform=\"translate(-3.0 0.0 ) \">\n            <text class=\"axis-text-y\" text-anchor=\"end\" dy=\"0.35em\">\n            150\n            </text>\n          </g>\n        </g>\n        <g transform=\"translate(0.0 148.40653873489694 ) \">\n          <g transform=\"translate(-3.0 0.0 ) \">\n            <text class=\"axis-text-y\" text-anchor=\"end\" dy=\"0.35em\">\n            200\n            </text>\n          </g>\n        </g>\n        <g transform=\"translate(0.0 99.50817341862117 ) \">\n          <g transform=\"translate(-3.0 0.0 ) \">\n            <text class=\"axis-text-y\" text-anchor=\"end\" dy=\"0.35em\">\n            250\n            </text>\n          </g>\n        </g>\n        <g transform=\"translate(0.0 50.609808102345426 ) \">\n          <g transform=\"translate(-3.0 0.0 ) \">\n            <text class=\"axis-text-y\" text-anchor=\"end\" dy=\"0.35em\">\n            300\n            </text>\n          </g>\n        </g>\n        <g transform=\"translate(0.0 1.7114427860696537 ) \">\n          <g transform=\"translate(-3.0 0.0 ) \">\n            <text class=\"axis-text-y\" text-anchor=\"end\" dy=\"0.35em\">\n            350\n            </text>\n          </g>\n        </g>\n      </g>\n      <g transform=\"translate(29.941816366404606 0.0 ) \" clip-path=\"url(#cfnM6Ic)\" clip-bounds-jfx=\"[rect (0.0, 0.0), (537.0581836335954, 344.0)]\">\n        <defs>\n          <clipPath id=\"cfnM6Ic\">\n            <rect x=\"0.0\" y=\"0.0\" width=\"537.0581836335954\" height=\"344.0\">\n            </rect>\n          </clipPath>\n        </defs>\n        <rect x=\"468.2614741598703\" y=\"344.0\" height=\"0.1\" width=\"44.38497385401615\" stroke=\"rgb(0,0,0)\" stroke-opacity=\"0.0\" fill=\"rgb(17,142,216)\" fill-opacity=\"1.0\" stroke-width=\"1.0\">\n        </rect>\n        <rect x=\"418.9448365442968\" y=\"337.1542288557214\" height=\"6.845771144278615\" width=\"44.38497385401615\" stroke=\"rgb(0,0,0)\" stroke-opacity=\"0.0\" fill=\"rgb(17,142,216)\" fill-opacity=\"1.0\" stroke-width=\"1.0\">\n        </rect>\n        <rect x=\"369.62819892872335\" y=\"287.2778962331201\" height=\"56.72210376687991\" width=\"44.38497385401615\" stroke=\"rgb(0,0,0)\" stroke-opacity=\"0.0\" fill=\"rgb(17,142,216)\" fill-opacity=\"1.0\" stroke-width=\"1.0\">\n        </rect>\n        <rect x=\"320.3115613131498\" y=\"168.94385216773276\" height=\"175.05614783226724\" width=\"44.38497385401615\" stroke=\"rgb(0,0,0)\" stroke-opacity=\"0.0\" fill=\"rgb(17,142,216)\" fill-opacity=\"1.0\" stroke-width=\"1.0\">\n        </rect>\n        <rect x=\"270.9949236975763\" y=\"16.38095238095235\" height=\"327.61904761904765\" width=\"44.38497385401615\" stroke=\"rgb(0,0,0)\" stroke-opacity=\"0.0\" fill=\"rgb(17,142,216)\" fill-opacity=\"1.0\" stroke-width=\"1.0\">\n        </rect>\n        <rect x=\"221.67828608200284\" y=\"89.72850035536601\" height=\"254.271499644634\" width=\"44.38497385401615\" stroke=\"rgb(0,0,0)\" stroke-opacity=\"0.0\" fill=\"rgb(17,142,216)\" fill-opacity=\"1.0\" stroke-width=\"1.0\">\n        </rect>\n        <rect x=\"172.36164846642936\" y=\"222.7320540156361\" height=\"121.2679459843639\" width=\"44.38497385401615\" stroke=\"rgb(0,0,0)\" stroke-opacity=\"0.0\" fill=\"rgb(17,142,216)\" fill-opacity=\"1.0\" stroke-width=\"1.0\">\n        </rect>\n        <rect x=\"123.04501085085587\" y=\"312.7050461975835\" height=\"31.2949538024165\" width=\"44.38497385401615\" stroke=\"rgb(0,0,0)\" stroke-opacity=\"0.0\" fill=\"rgb(17,142,216)\" fill-opacity=\"1.0\" stroke-width=\"1.0\">\n        </rect>\n        <rect x=\"73.72837323528239\" y=\"340.08813077469796\" height=\"3.9118692253020413\" width=\"44.384973854016124\" stroke=\"rgb(0,0,0)\" stroke-opacity=\"0.0\" fill=\"rgb(17,142,216)\" fill-opacity=\"1.0\" stroke-width=\"1.0\">\n        </rect>\n        <rect x=\"24.411735619708878\" y=\"343.0220326936745\" height=\"0.9779673063255245\" width=\"44.38497385401615\" stroke=\"rgb(0,0,0)\" stroke-opacity=\"0.0\" fill=\"rgb(17,142,216)\" fill-opacity=\"1.0\" stroke-width=\"1.0\">\n        </rect>\n      </g>\n    </g>\n    <g transform=\"translate(14.5 182.0 ) rotate(-90.0 ) \">\n      <text class=\"axis-title-y\" y=\"0.0\" text-anchor=\"middle\">\n      STAT_COUNT\n      </text>\n    </g>\n    <g transform=\"translate(321.4709081832023 391.5 ) \">\n      <text class=\"axis-title-x\" y=\"0.0\" text-anchor=\"middle\">\n      STAT_BINS\n      </text>\n    </g>\n  </g>\n  <g id=\"dlBJb9f\">\n  </g>\n</svg>\n        <script>document.getElementById(\"92d7a652-1c34-440b-bd35-ec30451a4bb0\").style.display = \"none\";</script>",
      "application/plot+json": {
       "output_type": "lets_plot_spec",
       "output": {
        "mapping": {},
        "data": {},
        "kind": "plot",
        "scales": [
         {
          "aesthetic": "x",
          "limits": [
           null,
           null
          ]
         },
         {
          "aesthetic": "y",
          "limits": [
           null,
           null
          ]
         }
        ],
        "layers": [
         {
          "mapping": {
           "x": "STAT_BINS",
           "y": "STAT_COUNT"
          },
          "stat": "identity",
          "data": {
           "STAT_COUNT": [
            1.0,
            4.0,
            32.0,
            124.0,
            260.0,
            335.0,
            179.0,
            58.0,
            7.0,
            0.0
           ],
           "STAT_BINS": [
            -92.0,
            -72.0,
            -52.0,
            -32.0,
            -12.0,
            8.0,
            28.0,
            48.0,
            68.0,
            88.0
           ]
          },
          "sampling": "none",
          "position": "dodge",
          "geom": "bar"
         }
        ]
       },
       "apply_color_scheme": true,
       "swing_enabled": true
      }
     },
     "execution_count": 4,
     "metadata": {},
     "output_type": "execute_result"
    }
   ],
   "source": [
    "plot {\n",
    "    histogram(numbers, Bins.byWidth(20.0))\n",
    "}"
   ]
  },
  {
   "cell_type": "code",
   "execution_count": 5,
   "metadata": {},
   "outputs": [
    {
     "data": {
      "text/html": "            <script type=\"text/javascript\" data-lets-plot-script=\"library\" src=\"https://cdn.jsdelivr.net/gh/JetBrains/lets-plot@v3.1.0/js-package/distr/lets-plot.min.js\"></script>    \n               <div id=\"1FwvcV\"></div>\n   <script type=\"text/javascript\" data-lets-plot-script=\"plot\">\n       var plotSpec={\n\"mapping\":{\n},\n\"data\":{\n},\n\"kind\":\"plot\",\n\"scales\":[{\n\"aesthetic\":\"x\",\n\"limits\":[null,null]\n},{\n\"aesthetic\":\"y\",\n\"limits\":[null,null]\n}],\n\"layers\":[{\n\"mapping\":{\n\"x\":\"STAT_BINS\",\n\"y\":\"STAT_COUNT\"\n},\n\"stat\":\"identity\",\n\"data\":{\n\"STAT_COUNT\":[1.0,1.0,12.0,45.0,87.0,173.0,250.0,215.0,138.0,55.0,21.0,2.0],\n\"STAT_BINS\":[-89.85347222222222,-75.24375,-60.634027777777774,-46.02430555555556,-31.414583333333333,-16.80486111111111,-2.1951388888888914,12.41458333333334,27.024305555555557,41.63402777777779,56.243750000000006,70.85347222222222]\n},\n\"sampling\":\"none\",\n\"position\":\"dodge\",\n\"geom\":\"bar\"\n}]\n};\n       var plotContainer = document.getElementById(\"1FwvcV\");\n       LetsPlot.buildPlotFromProcessedSpecs(plotSpec, -1, -1, plotContainer);\n   </script>            \n        <svg id=ae522689-3f88-4e3c-b34f-4b7e4260116c xmlns=\"http://www.w3.org/2000/svg\" xmlns:xlink=\"http://www.w3.org/1999/xlink\" class=\"plt-container\" width=\"600.0\" height=\"400.0\">\n  <style type=\"text/css\">\n  .plt-container {\n   font-family: Lucida Grande, sans-serif;\n   user-select: none;\n   -webkit-user-select: none;\n   -moz-user-select: none;\n   -ms-user-select: none;\n}\ntext {\n   text-rendering: optimizeLegibility;\n}\n#ppZ502X .plot-title {\n   fill: #474747;\n   font-family: Lucida Grande, sans-serif;\n   font-size: 16.0px;\n   font-weight: normal;\n   font-style: normal;   \n}\n#ppZ502X .plot-subtitle {\n   fill: #474747;\n   font-family: Lucida Grande, sans-serif;\n   font-size: 15.0px;\n   font-weight: normal;\n   font-style: normal;   \n}\n#ppZ502X .plot-caption {\n   fill: #474747;\n   font-family: Lucida Grande, sans-serif;\n   font-size: 13.0px;\n   font-weight: normal;\n   font-style: normal;   \n}\n#ppZ502X .legend-title {\n   fill: #474747;\n   font-family: Lucida Grande, sans-serif;\n   font-size: 15.0px;\n   font-weight: normal;\n   font-style: normal;   \n}\n#ppZ502X .legend-item {\n   fill: #474747;\n   font-family: Lucida Grande, sans-serif;\n   font-size: 13.0px;\n   font-weight: normal;\n   font-style: normal;   \n}\n#ppZ502X .axis-title-x {\n   fill: #474747;\n   font-family: Lucida Grande, sans-serif;\n   font-size: 15.0px;\n   font-weight: normal;\n   font-style: normal;   \n}\n#ppZ502X .axis-text-x {\n   fill: #474747;\n   font-family: Lucida Grande, sans-serif;\n   font-size: 13.0px;\n   font-weight: normal;\n   font-style: normal;   \n}\n#diUe8bT .axis-tooltip-text-x {\n   fill: #ffffff;\n   font-family: Lucida Grande, sans-serif;\n   font-size: 13.0px;\n   font-weight: normal;\n   font-style: normal;   \n}\n#ppZ502X .axis-title-y {\n   fill: #474747;\n   font-family: Lucida Grande, sans-serif;\n   font-size: 15.0px;\n   font-weight: normal;\n   font-style: normal;   \n}\n#ppZ502X .axis-text-y {\n   fill: #474747;\n   font-family: Lucida Grande, sans-serif;\n   font-size: 13.0px;\n   font-weight: normal;\n   font-style: normal;   \n}\n#diUe8bT .axis-tooltip-text-y {\n   fill: #ffffff;\n   font-family: Lucida Grande, sans-serif;\n   font-size: 13.0px;\n   font-weight: normal;\n   font-style: normal;   \n}\n#ppZ502X .facet-strip-text-x {\n   fill: #474747;\n   font-family: Lucida Grande, sans-serif;\n   font-size: 13.0px;\n   font-weight: normal;\n   font-style: normal;   \n}\n#ppZ502X .facet-strip-text-y {\n   fill: #474747;\n   font-family: Lucida Grande, sans-serif;\n   font-size: 13.0px;\n   font-weight: normal;\n   font-style: normal;   \n}\n#diUe8bT .tooltip-text {\n   fill: #474747;\n   font-family: Lucida Grande, sans-serif;\n   font-size: 13.0px;\n   font-weight: normal;\n   font-style: normal;   \n}\n#diUe8bT .tooltip-title {\n   fill: #474747;\n   font-family: Lucida Grande, sans-serif;\n   font-size: 13.0px;\n   font-weight: bold;\n   font-style: normal;   \n}\n#diUe8bT .tooltip-label {\n   fill: #474747;\n   font-family: Lucida Grande, sans-serif;\n   font-size: 13.0px;\n   font-weight: bold;\n   font-style: normal;   \n}\n\n  </style>\n  <g id=\"ppZ502X\">\n    <rect x=\"0.0\" y=\"0.0\" height=\"400.0\" width=\"600.0\" stroke=\"rgb(71,71,71)\" stroke-opacity=\"1.0\" stroke-width=\"0.0\" fill=\"rgb(255,255,255)\" fill-opacity=\"1.0\">\n    </rect>\n    <g transform=\"translate(23.0 10.0 ) \">\n      <g transform=\"translate(29.941816366404606 344.0 ) \">\n        <line x1=\"14.380145974862955\" y1=\"-0.0\" x2=\"14.380145974862955\" y2=\"-344.0\" stroke=\"rgb(233,233,233)\" stroke-opacity=\"1.0\" stroke-width=\"1.0\">\n        </line>\n        <line x1=\"70.54565886810818\" y1=\"-0.0\" x2=\"70.54565886810818\" y2=\"-344.0\" stroke=\"rgb(233,233,233)\" stroke-opacity=\"1.0\" stroke-width=\"1.0\">\n        </line>\n        <line x1=\"126.71117176135343\" y1=\"-0.0\" x2=\"126.71117176135343\" y2=\"-344.0\" stroke=\"rgb(233,233,233)\" stroke-opacity=\"1.0\" stroke-width=\"1.0\">\n        </line>\n        <line x1=\"182.8766846545987\" y1=\"-0.0\" x2=\"182.8766846545987\" y2=\"-344.0\" stroke=\"rgb(233,233,233)\" stroke-opacity=\"1.0\" stroke-width=\"1.0\">\n        </line>\n        <line x1=\"239.04219754784395\" y1=\"-0.0\" x2=\"239.04219754784395\" y2=\"-344.0\" stroke=\"rgb(233,233,233)\" stroke-opacity=\"1.0\" stroke-width=\"1.0\">\n        </line>\n        <line x1=\"295.2077104410892\" y1=\"-0.0\" x2=\"295.2077104410892\" y2=\"-344.0\" stroke=\"rgb(233,233,233)\" stroke-opacity=\"1.0\" stroke-width=\"1.0\">\n        </line>\n        <line x1=\"351.37322333433445\" y1=\"-0.0\" x2=\"351.37322333433445\" y2=\"-344.0\" stroke=\"rgb(233,233,233)\" stroke-opacity=\"1.0\" stroke-width=\"1.0\">\n        </line>\n        <line x1=\"407.5387362275797\" y1=\"-0.0\" x2=\"407.5387362275797\" y2=\"-344.0\" stroke=\"rgb(233,233,233)\" stroke-opacity=\"1.0\" stroke-width=\"1.0\">\n        </line>\n        <line x1=\"463.704249120825\" y1=\"-0.0\" x2=\"463.704249120825\" y2=\"-344.0\" stroke=\"rgb(233,233,233)\" stroke-opacity=\"1.0\" stroke-width=\"1.0\">\n        </line>\n        <line x1=\"519.8697620140703\" y1=\"-0.0\" x2=\"519.8697620140703\" y2=\"-344.0\" stroke=\"rgb(233,233,233)\" stroke-opacity=\"1.0\" stroke-width=\"1.0\">\n        </line>\n        <g transform=\"translate(14.380145974862955 0.0 ) \">\n          <line stroke-width=\"1.0\" stroke=\"rgb(71,71,71)\" stroke-opacity=\"1.0\" x2=\"0.0\" y2=\"4.0\">\n          </line>\n          <g transform=\"translate(0.0 7.0 ) \">\n            <text class=\"axis-text-x\" text-anchor=\"middle\" dy=\"0.7em\">\n            -100\n            </text>\n          </g>\n        </g>\n        <g transform=\"translate(70.54565886810818 0.0 ) \">\n          <line stroke-width=\"1.0\" stroke=\"rgb(71,71,71)\" stroke-opacity=\"1.0\" x2=\"0.0\" y2=\"4.0\">\n          </line>\n          <g transform=\"translate(0.0 7.0 ) \">\n            <text class=\"axis-text-x\" text-anchor=\"middle\" dy=\"0.7em\">\n            -80\n            </text>\n          </g>\n        </g>\n        <g transform=\"translate(126.71117176135343 0.0 ) \">\n          <line stroke-width=\"1.0\" stroke=\"rgb(71,71,71)\" stroke-opacity=\"1.0\" x2=\"0.0\" y2=\"4.0\">\n          </line>\n          <g transform=\"translate(0.0 7.0 ) \">\n            <text class=\"axis-text-x\" text-anchor=\"middle\" dy=\"0.7em\">\n            -60\n            </text>\n          </g>\n        </g>\n        <g transform=\"translate(182.8766846545987 0.0 ) \">\n          <line stroke-width=\"1.0\" stroke=\"rgb(71,71,71)\" stroke-opacity=\"1.0\" x2=\"0.0\" y2=\"4.0\">\n          </line>\n          <g transform=\"translate(0.0 7.0 ) \">\n            <text class=\"axis-text-x\" text-anchor=\"middle\" dy=\"0.7em\">\n            -40\n            </text>\n          </g>\n        </g>\n        <g transform=\"translate(239.04219754784395 0.0 ) \">\n          <line stroke-width=\"1.0\" stroke=\"rgb(71,71,71)\" stroke-opacity=\"1.0\" x2=\"0.0\" y2=\"4.0\">\n          </line>\n          <g transform=\"translate(0.0 7.0 ) \">\n            <text class=\"axis-text-x\" text-anchor=\"middle\" dy=\"0.7em\">\n            -20\n            </text>\n          </g>\n        </g>\n        <g transform=\"translate(295.2077104410892 0.0 ) \">\n          <line stroke-width=\"1.0\" stroke=\"rgb(71,71,71)\" stroke-opacity=\"1.0\" x2=\"0.0\" y2=\"4.0\">\n          </line>\n          <g transform=\"translate(0.0 7.0 ) \">\n            <text class=\"axis-text-x\" text-anchor=\"middle\" dy=\"0.7em\">\n            0\n            </text>\n          </g>\n        </g>\n        <g transform=\"translate(351.37322333433445 0.0 ) \">\n          <line stroke-width=\"1.0\" stroke=\"rgb(71,71,71)\" stroke-opacity=\"1.0\" x2=\"0.0\" y2=\"4.0\">\n          </line>\n          <g transform=\"translate(0.0 7.0 ) \">\n            <text class=\"axis-text-x\" text-anchor=\"middle\" dy=\"0.7em\">\n            20\n            </text>\n          </g>\n        </g>\n        <g transform=\"translate(407.5387362275797 0.0 ) \">\n          <line stroke-width=\"1.0\" stroke=\"rgb(71,71,71)\" stroke-opacity=\"1.0\" x2=\"0.0\" y2=\"4.0\">\n          </line>\n          <g transform=\"translate(0.0 7.0 ) \">\n            <text class=\"axis-text-x\" text-anchor=\"middle\" dy=\"0.7em\">\n            40\n            </text>\n          </g>\n        </g>\n        <g transform=\"translate(463.704249120825 0.0 ) \">\n          <line stroke-width=\"1.0\" stroke=\"rgb(71,71,71)\" stroke-opacity=\"1.0\" x2=\"0.0\" y2=\"4.0\">\n          </line>\n          <g transform=\"translate(0.0 7.0 ) \">\n            <text class=\"axis-text-x\" text-anchor=\"middle\" dy=\"0.7em\">\n            60\n            </text>\n          </g>\n        </g>\n        <g transform=\"translate(519.8697620140703 0.0 ) \">\n          <line stroke-width=\"1.0\" stroke=\"rgb(71,71,71)\" stroke-opacity=\"1.0\" x2=\"0.0\" y2=\"4.0\">\n          </line>\n          <g transform=\"translate(0.0 7.0 ) \">\n            <text class=\"axis-text-x\" text-anchor=\"middle\" dy=\"0.7em\">\n            80\n            </text>\n          </g>\n        </g>\n        <line x1=\"0.0\" y1=\"0.0\" x2=\"537.0581836335954\" y2=\"0.0\" stroke-width=\"1.0\" stroke=\"rgb(71,71,71)\" stroke-opacity=\"1.0\">\n        </line>\n      </g>\n      <g transform=\"translate(29.941816366404606 0.0 ) \">\n        <line x1=\"0.0\" y1=\"278.4761904761905\" x2=\"537.0581836335954\" y2=\"278.4761904761905\" stroke=\"rgb(233,233,233)\" stroke-opacity=\"1.0\" stroke-width=\"1.0\">\n        </line>\n        <line x1=\"0.0\" y1=\"212.95238095238093\" x2=\"537.0581836335954\" y2=\"212.95238095238093\" stroke=\"rgb(233,233,233)\" stroke-opacity=\"1.0\" stroke-width=\"1.0\">\n        </line>\n        <line x1=\"0.0\" y1=\"147.42857142857142\" x2=\"537.0581836335954\" y2=\"147.42857142857142\" stroke=\"rgb(233,233,233)\" stroke-opacity=\"1.0\" stroke-width=\"1.0\">\n        </line>\n        <line x1=\"0.0\" y1=\"81.90476190476187\" x2=\"537.0581836335954\" y2=\"81.90476190476187\" stroke=\"rgb(233,233,233)\" stroke-opacity=\"1.0\" stroke-width=\"1.0\">\n        </line>\n        <line x1=\"0.0\" y1=\"16.38095238095235\" x2=\"537.0581836335954\" y2=\"16.38095238095235\" stroke=\"rgb(233,233,233)\" stroke-opacity=\"1.0\" stroke-width=\"1.0\">\n        </line>\n        <g transform=\"translate(0.0 344.0 ) \">\n          <g transform=\"translate(-3.0 0.0 ) \">\n            <text class=\"axis-text-y\" text-anchor=\"end\" dy=\"0.35em\">\n            0\n            </text>\n          </g>\n        </g>\n        <g transform=\"translate(0.0 278.4761904761905 ) \">\n          <g transform=\"translate(-3.0 0.0 ) \">\n            <text class=\"axis-text-y\" text-anchor=\"end\" dy=\"0.35em\">\n            50\n            </text>\n          </g>\n        </g>\n        <g transform=\"translate(0.0 212.95238095238093 ) \">\n          <g transform=\"translate(-3.0 0.0 ) \">\n            <text class=\"axis-text-y\" text-anchor=\"end\" dy=\"0.35em\">\n            100\n            </text>\n          </g>\n        </g>\n        <g transform=\"translate(0.0 147.42857142857142 ) \">\n          <g transform=\"translate(-3.0 0.0 ) \">\n            <text class=\"axis-text-y\" text-anchor=\"end\" dy=\"0.35em\">\n            150\n            </text>\n          </g>\n        </g>\n        <g transform=\"translate(0.0 81.90476190476187 ) \">\n          <g transform=\"translate(-3.0 0.0 ) \">\n            <text class=\"axis-text-y\" text-anchor=\"end\" dy=\"0.35em\">\n            200\n            </text>\n          </g>\n        </g>\n        <g transform=\"translate(0.0 16.38095238095235 ) \">\n          <g transform=\"translate(-3.0 0.0 ) \">\n            <text class=\"axis-text-y\" text-anchor=\"end\" dy=\"0.35em\">\n            250\n            </text>\n          </g>\n        </g>\n      </g>\n      <g transform=\"translate(29.941816366404606 0.0 ) \" clip-path=\"url(#cgbfjel)\" clip-bounds-jfx=\"[rect (0.0, 0.0), (537.0581836335954, 344.0)]\">\n        <defs>\n          <clipPath id=\"cgbfjel\">\n            <rect x=\"0.0\" y=\"0.0\" width=\"537.0581836335954\" height=\"344.0\">\n            </rect>\n          </clipPath>\n        </defs>\n        <rect x=\"475.72113363113357\" y=\"341.37904761904764\" height=\"2.6209523809523603\" width=\"36.9253143827529\" stroke=\"rgb(0,0,0)\" stroke-opacity=\"0.0\" fill=\"rgb(17,142,216)\" fill-opacity=\"1.0\" stroke-width=\"1.0\">\n        </rect>\n        <rect x=\"434.69300653918594\" y=\"316.48\" height=\"27.519999999999982\" width=\"36.9253143827529\" stroke=\"rgb(0,0,0)\" stroke-opacity=\"0.0\" fill=\"rgb(17,142,216)\" fill-opacity=\"1.0\" stroke-width=\"1.0\">\n        </rect>\n        <rect x=\"393.6648794472382\" y=\"271.9238095238095\" height=\"72.0761904761905\" width=\"36.92531438275296\" stroke=\"rgb(0,0,0)\" stroke-opacity=\"0.0\" fill=\"rgb(17,142,216)\" fill-opacity=\"1.0\" stroke-width=\"1.0\">\n        </rect>\n        <rect x=\"352.6367523552905\" y=\"163.1542857142857\" height=\"180.8457142857143\" width=\"36.9253143827529\" stroke=\"rgb(0,0,0)\" stroke-opacity=\"0.0\" fill=\"rgb(17,142,216)\" fill-opacity=\"1.0\" stroke-width=\"1.0\">\n        </rect>\n        <rect x=\"311.6086252633428\" y=\"62.247619047619025\" height=\"281.752380952381\" width=\"36.92531438275296\" stroke=\"rgb(0,0,0)\" stroke-opacity=\"0.0\" fill=\"rgb(17,142,216)\" fill-opacity=\"1.0\" stroke-width=\"1.0\">\n        </rect>\n        <rect x=\"270.5804981713951\" y=\"16.38095238095235\" height=\"327.61904761904765\" width=\"36.9253143827529\" stroke=\"rgb(0,0,0)\" stroke-opacity=\"0.0\" fill=\"rgb(17,142,216)\" fill-opacity=\"1.0\" stroke-width=\"1.0\">\n        </rect>\n        <rect x=\"229.55237107944743\" y=\"117.28761904761902\" height=\"226.71238095238098\" width=\"36.9253143827529\" stroke=\"rgb(0,0,0)\" stroke-opacity=\"0.0\" fill=\"rgb(17,142,216)\" fill-opacity=\"1.0\" stroke-width=\"1.0\">\n        </rect>\n        <rect x=\"188.52424398749972\" y=\"229.98857142857142\" height=\"114.01142857142858\" width=\"36.92531438275293\" stroke=\"rgb(0,0,0)\" stroke-opacity=\"0.0\" fill=\"rgb(17,142,216)\" fill-opacity=\"1.0\" stroke-width=\"1.0\">\n        </rect>\n        <rect x=\"147.496116895552\" y=\"285.0285714285714\" height=\"58.97142857142859\" width=\"36.92531438275293\" stroke=\"rgb(0,0,0)\" stroke-opacity=\"0.0\" fill=\"rgb(17,142,216)\" fill-opacity=\"1.0\" stroke-width=\"1.0\">\n        </rect>\n        <rect x=\"106.4679898036043\" y=\"328.2742857142857\" height=\"15.725714285714275\" width=\"36.9253143827529\" stroke=\"rgb(0,0,0)\" stroke-opacity=\"0.0\" fill=\"rgb(17,142,216)\" fill-opacity=\"1.0\" stroke-width=\"1.0\">\n        </rect>\n        <rect x=\"65.43986271165659\" y=\"342.6895238095238\" height=\"1.3104761904762086\" width=\"36.9253143827529\" stroke=\"rgb(0,0,0)\" stroke-opacity=\"0.0\" fill=\"rgb(17,142,216)\" fill-opacity=\"1.0\" stroke-width=\"1.0\">\n        </rect>\n        <rect x=\"24.411735619708907\" y=\"342.6895238095238\" height=\"1.3104761904762086\" width=\"36.9253143827529\" stroke=\"rgb(0,0,0)\" stroke-opacity=\"0.0\" fill=\"rgb(17,142,216)\" fill-opacity=\"1.0\" stroke-width=\"1.0\">\n        </rect>\n      </g>\n    </g>\n    <g transform=\"translate(14.5 182.0 ) rotate(-90.0 ) \">\n      <text class=\"axis-title-y\" y=\"0.0\" text-anchor=\"middle\">\n      STAT_COUNT\n      </text>\n    </g>\n    <g transform=\"translate(321.4709081832023 391.5 ) \">\n      <text class=\"axis-title-x\" y=\"0.0\" text-anchor=\"middle\">\n      STAT_BINS\n      </text>\n    </g>\n  </g>\n  <g id=\"diUe8bT\">\n  </g>\n</svg>\n        <script>document.getElementById(\"ae522689-3f88-4e3c-b34f-4b7e4260116c\").style.display = \"none\";</script>",
      "application/plot+json": {
       "output_type": "lets_plot_spec",
       "output": {
        "mapping": {},
        "data": {},
        "kind": "plot",
        "scales": [
         {
          "aesthetic": "x",
          "limits": [
           null,
           null
          ]
         },
         {
          "aesthetic": "y",
          "limits": [
           null,
           null
          ]
         }
        ],
        "layers": [
         {
          "mapping": {
           "x": "STAT_BINS",
           "y": "STAT_COUNT"
          },
          "stat": "identity",
          "data": {
           "STAT_COUNT": [
            1.0,
            1.0,
            12.0,
            45.0,
            87.0,
            173.0,
            250.0,
            215.0,
            138.0,
            55.0,
            21.0,
            2.0
           ],
           "STAT_BINS": [
            -89.85347,
            -75.24375,
            -60.63403,
            -46.024307,
            -31.414583,
            -16.804861,
            -2.195139,
            12.414583,
            27.024305,
            41.63403,
            56.24375,
            70.85347
           ]
          },
          "sampling": "none",
          "position": "dodge",
          "geom": "bar"
         }
        ]
       },
       "apply_color_scheme": true,
       "swing_enabled": true
      }
     },
     "execution_count": 5,
     "metadata": {},
     "output_type": "execute_result"
    }
   ],
   "source": [
    "plot {\n",
    "    histogram(numbers, Bins.byNumber(12))\n",
    "}"
   ]
  },
  {
   "cell_type": "code",
   "execution_count": 6,
   "metadata": {},
   "outputs": [
    {
     "data": {
      "text/html": "            <script type=\"text/javascript\" data-lets-plot-script=\"library\" src=\"https://cdn.jsdelivr.net/gh/JetBrains/lets-plot@v3.1.0/js-package/distr/lets-plot.min.js\"></script>    \n               <div id=\"sfEXm9\"></div>\n   <script type=\"text/javascript\" data-lets-plot-script=\"plot\">\n       var plotSpec={\n\"mapping\":{\n},\n\"data\":{\n},\n\"kind\":\"plot\",\n\"scales\":[{\n\"aesthetic\":\"x\",\n\"limits\":[null,null]\n},{\n\"aesthetic\":\"y\",\n\"limits\":[null,null]\n}],\n\"layers\":[{\n\"mapping\":{\n\"x\":\"STAT_BINS\",\n\"y\":\"STAT_DENSITY\"\n},\n\"stat\":\"identity\",\n\"data\":{\n\"STAT_DENSITY\":[1.2738853503184715E-4,0.0,1.2738853503184715E-4,6.369426751592356E-4,0.0011464968152866241,0.0022929936305732482,0.004713375796178343,0.007261146496815287,0.011592356687898089,0.012738853503184714,0.015414012738853502,0.02038216560509554,0.016305732484076435,0.01464968152866242,0.007261146496815287,0.006369426751592357,0.003821656050955414,0.0016560509554140127,6.369426751592356E-4,2.547770700636943E-4],\n\"STAT_BINS\":[-89.29525000000001,-80.89575,-72.49625,-64.09675000000001,-55.69725000000001,-47.29775000000001,-38.89825000000001,-30.498750000000015,-22.099250000000012,-13.699750000000009,-5.3002500000000055,3.0992499999999836,11.498749999999987,19.89824999999999,28.29774999999998,36.69724999999998,45.096749999999986,53.496249999999975,61.89574999999999,70.29524999999998]\n},\n\"sampling\":\"none\",\n\"position\":\"dodge\",\n\"geom\":\"bar\",\n\"fill\":\"#ea7ccc\"\n}]\n};\n       var plotContainer = document.getElementById(\"sfEXm9\");\n       LetsPlot.buildPlotFromProcessedSpecs(plotSpec, -1, -1, plotContainer);\n   </script>            \n        <svg id=edc67850-60fd-4138-a931-27399d186656 xmlns=\"http://www.w3.org/2000/svg\" xmlns:xlink=\"http://www.w3.org/1999/xlink\" class=\"plt-container\" width=\"600.0\" height=\"400.0\">\n  <style type=\"text/css\">\n  .plt-container {\n   font-family: Lucida Grande, sans-serif;\n   user-select: none;\n   -webkit-user-select: none;\n   -moz-user-select: none;\n   -ms-user-select: none;\n}\ntext {\n   text-rendering: optimizeLegibility;\n}\n#pzfDkGq .plot-title {\n   fill: #474747;\n   font-family: Lucida Grande, sans-serif;\n   font-size: 16.0px;\n   font-weight: normal;\n   font-style: normal;   \n}\n#pzfDkGq .plot-subtitle {\n   fill: #474747;\n   font-family: Lucida Grande, sans-serif;\n   font-size: 15.0px;\n   font-weight: normal;\n   font-style: normal;   \n}\n#pzfDkGq .plot-caption {\n   fill: #474747;\n   font-family: Lucida Grande, sans-serif;\n   font-size: 13.0px;\n   font-weight: normal;\n   font-style: normal;   \n}\n#pzfDkGq .legend-title {\n   fill: #474747;\n   font-family: Lucida Grande, sans-serif;\n   font-size: 15.0px;\n   font-weight: normal;\n   font-style: normal;   \n}\n#pzfDkGq .legend-item {\n   fill: #474747;\n   font-family: Lucida Grande, sans-serif;\n   font-size: 13.0px;\n   font-weight: normal;\n   font-style: normal;   \n}\n#pzfDkGq .axis-title-x {\n   fill: #474747;\n   font-family: Lucida Grande, sans-serif;\n   font-size: 15.0px;\n   font-weight: normal;\n   font-style: normal;   \n}\n#pzfDkGq .axis-text-x {\n   fill: #474747;\n   font-family: Lucida Grande, sans-serif;\n   font-size: 13.0px;\n   font-weight: normal;\n   font-style: normal;   \n}\n#dGRclKp .axis-tooltip-text-x {\n   fill: #ffffff;\n   font-family: Lucida Grande, sans-serif;\n   font-size: 13.0px;\n   font-weight: normal;\n   font-style: normal;   \n}\n#pzfDkGq .axis-title-y {\n   fill: #474747;\n   font-family: Lucida Grande, sans-serif;\n   font-size: 15.0px;\n   font-weight: normal;\n   font-style: normal;   \n}\n#pzfDkGq .axis-text-y {\n   fill: #474747;\n   font-family: Lucida Grande, sans-serif;\n   font-size: 13.0px;\n   font-weight: normal;\n   font-style: normal;   \n}\n#dGRclKp .axis-tooltip-text-y {\n   fill: #ffffff;\n   font-family: Lucida Grande, sans-serif;\n   font-size: 13.0px;\n   font-weight: normal;\n   font-style: normal;   \n}\n#pzfDkGq .facet-strip-text-x {\n   fill: #474747;\n   font-family: Lucida Grande, sans-serif;\n   font-size: 13.0px;\n   font-weight: normal;\n   font-style: normal;   \n}\n#pzfDkGq .facet-strip-text-y {\n   fill: #474747;\n   font-family: Lucida Grande, sans-serif;\n   font-size: 13.0px;\n   font-weight: normal;\n   font-style: normal;   \n}\n#dGRclKp .tooltip-text {\n   fill: #474747;\n   font-family: Lucida Grande, sans-serif;\n   font-size: 13.0px;\n   font-weight: normal;\n   font-style: normal;   \n}\n#dGRclKp .tooltip-title {\n   fill: #474747;\n   font-family: Lucida Grande, sans-serif;\n   font-size: 13.0px;\n   font-weight: bold;\n   font-style: normal;   \n}\n#dGRclKp .tooltip-label {\n   fill: #474747;\n   font-family: Lucida Grande, sans-serif;\n   font-size: 13.0px;\n   font-weight: bold;\n   font-style: normal;   \n}\n\n  </style>\n  <g id=\"pzfDkGq\">\n    <rect x=\"0.0\" y=\"0.0\" height=\"400.0\" width=\"600.0\" stroke=\"rgb(71,71,71)\" stroke-opacity=\"1.0\" stroke-width=\"0.0\" fill=\"rgb(255,255,255)\" fill-opacity=\"1.0\">\n    </rect>\n    <g transform=\"translate(23.0 10.0 ) \">\n      <g transform=\"translate(42.99591213121782 344.0 ) \">\n        <line x1=\"61.081383971304916\" y1=\"-0.0\" x2=\"61.081383971304916\" y2=\"-344.0\" stroke=\"rgb(233,233,233)\" stroke-opacity=\"1.0\" stroke-width=\"1.0\">\n        </line>\n        <line x1=\"118.08015275515916\" y1=\"-0.0\" x2=\"118.08015275515916\" y2=\"-344.0\" stroke=\"rgb(233,233,233)\" stroke-opacity=\"1.0\" stroke-width=\"1.0\">\n        </line>\n        <line x1=\"175.07892153901344\" y1=\"-0.0\" x2=\"175.07892153901344\" y2=\"-344.0\" stroke=\"rgb(233,233,233)\" stroke-opacity=\"1.0\" stroke-width=\"1.0\">\n        </line>\n        <line x1=\"232.07769032286768\" y1=\"-0.0\" x2=\"232.07769032286768\" y2=\"-344.0\" stroke=\"rgb(233,233,233)\" stroke-opacity=\"1.0\" stroke-width=\"1.0\">\n        </line>\n        <line x1=\"289.0764591067219\" y1=\"-0.0\" x2=\"289.0764591067219\" y2=\"-344.0\" stroke=\"rgb(233,233,233)\" stroke-opacity=\"1.0\" stroke-width=\"1.0\">\n        </line>\n        <line x1=\"346.0752278905762\" y1=\"-0.0\" x2=\"346.0752278905762\" y2=\"-344.0\" stroke=\"rgb(233,233,233)\" stroke-opacity=\"1.0\" stroke-width=\"1.0\">\n        </line>\n        <line x1=\"403.0739966744304\" y1=\"-0.0\" x2=\"403.0739966744304\" y2=\"-344.0\" stroke=\"rgb(233,233,233)\" stroke-opacity=\"1.0\" stroke-width=\"1.0\">\n        </line>\n        <line x1=\"460.0727654582847\" y1=\"-0.0\" x2=\"460.0727654582847\" y2=\"-344.0\" stroke=\"rgb(233,233,233)\" stroke-opacity=\"1.0\" stroke-width=\"1.0\">\n        </line>\n        <line x1=\"517.0715342421389\" y1=\"-0.0\" x2=\"517.0715342421389\" y2=\"-344.0\" stroke=\"rgb(233,233,233)\" stroke-opacity=\"1.0\" stroke-width=\"1.0\">\n        </line>\n        <g transform=\"translate(4.082615187450642 0.0 ) \">\n          <line stroke-width=\"1.0\" stroke=\"rgb(71,71,71)\" stroke-opacity=\"1.0\" x2=\"0.0\" y2=\"4.0\">\n          </line>\n          <g transform=\"translate(0.0 7.0 ) \">\n            <text class=\"axis-text-x\" text-anchor=\"middle\" dy=\"0.7em\">\n            -100\n            </text>\n          </g>\n        </g>\n        <g transform=\"translate(61.081383971304916 0.0 ) \">\n          <line stroke-width=\"1.0\" stroke=\"rgb(71,71,71)\" stroke-opacity=\"1.0\" x2=\"0.0\" y2=\"4.0\">\n          </line>\n          <g transform=\"translate(0.0 7.0 ) \">\n            <text class=\"axis-text-x\" text-anchor=\"middle\" dy=\"0.7em\">\n            -80\n            </text>\n          </g>\n        </g>\n        <g transform=\"translate(118.08015275515916 0.0 ) \">\n          <line stroke-width=\"1.0\" stroke=\"rgb(71,71,71)\" stroke-opacity=\"1.0\" x2=\"0.0\" y2=\"4.0\">\n          </line>\n          <g transform=\"translate(0.0 7.0 ) \">\n            <text class=\"axis-text-x\" text-anchor=\"middle\" dy=\"0.7em\">\n            -60\n            </text>\n          </g>\n        </g>\n        <g transform=\"translate(175.07892153901344 0.0 ) \">\n          <line stroke-width=\"1.0\" stroke=\"rgb(71,71,71)\" stroke-opacity=\"1.0\" x2=\"0.0\" y2=\"4.0\">\n          </line>\n          <g transform=\"translate(0.0 7.0 ) \">\n            <text class=\"axis-text-x\" text-anchor=\"middle\" dy=\"0.7em\">\n            -40\n            </text>\n          </g>\n        </g>\n        <g transform=\"translate(232.07769032286768 0.0 ) \">\n          <line stroke-width=\"1.0\" stroke=\"rgb(71,71,71)\" stroke-opacity=\"1.0\" x2=\"0.0\" y2=\"4.0\">\n          </line>\n          <g transform=\"translate(0.0 7.0 ) \">\n            <text class=\"axis-text-x\" text-anchor=\"middle\" dy=\"0.7em\">\n            -20\n            </text>\n          </g>\n        </g>\n        <g transform=\"translate(289.0764591067219 0.0 ) \">\n          <line stroke-width=\"1.0\" stroke=\"rgb(71,71,71)\" stroke-opacity=\"1.0\" x2=\"0.0\" y2=\"4.0\">\n          </line>\n          <g transform=\"translate(0.0 7.0 ) \">\n            <text class=\"axis-text-x\" text-anchor=\"middle\" dy=\"0.7em\">\n            0\n            </text>\n          </g>\n        </g>\n        <g transform=\"translate(346.0752278905762 0.0 ) \">\n          <line stroke-width=\"1.0\" stroke=\"rgb(71,71,71)\" stroke-opacity=\"1.0\" x2=\"0.0\" y2=\"4.0\">\n          </line>\n          <g transform=\"translate(0.0 7.0 ) \">\n            <text class=\"axis-text-x\" text-anchor=\"middle\" dy=\"0.7em\">\n            20\n            </text>\n          </g>\n        </g>\n        <g transform=\"translate(403.0739966744304 0.0 ) \">\n          <line stroke-width=\"1.0\" stroke=\"rgb(71,71,71)\" stroke-opacity=\"1.0\" x2=\"0.0\" y2=\"4.0\">\n          </line>\n          <g transform=\"translate(0.0 7.0 ) \">\n            <text class=\"axis-text-x\" text-anchor=\"middle\" dy=\"0.7em\">\n            40\n            </text>\n          </g>\n        </g>\n        <g transform=\"translate(460.0727654582847 0.0 ) \">\n          <line stroke-width=\"1.0\" stroke=\"rgb(71,71,71)\" stroke-opacity=\"1.0\" x2=\"0.0\" y2=\"4.0\">\n          </line>\n          <g transform=\"translate(0.0 7.0 ) \">\n            <text class=\"axis-text-x\" text-anchor=\"middle\" dy=\"0.7em\">\n            60\n            </text>\n          </g>\n        </g>\n        <g transform=\"translate(517.0715342421389 0.0 ) \">\n          <line stroke-width=\"1.0\" stroke=\"rgb(71,71,71)\" stroke-opacity=\"1.0\" x2=\"0.0\" y2=\"4.0\">\n          </line>\n          <g transform=\"translate(0.0 7.0 ) \">\n            <text class=\"axis-text-x\" text-anchor=\"middle\" dy=\"0.7em\">\n            80\n            </text>\n          </g>\n        </g>\n        <line x1=\"0.0\" y1=\"0.0\" x2=\"524.0040878687822\" y2=\"0.0\" stroke-width=\"1.0\" stroke=\"rgb(71,71,71)\" stroke-opacity=\"1.0\">\n        </line>\n      </g>\n      <g transform=\"translate(42.99591213121782 0.0 ) \">\n        <line x1=\"0.0\" y1=\"263.63095238095235\" x2=\"524.0040878687822\" y2=\"263.63095238095235\" stroke=\"rgb(233,233,233)\" stroke-opacity=\"1.0\" stroke-width=\"1.0\">\n        </line>\n        <line x1=\"0.0\" y1=\"183.26190476190473\" x2=\"524.0040878687822\" y2=\"183.26190476190473\" stroke=\"rgb(233,233,233)\" stroke-opacity=\"1.0\" stroke-width=\"1.0\">\n        </line>\n        <line x1=\"0.0\" y1=\"102.89285714285711\" x2=\"524.0040878687822\" y2=\"102.89285714285711\" stroke=\"rgb(233,233,233)\" stroke-opacity=\"1.0\" stroke-width=\"1.0\">\n        </line>\n        <line x1=\"0.0\" y1=\"22.52380952380946\" x2=\"524.0040878687822\" y2=\"22.52380952380946\" stroke=\"rgb(233,233,233)\" stroke-opacity=\"1.0\" stroke-width=\"1.0\">\n        </line>\n        <g transform=\"translate(0.0 344.0 ) \">\n          <g transform=\"translate(-3.0 0.0 ) \">\n            <text class=\"axis-text-y\" text-anchor=\"end\" dy=\"0.35em\">\n            0.000\n            </text>\n          </g>\n        </g>\n        <g transform=\"translate(0.0 263.63095238095235 ) \">\n          <g transform=\"translate(-3.0 0.0 ) \">\n            <text class=\"axis-text-y\" text-anchor=\"end\" dy=\"0.35em\">\n            0.005\n            </text>\n          </g>\n        </g>\n        <g transform=\"translate(0.0 183.26190476190473 ) \">\n          <g transform=\"translate(-3.0 0.0 ) \">\n            <text class=\"axis-text-y\" text-anchor=\"end\" dy=\"0.35em\">\n            0.010\n            </text>\n          </g>\n        </g>\n        <g transform=\"translate(0.0 102.89285714285711 ) \">\n          <g transform=\"translate(-3.0 0.0 ) \">\n            <text class=\"axis-text-y\" text-anchor=\"end\" dy=\"0.35em\">\n            0.015\n            </text>\n          </g>\n        </g>\n        <g transform=\"translate(0.0 22.52380952380946 ) \">\n          <g transform=\"translate(-3.0 0.0 ) \">\n            <text class=\"axis-text-y\" text-anchor=\"end\" dy=\"0.35em\">\n            0.020\n            </text>\n          </g>\n        </g>\n      </g>\n      <g transform=\"translate(42.99591213121782 0.0 ) \" clip-path=\"url(#c8DnQ48)\" clip-bounds-jfx=\"[rect (0.0, 0.0), (524.0040878687822, 344.0)]\">\n        <defs>\n          <clipPath id=\"c8DnQ48\">\n            <rect x=\"0.0\" y=\"0.0\" width=\"524.0040878687822\" height=\"344.0\">\n            </rect>\n          </clipPath>\n        </defs>\n        <rect x=\"478.6414681103838\" y=\"339.9047619047619\" height=\"4.095238095238074\" width=\"21.544252127999187\" stroke=\"rgb(0,0,0)\" stroke-opacity=\"0.0\" fill=\"rgb(234,124,204)\" fill-opacity=\"1.0\" stroke-width=\"1.0\">\n        </rect>\n        <rect x=\"454.7034101903846\" y=\"333.76190476190476\" height=\"10.23809523809524\" width=\"21.5442521279993\" stroke=\"rgb(0,0,0)\" stroke-opacity=\"0.0\" fill=\"rgb(234,124,204)\" fill-opacity=\"1.0\" stroke-width=\"1.0\">\n        </rect>\n        <rect x=\"430.7653522703854\" y=\"317.38095238095235\" height=\"26.61904761904765\" width=\"21.544252127999243\" stroke=\"rgb(0,0,0)\" stroke-opacity=\"0.0\" fill=\"rgb(234,124,204)\" fill-opacity=\"1.0\" stroke-width=\"1.0\">\n        </rect>\n        <rect x=\"406.82729435038624\" y=\"282.57142857142856\" height=\"61.428571428571445\" width=\"21.544252127999243\" stroke=\"rgb(0,0,0)\" stroke-opacity=\"0.0\" fill=\"rgb(234,124,204)\" fill-opacity=\"1.0\" stroke-width=\"1.0\">\n        </rect>\n        <rect x=\"382.88923643038703\" y=\"241.6190476190476\" height=\"102.38095238095241\" width=\"21.544252127999243\" stroke=\"rgb(0,0,0)\" stroke-opacity=\"0.0\" fill=\"rgb(234,124,204)\" fill-opacity=\"1.0\" stroke-width=\"1.0\">\n        </rect>\n        <rect x=\"358.9511785103878\" y=\"227.28571428571425\" height=\"116.71428571428575\" width=\"21.544252127999243\" stroke=\"rgb(0,0,0)\" stroke-opacity=\"0.0\" fill=\"rgb(234,124,204)\" fill-opacity=\"1.0\" stroke-width=\"1.0\">\n        </rect>\n        <rect x=\"335.01312059038867\" y=\"108.52380952380949\" height=\"235.4761904761905\" width=\"21.544252127999243\" stroke=\"rgb(0,0,0)\" stroke-opacity=\"0.0\" fill=\"rgb(234,124,204)\" fill-opacity=\"1.0\" stroke-width=\"1.0\">\n        </rect>\n        <rect x=\"311.07506267038946\" y=\"81.90476190476181\" height=\"262.0952380952382\" width=\"21.544252127999243\" stroke=\"rgb(0,0,0)\" stroke-opacity=\"0.0\" fill=\"rgb(234,124,204)\" fill-opacity=\"1.0\" stroke-width=\"1.0\">\n        </rect>\n        <rect x=\"287.13700475039025\" y=\"16.38095238095235\" height=\"327.61904761904765\" width=\"21.544252127999243\" stroke=\"rgb(0,0,0)\" stroke-opacity=\"0.0\" fill=\"rgb(234,124,204)\" fill-opacity=\"1.0\" stroke-width=\"1.0\">\n        </rect>\n        <rect x=\"263.1989468303911\" y=\"96.23809523809521\" height=\"247.7619047619048\" width=\"21.544252127999243\" stroke=\"rgb(0,0,0)\" stroke-opacity=\"0.0\" fill=\"rgb(234,124,204)\" fill-opacity=\"1.0\" stroke-width=\"1.0\">\n        </rect>\n        <rect x=\"239.2608889103919\" y=\"139.23809523809518\" height=\"204.76190476190482\" width=\"21.544252127999272\" stroke=\"rgb(0,0,0)\" stroke-opacity=\"0.0\" fill=\"rgb(234,124,204)\" fill-opacity=\"1.0\" stroke-width=\"1.0\">\n        </rect>\n        <rect x=\"215.32283099039273\" y=\"157.66666666666663\" height=\"186.33333333333337\" width=\"21.544252127999243\" stroke=\"rgb(0,0,0)\" stroke-opacity=\"0.0\" fill=\"rgb(234,124,204)\" fill-opacity=\"1.0\" stroke-width=\"1.0\">\n        </rect>\n        <rect x=\"191.38477307039352\" y=\"227.28571428571425\" height=\"116.71428571428575\" width=\"21.544252127999243\" stroke=\"rgb(0,0,0)\" stroke-opacity=\"0.0\" fill=\"rgb(234,124,204)\" fill-opacity=\"1.0\" stroke-width=\"1.0\">\n        </rect>\n        <rect x=\"167.44671515039434\" y=\"268.23809523809524\" height=\"75.76190476190476\" width=\"21.544252127999215\" stroke=\"rgb(0,0,0)\" stroke-opacity=\"0.0\" fill=\"rgb(234,124,204)\" fill-opacity=\"1.0\" stroke-width=\"1.0\">\n        </rect>\n        <rect x=\"143.50865723039516\" y=\"307.1428571428571\" height=\"36.85714285714289\" width=\"21.544252127999243\" stroke=\"rgb(0,0,0)\" stroke-opacity=\"0.0\" fill=\"rgb(234,124,204)\" fill-opacity=\"1.0\" stroke-width=\"1.0\">\n        </rect>\n        <rect x=\"119.57059931039595\" y=\"325.57142857142856\" height=\"18.428571428571445\" width=\"21.544252127999243\" stroke=\"rgb(0,0,0)\" stroke-opacity=\"0.0\" fill=\"rgb(234,124,204)\" fill-opacity=\"1.0\" stroke-width=\"1.0\">\n        </rect>\n        <rect x=\"95.63254139039674\" y=\"333.76190476190476\" height=\"10.23809523809524\" width=\"21.544252127999243\" stroke=\"rgb(0,0,0)\" stroke-opacity=\"0.0\" fill=\"rgb(234,124,204)\" fill-opacity=\"1.0\" stroke-width=\"1.0\">\n        </rect>\n        <rect x=\"71.69448347039759\" y=\"341.95238095238096\" height=\"2.047619047619037\" width=\"21.544252127999243\" stroke=\"rgb(0,0,0)\" stroke-opacity=\"0.0\" fill=\"rgb(234,124,204)\" fill-opacity=\"1.0\" stroke-width=\"1.0\">\n        </rect>\n        <rect x=\"47.756425550398376\" y=\"344.0\" height=\"0.1\" width=\"21.544252127999243\" stroke=\"rgb(0,0,0)\" stroke-opacity=\"0.0\" fill=\"rgb(234,124,204)\" fill-opacity=\"1.0\" stroke-width=\"1.0\">\n        </rect>\n        <rect x=\"23.818367630399166\" y=\"341.95238095238096\" height=\"2.047619047619037\" width=\"21.544252127999243\" stroke=\"rgb(0,0,0)\" stroke-opacity=\"0.0\" fill=\"rgb(234,124,204)\" fill-opacity=\"1.0\" stroke-width=\"1.0\">\n        </rect>\n      </g>\n    </g>\n    <g transform=\"translate(14.5 182.0 ) rotate(-90.0 ) \">\n      <text class=\"axis-title-y\" y=\"0.0\" text-anchor=\"middle\">\n      STAT_DENSITY\n      </text>\n    </g>\n    <g transform=\"translate(327.99795606560895 391.5 ) \">\n      <text class=\"axis-title-x\" y=\"0.0\" text-anchor=\"middle\">\n      STAT_BINS\n      </text>\n    </g>\n  </g>\n  <g id=\"dGRclKp\">\n  </g>\n</svg>\n        <script>document.getElementById(\"edc67850-60fd-4138-a931-27399d186656\").style.display = \"none\";</script>",
      "application/plot+json": {
       "output_type": "lets_plot_spec",
       "output": {
        "mapping": {},
        "data": {},
        "kind": "plot",
        "scales": [
         {
          "aesthetic": "x",
          "limits": [
           null,
           null
          ]
         },
         {
          "aesthetic": "y",
          "limits": [
           null,
           null
          ]
         }
        ],
        "layers": [
         {
          "mapping": {
           "x": "STAT_BINS",
           "y": "STAT_DENSITY"
          },
          "stat": "identity",
          "data": {
           "STAT_DENSITY": [
            1.2738853E-4,
            0.0,
            1.2738853E-4,
            6.369427E-4,
            0.0011464969,
            0.0022929937,
            0.0047133756,
            0.0072611463,
            0.0115923565,
            0.012738854,
            0.015414013,
            0.020382166,
            0.016305732,
            0.014649682,
            0.0072611463,
            0.006369427,
            0.003821656,
            0.0016560509,
            6.369427E-4,
            2.5477706E-4
           ],
           "STAT_COUNT": [
            1.0,
            0.0,
            1.0,
            5.0,
            9.0,
            18.0,
            37.0,
            57.0,
            91.0,
            100.0,
            121.0,
            160.0,
            128.0,
            115.0,
            57.0,
            50.0,
            30.0,
            13.0,
            5.0,
            2.0
           ],
           "STAT_BINS": [
            -89.29525,
            -80.89575,
            -72.49625,
            -64.09675,
            -55.69725,
            -47.29775,
            -38.89825,
            -30.49875,
            -22.09925,
            -13.69975,
            -5.30025,
            3.09925,
            11.49875,
            19.89825,
            28.29775,
            36.69725,
            45.09675,
            53.49625,
            61.89575,
            70.29525
           ]
          },
          "sampling": "none",
          "position": "dodge",
          "geom": "bar",
          "fill": "#ea7ccc"
         }
        ]
       },
       "apply_color_scheme": true,
       "swing_enabled": true
      }
     },
     "execution_count": 6,
     "metadata": {},
     "output_type": "execute_result"
    }
   ],
   "source": [
    "plot {\n",
    "    histogram(numbers) {\n",
    "        y(Stat.DENSITY)\n",
    "        fillColor = Color.LIGHT_PURPLE\n",
    "    }\n",
    "}"
   ]
  },
  {
   "cell_type": "code",
   "execution_count": 7,
   "metadata": {},
   "outputs": [],
   "source": [
    "val sampleDF = dataFrameOf(\"sample\" to numbers)"
   ]
  },
  {
   "cell_type": "code",
   "execution_count": 8,
   "metadata": {},
   "outputs": [
    {
     "data": {
      "text/html": "            <script type=\"text/javascript\" data-lets-plot-script=\"library\" src=\"https://cdn.jsdelivr.net/gh/JetBrains/lets-plot@v3.1.0/js-package/distr/lets-plot.min.js\"></script>    \n               <div id=\"Kxn9NV\"></div>\n   <script type=\"text/javascript\" data-lets-plot-script=\"plot\">\n       var plotSpec={\n\"mapping\":{\n},\n\"data\":{\n},\n\"kind\":\"plot\",\n\"scales\":[{\n\"aesthetic\":\"x\",\n\"limits\":[null,null]\n},{\n\"aesthetic\":\"y\",\n\"limits\":[null,null]\n}],\n\"layers\":[{\n\"mapping\":{\n\"x\":\"STAT_BINS\",\n\"y\":\"STAT_COUNT\"\n},\n\"stat\":\"identity\",\n\"data\":{\n\"STAT_COUNT\":[0.0,1.0,1.0,3.0,8.0,13.0,37.0,40.0,86.0,96.0,109.0,162.0,125.0,117.0,81.0,56.0,37.0,18.0,5.0,5.0],\n\"STAT_BINS\":[-92.3945,-83.99499999999999,-75.59549999999999,-67.196,-58.796499999999995,-50.39699999999999,-41.997499999999995,-33.598,-25.198499999999996,-16.798999999999992,-8.399499999999989,0.0,8.399500000000003,16.799000000000007,25.198499999999996,33.598,41.9975,50.39699999999999,58.79650000000001,67.196]\n},\n\"sampling\":\"none\",\n\"width\":0.5,\n\"position\":\"dodge\",\n\"geom\":\"bar\"\n}]\n};\n       var plotContainer = document.getElementById(\"Kxn9NV\");\n       LetsPlot.buildPlotFromProcessedSpecs(plotSpec, -1, -1, plotContainer);\n   </script>            \n        <svg id=9cbc6364-37f5-4718-8463-4bb7672b0363 xmlns=\"http://www.w3.org/2000/svg\" xmlns:xlink=\"http://www.w3.org/1999/xlink\" class=\"plt-container\" width=\"600.0\" height=\"400.0\">\n  <style type=\"text/css\">\n  .plt-container {\n   font-family: Lucida Grande, sans-serif;\n   user-select: none;\n   -webkit-user-select: none;\n   -moz-user-select: none;\n   -ms-user-select: none;\n}\ntext {\n   text-rendering: optimizeLegibility;\n}\n#prW1CMG .plot-title {\n   fill: #474747;\n   font-family: Lucida Grande, sans-serif;\n   font-size: 16.0px;\n   font-weight: normal;\n   font-style: normal;   \n}\n#prW1CMG .plot-subtitle {\n   fill: #474747;\n   font-family: Lucida Grande, sans-serif;\n   font-size: 15.0px;\n   font-weight: normal;\n   font-style: normal;   \n}\n#prW1CMG .plot-caption {\n   fill: #474747;\n   font-family: Lucida Grande, sans-serif;\n   font-size: 13.0px;\n   font-weight: normal;\n   font-style: normal;   \n}\n#prW1CMG .legend-title {\n   fill: #474747;\n   font-family: Lucida Grande, sans-serif;\n   font-size: 15.0px;\n   font-weight: normal;\n   font-style: normal;   \n}\n#prW1CMG .legend-item {\n   fill: #474747;\n   font-family: Lucida Grande, sans-serif;\n   font-size: 13.0px;\n   font-weight: normal;\n   font-style: normal;   \n}\n#prW1CMG .axis-title-x {\n   fill: #474747;\n   font-family: Lucida Grande, sans-serif;\n   font-size: 15.0px;\n   font-weight: normal;\n   font-style: normal;   \n}\n#prW1CMG .axis-text-x {\n   fill: #474747;\n   font-family: Lucida Grande, sans-serif;\n   font-size: 13.0px;\n   font-weight: normal;\n   font-style: normal;   \n}\n#dc2TlSx .axis-tooltip-text-x {\n   fill: #ffffff;\n   font-family: Lucida Grande, sans-serif;\n   font-size: 13.0px;\n   font-weight: normal;\n   font-style: normal;   \n}\n#prW1CMG .axis-title-y {\n   fill: #474747;\n   font-family: Lucida Grande, sans-serif;\n   font-size: 15.0px;\n   font-weight: normal;\n   font-style: normal;   \n}\n#prW1CMG .axis-text-y {\n   fill: #474747;\n   font-family: Lucida Grande, sans-serif;\n   font-size: 13.0px;\n   font-weight: normal;\n   font-style: normal;   \n}\n#dc2TlSx .axis-tooltip-text-y {\n   fill: #ffffff;\n   font-family: Lucida Grande, sans-serif;\n   font-size: 13.0px;\n   font-weight: normal;\n   font-style: normal;   \n}\n#prW1CMG .facet-strip-text-x {\n   fill: #474747;\n   font-family: Lucida Grande, sans-serif;\n   font-size: 13.0px;\n   font-weight: normal;\n   font-style: normal;   \n}\n#prW1CMG .facet-strip-text-y {\n   fill: #474747;\n   font-family: Lucida Grande, sans-serif;\n   font-size: 13.0px;\n   font-weight: normal;\n   font-style: normal;   \n}\n#dc2TlSx .tooltip-text {\n   fill: #474747;\n   font-family: Lucida Grande, sans-serif;\n   font-size: 13.0px;\n   font-weight: normal;\n   font-style: normal;   \n}\n#dc2TlSx .tooltip-title {\n   fill: #474747;\n   font-family: Lucida Grande, sans-serif;\n   font-size: 13.0px;\n   font-weight: bold;\n   font-style: normal;   \n}\n#dc2TlSx .tooltip-label {\n   fill: #474747;\n   font-family: Lucida Grande, sans-serif;\n   font-size: 13.0px;\n   font-weight: bold;\n   font-style: normal;   \n}\n\n  </style>\n  <g id=\"prW1CMG\">\n    <rect x=\"0.0\" y=\"0.0\" height=\"400.0\" width=\"600.0\" stroke=\"rgb(71,71,71)\" stroke-opacity=\"1.0\" stroke-width=\"0.0\" fill=\"rgb(255,255,255)\" fill-opacity=\"1.0\">\n    </rect>\n    <g transform=\"translate(23.0 10.0 ) \">\n      <g transform=\"translate(29.941816366404606 344.0 ) \">\n        <line x1=\"8.000274995983148\" y1=\"-0.0\" x2=\"8.000274995983148\" y2=\"-344.0\" stroke=\"rgb(233,233,233)\" stroke-opacity=\"1.0\" stroke-width=\"1.0\">\n        </line>\n        <line x1=\"67.61734162774877\" y1=\"-0.0\" x2=\"67.61734162774877\" y2=\"-344.0\" stroke=\"rgb(233,233,233)\" stroke-opacity=\"1.0\" stroke-width=\"1.0\">\n        </line>\n        <line x1=\"127.2344082595144\" y1=\"-0.0\" x2=\"127.2344082595144\" y2=\"-344.0\" stroke=\"rgb(233,233,233)\" stroke-opacity=\"1.0\" stroke-width=\"1.0\">\n        </line>\n        <line x1=\"186.85147489128005\" y1=\"-0.0\" x2=\"186.85147489128005\" y2=\"-344.0\" stroke=\"rgb(233,233,233)\" stroke-opacity=\"1.0\" stroke-width=\"1.0\">\n        </line>\n        <line x1=\"246.4685415230457\" y1=\"-0.0\" x2=\"246.4685415230457\" y2=\"-344.0\" stroke=\"rgb(233,233,233)\" stroke-opacity=\"1.0\" stroke-width=\"1.0\">\n        </line>\n        <line x1=\"306.0856081548113\" y1=\"-0.0\" x2=\"306.0856081548113\" y2=\"-344.0\" stroke=\"rgb(233,233,233)\" stroke-opacity=\"1.0\" stroke-width=\"1.0\">\n        </line>\n        <line x1=\"365.70267478657695\" y1=\"-0.0\" x2=\"365.70267478657695\" y2=\"-344.0\" stroke=\"rgb(233,233,233)\" stroke-opacity=\"1.0\" stroke-width=\"1.0\">\n        </line>\n        <line x1=\"425.3197414183426\" y1=\"-0.0\" x2=\"425.3197414183426\" y2=\"-344.0\" stroke=\"rgb(233,233,233)\" stroke-opacity=\"1.0\" stroke-width=\"1.0\">\n        </line>\n        <line x1=\"484.93680805010825\" y1=\"-0.0\" x2=\"484.93680805010825\" y2=\"-344.0\" stroke=\"rgb(233,233,233)\" stroke-opacity=\"1.0\" stroke-width=\"1.0\">\n        </line>\n        <g transform=\"translate(8.000274995983148 0.0 ) \">\n          <line stroke-width=\"1.0\" stroke=\"rgb(71,71,71)\" stroke-opacity=\"1.0\" x2=\"0.0\" y2=\"4.0\">\n          </line>\n          <g transform=\"translate(0.0 7.0 ) \">\n            <text class=\"axis-text-x\" text-anchor=\"middle\" dy=\"0.7em\">\n            -100\n            </text>\n          </g>\n        </g>\n        <g transform=\"translate(67.61734162774877 0.0 ) \">\n          <line stroke-width=\"1.0\" stroke=\"rgb(71,71,71)\" stroke-opacity=\"1.0\" x2=\"0.0\" y2=\"4.0\">\n          </line>\n          <g transform=\"translate(0.0 7.0 ) \">\n            <text class=\"axis-text-x\" text-anchor=\"middle\" dy=\"0.7em\">\n            -80\n            </text>\n          </g>\n        </g>\n        <g transform=\"translate(127.2344082595144 0.0 ) \">\n          <line stroke-width=\"1.0\" stroke=\"rgb(71,71,71)\" stroke-opacity=\"1.0\" x2=\"0.0\" y2=\"4.0\">\n          </line>\n          <g transform=\"translate(0.0 7.0 ) \">\n            <text class=\"axis-text-x\" text-anchor=\"middle\" dy=\"0.7em\">\n            -60\n            </text>\n          </g>\n        </g>\n        <g transform=\"translate(186.85147489128005 0.0 ) \">\n          <line stroke-width=\"1.0\" stroke=\"rgb(71,71,71)\" stroke-opacity=\"1.0\" x2=\"0.0\" y2=\"4.0\">\n          </line>\n          <g transform=\"translate(0.0 7.0 ) \">\n            <text class=\"axis-text-x\" text-anchor=\"middle\" dy=\"0.7em\">\n            -40\n            </text>\n          </g>\n        </g>\n        <g transform=\"translate(246.4685415230457 0.0 ) \">\n          <line stroke-width=\"1.0\" stroke=\"rgb(71,71,71)\" stroke-opacity=\"1.0\" x2=\"0.0\" y2=\"4.0\">\n          </line>\n          <g transform=\"translate(0.0 7.0 ) \">\n            <text class=\"axis-text-x\" text-anchor=\"middle\" dy=\"0.7em\">\n            -20\n            </text>\n          </g>\n        </g>\n        <g transform=\"translate(306.0856081548113 0.0 ) \">\n          <line stroke-width=\"1.0\" stroke=\"rgb(71,71,71)\" stroke-opacity=\"1.0\" x2=\"0.0\" y2=\"4.0\">\n          </line>\n          <g transform=\"translate(0.0 7.0 ) \">\n            <text class=\"axis-text-x\" text-anchor=\"middle\" dy=\"0.7em\">\n            0\n            </text>\n          </g>\n        </g>\n        <g transform=\"translate(365.70267478657695 0.0 ) \">\n          <line stroke-width=\"1.0\" stroke=\"rgb(71,71,71)\" stroke-opacity=\"1.0\" x2=\"0.0\" y2=\"4.0\">\n          </line>\n          <g transform=\"translate(0.0 7.0 ) \">\n            <text class=\"axis-text-x\" text-anchor=\"middle\" dy=\"0.7em\">\n            20\n            </text>\n          </g>\n        </g>\n        <g transform=\"translate(425.3197414183426 0.0 ) \">\n          <line stroke-width=\"1.0\" stroke=\"rgb(71,71,71)\" stroke-opacity=\"1.0\" x2=\"0.0\" y2=\"4.0\">\n          </line>\n          <g transform=\"translate(0.0 7.0 ) \">\n            <text class=\"axis-text-x\" text-anchor=\"middle\" dy=\"0.7em\">\n            40\n            </text>\n          </g>\n        </g>\n        <g transform=\"translate(484.93680805010825 0.0 ) \">\n          <line stroke-width=\"1.0\" stroke=\"rgb(71,71,71)\" stroke-opacity=\"1.0\" x2=\"0.0\" y2=\"4.0\">\n          </line>\n          <g transform=\"translate(0.0 7.0 ) \">\n            <text class=\"axis-text-x\" text-anchor=\"middle\" dy=\"0.7em\">\n            60\n            </text>\n          </g>\n        </g>\n        <line x1=\"0.0\" y1=\"0.0\" x2=\"537.0581836335954\" y2=\"0.0\" stroke-width=\"1.0\" stroke=\"rgb(71,71,71)\" stroke-opacity=\"1.0\">\n        </line>\n      </g>\n      <g transform=\"translate(29.941816366404606 0.0 ) \">\n        <line x1=\"0.0\" y1=\"303.55320399764844\" x2=\"537.0581836335954\" y2=\"303.55320399764844\" stroke=\"rgb(233,233,233)\" stroke-opacity=\"1.0\" stroke-width=\"1.0\">\n        </line>\n        <line x1=\"0.0\" y1=\"263.1064079952969\" x2=\"537.0581836335954\" y2=\"263.1064079952969\" stroke=\"rgb(233,233,233)\" stroke-opacity=\"1.0\" stroke-width=\"1.0\">\n        </line>\n        <line x1=\"0.0\" y1=\"222.65961199294532\" x2=\"537.0581836335954\" y2=\"222.65961199294532\" stroke=\"rgb(233,233,233)\" stroke-opacity=\"1.0\" stroke-width=\"1.0\">\n        </line>\n        <line x1=\"0.0\" y1=\"182.21281599059375\" x2=\"537.0581836335954\" y2=\"182.21281599059375\" stroke=\"rgb(233,233,233)\" stroke-opacity=\"1.0\" stroke-width=\"1.0\">\n        </line>\n        <line x1=\"0.0\" y1=\"141.7660199882422\" x2=\"537.0581836335954\" y2=\"141.7660199882422\" stroke=\"rgb(233,233,233)\" stroke-opacity=\"1.0\" stroke-width=\"1.0\">\n        </line>\n        <line x1=\"0.0\" y1=\"101.31922398589063\" x2=\"537.0581836335954\" y2=\"101.31922398589063\" stroke=\"rgb(233,233,233)\" stroke-opacity=\"1.0\" stroke-width=\"1.0\">\n        </line>\n        <line x1=\"0.0\" y1=\"60.87242798353907\" x2=\"537.0581836335954\" y2=\"60.87242798353907\" stroke=\"rgb(233,233,233)\" stroke-opacity=\"1.0\" stroke-width=\"1.0\">\n        </line>\n        <line x1=\"0.0\" y1=\"20.425631981187507\" x2=\"537.0581836335954\" y2=\"20.425631981187507\" stroke=\"rgb(233,233,233)\" stroke-opacity=\"1.0\" stroke-width=\"1.0\">\n        </line>\n        <g transform=\"translate(0.0 344.0 ) \">\n          <g transform=\"translate(-3.0 0.0 ) \">\n            <text class=\"axis-text-y\" text-anchor=\"end\" dy=\"0.35em\">\n            0\n            </text>\n          </g>\n        </g>\n        <g transform=\"translate(0.0 303.55320399764844 ) \">\n          <g transform=\"translate(-3.0 0.0 ) \">\n            <text class=\"axis-text-y\" text-anchor=\"end\" dy=\"0.35em\">\n            20\n            </text>\n          </g>\n        </g>\n        <g transform=\"translate(0.0 263.1064079952969 ) \">\n          <g transform=\"translate(-3.0 0.0 ) \">\n            <text class=\"axis-text-y\" text-anchor=\"end\" dy=\"0.35em\">\n            40\n            </text>\n          </g>\n        </g>\n        <g transform=\"translate(0.0 222.65961199294532 ) \">\n          <g transform=\"translate(-3.0 0.0 ) \">\n            <text class=\"axis-text-y\" text-anchor=\"end\" dy=\"0.35em\">\n            60\n            </text>\n          </g>\n        </g>\n        <g transform=\"translate(0.0 182.21281599059375 ) \">\n          <g transform=\"translate(-3.0 0.0 ) \">\n            <text class=\"axis-text-y\" text-anchor=\"end\" dy=\"0.35em\">\n            80\n            </text>\n          </g>\n        </g>\n        <g transform=\"translate(0.0 141.7660199882422 ) \">\n          <g transform=\"translate(-3.0 0.0 ) \">\n            <text class=\"axis-text-y\" text-anchor=\"end\" dy=\"0.35em\">\n            100\n            </text>\n          </g>\n        </g>\n        <g transform=\"translate(0.0 101.31922398589063 ) \">\n          <g transform=\"translate(-3.0 0.0 ) \">\n            <text class=\"axis-text-y\" text-anchor=\"end\" dy=\"0.35em\">\n            120\n            </text>\n          </g>\n        </g>\n        <g transform=\"translate(0.0 60.87242798353907 ) \">\n          <g transform=\"translate(-3.0 0.0 ) \">\n            <text class=\"axis-text-y\" text-anchor=\"end\" dy=\"0.35em\">\n            140\n            </text>\n          </g>\n        </g>\n        <g transform=\"translate(0.0 20.425631981187507 ) \">\n          <g transform=\"translate(-3.0 0.0 ) \">\n            <text class=\"axis-text-y\" text-anchor=\"end\" dy=\"0.35em\">\n            160\n            </text>\n          </g>\n        </g>\n      </g>\n      <g transform=\"translate(29.941816366404606 0.0 ) \" clip-path=\"url(#czc46UB)\" clip-bounds-jfx=\"[rect (0.0, 0.0), (537.0581836335954, 344.0)]\">\n        <defs>\n          <clipPath id=\"czc46UB\">\n            <rect x=\"0.0\" y=\"0.0\" width=\"537.0581836335954\" height=\"344.0\">\n            </rect>\n          </clipPath>\n        </defs>\n        <rect x=\"500.1276092345486\" y=\"333.8883009994121\" height=\"10.111699000587919\" width=\"12.518838779337898\" stroke=\"rgb(0,0,0)\" stroke-opacity=\"0.0\" fill=\"rgb(17,142,216)\" fill-opacity=\"1.0\" stroke-width=\"1.0\">\n        </rect>\n        <rect x=\"475.08993167587283\" y=\"333.8883009994121\" height=\"10.111699000587919\" width=\"12.518838779337841\" stroke=\"rgb(0,0,0)\" stroke-opacity=\"0.0\" fill=\"rgb(17,142,216)\" fill-opacity=\"1.0\" stroke-width=\"1.0\">\n        </rect>\n        <rect x=\"450.052254117197\" y=\"307.5978835978836\" height=\"36.402116402116405\" width=\"12.518838779337898\" stroke=\"rgb(0,0,0)\" stroke-opacity=\"0.0\" fill=\"rgb(17,142,216)\" fill-opacity=\"1.0\" stroke-width=\"1.0\">\n        </rect>\n        <rect x=\"425.0145765585213\" y=\"269.1734273956496\" height=\"74.82657260435042\" width=\"12.518838779337841\" stroke=\"rgb(0,0,0)\" stroke-opacity=\"0.0\" fill=\"rgb(17,142,216)\" fill-opacity=\"1.0\" stroke-width=\"1.0\">\n        </rect>\n        <rect x=\"399.9768989998455\" y=\"230.74897119341563\" height=\"113.25102880658437\" width=\"12.518838779337841\" stroke=\"rgb(0,0,0)\" stroke-opacity=\"0.0\" fill=\"rgb(17,142,216)\" fill-opacity=\"1.0\" stroke-width=\"1.0\">\n        </rect>\n        <rect x=\"374.9392214411697\" y=\"180.19047619047618\" height=\"163.80952380952382\" width=\"12.518838779337898\" stroke=\"rgb(0,0,0)\" stroke-opacity=\"0.0\" fill=\"rgb(17,142,216)\" fill-opacity=\"1.0\" stroke-width=\"1.0\">\n        </rect>\n        <rect x=\"349.90154388249397\" y=\"107.38624338624336\" height=\"236.61375661375664\" width=\"12.518838779337841\" stroke=\"rgb(0,0,0)\" stroke-opacity=\"0.0\" fill=\"rgb(17,142,216)\" fill-opacity=\"1.0\" stroke-width=\"1.0\">\n        </rect>\n        <rect x=\"324.8638663238182\" y=\"91.20752498530274\" height=\"252.79247501469726\" width=\"12.518838779337898\" stroke=\"rgb(0,0,0)\" stroke-opacity=\"0.0\" fill=\"rgb(17,142,216)\" fill-opacity=\"1.0\" stroke-width=\"1.0\">\n        </rect>\n        <rect x=\"299.8261887651424\" y=\"16.38095238095235\" height=\"327.61904761904765\" width=\"12.518838779337898\" stroke=\"rgb(0,0,0)\" stroke-opacity=\"0.0\" fill=\"rgb(17,142,216)\" fill-opacity=\"1.0\" stroke-width=\"1.0\">\n        </rect>\n        <rect x=\"274.78851120646664\" y=\"123.56496178718399\" height=\"220.435038212816\" width=\"12.518838779337898\" stroke=\"rgb(0,0,0)\" stroke-opacity=\"0.0\" fill=\"rgb(17,142,216)\" fill-opacity=\"1.0\" stroke-width=\"1.0\">\n        </rect>\n        <rect x=\"249.75083364779087\" y=\"149.8553791887125\" height=\"194.1446208112875\" width=\"12.51883877933787\" stroke=\"rgb(0,0,0)\" stroke-opacity=\"0.0\" fill=\"rgb(17,142,216)\" fill-opacity=\"1.0\" stroke-width=\"1.0\">\n        </rect>\n        <rect x=\"224.71315608911507\" y=\"170.07877718988829\" height=\"173.92122281011171\" width=\"12.51883877933787\" stroke=\"rgb(0,0,0)\" stroke-opacity=\"0.0\" fill=\"rgb(17,142,216)\" fill-opacity=\"1.0\" stroke-width=\"1.0\">\n        </rect>\n        <rect x=\"199.6754785304393\" y=\"263.1064079952969\" height=\"80.89359200470312\" width=\"12.518838779337841\" stroke=\"rgb(0,0,0)\" stroke-opacity=\"0.0\" fill=\"rgb(17,142,216)\" fill-opacity=\"1.0\" stroke-width=\"1.0\">\n        </rect>\n        <rect x=\"174.63780097176354\" y=\"269.1734273956496\" height=\"74.82657260435042\" width=\"12.51883877933787\" stroke=\"rgb(0,0,0)\" stroke-opacity=\"0.0\" fill=\"rgb(17,142,216)\" fill-opacity=\"1.0\" stroke-width=\"1.0\">\n        </rect>\n        <rect x=\"149.60012341308777\" y=\"317.70958259847146\" height=\"26.290417401528543\" width=\"12.51883877933787\" stroke=\"rgb(0,0,0)\" stroke-opacity=\"0.0\" fill=\"rgb(17,142,216)\" fill-opacity=\"1.0\" stroke-width=\"1.0\">\n        </rect>\n        <rect x=\"124.56244585441198\" y=\"327.8212815990594\" height=\"16.178718400940625\" width=\"12.51883877933787\" stroke=\"rgb(0,0,0)\" stroke-opacity=\"0.0\" fill=\"rgb(17,142,216)\" fill-opacity=\"1.0\" stroke-width=\"1.0\">\n        </rect>\n        <rect x=\"99.52476829573621\" y=\"337.9329805996473\" height=\"6.067019400352706\" width=\"12.51883877933787\" stroke=\"rgb(0,0,0)\" stroke-opacity=\"0.0\" fill=\"rgb(17,142,216)\" fill-opacity=\"1.0\" stroke-width=\"1.0\">\n        </rect>\n        <rect x=\"74.48709073706047\" y=\"341.9776601998824\" height=\"2.0223398001176065\" width=\"12.51883877933787\" stroke=\"rgb(0,0,0)\" stroke-opacity=\"0.0\" fill=\"rgb(17,142,216)\" fill-opacity=\"1.0\" stroke-width=\"1.0\">\n        </rect>\n        <rect x=\"49.4494131783847\" y=\"341.9776601998824\" height=\"2.0223398001176065\" width=\"12.518838779337841\" stroke=\"rgb(0,0,0)\" stroke-opacity=\"0.0\" fill=\"rgb(17,142,216)\" fill-opacity=\"1.0\" stroke-width=\"1.0\">\n        </rect>\n        <rect x=\"24.411735619708907\" y=\"344.0\" height=\"0.1\" width=\"12.518838779337841\" stroke=\"rgb(0,0,0)\" stroke-opacity=\"0.0\" fill=\"rgb(17,142,216)\" fill-opacity=\"1.0\" stroke-width=\"1.0\">\n        </rect>\n      </g>\n    </g>\n    <g transform=\"translate(14.5 182.0 ) rotate(-90.0 ) \">\n      <text class=\"axis-title-y\" y=\"0.0\" text-anchor=\"middle\">\n      STAT_COUNT\n      </text>\n    </g>\n    <g transform=\"translate(321.4709081832023 391.5 ) \">\n      <text class=\"axis-title-x\" y=\"0.0\" text-anchor=\"middle\">\n      STAT_BINS\n      </text>\n    </g>\n  </g>\n  <g id=\"dc2TlSx\">\n  </g>\n</svg>\n        <script>document.getElementById(\"9cbc6364-37f5-4718-8463-4bb7672b0363\").style.display = \"none\";</script>",
      "application/plot+json": {
       "output_type": "lets_plot_spec",
       "output": {
        "mapping": {},
        "data": {},
        "kind": "plot",
        "scales": [
         {
          "aesthetic": "x",
          "limits": [
           null,
           null
          ]
         },
         {
          "aesthetic": "y",
          "limits": [
           null,
           null
          ]
         }
        ],
        "layers": [
         {
          "mapping": {
           "x": "STAT_BINS",
           "y": "STAT_COUNT"
          },
          "stat": "identity",
          "data": {
           "STAT_COUNT": [
            0.0,
            1.0,
            1.0,
            3.0,
            8.0,
            13.0,
            37.0,
            40.0,
            86.0,
            96.0,
            109.0,
            162.0,
            125.0,
            117.0,
            81.0,
            56.0,
            37.0,
            18.0,
            5.0,
            5.0
           ],
           "STAT_BINS": [
            -92.3945,
            -83.995,
            -75.5955,
            -67.196,
            -58.7965,
            -50.397,
            -41.9975,
            -33.598,
            -25.1985,
            -16.799,
            -8.3995,
            0.0,
            8.3995,
            16.799,
            25.1985,
            33.598,
            41.9975,
            50.397,
            58.7965,
            67.196
           ]
          },
          "sampling": "none",
          "width": 0.5,
          "position": "dodge",
          "geom": "bar"
         }
        ]
       },
       "apply_color_scheme": true,
       "swing_enabled": true
      }
     },
     "execution_count": 8,
     "metadata": {},
     "output_type": "execute_result"
    }
   ],
   "source": [
    "sampleDF.plot { \n",
    "    histogram(sample, binXPos = BinXPos.center(0.0)) {\n",
    "        width = 0.5\n",
    "    }\n",
    "}"
   ]
  },
  {
   "cell_type": "code",
   "execution_count": 9,
   "metadata": {},
   "outputs": [
    {
     "data": {
      "text/html": "            <script type=\"text/javascript\" data-lets-plot-script=\"library\" src=\"https://cdn.jsdelivr.net/gh/JetBrains/lets-plot@v3.1.0/js-package/distr/lets-plot.min.js\"></script>    \n               <div id=\"oPd19z\"></div>\n   <script type=\"text/javascript\" data-lets-plot-script=\"plot\">\n       var plotSpec={\n\"mapping\":{\n},\n\"data\":{\n},\n\"kind\":\"plot\",\n\"scales\":[{\n\"aesthetic\":\"x\",\n\"limits\":[null,null]\n},{\n\"aesthetic\":\"y\",\n\"limits\":[null,null]\n}],\n\"layers\":[{\n\"mapping\":{\n\"x\":\"STAT_BINS\",\n\"y\":\"STAT_COUNT\"\n},\n\"stat\":\"identity\",\n\"data\":{\n\"STAT_COUNT\":[1.0,0.0,4.0,11.0,30.0,62.0,111.0,160.0,190.0,187.0,120.0,74.0,32.0,13.0,5.0],\n\"STAT_BINS\":[-91.54844444444444,-80.1048888888889,-68.66133333333333,-57.217777777777776,-45.77422222222222,-34.330666666666666,-22.88711111111111,-11.443555555555548,0.0,11.443555555555548,22.88711111111111,34.33066666666667,45.77422222222222,57.21777777777777,68.66133333333335]\n},\n\"sampling\":\"none\",\n\"position\":\"dodge\",\n\"geom\":\"bar\"\n}]\n};\n       var plotContainer = document.getElementById(\"oPd19z\");\n       LetsPlot.buildPlotFromProcessedSpecs(plotSpec, -1, -1, plotContainer);\n   </script>            \n        <svg id=d2b6273d-d663-407d-bbec-d8ad66befb91 xmlns=\"http://www.w3.org/2000/svg\" xmlns:xlink=\"http://www.w3.org/1999/xlink\" class=\"plt-container\" width=\"600.0\" height=\"400.0\">\n  <style type=\"text/css\">\n  .plt-container {\n   font-family: Lucida Grande, sans-serif;\n   user-select: none;\n   -webkit-user-select: none;\n   -moz-user-select: none;\n   -ms-user-select: none;\n}\ntext {\n   text-rendering: optimizeLegibility;\n}\n#pd4j0Xk .plot-title {\n   fill: #474747;\n   font-family: Lucida Grande, sans-serif;\n   font-size: 16.0px;\n   font-weight: normal;\n   font-style: normal;   \n}\n#pd4j0Xk .plot-subtitle {\n   fill: #474747;\n   font-family: Lucida Grande, sans-serif;\n   font-size: 15.0px;\n   font-weight: normal;\n   font-style: normal;   \n}\n#pd4j0Xk .plot-caption {\n   fill: #474747;\n   font-family: Lucida Grande, sans-serif;\n   font-size: 13.0px;\n   font-weight: normal;\n   font-style: normal;   \n}\n#pd4j0Xk .legend-title {\n   fill: #474747;\n   font-family: Lucida Grande, sans-serif;\n   font-size: 15.0px;\n   font-weight: normal;\n   font-style: normal;   \n}\n#pd4j0Xk .legend-item {\n   fill: #474747;\n   font-family: Lucida Grande, sans-serif;\n   font-size: 13.0px;\n   font-weight: normal;\n   font-style: normal;   \n}\n#pd4j0Xk .axis-title-x {\n   fill: #474747;\n   font-family: Lucida Grande, sans-serif;\n   font-size: 15.0px;\n   font-weight: normal;\n   font-style: normal;   \n}\n#pd4j0Xk .axis-text-x {\n   fill: #474747;\n   font-family: Lucida Grande, sans-serif;\n   font-size: 13.0px;\n   font-weight: normal;\n   font-style: normal;   \n}\n#dCPglKi .axis-tooltip-text-x {\n   fill: #ffffff;\n   font-family: Lucida Grande, sans-serif;\n   font-size: 13.0px;\n   font-weight: normal;\n   font-style: normal;   \n}\n#pd4j0Xk .axis-title-y {\n   fill: #474747;\n   font-family: Lucida Grande, sans-serif;\n   font-size: 15.0px;\n   font-weight: normal;\n   font-style: normal;   \n}\n#pd4j0Xk .axis-text-y {\n   fill: #474747;\n   font-family: Lucida Grande, sans-serif;\n   font-size: 13.0px;\n   font-weight: normal;\n   font-style: normal;   \n}\n#dCPglKi .axis-tooltip-text-y {\n   fill: #ffffff;\n   font-family: Lucida Grande, sans-serif;\n   font-size: 13.0px;\n   font-weight: normal;\n   font-style: normal;   \n}\n#pd4j0Xk .facet-strip-text-x {\n   fill: #474747;\n   font-family: Lucida Grande, sans-serif;\n   font-size: 13.0px;\n   font-weight: normal;\n   font-style: normal;   \n}\n#pd4j0Xk .facet-strip-text-y {\n   fill: #474747;\n   font-family: Lucida Grande, sans-serif;\n   font-size: 13.0px;\n   font-weight: normal;\n   font-style: normal;   \n}\n#dCPglKi .tooltip-text {\n   fill: #474747;\n   font-family: Lucida Grande, sans-serif;\n   font-size: 13.0px;\n   font-weight: normal;\n   font-style: normal;   \n}\n#dCPglKi .tooltip-title {\n   fill: #474747;\n   font-family: Lucida Grande, sans-serif;\n   font-size: 13.0px;\n   font-weight: bold;\n   font-style: normal;   \n}\n#dCPglKi .tooltip-label {\n   fill: #474747;\n   font-family: Lucida Grande, sans-serif;\n   font-size: 13.0px;\n   font-weight: bold;\n   font-style: normal;   \n}\n\n  </style>\n  <g id=\"pd4j0Xk\">\n    <rect x=\"0.0\" y=\"0.0\" height=\"400.0\" width=\"600.0\" stroke=\"rgb(71,71,71)\" stroke-opacity=\"1.0\" stroke-width=\"0.0\" fill=\"rgb(255,255,255)\" fill-opacity=\"1.0\">\n    </rect>\n    <g transform=\"translate(23.0 10.0 ) \">\n      <g transform=\"translate(29.941816366404606 344.0 ) \">\n        <line x1=\"14.956929532570769\" y1=\"-0.0\" x2=\"14.956929532570769\" y2=\"-344.0\" stroke=\"rgb(233,233,233)\" stroke-opacity=\"1.0\" stroke-width=\"1.0\">\n        </line>\n        <line x1=\"72.2248480618212\" y1=\"-0.0\" x2=\"72.2248480618212\" y2=\"-344.0\" stroke=\"rgb(233,233,233)\" stroke-opacity=\"1.0\" stroke-width=\"1.0\">\n        </line>\n        <line x1=\"129.49276659107167\" y1=\"-0.0\" x2=\"129.49276659107167\" y2=\"-344.0\" stroke=\"rgb(233,233,233)\" stroke-opacity=\"1.0\" stroke-width=\"1.0\">\n        </line>\n        <line x1=\"186.7606851203221\" y1=\"-0.0\" x2=\"186.7606851203221\" y2=\"-344.0\" stroke=\"rgb(233,233,233)\" stroke-opacity=\"1.0\" stroke-width=\"1.0\">\n        </line>\n        <line x1=\"244.02860364957257\" y1=\"-0.0\" x2=\"244.02860364957257\" y2=\"-344.0\" stroke=\"rgb(233,233,233)\" stroke-opacity=\"1.0\" stroke-width=\"1.0\">\n        </line>\n        <line x1=\"301.296522178823\" y1=\"-0.0\" x2=\"301.296522178823\" y2=\"-344.0\" stroke=\"rgb(233,233,233)\" stroke-opacity=\"1.0\" stroke-width=\"1.0\">\n        </line>\n        <line x1=\"358.56444070807345\" y1=\"-0.0\" x2=\"358.56444070807345\" y2=\"-344.0\" stroke=\"rgb(233,233,233)\" stroke-opacity=\"1.0\" stroke-width=\"1.0\">\n        </line>\n        <line x1=\"415.8323592373239\" y1=\"-0.0\" x2=\"415.8323592373239\" y2=\"-344.0\" stroke=\"rgb(233,233,233)\" stroke-opacity=\"1.0\" stroke-width=\"1.0\">\n        </line>\n        <line x1=\"473.1002777665743\" y1=\"-0.0\" x2=\"473.1002777665743\" y2=\"-344.0\" stroke=\"rgb(233,233,233)\" stroke-opacity=\"1.0\" stroke-width=\"1.0\">\n        </line>\n        <line x1=\"530.3681962958249\" y1=\"-0.0\" x2=\"530.3681962958249\" y2=\"-344.0\" stroke=\"rgb(233,233,233)\" stroke-opacity=\"1.0\" stroke-width=\"1.0\">\n        </line>\n        <g transform=\"translate(14.956929532570769 0.0 ) \">\n          <line stroke-width=\"1.0\" stroke=\"rgb(71,71,71)\" stroke-opacity=\"1.0\" x2=\"0.0\" y2=\"4.0\">\n          </line>\n          <g transform=\"translate(0.0 7.0 ) \">\n            <text class=\"axis-text-x\" text-anchor=\"middle\" dy=\"0.7em\">\n            -100\n            </text>\n          </g>\n        </g>\n        <g transform=\"translate(72.2248480618212 0.0 ) \">\n          <line stroke-width=\"1.0\" stroke=\"rgb(71,71,71)\" stroke-opacity=\"1.0\" x2=\"0.0\" y2=\"4.0\">\n          </line>\n          <g transform=\"translate(0.0 7.0 ) \">\n            <text class=\"axis-text-x\" text-anchor=\"middle\" dy=\"0.7em\">\n            -80\n            </text>\n          </g>\n        </g>\n        <g transform=\"translate(129.49276659107167 0.0 ) \">\n          <line stroke-width=\"1.0\" stroke=\"rgb(71,71,71)\" stroke-opacity=\"1.0\" x2=\"0.0\" y2=\"4.0\">\n          </line>\n          <g transform=\"translate(0.0 7.0 ) \">\n            <text class=\"axis-text-x\" text-anchor=\"middle\" dy=\"0.7em\">\n            -60\n            </text>\n          </g>\n        </g>\n        <g transform=\"translate(186.7606851203221 0.0 ) \">\n          <line stroke-width=\"1.0\" stroke=\"rgb(71,71,71)\" stroke-opacity=\"1.0\" x2=\"0.0\" y2=\"4.0\">\n          </line>\n          <g transform=\"translate(0.0 7.0 ) \">\n            <text class=\"axis-text-x\" text-anchor=\"middle\" dy=\"0.7em\">\n            -40\n            </text>\n          </g>\n        </g>\n        <g transform=\"translate(244.02860364957257 0.0 ) \">\n          <line stroke-width=\"1.0\" stroke=\"rgb(71,71,71)\" stroke-opacity=\"1.0\" x2=\"0.0\" y2=\"4.0\">\n          </line>\n          <g transform=\"translate(0.0 7.0 ) \">\n            <text class=\"axis-text-x\" text-anchor=\"middle\" dy=\"0.7em\">\n            -20\n            </text>\n          </g>\n        </g>\n        <g transform=\"translate(301.296522178823 0.0 ) \">\n          <line stroke-width=\"1.0\" stroke=\"rgb(71,71,71)\" stroke-opacity=\"1.0\" x2=\"0.0\" y2=\"4.0\">\n          </line>\n          <g transform=\"translate(0.0 7.0 ) \">\n            <text class=\"axis-text-x\" text-anchor=\"middle\" dy=\"0.7em\">\n            0\n            </text>\n          </g>\n        </g>\n        <g transform=\"translate(358.56444070807345 0.0 ) \">\n          <line stroke-width=\"1.0\" stroke=\"rgb(71,71,71)\" stroke-opacity=\"1.0\" x2=\"0.0\" y2=\"4.0\">\n          </line>\n          <g transform=\"translate(0.0 7.0 ) \">\n            <text class=\"axis-text-x\" text-anchor=\"middle\" dy=\"0.7em\">\n            20\n            </text>\n          </g>\n        </g>\n        <g transform=\"translate(415.8323592373239 0.0 ) \">\n          <line stroke-width=\"1.0\" stroke=\"rgb(71,71,71)\" stroke-opacity=\"1.0\" x2=\"0.0\" y2=\"4.0\">\n          </line>\n          <g transform=\"translate(0.0 7.0 ) \">\n            <text class=\"axis-text-x\" text-anchor=\"middle\" dy=\"0.7em\">\n            40\n            </text>\n          </g>\n        </g>\n        <g transform=\"translate(473.1002777665743 0.0 ) \">\n          <line stroke-width=\"1.0\" stroke=\"rgb(71,71,71)\" stroke-opacity=\"1.0\" x2=\"0.0\" y2=\"4.0\">\n          </line>\n          <g transform=\"translate(0.0 7.0 ) \">\n            <text class=\"axis-text-x\" text-anchor=\"middle\" dy=\"0.7em\">\n            60\n            </text>\n          </g>\n        </g>\n        <g transform=\"translate(530.3681962958249 0.0 ) \">\n          <line stroke-width=\"1.0\" stroke=\"rgb(71,71,71)\" stroke-opacity=\"1.0\" x2=\"0.0\" y2=\"4.0\">\n          </line>\n          <g transform=\"translate(0.0 7.0 ) \">\n            <text class=\"axis-text-x\" text-anchor=\"middle\" dy=\"0.7em\">\n            80\n            </text>\n          </g>\n        </g>\n        <line x1=\"0.0\" y1=\"0.0\" x2=\"537.0581836335954\" y2=\"0.0\" stroke-width=\"1.0\" stroke=\"rgb(71,71,71)\" stroke-opacity=\"1.0\">\n        </line>\n      </g>\n      <g transform=\"translate(29.941816366404606 0.0 ) \">\n        <line x1=\"0.0\" y1=\"309.5137844611529\" x2=\"537.0581836335954\" y2=\"309.5137844611529\" stroke=\"rgb(233,233,233)\" stroke-opacity=\"1.0\" stroke-width=\"1.0\">\n        </line>\n        <line x1=\"0.0\" y1=\"275.02756892230576\" x2=\"537.0581836335954\" y2=\"275.02756892230576\" stroke=\"rgb(233,233,233)\" stroke-opacity=\"1.0\" stroke-width=\"1.0\">\n        </line>\n        <line x1=\"0.0\" y1=\"240.54135338345867\" x2=\"537.0581836335954\" y2=\"240.54135338345867\" stroke=\"rgb(233,233,233)\" stroke-opacity=\"1.0\" stroke-width=\"1.0\">\n        </line>\n        <line x1=\"0.0\" y1=\"206.05513784461152\" x2=\"537.0581836335954\" y2=\"206.05513784461152\" stroke=\"rgb(233,233,233)\" stroke-opacity=\"1.0\" stroke-width=\"1.0\">\n        </line>\n        <line x1=\"0.0\" y1=\"171.56892230576443\" x2=\"537.0581836335954\" y2=\"171.56892230576443\" stroke=\"rgb(233,233,233)\" stroke-opacity=\"1.0\" stroke-width=\"1.0\">\n        </line>\n        <line x1=\"0.0\" y1=\"137.0827067669173\" x2=\"537.0581836335954\" y2=\"137.0827067669173\" stroke=\"rgb(233,233,233)\" stroke-opacity=\"1.0\" stroke-width=\"1.0\">\n        </line>\n        <line x1=\"0.0\" y1=\"102.59649122807019\" x2=\"537.0581836335954\" y2=\"102.59649122807019\" stroke=\"rgb(233,233,233)\" stroke-opacity=\"1.0\" stroke-width=\"1.0\">\n        </line>\n        <line x1=\"0.0\" y1=\"68.11027568922304\" x2=\"537.0581836335954\" y2=\"68.11027568922304\" stroke=\"rgb(233,233,233)\" stroke-opacity=\"1.0\" stroke-width=\"1.0\">\n        </line>\n        <line x1=\"0.0\" y1=\"33.62406015037595\" x2=\"537.0581836335954\" y2=\"33.62406015037595\" stroke=\"rgb(233,233,233)\" stroke-opacity=\"1.0\" stroke-width=\"1.0\">\n        </line>\n        <g transform=\"translate(0.0 344.0 ) \">\n          <g transform=\"translate(-3.0 0.0 ) \">\n            <text class=\"axis-text-y\" text-anchor=\"end\" dy=\"0.35em\">\n            0\n            </text>\n          </g>\n        </g>\n        <g transform=\"translate(0.0 309.5137844611529 ) \">\n          <g transform=\"translate(-3.0 0.0 ) \">\n            <text class=\"axis-text-y\" text-anchor=\"end\" dy=\"0.35em\">\n            20\n            </text>\n          </g>\n        </g>\n        <g transform=\"translate(0.0 275.02756892230576 ) \">\n          <g transform=\"translate(-3.0 0.0 ) \">\n            <text class=\"axis-text-y\" text-anchor=\"end\" dy=\"0.35em\">\n            40\n            </text>\n          </g>\n        </g>\n        <g transform=\"translate(0.0 240.54135338345867 ) \">\n          <g transform=\"translate(-3.0 0.0 ) \">\n            <text class=\"axis-text-y\" text-anchor=\"end\" dy=\"0.35em\">\n            60\n            </text>\n          </g>\n        </g>\n        <g transform=\"translate(0.0 206.05513784461152 ) \">\n          <g transform=\"translate(-3.0 0.0 ) \">\n            <text class=\"axis-text-y\" text-anchor=\"end\" dy=\"0.35em\">\n            80\n            </text>\n          </g>\n        </g>\n        <g transform=\"translate(0.0 171.56892230576443 ) \">\n          <g transform=\"translate(-3.0 0.0 ) \">\n            <text class=\"axis-text-y\" text-anchor=\"end\" dy=\"0.35em\">\n            100\n            </text>\n          </g>\n        </g>\n        <g transform=\"translate(0.0 137.0827067669173 ) \">\n          <g transform=\"translate(-3.0 0.0 ) \">\n            <text class=\"axis-text-y\" text-anchor=\"end\" dy=\"0.35em\">\n            120\n            </text>\n          </g>\n        </g>\n        <g transform=\"translate(0.0 102.59649122807019 ) \">\n          <g transform=\"translate(-3.0 0.0 ) \">\n            <text class=\"axis-text-y\" text-anchor=\"end\" dy=\"0.35em\">\n            140\n            </text>\n          </g>\n        </g>\n        <g transform=\"translate(0.0 68.11027568922304 ) \">\n          <g transform=\"translate(-3.0 0.0 ) \">\n            <text class=\"axis-text-y\" text-anchor=\"end\" dy=\"0.35em\">\n            160\n            </text>\n          </g>\n        </g>\n        <g transform=\"translate(0.0 33.62406015037595 ) \">\n          <g transform=\"translate(-3.0 0.0 ) \">\n            <text class=\"axis-text-y\" text-anchor=\"end\" dy=\"0.35em\">\n            180\n            </text>\n          </g>\n        </g>\n      </g>\n      <g transform=\"translate(29.941816366404606 0.0 ) \" clip-path=\"url(#ccSxgL6)\" clip-bounds-jfx=\"[rect (0.0, 0.0), (537.0581836335954, 344.0)]\">\n        <defs>\n          <clipPath id=\"ccSxgL6\">\n            <rect x=\"0.0\" y=\"0.0\" width=\"537.0581836335954\" height=\"344.0\">\n            </rect>\n          </clipPath>\n        </defs>\n        <rect x=\"483.1557606880637\" y=\"335.3784461152882\" height=\"8.621553884711773\" width=\"29.490687325822762\" stroke=\"rgb(0,0,0)\" stroke-opacity=\"0.0\" fill=\"rgb(17,142,216)\" fill-opacity=\"1.0\" stroke-width=\"1.0\">\n        </rect>\n        <rect x=\"450.3883303260383\" y=\"321.5839598997494\" height=\"22.416040100250598\" width=\"29.49068732582282\" stroke=\"rgb(0,0,0)\" stroke-opacity=\"0.0\" fill=\"rgb(17,142,216)\" fill-opacity=\"1.0\" stroke-width=\"1.0\">\n        </rect>\n        <rect x=\"417.620899964013\" y=\"288.8220551378446\" height=\"55.177944862155414\" width=\"29.490687325822762\" stroke=\"rgb(0,0,0)\" stroke-opacity=\"0.0\" fill=\"rgb(17,142,216)\" fill-opacity=\"1.0\" stroke-width=\"1.0\">\n        </rect>\n        <rect x=\"384.8534696019877\" y=\"216.40100250626568\" height=\"127.59899749373432\" width=\"29.490687325822762\" stroke=\"rgb(0,0,0)\" stroke-opacity=\"0.0\" fill=\"rgb(17,142,216)\" fill-opacity=\"1.0\" stroke-width=\"1.0\">\n        </rect>\n        <rect x=\"352.0860392399623\" y=\"137.0827067669173\" height=\"206.9172932330827\" width=\"29.49068732582282\" stroke=\"rgb(0,0,0)\" stroke-opacity=\"0.0\" fill=\"rgb(17,142,216)\" fill-opacity=\"1.0\" stroke-width=\"1.0\">\n        </rect>\n        <rect x=\"319.3186088779369\" y=\"21.55388471177946\" height=\"322.44611528822054\" width=\"29.49068732582282\" stroke=\"rgb(0,0,0)\" stroke-opacity=\"0.0\" fill=\"rgb(17,142,216)\" fill-opacity=\"1.0\" stroke-width=\"1.0\">\n        </rect>\n        <rect x=\"286.5511785159116\" y=\"16.380952380952408\" height=\"327.6190476190476\" width=\"29.49068732582282\" stroke=\"rgb(0,0,0)\" stroke-opacity=\"0.0\" fill=\"rgb(17,142,216)\" fill-opacity=\"1.0\" stroke-width=\"1.0\">\n        </rect>\n        <rect x=\"253.78374815388628\" y=\"68.11027568922304\" height=\"275.88972431077696\" width=\"29.49068732582282\" stroke=\"rgb(0,0,0)\" stroke-opacity=\"0.0\" fill=\"rgb(17,142,216)\" fill-opacity=\"1.0\" stroke-width=\"1.0\">\n        </rect>\n        <rect x=\"221.01631779186093\" y=\"152.6015037593985\" height=\"191.3984962406015\" width=\"29.49068732582279\" stroke=\"rgb(0,0,0)\" stroke-opacity=\"0.0\" fill=\"rgb(17,142,216)\" fill-opacity=\"1.0\" stroke-width=\"1.0\">\n        </rect>\n        <rect x=\"188.24888742983558\" y=\"237.09273182957395\" height=\"106.90726817042605\" width=\"29.49068732582279\" stroke=\"rgb(0,0,0)\" stroke-opacity=\"0.0\" fill=\"rgb(17,142,216)\" fill-opacity=\"1.0\" stroke-width=\"1.0\">\n        </rect>\n        <rect x=\"155.48145706781023\" y=\"292.2706766917293\" height=\"51.72932330827069\" width=\"29.49068732582279\" stroke=\"rgb(0,0,0)\" stroke-opacity=\"0.0\" fill=\"rgb(17,142,216)\" fill-opacity=\"1.0\" stroke-width=\"1.0\">\n        </rect>\n        <rect x=\"122.71402670578487\" y=\"325.03258145363407\" height=\"18.967418546365934\" width=\"29.49068732582279\" stroke=\"rgb(0,0,0)\" stroke-opacity=\"0.0\" fill=\"rgb(17,142,216)\" fill-opacity=\"1.0\" stroke-width=\"1.0\">\n        </rect>\n        <rect x=\"89.94659634375955\" y=\"337.10275689223056\" height=\"6.897243107769441\" width=\"29.49068732582279\" stroke=\"rgb(0,0,0)\" stroke-opacity=\"0.0\" fill=\"rgb(17,142,216)\" fill-opacity=\"1.0\" stroke-width=\"1.0\">\n        </rect>\n        <rect x=\"57.1791659817342\" y=\"344.0\" height=\"0.1\" width=\"29.49068732582279\" stroke=\"rgb(0,0,0)\" stroke-opacity=\"0.0\" fill=\"rgb(17,142,216)\" fill-opacity=\"1.0\" stroke-width=\"1.0\">\n        </rect>\n        <rect x=\"24.41173561970885\" y=\"342.27568922305767\" height=\"1.7243107769423318\" width=\"29.49068732582282\" stroke=\"rgb(0,0,0)\" stroke-opacity=\"0.0\" fill=\"rgb(17,142,216)\" fill-opacity=\"1.0\" stroke-width=\"1.0\">\n        </rect>\n      </g>\n    </g>\n    <g transform=\"translate(14.5 182.0 ) rotate(-90.0 ) \">\n      <text class=\"axis-title-y\" y=\"0.0\" text-anchor=\"middle\">\n      STAT_COUNT\n      </text>\n    </g>\n    <g transform=\"translate(321.4709081832023 391.5 ) \">\n      <text class=\"axis-title-x\" y=\"0.0\" text-anchor=\"middle\">\n      STAT_BINS\n      </text>\n    </g>\n  </g>\n  <g id=\"dCPglKi\">\n  </g>\n</svg>\n        <script>document.getElementById(\"d2b6273d-d663-407d-bbec-d8ad66befb91\").style.display = \"none\";</script>",
      "application/plot+json": {
       "output_type": "lets_plot_spec",
       "output": {
        "mapping": {},
        "data": {},
        "kind": "plot",
        "scales": [
         {
          "aesthetic": "x",
          "limits": [
           null,
           null
          ]
         },
         {
          "aesthetic": "y",
          "limits": [
           null,
           null
          ]
         }
        ],
        "layers": [
         {
          "mapping": {
           "x": "STAT_BINS",
           "y": "STAT_COUNT"
          },
          "stat": "identity",
          "data": {
           "STAT_COUNT": [
            1.0,
            0.0,
            4.0,
            11.0,
            30.0,
            62.0,
            111.0,
            160.0,
            190.0,
            187.0,
            120.0,
            74.0,
            32.0,
            13.0,
            5.0
           ],
           "STAT_BINS": [
            -91.54845,
            -80.10489,
            -68.66133,
            -57.217777,
            -45.774223,
            -34.330666,
            -22.887112,
            -11.443556,
            0.0,
            11.443556,
            22.887112,
            34.330666,
            45.774223,
            57.217777,
            68.66133
           ]
          },
          "sampling": "none",
          "position": "dodge",
          "geom": "bar"
         }
        ]
       },
       "apply_color_scheme": true,
       "swing_enabled": true
      }
     },
     "execution_count": 9,
     "metadata": {},
     "output_type": "execute_result"
    }
   ],
   "source": [
    "sampleDF.plot { \n",
    "    statBin(sample, Bins.byNumber(15), binXPos = BinXPos.center(0.0)) {\n",
    "        bars { \n",
    "            x(Stat.BINS)\n",
    "            y(Stat.COUNT)\n",
    "        }\n",
    "    }\n",
    "}"
   ]
  },
  {
   "cell_type": "code",
   "execution_count": 10,
   "metadata": {},
   "outputs": [
    {
     "data": {
      "text/html": "            <script type=\"text/javascript\" data-lets-plot-script=\"library\" src=\"https://cdn.jsdelivr.net/gh/JetBrains/lets-plot@v3.1.0/js-package/distr/lets-plot.min.js\"></script>    \n               <div id=\"2Tj3He\"></div>\n   <script type=\"text/javascript\" data-lets-plot-script=\"plot\">\n       var plotSpec={\n\"mapping\":{\n},\n\"data\":{\n},\n\"kind\":\"plot\",\n\"scales\":[{\n\"aesthetic\":\"x\",\n\"limits\":[null,null]\n},{\n\"aesthetic\":\"y\",\n\"limits\":[null,null]\n},{\n\"aesthetic\":\"x\",\n\"limits\":[null,null]\n},{\n\"aesthetic\":\"y\",\n\"limits\":[null,null]\n}],\n\"layers\":[{\n\"mapping\":{\n\"x\":\"STAT_BINS\",\n\"y\":\"STAT_DENSITY\"\n},\n\"stat\":\"identity\",\n\"data\":{\n\"STAT_DENSITY\":[1.2738853503184715E-4,0.0,1.2738853503184715E-4,6.369426751592356E-4,0.0011464968152866241,0.0022929936305732482,0.004713375796178343,0.007261146496815287,0.011592356687898089,0.012738853503184714,0.015414012738853502,0.02038216560509554,0.016305732484076435,0.01464968152866242,0.007261146496815287,0.006369426751592357,0.003821656050955414,0.0016560509554140127,6.369426751592356E-4,2.547770700636943E-4],\n\"STAT_BINS\":[-89.29525000000001,-80.89575,-72.49625,-64.09675000000001,-55.69725000000001,-47.29775000000001,-38.89825000000001,-30.498750000000015,-22.099250000000012,-13.699750000000009,-5.3002500000000055,3.0992499999999836,11.498749999999987,19.89824999999999,28.29774999999998,36.69724999999998,45.096749999999986,53.496249999999975,61.89574999999999,70.29524999999998]\n},\n\"sampling\":\"none\",\n\"position\":\"dodge\",\n\"geom\":\"bar\"\n},{\n\"mapping\":{\n\"x\":\"STAT_BINS\",\n\"y\":\"STAT_DENSITY\"\n},\n\"stat\":\"identity\",\n\"data\":{\n\"STAT_DENSITY\":[1.2738853503184715E-4,0.0,1.2738853503184715E-4,6.369426751592356E-4,0.0011464968152866241,0.0022929936305732482,0.004713375796178343,0.007261146496815287,0.011592356687898089,0.012738853503184714,0.015414012738853502,0.02038216560509554,0.016305732484076435,0.01464968152866242,0.007261146496815287,0.006369426751592357,0.003821656050955414,0.0016560509554140127,6.369426751592356E-4,2.547770700636943E-4],\n\"STAT_BINS\":[-89.29525000000001,-80.89575,-72.49625,-64.09675000000001,-55.69725000000001,-47.29775000000001,-38.89825000000001,-30.498750000000015,-22.099250000000012,-13.699750000000009,-5.3002500000000055,3.0992499999999836,11.498749999999987,19.89824999999999,28.29774999999998,36.69724999999998,45.096749999999986,53.496249999999975,61.89574999999999,70.29524999999998]\n},\n\"color\":\"#ee6666\",\n\"size\":2.5,\n\"sampling\":\"none\",\n\"position\":\"identity\",\n\"geom\":\"line\"\n}]\n};\n       var plotContainer = document.getElementById(\"2Tj3He\");\n       LetsPlot.buildPlotFromProcessedSpecs(plotSpec, -1, -1, plotContainer);\n   </script>            \n        <svg id=8282fd38-20ff-4aed-981e-e628cef9f990 xmlns=\"http://www.w3.org/2000/svg\" xmlns:xlink=\"http://www.w3.org/1999/xlink\" class=\"plt-container\" width=\"600.0\" height=\"400.0\">\n  <style type=\"text/css\">\n  .plt-container {\n   font-family: Lucida Grande, sans-serif;\n   user-select: none;\n   -webkit-user-select: none;\n   -moz-user-select: none;\n   -ms-user-select: none;\n}\ntext {\n   text-rendering: optimizeLegibility;\n}\n#p6Aa9Ig .plot-title {\n   fill: #474747;\n   font-family: Lucida Grande, sans-serif;\n   font-size: 16.0px;\n   font-weight: normal;\n   font-style: normal;   \n}\n#p6Aa9Ig .plot-subtitle {\n   fill: #474747;\n   font-family: Lucida Grande, sans-serif;\n   font-size: 15.0px;\n   font-weight: normal;\n   font-style: normal;   \n}\n#p6Aa9Ig .plot-caption {\n   fill: #474747;\n   font-family: Lucida Grande, sans-serif;\n   font-size: 13.0px;\n   font-weight: normal;\n   font-style: normal;   \n}\n#p6Aa9Ig .legend-title {\n   fill: #474747;\n   font-family: Lucida Grande, sans-serif;\n   font-size: 15.0px;\n   font-weight: normal;\n   font-style: normal;   \n}\n#p6Aa9Ig .legend-item {\n   fill: #474747;\n   font-family: Lucida Grande, sans-serif;\n   font-size: 13.0px;\n   font-weight: normal;\n   font-style: normal;   \n}\n#p6Aa9Ig .axis-title-x {\n   fill: #474747;\n   font-family: Lucida Grande, sans-serif;\n   font-size: 15.0px;\n   font-weight: normal;\n   font-style: normal;   \n}\n#p6Aa9Ig .axis-text-x {\n   fill: #474747;\n   font-family: Lucida Grande, sans-serif;\n   font-size: 13.0px;\n   font-weight: normal;\n   font-style: normal;   \n}\n#d7MKx59 .axis-tooltip-text-x {\n   fill: #ffffff;\n   font-family: Lucida Grande, sans-serif;\n   font-size: 13.0px;\n   font-weight: normal;\n   font-style: normal;   \n}\n#p6Aa9Ig .axis-title-y {\n   fill: #474747;\n   font-family: Lucida Grande, sans-serif;\n   font-size: 15.0px;\n   font-weight: normal;\n   font-style: normal;   \n}\n#p6Aa9Ig .axis-text-y {\n   fill: #474747;\n   font-family: Lucida Grande, sans-serif;\n   font-size: 13.0px;\n   font-weight: normal;\n   font-style: normal;   \n}\n#d7MKx59 .axis-tooltip-text-y {\n   fill: #ffffff;\n   font-family: Lucida Grande, sans-serif;\n   font-size: 13.0px;\n   font-weight: normal;\n   font-style: normal;   \n}\n#p6Aa9Ig .facet-strip-text-x {\n   fill: #474747;\n   font-family: Lucida Grande, sans-serif;\n   font-size: 13.0px;\n   font-weight: normal;\n   font-style: normal;   \n}\n#p6Aa9Ig .facet-strip-text-y {\n   fill: #474747;\n   font-family: Lucida Grande, sans-serif;\n   font-size: 13.0px;\n   font-weight: normal;\n   font-style: normal;   \n}\n#d7MKx59 .tooltip-text {\n   fill: #474747;\n   font-family: Lucida Grande, sans-serif;\n   font-size: 13.0px;\n   font-weight: normal;\n   font-style: normal;   \n}\n#d7MKx59 .tooltip-title {\n   fill: #474747;\n   font-family: Lucida Grande, sans-serif;\n   font-size: 13.0px;\n   font-weight: bold;\n   font-style: normal;   \n}\n#d7MKx59 .tooltip-label {\n   fill: #474747;\n   font-family: Lucida Grande, sans-serif;\n   font-size: 13.0px;\n   font-weight: bold;\n   font-style: normal;   \n}\n\n  </style>\n  <g id=\"p6Aa9Ig\">\n    <rect x=\"0.0\" y=\"0.0\" height=\"400.0\" width=\"600.0\" stroke=\"rgb(71,71,71)\" stroke-opacity=\"1.0\" stroke-width=\"0.0\" fill=\"rgb(255,255,255)\" fill-opacity=\"1.0\">\n    </rect>\n    <g transform=\"translate(23.0 10.0 ) \">\n      <g transform=\"translate(42.99591213121782 344.0 ) \">\n        <line x1=\"61.081383971304916\" y1=\"-0.0\" x2=\"61.081383971304916\" y2=\"-344.0\" stroke=\"rgb(233,233,233)\" stroke-opacity=\"1.0\" stroke-width=\"1.0\">\n        </line>\n        <line x1=\"118.08015275515916\" y1=\"-0.0\" x2=\"118.08015275515916\" y2=\"-344.0\" stroke=\"rgb(233,233,233)\" stroke-opacity=\"1.0\" stroke-width=\"1.0\">\n        </line>\n        <line x1=\"175.07892153901344\" y1=\"-0.0\" x2=\"175.07892153901344\" y2=\"-344.0\" stroke=\"rgb(233,233,233)\" stroke-opacity=\"1.0\" stroke-width=\"1.0\">\n        </line>\n        <line x1=\"232.07769032286768\" y1=\"-0.0\" x2=\"232.07769032286768\" y2=\"-344.0\" stroke=\"rgb(233,233,233)\" stroke-opacity=\"1.0\" stroke-width=\"1.0\">\n        </line>\n        <line x1=\"289.0764591067219\" y1=\"-0.0\" x2=\"289.0764591067219\" y2=\"-344.0\" stroke=\"rgb(233,233,233)\" stroke-opacity=\"1.0\" stroke-width=\"1.0\">\n        </line>\n        <line x1=\"346.0752278905762\" y1=\"-0.0\" x2=\"346.0752278905762\" y2=\"-344.0\" stroke=\"rgb(233,233,233)\" stroke-opacity=\"1.0\" stroke-width=\"1.0\">\n        </line>\n        <line x1=\"403.0739966744304\" y1=\"-0.0\" x2=\"403.0739966744304\" y2=\"-344.0\" stroke=\"rgb(233,233,233)\" stroke-opacity=\"1.0\" stroke-width=\"1.0\">\n        </line>\n        <line x1=\"460.0727654582847\" y1=\"-0.0\" x2=\"460.0727654582847\" y2=\"-344.0\" stroke=\"rgb(233,233,233)\" stroke-opacity=\"1.0\" stroke-width=\"1.0\">\n        </line>\n        <line x1=\"517.0715342421389\" y1=\"-0.0\" x2=\"517.0715342421389\" y2=\"-344.0\" stroke=\"rgb(233,233,233)\" stroke-opacity=\"1.0\" stroke-width=\"1.0\">\n        </line>\n        <g transform=\"translate(4.082615187450642 0.0 ) \">\n          <line stroke-width=\"1.0\" stroke=\"rgb(71,71,71)\" stroke-opacity=\"1.0\" x2=\"0.0\" y2=\"4.0\">\n          </line>\n          <g transform=\"translate(0.0 7.0 ) \">\n            <text class=\"axis-text-x\" text-anchor=\"middle\" dy=\"0.7em\">\n            -100\n            </text>\n          </g>\n        </g>\n        <g transform=\"translate(61.081383971304916 0.0 ) \">\n          <line stroke-width=\"1.0\" stroke=\"rgb(71,71,71)\" stroke-opacity=\"1.0\" x2=\"0.0\" y2=\"4.0\">\n          </line>\n          <g transform=\"translate(0.0 7.0 ) \">\n            <text class=\"axis-text-x\" text-anchor=\"middle\" dy=\"0.7em\">\n            -80\n            </text>\n          </g>\n        </g>\n        <g transform=\"translate(118.08015275515916 0.0 ) \">\n          <line stroke-width=\"1.0\" stroke=\"rgb(71,71,71)\" stroke-opacity=\"1.0\" x2=\"0.0\" y2=\"4.0\">\n          </line>\n          <g transform=\"translate(0.0 7.0 ) \">\n            <text class=\"axis-text-x\" text-anchor=\"middle\" dy=\"0.7em\">\n            -60\n            </text>\n          </g>\n        </g>\n        <g transform=\"translate(175.07892153901344 0.0 ) \">\n          <line stroke-width=\"1.0\" stroke=\"rgb(71,71,71)\" stroke-opacity=\"1.0\" x2=\"0.0\" y2=\"4.0\">\n          </line>\n          <g transform=\"translate(0.0 7.0 ) \">\n            <text class=\"axis-text-x\" text-anchor=\"middle\" dy=\"0.7em\">\n            -40\n            </text>\n          </g>\n        </g>\n        <g transform=\"translate(232.07769032286768 0.0 ) \">\n          <line stroke-width=\"1.0\" stroke=\"rgb(71,71,71)\" stroke-opacity=\"1.0\" x2=\"0.0\" y2=\"4.0\">\n          </line>\n          <g transform=\"translate(0.0 7.0 ) \">\n            <text class=\"axis-text-x\" text-anchor=\"middle\" dy=\"0.7em\">\n            -20\n            </text>\n          </g>\n        </g>\n        <g transform=\"translate(289.0764591067219 0.0 ) \">\n          <line stroke-width=\"1.0\" stroke=\"rgb(71,71,71)\" stroke-opacity=\"1.0\" x2=\"0.0\" y2=\"4.0\">\n          </line>\n          <g transform=\"translate(0.0 7.0 ) \">\n            <text class=\"axis-text-x\" text-anchor=\"middle\" dy=\"0.7em\">\n            0\n            </text>\n          </g>\n        </g>\n        <g transform=\"translate(346.0752278905762 0.0 ) \">\n          <line stroke-width=\"1.0\" stroke=\"rgb(71,71,71)\" stroke-opacity=\"1.0\" x2=\"0.0\" y2=\"4.0\">\n          </line>\n          <g transform=\"translate(0.0 7.0 ) \">\n            <text class=\"axis-text-x\" text-anchor=\"middle\" dy=\"0.7em\">\n            20\n            </text>\n          </g>\n        </g>\n        <g transform=\"translate(403.0739966744304 0.0 ) \">\n          <line stroke-width=\"1.0\" stroke=\"rgb(71,71,71)\" stroke-opacity=\"1.0\" x2=\"0.0\" y2=\"4.0\">\n          </line>\n          <g transform=\"translate(0.0 7.0 ) \">\n            <text class=\"axis-text-x\" text-anchor=\"middle\" dy=\"0.7em\">\n            40\n            </text>\n          </g>\n        </g>\n        <g transform=\"translate(460.0727654582847 0.0 ) \">\n          <line stroke-width=\"1.0\" stroke=\"rgb(71,71,71)\" stroke-opacity=\"1.0\" x2=\"0.0\" y2=\"4.0\">\n          </line>\n          <g transform=\"translate(0.0 7.0 ) \">\n            <text class=\"axis-text-x\" text-anchor=\"middle\" dy=\"0.7em\">\n            60\n            </text>\n          </g>\n        </g>\n        <g transform=\"translate(517.0715342421389 0.0 ) \">\n          <line stroke-width=\"1.0\" stroke=\"rgb(71,71,71)\" stroke-opacity=\"1.0\" x2=\"0.0\" y2=\"4.0\">\n          </line>\n          <g transform=\"translate(0.0 7.0 ) \">\n            <text class=\"axis-text-x\" text-anchor=\"middle\" dy=\"0.7em\">\n            80\n            </text>\n          </g>\n        </g>\n        <line x1=\"0.0\" y1=\"0.0\" x2=\"524.0040878687822\" y2=\"0.0\" stroke-width=\"1.0\" stroke=\"rgb(71,71,71)\" stroke-opacity=\"1.0\">\n        </line>\n      </g>\n      <g transform=\"translate(42.99591213121782 0.0 ) \">\n        <line x1=\"0.0\" y1=\"263.63095238095235\" x2=\"524.0040878687822\" y2=\"263.63095238095235\" stroke=\"rgb(233,233,233)\" stroke-opacity=\"1.0\" stroke-width=\"1.0\">\n        </line>\n        <line x1=\"0.0\" y1=\"183.26190476190473\" x2=\"524.0040878687822\" y2=\"183.26190476190473\" stroke=\"rgb(233,233,233)\" stroke-opacity=\"1.0\" stroke-width=\"1.0\">\n        </line>\n        <line x1=\"0.0\" y1=\"102.89285714285711\" x2=\"524.0040878687822\" y2=\"102.89285714285711\" stroke=\"rgb(233,233,233)\" stroke-opacity=\"1.0\" stroke-width=\"1.0\">\n        </line>\n        <line x1=\"0.0\" y1=\"22.52380952380946\" x2=\"524.0040878687822\" y2=\"22.52380952380946\" stroke=\"rgb(233,233,233)\" stroke-opacity=\"1.0\" stroke-width=\"1.0\">\n        </line>\n        <g transform=\"translate(0.0 344.0 ) \">\n          <g transform=\"translate(-3.0 0.0 ) \">\n            <text class=\"axis-text-y\" text-anchor=\"end\" dy=\"0.35em\">\n            0.000\n            </text>\n          </g>\n        </g>\n        <g transform=\"translate(0.0 263.63095238095235 ) \">\n          <g transform=\"translate(-3.0 0.0 ) \">\n            <text class=\"axis-text-y\" text-anchor=\"end\" dy=\"0.35em\">\n            0.005\n            </text>\n          </g>\n        </g>\n        <g transform=\"translate(0.0 183.26190476190473 ) \">\n          <g transform=\"translate(-3.0 0.0 ) \">\n            <text class=\"axis-text-y\" text-anchor=\"end\" dy=\"0.35em\">\n            0.010\n            </text>\n          </g>\n        </g>\n        <g transform=\"translate(0.0 102.89285714285711 ) \">\n          <g transform=\"translate(-3.0 0.0 ) \">\n            <text class=\"axis-text-y\" text-anchor=\"end\" dy=\"0.35em\">\n            0.015\n            </text>\n          </g>\n        </g>\n        <g transform=\"translate(0.0 22.52380952380946 ) \">\n          <g transform=\"translate(-3.0 0.0 ) \">\n            <text class=\"axis-text-y\" text-anchor=\"end\" dy=\"0.35em\">\n            0.020\n            </text>\n          </g>\n        </g>\n      </g>\n      <g transform=\"translate(42.99591213121782 0.0 ) \" clip-path=\"url(#ckPFdkn)\" clip-bounds-jfx=\"[rect (0.0, 0.0), (524.0040878687822, 344.0)]\">\n        <defs>\n          <clipPath id=\"ckPFdkn\">\n            <rect x=\"0.0\" y=\"0.0\" width=\"524.0040878687822\" height=\"344.0\">\n            </rect>\n          </clipPath>\n        </defs>\n        <rect x=\"478.6414681103838\" y=\"339.9047619047619\" height=\"4.095238095238074\" width=\"21.544252127999187\" stroke=\"rgb(0,0,0)\" stroke-opacity=\"0.0\" fill=\"rgb(17,142,216)\" fill-opacity=\"1.0\" stroke-width=\"1.0\">\n        </rect>\n        <rect x=\"454.7034101903846\" y=\"333.76190476190476\" height=\"10.23809523809524\" width=\"21.5442521279993\" stroke=\"rgb(0,0,0)\" stroke-opacity=\"0.0\" fill=\"rgb(17,142,216)\" fill-opacity=\"1.0\" stroke-width=\"1.0\">\n        </rect>\n        <rect x=\"430.7653522703854\" y=\"317.38095238095235\" height=\"26.61904761904765\" width=\"21.544252127999243\" stroke=\"rgb(0,0,0)\" stroke-opacity=\"0.0\" fill=\"rgb(17,142,216)\" fill-opacity=\"1.0\" stroke-width=\"1.0\">\n        </rect>\n        <rect x=\"406.82729435038624\" y=\"282.57142857142856\" height=\"61.428571428571445\" width=\"21.544252127999243\" stroke=\"rgb(0,0,0)\" stroke-opacity=\"0.0\" fill=\"rgb(17,142,216)\" fill-opacity=\"1.0\" stroke-width=\"1.0\">\n        </rect>\n        <rect x=\"382.88923643038703\" y=\"241.6190476190476\" height=\"102.38095238095241\" width=\"21.544252127999243\" stroke=\"rgb(0,0,0)\" stroke-opacity=\"0.0\" fill=\"rgb(17,142,216)\" fill-opacity=\"1.0\" stroke-width=\"1.0\">\n        </rect>\n        <rect x=\"358.9511785103878\" y=\"227.28571428571425\" height=\"116.71428571428575\" width=\"21.544252127999243\" stroke=\"rgb(0,0,0)\" stroke-opacity=\"0.0\" fill=\"rgb(17,142,216)\" fill-opacity=\"1.0\" stroke-width=\"1.0\">\n        </rect>\n        <rect x=\"335.01312059038867\" y=\"108.52380952380949\" height=\"235.4761904761905\" width=\"21.544252127999243\" stroke=\"rgb(0,0,0)\" stroke-opacity=\"0.0\" fill=\"rgb(17,142,216)\" fill-opacity=\"1.0\" stroke-width=\"1.0\">\n        </rect>\n        <rect x=\"311.07506267038946\" y=\"81.90476190476181\" height=\"262.0952380952382\" width=\"21.544252127999243\" stroke=\"rgb(0,0,0)\" stroke-opacity=\"0.0\" fill=\"rgb(17,142,216)\" fill-opacity=\"1.0\" stroke-width=\"1.0\">\n        </rect>\n        <rect x=\"287.13700475039025\" y=\"16.38095238095235\" height=\"327.61904761904765\" width=\"21.544252127999243\" stroke=\"rgb(0,0,0)\" stroke-opacity=\"0.0\" fill=\"rgb(17,142,216)\" fill-opacity=\"1.0\" stroke-width=\"1.0\">\n        </rect>\n        <rect x=\"263.1989468303911\" y=\"96.23809523809521\" height=\"247.7619047619048\" width=\"21.544252127999243\" stroke=\"rgb(0,0,0)\" stroke-opacity=\"0.0\" fill=\"rgb(17,142,216)\" fill-opacity=\"1.0\" stroke-width=\"1.0\">\n        </rect>\n        <rect x=\"239.2608889103919\" y=\"139.23809523809518\" height=\"204.76190476190482\" width=\"21.544252127999272\" stroke=\"rgb(0,0,0)\" stroke-opacity=\"0.0\" fill=\"rgb(17,142,216)\" fill-opacity=\"1.0\" stroke-width=\"1.0\">\n        </rect>\n        <rect x=\"215.32283099039273\" y=\"157.66666666666663\" height=\"186.33333333333337\" width=\"21.544252127999243\" stroke=\"rgb(0,0,0)\" stroke-opacity=\"0.0\" fill=\"rgb(17,142,216)\" fill-opacity=\"1.0\" stroke-width=\"1.0\">\n        </rect>\n        <rect x=\"191.38477307039352\" y=\"227.28571428571425\" height=\"116.71428571428575\" width=\"21.544252127999243\" stroke=\"rgb(0,0,0)\" stroke-opacity=\"0.0\" fill=\"rgb(17,142,216)\" fill-opacity=\"1.0\" stroke-width=\"1.0\">\n        </rect>\n        <rect x=\"167.44671515039434\" y=\"268.23809523809524\" height=\"75.76190476190476\" width=\"21.544252127999215\" stroke=\"rgb(0,0,0)\" stroke-opacity=\"0.0\" fill=\"rgb(17,142,216)\" fill-opacity=\"1.0\" stroke-width=\"1.0\">\n        </rect>\n        <rect x=\"143.50865723039516\" y=\"307.1428571428571\" height=\"36.85714285714289\" width=\"21.544252127999243\" stroke=\"rgb(0,0,0)\" stroke-opacity=\"0.0\" fill=\"rgb(17,142,216)\" fill-opacity=\"1.0\" stroke-width=\"1.0\">\n        </rect>\n        <rect x=\"119.57059931039595\" y=\"325.57142857142856\" height=\"18.428571428571445\" width=\"21.544252127999243\" stroke=\"rgb(0,0,0)\" stroke-opacity=\"0.0\" fill=\"rgb(17,142,216)\" fill-opacity=\"1.0\" stroke-width=\"1.0\">\n        </rect>\n        <rect x=\"95.63254139039674\" y=\"333.76190476190476\" height=\"10.23809523809524\" width=\"21.544252127999243\" stroke=\"rgb(0,0,0)\" stroke-opacity=\"0.0\" fill=\"rgb(17,142,216)\" fill-opacity=\"1.0\" stroke-width=\"1.0\">\n        </rect>\n        <rect x=\"71.69448347039759\" y=\"341.95238095238096\" height=\"2.047619047619037\" width=\"21.544252127999243\" stroke=\"rgb(0,0,0)\" stroke-opacity=\"0.0\" fill=\"rgb(17,142,216)\" fill-opacity=\"1.0\" stroke-width=\"1.0\">\n        </rect>\n        <rect x=\"47.756425550398376\" y=\"344.0\" height=\"0.1\" width=\"21.544252127999243\" stroke=\"rgb(0,0,0)\" stroke-opacity=\"0.0\" fill=\"rgb(17,142,216)\" fill-opacity=\"1.0\" stroke-width=\"1.0\">\n        </rect>\n        <rect x=\"23.818367630399166\" y=\"341.95238095238096\" height=\"2.047619047619037\" width=\"21.544252127999243\" stroke=\"rgb(0,0,0)\" stroke-opacity=\"0.0\" fill=\"rgb(17,142,216)\" fill-opacity=\"1.0\" stroke-width=\"1.0\">\n        </rect>\n      </g>\n      <g transform=\"translate(42.99591213121782 0.0 ) \" clip-path=\"url(#cExmiZ7)\" clip-bounds-jfx=\"[rect (0.0, 0.0), (524.0040878687822, 344.0)]\">\n        <defs>\n          <clipPath id=\"cExmiZ7\">\n            <rect x=\"0.0\" y=\"0.0\" width=\"524.0040878687822\" height=\"344.0\">\n            </rect>\n          </clipPath>\n        </defs>\n        <g>\n          <path d=\"M34.590493694398816 341.95238095238096 L34.590493694398816 341.95238095238096 L58.528551614398026 344.0 L82.46660953439721 341.95238095238096 L106.40466745439639 333.76190476190476 L130.34272537439557 325.57142857142856 L154.28078329439478 307.1428571428571 L178.21884121439396 268.23809523809524 L202.15689913439314 227.28571428571425 L226.09495705439235 157.66666666666663 L250.03301497439153 139.23809523809518 L273.9710728943907 96.23809523809521 L297.90913081438987 16.38095238095235 L321.8471887343891 81.90476190476181 L345.7852466543883 108.52380952380949 L369.72330457438744 227.28571428571425 L393.66136249438665 241.6190476190476 L417.59942041438586 282.57142857142856 L441.537478334385 317.38095238095235 L465.4755362543842 333.76190476190476 L489.41359417438343 339.9047619047619 \" fill=\"none\" stroke-width=\"5.0\" stroke=\"rgb(238,102,102)\" stroke-opacity=\"1.0\">\n          </path>\n        </g>\n      </g>\n    </g>\n    <g transform=\"translate(14.5 182.0 ) rotate(-90.0 ) \">\n      <text class=\"axis-title-y\" y=\"0.0\" text-anchor=\"middle\">\n      STAT_DENSITY\n      </text>\n    </g>\n    <g transform=\"translate(327.99795606560895 391.5 ) \">\n      <text class=\"axis-title-x\" y=\"0.0\" text-anchor=\"middle\">\n      STAT_BINS\n      </text>\n    </g>\n  </g>\n  <g id=\"d7MKx59\">\n  </g>\n</svg>\n        <script>document.getElementById(\"8282fd38-20ff-4aed-981e-e628cef9f990\").style.display = \"none\";</script>",
      "application/plot+json": {
       "output_type": "lets_plot_spec",
       "output": {
        "mapping": {},
        "data": {},
        "kind": "plot",
        "scales": [
         {
          "aesthetic": "x",
          "limits": [
           null,
           null
          ]
         },
         {
          "aesthetic": "y",
          "limits": [
           null,
           null
          ]
         },
         {
          "aesthetic": "x",
          "limits": [
           null,
           null
          ]
         },
         {
          "aesthetic": "y",
          "limits": [
           null,
           null
          ]
         }
        ],
        "layers": [
         {
          "mapping": {
           "x": "STAT_BINS",
           "y": "STAT_DENSITY"
          },
          "stat": "identity",
          "data": {
           "STAT_DENSITY": [
            1.2738853E-4,
            0.0,
            1.2738853E-4,
            6.369427E-4,
            0.0011464969,
            0.0022929937,
            0.0047133756,
            0.0072611463,
            0.0115923565,
            0.012738854,
            0.015414013,
            0.020382166,
            0.016305732,
            0.014649682,
            0.0072611463,
            0.006369427,
            0.003821656,
            0.0016560509,
            6.369427E-4,
            2.5477706E-4
           ],
           "STAT_BINS": [
            -89.29525,
            -80.89575,
            -72.49625,
            -64.09675,
            -55.69725,
            -47.29775,
            -38.89825,
            -30.49875,
            -22.09925,
            -13.69975,
            -5.30025,
            3.09925,
            11.49875,
            19.89825,
            28.29775,
            36.69725,
            45.09675,
            53.49625,
            61.89575,
            70.29525
           ]
          },
          "sampling": "none",
          "position": "dodge",
          "geom": "bar"
         },
         {
          "mapping": {
           "x": "STAT_BINS",
           "y": "STAT_DENSITY"
          },
          "stat": "identity",
          "data": {
           "STAT_DENSITY": [
            1.2738853E-4,
            0.0,
            1.2738853E-4,
            6.369427E-4,
            0.0011464969,
            0.0022929937,
            0.0047133756,
            0.0072611463,
            0.0115923565,
            0.012738854,
            0.015414013,
            0.020382166,
            0.016305732,
            0.014649682,
            0.0072611463,
            0.006369427,
            0.003821656,
            0.0016560509,
            6.369427E-4,
            2.5477706E-4
           ],
           "STAT_BINS": [
            -89.29525,
            -80.89575,
            -72.49625,
            -64.09675,
            -55.69725,
            -47.29775,
            -38.89825,
            -30.49875,
            -22.09925,
            -13.69975,
            -5.30025,
            3.09925,
            11.49875,
            19.89825,
            28.29775,
            36.69725,
            45.09675,
            53.49625,
            61.89575,
            70.29525
           ]
          },
          "color": "#ee6666",
          "size": 2.5,
          "sampling": "none",
          "position": "identity",
          "geom": "line"
         }
        ]
       },
       "apply_color_scheme": true,
       "swing_enabled": true
      }
     },
     "execution_count": 10,
     "metadata": {},
     "output_type": "execute_result"
    }
   ],
   "source": [
    "sampleDF.plot { \n",
    "    statBin(sample) {\n",
    "        bars { \n",
    "            x(Stat.BINS)\n",
    "            y(Stat.DENSITY)\n",
    "        }\n",
    "\n",
    "        line {\n",
    "            x(Stat.BINS)\n",
    "            y(Stat.DENSITY)\n",
    "\n",
    "            color = Color.RED\n",
    "            width = 2.5\n",
    "        }\n",
    "    }\n",
    "}"
   ]
  },
  {
   "cell_type": "code",
   "execution_count": 11,
   "metadata": {},
   "outputs": [],
   "source": [
    "val rand = java.util.Random()\n",
    "val data = mapOf(\n",
    "    \"rating\" to List(500) { rand.nextGaussian() } + List(500) { rand.nextGaussian() * 1.5 + 1.5 },\n",
    "    \"cond\" to List(500) { \"A\" } + List(500) { \"B\" }\n",
    ")\n",
    "\n",
    "val cond by column<String>()\n",
    "val rating by column<Double>()"
   ]
  },
  {
   "cell_type": "code",
   "execution_count": 12,
   "metadata": {},
   "outputs": [
    {
     "data": {
      "text/html": "            <script type=\"text/javascript\" data-lets-plot-script=\"library\" src=\"https://cdn.jsdelivr.net/gh/JetBrains/lets-plot@v3.1.0/js-package/distr/lets-plot.min.js\"></script>    \n               <div id=\"jIFAgl\"></div>\n   <script type=\"text/javascript\" data-lets-plot-script=\"plot\">\n       var plotSpec={\n\"mapping\":{\n},\n\"data\":{\n},\n\"kind\":\"plot\",\n\"scales\":[{\n\"aesthetic\":\"x\",\n\"limits\":[null,null]\n},{\n\"aesthetic\":\"y\",\n\"limits\":[null,null]\n},{\n\"aesthetic\":\"fill\",\n\"discrete\":true\n}],\n\"layers\":[{\n\"mapping\":{\n\"x\":\"STAT_BINS\",\n\"y\":\"STAT_DENSITY\",\n\"fill\":\"cond\",\n\"group\":\"&merged_groups\"\n},\n\"stat\":\"identity\",\n\"data\":{\n\"&merged_groups\":[\"A\",\"A\",\"A\",\"A\",\"A\",\"A\",\"A\",\"A\",\"A\",\"A\",\"A\",\"A\",\"A\",\"A\",\"A\",\"A\",\"A\",\"A\",\"A\",\"A\",\"A\",\"A\",\"A\",\"A\",\"A\",\"A\",\"A\",\"A\",\"A\",\"A\",\"A\",\"A\",\"A\",\"A\",\"A\",\"A\",\"A\",\"A\",\"A\",\"A\",\"A\",\"A\",\"A\",\"A\",\"A\",\"A\",\"A\",\"A\",\"A\",\"A\",\"B\",\"B\",\"B\",\"B\",\"B\",\"B\",\"B\",\"B\",\"B\",\"B\",\"B\",\"B\",\"B\",\"B\",\"B\",\"B\",\"B\",\"B\",\"B\",\"B\",\"B\",\"B\",\"B\",\"B\",\"B\",\"B\",\"B\",\"B\",\"B\",\"B\",\"B\",\"B\",\"B\",\"B\",\"B\",\"B\",\"B\",\"B\",\"B\",\"B\",\"B\",\"B\",\"B\",\"B\",\"B\",\"B\",\"B\",\"B\",\"B\",\"B\"],\n\"STAT_DENSITY\":[0.010921242650888235,0.0,0.010921242650888235,0.010921242650888235,0.02184248530177647,0.02184248530177647,0.05460621325444118,0.04368497060355294,0.07644869855621765,0.08736994120710588,0.06552745590532941,0.13105491181065881,0.18566112506510002,0.38224349278108827,0.3057947942248706,0.3494797648284235,0.2839523089230941,0.32763727952664706,0.3494797648284235,0.513298404591747,0.37132225013020004,0.48053467663908234,0.3494797648284235,0.2184248530177647,0.14197615446154704,0.1528973971124353,0.19658236771598822,0.05460621325444118,0.09829118385799411,0.032763727952664704,0.02184248530177647,0.04368497060355294,0.05460621325444118,0.0,0.010921242650888235,0.0,0.0,0.0,0.0,0.0,0.0,0.0,0.0,0.0,0.0,0.0,0.0,0.0,0.0,0.0,0.010921242650888235,0.010921242650888235,0.0,0.0,0.032763727952664704,0.0,0.02184248530177647,0.010921242650888235,0.0,0.0,0.04368497060355294,0.08736994120710588,0.06552745590532941,0.032763727952664704,0.04368497060355294,0.07644869855621765,0.06552745590532941,0.13105491181065881,0.1528973971124353,0.24026733831954117,0.22934609566865297,0.1528973971124353,0.2839523089230941,0.24026733831954117,0.3057947942248706,0.22934609566865297,0.2511885809704294,0.24026733831954117,0.31671603687575883,0.14197615446154704,0.2730310662722059,0.24026733831954117,0.31671603687575883,0.19658236771598822,0.08736994120710588,0.1528973971124353,0.12013366915977058,0.16381863976332353,0.08736994120710588,0.08736994120710588,0.06552745590532941,0.010921242650888235,0.09829118385799411,0.05460621325444118,0.04368497060355294,0.0,0.0,0.0,0.010921242650888235,0.032763727952664704],\n\"cond\":[\"A\",\"A\",\"A\",\"A\",\"A\",\"A\",\"A\",\"A\",\"A\",\"A\",\"A\",\"A\",\"A\",\"A\",\"A\",\"A\",\"A\",\"A\",\"A\",\"A\",\"A\",\"A\",\"A\",\"A\",\"A\",\"A\",\"A\",\"A\",\"A\",\"A\",\"A\",\"A\",\"A\",\"A\",\"A\",\"A\",\"A\",\"A\",\"A\",\"A\",\"A\",\"A\",\"A\",\"A\",\"A\",\"A\",\"A\",\"A\",\"A\",\"A\",\"B\",\"B\",\"B\",\"B\",\"B\",\"B\",\"B\",\"B\",\"B\",\"B\",\"B\",\"B\",\"B\",\"B\",\"B\",\"B\",\"B\",\"B\",\"B\",\"B\",\"B\",\"B\",\"B\",\"B\",\"B\",\"B\",\"B\",\"B\",\"B\",\"B\",\"B\",\"B\",\"B\",\"B\",\"B\",\"B\",\"B\",\"B\",\"B\",\"B\",\"B\",\"B\",\"B\",\"B\",\"B\",\"B\",\"B\",\"B\",\"B\",\"B\"],\n\"STAT_BINS\":[-3.446461220158571,-3.2582042547451358,-3.069947289331701,-2.8816903239182654,-2.69343335850483,-2.505176393091395,-2.3169194276779597,-2.1286624622645247,-1.9404054968510893,-1.7521485314376541,-1.563891566024219,-1.3756346006107836,-1.1873776351973482,-0.9991206697839132,-0.8108637043704778,-0.6226067389570429,-0.4343497735436075,-0.2460928081301721,-0.05783584271673714,0.13042112269669826,0.3186780881101332,0.5069350535235686,0.695192018937004,0.8834489843504394,1.0717059497638748,1.2599629151773093,1.4482198805907447,1.63647684600418,1.8247338114176155,2.012990776831051,2.2012477422444854,2.389504707657921,2.577761673071356,2.7660186384847916,2.954275603898227,3.1425325693116615,3.330789534725097,3.5190465001385323,3.7073034655519677,3.895560430965403,4.083817396378837,4.2720743617922725,4.460331327205708,4.648588292619143,4.836845258032579,5.025102223446014,5.2133591888594495,5.401616154272885,5.58987311968632,5.778130085099754,-3.446461220158571,-3.2582042547451358,-3.069947289331701,-2.8816903239182654,-2.69343335850483,-2.505176393091395,-2.3169194276779597,-2.1286624622645247,-1.9404054968510893,-1.7521485314376541,-1.563891566024219,-1.3756346006107836,-1.1873776351973482,-0.9991206697839132,-0.8108637043704778,-0.6226067389570429,-0.4343497735436075,-0.2460928081301721,-0.05783584271673714,0.13042112269669826,0.3186780881101332,0.5069350535235686,0.695192018937004,0.8834489843504394,1.0717059497638748,1.2599629151773093,1.4482198805907447,1.63647684600418,1.8247338114176155,2.012990776831051,2.2012477422444854,2.389504707657921,2.577761673071356,2.7660186384847916,2.954275603898227,3.1425325693116615,3.330789534725097,3.5190465001385323,3.7073034655519677,3.895560430965403,4.083817396378837,4.2720743617922725,4.460331327205708,4.648588292619143,4.836845258032579,5.025102223446014,5.2133591888594495,5.401616154272885,5.58987311968632,5.778130085099754]\n},\n\"color\":\"#000000\",\n\"size\":0.5,\n\"sampling\":\"none\",\n\"alpha\":0.6,\n\"position\":\"identity\",\n\"geom\":\"area\"\n}]\n};\n       var plotContainer = document.getElementById(\"jIFAgl\");\n       LetsPlot.buildPlotFromProcessedSpecs(plotSpec, -1, -1, plotContainer);\n   </script>            \n        <svg id=3cfc4e2d-35aa-4a6b-a5ee-8a79ae93b3e8 xmlns=\"http://www.w3.org/2000/svg\" xmlns:xlink=\"http://www.w3.org/1999/xlink\" class=\"plt-container\" width=\"600.0\" height=\"400.0\">\n  <style type=\"text/css\">\n  .plt-container {\n   font-family: Lucida Grande, sans-serif;\n   user-select: none;\n   -webkit-user-select: none;\n   -moz-user-select: none;\n   -ms-user-select: none;\n}\ntext {\n   text-rendering: optimizeLegibility;\n}\n#pVbNQMr .plot-title {\n   fill: #474747;\n   font-family: Lucida Grande, sans-serif;\n   font-size: 16.0px;\n   font-weight: normal;\n   font-style: normal;   \n}\n#pVbNQMr .plot-subtitle {\n   fill: #474747;\n   font-family: Lucida Grande, sans-serif;\n   font-size: 15.0px;\n   font-weight: normal;\n   font-style: normal;   \n}\n#pVbNQMr .plot-caption {\n   fill: #474747;\n   font-family: Lucida Grande, sans-serif;\n   font-size: 13.0px;\n   font-weight: normal;\n   font-style: normal;   \n}\n#pVbNQMr .legend-title {\n   fill: #474747;\n   font-family: Lucida Grande, sans-serif;\n   font-size: 15.0px;\n   font-weight: normal;\n   font-style: normal;   \n}\n#pVbNQMr .legend-item {\n   fill: #474747;\n   font-family: Lucida Grande, sans-serif;\n   font-size: 13.0px;\n   font-weight: normal;\n   font-style: normal;   \n}\n#pVbNQMr .axis-title-x {\n   fill: #474747;\n   font-family: Lucida Grande, sans-serif;\n   font-size: 15.0px;\n   font-weight: normal;\n   font-style: normal;   \n}\n#pVbNQMr .axis-text-x {\n   fill: #474747;\n   font-family: Lucida Grande, sans-serif;\n   font-size: 13.0px;\n   font-weight: normal;\n   font-style: normal;   \n}\n#dMWBc5z .axis-tooltip-text-x {\n   fill: #ffffff;\n   font-family: Lucida Grande, sans-serif;\n   font-size: 13.0px;\n   font-weight: normal;\n   font-style: normal;   \n}\n#pVbNQMr .axis-title-y {\n   fill: #474747;\n   font-family: Lucida Grande, sans-serif;\n   font-size: 15.0px;\n   font-weight: normal;\n   font-style: normal;   \n}\n#pVbNQMr .axis-text-y {\n   fill: #474747;\n   font-family: Lucida Grande, sans-serif;\n   font-size: 13.0px;\n   font-weight: normal;\n   font-style: normal;   \n}\n#dMWBc5z .axis-tooltip-text-y {\n   fill: #ffffff;\n   font-family: Lucida Grande, sans-serif;\n   font-size: 13.0px;\n   font-weight: normal;\n   font-style: normal;   \n}\n#pVbNQMr .facet-strip-text-x {\n   fill: #474747;\n   font-family: Lucida Grande, sans-serif;\n   font-size: 13.0px;\n   font-weight: normal;\n   font-style: normal;   \n}\n#pVbNQMr .facet-strip-text-y {\n   fill: #474747;\n   font-family: Lucida Grande, sans-serif;\n   font-size: 13.0px;\n   font-weight: normal;\n   font-style: normal;   \n}\n#dMWBc5z .tooltip-text {\n   fill: #474747;\n   font-family: Lucida Grande, sans-serif;\n   font-size: 13.0px;\n   font-weight: normal;\n   font-style: normal;   \n}\n#dMWBc5z .tooltip-title {\n   fill: #474747;\n   font-family: Lucida Grande, sans-serif;\n   font-size: 13.0px;\n   font-weight: bold;\n   font-style: normal;   \n}\n#dMWBc5z .tooltip-label {\n   fill: #474747;\n   font-family: Lucida Grande, sans-serif;\n   font-size: 13.0px;\n   font-weight: bold;\n   font-style: normal;   \n}\n\n  </style>\n  <g id=\"pVbNQMr\">\n    <rect x=\"0.0\" y=\"0.0\" height=\"400.0\" width=\"600.0\" stroke=\"rgb(71,71,71)\" stroke-opacity=\"1.0\" stroke-width=\"0.0\" fill=\"rgb(255,255,255)\" fill-opacity=\"1.0\">\n    </rect>\n    <g transform=\"translate(23.0 10.0 ) \">\n      <g transform=\"translate(27.034701220281416 344.0 ) \">\n        <line x1=\"90.83011464833707\" y1=\"-0.0\" x2=\"90.83011464833707\" y2=\"-344.0\" stroke=\"rgb(233,233,233)\" stroke-opacity=\"1.0\" stroke-width=\"1.0\">\n        </line>\n        <line x1=\"186.05531083050445\" y1=\"-0.0\" x2=\"186.05531083050445\" y2=\"-344.0\" stroke=\"rgb(233,233,233)\" stroke-opacity=\"1.0\" stroke-width=\"1.0\">\n        </line>\n        <line x1=\"281.2805070126718\" y1=\"-0.0\" x2=\"281.2805070126718\" y2=\"-344.0\" stroke=\"rgb(233,233,233)\" stroke-opacity=\"1.0\" stroke-width=\"1.0\">\n        </line>\n        <line x1=\"376.5057031948392\" y1=\"-0.0\" x2=\"376.5057031948392\" y2=\"-344.0\" stroke=\"rgb(233,233,233)\" stroke-opacity=\"1.0\" stroke-width=\"1.0\">\n        </line>\n        <line x1=\"471.7308993770066\" y1=\"-0.0\" x2=\"471.7308993770066\" y2=\"-344.0\" stroke=\"rgb(233,233,233)\" stroke-opacity=\"1.0\" stroke-width=\"1.0\">\n        </line>\n        <g transform=\"translate(90.83011464833707 0.0 ) \">\n          <line stroke-width=\"1.0\" stroke=\"rgb(71,71,71)\" stroke-opacity=\"1.0\" x2=\"0.0\" y2=\"4.0\">\n          </line>\n          <g transform=\"translate(0.0 7.0 ) \">\n            <text class=\"axis-text-x\" text-anchor=\"middle\" dy=\"0.7em\">\n            -2\n            </text>\n          </g>\n        </g>\n        <g transform=\"translate(186.05531083050445 0.0 ) \">\n          <line stroke-width=\"1.0\" stroke=\"rgb(71,71,71)\" stroke-opacity=\"1.0\" x2=\"0.0\" y2=\"4.0\">\n          </line>\n          <g transform=\"translate(0.0 7.0 ) \">\n            <text class=\"axis-text-x\" text-anchor=\"middle\" dy=\"0.7em\">\n            0\n            </text>\n          </g>\n        </g>\n        <g transform=\"translate(281.2805070126718 0.0 ) \">\n          <line stroke-width=\"1.0\" stroke=\"rgb(71,71,71)\" stroke-opacity=\"1.0\" x2=\"0.0\" y2=\"4.0\">\n          </line>\n          <g transform=\"translate(0.0 7.0 ) \">\n            <text class=\"axis-text-x\" text-anchor=\"middle\" dy=\"0.7em\">\n            2\n            </text>\n          </g>\n        </g>\n        <g transform=\"translate(376.5057031948392 0.0 ) \">\n          <line stroke-width=\"1.0\" stroke=\"rgb(71,71,71)\" stroke-opacity=\"1.0\" x2=\"0.0\" y2=\"4.0\">\n          </line>\n          <g transform=\"translate(0.0 7.0 ) \">\n            <text class=\"axis-text-x\" text-anchor=\"middle\" dy=\"0.7em\">\n            4\n            </text>\n          </g>\n        </g>\n        <g transform=\"translate(471.7308993770066 0.0 ) \">\n          <line stroke-width=\"1.0\" stroke=\"rgb(71,71,71)\" stroke-opacity=\"1.0\" x2=\"0.0\" y2=\"4.0\">\n          </line>\n          <g transform=\"translate(0.0 7.0 ) \">\n            <text class=\"axis-text-x\" text-anchor=\"middle\" dy=\"0.7em\">\n            6\n            </text>\n          </g>\n        </g>\n        <line x1=\"0.0\" y1=\"0.0\" x2=\"483.1274342089467\" y2=\"0.0\" stroke-width=\"1.0\" stroke=\"rgb(71,71,71)\" stroke-opacity=\"1.0\">\n        </line>\n      </g>\n      <g transform=\"translate(27.034701220281416 0.0 ) \">\n        <line x1=\"0.0\" y1=\"280.1737646779518\" x2=\"483.1274342089467\" y2=\"280.1737646779518\" stroke=\"rgb(233,233,233)\" stroke-opacity=\"1.0\" stroke-width=\"1.0\">\n        </line>\n        <line x1=\"0.0\" y1=\"216.34752935590356\" x2=\"483.1274342089467\" y2=\"216.34752935590356\" stroke=\"rgb(233,233,233)\" stroke-opacity=\"1.0\" stroke-width=\"1.0\">\n        </line>\n        <line x1=\"0.0\" y1=\"152.52129403385533\" x2=\"483.1274342089467\" y2=\"152.52129403385533\" stroke=\"rgb(233,233,233)\" stroke-opacity=\"1.0\" stroke-width=\"1.0\">\n        </line>\n        <line x1=\"0.0\" y1=\"88.69505871180712\" x2=\"483.1274342089467\" y2=\"88.69505871180712\" stroke=\"rgb(233,233,233)\" stroke-opacity=\"1.0\" stroke-width=\"1.0\">\n        </line>\n        <line x1=\"0.0\" y1=\"24.868823389758916\" x2=\"483.1274342089467\" y2=\"24.868823389758916\" stroke=\"rgb(233,233,233)\" stroke-opacity=\"1.0\" stroke-width=\"1.0\">\n        </line>\n        <g transform=\"translate(0.0 344.0 ) \">\n          <g transform=\"translate(-3.0 0.0 ) \">\n            <text class=\"axis-text-y\" text-anchor=\"end\" dy=\"0.35em\">\n            0.0\n            </text>\n          </g>\n        </g>\n        <g transform=\"translate(0.0 280.1737646779518 ) \">\n          <g transform=\"translate(-3.0 0.0 ) \">\n            <text class=\"axis-text-y\" text-anchor=\"end\" dy=\"0.35em\">\n            0.1\n            </text>\n          </g>\n        </g>\n        <g transform=\"translate(0.0 216.34752935590356 ) \">\n          <g transform=\"translate(-3.0 0.0 ) \">\n            <text class=\"axis-text-y\" text-anchor=\"end\" dy=\"0.35em\">\n            0.2\n            </text>\n          </g>\n        </g>\n        <g transform=\"translate(0.0 152.52129403385533 ) \">\n          <g transform=\"translate(-3.0 0.0 ) \">\n            <text class=\"axis-text-y\" text-anchor=\"end\" dy=\"0.35em\">\n            0.3\n            </text>\n          </g>\n        </g>\n        <g transform=\"translate(0.0 88.69505871180712 ) \">\n          <g transform=\"translate(-3.0 0.0 ) \">\n            <text class=\"axis-text-y\" text-anchor=\"end\" dy=\"0.35em\">\n            0.4\n            </text>\n          </g>\n        </g>\n        <g transform=\"translate(0.0 24.868823389758916 ) \">\n          <g transform=\"translate(-3.0 0.0 ) \">\n            <text class=\"axis-text-y\" text-anchor=\"end\" dy=\"0.35em\">\n            0.5\n            </text>\n          </g>\n        </g>\n      </g>\n      <g transform=\"translate(27.034701220281416 0.0 ) \" clip-path=\"url(#cpBSDVX)\" clip-bounds-jfx=\"[rect (0.0, 0.0), (483.1274342089467, 344.0)]\">\n        <defs>\n          <clipPath id=\"cpBSDVX\">\n            <rect x=\"0.0\" y=\"0.0\" width=\"483.1274342089467\" height=\"344.0\">\n            </rect>\n          </clipPath>\n        </defs>\n        <g>\n          <path d=\"M21.960337918588493 337.0293819655522 L21.960337918588493 337.0293819655522 L30.92374115066545 337.0293819655522 L39.88714438274238 344.0 L48.850547614819305 344.0 L57.81395084689626 323.08814589665656 L66.77735407897318 344.0 L75.74075731105012 330.05876393110435 L84.70416054312703 337.0293819655522 L93.66756377520397 344.0 L102.63096700728092 344.0 L111.59437023935784 316.1175278622087 L120.55777347143479 288.2350557244174 L129.52117670351174 302.17629179331306 L138.48457993558864 323.08814589665656 L147.4479831676656 316.1175278622087 L156.41138639974253 295.20567375886526 L165.37478963181945 302.17629179331306 L174.3381928638964 260.3525835866261 L183.3015960959733 246.4113475177305 L192.26499932805027 190.64640324214793 L201.2284025601272 197.61702127659572 L210.19180579220412 246.4113475177305 L219.15520902428108 162.76393110435666 L228.118612256358 190.64640324214793 L237.08201548843493 148.82269503546098 L246.04541872051186 197.61702127659572 L255.0088219525888 183.6757852077001 L263.9722251846657 190.64640324214793 L272.9356284167427 141.85207700101316 L281.89903164881963 253.38196555217831 L290.8624348808965 169.73454913880443 L299.82583811297343 190.64640324214793 L308.7892413450504 141.85207700101316 L317.75264457712734 218.52887537993922 L326.71604780920427 288.2350557244174 L335.6794510412812 246.4113475177305 L344.6428542733581 267.32320162107396 L353.6062575054351 239.44072948328267 L362.569660737512 288.2350557244174 L371.53306396958897 288.2350557244174 L380.49646720166584 302.17629179331306 L389.4598704337428 337.0293819655522 L398.4232736658197 281.2644376899696 L407.3866768978967 309.1469098277609 L416.3500801299736 316.1175278622087 L425.31348336205053 344.0 L434.2768865941275 344.0 L443.2402898262044 344.0 L452.2036930582814 337.0293819655522 L461.16709629035824 323.08814589665656 L461.16709629035824 344.0 L452.2036930582814 344.0 L443.2402898262044 344.0 L434.2768865941275 344.0 L425.31348336205053 344.0 L416.3500801299736 344.0 L407.3866768978967 344.0 L398.4232736658197 344.0 L389.4598704337428 344.0 L380.49646720166584 344.0 L371.53306396958897 344.0 L362.569660737512 344.0 L353.6062575054351 344.0 L344.6428542733581 344.0 L335.6794510412812 344.0 L326.71604780920427 344.0 L317.75264457712734 344.0 L308.7892413450504 344.0 L299.82583811297343 344.0 L290.8624348808965 344.0 L281.89903164881963 344.0 L272.9356284167427 344.0 L263.9722251846657 344.0 L255.0088219525888 344.0 L246.04541872051186 344.0 L237.08201548843493 344.0 L228.118612256358 344.0 L219.15520902428108 344.0 L210.19180579220412 344.0 L201.2284025601272 344.0 L192.26499932805027 344.0 L183.3015960959733 344.0 L174.3381928638964 344.0 L165.37478963181945 344.0 L156.41138639974253 344.0 L147.4479831676656 344.0 L138.48457993558864 344.0 L129.52117670351174 344.0 L120.55777347143479 344.0 L111.59437023935784 344.0 L102.63096700728092 344.0 L93.66756377520397 344.0 L84.70416054312703 344.0 L75.74075731105012 344.0 L66.77735407897318 344.0 L57.81395084689626 344.0 L48.850547614819305 344.0 L39.88714438274238 344.0 L30.92374115066545 344.0 L21.960337918588493 344.0 Z\" fill=\"rgb(252,141,98)\" stroke-width=\"1.0\" fill-opacity=\"0.6\">\n          </path>\n        </g>\n        <g>\n          <path d=\"M21.960337918588493 337.0293819655522 L21.960337918588493 337.0293819655522 L30.92374115066545 337.0293819655522 L39.88714438274238 344.0 L48.850547614819305 344.0 L57.81395084689626 323.08814589665656 L66.77735407897318 344.0 L75.74075731105012 330.05876393110435 L84.70416054312703 337.0293819655522 L93.66756377520397 344.0 L102.63096700728092 344.0 L111.59437023935784 316.1175278622087 L120.55777347143479 288.2350557244174 L129.52117670351174 302.17629179331306 L138.48457993558864 323.08814589665656 L147.4479831676656 316.1175278622087 L156.41138639974253 295.20567375886526 L165.37478963181945 302.17629179331306 L174.3381928638964 260.3525835866261 L183.3015960959733 246.4113475177305 L192.26499932805027 190.64640324214793 L201.2284025601272 197.61702127659572 L210.19180579220412 246.4113475177305 L219.15520902428108 162.76393110435666 L228.118612256358 190.64640324214793 L237.08201548843493 148.82269503546098 L246.04541872051186 197.61702127659572 L255.0088219525888 183.6757852077001 L263.9722251846657 190.64640324214793 L272.9356284167427 141.85207700101316 L281.89903164881963 253.38196555217831 L290.8624348808965 169.73454913880443 L299.82583811297343 190.64640324214793 L308.7892413450504 141.85207700101316 L317.75264457712734 218.52887537993922 L326.71604780920427 288.2350557244174 L335.6794510412812 246.4113475177305 L344.6428542733581 267.32320162107396 L353.6062575054351 239.44072948328267 L362.569660737512 288.2350557244174 L371.53306396958897 288.2350557244174 L380.49646720166584 302.17629179331306 L389.4598704337428 337.0293819655522 L398.4232736658197 281.2644376899696 L407.3866768978967 309.1469098277609 L416.3500801299736 316.1175278622087 L425.31348336205053 344.0 L434.2768865941275 344.0 L443.2402898262044 344.0 L452.2036930582814 337.0293819655522 L461.16709629035824 323.08814589665656 \" fill=\"none\" stroke-width=\"1.0\" stroke=\"rgb(0,0,0)\" stroke-opacity=\"1.0\">\n          </path>\n        </g>\n        <g>\n          <path d=\"M21.960337918588493 337.0293819655522 L21.960337918588493 337.0293819655522 L30.92374115066545 344.0 L39.88714438274238 337.0293819655522 L48.850547614819305 337.0293819655522 L57.81395084689626 330.05876393110435 L66.77735407897318 330.05876393110435 L75.74075731105012 309.1469098277609 L84.70416054312703 316.1175278622087 L93.66756377520397 295.20567375886526 L102.63096700728092 288.2350557244174 L111.59437023935784 302.17629179331306 L120.55777347143479 260.3525835866261 L129.52117670351174 225.49949341438702 L138.48457993558864 100.02836879432621 L147.4479831676656 148.82269503546098 L156.41138639974253 120.94022289766971 L165.37478963181945 162.76393110435666 L174.3381928638964 134.88145896656533 L183.3015960959733 120.94022289766971 L192.26499932805027 16.380952380952408 L201.2284025601272 106.99898682877404 L210.19180579220412 37.29280648429585 L219.15520902428108 120.94022289766971 L228.118612256358 204.58763931104357 L237.08201548843493 253.38196555217831 L246.04541872051186 246.4113475177305 L255.0088219525888 218.52887537993922 L263.9722251846657 309.1469098277609 L272.9356284167427 281.2644376899696 L281.89903164881963 323.08814589665656 L290.8624348808965 330.05876393110435 L299.82583811297343 316.1175278622087 L308.7892413450504 309.1469098277609 L317.75264457712734 344.0 L326.71604780920427 337.0293819655522 L335.6794510412812 344.0 L344.6428542733581 344.0 L353.6062575054351 344.0 L362.569660737512 344.0 L371.53306396958897 344.0 L380.49646720166584 344.0 L389.4598704337428 344.0 L398.4232736658197 344.0 L407.3866768978967 344.0 L416.3500801299736 344.0 L425.31348336205053 344.0 L434.2768865941275 344.0 L443.2402898262044 344.0 L452.2036930582814 344.0 L461.16709629035824 344.0 L461.16709629035824 344.0 L452.2036930582814 344.0 L443.2402898262044 344.0 L434.2768865941275 344.0 L425.31348336205053 344.0 L416.3500801299736 344.0 L407.3866768978967 344.0 L398.4232736658197 344.0 L389.4598704337428 344.0 L380.49646720166584 344.0 L371.53306396958897 344.0 L362.569660737512 344.0 L353.6062575054351 344.0 L344.6428542733581 344.0 L335.6794510412812 344.0 L326.71604780920427 344.0 L317.75264457712734 344.0 L308.7892413450504 344.0 L299.82583811297343 344.0 L290.8624348808965 344.0 L281.89903164881963 344.0 L272.9356284167427 344.0 L263.9722251846657 344.0 L255.0088219525888 344.0 L246.04541872051186 344.0 L237.08201548843493 344.0 L228.118612256358 344.0 L219.15520902428108 344.0 L210.19180579220412 344.0 L201.2284025601272 344.0 L192.26499932805027 344.0 L183.3015960959733 344.0 L174.3381928638964 344.0 L165.37478963181945 344.0 L156.41138639974253 344.0 L147.4479831676656 344.0 L138.48457993558864 344.0 L129.52117670351174 344.0 L120.55777347143479 344.0 L111.59437023935784 344.0 L102.63096700728092 344.0 L93.66756377520397 344.0 L84.70416054312703 344.0 L75.74075731105012 344.0 L66.77735407897318 344.0 L57.81395084689626 344.0 L48.850547614819305 344.0 L39.88714438274238 344.0 L30.92374115066545 344.0 L21.960337918588493 344.0 Z\" fill=\"rgb(102,194,165)\" stroke-width=\"1.0\" fill-opacity=\"0.6\">\n          </path>\n        </g>\n        <g>\n          <path d=\"M21.960337918588493 337.0293819655522 L21.960337918588493 337.0293819655522 L30.92374115066545 344.0 L39.88714438274238 337.0293819655522 L48.850547614819305 337.0293819655522 L57.81395084689626 330.05876393110435 L66.77735407897318 330.05876393110435 L75.74075731105012 309.1469098277609 L84.70416054312703 316.1175278622087 L93.66756377520397 295.20567375886526 L102.63096700728092 288.2350557244174 L111.59437023935784 302.17629179331306 L120.55777347143479 260.3525835866261 L129.52117670351174 225.49949341438702 L138.48457993558864 100.02836879432621 L147.4479831676656 148.82269503546098 L156.41138639974253 120.94022289766971 L165.37478963181945 162.76393110435666 L174.3381928638964 134.88145896656533 L183.3015960959733 120.94022289766971 L192.26499932805027 16.380952380952408 L201.2284025601272 106.99898682877404 L210.19180579220412 37.29280648429585 L219.15520902428108 120.94022289766971 L228.118612256358 204.58763931104357 L237.08201548843493 253.38196555217831 L246.04541872051186 246.4113475177305 L255.0088219525888 218.52887537993922 L263.9722251846657 309.1469098277609 L272.9356284167427 281.2644376899696 L281.89903164881963 323.08814589665656 L290.8624348808965 330.05876393110435 L299.82583811297343 316.1175278622087 L308.7892413450504 309.1469098277609 L317.75264457712734 344.0 L326.71604780920427 337.0293819655522 L335.6794510412812 344.0 L344.6428542733581 344.0 L353.6062575054351 344.0 L362.569660737512 344.0 L371.53306396958897 344.0 L380.49646720166584 344.0 L389.4598704337428 344.0 L398.4232736658197 344.0 L407.3866768978967 344.0 L416.3500801299736 344.0 L425.31348336205053 344.0 L434.2768865941275 344.0 L443.2402898262044 344.0 L452.2036930582814 344.0 L461.16709629035824 344.0 \" fill=\"none\" stroke-width=\"1.0\" stroke=\"rgb(0,0,0)\" stroke-opacity=\"1.0\">\n          </path>\n        </g>\n      </g>\n    </g>\n    <g transform=\"translate(14.5 182.0 ) rotate(-90.0 ) \">\n      <text class=\"axis-title-y\" y=\"0.0\" text-anchor=\"middle\">\n      STAT_DENSITY\n      </text>\n    </g>\n    <g transform=\"translate(291.5984183247548 391.5 ) \">\n      <text class=\"axis-title-x\" y=\"0.0\" text-anchor=\"middle\">\n      STAT_BINS\n      </text>\n    </g>\n    <g transform=\"translate(543.1621354292281 137.75 ) \">\n      <rect x=\"5.0\" y=\"5.0\" height=\"78.5\" width=\"46.83786457077187\" stroke=\"rgb(71,71,71)\" stroke-opacity=\"1.0\" stroke-width=\"0.0\" fill=\"rgb(255,255,255)\" fill-opacity=\"1.0\">\n      </rect>\n      <g transform=\"translate(10.0 10.0 ) \">\n        <g transform=\"translate(0.0 10.5 ) \">\n          <text class=\"legend-title\" y=\"0.0\">\n          cond\n          </text>\n        </g>\n        <g transform=\"translate(0.0 22.5 ) \">\n          <g transform=\"\">\n            <g>\n              <rect x=\"0.0\" y=\"0.0\" height=\"23.0\" width=\"23.0\" stroke-width=\"0.0\" fill=\"rgb(255,255,255)\" fill-opacity=\"1.0\">\n              </rect>\n              <g transform=\"translate(1.0 1.0 ) \">\n                <g>\n                  <rect x=\"0.0\" y=\"0.0\" height=\"21.0\" width=\"21.0\" stroke=\"rgb(0,0,0)\" stroke-opacity=\"1.0\" fill=\"rgb(102,194,165)\" fill-opacity=\"1.0\" stroke-width=\"1.5\">\n                  </rect>\n                </g>\n              </g>\n              <rect x=\"0.0\" y=\"0.0\" height=\"23.0\" width=\"23.0\" stroke=\"rgb(255,255,255)\" stroke-opacity=\"1.0\" stroke-width=\"1.0\" fill-opacity=\"0.0\">\n              </rect>\n            </g>\n            <g transform=\"translate(26.9903027277341 16.05 ) \">\n              <text class=\"legend-item\" y=\"0.0\">\n              A\n              </text>\n            </g>\n          </g>\n          <g transform=\"translate(0.0 23.0 ) \">\n            <g>\n              <rect x=\"0.0\" y=\"0.0\" height=\"23.0\" width=\"23.0\" stroke-width=\"0.0\" fill=\"rgb(255,255,255)\" fill-opacity=\"1.0\">\n              </rect>\n              <g transform=\"translate(1.0 1.0 ) \">\n                <g>\n                  <rect x=\"0.0\" y=\"0.0\" height=\"21.0\" width=\"21.0\" stroke=\"rgb(0,0,0)\" stroke-opacity=\"1.0\" fill=\"rgb(252,141,98)\" fill-opacity=\"1.0\" stroke-width=\"1.5\">\n                  </rect>\n                </g>\n              </g>\n              <rect x=\"0.0\" y=\"0.0\" height=\"23.0\" width=\"23.0\" stroke=\"rgb(255,255,255)\" stroke-opacity=\"1.0\" stroke-width=\"1.0\" fill-opacity=\"0.0\">\n              </rect>\n            </g>\n            <g transform=\"translate(26.9903027277341 16.05 ) \">\n              <text class=\"legend-item\" y=\"0.0\">\n              B\n              </text>\n            </g>\n          </g>\n        </g>\n      </g>\n    </g>\n  </g>\n  <g id=\"dMWBc5z\">\n  </g>\n</svg>\n        <script>document.getElementById(\"3cfc4e2d-35aa-4a6b-a5ee-8a79ae93b3e8\").style.display = \"none\";</script>",
      "application/plot+json": {
       "output_type": "lets_plot_spec",
       "output": {
        "mapping": {},
        "data": {},
        "kind": "plot",
        "scales": [
         {
          "aesthetic": "x",
          "limits": [
           null,
           null
          ]
         },
         {
          "aesthetic": "y",
          "limits": [
           null,
           null
          ]
         },
         {
          "aesthetic": "fill",
          "discrete": true
         }
        ],
        "layers": [
         {
          "mapping": {
           "x": "STAT_BINS",
           "y": "STAT_DENSITY",
           "fill": "cond",
           "group": "&merged_groups"
          },
          "stat": "identity",
          "data": {
           "&merged_groups": [
            "A",
            "A",
            "A",
            "A",
            "A",
            "A",
            "A",
            "A",
            "A",
            "A",
            "A",
            "A",
            "A",
            "A",
            "A",
            "A",
            "A",
            "A",
            "A",
            "A",
            "A",
            "A",
            "A",
            "A",
            "A",
            "A",
            "A",
            "A",
            "A",
            "A",
            "A",
            "A",
            "A",
            "A",
            "A",
            "A",
            "A",
            "A",
            "A",
            "A",
            "A",
            "A",
            "A",
            "A",
            "A",
            "A",
            "A",
            "A",
            "A",
            "A",
            "B",
            "B",
            "B",
            "B",
            "B",
            "B",
            "B",
            "B",
            "B",
            "B",
            "B",
            "B",
            "B",
            "B",
            "B",
            "B",
            "B",
            "B",
            "B",
            "B",
            "B",
            "B",
            "B",
            "B",
            "B",
            "B",
            "B",
            "B",
            "B",
            "B",
            "B",
            "B",
            "B",
            "B",
            "B",
            "B",
            "B",
            "B",
            "B",
            "B",
            "B",
            "B",
            "B",
            "B",
            "B",
            "B",
            "B",
            "B",
            "B",
            "B"
           ],
           "STAT_DENSITY": [
            0.010921243,
            0.0,
            0.010921243,
            0.010921243,
            0.021842485,
            0.021842485,
            0.054606214,
            0.04368497,
            0.0764487,
            0.08736994,
            0.065527454,
            0.13105491,
            0.18566112,
            0.38224348,
            0.3057948,
            0.34947976,
            0.2839523,
            0.32763728,
            0.34947976,
            0.5132984,
            0.37132224,
            0.48053467,
            0.34947976,
            0.21842486,
            0.14197615,
            0.1528974,
            0.19658236,
            0.054606214,
            0.09829118,
            0.032763727,
            0.021842485,
            0.04368497,
            0.054606214,
            0.0,
            0.010921243,
            0.0,
            0.0,
            0.0,
            0.0,
            0.0,
            0.0,
            0.0,
            0.0,
            0.0,
            0.0,
            0.0,
            0.0,
            0.0,
            0.0,
            0.0,
            0.010921243,
            0.010921243,
            0.0,
            0.0,
            0.032763727,
            0.0,
            0.021842485,
            0.010921243,
            0.0,
            0.0,
            0.04368497,
            0.08736994,
            0.065527454,
            0.032763727,
            0.04368497,
            0.0764487,
            0.065527454,
            0.13105491,
            0.1528974,
            0.24026734,
            0.2293461,
            0.1528974,
            0.2839523,
            0.24026734,
            0.3057948,
            0.2293461,
            0.25118858,
            0.24026734,
            0.31671605,
            0.14197615,
            0.27303106,
            0.24026734,
            0.31671605,
            0.19658236,
            0.08736994,
            0.1528974,
            0.12013367,
            0.16381864,
            0.08736994,
            0.08736994,
            0.065527454,
            0.010921243,
            0.09829118,
            0.054606214,
            0.04368497,
            0.0,
            0.0,
            0.0,
            0.010921243,
            0.032763727
           ],
           "cond": [
            "A",
            "A",
            "A",
            "A",
            "A",
            "A",
            "A",
            "A",
            "A",
            "A",
            "A",
            "A",
            "A",
            "A",
            "A",
            "A",
            "A",
            "A",
            "A",
            "A",
            "A",
            "A",
            "A",
            "A",
            "A",
            "A",
            "A",
            "A",
            "A",
            "A",
            "A",
            "A",
            "A",
            "A",
            "A",
            "A",
            "A",
            "A",
            "A",
            "A",
            "A",
            "A",
            "A",
            "A",
            "A",
            "A",
            "A",
            "A",
            "A",
            "A",
            "B",
            "B",
            "B",
            "B",
            "B",
            "B",
            "B",
            "B",
            "B",
            "B",
            "B",
            "B",
            "B",
            "B",
            "B",
            "B",
            "B",
            "B",
            "B",
            "B",
            "B",
            "B",
            "B",
            "B",
            "B",
            "B",
            "B",
            "B",
            "B",
            "B",
            "B",
            "B",
            "B",
            "B",
            "B",
            "B",
            "B",
            "B",
            "B",
            "B",
            "B",
            "B",
            "B",
            "B",
            "B",
            "B",
            "B",
            "B",
            "B",
            "B"
           ],
           "STAT_BINS": [
            -3.4464612,
            -3.2582042,
            -3.0699472,
            -2.8816903,
            -2.6934333,
            -2.5051763,
            -2.3169193,
            -2.1286623,
            -1.9404055,
            -1.7521485,
            -1.5638915,
            -1.3756346,
            -1.1873777,
            -0.99912065,
            -0.81086373,
            -0.62260675,
            -0.43434978,
            -0.24609281,
            -0.057835843,
            0.13042112,
            0.31867808,
            0.50693506,
            0.69519204,
            0.88344896,
            1.0717059,
            1.2599629,
            1.4482199,
            1.6364769,
            1.8247339,
            2.0129907,
            2.2012477,
            2.3895047,
            2.5777617,
            2.7660186,
            2.9542756,
            3.1425326,
            3.3307896,
            3.5190465,
            3.7073035,
            3.8955605,
            4.0838175,
            4.272074,
            4.4603314,
            4.648588,
            4.8368454,
            5.025102,
            5.2133594,
            5.401616,
            5.5898733,
            5.77813,
            -3.4464612,
            -3.2582042,
            -3.0699472,
            -2.8816903,
            -2.6934333,
            -2.5051763,
            -2.3169193,
            -2.1286623,
            -1.9404055,
            -1.7521485,
            -1.5638915,
            -1.3756346,
            -1.1873777,
            -0.99912065,
            -0.81086373,
            -0.62260675,
            -0.43434978,
            -0.24609281,
            -0.057835843,
            0.13042112,
            0.31867808,
            0.50693506,
            0.69519204,
            0.88344896,
            1.0717059,
            1.2599629,
            1.4482199,
            1.6364769,
            1.8247339,
            2.0129907,
            2.2012477,
            2.3895047,
            2.5777617,
            2.7660186,
            2.9542756,
            3.1425326,
            3.3307896,
            3.5190465,
            3.7073035,
            3.8955605,
            4.0838175,
            4.272074,
            4.4603314,
            4.648588,
            4.8368454,
            5.025102,
            5.2133594,
            5.401616,
            5.5898733,
            5.77813
           ]
          },
          "color": "#000000",
          "size": 0.5,
          "sampling": "none",
          "alpha": 0.6,
          "position": "identity",
          "geom": "area"
         }
        ]
       },
       "apply_color_scheme": true,
       "swing_enabled": true
      }
     },
     "execution_count": 12,
     "metadata": {},
     "output_type": "execute_result"
    }
   ],
   "source": [
    "plot(data) {\n",
    "    groupBy(cond) {\n",
    "        statBin(rating, bins = Bins.byNumber(50)) {\n",
    "            area {\n",
    "                x(Stat.BINS)\n",
    "                y(Stat.DENSITY)\n",
    "                \n",
    "                fillColor(cond)\n",
    "                alpha = .6\n",
    "                \n",
    "                borderLine {\n",
    "                    color = Color.BLACK\n",
    "                    width = .5\n",
    "                }\n",
    "            }\n",
    "        }\n",
    "    }\n",
    "}"
   ]
  }
 ],
 "metadata": {
  "datalore": {
   "base_environment": "default",
   "computation_mode": "JUPYTER",
   "package_manager": "pip",
   "packages": [],
   "version": 1
  },
  "kernelspec": {
   "display_name": "Kotlin",
   "language": "kotlin",
   "name": "kotlin"
  },
  "language_info": {
   "codemirror_mode": "text/x-kotlin",
   "file_extension": ".kt",
   "mimetype": "text/x-kotlin",
   "name": "kotlin",
   "nbconvert_exporter": "",
   "pygments_lexer": "kotlin",
   "version": "1.8.20-Beta"
  }
 },
 "nbformat": 4,
 "nbformat_minor": 4
}
