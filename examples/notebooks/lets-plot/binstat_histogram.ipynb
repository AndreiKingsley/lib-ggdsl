{
 "cells": [
  {
   "cell_type": "code",
   "execution_count": 1,
   "metadata": {
    "datalore": {
     "hide_input_from_viewers": false,
     "hide_output_from_viewers": false,
     "node_id": "UAJZ9WlEGslnW9Rgbww7eT",
     "type": "CODE"
    },
    "pycharm": {
     "name": "#%%\n"
    }
   },
   "outputs": [
    {
     "data": {
      "text/html": [
       "   <div id=\"qZlHie\"></div>\n",
       "   <script type=\"text/javascript\" data-lets-plot-script=\"library\">\n",
       "       if(!window.letsPlotCallQueue) {\n",
       "           window.letsPlotCallQueue = [];\n",
       "       }; \n",
       "       window.letsPlotCall = function(f) {\n",
       "           window.letsPlotCallQueue.push(f);\n",
       "       };\n",
       "       (function() {\n",
       "           var script = document.createElement(\"script\");\n",
       "           script.type = \"text/javascript\";\n",
       "           script.src = \"https://cdn.jsdelivr.net/gh/JetBrains/lets-plot@v3.1.0/js-package/distr/lets-plot.min.js\";\n",
       "           script.onload = function() {\n",
       "               window.letsPlotCall = function(f) {f();};\n",
       "               window.letsPlotCallQueue.forEach(function(f) {f();});\n",
       "               window.letsPlotCallQueue = [];\n",
       "               \n",
       "               \n",
       "           };\n",
       "           script.onerror = function(event) {\n",
       "               window.letsPlotCall = function(f) {};\n",
       "               window.letsPlotCallQueue = [];\n",
       "               var div = document.createElement(\"div\");\n",
       "               div.style.color = 'darkred';\n",
       "               div.textContent = 'Error loading Lets-Plot JS';\n",
       "               document.getElementById(\"qZlHie\").appendChild(div);\n",
       "           };\n",
       "           var e = document.getElementById(\"qZlHie\");\n",
       "           e.appendChild(script);\n",
       "       })();\n",
       "   </script>"
      ]
     },
     "metadata": {},
     "output_type": "display_data"
    },
    {
     "data": {
      "text/html": [
       "            <div id=\"kotlin_out_0\"/>\n",
       "            <script type=\"text/javascript\">\n",
       "                            if(!window.kotlinQueues) {\n",
       "                window.kotlinQueues = {};\n",
       "            }\n",
       "            if(!window.kotlinQueues[\"DataFrame\"]) {\n",
       "                var resQueue = [];\n",
       "                window.kotlinQueues[\"DataFrame\"] = resQueue;\n",
       "                window[\"call_DataFrame\"] = function(f) {\n",
       "                    resQueue.push(f);\n",
       "                }\n",
       "            }\n",
       "            (function (){\n",
       "                var modifiers = [(function(script) {\n",
       "    script.src = \"https://cdn.jsdelivr.net/gh/Kotlin/dataframe@3db46ccccaa1291c0627307d64133317f545e6ae/core/src/main/resources/init.js\"\n",
       "    script.type = \"text/javascript\";\n",
       "})];\n",
       "                var e = document.getElementById(\"kotlin_out_0\");\n",
       "                modifiers.forEach(function (gen) {\n",
       "                    var script = document.createElement(\"script\");\n",
       "                    gen(script)\n",
       "                    script.addEventListener(\"load\", function() {\n",
       "                        window[\"call_DataFrame\"] = function(f) {f();};\n",
       "                        window.kotlinQueues[\"DataFrame\"].forEach(function(f) {f();});\n",
       "                        window.kotlinQueues[\"DataFrame\"] = [];\n",
       "                    }, false);\n",
       "                    script.addEventListener(\"error\", function() {\n",
       "                        window[\"call_DataFrame\"] = function(f) {};\n",
       "                        window.kotlinQueues[\"DataFrame\"] = [];\n",
       "                        var div = document.createElement(\"div\");\n",
       "                        div.style.color = 'darkred';\n",
       "                        div.textContent = 'Error loading resource DataFrame';\n",
       "                        document.getElementById(\"kotlin_out_0\").appendChild(div);\n",
       "                    }, false);\n",
       "                    \n",
       "                    e.appendChild(script);\n",
       "                });\n",
       "            })();\n",
       "            </script>"
      ]
     },
     "metadata": {},
     "output_type": "display_data"
    },
    {
     "data": {
      "text/html": [
       "                <style>\n",
       "                :root {\n",
       "    --background: #fff;\n",
       "    --background-odd: #f5f5f5;\n",
       "    --background-hover: #d9edfd;\n",
       "    --header-text-color: #474747;\n",
       "    --text-color: #848484;\n",
       "    --text-color-dark: #000;\n",
       "    --text-color-medium: #737373;\n",
       "    --text-color-pale: #b3b3b3;\n",
       "    --inner-border-color: #aaa;\n",
       "    --bold-border-color: #000;\n",
       "    --link-color: #296eaa;\n",
       "    --link-color-pale: #296eaa;\n",
       "    --link-hover: #1a466c;\n",
       "}\n",
       "\n",
       ":root[theme=\"dark\"], :root [data-jp-theme-light=\"false\"], .dataframe_dark{\n",
       "    --background: #303030;\n",
       "    --background-odd: #3c3c3c;\n",
       "    --background-hover: #464646;\n",
       "    --header-text-color: #dddddd;\n",
       "    --text-color: #b3b3b3;\n",
       "    --text-color-dark: #dddddd;\n",
       "    --text-color-medium: #b2b2b2;\n",
       "    --text-color-pale: #737373;\n",
       "    --inner-border-color: #707070;\n",
       "    --bold-border-color: #777777;\n",
       "    --link-color: #008dc0;\n",
       "    --link-color-pale: #97e1fb;\n",
       "    --link-hover: #00688e;\n",
       "}\n",
       "\n",
       "p.dataframe_description {\n",
       "    color: var(--text-color-dark);\n",
       "}\n",
       "\n",
       "table.dataframe {\n",
       "    font-family: \"Helvetica Neue\", Helvetica, Arial, sans-serif;\n",
       "    font-size: 12px;\n",
       "    background-color: var(--background);\n",
       "    color: var(--text-color-dark);\n",
       "    border: none;\n",
       "    border-collapse: collapse;\n",
       "}\n",
       "\n",
       "table.dataframe th, td {\n",
       "    padding: 6px;\n",
       "    border: 1px solid transparent;\n",
       "    text-align: left;\n",
       "}\n",
       "\n",
       "table.dataframe th {\n",
       "    background-color: var(--background);\n",
       "    color: var(--header-text-color);\n",
       "}\n",
       "\n",
       "table.dataframe td {\n",
       "    vertical-align: top;\n",
       "}\n",
       "\n",
       "table.dataframe th.bottomBorder {\n",
       "    border-bottom-color: var(--bold-border-color);\n",
       "}\n",
       "\n",
       "table.dataframe tbody > tr:nth-child(odd) {\n",
       "    background: var(--background-odd);\n",
       "}\n",
       "\n",
       "table.dataframe tbody > tr:nth-child(even) {\n",
       "    background: var(--background);\n",
       "}\n",
       "\n",
       "table.dataframe tbody > tr:hover {\n",
       "    background: var(--background-hover);\n",
       "}\n",
       "\n",
       "table.dataframe a {\n",
       "    cursor: pointer;\n",
       "    color: var(--link-color);\n",
       "    text-decoration: none;\n",
       "}\n",
       "\n",
       "table.dataframe tr:hover > td a {\n",
       "    color: var(--link-color-pale);\n",
       "}\n",
       "\n",
       "table.dataframe a:hover {\n",
       "    color: var(--link-hover);\n",
       "    text-decoration: underline;\n",
       "}\n",
       "\n",
       "table.dataframe img {\n",
       "    max-width: fit-content;\n",
       "}\n",
       "\n",
       "table.dataframe th.complex {\n",
       "    background-color: var(--background);\n",
       "    border: 1px solid var(--background);\n",
       "}\n",
       "\n",
       "table.dataframe .leftBorder {\n",
       "    border-left-color: var(--inner-border-color);\n",
       "}\n",
       "\n",
       "table.dataframe .rightBorder {\n",
       "    border-right-color: var(--inner-border-color);\n",
       "}\n",
       "\n",
       "table.dataframe .rightAlign {\n",
       "    text-align: right;\n",
       "}\n",
       "\n",
       "table.dataframe .expanderSvg {\n",
       "    width: 8px;\n",
       "    height: 8px;\n",
       "    margin-right: 3px;\n",
       "}\n",
       "\n",
       "table.dataframe .expander {\n",
       "    display: flex;\n",
       "    align-items: center;\n",
       "}\n",
       "\n",
       "/* formatting */\n",
       "\n",
       "table.dataframe .null {\n",
       "    color: var(--text-color-pale);\n",
       "}\n",
       "\n",
       "table.dataframe .structural {\n",
       "    color: var(--text-color-medium);\n",
       "    font-weight: bold;\n",
       "}\n",
       "\n",
       "table.dataframe .dataFrameCaption {\n",
       "    font-weight: bold;\n",
       "}\n",
       "\n",
       "table.dataframe .numbers {\n",
       "    color: var(--text-color-dark);\n",
       "}\n",
       "\n",
       "table.dataframe td:hover .formatted .structural, .null {\n",
       "    color: var(--text-color-dark);\n",
       "}\n",
       "\n",
       "table.dataframe tr:hover .formatted .structural, .null {\n",
       "    color: var(--text-color-dark);\n",
       "}\n",
       "\n",
       "\n",
       "                </style>"
      ]
     },
     "metadata": {},
     "output_type": "display_data"
    }
   ],
   "source": [
    "%useLatestDescriptors\n",
    "%use ggdsl"
   ]
  },
  {
   "cell_type": "code",
   "execution_count": 2,
   "metadata": {
    "datalore": {
     "hide_input_from_viewers": false,
     "hide_output_from_viewers": false,
     "node_id": "SVzS3HJP3fGxhUMsKqG3GF",
     "type": "CODE"
    },
    "pycharm": {
     "name": "#%%\n"
    }
   },
   "outputs": [],
   "source": [
    "import java.util.*\n",
    "val numbers = IntArray(1000) {Random().nextGaussian().times(25).toInt()}.toList()"
   ]
  },
  {
   "cell_type": "code",
   "execution_count": 3,
   "metadata": {},
   "outputs": [
    {
     "data": {
      "application/plot+json": {
       "apply_color_scheme": true,
       "output": {
        "data": {},
        "kind": "plot",
        "layers": [
         {
          "data": {
           "STAT_BINS": [
            -91.3365,
            -82.6695,
            -74.0025,
            -65.3355,
            -56.6685,
            -48.0015,
            -39.334500000000006,
            -30.667500000000004,
            -22.000500000000002,
            -13.3335,
            -4.666499999999999,
            4.000500000000002,
            12.66749999999999,
            21.33449999999999,
            30.001499999999993,
            38.668499999999995,
            47.335499999999996,
            56.0025,
            64.6695,
            73.3365
           ],
           "STAT_COUNT": [
            1,
            0,
            1,
            5,
            8,
            20,
            44,
            70,
            102,
            99,
            132,
            171,
            109,
            92,
            70,
            48,
            12,
            12,
            3,
            1
           ]
          },
          "geom": "bar",
          "mapping": {
           "x": "STAT_BINS",
           "y": "STAT_COUNT"
          },
          "position": "identity",
          "sampling": "none",
          "stat": "identity"
         }
        ],
        "mapping": {},
        "scales": [
         {
          "aesthetic": "x",
          "limits": [
           null,
           null
          ]
         },
         {
          "aesthetic": "y",
          "limits": [
           null,
           null
          ]
         }
        ]
       },
       "output_type": "lets_plot_spec",
       "swing_enabled": true
      },
      "text/html": [
       "   <div id=\"oQWKg1\"></div>\n",
       "   <script type=\"text/javascript\" data-lets-plot-script=\"plot\">\n",
       "       (function() {\n",
       "           var plotSpec={\n",
       "\"mapping\":{\n",
       "},\n",
       "\"data\":{\n",
       "},\n",
       "\"kind\":\"plot\",\n",
       "\"scales\":[{\n",
       "\"aesthetic\":\"x\",\n",
       "\"limits\":[null,null]\n",
       "},{\n",
       "\"aesthetic\":\"y\",\n",
       "\"limits\":[null,null]\n",
       "}],\n",
       "\"layers\":[{\n",
       "\"mapping\":{\n",
       "\"x\":\"STAT_BINS\",\n",
       "\"y\":\"STAT_COUNT\"\n",
       "},\n",
       "\"stat\":\"identity\",\n",
       "\"data\":{\n",
       "\"STAT_COUNT\":[1.0,0.0,1.0,5.0,8.0,20.0,44.0,70.0,102.0,99.0,132.0,171.0,109.0,92.0,70.0,48.0,12.0,12.0,3.0,1.0],\n",
       "\"STAT_BINS\":[-91.3365,-82.6695,-74.0025,-65.3355,-56.6685,-48.0015,-39.334500000000006,-30.667500000000004,-22.000500000000002,-13.3335,-4.666499999999999,4.000500000000002,12.66749999999999,21.33449999999999,30.001499999999993,38.668499999999995,47.335499999999996,56.0025,64.6695,73.3365]\n",
       "},\n",
       "\"sampling\":\"none\",\n",
       "\"position\":\"identity\",\n",
       "\"geom\":\"bar\"\n",
       "}]\n",
       "};\n",
       "           var plotContainer = document.getElementById(\"oQWKg1\");\n",
       "           window.letsPlotCall(function() {{\n",
       "               LetsPlot.buildPlotFromProcessedSpecs(plotSpec, -1, -1, plotContainer);\n",
       "           }});\n",
       "       })();    \n",
       "   </script>"
      ]
     },
     "execution_count": 3,
     "metadata": {},
     "output_type": "execute_result"
    }
   ],
   "source": [
    "plot {\n",
    "    histogram(numbers)\n",
    "}"
   ]
  },
  {
   "cell_type": "code",
   "execution_count": 4,
   "metadata": {},
   "outputs": [
    {
     "data": {
      "application/plot+json": {
       "apply_color_scheme": true,
       "output": {
        "data": {},
        "kind": "plot",
        "layers": [
         {
          "data": {
           "STAT_BINS": [
            -94,
            -74,
            -54,
            -34,
            -14,
            6,
            26,
            46,
            66,
            86
           ],
           "STAT_COUNT": [
            1,
            4,
            29,
            136,
            243,
            325,
            199,
            52,
            11,
            0
           ]
          },
          "geom": "bar",
          "mapping": {
           "x": "STAT_BINS",
           "y": "STAT_COUNT"
          },
          "position": "identity",
          "sampling": "none",
          "stat": "identity"
         }
        ],
        "mapping": {},
        "scales": [
         {
          "aesthetic": "x",
          "limits": [
           null,
           null
          ]
         },
         {
          "aesthetic": "y",
          "limits": [
           null,
           null
          ]
         }
        ]
       },
       "output_type": "lets_plot_spec",
       "swing_enabled": true
      },
      "text/html": [
       "   <div id=\"EkBn8j\"></div>\n",
       "   <script type=\"text/javascript\" data-lets-plot-script=\"plot\">\n",
       "       (function() {\n",
       "           var plotSpec={\n",
       "\"mapping\":{\n",
       "},\n",
       "\"data\":{\n",
       "},\n",
       "\"kind\":\"plot\",\n",
       "\"scales\":[{\n",
       "\"aesthetic\":\"x\",\n",
       "\"limits\":[null,null]\n",
       "},{\n",
       "\"aesthetic\":\"y\",\n",
       "\"limits\":[null,null]\n",
       "}],\n",
       "\"layers\":[{\n",
       "\"mapping\":{\n",
       "\"x\":\"STAT_BINS\",\n",
       "\"y\":\"STAT_COUNT\"\n",
       "},\n",
       "\"stat\":\"identity\",\n",
       "\"data\":{\n",
       "\"STAT_COUNT\":[1.0,4.0,29.0,136.0,243.0,325.0,199.0,52.0,11.0,0.0],\n",
       "\"STAT_BINS\":[-94.0,-74.0,-54.0,-34.0,-14.0,6.0,26.0,46.0,66.0,86.0]\n",
       "},\n",
       "\"sampling\":\"none\",\n",
       "\"position\":\"identity\",\n",
       "\"geom\":\"bar\"\n",
       "}]\n",
       "};\n",
       "           var plotContainer = document.getElementById(\"EkBn8j\");\n",
       "           window.letsPlotCall(function() {{\n",
       "               LetsPlot.buildPlotFromProcessedSpecs(plotSpec, -1, -1, plotContainer);\n",
       "           }});\n",
       "       })();    \n",
       "   </script>"
      ]
     },
     "execution_count": 4,
     "metadata": {},
     "output_type": "execute_result"
    }
   ],
   "source": [
    "plot {\n",
    "    histogram(numbers, Bins.byWidth(20.0))\n",
    "}"
   ]
  },
  {
   "cell_type": "code",
   "execution_count": 5,
   "metadata": {},
   "outputs": [
    {
     "data": {
      "application/plot+json": {
       "apply_color_scheme": true,
       "output": {
        "data": {},
        "kind": "plot",
        "layers": [
         {
          "data": {
           "STAT_BINS": [
            -91.91250000000001,
            -76.8375,
            -61.7625,
            -46.68750000000001,
            -31.612500000000004,
            -16.53750000000001,
            -1.4625000000000057,
            13.612499999999997,
            28.6875,
            43.7625,
            58.83749999999999,
            73.91250000000001
           ],
           "STAT_COUNT": [
            1,
            1,
            11,
            35,
            122,
            180,
            276,
            185,
            129,
            44,
            15,
            1
           ]
          },
          "geom": "bar",
          "mapping": {
           "x": "STAT_BINS",
           "y": "STAT_COUNT"
          },
          "position": "identity",
          "sampling": "none",
          "stat": "identity"
         }
        ],
        "mapping": {},
        "scales": [
         {
          "aesthetic": "x",
          "limits": [
           null,
           null
          ]
         },
         {
          "aesthetic": "y",
          "limits": [
           null,
           null
          ]
         }
        ]
       },
       "output_type": "lets_plot_spec",
       "swing_enabled": true
      },
      "text/html": [
       "   <div id=\"DqU2mb\"></div>\n",
       "   <script type=\"text/javascript\" data-lets-plot-script=\"plot\">\n",
       "       (function() {\n",
       "           var plotSpec={\n",
       "\"mapping\":{\n",
       "},\n",
       "\"data\":{\n",
       "},\n",
       "\"kind\":\"plot\",\n",
       "\"scales\":[{\n",
       "\"aesthetic\":\"x\",\n",
       "\"limits\":[null,null]\n",
       "},{\n",
       "\"aesthetic\":\"y\",\n",
       "\"limits\":[null,null]\n",
       "}],\n",
       "\"layers\":[{\n",
       "\"mapping\":{\n",
       "\"x\":\"STAT_BINS\",\n",
       "\"y\":\"STAT_COUNT\"\n",
       "},\n",
       "\"stat\":\"identity\",\n",
       "\"data\":{\n",
       "\"STAT_COUNT\":[1.0,1.0,11.0,35.0,122.0,180.0,276.0,185.0,129.0,44.0,15.0,1.0],\n",
       "\"STAT_BINS\":[-91.91250000000001,-76.8375,-61.7625,-46.68750000000001,-31.612500000000004,-16.53750000000001,-1.4625000000000057,13.612499999999997,28.6875,43.7625,58.83749999999999,73.91250000000001]\n",
       "},\n",
       "\"sampling\":\"none\",\n",
       "\"position\":\"identity\",\n",
       "\"geom\":\"bar\"\n",
       "}]\n",
       "};\n",
       "           var plotContainer = document.getElementById(\"DqU2mb\");\n",
       "           window.letsPlotCall(function() {{\n",
       "               LetsPlot.buildPlotFromProcessedSpecs(plotSpec, -1, -1, plotContainer);\n",
       "           }});\n",
       "       })();    \n",
       "   </script>"
      ]
     },
     "execution_count": 5,
     "metadata": {},
     "output_type": "execute_result"
    }
   ],
   "source": [
    "plot {\n",
    "    histogram(numbers, Bins.byNumber(12))\n",
    "}"
   ]
  },
  {
   "cell_type": "code",
   "execution_count": 6,
   "metadata": {},
   "outputs": [
    {
     "name": "stderr",
     "output_type": "stream",
     "text": [
      "Line_12.jupyter.kts (4:9 - 14) Unresolved reference: color"
     ]
    }
   ],
   "source": [
    "plot {\n",
    "    histogram(numbers) {\n",
    "        y(Stat.DENSITY)\n",
    "        color = Color.LIGHT_PURPLE\n",
    "    }\n",
    "}"
   ]
  },
  {
   "cell_type": "code",
   "execution_count": 7,
   "metadata": {},
   "outputs": [],
   "source": [
    "val sampleDF = dataFrameOf(\"sample\" to numbers)"
   ]
  },
  {
   "cell_type": "code",
   "execution_count": 9,
   "metadata": {},
   "outputs": [
    {
     "data": {
      "application/plot+json": {
       "apply_color_scheme": true,
       "output": {
        "data": {},
        "kind": "plot",
        "layers": [
         {
          "data": {
           "STAT_BINS": [
            -95.337,
            -86.67,
            -78.003,
            -69.33600000000001,
            -60.669000000000004,
            -52.002,
            -43.33500000000001,
            -34.668000000000006,
            -26.001000000000005,
            -17.334000000000003,
            -8.667000000000002,
            0,
            8.666999999999987,
            17.33399999999999,
            26.00099999999999,
            34.66799999999999,
            43.334999999999994,
            52.001999999999995,
            60.669,
            69.336
           ],
           "STAT_COUNT": [
            0,
            1,
            1,
            3,
            4,
            20,
            19,
            63,
            100,
            89,
            113,
            184,
            128,
            86,
            89,
            54,
            26,
            11,
            7,
            2
           ]
          },
          "geom": "bar",
          "mapping": {
           "x": "STAT_BINS",
           "y": "STAT_COUNT"
          },
          "position": "identity",
          "sampling": "none",
          "stat": "identity",
          "width": 0.5
         }
        ],
        "mapping": {},
        "scales": [
         {
          "aesthetic": "x",
          "limits": [
           null,
           null
          ]
         },
         {
          "aesthetic": "y",
          "limits": [
           null,
           null
          ]
         }
        ]
       },
       "output_type": "lets_plot_spec",
       "swing_enabled": true
      },
      "text/html": [
       "   <div id=\"3mHCsB\"></div>\n",
       "   <script type=\"text/javascript\" data-lets-plot-script=\"plot\">\n",
       "       (function() {\n",
       "           var plotSpec={\n",
       "\"mapping\":{\n",
       "},\n",
       "\"data\":{\n",
       "},\n",
       "\"kind\":\"plot\",\n",
       "\"scales\":[{\n",
       "\"aesthetic\":\"x\",\n",
       "\"limits\":[null,null]\n",
       "},{\n",
       "\"aesthetic\":\"y\",\n",
       "\"limits\":[null,null]\n",
       "}],\n",
       "\"layers\":[{\n",
       "\"mapping\":{\n",
       "\"x\":\"STAT_BINS\",\n",
       "\"y\":\"STAT_COUNT\"\n",
       "},\n",
       "\"stat\":\"identity\",\n",
       "\"data\":{\n",
       "\"STAT_COUNT\":[0.0,1.0,1.0,3.0,4.0,20.0,19.0,63.0,100.0,89.0,113.0,184.0,128.0,86.0,89.0,54.0,26.0,11.0,7.0,2.0],\n",
       "\"STAT_BINS\":[-95.337,-86.67,-78.003,-69.33600000000001,-60.669000000000004,-52.002,-43.33500000000001,-34.668000000000006,-26.001000000000005,-17.334000000000003,-8.667000000000002,0.0,8.666999999999987,17.33399999999999,26.00099999999999,34.66799999999999,43.334999999999994,52.001999999999995,60.669,69.336]\n",
       "},\n",
       "\"sampling\":\"none\",\n",
       "\"width\":0.5,\n",
       "\"position\":\"identity\",\n",
       "\"geom\":\"bar\"\n",
       "}]\n",
       "};\n",
       "           var plotContainer = document.getElementById(\"3mHCsB\");\n",
       "           window.letsPlotCall(function() {{\n",
       "               LetsPlot.buildPlotFromProcessedSpecs(plotSpec, -1, -1, plotContainer);\n",
       "           }});\n",
       "       })();    \n",
       "   </script>"
      ]
     },
     "execution_count": 9,
     "metadata": {},
     "output_type": "execute_result"
    }
   ],
   "source": [
    "sampleDF.plot { \n",
    "    histogram(sample, binXPos = BinXPos.center(0.0)) {\n",
    "        width = 0.5\n",
    "    }\n",
    "}"
   ]
  },
  {
   "cell_type": "code",
   "execution_count": 10,
   "metadata": {},
   "outputs": [
    {
     "data": {
      "application/plot+json": {
       "apply_color_scheme": true,
       "output": {
        "data": {},
        "kind": "plot",
        "layers": [
         {
          "data": {
           "STAT_BINS": [
            -94.464,
            -82.656,
            -70.848,
            -59.04,
            -47.232,
            -35.424,
            -23.616,
            -11.807999999999993,
            0,
            11.807999999999993,
            23.616,
            35.42400000000001,
            47.232,
            59.03999999999999,
            70.84800000000001
           ],
           "STAT_COUNT": [
            1,
            1,
            3,
            9,
            26,
            74,
            137,
            148,
            212,
            151,
            127,
            77,
            22,
            10,
            2
           ]
          },
          "geom": "bar",
          "mapping": {
           "x": "STAT_BINS",
           "y": "STAT_COUNT"
          },
          "position": "identity",
          "sampling": "none",
          "stat": "identity"
         }
        ],
        "mapping": {},
        "scales": [
         {
          "aesthetic": "x",
          "limits": [
           null,
           null
          ]
         },
         {
          "aesthetic": "y",
          "limits": [
           null,
           null
          ]
         }
        ]
       },
       "output_type": "lets_plot_spec",
       "swing_enabled": true
      },
      "text/html": [
       "   <div id=\"lAEWKB\"></div>\n",
       "   <script type=\"text/javascript\" data-lets-plot-script=\"plot\">\n",
       "       (function() {\n",
       "           var plotSpec={\n",
       "\"mapping\":{\n",
       "},\n",
       "\"data\":{\n",
       "},\n",
       "\"kind\":\"plot\",\n",
       "\"scales\":[{\n",
       "\"aesthetic\":\"x\",\n",
       "\"limits\":[null,null]\n",
       "},{\n",
       "\"aesthetic\":\"y\",\n",
       "\"limits\":[null,null]\n",
       "}],\n",
       "\"layers\":[{\n",
       "\"mapping\":{\n",
       "\"x\":\"STAT_BINS\",\n",
       "\"y\":\"STAT_COUNT\"\n",
       "},\n",
       "\"stat\":\"identity\",\n",
       "\"data\":{\n",
       "\"STAT_COUNT\":[1.0,1.0,3.0,9.0,26.0,74.0,137.0,148.0,212.0,151.0,127.0,77.0,22.0,10.0,2.0],\n",
       "\"STAT_BINS\":[-94.464,-82.656,-70.848,-59.04,-47.232,-35.424,-23.616,-11.807999999999993,0.0,11.807999999999993,23.616,35.42400000000001,47.232,59.03999999999999,70.84800000000001]\n",
       "},\n",
       "\"sampling\":\"none\",\n",
       "\"position\":\"identity\",\n",
       "\"geom\":\"bar\"\n",
       "}]\n",
       "};\n",
       "           var plotContainer = document.getElementById(\"lAEWKB\");\n",
       "           window.letsPlotCall(function() {{\n",
       "               LetsPlot.buildPlotFromProcessedSpecs(plotSpec, -1, -1, plotContainer);\n",
       "           }});\n",
       "       })();    \n",
       "   </script>"
      ]
     },
     "execution_count": 10,
     "metadata": {},
     "output_type": "execute_result"
    }
   ],
   "source": [
    "sampleDF.plot { \n",
    "    statBin(sample, Bins.byNumber(15), binXPos = BinXPos.center(0.0)) {\n",
    "        bars { \n",
    "            x(Stat.BINS)\n",
    "            y(Stat.COUNT)\n",
    "        }\n",
    "    }\n",
    "}"
   ]
  },
  {
   "cell_type": "code",
   "execution_count": 11,
   "metadata": {},
   "outputs": [
    {
     "name": "stderr",
     "output_type": "stream",
     "text": [
      "Line_23.jupyter.kts (12:19 - 28) Type mismatch: inferred type is StandardColor.Hex but String was expected\n",
      "Line_23.jupyter.kts (13:19 - 22) The floating-point literal does not conform to the expected type String"
     ]
    }
   ],
   "source": [
    "sampleDF.plot { \n",
    "    statBin(sample) {\n",
    "        bars { \n",
    "            x(Stat.BINS)\n",
    "            y(Stat.DENSITY)\n",
    "        }\n",
    "\n",
    "        line {\n",
    "            x(Stat.BINS)\n",
    "            y(Stat.DENSITY)\n",
    "\n",
    "            color(Color.RED)\n",
    "            width(2.5)\n",
    "        }\n",
    "    }\n",
    "}"
   ]
  },
  {
   "cell_type": "code",
   "execution_count": 12,
   "metadata": {},
   "outputs": [],
   "source": [
    "val rand = java.util.Random()\n",
    "val data = mapOf(\n",
    "    \"rating\" to List(500) { rand.nextGaussian() } + List(500) { rand.nextGaussian() * 1.5 + 1.5 },\n",
    "    \"cond\" to List(500) { \"A\" } + List(500) { \"B\" }\n",
    ")\n",
    "\n",
    "val cond by column<String>()\n",
    "val rating by column<Double>()"
   ]
  },
  {
   "cell_type": "code",
   "execution_count": 14,
   "metadata": {},
   "outputs": [
    {
     "name": "stderr",
     "output_type": "stream",
     "text": [
      "Line_58.jupyter.kts (8:17 - 22) Unresolved reference: color"
     ]
    }
   ],
   "source": [
    "plot(data) {\n",
    "    groupBy(cond) {\n",
    "        statBin(rating, bins = Bins.byNumber(50)) {\n",
    "            area {\n",
    "                x(Stat.BINS)\n",
    "                y(Stat.DENSITY)\n",
    "                \n",
    "                color(cond)\n",
    "                alpha = .6\n",
    "                \n",
    "                borderLine {\n",
    "                    color = Color.BLACK\n",
    "                    width = .5\n",
    "                }\n",
    "            }\n",
    "        }\n",
    "    }\n",
    "}"
   ]
  }
 ],
 "metadata": {
  "datalore": {
   "base_environment": "default",
   "computation_mode": "JUPYTER",
   "package_manager": "pip",
   "packages": [],
   "version": 1
  },
  "kernelspec": {
   "display_name": "Kotlin",
   "language": "kotlin",
   "name": "kotlin"
  },
  "language_info": {
   "codemirror_mode": "text/x-kotlin",
   "file_extension": ".kt",
   "mimetype": "text/x-kotlin",
   "name": "kotlin",
   "nbconvert_exporter": "",
   "pygments_lexer": "kotlin",
   "version": "1.8.20-Beta"
  }
 },
 "nbformat": 4,
 "nbformat_minor": 4
}
