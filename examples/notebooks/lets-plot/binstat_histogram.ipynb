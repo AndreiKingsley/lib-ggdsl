{
 "cells": [
  {
   "cell_type": "code",
   "execution_count": 1,
   "metadata": {
    "datalore": {
     "hide_input_from_viewers": false,
     "hide_output_from_viewers": false,
     "node_id": "UAJZ9WlEGslnW9Rgbww7eT",
     "type": "CODE"
    },
    "pycharm": {
     "name": "#%%\n"
    },
    "ExecuteTime": {
     "end_time": "2023-06-02T09:40:40.938318Z",
     "start_time": "2023-06-02T09:40:23.989218Z"
    }
   },
   "outputs": [
    {
     "data": {
      "text/plain": ""
     },
     "metadata": {},
     "output_type": "display_data"
    },
    {
     "data": {
      "text/html": "            <div id=\"kotlin_out_0\"/>\n            <script type=\"text/javascript\">\n                            if(!window.kotlinQueues) {\n                window.kotlinQueues = {};\n            }\n            if(!window.kotlinQueues[\"kandyLetsPlot\"]) {\n                var resQueue = [];\n                window.kotlinQueues[\"kandyLetsPlot\"] = resQueue;\n                window[\"call_kandyLetsPlot\"] = function(f) {\n                    resQueue.push(f);\n                }\n            }\n            (function (){\n                var modifiers = [(function(script) {\n    script.src = \"https://cdn.jsdelivr.net/gh/JetBrains/lets-plot@v3.1.0/js-package/distr/lets-plot.min.js\"\n    script.type = \"text/javascript\";\n})];\n                var e = document.getElementById(\"kotlin_out_0\");\n                modifiers.forEach(function (gen) {\n                    var script = document.createElement(\"script\");\n                    gen(script)\n                    script.addEventListener(\"load\", function() {\n                        window[\"call_kandyLetsPlot\"] = function(f) {f();};\n                        window.kotlinQueues[\"kandyLetsPlot\"].forEach(function(f) {f();});\n                        window.kotlinQueues[\"kandyLetsPlot\"] = [];\n                    }, false);\n                    script.addEventListener(\"error\", function() {\n                        window[\"call_kandyLetsPlot\"] = function(f) {};\n                        window.kotlinQueues[\"kandyLetsPlot\"] = [];\n                        var div = document.createElement(\"div\");\n                        div.style.color = 'darkred';\n                        div.textContent = 'Error loading resource kandyLetsPlot';\n                        document.getElementById(\"kotlin_out_0\").appendChild(div);\n                    }, false);\n                    \n                    e.appendChild(script);\n                });\n            })();\n            </script>"
     },
     "metadata": {},
     "output_type": "display_data"
    }
   ],
   "source": [
    "%use kandy(0.4.3)\n",
    "%use dataframe(0.10.1)"
   ]
  },
  {
   "cell_type": "code",
   "execution_count": 2,
   "metadata": {
    "datalore": {
     "hide_input_from_viewers": false,
     "hide_output_from_viewers": false,
     "node_id": "SVzS3HJP3fGxhUMsKqG3GF",
     "type": "CODE"
    },
    "pycharm": {
     "name": "#%%\n"
    },
    "ExecuteTime": {
     "end_time": "2023-06-02T09:40:41.182408Z",
     "start_time": "2023-06-02T09:40:40.938893Z"
    }
   },
   "outputs": [],
   "source": [
    "import java.util.*\n",
    "val numbers = IntArray(1000) {Random().nextGaussian().times(25).toInt()}.toList()"
   ]
  },
  {
   "cell_type": "code",
   "execution_count": 3,
   "metadata": {
    "ExecuteTime": {
     "end_time": "2023-06-02T09:40:41.810759Z",
     "start_time": "2023-06-02T09:40:41.184465Z"
    }
   },
   "outputs": [
    {
     "data": {
      "text/html": "            <script type=\"text/javascript\" data-lets-plot-script=\"library\" src=\"https://cdn.jsdelivr.net/gh/JetBrains/lets-plot@v3.1.0/js-package/distr/lets-plot.min.js\"></script>    \n               <div id=\"MYhZ8O\"></div>\n   <script type=\"text/javascript\" data-lets-plot-script=\"plot\">\n       var plotSpec={\n\"mapping\":{\n},\n\"data\":{\n},\n\"kind\":\"plot\",\n\"scales\":[{\n\"aesthetic\":\"x\",\n\"limits\":[null,null]\n},{\n\"aesthetic\":\"y\",\n\"limits\":[null,null]\n}],\n\"layers\":[{\n\"mapping\":{\n\"x\":\"STAT_BINS\",\n\"y\":\"STAT_COUNT\"\n},\n\"stat\":\"identity\",\n\"data\":{\n\"STAT_COUNT\":[1.0,0.0,0.0,2.0,5.0,18.0,37.0,63.0,107.0,125.0,173.0,150.0,115.0,105.0,55.0,24.0,13.0,4.0,1.0,2.0],\n\"STAT_BINS\":[-99.4685,-89.94550000000001,-80.42250000000001,-70.8995,-61.37650000000001,-51.85350000000001,-42.33050000000001,-32.807500000000005,-23.28450000000001,-13.761500000000012,-4.238500000000016,5.284499999999994,14.80749999999999,24.330499999999986,33.8535,43.37649999999999,52.89949999999999,62.422499999999985,71.94549999999998,81.46849999999998]\n},\n\"sampling\":\"none\",\n\"position\":\"dodge\",\n\"geom\":\"bar\"\n}]\n};\n       var plotContainer = document.getElementById(\"MYhZ8O\");\n       LetsPlot.buildPlotFromProcessedSpecs(plotSpec, -1, -1, plotContainer);\n   </script>            \n        <svg id=7b179a89-9175-4f0c-b1cb-c01f3f43aadc xmlns=\"http://www.w3.org/2000/svg\" xmlns:xlink=\"http://www.w3.org/1999/xlink\" class=\"plt-container\" width=\"600.0\" height=\"400.0\">\n  <style type=\"text/css\">\n  .plt-container {\n   font-family: Lucida Grande, sans-serif;\n   user-select: none;\n   -webkit-user-select: none;\n   -moz-user-select: none;\n   -ms-user-select: none;\n}\ntext {\n   text-rendering: optimizeLegibility;\n}\n#pJZ9P2l .plot-title {\n   fill: #474747;\n   font-family: Lucida Grande, sans-serif;\n   font-size: 16.0px;\n   font-weight: normal;\n   font-style: normal;   \n}\n#pJZ9P2l .plot-subtitle {\n   fill: #474747;\n   font-family: Lucida Grande, sans-serif;\n   font-size: 15.0px;\n   font-weight: normal;\n   font-style: normal;   \n}\n#pJZ9P2l .plot-caption {\n   fill: #474747;\n   font-family: Lucida Grande, sans-serif;\n   font-size: 13.0px;\n   font-weight: normal;\n   font-style: normal;   \n}\n#pJZ9P2l .legend-title {\n   fill: #474747;\n   font-family: Lucida Grande, sans-serif;\n   font-size: 15.0px;\n   font-weight: normal;\n   font-style: normal;   \n}\n#pJZ9P2l .legend-item {\n   fill: #474747;\n   font-family: Lucida Grande, sans-serif;\n   font-size: 13.0px;\n   font-weight: normal;\n   font-style: normal;   \n}\n#pJZ9P2l .axis-title-x {\n   fill: #474747;\n   font-family: Lucida Grande, sans-serif;\n   font-size: 15.0px;\n   font-weight: normal;\n   font-style: normal;   \n}\n#pJZ9P2l .axis-text-x {\n   fill: #474747;\n   font-family: Lucida Grande, sans-serif;\n   font-size: 13.0px;\n   font-weight: normal;\n   font-style: normal;   \n}\n#dvSUf6Z .axis-tooltip-text-x {\n   fill: #ffffff;\n   font-family: Lucida Grande, sans-serif;\n   font-size: 13.0px;\n   font-weight: normal;\n   font-style: normal;   \n}\n#pJZ9P2l .axis-title-y {\n   fill: #474747;\n   font-family: Lucida Grande, sans-serif;\n   font-size: 15.0px;\n   font-weight: normal;\n   font-style: normal;   \n}\n#pJZ9P2l .axis-text-y {\n   fill: #474747;\n   font-family: Lucida Grande, sans-serif;\n   font-size: 13.0px;\n   font-weight: normal;\n   font-style: normal;   \n}\n#dvSUf6Z .axis-tooltip-text-y {\n   fill: #ffffff;\n   font-family: Lucida Grande, sans-serif;\n   font-size: 13.0px;\n   font-weight: normal;\n   font-style: normal;   \n}\n#pJZ9P2l .facet-strip-text-x {\n   fill: #474747;\n   font-family: Lucida Grande, sans-serif;\n   font-size: 13.0px;\n   font-weight: normal;\n   font-style: normal;   \n}\n#pJZ9P2l .facet-strip-text-y {\n   fill: #474747;\n   font-family: Lucida Grande, sans-serif;\n   font-size: 13.0px;\n   font-weight: normal;\n   font-style: normal;   \n}\n#dvSUf6Z .tooltip-text {\n   fill: #474747;\n   font-family: Lucida Grande, sans-serif;\n   font-size: 13.0px;\n   font-weight: normal;\n   font-style: normal;   \n}\n#dvSUf6Z .tooltip-title {\n   fill: #474747;\n   font-family: Lucida Grande, sans-serif;\n   font-size: 13.0px;\n   font-weight: bold;\n   font-style: normal;   \n}\n#dvSUf6Z .tooltip-label {\n   fill: #474747;\n   font-family: Lucida Grande, sans-serif;\n   font-size: 13.0px;\n   font-weight: bold;\n   font-style: normal;   \n}\n\n  </style>\n  <g id=\"pJZ9P2l\">\n    <rect x=\"0.0\" y=\"0.0\" height=\"400.0\" width=\"600.0\" stroke=\"rgb(71,71,71)\" stroke-opacity=\"1.0\" stroke-width=\"0.0\" fill=\"rgb(255,255,255)\" fill-opacity=\"1.0\">\n    </rect>\n    <g transform=\"translate(23.0 10.0 ) \">\n      <g transform=\"translate(29.941816366404606 344.0 ) \">\n        <line x1=\"34.08289871820506\" y1=\"-0.0\" x2=\"34.08289871820506\" y2=\"-344.0\" stroke=\"rgb(233,233,233)\" stroke-opacity=\"1.0\" stroke-width=\"1.0\">\n        </line>\n        <line x1=\"85.60953456404962\" y1=\"-0.0\" x2=\"85.60953456404962\" y2=\"-344.0\" stroke=\"rgb(233,233,233)\" stroke-opacity=\"1.0\" stroke-width=\"1.0\">\n        </line>\n        <line x1=\"137.13617040989416\" y1=\"-0.0\" x2=\"137.13617040989416\" y2=\"-344.0\" stroke=\"rgb(233,233,233)\" stroke-opacity=\"1.0\" stroke-width=\"1.0\">\n        </line>\n        <line x1=\"188.6628062557387\" y1=\"-0.0\" x2=\"188.6628062557387\" y2=\"-344.0\" stroke=\"rgb(233,233,233)\" stroke-opacity=\"1.0\" stroke-width=\"1.0\">\n        </line>\n        <line x1=\"240.18944210158324\" y1=\"-0.0\" x2=\"240.18944210158324\" y2=\"-344.0\" stroke=\"rgb(233,233,233)\" stroke-opacity=\"1.0\" stroke-width=\"1.0\">\n        </line>\n        <line x1=\"291.7160779474278\" y1=\"-0.0\" x2=\"291.7160779474278\" y2=\"-344.0\" stroke=\"rgb(233,233,233)\" stroke-opacity=\"1.0\" stroke-width=\"1.0\">\n        </line>\n        <line x1=\"343.2427137932723\" y1=\"-0.0\" x2=\"343.2427137932723\" y2=\"-344.0\" stroke=\"rgb(233,233,233)\" stroke-opacity=\"1.0\" stroke-width=\"1.0\">\n        </line>\n        <line x1=\"394.76934963911685\" y1=\"-0.0\" x2=\"394.76934963911685\" y2=\"-344.0\" stroke=\"rgb(233,233,233)\" stroke-opacity=\"1.0\" stroke-width=\"1.0\">\n        </line>\n        <line x1=\"446.2959854849614\" y1=\"-0.0\" x2=\"446.2959854849614\" y2=\"-344.0\" stroke=\"rgb(233,233,233)\" stroke-opacity=\"1.0\" stroke-width=\"1.0\">\n        </line>\n        <line x1=\"497.82262133080593\" y1=\"-0.0\" x2=\"497.82262133080593\" y2=\"-344.0\" stroke=\"rgb(233,233,233)\" stroke-opacity=\"1.0\" stroke-width=\"1.0\">\n        </line>\n        <g transform=\"translate(34.08289871820506 0.0 ) \">\n          <line stroke-width=\"1.0\" stroke=\"rgb(71,71,71)\" stroke-opacity=\"1.0\" x2=\"0.0\" y2=\"4.0\">\n          </line>\n          <g transform=\"translate(0.0 7.0 ) \">\n            <text class=\"axis-text-x\" text-anchor=\"middle\" dy=\"0.7em\">\n            -100\n            </text>\n          </g>\n        </g>\n        <g transform=\"translate(85.60953456404962 0.0 ) \">\n          <line stroke-width=\"1.0\" stroke=\"rgb(71,71,71)\" stroke-opacity=\"1.0\" x2=\"0.0\" y2=\"4.0\">\n          </line>\n          <g transform=\"translate(0.0 7.0 ) \">\n            <text class=\"axis-text-x\" text-anchor=\"middle\" dy=\"0.7em\">\n            -80\n            </text>\n          </g>\n        </g>\n        <g transform=\"translate(137.13617040989416 0.0 ) \">\n          <line stroke-width=\"1.0\" stroke=\"rgb(71,71,71)\" stroke-opacity=\"1.0\" x2=\"0.0\" y2=\"4.0\">\n          </line>\n          <g transform=\"translate(0.0 7.0 ) \">\n            <text class=\"axis-text-x\" text-anchor=\"middle\" dy=\"0.7em\">\n            -60\n            </text>\n          </g>\n        </g>\n        <g transform=\"translate(188.6628062557387 0.0 ) \">\n          <line stroke-width=\"1.0\" stroke=\"rgb(71,71,71)\" stroke-opacity=\"1.0\" x2=\"0.0\" y2=\"4.0\">\n          </line>\n          <g transform=\"translate(0.0 7.0 ) \">\n            <text class=\"axis-text-x\" text-anchor=\"middle\" dy=\"0.7em\">\n            -40\n            </text>\n          </g>\n        </g>\n        <g transform=\"translate(240.18944210158324 0.0 ) \">\n          <line stroke-width=\"1.0\" stroke=\"rgb(71,71,71)\" stroke-opacity=\"1.0\" x2=\"0.0\" y2=\"4.0\">\n          </line>\n          <g transform=\"translate(0.0 7.0 ) \">\n            <text class=\"axis-text-x\" text-anchor=\"middle\" dy=\"0.7em\">\n            -20\n            </text>\n          </g>\n        </g>\n        <g transform=\"translate(291.7160779474278 0.0 ) \">\n          <line stroke-width=\"1.0\" stroke=\"rgb(71,71,71)\" stroke-opacity=\"1.0\" x2=\"0.0\" y2=\"4.0\">\n          </line>\n          <g transform=\"translate(0.0 7.0 ) \">\n            <text class=\"axis-text-x\" text-anchor=\"middle\" dy=\"0.7em\">\n            0\n            </text>\n          </g>\n        </g>\n        <g transform=\"translate(343.2427137932723 0.0 ) \">\n          <line stroke-width=\"1.0\" stroke=\"rgb(71,71,71)\" stroke-opacity=\"1.0\" x2=\"0.0\" y2=\"4.0\">\n          </line>\n          <g transform=\"translate(0.0 7.0 ) \">\n            <text class=\"axis-text-x\" text-anchor=\"middle\" dy=\"0.7em\">\n            20\n            </text>\n          </g>\n        </g>\n        <g transform=\"translate(394.76934963911685 0.0 ) \">\n          <line stroke-width=\"1.0\" stroke=\"rgb(71,71,71)\" stroke-opacity=\"1.0\" x2=\"0.0\" y2=\"4.0\">\n          </line>\n          <g transform=\"translate(0.0 7.0 ) \">\n            <text class=\"axis-text-x\" text-anchor=\"middle\" dy=\"0.7em\">\n            40\n            </text>\n          </g>\n        </g>\n        <g transform=\"translate(446.2959854849614 0.0 ) \">\n          <line stroke-width=\"1.0\" stroke=\"rgb(71,71,71)\" stroke-opacity=\"1.0\" x2=\"0.0\" y2=\"4.0\">\n          </line>\n          <g transform=\"translate(0.0 7.0 ) \">\n            <text class=\"axis-text-x\" text-anchor=\"middle\" dy=\"0.7em\">\n            60\n            </text>\n          </g>\n        </g>\n        <g transform=\"translate(497.82262133080593 0.0 ) \">\n          <line stroke-width=\"1.0\" stroke=\"rgb(71,71,71)\" stroke-opacity=\"1.0\" x2=\"0.0\" y2=\"4.0\">\n          </line>\n          <g transform=\"translate(0.0 7.0 ) \">\n            <text class=\"axis-text-x\" text-anchor=\"middle\" dy=\"0.7em\">\n            80\n            </text>\n          </g>\n        </g>\n        <line x1=\"0.0\" y1=\"0.0\" x2=\"537.0581836335954\" y2=\"0.0\" stroke-width=\"1.0\" stroke=\"rgb(71,71,71)\" stroke-opacity=\"1.0\">\n        </line>\n      </g>\n      <g transform=\"translate(29.941816366404606 0.0 ) \">\n        <line x1=\"0.0\" y1=\"306.12496559317367\" x2=\"537.0581836335954\" y2=\"306.12496559317367\" stroke=\"rgb(233,233,233)\" stroke-opacity=\"1.0\" stroke-width=\"1.0\">\n        </line>\n        <line x1=\"0.0\" y1=\"268.24993118634734\" x2=\"537.0581836335954\" y2=\"268.24993118634734\" stroke=\"rgb(233,233,233)\" stroke-opacity=\"1.0\" stroke-width=\"1.0\">\n        </line>\n        <line x1=\"0.0\" y1=\"230.37489677952107\" x2=\"537.0581836335954\" y2=\"230.37489677952107\" stroke=\"rgb(233,233,233)\" stroke-opacity=\"1.0\" stroke-width=\"1.0\">\n        </line>\n        <line x1=\"0.0\" y1=\"192.49986237269474\" x2=\"537.0581836335954\" y2=\"192.49986237269474\" stroke=\"rgb(233,233,233)\" stroke-opacity=\"1.0\" stroke-width=\"1.0\">\n        </line>\n        <line x1=\"0.0\" y1=\"154.62482796586843\" x2=\"537.0581836335954\" y2=\"154.62482796586843\" stroke=\"rgb(233,233,233)\" stroke-opacity=\"1.0\" stroke-width=\"1.0\">\n        </line>\n        <line x1=\"0.0\" y1=\"116.74979355904213\" x2=\"537.0581836335954\" y2=\"116.74979355904213\" stroke=\"rgb(233,233,233)\" stroke-opacity=\"1.0\" stroke-width=\"1.0\">\n        </line>\n        <line x1=\"0.0\" y1=\"78.8747591522158\" x2=\"537.0581836335954\" y2=\"78.8747591522158\" stroke=\"rgb(233,233,233)\" stroke-opacity=\"1.0\" stroke-width=\"1.0\">\n        </line>\n        <line x1=\"0.0\" y1=\"40.99972474538947\" x2=\"537.0581836335954\" y2=\"40.99972474538947\" stroke=\"rgb(233,233,233)\" stroke-opacity=\"1.0\" stroke-width=\"1.0\">\n        </line>\n        <g transform=\"translate(0.0 344.0 ) \">\n          <g transform=\"translate(-3.0 0.0 ) \">\n            <text class=\"axis-text-y\" text-anchor=\"end\" dy=\"0.35em\">\n            0\n            </text>\n          </g>\n        </g>\n        <g transform=\"translate(0.0 306.12496559317367 ) \">\n          <g transform=\"translate(-3.0 0.0 ) \">\n            <text class=\"axis-text-y\" text-anchor=\"end\" dy=\"0.35em\">\n            20\n            </text>\n          </g>\n        </g>\n        <g transform=\"translate(0.0 268.24993118634734 ) \">\n          <g transform=\"translate(-3.0 0.0 ) \">\n            <text class=\"axis-text-y\" text-anchor=\"end\" dy=\"0.35em\">\n            40\n            </text>\n          </g>\n        </g>\n        <g transform=\"translate(0.0 230.37489677952107 ) \">\n          <g transform=\"translate(-3.0 0.0 ) \">\n            <text class=\"axis-text-y\" text-anchor=\"end\" dy=\"0.35em\">\n            60\n            </text>\n          </g>\n        </g>\n        <g transform=\"translate(0.0 192.49986237269474 ) \">\n          <g transform=\"translate(-3.0 0.0 ) \">\n            <text class=\"axis-text-y\" text-anchor=\"end\" dy=\"0.35em\">\n            80\n            </text>\n          </g>\n        </g>\n        <g transform=\"translate(0.0 154.62482796586843 ) \">\n          <g transform=\"translate(-3.0 0.0 ) \">\n            <text class=\"axis-text-y\" text-anchor=\"end\" dy=\"0.35em\">\n            100\n            </text>\n          </g>\n        </g>\n        <g transform=\"translate(0.0 116.74979355904213 ) \">\n          <g transform=\"translate(-3.0 0.0 ) \">\n            <text class=\"axis-text-y\" text-anchor=\"end\" dy=\"0.35em\">\n            120\n            </text>\n          </g>\n        </g>\n        <g transform=\"translate(0.0 78.8747591522158 ) \">\n          <g transform=\"translate(-3.0 0.0 ) \">\n            <text class=\"axis-text-y\" text-anchor=\"end\" dy=\"0.35em\">\n            140\n            </text>\n          </g>\n        </g>\n        <g transform=\"translate(0.0 40.99972474538947 ) \">\n          <g transform=\"translate(-3.0 0.0 ) \">\n            <text class=\"axis-text-y\" text-anchor=\"end\" dy=\"0.35em\">\n            160\n            </text>\n          </g>\n        </g>\n        <g transform=\"translate(0.0 3.124690338563198 ) \">\n          <g transform=\"translate(-3.0 0.0 ) \">\n            <text class=\"axis-text-y\" text-anchor=\"end\" dy=\"0.35em\">\n            180\n            </text>\n          </g>\n        </g>\n      </g>\n      <g transform=\"translate(29.941816366404606 0.0 ) \" clip-path=\"url(#cWFDboY)\" clip-bounds-jfx=\"[rect (0.0, 0.0), (537.0581836335954, 344.0)]\">\n        <defs>\n          <clipPath id=\"cWFDboY\">\n            <rect x=\"0.0\" y=\"0.0\" width=\"537.0581836335954\" height=\"344.0\">\n            </rect>\n          </clipPath>\n        </defs>\n        <rect x=\"490.5654811216875\" y=\"340.21249655931734\" height=\"3.7875034406826558\" width=\"22.080966892199058\" stroke=\"rgb(0,0,0)\" stroke-opacity=\"0.0\" fill=\"rgb(17,142,216)\" fill-opacity=\"1.0\" stroke-width=\"1.0\">\n        </rect>\n        <rect x=\"466.0310734636887\" y=\"342.1062482796587\" height=\"1.8937517203412995\" width=\"22.080966892198944\" stroke=\"rgb(0,0,0)\" stroke-opacity=\"0.0\" fill=\"rgb(17,142,216)\" fill-opacity=\"1.0\" stroke-width=\"1.0\">\n        </rect>\n        <rect x=\"441.49666580568976\" y=\"336.42499311863475\" height=\"7.575006881365255\" width=\"22.080966892199\" stroke=\"rgb(0,0,0)\" stroke-opacity=\"0.0\" fill=\"rgb(17,142,216)\" fill-opacity=\"1.0\" stroke-width=\"1.0\">\n        </rect>\n        <rect x=\"416.96225814769093\" y=\"319.3812276355629\" height=\"24.61877236443712\" width=\"22.080966892198944\" stroke=\"rgb(0,0,0)\" stroke-opacity=\"0.0\" fill=\"rgb(17,142,216)\" fill-opacity=\"1.0\" stroke-width=\"1.0\">\n        </rect>\n        <rect x=\"392.42785048969205\" y=\"298.5499587118084\" height=\"45.450041288191585\" width=\"22.080966892199\" stroke=\"rgb(0,0,0)\" stroke-opacity=\"0.0\" fill=\"rgb(17,142,216)\" fill-opacity=\"1.0\" stroke-width=\"1.0\">\n        </rect>\n        <rect x=\"367.89344283169316\" y=\"239.84365538122762\" height=\"104.15634461877238\" width=\"22.080966892199\" stroke=\"rgb(0,0,0)\" stroke-opacity=\"0.0\" fill=\"rgb(17,142,216)\" fill-opacity=\"1.0\" stroke-width=\"1.0\">\n        </rect>\n        <rect x=\"343.3590351736943\" y=\"145.15606936416185\" height=\"198.84393063583815\" width=\"22.080966892199\" stroke=\"rgb(0,0,0)\" stroke-opacity=\"0.0\" fill=\"rgb(17,142,216)\" fill-opacity=\"1.0\" stroke-width=\"1.0\">\n        </rect>\n        <rect x=\"318.8246275156954\" y=\"126.21855216074869\" height=\"217.7814478392513\" width=\"22.080966892199\" stroke=\"rgb(0,0,0)\" stroke-opacity=\"0.0\" fill=\"rgb(17,142,216)\" fill-opacity=\"1.0\" stroke-width=\"1.0\">\n        </rect>\n        <rect x=\"294.29021985769657\" y=\"59.93724194880264\" height=\"284.06275805119736\" width=\"22.080966892198944\" stroke=\"rgb(0,0,0)\" stroke-opacity=\"0.0\" fill=\"rgb(17,142,216)\" fill-opacity=\"1.0\" stroke-width=\"1.0\">\n        </rect>\n        <rect x=\"269.75581219969763\" y=\"16.380952380952408\" height=\"327.6190476190476\" width=\"22.080966892199\" stroke=\"rgb(0,0,0)\" stroke-opacity=\"0.0\" fill=\"rgb(17,142,216)\" fill-opacity=\"1.0\" stroke-width=\"1.0\">\n        </rect>\n        <rect x=\"245.22140454169877\" y=\"107.28103495733555\" height=\"236.71896504266445\" width=\"22.080966892198973\" stroke=\"rgb(0,0,0)\" stroke-opacity=\"0.0\" fill=\"rgb(17,142,216)\" fill-opacity=\"1.0\" stroke-width=\"1.0\">\n        </rect>\n        <rect x=\"220.68699688369992\" y=\"141.36856592347922\" height=\"202.63143407652078\" width=\"22.080966892198973\" stroke=\"rgb(0,0,0)\" stroke-opacity=\"0.0\" fill=\"rgb(17,142,216)\" fill-opacity=\"1.0\" stroke-width=\"1.0\">\n        </rect>\n        <rect x=\"196.15258922570104\" y=\"224.6936416184971\" height=\"119.30635838150289\" width=\"22.080966892198973\" stroke=\"rgb(0,0,0)\" stroke-opacity=\"0.0\" fill=\"rgb(17,142,216)\" fill-opacity=\"1.0\" stroke-width=\"1.0\">\n        </rect>\n        <rect x=\"171.61818156770215\" y=\"273.9311863473713\" height=\"70.0688136526287\" width=\"22.080966892198973\" stroke=\"rgb(0,0,0)\" stroke-opacity=\"0.0\" fill=\"rgb(17,142,216)\" fill-opacity=\"1.0\" stroke-width=\"1.0\">\n        </rect>\n        <rect x=\"147.08377390970324\" y=\"309.9124690338563\" height=\"34.087530966143675\" width=\"22.080966892198973\" stroke=\"rgb(0,0,0)\" stroke-opacity=\"0.0\" fill=\"rgb(17,142,216)\" fill-opacity=\"1.0\" stroke-width=\"1.0\">\n        </rect>\n        <rect x=\"122.54936625170441\" y=\"334.53124139829345\" height=\"9.468758601706554\" width=\"22.080966892198973\" stroke=\"rgb(0,0,0)\" stroke-opacity=\"0.0\" fill=\"rgb(17,142,216)\" fill-opacity=\"1.0\" stroke-width=\"1.0\">\n        </rect>\n        <rect x=\"98.01495859370553\" y=\"340.21249655931734\" height=\"3.7875034406826558\" width=\"22.080966892199\" stroke=\"rgb(0,0,0)\" stroke-opacity=\"0.0\" fill=\"rgb(17,142,216)\" fill-opacity=\"1.0\" stroke-width=\"1.0\">\n        </rect>\n        <rect x=\"73.48055093570662\" y=\"344.0\" height=\"0.1\" width=\"22.080966892199\" stroke=\"rgb(0,0,0)\" stroke-opacity=\"0.0\" fill=\"rgb(17,142,216)\" fill-opacity=\"1.0\" stroke-width=\"1.0\">\n        </rect>\n        <rect x=\"48.94614327770776\" y=\"344.0\" height=\"0.1\" width=\"22.080966892199\" stroke=\"rgb(0,0,0)\" stroke-opacity=\"0.0\" fill=\"rgb(17,142,216)\" fill-opacity=\"1.0\" stroke-width=\"1.0\">\n        </rect>\n        <rect x=\"24.411735619708907\" y=\"342.1062482796587\" height=\"1.8937517203412995\" width=\"22.080966892198973\" stroke=\"rgb(0,0,0)\" stroke-opacity=\"0.0\" fill=\"rgb(17,142,216)\" fill-opacity=\"1.0\" stroke-width=\"1.0\">\n        </rect>\n      </g>\n    </g>\n    <g transform=\"translate(14.5 182.0 ) rotate(-90.0 ) \">\n      <text class=\"axis-title-y\" y=\"0.0\" text-anchor=\"middle\">\n      STAT_COUNT\n      </text>\n    </g>\n    <g transform=\"translate(321.4709081832023 391.5 ) \">\n      <text class=\"axis-title-x\" y=\"0.0\" text-anchor=\"middle\">\n      STAT_BINS\n      </text>\n    </g>\n  </g>\n  <g id=\"dvSUf6Z\">\n  </g>\n</svg>\n        <script>document.getElementById(\"7b179a89-9175-4f0c-b1cb-c01f3f43aadc\").style.display = \"none\";</script>",
      "application/plot+json": {
       "output_type": "lets_plot_spec",
       "output": {
        "mapping": {},
        "data": {},
        "kind": "plot",
        "scales": [
         {
          "aesthetic": "x",
          "limits": [
           null,
           null
          ]
         },
         {
          "aesthetic": "y",
          "limits": [
           null,
           null
          ]
         }
        ],
        "layers": [
         {
          "mapping": {
           "x": "STAT_BINS",
           "y": "STAT_COUNT"
          },
          "stat": "identity",
          "data": {
           "STAT_COUNT": [
            1.0,
            0.0,
            0.0,
            2.0,
            5.0,
            18.0,
            37.0,
            63.0,
            107.0,
            125.0,
            173.0,
            150.0,
            115.0,
            105.0,
            55.0,
            24.0,
            13.0,
            4.0,
            1.0,
            2.0
           ],
           "STAT_BINS": [
            -99.4685,
            -89.9455,
            -80.4225,
            -70.8995,
            -61.3765,
            -51.8535,
            -42.3305,
            -32.8075,
            -23.2845,
            -13.7615,
            -4.2385,
            5.2845,
            14.8075,
            24.3305,
            33.8535,
            43.3765,
            52.8995,
            62.4225,
            71.9455,
            81.4685
           ]
          },
          "sampling": "none",
          "position": "dodge",
          "geom": "bar"
         }
        ]
       },
       "apply_color_scheme": true,
       "swing_enabled": true
      }
     },
     "execution_count": 3,
     "metadata": {},
     "output_type": "execute_result"
    }
   ],
   "source": [
    "plot {\n",
    "    histogram(numbers)\n",
    "}"
   ]
  },
  {
   "cell_type": "code",
   "execution_count": 4,
   "metadata": {
    "ExecuteTime": {
     "end_time": "2023-06-02T09:40:41.951551Z",
     "start_time": "2023-06-02T09:40:41.811241Z"
    }
   },
   "outputs": [
    {
     "data": {
      "text/html": "            <script type=\"text/javascript\" data-lets-plot-script=\"library\" src=\"https://cdn.jsdelivr.net/gh/JetBrains/lets-plot@v3.1.0/js-package/distr/lets-plot.min.js\"></script>    \n               <div id=\"l7wSIX\"></div>\n   <script type=\"text/javascript\" data-lets-plot-script=\"plot\">\n       var plotSpec={\n\"mapping\":{\n},\n\"data\":{\n},\n\"kind\":\"plot\",\n\"scales\":[{\n\"aesthetic\":\"x\",\n\"limits\":[null,null]\n},{\n\"aesthetic\":\"y\",\n\"limits\":[null,null]\n}],\n\"layers\":[{\n\"mapping\":{\n\"x\":\"STAT_BINS\",\n\"y\":\"STAT_COUNT\"\n},\n\"stat\":\"identity\",\n\"data\":{\n\"STAT_COUNT\":[1.0,0.0,11.0,79.0,226.0,315.0,252.0,94.0,19.0,3.0,0.0],\n\"STAT_BINS\":[-102.0,-82.0,-62.0,-42.0,-22.0,-2.0,18.0,38.0,58.0,78.0,98.0]\n},\n\"sampling\":\"none\",\n\"position\":\"dodge\",\n\"geom\":\"bar\"\n}]\n};\n       var plotContainer = document.getElementById(\"l7wSIX\");\n       LetsPlot.buildPlotFromProcessedSpecs(plotSpec, -1, -1, plotContainer);\n   </script>            \n        <svg id=5ab5c866-1a48-40f3-8993-44be429f84d8 xmlns=\"http://www.w3.org/2000/svg\" xmlns:xlink=\"http://www.w3.org/1999/xlink\" class=\"plt-container\" width=\"600.0\" height=\"400.0\">\n  <style type=\"text/css\">\n  .plt-container {\n   font-family: Lucida Grande, sans-serif;\n   user-select: none;\n   -webkit-user-select: none;\n   -moz-user-select: none;\n   -ms-user-select: none;\n}\ntext {\n   text-rendering: optimizeLegibility;\n}\n#pp5Mif0 .plot-title {\n   fill: #474747;\n   font-family: Lucida Grande, sans-serif;\n   font-size: 16.0px;\n   font-weight: normal;\n   font-style: normal;   \n}\n#pp5Mif0 .plot-subtitle {\n   fill: #474747;\n   font-family: Lucida Grande, sans-serif;\n   font-size: 15.0px;\n   font-weight: normal;\n   font-style: normal;   \n}\n#pp5Mif0 .plot-caption {\n   fill: #474747;\n   font-family: Lucida Grande, sans-serif;\n   font-size: 13.0px;\n   font-weight: normal;\n   font-style: normal;   \n}\n#pp5Mif0 .legend-title {\n   fill: #474747;\n   font-family: Lucida Grande, sans-serif;\n   font-size: 15.0px;\n   font-weight: normal;\n   font-style: normal;   \n}\n#pp5Mif0 .legend-item {\n   fill: #474747;\n   font-family: Lucida Grande, sans-serif;\n   font-size: 13.0px;\n   font-weight: normal;\n   font-style: normal;   \n}\n#pp5Mif0 .axis-title-x {\n   fill: #474747;\n   font-family: Lucida Grande, sans-serif;\n   font-size: 15.0px;\n   font-weight: normal;\n   font-style: normal;   \n}\n#pp5Mif0 .axis-text-x {\n   fill: #474747;\n   font-family: Lucida Grande, sans-serif;\n   font-size: 13.0px;\n   font-weight: normal;\n   font-style: normal;   \n}\n#dcfWFC4 .axis-tooltip-text-x {\n   fill: #ffffff;\n   font-family: Lucida Grande, sans-serif;\n   font-size: 13.0px;\n   font-weight: normal;\n   font-style: normal;   \n}\n#pp5Mif0 .axis-title-y {\n   fill: #474747;\n   font-family: Lucida Grande, sans-serif;\n   font-size: 15.0px;\n   font-weight: normal;\n   font-style: normal;   \n}\n#pp5Mif0 .axis-text-y {\n   fill: #474747;\n   font-family: Lucida Grande, sans-serif;\n   font-size: 13.0px;\n   font-weight: normal;\n   font-style: normal;   \n}\n#dcfWFC4 .axis-tooltip-text-y {\n   fill: #ffffff;\n   font-family: Lucida Grande, sans-serif;\n   font-size: 13.0px;\n   font-weight: normal;\n   font-style: normal;   \n}\n#pp5Mif0 .facet-strip-text-x {\n   fill: #474747;\n   font-family: Lucida Grande, sans-serif;\n   font-size: 13.0px;\n   font-weight: normal;\n   font-style: normal;   \n}\n#pp5Mif0 .facet-strip-text-y {\n   fill: #474747;\n   font-family: Lucida Grande, sans-serif;\n   font-size: 13.0px;\n   font-weight: normal;\n   font-style: normal;   \n}\n#dcfWFC4 .tooltip-text {\n   fill: #474747;\n   font-family: Lucida Grande, sans-serif;\n   font-size: 13.0px;\n   font-weight: normal;\n   font-style: normal;   \n}\n#dcfWFC4 .tooltip-title {\n   fill: #474747;\n   font-family: Lucida Grande, sans-serif;\n   font-size: 13.0px;\n   font-weight: bold;\n   font-style: normal;   \n}\n#dcfWFC4 .tooltip-label {\n   fill: #474747;\n   font-family: Lucida Grande, sans-serif;\n   font-size: 13.0px;\n   font-weight: bold;\n   font-style: normal;   \n}\n\n  </style>\n  <g id=\"pp5Mif0\">\n    <rect x=\"0.0\" y=\"0.0\" height=\"400.0\" width=\"600.0\" stroke=\"rgb(71,71,71)\" stroke-opacity=\"1.0\" stroke-width=\"0.0\" fill=\"rgb(255,255,255)\" fill-opacity=\"1.0\">\n    </rect>\n    <g transform=\"translate(23.0 10.0 ) \">\n      <g transform=\"translate(29.941816366404606 344.0 ) \">\n        <line x1=\"49.047432116662804\" y1=\"-0.0\" x2=\"49.047432116662804\" y2=\"-344.0\" stroke=\"rgb(233,233,233)\" stroke-opacity=\"1.0\" stroke-width=\"1.0\">\n        </line>\n        <line x1=\"161.02787073918057\" y1=\"-0.0\" x2=\"161.02787073918057\" y2=\"-344.0\" stroke=\"rgb(233,233,233)\" stroke-opacity=\"1.0\" stroke-width=\"1.0\">\n        </line>\n        <line x1=\"273.00830936169837\" y1=\"-0.0\" x2=\"273.00830936169837\" y2=\"-344.0\" stroke=\"rgb(233,233,233)\" stroke-opacity=\"1.0\" stroke-width=\"1.0\">\n        </line>\n        <line x1=\"384.98874798421616\" y1=\"-0.0\" x2=\"384.98874798421616\" y2=\"-344.0\" stroke=\"rgb(233,233,233)\" stroke-opacity=\"1.0\" stroke-width=\"1.0\">\n        </line>\n        <line x1=\"496.96918660673396\" y1=\"-0.0\" x2=\"496.96918660673396\" y2=\"-344.0\" stroke=\"rgb(233,233,233)\" stroke-opacity=\"1.0\" stroke-width=\"1.0\">\n        </line>\n        <g transform=\"translate(49.047432116662804 0.0 ) \">\n          <line stroke-width=\"1.0\" stroke=\"rgb(71,71,71)\" stroke-opacity=\"1.0\" x2=\"0.0\" y2=\"4.0\">\n          </line>\n          <g transform=\"translate(0.0 7.0 ) \">\n            <text class=\"axis-text-x\" text-anchor=\"middle\" dy=\"0.7em\">\n            -100\n            </text>\n          </g>\n        </g>\n        <g transform=\"translate(161.02787073918057 0.0 ) \">\n          <line stroke-width=\"1.0\" stroke=\"rgb(71,71,71)\" stroke-opacity=\"1.0\" x2=\"0.0\" y2=\"4.0\">\n          </line>\n          <g transform=\"translate(0.0 7.0 ) \">\n            <text class=\"axis-text-x\" text-anchor=\"middle\" dy=\"0.7em\">\n            -50\n            </text>\n          </g>\n        </g>\n        <g transform=\"translate(273.00830936169837 0.0 ) \">\n          <line stroke-width=\"1.0\" stroke=\"rgb(71,71,71)\" stroke-opacity=\"1.0\" x2=\"0.0\" y2=\"4.0\">\n          </line>\n          <g transform=\"translate(0.0 7.0 ) \">\n            <text class=\"axis-text-x\" text-anchor=\"middle\" dy=\"0.7em\">\n            0\n            </text>\n          </g>\n        </g>\n        <g transform=\"translate(384.98874798421616 0.0 ) \">\n          <line stroke-width=\"1.0\" stroke=\"rgb(71,71,71)\" stroke-opacity=\"1.0\" x2=\"0.0\" y2=\"4.0\">\n          </line>\n          <g transform=\"translate(0.0 7.0 ) \">\n            <text class=\"axis-text-x\" text-anchor=\"middle\" dy=\"0.7em\">\n            50\n            </text>\n          </g>\n        </g>\n        <g transform=\"translate(496.96918660673396 0.0 ) \">\n          <line stroke-width=\"1.0\" stroke=\"rgb(71,71,71)\" stroke-opacity=\"1.0\" x2=\"0.0\" y2=\"4.0\">\n          </line>\n          <g transform=\"translate(0.0 7.0 ) \">\n            <text class=\"axis-text-x\" text-anchor=\"middle\" dy=\"0.7em\">\n            100\n            </text>\n          </g>\n        </g>\n        <line x1=\"0.0\" y1=\"0.0\" x2=\"537.0581836335954\" y2=\"0.0\" stroke-width=\"1.0\" stroke=\"rgb(71,71,71)\" stroke-opacity=\"1.0\">\n        </line>\n      </g>\n      <g transform=\"translate(29.941816366404606 0.0 ) \">\n        <line x1=\"0.0\" y1=\"291.99697656840516\" x2=\"537.0581836335954\" y2=\"291.99697656840516\" stroke=\"rgb(233,233,233)\" stroke-opacity=\"1.0\" stroke-width=\"1.0\">\n        </line>\n        <line x1=\"0.0\" y1=\"239.99395313681026\" x2=\"537.0581836335954\" y2=\"239.99395313681026\" stroke=\"rgb(233,233,233)\" stroke-opacity=\"1.0\" stroke-width=\"1.0\">\n        </line>\n        <line x1=\"0.0\" y1=\"187.99092970521542\" x2=\"537.0581836335954\" y2=\"187.99092970521542\" stroke=\"rgb(233,233,233)\" stroke-opacity=\"1.0\" stroke-width=\"1.0\">\n        </line>\n        <line x1=\"0.0\" y1=\"135.98790627362055\" x2=\"537.0581836335954\" y2=\"135.98790627362055\" stroke=\"rgb(233,233,233)\" stroke-opacity=\"1.0\" stroke-width=\"1.0\">\n        </line>\n        <line x1=\"0.0\" y1=\"83.98488284202568\" x2=\"537.0581836335954\" y2=\"83.98488284202568\" stroke=\"rgb(233,233,233)\" stroke-opacity=\"1.0\" stroke-width=\"1.0\">\n        </line>\n        <line x1=\"0.0\" y1=\"31.981859410430843\" x2=\"537.0581836335954\" y2=\"31.981859410430843\" stroke=\"rgb(233,233,233)\" stroke-opacity=\"1.0\" stroke-width=\"1.0\">\n        </line>\n        <g transform=\"translate(0.0 344.0 ) \">\n          <g transform=\"translate(-3.0 0.0 ) \">\n            <text class=\"axis-text-y\" text-anchor=\"end\" dy=\"0.35em\">\n            0\n            </text>\n          </g>\n        </g>\n        <g transform=\"translate(0.0 291.99697656840516 ) \">\n          <g transform=\"translate(-3.0 0.0 ) \">\n            <text class=\"axis-text-y\" text-anchor=\"end\" dy=\"0.35em\">\n            50\n            </text>\n          </g>\n        </g>\n        <g transform=\"translate(0.0 239.99395313681026 ) \">\n          <g transform=\"translate(-3.0 0.0 ) \">\n            <text class=\"axis-text-y\" text-anchor=\"end\" dy=\"0.35em\">\n            100\n            </text>\n          </g>\n        </g>\n        <g transform=\"translate(0.0 187.99092970521542 ) \">\n          <g transform=\"translate(-3.0 0.0 ) \">\n            <text class=\"axis-text-y\" text-anchor=\"end\" dy=\"0.35em\">\n            150\n            </text>\n          </g>\n        </g>\n        <g transform=\"translate(0.0 135.98790627362055 ) \">\n          <g transform=\"translate(-3.0 0.0 ) \">\n            <text class=\"axis-text-y\" text-anchor=\"end\" dy=\"0.35em\">\n            200\n            </text>\n          </g>\n        </g>\n        <g transform=\"translate(0.0 83.98488284202568 ) \">\n          <g transform=\"translate(-3.0 0.0 ) \">\n            <text class=\"axis-text-y\" text-anchor=\"end\" dy=\"0.35em\">\n            250\n            </text>\n          </g>\n        </g>\n        <g transform=\"translate(0.0 31.981859410430843 ) \">\n          <g transform=\"translate(-3.0 0.0 ) \">\n            <text class=\"axis-text-y\" text-anchor=\"end\" dy=\"0.35em\">\n            300\n            </text>\n          </g>\n        </g>\n      </g>\n      <g transform=\"translate(29.941816366404606 0.0 ) \" clip-path=\"url(#cGuXnrM)\" clip-bounds-jfx=\"[rect (0.0, 0.0), (537.0581836335954, 344.0)]\">\n        <defs>\n          <clipPath id=\"cGuXnrM\">\n            <rect x=\"0.0\" y=\"0.0\" width=\"537.0581836335954\" height=\"344.0\">\n            </rect>\n          </clipPath>\n        </defs>\n        <rect x=\"472.33349010978003\" y=\"344.0\" height=\"0.1\" width=\"40.31295790410644\" stroke=\"rgb(0,0,0)\" stroke-opacity=\"0.0\" fill=\"rgb(17,142,216)\" fill-opacity=\"1.0\" stroke-width=\"1.0\">\n        </rect>\n        <rect x=\"427.5413146607729\" y=\"340.87981859410434\" height=\"3.1201814058956643\" width=\"40.31295790410644\" stroke=\"rgb(0,0,0)\" stroke-opacity=\"0.0\" fill=\"rgb(17,142,216)\" fill-opacity=\"1.0\" stroke-width=\"1.0\">\n        </rect>\n        <rect x=\"382.7491392117658\" y=\"324.23885109599394\" height=\"19.761148904006063\" width=\"40.31295790410644\" stroke=\"rgb(0,0,0)\" stroke-opacity=\"0.0\" fill=\"rgb(17,142,216)\" fill-opacity=\"1.0\" stroke-width=\"1.0\">\n        </rect>\n        <rect x=\"337.9569637627587\" y=\"246.23431594860165\" height=\"97.76568405139835\" width=\"40.31295790410644\" stroke=\"rgb(0,0,0)\" stroke-opacity=\"0.0\" fill=\"rgb(17,142,216)\" fill-opacity=\"1.0\" stroke-width=\"1.0\">\n        </rect>\n        <rect x=\"293.16478831375156\" y=\"81.90476190476187\" height=\"262.09523809523813\" width=\"40.31295790410644\" stroke=\"rgb(0,0,0)\" stroke-opacity=\"0.0\" fill=\"rgb(17,142,216)\" fill-opacity=\"1.0\" stroke-width=\"1.0\">\n        </rect>\n        <rect x=\"248.37261286474444\" y=\"16.38095238095235\" height=\"327.61904761904765\" width=\"40.31295790410644\" stroke=\"rgb(0,0,0)\" stroke-opacity=\"0.0\" fill=\"rgb(17,142,216)\" fill-opacity=\"1.0\" stroke-width=\"1.0\">\n        </rect>\n        <rect x=\"203.58043741573732\" y=\"108.94633408919123\" height=\"235.05366591080877\" width=\"40.31295790410641\" stroke=\"rgb(0,0,0)\" stroke-opacity=\"0.0\" fill=\"rgb(17,142,216)\" fill-opacity=\"1.0\" stroke-width=\"1.0\">\n        </rect>\n        <rect x=\"158.7882619667302\" y=\"261.8352229780801\" height=\"82.16477702191992\" width=\"40.31295790410644\" stroke=\"rgb(0,0,0)\" stroke-opacity=\"0.0\" fill=\"rgb(17,142,216)\" fill-opacity=\"1.0\" stroke-width=\"1.0\">\n        </rect>\n        <rect x=\"113.99608651772311\" y=\"332.55933484504914\" height=\"11.440665154950864\" width=\"40.31295790410641\" stroke=\"rgb(0,0,0)\" stroke-opacity=\"0.0\" fill=\"rgb(17,142,216)\" fill-opacity=\"1.0\" stroke-width=\"1.0\">\n        </rect>\n        <rect x=\"69.203911068716\" y=\"344.0\" height=\"0.1\" width=\"40.31295790410641\" stroke=\"rgb(0,0,0)\" stroke-opacity=\"0.0\" fill=\"rgb(17,142,216)\" fill-opacity=\"1.0\" stroke-width=\"1.0\">\n        </rect>\n        <rect x=\"24.411735619708878\" y=\"342.9599395313681\" height=\"1.040060468631907\" width=\"40.31295790410641\" stroke=\"rgb(0,0,0)\" stroke-opacity=\"0.0\" fill=\"rgb(17,142,216)\" fill-opacity=\"1.0\" stroke-width=\"1.0\">\n        </rect>\n      </g>\n    </g>\n    <g transform=\"translate(14.5 182.0 ) rotate(-90.0 ) \">\n      <text class=\"axis-title-y\" y=\"0.0\" text-anchor=\"middle\">\n      STAT_COUNT\n      </text>\n    </g>\n    <g transform=\"translate(321.4709081832023 391.5 ) \">\n      <text class=\"axis-title-x\" y=\"0.0\" text-anchor=\"middle\">\n      STAT_BINS\n      </text>\n    </g>\n  </g>\n  <g id=\"dcfWFC4\">\n  </g>\n</svg>\n        <script>document.getElementById(\"5ab5c866-1a48-40f3-8993-44be429f84d8\").style.display = \"none\";</script>",
      "application/plot+json": {
       "output_type": "lets_plot_spec",
       "output": {
        "mapping": {},
        "data": {},
        "kind": "plot",
        "scales": [
         {
          "aesthetic": "x",
          "limits": [
           null,
           null
          ]
         },
         {
          "aesthetic": "y",
          "limits": [
           null,
           null
          ]
         }
        ],
        "layers": [
         {
          "mapping": {
           "x": "STAT_BINS",
           "y": "STAT_COUNT"
          },
          "stat": "identity",
          "data": {
           "STAT_COUNT": [
            1.0,
            0.0,
            11.0,
            79.0,
            226.0,
            315.0,
            252.0,
            94.0,
            19.0,
            3.0,
            0.0
           ],
           "STAT_BINS": [
            -102.0,
            -82.0,
            -62.0,
            -42.0,
            -22.0,
            -2.0,
            18.0,
            38.0,
            58.0,
            78.0,
            98.0
           ]
          },
          "sampling": "none",
          "position": "dodge",
          "geom": "bar"
         }
        ]
       },
       "apply_color_scheme": true,
       "swing_enabled": true
      }
     },
     "execution_count": 4,
     "metadata": {},
     "output_type": "execute_result"
    }
   ],
   "source": [
    "plot {\n",
    "    histogram(numbers, Bins.byWidth(20.0))\n",
    "}"
   ]
  },
  {
   "cell_type": "code",
   "execution_count": 5,
   "metadata": {
    "ExecuteTime": {
     "end_time": "2023-06-02T09:40:42.061246Z",
     "start_time": "2023-06-02T09:40:41.949716Z"
    }
   },
   "outputs": [
    {
     "data": {
      "text/html": "            <script type=\"text/javascript\" data-lets-plot-script=\"library\" src=\"https://cdn.jsdelivr.net/gh/JetBrains/lets-plot@v3.1.0/js-package/distr/lets-plot.min.js\"></script>    \n               <div id=\"BEU1U3\"></div>\n   <script type=\"text/javascript\" data-lets-plot-script=\"plot\">\n       var plotSpec={\n\"mapping\":{\n},\n\"data\":{\n},\n\"kind\":\"plot\",\n\"scales\":[{\n\"aesthetic\":\"x\",\n\"limits\":[null,null]\n},{\n\"aesthetic\":\"y\",\n\"limits\":[null,null]\n}],\n\"layers\":[{\n\"mapping\":{\n\"x\":\"STAT_BINS\",\n\"y\":\"STAT_COUNT\"\n},\n\"stat\":\"identity\",\n\"data\":{\n\"STAT_COUNT\":[1.0,0.0,4.0,36.0,108.0,209.0,274.0,225.0,105.0,31.0,5.0,2.0],\n\"STAT_BINS\":[-100.10138888888888,-83.5375,-66.9736111111111,-50.409722222222214,-33.84583333333333,-17.28194444444445,-0.7180555555555515,15.845833333333331,32.409722222222214,48.97361111111111,65.53749999999998,82.10138888888888]\n},\n\"sampling\":\"none\",\n\"position\":\"dodge\",\n\"geom\":\"bar\"\n}]\n};\n       var plotContainer = document.getElementById(\"BEU1U3\");\n       LetsPlot.buildPlotFromProcessedSpecs(plotSpec, -1, -1, plotContainer);\n   </script>            \n        <svg id=16e33d9f-82e3-4706-bd4e-4c83e51d9085 xmlns=\"http://www.w3.org/2000/svg\" xmlns:xlink=\"http://www.w3.org/1999/xlink\" class=\"plt-container\" width=\"600.0\" height=\"400.0\">\n  <style type=\"text/css\">\n  .plt-container {\n   font-family: Lucida Grande, sans-serif;\n   user-select: none;\n   -webkit-user-select: none;\n   -moz-user-select: none;\n   -ms-user-select: none;\n}\ntext {\n   text-rendering: optimizeLegibility;\n}\n#pS82DFG .plot-title {\n   fill: #474747;\n   font-family: Lucida Grande, sans-serif;\n   font-size: 16.0px;\n   font-weight: normal;\n   font-style: normal;   \n}\n#pS82DFG .plot-subtitle {\n   fill: #474747;\n   font-family: Lucida Grande, sans-serif;\n   font-size: 15.0px;\n   font-weight: normal;\n   font-style: normal;   \n}\n#pS82DFG .plot-caption {\n   fill: #474747;\n   font-family: Lucida Grande, sans-serif;\n   font-size: 13.0px;\n   font-weight: normal;\n   font-style: normal;   \n}\n#pS82DFG .legend-title {\n   fill: #474747;\n   font-family: Lucida Grande, sans-serif;\n   font-size: 15.0px;\n   font-weight: normal;\n   font-style: normal;   \n}\n#pS82DFG .legend-item {\n   fill: #474747;\n   font-family: Lucida Grande, sans-serif;\n   font-size: 13.0px;\n   font-weight: normal;\n   font-style: normal;   \n}\n#pS82DFG .axis-title-x {\n   fill: #474747;\n   font-family: Lucida Grande, sans-serif;\n   font-size: 15.0px;\n   font-weight: normal;\n   font-style: normal;   \n}\n#pS82DFG .axis-text-x {\n   fill: #474747;\n   font-family: Lucida Grande, sans-serif;\n   font-size: 13.0px;\n   font-weight: normal;\n   font-style: normal;   \n}\n#d2tYhXh .axis-tooltip-text-x {\n   fill: #ffffff;\n   font-family: Lucida Grande, sans-serif;\n   font-size: 13.0px;\n   font-weight: normal;\n   font-style: normal;   \n}\n#pS82DFG .axis-title-y {\n   fill: #474747;\n   font-family: Lucida Grande, sans-serif;\n   font-size: 15.0px;\n   font-weight: normal;\n   font-style: normal;   \n}\n#pS82DFG .axis-text-y {\n   fill: #474747;\n   font-family: Lucida Grande, sans-serif;\n   font-size: 13.0px;\n   font-weight: normal;\n   font-style: normal;   \n}\n#d2tYhXh .axis-tooltip-text-y {\n   fill: #ffffff;\n   font-family: Lucida Grande, sans-serif;\n   font-size: 13.0px;\n   font-weight: normal;\n   font-style: normal;   \n}\n#pS82DFG .facet-strip-text-x {\n   fill: #474747;\n   font-family: Lucida Grande, sans-serif;\n   font-size: 13.0px;\n   font-weight: normal;\n   font-style: normal;   \n}\n#pS82DFG .facet-strip-text-y {\n   fill: #474747;\n   font-family: Lucida Grande, sans-serif;\n   font-size: 13.0px;\n   font-weight: normal;\n   font-style: normal;   \n}\n#d2tYhXh .tooltip-text {\n   fill: #474747;\n   font-family: Lucida Grande, sans-serif;\n   font-size: 13.0px;\n   font-weight: normal;\n   font-style: normal;   \n}\n#d2tYhXh .tooltip-title {\n   fill: #474747;\n   font-family: Lucida Grande, sans-serif;\n   font-size: 13.0px;\n   font-weight: bold;\n   font-style: normal;   \n}\n#d2tYhXh .tooltip-label {\n   fill: #474747;\n   font-family: Lucida Grande, sans-serif;\n   font-size: 13.0px;\n   font-weight: bold;\n   font-style: normal;   \n}\n\n  </style>\n  <g id=\"pS82DFG\">\n    <rect x=\"0.0\" y=\"0.0\" height=\"400.0\" width=\"600.0\" stroke=\"rgb(71,71,71)\" stroke-opacity=\"1.0\" stroke-width=\"0.0\" fill=\"rgb(255,255,255)\" fill-opacity=\"1.0\">\n    </rect>\n    <g transform=\"translate(23.0 10.0 ) \">\n      <g transform=\"translate(29.941816366404606 344.0 ) \">\n        <line x1=\"43.12552925899007\" y1=\"-0.0\" x2=\"43.12552925899007\" y2=\"-344.0\" stroke=\"rgb(233,233,233)\" stroke-opacity=\"1.0\" stroke-width=\"1.0\">\n        </line>\n        <line x1=\"92.66477377718954\" y1=\"-0.0\" x2=\"92.66477377718954\" y2=\"-344.0\" stroke=\"rgb(233,233,233)\" stroke-opacity=\"1.0\" stroke-width=\"1.0\">\n        </line>\n        <line x1=\"142.204018295389\" y1=\"-0.0\" x2=\"142.204018295389\" y2=\"-344.0\" stroke=\"rgb(233,233,233)\" stroke-opacity=\"1.0\" stroke-width=\"1.0\">\n        </line>\n        <line x1=\"191.7432628135885\" y1=\"-0.0\" x2=\"191.7432628135885\" y2=\"-344.0\" stroke=\"rgb(233,233,233)\" stroke-opacity=\"1.0\" stroke-width=\"1.0\">\n        </line>\n        <line x1=\"241.28250733178797\" y1=\"-0.0\" x2=\"241.28250733178797\" y2=\"-344.0\" stroke=\"rgb(233,233,233)\" stroke-opacity=\"1.0\" stroke-width=\"1.0\">\n        </line>\n        <line x1=\"290.82175184998744\" y1=\"-0.0\" x2=\"290.82175184998744\" y2=\"-344.0\" stroke=\"rgb(233,233,233)\" stroke-opacity=\"1.0\" stroke-width=\"1.0\">\n        </line>\n        <line x1=\"340.36099636818693\" y1=\"-0.0\" x2=\"340.36099636818693\" y2=\"-344.0\" stroke=\"rgb(233,233,233)\" stroke-opacity=\"1.0\" stroke-width=\"1.0\">\n        </line>\n        <line x1=\"389.90024088638637\" y1=\"-0.0\" x2=\"389.90024088638637\" y2=\"-344.0\" stroke=\"rgb(233,233,233)\" stroke-opacity=\"1.0\" stroke-width=\"1.0\">\n        </line>\n        <line x1=\"439.43948540458587\" y1=\"-0.0\" x2=\"439.43948540458587\" y2=\"-344.0\" stroke=\"rgb(233,233,233)\" stroke-opacity=\"1.0\" stroke-width=\"1.0\">\n        </line>\n        <line x1=\"488.9787299227853\" y1=\"-0.0\" x2=\"488.9787299227853\" y2=\"-344.0\" stroke=\"rgb(233,233,233)\" stroke-opacity=\"1.0\" stroke-width=\"1.0\">\n        </line>\n        <g transform=\"translate(43.12552925899007 0.0 ) \">\n          <line stroke-width=\"1.0\" stroke=\"rgb(71,71,71)\" stroke-opacity=\"1.0\" x2=\"0.0\" y2=\"4.0\">\n          </line>\n          <g transform=\"translate(0.0 7.0 ) \">\n            <text class=\"axis-text-x\" text-anchor=\"middle\" dy=\"0.7em\">\n            -100\n            </text>\n          </g>\n        </g>\n        <g transform=\"translate(92.66477377718954 0.0 ) \">\n          <line stroke-width=\"1.0\" stroke=\"rgb(71,71,71)\" stroke-opacity=\"1.0\" x2=\"0.0\" y2=\"4.0\">\n          </line>\n          <g transform=\"translate(0.0 7.0 ) \">\n            <text class=\"axis-text-x\" text-anchor=\"middle\" dy=\"0.7em\">\n            -80\n            </text>\n          </g>\n        </g>\n        <g transform=\"translate(142.204018295389 0.0 ) \">\n          <line stroke-width=\"1.0\" stroke=\"rgb(71,71,71)\" stroke-opacity=\"1.0\" x2=\"0.0\" y2=\"4.0\">\n          </line>\n          <g transform=\"translate(0.0 7.0 ) \">\n            <text class=\"axis-text-x\" text-anchor=\"middle\" dy=\"0.7em\">\n            -60\n            </text>\n          </g>\n        </g>\n        <g transform=\"translate(191.7432628135885 0.0 ) \">\n          <line stroke-width=\"1.0\" stroke=\"rgb(71,71,71)\" stroke-opacity=\"1.0\" x2=\"0.0\" y2=\"4.0\">\n          </line>\n          <g transform=\"translate(0.0 7.0 ) \">\n            <text class=\"axis-text-x\" text-anchor=\"middle\" dy=\"0.7em\">\n            -40\n            </text>\n          </g>\n        </g>\n        <g transform=\"translate(241.28250733178797 0.0 ) \">\n          <line stroke-width=\"1.0\" stroke=\"rgb(71,71,71)\" stroke-opacity=\"1.0\" x2=\"0.0\" y2=\"4.0\">\n          </line>\n          <g transform=\"translate(0.0 7.0 ) \">\n            <text class=\"axis-text-x\" text-anchor=\"middle\" dy=\"0.7em\">\n            -20\n            </text>\n          </g>\n        </g>\n        <g transform=\"translate(290.82175184998744 0.0 ) \">\n          <line stroke-width=\"1.0\" stroke=\"rgb(71,71,71)\" stroke-opacity=\"1.0\" x2=\"0.0\" y2=\"4.0\">\n          </line>\n          <g transform=\"translate(0.0 7.0 ) \">\n            <text class=\"axis-text-x\" text-anchor=\"middle\" dy=\"0.7em\">\n            0\n            </text>\n          </g>\n        </g>\n        <g transform=\"translate(340.36099636818693 0.0 ) \">\n          <line stroke-width=\"1.0\" stroke=\"rgb(71,71,71)\" stroke-opacity=\"1.0\" x2=\"0.0\" y2=\"4.0\">\n          </line>\n          <g transform=\"translate(0.0 7.0 ) \">\n            <text class=\"axis-text-x\" text-anchor=\"middle\" dy=\"0.7em\">\n            20\n            </text>\n          </g>\n        </g>\n        <g transform=\"translate(389.90024088638637 0.0 ) \">\n          <line stroke-width=\"1.0\" stroke=\"rgb(71,71,71)\" stroke-opacity=\"1.0\" x2=\"0.0\" y2=\"4.0\">\n          </line>\n          <g transform=\"translate(0.0 7.0 ) \">\n            <text class=\"axis-text-x\" text-anchor=\"middle\" dy=\"0.7em\">\n            40\n            </text>\n          </g>\n        </g>\n        <g transform=\"translate(439.43948540458587 0.0 ) \">\n          <line stroke-width=\"1.0\" stroke=\"rgb(71,71,71)\" stroke-opacity=\"1.0\" x2=\"0.0\" y2=\"4.0\">\n          </line>\n          <g transform=\"translate(0.0 7.0 ) \">\n            <text class=\"axis-text-x\" text-anchor=\"middle\" dy=\"0.7em\">\n            60\n            </text>\n          </g>\n        </g>\n        <g transform=\"translate(488.9787299227853 0.0 ) \">\n          <line stroke-width=\"1.0\" stroke=\"rgb(71,71,71)\" stroke-opacity=\"1.0\" x2=\"0.0\" y2=\"4.0\">\n          </line>\n          <g transform=\"translate(0.0 7.0 ) \">\n            <text class=\"axis-text-x\" text-anchor=\"middle\" dy=\"0.7em\">\n            80\n            </text>\n          </g>\n        </g>\n        <line x1=\"0.0\" y1=\"0.0\" x2=\"537.0581836335954\" y2=\"0.0\" stroke-width=\"1.0\" stroke=\"rgb(71,71,71)\" stroke-opacity=\"1.0\">\n        </line>\n      </g>\n      <g transform=\"translate(29.941816366404606 0.0 ) \">\n        <line x1=\"0.0\" y1=\"284.21550225929786\" x2=\"537.0581836335954\" y2=\"284.21550225929786\" stroke=\"rgb(233,233,233)\" stroke-opacity=\"1.0\" stroke-width=\"1.0\">\n        </line>\n        <line x1=\"0.0\" y1=\"224.43100451859576\" x2=\"537.0581836335954\" y2=\"224.43100451859576\" stroke=\"rgb(233,233,233)\" stroke-opacity=\"1.0\" stroke-width=\"1.0\">\n        </line>\n        <line x1=\"0.0\" y1=\"164.64650677789362\" x2=\"537.0581836335954\" y2=\"164.64650677789362\" stroke=\"rgb(233,233,233)\" stroke-opacity=\"1.0\" stroke-width=\"1.0\">\n        </line>\n        <line x1=\"0.0\" y1=\"104.86200903719151\" x2=\"537.0581836335954\" y2=\"104.86200903719151\" stroke=\"rgb(233,233,233)\" stroke-opacity=\"1.0\" stroke-width=\"1.0\">\n        </line>\n        <line x1=\"0.0\" y1=\"45.07751129648938\" x2=\"537.0581836335954\" y2=\"45.07751129648938\" stroke=\"rgb(233,233,233)\" stroke-opacity=\"1.0\" stroke-width=\"1.0\">\n        </line>\n        <g transform=\"translate(0.0 344.0 ) \">\n          <g transform=\"translate(-3.0 0.0 ) \">\n            <text class=\"axis-text-y\" text-anchor=\"end\" dy=\"0.35em\">\n            0\n            </text>\n          </g>\n        </g>\n        <g transform=\"translate(0.0 284.21550225929786 ) \">\n          <g transform=\"translate(-3.0 0.0 ) \">\n            <text class=\"axis-text-y\" text-anchor=\"end\" dy=\"0.35em\">\n            50\n            </text>\n          </g>\n        </g>\n        <g transform=\"translate(0.0 224.43100451859576 ) \">\n          <g transform=\"translate(-3.0 0.0 ) \">\n            <text class=\"axis-text-y\" text-anchor=\"end\" dy=\"0.35em\">\n            100\n            </text>\n          </g>\n        </g>\n        <g transform=\"translate(0.0 164.64650677789362 ) \">\n          <g transform=\"translate(-3.0 0.0 ) \">\n            <text class=\"axis-text-y\" text-anchor=\"end\" dy=\"0.35em\">\n            150\n            </text>\n          </g>\n        </g>\n        <g transform=\"translate(0.0 104.86200903719151 ) \">\n          <g transform=\"translate(-3.0 0.0 ) \">\n            <text class=\"axis-text-y\" text-anchor=\"end\" dy=\"0.35em\">\n            200\n            </text>\n          </g>\n        </g>\n        <g transform=\"translate(0.0 45.07751129648938 ) \">\n          <g transform=\"translate(-3.0 0.0 ) \">\n            <text class=\"axis-text-y\" text-anchor=\"end\" dy=\"0.35em\">\n            250\n            </text>\n          </g>\n        </g>\n      </g>\n      <g transform=\"translate(29.941816366404606 0.0 ) \" clip-path=\"url(#cKGykfA)\" clip-bounds-jfx=\"[rect (0.0, 0.0), (537.0581836335954, 344.0)]\">\n        <defs>\n          <clipPath id=\"cKGykfA\">\n            <rect x=\"0.0\" y=\"0.0\" width=\"537.0581836335954\" height=\"344.0\">\n            </rect>\n          </clipPath>\n        </defs>\n        <rect x=\"475.7211336311336\" y=\"341.6086200903719\" height=\"2.3913799096280854\" width=\"36.925314382752845\" stroke=\"rgb(0,0,0)\" stroke-opacity=\"0.0\" fill=\"rgb(17,142,216)\" fill-opacity=\"1.0\" stroke-width=\"1.0\">\n        </rect>\n        <rect x=\"434.69300653918583\" y=\"338.0215502259298\" height=\"5.978449774070214\" width=\"36.9253143827529\" stroke=\"rgb(0,0,0)\" stroke-opacity=\"0.0\" fill=\"rgb(17,142,216)\" fill-opacity=\"1.0\" stroke-width=\"1.0\">\n        </rect>\n        <rect x=\"393.6648794472382\" y=\"306.9336114007647\" height=\"37.066388599235324\" width=\"36.9253143827529\" stroke=\"rgb(0,0,0)\" stroke-opacity=\"0.0\" fill=\"rgb(17,142,216)\" fill-opacity=\"1.0\" stroke-width=\"1.0\">\n        </rect>\n        <rect x=\"352.63675235529047\" y=\"218.45255474452554\" height=\"125.54744525547446\" width=\"36.9253143827529\" stroke=\"rgb(0,0,0)\" stroke-opacity=\"0.0\" fill=\"rgb(17,142,216)\" fill-opacity=\"1.0\" stroke-width=\"1.0\">\n        </rect>\n        <rect x=\"311.6086252633428\" y=\"74.96976016684044\" height=\"269.03023983315956\" width=\"36.9253143827529\" stroke=\"rgb(0,0,0)\" stroke-opacity=\"0.0\" fill=\"rgb(17,142,216)\" fill-opacity=\"1.0\" stroke-width=\"1.0\">\n        </rect>\n        <rect x=\"270.5804981713951\" y=\"16.38095238095235\" height=\"327.61904761904765\" width=\"36.925314382752845\" stroke=\"rgb(0,0,0)\" stroke-opacity=\"0.0\" fill=\"rgb(17,142,216)\" fill-opacity=\"1.0\" stroke-width=\"1.0\">\n        </rect>\n        <rect x=\"229.55237107944737\" y=\"94.10079944386513\" height=\"249.89920055613487\" width=\"36.9253143827529\" stroke=\"rgb(0,0,0)\" stroke-opacity=\"0.0\" fill=\"rgb(17,142,216)\" fill-opacity=\"1.0\" stroke-width=\"1.0\">\n        </rect>\n        <rect x=\"188.5242439874997\" y=\"214.86548488008341\" height=\"129.13451511991659\" width=\"36.9253143827529\" stroke=\"rgb(0,0,0)\" stroke-opacity=\"0.0\" fill=\"rgb(17,142,216)\" fill-opacity=\"1.0\" stroke-width=\"1.0\">\n        </rect>\n        <rect x=\"147.49611689555198\" y=\"300.95516162669446\" height=\"43.04483837330554\" width=\"36.9253143827529\" stroke=\"rgb(0,0,0)\" stroke-opacity=\"0.0\" fill=\"rgb(17,142,216)\" fill-opacity=\"1.0\" stroke-width=\"1.0\">\n        </rect>\n        <rect x=\"106.46798980360433\" y=\"339.21724018074383\" height=\"4.782759819256171\" width=\"36.92531438275287\" stroke=\"rgb(0,0,0)\" stroke-opacity=\"0.0\" fill=\"rgb(17,142,216)\" fill-opacity=\"1.0\" stroke-width=\"1.0\">\n        </rect>\n        <rect x=\"65.43986271165659\" y=\"344.0\" height=\"0.1\" width=\"36.9253143827529\" stroke=\"rgb(0,0,0)\" stroke-opacity=\"0.0\" fill=\"rgb(17,142,216)\" fill-opacity=\"1.0\" stroke-width=\"1.0\">\n        </rect>\n        <rect x=\"24.411735619708907\" y=\"342.80431004518596\" height=\"1.1956899548140427\" width=\"36.9253143827529\" stroke=\"rgb(0,0,0)\" stroke-opacity=\"0.0\" fill=\"rgb(17,142,216)\" fill-opacity=\"1.0\" stroke-width=\"1.0\">\n        </rect>\n      </g>\n    </g>\n    <g transform=\"translate(14.5 182.0 ) rotate(-90.0 ) \">\n      <text class=\"axis-title-y\" y=\"0.0\" text-anchor=\"middle\">\n      STAT_COUNT\n      </text>\n    </g>\n    <g transform=\"translate(321.4709081832023 391.5 ) \">\n      <text class=\"axis-title-x\" y=\"0.0\" text-anchor=\"middle\">\n      STAT_BINS\n      </text>\n    </g>\n  </g>\n  <g id=\"d2tYhXh\">\n  </g>\n</svg>\n        <script>document.getElementById(\"16e33d9f-82e3-4706-bd4e-4c83e51d9085\").style.display = \"none\";</script>",
      "application/plot+json": {
       "output_type": "lets_plot_spec",
       "output": {
        "mapping": {},
        "data": {},
        "kind": "plot",
        "scales": [
         {
          "aesthetic": "x",
          "limits": [
           null,
           null
          ]
         },
         {
          "aesthetic": "y",
          "limits": [
           null,
           null
          ]
         }
        ],
        "layers": [
         {
          "mapping": {
           "x": "STAT_BINS",
           "y": "STAT_COUNT"
          },
          "stat": "identity",
          "data": {
           "STAT_COUNT": [
            1.0,
            0.0,
            4.0,
            36.0,
            108.0,
            209.0,
            274.0,
            225.0,
            105.0,
            31.0,
            5.0,
            2.0
           ],
           "STAT_BINS": [
            -100.10139,
            -83.5375,
            -66.97361,
            -50.40972,
            -33.845833,
            -17.281944,
            -0.71805555,
            15.845834,
            32.40972,
            48.97361,
            65.5375,
            82.10139
           ]
          },
          "sampling": "none",
          "position": "dodge",
          "geom": "bar"
         }
        ]
       },
       "apply_color_scheme": true,
       "swing_enabled": true
      }
     },
     "execution_count": 5,
     "metadata": {},
     "output_type": "execute_result"
    }
   ],
   "source": [
    "plot {\n",
    "    histogram(numbers, Bins.byNumber(12))\n",
    "}"
   ]
  },
  {
   "cell_type": "code",
   "execution_count": 6,
   "metadata": {
    "ExecuteTime": {
     "end_time": "2023-06-02T09:40:42.242435Z",
     "start_time": "2023-06-02T09:40:42.055146Z"
    }
   },
   "outputs": [
    {
     "data": {
      "text/html": "            <script type=\"text/javascript\" data-lets-plot-script=\"library\" src=\"https://cdn.jsdelivr.net/gh/JetBrains/lets-plot@v3.1.0/js-package/distr/lets-plot.min.js\"></script>    \n               <div id=\"hV6jjA\"></div>\n   <script type=\"text/javascript\" data-lets-plot-script=\"plot\">\n       var plotSpec={\n\"mapping\":{\n},\n\"data\":{\n},\n\"kind\":\"plot\",\n\"scales\":[{\n\"aesthetic\":\"x\",\n\"limits\":[null,null]\n},{\n\"aesthetic\":\"y\",\n\"limits\":[null,null]\n}],\n\"layers\":[{\n\"mapping\":{\n\"x\":\"STAT_BINS\",\n\"y\":\"STAT_DENSITY\"\n},\n\"stat\":\"identity\",\n\"data\":{\n\"STAT_DENSITY\":[1.1235955056179776E-4,0.0,0.0,2.2471910112359551E-4,5.617977528089888E-4,0.0020224719101123593,0.004157303370786516,0.007078651685393259,0.012022471910112359,0.014044943820224719,0.01943820224719101,0.016853932584269662,0.012921348314606743,0.011797752808988763,0.006179775280898876,0.002696629213483146,0.0014606741573033708,4.4943820224719103E-4,1.1235955056179776E-4,2.2471910112359551E-4],\n\"STAT_BINS\":[-99.4685,-89.94550000000001,-80.42250000000001,-70.8995,-61.37650000000001,-51.85350000000001,-42.33050000000001,-32.807500000000005,-23.28450000000001,-13.761500000000012,-4.238500000000016,5.284499999999994,14.80749999999999,24.330499999999986,33.8535,43.37649999999999,52.89949999999999,62.422499999999985,71.94549999999998,81.46849999999998]\n},\n\"sampling\":\"none\",\n\"position\":\"dodge\",\n\"geom\":\"bar\",\n\"fill\":\"#ea7ccc\"\n}]\n};\n       var plotContainer = document.getElementById(\"hV6jjA\");\n       LetsPlot.buildPlotFromProcessedSpecs(plotSpec, -1, -1, plotContainer);\n   </script>            \n        <svg id=db5a7740-c18a-4eca-9f25-c904b5c11710 xmlns=\"http://www.w3.org/2000/svg\" xmlns:xlink=\"http://www.w3.org/1999/xlink\" class=\"plt-container\" width=\"600.0\" height=\"400.0\">\n  <style type=\"text/css\">\n  .plt-container {\n   font-family: Lucida Grande, sans-serif;\n   user-select: none;\n   -webkit-user-select: none;\n   -moz-user-select: none;\n   -ms-user-select: none;\n}\ntext {\n   text-rendering: optimizeLegibility;\n}\n#p1LAqS6 .plot-title {\n   fill: #474747;\n   font-family: Lucida Grande, sans-serif;\n   font-size: 16.0px;\n   font-weight: normal;\n   font-style: normal;   \n}\n#p1LAqS6 .plot-subtitle {\n   fill: #474747;\n   font-family: Lucida Grande, sans-serif;\n   font-size: 15.0px;\n   font-weight: normal;\n   font-style: normal;   \n}\n#p1LAqS6 .plot-caption {\n   fill: #474747;\n   font-family: Lucida Grande, sans-serif;\n   font-size: 13.0px;\n   font-weight: normal;\n   font-style: normal;   \n}\n#p1LAqS6 .legend-title {\n   fill: #474747;\n   font-family: Lucida Grande, sans-serif;\n   font-size: 15.0px;\n   font-weight: normal;\n   font-style: normal;   \n}\n#p1LAqS6 .legend-item {\n   fill: #474747;\n   font-family: Lucida Grande, sans-serif;\n   font-size: 13.0px;\n   font-weight: normal;\n   font-style: normal;   \n}\n#p1LAqS6 .axis-title-x {\n   fill: #474747;\n   font-family: Lucida Grande, sans-serif;\n   font-size: 15.0px;\n   font-weight: normal;\n   font-style: normal;   \n}\n#p1LAqS6 .axis-text-x {\n   fill: #474747;\n   font-family: Lucida Grande, sans-serif;\n   font-size: 13.0px;\n   font-weight: normal;\n   font-style: normal;   \n}\n#dcnMERY .axis-tooltip-text-x {\n   fill: #ffffff;\n   font-family: Lucida Grande, sans-serif;\n   font-size: 13.0px;\n   font-weight: normal;\n   font-style: normal;   \n}\n#p1LAqS6 .axis-title-y {\n   fill: #474747;\n   font-family: Lucida Grande, sans-serif;\n   font-size: 15.0px;\n   font-weight: normal;\n   font-style: normal;   \n}\n#p1LAqS6 .axis-text-y {\n   fill: #474747;\n   font-family: Lucida Grande, sans-serif;\n   font-size: 13.0px;\n   font-weight: normal;\n   font-style: normal;   \n}\n#dcnMERY .axis-tooltip-text-y {\n   fill: #ffffff;\n   font-family: Lucida Grande, sans-serif;\n   font-size: 13.0px;\n   font-weight: normal;\n   font-style: normal;   \n}\n#p1LAqS6 .facet-strip-text-x {\n   fill: #474747;\n   font-family: Lucida Grande, sans-serif;\n   font-size: 13.0px;\n   font-weight: normal;\n   font-style: normal;   \n}\n#p1LAqS6 .facet-strip-text-y {\n   fill: #474747;\n   font-family: Lucida Grande, sans-serif;\n   font-size: 13.0px;\n   font-weight: normal;\n   font-style: normal;   \n}\n#dcnMERY .tooltip-text {\n   fill: #474747;\n   font-family: Lucida Grande, sans-serif;\n   font-size: 13.0px;\n   font-weight: normal;\n   font-style: normal;   \n}\n#dcnMERY .tooltip-title {\n   fill: #474747;\n   font-family: Lucida Grande, sans-serif;\n   font-size: 13.0px;\n   font-weight: bold;\n   font-style: normal;   \n}\n#dcnMERY .tooltip-label {\n   fill: #474747;\n   font-family: Lucida Grande, sans-serif;\n   font-size: 13.0px;\n   font-weight: bold;\n   font-style: normal;   \n}\n\n  </style>\n  <g id=\"p1LAqS6\">\n    <rect x=\"0.0\" y=\"0.0\" height=\"400.0\" width=\"600.0\" stroke=\"rgb(71,71,71)\" stroke-opacity=\"1.0\" stroke-width=\"0.0\" fill=\"rgb(255,255,255)\" fill-opacity=\"1.0\">\n    </rect>\n    <g transform=\"translate(23.0 10.0 ) \">\n      <g transform=\"translate(42.99591213121782 344.0 ) \">\n        <line x1=\"33.25445696390639\" y1=\"-0.0\" x2=\"33.25445696390639\" y2=\"-344.0\" stroke=\"rgb(233,233,233)\" stroke-opacity=\"1.0\" stroke-width=\"1.0\">\n        </line>\n        <line x1=\"83.52865190247448\" y1=\"-0.0\" x2=\"83.52865190247448\" y2=\"-344.0\" stroke=\"rgb(233,233,233)\" stroke-opacity=\"1.0\" stroke-width=\"1.0\">\n        </line>\n        <line x1=\"133.80284684104257\" y1=\"-0.0\" x2=\"133.80284684104257\" y2=\"-344.0\" stroke=\"rgb(233,233,233)\" stroke-opacity=\"1.0\" stroke-width=\"1.0\">\n        </line>\n        <line x1=\"184.07704177961062\" y1=\"-0.0\" x2=\"184.07704177961062\" y2=\"-344.0\" stroke=\"rgb(233,233,233)\" stroke-opacity=\"1.0\" stroke-width=\"1.0\">\n        </line>\n        <line x1=\"234.3512367181787\" y1=\"-0.0\" x2=\"234.3512367181787\" y2=\"-344.0\" stroke=\"rgb(233,233,233)\" stroke-opacity=\"1.0\" stroke-width=\"1.0\">\n        </line>\n        <line x1=\"284.6254316567468\" y1=\"-0.0\" x2=\"284.6254316567468\" y2=\"-344.0\" stroke=\"rgb(233,233,233)\" stroke-opacity=\"1.0\" stroke-width=\"1.0\">\n        </line>\n        <line x1=\"334.8996265953149\" y1=\"-0.0\" x2=\"334.8996265953149\" y2=\"-344.0\" stroke=\"rgb(233,233,233)\" stroke-opacity=\"1.0\" stroke-width=\"1.0\">\n        </line>\n        <line x1=\"385.173821533883\" y1=\"-0.0\" x2=\"385.173821533883\" y2=\"-344.0\" stroke=\"rgb(233,233,233)\" stroke-opacity=\"1.0\" stroke-width=\"1.0\">\n        </line>\n        <line x1=\"435.44801647245106\" y1=\"-0.0\" x2=\"435.44801647245106\" y2=\"-344.0\" stroke=\"rgb(233,233,233)\" stroke-opacity=\"1.0\" stroke-width=\"1.0\">\n        </line>\n        <line x1=\"485.7222114110191\" y1=\"-0.0\" x2=\"485.7222114110191\" y2=\"-344.0\" stroke=\"rgb(233,233,233)\" stroke-opacity=\"1.0\" stroke-width=\"1.0\">\n        </line>\n        <g transform=\"translate(33.25445696390639 0.0 ) \">\n          <line stroke-width=\"1.0\" stroke=\"rgb(71,71,71)\" stroke-opacity=\"1.0\" x2=\"0.0\" y2=\"4.0\">\n          </line>\n          <g transform=\"translate(0.0 7.0 ) \">\n            <text class=\"axis-text-x\" text-anchor=\"middle\" dy=\"0.7em\">\n            -100\n            </text>\n          </g>\n        </g>\n        <g transform=\"translate(83.52865190247448 0.0 ) \">\n          <line stroke-width=\"1.0\" stroke=\"rgb(71,71,71)\" stroke-opacity=\"1.0\" x2=\"0.0\" y2=\"4.0\">\n          </line>\n          <g transform=\"translate(0.0 7.0 ) \">\n            <text class=\"axis-text-x\" text-anchor=\"middle\" dy=\"0.7em\">\n            -80\n            </text>\n          </g>\n        </g>\n        <g transform=\"translate(133.80284684104257 0.0 ) \">\n          <line stroke-width=\"1.0\" stroke=\"rgb(71,71,71)\" stroke-opacity=\"1.0\" x2=\"0.0\" y2=\"4.0\">\n          </line>\n          <g transform=\"translate(0.0 7.0 ) \">\n            <text class=\"axis-text-x\" text-anchor=\"middle\" dy=\"0.7em\">\n            -60\n            </text>\n          </g>\n        </g>\n        <g transform=\"translate(184.07704177961062 0.0 ) \">\n          <line stroke-width=\"1.0\" stroke=\"rgb(71,71,71)\" stroke-opacity=\"1.0\" x2=\"0.0\" y2=\"4.0\">\n          </line>\n          <g transform=\"translate(0.0 7.0 ) \">\n            <text class=\"axis-text-x\" text-anchor=\"middle\" dy=\"0.7em\">\n            -40\n            </text>\n          </g>\n        </g>\n        <g transform=\"translate(234.3512367181787 0.0 ) \">\n          <line stroke-width=\"1.0\" stroke=\"rgb(71,71,71)\" stroke-opacity=\"1.0\" x2=\"0.0\" y2=\"4.0\">\n          </line>\n          <g transform=\"translate(0.0 7.0 ) \">\n            <text class=\"axis-text-x\" text-anchor=\"middle\" dy=\"0.7em\">\n            -20\n            </text>\n          </g>\n        </g>\n        <g transform=\"translate(284.6254316567468 0.0 ) \">\n          <line stroke-width=\"1.0\" stroke=\"rgb(71,71,71)\" stroke-opacity=\"1.0\" x2=\"0.0\" y2=\"4.0\">\n          </line>\n          <g transform=\"translate(0.0 7.0 ) \">\n            <text class=\"axis-text-x\" text-anchor=\"middle\" dy=\"0.7em\">\n            0\n            </text>\n          </g>\n        </g>\n        <g transform=\"translate(334.8996265953149 0.0 ) \">\n          <line stroke-width=\"1.0\" stroke=\"rgb(71,71,71)\" stroke-opacity=\"1.0\" x2=\"0.0\" y2=\"4.0\">\n          </line>\n          <g transform=\"translate(0.0 7.0 ) \">\n            <text class=\"axis-text-x\" text-anchor=\"middle\" dy=\"0.7em\">\n            20\n            </text>\n          </g>\n        </g>\n        <g transform=\"translate(385.173821533883 0.0 ) \">\n          <line stroke-width=\"1.0\" stroke=\"rgb(71,71,71)\" stroke-opacity=\"1.0\" x2=\"0.0\" y2=\"4.0\">\n          </line>\n          <g transform=\"translate(0.0 7.0 ) \">\n            <text class=\"axis-text-x\" text-anchor=\"middle\" dy=\"0.7em\">\n            40\n            </text>\n          </g>\n        </g>\n        <g transform=\"translate(435.44801647245106 0.0 ) \">\n          <line stroke-width=\"1.0\" stroke=\"rgb(71,71,71)\" stroke-opacity=\"1.0\" x2=\"0.0\" y2=\"4.0\">\n          </line>\n          <g transform=\"translate(0.0 7.0 ) \">\n            <text class=\"axis-text-x\" text-anchor=\"middle\" dy=\"0.7em\">\n            60\n            </text>\n          </g>\n        </g>\n        <g transform=\"translate(485.7222114110191 0.0 ) \">\n          <line stroke-width=\"1.0\" stroke=\"rgb(71,71,71)\" stroke-opacity=\"1.0\" x2=\"0.0\" y2=\"4.0\">\n          </line>\n          <g transform=\"translate(0.0 7.0 ) \">\n            <text class=\"axis-text-x\" text-anchor=\"middle\" dy=\"0.7em\">\n            80\n            </text>\n          </g>\n        </g>\n        <line x1=\"0.0\" y1=\"0.0\" x2=\"524.0040878687822\" y2=\"0.0\" stroke-width=\"1.0\" stroke=\"rgb(71,71,71)\" stroke-opacity=\"1.0\">\n        </line>\n      </g>\n      <g transform=\"translate(42.99591213121782 0.0 ) \">\n        <line x1=\"0.0\" y1=\"259.72804844481146\" x2=\"524.0040878687822\" y2=\"259.72804844481146\" stroke=\"rgb(233,233,233)\" stroke-opacity=\"1.0\" stroke-width=\"1.0\">\n        </line>\n        <line x1=\"0.0\" y1=\"175.4560968896229\" x2=\"524.0040878687822\" y2=\"175.4560968896229\" stroke=\"rgb(233,233,233)\" stroke-opacity=\"1.0\" stroke-width=\"1.0\">\n        </line>\n        <line x1=\"0.0\" y1=\"91.18414533443436\" x2=\"524.0040878687822\" y2=\"91.18414533443436\" stroke=\"rgb(233,233,233)\" stroke-opacity=\"1.0\" stroke-width=\"1.0\">\n        </line>\n        <line x1=\"0.0\" y1=\"6.912193779245797\" x2=\"524.0040878687822\" y2=\"6.912193779245797\" stroke=\"rgb(233,233,233)\" stroke-opacity=\"1.0\" stroke-width=\"1.0\">\n        </line>\n        <g transform=\"translate(0.0 344.0 ) \">\n          <g transform=\"translate(-3.0 0.0 ) \">\n            <text class=\"axis-text-y\" text-anchor=\"end\" dy=\"0.35em\">\n            0.000\n            </text>\n          </g>\n        </g>\n        <g transform=\"translate(0.0 259.72804844481146 ) \">\n          <g transform=\"translate(-3.0 0.0 ) \">\n            <text class=\"axis-text-y\" text-anchor=\"end\" dy=\"0.35em\">\n            0.005\n            </text>\n          </g>\n        </g>\n        <g transform=\"translate(0.0 175.4560968896229 ) \">\n          <g transform=\"translate(-3.0 0.0 ) \">\n            <text class=\"axis-text-y\" text-anchor=\"end\" dy=\"0.35em\">\n            0.010\n            </text>\n          </g>\n        </g>\n        <g transform=\"translate(0.0 91.18414533443436 ) \">\n          <g transform=\"translate(-3.0 0.0 ) \">\n            <text class=\"axis-text-y\" text-anchor=\"end\" dy=\"0.35em\">\n            0.015\n            </text>\n          </g>\n        </g>\n        <g transform=\"translate(0.0 6.912193779245797 ) \">\n          <g transform=\"translate(-3.0 0.0 ) \">\n            <text class=\"axis-text-y\" text-anchor=\"end\" dy=\"0.35em\">\n            0.020\n            </text>\n          </g>\n        </g>\n      </g>\n      <g transform=\"translate(42.99591213121782 0.0 ) \" clip-path=\"url(#cN9eVmi)\" clip-bounds-jfx=\"[rect (0.0, 0.0), (524.0040878687822, 344.0)]\">\n        <defs>\n          <clipPath id=\"cN9eVmi\">\n            <rect x=\"0.0\" y=\"0.0\" width=\"524.0040878687822\" height=\"344.0\">\n            </rect>\n          </clipPath>\n        </defs>\n        <rect x=\"478.6414681103838\" y=\"340.21249655931734\" height=\"3.7875034406826558\" width=\"21.544252127999243\" stroke=\"rgb(0,0,0)\" stroke-opacity=\"0.0\" fill=\"rgb(234,124,204)\" fill-opacity=\"1.0\" stroke-width=\"1.0\">\n        </rect>\n        <rect x=\"454.7034101903846\" y=\"342.1062482796587\" height=\"1.8937517203412995\" width=\"21.5442521279993\" stroke=\"rgb(0,0,0)\" stroke-opacity=\"0.0\" fill=\"rgb(234,124,204)\" fill-opacity=\"1.0\" stroke-width=\"1.0\">\n        </rect>\n        <rect x=\"430.7653522703854\" y=\"336.42499311863475\" height=\"7.575006881365255\" width=\"21.5442521279993\" stroke=\"rgb(0,0,0)\" stroke-opacity=\"0.0\" fill=\"rgb(234,124,204)\" fill-opacity=\"1.0\" stroke-width=\"1.0\">\n        </rect>\n        <rect x=\"406.82729435038624\" y=\"319.3812276355629\" height=\"24.61877236443712\" width=\"21.5442521279993\" stroke=\"rgb(0,0,0)\" stroke-opacity=\"0.0\" fill=\"rgb(234,124,204)\" fill-opacity=\"1.0\" stroke-width=\"1.0\">\n        </rect>\n        <rect x=\"382.8892364303871\" y=\"298.5499587118084\" height=\"45.450041288191585\" width=\"21.544252127999243\" stroke=\"rgb(0,0,0)\" stroke-opacity=\"0.0\" fill=\"rgb(234,124,204)\" fill-opacity=\"1.0\" stroke-width=\"1.0\">\n        </rect>\n        <rect x=\"358.9511785103879\" y=\"239.84365538122762\" height=\"104.15634461877238\" width=\"21.544252127999243\" stroke=\"rgb(0,0,0)\" stroke-opacity=\"0.0\" fill=\"rgb(234,124,204)\" fill-opacity=\"1.0\" stroke-width=\"1.0\">\n        </rect>\n        <rect x=\"335.01312059038867\" y=\"145.15606936416185\" height=\"198.84393063583815\" width=\"21.544252127999243\" stroke=\"rgb(0,0,0)\" stroke-opacity=\"0.0\" fill=\"rgb(234,124,204)\" fill-opacity=\"1.0\" stroke-width=\"1.0\">\n        </rect>\n        <rect x=\"311.07506267038946\" y=\"126.21855216074866\" height=\"217.78144783925134\" width=\"21.5442521279993\" stroke=\"rgb(0,0,0)\" stroke-opacity=\"0.0\" fill=\"rgb(234,124,204)\" fill-opacity=\"1.0\" stroke-width=\"1.0\">\n        </rect>\n        <rect x=\"287.1370047503903\" y=\"59.93724194880264\" height=\"284.06275805119736\" width=\"21.544252127999243\" stroke=\"rgb(0,0,0)\" stroke-opacity=\"0.0\" fill=\"rgb(234,124,204)\" fill-opacity=\"1.0\" stroke-width=\"1.0\">\n        </rect>\n        <rect x=\"263.1989468303911\" y=\"16.380952380952408\" height=\"327.6190476190476\" width=\"21.544252127999243\" stroke=\"rgb(0,0,0)\" stroke-opacity=\"0.0\" fill=\"rgb(234,124,204)\" fill-opacity=\"1.0\" stroke-width=\"1.0\">\n        </rect>\n        <rect x=\"239.2608889103919\" y=\"107.28103495733552\" height=\"236.71896504266448\" width=\"21.544252127999272\" stroke=\"rgb(0,0,0)\" stroke-opacity=\"0.0\" fill=\"rgb(234,124,204)\" fill-opacity=\"1.0\" stroke-width=\"1.0\">\n        </rect>\n        <rect x=\"215.32283099039273\" y=\"141.36856592347922\" height=\"202.63143407652078\" width=\"21.544252127999272\" stroke=\"rgb(0,0,0)\" stroke-opacity=\"0.0\" fill=\"rgb(234,124,204)\" fill-opacity=\"1.0\" stroke-width=\"1.0\">\n        </rect>\n        <rect x=\"191.38477307039352\" y=\"224.6936416184971\" height=\"119.30635838150289\" width=\"21.544252127999272\" stroke=\"rgb(0,0,0)\" stroke-opacity=\"0.0\" fill=\"rgb(234,124,204)\" fill-opacity=\"1.0\" stroke-width=\"1.0\">\n        </rect>\n        <rect x=\"167.44671515039434\" y=\"273.9311863473713\" height=\"70.0688136526287\" width=\"21.544252127999272\" stroke=\"rgb(0,0,0)\" stroke-opacity=\"0.0\" fill=\"rgb(234,124,204)\" fill-opacity=\"1.0\" stroke-width=\"1.0\">\n        </rect>\n        <rect x=\"143.50865723039513\" y=\"309.9124690338563\" height=\"34.087530966143675\" width=\"21.544252127999272\" stroke=\"rgb(0,0,0)\" stroke-opacity=\"0.0\" fill=\"rgb(234,124,204)\" fill-opacity=\"1.0\" stroke-width=\"1.0\">\n        </rect>\n        <rect x=\"119.57059931039598\" y=\"334.53124139829345\" height=\"9.468758601706554\" width=\"21.544252127999243\" stroke=\"rgb(0,0,0)\" stroke-opacity=\"0.0\" fill=\"rgb(234,124,204)\" fill-opacity=\"1.0\" stroke-width=\"1.0\">\n        </rect>\n        <rect x=\"95.6325413903968\" y=\"340.21249655931734\" height=\"3.7875034406826558\" width=\"21.544252127999272\" stroke=\"rgb(0,0,0)\" stroke-opacity=\"0.0\" fill=\"rgb(234,124,204)\" fill-opacity=\"1.0\" stroke-width=\"1.0\">\n        </rect>\n        <rect x=\"71.69448347039759\" y=\"344.0\" height=\"0.1\" width=\"21.544252127999272\" stroke=\"rgb(0,0,0)\" stroke-opacity=\"0.0\" fill=\"rgb(234,124,204)\" fill-opacity=\"1.0\" stroke-width=\"1.0\">\n        </rect>\n        <rect x=\"47.756425550398404\" y=\"344.0\" height=\"0.1\" width=\"21.544252127999272\" stroke=\"rgb(0,0,0)\" stroke-opacity=\"0.0\" fill=\"rgb(234,124,204)\" fill-opacity=\"1.0\" stroke-width=\"1.0\">\n        </rect>\n        <rect x=\"23.818367630399223\" y=\"342.1062482796587\" height=\"1.8937517203412995\" width=\"21.544252127999272\" stroke=\"rgb(0,0,0)\" stroke-opacity=\"0.0\" fill=\"rgb(234,124,204)\" fill-opacity=\"1.0\" stroke-width=\"1.0\">\n        </rect>\n      </g>\n    </g>\n    <g transform=\"translate(14.5 182.0 ) rotate(-90.0 ) \">\n      <text class=\"axis-title-y\" y=\"0.0\" text-anchor=\"middle\">\n      STAT_DENSITY\n      </text>\n    </g>\n    <g transform=\"translate(327.99795606560895 391.5 ) \">\n      <text class=\"axis-title-x\" y=\"0.0\" text-anchor=\"middle\">\n      STAT_BINS\n      </text>\n    </g>\n  </g>\n  <g id=\"dcnMERY\">\n  </g>\n</svg>\n        <script>document.getElementById(\"db5a7740-c18a-4eca-9f25-c904b5c11710\").style.display = \"none\";</script>",
      "application/plot+json": {
       "output_type": "lets_plot_spec",
       "output": {
        "mapping": {},
        "data": {},
        "kind": "plot",
        "scales": [
         {
          "aesthetic": "x",
          "limits": [
           null,
           null
          ]
         },
         {
          "aesthetic": "y",
          "limits": [
           null,
           null
          ]
         }
        ],
        "layers": [
         {
          "mapping": {
           "x": "STAT_BINS",
           "y": "STAT_DENSITY"
          },
          "stat": "identity",
          "data": {
           "STAT_DENSITY": [
            1.1235955E-4,
            0.0,
            0.0,
            2.247191E-4,
            5.6179776E-4,
            0.002022472,
            0.0041573034,
            0.007078652,
            0.012022472,
            0.014044944,
            0.019438202,
            0.016853932,
            0.012921348,
            0.011797753,
            0.006179775,
            0.0026966291,
            0.0014606741,
            4.494382E-4,
            1.1235955E-4,
            2.247191E-4
           ],
           "STAT_COUNT": [
            1.0,
            0.0,
            0.0,
            2.0,
            5.0,
            18.0,
            37.0,
            63.0,
            107.0,
            125.0,
            173.0,
            150.0,
            115.0,
            105.0,
            55.0,
            24.0,
            13.0,
            4.0,
            1.0,
            2.0
           ],
           "STAT_BINS": [
            -99.4685,
            -89.9455,
            -80.4225,
            -70.8995,
            -61.3765,
            -51.8535,
            -42.3305,
            -32.8075,
            -23.2845,
            -13.7615,
            -4.2385,
            5.2845,
            14.8075,
            24.3305,
            33.8535,
            43.3765,
            52.8995,
            62.4225,
            71.9455,
            81.4685
           ]
          },
          "sampling": "none",
          "position": "dodge",
          "geom": "bar",
          "fill": "#ea7ccc"
         }
        ]
       },
       "apply_color_scheme": true,
       "swing_enabled": true
      }
     },
     "execution_count": 6,
     "metadata": {},
     "output_type": "execute_result"
    }
   ],
   "source": [
    "plot {\n",
    "    histogram(numbers) {\n",
    "        y(Stat.DENSITY)\n",
    "        fillColor = Color.LIGHT_PURPLE\n",
    "    }\n",
    "}"
   ]
  },
  {
   "cell_type": "code",
   "execution_count": 7,
   "metadata": {
    "ExecuteTime": {
     "end_time": "2023-06-02T09:40:42.697981Z",
     "start_time": "2023-06-02T09:40:42.243161Z"
    }
   },
   "outputs": [],
   "source": [
    "val sampleDF = dataFrameOf(\"sample\" to numbers)"
   ]
  },
  {
   "cell_type": "code",
   "execution_count": 8,
   "metadata": {
    "ExecuteTime": {
     "end_time": "2023-06-02T09:40:42.947119Z",
     "start_time": "2023-06-02T09:40:42.698291Z"
    }
   },
   "outputs": [
    {
     "data": {
      "text/html": "            <script type=\"text/javascript\" data-lets-plot-script=\"library\" src=\"https://cdn.jsdelivr.net/gh/JetBrains/lets-plot@v3.1.0/js-package/distr/lets-plot.min.js\"></script>    \n               <div id=\"Z6VrLC\"></div>\n   <script type=\"text/javascript\" data-lets-plot-script=\"plot\">\n       var plotSpec={\n\"mapping\":{\n},\n\"data\":{\n},\n\"kind\":\"plot\",\n\"scales\":[{\n\"aesthetic\":\"x\",\n\"limits\":[null,null]\n},{\n\"aesthetic\":\"y\",\n\"limits\":[null,null]\n}],\n\"layers\":[{\n\"mapping\":{\n\"x\":\"STAT_BINS\",\n\"y\":\"STAT_COUNT\"\n},\n\"stat\":\"identity\",\n\"data\":{\n\"STAT_COUNT\":[1.0,0.0,0.0,4.0,7.0,29.0,44.0,84.0,122.0,146.0,153.0,144.0,109.0,86.0,38.0,22.0,7.0,1.0,3.0,0.0],\n\"STAT_BINS\":[-95.22999999999999,-85.707,-76.184,-66.66099999999999,-57.13799999999999,-47.614999999999995,-38.09199999999999,-28.56899999999999,-19.045999999999992,-9.522999999999996,0.0,9.52300000000001,19.046000000000006,28.569000000000003,38.09200000000001,47.61500000000001,57.138000000000005,66.661,76.184,85.707]\n},\n\"sampling\":\"none\",\n\"width\":0.5,\n\"position\":\"dodge\",\n\"geom\":\"bar\"\n}]\n};\n       var plotContainer = document.getElementById(\"Z6VrLC\");\n       LetsPlot.buildPlotFromProcessedSpecs(plotSpec, -1, -1, plotContainer);\n   </script>            \n        <svg id=866dddc3-fcb0-4057-a53f-b6d5cd805aba xmlns=\"http://www.w3.org/2000/svg\" xmlns:xlink=\"http://www.w3.org/1999/xlink\" class=\"plt-container\" width=\"600.0\" height=\"400.0\">\n  <style type=\"text/css\">\n  .plt-container {\n   font-family: Lucida Grande, sans-serif;\n   user-select: none;\n   -webkit-user-select: none;\n   -moz-user-select: none;\n   -ms-user-select: none;\n}\ntext {\n   text-rendering: optimizeLegibility;\n}\n#pOrgzt7 .plot-title {\n   fill: #474747;\n   font-family: Lucida Grande, sans-serif;\n   font-size: 16.0px;\n   font-weight: normal;\n   font-style: normal;   \n}\n#pOrgzt7 .plot-subtitle {\n   fill: #474747;\n   font-family: Lucida Grande, sans-serif;\n   font-size: 15.0px;\n   font-weight: normal;\n   font-style: normal;   \n}\n#pOrgzt7 .plot-caption {\n   fill: #474747;\n   font-family: Lucida Grande, sans-serif;\n   font-size: 13.0px;\n   font-weight: normal;\n   font-style: normal;   \n}\n#pOrgzt7 .legend-title {\n   fill: #474747;\n   font-family: Lucida Grande, sans-serif;\n   font-size: 15.0px;\n   font-weight: normal;\n   font-style: normal;   \n}\n#pOrgzt7 .legend-item {\n   fill: #474747;\n   font-family: Lucida Grande, sans-serif;\n   font-size: 13.0px;\n   font-weight: normal;\n   font-style: normal;   \n}\n#pOrgzt7 .axis-title-x {\n   fill: #474747;\n   font-family: Lucida Grande, sans-serif;\n   font-size: 15.0px;\n   font-weight: normal;\n   font-style: normal;   \n}\n#pOrgzt7 .axis-text-x {\n   fill: #474747;\n   font-family: Lucida Grande, sans-serif;\n   font-size: 13.0px;\n   font-weight: normal;\n   font-style: normal;   \n}\n#dWqrB2L .axis-tooltip-text-x {\n   fill: #ffffff;\n   font-family: Lucida Grande, sans-serif;\n   font-size: 13.0px;\n   font-weight: normal;\n   font-style: normal;   \n}\n#pOrgzt7 .axis-title-y {\n   fill: #474747;\n   font-family: Lucida Grande, sans-serif;\n   font-size: 15.0px;\n   font-weight: normal;\n   font-style: normal;   \n}\n#pOrgzt7 .axis-text-y {\n   fill: #474747;\n   font-family: Lucida Grande, sans-serif;\n   font-size: 13.0px;\n   font-weight: normal;\n   font-style: normal;   \n}\n#dWqrB2L .axis-tooltip-text-y {\n   fill: #ffffff;\n   font-family: Lucida Grande, sans-serif;\n   font-size: 13.0px;\n   font-weight: normal;\n   font-style: normal;   \n}\n#pOrgzt7 .facet-strip-text-x {\n   fill: #474747;\n   font-family: Lucida Grande, sans-serif;\n   font-size: 13.0px;\n   font-weight: normal;\n   font-style: normal;   \n}\n#pOrgzt7 .facet-strip-text-y {\n   fill: #474747;\n   font-family: Lucida Grande, sans-serif;\n   font-size: 13.0px;\n   font-weight: normal;\n   font-style: normal;   \n}\n#dWqrB2L .tooltip-text {\n   fill: #474747;\n   font-family: Lucida Grande, sans-serif;\n   font-size: 13.0px;\n   font-weight: normal;\n   font-style: normal;   \n}\n#dWqrB2L .tooltip-title {\n   fill: #474747;\n   font-family: Lucida Grande, sans-serif;\n   font-size: 13.0px;\n   font-weight: bold;\n   font-style: normal;   \n}\n#dWqrB2L .tooltip-label {\n   fill: #474747;\n   font-family: Lucida Grande, sans-serif;\n   font-size: 13.0px;\n   font-weight: bold;\n   font-style: normal;   \n}\n\n  </style>\n  <g id=\"pOrgzt7\">\n    <rect x=\"0.0\" y=\"0.0\" height=\"400.0\" width=\"600.0\" stroke=\"rgb(71,71,71)\" stroke-opacity=\"1.0\" stroke-width=\"0.0\" fill=\"rgb(255,255,255)\" fill-opacity=\"1.0\">\n    </rect>\n    <g transform=\"translate(23.0 10.0 ) \">\n      <g transform=\"translate(29.941816366404606 344.0 ) \">\n        <line x1=\"18.129968203236558\" y1=\"-0.0\" x2=\"18.129968203236558\" y2=\"-344.0\" stroke=\"rgb(233,233,233)\" stroke-opacity=\"1.0\" stroke-width=\"1.0\">\n        </line>\n        <line x1=\"70.71356068181635\" y1=\"-0.0\" x2=\"70.71356068181635\" y2=\"-344.0\" stroke=\"rgb(233,233,233)\" stroke-opacity=\"1.0\" stroke-width=\"1.0\">\n        </line>\n        <line x1=\"123.29715316039616\" y1=\"-0.0\" x2=\"123.29715316039616\" y2=\"-344.0\" stroke=\"rgb(233,233,233)\" stroke-opacity=\"1.0\" stroke-width=\"1.0\">\n        </line>\n        <line x1=\"175.88074563897595\" y1=\"-0.0\" x2=\"175.88074563897595\" y2=\"-344.0\" stroke=\"rgb(233,233,233)\" stroke-opacity=\"1.0\" stroke-width=\"1.0\">\n        </line>\n        <line x1=\"228.46433811755577\" y1=\"-0.0\" x2=\"228.46433811755577\" y2=\"-344.0\" stroke=\"rgb(233,233,233)\" stroke-opacity=\"1.0\" stroke-width=\"1.0\">\n        </line>\n        <line x1=\"281.0479305961356\" y1=\"-0.0\" x2=\"281.0479305961356\" y2=\"-344.0\" stroke=\"rgb(233,233,233)\" stroke-opacity=\"1.0\" stroke-width=\"1.0\">\n        </line>\n        <line x1=\"333.6315230747154\" y1=\"-0.0\" x2=\"333.6315230747154\" y2=\"-344.0\" stroke=\"rgb(233,233,233)\" stroke-opacity=\"1.0\" stroke-width=\"1.0\">\n        </line>\n        <line x1=\"386.2151155532952\" y1=\"-0.0\" x2=\"386.2151155532952\" y2=\"-344.0\" stroke=\"rgb(233,233,233)\" stroke-opacity=\"1.0\" stroke-width=\"1.0\">\n        </line>\n        <line x1=\"438.798708031875\" y1=\"-0.0\" x2=\"438.798708031875\" y2=\"-344.0\" stroke=\"rgb(233,233,233)\" stroke-opacity=\"1.0\" stroke-width=\"1.0\">\n        </line>\n        <line x1=\"491.3823005104548\" y1=\"-0.0\" x2=\"491.3823005104548\" y2=\"-344.0\" stroke=\"rgb(233,233,233)\" stroke-opacity=\"1.0\" stroke-width=\"1.0\">\n        </line>\n        <g transform=\"translate(18.129968203236558 0.0 ) \">\n          <line stroke-width=\"1.0\" stroke=\"rgb(71,71,71)\" stroke-opacity=\"1.0\" x2=\"0.0\" y2=\"4.0\">\n          </line>\n          <g transform=\"translate(0.0 7.0 ) \">\n            <text class=\"axis-text-x\" text-anchor=\"middle\" dy=\"0.7em\">\n            -100\n            </text>\n          </g>\n        </g>\n        <g transform=\"translate(70.71356068181635 0.0 ) \">\n          <line stroke-width=\"1.0\" stroke=\"rgb(71,71,71)\" stroke-opacity=\"1.0\" x2=\"0.0\" y2=\"4.0\">\n          </line>\n          <g transform=\"translate(0.0 7.0 ) \">\n            <text class=\"axis-text-x\" text-anchor=\"middle\" dy=\"0.7em\">\n            -80\n            </text>\n          </g>\n        </g>\n        <g transform=\"translate(123.29715316039616 0.0 ) \">\n          <line stroke-width=\"1.0\" stroke=\"rgb(71,71,71)\" stroke-opacity=\"1.0\" x2=\"0.0\" y2=\"4.0\">\n          </line>\n          <g transform=\"translate(0.0 7.0 ) \">\n            <text class=\"axis-text-x\" text-anchor=\"middle\" dy=\"0.7em\">\n            -60\n            </text>\n          </g>\n        </g>\n        <g transform=\"translate(175.88074563897595 0.0 ) \">\n          <line stroke-width=\"1.0\" stroke=\"rgb(71,71,71)\" stroke-opacity=\"1.0\" x2=\"0.0\" y2=\"4.0\">\n          </line>\n          <g transform=\"translate(0.0 7.0 ) \">\n            <text class=\"axis-text-x\" text-anchor=\"middle\" dy=\"0.7em\">\n            -40\n            </text>\n          </g>\n        </g>\n        <g transform=\"translate(228.46433811755577 0.0 ) \">\n          <line stroke-width=\"1.0\" stroke=\"rgb(71,71,71)\" stroke-opacity=\"1.0\" x2=\"0.0\" y2=\"4.0\">\n          </line>\n          <g transform=\"translate(0.0 7.0 ) \">\n            <text class=\"axis-text-x\" text-anchor=\"middle\" dy=\"0.7em\">\n            -20\n            </text>\n          </g>\n        </g>\n        <g transform=\"translate(281.0479305961356 0.0 ) \">\n          <line stroke-width=\"1.0\" stroke=\"rgb(71,71,71)\" stroke-opacity=\"1.0\" x2=\"0.0\" y2=\"4.0\">\n          </line>\n          <g transform=\"translate(0.0 7.0 ) \">\n            <text class=\"axis-text-x\" text-anchor=\"middle\" dy=\"0.7em\">\n            0\n            </text>\n          </g>\n        </g>\n        <g transform=\"translate(333.6315230747154 0.0 ) \">\n          <line stroke-width=\"1.0\" stroke=\"rgb(71,71,71)\" stroke-opacity=\"1.0\" x2=\"0.0\" y2=\"4.0\">\n          </line>\n          <g transform=\"translate(0.0 7.0 ) \">\n            <text class=\"axis-text-x\" text-anchor=\"middle\" dy=\"0.7em\">\n            20\n            </text>\n          </g>\n        </g>\n        <g transform=\"translate(386.2151155532952 0.0 ) \">\n          <line stroke-width=\"1.0\" stroke=\"rgb(71,71,71)\" stroke-opacity=\"1.0\" x2=\"0.0\" y2=\"4.0\">\n          </line>\n          <g transform=\"translate(0.0 7.0 ) \">\n            <text class=\"axis-text-x\" text-anchor=\"middle\" dy=\"0.7em\">\n            40\n            </text>\n          </g>\n        </g>\n        <g transform=\"translate(438.798708031875 0.0 ) \">\n          <line stroke-width=\"1.0\" stroke=\"rgb(71,71,71)\" stroke-opacity=\"1.0\" x2=\"0.0\" y2=\"4.0\">\n          </line>\n          <g transform=\"translate(0.0 7.0 ) \">\n            <text class=\"axis-text-x\" text-anchor=\"middle\" dy=\"0.7em\">\n            60\n            </text>\n          </g>\n        </g>\n        <g transform=\"translate(491.3823005104548 0.0 ) \">\n          <line stroke-width=\"1.0\" stroke=\"rgb(71,71,71)\" stroke-opacity=\"1.0\" x2=\"0.0\" y2=\"4.0\">\n          </line>\n          <g transform=\"translate(0.0 7.0 ) \">\n            <text class=\"axis-text-x\" text-anchor=\"middle\" dy=\"0.7em\">\n            80\n            </text>\n          </g>\n        </g>\n        <line x1=\"0.0\" y1=\"0.0\" x2=\"537.0581836335954\" y2=\"0.0\" stroke-width=\"1.0\" stroke=\"rgb(71,71,71)\" stroke-opacity=\"1.0\">\n        </line>\n      </g>\n      <g transform=\"translate(29.941816366404606 0.0 ) \">\n        <line x1=\"0.0\" y1=\"301.1739807033925\" x2=\"537.0581836335954\" y2=\"301.1739807033925\" stroke=\"rgb(233,233,233)\" stroke-opacity=\"1.0\" stroke-width=\"1.0\">\n        </line>\n        <line x1=\"0.0\" y1=\"258.3479614067849\" x2=\"537.0581836335954\" y2=\"258.3479614067849\" stroke=\"rgb(233,233,233)\" stroke-opacity=\"1.0\" stroke-width=\"1.0\">\n        </line>\n        <line x1=\"0.0\" y1=\"215.5219421101774\" x2=\"537.0581836335954\" y2=\"215.5219421101774\" stroke=\"rgb(233,233,233)\" stroke-opacity=\"1.0\" stroke-width=\"1.0\">\n        </line>\n        <line x1=\"0.0\" y1=\"172.69592281356987\" x2=\"537.0581836335954\" y2=\"172.69592281356987\" stroke=\"rgb(233,233,233)\" stroke-opacity=\"1.0\" stroke-width=\"1.0\">\n        </line>\n        <line x1=\"0.0\" y1=\"129.86990351696232\" x2=\"537.0581836335954\" y2=\"129.86990351696232\" stroke=\"rgb(233,233,233)\" stroke-opacity=\"1.0\" stroke-width=\"1.0\">\n        </line>\n        <line x1=\"0.0\" y1=\"87.04388422035481\" x2=\"537.0581836335954\" y2=\"87.04388422035481\" stroke=\"rgb(233,233,233)\" stroke-opacity=\"1.0\" stroke-width=\"1.0\">\n        </line>\n        <line x1=\"0.0\" y1=\"44.21786492374724\" x2=\"537.0581836335954\" y2=\"44.21786492374724\" stroke=\"rgb(233,233,233)\" stroke-opacity=\"1.0\" stroke-width=\"1.0\">\n        </line>\n        <g transform=\"translate(0.0 344.0 ) \">\n          <g transform=\"translate(-3.0 0.0 ) \">\n            <text class=\"axis-text-y\" text-anchor=\"end\" dy=\"0.35em\">\n            0\n            </text>\n          </g>\n        </g>\n        <g transform=\"translate(0.0 301.1739807033925 ) \">\n          <g transform=\"translate(-3.0 0.0 ) \">\n            <text class=\"axis-text-y\" text-anchor=\"end\" dy=\"0.35em\">\n            20\n            </text>\n          </g>\n        </g>\n        <g transform=\"translate(0.0 258.3479614067849 ) \">\n          <g transform=\"translate(-3.0 0.0 ) \">\n            <text class=\"axis-text-y\" text-anchor=\"end\" dy=\"0.35em\">\n            40\n            </text>\n          </g>\n        </g>\n        <g transform=\"translate(0.0 215.5219421101774 ) \">\n          <g transform=\"translate(-3.0 0.0 ) \">\n            <text class=\"axis-text-y\" text-anchor=\"end\" dy=\"0.35em\">\n            60\n            </text>\n          </g>\n        </g>\n        <g transform=\"translate(0.0 172.69592281356987 ) \">\n          <g transform=\"translate(-3.0 0.0 ) \">\n            <text class=\"axis-text-y\" text-anchor=\"end\" dy=\"0.35em\">\n            80\n            </text>\n          </g>\n        </g>\n        <g transform=\"translate(0.0 129.86990351696232 ) \">\n          <g transform=\"translate(-3.0 0.0 ) \">\n            <text class=\"axis-text-y\" text-anchor=\"end\" dy=\"0.35em\">\n            100\n            </text>\n          </g>\n        </g>\n        <g transform=\"translate(0.0 87.04388422035481 ) \">\n          <g transform=\"translate(-3.0 0.0 ) \">\n            <text class=\"axis-text-y\" text-anchor=\"end\" dy=\"0.35em\">\n            120\n            </text>\n          </g>\n        </g>\n        <g transform=\"translate(0.0 44.21786492374724 ) \">\n          <g transform=\"translate(-3.0 0.0 ) \">\n            <text class=\"axis-text-y\" text-anchor=\"end\" dy=\"0.35em\">\n            140\n            </text>\n          </g>\n        </g>\n        <g transform=\"translate(0.0 1.3918456271397304 ) \">\n          <g transform=\"translate(-3.0 0.0 ) \">\n            <text class=\"axis-text-y\" text-anchor=\"end\" dy=\"0.35em\">\n            160\n            </text>\n          </g>\n        </g>\n      </g>\n      <g transform=\"translate(29.941816366404606 0.0 ) \" clip-path=\"url(#csSSqZu)\" clip-bounds-jfx=\"[rect (0.0, 0.0), (537.0581836335954, 344.0)]\">\n        <defs>\n          <clipPath id=\"csSSqZu\">\n            <rect x=\"0.0\" y=\"0.0\" width=\"537.0581836335954\" height=\"344.0\">\n            </rect>\n          </clipPath>\n        </defs>\n        <rect x=\"500.1276092345486\" y=\"344.0\" height=\"0.1\" width=\"12.518838779337898\" stroke=\"rgb(0,0,0)\" stroke-opacity=\"0.0\" fill=\"rgb(17,142,216)\" fill-opacity=\"1.0\" stroke-width=\"1.0\">\n        </rect>\n        <rect x=\"475.08993167587283\" y=\"337.5760971055089\" height=\"6.423902894491107\" width=\"12.518838779337841\" stroke=\"rgb(0,0,0)\" stroke-opacity=\"0.0\" fill=\"rgb(17,142,216)\" fill-opacity=\"1.0\" stroke-width=\"1.0\">\n        </rect>\n        <rect x=\"450.0522541171971\" y=\"341.85869903516965\" height=\"2.14130096483035\" width=\"12.518838779337841\" stroke=\"rgb(0,0,0)\" stroke-opacity=\"0.0\" fill=\"rgb(17,142,216)\" fill-opacity=\"1.0\" stroke-width=\"1.0\">\n        </rect>\n        <rect x=\"425.0145765585213\" y=\"329.0108932461874\" height=\"14.98910675381262\" width=\"12.518838779337898\" stroke=\"rgb(0,0,0)\" stroke-opacity=\"0.0\" fill=\"rgb(17,142,216)\" fill-opacity=\"1.0\" stroke-width=\"1.0\">\n        </rect>\n        <rect x=\"399.97689899984556\" y=\"296.89137877373173\" height=\"47.10862122626827\" width=\"12.518838779337841\" stroke=\"rgb(0,0,0)\" stroke-opacity=\"0.0\" fill=\"rgb(17,142,216)\" fill-opacity=\"1.0\" stroke-width=\"1.0\">\n        </rect>\n        <rect x=\"374.93922144116976\" y=\"262.6305633364457\" height=\"81.36943666355432\" width=\"12.518838779337898\" stroke=\"rgb(0,0,0)\" stroke-opacity=\"0.0\" fill=\"rgb(17,142,216)\" fill-opacity=\"1.0\" stroke-width=\"1.0\">\n        </rect>\n        <rect x=\"349.90154388249397\" y=\"159.8481170245876\" height=\"184.1518829754124\" width=\"12.518838779337898\" stroke=\"rgb(0,0,0)\" stroke-opacity=\"0.0\" fill=\"rgb(17,142,216)\" fill-opacity=\"1.0\" stroke-width=\"1.0\">\n        </rect>\n        <rect x=\"324.86386632381823\" y=\"110.59819483348895\" height=\"233.40180516651105\" width=\"12.518838779337898\" stroke=\"rgb(0,0,0)\" stroke-opacity=\"0.0\" fill=\"rgb(17,142,216)\" fill-opacity=\"1.0\" stroke-width=\"1.0\">\n        </rect>\n        <rect x=\"299.82618876514243\" y=\"35.65266106442573\" height=\"308.34733893557427\" width=\"12.518838779337898\" stroke=\"rgb(0,0,0)\" stroke-opacity=\"0.0\" fill=\"rgb(17,142,216)\" fill-opacity=\"1.0\" stroke-width=\"1.0\">\n        </rect>\n        <rect x=\"274.78851120646664\" y=\"16.38095238095235\" height=\"327.61904761904765\" width=\"12.518838779337898\" stroke=\"rgb(0,0,0)\" stroke-opacity=\"0.0\" fill=\"rgb(17,142,216)\" fill-opacity=\"1.0\" stroke-width=\"1.0\">\n        </rect>\n        <rect x=\"249.75083364779087\" y=\"31.37005913476503\" height=\"312.62994086523497\" width=\"12.51883877933787\" stroke=\"rgb(0,0,0)\" stroke-opacity=\"0.0\" fill=\"rgb(17,142,216)\" fill-opacity=\"1.0\" stroke-width=\"1.0\">\n        </rect>\n        <rect x=\"224.7131560891151\" y=\"82.76128229069406\" height=\"261.23871770930594\" width=\"12.518838779337898\" stroke=\"rgb(0,0,0)\" stroke-opacity=\"0.0\" fill=\"rgb(17,142,216)\" fill-opacity=\"1.0\" stroke-width=\"1.0\">\n        </rect>\n        <rect x=\"199.67547853043936\" y=\"164.13071895424835\" height=\"179.86928104575165\" width=\"12.51883877933787\" stroke=\"rgb(0,0,0)\" stroke-opacity=\"0.0\" fill=\"rgb(17,142,216)\" fill-opacity=\"1.0\" stroke-width=\"1.0\">\n        </rect>\n        <rect x=\"174.63780097176357\" y=\"249.78275754746343\" height=\"94.21724245253657\" width=\"12.518838779337898\" stroke=\"rgb(0,0,0)\" stroke-opacity=\"0.0\" fill=\"rgb(17,142,216)\" fill-opacity=\"1.0\" stroke-width=\"1.0\">\n        </rect>\n        <rect x=\"149.60012341308777\" y=\"281.90227201991905\" height=\"62.09772798008095\" width=\"12.518838779337898\" stroke=\"rgb(0,0,0)\" stroke-opacity=\"0.0\" fill=\"rgb(17,142,216)\" fill-opacity=\"1.0\" stroke-width=\"1.0\">\n        </rect>\n        <rect x=\"124.562445854412\" y=\"329.0108932461874\" height=\"14.98910675381262\" width=\"12.518838779337898\" stroke=\"rgb(0,0,0)\" stroke-opacity=\"0.0\" fill=\"rgb(17,142,216)\" fill-opacity=\"1.0\" stroke-width=\"1.0\">\n        </rect>\n        <rect x=\"99.52476829573627\" y=\"335.4347961406785\" height=\"8.565203859321514\" width=\"12.518838779337898\" stroke=\"rgb(0,0,0)\" stroke-opacity=\"0.0\" fill=\"rgb(17,142,216)\" fill-opacity=\"1.0\" stroke-width=\"1.0\">\n        </rect>\n        <rect x=\"74.48709073706044\" y=\"344.0\" height=\"0.1\" width=\"12.51883877933787\" stroke=\"rgb(0,0,0)\" stroke-opacity=\"0.0\" fill=\"rgb(17,142,216)\" fill-opacity=\"1.0\" stroke-width=\"1.0\">\n        </rect>\n        <rect x=\"49.449413178384674\" y=\"344.0\" height=\"0.1\" width=\"12.51883877933787\" stroke=\"rgb(0,0,0)\" stroke-opacity=\"0.0\" fill=\"rgb(17,142,216)\" fill-opacity=\"1.0\" stroke-width=\"1.0\">\n        </rect>\n        <rect x=\"24.411735619708907\" y=\"341.85869903516965\" height=\"2.14130096483035\" width=\"12.51883877933787\" stroke=\"rgb(0,0,0)\" stroke-opacity=\"0.0\" fill=\"rgb(17,142,216)\" fill-opacity=\"1.0\" stroke-width=\"1.0\">\n        </rect>\n      </g>\n    </g>\n    <g transform=\"translate(14.5 182.0 ) rotate(-90.0 ) \">\n      <text class=\"axis-title-y\" y=\"0.0\" text-anchor=\"middle\">\n      STAT_COUNT\n      </text>\n    </g>\n    <g transform=\"translate(321.4709081832023 391.5 ) \">\n      <text class=\"axis-title-x\" y=\"0.0\" text-anchor=\"middle\">\n      STAT_BINS\n      </text>\n    </g>\n  </g>\n  <g id=\"dWqrB2L\">\n  </g>\n</svg>\n        <script>document.getElementById(\"866dddc3-fcb0-4057-a53f-b6d5cd805aba\").style.display = \"none\";</script>",
      "application/plot+json": {
       "output_type": "lets_plot_spec",
       "output": {
        "mapping": {},
        "data": {},
        "kind": "plot",
        "scales": [
         {
          "aesthetic": "x",
          "limits": [
           null,
           null
          ]
         },
         {
          "aesthetic": "y",
          "limits": [
           null,
           null
          ]
         }
        ],
        "layers": [
         {
          "mapping": {
           "x": "STAT_BINS",
           "y": "STAT_COUNT"
          },
          "stat": "identity",
          "data": {
           "STAT_COUNT": [
            1.0,
            0.0,
            0.0,
            4.0,
            7.0,
            29.0,
            44.0,
            84.0,
            122.0,
            146.0,
            153.0,
            144.0,
            109.0,
            86.0,
            38.0,
            22.0,
            7.0,
            1.0,
            3.0,
            0.0
           ],
           "STAT_BINS": [
            -95.23,
            -85.707,
            -76.184,
            -66.661,
            -57.138,
            -47.615,
            -38.092,
            -28.569,
            -19.046,
            -9.523,
            0.0,
            9.523,
            19.046,
            28.569,
            38.092,
            47.615,
            57.138,
            66.661,
            76.184,
            85.707
           ]
          },
          "sampling": "none",
          "width": 0.5,
          "position": "dodge",
          "geom": "bar"
         }
        ]
       },
       "apply_color_scheme": true,
       "swing_enabled": true
      }
     },
     "execution_count": 8,
     "metadata": {},
     "output_type": "execute_result"
    }
   ],
   "source": [
    "sampleDF.plot { \n",
    "    histogram(sample, binXPos = BinXPos.center(0.0)) {\n",
    "        width = 0.5\n",
    "    }\n",
    "}"
   ]
  },
  {
   "cell_type": "code",
   "execution_count": 9,
   "metadata": {
    "ExecuteTime": {
     "end_time": "2023-06-02T09:40:43.158251Z",
     "start_time": "2023-06-02T09:40:42.948031Z"
    }
   },
   "outputs": [
    {
     "data": {
      "text/html": "            <script type=\"text/javascript\" data-lets-plot-script=\"library\" src=\"https://cdn.jsdelivr.net/gh/JetBrains/lets-plot@v3.1.0/js-package/distr/lets-plot.min.js\"></script>    \n               <div id=\"T9TNCS\"></div>\n   <script type=\"text/javascript\" data-lets-plot-script=\"plot\">\n       var plotSpec={\n\"mapping\":{\n},\n\"data\":{\n},\n\"kind\":\"plot\",\n\"scales\":[{\n\"aesthetic\":\"x\",\n\"limits\":[null,null]\n},{\n\"aesthetic\":\"y\",\n\"limits\":[null,null]\n}],\n\"layers\":[{\n\"mapping\":{\n\"x\":\"STAT_BINS\",\n\"y\":\"STAT_COUNT\"\n},\n\"stat\":\"identity\",\n\"data\":{\n\"STAT_COUNT\":[1.0,0.0,0.0,4.0,26.0,60.0,124.0,191.0,211.0,179.0,127.0,51.0,20.0,3.0,3.0],\n\"STAT_BINS\":[-103.79377777777778,-90.81955555555555,-77.84533333333333,-64.8711111111111,-51.89688888888889,-38.92266666666667,-25.948444444444448,-12.974222222222224,0.0,12.974222222222224,25.948444444444434,38.92266666666667,51.89688888888888,64.87111111111112,77.84533333333333]\n},\n\"sampling\":\"none\",\n\"position\":\"dodge\",\n\"geom\":\"bar\"\n}]\n};\n       var plotContainer = document.getElementById(\"T9TNCS\");\n       LetsPlot.buildPlotFromProcessedSpecs(plotSpec, -1, -1, plotContainer);\n   </script>            \n        <svg id=107f0743-cb9b-44d2-b63e-dbe36aa06e1e xmlns=\"http://www.w3.org/2000/svg\" xmlns:xlink=\"http://www.w3.org/1999/xlink\" class=\"plt-container\" width=\"600.0\" height=\"400.0\">\n  <style type=\"text/css\">\n  .plt-container {\n   font-family: Lucida Grande, sans-serif;\n   user-select: none;\n   -webkit-user-select: none;\n   -moz-user-select: none;\n   -ms-user-select: none;\n}\ntext {\n   text-rendering: optimizeLegibility;\n}\n#pAQHZDT .plot-title {\n   fill: #474747;\n   font-family: Lucida Grande, sans-serif;\n   font-size: 16.0px;\n   font-weight: normal;\n   font-style: normal;   \n}\n#pAQHZDT .plot-subtitle {\n   fill: #474747;\n   font-family: Lucida Grande, sans-serif;\n   font-size: 15.0px;\n   font-weight: normal;\n   font-style: normal;   \n}\n#pAQHZDT .plot-caption {\n   fill: #474747;\n   font-family: Lucida Grande, sans-serif;\n   font-size: 13.0px;\n   font-weight: normal;\n   font-style: normal;   \n}\n#pAQHZDT .legend-title {\n   fill: #474747;\n   font-family: Lucida Grande, sans-serif;\n   font-size: 15.0px;\n   font-weight: normal;\n   font-style: normal;   \n}\n#pAQHZDT .legend-item {\n   fill: #474747;\n   font-family: Lucida Grande, sans-serif;\n   font-size: 13.0px;\n   font-weight: normal;\n   font-style: normal;   \n}\n#pAQHZDT .axis-title-x {\n   fill: #474747;\n   font-family: Lucida Grande, sans-serif;\n   font-size: 15.0px;\n   font-weight: normal;\n   font-style: normal;   \n}\n#pAQHZDT .axis-text-x {\n   fill: #474747;\n   font-family: Lucida Grande, sans-serif;\n   font-size: 13.0px;\n   font-weight: normal;\n   font-style: normal;   \n}\n#d3UOjyG .axis-tooltip-text-x {\n   fill: #ffffff;\n   font-family: Lucida Grande, sans-serif;\n   font-size: 13.0px;\n   font-weight: normal;\n   font-style: normal;   \n}\n#pAQHZDT .axis-title-y {\n   fill: #474747;\n   font-family: Lucida Grande, sans-serif;\n   font-size: 15.0px;\n   font-weight: normal;\n   font-style: normal;   \n}\n#pAQHZDT .axis-text-y {\n   fill: #474747;\n   font-family: Lucida Grande, sans-serif;\n   font-size: 13.0px;\n   font-weight: normal;\n   font-style: normal;   \n}\n#d3UOjyG .axis-tooltip-text-y {\n   fill: #ffffff;\n   font-family: Lucida Grande, sans-serif;\n   font-size: 13.0px;\n   font-weight: normal;\n   font-style: normal;   \n}\n#pAQHZDT .facet-strip-text-x {\n   fill: #474747;\n   font-family: Lucida Grande, sans-serif;\n   font-size: 13.0px;\n   font-weight: normal;\n   font-style: normal;   \n}\n#pAQHZDT .facet-strip-text-y {\n   fill: #474747;\n   font-family: Lucida Grande, sans-serif;\n   font-size: 13.0px;\n   font-weight: normal;\n   font-style: normal;   \n}\n#d3UOjyG .tooltip-text {\n   fill: #474747;\n   font-family: Lucida Grande, sans-serif;\n   font-size: 13.0px;\n   font-weight: normal;\n   font-style: normal;   \n}\n#d3UOjyG .tooltip-title {\n   fill: #474747;\n   font-family: Lucida Grande, sans-serif;\n   font-size: 13.0px;\n   font-weight: bold;\n   font-style: normal;   \n}\n#d3UOjyG .tooltip-label {\n   fill: #474747;\n   font-family: Lucida Grande, sans-serif;\n   font-size: 13.0px;\n   font-weight: bold;\n   font-style: normal;   \n}\n\n  </style>\n  <g id=\"pAQHZDT\">\n    <rect x=\"0.0\" y=\"0.0\" height=\"400.0\" width=\"600.0\" stroke=\"rgb(71,71,71)\" stroke-opacity=\"1.0\" stroke-width=\"0.0\" fill=\"rgb(255,255,255)\" fill-opacity=\"1.0\">\n    </rect>\n    <g transform=\"translate(23.0 10.0 ) \">\n      <g transform=\"translate(29.941816366404606 344.0 ) \">\n        <line x1=\"48.73856686724099\" y1=\"-0.0\" x2=\"48.73856686724099\" y2=\"-344.0\" stroke=\"rgb(233,233,233)\" stroke-opacity=\"1.0\" stroke-width=\"1.0\">\n        </line>\n        <line x1=\"99.25015792955742\" y1=\"-0.0\" x2=\"99.25015792955742\" y2=\"-344.0\" stroke=\"rgb(233,233,233)\" stroke-opacity=\"1.0\" stroke-width=\"1.0\">\n        </line>\n        <line x1=\"149.76174899187382\" y1=\"-0.0\" x2=\"149.76174899187382\" y2=\"-344.0\" stroke=\"rgb(233,233,233)\" stroke-opacity=\"1.0\" stroke-width=\"1.0\">\n        </line>\n        <line x1=\"200.27334005419024\" y1=\"-0.0\" x2=\"200.27334005419024\" y2=\"-344.0\" stroke=\"rgb(233,233,233)\" stroke-opacity=\"1.0\" stroke-width=\"1.0\">\n        </line>\n        <line x1=\"250.78493111650664\" y1=\"-0.0\" x2=\"250.78493111650664\" y2=\"-344.0\" stroke=\"rgb(233,233,233)\" stroke-opacity=\"1.0\" stroke-width=\"1.0\">\n        </line>\n        <line x1=\"301.29652217882307\" y1=\"-0.0\" x2=\"301.29652217882307\" y2=\"-344.0\" stroke=\"rgb(233,233,233)\" stroke-opacity=\"1.0\" stroke-width=\"1.0\">\n        </line>\n        <line x1=\"351.8081132411395\" y1=\"-0.0\" x2=\"351.8081132411395\" y2=\"-344.0\" stroke=\"rgb(233,233,233)\" stroke-opacity=\"1.0\" stroke-width=\"1.0\">\n        </line>\n        <line x1=\"402.31970430345586\" y1=\"-0.0\" x2=\"402.31970430345586\" y2=\"-344.0\" stroke=\"rgb(233,233,233)\" stroke-opacity=\"1.0\" stroke-width=\"1.0\">\n        </line>\n        <line x1=\"452.83129536577235\" y1=\"-0.0\" x2=\"452.83129536577235\" y2=\"-344.0\" stroke=\"rgb(233,233,233)\" stroke-opacity=\"1.0\" stroke-width=\"1.0\">\n        </line>\n        <line x1=\"503.3428864280887\" y1=\"-0.0\" x2=\"503.3428864280887\" y2=\"-344.0\" stroke=\"rgb(233,233,233)\" stroke-opacity=\"1.0\" stroke-width=\"1.0\">\n        </line>\n        <g transform=\"translate(48.73856686724099 0.0 ) \">\n          <line stroke-width=\"1.0\" stroke=\"rgb(71,71,71)\" stroke-opacity=\"1.0\" x2=\"0.0\" y2=\"4.0\">\n          </line>\n          <g transform=\"translate(0.0 7.0 ) \">\n            <text class=\"axis-text-x\" text-anchor=\"middle\" dy=\"0.7em\">\n            -100\n            </text>\n          </g>\n        </g>\n        <g transform=\"translate(99.25015792955742 0.0 ) \">\n          <line stroke-width=\"1.0\" stroke=\"rgb(71,71,71)\" stroke-opacity=\"1.0\" x2=\"0.0\" y2=\"4.0\">\n          </line>\n          <g transform=\"translate(0.0 7.0 ) \">\n            <text class=\"axis-text-x\" text-anchor=\"middle\" dy=\"0.7em\">\n            -80\n            </text>\n          </g>\n        </g>\n        <g transform=\"translate(149.76174899187382 0.0 ) \">\n          <line stroke-width=\"1.0\" stroke=\"rgb(71,71,71)\" stroke-opacity=\"1.0\" x2=\"0.0\" y2=\"4.0\">\n          </line>\n          <g transform=\"translate(0.0 7.0 ) \">\n            <text class=\"axis-text-x\" text-anchor=\"middle\" dy=\"0.7em\">\n            -60\n            </text>\n          </g>\n        </g>\n        <g transform=\"translate(200.27334005419024 0.0 ) \">\n          <line stroke-width=\"1.0\" stroke=\"rgb(71,71,71)\" stroke-opacity=\"1.0\" x2=\"0.0\" y2=\"4.0\">\n          </line>\n          <g transform=\"translate(0.0 7.0 ) \">\n            <text class=\"axis-text-x\" text-anchor=\"middle\" dy=\"0.7em\">\n            -40\n            </text>\n          </g>\n        </g>\n        <g transform=\"translate(250.78493111650664 0.0 ) \">\n          <line stroke-width=\"1.0\" stroke=\"rgb(71,71,71)\" stroke-opacity=\"1.0\" x2=\"0.0\" y2=\"4.0\">\n          </line>\n          <g transform=\"translate(0.0 7.0 ) \">\n            <text class=\"axis-text-x\" text-anchor=\"middle\" dy=\"0.7em\">\n            -20\n            </text>\n          </g>\n        </g>\n        <g transform=\"translate(301.29652217882307 0.0 ) \">\n          <line stroke-width=\"1.0\" stroke=\"rgb(71,71,71)\" stroke-opacity=\"1.0\" x2=\"0.0\" y2=\"4.0\">\n          </line>\n          <g transform=\"translate(0.0 7.0 ) \">\n            <text class=\"axis-text-x\" text-anchor=\"middle\" dy=\"0.7em\">\n            0\n            </text>\n          </g>\n        </g>\n        <g transform=\"translate(351.8081132411395 0.0 ) \">\n          <line stroke-width=\"1.0\" stroke=\"rgb(71,71,71)\" stroke-opacity=\"1.0\" x2=\"0.0\" y2=\"4.0\">\n          </line>\n          <g transform=\"translate(0.0 7.0 ) \">\n            <text class=\"axis-text-x\" text-anchor=\"middle\" dy=\"0.7em\">\n            20\n            </text>\n          </g>\n        </g>\n        <g transform=\"translate(402.31970430345586 0.0 ) \">\n          <line stroke-width=\"1.0\" stroke=\"rgb(71,71,71)\" stroke-opacity=\"1.0\" x2=\"0.0\" y2=\"4.0\">\n          </line>\n          <g transform=\"translate(0.0 7.0 ) \">\n            <text class=\"axis-text-x\" text-anchor=\"middle\" dy=\"0.7em\">\n            40\n            </text>\n          </g>\n        </g>\n        <g transform=\"translate(452.83129536577235 0.0 ) \">\n          <line stroke-width=\"1.0\" stroke=\"rgb(71,71,71)\" stroke-opacity=\"1.0\" x2=\"0.0\" y2=\"4.0\">\n          </line>\n          <g transform=\"translate(0.0 7.0 ) \">\n            <text class=\"axis-text-x\" text-anchor=\"middle\" dy=\"0.7em\">\n            60\n            </text>\n          </g>\n        </g>\n        <g transform=\"translate(503.3428864280887 0.0 ) \">\n          <line stroke-width=\"1.0\" stroke=\"rgb(71,71,71)\" stroke-opacity=\"1.0\" x2=\"0.0\" y2=\"4.0\">\n          </line>\n          <g transform=\"translate(0.0 7.0 ) \">\n            <text class=\"axis-text-x\" text-anchor=\"middle\" dy=\"0.7em\">\n            80\n            </text>\n          </g>\n        </g>\n        <line x1=\"0.0\" y1=\"0.0\" x2=\"537.0581836335954\" y2=\"0.0\" stroke-width=\"1.0\" stroke=\"rgb(71,71,71)\" stroke-opacity=\"1.0\">\n        </line>\n      </g>\n      <g transform=\"translate(29.941816366404606 0.0 ) \">\n        <line x1=\"0.0\" y1=\"266.36515459264274\" x2=\"537.0581836335954\" y2=\"266.36515459264274\" stroke=\"rgb(233,233,233)\" stroke-opacity=\"1.0\" stroke-width=\"1.0\">\n        </line>\n        <line x1=\"0.0\" y1=\"188.73030918528548\" x2=\"537.0581836335954\" y2=\"188.73030918528548\" stroke=\"rgb(233,233,233)\" stroke-opacity=\"1.0\" stroke-width=\"1.0\">\n        </line>\n        <line x1=\"0.0\" y1=\"111.09546377792825\" x2=\"537.0581836335954\" y2=\"111.09546377792825\" stroke=\"rgb(233,233,233)\" stroke-opacity=\"1.0\" stroke-width=\"1.0\">\n        </line>\n        <line x1=\"0.0\" y1=\"33.460618370570955\" x2=\"537.0581836335954\" y2=\"33.460618370570955\" stroke=\"rgb(233,233,233)\" stroke-opacity=\"1.0\" stroke-width=\"1.0\">\n        </line>\n        <g transform=\"translate(0.0 344.0 ) \">\n          <g transform=\"translate(-3.0 0.0 ) \">\n            <text class=\"axis-text-y\" text-anchor=\"end\" dy=\"0.35em\">\n            0\n            </text>\n          </g>\n        </g>\n        <g transform=\"translate(0.0 266.36515459264274 ) \">\n          <g transform=\"translate(-3.0 0.0 ) \">\n            <text class=\"axis-text-y\" text-anchor=\"end\" dy=\"0.35em\">\n            50\n            </text>\n          </g>\n        </g>\n        <g transform=\"translate(0.0 188.73030918528548 ) \">\n          <g transform=\"translate(-3.0 0.0 ) \">\n            <text class=\"axis-text-y\" text-anchor=\"end\" dy=\"0.35em\">\n            100\n            </text>\n          </g>\n        </g>\n        <g transform=\"translate(0.0 111.09546377792825 ) \">\n          <g transform=\"translate(-3.0 0.0 ) \">\n            <text class=\"axis-text-y\" text-anchor=\"end\" dy=\"0.35em\">\n            150\n            </text>\n          </g>\n        </g>\n        <g transform=\"translate(0.0 33.460618370570955 ) \">\n          <g transform=\"translate(-3.0 0.0 ) \">\n            <text class=\"axis-text-y\" text-anchor=\"end\" dy=\"0.35em\">\n            200\n            </text>\n          </g>\n        </g>\n      </g>\n      <g transform=\"translate(29.941816366404606 0.0 ) \" clip-path=\"url(#cahf0HB)\" clip-bounds-jfx=\"[rect (0.0, 0.0), (537.0581836335954, 344.0)]\">\n        <defs>\n          <clipPath id=\"cahf0HB\">\n            <rect x=\"0.0\" y=\"0.0\" width=\"537.0581836335954\" height=\"344.0\">\n            </rect>\n          </clipPath>\n        </defs>\n        <rect x=\"483.15576068806376\" y=\"339.3419092755586\" height=\"4.658090724441422\" width=\"29.49068732582282\" stroke=\"rgb(0,0,0)\" stroke-opacity=\"0.0\" fill=\"rgb(17,142,216)\" fill-opacity=\"1.0\" stroke-width=\"1.0\">\n        </rect>\n        <rect x=\"450.38833032603844\" y=\"339.3419092755586\" height=\"4.658090724441422\" width=\"29.490687325822762\" stroke=\"rgb(0,0,0)\" stroke-opacity=\"0.0\" fill=\"rgb(17,142,216)\" fill-opacity=\"1.0\" stroke-width=\"1.0\">\n        </rect>\n        <rect x=\"417.62089996401306\" y=\"312.9460618370571\" height=\"31.053938162942927\" width=\"29.490687325822762\" stroke=\"rgb(0,0,0)\" stroke-opacity=\"0.0\" fill=\"rgb(17,142,216)\" fill-opacity=\"1.0\" stroke-width=\"1.0\">\n        </rect>\n        <rect x=\"384.85346960198774\" y=\"264.8124576844956\" height=\"79.1875423155044\" width=\"29.490687325822762\" stroke=\"rgb(0,0,0)\" stroke-opacity=\"0.0\" fill=\"rgb(17,142,216)\" fill-opacity=\"1.0\" stroke-width=\"1.0\">\n        </rect>\n        <rect x=\"352.08603923996236\" y=\"146.80749266531257\" height=\"197.19250733468743\" width=\"29.490687325822762\" stroke=\"rgb(0,0,0)\" stroke-opacity=\"0.0\" fill=\"rgb(17,142,216)\" fill-opacity=\"1.0\" stroke-width=\"1.0\">\n        </rect>\n        <rect x=\"319.31860887793704\" y=\"66.06725344166102\" height=\"277.932746558339\" width=\"29.490687325822762\" stroke=\"rgb(0,0,0)\" stroke-opacity=\"0.0\" fill=\"rgb(17,142,216)\" fill-opacity=\"1.0\" stroke-width=\"1.0\">\n        </rect>\n        <rect x=\"286.55117851591166\" y=\"16.380952380952408\" height=\"327.6190476190476\" width=\"29.49068732582282\" stroke=\"rgb(0,0,0)\" stroke-opacity=\"0.0\" fill=\"rgb(17,142,216)\" fill-opacity=\"1.0\" stroke-width=\"1.0\">\n        </rect>\n        <rect x=\"253.78374815388634\" y=\"47.43489054389528\" height=\"296.5651094561047\" width=\"29.490687325822762\" stroke=\"rgb(0,0,0)\" stroke-opacity=\"0.0\" fill=\"rgb(17,142,216)\" fill-opacity=\"1.0\" stroke-width=\"1.0\">\n        </rect>\n        <rect x=\"221.01631779186096\" y=\"151.46558338975402\" height=\"192.53441661024598\" width=\"29.49068732582282\" stroke=\"rgb(0,0,0)\" stroke-opacity=\"0.0\" fill=\"rgb(17,142,216)\" fill-opacity=\"1.0\" stroke-width=\"1.0\">\n        </rect>\n        <rect x=\"188.24888742983563\" y=\"250.83818551117128\" height=\"93.16181448882872\" width=\"29.490687325822762\" stroke=\"rgb(0,0,0)\" stroke-opacity=\"0.0\" fill=\"rgb(17,142,216)\" fill-opacity=\"1.0\" stroke-width=\"1.0\">\n        </rect>\n        <rect x=\"155.48145706781028\" y=\"303.62988038817423\" height=\"40.37011961182577\" width=\"29.49068732582279\" stroke=\"rgb(0,0,0)\" stroke-opacity=\"0.0\" fill=\"rgb(17,142,216)\" fill-opacity=\"1.0\" stroke-width=\"1.0\">\n        </rect>\n        <rect x=\"122.71402670578493\" y=\"337.78921236741144\" height=\"6.210787632588563\" width=\"29.49068732582279\" stroke=\"rgb(0,0,0)\" stroke-opacity=\"0.0\" fill=\"rgb(17,142,216)\" fill-opacity=\"1.0\" stroke-width=\"1.0\">\n        </rect>\n        <rect x=\"89.94659634375958\" y=\"344.0\" height=\"0.1\" width=\"29.49068732582279\" stroke=\"rgb(0,0,0)\" stroke-opacity=\"0.0\" fill=\"rgb(17,142,216)\" fill-opacity=\"1.0\" stroke-width=\"1.0\">\n        </rect>\n        <rect x=\"57.17916598173423\" y=\"344.0\" height=\"0.1\" width=\"29.49068732582279\" stroke=\"rgb(0,0,0)\" stroke-opacity=\"0.0\" fill=\"rgb(17,142,216)\" fill-opacity=\"1.0\" stroke-width=\"1.0\">\n        </rect>\n        <rect x=\"24.41173561970885\" y=\"342.44730309185286\" height=\"1.5526969081471407\" width=\"29.49068732582282\" stroke=\"rgb(0,0,0)\" stroke-opacity=\"0.0\" fill=\"rgb(17,142,216)\" fill-opacity=\"1.0\" stroke-width=\"1.0\">\n        </rect>\n      </g>\n    </g>\n    <g transform=\"translate(14.5 182.0 ) rotate(-90.0 ) \">\n      <text class=\"axis-title-y\" y=\"0.0\" text-anchor=\"middle\">\n      STAT_COUNT\n      </text>\n    </g>\n    <g transform=\"translate(321.4709081832023 391.5 ) \">\n      <text class=\"axis-title-x\" y=\"0.0\" text-anchor=\"middle\">\n      STAT_BINS\n      </text>\n    </g>\n  </g>\n  <g id=\"d3UOjyG\">\n  </g>\n</svg>\n        <script>document.getElementById(\"107f0743-cb9b-44d2-b63e-dbe36aa06e1e\").style.display = \"none\";</script>",
      "application/plot+json": {
       "output_type": "lets_plot_spec",
       "output": {
        "mapping": {},
        "data": {},
        "kind": "plot",
        "scales": [
         {
          "aesthetic": "x",
          "limits": [
           null,
           null
          ]
         },
         {
          "aesthetic": "y",
          "limits": [
           null,
           null
          ]
         }
        ],
        "layers": [
         {
          "mapping": {
           "x": "STAT_BINS",
           "y": "STAT_COUNT"
          },
          "stat": "identity",
          "data": {
           "STAT_COUNT": [
            1.0,
            0.0,
            0.0,
            4.0,
            26.0,
            60.0,
            124.0,
            191.0,
            211.0,
            179.0,
            127.0,
            51.0,
            20.0,
            3.0,
            3.0
           ],
           "STAT_BINS": [
            -103.79378,
            -90.81956,
            -77.84534,
            -64.87111,
            -51.89689,
            -38.92267,
            -25.948444,
            -12.974222,
            0.0,
            12.974222,
            25.948444,
            38.92267,
            51.89689,
            64.87111,
            77.84534
           ]
          },
          "sampling": "none",
          "position": "dodge",
          "geom": "bar"
         }
        ]
       },
       "apply_color_scheme": true,
       "swing_enabled": true
      }
     },
     "execution_count": 9,
     "metadata": {},
     "output_type": "execute_result"
    }
   ],
   "source": [
    "sampleDF.plot { \n",
    "    statBin(sample, Bins.byNumber(15), binXPos = BinXPos.center(0.0)) {\n",
    "        bars { \n",
    "            x(Stat.BINS)\n",
    "            y(Stat.COUNT)\n",
    "        }\n",
    "    }\n",
    "}"
   ]
  },
  {
   "cell_type": "code",
   "execution_count": 10,
   "metadata": {
    "ExecuteTime": {
     "end_time": "2023-06-02T09:40:43.460076Z",
     "start_time": "2023-06-02T09:40:43.159141Z"
    }
   },
   "outputs": [
    {
     "data": {
      "text/html": "            <script type=\"text/javascript\" data-lets-plot-script=\"library\" src=\"https://cdn.jsdelivr.net/gh/JetBrains/lets-plot@v3.1.0/js-package/distr/lets-plot.min.js\"></script>    \n               <div id=\"aNLCsk\"></div>\n   <script type=\"text/javascript\" data-lets-plot-script=\"plot\">\n       var plotSpec={\n\"mapping\":{\n},\n\"data\":{\n},\n\"kind\":\"plot\",\n\"scales\":[{\n\"aesthetic\":\"x\",\n\"limits\":[null,null]\n},{\n\"aesthetic\":\"y\",\n\"limits\":[null,null]\n},{\n\"aesthetic\":\"x\",\n\"limits\":[null,null]\n},{\n\"aesthetic\":\"y\",\n\"limits\":[null,null]\n}],\n\"layers\":[{\n\"mapping\":{\n\"x\":\"STAT_BINS\",\n\"y\":\"STAT_DENSITY\"\n},\n\"stat\":\"identity\",\n\"data\":{\n\"STAT_DENSITY\":[1.1235955056179776E-4,0.0,0.0,2.2471910112359551E-4,5.617977528089888E-4,0.0020224719101123593,0.004157303370786516,0.007078651685393259,0.012022471910112359,0.014044943820224719,0.01943820224719101,0.016853932584269662,0.012921348314606743,0.011797752808988763,0.006179775280898876,0.002696629213483146,0.0014606741573033708,4.4943820224719103E-4,1.1235955056179776E-4,2.2471910112359551E-4],\n\"STAT_BINS\":[-99.4685,-89.94550000000001,-80.42250000000001,-70.8995,-61.37650000000001,-51.85350000000001,-42.33050000000001,-32.807500000000005,-23.28450000000001,-13.761500000000012,-4.238500000000016,5.284499999999994,14.80749999999999,24.330499999999986,33.8535,43.37649999999999,52.89949999999999,62.422499999999985,71.94549999999998,81.46849999999998]\n},\n\"sampling\":\"none\",\n\"position\":\"dodge\",\n\"geom\":\"bar\"\n},{\n\"mapping\":{\n\"x\":\"STAT_BINS\",\n\"y\":\"STAT_DENSITY\"\n},\n\"stat\":\"identity\",\n\"data\":{\n\"STAT_DENSITY\":[1.1235955056179776E-4,0.0,0.0,2.2471910112359551E-4,5.617977528089888E-4,0.0020224719101123593,0.004157303370786516,0.007078651685393259,0.012022471910112359,0.014044943820224719,0.01943820224719101,0.016853932584269662,0.012921348314606743,0.011797752808988763,0.006179775280898876,0.002696629213483146,0.0014606741573033708,4.4943820224719103E-4,1.1235955056179776E-4,2.2471910112359551E-4],\n\"STAT_BINS\":[-99.4685,-89.94550000000001,-80.42250000000001,-70.8995,-61.37650000000001,-51.85350000000001,-42.33050000000001,-32.807500000000005,-23.28450000000001,-13.761500000000012,-4.238500000000016,5.284499999999994,14.80749999999999,24.330499999999986,33.8535,43.37649999999999,52.89949999999999,62.422499999999985,71.94549999999998,81.46849999999998]\n},\n\"color\":\"#ee6666\",\n\"size\":2.5,\n\"sampling\":\"none\",\n\"position\":\"identity\",\n\"geom\":\"line\"\n}]\n};\n       var plotContainer = document.getElementById(\"aNLCsk\");\n       LetsPlot.buildPlotFromProcessedSpecs(plotSpec, -1, -1, plotContainer);\n   </script>            \n        <svg id=43684fd2-b477-4c1c-a0cc-27fbc1a45d14 xmlns=\"http://www.w3.org/2000/svg\" xmlns:xlink=\"http://www.w3.org/1999/xlink\" class=\"plt-container\" width=\"600.0\" height=\"400.0\">\n  <style type=\"text/css\">\n  .plt-container {\n   font-family: Lucida Grande, sans-serif;\n   user-select: none;\n   -webkit-user-select: none;\n   -moz-user-select: none;\n   -ms-user-select: none;\n}\ntext {\n   text-rendering: optimizeLegibility;\n}\n#pcz7bgs .plot-title {\n   fill: #474747;\n   font-family: Lucida Grande, sans-serif;\n   font-size: 16.0px;\n   font-weight: normal;\n   font-style: normal;   \n}\n#pcz7bgs .plot-subtitle {\n   fill: #474747;\n   font-family: Lucida Grande, sans-serif;\n   font-size: 15.0px;\n   font-weight: normal;\n   font-style: normal;   \n}\n#pcz7bgs .plot-caption {\n   fill: #474747;\n   font-family: Lucida Grande, sans-serif;\n   font-size: 13.0px;\n   font-weight: normal;\n   font-style: normal;   \n}\n#pcz7bgs .legend-title {\n   fill: #474747;\n   font-family: Lucida Grande, sans-serif;\n   font-size: 15.0px;\n   font-weight: normal;\n   font-style: normal;   \n}\n#pcz7bgs .legend-item {\n   fill: #474747;\n   font-family: Lucida Grande, sans-serif;\n   font-size: 13.0px;\n   font-weight: normal;\n   font-style: normal;   \n}\n#pcz7bgs .axis-title-x {\n   fill: #474747;\n   font-family: Lucida Grande, sans-serif;\n   font-size: 15.0px;\n   font-weight: normal;\n   font-style: normal;   \n}\n#pcz7bgs .axis-text-x {\n   fill: #474747;\n   font-family: Lucida Grande, sans-serif;\n   font-size: 13.0px;\n   font-weight: normal;\n   font-style: normal;   \n}\n#dzXL1a3 .axis-tooltip-text-x {\n   fill: #ffffff;\n   font-family: Lucida Grande, sans-serif;\n   font-size: 13.0px;\n   font-weight: normal;\n   font-style: normal;   \n}\n#pcz7bgs .axis-title-y {\n   fill: #474747;\n   font-family: Lucida Grande, sans-serif;\n   font-size: 15.0px;\n   font-weight: normal;\n   font-style: normal;   \n}\n#pcz7bgs .axis-text-y {\n   fill: #474747;\n   font-family: Lucida Grande, sans-serif;\n   font-size: 13.0px;\n   font-weight: normal;\n   font-style: normal;   \n}\n#dzXL1a3 .axis-tooltip-text-y {\n   fill: #ffffff;\n   font-family: Lucida Grande, sans-serif;\n   font-size: 13.0px;\n   font-weight: normal;\n   font-style: normal;   \n}\n#pcz7bgs .facet-strip-text-x {\n   fill: #474747;\n   font-family: Lucida Grande, sans-serif;\n   font-size: 13.0px;\n   font-weight: normal;\n   font-style: normal;   \n}\n#pcz7bgs .facet-strip-text-y {\n   fill: #474747;\n   font-family: Lucida Grande, sans-serif;\n   font-size: 13.0px;\n   font-weight: normal;\n   font-style: normal;   \n}\n#dzXL1a3 .tooltip-text {\n   fill: #474747;\n   font-family: Lucida Grande, sans-serif;\n   font-size: 13.0px;\n   font-weight: normal;\n   font-style: normal;   \n}\n#dzXL1a3 .tooltip-title {\n   fill: #474747;\n   font-family: Lucida Grande, sans-serif;\n   font-size: 13.0px;\n   font-weight: bold;\n   font-style: normal;   \n}\n#dzXL1a3 .tooltip-label {\n   fill: #474747;\n   font-family: Lucida Grande, sans-serif;\n   font-size: 13.0px;\n   font-weight: bold;\n   font-style: normal;   \n}\n\n  </style>\n  <g id=\"pcz7bgs\">\n    <rect x=\"0.0\" y=\"0.0\" height=\"400.0\" width=\"600.0\" stroke=\"rgb(71,71,71)\" stroke-opacity=\"1.0\" stroke-width=\"0.0\" fill=\"rgb(255,255,255)\" fill-opacity=\"1.0\">\n    </rect>\n    <g transform=\"translate(23.0 10.0 ) \">\n      <g transform=\"translate(42.99591213121782 344.0 ) \">\n        <line x1=\"33.25445696390639\" y1=\"-0.0\" x2=\"33.25445696390639\" y2=\"-344.0\" stroke=\"rgb(233,233,233)\" stroke-opacity=\"1.0\" stroke-width=\"1.0\">\n        </line>\n        <line x1=\"83.52865190247448\" y1=\"-0.0\" x2=\"83.52865190247448\" y2=\"-344.0\" stroke=\"rgb(233,233,233)\" stroke-opacity=\"1.0\" stroke-width=\"1.0\">\n        </line>\n        <line x1=\"133.80284684104257\" y1=\"-0.0\" x2=\"133.80284684104257\" y2=\"-344.0\" stroke=\"rgb(233,233,233)\" stroke-opacity=\"1.0\" stroke-width=\"1.0\">\n        </line>\n        <line x1=\"184.07704177961062\" y1=\"-0.0\" x2=\"184.07704177961062\" y2=\"-344.0\" stroke=\"rgb(233,233,233)\" stroke-opacity=\"1.0\" stroke-width=\"1.0\">\n        </line>\n        <line x1=\"234.3512367181787\" y1=\"-0.0\" x2=\"234.3512367181787\" y2=\"-344.0\" stroke=\"rgb(233,233,233)\" stroke-opacity=\"1.0\" stroke-width=\"1.0\">\n        </line>\n        <line x1=\"284.6254316567468\" y1=\"-0.0\" x2=\"284.6254316567468\" y2=\"-344.0\" stroke=\"rgb(233,233,233)\" stroke-opacity=\"1.0\" stroke-width=\"1.0\">\n        </line>\n        <line x1=\"334.8996265953149\" y1=\"-0.0\" x2=\"334.8996265953149\" y2=\"-344.0\" stroke=\"rgb(233,233,233)\" stroke-opacity=\"1.0\" stroke-width=\"1.0\">\n        </line>\n        <line x1=\"385.173821533883\" y1=\"-0.0\" x2=\"385.173821533883\" y2=\"-344.0\" stroke=\"rgb(233,233,233)\" stroke-opacity=\"1.0\" stroke-width=\"1.0\">\n        </line>\n        <line x1=\"435.44801647245106\" y1=\"-0.0\" x2=\"435.44801647245106\" y2=\"-344.0\" stroke=\"rgb(233,233,233)\" stroke-opacity=\"1.0\" stroke-width=\"1.0\">\n        </line>\n        <line x1=\"485.7222114110191\" y1=\"-0.0\" x2=\"485.7222114110191\" y2=\"-344.0\" stroke=\"rgb(233,233,233)\" stroke-opacity=\"1.0\" stroke-width=\"1.0\">\n        </line>\n        <g transform=\"translate(33.25445696390639 0.0 ) \">\n          <line stroke-width=\"1.0\" stroke=\"rgb(71,71,71)\" stroke-opacity=\"1.0\" x2=\"0.0\" y2=\"4.0\">\n          </line>\n          <g transform=\"translate(0.0 7.0 ) \">\n            <text class=\"axis-text-x\" text-anchor=\"middle\" dy=\"0.7em\">\n            -100\n            </text>\n          </g>\n        </g>\n        <g transform=\"translate(83.52865190247448 0.0 ) \">\n          <line stroke-width=\"1.0\" stroke=\"rgb(71,71,71)\" stroke-opacity=\"1.0\" x2=\"0.0\" y2=\"4.0\">\n          </line>\n          <g transform=\"translate(0.0 7.0 ) \">\n            <text class=\"axis-text-x\" text-anchor=\"middle\" dy=\"0.7em\">\n            -80\n            </text>\n          </g>\n        </g>\n        <g transform=\"translate(133.80284684104257 0.0 ) \">\n          <line stroke-width=\"1.0\" stroke=\"rgb(71,71,71)\" stroke-opacity=\"1.0\" x2=\"0.0\" y2=\"4.0\">\n          </line>\n          <g transform=\"translate(0.0 7.0 ) \">\n            <text class=\"axis-text-x\" text-anchor=\"middle\" dy=\"0.7em\">\n            -60\n            </text>\n          </g>\n        </g>\n        <g transform=\"translate(184.07704177961062 0.0 ) \">\n          <line stroke-width=\"1.0\" stroke=\"rgb(71,71,71)\" stroke-opacity=\"1.0\" x2=\"0.0\" y2=\"4.0\">\n          </line>\n          <g transform=\"translate(0.0 7.0 ) \">\n            <text class=\"axis-text-x\" text-anchor=\"middle\" dy=\"0.7em\">\n            -40\n            </text>\n          </g>\n        </g>\n        <g transform=\"translate(234.3512367181787 0.0 ) \">\n          <line stroke-width=\"1.0\" stroke=\"rgb(71,71,71)\" stroke-opacity=\"1.0\" x2=\"0.0\" y2=\"4.0\">\n          </line>\n          <g transform=\"translate(0.0 7.0 ) \">\n            <text class=\"axis-text-x\" text-anchor=\"middle\" dy=\"0.7em\">\n            -20\n            </text>\n          </g>\n        </g>\n        <g transform=\"translate(284.6254316567468 0.0 ) \">\n          <line stroke-width=\"1.0\" stroke=\"rgb(71,71,71)\" stroke-opacity=\"1.0\" x2=\"0.0\" y2=\"4.0\">\n          </line>\n          <g transform=\"translate(0.0 7.0 ) \">\n            <text class=\"axis-text-x\" text-anchor=\"middle\" dy=\"0.7em\">\n            0\n            </text>\n          </g>\n        </g>\n        <g transform=\"translate(334.8996265953149 0.0 ) \">\n          <line stroke-width=\"1.0\" stroke=\"rgb(71,71,71)\" stroke-opacity=\"1.0\" x2=\"0.0\" y2=\"4.0\">\n          </line>\n          <g transform=\"translate(0.0 7.0 ) \">\n            <text class=\"axis-text-x\" text-anchor=\"middle\" dy=\"0.7em\">\n            20\n            </text>\n          </g>\n        </g>\n        <g transform=\"translate(385.173821533883 0.0 ) \">\n          <line stroke-width=\"1.0\" stroke=\"rgb(71,71,71)\" stroke-opacity=\"1.0\" x2=\"0.0\" y2=\"4.0\">\n          </line>\n          <g transform=\"translate(0.0 7.0 ) \">\n            <text class=\"axis-text-x\" text-anchor=\"middle\" dy=\"0.7em\">\n            40\n            </text>\n          </g>\n        </g>\n        <g transform=\"translate(435.44801647245106 0.0 ) \">\n          <line stroke-width=\"1.0\" stroke=\"rgb(71,71,71)\" stroke-opacity=\"1.0\" x2=\"0.0\" y2=\"4.0\">\n          </line>\n          <g transform=\"translate(0.0 7.0 ) \">\n            <text class=\"axis-text-x\" text-anchor=\"middle\" dy=\"0.7em\">\n            60\n            </text>\n          </g>\n        </g>\n        <g transform=\"translate(485.7222114110191 0.0 ) \">\n          <line stroke-width=\"1.0\" stroke=\"rgb(71,71,71)\" stroke-opacity=\"1.0\" x2=\"0.0\" y2=\"4.0\">\n          </line>\n          <g transform=\"translate(0.0 7.0 ) \">\n            <text class=\"axis-text-x\" text-anchor=\"middle\" dy=\"0.7em\">\n            80\n            </text>\n          </g>\n        </g>\n        <line x1=\"0.0\" y1=\"0.0\" x2=\"524.0040878687822\" y2=\"0.0\" stroke-width=\"1.0\" stroke=\"rgb(71,71,71)\" stroke-opacity=\"1.0\">\n        </line>\n      </g>\n      <g transform=\"translate(42.99591213121782 0.0 ) \">\n        <line x1=\"0.0\" y1=\"259.72804844481146\" x2=\"524.0040878687822\" y2=\"259.72804844481146\" stroke=\"rgb(233,233,233)\" stroke-opacity=\"1.0\" stroke-width=\"1.0\">\n        </line>\n        <line x1=\"0.0\" y1=\"175.4560968896229\" x2=\"524.0040878687822\" y2=\"175.4560968896229\" stroke=\"rgb(233,233,233)\" stroke-opacity=\"1.0\" stroke-width=\"1.0\">\n        </line>\n        <line x1=\"0.0\" y1=\"91.18414533443436\" x2=\"524.0040878687822\" y2=\"91.18414533443436\" stroke=\"rgb(233,233,233)\" stroke-opacity=\"1.0\" stroke-width=\"1.0\">\n        </line>\n        <line x1=\"0.0\" y1=\"6.912193779245797\" x2=\"524.0040878687822\" y2=\"6.912193779245797\" stroke=\"rgb(233,233,233)\" stroke-opacity=\"1.0\" stroke-width=\"1.0\">\n        </line>\n        <g transform=\"translate(0.0 344.0 ) \">\n          <g transform=\"translate(-3.0 0.0 ) \">\n            <text class=\"axis-text-y\" text-anchor=\"end\" dy=\"0.35em\">\n            0.000\n            </text>\n          </g>\n        </g>\n        <g transform=\"translate(0.0 259.72804844481146 ) \">\n          <g transform=\"translate(-3.0 0.0 ) \">\n            <text class=\"axis-text-y\" text-anchor=\"end\" dy=\"0.35em\">\n            0.005\n            </text>\n          </g>\n        </g>\n        <g transform=\"translate(0.0 175.4560968896229 ) \">\n          <g transform=\"translate(-3.0 0.0 ) \">\n            <text class=\"axis-text-y\" text-anchor=\"end\" dy=\"0.35em\">\n            0.010\n            </text>\n          </g>\n        </g>\n        <g transform=\"translate(0.0 91.18414533443436 ) \">\n          <g transform=\"translate(-3.0 0.0 ) \">\n            <text class=\"axis-text-y\" text-anchor=\"end\" dy=\"0.35em\">\n            0.015\n            </text>\n          </g>\n        </g>\n        <g transform=\"translate(0.0 6.912193779245797 ) \">\n          <g transform=\"translate(-3.0 0.0 ) \">\n            <text class=\"axis-text-y\" text-anchor=\"end\" dy=\"0.35em\">\n            0.020\n            </text>\n          </g>\n        </g>\n      </g>\n      <g transform=\"translate(42.99591213121782 0.0 ) \" clip-path=\"url(#c5zRMi1)\" clip-bounds-jfx=\"[rect (0.0, 0.0), (524.0040878687822, 344.0)]\">\n        <defs>\n          <clipPath id=\"c5zRMi1\">\n            <rect x=\"0.0\" y=\"0.0\" width=\"524.0040878687822\" height=\"344.0\">\n            </rect>\n          </clipPath>\n        </defs>\n        <rect x=\"478.6414681103838\" y=\"340.21249655931734\" height=\"3.7875034406826558\" width=\"21.544252127999243\" stroke=\"rgb(0,0,0)\" stroke-opacity=\"0.0\" fill=\"rgb(17,142,216)\" fill-opacity=\"1.0\" stroke-width=\"1.0\">\n        </rect>\n        <rect x=\"454.7034101903846\" y=\"342.1062482796587\" height=\"1.8937517203412995\" width=\"21.5442521279993\" stroke=\"rgb(0,0,0)\" stroke-opacity=\"0.0\" fill=\"rgb(17,142,216)\" fill-opacity=\"1.0\" stroke-width=\"1.0\">\n        </rect>\n        <rect x=\"430.7653522703854\" y=\"336.42499311863475\" height=\"7.575006881365255\" width=\"21.5442521279993\" stroke=\"rgb(0,0,0)\" stroke-opacity=\"0.0\" fill=\"rgb(17,142,216)\" fill-opacity=\"1.0\" stroke-width=\"1.0\">\n        </rect>\n        <rect x=\"406.82729435038624\" y=\"319.3812276355629\" height=\"24.61877236443712\" width=\"21.5442521279993\" stroke=\"rgb(0,0,0)\" stroke-opacity=\"0.0\" fill=\"rgb(17,142,216)\" fill-opacity=\"1.0\" stroke-width=\"1.0\">\n        </rect>\n        <rect x=\"382.8892364303871\" y=\"298.5499587118084\" height=\"45.450041288191585\" width=\"21.544252127999243\" stroke=\"rgb(0,0,0)\" stroke-opacity=\"0.0\" fill=\"rgb(17,142,216)\" fill-opacity=\"1.0\" stroke-width=\"1.0\">\n        </rect>\n        <rect x=\"358.9511785103879\" y=\"239.84365538122762\" height=\"104.15634461877238\" width=\"21.544252127999243\" stroke=\"rgb(0,0,0)\" stroke-opacity=\"0.0\" fill=\"rgb(17,142,216)\" fill-opacity=\"1.0\" stroke-width=\"1.0\">\n        </rect>\n        <rect x=\"335.01312059038867\" y=\"145.15606936416185\" height=\"198.84393063583815\" width=\"21.544252127999243\" stroke=\"rgb(0,0,0)\" stroke-opacity=\"0.0\" fill=\"rgb(17,142,216)\" fill-opacity=\"1.0\" stroke-width=\"1.0\">\n        </rect>\n        <rect x=\"311.07506267038946\" y=\"126.21855216074866\" height=\"217.78144783925134\" width=\"21.5442521279993\" stroke=\"rgb(0,0,0)\" stroke-opacity=\"0.0\" fill=\"rgb(17,142,216)\" fill-opacity=\"1.0\" stroke-width=\"1.0\">\n        </rect>\n        <rect x=\"287.1370047503903\" y=\"59.93724194880264\" height=\"284.06275805119736\" width=\"21.544252127999243\" stroke=\"rgb(0,0,0)\" stroke-opacity=\"0.0\" fill=\"rgb(17,142,216)\" fill-opacity=\"1.0\" stroke-width=\"1.0\">\n        </rect>\n        <rect x=\"263.1989468303911\" y=\"16.380952380952408\" height=\"327.6190476190476\" width=\"21.544252127999243\" stroke=\"rgb(0,0,0)\" stroke-opacity=\"0.0\" fill=\"rgb(17,142,216)\" fill-opacity=\"1.0\" stroke-width=\"1.0\">\n        </rect>\n        <rect x=\"239.2608889103919\" y=\"107.28103495733552\" height=\"236.71896504266448\" width=\"21.544252127999272\" stroke=\"rgb(0,0,0)\" stroke-opacity=\"0.0\" fill=\"rgb(17,142,216)\" fill-opacity=\"1.0\" stroke-width=\"1.0\">\n        </rect>\n        <rect x=\"215.32283099039273\" y=\"141.36856592347922\" height=\"202.63143407652078\" width=\"21.544252127999272\" stroke=\"rgb(0,0,0)\" stroke-opacity=\"0.0\" fill=\"rgb(17,142,216)\" fill-opacity=\"1.0\" stroke-width=\"1.0\">\n        </rect>\n        <rect x=\"191.38477307039352\" y=\"224.6936416184971\" height=\"119.30635838150289\" width=\"21.544252127999272\" stroke=\"rgb(0,0,0)\" stroke-opacity=\"0.0\" fill=\"rgb(17,142,216)\" fill-opacity=\"1.0\" stroke-width=\"1.0\">\n        </rect>\n        <rect x=\"167.44671515039434\" y=\"273.9311863473713\" height=\"70.0688136526287\" width=\"21.544252127999272\" stroke=\"rgb(0,0,0)\" stroke-opacity=\"0.0\" fill=\"rgb(17,142,216)\" fill-opacity=\"1.0\" stroke-width=\"1.0\">\n        </rect>\n        <rect x=\"143.50865723039513\" y=\"309.9124690338563\" height=\"34.087530966143675\" width=\"21.544252127999272\" stroke=\"rgb(0,0,0)\" stroke-opacity=\"0.0\" fill=\"rgb(17,142,216)\" fill-opacity=\"1.0\" stroke-width=\"1.0\">\n        </rect>\n        <rect x=\"119.57059931039598\" y=\"334.53124139829345\" height=\"9.468758601706554\" width=\"21.544252127999243\" stroke=\"rgb(0,0,0)\" stroke-opacity=\"0.0\" fill=\"rgb(17,142,216)\" fill-opacity=\"1.0\" stroke-width=\"1.0\">\n        </rect>\n        <rect x=\"95.6325413903968\" y=\"340.21249655931734\" height=\"3.7875034406826558\" width=\"21.544252127999272\" stroke=\"rgb(0,0,0)\" stroke-opacity=\"0.0\" fill=\"rgb(17,142,216)\" fill-opacity=\"1.0\" stroke-width=\"1.0\">\n        </rect>\n        <rect x=\"71.69448347039759\" y=\"344.0\" height=\"0.1\" width=\"21.544252127999272\" stroke=\"rgb(0,0,0)\" stroke-opacity=\"0.0\" fill=\"rgb(17,142,216)\" fill-opacity=\"1.0\" stroke-width=\"1.0\">\n        </rect>\n        <rect x=\"47.756425550398404\" y=\"344.0\" height=\"0.1\" width=\"21.544252127999272\" stroke=\"rgb(0,0,0)\" stroke-opacity=\"0.0\" fill=\"rgb(17,142,216)\" fill-opacity=\"1.0\" stroke-width=\"1.0\">\n        </rect>\n        <rect x=\"23.818367630399223\" y=\"342.1062482796587\" height=\"1.8937517203412995\" width=\"21.544252127999272\" stroke=\"rgb(0,0,0)\" stroke-opacity=\"0.0\" fill=\"rgb(17,142,216)\" fill-opacity=\"1.0\" stroke-width=\"1.0\">\n        </rect>\n      </g>\n      <g transform=\"translate(42.99591213121782 0.0 ) \" clip-path=\"url(#ch8ABuZ)\" clip-bounds-jfx=\"[rect (0.0, 0.0), (524.0040878687822, 344.0)]\">\n        <defs>\n          <clipPath id=\"ch8ABuZ\">\n            <rect x=\"0.0\" y=\"0.0\" width=\"524.0040878687822\" height=\"344.0\">\n            </rect>\n          </clipPath>\n        </defs>\n        <g>\n          <path d=\"M34.590493694398845 342.1062482796587 L34.590493694398845 342.1062482796587 L58.528551614398026 344.0 L82.46660953439721 344.0 L106.40466745439642 340.21249655931734 L130.3427253743956 334.53124139829345 L154.28078329439478 309.9124690338563 L178.218841214394 273.9311863473713 L202.15689913439317 224.6936416184971 L226.09495705439235 141.36856592347922 L250.03301497439153 107.28103495733552 L273.9710728943907 16.380952380952408 L297.9091308143899 59.93724194880264 L321.84718873438914 126.21855216074866 L345.7852466543883 145.15606936416185 L369.7233045743875 239.84365538122762 L393.6613624943867 298.5499587118084 L417.5994204143859 319.3812276355629 L441.53747833438507 336.42499311863475 L465.4755362543842 342.1062482796587 L489.41359417438343 340.21249655931734 \" fill=\"none\" stroke-width=\"5.0\" stroke=\"rgb(238,102,102)\" stroke-opacity=\"1.0\">\n          </path>\n        </g>\n      </g>\n    </g>\n    <g transform=\"translate(14.5 182.0 ) rotate(-90.0 ) \">\n      <text class=\"axis-title-y\" y=\"0.0\" text-anchor=\"middle\">\n      STAT_DENSITY\n      </text>\n    </g>\n    <g transform=\"translate(327.99795606560895 391.5 ) \">\n      <text class=\"axis-title-x\" y=\"0.0\" text-anchor=\"middle\">\n      STAT_BINS\n      </text>\n    </g>\n  </g>\n  <g id=\"dzXL1a3\">\n  </g>\n</svg>\n        <script>document.getElementById(\"43684fd2-b477-4c1c-a0cc-27fbc1a45d14\").style.display = \"none\";</script>",
      "application/plot+json": {
       "output_type": "lets_plot_spec",
       "output": {
        "mapping": {},
        "data": {},
        "kind": "plot",
        "scales": [
         {
          "aesthetic": "x",
          "limits": [
           null,
           null
          ]
         },
         {
          "aesthetic": "y",
          "limits": [
           null,
           null
          ]
         },
         {
          "aesthetic": "x",
          "limits": [
           null,
           null
          ]
         },
         {
          "aesthetic": "y",
          "limits": [
           null,
           null
          ]
         }
        ],
        "layers": [
         {
          "mapping": {
           "x": "STAT_BINS",
           "y": "STAT_DENSITY"
          },
          "stat": "identity",
          "data": {
           "STAT_DENSITY": [
            1.1235955E-4,
            0.0,
            0.0,
            2.247191E-4,
            5.6179776E-4,
            0.002022472,
            0.0041573034,
            0.007078652,
            0.012022472,
            0.014044944,
            0.019438202,
            0.016853932,
            0.012921348,
            0.011797753,
            0.006179775,
            0.0026966291,
            0.0014606741,
            4.494382E-4,
            1.1235955E-4,
            2.247191E-4
           ],
           "STAT_BINS": [
            -99.4685,
            -89.9455,
            -80.4225,
            -70.8995,
            -61.3765,
            -51.8535,
            -42.3305,
            -32.8075,
            -23.2845,
            -13.7615,
            -4.2385,
            5.2845,
            14.8075,
            24.3305,
            33.8535,
            43.3765,
            52.8995,
            62.4225,
            71.9455,
            81.4685
           ]
          },
          "sampling": "none",
          "position": "dodge",
          "geom": "bar"
         },
         {
          "mapping": {
           "x": "STAT_BINS",
           "y": "STAT_DENSITY"
          },
          "stat": "identity",
          "data": {
           "STAT_DENSITY": [
            1.1235955E-4,
            0.0,
            0.0,
            2.247191E-4,
            5.6179776E-4,
            0.002022472,
            0.0041573034,
            0.007078652,
            0.012022472,
            0.014044944,
            0.019438202,
            0.016853932,
            0.012921348,
            0.011797753,
            0.006179775,
            0.0026966291,
            0.0014606741,
            4.494382E-4,
            1.1235955E-4,
            2.247191E-4
           ],
           "STAT_BINS": [
            -99.4685,
            -89.9455,
            -80.4225,
            -70.8995,
            -61.3765,
            -51.8535,
            -42.3305,
            -32.8075,
            -23.2845,
            -13.7615,
            -4.2385,
            5.2845,
            14.8075,
            24.3305,
            33.8535,
            43.3765,
            52.8995,
            62.4225,
            71.9455,
            81.4685
           ]
          },
          "color": "#ee6666",
          "size": 2.5,
          "sampling": "none",
          "position": "identity",
          "geom": "line"
         }
        ]
       },
       "apply_color_scheme": true,
       "swing_enabled": true
      }
     },
     "execution_count": 10,
     "metadata": {},
     "output_type": "execute_result"
    }
   ],
   "source": [
    "sampleDF.plot { \n",
    "    statBin(sample) {\n",
    "        bars { \n",
    "            x(Stat.BINS)\n",
    "            y(Stat.DENSITY)\n",
    "        }\n",
    "\n",
    "        line {\n",
    "            x(Stat.BINS)\n",
    "            y(Stat.DENSITY)\n",
    "\n",
    "            color = Color.RED\n",
    "            width = 2.5\n",
    "        }\n",
    "    }\n",
    "}"
   ]
  },
  {
   "cell_type": "code",
   "execution_count": 11,
   "metadata": {
    "ExecuteTime": {
     "end_time": "2023-06-02T09:40:43.928522Z",
     "start_time": "2023-06-02T09:40:43.459733Z"
    }
   },
   "outputs": [],
   "source": [
    "val rand = java.util.Random()\n",
    "val data = mapOf(\n",
    "    \"rating\" to List(500) { rand.nextGaussian() } + List(500) { rand.nextGaussian() * 1.5 + 1.5 },\n",
    "    \"cond\" to List(500) { \"A\" } + List(500) { \"B\" }\n",
    ")\n",
    "\n",
    "val cond by column<String>()\n",
    "val rating by column<Double>()"
   ]
  },
  {
   "cell_type": "code",
   "execution_count": 12,
   "metadata": {
    "ExecuteTime": {
     "end_time": "2023-06-02T09:40:44.229496Z",
     "start_time": "2023-06-02T09:40:43.930338Z"
    }
   },
   "outputs": [
    {
     "data": {
      "text/html": "            <script type=\"text/javascript\" data-lets-plot-script=\"library\" src=\"https://cdn.jsdelivr.net/gh/JetBrains/lets-plot@v3.1.0/js-package/distr/lets-plot.min.js\"></script>    \n               <div id=\"pnIhwz\"></div>\n   <script type=\"text/javascript\" data-lets-plot-script=\"plot\">\n       var plotSpec={\n\"mapping\":{\n},\n\"data\":{\n},\n\"kind\":\"plot\",\n\"scales\":[{\n\"aesthetic\":\"x\",\n\"limits\":[null,null]\n},{\n\"aesthetic\":\"y\",\n\"limits\":[null,null]\n},{\n\"aesthetic\":\"fill\",\n\"discrete\":true\n}],\n\"layers\":[{\n\"mapping\":{\n\"x\":\"STAT_BINS\",\n\"y\":\"STAT_DENSITY\",\n\"fill\":\"cond\",\n\"group\":\"&merged_groups\"\n},\n\"stat\":\"identity\",\n\"data\":{\n\"&merged_groups\":[\"A\",\"A\",\"A\",\"A\",\"A\",\"A\",\"A\",\"A\",\"A\",\"A\",\"A\",\"A\",\"A\",\"A\",\"A\",\"A\",\"A\",\"A\",\"A\",\"A\",\"A\",\"A\",\"A\",\"A\",\"A\",\"A\",\"A\",\"A\",\"A\",\"A\",\"A\",\"A\",\"A\",\"A\",\"A\",\"A\",\"A\",\"A\",\"A\",\"A\",\"A\",\"A\",\"A\",\"A\",\"A\",\"A\",\"A\",\"A\",\"A\",\"A\",\"B\",\"B\",\"B\",\"B\",\"B\",\"B\",\"B\",\"B\",\"B\",\"B\",\"B\",\"B\",\"B\",\"B\",\"B\",\"B\",\"B\",\"B\",\"B\",\"B\",\"B\",\"B\",\"B\",\"B\",\"B\",\"B\",\"B\",\"B\",\"B\",\"B\",\"B\",\"B\",\"B\",\"B\",\"B\",\"B\",\"B\",\"B\",\"B\",\"B\",\"B\",\"B\",\"B\",\"B\",\"B\",\"B\",\"B\",\"B\",\"B\",\"B\"],\n\"STAT_DENSITY\":[0.008989008741891293,0.0,0.0,0.0,0.0,0.017978017483782586,0.008989008741891293,0.008989008741891293,0.008989008741891293,0.017978017483782586,0.017978017483782586,0.07191206993513034,0.11685711364458681,0.09887909616080422,0.2606812535148475,0.22472521854728233,0.305626297224304,0.2696702622567388,0.3146153059661953,0.5123734982878038,0.4224834108688908,0.36854935841754305,0.39551638464321687,0.2516922447729562,0.22472521854728233,0.21573620980539104,0.09887909616080422,0.06292306119323905,0.09887909616080422,0.04494504370945647,0.02696702622567388,0.008989008741891293,0.008989008741891293,0.0,0.0,0.0,0.0,0.0,0.0,0.0,0.0,0.0,0.0,0.0,0.0,0.0,0.0,0.0,0.0,0.0,0.0,0.0,0.0,0.0,0.0,0.0,0.008989008741891293,0.008989008741891293,0.0,0.0,0.008989008741891293,0.0,0.04494504370945647,0.017978017483782586,0.08090107867702163,0.04494504370945647,0.10786810490269552,0.08090107867702163,0.11685711364458681,0.10786810490269552,0.11685711364458681,0.22472521854728233,0.23371422728917363,0.32360431470808654,0.3146153059661953,0.4045053933851082,0.23371422728917363,0.18876918357971717,0.21573620980539104,0.2966372884824127,0.17978017483782588,0.1258461223864781,0.21573620980539104,0.17978017483782588,0.17978017483782588,0.08090107867702163,0.09887909616080422,0.06292306119323905,0.017978017483782586,0.08090107867702163,0.008989008741891293,0.03595603496756517,0.008989008741891293,0.0,0.017978017483782586,0.008989008741891293,0.0,0.0,0.0,0.008989008741891293],\n\"cond\":[\"A\",\"A\",\"A\",\"A\",\"A\",\"A\",\"A\",\"A\",\"A\",\"A\",\"A\",\"A\",\"A\",\"A\",\"A\",\"A\",\"A\",\"A\",\"A\",\"A\",\"A\",\"A\",\"A\",\"A\",\"A\",\"A\",\"A\",\"A\",\"A\",\"A\",\"A\",\"A\",\"A\",\"A\",\"A\",\"A\",\"A\",\"A\",\"A\",\"A\",\"A\",\"A\",\"A\",\"A\",\"A\",\"A\",\"A\",\"A\",\"A\",\"A\",\"B\",\"B\",\"B\",\"B\",\"B\",\"B\",\"B\",\"B\",\"B\",\"B\",\"B\",\"B\",\"B\",\"B\",\"B\",\"B\",\"B\",\"B\",\"B\",\"B\",\"B\",\"B\",\"B\",\"B\",\"B\",\"B\",\"B\",\"B\",\"B\",\"B\",\"B\",\"B\",\"B\",\"B\",\"B\",\"B\",\"B\",\"B\",\"B\",\"B\",\"B\",\"B\",\"B\",\"B\",\"B\",\"B\",\"B\",\"B\",\"B\",\"B\"],\n\"STAT_BINS\":[-4.418616648481894,-4.1898928749229185,-3.961169101363942,-3.732445327804966,-3.50372155424599,-3.2749977806870145,-3.046274007128038,-2.8175502335690625,-2.588826460010086,-2.3601026864511105,-2.1313789128921345,-1.9026551393331586,-1.6739313657741826,-1.4452075922152066,-1.2164838186562306,-0.9877600450972546,-0.7590362715382786,-0.5303124979793026,-0.301588724420327,-0.07286495086135059,0.15585882269762497,0.3845825962566014,0.613306369815577,0.8420301433745534,1.070753916933529,1.2994776904925054,1.528201464051481,1.7569252376104574,1.985649011169433,2.2143727847284094,2.443096558287385,2.6718203318463614,2.900544105405337,3.1292678789643125,3.357991652523289,3.5867154260822645,3.81543919964124,4.044162973200217,4.272886746759193,4.501610520318168,4.730334293877144,4.959058067436121,5.187781840995097,5.416505614554072,5.645229388113048,5.873953161672025,6.102676935231001,6.331400708789976,6.560124482348952,6.7888482559079275,-4.418616648481894,-4.1898928749229185,-3.961169101363942,-3.732445327804966,-3.50372155424599,-3.2749977806870145,-3.046274007128038,-2.8175502335690625,-2.588826460010086,-2.3601026864511105,-2.1313789128921345,-1.9026551393331586,-1.6739313657741826,-1.4452075922152066,-1.2164838186562306,-0.9877600450972546,-0.7590362715382786,-0.5303124979793026,-0.301588724420327,-0.07286495086135059,0.15585882269762497,0.3845825962566014,0.613306369815577,0.8420301433745534,1.070753916933529,1.2994776904925054,1.528201464051481,1.7569252376104574,1.985649011169433,2.2143727847284094,2.443096558287385,2.6718203318463614,2.900544105405337,3.1292678789643125,3.357991652523289,3.5867154260822645,3.81543919964124,4.044162973200217,4.272886746759193,4.501610520318168,4.730334293877144,4.959058067436121,5.187781840995097,5.416505614554072,5.645229388113048,5.873953161672025,6.102676935231001,6.331400708789976,6.560124482348952,6.7888482559079275]\n},\n\"color\":\"#000000\",\n\"size\":0.5,\n\"sampling\":\"none\",\n\"alpha\":0.6,\n\"position\":\"identity\",\n\"geom\":\"area\"\n}]\n};\n       var plotContainer = document.getElementById(\"pnIhwz\");\n       LetsPlot.buildPlotFromProcessedSpecs(plotSpec, -1, -1, plotContainer);\n   </script>            \n        <svg id=a79c8c1f-c3f2-4dd5-802c-423580c6c3c3 xmlns=\"http://www.w3.org/2000/svg\" xmlns:xlink=\"http://www.w3.org/1999/xlink\" class=\"plt-container\" width=\"600.0\" height=\"400.0\">\n  <style type=\"text/css\">\n  .plt-container {\n   font-family: Lucida Grande, sans-serif;\n   user-select: none;\n   -webkit-user-select: none;\n   -moz-user-select: none;\n   -ms-user-select: none;\n}\ntext {\n   text-rendering: optimizeLegibility;\n}\n#p9SloBc .plot-title {\n   fill: #474747;\n   font-family: Lucida Grande, sans-serif;\n   font-size: 16.0px;\n   font-weight: normal;\n   font-style: normal;   \n}\n#p9SloBc .plot-subtitle {\n   fill: #474747;\n   font-family: Lucida Grande, sans-serif;\n   font-size: 15.0px;\n   font-weight: normal;\n   font-style: normal;   \n}\n#p9SloBc .plot-caption {\n   fill: #474747;\n   font-family: Lucida Grande, sans-serif;\n   font-size: 13.0px;\n   font-weight: normal;\n   font-style: normal;   \n}\n#p9SloBc .legend-title {\n   fill: #474747;\n   font-family: Lucida Grande, sans-serif;\n   font-size: 15.0px;\n   font-weight: normal;\n   font-style: normal;   \n}\n#p9SloBc .legend-item {\n   fill: #474747;\n   font-family: Lucida Grande, sans-serif;\n   font-size: 13.0px;\n   font-weight: normal;\n   font-style: normal;   \n}\n#p9SloBc .axis-title-x {\n   fill: #474747;\n   font-family: Lucida Grande, sans-serif;\n   font-size: 15.0px;\n   font-weight: normal;\n   font-style: normal;   \n}\n#p9SloBc .axis-text-x {\n   fill: #474747;\n   font-family: Lucida Grande, sans-serif;\n   font-size: 13.0px;\n   font-weight: normal;\n   font-style: normal;   \n}\n#dFZCUR3 .axis-tooltip-text-x {\n   fill: #ffffff;\n   font-family: Lucida Grande, sans-serif;\n   font-size: 13.0px;\n   font-weight: normal;\n   font-style: normal;   \n}\n#p9SloBc .axis-title-y {\n   fill: #474747;\n   font-family: Lucida Grande, sans-serif;\n   font-size: 15.0px;\n   font-weight: normal;\n   font-style: normal;   \n}\n#p9SloBc .axis-text-y {\n   fill: #474747;\n   font-family: Lucida Grande, sans-serif;\n   font-size: 13.0px;\n   font-weight: normal;\n   font-style: normal;   \n}\n#dFZCUR3 .axis-tooltip-text-y {\n   fill: #ffffff;\n   font-family: Lucida Grande, sans-serif;\n   font-size: 13.0px;\n   font-weight: normal;\n   font-style: normal;   \n}\n#p9SloBc .facet-strip-text-x {\n   fill: #474747;\n   font-family: Lucida Grande, sans-serif;\n   font-size: 13.0px;\n   font-weight: normal;\n   font-style: normal;   \n}\n#p9SloBc .facet-strip-text-y {\n   fill: #474747;\n   font-family: Lucida Grande, sans-serif;\n   font-size: 13.0px;\n   font-weight: normal;\n   font-style: normal;   \n}\n#dFZCUR3 .tooltip-text {\n   fill: #474747;\n   font-family: Lucida Grande, sans-serif;\n   font-size: 13.0px;\n   font-weight: normal;\n   font-style: normal;   \n}\n#dFZCUR3 .tooltip-title {\n   fill: #474747;\n   font-family: Lucida Grande, sans-serif;\n   font-size: 13.0px;\n   font-weight: bold;\n   font-style: normal;   \n}\n#dFZCUR3 .tooltip-label {\n   fill: #474747;\n   font-family: Lucida Grande, sans-serif;\n   font-size: 13.0px;\n   font-weight: bold;\n   font-style: normal;   \n}\n\n  </style>\n  <g id=\"p9SloBc\">\n    <rect x=\"0.0\" y=\"0.0\" height=\"400.0\" width=\"600.0\" stroke=\"rgb(71,71,71)\" stroke-opacity=\"1.0\" stroke-width=\"0.0\" fill=\"rgb(255,255,255)\" fill-opacity=\"1.0\">\n    </rect>\n    <g transform=\"translate(23.0 10.0 ) \">\n      <g transform=\"translate(27.034701220281416 344.0 ) \">\n        <line x1=\"38.36540924816026\" y1=\"-0.0\" x2=\"38.36540924816026\" y2=\"-344.0\" stroke=\"rgb(233,233,233)\" stroke-opacity=\"1.0\" stroke-width=\"1.0\">\n        </line>\n        <line x1=\"116.74294816862353\" y1=\"-0.0\" x2=\"116.74294816862353\" y2=\"-344.0\" stroke=\"rgb(233,233,233)\" stroke-opacity=\"1.0\" stroke-width=\"1.0\">\n        </line>\n        <line x1=\"195.1204870890868\" y1=\"-0.0\" x2=\"195.1204870890868\" y2=\"-344.0\" stroke=\"rgb(233,233,233)\" stroke-opacity=\"1.0\" stroke-width=\"1.0\">\n        </line>\n        <line x1=\"273.4980260095501\" y1=\"-0.0\" x2=\"273.4980260095501\" y2=\"-344.0\" stroke=\"rgb(233,233,233)\" stroke-opacity=\"1.0\" stroke-width=\"1.0\">\n        </line>\n        <line x1=\"351.8755649300133\" y1=\"-0.0\" x2=\"351.8755649300133\" y2=\"-344.0\" stroke=\"rgb(233,233,233)\" stroke-opacity=\"1.0\" stroke-width=\"1.0\">\n        </line>\n        <line x1=\"430.2531038504766\" y1=\"-0.0\" x2=\"430.2531038504766\" y2=\"-344.0\" stroke=\"rgb(233,233,233)\" stroke-opacity=\"1.0\" stroke-width=\"1.0\">\n        </line>\n        <g transform=\"translate(38.36540924816026 0.0 ) \">\n          <line stroke-width=\"1.0\" stroke=\"rgb(71,71,71)\" stroke-opacity=\"1.0\" x2=\"0.0\" y2=\"4.0\">\n          </line>\n          <g transform=\"translate(0.0 7.0 ) \">\n            <text class=\"axis-text-x\" text-anchor=\"middle\" dy=\"0.7em\">\n            -4\n            </text>\n          </g>\n        </g>\n        <g transform=\"translate(116.74294816862353 0.0 ) \">\n          <line stroke-width=\"1.0\" stroke=\"rgb(71,71,71)\" stroke-opacity=\"1.0\" x2=\"0.0\" y2=\"4.0\">\n          </line>\n          <g transform=\"translate(0.0 7.0 ) \">\n            <text class=\"axis-text-x\" text-anchor=\"middle\" dy=\"0.7em\">\n            -2\n            </text>\n          </g>\n        </g>\n        <g transform=\"translate(195.1204870890868 0.0 ) \">\n          <line stroke-width=\"1.0\" stroke=\"rgb(71,71,71)\" stroke-opacity=\"1.0\" x2=\"0.0\" y2=\"4.0\">\n          </line>\n          <g transform=\"translate(0.0 7.0 ) \">\n            <text class=\"axis-text-x\" text-anchor=\"middle\" dy=\"0.7em\">\n            0\n            </text>\n          </g>\n        </g>\n        <g transform=\"translate(273.4980260095501 0.0 ) \">\n          <line stroke-width=\"1.0\" stroke=\"rgb(71,71,71)\" stroke-opacity=\"1.0\" x2=\"0.0\" y2=\"4.0\">\n          </line>\n          <g transform=\"translate(0.0 7.0 ) \">\n            <text class=\"axis-text-x\" text-anchor=\"middle\" dy=\"0.7em\">\n            2\n            </text>\n          </g>\n        </g>\n        <g transform=\"translate(351.8755649300133 0.0 ) \">\n          <line stroke-width=\"1.0\" stroke=\"rgb(71,71,71)\" stroke-opacity=\"1.0\" x2=\"0.0\" y2=\"4.0\">\n          </line>\n          <g transform=\"translate(0.0 7.0 ) \">\n            <text class=\"axis-text-x\" text-anchor=\"middle\" dy=\"0.7em\">\n            4\n            </text>\n          </g>\n        </g>\n        <g transform=\"translate(430.2531038504766 0.0 ) \">\n          <line stroke-width=\"1.0\" stroke=\"rgb(71,71,71)\" stroke-opacity=\"1.0\" x2=\"0.0\" y2=\"4.0\">\n          </line>\n          <g transform=\"translate(0.0 7.0 ) \">\n            <text class=\"axis-text-x\" text-anchor=\"middle\" dy=\"0.7em\">\n            6\n            </text>\n          </g>\n        </g>\n        <line x1=\"0.0\" y1=\"0.0\" x2=\"483.1274342089467\" y2=\"0.0\" stroke-width=\"1.0\" stroke=\"rgb(71,71,71)\" stroke-opacity=\"1.0\">\n        </line>\n      </g>\n      <g transform=\"translate(27.034701220281416 0.0 ) \">\n        <line x1=\"0.0\" y1=\"280.0585493367922\" x2=\"483.1274342089467\" y2=\"280.0585493367922\" stroke=\"rgb(233,233,233)\" stroke-opacity=\"1.0\" stroke-width=\"1.0\">\n        </line>\n        <line x1=\"0.0\" y1=\"216.1170986735845\" x2=\"483.1274342089467\" y2=\"216.1170986735845\" stroke=\"rgb(233,233,233)\" stroke-opacity=\"1.0\" stroke-width=\"1.0\">\n        </line>\n        <line x1=\"0.0\" y1=\"152.17564801037676\" x2=\"483.1274342089467\" y2=\"152.17564801037676\" stroke=\"rgb(233,233,233)\" stroke-opacity=\"1.0\" stroke-width=\"1.0\">\n        </line>\n        <line x1=\"0.0\" y1=\"88.23419734716902\" x2=\"483.1274342089467\" y2=\"88.23419734716902\" stroke=\"rgb(233,233,233)\" stroke-opacity=\"1.0\" stroke-width=\"1.0\">\n        </line>\n        <line x1=\"0.0\" y1=\"24.292746683961298\" x2=\"483.1274342089467\" y2=\"24.292746683961298\" stroke=\"rgb(233,233,233)\" stroke-opacity=\"1.0\" stroke-width=\"1.0\">\n        </line>\n        <g transform=\"translate(0.0 344.0 ) \">\n          <g transform=\"translate(-3.0 0.0 ) \">\n            <text class=\"axis-text-y\" text-anchor=\"end\" dy=\"0.35em\">\n            0.0\n            </text>\n          </g>\n        </g>\n        <g transform=\"translate(0.0 280.0585493367922 ) \">\n          <g transform=\"translate(-3.0 0.0 ) \">\n            <text class=\"axis-text-y\" text-anchor=\"end\" dy=\"0.35em\">\n            0.1\n            </text>\n          </g>\n        </g>\n        <g transform=\"translate(0.0 216.1170986735845 ) \">\n          <g transform=\"translate(-3.0 0.0 ) \">\n            <text class=\"axis-text-y\" text-anchor=\"end\" dy=\"0.35em\">\n            0.2\n            </text>\n          </g>\n        </g>\n        <g transform=\"translate(0.0 152.17564801037676 ) \">\n          <g transform=\"translate(-3.0 0.0 ) \">\n            <text class=\"axis-text-y\" text-anchor=\"end\" dy=\"0.35em\">\n            0.3\n            </text>\n          </g>\n        </g>\n        <g transform=\"translate(0.0 88.23419734716902 ) \">\n          <g transform=\"translate(-3.0 0.0 ) \">\n            <text class=\"axis-text-y\" text-anchor=\"end\" dy=\"0.35em\">\n            0.4\n            </text>\n          </g>\n        </g>\n        <g transform=\"translate(0.0 24.292746683961298 ) \">\n          <g transform=\"translate(-3.0 0.0 ) \">\n            <text class=\"axis-text-y\" text-anchor=\"end\" dy=\"0.35em\">\n            0.5\n            </text>\n          </g>\n        </g>\n      </g>\n      <g transform=\"translate(27.034701220281416 0.0 ) \" clip-path=\"url(#ci34FGp)\" clip-bounds-jfx=\"[rect (0.0, 0.0), (483.1274342089467, 344.0)]\">\n        <defs>\n          <clipPath id=\"ci34FGp\">\n            <rect x=\"0.0\" y=\"0.0\" width=\"483.1274342089467\" height=\"344.0\">\n            </rect>\n          </clipPath>\n        </defs>\n        <g>\n          <path d=\"M21.960337918588493 344.0 L21.960337918588493 344.0 L30.92374115066542 344.0 L39.88714438274235 344.0 L48.850547614819305 344.0 L57.81395084689623 344.0 L66.77735407897313 344.0 L75.74075731105009 338.25229741019217 L84.70416054312702 338.25229741019217 L93.66756377520396 344.0 L102.63096700728087 344.0 L111.59437023935781 338.25229741019217 L120.55777347143474 344.0 L129.52117670351168 315.26148705096074 L138.4845799355886 332.5045948203843 L147.44798316766554 292.27067669172936 L156.41138639974247 315.26148705096074 L165.37478963181943 275.02756892230576 L174.33819286389635 292.27067669172936 L183.30159609597328 269.27986633249793 L192.2649993280502 275.02756892230576 L201.22840256012714 269.27986633249793 L210.1918057922041 200.3074352548037 L219.155209024281 194.55973266499583 L228.11861225635795 137.08270676691734 L237.08201548843488 142.83040935672514 L246.04541872051183 85.35338345864665 L255.00882195258873 194.55973266499583 L263.9722251846657 223.2982456140351 L272.9356284167426 206.05513784461155 L281.8990316488196 154.32581453634086 L290.86243488089644 229.04594820384295 L299.82583811297343 263.53216374269005 L308.78924134505036 206.05513784461155 L317.7526445771273 229.04594820384295 L326.7160478092042 229.04594820384295 L335.67945104128114 292.27067669172936 L344.642854273358 280.77527151211365 L353.606257505435 303.766081871345 L362.569660737512 332.5045948203843 L371.53306396958885 292.27067669172936 L380.4964672016658 338.25229741019217 L389.45987043374276 321.00918964076857 L398.4232736658197 338.25229741019217 L407.38667689789656 344.0 L416.35008012997355 332.5045948203843 L425.31348336205053 338.25229741019217 L434.2768865941274 344.0 L443.24028982620433 344.0 L452.20369305828126 344.0 L461.1670962903582 338.25229741019217 L461.1670962903582 344.0 L452.20369305828126 344.0 L443.24028982620433 344.0 L434.2768865941274 344.0 L425.31348336205053 344.0 L416.35008012997355 344.0 L407.38667689789656 344.0 L398.4232736658197 344.0 L389.45987043374276 344.0 L380.4964672016658 344.0 L371.53306396958885 344.0 L362.569660737512 344.0 L353.606257505435 344.0 L344.642854273358 344.0 L335.67945104128114 344.0 L326.7160478092042 344.0 L317.7526445771273 344.0 L308.78924134505036 344.0 L299.82583811297343 344.0 L290.86243488089644 344.0 L281.8990316488196 344.0 L272.9356284167426 344.0 L263.9722251846657 344.0 L255.00882195258873 344.0 L246.04541872051183 344.0 L237.08201548843488 344.0 L228.11861225635795 344.0 L219.155209024281 344.0 L210.1918057922041 344.0 L201.22840256012714 344.0 L192.2649993280502 344.0 L183.30159609597328 344.0 L174.33819286389635 344.0 L165.37478963181943 344.0 L156.41138639974247 344.0 L147.44798316766554 344.0 L138.4845799355886 344.0 L129.52117670351168 344.0 L120.55777347143474 344.0 L111.59437023935781 344.0 L102.63096700728087 344.0 L93.66756377520396 344.0 L84.70416054312702 344.0 L75.74075731105009 344.0 L66.77735407897313 344.0 L57.81395084689623 344.0 L48.850547614819305 344.0 L39.88714438274235 344.0 L30.92374115066542 344.0 L21.960337918588493 344.0 Z\" fill=\"rgb(252,141,98)\" stroke-width=\"1.0\" fill-opacity=\"0.6\">\n          </path>\n        </g>\n        <g>\n          <path d=\"M21.960337918588493 344.0 L21.960337918588493 344.0 L30.92374115066542 344.0 L39.88714438274235 344.0 L48.850547614819305 344.0 L57.81395084689623 344.0 L66.77735407897313 344.0 L75.74075731105009 338.25229741019217 L84.70416054312702 338.25229741019217 L93.66756377520396 344.0 L102.63096700728087 344.0 L111.59437023935781 338.25229741019217 L120.55777347143474 344.0 L129.52117670351168 315.26148705096074 L138.4845799355886 332.5045948203843 L147.44798316766554 292.27067669172936 L156.41138639974247 315.26148705096074 L165.37478963181943 275.02756892230576 L174.33819286389635 292.27067669172936 L183.30159609597328 269.27986633249793 L192.2649993280502 275.02756892230576 L201.22840256012714 269.27986633249793 L210.1918057922041 200.3074352548037 L219.155209024281 194.55973266499583 L228.11861225635795 137.08270676691734 L237.08201548843488 142.83040935672514 L246.04541872051183 85.35338345864665 L255.00882195258873 194.55973266499583 L263.9722251846657 223.2982456140351 L272.9356284167426 206.05513784461155 L281.8990316488196 154.32581453634086 L290.86243488089644 229.04594820384295 L299.82583811297343 263.53216374269005 L308.78924134505036 206.05513784461155 L317.7526445771273 229.04594820384295 L326.7160478092042 229.04594820384295 L335.67945104128114 292.27067669172936 L344.642854273358 280.77527151211365 L353.606257505435 303.766081871345 L362.569660737512 332.5045948203843 L371.53306396958885 292.27067669172936 L380.4964672016658 338.25229741019217 L389.45987043374276 321.00918964076857 L398.4232736658197 338.25229741019217 L407.38667689789656 344.0 L416.35008012997355 332.5045948203843 L425.31348336205053 338.25229741019217 L434.2768865941274 344.0 L443.24028982620433 344.0 L452.20369305828126 344.0 L461.1670962903582 338.25229741019217 \" fill=\"none\" stroke-width=\"1.0\" stroke=\"rgb(0,0,0)\" stroke-opacity=\"1.0\">\n          </path>\n        </g>\n        <g>\n          <path d=\"M21.960337918588493 338.25229741019217 L21.960337918588493 338.25229741019217 L30.92374115066542 344.0 L39.88714438274235 344.0 L48.850547614819305 344.0 L57.81395084689623 344.0 L66.77735407897313 332.5045948203843 L75.74075731105009 338.25229741019217 L84.70416054312702 338.25229741019217 L93.66756377520396 338.25229741019217 L102.63096700728087 332.5045948203843 L111.59437023935781 332.5045948203843 L120.55777347143474 298.0183792815372 L129.52117670351168 269.27986633249793 L138.4845799355886 280.77527151211365 L147.44798316766554 177.3166248955723 L156.41138639974247 200.3074352548037 L165.37478963181943 148.578111946533 L174.33819286389635 171.56892230576443 L183.30159609597328 142.83040935672514 L192.2649993280502 16.380952380952408 L201.22840256012714 73.85797827903093 L210.1918057922041 108.34419381787805 L219.155209024281 91.10108604845453 L228.11861225635795 183.06432748538015 L237.08201548843488 200.3074352548037 L246.04541872051183 206.05513784461155 L255.00882195258873 280.77527151211365 L263.9722251846657 303.766081871345 L272.9356284167426 280.77527151211365 L281.8990316488196 315.26148705096074 L290.86243488089644 326.75689223057645 L299.82583811297343 338.25229741019217 L308.78924134505036 338.25229741019217 L317.7526445771273 344.0 L326.7160478092042 344.0 L335.67945104128114 344.0 L344.642854273358 344.0 L353.606257505435 344.0 L362.569660737512 344.0 L371.53306396958885 344.0 L380.4964672016658 344.0 L389.45987043374276 344.0 L398.4232736658197 344.0 L407.38667689789656 344.0 L416.35008012997355 344.0 L425.31348336205053 344.0 L434.2768865941274 344.0 L443.24028982620433 344.0 L452.20369305828126 344.0 L461.1670962903582 344.0 L461.1670962903582 344.0 L452.20369305828126 344.0 L443.24028982620433 344.0 L434.2768865941274 344.0 L425.31348336205053 344.0 L416.35008012997355 344.0 L407.38667689789656 344.0 L398.4232736658197 344.0 L389.45987043374276 344.0 L380.4964672016658 344.0 L371.53306396958885 344.0 L362.569660737512 344.0 L353.606257505435 344.0 L344.642854273358 344.0 L335.67945104128114 344.0 L326.7160478092042 344.0 L317.7526445771273 344.0 L308.78924134505036 344.0 L299.82583811297343 344.0 L290.86243488089644 344.0 L281.8990316488196 344.0 L272.9356284167426 344.0 L263.9722251846657 344.0 L255.00882195258873 344.0 L246.04541872051183 344.0 L237.08201548843488 344.0 L228.11861225635795 344.0 L219.155209024281 344.0 L210.1918057922041 344.0 L201.22840256012714 344.0 L192.2649993280502 344.0 L183.30159609597328 344.0 L174.33819286389635 344.0 L165.37478963181943 344.0 L156.41138639974247 344.0 L147.44798316766554 344.0 L138.4845799355886 344.0 L129.52117670351168 344.0 L120.55777347143474 344.0 L111.59437023935781 344.0 L102.63096700728087 344.0 L93.66756377520396 344.0 L84.70416054312702 344.0 L75.74075731105009 344.0 L66.77735407897313 344.0 L57.81395084689623 344.0 L48.850547614819305 344.0 L39.88714438274235 344.0 L30.92374115066542 344.0 L21.960337918588493 344.0 Z\" fill=\"rgb(102,194,165)\" stroke-width=\"1.0\" fill-opacity=\"0.6\">\n          </path>\n        </g>\n        <g>\n          <path d=\"M21.960337918588493 338.25229741019217 L21.960337918588493 338.25229741019217 L30.92374115066542 344.0 L39.88714438274235 344.0 L48.850547614819305 344.0 L57.81395084689623 344.0 L66.77735407897313 332.5045948203843 L75.74075731105009 338.25229741019217 L84.70416054312702 338.25229741019217 L93.66756377520396 338.25229741019217 L102.63096700728087 332.5045948203843 L111.59437023935781 332.5045948203843 L120.55777347143474 298.0183792815372 L129.52117670351168 269.27986633249793 L138.4845799355886 280.77527151211365 L147.44798316766554 177.3166248955723 L156.41138639974247 200.3074352548037 L165.37478963181943 148.578111946533 L174.33819286389635 171.56892230576443 L183.30159609597328 142.83040935672514 L192.2649993280502 16.380952380952408 L201.22840256012714 73.85797827903093 L210.1918057922041 108.34419381787805 L219.155209024281 91.10108604845453 L228.11861225635795 183.06432748538015 L237.08201548843488 200.3074352548037 L246.04541872051183 206.05513784461155 L255.00882195258873 280.77527151211365 L263.9722251846657 303.766081871345 L272.9356284167426 280.77527151211365 L281.8990316488196 315.26148705096074 L290.86243488089644 326.75689223057645 L299.82583811297343 338.25229741019217 L308.78924134505036 338.25229741019217 L317.7526445771273 344.0 L326.7160478092042 344.0 L335.67945104128114 344.0 L344.642854273358 344.0 L353.606257505435 344.0 L362.569660737512 344.0 L371.53306396958885 344.0 L380.4964672016658 344.0 L389.45987043374276 344.0 L398.4232736658197 344.0 L407.38667689789656 344.0 L416.35008012997355 344.0 L425.31348336205053 344.0 L434.2768865941274 344.0 L443.24028982620433 344.0 L452.20369305828126 344.0 L461.1670962903582 344.0 \" fill=\"none\" stroke-width=\"1.0\" stroke=\"rgb(0,0,0)\" stroke-opacity=\"1.0\">\n          </path>\n        </g>\n      </g>\n    </g>\n    <g transform=\"translate(14.5 182.0 ) rotate(-90.0 ) \">\n      <text class=\"axis-title-y\" y=\"0.0\" text-anchor=\"middle\">\n      STAT_DENSITY\n      </text>\n    </g>\n    <g transform=\"translate(291.5984183247548 391.5 ) \">\n      <text class=\"axis-title-x\" y=\"0.0\" text-anchor=\"middle\">\n      STAT_BINS\n      </text>\n    </g>\n    <g transform=\"translate(543.1621354292281 137.75 ) \">\n      <rect x=\"5.0\" y=\"5.0\" height=\"78.5\" width=\"46.83786457077187\" stroke=\"rgb(71,71,71)\" stroke-opacity=\"1.0\" stroke-width=\"0.0\" fill=\"rgb(255,255,255)\" fill-opacity=\"1.0\">\n      </rect>\n      <g transform=\"translate(10.0 10.0 ) \">\n        <g transform=\"translate(0.0 10.5 ) \">\n          <text class=\"legend-title\" y=\"0.0\">\n          cond\n          </text>\n        </g>\n        <g transform=\"translate(0.0 22.5 ) \">\n          <g transform=\"\">\n            <g>\n              <rect x=\"0.0\" y=\"0.0\" height=\"23.0\" width=\"23.0\" stroke-width=\"0.0\" fill=\"rgb(255,255,255)\" fill-opacity=\"1.0\">\n              </rect>\n              <g transform=\"translate(1.0 1.0 ) \">\n                <g>\n                  <rect x=\"0.0\" y=\"0.0\" height=\"21.0\" width=\"21.0\" stroke=\"rgb(0,0,0)\" stroke-opacity=\"1.0\" fill=\"rgb(102,194,165)\" fill-opacity=\"1.0\" stroke-width=\"1.5\">\n                  </rect>\n                </g>\n              </g>\n              <rect x=\"0.0\" y=\"0.0\" height=\"23.0\" width=\"23.0\" stroke=\"rgb(255,255,255)\" stroke-opacity=\"1.0\" stroke-width=\"1.0\" fill-opacity=\"0.0\">\n              </rect>\n            </g>\n            <g transform=\"translate(26.9903027277341 16.05 ) \">\n              <text class=\"legend-item\" y=\"0.0\">\n              A\n              </text>\n            </g>\n          </g>\n          <g transform=\"translate(0.0 23.0 ) \">\n            <g>\n              <rect x=\"0.0\" y=\"0.0\" height=\"23.0\" width=\"23.0\" stroke-width=\"0.0\" fill=\"rgb(255,255,255)\" fill-opacity=\"1.0\">\n              </rect>\n              <g transform=\"translate(1.0 1.0 ) \">\n                <g>\n                  <rect x=\"0.0\" y=\"0.0\" height=\"21.0\" width=\"21.0\" stroke=\"rgb(0,0,0)\" stroke-opacity=\"1.0\" fill=\"rgb(252,141,98)\" fill-opacity=\"1.0\" stroke-width=\"1.5\">\n                  </rect>\n                </g>\n              </g>\n              <rect x=\"0.0\" y=\"0.0\" height=\"23.0\" width=\"23.0\" stroke=\"rgb(255,255,255)\" stroke-opacity=\"1.0\" stroke-width=\"1.0\" fill-opacity=\"0.0\">\n              </rect>\n            </g>\n            <g transform=\"translate(26.9903027277341 16.05 ) \">\n              <text class=\"legend-item\" y=\"0.0\">\n              B\n              </text>\n            </g>\n          </g>\n        </g>\n      </g>\n    </g>\n  </g>\n  <g id=\"dFZCUR3\">\n  </g>\n</svg>\n        <script>document.getElementById(\"a79c8c1f-c3f2-4dd5-802c-423580c6c3c3\").style.display = \"none\";</script>",
      "application/plot+json": {
       "output_type": "lets_plot_spec",
       "output": {
        "mapping": {},
        "data": {},
        "kind": "plot",
        "scales": [
         {
          "aesthetic": "x",
          "limits": [
           null,
           null
          ]
         },
         {
          "aesthetic": "y",
          "limits": [
           null,
           null
          ]
         },
         {
          "aesthetic": "fill",
          "discrete": true
         }
        ],
        "layers": [
         {
          "mapping": {
           "x": "STAT_BINS",
           "y": "STAT_DENSITY",
           "fill": "cond",
           "group": "&merged_groups"
          },
          "stat": "identity",
          "data": {
           "&merged_groups": [
            "A",
            "A",
            "A",
            "A",
            "A",
            "A",
            "A",
            "A",
            "A",
            "A",
            "A",
            "A",
            "A",
            "A",
            "A",
            "A",
            "A",
            "A",
            "A",
            "A",
            "A",
            "A",
            "A",
            "A",
            "A",
            "A",
            "A",
            "A",
            "A",
            "A",
            "A",
            "A",
            "A",
            "A",
            "A",
            "A",
            "A",
            "A",
            "A",
            "A",
            "A",
            "A",
            "A",
            "A",
            "A",
            "A",
            "A",
            "A",
            "A",
            "A",
            "B",
            "B",
            "B",
            "B",
            "B",
            "B",
            "B",
            "B",
            "B",
            "B",
            "B",
            "B",
            "B",
            "B",
            "B",
            "B",
            "B",
            "B",
            "B",
            "B",
            "B",
            "B",
            "B",
            "B",
            "B",
            "B",
            "B",
            "B",
            "B",
            "B",
            "B",
            "B",
            "B",
            "B",
            "B",
            "B",
            "B",
            "B",
            "B",
            "B",
            "B",
            "B",
            "B",
            "B",
            "B",
            "B",
            "B",
            "B",
            "B",
            "B"
           ],
           "STAT_DENSITY": [
            0.008989009,
            0.0,
            0.0,
            0.0,
            0.0,
            0.017978018,
            0.008989009,
            0.008989009,
            0.008989009,
            0.017978018,
            0.017978018,
            0.07191207,
            0.11685711,
            0.0988791,
            0.26068124,
            0.22472522,
            0.3056263,
            0.26967025,
            0.3146153,
            0.5123735,
            0.4224834,
            0.36854935,
            0.3955164,
            0.25169224,
            0.22472522,
            0.21573621,
            0.0988791,
            0.06292306,
            0.0988791,
            0.044945043,
            0.026967026,
            0.008989009,
            0.008989009,
            0.0,
            0.0,
            0.0,
            0.0,
            0.0,
            0.0,
            0.0,
            0.0,
            0.0,
            0.0,
            0.0,
            0.0,
            0.0,
            0.0,
            0.0,
            0.0,
            0.0,
            0.0,
            0.0,
            0.0,
            0.0,
            0.0,
            0.0,
            0.008989009,
            0.008989009,
            0.0,
            0.0,
            0.008989009,
            0.0,
            0.044945043,
            0.017978018,
            0.08090108,
            0.044945043,
            0.107868105,
            0.08090108,
            0.11685711,
            0.107868105,
            0.11685711,
            0.22472522,
            0.23371422,
            0.32360432,
            0.3146153,
            0.4045054,
            0.23371422,
            0.18876918,
            0.21573621,
            0.2966373,
            0.17978017,
            0.12584612,
            0.21573621,
            0.17978017,
            0.17978017,
            0.08090108,
            0.0988791,
            0.06292306,
            0.017978018,
            0.08090108,
            0.008989009,
            0.035956036,
            0.008989009,
            0.0,
            0.017978018,
            0.008989009,
            0.0,
            0.0,
            0.0,
            0.008989009
           ],
           "cond": [
            "A",
            "A",
            "A",
            "A",
            "A",
            "A",
            "A",
            "A",
            "A",
            "A",
            "A",
            "A",
            "A",
            "A",
            "A",
            "A",
            "A",
            "A",
            "A",
            "A",
            "A",
            "A",
            "A",
            "A",
            "A",
            "A",
            "A",
            "A",
            "A",
            "A",
            "A",
            "A",
            "A",
            "A",
            "A",
            "A",
            "A",
            "A",
            "A",
            "A",
            "A",
            "A",
            "A",
            "A",
            "A",
            "A",
            "A",
            "A",
            "A",
            "A",
            "B",
            "B",
            "B",
            "B",
            "B",
            "B",
            "B",
            "B",
            "B",
            "B",
            "B",
            "B",
            "B",
            "B",
            "B",
            "B",
            "B",
            "B",
            "B",
            "B",
            "B",
            "B",
            "B",
            "B",
            "B",
            "B",
            "B",
            "B",
            "B",
            "B",
            "B",
            "B",
            "B",
            "B",
            "B",
            "B",
            "B",
            "B",
            "B",
            "B",
            "B",
            "B",
            "B",
            "B",
            "B",
            "B",
            "B",
            "B",
            "B",
            "B"
           ],
           "STAT_BINS": [
            -4.418617,
            -4.189893,
            -3.961169,
            -3.7324452,
            -3.5037215,
            -3.2749977,
            -3.046274,
            -2.8175502,
            -2.5888264,
            -2.3601027,
            -2.131379,
            -1.9026551,
            -1.6739314,
            -1.4452076,
            -1.2164838,
            -0.98776007,
            -0.75903624,
            -0.5303125,
            -0.3015887,
            -0.07286495,
            0.15585883,
            0.3845826,
            0.61330634,
            0.84203017,
            1.0707539,
            1.2994777,
            1.5282015,
            1.7569252,
            1.985649,
            2.2143729,
            2.4430966,
            2.6718204,
            2.9005442,
            3.129268,
            3.3579917,
            3.5867155,
            3.8154392,
            4.0441628,
            4.2728868,
            4.5016108,
            4.7303343,
            4.9590583,
            5.187782,
            5.416506,
            5.6452293,
            5.8739533,
            6.102677,
            6.331401,
            6.5601244,
            6.7888484,
            -4.418617,
            -4.189893,
            -3.961169,
            -3.7324452,
            -3.5037215,
            -3.2749977,
            -3.046274,
            -2.8175502,
            -2.5888264,
            -2.3601027,
            -2.131379,
            -1.9026551,
            -1.6739314,
            -1.4452076,
            -1.2164838,
            -0.98776007,
            -0.75903624,
            -0.5303125,
            -0.3015887,
            -0.07286495,
            0.15585883,
            0.3845826,
            0.61330634,
            0.84203017,
            1.0707539,
            1.2994777,
            1.5282015,
            1.7569252,
            1.985649,
            2.2143729,
            2.4430966,
            2.6718204,
            2.9005442,
            3.129268,
            3.3579917,
            3.5867155,
            3.8154392,
            4.0441628,
            4.2728868,
            4.5016108,
            4.7303343,
            4.9590583,
            5.187782,
            5.416506,
            5.6452293,
            5.8739533,
            6.102677,
            6.331401,
            6.5601244,
            6.7888484
           ]
          },
          "color": "#000000",
          "size": 0.5,
          "sampling": "none",
          "alpha": 0.6,
          "position": "identity",
          "geom": "area"
         }
        ]
       },
       "apply_color_scheme": true,
       "swing_enabled": true
      }
     },
     "execution_count": 12,
     "metadata": {},
     "output_type": "execute_result"
    }
   ],
   "source": [
    "plot(data) {\n",
    "    groupBy(cond) {\n",
    "        statBin(rating, bins = Bins.byNumber(50)) {\n",
    "            area {\n",
    "                x(Stat.BINS)\n",
    "                y(Stat.DENSITY)\n",
    "                \n",
    "                fillColor(cond)\n",
    "                alpha = .6\n",
    "                \n",
    "                borderLine {\n",
    "                    color = Color.BLACK\n",
    "                    width = .5\n",
    "                }\n",
    "            }\n",
    "        }\n",
    "    }\n",
    "}"
   ]
  }
 ],
 "metadata": {
  "datalore": {
   "base_environment": "default",
   "computation_mode": "JUPYTER",
   "package_manager": "pip",
   "packages": [],
   "version": 1
  },
  "kernelspec": {
   "display_name": "Kotlin",
   "language": "kotlin",
   "name": "kotlin"
  },
  "language_info": {
   "codemirror_mode": "text/x-kotlin",
   "file_extension": ".kt",
   "mimetype": "text/x-kotlin",
   "name": "kotlin",
   "nbconvert_exporter": "",
   "pygments_lexer": "kotlin",
   "version": "1.8.20-Beta"
  }
 },
 "nbformat": 4,
 "nbformat_minor": 4
}
