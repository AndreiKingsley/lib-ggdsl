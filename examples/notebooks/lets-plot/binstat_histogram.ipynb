{
 "cells": [
  {
   "cell_type": "code",
   "execution_count": 1,
   "metadata": {
    "datalore": {
     "hide_input_from_viewers": false,
     "hide_output_from_viewers": false,
     "node_id": "UAJZ9WlEGslnW9Rgbww7eT",
     "type": "CODE"
    },
    "pycharm": {
     "name": "#%%\n"
    },
    "ExecuteTime": {
     "end_time": "2023-05-25T10:37:31.662385Z",
     "start_time": "2023-05-25T10:37:08.654872Z"
    }
   },
   "outputs": [
    {
     "data": {
      "text/html": "            <div id=\"kotlin_out_0\"/>\n            <script type=\"text/javascript\">\n                            if(!window.kotlinQueues) {\n                window.kotlinQueues = {};\n            }\n            if(!window.kotlinQueues[\"kandyLetsPlot\"]) {\n                var resQueue = [];\n                window.kotlinQueues[\"kandyLetsPlot\"] = resQueue;\n                window[\"call_kandyLetsPlot\"] = function(f) {\n                    resQueue.push(f);\n                }\n            }\n            (function (){\n                var modifiers = [(function(script) {\n    script.src = \"https://cdn.jsdelivr.net/gh/JetBrains/lets-plot@v3.1.0/js-package/distr/lets-plot.min.js\"\n    script.type = \"text/javascript\";\n})];\n                var e = document.getElementById(\"kotlin_out_0\");\n                modifiers.forEach(function (gen) {\n                    var script = document.createElement(\"script\");\n                    gen(script)\n                    script.addEventListener(\"load\", function() {\n                        window[\"call_kandyLetsPlot\"] = function(f) {f();};\n                        window.kotlinQueues[\"kandyLetsPlot\"].forEach(function(f) {f();});\n                        window.kotlinQueues[\"kandyLetsPlot\"] = [];\n                    }, false);\n                    script.addEventListener(\"error\", function() {\n                        window[\"call_kandyLetsPlot\"] = function(f) {};\n                        window.kotlinQueues[\"kandyLetsPlot\"] = [];\n                        var div = document.createElement(\"div\");\n                        div.style.color = 'darkred';\n                        div.textContent = 'Error loading resource kandyLetsPlot';\n                        document.getElementById(\"kotlin_out_0\").appendChild(div);\n                    }, false);\n                    \n                    e.appendChild(script);\n                });\n            })();\n            </script>"
     },
     "metadata": {},
     "output_type": "display_data"
    }
   ],
   "source": [
    "%useLatestDescriptors\n",
    "%use kandy\n",
    "%use dataframe"
   ]
  },
  {
   "cell_type": "code",
   "execution_count": 2,
   "metadata": {
    "datalore": {
     "hide_input_from_viewers": false,
     "hide_output_from_viewers": false,
     "node_id": "SVzS3HJP3fGxhUMsKqG3GF",
     "type": "CODE"
    },
    "pycharm": {
     "name": "#%%\n"
    },
    "ExecuteTime": {
     "end_time": "2023-05-25T10:37:31.894124Z",
     "start_time": "2023-05-25T10:37:31.661727Z"
    }
   },
   "outputs": [],
   "source": [
    "import java.util.*\n",
    "val numbers = IntArray(1000) {Random().nextGaussian().times(25).toInt()}.toList()"
   ]
  },
  {
   "cell_type": "code",
   "execution_count": 3,
   "metadata": {
    "ExecuteTime": {
     "end_time": "2023-05-25T10:37:32.241946Z",
     "start_time": "2023-05-25T10:37:31.896225Z"
    }
   },
   "outputs": [
    {
     "data": {
      "text/html": "            <script type=\"text/javascript\" data-lets-plot-script=\"library\" src=\"https://cdn.jsdelivr.net/gh/JetBrains/lets-plot@v3.1.0/js-package/distr/lets-plot.min.js\"></script>    \n               <div id=\"BCHcxU\"></div>\n   <script type=\"text/javascript\" data-lets-plot-script=\"plot\">\n       var plotSpec={\n\"mapping\":{\n},\n\"data\":{\n},\n\"kind\":\"plot\",\n\"scales\":[{\n\"aesthetic\":\"x\",\n\"limits\":[null,null]\n},{\n\"aesthetic\":\"y\",\n\"limits\":[null,null]\n}],\n\"layers\":[{\n\"mapping\":{\n\"x\":\"STAT_BINS\",\n\"y\":\"STAT_COUNT\"\n},\n\"stat\":\"identity\",\n\"data\":{\n\"STAT_COUNT\":[1.0,8.0,8.0,15.0,29.0,58.0,80.0,132.0,109.0,125.0,138.0,95.0,92.0,43.0,34.0,14.0,6.0,8.0,4.0,1.0],\n\"STAT_BINS\":[-74.3035,-65.8505,-57.3975,-48.944500000000005,-40.4915,-32.0385,-23.585500000000003,-15.132500000000007,-6.679500000000004,1.7734999999999985,10.226500000000001,18.67949999999999,27.132499999999993,35.585499999999996,44.038499999999985,52.49149999999999,60.94449999999999,69.3975,77.8505,86.3035]\n},\n\"sampling\":\"none\",\n\"position\":\"dodge\",\n\"geom\":\"bar\"\n}]\n};\n       var plotContainer = document.getElementById(\"BCHcxU\");\n       LetsPlot.buildPlotFromProcessedSpecs(plotSpec, -1, -1, plotContainer);\n   </script>    ",
      "application/plot+json": {
       "output_type": "lets_plot_spec",
       "output": {
        "mapping": {},
        "data": {},
        "kind": "plot",
        "scales": [
         {
          "aesthetic": "x",
          "limits": [
           null,
           null
          ]
         },
         {
          "aesthetic": "y",
          "limits": [
           null,
           null
          ]
         }
        ],
        "layers": [
         {
          "mapping": {
           "x": "STAT_BINS",
           "y": "STAT_COUNT"
          },
          "stat": "identity",
          "data": {
           "STAT_COUNT": [
            1.0,
            8.0,
            8.0,
            15.0,
            29.0,
            58.0,
            80.0,
            132.0,
            109.0,
            125.0,
            138.0,
            95.0,
            92.0,
            43.0,
            34.0,
            14.0,
            6.0,
            8.0,
            4.0,
            1.0
           ],
           "STAT_BINS": [
            -74.3035,
            -65.8505,
            -57.3975,
            -48.9445,
            -40.4915,
            -32.0385,
            -23.5855,
            -15.1325,
            -6.6795,
            1.7735,
            10.2265,
            18.6795,
            27.1325,
            35.5855,
            44.0385,
            52.4915,
            60.9445,
            69.3975,
            77.8505,
            86.3035
           ]
          },
          "sampling": "none",
          "position": "dodge",
          "geom": "bar"
         }
        ]
       },
       "apply_color_scheme": true,
       "swing_enabled": true
      }
     },
     "execution_count": 3,
     "metadata": {},
     "output_type": "execute_result"
    }
   ],
   "source": [
    "plot {\n",
    "    histogram(numbers)\n",
    "}"
   ]
  },
  {
   "cell_type": "code",
   "execution_count": 4,
   "metadata": {
    "ExecuteTime": {
     "end_time": "2023-05-25T10:37:32.335840Z",
     "start_time": "2023-05-25T10:37:32.242892Z"
    }
   },
   "outputs": [
    {
     "data": {
      "text/html": "            <script type=\"text/javascript\" data-lets-plot-script=\"library\" src=\"https://cdn.jsdelivr.net/gh/JetBrains/lets-plot@v3.1.0/js-package/distr/lets-plot.min.js\"></script>    \n               <div id=\"o5pnHN\"></div>\n   <script type=\"text/javascript\" data-lets-plot-script=\"plot\">\n       var plotSpec={\n\"mapping\":{\n},\n\"data\":{\n},\n\"kind\":\"plot\",\n\"scales\":[{\n\"aesthetic\":\"x\",\n\"limits\":[null,null]\n},{\n\"aesthetic\":\"y\",\n\"limits\":[null,null]\n}],\n\"layers\":[{\n\"mapping\":{\n\"x\":\"STAT_BINS\",\n\"y\":\"STAT_COUNT\"\n},\n\"stat\":\"identity\",\n\"data\":{\n\"STAT_COUNT\":[1.0,26.0,92.0,247.0,305.0,226.0,77.0,21.0,5.0,0.0],\n\"STAT_BINS\":[-77.0,-57.0,-37.0,-17.0,3.0,23.0,43.0,63.0,83.0,103.0]\n},\n\"sampling\":\"none\",\n\"position\":\"dodge\",\n\"geom\":\"bar\"\n}]\n};\n       var plotContainer = document.getElementById(\"o5pnHN\");\n       LetsPlot.buildPlotFromProcessedSpecs(plotSpec, -1, -1, plotContainer);\n   </script>    ",
      "application/plot+json": {
       "output_type": "lets_plot_spec",
       "output": {
        "mapping": {},
        "data": {},
        "kind": "plot",
        "scales": [
         {
          "aesthetic": "x",
          "limits": [
           null,
           null
          ]
         },
         {
          "aesthetic": "y",
          "limits": [
           null,
           null
          ]
         }
        ],
        "layers": [
         {
          "mapping": {
           "x": "STAT_BINS",
           "y": "STAT_COUNT"
          },
          "stat": "identity",
          "data": {
           "STAT_COUNT": [
            1.0,
            26.0,
            92.0,
            247.0,
            305.0,
            226.0,
            77.0,
            21.0,
            5.0,
            0.0
           ],
           "STAT_BINS": [
            -77.0,
            -57.0,
            -37.0,
            -17.0,
            3.0,
            23.0,
            43.0,
            63.0,
            83.0,
            103.0
           ]
          },
          "sampling": "none",
          "position": "dodge",
          "geom": "bar"
         }
        ]
       },
       "apply_color_scheme": true,
       "swing_enabled": true
      }
     },
     "execution_count": 4,
     "metadata": {},
     "output_type": "execute_result"
    }
   ],
   "source": [
    "plot {\n",
    "    histogram(numbers, Bins.byWidth(20.0))\n",
    "}"
   ]
  },
  {
   "cell_type": "code",
   "execution_count": 5,
   "metadata": {
    "ExecuteTime": {
     "end_time": "2023-05-25T10:37:32.434668Z",
     "start_time": "2023-05-25T10:37:32.336922Z"
    }
   },
   "outputs": [
    {
     "data": {
      "text/html": "            <script type=\"text/javascript\" data-lets-plot-script=\"library\" src=\"https://cdn.jsdelivr.net/gh/JetBrains/lets-plot@v3.1.0/js-package/distr/lets-plot.min.js\"></script>    \n               <div id=\"qLViA8\"></div>\n   <script type=\"text/javascript\" data-lets-plot-script=\"plot\">\n       var plotSpec={\n\"mapping\":{\n},\n\"data\":{\n},\n\"kind\":\"plot\",\n\"scales\":[{\n\"aesthetic\":\"x\",\n\"limits\":[null,null]\n},{\n\"aesthetic\":\"y\",\n\"limits\":[null,null]\n}],\n\"layers\":[{\n\"mapping\":{\n\"x\":\"STAT_BINS\",\n\"y\":\"STAT_COUNT\"\n},\n\"stat\":\"identity\",\n\"data\":{\n\"STAT_COUNT\":[1.0,18.0,32.0,108.0,192.0,214.0,213.0,135.0,57.0,17.0,11.0,2.0],\n\"STAT_BINS\":[-74.86527777777778,-60.1625,-45.459722222222226,-30.756944444444443,-16.054166666666667,-1.3513888888888914,13.351388888888891,28.05416666666666,42.75694444444444,57.45972222222221,72.1625,86.86527777777778]\n},\n\"sampling\":\"none\",\n\"position\":\"dodge\",\n\"geom\":\"bar\"\n}]\n};\n       var plotContainer = document.getElementById(\"qLViA8\");\n       LetsPlot.buildPlotFromProcessedSpecs(plotSpec, -1, -1, plotContainer);\n   </script>    ",
      "application/plot+json": {
       "output_type": "lets_plot_spec",
       "output": {
        "mapping": {},
        "data": {},
        "kind": "plot",
        "scales": [
         {
          "aesthetic": "x",
          "limits": [
           null,
           null
          ]
         },
         {
          "aesthetic": "y",
          "limits": [
           null,
           null
          ]
         }
        ],
        "layers": [
         {
          "mapping": {
           "x": "STAT_BINS",
           "y": "STAT_COUNT"
          },
          "stat": "identity",
          "data": {
           "STAT_COUNT": [
            1.0,
            18.0,
            32.0,
            108.0,
            192.0,
            214.0,
            213.0,
            135.0,
            57.0,
            17.0,
            11.0,
            2.0
           ],
           "STAT_BINS": [
            -74.86528,
            -60.1625,
            -45.45972,
            -30.756945,
            -16.054167,
            -1.3513889,
            13.351389,
            28.054167,
            42.756943,
            57.45972,
            72.1625,
            86.86528
           ]
          },
          "sampling": "none",
          "position": "dodge",
          "geom": "bar"
         }
        ]
       },
       "apply_color_scheme": true,
       "swing_enabled": true
      }
     },
     "execution_count": 5,
     "metadata": {},
     "output_type": "execute_result"
    }
   ],
   "source": [
    "plot {\n",
    "    histogram(numbers, Bins.byNumber(12))\n",
    "}"
   ]
  },
  {
   "cell_type": "code",
   "execution_count": 6,
   "metadata": {
    "ExecuteTime": {
     "end_time": "2023-05-25T10:37:32.632162Z",
     "start_time": "2023-05-25T10:37:32.435356Z"
    }
   },
   "outputs": [
    {
     "data": {
      "text/html": "            <script type=\"text/javascript\" data-lets-plot-script=\"library\" src=\"https://cdn.jsdelivr.net/gh/JetBrains/lets-plot@v3.1.0/js-package/distr/lets-plot.min.js\"></script>    \n               <div id=\"mXMiyK\"></div>\n   <script type=\"text/javascript\" data-lets-plot-script=\"plot\">\n       var plotSpec={\n\"mapping\":{\n},\n\"data\":{\n},\n\"kind\":\"plot\",\n\"scales\":[{\n\"aesthetic\":\"x\",\n\"limits\":[null,null]\n},{\n\"aesthetic\":\"y\",\n\"limits\":[null,null]\n}],\n\"layers\":[{\n\"mapping\":{\n\"x\":\"STAT_BINS\",\n\"y\":\"STAT_DENSITY\"\n},\n\"stat\":\"identity\",\n\"data\":{\n\"STAT_DENSITY\":[1.2658227848101264E-4,0.0010126582278481011,0.0010126582278481011,0.0018987341772151896,0.0036708860759493665,0.007341772151898733,0.010126582278481011,0.01670886075949367,0.013797468354430378,0.01582278481012658,0.017468354430379744,0.0120253164556962,0.011645569620253163,0.005443037974683543,0.00430379746835443,0.001772151898734177,7.594936708860758E-4,0.0010126582278481011,5.063291139240506E-4,1.2658227848101264E-4],\n\"STAT_BINS\":[-74.3035,-65.8505,-57.3975,-48.944500000000005,-40.4915,-32.0385,-23.585500000000003,-15.132500000000007,-6.679500000000004,1.7734999999999985,10.226500000000001,18.67949999999999,27.132499999999993,35.585499999999996,44.038499999999985,52.49149999999999,60.94449999999999,69.3975,77.8505,86.3035]\n},\n\"sampling\":\"none\",\n\"position\":\"dodge\",\n\"geom\":\"bar\",\n\"fill\":\"#ea7ccc\"\n}]\n};\n       var plotContainer = document.getElementById(\"mXMiyK\");\n       LetsPlot.buildPlotFromProcessedSpecs(plotSpec, -1, -1, plotContainer);\n   </script>    ",
      "application/plot+json": {
       "output_type": "lets_plot_spec",
       "output": {
        "mapping": {},
        "data": {},
        "kind": "plot",
        "scales": [
         {
          "aesthetic": "x",
          "limits": [
           null,
           null
          ]
         },
         {
          "aesthetic": "y",
          "limits": [
           null,
           null
          ]
         }
        ],
        "layers": [
         {
          "mapping": {
           "x": "STAT_BINS",
           "y": "STAT_DENSITY"
          },
          "stat": "identity",
          "data": {
           "STAT_DENSITY": [
            1.2658228E-4,
            0.0010126582,
            0.0010126582,
            0.0018987341,
            0.0036708862,
            0.0073417723,
            0.010126582,
            0.01670886,
            0.0137974685,
            0.015822785,
            0.017468354,
            0.012025316,
            0.0116455695,
            0.005443038,
            0.0043037976,
            0.0017721519,
            7.594937E-4,
            0.0010126582,
            5.063291E-4,
            1.2658228E-4
           ],
           "STAT_COUNT": [
            1.0,
            8.0,
            8.0,
            15.0,
            29.0,
            58.0,
            80.0,
            132.0,
            109.0,
            125.0,
            138.0,
            95.0,
            92.0,
            43.0,
            34.0,
            14.0,
            6.0,
            8.0,
            4.0,
            1.0
           ],
           "STAT_BINS": [
            -74.3035,
            -65.8505,
            -57.3975,
            -48.9445,
            -40.4915,
            -32.0385,
            -23.5855,
            -15.1325,
            -6.6795,
            1.7735,
            10.2265,
            18.6795,
            27.1325,
            35.5855,
            44.0385,
            52.4915,
            60.9445,
            69.3975,
            77.8505,
            86.3035
           ]
          },
          "sampling": "none",
          "position": "dodge",
          "geom": "bar",
          "fill": "#ea7ccc"
         }
        ]
       },
       "apply_color_scheme": true,
       "swing_enabled": true
      }
     },
     "execution_count": 6,
     "metadata": {},
     "output_type": "execute_result"
    }
   ],
   "source": [
    "plot {\n",
    "    histogram(numbers) {\n",
    "        y(Stat.DENSITY)\n",
    "        fillColor = Color.LIGHT_PURPLE\n",
    "    }\n",
    "}"
   ]
  },
  {
   "cell_type": "code",
   "execution_count": 7,
   "metadata": {
    "ExecuteTime": {
     "end_time": "2023-05-25T10:37:33.035302Z",
     "start_time": "2023-05-25T10:37:32.636712Z"
    }
   },
   "outputs": [],
   "source": [
    "val sampleDF = dataFrameOf(\"sample\" to numbers)"
   ]
  },
  {
   "cell_type": "code",
   "execution_count": 8,
   "metadata": {
    "ExecuteTime": {
     "end_time": "2023-05-25T10:37:33.189069Z",
     "start_time": "2023-05-25T10:37:33.035636Z"
    }
   },
   "outputs": [
    {
     "data": {
      "text/html": "            <script type=\"text/javascript\" data-lets-plot-script=\"library\" src=\"https://cdn.jsdelivr.net/gh/JetBrains/lets-plot@v3.1.0/js-package/distr/lets-plot.min.js\"></script>    \n               <div id=\"4L7cCl\"></div>\n   <script type=\"text/javascript\" data-lets-plot-script=\"plot\">\n       var plotSpec={\n\"mapping\":{\n},\n\"data\":{\n},\n\"kind\":\"plot\",\n\"scales\":[{\n\"aesthetic\":\"x\",\n\"limits\":[null,null]\n},{\n\"aesthetic\":\"y\",\n\"limits\":[null,null]\n}],\n\"layers\":[{\n\"mapping\":{\n\"x\":\"STAT_BINS\",\n\"y\":\"STAT_COUNT\"\n},\n\"stat\":\"identity\",\n\"data\":{\n\"STAT_COUNT\":[1.0,4.0,12.0,10.0,24.0,51.0,81.0,114.0,106.0,148.0,120.0,118.0,82.0,60.0,27.0,19.0,10.0,7.0,4.0,2.0],\n\"STAT_BINS\":[-76.077,-67.624,-59.171,-50.718,-42.265,-33.812,-25.359,-16.906000000000006,-8.453000000000003,0.0,8.453000000000003,16.90599999999999,25.358999999999995,33.812,42.264999999999986,50.71799999999999,59.17099999999999,67.624,76.077,84.53]\n},\n\"sampling\":\"none\",\n\"width\":0.5,\n\"position\":\"dodge\",\n\"geom\":\"bar\"\n}]\n};\n       var plotContainer = document.getElementById(\"4L7cCl\");\n       LetsPlot.buildPlotFromProcessedSpecs(plotSpec, -1, -1, plotContainer);\n   </script>    ",
      "application/plot+json": {
       "output_type": "lets_plot_spec",
       "output": {
        "mapping": {},
        "data": {},
        "kind": "plot",
        "scales": [
         {
          "aesthetic": "x",
          "limits": [
           null,
           null
          ]
         },
         {
          "aesthetic": "y",
          "limits": [
           null,
           null
          ]
         }
        ],
        "layers": [
         {
          "mapping": {
           "x": "STAT_BINS",
           "y": "STAT_COUNT"
          },
          "stat": "identity",
          "data": {
           "STAT_COUNT": [
            1.0,
            4.0,
            12.0,
            10.0,
            24.0,
            51.0,
            81.0,
            114.0,
            106.0,
            148.0,
            120.0,
            118.0,
            82.0,
            60.0,
            27.0,
            19.0,
            10.0,
            7.0,
            4.0,
            2.0
           ],
           "STAT_BINS": [
            -76.077,
            -67.624,
            -59.171,
            -50.718,
            -42.265,
            -33.812,
            -25.359,
            -16.906,
            -8.453,
            0.0,
            8.453,
            16.906,
            25.359,
            33.812,
            42.265,
            50.718,
            59.171,
            67.624,
            76.077,
            84.53
           ]
          },
          "sampling": "none",
          "width": 0.5,
          "position": "dodge",
          "geom": "bar"
         }
        ]
       },
       "apply_color_scheme": true,
       "swing_enabled": true
      }
     },
     "execution_count": 8,
     "metadata": {},
     "output_type": "execute_result"
    }
   ],
   "source": [
    "sampleDF.plot { \n",
    "    histogram(sample, binXPos = BinXPos.center(0.0)) {\n",
    "        width = 0.5\n",
    "    }\n",
    "}"
   ]
  },
  {
   "cell_type": "code",
   "execution_count": 9,
   "metadata": {
    "ExecuteTime": {
     "end_time": "2023-05-25T10:37:33.358642Z",
     "start_time": "2023-05-25T10:37:33.189268Z"
    }
   },
   "outputs": [
    {
     "data": {
      "text/html": "            <script type=\"text/javascript\" data-lets-plot-script=\"library\" src=\"https://cdn.jsdelivr.net/gh/JetBrains/lets-plot@v3.1.0/js-package/distr/lets-plot.min.js\"></script>    \n               <div id=\"sGk6jR\"></div>\n   <script type=\"text/javascript\" data-lets-plot-script=\"plot\">\n       var plotSpec={\n\"mapping\":{\n},\n\"data\":{\n},\n\"kind\":\"plot\",\n\"scales\":[{\n\"aesthetic\":\"x\",\n\"limits\":[null,null]\n},{\n\"aesthetic\":\"y\",\n\"limits\":[null,null]\n}],\n\"layers\":[{\n\"mapping\":{\n\"x\":\"STAT_BINS\",\n\"y\":\"STAT_COUNT\"\n},\n\"stat\":\"identity\",\n\"data\":{\n\"STAT_COUNT\":[5.0,16.0,25.0,63.0,120.0,159.0,177.0,176.0,117.0,79.0,35.0,15.0,9.0,4.0,0.0],\n\"STAT_BINS\":[-69.09866666666666,-57.582222222222214,-46.06577777777777,-34.54933333333333,-23.032888888888884,-11.516444444444438,0.0,11.516444444444446,23.03288888888889,34.54933333333334,46.06577777777778,57.58222222222223,69.09866666666666,80.61511111111112,92.13155555555555]\n},\n\"sampling\":\"none\",\n\"position\":\"dodge\",\n\"geom\":\"bar\"\n}]\n};\n       var plotContainer = document.getElementById(\"sGk6jR\");\n       LetsPlot.buildPlotFromProcessedSpecs(plotSpec, -1, -1, plotContainer);\n   </script>    ",
      "application/plot+json": {
       "output_type": "lets_plot_spec",
       "output": {
        "mapping": {},
        "data": {},
        "kind": "plot",
        "scales": [
         {
          "aesthetic": "x",
          "limits": [
           null,
           null
          ]
         },
         {
          "aesthetic": "y",
          "limits": [
           null,
           null
          ]
         }
        ],
        "layers": [
         {
          "mapping": {
           "x": "STAT_BINS",
           "y": "STAT_COUNT"
          },
          "stat": "identity",
          "data": {
           "STAT_COUNT": [
            5.0,
            16.0,
            25.0,
            63.0,
            120.0,
            159.0,
            177.0,
            176.0,
            117.0,
            79.0,
            35.0,
            15.0,
            9.0,
            4.0,
            0.0
           ],
           "STAT_BINS": [
            -69.09866,
            -57.582222,
            -46.065777,
            -34.54933,
            -23.032888,
            -11.516444,
            0.0,
            11.516444,
            23.032888,
            34.54933,
            46.065777,
            57.582222,
            69.09866,
            80.61511,
            92.13155
           ]
          },
          "sampling": "none",
          "position": "dodge",
          "geom": "bar"
         }
        ]
       },
       "apply_color_scheme": true,
       "swing_enabled": true
      }
     },
     "execution_count": 9,
     "metadata": {},
     "output_type": "execute_result"
    }
   ],
   "source": [
    "sampleDF.plot { \n",
    "    statBin(sample, Bins.byNumber(15), binXPos = BinXPos.center(0.0)) {\n",
    "        bars { \n",
    "            x(Stat.BINS)\n",
    "            y(Stat.COUNT)\n",
    "        }\n",
    "    }\n",
    "}"
   ]
  },
  {
   "cell_type": "code",
   "execution_count": 10,
   "metadata": {
    "ExecuteTime": {
     "end_time": "2023-05-25T10:37:33.617734Z",
     "start_time": "2023-05-25T10:37:33.358325Z"
    }
   },
   "outputs": [
    {
     "data": {
      "text/html": "            <script type=\"text/javascript\" data-lets-plot-script=\"library\" src=\"https://cdn.jsdelivr.net/gh/JetBrains/lets-plot@v3.1.0/js-package/distr/lets-plot.min.js\"></script>    \n               <div id=\"BQqceB\"></div>\n   <script type=\"text/javascript\" data-lets-plot-script=\"plot\">\n       var plotSpec={\n\"mapping\":{\n},\n\"data\":{\n},\n\"kind\":\"plot\",\n\"scales\":[{\n\"aesthetic\":\"x\",\n\"limits\":[null,null]\n},{\n\"aesthetic\":\"y\",\n\"limits\":[null,null]\n},{\n\"aesthetic\":\"x\",\n\"limits\":[null,null]\n},{\n\"aesthetic\":\"y\",\n\"limits\":[null,null]\n}],\n\"layers\":[{\n\"mapping\":{\n\"x\":\"STAT_BINS\",\n\"y\":\"STAT_DENSITY\"\n},\n\"stat\":\"identity\",\n\"data\":{\n\"STAT_DENSITY\":[1.2658227848101264E-4,0.0010126582278481011,0.0010126582278481011,0.0018987341772151896,0.0036708860759493665,0.007341772151898733,0.010126582278481011,0.01670886075949367,0.013797468354430378,0.01582278481012658,0.017468354430379744,0.0120253164556962,0.011645569620253163,0.005443037974683543,0.00430379746835443,0.001772151898734177,7.594936708860758E-4,0.0010126582278481011,5.063291139240506E-4,1.2658227848101264E-4],\n\"STAT_BINS\":[-74.3035,-65.8505,-57.3975,-48.944500000000005,-40.4915,-32.0385,-23.585500000000003,-15.132500000000007,-6.679500000000004,1.7734999999999985,10.226500000000001,18.67949999999999,27.132499999999993,35.585499999999996,44.038499999999985,52.49149999999999,60.94449999999999,69.3975,77.8505,86.3035]\n},\n\"sampling\":\"none\",\n\"position\":\"dodge\",\n\"geom\":\"bar\"\n},{\n\"mapping\":{\n\"x\":\"STAT_BINS\",\n\"y\":\"STAT_DENSITY\"\n},\n\"stat\":\"identity\",\n\"data\":{\n\"STAT_DENSITY\":[1.2658227848101264E-4,0.0010126582278481011,0.0010126582278481011,0.0018987341772151896,0.0036708860759493665,0.007341772151898733,0.010126582278481011,0.01670886075949367,0.013797468354430378,0.01582278481012658,0.017468354430379744,0.0120253164556962,0.011645569620253163,0.005443037974683543,0.00430379746835443,0.001772151898734177,7.594936708860758E-4,0.0010126582278481011,5.063291139240506E-4,1.2658227848101264E-4],\n\"STAT_BINS\":[-74.3035,-65.8505,-57.3975,-48.944500000000005,-40.4915,-32.0385,-23.585500000000003,-15.132500000000007,-6.679500000000004,1.7734999999999985,10.226500000000001,18.67949999999999,27.132499999999993,35.585499999999996,44.038499999999985,52.49149999999999,60.94449999999999,69.3975,77.8505,86.3035]\n},\n\"color\":\"#ee6666\",\n\"size\":2.5,\n\"sampling\":\"none\",\n\"position\":\"identity\",\n\"geom\":\"line\"\n}]\n};\n       var plotContainer = document.getElementById(\"BQqceB\");\n       LetsPlot.buildPlotFromProcessedSpecs(plotSpec, -1, -1, plotContainer);\n   </script>    ",
      "application/plot+json": {
       "output_type": "lets_plot_spec",
       "output": {
        "mapping": {},
        "data": {},
        "kind": "plot",
        "scales": [
         {
          "aesthetic": "x",
          "limits": [
           null,
           null
          ]
         },
         {
          "aesthetic": "y",
          "limits": [
           null,
           null
          ]
         },
         {
          "aesthetic": "x",
          "limits": [
           null,
           null
          ]
         },
         {
          "aesthetic": "y",
          "limits": [
           null,
           null
          ]
         }
        ],
        "layers": [
         {
          "mapping": {
           "x": "STAT_BINS",
           "y": "STAT_DENSITY"
          },
          "stat": "identity",
          "data": {
           "STAT_DENSITY": [
            1.2658228E-4,
            0.0010126582,
            0.0010126582,
            0.0018987341,
            0.0036708862,
            0.0073417723,
            0.010126582,
            0.01670886,
            0.0137974685,
            0.015822785,
            0.017468354,
            0.012025316,
            0.0116455695,
            0.005443038,
            0.0043037976,
            0.0017721519,
            7.594937E-4,
            0.0010126582,
            5.063291E-4,
            1.2658228E-4
           ],
           "STAT_BINS": [
            -74.3035,
            -65.8505,
            -57.3975,
            -48.9445,
            -40.4915,
            -32.0385,
            -23.5855,
            -15.1325,
            -6.6795,
            1.7735,
            10.2265,
            18.6795,
            27.1325,
            35.5855,
            44.0385,
            52.4915,
            60.9445,
            69.3975,
            77.8505,
            86.3035
           ]
          },
          "sampling": "none",
          "position": "dodge",
          "geom": "bar"
         },
         {
          "mapping": {
           "x": "STAT_BINS",
           "y": "STAT_DENSITY"
          },
          "stat": "identity",
          "data": {
           "STAT_DENSITY": [
            1.2658228E-4,
            0.0010126582,
            0.0010126582,
            0.0018987341,
            0.0036708862,
            0.0073417723,
            0.010126582,
            0.01670886,
            0.0137974685,
            0.015822785,
            0.017468354,
            0.012025316,
            0.0116455695,
            0.005443038,
            0.0043037976,
            0.0017721519,
            7.594937E-4,
            0.0010126582,
            5.063291E-4,
            1.2658228E-4
           ],
           "STAT_BINS": [
            -74.3035,
            -65.8505,
            -57.3975,
            -48.9445,
            -40.4915,
            -32.0385,
            -23.5855,
            -15.1325,
            -6.6795,
            1.7735,
            10.2265,
            18.6795,
            27.1325,
            35.5855,
            44.0385,
            52.4915,
            60.9445,
            69.3975,
            77.8505,
            86.3035
           ]
          },
          "color": "#ee6666",
          "size": 2.5,
          "sampling": "none",
          "position": "identity",
          "geom": "line"
         }
        ]
       },
       "apply_color_scheme": true,
       "swing_enabled": true
      }
     },
     "execution_count": 10,
     "metadata": {},
     "output_type": "execute_result"
    }
   ],
   "source": [
    "sampleDF.plot { \n",
    "    statBin(sample) {\n",
    "        bars { \n",
    "            x(Stat.BINS)\n",
    "            y(Stat.DENSITY)\n",
    "        }\n",
    "\n",
    "        line {\n",
    "            x(Stat.BINS)\n",
    "            y(Stat.DENSITY)\n",
    "\n",
    "            color = Color.RED\n",
    "            width = 2.5\n",
    "        }\n",
    "    }\n",
    "}"
   ]
  },
  {
   "cell_type": "code",
   "execution_count": 11,
   "metadata": {
    "ExecuteTime": {
     "end_time": "2023-05-25T10:37:34.004130Z",
     "start_time": "2023-05-25T10:37:33.617373Z"
    }
   },
   "outputs": [],
   "source": [
    "val rand = java.util.Random()\n",
    "val data = mapOf(\n",
    "    \"rating\" to List(500) { rand.nextGaussian() } + List(500) { rand.nextGaussian() * 1.5 + 1.5 },\n",
    "    \"cond\" to List(500) { \"A\" } + List(500) { \"B\" }\n",
    ")\n",
    "\n",
    "val cond by column<String>()\n",
    "val rating by column<Double>()"
   ]
  },
  {
   "cell_type": "code",
   "execution_count": 12,
   "metadata": {
    "ExecuteTime": {
     "end_time": "2023-05-25T10:37:34.267061Z",
     "start_time": "2023-05-25T10:37:34.003753Z"
    }
   },
   "outputs": [
    {
     "data": {
      "text/html": "            <script type=\"text/javascript\" data-lets-plot-script=\"library\" src=\"https://cdn.jsdelivr.net/gh/JetBrains/lets-plot@v3.1.0/js-package/distr/lets-plot.min.js\"></script>    \n               <div id=\"HmSZPe\"></div>\n   <script type=\"text/javascript\" data-lets-plot-script=\"plot\">\n       var plotSpec={\n\"mapping\":{\n},\n\"data\":{\n},\n\"kind\":\"plot\",\n\"scales\":[{\n\"aesthetic\":\"x\",\n\"limits\":[null,null]\n},{\n\"aesthetic\":\"y\",\n\"limits\":[null,null]\n},{\n\"aesthetic\":\"fill\",\n\"discrete\":true\n}],\n\"layers\":[{\n\"mapping\":{\n\"x\":\"STAT_BINS\",\n\"y\":\"STAT_DENSITY\",\n\"fill\":\"cond\",\n\"group\":\"&merged_groups\"\n},\n\"stat\":\"identity\",\n\"data\":{\n\"&merged_groups\":[\"A\",\"A\",\"A\",\"A\",\"A\",\"A\",\"A\",\"A\",\"A\",\"A\",\"A\",\"A\",\"A\",\"A\",\"A\",\"A\",\"A\",\"A\",\"A\",\"A\",\"A\",\"A\",\"A\",\"A\",\"A\",\"A\",\"A\",\"A\",\"A\",\"A\",\"A\",\"A\",\"A\",\"A\",\"A\",\"A\",\"A\",\"A\",\"A\",\"A\",\"A\",\"A\",\"A\",\"A\",\"A\",\"A\",\"A\",\"A\",\"A\",\"A\",\"B\",\"B\",\"B\",\"B\",\"B\",\"B\",\"B\",\"B\",\"B\",\"B\",\"B\",\"B\",\"B\",\"B\",\"B\",\"B\",\"B\",\"B\",\"B\",\"B\",\"B\",\"B\",\"B\",\"B\",\"B\",\"B\",\"B\",\"B\",\"B\",\"B\",\"B\",\"B\",\"B\",\"B\",\"B\",\"B\",\"B\",\"B\",\"B\",\"B\",\"B\",\"B\",\"B\",\"B\",\"B\",\"B\",\"B\",\"B\",\"B\",\"B\"],\n\"STAT_DENSITY\":[0.0,0.011376863213423273,0.0,0.0,0.022753726426846546,0.06826117928053964,0.0796380424939629,0.10239176892080944,0.10239176892080944,0.13652235856107928,0.1592760849879258,0.3071753067624283,0.27304471712215855,0.35268275961612144,0.43232080211008433,0.5005819813906239,0.40956707568323775,0.375436486042968,0.34130589640269815,0.26166785390873526,0.3185521699758516,0.38681334925639127,0.25029099069531197,0.21616040105504217,0.17065294820134908,0.17065294820134908,0.11376863213423272,0.06826117928053964,0.022753726426846546,0.0,0.011376863213423273,0.0,0.0,0.011376863213423273,0.011376863213423273,0.0,0.0,0.0,0.0,0.0,0.0,0.0,0.0,0.0,0.0,0.0,0.0,0.0,0.0,0.0,0.011376863213423273,0.0,0.0,0.0,0.011376863213423273,0.011376863213423273,0.06826117928053964,0.022753726426846546,0.05688431606711636,0.011376863213423273,0.05688431606711636,0.09101490570738618,0.03413058964026982,0.0796380424939629,0.1592760849879258,0.11376863213423272,0.13652235856107928,0.21616040105504217,0.11376863213423272,0.20478353784161887,0.3185521699758516,0.27304471712215855,0.27304471712215855,0.25029099069531197,0.3185521699758516,0.23891412748188873,0.2957984435490051,0.2957984435490051,0.19340667462819564,0.13652235856107928,0.2957984435490051,0.20478353784161887,0.19340667462819564,0.1592760849879258,0.11376863213423272,0.17065294820134908,0.06826117928053964,0.10239176892080944,0.0796380424939629,0.05688431606711636,0.022753726426846546,0.05688431606711636,0.05688431606711636,0.0,0.03413058964026982,0.022753726426846546,0.022753726426846546,0.022753726426846546,0.0,0.011376863213423273],\n\"cond\":[\"A\",\"A\",\"A\",\"A\",\"A\",\"A\",\"A\",\"A\",\"A\",\"A\",\"A\",\"A\",\"A\",\"A\",\"A\",\"A\",\"A\",\"A\",\"A\",\"A\",\"A\",\"A\",\"A\",\"A\",\"A\",\"A\",\"A\",\"A\",\"A\",\"A\",\"A\",\"A\",\"A\",\"A\",\"A\",\"A\",\"A\",\"A\",\"A\",\"A\",\"A\",\"A\",\"A\",\"A\",\"A\",\"A\",\"A\",\"A\",\"A\",\"A\",\"B\",\"B\",\"B\",\"B\",\"B\",\"B\",\"B\",\"B\",\"B\",\"B\",\"B\",\"B\",\"B\",\"B\",\"B\",\"B\",\"B\",\"B\",\"B\",\"B\",\"B\",\"B\",\"B\",\"B\",\"B\",\"B\",\"B\",\"B\",\"B\",\"B\",\"B\",\"B\",\"B\",\"B\",\"B\",\"B\",\"B\",\"B\",\"B\",\"B\",\"B\",\"B\",\"B\",\"B\",\"B\",\"B\",\"B\",\"B\",\"B\",\"B\"],\n\"STAT_BINS\":[-3.0605018106971045,-2.879784159317225,-2.6990665079373457,-2.5183488565574668,-2.3376312051775874,-2.156913553797708,-1.9761959024178288,-1.7954782510379497,-1.6147605996580703,-1.434042948278191,-1.2533252968983117,-1.0726076455184326,-0.8918899941385532,-0.7111723427586738,-0.5304546913787949,-0.3497370399989155,-0.1690193886190361,0.011698262760843292,0.19241591414072268,0.3731335655206016,0.553851216900481,0.7345688682803604,0.9152865196602393,1.0960041710401187,1.276721822419998,1.4574394737998775,1.6381571251797569,1.8188747765596363,1.9995924279395147,2.180310079319394,2.3610277306992735,2.541745382079153,2.7224630334590323,2.9031806848389117,3.083898336218791,3.2646159875986704,3.44533363897855,3.6260512903584283,3.8067689417383077,3.987486593118187,4.1682042444980665,4.348921895877946,4.529639547257825,4.710357198637705,4.891074850017583,5.0717925013974625,5.252510152777342,5.433227804157221,5.613945455537101,5.79466310691698,-3.0605018106971045,-2.879784159317225,-2.6990665079373457,-2.5183488565574668,-2.3376312051775874,-2.156913553797708,-1.9761959024178288,-1.7954782510379497,-1.6147605996580703,-1.434042948278191,-1.2533252968983117,-1.0726076455184326,-0.8918899941385532,-0.7111723427586738,-0.5304546913787949,-0.3497370399989155,-0.1690193886190361,0.011698262760843292,0.19241591414072268,0.3731335655206016,0.553851216900481,0.7345688682803604,0.9152865196602393,1.0960041710401187,1.276721822419998,1.4574394737998775,1.6381571251797569,1.8188747765596363,1.9995924279395147,2.180310079319394,2.3610277306992735,2.541745382079153,2.7224630334590323,2.9031806848389117,3.083898336218791,3.2646159875986704,3.44533363897855,3.6260512903584283,3.8067689417383077,3.987486593118187,4.1682042444980665,4.348921895877946,4.529639547257825,4.710357198637705,4.891074850017583,5.0717925013974625,5.252510152777342,5.433227804157221,5.613945455537101,5.79466310691698]\n},\n\"color\":\"#000000\",\n\"size\":0.5,\n\"sampling\":\"none\",\n\"alpha\":0.6,\n\"position\":\"identity\",\n\"geom\":\"area\"\n}]\n};\n       var plotContainer = document.getElementById(\"HmSZPe\");\n       LetsPlot.buildPlotFromProcessedSpecs(plotSpec, -1, -1, plotContainer);\n   </script>    ",
      "application/plot+json": {
       "output_type": "lets_plot_spec",
       "output": {
        "mapping": {},
        "data": {},
        "kind": "plot",
        "scales": [
         {
          "aesthetic": "x",
          "limits": [
           null,
           null
          ]
         },
         {
          "aesthetic": "y",
          "limits": [
           null,
           null
          ]
         },
         {
          "aesthetic": "fill",
          "discrete": true
         }
        ],
        "layers": [
         {
          "mapping": {
           "x": "STAT_BINS",
           "y": "STAT_DENSITY",
           "fill": "cond",
           "group": "&merged_groups"
          },
          "stat": "identity",
          "data": {
           "&merged_groups": [
            "A",
            "A",
            "A",
            "A",
            "A",
            "A",
            "A",
            "A",
            "A",
            "A",
            "A",
            "A",
            "A",
            "A",
            "A",
            "A",
            "A",
            "A",
            "A",
            "A",
            "A",
            "A",
            "A",
            "A",
            "A",
            "A",
            "A",
            "A",
            "A",
            "A",
            "A",
            "A",
            "A",
            "A",
            "A",
            "A",
            "A",
            "A",
            "A",
            "A",
            "A",
            "A",
            "A",
            "A",
            "A",
            "A",
            "A",
            "A",
            "A",
            "A",
            "B",
            "B",
            "B",
            "B",
            "B",
            "B",
            "B",
            "B",
            "B",
            "B",
            "B",
            "B",
            "B",
            "B",
            "B",
            "B",
            "B",
            "B",
            "B",
            "B",
            "B",
            "B",
            "B",
            "B",
            "B",
            "B",
            "B",
            "B",
            "B",
            "B",
            "B",
            "B",
            "B",
            "B",
            "B",
            "B",
            "B",
            "B",
            "B",
            "B",
            "B",
            "B",
            "B",
            "B",
            "B",
            "B",
            "B",
            "B",
            "B",
            "B"
           ],
           "STAT_DENSITY": [
            0.0,
            0.011376863,
            0.0,
            0.0,
            0.022753727,
            0.06826118,
            0.07963804,
            0.10239177,
            0.10239177,
            0.13652235,
            0.15927608,
            0.3071753,
            0.2730447,
            0.35268277,
            0.4323208,
            0.500582,
            0.4095671,
            0.37543648,
            0.34130588,
            0.26166785,
            0.31855217,
            0.38681334,
            0.250291,
            0.2161604,
            0.17065294,
            0.17065294,
            0.11376863,
            0.06826118,
            0.022753727,
            0.0,
            0.011376863,
            0.0,
            0.0,
            0.011376863,
            0.011376863,
            0.0,
            0.0,
            0.0,
            0.0,
            0.0,
            0.0,
            0.0,
            0.0,
            0.0,
            0.0,
            0.0,
            0.0,
            0.0,
            0.0,
            0.0,
            0.011376863,
            0.0,
            0.0,
            0.0,
            0.011376863,
            0.011376863,
            0.06826118,
            0.022753727,
            0.056884315,
            0.011376863,
            0.056884315,
            0.09101491,
            0.03413059,
            0.07963804,
            0.15927608,
            0.11376863,
            0.13652235,
            0.2161604,
            0.11376863,
            0.20478354,
            0.31855217,
            0.2730447,
            0.2730447,
            0.250291,
            0.31855217,
            0.23891413,
            0.29579845,
            0.29579845,
            0.19340667,
            0.13652235,
            0.29579845,
            0.20478354,
            0.19340667,
            0.15927608,
            0.11376863,
            0.17065294,
            0.06826118,
            0.10239177,
            0.07963804,
            0.056884315,
            0.022753727,
            0.056884315,
            0.056884315,
            0.0,
            0.03413059,
            0.022753727,
            0.022753727,
            0.022753727,
            0.0,
            0.011376863
           ],
           "cond": [
            "A",
            "A",
            "A",
            "A",
            "A",
            "A",
            "A",
            "A",
            "A",
            "A",
            "A",
            "A",
            "A",
            "A",
            "A",
            "A",
            "A",
            "A",
            "A",
            "A",
            "A",
            "A",
            "A",
            "A",
            "A",
            "A",
            "A",
            "A",
            "A",
            "A",
            "A",
            "A",
            "A",
            "A",
            "A",
            "A",
            "A",
            "A",
            "A",
            "A",
            "A",
            "A",
            "A",
            "A",
            "A",
            "A",
            "A",
            "A",
            "A",
            "A",
            "B",
            "B",
            "B",
            "B",
            "B",
            "B",
            "B",
            "B",
            "B",
            "B",
            "B",
            "B",
            "B",
            "B",
            "B",
            "B",
            "B",
            "B",
            "B",
            "B",
            "B",
            "B",
            "B",
            "B",
            "B",
            "B",
            "B",
            "B",
            "B",
            "B",
            "B",
            "B",
            "B",
            "B",
            "B",
            "B",
            "B",
            "B",
            "B",
            "B",
            "B",
            "B",
            "B",
            "B",
            "B",
            "B",
            "B",
            "B",
            "B",
            "B"
           ],
           "STAT_BINS": [
            -3.0605018,
            -2.879784,
            -2.6990664,
            -2.518349,
            -2.3376312,
            -2.1569135,
            -1.9761959,
            -1.7954782,
            -1.6147606,
            -1.4340429,
            -1.2533253,
            -1.0726076,
            -0.89189,
            -0.71117234,
            -0.5304547,
            -0.34973705,
            -0.16901939,
            0.011698263,
            0.19241591,
            0.37313357,
            0.5538512,
            0.7345689,
            0.91528654,
            1.0960041,
            1.2767218,
            1.4574394,
            1.6381571,
            1.8188748,
            1.9995924,
            2.18031,
            2.3610277,
            2.5417454,
            2.7224631,
            2.9031806,
            3.0838983,
            3.264616,
            3.4453337,
            3.6260512,
            3.806769,
            3.9874866,
            4.1682043,
            4.348922,
            4.5296397,
            4.710357,
            4.8910747,
            5.0717926,
            5.25251,
            5.433228,
            5.6139455,
            5.794663,
            -3.0605018,
            -2.879784,
            -2.6990664,
            -2.518349,
            -2.3376312,
            -2.1569135,
            -1.9761959,
            -1.7954782,
            -1.6147606,
            -1.4340429,
            -1.2533253,
            -1.0726076,
            -0.89189,
            -0.71117234,
            -0.5304547,
            -0.34973705,
            -0.16901939,
            0.011698263,
            0.19241591,
            0.37313357,
            0.5538512,
            0.7345689,
            0.91528654,
            1.0960041,
            1.2767218,
            1.4574394,
            1.6381571,
            1.8188748,
            1.9995924,
            2.18031,
            2.3610277,
            2.5417454,
            2.7224631,
            2.9031806,
            3.0838983,
            3.264616,
            3.4453337,
            3.6260512,
            3.806769,
            3.9874866,
            4.1682043,
            4.348922,
            4.5296397,
            4.710357,
            4.8910747,
            5.0717926,
            5.25251,
            5.433228,
            5.6139455,
            5.794663
           ]
          },
          "color": "#000000",
          "size": 0.5,
          "sampling": "none",
          "alpha": 0.6,
          "position": "identity",
          "geom": "area"
         }
        ]
       },
       "apply_color_scheme": true,
       "swing_enabled": true
      }
     },
     "execution_count": 12,
     "metadata": {},
     "output_type": "execute_result"
    }
   ],
   "source": [
    "plot(data) {\n",
    "    groupBy(cond) {\n",
    "        statBin(rating, bins = Bins.byNumber(50)) {\n",
    "            area {\n",
    "                x(Stat.BINS)\n",
    "                y(Stat.DENSITY)\n",
    "                \n",
    "                fillColor(cond)\n",
    "                alpha = .6\n",
    "                \n",
    "                borderLine {\n",
    "                    color = Color.BLACK\n",
    "                    width = .5\n",
    "                }\n",
    "            }\n",
    "        }\n",
    "    }\n",
    "}"
   ]
  }
 ],
 "metadata": {
  "datalore": {
   "base_environment": "default",
   "computation_mode": "JUPYTER",
   "package_manager": "pip",
   "packages": [],
   "version": 1
  },
  "kernelspec": {
   "display_name": "Kotlin",
   "language": "kotlin",
   "name": "kotlin"
  },
  "language_info": {
   "codemirror_mode": "text/x-kotlin",
   "file_extension": ".kt",
   "mimetype": "text/x-kotlin",
   "name": "kotlin",
   "nbconvert_exporter": "",
   "pygments_lexer": "kotlin",
   "version": "1.8.20-Beta"
  }
 },
 "nbformat": 4,
 "nbformat_minor": 4
}
