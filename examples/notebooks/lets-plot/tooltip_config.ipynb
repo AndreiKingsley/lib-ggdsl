{
 "cells": [
  {
   "cell_type": "markdown",
   "metadata": {},
   "source": [
    "## Tooltip Customization"
   ]
  },
  {
   "cell_type": "code",
   "execution_count": null,
   "metadata": {},
   "outputs": [],
   "source": [
    "%useLatestDescriptors\n",
    "%use kandy(0.4.2)\n",
    "%use dataframe"
   ]
  },
  {
   "cell_type": "code",
   "execution_count": null,
   "metadata": {},
   "outputs": [],
   "source": [
    "var mpg_df = DataFrame.readCSV(\"https://raw.githubusercontent.com/JetBrains/lets-plot-kotlin/master/docs/examples/data/mpg.csv\")\n",
    "mpg_df.head()\n"
   ]
  },
  {
   "cell_type": "markdown",
   "source": [
    "Default tooltips:"
   ],
   "metadata": {
    "collapsed": false
   }
  },
  {
   "cell_type": "code",
   "execution_count": null,
   "metadata": {},
   "outputs": [],
   "source": [
    "mpg_df.plot {\n",
    "    points { \n",
    "        x(displ)\n",
    "        y(cty)\n",
    "        \n",
    "        symbol = Symbol.CIRCLE_FILLED\n",
    "        color = Color.WHITE\n",
    "        fillColor(drv)\n",
    "        size(hwy) {\n",
    "            scale = continuous(range = 5.0..15.0)\n",
    "            legend.breaks(listOf(15, 40))\n",
    "        }\n",
    "    }\n",
    "    \n",
    "    layout{\n",
    "        size = 600 to 350\n",
    "    }\n",
    "}"
   ]
  },
  {
   "cell_type": "markdown",
   "source": [
    "Tooltips can be removed:"
   ],
   "metadata": {
    "collapsed": false
   }
  },
  {
   "cell_type": "code",
   "execution_count": null,
   "outputs": [],
   "source": [
    "mpg_df.plot {\n",
    "    points {\n",
    "        x(displ)\n",
    "        y(cty)\n",
    "\n",
    "        symbol = Symbol.CIRCLE_FILLED\n",
    "        color = Color.WHITE\n",
    "        fillColor(drv)\n",
    "        size(hwy) {\n",
    "            scale = continuous(range = 5.0..15.0)\n",
    "            legend.breaks(listOf(15, 40))\n",
    "        }\n",
    "        // no tooltips\n",
    "        tooltips(hide = true)\n",
    "    }\n",
    "\n",
    "    layout{\n",
    "        size = 600 to 350\n",
    "    }\n",
    "}"
   ],
   "metadata": {
    "collapsed": false
   }
  },
  {
   "cell_type": "markdown",
   "source": [
    "The simplest way to create tooltips is to pass columns whose values we want to display in them. Also, we can set a format of column value."
   ],
   "metadata": {
    "collapsed": false
   }
  },
  {
   "cell_type": "code",
   "execution_count": null,
   "outputs": [],
   "source": [
    "mpg_df.plot {\n",
    "    points {\n",
    "        x(displ)\n",
    "        y(cty)\n",
    "\n",
    "        symbol = Symbol.CIRCLE_FILLED\n",
    "        color = Color.WHITE\n",
    "        fillColor(drv)\n",
    "        size(hwy) {\n",
    "            scale = continuous(range = 5.0..15.0)\n",
    "            legend.breaks(listOf(15, 40))\n",
    "        }\n",
    "\n",
    "        tooltips(manufacturer, model, `class`, year, formats = mapOf(\n",
    "            year to \"d\"\n",
    "        ))\n",
    "    }\n",
    "\n",
    "    layout{\n",
    "        size = 600 to 350\n",
    "    }\n",
    "}"
   ],
   "metadata": {
    "collapsed": false
   }
  },
  {
   "cell_type": "markdown",
   "source": [],
   "metadata": {
    "collapsed": false
   }
  },
  {
   "cell_type": "markdown",
   "source": [
    "To create tooltips manually, we can use a simple dsl. The `tooltips` method creates a context in which you can create tooltips lines using the `line()` functions. Lines can be solid or two-sided. To insert values from a column into a string, use the `.tooltipValue()` extension."
   ],
   "metadata": {
    "collapsed": false
   }
  },
  {
   "cell_type": "code",
   "execution_count": null,
   "outputs": [],
   "source": [
    "mpg_df.plot {\n",
    "    points {\n",
    "        x(displ)\n",
    "        y(cty)\n",
    "\n",
    "        symbol = Symbol.CIRCLE_FILLED\n",
    "        color = Color.WHITE\n",
    "        fillColor(drv)\n",
    "        size(hwy) {\n",
    "            scale = continuous(range = 5.0..15.0)\n",
    "            legend.breaks(listOf(15, 40))\n",
    "        }\n",
    "\n",
    "        tooltips {\n",
    "            // solid line\n",
    "            line(\"${manufacturer.tooltipValue()}\")\n",
    "            // two-sided line\n",
    "            line(\"model\", \"${model.tooltipValue()}\")\n",
    "        }\n",
    "    }\n",
    "\n",
    "    layout {\n",
    "        size = 600 to 350\n",
    "    }\n",
    "}"
   ],
   "metadata": {
    "collapsed": false
   }
  },
  {
   "cell_type": "markdown",
   "source": [
    "You can also create the standard \"var\" line for column — with the column name on the left side and its value on the right with using `line(column)` and `varLine(column)` methods."
   ],
   "metadata": {
    "collapsed": false
   }
  },
  {
   "cell_type": "code",
   "execution_count": null,
   "outputs": [],
   "source": [
    "mpg_df.plot {\n",
    "    points {\n",
    "        x(displ)\n",
    "        y(cty)\n",
    "\n",
    "        symbol = Symbol.CIRCLE_FILLED\n",
    "        color = Color.WHITE\n",
    "        fillColor(drv)\n",
    "        size(hwy) {\n",
    "            scale = continuous(range = 5.0..15.0)\n",
    "            legend.breaks(listOf(15, 40))\n",
    "        }\n",
    "\n",
    "        tooltips {\n",
    "            line(\"${manufacturer.tooltipValue()} ${model.tooltipValue()}\")\n",
    "            // pass a format as `.tooltipValue()` argument\n",
    "            line(\"cty/hwy [mpg]\", \"${cty.tooltipValue(\".0f\")}/${hwy.tooltipValue(\".0f\")}\")\n",
    "            // var line for `class` column\n",
    "            line(`class`)\n",
    "            line(\"drive train\", drv.tooltipValue(\"{}wd\"))\n",
    "            // var line with raw String API\n",
    "            varLine(\"year\", format = \"d\")\n",
    "        }\n",
    "    }\n",
    "\n",
    "    layout {\n",
    "        size = 600 to 350\n",
    "    }\n",
    "}"
   ],
   "metadata": {
    "collapsed": false
   }
  },
  {
   "cell_type": "markdown",
   "source": [
    "Define the format for the variable from the list and specify an additional line:"
   ],
   "metadata": {
    "collapsed": false
   }
  },
  {
   "cell_type": "code",
   "execution_count": null,
   "metadata": {},
   "outputs": [],
   "source": [
    "mpg_df.plot {\n",
    "    points { \n",
    "        x(displ)\n",
    "        y(cty)\n",
    "        \n",
    "        symbol = Symbol.CIRCLE_FILLED\n",
    "        color = Color.WHITE\n",
    "        fillColor(drv)\n",
    "        size(hwy) {\n",
    "            scale = continuous(range = 5.0..15.0)\n",
    "            legend.breaks(listOf(15, 40))\n",
    "        }\n",
    "        \n",
    "        tooltips(manufacturer, model, `class`, drv, formats = mapOf(drv to \"{}wd\")) {\n",
    "            line(\"cty/hwy [mpg]\", \"${cty.tooltipValue()}/${hwy.tooltipValue()}\")\n",
    "        }\n",
    "    }\n",
    "    \n",
    "    layout{\n",
    "        size = 600 to 350\n",
    "    }\n",
    "}"
   ]
  },
  {
   "cell_type": "markdown",
   "source": [
    "Anchor the tooltip in the top-right corner of the plot:"
   ],
   "metadata": {
    "collapsed": false
   }
  },
  {
   "cell_type": "code",
   "execution_count": null,
   "metadata": {},
   "outputs": [],
   "source": [
    "mpg_df.plot {\n",
    "    points { \n",
    "        x(displ)\n",
    "        y(cty)\n",
    "        \n",
    "        symbol = Symbol.CIRCLE_FILLED\n",
    "        color = Color.WHITE\n",
    "        fillColor(drv)\n",
    "        size(hwy) {\n",
    "            scale = continuous(range = 5.0..15.0)\n",
    "            legend.breaks(listOf(15, 40))\n",
    "        }\n",
    "\n",
    "        tooltips(anchor = Anchor.TOP_RIGHT, minWidth = 180.0) {\n",
    "            line(\"${manufacturer.tooltipValue()} ${model.tooltipValue()}\")\n",
    "            line(\"cty/hwy [mpg]\", \"${cty.tooltipValue(\".0f\")}/${hwy.tooltipValue(\".0f\")}\")\n",
    "            line(`class`)\n",
    "            line(\"drive train\", drv.tooltipValue(\"{}wd\"))\n",
    "            line(year, \"d\")\n",
    "        }\n",
    "    }\n",
    "    \n",
    "    layout{\n",
    "        size = 600 to 350\n",
    "    }\n",
    "}"
   ]
  }
 ],
 "metadata": {
  "kernelspec": {
   "display_name": "Kotlin",
   "language": "kotlin",
   "name": "kotlin"
  },
  "language_info": {
   "codemirror_mode": "text/x-kotlin",
   "file_extension": ".kt",
   "mimetype": "text/x-kotlin",
   "name": "kotlin",
   "nbconvert_exporter": "",
   "pygments_lexer": "kotlin",
   "version": "1.8.20-Beta"
  },
  "ktnbPluginMetadata": {
   "isAddProjectLibrariesToClasspath": false
  }
 },
 "nbformat": 4,
 "nbformat_minor": 4
}
