{
 "cells": [
  {
   "cell_type": "markdown",
   "source": [
    "# Statistics"
   ],
   "metadata": {
    "collapsed": false
   }
  },
  {
   "cell_type": "code",
   "execution_count": null,
   "outputs": [],
   "source": [
    "%useLatestDescriptors\n",
    "%use kandy(0.4.2)\n",
    "%use dataframe"
   ],
   "metadata": {
    "collapsed": false
   }
  },
  {
   "cell_type": "markdown",
   "source": [
    "This notebook is dedicated to statistical dataset transformations (or just \"statistics\"/\"stats\").\n",
    "\n",
    "The key feature of stats in DSL is that they completely change the dataset. Instead of the old values, it contains new ones with the result of calculation of the corresponding statistical function. Each column of this dataset corresponds to one of the statistics calculated by this function. All the layers created in the context created by this statistic will use this dataset. To refer to new columns-statistics, this context has a property `Stat`, which has property-pointers to these columns."
   ],
   "metadata": {
    "collapsed": false
   }
  },
  {
   "cell_type": "markdown",
   "source": [
    "As an example, consider the \"bin\" statistic. This statistic performs binning of the values and counts the number of values within each bin (as well as the relative density for each bin). Thus, the dataset created by this statistic will contain three columns:\n",
    "  * `Stat.BINS` - bin centers;\n",
    "  * `Stat.COUNT` - number of values in the bin;\n",
    "  * `Stat.DENSITY` - bin density;\n",
    "\n",
    "Let's generate a sample from a normal distribution, calculate these statistics for it, and build the area plot with bin centers for x and density for y."
   ],
   "metadata": {
    "collapsed": false
   }
  },
  {
   "cell_type": "code",
   "execution_count": null,
   "outputs": [],
   "source": [
    "import java.util.Random\n",
    "\n",
    "val random = Random(1000)\n",
    "val values = List(1000) { random.nextGaussian() }\n",
    "val df = dataFrameOf(\n",
    "    \"sample\" to values\n",
    ")"
   ],
   "metadata": {
    "collapsed": false
   }
  },
  {
   "cell_type": "code",
   "execution_count": null,
   "outputs": [],
   "source": [
    "df.plot {\n",
    "    statBin(sample) {\n",
    "        area {\n",
    "            x(Stat.BINS)\n",
    "            y(Stat.DENSITY)\n",
    "\n",
    "            alpha = 0.7\n",
    "            fillColor = Color.GREEN\n",
    "            borderLine.type = LineType.DASHED\n",
    "        }\n",
    "    }\n",
    "}"
   ],
   "metadata": {
    "collapsed": false
   }
  },
  {
   "cell_type": "markdown",
   "source": [
    "We have just constructed a graph that represents the distribution of a numeric variable, also known as a \"density plot\".\n",
    "\n",
    "As you can see, the process is the same as the regular plots, except that we used columns-statistics for the mappings."
   ],
   "metadata": {
    "collapsed": false
   }
  },
  {
   "cell_type": "markdown",
   "source": [
    "## Histogram"
   ],
   "metadata": {
    "collapsed": false
   }
  },
  {
   "cell_type": "markdown",
   "source": [
    "A histogram is one of the most common and important types of graphs. In fact, a histogram is nothing more than a bar chart with counted bins - bin centers by `x` and count by `y`."
   ],
   "metadata": {
    "collapsed": false
   }
  },
  {
   "cell_type": "code",
   "execution_count": null,
   "outputs": [],
   "source": [
    "df.plot {\n",
    "    statBin(sample) {\n",
    "        bars {\n",
    "            x(Stat.BINS)\n",
    "            y(Stat.COUNT)\n",
    "        }\n",
    "    }\n",
    "}"
   ],
   "metadata": {
    "collapsed": false
   }
  },
  {
   "cell_type": "markdown",
   "source": [
    "Of course there is a special shorcut for it - `.histogram()`. You can make sure that it will build exactly the same plot as above."
   ],
   "metadata": {
    "collapsed": false
   }
  },
  {
   "cell_type": "code",
   "execution_count": null,
   "outputs": [],
   "source": [
    "df.plot {\n",
    "    histogram(sample)\n",
    "}"
   ],
   "metadata": {
    "collapsed": false
   }
  },
  {
   "cell_type": "markdown",
   "source": [
    "The context created by `histogram` combines the contexts created by `statBin` and `bars`: you can specify mappings and settings of bars aesthetics and use pointers to columns-statistics within it."
   ],
   "metadata": {
    "collapsed": false
   }
  },
  {
   "cell_type": "code",
   "execution_count": null,
   "outputs": [],
   "source": [
    "df.plot {\n",
    "    histogram(sample) {\n",
    "        fillColor(Stat.DENSITY) {\n",
    "            scale = continuous(Color.YELLOW..Color.RED)\n",
    "        }\n",
    "        alpha = 0.9\n",
    "        borderLine {\n",
    "            width = 0.5\n",
    "            color = Color.GREY\n",
    "        }\n",
    "    }\n",
    "    layout.size = 750 to 400\n",
    "}"
   ],
   "metadata": {
    "collapsed": false
   }
  },
  {
   "cell_type": "markdown",
   "source": [
    "As mentioned above, `histogram` has default mappings on x and y, but we can override them in the same way as usual, in the layer context. The most common use case is to change the `Y` value of the bars from `count` to `density`."
   ],
   "metadata": {
    "collapsed": false
   }
  },
  {
   "cell_type": "code",
   "execution_count": null,
   "outputs": [],
   "source": [
    "df.plot {\n",
    "    histogram(sample) {\n",
    "        y(Stat.DENSITY)\n",
    "        fillColor = Color.GREEN\n",
    "    }\n",
    "}"
   ],
   "metadata": {
    "collapsed": false
   }
  },
  {
   "cell_type": "markdown",
   "source": [
    "## Statistic parameters"
   ],
   "metadata": {
    "collapsed": false
   }
  },
  {
   "cell_type": "markdown",
   "source": [
    "Statistics have different parameters. For example `statBin` (as well as, of course, `histogram`) has two parameters. The first (`bins`) is responsible for how the binning will be done - by a given number of bins or by their width. The second (`binXPos`) is responsible for the alignment of the bin."
   ],
   "metadata": {
    "collapsed": false
   }
  },
  {
   "cell_type": "code",
   "execution_count": null,
   "outputs": [],
   "source": [
    "df.plot {\n",
    "    histogram(sample, bins = Bins.byWidth(0.5), binXPos = BinXPos.center(0.0))\n",
    "}"
   ],
   "metadata": {
    "collapsed": false
   }
  },
  {
   "cell_type": "markdown",
   "source": [
    "## Raw source statistics"
   ],
   "metadata": {
    "collapsed": false
   }
  },
  {
   "cell_type": "markdown",
   "source": [
    "Statistics can also take raw sources (`Iterable` etc.) as an arguments:"
   ],
   "metadata": {
    "collapsed": false
   }
  },
  {
   "cell_type": "code",
   "execution_count": null,
   "outputs": [],
   "source": [
    "plot {\n",
    "    histogram(values)\n",
    "}"
   ],
   "metadata": {
    "collapsed": false
   }
  },
  {
   "cell_type": "markdown",
   "source": [
    "## Statistics x Grouping"
   ],
   "metadata": {
    "collapsed": false
   }
  },
  {
   "cell_type": "markdown",
   "source": [
    "When applying statistics to a grouped dataset, the statistics will be counted within each group. In this case, the dataset will remain grouped by the same keys, but instead of the old groups of datasets there will be groups of datasets counted by statistics. Thus, you will be able to make a mapping of the grouping keys"
   ],
   "metadata": {
    "collapsed": false
   }
  },
  {
   "cell_type": "code",
   "execution_count": null,
   "outputs": [],
   "source": [
    "val valuesAB = List(1000) {random.nextGaussian(3.0, 5.0)} + List(1000) {random.nextGaussian(-7.0, 10.0)}"
   ],
   "metadata": {
    "collapsed": false
   }
  },
  {
   "cell_type": "code",
   "execution_count": null,
   "outputs": [],
   "source": [
    "val dfAB = dataFrameOf(\n",
    "    \"values\" to valuesAB,\n",
    "    \"type\" to List(1000) {\"A\"} + List(1000) {\"B\"}\n",
    ")"
   ],
   "metadata": {
    "collapsed": false
   }
  },
  {
   "cell_type": "code",
   "execution_count": null,
   "outputs": [],
   "source": [
    "dfAB.groupBy { type }.plot {\n",
    "    statBin(values) {\n",
    "        area {\n",
    "            x(Stat.BINS)\n",
    "            y(Stat.DENSITY)\n",
    "            fillColor(type)\n",
    "            alpha = 0.7\n",
    "        }\n",
    "    }\n",
    " }"
   ],
   "metadata": {
    "collapsed": false
   }
  },
  {
   "cell_type": "markdown",
   "source": [
    "Same with the histogram:"
   ],
   "metadata": {
    "collapsed": false
   }
  },
  {
   "cell_type": "code",
   "execution_count": null,
   "outputs": [],
   "source": [
    "dfAB.groupBy { type }.plot {\n",
    "    histogram(values) {\n",
    "        fillColor(type) {\n",
    "            scale = categorical(\"A\" to Color.RED, \"B\" to Color.BLUE)\n",
    "        }\n",
    "        position = Position.Dodge()\n",
    "    }\n",
    "}"
   ],
   "metadata": {
    "collapsed": false
   }
  }
 ],
 "metadata": {
  "kernelspec": {
   "display_name": "Kotlin",
   "language": "kotlin",
   "name": "kotlin"
  },
  "language_info": {
   "name": "kotlin",
   "version": "1.8.20",
   "mimetype": "text/x-kotlin",
   "file_extension": ".kt",
   "pygments_lexer": "kotlin",
   "codemirror_mode": "text/x-kotlin",
   "nbconvert_exporter": ""
  },
  "ktnbPluginMetadata": {
   "isAddProjectLibrariesToClasspath": false
  }
 },
 "nbformat": 4,
 "nbformat_minor": 0
}
