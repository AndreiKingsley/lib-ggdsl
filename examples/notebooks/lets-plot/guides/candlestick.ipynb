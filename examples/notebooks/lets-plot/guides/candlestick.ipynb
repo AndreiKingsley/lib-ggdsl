{
 "cells": [
  {
   "cell_type": "markdown",
   "source": [
    "# \"Candlestick\" statistics & candlestick plot"
   ],
   "metadata": {
    "collapsed": false
   }
  },
  {
   "cell_type": "markdown",
   "source": [
    "Candlestick is a type of chart commonly used in financial markets to represent the price movement of an asset, such as stocks or cryptocurrencies. It consists of individual \"candles\" that display the opening, closing, high, and low prices for a specific time period. Each candle has a rectangular body, representing the opening and closing prices, and thin lines, called wicks or shadows, indicating the highest and lowest prices during that time frame. \n",
    "\n",
    "Candlestick charts often use colors to visually indicate whether the value within a specific candle has increased or decreased. For example, a positive price movement is typically represented by a green candle, indicating that the closing price is higher than the opening price (and by a red color otherwise). Basically \"candlestick\" main statistic is an indicator of whether the price has increased."
   ],
   "metadata": {
    "collapsed": false
   }
  },
  {
   "cell_type": "markdown",
   "source": [
    "This notebook uses definitions from [DataFrame](https://kotlin.github.io/dataframe/overview.html)."
   ],
   "metadata": {
    "collapsed": false
   }
  },
  {
   "cell_type": "markdown",
   "source": [
    "## Usage"
   ],
   "metadata": {
    "collapsed": false
   }
  },
  {
   "cell_type": "markdown",
   "source": [
    "Candlestick charts are widely used by traders and analysts to analyze price patterns and make informed decisions in the financial markets."
   ],
   "metadata": {
    "collapsed": false
   }
  },
  {
   "cell_type": "markdown",
   "source": [
    "## Arguments"
   ],
   "metadata": {
    "collapsed": false
   }
  },
  {
   "cell_type": "markdown",
   "source": [
    "* Input (mandatory):\n",
    "    - `x` — candle `x`-position (often time or date describing);\n",
    "    - `open` — candle open value;\n",
    "    - `high` — candle high value;\n",
    "    - `low` — candle low value;\n",
    "    - `close` — candle close value;"
   ],
   "metadata": {
    "collapsed": false
   }
  },
  {
   "cell_type": "markdown",
   "source": [
    "### Generalized signature"
   ],
   "metadata": {
    "collapsed": false
   }
  },
  {
   "cell_type": "markdown",
   "source": [
    "The specific signature depends on the function,\n",
    "but all functions related to \"candlestick\" statistic\n",
    "(which will be discussed further below - different variations of `statCandlestick()`, `candlestick()`)\n",
    "have approximately the same signature with the arguments above:\n",
    "\n",
    "```\n",
    "statCandlestickArgs := \n",
    "   x, open, high, low, close\n",
    "```\n",
    "\n",
    "The possible types of `x`, `open`, `high`, `low`, `close` depend on where a certain function is used.\n",
    "They can be simply `Iterable` (`List`, `Set`, etc.) or a reference to a column in a `DataFrame`\n",
    "(`String`, `ColumnAccessor`) or the `DataColumn` itself."
   ],
   "metadata": {
    "collapsed": false
   }
  },
  {
   "cell_type": "markdown",
   "source": [
    "## Output statistics"
   ],
   "metadata": {
    "collapsed": false
   }
  },
  {
   "cell_type": "markdown",
   "source": [
    "| name             | type    | description                                                              |\n",
    "|------------------|---------|--------------------------------------------------------------------------|\n",
    "| Stat.x           | X       | Candle `x`-position                                                      |\n",
    "| Stat.open        | Double  | Candle open. Equals to input `open`.                                     |\n",
    "| Stat.close       | Double  | Candle close. Equals to input `close`.                                   |\n",
    "| Stat.min         | Double  | Candle minimum. Equals to input `low`.                                   |\n",
    "| Stat.lower       | Double  | Candle lower value (i.e. smaller of `open`/`close`)                      |\n",
    "| Stat.upper       | Double  | Candle lower value (i.e. greater of `open`/`close`)                      |\n",
    "| Stat.max         | Double  | Candle maximum. Equals to input `high`.                                  |\n",
    "| Stat.isIncreased | Boolean | Increase indicator: `true` if `close` value is greater than `open` value |"
   ],
   "metadata": {
    "collapsed": false
   }
  },
  {
   "cell_type": "markdown",
   "source": [
    "## StatCandlestick plots"
   ],
   "metadata": {
    "collapsed": false
   }
  },
  {
   "cell_type": "code",
   "execution_count": 1,
   "outputs": [],
   "source": [
    "%use kandy(0.6.0-dev-42, 0.1.1-dev-6)\n",
    "%use dataframe"
   ],
   "metadata": {
    "collapsed": false,
    "ExecuteTime": {
     "end_time": "2024-02-22T11:05:36.452217Z",
     "start_time": "2024-02-22T11:05:22.223013Z"
    }
   }
  },
  {
   "cell_type": "code",
   "execution_count": 2,
   "outputs": [
    {
     "data": {
      "text/html": "            <iframe onload=\"o_resize_iframe_out_1()\" style=\"width:100%;\" class=\"result_container\" id=\"iframe_out_1\" frameBorder=\"0\" srcdoc=\"        &lt;html&gt;\n        &lt;head&gt;\n            &lt;style type=&quot;text&sol;css&quot;&gt;\n                :root {\n    --background: #fff;\n    --background-odd: #f5f5f5;\n    --background-hover: #d9edfd;\n    --header-text-color: #474747;\n    --text-color: #848484;\n    --text-color-dark: #000;\n    --text-color-medium: #737373;\n    --text-color-pale: #b3b3b3;\n    --inner-border-color: #aaa;\n    --bold-border-color: #000;\n    --link-color: #296eaa;\n    --link-color-pale: #296eaa;\n    --link-hover: #1a466c;\n}\n\n:root[theme=&quot;dark&quot;], :root [data-jp-theme-light=&quot;false&quot;], .dataframe_dark{\n    --background: #303030;\n    --background-odd: #3c3c3c;\n    --background-hover: #464646;\n    --header-text-color: #dddddd;\n    --text-color: #b3b3b3;\n    --text-color-dark: #dddddd;\n    --text-color-medium: #b2b2b2;\n    --text-color-pale: #737373;\n    --inner-border-color: #707070;\n    --bold-border-color: #777777;\n    --link-color: #008dc0;\n    --link-color-pale: #97e1fb;\n    --link-hover: #00688e;\n}\n\np.dataframe_description {\n    color: var(--text-color-dark);\n}\n\ntable.dataframe {\n    font-family: &quot;Helvetica Neue&quot;, Helvetica, Arial, sans-serif;\n    font-size: 12px;\n    background-color: var(--background);\n    color: var(--text-color-dark);\n    border: none;\n    border-collapse: collapse;\n}\n\ntable.dataframe th, td {\n    padding: 6px;\n    border: 1px solid transparent;\n    text-align: left;\n}\n\ntable.dataframe th {\n    background-color: var(--background);\n    color: var(--header-text-color);\n}\n\ntable.dataframe td {\n    vertical-align: top;\n}\n\ntable.dataframe th.bottomBorder {\n    border-bottom-color: var(--bold-border-color);\n}\n\ntable.dataframe tbody &gt; tr:nth-child(odd) {\n    background: var(--background-odd);\n}\n\ntable.dataframe tbody &gt; tr:nth-child(even) {\n    background: var(--background);\n}\n\ntable.dataframe tbody &gt; tr:hover {\n    background: var(--background-hover);\n}\n\ntable.dataframe a {\n    cursor: pointer;\n    color: var(--link-color);\n    text-decoration: none;\n}\n\ntable.dataframe tr:hover &gt; td a {\n    color: var(--link-color-pale);\n}\n\ntable.dataframe a:hover {\n    color: var(--link-hover);\n    text-decoration: underline;\n}\n\ntable.dataframe img {\n    max-width: fit-content;\n}\n\ntable.dataframe th.complex {\n    background-color: var(--background);\n    border: 1px solid var(--background);\n}\n\ntable.dataframe .leftBorder {\n    border-left-color: var(--inner-border-color);\n}\n\ntable.dataframe .rightBorder {\n    border-right-color: var(--inner-border-color);\n}\n\ntable.dataframe .rightAlign {\n    text-align: right;\n}\n\ntable.dataframe .expanderSvg {\n    width: 8px;\n    height: 8px;\n    margin-right: 3px;\n}\n\ntable.dataframe .expander {\n    display: flex;\n    align-items: center;\n}\n\n&sol;* formatting *&sol;\n\ntable.dataframe .null {\n    color: var(--text-color-pale);\n}\n\ntable.dataframe .structural {\n    color: var(--text-color-medium);\n    font-weight: bold;\n}\n\ntable.dataframe .dataFrameCaption {\n    font-weight: bold;\n}\n\ntable.dataframe .numbers {\n    color: var(--text-color-dark);\n}\n\ntable.dataframe td:hover .formatted .structural, .null {\n    color: var(--text-color-dark);\n}\n\ntable.dataframe tr:hover .formatted .structural, .null {\n    color: var(--text-color-dark);\n}\n\n\n\n\n:root {\n    --scroll-bg: #f5f5f5;\n    --scroll-fg: #b3b3b3;\n}\n:root[theme=&quot;dark&quot;], :root [data-jp-theme-light=&quot;false&quot;]{\n    --scroll-bg: #3c3c3c;\n    --scroll-fg: #97e1fb;\n}\nbody {\n    scrollbar-color: var(--scroll-fg) var(--scroll-bg);\n}\nbody::-webkit-scrollbar {\n    width: 10px; &sol;* Mostly for vertical scrollbars *&sol;\n    height: 10px; &sol;* Mostly for horizontal scrollbars *&sol;\n}\nbody::-webkit-scrollbar-thumb {\n    background-color: var(--scroll-fg);\n}\nbody::-webkit-scrollbar-track {\n    background-color: var(--scroll-bg);\n}\n            &lt;&sol;style&gt;\n        &lt;&sol;head&gt;\n        &lt;body&gt;\n            \n&lt;table class=&quot;dataframe&quot; id=&quot;df_1140850688&quot;&gt;&lt;&sol;table&gt;\n\n&lt;p class=&quot;dataframe_description&quot;&gt;DataFrame: rowsCount = 5, columnsCount = 5&lt;&sol;p&gt;\n\n        &lt;&sol;body&gt;\n        &lt;script&gt;\n            (function () {\n    window.DataFrame = window.DataFrame || new (function () {\n        this.addTable = function (df) {\n            let cols = df.cols;\n            for (let i = 0; i &lt; cols.length; i++) {\n                for (let c of cols[i].children) {\n                    cols[c].parent = i;\n                }\n            }\n            df.nrow = 0\n            for (let i = 0; i &lt; df.cols.length; i++) {\n                if (df.cols[i].values.length &gt; df.nrow) df.nrow = df.cols[i].values.length\n            }\n            if (df.id === df.rootId) {\n                df.expandedFrames = new Set()\n                df.childFrames = {}\n                const table = this.getTableElement(df.id)\n                table.df = df\n                for (let i = 0; i &lt; df.cols.length; i++) {\n                    let col = df.cols[i]\n                    if (col.parent === undefined &amp;&amp; col.children.length &gt; 0) col.expanded = true\n                }\n            } else {\n                const rootDf = this.getTableData(df.rootId)\n                rootDf.childFrames[df.id] = df\n            }\n        }\n\n        this.computeRenderData = function (df) {\n            let result = []\n            let pos = 0\n            for (let col = 0; col &lt; df.cols.length; col++) {\n                if (df.cols[col].parent === undefined)\n                    pos += this.computeRenderDataRec(df.cols, col, pos, 0, result, false, false)\n            }\n            for (let i = 0; i &lt; result.length; i++) {\n                let row = result[i]\n                for (let j = 0; j &lt; row.length; j++) {\n                    let cell = row[j]\n                    if (j === 0)\n                        cell.leftBd = false\n                    if (j &lt; row.length - 1) {\n                        let nextData = row[j + 1]\n                        if (nextData.leftBd) cell.rightBd = true\n                        else if (cell.rightBd) nextData.leftBd = true\n                    } else cell.rightBd = false\n                }\n            }\n            return result\n        }\n\n        this.computeRenderDataRec = function (cols, colId, pos, depth, result, leftBorder, rightBorder) {\n            if (result.length === depth) {\n                const array = [];\n                if (pos &gt; 0) {\n                    let j = 0\n                    for (let i = 0; j &lt; pos; i++) {\n                        let c = result[depth - 1][i]\n                        j += c.span\n                        let copy = Object.assign({empty: true}, c)\n                        array.push(copy)\n                    }\n                }\n                result.push(array)\n            }\n            const col = cols[colId];\n            let size = 0;\n            if (col.expanded) {\n                let childPos = pos\n                for (let i = 0; i &lt; col.children.length; i++) {\n                    let child = col.children[i]\n                    let childLeft = i === 0 &amp;&amp; (col.children.length &gt; 1 || leftBorder)\n                    let childRight = i === col.children.length - 1 &amp;&amp; (col.children.length &gt; 1 || rightBorder)\n                    let childSize = this.computeRenderDataRec(cols, child, childPos, depth + 1, result, childLeft, childRight)\n                    childPos += childSize\n                    size += childSize\n                }\n            } else {\n                for (let i = depth + 1; i &lt; result.length; i++)\n                    result[i].push({id: colId, span: 1, leftBd: leftBorder, rightBd: rightBorder, empty: true})\n                size = 1\n            }\n            let left = leftBorder\n            let right = rightBorder\n            if (size &gt; 1) {\n                left = true\n                right = true\n            }\n            result[depth].push({id: colId, span: size, leftBd: left, rightBd: right})\n            return size\n        }\n\n        this.getTableElement = function (id) {\n            return document.getElementById(&quot;df_&quot; + id)\n        }\n\n        this.getTableData = function (id) {\n            return this.getTableElement(id).df\n        }\n\n        this.createExpander = function (isExpanded) {\n            const svgNs = &quot;http:&sol;&sol;www.w3.org&sol;2000&sol;svg&quot;\n            let svg = document.createElementNS(svgNs, &quot;svg&quot;)\n            svg.classList.add(&quot;expanderSvg&quot;)\n            let path = document.createElementNS(svgNs, &quot;path&quot;)\n            if (isExpanded) {\n                svg.setAttribute(&quot;viewBox&quot;, &quot;0 -2 8 8&quot;)\n                path.setAttribute(&quot;d&quot;, &quot;M1 0 l-1 1 4 4 4 -4 -1 -1 -3 3Z&quot;)\n            } else {\n                svg.setAttribute(&quot;viewBox&quot;, &quot;-2 0 8 8&quot;)\n                path.setAttribute(&quot;d&quot;, &quot;M1 0 l-1 1 3 3 -3 3 1 1 4 -4Z&quot;)\n            }\n            path.setAttribute(&quot;fill&quot;, &quot;currentColor&quot;)\n            svg.appendChild(path)\n            return svg\n        }\n\n        this.renderTable = function (id) {\n\n            let table = this.getTableElement(id)\n\n            if (table === null) return\n\n            table.innerHTML = &quot;&quot;\n\n            let df = table.df\n            let rootDf = df.rootId === df.id ? df : this.getTableData(df.rootId)\n\n            &sol;&sol; header\n            let header = document.createElement(&quot;thead&quot;)\n            table.appendChild(header)\n\n            let renderData = this.computeRenderData(df)\n            for (let j = 0; j &lt; renderData.length; j++) {\n                let rowData = renderData[j]\n                let tr = document.createElement(&quot;tr&quot;);\n                let isLastRow = j === renderData.length - 1\n                header.appendChild(tr);\n                for (let i = 0; i &lt; rowData.length; i++) {\n                    let cell = rowData[i]\n                    let th = document.createElement(&quot;th&quot;);\n                    th.setAttribute(&quot;colspan&quot;, cell.span)\n                    let colId = cell.id\n                    let col = df.cols[colId];\n                    if (!cell.empty) {\n                        if (col.children.length === 0) {\n                            th.innerHTML = col.name\n                        } else {\n                            let link = document.createElement(&quot;a&quot;)\n                            link.className = &quot;expander&quot;\n                            let that = this\n                            link.onclick = function () {\n                                col.expanded = !col.expanded\n                                that.renderTable(id)\n                            }\n                            link.appendChild(this.createExpander(col.expanded))\n                            link.innerHTML += col.name\n                            th.appendChild(link)\n                        }\n                    }\n                    let classes = (cell.leftBd ? &quot; leftBorder&quot; : &quot;&quot;) + (cell.rightBd ? &quot; rightBorder&quot; : &quot;&quot;)\n                    if (col.rightAlign)\n                        classes += &quot; rightAlign&quot;\n                    if (isLastRow)\n                        classes += &quot; bottomBorder&quot;\n                    if (classes.length &gt; 0)\n                        th.setAttribute(&quot;class&quot;, classes)\n                    tr.appendChild(th)\n                }\n            }\n\n            &sol;&sol; body\n            let body = document.createElement(&quot;tbody&quot;)\n            table.appendChild(body)\n\n            let columns = renderData.pop()\n            for (let row = 0; row &lt; df.nrow; row++) {\n                let tr = document.createElement(&quot;tr&quot;);\n                body.appendChild(tr)\n                for (let i = 0; i &lt; columns.length; i++) {\n                    let cell = columns[i]\n                    let td = document.createElement(&quot;td&quot;);\n                    let colId = cell.id\n                    let col = df.cols[colId]\n                    let classes = (cell.leftBd ? &quot; leftBorder&quot; : &quot;&quot;) + (cell.rightBd ? &quot; rightBorder&quot; : &quot;&quot;)\n                    if (col.rightAlign)\n                        classes += &quot; rightAlign&quot;\n                    if (classes.length &gt; 0)\n                        td.setAttribute(&quot;class&quot;, classes)\n                    tr.appendChild(td)\n                    let value = col.values[row]\n                    if (value.frameId !== undefined) {\n                        let frameId = value.frameId\n                        let expanded = rootDf.expandedFrames.has(frameId)\n                        let link = document.createElement(&quot;a&quot;)\n                        link.className = &quot;expander&quot;\n                        let that = this\n                        link.onclick = function () {\n                            if (rootDf.expandedFrames.has(frameId))\n                                rootDf.expandedFrames.delete(frameId)\n                            else rootDf.expandedFrames.add(frameId)\n                            that.renderTable(id)\n                        }\n                        link.appendChild(this.createExpander(expanded))\n                        link.innerHTML += value.value\n                        if (expanded) {\n                            td.appendChild(link)\n                            td.appendChild(document.createElement(&quot;p&quot;))\n                            const childTable = document.createElement(&quot;table&quot;)\n                            childTable.className = &quot;dataframe&quot;\n                            childTable.id = &quot;df_&quot; + frameId\n                            let childDf = rootDf.childFrames[frameId]\n                            childTable.df = childDf\n                            td.appendChild(childTable)\n                            this.renderTable(frameId)\n                            if (childDf.nrow !== childDf.totalRows) {\n                                const footer = document.createElement(&quot;p&quot;)\n                                footer.innerText = `... showing only top ${childDf.nrow} of ${childDf.totalRows} rows`\n                                td.appendChild(footer)\n                            }\n                        } else {\n                            td.appendChild(link)\n                        }\n                    } else if (value.style !== undefined) {\n                        td.innerHTML = value.value\n                        td.setAttribute(&quot;style&quot;, value.style)\n                    } else td.innerHTML = value\n                    this.nodeScriptReplace(td)\n                }\n            }\n        }\n\n        this.nodeScriptReplace = function (node) {\n            if (this.nodeScriptIs(node) === true) {\n                node.parentNode.replaceChild(this.nodeScriptClone(node), node);\n            } else {\n                let i = -1, children = node.childNodes;\n                while (++i &lt; children.length) {\n                    this.nodeScriptReplace(children[i]);\n                }\n            }\n\n            return node;\n        }\n\n        this.nodeScriptClone = function (node) {\n            let script = document.createElement(&quot;script&quot;);\n            script.text = node.innerHTML;\n\n            let i = -1, attrs = node.attributes, attr;\n            while (++i &lt; attrs.length) {\n                script.setAttribute((attr = attrs[i]).name, attr.value);\n            }\n            return script;\n        }\n\n        this.nodeScriptIs = function (node) {\n            return node.tagName === 'SCRIPT';\n        }\n    })()\n\n    window.call_DataFrame = function (f) {\n        return f();\n    };\n\n    let funQueue = window[&quot;kotlinQueues&quot;] &amp;&amp; window[&quot;kotlinQueues&quot;][&quot;DataFrame&quot;];\n    if (funQueue) {\n        funQueue.forEach(function (f) {\n            f();\n        });\n        funQueue = [];\n    }\n})()\n\n&sol;*&lt;!--*&sol;\ncall_DataFrame(function() { DataFrame.addTable({ cols: [{ name: &quot;&lt;span title=&bsol;&quot;x: String&bsol;&quot;&gt;x&lt;&sol;span&gt;&quot;, children: [], rightAlign: false, values: [&quot;Jan&quot;,&quot;Feb&quot;,&quot;Mar&quot;,&quot;Apr&quot;,&quot;May&quot;] }, \n{ name: &quot;&lt;span title=&bsol;&quot;open: Double&bsol;&quot;&gt;open&lt;&sol;span&gt;&quot;, children: [], rightAlign: true, values: [&quot;&lt;span class=&bsol;&quot;formatted&bsol;&quot; title=&bsol;&quot;&bsol;&quot;&gt;&lt;span class=&bsol;&quot;numbers&bsol;&quot;&gt;14,2&lt;&sol;span&gt;&lt;&sol;span&gt;&quot;,&quot;&lt;span class=&bsol;&quot;formatted&bsol;&quot; title=&bsol;&quot;&bsol;&quot;&gt;&lt;span class=&bsol;&quot;numbers&bsol;&quot;&gt;6,7&lt;&sol;span&gt;&lt;&sol;span&gt;&quot;,&quot;&lt;span class=&bsol;&quot;formatted&bsol;&quot; title=&bsol;&quot;&bsol;&quot;&gt;&lt;span class=&bsol;&quot;numbers&bsol;&quot;&gt;8,8&lt;&sol;span&gt;&lt;&sol;span&gt;&quot;,&quot;&lt;span class=&bsol;&quot;formatted&bsol;&quot; title=&bsol;&quot;&bsol;&quot;&gt;&lt;span class=&bsol;&quot;numbers&bsol;&quot;&gt;11,2&lt;&sol;span&gt;&lt;&sol;span&gt;&quot;,&quot;&lt;span class=&bsol;&quot;formatted&bsol;&quot; title=&bsol;&quot;&bsol;&quot;&gt;&lt;span class=&bsol;&quot;numbers&bsol;&quot;&gt;4,0&lt;&sol;span&gt;&lt;&sol;span&gt;&quot;] }, \n{ name: &quot;&lt;span title=&bsol;&quot;high: Double&bsol;&quot;&gt;high&lt;&sol;span&gt;&quot;, children: [], rightAlign: true, values: [&quot;&lt;span class=&bsol;&quot;formatted&bsol;&quot; title=&bsol;&quot;&bsol;&quot;&gt;&lt;span class=&bsol;&quot;numbers&bsol;&quot;&gt;15,5&lt;&sol;span&gt;&lt;&sol;span&gt;&quot;,&quot;&lt;span class=&bsol;&quot;formatted&bsol;&quot; title=&bsol;&quot;&bsol;&quot;&gt;&lt;span class=&bsol;&quot;numbers&bsol;&quot;&gt;9,6&lt;&sol;span&gt;&lt;&sol;span&gt;&quot;,&quot;&lt;span class=&bsol;&quot;formatted&bsol;&quot; title=&bsol;&quot;&bsol;&quot;&gt;&lt;span class=&bsol;&quot;numbers&bsol;&quot;&gt;10,7&lt;&sol;span&gt;&lt;&sol;span&gt;&quot;,&quot;&lt;span class=&bsol;&quot;formatted&bsol;&quot; title=&bsol;&quot;&bsol;&quot;&gt;&lt;span class=&bsol;&quot;numbers&bsol;&quot;&gt;11,7&lt;&sol;span&gt;&lt;&sol;span&gt;&quot;,&quot;&lt;span class=&bsol;&quot;formatted&bsol;&quot; title=&bsol;&quot;&bsol;&quot;&gt;&lt;span class=&bsol;&quot;numbers&bsol;&quot;&gt;9,9&lt;&sol;span&gt;&lt;&sol;span&gt;&quot;] }, \n{ name: &quot;&lt;span title=&bsol;&quot;low: Double&bsol;&quot;&gt;low&lt;&sol;span&gt;&quot;, children: [], rightAlign: true, values: [&quot;&lt;span class=&bsol;&quot;formatted&bsol;&quot; title=&bsol;&quot;&bsol;&quot;&gt;&lt;span class=&bsol;&quot;numbers&bsol;&quot;&gt;7,5&lt;&sol;span&gt;&lt;&sol;span&gt;&quot;,&quot;&lt;span class=&bsol;&quot;formatted&bsol;&quot; title=&bsol;&quot;&bsol;&quot;&gt;&lt;span class=&bsol;&quot;numbers&bsol;&quot;&gt;6,1&lt;&sol;span&gt;&lt;&sol;span&gt;&quot;,&quot;&lt;span class=&bsol;&quot;formatted&bsol;&quot; title=&bsol;&quot;&bsol;&quot;&gt;&lt;span class=&bsol;&quot;numbers&bsol;&quot;&gt;8,5&lt;&sol;span&gt;&lt;&sol;span&gt;&quot;,&quot;&lt;span class=&bsol;&quot;formatted&bsol;&quot; title=&bsol;&quot;&bsol;&quot;&gt;&lt;span class=&bsol;&quot;numbers&bsol;&quot;&gt;5,4&lt;&sol;span&gt;&lt;&sol;span&gt;&quot;,&quot;&lt;span class=&bsol;&quot;formatted&bsol;&quot; title=&bsol;&quot;&bsol;&quot;&gt;&lt;span class=&bsol;&quot;numbers&bsol;&quot;&gt;4,0&lt;&sol;span&gt;&lt;&sol;span&gt;&quot;] }, \n{ name: &quot;&lt;span title=&bsol;&quot;close: Double&bsol;&quot;&gt;close&lt;&sol;span&gt;&quot;, children: [], rightAlign: true, values: [&quot;&lt;span class=&bsol;&quot;formatted&bsol;&quot; title=&bsol;&quot;&bsol;&quot;&gt;&lt;span class=&bsol;&quot;numbers&bsol;&quot;&gt;8,0&lt;&sol;span&gt;&lt;&sol;span&gt;&quot;,&quot;&lt;span class=&bsol;&quot;formatted&bsol;&quot; title=&bsol;&quot;&bsol;&quot;&gt;&lt;span class=&bsol;&quot;numbers&bsol;&quot;&gt;8,6&lt;&sol;span&gt;&lt;&sol;span&gt;&quot;,&quot;&lt;span class=&bsol;&quot;formatted&bsol;&quot; title=&bsol;&quot;&bsol;&quot;&gt;&lt;span class=&bsol;&quot;numbers&bsol;&quot;&gt;10,7&lt;&sol;span&gt;&lt;&sol;span&gt;&quot;,&quot;&lt;span class=&bsol;&quot;formatted&bsol;&quot; title=&bsol;&quot;&bsol;&quot;&gt;&lt;span class=&bsol;&quot;numbers&bsol;&quot;&gt;6,5&lt;&sol;span&gt;&lt;&sol;span&gt;&quot;,&quot;&lt;span class=&bsol;&quot;formatted&bsol;&quot; title=&bsol;&quot;&bsol;&quot;&gt;&lt;span class=&bsol;&quot;numbers&bsol;&quot;&gt;9,8&lt;&sol;span&gt;&lt;&sol;span&gt;&quot;] }, \n], id: 1140850688, rootId: 1140850688, totalRows: 5 } ) });\n&sol;*--&gt;*&sol;\n\ncall_DataFrame(function() { DataFrame.renderTable(1140850688) });\n\n\n\n        &lt;&sol;script&gt;\n        &lt;&sol;html&gt;\"></iframe>\n            <script>\n                function o_resize_iframe_out_1() {\n                    let elem = document.getElementById(\"iframe_out_1\");\n                    resize_iframe_out_1(elem);\n                    setInterval(resize_iframe_out_1, 5000, elem);\n                }\n                function resize_iframe_out_1(el) {\n                    let h = el.contentWindow.document.body.scrollHeight;\n                    el.height = h === 0 ? 0 : h + 41;\n                }\n            </script>",
      "application/kotlindataframe+json": "{\"nrow\":5,\"ncol\":5,\"columns\":[\"x\",\"open\",\"high\",\"low\",\"close\"],\"kotlin_dataframe\":[{\"x\":\"Jan\",\"open\":14.2,\"high\":15.5,\"low\":7.5,\"close\":8.0},{\"x\":\"Feb\",\"open\":6.7,\"high\":9.6,\"low\":6.1,\"close\":8.6},{\"x\":\"Mar\",\"open\":8.8,\"high\":10.7,\"low\":8.5,\"close\":10.7},{\"x\":\"Apr\",\"open\":11.2,\"high\":11.7,\"low\":5.4,\"close\":6.5},{\"x\":\"May\",\"open\":4.0,\"high\":9.9,\"low\":4.0,\"close\":9.8}]}"
     },
     "execution_count": 2,
     "metadata": {},
     "output_type": "execute_result"
    }
   ],
   "source": [
    "// Create a simple candlestick dataset\n",
    "val xList = listOf(\"Jan\", \"Feb\", \"Mar\", \"Apr\", \"May\")\n",
    "val openList = listOf(14.2, 6.7, 8.8, 11.2, 4.0)\n",
    "val highList = listOf(15.5, 9.6, 10.7, 11.7, 9.9)\n",
    "val lowList = listOf(7.5, 6.1, 8.5, 5.4, 4.0)\n",
    "val closeList = listOf(8.0, 8.6, 10.7, 6.5, 9.8)\n",
    "// Gather lists into df as columns\n",
    "val df = dataFrameOf(\n",
    "    \"x\" to xList,\n",
    "    \"open\" to openList,\n",
    "    \"high\" to highList,\n",
    "    \"low\" to lowList,\n",
    "    \"close\" to closeList,\n",
    ")\n",
    "df.head()"
   ],
   "metadata": {
    "collapsed": false,
    "ExecuteTime": {
     "end_time": "2024-02-22T11:05:37.683978Z",
     "start_time": "2024-02-22T11:05:36.472015Z"
    }
   }
  },
  {
   "cell_type": "markdown",
   "source": [
    "`df` has a signature\n",
    "\n",
    "| x | open | high | low | close |\n",
    "|---|------|------|-----|-------|"
   ],
   "metadata": {
    "collapsed": false
   }
  },
  {
   "cell_type": "markdown",
   "source": [
    "Let's take a look at `StatCandlestick` output DataFrame:"
   ],
   "metadata": {
    "collapsed": false
   }
  },
  {
   "cell_type": "code",
   "execution_count": 3,
   "outputs": [
    {
     "data": {
      "text/html": "            <iframe onload=\"o_resize_iframe_out_2()\" style=\"width:100%;\" class=\"result_container\" id=\"iframe_out_2\" frameBorder=\"0\" srcdoc=\"        &lt;html&gt;\n        &lt;head&gt;\n            &lt;style type=&quot;text&sol;css&quot;&gt;\n                :root {\n    --background: #fff;\n    --background-odd: #f5f5f5;\n    --background-hover: #d9edfd;\n    --header-text-color: #474747;\n    --text-color: #848484;\n    --text-color-dark: #000;\n    --text-color-medium: #737373;\n    --text-color-pale: #b3b3b3;\n    --inner-border-color: #aaa;\n    --bold-border-color: #000;\n    --link-color: #296eaa;\n    --link-color-pale: #296eaa;\n    --link-hover: #1a466c;\n}\n\n:root[theme=&quot;dark&quot;], :root [data-jp-theme-light=&quot;false&quot;], .dataframe_dark{\n    --background: #303030;\n    --background-odd: #3c3c3c;\n    --background-hover: #464646;\n    --header-text-color: #dddddd;\n    --text-color: #b3b3b3;\n    --text-color-dark: #dddddd;\n    --text-color-medium: #b2b2b2;\n    --text-color-pale: #737373;\n    --inner-border-color: #707070;\n    --bold-border-color: #777777;\n    --link-color: #008dc0;\n    --link-color-pale: #97e1fb;\n    --link-hover: #00688e;\n}\n\np.dataframe_description {\n    color: var(--text-color-dark);\n}\n\ntable.dataframe {\n    font-family: &quot;Helvetica Neue&quot;, Helvetica, Arial, sans-serif;\n    font-size: 12px;\n    background-color: var(--background);\n    color: var(--text-color-dark);\n    border: none;\n    border-collapse: collapse;\n}\n\ntable.dataframe th, td {\n    padding: 6px;\n    border: 1px solid transparent;\n    text-align: left;\n}\n\ntable.dataframe th {\n    background-color: var(--background);\n    color: var(--header-text-color);\n}\n\ntable.dataframe td {\n    vertical-align: top;\n}\n\ntable.dataframe th.bottomBorder {\n    border-bottom-color: var(--bold-border-color);\n}\n\ntable.dataframe tbody &gt; tr:nth-child(odd) {\n    background: var(--background-odd);\n}\n\ntable.dataframe tbody &gt; tr:nth-child(even) {\n    background: var(--background);\n}\n\ntable.dataframe tbody &gt; tr:hover {\n    background: var(--background-hover);\n}\n\ntable.dataframe a {\n    cursor: pointer;\n    color: var(--link-color);\n    text-decoration: none;\n}\n\ntable.dataframe tr:hover &gt; td a {\n    color: var(--link-color-pale);\n}\n\ntable.dataframe a:hover {\n    color: var(--link-hover);\n    text-decoration: underline;\n}\n\ntable.dataframe img {\n    max-width: fit-content;\n}\n\ntable.dataframe th.complex {\n    background-color: var(--background);\n    border: 1px solid var(--background);\n}\n\ntable.dataframe .leftBorder {\n    border-left-color: var(--inner-border-color);\n}\n\ntable.dataframe .rightBorder {\n    border-right-color: var(--inner-border-color);\n}\n\ntable.dataframe .rightAlign {\n    text-align: right;\n}\n\ntable.dataframe .expanderSvg {\n    width: 8px;\n    height: 8px;\n    margin-right: 3px;\n}\n\ntable.dataframe .expander {\n    display: flex;\n    align-items: center;\n}\n\n&sol;* formatting *&sol;\n\ntable.dataframe .null {\n    color: var(--text-color-pale);\n}\n\ntable.dataframe .structural {\n    color: var(--text-color-medium);\n    font-weight: bold;\n}\n\ntable.dataframe .dataFrameCaption {\n    font-weight: bold;\n}\n\ntable.dataframe .numbers {\n    color: var(--text-color-dark);\n}\n\ntable.dataframe td:hover .formatted .structural, .null {\n    color: var(--text-color-dark);\n}\n\ntable.dataframe tr:hover .formatted .structural, .null {\n    color: var(--text-color-dark);\n}\n\n\n\n\n:root {\n    --scroll-bg: #f5f5f5;\n    --scroll-fg: #b3b3b3;\n}\n:root[theme=&quot;dark&quot;], :root [data-jp-theme-light=&quot;false&quot;]{\n    --scroll-bg: #3c3c3c;\n    --scroll-fg: #97e1fb;\n}\nbody {\n    scrollbar-color: var(--scroll-fg) var(--scroll-bg);\n}\nbody::-webkit-scrollbar {\n    width: 10px; &sol;* Mostly for vertical scrollbars *&sol;\n    height: 10px; &sol;* Mostly for horizontal scrollbars *&sol;\n}\nbody::-webkit-scrollbar-thumb {\n    background-color: var(--scroll-fg);\n}\nbody::-webkit-scrollbar-track {\n    background-color: var(--scroll-bg);\n}\n            &lt;&sol;style&gt;\n        &lt;&sol;head&gt;\n        &lt;body&gt;\n            \n&lt;table class=&quot;dataframe&quot; id=&quot;df_1140850689&quot;&gt;&lt;&sol;table&gt;\n\n&lt;p class=&quot;dataframe_description&quot;&gt;DataFrame: rowsCount = 5, columnsCount = 1&lt;&sol;p&gt;\n\n        &lt;&sol;body&gt;\n        &lt;script&gt;\n            (function () {\n    window.DataFrame = window.DataFrame || new (function () {\n        this.addTable = function (df) {\n            let cols = df.cols;\n            for (let i = 0; i &lt; cols.length; i++) {\n                for (let c of cols[i].children) {\n                    cols[c].parent = i;\n                }\n            }\n            df.nrow = 0\n            for (let i = 0; i &lt; df.cols.length; i++) {\n                if (df.cols[i].values.length &gt; df.nrow) df.nrow = df.cols[i].values.length\n            }\n            if (df.id === df.rootId) {\n                df.expandedFrames = new Set()\n                df.childFrames = {}\n                const table = this.getTableElement(df.id)\n                table.df = df\n                for (let i = 0; i &lt; df.cols.length; i++) {\n                    let col = df.cols[i]\n                    if (col.parent === undefined &amp;&amp; col.children.length &gt; 0) col.expanded = true\n                }\n            } else {\n                const rootDf = this.getTableData(df.rootId)\n                rootDf.childFrames[df.id] = df\n            }\n        }\n\n        this.computeRenderData = function (df) {\n            let result = []\n            let pos = 0\n            for (let col = 0; col &lt; df.cols.length; col++) {\n                if (df.cols[col].parent === undefined)\n                    pos += this.computeRenderDataRec(df.cols, col, pos, 0, result, false, false)\n            }\n            for (let i = 0; i &lt; result.length; i++) {\n                let row = result[i]\n                for (let j = 0; j &lt; row.length; j++) {\n                    let cell = row[j]\n                    if (j === 0)\n                        cell.leftBd = false\n                    if (j &lt; row.length - 1) {\n                        let nextData = row[j + 1]\n                        if (nextData.leftBd) cell.rightBd = true\n                        else if (cell.rightBd) nextData.leftBd = true\n                    } else cell.rightBd = false\n                }\n            }\n            return result\n        }\n\n        this.computeRenderDataRec = function (cols, colId, pos, depth, result, leftBorder, rightBorder) {\n            if (result.length === depth) {\n                const array = [];\n                if (pos &gt; 0) {\n                    let j = 0\n                    for (let i = 0; j &lt; pos; i++) {\n                        let c = result[depth - 1][i]\n                        j += c.span\n                        let copy = Object.assign({empty: true}, c)\n                        array.push(copy)\n                    }\n                }\n                result.push(array)\n            }\n            const col = cols[colId];\n            let size = 0;\n            if (col.expanded) {\n                let childPos = pos\n                for (let i = 0; i &lt; col.children.length; i++) {\n                    let child = col.children[i]\n                    let childLeft = i === 0 &amp;&amp; (col.children.length &gt; 1 || leftBorder)\n                    let childRight = i === col.children.length - 1 &amp;&amp; (col.children.length &gt; 1 || rightBorder)\n                    let childSize = this.computeRenderDataRec(cols, child, childPos, depth + 1, result, childLeft, childRight)\n                    childPos += childSize\n                    size += childSize\n                }\n            } else {\n                for (let i = depth + 1; i &lt; result.length; i++)\n                    result[i].push({id: colId, span: 1, leftBd: leftBorder, rightBd: rightBorder, empty: true})\n                size = 1\n            }\n            let left = leftBorder\n            let right = rightBorder\n            if (size &gt; 1) {\n                left = true\n                right = true\n            }\n            result[depth].push({id: colId, span: size, leftBd: left, rightBd: right})\n            return size\n        }\n\n        this.getTableElement = function (id) {\n            return document.getElementById(&quot;df_&quot; + id)\n        }\n\n        this.getTableData = function (id) {\n            return this.getTableElement(id).df\n        }\n\n        this.createExpander = function (isExpanded) {\n            const svgNs = &quot;http:&sol;&sol;www.w3.org&sol;2000&sol;svg&quot;\n            let svg = document.createElementNS(svgNs, &quot;svg&quot;)\n            svg.classList.add(&quot;expanderSvg&quot;)\n            let path = document.createElementNS(svgNs, &quot;path&quot;)\n            if (isExpanded) {\n                svg.setAttribute(&quot;viewBox&quot;, &quot;0 -2 8 8&quot;)\n                path.setAttribute(&quot;d&quot;, &quot;M1 0 l-1 1 4 4 4 -4 -1 -1 -3 3Z&quot;)\n            } else {\n                svg.setAttribute(&quot;viewBox&quot;, &quot;-2 0 8 8&quot;)\n                path.setAttribute(&quot;d&quot;, &quot;M1 0 l-1 1 3 3 -3 3 1 1 4 -4Z&quot;)\n            }\n            path.setAttribute(&quot;fill&quot;, &quot;currentColor&quot;)\n            svg.appendChild(path)\n            return svg\n        }\n\n        this.renderTable = function (id) {\n\n            let table = this.getTableElement(id)\n\n            if (table === null) return\n\n            table.innerHTML = &quot;&quot;\n\n            let df = table.df\n            let rootDf = df.rootId === df.id ? df : this.getTableData(df.rootId)\n\n            &sol;&sol; header\n            let header = document.createElement(&quot;thead&quot;)\n            table.appendChild(header)\n\n            let renderData = this.computeRenderData(df)\n            for (let j = 0; j &lt; renderData.length; j++) {\n                let rowData = renderData[j]\n                let tr = document.createElement(&quot;tr&quot;);\n                let isLastRow = j === renderData.length - 1\n                header.appendChild(tr);\n                for (let i = 0; i &lt; rowData.length; i++) {\n                    let cell = rowData[i]\n                    let th = document.createElement(&quot;th&quot;);\n                    th.setAttribute(&quot;colspan&quot;, cell.span)\n                    let colId = cell.id\n                    let col = df.cols[colId];\n                    if (!cell.empty) {\n                        if (col.children.length === 0) {\n                            th.innerHTML = col.name\n                        } else {\n                            let link = document.createElement(&quot;a&quot;)\n                            link.className = &quot;expander&quot;\n                            let that = this\n                            link.onclick = function () {\n                                col.expanded = !col.expanded\n                                that.renderTable(id)\n                            }\n                            link.appendChild(this.createExpander(col.expanded))\n                            link.innerHTML += col.name\n                            th.appendChild(link)\n                        }\n                    }\n                    let classes = (cell.leftBd ? &quot; leftBorder&quot; : &quot;&quot;) + (cell.rightBd ? &quot; rightBorder&quot; : &quot;&quot;)\n                    if (col.rightAlign)\n                        classes += &quot; rightAlign&quot;\n                    if (isLastRow)\n                        classes += &quot; bottomBorder&quot;\n                    if (classes.length &gt; 0)\n                        th.setAttribute(&quot;class&quot;, classes)\n                    tr.appendChild(th)\n                }\n            }\n\n            &sol;&sol; body\n            let body = document.createElement(&quot;tbody&quot;)\n            table.appendChild(body)\n\n            let columns = renderData.pop()\n            for (let row = 0; row &lt; df.nrow; row++) {\n                let tr = document.createElement(&quot;tr&quot;);\n                body.appendChild(tr)\n                for (let i = 0; i &lt; columns.length; i++) {\n                    let cell = columns[i]\n                    let td = document.createElement(&quot;td&quot;);\n                    let colId = cell.id\n                    let col = df.cols[colId]\n                    let classes = (cell.leftBd ? &quot; leftBorder&quot; : &quot;&quot;) + (cell.rightBd ? &quot; rightBorder&quot; : &quot;&quot;)\n                    if (col.rightAlign)\n                        classes += &quot; rightAlign&quot;\n                    if (classes.length &gt; 0)\n                        td.setAttribute(&quot;class&quot;, classes)\n                    tr.appendChild(td)\n                    let value = col.values[row]\n                    if (value.frameId !== undefined) {\n                        let frameId = value.frameId\n                        let expanded = rootDf.expandedFrames.has(frameId)\n                        let link = document.createElement(&quot;a&quot;)\n                        link.className = &quot;expander&quot;\n                        let that = this\n                        link.onclick = function () {\n                            if (rootDf.expandedFrames.has(frameId))\n                                rootDf.expandedFrames.delete(frameId)\n                            else rootDf.expandedFrames.add(frameId)\n                            that.renderTable(id)\n                        }\n                        link.appendChild(this.createExpander(expanded))\n                        link.innerHTML += value.value\n                        if (expanded) {\n                            td.appendChild(link)\n                            td.appendChild(document.createElement(&quot;p&quot;))\n                            const childTable = document.createElement(&quot;table&quot;)\n                            childTable.className = &quot;dataframe&quot;\n                            childTable.id = &quot;df_&quot; + frameId\n                            let childDf = rootDf.childFrames[frameId]\n                            childTable.df = childDf\n                            td.appendChild(childTable)\n                            this.renderTable(frameId)\n                            if (childDf.nrow !== childDf.totalRows) {\n                                const footer = document.createElement(&quot;p&quot;)\n                                footer.innerText = `... showing only top ${childDf.nrow} of ${childDf.totalRows} rows`\n                                td.appendChild(footer)\n                            }\n                        } else {\n                            td.appendChild(link)\n                        }\n                    } else if (value.style !== undefined) {\n                        td.innerHTML = value.value\n                        td.setAttribute(&quot;style&quot;, value.style)\n                    } else td.innerHTML = value\n                    this.nodeScriptReplace(td)\n                }\n            }\n        }\n\n        this.nodeScriptReplace = function (node) {\n            if (this.nodeScriptIs(node) === true) {\n                node.parentNode.replaceChild(this.nodeScriptClone(node), node);\n            } else {\n                let i = -1, children = node.childNodes;\n                while (++i &lt; children.length) {\n                    this.nodeScriptReplace(children[i]);\n                }\n            }\n\n            return node;\n        }\n\n        this.nodeScriptClone = function (node) {\n            let script = document.createElement(&quot;script&quot;);\n            script.text = node.innerHTML;\n\n            let i = -1, attrs = node.attributes, attr;\n            while (++i &lt; attrs.length) {\n                script.setAttribute((attr = attrs[i]).name, attr.value);\n            }\n            return script;\n        }\n\n        this.nodeScriptIs = function (node) {\n            return node.tagName === 'SCRIPT';\n        }\n    })()\n\n    window.call_DataFrame = function (f) {\n        return f();\n    };\n\n    let funQueue = window[&quot;kotlinQueues&quot;] &amp;&amp; window[&quot;kotlinQueues&quot;][&quot;DataFrame&quot;];\n    if (funQueue) {\n        funQueue.forEach(function (f) {\n            f();\n        });\n        funQueue = [];\n    }\n})()\n\n&sol;*&lt;!--*&sol;\ncall_DataFrame(function() { DataFrame.addTable({ cols: [{ name: &quot;&lt;span title=&bsol;&quot;x: String&bsol;&quot;&gt;x&lt;&sol;span&gt;&quot;, children: [], rightAlign: false, values: [&quot;Jan&quot;,&quot;Feb&quot;,&quot;Mar&quot;,&quot;Apr&quot;,&quot;May&quot;] }, \n{ name: &quot;&lt;span title=&bsol;&quot;open: Double&bsol;&quot;&gt;open&lt;&sol;span&gt;&quot;, children: [], rightAlign: true, values: [&quot;&lt;span class=&bsol;&quot;formatted&bsol;&quot; title=&bsol;&quot;&bsol;&quot;&gt;&lt;span class=&bsol;&quot;numbers&bsol;&quot;&gt;14,2&lt;&sol;span&gt;&lt;&sol;span&gt;&quot;,&quot;&lt;span class=&bsol;&quot;formatted&bsol;&quot; title=&bsol;&quot;&bsol;&quot;&gt;&lt;span class=&bsol;&quot;numbers&bsol;&quot;&gt;6,7&lt;&sol;span&gt;&lt;&sol;span&gt;&quot;,&quot;&lt;span class=&bsol;&quot;formatted&bsol;&quot; title=&bsol;&quot;&bsol;&quot;&gt;&lt;span class=&bsol;&quot;numbers&bsol;&quot;&gt;8,8&lt;&sol;span&gt;&lt;&sol;span&gt;&quot;,&quot;&lt;span class=&bsol;&quot;formatted&bsol;&quot; title=&bsol;&quot;&bsol;&quot;&gt;&lt;span class=&bsol;&quot;numbers&bsol;&quot;&gt;11,2&lt;&sol;span&gt;&lt;&sol;span&gt;&quot;,&quot;&lt;span class=&bsol;&quot;formatted&bsol;&quot; title=&bsol;&quot;&bsol;&quot;&gt;&lt;span class=&bsol;&quot;numbers&bsol;&quot;&gt;4,0&lt;&sol;span&gt;&lt;&sol;span&gt;&quot;] }, \n{ name: &quot;&lt;span title=&bsol;&quot;close: Double&bsol;&quot;&gt;close&lt;&sol;span&gt;&quot;, children: [], rightAlign: true, values: [&quot;&lt;span class=&bsol;&quot;formatted&bsol;&quot; title=&bsol;&quot;&bsol;&quot;&gt;&lt;span class=&bsol;&quot;numbers&bsol;&quot;&gt;8,0&lt;&sol;span&gt;&lt;&sol;span&gt;&quot;,&quot;&lt;span class=&bsol;&quot;formatted&bsol;&quot; title=&bsol;&quot;&bsol;&quot;&gt;&lt;span class=&bsol;&quot;numbers&bsol;&quot;&gt;8,6&lt;&sol;span&gt;&lt;&sol;span&gt;&quot;,&quot;&lt;span class=&bsol;&quot;formatted&bsol;&quot; title=&bsol;&quot;&bsol;&quot;&gt;&lt;span class=&bsol;&quot;numbers&bsol;&quot;&gt;10,7&lt;&sol;span&gt;&lt;&sol;span&gt;&quot;,&quot;&lt;span class=&bsol;&quot;formatted&bsol;&quot; title=&bsol;&quot;&bsol;&quot;&gt;&lt;span class=&bsol;&quot;numbers&bsol;&quot;&gt;6,5&lt;&sol;span&gt;&lt;&sol;span&gt;&quot;,&quot;&lt;span class=&bsol;&quot;formatted&bsol;&quot; title=&bsol;&quot;&bsol;&quot;&gt;&lt;span class=&bsol;&quot;numbers&bsol;&quot;&gt;9,8&lt;&sol;span&gt;&lt;&sol;span&gt;&quot;] }, \n{ name: &quot;&lt;span title=&bsol;&quot;min: Double&bsol;&quot;&gt;min&lt;&sol;span&gt;&quot;, children: [], rightAlign: true, values: [&quot;&lt;span class=&bsol;&quot;formatted&bsol;&quot; title=&bsol;&quot;&bsol;&quot;&gt;&lt;span class=&bsol;&quot;numbers&bsol;&quot;&gt;7,5&lt;&sol;span&gt;&lt;&sol;span&gt;&quot;,&quot;&lt;span class=&bsol;&quot;formatted&bsol;&quot; title=&bsol;&quot;&bsol;&quot;&gt;&lt;span class=&bsol;&quot;numbers&bsol;&quot;&gt;6,1&lt;&sol;span&gt;&lt;&sol;span&gt;&quot;,&quot;&lt;span class=&bsol;&quot;formatted&bsol;&quot; title=&bsol;&quot;&bsol;&quot;&gt;&lt;span class=&bsol;&quot;numbers&bsol;&quot;&gt;8,5&lt;&sol;span&gt;&lt;&sol;span&gt;&quot;,&quot;&lt;span class=&bsol;&quot;formatted&bsol;&quot; title=&bsol;&quot;&bsol;&quot;&gt;&lt;span class=&bsol;&quot;numbers&bsol;&quot;&gt;5,4&lt;&sol;span&gt;&lt;&sol;span&gt;&quot;,&quot;&lt;span class=&bsol;&quot;formatted&bsol;&quot; title=&bsol;&quot;&bsol;&quot;&gt;&lt;span class=&bsol;&quot;numbers&bsol;&quot;&gt;4,0&lt;&sol;span&gt;&lt;&sol;span&gt;&quot;] }, \n{ name: &quot;&lt;span title=&bsol;&quot;lower: Double&bsol;&quot;&gt;lower&lt;&sol;span&gt;&quot;, children: [], rightAlign: true, values: [&quot;&lt;span class=&bsol;&quot;formatted&bsol;&quot; title=&bsol;&quot;&bsol;&quot;&gt;&lt;span class=&bsol;&quot;numbers&bsol;&quot;&gt;8,0&lt;&sol;span&gt;&lt;&sol;span&gt;&quot;,&quot;&lt;span class=&bsol;&quot;formatted&bsol;&quot; title=&bsol;&quot;&bsol;&quot;&gt;&lt;span class=&bsol;&quot;numbers&bsol;&quot;&gt;6,7&lt;&sol;span&gt;&lt;&sol;span&gt;&quot;,&quot;&lt;span class=&bsol;&quot;formatted&bsol;&quot; title=&bsol;&quot;&bsol;&quot;&gt;&lt;span class=&bsol;&quot;numbers&bsol;&quot;&gt;8,8&lt;&sol;span&gt;&lt;&sol;span&gt;&quot;,&quot;&lt;span class=&bsol;&quot;formatted&bsol;&quot; title=&bsol;&quot;&bsol;&quot;&gt;&lt;span class=&bsol;&quot;numbers&bsol;&quot;&gt;6,5&lt;&sol;span&gt;&lt;&sol;span&gt;&quot;,&quot;&lt;span class=&bsol;&quot;formatted&bsol;&quot; title=&bsol;&quot;&bsol;&quot;&gt;&lt;span class=&bsol;&quot;numbers&bsol;&quot;&gt;4,0&lt;&sol;span&gt;&lt;&sol;span&gt;&quot;] }, \n{ name: &quot;&lt;span title=&bsol;&quot;upper: Double&bsol;&quot;&gt;upper&lt;&sol;span&gt;&quot;, children: [], rightAlign: true, values: [&quot;&lt;span class=&bsol;&quot;formatted&bsol;&quot; title=&bsol;&quot;&bsol;&quot;&gt;&lt;span class=&bsol;&quot;numbers&bsol;&quot;&gt;14,2&lt;&sol;span&gt;&lt;&sol;span&gt;&quot;,&quot;&lt;span class=&bsol;&quot;formatted&bsol;&quot; title=&bsol;&quot;&bsol;&quot;&gt;&lt;span class=&bsol;&quot;numbers&bsol;&quot;&gt;8,6&lt;&sol;span&gt;&lt;&sol;span&gt;&quot;,&quot;&lt;span class=&bsol;&quot;formatted&bsol;&quot; title=&bsol;&quot;&bsol;&quot;&gt;&lt;span class=&bsol;&quot;numbers&bsol;&quot;&gt;10,7&lt;&sol;span&gt;&lt;&sol;span&gt;&quot;,&quot;&lt;span class=&bsol;&quot;formatted&bsol;&quot; title=&bsol;&quot;&bsol;&quot;&gt;&lt;span class=&bsol;&quot;numbers&bsol;&quot;&gt;11,2&lt;&sol;span&gt;&lt;&sol;span&gt;&quot;,&quot;&lt;span class=&bsol;&quot;formatted&bsol;&quot; title=&bsol;&quot;&bsol;&quot;&gt;&lt;span class=&bsol;&quot;numbers&bsol;&quot;&gt;9,8&lt;&sol;span&gt;&lt;&sol;span&gt;&quot;] }, \n{ name: &quot;&lt;span title=&bsol;&quot;max: Double&bsol;&quot;&gt;max&lt;&sol;span&gt;&quot;, children: [], rightAlign: true, values: [&quot;&lt;span class=&bsol;&quot;formatted&bsol;&quot; title=&bsol;&quot;&bsol;&quot;&gt;&lt;span class=&bsol;&quot;numbers&bsol;&quot;&gt;15,5&lt;&sol;span&gt;&lt;&sol;span&gt;&quot;,&quot;&lt;span class=&bsol;&quot;formatted&bsol;&quot; title=&bsol;&quot;&bsol;&quot;&gt;&lt;span class=&bsol;&quot;numbers&bsol;&quot;&gt;9,6&lt;&sol;span&gt;&lt;&sol;span&gt;&quot;,&quot;&lt;span class=&bsol;&quot;formatted&bsol;&quot; title=&bsol;&quot;&bsol;&quot;&gt;&lt;span class=&bsol;&quot;numbers&bsol;&quot;&gt;10,7&lt;&sol;span&gt;&lt;&sol;span&gt;&quot;,&quot;&lt;span class=&bsol;&quot;formatted&bsol;&quot; title=&bsol;&quot;&bsol;&quot;&gt;&lt;span class=&bsol;&quot;numbers&bsol;&quot;&gt;11,7&lt;&sol;span&gt;&lt;&sol;span&gt;&quot;,&quot;&lt;span class=&bsol;&quot;formatted&bsol;&quot; title=&bsol;&quot;&bsol;&quot;&gt;&lt;span class=&bsol;&quot;numbers&bsol;&quot;&gt;9,9&lt;&sol;span&gt;&lt;&sol;span&gt;&quot;] }, \n{ name: &quot;&lt;span title=&bsol;&quot;isIncreased: Boolean&bsol;&quot;&gt;isIncreased&lt;&sol;span&gt;&quot;, children: [], rightAlign: false, values: [&quot;false&quot;,&quot;true&quot;,&quot;true&quot;,&quot;false&quot;,&quot;true&quot;] }, \n{ name: &quot;&lt;span title=&bsol;&quot;Stat: DataRow&lt;*&gt;&bsol;&quot;&gt;Stat&lt;&sol;span&gt;&quot;, children: [0, 1, 2, 3, 4, 5, 6, 7], rightAlign: false, values: [&quot;&lt;span class=&bsol;&quot;formatted&bsol;&quot; title=&bsol;&quot;x: Jan&bsol;nopen: 14.2&bsol;nclose: 8.0&bsol;nmin: 7.5&bsol;nlower: 8.0&bsol;nupper: 14.2&bsol;nmax: 15.5&bsol;nisIncreased: false&bsol;&quot;&gt;&lt;span class=&bsol;&quot;structural&bsol;&quot;&gt;{ &lt;&sol;span&gt;&lt;span class=&bsol;&quot;structural&bsol;&quot;&gt;x: &lt;&sol;span&gt;Jan&lt;span class=&bsol;&quot;structural&bsol;&quot;&gt;, &lt;&sol;span&gt;&lt;span class=&bsol;&quot;structural&bsol;&quot;&gt;open: &lt;&sol;span&gt;&lt;span class=&bsol;&quot;numbers&bsol;&quot;&gt;14,2&lt;&sol;span&gt;&lt;span class=&bsol;&quot;structural&bsol;&quot;&gt;, &lt;&sol;span&gt;&lt;span class=&bsol;&quot;structural&bsol;&quot;&gt;close: &lt;&sol;span&gt;&lt;span class=&bsol;&quot;numbers&bsol;&quot;&gt;8,0&lt;&sol;span&gt;&lt;span class=&bsol;&quot;structural&bsol;&quot;&gt;, &lt;&sol;span&gt;&lt;span class=&bsol;&quot;structural&bsol;&quot;&gt;...&lt;&sol;span&gt;&lt;span class=&bsol;&quot;structural&bsol;&quot;&gt; }&lt;&sol;span&gt;&lt;&sol;span&gt;&quot;,&quot;&lt;span class=&bsol;&quot;formatted&bsol;&quot; title=&bsol;&quot;x: Feb&bsol;nopen: 6.7&bsol;nclose: 8.6&bsol;nmin: 6.1&bsol;nlower: 6.7&bsol;nupper: 8.6&bsol;nmax: 9.6&bsol;nisIncreased: true&bsol;&quot;&gt;&lt;span class=&bsol;&quot;structural&bsol;&quot;&gt;{ &lt;&sol;span&gt;&lt;span class=&bsol;&quot;structural&bsol;&quot;&gt;x: &lt;&sol;span&gt;Feb&lt;span class=&bsol;&quot;structural&bsol;&quot;&gt;, &lt;&sol;span&gt;&lt;span class=&bsol;&quot;structural&bsol;&quot;&gt;open: &lt;&sol;span&gt;&lt;span class=&bsol;&quot;numbers&bsol;&quot;&gt;6,7&lt;&sol;span&gt;&lt;span class=&bsol;&quot;structural&bsol;&quot;&gt;, &lt;&sol;span&gt;&lt;span class=&bsol;&quot;structural&bsol;&quot;&gt;close: &lt;&sol;span&gt;&lt;span class=&bsol;&quot;numbers&bsol;&quot;&gt;8,6&lt;&sol;span&gt;&lt;span class=&bsol;&quot;structural&bsol;&quot;&gt;, &lt;&sol;span&gt;&lt;span class=&bsol;&quot;structural&bsol;&quot;&gt;...&lt;&sol;span&gt;&lt;span class=&bsol;&quot;structural&bsol;&quot;&gt; }&lt;&sol;span&gt;&lt;&sol;span&gt;&quot;,&quot;&lt;span class=&bsol;&quot;formatted&bsol;&quot; title=&bsol;&quot;x: Mar&bsol;nopen: 8.8&bsol;nclose: 10.7&bsol;nmin: 8.5&bsol;nlower: 8.8&bsol;nupper: 10.7&bsol;nmax: 10.7&bsol;nisIncreased: true&bsol;&quot;&gt;&lt;span class=&bsol;&quot;structural&bsol;&quot;&gt;{ &lt;&sol;span&gt;&lt;span class=&bsol;&quot;structural&bsol;&quot;&gt;x: &lt;&sol;span&gt;Mar&lt;span class=&bsol;&quot;structural&bsol;&quot;&gt;, &lt;&sol;span&gt;&lt;span class=&bsol;&quot;structural&bsol;&quot;&gt;open: &lt;&sol;span&gt;&lt;span class=&bsol;&quot;numbers&bsol;&quot;&gt;8,8&lt;&sol;span&gt;&lt;span class=&bsol;&quot;structural&bsol;&quot;&gt;, &lt;&sol;span&gt;&lt;span class=&bsol;&quot;structural&bsol;&quot;&gt;close: &lt;&sol;span&gt;&lt;span class=&bsol;&quot;numbers&bsol;&quot;&gt;10,7&lt;&sol;span&gt;&lt;span class=&bsol;&quot;structural&bsol;&quot;&gt;, &lt;&sol;span&gt;&lt;span class=&bsol;&quot;structural&bsol;&quot;&gt;...&lt;&sol;span&gt;&lt;span class=&bsol;&quot;structural&bsol;&quot;&gt; }&lt;&sol;span&gt;&lt;&sol;span&gt;&quot;,&quot;&lt;span class=&bsol;&quot;formatted&bsol;&quot; title=&bsol;&quot;x: Apr&bsol;nopen: 11.2&bsol;nclose: 6.5&bsol;nmin: 5.4&bsol;nlower: 6.5&bsol;nupper: 11.2&bsol;nmax: 11.7&bsol;nisIncreased: false&bsol;&quot;&gt;&lt;span class=&bsol;&quot;structural&bsol;&quot;&gt;{ &lt;&sol;span&gt;&lt;span class=&bsol;&quot;structural&bsol;&quot;&gt;x: &lt;&sol;span&gt;Apr&lt;span class=&bsol;&quot;structural&bsol;&quot;&gt;, &lt;&sol;span&gt;&lt;span class=&bsol;&quot;structural&bsol;&quot;&gt;open: &lt;&sol;span&gt;&lt;span class=&bsol;&quot;numbers&bsol;&quot;&gt;11,2&lt;&sol;span&gt;&lt;span class=&bsol;&quot;structural&bsol;&quot;&gt;, &lt;&sol;span&gt;&lt;span class=&bsol;&quot;structural&bsol;&quot;&gt;close: &lt;&sol;span&gt;&lt;span class=&bsol;&quot;numbers&bsol;&quot;&gt;6,5&lt;&sol;span&gt;&lt;span class=&bsol;&quot;structural&bsol;&quot;&gt;, &lt;&sol;span&gt;&lt;span class=&bsol;&quot;structural&bsol;&quot;&gt;...&lt;&sol;span&gt;&lt;span class=&bsol;&quot;structural&bsol;&quot;&gt; }&lt;&sol;span&gt;&lt;&sol;span&gt;&quot;,&quot;&lt;span class=&bsol;&quot;formatted&bsol;&quot; title=&bsol;&quot;x: May&bsol;nopen: 4.0&bsol;nclose: 9.8&bsol;nmin: 4.0&bsol;nlower: 4.0&bsol;nupper: 9.8&bsol;nmax: 9.9&bsol;nisIncreased: true&bsol;&quot;&gt;&lt;span class=&bsol;&quot;structural&bsol;&quot;&gt;{ &lt;&sol;span&gt;&lt;span class=&bsol;&quot;structural&bsol;&quot;&gt;x: &lt;&sol;span&gt;May&lt;span class=&bsol;&quot;structural&bsol;&quot;&gt;, &lt;&sol;span&gt;&lt;span class=&bsol;&quot;structural&bsol;&quot;&gt;open: &lt;&sol;span&gt;&lt;span class=&bsol;&quot;numbers&bsol;&quot;&gt;4,0&lt;&sol;span&gt;&lt;span class=&bsol;&quot;structural&bsol;&quot;&gt;, &lt;&sol;span&gt;&lt;span class=&bsol;&quot;structural&bsol;&quot;&gt;close: &lt;&sol;span&gt;&lt;span class=&bsol;&quot;numbers&bsol;&quot;&gt;9,8&lt;&sol;span&gt;&lt;span class=&bsol;&quot;structural&bsol;&quot;&gt;, &lt;&sol;span&gt;&lt;span class=&bsol;&quot;structural&bsol;&quot;&gt;...&lt;&sol;span&gt;&lt;span class=&bsol;&quot;structural&bsol;&quot;&gt; }&lt;&sol;span&gt;&lt;&sol;span&gt;&quot;] }, \n], id: 1140850689, rootId: 1140850689, totalRows: 5 } ) });\n&sol;*--&gt;*&sol;\n\ncall_DataFrame(function() { DataFrame.renderTable(1140850689) });\n\n\n\n        &lt;&sol;script&gt;\n        &lt;&sol;html&gt;\"></iframe>\n            <script>\n                function o_resize_iframe_out_2() {\n                    let elem = document.getElementById(\"iframe_out_2\");\n                    resize_iframe_out_2(elem);\n                    setInterval(resize_iframe_out_2, 5000, elem);\n                }\n                function resize_iframe_out_2(el) {\n                    let h = el.contentWindow.document.body.scrollHeight;\n                    el.height = h === 0 ? 0 : h + 41;\n                }\n            </script>",
      "application/kotlindataframe+json": "{\"nrow\":5,\"ncol\":1,\"columns\":[\"Stat\"],\"kotlin_dataframe\":[{\"Stat\":{\"x\":\"Jan\",\"open\":14.2,\"close\":8.0,\"min\":7.5,\"lower\":8.0,\"upper\":14.2,\"max\":15.5,\"isIncreased\":false}},{\"Stat\":{\"x\":\"Feb\",\"open\":6.7,\"close\":8.6,\"min\":6.1,\"lower\":6.7,\"upper\":8.6,\"max\":9.6,\"isIncreased\":true}},{\"Stat\":{\"x\":\"Mar\",\"open\":8.8,\"close\":10.7,\"min\":8.5,\"lower\":8.8,\"upper\":10.7,\"max\":10.7,\"isIncreased\":true}},{\"Stat\":{\"x\":\"Apr\",\"open\":11.2,\"close\":6.5,\"min\":5.4,\"lower\":6.5,\"upper\":11.2,\"max\":11.7,\"isIncreased\":false}},{\"Stat\":{\"x\":\"May\",\"open\":4.0,\"close\":9.8,\"min\":4.0,\"lower\":4.0,\"upper\":9.8,\"max\":9.9,\"isIncreased\":true}}]}"
     },
     "execution_count": 3,
     "metadata": {},
     "output_type": "execute_result"
    }
   ],
   "source": [
    "df.statCandlestick(\"x\", \"open\", \"high\", \"low\", \"close\")"
   ],
   "metadata": {
    "collapsed": false,
    "ExecuteTime": {
     "end_time": "2024-02-22T11:05:37.844855Z",
     "start_time": "2024-02-22T11:05:37.691747Z"
    }
   }
  },
  {
   "cell_type": "markdown",
   "source": [
    "It has the following signature:\n",
    "\n",
    "<table>\n",
    "  <thead>\n",
    "    <tr>\n",
    "      <th alignt=\"left\" colspan=\"8\">Stat</th>\n",
    "    </tr>\n",
    "  </thead>\n",
    "  <thead>\n",
    "    <tr>\n",
    "      <th>x</th>\n",
    "      <th>open</th>\n",
    "      <th>close</th>\n",
    "      <th>min</th>\n",
    "      <th>lower</th>\n",
    "      <th>upper</th>\n",
    "      <th>max</th>\n",
    "      <th>isIncreased</th>\n",
    "    </tr>\n",
    "  </thead>\n",
    "</table>"
   ],
   "metadata": {
    "collapsed": false
   }
  },
  {
   "cell_type": "markdown",
   "source": [
    "As you can see, we got a `DataFrame` with one `ColumnGroup` called `Stat` which contains several columns with statics.\n",
    "For `statCandlestick`, each row corresponds to one candle.\n",
    "`Stat.x` is the candle `x`-coordinate.\n",
    "`Stat.open` and `Stat.close` correspond to candle open and close.\n",
    "`Stat.min` and `Stat.max` correspond to candle low and high.\n",
    "`Stat.lower` and `Stat.upper` correspond to candle edges.\n",
    "`Stat.isIncreased` shows if value is increased (i.e `close > open`).\n",
    "\n",
    "`DataFrame` with \"candlestick\" statistics is called `StatCandlestickFrame`"
   ],
   "metadata": {
    "collapsed": false
   }
  },
  {
   "cell_type": "markdown",
   "source": [
    "### `statCandlestick` context transform"
   ],
   "metadata": {
    "collapsed": false
   }
  },
  {
   "cell_type": "markdown",
   "source": [
    "`statCandlestick(statCandlestickArgs) { /*new plotting context*/ }` modifies a plotting context — instead of original data\n",
    "(no matter was it empty or not) new `StatCandlestick` dataset (calculated on given arguments.\n",
    "Inputs and weights can be provided as `Iterable` or as dataset column reference — by name as a `String`,\n",
    "as a `ColumnReference` or as a `DataColumn`) is used inside a new context\n",
    "(original dataset and primary context are not affected —\n",
    "you can add layers using initial dataset outside the `statCandlestick` context).\n",
    "Since the old dataset is irrelevant, we cannot use references for its columns.\n",
    "But we can refer to the new ones.\n",
    "They are all contained in the `Stat` group and can be called inside the new context:"
   ],
   "metadata": {
    "collapsed": false
   }
  },
  {
   "cell_type": "code",
   "execution_count": 4,
   "outputs": [
    {
     "data": {
      "text/html": "            <iframe src='about:blank' style='border:none !important;' width='600' height='400' srcdoc=\"&lt;html lang=&quot;en&quot;>\n   &lt;head>\n       &lt;meta charset=&quot;UTF-8&quot;>\n       &lt;style> html, body { margin: 0; overflow: hidden; } &lt;/style>\n       &lt;script type=&quot;text/javascript&quot; data-lets-plot-script=&quot;library&quot; src=&quot;https://cdn.jsdelivr.net/gh/JetBrains/lets-plot@v4.2.0/js-package/distr/lets-plot.min.js&quot;>&lt;/script>\n   &lt;/head>\n   &lt;body>\n          &lt;div id=&quot;83xAGJ&quot;>&lt;/div>\n   &lt;script type=&quot;text/javascript&quot; data-lets-plot-script=&quot;plot&quot;>\n       var plotSpec={\n&quot;mapping&quot;:{\n},\n&quot;data&quot;:{\n},\n&quot;kind&quot;:&quot;plot&quot;,\n&quot;scales&quot;:[{\n&quot;aesthetic&quot;:&quot;x&quot;,\n&quot;discrete&quot;:true\n},{\n&quot;aesthetic&quot;:&quot;color&quot;,\n&quot;values&quot;:[&quot;#3ba272&quot;,&quot;#ee6666&quot;],\n&quot;limits&quot;:[true,false],\n&quot;guide&quot;:&quot;none&quot;\n}],\n&quot;layers&quot;:[{\n&quot;mapping&quot;:{\n&quot;x&quot;:&quot;x&quot;,\n&quot;ymin&quot;:&quot;lower&quot;,\n&quot;ymax&quot;:&quot;upper&quot;,\n&quot;color&quot;:&quot;isIncreased&quot;\n},\n&quot;stat&quot;:&quot;identity&quot;,\n&quot;data&quot;:{\n&quot;isIncreased&quot;:[false,true,true,false,true],\n&quot;lower&quot;:[8.0,6.7,8.8,6.5,4.0],\n&quot;upper&quot;:[14.2,8.6,10.7,11.2,9.8],\n&quot;x&quot;:[&quot;Jan&quot;,&quot;Feb&quot;,&quot;Mar&quot;,&quot;Apr&quot;,&quot;May&quot;]\n},\n&quot;sampling&quot;:&quot;none&quot;,\n&quot;position&quot;:&quot;dodge&quot;,\n&quot;geom&quot;:&quot;errorbar&quot;\n}]\n};\n       var plotContainer = document.getElementById(&quot;83xAGJ&quot;);\n       LetsPlot.buildPlotFromProcessedSpecs(plotSpec, -1, -1, plotContainer);\n   &lt;/script>\n   &lt;/body>\n&lt;/html>\"></iframe>            <svg xmlns=\"http://www.w3.org/2000/svg\" xmlns:xlink=\"http://www.w3.org/1999/xlink\" class=\"plt-container\" id=09cc3e50-1096-460d-b542-c4083f75700f width=\"100%\" height=\"100%\" style=\"max-width: 600.0px; max-height: 400.0px;\" viewBox=\"0 0 600.0 400.0\" preserveAspectRatio=\"xMinYMin meet\">\n  <style type=\"text/css\">\n  .plt-container {\n   font-family: Lucida Grande, sans-serif;\n   user-select: none;\n   -webkit-user-select: none;\n   -moz-user-select: none;\n   -ms-user-select: none;\n}\ntext {\n   text-rendering: optimizeLegibility;\n}\n#pmQvNLs .plot-title {\n   fill: #474747;\n   font-family: Lucida Grande, sans-serif;\n   font-size: 16.0px;\n   font-weight: normal;\n   font-style: normal;   \n}\n#pmQvNLs .plot-subtitle {\n   fill: #474747;\n   font-family: Lucida Grande, sans-serif;\n   font-size: 15.0px;\n   font-weight: normal;\n   font-style: normal;   \n}\n#pmQvNLs .plot-caption {\n   fill: #474747;\n   font-family: Lucida Grande, sans-serif;\n   font-size: 13.0px;\n   font-weight: normal;\n   font-style: normal;   \n}\n#pmQvNLs .legend-title {\n   fill: #474747;\n   font-family: Lucida Grande, sans-serif;\n   font-size: 15.0px;\n   font-weight: normal;\n   font-style: normal;   \n}\n#pmQvNLs .legend-item {\n   fill: #474747;\n   font-family: Lucida Grande, sans-serif;\n   font-size: 13.0px;\n   font-weight: normal;\n   font-style: normal;   \n}\n#pmQvNLs .axis-title-x {\n   fill: #474747;\n   font-family: Lucida Grande, sans-serif;\n   font-size: 15.0px;\n   font-weight: normal;\n   font-style: normal;   \n}\n#pmQvNLs .axis-text-x {\n   fill: #474747;\n   font-family: Lucida Grande, sans-serif;\n   font-size: 13.0px;\n   font-weight: normal;\n   font-style: normal;   \n}\n#ddMgDdz .axis-tooltip-text-x {\n   fill: #ffffff;\n   font-family: Lucida Grande, sans-serif;\n   font-size: 13.0px;\n   font-weight: normal;\n   font-style: normal;   \n}\n#pmQvNLs .axis-title-y {\n   fill: #474747;\n   font-family: Lucida Grande, sans-serif;\n   font-size: 15.0px;\n   font-weight: normal;\n   font-style: normal;   \n}\n#pmQvNLs .axis-text-y {\n   fill: #474747;\n   font-family: Lucida Grande, sans-serif;\n   font-size: 13.0px;\n   font-weight: normal;\n   font-style: normal;   \n}\n#ddMgDdz .axis-tooltip-text-y {\n   fill: #ffffff;\n   font-family: Lucida Grande, sans-serif;\n   font-size: 13.0px;\n   font-weight: normal;\n   font-style: normal;   \n}\n#pmQvNLs .facet-strip-text-x {\n   fill: #474747;\n   font-family: Lucida Grande, sans-serif;\n   font-size: 13.0px;\n   font-weight: normal;\n   font-style: normal;   \n}\n#pmQvNLs .facet-strip-text-y {\n   fill: #474747;\n   font-family: Lucida Grande, sans-serif;\n   font-size: 13.0px;\n   font-weight: normal;\n   font-style: normal;   \n}\n#ddMgDdz .tooltip-text {\n   fill: #474747;\n   font-family: Lucida Grande, sans-serif;\n   font-size: 13.0px;\n   font-weight: normal;\n   font-style: normal;   \n}\n#ddMgDdz .tooltip-title {\n   fill: #474747;\n   font-family: Lucida Grande, sans-serif;\n   font-size: 13.0px;\n   font-weight: bold;\n   font-style: normal;   \n}\n#ddMgDdz .tooltip-label {\n   fill: #474747;\n   font-family: Lucida Grande, sans-serif;\n   font-size: 13.0px;\n   font-weight: bold;\n   font-style: normal;   \n}\n\n  </style>\n  <g id=\"pmQvNLs\">\n    <path fill-rule=\"evenodd\" fill=\"rgb(255,255,255)\" fill-opacity=\"1.0\" d=\"M0.0 0.0 L0.0 400.0 L600.0 400.0 L600.0 0.0 Z\">\n    </path>\n    <g transform=\"translate(23.0 10.0 ) \">\n      <g transform=\"translate(21.961210910936405 0.0 ) \">\n        <line x1=\"47.76113100264991\" y1=\"344.0\" x2=\"47.76113100264991\" y2=\"-5.6843418860808015E-14\" stroke=\"rgb(233,233,233)\" stroke-opacity=\"1.0\" stroke-width=\"1.0\" fill=\"none\">\n        </line>\n        <line x1=\"160.14026277359088\" y1=\"344.0\" x2=\"160.14026277359088\" y2=\"-5.6843418860808015E-14\" stroke=\"rgb(233,233,233)\" stroke-opacity=\"1.0\" stroke-width=\"1.0\" fill=\"none\">\n        </line>\n        <line x1=\"272.51939454453185\" y1=\"344.0\" x2=\"272.51939454453185\" y2=\"-5.6843418860808015E-14\" stroke=\"rgb(233,233,233)\" stroke-opacity=\"1.0\" stroke-width=\"1.0\" fill=\"none\">\n        </line>\n        <line x1=\"384.8985263154728\" y1=\"344.0\" x2=\"384.8985263154728\" y2=\"-5.6843418860808015E-14\" stroke=\"rgb(233,233,233)\" stroke-opacity=\"1.0\" stroke-width=\"1.0\" fill=\"none\">\n        </line>\n        <line x1=\"497.27765808641374\" y1=\"344.0\" x2=\"497.27765808641374\" y2=\"-5.6843418860808015E-14\" stroke=\"rgb(233,233,233)\" stroke-opacity=\"1.0\" stroke-width=\"1.0\" fill=\"none\">\n        </line>\n      </g>\n      <g transform=\"translate(21.961210910936405 344.0 ) \">\n        <g transform=\"translate(47.76113100264991 0.0 ) \">\n          <line stroke-width=\"1.0\" stroke=\"rgb(71,71,71)\" stroke-opacity=\"1.0\" x2=\"0.0\" y2=\"4.0\">\n          </line>\n          <g transform=\"translate(0.0 7.0 ) \">\n            <text class=\"axis-text-x\" text-anchor=\"middle\" dy=\"0.7em\">\n              <tspan>Jan</tspan>\n            </text>\n          </g>\n        </g>\n        <g transform=\"translate(160.14026277359088 0.0 ) \">\n          <line stroke-width=\"1.0\" stroke=\"rgb(71,71,71)\" stroke-opacity=\"1.0\" x2=\"0.0\" y2=\"4.0\">\n          </line>\n          <g transform=\"translate(0.0 7.0 ) \">\n            <text class=\"axis-text-x\" text-anchor=\"middle\" dy=\"0.7em\">\n              <tspan>Feb</tspan>\n            </text>\n          </g>\n        </g>\n        <g transform=\"translate(272.51939454453185 0.0 ) \">\n          <line stroke-width=\"1.0\" stroke=\"rgb(71,71,71)\" stroke-opacity=\"1.0\" x2=\"0.0\" y2=\"4.0\">\n          </line>\n          <g transform=\"translate(0.0 7.0 ) \">\n            <text class=\"axis-text-x\" text-anchor=\"middle\" dy=\"0.7em\">\n              <tspan>Mar</tspan>\n            </text>\n          </g>\n        </g>\n        <g transform=\"translate(384.8985263154728 0.0 ) \">\n          <line stroke-width=\"1.0\" stroke=\"rgb(71,71,71)\" stroke-opacity=\"1.0\" x2=\"0.0\" y2=\"4.0\">\n          </line>\n          <g transform=\"translate(0.0 7.0 ) \">\n            <text class=\"axis-text-x\" text-anchor=\"middle\" dy=\"0.7em\">\n              <tspan>Apr</tspan>\n            </text>\n          </g>\n        </g>\n        <g transform=\"translate(497.27765808641374 0.0 ) \">\n          <line stroke-width=\"1.0\" stroke=\"rgb(71,71,71)\" stroke-opacity=\"1.0\" x2=\"0.0\" y2=\"4.0\">\n          </line>\n          <g transform=\"translate(0.0 7.0 ) \">\n            <text class=\"axis-text-x\" text-anchor=\"middle\" dy=\"0.7em\">\n              <tspan>May</tspan>\n            </text>\n          </g>\n        </g>\n        <line x1=\"0.0\" y1=\"0.0\" x2=\"545.0387890890636\" y2=\"0.0\" stroke-width=\"1.0\" stroke=\"rgb(71,71,71)\" stroke-opacity=\"1.0\">\n        </line>\n      </g>\n      <g transform=\"translate(21.961210910936405 0.0 ) \">\n        <line x1=\"0.0\" y1=\"328.3636363636364\" x2=\"545.0387890890637\" y2=\"328.3636363636364\" stroke=\"rgb(233,233,233)\" stroke-opacity=\"1.0\" stroke-width=\"1.0\" fill=\"none\">\n        </line>\n        <line x1=\"0.0\" y1=\"267.04456327985736\" x2=\"545.0387890890637\" y2=\"267.04456327985736\" stroke=\"rgb(233,233,233)\" stroke-opacity=\"1.0\" stroke-width=\"1.0\" fill=\"none\">\n        </line>\n        <line x1=\"0.0\" y1=\"205.7254901960784\" x2=\"545.0387890890637\" y2=\"205.7254901960784\" stroke=\"rgb(233,233,233)\" stroke-opacity=\"1.0\" stroke-width=\"1.0\" fill=\"none\">\n        </line>\n        <line x1=\"0.0\" y1=\"144.40641711229944\" x2=\"545.0387890890637\" y2=\"144.40641711229944\" stroke=\"rgb(233,233,233)\" stroke-opacity=\"1.0\" stroke-width=\"1.0\" fill=\"none\">\n        </line>\n        <line x1=\"0.0\" y1=\"83.08734402852042\" x2=\"545.0387890890637\" y2=\"83.08734402852042\" stroke=\"rgb(233,233,233)\" stroke-opacity=\"1.0\" stroke-width=\"1.0\" fill=\"none\">\n        </line>\n        <line x1=\"0.0\" y1=\"21.76827094474146\" x2=\"545.0387890890637\" y2=\"21.76827094474146\" stroke=\"rgb(233,233,233)\" stroke-opacity=\"1.0\" stroke-width=\"1.0\" fill=\"none\">\n        </line>\n      </g>\n      <g transform=\"translate(21.961210910936405 0.0 ) \">\n        <g transform=\"translate(0.0 328.3636363636364 ) \">\n          <g transform=\"translate(-3.0 0.0 ) \">\n            <text class=\"axis-text-y\" text-anchor=\"end\" dy=\"0.35em\">\n              <tspan>4</tspan>\n            </text>\n          </g>\n        </g>\n        <g transform=\"translate(0.0 267.04456327985736 ) \">\n          <g transform=\"translate(-3.0 0.0 ) \">\n            <text class=\"axis-text-y\" text-anchor=\"end\" dy=\"0.35em\">\n              <tspan>6</tspan>\n            </text>\n          </g>\n        </g>\n        <g transform=\"translate(0.0 205.7254901960784 ) \">\n          <g transform=\"translate(-3.0 0.0 ) \">\n            <text class=\"axis-text-y\" text-anchor=\"end\" dy=\"0.35em\">\n              <tspan>8</tspan>\n            </text>\n          </g>\n        </g>\n        <g transform=\"translate(0.0 144.40641711229944 ) \">\n          <g transform=\"translate(-3.0 0.0 ) \">\n            <text class=\"axis-text-y\" text-anchor=\"end\" dy=\"0.35em\">\n              <tspan>10</tspan>\n            </text>\n          </g>\n        </g>\n        <g transform=\"translate(0.0 83.08734402852042 ) \">\n          <g transform=\"translate(-3.0 0.0 ) \">\n            <text class=\"axis-text-y\" text-anchor=\"end\" dy=\"0.35em\">\n              <tspan>12</tspan>\n            </text>\n          </g>\n        </g>\n        <g transform=\"translate(0.0 21.76827094474146 ) \">\n          <g transform=\"translate(-3.0 0.0 ) \">\n            <text class=\"axis-text-y\" text-anchor=\"end\" dy=\"0.35em\">\n              <tspan>14</tspan>\n            </text>\n          </g>\n        </g>\n      </g>\n      <g transform=\"translate(21.961210910936405 0.0 ) \" clip-path=\"url(#c7ZK0Rb)\" clip-bounds-jfx=\"[rect (0.0, 0.0), (545.0387890890636, 344.0)]\">\n        <defs>\n          <clipPath id=\"c7ZK0Rb\">\n            <rect x=\"0.0\" y=\"0.0\" width=\"545.0387890890636\" height=\"344.0\">\n            </rect>\n          </clipPath>\n        </defs>\n        <g>\n          <line x1=\"22.475826354188197\" y1=\"205.7254901960784\" x2=\"73.04643565111162\" y2=\"205.7254901960784\" stroke=\"rgb(238,102,102)\" stroke-opacity=\"1.0\" fill=\"rgb(17,142,216)\" fill-opacity=\"1.0\" stroke-width=\"1.6500000000000001\">\n          </line>\n          <line x1=\"22.475826354188197\" y1=\"15.636363636363626\" x2=\"73.04643565111162\" y2=\"15.636363636363626\" stroke=\"rgb(238,102,102)\" stroke-opacity=\"1.0\" fill=\"rgb(17,142,216)\" fill-opacity=\"1.0\" stroke-width=\"1.6500000000000001\">\n          </line>\n          <line x1=\"47.76113100264991\" y1=\"205.7254901960784\" x2=\"47.76113100264991\" y2=\"15.636363636363626\" stroke=\"rgb(238,102,102)\" stroke-opacity=\"1.0\" fill=\"rgb(17,142,216)\" fill-opacity=\"1.0\" stroke-width=\"1.6500000000000001\">\n          </line>\n        </g>\n        <g>\n          <line x1=\"134.85495812512914\" y1=\"245.5828877005347\" x2=\"185.42556742205258\" y2=\"245.5828877005347\" stroke=\"rgb(59,162,114)\" stroke-opacity=\"1.0\" fill=\"rgb(17,142,216)\" fill-opacity=\"1.0\" stroke-width=\"1.6500000000000001\">\n          </line>\n          <line x1=\"134.85495812512914\" y1=\"187.32976827094473\" x2=\"185.42556742205258\" y2=\"187.32976827094473\" stroke=\"rgb(59,162,114)\" stroke-opacity=\"1.0\" fill=\"rgb(17,142,216)\" fill-opacity=\"1.0\" stroke-width=\"1.6500000000000001\">\n          </line>\n          <line x1=\"160.14026277359088\" y1=\"245.5828877005347\" x2=\"160.14026277359088\" y2=\"187.32976827094473\" stroke=\"rgb(59,162,114)\" stroke-opacity=\"1.0\" fill=\"rgb(17,142,216)\" fill-opacity=\"1.0\" stroke-width=\"1.6500000000000001\">\n          </line>\n        </g>\n        <g>\n          <line x1=\"247.2340898960701\" y1=\"181.19786096256678\" x2=\"297.80469919299355\" y2=\"181.19786096256678\" stroke=\"rgb(59,162,114)\" stroke-opacity=\"1.0\" fill=\"rgb(17,142,216)\" fill-opacity=\"1.0\" stroke-width=\"1.6500000000000001\">\n          </line>\n          <line x1=\"247.2340898960701\" y1=\"122.94474153297682\" x2=\"297.80469919299355\" y2=\"122.94474153297682\" stroke=\"rgb(59,162,114)\" stroke-opacity=\"1.0\" fill=\"rgb(17,142,216)\" fill-opacity=\"1.0\" stroke-width=\"1.6500000000000001\">\n          </line>\n          <line x1=\"272.51939454453185\" y1=\"181.19786096256678\" x2=\"272.51939454453185\" y2=\"122.94474153297682\" stroke=\"rgb(59,162,114)\" stroke-opacity=\"1.0\" fill=\"rgb(17,142,216)\" fill-opacity=\"1.0\" stroke-width=\"1.6500000000000001\">\n          </line>\n        </g>\n        <g>\n          <line x1=\"359.61322166701103\" y1=\"251.71479500891263\" x2=\"410.1838309639345\" y2=\"251.71479500891263\" stroke=\"rgb(238,102,102)\" stroke-opacity=\"1.0\" fill=\"rgb(17,142,216)\" fill-opacity=\"1.0\" stroke-width=\"1.6500000000000001\">\n          </line>\n          <line x1=\"359.61322166701103\" y1=\"107.61497326203204\" x2=\"410.1838309639345\" y2=\"107.61497326203204\" stroke=\"rgb(238,102,102)\" stroke-opacity=\"1.0\" fill=\"rgb(17,142,216)\" fill-opacity=\"1.0\" stroke-width=\"1.6500000000000001\">\n          </line>\n          <line x1=\"384.8985263154728\" y1=\"251.71479500891263\" x2=\"384.8985263154728\" y2=\"107.61497326203204\" stroke=\"rgb(238,102,102)\" stroke-opacity=\"1.0\" fill=\"rgb(17,142,216)\" fill-opacity=\"1.0\" stroke-width=\"1.6500000000000001\">\n          </line>\n        </g>\n        <g>\n          <line x1=\"471.99235343795203\" y1=\"328.3636363636364\" x2=\"522.5629627348754\" y2=\"328.3636363636364\" stroke=\"rgb(59,162,114)\" stroke-opacity=\"1.0\" fill=\"rgb(17,142,216)\" fill-opacity=\"1.0\" stroke-width=\"1.6500000000000001\">\n          </line>\n          <line x1=\"471.99235343795203\" y1=\"150.53832442067727\" x2=\"522.5629627348754\" y2=\"150.53832442067727\" stroke=\"rgb(59,162,114)\" stroke-opacity=\"1.0\" fill=\"rgb(17,142,216)\" fill-opacity=\"1.0\" stroke-width=\"1.6500000000000001\">\n          </line>\n          <line x1=\"497.27765808641374\" y1=\"328.3636363636364\" x2=\"497.27765808641374\" y2=\"150.53832442067727\" stroke=\"rgb(59,162,114)\" stroke-opacity=\"1.0\" fill=\"rgb(17,142,216)\" fill-opacity=\"1.0\" stroke-width=\"1.6500000000000001\">\n          </line>\n        </g>\n      </g>\n    </g>\n    <g transform=\"translate(14.5 182.0 ) rotate(-90.0 ) \">\n      <text class=\"axis-title-y\" y=\"0.0\" text-anchor=\"middle\">\n        <tspan>y</tspan>\n      </text>\n    </g>\n    <g transform=\"translate(317.4806054554682 391.5 ) \">\n      <text class=\"axis-title-x\" y=\"0.0\" text-anchor=\"middle\">\n        <tspan>x</tspan>\n      </text>\n    </g>\n    <path fill=\"rgb(0,0,0)\" fill-opacity=\"0.0\" stroke=\"rgb(71,71,71)\" stroke-opacity=\"1.0\" stroke-width=\"0.0\" d=\"M0.0 0.0 L0.0 400.0 L600.0 400.0 L600.0 0.0 Z\">\n    </path>\n  </g>\n  <g id=\"ddMgDdz\">\n  </g>\n</svg>\n        <script>document.getElementById(\"09cc3e50-1096-460d-b542-c4083f75700f\").style.display = \"none\";</script>",
      "application/plot+json": {
       "output_type": "lets_plot_spec",
       "output": {
        "mapping": {},
        "data": {},
        "kind": "plot",
        "scales": [
         {
          "aesthetic": "x",
          "discrete": true
         },
         {
          "aesthetic": "color",
          "values": [
           "#3ba272",
           "#ee6666"
          ],
          "limits": [
           true,
           false
          ],
          "guide": "none"
         }
        ],
        "layers": [
         {
          "mapping": {
           "x": "x",
           "ymin": "lower",
           "ymax": "upper",
           "color": "isIncreased"
          },
          "stat": "identity",
          "data": {
           "isIncreased": [
            false,
            true,
            true,
            false,
            true
           ],
           "lower": [
            8.0,
            6.7,
            8.8,
            6.5,
            4.0
           ],
           "upper": [
            14.2,
            8.6,
            10.7,
            11.2,
            9.8
           ],
           "x": [
            "Jan",
            "Feb",
            "Mar",
            "Apr",
            "May"
           ]
          },
          "sampling": "none",
          "position": "dodge",
          "geom": "errorbar"
         }
        ]
       },
       "apply_color_scheme": true,
       "swing_enabled": true
      }
     },
     "execution_count": 4,
     "metadata": {},
     "output_type": "execute_result"
    }
   ],
   "source": [
    "plot {\n",
    "    statCandlestick(xList, openList, lowList, highList, closeList) {\n",
    "       errorBars {\n",
    "            x(Stat.x)\n",
    "            yMin(Stat.lower)\n",
    "            yMax(Stat.upper)\n",
    "            borderLine.color(Stat.isIncreased) {\n",
    "                scale = categorical(true to Color.GREEN, false to Color.RED)\n",
    "                legend.type = LegendType.None\n",
    "            }\n",
    "        }\n",
    "    }\n",
    "}"
   ],
   "metadata": {
    "collapsed": false,
    "ExecuteTime": {
     "end_time": "2024-02-22T11:05:39.167737Z",
     "start_time": "2024-02-22T11:05:37.849660Z"
    }
   }
  },
  {
   "cell_type": "markdown",
   "source": [
    "### Candlestick layer"
   ],
   "metadata": {
    "collapsed": false
   }
  },
  {
   "cell_type": "markdown",
   "source": [
    "Basically, candlestick plot is a box plot where each box represents one candle. Box whisker's ends correspond to `low` and `high` values; and lower and upper edges to `open` and `close` (so here we need to determine which is greater and which is lesser — that's what we counted in the statistics). Non-positional attributes (most often color) indicate whether an increase or decrease has occurred.\n",
    "So basically, we can build a candlestick with `statCandlestick` and `boxes` as follows:"
   ],
   "metadata": {
    "collapsed": false
   }
  },
  {
   "cell_type": "markdown",
   "source": [],
   "metadata": {
    "collapsed": false
   }
  },
  {
   "cell_type": "code",
   "execution_count": 5,
   "outputs": [
    {
     "data": {
      "text/html": "            <iframe src='about:blank' style='border:none !important;' width='600' height='400' srcdoc=\"&lt;html lang=&quot;en&quot;>\n   &lt;head>\n       &lt;meta charset=&quot;UTF-8&quot;>\n       &lt;style> html, body { margin: 0; overflow: hidden; } &lt;/style>\n       &lt;script type=&quot;text/javascript&quot; data-lets-plot-script=&quot;library&quot; src=&quot;https://cdn.jsdelivr.net/gh/JetBrains/lets-plot@v4.2.0/js-package/distr/lets-plot.min.js&quot;>&lt;/script>\n   &lt;/head>\n   &lt;body>\n          &lt;div id=&quot;QKi3Op&quot;>&lt;/div>\n   &lt;script type=&quot;text/javascript&quot; data-lets-plot-script=&quot;plot&quot;>\n       var plotSpec={\n&quot;ggtitle&quot;:{\n&quot;text&quot;:&quot;`statCandlestick` + `boxes`&quot;\n},\n&quot;mapping&quot;:{\n},\n&quot;data&quot;:{\n},\n&quot;kind&quot;:&quot;plot&quot;,\n&quot;scales&quot;:[{\n&quot;aesthetic&quot;:&quot;x&quot;,\n&quot;discrete&quot;:true\n},{\n&quot;aesthetic&quot;:&quot;fill&quot;,\n&quot;values&quot;:[&quot;#3ba272&quot;,&quot;#ee6666&quot;],\n&quot;limits&quot;:[true,false],\n&quot;guide&quot;:&quot;none&quot;\n},{\n&quot;aesthetic&quot;:&quot;color&quot;,\n&quot;values&quot;:[&quot;#3ba272&quot;,&quot;#ee6666&quot;],\n&quot;limits&quot;:[true,false],\n&quot;guide&quot;:&quot;none&quot;\n}],\n&quot;layers&quot;:[{\n&quot;mapping&quot;:{\n&quot;x&quot;:&quot;x&quot;,\n&quot;ymin&quot;:&quot;min&quot;,\n&quot;lower&quot;:&quot;lower&quot;,\n&quot;upper&quot;:&quot;upper&quot;,\n&quot;ymax&quot;:&quot;max&quot;,\n&quot;middle&quot;:&quot;middle&quot;,\n&quot;fill&quot;:&quot;isIncreased&quot;,\n&quot;color&quot;:&quot;isIncreased&quot;\n},\n&quot;stat&quot;:&quot;identity&quot;,\n&quot;data&quot;:{\n&quot;min&quot;:[7.5,6.1,8.5,5.4,4.0],\n&quot;middle&quot;:[null,null,null,null,null],\n&quot;max&quot;:[15.5,9.6,10.7,11.7,9.9],\n&quot;isIncreased&quot;:[false,true,true,false,true],\n&quot;upper&quot;:[14.2,8.6,10.7,11.2,9.8],\n&quot;lower&quot;:[8.0,6.7,8.8,6.5,4.0],\n&quot;x&quot;:[&quot;Jan&quot;,&quot;Feb&quot;,&quot;Mar&quot;,&quot;Apr&quot;,&quot;May&quot;]\n},\n&quot;whisker_width&quot;:0.0,\n&quot;sampling&quot;:&quot;none&quot;,\n&quot;position&quot;:&quot;dodge&quot;,\n&quot;geom&quot;:&quot;boxplot&quot;\n}]\n};\n       var plotContainer = document.getElementById(&quot;QKi3Op&quot;);\n       LetsPlot.buildPlotFromProcessedSpecs(plotSpec, -1, -1, plotContainer);\n   &lt;/script>\n   &lt;/body>\n&lt;/html>\"></iframe>            <svg xmlns=\"http://www.w3.org/2000/svg\" xmlns:xlink=\"http://www.w3.org/1999/xlink\" class=\"plt-container\" id=7f05348d-5ade-4252-918d-6a81bbfb0a33 width=\"100%\" height=\"100%\" style=\"max-width: 600.0px; max-height: 400.0px;\" viewBox=\"0 0 600.0 400.0\" preserveAspectRatio=\"xMinYMin meet\">\n  <style type=\"text/css\">\n  .plt-container {\n   font-family: Lucida Grande, sans-serif;\n   user-select: none;\n   -webkit-user-select: none;\n   -moz-user-select: none;\n   -ms-user-select: none;\n}\ntext {\n   text-rendering: optimizeLegibility;\n}\n#plnWe9X .plot-title {\n   fill: #474747;\n   font-family: Lucida Grande, sans-serif;\n   font-size: 16.0px;\n   font-weight: normal;\n   font-style: normal;   \n}\n#plnWe9X .plot-subtitle {\n   fill: #474747;\n   font-family: Lucida Grande, sans-serif;\n   font-size: 15.0px;\n   font-weight: normal;\n   font-style: normal;   \n}\n#plnWe9X .plot-caption {\n   fill: #474747;\n   font-family: Lucida Grande, sans-serif;\n   font-size: 13.0px;\n   font-weight: normal;\n   font-style: normal;   \n}\n#plnWe9X .legend-title {\n   fill: #474747;\n   font-family: Lucida Grande, sans-serif;\n   font-size: 15.0px;\n   font-weight: normal;\n   font-style: normal;   \n}\n#plnWe9X .legend-item {\n   fill: #474747;\n   font-family: Lucida Grande, sans-serif;\n   font-size: 13.0px;\n   font-weight: normal;\n   font-style: normal;   \n}\n#plnWe9X .axis-title-x {\n   fill: #474747;\n   font-family: Lucida Grande, sans-serif;\n   font-size: 15.0px;\n   font-weight: normal;\n   font-style: normal;   \n}\n#plnWe9X .axis-text-x {\n   fill: #474747;\n   font-family: Lucida Grande, sans-serif;\n   font-size: 13.0px;\n   font-weight: normal;\n   font-style: normal;   \n}\n#di983Rk .axis-tooltip-text-x {\n   fill: #ffffff;\n   font-family: Lucida Grande, sans-serif;\n   font-size: 13.0px;\n   font-weight: normal;\n   font-style: normal;   \n}\n#plnWe9X .axis-title-y {\n   fill: #474747;\n   font-family: Lucida Grande, sans-serif;\n   font-size: 15.0px;\n   font-weight: normal;\n   font-style: normal;   \n}\n#plnWe9X .axis-text-y {\n   fill: #474747;\n   font-family: Lucida Grande, sans-serif;\n   font-size: 13.0px;\n   font-weight: normal;\n   font-style: normal;   \n}\n#di983Rk .axis-tooltip-text-y {\n   fill: #ffffff;\n   font-family: Lucida Grande, sans-serif;\n   font-size: 13.0px;\n   font-weight: normal;\n   font-style: normal;   \n}\n#plnWe9X .facet-strip-text-x {\n   fill: #474747;\n   font-family: Lucida Grande, sans-serif;\n   font-size: 13.0px;\n   font-weight: normal;\n   font-style: normal;   \n}\n#plnWe9X .facet-strip-text-y {\n   fill: #474747;\n   font-family: Lucida Grande, sans-serif;\n   font-size: 13.0px;\n   font-weight: normal;\n   font-style: normal;   \n}\n#di983Rk .tooltip-text {\n   fill: #474747;\n   font-family: Lucida Grande, sans-serif;\n   font-size: 13.0px;\n   font-weight: normal;\n   font-style: normal;   \n}\n#di983Rk .tooltip-title {\n   fill: #474747;\n   font-family: Lucida Grande, sans-serif;\n   font-size: 13.0px;\n   font-weight: bold;\n   font-style: normal;   \n}\n#di983Rk .tooltip-label {\n   fill: #474747;\n   font-family: Lucida Grande, sans-serif;\n   font-size: 13.0px;\n   font-weight: bold;\n   font-style: normal;   \n}\n\n  </style>\n  <g id=\"plnWe9X\">\n    <path fill-rule=\"evenodd\" fill=\"rgb(255,255,255)\" fill-opacity=\"1.0\" d=\"M0.0 0.0 L0.0 400.0 L600.0 400.0 L600.0 0.0 Z\">\n    </path>\n    <g transform=\"translate(23.0 34.0 ) \">\n      <g transform=\"translate(21.961210910936405 0.0 ) \">\n        <line x1=\"66.84437979394175\" y1=\"320.0\" x2=\"66.84437979394175\" y2=\"0.0\" stroke=\"rgb(233,233,233)\" stroke-opacity=\"1.0\" stroke-width=\"1.0\" fill=\"none\">\n        </line>\n        <line x1=\"169.68188716923675\" y1=\"320.0\" x2=\"169.68188716923675\" y2=\"0.0\" stroke=\"rgb(233,233,233)\" stroke-opacity=\"1.0\" stroke-width=\"1.0\" fill=\"none\">\n        </line>\n        <line x1=\"272.5193945445318\" y1=\"320.0\" x2=\"272.5193945445318\" y2=\"0.0\" stroke=\"rgb(233,233,233)\" stroke-opacity=\"1.0\" stroke-width=\"1.0\" fill=\"none\">\n        </line>\n        <line x1=\"375.3569019198268\" y1=\"320.0\" x2=\"375.3569019198268\" y2=\"0.0\" stroke=\"rgb(233,233,233)\" stroke-opacity=\"1.0\" stroke-width=\"1.0\" fill=\"none\">\n        </line>\n        <line x1=\"478.1944092951218\" y1=\"320.0\" x2=\"478.1944092951218\" y2=\"0.0\" stroke=\"rgb(233,233,233)\" stroke-opacity=\"1.0\" stroke-width=\"1.0\" fill=\"none\">\n        </line>\n      </g>\n      <g transform=\"translate(21.961210910936405 320.0 ) \">\n        <g transform=\"translate(66.84437979394175 0.0 ) \">\n          <line stroke-width=\"1.0\" stroke=\"rgb(71,71,71)\" stroke-opacity=\"1.0\" x2=\"0.0\" y2=\"4.0\">\n          </line>\n          <g transform=\"translate(0.0 7.0 ) \">\n            <text class=\"axis-text-x\" text-anchor=\"middle\" dy=\"0.7em\">\n              <tspan>Jan</tspan>\n            </text>\n          </g>\n        </g>\n        <g transform=\"translate(169.68188716923675 0.0 ) \">\n          <line stroke-width=\"1.0\" stroke=\"rgb(71,71,71)\" stroke-opacity=\"1.0\" x2=\"0.0\" y2=\"4.0\">\n          </line>\n          <g transform=\"translate(0.0 7.0 ) \">\n            <text class=\"axis-text-x\" text-anchor=\"middle\" dy=\"0.7em\">\n              <tspan>Feb</tspan>\n            </text>\n          </g>\n        </g>\n        <g transform=\"translate(272.5193945445318 0.0 ) \">\n          <line stroke-width=\"1.0\" stroke=\"rgb(71,71,71)\" stroke-opacity=\"1.0\" x2=\"0.0\" y2=\"4.0\">\n          </line>\n          <g transform=\"translate(0.0 7.0 ) \">\n            <text class=\"axis-text-x\" text-anchor=\"middle\" dy=\"0.7em\">\n              <tspan>Mar</tspan>\n            </text>\n          </g>\n        </g>\n        <g transform=\"translate(375.3569019198268 0.0 ) \">\n          <line stroke-width=\"1.0\" stroke=\"rgb(71,71,71)\" stroke-opacity=\"1.0\" x2=\"0.0\" y2=\"4.0\">\n          </line>\n          <g transform=\"translate(0.0 7.0 ) \">\n            <text class=\"axis-text-x\" text-anchor=\"middle\" dy=\"0.7em\">\n              <tspan>Apr</tspan>\n            </text>\n          </g>\n        </g>\n        <g transform=\"translate(478.1944092951218 0.0 ) \">\n          <line stroke-width=\"1.0\" stroke=\"rgb(71,71,71)\" stroke-opacity=\"1.0\" x2=\"0.0\" y2=\"4.0\">\n          </line>\n          <g transform=\"translate(0.0 7.0 ) \">\n            <text class=\"axis-text-x\" text-anchor=\"middle\" dy=\"0.7em\">\n              <tspan>May</tspan>\n            </text>\n          </g>\n        </g>\n        <line x1=\"0.0\" y1=\"0.0\" x2=\"545.0387890890636\" y2=\"0.0\" stroke-width=\"1.0\" stroke=\"rgb(71,71,71)\" stroke-opacity=\"1.0\">\n        </line>\n      </g>\n      <g transform=\"translate(21.961210910936405 0.0 ) \">\n        <line x1=\"0.0\" y1=\"305.4545454545455\" x2=\"545.0387890890636\" y2=\"305.4545454545455\" stroke=\"rgb(233,233,233)\" stroke-opacity=\"1.0\" stroke-width=\"1.0\" fill=\"none\">\n        </line>\n        <line x1=\"0.0\" y1=\"254.86166007905138\" x2=\"545.0387890890636\" y2=\"254.86166007905138\" stroke=\"rgb(233,233,233)\" stroke-opacity=\"1.0\" stroke-width=\"1.0\" fill=\"none\">\n        </line>\n        <line x1=\"0.0\" y1=\"204.2687747035573\" x2=\"545.0387890890636\" y2=\"204.2687747035573\" stroke=\"rgb(233,233,233)\" stroke-opacity=\"1.0\" stroke-width=\"1.0\" fill=\"none\">\n        </line>\n        <line x1=\"0.0\" y1=\"153.67588932806325\" x2=\"545.0387890890636\" y2=\"153.67588932806325\" stroke=\"rgb(233,233,233)\" stroke-opacity=\"1.0\" stroke-width=\"1.0\" fill=\"none\">\n        </line>\n        <line x1=\"0.0\" y1=\"103.08300395256913\" x2=\"545.0387890890636\" y2=\"103.08300395256913\" stroke=\"rgb(233,233,233)\" stroke-opacity=\"1.0\" stroke-width=\"1.0\" fill=\"none\">\n        </line>\n        <line x1=\"0.0\" y1=\"52.490118577075066\" x2=\"545.0387890890636\" y2=\"52.490118577075066\" stroke=\"rgb(233,233,233)\" stroke-opacity=\"1.0\" stroke-width=\"1.0\" fill=\"none\">\n        </line>\n      </g>\n      <g transform=\"translate(21.961210910936405 0.0 ) \">\n        <g transform=\"translate(0.0 305.4545454545455 ) \">\n          <g transform=\"translate(-3.0 0.0 ) \">\n            <text class=\"axis-text-y\" text-anchor=\"end\" dy=\"0.35em\">\n              <tspan>4</tspan>\n            </text>\n          </g>\n        </g>\n        <g transform=\"translate(0.0 254.86166007905138 ) \">\n          <g transform=\"translate(-3.0 0.0 ) \">\n            <text class=\"axis-text-y\" text-anchor=\"end\" dy=\"0.35em\">\n              <tspan>6</tspan>\n            </text>\n          </g>\n        </g>\n        <g transform=\"translate(0.0 204.2687747035573 ) \">\n          <g transform=\"translate(-3.0 0.0 ) \">\n            <text class=\"axis-text-y\" text-anchor=\"end\" dy=\"0.35em\">\n              <tspan>8</tspan>\n            </text>\n          </g>\n        </g>\n        <g transform=\"translate(0.0 153.67588932806325 ) \">\n          <g transform=\"translate(-3.0 0.0 ) \">\n            <text class=\"axis-text-y\" text-anchor=\"end\" dy=\"0.35em\">\n              <tspan>10</tspan>\n            </text>\n          </g>\n        </g>\n        <g transform=\"translate(0.0 103.08300395256913 ) \">\n          <g transform=\"translate(-3.0 0.0 ) \">\n            <text class=\"axis-text-y\" text-anchor=\"end\" dy=\"0.35em\">\n              <tspan>12</tspan>\n            </text>\n          </g>\n        </g>\n        <g transform=\"translate(0.0 52.490118577075066 ) \">\n          <g transform=\"translate(-3.0 0.0 ) \">\n            <text class=\"axis-text-y\" text-anchor=\"end\" dy=\"0.35em\">\n              <tspan>14</tspan>\n            </text>\n          </g>\n        </g>\n        <g transform=\"translate(0.0 1.8972332015810025 ) \">\n          <g transform=\"translate(-3.0 0.0 ) \">\n            <text class=\"axis-text-y\" text-anchor=\"end\" dy=\"0.35em\">\n              <tspan>16</tspan>\n            </text>\n          </g>\n        </g>\n      </g>\n      <g transform=\"translate(21.961210910936405 0.0 ) \" clip-path=\"url(#ccwbESw)\" clip-bounds-jfx=\"[rect (0.0, 0.0), (545.0387890890636, 320.0)]\">\n        <defs>\n          <clipPath id=\"ccwbESw\">\n            <rect x=\"0.0\" y=\"0.0\" width=\"545.0387890890636\" height=\"320.0\">\n            </rect>\n          </clipPath>\n        </defs>\n        <rect x=\"20.567501475059004\" y=\"47.43083003952569\" height=\"156.83794466403162\" width=\"92.5537566377655\" stroke=\"rgb(238,102,102)\" stroke-opacity=\"1.0\" fill=\"rgb(238,102,102)\" fill-opacity=\"1.0\" stroke-width=\"1.6500000000000001\">\n        </rect>\n        <rect x=\"123.40500885035402\" y=\"189.0909090909091\" height=\"48.063241106719374\" width=\"92.5537566377655\" stroke=\"rgb(59,162,114)\" stroke-opacity=\"1.0\" fill=\"rgb(59,162,114)\" fill-opacity=\"1.0\" stroke-width=\"1.6500000000000001\">\n        </rect>\n        <rect x=\"226.242516225649\" y=\"135.9683794466403\" height=\"48.063241106719346\" width=\"92.5537566377655\" stroke=\"rgb(59,162,114)\" stroke-opacity=\"1.0\" fill=\"rgb(59,162,114)\" fill-opacity=\"1.0\" stroke-width=\"1.6500000000000001\">\n        </rect>\n        <rect x=\"329.080023600944\" y=\"123.32015810276681\" height=\"118.89328063241106\" width=\"92.5537566377655\" stroke=\"rgb(238,102,102)\" stroke-opacity=\"1.0\" fill=\"rgb(238,102,102)\" fill-opacity=\"1.0\" stroke-width=\"1.6500000000000001\">\n        </rect>\n        <rect x=\"431.917530976239\" y=\"158.73517786561263\" height=\"146.71936758893287\" width=\"92.5537566377655\" stroke=\"rgb(59,162,114)\" stroke-opacity=\"1.0\" fill=\"rgb(59,162,114)\" fill-opacity=\"1.0\" stroke-width=\"1.6500000000000001\">\n        </rect>\n        <line x1=\"66.84437979394175\" y1=\"204.2687747035573\" x2=\"66.84437979394175\" y2=\"216.91699604743084\" stroke=\"rgb(238,102,102)\" stroke-opacity=\"1.0\" fill=\"rgb(238,102,102)\" fill-opacity=\"1.0\" stroke-width=\"1.6500000000000001\">\n        </line>\n        <line x1=\"66.84437979394175\" y1=\"216.91699604743084\" x2=\"66.84437979394175\" y2=\"216.91699604743084\" stroke=\"rgb(238,102,102)\" stroke-opacity=\"1.0\" fill=\"rgb(238,102,102)\" fill-opacity=\"1.0\" stroke-width=\"1.6500000000000001\">\n        </line>\n        <line x1=\"66.84437979394175\" y1=\"47.43083003952569\" x2=\"66.84437979394175\" y2=\"14.545454545454504\" stroke=\"rgb(238,102,102)\" stroke-opacity=\"1.0\" fill=\"rgb(238,102,102)\" fill-opacity=\"1.0\" stroke-width=\"1.6500000000000001\">\n        </line>\n        <line x1=\"66.84437979394175\" y1=\"14.545454545454504\" x2=\"66.84437979394175\" y2=\"14.545454545454504\" stroke=\"rgb(238,102,102)\" stroke-opacity=\"1.0\" fill=\"rgb(238,102,102)\" fill-opacity=\"1.0\" stroke-width=\"1.6500000000000001\">\n        </line>\n        <line x1=\"169.68188716923675\" y1=\"237.15415019762847\" x2=\"169.68188716923675\" y2=\"252.3320158102767\" stroke=\"rgb(59,162,114)\" stroke-opacity=\"1.0\" fill=\"rgb(59,162,114)\" fill-opacity=\"1.0\" stroke-width=\"1.6500000000000001\">\n        </line>\n        <line x1=\"169.68188716923675\" y1=\"252.3320158102767\" x2=\"169.68188716923675\" y2=\"252.3320158102767\" stroke=\"rgb(59,162,114)\" stroke-opacity=\"1.0\" fill=\"rgb(59,162,114)\" fill-opacity=\"1.0\" stroke-width=\"1.6500000000000001\">\n        </line>\n        <line x1=\"169.68188716923675\" y1=\"189.0909090909091\" x2=\"169.68188716923675\" y2=\"163.79446640316206\" stroke=\"rgb(59,162,114)\" stroke-opacity=\"1.0\" fill=\"rgb(59,162,114)\" fill-opacity=\"1.0\" stroke-width=\"1.6500000000000001\">\n        </line>\n        <line x1=\"169.68188716923675\" y1=\"163.79446640316206\" x2=\"169.68188716923675\" y2=\"163.79446640316206\" stroke=\"rgb(59,162,114)\" stroke-opacity=\"1.0\" fill=\"rgb(59,162,114)\" fill-opacity=\"1.0\" stroke-width=\"1.6500000000000001\">\n        </line>\n        <line x1=\"272.5193945445318\" y1=\"184.03162055335966\" x2=\"272.5193945445318\" y2=\"191.62055335968378\" stroke=\"rgb(59,162,114)\" stroke-opacity=\"1.0\" fill=\"rgb(59,162,114)\" fill-opacity=\"1.0\" stroke-width=\"1.6500000000000001\">\n        </line>\n        <line x1=\"272.5193945445318\" y1=\"191.62055335968378\" x2=\"272.5193945445318\" y2=\"191.62055335968378\" stroke=\"rgb(59,162,114)\" stroke-opacity=\"1.0\" fill=\"rgb(59,162,114)\" fill-opacity=\"1.0\" stroke-width=\"1.6500000000000001\">\n        </line>\n        <line x1=\"272.5193945445318\" y1=\"135.9683794466403\" x2=\"272.5193945445318\" y2=\"135.9683794466403\" stroke=\"rgb(59,162,114)\" stroke-opacity=\"1.0\" fill=\"rgb(59,162,114)\" fill-opacity=\"1.0\" stroke-width=\"1.6500000000000001\">\n        </line>\n        <line x1=\"272.5193945445318\" y1=\"135.9683794466403\" x2=\"272.5193945445318\" y2=\"135.9683794466403\" stroke=\"rgb(59,162,114)\" stroke-opacity=\"1.0\" fill=\"rgb(59,162,114)\" fill-opacity=\"1.0\" stroke-width=\"1.6500000000000001\">\n        </line>\n        <line x1=\"375.3569019198268\" y1=\"242.21343873517787\" x2=\"375.3569019198268\" y2=\"270.0395256916996\" stroke=\"rgb(238,102,102)\" stroke-opacity=\"1.0\" fill=\"rgb(238,102,102)\" fill-opacity=\"1.0\" stroke-width=\"1.6500000000000001\">\n        </line>\n        <line x1=\"375.3569019198268\" y1=\"270.0395256916996\" x2=\"375.3569019198268\" y2=\"270.0395256916996\" stroke=\"rgb(238,102,102)\" stroke-opacity=\"1.0\" fill=\"rgb(238,102,102)\" fill-opacity=\"1.0\" stroke-width=\"1.6500000000000001\">\n        </line>\n        <line x1=\"375.3569019198268\" y1=\"123.32015810276681\" x2=\"375.3569019198268\" y2=\"110.67193675889331\" stroke=\"rgb(238,102,102)\" stroke-opacity=\"1.0\" fill=\"rgb(238,102,102)\" fill-opacity=\"1.0\" stroke-width=\"1.6500000000000001\">\n        </line>\n        <line x1=\"375.3569019198268\" y1=\"110.67193675889331\" x2=\"375.3569019198268\" y2=\"110.67193675889331\" stroke=\"rgb(238,102,102)\" stroke-opacity=\"1.0\" fill=\"rgb(238,102,102)\" fill-opacity=\"1.0\" stroke-width=\"1.6500000000000001\">\n        </line>\n        <line x1=\"478.1944092951218\" y1=\"305.4545454545455\" x2=\"478.1944092951218\" y2=\"305.4545454545455\" stroke=\"rgb(59,162,114)\" stroke-opacity=\"1.0\" fill=\"rgb(59,162,114)\" fill-opacity=\"1.0\" stroke-width=\"1.6500000000000001\">\n        </line>\n        <line x1=\"478.1944092951218\" y1=\"305.4545454545455\" x2=\"478.1944092951218\" y2=\"305.4545454545455\" stroke=\"rgb(59,162,114)\" stroke-opacity=\"1.0\" fill=\"rgb(59,162,114)\" fill-opacity=\"1.0\" stroke-width=\"1.6500000000000001\">\n        </line>\n        <line x1=\"478.1944092951218\" y1=\"158.73517786561263\" x2=\"478.1944092951218\" y2=\"156.20553359683794\" stroke=\"rgb(59,162,114)\" stroke-opacity=\"1.0\" fill=\"rgb(59,162,114)\" fill-opacity=\"1.0\" stroke-width=\"1.6500000000000001\">\n        </line>\n        <line x1=\"478.1944092951218\" y1=\"156.20553359683794\" x2=\"478.1944092951218\" y2=\"156.20553359683794\" stroke=\"rgb(59,162,114)\" stroke-opacity=\"1.0\" fill=\"rgb(59,162,114)\" fill-opacity=\"1.0\" stroke-width=\"1.6500000000000001\">\n        </line>\n      </g>\n    </g>\n    <g transform=\"translate(44.9612109109364 15.2 ) \">\n      <text class=\"plot-title\" y=\"0.0\">\n        <tspan>`statCandlestick` + `boxes`</tspan>\n      </text>\n    </g>\n    <g transform=\"translate(14.5 194.0 ) rotate(-90.0 ) \">\n      <text class=\"axis-title-y\" y=\"0.0\" text-anchor=\"middle\">\n        <tspan>y</tspan>\n      </text>\n    </g>\n    <g transform=\"translate(317.4806054554682 391.5 ) \">\n      <text class=\"axis-title-x\" y=\"0.0\" text-anchor=\"middle\">\n        <tspan>x</tspan>\n      </text>\n    </g>\n    <path fill=\"rgb(0,0,0)\" fill-opacity=\"0.0\" stroke=\"rgb(71,71,71)\" stroke-opacity=\"1.0\" stroke-width=\"0.0\" d=\"M0.0 0.0 L0.0 400.0 L600.0 400.0 L600.0 0.0 Z\">\n    </path>\n  </g>\n  <g id=\"di983Rk\">\n  </g>\n</svg>\n        <script>document.getElementById(\"7f05348d-5ade-4252-918d-6a81bbfb0a33\").style.display = \"none\";</script>",
      "application/plot+json": {
       "output_type": "lets_plot_spec",
       "output": {
        "ggtitle": {
         "text": "`statCandlestick` + `boxes`"
        },
        "mapping": {},
        "data": {},
        "kind": "plot",
        "scales": [
         {
          "aesthetic": "x",
          "discrete": true
         },
         {
          "aesthetic": "fill",
          "values": [
           "#3ba272",
           "#ee6666"
          ],
          "limits": [
           true,
           false
          ],
          "guide": "none"
         },
         {
          "aesthetic": "color",
          "values": [
           "#3ba272",
           "#ee6666"
          ],
          "limits": [
           true,
           false
          ],
          "guide": "none"
         }
        ],
        "layers": [
         {
          "mapping": {
           "x": "x",
           "ymin": "min",
           "lower": "lower",
           "upper": "upper",
           "ymax": "max",
           "middle": "middle",
           "fill": "isIncreased",
           "color": "isIncreased"
          },
          "stat": "identity",
          "data": {
           "min": [
            7.5,
            6.1,
            8.5,
            5.4,
            4.0
           ],
           "middle": [
            null,
            null,
            null,
            null,
            null
           ],
           "max": [
            15.5,
            9.6,
            10.7,
            11.7,
            9.9
           ],
           "isIncreased": [
            false,
            true,
            true,
            false,
            true
           ],
           "lower": [
            8.0,
            6.7,
            8.8,
            6.5,
            4.0
           ],
           "upper": [
            14.2,
            8.6,
            10.7,
            11.2,
            9.8
           ],
           "x": [
            "Jan",
            "Feb",
            "Mar",
            "Apr",
            "May"
           ]
          },
          "whisker_width": 0.0,
          "sampling": "none",
          "position": "dodge",
          "geom": "boxplot"
         }
        ]
       },
       "apply_color_scheme": true,
       "swing_enabled": true
      }
     },
     "execution_count": 5,
     "metadata": {},
     "output_type": "execute_result"
    }
   ],
   "source": [
    "import org.jetbrains.letsPlot.intern.toSpec\n",
    "\n",
    "val statCandlestickBoxesPlot = df.plot {\n",
    "    statCandlestick(\"x\", \"open\", \"high\", \"low\", \"close\") {\n",
    "        boxes {\n",
    "            x(Stat.x)\n",
    "            yMin(Stat.min)\n",
    "            lower(Stat.lower)\n",
    "            upper(Stat.upper)\n",
    "            yMax(Stat.max)\n",
    "            // temporary solution, middle shoudn't be necceasary\n",
    "            middle(List(Stat.x.size()) {null})\n",
    "            val colorScale = Scale.categorical(true to Color.GREEN, false to Color.RED)\n",
    "            fillColor(Stat.isIncreased) {\n",
    "                scale = colorScale\n",
    "                // remove legend\n",
    "                legend.type = LegendType.None \n",
    "            }\n",
    "            borderLine.color(Stat.isIncreased) {\n",
    "                scale = colorScale\n",
    "                // remove legend\n",
    "                legend.type = LegendType.None\n",
    "            }\n",
    "            // remove whisker ends\n",
    "            whiskerWidth = 0.0\n",
    "        }\n",
    "    }\n",
    "    layout.title = \"`statCandlestick` + `boxes`\"\n",
    "}\n",
    "statCandlestickBoxesPlot"
   ],
   "metadata": {
    "collapsed": false,
    "ExecuteTime": {
     "end_time": "2024-02-22T11:05:39.760147Z",
     "start_time": "2024-02-22T11:05:39.171221Z"
    }
   }
  },
  {
   "cell_type": "markdown",
   "source": [
    "But we can do it even faster with `candlestick(statCandlestickArgs)` method:"
   ],
   "metadata": {
    "collapsed": false
   }
  },
  {
   "cell_type": "code",
   "execution_count": 6,
   "outputs": [
    {
     "data": {
      "text/html": "            <iframe src='about:blank' style='border:none !important;' width='600' height='400' srcdoc=\"&lt;html lang=&quot;en&quot;>\n   &lt;head>\n       &lt;meta charset=&quot;UTF-8&quot;>\n       &lt;style> html, body { margin: 0; overflow: hidden; } &lt;/style>\n       &lt;script type=&quot;text/javascript&quot; data-lets-plot-script=&quot;library&quot; src=&quot;https://cdn.jsdelivr.net/gh/JetBrains/lets-plot@v4.2.0/js-package/distr/lets-plot.min.js&quot;>&lt;/script>\n   &lt;/head>\n   &lt;body>\n          &lt;div id=&quot;91kIIV&quot;>&lt;/div>\n   &lt;script type=&quot;text/javascript&quot; data-lets-plot-script=&quot;plot&quot;>\n       var plotSpec={\n&quot;ggtitle&quot;:{\n&quot;text&quot;:&quot;`candlestick`&quot;\n},\n&quot;mapping&quot;:{\n},\n&quot;data&quot;:{\n},\n&quot;kind&quot;:&quot;plot&quot;,\n&quot;scales&quot;:[{\n&quot;aesthetic&quot;:&quot;x&quot;,\n&quot;name&quot;:&quot;x&quot;,\n&quot;limits&quot;:[null,null]\n},{\n&quot;aesthetic&quot;:&quot;y&quot;,\n&quot;name&quot;:&quot;&quot;,\n&quot;limits&quot;:[null,null]\n},{\n&quot;aesthetic&quot;:&quot;x&quot;,\n&quot;discrete&quot;:true\n},{\n&quot;aesthetic&quot;:&quot;fill&quot;,\n&quot;values&quot;:[&quot;#3ba272&quot;,&quot;#ee6666&quot;],\n&quot;limits&quot;:[true,false],\n&quot;guide&quot;:&quot;none&quot;\n},{\n&quot;aesthetic&quot;:&quot;color&quot;,\n&quot;values&quot;:[&quot;#3ba272&quot;,&quot;#ee6666&quot;],\n&quot;limits&quot;:[true,false],\n&quot;guide&quot;:&quot;none&quot;\n},{\n&quot;aesthetic&quot;:&quot;linetype&quot;,\n&quot;values&quot;:[1.0,1.0],\n&quot;limits&quot;:[true,false],\n&quot;guide&quot;:&quot;none&quot;\n},{\n&quot;aesthetic&quot;:&quot;size&quot;,\n&quot;values&quot;:[0.6,0.6],\n&quot;limits&quot;:[true,false],\n&quot;guide&quot;:&quot;none&quot;\n},{\n&quot;aesthetic&quot;:&quot;alpha&quot;,\n&quot;values&quot;:[1.0,1.0],\n&quot;limits&quot;:[true,false],\n&quot;guide&quot;:&quot;none&quot;\n}],\n&quot;layers&quot;:[{\n&quot;mapping&quot;:{\n&quot;x&quot;:&quot;x&quot;,\n&quot;ymin&quot;:&quot;min&quot;,\n&quot;lower&quot;:&quot;lower&quot;,\n&quot;middle&quot;:&quot;middle&quot;,\n&quot;upper&quot;:&quot;upper&quot;,\n&quot;ymax&quot;:&quot;max&quot;,\n&quot;fill&quot;:&quot;isIncreased&quot;,\n&quot;color&quot;:&quot;isIncreased&quot;,\n&quot;linetype&quot;:&quot;isIncreased&quot;,\n&quot;size&quot;:&quot;isIncreased&quot;,\n&quot;alpha&quot;:&quot;isIncreased&quot;\n},\n&quot;stat&quot;:&quot;identity&quot;,\n&quot;data&quot;:{\n&quot;min&quot;:[7.5,6.1,8.5,5.4,4.0],\n&quot;middle&quot;:[null,null,null,null,null],\n&quot;max&quot;:[15.5,9.6,10.7,11.7,9.9],\n&quot;isIncreased&quot;:[false,true,true,false,true],\n&quot;lower&quot;:[8.0,6.7,8.8,6.5,4.0],\n&quot;upper&quot;:[14.2,8.6,10.7,11.2,9.8],\n&quot;x&quot;:[&quot;Jan&quot;,&quot;Feb&quot;,&quot;Mar&quot;,&quot;Apr&quot;,&quot;May&quot;],\n&quot;close&quot;:[8.0,8.6,10.7,6.5,9.8],\n&quot;open&quot;:[14.2,6.7,8.8,11.2,4.0]\n},\n&quot;whisker_width&quot;:0.0,\n&quot;sampling&quot;:&quot;none&quot;,\n&quot;position&quot;:&quot;identity&quot;,\n&quot;geom&quot;:&quot;boxplot&quot;,\n&quot;tooltips&quot;:{\n&quot;formats&quot;:[{\n&quot;field&quot;:&quot;open&quot;,\n&quot;format&quot;:&quot;.2f&quot;\n},{\n&quot;field&quot;:&quot;max&quot;,\n&quot;format&quot;:&quot;.2f&quot;\n},{\n&quot;field&quot;:&quot;min&quot;,\n&quot;format&quot;:&quot;.2f&quot;\n},{\n&quot;field&quot;:&quot;close&quot;,\n&quot;format&quot;:&quot;.2f&quot;\n}],\n&quot;title&quot;:&quot;@x&quot;,\n&quot;lines&quot;:[&quot;open|@open&quot;,&quot;high|@max&quot;,&quot;low|@min&quot;,&quot;close|@close&quot;],\n&quot;disable_splitting&quot;:true\n}\n}]\n};\n       var plotContainer = document.getElementById(&quot;91kIIV&quot;);\n       LetsPlot.buildPlotFromProcessedSpecs(plotSpec, -1, -1, plotContainer);\n   &lt;/script>\n   &lt;/body>\n&lt;/html>\"></iframe>            <svg xmlns=\"http://www.w3.org/2000/svg\" xmlns:xlink=\"http://www.w3.org/1999/xlink\" class=\"plt-container\" id=04fbe528-10b8-4d9a-b932-0c3a98c2924a width=\"100%\" height=\"100%\" style=\"max-width: 600.0px; max-height: 400.0px;\" viewBox=\"0 0 600.0 400.0\" preserveAspectRatio=\"xMinYMin meet\">\n  <style type=\"text/css\">\n  .plt-container {\n   font-family: Lucida Grande, sans-serif;\n   user-select: none;\n   -webkit-user-select: none;\n   -moz-user-select: none;\n   -ms-user-select: none;\n}\ntext {\n   text-rendering: optimizeLegibility;\n}\n#p2feiBI .plot-title {\n   fill: #474747;\n   font-family: Lucida Grande, sans-serif;\n   font-size: 16.0px;\n   font-weight: normal;\n   font-style: normal;   \n}\n#p2feiBI .plot-subtitle {\n   fill: #474747;\n   font-family: Lucida Grande, sans-serif;\n   font-size: 15.0px;\n   font-weight: normal;\n   font-style: normal;   \n}\n#p2feiBI .plot-caption {\n   fill: #474747;\n   font-family: Lucida Grande, sans-serif;\n   font-size: 13.0px;\n   font-weight: normal;\n   font-style: normal;   \n}\n#p2feiBI .legend-title {\n   fill: #474747;\n   font-family: Lucida Grande, sans-serif;\n   font-size: 15.0px;\n   font-weight: normal;\n   font-style: normal;   \n}\n#p2feiBI .legend-item {\n   fill: #474747;\n   font-family: Lucida Grande, sans-serif;\n   font-size: 13.0px;\n   font-weight: normal;\n   font-style: normal;   \n}\n#p2feiBI .axis-title-x {\n   fill: #474747;\n   font-family: Lucida Grande, sans-serif;\n   font-size: 15.0px;\n   font-weight: normal;\n   font-style: normal;   \n}\n#p2feiBI .axis-text-x {\n   fill: #474747;\n   font-family: Lucida Grande, sans-serif;\n   font-size: 13.0px;\n   font-weight: normal;\n   font-style: normal;   \n}\n#dqHehBS .axis-tooltip-text-x {\n   fill: #ffffff;\n   font-family: Lucida Grande, sans-serif;\n   font-size: 13.0px;\n   font-weight: normal;\n   font-style: normal;   \n}\n#p2feiBI .axis-title-y {\n   fill: #474747;\n   font-family: Lucida Grande, sans-serif;\n   font-size: 15.0px;\n   font-weight: normal;\n   font-style: normal;   \n}\n#p2feiBI .axis-text-y {\n   fill: #474747;\n   font-family: Lucida Grande, sans-serif;\n   font-size: 13.0px;\n   font-weight: normal;\n   font-style: normal;   \n}\n#dqHehBS .axis-tooltip-text-y {\n   fill: #ffffff;\n   font-family: Lucida Grande, sans-serif;\n   font-size: 13.0px;\n   font-weight: normal;\n   font-style: normal;   \n}\n#p2feiBI .facet-strip-text-x {\n   fill: #474747;\n   font-family: Lucida Grande, sans-serif;\n   font-size: 13.0px;\n   font-weight: normal;\n   font-style: normal;   \n}\n#p2feiBI .facet-strip-text-y {\n   fill: #474747;\n   font-family: Lucida Grande, sans-serif;\n   font-size: 13.0px;\n   font-weight: normal;\n   font-style: normal;   \n}\n#dqHehBS .tooltip-text {\n   fill: #474747;\n   font-family: Lucida Grande, sans-serif;\n   font-size: 13.0px;\n   font-weight: normal;\n   font-style: normal;   \n}\n#dqHehBS .tooltip-title {\n   fill: #474747;\n   font-family: Lucida Grande, sans-serif;\n   font-size: 13.0px;\n   font-weight: bold;\n   font-style: normal;   \n}\n#dqHehBS .tooltip-label {\n   fill: #474747;\n   font-family: Lucida Grande, sans-serif;\n   font-size: 13.0px;\n   font-weight: bold;\n   font-style: normal;   \n}\n\n  </style>\n  <g id=\"p2feiBI\">\n    <path fill-rule=\"evenodd\" fill=\"rgb(255,255,255)\" fill-opacity=\"1.0\" d=\"M0.0 0.0 L0.0 400.0 L600.0 400.0 L600.0 0.0 Z\">\n    </path>\n    <g transform=\"translate(23.0 34.0 ) \">\n      <g transform=\"translate(21.961210910936405 0.0 ) \">\n        <line x1=\"66.84437979394175\" y1=\"320.0\" x2=\"66.84437979394175\" y2=\"0.0\" stroke=\"rgb(233,233,233)\" stroke-opacity=\"1.0\" stroke-width=\"1.0\" fill=\"none\">\n        </line>\n        <line x1=\"169.68188716923675\" y1=\"320.0\" x2=\"169.68188716923675\" y2=\"0.0\" stroke=\"rgb(233,233,233)\" stroke-opacity=\"1.0\" stroke-width=\"1.0\" fill=\"none\">\n        </line>\n        <line x1=\"272.5193945445318\" y1=\"320.0\" x2=\"272.5193945445318\" y2=\"0.0\" stroke=\"rgb(233,233,233)\" stroke-opacity=\"1.0\" stroke-width=\"1.0\" fill=\"none\">\n        </line>\n        <line x1=\"375.3569019198268\" y1=\"320.0\" x2=\"375.3569019198268\" y2=\"0.0\" stroke=\"rgb(233,233,233)\" stroke-opacity=\"1.0\" stroke-width=\"1.0\" fill=\"none\">\n        </line>\n        <line x1=\"478.1944092951218\" y1=\"320.0\" x2=\"478.1944092951218\" y2=\"0.0\" stroke=\"rgb(233,233,233)\" stroke-opacity=\"1.0\" stroke-width=\"1.0\" fill=\"none\">\n        </line>\n      </g>\n      <g transform=\"translate(21.961210910936405 320.0 ) \">\n        <g transform=\"translate(66.84437979394175 0.0 ) \">\n          <line stroke-width=\"1.0\" stroke=\"rgb(71,71,71)\" stroke-opacity=\"1.0\" x2=\"0.0\" y2=\"4.0\">\n          </line>\n          <g transform=\"translate(0.0 7.0 ) \">\n            <text class=\"axis-text-x\" text-anchor=\"middle\" dy=\"0.7em\">\n              <tspan>Jan</tspan>\n            </text>\n          </g>\n        </g>\n        <g transform=\"translate(169.68188716923675 0.0 ) \">\n          <line stroke-width=\"1.0\" stroke=\"rgb(71,71,71)\" stroke-opacity=\"1.0\" x2=\"0.0\" y2=\"4.0\">\n          </line>\n          <g transform=\"translate(0.0 7.0 ) \">\n            <text class=\"axis-text-x\" text-anchor=\"middle\" dy=\"0.7em\">\n              <tspan>Feb</tspan>\n            </text>\n          </g>\n        </g>\n        <g transform=\"translate(272.5193945445318 0.0 ) \">\n          <line stroke-width=\"1.0\" stroke=\"rgb(71,71,71)\" stroke-opacity=\"1.0\" x2=\"0.0\" y2=\"4.0\">\n          </line>\n          <g transform=\"translate(0.0 7.0 ) \">\n            <text class=\"axis-text-x\" text-anchor=\"middle\" dy=\"0.7em\">\n              <tspan>Mar</tspan>\n            </text>\n          </g>\n        </g>\n        <g transform=\"translate(375.3569019198268 0.0 ) \">\n          <line stroke-width=\"1.0\" stroke=\"rgb(71,71,71)\" stroke-opacity=\"1.0\" x2=\"0.0\" y2=\"4.0\">\n          </line>\n          <g transform=\"translate(0.0 7.0 ) \">\n            <text class=\"axis-text-x\" text-anchor=\"middle\" dy=\"0.7em\">\n              <tspan>Apr</tspan>\n            </text>\n          </g>\n        </g>\n        <g transform=\"translate(478.1944092951218 0.0 ) \">\n          <line stroke-width=\"1.0\" stroke=\"rgb(71,71,71)\" stroke-opacity=\"1.0\" x2=\"0.0\" y2=\"4.0\">\n          </line>\n          <g transform=\"translate(0.0 7.0 ) \">\n            <text class=\"axis-text-x\" text-anchor=\"middle\" dy=\"0.7em\">\n              <tspan>May</tspan>\n            </text>\n          </g>\n        </g>\n        <line x1=\"0.0\" y1=\"0.0\" x2=\"545.0387890890636\" y2=\"0.0\" stroke-width=\"1.0\" stroke=\"rgb(71,71,71)\" stroke-opacity=\"1.0\">\n        </line>\n      </g>\n      <g transform=\"translate(21.961210910936405 0.0 ) \">\n        <line x1=\"0.0\" y1=\"305.4545454545455\" x2=\"545.0387890890636\" y2=\"305.4545454545455\" stroke=\"rgb(233,233,233)\" stroke-opacity=\"1.0\" stroke-width=\"1.0\" fill=\"none\">\n        </line>\n        <line x1=\"0.0\" y1=\"254.86166007905138\" x2=\"545.0387890890636\" y2=\"254.86166007905138\" stroke=\"rgb(233,233,233)\" stroke-opacity=\"1.0\" stroke-width=\"1.0\" fill=\"none\">\n        </line>\n        <line x1=\"0.0\" y1=\"204.2687747035573\" x2=\"545.0387890890636\" y2=\"204.2687747035573\" stroke=\"rgb(233,233,233)\" stroke-opacity=\"1.0\" stroke-width=\"1.0\" fill=\"none\">\n        </line>\n        <line x1=\"0.0\" y1=\"153.67588932806325\" x2=\"545.0387890890636\" y2=\"153.67588932806325\" stroke=\"rgb(233,233,233)\" stroke-opacity=\"1.0\" stroke-width=\"1.0\" fill=\"none\">\n        </line>\n        <line x1=\"0.0\" y1=\"103.08300395256913\" x2=\"545.0387890890636\" y2=\"103.08300395256913\" stroke=\"rgb(233,233,233)\" stroke-opacity=\"1.0\" stroke-width=\"1.0\" fill=\"none\">\n        </line>\n        <line x1=\"0.0\" y1=\"52.490118577075066\" x2=\"545.0387890890636\" y2=\"52.490118577075066\" stroke=\"rgb(233,233,233)\" stroke-opacity=\"1.0\" stroke-width=\"1.0\" fill=\"none\">\n        </line>\n      </g>\n      <g transform=\"translate(21.961210910936405 0.0 ) \">\n        <g transform=\"translate(0.0 305.4545454545455 ) \">\n          <g transform=\"translate(-3.0 0.0 ) \">\n            <text class=\"axis-text-y\" text-anchor=\"end\" dy=\"0.35em\">\n              <tspan>4</tspan>\n            </text>\n          </g>\n        </g>\n        <g transform=\"translate(0.0 254.86166007905138 ) \">\n          <g transform=\"translate(-3.0 0.0 ) \">\n            <text class=\"axis-text-y\" text-anchor=\"end\" dy=\"0.35em\">\n              <tspan>6</tspan>\n            </text>\n          </g>\n        </g>\n        <g transform=\"translate(0.0 204.2687747035573 ) \">\n          <g transform=\"translate(-3.0 0.0 ) \">\n            <text class=\"axis-text-y\" text-anchor=\"end\" dy=\"0.35em\">\n              <tspan>8</tspan>\n            </text>\n          </g>\n        </g>\n        <g transform=\"translate(0.0 153.67588932806325 ) \">\n          <g transform=\"translate(-3.0 0.0 ) \">\n            <text class=\"axis-text-y\" text-anchor=\"end\" dy=\"0.35em\">\n              <tspan>10</tspan>\n            </text>\n          </g>\n        </g>\n        <g transform=\"translate(0.0 103.08300395256913 ) \">\n          <g transform=\"translate(-3.0 0.0 ) \">\n            <text class=\"axis-text-y\" text-anchor=\"end\" dy=\"0.35em\">\n              <tspan>12</tspan>\n            </text>\n          </g>\n        </g>\n        <g transform=\"translate(0.0 52.490118577075066 ) \">\n          <g transform=\"translate(-3.0 0.0 ) \">\n            <text class=\"axis-text-y\" text-anchor=\"end\" dy=\"0.35em\">\n              <tspan>14</tspan>\n            </text>\n          </g>\n        </g>\n        <g transform=\"translate(0.0 1.8972332015810025 ) \">\n          <g transform=\"translate(-3.0 0.0 ) \">\n            <text class=\"axis-text-y\" text-anchor=\"end\" dy=\"0.35em\">\n              <tspan>16</tspan>\n            </text>\n          </g>\n        </g>\n      </g>\n      <g transform=\"translate(21.961210910936405 0.0 ) \" clip-path=\"url(#cUa3ou5)\" clip-bounds-jfx=\"[rect (0.0, 0.0), (545.0387890890636, 320.0)]\">\n        <defs>\n          <clipPath id=\"cUa3ou5\">\n            <rect x=\"0.0\" y=\"0.0\" width=\"545.0387890890636\" height=\"320.0\">\n            </rect>\n          </clipPath>\n        </defs>\n        <rect x=\"20.567501475059004\" y=\"47.43083003952569\" height=\"156.83794466403162\" width=\"92.5537566377655\" stroke=\"rgb(238,102,102)\" stroke-opacity=\"1.0\" fill=\"rgb(238,102,102)\" fill-opacity=\"1.0\" stroke-width=\"1.32\">\n        </rect>\n        <rect x=\"123.40500885035402\" y=\"189.0909090909091\" height=\"48.063241106719374\" width=\"92.5537566377655\" stroke=\"rgb(59,162,114)\" stroke-opacity=\"1.0\" fill=\"rgb(59,162,114)\" fill-opacity=\"1.0\" stroke-width=\"1.32\">\n        </rect>\n        <rect x=\"226.242516225649\" y=\"135.9683794466403\" height=\"48.063241106719346\" width=\"92.5537566377655\" stroke=\"rgb(59,162,114)\" stroke-opacity=\"1.0\" fill=\"rgb(59,162,114)\" fill-opacity=\"1.0\" stroke-width=\"1.32\">\n        </rect>\n        <rect x=\"329.080023600944\" y=\"123.32015810276681\" height=\"118.89328063241106\" width=\"92.5537566377655\" stroke=\"rgb(238,102,102)\" stroke-opacity=\"1.0\" fill=\"rgb(238,102,102)\" fill-opacity=\"1.0\" stroke-width=\"1.32\">\n        </rect>\n        <rect x=\"431.917530976239\" y=\"158.73517786561263\" height=\"146.71936758893287\" width=\"92.5537566377655\" stroke=\"rgb(59,162,114)\" stroke-opacity=\"1.0\" fill=\"rgb(59,162,114)\" fill-opacity=\"1.0\" stroke-width=\"1.32\">\n        </rect>\n        <line x1=\"66.84437979394175\" y1=\"204.2687747035573\" x2=\"66.84437979394175\" y2=\"216.91699604743084\" stroke=\"rgb(238,102,102)\" stroke-opacity=\"1.0\" fill=\"rgb(238,102,102)\" fill-opacity=\"1.0\" stroke-width=\"1.32\">\n        </line>\n        <line x1=\"66.84437979394175\" y1=\"216.91699604743084\" x2=\"66.84437979394175\" y2=\"216.91699604743084\" stroke=\"rgb(238,102,102)\" stroke-opacity=\"1.0\" fill=\"rgb(238,102,102)\" fill-opacity=\"1.0\" stroke-width=\"1.32\">\n        </line>\n        <line x1=\"66.84437979394175\" y1=\"47.43083003952569\" x2=\"66.84437979394175\" y2=\"14.545454545454504\" stroke=\"rgb(238,102,102)\" stroke-opacity=\"1.0\" fill=\"rgb(238,102,102)\" fill-opacity=\"1.0\" stroke-width=\"1.32\">\n        </line>\n        <line x1=\"66.84437979394175\" y1=\"14.545454545454504\" x2=\"66.84437979394175\" y2=\"14.545454545454504\" stroke=\"rgb(238,102,102)\" stroke-opacity=\"1.0\" fill=\"rgb(238,102,102)\" fill-opacity=\"1.0\" stroke-width=\"1.32\">\n        </line>\n        <line x1=\"169.68188716923675\" y1=\"237.15415019762847\" x2=\"169.68188716923675\" y2=\"252.3320158102767\" stroke=\"rgb(59,162,114)\" stroke-opacity=\"1.0\" fill=\"rgb(59,162,114)\" fill-opacity=\"1.0\" stroke-width=\"1.32\">\n        </line>\n        <line x1=\"169.68188716923675\" y1=\"252.3320158102767\" x2=\"169.68188716923675\" y2=\"252.3320158102767\" stroke=\"rgb(59,162,114)\" stroke-opacity=\"1.0\" fill=\"rgb(59,162,114)\" fill-opacity=\"1.0\" stroke-width=\"1.32\">\n        </line>\n        <line x1=\"169.68188716923675\" y1=\"189.0909090909091\" x2=\"169.68188716923675\" y2=\"163.79446640316206\" stroke=\"rgb(59,162,114)\" stroke-opacity=\"1.0\" fill=\"rgb(59,162,114)\" fill-opacity=\"1.0\" stroke-width=\"1.32\">\n        </line>\n        <line x1=\"169.68188716923675\" y1=\"163.79446640316206\" x2=\"169.68188716923675\" y2=\"163.79446640316206\" stroke=\"rgb(59,162,114)\" stroke-opacity=\"1.0\" fill=\"rgb(59,162,114)\" fill-opacity=\"1.0\" stroke-width=\"1.32\">\n        </line>\n        <line x1=\"272.5193945445318\" y1=\"184.03162055335966\" x2=\"272.5193945445318\" y2=\"191.62055335968378\" stroke=\"rgb(59,162,114)\" stroke-opacity=\"1.0\" fill=\"rgb(59,162,114)\" fill-opacity=\"1.0\" stroke-width=\"1.32\">\n        </line>\n        <line x1=\"272.5193945445318\" y1=\"191.62055335968378\" x2=\"272.5193945445318\" y2=\"191.62055335968378\" stroke=\"rgb(59,162,114)\" stroke-opacity=\"1.0\" fill=\"rgb(59,162,114)\" fill-opacity=\"1.0\" stroke-width=\"1.32\">\n        </line>\n        <line x1=\"272.5193945445318\" y1=\"135.9683794466403\" x2=\"272.5193945445318\" y2=\"135.9683794466403\" stroke=\"rgb(59,162,114)\" stroke-opacity=\"1.0\" fill=\"rgb(59,162,114)\" fill-opacity=\"1.0\" stroke-width=\"1.32\">\n        </line>\n        <line x1=\"272.5193945445318\" y1=\"135.9683794466403\" x2=\"272.5193945445318\" y2=\"135.9683794466403\" stroke=\"rgb(59,162,114)\" stroke-opacity=\"1.0\" fill=\"rgb(59,162,114)\" fill-opacity=\"1.0\" stroke-width=\"1.32\">\n        </line>\n        <line x1=\"375.3569019198268\" y1=\"242.21343873517787\" x2=\"375.3569019198268\" y2=\"270.0395256916996\" stroke=\"rgb(238,102,102)\" stroke-opacity=\"1.0\" fill=\"rgb(238,102,102)\" fill-opacity=\"1.0\" stroke-width=\"1.32\">\n        </line>\n        <line x1=\"375.3569019198268\" y1=\"270.0395256916996\" x2=\"375.3569019198268\" y2=\"270.0395256916996\" stroke=\"rgb(238,102,102)\" stroke-opacity=\"1.0\" fill=\"rgb(238,102,102)\" fill-opacity=\"1.0\" stroke-width=\"1.32\">\n        </line>\n        <line x1=\"375.3569019198268\" y1=\"123.32015810276681\" x2=\"375.3569019198268\" y2=\"110.67193675889331\" stroke=\"rgb(238,102,102)\" stroke-opacity=\"1.0\" fill=\"rgb(238,102,102)\" fill-opacity=\"1.0\" stroke-width=\"1.32\">\n        </line>\n        <line x1=\"375.3569019198268\" y1=\"110.67193675889331\" x2=\"375.3569019198268\" y2=\"110.67193675889331\" stroke=\"rgb(238,102,102)\" stroke-opacity=\"1.0\" fill=\"rgb(238,102,102)\" fill-opacity=\"1.0\" stroke-width=\"1.32\">\n        </line>\n        <line x1=\"478.1944092951218\" y1=\"305.4545454545455\" x2=\"478.1944092951218\" y2=\"305.4545454545455\" stroke=\"rgb(59,162,114)\" stroke-opacity=\"1.0\" fill=\"rgb(59,162,114)\" fill-opacity=\"1.0\" stroke-width=\"1.32\">\n        </line>\n        <line x1=\"478.1944092951218\" y1=\"305.4545454545455\" x2=\"478.1944092951218\" y2=\"305.4545454545455\" stroke=\"rgb(59,162,114)\" stroke-opacity=\"1.0\" fill=\"rgb(59,162,114)\" fill-opacity=\"1.0\" stroke-width=\"1.32\">\n        </line>\n        <line x1=\"478.1944092951218\" y1=\"158.73517786561263\" x2=\"478.1944092951218\" y2=\"156.20553359683794\" stroke=\"rgb(59,162,114)\" stroke-opacity=\"1.0\" fill=\"rgb(59,162,114)\" fill-opacity=\"1.0\" stroke-width=\"1.32\">\n        </line>\n        <line x1=\"478.1944092951218\" y1=\"156.20553359683794\" x2=\"478.1944092951218\" y2=\"156.20553359683794\" stroke=\"rgb(59,162,114)\" stroke-opacity=\"1.0\" fill=\"rgb(59,162,114)\" fill-opacity=\"1.0\" stroke-width=\"1.32\">\n        </line>\n      </g>\n    </g>\n    <g transform=\"translate(44.9612109109364 15.2 ) \">\n      <text class=\"plot-title\" y=\"0.0\">\n        <tspan>`candlestick`</tspan>\n      </text>\n    </g>\n    <g transform=\"translate(14.5 194.0 ) rotate(-90.0 ) \">\n      <text class=\"axis-title-y\" y=\"0.0\" text-anchor=\"middle\">\n        <tspan></tspan>\n      </text>\n    </g>\n    <g transform=\"translate(317.4806054554682 391.5 ) \">\n      <text class=\"axis-title-x\" y=\"0.0\" text-anchor=\"middle\">\n        <tspan>x</tspan>\n      </text>\n    </g>\n    <path fill=\"rgb(0,0,0)\" fill-opacity=\"0.0\" stroke=\"rgb(71,71,71)\" stroke-opacity=\"1.0\" stroke-width=\"0.0\" d=\"M0.0 0.0 L0.0 400.0 L600.0 400.0 L600.0 0.0 Z\">\n    </path>\n  </g>\n  <g id=\"dqHehBS\">\n  </g>\n</svg>\n        <script>document.getElementById(\"04fbe528-10b8-4d9a-b932-0c3a98c2924a\").style.display = \"none\";</script>",
      "application/plot+json": {
       "output_type": "lets_plot_spec",
       "output": {
        "ggtitle": {
         "text": "`candlestick`"
        },
        "mapping": {},
        "data": {},
        "kind": "plot",
        "scales": [
         {
          "aesthetic": "x",
          "name": "x",
          "limits": [
           null,
           null
          ]
         },
         {
          "aesthetic": "y",
          "name": "",
          "limits": [
           null,
           null
          ]
         },
         {
          "aesthetic": "x",
          "discrete": true
         },
         {
          "aesthetic": "fill",
          "values": [
           "#3ba272",
           "#ee6666"
          ],
          "limits": [
           true,
           false
          ],
          "guide": "none"
         },
         {
          "aesthetic": "color",
          "values": [
           "#3ba272",
           "#ee6666"
          ],
          "limits": [
           true,
           false
          ],
          "guide": "none"
         },
         {
          "aesthetic": "linetype",
          "values": [
           1.0,
           1.0
          ],
          "limits": [
           true,
           false
          ],
          "guide": "none"
         },
         {
          "aesthetic": "size",
          "values": [
           0.6,
           0.6
          ],
          "limits": [
           true,
           false
          ],
          "guide": "none"
         },
         {
          "aesthetic": "alpha",
          "values": [
           1.0,
           1.0
          ],
          "limits": [
           true,
           false
          ],
          "guide": "none"
         }
        ],
        "layers": [
         {
          "mapping": {
           "x": "x",
           "ymin": "min",
           "lower": "lower",
           "middle": "middle",
           "upper": "upper",
           "ymax": "max",
           "fill": "isIncreased",
           "color": "isIncreased",
           "linetype": "isIncreased",
           "size": "isIncreased",
           "alpha": "isIncreased"
          },
          "stat": "identity",
          "data": {
           "min": [
            7.5,
            6.1,
            8.5,
            5.4,
            4.0
           ],
           "middle": [
            null,
            null,
            null,
            null,
            null
           ],
           "max": [
            15.5,
            9.6,
            10.7,
            11.7,
            9.9
           ],
           "isIncreased": [
            false,
            true,
            true,
            false,
            true
           ],
           "lower": [
            8.0,
            6.7,
            8.8,
            6.5,
            4.0
           ],
           "upper": [
            14.2,
            8.6,
            10.7,
            11.2,
            9.8
           ],
           "x": [
            "Jan",
            "Feb",
            "Mar",
            "Apr",
            "May"
           ],
           "close": [
            8.0,
            8.6,
            10.7,
            6.5,
            9.8
           ],
           "open": [
            14.2,
            6.7,
            8.8,
            11.2,
            4.0
           ]
          },
          "whisker_width": 0.0,
          "sampling": "none",
          "position": "identity",
          "geom": "boxplot",
          "tooltips": {
           "formats": [
            {
             "field": "open",
             "format": ".2f"
            },
            {
             "field": "max",
             "format": ".2f"
            },
            {
             "field": "min",
             "format": ".2f"
            },
            {
             "field": "close",
             "format": ".2f"
            }
           ],
           "title": "@x",
           "lines": [
            "open|@open",
            "high|@max",
            "low|@min",
            "close|@close"
           ],
           "disable_splitting": true
          }
         }
        ]
       },
       "apply_color_scheme": true,
       "swing_enabled": true
      }
     },
     "execution_count": 6,
     "metadata": {},
     "output_type": "execute_result"
    }
   ],
   "source": [
    "val candlestickPlot = plot {\n",
    "    candlestick(xList, openList, highList, lowList, closeList)\n",
    "    layout.title = \"`candlestick`\"\n",
    "}\n",
    "candlestickPlot"
   ],
   "metadata": {
    "collapsed": false,
    "ExecuteTime": {
     "end_time": "2024-02-22T11:05:40.006983Z",
     "start_time": "2024-02-22T11:05:39.765145Z"
    }
   }
  },
  {
   "cell_type": "markdown",
   "source": [
    "Let's compare them:"
   ],
   "metadata": {
    "collapsed": false
   }
  },
  {
   "cell_type": "code",
   "execution_count": 7,
   "outputs": [
    {
     "data": {
      "text/html": "            <iframe src='about:blank' style='border:none !important;' width='600' height='400' srcdoc=\"&lt;html lang=&quot;en&quot;>\n   &lt;head>\n       &lt;meta charset=&quot;UTF-8&quot;>\n       &lt;style> html, body { margin: 0; overflow: hidden; } &lt;/style>\n       &lt;script type=&quot;text/javascript&quot; data-lets-plot-script=&quot;library&quot; src=&quot;https://cdn.jsdelivr.net/gh/JetBrains/lets-plot@v4.2.0/js-package/distr/lets-plot.min.js&quot;>&lt;/script>\n   &lt;/head>\n   &lt;body>\n          &lt;div id=&quot;BwihnF&quot;>&lt;/div>\n   &lt;script type=&quot;text/javascript&quot; data-lets-plot-script=&quot;plot&quot;>\n       var plotSpec={\n&quot;layout&quot;:{\n&quot;name&quot;:&quot;grid&quot;,\n&quot;ncol&quot;:2,\n&quot;nrow&quot;:1,\n&quot;fit&quot;:true,\n&quot;align&quot;:false\n},\n&quot;figures&quot;:[{\n&quot;ggtitle&quot;:{\n&quot;text&quot;:&quot;`statCandlestick` + `boxes`&quot;\n},\n&quot;mapping&quot;:{\n},\n&quot;data&quot;:{\n},\n&quot;kind&quot;:&quot;plot&quot;,\n&quot;scales&quot;:[{\n&quot;aesthetic&quot;:&quot;x&quot;,\n&quot;discrete&quot;:true\n},{\n&quot;aesthetic&quot;:&quot;fill&quot;,\n&quot;values&quot;:[&quot;#3ba272&quot;,&quot;#ee6666&quot;],\n&quot;limits&quot;:[true,false],\n&quot;guide&quot;:&quot;none&quot;\n},{\n&quot;aesthetic&quot;:&quot;color&quot;,\n&quot;values&quot;:[&quot;#3ba272&quot;,&quot;#ee6666&quot;],\n&quot;limits&quot;:[true,false],\n&quot;guide&quot;:&quot;none&quot;\n}],\n&quot;layers&quot;:[{\n&quot;mapping&quot;:{\n&quot;x&quot;:&quot;x&quot;,\n&quot;ymin&quot;:&quot;min&quot;,\n&quot;lower&quot;:&quot;lower&quot;,\n&quot;upper&quot;:&quot;upper&quot;,\n&quot;ymax&quot;:&quot;max&quot;,\n&quot;middle&quot;:&quot;middle&quot;,\n&quot;fill&quot;:&quot;isIncreased&quot;,\n&quot;color&quot;:&quot;isIncreased&quot;\n},\n&quot;stat&quot;:&quot;identity&quot;,\n&quot;data&quot;:{\n&quot;min&quot;:[7.5,6.1,8.5,5.4,4.0],\n&quot;middle&quot;:[null,null,null,null,null],\n&quot;max&quot;:[15.5,9.6,10.7,11.7,9.9],\n&quot;isIncreased&quot;:[false,true,true,false,true],\n&quot;lower&quot;:[8.0,6.7,8.8,6.5,4.0],\n&quot;upper&quot;:[14.2,8.6,10.7,11.2,9.8],\n&quot;x&quot;:[&quot;Jan&quot;,&quot;Feb&quot;,&quot;Mar&quot;,&quot;Apr&quot;,&quot;May&quot;]\n},\n&quot;whisker_width&quot;:0.0,\n&quot;sampling&quot;:&quot;none&quot;,\n&quot;position&quot;:&quot;dodge&quot;,\n&quot;geom&quot;:&quot;boxplot&quot;\n}]\n},{\n&quot;ggtitle&quot;:{\n&quot;text&quot;:&quot;`candlestick`&quot;\n},\n&quot;mapping&quot;:{\n},\n&quot;data&quot;:{\n},\n&quot;kind&quot;:&quot;plot&quot;,\n&quot;scales&quot;:[{\n&quot;aesthetic&quot;:&quot;x&quot;,\n&quot;name&quot;:&quot;x&quot;,\n&quot;limits&quot;:[null,null]\n},{\n&quot;aesthetic&quot;:&quot;y&quot;,\n&quot;name&quot;:&quot;&quot;,\n&quot;limits&quot;:[null,null]\n},{\n&quot;aesthetic&quot;:&quot;x&quot;,\n&quot;discrete&quot;:true\n},{\n&quot;aesthetic&quot;:&quot;fill&quot;,\n&quot;values&quot;:[&quot;#3ba272&quot;,&quot;#ee6666&quot;],\n&quot;limits&quot;:[true,false],\n&quot;guide&quot;:&quot;none&quot;\n},{\n&quot;aesthetic&quot;:&quot;color&quot;,\n&quot;values&quot;:[&quot;#3ba272&quot;,&quot;#ee6666&quot;],\n&quot;limits&quot;:[true,false],\n&quot;guide&quot;:&quot;none&quot;\n},{\n&quot;aesthetic&quot;:&quot;linetype&quot;,\n&quot;values&quot;:[1.0,1.0],\n&quot;limits&quot;:[true,false],\n&quot;guide&quot;:&quot;none&quot;\n},{\n&quot;aesthetic&quot;:&quot;size&quot;,\n&quot;values&quot;:[0.6,0.6],\n&quot;limits&quot;:[true,false],\n&quot;guide&quot;:&quot;none&quot;\n},{\n&quot;aesthetic&quot;:&quot;alpha&quot;,\n&quot;values&quot;:[1.0,1.0],\n&quot;limits&quot;:[true,false],\n&quot;guide&quot;:&quot;none&quot;\n}],\n&quot;layers&quot;:[{\n&quot;mapping&quot;:{\n&quot;x&quot;:&quot;x&quot;,\n&quot;ymin&quot;:&quot;min&quot;,\n&quot;lower&quot;:&quot;lower&quot;,\n&quot;middle&quot;:&quot;middle&quot;,\n&quot;upper&quot;:&quot;upper&quot;,\n&quot;ymax&quot;:&quot;max&quot;,\n&quot;fill&quot;:&quot;isIncreased&quot;,\n&quot;color&quot;:&quot;isIncreased&quot;,\n&quot;linetype&quot;:&quot;isIncreased&quot;,\n&quot;size&quot;:&quot;isIncreased&quot;,\n&quot;alpha&quot;:&quot;isIncreased&quot;\n},\n&quot;stat&quot;:&quot;identity&quot;,\n&quot;data&quot;:{\n&quot;middle&quot;:[null,null,null,null,null],\n&quot;min&quot;:[7.5,6.1,8.5,5.4,4.0],\n&quot;max&quot;:[15.5,9.6,10.7,11.7,9.9],\n&quot;isIncreased&quot;:[false,true,true,false,true],\n&quot;upper&quot;:[14.2,8.6,10.7,11.2,9.8],\n&quot;lower&quot;:[8.0,6.7,8.8,6.5,4.0],\n&quot;x&quot;:[&quot;Jan&quot;,&quot;Feb&quot;,&quot;Mar&quot;,&quot;Apr&quot;,&quot;May&quot;],\n&quot;close&quot;:[8.0,8.6,10.7,6.5,9.8],\n&quot;open&quot;:[14.2,6.7,8.8,11.2,4.0]\n},\n&quot;whisker_width&quot;:0.0,\n&quot;sampling&quot;:&quot;none&quot;,\n&quot;position&quot;:&quot;identity&quot;,\n&quot;geom&quot;:&quot;boxplot&quot;,\n&quot;tooltips&quot;:{\n&quot;formats&quot;:[{\n&quot;field&quot;:&quot;open&quot;,\n&quot;format&quot;:&quot;.2f&quot;\n},{\n&quot;field&quot;:&quot;max&quot;,\n&quot;format&quot;:&quot;.2f&quot;\n},{\n&quot;field&quot;:&quot;min&quot;,\n&quot;format&quot;:&quot;.2f&quot;\n},{\n&quot;field&quot;:&quot;close&quot;,\n&quot;format&quot;:&quot;.2f&quot;\n}],\n&quot;title&quot;:&quot;@x&quot;,\n&quot;lines&quot;:[&quot;open|@open&quot;,&quot;high|@max&quot;,&quot;low|@min&quot;,&quot;close|@close&quot;],\n&quot;disable_splitting&quot;:true\n}\n}]\n}],\n&quot;kind&quot;:&quot;subplots&quot;\n};\n       var plotContainer = document.getElementById(&quot;BwihnF&quot;);\n       LetsPlot.buildPlotFromProcessedSpecs(plotSpec, -1, -1, plotContainer);\n   &lt;/script>\n   &lt;/body>\n&lt;/html>\"></iframe>            <svg xmlns=\"http://www.w3.org/2000/svg\" xmlns:xlink=\"http://www.w3.org/1999/xlink\" class=\"plt-container\" id=2631397a-ef44-490a-811d-04bf6d3175e6 width=\"100%\" height=\"100%\" style=\"max-width: 900.0px; max-height: 400.0px;\" viewBox=\"0 0 900.0 400.0\" preserveAspectRatio=\"xMinYMin meet\">\n  <g id=\"pBVnsbq\">\n    <rect x=\"0.0\" y=\"0.0\" height=\"400.0\" width=\"900.0\" fill=\"rgb(255,255,255)\" fill-opacity=\"1.0\" stroke=\"rgb(71,71,71)\" stroke-opacity=\"1.0\" stroke-width=\"0.0\">\n    </rect>\n  </g>\n  <svg xmlns=\"http://www.w3.org/2000/svg\" xmlns:xlink=\"http://www.w3.org/1999/xlink\" class=\"plt-container\" width=\"448.0\" height=\"400.0\" x=\"0.0\" y=\"0.0\">\n    <style type=\"text/css\">\n    .plt-container {\n   font-family: Lucida Grande, sans-serif;\n   user-select: none;\n   -webkit-user-select: none;\n   -moz-user-select: none;\n   -ms-user-select: none;\n}\ntext {\n   text-rendering: optimizeLegibility;\n}\n#pDRRW9S .plot-title {\n   fill: #474747;\n   font-family: Lucida Grande, sans-serif;\n   font-size: 16.0px;\n   font-weight: normal;\n   font-style: normal;   \n}\n#pDRRW9S .plot-subtitle {\n   fill: #474747;\n   font-family: Lucida Grande, sans-serif;\n   font-size: 15.0px;\n   font-weight: normal;\n   font-style: normal;   \n}\n#pDRRW9S .plot-caption {\n   fill: #474747;\n   font-family: Lucida Grande, sans-serif;\n   font-size: 13.0px;\n   font-weight: normal;\n   font-style: normal;   \n}\n#pDRRW9S .legend-title {\n   fill: #474747;\n   font-family: Lucida Grande, sans-serif;\n   font-size: 15.0px;\n   font-weight: normal;\n   font-style: normal;   \n}\n#pDRRW9S .legend-item {\n   fill: #474747;\n   font-family: Lucida Grande, sans-serif;\n   font-size: 13.0px;\n   font-weight: normal;\n   font-style: normal;   \n}\n#pDRRW9S .axis-title-x {\n   fill: #474747;\n   font-family: Lucida Grande, sans-serif;\n   font-size: 15.0px;\n   font-weight: normal;\n   font-style: normal;   \n}\n#pDRRW9S .axis-text-x {\n   fill: #474747;\n   font-family: Lucida Grande, sans-serif;\n   font-size: 13.0px;\n   font-weight: normal;\n   font-style: normal;   \n}\n#dL2XSXv .axis-tooltip-text-x {\n   fill: #ffffff;\n   font-family: Lucida Grande, sans-serif;\n   font-size: 13.0px;\n   font-weight: normal;\n   font-style: normal;   \n}\n#pDRRW9S .axis-title-y {\n   fill: #474747;\n   font-family: Lucida Grande, sans-serif;\n   font-size: 15.0px;\n   font-weight: normal;\n   font-style: normal;   \n}\n#pDRRW9S .axis-text-y {\n   fill: #474747;\n   font-family: Lucida Grande, sans-serif;\n   font-size: 13.0px;\n   font-weight: normal;\n   font-style: normal;   \n}\n#dL2XSXv .axis-tooltip-text-y {\n   fill: #ffffff;\n   font-family: Lucida Grande, sans-serif;\n   font-size: 13.0px;\n   font-weight: normal;\n   font-style: normal;   \n}\n#pDRRW9S .facet-strip-text-x {\n   fill: #474747;\n   font-family: Lucida Grande, sans-serif;\n   font-size: 13.0px;\n   font-weight: normal;\n   font-style: normal;   \n}\n#pDRRW9S .facet-strip-text-y {\n   fill: #474747;\n   font-family: Lucida Grande, sans-serif;\n   font-size: 13.0px;\n   font-weight: normal;\n   font-style: normal;   \n}\n#dL2XSXv .tooltip-text {\n   fill: #474747;\n   font-family: Lucida Grande, sans-serif;\n   font-size: 13.0px;\n   font-weight: normal;\n   font-style: normal;   \n}\n#dL2XSXv .tooltip-title {\n   fill: #474747;\n   font-family: Lucida Grande, sans-serif;\n   font-size: 13.0px;\n   font-weight: bold;\n   font-style: normal;   \n}\n#dL2XSXv .tooltip-label {\n   fill: #474747;\n   font-family: Lucida Grande, sans-serif;\n   font-size: 13.0px;\n   font-weight: bold;\n   font-style: normal;   \n}\n\n    </style>\n    <g id=\"pDRRW9S\">\n      <path fill-rule=\"evenodd\" fill=\"rgb(255,255,255)\" fill-opacity=\"1.0\" d=\"M0.0 0.0 L0.0 400.0 L448.0 400.0 L448.0 0.0 Z\">\n      </path>\n      <g transform=\"translate(23.0 34.0 ) \">\n        <g transform=\"translate(21.961210910936405 0.0 ) \">\n          <line x1=\"48.202870359979485\" y1=\"320.0\" x2=\"48.202870359979485\" y2=\"0.0\" stroke=\"rgb(233,233,233)\" stroke-opacity=\"1.0\" stroke-width=\"1.0\" fill=\"none\">\n          </line>\n          <line x1=\"122.36113245225562\" y1=\"320.0\" x2=\"122.36113245225562\" y2=\"0.0\" stroke=\"rgb(233,233,233)\" stroke-opacity=\"1.0\" stroke-width=\"1.0\" fill=\"none\">\n          </line>\n          <line x1=\"196.51939454453174\" y1=\"320.0\" x2=\"196.51939454453174\" y2=\"0.0\" stroke=\"rgb(233,233,233)\" stroke-opacity=\"1.0\" stroke-width=\"1.0\" fill=\"none\">\n          </line>\n          <line x1=\"270.6776566368079\" y1=\"320.0\" x2=\"270.6776566368079\" y2=\"0.0\" stroke=\"rgb(233,233,233)\" stroke-opacity=\"1.0\" stroke-width=\"1.0\" fill=\"none\">\n          </line>\n          <line x1=\"344.835918729084\" y1=\"320.0\" x2=\"344.835918729084\" y2=\"0.0\" stroke=\"rgb(233,233,233)\" stroke-opacity=\"1.0\" stroke-width=\"1.0\" fill=\"none\">\n          </line>\n        </g>\n        <g transform=\"translate(21.961210910936405 320.0 ) \">\n          <g transform=\"translate(48.202870359979485 0.0 ) \">\n            <line stroke-width=\"1.0\" stroke=\"rgb(71,71,71)\" stroke-opacity=\"1.0\" x2=\"0.0\" y2=\"4.0\">\n            </line>\n            <g transform=\"translate(0.0 7.0 ) \">\n              <text class=\"axis-text-x\" text-anchor=\"middle\" dy=\"0.7em\">\n                <tspan>Jan</tspan>\n              </text>\n            </g>\n          </g>\n          <g transform=\"translate(122.36113245225562 0.0 ) \">\n            <line stroke-width=\"1.0\" stroke=\"rgb(71,71,71)\" stroke-opacity=\"1.0\" x2=\"0.0\" y2=\"4.0\">\n            </line>\n            <g transform=\"translate(0.0 7.0 ) \">\n              <text class=\"axis-text-x\" text-anchor=\"middle\" dy=\"0.7em\">\n                <tspan>Feb</tspan>\n              </text>\n            </g>\n          </g>\n          <g transform=\"translate(196.51939454453174 0.0 ) \">\n            <line stroke-width=\"1.0\" stroke=\"rgb(71,71,71)\" stroke-opacity=\"1.0\" x2=\"0.0\" y2=\"4.0\">\n            </line>\n            <g transform=\"translate(0.0 7.0 ) \">\n              <text class=\"axis-text-x\" text-anchor=\"middle\" dy=\"0.7em\">\n                <tspan>Mar</tspan>\n              </text>\n            </g>\n          </g>\n          <g transform=\"translate(270.6776566368079 0.0 ) \">\n            <line stroke-width=\"1.0\" stroke=\"rgb(71,71,71)\" stroke-opacity=\"1.0\" x2=\"0.0\" y2=\"4.0\">\n            </line>\n            <g transform=\"translate(0.0 7.0 ) \">\n              <text class=\"axis-text-x\" text-anchor=\"middle\" dy=\"0.7em\">\n                <tspan>Apr</tspan>\n              </text>\n            </g>\n          </g>\n          <g transform=\"translate(344.835918729084 0.0 ) \">\n            <line stroke-width=\"1.0\" stroke=\"rgb(71,71,71)\" stroke-opacity=\"1.0\" x2=\"0.0\" y2=\"4.0\">\n            </line>\n            <g transform=\"translate(0.0 7.0 ) \">\n              <text class=\"axis-text-x\" text-anchor=\"middle\" dy=\"0.7em\">\n                <tspan>May</tspan>\n              </text>\n            </g>\n          </g>\n          <line x1=\"0.0\" y1=\"0.0\" x2=\"393.0387890890636\" y2=\"0.0\" stroke-width=\"1.0\" stroke=\"rgb(71,71,71)\" stroke-opacity=\"1.0\">\n          </line>\n        </g>\n        <g transform=\"translate(21.961210910936405 0.0 ) \">\n          <line x1=\"0.0\" y1=\"305.4545454545455\" x2=\"393.0387890890635\" y2=\"305.4545454545455\" stroke=\"rgb(233,233,233)\" stroke-opacity=\"1.0\" stroke-width=\"1.0\" fill=\"none\">\n          </line>\n          <line x1=\"0.0\" y1=\"254.86166007905138\" x2=\"393.0387890890635\" y2=\"254.86166007905138\" stroke=\"rgb(233,233,233)\" stroke-opacity=\"1.0\" stroke-width=\"1.0\" fill=\"none\">\n          </line>\n          <line x1=\"0.0\" y1=\"204.2687747035573\" x2=\"393.0387890890635\" y2=\"204.2687747035573\" stroke=\"rgb(233,233,233)\" stroke-opacity=\"1.0\" stroke-width=\"1.0\" fill=\"none\">\n          </line>\n          <line x1=\"0.0\" y1=\"153.67588932806325\" x2=\"393.0387890890635\" y2=\"153.67588932806325\" stroke=\"rgb(233,233,233)\" stroke-opacity=\"1.0\" stroke-width=\"1.0\" fill=\"none\">\n          </line>\n          <line x1=\"0.0\" y1=\"103.08300395256913\" x2=\"393.0387890890635\" y2=\"103.08300395256913\" stroke=\"rgb(233,233,233)\" stroke-opacity=\"1.0\" stroke-width=\"1.0\" fill=\"none\">\n          </line>\n          <line x1=\"0.0\" y1=\"52.490118577075066\" x2=\"393.0387890890635\" y2=\"52.490118577075066\" stroke=\"rgb(233,233,233)\" stroke-opacity=\"1.0\" stroke-width=\"1.0\" fill=\"none\">\n          </line>\n        </g>\n        <g transform=\"translate(21.961210910936405 0.0 ) \">\n          <g transform=\"translate(0.0 305.4545454545455 ) \">\n            <g transform=\"translate(-3.0 0.0 ) \">\n              <text class=\"axis-text-y\" text-anchor=\"end\" dy=\"0.35em\">\n                <tspan>4</tspan>\n              </text>\n            </g>\n          </g>\n          <g transform=\"translate(0.0 254.86166007905138 ) \">\n            <g transform=\"translate(-3.0 0.0 ) \">\n              <text class=\"axis-text-y\" text-anchor=\"end\" dy=\"0.35em\">\n                <tspan>6</tspan>\n              </text>\n            </g>\n          </g>\n          <g transform=\"translate(0.0 204.2687747035573 ) \">\n            <g transform=\"translate(-3.0 0.0 ) \">\n              <text class=\"axis-text-y\" text-anchor=\"end\" dy=\"0.35em\">\n                <tspan>8</tspan>\n              </text>\n            </g>\n          </g>\n          <g transform=\"translate(0.0 153.67588932806325 ) \">\n            <g transform=\"translate(-3.0 0.0 ) \">\n              <text class=\"axis-text-y\" text-anchor=\"end\" dy=\"0.35em\">\n                <tspan>10</tspan>\n              </text>\n            </g>\n          </g>\n          <g transform=\"translate(0.0 103.08300395256913 ) \">\n            <g transform=\"translate(-3.0 0.0 ) \">\n              <text class=\"axis-text-y\" text-anchor=\"end\" dy=\"0.35em\">\n                <tspan>12</tspan>\n              </text>\n            </g>\n          </g>\n          <g transform=\"translate(0.0 52.490118577075066 ) \">\n            <g transform=\"translate(-3.0 0.0 ) \">\n              <text class=\"axis-text-y\" text-anchor=\"end\" dy=\"0.35em\">\n                <tspan>14</tspan>\n              </text>\n            </g>\n          </g>\n          <g transform=\"translate(0.0 1.8972332015810025 ) \">\n            <g transform=\"translate(-3.0 0.0 ) \">\n              <text class=\"axis-text-y\" text-anchor=\"end\" dy=\"0.35em\">\n                <tspan>16</tspan>\n              </text>\n            </g>\n          </g>\n        </g>\n        <g transform=\"translate(21.961210910936405 0.0 ) \" clip-path=\"url(#cl1ujJw)\" clip-bounds-jfx=\"[rect (0.0, 0.0), (393.0387890890636, 320.0)]\">\n          <defs>\n            <clipPath id=\"cl1ujJw\">\n              <rect x=\"0.0\" y=\"0.0\" width=\"393.0387890890636\" height=\"320.0\">\n              </rect>\n            </clipPath>\n          </defs>\n          <rect x=\"14.831652418455228\" y=\"47.43083003952569\" height=\"156.83794466403162\" width=\"66.7424358830485\" stroke=\"rgb(238,102,102)\" stroke-opacity=\"1.0\" fill=\"rgb(238,102,102)\" fill-opacity=\"1.0\" stroke-width=\"1.6500000000000001\">\n          </rect>\n          <rect x=\"88.98991451073135\" y=\"189.0909090909091\" height=\"48.063241106719374\" width=\"66.74243588304853\" stroke=\"rgb(59,162,114)\" stroke-opacity=\"1.0\" fill=\"rgb(59,162,114)\" fill-opacity=\"1.0\" stroke-width=\"1.6500000000000001\">\n          </rect>\n          <rect x=\"163.1481766030075\" y=\"135.9683794466403\" height=\"48.063241106719346\" width=\"66.7424358830485\" stroke=\"rgb(59,162,114)\" stroke-opacity=\"1.0\" fill=\"rgb(59,162,114)\" fill-opacity=\"1.0\" stroke-width=\"1.6500000000000001\">\n          </rect>\n          <rect x=\"237.3064386952836\" y=\"123.32015810276681\" height=\"118.89328063241106\" width=\"66.74243588304853\" stroke=\"rgb(238,102,102)\" stroke-opacity=\"1.0\" fill=\"rgb(238,102,102)\" fill-opacity=\"1.0\" stroke-width=\"1.6500000000000001\">\n          </rect>\n          <rect x=\"311.46470078755976\" y=\"158.73517786561263\" height=\"146.71936758893287\" width=\"66.74243588304853\" stroke=\"rgb(59,162,114)\" stroke-opacity=\"1.0\" fill=\"rgb(59,162,114)\" fill-opacity=\"1.0\" stroke-width=\"1.6500000000000001\">\n          </rect>\n          <line x1=\"48.202870359979485\" y1=\"204.2687747035573\" x2=\"48.202870359979485\" y2=\"216.91699604743084\" stroke=\"rgb(238,102,102)\" stroke-opacity=\"1.0\" fill=\"rgb(238,102,102)\" fill-opacity=\"1.0\" stroke-width=\"1.6500000000000001\">\n          </line>\n          <line x1=\"48.202870359979485\" y1=\"216.91699604743084\" x2=\"48.202870359979485\" y2=\"216.91699604743084\" stroke=\"rgb(238,102,102)\" stroke-opacity=\"1.0\" fill=\"rgb(238,102,102)\" fill-opacity=\"1.0\" stroke-width=\"1.6500000000000001\">\n          </line>\n          <line x1=\"48.202870359979485\" y1=\"47.43083003952569\" x2=\"48.202870359979485\" y2=\"14.545454545454504\" stroke=\"rgb(238,102,102)\" stroke-opacity=\"1.0\" fill=\"rgb(238,102,102)\" fill-opacity=\"1.0\" stroke-width=\"1.6500000000000001\">\n          </line>\n          <line x1=\"48.202870359979485\" y1=\"14.545454545454504\" x2=\"48.202870359979485\" y2=\"14.545454545454504\" stroke=\"rgb(238,102,102)\" stroke-opacity=\"1.0\" fill=\"rgb(238,102,102)\" fill-opacity=\"1.0\" stroke-width=\"1.6500000000000001\">\n          </line>\n          <line x1=\"122.36113245225562\" y1=\"237.15415019762847\" x2=\"122.36113245225562\" y2=\"252.3320158102767\" stroke=\"rgb(59,162,114)\" stroke-opacity=\"1.0\" fill=\"rgb(59,162,114)\" fill-opacity=\"1.0\" stroke-width=\"1.6500000000000001\">\n          </line>\n          <line x1=\"122.36113245225562\" y1=\"252.3320158102767\" x2=\"122.36113245225562\" y2=\"252.3320158102767\" stroke=\"rgb(59,162,114)\" stroke-opacity=\"1.0\" fill=\"rgb(59,162,114)\" fill-opacity=\"1.0\" stroke-width=\"1.6500000000000001\">\n          </line>\n          <line x1=\"122.36113245225562\" y1=\"189.0909090909091\" x2=\"122.36113245225562\" y2=\"163.79446640316206\" stroke=\"rgb(59,162,114)\" stroke-opacity=\"1.0\" fill=\"rgb(59,162,114)\" fill-opacity=\"1.0\" stroke-width=\"1.6500000000000001\">\n          </line>\n          <line x1=\"122.36113245225562\" y1=\"163.79446640316206\" x2=\"122.36113245225562\" y2=\"163.79446640316206\" stroke=\"rgb(59,162,114)\" stroke-opacity=\"1.0\" fill=\"rgb(59,162,114)\" fill-opacity=\"1.0\" stroke-width=\"1.6500000000000001\">\n          </line>\n          <line x1=\"196.51939454453174\" y1=\"184.03162055335966\" x2=\"196.51939454453174\" y2=\"191.62055335968378\" stroke=\"rgb(59,162,114)\" stroke-opacity=\"1.0\" fill=\"rgb(59,162,114)\" fill-opacity=\"1.0\" stroke-width=\"1.6500000000000001\">\n          </line>\n          <line x1=\"196.51939454453174\" y1=\"191.62055335968378\" x2=\"196.51939454453174\" y2=\"191.62055335968378\" stroke=\"rgb(59,162,114)\" stroke-opacity=\"1.0\" fill=\"rgb(59,162,114)\" fill-opacity=\"1.0\" stroke-width=\"1.6500000000000001\">\n          </line>\n          <line x1=\"196.51939454453174\" y1=\"135.9683794466403\" x2=\"196.51939454453174\" y2=\"135.9683794466403\" stroke=\"rgb(59,162,114)\" stroke-opacity=\"1.0\" fill=\"rgb(59,162,114)\" fill-opacity=\"1.0\" stroke-width=\"1.6500000000000001\">\n          </line>\n          <line x1=\"196.51939454453174\" y1=\"135.9683794466403\" x2=\"196.51939454453174\" y2=\"135.9683794466403\" stroke=\"rgb(59,162,114)\" stroke-opacity=\"1.0\" fill=\"rgb(59,162,114)\" fill-opacity=\"1.0\" stroke-width=\"1.6500000000000001\">\n          </line>\n          <line x1=\"270.6776566368079\" y1=\"242.21343873517787\" x2=\"270.6776566368079\" y2=\"270.0395256916996\" stroke=\"rgb(238,102,102)\" stroke-opacity=\"1.0\" fill=\"rgb(238,102,102)\" fill-opacity=\"1.0\" stroke-width=\"1.6500000000000001\">\n          </line>\n          <line x1=\"270.6776566368079\" y1=\"270.0395256916996\" x2=\"270.6776566368079\" y2=\"270.0395256916996\" stroke=\"rgb(238,102,102)\" stroke-opacity=\"1.0\" fill=\"rgb(238,102,102)\" fill-opacity=\"1.0\" stroke-width=\"1.6500000000000001\">\n          </line>\n          <line x1=\"270.6776566368079\" y1=\"123.32015810276681\" x2=\"270.6776566368079\" y2=\"110.67193675889331\" stroke=\"rgb(238,102,102)\" stroke-opacity=\"1.0\" fill=\"rgb(238,102,102)\" fill-opacity=\"1.0\" stroke-width=\"1.6500000000000001\">\n          </line>\n          <line x1=\"270.6776566368079\" y1=\"110.67193675889331\" x2=\"270.6776566368079\" y2=\"110.67193675889331\" stroke=\"rgb(238,102,102)\" stroke-opacity=\"1.0\" fill=\"rgb(238,102,102)\" fill-opacity=\"1.0\" stroke-width=\"1.6500000000000001\">\n          </line>\n          <line x1=\"344.835918729084\" y1=\"305.4545454545455\" x2=\"344.835918729084\" y2=\"305.4545454545455\" stroke=\"rgb(59,162,114)\" stroke-opacity=\"1.0\" fill=\"rgb(59,162,114)\" fill-opacity=\"1.0\" stroke-width=\"1.6500000000000001\">\n          </line>\n          <line x1=\"344.835918729084\" y1=\"305.4545454545455\" x2=\"344.835918729084\" y2=\"305.4545454545455\" stroke=\"rgb(59,162,114)\" stroke-opacity=\"1.0\" fill=\"rgb(59,162,114)\" fill-opacity=\"1.0\" stroke-width=\"1.6500000000000001\">\n          </line>\n          <line x1=\"344.835918729084\" y1=\"158.73517786561263\" x2=\"344.835918729084\" y2=\"156.20553359683794\" stroke=\"rgb(59,162,114)\" stroke-opacity=\"1.0\" fill=\"rgb(59,162,114)\" fill-opacity=\"1.0\" stroke-width=\"1.6500000000000001\">\n          </line>\n          <line x1=\"344.835918729084\" y1=\"156.20553359683794\" x2=\"344.835918729084\" y2=\"156.20553359683794\" stroke=\"rgb(59,162,114)\" stroke-opacity=\"1.0\" fill=\"rgb(59,162,114)\" fill-opacity=\"1.0\" stroke-width=\"1.6500000000000001\">\n          </line>\n        </g>\n      </g>\n      <g transform=\"translate(44.9612109109364 15.2 ) \">\n        <text class=\"plot-title\" y=\"0.0\">\n          <tspan>`statCandlestick` + `boxes`</tspan>\n        </text>\n      </g>\n      <g transform=\"translate(14.5 194.0 ) rotate(-90.0 ) \">\n        <text class=\"axis-title-y\" y=\"0.0\" text-anchor=\"middle\">\n          <tspan>y</tspan>\n        </text>\n      </g>\n      <g transform=\"translate(241.4806054554682 391.5 ) \">\n        <text class=\"axis-title-x\" y=\"0.0\" text-anchor=\"middle\">\n          <tspan>x</tspan>\n        </text>\n      </g>\n      <path fill=\"rgb(0,0,0)\" fill-opacity=\"0.0\" stroke=\"rgb(71,71,71)\" stroke-opacity=\"1.0\" stroke-width=\"0.0\" d=\"M0.0 0.0 L0.0 400.0 L448.0 400.0 L448.0 0.0 Z\">\n      </path>\n    </g>\n    <g id=\"dL2XSXv\">\n    </g>\n  </svg>\n  <svg xmlns=\"http://www.w3.org/2000/svg\" xmlns:xlink=\"http://www.w3.org/1999/xlink\" class=\"plt-container\" width=\"448.0\" height=\"400.0\" x=\"452.0\" y=\"0.0\">\n    <style type=\"text/css\">\n    .plt-container {\n   font-family: Lucida Grande, sans-serif;\n   user-select: none;\n   -webkit-user-select: none;\n   -moz-user-select: none;\n   -ms-user-select: none;\n}\ntext {\n   text-rendering: optimizeLegibility;\n}\n#pfgqhxW .plot-title {\n   fill: #474747;\n   font-family: Lucida Grande, sans-serif;\n   font-size: 16.0px;\n   font-weight: normal;\n   font-style: normal;   \n}\n#pfgqhxW .plot-subtitle {\n   fill: #474747;\n   font-family: Lucida Grande, sans-serif;\n   font-size: 15.0px;\n   font-weight: normal;\n   font-style: normal;   \n}\n#pfgqhxW .plot-caption {\n   fill: #474747;\n   font-family: Lucida Grande, sans-serif;\n   font-size: 13.0px;\n   font-weight: normal;\n   font-style: normal;   \n}\n#pfgqhxW .legend-title {\n   fill: #474747;\n   font-family: Lucida Grande, sans-serif;\n   font-size: 15.0px;\n   font-weight: normal;\n   font-style: normal;   \n}\n#pfgqhxW .legend-item {\n   fill: #474747;\n   font-family: Lucida Grande, sans-serif;\n   font-size: 13.0px;\n   font-weight: normal;\n   font-style: normal;   \n}\n#pfgqhxW .axis-title-x {\n   fill: #474747;\n   font-family: Lucida Grande, sans-serif;\n   font-size: 15.0px;\n   font-weight: normal;\n   font-style: normal;   \n}\n#pfgqhxW .axis-text-x {\n   fill: #474747;\n   font-family: Lucida Grande, sans-serif;\n   font-size: 13.0px;\n   font-weight: normal;\n   font-style: normal;   \n}\n#dqcfOFH .axis-tooltip-text-x {\n   fill: #ffffff;\n   font-family: Lucida Grande, sans-serif;\n   font-size: 13.0px;\n   font-weight: normal;\n   font-style: normal;   \n}\n#pfgqhxW .axis-title-y {\n   fill: #474747;\n   font-family: Lucida Grande, sans-serif;\n   font-size: 15.0px;\n   font-weight: normal;\n   font-style: normal;   \n}\n#pfgqhxW .axis-text-y {\n   fill: #474747;\n   font-family: Lucida Grande, sans-serif;\n   font-size: 13.0px;\n   font-weight: normal;\n   font-style: normal;   \n}\n#dqcfOFH .axis-tooltip-text-y {\n   fill: #ffffff;\n   font-family: Lucida Grande, sans-serif;\n   font-size: 13.0px;\n   font-weight: normal;\n   font-style: normal;   \n}\n#pfgqhxW .facet-strip-text-x {\n   fill: #474747;\n   font-family: Lucida Grande, sans-serif;\n   font-size: 13.0px;\n   font-weight: normal;\n   font-style: normal;   \n}\n#pfgqhxW .facet-strip-text-y {\n   fill: #474747;\n   font-family: Lucida Grande, sans-serif;\n   font-size: 13.0px;\n   font-weight: normal;\n   font-style: normal;   \n}\n#dqcfOFH .tooltip-text {\n   fill: #474747;\n   font-family: Lucida Grande, sans-serif;\n   font-size: 13.0px;\n   font-weight: normal;\n   font-style: normal;   \n}\n#dqcfOFH .tooltip-title {\n   fill: #474747;\n   font-family: Lucida Grande, sans-serif;\n   font-size: 13.0px;\n   font-weight: bold;\n   font-style: normal;   \n}\n#dqcfOFH .tooltip-label {\n   fill: #474747;\n   font-family: Lucida Grande, sans-serif;\n   font-size: 13.0px;\n   font-weight: bold;\n   font-style: normal;   \n}\n\n    </style>\n    <g id=\"pfgqhxW\">\n      <path fill-rule=\"evenodd\" fill=\"rgb(255,255,255)\" fill-opacity=\"1.0\" d=\"M0.0 0.0 L0.0 400.0 L448.0 400.0 L448.0 0.0 Z\">\n      </path>\n      <g transform=\"translate(23.0 34.0 ) \">\n        <g transform=\"translate(21.961210910936405 0.0 ) \">\n          <line x1=\"48.202870359979485\" y1=\"320.0\" x2=\"48.202870359979485\" y2=\"0.0\" stroke=\"rgb(233,233,233)\" stroke-opacity=\"1.0\" stroke-width=\"1.0\" fill=\"none\">\n          </line>\n          <line x1=\"122.36113245225562\" y1=\"320.0\" x2=\"122.36113245225562\" y2=\"0.0\" stroke=\"rgb(233,233,233)\" stroke-opacity=\"1.0\" stroke-width=\"1.0\" fill=\"none\">\n          </line>\n          <line x1=\"196.51939454453174\" y1=\"320.0\" x2=\"196.51939454453174\" y2=\"0.0\" stroke=\"rgb(233,233,233)\" stroke-opacity=\"1.0\" stroke-width=\"1.0\" fill=\"none\">\n          </line>\n          <line x1=\"270.6776566368079\" y1=\"320.0\" x2=\"270.6776566368079\" y2=\"0.0\" stroke=\"rgb(233,233,233)\" stroke-opacity=\"1.0\" stroke-width=\"1.0\" fill=\"none\">\n          </line>\n          <line x1=\"344.835918729084\" y1=\"320.0\" x2=\"344.835918729084\" y2=\"0.0\" stroke=\"rgb(233,233,233)\" stroke-opacity=\"1.0\" stroke-width=\"1.0\" fill=\"none\">\n          </line>\n        </g>\n        <g transform=\"translate(21.961210910936405 320.0 ) \">\n          <g transform=\"translate(48.202870359979485 0.0 ) \">\n            <line stroke-width=\"1.0\" stroke=\"rgb(71,71,71)\" stroke-opacity=\"1.0\" x2=\"0.0\" y2=\"4.0\">\n            </line>\n            <g transform=\"translate(0.0 7.0 ) \">\n              <text class=\"axis-text-x\" text-anchor=\"middle\" dy=\"0.7em\">\n                <tspan>Jan</tspan>\n              </text>\n            </g>\n          </g>\n          <g transform=\"translate(122.36113245225562 0.0 ) \">\n            <line stroke-width=\"1.0\" stroke=\"rgb(71,71,71)\" stroke-opacity=\"1.0\" x2=\"0.0\" y2=\"4.0\">\n            </line>\n            <g transform=\"translate(0.0 7.0 ) \">\n              <text class=\"axis-text-x\" text-anchor=\"middle\" dy=\"0.7em\">\n                <tspan>Feb</tspan>\n              </text>\n            </g>\n          </g>\n          <g transform=\"translate(196.51939454453174 0.0 ) \">\n            <line stroke-width=\"1.0\" stroke=\"rgb(71,71,71)\" stroke-opacity=\"1.0\" x2=\"0.0\" y2=\"4.0\">\n            </line>\n            <g transform=\"translate(0.0 7.0 ) \">\n              <text class=\"axis-text-x\" text-anchor=\"middle\" dy=\"0.7em\">\n                <tspan>Mar</tspan>\n              </text>\n            </g>\n          </g>\n          <g transform=\"translate(270.6776566368079 0.0 ) \">\n            <line stroke-width=\"1.0\" stroke=\"rgb(71,71,71)\" stroke-opacity=\"1.0\" x2=\"0.0\" y2=\"4.0\">\n            </line>\n            <g transform=\"translate(0.0 7.0 ) \">\n              <text class=\"axis-text-x\" text-anchor=\"middle\" dy=\"0.7em\">\n                <tspan>Apr</tspan>\n              </text>\n            </g>\n          </g>\n          <g transform=\"translate(344.835918729084 0.0 ) \">\n            <line stroke-width=\"1.0\" stroke=\"rgb(71,71,71)\" stroke-opacity=\"1.0\" x2=\"0.0\" y2=\"4.0\">\n            </line>\n            <g transform=\"translate(0.0 7.0 ) \">\n              <text class=\"axis-text-x\" text-anchor=\"middle\" dy=\"0.7em\">\n                <tspan>May</tspan>\n              </text>\n            </g>\n          </g>\n          <line x1=\"0.0\" y1=\"0.0\" x2=\"393.0387890890636\" y2=\"0.0\" stroke-width=\"1.0\" stroke=\"rgb(71,71,71)\" stroke-opacity=\"1.0\">\n          </line>\n        </g>\n        <g transform=\"translate(21.961210910936405 0.0 ) \">\n          <line x1=\"0.0\" y1=\"305.4545454545455\" x2=\"393.0387890890635\" y2=\"305.4545454545455\" stroke=\"rgb(233,233,233)\" stroke-opacity=\"1.0\" stroke-width=\"1.0\" fill=\"none\">\n          </line>\n          <line x1=\"0.0\" y1=\"254.86166007905138\" x2=\"393.0387890890635\" y2=\"254.86166007905138\" stroke=\"rgb(233,233,233)\" stroke-opacity=\"1.0\" stroke-width=\"1.0\" fill=\"none\">\n          </line>\n          <line x1=\"0.0\" y1=\"204.2687747035573\" x2=\"393.0387890890635\" y2=\"204.2687747035573\" stroke=\"rgb(233,233,233)\" stroke-opacity=\"1.0\" stroke-width=\"1.0\" fill=\"none\">\n          </line>\n          <line x1=\"0.0\" y1=\"153.67588932806325\" x2=\"393.0387890890635\" y2=\"153.67588932806325\" stroke=\"rgb(233,233,233)\" stroke-opacity=\"1.0\" stroke-width=\"1.0\" fill=\"none\">\n          </line>\n          <line x1=\"0.0\" y1=\"103.08300395256913\" x2=\"393.0387890890635\" y2=\"103.08300395256913\" stroke=\"rgb(233,233,233)\" stroke-opacity=\"1.0\" stroke-width=\"1.0\" fill=\"none\">\n          </line>\n          <line x1=\"0.0\" y1=\"52.490118577075066\" x2=\"393.0387890890635\" y2=\"52.490118577075066\" stroke=\"rgb(233,233,233)\" stroke-opacity=\"1.0\" stroke-width=\"1.0\" fill=\"none\">\n          </line>\n        </g>\n        <g transform=\"translate(21.961210910936405 0.0 ) \">\n          <g transform=\"translate(0.0 305.4545454545455 ) \">\n            <g transform=\"translate(-3.0 0.0 ) \">\n              <text class=\"axis-text-y\" text-anchor=\"end\" dy=\"0.35em\">\n                <tspan>4</tspan>\n              </text>\n            </g>\n          </g>\n          <g transform=\"translate(0.0 254.86166007905138 ) \">\n            <g transform=\"translate(-3.0 0.0 ) \">\n              <text class=\"axis-text-y\" text-anchor=\"end\" dy=\"0.35em\">\n                <tspan>6</tspan>\n              </text>\n            </g>\n          </g>\n          <g transform=\"translate(0.0 204.2687747035573 ) \">\n            <g transform=\"translate(-3.0 0.0 ) \">\n              <text class=\"axis-text-y\" text-anchor=\"end\" dy=\"0.35em\">\n                <tspan>8</tspan>\n              </text>\n            </g>\n          </g>\n          <g transform=\"translate(0.0 153.67588932806325 ) \">\n            <g transform=\"translate(-3.0 0.0 ) \">\n              <text class=\"axis-text-y\" text-anchor=\"end\" dy=\"0.35em\">\n                <tspan>10</tspan>\n              </text>\n            </g>\n          </g>\n          <g transform=\"translate(0.0 103.08300395256913 ) \">\n            <g transform=\"translate(-3.0 0.0 ) \">\n              <text class=\"axis-text-y\" text-anchor=\"end\" dy=\"0.35em\">\n                <tspan>12</tspan>\n              </text>\n            </g>\n          </g>\n          <g transform=\"translate(0.0 52.490118577075066 ) \">\n            <g transform=\"translate(-3.0 0.0 ) \">\n              <text class=\"axis-text-y\" text-anchor=\"end\" dy=\"0.35em\">\n                <tspan>14</tspan>\n              </text>\n            </g>\n          </g>\n          <g transform=\"translate(0.0 1.8972332015810025 ) \">\n            <g transform=\"translate(-3.0 0.0 ) \">\n              <text class=\"axis-text-y\" text-anchor=\"end\" dy=\"0.35em\">\n                <tspan>16</tspan>\n              </text>\n            </g>\n          </g>\n        </g>\n        <g transform=\"translate(21.961210910936405 0.0 ) \" clip-path=\"url(#cxZNfBD)\" clip-bounds-jfx=\"[rect (0.0, 0.0), (393.0387890890636, 320.0)]\">\n          <defs>\n            <clipPath id=\"cxZNfBD\">\n              <rect x=\"0.0\" y=\"0.0\" width=\"393.0387890890636\" height=\"320.0\">\n              </rect>\n            </clipPath>\n          </defs>\n          <rect x=\"14.831652418455228\" y=\"47.43083003952569\" height=\"156.83794466403162\" width=\"66.7424358830485\" stroke=\"rgb(238,102,102)\" stroke-opacity=\"1.0\" fill=\"rgb(238,102,102)\" fill-opacity=\"1.0\" stroke-width=\"1.32\">\n          </rect>\n          <rect x=\"88.98991451073135\" y=\"189.0909090909091\" height=\"48.063241106719374\" width=\"66.74243588304853\" stroke=\"rgb(59,162,114)\" stroke-opacity=\"1.0\" fill=\"rgb(59,162,114)\" fill-opacity=\"1.0\" stroke-width=\"1.32\">\n          </rect>\n          <rect x=\"163.1481766030075\" y=\"135.9683794466403\" height=\"48.063241106719346\" width=\"66.7424358830485\" stroke=\"rgb(59,162,114)\" stroke-opacity=\"1.0\" fill=\"rgb(59,162,114)\" fill-opacity=\"1.0\" stroke-width=\"1.32\">\n          </rect>\n          <rect x=\"237.3064386952836\" y=\"123.32015810276681\" height=\"118.89328063241106\" width=\"66.74243588304853\" stroke=\"rgb(238,102,102)\" stroke-opacity=\"1.0\" fill=\"rgb(238,102,102)\" fill-opacity=\"1.0\" stroke-width=\"1.32\">\n          </rect>\n          <rect x=\"311.46470078755976\" y=\"158.73517786561263\" height=\"146.71936758893287\" width=\"66.74243588304853\" stroke=\"rgb(59,162,114)\" stroke-opacity=\"1.0\" fill=\"rgb(59,162,114)\" fill-opacity=\"1.0\" stroke-width=\"1.32\">\n          </rect>\n          <line x1=\"48.202870359979485\" y1=\"204.2687747035573\" x2=\"48.202870359979485\" y2=\"216.91699604743084\" stroke=\"rgb(238,102,102)\" stroke-opacity=\"1.0\" fill=\"rgb(238,102,102)\" fill-opacity=\"1.0\" stroke-width=\"1.32\">\n          </line>\n          <line x1=\"48.202870359979485\" y1=\"216.91699604743084\" x2=\"48.202870359979485\" y2=\"216.91699604743084\" stroke=\"rgb(238,102,102)\" stroke-opacity=\"1.0\" fill=\"rgb(238,102,102)\" fill-opacity=\"1.0\" stroke-width=\"1.32\">\n          </line>\n          <line x1=\"48.202870359979485\" y1=\"47.43083003952569\" x2=\"48.202870359979485\" y2=\"14.545454545454504\" stroke=\"rgb(238,102,102)\" stroke-opacity=\"1.0\" fill=\"rgb(238,102,102)\" fill-opacity=\"1.0\" stroke-width=\"1.32\">\n          </line>\n          <line x1=\"48.202870359979485\" y1=\"14.545454545454504\" x2=\"48.202870359979485\" y2=\"14.545454545454504\" stroke=\"rgb(238,102,102)\" stroke-opacity=\"1.0\" fill=\"rgb(238,102,102)\" fill-opacity=\"1.0\" stroke-width=\"1.32\">\n          </line>\n          <line x1=\"122.36113245225562\" y1=\"237.15415019762847\" x2=\"122.36113245225562\" y2=\"252.3320158102767\" stroke=\"rgb(59,162,114)\" stroke-opacity=\"1.0\" fill=\"rgb(59,162,114)\" fill-opacity=\"1.0\" stroke-width=\"1.32\">\n          </line>\n          <line x1=\"122.36113245225562\" y1=\"252.3320158102767\" x2=\"122.36113245225562\" y2=\"252.3320158102767\" stroke=\"rgb(59,162,114)\" stroke-opacity=\"1.0\" fill=\"rgb(59,162,114)\" fill-opacity=\"1.0\" stroke-width=\"1.32\">\n          </line>\n          <line x1=\"122.36113245225562\" y1=\"189.0909090909091\" x2=\"122.36113245225562\" y2=\"163.79446640316206\" stroke=\"rgb(59,162,114)\" stroke-opacity=\"1.0\" fill=\"rgb(59,162,114)\" fill-opacity=\"1.0\" stroke-width=\"1.32\">\n          </line>\n          <line x1=\"122.36113245225562\" y1=\"163.79446640316206\" x2=\"122.36113245225562\" y2=\"163.79446640316206\" stroke=\"rgb(59,162,114)\" stroke-opacity=\"1.0\" fill=\"rgb(59,162,114)\" fill-opacity=\"1.0\" stroke-width=\"1.32\">\n          </line>\n          <line x1=\"196.51939454453174\" y1=\"184.03162055335966\" x2=\"196.51939454453174\" y2=\"191.62055335968378\" stroke=\"rgb(59,162,114)\" stroke-opacity=\"1.0\" fill=\"rgb(59,162,114)\" fill-opacity=\"1.0\" stroke-width=\"1.32\">\n          </line>\n          <line x1=\"196.51939454453174\" y1=\"191.62055335968378\" x2=\"196.51939454453174\" y2=\"191.62055335968378\" stroke=\"rgb(59,162,114)\" stroke-opacity=\"1.0\" fill=\"rgb(59,162,114)\" fill-opacity=\"1.0\" stroke-width=\"1.32\">\n          </line>\n          <line x1=\"196.51939454453174\" y1=\"135.9683794466403\" x2=\"196.51939454453174\" y2=\"135.9683794466403\" stroke=\"rgb(59,162,114)\" stroke-opacity=\"1.0\" fill=\"rgb(59,162,114)\" fill-opacity=\"1.0\" stroke-width=\"1.32\">\n          </line>\n          <line x1=\"196.51939454453174\" y1=\"135.9683794466403\" x2=\"196.51939454453174\" y2=\"135.9683794466403\" stroke=\"rgb(59,162,114)\" stroke-opacity=\"1.0\" fill=\"rgb(59,162,114)\" fill-opacity=\"1.0\" stroke-width=\"1.32\">\n          </line>\n          <line x1=\"270.6776566368079\" y1=\"242.21343873517787\" x2=\"270.6776566368079\" y2=\"270.0395256916996\" stroke=\"rgb(238,102,102)\" stroke-opacity=\"1.0\" fill=\"rgb(238,102,102)\" fill-opacity=\"1.0\" stroke-width=\"1.32\">\n          </line>\n          <line x1=\"270.6776566368079\" y1=\"270.0395256916996\" x2=\"270.6776566368079\" y2=\"270.0395256916996\" stroke=\"rgb(238,102,102)\" stroke-opacity=\"1.0\" fill=\"rgb(238,102,102)\" fill-opacity=\"1.0\" stroke-width=\"1.32\">\n          </line>\n          <line x1=\"270.6776566368079\" y1=\"123.32015810276681\" x2=\"270.6776566368079\" y2=\"110.67193675889331\" stroke=\"rgb(238,102,102)\" stroke-opacity=\"1.0\" fill=\"rgb(238,102,102)\" fill-opacity=\"1.0\" stroke-width=\"1.32\">\n          </line>\n          <line x1=\"270.6776566368079\" y1=\"110.67193675889331\" x2=\"270.6776566368079\" y2=\"110.67193675889331\" stroke=\"rgb(238,102,102)\" stroke-opacity=\"1.0\" fill=\"rgb(238,102,102)\" fill-opacity=\"1.0\" stroke-width=\"1.32\">\n          </line>\n          <line x1=\"344.835918729084\" y1=\"305.4545454545455\" x2=\"344.835918729084\" y2=\"305.4545454545455\" stroke=\"rgb(59,162,114)\" stroke-opacity=\"1.0\" fill=\"rgb(59,162,114)\" fill-opacity=\"1.0\" stroke-width=\"1.32\">\n          </line>\n          <line x1=\"344.835918729084\" y1=\"305.4545454545455\" x2=\"344.835918729084\" y2=\"305.4545454545455\" stroke=\"rgb(59,162,114)\" stroke-opacity=\"1.0\" fill=\"rgb(59,162,114)\" fill-opacity=\"1.0\" stroke-width=\"1.32\">\n          </line>\n          <line x1=\"344.835918729084\" y1=\"158.73517786561263\" x2=\"344.835918729084\" y2=\"156.20553359683794\" stroke=\"rgb(59,162,114)\" stroke-opacity=\"1.0\" fill=\"rgb(59,162,114)\" fill-opacity=\"1.0\" stroke-width=\"1.32\">\n          </line>\n          <line x1=\"344.835918729084\" y1=\"156.20553359683794\" x2=\"344.835918729084\" y2=\"156.20553359683794\" stroke=\"rgb(59,162,114)\" stroke-opacity=\"1.0\" fill=\"rgb(59,162,114)\" fill-opacity=\"1.0\" stroke-width=\"1.32\">\n          </line>\n        </g>\n      </g>\n      <g transform=\"translate(44.9612109109364 15.2 ) \">\n        <text class=\"plot-title\" y=\"0.0\">\n          <tspan>`candlestick`</tspan>\n        </text>\n      </g>\n      <g transform=\"translate(14.5 194.0 ) rotate(-90.0 ) \">\n        <text class=\"axis-title-y\" y=\"0.0\" text-anchor=\"middle\">\n          <tspan></tspan>\n        </text>\n      </g>\n      <g transform=\"translate(241.4806054554682 391.5 ) \">\n        <text class=\"axis-title-x\" y=\"0.0\" text-anchor=\"middle\">\n          <tspan>x</tspan>\n        </text>\n      </g>\n      <path fill=\"rgb(0,0,0)\" fill-opacity=\"0.0\" stroke=\"rgb(71,71,71)\" stroke-opacity=\"1.0\" stroke-width=\"0.0\" d=\"M0.0 0.0 L0.0 400.0 L448.0 400.0 L448.0 0.0 Z\">\n      </path>\n    </g>\n    <g id=\"dqcfOFH\">\n    </g>\n  </svg>\n</svg>\n        <script>document.getElementById(\"2631397a-ef44-490a-811d-04bf6d3175e6\").style.display = \"none\";</script>",
      "application/plot+json": {
       "output_type": "lets_plot_spec",
       "output": {
        "kind": "subplots",
        "figures": [
         {
          "ggtitle": {
           "text": "`statCandlestick` + `boxes`"
          },
          "mapping": {},
          "data": {},
          "kind": "plot",
          "scales": [
           {
            "aesthetic": "x",
            "discrete": true
           },
           {
            "aesthetic": "fill",
            "values": [
             "#3ba272",
             "#ee6666"
            ],
            "limits": [
             true,
             false
            ],
            "guide": "none"
           },
           {
            "aesthetic": "color",
            "values": [
             "#3ba272",
             "#ee6666"
            ],
            "limits": [
             true,
             false
            ],
            "guide": "none"
           }
          ],
          "layers": [
           {
            "mapping": {
             "x": "x",
             "ymin": "min",
             "lower": "lower",
             "upper": "upper",
             "ymax": "max",
             "middle": "middle",
             "fill": "isIncreased",
             "color": "isIncreased"
            },
            "stat": "identity",
            "data": {
             "min": [
              7.5,
              6.1,
              8.5,
              5.4,
              4.0
             ],
             "middle": [
              null,
              null,
              null,
              null,
              null
             ],
             "max": [
              15.5,
              9.6,
              10.7,
              11.7,
              9.9
             ],
             "isIncreased": [
              false,
              true,
              true,
              false,
              true
             ],
             "lower": [
              8.0,
              6.7,
              8.8,
              6.5,
              4.0
             ],
             "upper": [
              14.2,
              8.6,
              10.7,
              11.2,
              9.8
             ],
             "x": [
              "Jan",
              "Feb",
              "Mar",
              "Apr",
              "May"
             ]
            },
            "whisker_width": 0.0,
            "sampling": "none",
            "position": "dodge",
            "geom": "boxplot"
           }
          ]
         },
         {
          "ggtitle": {
           "text": "`candlestick`"
          },
          "mapping": {},
          "data": {},
          "kind": "plot",
          "scales": [
           {
            "aesthetic": "x",
            "name": "x",
            "limits": [
             null,
             null
            ]
           },
           {
            "aesthetic": "y",
            "name": "",
            "limits": [
             null,
             null
            ]
           },
           {
            "aesthetic": "x",
            "discrete": true
           },
           {
            "aesthetic": "fill",
            "values": [
             "#3ba272",
             "#ee6666"
            ],
            "limits": [
             true,
             false
            ],
            "guide": "none"
           },
           {
            "aesthetic": "color",
            "values": [
             "#3ba272",
             "#ee6666"
            ],
            "limits": [
             true,
             false
            ],
            "guide": "none"
           },
           {
            "aesthetic": "linetype",
            "values": [
             1.0,
             1.0
            ],
            "limits": [
             true,
             false
            ],
            "guide": "none"
           },
           {
            "aesthetic": "size",
            "values": [
             0.6,
             0.6
            ],
            "limits": [
             true,
             false
            ],
            "guide": "none"
           },
           {
            "aesthetic": "alpha",
            "values": [
             1.0,
             1.0
            ],
            "limits": [
             true,
             false
            ],
            "guide": "none"
           }
          ],
          "layers": [
           {
            "mapping": {
             "x": "x",
             "ymin": "min",
             "lower": "lower",
             "middle": "middle",
             "upper": "upper",
             "ymax": "max",
             "fill": "isIncreased",
             "color": "isIncreased",
             "linetype": "isIncreased",
             "size": "isIncreased",
             "alpha": "isIncreased"
            },
            "stat": "identity",
            "data": {
             "min": [
              7.5,
              6.1,
              8.5,
              5.4,
              4.0
             ],
             "middle": [
              null,
              null,
              null,
              null,
              null
             ],
             "max": [
              15.5,
              9.6,
              10.7,
              11.7,
              9.9
             ],
             "isIncreased": [
              false,
              true,
              true,
              false,
              true
             ],
             "lower": [
              8.0,
              6.7,
              8.8,
              6.5,
              4.0
             ],
             "upper": [
              14.2,
              8.6,
              10.7,
              11.2,
              9.8
             ],
             "x": [
              "Jan",
              "Feb",
              "Mar",
              "Apr",
              "May"
             ],
             "close": [
              8.0,
              8.6,
              10.7,
              6.5,
              9.8
             ],
             "open": [
              14.2,
              6.7,
              8.8,
              11.2,
              4.0
             ]
            },
            "whisker_width": 0.0,
            "sampling": "none",
            "position": "identity",
            "geom": "boxplot",
            "tooltips": {
             "formats": [
              {
               "field": "open",
               "format": ".2f"
              },
              {
               "field": "max",
               "format": ".2f"
              },
              {
               "field": "min",
               "format": ".2f"
              },
              {
               "field": "close",
               "format": ".2f"
              }
             ],
             "title": "@x",
             "lines": [
              "open|@open",
              "high|@max",
              "low|@min",
              "close|@close"
             ],
             "disable_splitting": true
            }
           }
          ]
         }
        ],
        "layout": {
         "name": "grid",
         "ncol": 2,
         "nrow": 1,
         "fit": true,
         "align": false
        }
       },
       "apply_color_scheme": true,
       "swing_enabled": true
      }
     },
     "execution_count": 7,
     "metadata": {},
     "output_type": "execute_result"
    }
   ],
   "source": [
    "plotGrid(listOf(statCandlestickBoxesPlot, candlestickPlot))"
   ],
   "metadata": {
    "collapsed": false,
    "ExecuteTime": {
     "end_time": "2024-02-22T11:05:40.160842Z",
     "start_time": "2024-02-22T11:05:40.010468Z"
    }
   }
  },
  {
   "cell_type": "markdown",
   "source": [
    "These two plots are almost identical (the only difference in tooltips).\n",
    "Indeed, `candlestick` just uses `statCandlestick` and `boxes` and performs aesthetic mappings under the hood."
   ],
   "metadata": {
    "collapsed": false
   }
  },
  {
   "cell_type": "markdown",
   "source": [
    "### `candlestick` customization"
   ],
   "metadata": {
    "collapsed": false
   }
  },
  {
   "cell_type": "markdown",
   "source": [
    "We can customize candlestick layer: `candlestick()` optionally opens a new context,\n",
    "where we can configure it. We can set different color, borderline color, etc. for candles with increasing and decreasing value, or make general settings (as in the usual context opened by `boxes { ... }`):"
   ],
   "metadata": {
    "collapsed": false
   }
  },
  {
   "cell_type": "code",
   "execution_count": 8,
   "outputs": [
    {
     "data": {
      "text/html": "            <iframe src='about:blank' style='border:none !important;' width='600' height='400' srcdoc=\"&lt;html lang=&quot;en&quot;>\n   &lt;head>\n       &lt;meta charset=&quot;UTF-8&quot;>\n       &lt;style> html, body { margin: 0; overflow: hidden; } &lt;/style>\n       &lt;script type=&quot;text/javascript&quot; data-lets-plot-script=&quot;library&quot; src=&quot;https://cdn.jsdelivr.net/gh/JetBrains/lets-plot@v4.2.0/js-package/distr/lets-plot.min.js&quot;>&lt;/script>\n   &lt;/head>\n   &lt;body>\n          &lt;div id=&quot;4ztnvY&quot;>&lt;/div>\n   &lt;script type=&quot;text/javascript&quot; data-lets-plot-script=&quot;plot&quot;>\n       var plotSpec={\n&quot;mapping&quot;:{\n},\n&quot;data&quot;:{\n},\n&quot;kind&quot;:&quot;plot&quot;,\n&quot;scales&quot;:[{\n&quot;aesthetic&quot;:&quot;x&quot;,\n&quot;name&quot;:&quot;x&quot;,\n&quot;limits&quot;:[null,null]\n},{\n&quot;aesthetic&quot;:&quot;y&quot;,\n&quot;name&quot;:&quot;&quot;,\n&quot;limits&quot;:[null,null]\n},{\n&quot;aesthetic&quot;:&quot;x&quot;,\n&quot;discrete&quot;:true\n},{\n&quot;aesthetic&quot;:&quot;fill&quot;,\n&quot;values&quot;:[&quot;#00FFFF&quot;,&quot;#FF0000&quot;],\n&quot;limits&quot;:[true,false],\n&quot;guide&quot;:&quot;none&quot;\n},{\n&quot;aesthetic&quot;:&quot;color&quot;,\n&quot;values&quot;:[&quot;#3ba272&quot;,&quot;#ee6666&quot;],\n&quot;limits&quot;:[true,false],\n&quot;guide&quot;:&quot;none&quot;\n},{\n&quot;aesthetic&quot;:&quot;linetype&quot;,\n&quot;values&quot;:[1.0,1.0],\n&quot;limits&quot;:[true,false],\n&quot;guide&quot;:&quot;none&quot;\n},{\n&quot;aesthetic&quot;:&quot;size&quot;,\n&quot;values&quot;:[0.6,0.6],\n&quot;limits&quot;:[true,false],\n&quot;guide&quot;:&quot;none&quot;\n},{\n&quot;aesthetic&quot;:&quot;alpha&quot;,\n&quot;values&quot;:[1.0,1.0],\n&quot;limits&quot;:[true,false],\n&quot;guide&quot;:&quot;none&quot;\n}],\n&quot;layers&quot;:[{\n&quot;mapping&quot;:{\n&quot;x&quot;:&quot;x&quot;,\n&quot;ymin&quot;:&quot;min&quot;,\n&quot;lower&quot;:&quot;lower&quot;,\n&quot;middle&quot;:&quot;middle&quot;,\n&quot;upper&quot;:&quot;upper&quot;,\n&quot;ymax&quot;:&quot;max&quot;,\n&quot;fill&quot;:&quot;isIncreased&quot;,\n&quot;color&quot;:&quot;isIncreased&quot;,\n&quot;linetype&quot;:&quot;isIncreased&quot;,\n&quot;size&quot;:&quot;isIncreased&quot;,\n&quot;alpha&quot;:&quot;isIncreased&quot;\n},\n&quot;stat&quot;:&quot;identity&quot;,\n&quot;data&quot;:{\n&quot;min&quot;:[7.5,6.1,8.5,5.4,4.0],\n&quot;middle&quot;:[null,null,null,null,null],\n&quot;max&quot;:[15.5,9.6,10.7,11.7,9.9],\n&quot;isIncreased&quot;:[false,true,true,false,true],\n&quot;upper&quot;:[14.2,8.6,10.7,11.2,9.8],\n&quot;lower&quot;:[8.0,6.7,8.8,6.5,4.0],\n&quot;x&quot;:[&quot;Jan&quot;,&quot;Feb&quot;,&quot;Mar&quot;,&quot;Apr&quot;,&quot;May&quot;],\n&quot;close&quot;:[8.0,8.6,10.7,6.5,9.8],\n&quot;open&quot;:[14.2,6.7,8.8,11.2,4.0]\n},\n&quot;whisker_width&quot;:0.0,\n&quot;color&quot;:&quot;#a39999&quot;,\n&quot;sampling&quot;:&quot;none&quot;,\n&quot;position&quot;:&quot;identity&quot;,\n&quot;geom&quot;:&quot;boxplot&quot;,\n&quot;tooltips&quot;:{\n&quot;formats&quot;:[{\n&quot;field&quot;:&quot;open&quot;,\n&quot;format&quot;:&quot;.2f&quot;\n},{\n&quot;field&quot;:&quot;max&quot;,\n&quot;format&quot;:&quot;.2f&quot;\n},{\n&quot;field&quot;:&quot;min&quot;,\n&quot;format&quot;:&quot;.2f&quot;\n},{\n&quot;field&quot;:&quot;close&quot;,\n&quot;format&quot;:&quot;.2f&quot;\n}],\n&quot;title&quot;:&quot;@x&quot;,\n&quot;lines&quot;:[&quot;open|@open&quot;,&quot;high|@max&quot;,&quot;low|@min&quot;,&quot;close|@close&quot;],\n&quot;disable_splitting&quot;:true\n}\n}]\n};\n       var plotContainer = document.getElementById(&quot;4ztnvY&quot;);\n       LetsPlot.buildPlotFromProcessedSpecs(plotSpec, -1, -1, plotContainer);\n   &lt;/script>\n   &lt;/body>\n&lt;/html>\"></iframe>            <svg xmlns=\"http://www.w3.org/2000/svg\" xmlns:xlink=\"http://www.w3.org/1999/xlink\" class=\"plt-container\" id=d478acaf-970c-4ff9-8be7-3b02e429c8cc width=\"100%\" height=\"100%\" style=\"max-width: 600.0px; max-height: 400.0px;\" viewBox=\"0 0 600.0 400.0\" preserveAspectRatio=\"xMinYMin meet\">\n  <style type=\"text/css\">\n  .plt-container {\n   font-family: Lucida Grande, sans-serif;\n   user-select: none;\n   -webkit-user-select: none;\n   -moz-user-select: none;\n   -ms-user-select: none;\n}\ntext {\n   text-rendering: optimizeLegibility;\n}\n#p0q2JYA .plot-title {\n   fill: #474747;\n   font-family: Lucida Grande, sans-serif;\n   font-size: 16.0px;\n   font-weight: normal;\n   font-style: normal;   \n}\n#p0q2JYA .plot-subtitle {\n   fill: #474747;\n   font-family: Lucida Grande, sans-serif;\n   font-size: 15.0px;\n   font-weight: normal;\n   font-style: normal;   \n}\n#p0q2JYA .plot-caption {\n   fill: #474747;\n   font-family: Lucida Grande, sans-serif;\n   font-size: 13.0px;\n   font-weight: normal;\n   font-style: normal;   \n}\n#p0q2JYA .legend-title {\n   fill: #474747;\n   font-family: Lucida Grande, sans-serif;\n   font-size: 15.0px;\n   font-weight: normal;\n   font-style: normal;   \n}\n#p0q2JYA .legend-item {\n   fill: #474747;\n   font-family: Lucida Grande, sans-serif;\n   font-size: 13.0px;\n   font-weight: normal;\n   font-style: normal;   \n}\n#p0q2JYA .axis-title-x {\n   fill: #474747;\n   font-family: Lucida Grande, sans-serif;\n   font-size: 15.0px;\n   font-weight: normal;\n   font-style: normal;   \n}\n#p0q2JYA .axis-text-x {\n   fill: #474747;\n   font-family: Lucida Grande, sans-serif;\n   font-size: 13.0px;\n   font-weight: normal;\n   font-style: normal;   \n}\n#dOfKGGP .axis-tooltip-text-x {\n   fill: #ffffff;\n   font-family: Lucida Grande, sans-serif;\n   font-size: 13.0px;\n   font-weight: normal;\n   font-style: normal;   \n}\n#p0q2JYA .axis-title-y {\n   fill: #474747;\n   font-family: Lucida Grande, sans-serif;\n   font-size: 15.0px;\n   font-weight: normal;\n   font-style: normal;   \n}\n#p0q2JYA .axis-text-y {\n   fill: #474747;\n   font-family: Lucida Grande, sans-serif;\n   font-size: 13.0px;\n   font-weight: normal;\n   font-style: normal;   \n}\n#dOfKGGP .axis-tooltip-text-y {\n   fill: #ffffff;\n   font-family: Lucida Grande, sans-serif;\n   font-size: 13.0px;\n   font-weight: normal;\n   font-style: normal;   \n}\n#p0q2JYA .facet-strip-text-x {\n   fill: #474747;\n   font-family: Lucida Grande, sans-serif;\n   font-size: 13.0px;\n   font-weight: normal;\n   font-style: normal;   \n}\n#p0q2JYA .facet-strip-text-y {\n   fill: #474747;\n   font-family: Lucida Grande, sans-serif;\n   font-size: 13.0px;\n   font-weight: normal;\n   font-style: normal;   \n}\n#dOfKGGP .tooltip-text {\n   fill: #474747;\n   font-family: Lucida Grande, sans-serif;\n   font-size: 13.0px;\n   font-weight: normal;\n   font-style: normal;   \n}\n#dOfKGGP .tooltip-title {\n   fill: #474747;\n   font-family: Lucida Grande, sans-serif;\n   font-size: 13.0px;\n   font-weight: bold;\n   font-style: normal;   \n}\n#dOfKGGP .tooltip-label {\n   fill: #474747;\n   font-family: Lucida Grande, sans-serif;\n   font-size: 13.0px;\n   font-weight: bold;\n   font-style: normal;   \n}\n\n  </style>\n  <g id=\"p0q2JYA\">\n    <path fill-rule=\"evenodd\" fill=\"rgb(255,255,255)\" fill-opacity=\"1.0\" d=\"M0.0 0.0 L0.0 400.0 L600.0 400.0 L600.0 0.0 Z\">\n    </path>\n    <g transform=\"translate(23.0 10.0 ) \">\n      <g transform=\"translate(21.961210910936405 0.0 ) \">\n        <line x1=\"66.84437979394175\" y1=\"344.0\" x2=\"66.84437979394175\" y2=\"0.0\" stroke=\"rgb(233,233,233)\" stroke-opacity=\"1.0\" stroke-width=\"1.0\" fill=\"none\">\n        </line>\n        <line x1=\"169.68188716923675\" y1=\"344.0\" x2=\"169.68188716923675\" y2=\"0.0\" stroke=\"rgb(233,233,233)\" stroke-opacity=\"1.0\" stroke-width=\"1.0\" fill=\"none\">\n        </line>\n        <line x1=\"272.5193945445318\" y1=\"344.0\" x2=\"272.5193945445318\" y2=\"0.0\" stroke=\"rgb(233,233,233)\" stroke-opacity=\"1.0\" stroke-width=\"1.0\" fill=\"none\">\n        </line>\n        <line x1=\"375.3569019198268\" y1=\"344.0\" x2=\"375.3569019198268\" y2=\"0.0\" stroke=\"rgb(233,233,233)\" stroke-opacity=\"1.0\" stroke-width=\"1.0\" fill=\"none\">\n        </line>\n        <line x1=\"478.1944092951218\" y1=\"344.0\" x2=\"478.1944092951218\" y2=\"0.0\" stroke=\"rgb(233,233,233)\" stroke-opacity=\"1.0\" stroke-width=\"1.0\" fill=\"none\">\n        </line>\n      </g>\n      <g transform=\"translate(21.961210910936405 344.0 ) \">\n        <g transform=\"translate(66.84437979394175 0.0 ) \">\n          <line stroke-width=\"1.0\" stroke=\"rgb(71,71,71)\" stroke-opacity=\"1.0\" x2=\"0.0\" y2=\"4.0\">\n          </line>\n          <g transform=\"translate(0.0 7.0 ) \">\n            <text class=\"axis-text-x\" text-anchor=\"middle\" dy=\"0.7em\">\n              <tspan>Jan</tspan>\n            </text>\n          </g>\n        </g>\n        <g transform=\"translate(169.68188716923675 0.0 ) \">\n          <line stroke-width=\"1.0\" stroke=\"rgb(71,71,71)\" stroke-opacity=\"1.0\" x2=\"0.0\" y2=\"4.0\">\n          </line>\n          <g transform=\"translate(0.0 7.0 ) \">\n            <text class=\"axis-text-x\" text-anchor=\"middle\" dy=\"0.7em\">\n              <tspan>Feb</tspan>\n            </text>\n          </g>\n        </g>\n        <g transform=\"translate(272.5193945445318 0.0 ) \">\n          <line stroke-width=\"1.0\" stroke=\"rgb(71,71,71)\" stroke-opacity=\"1.0\" x2=\"0.0\" y2=\"4.0\">\n          </line>\n          <g transform=\"translate(0.0 7.0 ) \">\n            <text class=\"axis-text-x\" text-anchor=\"middle\" dy=\"0.7em\">\n              <tspan>Mar</tspan>\n            </text>\n          </g>\n        </g>\n        <g transform=\"translate(375.3569019198268 0.0 ) \">\n          <line stroke-width=\"1.0\" stroke=\"rgb(71,71,71)\" stroke-opacity=\"1.0\" x2=\"0.0\" y2=\"4.0\">\n          </line>\n          <g transform=\"translate(0.0 7.0 ) \">\n            <text class=\"axis-text-x\" text-anchor=\"middle\" dy=\"0.7em\">\n              <tspan>Apr</tspan>\n            </text>\n          </g>\n        </g>\n        <g transform=\"translate(478.1944092951218 0.0 ) \">\n          <line stroke-width=\"1.0\" stroke=\"rgb(71,71,71)\" stroke-opacity=\"1.0\" x2=\"0.0\" y2=\"4.0\">\n          </line>\n          <g transform=\"translate(0.0 7.0 ) \">\n            <text class=\"axis-text-x\" text-anchor=\"middle\" dy=\"0.7em\">\n              <tspan>May</tspan>\n            </text>\n          </g>\n        </g>\n        <line x1=\"0.0\" y1=\"0.0\" x2=\"545.0387890890636\" y2=\"0.0\" stroke-width=\"1.0\" stroke=\"rgb(71,71,71)\" stroke-opacity=\"1.0\">\n        </line>\n      </g>\n      <g transform=\"translate(21.961210910936405 0.0 ) \">\n        <line x1=\"0.0\" y1=\"328.3636363636364\" x2=\"545.0387890890636\" y2=\"328.3636363636364\" stroke=\"rgb(233,233,233)\" stroke-opacity=\"1.0\" stroke-width=\"1.0\" fill=\"none\">\n        </line>\n        <line x1=\"0.0\" y1=\"273.97628458498025\" x2=\"545.0387890890636\" y2=\"273.97628458498025\" stroke=\"rgb(233,233,233)\" stroke-opacity=\"1.0\" stroke-width=\"1.0\" fill=\"none\">\n        </line>\n        <line x1=\"0.0\" y1=\"219.5889328063241\" x2=\"545.0387890890636\" y2=\"219.5889328063241\" stroke=\"rgb(233,233,233)\" stroke-opacity=\"1.0\" stroke-width=\"1.0\" fill=\"none\">\n        </line>\n        <line x1=\"0.0\" y1=\"165.20158102766794\" x2=\"545.0387890890636\" y2=\"165.20158102766794\" stroke=\"rgb(233,233,233)\" stroke-opacity=\"1.0\" stroke-width=\"1.0\" fill=\"none\">\n        </line>\n        <line x1=\"0.0\" y1=\"110.81422924901182\" x2=\"545.0387890890636\" y2=\"110.81422924901182\" stroke=\"rgb(233,233,233)\" stroke-opacity=\"1.0\" stroke-width=\"1.0\" fill=\"none\">\n        </line>\n        <line x1=\"0.0\" y1=\"56.42687747035569\" x2=\"545.0387890890636\" y2=\"56.42687747035569\" stroke=\"rgb(233,233,233)\" stroke-opacity=\"1.0\" stroke-width=\"1.0\" fill=\"none\">\n        </line>\n      </g>\n      <g transform=\"translate(21.961210910936405 0.0 ) \">\n        <g transform=\"translate(0.0 328.3636363636364 ) \">\n          <g transform=\"translate(-3.0 0.0 ) \">\n            <text class=\"axis-text-y\" text-anchor=\"end\" dy=\"0.35em\">\n              <tspan>4</tspan>\n            </text>\n          </g>\n        </g>\n        <g transform=\"translate(0.0 273.97628458498025 ) \">\n          <g transform=\"translate(-3.0 0.0 ) \">\n            <text class=\"axis-text-y\" text-anchor=\"end\" dy=\"0.35em\">\n              <tspan>6</tspan>\n            </text>\n          </g>\n        </g>\n        <g transform=\"translate(0.0 219.5889328063241 ) \">\n          <g transform=\"translate(-3.0 0.0 ) \">\n            <text class=\"axis-text-y\" text-anchor=\"end\" dy=\"0.35em\">\n              <tspan>8</tspan>\n            </text>\n          </g>\n        </g>\n        <g transform=\"translate(0.0 165.20158102766794 ) \">\n          <g transform=\"translate(-3.0 0.0 ) \">\n            <text class=\"axis-text-y\" text-anchor=\"end\" dy=\"0.35em\">\n              <tspan>10</tspan>\n            </text>\n          </g>\n        </g>\n        <g transform=\"translate(0.0 110.81422924901182 ) \">\n          <g transform=\"translate(-3.0 0.0 ) \">\n            <text class=\"axis-text-y\" text-anchor=\"end\" dy=\"0.35em\">\n              <tspan>12</tspan>\n            </text>\n          </g>\n        </g>\n        <g transform=\"translate(0.0 56.42687747035569 ) \">\n          <g transform=\"translate(-3.0 0.0 ) \">\n            <text class=\"axis-text-y\" text-anchor=\"end\" dy=\"0.35em\">\n              <tspan>14</tspan>\n            </text>\n          </g>\n        </g>\n        <g transform=\"translate(0.0 2.0395256916995663 ) \">\n          <g transform=\"translate(-3.0 0.0 ) \">\n            <text class=\"axis-text-y\" text-anchor=\"end\" dy=\"0.35em\">\n              <tspan>16</tspan>\n            </text>\n          </g>\n        </g>\n      </g>\n      <g transform=\"translate(21.961210910936405 0.0 ) \" clip-path=\"url(#cHPj6lP)\" clip-bounds-jfx=\"[rect (0.0, 0.0), (545.0387890890636, 344.0)]\">\n        <defs>\n          <clipPath id=\"cHPj6lP\">\n            <rect x=\"0.0\" y=\"0.0\" width=\"545.0387890890636\" height=\"344.0\">\n            </rect>\n          </clipPath>\n        </defs>\n        <rect x=\"20.567501475059004\" y=\"50.988142292490124\" height=\"168.60079051383397\" width=\"92.5537566377655\" stroke=\"rgb(163,153,153)\" stroke-opacity=\"1.0\" fill=\"rgb(255,0,0)\" fill-opacity=\"1.0\" stroke-width=\"1.32\">\n        </rect>\n        <rect x=\"123.40500885035402\" y=\"203.27272727272725\" height=\"51.66798418972331\" width=\"92.5537566377655\" stroke=\"rgb(163,153,153)\" stroke-opacity=\"1.0\" fill=\"rgb(0,255,255)\" fill-opacity=\"1.0\" stroke-width=\"1.32\">\n        </rect>\n        <rect x=\"226.242516225649\" y=\"146.16600790513831\" height=\"51.66798418972331\" width=\"92.5537566377655\" stroke=\"rgb(163,153,153)\" stroke-opacity=\"1.0\" fill=\"rgb(0,255,255)\" fill-opacity=\"1.0\" stroke-width=\"1.32\">\n        </rect>\n        <rect x=\"329.080023600944\" y=\"132.5691699604743\" height=\"127.81027667984188\" width=\"92.5537566377655\" stroke=\"rgb(163,153,153)\" stroke-opacity=\"1.0\" fill=\"rgb(255,0,0)\" fill-opacity=\"1.0\" stroke-width=\"1.32\">\n        </rect>\n        <rect x=\"431.917530976239\" y=\"170.64031620553357\" height=\"157.7233201581028\" width=\"92.5537566377655\" stroke=\"rgb(163,153,153)\" stroke-opacity=\"1.0\" fill=\"rgb(0,255,255)\" fill-opacity=\"1.0\" stroke-width=\"1.32\">\n        </rect>\n        <line x1=\"66.84437979394175\" y1=\"219.5889328063241\" x2=\"66.84437979394175\" y2=\"233.18577075098813\" stroke=\"rgb(163,153,153)\" stroke-opacity=\"1.0\" fill=\"rgb(255,0,0)\" fill-opacity=\"1.0\" stroke-width=\"1.32\">\n        </line>\n        <line x1=\"66.84437979394175\" y1=\"233.18577075098813\" x2=\"66.84437979394175\" y2=\"233.18577075098813\" stroke=\"rgb(163,153,153)\" stroke-opacity=\"1.0\" fill=\"rgb(255,0,0)\" fill-opacity=\"1.0\" stroke-width=\"1.32\">\n        </line>\n        <line x1=\"66.84437979394175\" y1=\"50.988142292490124\" x2=\"66.84437979394175\" y2=\"15.636363636363626\" stroke=\"rgb(163,153,153)\" stroke-opacity=\"1.0\" fill=\"rgb(255,0,0)\" fill-opacity=\"1.0\" stroke-width=\"1.32\">\n        </line>\n        <line x1=\"66.84437979394175\" y1=\"15.636363636363626\" x2=\"66.84437979394175\" y2=\"15.636363636363626\" stroke=\"rgb(163,153,153)\" stroke-opacity=\"1.0\" fill=\"rgb(255,0,0)\" fill-opacity=\"1.0\" stroke-width=\"1.32\">\n        </line>\n        <line x1=\"169.68188716923675\" y1=\"254.94071146245057\" x2=\"169.68188716923675\" y2=\"271.25691699604744\" stroke=\"rgb(163,153,153)\" stroke-opacity=\"1.0\" fill=\"rgb(0,255,255)\" fill-opacity=\"1.0\" stroke-width=\"1.32\">\n        </line>\n        <line x1=\"169.68188716923675\" y1=\"271.25691699604744\" x2=\"169.68188716923675\" y2=\"271.25691699604744\" stroke=\"rgb(163,153,153)\" stroke-opacity=\"1.0\" fill=\"rgb(0,255,255)\" fill-opacity=\"1.0\" stroke-width=\"1.32\">\n        </line>\n        <line x1=\"169.68188716923675\" y1=\"203.27272727272725\" x2=\"169.68188716923675\" y2=\"176.0790513833992\" stroke=\"rgb(163,153,153)\" stroke-opacity=\"1.0\" fill=\"rgb(0,255,255)\" fill-opacity=\"1.0\" stroke-width=\"1.32\">\n        </line>\n        <line x1=\"169.68188716923675\" y1=\"176.0790513833992\" x2=\"169.68188716923675\" y2=\"176.0790513833992\" stroke=\"rgb(163,153,153)\" stroke-opacity=\"1.0\" fill=\"rgb(0,255,255)\" fill-opacity=\"1.0\" stroke-width=\"1.32\">\n        </line>\n        <line x1=\"272.5193945445318\" y1=\"197.83399209486163\" x2=\"272.5193945445318\" y2=\"205.99209486166006\" stroke=\"rgb(163,153,153)\" stroke-opacity=\"1.0\" fill=\"rgb(0,255,255)\" fill-opacity=\"1.0\" stroke-width=\"1.32\">\n        </line>\n        <line x1=\"272.5193945445318\" y1=\"205.99209486166006\" x2=\"272.5193945445318\" y2=\"205.99209486166006\" stroke=\"rgb(163,153,153)\" stroke-opacity=\"1.0\" fill=\"rgb(0,255,255)\" fill-opacity=\"1.0\" stroke-width=\"1.32\">\n        </line>\n        <line x1=\"272.5193945445318\" y1=\"146.16600790513831\" x2=\"272.5193945445318\" y2=\"146.16600790513831\" stroke=\"rgb(163,153,153)\" stroke-opacity=\"1.0\" fill=\"rgb(0,255,255)\" fill-opacity=\"1.0\" stroke-width=\"1.32\">\n        </line>\n        <line x1=\"272.5193945445318\" y1=\"146.16600790513831\" x2=\"272.5193945445318\" y2=\"146.16600790513831\" stroke=\"rgb(163,153,153)\" stroke-opacity=\"1.0\" fill=\"rgb(0,255,255)\" fill-opacity=\"1.0\" stroke-width=\"1.32\">\n        </line>\n        <line x1=\"375.3569019198268\" y1=\"260.3794466403162\" x2=\"375.3569019198268\" y2=\"290.29249011857706\" stroke=\"rgb(163,153,153)\" stroke-opacity=\"1.0\" fill=\"rgb(255,0,0)\" fill-opacity=\"1.0\" stroke-width=\"1.32\">\n        </line>\n        <line x1=\"375.3569019198268\" y1=\"290.29249011857706\" x2=\"375.3569019198268\" y2=\"290.29249011857706\" stroke=\"rgb(163,153,153)\" stroke-opacity=\"1.0\" fill=\"rgb(255,0,0)\" fill-opacity=\"1.0\" stroke-width=\"1.32\">\n        </line>\n        <line x1=\"375.3569019198268\" y1=\"132.5691699604743\" x2=\"375.3569019198268\" y2=\"118.97233201581025\" stroke=\"rgb(163,153,153)\" stroke-opacity=\"1.0\" fill=\"rgb(255,0,0)\" fill-opacity=\"1.0\" stroke-width=\"1.32\">\n        </line>\n        <line x1=\"375.3569019198268\" y1=\"118.97233201581025\" x2=\"375.3569019198268\" y2=\"118.97233201581025\" stroke=\"rgb(163,153,153)\" stroke-opacity=\"1.0\" fill=\"rgb(255,0,0)\" fill-opacity=\"1.0\" stroke-width=\"1.32\">\n        </line>\n        <line x1=\"478.1944092951218\" y1=\"328.3636363636364\" x2=\"478.1944092951218\" y2=\"328.3636363636364\" stroke=\"rgb(163,153,153)\" stroke-opacity=\"1.0\" fill=\"rgb(0,255,255)\" fill-opacity=\"1.0\" stroke-width=\"1.32\">\n        </line>\n        <line x1=\"478.1944092951218\" y1=\"328.3636363636364\" x2=\"478.1944092951218\" y2=\"328.3636363636364\" stroke=\"rgb(163,153,153)\" stroke-opacity=\"1.0\" fill=\"rgb(0,255,255)\" fill-opacity=\"1.0\" stroke-width=\"1.32\">\n        </line>\n        <line x1=\"478.1944092951218\" y1=\"170.64031620553357\" x2=\"478.1944092951218\" y2=\"167.92094861660075\" stroke=\"rgb(163,153,153)\" stroke-opacity=\"1.0\" fill=\"rgb(0,255,255)\" fill-opacity=\"1.0\" stroke-width=\"1.32\">\n        </line>\n        <line x1=\"478.1944092951218\" y1=\"167.92094861660075\" x2=\"478.1944092951218\" y2=\"167.92094861660075\" stroke=\"rgb(163,153,153)\" stroke-opacity=\"1.0\" fill=\"rgb(0,255,255)\" fill-opacity=\"1.0\" stroke-width=\"1.32\">\n        </line>\n      </g>\n    </g>\n    <g transform=\"translate(14.5 182.0 ) rotate(-90.0 ) \">\n      <text class=\"axis-title-y\" y=\"0.0\" text-anchor=\"middle\">\n        <tspan></tspan>\n      </text>\n    </g>\n    <g transform=\"translate(317.4806054554682 391.5 ) \">\n      <text class=\"axis-title-x\" y=\"0.0\" text-anchor=\"middle\">\n        <tspan>x</tspan>\n      </text>\n    </g>\n    <path fill=\"rgb(0,0,0)\" fill-opacity=\"0.0\" stroke=\"rgb(71,71,71)\" stroke-opacity=\"1.0\" stroke-width=\"0.0\" d=\"M0.0 0.0 L0.0 400.0 L600.0 400.0 L600.0 0.0 Z\">\n    </path>\n  </g>\n  <g id=\"dOfKGGP\">\n  </g>\n</svg>\n        <script>document.getElementById(\"d478acaf-970c-4ff9-8be7-3b02e429c8cc\").style.display = \"none\";</script>",
      "application/plot+json": {
       "output_type": "lets_plot_spec",
       "output": {
        "mapping": {},
        "data": {},
        "kind": "plot",
        "scales": [
         {
          "aesthetic": "x",
          "name": "x",
          "limits": [
           null,
           null
          ]
         },
         {
          "aesthetic": "y",
          "name": "",
          "limits": [
           null,
           null
          ]
         },
         {
          "aesthetic": "x",
          "discrete": true
         },
         {
          "aesthetic": "fill",
          "values": [
           "#00FFFF",
           "#FF0000"
          ],
          "limits": [
           true,
           false
          ],
          "guide": "none"
         },
         {
          "aesthetic": "color",
          "values": [
           "#3ba272",
           "#ee6666"
          ],
          "limits": [
           true,
           false
          ],
          "guide": "none"
         },
         {
          "aesthetic": "linetype",
          "values": [
           1.0,
           1.0
          ],
          "limits": [
           true,
           false
          ],
          "guide": "none"
         },
         {
          "aesthetic": "size",
          "values": [
           0.6,
           0.6
          ],
          "limits": [
           true,
           false
          ],
          "guide": "none"
         },
         {
          "aesthetic": "alpha",
          "values": [
           1.0,
           1.0
          ],
          "limits": [
           true,
           false
          ],
          "guide": "none"
         }
        ],
        "layers": [
         {
          "mapping": {
           "x": "x",
           "ymin": "min",
           "lower": "lower",
           "middle": "middle",
           "upper": "upper",
           "ymax": "max",
           "fill": "isIncreased",
           "color": "isIncreased",
           "linetype": "isIncreased",
           "size": "isIncreased",
           "alpha": "isIncreased"
          },
          "stat": "identity",
          "data": {
           "min": [
            7.5,
            6.1,
            8.5,
            5.4,
            4.0
           ],
           "middle": [
            null,
            null,
            null,
            null,
            null
           ],
           "max": [
            15.5,
            9.6,
            10.7,
            11.7,
            9.9
           ],
           "isIncreased": [
            false,
            true,
            true,
            false,
            true
           ],
           "lower": [
            8.0,
            6.7,
            8.8,
            6.5,
            4.0
           ],
           "upper": [
            14.2,
            8.6,
            10.7,
            11.2,
            9.8
           ],
           "x": [
            "Jan",
            "Feb",
            "Mar",
            "Apr",
            "May"
           ],
           "close": [
            8.0,
            8.6,
            10.7,
            6.5,
            9.8
           ],
           "open": [
            14.2,
            6.7,
            8.8,
            11.2,
            4.0
           ]
          },
          "whisker_width": 0.0,
          "color": "#a39999",
          "sampling": "none",
          "position": "identity",
          "geom": "boxplot",
          "tooltips": {
           "formats": [
            {
             "field": "open",
             "format": ".2f"
            },
            {
             "field": "max",
             "format": ".2f"
            },
            {
             "field": "min",
             "format": ".2f"
            },
            {
             "field": "close",
             "format": ".2f"
            }
           ],
           "title": "@x",
           "lines": [
            "open|@open",
            "high|@max",
            "low|@min",
            "close|@close"
           ],
           "disable_splitting": true
          }
         }
        ]
       },
       "apply_color_scheme": true,
       "swing_enabled": true
      }
     },
     "execution_count": 8,
     "metadata": {},
     "output_type": "execute_result"
    }
   ],
   "source": [
    "df.plot {\n",
    "    candlestick(x, open, high, low, close) {\n",
    "        // Boxes context + StatCandlestick context\n",
    "        // change fill color when increased\n",
    "        increase {\n",
    "            fillColor = Color.hex(\"#00FFFF\")\n",
    "        }\n",
    "        // change fill color when decreased\n",
    "        decrease.fillColor = Color.hex(\"#FF0000\")\n",
    "        // set constant border line color for all candles\n",
    "        borderLine.color = Color.GREY\n",
    "    }\n",
    "}"
   ],
   "metadata": {
    "collapsed": false,
    "ExecuteTime": {
     "end_time": "2024-02-22T11:05:40.393239Z",
     "start_time": "2024-02-22T11:05:40.164481Z"
    }
   }
  },
  {
   "cell_type": "markdown",
   "source": [
    "However, it can also be done as with other statistical layers (i.e., through mappings from statistics from `StatCandlestick` dataset):"
   ],
   "metadata": {
    "collapsed": false
   }
  },
  {
   "cell_type": "code",
   "execution_count": 9,
   "outputs": [
    {
     "data": {
      "text/html": "            <iframe src='about:blank' style='border:none !important;' width='600' height='400' srcdoc=\"&lt;html lang=&quot;en&quot;>\n   &lt;head>\n       &lt;meta charset=&quot;UTF-8&quot;>\n       &lt;style> html, body { margin: 0; overflow: hidden; } &lt;/style>\n       &lt;script type=&quot;text/javascript&quot; data-lets-plot-script=&quot;library&quot; src=&quot;https://cdn.jsdelivr.net/gh/JetBrains/lets-plot@v4.2.0/js-package/distr/lets-plot.min.js&quot;>&lt;/script>\n   &lt;/head>\n   &lt;body>\n          &lt;div id=&quot;sRslc8&quot;>&lt;/div>\n   &lt;script type=&quot;text/javascript&quot; data-lets-plot-script=&quot;plot&quot;>\n       var plotSpec={\n&quot;mapping&quot;:{\n},\n&quot;data&quot;:{\n},\n&quot;kind&quot;:&quot;plot&quot;,\n&quot;scales&quot;:[{\n&quot;aesthetic&quot;:&quot;x&quot;,\n&quot;name&quot;:&quot;x&quot;,\n&quot;limits&quot;:[null,null]\n},{\n&quot;aesthetic&quot;:&quot;y&quot;,\n&quot;name&quot;:&quot;&quot;,\n&quot;limits&quot;:[null,null]\n},{\n&quot;aesthetic&quot;:&quot;x&quot;,\n&quot;discrete&quot;:true\n},{\n&quot;aesthetic&quot;:&quot;alpha&quot;,\n&quot;breaks&quot;:[true,false],\n&quot;values&quot;:[1.0,0.1],\n&quot;name&quot;:&quot;&quot;,\n&quot;limits&quot;:[true,false],\n&quot;labels&quot;:[&quot;increase&quot;,&quot;decrease&quot;]\n},{\n&quot;aesthetic&quot;:&quot;fill&quot;,\n&quot;values&quot;:[&quot;#3ba272&quot;,&quot;#ee6666&quot;],\n&quot;limits&quot;:[true,false],\n&quot;guide&quot;:&quot;none&quot;\n},{\n&quot;aesthetic&quot;:&quot;color&quot;,\n&quot;values&quot;:[&quot;#3ba272&quot;,&quot;#ee6666&quot;],\n&quot;limits&quot;:[true,false],\n&quot;guide&quot;:&quot;none&quot;\n},{\n&quot;aesthetic&quot;:&quot;linetype&quot;,\n&quot;values&quot;:[1.0,1.0],\n&quot;limits&quot;:[true,false],\n&quot;guide&quot;:&quot;none&quot;\n},{\n&quot;aesthetic&quot;:&quot;size&quot;,\n&quot;values&quot;:[0.6,0.6],\n&quot;limits&quot;:[true,false],\n&quot;guide&quot;:&quot;none&quot;\n}],\n&quot;layers&quot;:[{\n&quot;mapping&quot;:{\n&quot;x&quot;:&quot;x&quot;,\n&quot;ymin&quot;:&quot;min&quot;,\n&quot;lower&quot;:&quot;lower&quot;,\n&quot;middle&quot;:&quot;middle&quot;,\n&quot;upper&quot;:&quot;upper&quot;,\n&quot;ymax&quot;:&quot;max&quot;,\n&quot;alpha&quot;:&quot;isIncreased&quot;,\n&quot;fill&quot;:&quot;isIncreased&quot;,\n&quot;color&quot;:&quot;isIncreased&quot;,\n&quot;linetype&quot;:&quot;isIncreased&quot;,\n&quot;size&quot;:&quot;isIncreased&quot;\n},\n&quot;stat&quot;:&quot;identity&quot;,\n&quot;data&quot;:{\n&quot;min&quot;:[7.5,6.1,8.5,5.4,4.0],\n&quot;middle&quot;:[null,null,null,null,null],\n&quot;max&quot;:[15.5,9.6,10.7,11.7,9.9],\n&quot;isIncreased&quot;:[false,true,true,false,true],\n&quot;upper&quot;:[14.2,8.6,10.7,11.2,9.8],\n&quot;lower&quot;:[8.0,6.7,8.8,6.5,4.0],\n&quot;x&quot;:[&quot;Jan&quot;,&quot;Feb&quot;,&quot;Mar&quot;,&quot;Apr&quot;,&quot;May&quot;],\n&quot;close&quot;:[8.0,8.6,10.7,6.5,9.8],\n&quot;open&quot;:[14.2,6.7,8.8,11.2,4.0]\n},\n&quot;whisker_width&quot;:0.0,\n&quot;color&quot;:&quot;#a39999&quot;,\n&quot;sampling&quot;:&quot;none&quot;,\n&quot;position&quot;:&quot;identity&quot;,\n&quot;geom&quot;:&quot;boxplot&quot;,\n&quot;fill&quot;:&quot;#a39999&quot;,\n&quot;tooltips&quot;:{\n&quot;formats&quot;:[{\n&quot;field&quot;:&quot;open&quot;,\n&quot;format&quot;:&quot;.2f&quot;\n},{\n&quot;field&quot;:&quot;max&quot;,\n&quot;format&quot;:&quot;.2f&quot;\n},{\n&quot;field&quot;:&quot;min&quot;,\n&quot;format&quot;:&quot;.2f&quot;\n},{\n&quot;field&quot;:&quot;close&quot;,\n&quot;format&quot;:&quot;.2f&quot;\n}],\n&quot;title&quot;:&quot;@x&quot;,\n&quot;lines&quot;:[&quot;open|@open&quot;,&quot;high|@max&quot;,&quot;low|@min&quot;,&quot;close|@close&quot;],\n&quot;disable_splitting&quot;:true\n}\n}]\n};\n       var plotContainer = document.getElementById(&quot;sRslc8&quot;);\n       LetsPlot.buildPlotFromProcessedSpecs(plotSpec, -1, -1, plotContainer);\n   &lt;/script>\n   &lt;/body>\n&lt;/html>\"></iframe>            <svg xmlns=\"http://www.w3.org/2000/svg\" xmlns:xlink=\"http://www.w3.org/1999/xlink\" class=\"plt-container\" id=88744e01-df69-42c0-9400-812292007951 width=\"100%\" height=\"100%\" style=\"max-width: 600.0px; max-height: 400.0px;\" viewBox=\"0 0 600.0 400.0\" preserveAspectRatio=\"xMinYMin meet\">\n  <style type=\"text/css\">\n  .plt-container {\n   font-family: Lucida Grande, sans-serif;\n   user-select: none;\n   -webkit-user-select: none;\n   -moz-user-select: none;\n   -ms-user-select: none;\n}\ntext {\n   text-rendering: optimizeLegibility;\n}\n#peDGH7E .plot-title {\n   fill: #474747;\n   font-family: Lucida Grande, sans-serif;\n   font-size: 16.0px;\n   font-weight: normal;\n   font-style: normal;   \n}\n#peDGH7E .plot-subtitle {\n   fill: #474747;\n   font-family: Lucida Grande, sans-serif;\n   font-size: 15.0px;\n   font-weight: normal;\n   font-style: normal;   \n}\n#peDGH7E .plot-caption {\n   fill: #474747;\n   font-family: Lucida Grande, sans-serif;\n   font-size: 13.0px;\n   font-weight: normal;\n   font-style: normal;   \n}\n#peDGH7E .legend-title {\n   fill: #474747;\n   font-family: Lucida Grande, sans-serif;\n   font-size: 15.0px;\n   font-weight: normal;\n   font-style: normal;   \n}\n#peDGH7E .legend-item {\n   fill: #474747;\n   font-family: Lucida Grande, sans-serif;\n   font-size: 13.0px;\n   font-weight: normal;\n   font-style: normal;   \n}\n#peDGH7E .axis-title-x {\n   fill: #474747;\n   font-family: Lucida Grande, sans-serif;\n   font-size: 15.0px;\n   font-weight: normal;\n   font-style: normal;   \n}\n#peDGH7E .axis-text-x {\n   fill: #474747;\n   font-family: Lucida Grande, sans-serif;\n   font-size: 13.0px;\n   font-weight: normal;\n   font-style: normal;   \n}\n#dht3obO .axis-tooltip-text-x {\n   fill: #ffffff;\n   font-family: Lucida Grande, sans-serif;\n   font-size: 13.0px;\n   font-weight: normal;\n   font-style: normal;   \n}\n#peDGH7E .axis-title-y {\n   fill: #474747;\n   font-family: Lucida Grande, sans-serif;\n   font-size: 15.0px;\n   font-weight: normal;\n   font-style: normal;   \n}\n#peDGH7E .axis-text-y {\n   fill: #474747;\n   font-family: Lucida Grande, sans-serif;\n   font-size: 13.0px;\n   font-weight: normal;\n   font-style: normal;   \n}\n#dht3obO .axis-tooltip-text-y {\n   fill: #ffffff;\n   font-family: Lucida Grande, sans-serif;\n   font-size: 13.0px;\n   font-weight: normal;\n   font-style: normal;   \n}\n#peDGH7E .facet-strip-text-x {\n   fill: #474747;\n   font-family: Lucida Grande, sans-serif;\n   font-size: 13.0px;\n   font-weight: normal;\n   font-style: normal;   \n}\n#peDGH7E .facet-strip-text-y {\n   fill: #474747;\n   font-family: Lucida Grande, sans-serif;\n   font-size: 13.0px;\n   font-weight: normal;\n   font-style: normal;   \n}\n#dht3obO .tooltip-text {\n   fill: #474747;\n   font-family: Lucida Grande, sans-serif;\n   font-size: 13.0px;\n   font-weight: normal;\n   font-style: normal;   \n}\n#dht3obO .tooltip-title {\n   fill: #474747;\n   font-family: Lucida Grande, sans-serif;\n   font-size: 13.0px;\n   font-weight: bold;\n   font-style: normal;   \n}\n#dht3obO .tooltip-label {\n   fill: #474747;\n   font-family: Lucida Grande, sans-serif;\n   font-size: 13.0px;\n   font-weight: bold;\n   font-style: normal;   \n}\n\n  </style>\n  <g id=\"peDGH7E\">\n    <path fill-rule=\"evenodd\" fill=\"rgb(255,255,255)\" fill-opacity=\"1.0\" d=\"M0.0 0.0 L0.0 400.0 L600.0 400.0 L600.0 0.0 Z\">\n    </path>\n    <g transform=\"translate(23.0 10.0 ) \">\n      <g transform=\"translate(21.961210910936405 0.0 ) \">\n        <line x1=\"53.607923134228216\" y1=\"344.0\" x2=\"53.607923134228216\" y2=\"0.0\" stroke=\"rgb(233,233,233)\" stroke-opacity=\"1.0\" stroke-width=\"1.0\" fill=\"none\">\n        </line>\n        <line x1=\"136.08165103304086\" y1=\"344.0\" x2=\"136.08165103304086\" y2=\"0.0\" stroke=\"rgb(233,233,233)\" stroke-opacity=\"1.0\" stroke-width=\"1.0\" fill=\"none\">\n        </line>\n        <line x1=\"218.5553789318535\" y1=\"344.0\" x2=\"218.5553789318535\" y2=\"0.0\" stroke=\"rgb(233,233,233)\" stroke-opacity=\"1.0\" stroke-width=\"1.0\" fill=\"none\">\n        </line>\n        <line x1=\"301.02910683066614\" y1=\"344.0\" x2=\"301.02910683066614\" y2=\"0.0\" stroke=\"rgb(233,233,233)\" stroke-opacity=\"1.0\" stroke-width=\"1.0\" fill=\"none\">\n        </line>\n        <line x1=\"383.50283472947876\" y1=\"344.0\" x2=\"383.50283472947876\" y2=\"0.0\" stroke=\"rgb(233,233,233)\" stroke-opacity=\"1.0\" stroke-width=\"1.0\" fill=\"none\">\n        </line>\n      </g>\n      <g transform=\"translate(21.961210910936405 344.0 ) \">\n        <g transform=\"translate(53.607923134228216 0.0 ) \">\n          <line stroke-width=\"1.0\" stroke=\"rgb(71,71,71)\" stroke-opacity=\"1.0\" x2=\"0.0\" y2=\"4.0\">\n          </line>\n          <g transform=\"translate(0.0 7.0 ) \">\n            <text class=\"axis-text-x\" text-anchor=\"middle\" dy=\"0.7em\">\n              <tspan>Jan</tspan>\n            </text>\n          </g>\n        </g>\n        <g transform=\"translate(136.08165103304086 0.0 ) \">\n          <line stroke-width=\"1.0\" stroke=\"rgb(71,71,71)\" stroke-opacity=\"1.0\" x2=\"0.0\" y2=\"4.0\">\n          </line>\n          <g transform=\"translate(0.0 7.0 ) \">\n            <text class=\"axis-text-x\" text-anchor=\"middle\" dy=\"0.7em\">\n              <tspan>Feb</tspan>\n            </text>\n          </g>\n        </g>\n        <g transform=\"translate(218.5553789318535 0.0 ) \">\n          <line stroke-width=\"1.0\" stroke=\"rgb(71,71,71)\" stroke-opacity=\"1.0\" x2=\"0.0\" y2=\"4.0\">\n          </line>\n          <g transform=\"translate(0.0 7.0 ) \">\n            <text class=\"axis-text-x\" text-anchor=\"middle\" dy=\"0.7em\">\n              <tspan>Mar</tspan>\n            </text>\n          </g>\n        </g>\n        <g transform=\"translate(301.02910683066614 0.0 ) \">\n          <line stroke-width=\"1.0\" stroke=\"rgb(71,71,71)\" stroke-opacity=\"1.0\" x2=\"0.0\" y2=\"4.0\">\n          </line>\n          <g transform=\"translate(0.0 7.0 ) \">\n            <text class=\"axis-text-x\" text-anchor=\"middle\" dy=\"0.7em\">\n              <tspan>Apr</tspan>\n            </text>\n          </g>\n        </g>\n        <g transform=\"translate(383.50283472947876 0.0 ) \">\n          <line stroke-width=\"1.0\" stroke=\"rgb(71,71,71)\" stroke-opacity=\"1.0\" x2=\"0.0\" y2=\"4.0\">\n          </line>\n          <g transform=\"translate(0.0 7.0 ) \">\n            <text class=\"axis-text-x\" text-anchor=\"middle\" dy=\"0.7em\">\n              <tspan>May</tspan>\n            </text>\n          </g>\n        </g>\n        <line x1=\"0.0\" y1=\"0.0\" x2=\"437.1107578637071\" y2=\"0.0\" stroke-width=\"1.0\" stroke=\"rgb(71,71,71)\" stroke-opacity=\"1.0\">\n        </line>\n      </g>\n      <g transform=\"translate(21.961210910936405 0.0 ) \">\n        <line x1=\"0.0\" y1=\"328.3636363636364\" x2=\"437.110757863707\" y2=\"328.3636363636364\" stroke=\"rgb(233,233,233)\" stroke-opacity=\"1.0\" stroke-width=\"1.0\" fill=\"none\">\n        </line>\n        <line x1=\"0.0\" y1=\"273.97628458498025\" x2=\"437.110757863707\" y2=\"273.97628458498025\" stroke=\"rgb(233,233,233)\" stroke-opacity=\"1.0\" stroke-width=\"1.0\" fill=\"none\">\n        </line>\n        <line x1=\"0.0\" y1=\"219.5889328063241\" x2=\"437.110757863707\" y2=\"219.5889328063241\" stroke=\"rgb(233,233,233)\" stroke-opacity=\"1.0\" stroke-width=\"1.0\" fill=\"none\">\n        </line>\n        <line x1=\"0.0\" y1=\"165.20158102766794\" x2=\"437.110757863707\" y2=\"165.20158102766794\" stroke=\"rgb(233,233,233)\" stroke-opacity=\"1.0\" stroke-width=\"1.0\" fill=\"none\">\n        </line>\n        <line x1=\"0.0\" y1=\"110.81422924901182\" x2=\"437.110757863707\" y2=\"110.81422924901182\" stroke=\"rgb(233,233,233)\" stroke-opacity=\"1.0\" stroke-width=\"1.0\" fill=\"none\">\n        </line>\n        <line x1=\"0.0\" y1=\"56.42687747035569\" x2=\"437.110757863707\" y2=\"56.42687747035569\" stroke=\"rgb(233,233,233)\" stroke-opacity=\"1.0\" stroke-width=\"1.0\" fill=\"none\">\n        </line>\n      </g>\n      <g transform=\"translate(21.961210910936405 0.0 ) \">\n        <g transform=\"translate(0.0 328.3636363636364 ) \">\n          <g transform=\"translate(-3.0 0.0 ) \">\n            <text class=\"axis-text-y\" text-anchor=\"end\" dy=\"0.35em\">\n              <tspan>4</tspan>\n            </text>\n          </g>\n        </g>\n        <g transform=\"translate(0.0 273.97628458498025 ) \">\n          <g transform=\"translate(-3.0 0.0 ) \">\n            <text class=\"axis-text-y\" text-anchor=\"end\" dy=\"0.35em\">\n              <tspan>6</tspan>\n            </text>\n          </g>\n        </g>\n        <g transform=\"translate(0.0 219.5889328063241 ) \">\n          <g transform=\"translate(-3.0 0.0 ) \">\n            <text class=\"axis-text-y\" text-anchor=\"end\" dy=\"0.35em\">\n              <tspan>8</tspan>\n            </text>\n          </g>\n        </g>\n        <g transform=\"translate(0.0 165.20158102766794 ) \">\n          <g transform=\"translate(-3.0 0.0 ) \">\n            <text class=\"axis-text-y\" text-anchor=\"end\" dy=\"0.35em\">\n              <tspan>10</tspan>\n            </text>\n          </g>\n        </g>\n        <g transform=\"translate(0.0 110.81422924901182 ) \">\n          <g transform=\"translate(-3.0 0.0 ) \">\n            <text class=\"axis-text-y\" text-anchor=\"end\" dy=\"0.35em\">\n              <tspan>12</tspan>\n            </text>\n          </g>\n        </g>\n        <g transform=\"translate(0.0 56.42687747035569 ) \">\n          <g transform=\"translate(-3.0 0.0 ) \">\n            <text class=\"axis-text-y\" text-anchor=\"end\" dy=\"0.35em\">\n              <tspan>14</tspan>\n            </text>\n          </g>\n        </g>\n        <g transform=\"translate(0.0 2.0395256916995663 ) \">\n          <g transform=\"translate(-3.0 0.0 ) \">\n            <text class=\"axis-text-y\" text-anchor=\"end\" dy=\"0.35em\">\n              <tspan>16</tspan>\n            </text>\n          </g>\n        </g>\n      </g>\n      <g transform=\"translate(21.961210910936405 0.0 ) \" clip-path=\"url(#cGWUlWV)\" clip-bounds-jfx=\"[rect (0.0, 0.0), (437.1107578637071, 344.0)]\">\n        <defs>\n          <clipPath id=\"cGWUlWV\">\n            <rect x=\"0.0\" y=\"0.0\" width=\"437.1107578637071\" height=\"344.0\">\n            </rect>\n          </clipPath>\n        </defs>\n        <rect x=\"16.49474557976253\" y=\"50.988142292490124\" height=\"168.60079051383397\" width=\"74.22635510893136\" stroke=\"rgb(163,153,153)\" stroke-opacity=\"1.0\" fill=\"rgb(163,153,153)\" fill-opacity=\"0.1\" stroke-width=\"1.32\">\n        </rect>\n        <rect x=\"98.96847347857516\" y=\"203.27272727272725\" height=\"51.66798418972331\" width=\"74.22635510893139\" stroke=\"rgb(163,153,153)\" stroke-opacity=\"1.0\" fill=\"rgb(163,153,153)\" fill-opacity=\"1.0\" stroke-width=\"1.32\">\n        </rect>\n        <rect x=\"181.44220137738782\" y=\"146.16600790513831\" height=\"51.66798418972331\" width=\"74.22635510893136\" stroke=\"rgb(163,153,153)\" stroke-opacity=\"1.0\" fill=\"rgb(163,153,153)\" fill-opacity=\"1.0\" stroke-width=\"1.32\">\n        </rect>\n        <rect x=\"263.9159292762004\" y=\"132.5691699604743\" height=\"127.81027667984188\" width=\"74.22635510893139\" stroke=\"rgb(163,153,153)\" stroke-opacity=\"1.0\" fill=\"rgb(163,153,153)\" fill-opacity=\"0.1\" stroke-width=\"1.32\">\n        </rect>\n        <rect x=\"346.38965717501304\" y=\"170.64031620553357\" height=\"157.7233201581028\" width=\"74.22635510893144\" stroke=\"rgb(163,153,153)\" stroke-opacity=\"1.0\" fill=\"rgb(163,153,153)\" fill-opacity=\"1.0\" stroke-width=\"1.32\">\n        </rect>\n        <line x1=\"53.607923134228216\" y1=\"219.5889328063241\" x2=\"53.607923134228216\" y2=\"233.18577075098813\" stroke=\"rgb(163,153,153)\" stroke-opacity=\"1.0\" fill=\"rgb(163,153,153)\" fill-opacity=\"0.1\" stroke-width=\"1.32\">\n        </line>\n        <line x1=\"53.607923134228216\" y1=\"233.18577075098813\" x2=\"53.607923134228216\" y2=\"233.18577075098813\" stroke=\"rgb(163,153,153)\" stroke-opacity=\"1.0\" fill=\"rgb(163,153,153)\" fill-opacity=\"0.1\" stroke-width=\"1.32\">\n        </line>\n        <line x1=\"53.607923134228216\" y1=\"50.988142292490124\" x2=\"53.607923134228216\" y2=\"15.636363636363626\" stroke=\"rgb(163,153,153)\" stroke-opacity=\"1.0\" fill=\"rgb(163,153,153)\" fill-opacity=\"0.1\" stroke-width=\"1.32\">\n        </line>\n        <line x1=\"53.607923134228216\" y1=\"15.636363636363626\" x2=\"53.607923134228216\" y2=\"15.636363636363626\" stroke=\"rgb(163,153,153)\" stroke-opacity=\"1.0\" fill=\"rgb(163,153,153)\" fill-opacity=\"0.1\" stroke-width=\"1.32\">\n        </line>\n        <line x1=\"136.08165103304086\" y1=\"254.94071146245057\" x2=\"136.08165103304086\" y2=\"271.25691699604744\" stroke=\"rgb(163,153,153)\" stroke-opacity=\"1.0\" fill=\"rgb(163,153,153)\" fill-opacity=\"1.0\" stroke-width=\"1.32\">\n        </line>\n        <line x1=\"136.08165103304086\" y1=\"271.25691699604744\" x2=\"136.08165103304086\" y2=\"271.25691699604744\" stroke=\"rgb(163,153,153)\" stroke-opacity=\"1.0\" fill=\"rgb(163,153,153)\" fill-opacity=\"1.0\" stroke-width=\"1.32\">\n        </line>\n        <line x1=\"136.08165103304086\" y1=\"203.27272727272725\" x2=\"136.08165103304086\" y2=\"176.0790513833992\" stroke=\"rgb(163,153,153)\" stroke-opacity=\"1.0\" fill=\"rgb(163,153,153)\" fill-opacity=\"1.0\" stroke-width=\"1.32\">\n        </line>\n        <line x1=\"136.08165103304086\" y1=\"176.0790513833992\" x2=\"136.08165103304086\" y2=\"176.0790513833992\" stroke=\"rgb(163,153,153)\" stroke-opacity=\"1.0\" fill=\"rgb(163,153,153)\" fill-opacity=\"1.0\" stroke-width=\"1.32\">\n        </line>\n        <line x1=\"218.5553789318535\" y1=\"197.83399209486163\" x2=\"218.5553789318535\" y2=\"205.99209486166006\" stroke=\"rgb(163,153,153)\" stroke-opacity=\"1.0\" fill=\"rgb(163,153,153)\" fill-opacity=\"1.0\" stroke-width=\"1.32\">\n        </line>\n        <line x1=\"218.5553789318535\" y1=\"205.99209486166006\" x2=\"218.5553789318535\" y2=\"205.99209486166006\" stroke=\"rgb(163,153,153)\" stroke-opacity=\"1.0\" fill=\"rgb(163,153,153)\" fill-opacity=\"1.0\" stroke-width=\"1.32\">\n        </line>\n        <line x1=\"218.5553789318535\" y1=\"146.16600790513831\" x2=\"218.5553789318535\" y2=\"146.16600790513831\" stroke=\"rgb(163,153,153)\" stroke-opacity=\"1.0\" fill=\"rgb(163,153,153)\" fill-opacity=\"1.0\" stroke-width=\"1.32\">\n        </line>\n        <line x1=\"218.5553789318535\" y1=\"146.16600790513831\" x2=\"218.5553789318535\" y2=\"146.16600790513831\" stroke=\"rgb(163,153,153)\" stroke-opacity=\"1.0\" fill=\"rgb(163,153,153)\" fill-opacity=\"1.0\" stroke-width=\"1.32\">\n        </line>\n        <line x1=\"301.02910683066614\" y1=\"260.3794466403162\" x2=\"301.02910683066614\" y2=\"290.29249011857706\" stroke=\"rgb(163,153,153)\" stroke-opacity=\"1.0\" fill=\"rgb(163,153,153)\" fill-opacity=\"0.1\" stroke-width=\"1.32\">\n        </line>\n        <line x1=\"301.02910683066614\" y1=\"290.29249011857706\" x2=\"301.02910683066614\" y2=\"290.29249011857706\" stroke=\"rgb(163,153,153)\" stroke-opacity=\"1.0\" fill=\"rgb(163,153,153)\" fill-opacity=\"0.1\" stroke-width=\"1.32\">\n        </line>\n        <line x1=\"301.02910683066614\" y1=\"132.5691699604743\" x2=\"301.02910683066614\" y2=\"118.97233201581025\" stroke=\"rgb(163,153,153)\" stroke-opacity=\"1.0\" fill=\"rgb(163,153,153)\" fill-opacity=\"0.1\" stroke-width=\"1.32\">\n        </line>\n        <line x1=\"301.02910683066614\" y1=\"118.97233201581025\" x2=\"301.02910683066614\" y2=\"118.97233201581025\" stroke=\"rgb(163,153,153)\" stroke-opacity=\"1.0\" fill=\"rgb(163,153,153)\" fill-opacity=\"0.1\" stroke-width=\"1.32\">\n        </line>\n        <line x1=\"383.50283472947876\" y1=\"328.3636363636364\" x2=\"383.50283472947876\" y2=\"328.3636363636364\" stroke=\"rgb(163,153,153)\" stroke-opacity=\"1.0\" fill=\"rgb(163,153,153)\" fill-opacity=\"1.0\" stroke-width=\"1.32\">\n        </line>\n        <line x1=\"383.50283472947876\" y1=\"328.3636363636364\" x2=\"383.50283472947876\" y2=\"328.3636363636364\" stroke=\"rgb(163,153,153)\" stroke-opacity=\"1.0\" fill=\"rgb(163,153,153)\" fill-opacity=\"1.0\" stroke-width=\"1.32\">\n        </line>\n        <line x1=\"383.50283472947876\" y1=\"170.64031620553357\" x2=\"383.50283472947876\" y2=\"167.92094861660075\" stroke=\"rgb(163,153,153)\" stroke-opacity=\"1.0\" fill=\"rgb(163,153,153)\" fill-opacity=\"1.0\" stroke-width=\"1.32\">\n        </line>\n        <line x1=\"383.50283472947876\" y1=\"167.92094861660075\" x2=\"383.50283472947876\" y2=\"167.92094861660075\" stroke=\"rgb(163,153,153)\" stroke-opacity=\"1.0\" fill=\"rgb(163,153,153)\" fill-opacity=\"1.0\" stroke-width=\"1.32\">\n        </line>\n      </g>\n    </g>\n    <g transform=\"translate(14.5 182.0 ) rotate(-90.0 ) \">\n      <text class=\"axis-title-y\" y=\"0.0\" text-anchor=\"middle\">\n        <tspan></tspan>\n      </text>\n    </g>\n    <g transform=\"translate(263.5165898427899 391.5 ) \">\n      <text class=\"axis-title-x\" y=\"0.0\" text-anchor=\"middle\">\n        <tspan>x</tspan>\n      </text>\n    </g>\n    <g transform=\"translate(492.0719687746435 145.25 ) \">\n      <rect x=\"5.0\" y=\"5.0\" height=\"63.5\" width=\"97.92803122535652\" stroke=\"rgb(71,71,71)\" stroke-opacity=\"1.0\" stroke-width=\"0.0\" fill=\"rgb(255,255,255)\" fill-opacity=\"1.0\">\n      </rect>\n      <g transform=\"translate(10.0 10.0 ) \">\n        <g transform=\"translate(0.0 7.5 ) \">\n          <g transform=\"\">\n            <g>\n              <rect x=\"0.0\" y=\"0.0\" height=\"23.0\" width=\"23.0\" stroke-width=\"0.0\" fill=\"rgb(255,255,255)\" fill-opacity=\"1.0\">\n              </rect>\n              <g transform=\"translate(1.0 1.0 ) \">\n                <g>\n                  <rect x=\"2.759999999999999\" y=\"4.695\" height=\"11.610000000000001\" width=\"15.480000000000002\" stroke=\"rgb(163,153,153)\" stroke-opacity=\"1.0\" fill=\"rgb(163,153,153)\" fill-opacity=\"1.0\" stroke-width=\"1.6500000000000001\">\n                  </rect>\n                  <line x1=\"2.759999999999999\" y1=\"10.5\" x2=\"18.240000000000002\" y2=\"10.5\" stroke=\"rgb(163,153,153)\" stroke-opacity=\"1.0\" fill=\"rgb(163,153,153)\" fill-opacity=\"1.0\" stroke-width=\"1.6500000000000001\">\n                  </line>\n                  <line x1=\"10.5\" y1=\"16.305000000000003\" x2=\"10.5\" y2=\"20.175\" stroke=\"rgb(163,153,153)\" stroke-opacity=\"1.0\" fill=\"rgb(163,153,153)\" fill-opacity=\"1.0\" stroke-width=\"1.6500000000000001\">\n                  </line>\n                  <line x1=\"10.5\" y1=\"0.8250000000000001\" x2=\"10.5\" y2=\"4.695\" stroke=\"rgb(163,153,153)\" stroke-opacity=\"1.0\" fill=\"rgb(163,153,153)\" fill-opacity=\"1.0\" stroke-width=\"1.6500000000000001\">\n                  </line>\n                </g>\n              </g>\n              <rect x=\"0.0\" y=\"0.0\" height=\"23.0\" width=\"23.0\" stroke=\"rgb(255,255,255)\" stroke-opacity=\"1.0\" stroke-width=\"1.0\" fill-opacity=\"0.0\">\n              </rect>\n            </g>\n            <g transform=\"translate(26.9903027277341 16.05 ) \">\n              <text class=\"legend-item\" y=\"0.0\">\n                <tspan>increase</tspan>\n              </text>\n            </g>\n          </g>\n          <g transform=\"translate(0.0 23.0 ) \">\n            <g>\n              <rect x=\"0.0\" y=\"0.0\" height=\"23.0\" width=\"23.0\" stroke-width=\"0.0\" fill=\"rgb(255,255,255)\" fill-opacity=\"1.0\">\n              </rect>\n              <g transform=\"translate(1.0 1.0 ) \">\n                <g>\n                  <rect x=\"2.759999999999999\" y=\"4.695\" height=\"11.610000000000001\" width=\"15.480000000000002\" stroke=\"rgb(163,153,153)\" stroke-opacity=\"1.0\" fill=\"rgb(163,153,153)\" fill-opacity=\"0.1\" stroke-width=\"1.6500000000000001\">\n                  </rect>\n                  <line x1=\"2.759999999999999\" y1=\"10.5\" x2=\"18.240000000000002\" y2=\"10.5\" stroke=\"rgb(163,153,153)\" stroke-opacity=\"1.0\" fill=\"rgb(163,153,153)\" fill-opacity=\"0.1\" stroke-width=\"1.6500000000000001\">\n                  </line>\n                  <line x1=\"10.5\" y1=\"16.305000000000003\" x2=\"10.5\" y2=\"20.175\" stroke=\"rgb(163,153,153)\" stroke-opacity=\"1.0\" fill=\"rgb(163,153,153)\" fill-opacity=\"0.1\" stroke-width=\"1.6500000000000001\">\n                  </line>\n                  <line x1=\"10.5\" y1=\"0.8250000000000001\" x2=\"10.5\" y2=\"4.695\" stroke=\"rgb(163,153,153)\" stroke-opacity=\"1.0\" fill=\"rgb(163,153,153)\" fill-opacity=\"0.1\" stroke-width=\"1.6500000000000001\">\n                  </line>\n                </g>\n              </g>\n              <rect x=\"0.0\" y=\"0.0\" height=\"23.0\" width=\"23.0\" stroke=\"rgb(255,255,255)\" stroke-opacity=\"1.0\" stroke-width=\"1.0\" fill-opacity=\"0.0\">\n              </rect>\n            </g>\n            <g transform=\"translate(26.9903027277341 16.05 ) \">\n              <text class=\"legend-item\" y=\"0.0\">\n                <tspan>decrease</tspan>\n              </text>\n            </g>\n          </g>\n        </g>\n      </g>\n    </g>\n    <path fill=\"rgb(0,0,0)\" fill-opacity=\"0.0\" stroke=\"rgb(71,71,71)\" stroke-opacity=\"1.0\" stroke-width=\"0.0\" d=\"M0.0 0.0 L0.0 400.0 L600.0 400.0 L600.0 0.0 Z\">\n    </path>\n  </g>\n  <g id=\"dht3obO\">\n  </g>\n</svg>\n        <script>document.getElementById(\"88744e01-df69-42c0-9400-812292007951\").style.display = \"none\";</script>",
      "application/plot+json": {
       "output_type": "lets_plot_spec",
       "output": {
        "mapping": {},
        "data": {},
        "kind": "plot",
        "scales": [
         {
          "aesthetic": "x",
          "name": "x",
          "limits": [
           null,
           null
          ]
         },
         {
          "aesthetic": "y",
          "name": "",
          "limits": [
           null,
           null
          ]
         },
         {
          "aesthetic": "x",
          "discrete": true
         },
         {
          "aesthetic": "alpha",
          "breaks": [
           true,
           false
          ],
          "values": [
           1.0,
           0.1
          ],
          "name": "",
          "limits": [
           true,
           false
          ],
          "labels": [
           "increase",
           "decrease"
          ]
         },
         {
          "aesthetic": "fill",
          "values": [
           "#3ba272",
           "#ee6666"
          ],
          "limits": [
           true,
           false
          ],
          "guide": "none"
         },
         {
          "aesthetic": "color",
          "values": [
           "#3ba272",
           "#ee6666"
          ],
          "limits": [
           true,
           false
          ],
          "guide": "none"
         },
         {
          "aesthetic": "linetype",
          "values": [
           1.0,
           1.0
          ],
          "limits": [
           true,
           false
          ],
          "guide": "none"
         },
         {
          "aesthetic": "size",
          "values": [
           0.6,
           0.6
          ],
          "limits": [
           true,
           false
          ],
          "guide": "none"
         }
        ],
        "layers": [
         {
          "mapping": {
           "x": "x",
           "ymin": "min",
           "lower": "lower",
           "middle": "middle",
           "upper": "upper",
           "ymax": "max",
           "alpha": "isIncreased",
           "fill": "isIncreased",
           "color": "isIncreased",
           "linetype": "isIncreased",
           "size": "isIncreased"
          },
          "stat": "identity",
          "data": {
           "min": [
            7.5,
            6.1,
            8.5,
            5.4,
            4.0
           ],
           "middle": [
            null,
            null,
            null,
            null,
            null
           ],
           "max": [
            15.5,
            9.6,
            10.7,
            11.7,
            9.9
           ],
           "isIncreased": [
            false,
            true,
            true,
            false,
            true
           ],
           "lower": [
            8.0,
            6.7,
            8.8,
            6.5,
            4.0
           ],
           "upper": [
            14.2,
            8.6,
            10.7,
            11.2,
            9.8
           ],
           "x": [
            "Jan",
            "Feb",
            "Mar",
            "Apr",
            "May"
           ],
           "close": [
            8.0,
            8.6,
            10.7,
            6.5,
            9.8
           ],
           "open": [
            14.2,
            6.7,
            8.8,
            11.2,
            4.0
           ]
          },
          "whisker_width": 0.0,
          "color": "#a39999",
          "sampling": "none",
          "position": "identity",
          "geom": "boxplot",
          "fill": "#a39999",
          "tooltips": {
           "formats": [
            {
             "field": "open",
             "format": ".2f"
            },
            {
             "field": "max",
             "format": ".2f"
            },
            {
             "field": "min",
             "format": ".2f"
            },
            {
             "field": "close",
             "format": ".2f"
            }
           ],
           "title": "@x",
           "lines": [
            "open|@open",
            "high|@max",
            "low|@min",
            "close|@close"
           ],
           "disable_splitting": true
          }
         }
        ]
       },
       "apply_color_scheme": true,
       "swing_enabled": true
      }
     },
     "execution_count": 9,
     "metadata": {},
     "output_type": "execute_result"
    }
   ],
   "source": [
    "df.plot {\n",
    "    candlestick(x, open, high, low, close) {\n",
    "        // Boxes context + StatCandlestick context\n",
    "        alpha(Stat.isIncreased) {\n",
    "            scale = categorical(true to 1.0, false to 0.1)\n",
    "            legend {\n",
    "                name = \"\"\n",
    "                breaksLabeled(true to \"increase\", false to \"decrease\")\n",
    "            }\n",
    "        }\n",
    "        fillColor = Color.GREY\n",
    "        borderLine.color = Color.GREY\n",
    "    }\n",
    "}"
   ],
   "metadata": {
    "collapsed": false,
    "ExecuteTime": {
     "end_time": "2024-02-22T11:05:40.699621Z",
     "start_time": "2024-02-22T11:05:40.396391Z"
    }
   }
  },
  {
   "cell_type": "markdown",
   "source": [
    "### `candlestick` plot"
   ],
   "metadata": {
    "collapsed": false
   }
  },
  {
   "cell_type": "markdown",
   "source": [
    "`candlestick(statCandlestickArgs)` and `DataFrame.candlestick(statCandlestickArgs)` are a family of functions for fast plotting a candlestick."
   ],
   "metadata": {
    "collapsed": false
   }
  },
  {
   "cell_type": "code",
   "execution_count": 10,
   "outputs": [
    {
     "data": {
      "text/html": "            <iframe src='about:blank' style='border:none !important;' width='600' height='400' srcdoc=\"&lt;html lang=&quot;en&quot;>\n   &lt;head>\n       &lt;meta charset=&quot;UTF-8&quot;>\n       &lt;style> html, body { margin: 0; overflow: hidden; } &lt;/style>\n       &lt;script type=&quot;text/javascript&quot; data-lets-plot-script=&quot;library&quot; src=&quot;https://cdn.jsdelivr.net/gh/JetBrains/lets-plot@v4.2.0/js-package/distr/lets-plot.min.js&quot;>&lt;/script>\n   &lt;/head>\n   &lt;body>\n          &lt;div id=&quot;EACRce&quot;>&lt;/div>\n   &lt;script type=&quot;text/javascript&quot; data-lets-plot-script=&quot;plot&quot;>\n       var plotSpec={\n&quot;mapping&quot;:{\n},\n&quot;data&quot;:{\n},\n&quot;kind&quot;:&quot;plot&quot;,\n&quot;scales&quot;:[{\n&quot;aesthetic&quot;:&quot;x&quot;,\n&quot;name&quot;:&quot;x&quot;,\n&quot;limits&quot;:[null,null]\n},{\n&quot;aesthetic&quot;:&quot;y&quot;,\n&quot;name&quot;:&quot;&quot;,\n&quot;limits&quot;:[null,null]\n},{\n&quot;aesthetic&quot;:&quot;x&quot;,\n&quot;discrete&quot;:true\n},{\n&quot;aesthetic&quot;:&quot;fill&quot;,\n&quot;values&quot;:[&quot;#3ba272&quot;,&quot;#ee6666&quot;],\n&quot;limits&quot;:[true,false],\n&quot;guide&quot;:&quot;none&quot;\n},{\n&quot;aesthetic&quot;:&quot;color&quot;,\n&quot;values&quot;:[&quot;#3ba272&quot;,&quot;#ee6666&quot;],\n&quot;limits&quot;:[true,false],\n&quot;guide&quot;:&quot;none&quot;\n},{\n&quot;aesthetic&quot;:&quot;linetype&quot;,\n&quot;values&quot;:[1.0,1.0],\n&quot;limits&quot;:[true,false],\n&quot;guide&quot;:&quot;none&quot;\n},{\n&quot;aesthetic&quot;:&quot;size&quot;,\n&quot;values&quot;:[0.6,0.6],\n&quot;limits&quot;:[true,false],\n&quot;guide&quot;:&quot;none&quot;\n},{\n&quot;aesthetic&quot;:&quot;alpha&quot;,\n&quot;values&quot;:[1.0,1.0],\n&quot;limits&quot;:[true,false],\n&quot;guide&quot;:&quot;none&quot;\n},{\n&quot;aesthetic&quot;:&quot;y&quot;,\n&quot;name&quot;:&quot;y&quot;,\n&quot;limits&quot;:[null,null]\n}],\n&quot;layers&quot;:[{\n&quot;mapping&quot;:{\n&quot;x&quot;:&quot;x&quot;,\n&quot;ymin&quot;:&quot;min&quot;,\n&quot;lower&quot;:&quot;lower&quot;,\n&quot;middle&quot;:&quot;middle&quot;,\n&quot;upper&quot;:&quot;upper&quot;,\n&quot;ymax&quot;:&quot;max&quot;,\n&quot;fill&quot;:&quot;isIncreased&quot;,\n&quot;color&quot;:&quot;isIncreased&quot;,\n&quot;linetype&quot;:&quot;isIncreased&quot;,\n&quot;size&quot;:&quot;isIncreased&quot;,\n&quot;alpha&quot;:&quot;isIncreased&quot;\n},\n&quot;stat&quot;:&quot;identity&quot;,\n&quot;data&quot;:{\n&quot;middle&quot;:[null,null,null,null,null],\n&quot;min&quot;:[7.5,6.1,8.5,5.4,4.0],\n&quot;max&quot;:[15.5,9.6,10.7,11.7,9.9],\n&quot;isIncreased&quot;:[false,true,true,false,true],\n&quot;lower&quot;:[8.0,6.7,8.8,6.5,4.0],\n&quot;upper&quot;:[14.2,8.6,10.7,11.2,9.8],\n&quot;x&quot;:[&quot;Jan&quot;,&quot;Feb&quot;,&quot;Mar&quot;,&quot;Apr&quot;,&quot;May&quot;],\n&quot;close&quot;:[8.0,8.6,10.7,6.5,9.8],\n&quot;open&quot;:[14.2,6.7,8.8,11.2,4.0]\n},\n&quot;whisker_width&quot;:0.0,\n&quot;sampling&quot;:&quot;none&quot;,\n&quot;position&quot;:&quot;identity&quot;,\n&quot;geom&quot;:&quot;boxplot&quot;,\n&quot;tooltips&quot;:{\n&quot;formats&quot;:[{\n&quot;field&quot;:&quot;open&quot;,\n&quot;format&quot;:&quot;.2f&quot;\n},{\n&quot;field&quot;:&quot;max&quot;,\n&quot;format&quot;:&quot;.2f&quot;\n},{\n&quot;field&quot;:&quot;min&quot;,\n&quot;format&quot;:&quot;.2f&quot;\n},{\n&quot;field&quot;:&quot;close&quot;,\n&quot;format&quot;:&quot;.2f&quot;\n}],\n&quot;title&quot;:&quot;@x&quot;,\n&quot;lines&quot;:[&quot;open|@open&quot;,&quot;high|@max&quot;,&quot;low|@min&quot;,&quot;close|@close&quot;],\n&quot;disable_splitting&quot;:true\n}\n}]\n};\n       var plotContainer = document.getElementById(&quot;EACRce&quot;);\n       LetsPlot.buildPlotFromProcessedSpecs(plotSpec, -1, -1, plotContainer);\n   &lt;/script>\n   &lt;/body>\n&lt;/html>\"></iframe>            <svg xmlns=\"http://www.w3.org/2000/svg\" xmlns:xlink=\"http://www.w3.org/1999/xlink\" class=\"plt-container\" id=56b03086-3fc4-4ea5-8a19-e59bdd505028 width=\"100%\" height=\"100%\" style=\"max-width: 600.0px; max-height: 400.0px;\" viewBox=\"0 0 600.0 400.0\" preserveAspectRatio=\"xMinYMin meet\">\n  <style type=\"text/css\">\n  .plt-container {\n   font-family: Lucida Grande, sans-serif;\n   user-select: none;\n   -webkit-user-select: none;\n   -moz-user-select: none;\n   -ms-user-select: none;\n}\ntext {\n   text-rendering: optimizeLegibility;\n}\n#pudbF72 .plot-title {\n   fill: #474747;\n   font-family: Lucida Grande, sans-serif;\n   font-size: 16.0px;\n   font-weight: normal;\n   font-style: normal;   \n}\n#pudbF72 .plot-subtitle {\n   fill: #474747;\n   font-family: Lucida Grande, sans-serif;\n   font-size: 15.0px;\n   font-weight: normal;\n   font-style: normal;   \n}\n#pudbF72 .plot-caption {\n   fill: #474747;\n   font-family: Lucida Grande, sans-serif;\n   font-size: 13.0px;\n   font-weight: normal;\n   font-style: normal;   \n}\n#pudbF72 .legend-title {\n   fill: #474747;\n   font-family: Lucida Grande, sans-serif;\n   font-size: 15.0px;\n   font-weight: normal;\n   font-style: normal;   \n}\n#pudbF72 .legend-item {\n   fill: #474747;\n   font-family: Lucida Grande, sans-serif;\n   font-size: 13.0px;\n   font-weight: normal;\n   font-style: normal;   \n}\n#pudbF72 .axis-title-x {\n   fill: #474747;\n   font-family: Lucida Grande, sans-serif;\n   font-size: 15.0px;\n   font-weight: normal;\n   font-style: normal;   \n}\n#pudbF72 .axis-text-x {\n   fill: #474747;\n   font-family: Lucida Grande, sans-serif;\n   font-size: 13.0px;\n   font-weight: normal;\n   font-style: normal;   \n}\n#duG97Cd .axis-tooltip-text-x {\n   fill: #ffffff;\n   font-family: Lucida Grande, sans-serif;\n   font-size: 13.0px;\n   font-weight: normal;\n   font-style: normal;   \n}\n#pudbF72 .axis-title-y {\n   fill: #474747;\n   font-family: Lucida Grande, sans-serif;\n   font-size: 15.0px;\n   font-weight: normal;\n   font-style: normal;   \n}\n#pudbF72 .axis-text-y {\n   fill: #474747;\n   font-family: Lucida Grande, sans-serif;\n   font-size: 13.0px;\n   font-weight: normal;\n   font-style: normal;   \n}\n#duG97Cd .axis-tooltip-text-y {\n   fill: #ffffff;\n   font-family: Lucida Grande, sans-serif;\n   font-size: 13.0px;\n   font-weight: normal;\n   font-style: normal;   \n}\n#pudbF72 .facet-strip-text-x {\n   fill: #474747;\n   font-family: Lucida Grande, sans-serif;\n   font-size: 13.0px;\n   font-weight: normal;\n   font-style: normal;   \n}\n#pudbF72 .facet-strip-text-y {\n   fill: #474747;\n   font-family: Lucida Grande, sans-serif;\n   font-size: 13.0px;\n   font-weight: normal;\n   font-style: normal;   \n}\n#duG97Cd .tooltip-text {\n   fill: #474747;\n   font-family: Lucida Grande, sans-serif;\n   font-size: 13.0px;\n   font-weight: normal;\n   font-style: normal;   \n}\n#duG97Cd .tooltip-title {\n   fill: #474747;\n   font-family: Lucida Grande, sans-serif;\n   font-size: 13.0px;\n   font-weight: bold;\n   font-style: normal;   \n}\n#duG97Cd .tooltip-label {\n   fill: #474747;\n   font-family: Lucida Grande, sans-serif;\n   font-size: 13.0px;\n   font-weight: bold;\n   font-style: normal;   \n}\n\n  </style>\n  <g id=\"pudbF72\">\n    <path fill-rule=\"evenodd\" fill=\"rgb(255,255,255)\" fill-opacity=\"1.0\" d=\"M0.0 0.0 L0.0 400.0 L600.0 400.0 L600.0 0.0 Z\">\n    </path>\n    <g transform=\"translate(23.0 10.0 ) \">\n      <g transform=\"translate(21.961210910936405 0.0 ) \">\n        <line x1=\"66.84437979394175\" y1=\"344.0\" x2=\"66.84437979394175\" y2=\"0.0\" stroke=\"rgb(233,233,233)\" stroke-opacity=\"1.0\" stroke-width=\"1.0\" fill=\"none\">\n        </line>\n        <line x1=\"169.68188716923675\" y1=\"344.0\" x2=\"169.68188716923675\" y2=\"0.0\" stroke=\"rgb(233,233,233)\" stroke-opacity=\"1.0\" stroke-width=\"1.0\" fill=\"none\">\n        </line>\n        <line x1=\"272.5193945445318\" y1=\"344.0\" x2=\"272.5193945445318\" y2=\"0.0\" stroke=\"rgb(233,233,233)\" stroke-opacity=\"1.0\" stroke-width=\"1.0\" fill=\"none\">\n        </line>\n        <line x1=\"375.3569019198268\" y1=\"344.0\" x2=\"375.3569019198268\" y2=\"0.0\" stroke=\"rgb(233,233,233)\" stroke-opacity=\"1.0\" stroke-width=\"1.0\" fill=\"none\">\n        </line>\n        <line x1=\"478.1944092951218\" y1=\"344.0\" x2=\"478.1944092951218\" y2=\"0.0\" stroke=\"rgb(233,233,233)\" stroke-opacity=\"1.0\" stroke-width=\"1.0\" fill=\"none\">\n        </line>\n      </g>\n      <g transform=\"translate(21.961210910936405 344.0 ) \">\n        <g transform=\"translate(66.84437979394175 0.0 ) \">\n          <line stroke-width=\"1.0\" stroke=\"rgb(71,71,71)\" stroke-opacity=\"1.0\" x2=\"0.0\" y2=\"4.0\">\n          </line>\n          <g transform=\"translate(0.0 7.0 ) \">\n            <text class=\"axis-text-x\" text-anchor=\"middle\" dy=\"0.7em\">\n              <tspan>Jan</tspan>\n            </text>\n          </g>\n        </g>\n        <g transform=\"translate(169.68188716923675 0.0 ) \">\n          <line stroke-width=\"1.0\" stroke=\"rgb(71,71,71)\" stroke-opacity=\"1.0\" x2=\"0.0\" y2=\"4.0\">\n          </line>\n          <g transform=\"translate(0.0 7.0 ) \">\n            <text class=\"axis-text-x\" text-anchor=\"middle\" dy=\"0.7em\">\n              <tspan>Feb</tspan>\n            </text>\n          </g>\n        </g>\n        <g transform=\"translate(272.5193945445318 0.0 ) \">\n          <line stroke-width=\"1.0\" stroke=\"rgb(71,71,71)\" stroke-opacity=\"1.0\" x2=\"0.0\" y2=\"4.0\">\n          </line>\n          <g transform=\"translate(0.0 7.0 ) \">\n            <text class=\"axis-text-x\" text-anchor=\"middle\" dy=\"0.7em\">\n              <tspan>Mar</tspan>\n            </text>\n          </g>\n        </g>\n        <g transform=\"translate(375.3569019198268 0.0 ) \">\n          <line stroke-width=\"1.0\" stroke=\"rgb(71,71,71)\" stroke-opacity=\"1.0\" x2=\"0.0\" y2=\"4.0\">\n          </line>\n          <g transform=\"translate(0.0 7.0 ) \">\n            <text class=\"axis-text-x\" text-anchor=\"middle\" dy=\"0.7em\">\n              <tspan>Apr</tspan>\n            </text>\n          </g>\n        </g>\n        <g transform=\"translate(478.1944092951218 0.0 ) \">\n          <line stroke-width=\"1.0\" stroke=\"rgb(71,71,71)\" stroke-opacity=\"1.0\" x2=\"0.0\" y2=\"4.0\">\n          </line>\n          <g transform=\"translate(0.0 7.0 ) \">\n            <text class=\"axis-text-x\" text-anchor=\"middle\" dy=\"0.7em\">\n              <tspan>May</tspan>\n            </text>\n          </g>\n        </g>\n        <line x1=\"0.0\" y1=\"0.0\" x2=\"545.0387890890636\" y2=\"0.0\" stroke-width=\"1.0\" stroke=\"rgb(71,71,71)\" stroke-opacity=\"1.0\">\n        </line>\n      </g>\n      <g transform=\"translate(21.961210910936405 0.0 ) \">\n        <line x1=\"0.0\" y1=\"328.3636363636364\" x2=\"545.0387890890636\" y2=\"328.3636363636364\" stroke=\"rgb(233,233,233)\" stroke-opacity=\"1.0\" stroke-width=\"1.0\" fill=\"none\">\n        </line>\n        <line x1=\"0.0\" y1=\"273.97628458498025\" x2=\"545.0387890890636\" y2=\"273.97628458498025\" stroke=\"rgb(233,233,233)\" stroke-opacity=\"1.0\" stroke-width=\"1.0\" fill=\"none\">\n        </line>\n        <line x1=\"0.0\" y1=\"219.5889328063241\" x2=\"545.0387890890636\" y2=\"219.5889328063241\" stroke=\"rgb(233,233,233)\" stroke-opacity=\"1.0\" stroke-width=\"1.0\" fill=\"none\">\n        </line>\n        <line x1=\"0.0\" y1=\"165.20158102766794\" x2=\"545.0387890890636\" y2=\"165.20158102766794\" stroke=\"rgb(233,233,233)\" stroke-opacity=\"1.0\" stroke-width=\"1.0\" fill=\"none\">\n        </line>\n        <line x1=\"0.0\" y1=\"110.81422924901182\" x2=\"545.0387890890636\" y2=\"110.81422924901182\" stroke=\"rgb(233,233,233)\" stroke-opacity=\"1.0\" stroke-width=\"1.0\" fill=\"none\">\n        </line>\n        <line x1=\"0.0\" y1=\"56.42687747035569\" x2=\"545.0387890890636\" y2=\"56.42687747035569\" stroke=\"rgb(233,233,233)\" stroke-opacity=\"1.0\" stroke-width=\"1.0\" fill=\"none\">\n        </line>\n      </g>\n      <g transform=\"translate(21.961210910936405 0.0 ) \">\n        <g transform=\"translate(0.0 328.3636363636364 ) \">\n          <g transform=\"translate(-3.0 0.0 ) \">\n            <text class=\"axis-text-y\" text-anchor=\"end\" dy=\"0.35em\">\n              <tspan>4</tspan>\n            </text>\n          </g>\n        </g>\n        <g transform=\"translate(0.0 273.97628458498025 ) \">\n          <g transform=\"translate(-3.0 0.0 ) \">\n            <text class=\"axis-text-y\" text-anchor=\"end\" dy=\"0.35em\">\n              <tspan>6</tspan>\n            </text>\n          </g>\n        </g>\n        <g transform=\"translate(0.0 219.5889328063241 ) \">\n          <g transform=\"translate(-3.0 0.0 ) \">\n            <text class=\"axis-text-y\" text-anchor=\"end\" dy=\"0.35em\">\n              <tspan>8</tspan>\n            </text>\n          </g>\n        </g>\n        <g transform=\"translate(0.0 165.20158102766794 ) \">\n          <g transform=\"translate(-3.0 0.0 ) \">\n            <text class=\"axis-text-y\" text-anchor=\"end\" dy=\"0.35em\">\n              <tspan>10</tspan>\n            </text>\n          </g>\n        </g>\n        <g transform=\"translate(0.0 110.81422924901182 ) \">\n          <g transform=\"translate(-3.0 0.0 ) \">\n            <text class=\"axis-text-y\" text-anchor=\"end\" dy=\"0.35em\">\n              <tspan>12</tspan>\n            </text>\n          </g>\n        </g>\n        <g transform=\"translate(0.0 56.42687747035569 ) \">\n          <g transform=\"translate(-3.0 0.0 ) \">\n            <text class=\"axis-text-y\" text-anchor=\"end\" dy=\"0.35em\">\n              <tspan>14</tspan>\n            </text>\n          </g>\n        </g>\n        <g transform=\"translate(0.0 2.0395256916995663 ) \">\n          <g transform=\"translate(-3.0 0.0 ) \">\n            <text class=\"axis-text-y\" text-anchor=\"end\" dy=\"0.35em\">\n              <tspan>16</tspan>\n            </text>\n          </g>\n        </g>\n      </g>\n      <g transform=\"translate(21.961210910936405 0.0 ) \" clip-path=\"url(#c1V3NPP)\" clip-bounds-jfx=\"[rect (0.0, 0.0), (545.0387890890636, 344.0)]\">\n        <defs>\n          <clipPath id=\"c1V3NPP\">\n            <rect x=\"0.0\" y=\"0.0\" width=\"545.0387890890636\" height=\"344.0\">\n            </rect>\n          </clipPath>\n        </defs>\n        <rect x=\"20.567501475059004\" y=\"50.988142292490124\" height=\"168.60079051383397\" width=\"92.5537566377655\" stroke=\"rgb(238,102,102)\" stroke-opacity=\"1.0\" fill=\"rgb(238,102,102)\" fill-opacity=\"1.0\" stroke-width=\"1.32\">\n        </rect>\n        <rect x=\"123.40500885035402\" y=\"203.27272727272725\" height=\"51.66798418972331\" width=\"92.5537566377655\" stroke=\"rgb(59,162,114)\" stroke-opacity=\"1.0\" fill=\"rgb(59,162,114)\" fill-opacity=\"1.0\" stroke-width=\"1.32\">\n        </rect>\n        <rect x=\"226.242516225649\" y=\"146.16600790513831\" height=\"51.66798418972331\" width=\"92.5537566377655\" stroke=\"rgb(59,162,114)\" stroke-opacity=\"1.0\" fill=\"rgb(59,162,114)\" fill-opacity=\"1.0\" stroke-width=\"1.32\">\n        </rect>\n        <rect x=\"329.080023600944\" y=\"132.5691699604743\" height=\"127.81027667984188\" width=\"92.5537566377655\" stroke=\"rgb(238,102,102)\" stroke-opacity=\"1.0\" fill=\"rgb(238,102,102)\" fill-opacity=\"1.0\" stroke-width=\"1.32\">\n        </rect>\n        <rect x=\"431.917530976239\" y=\"170.64031620553357\" height=\"157.7233201581028\" width=\"92.5537566377655\" stroke=\"rgb(59,162,114)\" stroke-opacity=\"1.0\" fill=\"rgb(59,162,114)\" fill-opacity=\"1.0\" stroke-width=\"1.32\">\n        </rect>\n        <line x1=\"66.84437979394175\" y1=\"219.5889328063241\" x2=\"66.84437979394175\" y2=\"233.18577075098813\" stroke=\"rgb(238,102,102)\" stroke-opacity=\"1.0\" fill=\"rgb(238,102,102)\" fill-opacity=\"1.0\" stroke-width=\"1.32\">\n        </line>\n        <line x1=\"66.84437979394175\" y1=\"233.18577075098813\" x2=\"66.84437979394175\" y2=\"233.18577075098813\" stroke=\"rgb(238,102,102)\" stroke-opacity=\"1.0\" fill=\"rgb(238,102,102)\" fill-opacity=\"1.0\" stroke-width=\"1.32\">\n        </line>\n        <line x1=\"66.84437979394175\" y1=\"50.988142292490124\" x2=\"66.84437979394175\" y2=\"15.636363636363626\" stroke=\"rgb(238,102,102)\" stroke-opacity=\"1.0\" fill=\"rgb(238,102,102)\" fill-opacity=\"1.0\" stroke-width=\"1.32\">\n        </line>\n        <line x1=\"66.84437979394175\" y1=\"15.636363636363626\" x2=\"66.84437979394175\" y2=\"15.636363636363626\" stroke=\"rgb(238,102,102)\" stroke-opacity=\"1.0\" fill=\"rgb(238,102,102)\" fill-opacity=\"1.0\" stroke-width=\"1.32\">\n        </line>\n        <line x1=\"169.68188716923675\" y1=\"254.94071146245057\" x2=\"169.68188716923675\" y2=\"271.25691699604744\" stroke=\"rgb(59,162,114)\" stroke-opacity=\"1.0\" fill=\"rgb(59,162,114)\" fill-opacity=\"1.0\" stroke-width=\"1.32\">\n        </line>\n        <line x1=\"169.68188716923675\" y1=\"271.25691699604744\" x2=\"169.68188716923675\" y2=\"271.25691699604744\" stroke=\"rgb(59,162,114)\" stroke-opacity=\"1.0\" fill=\"rgb(59,162,114)\" fill-opacity=\"1.0\" stroke-width=\"1.32\">\n        </line>\n        <line x1=\"169.68188716923675\" y1=\"203.27272727272725\" x2=\"169.68188716923675\" y2=\"176.0790513833992\" stroke=\"rgb(59,162,114)\" stroke-opacity=\"1.0\" fill=\"rgb(59,162,114)\" fill-opacity=\"1.0\" stroke-width=\"1.32\">\n        </line>\n        <line x1=\"169.68188716923675\" y1=\"176.0790513833992\" x2=\"169.68188716923675\" y2=\"176.0790513833992\" stroke=\"rgb(59,162,114)\" stroke-opacity=\"1.0\" fill=\"rgb(59,162,114)\" fill-opacity=\"1.0\" stroke-width=\"1.32\">\n        </line>\n        <line x1=\"272.5193945445318\" y1=\"197.83399209486163\" x2=\"272.5193945445318\" y2=\"205.99209486166006\" stroke=\"rgb(59,162,114)\" stroke-opacity=\"1.0\" fill=\"rgb(59,162,114)\" fill-opacity=\"1.0\" stroke-width=\"1.32\">\n        </line>\n        <line x1=\"272.5193945445318\" y1=\"205.99209486166006\" x2=\"272.5193945445318\" y2=\"205.99209486166006\" stroke=\"rgb(59,162,114)\" stroke-opacity=\"1.0\" fill=\"rgb(59,162,114)\" fill-opacity=\"1.0\" stroke-width=\"1.32\">\n        </line>\n        <line x1=\"272.5193945445318\" y1=\"146.16600790513831\" x2=\"272.5193945445318\" y2=\"146.16600790513831\" stroke=\"rgb(59,162,114)\" stroke-opacity=\"1.0\" fill=\"rgb(59,162,114)\" fill-opacity=\"1.0\" stroke-width=\"1.32\">\n        </line>\n        <line x1=\"272.5193945445318\" y1=\"146.16600790513831\" x2=\"272.5193945445318\" y2=\"146.16600790513831\" stroke=\"rgb(59,162,114)\" stroke-opacity=\"1.0\" fill=\"rgb(59,162,114)\" fill-opacity=\"1.0\" stroke-width=\"1.32\">\n        </line>\n        <line x1=\"375.3569019198268\" y1=\"260.3794466403162\" x2=\"375.3569019198268\" y2=\"290.29249011857706\" stroke=\"rgb(238,102,102)\" stroke-opacity=\"1.0\" fill=\"rgb(238,102,102)\" fill-opacity=\"1.0\" stroke-width=\"1.32\">\n        </line>\n        <line x1=\"375.3569019198268\" y1=\"290.29249011857706\" x2=\"375.3569019198268\" y2=\"290.29249011857706\" stroke=\"rgb(238,102,102)\" stroke-opacity=\"1.0\" fill=\"rgb(238,102,102)\" fill-opacity=\"1.0\" stroke-width=\"1.32\">\n        </line>\n        <line x1=\"375.3569019198268\" y1=\"132.5691699604743\" x2=\"375.3569019198268\" y2=\"118.97233201581025\" stroke=\"rgb(238,102,102)\" stroke-opacity=\"1.0\" fill=\"rgb(238,102,102)\" fill-opacity=\"1.0\" stroke-width=\"1.32\">\n        </line>\n        <line x1=\"375.3569019198268\" y1=\"118.97233201581025\" x2=\"375.3569019198268\" y2=\"118.97233201581025\" stroke=\"rgb(238,102,102)\" stroke-opacity=\"1.0\" fill=\"rgb(238,102,102)\" fill-opacity=\"1.0\" stroke-width=\"1.32\">\n        </line>\n        <line x1=\"478.1944092951218\" y1=\"328.3636363636364\" x2=\"478.1944092951218\" y2=\"328.3636363636364\" stroke=\"rgb(59,162,114)\" stroke-opacity=\"1.0\" fill=\"rgb(59,162,114)\" fill-opacity=\"1.0\" stroke-width=\"1.32\">\n        </line>\n        <line x1=\"478.1944092951218\" y1=\"328.3636363636364\" x2=\"478.1944092951218\" y2=\"328.3636363636364\" stroke=\"rgb(59,162,114)\" stroke-opacity=\"1.0\" fill=\"rgb(59,162,114)\" fill-opacity=\"1.0\" stroke-width=\"1.32\">\n        </line>\n        <line x1=\"478.1944092951218\" y1=\"170.64031620553357\" x2=\"478.1944092951218\" y2=\"167.92094861660075\" stroke=\"rgb(59,162,114)\" stroke-opacity=\"1.0\" fill=\"rgb(59,162,114)\" fill-opacity=\"1.0\" stroke-width=\"1.32\">\n        </line>\n        <line x1=\"478.1944092951218\" y1=\"167.92094861660075\" x2=\"478.1944092951218\" y2=\"167.92094861660075\" stroke=\"rgb(59,162,114)\" stroke-opacity=\"1.0\" fill=\"rgb(59,162,114)\" fill-opacity=\"1.0\" stroke-width=\"1.32\">\n        </line>\n      </g>\n    </g>\n    <g transform=\"translate(14.5 182.0 ) rotate(-90.0 ) \">\n      <text class=\"axis-title-y\" y=\"0.0\" text-anchor=\"middle\">\n        <tspan>y</tspan>\n      </text>\n    </g>\n    <g transform=\"translate(317.4806054554682 391.5 ) \">\n      <text class=\"axis-title-x\" y=\"0.0\" text-anchor=\"middle\">\n        <tspan>x</tspan>\n      </text>\n    </g>\n    <path fill=\"rgb(0,0,0)\" fill-opacity=\"0.0\" stroke=\"rgb(71,71,71)\" stroke-opacity=\"1.0\" stroke-width=\"0.0\" d=\"M0.0 0.0 L0.0 400.0 L600.0 400.0 L600.0 0.0 Z\">\n    </path>\n  </g>\n  <g id=\"duG97Cd\">\n  </g>\n</svg>\n        <script>document.getElementById(\"56b03086-3fc4-4ea5-8a19-e59bdd505028\").style.display = \"none\";</script>",
      "application/plot+json": {
       "output_type": "lets_plot_spec",
       "output": {
        "mapping": {},
        "data": {},
        "kind": "plot",
        "scales": [
         {
          "aesthetic": "x",
          "name": "x",
          "limits": [
           null,
           null
          ]
         },
         {
          "aesthetic": "y",
          "name": "",
          "limits": [
           null,
           null
          ]
         },
         {
          "aesthetic": "x",
          "discrete": true
         },
         {
          "aesthetic": "fill",
          "values": [
           "#3ba272",
           "#ee6666"
          ],
          "limits": [
           true,
           false
          ],
          "guide": "none"
         },
         {
          "aesthetic": "color",
          "values": [
           "#3ba272",
           "#ee6666"
          ],
          "limits": [
           true,
           false
          ],
          "guide": "none"
         },
         {
          "aesthetic": "linetype",
          "values": [
           1.0,
           1.0
          ],
          "limits": [
           true,
           false
          ],
          "guide": "none"
         },
         {
          "aesthetic": "size",
          "values": [
           0.6,
           0.6
          ],
          "limits": [
           true,
           false
          ],
          "guide": "none"
         },
         {
          "aesthetic": "alpha",
          "values": [
           1.0,
           1.0
          ],
          "limits": [
           true,
           false
          ],
          "guide": "none"
         },
         {
          "aesthetic": "y",
          "name": "y",
          "limits": [
           null,
           null
          ]
         }
        ],
        "layers": [
         {
          "mapping": {
           "x": "x",
           "ymin": "min",
           "lower": "lower",
           "middle": "middle",
           "upper": "upper",
           "ymax": "max",
           "fill": "isIncreased",
           "color": "isIncreased",
           "linetype": "isIncreased",
           "size": "isIncreased",
           "alpha": "isIncreased"
          },
          "stat": "identity",
          "data": {
           "min": [
            7.5,
            6.1,
            8.5,
            5.4,
            4.0
           ],
           "middle": [
            null,
            null,
            null,
            null,
            null
           ],
           "max": [
            15.5,
            9.6,
            10.7,
            11.7,
            9.9
           ],
           "isIncreased": [
            false,
            true,
            true,
            false,
            true
           ],
           "lower": [
            8.0,
            6.7,
            8.8,
            6.5,
            4.0
           ],
           "upper": [
            14.2,
            8.6,
            10.7,
            11.2,
            9.8
           ],
           "x": [
            "Jan",
            "Feb",
            "Mar",
            "Apr",
            "May"
           ],
           "close": [
            8.0,
            8.6,
            10.7,
            6.5,
            9.8
           ],
           "open": [
            14.2,
            6.7,
            8.8,
            11.2,
            4.0
           ]
          },
          "whisker_width": 0.0,
          "sampling": "none",
          "position": "identity",
          "geom": "boxplot",
          "tooltips": {
           "formats": [
            {
             "field": "open",
             "format": ".2f"
            },
            {
             "field": "max",
             "format": ".2f"
            },
            {
             "field": "min",
             "format": ".2f"
            },
            {
             "field": "close",
             "format": ".2f"
            }
           ],
           "title": "@x",
           "lines": [
            "open|@open",
            "high|@max",
            "low|@min",
            "close|@close"
           ],
           "disable_splitting": true
          }
         }
        ]
       },
       "apply_color_scheme": true,
       "swing_enabled": true
      }
     },
     "execution_count": 10,
     "metadata": {},
     "output_type": "execute_result"
    }
   ],
   "source": [
    "candlestick(xList, openList, highList, lowList, closeList)"
   ],
   "metadata": {
    "collapsed": false,
    "ExecuteTime": {
     "end_time": "2024-02-22T11:05:40.819260Z",
     "start_time": "2024-02-22T11:05:40.702456Z"
    }
   }
  },
  {
   "cell_type": "code",
   "execution_count": 11,
   "outputs": [
    {
     "data": {
      "text/html": "            <iframe src='about:blank' style='border:none !important;' width='600' height='400' srcdoc=\"&lt;html lang=&quot;en&quot;>\n   &lt;head>\n       &lt;meta charset=&quot;UTF-8&quot;>\n       &lt;style> html, body { margin: 0; overflow: hidden; } &lt;/style>\n       &lt;script type=&quot;text/javascript&quot; data-lets-plot-script=&quot;library&quot; src=&quot;https://cdn.jsdelivr.net/gh/JetBrains/lets-plot@v4.2.0/js-package/distr/lets-plot.min.js&quot;>&lt;/script>\n   &lt;/head>\n   &lt;body>\n          &lt;div id=&quot;BHdsXw&quot;>&lt;/div>\n   &lt;script type=&quot;text/javascript&quot; data-lets-plot-script=&quot;plot&quot;>\n       var plotSpec={\n&quot;mapping&quot;:{\n},\n&quot;data&quot;:{\n},\n&quot;kind&quot;:&quot;plot&quot;,\n&quot;scales&quot;:[{\n&quot;aesthetic&quot;:&quot;x&quot;,\n&quot;name&quot;:&quot;x&quot;,\n&quot;limits&quot;:[null,null]\n},{\n&quot;aesthetic&quot;:&quot;y&quot;,\n&quot;name&quot;:&quot;&quot;,\n&quot;limits&quot;:[null,null]\n},{\n&quot;aesthetic&quot;:&quot;x&quot;,\n&quot;discrete&quot;:true\n},{\n&quot;aesthetic&quot;:&quot;fill&quot;,\n&quot;values&quot;:[&quot;#3ba272&quot;,&quot;#ee6666&quot;],\n&quot;limits&quot;:[true,false],\n&quot;guide&quot;:&quot;none&quot;\n},{\n&quot;aesthetic&quot;:&quot;color&quot;,\n&quot;values&quot;:[&quot;#3ba272&quot;,&quot;#ee6666&quot;],\n&quot;limits&quot;:[true,false],\n&quot;guide&quot;:&quot;none&quot;\n},{\n&quot;aesthetic&quot;:&quot;linetype&quot;,\n&quot;values&quot;:[1.0,1.0],\n&quot;limits&quot;:[true,false],\n&quot;guide&quot;:&quot;none&quot;\n},{\n&quot;aesthetic&quot;:&quot;size&quot;,\n&quot;values&quot;:[0.6,0.6],\n&quot;limits&quot;:[true,false],\n&quot;guide&quot;:&quot;none&quot;\n},{\n&quot;aesthetic&quot;:&quot;alpha&quot;,\n&quot;values&quot;:[1.0,1.0],\n&quot;limits&quot;:[true,false],\n&quot;guide&quot;:&quot;none&quot;\n},{\n&quot;aesthetic&quot;:&quot;y&quot;,\n&quot;name&quot;:&quot;y&quot;,\n&quot;limits&quot;:[null,null]\n}],\n&quot;layers&quot;:[{\n&quot;mapping&quot;:{\n&quot;x&quot;:&quot;x&quot;,\n&quot;ymin&quot;:&quot;min&quot;,\n&quot;lower&quot;:&quot;lower&quot;,\n&quot;middle&quot;:&quot;middle&quot;,\n&quot;upper&quot;:&quot;upper&quot;,\n&quot;ymax&quot;:&quot;max&quot;,\n&quot;fill&quot;:&quot;isIncreased&quot;,\n&quot;color&quot;:&quot;isIncreased&quot;,\n&quot;linetype&quot;:&quot;isIncreased&quot;,\n&quot;size&quot;:&quot;isIncreased&quot;,\n&quot;alpha&quot;:&quot;isIncreased&quot;\n},\n&quot;stat&quot;:&quot;identity&quot;,\n&quot;data&quot;:{\n&quot;min&quot;:[7.5,6.1,8.5,5.4,4.0],\n&quot;middle&quot;:[null,null,null,null,null],\n&quot;max&quot;:[15.5,9.6,10.7,11.7,9.9],\n&quot;isIncreased&quot;:[false,true,true,false,true],\n&quot;upper&quot;:[14.2,8.6,10.7,11.2,9.8],\n&quot;lower&quot;:[8.0,6.7,8.8,6.5,4.0],\n&quot;x&quot;:[&quot;Jan&quot;,&quot;Feb&quot;,&quot;Mar&quot;,&quot;Apr&quot;,&quot;May&quot;],\n&quot;close&quot;:[8.0,8.6,10.7,6.5,9.8],\n&quot;open&quot;:[14.2,6.7,8.8,11.2,4.0]\n},\n&quot;whisker_width&quot;:0.0,\n&quot;sampling&quot;:&quot;none&quot;,\n&quot;position&quot;:&quot;identity&quot;,\n&quot;geom&quot;:&quot;boxplot&quot;,\n&quot;tooltips&quot;:{\n&quot;formats&quot;:[{\n&quot;field&quot;:&quot;open&quot;,\n&quot;format&quot;:&quot;.2f&quot;\n},{\n&quot;field&quot;:&quot;max&quot;,\n&quot;format&quot;:&quot;.2f&quot;\n},{\n&quot;field&quot;:&quot;min&quot;,\n&quot;format&quot;:&quot;.2f&quot;\n},{\n&quot;field&quot;:&quot;close&quot;,\n&quot;format&quot;:&quot;.2f&quot;\n}],\n&quot;title&quot;:&quot;@x&quot;,\n&quot;lines&quot;:[&quot;open|@open&quot;,&quot;high|@max&quot;,&quot;low|@min&quot;,&quot;close|@close&quot;],\n&quot;disable_splitting&quot;:true\n}\n}]\n};\n       var plotContainer = document.getElementById(&quot;BHdsXw&quot;);\n       LetsPlot.buildPlotFromProcessedSpecs(plotSpec, -1, -1, plotContainer);\n   &lt;/script>\n   &lt;/body>\n&lt;/html>\"></iframe>            <svg xmlns=\"http://www.w3.org/2000/svg\" xmlns:xlink=\"http://www.w3.org/1999/xlink\" class=\"plt-container\" id=912ed323-4202-40bb-9ab8-fa7f81b33289 width=\"100%\" height=\"100%\" style=\"max-width: 600.0px; max-height: 400.0px;\" viewBox=\"0 0 600.0 400.0\" preserveAspectRatio=\"xMinYMin meet\">\n  <style type=\"text/css\">\n  .plt-container {\n   font-family: Lucida Grande, sans-serif;\n   user-select: none;\n   -webkit-user-select: none;\n   -moz-user-select: none;\n   -ms-user-select: none;\n}\ntext {\n   text-rendering: optimizeLegibility;\n}\n#pughA2Q .plot-title {\n   fill: #474747;\n   font-family: Lucida Grande, sans-serif;\n   font-size: 16.0px;\n   font-weight: normal;\n   font-style: normal;   \n}\n#pughA2Q .plot-subtitle {\n   fill: #474747;\n   font-family: Lucida Grande, sans-serif;\n   font-size: 15.0px;\n   font-weight: normal;\n   font-style: normal;   \n}\n#pughA2Q .plot-caption {\n   fill: #474747;\n   font-family: Lucida Grande, sans-serif;\n   font-size: 13.0px;\n   font-weight: normal;\n   font-style: normal;   \n}\n#pughA2Q .legend-title {\n   fill: #474747;\n   font-family: Lucida Grande, sans-serif;\n   font-size: 15.0px;\n   font-weight: normal;\n   font-style: normal;   \n}\n#pughA2Q .legend-item {\n   fill: #474747;\n   font-family: Lucida Grande, sans-serif;\n   font-size: 13.0px;\n   font-weight: normal;\n   font-style: normal;   \n}\n#pughA2Q .axis-title-x {\n   fill: #474747;\n   font-family: Lucida Grande, sans-serif;\n   font-size: 15.0px;\n   font-weight: normal;\n   font-style: normal;   \n}\n#pughA2Q .axis-text-x {\n   fill: #474747;\n   font-family: Lucida Grande, sans-serif;\n   font-size: 13.0px;\n   font-weight: normal;\n   font-style: normal;   \n}\n#d7yDTmw .axis-tooltip-text-x {\n   fill: #ffffff;\n   font-family: Lucida Grande, sans-serif;\n   font-size: 13.0px;\n   font-weight: normal;\n   font-style: normal;   \n}\n#pughA2Q .axis-title-y {\n   fill: #474747;\n   font-family: Lucida Grande, sans-serif;\n   font-size: 15.0px;\n   font-weight: normal;\n   font-style: normal;   \n}\n#pughA2Q .axis-text-y {\n   fill: #474747;\n   font-family: Lucida Grande, sans-serif;\n   font-size: 13.0px;\n   font-weight: normal;\n   font-style: normal;   \n}\n#d7yDTmw .axis-tooltip-text-y {\n   fill: #ffffff;\n   font-family: Lucida Grande, sans-serif;\n   font-size: 13.0px;\n   font-weight: normal;\n   font-style: normal;   \n}\n#pughA2Q .facet-strip-text-x {\n   fill: #474747;\n   font-family: Lucida Grande, sans-serif;\n   font-size: 13.0px;\n   font-weight: normal;\n   font-style: normal;   \n}\n#pughA2Q .facet-strip-text-y {\n   fill: #474747;\n   font-family: Lucida Grande, sans-serif;\n   font-size: 13.0px;\n   font-weight: normal;\n   font-style: normal;   \n}\n#d7yDTmw .tooltip-text {\n   fill: #474747;\n   font-family: Lucida Grande, sans-serif;\n   font-size: 13.0px;\n   font-weight: normal;\n   font-style: normal;   \n}\n#d7yDTmw .tooltip-title {\n   fill: #474747;\n   font-family: Lucida Grande, sans-serif;\n   font-size: 13.0px;\n   font-weight: bold;\n   font-style: normal;   \n}\n#d7yDTmw .tooltip-label {\n   fill: #474747;\n   font-family: Lucida Grande, sans-serif;\n   font-size: 13.0px;\n   font-weight: bold;\n   font-style: normal;   \n}\n\n  </style>\n  <g id=\"pughA2Q\">\n    <path fill-rule=\"evenodd\" fill=\"rgb(255,255,255)\" fill-opacity=\"1.0\" d=\"M0.0 0.0 L0.0 400.0 L600.0 400.0 L600.0 0.0 Z\">\n    </path>\n    <g transform=\"translate(23.0 10.0 ) \">\n      <g transform=\"translate(21.961210910936405 0.0 ) \">\n        <line x1=\"66.84437979394175\" y1=\"344.0\" x2=\"66.84437979394175\" y2=\"0.0\" stroke=\"rgb(233,233,233)\" stroke-opacity=\"1.0\" stroke-width=\"1.0\" fill=\"none\">\n        </line>\n        <line x1=\"169.68188716923675\" y1=\"344.0\" x2=\"169.68188716923675\" y2=\"0.0\" stroke=\"rgb(233,233,233)\" stroke-opacity=\"1.0\" stroke-width=\"1.0\" fill=\"none\">\n        </line>\n        <line x1=\"272.5193945445318\" y1=\"344.0\" x2=\"272.5193945445318\" y2=\"0.0\" stroke=\"rgb(233,233,233)\" stroke-opacity=\"1.0\" stroke-width=\"1.0\" fill=\"none\">\n        </line>\n        <line x1=\"375.3569019198268\" y1=\"344.0\" x2=\"375.3569019198268\" y2=\"0.0\" stroke=\"rgb(233,233,233)\" stroke-opacity=\"1.0\" stroke-width=\"1.0\" fill=\"none\">\n        </line>\n        <line x1=\"478.1944092951218\" y1=\"344.0\" x2=\"478.1944092951218\" y2=\"0.0\" stroke=\"rgb(233,233,233)\" stroke-opacity=\"1.0\" stroke-width=\"1.0\" fill=\"none\">\n        </line>\n      </g>\n      <g transform=\"translate(21.961210910936405 344.0 ) \">\n        <g transform=\"translate(66.84437979394175 0.0 ) \">\n          <line stroke-width=\"1.0\" stroke=\"rgb(71,71,71)\" stroke-opacity=\"1.0\" x2=\"0.0\" y2=\"4.0\">\n          </line>\n          <g transform=\"translate(0.0 7.0 ) \">\n            <text class=\"axis-text-x\" text-anchor=\"middle\" dy=\"0.7em\">\n              <tspan>Jan</tspan>\n            </text>\n          </g>\n        </g>\n        <g transform=\"translate(169.68188716923675 0.0 ) \">\n          <line stroke-width=\"1.0\" stroke=\"rgb(71,71,71)\" stroke-opacity=\"1.0\" x2=\"0.0\" y2=\"4.0\">\n          </line>\n          <g transform=\"translate(0.0 7.0 ) \">\n            <text class=\"axis-text-x\" text-anchor=\"middle\" dy=\"0.7em\">\n              <tspan>Feb</tspan>\n            </text>\n          </g>\n        </g>\n        <g transform=\"translate(272.5193945445318 0.0 ) \">\n          <line stroke-width=\"1.0\" stroke=\"rgb(71,71,71)\" stroke-opacity=\"1.0\" x2=\"0.0\" y2=\"4.0\">\n          </line>\n          <g transform=\"translate(0.0 7.0 ) \">\n            <text class=\"axis-text-x\" text-anchor=\"middle\" dy=\"0.7em\">\n              <tspan>Mar</tspan>\n            </text>\n          </g>\n        </g>\n        <g transform=\"translate(375.3569019198268 0.0 ) \">\n          <line stroke-width=\"1.0\" stroke=\"rgb(71,71,71)\" stroke-opacity=\"1.0\" x2=\"0.0\" y2=\"4.0\">\n          </line>\n          <g transform=\"translate(0.0 7.0 ) \">\n            <text class=\"axis-text-x\" text-anchor=\"middle\" dy=\"0.7em\">\n              <tspan>Apr</tspan>\n            </text>\n          </g>\n        </g>\n        <g transform=\"translate(478.1944092951218 0.0 ) \">\n          <line stroke-width=\"1.0\" stroke=\"rgb(71,71,71)\" stroke-opacity=\"1.0\" x2=\"0.0\" y2=\"4.0\">\n          </line>\n          <g transform=\"translate(0.0 7.0 ) \">\n            <text class=\"axis-text-x\" text-anchor=\"middle\" dy=\"0.7em\">\n              <tspan>May</tspan>\n            </text>\n          </g>\n        </g>\n        <line x1=\"0.0\" y1=\"0.0\" x2=\"545.0387890890636\" y2=\"0.0\" stroke-width=\"1.0\" stroke=\"rgb(71,71,71)\" stroke-opacity=\"1.0\">\n        </line>\n      </g>\n      <g transform=\"translate(21.961210910936405 0.0 ) \">\n        <line x1=\"0.0\" y1=\"328.3636363636364\" x2=\"545.0387890890636\" y2=\"328.3636363636364\" stroke=\"rgb(233,233,233)\" stroke-opacity=\"1.0\" stroke-width=\"1.0\" fill=\"none\">\n        </line>\n        <line x1=\"0.0\" y1=\"273.97628458498025\" x2=\"545.0387890890636\" y2=\"273.97628458498025\" stroke=\"rgb(233,233,233)\" stroke-opacity=\"1.0\" stroke-width=\"1.0\" fill=\"none\">\n        </line>\n        <line x1=\"0.0\" y1=\"219.5889328063241\" x2=\"545.0387890890636\" y2=\"219.5889328063241\" stroke=\"rgb(233,233,233)\" stroke-opacity=\"1.0\" stroke-width=\"1.0\" fill=\"none\">\n        </line>\n        <line x1=\"0.0\" y1=\"165.20158102766794\" x2=\"545.0387890890636\" y2=\"165.20158102766794\" stroke=\"rgb(233,233,233)\" stroke-opacity=\"1.0\" stroke-width=\"1.0\" fill=\"none\">\n        </line>\n        <line x1=\"0.0\" y1=\"110.81422924901182\" x2=\"545.0387890890636\" y2=\"110.81422924901182\" stroke=\"rgb(233,233,233)\" stroke-opacity=\"1.0\" stroke-width=\"1.0\" fill=\"none\">\n        </line>\n        <line x1=\"0.0\" y1=\"56.42687747035569\" x2=\"545.0387890890636\" y2=\"56.42687747035569\" stroke=\"rgb(233,233,233)\" stroke-opacity=\"1.0\" stroke-width=\"1.0\" fill=\"none\">\n        </line>\n      </g>\n      <g transform=\"translate(21.961210910936405 0.0 ) \">\n        <g transform=\"translate(0.0 328.3636363636364 ) \">\n          <g transform=\"translate(-3.0 0.0 ) \">\n            <text class=\"axis-text-y\" text-anchor=\"end\" dy=\"0.35em\">\n              <tspan>4</tspan>\n            </text>\n          </g>\n        </g>\n        <g transform=\"translate(0.0 273.97628458498025 ) \">\n          <g transform=\"translate(-3.0 0.0 ) \">\n            <text class=\"axis-text-y\" text-anchor=\"end\" dy=\"0.35em\">\n              <tspan>6</tspan>\n            </text>\n          </g>\n        </g>\n        <g transform=\"translate(0.0 219.5889328063241 ) \">\n          <g transform=\"translate(-3.0 0.0 ) \">\n            <text class=\"axis-text-y\" text-anchor=\"end\" dy=\"0.35em\">\n              <tspan>8</tspan>\n            </text>\n          </g>\n        </g>\n        <g transform=\"translate(0.0 165.20158102766794 ) \">\n          <g transform=\"translate(-3.0 0.0 ) \">\n            <text class=\"axis-text-y\" text-anchor=\"end\" dy=\"0.35em\">\n              <tspan>10</tspan>\n            </text>\n          </g>\n        </g>\n        <g transform=\"translate(0.0 110.81422924901182 ) \">\n          <g transform=\"translate(-3.0 0.0 ) \">\n            <text class=\"axis-text-y\" text-anchor=\"end\" dy=\"0.35em\">\n              <tspan>12</tspan>\n            </text>\n          </g>\n        </g>\n        <g transform=\"translate(0.0 56.42687747035569 ) \">\n          <g transform=\"translate(-3.0 0.0 ) \">\n            <text class=\"axis-text-y\" text-anchor=\"end\" dy=\"0.35em\">\n              <tspan>14</tspan>\n            </text>\n          </g>\n        </g>\n        <g transform=\"translate(0.0 2.0395256916995663 ) \">\n          <g transform=\"translate(-3.0 0.0 ) \">\n            <text class=\"axis-text-y\" text-anchor=\"end\" dy=\"0.35em\">\n              <tspan>16</tspan>\n            </text>\n          </g>\n        </g>\n      </g>\n      <g transform=\"translate(21.961210910936405 0.0 ) \" clip-path=\"url(#cGjrSM6)\" clip-bounds-jfx=\"[rect (0.0, 0.0), (545.0387890890636, 344.0)]\">\n        <defs>\n          <clipPath id=\"cGjrSM6\">\n            <rect x=\"0.0\" y=\"0.0\" width=\"545.0387890890636\" height=\"344.0\">\n            </rect>\n          </clipPath>\n        </defs>\n        <rect x=\"20.567501475059004\" y=\"50.988142292490124\" height=\"168.60079051383397\" width=\"92.5537566377655\" stroke=\"rgb(238,102,102)\" stroke-opacity=\"1.0\" fill=\"rgb(238,102,102)\" fill-opacity=\"1.0\" stroke-width=\"1.32\">\n        </rect>\n        <rect x=\"123.40500885035402\" y=\"203.27272727272725\" height=\"51.66798418972331\" width=\"92.5537566377655\" stroke=\"rgb(59,162,114)\" stroke-opacity=\"1.0\" fill=\"rgb(59,162,114)\" fill-opacity=\"1.0\" stroke-width=\"1.32\">\n        </rect>\n        <rect x=\"226.242516225649\" y=\"146.16600790513831\" height=\"51.66798418972331\" width=\"92.5537566377655\" stroke=\"rgb(59,162,114)\" stroke-opacity=\"1.0\" fill=\"rgb(59,162,114)\" fill-opacity=\"1.0\" stroke-width=\"1.32\">\n        </rect>\n        <rect x=\"329.080023600944\" y=\"132.5691699604743\" height=\"127.81027667984188\" width=\"92.5537566377655\" stroke=\"rgb(238,102,102)\" stroke-opacity=\"1.0\" fill=\"rgb(238,102,102)\" fill-opacity=\"1.0\" stroke-width=\"1.32\">\n        </rect>\n        <rect x=\"431.917530976239\" y=\"170.64031620553357\" height=\"157.7233201581028\" width=\"92.5537566377655\" stroke=\"rgb(59,162,114)\" stroke-opacity=\"1.0\" fill=\"rgb(59,162,114)\" fill-opacity=\"1.0\" stroke-width=\"1.32\">\n        </rect>\n        <line x1=\"66.84437979394175\" y1=\"219.5889328063241\" x2=\"66.84437979394175\" y2=\"233.18577075098813\" stroke=\"rgb(238,102,102)\" stroke-opacity=\"1.0\" fill=\"rgb(238,102,102)\" fill-opacity=\"1.0\" stroke-width=\"1.32\">\n        </line>\n        <line x1=\"66.84437979394175\" y1=\"233.18577075098813\" x2=\"66.84437979394175\" y2=\"233.18577075098813\" stroke=\"rgb(238,102,102)\" stroke-opacity=\"1.0\" fill=\"rgb(238,102,102)\" fill-opacity=\"1.0\" stroke-width=\"1.32\">\n        </line>\n        <line x1=\"66.84437979394175\" y1=\"50.988142292490124\" x2=\"66.84437979394175\" y2=\"15.636363636363626\" stroke=\"rgb(238,102,102)\" stroke-opacity=\"1.0\" fill=\"rgb(238,102,102)\" fill-opacity=\"1.0\" stroke-width=\"1.32\">\n        </line>\n        <line x1=\"66.84437979394175\" y1=\"15.636363636363626\" x2=\"66.84437979394175\" y2=\"15.636363636363626\" stroke=\"rgb(238,102,102)\" stroke-opacity=\"1.0\" fill=\"rgb(238,102,102)\" fill-opacity=\"1.0\" stroke-width=\"1.32\">\n        </line>\n        <line x1=\"169.68188716923675\" y1=\"254.94071146245057\" x2=\"169.68188716923675\" y2=\"271.25691699604744\" stroke=\"rgb(59,162,114)\" stroke-opacity=\"1.0\" fill=\"rgb(59,162,114)\" fill-opacity=\"1.0\" stroke-width=\"1.32\">\n        </line>\n        <line x1=\"169.68188716923675\" y1=\"271.25691699604744\" x2=\"169.68188716923675\" y2=\"271.25691699604744\" stroke=\"rgb(59,162,114)\" stroke-opacity=\"1.0\" fill=\"rgb(59,162,114)\" fill-opacity=\"1.0\" stroke-width=\"1.32\">\n        </line>\n        <line x1=\"169.68188716923675\" y1=\"203.27272727272725\" x2=\"169.68188716923675\" y2=\"176.0790513833992\" stroke=\"rgb(59,162,114)\" stroke-opacity=\"1.0\" fill=\"rgb(59,162,114)\" fill-opacity=\"1.0\" stroke-width=\"1.32\">\n        </line>\n        <line x1=\"169.68188716923675\" y1=\"176.0790513833992\" x2=\"169.68188716923675\" y2=\"176.0790513833992\" stroke=\"rgb(59,162,114)\" stroke-opacity=\"1.0\" fill=\"rgb(59,162,114)\" fill-opacity=\"1.0\" stroke-width=\"1.32\">\n        </line>\n        <line x1=\"272.5193945445318\" y1=\"197.83399209486163\" x2=\"272.5193945445318\" y2=\"205.99209486166006\" stroke=\"rgb(59,162,114)\" stroke-opacity=\"1.0\" fill=\"rgb(59,162,114)\" fill-opacity=\"1.0\" stroke-width=\"1.32\">\n        </line>\n        <line x1=\"272.5193945445318\" y1=\"205.99209486166006\" x2=\"272.5193945445318\" y2=\"205.99209486166006\" stroke=\"rgb(59,162,114)\" stroke-opacity=\"1.0\" fill=\"rgb(59,162,114)\" fill-opacity=\"1.0\" stroke-width=\"1.32\">\n        </line>\n        <line x1=\"272.5193945445318\" y1=\"146.16600790513831\" x2=\"272.5193945445318\" y2=\"146.16600790513831\" stroke=\"rgb(59,162,114)\" stroke-opacity=\"1.0\" fill=\"rgb(59,162,114)\" fill-opacity=\"1.0\" stroke-width=\"1.32\">\n        </line>\n        <line x1=\"272.5193945445318\" y1=\"146.16600790513831\" x2=\"272.5193945445318\" y2=\"146.16600790513831\" stroke=\"rgb(59,162,114)\" stroke-opacity=\"1.0\" fill=\"rgb(59,162,114)\" fill-opacity=\"1.0\" stroke-width=\"1.32\">\n        </line>\n        <line x1=\"375.3569019198268\" y1=\"260.3794466403162\" x2=\"375.3569019198268\" y2=\"290.29249011857706\" stroke=\"rgb(238,102,102)\" stroke-opacity=\"1.0\" fill=\"rgb(238,102,102)\" fill-opacity=\"1.0\" stroke-width=\"1.32\">\n        </line>\n        <line x1=\"375.3569019198268\" y1=\"290.29249011857706\" x2=\"375.3569019198268\" y2=\"290.29249011857706\" stroke=\"rgb(238,102,102)\" stroke-opacity=\"1.0\" fill=\"rgb(238,102,102)\" fill-opacity=\"1.0\" stroke-width=\"1.32\">\n        </line>\n        <line x1=\"375.3569019198268\" y1=\"132.5691699604743\" x2=\"375.3569019198268\" y2=\"118.97233201581025\" stroke=\"rgb(238,102,102)\" stroke-opacity=\"1.0\" fill=\"rgb(238,102,102)\" fill-opacity=\"1.0\" stroke-width=\"1.32\">\n        </line>\n        <line x1=\"375.3569019198268\" y1=\"118.97233201581025\" x2=\"375.3569019198268\" y2=\"118.97233201581025\" stroke=\"rgb(238,102,102)\" stroke-opacity=\"1.0\" fill=\"rgb(238,102,102)\" fill-opacity=\"1.0\" stroke-width=\"1.32\">\n        </line>\n        <line x1=\"478.1944092951218\" y1=\"328.3636363636364\" x2=\"478.1944092951218\" y2=\"328.3636363636364\" stroke=\"rgb(59,162,114)\" stroke-opacity=\"1.0\" fill=\"rgb(59,162,114)\" fill-opacity=\"1.0\" stroke-width=\"1.32\">\n        </line>\n        <line x1=\"478.1944092951218\" y1=\"328.3636363636364\" x2=\"478.1944092951218\" y2=\"328.3636363636364\" stroke=\"rgb(59,162,114)\" stroke-opacity=\"1.0\" fill=\"rgb(59,162,114)\" fill-opacity=\"1.0\" stroke-width=\"1.32\">\n        </line>\n        <line x1=\"478.1944092951218\" y1=\"170.64031620553357\" x2=\"478.1944092951218\" y2=\"167.92094861660075\" stroke=\"rgb(59,162,114)\" stroke-opacity=\"1.0\" fill=\"rgb(59,162,114)\" fill-opacity=\"1.0\" stroke-width=\"1.32\">\n        </line>\n        <line x1=\"478.1944092951218\" y1=\"167.92094861660075\" x2=\"478.1944092951218\" y2=\"167.92094861660075\" stroke=\"rgb(59,162,114)\" stroke-opacity=\"1.0\" fill=\"rgb(59,162,114)\" fill-opacity=\"1.0\" stroke-width=\"1.32\">\n        </line>\n      </g>\n    </g>\n    <g transform=\"translate(14.5 182.0 ) rotate(-90.0 ) \">\n      <text class=\"axis-title-y\" y=\"0.0\" text-anchor=\"middle\">\n        <tspan>y</tspan>\n      </text>\n    </g>\n    <g transform=\"translate(317.4806054554682 391.5 ) \">\n      <text class=\"axis-title-x\" y=\"0.0\" text-anchor=\"middle\">\n        <tspan>x</tspan>\n      </text>\n    </g>\n    <path fill=\"rgb(0,0,0)\" fill-opacity=\"0.0\" stroke=\"rgb(71,71,71)\" stroke-opacity=\"1.0\" stroke-width=\"0.0\" d=\"M0.0 0.0 L0.0 400.0 L600.0 400.0 L600.0 0.0 Z\">\n    </path>\n  </g>\n  <g id=\"d7yDTmw\">\n  </g>\n</svg>\n        <script>document.getElementById(\"912ed323-4202-40bb-9ab8-fa7f81b33289\").style.display = \"none\";</script>",
      "application/plot+json": {
       "output_type": "lets_plot_spec",
       "output": {
        "mapping": {},
        "data": {},
        "kind": "plot",
        "scales": [
         {
          "aesthetic": "x",
          "name": "x",
          "limits": [
           null,
           null
          ]
         },
         {
          "aesthetic": "y",
          "name": "",
          "limits": [
           null,
           null
          ]
         },
         {
          "aesthetic": "x",
          "discrete": true
         },
         {
          "aesthetic": "fill",
          "values": [
           "#3ba272",
           "#ee6666"
          ],
          "limits": [
           true,
           false
          ],
          "guide": "none"
         },
         {
          "aesthetic": "color",
          "values": [
           "#3ba272",
           "#ee6666"
          ],
          "limits": [
           true,
           false
          ],
          "guide": "none"
         },
         {
          "aesthetic": "linetype",
          "values": [
           1.0,
           1.0
          ],
          "limits": [
           true,
           false
          ],
          "guide": "none"
         },
         {
          "aesthetic": "size",
          "values": [
           0.6,
           0.6
          ],
          "limits": [
           true,
           false
          ],
          "guide": "none"
         },
         {
          "aesthetic": "alpha",
          "values": [
           1.0,
           1.0
          ],
          "limits": [
           true,
           false
          ],
          "guide": "none"
         },
         {
          "aesthetic": "y",
          "name": "y",
          "limits": [
           null,
           null
          ]
         }
        ],
        "layers": [
         {
          "mapping": {
           "x": "x",
           "ymin": "min",
           "lower": "lower",
           "middle": "middle",
           "upper": "upper",
           "ymax": "max",
           "fill": "isIncreased",
           "color": "isIncreased",
           "linetype": "isIncreased",
           "size": "isIncreased",
           "alpha": "isIncreased"
          },
          "stat": "identity",
          "data": {
           "min": [
            7.5,
            6.1,
            8.5,
            5.4,
            4.0
           ],
           "middle": [
            null,
            null,
            null,
            null,
            null
           ],
           "max": [
            15.5,
            9.6,
            10.7,
            11.7,
            9.9
           ],
           "isIncreased": [
            false,
            true,
            true,
            false,
            true
           ],
           "lower": [
            8.0,
            6.7,
            8.8,
            6.5,
            4.0
           ],
           "upper": [
            14.2,
            8.6,
            10.7,
            11.2,
            9.8
           ],
           "x": [
            "Jan",
            "Feb",
            "Mar",
            "Apr",
            "May"
           ],
           "close": [
            8.0,
            8.6,
            10.7,
            6.5,
            9.8
           ],
           "open": [
            14.2,
            6.7,
            8.8,
            11.2,
            4.0
           ]
          },
          "whisker_width": 0.0,
          "sampling": "none",
          "position": "identity",
          "geom": "boxplot",
          "tooltips": {
           "formats": [
            {
             "field": "open",
             "format": ".2f"
            },
            {
             "field": "max",
             "format": ".2f"
            },
            {
             "field": "min",
             "format": ".2f"
            },
            {
             "field": "close",
             "format": ".2f"
            }
           ],
           "title": "@x",
           "lines": [
            "open|@open",
            "high|@max",
            "low|@min",
            "close|@close"
           ],
           "disable_splitting": true
          }
         }
        ]
       },
       "apply_color_scheme": true,
       "swing_enabled": true
      }
     },
     "execution_count": 11,
     "metadata": {},
     "output_type": "execute_result"
    }
   ],
   "source": [
    "df.candlestick(\"x\", \"open\", \"high\", \"low\", \"close\")"
   ],
   "metadata": {
    "collapsed": false,
    "ExecuteTime": {
     "end_time": "2024-02-22T11:05:40.913633Z",
     "start_time": "2024-02-22T11:05:40.821806Z"
    }
   }
  },
  {
   "cell_type": "markdown",
   "source": [
    "In case you want to provide inputs using column selection DSL, it's a bit different from the usual one —\n",
    "you should assign them throw invocation eponymous functions:"
   ],
   "metadata": {
    "collapsed": false
   }
  },
  {
   "cell_type": "code",
   "execution_count": 12,
   "outputs": [
    {
     "data": {
      "text/html": "            <iframe src='about:blank' style='border:none !important;' width='600' height='400' srcdoc=\"&lt;html lang=&quot;en&quot;>\n   &lt;head>\n       &lt;meta charset=&quot;UTF-8&quot;>\n       &lt;style> html, body { margin: 0; overflow: hidden; } &lt;/style>\n       &lt;script type=&quot;text/javascript&quot; data-lets-plot-script=&quot;library&quot; src=&quot;https://cdn.jsdelivr.net/gh/JetBrains/lets-plot@v4.2.0/js-package/distr/lets-plot.min.js&quot;>&lt;/script>\n   &lt;/head>\n   &lt;body>\n          &lt;div id=&quot;nlx6Tr&quot;>&lt;/div>\n   &lt;script type=&quot;text/javascript&quot; data-lets-plot-script=&quot;plot&quot;>\n       var plotSpec={\n&quot;mapping&quot;:{\n},\n&quot;data&quot;:{\n},\n&quot;kind&quot;:&quot;plot&quot;,\n&quot;scales&quot;:[{\n&quot;aesthetic&quot;:&quot;x&quot;,\n&quot;name&quot;:&quot;x&quot;,\n&quot;limits&quot;:[null,null]\n},{\n&quot;aesthetic&quot;:&quot;y&quot;,\n&quot;name&quot;:&quot;&quot;,\n&quot;limits&quot;:[null,null]\n},{\n&quot;aesthetic&quot;:&quot;x&quot;,\n&quot;discrete&quot;:true\n},{\n&quot;aesthetic&quot;:&quot;fill&quot;,\n&quot;values&quot;:[&quot;#3ba272&quot;,&quot;#ee6666&quot;],\n&quot;limits&quot;:[true,false],\n&quot;guide&quot;:&quot;none&quot;\n},{\n&quot;aesthetic&quot;:&quot;color&quot;,\n&quot;values&quot;:[&quot;#3ba272&quot;,&quot;#ee6666&quot;],\n&quot;limits&quot;:[true,false],\n&quot;guide&quot;:&quot;none&quot;\n},{\n&quot;aesthetic&quot;:&quot;linetype&quot;,\n&quot;values&quot;:[1.0,1.0],\n&quot;limits&quot;:[true,false],\n&quot;guide&quot;:&quot;none&quot;\n},{\n&quot;aesthetic&quot;:&quot;size&quot;,\n&quot;values&quot;:[0.6,0.6],\n&quot;limits&quot;:[true,false],\n&quot;guide&quot;:&quot;none&quot;\n},{\n&quot;aesthetic&quot;:&quot;alpha&quot;,\n&quot;values&quot;:[1.0,1.0],\n&quot;limits&quot;:[true,false],\n&quot;guide&quot;:&quot;none&quot;\n},{\n&quot;aesthetic&quot;:&quot;y&quot;,\n&quot;name&quot;:&quot;y&quot;,\n&quot;limits&quot;:[null,null]\n}],\n&quot;layers&quot;:[{\n&quot;mapping&quot;:{\n&quot;x&quot;:&quot;x&quot;,\n&quot;ymin&quot;:&quot;min&quot;,\n&quot;lower&quot;:&quot;lower&quot;,\n&quot;middle&quot;:&quot;middle&quot;,\n&quot;upper&quot;:&quot;upper&quot;,\n&quot;ymax&quot;:&quot;max&quot;,\n&quot;fill&quot;:&quot;isIncreased&quot;,\n&quot;color&quot;:&quot;isIncreased&quot;,\n&quot;linetype&quot;:&quot;isIncreased&quot;,\n&quot;size&quot;:&quot;isIncreased&quot;,\n&quot;alpha&quot;:&quot;isIncreased&quot;\n},\n&quot;stat&quot;:&quot;identity&quot;,\n&quot;data&quot;:{\n&quot;middle&quot;:[null,null,null,null,null],\n&quot;min&quot;:[7.5,6.1,8.5,5.4,4.0],\n&quot;max&quot;:[15.5,9.6,10.7,11.7,9.9],\n&quot;isIncreased&quot;:[false,true,true,false,true],\n&quot;lower&quot;:[8.0,6.7,8.8,6.5,4.0],\n&quot;upper&quot;:[14.2,8.6,10.7,11.2,9.8],\n&quot;x&quot;:[&quot;Jan&quot;,&quot;Feb&quot;,&quot;Mar&quot;,&quot;Apr&quot;,&quot;May&quot;],\n&quot;close&quot;:[8.0,8.6,10.7,6.5,9.8],\n&quot;open&quot;:[14.2,6.7,8.8,11.2,4.0]\n},\n&quot;whisker_width&quot;:0.0,\n&quot;sampling&quot;:&quot;none&quot;,\n&quot;position&quot;:&quot;identity&quot;,\n&quot;geom&quot;:&quot;boxplot&quot;,\n&quot;tooltips&quot;:{\n&quot;formats&quot;:[{\n&quot;field&quot;:&quot;open&quot;,\n&quot;format&quot;:&quot;.2f&quot;\n},{\n&quot;field&quot;:&quot;max&quot;,\n&quot;format&quot;:&quot;.2f&quot;\n},{\n&quot;field&quot;:&quot;min&quot;,\n&quot;format&quot;:&quot;.2f&quot;\n},{\n&quot;field&quot;:&quot;close&quot;,\n&quot;format&quot;:&quot;.2f&quot;\n}],\n&quot;title&quot;:&quot;@x&quot;,\n&quot;lines&quot;:[&quot;open|@open&quot;,&quot;high|@max&quot;,&quot;low|@min&quot;,&quot;close|@close&quot;],\n&quot;disable_splitting&quot;:true\n}\n}]\n};\n       var plotContainer = document.getElementById(&quot;nlx6Tr&quot;);\n       LetsPlot.buildPlotFromProcessedSpecs(plotSpec, -1, -1, plotContainer);\n   &lt;/script>\n   &lt;/body>\n&lt;/html>\"></iframe>            <svg xmlns=\"http://www.w3.org/2000/svg\" xmlns:xlink=\"http://www.w3.org/1999/xlink\" class=\"plt-container\" id=21e1aeb0-8a51-4fa4-a1ad-d99c767367c7 width=\"100%\" height=\"100%\" style=\"max-width: 600.0px; max-height: 400.0px;\" viewBox=\"0 0 600.0 400.0\" preserveAspectRatio=\"xMinYMin meet\">\n  <style type=\"text/css\">\n  .plt-container {\n   font-family: Lucida Grande, sans-serif;\n   user-select: none;\n   -webkit-user-select: none;\n   -moz-user-select: none;\n   -ms-user-select: none;\n}\ntext {\n   text-rendering: optimizeLegibility;\n}\n#pwmlnY3 .plot-title {\n   fill: #474747;\n   font-family: Lucida Grande, sans-serif;\n   font-size: 16.0px;\n   font-weight: normal;\n   font-style: normal;   \n}\n#pwmlnY3 .plot-subtitle {\n   fill: #474747;\n   font-family: Lucida Grande, sans-serif;\n   font-size: 15.0px;\n   font-weight: normal;\n   font-style: normal;   \n}\n#pwmlnY3 .plot-caption {\n   fill: #474747;\n   font-family: Lucida Grande, sans-serif;\n   font-size: 13.0px;\n   font-weight: normal;\n   font-style: normal;   \n}\n#pwmlnY3 .legend-title {\n   fill: #474747;\n   font-family: Lucida Grande, sans-serif;\n   font-size: 15.0px;\n   font-weight: normal;\n   font-style: normal;   \n}\n#pwmlnY3 .legend-item {\n   fill: #474747;\n   font-family: Lucida Grande, sans-serif;\n   font-size: 13.0px;\n   font-weight: normal;\n   font-style: normal;   \n}\n#pwmlnY3 .axis-title-x {\n   fill: #474747;\n   font-family: Lucida Grande, sans-serif;\n   font-size: 15.0px;\n   font-weight: normal;\n   font-style: normal;   \n}\n#pwmlnY3 .axis-text-x {\n   fill: #474747;\n   font-family: Lucida Grande, sans-serif;\n   font-size: 13.0px;\n   font-weight: normal;\n   font-style: normal;   \n}\n#dTf11DR .axis-tooltip-text-x {\n   fill: #ffffff;\n   font-family: Lucida Grande, sans-serif;\n   font-size: 13.0px;\n   font-weight: normal;\n   font-style: normal;   \n}\n#pwmlnY3 .axis-title-y {\n   fill: #474747;\n   font-family: Lucida Grande, sans-serif;\n   font-size: 15.0px;\n   font-weight: normal;\n   font-style: normal;   \n}\n#pwmlnY3 .axis-text-y {\n   fill: #474747;\n   font-family: Lucida Grande, sans-serif;\n   font-size: 13.0px;\n   font-weight: normal;\n   font-style: normal;   \n}\n#dTf11DR .axis-tooltip-text-y {\n   fill: #ffffff;\n   font-family: Lucida Grande, sans-serif;\n   font-size: 13.0px;\n   font-weight: normal;\n   font-style: normal;   \n}\n#pwmlnY3 .facet-strip-text-x {\n   fill: #474747;\n   font-family: Lucida Grande, sans-serif;\n   font-size: 13.0px;\n   font-weight: normal;\n   font-style: normal;   \n}\n#pwmlnY3 .facet-strip-text-y {\n   fill: #474747;\n   font-family: Lucida Grande, sans-serif;\n   font-size: 13.0px;\n   font-weight: normal;\n   font-style: normal;   \n}\n#dTf11DR .tooltip-text {\n   fill: #474747;\n   font-family: Lucida Grande, sans-serif;\n   font-size: 13.0px;\n   font-weight: normal;\n   font-style: normal;   \n}\n#dTf11DR .tooltip-title {\n   fill: #474747;\n   font-family: Lucida Grande, sans-serif;\n   font-size: 13.0px;\n   font-weight: bold;\n   font-style: normal;   \n}\n#dTf11DR .tooltip-label {\n   fill: #474747;\n   font-family: Lucida Grande, sans-serif;\n   font-size: 13.0px;\n   font-weight: bold;\n   font-style: normal;   \n}\n\n  </style>\n  <g id=\"pwmlnY3\">\n    <path fill-rule=\"evenodd\" fill=\"rgb(255,255,255)\" fill-opacity=\"1.0\" d=\"M0.0 0.0 L0.0 400.0 L600.0 400.0 L600.0 0.0 Z\">\n    </path>\n    <g transform=\"translate(23.0 10.0 ) \">\n      <g transform=\"translate(21.961210910936405 0.0 ) \">\n        <line x1=\"66.84437979394175\" y1=\"344.0\" x2=\"66.84437979394175\" y2=\"0.0\" stroke=\"rgb(233,233,233)\" stroke-opacity=\"1.0\" stroke-width=\"1.0\" fill=\"none\">\n        </line>\n        <line x1=\"169.68188716923675\" y1=\"344.0\" x2=\"169.68188716923675\" y2=\"0.0\" stroke=\"rgb(233,233,233)\" stroke-opacity=\"1.0\" stroke-width=\"1.0\" fill=\"none\">\n        </line>\n        <line x1=\"272.5193945445318\" y1=\"344.0\" x2=\"272.5193945445318\" y2=\"0.0\" stroke=\"rgb(233,233,233)\" stroke-opacity=\"1.0\" stroke-width=\"1.0\" fill=\"none\">\n        </line>\n        <line x1=\"375.3569019198268\" y1=\"344.0\" x2=\"375.3569019198268\" y2=\"0.0\" stroke=\"rgb(233,233,233)\" stroke-opacity=\"1.0\" stroke-width=\"1.0\" fill=\"none\">\n        </line>\n        <line x1=\"478.1944092951218\" y1=\"344.0\" x2=\"478.1944092951218\" y2=\"0.0\" stroke=\"rgb(233,233,233)\" stroke-opacity=\"1.0\" stroke-width=\"1.0\" fill=\"none\">\n        </line>\n      </g>\n      <g transform=\"translate(21.961210910936405 344.0 ) \">\n        <g transform=\"translate(66.84437979394175 0.0 ) \">\n          <line stroke-width=\"1.0\" stroke=\"rgb(71,71,71)\" stroke-opacity=\"1.0\" x2=\"0.0\" y2=\"4.0\">\n          </line>\n          <g transform=\"translate(0.0 7.0 ) \">\n            <text class=\"axis-text-x\" text-anchor=\"middle\" dy=\"0.7em\">\n              <tspan>Jan</tspan>\n            </text>\n          </g>\n        </g>\n        <g transform=\"translate(169.68188716923675 0.0 ) \">\n          <line stroke-width=\"1.0\" stroke=\"rgb(71,71,71)\" stroke-opacity=\"1.0\" x2=\"0.0\" y2=\"4.0\">\n          </line>\n          <g transform=\"translate(0.0 7.0 ) \">\n            <text class=\"axis-text-x\" text-anchor=\"middle\" dy=\"0.7em\">\n              <tspan>Feb</tspan>\n            </text>\n          </g>\n        </g>\n        <g transform=\"translate(272.5193945445318 0.0 ) \">\n          <line stroke-width=\"1.0\" stroke=\"rgb(71,71,71)\" stroke-opacity=\"1.0\" x2=\"0.0\" y2=\"4.0\">\n          </line>\n          <g transform=\"translate(0.0 7.0 ) \">\n            <text class=\"axis-text-x\" text-anchor=\"middle\" dy=\"0.7em\">\n              <tspan>Mar</tspan>\n            </text>\n          </g>\n        </g>\n        <g transform=\"translate(375.3569019198268 0.0 ) \">\n          <line stroke-width=\"1.0\" stroke=\"rgb(71,71,71)\" stroke-opacity=\"1.0\" x2=\"0.0\" y2=\"4.0\">\n          </line>\n          <g transform=\"translate(0.0 7.0 ) \">\n            <text class=\"axis-text-x\" text-anchor=\"middle\" dy=\"0.7em\">\n              <tspan>Apr</tspan>\n            </text>\n          </g>\n        </g>\n        <g transform=\"translate(478.1944092951218 0.0 ) \">\n          <line stroke-width=\"1.0\" stroke=\"rgb(71,71,71)\" stroke-opacity=\"1.0\" x2=\"0.0\" y2=\"4.0\">\n          </line>\n          <g transform=\"translate(0.0 7.0 ) \">\n            <text class=\"axis-text-x\" text-anchor=\"middle\" dy=\"0.7em\">\n              <tspan>May</tspan>\n            </text>\n          </g>\n        </g>\n        <line x1=\"0.0\" y1=\"0.0\" x2=\"545.0387890890636\" y2=\"0.0\" stroke-width=\"1.0\" stroke=\"rgb(71,71,71)\" stroke-opacity=\"1.0\">\n        </line>\n      </g>\n      <g transform=\"translate(21.961210910936405 0.0 ) \">\n        <line x1=\"0.0\" y1=\"328.3636363636364\" x2=\"545.0387890890636\" y2=\"328.3636363636364\" stroke=\"rgb(233,233,233)\" stroke-opacity=\"1.0\" stroke-width=\"1.0\" fill=\"none\">\n        </line>\n        <line x1=\"0.0\" y1=\"273.97628458498025\" x2=\"545.0387890890636\" y2=\"273.97628458498025\" stroke=\"rgb(233,233,233)\" stroke-opacity=\"1.0\" stroke-width=\"1.0\" fill=\"none\">\n        </line>\n        <line x1=\"0.0\" y1=\"219.5889328063241\" x2=\"545.0387890890636\" y2=\"219.5889328063241\" stroke=\"rgb(233,233,233)\" stroke-opacity=\"1.0\" stroke-width=\"1.0\" fill=\"none\">\n        </line>\n        <line x1=\"0.0\" y1=\"165.20158102766794\" x2=\"545.0387890890636\" y2=\"165.20158102766794\" stroke=\"rgb(233,233,233)\" stroke-opacity=\"1.0\" stroke-width=\"1.0\" fill=\"none\">\n        </line>\n        <line x1=\"0.0\" y1=\"110.81422924901182\" x2=\"545.0387890890636\" y2=\"110.81422924901182\" stroke=\"rgb(233,233,233)\" stroke-opacity=\"1.0\" stroke-width=\"1.0\" fill=\"none\">\n        </line>\n        <line x1=\"0.0\" y1=\"56.42687747035569\" x2=\"545.0387890890636\" y2=\"56.42687747035569\" stroke=\"rgb(233,233,233)\" stroke-opacity=\"1.0\" stroke-width=\"1.0\" fill=\"none\">\n        </line>\n      </g>\n      <g transform=\"translate(21.961210910936405 0.0 ) \">\n        <g transform=\"translate(0.0 328.3636363636364 ) \">\n          <g transform=\"translate(-3.0 0.0 ) \">\n            <text class=\"axis-text-y\" text-anchor=\"end\" dy=\"0.35em\">\n              <tspan>4</tspan>\n            </text>\n          </g>\n        </g>\n        <g transform=\"translate(0.0 273.97628458498025 ) \">\n          <g transform=\"translate(-3.0 0.0 ) \">\n            <text class=\"axis-text-y\" text-anchor=\"end\" dy=\"0.35em\">\n              <tspan>6</tspan>\n            </text>\n          </g>\n        </g>\n        <g transform=\"translate(0.0 219.5889328063241 ) \">\n          <g transform=\"translate(-3.0 0.0 ) \">\n            <text class=\"axis-text-y\" text-anchor=\"end\" dy=\"0.35em\">\n              <tspan>8</tspan>\n            </text>\n          </g>\n        </g>\n        <g transform=\"translate(0.0 165.20158102766794 ) \">\n          <g transform=\"translate(-3.0 0.0 ) \">\n            <text class=\"axis-text-y\" text-anchor=\"end\" dy=\"0.35em\">\n              <tspan>10</tspan>\n            </text>\n          </g>\n        </g>\n        <g transform=\"translate(0.0 110.81422924901182 ) \">\n          <g transform=\"translate(-3.0 0.0 ) \">\n            <text class=\"axis-text-y\" text-anchor=\"end\" dy=\"0.35em\">\n              <tspan>12</tspan>\n            </text>\n          </g>\n        </g>\n        <g transform=\"translate(0.0 56.42687747035569 ) \">\n          <g transform=\"translate(-3.0 0.0 ) \">\n            <text class=\"axis-text-y\" text-anchor=\"end\" dy=\"0.35em\">\n              <tspan>14</tspan>\n            </text>\n          </g>\n        </g>\n        <g transform=\"translate(0.0 2.0395256916995663 ) \">\n          <g transform=\"translate(-3.0 0.0 ) \">\n            <text class=\"axis-text-y\" text-anchor=\"end\" dy=\"0.35em\">\n              <tspan>16</tspan>\n            </text>\n          </g>\n        </g>\n      </g>\n      <g transform=\"translate(21.961210910936405 0.0 ) \" clip-path=\"url(#cRdyEWQ)\" clip-bounds-jfx=\"[rect (0.0, 0.0), (545.0387890890636, 344.0)]\">\n        <defs>\n          <clipPath id=\"cRdyEWQ\">\n            <rect x=\"0.0\" y=\"0.0\" width=\"545.0387890890636\" height=\"344.0\">\n            </rect>\n          </clipPath>\n        </defs>\n        <rect x=\"20.567501475059004\" y=\"50.988142292490124\" height=\"168.60079051383397\" width=\"92.5537566377655\" stroke=\"rgb(238,102,102)\" stroke-opacity=\"1.0\" fill=\"rgb(238,102,102)\" fill-opacity=\"1.0\" stroke-width=\"1.32\">\n        </rect>\n        <rect x=\"123.40500885035402\" y=\"203.27272727272725\" height=\"51.66798418972331\" width=\"92.5537566377655\" stroke=\"rgb(59,162,114)\" stroke-opacity=\"1.0\" fill=\"rgb(59,162,114)\" fill-opacity=\"1.0\" stroke-width=\"1.32\">\n        </rect>\n        <rect x=\"226.242516225649\" y=\"146.16600790513831\" height=\"51.66798418972331\" width=\"92.5537566377655\" stroke=\"rgb(59,162,114)\" stroke-opacity=\"1.0\" fill=\"rgb(59,162,114)\" fill-opacity=\"1.0\" stroke-width=\"1.32\">\n        </rect>\n        <rect x=\"329.080023600944\" y=\"132.5691699604743\" height=\"127.81027667984188\" width=\"92.5537566377655\" stroke=\"rgb(238,102,102)\" stroke-opacity=\"1.0\" fill=\"rgb(238,102,102)\" fill-opacity=\"1.0\" stroke-width=\"1.32\">\n        </rect>\n        <rect x=\"431.917530976239\" y=\"170.64031620553357\" height=\"157.7233201581028\" width=\"92.5537566377655\" stroke=\"rgb(59,162,114)\" stroke-opacity=\"1.0\" fill=\"rgb(59,162,114)\" fill-opacity=\"1.0\" stroke-width=\"1.32\">\n        </rect>\n        <line x1=\"66.84437979394175\" y1=\"219.5889328063241\" x2=\"66.84437979394175\" y2=\"233.18577075098813\" stroke=\"rgb(238,102,102)\" stroke-opacity=\"1.0\" fill=\"rgb(238,102,102)\" fill-opacity=\"1.0\" stroke-width=\"1.32\">\n        </line>\n        <line x1=\"66.84437979394175\" y1=\"233.18577075098813\" x2=\"66.84437979394175\" y2=\"233.18577075098813\" stroke=\"rgb(238,102,102)\" stroke-opacity=\"1.0\" fill=\"rgb(238,102,102)\" fill-opacity=\"1.0\" stroke-width=\"1.32\">\n        </line>\n        <line x1=\"66.84437979394175\" y1=\"50.988142292490124\" x2=\"66.84437979394175\" y2=\"15.636363636363626\" stroke=\"rgb(238,102,102)\" stroke-opacity=\"1.0\" fill=\"rgb(238,102,102)\" fill-opacity=\"1.0\" stroke-width=\"1.32\">\n        </line>\n        <line x1=\"66.84437979394175\" y1=\"15.636363636363626\" x2=\"66.84437979394175\" y2=\"15.636363636363626\" stroke=\"rgb(238,102,102)\" stroke-opacity=\"1.0\" fill=\"rgb(238,102,102)\" fill-opacity=\"1.0\" stroke-width=\"1.32\">\n        </line>\n        <line x1=\"169.68188716923675\" y1=\"254.94071146245057\" x2=\"169.68188716923675\" y2=\"271.25691699604744\" stroke=\"rgb(59,162,114)\" stroke-opacity=\"1.0\" fill=\"rgb(59,162,114)\" fill-opacity=\"1.0\" stroke-width=\"1.32\">\n        </line>\n        <line x1=\"169.68188716923675\" y1=\"271.25691699604744\" x2=\"169.68188716923675\" y2=\"271.25691699604744\" stroke=\"rgb(59,162,114)\" stroke-opacity=\"1.0\" fill=\"rgb(59,162,114)\" fill-opacity=\"1.0\" stroke-width=\"1.32\">\n        </line>\n        <line x1=\"169.68188716923675\" y1=\"203.27272727272725\" x2=\"169.68188716923675\" y2=\"176.0790513833992\" stroke=\"rgb(59,162,114)\" stroke-opacity=\"1.0\" fill=\"rgb(59,162,114)\" fill-opacity=\"1.0\" stroke-width=\"1.32\">\n        </line>\n        <line x1=\"169.68188716923675\" y1=\"176.0790513833992\" x2=\"169.68188716923675\" y2=\"176.0790513833992\" stroke=\"rgb(59,162,114)\" stroke-opacity=\"1.0\" fill=\"rgb(59,162,114)\" fill-opacity=\"1.0\" stroke-width=\"1.32\">\n        </line>\n        <line x1=\"272.5193945445318\" y1=\"197.83399209486163\" x2=\"272.5193945445318\" y2=\"205.99209486166006\" stroke=\"rgb(59,162,114)\" stroke-opacity=\"1.0\" fill=\"rgb(59,162,114)\" fill-opacity=\"1.0\" stroke-width=\"1.32\">\n        </line>\n        <line x1=\"272.5193945445318\" y1=\"205.99209486166006\" x2=\"272.5193945445318\" y2=\"205.99209486166006\" stroke=\"rgb(59,162,114)\" stroke-opacity=\"1.0\" fill=\"rgb(59,162,114)\" fill-opacity=\"1.0\" stroke-width=\"1.32\">\n        </line>\n        <line x1=\"272.5193945445318\" y1=\"146.16600790513831\" x2=\"272.5193945445318\" y2=\"146.16600790513831\" stroke=\"rgb(59,162,114)\" stroke-opacity=\"1.0\" fill=\"rgb(59,162,114)\" fill-opacity=\"1.0\" stroke-width=\"1.32\">\n        </line>\n        <line x1=\"272.5193945445318\" y1=\"146.16600790513831\" x2=\"272.5193945445318\" y2=\"146.16600790513831\" stroke=\"rgb(59,162,114)\" stroke-opacity=\"1.0\" fill=\"rgb(59,162,114)\" fill-opacity=\"1.0\" stroke-width=\"1.32\">\n        </line>\n        <line x1=\"375.3569019198268\" y1=\"260.3794466403162\" x2=\"375.3569019198268\" y2=\"290.29249011857706\" stroke=\"rgb(238,102,102)\" stroke-opacity=\"1.0\" fill=\"rgb(238,102,102)\" fill-opacity=\"1.0\" stroke-width=\"1.32\">\n        </line>\n        <line x1=\"375.3569019198268\" y1=\"290.29249011857706\" x2=\"375.3569019198268\" y2=\"290.29249011857706\" stroke=\"rgb(238,102,102)\" stroke-opacity=\"1.0\" fill=\"rgb(238,102,102)\" fill-opacity=\"1.0\" stroke-width=\"1.32\">\n        </line>\n        <line x1=\"375.3569019198268\" y1=\"132.5691699604743\" x2=\"375.3569019198268\" y2=\"118.97233201581025\" stroke=\"rgb(238,102,102)\" stroke-opacity=\"1.0\" fill=\"rgb(238,102,102)\" fill-opacity=\"1.0\" stroke-width=\"1.32\">\n        </line>\n        <line x1=\"375.3569019198268\" y1=\"118.97233201581025\" x2=\"375.3569019198268\" y2=\"118.97233201581025\" stroke=\"rgb(238,102,102)\" stroke-opacity=\"1.0\" fill=\"rgb(238,102,102)\" fill-opacity=\"1.0\" stroke-width=\"1.32\">\n        </line>\n        <line x1=\"478.1944092951218\" y1=\"328.3636363636364\" x2=\"478.1944092951218\" y2=\"328.3636363636364\" stroke=\"rgb(59,162,114)\" stroke-opacity=\"1.0\" fill=\"rgb(59,162,114)\" fill-opacity=\"1.0\" stroke-width=\"1.32\">\n        </line>\n        <line x1=\"478.1944092951218\" y1=\"328.3636363636364\" x2=\"478.1944092951218\" y2=\"328.3636363636364\" stroke=\"rgb(59,162,114)\" stroke-opacity=\"1.0\" fill=\"rgb(59,162,114)\" fill-opacity=\"1.0\" stroke-width=\"1.32\">\n        </line>\n        <line x1=\"478.1944092951218\" y1=\"170.64031620553357\" x2=\"478.1944092951218\" y2=\"167.92094861660075\" stroke=\"rgb(59,162,114)\" stroke-opacity=\"1.0\" fill=\"rgb(59,162,114)\" fill-opacity=\"1.0\" stroke-width=\"1.32\">\n        </line>\n        <line x1=\"478.1944092951218\" y1=\"167.92094861660075\" x2=\"478.1944092951218\" y2=\"167.92094861660075\" stroke=\"rgb(59,162,114)\" stroke-opacity=\"1.0\" fill=\"rgb(59,162,114)\" fill-opacity=\"1.0\" stroke-width=\"1.32\">\n        </line>\n      </g>\n    </g>\n    <g transform=\"translate(14.5 182.0 ) rotate(-90.0 ) \">\n      <text class=\"axis-title-y\" y=\"0.0\" text-anchor=\"middle\">\n        <tspan>y</tspan>\n      </text>\n    </g>\n    <g transform=\"translate(317.4806054554682 391.5 ) \">\n      <text class=\"axis-title-x\" y=\"0.0\" text-anchor=\"middle\">\n        <tspan>x</tspan>\n      </text>\n    </g>\n    <path fill=\"rgb(0,0,0)\" fill-opacity=\"0.0\" stroke=\"rgb(71,71,71)\" stroke-opacity=\"1.0\" stroke-width=\"0.0\" d=\"M0.0 0.0 L0.0 400.0 L600.0 400.0 L600.0 0.0 Z\">\n    </path>\n  </g>\n  <g id=\"dTf11DR\">\n  </g>\n</svg>\n        <script>document.getElementById(\"21e1aeb0-8a51-4fa4-a1ad-d99c767367c7\").style.display = \"none\";</script>",
      "application/plot+json": {
       "output_type": "lets_plot_spec",
       "output": {
        "mapping": {},
        "data": {},
        "kind": "plot",
        "scales": [
         {
          "aesthetic": "x",
          "name": "x",
          "limits": [
           null,
           null
          ]
         },
         {
          "aesthetic": "y",
          "name": "",
          "limits": [
           null,
           null
          ]
         },
         {
          "aesthetic": "x",
          "discrete": true
         },
         {
          "aesthetic": "fill",
          "values": [
           "#3ba272",
           "#ee6666"
          ],
          "limits": [
           true,
           false
          ],
          "guide": "none"
         },
         {
          "aesthetic": "color",
          "values": [
           "#3ba272",
           "#ee6666"
          ],
          "limits": [
           true,
           false
          ],
          "guide": "none"
         },
         {
          "aesthetic": "linetype",
          "values": [
           1.0,
           1.0
          ],
          "limits": [
           true,
           false
          ],
          "guide": "none"
         },
         {
          "aesthetic": "size",
          "values": [
           0.6,
           0.6
          ],
          "limits": [
           true,
           false
          ],
          "guide": "none"
         },
         {
          "aesthetic": "alpha",
          "values": [
           1.0,
           1.0
          ],
          "limits": [
           true,
           false
          ],
          "guide": "none"
         },
         {
          "aesthetic": "y",
          "name": "y",
          "limits": [
           null,
           null
          ]
         }
        ],
        "layers": [
         {
          "mapping": {
           "x": "x",
           "ymin": "min",
           "lower": "lower",
           "middle": "middle",
           "upper": "upper",
           "ymax": "max",
           "fill": "isIncreased",
           "color": "isIncreased",
           "linetype": "isIncreased",
           "size": "isIncreased",
           "alpha": "isIncreased"
          },
          "stat": "identity",
          "data": {
           "min": [
            7.5,
            6.1,
            8.5,
            5.4,
            4.0
           ],
           "middle": [
            null,
            null,
            null,
            null,
            null
           ],
           "max": [
            15.5,
            9.6,
            10.7,
            11.7,
            9.9
           ],
           "isIncreased": [
            false,
            true,
            true,
            false,
            true
           ],
           "lower": [
            8.0,
            6.7,
            8.8,
            6.5,
            4.0
           ],
           "upper": [
            14.2,
            8.6,
            10.7,
            11.2,
            9.8
           ],
           "x": [
            "Jan",
            "Feb",
            "Mar",
            "Apr",
            "May"
           ],
           "close": [
            8.0,
            8.6,
            10.7,
            6.5,
            9.8
           ],
           "open": [
            14.2,
            6.7,
            8.8,
            11.2,
            4.0
           ]
          },
          "whisker_width": 0.0,
          "sampling": "none",
          "position": "identity",
          "geom": "boxplot",
          "tooltips": {
           "formats": [
            {
             "field": "open",
             "format": ".2f"
            },
            {
             "field": "max",
             "format": ".2f"
            },
            {
             "field": "min",
             "format": ".2f"
            },
            {
             "field": "close",
             "format": ".2f"
            }
           ],
           "title": "@x",
           "lines": [
            "open|@open",
            "high|@max",
            "low|@min",
            "close|@close"
           ],
           "disable_splitting": true
          }
         }
        ]
       },
       "apply_color_scheme": true,
       "swing_enabled": true
      }
     },
     "execution_count": 12,
     "metadata": {},
     "output_type": "execute_result"
    }
   ],
   "source": [
    "df.candlestick {\n",
    "    x(x)\n",
    "    open(open)\n",
    "    high(high)\n",
    "    low(low)\n",
    "    close(close)\n",
    "}"
   ],
   "metadata": {
    "collapsed": false,
    "ExecuteTime": {
     "end_time": "2024-02-22T11:05:41.078144Z",
     "start_time": "2024-02-22T11:05:40.916464Z"
    }
   }
  },
  {
   "cell_type": "markdown",
   "source": [
    "Candlestick plot can be configured with `.configure {}` extension —\n",
    "it opens a context that combines bars, `StatCandlestick` and plot context.\n",
    "That means you can configure boxes settings, mappings using `StatCandlestick` dataset and any plot adjustments:"
   ],
   "metadata": {
    "collapsed": false
   }
  },
  {
   "cell_type": "code",
   "execution_count": 13,
   "outputs": [
    {
     "data": {
      "text/html": "            <iframe src='about:blank' style='border:none !important;' width='800' height='400' srcdoc=\"&lt;html lang=&quot;en&quot;>\n   &lt;head>\n       &lt;meta charset=&quot;UTF-8&quot;>\n       &lt;style> html, body { margin: 0; overflow: hidden; } &lt;/style>\n       &lt;script type=&quot;text/javascript&quot; data-lets-plot-script=&quot;library&quot; src=&quot;https://cdn.jsdelivr.net/gh/JetBrains/lets-plot@v4.2.0/js-package/distr/lets-plot.min.js&quot;>&lt;/script>\n   &lt;/head>\n   &lt;body>\n          &lt;div id=&quot;lI6vMR&quot;>&lt;/div>\n   &lt;script type=&quot;text/javascript&quot; data-lets-plot-script=&quot;plot&quot;>\n       var plotSpec={\n&quot;ggtitle&quot;:{\n&quot;text&quot;:&quot;Configured candlestick plot&quot;\n},\n&quot;mapping&quot;:{\n},\n&quot;data&quot;:{\n&quot;min&quot;:[7.5,6.1,8.5,5.4,4.0],\n&quot;middle&quot;:[null,null,null,null,null],\n&quot;max&quot;:[15.5,9.6,10.7,11.7,9.9],\n&quot;isIncreased&quot;:[false,true,true,false,true],\n&quot;lower&quot;:[8.0,6.7,8.8,6.5,4.0],\n&quot;upper&quot;:[14.2,8.6,10.7,11.2,9.8],\n&quot;x&quot;:[&quot;Jan&quot;,&quot;Feb&quot;,&quot;Mar&quot;,&quot;Apr&quot;,&quot;May&quot;],\n&quot;close&quot;:[8.0,8.6,10.7,6.5,9.8],\n&quot;open&quot;:[14.2,6.7,8.8,11.2,4.0]\n},\n&quot;ggsize&quot;:{\n&quot;width&quot;:800.0,\n&quot;height&quot;:400.0\n},\n&quot;kind&quot;:&quot;plot&quot;,\n&quot;scales&quot;:[{\n&quot;aesthetic&quot;:&quot;x&quot;,\n&quot;name&quot;:&quot;x&quot;,\n&quot;limits&quot;:[null,null]\n},{\n&quot;aesthetic&quot;:&quot;y&quot;,\n&quot;name&quot;:&quot;y&quot;,\n&quot;limits&quot;:[3.0,17.0]\n},{\n&quot;aesthetic&quot;:&quot;x&quot;,\n&quot;discrete&quot;:true\n},{\n&quot;aesthetic&quot;:&quot;fill&quot;,\n&quot;values&quot;:[&quot;#3ba272&quot;,&quot;#ee6666&quot;],\n&quot;limits&quot;:[true,false],\n&quot;guide&quot;:&quot;none&quot;\n},{\n&quot;aesthetic&quot;:&quot;color&quot;,\n&quot;values&quot;:[&quot;#5470c6&quot;,&quot;#fac858&quot;],\n&quot;limits&quot;:[true,false],\n&quot;guide&quot;:&quot;none&quot;\n},{\n&quot;aesthetic&quot;:&quot;linetype&quot;,\n&quot;values&quot;:[1.0,1.0],\n&quot;limits&quot;:[true,false],\n&quot;guide&quot;:&quot;none&quot;\n},{\n&quot;aesthetic&quot;:&quot;size&quot;,\n&quot;values&quot;:[0.6,0.6],\n&quot;limits&quot;:[true,false],\n&quot;guide&quot;:&quot;none&quot;\n},{\n&quot;aesthetic&quot;:&quot;alpha&quot;,\n&quot;values&quot;:[1.0,1.0],\n&quot;limits&quot;:[true,false],\n&quot;guide&quot;:&quot;none&quot;\n},{\n&quot;aesthetic&quot;:&quot;x&quot;,\n&quot;name&quot;:&quot;x&quot;,\n&quot;limits&quot;:[null,null]\n},{\n&quot;aesthetic&quot;:&quot;y&quot;,\n&quot;name&quot;:&quot;y&quot;,\n&quot;limits&quot;:[3.0,17.0]\n}],\n&quot;layers&quot;:[{\n&quot;mapping&quot;:{\n&quot;x&quot;:&quot;x&quot;,\n&quot;ymin&quot;:&quot;min&quot;,\n&quot;lower&quot;:&quot;lower&quot;,\n&quot;middle&quot;:&quot;middle&quot;,\n&quot;upper&quot;:&quot;upper&quot;,\n&quot;ymax&quot;:&quot;max&quot;,\n&quot;fill&quot;:&quot;isIncreased&quot;,\n&quot;color&quot;:&quot;isIncreased&quot;,\n&quot;linetype&quot;:&quot;isIncreased&quot;,\n&quot;size&quot;:&quot;isIncreased&quot;,\n&quot;alpha&quot;:&quot;isIncreased&quot;\n},\n&quot;stat&quot;:&quot;identity&quot;,\n&quot;whisker_width&quot;:0.0,\n&quot;size&quot;:2.5,\n&quot;sampling&quot;:&quot;none&quot;,\n&quot;alpha&quot;:0.6,\n&quot;position&quot;:&quot;identity&quot;,\n&quot;geom&quot;:&quot;boxplot&quot;,\n&quot;fill&quot;:&quot;#a39999&quot;,\n&quot;tooltips&quot;:{\n&quot;formats&quot;:[{\n&quot;field&quot;:&quot;open&quot;,\n&quot;format&quot;:&quot;.2f&quot;\n},{\n&quot;field&quot;:&quot;max&quot;,\n&quot;format&quot;:&quot;.2f&quot;\n},{\n&quot;field&quot;:&quot;min&quot;,\n&quot;format&quot;:&quot;.2f&quot;\n},{\n&quot;field&quot;:&quot;close&quot;,\n&quot;format&quot;:&quot;.2f&quot;\n}],\n&quot;title&quot;:&quot;@x&quot;,\n&quot;lines&quot;:[&quot;open|@open&quot;,&quot;high|@max&quot;,&quot;low|@min&quot;,&quot;close|@close&quot;],\n&quot;disable_splitting&quot;:true\n},\n&quot;data&quot;:{\n}\n}]\n};\n       var plotContainer = document.getElementById(&quot;lI6vMR&quot;);\n       LetsPlot.buildPlotFromProcessedSpecs(plotSpec, -1, -1, plotContainer);\n   &lt;/script>\n   &lt;/body>\n&lt;/html>\"></iframe>            <svg xmlns=\"http://www.w3.org/2000/svg\" xmlns:xlink=\"http://www.w3.org/1999/xlink\" class=\"plt-container\" id=c2497195-d7cd-46a4-ba2e-9977b7f7398e width=\"100%\" height=\"100%\" style=\"max-width: 800.0px; max-height: 400.0px;\" viewBox=\"0 0 800.0 400.0\" preserveAspectRatio=\"xMinYMin meet\">\n  <style type=\"text/css\">\n  .plt-container {\n   font-family: Lucida Grande, sans-serif;\n   user-select: none;\n   -webkit-user-select: none;\n   -moz-user-select: none;\n   -ms-user-select: none;\n}\ntext {\n   text-rendering: optimizeLegibility;\n}\n#pHuzTYi .plot-title {\n   fill: #474747;\n   font-family: Lucida Grande, sans-serif;\n   font-size: 16.0px;\n   font-weight: normal;\n   font-style: normal;   \n}\n#pHuzTYi .plot-subtitle {\n   fill: #474747;\n   font-family: Lucida Grande, sans-serif;\n   font-size: 15.0px;\n   font-weight: normal;\n   font-style: normal;   \n}\n#pHuzTYi .plot-caption {\n   fill: #474747;\n   font-family: Lucida Grande, sans-serif;\n   font-size: 13.0px;\n   font-weight: normal;\n   font-style: normal;   \n}\n#pHuzTYi .legend-title {\n   fill: #474747;\n   font-family: Lucida Grande, sans-serif;\n   font-size: 15.0px;\n   font-weight: normal;\n   font-style: normal;   \n}\n#pHuzTYi .legend-item {\n   fill: #474747;\n   font-family: Lucida Grande, sans-serif;\n   font-size: 13.0px;\n   font-weight: normal;\n   font-style: normal;   \n}\n#pHuzTYi .axis-title-x {\n   fill: #474747;\n   font-family: Lucida Grande, sans-serif;\n   font-size: 15.0px;\n   font-weight: normal;\n   font-style: normal;   \n}\n#pHuzTYi .axis-text-x {\n   fill: #474747;\n   font-family: Lucida Grande, sans-serif;\n   font-size: 13.0px;\n   font-weight: normal;\n   font-style: normal;   \n}\n#d64LLUe .axis-tooltip-text-x {\n   fill: #ffffff;\n   font-family: Lucida Grande, sans-serif;\n   font-size: 13.0px;\n   font-weight: normal;\n   font-style: normal;   \n}\n#pHuzTYi .axis-title-y {\n   fill: #474747;\n   font-family: Lucida Grande, sans-serif;\n   font-size: 15.0px;\n   font-weight: normal;\n   font-style: normal;   \n}\n#pHuzTYi .axis-text-y {\n   fill: #474747;\n   font-family: Lucida Grande, sans-serif;\n   font-size: 13.0px;\n   font-weight: normal;\n   font-style: normal;   \n}\n#d64LLUe .axis-tooltip-text-y {\n   fill: #ffffff;\n   font-family: Lucida Grande, sans-serif;\n   font-size: 13.0px;\n   font-weight: normal;\n   font-style: normal;   \n}\n#pHuzTYi .facet-strip-text-x {\n   fill: #474747;\n   font-family: Lucida Grande, sans-serif;\n   font-size: 13.0px;\n   font-weight: normal;\n   font-style: normal;   \n}\n#pHuzTYi .facet-strip-text-y {\n   fill: #474747;\n   font-family: Lucida Grande, sans-serif;\n   font-size: 13.0px;\n   font-weight: normal;\n   font-style: normal;   \n}\n#d64LLUe .tooltip-text {\n   fill: #474747;\n   font-family: Lucida Grande, sans-serif;\n   font-size: 13.0px;\n   font-weight: normal;\n   font-style: normal;   \n}\n#d64LLUe .tooltip-title {\n   fill: #474747;\n   font-family: Lucida Grande, sans-serif;\n   font-size: 13.0px;\n   font-weight: bold;\n   font-style: normal;   \n}\n#d64LLUe .tooltip-label {\n   fill: #474747;\n   font-family: Lucida Grande, sans-serif;\n   font-size: 13.0px;\n   font-weight: bold;\n   font-style: normal;   \n}\n\n  </style>\n  <g id=\"pHuzTYi\">\n    <path fill-rule=\"evenodd\" fill=\"rgb(255,255,255)\" fill-opacity=\"1.0\" d=\"M0.0 0.0 L0.0 400.0 L800.0 400.0 L800.0 0.0 Z\">\n    </path>\n    <g transform=\"translate(23.0 34.0 ) \">\n      <g transform=\"translate(21.961210910936405 0.0 ) \">\n        <line x1=\"91.3726816807342\" y1=\"320.0\" x2=\"91.3726816807342\" y2=\"0.0\" stroke=\"rgb(233,233,233)\" stroke-opacity=\"1.0\" stroke-width=\"1.0\" fill=\"none\">\n        </line>\n        <line x1=\"231.94603811263295\" y1=\"320.0\" x2=\"231.94603811263295\" y2=\"0.0\" stroke=\"rgb(233,233,233)\" stroke-opacity=\"1.0\" stroke-width=\"1.0\" fill=\"none\">\n        </line>\n        <line x1=\"372.51939454453174\" y1=\"320.0\" x2=\"372.51939454453174\" y2=\"0.0\" stroke=\"rgb(233,233,233)\" stroke-opacity=\"1.0\" stroke-width=\"1.0\" fill=\"none\">\n        </line>\n        <line x1=\"513.0927509764305\" y1=\"320.0\" x2=\"513.0927509764305\" y2=\"0.0\" stroke=\"rgb(233,233,233)\" stroke-opacity=\"1.0\" stroke-width=\"1.0\" fill=\"none\">\n        </line>\n        <line x1=\"653.6661074083293\" y1=\"320.0\" x2=\"653.6661074083293\" y2=\"0.0\" stroke=\"rgb(233,233,233)\" stroke-opacity=\"1.0\" stroke-width=\"1.0\" fill=\"none\">\n        </line>\n      </g>\n      <g transform=\"translate(21.961210910936405 320.0 ) \">\n        <g transform=\"translate(91.3726816807342 0.0 ) \">\n          <line stroke-width=\"1.0\" stroke=\"rgb(71,71,71)\" stroke-opacity=\"1.0\" x2=\"0.0\" y2=\"4.0\">\n          </line>\n          <g transform=\"translate(0.0 7.0 ) \">\n            <text class=\"axis-text-x\" text-anchor=\"middle\" dy=\"0.7em\">\n              <tspan>Jan</tspan>\n            </text>\n          </g>\n        </g>\n        <g transform=\"translate(231.94603811263295 0.0 ) \">\n          <line stroke-width=\"1.0\" stroke=\"rgb(71,71,71)\" stroke-opacity=\"1.0\" x2=\"0.0\" y2=\"4.0\">\n          </line>\n          <g transform=\"translate(0.0 7.0 ) \">\n            <text class=\"axis-text-x\" text-anchor=\"middle\" dy=\"0.7em\">\n              <tspan>Feb</tspan>\n            </text>\n          </g>\n        </g>\n        <g transform=\"translate(372.51939454453174 0.0 ) \">\n          <line stroke-width=\"1.0\" stroke=\"rgb(71,71,71)\" stroke-opacity=\"1.0\" x2=\"0.0\" y2=\"4.0\">\n          </line>\n          <g transform=\"translate(0.0 7.0 ) \">\n            <text class=\"axis-text-x\" text-anchor=\"middle\" dy=\"0.7em\">\n              <tspan>Mar</tspan>\n            </text>\n          </g>\n        </g>\n        <g transform=\"translate(513.0927509764305 0.0 ) \">\n          <line stroke-width=\"1.0\" stroke=\"rgb(71,71,71)\" stroke-opacity=\"1.0\" x2=\"0.0\" y2=\"4.0\">\n          </line>\n          <g transform=\"translate(0.0 7.0 ) \">\n            <text class=\"axis-text-x\" text-anchor=\"middle\" dy=\"0.7em\">\n              <tspan>Apr</tspan>\n            </text>\n          </g>\n        </g>\n        <g transform=\"translate(653.6661074083293 0.0 ) \">\n          <line stroke-width=\"1.0\" stroke=\"rgb(71,71,71)\" stroke-opacity=\"1.0\" x2=\"0.0\" y2=\"4.0\">\n          </line>\n          <g transform=\"translate(0.0 7.0 ) \">\n            <text class=\"axis-text-x\" text-anchor=\"middle\" dy=\"0.7em\">\n              <tspan>May</tspan>\n            </text>\n          </g>\n        </g>\n        <line x1=\"0.0\" y1=\"0.0\" x2=\"745.0387890890636\" y2=\"0.0\" stroke-width=\"1.0\" stroke=\"rgb(71,71,71)\" stroke-opacity=\"1.0\">\n        </line>\n      </g>\n      <g transform=\"translate(21.961210910936405 0.0 ) \">\n        <line x1=\"0.0\" y1=\"284.6753246753247\" x2=\"745.0387890890635\" y2=\"284.6753246753247\" stroke=\"rgb(233,233,233)\" stroke-opacity=\"1.0\" stroke-width=\"1.0\" fill=\"none\">\n        </line>\n        <line x1=\"0.0\" y1=\"243.11688311688312\" x2=\"745.0387890890635\" y2=\"243.11688311688312\" stroke=\"rgb(233,233,233)\" stroke-opacity=\"1.0\" stroke-width=\"1.0\" fill=\"none\">\n        </line>\n        <line x1=\"0.0\" y1=\"201.55844155844156\" x2=\"745.0387890890635\" y2=\"201.55844155844156\" stroke=\"rgb(233,233,233)\" stroke-opacity=\"1.0\" stroke-width=\"1.0\" fill=\"none\">\n        </line>\n        <line x1=\"0.0\" y1=\"160.0\" x2=\"745.0387890890635\" y2=\"160.0\" stroke=\"rgb(233,233,233)\" stroke-opacity=\"1.0\" stroke-width=\"1.0\" fill=\"none\">\n        </line>\n        <line x1=\"0.0\" y1=\"118.44155844155841\" x2=\"745.0387890890635\" y2=\"118.44155844155841\" stroke=\"rgb(233,233,233)\" stroke-opacity=\"1.0\" stroke-width=\"1.0\" fill=\"none\">\n        </line>\n        <line x1=\"0.0\" y1=\"76.88311688311688\" x2=\"745.0387890890635\" y2=\"76.88311688311688\" stroke=\"rgb(233,233,233)\" stroke-opacity=\"1.0\" stroke-width=\"1.0\" fill=\"none\">\n        </line>\n        <line x1=\"0.0\" y1=\"35.3246753246753\" x2=\"745.0387890890635\" y2=\"35.3246753246753\" stroke=\"rgb(233,233,233)\" stroke-opacity=\"1.0\" stroke-width=\"1.0\" fill=\"none\">\n        </line>\n      </g>\n      <g transform=\"translate(21.961210910936405 0.0 ) \">\n        <g transform=\"translate(0.0 284.6753246753247 ) \">\n          <g transform=\"translate(-3.0 0.0 ) \">\n            <text class=\"axis-text-y\" text-anchor=\"end\" dy=\"0.35em\">\n              <tspan>4</tspan>\n            </text>\n          </g>\n        </g>\n        <g transform=\"translate(0.0 243.11688311688312 ) \">\n          <g transform=\"translate(-3.0 0.0 ) \">\n            <text class=\"axis-text-y\" text-anchor=\"end\" dy=\"0.35em\">\n              <tspan>6</tspan>\n            </text>\n          </g>\n        </g>\n        <g transform=\"translate(0.0 201.55844155844156 ) \">\n          <g transform=\"translate(-3.0 0.0 ) \">\n            <text class=\"axis-text-y\" text-anchor=\"end\" dy=\"0.35em\">\n              <tspan>8</tspan>\n            </text>\n          </g>\n        </g>\n        <g transform=\"translate(0.0 160.0 ) \">\n          <g transform=\"translate(-3.0 0.0 ) \">\n            <text class=\"axis-text-y\" text-anchor=\"end\" dy=\"0.35em\">\n              <tspan>10</tspan>\n            </text>\n          </g>\n        </g>\n        <g transform=\"translate(0.0 118.44155844155841 ) \">\n          <g transform=\"translate(-3.0 0.0 ) \">\n            <text class=\"axis-text-y\" text-anchor=\"end\" dy=\"0.35em\">\n              <tspan>12</tspan>\n            </text>\n          </g>\n        </g>\n        <g transform=\"translate(0.0 76.88311688311688 ) \">\n          <g transform=\"translate(-3.0 0.0 ) \">\n            <text class=\"axis-text-y\" text-anchor=\"end\" dy=\"0.35em\">\n              <tspan>14</tspan>\n            </text>\n          </g>\n        </g>\n        <g transform=\"translate(0.0 35.3246753246753 ) \">\n          <g transform=\"translate(-3.0 0.0 ) \">\n            <text class=\"axis-text-y\" text-anchor=\"end\" dy=\"0.35em\">\n              <tspan>16</tspan>\n            </text>\n          </g>\n        </g>\n      </g>\n      <g transform=\"translate(21.961210910936405 0.0 ) \" clip-path=\"url(#c5QKg9D)\" clip-bounds-jfx=\"[rect (0.0, 0.0), (745.0387890890636, 320.0)]\">\n        <defs>\n          <clipPath id=\"c5QKg9D\">\n            <rect x=\"0.0\" y=\"0.0\" width=\"745.0387890890636\" height=\"320.0\">\n            </rect>\n          </clipPath>\n        </defs>\n        <rect x=\"28.11467128637976\" y=\"72.72727272727275\" height=\"128.8311688311688\" width=\"126.51602078870887\" stroke=\"rgb(250,200,88)\" stroke-opacity=\"1.0\" fill=\"rgb(163,153,153)\" fill-opacity=\"0.6\" stroke-width=\"5.5\">\n        </rect>\n        <rect x=\"168.68802771827853\" y=\"189.0909090909091\" height=\"39.48051948051949\" width=\"126.51602078870889\" stroke=\"rgb(84,112,198)\" stroke-opacity=\"1.0\" fill=\"rgb(163,153,153)\" fill-opacity=\"0.6\" stroke-width=\"5.5\">\n        </rect>\n        <rect x=\"309.26138415017726\" y=\"145.45454545454547\" height=\"39.48051948051946\" width=\"126.51602078870894\" stroke=\"rgb(84,112,198)\" stroke-opacity=\"1.0\" fill=\"rgb(163,153,153)\" fill-opacity=\"0.6\" stroke-width=\"5.5\">\n        </rect>\n        <rect x=\"449.83474058207605\" y=\"135.06493506493507\" height=\"97.66233766233765\" width=\"126.51602078870883\" stroke=\"rgb(250,200,88)\" stroke-opacity=\"1.0\" fill=\"rgb(163,153,153)\" fill-opacity=\"0.6\" stroke-width=\"5.5\">\n        </rect>\n        <rect x=\"590.4080970139747\" y=\"164.15584415584414\" height=\"120.51948051948057\" width=\"126.51602078870894\" stroke=\"rgb(84,112,198)\" stroke-opacity=\"1.0\" fill=\"rgb(163,153,153)\" fill-opacity=\"0.6\" stroke-width=\"5.5\">\n        </rect>\n        <line x1=\"91.3726816807342\" y1=\"201.55844155844156\" x2=\"91.3726816807342\" y2=\"211.94805194805195\" stroke=\"rgb(250,200,88)\" stroke-opacity=\"1.0\" fill=\"rgb(163,153,153)\" fill-opacity=\"0.6\" stroke-width=\"5.5\">\n        </line>\n        <line x1=\"91.3726816807342\" y1=\"211.94805194805195\" x2=\"91.3726816807342\" y2=\"211.94805194805195\" stroke=\"rgb(250,200,88)\" stroke-opacity=\"1.0\" fill=\"rgb(163,153,153)\" fill-opacity=\"0.6\" stroke-width=\"5.5\">\n        </line>\n        <line x1=\"91.3726816807342\" y1=\"72.72727272727275\" x2=\"91.3726816807342\" y2=\"45.714285714285666\" stroke=\"rgb(250,200,88)\" stroke-opacity=\"1.0\" fill=\"rgb(163,153,153)\" fill-opacity=\"0.6\" stroke-width=\"5.5\">\n        </line>\n        <line x1=\"91.3726816807342\" y1=\"45.714285714285666\" x2=\"91.3726816807342\" y2=\"45.714285714285666\" stroke=\"rgb(250,200,88)\" stroke-opacity=\"1.0\" fill=\"rgb(163,153,153)\" fill-opacity=\"0.6\" stroke-width=\"5.5\">\n        </line>\n        <line x1=\"231.94603811263295\" y1=\"228.57142857142858\" x2=\"231.94603811263295\" y2=\"241.03896103896105\" stroke=\"rgb(84,112,198)\" stroke-opacity=\"1.0\" fill=\"rgb(163,153,153)\" fill-opacity=\"0.6\" stroke-width=\"5.5\">\n        </line>\n        <line x1=\"231.94603811263295\" y1=\"241.03896103896105\" x2=\"231.94603811263295\" y2=\"241.03896103896105\" stroke=\"rgb(84,112,198)\" stroke-opacity=\"1.0\" fill=\"rgb(163,153,153)\" fill-opacity=\"0.6\" stroke-width=\"5.5\">\n        </line>\n        <line x1=\"231.94603811263295\" y1=\"189.0909090909091\" x2=\"231.94603811263295\" y2=\"168.3116883116883\" stroke=\"rgb(84,112,198)\" stroke-opacity=\"1.0\" fill=\"rgb(163,153,153)\" fill-opacity=\"0.6\" stroke-width=\"5.5\">\n        </line>\n        <line x1=\"231.94603811263295\" y1=\"168.3116883116883\" x2=\"231.94603811263295\" y2=\"168.3116883116883\" stroke=\"rgb(84,112,198)\" stroke-opacity=\"1.0\" fill=\"rgb(163,153,153)\" fill-opacity=\"0.6\" stroke-width=\"5.5\">\n        </line>\n        <line x1=\"372.51939454453174\" y1=\"184.93506493506493\" x2=\"372.51939454453174\" y2=\"191.16883116883116\" stroke=\"rgb(84,112,198)\" stroke-opacity=\"1.0\" fill=\"rgb(163,153,153)\" fill-opacity=\"0.6\" stroke-width=\"5.5\">\n        </line>\n        <line x1=\"372.51939454453174\" y1=\"191.16883116883116\" x2=\"372.51939454453174\" y2=\"191.16883116883116\" stroke=\"rgb(84,112,198)\" stroke-opacity=\"1.0\" fill=\"rgb(163,153,153)\" fill-opacity=\"0.6\" stroke-width=\"5.5\">\n        </line>\n        <line x1=\"372.51939454453174\" y1=\"145.45454545454547\" x2=\"372.51939454453174\" y2=\"145.45454545454547\" stroke=\"rgb(84,112,198)\" stroke-opacity=\"1.0\" fill=\"rgb(163,153,153)\" fill-opacity=\"0.6\" stroke-width=\"5.5\">\n        </line>\n        <line x1=\"372.51939454453174\" y1=\"145.45454545454547\" x2=\"372.51939454453174\" y2=\"145.45454545454547\" stroke=\"rgb(84,112,198)\" stroke-opacity=\"1.0\" fill=\"rgb(163,153,153)\" fill-opacity=\"0.6\" stroke-width=\"5.5\">\n        </line>\n        <line x1=\"513.0927509764305\" y1=\"232.72727272727272\" x2=\"513.0927509764305\" y2=\"255.58441558441558\" stroke=\"rgb(250,200,88)\" stroke-opacity=\"1.0\" fill=\"rgb(163,153,153)\" fill-opacity=\"0.6\" stroke-width=\"5.5\">\n        </line>\n        <line x1=\"513.0927509764305\" y1=\"255.58441558441558\" x2=\"513.0927509764305\" y2=\"255.58441558441558\" stroke=\"rgb(250,200,88)\" stroke-opacity=\"1.0\" fill=\"rgb(163,153,153)\" fill-opacity=\"0.6\" stroke-width=\"5.5\">\n        </line>\n        <line x1=\"513.0927509764305\" y1=\"135.06493506493507\" x2=\"513.0927509764305\" y2=\"124.67532467532467\" stroke=\"rgb(250,200,88)\" stroke-opacity=\"1.0\" fill=\"rgb(163,153,153)\" fill-opacity=\"0.6\" stroke-width=\"5.5\">\n        </line>\n        <line x1=\"513.0927509764305\" y1=\"124.67532467532467\" x2=\"513.0927509764305\" y2=\"124.67532467532467\" stroke=\"rgb(250,200,88)\" stroke-opacity=\"1.0\" fill=\"rgb(163,153,153)\" fill-opacity=\"0.6\" stroke-width=\"5.5\">\n        </line>\n        <line x1=\"653.6661074083293\" y1=\"284.6753246753247\" x2=\"653.6661074083293\" y2=\"284.6753246753247\" stroke=\"rgb(84,112,198)\" stroke-opacity=\"1.0\" fill=\"rgb(163,153,153)\" fill-opacity=\"0.6\" stroke-width=\"5.5\">\n        </line>\n        <line x1=\"653.6661074083293\" y1=\"284.6753246753247\" x2=\"653.6661074083293\" y2=\"284.6753246753247\" stroke=\"rgb(84,112,198)\" stroke-opacity=\"1.0\" fill=\"rgb(163,153,153)\" fill-opacity=\"0.6\" stroke-width=\"5.5\">\n        </line>\n        <line x1=\"653.6661074083293\" y1=\"164.15584415584414\" x2=\"653.6661074083293\" y2=\"162.07792207792207\" stroke=\"rgb(84,112,198)\" stroke-opacity=\"1.0\" fill=\"rgb(163,153,153)\" fill-opacity=\"0.6\" stroke-width=\"5.5\">\n        </line>\n        <line x1=\"653.6661074083293\" y1=\"162.07792207792207\" x2=\"653.6661074083293\" y2=\"162.07792207792207\" stroke=\"rgb(84,112,198)\" stroke-opacity=\"1.0\" fill=\"rgb(163,153,153)\" fill-opacity=\"0.6\" stroke-width=\"5.5\">\n        </line>\n      </g>\n    </g>\n    <g transform=\"translate(44.9612109109364 15.2 ) \">\n      <text class=\"plot-title\" y=\"0.0\">\n        <tspan>Configured candlestick plot</tspan>\n      </text>\n    </g>\n    <g transform=\"translate(14.5 194.0 ) rotate(-90.0 ) \">\n      <text class=\"axis-title-y\" y=\"0.0\" text-anchor=\"middle\">\n        <tspan>y</tspan>\n      </text>\n    </g>\n    <g transform=\"translate(417.4806054554682 391.5 ) \">\n      <text class=\"axis-title-x\" y=\"0.0\" text-anchor=\"middle\">\n        <tspan>x</tspan>\n      </text>\n    </g>\n    <path fill=\"rgb(0,0,0)\" fill-opacity=\"0.0\" stroke=\"rgb(71,71,71)\" stroke-opacity=\"1.0\" stroke-width=\"0.0\" d=\"M0.0 0.0 L0.0 400.0 L800.0 400.0 L800.0 0.0 Z\">\n    </path>\n  </g>\n  <g id=\"d64LLUe\">\n  </g>\n</svg>\n        <script>document.getElementById(\"c2497195-d7cd-46a4-ba2e-9977b7f7398e\").style.display = \"none\";</script>",
      "application/plot+json": {
       "output_type": "lets_plot_spec",
       "output": {
        "ggtitle": {
         "text": "Configured candlestick plot"
        },
        "mapping": {},
        "data": {
         "min": [
          7.5,
          6.1,
          8.5,
          5.4,
          4.0
         ],
         "middle": [
          null,
          null,
          null,
          null,
          null
         ],
         "max": [
          15.5,
          9.6,
          10.7,
          11.7,
          9.9
         ],
         "isIncreased": [
          false,
          true,
          true,
          false,
          true
         ],
         "lower": [
          8.0,
          6.7,
          8.8,
          6.5,
          4.0
         ],
         "upper": [
          14.2,
          8.6,
          10.7,
          11.2,
          9.8
         ],
         "x": [
          "Jan",
          "Feb",
          "Mar",
          "Apr",
          "May"
         ],
         "close": [
          8.0,
          8.6,
          10.7,
          6.5,
          9.8
         ],
         "open": [
          14.2,
          6.7,
          8.8,
          11.2,
          4.0
         ]
        },
        "ggsize": {
         "width": 800.0,
         "height": 400.0
        },
        "kind": "plot",
        "scales": [
         {
          "aesthetic": "x",
          "name": "x",
          "limits": [
           null,
           null
          ]
         },
         {
          "aesthetic": "y",
          "name": "y",
          "limits": [
           3.0,
           17.0
          ]
         },
         {
          "aesthetic": "x",
          "discrete": true
         },
         {
          "aesthetic": "fill",
          "values": [
           "#3ba272",
           "#ee6666"
          ],
          "limits": [
           true,
           false
          ],
          "guide": "none"
         },
         {
          "aesthetic": "color",
          "values": [
           "#5470c6",
           "#fac858"
          ],
          "limits": [
           true,
           false
          ],
          "guide": "none"
         },
         {
          "aesthetic": "linetype",
          "values": [
           1.0,
           1.0
          ],
          "limits": [
           true,
           false
          ],
          "guide": "none"
         },
         {
          "aesthetic": "size",
          "values": [
           0.6,
           0.6
          ],
          "limits": [
           true,
           false
          ],
          "guide": "none"
         },
         {
          "aesthetic": "alpha",
          "values": [
           1.0,
           1.0
          ],
          "limits": [
           true,
           false
          ],
          "guide": "none"
         },
         {
          "aesthetic": "x",
          "name": "x",
          "limits": [
           null,
           null
          ]
         },
         {
          "aesthetic": "y",
          "name": "y",
          "limits": [
           3.0,
           17.0
          ]
         }
        ],
        "layers": [
         {
          "mapping": {
           "x": "x",
           "ymin": "min",
           "lower": "lower",
           "middle": "middle",
           "upper": "upper",
           "ymax": "max",
           "fill": "isIncreased",
           "color": "isIncreased",
           "linetype": "isIncreased",
           "size": "isIncreased",
           "alpha": "isIncreased"
          },
          "stat": "identity",
          "whisker_width": 0.0,
          "size": 2.5,
          "sampling": "none",
          "alpha": 0.6,
          "position": "identity",
          "geom": "boxplot",
          "fill": "#a39999",
          "tooltips": {
           "formats": [
            {
             "field": "open",
             "format": ".2f"
            },
            {
             "field": "max",
             "format": ".2f"
            },
            {
             "field": "min",
             "format": ".2f"
            },
            {
             "field": "close",
             "format": ".2f"
            }
           ],
           "title": "@x",
           "lines": [
            "open|@open",
            "high|@max",
            "low|@min",
            "close|@close"
           ],
           "disable_splitting": true
          }
         }
        ]
       },
       "apply_color_scheme": true,
       "swing_enabled": true
      }
     },
     "execution_count": 13,
     "metadata": {},
     "output_type": "execute_result"
    }
   ],
   "source": [
    "df.candlestick(\"x\", \"open\", \"high\", \"low\", \"close\").configure {\n",
    "    // Boxes + StatCandlestick + PlotContext\n",
    "    // Can't add a new layer\n",
    "    y.limits = 3.0..17.0\n",
    "    increase {\n",
    "        borderLine.color = Color.BLUE\n",
    "    }\n",
    "    decrease.borderLine.color = Color.YELLOW\n",
    "    borderLine.width = 2.5\n",
    "    fillColor = Color.GREY\n",
    "    alpha = 0.6\n",
    "    // Can configure general plot adjustments\n",
    "    layout {\n",
    "        title = \"Configured candlestick plot\"\n",
    "        size = 800 to 400\n",
    "    }\n",
    "}"
   ],
   "metadata": {
    "collapsed": false,
    "ExecuteTime": {
     "end_time": "2024-02-22T11:05:41.401859Z",
     "start_time": "2024-02-22T11:05:41.080472Z"
    }
   }
  }
 ],
 "metadata": {
  "kernelspec": {
   "display_name": "Kotlin",
   "language": "kotlin",
   "name": "kotlin"
  },
  "language_info": {
   "name": "kotlin",
   "version": "1.9.0",
   "mimetype": "text/x-kotlin",
   "file_extension": ".kt",
   "pygments_lexer": "kotlin",
   "codemirror_mode": "text/x-kotlin",
   "nbconvert_exporter": ""
  },
  "ktnbPluginMetadata": {
   "projectLibraries": []
  }
 },
 "nbformat": 4,
 "nbformat_minor": 0
}
