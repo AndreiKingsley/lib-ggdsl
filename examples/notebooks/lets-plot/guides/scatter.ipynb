{
 "cells": [
  {
   "cell_type": "code",
   "execution_count": 1,
   "metadata": {
    "ExecuteTime": {
     "end_time": "2023-11-28T18:06:23.874632Z",
     "start_time": "2023-11-28T18:06:23.152920Z"
    }
   },
   "outputs": [],
   "source": [
    "%useLatestDescriptors\n",
    "%use kandy\n",
    "%use dataframe"
   ]
  },
  {
   "cell_type": "code",
   "execution_count": 2,
   "metadata": {
    "ExecuteTime": {
     "end_time": "2023-11-28T18:06:29.953242Z",
     "start_time": "2023-11-28T18:06:29.386462Z"
    }
   },
   "outputs": [],
   "source": [
    "// This example was found at:\n",
    "// www.cookbook-r.com/Graphs/Scatterplots_(ggplot2)\n",
    "val rand = java.util.Random(123)\n",
    "val n = 20\n",
    "val data = dataFrameOf(\n",
    "    \"cond\" to List(n / 2) { \"A\" } + List(n / 2) { \"B\" },\n",
    "    \"xvar\" to List(n) { i: Int -> i },\n",
    "    \"yvar\" to List(n) { i: Int -> i + rand.nextGaussian() * 3 }\n",
    ")\n",
    "val cond = \"cond\"<String>()\n",
    "val xvar = \"xvar\"<Int>()\n",
    "val yvar = \"yvar\"<Double>()"
   ]
  },
  {
   "cell_type": "markdown",
   "metadata": {},
   "source": [
    "## Basic Scatter Plot"
   ]
  },
  {
   "cell_type": "code",
   "execution_count": 3,
   "metadata": {
    "ExecuteTime": {
     "end_time": "2023-11-28T18:06:53.794374Z",
     "start_time": "2023-11-28T18:06:53.292391Z"
    }
   },
   "outputs": [
    {
     "data": {
      "text/html": "            <iframe src='about:blank' style='border:none !important;' width='600' height='400' srcdoc=\"&lt;html lang=&quot;en&quot;>\n   &lt;head>\n       &lt;style> html, body { margin: 0; overflow: hidden; } &lt;/style>\n       &lt;script type=&quot;text/javascript&quot; data-lets-plot-script=&quot;library&quot; src=&quot;https://cdn.jsdelivr.net/gh/JetBrains/lets-plot@v4.0.1/js-package/distr/lets-plot.min.js&quot;>&lt;/script>\n   &lt;/head>\n   &lt;body>\n          &lt;div id=&quot;wZjPCQ&quot;>&lt;/div>\n   &lt;script type=&quot;text/javascript&quot; data-lets-plot-script=&quot;plot&quot;>\n       var plotSpec={\n&quot;mapping&quot;:{\n},\n&quot;data&quot;:{\n&quot;yvar&quot;:[-4.31414792742272,2.9025852255330413,2.678186038496493,3.8323801422104644,4.552957466631817,3.9043586677544218,10.056090493036294,8.077708681007955,7.384161947842241,12.052485955548157,14.114693281686685,5.329404481450428,10.598634211929852,10.98677740976943,8.96180814139117,14.194166026725489,15.099984576207884,12.734927210327559,18.2859058065098,17.832111113004313],\n&quot;xvar&quot;:[0.0,1.0,2.0,3.0,4.0,5.0,6.0,7.0,8.0,9.0,10.0,11.0,12.0,13.0,14.0,15.0,16.0,17.0,18.0,19.0]\n},\n&quot;kind&quot;:&quot;plot&quot;,\n&quot;scales&quot;:[{\n&quot;aesthetic&quot;:&quot;x&quot;,\n&quot;limits&quot;:[null,null]\n},{\n&quot;aesthetic&quot;:&quot;y&quot;,\n&quot;limits&quot;:[null,null]\n}],\n&quot;layers&quot;:[{\n&quot;mapping&quot;:{\n&quot;x&quot;:&quot;xvar&quot;,\n&quot;y&quot;:&quot;yvar&quot;\n},\n&quot;stat&quot;:&quot;identity&quot;,\n&quot;shape&quot;:1.0,\n&quot;sampling&quot;:&quot;none&quot;,\n&quot;position&quot;:&quot;identity&quot;,\n&quot;geom&quot;:&quot;point&quot;,\n&quot;data&quot;:{\n}\n}]\n};\n       var plotContainer = document.getElementById(&quot;wZjPCQ&quot;);\n       LetsPlot.buildPlotFromProcessedSpecs(plotSpec, -1, -1, plotContainer);\n   &lt;/script>\n   &lt;/body>\n&lt;/html>\"></iframe>            \n        <svg id=2dc02344-af0f-4710-9210-fad200d1fa63 xmlns=\"http://www.w3.org/2000/svg\" xmlns:xlink=\"http://www.w3.org/1999/xlink\" class=\"plt-container\" width=\"600.0\" height=\"400.0\">\n  <style type=\"text/css\">\n  .plt-container {\n   font-family: Lucida Grande, sans-serif;\n   user-select: none;\n   -webkit-user-select: none;\n   -moz-user-select: none;\n   -ms-user-select: none;\n}\ntext {\n   text-rendering: optimizeLegibility;\n}\n#pKXqxgM .plot-title {\n   fill: #474747;\n   font-family: Lucida Grande, sans-serif;\n   font-size: 16.0px;\n   font-weight: normal;\n   font-style: normal;   \n}\n#pKXqxgM .plot-subtitle {\n   fill: #474747;\n   font-family: Lucida Grande, sans-serif;\n   font-size: 15.0px;\n   font-weight: normal;\n   font-style: normal;   \n}\n#pKXqxgM .plot-caption {\n   fill: #474747;\n   font-family: Lucida Grande, sans-serif;\n   font-size: 13.0px;\n   font-weight: normal;\n   font-style: normal;   \n}\n#pKXqxgM .legend-title {\n   fill: #474747;\n   font-family: Lucida Grande, sans-serif;\n   font-size: 15.0px;\n   font-weight: normal;\n   font-style: normal;   \n}\n#pKXqxgM .legend-item {\n   fill: #474747;\n   font-family: Lucida Grande, sans-serif;\n   font-size: 13.0px;\n   font-weight: normal;\n   font-style: normal;   \n}\n#pKXqxgM .axis-title-x {\n   fill: #474747;\n   font-family: Lucida Grande, sans-serif;\n   font-size: 15.0px;\n   font-weight: normal;\n   font-style: normal;   \n}\n#pKXqxgM .axis-text-x {\n   fill: #474747;\n   font-family: Lucida Grande, sans-serif;\n   font-size: 13.0px;\n   font-weight: normal;\n   font-style: normal;   \n}\n#dyK4y8R .axis-tooltip-text-x {\n   fill: #ffffff;\n   font-family: Lucida Grande, sans-serif;\n   font-size: 13.0px;\n   font-weight: normal;\n   font-style: normal;   \n}\n#pKXqxgM .axis-title-y {\n   fill: #474747;\n   font-family: Lucida Grande, sans-serif;\n   font-size: 15.0px;\n   font-weight: normal;\n   font-style: normal;   \n}\n#pKXqxgM .axis-text-y {\n   fill: #474747;\n   font-family: Lucida Grande, sans-serif;\n   font-size: 13.0px;\n   font-weight: normal;\n   font-style: normal;   \n}\n#dyK4y8R .axis-tooltip-text-y {\n   fill: #ffffff;\n   font-family: Lucida Grande, sans-serif;\n   font-size: 13.0px;\n   font-weight: normal;\n   font-style: normal;   \n}\n#pKXqxgM .facet-strip-text-x {\n   fill: #474747;\n   font-family: Lucida Grande, sans-serif;\n   font-size: 13.0px;\n   font-weight: normal;\n   font-style: normal;   \n}\n#pKXqxgM .facet-strip-text-y {\n   fill: #474747;\n   font-family: Lucida Grande, sans-serif;\n   font-size: 13.0px;\n   font-weight: normal;\n   font-style: normal;   \n}\n#dyK4y8R .tooltip-text {\n   fill: #474747;\n   font-family: Lucida Grande, sans-serif;\n   font-size: 13.0px;\n   font-weight: normal;\n   font-style: normal;   \n}\n#dyK4y8R .tooltip-title {\n   fill: #474747;\n   font-family: Lucida Grande, sans-serif;\n   font-size: 13.0px;\n   font-weight: bold;\n   font-style: normal;   \n}\n#dyK4y8R .tooltip-label {\n   fill: #474747;\n   font-family: Lucida Grande, sans-serif;\n   font-size: 13.0px;\n   font-weight: bold;\n   font-style: normal;   \n}\n\n  </style>\n  <g id=\"pKXqxgM\">\n    <path fill-rule=\"evenodd\" fill=\"rgb(255,255,255)\" fill-opacity=\"1.0\" d=\"M0.0 0.0 L0.0 400.0 L600.0 400.0 L600.0 0.0 Z\">\n    </path>\n    <g transform=\"translate(23.0 10.0 ) \">\n      <g transform=\"translate(21.961210910936405 344.0 ) \">\n        <line x1=\"24.774490413139258\" y1=\"-0.0\" x2=\"24.774490413139258\" y2=\"-344.0\" stroke=\"rgb(233,233,233)\" stroke-opacity=\"1.0\" stroke-width=\"1.0\">\n        </line>\n        <line x1=\"76.9313123355377\" y1=\"-0.0\" x2=\"76.9313123355377\" y2=\"-344.0\" stroke=\"rgb(233,233,233)\" stroke-opacity=\"1.0\" stroke-width=\"1.0\">\n        </line>\n        <line x1=\"129.08813425793613\" y1=\"-0.0\" x2=\"129.08813425793613\" y2=\"-344.0\" stroke=\"rgb(233,233,233)\" stroke-opacity=\"1.0\" stroke-width=\"1.0\">\n        </line>\n        <line x1=\"181.24495618033458\" y1=\"-0.0\" x2=\"181.24495618033458\" y2=\"-344.0\" stroke=\"rgb(233,233,233)\" stroke-opacity=\"1.0\" stroke-width=\"1.0\">\n        </line>\n        <line x1=\"233.401778102733\" y1=\"-0.0\" x2=\"233.401778102733\" y2=\"-344.0\" stroke=\"rgb(233,233,233)\" stroke-opacity=\"1.0\" stroke-width=\"1.0\">\n        </line>\n        <line x1=\"285.5586000251314\" y1=\"-0.0\" x2=\"285.5586000251314\" y2=\"-344.0\" stroke=\"rgb(233,233,233)\" stroke-opacity=\"1.0\" stroke-width=\"1.0\">\n        </line>\n        <line x1=\"337.7154219475299\" y1=\"-0.0\" x2=\"337.7154219475299\" y2=\"-344.0\" stroke=\"rgb(233,233,233)\" stroke-opacity=\"1.0\" stroke-width=\"1.0\">\n        </line>\n        <line x1=\"389.8722438699283\" y1=\"-0.0\" x2=\"389.8722438699283\" y2=\"-344.0\" stroke=\"rgb(233,233,233)\" stroke-opacity=\"1.0\" stroke-width=\"1.0\">\n        </line>\n        <line x1=\"442.0290657923267\" y1=\"-0.0\" x2=\"442.0290657923267\" y2=\"-344.0\" stroke=\"rgb(233,233,233)\" stroke-opacity=\"1.0\" stroke-width=\"1.0\">\n        </line>\n        <line x1=\"494.18588771472514\" y1=\"-0.0\" x2=\"494.18588771472514\" y2=\"-344.0\" stroke=\"rgb(233,233,233)\" stroke-opacity=\"1.0\" stroke-width=\"1.0\">\n        </line>\n        <g transform=\"translate(24.774490413139258 0.0 ) \">\n          <line stroke-width=\"1.0\" stroke=\"rgb(71,71,71)\" stroke-opacity=\"1.0\" x2=\"0.0\" y2=\"4.0\">\n          </line>\n          <g transform=\"translate(0.0 7.0 ) \">\n            <text class=\"axis-text-x\" text-anchor=\"middle\" dy=\"0.7em\">\n            0\n            </text>\n          </g>\n        </g>\n        <g transform=\"translate(76.9313123355377 0.0 ) \">\n          <line stroke-width=\"1.0\" stroke=\"rgb(71,71,71)\" stroke-opacity=\"1.0\" x2=\"0.0\" y2=\"4.0\">\n          </line>\n          <g transform=\"translate(0.0 7.0 ) \">\n            <text class=\"axis-text-x\" text-anchor=\"middle\" dy=\"0.7em\">\n            2\n            </text>\n          </g>\n        </g>\n        <g transform=\"translate(129.08813425793613 0.0 ) \">\n          <line stroke-width=\"1.0\" stroke=\"rgb(71,71,71)\" stroke-opacity=\"1.0\" x2=\"0.0\" y2=\"4.0\">\n          </line>\n          <g transform=\"translate(0.0 7.0 ) \">\n            <text class=\"axis-text-x\" text-anchor=\"middle\" dy=\"0.7em\">\n            4\n            </text>\n          </g>\n        </g>\n        <g transform=\"translate(181.24495618033458 0.0 ) \">\n          <line stroke-width=\"1.0\" stroke=\"rgb(71,71,71)\" stroke-opacity=\"1.0\" x2=\"0.0\" y2=\"4.0\">\n          </line>\n          <g transform=\"translate(0.0 7.0 ) \">\n            <text class=\"axis-text-x\" text-anchor=\"middle\" dy=\"0.7em\">\n            6\n            </text>\n          </g>\n        </g>\n        <g transform=\"translate(233.401778102733 0.0 ) \">\n          <line stroke-width=\"1.0\" stroke=\"rgb(71,71,71)\" stroke-opacity=\"1.0\" x2=\"0.0\" y2=\"4.0\">\n          </line>\n          <g transform=\"translate(0.0 7.0 ) \">\n            <text class=\"axis-text-x\" text-anchor=\"middle\" dy=\"0.7em\">\n            8\n            </text>\n          </g>\n        </g>\n        <g transform=\"translate(285.5586000251314 0.0 ) \">\n          <line stroke-width=\"1.0\" stroke=\"rgb(71,71,71)\" stroke-opacity=\"1.0\" x2=\"0.0\" y2=\"4.0\">\n          </line>\n          <g transform=\"translate(0.0 7.0 ) \">\n            <text class=\"axis-text-x\" text-anchor=\"middle\" dy=\"0.7em\">\n            10\n            </text>\n          </g>\n        </g>\n        <g transform=\"translate(337.7154219475299 0.0 ) \">\n          <line stroke-width=\"1.0\" stroke=\"rgb(71,71,71)\" stroke-opacity=\"1.0\" x2=\"0.0\" y2=\"4.0\">\n          </line>\n          <g transform=\"translate(0.0 7.0 ) \">\n            <text class=\"axis-text-x\" text-anchor=\"middle\" dy=\"0.7em\">\n            12\n            </text>\n          </g>\n        </g>\n        <g transform=\"translate(389.8722438699283 0.0 ) \">\n          <line stroke-width=\"1.0\" stroke=\"rgb(71,71,71)\" stroke-opacity=\"1.0\" x2=\"0.0\" y2=\"4.0\">\n          </line>\n          <g transform=\"translate(0.0 7.0 ) \">\n            <text class=\"axis-text-x\" text-anchor=\"middle\" dy=\"0.7em\">\n            14\n            </text>\n          </g>\n        </g>\n        <g transform=\"translate(442.0290657923267 0.0 ) \">\n          <line stroke-width=\"1.0\" stroke=\"rgb(71,71,71)\" stroke-opacity=\"1.0\" x2=\"0.0\" y2=\"4.0\">\n          </line>\n          <g transform=\"translate(0.0 7.0 ) \">\n            <text class=\"axis-text-x\" text-anchor=\"middle\" dy=\"0.7em\">\n            16\n            </text>\n          </g>\n        </g>\n        <g transform=\"translate(494.18588771472514 0.0 ) \">\n          <line stroke-width=\"1.0\" stroke=\"rgb(71,71,71)\" stroke-opacity=\"1.0\" x2=\"0.0\" y2=\"4.0\">\n          </line>\n          <g transform=\"translate(0.0 7.0 ) \">\n            <text class=\"axis-text-x\" text-anchor=\"middle\" dy=\"0.7em\">\n            18\n            </text>\n          </g>\n        </g>\n        <line x1=\"0.0\" y1=\"0.0\" x2=\"545.0387890890636\" y2=\"0.0\" stroke-width=\"1.0\" stroke=\"rgb(71,71,71)\" stroke-opacity=\"1.0\">\n        </line>\n      </g>\n      <g transform=\"translate(21.961210910936405 0.0 ) \">\n        <line x1=\"0.0\" y1=\"337.85408495621675\" x2=\"545.0387890890636\" y2=\"337.85408495621675\" stroke=\"rgb(233,233,233)\" stroke-opacity=\"1.0\" stroke-width=\"1.0\">\n        </line>\n        <line x1=\"0.0\" y1=\"268.66679973801104\" x2=\"545.0387890890636\" y2=\"268.66679973801104\" stroke=\"rgb(233,233,233)\" stroke-opacity=\"1.0\" stroke-width=\"1.0\">\n        </line>\n        <line x1=\"0.0\" y1=\"199.47951451980532\" x2=\"545.0387890890636\" y2=\"199.47951451980532\" stroke=\"rgb(233,233,233)\" stroke-opacity=\"1.0\" stroke-width=\"1.0\">\n        </line>\n        <line x1=\"0.0\" y1=\"130.29222930159963\" x2=\"545.0387890890636\" y2=\"130.29222930159963\" stroke=\"rgb(233,233,233)\" stroke-opacity=\"1.0\" stroke-width=\"1.0\">\n        </line>\n        <line x1=\"0.0\" y1=\"61.104944083393946\" x2=\"545.0387890890636\" y2=\"61.104944083393946\" stroke=\"rgb(233,233,233)\" stroke-opacity=\"1.0\" stroke-width=\"1.0\">\n        </line>\n        <g transform=\"translate(0.0 337.85408495621675 ) \">\n          <g transform=\"translate(-3.0 0.0 ) \">\n            <text class=\"axis-text-y\" text-anchor=\"end\" dy=\"0.35em\">\n            -5\n            </text>\n          </g>\n        </g>\n        <g transform=\"translate(0.0 268.66679973801104 ) \">\n          <g transform=\"translate(-3.0 0.0 ) \">\n            <text class=\"axis-text-y\" text-anchor=\"end\" dy=\"0.35em\">\n            0\n            </text>\n          </g>\n        </g>\n        <g transform=\"translate(0.0 199.47951451980532 ) \">\n          <g transform=\"translate(-3.0 0.0 ) \">\n            <text class=\"axis-text-y\" text-anchor=\"end\" dy=\"0.35em\">\n            5\n            </text>\n          </g>\n        </g>\n        <g transform=\"translate(0.0 130.29222930159963 ) \">\n          <g transform=\"translate(-3.0 0.0 ) \">\n            <text class=\"axis-text-y\" text-anchor=\"end\" dy=\"0.35em\">\n            10\n            </text>\n          </g>\n        </g>\n        <g transform=\"translate(0.0 61.104944083393946 ) \">\n          <g transform=\"translate(-3.0 0.0 ) \">\n            <text class=\"axis-text-y\" text-anchor=\"end\" dy=\"0.35em\">\n            15\n            </text>\n          </g>\n        </g>\n      </g>\n      <g transform=\"translate(21.961210910936405 0.0 ) \" clip-path=\"url(#cJkLys3)\" clip-bounds-jfx=\"[rect (0.0, 0.0), (545.0387890890636, 344.0)]\">\n        <defs>\n          <clipPath id=\"cJkLys3\">\n            <rect x=\"0.0\" y=\"0.0\" width=\"545.0387890890636\" height=\"344.0\">\n            </rect>\n          </clipPath>\n        </defs>\n        <g>\n          \n          <g >\n            <circle fill=\"#000000\" fill-opacity=\"0.0\" stroke=\"#474747\" stroke-width=\"1.6500000000000001\" cx=\"24.774490413139258\" cy=\"328.3636363636364\" r=\"4.125\" />\n            <circle fill=\"#000000\" fill-opacity=\"0.0\" stroke=\"#474747\" stroke-width=\"1.6500000000000001\" cx=\"50.85290137433847\" cy=\"228.50240136419015\" r=\"4.125\" />\n            <circle fill=\"#000000\" fill-opacity=\"0.0\" stroke=\"#474747\" stroke-width=\"1.6500000000000001\" cx=\"76.9313123355377\" cy=\"231.60751547543637\" r=\"4.125\" />\n            <circle fill=\"#000000\" fill-opacity=\"0.0\" stroke=\"#474747\" stroke-width=\"1.6500000000000001\" cx=\"103.00972329673692\" cy=\"215.6364041452704\" r=\"4.125\" />\n            <circle fill=\"#000000\" fill-opacity=\"0.0\" stroke=\"#474747\" stroke-width=\"1.6500000000000001\" cx=\"129.08813425793613\" cy=\"205.66544637196807\" r=\"4.125\" />\n            <circle fill=\"#000000\" fill-opacity=\"0.0\" stroke=\"#474747\" stroke-width=\"1.6500000000000001\" cx=\"155.16654521913534\" cy=\"214.64040438999126\" r=\"4.125\" />\n            <circle fill=\"#000000\" fill-opacity=\"0.0\" stroke=\"#474747\" stroke-width=\"1.6500000000000001\" cx=\"181.24495618033458\" cy=\"129.51607951365327\" r=\"4.125\" />\n            <circle fill=\"#000000\" fill-opacity=\"0.0\" stroke=\"#474747\" stroke-width=\"1.6500000000000001\" cx=\"207.3233671415338\" cy=\"156.89185285351633\" r=\"4.125\" />\n            <circle fill=\"#000000\" fill-opacity=\"0.0\" stroke=\"#474747\" stroke-width=\"1.6500000000000001\" cx=\"233.401778102733\" cy=\"166.48877598145455\" r=\"4.125\" />\n            <circle fill=\"#000000\" fill-opacity=\"0.0\" stroke=\"#474747\" stroke-width=\"1.6500000000000001\" cx=\"259.4801890639322\" cy=\"101.8910430590253\" r=\"4.125\" />\n            <circle fill=\"#000000\" fill-opacity=\"0.0\" stroke=\"#474747\" stroke-width=\"1.6500000000000001\" cx=\"285.5586000251314\" cy=\"73.35533776850136\" r=\"4.125\" />\n            <circle fill=\"#000000\" fill-opacity=\"0.0\" stroke=\"#474747\" stroke-width=\"1.6500000000000001\" cx=\"311.6370109863306\" cy=\"194.92139415775216\" r=\"4.125\" />\n            <circle fill=\"#000000\" fill-opacity=\"0.0\" stroke=\"#474747\" stroke-width=\"1.6500000000000001\" cx=\"337.7154219475299\" cy=\"122.00865410916634\" r=\"4.125\" />\n            <circle fill=\"#000000\" fill-opacity=\"0.0\" stroke=\"#474747\" stroke-width=\"1.6500000000000001\" cx=\"363.7938329087291\" cy=\"116.63773928227968\" r=\"4.125\" />\n            <circle fill=\"#000000\" fill-opacity=\"0.0\" stroke=\"#474747\" stroke-width=\"1.6500000000000001\" cx=\"389.8722438699283\" cy=\"144.6581645481573\" r=\"4.125\" />\n            <circle fill=\"#000000\" fill-opacity=\"0.0\" stroke=\"#474747\" stroke-width=\"1.6500000000000001\" cx=\"415.9506548311275\" cy=\"72.25563707288666\" r=\"4.125\" />\n            <circle fill=\"#000000\" fill-opacity=\"0.0\" stroke=\"#474747\" stroke-width=\"1.6500000000000001\" cx=\"442.0290657923267\" cy=\"59.721411805090696\" r=\"4.125\" />\n            <circle fill=\"#000000\" fill-opacity=\"0.0\" stroke=\"#474747\" stroke-width=\"1.6500000000000001\" cx=\"468.10747675352593\" cy=\"92.44779151120676\" r=\"4.125\" />\n            <circle fill=\"#000000\" fill-opacity=\"0.0\" stroke=\"#474747\" stroke-width=\"1.6500000000000001\" cx=\"494.18588771472514\" cy=\"15.636363636363598\" r=\"4.125\" />\n            <circle fill=\"#000000\" fill-opacity=\"0.0\" stroke=\"#474747\" stroke-width=\"1.6500000000000001\" cx=\"520.2642986759244\" cy=\"21.915728214378078\" r=\"4.125\" />\n          </g>\n        </g>\n      </g>\n    </g>\n    <g transform=\"translate(14.5 182.0 ) rotate(-90.0 ) \">\n      <text class=\"axis-title-y\" y=\"0.0\" text-anchor=\"middle\">\n      yvar\n      </text>\n    </g>\n    <g transform=\"translate(317.4806054554682 391.5 ) \">\n      <text class=\"axis-title-x\" y=\"0.0\" text-anchor=\"middle\">\n      xvar\n      </text>\n    </g>\n    <path fill=\"rgb(0,0,0)\" fill-opacity=\"0.0\" stroke=\"rgb(71,71,71)\" stroke-opacity=\"1.0\" stroke-width=\"0.0\" d=\"M0.0 0.0 L0.0 400.0 L600.0 400.0 L600.0 0.0 Z\">\n    </path>\n  </g>\n  <g id=\"dyK4y8R\">\n  </g>\n</svg>\n        <script>document.getElementById(\"2dc02344-af0f-4710-9210-fad200d1fa63\").style.display = \"none\";</script>",
      "application/plot+json": {
       "output_type": "lets_plot_spec",
       "output": {
        "mapping": {},
        "data": {
         "yvar": [
          -4.314148,
          2.9025853,
          2.678186,
          3.83238,
          4.5529575,
          3.9043586,
          10.05609,
          8.077708,
          7.384162,
          12.052486,
          14.114694,
          5.3294044,
          10.598634,
          10.986777,
          8.961808,
          14.194166,
          15.099984,
          12.734927,
          18.285906,
          17.832111
         ],
         "xvar": [
          0.0,
          1.0,
          2.0,
          3.0,
          4.0,
          5.0,
          6.0,
          7.0,
          8.0,
          9.0,
          10.0,
          11.0,
          12.0,
          13.0,
          14.0,
          15.0,
          16.0,
          17.0,
          18.0,
          19.0
         ]
        },
        "kind": "plot",
        "scales": [
         {
          "aesthetic": "x",
          "limits": [
           null,
           null
          ]
         },
         {
          "aesthetic": "y",
          "limits": [
           null,
           null
          ]
         }
        ],
        "layers": [
         {
          "mapping": {
           "x": "xvar",
           "y": "yvar"
          },
          "stat": "identity",
          "shape": 1.0,
          "sampling": "none",
          "position": "identity",
          "geom": "point"
         }
        ]
       },
       "apply_color_scheme": true,
       "swing_enabled": true
      }
     },
     "execution_count": 3,
     "metadata": {},
     "output_type": "execute_result"
    }
   ],
   "source": [
    "plot(data) {\n",
    "    points {\n",
    "        x(xvar)\n",
    "        y(yvar)\n",
    "        symbol = Symbol.CIRCLE_OPEN\n",
    "    }\n",
    "}"
   ]
  },
  {
   "cell_type": "code",
   "execution_count": 4,
   "metadata": {
    "ExecuteTime": {
     "end_time": "2023-11-28T18:07:01.102959Z",
     "start_time": "2023-11-28T18:07:00.931790Z"
    }
   },
   "outputs": [
    {
     "data": {
      "text/html": "            <iframe src='about:blank' style='border:none !important;' width='700' height='350' srcdoc=\"&lt;html lang=&quot;en&quot;>\n   &lt;head>\n       &lt;style> html, body { margin: 0; overflow: hidden; } &lt;/style>\n       &lt;script type=&quot;text/javascript&quot; data-lets-plot-script=&quot;library&quot; src=&quot;https://cdn.jsdelivr.net/gh/JetBrains/lets-plot@v4.0.1/js-package/distr/lets-plot.min.js&quot;>&lt;/script>\n   &lt;/head>\n   &lt;body>\n          &lt;div id=&quot;7KREZy&quot;>&lt;/div>\n   &lt;script type=&quot;text/javascript&quot; data-lets-plot-script=&quot;plot&quot;>\n       var plotSpec={\n&quot;mapping&quot;:{\n},\n&quot;data&quot;:{\n&quot;yvar&quot;:[-4.31414792742272,2.9025852255330413,2.678186038496493,3.8323801422104644,4.552957466631817,3.9043586677544218,10.056090493036294,8.077708681007955,7.384161947842241,12.052485955548157,14.114693281686685,5.329404481450428,10.598634211929852,10.98677740976943,8.96180814139117,14.194166026725489,15.099984576207884,12.734927210327559,18.2859058065098,17.832111113004313],\n&quot;xvar&quot;:[0.0,1.0,2.0,3.0,4.0,5.0,6.0,7.0,8.0,9.0,10.0,11.0,12.0,13.0,14.0,15.0,16.0,17.0,18.0,19.0],\n&quot;cond&quot;:[&quot;A&quot;,&quot;A&quot;,&quot;A&quot;,&quot;A&quot;,&quot;A&quot;,&quot;A&quot;,&quot;A&quot;,&quot;A&quot;,&quot;A&quot;,&quot;A&quot;,&quot;B&quot;,&quot;B&quot;,&quot;B&quot;,&quot;B&quot;,&quot;B&quot;,&quot;B&quot;,&quot;B&quot;,&quot;B&quot;,&quot;B&quot;,&quot;B&quot;]\n},\n&quot;ggsize&quot;:{\n&quot;width&quot;:700.0,\n&quot;height&quot;:350.0\n},\n&quot;kind&quot;:&quot;plot&quot;,\n&quot;scales&quot;:[{\n&quot;aesthetic&quot;:&quot;x&quot;,\n&quot;limits&quot;:[null,null]\n},{\n&quot;aesthetic&quot;:&quot;y&quot;,\n&quot;limits&quot;:[null,null]\n},{\n&quot;aesthetic&quot;:&quot;color&quot;,\n&quot;discrete&quot;:true\n},{\n&quot;aesthetic&quot;:&quot;shape&quot;\n}],\n&quot;layers&quot;:[{\n&quot;mapping&quot;:{\n&quot;x&quot;:&quot;xvar&quot;,\n&quot;y&quot;:&quot;yvar&quot;,\n&quot;color&quot;:&quot;cond&quot;,\n&quot;shape&quot;:&quot;cond&quot;\n},\n&quot;stat&quot;:&quot;identity&quot;,\n&quot;size&quot;:5.0,\n&quot;sampling&quot;:&quot;none&quot;,\n&quot;position&quot;:&quot;identity&quot;,\n&quot;geom&quot;:&quot;point&quot;,\n&quot;data&quot;:{\n}\n}]\n};\n       var plotContainer = document.getElementById(&quot;7KREZy&quot;);\n       LetsPlot.buildPlotFromProcessedSpecs(plotSpec, -1, -1, plotContainer);\n   &lt;/script>\n   &lt;/body>\n&lt;/html>\"></iframe>            \n        <svg id=4d4b24c7-0652-42ab-84a9-0a489b0a96d8 xmlns=\"http://www.w3.org/2000/svg\" xmlns:xlink=\"http://www.w3.org/1999/xlink\" class=\"plt-container\" width=\"700.0\" height=\"350.0\">\n  <style type=\"text/css\">\n  .plt-container {\n   font-family: Lucida Grande, sans-serif;\n   user-select: none;\n   -webkit-user-select: none;\n   -moz-user-select: none;\n   -ms-user-select: none;\n}\ntext {\n   text-rendering: optimizeLegibility;\n}\n#pOdwrfB .plot-title {\n   fill: #474747;\n   font-family: Lucida Grande, sans-serif;\n   font-size: 16.0px;\n   font-weight: normal;\n   font-style: normal;   \n}\n#pOdwrfB .plot-subtitle {\n   fill: #474747;\n   font-family: Lucida Grande, sans-serif;\n   font-size: 15.0px;\n   font-weight: normal;\n   font-style: normal;   \n}\n#pOdwrfB .plot-caption {\n   fill: #474747;\n   font-family: Lucida Grande, sans-serif;\n   font-size: 13.0px;\n   font-weight: normal;\n   font-style: normal;   \n}\n#pOdwrfB .legend-title {\n   fill: #474747;\n   font-family: Lucida Grande, sans-serif;\n   font-size: 15.0px;\n   font-weight: normal;\n   font-style: normal;   \n}\n#pOdwrfB .legend-item {\n   fill: #474747;\n   font-family: Lucida Grande, sans-serif;\n   font-size: 13.0px;\n   font-weight: normal;\n   font-style: normal;   \n}\n#pOdwrfB .axis-title-x {\n   fill: #474747;\n   font-family: Lucida Grande, sans-serif;\n   font-size: 15.0px;\n   font-weight: normal;\n   font-style: normal;   \n}\n#pOdwrfB .axis-text-x {\n   fill: #474747;\n   font-family: Lucida Grande, sans-serif;\n   font-size: 13.0px;\n   font-weight: normal;\n   font-style: normal;   \n}\n#dKTiT93 .axis-tooltip-text-x {\n   fill: #ffffff;\n   font-family: Lucida Grande, sans-serif;\n   font-size: 13.0px;\n   font-weight: normal;\n   font-style: normal;   \n}\n#pOdwrfB .axis-title-y {\n   fill: #474747;\n   font-family: Lucida Grande, sans-serif;\n   font-size: 15.0px;\n   font-weight: normal;\n   font-style: normal;   \n}\n#pOdwrfB .axis-text-y {\n   fill: #474747;\n   font-family: Lucida Grande, sans-serif;\n   font-size: 13.0px;\n   font-weight: normal;\n   font-style: normal;   \n}\n#dKTiT93 .axis-tooltip-text-y {\n   fill: #ffffff;\n   font-family: Lucida Grande, sans-serif;\n   font-size: 13.0px;\n   font-weight: normal;\n   font-style: normal;   \n}\n#pOdwrfB .facet-strip-text-x {\n   fill: #474747;\n   font-family: Lucida Grande, sans-serif;\n   font-size: 13.0px;\n   font-weight: normal;\n   font-style: normal;   \n}\n#pOdwrfB .facet-strip-text-y {\n   fill: #474747;\n   font-family: Lucida Grande, sans-serif;\n   font-size: 13.0px;\n   font-weight: normal;\n   font-style: normal;   \n}\n#dKTiT93 .tooltip-text {\n   fill: #474747;\n   font-family: Lucida Grande, sans-serif;\n   font-size: 13.0px;\n   font-weight: normal;\n   font-style: normal;   \n}\n#dKTiT93 .tooltip-title {\n   fill: #474747;\n   font-family: Lucida Grande, sans-serif;\n   font-size: 13.0px;\n   font-weight: bold;\n   font-style: normal;   \n}\n#dKTiT93 .tooltip-label {\n   fill: #474747;\n   font-family: Lucida Grande, sans-serif;\n   font-size: 13.0px;\n   font-weight: bold;\n   font-style: normal;   \n}\n\n  </style>\n  <g id=\"pOdwrfB\">\n    <path fill-rule=\"evenodd\" fill=\"rgb(255,255,255)\" fill-opacity=\"1.0\" d=\"M0.0 0.0 L0.0 350.0 L700.0 350.0 L700.0 0.0 Z\">\n    </path>\n    <g transform=\"translate(23.0 10.0 ) \">\n      <g transform=\"translate(21.961210910936405 294.0 ) \">\n        <line x1=\"26.736405659922355\" y1=\"-0.0\" x2=\"26.736405659922355\" y2=\"-294.0\" stroke=\"rgb(233,233,233)\" stroke-opacity=\"1.0\" stroke-width=\"1.0\">\n        </line>\n        <line x1=\"83.02357547028521\" y1=\"-0.0\" x2=\"83.02357547028521\" y2=\"-294.0\" stroke=\"rgb(233,233,233)\" stroke-opacity=\"1.0\" stroke-width=\"1.0\">\n        </line>\n        <line x1=\"139.31074528064806\" y1=\"-0.0\" x2=\"139.31074528064806\" y2=\"-294.0\" stroke=\"rgb(233,233,233)\" stroke-opacity=\"1.0\" stroke-width=\"1.0\">\n        </line>\n        <line x1=\"195.5979150910109\" y1=\"-0.0\" x2=\"195.5979150910109\" y2=\"-294.0\" stroke=\"rgb(233,233,233)\" stroke-opacity=\"1.0\" stroke-width=\"1.0\">\n        </line>\n        <line x1=\"251.88508490137374\" y1=\"-0.0\" x2=\"251.88508490137374\" y2=\"-294.0\" stroke=\"rgb(233,233,233)\" stroke-opacity=\"1.0\" stroke-width=\"1.0\">\n        </line>\n        <line x1=\"308.17225471173657\" y1=\"-0.0\" x2=\"308.17225471173657\" y2=\"-294.0\" stroke=\"rgb(233,233,233)\" stroke-opacity=\"1.0\" stroke-width=\"1.0\">\n        </line>\n        <line x1=\"364.4594245220994\" y1=\"-0.0\" x2=\"364.4594245220994\" y2=\"-294.0\" stroke=\"rgb(233,233,233)\" stroke-opacity=\"1.0\" stroke-width=\"1.0\">\n        </line>\n        <line x1=\"420.7465943324623\" y1=\"-0.0\" x2=\"420.7465943324623\" y2=\"-294.0\" stroke=\"rgb(233,233,233)\" stroke-opacity=\"1.0\" stroke-width=\"1.0\">\n        </line>\n        <line x1=\"477.03376414282513\" y1=\"-0.0\" x2=\"477.03376414282513\" y2=\"-294.0\" stroke=\"rgb(233,233,233)\" stroke-opacity=\"1.0\" stroke-width=\"1.0\">\n        </line>\n        <line x1=\"533.3209339531879\" y1=\"-0.0\" x2=\"533.3209339531879\" y2=\"-294.0\" stroke=\"rgb(233,233,233)\" stroke-opacity=\"1.0\" stroke-width=\"1.0\">\n        </line>\n        <g transform=\"translate(26.736405659922355 0.0 ) \">\n          <line stroke-width=\"1.0\" stroke=\"rgb(71,71,71)\" stroke-opacity=\"1.0\" x2=\"0.0\" y2=\"4.0\">\n          </line>\n          <g transform=\"translate(0.0 7.0 ) \">\n            <text class=\"axis-text-x\" text-anchor=\"middle\" dy=\"0.7em\">\n            0\n            </text>\n          </g>\n        </g>\n        <g transform=\"translate(83.02357547028521 0.0 ) \">\n          <line stroke-width=\"1.0\" stroke=\"rgb(71,71,71)\" stroke-opacity=\"1.0\" x2=\"0.0\" y2=\"4.0\">\n          </line>\n          <g transform=\"translate(0.0 7.0 ) \">\n            <text class=\"axis-text-x\" text-anchor=\"middle\" dy=\"0.7em\">\n            2\n            </text>\n          </g>\n        </g>\n        <g transform=\"translate(139.31074528064806 0.0 ) \">\n          <line stroke-width=\"1.0\" stroke=\"rgb(71,71,71)\" stroke-opacity=\"1.0\" x2=\"0.0\" y2=\"4.0\">\n          </line>\n          <g transform=\"translate(0.0 7.0 ) \">\n            <text class=\"axis-text-x\" text-anchor=\"middle\" dy=\"0.7em\">\n            4\n            </text>\n          </g>\n        </g>\n        <g transform=\"translate(195.5979150910109 0.0 ) \">\n          <line stroke-width=\"1.0\" stroke=\"rgb(71,71,71)\" stroke-opacity=\"1.0\" x2=\"0.0\" y2=\"4.0\">\n          </line>\n          <g transform=\"translate(0.0 7.0 ) \">\n            <text class=\"axis-text-x\" text-anchor=\"middle\" dy=\"0.7em\">\n            6\n            </text>\n          </g>\n        </g>\n        <g transform=\"translate(251.88508490137374 0.0 ) \">\n          <line stroke-width=\"1.0\" stroke=\"rgb(71,71,71)\" stroke-opacity=\"1.0\" x2=\"0.0\" y2=\"4.0\">\n          </line>\n          <g transform=\"translate(0.0 7.0 ) \">\n            <text class=\"axis-text-x\" text-anchor=\"middle\" dy=\"0.7em\">\n            8\n            </text>\n          </g>\n        </g>\n        <g transform=\"translate(308.17225471173657 0.0 ) \">\n          <line stroke-width=\"1.0\" stroke=\"rgb(71,71,71)\" stroke-opacity=\"1.0\" x2=\"0.0\" y2=\"4.0\">\n          </line>\n          <g transform=\"translate(0.0 7.0 ) \">\n            <text class=\"axis-text-x\" text-anchor=\"middle\" dy=\"0.7em\">\n            10\n            </text>\n          </g>\n        </g>\n        <g transform=\"translate(364.4594245220994 0.0 ) \">\n          <line stroke-width=\"1.0\" stroke=\"rgb(71,71,71)\" stroke-opacity=\"1.0\" x2=\"0.0\" y2=\"4.0\">\n          </line>\n          <g transform=\"translate(0.0 7.0 ) \">\n            <text class=\"axis-text-x\" text-anchor=\"middle\" dy=\"0.7em\">\n            12\n            </text>\n          </g>\n        </g>\n        <g transform=\"translate(420.7465943324623 0.0 ) \">\n          <line stroke-width=\"1.0\" stroke=\"rgb(71,71,71)\" stroke-opacity=\"1.0\" x2=\"0.0\" y2=\"4.0\">\n          </line>\n          <g transform=\"translate(0.0 7.0 ) \">\n            <text class=\"axis-text-x\" text-anchor=\"middle\" dy=\"0.7em\">\n            14\n            </text>\n          </g>\n        </g>\n        <g transform=\"translate(477.03376414282513 0.0 ) \">\n          <line stroke-width=\"1.0\" stroke=\"rgb(71,71,71)\" stroke-opacity=\"1.0\" x2=\"0.0\" y2=\"4.0\">\n          </line>\n          <g transform=\"translate(0.0 7.0 ) \">\n            <text class=\"axis-text-x\" text-anchor=\"middle\" dy=\"0.7em\">\n            16\n            </text>\n          </g>\n        </g>\n        <g transform=\"translate(533.3209339531879 0.0 ) \">\n          <line stroke-width=\"1.0\" stroke=\"rgb(71,71,71)\" stroke-opacity=\"1.0\" x2=\"0.0\" y2=\"4.0\">\n          </line>\n          <g transform=\"translate(0.0 7.0 ) \">\n            <text class=\"axis-text-x\" text-anchor=\"middle\" dy=\"0.7em\">\n            18\n            </text>\n          </g>\n        </g>\n        <line x1=\"0.0\" y1=\"0.0\" x2=\"588.2009245182917\" y2=\"0.0\" stroke-width=\"1.0\" stroke=\"rgb(71,71,71)\" stroke-opacity=\"1.0\">\n        </line>\n      </g>\n      <g transform=\"translate(21.961210910936405 0.0 ) \">\n        <line x1=\"0.0\" y1=\"229.6163927993466\" x2=\"588.2009245182917\" y2=\"229.6163927993466\" stroke=\"rgb(233,233,233)\" stroke-opacity=\"1.0\" stroke-width=\"1.0\">\n        </line>\n        <line x1=\"0.0\" y1=\"170.48539903727547\" x2=\"588.2009245182917\" y2=\"170.48539903727547\" stroke=\"rgb(233,233,233)\" stroke-opacity=\"1.0\" stroke-width=\"1.0\">\n        </line>\n        <line x1=\"0.0\" y1=\"111.35440527520431\" x2=\"588.2009245182917\" y2=\"111.35440527520431\" stroke=\"rgb(233,233,233)\" stroke-opacity=\"1.0\" stroke-width=\"1.0\">\n        </line>\n        <line x1=\"0.0\" y1=\"52.22341151313316\" x2=\"588.2009245182917\" y2=\"52.22341151313316\" stroke=\"rgb(233,233,233)\" stroke-opacity=\"1.0\" stroke-width=\"1.0\">\n        </line>\n        <g transform=\"translate(0.0 288.7473865614178 ) \">\n          <g transform=\"translate(-3.0 0.0 ) \">\n            <text class=\"axis-text-y\" text-anchor=\"end\" dy=\"0.35em\">\n            -5\n            </text>\n          </g>\n        </g>\n        <g transform=\"translate(0.0 229.6163927993466 ) \">\n          <g transform=\"translate(-3.0 0.0 ) \">\n            <text class=\"axis-text-y\" text-anchor=\"end\" dy=\"0.35em\">\n            0\n            </text>\n          </g>\n        </g>\n        <g transform=\"translate(0.0 170.48539903727547 ) \">\n          <g transform=\"translate(-3.0 0.0 ) \">\n            <text class=\"axis-text-y\" text-anchor=\"end\" dy=\"0.35em\">\n            5\n            </text>\n          </g>\n        </g>\n        <g transform=\"translate(0.0 111.35440527520431 ) \">\n          <g transform=\"translate(-3.0 0.0 ) \">\n            <text class=\"axis-text-y\" text-anchor=\"end\" dy=\"0.35em\">\n            10\n            </text>\n          </g>\n        </g>\n        <g transform=\"translate(0.0 52.22341151313316 ) \">\n          <g transform=\"translate(-3.0 0.0 ) \">\n            <text class=\"axis-text-y\" text-anchor=\"end\" dy=\"0.35em\">\n            15\n            </text>\n          </g>\n        </g>\n      </g>\n      <g transform=\"translate(21.961210910936405 0.0 ) \" clip-path=\"url(#c9UGKsI)\" clip-bounds-jfx=\"[rect (0.0, 0.0), (588.2009245182917, 294.0)]\">\n        <defs>\n          <clipPath id=\"c9UGKsI\">\n            <rect x=\"0.0\" y=\"0.0\" width=\"588.2009245182917\" height=\"294.0\">\n            </rect>\n          </clipPath>\n        </defs>\n        <g>\n          \n          <g >\n            <circle fill=\"#e41a1c\" stroke=\"#e41a1c\" stroke-opacity=\"0.0\" stroke-width=\"0.0\" cx=\"26.736405659922355\" cy=\"280.6363636363636\" r=\"5.5\" />\n            <circle fill=\"#e41a1c\" stroke=\"#e41a1c\" stroke-opacity=\"0.0\" stroke-width=\"0.0\" cx=\"54.87999056510378\" cy=\"195.28984302637178\" r=\"5.5\" />\n            <circle fill=\"#e41a1c\" stroke=\"#e41a1c\" stroke-opacity=\"0.0\" stroke-width=\"0.0\" cx=\"83.02357547028521\" cy=\"197.94363241214617\" r=\"5.5\" />\n            <circle fill=\"#e41a1c\" stroke=\"#e41a1c\" stroke-opacity=\"0.0\" stroke-width=\"0.0\" cx=\"111.16716037546662\" cy=\"184.29390354276015\" r=\"5.5\" />\n            <circle fill=\"#e41a1c\" stroke=\"#e41a1c\" stroke-opacity=\"0.0\" stroke-width=\"0.0\" cx=\"139.31074528064806\" cy=\"175.77221288767038\" r=\"5.5\" />\n            <circle fill=\"#e41a1c\" stroke=\"#e41a1c\" stroke-opacity=\"0.0\" stroke-width=\"0.0\" cx=\"167.45433018582946\" cy=\"183.4426711937716\" r=\"5.5\" />\n            <circle fill=\"#e41a1c\" stroke=\"#e41a1c\" stroke-opacity=\"0.0\" stroke-width=\"0.0\" cx=\"195.5979150910109\" cy=\"110.6910679564362\" r=\"5.5\" />\n            <circle fill=\"#e41a1c\" stroke=\"#e41a1c\" stroke-opacity=\"0.0\" stroke-width=\"0.0\" cx=\"223.74149999619232\" cy=\"134.08780447364472\" r=\"5.5\" />\n            <circle fill=\"#e41a1c\" stroke=\"#e41a1c\" stroke-opacity=\"0.0\" stroke-width=\"0.0\" cx=\"251.88508490137374\" cy=\"142.28982598415007\" r=\"5.5\" />\n            <circle fill=\"#e41a1c\" stroke=\"#e41a1c\" stroke-opacity=\"0.0\" stroke-width=\"0.0\" cx=\"280.0286698065552\" cy=\"87.08129842835297\" r=\"5.5\" />\n            <path fill=\"#377eb8\" stroke=\"#377eb8\" stroke-opacity=\"0.0\" stroke-width=\"0.0\" d=\"M308.17225471173657 57.9300849999396 L308.17225471173657 57.9300849999396 L313.67225471173657 67.45636444156843 L302.67225471173657 67.45636444156843 Z\" />\n            <path fill=\"#377eb8\" stroke=\"#377eb8\" stroke-opacity=\"0.0\" stroke-width=\"0.0\" d=\"M336.315839616918 161.82665644889232 L336.315839616918 161.82665644889232 L341.815839616918 171.35293589052117 L330.815839616918 171.35293589052117 Z\" />\n            <path fill=\"#377eb8\" stroke=\"#377eb8\" stroke-opacity=\"0.0\" stroke-width=\"0.0\" d=\"M364.4594245220994 99.5116983841126 L364.4594245220994 99.5116983841126 L369.9594245220994 109.03797782574142 L358.9594245220994 109.03797782574142 Z\" />\n            <path fill=\"#377eb8\" stroke=\"#377eb8\" stroke-opacity=\"0.0\" stroke-width=\"0.0\" d=\"M392.6030094272809 94.92143978206413 L392.6030094272809 94.92143978206413 L398.1030094272809 104.44771922369294 L387.1030094272809 104.44771922369294 Z\" />\n            <path fill=\"#377eb8\" stroke=\"#377eb8\" stroke-opacity=\"0.0\" stroke-width=\"0.0\" d=\"M420.7465943324623 118.86912881743625 L420.7465943324623 118.86912881743625 L426.2465943324623 128.39540825906508 L415.2465943324623 128.39540825906508 Z\" />\n            <path fill=\"#377eb8\" stroke=\"#377eb8\" stroke-opacity=\"0.0\" stroke-width=\"0.0\" d=\"M448.89017923764374 56.990224521710765 L448.89017923764374 56.990224521710765 L454.39017923764374 66.51650396333959 L443.39017923764374 66.51650396333959 Z\" />\n            <path fill=\"#377eb8\" stroke=\"#377eb8\" stroke-opacity=\"0.0\" stroke-width=\"0.0\" d=\"M477.03376414282513 46.277834321908394 L477.03376414282513 46.277834321908394 L482.53376414282513 55.80411376353722 L471.53376414282513 55.80411376353722 Z\" />\n            <path fill=\"#377eb8\" stroke=\"#377eb8\" stroke-opacity=\"0.0\" stroke-width=\"0.0\" d=\"M505.17734904800653 74.2474727916704 L505.17734904800653 74.2474727916704 L510.67734904800653 83.77375223329922 L499.67734904800653 83.77375223329922 Z\" />\n            <path fill=\"#377eb8\" stroke=\"#377eb8\" stroke-opacity=\"0.0\" stroke-width=\"0.0\" d=\"M533.3209339531879 8.600496642821877 L533.3209339531879 8.600496642821877 L538.8209339531879 18.1267760844507 L527.8209339531879 18.1267760844507 Z\" />\n            <path fill=\"#377eb8\" stroke=\"#377eb8\" stroke-opacity=\"0.0\" stroke-width=\"0.0\" d=\"M561.4645188583695 13.967162881008658 L561.4645188583695 13.967162881008658 L566.9645188583695 23.49344232263748 L555.9645188583695 23.49344232263748 Z\" />\n          </g>\n        </g>\n      </g>\n    </g>\n    <g transform=\"translate(14.5 157.0 ) rotate(-90.0 ) \">\n      <text class=\"axis-title-y\" y=\"0.0\" text-anchor=\"middle\">\n      yvar\n      </text>\n    </g>\n    <g transform=\"translate(339.06167317008226 341.5 ) \">\n      <text class=\"axis-title-x\" y=\"0.0\" text-anchor=\"middle\">\n      xvar\n      </text>\n    </g>\n    <g transform=\"translate(643.1621354292281 112.75 ) \">\n      <rect x=\"5.0\" y=\"5.0\" height=\"78.5\" width=\"46.83786457077187\" stroke=\"rgb(71,71,71)\" stroke-opacity=\"1.0\" stroke-width=\"0.0\" fill=\"rgb(255,255,255)\" fill-opacity=\"1.0\">\n      </rect>\n      <g transform=\"translate(10.0 10.0 ) \">\n        <g transform=\"translate(0.0 10.5 ) \">\n          <text class=\"legend-title\" y=\"0.0\">\n          cond\n          </text>\n        </g>\n        <g transform=\"translate(0.0 22.5 ) \">\n          <g transform=\"\">\n            <g>\n              <rect x=\"0.0\" y=\"0.0\" height=\"23.0\" width=\"23.0\" stroke-width=\"0.0\" fill=\"rgb(255,255,255)\" fill-opacity=\"1.0\">\n              </rect>\n              <g transform=\"translate(1.0 1.0 ) \">\n                <g>\n                  \n                  <g >\n                    <circle fill=\"#e41a1c\" stroke=\"#e41a1c\" stroke-opacity=\"0.0\" stroke-width=\"0.0\" cx=\"10.5\" cy=\"10.5\" r=\"5.5\" />\n                  </g>\n                </g>\n              </g>\n              <rect x=\"0.0\" y=\"0.0\" height=\"23.0\" width=\"23.0\" stroke=\"rgb(255,255,255)\" stroke-opacity=\"1.0\" stroke-width=\"1.0\" fill-opacity=\"0.0\">\n              </rect>\n            </g>\n            <g transform=\"translate(26.9903027277341 16.05 ) \">\n              <text class=\"legend-item\" y=\"0.0\">\n              A\n              </text>\n            </g>\n          </g>\n          <g transform=\"translate(0.0 23.0 ) \">\n            <g>\n              <rect x=\"0.0\" y=\"0.0\" height=\"23.0\" width=\"23.0\" stroke-width=\"0.0\" fill=\"rgb(255,255,255)\" fill-opacity=\"1.0\">\n              </rect>\n              <g transform=\"translate(1.0 1.0 ) \">\n                <g>\n                  \n                  <g >\n                    <path fill=\"#377eb8\" stroke=\"#377eb8\" stroke-opacity=\"0.0\" stroke-width=\"0.0\" d=\"M10.5 5.736860279185588 L10.5 5.736860279185588 L16.0 15.263139720814412 L5.0 15.263139720814412 Z\" />\n                  </g>\n                </g>\n              </g>\n              <rect x=\"0.0\" y=\"0.0\" height=\"23.0\" width=\"23.0\" stroke=\"rgb(255,255,255)\" stroke-opacity=\"1.0\" stroke-width=\"1.0\" fill-opacity=\"0.0\">\n              </rect>\n            </g>\n            <g transform=\"translate(26.9903027277341 16.05 ) \">\n              <text class=\"legend-item\" y=\"0.0\">\n              B\n              </text>\n            </g>\n          </g>\n        </g>\n      </g>\n    </g>\n    <path fill=\"rgb(0,0,0)\" fill-opacity=\"0.0\" stroke=\"rgb(71,71,71)\" stroke-opacity=\"1.0\" stroke-width=\"0.0\" d=\"M0.0 0.0 L0.0 350.0 L700.0 350.0 L700.0 0.0 Z\">\n    </path>\n  </g>\n  <g id=\"dKTiT93\">\n  </g>\n</svg>\n        <script>document.getElementById(\"4d4b24c7-0652-42ab-84a9-0a489b0a96d8\").style.display = \"none\";</script>",
      "application/plot+json": {
       "output_type": "lets_plot_spec",
       "output": {
        "mapping": {},
        "data": {
         "yvar": [
          -4.314148,
          2.9025853,
          2.678186,
          3.83238,
          4.5529575,
          3.9043586,
          10.05609,
          8.077708,
          7.384162,
          12.052486,
          14.114694,
          5.3294044,
          10.598634,
          10.986777,
          8.961808,
          14.194166,
          15.099984,
          12.734927,
          18.285906,
          17.832111
         ],
         "xvar": [
          0.0,
          1.0,
          2.0,
          3.0,
          4.0,
          5.0,
          6.0,
          7.0,
          8.0,
          9.0,
          10.0,
          11.0,
          12.0,
          13.0,
          14.0,
          15.0,
          16.0,
          17.0,
          18.0,
          19.0
         ],
         "cond": [
          "A",
          "A",
          "A",
          "A",
          "A",
          "A",
          "A",
          "A",
          "A",
          "A",
          "B",
          "B",
          "B",
          "B",
          "B",
          "B",
          "B",
          "B",
          "B",
          "B"
         ]
        },
        "ggsize": {
         "width": 700.0,
         "height": 350.0
        },
        "kind": "plot",
        "scales": [
         {
          "aesthetic": "x",
          "limits": [
           null,
           null
          ]
         },
         {
          "aesthetic": "y",
          "limits": [
           null,
           null
          ]
         },
         {
          "aesthetic": "color",
          "discrete": true
         },
         {
          "aesthetic": "shape"
         }
        ],
        "layers": [
         {
          "mapping": {
           "x": "xvar",
           "y": "yvar",
           "color": "cond",
           "shape": "cond"
          },
          "stat": "identity",
          "size": 5.0,
          "sampling": "none",
          "position": "identity",
          "geom": "point"
         }
        ]
       },
       "apply_color_scheme": true,
       "swing_enabled": true
      }
     },
     "execution_count": 4,
     "metadata": {},
     "output_type": "execute_result"
    }
   ],
   "source": [
    "plot(data) {\n",
    "    points {\n",
    "        x(xvar)\n",
    "        y(yvar)\n",
    "        color(cond)\n",
    "        symbol(cond)\n",
    "        size = 5.0\n",
    "    }\n",
    "    layout {\n",
    "        size = 700 to 350\n",
    "    }\n",
    "}"
   ]
  },
  {
   "cell_type": "code",
   "execution_count": 5,
   "metadata": {
    "ExecuteTime": {
     "end_time": "2023-11-28T18:07:08.519288Z",
     "start_time": "2023-11-28T18:07:08.365138Z"
    }
   },
   "outputs": [
    {
     "data": {
      "text/html": "            <iframe src='about:blank' style='border:none !important;' width='700' height='350' srcdoc=\"&lt;html lang=&quot;en&quot;>\n   &lt;head>\n       &lt;style> html, body { margin: 0; overflow: hidden; } &lt;/style>\n       &lt;script type=&quot;text/javascript&quot; data-lets-plot-script=&quot;library&quot; src=&quot;https://cdn.jsdelivr.net/gh/JetBrains/lets-plot@v4.0.1/js-package/distr/lets-plot.min.js&quot;>&lt;/script>\n   &lt;/head>\n   &lt;body>\n          &lt;div id=&quot;Dm6OcJ&quot;>&lt;/div>\n   &lt;script type=&quot;text/javascript&quot; data-lets-plot-script=&quot;plot&quot;>\n       var plotSpec={\n&quot;mapping&quot;:{\n},\n&quot;data&quot;:{\n&quot;yvar&quot;:[-4.31414792742272,2.9025852255330413,2.678186038496493,3.8323801422104644,4.552957466631817,3.9043586677544218,10.056090493036294,8.077708681007955,7.384161947842241,12.052485955548157,14.114693281686685,5.329404481450428,10.598634211929852,10.98677740976943,8.96180814139117,14.194166026725489,15.099984576207884,12.734927210327559,18.2859058065098,17.832111113004313],\n&quot;xvar&quot;:[0.0,1.0,2.0,3.0,4.0,5.0,6.0,7.0,8.0,9.0,10.0,11.0,12.0,13.0,14.0,15.0,16.0,17.0,18.0,19.0],\n&quot;cond&quot;:[&quot;A&quot;,&quot;A&quot;,&quot;A&quot;,&quot;A&quot;,&quot;A&quot;,&quot;A&quot;,&quot;A&quot;,&quot;A&quot;,&quot;A&quot;,&quot;A&quot;,&quot;B&quot;,&quot;B&quot;,&quot;B&quot;,&quot;B&quot;,&quot;B&quot;,&quot;B&quot;,&quot;B&quot;,&quot;B&quot;,&quot;B&quot;,&quot;B&quot;]\n},\n&quot;ggsize&quot;:{\n&quot;width&quot;:700.0,\n&quot;height&quot;:350.0\n},\n&quot;kind&quot;:&quot;plot&quot;,\n&quot;scales&quot;:[{\n&quot;aesthetic&quot;:&quot;x&quot;,\n&quot;limits&quot;:[null,null]\n},{\n&quot;aesthetic&quot;:&quot;y&quot;,\n&quot;limits&quot;:[null,null]\n},{\n&quot;aesthetic&quot;:&quot;color&quot;,\n&quot;discrete&quot;:true\n},{\n&quot;aesthetic&quot;:&quot;shape&quot;,\n&quot;values&quot;:[1.0,2.0]\n}],\n&quot;layers&quot;:[{\n&quot;mapping&quot;:{\n&quot;x&quot;:&quot;xvar&quot;,\n&quot;y&quot;:&quot;yvar&quot;,\n&quot;color&quot;:&quot;cond&quot;,\n&quot;shape&quot;:&quot;cond&quot;\n},\n&quot;stat&quot;:&quot;identity&quot;,\n&quot;size&quot;:5.0,\n&quot;sampling&quot;:&quot;none&quot;,\n&quot;position&quot;:&quot;identity&quot;,\n&quot;geom&quot;:&quot;point&quot;,\n&quot;data&quot;:{\n}\n}]\n};\n       var plotContainer = document.getElementById(&quot;Dm6OcJ&quot;);\n       LetsPlot.buildPlotFromProcessedSpecs(plotSpec, -1, -1, plotContainer);\n   &lt;/script>\n   &lt;/body>\n&lt;/html>\"></iframe>            \n        <svg id=3de4010f-3469-410c-98a1-eea5d69b892c xmlns=\"http://www.w3.org/2000/svg\" xmlns:xlink=\"http://www.w3.org/1999/xlink\" class=\"plt-container\" width=\"700.0\" height=\"350.0\">\n  <style type=\"text/css\">\n  .plt-container {\n   font-family: Lucida Grande, sans-serif;\n   user-select: none;\n   -webkit-user-select: none;\n   -moz-user-select: none;\n   -ms-user-select: none;\n}\ntext {\n   text-rendering: optimizeLegibility;\n}\n#pVOz2lT .plot-title {\n   fill: #474747;\n   font-family: Lucida Grande, sans-serif;\n   font-size: 16.0px;\n   font-weight: normal;\n   font-style: normal;   \n}\n#pVOz2lT .plot-subtitle {\n   fill: #474747;\n   font-family: Lucida Grande, sans-serif;\n   font-size: 15.0px;\n   font-weight: normal;\n   font-style: normal;   \n}\n#pVOz2lT .plot-caption {\n   fill: #474747;\n   font-family: Lucida Grande, sans-serif;\n   font-size: 13.0px;\n   font-weight: normal;\n   font-style: normal;   \n}\n#pVOz2lT .legend-title {\n   fill: #474747;\n   font-family: Lucida Grande, sans-serif;\n   font-size: 15.0px;\n   font-weight: normal;\n   font-style: normal;   \n}\n#pVOz2lT .legend-item {\n   fill: #474747;\n   font-family: Lucida Grande, sans-serif;\n   font-size: 13.0px;\n   font-weight: normal;\n   font-style: normal;   \n}\n#pVOz2lT .axis-title-x {\n   fill: #474747;\n   font-family: Lucida Grande, sans-serif;\n   font-size: 15.0px;\n   font-weight: normal;\n   font-style: normal;   \n}\n#pVOz2lT .axis-text-x {\n   fill: #474747;\n   font-family: Lucida Grande, sans-serif;\n   font-size: 13.0px;\n   font-weight: normal;\n   font-style: normal;   \n}\n#dP0I9BW .axis-tooltip-text-x {\n   fill: #ffffff;\n   font-family: Lucida Grande, sans-serif;\n   font-size: 13.0px;\n   font-weight: normal;\n   font-style: normal;   \n}\n#pVOz2lT .axis-title-y {\n   fill: #474747;\n   font-family: Lucida Grande, sans-serif;\n   font-size: 15.0px;\n   font-weight: normal;\n   font-style: normal;   \n}\n#pVOz2lT .axis-text-y {\n   fill: #474747;\n   font-family: Lucida Grande, sans-serif;\n   font-size: 13.0px;\n   font-weight: normal;\n   font-style: normal;   \n}\n#dP0I9BW .axis-tooltip-text-y {\n   fill: #ffffff;\n   font-family: Lucida Grande, sans-serif;\n   font-size: 13.0px;\n   font-weight: normal;\n   font-style: normal;   \n}\n#pVOz2lT .facet-strip-text-x {\n   fill: #474747;\n   font-family: Lucida Grande, sans-serif;\n   font-size: 13.0px;\n   font-weight: normal;\n   font-style: normal;   \n}\n#pVOz2lT .facet-strip-text-y {\n   fill: #474747;\n   font-family: Lucida Grande, sans-serif;\n   font-size: 13.0px;\n   font-weight: normal;\n   font-style: normal;   \n}\n#dP0I9BW .tooltip-text {\n   fill: #474747;\n   font-family: Lucida Grande, sans-serif;\n   font-size: 13.0px;\n   font-weight: normal;\n   font-style: normal;   \n}\n#dP0I9BW .tooltip-title {\n   fill: #474747;\n   font-family: Lucida Grande, sans-serif;\n   font-size: 13.0px;\n   font-weight: bold;\n   font-style: normal;   \n}\n#dP0I9BW .tooltip-label {\n   fill: #474747;\n   font-family: Lucida Grande, sans-serif;\n   font-size: 13.0px;\n   font-weight: bold;\n   font-style: normal;   \n}\n\n  </style>\n  <g id=\"pVOz2lT\">\n    <path fill-rule=\"evenodd\" fill=\"rgb(255,255,255)\" fill-opacity=\"1.0\" d=\"M0.0 0.0 L0.0 350.0 L700.0 350.0 L700.0 0.0 Z\">\n    </path>\n    <g transform=\"translate(23.0 10.0 ) \">\n      <g transform=\"translate(21.961210910936405 294.0 ) \">\n        <line x1=\"26.736405659922355\" y1=\"-0.0\" x2=\"26.736405659922355\" y2=\"-294.0\" stroke=\"rgb(233,233,233)\" stroke-opacity=\"1.0\" stroke-width=\"1.0\">\n        </line>\n        <line x1=\"83.02357547028521\" y1=\"-0.0\" x2=\"83.02357547028521\" y2=\"-294.0\" stroke=\"rgb(233,233,233)\" stroke-opacity=\"1.0\" stroke-width=\"1.0\">\n        </line>\n        <line x1=\"139.31074528064806\" y1=\"-0.0\" x2=\"139.31074528064806\" y2=\"-294.0\" stroke=\"rgb(233,233,233)\" stroke-opacity=\"1.0\" stroke-width=\"1.0\">\n        </line>\n        <line x1=\"195.5979150910109\" y1=\"-0.0\" x2=\"195.5979150910109\" y2=\"-294.0\" stroke=\"rgb(233,233,233)\" stroke-opacity=\"1.0\" stroke-width=\"1.0\">\n        </line>\n        <line x1=\"251.88508490137374\" y1=\"-0.0\" x2=\"251.88508490137374\" y2=\"-294.0\" stroke=\"rgb(233,233,233)\" stroke-opacity=\"1.0\" stroke-width=\"1.0\">\n        </line>\n        <line x1=\"308.17225471173657\" y1=\"-0.0\" x2=\"308.17225471173657\" y2=\"-294.0\" stroke=\"rgb(233,233,233)\" stroke-opacity=\"1.0\" stroke-width=\"1.0\">\n        </line>\n        <line x1=\"364.4594245220994\" y1=\"-0.0\" x2=\"364.4594245220994\" y2=\"-294.0\" stroke=\"rgb(233,233,233)\" stroke-opacity=\"1.0\" stroke-width=\"1.0\">\n        </line>\n        <line x1=\"420.7465943324623\" y1=\"-0.0\" x2=\"420.7465943324623\" y2=\"-294.0\" stroke=\"rgb(233,233,233)\" stroke-opacity=\"1.0\" stroke-width=\"1.0\">\n        </line>\n        <line x1=\"477.03376414282513\" y1=\"-0.0\" x2=\"477.03376414282513\" y2=\"-294.0\" stroke=\"rgb(233,233,233)\" stroke-opacity=\"1.0\" stroke-width=\"1.0\">\n        </line>\n        <line x1=\"533.3209339531879\" y1=\"-0.0\" x2=\"533.3209339531879\" y2=\"-294.0\" stroke=\"rgb(233,233,233)\" stroke-opacity=\"1.0\" stroke-width=\"1.0\">\n        </line>\n        <g transform=\"translate(26.736405659922355 0.0 ) \">\n          <line stroke-width=\"1.0\" stroke=\"rgb(71,71,71)\" stroke-opacity=\"1.0\" x2=\"0.0\" y2=\"4.0\">\n          </line>\n          <g transform=\"translate(0.0 7.0 ) \">\n            <text class=\"axis-text-x\" text-anchor=\"middle\" dy=\"0.7em\">\n            0\n            </text>\n          </g>\n        </g>\n        <g transform=\"translate(83.02357547028521 0.0 ) \">\n          <line stroke-width=\"1.0\" stroke=\"rgb(71,71,71)\" stroke-opacity=\"1.0\" x2=\"0.0\" y2=\"4.0\">\n          </line>\n          <g transform=\"translate(0.0 7.0 ) \">\n            <text class=\"axis-text-x\" text-anchor=\"middle\" dy=\"0.7em\">\n            2\n            </text>\n          </g>\n        </g>\n        <g transform=\"translate(139.31074528064806 0.0 ) \">\n          <line stroke-width=\"1.0\" stroke=\"rgb(71,71,71)\" stroke-opacity=\"1.0\" x2=\"0.0\" y2=\"4.0\">\n          </line>\n          <g transform=\"translate(0.0 7.0 ) \">\n            <text class=\"axis-text-x\" text-anchor=\"middle\" dy=\"0.7em\">\n            4\n            </text>\n          </g>\n        </g>\n        <g transform=\"translate(195.5979150910109 0.0 ) \">\n          <line stroke-width=\"1.0\" stroke=\"rgb(71,71,71)\" stroke-opacity=\"1.0\" x2=\"0.0\" y2=\"4.0\">\n          </line>\n          <g transform=\"translate(0.0 7.0 ) \">\n            <text class=\"axis-text-x\" text-anchor=\"middle\" dy=\"0.7em\">\n            6\n            </text>\n          </g>\n        </g>\n        <g transform=\"translate(251.88508490137374 0.0 ) \">\n          <line stroke-width=\"1.0\" stroke=\"rgb(71,71,71)\" stroke-opacity=\"1.0\" x2=\"0.0\" y2=\"4.0\">\n          </line>\n          <g transform=\"translate(0.0 7.0 ) \">\n            <text class=\"axis-text-x\" text-anchor=\"middle\" dy=\"0.7em\">\n            8\n            </text>\n          </g>\n        </g>\n        <g transform=\"translate(308.17225471173657 0.0 ) \">\n          <line stroke-width=\"1.0\" stroke=\"rgb(71,71,71)\" stroke-opacity=\"1.0\" x2=\"0.0\" y2=\"4.0\">\n          </line>\n          <g transform=\"translate(0.0 7.0 ) \">\n            <text class=\"axis-text-x\" text-anchor=\"middle\" dy=\"0.7em\">\n            10\n            </text>\n          </g>\n        </g>\n        <g transform=\"translate(364.4594245220994 0.0 ) \">\n          <line stroke-width=\"1.0\" stroke=\"rgb(71,71,71)\" stroke-opacity=\"1.0\" x2=\"0.0\" y2=\"4.0\">\n          </line>\n          <g transform=\"translate(0.0 7.0 ) \">\n            <text class=\"axis-text-x\" text-anchor=\"middle\" dy=\"0.7em\">\n            12\n            </text>\n          </g>\n        </g>\n        <g transform=\"translate(420.7465943324623 0.0 ) \">\n          <line stroke-width=\"1.0\" stroke=\"rgb(71,71,71)\" stroke-opacity=\"1.0\" x2=\"0.0\" y2=\"4.0\">\n          </line>\n          <g transform=\"translate(0.0 7.0 ) \">\n            <text class=\"axis-text-x\" text-anchor=\"middle\" dy=\"0.7em\">\n            14\n            </text>\n          </g>\n        </g>\n        <g transform=\"translate(477.03376414282513 0.0 ) \">\n          <line stroke-width=\"1.0\" stroke=\"rgb(71,71,71)\" stroke-opacity=\"1.0\" x2=\"0.0\" y2=\"4.0\">\n          </line>\n          <g transform=\"translate(0.0 7.0 ) \">\n            <text class=\"axis-text-x\" text-anchor=\"middle\" dy=\"0.7em\">\n            16\n            </text>\n          </g>\n        </g>\n        <g transform=\"translate(533.3209339531879 0.0 ) \">\n          <line stroke-width=\"1.0\" stroke=\"rgb(71,71,71)\" stroke-opacity=\"1.0\" x2=\"0.0\" y2=\"4.0\">\n          </line>\n          <g transform=\"translate(0.0 7.0 ) \">\n            <text class=\"axis-text-x\" text-anchor=\"middle\" dy=\"0.7em\">\n            18\n            </text>\n          </g>\n        </g>\n        <line x1=\"0.0\" y1=\"0.0\" x2=\"588.2009245182917\" y2=\"0.0\" stroke-width=\"1.0\" stroke=\"rgb(71,71,71)\" stroke-opacity=\"1.0\">\n        </line>\n      </g>\n      <g transform=\"translate(21.961210910936405 0.0 ) \">\n        <line x1=\"0.0\" y1=\"229.6163927993466\" x2=\"588.2009245182917\" y2=\"229.6163927993466\" stroke=\"rgb(233,233,233)\" stroke-opacity=\"1.0\" stroke-width=\"1.0\">\n        </line>\n        <line x1=\"0.0\" y1=\"170.48539903727547\" x2=\"588.2009245182917\" y2=\"170.48539903727547\" stroke=\"rgb(233,233,233)\" stroke-opacity=\"1.0\" stroke-width=\"1.0\">\n        </line>\n        <line x1=\"0.0\" y1=\"111.35440527520431\" x2=\"588.2009245182917\" y2=\"111.35440527520431\" stroke=\"rgb(233,233,233)\" stroke-opacity=\"1.0\" stroke-width=\"1.0\">\n        </line>\n        <line x1=\"0.0\" y1=\"52.22341151313316\" x2=\"588.2009245182917\" y2=\"52.22341151313316\" stroke=\"rgb(233,233,233)\" stroke-opacity=\"1.0\" stroke-width=\"1.0\">\n        </line>\n        <g transform=\"translate(0.0 288.7473865614178 ) \">\n          <g transform=\"translate(-3.0 0.0 ) \">\n            <text class=\"axis-text-y\" text-anchor=\"end\" dy=\"0.35em\">\n            -5\n            </text>\n          </g>\n        </g>\n        <g transform=\"translate(0.0 229.6163927993466 ) \">\n          <g transform=\"translate(-3.0 0.0 ) \">\n            <text class=\"axis-text-y\" text-anchor=\"end\" dy=\"0.35em\">\n            0\n            </text>\n          </g>\n        </g>\n        <g transform=\"translate(0.0 170.48539903727547 ) \">\n          <g transform=\"translate(-3.0 0.0 ) \">\n            <text class=\"axis-text-y\" text-anchor=\"end\" dy=\"0.35em\">\n            5\n            </text>\n          </g>\n        </g>\n        <g transform=\"translate(0.0 111.35440527520431 ) \">\n          <g transform=\"translate(-3.0 0.0 ) \">\n            <text class=\"axis-text-y\" text-anchor=\"end\" dy=\"0.35em\">\n            10\n            </text>\n          </g>\n        </g>\n        <g transform=\"translate(0.0 52.22341151313316 ) \">\n          <g transform=\"translate(-3.0 0.0 ) \">\n            <text class=\"axis-text-y\" text-anchor=\"end\" dy=\"0.35em\">\n            15\n            </text>\n          </g>\n        </g>\n      </g>\n      <g transform=\"translate(21.961210910936405 0.0 ) \" clip-path=\"url(#cd9gamo)\" clip-bounds-jfx=\"[rect (0.0, 0.0), (588.2009245182917, 294.0)]\">\n        <defs>\n          <clipPath id=\"cd9gamo\">\n            <rect x=\"0.0\" y=\"0.0\" width=\"588.2009245182917\" height=\"294.0\">\n            </rect>\n          </clipPath>\n        </defs>\n        <g>\n          \n          <g >\n            <circle fill=\"#000000\" fill-opacity=\"0.0\" stroke=\"#e41a1c\" stroke-width=\"1.6500000000000001\" cx=\"26.736405659922355\" cy=\"280.6363636363636\" r=\"6.325\" />\n            <circle fill=\"#000000\" fill-opacity=\"0.0\" stroke=\"#e41a1c\" stroke-width=\"1.6500000000000001\" cx=\"54.87999056510378\" cy=\"195.28984302637178\" r=\"6.325\" />\n            <circle fill=\"#000000\" fill-opacity=\"0.0\" stroke=\"#e41a1c\" stroke-width=\"1.6500000000000001\" cx=\"83.02357547028521\" cy=\"197.94363241214617\" r=\"6.325\" />\n            <circle fill=\"#000000\" fill-opacity=\"0.0\" stroke=\"#e41a1c\" stroke-width=\"1.6500000000000001\" cx=\"111.16716037546662\" cy=\"184.29390354276015\" r=\"6.325\" />\n            <circle fill=\"#000000\" fill-opacity=\"0.0\" stroke=\"#e41a1c\" stroke-width=\"1.6500000000000001\" cx=\"139.31074528064806\" cy=\"175.77221288767038\" r=\"6.325\" />\n            <circle fill=\"#000000\" fill-opacity=\"0.0\" stroke=\"#e41a1c\" stroke-width=\"1.6500000000000001\" cx=\"167.45433018582946\" cy=\"183.4426711937716\" r=\"6.325\" />\n            <circle fill=\"#000000\" fill-opacity=\"0.0\" stroke=\"#e41a1c\" stroke-width=\"1.6500000000000001\" cx=\"195.5979150910109\" cy=\"110.6910679564362\" r=\"6.325\" />\n            <circle fill=\"#000000\" fill-opacity=\"0.0\" stroke=\"#e41a1c\" stroke-width=\"1.6500000000000001\" cx=\"223.74149999619232\" cy=\"134.08780447364472\" r=\"6.325\" />\n            <circle fill=\"#000000\" fill-opacity=\"0.0\" stroke=\"#e41a1c\" stroke-width=\"1.6500000000000001\" cx=\"251.88508490137374\" cy=\"142.28982598415007\" r=\"6.325\" />\n            <circle fill=\"#000000\" fill-opacity=\"0.0\" stroke=\"#e41a1c\" stroke-width=\"1.6500000000000001\" cx=\"280.0286698065552\" cy=\"87.08129842835297\" r=\"6.325\" />\n            <path fill=\"#000000\" fill-opacity=\"0.0\" stroke=\"#377eb8\" stroke-width=\"1.6500000000000001\" d=\"M308.17225471173657 57.62811404181744 L308.17225471173657 57.62811404181744 L314.49725471173656 68.58333539969058 L301.8472547117366 68.58333539969058 Z\" />\n            <path fill=\"#000000\" fill-opacity=\"0.0\" stroke=\"#377eb8\" stroke-width=\"1.6500000000000001\" d=\"M336.315839616918 161.5246854907702 L336.315839616918 161.5246854907702 L342.640839616918 172.47990684864334 L329.99083961691804 172.47990684864334 Z\" />\n            <path fill=\"#000000\" fill-opacity=\"0.0\" stroke=\"#377eb8\" stroke-width=\"1.6500000000000001\" d=\"M364.4594245220994 99.20972742599044 L364.4594245220994 99.20972742599044 L370.7844245220994 110.16494878386358 L358.13442452209944 110.16494878386358 Z\" />\n            <path fill=\"#000000\" fill-opacity=\"0.0\" stroke=\"#377eb8\" stroke-width=\"1.6500000000000001\" d=\"M392.6030094272809 94.61946882394196 L392.6030094272809 94.61946882394196 L398.92800942728087 105.5746901818151 L386.2780094272809 105.5746901818151 Z\" />\n            <path fill=\"#000000\" fill-opacity=\"0.0\" stroke=\"#377eb8\" stroke-width=\"1.6500000000000001\" d=\"M420.7465943324623 118.56715785931408 L420.7465943324623 118.56715785931408 L427.07159433246227 129.52237921718722 L414.4215943324623 129.52237921718722 Z\" />\n            <path fill=\"#000000\" fill-opacity=\"0.0\" stroke=\"#377eb8\" stroke-width=\"1.6500000000000001\" d=\"M448.89017923764374 56.6882535635886 L448.89017923764374 56.6882535635886 L455.2151792376437 67.64347492146175 L442.56517923764375 67.64347492146175 Z\" />\n            <path fill=\"#000000\" fill-opacity=\"0.0\" stroke=\"#377eb8\" stroke-width=\"1.6500000000000001\" d=\"M477.03376414282513 45.97586336378623 L477.03376414282513 45.97586336378623 L483.3587641428251 56.93108472165938 L470.70876414282515 56.93108472165938 Z\" />\n            <path fill=\"#000000\" fill-opacity=\"0.0\" stroke=\"#377eb8\" stroke-width=\"1.6500000000000001\" d=\"M505.17734904800653 73.94550183354824 L505.17734904800653 73.94550183354824 L511.5023490480065 84.90072319142138 L498.85234904800654 84.90072319142138 Z\" />\n            <path fill=\"#000000\" fill-opacity=\"0.0\" stroke=\"#377eb8\" stroke-width=\"1.6500000000000001\" d=\"M533.3209339531879 8.298525684699715 L533.3209339531879 8.298525684699715 L539.6459339531879 19.25374704257286 L526.9959339531879 19.25374704257286 Z\" />\n            <path fill=\"#000000\" fill-opacity=\"0.0\" stroke=\"#377eb8\" stroke-width=\"1.6500000000000001\" d=\"M561.4645188583695 13.665191922886496 L561.4645188583695 13.665191922886496 L567.7895188583694 24.620413280759642 L555.1395188583695 24.620413280759642 Z\" />\n          </g>\n        </g>\n      </g>\n    </g>\n    <g transform=\"translate(14.5 157.0 ) rotate(-90.0 ) \">\n      <text class=\"axis-title-y\" y=\"0.0\" text-anchor=\"middle\">\n      yvar\n      </text>\n    </g>\n    <g transform=\"translate(339.06167317008226 341.5 ) \">\n      <text class=\"axis-title-x\" y=\"0.0\" text-anchor=\"middle\">\n      xvar\n      </text>\n    </g>\n    <g transform=\"translate(643.1621354292281 112.75 ) \">\n      <rect x=\"5.0\" y=\"5.0\" height=\"78.5\" width=\"46.83786457077187\" stroke=\"rgb(71,71,71)\" stroke-opacity=\"1.0\" stroke-width=\"0.0\" fill=\"rgb(255,255,255)\" fill-opacity=\"1.0\">\n      </rect>\n      <g transform=\"translate(10.0 10.0 ) \">\n        <g transform=\"translate(0.0 10.5 ) \">\n          <text class=\"legend-title\" y=\"0.0\">\n          cond\n          </text>\n        </g>\n        <g transform=\"translate(0.0 22.5 ) \">\n          <g transform=\"\">\n            <g>\n              <rect x=\"0.0\" y=\"0.0\" height=\"23.0\" width=\"23.0\" stroke-width=\"0.0\" fill=\"rgb(255,255,255)\" fill-opacity=\"1.0\">\n              </rect>\n              <g transform=\"translate(1.0 1.0 ) \">\n                <g>\n                  \n                  <g >\n                    <circle fill=\"#000000\" fill-opacity=\"0.0\" stroke=\"#e41a1c\" stroke-width=\"1.6500000000000001\" cx=\"10.5\" cy=\"10.5\" r=\"6.325\" />\n                  </g>\n                </g>\n              </g>\n              <rect x=\"0.0\" y=\"0.0\" height=\"23.0\" width=\"23.0\" stroke=\"rgb(255,255,255)\" stroke-opacity=\"1.0\" stroke-width=\"1.0\" fill-opacity=\"0.0\">\n              </rect>\n            </g>\n            <g transform=\"translate(26.9903027277341 16.05 ) \">\n              <text class=\"legend-item\" y=\"0.0\">\n              A\n              </text>\n            </g>\n          </g>\n          <g transform=\"translate(0.0 23.0 ) \">\n            <g>\n              <rect x=\"0.0\" y=\"0.0\" height=\"23.0\" width=\"23.0\" stroke-width=\"0.0\" fill=\"rgb(255,255,255)\" fill-opacity=\"1.0\">\n              </rect>\n              <g transform=\"translate(1.0 1.0 ) \">\n                <g>\n                  \n                  <g >\n                    <path fill=\"#000000\" fill-opacity=\"0.0\" stroke=\"#377eb8\" stroke-width=\"1.6500000000000001\" d=\"M10.5 5.434889321063427 L10.5 5.434889321063427 L16.825 16.390110678936573 L4.175 16.390110678936573 Z\" />\n                  </g>\n                </g>\n              </g>\n              <rect x=\"0.0\" y=\"0.0\" height=\"23.0\" width=\"23.0\" stroke=\"rgb(255,255,255)\" stroke-opacity=\"1.0\" stroke-width=\"1.0\" fill-opacity=\"0.0\">\n              </rect>\n            </g>\n            <g transform=\"translate(26.9903027277341 16.05 ) \">\n              <text class=\"legend-item\" y=\"0.0\">\n              B\n              </text>\n            </g>\n          </g>\n        </g>\n      </g>\n    </g>\n    <path fill=\"rgb(0,0,0)\" fill-opacity=\"0.0\" stroke=\"rgb(71,71,71)\" stroke-opacity=\"1.0\" stroke-width=\"0.0\" d=\"M0.0 0.0 L0.0 350.0 L700.0 350.0 L700.0 0.0 Z\">\n    </path>\n  </g>\n  <g id=\"dP0I9BW\">\n  </g>\n</svg>\n        <script>document.getElementById(\"3de4010f-3469-410c-98a1-eea5d69b892c\").style.display = \"none\";</script>",
      "application/plot+json": {
       "output_type": "lets_plot_spec",
       "output": {
        "mapping": {},
        "data": {
         "yvar": [
          -4.314148,
          2.9025853,
          2.678186,
          3.83238,
          4.5529575,
          3.9043586,
          10.05609,
          8.077708,
          7.384162,
          12.052486,
          14.114694,
          5.3294044,
          10.598634,
          10.986777,
          8.961808,
          14.194166,
          15.099984,
          12.734927,
          18.285906,
          17.832111
         ],
         "xvar": [
          0.0,
          1.0,
          2.0,
          3.0,
          4.0,
          5.0,
          6.0,
          7.0,
          8.0,
          9.0,
          10.0,
          11.0,
          12.0,
          13.0,
          14.0,
          15.0,
          16.0,
          17.0,
          18.0,
          19.0
         ],
         "cond": [
          "A",
          "A",
          "A",
          "A",
          "A",
          "A",
          "A",
          "A",
          "A",
          "A",
          "B",
          "B",
          "B",
          "B",
          "B",
          "B",
          "B",
          "B",
          "B",
          "B"
         ]
        },
        "ggsize": {
         "width": 700.0,
         "height": 350.0
        },
        "kind": "plot",
        "scales": [
         {
          "aesthetic": "x",
          "limits": [
           null,
           null
          ]
         },
         {
          "aesthetic": "y",
          "limits": [
           null,
           null
          ]
         },
         {
          "aesthetic": "color",
          "discrete": true
         },
         {
          "aesthetic": "shape",
          "values": [
           1.0,
           2.0
          ]
         }
        ],
        "layers": [
         {
          "mapping": {
           "x": "xvar",
           "y": "yvar",
           "color": "cond",
           "shape": "cond"
          },
          "stat": "identity",
          "size": 5.0,
          "sampling": "none",
          "position": "identity",
          "geom": "point"
         }
        ]
       },
       "apply_color_scheme": true,
       "swing_enabled": true
      }
     },
     "execution_count": 5,
     "metadata": {},
     "output_type": "execute_result"
    }
   ],
   "source": [
    "plot(data) {\n",
    "    points {\n",
    "        x(xvar)\n",
    "        y(yvar)\n",
    "        color(cond)\n",
    "        symbol(cond) {\n",
    "            scale = categorical(range = listOf(Symbol.CIRCLE_OPEN, Symbol.TRIANGLE_OPEN))\n",
    "        }\n",
    "        size = 5.0\n",
    "    }\n",
    "    layout {\n",
    "        size = 700 to 350\n",
    "    }\n",
    "}"
   ]
  },
  {
   "cell_type": "markdown",
   "metadata": {},
   "source": [
    "### Handling Over-plotting"
   ]
  },
  {
   "cell_type": "code",
   "execution_count": 6,
   "metadata": {
    "ExecuteTime": {
     "end_time": "2023-11-28T18:07:24.686196Z",
     "start_time": "2023-11-28T18:07:24.418324Z"
    }
   },
   "outputs": [],
   "source": [
    "// Create data with overlapping points.\n",
    "val data1 = data.convert { xvar and yvar }.with {\n",
    "    (it.toDouble() / 5).toInt() * 5\n",
    "}"
   ]
  },
  {
   "cell_type": "code",
   "execution_count": 7,
   "metadata": {
    "ExecuteTime": {
     "end_time": "2023-11-28T18:07:31.696956Z",
     "start_time": "2023-11-28T18:07:31.591906Z"
    }
   },
   "outputs": [
    {
     "data": {
      "text/html": "            <iframe src='about:blank' style='border:none !important;' width='700' height='350' srcdoc=\"&lt;html lang=&quot;en&quot;>\n   &lt;head>\n       &lt;style> html, body { margin: 0; overflow: hidden; } &lt;/style>\n       &lt;script type=&quot;text/javascript&quot; data-lets-plot-script=&quot;library&quot; src=&quot;https://cdn.jsdelivr.net/gh/JetBrains/lets-plot@v4.0.1/js-package/distr/lets-plot.min.js&quot;>&lt;/script>\n   &lt;/head>\n   &lt;body>\n          &lt;div id=&quot;wCeBrM&quot;>&lt;/div>\n   &lt;script type=&quot;text/javascript&quot; data-lets-plot-script=&quot;plot&quot;>\n       var plotSpec={\n&quot;mapping&quot;:{\n},\n&quot;data&quot;:{\n&quot;yvar&quot;:[0.0,0.0,0.0,0.0,0.0,0.0,10.0,5.0,5.0,10.0,10.0,5.0,10.0,10.0,5.0,10.0,15.0,10.0,15.0,15.0],\n&quot;xvar&quot;:[0.0,0.0,0.0,0.0,0.0,5.0,5.0,5.0,5.0,5.0,10.0,10.0,10.0,10.0,10.0,15.0,15.0,15.0,15.0,15.0]\n},\n&quot;ggsize&quot;:{\n&quot;width&quot;:700.0,\n&quot;height&quot;:350.0\n},\n&quot;kind&quot;:&quot;plot&quot;,\n&quot;scales&quot;:[{\n&quot;aesthetic&quot;:&quot;x&quot;,\n&quot;breaks&quot;:[0.0,5.0,10.0,15.0],\n&quot;limits&quot;:[null,null]\n},{\n&quot;aesthetic&quot;:&quot;y&quot;,\n&quot;limits&quot;:[null,null]\n}],\n&quot;layers&quot;:[{\n&quot;mapping&quot;:{\n&quot;x&quot;:&quot;xvar&quot;,\n&quot;y&quot;:&quot;yvar&quot;\n},\n&quot;stat&quot;:&quot;identity&quot;,\n&quot;size&quot;:7.0,\n&quot;sampling&quot;:&quot;none&quot;,\n&quot;alpha&quot;:0.3,\n&quot;position&quot;:&quot;identity&quot;,\n&quot;geom&quot;:&quot;point&quot;,\n&quot;data&quot;:{\n}\n}]\n};\n       var plotContainer = document.getElementById(&quot;wCeBrM&quot;);\n       LetsPlot.buildPlotFromProcessedSpecs(plotSpec, -1, -1, plotContainer);\n   &lt;/script>\n   &lt;/body>\n&lt;/html>\"></iframe>            \n        <svg id=5186ac27-3bf4-49f0-9e2b-2d5918de792f xmlns=\"http://www.w3.org/2000/svg\" xmlns:xlink=\"http://www.w3.org/1999/xlink\" class=\"plt-container\" width=\"700.0\" height=\"350.0\">\n  <style type=\"text/css\">\n  .plt-container {\n   font-family: Lucida Grande, sans-serif;\n   user-select: none;\n   -webkit-user-select: none;\n   -moz-user-select: none;\n   -ms-user-select: none;\n}\ntext {\n   text-rendering: optimizeLegibility;\n}\n#p6HGKKF .plot-title {\n   fill: #474747;\n   font-family: Lucida Grande, sans-serif;\n   font-size: 16.0px;\n   font-weight: normal;\n   font-style: normal;   \n}\n#p6HGKKF .plot-subtitle {\n   fill: #474747;\n   font-family: Lucida Grande, sans-serif;\n   font-size: 15.0px;\n   font-weight: normal;\n   font-style: normal;   \n}\n#p6HGKKF .plot-caption {\n   fill: #474747;\n   font-family: Lucida Grande, sans-serif;\n   font-size: 13.0px;\n   font-weight: normal;\n   font-style: normal;   \n}\n#p6HGKKF .legend-title {\n   fill: #474747;\n   font-family: Lucida Grande, sans-serif;\n   font-size: 15.0px;\n   font-weight: normal;\n   font-style: normal;   \n}\n#p6HGKKF .legend-item {\n   fill: #474747;\n   font-family: Lucida Grande, sans-serif;\n   font-size: 13.0px;\n   font-weight: normal;\n   font-style: normal;   \n}\n#p6HGKKF .axis-title-x {\n   fill: #474747;\n   font-family: Lucida Grande, sans-serif;\n   font-size: 15.0px;\n   font-weight: normal;\n   font-style: normal;   \n}\n#p6HGKKF .axis-text-x {\n   fill: #474747;\n   font-family: Lucida Grande, sans-serif;\n   font-size: 13.0px;\n   font-weight: normal;\n   font-style: normal;   \n}\n#dstT1Ym .axis-tooltip-text-x {\n   fill: #ffffff;\n   font-family: Lucida Grande, sans-serif;\n   font-size: 13.0px;\n   font-weight: normal;\n   font-style: normal;   \n}\n#p6HGKKF .axis-title-y {\n   fill: #474747;\n   font-family: Lucida Grande, sans-serif;\n   font-size: 15.0px;\n   font-weight: normal;\n   font-style: normal;   \n}\n#p6HGKKF .axis-text-y {\n   fill: #474747;\n   font-family: Lucida Grande, sans-serif;\n   font-size: 13.0px;\n   font-weight: normal;\n   font-style: normal;   \n}\n#dstT1Ym .axis-tooltip-text-y {\n   fill: #ffffff;\n   font-family: Lucida Grande, sans-serif;\n   font-size: 13.0px;\n   font-weight: normal;\n   font-style: normal;   \n}\n#p6HGKKF .facet-strip-text-x {\n   fill: #474747;\n   font-family: Lucida Grande, sans-serif;\n   font-size: 13.0px;\n   font-weight: normal;\n   font-style: normal;   \n}\n#p6HGKKF .facet-strip-text-y {\n   fill: #474747;\n   font-family: Lucida Grande, sans-serif;\n   font-size: 13.0px;\n   font-weight: normal;\n   font-style: normal;   \n}\n#dstT1Ym .tooltip-text {\n   fill: #474747;\n   font-family: Lucida Grande, sans-serif;\n   font-size: 13.0px;\n   font-weight: normal;\n   font-style: normal;   \n}\n#dstT1Ym .tooltip-title {\n   fill: #474747;\n   font-family: Lucida Grande, sans-serif;\n   font-size: 13.0px;\n   font-weight: bold;\n   font-style: normal;   \n}\n#dstT1Ym .tooltip-label {\n   fill: #474747;\n   font-family: Lucida Grande, sans-serif;\n   font-size: 13.0px;\n   font-weight: bold;\n   font-style: normal;   \n}\n\n  </style>\n  <g id=\"p6HGKKF\">\n    <path fill-rule=\"evenodd\" fill=\"rgb(255,255,255)\" fill-opacity=\"1.0\" d=\"M0.0 0.0 L0.0 350.0 L700.0 350.0 L700.0 0.0 Z\">\n    </path>\n    <g transform=\"translate(23.0 10.0 ) \">\n      <g transform=\"translate(21.961210910936405 294.0 ) \">\n        <line x1=\"29.3199449585938\" y1=\"-0.0\" x2=\"29.3199449585938\" y2=\"-294.0\" stroke=\"rgb(233,233,233)\" stroke-opacity=\"1.0\" stroke-width=\"1.0\">\n        </line>\n        <line x1=\"224.78624468255245\" y1=\"-0.0\" x2=\"224.78624468255245\" y2=\"-294.0\" stroke=\"rgb(233,233,233)\" stroke-opacity=\"1.0\" stroke-width=\"1.0\">\n        </line>\n        <line x1=\"420.2525444065111\" y1=\"-0.0\" x2=\"420.2525444065111\" y2=\"-294.0\" stroke=\"rgb(233,233,233)\" stroke-opacity=\"1.0\" stroke-width=\"1.0\">\n        </line>\n        <line x1=\"615.7188441304698\" y1=\"-0.0\" x2=\"615.7188441304698\" y2=\"-294.0\" stroke=\"rgb(233,233,233)\" stroke-opacity=\"1.0\" stroke-width=\"1.0\">\n        </line>\n        <g transform=\"translate(29.3199449585938 0.0 ) \">\n          <line stroke-width=\"1.0\" stroke=\"rgb(71,71,71)\" stroke-opacity=\"1.0\" x2=\"0.0\" y2=\"4.0\">\n          </line>\n          <g transform=\"translate(0.0 7.0 ) \">\n            <text class=\"axis-text-x\" text-anchor=\"middle\" dy=\"0.7em\">\n            0.0\n            </text>\n          </g>\n        </g>\n        <g transform=\"translate(224.78624468255245 0.0 ) \">\n          <line stroke-width=\"1.0\" stroke=\"rgb(71,71,71)\" stroke-opacity=\"1.0\" x2=\"0.0\" y2=\"4.0\">\n          </line>\n          <g transform=\"translate(0.0 7.0 ) \">\n            <text class=\"axis-text-x\" text-anchor=\"middle\" dy=\"0.7em\">\n            5.0\n            </text>\n          </g>\n        </g>\n        <g transform=\"translate(420.2525444065111 0.0 ) \">\n          <line stroke-width=\"1.0\" stroke=\"rgb(71,71,71)\" stroke-opacity=\"1.0\" x2=\"0.0\" y2=\"4.0\">\n          </line>\n          <g transform=\"translate(0.0 7.0 ) \">\n            <text class=\"axis-text-x\" text-anchor=\"middle\" dy=\"0.7em\">\n            10.0\n            </text>\n          </g>\n        </g>\n        <g transform=\"translate(615.7188441304698 0.0 ) \">\n          <line stroke-width=\"1.0\" stroke=\"rgb(71,71,71)\" stroke-opacity=\"1.0\" x2=\"0.0\" y2=\"4.0\">\n          </line>\n          <g transform=\"translate(0.0 7.0 ) \">\n            <text class=\"axis-text-x\" text-anchor=\"middle\" dy=\"0.7em\">\n            15.0\n            </text>\n          </g>\n        </g>\n        <line x1=\"0.0\" y1=\"0.0\" x2=\"645.0387890890636\" y2=\"0.0\" stroke-width=\"1.0\" stroke=\"rgb(71,71,71)\" stroke-opacity=\"1.0\">\n        </line>\n      </g>\n      <g transform=\"translate(21.961210910936405 0.0 ) \">\n        <line x1=\"0.0\" y1=\"280.6363636363636\" x2=\"645.0387890890636\" y2=\"280.6363636363636\" stroke=\"rgb(233,233,233)\" stroke-opacity=\"1.0\" stroke-width=\"1.0\">\n        </line>\n        <line x1=\"0.0\" y1=\"245.0\" x2=\"645.0387890890636\" y2=\"245.0\" stroke=\"rgb(233,233,233)\" stroke-opacity=\"1.0\" stroke-width=\"1.0\">\n        </line>\n        <line x1=\"0.0\" y1=\"209.36363636363637\" x2=\"645.0387890890636\" y2=\"209.36363636363637\" stroke=\"rgb(233,233,233)\" stroke-opacity=\"1.0\" stroke-width=\"1.0\">\n        </line>\n        <line x1=\"0.0\" y1=\"173.72727272727272\" x2=\"645.0387890890636\" y2=\"173.72727272727272\" stroke=\"rgb(233,233,233)\" stroke-opacity=\"1.0\" stroke-width=\"1.0\">\n        </line>\n        <line x1=\"0.0\" y1=\"138.0909090909091\" x2=\"645.0387890890636\" y2=\"138.0909090909091\" stroke=\"rgb(233,233,233)\" stroke-opacity=\"1.0\" stroke-width=\"1.0\">\n        </line>\n        <line x1=\"0.0\" y1=\"102.45454545454547\" x2=\"645.0387890890636\" y2=\"102.45454545454547\" stroke=\"rgb(233,233,233)\" stroke-opacity=\"1.0\" stroke-width=\"1.0\">\n        </line>\n        <line x1=\"0.0\" y1=\"66.81818181818181\" x2=\"645.0387890890636\" y2=\"66.81818181818181\" stroke=\"rgb(233,233,233)\" stroke-opacity=\"1.0\" stroke-width=\"1.0\">\n        </line>\n        <line x1=\"0.0\" y1=\"31.181818181818187\" x2=\"645.0387890890636\" y2=\"31.181818181818187\" stroke=\"rgb(233,233,233)\" stroke-opacity=\"1.0\" stroke-width=\"1.0\">\n        </line>\n        <g transform=\"translate(0.0 280.6363636363636 ) \">\n          <g transform=\"translate(-3.0 0.0 ) \">\n            <text class=\"axis-text-y\" text-anchor=\"end\" dy=\"0.35em\">\n            0\n            </text>\n          </g>\n        </g>\n        <g transform=\"translate(0.0 245.0 ) \">\n          <g transform=\"translate(-3.0 0.0 ) \">\n            <text class=\"axis-text-y\" text-anchor=\"end\" dy=\"0.35em\">\n            2\n            </text>\n          </g>\n        </g>\n        <g transform=\"translate(0.0 209.36363636363637 ) \">\n          <g transform=\"translate(-3.0 0.0 ) \">\n            <text class=\"axis-text-y\" text-anchor=\"end\" dy=\"0.35em\">\n            4\n            </text>\n          </g>\n        </g>\n        <g transform=\"translate(0.0 173.72727272727272 ) \">\n          <g transform=\"translate(-3.0 0.0 ) \">\n            <text class=\"axis-text-y\" text-anchor=\"end\" dy=\"0.35em\">\n            6\n            </text>\n          </g>\n        </g>\n        <g transform=\"translate(0.0 138.0909090909091 ) \">\n          <g transform=\"translate(-3.0 0.0 ) \">\n            <text class=\"axis-text-y\" text-anchor=\"end\" dy=\"0.35em\">\n            8\n            </text>\n          </g>\n        </g>\n        <g transform=\"translate(0.0 102.45454545454547 ) \">\n          <g transform=\"translate(-3.0 0.0 ) \">\n            <text class=\"axis-text-y\" text-anchor=\"end\" dy=\"0.35em\">\n            10\n            </text>\n          </g>\n        </g>\n        <g transform=\"translate(0.0 66.81818181818181 ) \">\n          <g transform=\"translate(-3.0 0.0 ) \">\n            <text class=\"axis-text-y\" text-anchor=\"end\" dy=\"0.35em\">\n            12\n            </text>\n          </g>\n        </g>\n        <g transform=\"translate(0.0 31.181818181818187 ) \">\n          <g transform=\"translate(-3.0 0.0 ) \">\n            <text class=\"axis-text-y\" text-anchor=\"end\" dy=\"0.35em\">\n            14\n            </text>\n          </g>\n        </g>\n      </g>\n      <g transform=\"translate(21.961210910936405 0.0 ) \" clip-path=\"url(#cLBrv5g)\" clip-bounds-jfx=\"[rect (0.0, 0.0), (645.0387890890636, 294.0)]\">\n        <defs>\n          <clipPath id=\"cLBrv5g\">\n            <rect x=\"0.0\" y=\"0.0\" width=\"645.0387890890636\" height=\"294.0\">\n            </rect>\n          </clipPath>\n        </defs>\n        <g>\n          \n          <g >\n            <circle fill=\"#474747\" fill-opacity=\"0.3\" stroke=\"#474747\" stroke-opacity=\"0.0\" stroke-width=\"0.0\" cx=\"29.3199449585938\" cy=\"280.6363636363636\" r=\"7.700000000000001\" />\n            <circle fill=\"#474747\" fill-opacity=\"0.3\" stroke=\"#474747\" stroke-opacity=\"0.0\" stroke-width=\"0.0\" cx=\"29.3199449585938\" cy=\"280.6363636363636\" r=\"7.700000000000001\" />\n            <circle fill=\"#474747\" fill-opacity=\"0.3\" stroke=\"#474747\" stroke-opacity=\"0.0\" stroke-width=\"0.0\" cx=\"29.3199449585938\" cy=\"280.6363636363636\" r=\"7.700000000000001\" />\n            <circle fill=\"#474747\" fill-opacity=\"0.3\" stroke=\"#474747\" stroke-opacity=\"0.0\" stroke-width=\"0.0\" cx=\"29.3199449585938\" cy=\"280.6363636363636\" r=\"7.700000000000001\" />\n            <circle fill=\"#474747\" fill-opacity=\"0.3\" stroke=\"#474747\" stroke-opacity=\"0.0\" stroke-width=\"0.0\" cx=\"29.3199449585938\" cy=\"280.6363636363636\" r=\"7.700000000000001\" />\n            <circle fill=\"#474747\" fill-opacity=\"0.3\" stroke=\"#474747\" stroke-opacity=\"0.0\" stroke-width=\"0.0\" cx=\"224.78624468255245\" cy=\"280.6363636363636\" r=\"7.700000000000001\" />\n            <circle fill=\"#474747\" fill-opacity=\"0.3\" stroke=\"#474747\" stroke-opacity=\"0.0\" stroke-width=\"0.0\" cx=\"224.78624468255245\" cy=\"102.45454545454547\" r=\"7.700000000000001\" />\n            <circle fill=\"#474747\" fill-opacity=\"0.3\" stroke=\"#474747\" stroke-opacity=\"0.0\" stroke-width=\"0.0\" cx=\"224.78624468255245\" cy=\"191.54545454545456\" r=\"7.700000000000001\" />\n            <circle fill=\"#474747\" fill-opacity=\"0.3\" stroke=\"#474747\" stroke-opacity=\"0.0\" stroke-width=\"0.0\" cx=\"224.78624468255245\" cy=\"191.54545454545456\" r=\"7.700000000000001\" />\n            <circle fill=\"#474747\" fill-opacity=\"0.3\" stroke=\"#474747\" stroke-opacity=\"0.0\" stroke-width=\"0.0\" cx=\"224.78624468255245\" cy=\"102.45454545454547\" r=\"7.700000000000001\" />\n            <circle fill=\"#474747\" fill-opacity=\"0.3\" stroke=\"#474747\" stroke-opacity=\"0.0\" stroke-width=\"0.0\" cx=\"420.2525444065111\" cy=\"102.45454545454547\" r=\"7.700000000000001\" />\n            <circle fill=\"#474747\" fill-opacity=\"0.3\" stroke=\"#474747\" stroke-opacity=\"0.0\" stroke-width=\"0.0\" cx=\"420.2525444065111\" cy=\"191.54545454545456\" r=\"7.700000000000001\" />\n            <circle fill=\"#474747\" fill-opacity=\"0.3\" stroke=\"#474747\" stroke-opacity=\"0.0\" stroke-width=\"0.0\" cx=\"420.2525444065111\" cy=\"102.45454545454547\" r=\"7.700000000000001\" />\n            <circle fill=\"#474747\" fill-opacity=\"0.3\" stroke=\"#474747\" stroke-opacity=\"0.0\" stroke-width=\"0.0\" cx=\"420.2525444065111\" cy=\"102.45454545454547\" r=\"7.700000000000001\" />\n            <circle fill=\"#474747\" fill-opacity=\"0.3\" stroke=\"#474747\" stroke-opacity=\"0.0\" stroke-width=\"0.0\" cx=\"420.2525444065111\" cy=\"191.54545454545456\" r=\"7.700000000000001\" />\n            <circle fill=\"#474747\" fill-opacity=\"0.3\" stroke=\"#474747\" stroke-opacity=\"0.0\" stroke-width=\"0.0\" cx=\"615.7188441304698\" cy=\"102.45454545454547\" r=\"7.700000000000001\" />\n            <circle fill=\"#474747\" fill-opacity=\"0.3\" stroke=\"#474747\" stroke-opacity=\"0.0\" stroke-width=\"0.0\" cx=\"615.7188441304698\" cy=\"13.363636363636374\" r=\"7.700000000000001\" />\n            <circle fill=\"#474747\" fill-opacity=\"0.3\" stroke=\"#474747\" stroke-opacity=\"0.0\" stroke-width=\"0.0\" cx=\"615.7188441304698\" cy=\"102.45454545454547\" r=\"7.700000000000001\" />\n            <circle fill=\"#474747\" fill-opacity=\"0.3\" stroke=\"#474747\" stroke-opacity=\"0.0\" stroke-width=\"0.0\" cx=\"615.7188441304698\" cy=\"13.363636363636374\" r=\"7.700000000000001\" />\n            <circle fill=\"#474747\" fill-opacity=\"0.3\" stroke=\"#474747\" stroke-opacity=\"0.0\" stroke-width=\"0.0\" cx=\"615.7188441304698\" cy=\"13.363636363636374\" r=\"7.700000000000001\" />\n          </g>\n        </g>\n      </g>\n    </g>\n    <g transform=\"translate(14.5 157.0 ) rotate(-90.0 ) \">\n      <text class=\"axis-title-y\" y=\"0.0\" text-anchor=\"middle\">\n      yvar\n      </text>\n    </g>\n    <g transform=\"translate(367.4806054554682 341.5 ) \">\n      <text class=\"axis-title-x\" y=\"0.0\" text-anchor=\"middle\">\n      xvar\n      </text>\n    </g>\n    <path fill=\"rgb(0,0,0)\" fill-opacity=\"0.0\" stroke=\"rgb(71,71,71)\" stroke-opacity=\"1.0\" stroke-width=\"0.0\" d=\"M0.0 0.0 L0.0 350.0 L700.0 350.0 L700.0 0.0 Z\">\n    </path>\n  </g>\n  <g id=\"dstT1Ym\">\n  </g>\n</svg>\n        <script>document.getElementById(\"5186ac27-3bf4-49f0-9e2b-2d5918de792f\").style.display = \"none\";</script>",
      "application/plot+json": {
       "output_type": "lets_plot_spec",
       "output": {
        "mapping": {},
        "data": {
         "yvar": [
          0.0,
          0.0,
          0.0,
          0.0,
          0.0,
          0.0,
          10.0,
          5.0,
          5.0,
          10.0,
          10.0,
          5.0,
          10.0,
          10.0,
          5.0,
          10.0,
          15.0,
          10.0,
          15.0,
          15.0
         ],
         "xvar": [
          0.0,
          0.0,
          0.0,
          0.0,
          0.0,
          5.0,
          5.0,
          5.0,
          5.0,
          5.0,
          10.0,
          10.0,
          10.0,
          10.0,
          10.0,
          15.0,
          15.0,
          15.0,
          15.0,
          15.0
         ]
        },
        "ggsize": {
         "width": 700.0,
         "height": 350.0
        },
        "kind": "plot",
        "scales": [
         {
          "aesthetic": "x",
          "breaks": [
           0.0,
           5.0,
           10.0,
           15.0
          ],
          "limits": [
           null,
           null
          ]
         },
         {
          "aesthetic": "y",
          "limits": [
           null,
           null
          ]
         }
        ],
        "layers": [
         {
          "mapping": {
           "x": "xvar",
           "y": "yvar"
          },
          "stat": "identity",
          "size": 7.0,
          "sampling": "none",
          "alpha": 0.3,
          "position": "identity",
          "geom": "point"
         }
        ]
       },
       "apply_color_scheme": true,
       "swing_enabled": true
      }
     },
     "execution_count": 7,
     "metadata": {},
     "output_type": "execute_result"
    }
   ],
   "source": [
    "plot(data1) {\n",
    "    points {\n",
    "        x(xvar) {\n",
    "            axis.breaks(listOf(0, 5, 10, 15))\n",
    "        }\n",
    "        y(yvar)\n",
    "        alpha = .3\n",
    "        size = 7.0\n",
    "    }\n",
    "    layout {\n",
    "        size = 700 to 350\n",
    "    }\n",
    "}"
   ]
  },
  {
   "cell_type": "code",
   "execution_count": 8,
   "metadata": {
    "ExecuteTime": {
     "end_time": "2023-11-28T18:07:39.981530Z",
     "start_time": "2023-11-28T18:07:39.864147Z"
    }
   },
   "outputs": [
    {
     "data": {
      "text/html": "            <iframe src='about:blank' style='border:none !important;' width='700' height='350' srcdoc=\"&lt;html lang=&quot;en&quot;>\n   &lt;head>\n       &lt;style> html, body { margin: 0; overflow: hidden; } &lt;/style>\n       &lt;script type=&quot;text/javascript&quot; data-lets-plot-script=&quot;library&quot; src=&quot;https://cdn.jsdelivr.net/gh/JetBrains/lets-plot@v4.0.1/js-package/distr/lets-plot.min.js&quot;>&lt;/script>\n   &lt;/head>\n   &lt;body>\n          &lt;div id=&quot;wN0vpd&quot;>&lt;/div>\n   &lt;script type=&quot;text/javascript&quot; data-lets-plot-script=&quot;plot&quot;>\n       var plotSpec={\n&quot;mapping&quot;:{\n},\n&quot;data&quot;:{\n&quot;yvar&quot;:[0.0,0.0,0.0,0.0,0.0,0.0,10.0,5.0,5.0,10.0,10.0,5.0,10.0,10.0,5.0,10.0,15.0,10.0,15.0,15.0],\n&quot;xvar&quot;:[0.0,0.0,0.0,0.0,0.0,5.0,5.0,5.0,5.0,5.0,10.0,10.0,10.0,10.0,10.0,15.0,15.0,15.0,15.0,15.0]\n},\n&quot;ggsize&quot;:{\n&quot;width&quot;:700.0,\n&quot;height&quot;:350.0\n},\n&quot;kind&quot;:&quot;plot&quot;,\n&quot;scales&quot;:[{\n&quot;aesthetic&quot;:&quot;x&quot;,\n&quot;breaks&quot;:[0.0,5.0,10.0,15.0],\n&quot;limits&quot;:[null,null]\n},{\n&quot;aesthetic&quot;:&quot;y&quot;,\n&quot;limits&quot;:[null,null]\n}],\n&quot;layers&quot;:[{\n&quot;mapping&quot;:{\n&quot;x&quot;:&quot;xvar&quot;,\n&quot;y&quot;:&quot;yvar&quot;\n},\n&quot;stat&quot;:&quot;identity&quot;,\n&quot;shape&quot;:1.0,\n&quot;sampling&quot;:&quot;none&quot;,\n&quot;position&quot;:{\n&quot;name&quot;:&quot;jitter&quot;,\n&quot;width&quot;:0.1,\n&quot;height&quot;:0.1\n},\n&quot;geom&quot;:&quot;point&quot;,\n&quot;data&quot;:{\n}\n}]\n};\n       var plotContainer = document.getElementById(&quot;wN0vpd&quot;);\n       LetsPlot.buildPlotFromProcessedSpecs(plotSpec, -1, -1, plotContainer);\n   &lt;/script>\n   &lt;/body>\n&lt;/html>\"></iframe>            \n        <svg id=bc015fc7-20f0-44cc-862a-205913dfe8c8 xmlns=\"http://www.w3.org/2000/svg\" xmlns:xlink=\"http://www.w3.org/1999/xlink\" class=\"plt-container\" width=\"700.0\" height=\"350.0\">\n  <style type=\"text/css\">\n  .plt-container {\n   font-family: Lucida Grande, sans-serif;\n   user-select: none;\n   -webkit-user-select: none;\n   -moz-user-select: none;\n   -ms-user-select: none;\n}\ntext {\n   text-rendering: optimizeLegibility;\n}\n#p15TSQJ .plot-title {\n   fill: #474747;\n   font-family: Lucida Grande, sans-serif;\n   font-size: 16.0px;\n   font-weight: normal;\n   font-style: normal;   \n}\n#p15TSQJ .plot-subtitle {\n   fill: #474747;\n   font-family: Lucida Grande, sans-serif;\n   font-size: 15.0px;\n   font-weight: normal;\n   font-style: normal;   \n}\n#p15TSQJ .plot-caption {\n   fill: #474747;\n   font-family: Lucida Grande, sans-serif;\n   font-size: 13.0px;\n   font-weight: normal;\n   font-style: normal;   \n}\n#p15TSQJ .legend-title {\n   fill: #474747;\n   font-family: Lucida Grande, sans-serif;\n   font-size: 15.0px;\n   font-weight: normal;\n   font-style: normal;   \n}\n#p15TSQJ .legend-item {\n   fill: #474747;\n   font-family: Lucida Grande, sans-serif;\n   font-size: 13.0px;\n   font-weight: normal;\n   font-style: normal;   \n}\n#p15TSQJ .axis-title-x {\n   fill: #474747;\n   font-family: Lucida Grande, sans-serif;\n   font-size: 15.0px;\n   font-weight: normal;\n   font-style: normal;   \n}\n#p15TSQJ .axis-text-x {\n   fill: #474747;\n   font-family: Lucida Grande, sans-serif;\n   font-size: 13.0px;\n   font-weight: normal;\n   font-style: normal;   \n}\n#dQTLYes .axis-tooltip-text-x {\n   fill: #ffffff;\n   font-family: Lucida Grande, sans-serif;\n   font-size: 13.0px;\n   font-weight: normal;\n   font-style: normal;   \n}\n#p15TSQJ .axis-title-y {\n   fill: #474747;\n   font-family: Lucida Grande, sans-serif;\n   font-size: 15.0px;\n   font-weight: normal;\n   font-style: normal;   \n}\n#p15TSQJ .axis-text-y {\n   fill: #474747;\n   font-family: Lucida Grande, sans-serif;\n   font-size: 13.0px;\n   font-weight: normal;\n   font-style: normal;   \n}\n#dQTLYes .axis-tooltip-text-y {\n   fill: #ffffff;\n   font-family: Lucida Grande, sans-serif;\n   font-size: 13.0px;\n   font-weight: normal;\n   font-style: normal;   \n}\n#p15TSQJ .facet-strip-text-x {\n   fill: #474747;\n   font-family: Lucida Grande, sans-serif;\n   font-size: 13.0px;\n   font-weight: normal;\n   font-style: normal;   \n}\n#p15TSQJ .facet-strip-text-y {\n   fill: #474747;\n   font-family: Lucida Grande, sans-serif;\n   font-size: 13.0px;\n   font-weight: normal;\n   font-style: normal;   \n}\n#dQTLYes .tooltip-text {\n   fill: #474747;\n   font-family: Lucida Grande, sans-serif;\n   font-size: 13.0px;\n   font-weight: normal;\n   font-style: normal;   \n}\n#dQTLYes .tooltip-title {\n   fill: #474747;\n   font-family: Lucida Grande, sans-serif;\n   font-size: 13.0px;\n   font-weight: bold;\n   font-style: normal;   \n}\n#dQTLYes .tooltip-label {\n   fill: #474747;\n   font-family: Lucida Grande, sans-serif;\n   font-size: 13.0px;\n   font-weight: bold;\n   font-style: normal;   \n}\n\n  </style>\n  <g id=\"p15TSQJ\">\n    <path fill-rule=\"evenodd\" fill=\"rgb(255,255,255)\" fill-opacity=\"1.0\" d=\"M0.0 0.0 L0.0 350.0 L700.0 350.0 L700.0 0.0 Z\">\n    </path>\n    <g transform=\"translate(23.0 10.0 ) \">\n      <g transform=\"translate(21.961210910936405 294.0 ) \">\n        <line x1=\"39.96065939717945\" y1=\"-0.0\" x2=\"39.96065939717945\" y2=\"-294.0\" stroke=\"rgb(233,233,233)\" stroke-opacity=\"1.0\" stroke-width=\"1.0\">\n        </line>\n        <line x1=\"228.26053494935164\" y1=\"-0.0\" x2=\"228.26053494935164\" y2=\"-294.0\" stroke=\"rgb(233,233,233)\" stroke-opacity=\"1.0\" stroke-width=\"1.0\">\n        </line>\n        <line x1=\"416.5604105015238\" y1=\"-0.0\" x2=\"416.5604105015238\" y2=\"-294.0\" stroke=\"rgb(233,233,233)\" stroke-opacity=\"1.0\" stroke-width=\"1.0\">\n        </line>\n        <line x1=\"604.8602860536961\" y1=\"-0.0\" x2=\"604.8602860536961\" y2=\"-294.0\" stroke=\"rgb(233,233,233)\" stroke-opacity=\"1.0\" stroke-width=\"1.0\">\n        </line>\n        <g transform=\"translate(39.96065939717945 0.0 ) \">\n          <line stroke-width=\"1.0\" stroke=\"rgb(71,71,71)\" stroke-opacity=\"1.0\" x2=\"0.0\" y2=\"4.0\">\n          </line>\n          <g transform=\"translate(0.0 7.0 ) \">\n            <text class=\"axis-text-x\" text-anchor=\"middle\" dy=\"0.7em\">\n            0.0\n            </text>\n          </g>\n        </g>\n        <g transform=\"translate(228.26053494935164 0.0 ) \">\n          <line stroke-width=\"1.0\" stroke=\"rgb(71,71,71)\" stroke-opacity=\"1.0\" x2=\"0.0\" y2=\"4.0\">\n          </line>\n          <g transform=\"translate(0.0 7.0 ) \">\n            <text class=\"axis-text-x\" text-anchor=\"middle\" dy=\"0.7em\">\n            5.0\n            </text>\n          </g>\n        </g>\n        <g transform=\"translate(416.5604105015238 0.0 ) \">\n          <line stroke-width=\"1.0\" stroke=\"rgb(71,71,71)\" stroke-opacity=\"1.0\" x2=\"0.0\" y2=\"4.0\">\n          </line>\n          <g transform=\"translate(0.0 7.0 ) \">\n            <text class=\"axis-text-x\" text-anchor=\"middle\" dy=\"0.7em\">\n            10.0\n            </text>\n          </g>\n        </g>\n        <g transform=\"translate(604.8602860536961 0.0 ) \">\n          <line stroke-width=\"1.0\" stroke=\"rgb(71,71,71)\" stroke-opacity=\"1.0\" x2=\"0.0\" y2=\"4.0\">\n          </line>\n          <g transform=\"translate(0.0 7.0 ) \">\n            <text class=\"axis-text-x\" text-anchor=\"middle\" dy=\"0.7em\">\n            15.0\n            </text>\n          </g>\n        </g>\n        <line x1=\"0.0\" y1=\"0.0\" x2=\"645.0387890890636\" y2=\"0.0\" stroke-width=\"1.0\" stroke=\"rgb(71,71,71)\" stroke-opacity=\"1.0\">\n        </line>\n      </g>\n      <g transform=\"translate(21.961210910936405 0.0 ) \">\n        <line x1=\"0.0\" y1=\"274.89187827738505\" x2=\"645.0387890890636\" y2=\"274.89187827738505\" stroke=\"rgb(233,233,233)\" stroke-opacity=\"1.0\" stroke-width=\"1.0\">\n        </line>\n        <line x1=\"0.0\" y1=\"189.75356345890225\" x2=\"645.0387890890636\" y2=\"189.75356345890225\" stroke=\"rgb(233,233,233)\" stroke-opacity=\"1.0\" stroke-width=\"1.0\">\n        </line>\n        <line x1=\"0.0\" y1=\"104.61524864041948\" x2=\"645.0387890890636\" y2=\"104.61524864041948\" stroke=\"rgb(233,233,233)\" stroke-opacity=\"1.0\" stroke-width=\"1.0\">\n        </line>\n        <line x1=\"0.0\" y1=\"19.47693382193671\" x2=\"645.0387890890636\" y2=\"19.47693382193671\" stroke=\"rgb(233,233,233)\" stroke-opacity=\"1.0\" stroke-width=\"1.0\">\n        </line>\n        <g transform=\"translate(0.0 274.89187827738505 ) \">\n          <g transform=\"translate(-3.0 0.0 ) \">\n            <text class=\"axis-text-y\" text-anchor=\"end\" dy=\"0.35em\">\n            0\n            </text>\n          </g>\n        </g>\n        <g transform=\"translate(0.0 189.75356345890225 ) \">\n          <g transform=\"translate(-3.0 0.0 ) \">\n            <text class=\"axis-text-y\" text-anchor=\"end\" dy=\"0.35em\">\n            5\n            </text>\n          </g>\n        </g>\n        <g transform=\"translate(0.0 104.61524864041948 ) \">\n          <g transform=\"translate(-3.0 0.0 ) \">\n            <text class=\"axis-text-y\" text-anchor=\"end\" dy=\"0.35em\">\n            10\n            </text>\n          </g>\n        </g>\n        <g transform=\"translate(0.0 19.47693382193671 ) \">\n          <g transform=\"translate(-3.0 0.0 ) \">\n            <text class=\"axis-text-y\" text-anchor=\"end\" dy=\"0.35em\">\n            15\n            </text>\n          </g>\n        </g>\n      </g>\n      <g transform=\"translate(21.961210910936405 0.0 ) \" clip-path=\"url(#czKGp5j)\" clip-bounds-jfx=\"[rect (0.0, 0.0), (645.0387890890636, 294.0)]\">\n        <defs>\n          <clipPath id=\"czKGp5j\">\n            <rect x=\"0.0\" y=\"0.0\" width=\"645.0387890890636\" height=\"294.0\">\n            </rect>\n          </clipPath>\n        </defs>\n        <g>\n          \n          <g >\n            <circle fill=\"#000000\" fill-opacity=\"0.0\" stroke=\"#474747\" stroke-width=\"1.6500000000000001\" cx=\"23.095860683843668\" cy=\"280.1494609553794\" r=\"4.125\" />\n            <circle fill=\"#000000\" fill-opacity=\"0.0\" stroke=\"#474747\" stroke-width=\"1.6500000000000001\" cx=\"45.83692861173603\" cy=\"268.65737582706015\" r=\"4.125\" />\n            <circle fill=\"#000000\" fill-opacity=\"0.0\" stroke=\"#474747\" stroke-width=\"1.6500000000000001\" cx=\"39.81883778840138\" cy=\"280.8570222772374\" r=\"4.125\" />\n            <circle fill=\"#000000\" fill-opacity=\"0.0\" stroke=\"#474747\" stroke-width=\"1.6500000000000001\" cx=\"30.72346153076772\" cy=\"266.81656688720204\" r=\"4.125\" />\n            <circle fill=\"#000000\" fill-opacity=\"0.0\" stroke=\"#474747\" stroke-width=\"1.6500000000000001\" cx=\"21.783101273075122\" cy=\"280.7470754529347\" r=\"4.125\" />\n            <circle fill=\"#000000\" fill-opacity=\"0.0\" stroke=\"#474747\" stroke-width=\"1.6500000000000001\" cx=\"215.73472772403554\" cy=\"272.16522599419517\" r=\"4.125\" />\n            <circle fill=\"#000000\" fill-opacity=\"0.0\" stroke=\"#474747\" stroke-width=\"1.6500000000000001\" cx=\"240.4032011609177\" cy=\"111.86230893747219\" r=\"4.125\" />\n            <circle fill=\"#000000\" fill-opacity=\"0.0\" stroke=\"#474747\" stroke-width=\"1.6500000000000001\" cx=\"235.4627029001406\" cy=\"181.4374083110332\" r=\"4.125\" />\n            <circle fill=\"#000000\" fill-opacity=\"0.0\" stroke=\"#474747\" stroke-width=\"1.6500000000000001\" cx=\"221.00693832416408\" cy=\"184.7828315520494\" r=\"4.125\" />\n            <circle fill=\"#000000\" fill-opacity=\"0.0\" stroke=\"#474747\" stroke-width=\"1.6500000000000001\" cx=\"211.2060405405078\" cy=\"103.75813862870265\" r=\"4.125\" />\n            <circle fill=\"#000000\" fill-opacity=\"0.0\" stroke=\"#474747\" stroke-width=\"1.6500000000000001\" cx=\"409.49939301803335\" cy=\"97.604661308244\" r=\"4.125\" />\n            <circle fill=\"#000000\" fill-opacity=\"0.0\" stroke=\"#474747\" stroke-width=\"1.6500000000000001\" cx=\"423.23963407960906\" cy=\"188.51244571107486\" r=\"4.125\" />\n            <circle fill=\"#000000\" fill-opacity=\"0.0\" stroke=\"#474747\" stroke-width=\"1.6500000000000001\" cx=\"412.5795434091843\" cy=\"97.48830155674023\" r=\"4.125\" />\n            <circle fill=\"#000000\" fill-opacity=\"0.0\" stroke=\"#474747\" stroke-width=\"1.6500000000000001\" cx=\"423.44972613484225\" cy=\"99.62913460535009\" r=\"4.125\" />\n            <circle fill=\"#000000\" fill-opacity=\"0.0\" stroke=\"#474747\" stroke-width=\"1.6500000000000001\" cx=\"411.5685148352807\" cy=\"191.73748028844486\" r=\"4.125\" />\n            <circle fill=\"#000000\" fill-opacity=\"0.0\" stroke=\"#474747\" stroke-width=\"1.6500000000000001\" cx=\"592.7023038701069\" cy=\"106.5729485407972\" r=\"4.125\" />\n            <circle fill=\"#000000\" fill-opacity=\"0.0\" stroke=\"#474747\" stroke-width=\"1.6500000000000001\" cx=\"602.9893536126737\" cy=\"19.141349825604806\" r=\"4.125\" />\n            <circle fill=\"#000000\" fill-opacity=\"0.0\" stroke=\"#474747\" stroke-width=\"1.6500000000000001\" cx=\"587.5168929037028\" cy=\"97.46586436134095\" r=\"4.125\" />\n            <circle fill=\"#000000\" fill-opacity=\"0.0\" stroke=\"#474747\" stroke-width=\"1.6500000000000001\" cx=\"616.461061907218\" cy=\"26.181797425533546\" r=\"4.125\" />\n            <circle fill=\"#000000\" fill-opacity=\"0.0\" stroke=\"#474747\" stroke-width=\"1.6500000000000001\" cx=\"602.6098243044573\" cy=\"16.251086892175863\" r=\"4.125\" />\n          </g>\n        </g>\n      </g>\n    </g>\n    <g transform=\"translate(14.5 157.0 ) rotate(-90.0 ) \">\n      <text class=\"axis-title-y\" y=\"0.0\" text-anchor=\"middle\">\n      yvar\n      </text>\n    </g>\n    <g transform=\"translate(367.4806054554682 341.5 ) \">\n      <text class=\"axis-title-x\" y=\"0.0\" text-anchor=\"middle\">\n      xvar\n      </text>\n    </g>\n    <path fill=\"rgb(0,0,0)\" fill-opacity=\"0.0\" stroke=\"rgb(71,71,71)\" stroke-opacity=\"1.0\" stroke-width=\"0.0\" d=\"M0.0 0.0 L0.0 350.0 L700.0 350.0 L700.0 0.0 Z\">\n    </path>\n  </g>\n  <g id=\"dQTLYes\">\n  </g>\n</svg>\n        <script>document.getElementById(\"bc015fc7-20f0-44cc-862a-205913dfe8c8\").style.display = \"none\";</script>",
      "application/plot+json": {
       "output_type": "lets_plot_spec",
       "output": {
        "mapping": {},
        "data": {
         "yvar": [
          0.0,
          0.0,
          0.0,
          0.0,
          0.0,
          0.0,
          10.0,
          5.0,
          5.0,
          10.0,
          10.0,
          5.0,
          10.0,
          10.0,
          5.0,
          10.0,
          15.0,
          10.0,
          15.0,
          15.0
         ],
         "xvar": [
          0.0,
          0.0,
          0.0,
          0.0,
          0.0,
          5.0,
          5.0,
          5.0,
          5.0,
          5.0,
          10.0,
          10.0,
          10.0,
          10.0,
          10.0,
          15.0,
          15.0,
          15.0,
          15.0,
          15.0
         ]
        },
        "ggsize": {
         "width": 700.0,
         "height": 350.0
        },
        "kind": "plot",
        "scales": [
         {
          "aesthetic": "x",
          "breaks": [
           0.0,
           5.0,
           10.0,
           15.0
          ],
          "limits": [
           null,
           null
          ]
         },
         {
          "aesthetic": "y",
          "limits": [
           null,
           null
          ]
         }
        ],
        "layers": [
         {
          "mapping": {
           "x": "xvar",
           "y": "yvar"
          },
          "stat": "identity",
          "shape": 1.0,
          "sampling": "none",
          "position": {
           "name": "jitter",
           "width": 0.1,
           "height": 0.1
          },
          "geom": "point"
         }
        ]
       },
       "apply_color_scheme": true,
       "swing_enabled": true
      }
     },
     "execution_count": 8,
     "metadata": {},
     "output_type": "execute_result"
    }
   ],
   "source": [
    "plot(data1) {\n",
    "    points {\n",
    "        x(xvar) {\n",
    "            axis.breaks(listOf(0, 5, 10, 15))\n",
    "        }\n",
    "        y(yvar)\n",
    "        symbol = Symbol.CIRCLE_OPEN\n",
    "\n",
    "        position = Position.jitter(.1, .1)\n",
    "    }\n",
    "    layout {\n",
    "        size = 700 to 350\n",
    "    }\n",
    "}"
   ]
  }
 ],
 "metadata": {
  "kernelspec": {
   "display_name": "Kotlin",
   "language": "kotlin",
   "name": "kotlin"
  },
  "language_info": {
   "codemirror_mode": "text/x-kotlin",
   "file_extension": ".kt",
   "mimetype": "text/x-kotlin",
   "name": "kotlin",
   "nbconvert_exporter": "",
   "pygments_lexer": "kotlin",
   "version": "1.8.20-Beta"
  }
 },
 "nbformat": 4,
 "nbformat_minor": 4
}
