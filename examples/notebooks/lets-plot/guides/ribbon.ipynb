{
 "cells": [
  {
   "cell_type": "code",
   "execution_count": 1,
   "id": "b8e434bf",
   "metadata": {
    "ExecuteTime": {
     "end_time": "2023-11-28T18:05:12.778566Z",
     "start_time": "2023-11-28T18:05:12.051312Z"
    }
   },
   "outputs": [],
   "source": [
    "%useLatestDescriptors\n",
    "%use kandy\n",
    "%use dataframe"
   ]
  },
  {
   "cell_type": "code",
   "execution_count": 2,
   "id": "57bc3477",
   "metadata": {
    "ExecuteTime": {
     "end_time": "2023-11-28T18:05:16.392007Z",
     "start_time": "2023-11-28T18:05:16.003032Z"
    }
   },
   "outputs": [],
   "source": [
    "fun generateDataMap(n: Int = 15, a: Double = 1.0): Map<String, List<Any>> {\n",
    "    val rand = java.util.Random(42)\n",
    "    val x = List(2 * n + 1) { i -> a * (i - n).toDouble() / n }\n",
    "    val tMin = x.map { a * a - it.pow(2) - abs(rand.nextGaussian()) }\n",
    "    val tMax = x.map { a * a - it.pow(2) + abs(rand.nextGaussian()) }\n",
    "    return mapOf(\"day\" to (1..x.size).toList(), \"minTemp\" to tMin, \"maxTemp\" to tMax)\n",
    "}\n",
    "\n",
    "val dataMap = generateDataMap(a = 2.0)"
   ]
  },
  {
   "cell_type": "code",
   "execution_count": 3,
   "id": "ca495723",
   "metadata": {
    "ExecuteTime": {
     "end_time": "2023-11-28T18:05:21.564112Z",
     "start_time": "2023-11-28T18:05:21.144475Z"
    }
   },
   "outputs": [
    {
     "data": {
      "text/html": "            <iframe src='about:blank' style='border:none !important;' width='600' height='400' srcdoc=\"&lt;html lang=&quot;en&quot;>\n   &lt;head>\n       &lt;style> html, body { margin: 0; overflow: hidden; } &lt;/style>\n       &lt;script type=&quot;text/javascript&quot; data-lets-plot-script=&quot;library&quot; src=&quot;https://cdn.jsdelivr.net/gh/JetBrains/lets-plot@v4.0.1/js-package/distr/lets-plot.min.js&quot;>&lt;/script>\n   &lt;/head>\n   &lt;body>\n          &lt;div id=&quot;uQUi8M&quot;>&lt;/div>\n   &lt;script type=&quot;text/javascript&quot; data-lets-plot-script=&quot;plot&quot;>\n       var plotSpec={\n&quot;mapping&quot;:{\n},\n&quot;data&quot;:{\n&quot;maxTemp&quot;:[1.363726024075023,2.4802216543094335,1.9141503994897446,3.9888873933848057,3.4798495467308195,2.344226996842114,3.8491590718015773,3.1313610778782155,3.3863802973979773,3.6799143760045325,5.324055414806862,4.199005868414801,4.34999046538937,5.0455622658550885,4.023169423739505,5.10767151692008,5.844543639869417,5.074630026598041,4.898677204893092,4.788154689495623,5.487299707585221,3.66102521611535,3.3764120471693153,4.268379071471309,4.080220720356926,2.493151634914312,2.4101381737026664,1.9698295780368602,1.5345777470543829,2.7278957697342796,0.6329335687728442],\n&quot;day&quot;:[1.0,2.0,3.0,4.0,5.0,6.0,7.0,8.0,9.0,10.0,11.0,12.0,13.0,14.0,15.0,16.0,17.0,18.0,19.0,20.0,21.0,22.0,23.0,24.0,25.0,26.0,27.0,28.0,29.0,30.0,31.0],\n&quot;minTemp&quot;:[-1.1419053154730547,-0.40385239342723256,0.045688918664659406,0.3330097136006618,1.5679112508161097,1.537599426589567,1.7427785926012733,1.4655788195441786,2.9379443758180135,1.8737866076093497,2.7532484058681925,3.594042630890062,2.4294937760561375,3.2886561066753153,2.7725777629689308,3.646242302127971,3.4918725730232145,3.378167350614526,2.6364489980349166,3.394539474913914,2.004407916688372,2.9214697137528947,2.64729082806435,1.3425911432541537,2.2831682708126753,2.138283243727359,0.5930558831000932,1.1147272061334224,0.8222652224944716,-1.3430295890308974,-1.4238069456328435]\n},\n&quot;kind&quot;:&quot;plot&quot;,\n&quot;scales&quot;:[{\n&quot;aesthetic&quot;:&quot;x&quot;,\n&quot;name&quot;:&quot;time&quot;,\n&quot;limits&quot;:[null,null]\n}],\n&quot;layers&quot;:[{\n&quot;mapping&quot;:{\n&quot;x&quot;:&quot;day&quot;,\n&quot;ymin&quot;:&quot;minTemp&quot;,\n&quot;ymax&quot;:&quot;maxTemp&quot;\n},\n&quot;stat&quot;:&quot;identity&quot;,\n&quot;sampling&quot;:&quot;none&quot;,\n&quot;position&quot;:&quot;identity&quot;,\n&quot;geom&quot;:&quot;ribbon&quot;,\n&quot;data&quot;:{\n}\n}]\n};\n       var plotContainer = document.getElementById(&quot;uQUi8M&quot;);\n       LetsPlot.buildPlotFromProcessedSpecs(plotSpec, -1, -1, plotContainer);\n   &lt;/script>\n   &lt;/body>\n&lt;/html>\"></iframe>            \n        <svg id=e71ea39f-aede-49b0-b71b-d6a1d5b2a08a xmlns=\"http://www.w3.org/2000/svg\" xmlns:xlink=\"http://www.w3.org/1999/xlink\" class=\"plt-container\" width=\"600.0\" height=\"400.0\">\n  <style type=\"text/css\">\n  .plt-container {\n   font-family: Lucida Grande, sans-serif;\n   user-select: none;\n   -webkit-user-select: none;\n   -moz-user-select: none;\n   -ms-user-select: none;\n}\ntext {\n   text-rendering: optimizeLegibility;\n}\n#pHrvwrH .plot-title {\n   fill: #474747;\n   font-family: Lucida Grande, sans-serif;\n   font-size: 16.0px;\n   font-weight: normal;\n   font-style: normal;   \n}\n#pHrvwrH .plot-subtitle {\n   fill: #474747;\n   font-family: Lucida Grande, sans-serif;\n   font-size: 15.0px;\n   font-weight: normal;\n   font-style: normal;   \n}\n#pHrvwrH .plot-caption {\n   fill: #474747;\n   font-family: Lucida Grande, sans-serif;\n   font-size: 13.0px;\n   font-weight: normal;\n   font-style: normal;   \n}\n#pHrvwrH .legend-title {\n   fill: #474747;\n   font-family: Lucida Grande, sans-serif;\n   font-size: 15.0px;\n   font-weight: normal;\n   font-style: normal;   \n}\n#pHrvwrH .legend-item {\n   fill: #474747;\n   font-family: Lucida Grande, sans-serif;\n   font-size: 13.0px;\n   font-weight: normal;\n   font-style: normal;   \n}\n#pHrvwrH .axis-title-x {\n   fill: #474747;\n   font-family: Lucida Grande, sans-serif;\n   font-size: 15.0px;\n   font-weight: normal;\n   font-style: normal;   \n}\n#pHrvwrH .axis-text-x {\n   fill: #474747;\n   font-family: Lucida Grande, sans-serif;\n   font-size: 13.0px;\n   font-weight: normal;\n   font-style: normal;   \n}\n#dVF63Li .axis-tooltip-text-x {\n   fill: #ffffff;\n   font-family: Lucida Grande, sans-serif;\n   font-size: 13.0px;\n   font-weight: normal;\n   font-style: normal;   \n}\n#pHrvwrH .axis-title-y {\n   fill: #474747;\n   font-family: Lucida Grande, sans-serif;\n   font-size: 15.0px;\n   font-weight: normal;\n   font-style: normal;   \n}\n#pHrvwrH .axis-text-y {\n   fill: #474747;\n   font-family: Lucida Grande, sans-serif;\n   font-size: 13.0px;\n   font-weight: normal;\n   font-style: normal;   \n}\n#dVF63Li .axis-tooltip-text-y {\n   fill: #ffffff;\n   font-family: Lucida Grande, sans-serif;\n   font-size: 13.0px;\n   font-weight: normal;\n   font-style: normal;   \n}\n#pHrvwrH .facet-strip-text-x {\n   fill: #474747;\n   font-family: Lucida Grande, sans-serif;\n   font-size: 13.0px;\n   font-weight: normal;\n   font-style: normal;   \n}\n#pHrvwrH .facet-strip-text-y {\n   fill: #474747;\n   font-family: Lucida Grande, sans-serif;\n   font-size: 13.0px;\n   font-weight: normal;\n   font-style: normal;   \n}\n#dVF63Li .tooltip-text {\n   fill: #474747;\n   font-family: Lucida Grande, sans-serif;\n   font-size: 13.0px;\n   font-weight: normal;\n   font-style: normal;   \n}\n#dVF63Li .tooltip-title {\n   fill: #474747;\n   font-family: Lucida Grande, sans-serif;\n   font-size: 13.0px;\n   font-weight: bold;\n   font-style: normal;   \n}\n#dVF63Li .tooltip-label {\n   fill: #474747;\n   font-family: Lucida Grande, sans-serif;\n   font-size: 13.0px;\n   font-weight: bold;\n   font-style: normal;   \n}\n\n  </style>\n  <g id=\"pHrvwrH\">\n    <path fill-rule=\"evenodd\" fill=\"rgb(255,255,255)\" fill-opacity=\"1.0\" d=\"M0.0 0.0 L0.0 400.0 L600.0 400.0 L600.0 0.0 Z\">\n    </path>\n    <g transform=\"translate(23.0 10.0 ) \">\n      <g transform=\"translate(21.961210910936405 344.0 ) \">\n        <line x1=\"8.258163471046418\" y1=\"-0.0\" x2=\"8.258163471046418\" y2=\"-344.0\" stroke=\"rgb(233,233,233)\" stroke-opacity=\"1.0\" stroke-width=\"1.0\">\n        </line>\n        <line x1=\"90.83979818151059\" y1=\"-0.0\" x2=\"90.83979818151059\" y2=\"-344.0\" stroke=\"rgb(233,233,233)\" stroke-opacity=\"1.0\" stroke-width=\"1.0\">\n        </line>\n        <line x1=\"173.42143289197477\" y1=\"-0.0\" x2=\"173.42143289197477\" y2=\"-344.0\" stroke=\"rgb(233,233,233)\" stroke-opacity=\"1.0\" stroke-width=\"1.0\">\n        </line>\n        <line x1=\"256.00306760243893\" y1=\"-0.0\" x2=\"256.00306760243893\" y2=\"-344.0\" stroke=\"rgb(233,233,233)\" stroke-opacity=\"1.0\" stroke-width=\"1.0\">\n        </line>\n        <line x1=\"338.5847023129031\" y1=\"-0.0\" x2=\"338.5847023129031\" y2=\"-344.0\" stroke=\"rgb(233,233,233)\" stroke-opacity=\"1.0\" stroke-width=\"1.0\">\n        </line>\n        <line x1=\"421.1663370233673\" y1=\"-0.0\" x2=\"421.1663370233673\" y2=\"-344.0\" stroke=\"rgb(233,233,233)\" stroke-opacity=\"1.0\" stroke-width=\"1.0\">\n        </line>\n        <line x1=\"503.7479717338315\" y1=\"-0.0\" x2=\"503.7479717338315\" y2=\"-344.0\" stroke=\"rgb(233,233,233)\" stroke-opacity=\"1.0\" stroke-width=\"1.0\">\n        </line>\n        <g transform=\"translate(8.258163471046418 0.0 ) \">\n          <line stroke-width=\"1.0\" stroke=\"rgb(71,71,71)\" stroke-opacity=\"1.0\" x2=\"0.0\" y2=\"4.0\">\n          </line>\n          <g transform=\"translate(0.0 7.0 ) \">\n            <text class=\"axis-text-x\" text-anchor=\"middle\" dy=\"0.7em\">\n            0\n            </text>\n          </g>\n        </g>\n        <g transform=\"translate(90.83979818151059 0.0 ) \">\n          <line stroke-width=\"1.0\" stroke=\"rgb(71,71,71)\" stroke-opacity=\"1.0\" x2=\"0.0\" y2=\"4.0\">\n          </line>\n          <g transform=\"translate(0.0 7.0 ) \">\n            <text class=\"axis-text-x\" text-anchor=\"middle\" dy=\"0.7em\">\n            5\n            </text>\n          </g>\n        </g>\n        <g transform=\"translate(173.42143289197477 0.0 ) \">\n          <line stroke-width=\"1.0\" stroke=\"rgb(71,71,71)\" stroke-opacity=\"1.0\" x2=\"0.0\" y2=\"4.0\">\n          </line>\n          <g transform=\"translate(0.0 7.0 ) \">\n            <text class=\"axis-text-x\" text-anchor=\"middle\" dy=\"0.7em\">\n            10\n            </text>\n          </g>\n        </g>\n        <g transform=\"translate(256.00306760243893 0.0 ) \">\n          <line stroke-width=\"1.0\" stroke=\"rgb(71,71,71)\" stroke-opacity=\"1.0\" x2=\"0.0\" y2=\"4.0\">\n          </line>\n          <g transform=\"translate(0.0 7.0 ) \">\n            <text class=\"axis-text-x\" text-anchor=\"middle\" dy=\"0.7em\">\n            15\n            </text>\n          </g>\n        </g>\n        <g transform=\"translate(338.5847023129031 0.0 ) \">\n          <line stroke-width=\"1.0\" stroke=\"rgb(71,71,71)\" stroke-opacity=\"1.0\" x2=\"0.0\" y2=\"4.0\">\n          </line>\n          <g transform=\"translate(0.0 7.0 ) \">\n            <text class=\"axis-text-x\" text-anchor=\"middle\" dy=\"0.7em\">\n            20\n            </text>\n          </g>\n        </g>\n        <g transform=\"translate(421.1663370233673 0.0 ) \">\n          <line stroke-width=\"1.0\" stroke=\"rgb(71,71,71)\" stroke-opacity=\"1.0\" x2=\"0.0\" y2=\"4.0\">\n          </line>\n          <g transform=\"translate(0.0 7.0 ) \">\n            <text class=\"axis-text-x\" text-anchor=\"middle\" dy=\"0.7em\">\n            25\n            </text>\n          </g>\n        </g>\n        <g transform=\"translate(503.7479717338315 0.0 ) \">\n          <line stroke-width=\"1.0\" stroke=\"rgb(71,71,71)\" stroke-opacity=\"1.0\" x2=\"0.0\" y2=\"4.0\">\n          </line>\n          <g transform=\"translate(0.0 7.0 ) \">\n            <text class=\"axis-text-x\" text-anchor=\"middle\" dy=\"0.7em\">\n            30\n            </text>\n          </g>\n        </g>\n        <line x1=\"0.0\" y1=\"0.0\" x2=\"545.0387890890636\" y2=\"0.0\" stroke-width=\"1.0\" stroke=\"rgb(71,71,71)\" stroke-opacity=\"1.0\">\n        </line>\n      </g>\n      <g transform=\"translate(21.961210910936405 0.0 ) \">\n        <line x1=\"0.0\" y1=\"310.12896417611194\" x2=\"545.0387890890636\" y2=\"310.12896417611194\" stroke=\"rgb(233,233,233)\" stroke-opacity=\"1.0\" stroke-width=\"1.0\">\n        </line>\n        <line x1=\"0.0\" y1=\"267.1030714307825\" x2=\"545.0387890890636\" y2=\"267.1030714307825\" stroke=\"rgb(233,233,233)\" stroke-opacity=\"1.0\" stroke-width=\"1.0\">\n        </line>\n        <line x1=\"0.0\" y1=\"224.07717868545308\" x2=\"545.0387890890636\" y2=\"224.07717868545308\" stroke=\"rgb(233,233,233)\" stroke-opacity=\"1.0\" stroke-width=\"1.0\">\n        </line>\n        <line x1=\"0.0\" y1=\"181.05128594012362\" x2=\"545.0387890890636\" y2=\"181.05128594012362\" stroke=\"rgb(233,233,233)\" stroke-opacity=\"1.0\" stroke-width=\"1.0\">\n        </line>\n        <line x1=\"0.0\" y1=\"138.02539319479416\" x2=\"545.0387890890636\" y2=\"138.02539319479416\" stroke=\"rgb(233,233,233)\" stroke-opacity=\"1.0\" stroke-width=\"1.0\">\n        </line>\n        <line x1=\"0.0\" y1=\"94.99950044946473\" x2=\"545.0387890890636\" y2=\"94.99950044946473\" stroke=\"rgb(233,233,233)\" stroke-opacity=\"1.0\" stroke-width=\"1.0\">\n        </line>\n        <line x1=\"0.0\" y1=\"51.973607704135304\" x2=\"545.0387890890636\" y2=\"51.973607704135304\" stroke=\"rgb(233,233,233)\" stroke-opacity=\"1.0\" stroke-width=\"1.0\">\n        </line>\n        <line x1=\"0.0\" y1=\"8.947714958805818\" x2=\"545.0387890890636\" y2=\"8.947714958805818\" stroke=\"rgb(233,233,233)\" stroke-opacity=\"1.0\" stroke-width=\"1.0\">\n        </line>\n        <g transform=\"translate(0.0 310.12896417611194 ) \">\n          <g transform=\"translate(-3.0 0.0 ) \">\n            <text class=\"axis-text-y\" text-anchor=\"end\" dy=\"0.35em\">\n            -1\n            </text>\n          </g>\n        </g>\n        <g transform=\"translate(0.0 267.1030714307825 ) \">\n          <g transform=\"translate(-3.0 0.0 ) \">\n            <text class=\"axis-text-y\" text-anchor=\"end\" dy=\"0.35em\">\n            0\n            </text>\n          </g>\n        </g>\n        <g transform=\"translate(0.0 224.07717868545308 ) \">\n          <g transform=\"translate(-3.0 0.0 ) \">\n            <text class=\"axis-text-y\" text-anchor=\"end\" dy=\"0.35em\">\n            1\n            </text>\n          </g>\n        </g>\n        <g transform=\"translate(0.0 181.05128594012362 ) \">\n          <g transform=\"translate(-3.0 0.0 ) \">\n            <text class=\"axis-text-y\" text-anchor=\"end\" dy=\"0.35em\">\n            2\n            </text>\n          </g>\n        </g>\n        <g transform=\"translate(0.0 138.02539319479416 ) \">\n          <g transform=\"translate(-3.0 0.0 ) \">\n            <text class=\"axis-text-y\" text-anchor=\"end\" dy=\"0.35em\">\n            3\n            </text>\n          </g>\n        </g>\n        <g transform=\"translate(0.0 94.99950044946473 ) \">\n          <g transform=\"translate(-3.0 0.0 ) \">\n            <text class=\"axis-text-y\" text-anchor=\"end\" dy=\"0.35em\">\n            4\n            </text>\n          </g>\n        </g>\n        <g transform=\"translate(0.0 51.973607704135304 ) \">\n          <g transform=\"translate(-3.0 0.0 ) \">\n            <text class=\"axis-text-y\" text-anchor=\"end\" dy=\"0.35em\">\n            5\n            </text>\n          </g>\n        </g>\n        <g transform=\"translate(0.0 8.947714958805818 ) \">\n          <g transform=\"translate(-3.0 0.0 ) \">\n            <text class=\"axis-text-y\" text-anchor=\"end\" dy=\"0.35em\">\n            6\n            </text>\n          </g>\n        </g>\n      </g>\n      <g transform=\"translate(21.961210910936405 0.0 ) \" clip-path=\"url(#co2j5mw)\" clip-bounds-jfx=\"[rect (0.0, 0.0), (545.0387890890636, 344.0)]\">\n        <defs>\n          <clipPath id=\"co2j5mw\">\n            <rect x=\"0.0\" y=\"0.0\" width=\"545.0387890890636\" height=\"344.0\">\n            </rect>\n          </clipPath>\n        </defs>\n        <g>\n          <path d=\"M24.774490413139254 208.427541784916 L24.774490413139254 208.427541784916 L41.290817355232086 160.38932054782126 L57.807144297324925 184.74504164390726 L74.32347123941776 95.47763026981113 L90.83979818151059 117.37943806325899 L107.35612512360343 166.24061209394796 L123.87245206569627 101.48956604773602 L140.3887790077891 132.3734655470952 L156.90510594988194 121.4010359600403 L173.42143289197477 108.77147017681557 L189.9377598340676 38.030834183112006 L206.45408677616047 86.43709529935836 L222.9704137182533 79.94084822373378 L239.48674066034613 50.01325054022007 L256.00306760243893 94.00261530867769 L272.5193945445318 47.34094456540501 L289.03572148662465 15.636363636363626 L305.55204842871746 48.7625841841469 L322.0683753708103 56.33311141906211 L338.5847023129031 61.08844131249762 L355.101029254996 31.007102750743172 L371.6173561970888 109.58419314425691 L388.13368313918164 121.82992882523732 L404.6500100812745 83.45225130524906 L421.1663370233673 91.54793233943457 L437.68266396546016 159.8329965891166 L454.19899090755297 163.4047248676274 L470.7153178496458 182.34939527959102 L487.23164479173863 201.07649387665134 L503.7479717338315 149.7329206217575 L520.2642986759242 239.87053958584352 L520.2642986759242 328.3636363636363 L503.7479717338315 324.8881184822298 L487.23164479173863 231.72437615952092 L470.7153178496458 219.14093821938513 L454.19899090755297 241.58631261253126 L437.68266396546016 175.101525927034 L421.1663370233673 168.86771829125706 L404.6500100812745 209.33688890030004 L388.13368313918164 153.20102019679143 L371.6173561970888 141.40422886812215 L355.101029254996 180.86163138945938 L338.5847023129031 121.04998006334952 L322.0683753708103 153.6674996128009 L305.55204842871746 121.75440532746816 L289.03572148662465 116.86213662352813 L272.5193945445318 110.22024121594131 L256.00306760243893 147.81043797319586 L239.48674066034613 125.6057065086977 L222.9704137182533 162.5719327967457 L206.45408677616047 112.46617867196505 L189.9377598340676 148.64210081864837 L173.42143289197477 186.48172982414792 L156.90510594988194 140.6953918250928 L140.3887790077891 204.04523433124814 L123.87245206569627 192.11846662666392 L107.35612512360343 200.94648341705977 L90.83979818151059 199.64229011897322 L74.32347123941776 252.77503121024756 L57.807144297324925 265.13726491666677 L41.290817355232086 284.4791811953272 L24.774490413139254 316.23456705964776 Z\" fill=\"rgb(71,71,71)\" stroke-width=\"1.0\" fill-opacity=\"0.10196078431372549\">\n          </path>\n        </g>\n        <g>\n          <path d=\"M24.774490413139254 208.427541784916 L24.774490413139254 208.427541784916 L41.290817355232086 160.38932054782126 L57.807144297324925 184.74504164390726 L74.32347123941776 95.47763026981113 L90.83979818151059 117.37943806325899 L107.35612512360343 166.24061209394796 L123.87245206569627 101.48956604773602 L140.3887790077891 132.3734655470952 L156.90510594988194 121.4010359600403 L173.42143289197477 108.77147017681557 L189.9377598340676 38.030834183112006 L206.45408677616047 86.43709529935836 L222.9704137182533 79.94084822373378 L239.48674066034613 50.01325054022007 L256.00306760243893 94.00261530867769 L272.5193945445318 47.34094456540501 L289.03572148662465 15.636363636363626 L305.55204842871746 48.7625841841469 L322.0683753708103 56.33311141906211 L338.5847023129031 61.08844131249762 L355.101029254996 31.007102750743172 L371.6173561970888 109.58419314425691 L388.13368313918164 121.82992882523732 L404.6500100812745 83.45225130524906 L421.1663370233673 91.54793233943457 L437.68266396546016 159.8329965891166 L454.19899090755297 163.4047248676274 L470.7153178496458 182.34939527959102 L487.23164479173863 201.07649387665134 L503.7479717338315 149.7329206217575 L520.2642986759242 239.87053958584352 \" fill=\"none\" stroke-width=\"1.6500000000000001\" stroke=\"rgb(71,71,71)\" stroke-opacity=\"1.0\">\n          </path>\n        </g>\n        <g>\n          <path d=\"M24.774490413139254 316.23456705964776 L24.774490413139254 316.23456705964776 L41.290817355232086 284.4791811953272 L57.807144297324925 265.13726491666677 L74.32347123941776 252.77503121024756 L90.83979818151059 199.64229011897322 L107.35612512360343 200.94648341705977 L123.87245206569627 192.11846662666392 L140.3887790077891 204.04523433124814 L156.90510594988194 140.6953918250928 L173.42143289197477 186.48172982414792 L189.9377598340676 148.64210081864837 L206.45408677616047 112.46617867196505 L222.9704137182533 162.5719327967457 L239.48674066034613 125.6057065086977 L256.00306760243893 147.81043797319586 L272.5193945445318 110.22024121594131 L289.03572148662465 116.86213662352813 L305.55204842871746 121.75440532746816 L322.0683753708103 153.6674996128009 L338.5847023129031 121.04998006334952 L355.101029254996 180.86163138945938 L371.6173561970888 141.40422886812215 L388.13368313918164 153.20102019679143 L404.6500100812745 209.33688890030004 L421.1663370233673 168.86771829125706 L437.68266396546016 175.101525927034 L454.19899090755297 241.58631261253126 L470.7153178496458 219.14093821938513 L487.23164479173863 231.72437615952092 L503.7479717338315 324.8881184822298 L520.2642986759242 328.3636363636363 \" fill=\"none\" stroke-width=\"1.6500000000000001\" stroke=\"rgb(71,71,71)\" stroke-opacity=\"1.0\">\n          </path>\n        </g>\n      </g>\n    </g>\n    <g transform=\"translate(14.5 182.0 ) rotate(-90.0 ) \">\n      <text class=\"axis-title-y\" y=\"0.0\" text-anchor=\"middle\">\n      y\n      </text>\n    </g>\n    <g transform=\"translate(317.4806054554682 391.5 ) \">\n      <text class=\"axis-title-x\" y=\"0.0\" text-anchor=\"middle\">\n      time\n      </text>\n    </g>\n    <path fill=\"rgb(0,0,0)\" fill-opacity=\"0.0\" stroke=\"rgb(71,71,71)\" stroke-opacity=\"1.0\" stroke-width=\"0.0\" d=\"M0.0 0.0 L0.0 400.0 L600.0 400.0 L600.0 0.0 Z\">\n    </path>\n  </g>\n  <g id=\"dVF63Li\">\n  </g>\n</svg>\n        <script>document.getElementById(\"e71ea39f-aede-49b0-b71b-d6a1d5b2a08a\").style.display = \"none\";</script>",
      "application/plot+json": {
       "output_type": "lets_plot_spec",
       "output": {
        "mapping": {},
        "data": {
         "maxTemp": [
          1.363726,
          2.4802217,
          1.9141504,
          3.9888873,
          3.4798496,
          2.344227,
          3.849159,
          3.131361,
          3.3863802,
          3.6799145,
          5.324055,
          4.199006,
          4.3499904,
          5.0455623,
          4.0231695,
          5.1076717,
          5.8445435,
          5.0746303,
          4.8986773,
          4.7881546,
          5.4873,
          3.6610253,
          3.3764122,
          4.268379,
          4.0802207,
          2.4931517,
          2.4101381,
          1.9698296,
          1.5345777,
          2.7278957,
          0.63293356
         ],
         "day": [
          1.0,
          2.0,
          3.0,
          4.0,
          5.0,
          6.0,
          7.0,
          8.0,
          9.0,
          10.0,
          11.0,
          12.0,
          13.0,
          14.0,
          15.0,
          16.0,
          17.0,
          18.0,
          19.0,
          20.0,
          21.0,
          22.0,
          23.0,
          24.0,
          25.0,
          26.0,
          27.0,
          28.0,
          29.0,
          30.0,
          31.0
         ],
         "minTemp": [
          -1.1419053,
          -0.4038524,
          0.04568892,
          0.33300972,
          1.5679113,
          1.5375994,
          1.7427785,
          1.4655788,
          2.9379444,
          1.8737866,
          2.7532485,
          3.5940425,
          2.4294937,
          3.288656,
          2.7725778,
          3.6462424,
          3.4918725,
          3.3781674,
          2.636449,
          3.3945394,
          2.004408,
          2.9214697,
          2.647291,
          1.3425912,
          2.2831683,
          2.1382833,
          0.5930559,
          1.1147273,
          0.8222652,
          -1.3430296,
          -1.4238069
         ]
        },
        "kind": "plot",
        "scales": [
         {
          "aesthetic": "x",
          "name": "time",
          "limits": [
           null,
           null
          ]
         }
        ],
        "layers": [
         {
          "mapping": {
           "x": "day",
           "ymin": "minTemp",
           "ymax": "maxTemp"
          },
          "stat": "identity",
          "sampling": "none",
          "position": "identity",
          "geom": "ribbon"
         }
        ]
       },
       "apply_color_scheme": true,
       "swing_enabled": true
      }
     },
     "execution_count": 3,
     "metadata": {},
     "output_type": "execute_result"
    }
   ],
   "source": [
    "plot(dataMap) {\n",
    "    ribbon {\n",
    "        x(\"day\"<Int>()) { axis.name = \"time\" }\n",
    "        yMin(\"minTemp\"<Double>())\n",
    "        yMax(\"maxTemp\"<Double>())\n",
    "    }\n",
    "}"
   ]
  }
 ],
 "metadata": {
  "kernelspec": {
   "display_name": "Kotlin",
   "language": "kotlin",
   "name": "kotlin"
  },
  "language_info": {
   "codemirror_mode": "text/x-kotlin",
   "file_extension": ".kt",
   "mimetype": "text/x-kotlin",
   "name": "kotlin",
   "nbconvert_exporter": "",
   "pygments_lexer": "kotlin",
   "version": "1.8.20-Beta"
  }
 },
 "nbformat": 4,
 "nbformat_minor": 5
}
