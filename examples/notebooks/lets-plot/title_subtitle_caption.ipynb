{
 "cells": [
  {
   "cell_type": "code",
   "execution_count": null,
   "metadata": {},
   "outputs": [],
   "source": [
    "%useLatestDescriptors\n",
    "%use kandy\n",
    "%use dataframe"
   ]
  },
  {
   "cell_type": "code",
   "execution_count": null,
   "metadata": {},
   "outputs": [],
   "source": [
    "var mpg_df = DataFrame.readCSV(\"https://raw.githubusercontent.com/JetBrains/lets-plot-kotlin/master/docs/examples/data/mpg.csv\")\n",
    "mpg_df.head()\n"
   ]
  },
  {
   "cell_type": "code",
   "execution_count": null,
   "metadata": {},
   "outputs": [],
   "source": [
    "mpg_df.plot {\n",
    "   points {\n",
    "       x(displ)\n",
    "       y(hwy)\n",
    "       color(drv)\n",
    "   } \n",
    "}"
   ]
  },
  {
   "cell_type": "code",
   "execution_count": null,
   "metadata": {},
   "outputs": [],
   "source": [
    "mpg_df.plot {\n",
    "   points {\n",
    "       x(displ)\n",
    "       y(hwy)\n",
    "       color(drv)\n",
    "   } \n",
    "   layout.title = \"The plot title using 'ggtitle()'\"\n",
    "}"
   ]
  },
  {
   "cell_type": "code",
   "execution_count": null,
   "metadata": {},
   "outputs": [],
   "source": [
    "mpg_df.plot {\n",
    "   points {\n",
    "       x(displ)\n",
    "       y(hwy)\n",
    "       color(drv)\n",
    "   } \n",
    "   layout {\n",
    "       title = \"The plot title using 'labs()'\"\n",
    "   }\n",
    "}"
   ]
  },
  {
   "cell_type": "code",
   "execution_count": null,
   "metadata": {},
   "outputs": [],
   "source": [
    "mpg_df.plot {\n",
    "   points {\n",
    "       x(displ)\n",
    "       y(hwy)\n",
    "       color(drv)\n",
    "   } \n",
    "   layout {\n",
    "       title = \"The plot title\"\n",
    "       subtitle = \"The plot subtitle\"\n",
    "   }\n",
    "}"
   ]
  },
  {
   "cell_type": "code",
   "execution_count": null,
   "metadata": {},
   "outputs": [],
   "source": [
    "mpg_df.plot {\n",
    "   points {\n",
    "       x(displ)\n",
    "       y(hwy)\n",
    "       color(drv)\n",
    "   } \n",
    "   layout {\n",
    "       title = \"The plot title\"\n",
    "       subtitle = \"The plot subtitle\"\n",
    "   }\n",
    "}"
   ]
  },
  {
   "cell_type": "code",
   "execution_count": null,
   "metadata": {},
   "outputs": [],
   "source": [
    "mpg_df.plot {\n",
    "   points {\n",
    "       x(displ)\n",
    "       y(hwy)\n",
    "       color(drv)\n",
    "   } \n",
    "   layout {\n",
    "       title = \"The plot title\"\n",
    "       subtitle = \"The plot subtitle\"\n",
    "       caption = \"The plot caption\"\n",
    "   }\n",
    "}"
   ]
  },
  {
   "cell_type": "code",
   "execution_count": null,
   "metadata": {},
   "outputs": [],
   "source": [
    "mpg_df.plot {\n",
    "   points {\n",
    "       x(displ)\n",
    "       y(hwy)\n",
    "       color(drv)\n",
    "   } \n",
    "   layout {\n",
    "       title = \"The plot title\"\n",
    "       subtitle = \"The plot subtitle\"\n",
    "       caption = \"The plot caption\"\n",
    "       theme {\n",
    "           global.title {\n",
    "               color = Color.BLUE\n",
    "           }\n",
    "       }\n",
    "   }\n",
    "}"
   ]
  },
  {
   "cell_type": "code",
   "execution_count": null,
   "metadata": {},
   "outputs": [],
   "source": [
    "mpg_df.plot {\n",
    "   points {\n",
    "       x(displ)\n",
    "       y(hwy)\n",
    "       color(drv)\n",
    "   } \n",
    "   layout {\n",
    "       title = \"The plot title\"\n",
    "       subtitle = \"The plot subtitle\"\n",
    "       caption = \"The plot caption\"\n",
    "       theme {\n",
    "           global {\n",
    "               text {\n",
    "                   fontFace = FontFace.ITALIC\n",
    "               }\n",
    "               title {\n",
    "                   fontFace = FontFace.ITALIC\n",
    "               }\n",
    "           }\n",
    "           plotCanvas {\n",
    "               title {\n",
    "                   color = Color.BLUE\n",
    "               }\n",
    "               subtitle {\n",
    "                   fontFace = FontFace.ITALIC\n",
    "               }\n",
    "               caption {\n",
    "                   fontFace = FontFace.ITALIC\n",
    "               }\n",
    "           }\n",
    "       }\n",
    "   }\n",
    "}"
   ]
  },
  {
   "cell_type": "code",
   "execution_count": null,
   "metadata": {},
   "outputs": [],
   "source": [
    "mpg_df.plot {\n",
    "   points {\n",
    "       x(displ)\n",
    "       y(hwy)\n",
    "       color(drv)\n",
    "   } \n",
    "   layout {\n",
    "       title = \"The plot title\"\n",
    "       subtitle = \"The plot subtitle\"\n",
    "       caption = \"The plot caption\"\n",
    "       theme {\n",
    "           plotCanvas {\n",
    "               title {\n",
    "                   color = Color.BLUE\n",
    "               }\n",
    "               subtitle {\n",
    "                   color = Color.RED\n",
    "               }\n",
    "               caption {\n",
    "                   color = Color.named(\"dark_green\")\n",
    "               }\n",
    "           }\n",
    "       }\n",
    "   }\n",
    "}"
   ]
  },
  {
   "cell_type": "code",
   "execution_count": null,
   "metadata": {},
   "outputs": [],
   "source": [
    "mpg_df.plot {\n",
    "   points {\n",
    "       x(displ)\n",
    "       y(hwy)\n",
    "       color(drv)\n",
    "   } \n",
    "   layout {\n",
    "       title = \"The plot title:\\nFuel efficiency for most popular models of car\"\n",
    "       subtitle = \"The plot subtitle:\\nPoints are colored by the type of drive train\"\n",
    "       caption = \"The plot caption:\\nmpg dataset\"\n",
    "       theme {\n",
    "           plotCanvas {\n",
    "               subtitle {\n",
    "                   color = Color.named(\"gray\")\n",
    "               }\n",
    "               caption {\n",
    "                   color = Color.named(\"light_gray\")\n",
    "               }\n",
    "           }\n",
    "       }\n",
    "   }\n",
    "}"
   ]
  },
  {
   "cell_type": "code",
   "execution_count": null,
   "metadata": {},
   "outputs": [],
   "source": [
    "mpg_df.plot {\n",
    "    points {\n",
    "        x(displ)\n",
    "        y(hwy)\n",
    "        color(cty) { legend.name = \"City mileage\" }\n",
    "        symbol(drv) { legend.name = \"Drive type\" }\n",
    "        size = 4.0\n",
    "    }\n",
    "}"
   ]
  },
  {
   "cell_type": "code",
   "execution_count": null,
   "metadata": {},
   "outputs": [],
   "source": [
    "mpg_df.plot {\n",
    "    points {\n",
    "        x(displ)\n",
    "        y(hwy)\n",
    "        color(cty) { legend.name = \"City mileage\" }\n",
    "        symbol(drv) { legend.name = \"Drive type\" }\n",
    "        size = 4.0\n",
    "    }\n",
    "    layout.theme { \n",
    "        legend.position = LegendPosition.Bottom\n",
    "    }\n",
    "}"
   ]
  },
  {
   "cell_type": "code",
   "execution_count": null,
   "metadata": {},
   "outputs": [],
   "source": [
    "mpg_df.plot {\n",
    "    points {\n",
    "        x(displ)\n",
    "        y(hwy)\n",
    "        color(cty) { legend.name = \"City mileage\\n(mpg)\" }\n",
    "        symbol(drv) { legend.name = \"Drive type\\n(front/4/rear wheel)\" }\n",
    "        size = 4.0\n",
    "    }\n",
    "}"
   ]
  },
  {
   "cell_type": "code",
   "execution_count": null,
   "metadata": {},
   "outputs": [],
   "source": [
    "mpg_df.plot {\n",
    "    points {\n",
    "        x(displ)\n",
    "        y(hwy)\n",
    "        color(cty) { legend.name = \"City mileage\\n(mpg)\" }\n",
    "        symbol(drv) { legend.name = \"Drive type\\n(front/4/rear wheel)\" }\n",
    "        size = 4.0\n",
    "    }\n",
    "    layout.theme { \n",
    "        legend.position = LegendPosition.Bottom\n",
    "    }\n",
    "}"
   ]
  },
  {
   "cell_type": "code",
   "execution_count": null,
   "metadata": {},
   "outputs": [],
   "source": [
    "mpg_df.plot {\n",
    "    points {\n",
    "        x(displ)\n",
    "        y(hwy)\n",
    "        color(cty) { legend.name = \"City mileage\\n(mpg)\" }\n",
    "        symbol(drv) { legend {\n",
    "            type = LegendType.DiscreteLegend(nRow = 3)\n",
    "            name = \"Drive type\\n(front/4/rear wheel)\" \n",
    "        } }\n",
    "        size = 4.0\n",
    "    }\n",
    "    layout.theme { \n",
    "        legend.position = LegendPosition.Bottom\n",
    "    }\n",
    "}"
   ]
  }
 ],
 "metadata": {
  "kernelspec": {
   "display_name": "Kotlin",
   "language": "kotlin",
   "name": "kotlin"
  },
  "language_info": {
   "codemirror_mode": "text/x-kotlin",
   "file_extension": ".kt",
   "mimetype": "text/x-kotlin",
   "name": "kotlin",
   "nbconvert_exporter": "",
   "pygments_lexer": "kotlin",
   "version": "1.8.20-Beta"
  }
 },
 "nbformat": 4,
 "nbformat_minor": 4
}
