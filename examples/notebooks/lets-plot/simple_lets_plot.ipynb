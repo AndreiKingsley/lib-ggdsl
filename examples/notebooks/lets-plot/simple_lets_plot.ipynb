{
 "cells": [
  {
   "cell_type": "code",
   "execution_count": null,
   "id": "13e9db2e",
   "metadata": {},
   "outputs": [],
   "source": [
    "%useLatestDescriptors\n",
    "%use kandy"
   ]
  },
  {
   "cell_type": "code",
   "execution_count": null,
   "id": "90760de9",
   "metadata": {},
   "outputs": [],
   "source": [
    "val simpleDataset = mapOf(\n",
    "    \"time\" to listOf(0, 1, 2, 4, 5, 7, 8, 9),\n",
    "    \"temperature\" to listOf(12.0, 14.2, 15.1, 15.9, 17.9, 15.6, 14.2, 24.3),\n",
    "    \"humidity\" to listOf(0.5, 0.32, 0.11, 0.89, 0.68, 0.57, 0.56, 0.5)\n",
    ")"
   ]
  },
  {
   "cell_type": "code",
   "execution_count": null,
   "id": "4caa8a34",
   "metadata": {},
   "outputs": [],
   "source": [
    "plot(simpleDataset) {\n",
    "    x(\"time\"<Int>())\n",
    "\n",
    "    y(\"temperature\"<Double>()) {\n",
    "        scale = continuous(0.0..25.5)\n",
    "    }\n",
    "\n",
    "    bars {\n",
    "        fillColor(\"humidity\"<Double>()) {\n",
    "            scale = continuous(range = Color.YELLOW..Color.RED)\n",
    "        }\n",
    "        borderLine.width = 0.0\n",
    "    }\n",
    "\n",
    "    line {\n",
    "        width = 3.0\n",
    "        color = Color.hex(\"#6e5596\")\n",
    "        type = LineType.DOTDASH\n",
    "    }\n",
    "\n",
    "    layout {\n",
    "        title = \"Simple plot with lets-plot\"\n",
    "        caption = \"See `examples` section for more\\n complicated and interesting examples!\"\n",
    "    }\n",
    "\n",
    "}"
   ]
  }
 ],
 "metadata": {
  "kernelspec": {
   "display_name": "Kotlin",
   "language": "kotlin",
   "name": "kotlin"
  },
  "language_info": {
   "codemirror_mode": "text/x-kotlin",
   "file_extension": ".kt",
   "mimetype": "text/x-kotlin",
   "name": "kotlin",
   "nbconvert_exporter": "",
   "pygments_lexer": "kotlin",
   "version": "1.8.20-Beta"
  }
 },
 "nbformat": 4,
 "nbformat_minor": 5
}
