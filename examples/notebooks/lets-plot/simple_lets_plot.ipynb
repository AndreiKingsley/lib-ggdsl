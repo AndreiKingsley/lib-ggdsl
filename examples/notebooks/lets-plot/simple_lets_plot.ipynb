{
 "cells": [
  {
   "cell_type": "code",
   "execution_count": 2,
   "id": "13e9db2e",
   "metadata": {},
   "outputs": [
    {
     "data": {
      "text/html": [
       "   <div id=\"DwDu9c\"></div>\n",
       "   <script type=\"text/javascript\" data-lets-plot-script=\"library\">\n",
       "       if(!window.letsPlotCallQueue) {\n",
       "           window.letsPlotCallQueue = [];\n",
       "       }; \n",
       "       window.letsPlotCall = function(f) {\n",
       "           window.letsPlotCallQueue.push(f);\n",
       "       };\n",
       "       (function() {\n",
       "           var script = document.createElement(\"script\");\n",
       "           script.type = \"text/javascript\";\n",
       "           script.src = \"https://cdn.jsdelivr.net/gh/JetBrains/lets-plot@v3.1.0/js-package/distr/lets-plot.min.js\";\n",
       "           script.onload = function() {\n",
       "               window.letsPlotCall = function(f) {f();};\n",
       "               window.letsPlotCallQueue.forEach(function(f) {f();});\n",
       "               window.letsPlotCallQueue = [];\n",
       "               \n",
       "               \n",
       "           };\n",
       "           script.onerror = function(event) {\n",
       "               window.letsPlotCall = function(f) {};\n",
       "               window.letsPlotCallQueue = [];\n",
       "               var div = document.createElement(\"div\");\n",
       "               div.style.color = 'darkred';\n",
       "               div.textContent = 'Error loading Lets-Plot JS';\n",
       "               document.getElementById(\"DwDu9c\").appendChild(div);\n",
       "           };\n",
       "           var e = document.getElementById(\"DwDu9c\");\n",
       "           e.appendChild(script);\n",
       "       })();\n",
       "   </script>"
      ]
     },
     "metadata": {},
     "output_type": "display_data"
    }
   ],
   "source": [
    "%useLatestDescriptors\n",
    "%use ggdsl"
   ]
  },
  {
   "cell_type": "code",
   "execution_count": 3,
   "id": "90760de9",
   "metadata": {},
   "outputs": [],
   "source": [
    "val simpleDataset = mapOf(\n",
    "    \"time\" to listOf(0, 1, 2, 4, 5, 7, 8, 9),\n",
    "    \"temperature\" to listOf(12.0, 14.2, 15.1, 15.9, 17.9, 15.6, 14.2, 24.3),\n",
    "    \"humidity\" to listOf(0.5, 0.32, 0.11, 0.89, 0.68, 0.57, 0.56, 0.5)\n",
    ")"
   ]
  },
  {
   "cell_type": "code",
   "execution_count": 4,
   "id": "4caa8a34",
   "metadata": {},
   "outputs": [
    {
     "data": {
      "application/plot+json": {
       "apply_color_scheme": true,
       "output": {
        "caption": {
         "text": "See `examples` section for more\n complicated and interesting examples!"
        },
        "data": {
         "humidity": [
          0.5,
          0.32,
          0.11,
          0.89,
          0.68,
          0.57,
          0.56,
          0.5
         ],
         "temperature": [
          12,
          14.2,
          15.1,
          15.9,
          17.9,
          15.6,
          14.2,
          24.3
         ],
         "time": [
          0,
          1,
          2,
          4,
          5,
          7,
          8,
          9
         ]
        },
        "ggtitle": {
         "text": "Simple plot with lets-plot"
        },
        "kind": "plot",
        "layers": [
         {
          "geom": "bar",
          "mapping": {
           "fill": "humidity",
           "x": "time",
           "y": "temperature"
          },
          "position": "identity",
          "sampling": "none",
          "size": 0,
          "stat": "identity"
         },
         {
          "color": "#6e5596",
          "geom": "line",
          "linetype": "dotdash",
          "mapping": {
           "x": "time",
           "y": "temperature"
          },
          "position": "identity",
          "sampling": "none",
          "size": 3,
          "stat": "identity"
         }
        ],
        "mapping": {},
        "scales": [
         {
          "aesthetic": "x",
          "limits": [
           null,
           null
          ]
         },
         {
          "aesthetic": "y",
          "limits": [
           0,
           25.5
          ]
         },
         {
          "aesthetic": "fill",
          "high": "#ee6666",
          "limits": [
           null,
           null
          ],
          "low": "#fac858",
          "scale_mapper_kind": "color_gradient"
         },
         {
          "aesthetic": "x",
          "limits": [
           null,
           null
          ]
         },
         {
          "aesthetic": "y",
          "limits": [
           0,
           25.5
          ]
         }
        ]
       },
       "output_type": "lets_plot_spec",
       "swing_enabled": true
      },
      "text/html": [
       "   <div id=\"Qx4dmo\"></div>\n",
       "   <script type=\"text/javascript\" data-lets-plot-script=\"plot\">\n",
       "       (function() {\n",
       "           var plotSpec={\n",
       "\"ggtitle\":{\n",
       "\"text\":\"Simple plot with lets-plot\"\n",
       "},\n",
       "\"mapping\":{\n",
       "},\n",
       "\"data\":{\n",
       "\"temperature\":[12.0,14.2,15.1,15.9,17.9,15.6,14.2,24.3],\n",
       "\"humidity\":[0.5,0.32,0.11,0.89,0.68,0.57,0.56,0.5],\n",
       "\"time\":[0.0,1.0,2.0,4.0,5.0,7.0,8.0,9.0]\n",
       "},\n",
       "\"kind\":\"plot\",\n",
       "\"scales\":[{\n",
       "\"aesthetic\":\"x\",\n",
       "\"limits\":[null,null]\n",
       "},{\n",
       "\"aesthetic\":\"y\",\n",
       "\"limits\":[0.0,25.5]\n",
       "},{\n",
       "\"aesthetic\":\"fill\",\n",
       "\"scale_mapper_kind\":\"color_gradient\",\n",
       "\"high\":\"#ee6666\",\n",
       "\"low\":\"#fac858\",\n",
       "\"limits\":[null,null]\n",
       "},{\n",
       "\"aesthetic\":\"x\",\n",
       "\"limits\":[null,null]\n",
       "},{\n",
       "\"aesthetic\":\"y\",\n",
       "\"limits\":[0.0,25.5]\n",
       "}],\n",
       "\"layers\":[{\n",
       "\"mapping\":{\n",
       "\"x\":\"time\",\n",
       "\"y\":\"temperature\",\n",
       "\"fill\":\"humidity\"\n",
       "},\n",
       "\"stat\":\"identity\",\n",
       "\"size\":0.0,\n",
       "\"sampling\":\"none\",\n",
       "\"position\":\"identity\",\n",
       "\"geom\":\"bar\",\n",
       "\"data\":{\n",
       "}\n",
       "},{\n",
       "\"mapping\":{\n",
       "\"x\":\"time\",\n",
       "\"y\":\"temperature\"\n",
       "},\n",
       "\"stat\":\"identity\",\n",
       "\"size\":3.0,\n",
       "\"color\":\"#6e5596\",\n",
       "\"linetype\":\"dotdash\",\n",
       "\"sampling\":\"none\",\n",
       "\"position\":\"identity\",\n",
       "\"geom\":\"line\",\n",
       "\"data\":{\n",
       "}\n",
       "}],\n",
       "\"caption\":{\n",
       "\"text\":\"See `examples` section for more\\n complicated and interesting examples!\"\n",
       "}\n",
       "};\n",
       "           var plotContainer = document.getElementById(\"Qx4dmo\");\n",
       "           window.letsPlotCall(function() {{\n",
       "               LetsPlot.buildPlotFromProcessedSpecs(plotSpec, -1, -1, plotContainer);\n",
       "           }});\n",
       "       })();    \n",
       "   </script>"
      ]
     },
     "execution_count": 4,
     "metadata": {},
     "output_type": "execute_result"
    }
   ],
   "source": [
    "plot(simpleDataset) {\n",
    "    x(\"time\"<Int>())\n",
    "\n",
    "    y(\"temperature\"<Double>()) {\n",
    "        scale = continuous(0.0..25.5)\n",
    "    }\n",
    "\n",
    "    bars {\n",
    "        fillColor(\"humidity\"<Double>()) {\n",
    "            scale = continuous(range = Color.YELLOW..Color.RED)\n",
    "        }\n",
    "        borderLine.width = 0.0\n",
    "    }\n",
    "\n",
    "    line {\n",
    "        width = 3.0\n",
    "        color = Color.hex(\"#6e5596\")\n",
    "        type = LineType.DOTDASH\n",
    "    }\n",
    "\n",
    "    layout {\n",
    "        title = \"Simple plot with lets-plot\"\n",
    "        caption = \"See `examples` section for more\\n complicated and interesting examples!\"\n",
    "    }\n",
    "\n",
    "}"
   ]
  }
 ],
 "metadata": {
  "kernelspec": {
   "display_name": "Kotlin",
   "language": "kotlin",
   "name": "kotlin"
  },
  "language_info": {
   "codemirror_mode": "text/x-kotlin",
   "file_extension": ".kt",
   "mimetype": "text/x-kotlin",
   "name": "kotlin",
   "nbconvert_exporter": "",
   "pygments_lexer": "kotlin",
   "version": "1.8.20-Beta"
  }
 },
 "nbformat": 4,
 "nbformat_minor": 5
}
