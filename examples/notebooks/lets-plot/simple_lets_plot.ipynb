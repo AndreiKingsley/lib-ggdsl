{
 "cells": [
  {
   "cell_type": "code",
   "execution_count": 1,
   "id": "13e9db2e",
   "metadata": {
    "ExecuteTime": {
     "end_time": "2023-06-02T10:12:58.656661Z",
     "start_time": "2023-06-02T10:12:47.107070Z"
    }
   },
   "outputs": [
    {
     "data": {
      "text/plain": ""
     },
     "metadata": {},
     "output_type": "display_data"
    },
    {
     "data": {
      "text/html": "            <div id=\"kotlin_out_0\"/>\n            <script type=\"text/javascript\">\n                            if(!window.kotlinQueues) {\n                window.kotlinQueues = {};\n            }\n            if(!window.kotlinQueues[\"kandyLetsPlot\"]) {\n                var resQueue = [];\n                window.kotlinQueues[\"kandyLetsPlot\"] = resQueue;\n                window[\"call_kandyLetsPlot\"] = function(f) {\n                    resQueue.push(f);\n                }\n            }\n            (function (){\n                var modifiers = [(function(script) {\n    script.src = \"https://cdn.jsdelivr.net/gh/JetBrains/lets-plot@v3.1.0/js-package/distr/lets-plot.min.js\"\n    script.type = \"text/javascript\";\n})];\n                var e = document.getElementById(\"kotlin_out_0\");\n                modifiers.forEach(function (gen) {\n                    var script = document.createElement(\"script\");\n                    gen(script)\n                    script.addEventListener(\"load\", function() {\n                        window[\"call_kandyLetsPlot\"] = function(f) {f();};\n                        window.kotlinQueues[\"kandyLetsPlot\"].forEach(function(f) {f();});\n                        window.kotlinQueues[\"kandyLetsPlot\"] = [];\n                    }, false);\n                    script.addEventListener(\"error\", function() {\n                        window[\"call_kandyLetsPlot\"] = function(f) {};\n                        window.kotlinQueues[\"kandyLetsPlot\"] = [];\n                        var div = document.createElement(\"div\");\n                        div.style.color = 'darkred';\n                        div.textContent = 'Error loading resource kandyLetsPlot';\n                        document.getElementById(\"kotlin_out_0\").appendChild(div);\n                    }, false);\n                    \n                    e.appendChild(script);\n                });\n            })();\n            </script>"
     },
     "metadata": {},
     "output_type": "display_data"
    }
   ],
   "source": [
    "%use kandy(0.4.3)"
   ]
  },
  {
   "cell_type": "code",
   "execution_count": 2,
   "id": "90760de9",
   "metadata": {
    "ExecuteTime": {
     "end_time": "2023-06-02T10:12:59.034758Z",
     "start_time": "2023-06-02T10:12:58.658330Z"
    }
   },
   "outputs": [],
   "source": [
    "val simpleDataset = mapOf(\n",
    "    \"time\" to listOf(0, 1, 2, 4, 5, 7, 8, 9),\n",
    "    \"temperature\" to listOf(12.0, 14.2, 15.1, 15.9, 17.9, 15.6, 14.2, 24.3),\n",
    "    \"humidity\" to listOf(0.5, 0.32, 0.11, 0.89, 0.68, 0.57, 0.56, 0.5)\n",
    ")"
   ]
  },
  {
   "cell_type": "code",
   "execution_count": 3,
   "id": "4caa8a34",
   "metadata": {
    "ExecuteTime": {
     "end_time": "2023-06-02T10:13:00.118604Z",
     "start_time": "2023-06-02T10:12:59.037083Z"
    }
   },
   "outputs": [
    {
     "data": {
      "text/html": "            <script type=\"text/javascript\" data-lets-plot-script=\"library\" src=\"https://cdn.jsdelivr.net/gh/JetBrains/lets-plot@v3.1.0/js-package/distr/lets-plot.min.js\"></script>    \n               <div id=\"t8H7zX\"></div>\n   <script type=\"text/javascript\" data-lets-plot-script=\"plot\">\n       var plotSpec={\n\"ggtitle\":{\n\"text\":\"Simple plot with lets-plot\"\n},\n\"mapping\":{\n},\n\"data\":{\n\"temperature\":[12.0,14.2,15.1,15.9,17.9,15.6,14.2,24.3],\n\"humidity\":[0.5,0.32,0.11,0.89,0.68,0.57,0.56,0.5],\n\"time\":[0.0,1.0,2.0,4.0,5.0,7.0,8.0,9.0]\n},\n\"kind\":\"plot\",\n\"scales\":[{\n\"aesthetic\":\"x\",\n\"limits\":[null,null]\n},{\n\"aesthetic\":\"y\",\n\"limits\":[0.0,25.5]\n},{\n\"aesthetic\":\"fill\",\n\"scale_mapper_kind\":\"color_gradient\",\n\"high\":\"#ee6666\",\n\"low\":\"#fac858\",\n\"limits\":[null,null]\n},{\n\"aesthetic\":\"x\",\n\"limits\":[null,null]\n},{\n\"aesthetic\":\"y\",\n\"limits\":[0.0,25.5]\n}],\n\"layers\":[{\n\"mapping\":{\n\"x\":\"time\",\n\"y\":\"temperature\",\n\"fill\":\"humidity\"\n},\n\"stat\":\"identity\",\n\"size\":0.0,\n\"sampling\":\"none\",\n\"position\":\"dodge\",\n\"geom\":\"bar\",\n\"data\":{\n}\n},{\n\"mapping\":{\n\"x\":\"time\",\n\"y\":\"temperature\"\n},\n\"stat\":\"identity\",\n\"size\":3.0,\n\"color\":\"#6e5596\",\n\"linetype\":\"dotdash\",\n\"sampling\":\"none\",\n\"position\":\"identity\",\n\"geom\":\"line\",\n\"data\":{\n}\n}],\n\"caption\":{\n\"text\":\"See `examples` section for more\\n complicated and interesting examples!\"\n}\n};\n       var plotContainer = document.getElementById(\"t8H7zX\");\n       LetsPlot.buildPlotFromProcessedSpecs(plotSpec, -1, -1, plotContainer);\n   </script>            \n        <svg id=7a88b1f4-3fa8-4d75-a94a-99faca74ccf9 xmlns=\"http://www.w3.org/2000/svg\" xmlns:xlink=\"http://www.w3.org/1999/xlink\" class=\"plt-container\" width=\"600.0\" height=\"400.0\">\n  <style type=\"text/css\">\n  .plt-container {\n   font-family: Lucida Grande, sans-serif;\n   user-select: none;\n   -webkit-user-select: none;\n   -moz-user-select: none;\n   -ms-user-select: none;\n}\ntext {\n   text-rendering: optimizeLegibility;\n}\n#pz2JAUT .plot-title {\n   fill: #474747;\n   font-family: Lucida Grande, sans-serif;\n   font-size: 16.0px;\n   font-weight: normal;\n   font-style: normal;   \n}\n#pz2JAUT .plot-subtitle {\n   fill: #474747;\n   font-family: Lucida Grande, sans-serif;\n   font-size: 15.0px;\n   font-weight: normal;\n   font-style: normal;   \n}\n#pz2JAUT .plot-caption {\n   fill: #474747;\n   font-family: Lucida Grande, sans-serif;\n   font-size: 13.0px;\n   font-weight: normal;\n   font-style: normal;   \n}\n#pz2JAUT .legend-title {\n   fill: #474747;\n   font-family: Lucida Grande, sans-serif;\n   font-size: 15.0px;\n   font-weight: normal;\n   font-style: normal;   \n}\n#pz2JAUT .legend-item {\n   fill: #474747;\n   font-family: Lucida Grande, sans-serif;\n   font-size: 13.0px;\n   font-weight: normal;\n   font-style: normal;   \n}\n#pz2JAUT .axis-title-x {\n   fill: #474747;\n   font-family: Lucida Grande, sans-serif;\n   font-size: 15.0px;\n   font-weight: normal;\n   font-style: normal;   \n}\n#pz2JAUT .axis-text-x {\n   fill: #474747;\n   font-family: Lucida Grande, sans-serif;\n   font-size: 13.0px;\n   font-weight: normal;\n   font-style: normal;   \n}\n#dTmNDnI .axis-tooltip-text-x {\n   fill: #ffffff;\n   font-family: Lucida Grande, sans-serif;\n   font-size: 13.0px;\n   font-weight: normal;\n   font-style: normal;   \n}\n#pz2JAUT .axis-title-y {\n   fill: #474747;\n   font-family: Lucida Grande, sans-serif;\n   font-size: 15.0px;\n   font-weight: normal;\n   font-style: normal;   \n}\n#pz2JAUT .axis-text-y {\n   fill: #474747;\n   font-family: Lucida Grande, sans-serif;\n   font-size: 13.0px;\n   font-weight: normal;\n   font-style: normal;   \n}\n#dTmNDnI .axis-tooltip-text-y {\n   fill: #ffffff;\n   font-family: Lucida Grande, sans-serif;\n   font-size: 13.0px;\n   font-weight: normal;\n   font-style: normal;   \n}\n#pz2JAUT .facet-strip-text-x {\n   fill: #474747;\n   font-family: Lucida Grande, sans-serif;\n   font-size: 13.0px;\n   font-weight: normal;\n   font-style: normal;   \n}\n#pz2JAUT .facet-strip-text-y {\n   fill: #474747;\n   font-family: Lucida Grande, sans-serif;\n   font-size: 13.0px;\n   font-weight: normal;\n   font-style: normal;   \n}\n#dTmNDnI .tooltip-text {\n   fill: #474747;\n   font-family: Lucida Grande, sans-serif;\n   font-size: 13.0px;\n   font-weight: normal;\n   font-style: normal;   \n}\n#dTmNDnI .tooltip-title {\n   fill: #474747;\n   font-family: Lucida Grande, sans-serif;\n   font-size: 13.0px;\n   font-weight: bold;\n   font-style: normal;   \n}\n#dTmNDnI .tooltip-label {\n   fill: #474747;\n   font-family: Lucida Grande, sans-serif;\n   font-size: 13.0px;\n   font-weight: bold;\n   font-style: normal;   \n}\n\n  </style>\n  <g id=\"pz2JAUT\">\n    <rect x=\"0.0\" y=\"0.0\" height=\"400.0\" width=\"600.0\" stroke=\"rgb(71,71,71)\" stroke-opacity=\"1.0\" stroke-width=\"0.0\" fill=\"rgb(255,255,255)\" fill-opacity=\"1.0\">\n    </rect>\n    <g transform=\"translate(23.0 34.0 ) \">\n      <g transform=\"translate(21.961210910936405 286.0 ) \">\n        <line x1=\"39.70294093126609\" y1=\"-0.0\" x2=\"39.70294093126609\" y2=\"-286.0\" stroke=\"rgb(233,233,233)\" stroke-opacity=\"1.0\" stroke-width=\"1.0\">\n        </line>\n        <line x1=\"123.73032914558587\" y1=\"-0.0\" x2=\"123.73032914558587\" y2=\"-286.0\" stroke=\"rgb(233,233,233)\" stroke-opacity=\"1.0\" stroke-width=\"1.0\">\n        </line>\n        <line x1=\"207.75771735990563\" y1=\"-0.0\" x2=\"207.75771735990563\" y2=\"-286.0\" stroke=\"rgb(233,233,233)\" stroke-opacity=\"1.0\" stroke-width=\"1.0\">\n        </line>\n        <line x1=\"291.7851055742254\" y1=\"-0.0\" x2=\"291.7851055742254\" y2=\"-286.0\" stroke=\"rgb(233,233,233)\" stroke-opacity=\"1.0\" stroke-width=\"1.0\">\n        </line>\n        <line x1=\"375.81249378854517\" y1=\"-0.0\" x2=\"375.81249378854517\" y2=\"-286.0\" stroke=\"rgb(233,233,233)\" stroke-opacity=\"1.0\" stroke-width=\"1.0\">\n        </line>\n        <g transform=\"translate(39.70294093126609 0.0 ) \">\n          <line stroke-width=\"1.0\" stroke=\"rgb(71,71,71)\" stroke-opacity=\"1.0\" x2=\"0.0\" y2=\"4.0\">\n          </line>\n          <g transform=\"translate(0.0 7.0 ) \">\n            <text class=\"axis-text-x\" text-anchor=\"middle\" dy=\"0.7em\">\n            0\n            </text>\n          </g>\n        </g>\n        <g transform=\"translate(123.73032914558587 0.0 ) \">\n          <line stroke-width=\"1.0\" stroke=\"rgb(71,71,71)\" stroke-opacity=\"1.0\" x2=\"0.0\" y2=\"4.0\">\n          </line>\n          <g transform=\"translate(0.0 7.0 ) \">\n            <text class=\"axis-text-x\" text-anchor=\"middle\" dy=\"0.7em\">\n            2\n            </text>\n          </g>\n        </g>\n        <g transform=\"translate(207.75771735990563 0.0 ) \">\n          <line stroke-width=\"1.0\" stroke=\"rgb(71,71,71)\" stroke-opacity=\"1.0\" x2=\"0.0\" y2=\"4.0\">\n          </line>\n          <g transform=\"translate(0.0 7.0 ) \">\n            <text class=\"axis-text-x\" text-anchor=\"middle\" dy=\"0.7em\">\n            4\n            </text>\n          </g>\n        </g>\n        <g transform=\"translate(291.7851055742254 0.0 ) \">\n          <line stroke-width=\"1.0\" stroke=\"rgb(71,71,71)\" stroke-opacity=\"1.0\" x2=\"0.0\" y2=\"4.0\">\n          </line>\n          <g transform=\"translate(0.0 7.0 ) \">\n            <text class=\"axis-text-x\" text-anchor=\"middle\" dy=\"0.7em\">\n            6\n            </text>\n          </g>\n        </g>\n        <g transform=\"translate(375.81249378854517 0.0 ) \">\n          <line stroke-width=\"1.0\" stroke=\"rgb(71,71,71)\" stroke-opacity=\"1.0\" x2=\"0.0\" y2=\"4.0\">\n          </line>\n          <g transform=\"translate(0.0 7.0 ) \">\n            <text class=\"axis-text-x\" text-anchor=\"middle\" dy=\"0.7em\">\n            8\n            </text>\n          </g>\n        </g>\n        <line x1=\"0.0\" y1=\"0.0\" x2=\"457.5291288269711\" y2=\"0.0\" stroke-width=\"1.0\" stroke=\"rgb(71,71,71)\" stroke-opacity=\"1.0\">\n        </line>\n      </g>\n      <g transform=\"translate(21.961210910936405 0.0 ) \">\n        <line x1=\"0.0\" y1=\"232.59197012138188\" x2=\"457.5291288269711\" y2=\"232.59197012138188\" stroke=\"rgb(233,233,233)\" stroke-opacity=\"1.0\" stroke-width=\"1.0\">\n        </line>\n        <line x1=\"0.0\" y1=\"179.18394024276375\" x2=\"457.5291288269711\" y2=\"179.18394024276375\" stroke=\"rgb(233,233,233)\" stroke-opacity=\"1.0\" stroke-width=\"1.0\">\n        </line>\n        <line x1=\"0.0\" y1=\"125.77591036414563\" x2=\"457.5291288269711\" y2=\"125.77591036414563\" stroke=\"rgb(233,233,233)\" stroke-opacity=\"1.0\" stroke-width=\"1.0\">\n        </line>\n        <line x1=\"0.0\" y1=\"72.36788048552751\" x2=\"457.5291288269711\" y2=\"72.36788048552751\" stroke=\"rgb(233,233,233)\" stroke-opacity=\"1.0\" stroke-width=\"1.0\">\n        </line>\n        <line x1=\"0.0\" y1=\"18.959850606909413\" x2=\"457.5291288269711\" y2=\"18.959850606909413\" stroke=\"rgb(233,233,233)\" stroke-opacity=\"1.0\" stroke-width=\"1.0\">\n        </line>\n        <g transform=\"translate(0.0 286.0 ) \">\n          <g transform=\"translate(-3.0 0.0 ) \">\n            <text class=\"axis-text-y\" text-anchor=\"end\" dy=\"0.35em\">\n            0\n            </text>\n          </g>\n        </g>\n        <g transform=\"translate(0.0 232.59197012138188 ) \">\n          <g transform=\"translate(-3.0 0.0 ) \">\n            <text class=\"axis-text-y\" text-anchor=\"end\" dy=\"0.35em\">\n            5\n            </text>\n          </g>\n        </g>\n        <g transform=\"translate(0.0 179.18394024276375 ) \">\n          <g transform=\"translate(-3.0 0.0 ) \">\n            <text class=\"axis-text-y\" text-anchor=\"end\" dy=\"0.35em\">\n            10\n            </text>\n          </g>\n        </g>\n        <g transform=\"translate(0.0 125.77591036414563 ) \">\n          <g transform=\"translate(-3.0 0.0 ) \">\n            <text class=\"axis-text-y\" text-anchor=\"end\" dy=\"0.35em\">\n            15\n            </text>\n          </g>\n        </g>\n        <g transform=\"translate(0.0 72.36788048552751 ) \">\n          <g transform=\"translate(-3.0 0.0 ) \">\n            <text class=\"axis-text-y\" text-anchor=\"end\" dy=\"0.35em\">\n            20\n            </text>\n          </g>\n        </g>\n        <g transform=\"translate(0.0 18.959850606909413 ) \">\n          <g transform=\"translate(-3.0 0.0 ) \">\n            <text class=\"axis-text-y\" text-anchor=\"end\" dy=\"0.35em\">\n            25\n            </text>\n          </g>\n        </g>\n      </g>\n      <g transform=\"translate(21.961210910936405 0.0 ) \" clip-path=\"url(#cno4Fyh)\" clip-bounds-jfx=\"[rect (0.0, 0.0), (457.5291288269711, 286.0)]\">\n        <defs>\n          <clipPath id=\"cno4Fyh\">\n            <rect x=\"0.0\" y=\"0.0\" width=\"457.5291288269711\" height=\"286.0\">\n            </rect>\n          </clipPath>\n        </defs>\n        <rect x=\"398.92002554748314\" y=\"26.43697478991595\" height=\"259.56302521008405\" width=\"37.81232469644391\" stroke=\"rgb(0,0,0)\" stroke-opacity=\"0.0\" fill=\"rgb(244,146,95)\" fill-opacity=\"1.0\" stroke-width=\"0.0\">\n        </rect>\n        <rect x=\"356.9063314403232\" y=\"134.32119514472456\" height=\"151.67880485527544\" width=\"37.81232469644391\" stroke=\"rgb(0,0,0)\" stroke-opacity=\"0.0\" fill=\"rgb(243,139,96)\" fill-opacity=\"1.0\" stroke-width=\"0.0\">\n        </rect>\n        <rect x=\"314.89263733316335\" y=\"119.36694677871148\" height=\"166.63305322128852\" width=\"37.81232469644391\" stroke=\"rgb(0,0,0)\" stroke-opacity=\"0.0\" fill=\"rgb(242,138,96)\" fill-opacity=\"1.0\" stroke-width=\"0.0\">\n        </rect>\n        <rect x=\"230.86524911884356\" y=\"94.79925303454715\" height=\"191.20074696545285\" width=\"37.81232469644391\" stroke=\"rgb(0,0,0)\" stroke-opacity=\"0.0\" fill=\"rgb(241,125,98)\" fill-opacity=\"1.0\" stroke-width=\"0.0\">\n        </rect>\n        <rect x=\"188.85155501168367\" y=\"116.16246498599438\" height=\"169.83753501400562\" width=\"37.81232469644391\" stroke=\"rgb(0,0,0)\" stroke-opacity=\"0.0\" fill=\"rgb(237,102,102)\" fill-opacity=\"1.0\" stroke-width=\"0.0\">\n        </rect>\n        <rect x=\"104.82416679736392\" y=\"124.70774976657327\" height=\"161.29225023342673\" width=\"37.81232469644391\" stroke=\"rgb(0,0,0)\" stroke-opacity=\"0.0\" fill=\"rgb(250,200,87)\" fill-opacity=\"1.0\" stroke-width=\"0.0\">\n        </rect>\n        <rect x=\"62.81047269020403\" y=\"134.32119514472456\" height=\"151.67880485527544\" width=\"37.8123246964439\" stroke=\"rgb(0,0,0)\" stroke-opacity=\"0.0\" fill=\"rgb(246,170,92)\" fill-opacity=\"1.0\" stroke-width=\"0.0\">\n        </rect>\n        <rect x=\"20.796778583044144\" y=\"157.82072829131653\" height=\"128.17927170868347\" width=\"37.812324696443895\" stroke=\"rgb(0,0,0)\" stroke-opacity=\"0.0\" fill=\"rgb(244,146,95)\" fill-opacity=\"1.0\" stroke-width=\"0.0\">\n        </rect>\n      </g>\n      <g transform=\"translate(21.961210910936405 0.0 ) \" clip-path=\"url(#cH1lFT6)\" clip-bounds-jfx=\"[rect (0.0, 0.0), (457.5291288269711, 286.0)]\">\n        <defs>\n          <clipPath id=\"cH1lFT6\">\n            <rect x=\"0.0\" y=\"0.0\" width=\"457.5291288269711\" height=\"286.0\">\n            </rect>\n          </clipPath>\n        </defs>\n        <g>\n          <path d=\"M39.70294093126609 157.82072829131653 L39.70294093126609 157.82072829131653 L81.71663503842598 134.32119514472456 L123.73032914558587 124.70774976657327 L207.75771735990563 116.16246498599438 L249.77141146706552 94.79925303454715 L333.7987996813853 119.36694677871148 L375.81249378854517 134.32119514472456 L417.82618789570506 26.43697478991595 \" fill=\"none\" stroke-width=\"6.0\" stroke=\"rgb(110,85,150)\" stroke-opacity=\"1.0\" stroke-dasharray=\"6.0,19.200000000000003,25.799999999999997,19.200000000000003\">\n          </path>\n        </g>\n      </g>\n    </g>\n    <g transform=\"translate(44.9612109109364 15.2 ) \">\n      <text class=\"plot-title\" y=\"0.0\">\n      Simple plot with lets-plot\n      </text>\n    </g>\n    <g transform=\"translate(14.5 177.0 ) rotate(-90.0 ) \">\n      <text class=\"axis-title-y\" y=\"0.0\" text-anchor=\"middle\">\n      temperature\n      </text>\n    </g>\n    <g transform=\"translate(273.72577532442193 357.5 ) \">\n      <text class=\"axis-title-x\" y=\"0.0\" text-anchor=\"middle\">\n      time\n      </text>\n    </g>\n    <g transform=\"translate(512.4903397379076 98.25 ) \">\n      <rect x=\"5.0\" y=\"5.0\" height=\"147.5\" width=\"77.5096602620925\" stroke=\"rgb(71,71,71)\" stroke-opacity=\"1.0\" stroke-width=\"0.0\" fill=\"rgb(255,255,255)\" fill-opacity=\"1.0\">\n      </rect>\n      <g transform=\"translate(10.0 10.0 ) \">\n        <g transform=\"translate(0.0 10.5 ) \">\n          <text class=\"legend-title\" y=\"0.0\">\n          humidity\n          </text>\n        </g>\n        <g transform=\"translate(0.0 22.5 ) \">\n          <g>\n            <rect x=\"0.0\" y=\"0.0\" height=\"115.0\" width=\"23.0\" stroke-width=\"0.0\" fill=\"rgb(237,104,102)\" fill-opacity=\"1.0\">\n            </rect>\n            <rect x=\"0.0\" y=\"7.55\" height=\"107.45\" width=\"23.0\" stroke-width=\"0.0\" fill=\"rgb(238,108,101)\" fill-opacity=\"1.0\">\n            </rect>\n            <rect x=\"0.0\" y=\"13.1\" height=\"101.9\" width=\"23.0\" stroke-width=\"0.0\" fill=\"rgb(239,112,100)\" fill-opacity=\"1.0\">\n            </rect>\n            <rect x=\"0.0\" y=\"18.65\" height=\"96.35\" width=\"23.0\" stroke-width=\"0.0\" fill=\"rgb(239,116,100)\" fill-opacity=\"1.0\">\n            </rect>\n            <rect x=\"0.0\" y=\"24.2\" height=\"90.8\" width=\"23.0\" stroke-width=\"0.0\" fill=\"rgb(240,121,99)\" fill-opacity=\"1.0\">\n            </rect>\n            <rect x=\"0.0\" y=\"29.75\" height=\"85.25\" width=\"23.0\" stroke-width=\"0.0\" fill=\"rgb(241,125,98)\" fill-opacity=\"1.0\">\n            </rect>\n            <rect x=\"0.0\" y=\"35.3\" height=\"79.7\" width=\"23.0\" stroke-width=\"0.0\" fill=\"rgb(241,130,97)\" fill-opacity=\"1.0\">\n            </rect>\n            <rect x=\"0.0\" y=\"40.849999999999994\" height=\"74.15\" width=\"23.0\" stroke-width=\"0.0\" fill=\"rgb(242,134,97)\" fill-opacity=\"1.0\">\n            </rect>\n            <rect x=\"0.0\" y=\"46.39999999999999\" height=\"68.60000000000001\" width=\"23.0\" stroke-width=\"0.0\" fill=\"rgb(243,139,96)\" fill-opacity=\"1.0\">\n            </rect>\n            <rect x=\"0.0\" y=\"51.94999999999999\" height=\"63.05000000000001\" width=\"23.0\" stroke-width=\"0.0\" fill=\"rgb(243,144,95)\" fill-opacity=\"1.0\">\n            </rect>\n            <rect x=\"0.0\" y=\"57.499999999999986\" height=\"57.500000000000014\" width=\"23.0\" stroke-width=\"0.0\" fill=\"rgb(244,149,95)\" fill-opacity=\"1.0\">\n            </rect>\n            <rect x=\"0.0\" y=\"63.04999999999998\" height=\"51.95000000000002\" width=\"23.0\" stroke-width=\"0.0\" fill=\"rgb(244,154,94)\" fill-opacity=\"1.0\">\n            </rect>\n            <rect x=\"0.0\" y=\"68.59999999999998\" height=\"46.40000000000002\" width=\"23.0\" stroke-width=\"0.0\" fill=\"rgb(245,159,93)\" fill-opacity=\"1.0\">\n            </rect>\n            <rect x=\"0.0\" y=\"74.14999999999998\" height=\"40.85000000000002\" width=\"23.0\" stroke-width=\"0.0\" fill=\"rgb(246,164,92)\" fill-opacity=\"1.0\">\n            </rect>\n            <rect x=\"0.0\" y=\"79.69999999999997\" height=\"35.300000000000026\" width=\"23.0\" stroke-width=\"0.0\" fill=\"rgb(246,169,92)\" fill-opacity=\"1.0\">\n            </rect>\n            <rect x=\"0.0\" y=\"85.24999999999997\" height=\"29.75000000000003\" width=\"23.0\" stroke-width=\"0.0\" fill=\"rgb(247,175,91)\" fill-opacity=\"1.0\">\n            </rect>\n            <rect x=\"0.0\" y=\"90.79999999999997\" height=\"24.20000000000003\" width=\"23.0\" stroke-width=\"0.0\" fill=\"rgb(248,180,90)\" fill-opacity=\"1.0\">\n            </rect>\n            <rect x=\"0.0\" y=\"96.34999999999997\" height=\"18.650000000000034\" width=\"23.0\" stroke-width=\"0.0\" fill=\"rgb(248,186,89)\" fill-opacity=\"1.0\">\n            </rect>\n            <rect x=\"0.0\" y=\"101.89999999999996\" height=\"13.100000000000037\" width=\"23.0\" stroke-width=\"0.0\" fill=\"rgb(249,191,89)\" fill-opacity=\"1.0\">\n            </rect>\n            <rect x=\"0.0\" y=\"107.44999999999996\" height=\"7.55000000000004\" width=\"23.0\" stroke-width=\"0.0\" fill=\"rgb(250,197,88)\" fill-opacity=\"1.0\">\n            </rect>\n            <line x1=\"0.0\" y1=\"100.19230769230771\" x2=\"4.6\" y2=\"100.19230769230771\" stroke-width=\"1.0\" stroke=\"rgb(255,255,255)\" stroke-opacity=\"1.0\">\n            </line>\n            <line x1=\"18.4\" y1=\"100.19230769230771\" x2=\"23.0\" y2=\"100.19230769230771\" stroke-width=\"1.0\" stroke=\"rgb(255,255,255)\" stroke-opacity=\"1.0\">\n            </line>\n            <g transform=\"translate(26.9903027277341 104.7423076923077 ) \">\n              <text class=\"legend-item\" y=\"0.0\">\n              0.2\n              </text>\n            </g>\n            <line x1=\"0.0\" y1=\"71.73076923076924\" x2=\"4.6\" y2=\"71.73076923076924\" stroke-width=\"1.0\" stroke=\"rgb(255,255,255)\" stroke-opacity=\"1.0\">\n            </line>\n            <line x1=\"18.4\" y1=\"71.73076923076924\" x2=\"23.0\" y2=\"71.73076923076924\" stroke-width=\"1.0\" stroke=\"rgb(255,255,255)\" stroke-opacity=\"1.0\">\n            </line>\n            <g transform=\"translate(26.9903027277341 76.28076923076924 ) \">\n              <text class=\"legend-item\" y=\"0.0\">\n              0.4\n              </text>\n            </g>\n            <line x1=\"0.0\" y1=\"43.269230769230774\" x2=\"4.6\" y2=\"43.269230769230774\" stroke-width=\"1.0\" stroke=\"rgb(255,255,255)\" stroke-opacity=\"1.0\">\n            </line>\n            <line x1=\"18.4\" y1=\"43.269230769230774\" x2=\"23.0\" y2=\"43.269230769230774\" stroke-width=\"1.0\" stroke=\"rgb(255,255,255)\" stroke-opacity=\"1.0\">\n            </line>\n            <g transform=\"translate(26.9903027277341 47.81923076923077 ) \">\n              <text class=\"legend-item\" y=\"0.0\">\n              0.6\n              </text>\n            </g>\n            <line x1=\"0.0\" y1=\"14.80769230769232\" x2=\"4.6\" y2=\"14.80769230769232\" stroke-width=\"1.0\" stroke=\"rgb(255,255,255)\" stroke-opacity=\"1.0\">\n            </line>\n            <line x1=\"18.4\" y1=\"14.80769230769232\" x2=\"23.0\" y2=\"14.80769230769232\" stroke-width=\"1.0\" stroke=\"rgb(255,255,255)\" stroke-opacity=\"1.0\">\n            </line>\n            <g transform=\"translate(26.9903027277341 19.357692307692318 ) \">\n              <text class=\"legend-item\" y=\"0.0\">\n              0.8\n              </text>\n            </g>\n          </g>\n        </g>\n      </g>\n    </g>\n    <g transform=\"translate(502.4903397379075 379.1 ) \">\n      <text class=\"plot-caption\" y=\"0.0\" text-anchor=\"end\">\n      See `examples` section for more\n      </text>\n      <text class=\"plot-caption\" y=\"13.0\" text-anchor=\"end\">\n      complicated and interesting examples!\n      </text>\n    </g>\n  </g>\n  <g id=\"dTmNDnI\">\n  </g>\n</svg>\n        <script>document.getElementById(\"7a88b1f4-3fa8-4d75-a94a-99faca74ccf9\").style.display = \"none\";</script>",
      "application/plot+json": {
       "output_type": "lets_plot_spec",
       "output": {
        "ggtitle": {
         "text": "Simple plot with lets-plot"
        },
        "mapping": {},
        "data": {
         "temperature": [
          12.0,
          14.2,
          15.1,
          15.9,
          17.9,
          15.6,
          14.2,
          24.3
         ],
         "humidity": [
          0.5,
          0.32,
          0.11,
          0.89,
          0.68,
          0.57,
          0.56,
          0.5
         ],
         "time": [
          0.0,
          1.0,
          2.0,
          4.0,
          5.0,
          7.0,
          8.0,
          9.0
         ]
        },
        "kind": "plot",
        "scales": [
         {
          "aesthetic": "x",
          "limits": [
           null,
           null
          ]
         },
         {
          "aesthetic": "y",
          "limits": [
           0.0,
           25.5
          ]
         },
         {
          "aesthetic": "fill",
          "scale_mapper_kind": "color_gradient",
          "high": "#ee6666",
          "low": "#fac858",
          "limits": [
           null,
           null
          ]
         },
         {
          "aesthetic": "x",
          "limits": [
           null,
           null
          ]
         },
         {
          "aesthetic": "y",
          "limits": [
           0.0,
           25.5
          ]
         }
        ],
        "layers": [
         {
          "mapping": {
           "x": "time",
           "y": "temperature",
           "fill": "humidity"
          },
          "stat": "identity",
          "size": 0.0,
          "sampling": "none",
          "position": "dodge",
          "geom": "bar"
         },
         {
          "mapping": {
           "x": "time",
           "y": "temperature"
          },
          "stat": "identity",
          "size": 3.0,
          "color": "#6e5596",
          "linetype": "dotdash",
          "sampling": "none",
          "position": "identity",
          "geom": "line"
         }
        ],
        "caption": {
         "text": "See `examples` section for more\n complicated and interesting examples!"
        }
       },
       "apply_color_scheme": true,
       "swing_enabled": true
      }
     },
     "execution_count": 3,
     "metadata": {},
     "output_type": "execute_result"
    }
   ],
   "source": [
    "plot(simpleDataset) {\n",
    "    x(\"time\"<Int>())\n",
    "\n",
    "    y(\"temperature\"<Double>()) {\n",
    "        scale = continuous(0.0..25.5)\n",
    "    }\n",
    "\n",
    "    bars {\n",
    "        fillColor(\"humidity\"<Double>()) {\n",
    "            scale = continuous(range = Color.YELLOW..Color.RED)\n",
    "        }\n",
    "        borderLine.width = 0.0\n",
    "    }\n",
    "\n",
    "    line {\n",
    "        width = 3.0\n",
    "        color = Color.hex(\"#6e5596\")\n",
    "        type = LineType.DOTDASH\n",
    "    }\n",
    "\n",
    "    layout {\n",
    "        title = \"Simple plot with lets-plot\"\n",
    "        caption = \"See `examples` section for more\\n complicated and interesting examples!\"\n",
    "    }\n",
    "\n",
    "}"
   ]
  }
 ],
 "metadata": {
  "kernelspec": {
   "display_name": "Kotlin",
   "language": "kotlin",
   "name": "kotlin"
  },
  "language_info": {
   "codemirror_mode": "text/x-kotlin",
   "file_extension": ".kt",
   "mimetype": "text/x-kotlin",
   "name": "kotlin",
   "nbconvert_exporter": "",
   "pygments_lexer": "kotlin",
   "version": "1.8.20-Beta"
  }
 },
 "nbformat": 4,
 "nbformat_minor": 5
}
