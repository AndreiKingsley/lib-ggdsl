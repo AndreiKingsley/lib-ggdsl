{
 "cells": [
  {
   "cell_type": "markdown",
   "metadata": {},
   "source": [
    "To learn more about formatting templates see: [Formatting](https://github.com/JetBrains/lets-plot-kotlin/blob/master/docs/formats.md)."
   ]
  },
  {
   "cell_type": "code",
   "execution_count": 2,
   "metadata": {
    "ExecuteTime": {
     "end_time": "2023-04-11T18:12:56.481995Z",
     "start_time": "2023-04-11T18:12:46.556842Z"
    }
   },
   "outputs": [],
   "source": [
    "%useLatestDescriptors\n",
    "%use kandy\n",
    "%use dataframe"
   ]
  },
  {
   "cell_type": "code",
   "execution_count": 3,
   "metadata": {
    "ExecuteTime": {
     "end_time": "2023-04-11T18:13:09.350844Z",
     "start_time": "2023-04-11T18:13:09.033297Z"
    }
   },
   "outputs": [],
   "source": [
    "val df = mapOf<String, List<Any>>(\n",
    "    \"y\" to (0 until 5).toList(),\n",
    "    \"z\" to listOf(1.0/3, 12.5/7, -22.5/11, 2.5/7, 31.67/1.77),\n",
    "    \"s\" to listOf(\"one\", \"two\", \"three\", \"four\", \"five\")\n",
    ")"
   ]
  },
  {
   "cell_type": "code",
   "execution_count": 4,
   "metadata": {
    "ExecuteTime": {
     "end_time": "2023-04-11T18:13:11.996815Z",
     "start_time": "2023-04-11T18:13:11.868184Z"
    }
   },
   "outputs": [],
   "source": [
    "val ySrc = column<Int>(\"y\")\n",
    "val zSrc = column<Double>(\"z\")\n",
    "val sSrc = column<String>(\"s\")"
   ]
  },
  {
   "cell_type": "code",
   "execution_count": 13,
   "metadata": {
    "ExecuteTime": {
     "end_time": "2023-04-11T18:19:20.804080Z",
     "start_time": "2023-04-11T18:19:20.711158Z"
    }
   },
   "outputs": [
    {
     "data": {
      "text/html": "            <script type=\"text/javascript\" data-lets-plot-script=\"library\" src=\"https://cdn.jsdelivr.net/gh/JetBrains/lets-plot@v3.1.0/js-package/distr/lets-plot.min.js\"></script>    \n               <div id=\"tq5xDA\"></div>\n   <script type=\"text/javascript\" data-lets-plot-script=\"plot\">\n       var plotSpec={\n\"mapping\":{\n},\n\"data\":{\n\"y\":[0.0,1.0,2.0,3.0,4.0],\n\"z\":[0.3333333333333333,1.7857142857142858,-2.0454545454545454,0.35714285714285715,17.89265536723164]\n},\n\"kind\":\"plot\",\n\"scales\":[{\n\"aesthetic\":\"y\",\n\"limits\":[null,null]\n}],\n\"layers\":[{\n\"mapping\":{\n\"y\":\"y\",\n\"label\":\"z\"\n},\n\"stat\":\"identity\",\n\"sampling\":\"none\",\n\"position\":\"identity\",\n\"geom\":\"text\",\n\"data\":{\n}\n}]\n};\n       var plotContainer = document.getElementById(\"tq5xDA\");\n       LetsPlot.buildPlotFromProcessedSpecs(plotSpec, -1, -1, plotContainer);\n   </script>    ",
      "application/plot+json": {
       "output_type": "lets_plot_spec",
       "output": {
        "mapping": {},
        "data": {
         "y": [
          0.0,
          1.0,
          2.0,
          3.0,
          4.0
         ],
         "z": [
          0.33333334,
          1.7857143,
          -2.0454545,
          0.35714287,
          17.892654
         ]
        },
        "kind": "plot",
        "scales": [
         {
          "aesthetic": "y",
          "limits": [
           null,
           null
          ]
         }
        ],
        "layers": [
         {
          "mapping": {
           "y": "y",
           "label": "z"
          },
          "stat": "identity",
          "sampling": "none",
          "position": "identity",
          "geom": "text"
         }
        ]
       },
       "apply_color_scheme": true,
       "swing_enabled": true
      }
     },
     "execution_count": 13,
     "metadata": {},
     "output_type": "execute_result"
    }
   ],
   "source": [
    "plot(df) {\n",
    "    text { \n",
    "        y(ySrc)\n",
    "        label(zSrc)\n",
    "    }\n",
    "}"
   ]
  }
 ],
 "metadata": {
  "kernelspec": {
   "display_name": "Kotlin",
   "language": "kotlin",
   "name": "kotlin"
  },
  "language_info": {
   "codemirror_mode": "text/x-kotlin",
   "file_extension": ".kt",
   "mimetype": "text/x-kotlin",
   "name": "kotlin",
   "nbconvert_exporter": "",
   "pygments_lexer": "kotlin",
   "version": "1.8.20-Beta"
  }
 },
 "nbformat": 4,
 "nbformat_minor": 2
}
