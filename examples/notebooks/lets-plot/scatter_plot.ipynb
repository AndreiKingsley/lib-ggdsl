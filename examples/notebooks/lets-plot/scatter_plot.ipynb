{
 "cells": [
  {
   "cell_type": "code",
   "execution_count": 1,
   "metadata": {},
   "outputs": [
    {
     "data": {
      "text/html": [
       "   <div id=\"bWdLLF\"></div>\n",
       "   <script type=\"text/javascript\" data-lets-plot-script=\"library\">\n",
       "       if(!window.letsPlotCallQueue) {\n",
       "           window.letsPlotCallQueue = [];\n",
       "       }; \n",
       "       window.letsPlotCall = function(f) {\n",
       "           window.letsPlotCallQueue.push(f);\n",
       "       };\n",
       "       (function() {\n",
       "           var script = document.createElement(\"script\");\n",
       "           script.type = \"text/javascript\";\n",
       "           script.src = \"https://cdn.jsdelivr.net/gh/JetBrains/lets-plot@v3.1.0/js-package/distr/lets-plot.min.js\";\n",
       "           script.onload = function() {\n",
       "               window.letsPlotCall = function(f) {f();};\n",
       "               window.letsPlotCallQueue.forEach(function(f) {f();});\n",
       "               window.letsPlotCallQueue = [];\n",
       "               \n",
       "               \n",
       "           };\n",
       "           script.onerror = function(event) {\n",
       "               window.letsPlotCall = function(f) {};\n",
       "               window.letsPlotCallQueue = [];\n",
       "               var div = document.createElement(\"div\");\n",
       "               div.style.color = 'darkred';\n",
       "               div.textContent = 'Error loading Lets-Plot JS';\n",
       "               document.getElementById(\"bWdLLF\").appendChild(div);\n",
       "           };\n",
       "           var e = document.getElementById(\"bWdLLF\");\n",
       "           e.appendChild(script);\n",
       "       })();\n",
       "   </script>"
      ]
     },
     "metadata": {},
     "output_type": "display_data"
    }
   ],
   "source": [
    "%useLatestDescriptors\n",
    "%use ggdsl\n",
    "import java.util.Random"
   ]
  },
  {
   "cell_type": "code",
   "execution_count": 2,
   "metadata": {},
   "outputs": [],
   "source": [
    "// This example was found at: \n",
    "// www.cookbook-r.com/Graphs/Scatterplots_(ggplot2)\n",
    "\n",
    "val rand = java.util.Random(123)\n",
    "val n = 20\n",
    "val data = mapOf<String, List<Any>>(\n",
    "    \"cond\" to List(n / 2) { \"A\" } + List(n / 2) { \"B\" },\n",
    "    \"xvar\" to List(n) { i:Int-> i }, \n",
    "    \"yvar\" to List(n) { i:Int-> i + rand.nextGaussian() * 3 }\n",
    ")"
   ]
  },
  {
   "cell_type": "code",
   "execution_count": 3,
   "metadata": {},
   "outputs": [],
   "source": [
    "val cond = \"cond\"<String>()\n",
    "val xvar = \"xvar\"<Int>()\n",
    "val yvar = \"yvar\"<Double>()"
   ]
  },
  {
   "cell_type": "markdown",
   "metadata": {},
   "source": [
    "#### Basic scatter plot"
   ]
  },
  {
   "cell_type": "code",
   "execution_count": 5,
   "metadata": {},
   "outputs": [
    {
     "data": {
      "application/plot+json": {
       "apply_color_scheme": true,
       "output": {
        "data": {
         "xvar": [
          0,
          1,
          2,
          3,
          4,
          5,
          6,
          7,
          8,
          9,
          10,
          11,
          12,
          13,
          14,
          15,
          16,
          17,
          18,
          19
         ],
         "yvar": [
          -4.31414792742272,
          2.9025852255330413,
          2.678186038496493,
          3.8323801422104644,
          4.552957466631817,
          3.9043586677544218,
          10.056090493036294,
          8.077708681007955,
          7.384161947842241,
          12.052485955548157,
          14.114693281686685,
          5.329404481450428,
          10.598634211929852,
          10.98677740976943,
          8.96180814139117,
          14.194166026725489,
          15.099984576207884,
          12.734927210327559,
          18.2859058065098,
          17.832111113004313
         ]
        },
        "ggsize": {
         "height": 250,
         "width": 300
        },
        "kind": "plot",
        "layers": [
         {
          "geom": "point",
          "mapping": {
           "x": "xvar",
           "y": "yvar"
          },
          "position": "identity",
          "sampling": "none",
          "shape": 1,
          "stat": "identity"
         }
        ],
        "mapping": {},
        "scales": [
         {
          "aesthetic": "x",
          "limits": [
           null,
           null
          ]
         },
         {
          "aesthetic": "y",
          "limits": [
           null,
           null
          ]
         }
        ]
       },
       "output_type": "lets_plot_spec",
       "swing_enabled": true
      },
      "text/html": [
       "   <div id=\"zaVNCt\"></div>\n",
       "   <script type=\"text/javascript\" data-lets-plot-script=\"plot\">\n",
       "       (function() {\n",
       "           var plotSpec={\n",
       "\"mapping\":{\n",
       "},\n",
       "\"data\":{\n",
       "\"yvar\":[-4.31414792742272,2.9025852255330413,2.678186038496493,3.8323801422104644,4.552957466631817,3.9043586677544218,10.056090493036294,8.077708681007955,7.384161947842241,12.052485955548157,14.114693281686685,5.329404481450428,10.598634211929852,10.98677740976943,8.96180814139117,14.194166026725489,15.099984576207884,12.734927210327559,18.2859058065098,17.832111113004313],\n",
       "\"xvar\":[0.0,1.0,2.0,3.0,4.0,5.0,6.0,7.0,8.0,9.0,10.0,11.0,12.0,13.0,14.0,15.0,16.0,17.0,18.0,19.0]\n",
       "},\n",
       "\"ggsize\":{\n",
       "\"width\":300.0,\n",
       "\"height\":250.0\n",
       "},\n",
       "\"kind\":\"plot\",\n",
       "\"scales\":[{\n",
       "\"aesthetic\":\"x\",\n",
       "\"limits\":[null,null]\n",
       "},{\n",
       "\"aesthetic\":\"y\",\n",
       "\"limits\":[null,null]\n",
       "}],\n",
       "\"layers\":[{\n",
       "\"mapping\":{\n",
       "\"x\":\"xvar\",\n",
       "\"y\":\"yvar\"\n",
       "},\n",
       "\"stat\":\"identity\",\n",
       "\"shape\":1.0,\n",
       "\"sampling\":\"none\",\n",
       "\"position\":\"identity\",\n",
       "\"geom\":\"point\",\n",
       "\"data\":{\n",
       "}\n",
       "}]\n",
       "};\n",
       "           var plotContainer = document.getElementById(\"zaVNCt\");\n",
       "           window.letsPlotCall(function() {{\n",
       "               LetsPlot.buildPlotFromProcessedSpecs(plotSpec, -1, -1, plotContainer);\n",
       "           }});\n",
       "       })();    \n",
       "   </script>"
      ]
     },
     "execution_count": 5,
     "metadata": {},
     "output_type": "execute_result"
    }
   ],
   "source": [
    "plot(data) {\n",
    "    points {\n",
    "        x(xvar)\n",
    "        y(yvar)\n",
    "        symbol = Symbol.CIRCLE_OPEN\n",
    "    }\n",
    "    layout { \n",
    "        size = 300 to 250\n",
    "    }\n",
    "}"
   ]
  },
  {
   "cell_type": "code",
   "execution_count": 7,
   "metadata": {},
   "outputs": [
    {
     "data": {
      "application/plot+json": {
       "apply_color_scheme": true,
       "output": {
        "data": {
         "cond": [
          "A",
          "A",
          "A",
          "A",
          "A",
          "A",
          "A",
          "A",
          "A",
          "A",
          "B",
          "B",
          "B",
          "B",
          "B",
          "B",
          "B",
          "B",
          "B",
          "B"
         ],
         "xvar": [
          0,
          1,
          2,
          3,
          4,
          5,
          6,
          7,
          8,
          9,
          10,
          11,
          12,
          13,
          14,
          15,
          16,
          17,
          18,
          19
         ],
         "yvar": [
          -4.31414792742272,
          2.9025852255330413,
          2.678186038496493,
          3.8323801422104644,
          4.552957466631817,
          3.9043586677544218,
          10.056090493036294,
          8.077708681007955,
          7.384161947842241,
          12.052485955548157,
          14.114693281686685,
          5.329404481450428,
          10.598634211929852,
          10.98677740976943,
          8.96180814139117,
          14.194166026725489,
          15.099984576207884,
          12.734927210327559,
          18.2859058065098,
          17.832111113004313
         ]
        },
        "ggsize": {
         "height": 250,
         "width": 500
        },
        "kind": "plot",
        "layers": [
         {
          "geom": "point",
          "mapping": {
           "color": "cond",
           "shape": "cond",
           "x": "xvar",
           "y": "yvar"
          },
          "position": "identity",
          "sampling": "none",
          "size": 5,
          "stat": "identity"
         }
        ],
        "mapping": {},
        "scales": [
         {
          "aesthetic": "x",
          "limits": [
           null,
           null
          ]
         },
         {
          "aesthetic": "y",
          "limits": [
           null,
           null
          ]
         },
         {
          "aesthetic": "color",
          "discrete": true
         },
         {
          "aesthetic": "shape"
         }
        ]
       },
       "output_type": "lets_plot_spec",
       "swing_enabled": true
      },
      "text/html": [
       "   <div id=\"bx3Pg0\"></div>\n",
       "   <script type=\"text/javascript\" data-lets-plot-script=\"plot\">\n",
       "       (function() {\n",
       "           var plotSpec={\n",
       "\"mapping\":{\n",
       "},\n",
       "\"data\":{\n",
       "\"yvar\":[-4.31414792742272,2.9025852255330413,2.678186038496493,3.8323801422104644,4.552957466631817,3.9043586677544218,10.056090493036294,8.077708681007955,7.384161947842241,12.052485955548157,14.114693281686685,5.329404481450428,10.598634211929852,10.98677740976943,8.96180814139117,14.194166026725489,15.099984576207884,12.734927210327559,18.2859058065098,17.832111113004313],\n",
       "\"xvar\":[0.0,1.0,2.0,3.0,4.0,5.0,6.0,7.0,8.0,9.0,10.0,11.0,12.0,13.0,14.0,15.0,16.0,17.0,18.0,19.0],\n",
       "\"cond\":[\"A\",\"A\",\"A\",\"A\",\"A\",\"A\",\"A\",\"A\",\"A\",\"A\",\"B\",\"B\",\"B\",\"B\",\"B\",\"B\",\"B\",\"B\",\"B\",\"B\"]\n",
       "},\n",
       "\"ggsize\":{\n",
       "\"width\":500.0,\n",
       "\"height\":250.0\n",
       "},\n",
       "\"kind\":\"plot\",\n",
       "\"scales\":[{\n",
       "\"aesthetic\":\"x\",\n",
       "\"limits\":[null,null]\n",
       "},{\n",
       "\"aesthetic\":\"y\",\n",
       "\"limits\":[null,null]\n",
       "},{\n",
       "\"aesthetic\":\"color\",\n",
       "\"discrete\":true\n",
       "},{\n",
       "\"aesthetic\":\"shape\"\n",
       "}],\n",
       "\"layers\":[{\n",
       "\"mapping\":{\n",
       "\"x\":\"xvar\",\n",
       "\"y\":\"yvar\",\n",
       "\"color\":\"cond\",\n",
       "\"shape\":\"cond\"\n",
       "},\n",
       "\"stat\":\"identity\",\n",
       "\"size\":5.0,\n",
       "\"sampling\":\"none\",\n",
       "\"position\":\"identity\",\n",
       "\"geom\":\"point\",\n",
       "\"data\":{\n",
       "}\n",
       "}]\n",
       "};\n",
       "           var plotContainer = document.getElementById(\"bx3Pg0\");\n",
       "           window.letsPlotCall(function() {{\n",
       "               LetsPlot.buildPlotFromProcessedSpecs(plotSpec, -1, -1, plotContainer);\n",
       "           }});\n",
       "       })();    \n",
       "   </script>"
      ]
     },
     "execution_count": 7,
     "metadata": {},
     "output_type": "execute_result"
    }
   ],
   "source": [
    "plot(data) {\n",
    "    points {\n",
    "        x(xvar)\n",
    "        y(yvar)\n",
    "        color(cond)\n",
    "        symbol(cond)\n",
    "        size = 5.0\n",
    "    }\n",
    "    layout { \n",
    "        size = 500 to 250\n",
    "    }\n",
    "}"
   ]
  },
  {
   "cell_type": "code",
   "execution_count": 9,
   "metadata": {},
   "outputs": [
    {
     "data": {
      "application/plot+json": {
       "apply_color_scheme": true,
       "output": {
        "data": {
         "cond": [
          "A",
          "A",
          "A",
          "A",
          "A",
          "A",
          "A",
          "A",
          "A",
          "A",
          "B",
          "B",
          "B",
          "B",
          "B",
          "B",
          "B",
          "B",
          "B",
          "B"
         ],
         "xvar": [
          0,
          1,
          2,
          3,
          4,
          5,
          6,
          7,
          8,
          9,
          10,
          11,
          12,
          13,
          14,
          15,
          16,
          17,
          18,
          19
         ],
         "yvar": [
          -4.31414792742272,
          2.9025852255330413,
          2.678186038496493,
          3.8323801422104644,
          4.552957466631817,
          3.9043586677544218,
          10.056090493036294,
          8.077708681007955,
          7.384161947842241,
          12.052485955548157,
          14.114693281686685,
          5.329404481450428,
          10.598634211929852,
          10.98677740976943,
          8.96180814139117,
          14.194166026725489,
          15.099984576207884,
          12.734927210327559,
          18.2859058065098,
          17.832111113004313
         ]
        },
        "ggsize": {
         "height": 250,
         "width": 500
        },
        "kind": "plot",
        "layers": [
         {
          "geom": "point",
          "mapping": {
           "color": "cond",
           "shape": "cond",
           "x": "xvar",
           "y": "yvar"
          },
          "position": "identity",
          "sampling": "none",
          "size": 5,
          "stat": "identity"
         }
        ],
        "mapping": {},
        "scales": [
         {
          "aesthetic": "x",
          "limits": [
           null,
           null
          ]
         },
         {
          "aesthetic": "y",
          "limits": [
           null,
           null
          ]
         },
         {
          "aesthetic": "color",
          "discrete": true
         },
         {
          "aesthetic": "shape",
          "values": [
           1,
           2
          ]
         }
        ]
       },
       "output_type": "lets_plot_spec",
       "swing_enabled": true
      },
      "text/html": [
       "   <div id=\"QoigCi\"></div>\n",
       "   <script type=\"text/javascript\" data-lets-plot-script=\"plot\">\n",
       "       (function() {\n",
       "           var plotSpec={\n",
       "\"mapping\":{\n",
       "},\n",
       "\"data\":{\n",
       "\"yvar\":[-4.31414792742272,2.9025852255330413,2.678186038496493,3.8323801422104644,4.552957466631817,3.9043586677544218,10.056090493036294,8.077708681007955,7.384161947842241,12.052485955548157,14.114693281686685,5.329404481450428,10.598634211929852,10.98677740976943,8.96180814139117,14.194166026725489,15.099984576207884,12.734927210327559,18.2859058065098,17.832111113004313],\n",
       "\"xvar\":[0.0,1.0,2.0,3.0,4.0,5.0,6.0,7.0,8.0,9.0,10.0,11.0,12.0,13.0,14.0,15.0,16.0,17.0,18.0,19.0],\n",
       "\"cond\":[\"A\",\"A\",\"A\",\"A\",\"A\",\"A\",\"A\",\"A\",\"A\",\"A\",\"B\",\"B\",\"B\",\"B\",\"B\",\"B\",\"B\",\"B\",\"B\",\"B\"]\n",
       "},\n",
       "\"ggsize\":{\n",
       "\"width\":500.0,\n",
       "\"height\":250.0\n",
       "},\n",
       "\"kind\":\"plot\",\n",
       "\"scales\":[{\n",
       "\"aesthetic\":\"x\",\n",
       "\"limits\":[null,null]\n",
       "},{\n",
       "\"aesthetic\":\"y\",\n",
       "\"limits\":[null,null]\n",
       "},{\n",
       "\"aesthetic\":\"color\",\n",
       "\"discrete\":true\n",
       "},{\n",
       "\"aesthetic\":\"shape\",\n",
       "\"values\":[1.0,2.0]\n",
       "}],\n",
       "\"layers\":[{\n",
       "\"mapping\":{\n",
       "\"x\":\"xvar\",\n",
       "\"y\":\"yvar\",\n",
       "\"color\":\"cond\",\n",
       "\"shape\":\"cond\"\n",
       "},\n",
       "\"stat\":\"identity\",\n",
       "\"size\":5.0,\n",
       "\"sampling\":\"none\",\n",
       "\"position\":\"identity\",\n",
       "\"geom\":\"point\",\n",
       "\"data\":{\n",
       "}\n",
       "}]\n",
       "};\n",
       "           var plotContainer = document.getElementById(\"QoigCi\");\n",
       "           window.letsPlotCall(function() {{\n",
       "               LetsPlot.buildPlotFromProcessedSpecs(plotSpec, -1, -1, plotContainer);\n",
       "           }});\n",
       "       })();    \n",
       "   </script>"
      ]
     },
     "execution_count": 9,
     "metadata": {},
     "output_type": "execute_result"
    }
   ],
   "source": [
    "plot(data) {\n",
    "    points {\n",
    "        x(xvar)\n",
    "        y(yvar)\n",
    "        color(cond)\n",
    "        symbol(cond) {\n",
    "            scale = categorical(range = listOf(Symbol.CIRCLE_OPEN, Symbol.TRIANGLE_OPEN))\n",
    "        }\n",
    "        size = 5.0\n",
    "    }\n",
    "    layout { \n",
    "        size = 500 to 250\n",
    "    }\n",
    "}"
   ]
  },
  {
   "cell_type": "markdown",
   "metadata": {},
   "source": [
    "#### Handling overplotting"
   ]
  },
  {
   "cell_type": "code",
   "execution_count": 10,
   "metadata": {},
   "outputs": [],
   "source": [
    "// Create data with overlapping points.\n",
    "val data1 = mapOf(\n",
    "        \"xvar\" to (data[\"xvar\"] as List<Double>).map { (it / 5).toInt() * 5 },\n",
    "        \"yvar\" to (data[\"yvar\"] as List<Double>).map { (it / 5).toInt() * 5 },\n",
    "    )"
   ]
  },
  {
   "cell_type": "code",
   "execution_count": 12,
   "metadata": {},
   "outputs": [
    {
     "data": {
      "application/plot+json": {
       "apply_color_scheme": true,
       "output": {
        "data": {
         "xvar": [
          0,
          0,
          0,
          0,
          0,
          5,
          5,
          5,
          5,
          5,
          10,
          10,
          10,
          10,
          10,
          15,
          15,
          15,
          15,
          15
         ],
         "yvar": [
          0,
          0,
          0,
          0,
          0,
          0,
          10,
          5,
          5,
          10,
          10,
          5,
          10,
          10,
          5,
          10,
          15,
          10,
          15,
          15
         ]
        },
        "ggsize": {
         "height": 250,
         "width": 500
        },
        "kind": "plot",
        "layers": [
         {
          "alpha": 0.3,
          "geom": "point",
          "mapping": {
           "x": "xvar",
           "y": "yvar"
          },
          "position": "identity",
          "sampling": "none",
          "size": 7,
          "stat": "identity"
         }
        ],
        "mapping": {},
        "scales": [
         {
          "aesthetic": "x",
          "breaks": [
           0,
           5,
           10,
           15
          ],
          "limits": [
           null,
           null
          ]
         },
         {
          "aesthetic": "y",
          "limits": [
           null,
           null
          ]
         }
        ]
       },
       "output_type": "lets_plot_spec",
       "swing_enabled": true
      },
      "text/html": [
       "   <div id=\"hv1LTE\"></div>\n",
       "   <script type=\"text/javascript\" data-lets-plot-script=\"plot\">\n",
       "       (function() {\n",
       "           var plotSpec={\n",
       "\"mapping\":{\n",
       "},\n",
       "\"data\":{\n",
       "\"yvar\":[0.0,0.0,0.0,0.0,0.0,0.0,10.0,5.0,5.0,10.0,10.0,5.0,10.0,10.0,5.0,10.0,15.0,10.0,15.0,15.0],\n",
       "\"xvar\":[0.0,0.0,0.0,0.0,0.0,5.0,5.0,5.0,5.0,5.0,10.0,10.0,10.0,10.0,10.0,15.0,15.0,15.0,15.0,15.0]\n",
       "},\n",
       "\"ggsize\":{\n",
       "\"width\":500.0,\n",
       "\"height\":250.0\n",
       "},\n",
       "\"kind\":\"plot\",\n",
       "\"scales\":[{\n",
       "\"aesthetic\":\"x\",\n",
       "\"breaks\":[0.0,5.0,10.0,15.0],\n",
       "\"limits\":[null,null]\n",
       "},{\n",
       "\"aesthetic\":\"y\",\n",
       "\"limits\":[null,null]\n",
       "}],\n",
       "\"layers\":[{\n",
       "\"mapping\":{\n",
       "\"x\":\"xvar\",\n",
       "\"y\":\"yvar\"\n",
       "},\n",
       "\"stat\":\"identity\",\n",
       "\"size\":7.0,\n",
       "\"sampling\":\"none\",\n",
       "\"alpha\":0.3,\n",
       "\"position\":\"identity\",\n",
       "\"geom\":\"point\",\n",
       "\"data\":{\n",
       "}\n",
       "}]\n",
       "};\n",
       "           var plotContainer = document.getElementById(\"hv1LTE\");\n",
       "           window.letsPlotCall(function() {{\n",
       "               LetsPlot.buildPlotFromProcessedSpecs(plotSpec, -1, -1, plotContainer);\n",
       "           }});\n",
       "       })();    \n",
       "   </script>"
      ]
     },
     "execution_count": 12,
     "metadata": {},
     "output_type": "execute_result"
    }
   ],
   "source": [
    "plot(data1) {\n",
    "    points {\n",
    "        x(xvar) {\n",
    "            axis.breaks(listOf(0, 5, 10, 15))\n",
    "        }\n",
    "        y(\"yvar\"<Int>())\n",
    "        alpha = .3\n",
    "        size = 7.0\n",
    "    }\n",
    "    layout { \n",
    "        size = 500 to 250\n",
    "    }\n",
    "}"
   ]
  },
  {
   "cell_type": "code",
   "execution_count": 13,
   "metadata": {},
   "outputs": [
    {
     "data": {
      "application/plot+json": {
       "apply_color_scheme": true,
       "output": {
        "data": {
         "xvar": [
          0,
          0,
          0,
          0,
          0,
          5,
          5,
          5,
          5,
          5,
          10,
          10,
          10,
          10,
          10,
          15,
          15,
          15,
          15,
          15
         ],
         "yvar": [
          0,
          0,
          0,
          0,
          0,
          0,
          10,
          5,
          5,
          10,
          10,
          5,
          10,
          10,
          5,
          10,
          15,
          10,
          15,
          15
         ]
        },
        "ggsize": {
         "height": 250,
         "width": 500
        },
        "kind": "plot",
        "layers": [
         {
          "geom": "point",
          "mapping": {
           "x": "xvar",
           "y": "yvar"
          },
          "position": {
           "height": 0.1,
           "name": "jitter",
           "width": 0.1
          },
          "sampling": "none",
          "shape": 1,
          "stat": "identity"
         }
        ],
        "mapping": {},
        "scales": [
         {
          "aesthetic": "x",
          "breaks": [
           0,
           5,
           10,
           15
          ],
          "limits": [
           null,
           null
          ]
         },
         {
          "aesthetic": "y",
          "limits": [
           null,
           null
          ]
         }
        ]
       },
       "output_type": "lets_plot_spec",
       "swing_enabled": true
      },
      "text/html": [
       "   <div id=\"VYlt9n\"></div>\n",
       "   <script type=\"text/javascript\" data-lets-plot-script=\"plot\">\n",
       "       (function() {\n",
       "           var plotSpec={\n",
       "\"mapping\":{\n",
       "},\n",
       "\"data\":{\n",
       "\"yvar\":[0.0,0.0,0.0,0.0,0.0,0.0,10.0,5.0,5.0,10.0,10.0,5.0,10.0,10.0,5.0,10.0,15.0,10.0,15.0,15.0],\n",
       "\"xvar\":[0.0,0.0,0.0,0.0,0.0,5.0,5.0,5.0,5.0,5.0,10.0,10.0,10.0,10.0,10.0,15.0,15.0,15.0,15.0,15.0]\n",
       "},\n",
       "\"ggsize\":{\n",
       "\"width\":500.0,\n",
       "\"height\":250.0\n",
       "},\n",
       "\"kind\":\"plot\",\n",
       "\"scales\":[{\n",
       "\"aesthetic\":\"x\",\n",
       "\"breaks\":[0.0,5.0,10.0,15.0],\n",
       "\"limits\":[null,null]\n",
       "},{\n",
       "\"aesthetic\":\"y\",\n",
       "\"limits\":[null,null]\n",
       "}],\n",
       "\"layers\":[{\n",
       "\"mapping\":{\n",
       "\"x\":\"xvar\",\n",
       "\"y\":\"yvar\"\n",
       "},\n",
       "\"stat\":\"identity\",\n",
       "\"shape\":1.0,\n",
       "\"sampling\":\"none\",\n",
       "\"position\":{\n",
       "\"name\":\"jitter\",\n",
       "\"width\":0.1,\n",
       "\"height\":0.1\n",
       "},\n",
       "\"geom\":\"point\",\n",
       "\"data\":{\n",
       "}\n",
       "}]\n",
       "};\n",
       "           var plotContainer = document.getElementById(\"VYlt9n\");\n",
       "           window.letsPlotCall(function() {{\n",
       "               LetsPlot.buildPlotFromProcessedSpecs(plotSpec, -1, -1, plotContainer);\n",
       "           }});\n",
       "       })();    \n",
       "   </script>"
      ]
     },
     "execution_count": 13,
     "metadata": {},
     "output_type": "execute_result"
    }
   ],
   "source": [
    "plot(data1) {\n",
    "    points {\n",
    "        x(xvar) {\n",
    "            axis.breaks(listOf(0, 5, 10, 15))\n",
    "        }\n",
    "        y(\"yvar\"<Int>())\n",
    "        symbol = Symbol.CIRCLE_OPEN\n",
    "        \n",
    "        position = Position.Jitter(.1, .1)\n",
    "    }\n",
    "    layout { \n",
    "        size = 500 to 250\n",
    "    }\n",
    "}"
   ]
  }
 ],
 "metadata": {
  "kernelspec": {
   "display_name": "Kotlin",
   "language": "kotlin",
   "name": "kotlin"
  },
  "language_info": {
   "codemirror_mode": "text/x-kotlin",
   "file_extension": ".kt",
   "mimetype": "text/x-kotlin",
   "name": "kotlin",
   "nbconvert_exporter": "",
   "pygments_lexer": "kotlin",
   "version": "1.8.20-Beta"
  }
 },
 "nbformat": 4,
 "nbformat_minor": 4
}
