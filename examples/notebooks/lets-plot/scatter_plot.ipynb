{
 "cells": [
  {
   "cell_type": "code",
   "execution_count": 1,
   "metadata": {},
   "outputs": [
    {
     "data": {
      "text/html": [
       "            <div id=\"kotlin_out_0\"/>\n",
       "            <script type=\"text/javascript\">\n",
       "                            if(!window.kotlinQueues) {\n",
       "                window.kotlinQueues = {};\n",
       "            }\n",
       "            if(!window.kotlinQueues[\"DataFrame\"]) {\n",
       "                var resQueue = [];\n",
       "                window.kotlinQueues[\"DataFrame\"] = resQueue;\n",
       "                window[\"call_DataFrame\"] = function(f) {\n",
       "                    resQueue.push(f);\n",
       "                }\n",
       "            }\n",
       "            (function (){\n",
       "                var modifiers = [(function(script) {\n",
       "    script.src = \"https://cdn.jsdelivr.net/gh/Kotlin/dataframe@3db46ccccaa1291c0627307d64133317f545e6ae/core/src/main/resources/init.js\"\n",
       "    script.type = \"text/javascript\";\n",
       "})];\n",
       "                var e = document.getElementById(\"kotlin_out_0\");\n",
       "                modifiers.forEach(function (gen) {\n",
       "                    var script = document.createElement(\"script\");\n",
       "                    gen(script)\n",
       "                    script.addEventListener(\"load\", function() {\n",
       "                        window[\"call_DataFrame\"] = function(f) {f();};\n",
       "                        window.kotlinQueues[\"DataFrame\"].forEach(function(f) {f();});\n",
       "                        window.kotlinQueues[\"DataFrame\"] = [];\n",
       "                    }, false);\n",
       "                    script.addEventListener(\"error\", function() {\n",
       "                        window[\"call_DataFrame\"] = function(f) {};\n",
       "                        window.kotlinQueues[\"DataFrame\"] = [];\n",
       "                        var div = document.createElement(\"div\");\n",
       "                        div.style.color = 'darkred';\n",
       "                        div.textContent = 'Error loading resource DataFrame';\n",
       "                        document.getElementById(\"kotlin_out_0\").appendChild(div);\n",
       "                    }, false);\n",
       "                    \n",
       "                    e.appendChild(script);\n",
       "                });\n",
       "            })();\n",
       "            </script>"
      ]
     },
     "metadata": {},
     "output_type": "display_data"
    },
    {
     "data": {
      "text/html": [
       "                <style>\n",
       "                :root {\n",
       "    --background: #fff;\n",
       "    --background-odd: #f5f5f5;\n",
       "    --background-hover: #d9edfd;\n",
       "    --header-text-color: #474747;\n",
       "    --text-color: #848484;\n",
       "    --text-color-dark: #000;\n",
       "    --text-color-medium: #737373;\n",
       "    --text-color-pale: #b3b3b3;\n",
       "    --inner-border-color: #aaa;\n",
       "    --bold-border-color: #000;\n",
       "    --link-color: #296eaa;\n",
       "    --link-color-pale: #296eaa;\n",
       "    --link-hover: #1a466c;\n",
       "}\n",
       "\n",
       ":root[theme=\"dark\"], :root [data-jp-theme-light=\"false\"], .dataframe_dark{\n",
       "    --background: #303030;\n",
       "    --background-odd: #3c3c3c;\n",
       "    --background-hover: #464646;\n",
       "    --header-text-color: #dddddd;\n",
       "    --text-color: #b3b3b3;\n",
       "    --text-color-dark: #dddddd;\n",
       "    --text-color-medium: #b2b2b2;\n",
       "    --text-color-pale: #737373;\n",
       "    --inner-border-color: #707070;\n",
       "    --bold-border-color: #777777;\n",
       "    --link-color: #008dc0;\n",
       "    --link-color-pale: #97e1fb;\n",
       "    --link-hover: #00688e;\n",
       "}\n",
       "\n",
       "p.dataframe_description {\n",
       "    color: var(--text-color-dark);\n",
       "}\n",
       "\n",
       "table.dataframe {\n",
       "    font-family: \"Helvetica Neue\", Helvetica, Arial, sans-serif;\n",
       "    font-size: 12px;\n",
       "    background-color: var(--background);\n",
       "    color: var(--text-color-dark);\n",
       "    border: none;\n",
       "    border-collapse: collapse;\n",
       "}\n",
       "\n",
       "table.dataframe th, td {\n",
       "    padding: 6px;\n",
       "    border: 1px solid transparent;\n",
       "    text-align: left;\n",
       "}\n",
       "\n",
       "table.dataframe th {\n",
       "    background-color: var(--background);\n",
       "    color: var(--header-text-color);\n",
       "}\n",
       "\n",
       "table.dataframe td {\n",
       "    vertical-align: top;\n",
       "}\n",
       "\n",
       "table.dataframe th.bottomBorder {\n",
       "    border-bottom-color: var(--bold-border-color);\n",
       "}\n",
       "\n",
       "table.dataframe tbody > tr:nth-child(odd) {\n",
       "    background: var(--background-odd);\n",
       "}\n",
       "\n",
       "table.dataframe tbody > tr:nth-child(even) {\n",
       "    background: var(--background);\n",
       "}\n",
       "\n",
       "table.dataframe tbody > tr:hover {\n",
       "    background: var(--background-hover);\n",
       "}\n",
       "\n",
       "table.dataframe a {\n",
       "    cursor: pointer;\n",
       "    color: var(--link-color);\n",
       "    text-decoration: none;\n",
       "}\n",
       "\n",
       "table.dataframe tr:hover > td a {\n",
       "    color: var(--link-color-pale);\n",
       "}\n",
       "\n",
       "table.dataframe a:hover {\n",
       "    color: var(--link-hover);\n",
       "    text-decoration: underline;\n",
       "}\n",
       "\n",
       "table.dataframe img {\n",
       "    max-width: fit-content;\n",
       "}\n",
       "\n",
       "table.dataframe th.complex {\n",
       "    background-color: var(--background);\n",
       "    border: 1px solid var(--background);\n",
       "}\n",
       "\n",
       "table.dataframe .leftBorder {\n",
       "    border-left-color: var(--inner-border-color);\n",
       "}\n",
       "\n",
       "table.dataframe .rightBorder {\n",
       "    border-right-color: var(--inner-border-color);\n",
       "}\n",
       "\n",
       "table.dataframe .rightAlign {\n",
       "    text-align: right;\n",
       "}\n",
       "\n",
       "table.dataframe .expanderSvg {\n",
       "    width: 8px;\n",
       "    height: 8px;\n",
       "    margin-right: 3px;\n",
       "}\n",
       "\n",
       "table.dataframe .expander {\n",
       "    display: flex;\n",
       "    align-items: center;\n",
       "}\n",
       "\n",
       "/* formatting */\n",
       "\n",
       "table.dataframe .null {\n",
       "    color: var(--text-color-pale);\n",
       "}\n",
       "\n",
       "table.dataframe .structural {\n",
       "    color: var(--text-color-medium);\n",
       "    font-weight: bold;\n",
       "}\n",
       "\n",
       "table.dataframe .dataFrameCaption {\n",
       "    font-weight: bold;\n",
       "}\n",
       "\n",
       "table.dataframe .numbers {\n",
       "    color: var(--text-color-dark);\n",
       "}\n",
       "\n",
       "table.dataframe td:hover .formatted .structural, .null {\n",
       "    color: var(--text-color-dark);\n",
       "}\n",
       "\n",
       "table.dataframe tr:hover .formatted .structural, .null {\n",
       "    color: var(--text-color-dark);\n",
       "}\n",
       "\n",
       "\n",
       "                </style>"
      ]
     },
     "metadata": {},
     "output_type": "display_data"
    },
    {
     "data": {
      "text/html": [
       "   <div id=\"Vdvn7j\"></div>\n",
       "   <script type=\"text/javascript\" data-lets-plot-script=\"library\">\n",
       "       if(!window.letsPlotCallQueue) {\n",
       "           window.letsPlotCallQueue = [];\n",
       "       }; \n",
       "       window.letsPlotCall = function(f) {\n",
       "           window.letsPlotCallQueue.push(f);\n",
       "       };\n",
       "       (function() {\n",
       "           var script = document.createElement(\"script\");\n",
       "           script.type = \"text/javascript\";\n",
       "           script.src = \"https://cdn.jsdelivr.net/gh/JetBrains/lets-plot@v3.1.0/js-package/distr/lets-plot.min.js\";\n",
       "           script.onload = function() {\n",
       "               window.letsPlotCall = function(f) {f();};\n",
       "               window.letsPlotCallQueue.forEach(function(f) {f();});\n",
       "               window.letsPlotCallQueue = [];\n",
       "               \n",
       "               \n",
       "           };\n",
       "           script.onerror = function(event) {\n",
       "               window.letsPlotCall = function(f) {};\n",
       "               window.letsPlotCallQueue = [];\n",
       "               var div = document.createElement(\"div\");\n",
       "               div.style.color = 'darkred';\n",
       "               div.textContent = 'Error loading Lets-Plot JS';\n",
       "               document.getElementById(\"Vdvn7j\").appendChild(div);\n",
       "           };\n",
       "           var e = document.getElementById(\"Vdvn7j\");\n",
       "           e.appendChild(script);\n",
       "       })();\n",
       "   </script>"
      ]
     },
     "metadata": {},
     "output_type": "display_data"
    }
   ],
   "source": [
    "%useLatestDescriptors\n",
    "%use kandy\n",
    "%use dataframe\n",
    "import java.util.Random"
   ]
  },
  {
   "cell_type": "code",
   "execution_count": 2,
   "metadata": {},
   "outputs": [],
   "source": [
    "// This example was found at: \n",
    "// www.cookbook-r.com/Graphs/Scatterplots_(ggplot2)\n",
    "\n",
    "val rand = java.util.Random(123)\n",
    "val n = 20\n",
    "val data = mapOf<String, List<Any>>(\n",
    "    \"cond\" to List(n / 2) { \"A\" } + List(n / 2) { \"B\" },\n",
    "    \"xvar\" to List(n) { i:Int-> i }, \n",
    "    \"yvar\" to List(n) { i:Int-> i + rand.nextGaussian() * 3 }\n",
    ")"
   ]
  },
  {
   "cell_type": "code",
   "execution_count": 3,
   "metadata": {},
   "outputs": [],
   "source": [
    "val cond = \"cond\"<String>()\n",
    "val xvar = \"xvar\"<Int>()\n",
    "val yvar = \"yvar\"<Double>()"
   ]
  },
  {
   "cell_type": "markdown",
   "metadata": {},
   "source": [
    "#### Basic scatter plot"
   ]
  },
  {
   "cell_type": "code",
   "execution_count": 4,
   "metadata": {},
   "outputs": [
    {
     "data": {
      "application/plot+json": {
       "apply_color_scheme": true,
       "output": {
        "data": {
         "xvar": [
          0,
          1,
          2,
          3,
          4,
          5,
          6,
          7,
          8,
          9,
          10,
          11,
          12,
          13,
          14,
          15,
          16,
          17,
          18,
          19
         ],
         "yvar": [
          -4.31414792742272,
          2.9025852255330413,
          2.678186038496493,
          3.8323801422104644,
          4.552957466631817,
          3.9043586677544218,
          10.056090493036294,
          8.077708681007955,
          7.384161947842241,
          12.052485955548157,
          14.114693281686685,
          5.329404481450428,
          10.598634211929852,
          10.98677740976943,
          8.96180814139117,
          14.194166026725489,
          15.099984576207884,
          12.734927210327559,
          18.2859058065098,
          17.832111113004313
         ]
        },
        "ggsize": {
         "height": 250,
         "width": 300
        },
        "kind": "plot",
        "layers": [
         {
          "geom": "point",
          "mapping": {
           "x": "xvar",
           "y": "yvar"
          },
          "position": "identity",
          "sampling": "none",
          "shape": 1,
          "stat": "identity"
         }
        ],
        "mapping": {},
        "scales": [
         {
          "aesthetic": "x",
          "limits": [
           null,
           null
          ]
         },
         {
          "aesthetic": "y",
          "limits": [
           null,
           null
          ]
         }
        ]
       },
       "output_type": "lets_plot_spec",
       "swing_enabled": true
      },
      "text/html": [
       "   <div id=\"ACDaxF\"></div>\n",
       "   <script type=\"text/javascript\" data-lets-plot-script=\"plot\">\n",
       "       (function() {\n",
       "           var plotSpec={\n",
       "\"mapping\":{\n",
       "},\n",
       "\"data\":{\n",
       "\"yvar\":[-4.31414792742272,2.9025852255330413,2.678186038496493,3.8323801422104644,4.552957466631817,3.9043586677544218,10.056090493036294,8.077708681007955,7.384161947842241,12.052485955548157,14.114693281686685,5.329404481450428,10.598634211929852,10.98677740976943,8.96180814139117,14.194166026725489,15.099984576207884,12.734927210327559,18.2859058065098,17.832111113004313],\n",
       "\"xvar\":[0.0,1.0,2.0,3.0,4.0,5.0,6.0,7.0,8.0,9.0,10.0,11.0,12.0,13.0,14.0,15.0,16.0,17.0,18.0,19.0]\n",
       "},\n",
       "\"ggsize\":{\n",
       "\"width\":300.0,\n",
       "\"height\":250.0\n",
       "},\n",
       "\"kind\":\"plot\",\n",
       "\"scales\":[{\n",
       "\"aesthetic\":\"x\",\n",
       "\"limits\":[null,null]\n",
       "},{\n",
       "\"aesthetic\":\"y\",\n",
       "\"limits\":[null,null]\n",
       "}],\n",
       "\"layers\":[{\n",
       "\"mapping\":{\n",
       "\"x\":\"xvar\",\n",
       "\"y\":\"yvar\"\n",
       "},\n",
       "\"stat\":\"identity\",\n",
       "\"shape\":1.0,\n",
       "\"sampling\":\"none\",\n",
       "\"position\":\"identity\",\n",
       "\"geom\":\"point\",\n",
       "\"data\":{\n",
       "}\n",
       "}]\n",
       "};\n",
       "           var plotContainer = document.getElementById(\"ACDaxF\");\n",
       "           window.letsPlotCall(function() {{\n",
       "               LetsPlot.buildPlotFromProcessedSpecs(plotSpec, -1, -1, plotContainer);\n",
       "           }});\n",
       "       })();    \n",
       "   </script>"
      ]
     },
     "execution_count": 4,
     "metadata": {},
     "output_type": "execute_result"
    }
   ],
   "source": [
    "plot(data) {\n",
    "    points {\n",
    "        x(xvar)\n",
    "        y(yvar)\n",
    "        symbol = Symbol.CIRCLE_OPEN\n",
    "    }\n",
    "    layout { \n",
    "        size = 300 to 250\n",
    "    }\n",
    "}"
   ]
  },
  {
   "cell_type": "code",
   "execution_count": 5,
   "metadata": {},
   "outputs": [
    {
     "data": {
      "application/plot+json": {
       "apply_color_scheme": true,
       "output": {
        "data": {
         "cond": [
          "A",
          "A",
          "A",
          "A",
          "A",
          "A",
          "A",
          "A",
          "A",
          "A",
          "B",
          "B",
          "B",
          "B",
          "B",
          "B",
          "B",
          "B",
          "B",
          "B"
         ],
         "xvar": [
          0,
          1,
          2,
          3,
          4,
          5,
          6,
          7,
          8,
          9,
          10,
          11,
          12,
          13,
          14,
          15,
          16,
          17,
          18,
          19
         ],
         "yvar": [
          -4.31414792742272,
          2.9025852255330413,
          2.678186038496493,
          3.8323801422104644,
          4.552957466631817,
          3.9043586677544218,
          10.056090493036294,
          8.077708681007955,
          7.384161947842241,
          12.052485955548157,
          14.114693281686685,
          5.329404481450428,
          10.598634211929852,
          10.98677740976943,
          8.96180814139117,
          14.194166026725489,
          15.099984576207884,
          12.734927210327559,
          18.2859058065098,
          17.832111113004313
         ]
        },
        "ggsize": {
         "height": 250,
         "width": 500
        },
        "kind": "plot",
        "layers": [
         {
          "geom": "point",
          "mapping": {
           "color": "cond",
           "shape": "cond",
           "x": "xvar",
           "y": "yvar"
          },
          "position": "identity",
          "sampling": "none",
          "size": 5,
          "stat": "identity"
         }
        ],
        "mapping": {},
        "scales": [
         {
          "aesthetic": "x",
          "limits": [
           null,
           null
          ]
         },
         {
          "aesthetic": "y",
          "limits": [
           null,
           null
          ]
         },
         {
          "aesthetic": "color",
          "discrete": true
         },
         {
          "aesthetic": "shape"
         }
        ]
       },
       "output_type": "lets_plot_spec",
       "swing_enabled": true
      },
      "text/html": [
       "   <div id=\"Xq4eeh\"></div>\n",
       "   <script type=\"text/javascript\" data-lets-plot-script=\"plot\">\n",
       "       (function() {\n",
       "           var plotSpec={\n",
       "\"mapping\":{\n",
       "},\n",
       "\"data\":{\n",
       "\"yvar\":[-4.31414792742272,2.9025852255330413,2.678186038496493,3.8323801422104644,4.552957466631817,3.9043586677544218,10.056090493036294,8.077708681007955,7.384161947842241,12.052485955548157,14.114693281686685,5.329404481450428,10.598634211929852,10.98677740976943,8.96180814139117,14.194166026725489,15.099984576207884,12.734927210327559,18.2859058065098,17.832111113004313],\n",
       "\"xvar\":[0.0,1.0,2.0,3.0,4.0,5.0,6.0,7.0,8.0,9.0,10.0,11.0,12.0,13.0,14.0,15.0,16.0,17.0,18.0,19.0],\n",
       "\"cond\":[\"A\",\"A\",\"A\",\"A\",\"A\",\"A\",\"A\",\"A\",\"A\",\"A\",\"B\",\"B\",\"B\",\"B\",\"B\",\"B\",\"B\",\"B\",\"B\",\"B\"]\n",
       "},\n",
       "\"ggsize\":{\n",
       "\"width\":500.0,\n",
       "\"height\":250.0\n",
       "},\n",
       "\"kind\":\"plot\",\n",
       "\"scales\":[{\n",
       "\"aesthetic\":\"x\",\n",
       "\"limits\":[null,null]\n",
       "},{\n",
       "\"aesthetic\":\"y\",\n",
       "\"limits\":[null,null]\n",
       "},{\n",
       "\"aesthetic\":\"color\",\n",
       "\"discrete\":true\n",
       "},{\n",
       "\"aesthetic\":\"shape\"\n",
       "}],\n",
       "\"layers\":[{\n",
       "\"mapping\":{\n",
       "\"x\":\"xvar\",\n",
       "\"y\":\"yvar\",\n",
       "\"color\":\"cond\",\n",
       "\"shape\":\"cond\"\n",
       "},\n",
       "\"stat\":\"identity\",\n",
       "\"size\":5.0,\n",
       "\"sampling\":\"none\",\n",
       "\"position\":\"identity\",\n",
       "\"geom\":\"point\",\n",
       "\"data\":{\n",
       "}\n",
       "}]\n",
       "};\n",
       "           var plotContainer = document.getElementById(\"Xq4eeh\");\n",
       "           window.letsPlotCall(function() {{\n",
       "               LetsPlot.buildPlotFromProcessedSpecs(plotSpec, -1, -1, plotContainer);\n",
       "           }});\n",
       "       })();    \n",
       "   </script>"
      ]
     },
     "execution_count": 5,
     "metadata": {},
     "output_type": "execute_result"
    }
   ],
   "source": [
    "plot(data) {\n",
    "    points {\n",
    "        x(xvar)\n",
    "        y(yvar)\n",
    "        color(cond)\n",
    "        symbol(cond)\n",
    "        size = 5.0\n",
    "    }\n",
    "    layout { \n",
    "        size = 500 to 250\n",
    "    }\n",
    "}"
   ]
  },
  {
   "cell_type": "code",
   "execution_count": 6,
   "metadata": {},
   "outputs": [
    {
     "data": {
      "application/plot+json": {
       "apply_color_scheme": true,
       "output": {
        "data": {
         "cond": [
          "A",
          "A",
          "A",
          "A",
          "A",
          "A",
          "A",
          "A",
          "A",
          "A",
          "B",
          "B",
          "B",
          "B",
          "B",
          "B",
          "B",
          "B",
          "B",
          "B"
         ],
         "xvar": [
          0,
          1,
          2,
          3,
          4,
          5,
          6,
          7,
          8,
          9,
          10,
          11,
          12,
          13,
          14,
          15,
          16,
          17,
          18,
          19
         ],
         "yvar": [
          -4.31414792742272,
          2.9025852255330413,
          2.678186038496493,
          3.8323801422104644,
          4.552957466631817,
          3.9043586677544218,
          10.056090493036294,
          8.077708681007955,
          7.384161947842241,
          12.052485955548157,
          14.114693281686685,
          5.329404481450428,
          10.598634211929852,
          10.98677740976943,
          8.96180814139117,
          14.194166026725489,
          15.099984576207884,
          12.734927210327559,
          18.2859058065098,
          17.832111113004313
         ]
        },
        "ggsize": {
         "height": 250,
         "width": 500
        },
        "kind": "plot",
        "layers": [
         {
          "geom": "point",
          "mapping": {
           "color": "cond",
           "shape": "cond",
           "x": "xvar",
           "y": "yvar"
          },
          "position": "identity",
          "sampling": "none",
          "size": 5,
          "stat": "identity"
         }
        ],
        "mapping": {},
        "scales": [
         {
          "aesthetic": "x",
          "limits": [
           null,
           null
          ]
         },
         {
          "aesthetic": "y",
          "limits": [
           null,
           null
          ]
         },
         {
          "aesthetic": "color",
          "discrete": true
         },
         {
          "aesthetic": "shape",
          "values": [
           1,
           2
          ]
         }
        ]
       },
       "output_type": "lets_plot_spec",
       "swing_enabled": true
      },
      "text/html": [
       "   <div id=\"tGp7lZ\"></div>\n",
       "   <script type=\"text/javascript\" data-lets-plot-script=\"plot\">\n",
       "       (function() {\n",
       "           var plotSpec={\n",
       "\"mapping\":{\n",
       "},\n",
       "\"data\":{\n",
       "\"yvar\":[-4.31414792742272,2.9025852255330413,2.678186038496493,3.8323801422104644,4.552957466631817,3.9043586677544218,10.056090493036294,8.077708681007955,7.384161947842241,12.052485955548157,14.114693281686685,5.329404481450428,10.598634211929852,10.98677740976943,8.96180814139117,14.194166026725489,15.099984576207884,12.734927210327559,18.2859058065098,17.832111113004313],\n",
       "\"xvar\":[0.0,1.0,2.0,3.0,4.0,5.0,6.0,7.0,8.0,9.0,10.0,11.0,12.0,13.0,14.0,15.0,16.0,17.0,18.0,19.0],\n",
       "\"cond\":[\"A\",\"A\",\"A\",\"A\",\"A\",\"A\",\"A\",\"A\",\"A\",\"A\",\"B\",\"B\",\"B\",\"B\",\"B\",\"B\",\"B\",\"B\",\"B\",\"B\"]\n",
       "},\n",
       "\"ggsize\":{\n",
       "\"width\":500.0,\n",
       "\"height\":250.0\n",
       "},\n",
       "\"kind\":\"plot\",\n",
       "\"scales\":[{\n",
       "\"aesthetic\":\"x\",\n",
       "\"limits\":[null,null]\n",
       "},{\n",
       "\"aesthetic\":\"y\",\n",
       "\"limits\":[null,null]\n",
       "},{\n",
       "\"aesthetic\":\"color\",\n",
       "\"discrete\":true\n",
       "},{\n",
       "\"aesthetic\":\"shape\",\n",
       "\"values\":[1.0,2.0]\n",
       "}],\n",
       "\"layers\":[{\n",
       "\"mapping\":{\n",
       "\"x\":\"xvar\",\n",
       "\"y\":\"yvar\",\n",
       "\"color\":\"cond\",\n",
       "\"shape\":\"cond\"\n",
       "},\n",
       "\"stat\":\"identity\",\n",
       "\"size\":5.0,\n",
       "\"sampling\":\"none\",\n",
       "\"position\":\"identity\",\n",
       "\"geom\":\"point\",\n",
       "\"data\":{\n",
       "}\n",
       "}]\n",
       "};\n",
       "           var plotContainer = document.getElementById(\"tGp7lZ\");\n",
       "           window.letsPlotCall(function() {{\n",
       "               LetsPlot.buildPlotFromProcessedSpecs(plotSpec, -1, -1, plotContainer);\n",
       "           }});\n",
       "       })();    \n",
       "   </script>"
      ]
     },
     "execution_count": 6,
     "metadata": {},
     "output_type": "execute_result"
    }
   ],
   "source": [
    "plot(data) {\n",
    "    points {\n",
    "        x(xvar)\n",
    "        y(yvar)\n",
    "        color(cond)\n",
    "        symbol(cond) {\n",
    "            scale = categorical(range = listOf(Symbol.CIRCLE_OPEN, Symbol.TRIANGLE_OPEN))\n",
    "        }\n",
    "        size = 5.0\n",
    "    }\n",
    "    layout { \n",
    "        size = 500 to 250\n",
    "    }\n",
    "}"
   ]
  },
  {
   "cell_type": "markdown",
   "metadata": {},
   "source": [
    "#### Handling overplotting"
   ]
  },
  {
   "cell_type": "code",
   "execution_count": 7,
   "metadata": {},
   "outputs": [],
   "source": [
    "// Create data with overlapping points.\n",
    "val data1 = mapOf(\n",
    "        \"xvar\" to (data[\"xvar\"] as List<Double>).map { (it / 5).toInt() * 5 },\n",
    "        \"yvar\" to (data[\"yvar\"] as List<Double>).map { (it / 5).toInt() * 5 },\n",
    "    )"
   ]
  },
  {
   "cell_type": "code",
   "execution_count": 8,
   "metadata": {},
   "outputs": [
    {
     "data": {
      "application/plot+json": {
       "apply_color_scheme": true,
       "output": {
        "data": {
         "xvar": [
          0,
          0,
          0,
          0,
          0,
          5,
          5,
          5,
          5,
          5,
          10,
          10,
          10,
          10,
          10,
          15,
          15,
          15,
          15,
          15
         ],
         "yvar": [
          0,
          0,
          0,
          0,
          0,
          0,
          10,
          5,
          5,
          10,
          10,
          5,
          10,
          10,
          5,
          10,
          15,
          10,
          15,
          15
         ]
        },
        "ggsize": {
         "height": 250,
         "width": 500
        },
        "kind": "plot",
        "layers": [
         {
          "alpha": 0.3,
          "geom": "point",
          "mapping": {
           "x": "xvar",
           "y": "yvar"
          },
          "position": "identity",
          "sampling": "none",
          "size": 7,
          "stat": "identity"
         }
        ],
        "mapping": {},
        "scales": [
         {
          "aesthetic": "x",
          "breaks": [
           0,
           5,
           10,
           15
          ],
          "limits": [
           null,
           null
          ]
         },
         {
          "aesthetic": "y",
          "limits": [
           null,
           null
          ]
         }
        ]
       },
       "output_type": "lets_plot_spec",
       "swing_enabled": true
      },
      "text/html": [
       "   <div id=\"dBDgTA\"></div>\n",
       "   <script type=\"text/javascript\" data-lets-plot-script=\"plot\">\n",
       "       (function() {\n",
       "           var plotSpec={\n",
       "\"mapping\":{\n",
       "},\n",
       "\"data\":{\n",
       "\"yvar\":[0.0,0.0,0.0,0.0,0.0,0.0,10.0,5.0,5.0,10.0,10.0,5.0,10.0,10.0,5.0,10.0,15.0,10.0,15.0,15.0],\n",
       "\"xvar\":[0.0,0.0,0.0,0.0,0.0,5.0,5.0,5.0,5.0,5.0,10.0,10.0,10.0,10.0,10.0,15.0,15.0,15.0,15.0,15.0]\n",
       "},\n",
       "\"ggsize\":{\n",
       "\"width\":500.0,\n",
       "\"height\":250.0\n",
       "},\n",
       "\"kind\":\"plot\",\n",
       "\"scales\":[{\n",
       "\"aesthetic\":\"x\",\n",
       "\"breaks\":[0.0,5.0,10.0,15.0],\n",
       "\"limits\":[null,null]\n",
       "},{\n",
       "\"aesthetic\":\"y\",\n",
       "\"limits\":[null,null]\n",
       "}],\n",
       "\"layers\":[{\n",
       "\"mapping\":{\n",
       "\"x\":\"xvar\",\n",
       "\"y\":\"yvar\"\n",
       "},\n",
       "\"stat\":\"identity\",\n",
       "\"size\":7.0,\n",
       "\"sampling\":\"none\",\n",
       "\"alpha\":0.3,\n",
       "\"position\":\"identity\",\n",
       "\"geom\":\"point\",\n",
       "\"data\":{\n",
       "}\n",
       "}]\n",
       "};\n",
       "           var plotContainer = document.getElementById(\"dBDgTA\");\n",
       "           window.letsPlotCall(function() {{\n",
       "               LetsPlot.buildPlotFromProcessedSpecs(plotSpec, -1, -1, plotContainer);\n",
       "           }});\n",
       "       })();    \n",
       "   </script>"
      ]
     },
     "execution_count": 8,
     "metadata": {},
     "output_type": "execute_result"
    }
   ],
   "source": [
    "plot(data1) {\n",
    "    points {\n",
    "        x(xvar) {\n",
    "            axis.breaks(listOf(0, 5, 10, 15))\n",
    "        }\n",
    "        y(\"yvar\"<Int>())\n",
    "        alpha = .3\n",
    "        size = 7.0\n",
    "    }\n",
    "    layout { \n",
    "        size = 500 to 250\n",
    "    }\n",
    "}"
   ]
  },
  {
   "cell_type": "code",
   "execution_count": 9,
   "metadata": {},
   "outputs": [
    {
     "data": {
      "application/plot+json": {
       "apply_color_scheme": true,
       "output": {
        "data": {
         "xvar": [
          0,
          0,
          0,
          0,
          0,
          5,
          5,
          5,
          5,
          5,
          10,
          10,
          10,
          10,
          10,
          15,
          15,
          15,
          15,
          15
         ],
         "yvar": [
          0,
          0,
          0,
          0,
          0,
          0,
          10,
          5,
          5,
          10,
          10,
          5,
          10,
          10,
          5,
          10,
          15,
          10,
          15,
          15
         ]
        },
        "ggsize": {
         "height": 250,
         "width": 500
        },
        "kind": "plot",
        "layers": [
         {
          "geom": "point",
          "mapping": {
           "x": "xvar",
           "y": "yvar"
          },
          "position": {
           "height": 0.1,
           "name": "jitter",
           "width": 0.1
          },
          "sampling": "none",
          "shape": 1,
          "stat": "identity"
         }
        ],
        "mapping": {},
        "scales": [
         {
          "aesthetic": "x",
          "breaks": [
           0,
           5,
           10,
           15
          ],
          "limits": [
           null,
           null
          ]
         },
         {
          "aesthetic": "y",
          "limits": [
           null,
           null
          ]
         }
        ]
       },
       "output_type": "lets_plot_spec",
       "swing_enabled": true
      },
      "text/html": [
       "   <div id=\"fyu4fp\"></div>\n",
       "   <script type=\"text/javascript\" data-lets-plot-script=\"plot\">\n",
       "       (function() {\n",
       "           var plotSpec={\n",
       "\"mapping\":{\n",
       "},\n",
       "\"data\":{\n",
       "\"yvar\":[0.0,0.0,0.0,0.0,0.0,0.0,10.0,5.0,5.0,10.0,10.0,5.0,10.0,10.0,5.0,10.0,15.0,10.0,15.0,15.0],\n",
       "\"xvar\":[0.0,0.0,0.0,0.0,0.0,5.0,5.0,5.0,5.0,5.0,10.0,10.0,10.0,10.0,10.0,15.0,15.0,15.0,15.0,15.0]\n",
       "},\n",
       "\"ggsize\":{\n",
       "\"width\":500.0,\n",
       "\"height\":250.0\n",
       "},\n",
       "\"kind\":\"plot\",\n",
       "\"scales\":[{\n",
       "\"aesthetic\":\"x\",\n",
       "\"breaks\":[0.0,5.0,10.0,15.0],\n",
       "\"limits\":[null,null]\n",
       "},{\n",
       "\"aesthetic\":\"y\",\n",
       "\"limits\":[null,null]\n",
       "}],\n",
       "\"layers\":[{\n",
       "\"mapping\":{\n",
       "\"x\":\"xvar\",\n",
       "\"y\":\"yvar\"\n",
       "},\n",
       "\"stat\":\"identity\",\n",
       "\"shape\":1.0,\n",
       "\"sampling\":\"none\",\n",
       "\"position\":{\n",
       "\"name\":\"jitter\",\n",
       "\"width\":0.1,\n",
       "\"height\":0.1\n",
       "},\n",
       "\"geom\":\"point\",\n",
       "\"data\":{\n",
       "}\n",
       "}]\n",
       "};\n",
       "           var plotContainer = document.getElementById(\"fyu4fp\");\n",
       "           window.letsPlotCall(function() {{\n",
       "               LetsPlot.buildPlotFromProcessedSpecs(plotSpec, -1, -1, plotContainer);\n",
       "           }});\n",
       "       })();    \n",
       "   </script>"
      ]
     },
     "execution_count": 9,
     "metadata": {},
     "output_type": "execute_result"
    }
   ],
   "source": [
    "plot(data1) {\n",
    "    points {\n",
    "        x(xvar) {\n",
    "            axis.breaks(listOf(0, 5, 10, 15))\n",
    "        }\n",
    "        y(\"yvar\"<Int>())\n",
    "        symbol = Symbol.CIRCLE_OPEN\n",
    "        \n",
    "        position = Position.Jitter(.1, .1)\n",
    "    }\n",
    "    layout { \n",
    "        size = 500 to 250\n",
    "    }\n",
    "}"
   ]
  }
 ],
 "metadata": {
  "kernelspec": {
   "display_name": "Kotlin",
   "language": "kotlin",
   "name": "kotlin"
  },
  "language_info": {
   "codemirror_mode": "text/x-kotlin",
   "file_extension": ".kt",
   "mimetype": "text/x-kotlin",
   "name": "kotlin",
   "nbconvert_exporter": "",
   "pygments_lexer": "kotlin",
   "version": "1.8.20-Beta"
  }
 },
 "nbformat": 4,
 "nbformat_minor": 4
}
