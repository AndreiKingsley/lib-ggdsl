{
 "cells": [
  {
   "cell_type": "code",
   "execution_count": 1,
   "metadata": {
    "ExecuteTime": {
     "end_time": "2023-06-02T10:01:11.810409Z",
     "start_time": "2023-06-02T10:00:58.128792Z"
    }
   },
   "outputs": [
    {
     "data": {
      "text/plain": ""
     },
     "metadata": {},
     "output_type": "display_data"
    },
    {
     "data": {
      "text/html": "            <div id=\"kotlin_out_0\"/>\n            <script type=\"text/javascript\">\n                            if(!window.kotlinQueues) {\n                window.kotlinQueues = {};\n            }\n            if(!window.kotlinQueues[\"kandyLetsPlot\"]) {\n                var resQueue = [];\n                window.kotlinQueues[\"kandyLetsPlot\"] = resQueue;\n                window[\"call_kandyLetsPlot\"] = function(f) {\n                    resQueue.push(f);\n                }\n            }\n            (function (){\n                var modifiers = [(function(script) {\n    script.src = \"https://cdn.jsdelivr.net/gh/JetBrains/lets-plot@v3.1.0/js-package/distr/lets-plot.min.js\"\n    script.type = \"text/javascript\";\n})];\n                var e = document.getElementById(\"kotlin_out_0\");\n                modifiers.forEach(function (gen) {\n                    var script = document.createElement(\"script\");\n                    gen(script)\n                    script.addEventListener(\"load\", function() {\n                        window[\"call_kandyLetsPlot\"] = function(f) {f();};\n                        window.kotlinQueues[\"kandyLetsPlot\"].forEach(function(f) {f();});\n                        window.kotlinQueues[\"kandyLetsPlot\"] = [];\n                    }, false);\n                    script.addEventListener(\"error\", function() {\n                        window[\"call_kandyLetsPlot\"] = function(f) {};\n                        window.kotlinQueues[\"kandyLetsPlot\"] = [];\n                        var div = document.createElement(\"div\");\n                        div.style.color = 'darkred';\n                        div.textContent = 'Error loading resource kandyLetsPlot';\n                        document.getElementById(\"kotlin_out_0\").appendChild(div);\n                    }, false);\n                    \n                    e.appendChild(script);\n                });\n            })();\n            </script>"
     },
     "metadata": {},
     "output_type": "display_data"
    }
   ],
   "source": [
    "%use kandy(0.4.3)\n",
    "%use dataframe(0.10.1)\n",
    "import java.util.Random"
   ]
  },
  {
   "cell_type": "code",
   "execution_count": 2,
   "metadata": {
    "ExecuteTime": {
     "end_time": "2023-06-02T10:01:12.441146Z",
     "start_time": "2023-06-02T10:01:11.806911Z"
    }
   },
   "outputs": [],
   "source": [
    "// This example was found at: \n",
    "// www.cookbook-r.com/Graphs/Scatterplots_(ggplot2)\n",
    "\n",
    "val rand = java.util.Random(123)\n",
    "val n = 20\n",
    "val data = mapOf<String, List<Any>>(\n",
    "    \"cond\" to List(n / 2) { \"A\" } + List(n / 2) { \"B\" },\n",
    "    \"xvar\" to List(n) { i:Int-> i }, \n",
    "    \"yvar\" to List(n) { i:Int-> i + rand.nextGaussian() * 3 }\n",
    ")"
   ]
  },
  {
   "cell_type": "code",
   "execution_count": 3,
   "metadata": {
    "ExecuteTime": {
     "end_time": "2023-06-02T10:01:12.527965Z",
     "start_time": "2023-06-02T10:01:12.441942Z"
    }
   },
   "outputs": [],
   "source": [
    "val cond = \"cond\"<String>()\n",
    "val xvar = \"xvar\"<Int>()\n",
    "val yvar = \"yvar\"<Double>()"
   ]
  },
  {
   "cell_type": "markdown",
   "metadata": {},
   "source": [
    "#### Basic scatter plot"
   ]
  },
  {
   "cell_type": "code",
   "execution_count": 4,
   "metadata": {
    "ExecuteTime": {
     "end_time": "2023-06-02T10:01:12.992023Z",
     "start_time": "2023-06-02T10:01:12.529484Z"
    }
   },
   "outputs": [
    {
     "data": {
      "text/html": "            <script type=\"text/javascript\" data-lets-plot-script=\"library\" src=\"https://cdn.jsdelivr.net/gh/JetBrains/lets-plot@v3.1.0/js-package/distr/lets-plot.min.js\"></script>    \n               <div id=\"x3tPYW\"></div>\n   <script type=\"text/javascript\" data-lets-plot-script=\"plot\">\n       var plotSpec={\n\"mapping\":{\n},\n\"data\":{\n\"yvar\":[-4.31414792742272,2.9025852255330413,2.678186038496493,3.8323801422104644,4.552957466631817,3.9043586677544218,10.056090493036294,8.077708681007955,7.384161947842241,12.052485955548157,14.114693281686685,5.329404481450428,10.598634211929852,10.98677740976943,8.96180814139117,14.194166026725489,15.099984576207884,12.734927210327559,18.2859058065098,17.832111113004313],\n\"xvar\":[0.0,1.0,2.0,3.0,4.0,5.0,6.0,7.0,8.0,9.0,10.0,11.0,12.0,13.0,14.0,15.0,16.0,17.0,18.0,19.0]\n},\n\"ggsize\":{\n\"width\":300.0,\n\"height\":250.0\n},\n\"kind\":\"plot\",\n\"scales\":[{\n\"aesthetic\":\"x\",\n\"limits\":[null,null]\n},{\n\"aesthetic\":\"y\",\n\"limits\":[null,null]\n}],\n\"layers\":[{\n\"mapping\":{\n\"x\":\"xvar\",\n\"y\":\"yvar\"\n},\n\"stat\":\"identity\",\n\"shape\":1.0,\n\"sampling\":\"none\",\n\"position\":\"identity\",\n\"geom\":\"point\",\n\"data\":{\n}\n}]\n};\n       var plotContainer = document.getElementById(\"x3tPYW\");\n       LetsPlot.buildPlotFromProcessedSpecs(plotSpec, -1, -1, plotContainer);\n   </script>            \n        <svg id=f8ac7578-3f8e-43c8-b863-671315691d67 xmlns=\"http://www.w3.org/2000/svg\" xmlns:xlink=\"http://www.w3.org/1999/xlink\" class=\"plt-container\" width=\"300.0\" height=\"250.0\">\n  <style type=\"text/css\">\n  .plt-container {\n   font-family: Lucida Grande, sans-serif;\n   user-select: none;\n   -webkit-user-select: none;\n   -moz-user-select: none;\n   -ms-user-select: none;\n}\ntext {\n   text-rendering: optimizeLegibility;\n}\n#p3VglRr .plot-title {\n   fill: #474747;\n   font-family: Lucida Grande, sans-serif;\n   font-size: 16.0px;\n   font-weight: normal;\n   font-style: normal;   \n}\n#p3VglRr .plot-subtitle {\n   fill: #474747;\n   font-family: Lucida Grande, sans-serif;\n   font-size: 15.0px;\n   font-weight: normal;\n   font-style: normal;   \n}\n#p3VglRr .plot-caption {\n   fill: #474747;\n   font-family: Lucida Grande, sans-serif;\n   font-size: 13.0px;\n   font-weight: normal;\n   font-style: normal;   \n}\n#p3VglRr .legend-title {\n   fill: #474747;\n   font-family: Lucida Grande, sans-serif;\n   font-size: 15.0px;\n   font-weight: normal;\n   font-style: normal;   \n}\n#p3VglRr .legend-item {\n   fill: #474747;\n   font-family: Lucida Grande, sans-serif;\n   font-size: 13.0px;\n   font-weight: normal;\n   font-style: normal;   \n}\n#p3VglRr .axis-title-x {\n   fill: #474747;\n   font-family: Lucida Grande, sans-serif;\n   font-size: 15.0px;\n   font-weight: normal;\n   font-style: normal;   \n}\n#p3VglRr .axis-text-x {\n   fill: #474747;\n   font-family: Lucida Grande, sans-serif;\n   font-size: 13.0px;\n   font-weight: normal;\n   font-style: normal;   \n}\n#dyIMT32 .axis-tooltip-text-x {\n   fill: #ffffff;\n   font-family: Lucida Grande, sans-serif;\n   font-size: 13.0px;\n   font-weight: normal;\n   font-style: normal;   \n}\n#p3VglRr .axis-title-y {\n   fill: #474747;\n   font-family: Lucida Grande, sans-serif;\n   font-size: 15.0px;\n   font-weight: normal;\n   font-style: normal;   \n}\n#p3VglRr .axis-text-y {\n   fill: #474747;\n   font-family: Lucida Grande, sans-serif;\n   font-size: 13.0px;\n   font-weight: normal;\n   font-style: normal;   \n}\n#dyIMT32 .axis-tooltip-text-y {\n   fill: #ffffff;\n   font-family: Lucida Grande, sans-serif;\n   font-size: 13.0px;\n   font-weight: normal;\n   font-style: normal;   \n}\n#p3VglRr .facet-strip-text-x {\n   fill: #474747;\n   font-family: Lucida Grande, sans-serif;\n   font-size: 13.0px;\n   font-weight: normal;\n   font-style: normal;   \n}\n#p3VglRr .facet-strip-text-y {\n   fill: #474747;\n   font-family: Lucida Grande, sans-serif;\n   font-size: 13.0px;\n   font-weight: normal;\n   font-style: normal;   \n}\n#dyIMT32 .tooltip-text {\n   fill: #474747;\n   font-family: Lucida Grande, sans-serif;\n   font-size: 13.0px;\n   font-weight: normal;\n   font-style: normal;   \n}\n#dyIMT32 .tooltip-title {\n   fill: #474747;\n   font-family: Lucida Grande, sans-serif;\n   font-size: 13.0px;\n   font-weight: bold;\n   font-style: normal;   \n}\n#dyIMT32 .tooltip-label {\n   fill: #474747;\n   font-family: Lucida Grande, sans-serif;\n   font-size: 13.0px;\n   font-weight: bold;\n   font-style: normal;   \n}\n\n  </style>\n  <g id=\"p3VglRr\">\n    <rect x=\"0.0\" y=\"0.0\" height=\"250.0\" width=\"300.0\" stroke=\"rgb(71,71,71)\" stroke-opacity=\"1.0\" stroke-width=\"0.0\" fill=\"rgb(255,255,255)\" fill-opacity=\"1.0\">\n    </rect>\n    <g transform=\"translate(23.0 10.0 ) \">\n      <g transform=\"translate(21.961210910936405 194.0 ) \">\n        <line x1=\"11.138126776775618\" y1=\"-0.0\" x2=\"11.138126776775618\" y2=\"-194.0\" stroke=\"rgb(233,233,233)\" stroke-opacity=\"1.0\" stroke-width=\"1.0\">\n        </line>\n        <line x1=\"69.75984665454203\" y1=\"-0.0\" x2=\"69.75984665454203\" y2=\"-194.0\" stroke=\"rgb(233,233,233)\" stroke-opacity=\"1.0\" stroke-width=\"1.0\">\n        </line>\n        <line x1=\"128.38156653230843\" y1=\"-0.0\" x2=\"128.38156653230843\" y2=\"-194.0\" stroke=\"rgb(233,233,233)\" stroke-opacity=\"1.0\" stroke-width=\"1.0\">\n        </line>\n        <line x1=\"187.00328641007485\" y1=\"-0.0\" x2=\"187.00328641007485\" y2=\"-194.0\" stroke=\"rgb(233,233,233)\" stroke-opacity=\"1.0\" stroke-width=\"1.0\">\n        </line>\n        <g transform=\"translate(11.138126776775618 0.0 ) \">\n          <line stroke-width=\"1.0\" stroke=\"rgb(71,71,71)\" stroke-opacity=\"1.0\" x2=\"0.0\" y2=\"4.0\">\n          </line>\n          <g transform=\"translate(0.0 7.0 ) \">\n            <text class=\"axis-text-x\" text-anchor=\"middle\" dy=\"0.7em\">\n            0\n            </text>\n          </g>\n        </g>\n        <g transform=\"translate(69.75984665454203 0.0 ) \">\n          <line stroke-width=\"1.0\" stroke=\"rgb(71,71,71)\" stroke-opacity=\"1.0\" x2=\"0.0\" y2=\"4.0\">\n          </line>\n          <g transform=\"translate(0.0 7.0 ) \">\n            <text class=\"axis-text-x\" text-anchor=\"middle\" dy=\"0.7em\">\n            5\n            </text>\n          </g>\n        </g>\n        <g transform=\"translate(128.38156653230843 0.0 ) \">\n          <line stroke-width=\"1.0\" stroke=\"rgb(71,71,71)\" stroke-opacity=\"1.0\" x2=\"0.0\" y2=\"4.0\">\n          </line>\n          <g transform=\"translate(0.0 7.0 ) \">\n            <text class=\"axis-text-x\" text-anchor=\"middle\" dy=\"0.7em\">\n            10\n            </text>\n          </g>\n        </g>\n        <g transform=\"translate(187.00328641007485 0.0 ) \">\n          <line stroke-width=\"1.0\" stroke=\"rgb(71,71,71)\" stroke-opacity=\"1.0\" x2=\"0.0\" y2=\"4.0\">\n          </line>\n          <g transform=\"translate(0.0 7.0 ) \">\n            <text class=\"axis-text-x\" text-anchor=\"middle\" dy=\"0.7em\">\n            15\n            </text>\n          </g>\n        </g>\n        <line x1=\"0.0\" y1=\"0.0\" x2=\"245.03878908906358\" y2=\"0.0\" stroke-width=\"1.0\" stroke=\"rgb(71,71,71)\" stroke-opacity=\"1.0\">\n        </line>\n      </g>\n      <g transform=\"translate(21.961210910936405 0.0 ) \">\n        <line x1=\"0.0\" y1=\"151.51557892201782\" x2=\"245.03878908906358\" y2=\"151.51557892201782\" stroke=\"rgb(233,233,233)\" stroke-opacity=\"1.0\" stroke-width=\"1.0\">\n        </line>\n        <line x1=\"0.0\" y1=\"112.49716807221577\" x2=\"245.03878908906358\" y2=\"112.49716807221577\" stroke=\"rgb(233,233,233)\" stroke-opacity=\"1.0\" stroke-width=\"1.0\">\n        </line>\n        <line x1=\"0.0\" y1=\"73.47875722241372\" x2=\"245.03878908906358\" y2=\"73.47875722241372\" stroke=\"rgb(233,233,233)\" stroke-opacity=\"1.0\" stroke-width=\"1.0\">\n        </line>\n        <line x1=\"0.0\" y1=\"34.46034637261167\" x2=\"245.03878908906358\" y2=\"34.46034637261167\" stroke=\"rgb(233,233,233)\" stroke-opacity=\"1.0\" stroke-width=\"1.0\">\n        </line>\n        <g transform=\"translate(0.0 190.53398977181988 ) \">\n          <g transform=\"translate(-3.0 0.0 ) \">\n            <text class=\"axis-text-y\" text-anchor=\"end\" dy=\"0.35em\">\n            -5\n            </text>\n          </g>\n        </g>\n        <g transform=\"translate(0.0 151.51557892201782 ) \">\n          <g transform=\"translate(-3.0 0.0 ) \">\n            <text class=\"axis-text-y\" text-anchor=\"end\" dy=\"0.35em\">\n            0\n            </text>\n          </g>\n        </g>\n        <g transform=\"translate(0.0 112.49716807221577 ) \">\n          <g transform=\"translate(-3.0 0.0 ) \">\n            <text class=\"axis-text-y\" text-anchor=\"end\" dy=\"0.35em\">\n            5\n            </text>\n          </g>\n        </g>\n        <g transform=\"translate(0.0 73.47875722241372 ) \">\n          <g transform=\"translate(-3.0 0.0 ) \">\n            <text class=\"axis-text-y\" text-anchor=\"end\" dy=\"0.35em\">\n            10\n            </text>\n          </g>\n        </g>\n        <g transform=\"translate(0.0 34.46034637261167 ) \">\n          <g transform=\"translate(-3.0 0.0 ) \">\n            <text class=\"axis-text-y\" text-anchor=\"end\" dy=\"0.35em\">\n            15\n            </text>\n          </g>\n        </g>\n      </g>\n      <g transform=\"translate(21.961210910936405 0.0 ) \" clip-path=\"url(#cRnhn4R)\" clip-bounds-jfx=\"[rect (0.0, 0.0), (245.03878908906358, 194.0)]\">\n        <defs>\n          <clipPath id=\"cRnhn4R\">\n            <rect x=\"0.0\" y=\"0.0\" width=\"245.03878908906358\" height=\"194.0\">\n            </rect>\n          </clipPath>\n        </defs>\n        <g>\n          \n          <g >\n            <circle fill=\"#000000\" fill-opacity=\"0.0\" stroke=\"#118ed8\" stroke-width=\"0.55\" cx=\"11.138126776775618\" cy=\"185.18181818181816\" r=\"2.475\" />\n            <circle fill=\"#000000\" fill-opacity=\"0.0\" stroke=\"#118ed8\" stroke-width=\"0.55\" cx=\"22.8624707523289\" cy=\"128.8647263507351\" r=\"2.475\" />\n            <circle fill=\"#000000\" fill-opacity=\"0.0\" stroke=\"#118ed8\" stroke-width=\"0.55\" cx=\"34.586814727882185\" cy=\"130.61586628556583\" r=\"2.475\" />\n            <circle fill=\"#000000\" fill-opacity=\"0.0\" stroke=\"#118ed8\" stroke-width=\"0.55\" cx=\"46.31115870343547\" cy=\"121.60890233773968\" r=\"2.475\" />\n            <circle fill=\"#000000\" fill-opacity=\"0.0\" stroke=\"#118ed8\" stroke-width=\"0.55\" cx=\"58.03550267898875\" cy=\"115.98574591907499\" r=\"2.475\" />\n            <circle fill=\"#000000\" fill-opacity=\"0.0\" stroke=\"#118ed8\" stroke-width=\"0.55\" cx=\"69.75984665454203\" cy=\"121.04720480133226\" r=\"2.475\" />\n            <circle fill=\"#000000\" fill-opacity=\"0.0\" stroke=\"#118ed8\" stroke-width=\"0.55\" cx=\"81.48419063009531\" cy=\"73.04104484200211\" r=\"2.475\" />\n            <circle fill=\"#000000\" fill-opacity=\"0.0\" stroke=\"#118ed8\" stroke-width=\"0.55\" cx=\"93.2085346056486\" cy=\"88.47970771390162\" r=\"2.475\" />\n            <circle fill=\"#000000\" fill-opacity=\"0.0\" stroke=\"#118ed8\" stroke-width=\"0.55\" cx=\"104.93287858120188\" cy=\"93.89192598954119\" r=\"2.475\" />\n            <circle fill=\"#000000\" fill-opacity=\"0.0\" stroke=\"#118ed8\" stroke-width=\"0.55\" cx=\"116.65722255675516\" cy=\"57.46180916700841\" r=\"2.475\" />\n            <circle fill=\"#000000\" fill-opacity=\"0.0\" stroke=\"#118ed8\" stroke-width=\"0.55\" cx=\"128.38156653230843\" cy=\"41.36899862525944\" r=\"2.475\" />\n            <circle fill=\"#000000\" fill-opacity=\"0.0\" stroke=\"#118ed8\" stroke-width=\"0.55\" cx=\"140.10591050786172\" cy=\"109.92660019361601\" r=\"2.475\" />\n            <circle fill=\"#000000\" fill-opacity=\"0.0\" stroke=\"#118ed8\" stroke-width=\"0.55\" cx=\"151.830254483415\" cy=\"68.80720609644843\" r=\"2.475\" />\n            <circle fill=\"#000000\" fill-opacity=\"0.0\" stroke=\"#118ed8\" stroke-width=\"0.55\" cx=\"163.55459845896826\" cy=\"65.7782599440763\" r=\"2.475\" />\n            <circle fill=\"#000000\" fill-opacity=\"0.0\" stroke=\"#118ed8\" stroke-width=\"0.55\" cx=\"175.27894243452155\" cy=\"81.58047651843751\" r=\"2.475\" />\n            <circle fill=\"#000000\" fill-opacity=\"0.0\" stroke=\"#118ed8\" stroke-width=\"0.55\" cx=\"187.00328641007485\" cy=\"40.748818581802325\" r=\"2.475\" />\n            <circle fill=\"#000000\" fill-opacity=\"0.0\" stroke=\"#118ed8\" stroke-width=\"0.55\" cx=\"198.72763038562812\" cy=\"33.68009851798715\" r=\"2.475\" />\n            <circle fill=\"#000000\" fill-opacity=\"0.0\" stroke=\"#118ed8\" stroke-width=\"0.55\" cx=\"210.45197436118139\" cy=\"52.13625451504099\" r=\"2.475\" />\n            <circle fill=\"#000000\" fill-opacity=\"0.0\" stroke=\"#118ed8\" stroke-width=\"0.55\" cx=\"222.17631833673468\" cy=\"8.818181818181756\" r=\"2.475\" />\n            <circle fill=\"#000000\" fill-opacity=\"0.0\" stroke=\"#118ed8\" stroke-width=\"0.55\" cx=\"233.90066231228798\" cy=\"12.359451376713167\" r=\"2.475\" />\n          </g>\n        </g>\n      </g>\n    </g>\n    <g transform=\"translate(14.5 107.0 ) rotate(-90.0 ) \">\n      <text class=\"axis-title-y\" y=\"0.0\" text-anchor=\"middle\">\n      yvar\n      </text>\n    </g>\n    <g transform=\"translate(167.4806054554682 241.5 ) \">\n      <text class=\"axis-title-x\" y=\"0.0\" text-anchor=\"middle\">\n      xvar\n      </text>\n    </g>\n  </g>\n  <g id=\"dyIMT32\">\n  </g>\n</svg>\n        <script>document.getElementById(\"f8ac7578-3f8e-43c8-b863-671315691d67\").style.display = \"none\";</script>",
      "application/plot+json": {
       "output_type": "lets_plot_spec",
       "output": {
        "mapping": {},
        "data": {
         "yvar": [
          -4.314148,
          2.9025853,
          2.678186,
          3.83238,
          4.5529575,
          3.9043586,
          10.05609,
          8.077708,
          7.384162,
          12.052486,
          14.114694,
          5.3294044,
          10.598634,
          10.986777,
          8.961808,
          14.194166,
          15.099984,
          12.734927,
          18.285906,
          17.832111
         ],
         "xvar": [
          0.0,
          1.0,
          2.0,
          3.0,
          4.0,
          5.0,
          6.0,
          7.0,
          8.0,
          9.0,
          10.0,
          11.0,
          12.0,
          13.0,
          14.0,
          15.0,
          16.0,
          17.0,
          18.0,
          19.0
         ]
        },
        "ggsize": {
         "width": 300.0,
         "height": 250.0
        },
        "kind": "plot",
        "scales": [
         {
          "aesthetic": "x",
          "limits": [
           null,
           null
          ]
         },
         {
          "aesthetic": "y",
          "limits": [
           null,
           null
          ]
         }
        ],
        "layers": [
         {
          "mapping": {
           "x": "xvar",
           "y": "yvar"
          },
          "stat": "identity",
          "shape": 1.0,
          "sampling": "none",
          "position": "identity",
          "geom": "point"
         }
        ]
       },
       "apply_color_scheme": true,
       "swing_enabled": true
      }
     },
     "execution_count": 4,
     "metadata": {},
     "output_type": "execute_result"
    }
   ],
   "source": [
    "plot(data) {\n",
    "    points {\n",
    "        x(xvar)\n",
    "        y(yvar)\n",
    "        symbol = Symbol.CIRCLE_OPEN\n",
    "    }\n",
    "    layout { \n",
    "        size = 300 to 250\n",
    "    }\n",
    "}"
   ]
  },
  {
   "cell_type": "code",
   "execution_count": 5,
   "metadata": {
    "ExecuteTime": {
     "end_time": "2023-06-02T10:01:13.202274Z",
     "start_time": "2023-06-02T10:01:12.992268Z"
    }
   },
   "outputs": [
    {
     "data": {
      "text/html": "            <script type=\"text/javascript\" data-lets-plot-script=\"library\" src=\"https://cdn.jsdelivr.net/gh/JetBrains/lets-plot@v3.1.0/js-package/distr/lets-plot.min.js\"></script>    \n               <div id=\"P0HRJR\"></div>\n   <script type=\"text/javascript\" data-lets-plot-script=\"plot\">\n       var plotSpec={\n\"mapping\":{\n},\n\"data\":{\n\"yvar\":[-4.31414792742272,2.9025852255330413,2.678186038496493,3.8323801422104644,4.552957466631817,3.9043586677544218,10.056090493036294,8.077708681007955,7.384161947842241,12.052485955548157,14.114693281686685,5.329404481450428,10.598634211929852,10.98677740976943,8.96180814139117,14.194166026725489,15.099984576207884,12.734927210327559,18.2859058065098,17.832111113004313],\n\"xvar\":[0.0,1.0,2.0,3.0,4.0,5.0,6.0,7.0,8.0,9.0,10.0,11.0,12.0,13.0,14.0,15.0,16.0,17.0,18.0,19.0],\n\"cond\":[\"A\",\"A\",\"A\",\"A\",\"A\",\"A\",\"A\",\"A\",\"A\",\"A\",\"B\",\"B\",\"B\",\"B\",\"B\",\"B\",\"B\",\"B\",\"B\",\"B\"]\n},\n\"ggsize\":{\n\"width\":500.0,\n\"height\":250.0\n},\n\"kind\":\"plot\",\n\"scales\":[{\n\"aesthetic\":\"x\",\n\"limits\":[null,null]\n},{\n\"aesthetic\":\"y\",\n\"limits\":[null,null]\n},{\n\"aesthetic\":\"color\",\n\"discrete\":true\n},{\n\"aesthetic\":\"shape\"\n}],\n\"layers\":[{\n\"mapping\":{\n\"x\":\"xvar\",\n\"y\":\"yvar\",\n\"color\":\"cond\",\n\"shape\":\"cond\"\n},\n\"stat\":\"identity\",\n\"size\":5.0,\n\"sampling\":\"none\",\n\"position\":\"identity\",\n\"geom\":\"point\",\n\"data\":{\n}\n}]\n};\n       var plotContainer = document.getElementById(\"P0HRJR\");\n       LetsPlot.buildPlotFromProcessedSpecs(plotSpec, -1, -1, plotContainer);\n   </script>            \n        <svg id=12df0462-1d6a-43ef-bcb1-d944eedc2d8e xmlns=\"http://www.w3.org/2000/svg\" xmlns:xlink=\"http://www.w3.org/1999/xlink\" class=\"plt-container\" width=\"500.0\" height=\"250.0\">\n  <style type=\"text/css\">\n  .plt-container {\n   font-family: Lucida Grande, sans-serif;\n   user-select: none;\n   -webkit-user-select: none;\n   -moz-user-select: none;\n   -ms-user-select: none;\n}\ntext {\n   text-rendering: optimizeLegibility;\n}\n#p68d97n .plot-title {\n   fill: #474747;\n   font-family: Lucida Grande, sans-serif;\n   font-size: 16.0px;\n   font-weight: normal;\n   font-style: normal;   \n}\n#p68d97n .plot-subtitle {\n   fill: #474747;\n   font-family: Lucida Grande, sans-serif;\n   font-size: 15.0px;\n   font-weight: normal;\n   font-style: normal;   \n}\n#p68d97n .plot-caption {\n   fill: #474747;\n   font-family: Lucida Grande, sans-serif;\n   font-size: 13.0px;\n   font-weight: normal;\n   font-style: normal;   \n}\n#p68d97n .legend-title {\n   fill: #474747;\n   font-family: Lucida Grande, sans-serif;\n   font-size: 15.0px;\n   font-weight: normal;\n   font-style: normal;   \n}\n#p68d97n .legend-item {\n   fill: #474747;\n   font-family: Lucida Grande, sans-serif;\n   font-size: 13.0px;\n   font-weight: normal;\n   font-style: normal;   \n}\n#p68d97n .axis-title-x {\n   fill: #474747;\n   font-family: Lucida Grande, sans-serif;\n   font-size: 15.0px;\n   font-weight: normal;\n   font-style: normal;   \n}\n#p68d97n .axis-text-x {\n   fill: #474747;\n   font-family: Lucida Grande, sans-serif;\n   font-size: 13.0px;\n   font-weight: normal;\n   font-style: normal;   \n}\n#dDfQxf9 .axis-tooltip-text-x {\n   fill: #ffffff;\n   font-family: Lucida Grande, sans-serif;\n   font-size: 13.0px;\n   font-weight: normal;\n   font-style: normal;   \n}\n#p68d97n .axis-title-y {\n   fill: #474747;\n   font-family: Lucida Grande, sans-serif;\n   font-size: 15.0px;\n   font-weight: normal;\n   font-style: normal;   \n}\n#p68d97n .axis-text-y {\n   fill: #474747;\n   font-family: Lucida Grande, sans-serif;\n   font-size: 13.0px;\n   font-weight: normal;\n   font-style: normal;   \n}\n#dDfQxf9 .axis-tooltip-text-y {\n   fill: #ffffff;\n   font-family: Lucida Grande, sans-serif;\n   font-size: 13.0px;\n   font-weight: normal;\n   font-style: normal;   \n}\n#p68d97n .facet-strip-text-x {\n   fill: #474747;\n   font-family: Lucida Grande, sans-serif;\n   font-size: 13.0px;\n   font-weight: normal;\n   font-style: normal;   \n}\n#p68d97n .facet-strip-text-y {\n   fill: #474747;\n   font-family: Lucida Grande, sans-serif;\n   font-size: 13.0px;\n   font-weight: normal;\n   font-style: normal;   \n}\n#dDfQxf9 .tooltip-text {\n   fill: #474747;\n   font-family: Lucida Grande, sans-serif;\n   font-size: 13.0px;\n   font-weight: normal;\n   font-style: normal;   \n}\n#dDfQxf9 .tooltip-title {\n   fill: #474747;\n   font-family: Lucida Grande, sans-serif;\n   font-size: 13.0px;\n   font-weight: bold;\n   font-style: normal;   \n}\n#dDfQxf9 .tooltip-label {\n   fill: #474747;\n   font-family: Lucida Grande, sans-serif;\n   font-size: 13.0px;\n   font-weight: bold;\n   font-style: normal;   \n}\n\n  </style>\n  <g id=\"p68d97n\">\n    <rect x=\"0.0\" y=\"0.0\" height=\"250.0\" width=\"500.0\" stroke=\"rgb(71,71,71)\" stroke-opacity=\"1.0\" stroke-width=\"0.0\" fill=\"rgb(255,255,255)\" fill-opacity=\"1.0\">\n    </rect>\n    <g transform=\"translate(23.0 10.0 ) \">\n      <g transform=\"translate(21.961210910936405 194.0 ) \">\n        <line x1=\"17.64549656901326\" y1=\"-0.0\" x2=\"17.64549656901326\" y2=\"-194.0\" stroke=\"rgb(233,233,233)\" stroke-opacity=\"1.0\" stroke-width=\"1.0\">\n        </line>\n        <line x1=\"110.51653114276726\" y1=\"-0.0\" x2=\"110.51653114276726\" y2=\"-194.0\" stroke=\"rgb(233,233,233)\" stroke-opacity=\"1.0\" stroke-width=\"1.0\">\n        </line>\n        <line x1=\"203.38756571652127\" y1=\"-0.0\" x2=\"203.38756571652127\" y2=\"-194.0\" stroke=\"rgb(233,233,233)\" stroke-opacity=\"1.0\" stroke-width=\"1.0\">\n        </line>\n        <line x1=\"296.25860029027524\" y1=\"-0.0\" x2=\"296.25860029027524\" y2=\"-194.0\" stroke=\"rgb(233,233,233)\" stroke-opacity=\"1.0\" stroke-width=\"1.0\">\n        </line>\n        <g transform=\"translate(17.64549656901326 0.0 ) \">\n          <line stroke-width=\"1.0\" stroke=\"rgb(71,71,71)\" stroke-opacity=\"1.0\" x2=\"0.0\" y2=\"4.0\">\n          </line>\n          <g transform=\"translate(0.0 7.0 ) \">\n            <text class=\"axis-text-x\" text-anchor=\"middle\" dy=\"0.7em\">\n            0\n            </text>\n          </g>\n        </g>\n        <g transform=\"translate(110.51653114276726 0.0 ) \">\n          <line stroke-width=\"1.0\" stroke=\"rgb(71,71,71)\" stroke-opacity=\"1.0\" x2=\"0.0\" y2=\"4.0\">\n          </line>\n          <g transform=\"translate(0.0 7.0 ) \">\n            <text class=\"axis-text-x\" text-anchor=\"middle\" dy=\"0.7em\">\n            5\n            </text>\n          </g>\n        </g>\n        <g transform=\"translate(203.38756571652127 0.0 ) \">\n          <line stroke-width=\"1.0\" stroke=\"rgb(71,71,71)\" stroke-opacity=\"1.0\" x2=\"0.0\" y2=\"4.0\">\n          </line>\n          <g transform=\"translate(0.0 7.0 ) \">\n            <text class=\"axis-text-x\" text-anchor=\"middle\" dy=\"0.7em\">\n            10\n            </text>\n          </g>\n        </g>\n        <g transform=\"translate(296.25860029027524 0.0 ) \">\n          <line stroke-width=\"1.0\" stroke=\"rgb(71,71,71)\" stroke-opacity=\"1.0\" x2=\"0.0\" y2=\"4.0\">\n          </line>\n          <g transform=\"translate(0.0 7.0 ) \">\n            <text class=\"axis-text-x\" text-anchor=\"middle\" dy=\"0.7em\">\n            15\n            </text>\n          </g>\n        </g>\n        <line x1=\"0.0\" y1=\"0.0\" x2=\"388.2009245182917\" y2=\"0.0\" stroke-width=\"1.0\" stroke=\"rgb(71,71,71)\" stroke-opacity=\"1.0\">\n        </line>\n      </g>\n      <g transform=\"translate(21.961210910936405 0.0 ) \">\n        <line x1=\"0.0\" y1=\"151.51557892201782\" x2=\"388.2009245182917\" y2=\"151.51557892201782\" stroke=\"rgb(233,233,233)\" stroke-opacity=\"1.0\" stroke-width=\"1.0\">\n        </line>\n        <line x1=\"0.0\" y1=\"112.49716807221577\" x2=\"388.2009245182917\" y2=\"112.49716807221577\" stroke=\"rgb(233,233,233)\" stroke-opacity=\"1.0\" stroke-width=\"1.0\">\n        </line>\n        <line x1=\"0.0\" y1=\"73.47875722241372\" x2=\"388.2009245182917\" y2=\"73.47875722241372\" stroke=\"rgb(233,233,233)\" stroke-opacity=\"1.0\" stroke-width=\"1.0\">\n        </line>\n        <line x1=\"0.0\" y1=\"34.46034637261167\" x2=\"388.2009245182917\" y2=\"34.46034637261167\" stroke=\"rgb(233,233,233)\" stroke-opacity=\"1.0\" stroke-width=\"1.0\">\n        </line>\n        <g transform=\"translate(0.0 190.53398977181988 ) \">\n          <g transform=\"translate(-3.0 0.0 ) \">\n            <text class=\"axis-text-y\" text-anchor=\"end\" dy=\"0.35em\">\n            -5\n            </text>\n          </g>\n        </g>\n        <g transform=\"translate(0.0 151.51557892201782 ) \">\n          <g transform=\"translate(-3.0 0.0 ) \">\n            <text class=\"axis-text-y\" text-anchor=\"end\" dy=\"0.35em\">\n            0\n            </text>\n          </g>\n        </g>\n        <g transform=\"translate(0.0 112.49716807221577 ) \">\n          <g transform=\"translate(-3.0 0.0 ) \">\n            <text class=\"axis-text-y\" text-anchor=\"end\" dy=\"0.35em\">\n            5\n            </text>\n          </g>\n        </g>\n        <g transform=\"translate(0.0 73.47875722241372 ) \">\n          <g transform=\"translate(-3.0 0.0 ) \">\n            <text class=\"axis-text-y\" text-anchor=\"end\" dy=\"0.35em\">\n            10\n            </text>\n          </g>\n        </g>\n        <g transform=\"translate(0.0 34.46034637261167 ) \">\n          <g transform=\"translate(-3.0 0.0 ) \">\n            <text class=\"axis-text-y\" text-anchor=\"end\" dy=\"0.35em\">\n            15\n            </text>\n          </g>\n        </g>\n      </g>\n      <g transform=\"translate(21.961210910936405 0.0 ) \" clip-path=\"url(#cbnkCJY)\" clip-bounds-jfx=\"[rect (0.0, 0.0), (388.2009245182917, 194.0)]\">\n        <defs>\n          <clipPath id=\"cbnkCJY\">\n            <rect x=\"0.0\" y=\"0.0\" width=\"388.2009245182917\" height=\"194.0\">\n            </rect>\n          </clipPath>\n        </defs>\n        <g>\n          \n          <g >\n            <circle fill=\"#66c2a5\" stroke=\"#66c2a5\" stroke-opacity=\"0.0\" stroke-width=\"0.0\" cx=\"17.64549656901326\" cy=\"185.18181818181816\" r=\"5.5\" />\n            <circle fill=\"#66c2a5\" stroke=\"#66c2a5\" stroke-opacity=\"0.0\" stroke-width=\"0.0\" cx=\"36.219703483764064\" cy=\"128.8647263507351\" r=\"5.5\" />\n            <circle fill=\"#66c2a5\" stroke=\"#66c2a5\" stroke-opacity=\"0.0\" stroke-width=\"0.0\" cx=\"54.79391039851486\" cy=\"130.61586628556583\" r=\"5.5\" />\n            <circle fill=\"#66c2a5\" stroke=\"#66c2a5\" stroke-opacity=\"0.0\" stroke-width=\"0.0\" cx=\"73.36811731326566\" cy=\"121.60890233773968\" r=\"5.5\" />\n            <circle fill=\"#66c2a5\" stroke=\"#66c2a5\" stroke-opacity=\"0.0\" stroke-width=\"0.0\" cx=\"91.94232422801646\" cy=\"115.98574591907499\" r=\"5.5\" />\n            <circle fill=\"#66c2a5\" stroke=\"#66c2a5\" stroke-opacity=\"0.0\" stroke-width=\"0.0\" cx=\"110.51653114276726\" cy=\"121.04720480133226\" r=\"5.5\" />\n            <circle fill=\"#66c2a5\" stroke=\"#66c2a5\" stroke-opacity=\"0.0\" stroke-width=\"0.0\" cx=\"129.09073805751805\" cy=\"73.04104484200211\" r=\"5.5\" />\n            <circle fill=\"#66c2a5\" stroke=\"#66c2a5\" stroke-opacity=\"0.0\" stroke-width=\"0.0\" cx=\"147.66494497226887\" cy=\"88.47970771390162\" r=\"5.5\" />\n            <circle fill=\"#66c2a5\" stroke=\"#66c2a5\" stroke-opacity=\"0.0\" stroke-width=\"0.0\" cx=\"166.23915188701966\" cy=\"93.89192598954119\" r=\"5.5\" />\n            <circle fill=\"#66c2a5\" stroke=\"#66c2a5\" stroke-opacity=\"0.0\" stroke-width=\"0.0\" cx=\"184.81335880177045\" cy=\"57.46180916700841\" r=\"5.5\" />\n            <path fill=\"#fc8d62\" stroke=\"#fc8d62\" stroke-opacity=\"0.0\" stroke-width=\"0.0\" d=\"M203.38756571652127 36.60585890444502 L203.38756571652127 36.60585890444502 L208.88756571652127 46.132138346073845 L197.88756571652127 46.132138346073845 Z\" />\n            <path fill=\"#fc8d62\" stroke=\"#fc8d62\" stroke-opacity=\"0.0\" stroke-width=\"0.0\" d=\"M221.96177263127205 105.1634604728016 L221.96177263127205 105.1634604728016 L227.46177263127205 114.68973991443042 L216.46177263127205 114.68973991443042 Z\" />\n            <path fill=\"#fc8d62\" stroke=\"#fc8d62\" stroke-opacity=\"0.0\" stroke-width=\"0.0\" d=\"M240.53597954602284 64.04406637563402 L240.53597954602284 64.04406637563402 L246.03597954602284 73.57034581726283 L235.03597954602284 73.57034581726283 Z\" />\n            <path fill=\"#fc8d62\" stroke=\"#fc8d62\" stroke-opacity=\"0.0\" stroke-width=\"0.0\" d=\"M259.11018646077366 61.01512022326188 L259.11018646077366 61.01512022326188 L264.61018646077366 70.5413996648907 L253.61018646077366 70.5413996648907 Z\" />\n            <path fill=\"#fc8d62\" stroke=\"#fc8d62\" stroke-opacity=\"0.0\" stroke-width=\"0.0\" d=\"M277.68439337552445 76.8173367976231 L277.68439337552445 76.8173367976231 L283.18439337552445 86.34361623925192 L272.18439337552445 86.34361623925192 Z\" />\n            <path fill=\"#fc8d62\" stroke=\"#fc8d62\" stroke-opacity=\"0.0\" stroke-width=\"0.0\" d=\"M296.25860029027524 35.98567886098791 L296.25860029027524 35.98567886098791 L301.75860029027524 45.51195830261673 L290.75860029027524 45.51195830261673 Z\" />\n            <path fill=\"#fc8d62\" stroke=\"#fc8d62\" stroke-opacity=\"0.0\" stroke-width=\"0.0\" d=\"M314.83280720502603 28.916958797172736 L314.83280720502603 28.916958797172736 L320.33280720502603 38.443238238801555 L309.33280720502603 38.443238238801555 Z\" />\n            <path fill=\"#fc8d62\" stroke=\"#fc8d62\" stroke-opacity=\"0.0\" stroke-width=\"0.0\" d=\"M333.4070141197768 47.373114794226574 L333.4070141197768 47.373114794226574 L338.9070141197768 56.8993942358554 L327.9070141197768 56.8993942358554 Z\" />\n            <path fill=\"#fc8d62\" stroke=\"#fc8d62\" stroke-opacity=\"0.0\" stroke-width=\"0.0\" d=\"M351.9812210345276 4.055042097367344 L351.9812210345276 4.055042097367344 L357.4812210345276 13.581321538996168 L346.4812210345276 13.581321538996168 Z\" />\n            <path fill=\"#fc8d62\" stroke=\"#fc8d62\" stroke-opacity=\"0.0\" stroke-width=\"0.0\" d=\"M370.5554279492785 7.596311655898755 L370.5554279492785 7.596311655898755 L376.0554279492785 17.12259109752758 L365.0554279492785 17.12259109752758 Z\" />\n          </g>\n        </g>\n      </g>\n    </g>\n    <g transform=\"translate(14.5 107.0 ) rotate(-90.0 ) \">\n      <text class=\"axis-title-y\" y=\"0.0\" text-anchor=\"middle\">\n      yvar\n      </text>\n    </g>\n    <g transform=\"translate(239.06167317008226 241.5 ) \">\n      <text class=\"axis-title-x\" y=\"0.0\" text-anchor=\"middle\">\n      xvar\n      </text>\n    </g>\n    <g transform=\"translate(443.1621354292281 62.75 ) \">\n      <rect x=\"5.0\" y=\"5.0\" height=\"78.5\" width=\"46.83786457077187\" stroke=\"rgb(71,71,71)\" stroke-opacity=\"1.0\" stroke-width=\"0.0\" fill=\"rgb(255,255,255)\" fill-opacity=\"1.0\">\n      </rect>\n      <g transform=\"translate(10.0 10.0 ) \">\n        <g transform=\"translate(0.0 10.5 ) \">\n          <text class=\"legend-title\" y=\"0.0\">\n          cond\n          </text>\n        </g>\n        <g transform=\"translate(0.0 22.5 ) \">\n          <g transform=\"\">\n            <g>\n              <rect x=\"0.0\" y=\"0.0\" height=\"23.0\" width=\"23.0\" stroke-width=\"0.0\" fill=\"rgb(255,255,255)\" fill-opacity=\"1.0\">\n              </rect>\n              <g transform=\"translate(1.0 1.0 ) \">\n                <g>\n                  \n                  <g >\n                    <circle fill=\"#66c2a5\" stroke=\"#66c2a5\" stroke-opacity=\"0.0\" stroke-width=\"0.0\" cx=\"10.5\" cy=\"10.5\" r=\"5.5\" />\n                  </g>\n                </g>\n              </g>\n              <rect x=\"0.0\" y=\"0.0\" height=\"23.0\" width=\"23.0\" stroke=\"rgb(255,255,255)\" stroke-opacity=\"1.0\" stroke-width=\"1.0\" fill-opacity=\"0.0\">\n              </rect>\n            </g>\n            <g transform=\"translate(26.9903027277341 16.05 ) \">\n              <text class=\"legend-item\" y=\"0.0\">\n              A\n              </text>\n            </g>\n          </g>\n          <g transform=\"translate(0.0 23.0 ) \">\n            <g>\n              <rect x=\"0.0\" y=\"0.0\" height=\"23.0\" width=\"23.0\" stroke-width=\"0.0\" fill=\"rgb(255,255,255)\" fill-opacity=\"1.0\">\n              </rect>\n              <g transform=\"translate(1.0 1.0 ) \">\n                <g>\n                  \n                  <g >\n                    <path fill=\"#fc8d62\" stroke=\"#fc8d62\" stroke-opacity=\"0.0\" stroke-width=\"0.0\" d=\"M10.5 5.736860279185588 L10.5 5.736860279185588 L16.0 15.263139720814412 L5.0 15.263139720814412 Z\" />\n                  </g>\n                </g>\n              </g>\n              <rect x=\"0.0\" y=\"0.0\" height=\"23.0\" width=\"23.0\" stroke=\"rgb(255,255,255)\" stroke-opacity=\"1.0\" stroke-width=\"1.0\" fill-opacity=\"0.0\">\n              </rect>\n            </g>\n            <g transform=\"translate(26.9903027277341 16.05 ) \">\n              <text class=\"legend-item\" y=\"0.0\">\n              B\n              </text>\n            </g>\n          </g>\n        </g>\n      </g>\n    </g>\n  </g>\n  <g id=\"dDfQxf9\">\n  </g>\n</svg>\n        <script>document.getElementById(\"12df0462-1d6a-43ef-bcb1-d944eedc2d8e\").style.display = \"none\";</script>",
      "application/plot+json": {
       "output_type": "lets_plot_spec",
       "output": {
        "mapping": {},
        "data": {
         "yvar": [
          -4.314148,
          2.9025853,
          2.678186,
          3.83238,
          4.5529575,
          3.9043586,
          10.05609,
          8.077708,
          7.384162,
          12.052486,
          14.114694,
          5.3294044,
          10.598634,
          10.986777,
          8.961808,
          14.194166,
          15.099984,
          12.734927,
          18.285906,
          17.832111
         ],
         "xvar": [
          0.0,
          1.0,
          2.0,
          3.0,
          4.0,
          5.0,
          6.0,
          7.0,
          8.0,
          9.0,
          10.0,
          11.0,
          12.0,
          13.0,
          14.0,
          15.0,
          16.0,
          17.0,
          18.0,
          19.0
         ],
         "cond": [
          "A",
          "A",
          "A",
          "A",
          "A",
          "A",
          "A",
          "A",
          "A",
          "A",
          "B",
          "B",
          "B",
          "B",
          "B",
          "B",
          "B",
          "B",
          "B",
          "B"
         ]
        },
        "ggsize": {
         "width": 500.0,
         "height": 250.0
        },
        "kind": "plot",
        "scales": [
         {
          "aesthetic": "x",
          "limits": [
           null,
           null
          ]
         },
         {
          "aesthetic": "y",
          "limits": [
           null,
           null
          ]
         },
         {
          "aesthetic": "color",
          "discrete": true
         },
         {
          "aesthetic": "shape"
         }
        ],
        "layers": [
         {
          "mapping": {
           "x": "xvar",
           "y": "yvar",
           "color": "cond",
           "shape": "cond"
          },
          "stat": "identity",
          "size": 5.0,
          "sampling": "none",
          "position": "identity",
          "geom": "point"
         }
        ]
       },
       "apply_color_scheme": true,
       "swing_enabled": true
      }
     },
     "execution_count": 5,
     "metadata": {},
     "output_type": "execute_result"
    }
   ],
   "source": [
    "plot(data) {\n",
    "    points {\n",
    "        x(xvar)\n",
    "        y(yvar)\n",
    "        color(cond)\n",
    "        symbol(cond)\n",
    "        size = 5.0\n",
    "    }\n",
    "    layout { \n",
    "        size = 500 to 250\n",
    "    }\n",
    "}"
   ]
  },
  {
   "cell_type": "code",
   "execution_count": 6,
   "metadata": {
    "ExecuteTime": {
     "end_time": "2023-06-02T10:01:13.441362Z",
     "start_time": "2023-06-02T10:01:13.202795Z"
    }
   },
   "outputs": [
    {
     "data": {
      "text/html": "            <script type=\"text/javascript\" data-lets-plot-script=\"library\" src=\"https://cdn.jsdelivr.net/gh/JetBrains/lets-plot@v3.1.0/js-package/distr/lets-plot.min.js\"></script>    \n               <div id=\"e6tQaC\"></div>\n   <script type=\"text/javascript\" data-lets-plot-script=\"plot\">\n       var plotSpec={\n\"mapping\":{\n},\n\"data\":{\n\"yvar\":[-4.31414792742272,2.9025852255330413,2.678186038496493,3.8323801422104644,4.552957466631817,3.9043586677544218,10.056090493036294,8.077708681007955,7.384161947842241,12.052485955548157,14.114693281686685,5.329404481450428,10.598634211929852,10.98677740976943,8.96180814139117,14.194166026725489,15.099984576207884,12.734927210327559,18.2859058065098,17.832111113004313],\n\"xvar\":[0.0,1.0,2.0,3.0,4.0,5.0,6.0,7.0,8.0,9.0,10.0,11.0,12.0,13.0,14.0,15.0,16.0,17.0,18.0,19.0],\n\"cond\":[\"A\",\"A\",\"A\",\"A\",\"A\",\"A\",\"A\",\"A\",\"A\",\"A\",\"B\",\"B\",\"B\",\"B\",\"B\",\"B\",\"B\",\"B\",\"B\",\"B\"]\n},\n\"ggsize\":{\n\"width\":500.0,\n\"height\":250.0\n},\n\"kind\":\"plot\",\n\"scales\":[{\n\"aesthetic\":\"x\",\n\"limits\":[null,null]\n},{\n\"aesthetic\":\"y\",\n\"limits\":[null,null]\n},{\n\"aesthetic\":\"color\",\n\"discrete\":true\n},{\n\"aesthetic\":\"shape\",\n\"values\":[1.0,2.0]\n}],\n\"layers\":[{\n\"mapping\":{\n\"x\":\"xvar\",\n\"y\":\"yvar\",\n\"color\":\"cond\",\n\"shape\":\"cond\"\n},\n\"stat\":\"identity\",\n\"size\":5.0,\n\"sampling\":\"none\",\n\"position\":\"identity\",\n\"geom\":\"point\",\n\"data\":{\n}\n}]\n};\n       var plotContainer = document.getElementById(\"e6tQaC\");\n       LetsPlot.buildPlotFromProcessedSpecs(plotSpec, -1, -1, plotContainer);\n   </script>            \n        <svg id=5245610e-52d1-415a-ab7b-e6da81464b63 xmlns=\"http://www.w3.org/2000/svg\" xmlns:xlink=\"http://www.w3.org/1999/xlink\" class=\"plt-container\" width=\"500.0\" height=\"250.0\">\n  <style type=\"text/css\">\n  .plt-container {\n   font-family: Lucida Grande, sans-serif;\n   user-select: none;\n   -webkit-user-select: none;\n   -moz-user-select: none;\n   -ms-user-select: none;\n}\ntext {\n   text-rendering: optimizeLegibility;\n}\n#pIwsCU0 .plot-title {\n   fill: #474747;\n   font-family: Lucida Grande, sans-serif;\n   font-size: 16.0px;\n   font-weight: normal;\n   font-style: normal;   \n}\n#pIwsCU0 .plot-subtitle {\n   fill: #474747;\n   font-family: Lucida Grande, sans-serif;\n   font-size: 15.0px;\n   font-weight: normal;\n   font-style: normal;   \n}\n#pIwsCU0 .plot-caption {\n   fill: #474747;\n   font-family: Lucida Grande, sans-serif;\n   font-size: 13.0px;\n   font-weight: normal;\n   font-style: normal;   \n}\n#pIwsCU0 .legend-title {\n   fill: #474747;\n   font-family: Lucida Grande, sans-serif;\n   font-size: 15.0px;\n   font-weight: normal;\n   font-style: normal;   \n}\n#pIwsCU0 .legend-item {\n   fill: #474747;\n   font-family: Lucida Grande, sans-serif;\n   font-size: 13.0px;\n   font-weight: normal;\n   font-style: normal;   \n}\n#pIwsCU0 .axis-title-x {\n   fill: #474747;\n   font-family: Lucida Grande, sans-serif;\n   font-size: 15.0px;\n   font-weight: normal;\n   font-style: normal;   \n}\n#pIwsCU0 .axis-text-x {\n   fill: #474747;\n   font-family: Lucida Grande, sans-serif;\n   font-size: 13.0px;\n   font-weight: normal;\n   font-style: normal;   \n}\n#dVWvYBs .axis-tooltip-text-x {\n   fill: #ffffff;\n   font-family: Lucida Grande, sans-serif;\n   font-size: 13.0px;\n   font-weight: normal;\n   font-style: normal;   \n}\n#pIwsCU0 .axis-title-y {\n   fill: #474747;\n   font-family: Lucida Grande, sans-serif;\n   font-size: 15.0px;\n   font-weight: normal;\n   font-style: normal;   \n}\n#pIwsCU0 .axis-text-y {\n   fill: #474747;\n   font-family: Lucida Grande, sans-serif;\n   font-size: 13.0px;\n   font-weight: normal;\n   font-style: normal;   \n}\n#dVWvYBs .axis-tooltip-text-y {\n   fill: #ffffff;\n   font-family: Lucida Grande, sans-serif;\n   font-size: 13.0px;\n   font-weight: normal;\n   font-style: normal;   \n}\n#pIwsCU0 .facet-strip-text-x {\n   fill: #474747;\n   font-family: Lucida Grande, sans-serif;\n   font-size: 13.0px;\n   font-weight: normal;\n   font-style: normal;   \n}\n#pIwsCU0 .facet-strip-text-y {\n   fill: #474747;\n   font-family: Lucida Grande, sans-serif;\n   font-size: 13.0px;\n   font-weight: normal;\n   font-style: normal;   \n}\n#dVWvYBs .tooltip-text {\n   fill: #474747;\n   font-family: Lucida Grande, sans-serif;\n   font-size: 13.0px;\n   font-weight: normal;\n   font-style: normal;   \n}\n#dVWvYBs .tooltip-title {\n   fill: #474747;\n   font-family: Lucida Grande, sans-serif;\n   font-size: 13.0px;\n   font-weight: bold;\n   font-style: normal;   \n}\n#dVWvYBs .tooltip-label {\n   fill: #474747;\n   font-family: Lucida Grande, sans-serif;\n   font-size: 13.0px;\n   font-weight: bold;\n   font-style: normal;   \n}\n\n  </style>\n  <g id=\"pIwsCU0\">\n    <rect x=\"0.0\" y=\"0.0\" height=\"250.0\" width=\"500.0\" stroke=\"rgb(71,71,71)\" stroke-opacity=\"1.0\" stroke-width=\"0.0\" fill=\"rgb(255,255,255)\" fill-opacity=\"1.0\">\n    </rect>\n    <g transform=\"translate(23.0 10.0 ) \">\n      <g transform=\"translate(21.961210910936405 194.0 ) \">\n        <line x1=\"17.64549656901326\" y1=\"-0.0\" x2=\"17.64549656901326\" y2=\"-194.0\" stroke=\"rgb(233,233,233)\" stroke-opacity=\"1.0\" stroke-width=\"1.0\">\n        </line>\n        <line x1=\"110.51653114276726\" y1=\"-0.0\" x2=\"110.51653114276726\" y2=\"-194.0\" stroke=\"rgb(233,233,233)\" stroke-opacity=\"1.0\" stroke-width=\"1.0\">\n        </line>\n        <line x1=\"203.38756571652127\" y1=\"-0.0\" x2=\"203.38756571652127\" y2=\"-194.0\" stroke=\"rgb(233,233,233)\" stroke-opacity=\"1.0\" stroke-width=\"1.0\">\n        </line>\n        <line x1=\"296.25860029027524\" y1=\"-0.0\" x2=\"296.25860029027524\" y2=\"-194.0\" stroke=\"rgb(233,233,233)\" stroke-opacity=\"1.0\" stroke-width=\"1.0\">\n        </line>\n        <g transform=\"translate(17.64549656901326 0.0 ) \">\n          <line stroke-width=\"1.0\" stroke=\"rgb(71,71,71)\" stroke-opacity=\"1.0\" x2=\"0.0\" y2=\"4.0\">\n          </line>\n          <g transform=\"translate(0.0 7.0 ) \">\n            <text class=\"axis-text-x\" text-anchor=\"middle\" dy=\"0.7em\">\n            0\n            </text>\n          </g>\n        </g>\n        <g transform=\"translate(110.51653114276726 0.0 ) \">\n          <line stroke-width=\"1.0\" stroke=\"rgb(71,71,71)\" stroke-opacity=\"1.0\" x2=\"0.0\" y2=\"4.0\">\n          </line>\n          <g transform=\"translate(0.0 7.0 ) \">\n            <text class=\"axis-text-x\" text-anchor=\"middle\" dy=\"0.7em\">\n            5\n            </text>\n          </g>\n        </g>\n        <g transform=\"translate(203.38756571652127 0.0 ) \">\n          <line stroke-width=\"1.0\" stroke=\"rgb(71,71,71)\" stroke-opacity=\"1.0\" x2=\"0.0\" y2=\"4.0\">\n          </line>\n          <g transform=\"translate(0.0 7.0 ) \">\n            <text class=\"axis-text-x\" text-anchor=\"middle\" dy=\"0.7em\">\n            10\n            </text>\n          </g>\n        </g>\n        <g transform=\"translate(296.25860029027524 0.0 ) \">\n          <line stroke-width=\"1.0\" stroke=\"rgb(71,71,71)\" stroke-opacity=\"1.0\" x2=\"0.0\" y2=\"4.0\">\n          </line>\n          <g transform=\"translate(0.0 7.0 ) \">\n            <text class=\"axis-text-x\" text-anchor=\"middle\" dy=\"0.7em\">\n            15\n            </text>\n          </g>\n        </g>\n        <line x1=\"0.0\" y1=\"0.0\" x2=\"388.2009245182917\" y2=\"0.0\" stroke-width=\"1.0\" stroke=\"rgb(71,71,71)\" stroke-opacity=\"1.0\">\n        </line>\n      </g>\n      <g transform=\"translate(21.961210910936405 0.0 ) \">\n        <line x1=\"0.0\" y1=\"151.51557892201782\" x2=\"388.2009245182917\" y2=\"151.51557892201782\" stroke=\"rgb(233,233,233)\" stroke-opacity=\"1.0\" stroke-width=\"1.0\">\n        </line>\n        <line x1=\"0.0\" y1=\"112.49716807221577\" x2=\"388.2009245182917\" y2=\"112.49716807221577\" stroke=\"rgb(233,233,233)\" stroke-opacity=\"1.0\" stroke-width=\"1.0\">\n        </line>\n        <line x1=\"0.0\" y1=\"73.47875722241372\" x2=\"388.2009245182917\" y2=\"73.47875722241372\" stroke=\"rgb(233,233,233)\" stroke-opacity=\"1.0\" stroke-width=\"1.0\">\n        </line>\n        <line x1=\"0.0\" y1=\"34.46034637261167\" x2=\"388.2009245182917\" y2=\"34.46034637261167\" stroke=\"rgb(233,233,233)\" stroke-opacity=\"1.0\" stroke-width=\"1.0\">\n        </line>\n        <g transform=\"translate(0.0 190.53398977181988 ) \">\n          <g transform=\"translate(-3.0 0.0 ) \">\n            <text class=\"axis-text-y\" text-anchor=\"end\" dy=\"0.35em\">\n            -5\n            </text>\n          </g>\n        </g>\n        <g transform=\"translate(0.0 151.51557892201782 ) \">\n          <g transform=\"translate(-3.0 0.0 ) \">\n            <text class=\"axis-text-y\" text-anchor=\"end\" dy=\"0.35em\">\n            0\n            </text>\n          </g>\n        </g>\n        <g transform=\"translate(0.0 112.49716807221577 ) \">\n          <g transform=\"translate(-3.0 0.0 ) \">\n            <text class=\"axis-text-y\" text-anchor=\"end\" dy=\"0.35em\">\n            5\n            </text>\n          </g>\n        </g>\n        <g transform=\"translate(0.0 73.47875722241372 ) \">\n          <g transform=\"translate(-3.0 0.0 ) \">\n            <text class=\"axis-text-y\" text-anchor=\"end\" dy=\"0.35em\">\n            10\n            </text>\n          </g>\n        </g>\n        <g transform=\"translate(0.0 34.46034637261167 ) \">\n          <g transform=\"translate(-3.0 0.0 ) \">\n            <text class=\"axis-text-y\" text-anchor=\"end\" dy=\"0.35em\">\n            15\n            </text>\n          </g>\n        </g>\n      </g>\n      <g transform=\"translate(21.961210910936405 0.0 ) \" clip-path=\"url(#cBVdIHa)\" clip-bounds-jfx=\"[rect (0.0, 0.0), (388.2009245182917, 194.0)]\">\n        <defs>\n          <clipPath id=\"cBVdIHa\">\n            <rect x=\"0.0\" y=\"0.0\" width=\"388.2009245182917\" height=\"194.0\">\n            </rect>\n          </clipPath>\n        </defs>\n        <g>\n          \n          <g >\n            <circle fill=\"#000000\" fill-opacity=\"0.0\" stroke=\"#66c2a5\" stroke-width=\"0.55\" cx=\"17.64549656901326\" cy=\"185.18181818181816\" r=\"5.775\" />\n            <circle fill=\"#000000\" fill-opacity=\"0.0\" stroke=\"#66c2a5\" stroke-width=\"0.55\" cx=\"36.219703483764064\" cy=\"128.8647263507351\" r=\"5.775\" />\n            <circle fill=\"#000000\" fill-opacity=\"0.0\" stroke=\"#66c2a5\" stroke-width=\"0.55\" cx=\"54.79391039851486\" cy=\"130.61586628556583\" r=\"5.775\" />\n            <circle fill=\"#000000\" fill-opacity=\"0.0\" stroke=\"#66c2a5\" stroke-width=\"0.55\" cx=\"73.36811731326566\" cy=\"121.60890233773968\" r=\"5.775\" />\n            <circle fill=\"#000000\" fill-opacity=\"0.0\" stroke=\"#66c2a5\" stroke-width=\"0.55\" cx=\"91.94232422801646\" cy=\"115.98574591907499\" r=\"5.775\" />\n            <circle fill=\"#000000\" fill-opacity=\"0.0\" stroke=\"#66c2a5\" stroke-width=\"0.55\" cx=\"110.51653114276726\" cy=\"121.04720480133226\" r=\"5.775\" />\n            <circle fill=\"#000000\" fill-opacity=\"0.0\" stroke=\"#66c2a5\" stroke-width=\"0.55\" cx=\"129.09073805751805\" cy=\"73.04104484200211\" r=\"5.775\" />\n            <circle fill=\"#000000\" fill-opacity=\"0.0\" stroke=\"#66c2a5\" stroke-width=\"0.55\" cx=\"147.66494497226887\" cy=\"88.47970771390162\" r=\"5.775\" />\n            <circle fill=\"#000000\" fill-opacity=\"0.0\" stroke=\"#66c2a5\" stroke-width=\"0.55\" cx=\"166.23915188701966\" cy=\"93.89192598954119\" r=\"5.775\" />\n            <circle fill=\"#000000\" fill-opacity=\"0.0\" stroke=\"#66c2a5\" stroke-width=\"0.55\" cx=\"184.81335880177045\" cy=\"57.46180916700841\" r=\"5.775\" />\n            <path fill=\"#000000\" fill-opacity=\"0.0\" stroke=\"#fc8d62\" stroke-width=\"0.55\" d=\"M203.38756571652127 36.5052019184043 L203.38756571652127 36.5052019184043 L209.16256571652127 46.50779533211457 L197.61256571652126 46.50779533211457 Z\" />\n            <path fill=\"#000000\" fill-opacity=\"0.0\" stroke=\"#fc8d62\" stroke-width=\"0.55\" d=\"M221.96177263127205 105.06280348676087 L221.96177263127205 105.06280348676087 L227.73677263127206 115.06539690047114 L216.18677263127205 115.06539690047114 Z\" />\n            <path fill=\"#000000\" fill-opacity=\"0.0\" stroke=\"#fc8d62\" stroke-width=\"0.55\" d=\"M240.53597954602284 63.94340938959329 L240.53597954602284 63.94340938959329 L246.31097954602285 73.94600280330356 L234.76097954602284 73.94600280330356 Z\" />\n            <path fill=\"#000000\" fill-opacity=\"0.0\" stroke=\"#fc8d62\" stroke-width=\"0.55\" d=\"M259.11018646077366 60.91446323722116 L259.11018646077366 60.91446323722116 L264.88518646077364 70.91705665093143 L253.33518646077366 70.91705665093143 Z\" />\n            <path fill=\"#000000\" fill-opacity=\"0.0\" stroke=\"#fc8d62\" stroke-width=\"0.55\" d=\"M277.68439337552445 76.71667981158237 L277.68439337552445 76.71667981158237 L283.4593933755245 86.71927322529264 L271.9093933755245 86.71927322529264 Z\" />\n            <path fill=\"#000000\" fill-opacity=\"0.0\" stroke=\"#fc8d62\" stroke-width=\"0.55\" d=\"M296.25860029027524 35.88502187494719 L296.25860029027524 35.88502187494719 L302.0336002902753 45.88761528865746 L290.48360029027526 45.88761528865746 Z\" />\n            <path fill=\"#000000\" fill-opacity=\"0.0\" stroke=\"#fc8d62\" stroke-width=\"0.55\" d=\"M314.83280720502603 28.816301811132014 L314.83280720502603 28.816301811132014 L320.60780720502606 38.81889522484228 L309.05780720502605 38.81889522484228 Z\" />\n            <path fill=\"#000000\" fill-opacity=\"0.0\" stroke=\"#fc8d62\" stroke-width=\"0.55\" d=\"M333.4070141197768 47.272457808185855 L333.4070141197768 47.272457808185855 L339.18201411977685 57.27505122189612 L327.63201411977684 57.27505122189612 Z\" />\n            <path fill=\"#000000\" fill-opacity=\"0.0\" stroke=\"#fc8d62\" stroke-width=\"0.55\" d=\"M351.9812210345276 3.954385111326623 L351.9812210345276 3.954385111326623 L357.75622103452764 13.95697852503689 L346.20622103452763 13.95697852503689 Z\" />\n            <path fill=\"#000000\" fill-opacity=\"0.0\" stroke=\"#fc8d62\" stroke-width=\"0.55\" d=\"M370.5554279492785 7.495654669858034 L370.5554279492785 7.495654669858034 L376.33042794927854 17.4982480835683 L364.78042794927853 17.4982480835683 Z\" />\n          </g>\n        </g>\n      </g>\n    </g>\n    <g transform=\"translate(14.5 107.0 ) rotate(-90.0 ) \">\n      <text class=\"axis-title-y\" y=\"0.0\" text-anchor=\"middle\">\n      yvar\n      </text>\n    </g>\n    <g transform=\"translate(239.06167317008226 241.5 ) \">\n      <text class=\"axis-title-x\" y=\"0.0\" text-anchor=\"middle\">\n      xvar\n      </text>\n    </g>\n    <g transform=\"translate(443.1621354292281 62.75 ) \">\n      <rect x=\"5.0\" y=\"5.0\" height=\"78.5\" width=\"46.83786457077187\" stroke=\"rgb(71,71,71)\" stroke-opacity=\"1.0\" stroke-width=\"0.0\" fill=\"rgb(255,255,255)\" fill-opacity=\"1.0\">\n      </rect>\n      <g transform=\"translate(10.0 10.0 ) \">\n        <g transform=\"translate(0.0 10.5 ) \">\n          <text class=\"legend-title\" y=\"0.0\">\n          cond\n          </text>\n        </g>\n        <g transform=\"translate(0.0 22.5 ) \">\n          <g transform=\"\">\n            <g>\n              <rect x=\"0.0\" y=\"0.0\" height=\"23.0\" width=\"23.0\" stroke-width=\"0.0\" fill=\"rgb(255,255,255)\" fill-opacity=\"1.0\">\n              </rect>\n              <g transform=\"translate(1.0 1.0 ) \">\n                <g>\n                  \n                  <g >\n                    <circle fill=\"#000000\" fill-opacity=\"0.0\" stroke=\"#66c2a5\" stroke-width=\"0.55\" cx=\"10.5\" cy=\"10.5\" r=\"5.775\" />\n                  </g>\n                </g>\n              </g>\n              <rect x=\"0.0\" y=\"0.0\" height=\"23.0\" width=\"23.0\" stroke=\"rgb(255,255,255)\" stroke-opacity=\"1.0\" stroke-width=\"1.0\" fill-opacity=\"0.0\">\n              </rect>\n            </g>\n            <g transform=\"translate(26.9903027277341 16.05 ) \">\n              <text class=\"legend-item\" y=\"0.0\">\n              A\n              </text>\n            </g>\n          </g>\n          <g transform=\"translate(0.0 23.0 ) \">\n            <g>\n              <rect x=\"0.0\" y=\"0.0\" height=\"23.0\" width=\"23.0\" stroke-width=\"0.0\" fill=\"rgb(255,255,255)\" fill-opacity=\"1.0\">\n              </rect>\n              <g transform=\"translate(1.0 1.0 ) \">\n                <g>\n                  \n                  <g >\n                    <path fill=\"#000000\" fill-opacity=\"0.0\" stroke=\"#fc8d62\" stroke-width=\"0.55\" d=\"M10.5 5.636203293144867 L10.5 5.636203293144867 L16.275 15.638796706855134 L4.725 15.638796706855134 Z\" />\n                  </g>\n                </g>\n              </g>\n              <rect x=\"0.0\" y=\"0.0\" height=\"23.0\" width=\"23.0\" stroke=\"rgb(255,255,255)\" stroke-opacity=\"1.0\" stroke-width=\"1.0\" fill-opacity=\"0.0\">\n              </rect>\n            </g>\n            <g transform=\"translate(26.9903027277341 16.05 ) \">\n              <text class=\"legend-item\" y=\"0.0\">\n              B\n              </text>\n            </g>\n          </g>\n        </g>\n      </g>\n    </g>\n  </g>\n  <g id=\"dVWvYBs\">\n  </g>\n</svg>\n        <script>document.getElementById(\"5245610e-52d1-415a-ab7b-e6da81464b63\").style.display = \"none\";</script>",
      "application/plot+json": {
       "output_type": "lets_plot_spec",
       "output": {
        "mapping": {},
        "data": {
         "yvar": [
          -4.314148,
          2.9025853,
          2.678186,
          3.83238,
          4.5529575,
          3.9043586,
          10.05609,
          8.077708,
          7.384162,
          12.052486,
          14.114694,
          5.3294044,
          10.598634,
          10.986777,
          8.961808,
          14.194166,
          15.099984,
          12.734927,
          18.285906,
          17.832111
         ],
         "xvar": [
          0.0,
          1.0,
          2.0,
          3.0,
          4.0,
          5.0,
          6.0,
          7.0,
          8.0,
          9.0,
          10.0,
          11.0,
          12.0,
          13.0,
          14.0,
          15.0,
          16.0,
          17.0,
          18.0,
          19.0
         ],
         "cond": [
          "A",
          "A",
          "A",
          "A",
          "A",
          "A",
          "A",
          "A",
          "A",
          "A",
          "B",
          "B",
          "B",
          "B",
          "B",
          "B",
          "B",
          "B",
          "B",
          "B"
         ]
        },
        "ggsize": {
         "width": 500.0,
         "height": 250.0
        },
        "kind": "plot",
        "scales": [
         {
          "aesthetic": "x",
          "limits": [
           null,
           null
          ]
         },
         {
          "aesthetic": "y",
          "limits": [
           null,
           null
          ]
         },
         {
          "aesthetic": "color",
          "discrete": true
         },
         {
          "aesthetic": "shape",
          "values": [
           1.0,
           2.0
          ]
         }
        ],
        "layers": [
         {
          "mapping": {
           "x": "xvar",
           "y": "yvar",
           "color": "cond",
           "shape": "cond"
          },
          "stat": "identity",
          "size": 5.0,
          "sampling": "none",
          "position": "identity",
          "geom": "point"
         }
        ]
       },
       "apply_color_scheme": true,
       "swing_enabled": true
      }
     },
     "execution_count": 6,
     "metadata": {},
     "output_type": "execute_result"
    }
   ],
   "source": [
    "plot(data) {\n",
    "    points {\n",
    "        x(xvar)\n",
    "        y(yvar)\n",
    "        color(cond)\n",
    "        symbol(cond) {\n",
    "            scale = categorical(range = listOf(Symbol.CIRCLE_OPEN, Symbol.TRIANGLE_OPEN))\n",
    "        }\n",
    "        size = 5.0\n",
    "    }\n",
    "    layout { \n",
    "        size = 500 to 250\n",
    "    }\n",
    "}"
   ]
  },
  {
   "cell_type": "markdown",
   "metadata": {},
   "source": [
    "#### Handling overplotting"
   ]
  },
  {
   "cell_type": "code",
   "execution_count": 7,
   "metadata": {
    "ExecuteTime": {
     "end_time": "2023-06-02T10:01:13.650179Z",
     "start_time": "2023-06-02T10:01:13.441613Z"
    }
   },
   "outputs": [],
   "source": [
    "// Create data with overlapping points.\n",
    "val data1 = mapOf(\n",
    "        \"xvar\" to (data[\"xvar\"] as List<Double>).map { (it / 5).toInt() * 5 },\n",
    "        \"yvar\" to (data[\"yvar\"] as List<Double>).map { (it / 5).toInt() * 5 },\n",
    "    )"
   ]
  },
  {
   "cell_type": "code",
   "execution_count": 8,
   "metadata": {
    "ExecuteTime": {
     "end_time": "2023-06-02T10:01:13.792280Z",
     "start_time": "2023-06-02T10:01:13.650975Z"
    }
   },
   "outputs": [
    {
     "data": {
      "text/html": "            <script type=\"text/javascript\" data-lets-plot-script=\"library\" src=\"https://cdn.jsdelivr.net/gh/JetBrains/lets-plot@v3.1.0/js-package/distr/lets-plot.min.js\"></script>    \n               <div id=\"9JvObP\"></div>\n   <script type=\"text/javascript\" data-lets-plot-script=\"plot\">\n       var plotSpec={\n\"mapping\":{\n},\n\"data\":{\n\"yvar\":[0.0,0.0,0.0,0.0,0.0,0.0,10.0,5.0,5.0,10.0,10.0,5.0,10.0,10.0,5.0,10.0,15.0,10.0,15.0,15.0],\n\"xvar\":[0.0,0.0,0.0,0.0,0.0,5.0,5.0,5.0,5.0,5.0,10.0,10.0,10.0,10.0,10.0,15.0,15.0,15.0,15.0,15.0]\n},\n\"ggsize\":{\n\"width\":500.0,\n\"height\":250.0\n},\n\"kind\":\"plot\",\n\"scales\":[{\n\"aesthetic\":\"x\",\n\"breaks\":[0.0,5.0,10.0,15.0],\n\"limits\":[null,null]\n},{\n\"aesthetic\":\"y\",\n\"limits\":[null,null]\n}],\n\"layers\":[{\n\"mapping\":{\n\"x\":\"xvar\",\n\"y\":\"yvar\"\n},\n\"stat\":\"identity\",\n\"size\":7.0,\n\"sampling\":\"none\",\n\"alpha\":0.3,\n\"position\":\"identity\",\n\"geom\":\"point\",\n\"data\":{\n}\n}]\n};\n       var plotContainer = document.getElementById(\"9JvObP\");\n       LetsPlot.buildPlotFromProcessedSpecs(plotSpec, -1, -1, plotContainer);\n   </script>            \n        <svg id=be00a935-2fe1-492e-8397-e609860a48a5 xmlns=\"http://www.w3.org/2000/svg\" xmlns:xlink=\"http://www.w3.org/1999/xlink\" class=\"plt-container\" width=\"500.0\" height=\"250.0\">\n  <style type=\"text/css\">\n  .plt-container {\n   font-family: Lucida Grande, sans-serif;\n   user-select: none;\n   -webkit-user-select: none;\n   -moz-user-select: none;\n   -ms-user-select: none;\n}\ntext {\n   text-rendering: optimizeLegibility;\n}\n#pFvuVeS .plot-title {\n   fill: #474747;\n   font-family: Lucida Grande, sans-serif;\n   font-size: 16.0px;\n   font-weight: normal;\n   font-style: normal;   \n}\n#pFvuVeS .plot-subtitle {\n   fill: #474747;\n   font-family: Lucida Grande, sans-serif;\n   font-size: 15.0px;\n   font-weight: normal;\n   font-style: normal;   \n}\n#pFvuVeS .plot-caption {\n   fill: #474747;\n   font-family: Lucida Grande, sans-serif;\n   font-size: 13.0px;\n   font-weight: normal;\n   font-style: normal;   \n}\n#pFvuVeS .legend-title {\n   fill: #474747;\n   font-family: Lucida Grande, sans-serif;\n   font-size: 15.0px;\n   font-weight: normal;\n   font-style: normal;   \n}\n#pFvuVeS .legend-item {\n   fill: #474747;\n   font-family: Lucida Grande, sans-serif;\n   font-size: 13.0px;\n   font-weight: normal;\n   font-style: normal;   \n}\n#pFvuVeS .axis-title-x {\n   fill: #474747;\n   font-family: Lucida Grande, sans-serif;\n   font-size: 15.0px;\n   font-weight: normal;\n   font-style: normal;   \n}\n#pFvuVeS .axis-text-x {\n   fill: #474747;\n   font-family: Lucida Grande, sans-serif;\n   font-size: 13.0px;\n   font-weight: normal;\n   font-style: normal;   \n}\n#dbuh0D0 .axis-tooltip-text-x {\n   fill: #ffffff;\n   font-family: Lucida Grande, sans-serif;\n   font-size: 13.0px;\n   font-weight: normal;\n   font-style: normal;   \n}\n#pFvuVeS .axis-title-y {\n   fill: #474747;\n   font-family: Lucida Grande, sans-serif;\n   font-size: 15.0px;\n   font-weight: normal;\n   font-style: normal;   \n}\n#pFvuVeS .axis-text-y {\n   fill: #474747;\n   font-family: Lucida Grande, sans-serif;\n   font-size: 13.0px;\n   font-weight: normal;\n   font-style: normal;   \n}\n#dbuh0D0 .axis-tooltip-text-y {\n   fill: #ffffff;\n   font-family: Lucida Grande, sans-serif;\n   font-size: 13.0px;\n   font-weight: normal;\n   font-style: normal;   \n}\n#pFvuVeS .facet-strip-text-x {\n   fill: #474747;\n   font-family: Lucida Grande, sans-serif;\n   font-size: 13.0px;\n   font-weight: normal;\n   font-style: normal;   \n}\n#pFvuVeS .facet-strip-text-y {\n   fill: #474747;\n   font-family: Lucida Grande, sans-serif;\n   font-size: 13.0px;\n   font-weight: normal;\n   font-style: normal;   \n}\n#dbuh0D0 .tooltip-text {\n   fill: #474747;\n   font-family: Lucida Grande, sans-serif;\n   font-size: 13.0px;\n   font-weight: normal;\n   font-style: normal;   \n}\n#dbuh0D0 .tooltip-title {\n   fill: #474747;\n   font-family: Lucida Grande, sans-serif;\n   font-size: 13.0px;\n   font-weight: bold;\n   font-style: normal;   \n}\n#dbuh0D0 .tooltip-label {\n   fill: #474747;\n   font-family: Lucida Grande, sans-serif;\n   font-size: 13.0px;\n   font-weight: bold;\n   font-style: normal;   \n}\n\n  </style>\n  <g id=\"pFvuVeS\">\n    <rect x=\"0.0\" y=\"0.0\" height=\"250.0\" width=\"500.0\" stroke=\"rgb(71,71,71)\" stroke-opacity=\"1.0\" stroke-width=\"0.0\" fill=\"rgb(255,255,255)\" fill-opacity=\"1.0\">\n    </rect>\n    <g transform=\"translate(23.0 10.0 ) \">\n      <g transform=\"translate(21.961210910936405 194.0 ) \">\n        <line x1=\"20.229035867684708\" y1=\"-0.0\" x2=\"20.229035867684708\" y2=\"-194.0\" stroke=\"rgb(233,233,233)\" stroke-opacity=\"1.0\" stroke-width=\"1.0\">\n        </line>\n        <line x1=\"155.08927498558276\" y1=\"-0.0\" x2=\"155.08927498558276\" y2=\"-194.0\" stroke=\"rgb(233,233,233)\" stroke-opacity=\"1.0\" stroke-width=\"1.0\">\n        </line>\n        <line x1=\"289.94951410348085\" y1=\"-0.0\" x2=\"289.94951410348085\" y2=\"-194.0\" stroke=\"rgb(233,233,233)\" stroke-opacity=\"1.0\" stroke-width=\"1.0\">\n        </line>\n        <line x1=\"424.8097532213789\" y1=\"-0.0\" x2=\"424.8097532213789\" y2=\"-194.0\" stroke=\"rgb(233,233,233)\" stroke-opacity=\"1.0\" stroke-width=\"1.0\">\n        </line>\n        <g transform=\"translate(20.229035867684708 0.0 ) \">\n          <line stroke-width=\"1.0\" stroke=\"rgb(71,71,71)\" stroke-opacity=\"1.0\" x2=\"0.0\" y2=\"4.0\">\n          </line>\n          <g transform=\"translate(0.0 7.0 ) \">\n            <text class=\"axis-text-x\" text-anchor=\"middle\" dy=\"0.7em\">\n            0.0\n            </text>\n          </g>\n        </g>\n        <g transform=\"translate(155.08927498558276 0.0 ) \">\n          <line stroke-width=\"1.0\" stroke=\"rgb(71,71,71)\" stroke-opacity=\"1.0\" x2=\"0.0\" y2=\"4.0\">\n          </line>\n          <g transform=\"translate(0.0 7.0 ) \">\n            <text class=\"axis-text-x\" text-anchor=\"middle\" dy=\"0.7em\">\n            5.0\n            </text>\n          </g>\n        </g>\n        <g transform=\"translate(289.94951410348085 0.0 ) \">\n          <line stroke-width=\"1.0\" stroke=\"rgb(71,71,71)\" stroke-opacity=\"1.0\" x2=\"0.0\" y2=\"4.0\">\n          </line>\n          <g transform=\"translate(0.0 7.0 ) \">\n            <text class=\"axis-text-x\" text-anchor=\"middle\" dy=\"0.7em\">\n            10.0\n            </text>\n          </g>\n        </g>\n        <g transform=\"translate(424.8097532213789 0.0 ) \">\n          <line stroke-width=\"1.0\" stroke=\"rgb(71,71,71)\" stroke-opacity=\"1.0\" x2=\"0.0\" y2=\"4.0\">\n          </line>\n          <g transform=\"translate(0.0 7.0 ) \">\n            <text class=\"axis-text-x\" text-anchor=\"middle\" dy=\"0.7em\">\n            15.0\n            </text>\n          </g>\n        </g>\n        <line x1=\"0.0\" y1=\"0.0\" x2=\"445.0387890890636\" y2=\"0.0\" stroke-width=\"1.0\" stroke=\"rgb(71,71,71)\" stroke-opacity=\"1.0\">\n        </line>\n      </g>\n      <g transform=\"translate(21.961210910936405 0.0 ) \">\n        <line x1=\"0.0\" y1=\"185.1818181818182\" x2=\"445.0387890890636\" y2=\"185.1818181818182\" stroke=\"rgb(233,233,233)\" stroke-opacity=\"1.0\" stroke-width=\"1.0\">\n        </line>\n        <line x1=\"0.0\" y1=\"126.3939393939394\" x2=\"445.0387890890636\" y2=\"126.3939393939394\" stroke=\"rgb(233,233,233)\" stroke-opacity=\"1.0\" stroke-width=\"1.0\">\n        </line>\n        <line x1=\"0.0\" y1=\"67.60606060606061\" x2=\"445.0387890890636\" y2=\"67.60606060606061\" stroke=\"rgb(233,233,233)\" stroke-opacity=\"1.0\" stroke-width=\"1.0\">\n        </line>\n        <line x1=\"0.0\" y1=\"8.818181818181813\" x2=\"445.0387890890636\" y2=\"8.818181818181813\" stroke=\"rgb(233,233,233)\" stroke-opacity=\"1.0\" stroke-width=\"1.0\">\n        </line>\n        <g transform=\"translate(0.0 185.1818181818182 ) \">\n          <g transform=\"translate(-3.0 0.0 ) \">\n            <text class=\"axis-text-y\" text-anchor=\"end\" dy=\"0.35em\">\n            0\n            </text>\n          </g>\n        </g>\n        <g transform=\"translate(0.0 126.3939393939394 ) \">\n          <g transform=\"translate(-3.0 0.0 ) \">\n            <text class=\"axis-text-y\" text-anchor=\"end\" dy=\"0.35em\">\n            5\n            </text>\n          </g>\n        </g>\n        <g transform=\"translate(0.0 67.60606060606061 ) \">\n          <g transform=\"translate(-3.0 0.0 ) \">\n            <text class=\"axis-text-y\" text-anchor=\"end\" dy=\"0.35em\">\n            10\n            </text>\n          </g>\n        </g>\n        <g transform=\"translate(0.0 8.818181818181813 ) \">\n          <g transform=\"translate(-3.0 0.0 ) \">\n            <text class=\"axis-text-y\" text-anchor=\"end\" dy=\"0.35em\">\n            15\n            </text>\n          </g>\n        </g>\n      </g>\n      <g transform=\"translate(21.961210910936405 0.0 ) \" clip-path=\"url(#c44q0hQ)\" clip-bounds-jfx=\"[rect (0.0, 0.0), (445.0387890890636, 194.0)]\">\n        <defs>\n          <clipPath id=\"c44q0hQ\">\n            <rect x=\"0.0\" y=\"0.0\" width=\"445.0387890890636\" height=\"194.0\">\n            </rect>\n          </clipPath>\n        </defs>\n        <g>\n          \n          <g >\n            <circle fill=\"#118ed8\" fill-opacity=\"0.3\" stroke=\"#118ed8\" stroke-opacity=\"0.0\" stroke-width=\"0.0\" cx=\"20.229035867684708\" cy=\"185.1818181818182\" r=\"7.700000000000001\" />\n            <circle fill=\"#118ed8\" fill-opacity=\"0.3\" stroke=\"#118ed8\" stroke-opacity=\"0.0\" stroke-width=\"0.0\" cx=\"20.229035867684708\" cy=\"185.1818181818182\" r=\"7.700000000000001\" />\n            <circle fill=\"#118ed8\" fill-opacity=\"0.3\" stroke=\"#118ed8\" stroke-opacity=\"0.0\" stroke-width=\"0.0\" cx=\"20.229035867684708\" cy=\"185.1818181818182\" r=\"7.700000000000001\" />\n            <circle fill=\"#118ed8\" fill-opacity=\"0.3\" stroke=\"#118ed8\" stroke-opacity=\"0.0\" stroke-width=\"0.0\" cx=\"20.229035867684708\" cy=\"185.1818181818182\" r=\"7.700000000000001\" />\n            <circle fill=\"#118ed8\" fill-opacity=\"0.3\" stroke=\"#118ed8\" stroke-opacity=\"0.0\" stroke-width=\"0.0\" cx=\"20.229035867684708\" cy=\"185.1818181818182\" r=\"7.700000000000001\" />\n            <circle fill=\"#118ed8\" fill-opacity=\"0.3\" stroke=\"#118ed8\" stroke-opacity=\"0.0\" stroke-width=\"0.0\" cx=\"155.08927498558276\" cy=\"185.1818181818182\" r=\"7.700000000000001\" />\n            <circle fill=\"#118ed8\" fill-opacity=\"0.3\" stroke=\"#118ed8\" stroke-opacity=\"0.0\" stroke-width=\"0.0\" cx=\"155.08927498558276\" cy=\"67.60606060606061\" r=\"7.700000000000001\" />\n            <circle fill=\"#118ed8\" fill-opacity=\"0.3\" stroke=\"#118ed8\" stroke-opacity=\"0.0\" stroke-width=\"0.0\" cx=\"155.08927498558276\" cy=\"126.3939393939394\" r=\"7.700000000000001\" />\n            <circle fill=\"#118ed8\" fill-opacity=\"0.3\" stroke=\"#118ed8\" stroke-opacity=\"0.0\" stroke-width=\"0.0\" cx=\"155.08927498558276\" cy=\"126.3939393939394\" r=\"7.700000000000001\" />\n            <circle fill=\"#118ed8\" fill-opacity=\"0.3\" stroke=\"#118ed8\" stroke-opacity=\"0.0\" stroke-width=\"0.0\" cx=\"155.08927498558276\" cy=\"67.60606060606061\" r=\"7.700000000000001\" />\n            <circle fill=\"#118ed8\" fill-opacity=\"0.3\" stroke=\"#118ed8\" stroke-opacity=\"0.0\" stroke-width=\"0.0\" cx=\"289.94951410348085\" cy=\"67.60606060606061\" r=\"7.700000000000001\" />\n            <circle fill=\"#118ed8\" fill-opacity=\"0.3\" stroke=\"#118ed8\" stroke-opacity=\"0.0\" stroke-width=\"0.0\" cx=\"289.94951410348085\" cy=\"126.3939393939394\" r=\"7.700000000000001\" />\n            <circle fill=\"#118ed8\" fill-opacity=\"0.3\" stroke=\"#118ed8\" stroke-opacity=\"0.0\" stroke-width=\"0.0\" cx=\"289.94951410348085\" cy=\"67.60606060606061\" r=\"7.700000000000001\" />\n            <circle fill=\"#118ed8\" fill-opacity=\"0.3\" stroke=\"#118ed8\" stroke-opacity=\"0.0\" stroke-width=\"0.0\" cx=\"289.94951410348085\" cy=\"67.60606060606061\" r=\"7.700000000000001\" />\n            <circle fill=\"#118ed8\" fill-opacity=\"0.3\" stroke=\"#118ed8\" stroke-opacity=\"0.0\" stroke-width=\"0.0\" cx=\"289.94951410348085\" cy=\"126.3939393939394\" r=\"7.700000000000001\" />\n            <circle fill=\"#118ed8\" fill-opacity=\"0.3\" stroke=\"#118ed8\" stroke-opacity=\"0.0\" stroke-width=\"0.0\" cx=\"424.8097532213789\" cy=\"67.60606060606061\" r=\"7.700000000000001\" />\n            <circle fill=\"#118ed8\" fill-opacity=\"0.3\" stroke=\"#118ed8\" stroke-opacity=\"0.0\" stroke-width=\"0.0\" cx=\"424.8097532213789\" cy=\"8.818181818181813\" r=\"7.700000000000001\" />\n            <circle fill=\"#118ed8\" fill-opacity=\"0.3\" stroke=\"#118ed8\" stroke-opacity=\"0.0\" stroke-width=\"0.0\" cx=\"424.8097532213789\" cy=\"67.60606060606061\" r=\"7.700000000000001\" />\n            <circle fill=\"#118ed8\" fill-opacity=\"0.3\" stroke=\"#118ed8\" stroke-opacity=\"0.0\" stroke-width=\"0.0\" cx=\"424.8097532213789\" cy=\"8.818181818181813\" r=\"7.700000000000001\" />\n            <circle fill=\"#118ed8\" fill-opacity=\"0.3\" stroke=\"#118ed8\" stroke-opacity=\"0.0\" stroke-width=\"0.0\" cx=\"424.8097532213789\" cy=\"8.818181818181813\" r=\"7.700000000000001\" />\n          </g>\n        </g>\n      </g>\n    </g>\n    <g transform=\"translate(14.5 107.0 ) rotate(-90.0 ) \">\n      <text class=\"axis-title-y\" y=\"0.0\" text-anchor=\"middle\">\n      yvar\n      </text>\n    </g>\n    <g transform=\"translate(267.4806054554682 241.5 ) \">\n      <text class=\"axis-title-x\" y=\"0.0\" text-anchor=\"middle\">\n      xvar\n      </text>\n    </g>\n  </g>\n  <g id=\"dbuh0D0\">\n  </g>\n</svg>\n        <script>document.getElementById(\"be00a935-2fe1-492e-8397-e609860a48a5\").style.display = \"none\";</script>",
      "application/plot+json": {
       "output_type": "lets_plot_spec",
       "output": {
        "mapping": {},
        "data": {
         "yvar": [
          0.0,
          0.0,
          0.0,
          0.0,
          0.0,
          0.0,
          10.0,
          5.0,
          5.0,
          10.0,
          10.0,
          5.0,
          10.0,
          10.0,
          5.0,
          10.0,
          15.0,
          10.0,
          15.0,
          15.0
         ],
         "xvar": [
          0.0,
          0.0,
          0.0,
          0.0,
          0.0,
          5.0,
          5.0,
          5.0,
          5.0,
          5.0,
          10.0,
          10.0,
          10.0,
          10.0,
          10.0,
          15.0,
          15.0,
          15.0,
          15.0,
          15.0
         ]
        },
        "ggsize": {
         "width": 500.0,
         "height": 250.0
        },
        "kind": "plot",
        "scales": [
         {
          "aesthetic": "x",
          "breaks": [
           0.0,
           5.0,
           10.0,
           15.0
          ],
          "limits": [
           null,
           null
          ]
         },
         {
          "aesthetic": "y",
          "limits": [
           null,
           null
          ]
         }
        ],
        "layers": [
         {
          "mapping": {
           "x": "xvar",
           "y": "yvar"
          },
          "stat": "identity",
          "size": 7.0,
          "sampling": "none",
          "alpha": 0.3,
          "position": "identity",
          "geom": "point"
         }
        ]
       },
       "apply_color_scheme": true,
       "swing_enabled": true
      }
     },
     "execution_count": 8,
     "metadata": {},
     "output_type": "execute_result"
    }
   ],
   "source": [
    "plot(data1) {\n",
    "    points {\n",
    "        x(xvar) {\n",
    "            axis.breaks(listOf(0, 5, 10, 15))\n",
    "        }\n",
    "        y(\"yvar\"<Int>())\n",
    "        alpha = .3\n",
    "        size = 7.0\n",
    "    }\n",
    "    layout { \n",
    "        size = 500 to 250\n",
    "    }\n",
    "}"
   ]
  },
  {
   "cell_type": "code",
   "execution_count": 9,
   "metadata": {
    "ExecuteTime": {
     "end_time": "2023-06-02T10:01:13.940853Z",
     "start_time": "2023-06-02T10:01:13.792528Z"
    }
   },
   "outputs": [
    {
     "data": {
      "text/html": "            <script type=\"text/javascript\" data-lets-plot-script=\"library\" src=\"https://cdn.jsdelivr.net/gh/JetBrains/lets-plot@v3.1.0/js-package/distr/lets-plot.min.js\"></script>    \n               <div id=\"eVSeCJ\"></div>\n   <script type=\"text/javascript\" data-lets-plot-script=\"plot\">\n       var plotSpec={\n\"mapping\":{\n},\n\"data\":{\n\"yvar\":[0.0,0.0,0.0,0.0,0.0,0.0,10.0,5.0,5.0,10.0,10.0,5.0,10.0,10.0,5.0,10.0,15.0,10.0,15.0,15.0],\n\"xvar\":[0.0,0.0,0.0,0.0,0.0,5.0,5.0,5.0,5.0,5.0,10.0,10.0,10.0,10.0,10.0,15.0,15.0,15.0,15.0,15.0]\n},\n\"ggsize\":{\n\"width\":500.0,\n\"height\":250.0\n},\n\"kind\":\"plot\",\n\"scales\":[{\n\"aesthetic\":\"x\",\n\"breaks\":[0.0,5.0,10.0,15.0],\n\"limits\":[null,null]\n},{\n\"aesthetic\":\"y\",\n\"limits\":[null,null]\n}],\n\"layers\":[{\n\"mapping\":{\n\"x\":\"xvar\",\n\"y\":\"yvar\"\n},\n\"stat\":\"identity\",\n\"shape\":1.0,\n\"sampling\":\"none\",\n\"position\":{\n\"name\":\"jitter\",\n\"width\":0.1,\n\"height\":0.1\n},\n\"geom\":\"point\",\n\"data\":{\n}\n}]\n};\n       var plotContainer = document.getElementById(\"eVSeCJ\");\n       LetsPlot.buildPlotFromProcessedSpecs(plotSpec, -1, -1, plotContainer);\n   </script>            \n        <svg id=96c29bf1-c858-4783-a6cd-13067e50727e xmlns=\"http://www.w3.org/2000/svg\" xmlns:xlink=\"http://www.w3.org/1999/xlink\" class=\"plt-container\" width=\"500.0\" height=\"250.0\">\n  <style type=\"text/css\">\n  .plt-container {\n   font-family: Lucida Grande, sans-serif;\n   user-select: none;\n   -webkit-user-select: none;\n   -moz-user-select: none;\n   -ms-user-select: none;\n}\ntext {\n   text-rendering: optimizeLegibility;\n}\n#pUpsEQX .plot-title {\n   fill: #474747;\n   font-family: Lucida Grande, sans-serif;\n   font-size: 16.0px;\n   font-weight: normal;\n   font-style: normal;   \n}\n#pUpsEQX .plot-subtitle {\n   fill: #474747;\n   font-family: Lucida Grande, sans-serif;\n   font-size: 15.0px;\n   font-weight: normal;\n   font-style: normal;   \n}\n#pUpsEQX .plot-caption {\n   fill: #474747;\n   font-family: Lucida Grande, sans-serif;\n   font-size: 13.0px;\n   font-weight: normal;\n   font-style: normal;   \n}\n#pUpsEQX .legend-title {\n   fill: #474747;\n   font-family: Lucida Grande, sans-serif;\n   font-size: 15.0px;\n   font-weight: normal;\n   font-style: normal;   \n}\n#pUpsEQX .legend-item {\n   fill: #474747;\n   font-family: Lucida Grande, sans-serif;\n   font-size: 13.0px;\n   font-weight: normal;\n   font-style: normal;   \n}\n#pUpsEQX .axis-title-x {\n   fill: #474747;\n   font-family: Lucida Grande, sans-serif;\n   font-size: 15.0px;\n   font-weight: normal;\n   font-style: normal;   \n}\n#pUpsEQX .axis-text-x {\n   fill: #474747;\n   font-family: Lucida Grande, sans-serif;\n   font-size: 13.0px;\n   font-weight: normal;\n   font-style: normal;   \n}\n#ddJ2p6J .axis-tooltip-text-x {\n   fill: #ffffff;\n   font-family: Lucida Grande, sans-serif;\n   font-size: 13.0px;\n   font-weight: normal;\n   font-style: normal;   \n}\n#pUpsEQX .axis-title-y {\n   fill: #474747;\n   font-family: Lucida Grande, sans-serif;\n   font-size: 15.0px;\n   font-weight: normal;\n   font-style: normal;   \n}\n#pUpsEQX .axis-text-y {\n   fill: #474747;\n   font-family: Lucida Grande, sans-serif;\n   font-size: 13.0px;\n   font-weight: normal;\n   font-style: normal;   \n}\n#ddJ2p6J .axis-tooltip-text-y {\n   fill: #ffffff;\n   font-family: Lucida Grande, sans-serif;\n   font-size: 13.0px;\n   font-weight: normal;\n   font-style: normal;   \n}\n#pUpsEQX .facet-strip-text-x {\n   fill: #474747;\n   font-family: Lucida Grande, sans-serif;\n   font-size: 13.0px;\n   font-weight: normal;\n   font-style: normal;   \n}\n#pUpsEQX .facet-strip-text-y {\n   fill: #474747;\n   font-family: Lucida Grande, sans-serif;\n   font-size: 13.0px;\n   font-weight: normal;\n   font-style: normal;   \n}\n#ddJ2p6J .tooltip-text {\n   fill: #474747;\n   font-family: Lucida Grande, sans-serif;\n   font-size: 13.0px;\n   font-weight: normal;\n   font-style: normal;   \n}\n#ddJ2p6J .tooltip-title {\n   fill: #474747;\n   font-family: Lucida Grande, sans-serif;\n   font-size: 13.0px;\n   font-weight: bold;\n   font-style: normal;   \n}\n#ddJ2p6J .tooltip-label {\n   fill: #474747;\n   font-family: Lucida Grande, sans-serif;\n   font-size: 13.0px;\n   font-weight: bold;\n   font-style: normal;   \n}\n\n  </style>\n  <g id=\"pUpsEQX\">\n    <rect x=\"0.0\" y=\"0.0\" height=\"250.0\" width=\"500.0\" stroke=\"rgb(71,71,71)\" stroke-opacity=\"1.0\" stroke-width=\"0.0\" fill=\"rgb(255,255,255)\" fill-opacity=\"1.0\">\n    </rect>\n    <g transform=\"translate(23.0 10.0 ) \">\n      <g transform=\"translate(21.961210910936405 194.0 ) \">\n        <line x1=\"29.387907593434115\" y1=\"-0.0\" x2=\"29.387907593434115\" y2=\"-194.0\" stroke=\"rgb(233,233,233)\" stroke-opacity=\"1.0\" stroke-width=\"1.0\">\n        </line>\n        <line x1=\"158.5293906871699\" y1=\"-0.0\" x2=\"158.5293906871699\" y2=\"-194.0\" stroke=\"rgb(233,233,233)\" stroke-opacity=\"1.0\" stroke-width=\"1.0\">\n        </line>\n        <line x1=\"287.6708737809057\" y1=\"-0.0\" x2=\"287.6708737809057\" y2=\"-194.0\" stroke=\"rgb(233,233,233)\" stroke-opacity=\"1.0\" stroke-width=\"1.0\">\n        </line>\n        <line x1=\"416.81235687464147\" y1=\"-0.0\" x2=\"416.81235687464147\" y2=\"-194.0\" stroke=\"rgb(233,233,233)\" stroke-opacity=\"1.0\" stroke-width=\"1.0\">\n        </line>\n        <g transform=\"translate(29.387907593434115 0.0 ) \">\n          <line stroke-width=\"1.0\" stroke=\"rgb(71,71,71)\" stroke-opacity=\"1.0\" x2=\"0.0\" y2=\"4.0\">\n          </line>\n          <g transform=\"translate(0.0 7.0 ) \">\n            <text class=\"axis-text-x\" text-anchor=\"middle\" dy=\"0.7em\">\n            0.0\n            </text>\n          </g>\n        </g>\n        <g transform=\"translate(158.5293906871699 0.0 ) \">\n          <line stroke-width=\"1.0\" stroke=\"rgb(71,71,71)\" stroke-opacity=\"1.0\" x2=\"0.0\" y2=\"4.0\">\n          </line>\n          <g transform=\"translate(0.0 7.0 ) \">\n            <text class=\"axis-text-x\" text-anchor=\"middle\" dy=\"0.7em\">\n            5.0\n            </text>\n          </g>\n        </g>\n        <g transform=\"translate(287.6708737809057 0.0 ) \">\n          <line stroke-width=\"1.0\" stroke=\"rgb(71,71,71)\" stroke-opacity=\"1.0\" x2=\"0.0\" y2=\"4.0\">\n          </line>\n          <g transform=\"translate(0.0 7.0 ) \">\n            <text class=\"axis-text-x\" text-anchor=\"middle\" dy=\"0.7em\">\n            10.0\n            </text>\n          </g>\n        </g>\n        <g transform=\"translate(416.81235687464147 0.0 ) \">\n          <line stroke-width=\"1.0\" stroke=\"rgb(71,71,71)\" stroke-opacity=\"1.0\" x2=\"0.0\" y2=\"4.0\">\n          </line>\n          <g transform=\"translate(0.0 7.0 ) \">\n            <text class=\"axis-text-x\" text-anchor=\"middle\" dy=\"0.7em\">\n            15.0\n            </text>\n          </g>\n        </g>\n        <line x1=\"0.0\" y1=\"0.0\" x2=\"445.0387890890636\" y2=\"0.0\" stroke-width=\"1.0\" stroke=\"rgb(71,71,71)\" stroke-opacity=\"1.0\">\n        </line>\n      </g>\n      <g transform=\"translate(21.961210910936405 0.0 ) \">\n        <line x1=\"0.0\" y1=\"180.2057319469444\" x2=\"445.0387890890636\" y2=\"180.2057319469444\" stroke=\"rgb(233,233,233)\" stroke-opacity=\"1.0\" stroke-width=\"1.0\">\n        </line>\n        <line x1=\"0.0\" y1=\"124.84061836826521\" x2=\"445.0387890890636\" y2=\"124.84061836826521\" stroke=\"rgb(233,233,233)\" stroke-opacity=\"1.0\" stroke-width=\"1.0\">\n        </line>\n        <line x1=\"0.0\" y1=\"69.47550478958603\" x2=\"445.0387890890636\" y2=\"69.47550478958603\" stroke=\"rgb(233,233,233)\" stroke-opacity=\"1.0\" stroke-width=\"1.0\">\n        </line>\n        <line x1=\"0.0\" y1=\"14.11039121090684\" x2=\"445.0387890890636\" y2=\"14.11039121090684\" stroke=\"rgb(233,233,233)\" stroke-opacity=\"1.0\" stroke-width=\"1.0\">\n        </line>\n        <g transform=\"translate(0.0 180.2057319469444 ) \">\n          <g transform=\"translate(-3.0 0.0 ) \">\n            <text class=\"axis-text-y\" text-anchor=\"end\" dy=\"0.35em\">\n            0\n            </text>\n          </g>\n        </g>\n        <g transform=\"translate(0.0 124.84061836826521 ) \">\n          <g transform=\"translate(-3.0 0.0 ) \">\n            <text class=\"axis-text-y\" text-anchor=\"end\" dy=\"0.35em\">\n            5\n            </text>\n          </g>\n        </g>\n        <g transform=\"translate(0.0 69.47550478958603 ) \">\n          <g transform=\"translate(-3.0 0.0 ) \">\n            <text class=\"axis-text-y\" text-anchor=\"end\" dy=\"0.35em\">\n            10\n            </text>\n          </g>\n        </g>\n        <g transform=\"translate(0.0 14.11039121090684 ) \">\n          <g transform=\"translate(-3.0 0.0 ) \">\n            <text class=\"axis-text-y\" text-anchor=\"end\" dy=\"0.35em\">\n            15\n            </text>\n          </g>\n        </g>\n      </g>\n      <g transform=\"translate(21.961210910936405 0.0 ) \" clip-path=\"url(#cFeIxzx)\" clip-bounds-jfx=\"[rect (0.0, 0.0), (445.0387890890636, 194.0)]\">\n        <defs>\n          <clipPath id=\"cFeIxzx\">\n            <rect x=\"0.0\" y=\"0.0\" width=\"445.0387890890636\" height=\"194.0\">\n            </rect>\n          </clipPath>\n        </defs>\n        <g>\n          \n          <g >\n            <circle fill=\"#000000\" fill-opacity=\"0.0\" stroke=\"#118ed8\" stroke-width=\"0.55\" cx=\"17.058142411926436\" cy=\"184.1807580001228\" r=\"2.475\" />\n            <circle fill=\"#000000\" fill-opacity=\"0.0\" stroke=\"#118ed8\" stroke-width=\"0.55\" cx=\"24.13192297795309\" cy=\"184.95256034038817\" r=\"2.475\" />\n            <circle fill=\"#000000\" fill-opacity=\"0.0\" stroke=\"#118ed8\" stroke-width=\"0.55\" cx=\"18.445876537737156\" cy=\"179.26892627908114\" r=\"2.475\" />\n            <circle fill=\"#000000\" fill-opacity=\"0.0\" stroke=\"#118ed8\" stroke-width=\"0.55\" cx=\"23.001981165550376\" cy=\"180.61372728463738\" r=\"2.475\" />\n            <circle fill=\"#000000\" fill-opacity=\"0.0\" stroke=\"#118ed8\" stroke-width=\"0.55\" cx=\"37.22533186470193\" cy=\"180.16959913100806\" r=\"2.475\" />\n            <circle fill=\"#000000\" fill-opacity=\"0.0\" stroke=\"#118ed8\" stroke-width=\"0.55\" cx=\"147.77059876268132\" cy=\"181.77307094211253\" r=\"2.475\" />\n            <circle fill=\"#000000\" fill-opacity=\"0.0\" stroke=\"#118ed8\" stroke-width=\"0.55\" cx=\"156.1916046136289\" cy=\"64.55698150531302\" r=\"2.475\" />\n            <circle fill=\"#000000\" fill-opacity=\"0.0\" stroke=\"#118ed8\" stroke-width=\"0.55\" cx=\"157.9002991410881\" cy=\"126.73510406315984\" r=\"2.475\" />\n            <circle fill=\"#000000\" fill-opacity=\"0.0\" stroke=\"#118ed8\" stroke-width=\"0.55\" cx=\"168.04694199938788\" cy=\"128.70796813027857\" r=\"2.475\" />\n            <circle fill=\"#000000\" fill-opacity=\"0.0\" stroke=\"#118ed8\" stroke-width=\"0.55\" cx=\"150.11631548672932\" cy=\"73.42235442951991\" r=\"2.475\" />\n            <circle fill=\"#000000\" fill-opacity=\"0.0\" stroke=\"#118ed8\" stroke-width=\"0.55\" cx=\"284.0500310727054\" cy=\"70.24542201095674\" r=\"2.475\" />\n            <circle fill=\"#000000\" fill-opacity=\"0.0\" stroke=\"#118ed8\" stroke-width=\"0.55\" cx=\"285.92301991563727\" cy=\"120.69250680226548\" r=\"2.475\" />\n            <circle fill=\"#000000\" fill-opacity=\"0.0\" stroke=\"#118ed8\" stroke-width=\"0.55\" cx=\"299.75625783712314\" cy=\"65.69854547611652\" r=\"2.475\" />\n            <circle fill=\"#000000\" fill-opacity=\"0.0\" stroke=\"#118ed8\" stroke-width=\"0.55\" cx=\"275.34241011243734\" cy=\"74.33506889722094\" r=\"2.475\" />\n            <circle fill=\"#000000\" fill-opacity=\"0.0\" stroke=\"#118ed8\" stroke-width=\"0.55\" cx=\"290.43054429033634\" cy=\"125.77230069570605\" r=\"2.475\" />\n            <circle fill=\"#000000\" fill-opacity=\"0.0\" stroke=\"#118ed8\" stroke-width=\"0.55\" cx=\"414.63778031171927\" cy=\"66.71140981755956\" r=\"2.475\" />\n            <circle fill=\"#000000\" fill-opacity=\"0.0\" stroke=\"#118ed8\" stroke-width=\"0.55\" cx=\"407.1299834687899\" cy=\"9.670854604446305\" r=\"2.475\" />\n            <circle fill=\"#000000\" fill-opacity=\"0.0\" stroke=\"#118ed8\" stroke-width=\"0.55\" cx=\"417.49034323556083\" cy=\"68.75444089147429\" r=\"2.475\" />\n            <circle fill=\"#000000\" fill-opacity=\"0.0\" stroke=\"#118ed8\" stroke-width=\"0.55\" cx=\"418.5888691937013\" cy=\"13.831903708136679\" r=\"2.475\" />\n            <circle fill=\"#000000\" fill-opacity=\"0.0\" stroke=\"#118ed8\" stroke-width=\"0.55\" cx=\"413.13762921075175\" cy=\"12.376284664694367\" r=\"2.475\" />\n          </g>\n        </g>\n      </g>\n    </g>\n    <g transform=\"translate(14.5 107.0 ) rotate(-90.0 ) \">\n      <text class=\"axis-title-y\" y=\"0.0\" text-anchor=\"middle\">\n      yvar\n      </text>\n    </g>\n    <g transform=\"translate(267.4806054554682 241.5 ) \">\n      <text class=\"axis-title-x\" y=\"0.0\" text-anchor=\"middle\">\n      xvar\n      </text>\n    </g>\n  </g>\n  <g id=\"ddJ2p6J\">\n  </g>\n</svg>\n        <script>document.getElementById(\"96c29bf1-c858-4783-a6cd-13067e50727e\").style.display = \"none\";</script>",
      "application/plot+json": {
       "output_type": "lets_plot_spec",
       "output": {
        "mapping": {},
        "data": {
         "yvar": [
          0.0,
          0.0,
          0.0,
          0.0,
          0.0,
          0.0,
          10.0,
          5.0,
          5.0,
          10.0,
          10.0,
          5.0,
          10.0,
          10.0,
          5.0,
          10.0,
          15.0,
          10.0,
          15.0,
          15.0
         ],
         "xvar": [
          0.0,
          0.0,
          0.0,
          0.0,
          0.0,
          5.0,
          5.0,
          5.0,
          5.0,
          5.0,
          10.0,
          10.0,
          10.0,
          10.0,
          10.0,
          15.0,
          15.0,
          15.0,
          15.0,
          15.0
         ]
        },
        "ggsize": {
         "width": 500.0,
         "height": 250.0
        },
        "kind": "plot",
        "scales": [
         {
          "aesthetic": "x",
          "breaks": [
           0.0,
           5.0,
           10.0,
           15.0
          ],
          "limits": [
           null,
           null
          ]
         },
         {
          "aesthetic": "y",
          "limits": [
           null,
           null
          ]
         }
        ],
        "layers": [
         {
          "mapping": {
           "x": "xvar",
           "y": "yvar"
          },
          "stat": "identity",
          "shape": 1.0,
          "sampling": "none",
          "position": {
           "name": "jitter",
           "width": 0.1,
           "height": 0.1
          },
          "geom": "point"
         }
        ]
       },
       "apply_color_scheme": true,
       "swing_enabled": true
      }
     },
     "execution_count": 9,
     "metadata": {},
     "output_type": "execute_result"
    }
   ],
   "source": [
    "plot(data1) {\n",
    "    points {\n",
    "        x(xvar) {\n",
    "            axis.breaks(listOf(0, 5, 10, 15))\n",
    "        }\n",
    "        y(\"yvar\"<Int>())\n",
    "        symbol = Symbol.CIRCLE_OPEN\n",
    "        \n",
    "        position = Position.Jitter(.1, .1)\n",
    "    }\n",
    "    layout { \n",
    "        size = 500 to 250\n",
    "    }\n",
    "}"
   ]
  }
 ],
 "metadata": {
  "kernelspec": {
   "display_name": "Kotlin",
   "language": "kotlin",
   "name": "kotlin"
  },
  "language_info": {
   "codemirror_mode": "text/x-kotlin",
   "file_extension": ".kt",
   "mimetype": "text/x-kotlin",
   "name": "kotlin",
   "nbconvert_exporter": "",
   "pygments_lexer": "kotlin",
   "version": "1.8.20-Beta"
  }
 },
 "nbformat": 4,
 "nbformat_minor": 4
}
