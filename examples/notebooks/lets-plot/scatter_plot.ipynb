{
 "cells": [
  {
   "cell_type": "code",
   "execution_count": null,
   "metadata": {},
   "outputs": [],
   "source": [
    "%useLatestDescriptors\n",
    "%use kandy\n",
    "%use dataframe\n",
    "import java.util.Random"
   ]
  },
  {
   "cell_type": "code",
   "execution_count": null,
   "metadata": {},
   "outputs": [],
   "source": [
    "// This example was found at: \n",
    "// www.cookbook-r.com/Graphs/Scatterplots_(ggplot2)\n",
    "\n",
    "val rand = java.util.Random(123)\n",
    "val n = 20\n",
    "val data = mapOf<String, List<Any>>(\n",
    "    \"cond\" to List(n / 2) { \"A\" } + List(n / 2) { \"B\" },\n",
    "    \"xvar\" to List(n) { i:Int-> i }, \n",
    "    \"yvar\" to List(n) { i:Int-> i + rand.nextGaussian() * 3 }\n",
    ")"
   ]
  },
  {
   "cell_type": "code",
   "execution_count": null,
   "metadata": {},
   "outputs": [],
   "source": [
    "val cond = \"cond\"<String>()\n",
    "val xvar = \"xvar\"<Int>()\n",
    "val yvar = \"yvar\"<Double>()"
   ]
  },
  {
   "cell_type": "markdown",
   "metadata": {},
   "source": [
    "#### Basic scatter plot"
   ]
  },
  {
   "cell_type": "code",
   "execution_count": null,
   "metadata": {},
   "outputs": [],
   "source": [
    "plot(data) {\n",
    "    points {\n",
    "        x(xvar)\n",
    "        y(yvar)\n",
    "        symbol = Symbol.CIRCLE_OPEN\n",
    "    }\n",
    "    layout { \n",
    "        size = 300 to 250\n",
    "    }\n",
    "}"
   ]
  },
  {
   "cell_type": "code",
   "execution_count": null,
   "metadata": {},
   "outputs": [],
   "source": [
    "plot(data) {\n",
    "    points {\n",
    "        x(xvar)\n",
    "        y(yvar)\n",
    "        color(cond)\n",
    "        symbol(cond)\n",
    "        size = 5.0\n",
    "    }\n",
    "    layout { \n",
    "        size = 500 to 250\n",
    "    }\n",
    "}"
   ]
  },
  {
   "cell_type": "code",
   "execution_count": null,
   "metadata": {},
   "outputs": [],
   "source": [
    "plot(data) {\n",
    "    points {\n",
    "        x(xvar)\n",
    "        y(yvar)\n",
    "        color(cond)\n",
    "        symbol(cond) {\n",
    "            scale = categorical(range = listOf(Symbol.CIRCLE_OPEN, Symbol.TRIANGLE_OPEN))\n",
    "        }\n",
    "        size = 5.0\n",
    "    }\n",
    "    layout { \n",
    "        size = 500 to 250\n",
    "    }\n",
    "}"
   ]
  },
  {
   "cell_type": "markdown",
   "metadata": {},
   "source": [
    "#### Handling overplotting"
   ]
  },
  {
   "cell_type": "code",
   "execution_count": null,
   "metadata": {},
   "outputs": [],
   "source": [
    "// Create data with overlapping points.\n",
    "val data1 = mapOf(\n",
    "        \"xvar\" to (data[\"xvar\"] as List<Double>).map { (it / 5).toInt() * 5 },\n",
    "        \"yvar\" to (data[\"yvar\"] as List<Double>).map { (it / 5).toInt() * 5 },\n",
    "    )"
   ]
  },
  {
   "cell_type": "code",
   "execution_count": null,
   "metadata": {},
   "outputs": [],
   "source": [
    "plot(data1) {\n",
    "    points {\n",
    "        x(xvar) {\n",
    "            axis.breaks(listOf(0, 5, 10, 15))\n",
    "        }\n",
    "        y(\"yvar\"<Int>())\n",
    "        alpha = .3\n",
    "        size = 7.0\n",
    "    }\n",
    "    layout { \n",
    "        size = 500 to 250\n",
    "    }\n",
    "}"
   ]
  },
  {
   "cell_type": "code",
   "execution_count": null,
   "metadata": {},
   "outputs": [],
   "source": [
    "plot(data1) {\n",
    "    points {\n",
    "        x(xvar) {\n",
    "            axis.breaks(listOf(0, 5, 10, 15))\n",
    "        }\n",
    "        y(\"yvar\"<Int>())\n",
    "        symbol = Symbol.CIRCLE_OPEN\n",
    "        \n",
    "        position = Position.Jitter(.1, .1)\n",
    "    }\n",
    "    layout { \n",
    "        size = 500 to 250\n",
    "    }\n",
    "}"
   ]
  }
 ],
 "metadata": {
  "kernelspec": {
   "display_name": "Kotlin",
   "language": "kotlin",
   "name": "kotlin"
  },
  "language_info": {
   "codemirror_mode": "text/x-kotlin",
   "file_extension": ".kt",
   "mimetype": "text/x-kotlin",
   "name": "kotlin",
   "nbconvert_exporter": "",
   "pygments_lexer": "kotlin",
   "version": "1.8.20-Beta"
  }
 },
 "nbformat": 4,
 "nbformat_minor": 4
}
