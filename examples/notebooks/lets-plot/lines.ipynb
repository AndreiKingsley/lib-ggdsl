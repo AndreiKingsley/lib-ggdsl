{
 "cells": [
  {
   "cell_type": "markdown",
   "id": "872680a6",
   "metadata": {},
   "source": [
    "# Lines in Lets-Plot"
   ]
  },
  {
   "cell_type": "code",
   "execution_count": null,
   "id": "9c24c1d2",
   "metadata": {},
   "outputs": [],
   "source": [
    "%useLatestDescriptors\n",
    "%use kotlin-statistics\n",
    "%use kandy(0.4.2)\n",
    "%use dataframe"
   ]
  },
  {
   "cell_type": "markdown",
   "id": "91a3bca2",
   "metadata": {},
   "source": [
    "## Vertical, horizontal and oblique lines"
   ]
  },
  {
   "cell_type": "code",
   "execution_count": null,
   "id": "b62278c4",
   "metadata": {},
   "outputs": [],
   "source": [
    "val mpgDf = DataFrame.readCSV(\"https://raw.githubusercontent.com/JetBrains/lets-plot-kotlin/master/docs/examples/data/mpg.csv\")\n",
    "mpgDf.head()\n"
   ]
  },
  {
   "cell_type": "code",
   "execution_count": null,
   "id": "f395c360",
   "metadata": {},
   "outputs": [],
   "source": [
    "val mpgMap = mpgDf.toMap()"
   ]
  },
  {
   "cell_type": "code",
   "execution_count": null,
   "id": "781fdc93",
   "metadata": {},
   "outputs": [],
   "source": [
    "val regModel = (mpgMap[\"cty\"]!! zip mpgMap[\"hwy\"]!!).simpleRegression(\n",
    "    xSelector = { it.first as Number },\n",
    "    ySelector = { it.second as Number }\n",
    ")\n",
    "val ctyMedian = mpgDf.median {cty}\n",
    "val hwyMedian = mpgDf.median {hwy}"
   ]
  },
  {
   "cell_type": "code",
   "execution_count": null,
   "id": "bf6e4020",
   "metadata": {},
   "outputs": [],
   "source": [
    "val medianColor = Color.hex(\"#756bb1\")\n",
    "mpgDf.plot {\n",
    "      points { \n",
    "          x(cty)\n",
    "          y(hwy)\n",
    "      }\n",
    "      vLine {\n",
    "          xIntercept.constant(ctyMedian)\n",
    "          color = medianColor\n",
    "          type = LineType.DASHED\n",
    "      }\n",
    "      hLine {\n",
    "          yIntercept.constant(hwyMedian)\n",
    "          color = medianColor\n",
    "          type = LineType.DASHED\n",
    "      }\n",
    "      abLine {\n",
    "          slope.constant(regModel.slope)\n",
    "          intercept.constant(regModel.intercept)\n",
    "          color = Color.hex(\"#de2d26\")\n",
    "      }\n",
    "}"
   ]
  },
  {
   "cell_type": "markdown",
   "id": "4211165f",
   "metadata": {},
   "source": [
    "## Broken lines"
   ]
  },
  {
   "cell_type": "code",
   "execution_count": null,
   "id": "d1c840c9",
   "metadata": {},
   "outputs": [],
   "source": [
    "fun generateParabolicDataMap(n: Int = 25, a: Double = 1.0): Map<String, List<Double>> {\n",
    "    val rand = java.util.Random(42)\n",
    "    val x = List(2 * n + 1) { i -> a * (i - n).toDouble() / n }\n",
    "    val y = x.map { i -> i * i + rand.nextGaussian() }\n",
    "    return mapOf(\"x\" to x, \"y\" to y)\n",
    "}\n",
    "\n",
    "val pDataMap = generateParabolicDataMap(a = 3.0)"
   ]
  },
  {
   "cell_type": "code",
   "execution_count": null,
   "id": "f935467f",
   "metadata": {},
   "outputs": [],
   "source": [
    "val xSrc = column<Double>(\"x\")\n",
    "val ySrc = column<Double>(\"y\")"
   ]
  },
  {
   "cell_type": "code",
   "execution_count": null,
   "id": "107bb897",
   "metadata": {},
   "outputs": [],
   "source": [
    "plot(pDataMap) {\n",
    "    line {\n",
    "        x(xSrc)\n",
    "        y(ySrc)\n",
    "    }\n",
    "}"
   ]
  },
  {
   "cell_type": "code",
   "execution_count": null,
   "id": "72efb291",
   "metadata": {},
   "outputs": [],
   "source": [
    "plot(pDataMap) {\n",
    "    path {\n",
    "        x(xSrc)\n",
    "        y(ySrc)\n",
    "    }\n",
    "}"
   ]
  },
  {
   "cell_type": "code",
   "execution_count": null,
   "id": "e9ee7717",
   "metadata": {},
   "outputs": [],
   "source": [
    "plot(pDataMap) {\n",
    "    step  {\n",
    "        x(xSrc)\n",
    "        y(ySrc)\n",
    "    }\n",
    "}"
   ]
  },
  {
   "cell_type": "markdown",
   "id": "5ebb12bf",
   "metadata": {},
   "source": [
    "And what is the difference between `geomLine()` and `geomPath()`?\n",
    "\n",
    "Let's have a look at the following example:"
   ]
  },
  {
   "cell_type": "code",
   "execution_count": null,
   "id": "ec5263cf",
   "metadata": {},
   "outputs": [],
   "source": [
    "fun generateArchimedeanDataMap(n: Int = 25, k: Double = 1.0, a: Double = 1.0): Map<String, List<Double>> {\n",
    "    val phi = List(n) { i -> 2.0 * PI * k * i.toDouble() / (n - 1) }\n",
    "    val r = phi.map { angle -> (a * angle) / (2.0 * PI) }\n",
    "    val x = (r zip phi).map { p -> p.first * cos(p.second) }\n",
    "    val y = (r zip phi).map { p -> p.first * sin(p.second) }\n",
    "    return mapOf(\"x\" to x, \"y\" to y)\n",
    "}\n",
    "\n",
    "val aDataMap = generateArchimedeanDataMap(n = 200, k = 2.0)"
   ]
  },
  {
   "cell_type": "code",
   "execution_count": null,
   "id": "dfe791d8",
   "metadata": {},
   "outputs": [],
   "source": [
    "plot(aDataMap) {\n",
    "    line {\n",
    "        x(xSrc)\n",
    "        y(ySrc)\n",
    "    }\n",
    "    layout.title = \"Plotting with geomLine()\"\n",
    "}"
   ]
  },
  {
   "cell_type": "code",
   "execution_count": null,
   "id": "aea4c291",
   "metadata": {},
   "outputs": [],
   "source": [
    "plot(aDataMap) {\n",
    "    path {\n",
    "        x(xSrc)\n",
    "        y(ySrc)\n",
    "    }\n",
    "    layout.title = \"Plotting with geomPath()\"\n",
    "}"
   ]
  },
  {
   "cell_type": "markdown",
   "id": "96c52474",
   "metadata": {},
   "source": [
    "Also an interesting plot could be drawed with `geomSegment()`:"
   ]
  },
  {
   "cell_type": "code",
   "execution_count": null,
   "id": "a2eada5a",
   "metadata": {},
   "outputs": [],
   "source": [
    "plot(generateArchimedeanDataMap(n = 50)) {\n",
    "    segment {\n",
    "        xBegin(xSrc)\n",
    "        yBegin(ySrc)\n",
    "        xEnd.constant(0.0)\n",
    "        yEnd.constant(0.0)\n",
    "    }\n",
    "}"
   ]
  }
 ],
 "metadata": {
  "kernelspec": {
   "display_name": "Kotlin",
   "language": "kotlin",
   "name": "kotlin"
  },
  "language_info": {
   "codemirror_mode": "text/x-kotlin",
   "file_extension": ".kt",
   "mimetype": "text/x-kotlin",
   "name": "kotlin",
   "nbconvert_exporter": "",
   "pygments_lexer": "kotlin",
   "version": "1.8.20-Beta"
  }
 },
 "nbformat": 4,
 "nbformat_minor": 5
}
