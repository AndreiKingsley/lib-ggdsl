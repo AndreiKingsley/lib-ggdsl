{
 "cells": [
  {
   "cell_type": "markdown",
   "metadata": {},
   "source": [
    "# Plot Bunch\n",
    "\n",
    "*plotBunch()* allows to show a collection of plots on one figure. Each plot in the collection can have arbitrary location and size. There is no automatic layout inside the bunch."
   ]
  },
  {
   "cell_type": "code",
   "execution_count": null,
   "metadata": {},
   "outputs": [],
   "source": [
    "%useLatestDescriptors\n",
    "%use lets-plot\n",
    "\n",
    "@file:DependsOn(\"org.apache.commons:commons-math3:3.6.1\")\n",
    "%use kandy"
   ]
  },
  {
   "cell_type": "code",
   "execution_count": null,
   "metadata": {},
   "outputs": [],
   "source": [
    "import kotlin.random.Random\n",
    "import org.apache.commons.math3.distribution.MultivariateNormalDistribution"
   ]
  },
  {
   "cell_type": "code",
   "execution_count": null,
   "metadata": {},
   "outputs": [],
   "source": [
    "val cov : Array<DoubleArray> = arrayOf(doubleArrayOf(1.0, 0.0),\n",
    "                                        doubleArrayOf(0.0, 1.0))\n",
    "val means : DoubleArray = doubleArrayOf(0.0, 0.0)\n",
    "val xy = MultivariateNormalDistribution(means, cov).sample(400)\n",
    "\n",
    "val xs = xy.map { it[0] }\n",
    "val ys = xy.map { it[1] }"
   ]
  },
  {
   "cell_type": "markdown",
   "metadata": {},
   "source": [
    "### View this data as a scatter plot and as a histogram"
   ]
  },
  {
   "cell_type": "code",
   "execution_count": null,
   "metadata": {},
   "outputs": [],
   "source": [
    "val myScatter = plot {\n",
    "    points {\n",
    "        x(xs)\n",
    "        y(ys)\n",
    "        color = Color.BLACK\n",
    "        alpha = .4\n",
    "    }\n",
    "    layout{\n",
    "        size = 600 to 200\n",
    "        xAxisLabel = \"x\"\n",
    "        yAxisLabel = \"y\"\n",
    "    }\n",
    "}\n",
    "myScatter"
   ]
  },
  {
   "cell_type": "code",
   "execution_count": null,
   "metadata": {},
   "outputs": [],
   "source": [
    "val myHistogram = plot {\n",
    "    histogram(xs) {\n",
    "        fillColor = Color.named(\"dark_magenta\")\n",
    "    }\n",
    "    layout{\n",
    "        size = 600 to 200\n",
    "        xAxisLabel = \"x\"\n",
    "    }\n",
    "}\n",
    "myHistogram"
   ]
  },
  {
   "cell_type": "markdown",
   "metadata": {},
   "source": [
    "### Combine both plots in one figure"
   ]
  },
  {
   "cell_type": "code",
   "execution_count": null,
   "metadata": {},
   "outputs": [],
   "source": [
    "val scaleX = Scale.continuousPos<Double>(-3.5..3.5)\n",
    "plotBunch {\n",
    "    add(plot {\n",
    "        histogram(xs) {\n",
    "            x { scale = scaleX }\n",
    "            fillColor = Color.named(\"dark_magenta\")\n",
    "        }\n",
    "        layout {\n",
    "            size = 600 to 200\n",
    "            xAxisLabel = \"x\"\n",
    "        }\n",
    "    }, 0, 0)\n",
    "    add(plot {\n",
    "        points {\n",
    "            x(xs) { scale = scaleX }\n",
    "            y(ys)\n",
    "            color = Color.BLACK\n",
    "            alpha = .4\n",
    "        }\n",
    "        layout {\n",
    "            size = 600 to 200\n",
    "            xAxisLabel = \"x\"\n",
    "            yAxisLabel = \"y\"\n",
    "        }\n",
    "    }, 0, 200)\n",
    "}"
   ]
  },
  {
   "cell_type": "markdown",
   "metadata": {},
   "source": [
    "### Adjust visuals of the bunch figure"
   ]
  },
  {
   "cell_type": "code",
   "execution_count": null,
   "metadata": {},
   "outputs": [],
   "source": [
    "val upperTheme = theme {\n",
    "    blankAxes()\n",
    "    axis.text { }\n",
    "    yAxis.title { }\n",
    "    panel.grid.majorYLine {\n",
    "        blank = true\n",
    "    }\n",
    "}\n",
    "val lowerTheme = theme {\n",
    "    blankAxes()\n",
    "    yAxis.text { }\n",
    "    axis.title { }\n",
    "}"
   ]
  },
  {
   "cell_type": "code",
   "execution_count": null,
   "metadata": {},
   "outputs": [],
   "source": [
    "plotBunch {\n",
    "    add(plot {\n",
    "        histogram(xs) {\n",
    "            x { scale = scaleX }\n",
    "            fillColor = Color.named(\"dark_magenta\")\n",
    "        }\n",
    "        layout {\n",
    "            size = 600 to 200\n",
    "            xAxisLabel = \"x\"\n",
    "            theme(upperTheme)\n",
    "        }\n",
    "    }, 0, 0)\n",
    "    add(plot {\n",
    "        points {\n",
    "            x(xs) { scale = scaleX }\n",
    "            y(ys)\n",
    "            color = Color.BLACK\n",
    "            alpha = .4\n",
    "        }\n",
    "        layout {\n",
    "            size = 600 to 200\n",
    "            xAxisLabel = \"x\"\n",
    "            yAxisLabel = \"y\"\n",
    "            theme(lowerTheme)\n",
    "        }\n",
    "    }, 0, 200)\n",
    "}"
   ]
  },
  {
   "cell_type": "markdown",
   "metadata": {},
   "source": [
    "### Adjust plot sizes\n",
    "\n",
    "*addPlot()* method has two more (optional) parameters: *width* and *height*.\n",
    "\n",
    "This values will override plot size earlier defined via *ggsize()* function."
   ]
  },
  {
   "cell_type": "code",
   "execution_count": null,
   "metadata": {},
   "outputs": [],
   "source": [
    "plotBunch {\n",
    "    add(plot {\n",
    "        histogram(xs) {\n",
    "            x { scale = scaleX }\n",
    "            fillColor = Color.named(\"dark_magenta\")\n",
    "        }\n",
    "        layout {\n",
    "            size = 600 to 200\n",
    "            xAxisLabel = \"x\"\n",
    "            theme(upperTheme)\n",
    "        }\n",
    "    }, 0, 0, 600, 100)\n",
    "    add(plot {\n",
    "        points {\n",
    "            x(xs) { scale = scaleX }\n",
    "            y(ys)\n",
    "            color = Color.BLACK\n",
    "            alpha = .4\n",
    "        }\n",
    "        layout {\n",
    "            size = 600 to 200\n",
    "            xAxisLabel = \"x\"\n",
    "            yAxisLabel = \"y\"\n",
    "            theme(lowerTheme)\n",
    "        }\n",
    "    }, 0, 100, 600, 300)\n",
    "}"
   ]
  }
 ],
 "metadata": {
  "kernelspec": {
   "display_name": "Kotlin",
   "language": "kotlin",
   "name": "kotlin"
  },
  "language_info": {
   "codemirror_mode": "text/x-kotlin",
   "file_extension": ".kt",
   "mimetype": "text/x-kotlin",
   "name": "kotlin",
   "nbconvert_exporter": "",
   "pygments_lexer": "kotlin",
   "version": "1.8.20-Beta"
  }
 },
 "nbformat": 4,
 "nbformat_minor": 4
}
