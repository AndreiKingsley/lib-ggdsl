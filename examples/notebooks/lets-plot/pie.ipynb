{
 "cells": [
  {
   "cell_type": "markdown",
   "source": [
    "# Pie chart"
   ],
   "metadata": {
    "collapsed": false
   }
  },
  {
   "cell_type": "code",
   "execution_count": null,
   "outputs": [],
   "source": [
    "%useLatestDescriptors\n",
    "%use dataframe\n",
    "%use kandy(0.4.2)"
   ],
   "metadata": {
    "collapsed": false
   }
  },
  {
   "cell_type": "code",
   "execution_count": null,
   "outputs": [],
   "source": [
    "val blankTheme = theme {\n",
    "    global.line {\n",
    "        blank = true\n",
    "    }\n",
    "    blankAxes()\n",
    "}"
   ],
   "metadata": {
    "collapsed": false
   }
  },
  {
   "cell_type": "code",
   "execution_count": null,
   "outputs": [],
   "source": [
    "val (w, h) = 400 to 250\n",
    "\n",
    "val data = dataFrameOf(\n",
    "    \"name\" to listOf('a', 'b', 'c', 'd', 'b'),\n",
    "    \"value\" to listOf(40, 90, 10, 50, 20)\n",
    ")"
   ],
   "metadata": {
    "collapsed": false
   }
  },
  {
   "cell_type": "markdown",
   "source": [
    "## Basic pie chart"
   ],
   "metadata": {
    "collapsed": false
   }
  },
  {
   "cell_type": "code",
   "execution_count": null,
   "outputs": [],
   "source": [
    "data.plot {\n",
    "    pie {\n",
    "        slice(value)\n",
    "        fillColor(name)\n",
    "    }\n",
    "    layout {\n",
    "        size = w to h\n",
    "    }\n",
    " }"
   ],
   "metadata": {
    "collapsed": false
   }
  },
  {
   "cell_type": "markdown",
   "source": [
    "### Improve appearance"
   ],
   "metadata": {
    "collapsed": false
   }
  },
  {
   "cell_type": "markdown",
   "source": [
    "- configure stroke\n",
    "- make the pie bigger\n",
    "- add hole to draw donut-like chart\n",
    "- use blank theme\n",
    "- use better colors"
   ],
   "metadata": {
    "collapsed": false
   }
  },
  {
   "cell_type": "code",
   "execution_count": null,
   "outputs": [],
   "source": [
    "data.plot {\n",
    "    pie {\n",
    "        slice(value)\n",
    "        fillColor(name) {\n",
    "            scale = categoricalColorBrewer(BrewerPalette.Qualitative.Set1)\n",
    "        }\n",
    "        size = 20.0\n",
    "        stroke = 1.0\n",
    "        strokeColor = Color.WHITE\n",
    "        hole = 0.5\n",
    "    }\n",
    "    layout {\n",
    "        theme(blankTheme)\n",
    "        size = w to h\n",
    "    }\n",
    "}"
   ],
   "metadata": {
    "collapsed": false
   }
  },
  {
   "cell_type": "markdown",
   "source": [
    "## Explode"
   ],
   "metadata": {
    "collapsed": false
   }
  },
  {
   "cell_type": "code",
   "execution_count": null,
   "outputs": [],
   "source": [
    "val length = dataFrameOf(\n",
    "  \"name\" to listOf(\"20-50 km\", \"50-75 km\", \"10-20 km\", \"75-100 km\", \"3-5 km\", \"7-10 km\", \"5-7 km\", \">100 km\", \"2-3 km\"),\n",
    "  \"count\" to listOf(1109, 696, 353, 192, 168, 86, 74, 65, 53),\n",
    "  \"explode\" to listOf(0, 0, 0, 0.1, 0.1, 0.2, 0.3, 0.4, 0.6)\n",
    ")"
   ],
   "metadata": {
    "collapsed": false
   }
  },
  {
   "cell_type": "code",
   "execution_count": null,
   "outputs": [],
   "source": [
    "length.plot {\n",
    "    pie {\n",
    "        fillColor(name) {\n",
    "            scale = continuous(Color.named(\"dark_blue\"), Color.LIGHT_GREEN)\n",
    "        }\n",
    "        slice(count)\n",
    "        explode(explode)\n",
    "        stroke = 1.0\n",
    "        strokeColor = Color.BLACK\n",
    "        size = 20.0\n",
    "     }\n",
    "     layout.theme(blankTheme)\n",
    " }"
   ],
   "metadata": {
    "collapsed": false
   }
  },
  {
   "cell_type": "code",
   "execution_count": null,
   "outputs": [],
   "source": [
    "val calories = dataFrameOf(\n",
    "    \"slice\" to listOf(35, 25, 25, 15),\n",
    "    \"label\" to listOf(\"Apples\", \"Bananas\", \"Cherries\", \"Dates\"),\n",
    "    \"explode\" to listOf(0.1, 0, 0, 0)\n",
    ")"
   ],
   "metadata": {
    "collapsed": false
   }
  },
  {
   "cell_type": "code",
   "execution_count": null,
   "outputs": [],
   "source": [
    "plotGrid(\n",
    "    listOf(\n",
    "        calories.plot {\n",
    "            pie {\n",
    "                slice(slice)\n",
    "                explode(explode)\n",
    "                fillColor(label) {\n",
    "                    scale = categoricalColorBrewer(BrewerPalette.Qualitative.Set1)\n",
    "                }\n",
    "                size = 15.0\n",
    "            }\n",
    "            layout {\n",
    "                size = w to h\n",
    "                theme(blankTheme)\n",
    "            }\n",
    "        },\n",
    "        calories.plot {\n",
    "            pie {\n",
    "                slice(slice)\n",
    "                explode(explode)\n",
    "                fillColor(label) {\n",
    "                    scale = categoricalColorBrewer(BrewerPalette.Qualitative.Set1)\n",
    "                }\n",
    "                size = 15.0\n",
    "                hole = 0.8\n",
    "            }\n",
    "            layout {\n",
    "                size = w to h\n",
    "                theme(blankTheme)\n",
    "            }\n",
    "        }\n",
    "    )\n",
    ")"
   ],
   "metadata": {
    "collapsed": false
   }
  }
 ],
 "metadata": {
  "kernelspec": {
   "display_name": "Kotlin",
   "language": "kotlin",
   "name": "kotlin"
  },
  "language_info": {
   "name": "kotlin",
   "version": "1.8.20",
   "mimetype": "text/x-kotlin",
   "file_extension": ".kt",
   "pygments_lexer": "kotlin",
   "codemirror_mode": "text/x-kotlin",
   "nbconvert_exporter": ""
  },
  "ktnbPluginMetadata": {
   "isAddProjectLibrariesToClasspath": false
  }
 },
 "nbformat": 4,
 "nbformat_minor": 0
}
