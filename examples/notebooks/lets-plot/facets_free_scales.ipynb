{
 "cells": [
  {
   "cell_type": "markdown",
   "id": "educated-sharp",
   "metadata": {},
   "source": [
    "## `Free` scales on faceted plot"
   ]
  },
  {
   "cell_type": "code",
   "execution_count": null,
   "id": "greenhouse-boxing",
   "metadata": {},
   "outputs": [],
   "source": [
    "%useLatestDescriptors\n",
    "%use kandy\n",
    "%use dataframe"
   ]
  },
  {
   "cell_type": "code",
   "execution_count": null,
   "id": "responsible-delight",
   "metadata": {},
   "outputs": [],
   "source": [
    "var mpg_df = DataFrame.readCSV(\"https://raw.githubusercontent.com/JetBrains/lets-plot-kotlin/master/docs/examples/data/mpg2.csv\")\n",
    "mpg_df.head()"
   ]
  },
  {
   "cell_type": "code",
   "execution_count": null,
   "id": "99f3eb51",
   "metadata": {},
   "outputs": [],
   "source": [
    "mpg_df.plot { \n",
    "    x(`engine horsepower`)\n",
    "    y(\"engine displacement (cu. inches)\"<Double>())\n",
    "    points { \n",
    "        color(`origin of car`)\n",
    "    }\n",
    "    layout { \n",
    "        theme(Theme.Grey)\n",
    "        size = 800 to 350\n",
    "    }\n",
    "}"
   ]
  },
  {
   "cell_type": "markdown",
   "id": "turkish-guard",
   "metadata": {},
   "source": [
    "### Faceted plot"
   ]
  },
  {
   "cell_type": "markdown",
   "id": "dietary-combat",
   "metadata": {},
   "source": [
    "#### `facetGrid()` with `fixed` scales (the default)\n",
    "\n",
    "Scales are constant across all panels."
   ]
  },
  {
   "cell_type": "code",
   "execution_count": null,
   "id": "b2ac294b",
   "metadata": {},
   "outputs": [],
   "source": [
    "mpg_df.plot { \n",
    "    x(`engine horsepower`)\n",
    "    y(\"engine displacement (cu. inches)\"<Double>())\n",
    "    points { \n",
    "        color(`origin of car`)\n",
    "    }\n",
    "    layout { \n",
    "        theme(Theme.Grey)\n",
    "        size = 800 to 500\n",
    "    }\n",
    "    facetGridY(`origin of car`)\n",
    "}"
   ]
  },
  {
   "cell_type": "markdown",
   "id": "plastic-purple",
   "metadata": {},
   "source": [
    "#### `facetGrid()` with `free` Y-scales"
   ]
  },
  {
   "cell_type": "code",
   "execution_count": null,
   "id": "f677f3ac",
   "metadata": {},
   "outputs": [],
   "source": [
    "mpg_df.plot { \n",
    "    x(`engine horsepower`)\n",
    "    y(\"engine displacement (cu. inches)\"<Double>())\n",
    "    points { \n",
    "        color(`origin of car`)\n",
    "    }\n",
    "    layout { \n",
    "        theme(Theme.Grey)\n",
    "        size = 800 to 500\n",
    "    }\n",
    "    facetGridY(`origin of car`, scalesSharing = ScalesSharing.FREE_Y)\n",
    "}"
   ]
  },
  {
   "cell_type": "markdown",
   "id": "elect-singing",
   "metadata": {},
   "source": [
    "#### `facetWrap()` with `fixed` scales (the default)\n",
    "\n",
    "Scales are constant across all panels."
   ]
  },
  {
   "cell_type": "code",
   "execution_count": null,
   "id": "6d34b099",
   "metadata": {},
   "outputs": [],
   "source": [
    "mpg_df.plot { \n",
    "    x(`engine horsepower`)\n",
    "    y(\"engine displacement (cu. inches)\"<Double>())\n",
    "    points { \n",
    "        color(`origin of car`)\n",
    "    }\n",
    "    layout { \n",
    "        theme(Theme.Grey)\n",
    "        size = 800 to 500\n",
    "    }\n",
    "    facetWrap() {\n",
    "        facet(`number of cylinders`, order = OrderDirection.ASCENDING)\n",
    "    }\n",
    "}"
   ]
  },
  {
   "cell_type": "markdown",
   "id": "coated-channel",
   "metadata": {},
   "source": [
    "#### `facetWrap()` with `free` scales along both axis"
   ]
  },
  {
   "cell_type": "code",
   "execution_count": null,
   "id": "64d8d8a5",
   "metadata": {},
   "outputs": [],
   "source": [
    "mpg_df.plot { \n",
    "    x(`engine horsepower`)\n",
    "    y(\"engine displacement (cu. inches)\"<Double>())\n",
    "    points { \n",
    "        color(`origin of car`)\n",
    "    }\n",
    "    layout { \n",
    "        theme(Theme.Grey)\n",
    "        size = 800 to 500\n",
    "    }\n",
    "    facetWrap(scalesSharing = ScalesSharing.FREE) {\n",
    "        facet(`number of cylinders`, order = OrderDirection.ASCENDING)\n",
    "    }\n",
    "}"
   ]
  }
 ],
 "metadata": {
  "kernelspec": {
   "display_name": "Kotlin",
   "language": "kotlin",
   "name": "kotlin"
  },
  "language_info": {
   "codemirror_mode": "text/x-kotlin",
   "file_extension": ".kt",
   "mimetype": "text/x-kotlin",
   "name": "kotlin",
   "nbconvert_exporter": "",
   "pygments_lexer": "kotlin",
   "version": "1.8.20-Beta"
  }
 },
 "nbformat": 4,
 "nbformat_minor": 5
}
