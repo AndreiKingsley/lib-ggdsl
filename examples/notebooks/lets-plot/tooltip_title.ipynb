{
 "cells": [
  {
   "cell_type": "markdown",
   "metadata": {},
   "source": [
    "## Tooltip Customization\n",
    "\n",
    "\n",
    "- Using `new line` character (\\n) for splitting lines of text\n",
    "- Adding a **title** to tooltip\n",
    "- Automatic word wrap of long text values"
   ]
  },
  {
   "cell_type": "code",
   "execution_count": null,
   "metadata": {},
   "outputs": [],
   "source": [
    "%useLatestDescriptors\n",
    "%use kandy\n",
    "%use dataframe"
   ]
  },
  {
   "cell_type": "code",
   "execution_count": null,
   "metadata": {},
   "outputs": [],
   "source": [
    "var mpg_df = DataFrame.readCSV(\"https://raw.githubusercontent.com/JetBrains/lets-plot-kotlin/master/docs/examples/data/mpg.csv\")\n",
    "mpg_df.head()"
   ]
  },
  {
   "cell_type": "code",
   "execution_count": null,
   "metadata": {},
   "outputs": [],
   "source": [
    "mpg_df.plot {\n",
    "   points {\n",
    "       x(displ)\n",
    "        y(cty)\n",
    "        \n",
    "        symbol = Symbol.CIRCLE_FILLED\n",
    "        color = Color.WHITE\n",
    "        fillColor(drv)\n",
    "        size(hwy) {\n",
    "            scale = continuous(range = 5.0..15.0)\n",
    "            legend.breaks(listOf(15, 40))\n",
    "        }\n",
    "        \n",
    "   } \n",
    "   layout.size = 600 to 350\n",
    "}"
   ]
  },
  {
   "cell_type": "markdown",
   "metadata": {},
   "source": [
    "#### Splitting text using '\\n'"
   ]
  },
  {
   "cell_type": "code",
   "execution_count": null,
   "metadata": {},
   "outputs": [],
   "source": [
    "mpg_df.plot {\n",
    "   points {\n",
    "       x(displ)\n",
    "        y(cty)\n",
    "        \n",
    "        symbol = Symbol.CIRCLE_FILLED\n",
    "        color = Color.WHITE\n",
    "        fillColor(drv)\n",
    "        size(hwy) {\n",
    "            scale = continuous(range = 5.0..15.0)\n",
    "            legend.breaks(listOf(15, 40), null)\n",
    "        }\n",
    "        \n",
    "        tooltips {\n",
    "            line(\"${value(manufacturer)} \\n${value(model)}\")\n",
    "            line(`class`)\n",
    "            line(year)\n",
    "        }\n",
    "   } \n",
    "   layout.size = 600 to 350\n",
    "}"
   ]
  },
  {
   "cell_type": "code",
   "execution_count": null,
   "metadata": {},
   "outputs": [],
   "source": [
    "mpg_df.plot {\n",
    "   points {\n",
    "       x(displ)\n",
    "        y(cty)\n",
    "        \n",
    "        symbol = Symbol.CIRCLE_FILLED\n",
    "        color = Color.WHITE\n",
    "        fillColor(drv)\n",
    "        size(hwy) {\n",
    "            scale = continuous(range = 5.0..15.0)\n",
    "            legend.breaks(listOf(15, 40))\n",
    "        }\n",
    "        \n",
    "//         tooltips(aesFormats = mapOf(size to \"{.0f} \\n(mpg)\")) {}\n",
    "   } \n",
    "   layout.size = 600 to 350\n",
    "}"
   ]
  },
  {
   "cell_type": "markdown",
   "metadata": {},
   "source": [
    "#### Adding a title\n"
   ]
  },
  {
   "cell_type": "code",
   "execution_count": null,
   "metadata": {},
   "outputs": [],
   "source": [
    "mpg_df.plot {\n",
    "   points {\n",
    "       x(displ)\n",
    "        y(cty)\n",
    "        \n",
    "        symbol = Symbol.CIRCLE_FILLED\n",
    "        color = Color.WHITE\n",
    "        fillColor(drv)\n",
    "        size(hwy) {\n",
    "            scale = continuous(range = 5.0..15.0)\n",
    "            legend.breaks(listOf(15, 40))\n",
    "        }\n",
    "        \n",
    "        tooltips(title = \"${value(manufacturer)} ${value(model)}\") {\n",
    "        }\n",
    "   } \n",
    "   layout.size = 600 to 350\n",
    "}"
   ]
  },
  {
   "cell_type": "code",
   "execution_count": null,
   "metadata": {},
   "outputs": [],
   "source": [
    "mpg_df.plot {\n",
    "   points {\n",
    "       x(displ)\n",
    "        y(cty)\n",
    "        \n",
    "        symbol = Symbol.CIRCLE_FILLED\n",
    "        color = Color.WHITE\n",
    "        fillColor(drv)\n",
    "        size(hwy) {\n",
    "            scale = continuous(range = 5.0..15.0)\n",
    "            legend.breaks(listOf(15, 40))\n",
    "        }\n",
    "        \n",
    "        tooltips(`class`, year, title = \"${value(manufacturer)} ${value(model)}\") {\n",
    "            \n",
    "        }\n",
    "   } \n",
    "   layout.size = 600 to 350\n",
    "}"
   ]
  },
  {
   "cell_type": "code",
   "execution_count": null,
   "metadata": {},
   "outputs": [],
   "source": [
    "mpg_df.plot {\n",
    "   points {\n",
    "       x(displ)\n",
    "        y(cty)\n",
    "        \n",
    "        symbol = Symbol.CIRCLE_FILLED\n",
    "        color = Color.WHITE\n",
    "        fillColor(drv)\n",
    "        size(hwy) {\n",
    "            scale = continuous(range = 5.0..15.0)\n",
    "            legend.breaks(listOf(15, 40))\n",
    "        }\n",
    "        \n",
    "       tooltips(title = \"Car info: \\n${value(manufacturer)} ${value(model)}\") {\n",
    "            line(`class`)\n",
    "            line(\"drive train\", value(drv))\n",
    "            line(year)\n",
    "        }\n",
    "   } \n",
    "   layout.size = 600 to 350\n",
    "}"
   ]
  }
 ],
 "metadata": {
  "kernelspec": {
   "display_name": "Kotlin",
   "language": "kotlin",
   "name": "kotlin"
  },
  "language_info": {
   "codemirror_mode": "text/x-kotlin",
   "file_extension": ".kt",
   "mimetype": "text/x-kotlin",
   "name": "kotlin",
   "nbconvert_exporter": "",
   "pygments_lexer": "kotlin",
   "version": "1.8.20-Beta"
  }
 },
 "nbformat": 4,
 "nbformat_minor": 4
}
