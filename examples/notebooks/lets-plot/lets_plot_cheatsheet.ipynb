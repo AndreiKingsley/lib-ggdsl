{
 "cells": [
  {
   "cell_type": "code",
   "execution_count": null,
   "metadata": {},
   "outputs": [],
   "source": [
    "%useLatestDescriptors\n",
    "%use kandy(0.4.2)\n",
    "%use dataframe"
   ]
  },
  {
   "cell_type": "markdown",
   "metadata": {},
   "source": [
    "* [Basics](#Basics)\n",
    "  * [Data](#Data)\n",
    "  * [Plot creation](#Plot-creation)\n",
    "    * [Layers, aesthetics, mappings and scales](#Layers,-aesthetics,-mappings-and-scales)\n",
    "    * [Scale parameters: axis and legend](#Scale-parameters:-axis-and-legend)\n",
    "    * [Global X and Y mappings and scales](#Global-X-and-Y-mappings-and-scales)\n",
    "    * [Raw source mapping](#Raw-source-mapping)\n",
    "* [Kotlin DataFrame API](#Kotlin-DataFrame-API)\n",
    "* [Grouping](#Grouping)\n",
    "  * [Implicit grouping](#Implicit-grouping)\n",
    "  * [Position](#Position)\n",
    "* [Experimental](#Experimental)\n",
    "  * [Multiplot](#Multiplot)\n",
    "    * [Plot grid](#Plot-grid)\n",
    "    * [Plot bunch](#Plot-bunch)\n",
    "    * [Facetting](#Facetting)\n",
    "  * [Statistics](#Statistics)\n",
    "  * [Layout](#Layout)\n",
    "    * [Title, subtitle, caption and size](#Title,-subtitle,-caption-and-size)\n",
    "    * [Themes](#Themes)\n",
    "      * [Custom themes](#Custom-themes)\n",
    "  * [Custom scales](#Custom-scales)\n",
    "  * [Tooltips](#Tooltips)\n",
    "  * [Export](#Export)"
   ]
  },
  {
   "cell_type": "markdown",
   "metadata": {
    "datalore": {
     "hide_input_from_viewers": false,
     "hide_output_from_viewers": false,
     "node_id": "qHdWOskftYDX07vdiZBpWh",
     "report_properties": {},
     "type": "MD"
    }
   },
   "source": [
    "# Basics"
   ]
  },
  {
   "cell_type": "markdown",
   "metadata": {
    "datalore": {
     "hide_input_from_viewers": false,
     "hide_output_from_viewers": false,
     "node_id": "CR4bxmxQu2vgBem2d6hcIP",
     "report_properties": {},
     "type": "MD"
    }
   },
   "source": [
    "## Data"
   ]
  },
  {
   "cell_type": "markdown",
   "metadata": {
    "datalore": {
     "hide_input_from_viewers": false,
     "hide_output_from_viewers": false,
     "node_id": "ZUi4uGI2VnICsSgffUsoiy",
     "report_properties": {},
     "type": "MD"
    }
   },
   "source": [
    "The main data model for working with plotting is a \"named data\" or \"dataframe\", i.e. a set of named value columns of the same size. The input data must have the form `Map<String, List<*>>`."
   ]
  },
  {
   "cell_type": "code",
   "execution_count": null,
   "metadata": {
    "datalore": {
     "hide_input_from_viewers": false,
     "hide_output_from_viewers": false,
     "node_id": "XOQ5wXCRKniwrdc9JT61xz",
     "report_properties": {},
     "type": "CODE"
    }
   },
   "outputs": [],
   "source": [
    "val simpleDataset = mapOf(\n",
    "    \"time, ms\" to listOf(12, 87, 130, 149, 200, 221, 250),\n",
    "    \"relativeHumidity\" to listOf(0.45, 0.3, 0.21, 0.15, 0.22, 0.36, 0.8),\n",
    "    \"flowOn\" to listOf(true, true, false, false, true, false, false),\n",
    ")"
   ]
  },
  {
   "cell_type": "markdown",
   "metadata": {
    "datalore": {
     "hide_input_from_viewers": false,
     "hide_output_from_viewers": false,
     "node_id": "h1f2CbrBikUjei76usbw4U",
     "report_properties": {},
     "type": "MD"
    }
   },
   "source": [
    "In the future we will need to refer to the columns of our dataset. To do this, we need to create a pointer for each one."
   ]
  },
  {
   "cell_type": "code",
   "execution_count": null,
   "metadata": {
    "datalore": {
     "hide_input_from_viewers": false,
     "hide_output_from_viewers": false,
     "node_id": "rOxDqH47ZI5zhdSnmDGMtJ",
     "report_properties": {},
     "type": "CODE"
    }
   },
   "outputs": [],
   "source": [
    "// 1. Using `column()` function. We need specify type of column and its name in the dataset:\n",
    "val timeMs = column<Int>(\"time, ms\")\n",
    "// 2. String API similar to the previous one, but with using invocation of `String`:\n",
    "val humidity = \"relativeHumidity\"<Double>()\n",
    "// 3. Using delegation of unnamed column - its name will be taken from the name of the variable:\n",
    "val flowOn by column<Boolean>()"
   ]
  },
  {
   "cell_type": "markdown",
   "metadata": {
    "datalore": {
     "hide_input_from_viewers": false,
     "hide_output_from_viewers": false,
     "node_id": "0BOYwG4WASg2bHG6ClyVEb",
     "report_properties": {},
     "type": "MD"
    }
   },
   "source": [
    "## Plot creation"
   ]
  },
  {
   "cell_type": "markdown",
   "metadata": {
    "datalore": {
     "hide_input_from_viewers": false,
     "hide_output_from_viewers": false,
     "node_id": "cv6Vno3BYxlNb0X6b9iWvK",
     "report_properties": {},
     "type": "MD"
    }
   },
   "source": [
    "To create a plot, you need to call the `plot()` function by passing a dataset as an argument. This function creates a context in which you can add layers. A *layer* is a set of mappings from the data to the plot visual parameters (so-called *aesthetic attributes*). Here's an example of a graph with one simple layer:"
   ]
  },
  {
   "cell_type": "code",
   "execution_count": null,
   "metadata": {
    "datalore": {
     "hide_input_from_viewers": false,
     "hide_output_from_viewers": false,
     "node_id": "Lvp9f956NEfHoEaoHERbAf",
     "report_properties": {},
     "type": "CODE"
    }
   },
   "outputs": [],
   "source": [
    "plot(simpleDataset) {\n",
    "    points {\n",
    "        // maps values from \"time, ms\" column to `X`\n",
    "        x(timeMs)\n",
    "        // maps values from \"relativeHumidity\" column to `Y`\n",
    "        y(humidity)\n",
    "        // set size of points to 4.5\n",
    "        size = 4.5\n",
    "        // map valuues from \"flowOn\" column to `COLOR`\n",
    "        color(flowOn)\n",
    "    }\n",
    "}"
   ]
  },
  {
   "cell_type": "markdown",
   "metadata": {
    "datalore": {
     "hide_input_from_viewers": false,
     "hide_output_from_viewers": false,
     "node_id": "jHtM7MxZH5TyE4yh9dldhw",
     "report_properties": {},
     "type": "MD"
    }
   },
   "source": [
    "### Layers, aesthetics, mappings and scales"
   ]
  },
  {
   "cell_type": "markdown",
   "metadata": {
    "datalore": {
     "hide_input_from_viewers": false,
     "hide_output_from_viewers": false,
     "node_id": "S1cTPGih5KFaqxhG4mnOJI",
     "report_properties": {},
     "type": "MD"
    }
   },
   "source": [
    "Each layer is characterized by its *geometrical entity* or just *geom*. Each geom has its own set of *aesthetic attributes* or simply *aesthetics* or *aes*. Aesthetics can be *positional* (e.g. `x`, `y`, `yMin`, `yMax`, `middle`) or *non-positional* (such as `color`, `size`, `width`). Non-positional attributes are characterized by some type (for example, `size` associated with `Double`, `color` with a special type `Color`).\n",
    "The aes value can be assigned in 2 ways: by setting and by mapping.\n",
    "\n",
    "*Setting* is a simply setting constant value:\n",
    "```kotlin\n",
    "// using `.constant()` synytax for positional aes:\n",
    "x.constant(12.0f)\n",
    "yMin.constant(10.0)\n",
    "\n",
    "// using assignment for non-positional aes:\n",
    "size = 5.0\n",
    "color = Color.RED\n",
    "```\n",
    "\n",
    "*Mapping* is a mapping from the data column to the values of the aesthetic attribute.There are different ways to define it:\n",
    "```kotlin\n",
    "// with `ColumnReference`\n",
    "x(timeMs)\n",
    "size(humidity)\n",
    "color(flowOn)\n",
    "\n",
    "// with raw `String`\n",
    "x(\"time, ms\")\n",
    "size(\"relativeHumidity\")\n",
    "\n",
    "// or we can provide values directly, for example with `Iterabe`\n",
    "x(listOf(12, 87, 130, 149, 200, 221, 250))\n",
    "// in this case we can additionally set the id of source:\n",
    "color(listOf(true, true, false, false, true, false, false), \"flow on\")\n",
    "```\n",
    "\n",
    "The function of this mapping is called *scale*. Scales play a key role in data visualization. In the examples above, the mappings use the default scales, but we can specify the scales explicitly. There are two types of scales  &mdash; *categorical* (or discrete) and *continuous*, depends on its domain and range type. If scale is continuous, its domain and range are set using limits, while categorical scale domain and range are set like lists of categories and corresponding to them values (note that for positional scales, that is, for scales that apply to positional aes, domain and range are the same.). Scales are typed (with domain/range types). Continuous scales have `transform` parameter; it defines the function transformation (which is linear by default).\n",
    "\n",
    "Scale can be applied after mapping using the following syntax:"
   ]
  },
  {
   "cell_type": "code",
   "execution_count": null,
   "metadata": {},
   "outputs": [],
   "source": [
    "plot(simpleDataset) {\n",
    "    points {\n",
    "        x(listOf(12, 87, 130, 149, 200, 221, 250)) {\n",
    "            scale = continuous(min = 0, max = 270) // using `min`/`max`\n",
    "        }\n",
    "        y(humidity) {\n",
    "            scale = continuous(0.0..1.0) // using `Range`\n",
    "        }\n",
    "        size(humidity) {\n",
    "            scale = continuous<Double, Double>(range = 5.0..20.0,) // dont's should specify\n",
    "        }\n",
    "        color(flowOn) {\n",
    "            scale = categorical(true to Color.RED, false to Color.BLUE)\n",
    "        }\n",
    "        symbol(flowOn) {\n",
    "            scale = categorical()// default scale\n",
    "        }\n",
    "        alpha = 0.9\n",
    "    }\n",
    "}"
   ]
  },
  {
   "cell_type": "markdown",
   "metadata": {},
   "source": [
    "We can also separately create scales out of context and then apply them:"
   ]
  },
  {
   "cell_type": "code",
   "execution_count": null,
   "metadata": {
    "datalore": {
     "hide_input_from_viewers": false,
     "hide_output_from_viewers": false,
     "node_id": "lWISynjF22JJzgr4pZ0EFh",
     "report_properties": {},
     "type": "CODE"
    }
   },
   "outputs": [],
   "source": [
    "val xReversedScale = Scale.continuousPos<Int>(transform = Transformation.REVERSE)\n",
    "val yScale = Scale.continuousPos(0.0..0.9)\n",
    "val colorScale = Scale.categorical<Boolean, Color>(range = listOf(\n",
    "    Color.RED, Color.GREEN\n",
    "))"
   ]
  },
  {
   "cell_type": "code",
   "execution_count": null,
   "metadata": {},
   "outputs": [],
   "source": [
    "plot(simpleDataset) {\n",
    "    points {\n",
    "        x(listOf(12, 87, 130, 149, 200, 221, 250)) {\n",
    "            scale = xReversedScale\n",
    "        }\n",
    "        y(humidity) {\n",
    "            scale = yScale\n",
    "        }\n",
    "        color(flowOn) {\n",
    "            scale = colorScale\n",
    "        }\n",
    "        symbol = Symbol.ASTERIX\n",
    "        size = 6.6\n",
    "    }\n",
    "}"
   ]
  },
  {
   "cell_type": "markdown",
   "metadata": {
    "datalore": {
     "hide_input_from_viewers": false,
     "hide_output_from_viewers": false,
     "node_id": "yNgv0CRQVTyZpiRSLQO9nZ",
     "report_properties": {},
     "type": "MD"
    }
   },
   "source": [
    "### Scale parameters: axis and legend"
   ]
  },
  {
   "cell_type": "markdown",
   "metadata": {
    "datalore": {
     "hide_input_from_viewers": false,
     "hide_output_from_viewers": false,
     "node_id": "4mWeptlKrObE5Acnb9iAFo",
     "report_properties": {},
     "type": "MD"
    }
   },
   "source": [
    "The most important part of reading the charts is the *guides*. They are in fact essentially mini-charts of scales. The guides of positional scales are *axes*, and the guides of non-positional ones are *legends*. Every applied scale has its own default guide. You can customize it through use `with`"
   ]
  },
  {
   "cell_type": "code",
   "execution_count": null,
   "metadata": {
    "datalore": {
     "hide_input_from_viewers": false,
     "hide_output_from_viewers": false,
     "node_id": "txzGLGGQVRwSii86YvWWlx",
     "report_properties": {},
     "type": "CODE"
    }
   },
   "outputs": [],
   "source": [
    "plot(simpleDataset) {\n",
    "    points {\n",
    "        x(timeMs) {\n",
    "            axis.name = \"Time from start of counting,\\n milliseconds\"\n",
    "        }\n",
    "        y(humidity) {\n",
    "            scale = continuous(0.0 .. 1.0)\n",
    "            axis {\n",
    "                name = \"Relative humidity\"\n",
    "                breaksLabeled(0.0 to \"0%\", 0.3 to \"30%\", 0.6 to \"60%\", 0.9 to \"90%\")\n",
    "            }\n",
    "         }\n",
    "        size = 12.0\n",
    "        color(humidity) {\n",
    "            scale = continuous()\n",
    "            legend {\n",
    "                name = \"rel. humidity\"\n",
    "                type = colorBar(40.0, 190.0, 15)\n",
    "                breaks(format = \"e\")\n",
    "            }\n",
    "        }\n",
    "    }\n",
    "}"
   ]
  },
  {
   "cell_type": "markdown",
   "metadata": {
    "datalore": {
     "hide_input_from_viewers": false,
     "hide_output_from_viewers": false,
     "node_id": "ohRlPxLPzSRyyRF8udrMbC",
     "report_properties": {},
     "type": "MD"
    }
   },
   "source": [
    "### Global X and Y mappings and scales"
   ]
  },
  {
   "cell_type": "markdown",
   "metadata": {},
   "source": [
    "If you want to use `X` or `Y` mapping in multiple layers you can use global mapping in the main plot context. The layers will inherit this mapping (in case they have these aesthetics). They can also be overridden inside a layer context."
   ]
  },
  {
   "cell_type": "code",
   "execution_count": null,
   "metadata": {},
   "outputs": [],
   "source": [
    "plot(simpleDataset) {\n",
    "    x(timeMs) {\n",
    "        scale = continuous(max = 275)\n",
    "    }\n",
    "    y(humidity)\n",
    "    points {\n",
    "        // `x` and `y` are taken from a parental context\n",
    "        size = 4.5\n",
    "        color(flowOn)\n",
    "    }\n",
    "    line {\n",
    "        // `x` is taken from a parental context, but `y` is overriden\n",
    "        y(listOf(0.49, 0.39, 0.1, 0.4, 0.8, 0.8, 0.9))\n",
    "        width = 3.0\n",
    "        color = Color.RED\n",
    "    }\n",
    "}"
   ]
  },
  {
   "cell_type": "markdown",
   "metadata": {},
   "source": [
    "Scales along axes can be configured without mapping inside the raft context:"
   ]
  },
  {
   "cell_type": "code",
   "execution_count": null,
   "metadata": {},
   "outputs": [],
   "source": [
    "plot(simpleDataset) {\n",
    "    points {\n",
    "        x(listOf(10, 20, 30, 40, 50, 60, 70))\n",
    "        y(humidity)\n",
    "        size = 4.5\n",
    "        color(flowOn)\n",
    "    }\n",
    "    x.axis.name = \"time, ms\"\n",
    "    y {\n",
    "        scale = continuous(min = 0.0)\n",
    "        axis.breaks(format = \".2f\")\n",
    "    }\n",
    "}"
   ]
  },
  {
   "cell_type": "code",
   "execution_count": null,
   "metadata": {},
   "outputs": [],
   "source": [
    "plot(simpleDataset) {\n",
    "    points {\n",
    "        x(listOf(10, 20, 30, 40, 50, 60, 70))\n",
    "        y(humidity)\n",
    "        size = 4.5\n",
    "        color(flowOn)\n",
    "    }\n",
    "    // Alternate brief notation if we want to set the axis limits (continuous scale)\n",
    "    x.limits = 0 .. 80\n",
    "    y.limits = 0.0..1.0\n",
    "}"
   ]
  },
  {
   "cell_type": "markdown",
   "metadata": {
    "datalore": {
     "hide_input_from_viewers": false,
     "hide_output_from_viewers": false,
     "node_id": "kKq2IFLowiBkHHU2KXyGGL",
     "report_properties": {},
     "type": "MD"
    }
   },
   "source": [
    "This mechanism is called \"free scale\". It is especially useful in the case of \"sub-positional\" aesthetics. These aesthetics are similar to positional aesthetics, but they do not have their own scales --- the scales of the parent positional aesthetic are applied to them. However, often in this case, the parent aes itself is not mapped, and free scale allows us to set limits and other settings for the corresponding axis. For example `boxplot` layer has five sub-positional aes: `yMin`, `yMax`, `middle`, `lower`, `upper`.\n",
    "Also some aesthetics cannot be mapped, only be set (for example: `fatten` in boxplot and some other layers)."
   ]
  },
  {
   "cell_type": "code",
   "execution_count": null,
   "metadata": {
    "datalore": {
     "hide_input_from_viewers": false,
     "hide_output_from_viewers": false,
     "node_id": "Yrm127jWThxGkbUILRk41k",
     "report_properties": {},
     "type": "CODE"
    }
   },
   "outputs": [],
   "source": [
    "plot(\n",
    "    mapOf(\n",
    "        \"x\" to listOf(\"a\", \"b\", \"c\"),\n",
    "        \"min\" to listOf(0.8, 0.4, 0.6),\n",
    "        \"lower\" to listOf(0.9, 1.4, 0.8),\n",
    "        \"middle\" to listOf(1.5, 2.4, 1.6),\n",
    "        \"upper\" to listOf(1.9, 3.4, 1.7),\n",
    "        \"max\" to listOf(3.1, 4.4, 2.6),\n",
    "        \"width\" to listOf(0.1, 1.4, 14.0)\n",
    "    )\n",
    ") {\n",
    "    boxplot {\n",
    "        x(\"x\"<String>())\n",
    "        // sub-y aesthetics:\n",
    "        yMin(\"min\"<Double>())\n",
    "        lower(\"lower\"<Double>())\n",
    "        middle(\"middle\"<Double>())\n",
    "        upper(\"upper\"<Double>())\n",
    "        yMax(\"max\"<Double>())\n",
    "        fatten = 4.5\n",
    "        alpha = 0.2\n",
    "        borderLine.color = Color.hex(0x9A2A2A)\n",
    "    }\n",
    "    y {\n",
    "        axis.name = \"weigth\"\n",
    "        limits = 0.0 .. 5.0\n",
    "    }\n",
    "}"
   ]
  },
  {
   "cell_type": "markdown",
   "metadata": {},
   "source": [
    "### Raw source mapping"
   ]
  },
  {
   "cell_type": "markdown",
   "metadata": {},
   "source": [
    "As mentioned before, in addition to mapping with a dataset column pointer, you can use mapping directly from a data source (currently only `Iterable` is supported). Also, you can name the source you use (to display it in the guide, for example)\n",
    "Of course, all the sources used for mapping as well as the initial dataset columns must have the same size."
   ]
  },
  {
   "cell_type": "code",
   "execution_count": null,
   "metadata": {},
   "outputs": [],
   "source": [
    "val month = listOf(\"January\", \"February\", \"March\", \"April\", \"May\", \"June\", \"July\", \"August\", \"September\", \"October\", \"November\", \"December\")\n",
    "val numberOfDays = listOf(31, 28, 31, 30, 31, 30, 31, 30, 31, 30, 31, 30)\n",
    "val season = listOf(\"winter\", \"winter\", \"spring\", \"spring\", \"spring\", \"summer\", \"summer\", \"summer\", \"autumn\", \"autumn\", \"autumn\", \"winter\")"
   ]
  },
  {
   "cell_type": "code",
   "execution_count": null,
   "metadata": {},
   "outputs": [],
   "source": [
    "plot {\n",
    "    x(month, \"month\"){\n",
    "        scale = categorical()\n",
    "    }\n",
    "    bars {\n",
    "        y(numberOfDays, \"number of days\")\n",
    "        fillColor(season, \"season\"){\n",
    "            scale = categorical(\n",
    "               listOf(Color.BLUE, Color.GREEN, Color.RED, Color.ORANGE),\n",
    "               listOf(\"winter\", \"spring\", \"summer\", \"autumn\"),\n",
    "            )\n",
    "        }\n",
    "     }\n",
    "}"
   ]
  },
  {
   "cell_type": "markdown",
   "metadata": {},
   "source": [
    "# Kotlin DataFrame API"
   ]
  },
  {
   "cell_type": "markdown",
   "metadata": {},
   "source": [
    "Integration with the [Kotlin DataFrame](https://github.com/Kotlin/dataframe) library allows you to use `DataFrame` as a data source and `DataColumn` as a mapping source. With the auto-generation of property columns, you don't need to create column pointers manually."
   ]
  },
  {
   "cell_type": "code",
   "execution_count": null,
   "metadata": {},
   "outputs": [],
   "source": [
    "val mpgDF = DataFrame.readCSV(\"https://raw.githubusercontent.com/JetBrains/lets-plot-kotlin/master/docs/examples/data/mpg.csv\")\n",
    "mpgDF.head()"
   ]
  },
  {
   "cell_type": "code",
   "execution_count": null,
   "metadata": {},
   "outputs": [],
   "source": [
    "mpgDF.schema()"
   ]
  },
  {
   "cell_type": "code",
   "execution_count": null,
   "metadata": {},
   "outputs": [],
   "source": [
    "val mpgInfoPlot = mpgDF.plot {\n",
    "    points {\n",
    "        x(displ) // auto-generated df columns\n",
    "        y(cty) {\n",
    "            scale = continuous(8..34)\n",
    "        }\n",
    "        symbol = Symbol.CIRCLE_FILLED\n",
    "        color = Color.WHITE\n",
    "        fillColor(drv)\n",
    "        size(hwy) {\n",
    "            scale = continuous(5.0..15.0)\n",
    "        }\n",
    "    }\n",
    "}\n",
    "mpgInfoPlot"
   ]
  },
  {
   "cell_type": "markdown",
   "metadata": {},
   "source": [
    "Of course, if you don't have an autogenerated property-column, you can create a pointer to it manually:"
   ]
  },
  {
   "cell_type": "code",
   "execution_count": null,
   "metadata": {},
   "outputs": [],
   "source": [
    "val mpgCountPlot = mpgDF.groupBy { drv }.aggregate {\n",
    "    count() into \"count\"\n",
    "}.plot {\n",
    "    bars {\n",
    "        x(drv)\n",
    "        y(\"count\"<Int>())\n",
    "        alpha = 0.75\n",
    "    }\n",
    "}\n",
    "mpgCountPlot"
   ]
  },
  {
   "cell_type": "markdown",
   "metadata": {},
   "source": [
    "# Grouping"
   ]
  },
  {
   "cell_type": "markdown",
   "metadata": {},
   "source": [
    "This part of API allows you to work with grouped data. It's useful for plotting collective geoms (that is, those that contain multiple data units with one geometric object, for example `line`). You can either provide groped dataframe (`GroupBy`) as dataset or perform grouping inside the plot DSL:"
   ]
  },
  {
   "cell_type": "code",
   "execution_count": null,
   "metadata": {},
   "outputs": [],
   "source": [
    "val lineDatset = mapOf(\n",
    "    \"timeG\" to listOf(1.0, 2.2, 3.4, 6.6, 2.1, 4.4, 6.0, 1.5, 4.7, 6.7),\n",
    "    \"value\" to listOf(112.0, 147.3, 111.1, 200.6, 90.8, 110.2, 130.4, 100.1, 90.0, 121.8),\n",
    "    \"c-type\" to listOf(\"A\", \"A\", \"A\", \"A\", \"B\", \"B\", \"B\", \"C\", \"C\", \"C\")\n",
    ")"
   ]
  },
  {
   "cell_type": "code",
   "execution_count": null,
   "metadata": {},
   "outputs": [],
   "source": [
    "plot(lineDatset) {\n",
    "    groupBy(\"c-type\") {\n",
    "        line {\n",
    "            x(\"timeG\")\n",
    "            y(\"value\")\n",
    "        }\n",
    "    }\n",
    "}"
   ]
  },
  {
   "cell_type": "code",
   "execution_count": null,
   "metadata": {},
   "outputs": [],
   "source": [
    "val lineDF = lineDatset.toDataFrame()"
   ]
  },
  {
   "cell_type": "code",
   "execution_count": null,
   "metadata": {},
   "outputs": [],
   "source": [
    "lineDF.groupBy {\n",
    "   `c-type`\n",
    "}.plot {\n",
    "    line {\n",
    "        x(timeG)\n",
    "        y(value)\n",
    "    }\n",
    "}"
   ]
  },
  {
   "cell_type": "code",
   "execution_count": null,
   "metadata": {},
   "outputs": [],
   "source": [
    "lineDF.plot {\n",
    "    groupBy(`c-type`) {\n",
    "        line {\n",
    "            x(timeG)\n",
    "            y(value)\n",
    "            color(`c-type`)\n",
    "            width = 4.0\n",
    "        }\n",
    "    }\n",
    "}"
   ]
  },
  {
   "cell_type": "markdown",
   "metadata": {},
   "source": [
    "## Implicit grouping"
   ]
  },
  {
   "cell_type": "markdown",
   "metadata": {},
   "source": [
    "In addition to explicit grouping, grouping can be specified implicitly by using a categorical scale:"
   ]
  },
  {
   "cell_type": "code",
   "execution_count": null,
   "metadata": {},
   "outputs": [],
   "source": [
    "lineDF.plot {\n",
    "    line {\n",
    "        x(timeG)\n",
    "        y(value)\n",
    "        color(`c-type`)\n",
    "        width = 4.0\n",
    "    }\n",
    "}"
   ]
  },
  {
   "cell_type": "markdown",
   "metadata": {},
   "source": [
    "## Position"
   ]
  },
  {
   "cell_type": "markdown",
   "metadata": {},
   "source": [
    "`position` parameter adjusts the relative position of objects from different groups within the same layer."
   ]
  },
  {
   "cell_type": "code",
   "execution_count": null,
   "metadata": {},
   "outputs": [],
   "source": [
    "val meanCylDf = mpgDF.groupBy {cyl and drv}.mean { cty }\n",
    "meanCylDf.head(5)"
   ]
  },
  {
   "cell_type": "code",
   "execution_count": null,
   "metadata": {},
   "outputs": [],
   "source": [
    "val meanCylPlot = meanCylDf.groupBy {cyl}.plot {\n",
    "   bars {\n",
    "       x(drv)\n",
    "       y(cty.rename(\"mean_cty\"))\n",
    "       fillColor(cyl)\n",
    "\n",
    "       // by fedault for `bars` layer\n",
    "       position = Position.Dodge()\n",
    "   }\n",
    "}\n",
    "meanCylPlot"
   ]
  },
  {
   "cell_type": "code",
   "execution_count": null,
   "metadata": {},
   "outputs": [],
   "source": [
    "meanCylDf.groupBy {cyl}.plot {\n",
    "   bars {\n",
    "       x(drv)\n",
    "       y(cty.rename(\"mean_cty\"))\n",
    "       fillColor(cyl)\n",
    "\n",
    "       position = Position.Identity\n",
    "   }\n",
    "}"
   ]
  },
  {
   "cell_type": "code",
   "execution_count": null,
   "metadata": {},
   "outputs": [],
   "source": [
    "meanCylDf.groupBy {cyl}.plot {\n",
    "   bars {\n",
    "       x(drv)\n",
    "       y(cty.rename(\"mean_cty\"))\n",
    "       fillColor(cyl)\n",
    "\n",
    "       position = Position.Stack\n",
    "   }\n",
    "}"
   ]
  },
  {
   "cell_type": "markdown",
   "metadata": {},
   "source": [
    "*Note*: `position` works only between groups in one layer, so it is impossible to configure the relative position of objects from different layers."
   ]
  },
  {
   "cell_type": "markdown",
   "metadata": {},
   "source": [
    "# Experimental"
   ]
  },
  {
   "cell_type": "markdown",
   "metadata": {},
   "source": [
    "The following API is experimental and may be significantly changed in the future."
   ]
  },
  {
   "cell_type": "markdown",
   "metadata": {},
   "source": [
    "## Multiplot"
   ]
  },
  {
   "cell_type": "markdown",
   "metadata": {},
   "source": [
    "There are 3 ways to create a multiplot: `plotGrid`, `plotBunch` and facetting."
   ]
  },
  {
   "cell_type": "markdown",
   "metadata": {},
   "source": [
    "### Plot grid"
   ]
  },
  {
   "cell_type": "markdown",
   "metadata": {},
   "source": [
    "`plotGrid` function arrange plots in cells of a regular grid."
   ]
  },
  {
   "cell_type": "code",
   "execution_count": null,
   "metadata": {},
   "outputs": [],
   "source": [
    "// TODO fix swing\n",
    "plotGrid(listOf(mpgInfoPlot, mpgCountPlot, meanCylPlot), 2)"
   ]
  },
  {
   "cell_type": "markdown",
   "metadata": {},
   "source": [
    "### Plot bunch"
   ]
  },
  {
   "cell_type": "markdown",
   "metadata": {},
   "source": [
    "Collection of plots without an automatic layout. Each plot can have arbitrary location and size."
   ]
  },
  {
   "cell_type": "code",
   "execution_count": null,
   "metadata": {},
   "outputs": [],
   "source": [
    "// TODO fix swing"
   ]
  },
  {
   "cell_type": "code",
   "execution_count": null,
   "metadata": {},
   "outputs": [],
   "source": [
    "plotBunch {\n",
    "    add(mpgCountPlot, 0, 0, 400, 200)\n",
    "    add(meanCylPlot, 400, 0, 300, 200)\n",
    "    add(mpgInfoPlot, 0, 200, 700, 300)\n",
    "}"
   ]
  },
  {
   "cell_type": "markdown",
   "metadata": {},
   "source": [
    "### Facetting"
   ]
  },
  {
   "cell_type": "markdown",
   "metadata": {},
   "source": [
    "Facetting creates a multiplot from one plot by splitting dataset (like `groupBy`). Facetting can be applied by invocation `facetGridX`, `facetGridY` (for creating facetting by 1 parameter along `X` and `Y` axes correspondingly), `facetGrid`(for creating facetting by 2 parameter along `X` and `Y` axes) and `facetWrap` (for creating facetting by multiple parameteres)."
   ]
  },
  {
   "cell_type": "code",
   "execution_count": null,
   "metadata": {},
   "outputs": [],
   "source": [
    "mpgDF.plot {\n",
    "    points {\n",
    "        x(displ)\n",
    "        y(cty) {\n",
    "            scale = continuous(8..34)\n",
    "        }\n",
    "\n",
    "        symbol = Symbol.CIRCLE_FILLED\n",
    "        color = Color.WHITE\n",
    "        fillColor(drv)\n",
    "        size(hwy) {\n",
    "            scale = continuous(2.0..10.0)\n",
    "        }\n",
    "    }\n",
    "\n",
    "    layout.size = 750 to 450\n",
    "\n",
    "    facetGridX(drv, scalesSharing = ScalesSharing.FREE_X)\n",
    "}"
   ]
  },
  {
   "cell_type": "code",
   "execution_count": null,
   "metadata": {},
   "outputs": [],
   "source": [
    "mpgDF.plot {\n",
    "    points {\n",
    "        x(displ)\n",
    "        y(cty) {\n",
    "            scale = continuous(8..34)\n",
    "        }\n",
    "\n",
    "        symbol = Symbol.CIRCLE_FILLED\n",
    "        color = Color.WHITE\n",
    "        fillColor(drv)\n",
    "        size(hwy) {\n",
    "            scale = continuous(2.0..10.0)\n",
    "        }\n",
    "    }\n",
    "\n",
    "    layout.size = 750 to 450\n",
    "\n",
    "    facetGridY(cyl)\n",
    "}"
   ]
  },
  {
   "cell_type": "code",
   "execution_count": null,
   "metadata": {},
   "outputs": [],
   "source": [
    "mpgDF.plot {\n",
    "    points {\n",
    "        x(displ)\n",
    "        y(cty) {\n",
    "            scale = continuous(8..34)\n",
    "        }\n",
    "\n",
    "        symbol = Symbol.CIRCLE_FILLED\n",
    "        color = Color.WHITE\n",
    "        fillColor(drv)\n",
    "        size(hwy) {\n",
    "            scale = continuous(2.0..10.0)\n",
    "        }\n",
    "    }\n",
    "\n",
    "    layout.size = 750 to 450\n",
    "\n",
    "    facetGrid(drv, cyl)\n",
    "}"
   ]
  },
  {
   "cell_type": "code",
   "execution_count": null,
   "metadata": {},
   "outputs": [],
   "source": [
    "mpgDF.plot {\n",
    "    points {\n",
    "        x(displ)\n",
    "        y(cty) {\n",
    "            scale = continuous(8..34)\n",
    "        }\n",
    "\n",
    "        symbol = Symbol.CIRCLE_FILLED\n",
    "        color = Color.WHITE\n",
    "        fillColor(drv)\n",
    "        size(hwy) {\n",
    "            scale = continuous(2.0..10.0)\n",
    "        }\n",
    "    }\n",
    "\n",
    "    layout.size = 750 to 450\n",
    "\n",
    "    facetWrap(nCol = 3, scalesSharing = ScalesSharing.FREE) {\n",
    "        facet(drv)\n",
    "        facet(cyl, order = OrderDirection.DESCENDING)\n",
    "    }\n",
    "}"
   ]
  },
  {
   "cell_type": "markdown",
   "metadata": {
    "datalore": {
     "hide_input_from_viewers": false,
     "hide_output_from_viewers": false,
     "node_id": "eldAX86LudbZLVkCyEQBA7",
     "report_properties": {},
     "type": "MD"
    }
   },
   "source": [
    "## Statistics"
   ]
  },
  {
   "cell_type": "markdown",
   "metadata": {
    "datalore": {
     "hide_input_from_viewers": false,
     "hide_output_from_viewers": false,
     "node_id": "dHuLnOMCGwTPgEXeZ0P8f1",
     "report_properties": {},
     "type": "MD"
    }
   },
   "source": [
    "Rather than using statistical pre-transformations of your dataset, you can calculate it inside the DSL. The \"stat\" family of functions is used for this purpose. These functions convert the original data into a new dataset with calculated statistics. The set of these statistics is defined by the function. Within a context, its statistics can be accessed through the `Stat` field.These statistics act as pointers to the columns in the new dataset. And you can do the same thing with them as with regular `ColumnReference` : they can be mapped to aesthetics, scaled, used in tooltips, etc."
   ]
  },
  {
   "cell_type": "code",
   "execution_count": null,
   "metadata": {
    "datalore": {
     "hide_input_from_viewers": false,
     "hide_output_from_viewers": false,
     "node_id": "kBeDAtD6YTSmRLZjZuVexr",
     "report_properties": {},
     "type": "CODE"
    }
   },
   "outputs": [],
   "source": [
    "import kotlin.random.Random\n",
    "\n",
    "val observations = List(1000) { Random.nextDouble() }\n",
    "val observationsDataset = mapOf(\n",
    "    \"observations\" to observations\n",
    ")\n",
    "val obs = column<Double>(\"observations\")"
   ]
  },
  {
   "cell_type": "code",
   "execution_count": null,
   "metadata": {
    "datalore": {
     "hide_input_from_viewers": false,
     "hide_output_from_viewers": false,
     "node_id": "GNXlwKkalJBLeHGyvfr1jU",
     "report_properties": {},
     "type": "CODE"
    }
   },
   "outputs": [],
   "source": [
    "plot(observationsDataset) {\n",
    "    statBin(obs) {\n",
    "         bars {\n",
    "            // simple mapping\n",
    "            x(Stat.BINS)\n",
    "            // mapping with scale\n",
    "            y(Stat.COUNT) {\n",
    "                scale = continuous(0.0 .. 100.0, transform = Transformation.REVERSE)\n",
    "            }\n",
    "\n",
    "            alpha = 0.5\n",
    "\n",
    "            // formatting of stat value format\n",
    "            tooltips(formats = mapOf(\n",
    "                Stat.COUNT to \"d\"\n",
    "            )) {\n",
    "                // line with the name of stat (i.e. \"count\") on the left side and its value on the right side\n",
    "                line(Stat.COUNT)\n",
    "             }\n",
    "         }\n",
    "\n",
    "         line {\n",
    "             x(Stat.BINS)\n",
    "             y(Stat.COUNT)\n",
    "\n",
    "             width = 2.5\n",
    "             color = Color.RED\n",
    "         }\n",
    "    }\n",
    "}"
   ]
  },
  {
   "cell_type": "markdown",
   "metadata": {
    "datalore": {
     "hide_input_from_viewers": false,
     "hide_output_from_viewers": false,
     "node_id": "DjmARlhPCOPHxPWLsg0hL8",
     "report_properties": {},
     "type": "MD"
    }
   },
   "source": [
    "In addition, for basic statistical charts there is a simpler API, which combines into one function the counting of statistics and the creation of a layer. For example, a histogram is nothing more than a counting of \"bin\" statistics and a bar chart that has bins values on X and count values on Y."
   ]
  },
  {
   "cell_type": "code",
   "execution_count": null,
   "metadata": {
    "datalore": {
     "hide_input_from_viewers": false,
     "hide_output_from_viewers": false,
     "node_id": "sxnZ4iTwnM1TbPWgBmmXRI",
     "report_properties": {},
     "type": "CODE"
    }
   },
   "outputs": [],
   "source": [
    "val histPlot = plot(observationsDataset) {\n",
    "    histogram(obs)\n",
    "\n",
    "    layout.title = \"`histogram`\"\n",
    "}\n",
    "histPlot"
   ]
  },
  {
   "cell_type": "markdown",
   "metadata": {
    "datalore": {
     "hide_input_from_viewers": false,
     "hide_output_from_viewers": false,
     "node_id": "0WegS8huDrfRqHf6uv4kzm",
     "report_properties": {},
     "type": "MD"
    }
   },
   "source": [
    "You can compare it to a bar chart with the calculation of bins stat:"
   ]
  },
  {
   "cell_type": "code",
   "execution_count": null,
   "metadata": {
    "datalore": {
     "hide_input_from_viewers": false,
     "hide_output_from_viewers": false,
     "node_id": "FZDxN7wf5BkYc78YSEb2z0",
     "report_properties": {},
     "type": "CODE"
    }
   },
   "outputs": [],
   "source": [
    "val binBarPlot = plot(observationsDataset) {\n",
    "    statBin(obs) {\n",
    "        bars {\n",
    "            x(Stat.BINS)\n",
    "            y(Stat.COUNT)\n",
    "         }\n",
    "    }\n",
    "    layout.title = \"`statBin` + `bar`\"\n",
    "}\n",
    "\n",
    "plotGrid(listOf(histPlot, binBarPlot), 2)"
   ]
  },
  {
   "cell_type": "markdown",
   "metadata": {
    "datalore": {
     "hide_input_from_viewers": false,
     "hide_output_from_viewers": false,
     "node_id": "UPsODkYYkmVCgj9EZyGd2B",
     "report_properties": {},
     "type": "MD"
    }
   },
   "source": [
    "`histogram` function also opens a context, in which you can create bindings for the aesthetic attributes of the bar. In addition, the \"stat-bin\" stats are defined in this context, allowing you to map them to aesthetics. Also, you can rewrite default mappings to coordinates (to display relative values instead of absolute ones, for example)."
   ]
  },
  {
   "cell_type": "code",
   "execution_count": null,
   "metadata": {
    "datalore": {
     "hide_input_from_viewers": false,
     "hide_output_from_viewers": false,
     "node_id": "JYwb08FeoH8jjMNd1xdck4",
     "report_properties": {},
     "type": "CODE"
    }
   },
   "outputs": [],
   "source": [
    "plot(observationsDataset) {\n",
    "    histogram(obs, Bins.byWidth(0.05), BinXPos.center(0.5)) {\n",
    "        y(Stat.DENSITY)\n",
    "\n",
    "        fillColor(Stat.COUNT) {\n",
    "            scale= continuous(Color.GREEN .. Color.RED)\n",
    "        }\n",
    "\n",
    "        borderLine {\n",
    "            color=Color.BLACK\n",
    "            width=0.3\n",
    "        }\n",
    "\n",
    "        tooltips(title = \"${value(Stat.BINS)} ± 0.025\") {\n",
    "            line(Stat.DENSITY)\n",
    "        }\n",
    "    }\n",
    "}"
   ]
  },
  {
   "cell_type": "markdown",
   "metadata": {
    "datalore": {
     "hide_input_from_viewers": false,
     "hide_output_from_viewers": false,
     "node_id": "zASG56DhCR3yGzyF1c0I3z",
     "report_properties": {},
     "type": "MD"
    }
   },
   "source": [
    "Stats API works with `Iterable` as well:"
   ]
  },
  {
   "cell_type": "code",
   "execution_count": null,
   "metadata": {
    "datalore": {
     "hide_input_from_viewers": false,
     "hide_output_from_viewers": false,
     "node_id": "La6Hg2T46SJINORlOwmto0",
     "report_properties": {},
     "type": "CODE"
    }
   },
   "outputs": [],
   "source": [
    "plotGrid(listOf(\n",
    "    plot {\n",
    "        statBin(observations) {\n",
    "            points {\n",
    "                x(Stat.DENSITY)\n",
    "                y(Stat.BINS)\n",
    "            }\n",
    "        }\n",
    "    },\n",
    "    plot {\n",
    "        histogram(observations)\n",
    "    }\n",
    "), 2)"
   ]
  },
  {
   "cell_type": "markdown",
   "metadata": {
    "datalore": {
     "hide_input_from_viewers": false,
     "hide_output_from_viewers": false,
     "node_id": "GJZ5rVK3hAWdjhWLqLXtfC",
     "report_properties": {},
     "type": "MD"
    }
   },
   "source": [
    "## Layout"
   ]
  },
  {
   "cell_type": "markdown",
   "metadata": {
    "datalore": {
     "hide_input_from_viewers": false,
     "hide_output_from_viewers": false,
     "node_id": "xvVxgJrBq25PTR7gY1DLMm",
     "report_properties": {},
     "type": "MD"
    }
   },
   "source": [
    "### Title, subtitle, caption and size"
   ]
  },
  {
   "cell_type": "markdown",
   "metadata": {
    "datalore": {
     "hide_input_from_viewers": false,
     "hide_output_from_viewers": false,
     "node_id": "hJnPVAL3xUIS9NmtcIFBUn",
     "report_properties": {},
     "type": "MD"
    }
   },
   "source": [
    "They plot `title`, `subtitle`, `caption` and `size` be configured via `layout` (of which properties they are). Layout fields can be accessed directly or via invocation:"
   ]
  },
  {
   "cell_type": "code",
   "execution_count": null,
   "metadata": {
    "datalore": {
     "hide_input_from_viewers": false,
     "hide_output_from_viewers": false,
     "node_id": "hZ6aA1u2z2xOuvzoqRLs7R",
     "report_properties": {},
     "type": "CODE"
    }
   },
   "outputs": [],
   "source": [
    "mpgDF.plot {\n",
    "    points {\n",
    "        x(cty)\n",
    "        y(hwy)\n",
    "    }\n",
    "    \n",
    "    // can acces of layout parameters in this context\n",
    "    layout {\n",
    "        subtitle = \"plot subtitle\"\n",
    "        caption = \"plot caption \\n important info\"\n",
    "        size = 800 to 600\n",
    "    }\n",
    "    // if you just want to put a title\n",
    "    layout.title = \"PLOT TITLE\"\n",
    "}"
   ]
  },
  {
   "cell_type": "markdown",
   "metadata": {
    "datalore": {
     "hide_input_from_viewers": false,
     "hide_output_from_viewers": false,
     "node_id": "SlhYX0QrrjRhm3MIGwjEhK",
     "report_properties": {},
     "type": "MD"
    }
   },
   "source": [
    "### Themes"
   ]
  },
  {
   "cell_type": "markdown",
   "metadata": {
    "datalore": {
     "hide_input_from_viewers": false,
     "hide_output_from_viewers": false,
     "node_id": "JTxwv4uzLmTImVNN5uZKEO",
     "report_properties": {},
     "type": "MD"
    }
   },
   "source": [
    "Themes allow you to customize all the graphical elements of the layout &mdash; styles of lines, backgrounds, text, etc. You can create your own theme or use one of the prepared."
   ]
  },
  {
   "cell_type": "markdown",
   "metadata": {
    "datalore": {
     "hide_input_from_viewers": false,
     "hide_output_from_viewers": false,
     "node_id": "MAuUasYoZnRe2onBYo2TFN",
     "report_properties": {},
     "type": "MD"
    }
   },
   "source": [
    "To apply theme, just use `theme()` method of `layout`:"
   ]
  },
  {
   "cell_type": "code",
   "execution_count": null,
   "metadata": {
    "datalore": {
     "hide_input_from_viewers": false,
     "hide_output_from_viewers": false,
     "node_id": "6hGtuHzX0N61km3bvnWquQ",
     "report_properties": {},
     "type": "CODE"
    }
   },
   "outputs": [],
   "source": [
    "mpgDF. plot {\n",
    "    points {\n",
    "        x(cty)\n",
    "        y(hwy)\n",
    "    }\n",
    "    layout.theme(Theme.Classic)\n",
    "}"
   ]
  },
  {
   "cell_type": "code",
   "execution_count": null,
   "metadata": {
    "datalore": {
     "hide_input_from_viewers": false,
     "hide_output_from_viewers": false,
     "node_id": "ro9r7cJuPgTKFwqKDVME2B",
     "report_properties": {},
     "type": "CODE"
    }
   },
   "outputs": [],
   "source": [
    "import org.jetbrains.kotlinx.kandy.ir.Plot\n",
    "fun plotWithTheme(theme: Theme? = null, title: String? = null):Plot {\n",
    "    return mpgDF.plot {\n",
    "        points {\n",
    "            x(cty)\n",
    "            y(hwy)\n",
    "        }\n",
    "        layout {\n",
    "            theme?.let {\n",
    "                theme(it)\n",
    "            }\n",
    "            this.title = title\n",
    "        }\n",
    "    }\n",
    "}"
   ]
  },
  {
   "cell_type": "code",
   "execution_count": null,
   "metadata": {
    "datalore": {
     "hide_input_from_viewers": false,
     "hide_output_from_viewers": false,
     "node_id": "bGZaxxeAjn4DaOheu7tRj0",
     "report_properties": {},
     "type": "CODE"
    }
   },
   "outputs": [],
   "source": [
    "plotGrid(listOf(\n",
    "    plotWithTheme(Theme.Classic, \"\\\"classic\\\" theme\"),\n",
    "    plotWithTheme(Theme.Grey, \"\\\"grey\\\" theme\"),\n",
    "    plotWithTheme(Theme.Light, \"\\\"light\\\" theme\"),\n",
    "    plotWithTheme(Theme.Minimal, \"\\\"minimal\\\" theme\"),\n",
    "    plotWithTheme(Theme.Minimal2, \"\\\"minimal2\\\" theme (by default)\"),\n",
    "    plotWithTheme(Theme.None, \"\\\"none\\\" theme\"),\n",
    "), 2)"
   ]
  },
  {
   "cell_type": "markdown",
   "metadata": {
    "datalore": {
     "hide_input_from_viewers": false,
     "hide_output_from_viewers": false,
     "node_id": "zvsppHtiVRPj0phoB8xpM0",
     "report_properties": {},
     "type": "MD"
    }
   },
   "source": [
    "#### Custom themes"
   ]
  },
  {
   "cell_type": "markdown",
   "metadata": {
    "datalore": {
     "hide_input_from_viewers": false,
     "hide_output_from_viewers": false,
     "node_id": "WsTGicf3HDd0k4NG38Uyyo",
     "report_properties": {},
     "type": "MD"
    }
   },
   "source": [
    "There is a DSL for creating custom themes. The main part of this DSL is the setting of parameters of type \"line\", \"text\" and \"background\". These parameters can be created separately and then applied, or be set up inplace. Each of them has a `blank` parameter of `Boolean` type. If you set it to true, the item will not be displayed."
   ]
  },
  {
   "cell_type": "code",
   "execution_count": null,
   "metadata": {
    "datalore": {
     "hide_input_from_viewers": false,
     "hide_output_from_viewers": false,
     "node_id": "5x3UMq8irqgaNLVtXSvyvT",
     "report_properties": {},
     "type": "CODE"
    }
   },
   "outputs": [],
   "source": [
    "val redLine = LayoutParameters.line(Color.RED)\n",
    "\n",
    "val simpleCustomTheme = theme {\n",
    "    // use previously created parameters\n",
    "    xAxis.line(redLine)\n",
    "    // set up parameters\n",
    "    yAxis.line {\n",
    "        color = Color.RED\n",
    "        width = 0.3\n",
    "    }\n",
    "    // remvoe ticks on both axes\n",
    "    axis.ticks {\n",
    "        blank = true\n",
    "    }\n",
    "}\n",
    "\n",
    "plotWithTheme(simpleCustomTheme)"
   ]
  },
  {
   "cell_type": "code",
   "execution_count": null,
   "metadata": {
    "datalore": {
     "hide_input_from_viewers": false,
     "hide_output_from_viewers": false,
     "node_id": "ShfP1jL68Ej12MrcPlFBY7",
     "report_properties": {},
     "type": "CODE"
    }
   },
   "outputs": [],
   "source": [
    "// blanking all details on axes:\n",
    "val blankAxesTheme = theme {\n",
    "    blankAxes()\n",
    "}\n",
    "plotWithTheme(blankAxesTheme)"
   ]
  },
  {
   "cell_type": "code",
   "execution_count": null,
   "metadata": {
    "datalore": {
     "hide_input_from_viewers": false,
     "hide_output_from_viewers": false,
     "node_id": "PdCTQRBmuH521tYiBQoE0b",
     "report_properties": {},
     "type": "CODE"
    }
   },
   "outputs": [],
   "source": [
    "// TODO theme example notebook reference link????"
   ]
  },
  {
   "cell_type": "markdown",
   "metadata": {
    "datalore": {
     "hide_input_from_viewers": false,
     "hide_output_from_viewers": false,
     "node_id": "UYMcxqxiyXXrV4ojUlyax6",
     "report_properties": {},
     "type": "MD"
    }
   },
   "source": [
    "## Custom scales"
   ]
  },
  {
   "cell_type": "markdown",
   "metadata": {
    "datalore": {
     "hide_input_from_viewers": false,
     "hide_output_from_viewers": false,
     "node_id": "pOr8kLP0nqvREdxNUZdQKl",
     "report_properties": {},
     "type": "MD"
    }
   },
   "source": [
    "In addition to the usual scales, the Let's-Plot provides several custom color scales: `hue`, `grey`, `brewer`, `gradient2` and `gradientN`."
   ]
  },
  {
   "cell_type": "code",
   "execution_count": null,
   "metadata": {
    "datalore": {
     "hide_input_from_viewers": false,
     "hide_output_from_viewers": false,
     "node_id": "Hx3E8Q3YR8JswFM9w6TWcm",
     "report_properties": {},
     "type": "CODE"
    }
   },
   "outputs": [],
   "source": [
    "mpgDF.plot {\n",
    "    points {\n",
    "        x(cty)\n",
    "    y(hwy)\n",
    "        size = 5.0\n",
    "        color(drv) { \n",
    "            scale=categoricalColorHue()\n",
    "        }\n",
    "    }\n",
    "}"
   ]
  },
  {
   "cell_type": "code",
   "execution_count": null,
   "metadata": {
    "datalore": {
     "hide_input_from_viewers": false,
     "hide_output_from_viewers": false,
     "node_id": "E5uz2DQp0gy9kxC7HlfKJL",
     "report_properties": {},
     "type": "CODE"
    }
   },
   "outputs": [],
   "source": [
    "mpgDF.plot {\n",
    "    points {\n",
    "        x(cty)\n",
    "        y(hwy)\n",
    "        size = 5.0\n",
    "        color(cty){\n",
    "            scale = continuousColorGrey()\n",
    "        }\n",
    "    }\n",
    "}"
   ]
  },
  {
   "cell_type": "code",
   "execution_count": null,
   "metadata": {
    "datalore": {
     "hide_input_from_viewers": false,
     "hide_output_from_viewers": false,
     "node_id": "EMOyujN3zKnPlkvcOAhWsy",
     "report_properties": {},
     "type": "CODE"
    }
   },
   "outputs": [],
   "source": [
    "mpgDF.plot {\n",
    "    points {\n",
    "        x(cty)\n",
    "        y(hwy)\n",
    "        size =5.0\n",
    "        color(hwy){\n",
    "            scale =continuousColorGradient2(Color.BLUE, Color.ORANGE, Color.RED, 30.0)\n",
    "        }\n",
    "    }\n",
    "}"
   ]
  },
  {
   "cell_type": "code",
   "execution_count": null,
   "metadata": {
    "datalore": {
     "hide_input_from_viewers": false,
     "hide_output_from_viewers": false,
     "node_id": "8iL6i28asgIgUABW2u3gMH",
     "report_properties": {},
     "type": "CODE"
    }
   },
   "outputs": [],
   "source": [
    "mpgDF.plot {\n",
    "    points {\n",
    "        x(cty)\n",
    "        y(hwy)\n",
    "        size =5.0\n",
    "        color(cty){\n",
    "            scale = continuousColorGradientN(\n",
    "                gradientColors = listOf(Color.RED, Color.hex(\"#fa89c7\"), Color.rgb(200, 89, 12), Color.LIGHT_GREEN))\n",
    "        }\n",
    "    }\n",
    "}"
   ]
  },
  {
   "cell_type": "code",
   "execution_count": null,
   "metadata": {
    "datalore": {
     "hide_input_from_viewers": false,
     "hide_output_from_viewers": false,
     "node_id": "iHgDm0h39UKeDaRH7S29Xv",
     "report_properties": {},
     "type": "CODE"
    }
   },
   "outputs": [],
   "source": [
    "mpgDF.plot {\n",
    "    points {\n",
    "        x(cty)\n",
    "        y(hwy)\n",
    "        size = 5.0\n",
    "        color(drv){\n",
    "            scale =categoricalColorBrewer(BrewerPalette.Qualitative.Set1)\n",
    "        }\n",
    "    }\n",
    "}"
   ]
  },
  {
   "cell_type": "markdown",
   "metadata": {
    "datalore": {
     "hide_input_from_viewers": false,
     "hide_output_from_viewers": false,
     "node_id": "JNwqWbQMMeDiAQzl8vZpyZ",
     "report_properties": {},
     "type": "MD"
    }
   },
   "source": [
    "## Tooltips"
   ]
  },
  {
   "cell_type": "markdown",
   "metadata": {
    "datalore": {
     "hide_input_from_viewers": false,
     "hide_output_from_viewers": false,
     "node_id": "9CAEeY8NjfJgscH6repa3P",
     "report_properties": {},
     "type": "MD"
    }
   },
   "source": [
    "In addition to aesthetics, data in the visual object can be displayed using tooltips. They are set up in the layer context via a `tooltips()` method. By default tooltips are enabled but you can turn them off setting the `hide` flag to `true`:"
   ]
  },
  {
   "cell_type": "code",
   "execution_count": null,
   "metadata": {
    "datalore": {
     "hide_input_from_viewers": false,
     "hide_output_from_viewers": false,
     "node_id": "EVn54Rh8m02xvWVTIlbNyG",
     "report_properties": {},
     "type": "CODE"
    }
   },
   "outputs": [],
   "source": [
    "mpgDF.plot {\n",
    "    points {\n",
    "        x(cty)\n",
    "        y(hwy)\n",
    "        color(drv)\n",
    "        size=3.5\n",
    "        \n",
    "        tooltips(hide = true)\n",
    "    }\n",
    "}"
   ]
  },
  {
   "cell_type": "markdown",
   "metadata": {
    "datalore": {
     "hide_input_from_viewers": false,
     "hide_output_from_viewers": false,
     "node_id": "ryv12uQ573vXwGWG0Yw3oB",
     "report_properties": {},
     "type": "MD"
    }
   },
   "source": [
    "Pass a list of pointers to the column to display their value for this object. You can customize the format of the value output for the column"
   ]
  },
  {
   "cell_type": "code",
   "execution_count": null,
   "metadata": {
    "datalore": {
     "hide_input_from_viewers": false,
     "hide_output_from_viewers": false,
     "node_id": "iMGfVFUDzQOPm1IBzASNuA",
     "report_properties": {},
     "type": "CODE"
    }
   },
   "outputs": [],
   "source": [
    "mpgDF.plot {\n",
    "    points {\n",
    "        x(cty)\n",
    "        y(hwy)\n",
    "        color(drv)\n",
    "        size=3.5\n",
    "        \n",
    "        tooltips(drv, cyl, displ, formats = mapOf(displ to \".1g\"))\n",
    "    }\n",
    "}"
   ]
  },
  {
   "cell_type": "markdown",
   "metadata": {
    "datalore": {
     "hide_input_from_viewers": false,
     "hide_output_from_viewers": false,
     "node_id": "OEyUtJxZRL6g1Vm2szLOkX",
     "report_properties": {},
     "type": "MD"
    }
   },
   "source": [
    "You can customize the title of the tooltips window, as well as its minimum width and fix its position"
   ]
  },
  {
   "cell_type": "code",
   "execution_count": null,
   "metadata": {
    "datalore": {
     "hide_input_from_viewers": false,
     "hide_output_from_viewers": false,
     "node_id": "CNidwERpffedDPFyPcWNoi",
     "report_properties": {},
     "type": "CODE"
    }
   },
   "outputs": [],
   "source": [
    "mpgDF.plot {\n",
    "    points {\n",
    "        x(cty)\n",
    "        y(hwy)\n",
    "        color(drv)\n",
    "        size = 3.5\n",
    "        \n",
    "        tooltips(\n",
    "            cyl, displ,\n",
    "            title = \"Car info\",\n",
    "            anchor = Anchor.TOP_RIGHT,\n",
    "            minWidth = 80.0,\n",
    "        )\n",
    "    }\n",
    "}"
   ]
  },
  {
   "cell_type": "markdown",
   "metadata": {
    "datalore": {
     "hide_input_from_viewers": false,
     "hide_output_from_viewers": false,
     "node_id": "aDW1ZXYrawNUl9inYH6rV3",
     "report_properties": {},
     "type": "MD"
    }
   },
   "source": [
    "You can also use a special DSL to manually adjust the tooltips lines. The `line` and `value` families of functions are used for this purpose. `line` methods add lines to the tooltips within the context opened by the `tooltips` function, while `value` methods allow you to add a value from a column (or corresponding aesthetic) to the `String`."
   ]
  },
  {
   "cell_type": "code",
   "execution_count": null,
   "metadata": {
    "datalore": {
     "hide_input_from_viewers": false,
     "hide_output_from_viewers": false,
     "node_id": "pIlMBrrnK7GcNAm5mSPXFO",
     "report_properties": {},
     "type": "CODE"
    }
   },
   "outputs": [],
   "source": [
    "mpgDF.plot {\n",
    "    points {\n",
    "        x(cty)\n",
    "        y(hwy)\n",
    "        color(drv)\n",
    "        size=3.5\n",
    "        \n",
    "        tooltips(\n",
    "            title = \"${value(manufacturer)} ${value(model)}\", // values of columns can be used in the title\n",
    "        ) {\n",
    "            // standard line (name of the column on the left side and corresponding value on the right side)\n",
    "            line(displ)\n",
    "            // solid line\n",
    "            line(\"${trans.tooltipValue()}\")\n",
    "            // two-sided line\n",
    "            line(\"cty/hwy [mpg]\", \"${cty.tooltipValue()}/${hwy.tooltipValue()}\")\n",
    "        }\n",
    "    }\n",
    "}"
   ]
  },
  {
   "cell_type": "markdown",
   "metadata": {
    "datalore": {
     "hide_input_from_viewers": false,
     "hide_output_from_viewers": false,
     "node_id": "Q67xfv9NS2FLu99Y1nsbVw",
     "report_properties": {},
     "type": "MD"
    }
   },
   "source": [
    "## Export"
   ]
  },
  {
   "cell_type": "markdown",
   "metadata": {
    "datalore": {
     "hide_input_from_viewers": false,
     "hide_output_from_viewers": false,
     "node_id": "dclFrZIGzIlOvYZ7nCu9vv",
     "report_properties": {},
     "type": "MD"
    }
   },
   "source": [
    "`Plot` can be exported as an image (.jpg/.jpeg, .png, .html, .svg) with the `.save()` extension method"
   ]
  },
  {
   "cell_type": "code",
   "execution_count": null,
   "metadata": {
    "datalore": {
     "hide_input_from_viewers": false,
     "hide_output_from_viewers": false,
     "node_id": "E9IFCHFcnHCgUo8IhxP7SF",
     "report_properties": {},
     "type": "CODE"
    }
   },
   "outputs": [],
   "source": [
    "val plotForExport = mpgDF.plot {\n",
    "    points {\n",
    "        x(cty)\n",
    "        y(hwy)\n",
    "        color(drv)\n",
    "        size = 3.5\n",
    "    }\n",
    "    layout {\n",
    "        title = \"Plot for export\"\n",
    "        size = 600 to 400\n",
    "    }\n",
    "}\n",
    "plotForExport"
   ]
  },
  {
   "cell_type": "code",
   "execution_count": null,
   "metadata": {
    "datalore": {
     "hide_input_from_viewers": false,
     "hide_output_from_viewers": false,
     "node_id": "InoIXMl7rnO3JJObRnbNtF",
     "report_properties": {},
     "type": "CODE"
    }
   },
   "outputs": [],
   "source": [
    "plotForExport.save(\"plot.png\", scale = 2.5, dpi = 9000, path = \"./saved_plots\")"
   ]
  },
  {
   "cell_type": "code",
   "execution_count": null,
   "metadata": {
    "datalore": {
     "hide_input_from_viewers": false,
     "hide_output_from_viewers": false,
     "node_id": "zyQo8uPi4fvPpv6Y7CRsz0",
     "report_properties": {},
     "type": "CODE"
    },
    "scrolled": true
   },
   "outputs": [],
   "source": [
    "HTML(\"\"\"<img src=\"./saved_plots/plot.png\" width=\"600\" height=\"400\">\"\"\")"
   ]
  },
  {
   "cell_type": "markdown",
   "metadata": {},
   "source": [
    "Also plot can be exported as a `BufferedImage`"
   ]
  },
  {
   "cell_type": "code",
   "execution_count": null,
   "metadata": {},
   "outputs": [],
   "source": [
    "plotForExport.toBufferedImage(scale = 2.5, dpi = 9000)"
   ]
  }
 ],
 "metadata": {
  "datalore": {
   "base_environment": "default",
   "computation_mode": "JUPYTER",
   "package_manager": "pip",
   "packages": [],
   "version": 1
  },
  "kernelspec": {
   "display_name": "Kotlin",
   "language": "kotlin",
   "name": "kotlin"
  },
  "language_info": {
   "codemirror_mode": "text/x-kotlin",
   "file_extension": ".kt",
   "mimetype": "text/x-kotlin",
   "name": "kotlin",
   "nbconvert_exporter": "",
   "pygments_lexer": "kotlin",
   "version": "1.8.20-Beta"
  }
 },
 "nbformat": 4,
 "nbformat_minor": 4
}
