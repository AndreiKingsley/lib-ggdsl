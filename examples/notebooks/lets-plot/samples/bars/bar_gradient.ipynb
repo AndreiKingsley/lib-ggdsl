{
 "cells": [
  {
   "cell_type": "code",
   "execution_count": 1,
   "metadata": {
    "collapsed": true,
    "ExecuteTime": {
     "end_time": "2023-11-20T23:00:25.886628Z",
     "start_time": "2023-11-20T23:00:24.643840Z"
    }
   },
   "outputs": [],
   "source": [
    "%useLatestDescriptors\n",
    "%use kandy"
   ]
  },
  {
   "cell_type": "code",
   "execution_count": 2,
   "outputs": [],
   "source": [
    "val cities by columnOf(\"London\", \"Paris\", \"Berlin\", \"Madrid\", \"Rome\", \"Amsterdam\", \"Prague\")\n",
    "val airPollution by columnOf(70, 65, 50, 60, 55, 45, 53)\n",
    "val numberOfCars by columnOf(3000, 2800, 1800, 2500, 2100, 1300, 2000)\n",
    "\n",
    "val data = dataFrameOf(cities, airPollution, numberOfCars)"
   ],
   "metadata": {
    "collapsed": false,
    "ExecuteTime": {
     "end_time": "2023-11-20T23:00:34.937630Z",
     "start_time": "2023-11-20T23:00:34.308171Z"
    }
   }
  },
  {
   "cell_type": "code",
   "execution_count": 3,
   "outputs": [
    {
     "data": {
      "text/html": "            <iframe src='about:blank' style='border:none !important;' width='600' height='400' srcdoc=\"&lt;html lang=&quot;en&quot;>\n   &lt;head>\n       &lt;style> html, body { margin: 0; overflow: hidden; } &lt;/style>\n       &lt;script type=&quot;text/javascript&quot; data-lets-plot-script=&quot;library&quot; src=&quot;https://cdn.jsdelivr.net/gh/JetBrains/lets-plot@v4.0.1/js-package/distr/lets-plot.min.js&quot;>&lt;/script>\n   &lt;/head>\n   &lt;body>\n          &lt;div id=&quot;jzLmIP&quot;>&lt;/div>\n   &lt;script type=&quot;text/javascript&quot; data-lets-plot-script=&quot;plot&quot;>\n       var plotSpec={\n&quot;ggtitle&quot;:{\n&quot;text&quot;:&quot;Air Pollution and Vehicle Count Analysis&quot;\n},\n&quot;mapping&quot;:{\n},\n&quot;data&quot;:{\n&quot;cities&quot;:[&quot;London&quot;,&quot;Paris&quot;,&quot;Berlin&quot;,&quot;Madrid&quot;,&quot;Rome&quot;,&quot;Amsterdam&quot;,&quot;Prague&quot;],\n&quot;numberOfCars&quot;:[3000.0,2800.0,1800.0,2500.0,2100.0,1300.0,2000.0],\n&quot;airPollution&quot;:[70.0,65.0,50.0,60.0,55.0,45.0,53.0]\n},\n&quot;kind&quot;:&quot;plot&quot;,\n&quot;scales&quot;:[{\n&quot;aesthetic&quot;:&quot;x&quot;,\n&quot;discrete&quot;:true,\n&quot;name&quot;:&quot;City&quot;\n},{\n&quot;aesthetic&quot;:&quot;y&quot;,\n&quot;name&quot;:&quot;Number of cars (thousands)&quot;,\n&quot;limits&quot;:[null,null]\n},{\n&quot;aesthetic&quot;:&quot;fill&quot;,\n&quot;scale_mapper_kind&quot;:&quot;color_gradient&quot;,\n&quot;high&quot;:&quot;#ee6666&quot;,\n&quot;low&quot;:&quot;#3ba272&quot;,\n&quot;name&quot;:&quot;Air Pollution\\n Level (AQI)&quot;,\n&quot;limits&quot;:[null,null]\n}],\n&quot;layers&quot;:[{\n&quot;mapping&quot;:{\n&quot;x&quot;:&quot;cities&quot;,\n&quot;y&quot;:&quot;numberOfCars&quot;,\n&quot;fill&quot;:&quot;airPollution&quot;\n},\n&quot;stat&quot;:&quot;identity&quot;,\n&quot;sampling&quot;:&quot;none&quot;,\n&quot;alpha&quot;:0.8,\n&quot;position&quot;:&quot;dodge&quot;,\n&quot;geom&quot;:&quot;bar&quot;,\n&quot;data&quot;:{\n}\n}]\n};\n       var plotContainer = document.getElementById(&quot;jzLmIP&quot;);\n       LetsPlot.buildPlotFromProcessedSpecs(plotSpec, -1, -1, plotContainer);\n   &lt;/script>\n   &lt;/body>\n&lt;/html>\"></iframe>            \n        <svg id=1363c263-2193-41d6-8169-0b82d96cbb66 xmlns=\"http://www.w3.org/2000/svg\" xmlns:xlink=\"http://www.w3.org/1999/xlink\" class=\"plt-container\" width=\"600.0\" height=\"400.0\">\n  <style type=\"text/css\">\n  .plt-container {\n   font-family: Lucida Grande, sans-serif;\n   user-select: none;\n   -webkit-user-select: none;\n   -moz-user-select: none;\n   -ms-user-select: none;\n}\ntext {\n   text-rendering: optimizeLegibility;\n}\n#pzoKdnq .plot-title {\n   fill: #474747;\n   font-family: Lucida Grande, sans-serif;\n   font-size: 16.0px;\n   font-weight: normal;\n   font-style: normal;   \n}\n#pzoKdnq .plot-subtitle {\n   fill: #474747;\n   font-family: Lucida Grande, sans-serif;\n   font-size: 15.0px;\n   font-weight: normal;\n   font-style: normal;   \n}\n#pzoKdnq .plot-caption {\n   fill: #474747;\n   font-family: Lucida Grande, sans-serif;\n   font-size: 13.0px;\n   font-weight: normal;\n   font-style: normal;   \n}\n#pzoKdnq .legend-title {\n   fill: #474747;\n   font-family: Lucida Grande, sans-serif;\n   font-size: 15.0px;\n   font-weight: normal;\n   font-style: normal;   \n}\n#pzoKdnq .legend-item {\n   fill: #474747;\n   font-family: Lucida Grande, sans-serif;\n   font-size: 13.0px;\n   font-weight: normal;\n   font-style: normal;   \n}\n#pzoKdnq .axis-title-x {\n   fill: #474747;\n   font-family: Lucida Grande, sans-serif;\n   font-size: 15.0px;\n   font-weight: normal;\n   font-style: normal;   \n}\n#pzoKdnq .axis-text-x {\n   fill: #474747;\n   font-family: Lucida Grande, sans-serif;\n   font-size: 13.0px;\n   font-weight: normal;\n   font-style: normal;   \n}\n#dKndXIt .axis-tooltip-text-x {\n   fill: #ffffff;\n   font-family: Lucida Grande, sans-serif;\n   font-size: 13.0px;\n   font-weight: normal;\n   font-style: normal;   \n}\n#pzoKdnq .axis-title-y {\n   fill: #474747;\n   font-family: Lucida Grande, sans-serif;\n   font-size: 15.0px;\n   font-weight: normal;\n   font-style: normal;   \n}\n#pzoKdnq .axis-text-y {\n   fill: #474747;\n   font-family: Lucida Grande, sans-serif;\n   font-size: 13.0px;\n   font-weight: normal;\n   font-style: normal;   \n}\n#dKndXIt .axis-tooltip-text-y {\n   fill: #ffffff;\n   font-family: Lucida Grande, sans-serif;\n   font-size: 13.0px;\n   font-weight: normal;\n   font-style: normal;   \n}\n#pzoKdnq .facet-strip-text-x {\n   fill: #474747;\n   font-family: Lucida Grande, sans-serif;\n   font-size: 13.0px;\n   font-weight: normal;\n   font-style: normal;   \n}\n#pzoKdnq .facet-strip-text-y {\n   fill: #474747;\n   font-family: Lucida Grande, sans-serif;\n   font-size: 13.0px;\n   font-weight: normal;\n   font-style: normal;   \n}\n#dKndXIt .tooltip-text {\n   fill: #474747;\n   font-family: Lucida Grande, sans-serif;\n   font-size: 13.0px;\n   font-weight: normal;\n   font-style: normal;   \n}\n#dKndXIt .tooltip-title {\n   fill: #474747;\n   font-family: Lucida Grande, sans-serif;\n   font-size: 13.0px;\n   font-weight: bold;\n   font-style: normal;   \n}\n#dKndXIt .tooltip-label {\n   fill: #474747;\n   font-family: Lucida Grande, sans-serif;\n   font-size: 13.0px;\n   font-weight: bold;\n   font-style: normal;   \n}\n\n  </style>\n  <g id=\"pzoKdnq\">\n    <path fill-rule=\"evenodd\" fill=\"rgb(255,255,255)\" fill-opacity=\"1.0\" d=\"M0.0 0.0 L0.0 400.0 L600.0 400.0 L600.0 0.0 Z\">\n    </path>\n    <g transform=\"translate(23.0 34.0 ) \">\n      <g transform=\"translate(42.99591213121782 284.417708131763 ) \">\n        <line x1=\"35.92516080269669\" y1=\"-0.0\" x2=\"35.92516080269669\" y2=\"-284.417708131763\" stroke=\"rgb(233,233,233)\" stroke-opacity=\"1.0\" stroke-width=\"1.0\">\n        </line>\n        <line x1=\"91.19463896069159\" y1=\"-0.0\" x2=\"91.19463896069159\" y2=\"-284.417708131763\" stroke=\"rgb(233,233,233)\" stroke-opacity=\"1.0\" stroke-width=\"1.0\">\n        </line>\n        <line x1=\"146.4641171186865\" y1=\"-0.0\" x2=\"146.4641171186865\" y2=\"-284.417708131763\" stroke=\"rgb(233,233,233)\" stroke-opacity=\"1.0\" stroke-width=\"1.0\">\n        </line>\n        <line x1=\"201.7335952766814\" y1=\"-0.0\" x2=\"201.7335952766814\" y2=\"-284.417708131763\" stroke=\"rgb(233,233,233)\" stroke-opacity=\"1.0\" stroke-width=\"1.0\">\n        </line>\n        <line x1=\"257.0030734346763\" y1=\"-0.0\" x2=\"257.0030734346763\" y2=\"-284.417708131763\" stroke=\"rgb(233,233,233)\" stroke-opacity=\"1.0\" stroke-width=\"1.0\">\n        </line>\n        <line x1=\"312.27255159267116\" y1=\"-0.0\" x2=\"312.27255159267116\" y2=\"-284.417708131763\" stroke=\"rgb(233,233,233)\" stroke-opacity=\"1.0\" stroke-width=\"1.0\">\n        </line>\n        <line x1=\"367.5420297506661\" y1=\"-0.0\" x2=\"367.5420297506661\" y2=\"-284.417708131763\" stroke=\"rgb(233,233,233)\" stroke-opacity=\"1.0\" stroke-width=\"1.0\">\n        </line>\n        <g transform=\"translate(35.92516080269669 0.0 ) \">\n          <line stroke-width=\"1.0\" stroke=\"rgb(71,71,71)\" stroke-opacity=\"1.0\" x2=\"0.0\" y2=\"4.0\">\n          </line>\n          <g transform=\"translate(0.0 7.0 ) rotate(-30.0 ) \">\n            <text class=\"axis-text-x\" text-anchor=\"end\" dy=\"0.7em\">\n            London\n            </text>\n          </g>\n        </g>\n        <g transform=\"translate(91.19463896069159 0.0 ) \">\n          <line stroke-width=\"1.0\" stroke=\"rgb(71,71,71)\" stroke-opacity=\"1.0\" x2=\"0.0\" y2=\"4.0\">\n          </line>\n          <g transform=\"translate(0.0 7.0 ) rotate(-30.0 ) \">\n            <text class=\"axis-text-x\" text-anchor=\"end\" dy=\"0.7em\">\n            Paris\n            </text>\n          </g>\n        </g>\n        <g transform=\"translate(146.4641171186865 0.0 ) \">\n          <line stroke-width=\"1.0\" stroke=\"rgb(71,71,71)\" stroke-opacity=\"1.0\" x2=\"0.0\" y2=\"4.0\">\n          </line>\n          <g transform=\"translate(0.0 7.0 ) rotate(-30.0 ) \">\n            <text class=\"axis-text-x\" text-anchor=\"end\" dy=\"0.7em\">\n            Berlin\n            </text>\n          </g>\n        </g>\n        <g transform=\"translate(201.7335952766814 0.0 ) \">\n          <line stroke-width=\"1.0\" stroke=\"rgb(71,71,71)\" stroke-opacity=\"1.0\" x2=\"0.0\" y2=\"4.0\">\n          </line>\n          <g transform=\"translate(0.0 7.0 ) rotate(-30.0 ) \">\n            <text class=\"axis-text-x\" text-anchor=\"end\" dy=\"0.7em\">\n            Madrid\n            </text>\n          </g>\n        </g>\n        <g transform=\"translate(257.0030734346763 0.0 ) \">\n          <line stroke-width=\"1.0\" stroke=\"rgb(71,71,71)\" stroke-opacity=\"1.0\" x2=\"0.0\" y2=\"4.0\">\n          </line>\n          <g transform=\"translate(0.0 7.0 ) rotate(-30.0 ) \">\n            <text class=\"axis-text-x\" text-anchor=\"end\" dy=\"0.7em\">\n            Rome\n            </text>\n          </g>\n        </g>\n        <g transform=\"translate(312.27255159267116 0.0 ) \">\n          <line stroke-width=\"1.0\" stroke=\"rgb(71,71,71)\" stroke-opacity=\"1.0\" x2=\"0.0\" y2=\"4.0\">\n          </line>\n          <g transform=\"translate(0.0 7.0 ) rotate(-30.0 ) \">\n            <text class=\"axis-text-x\" text-anchor=\"end\" dy=\"0.7em\">\n            Amsterdam\n            </text>\n          </g>\n        </g>\n        <g transform=\"translate(367.5420297506661 0.0 ) \">\n          <line stroke-width=\"1.0\" stroke=\"rgb(71,71,71)\" stroke-opacity=\"1.0\" x2=\"0.0\" y2=\"4.0\">\n          </line>\n          <g transform=\"translate(0.0 7.0 ) rotate(-30.0 ) \">\n            <text class=\"axis-text-x\" text-anchor=\"end\" dy=\"0.7em\">\n            Prague\n            </text>\n          </g>\n        </g>\n        <line x1=\"0.0\" y1=\"0.0\" x2=\"403.46719055336285\" y2=\"0.0\" stroke-width=\"1.0\" stroke=\"rgb(71,71,71)\" stroke-opacity=\"1.0\">\n        </line>\n      </g>\n      <g transform=\"translate(42.99591213121782 0.0 ) \">\n        <line x1=\"0.0\" y1=\"239.2720401743403\" x2=\"403.46719055336285\" y2=\"239.2720401743403\" stroke=\"rgb(233,233,233)\" stroke-opacity=\"1.0\" stroke-width=\"1.0\">\n        </line>\n        <line x1=\"0.0\" y1=\"194.12637221691762\" x2=\"403.46719055336285\" y2=\"194.12637221691762\" stroke=\"rgb(233,233,233)\" stroke-opacity=\"1.0\" stroke-width=\"1.0\">\n        </line>\n        <line x1=\"0.0\" y1=\"148.9807042594949\" x2=\"403.46719055336285\" y2=\"148.9807042594949\" stroke=\"rgb(233,233,233)\" stroke-opacity=\"1.0\" stroke-width=\"1.0\">\n        </line>\n        <line x1=\"0.0\" y1=\"103.83503630207221\" x2=\"403.46719055336285\" y2=\"103.83503630207221\" stroke=\"rgb(233,233,233)\" stroke-opacity=\"1.0\" stroke-width=\"1.0\">\n        </line>\n        <line x1=\"0.0\" y1=\"58.689368344649495\" x2=\"403.46719055336285\" y2=\"58.689368344649495\" stroke=\"rgb(233,233,233)\" stroke-opacity=\"1.0\" stroke-width=\"1.0\">\n        </line>\n        <line x1=\"0.0\" y1=\"13.543700387226806\" x2=\"403.46719055336285\" y2=\"13.543700387226806\" stroke=\"rgb(233,233,233)\" stroke-opacity=\"1.0\" stroke-width=\"1.0\">\n        </line>\n        <g transform=\"translate(0.0 284.417708131763 ) \">\n          <g transform=\"translate(-3.0 0.0 ) \">\n            <text class=\"axis-text-y\" text-anchor=\"end\" dy=\"0.35em\">\n            0\n            </text>\n          </g>\n        </g>\n        <g transform=\"translate(0.0 239.2720401743403 ) \">\n          <g transform=\"translate(-3.0 0.0 ) \">\n            <text class=\"axis-text-y\" text-anchor=\"end\" dy=\"0.35em\">\n            500\n            </text>\n          </g>\n        </g>\n        <g transform=\"translate(0.0 194.12637221691762 ) \">\n          <g transform=\"translate(-3.0 0.0 ) \">\n            <text class=\"axis-text-y\" text-anchor=\"end\" dy=\"0.35em\">\n            1,000\n            </text>\n          </g>\n        </g>\n        <g transform=\"translate(0.0 148.9807042594949 ) \">\n          <g transform=\"translate(-3.0 0.0 ) \">\n            <text class=\"axis-text-y\" text-anchor=\"end\" dy=\"0.35em\">\n            1,500\n            </text>\n          </g>\n        </g>\n        <g transform=\"translate(0.0 103.83503630207221 ) \">\n          <g transform=\"translate(-3.0 0.0 ) \">\n            <text class=\"axis-text-y\" text-anchor=\"end\" dy=\"0.35em\">\n            2,000\n            </text>\n          </g>\n        </g>\n        <g transform=\"translate(0.0 58.689368344649495 ) \">\n          <g transform=\"translate(-3.0 0.0 ) \">\n            <text class=\"axis-text-y\" text-anchor=\"end\" dy=\"0.35em\">\n            2,500\n            </text>\n          </g>\n        </g>\n        <g transform=\"translate(0.0 13.543700387226806 ) \">\n          <g transform=\"translate(-3.0 0.0 ) \">\n            <text class=\"axis-text-y\" text-anchor=\"end\" dy=\"0.35em\">\n            3,000\n            </text>\n          </g>\n        </g>\n      </g>\n      <g transform=\"translate(42.99591213121782 0.0 ) \" clip-path=\"url(#cJYlHKb)\" clip-bounds-jfx=\"[rect (0.0, 0.0), (403.46719055336285, 284.417708131763)]\">\n        <defs>\n          <clipPath id=\"cJYlHKb\">\n            <rect x=\"0.0\" y=\"0.0\" width=\"403.46719055336285\" height=\"284.417708131763\">\n            </rect>\n          </clipPath>\n        </defs>\n        <rect x=\"342.67076457956836\" y=\"103.83503630207221\" height=\"180.58267182969078\" width=\"49.74253034219544\" stroke=\"rgb(255,255,255)\" stroke-opacity=\"1.0\" fill=\"rgb(103,187,71)\" fill-opacity=\"0.8\" stroke-width=\"1.6500000000000001\">\n        </rect>\n        <rect x=\"287.4012864215735\" y=\"167.03897144246397\" height=\"117.37873668929902\" width=\"49.74253034219538\" stroke=\"rgb(255,255,255)\" stroke-opacity=\"1.0\" fill=\"rgb(59,163,115)\" fill-opacity=\"0.8\" stroke-width=\"1.6500000000000001\">\n        </rect>\n        <rect x=\"232.1318082635786\" y=\"94.80590271058767\" height=\"189.61180542117532\" width=\"49.74253034219544\" stroke=\"rgb(255,255,255)\" stroke-opacity=\"1.0\" fill=\"rgb(131,193,75)\" fill-opacity=\"0.8\" stroke-width=\"1.6500000000000001\">\n        </rect>\n        <rect x=\"176.86233010558368\" y=\"58.689368344649495\" height=\"225.7283397871135\" width=\"49.74253034219541\" stroke=\"rgb(255,255,255)\" stroke-opacity=\"1.0\" fill=\"rgb(206,208,83)\" fill-opacity=\"0.8\" stroke-width=\"1.6500000000000001\">\n        </rect>\n        <rect x=\"121.5928519475888\" y=\"121.89330348504129\" height=\"162.5244046467217\" width=\"49.74253034219541\" stroke=\"rgb(255,255,255)\" stroke-opacity=\"1.0\" fill=\"rgb(67,178,70)\" fill-opacity=\"0.8\" stroke-width=\"1.6500000000000001\">\n        </rect>\n        <rect x=\"66.32337378959389\" y=\"31.60196757019588\" height=\"252.8157405615671\" width=\"49.74253034219541\" stroke=\"rgb(255,255,255)\" stroke-opacity=\"1.0\" fill=\"rgb(222,158,93)\" fill-opacity=\"0.8\" stroke-width=\"1.6500000000000001\">\n        </rect>\n        <rect x=\"11.05389563159898\" y=\"13.543700387226806\" height=\"270.8740077445362\" width=\"49.74253034219542\" stroke=\"rgb(255,255,255)\" stroke-opacity=\"1.0\" fill=\"rgb(237,102,102)\" fill-opacity=\"0.8\" stroke-width=\"1.6500000000000001\">\n        </rect>\n      </g>\n    </g>\n    <g transform=\"translate(65.99591213121782 15.2 ) \">\n      <text class=\"plot-title\" y=\"0.0\">\n      Air Pollution and Vehicle Count Analysis\n      </text>\n    </g>\n    <g transform=\"translate(14.5 176.2088540658815 ) rotate(-90.0 ) \">\n      <text class=\"axis-title-y\" y=\"0.0\" text-anchor=\"middle\">\n      Number of cars (thousands)\n      </text>\n    </g>\n    <g transform=\"translate(267.72950740789923 391.5 ) \">\n      <text class=\"axis-title-x\" y=\"0.0\" text-anchor=\"middle\">\n      City\n      </text>\n    </g>\n    <g transform=\"translate(479.4631026845807 89.9588540658815 ) \">\n      <rect x=\"5.0\" y=\"5.0\" height=\"162.5\" width=\"110.53689731541931\" stroke=\"rgb(71,71,71)\" stroke-opacity=\"1.0\" stroke-width=\"0.0\" fill=\"rgb(255,255,255)\" fill-opacity=\"1.0\">\n      </rect>\n      <g transform=\"translate(10.0 10.0 ) \">\n        <g transform=\"translate(0.0 10.5 ) \">\n          <text class=\"legend-title\" y=\"0.0\">\n          Air Pollution\n          </text>\n          <text class=\"legend-title\" y=\"15.0\">\n          Level (AQI)\n          </text>\n        </g>\n        <g transform=\"translate(0.0 37.5 ) \">\n          <g>\n            <rect x=\"0.0\" y=\"0.0\" height=\"115.0\" width=\"23.0\" stroke-width=\"0.0\" fill=\"rgb(235,109,101)\" fill-opacity=\"1.0\">\n            </rect>\n            <rect x=\"0.0\" y=\"7.55\" height=\"107.45\" width=\"23.0\" stroke-width=\"0.0\" fill=\"rgb(232,124,98)\" fill-opacity=\"1.0\">\n            </rect>\n            <rect x=\"0.0\" y=\"13.1\" height=\"101.9\" width=\"23.0\" stroke-width=\"0.0\" fill=\"rgb(228,138,96)\" fill-opacity=\"1.0\">\n            </rect>\n            <rect x=\"0.0\" y=\"18.65\" height=\"96.35\" width=\"23.0\" stroke-width=\"0.0\" fill=\"rgb(224,152,94)\" fill-opacity=\"1.0\">\n            </rect>\n            <rect x=\"0.0\" y=\"24.2\" height=\"90.8\" width=\"23.0\" stroke-width=\"0.0\" fill=\"rgb(221,165,91)\" fill-opacity=\"1.0\">\n            </rect>\n            <rect x=\"0.0\" y=\"29.75\" height=\"85.25\" width=\"23.0\" stroke-width=\"0.0\" fill=\"rgb(217,178,89)\" fill-opacity=\"1.0\">\n            </rect>\n            <rect x=\"0.0\" y=\"35.3\" height=\"79.7\" width=\"23.0\" stroke-width=\"0.0\" fill=\"rgb(213,191,87)\" fill-opacity=\"1.0\">\n            </rect>\n            <rect x=\"0.0\" y=\"40.849999999999994\" height=\"74.15\" width=\"23.0\" stroke-width=\"0.0\" fill=\"rgb(209,203,85)\" fill-opacity=\"1.0\">\n            </rect>\n            <rect x=\"0.0\" y=\"46.39999999999999\" height=\"68.60000000000001\" width=\"23.0\" stroke-width=\"0.0\" fill=\"rgb(196,206,82)\" fill-opacity=\"1.0\">\n            </rect>\n            <rect x=\"0.0\" y=\"51.94999999999999\" height=\"63.05000000000001\" width=\"23.0\" stroke-width=\"0.0\" fill=\"rgb(177,202,80)\" fill-opacity=\"1.0\">\n            </rect>\n            <rect x=\"0.0\" y=\"57.499999999999986\" height=\"57.500000000000014\" width=\"23.0\" stroke-width=\"0.0\" fill=\"rgb(159,198,78)\" fill-opacity=\"1.0\">\n            </rect>\n            <rect x=\"0.0\" y=\"63.04999999999998\" height=\"51.95000000000002\" width=\"23.0\" stroke-width=\"0.0\" fill=\"rgb(140,195,76)\" fill-opacity=\"1.0\">\n            </rect>\n            <rect x=\"0.0\" y=\"68.59999999999998\" height=\"46.40000000000002\" width=\"23.0\" stroke-width=\"0.0\" fill=\"rgb(123,191,74)\" fill-opacity=\"1.0\">\n            </rect>\n            <rect x=\"0.0\" y=\"74.14999999999998\" height=\"40.85000000000002\" width=\"23.0\" stroke-width=\"0.0\" fill=\"rgb(105,187,72)\" fill-opacity=\"1.0\">\n            </rect>\n            <rect x=\"0.0\" y=\"79.69999999999997\" height=\"35.300000000000026\" width=\"23.0\" stroke-width=\"0.0\" fill=\"rgb(88,184,70)\" fill-opacity=\"1.0\">\n            </rect>\n            <rect x=\"0.0\" y=\"85.24999999999997\" height=\"29.75000000000003\" width=\"23.0\" stroke-width=\"0.0\" fill=\"rgb(72,180,68)\" fill-opacity=\"1.0\">\n            </rect>\n            <rect x=\"0.0\" y=\"90.79999999999997\" height=\"24.20000000000003\" width=\"23.0\" stroke-width=\"0.0\" fill=\"rgb(66,176,76)\" fill-opacity=\"1.0\">\n            </rect>\n            <rect x=\"0.0\" y=\"96.34999999999997\" height=\"18.650000000000034\" width=\"23.0\" stroke-width=\"0.0\" fill=\"rgb(64,172,87)\" fill-opacity=\"1.0\">\n            </rect>\n            <rect x=\"0.0\" y=\"101.89999999999996\" height=\"13.100000000000037\" width=\"23.0\" stroke-width=\"0.0\" fill=\"rgb(62,169,98)\" fill-opacity=\"1.0\">\n            </rect>\n            <rect x=\"0.0\" y=\"107.44999999999996\" height=\"7.55000000000004\" width=\"23.0\" stroke-width=\"0.0\" fill=\"rgb(60,165,109)\" fill-opacity=\"1.0\">\n            </rect>\n            <line x1=\"0.0\" y1=\"113.0\" x2=\"4.6\" y2=\"113.0\" stroke-width=\"1.0\" stroke=\"rgb(255,255,255)\" stroke-opacity=\"1.0\">\n            </line>\n            <line x1=\"18.4\" y1=\"113.0\" x2=\"23.0\" y2=\"113.0\" stroke-width=\"1.0\" stroke=\"rgb(255,255,255)\" stroke-opacity=\"1.0\">\n            </line>\n            <g transform=\"translate(26.9903027277341 117.55 ) \">\n              <text class=\"legend-item\" y=\"0.0\">\n              45\n              </text>\n            </g>\n            <line x1=\"0.0\" y1=\"90.79999999999998\" x2=\"4.6\" y2=\"90.79999999999998\" stroke-width=\"1.0\" stroke=\"rgb(255,255,255)\" stroke-opacity=\"1.0\">\n            </line>\n            <line x1=\"18.4\" y1=\"90.79999999999998\" x2=\"23.0\" y2=\"90.79999999999998\" stroke-width=\"1.0\" stroke=\"rgb(255,255,255)\" stroke-opacity=\"1.0\">\n            </line>\n            <g transform=\"translate(26.9903027277341 95.34999999999998 ) \">\n              <text class=\"legend-item\" y=\"0.0\">\n              50\n              </text>\n            </g>\n            <line x1=\"0.0\" y1=\"68.6\" x2=\"4.6\" y2=\"68.6\" stroke-width=\"1.0\" stroke=\"rgb(255,255,255)\" stroke-opacity=\"1.0\">\n            </line>\n            <line x1=\"18.4\" y1=\"68.6\" x2=\"23.0\" y2=\"68.6\" stroke-width=\"1.0\" stroke=\"rgb(255,255,255)\" stroke-opacity=\"1.0\">\n            </line>\n            <g transform=\"translate(26.9903027277341 73.14999999999999 ) \">\n              <text class=\"legend-item\" y=\"0.0\">\n              55\n              </text>\n            </g>\n            <line x1=\"0.0\" y1=\"46.39999999999998\" x2=\"4.6\" y2=\"46.39999999999998\" stroke-width=\"1.0\" stroke=\"rgb(255,255,255)\" stroke-opacity=\"1.0\">\n            </line>\n            <line x1=\"18.4\" y1=\"46.39999999999998\" x2=\"23.0\" y2=\"46.39999999999998\" stroke-width=\"1.0\" stroke=\"rgb(255,255,255)\" stroke-opacity=\"1.0\">\n            </line>\n            <g transform=\"translate(26.9903027277341 50.949999999999974 ) \">\n              <text class=\"legend-item\" y=\"0.0\">\n              60\n              </text>\n            </g>\n            <line x1=\"0.0\" y1=\"24.19999999999999\" x2=\"4.6\" y2=\"24.19999999999999\" stroke-width=\"1.0\" stroke=\"rgb(255,255,255)\" stroke-opacity=\"1.0\">\n            </line>\n            <line x1=\"18.4\" y1=\"24.19999999999999\" x2=\"23.0\" y2=\"24.19999999999999\" stroke-width=\"1.0\" stroke=\"rgb(255,255,255)\" stroke-opacity=\"1.0\">\n            </line>\n            <g transform=\"translate(26.9903027277341 28.749999999999986 ) \">\n              <text class=\"legend-item\" y=\"0.0\">\n              65\n              </text>\n            </g>\n            <line x1=\"0.0\" y1=\"2.0\" x2=\"4.6\" y2=\"2.0\" stroke-width=\"1.0\" stroke=\"rgb(255,255,255)\" stroke-opacity=\"1.0\">\n            </line>\n            <line x1=\"18.4\" y1=\"2.0\" x2=\"23.0\" y2=\"2.0\" stroke-width=\"1.0\" stroke=\"rgb(255,255,255)\" stroke-opacity=\"1.0\">\n            </line>\n            <g transform=\"translate(26.9903027277341 6.549999999999999 ) \">\n              <text class=\"legend-item\" y=\"0.0\">\n              70\n              </text>\n            </g>\n          </g>\n        </g>\n      </g>\n    </g>\n    <path fill=\"rgb(0,0,0)\" fill-opacity=\"0.0\" stroke=\"rgb(71,71,71)\" stroke-opacity=\"1.0\" stroke-width=\"0.0\" d=\"M0.0 0.0 L0.0 400.0 L600.0 400.0 L600.0 0.0 Z\">\n    </path>\n  </g>\n  <g id=\"dKndXIt\">\n  </g>\n</svg>\n        <script>document.getElementById(\"1363c263-2193-41d6-8169-0b82d96cbb66\").style.display = \"none\";</script>",
      "application/plot+json": {
       "output_type": "lets_plot_spec",
       "output": {
        "ggtitle": {
         "text": "Air Pollution and Vehicle Count Analysis"
        },
        "mapping": {},
        "data": {
         "cities": [
          "London",
          "Paris",
          "Berlin",
          "Madrid",
          "Rome",
          "Amsterdam",
          "Prague"
         ],
         "numberOfCars": [
          3000.0,
          2800.0,
          1800.0,
          2500.0,
          2100.0,
          1300.0,
          2000.0
         ],
         "airPollution": [
          70.0,
          65.0,
          50.0,
          60.0,
          55.0,
          45.0,
          53.0
         ]
        },
        "kind": "plot",
        "scales": [
         {
          "aesthetic": "x",
          "discrete": true,
          "name": "City"
         },
         {
          "aesthetic": "y",
          "name": "Number of cars (thousands)",
          "limits": [
           null,
           null
          ]
         },
         {
          "aesthetic": "fill",
          "scale_mapper_kind": "color_gradient",
          "high": "#ee6666",
          "low": "#3ba272",
          "name": "Air Pollution\n Level (AQI)",
          "limits": [
           null,
           null
          ]
         }
        ],
        "layers": [
         {
          "mapping": {
           "x": "cities",
           "y": "numberOfCars",
           "fill": "airPollution"
          },
          "stat": "identity",
          "sampling": "none",
          "alpha": 0.8,
          "position": "dodge",
          "geom": "bar"
         }
        ]
       },
       "apply_color_scheme": true,
       "swing_enabled": true
      }
     },
     "execution_count": 3,
     "metadata": {},
     "output_type": "execute_result"
    }
   ],
   "source": [
    "data.plot {\n",
    "    layout.title = \"Air Pollution and Vehicle Count Analysis\"\n",
    "    bars {\n",
    "        x(cities) { axis.name = \"City\" }\n",
    "        y(numberOfCars) { axis.name = \"Number of cars (thousands)\" }\n",
    "        fillColor(airPollution) {\n",
    "            legend.name = \"Air Pollution\\n Level (AQI)\"\n",
    "            scale = continuous(Color.GREEN..Color.RED)\n",
    "        }\n",
    "        alpha = 0.8\n",
    "    }\n",
    "}"
   ],
   "metadata": {
    "collapsed": false,
    "ExecuteTime": {
     "end_time": "2023-11-20T23:00:37.035129Z",
     "start_time": "2023-11-20T23:00:36.362103Z"
    }
   }
  }
 ],
 "metadata": {
  "kernelspec": {
   "display_name": "Kotlin",
   "language": "kotlin",
   "name": "kotlin"
  },
  "language_info": {
   "name": "kotlin",
   "version": "1.9.0",
   "mimetype": "text/x-kotlin",
   "file_extension": ".kt",
   "pygments_lexer": "kotlin",
   "codemirror_mode": "text/x-kotlin",
   "nbconvert_exporter": ""
  }
 },
 "nbformat": 4,
 "nbformat_minor": 0
}
