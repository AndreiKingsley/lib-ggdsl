{
 "cells": [
  {
   "cell_type": "code",
   "execution_count": 1,
   "metadata": {
    "collapsed": true,
    "ExecuteTime": {
     "end_time": "2023-11-20T23:01:25.407428Z",
     "start_time": "2023-11-20T23:01:24.165747Z"
    }
   },
   "outputs": [],
   "source": [
    "%useLatestDescriptors\n",
    "%use kandy"
   ]
  },
  {
   "cell_type": "code",
   "execution_count": 2,
   "outputs": [],
   "source": [
    "val data = dataFrameOf(\n",
    "    \"candy\" to listOf(\n",
    "        \"Honey Stars\", \"Fairy Tale Caramels\", \" ChocoDream\", \"Fruity Clouds\",\n",
    "        \"Minty Spheres\", \"Sour Strips\", \"Vanilla Bars\"\n",
    "    ),\n",
    "    \"sugar\" to listOf(65, 58, 53, 35, 40, 45, 50)\n",
    ")"
   ],
   "metadata": {
    "collapsed": false,
    "ExecuteTime": {
     "end_time": "2023-11-20T23:02:16.508739Z",
     "start_time": "2023-11-20T23:02:16.104454Z"
    }
   }
  },
  {
   "cell_type": "code",
   "execution_count": 4,
   "outputs": [
    {
     "data": {
      "text/html": "            <iframe src='about:blank' style='border:none !important;' width='600' height='400' srcdoc=\"&lt;html lang=&quot;en&quot;>\n   &lt;head>\n       &lt;style> html, body { margin: 0; overflow: hidden; } &lt;/style>\n       &lt;script type=&quot;text/javascript&quot; data-lets-plot-script=&quot;library&quot; src=&quot;https://cdn.jsdelivr.net/gh/JetBrains/lets-plot@v4.0.1/js-package/distr/lets-plot.min.js&quot;>&lt;/script>\n   &lt;/head>\n   &lt;body>\n          &lt;div id=&quot;LWpqBJ&quot;>&lt;/div>\n   &lt;script type=&quot;text/javascript&quot; data-lets-plot-script=&quot;plot&quot;>\n       var plotSpec={\n&quot;ggtitle&quot;:{\n&quot;text&quot;:&quot;Sugar content&quot;\n},\n&quot;mapping&quot;:{\n},\n&quot;data&quot;:{\n&quot;candy&quot;:[&quot;Honey Stars&quot;,&quot;Fairy Tale Caramels&quot;,&quot; ChocoDream&quot;,&quot;Fruity Clouds&quot;,&quot;Minty Spheres&quot;,&quot;Sour Strips&quot;,&quot;Vanilla Bars&quot;],\n&quot;sugar&quot;:[65.0,58.0,53.0,35.0,40.0,45.0,50.0]\n},\n&quot;kind&quot;:&quot;plot&quot;,\n&quot;scales&quot;:[{\n&quot;aesthetic&quot;:&quot;x&quot;,\n&quot;discrete&quot;:true\n},{\n&quot;aesthetic&quot;:&quot;y&quot;,\n&quot;limits&quot;:[0.0,100.0]\n},{\n&quot;aesthetic&quot;:&quot;x&quot;,\n&quot;name&quot;:&quot;Candy Name&quot;\n},{\n&quot;aesthetic&quot;:&quot;y&quot;,\n&quot;name&quot;:&quot;Sugar Content (g per 100g)&quot;\n}],\n&quot;layers&quot;:[{\n&quot;mapping&quot;:{\n&quot;x&quot;:&quot;candy&quot;,\n&quot;y&quot;:&quot;sugar&quot;\n},\n&quot;stat&quot;:&quot;identity&quot;,\n&quot;color&quot;:&quot;#a39999&quot;,\n&quot;size&quot;:1.3,\n&quot;sampling&quot;:&quot;none&quot;,\n&quot;alpha&quot;:0.85,\n&quot;position&quot;:&quot;dodge&quot;,\n&quot;geom&quot;:&quot;bar&quot;,\n&quot;fill&quot;:&quot;#fc8452&quot;,\n&quot;data&quot;:{\n}\n}]\n};\n       var plotContainer = document.getElementById(&quot;LWpqBJ&quot;);\n       LetsPlot.buildPlotFromProcessedSpecs(plotSpec, -1, -1, plotContainer);\n   &lt;/script>\n   &lt;/body>\n&lt;/html>\"></iframe>            \n        <svg id=aa921671-8208-4fe2-93d4-a85078ce5774 xmlns=\"http://www.w3.org/2000/svg\" xmlns:xlink=\"http://www.w3.org/1999/xlink\" class=\"plt-container\" width=\"600.0\" height=\"400.0\">\n  <style type=\"text/css\">\n  .plt-container {\n   font-family: Lucida Grande, sans-serif;\n   user-select: none;\n   -webkit-user-select: none;\n   -moz-user-select: none;\n   -ms-user-select: none;\n}\ntext {\n   text-rendering: optimizeLegibility;\n}\n#pOtEple .plot-title {\n   fill: #474747;\n   font-family: Lucida Grande, sans-serif;\n   font-size: 16.0px;\n   font-weight: normal;\n   font-style: normal;   \n}\n#pOtEple .plot-subtitle {\n   fill: #474747;\n   font-family: Lucida Grande, sans-serif;\n   font-size: 15.0px;\n   font-weight: normal;\n   font-style: normal;   \n}\n#pOtEple .plot-caption {\n   fill: #474747;\n   font-family: Lucida Grande, sans-serif;\n   font-size: 13.0px;\n   font-weight: normal;\n   font-style: normal;   \n}\n#pOtEple .legend-title {\n   fill: #474747;\n   font-family: Lucida Grande, sans-serif;\n   font-size: 15.0px;\n   font-weight: normal;\n   font-style: normal;   \n}\n#pOtEple .legend-item {\n   fill: #474747;\n   font-family: Lucida Grande, sans-serif;\n   font-size: 13.0px;\n   font-weight: normal;\n   font-style: normal;   \n}\n#pOtEple .axis-title-x {\n   fill: #474747;\n   font-family: Lucida Grande, sans-serif;\n   font-size: 15.0px;\n   font-weight: normal;\n   font-style: normal;   \n}\n#pOtEple .axis-text-x {\n   fill: #474747;\n   font-family: Lucida Grande, sans-serif;\n   font-size: 13.0px;\n   font-weight: normal;\n   font-style: normal;   \n}\n#dvmjPgN .axis-tooltip-text-x {\n   fill: #ffffff;\n   font-family: Lucida Grande, sans-serif;\n   font-size: 13.0px;\n   font-weight: normal;\n   font-style: normal;   \n}\n#pOtEple .axis-title-y {\n   fill: #474747;\n   font-family: Lucida Grande, sans-serif;\n   font-size: 15.0px;\n   font-weight: normal;\n   font-style: normal;   \n}\n#pOtEple .axis-text-y {\n   fill: #474747;\n   font-family: Lucida Grande, sans-serif;\n   font-size: 13.0px;\n   font-weight: normal;\n   font-style: normal;   \n}\n#dvmjPgN .axis-tooltip-text-y {\n   fill: #ffffff;\n   font-family: Lucida Grande, sans-serif;\n   font-size: 13.0px;\n   font-weight: normal;\n   font-style: normal;   \n}\n#pOtEple .facet-strip-text-x {\n   fill: #474747;\n   font-family: Lucida Grande, sans-serif;\n   font-size: 13.0px;\n   font-weight: normal;\n   font-style: normal;   \n}\n#pOtEple .facet-strip-text-y {\n   fill: #474747;\n   font-family: Lucida Grande, sans-serif;\n   font-size: 13.0px;\n   font-weight: normal;\n   font-style: normal;   \n}\n#dvmjPgN .tooltip-text {\n   fill: #474747;\n   font-family: Lucida Grande, sans-serif;\n   font-size: 13.0px;\n   font-weight: normal;\n   font-style: normal;   \n}\n#dvmjPgN .tooltip-title {\n   fill: #474747;\n   font-family: Lucida Grande, sans-serif;\n   font-size: 13.0px;\n   font-weight: bold;\n   font-style: normal;   \n}\n#dvmjPgN .tooltip-label {\n   fill: #474747;\n   font-family: Lucida Grande, sans-serif;\n   font-size: 13.0px;\n   font-weight: bold;\n   font-style: normal;   \n}\n\n  </style>\n  <g id=\"pOtEple\">\n    <path fill-rule=\"evenodd\" fill=\"rgb(255,255,255)\" fill-opacity=\"1.0\" d=\"M0.0 0.0 L0.0 400.0 L600.0 400.0 L600.0 0.0 Z\">\n    </path>\n    <g transform=\"translate(23.0 34.0 ) \">\n      <g transform=\"translate(29.941816366404606 194.5995155720566 ) \">\n        <line x1=\"47.820249227648894\" y1=\"-0.0\" x2=\"47.820249227648894\" y2=\"-194.5995155720566\" stroke=\"rgb(233,233,233)\" stroke-opacity=\"1.0\" stroke-width=\"1.0\">\n        </line>\n        <line x1=\"121.3898634240318\" y1=\"-0.0\" x2=\"121.3898634240318\" y2=\"-194.5995155720566\" stroke=\"rgb(233,233,233)\" stroke-opacity=\"1.0\" stroke-width=\"1.0\">\n        </line>\n        <line x1=\"194.95947762041473\" y1=\"-0.0\" x2=\"194.95947762041473\" y2=\"-194.5995155720566\" stroke=\"rgb(233,233,233)\" stroke-opacity=\"1.0\" stroke-width=\"1.0\">\n        </line>\n        <line x1=\"268.52909181679763\" y1=\"-0.0\" x2=\"268.52909181679763\" y2=\"-194.5995155720566\" stroke=\"rgb(233,233,233)\" stroke-opacity=\"1.0\" stroke-width=\"1.0\">\n        </line>\n        <line x1=\"342.09870601318056\" y1=\"-0.0\" x2=\"342.09870601318056\" y2=\"-194.5995155720566\" stroke=\"rgb(233,233,233)\" stroke-opacity=\"1.0\" stroke-width=\"1.0\">\n        </line>\n        <line x1=\"415.6683202095635\" y1=\"-0.0\" x2=\"415.6683202095635\" y2=\"-194.5995155720566\" stroke=\"rgb(233,233,233)\" stroke-opacity=\"1.0\" stroke-width=\"1.0\">\n        </line>\n        <line x1=\"489.23793440594636\" y1=\"-0.0\" x2=\"489.23793440594636\" y2=\"-194.5995155720566\" stroke=\"rgb(233,233,233)\" stroke-opacity=\"1.0\" stroke-width=\"1.0\">\n        </line>\n        <g transform=\"translate(47.820249227648894 0.0 ) \">\n          <line stroke-width=\"1.0\" stroke=\"rgb(71,71,71)\" stroke-opacity=\"1.0\" x2=\"0.0\" y2=\"4.0\">\n          </line>\n          <g transform=\"translate(0.0 7.0 ) rotate(90.0 ) \">\n            <text class=\"axis-text-x\" dy=\"0.35em\">\n            Honey Stars\n            </text>\n          </g>\n        </g>\n        <g transform=\"translate(121.3898634240318 0.0 ) \">\n          <line stroke-width=\"1.0\" stroke=\"rgb(71,71,71)\" stroke-opacity=\"1.0\" x2=\"0.0\" y2=\"4.0\">\n          </line>\n          <g transform=\"translate(0.0 7.0 ) rotate(90.0 ) \">\n            <text class=\"axis-text-x\" dy=\"0.35em\">\n            Fairy Tale Caramels\n            </text>\n          </g>\n        </g>\n        <g transform=\"translate(194.95947762041473 0.0 ) \">\n          <line stroke-width=\"1.0\" stroke=\"rgb(71,71,71)\" stroke-opacity=\"1.0\" x2=\"0.0\" y2=\"4.0\">\n          </line>\n          <g transform=\"translate(0.0 7.0 ) rotate(90.0 ) \">\n            <text class=\"axis-text-x\" dy=\"0.35em\">\n             ChocoDream\n            </text>\n          </g>\n        </g>\n        <g transform=\"translate(268.52909181679763 0.0 ) \">\n          <line stroke-width=\"1.0\" stroke=\"rgb(71,71,71)\" stroke-opacity=\"1.0\" x2=\"0.0\" y2=\"4.0\">\n          </line>\n          <g transform=\"translate(0.0 7.0 ) rotate(90.0 ) \">\n            <text class=\"axis-text-x\" dy=\"0.35em\">\n            Fruity Clouds\n            </text>\n          </g>\n        </g>\n        <g transform=\"translate(342.09870601318056 0.0 ) \">\n          <line stroke-width=\"1.0\" stroke=\"rgb(71,71,71)\" stroke-opacity=\"1.0\" x2=\"0.0\" y2=\"4.0\">\n          </line>\n          <g transform=\"translate(0.0 7.0 ) rotate(90.0 ) \">\n            <text class=\"axis-text-x\" dy=\"0.35em\">\n            Minty Spheres\n            </text>\n          </g>\n        </g>\n        <g transform=\"translate(415.6683202095635 0.0 ) \">\n          <line stroke-width=\"1.0\" stroke=\"rgb(71,71,71)\" stroke-opacity=\"1.0\" x2=\"0.0\" y2=\"4.0\">\n          </line>\n          <g transform=\"translate(0.0 7.0 ) rotate(90.0 ) \">\n            <text class=\"axis-text-x\" dy=\"0.35em\">\n            Sour Strips\n            </text>\n          </g>\n        </g>\n        <g transform=\"translate(489.23793440594636 0.0 ) \">\n          <line stroke-width=\"1.0\" stroke=\"rgb(71,71,71)\" stroke-opacity=\"1.0\" x2=\"0.0\" y2=\"4.0\">\n          </line>\n          <g transform=\"translate(0.0 7.0 ) rotate(90.0 ) \">\n            <text class=\"axis-text-x\" dy=\"0.35em\">\n            Vanilla Bars\n            </text>\n          </g>\n        </g>\n        <line x1=\"0.0\" y1=\"0.0\" x2=\"537.0581836335954\" y2=\"0.0\" stroke-width=\"1.0\" stroke=\"rgb(71,71,71)\" stroke-opacity=\"1.0\">\n        </line>\n      </g>\n      <g transform=\"translate(29.941816366404606 0.0 ) \">\n        <line x1=\"0.0\" y1=\"101.93307958536298\" x2=\"537.0581836335954\" y2=\"101.93307958536298\" stroke=\"rgb(233,233,233)\" stroke-opacity=\"1.0\" stroke-width=\"1.0\">\n        </line>\n        <line x1=\"0.0\" y1=\"9.266643598669361\" x2=\"537.0581836335954\" y2=\"9.266643598669361\" stroke=\"rgb(233,233,233)\" stroke-opacity=\"1.0\" stroke-width=\"1.0\">\n        </line>\n        <g transform=\"translate(0.0 194.5995155720566 ) \">\n          <g transform=\"translate(-3.0 0.0 ) \">\n            <text class=\"axis-text-y\" text-anchor=\"end\" dy=\"0.35em\">\n            0\n            </text>\n          </g>\n        </g>\n        <g transform=\"translate(0.0 101.93307958536298 ) \">\n          <g transform=\"translate(-3.0 0.0 ) \">\n            <text class=\"axis-text-y\" text-anchor=\"end\" dy=\"0.35em\">\n            50\n            </text>\n          </g>\n        </g>\n        <g transform=\"translate(0.0 9.266643598669361 ) \">\n          <g transform=\"translate(-3.0 0.0 ) \">\n            <text class=\"axis-text-y\" text-anchor=\"end\" dy=\"0.35em\">\n            100\n            </text>\n          </g>\n        </g>\n      </g>\n      <g transform=\"translate(29.941816366404606 0.0 ) \" clip-path=\"url(#cgtJZdO)\" clip-bounds-jfx=\"[rect (0.0, 0.0), (537.0581836335954, 194.5995155720566)]\">\n        <defs>\n          <clipPath id=\"cgtJZdO\">\n            <rect x=\"0.0\" y=\"0.0\" width=\"537.0581836335954\" height=\"194.5995155720566\">\n            </rect>\n          </clipPath>\n        </defs>\n        <rect x=\"456.1316080175741\" y=\"101.93307958536298\" height=\"92.66643598669361\" width=\"66.21265277674456\" stroke=\"rgb(163,153,153)\" stroke-opacity=\"1.0\" fill=\"rgb(252,132,82)\" fill-opacity=\"0.85\" stroke-width=\"2.8600000000000003\">\n        </rect>\n        <rect x=\"382.56199382119115\" y=\"111.19972318403234\" height=\"83.39979238802425\" width=\"66.21265277674468\" stroke=\"rgb(163,153,153)\" stroke-opacity=\"1.0\" fill=\"rgb(252,132,82)\" fill-opacity=\"0.85\" stroke-width=\"2.8600000000000003\">\n        </rect>\n        <rect x=\"308.9923796248082\" y=\"120.4663667827017\" height=\"74.13314878935489\" width=\"66.21265277674468\" stroke=\"rgb(163,153,153)\" stroke-opacity=\"1.0\" fill=\"rgb(252,132,82)\" fill-opacity=\"0.85\" stroke-width=\"2.8600000000000003\">\n        </rect>\n        <rect x=\"235.42276542842532\" y=\"129.73301038137106\" height=\"64.86650519068553\" width=\"66.21265277674459\" stroke=\"rgb(163,153,153)\" stroke-opacity=\"1.0\" fill=\"rgb(252,132,82)\" fill-opacity=\"0.85\" stroke-width=\"2.8600000000000003\">\n        </rect>\n        <rect x=\"161.85315123204242\" y=\"96.37309342616135\" height=\"98.22642214589524\" width=\"66.21265277674465\" stroke=\"rgb(163,153,153)\" stroke-opacity=\"1.0\" fill=\"rgb(252,132,82)\" fill-opacity=\"0.85\" stroke-width=\"2.8600000000000003\">\n        </rect>\n        <rect x=\"88.28353703565949\" y=\"87.10644982749199\" height=\"107.4930657445646\" width=\"66.21265277674465\" stroke=\"rgb(163,153,153)\" stroke-opacity=\"1.0\" fill=\"rgb(252,132,82)\" fill-opacity=\"0.85\" stroke-width=\"2.8600000000000003\">\n        </rect>\n        <rect x=\"14.713922839276584\" y=\"74.13314878935489\" height=\"120.4663667827017\" width=\"66.21265277674462\" stroke=\"rgb(163,153,153)\" stroke-opacity=\"1.0\" fill=\"rgb(252,132,82)\" fill-opacity=\"0.85\" stroke-width=\"2.8600000000000003\">\n        </rect>\n      </g>\n    </g>\n    <g transform=\"translate(52.94181636640461 15.2 ) \">\n      <text class=\"plot-title\" y=\"0.0\">\n      Sugar content\n      </text>\n    </g>\n    <g transform=\"translate(14.5 131.2997577860283 ) rotate(-90.0 ) \">\n      <text class=\"axis-title-y\" y=\"0.0\" text-anchor=\"middle\">\n      Sugar Content (g per 100g)\n      </text>\n    </g>\n    <g transform=\"translate(321.4709081832023 391.5 ) \">\n      <text class=\"axis-title-x\" y=\"0.0\" text-anchor=\"middle\">\n      Candy Name\n      </text>\n    </g>\n    <path fill=\"rgb(0,0,0)\" fill-opacity=\"0.0\" stroke=\"rgb(71,71,71)\" stroke-opacity=\"1.0\" stroke-width=\"0.0\" d=\"M0.0 0.0 L0.0 400.0 L600.0 400.0 L600.0 0.0 Z\">\n    </path>\n  </g>\n  <g id=\"dvmjPgN\">\n  </g>\n</svg>\n        <script>document.getElementById(\"aa921671-8208-4fe2-93d4-a85078ce5774\").style.display = \"none\";</script>",
      "application/plot+json": {
       "output_type": "lets_plot_spec",
       "output": {
        "ggtitle": {
         "text": "Sugar content"
        },
        "mapping": {},
        "data": {
         "candy": [
          "Honey Stars",
          "Fairy Tale Caramels",
          " ChocoDream",
          "Fruity Clouds",
          "Minty Spheres",
          "Sour Strips",
          "Vanilla Bars"
         ],
         "sugar": [
          65.0,
          58.0,
          53.0,
          35.0,
          40.0,
          45.0,
          50.0
         ]
        },
        "kind": "plot",
        "scales": [
         {
          "aesthetic": "x",
          "discrete": true
         },
         {
          "aesthetic": "y",
          "limits": [
           0.0,
           100.0
          ]
         },
         {
          "aesthetic": "x",
          "name": "Candy Name"
         },
         {
          "aesthetic": "y",
          "name": "Sugar Content (g per 100g)"
         }
        ],
        "layers": [
         {
          "mapping": {
           "x": "candy",
           "y": "sugar"
          },
          "stat": "identity",
          "color": "#a39999",
          "size": 1.3,
          "sampling": "none",
          "alpha": 0.85,
          "position": "dodge",
          "geom": "bar",
          "fill": "#fc8452"
         }
        ]
       },
       "apply_color_scheme": true,
       "swing_enabled": true
      }
     },
     "execution_count": 4,
     "metadata": {},
     "output_type": "execute_result"
    }
   ],
   "source": [
    "data.plot {\n",
    "    layout {\n",
    "        title = \"Sugar content\"\n",
    "        xAxisLabel = \"Candy Name\"\n",
    "        yAxisLabel = \"Sugar Content (g per 100g)\"\n",
    "    }\n",
    "    bars {\n",
    "        x(candy)\n",
    "        y(sugar) { scale = continuous(0..100) }\n",
    "        fillColor = Color.ORANGE\n",
    "        alpha = 0.85\n",
    "        borderLine {\n",
    "            color = Color.GREY\n",
    "            width = 1.3\n",
    "        }\n",
    "    }\n",
    "}"
   ],
   "metadata": {
    "collapsed": false,
    "ExecuteTime": {
     "end_time": "2023-11-20T23:02:31.737548Z",
     "start_time": "2023-11-20T23:02:31.259575Z"
    }
   }
  }
 ],
 "metadata": {
  "kernelspec": {
   "display_name": "Kotlin",
   "language": "kotlin",
   "name": "kotlin"
  },
  "language_info": {
   "name": "kotlin",
   "version": "1.9.0",
   "mimetype": "text/x-kotlin",
   "file_extension": ".kt",
   "pygments_lexer": "kotlin",
   "codemirror_mode": "text/x-kotlin",
   "nbconvert_exporter": ""
  }
 },
 "nbformat": 4,
 "nbformat_minor": 0
}
