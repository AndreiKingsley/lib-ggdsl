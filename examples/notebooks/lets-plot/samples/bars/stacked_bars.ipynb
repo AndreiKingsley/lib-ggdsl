{
 "cells": [
  {
   "cell_type": "code",
   "execution_count": 1,
   "metadata": {
    "collapsed": true,
    "ExecuteTime": {
     "end_time": "2023-11-20T23:11:39.760919Z",
     "start_time": "2023-11-20T23:11:38.438874Z"
    }
   },
   "outputs": [],
   "source": [
    "%useLatestDescriptors\n",
    "%use kandy"
   ]
  },
  {
   "cell_type": "code",
   "execution_count": 2,
   "outputs": [],
   "source": [
    "val data = dataFrameOf(\n",
    "    \"day\" to listOf(\"Mon\", \"Tue\", \"Wed\", \"Thu\", \"Fri\", \"Sat\", \"Sun\"),\n",
    "    \"coffee\" to listOf(0.81, 0.78, 0.72, 0.65, 0.73, 0.49, 0.38),\n",
    "    \"tea\" to listOf(0.12, 0.16, 0.21, 0.26, 0.24, 0.22, 0.30),\n",
    "    \"soda\" to listOf(0.07, 0.06, 0.07, 0.09, 0.03, 0.29, 0.32),\n",
    ").gather(\"coffee\", \"tea\", \"soda\").into(\"drink\", \"amount\")"
   ],
   "metadata": {
    "collapsed": false,
    "ExecuteTime": {
     "end_time": "2023-11-20T23:11:43.924352Z",
     "start_time": "2023-11-20T23:11:43.358724Z"
    }
   }
  },
  {
   "cell_type": "code",
   "execution_count": 3,
   "outputs": [
    {
     "data": {
      "text/html": "            <iframe src='about:blank' style='border:none !important;' width='600' height='400' srcdoc=\"&lt;html lang=&quot;en&quot;>\n   &lt;head>\n       &lt;style> html, body { margin: 0; overflow: hidden; } &lt;/style>\n       &lt;script type=&quot;text/javascript&quot; data-lets-plot-script=&quot;library&quot; src=&quot;https://cdn.jsdelivr.net/gh/JetBrains/lets-plot@v4.0.1/js-package/distr/lets-plot.min.js&quot;>&lt;/script>\n   &lt;/head>\n   &lt;body>\n          &lt;div id=&quot;XlVZul&quot;>&lt;/div>\n   &lt;script type=&quot;text/javascript&quot; data-lets-plot-script=&quot;plot&quot;>\n       var plotSpec={\n&quot;ggtitle&quot;:{\n&quot;text&quot;:&quot;Weekly Beverage Consumption Trends&quot;\n},\n&quot;mapping&quot;:{\n},\n&quot;data&quot;:{\n&quot;amount&quot;:[0.81,0.78,0.72,0.65,0.73,0.49,0.38,0.12,0.16,0.21,0.26,0.24,0.22,0.3,0.07,0.06,0.07,0.09,0.03,0.29,0.32],\n&quot;&amp;merged_groups&quot;:[&quot;coffee&quot;,&quot;coffee&quot;,&quot;coffee&quot;,&quot;coffee&quot;,&quot;coffee&quot;,&quot;coffee&quot;,&quot;coffee&quot;,&quot;tea&quot;,&quot;tea&quot;,&quot;tea&quot;,&quot;tea&quot;,&quot;tea&quot;,&quot;tea&quot;,&quot;tea&quot;,&quot;soda&quot;,&quot;soda&quot;,&quot;soda&quot;,&quot;soda&quot;,&quot;soda&quot;,&quot;soda&quot;,&quot;soda&quot;],\n&quot;day&quot;:[&quot;Mon&quot;,&quot;Tue&quot;,&quot;Wed&quot;,&quot;Thu&quot;,&quot;Fri&quot;,&quot;Sat&quot;,&quot;Sun&quot;,&quot;Mon&quot;,&quot;Tue&quot;,&quot;Wed&quot;,&quot;Thu&quot;,&quot;Fri&quot;,&quot;Sat&quot;,&quot;Sun&quot;,&quot;Mon&quot;,&quot;Tue&quot;,&quot;Wed&quot;,&quot;Thu&quot;,&quot;Fri&quot;,&quot;Sat&quot;,&quot;Sun&quot;],\n&quot;drink&quot;:[&quot;coffee&quot;,&quot;coffee&quot;,&quot;coffee&quot;,&quot;coffee&quot;,&quot;coffee&quot;,&quot;coffee&quot;,&quot;coffee&quot;,&quot;tea&quot;,&quot;tea&quot;,&quot;tea&quot;,&quot;tea&quot;,&quot;tea&quot;,&quot;tea&quot;,&quot;tea&quot;,&quot;soda&quot;,&quot;soda&quot;,&quot;soda&quot;,&quot;soda&quot;,&quot;soda&quot;,&quot;soda&quot;,&quot;soda&quot;]\n},\n&quot;kind&quot;:&quot;plot&quot;,\n&quot;scales&quot;:[{\n&quot;aesthetic&quot;:&quot;x&quot;,\n&quot;discrete&quot;:true\n},{\n&quot;aesthetic&quot;:&quot;y&quot;,\n&quot;limits&quot;:[null,null]\n},{\n&quot;aesthetic&quot;:&quot;fill&quot;,\n&quot;values&quot;:[&quot;#6F4E37&quot;,&quot;#C2D4AB&quot;,&quot;#B5651D&quot;],\n&quot;limits&quot;:[&quot;coffee&quot;,&quot;tea&quot;,&quot;soda&quot;]\n}],\n&quot;layers&quot;:[{\n&quot;mapping&quot;:{\n&quot;x&quot;:&quot;day&quot;,\n&quot;y&quot;:&quot;amount&quot;,\n&quot;fill&quot;:&quot;drink&quot;,\n&quot;group&quot;:&quot;&amp;merged_groups&quot;\n},\n&quot;stat&quot;:&quot;identity&quot;,\n&quot;sampling&quot;:&quot;none&quot;,\n&quot;position&quot;:&quot;stack&quot;,\n&quot;geom&quot;:&quot;bar&quot;,\n&quot;data&quot;:{\n}\n}]\n};\n       var plotContainer = document.getElementById(&quot;XlVZul&quot;);\n       LetsPlot.buildPlotFromProcessedSpecs(plotSpec, -1, -1, plotContainer);\n   &lt;/script>\n   &lt;/body>\n&lt;/html>\"></iframe>            \n        <svg id=ba874ddf-58e4-428e-a734-9cf7bf0576b0 xmlns=\"http://www.w3.org/2000/svg\" xmlns:xlink=\"http://www.w3.org/1999/xlink\" class=\"plt-container\" width=\"600.0\" height=\"400.0\">\n  <style type=\"text/css\">\n  .plt-container {\n   font-family: Lucida Grande, sans-serif;\n   user-select: none;\n   -webkit-user-select: none;\n   -moz-user-select: none;\n   -ms-user-select: none;\n}\ntext {\n   text-rendering: optimizeLegibility;\n}\n#paXc07I .plot-title {\n   fill: #474747;\n   font-family: Lucida Grande, sans-serif;\n   font-size: 16.0px;\n   font-weight: normal;\n   font-style: normal;   \n}\n#paXc07I .plot-subtitle {\n   fill: #474747;\n   font-family: Lucida Grande, sans-serif;\n   font-size: 15.0px;\n   font-weight: normal;\n   font-style: normal;   \n}\n#paXc07I .plot-caption {\n   fill: #474747;\n   font-family: Lucida Grande, sans-serif;\n   font-size: 13.0px;\n   font-weight: normal;\n   font-style: normal;   \n}\n#paXc07I .legend-title {\n   fill: #474747;\n   font-family: Lucida Grande, sans-serif;\n   font-size: 15.0px;\n   font-weight: normal;\n   font-style: normal;   \n}\n#paXc07I .legend-item {\n   fill: #474747;\n   font-family: Lucida Grande, sans-serif;\n   font-size: 13.0px;\n   font-weight: normal;\n   font-style: normal;   \n}\n#paXc07I .axis-title-x {\n   fill: #474747;\n   font-family: Lucida Grande, sans-serif;\n   font-size: 15.0px;\n   font-weight: normal;\n   font-style: normal;   \n}\n#paXc07I .axis-text-x {\n   fill: #474747;\n   font-family: Lucida Grande, sans-serif;\n   font-size: 13.0px;\n   font-weight: normal;\n   font-style: normal;   \n}\n#dbZ9pzX .axis-tooltip-text-x {\n   fill: #ffffff;\n   font-family: Lucida Grande, sans-serif;\n   font-size: 13.0px;\n   font-weight: normal;\n   font-style: normal;   \n}\n#paXc07I .axis-title-y {\n   fill: #474747;\n   font-family: Lucida Grande, sans-serif;\n   font-size: 15.0px;\n   font-weight: normal;\n   font-style: normal;   \n}\n#paXc07I .axis-text-y {\n   fill: #474747;\n   font-family: Lucida Grande, sans-serif;\n   font-size: 13.0px;\n   font-weight: normal;\n   font-style: normal;   \n}\n#dbZ9pzX .axis-tooltip-text-y {\n   fill: #ffffff;\n   font-family: Lucida Grande, sans-serif;\n   font-size: 13.0px;\n   font-weight: normal;\n   font-style: normal;   \n}\n#paXc07I .facet-strip-text-x {\n   fill: #474747;\n   font-family: Lucida Grande, sans-serif;\n   font-size: 13.0px;\n   font-weight: normal;\n   font-style: normal;   \n}\n#paXc07I .facet-strip-text-y {\n   fill: #474747;\n   font-family: Lucida Grande, sans-serif;\n   font-size: 13.0px;\n   font-weight: normal;\n   font-style: normal;   \n}\n#dbZ9pzX .tooltip-text {\n   fill: #474747;\n   font-family: Lucida Grande, sans-serif;\n   font-size: 13.0px;\n   font-weight: normal;\n   font-style: normal;   \n}\n#dbZ9pzX .tooltip-title {\n   fill: #474747;\n   font-family: Lucida Grande, sans-serif;\n   font-size: 13.0px;\n   font-weight: bold;\n   font-style: normal;   \n}\n#dbZ9pzX .tooltip-label {\n   fill: #474747;\n   font-family: Lucida Grande, sans-serif;\n   font-size: 13.0px;\n   font-weight: bold;\n   font-style: normal;   \n}\n\n  </style>\n  <g id=\"paXc07I\">\n    <path fill-rule=\"evenodd\" fill=\"rgb(255,255,255)\" fill-opacity=\"1.0\" d=\"M0.0 0.0 L0.0 400.0 L600.0 400.0 L600.0 0.0 Z\">\n    </path>\n    <g transform=\"translate(23.0 34.0 ) \">\n      <g transform=\"translate(27.034701220281416 320.0 ) \">\n        <line x1=\"40.14912819827727\" y1=\"-0.0\" x2=\"40.14912819827727\" y2=\"-320.0\" stroke=\"rgb(233,233,233)\" stroke-opacity=\"1.0\" stroke-width=\"1.0\">\n        </line>\n        <line x1=\"101.91701773408845\" y1=\"-0.0\" x2=\"101.91701773408845\" y2=\"-320.0\" stroke=\"rgb(233,233,233)\" stroke-opacity=\"1.0\" stroke-width=\"1.0\">\n        </line>\n        <line x1=\"163.6849072698996\" y1=\"-0.0\" x2=\"163.6849072698996\" y2=\"-320.0\" stroke=\"rgb(233,233,233)\" stroke-opacity=\"1.0\" stroke-width=\"1.0\">\n        </line>\n        <line x1=\"225.45279680571082\" y1=\"-0.0\" x2=\"225.45279680571082\" y2=\"-320.0\" stroke=\"rgb(233,233,233)\" stroke-opacity=\"1.0\" stroke-width=\"1.0\">\n        </line>\n        <line x1=\"287.22068634152197\" y1=\"-0.0\" x2=\"287.22068634152197\" y2=\"-320.0\" stroke=\"rgb(233,233,233)\" stroke-opacity=\"1.0\" stroke-width=\"1.0\">\n        </line>\n        <line x1=\"348.9885758773331\" y1=\"-0.0\" x2=\"348.9885758773331\" y2=\"-320.0\" stroke=\"rgb(233,233,233)\" stroke-opacity=\"1.0\" stroke-width=\"1.0\">\n        </line>\n        <line x1=\"410.7564654131443\" y1=\"-0.0\" x2=\"410.7564654131443\" y2=\"-320.0\" stroke=\"rgb(233,233,233)\" stroke-opacity=\"1.0\" stroke-width=\"1.0\">\n        </line>\n        <g transform=\"translate(40.14912819827727 0.0 ) \">\n          <line stroke-width=\"1.0\" stroke=\"rgb(71,71,71)\" stroke-opacity=\"1.0\" x2=\"0.0\" y2=\"4.0\">\n          </line>\n          <g transform=\"translate(0.0 7.0 ) \">\n            <text class=\"axis-text-x\" text-anchor=\"middle\" dy=\"0.7em\">\n            Mon\n            </text>\n          </g>\n        </g>\n        <g transform=\"translate(101.91701773408845 0.0 ) \">\n          <line stroke-width=\"1.0\" stroke=\"rgb(71,71,71)\" stroke-opacity=\"1.0\" x2=\"0.0\" y2=\"4.0\">\n          </line>\n          <g transform=\"translate(0.0 7.0 ) \">\n            <text class=\"axis-text-x\" text-anchor=\"middle\" dy=\"0.7em\">\n            Tue\n            </text>\n          </g>\n        </g>\n        <g transform=\"translate(163.6849072698996 0.0 ) \">\n          <line stroke-width=\"1.0\" stroke=\"rgb(71,71,71)\" stroke-opacity=\"1.0\" x2=\"0.0\" y2=\"4.0\">\n          </line>\n          <g transform=\"translate(0.0 7.0 ) \">\n            <text class=\"axis-text-x\" text-anchor=\"middle\" dy=\"0.7em\">\n            Wed\n            </text>\n          </g>\n        </g>\n        <g transform=\"translate(225.45279680571082 0.0 ) \">\n          <line stroke-width=\"1.0\" stroke=\"rgb(71,71,71)\" stroke-opacity=\"1.0\" x2=\"0.0\" y2=\"4.0\">\n          </line>\n          <g transform=\"translate(0.0 7.0 ) \">\n            <text class=\"axis-text-x\" text-anchor=\"middle\" dy=\"0.7em\">\n            Thu\n            </text>\n          </g>\n        </g>\n        <g transform=\"translate(287.22068634152197 0.0 ) \">\n          <line stroke-width=\"1.0\" stroke=\"rgb(71,71,71)\" stroke-opacity=\"1.0\" x2=\"0.0\" y2=\"4.0\">\n          </line>\n          <g transform=\"translate(0.0 7.0 ) \">\n            <text class=\"axis-text-x\" text-anchor=\"middle\" dy=\"0.7em\">\n            Fri\n            </text>\n          </g>\n        </g>\n        <g transform=\"translate(348.9885758773331 0.0 ) \">\n          <line stroke-width=\"1.0\" stroke=\"rgb(71,71,71)\" stroke-opacity=\"1.0\" x2=\"0.0\" y2=\"4.0\">\n          </line>\n          <g transform=\"translate(0.0 7.0 ) \">\n            <text class=\"axis-text-x\" text-anchor=\"middle\" dy=\"0.7em\">\n            Sat\n            </text>\n          </g>\n        </g>\n        <g transform=\"translate(410.7564654131443 0.0 ) \">\n          <line stroke-width=\"1.0\" stroke=\"rgb(71,71,71)\" stroke-opacity=\"1.0\" x2=\"0.0\" y2=\"4.0\">\n          </line>\n          <g transform=\"translate(0.0 7.0 ) \">\n            <text class=\"axis-text-x\" text-anchor=\"middle\" dy=\"0.7em\">\n            Sun\n            </text>\n          </g>\n        </g>\n        <line x1=\"0.0\" y1=\"0.0\" x2=\"450.90559361142164\" y2=\"0.0\" stroke-width=\"1.0\" stroke=\"rgb(71,71,71)\" stroke-opacity=\"1.0\">\n        </line>\n      </g>\n      <g transform=\"translate(27.034701220281416 0.0 ) \">\n        <line x1=\"0.0\" y1=\"259.04761904761904\" x2=\"450.90559361142164\" y2=\"259.04761904761904\" stroke=\"rgb(233,233,233)\" stroke-opacity=\"1.0\" stroke-width=\"1.0\">\n        </line>\n        <line x1=\"0.0\" y1=\"198.09523809523807\" x2=\"450.90559361142164\" y2=\"198.09523809523807\" stroke=\"rgb(233,233,233)\" stroke-opacity=\"1.0\" stroke-width=\"1.0\">\n        </line>\n        <line x1=\"0.0\" y1=\"137.1428571428571\" x2=\"450.90559361142164\" y2=\"137.1428571428571\" stroke=\"rgb(233,233,233)\" stroke-opacity=\"1.0\" stroke-width=\"1.0\">\n        </line>\n        <line x1=\"0.0\" y1=\"76.19047619047618\" x2=\"450.90559361142164\" y2=\"76.19047619047618\" stroke=\"rgb(233,233,233)\" stroke-opacity=\"1.0\" stroke-width=\"1.0\">\n        </line>\n        <line x1=\"0.0\" y1=\"15.23809523809524\" x2=\"450.90559361142164\" y2=\"15.23809523809524\" stroke=\"rgb(233,233,233)\" stroke-opacity=\"1.0\" stroke-width=\"1.0\">\n        </line>\n        <g transform=\"translate(0.0 320.0 ) \">\n          <g transform=\"translate(-3.0 0.0 ) \">\n            <text class=\"axis-text-y\" text-anchor=\"end\" dy=\"0.35em\">\n            0.0\n            </text>\n          </g>\n        </g>\n        <g transform=\"translate(0.0 259.04761904761904 ) \">\n          <g transform=\"translate(-3.0 0.0 ) \">\n            <text class=\"axis-text-y\" text-anchor=\"end\" dy=\"0.35em\">\n            0.2\n            </text>\n          </g>\n        </g>\n        <g transform=\"translate(0.0 198.09523809523807 ) \">\n          <g transform=\"translate(-3.0 0.0 ) \">\n            <text class=\"axis-text-y\" text-anchor=\"end\" dy=\"0.35em\">\n            0.4\n            </text>\n          </g>\n        </g>\n        <g transform=\"translate(0.0 137.1428571428571 ) \">\n          <g transform=\"translate(-3.0 0.0 ) \">\n            <text class=\"axis-text-y\" text-anchor=\"end\" dy=\"0.35em\">\n            0.6\n            </text>\n          </g>\n        </g>\n        <g transform=\"translate(0.0 76.19047619047618 ) \">\n          <g transform=\"translate(-3.0 0.0 ) \">\n            <text class=\"axis-text-y\" text-anchor=\"end\" dy=\"0.35em\">\n            0.8\n            </text>\n          </g>\n        </g>\n        <g transform=\"translate(0.0 15.23809523809524 ) \">\n          <g transform=\"translate(-3.0 0.0 ) \">\n            <text class=\"axis-text-y\" text-anchor=\"end\" dy=\"0.35em\">\n            1.0\n            </text>\n          </g>\n        </g>\n      </g>\n      <g transform=\"translate(27.034701220281416 0.0 ) \" clip-path=\"url(#ciOGys9)\" clip-bounds-jfx=\"[rect (0.0, 0.0), (450.90559361142164, 320.0)]\">\n        <defs>\n          <clipPath id=\"ciOGys9\">\n            <rect x=\"0.0\" y=\"0.0\" width=\"450.90559361142164\" height=\"320.0\">\n            </rect>\n          </clipPath>\n        </defs>\n        <rect x=\"382.9609151220293\" y=\"15.23809523809524\" height=\"97.52380952380955\" width=\"55.59110058223007\" stroke=\"rgb(255,255,255)\" stroke-opacity=\"1.0\" fill=\"rgb(181,101,29)\" fill-opacity=\"1.0\" stroke-width=\"1.6500000000000001\">\n        </rect>\n        <rect x=\"321.1930255862181\" y=\"15.23809523809524\" height=\"88.38095238095238\" width=\"55.591100582230126\" stroke=\"rgb(255,255,255)\" stroke-opacity=\"1.0\" fill=\"rgb(181,101,29)\" fill-opacity=\"1.0\" stroke-width=\"1.6500000000000001\">\n        </rect>\n        <rect x=\"259.42513605040693\" y=\"15.23809523809524\" height=\"9.142857142857167\" width=\"55.59110058223007\" stroke=\"rgb(255,255,255)\" stroke-opacity=\"1.0\" fill=\"rgb(181,101,29)\" fill-opacity=\"1.0\" stroke-width=\"1.6500000000000001\">\n        </rect>\n        <rect x=\"197.65724651459578\" y=\"15.23809523809524\" height=\"27.428571428571445\" width=\"55.59110058223001\" stroke=\"rgb(255,255,255)\" stroke-opacity=\"1.0\" fill=\"rgb(181,101,29)\" fill-opacity=\"1.0\" stroke-width=\"1.6500000000000001\">\n        </rect>\n        <rect x=\"135.88935697878458\" y=\"15.23809523809524\" height=\"21.33333333333337\" width=\"55.59110058223007\" stroke=\"rgb(255,255,255)\" stroke-opacity=\"1.0\" fill=\"rgb(181,101,29)\" fill-opacity=\"1.0\" stroke-width=\"1.6500000000000001\">\n        </rect>\n        <rect x=\"74.12146744297343\" y=\"15.23809523809524\" height=\"18.285714285714278\" width=\"55.59110058223007\" stroke=\"rgb(255,255,255)\" stroke-opacity=\"1.0\" fill=\"rgb(181,101,29)\" fill-opacity=\"1.0\" stroke-width=\"1.6500000000000001\">\n        </rect>\n        <rect x=\"12.353577907162236\" y=\"15.23809523809524\" height=\"21.333333333333314\" width=\"55.59110058223007\" stroke=\"rgb(255,255,255)\" stroke-opacity=\"1.0\" fill=\"rgb(181,101,29)\" fill-opacity=\"1.0\" stroke-width=\"1.6500000000000001\">\n        </rect>\n        <rect x=\"382.9609151220293\" y=\"112.76190476190479\" height=\"91.42857142857142\" width=\"55.59110058223007\" stroke=\"rgb(255,255,255)\" stroke-opacity=\"1.0\" fill=\"rgb(194,212,171)\" fill-opacity=\"1.0\" stroke-width=\"1.6500000000000001\">\n        </rect>\n        <rect x=\"321.1930255862181\" y=\"103.61904761904762\" height=\"67.04761904761904\" width=\"55.591100582230126\" stroke=\"rgb(255,255,255)\" stroke-opacity=\"1.0\" fill=\"rgb(194,212,171)\" fill-opacity=\"1.0\" stroke-width=\"1.6500000000000001\">\n        </rect>\n        <rect x=\"259.42513605040693\" y=\"24.380952380952408\" height=\"73.14285714285711\" width=\"55.59110058223007\" stroke=\"rgb(255,255,255)\" stroke-opacity=\"1.0\" fill=\"rgb(194,212,171)\" fill-opacity=\"1.0\" stroke-width=\"1.6500000000000001\">\n        </rect>\n        <rect x=\"197.65724651459578\" y=\"42.666666666666686\" height=\"79.23809523809521\" width=\"55.59110058223001\" stroke=\"rgb(255,255,255)\" stroke-opacity=\"1.0\" fill=\"rgb(194,212,171)\" fill-opacity=\"1.0\" stroke-width=\"1.6500000000000001\">\n        </rect>\n        <rect x=\"135.88935697878458\" y=\"36.57142857142861\" height=\"63.99999999999997\" width=\"55.59110058223007\" stroke=\"rgb(255,255,255)\" stroke-opacity=\"1.0\" fill=\"rgb(194,212,171)\" fill-opacity=\"1.0\" stroke-width=\"1.6500000000000001\">\n        </rect>\n        <rect x=\"74.12146744297343\" y=\"33.52380952380952\" height=\"48.76190476190476\" width=\"55.59110058223007\" stroke=\"rgb(255,255,255)\" stroke-opacity=\"1.0\" fill=\"rgb(194,212,171)\" fill-opacity=\"1.0\" stroke-width=\"1.6500000000000001\">\n        </rect>\n        <rect x=\"12.353577907162236\" y=\"36.571428571428555\" height=\"36.571428571428584\" width=\"55.59110058223007\" stroke=\"rgb(255,255,255)\" stroke-opacity=\"1.0\" fill=\"rgb(194,212,171)\" fill-opacity=\"1.0\" stroke-width=\"1.6500000000000001\">\n        </rect>\n        <rect x=\"382.9609151220293\" y=\"204.1904761904762\" height=\"115.8095238095238\" width=\"55.59110058223007\" stroke=\"rgb(255,255,255)\" stroke-opacity=\"1.0\" fill=\"rgb(111,78,55)\" fill-opacity=\"1.0\" stroke-width=\"1.6500000000000001\">\n        </rect>\n        <rect x=\"321.1930255862181\" y=\"170.66666666666666\" height=\"149.33333333333334\" width=\"55.591100582230126\" stroke=\"rgb(255,255,255)\" stroke-opacity=\"1.0\" fill=\"rgb(111,78,55)\" fill-opacity=\"1.0\" stroke-width=\"1.6500000000000001\">\n        </rect>\n        <rect x=\"259.42513605040693\" y=\"97.52380952380952\" height=\"222.47619047619048\" width=\"55.59110058223007\" stroke=\"rgb(255,255,255)\" stroke-opacity=\"1.0\" fill=\"rgb(111,78,55)\" fill-opacity=\"1.0\" stroke-width=\"1.6500000000000001\">\n        </rect>\n        <rect x=\"197.65724651459578\" y=\"121.9047619047619\" height=\"198.0952380952381\" width=\"55.59110058223001\" stroke=\"rgb(255,255,255)\" stroke-opacity=\"1.0\" fill=\"rgb(111,78,55)\" fill-opacity=\"1.0\" stroke-width=\"1.6500000000000001\">\n        </rect>\n        <rect x=\"135.88935697878458\" y=\"100.57142857142858\" height=\"219.42857142857142\" width=\"55.59110058223007\" stroke=\"rgb(255,255,255)\" stroke-opacity=\"1.0\" fill=\"rgb(111,78,55)\" fill-opacity=\"1.0\" stroke-width=\"1.6500000000000001\">\n        </rect>\n        <rect x=\"74.12146744297343\" y=\"82.28571428571428\" height=\"237.71428571428572\" width=\"55.59110058223007\" stroke=\"rgb(255,255,255)\" stroke-opacity=\"1.0\" fill=\"rgb(111,78,55)\" fill-opacity=\"1.0\" stroke-width=\"1.6500000000000001\">\n        </rect>\n        <rect x=\"12.353577907162236\" y=\"73.14285714285714\" height=\"246.85714285714286\" width=\"55.59110058223007\" stroke=\"rgb(255,255,255)\" stroke-opacity=\"1.0\" fill=\"rgb(111,78,55)\" fill-opacity=\"1.0\" stroke-width=\"1.6500000000000001\">\n        </rect>\n      </g>\n    </g>\n    <g transform=\"translate(50.03470122028142 15.2 ) \">\n      <text class=\"plot-title\" y=\"0.0\">\n      Weekly Beverage Consumption Trends\n      </text>\n    </g>\n    <g transform=\"translate(14.5 194.0 ) rotate(-90.0 ) \">\n      <text class=\"axis-title-y\" y=\"0.0\" text-anchor=\"middle\">\n      amount\n      </text>\n    </g>\n    <g transform=\"translate(275.48749802599224 391.5 ) \">\n      <text class=\"axis-title-x\" y=\"0.0\" text-anchor=\"middle\">\n      day\n      </text>\n    </g>\n    <g transform=\"translate(510.94029483170306 138.25 ) \">\n      <rect x=\"5.0\" y=\"5.0\" height=\"101.5\" width=\"79.05970516829693\" stroke=\"rgb(71,71,71)\" stroke-opacity=\"1.0\" stroke-width=\"0.0\" fill=\"rgb(255,255,255)\" fill-opacity=\"1.0\">\n      </rect>\n      <g transform=\"translate(10.0 10.0 ) \">\n        <g transform=\"translate(0.0 10.5 ) \">\n          <text class=\"legend-title\" y=\"0.0\">\n          drink\n          </text>\n        </g>\n        <g transform=\"translate(0.0 22.5 ) \">\n          <g transform=\"\">\n            <g>\n              <rect x=\"0.0\" y=\"0.0\" height=\"23.0\" width=\"23.0\" stroke-width=\"0.0\" fill=\"rgb(255,255,255)\" fill-opacity=\"1.0\">\n              </rect>\n              <g transform=\"translate(1.0 1.0 ) \">\n                <g>\n                  <rect x=\"0.0\" y=\"0.0\" height=\"21.0\" width=\"21.0\" stroke=\"rgb(255,255,255)\" stroke-opacity=\"1.0\" fill=\"rgb(111,78,55)\" fill-opacity=\"1.0\" stroke-width=\"1.5\">\n                  </rect>\n                </g>\n              </g>\n              <rect x=\"0.0\" y=\"0.0\" height=\"23.0\" width=\"23.0\" stroke=\"rgb(255,255,255)\" stroke-opacity=\"1.0\" stroke-width=\"1.0\" fill-opacity=\"0.0\">\n              </rect>\n            </g>\n            <g transform=\"translate(26.9903027277341 16.05 ) \">\n              <text class=\"legend-item\" y=\"0.0\">\n              coffee\n              </text>\n            </g>\n          </g>\n          <g transform=\"translate(0.0 23.0 ) \">\n            <g>\n              <rect x=\"0.0\" y=\"0.0\" height=\"23.0\" width=\"23.0\" stroke-width=\"0.0\" fill=\"rgb(255,255,255)\" fill-opacity=\"1.0\">\n              </rect>\n              <g transform=\"translate(1.0 1.0 ) \">\n                <g>\n                  <rect x=\"0.0\" y=\"0.0\" height=\"21.0\" width=\"21.0\" stroke=\"rgb(255,255,255)\" stroke-opacity=\"1.0\" fill=\"rgb(194,212,171)\" fill-opacity=\"1.0\" stroke-width=\"1.5\">\n                  </rect>\n                </g>\n              </g>\n              <rect x=\"0.0\" y=\"0.0\" height=\"23.0\" width=\"23.0\" stroke=\"rgb(255,255,255)\" stroke-opacity=\"1.0\" stroke-width=\"1.0\" fill-opacity=\"0.0\">\n              </rect>\n            </g>\n            <g transform=\"translate(26.9903027277341 16.05 ) \">\n              <text class=\"legend-item\" y=\"0.0\">\n              tea\n              </text>\n            </g>\n          </g>\n          <g transform=\"translate(0.0 46.0 ) \">\n            <g>\n              <rect x=\"0.0\" y=\"0.0\" height=\"23.0\" width=\"23.0\" stroke-width=\"0.0\" fill=\"rgb(255,255,255)\" fill-opacity=\"1.0\">\n              </rect>\n              <g transform=\"translate(1.0 1.0 ) \">\n                <g>\n                  <rect x=\"0.0\" y=\"0.0\" height=\"21.0\" width=\"21.0\" stroke=\"rgb(255,255,255)\" stroke-opacity=\"1.0\" fill=\"rgb(181,101,29)\" fill-opacity=\"1.0\" stroke-width=\"1.5\">\n                  </rect>\n                </g>\n              </g>\n              <rect x=\"0.0\" y=\"0.0\" height=\"23.0\" width=\"23.0\" stroke=\"rgb(255,255,255)\" stroke-opacity=\"1.0\" stroke-width=\"1.0\" fill-opacity=\"0.0\">\n              </rect>\n            </g>\n            <g transform=\"translate(26.9903027277341 16.05 ) \">\n              <text class=\"legend-item\" y=\"0.0\">\n              soda\n              </text>\n            </g>\n          </g>\n        </g>\n      </g>\n    </g>\n    <path fill=\"rgb(0,0,0)\" fill-opacity=\"0.0\" stroke=\"rgb(71,71,71)\" stroke-opacity=\"1.0\" stroke-width=\"0.0\" d=\"M0.0 0.0 L0.0 400.0 L600.0 400.0 L600.0 0.0 Z\">\n    </path>\n  </g>\n  <g id=\"dbZ9pzX\">\n  </g>\n</svg>\n        <script>document.getElementById(\"ba874ddf-58e4-428e-a734-9cf7bf0576b0\").style.display = \"none\";</script>",
      "application/plot+json": {
       "output_type": "lets_plot_spec",
       "output": {
        "ggtitle": {
         "text": "Weekly Beverage Consumption Trends"
        },
        "mapping": {},
        "data": {
         "amount": [
          0.81,
          0.78,
          0.72,
          0.65,
          0.73,
          0.49,
          0.38,
          0.12,
          0.16,
          0.21,
          0.26,
          0.24,
          0.22,
          0.3,
          0.07,
          0.06,
          0.07,
          0.09,
          0.03,
          0.29,
          0.32
         ],
         "&merged_groups": [
          "coffee",
          "coffee",
          "coffee",
          "coffee",
          "coffee",
          "coffee",
          "coffee",
          "tea",
          "tea",
          "tea",
          "tea",
          "tea",
          "tea",
          "tea",
          "soda",
          "soda",
          "soda",
          "soda",
          "soda",
          "soda",
          "soda"
         ],
         "day": [
          "Mon",
          "Tue",
          "Wed",
          "Thu",
          "Fri",
          "Sat",
          "Sun",
          "Mon",
          "Tue",
          "Wed",
          "Thu",
          "Fri",
          "Sat",
          "Sun",
          "Mon",
          "Tue",
          "Wed",
          "Thu",
          "Fri",
          "Sat",
          "Sun"
         ],
         "drink": [
          "coffee",
          "coffee",
          "coffee",
          "coffee",
          "coffee",
          "coffee",
          "coffee",
          "tea",
          "tea",
          "tea",
          "tea",
          "tea",
          "tea",
          "tea",
          "soda",
          "soda",
          "soda",
          "soda",
          "soda",
          "soda",
          "soda"
         ]
        },
        "kind": "plot",
        "scales": [
         {
          "aesthetic": "x",
          "discrete": true
         },
         {
          "aesthetic": "y",
          "limits": [
           null,
           null
          ]
         },
         {
          "aesthetic": "fill",
          "values": [
           "#6F4E37",
           "#C2D4AB",
           "#B5651D"
          ],
          "limits": [
           "coffee",
           "tea",
           "soda"
          ]
         }
        ],
        "layers": [
         {
          "mapping": {
           "x": "day",
           "y": "amount",
           "fill": "drink",
           "group": "&merged_groups"
          },
          "stat": "identity",
          "sampling": "none",
          "position": "stack",
          "geom": "bar"
         }
        ]
       },
       "apply_color_scheme": true,
       "swing_enabled": true
      }
     },
     "execution_count": 3,
     "metadata": {},
     "output_type": "execute_result"
    }
   ],
   "source": [
    "data.groupBy { drink }.plot {\n",
    "    layout.title = \"Weekly Beverage Consumption Trends\"\n",
    "    bars {\n",
    "        x(day)\n",
    "        y(amount)\n",
    "        fillColor(drink) {\n",
    "            scale = categorical(\n",
    "                \"coffee\" to Color.hex(\"#6F4E37\"),\n",
    "                \"tea\" to Color.hex(\"#C2D4AB\"),\n",
    "                \"soda\" to Color.hex(\"#B5651D\")\n",
    "            )\n",
    "        }\n",
    "        position = Position.stack()\n",
    "    }\n",
    "}"
   ],
   "metadata": {
    "collapsed": false,
    "ExecuteTime": {
     "end_time": "2023-11-20T23:12:08.061917Z",
     "start_time": "2023-11-20T23:12:07.175731Z"
    }
   }
  }
 ],
 "metadata": {
  "kernelspec": {
   "display_name": "Kotlin",
   "language": "kotlin",
   "name": "kotlin"
  },
  "language_info": {
   "name": "kotlin",
   "version": "1.9.0",
   "mimetype": "text/x-kotlin",
   "file_extension": ".kt",
   "pygments_lexer": "kotlin",
   "codemirror_mode": "text/x-kotlin",
   "nbconvert_exporter": ""
  }
 },
 "nbformat": 4,
 "nbformat_minor": 0
}
