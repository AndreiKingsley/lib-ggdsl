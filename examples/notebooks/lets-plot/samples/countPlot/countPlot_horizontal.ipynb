{
 "cells": [
  {
   "cell_type": "code",
   "execution_count": 2,
   "metadata": {
    "collapsed": true,
    "ExecuteTime": {
     "end_time": "2023-11-22T09:59:38.552145Z",
     "start_time": "2023-11-22T09:59:31.512783Z"
    }
   },
   "outputs": [],
   "source": [
    "%useLatestDescriptors\n",
    "%use kandy\n",
    "%use dataframe"
   ]
  },
  {
   "cell_type": "code",
   "execution_count": 8,
   "outputs": [
    {
     "data": {
      "text/html": "            <iframe src='about:blank' style='border:none !important;' width='600' height='400' srcdoc=\"&lt;html lang=&quot;en&quot;>\n   &lt;head>\n       &lt;style> html, body { margin: 0; overflow: hidden; } &lt;/style>\n       &lt;script type=&quot;text/javascript&quot; data-lets-plot-script=&quot;library&quot; src=&quot;https://cdn.jsdelivr.net/gh/JetBrains/lets-plot@v4.0.1/js-package/distr/lets-plot.min.js&quot;>&lt;/script>\n   &lt;/head>\n   &lt;body>\n          &lt;div id=&quot;edas9Y&quot;>&lt;/div>\n   &lt;script type=&quot;text/javascript&quot; data-lets-plot-script=&quot;plot&quot;>\n       var plotSpec={\n&quot;ggtitle&quot;:{\n&quot;text&quot;:&quot;Distribution of transport used by students&quot;\n},\n&quot;mapping&quot;:{\n},\n&quot;data&quot;:{\n},\n&quot;kind&quot;:&quot;plot&quot;,\n&quot;scales&quot;:[{\n&quot;aesthetic&quot;:&quot;x&quot;,\n&quot;limits&quot;:[null,null]\n},{\n&quot;aesthetic&quot;:&quot;y&quot;,\n&quot;discrete&quot;:true\n},{\n&quot;aesthetic&quot;:&quot;fill&quot;,\n&quot;values&quot;:[&quot;#FFD700&quot;,&quot;#FF6347&quot;,&quot;#32CD32&quot;,&quot;#4169E1&quot;],\n&quot;limits&quot;:[&quot;bus&quot;,&quot;car&quot;,&quot;bicycle&quot;,&quot;metro&quot;],\n&quot;guide&quot;:&quot;none&quot;\n}],\n&quot;layers&quot;:[{\n&quot;mapping&quot;:{\n&quot;x&quot;:&quot;count&quot;,\n&quot;y&quot;:&quot;transport&quot;,\n&quot;fill&quot;:&quot;transport&quot;\n},\n&quot;stat&quot;:&quot;identity&quot;,\n&quot;orientation&quot;:&quot;y&quot;,\n&quot;data&quot;:{\n&quot;count&quot;:[21.0,29.0,3.0,35.0],\n&quot;transport&quot;:[&quot;metro&quot;,&quot;bicycle&quot;,&quot;car&quot;,&quot;bus&quot;]\n},\n&quot;sampling&quot;:&quot;none&quot;,\n&quot;position&quot;:&quot;dodge&quot;,\n&quot;geom&quot;:&quot;bar&quot;\n}]\n};\n       var plotContainer = document.getElementById(&quot;edas9Y&quot;);\n       LetsPlot.buildPlotFromProcessedSpecs(plotSpec, -1, -1, plotContainer);\n   &lt;/script>\n   &lt;/body>\n&lt;/html>\"></iframe>            \n        <svg id=160f2ac6-701d-4a21-8f87-fc562db05688 xmlns=\"http://www.w3.org/2000/svg\" xmlns:xlink=\"http://www.w3.org/1999/xlink\" class=\"plt-container\" width=\"600.0\" height=\"400.0\">\n  <style type=\"text/css\">\n  .plt-container {\n   font-family: Lucida Grande, sans-serif;\n   user-select: none;\n   -webkit-user-select: none;\n   -moz-user-select: none;\n   -ms-user-select: none;\n}\ntext {\n   text-rendering: optimizeLegibility;\n}\n#pEash2q .plot-title {\n   fill: #474747;\n   font-family: Lucida Grande, sans-serif;\n   font-size: 16.0px;\n   font-weight: normal;\n   font-style: normal;   \n}\n#pEash2q .plot-subtitle {\n   fill: #474747;\n   font-family: Lucida Grande, sans-serif;\n   font-size: 15.0px;\n   font-weight: normal;\n   font-style: normal;   \n}\n#pEash2q .plot-caption {\n   fill: #474747;\n   font-family: Lucida Grande, sans-serif;\n   font-size: 13.0px;\n   font-weight: normal;\n   font-style: normal;   \n}\n#pEash2q .legend-title {\n   fill: #474747;\n   font-family: Lucida Grande, sans-serif;\n   font-size: 15.0px;\n   font-weight: normal;\n   font-style: normal;   \n}\n#pEash2q .legend-item {\n   fill: #474747;\n   font-family: Lucida Grande, sans-serif;\n   font-size: 13.0px;\n   font-weight: normal;\n   font-style: normal;   \n}\n#pEash2q .axis-title-x {\n   fill: #474747;\n   font-family: Lucida Grande, sans-serif;\n   font-size: 15.0px;\n   font-weight: normal;\n   font-style: normal;   \n}\n#pEash2q .axis-text-x {\n   fill: #474747;\n   font-family: Lucida Grande, sans-serif;\n   font-size: 13.0px;\n   font-weight: normal;\n   font-style: normal;   \n}\n#dSaxG1S .axis-tooltip-text-x {\n   fill: #ffffff;\n   font-family: Lucida Grande, sans-serif;\n   font-size: 13.0px;\n   font-weight: normal;\n   font-style: normal;   \n}\n#pEash2q .axis-title-y {\n   fill: #474747;\n   font-family: Lucida Grande, sans-serif;\n   font-size: 15.0px;\n   font-weight: normal;\n   font-style: normal;   \n}\n#pEash2q .axis-text-y {\n   fill: #474747;\n   font-family: Lucida Grande, sans-serif;\n   font-size: 13.0px;\n   font-weight: normal;\n   font-style: normal;   \n}\n#dSaxG1S .axis-tooltip-text-y {\n   fill: #ffffff;\n   font-family: Lucida Grande, sans-serif;\n   font-size: 13.0px;\n   font-weight: normal;\n   font-style: normal;   \n}\n#pEash2q .facet-strip-text-x {\n   fill: #474747;\n   font-family: Lucida Grande, sans-serif;\n   font-size: 13.0px;\n   font-weight: normal;\n   font-style: normal;   \n}\n#pEash2q .facet-strip-text-y {\n   fill: #474747;\n   font-family: Lucida Grande, sans-serif;\n   font-size: 13.0px;\n   font-weight: normal;\n   font-style: normal;   \n}\n#dSaxG1S .tooltip-text {\n   fill: #474747;\n   font-family: Lucida Grande, sans-serif;\n   font-size: 13.0px;\n   font-weight: normal;\n   font-style: normal;   \n}\n#dSaxG1S .tooltip-title {\n   fill: #474747;\n   font-family: Lucida Grande, sans-serif;\n   font-size: 13.0px;\n   font-weight: bold;\n   font-style: normal;   \n}\n#dSaxG1S .tooltip-label {\n   fill: #474747;\n   font-family: Lucida Grande, sans-serif;\n   font-size: 13.0px;\n   font-weight: bold;\n   font-style: normal;   \n}\n\n  </style>\n  <g id=\"pEash2q\">\n    <path fill-rule=\"evenodd\" fill=\"rgb(255,255,255)\" fill-opacity=\"1.0\" d=\"M0.0 0.0 L0.0 400.0 L600.0 400.0 L600.0 0.0 Z\">\n    </path>\n    <g transform=\"translate(23.0 34.0 ) \">\n      <g transform=\"translate(56.050007896031026 320.0 ) \">\n        <line x1=\"69.51700572843114\" y1=\"-0.0\" x2=\"69.51700572843114\" y2=\"-320.0\" stroke=\"rgb(233,233,233)\" stroke-opacity=\"1.0\" stroke-width=\"1.0\">\n        </line>\n        <line x1=\"139.0340114568623\" y1=\"-0.0\" x2=\"139.0340114568623\" y2=\"-320.0\" stroke=\"rgb(233,233,233)\" stroke-opacity=\"1.0\" stroke-width=\"1.0\">\n        </line>\n        <line x1=\"208.55101718529346\" y1=\"-0.0\" x2=\"208.55101718529346\" y2=\"-320.0\" stroke=\"rgb(233,233,233)\" stroke-opacity=\"1.0\" stroke-width=\"1.0\">\n        </line>\n        <line x1=\"278.0680229137246\" y1=\"-0.0\" x2=\"278.0680229137246\" y2=\"-320.0\" stroke=\"rgb(233,233,233)\" stroke-opacity=\"1.0\" stroke-width=\"1.0\">\n        </line>\n        <line x1=\"347.58502864215575\" y1=\"-0.0\" x2=\"347.58502864215575\" y2=\"-320.0\" stroke=\"rgb(233,233,233)\" stroke-opacity=\"1.0\" stroke-width=\"1.0\">\n        </line>\n        <line x1=\"417.1020343705869\" y1=\"-0.0\" x2=\"417.1020343705869\" y2=\"-320.0\" stroke=\"rgb(233,233,233)\" stroke-opacity=\"1.0\" stroke-width=\"1.0\">\n        </line>\n        <line x1=\"486.61904009901804\" y1=\"-0.0\" x2=\"486.61904009901804\" y2=\"-320.0\" stroke=\"rgb(233,233,233)\" stroke-opacity=\"1.0\" stroke-width=\"1.0\">\n        </line>\n        <g transform=\"translate(0.0 0.0 ) \">\n          <line stroke-width=\"1.0\" stroke=\"rgb(71,71,71)\" stroke-opacity=\"1.0\" x2=\"0.0\" y2=\"4.0\">\n          </line>\n          <g transform=\"translate(0.0 7.0 ) \">\n            <text class=\"axis-text-x\" text-anchor=\"middle\" dy=\"0.7em\">\n            0\n            </text>\n          </g>\n        </g>\n        <g transform=\"translate(69.51700572843114 0.0 ) \">\n          <line stroke-width=\"1.0\" stroke=\"rgb(71,71,71)\" stroke-opacity=\"1.0\" x2=\"0.0\" y2=\"4.0\">\n          </line>\n          <g transform=\"translate(0.0 7.0 ) \">\n            <text class=\"axis-text-x\" text-anchor=\"middle\" dy=\"0.7em\">\n            5\n            </text>\n          </g>\n        </g>\n        <g transform=\"translate(139.0340114568623 0.0 ) \">\n          <line stroke-width=\"1.0\" stroke=\"rgb(71,71,71)\" stroke-opacity=\"1.0\" x2=\"0.0\" y2=\"4.0\">\n          </line>\n          <g transform=\"translate(0.0 7.0 ) \">\n            <text class=\"axis-text-x\" text-anchor=\"middle\" dy=\"0.7em\">\n            10\n            </text>\n          </g>\n        </g>\n        <g transform=\"translate(208.55101718529346 0.0 ) \">\n          <line stroke-width=\"1.0\" stroke=\"rgb(71,71,71)\" stroke-opacity=\"1.0\" x2=\"0.0\" y2=\"4.0\">\n          </line>\n          <g transform=\"translate(0.0 7.0 ) \">\n            <text class=\"axis-text-x\" text-anchor=\"middle\" dy=\"0.7em\">\n            15\n            </text>\n          </g>\n        </g>\n        <g transform=\"translate(278.0680229137246 0.0 ) \">\n          <line stroke-width=\"1.0\" stroke=\"rgb(71,71,71)\" stroke-opacity=\"1.0\" x2=\"0.0\" y2=\"4.0\">\n          </line>\n          <g transform=\"translate(0.0 7.0 ) \">\n            <text class=\"axis-text-x\" text-anchor=\"middle\" dy=\"0.7em\">\n            20\n            </text>\n          </g>\n        </g>\n        <g transform=\"translate(347.58502864215575 0.0 ) \">\n          <line stroke-width=\"1.0\" stroke=\"rgb(71,71,71)\" stroke-opacity=\"1.0\" x2=\"0.0\" y2=\"4.0\">\n          </line>\n          <g transform=\"translate(0.0 7.0 ) \">\n            <text class=\"axis-text-x\" text-anchor=\"middle\" dy=\"0.7em\">\n            25\n            </text>\n          </g>\n        </g>\n        <g transform=\"translate(417.1020343705869 0.0 ) \">\n          <line stroke-width=\"1.0\" stroke=\"rgb(71,71,71)\" stroke-opacity=\"1.0\" x2=\"0.0\" y2=\"4.0\">\n          </line>\n          <g transform=\"translate(0.0 7.0 ) \">\n            <text class=\"axis-text-x\" text-anchor=\"middle\" dy=\"0.7em\">\n            30\n            </text>\n          </g>\n        </g>\n        <g transform=\"translate(486.61904009901804 0.0 ) \">\n          <line stroke-width=\"1.0\" stroke=\"rgb(71,71,71)\" stroke-opacity=\"1.0\" x2=\"0.0\" y2=\"4.0\">\n          </line>\n          <g transform=\"translate(0.0 7.0 ) \">\n            <text class=\"axis-text-x\" text-anchor=\"middle\" dy=\"0.7em\">\n            35\n            </text>\n          </g>\n        </g>\n        <line x1=\"0.0\" y1=\"0.0\" x2=\"510.94999210396895\" y2=\"0.0\" stroke-width=\"1.0\" stroke=\"rgb(71,71,71)\" stroke-opacity=\"1.0\">\n        </line>\n      </g>\n      <g transform=\"translate(56.050007896031026 0.0 ) \">\n        <line x1=\"0.0\" y1=\"271.6279069767442\" x2=\"510.94999210396895\" y2=\"271.6279069767442\" stroke=\"rgb(233,233,233)\" stroke-opacity=\"1.0\" stroke-width=\"1.0\">\n        </line>\n        <line x1=\"0.0\" y1=\"197.20930232558143\" x2=\"510.94999210396895\" y2=\"197.20930232558143\" stroke=\"rgb(233,233,233)\" stroke-opacity=\"1.0\" stroke-width=\"1.0\">\n        </line>\n        <line x1=\"0.0\" y1=\"122.79069767441865\" x2=\"510.94999210396895\" y2=\"122.79069767441865\" stroke=\"rgb(233,233,233)\" stroke-opacity=\"1.0\" stroke-width=\"1.0\">\n        </line>\n        <line x1=\"0.0\" y1=\"48.37209302325587\" x2=\"510.94999210396895\" y2=\"48.37209302325587\" stroke=\"rgb(233,233,233)\" stroke-opacity=\"1.0\" stroke-width=\"1.0\">\n        </line>\n        <g transform=\"translate(0.0 271.6279069767442 ) \">\n          <g transform=\"translate(-3.0 0.0 ) \">\n            <text class=\"axis-text-y\" text-anchor=\"end\" dy=\"0.35em\">\n            metro\n            </text>\n          </g>\n        </g>\n        <g transform=\"translate(0.0 197.20930232558143 ) \">\n          <g transform=\"translate(-3.0 0.0 ) \">\n            <text class=\"axis-text-y\" text-anchor=\"end\" dy=\"0.35em\">\n            bicycle\n            </text>\n          </g>\n        </g>\n        <g transform=\"translate(0.0 122.79069767441865 ) \">\n          <g transform=\"translate(-3.0 0.0 ) \">\n            <text class=\"axis-text-y\" text-anchor=\"end\" dy=\"0.35em\">\n            car\n            </text>\n          </g>\n        </g>\n        <g transform=\"translate(0.0 48.37209302325587 ) \">\n          <g transform=\"translate(-3.0 0.0 ) \">\n            <text class=\"axis-text-y\" text-anchor=\"end\" dy=\"0.35em\">\n            bus\n            </text>\n          </g>\n        </g>\n      </g>\n      <g transform=\"translate(56.050007896031026 0.0 ) \" clip-path=\"url(#c4upTdX)\" clip-bounds-jfx=\"[rect (0.0, 0.0), (510.94999210396895, 320.0)]\">\n        <defs>\n          <clipPath id=\"c4upTdX\">\n            <rect x=\"0.0\" y=\"0.0\" width=\"510.94999210396895\" height=\"320.0\">\n            </rect>\n          </clipPath>\n        </defs>\n        <rect x=\"0.0\" y=\"14.883720930232641\" height=\"66.97674418604649\" width=\"486.61904009901804\" stroke=\"rgb(255,255,255)\" stroke-opacity=\"1.0\" fill=\"rgb(255,215,0)\" fill-opacity=\"1.0\" stroke-width=\"1.6500000000000001\">\n        </rect>\n        <rect x=\"0.0\" y=\"89.3023255813954\" height=\"66.97674418604652\" width=\"41.71020343705869\" stroke=\"rgb(255,255,255)\" stroke-opacity=\"1.0\" fill=\"rgb(255,99,71)\" fill-opacity=\"1.0\" stroke-width=\"1.6500000000000001\">\n        </rect>\n        <rect x=\"0.0\" y=\"163.72093023255817\" height=\"66.97674418604652\" width=\"403.1986332249007\" stroke=\"rgb(255,255,255)\" stroke-opacity=\"1.0\" fill=\"rgb(50,205,50)\" fill-opacity=\"1.0\" stroke-width=\"1.6500000000000001\">\n        </rect>\n        <rect x=\"0.0\" y=\"238.13953488372096\" height=\"66.97674418604652\" width=\"291.9714240594108\" stroke=\"rgb(255,255,255)\" stroke-opacity=\"1.0\" fill=\"rgb(65,105,225)\" fill-opacity=\"1.0\" stroke-width=\"1.6500000000000001\">\n        </rect>\n      </g>\n    </g>\n    <g transform=\"translate(79.05000789603102 15.2 ) \">\n      <text class=\"plot-title\" y=\"0.0\">\n      Distribution of transport used by students\n      </text>\n    </g>\n    <g transform=\"translate(14.5 194.0 ) rotate(-90.0 ) \">\n      <text class=\"axis-title-y\" y=\"0.0\" text-anchor=\"middle\">\n      transport\n      </text>\n    </g>\n    <g transform=\"translate(334.5250039480155 391.5 ) \">\n      <text class=\"axis-title-x\" y=\"0.0\" text-anchor=\"middle\">\n      count\n      </text>\n    </g>\n    <path fill=\"rgb(0,0,0)\" fill-opacity=\"0.0\" stroke=\"rgb(71,71,71)\" stroke-opacity=\"1.0\" stroke-width=\"0.0\" d=\"M0.0 0.0 L0.0 400.0 L600.0 400.0 L600.0 0.0 Z\">\n    </path>\n  </g>\n  <g id=\"dSaxG1S\">\n  </g>\n</svg>\n        <script>document.getElementById(\"160f2ac6-701d-4a21-8f87-fc562db05688\").style.display = \"none\";</script>",
      "application/plot+json": {
       "output_type": "lets_plot_spec",
       "output": {
        "ggtitle": {
         "text": "Distribution of transport used by students"
        },
        "mapping": {},
        "data": {},
        "kind": "plot",
        "scales": [
         {
          "aesthetic": "x",
          "limits": [
           null,
           null
          ]
         },
         {
          "aesthetic": "y",
          "discrete": true
         },
         {
          "aesthetic": "fill",
          "values": [
           "#FFD700",
           "#FF6347",
           "#32CD32",
           "#4169E1"
          ],
          "limits": [
           "bus",
           "car",
           "bicycle",
           "metro"
          ],
          "guide": "none"
         }
        ],
        "layers": [
         {
          "mapping": {
           "x": "count",
           "y": "transport",
           "fill": "transport"
          },
          "stat": "identity",
          "orientation": "y",
          "data": {
           "count": [
            21.0,
            29.0,
            3.0,
            35.0
           ],
           "transport": [
            "metro",
            "bicycle",
            "car",
            "bus"
           ]
          },
          "sampling": "none",
          "position": "dodge",
          "geom": "bar"
         }
        ]
       },
       "apply_color_scheme": true,
       "swing_enabled": true
      }
     },
     "execution_count": 8,
     "metadata": {},
     "output_type": "execute_result"
    }
   ],
   "source": [
    "val transports = listOf(\n",
    "    \"metro\", \"bicycle\", \"car\", \"bus\", \"bus\", \"bicycle\", \"bicycle\", \"bus\", \"bus\", \"bus\",\n",
    "    \"bus\", \"bus\", \"bus\", \"bus\", \"bicycle\", \"bicycle\", \"bus\", \"bicycle\", \"bus\", \"car\",\n",
    "    \"metro\", \"bus\", \"metro\", \"metro\", \"bus\", \"bus\", \"bus\", \"metro\", \"bicycle\", \"metro\",\n",
    "    \"bus\", \"metro\", \"bicycle\", \"metro\", \"bicycle\", \"bicycle\", \"bus\", \"bicycle\", \"metro\",\n",
    "    \"bicycle\", \"metro\", \"bicycle\", \"bus\", \"bicycle\", \"bus\", \"bicycle\", \"bicycle\", \"bicycle\",\n",
    "    \"bus\", \"bicycle\", \"metro\", \"bus\", \"bicycle\", \"bus\", \"bus\", \"bus\", \"bus\", \"bus\", \"bus\",\n",
    "    \"metro\", \"metro\", \"bicycle\", \"metro\", \"bus\", \"bus\", \"metro\", \"metro\", \"bicycle\", \"bus\",\n",
    "    \"metro\", \"metro\", \"bicycle\", \"bus\", \"bus\", \"bicycle\", \"car\", \"bus\", \"bicycle\", \"bus\",\n",
    "    \"metro\", \"bus\", \"metro\", \"bicycle\", \"metro\", \"bicycle\", \"bicycle\", \"bicycle\", \"bicycle\"\n",
    ")\n",
    "\n",
    "plot {\n",
    "    statCount(transports) {\n",
    "        val transport = Stat.x named \"transport\"\n",
    "        barsH {\n",
    "            x(Stat.count)\n",
    "            y(transport)\n",
    "            fillColor(transport) {\n",
    "                scale = categorical(\n",
    "                    \"bus\" to Color.hex(\"#FFD700\"),\n",
    "                    \"car\" to Color.hex(\"#FF6347\"),\n",
    "                    \"bicycle\" to Color.hex(\"#32CD32\"),\n",
    "                    \"metro\" to Color.hex(\"#4169E1\")\n",
    "                )\n",
    "                legend.type = LegendType.None\n",
    "            }\n",
    "        }\n",
    "    }\n",
    "    layout.title = \"Distribution of transport used by students\"\n",
    "}"
   ],
   "metadata": {
    "collapsed": false,
    "ExecuteTime": {
     "end_time": "2023-11-22T10:07:19.564296Z",
     "start_time": "2023-11-22T10:07:19.221071Z"
    }
   }
  }
 ],
 "metadata": {
  "kernelspec": {
   "display_name": "Kotlin",
   "language": "kotlin",
   "name": "kotlin"
  },
  "language_info": {
   "name": "kotlin",
   "version": "1.9.0",
   "mimetype": "text/x-kotlin",
   "file_extension": ".kt",
   "pygments_lexer": "kotlin",
   "codemirror_mode": "text/x-kotlin",
   "nbconvert_exporter": ""
  },
  "ktnbPluginMetadata": {
   "projectLibraries": []
  }
 },
 "nbformat": 4,
 "nbformat_minor": 0
}
