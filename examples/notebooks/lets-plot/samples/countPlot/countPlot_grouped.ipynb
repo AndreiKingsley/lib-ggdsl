{
 "cells": [
  {
   "cell_type": "code",
   "execution_count": 1,
   "metadata": {
    "collapsed": true,
    "ExecuteTime": {
     "end_time": "2023-11-22T09:53:41.450485Z",
     "start_time": "2023-11-22T09:53:28.258333Z"
    }
   },
   "outputs": [],
   "source": [
    "%useLatestDescriptors\n",
    "%use kandy\n",
    "%use dataframe"
   ]
  },
  {
   "cell_type": "code",
   "execution_count": 6,
   "outputs": [
    {
     "data": {
      "text/html": "            <iframe src='about:blank' style='border:none !important;' width='600' height='400' srcdoc=\"&lt;html lang=&quot;en&quot;>\n   &lt;head>\n       &lt;style> html, body { margin: 0; overflow: hidden; } &lt;/style>\n       &lt;script type=&quot;text/javascript&quot; data-lets-plot-script=&quot;library&quot; src=&quot;https://cdn.jsdelivr.net/gh/JetBrains/lets-plot@v4.0.1/js-package/distr/lets-plot.min.js&quot;>&lt;/script>\n   &lt;/head>\n   &lt;body>\n          &lt;div id=&quot;WehAP8&quot;>&lt;/div>\n   &lt;script type=&quot;text/javascript&quot; data-lets-plot-script=&quot;plot&quot;>\n       var plotSpec={\n&quot;mapping&quot;:{\n},\n&quot;data&quot;:{\n},\n&quot;kind&quot;:&quot;plot&quot;,\n&quot;scales&quot;:[{\n&quot;aesthetic&quot;:&quot;x&quot;,\n&quot;name&quot;:&quot;year&quot;,\n&quot;limits&quot;:[null,null]\n},{\n&quot;aesthetic&quot;:&quot;x&quot;,\n&quot;discrete&quot;:true\n},{\n&quot;aesthetic&quot;:&quot;y&quot;,\n&quot;limits&quot;:[null,null]\n},{\n&quot;aesthetic&quot;:&quot;fill&quot;,\n&quot;discrete&quot;:true\n}],\n&quot;layers&quot;:[{\n&quot;mapping&quot;:{\n&quot;x&quot;:&quot;x&quot;,\n&quot;y&quot;:&quot;count&quot;,\n&quot;fill&quot;:&quot;category&quot;,\n&quot;group&quot;:&quot;&amp;merged_groups&quot;\n},\n&quot;stat&quot;:&quot;identity&quot;,\n&quot;data&quot;:{\n&quot;&amp;merged_groups&quot;:[&quot;easy&quot;,&quot;easy&quot;,&quot;medium&quot;,&quot;medium&quot;,&quot;hard&quot;,&quot;hard&quot;],\n&quot;x&quot;:[&quot;2022&quot;,&quot;2023&quot;,&quot;2022&quot;,&quot;2023&quot;,&quot;2022&quot;,&quot;2023&quot;],\n&quot;count&quot;:[8.0,7.0,6.0,11.0,12.0,11.0],\n&quot;category&quot;:[&quot;easy&quot;,&quot;easy&quot;,&quot;medium&quot;,&quot;medium&quot;,&quot;hard&quot;,&quot;hard&quot;]\n},\n&quot;sampling&quot;:&quot;none&quot;,\n&quot;position&quot;:&quot;dodge&quot;,\n&quot;geom&quot;:&quot;bar&quot;\n}]\n};\n       var plotContainer = document.getElementById(&quot;WehAP8&quot;);\n       LetsPlot.buildPlotFromProcessedSpecs(plotSpec, -1, -1, plotContainer);\n   &lt;/script>\n   &lt;/body>\n&lt;/html>\"></iframe>            \n        <svg id=9a78841b-28d0-4c48-b33f-22046c5c7d92 xmlns=\"http://www.w3.org/2000/svg\" xmlns:xlink=\"http://www.w3.org/1999/xlink\" class=\"plt-container\" width=\"600.0\" height=\"400.0\">\n  <style type=\"text/css\">\n  .plt-container {\n   font-family: Lucida Grande, sans-serif;\n   user-select: none;\n   -webkit-user-select: none;\n   -moz-user-select: none;\n   -ms-user-select: none;\n}\ntext {\n   text-rendering: optimizeLegibility;\n}\n#p4l4NGq .plot-title {\n   fill: #474747;\n   font-family: Lucida Grande, sans-serif;\n   font-size: 16.0px;\n   font-weight: normal;\n   font-style: normal;   \n}\n#p4l4NGq .plot-subtitle {\n   fill: #474747;\n   font-family: Lucida Grande, sans-serif;\n   font-size: 15.0px;\n   font-weight: normal;\n   font-style: normal;   \n}\n#p4l4NGq .plot-caption {\n   fill: #474747;\n   font-family: Lucida Grande, sans-serif;\n   font-size: 13.0px;\n   font-weight: normal;\n   font-style: normal;   \n}\n#p4l4NGq .legend-title {\n   fill: #474747;\n   font-family: Lucida Grande, sans-serif;\n   font-size: 15.0px;\n   font-weight: normal;\n   font-style: normal;   \n}\n#p4l4NGq .legend-item {\n   fill: #474747;\n   font-family: Lucida Grande, sans-serif;\n   font-size: 13.0px;\n   font-weight: normal;\n   font-style: normal;   \n}\n#p4l4NGq .axis-title-x {\n   fill: #474747;\n   font-family: Lucida Grande, sans-serif;\n   font-size: 15.0px;\n   font-weight: normal;\n   font-style: normal;   \n}\n#p4l4NGq .axis-text-x {\n   fill: #474747;\n   font-family: Lucida Grande, sans-serif;\n   font-size: 13.0px;\n   font-weight: normal;\n   font-style: normal;   \n}\n#dDM0smB .axis-tooltip-text-x {\n   fill: #ffffff;\n   font-family: Lucida Grande, sans-serif;\n   font-size: 13.0px;\n   font-weight: normal;\n   font-style: normal;   \n}\n#p4l4NGq .axis-title-y {\n   fill: #474747;\n   font-family: Lucida Grande, sans-serif;\n   font-size: 15.0px;\n   font-weight: normal;\n   font-style: normal;   \n}\n#p4l4NGq .axis-text-y {\n   fill: #474747;\n   font-family: Lucida Grande, sans-serif;\n   font-size: 13.0px;\n   font-weight: normal;\n   font-style: normal;   \n}\n#dDM0smB .axis-tooltip-text-y {\n   fill: #ffffff;\n   font-family: Lucida Grande, sans-serif;\n   font-size: 13.0px;\n   font-weight: normal;\n   font-style: normal;   \n}\n#p4l4NGq .facet-strip-text-x {\n   fill: #474747;\n   font-family: Lucida Grande, sans-serif;\n   font-size: 13.0px;\n   font-weight: normal;\n   font-style: normal;   \n}\n#p4l4NGq .facet-strip-text-y {\n   fill: #474747;\n   font-family: Lucida Grande, sans-serif;\n   font-size: 13.0px;\n   font-weight: normal;\n   font-style: normal;   \n}\n#dDM0smB .tooltip-text {\n   fill: #474747;\n   font-family: Lucida Grande, sans-serif;\n   font-size: 13.0px;\n   font-weight: normal;\n   font-style: normal;   \n}\n#dDM0smB .tooltip-title {\n   fill: #474747;\n   font-family: Lucida Grande, sans-serif;\n   font-size: 13.0px;\n   font-weight: bold;\n   font-style: normal;   \n}\n#dDM0smB .tooltip-label {\n   fill: #474747;\n   font-family: Lucida Grande, sans-serif;\n   font-size: 13.0px;\n   font-weight: bold;\n   font-style: normal;   \n}\n\n  </style>\n  <g id=\"p4l4NGq\">\n    <path fill-rule=\"evenodd\" fill=\"rgb(255,255,255)\" fill-opacity=\"1.0\" d=\"M0.0 0.0 L0.0 400.0 L600.0 400.0 L600.0 0.0 Z\">\n    </path>\n    <g transform=\"translate(23.0 10.0 ) \">\n      <g transform=\"translate(21.961210910936405 344.0 ) \">\n        <line x1=\"126.12888846748531\" y1=\"-0.0\" x2=\"126.12888846748531\" y2=\"-344.0\" stroke=\"rgb(233,233,233)\" stroke-opacity=\"1.0\" stroke-width=\"1.0\">\n        </line>\n        <line x1=\"320.17333226361654\" y1=\"-0.0\" x2=\"320.17333226361654\" y2=\"-344.0\" stroke=\"rgb(233,233,233)\" stroke-opacity=\"1.0\" stroke-width=\"1.0\">\n        </line>\n        <g transform=\"translate(126.12888846748531 0.0 ) \">\n          <line stroke-width=\"1.0\" stroke=\"rgb(71,71,71)\" stroke-opacity=\"1.0\" x2=\"0.0\" y2=\"4.0\">\n          </line>\n          <g transform=\"translate(0.0 7.0 ) \">\n            <text class=\"axis-text-x\" text-anchor=\"middle\" dy=\"0.7em\">\n            2022\n            </text>\n          </g>\n        </g>\n        <g transform=\"translate(320.17333226361654 0.0 ) \">\n          <line stroke-width=\"1.0\" stroke=\"rgb(71,71,71)\" stroke-opacity=\"1.0\" x2=\"0.0\" y2=\"4.0\">\n          </line>\n          <g transform=\"translate(0.0 7.0 ) \">\n            <text class=\"axis-text-x\" text-anchor=\"middle\" dy=\"0.7em\">\n            2023\n            </text>\n          </g>\n        </g>\n        <line x1=\"0.0\" y1=\"0.0\" x2=\"446.30222073110184\" y2=\"0.0\" stroke-width=\"1.0\" stroke=\"rgb(71,71,71)\" stroke-opacity=\"1.0\">\n        </line>\n      </g>\n      <g transform=\"translate(21.961210910936405 0.0 ) \">\n        <line x1=\"0.0\" y1=\"289.3968253968254\" x2=\"446.30222073110184\" y2=\"289.3968253968254\" stroke=\"rgb(233,233,233)\" stroke-opacity=\"1.0\" stroke-width=\"1.0\">\n        </line>\n        <line x1=\"0.0\" y1=\"234.79365079365078\" x2=\"446.30222073110184\" y2=\"234.79365079365078\" stroke=\"rgb(233,233,233)\" stroke-opacity=\"1.0\" stroke-width=\"1.0\">\n        </line>\n        <line x1=\"0.0\" y1=\"180.19047619047618\" x2=\"446.30222073110184\" y2=\"180.19047619047618\" stroke=\"rgb(233,233,233)\" stroke-opacity=\"1.0\" stroke-width=\"1.0\">\n        </line>\n        <line x1=\"0.0\" y1=\"125.58730158730157\" x2=\"446.30222073110184\" y2=\"125.58730158730157\" stroke=\"rgb(233,233,233)\" stroke-opacity=\"1.0\" stroke-width=\"1.0\">\n        </line>\n        <line x1=\"0.0\" y1=\"70.98412698412699\" x2=\"446.30222073110184\" y2=\"70.98412698412699\" stroke=\"rgb(233,233,233)\" stroke-opacity=\"1.0\" stroke-width=\"1.0\">\n        </line>\n        <line x1=\"0.0\" y1=\"16.38095238095235\" x2=\"446.30222073110184\" y2=\"16.38095238095235\" stroke=\"rgb(233,233,233)\" stroke-opacity=\"1.0\" stroke-width=\"1.0\">\n        </line>\n        <g transform=\"translate(0.0 344.0 ) \">\n          <g transform=\"translate(-3.0 0.0 ) \">\n            <text class=\"axis-text-y\" text-anchor=\"end\" dy=\"0.35em\">\n            0\n            </text>\n          </g>\n        </g>\n        <g transform=\"translate(0.0 289.3968253968254 ) \">\n          <g transform=\"translate(-3.0 0.0 ) \">\n            <text class=\"axis-text-y\" text-anchor=\"end\" dy=\"0.35em\">\n            2\n            </text>\n          </g>\n        </g>\n        <g transform=\"translate(0.0 234.79365079365078 ) \">\n          <g transform=\"translate(-3.0 0.0 ) \">\n            <text class=\"axis-text-y\" text-anchor=\"end\" dy=\"0.35em\">\n            4\n            </text>\n          </g>\n        </g>\n        <g transform=\"translate(0.0 180.19047619047618 ) \">\n          <g transform=\"translate(-3.0 0.0 ) \">\n            <text class=\"axis-text-y\" text-anchor=\"end\" dy=\"0.35em\">\n            6\n            </text>\n          </g>\n        </g>\n        <g transform=\"translate(0.0 125.58730158730157 ) \">\n          <g transform=\"translate(-3.0 0.0 ) \">\n            <text class=\"axis-text-y\" text-anchor=\"end\" dy=\"0.35em\">\n            8\n            </text>\n          </g>\n        </g>\n        <g transform=\"translate(0.0 70.98412698412699 ) \">\n          <g transform=\"translate(-3.0 0.0 ) \">\n            <text class=\"axis-text-y\" text-anchor=\"end\" dy=\"0.35em\">\n            10\n            </text>\n          </g>\n        </g>\n        <g transform=\"translate(0.0 16.38095238095235 ) \">\n          <g transform=\"translate(-3.0 0.0 ) \">\n            <text class=\"axis-text-y\" text-anchor=\"end\" dy=\"0.35em\">\n            12\n            </text>\n          </g>\n        </g>\n      </g>\n      <g transform=\"translate(21.961210910936405 0.0 ) \" clip-path=\"url(#cLqdH8k)\" clip-bounds-jfx=\"[rect (0.0, 0.0), (446.30222073110184, 344.0)]\">\n        <defs>\n          <clipPath id=\"cLqdH8k\">\n            <rect x=\"0.0\" y=\"0.0\" width=\"446.30222073110184\" height=\"344.0\">\n            </rect>\n          </clipPath>\n        </defs>\n        <rect x=\"349.27999883303625\" y=\"43.68253968253964\" height=\"300.31746031746036\" width=\"58.213333138839346\" stroke=\"rgb(255,255,255)\" stroke-opacity=\"1.0\" fill=\"rgb(77,175,74)\" fill-opacity=\"1.0\" stroke-width=\"1.6500000000000001\">\n        </rect>\n        <rect x=\"155.235555036905\" y=\"16.38095238095235\" height=\"327.61904761904765\" width=\"58.2133331388394\" stroke=\"rgb(255,255,255)\" stroke-opacity=\"1.0\" fill=\"rgb(77,175,74)\" fill-opacity=\"1.0\" stroke-width=\"1.6500000000000001\">\n        </rect>\n        <rect x=\"291.0666656941969\" y=\"43.68253968253964\" height=\"300.31746031746036\" width=\"58.213333138839346\" stroke=\"rgb(255,255,255)\" stroke-opacity=\"1.0\" fill=\"rgb(55,126,184)\" fill-opacity=\"1.0\" stroke-width=\"1.6500000000000001\">\n        </rect>\n        <rect x=\"97.02222189806562\" y=\"180.19047619047618\" height=\"163.80952380952382\" width=\"58.213333138839374\" stroke=\"rgb(255,255,255)\" stroke-opacity=\"1.0\" fill=\"rgb(55,126,184)\" fill-opacity=\"1.0\" stroke-width=\"1.6500000000000001\">\n        </rect>\n        <rect x=\"232.8533325553575\" y=\"152.88888888888886\" height=\"191.11111111111114\" width=\"58.2133331388394\" stroke=\"rgb(255,255,255)\" stroke-opacity=\"1.0\" fill=\"rgb(228,26,28)\" fill-opacity=\"1.0\" stroke-width=\"1.6500000000000001\">\n        </rect>\n        <rect x=\"38.80888875922625\" y=\"125.58730158730157\" height=\"218.41269841269843\" width=\"58.213333138839374\" stroke=\"rgb(255,255,255)\" stroke-opacity=\"1.0\" fill=\"rgb(228,26,28)\" fill-opacity=\"1.0\" stroke-width=\"1.6500000000000001\">\n        </rect>\n      </g>\n    </g>\n    <g transform=\"translate(14.5 182.0 ) rotate(-90.0 ) \">\n      <text class=\"axis-title-y\" y=\"0.0\" text-anchor=\"middle\">\n      count\n      </text>\n    </g>\n    <g transform=\"translate(268.1123212764873 391.5 ) \">\n      <text class=\"axis-title-x\" y=\"0.0\" text-anchor=\"middle\">\n      year\n      </text>\n    </g>\n    <g transform=\"translate(501.26343164203826 126.25 ) \">\n      <rect x=\"5.0\" y=\"5.0\" height=\"101.5\" width=\"88.73656835796173\" stroke=\"rgb(71,71,71)\" stroke-opacity=\"1.0\" stroke-width=\"0.0\" fill=\"rgb(255,255,255)\" fill-opacity=\"1.0\">\n      </rect>\n      <g transform=\"translate(10.0 10.0 ) \">\n        <g transform=\"translate(0.0 10.5 ) \">\n          <text class=\"legend-title\" y=\"0.0\">\n          category\n          </text>\n        </g>\n        <g transform=\"translate(0.0 22.5 ) \">\n          <g transform=\"\">\n            <g>\n              <rect x=\"0.0\" y=\"0.0\" height=\"23.0\" width=\"23.0\" stroke-width=\"0.0\" fill=\"rgb(255,255,255)\" fill-opacity=\"1.0\">\n              </rect>\n              <g transform=\"translate(1.0 1.0 ) \">\n                <g>\n                  <rect x=\"0.0\" y=\"0.0\" height=\"21.0\" width=\"21.0\" stroke=\"rgb(255,255,255)\" stroke-opacity=\"1.0\" fill=\"rgb(228,26,28)\" fill-opacity=\"1.0\" stroke-width=\"1.5\">\n                  </rect>\n                </g>\n              </g>\n              <rect x=\"0.0\" y=\"0.0\" height=\"23.0\" width=\"23.0\" stroke=\"rgb(255,255,255)\" stroke-opacity=\"1.0\" stroke-width=\"1.0\" fill-opacity=\"0.0\">\n              </rect>\n            </g>\n            <g transform=\"translate(26.9903027277341 16.05 ) \">\n              <text class=\"legend-item\" y=\"0.0\">\n              easy\n              </text>\n            </g>\n          </g>\n          <g transform=\"translate(0.0 23.0 ) \">\n            <g>\n              <rect x=\"0.0\" y=\"0.0\" height=\"23.0\" width=\"23.0\" stroke-width=\"0.0\" fill=\"rgb(255,255,255)\" fill-opacity=\"1.0\">\n              </rect>\n              <g transform=\"translate(1.0 1.0 ) \">\n                <g>\n                  <rect x=\"0.0\" y=\"0.0\" height=\"21.0\" width=\"21.0\" stroke=\"rgb(255,255,255)\" stroke-opacity=\"1.0\" fill=\"rgb(55,126,184)\" fill-opacity=\"1.0\" stroke-width=\"1.5\">\n                  </rect>\n                </g>\n              </g>\n              <rect x=\"0.0\" y=\"0.0\" height=\"23.0\" width=\"23.0\" stroke=\"rgb(255,255,255)\" stroke-opacity=\"1.0\" stroke-width=\"1.0\" fill-opacity=\"0.0\">\n              </rect>\n            </g>\n            <g transform=\"translate(26.9903027277341 16.05 ) \">\n              <text class=\"legend-item\" y=\"0.0\">\n              medium\n              </text>\n            </g>\n          </g>\n          <g transform=\"translate(0.0 46.0 ) \">\n            <g>\n              <rect x=\"0.0\" y=\"0.0\" height=\"23.0\" width=\"23.0\" stroke-width=\"0.0\" fill=\"rgb(255,255,255)\" fill-opacity=\"1.0\">\n              </rect>\n              <g transform=\"translate(1.0 1.0 ) \">\n                <g>\n                  <rect x=\"0.0\" y=\"0.0\" height=\"21.0\" width=\"21.0\" stroke=\"rgb(255,255,255)\" stroke-opacity=\"1.0\" fill=\"rgb(77,175,74)\" fill-opacity=\"1.0\" stroke-width=\"1.5\">\n                  </rect>\n                </g>\n              </g>\n              <rect x=\"0.0\" y=\"0.0\" height=\"23.0\" width=\"23.0\" stroke=\"rgb(255,255,255)\" stroke-opacity=\"1.0\" stroke-width=\"1.0\" fill-opacity=\"0.0\">\n              </rect>\n            </g>\n            <g transform=\"translate(26.9903027277341 16.05 ) \">\n              <text class=\"legend-item\" y=\"0.0\">\n              hard\n              </text>\n            </g>\n          </g>\n        </g>\n      </g>\n    </g>\n    <path fill=\"rgb(0,0,0)\" fill-opacity=\"0.0\" stroke=\"rgb(71,71,71)\" stroke-opacity=\"1.0\" stroke-width=\"0.0\" d=\"M0.0 0.0 L0.0 400.0 L600.0 400.0 L600.0 0.0 Z\">\n    </path>\n  </g>\n  <g id=\"dDM0smB\">\n  </g>\n</svg>\n        <script>document.getElementById(\"9a78841b-28d0-4c48-b33f-22046c5c7d92\").style.display = \"none\";</script>",
      "application/plot+json": {
       "output_type": "lets_plot_spec",
       "output": {
        "mapping": {},
        "data": {
         "&merged_groups": [
          "easy",
          "easy",
          "easy",
          "easy",
          "easy",
          "easy",
          "easy",
          "easy",
          "easy",
          "easy",
          "easy",
          "easy",
          "easy",
          "easy",
          "easy",
          "medium",
          "medium",
          "medium",
          "medium",
          "medium",
          "medium",
          "medium",
          "medium",
          "medium",
          "medium",
          "medium",
          "medium",
          "medium",
          "medium",
          "medium",
          "medium",
          "medium",
          "hard",
          "hard",
          "hard",
          "hard",
          "hard",
          "hard",
          "hard",
          "hard",
          "hard",
          "hard",
          "hard",
          "hard",
          "hard",
          "hard",
          "hard",
          "hard",
          "hard",
          "hard",
          "hard",
          "hard",
          "hard",
          "hard",
          "hard"
         ],
         "category": [
          "easy",
          "easy",
          "easy",
          "easy",
          "easy",
          "easy",
          "easy",
          "easy",
          "easy",
          "easy",
          "easy",
          "easy",
          "easy",
          "easy",
          "easy",
          "medium",
          "medium",
          "medium",
          "medium",
          "medium",
          "medium",
          "medium",
          "medium",
          "medium",
          "medium",
          "medium",
          "medium",
          "medium",
          "medium",
          "medium",
          "medium",
          "medium",
          "hard",
          "hard",
          "hard",
          "hard",
          "hard",
          "hard",
          "hard",
          "hard",
          "hard",
          "hard",
          "hard",
          "hard",
          "hard",
          "hard",
          "hard",
          "hard",
          "hard",
          "hard",
          "hard",
          "hard",
          "hard",
          "hard",
          "hard"
         ]
        },
        "kind": "plot",
        "scales": [
         {
          "aesthetic": "x",
          "name": "year",
          "limits": [
           null,
           null
          ]
         },
         {
          "aesthetic": "x",
          "discrete": true
         },
         {
          "aesthetic": "y",
          "limits": [
           null,
           null
          ]
         },
         {
          "aesthetic": "fill",
          "discrete": true
         }
        ],
        "layers": [
         {
          "mapping": {
           "x": "x",
           "y": "count",
           "fill": "category",
           "group": "&merged_groups"
          },
          "stat": "identity",
          "data": {
           "&merged_groups": [
            "easy",
            "easy",
            "medium",
            "medium",
            "hard",
            "hard"
           ],
           "x": [
            "2022",
            "2023",
            "2022",
            "2023",
            "2022",
            "2023"
           ],
           "count": [
            8.0,
            7.0,
            6.0,
            11.0,
            12.0,
            11.0
           ],
           "category": [
            "easy",
            "easy",
            "medium",
            "medium",
            "hard",
            "hard"
           ]
          },
          "sampling": "none",
          "position": "dodge",
          "geom": "bar"
         }
        ]
       },
       "apply_color_scheme": true,
       "swing_enabled": true
      }
     },
     "execution_count": 6,
     "metadata": {},
     "output_type": "execute_result"
    }
   ],
   "source": [
    "val categories = listOf(\n",
    "    \"easy\", \"medium\", \"hard\", \"medium\", \"easy\",\n",
    "    \"hard\", \"hard\", \"easy\", \"easy\", \"hard\", \"medium\",\n",
    "    \"hard\", \"easy\", \"easy\", \"easy\", \"medium\",\n",
    "    \"hard\", \"hard\", \"hard\", \"medium\", \"easy\",\n",
    "    \"hard\", \"medium\", \"hard\", \"hard\", \"hard\",\n",
    "    \"medium\", \"medium\", \"easy\", \"medium\", \"hard\",\n",
    "    \"hard\", \"easy\", \"hard\", \"medium\", \"medium\",\n",
    "    \"hard\", \"hard\", \"hard\", \"easy\", \"hard\",\n",
    "    \"hard\", \"easy\", \"medium\", \"medium\", \"hard\",\n",
    "    \"medium\", \"medium\", \"easy\", \"hard\", \"medium\",\n",
    "    \"hard\", \"medium\", \"easy\", \"easy\",\n",
    ")\n",
    "\n",
    "val years = listOf(\n",
    "    \"2022\", \"2022\", \"2022\", \"2022\", \"2022\", \"2022\", \"2022\", \"2022\",\n",
    "    \"2022\", \"2022\", \"2022\", \"2022\", \"2022\", \"2022\", \"2022\", \"2022\",\n",
    "    \"2022\", \"2022\", \"2022\", \"2022\", \"2022\", \"2022\", \"2022\", \"2022\",\n",
    "    \"2022\", \"2022\", \"2023\", \"2023\", \"2023\", \"2023\", \"2023\", \"2023\",\n",
    "    \"2023\", \"2023\", \"2023\", \"2023\", \"2023\", \"2023\", \"2023\", \"2023\",\n",
    "    \"2023\", \"2023\", \"2023\", \"2023\", \"2023\", \"2023\", \"2023\", \"2023\",\n",
    "    \"2023\", \"2023\", \"2023\", \"2023\", \"2023\", \"2023\", \"2023\"\n",
    ")\n",
    "\n",
    "\n",
    "val df = dataFrameOf(\n",
    "    \"category\" to categories,\n",
    "    \"year\" to years\n",
    ")\n",
    "\n",
    "df.groupBy(\"category\").plot {\n",
    "    countPlot(\"year\")\n",
    "}"
   ],
   "metadata": {
    "collapsed": false,
    "ExecuteTime": {
     "end_time": "2023-11-22T09:55:08.854452Z",
     "start_time": "2023-11-22T09:55:08.460898Z"
    }
   }
  }
 ],
 "metadata": {
  "kernelspec": {
   "display_name": "Kotlin",
   "language": "kotlin",
   "name": "kotlin"
  },
  "language_info": {
   "name": "kotlin",
   "version": "1.9.0",
   "mimetype": "text/x-kotlin",
   "file_extension": ".kt",
   "pygments_lexer": "kotlin",
   "codemirror_mode": "text/x-kotlin",
   "nbconvert_exporter": ""
  },
  "ktnbPluginMetadata": {
   "projectLibraries": []
  }
 },
 "nbformat": 4,
 "nbformat_minor": 0
}
