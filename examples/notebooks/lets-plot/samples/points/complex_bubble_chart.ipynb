{
 "cells": [
  {
   "cell_type": "code",
   "execution_count": 1,
   "metadata": {
    "collapsed": true,
    "ExecuteTime": {
     "end_time": "2023-11-20T23:36:16.412881Z",
     "start_time": "2023-11-20T23:36:14.989910Z"
    }
   },
   "outputs": [],
   "source": [
    "%useLatestDescriptors\n",
    "%use dataframe\n",
    "%use kandy"
   ]
  },
  {
   "cell_type": "code",
   "execution_count": 2,
   "outputs": [],
   "source": [
    "val country by columnOf(\n",
    "    \"Australia\", \"Canada\", \"China\", \"Cuba\", \"Finland\", \"France\", \"Germany\",\n",
    "    \"Iceland\", \"India\", \"Japan\", \"North Korea\", \"South Korea\", \"New Zealand\",\n",
    "    \"Norway\", \"Poland\", \"Russia\", \"Turkey\", \"United Kingdom\", \"United States\"\n",
    ")\n",
    "val lifeExp1998 = columnOf(\n",
    "    75.49, 76.03, 66.35, 58.75, 79.64, 82.92, 80.68,\n",
    "    70.71, 60.30, 82.78, 69.57, 74.61, 71.18,\n",
    "    71.43, 75.22, 72.65, 74.56, 75.19, 81.12\n",
    ") named \"lifeExp\"\n",
    "val pop1998 = columnOf(\n",
    "    19000, 30000, 1250000, 11000, 5000,\n",
    "    59000, 82000, 280, 950000, 126000,\n",
    "    24000, 47000, 3800, 4400, 38600,\n",
    "    147000, 63000, 59000, 273000\n",
    ") named \"population\"\n",
    "val gdpPerCapita1998 = columnOf(\n",
    "    29000, 32000, 750, 5000, 28000,\n",
    "    27000, 32000, 34000, 450, 33000,\n",
    "    600, 12000, 22000, 40000, 9000,\n",
    "    4000, 3000, 28000, 35000\n",
    ") named \"gdp\"\n",
    "val data1998 = dataFrameOf(country, lifeExp1998, pop1998, gdpPerCapita1998).add(\"year\") { 1998 }\n",
    "\n",
    "val lifeExp2023 = columnOf(\n",
    "    79.44, 73.60, 70.46, 63.34, 72.10, 78.15, 80.70,\n",
    "    79.88, 63.13, 81.53, 59.33, 71.59, 76.56,\n",
    "    71.97, 78.21, 78.38, 79.76, 84.77, 82.39\n",
    ") named \"lifeExp\"\n",
    "val pop2023 = columnOf(\n",
    "    25000, 38000, 1400000, 11300, 5500,\n",
    "    67000, 83000, 340, 1350000, 126000,\n",
    "    25000, 51000, 5000, 5300, 38000,\n",
    "    146000, 82000, 67000, 331000\n",
    ") named \"population\"\n",
    "val gdpPerCapita2023 = columnOf(\n",
    "    55000, 52000, 10000, 7000, 48000,\n",
    "    44000, 50000, 60000, 2000, 45000,\n",
    "    1200, 30000, 34000, 70000, 15000,\n",
    "    9000, 10000, 40000, 60000\n",
    ") named \"gdp\"\n",
    "val data2023 = dataFrameOf(country, lifeExp2023, pop2023, gdpPerCapita2023).add(\"year\") { 2023 }\n",
    "\n",
    "val data = data1998.fullJoin(data2023)"
   ],
   "metadata": {
    "collapsed": false,
    "ExecuteTime": {
     "end_time": "2023-11-20T23:36:30.163204Z",
     "start_time": "2023-11-20T23:36:29.073794Z"
    }
   }
  },
  {
   "cell_type": "code",
   "execution_count": 3,
   "outputs": [
    {
     "data": {
      "text/html": "            <iframe src='about:blank' style='border:none !important;' width='600' height='400' srcdoc=\"&lt;html lang=&quot;en&quot;>\n   &lt;head>\n       &lt;style> html, body { margin: 0; overflow: hidden; } &lt;/style>\n       &lt;script type=&quot;text/javascript&quot; data-lets-plot-script=&quot;library&quot; src=&quot;https://cdn.jsdelivr.net/gh/JetBrains/lets-plot@v4.0.1/js-package/distr/lets-plot.min.js&quot;>&lt;/script>\n   &lt;/head>\n   &lt;body>\n          &lt;div id=&quot;DmFGuc&quot;>&lt;/div>\n   &lt;script type=&quot;text/javascript&quot; data-lets-plot-script=&quot;plot&quot;>\n       var plotSpec={\n&quot;ggtitle&quot;:{\n&quot;text&quot;:&quot;Life Expectancy and GDP by Country&quot;\n},\n&quot;mapping&quot;:{\n},\n&quot;data&quot;:{\n&quot;gdp&quot;:[29000.0,32000.0,750.0,5000.0,28000.0,27000.0,32000.0,34000.0,450.0,33000.0,600.0,12000.0,22000.0,40000.0,9000.0,4000.0,3000.0,28000.0,35000.0,55000.0,52000.0,10000.0,7000.0,48000.0,44000.0,50000.0,60000.0,2000.0,45000.0,1200.0,30000.0,34000.0,70000.0,15000.0,9000.0,10000.0,40000.0,60000.0],\n&quot;&amp;merged_groups&quot;:[&quot;1998&quot;,&quot;1998&quot;,&quot;1998&quot;,&quot;1998&quot;,&quot;1998&quot;,&quot;1998&quot;,&quot;1998&quot;,&quot;1998&quot;,&quot;1998&quot;,&quot;1998&quot;,&quot;1998&quot;,&quot;1998&quot;,&quot;1998&quot;,&quot;1998&quot;,&quot;1998&quot;,&quot;1998&quot;,&quot;1998&quot;,&quot;1998&quot;,&quot;1998&quot;,&quot;2023&quot;,&quot;2023&quot;,&quot;2023&quot;,&quot;2023&quot;,&quot;2023&quot;,&quot;2023&quot;,&quot;2023&quot;,&quot;2023&quot;,&quot;2023&quot;,&quot;2023&quot;,&quot;2023&quot;,&quot;2023&quot;,&quot;2023&quot;,&quot;2023&quot;,&quot;2023&quot;,&quot;2023&quot;,&quot;2023&quot;,&quot;2023&quot;,&quot;2023&quot;],\n&quot;year&quot;:[1998.0,1998.0,1998.0,1998.0,1998.0,1998.0,1998.0,1998.0,1998.0,1998.0,1998.0,1998.0,1998.0,1998.0,1998.0,1998.0,1998.0,1998.0,1998.0,2023.0,2023.0,2023.0,2023.0,2023.0,2023.0,2023.0,2023.0,2023.0,2023.0,2023.0,2023.0,2023.0,2023.0,2023.0,2023.0,2023.0,2023.0,2023.0],\n&quot;lifeExp&quot;:[75.49,76.03,66.35,58.75,79.64,82.92,80.68,70.71,60.3,82.78,69.57,74.61,71.18,71.43,75.22,72.65,74.56,75.19,81.12,79.44,73.6,70.46,63.34,72.1,78.15,80.7,79.88,63.13,81.53,59.33,71.59,76.56,71.97,78.21,78.38,79.76,84.77,82.39],\n&quot;population&quot;:[19000.0,30000.0,1250000.0,11000.0,5000.0,59000.0,82000.0,280.0,950000.0,126000.0,24000.0,47000.0,3800.0,4400.0,38600.0,147000.0,63000.0,59000.0,273000.0,25000.0,38000.0,1400000.0,11300.0,5500.0,67000.0,83000.0,340.0,1350000.0,126000.0,25000.0,51000.0,5000.0,5300.0,38000.0,146000.0,82000.0,67000.0,331000.0]\n},\n&quot;kind&quot;:&quot;plot&quot;,\n&quot;scales&quot;:[{\n&quot;aesthetic&quot;:&quot;x&quot;,\n&quot;name&quot;:&quot;GDP per capita (in dollars)&quot;,\n&quot;limits&quot;:[null,null]\n},{\n&quot;aesthetic&quot;:&quot;y&quot;,\n&quot;name&quot;:&quot;Life expectancy (years)&quot;,\n&quot;limits&quot;:[null,null]\n},{\n&quot;aesthetic&quot;:&quot;size&quot;,\n&quot;range&quot;:[5.0,20.0],\n&quot;limits&quot;:[null,null],\n&quot;guide&quot;:&quot;none&quot;\n},{\n&quot;aesthetic&quot;:&quot;color&quot;,\n&quot;discrete&quot;:true,\n&quot;name&quot;:&quot;&quot;\n}],\n&quot;layers&quot;:[{\n&quot;mapping&quot;:{\n&quot;x&quot;:&quot;gdp&quot;,\n&quot;y&quot;:&quot;lifeExp&quot;,\n&quot;size&quot;:&quot;population&quot;,\n&quot;color&quot;:&quot;year&quot;,\n&quot;group&quot;:&quot;&amp;merged_groups&quot;\n},\n&quot;stat&quot;:&quot;identity&quot;,\n&quot;sampling&quot;:&quot;none&quot;,\n&quot;position&quot;:&quot;identity&quot;,\n&quot;geom&quot;:&quot;point&quot;,\n&quot;data&quot;:{\n}\n}]\n};\n       var plotContainer = document.getElementById(&quot;DmFGuc&quot;);\n       LetsPlot.buildPlotFromProcessedSpecs(plotSpec, -1, -1, plotContainer);\n   &lt;/script>\n   &lt;/body>\n&lt;/html>\"></iframe>            \n        <svg id=b416f43e-dba3-4127-82f1-c32c66efcc79 xmlns=\"http://www.w3.org/2000/svg\" xmlns:xlink=\"http://www.w3.org/1999/xlink\" class=\"plt-container\" width=\"600.0\" height=\"400.0\">\n  <style type=\"text/css\">\n  .plt-container {\n   font-family: Lucida Grande, sans-serif;\n   user-select: none;\n   -webkit-user-select: none;\n   -moz-user-select: none;\n   -ms-user-select: none;\n}\ntext {\n   text-rendering: optimizeLegibility;\n}\n#psEOZec .plot-title {\n   fill: #474747;\n   font-family: Lucida Grande, sans-serif;\n   font-size: 16.0px;\n   font-weight: normal;\n   font-style: normal;   \n}\n#psEOZec .plot-subtitle {\n   fill: #474747;\n   font-family: Lucida Grande, sans-serif;\n   font-size: 15.0px;\n   font-weight: normal;\n   font-style: normal;   \n}\n#psEOZec .plot-caption {\n   fill: #474747;\n   font-family: Lucida Grande, sans-serif;\n   font-size: 13.0px;\n   font-weight: normal;\n   font-style: normal;   \n}\n#psEOZec .legend-title {\n   fill: #474747;\n   font-family: Lucida Grande, sans-serif;\n   font-size: 15.0px;\n   font-weight: normal;\n   font-style: normal;   \n}\n#psEOZec .legend-item {\n   fill: #474747;\n   font-family: Lucida Grande, sans-serif;\n   font-size: 13.0px;\n   font-weight: normal;\n   font-style: normal;   \n}\n#psEOZec .axis-title-x {\n   fill: #474747;\n   font-family: Lucida Grande, sans-serif;\n   font-size: 15.0px;\n   font-weight: normal;\n   font-style: normal;   \n}\n#psEOZec .axis-text-x {\n   fill: #474747;\n   font-family: Lucida Grande, sans-serif;\n   font-size: 13.0px;\n   font-weight: normal;\n   font-style: normal;   \n}\n#dRc84Ys .axis-tooltip-text-x {\n   fill: #ffffff;\n   font-family: Lucida Grande, sans-serif;\n   font-size: 13.0px;\n   font-weight: normal;\n   font-style: normal;   \n}\n#psEOZec .axis-title-y {\n   fill: #474747;\n   font-family: Lucida Grande, sans-serif;\n   font-size: 15.0px;\n   font-weight: normal;\n   font-style: normal;   \n}\n#psEOZec .axis-text-y {\n   fill: #474747;\n   font-family: Lucida Grande, sans-serif;\n   font-size: 13.0px;\n   font-weight: normal;\n   font-style: normal;   \n}\n#dRc84Ys .axis-tooltip-text-y {\n   fill: #ffffff;\n   font-family: Lucida Grande, sans-serif;\n   font-size: 13.0px;\n   font-weight: normal;\n   font-style: normal;   \n}\n#psEOZec .facet-strip-text-x {\n   fill: #474747;\n   font-family: Lucida Grande, sans-serif;\n   font-size: 13.0px;\n   font-weight: normal;\n   font-style: normal;   \n}\n#psEOZec .facet-strip-text-y {\n   fill: #474747;\n   font-family: Lucida Grande, sans-serif;\n   font-size: 13.0px;\n   font-weight: normal;\n   font-style: normal;   \n}\n#dRc84Ys .tooltip-text {\n   fill: #474747;\n   font-family: Lucida Grande, sans-serif;\n   font-size: 13.0px;\n   font-weight: normal;\n   font-style: normal;   \n}\n#dRc84Ys .tooltip-title {\n   fill: #474747;\n   font-family: Lucida Grande, sans-serif;\n   font-size: 13.0px;\n   font-weight: bold;\n   font-style: normal;   \n}\n#dRc84Ys .tooltip-label {\n   fill: #474747;\n   font-family: Lucida Grande, sans-serif;\n   font-size: 13.0px;\n   font-weight: bold;\n   font-style: normal;   \n}\n\n  </style>\n  <g id=\"psEOZec\">\n    <path fill-rule=\"evenodd\" fill=\"rgb(255,255,255)\" fill-opacity=\"1.0\" d=\"M0.0 0.0 L0.0 400.0 L600.0 400.0 L600.0 0.0 Z\">\n    </path>\n    <g transform=\"translate(23.0 34.0 ) \">\n      <g transform=\"translate(21.961210910936405 320.0 ) \">\n        <line x1=\"17.92922535082979\" y1=\"-0.0\" x2=\"17.92922535082979\" y2=\"-320.0\" stroke=\"rgb(233,233,233)\" stroke-opacity=\"1.0\" stroke-width=\"1.0\">\n        </line>\n        <line x1=\"77.15044864011068\" y1=\"-0.0\" x2=\"77.15044864011068\" y2=\"-320.0\" stroke=\"rgb(233,233,233)\" stroke-opacity=\"1.0\" stroke-width=\"1.0\">\n        </line>\n        <line x1=\"136.37167192939157\" y1=\"-0.0\" x2=\"136.37167192939157\" y2=\"-320.0\" stroke=\"rgb(233,233,233)\" stroke-opacity=\"1.0\" stroke-width=\"1.0\">\n        </line>\n        <line x1=\"195.59289521867245\" y1=\"-0.0\" x2=\"195.59289521867245\" y2=\"-320.0\" stroke=\"rgb(233,233,233)\" stroke-opacity=\"1.0\" stroke-width=\"1.0\">\n        </line>\n        <line x1=\"254.81411850795334\" y1=\"-0.0\" x2=\"254.81411850795334\" y2=\"-320.0\" stroke=\"rgb(233,233,233)\" stroke-opacity=\"1.0\" stroke-width=\"1.0\">\n        </line>\n        <line x1=\"314.0353417972342\" y1=\"-0.0\" x2=\"314.0353417972342\" y2=\"-320.0\" stroke=\"rgb(233,233,233)\" stroke-opacity=\"1.0\" stroke-width=\"1.0\">\n        </line>\n        <line x1=\"373.2565650865151\" y1=\"-0.0\" x2=\"373.2565650865151\" y2=\"-320.0\" stroke=\"rgb(233,233,233)\" stroke-opacity=\"1.0\" stroke-width=\"1.0\">\n        </line>\n        <line x1=\"432.47778837579597\" y1=\"-0.0\" x2=\"432.47778837579597\" y2=\"-320.0\" stroke=\"rgb(233,233,233)\" stroke-opacity=\"1.0\" stroke-width=\"1.0\">\n        </line>\n        <g transform=\"translate(17.92922535082979 0.0 ) \">\n          <line stroke-width=\"1.0\" stroke=\"rgb(71,71,71)\" stroke-opacity=\"1.0\" x2=\"0.0\" y2=\"4.0\">\n          </line>\n          <g transform=\"translate(0.0 7.0 ) \">\n            <text class=\"axis-text-x\" text-anchor=\"middle\" dy=\"0.7em\">\n            0\n            </text>\n          </g>\n        </g>\n        <g transform=\"translate(77.15044864011068 0.0 ) \">\n          <line stroke-width=\"1.0\" stroke=\"rgb(71,71,71)\" stroke-opacity=\"1.0\" x2=\"0.0\" y2=\"4.0\">\n          </line>\n          <g transform=\"translate(0.0 7.0 ) \">\n            <text class=\"axis-text-x\" text-anchor=\"middle\" dy=\"0.7em\">\n            10,000\n            </text>\n          </g>\n        </g>\n        <g transform=\"translate(136.37167192939157 0.0 ) \">\n          <line stroke-width=\"1.0\" stroke=\"rgb(71,71,71)\" stroke-opacity=\"1.0\" x2=\"0.0\" y2=\"4.0\">\n          </line>\n          <g transform=\"translate(0.0 7.0 ) \">\n            <text class=\"axis-text-x\" text-anchor=\"middle\" dy=\"0.7em\">\n            20,000\n            </text>\n          </g>\n        </g>\n        <g transform=\"translate(195.59289521867245 0.0 ) \">\n          <line stroke-width=\"1.0\" stroke=\"rgb(71,71,71)\" stroke-opacity=\"1.0\" x2=\"0.0\" y2=\"4.0\">\n          </line>\n          <g transform=\"translate(0.0 7.0 ) \">\n            <text class=\"axis-text-x\" text-anchor=\"middle\" dy=\"0.7em\">\n            30,000\n            </text>\n          </g>\n        </g>\n        <g transform=\"translate(254.81411850795334 0.0 ) \">\n          <line stroke-width=\"1.0\" stroke=\"rgb(71,71,71)\" stroke-opacity=\"1.0\" x2=\"0.0\" y2=\"4.0\">\n          </line>\n          <g transform=\"translate(0.0 7.0 ) \">\n            <text class=\"axis-text-x\" text-anchor=\"middle\" dy=\"0.7em\">\n            40,000\n            </text>\n          </g>\n        </g>\n        <g transform=\"translate(314.0353417972342 0.0 ) \">\n          <line stroke-width=\"1.0\" stroke=\"rgb(71,71,71)\" stroke-opacity=\"1.0\" x2=\"0.0\" y2=\"4.0\">\n          </line>\n          <g transform=\"translate(0.0 7.0 ) \">\n            <text class=\"axis-text-x\" text-anchor=\"middle\" dy=\"0.7em\">\n            50,000\n            </text>\n          </g>\n        </g>\n        <g transform=\"translate(373.2565650865151 0.0 ) \">\n          <line stroke-width=\"1.0\" stroke=\"rgb(71,71,71)\" stroke-opacity=\"1.0\" x2=\"0.0\" y2=\"4.0\">\n          </line>\n          <g transform=\"translate(0.0 7.0 ) \">\n            <text class=\"axis-text-x\" text-anchor=\"middle\" dy=\"0.7em\">\n            60,000\n            </text>\n          </g>\n        </g>\n        <g transform=\"translate(432.47778837579597 0.0 ) \">\n          <line stroke-width=\"1.0\" stroke=\"rgb(71,71,71)\" stroke-opacity=\"1.0\" x2=\"0.0\" y2=\"4.0\">\n          </line>\n          <g transform=\"translate(0.0 7.0 ) \">\n            <text class=\"axis-text-x\" text-anchor=\"middle\" dy=\"0.7em\">\n            70,000\n            </text>\n          </g>\n        </g>\n        <line x1=\"0.0\" y1=\"0.0\" x2=\"453.07196877464344\" y2=\"0.0\" stroke-width=\"1.0\" stroke=\"rgb(71,71,71)\" stroke-opacity=\"1.0\">\n        </line>\n      </g>\n      <g transform=\"translate(21.961210910936405 0.0 ) \">\n        <line x1=\"0.0\" y1=\"291.4792816714415\" x2=\"453.07196877464344\" y2=\"291.4792816714415\" stroke=\"rgb(233,233,233)\" stroke-opacity=\"1.0\" stroke-width=\"1.0\">\n        </line>\n        <line x1=\"0.0\" y1=\"235.57822653902588\" x2=\"453.07196877464344\" y2=\"235.57822653902588\" stroke=\"rgb(233,233,233)\" stroke-opacity=\"1.0\" stroke-width=\"1.0\">\n        </line>\n        <line x1=\"0.0\" y1=\"179.67717140661023\" x2=\"453.07196877464344\" y2=\"179.67717140661023\" stroke=\"rgb(233,233,233)\" stroke-opacity=\"1.0\" stroke-width=\"1.0\">\n        </line>\n        <line x1=\"0.0\" y1=\"123.77611627419458\" x2=\"453.07196877464344\" y2=\"123.77611627419458\" stroke=\"rgb(233,233,233)\" stroke-opacity=\"1.0\" stroke-width=\"1.0\">\n        </line>\n        <line x1=\"0.0\" y1=\"67.87506114177904\" x2=\"453.07196877464344\" y2=\"67.87506114177904\" stroke=\"rgb(233,233,233)\" stroke-opacity=\"1.0\" stroke-width=\"1.0\">\n        </line>\n        <line x1=\"0.0\" y1=\"11.974006009363393\" x2=\"453.07196877464344\" y2=\"11.974006009363393\" stroke=\"rgb(233,233,233)\" stroke-opacity=\"1.0\" stroke-width=\"1.0\">\n        </line>\n        <g transform=\"translate(0.0 291.4792816714415 ) \">\n          <g transform=\"translate(-3.0 0.0 ) \">\n            <text class=\"axis-text-y\" text-anchor=\"end\" dy=\"0.35em\">\n            60\n            </text>\n          </g>\n        </g>\n        <g transform=\"translate(0.0 235.57822653902588 ) \">\n          <g transform=\"translate(-3.0 0.0 ) \">\n            <text class=\"axis-text-y\" text-anchor=\"end\" dy=\"0.35em\">\n            65\n            </text>\n          </g>\n        </g>\n        <g transform=\"translate(0.0 179.67717140661023 ) \">\n          <g transform=\"translate(-3.0 0.0 ) \">\n            <text class=\"axis-text-y\" text-anchor=\"end\" dy=\"0.35em\">\n            70\n            </text>\n          </g>\n        </g>\n        <g transform=\"translate(0.0 123.77611627419458 ) \">\n          <g transform=\"translate(-3.0 0.0 ) \">\n            <text class=\"axis-text-y\" text-anchor=\"end\" dy=\"0.35em\">\n            75\n            </text>\n          </g>\n        </g>\n        <g transform=\"translate(0.0 67.87506114177904 ) \">\n          <g transform=\"translate(-3.0 0.0 ) \">\n            <text class=\"axis-text-y\" text-anchor=\"end\" dy=\"0.35em\">\n            80\n            </text>\n          </g>\n        </g>\n        <g transform=\"translate(0.0 11.974006009363393 ) \">\n          <g transform=\"translate(-3.0 0.0 ) \">\n            <text class=\"axis-text-y\" text-anchor=\"end\" dy=\"0.35em\">\n            85\n            </text>\n          </g>\n        </g>\n      </g>\n      <g transform=\"translate(21.961210910936405 0.0 ) \" clip-path=\"url(#cF4k6lP)\" clip-bounds-jfx=\"[rect (0.0, 0.0), (453.07196877464344, 320.0)]\">\n        <defs>\n          <clipPath id=\"cF4k6lP\">\n            <rect x=\"0.0\" y=\"0.0\" width=\"453.07196877464344\" height=\"320.0\">\n            </rect>\n          </clipPath>\n        </defs>\n        <g>\n          \n          <g >\n            <circle fill=\"#e41a1c\" stroke=\"#e41a1c\" stroke-opacity=\"0.0\" stroke-width=\"0.0\" cx=\"189.67077288974437\" cy=\"118.29781287121796\" r=\"5.720672705969766\" />\n            <circle fill=\"#e41a1c\" stroke=\"#e41a1c\" stroke-opacity=\"0.0\" stroke-width=\"0.0\" cx=\"207.43713987652865\" cy=\"112.26049891691696\" r=\"5.850341496870803\" />\n            <circle fill=\"#e41a1c\" stroke=\"#e41a1c\" stroke-opacity=\"0.0\" stroke-width=\"0.0\" cx=\"22.370817097525855\" cy=\"220.48494165327372\" r=\"20.23178921498586\" />\n            <circle fill=\"#e41a1c\" stroke=\"#e41a1c\" stroke-opacity=\"0.0\" stroke-width=\"0.0\" cx=\"47.53983699547023\" cy=\"305.4545454545454\" r=\"5.626368130769011\" />\n            <circle fill=\"#e41a1c\" stroke=\"#e41a1c\" stroke-opacity=\"0.0\" stroke-width=\"0.0\" cx=\"183.7486505608163\" cy=\"71.89993711131285\" r=\"5.555639699368446\" />\n            <circle fill=\"#e41a1c\" stroke=\"#e41a1c\" stroke-opacity=\"0.0\" stroke-width=\"0.0\" cx=\"177.8265282318882\" cy=\"35.22884494444827\" r=\"6.192195581973538\" />\n            <circle fill=\"#e41a1c\" stroke=\"#e41a1c\" stroke-opacity=\"0.0\" stroke-width=\"0.0\" cx=\"207.43713987652865\" cy=\"60.27251764377036\" r=\"6.463321235675707\" />\n            <circle fill=\"#e41a1c\" stroke=\"#e41a1c\" stroke-opacity=\"0.0\" stroke-width=\"0.0\" cx=\"219.2813845343848\" cy=\"171.73922157780726\" r=\"5.5\" />\n            <circle fill=\"#e41a1c\" stroke=\"#e41a1c\" stroke-opacity=\"0.0\" stroke-width=\"0.0\" cx=\"20.594180398847428\" cy=\"288.12521836349663\" r=\"16.695367644957567\" />\n            <circle fill=\"#e41a1c\" stroke=\"#e41a1c\" stroke-opacity=\"0.0\" stroke-width=\"0.0\" cx=\"213.35926220545673\" cy=\"36.79407448815584\" r=\"6.981996399279857\" />\n            <circle fill=\"#e41a1c\" stroke=\"#e41a1c\" stroke-opacity=\"0.0\" stroke-width=\"0.0\" cx=\"21.482498748186643\" cy=\"184.48466214799805\" r=\"5.779613065470238\" />\n            <circle fill=\"#e41a1c\" stroke=\"#e41a1c\" stroke-opacity=\"0.0\" stroke-width=\"0.0\" cx=\"88.99469329796685\" cy=\"128.136398574523\" r=\"6.050738719172407\" />\n            <circle fill=\"#e41a1c\" stroke=\"#e41a1c\" stroke-opacity=\"0.0\" stroke-width=\"0.0\" cx=\"148.21591658724776\" cy=\"166.48452239536005\" r=\"5.541494013088332\" />\n            <circle fill=\"#e41a1c\" stroke=\"#e41a1c\" stroke-opacity=\"0.0\" stroke-width=\"0.0\" cx=\"254.81411850795334\" cy=\"163.6894696387393\" r=\"5.548566856228389\" />\n            <circle fill=\"#e41a1c\" stroke=\"#e41a1c\" stroke-opacity=\"0.0\" stroke-width=\"0.0\" cx=\"71.2283263111826\" cy=\"121.31646984836834\" r=\"5.951718915211615\" />\n            <circle fill=\"#e41a1c\" stroke=\"#e41a1c\" stroke-opacity=\"0.0\" stroke-width=\"0.0\" cx=\"41.61771466654214\" cy=\"150.04961218642984\" r=\"7.229545909181837\" />\n            <circle fill=\"#e41a1c\" stroke=\"#e41a1c\" stroke-opacity=\"0.0\" stroke-width=\"0.0\" cx=\"35.69559233761406\" cy=\"128.69540912584716\" r=\"6.2393478695739155\" />\n            <circle fill=\"#e41a1c\" stroke=\"#e41a1c\" stroke-opacity=\"0.0\" stroke-width=\"0.0\" cx=\"183.7486505608163\" cy=\"121.65187617916285\" r=\"6.192195581973538\" />\n            <circle fill=\"#e41a1c\" stroke=\"#e41a1c\" stroke-opacity=\"0.0\" stroke-width=\"0.0\" cx=\"225.2035068633129\" cy=\"55.353224792117885\" r=\"8.71484296859372\" />\n            <circle fill=\"#377eb8\" stroke=\"#377eb8\" stroke-opacity=\"0.0\" stroke-width=\"0.0\" cx=\"343.64595344187467\" cy=\"74.13597931660956\" r=\"5.791401137370332\" />\n            <circle fill=\"#377eb8\" stroke=\"#377eb8\" stroke-opacity=\"0.0\" stroke-width=\"0.0\" cx=\"325.8795864550904\" cy=\"139.428411711271\" r=\"5.944646072071558\" />\n            <circle fill=\"#377eb8\" stroke=\"#377eb8\" stroke-opacity=\"0.0\" stroke-width=\"0.0\" cx=\"77.15044864011068\" cy=\"174.53427433442812\" r=\"22.0\" />\n            <circle fill=\"#377eb8\" stroke=\"#377eb8\" stroke-opacity=\"0.0\" stroke-width=\"0.0\" cx=\"59.38408165332641\" cy=\"254.1373768429878\" r=\"5.62990455233904\" />\n            <circle fill=\"#377eb8\" stroke=\"#377eb8\" stroke-opacity=\"0.0\" stroke-width=\"0.0\" cx=\"302.19109713937803\" cy=\"156.1987282509957\" r=\"5.561533735318493\" />\n            <circle fill=\"#377eb8\" stroke=\"#377eb8\" stroke-opacity=\"0.0\" stroke-width=\"0.0\" cx=\"278.5026078236657\" cy=\"88.5584515407727\" r=\"6.2865001571742924\" />\n            <circle fill=\"#377eb8\" stroke=\"#377eb8\" stroke-opacity=\"0.0\" stroke-width=\"0.0\" cx=\"314.0353417972342\" cy=\"60.04891342324072\" r=\"6.475109307575801\" />\n            <circle fill=\"#377eb8\" stroke=\"#377eb8\" stroke-opacity=\"0.0\" stroke-width=\"0.0\" cx=\"373.2565650865151\" cy=\"69.21668646495698\" r=\"5.500707284314006\" />\n            <circle fill=\"#377eb8\" stroke=\"#377eb8\" stroke-opacity=\"0.0\" stroke-width=\"0.0\" cx=\"29.77347000868597\" cy=\"256.4852211585493\" r=\"21.41059640499529\" />\n            <circle fill=\"#377eb8\" stroke=\"#377eb8\" stroke-opacity=\"0.0\" stroke-width=\"0.0\" cx=\"284.4247301525938\" cy=\"50.76933827125981\" r=\"6.981996399279857\" />\n            <circle fill=\"#377eb8\" stroke=\"#377eb8\" stroke-opacity=\"0.0\" stroke-width=\"0.0\" cx=\"25.035772145543497\" cy=\"298.9700230591852\" r=\"5.791401137370332\" />\n            <circle fill=\"#377eb8\" stroke=\"#377eb8\" stroke-opacity=\"0.0\" stroke-width=\"0.0\" cx=\"195.59289521867245\" cy=\"161.90063587450197\" r=\"6.097891006772784\" />\n            <circle fill=\"#377eb8\" stroke=\"#377eb8\" stroke-opacity=\"0.0\" stroke-width=\"0.0\" cx=\"219.2813845343848\" cy=\"106.33498707288095\" r=\"5.555639699368446\" />\n            <circle fill=\"#377eb8\" stroke=\"#377eb8\" stroke-opacity=\"0.0\" stroke-width=\"0.0\" cx=\"432.47778837579597\" cy=\"157.65215568443853\" r=\"5.559176120938473\" />\n            <circle fill=\"#377eb8\" stroke=\"#377eb8\" stroke-opacity=\"0.0\" stroke-width=\"0.0\" cx=\"106.76106028475112\" cy=\"87.8876388791839\" r=\"5.944646072071558\" />\n            <circle fill=\"#377eb8\" stroke=\"#377eb8\" stroke-opacity=\"0.0\" stroke-width=\"0.0\" cx=\"71.2283263111826\" cy=\"85.9870030046817\" r=\"7.217757837281742\" />\n            <circle fill=\"#377eb8\" stroke=\"#377eb8\" stroke-opacity=\"0.0\" stroke-width=\"0.0\" cx=\"77.15044864011068\" cy=\"70.55831178813492\" r=\"6.463321235675707\" />\n            <circle fill=\"#377eb8\" stroke=\"#377eb8\" stroke-opacity=\"0.0\" stroke-width=\"0.0\" cx=\"254.81411850795334\" cy=\"14.545454545454504\" r=\"6.2865001571742924\" />\n            <circle fill=\"#377eb8\" stroke=\"#377eb8\" stroke-opacity=\"0.0\" stroke-width=\"0.0\" cx=\"373.2565650865151\" cy=\"41.15435678848428\" r=\"9.39855113879919\" />\n          </g>\n        </g>\n      </g>\n    </g>\n    <g transform=\"translate(44.9612109109364 15.2 ) \">\n      <text class=\"plot-title\" y=\"0.0\">\n      Life Expectancy and GDP by Country\n      </text>\n    </g>\n    <g transform=\"translate(14.5 194.0 ) rotate(-90.0 ) \">\n      <text class=\"axis-title-y\" y=\"0.0\" text-anchor=\"middle\">\n      Life expectancy (years)\n      </text>\n    </g>\n    <g transform=\"translate(271.49719529825813 391.5 ) \">\n      <text class=\"axis-title-x\" y=\"0.0\" text-anchor=\"middle\">\n      GDP per capita (in dollars)\n      </text>\n    </g>\n    <g transform=\"translate(509.9272580800755 157.25 ) \">\n      <rect x=\"5.0\" y=\"5.0\" height=\"63.5\" width=\"81.96682031442012\" stroke=\"rgb(71,71,71)\" stroke-opacity=\"1.0\" stroke-width=\"0.0\" fill=\"rgb(255,255,255)\" fill-opacity=\"1.0\">\n      </rect>\n      <g transform=\"translate(10.0 10.0 ) \">\n        <g transform=\"translate(0.0 7.5 ) \">\n          <g transform=\"\">\n            <g>\n              <rect x=\"0.0\" y=\"0.0\" height=\"23.0\" width=\"23.0\" stroke-width=\"0.0\" fill=\"rgb(255,255,255)\" fill-opacity=\"1.0\">\n              </rect>\n              <g transform=\"translate(1.0 1.0 ) \">\n                <g>\n                  \n                  <g >\n                    <circle fill=\"#e41a1c\" stroke=\"#e41a1c\" stroke-opacity=\"0.0\" stroke-width=\"0.0\" cx=\"10.5\" cy=\"10.5\" r=\"5.5\" />\n                  </g>\n                </g>\n              </g>\n              <rect x=\"0.0\" y=\"0.0\" height=\"23.0\" width=\"23.0\" stroke=\"rgb(255,255,255)\" stroke-opacity=\"1.0\" stroke-width=\"1.0\" fill-opacity=\"0.0\">\n              </rect>\n            </g>\n            <g transform=\"translate(26.9903027277341 16.05 ) \">\n              <text class=\"legend-item\" y=\"0.0\">\n              1998.0\n              </text>\n            </g>\n          </g>\n          <g transform=\"translate(0.0 23.0 ) \">\n            <g>\n              <rect x=\"0.0\" y=\"0.0\" height=\"23.0\" width=\"23.0\" stroke-width=\"0.0\" fill=\"rgb(255,255,255)\" fill-opacity=\"1.0\">\n              </rect>\n              <g transform=\"translate(1.0 1.0 ) \">\n                <g>\n                  \n                  <g >\n                    <circle fill=\"#377eb8\" stroke=\"#377eb8\" stroke-opacity=\"0.0\" stroke-width=\"0.0\" cx=\"10.5\" cy=\"10.5\" r=\"5.5\" />\n                  </g>\n                </g>\n              </g>\n              <rect x=\"0.0\" y=\"0.0\" height=\"23.0\" width=\"23.0\" stroke=\"rgb(255,255,255)\" stroke-opacity=\"1.0\" stroke-width=\"1.0\" fill-opacity=\"0.0\">\n              </rect>\n            </g>\n            <g transform=\"translate(26.9903027277341 16.05 ) \">\n              <text class=\"legend-item\" y=\"0.0\">\n              2023.0\n              </text>\n            </g>\n          </g>\n        </g>\n      </g>\n    </g>\n    <path fill=\"rgb(0,0,0)\" fill-opacity=\"0.0\" stroke=\"rgb(71,71,71)\" stroke-opacity=\"1.0\" stroke-width=\"0.0\" d=\"M0.0 0.0 L0.0 400.0 L600.0 400.0 L600.0 0.0 Z\">\n    </path>\n  </g>\n  <g id=\"dRc84Ys\">\n  </g>\n</svg>\n        <script>document.getElementById(\"b416f43e-dba3-4127-82f1-c32c66efcc79\").style.display = \"none\";</script>",
      "application/plot+json": {
       "output_type": "lets_plot_spec",
       "output": {
        "ggtitle": {
         "text": "Life Expectancy and GDP by Country"
        },
        "mapping": {},
        "data": {
         "gdp": [
          29000.0,
          32000.0,
          750.0,
          5000.0,
          28000.0,
          27000.0,
          32000.0,
          34000.0,
          450.0,
          33000.0,
          600.0,
          12000.0,
          22000.0,
          40000.0,
          9000.0,
          4000.0,
          3000.0,
          28000.0,
          35000.0,
          55000.0,
          52000.0,
          10000.0,
          7000.0,
          48000.0,
          44000.0,
          50000.0,
          60000.0,
          2000.0,
          45000.0,
          1200.0,
          30000.0,
          34000.0,
          70000.0,
          15000.0,
          9000.0,
          10000.0,
          40000.0,
          60000.0
         ],
         "&merged_groups": [
          "1998",
          "1998",
          "1998",
          "1998",
          "1998",
          "1998",
          "1998",
          "1998",
          "1998",
          "1998",
          "1998",
          "1998",
          "1998",
          "1998",
          "1998",
          "1998",
          "1998",
          "1998",
          "1998",
          "2023",
          "2023",
          "2023",
          "2023",
          "2023",
          "2023",
          "2023",
          "2023",
          "2023",
          "2023",
          "2023",
          "2023",
          "2023",
          "2023",
          "2023",
          "2023",
          "2023",
          "2023",
          "2023"
         ],
         "year": [
          1998.0,
          1998.0,
          1998.0,
          1998.0,
          1998.0,
          1998.0,
          1998.0,
          1998.0,
          1998.0,
          1998.0,
          1998.0,
          1998.0,
          1998.0,
          1998.0,
          1998.0,
          1998.0,
          1998.0,
          1998.0,
          1998.0,
          2023.0,
          2023.0,
          2023.0,
          2023.0,
          2023.0,
          2023.0,
          2023.0,
          2023.0,
          2023.0,
          2023.0,
          2023.0,
          2023.0,
          2023.0,
          2023.0,
          2023.0,
          2023.0,
          2023.0,
          2023.0,
          2023.0
         ],
         "lifeExp": [
          75.49,
          76.03,
          66.35,
          58.75,
          79.64,
          82.92,
          80.68,
          70.71,
          60.3,
          82.78,
          69.57,
          74.61,
          71.18,
          71.43,
          75.22,
          72.65,
          74.56,
          75.19,
          81.12,
          79.44,
          73.6,
          70.46,
          63.34,
          72.1,
          78.15,
          80.7,
          79.88,
          63.13,
          81.53,
          59.33,
          71.59,
          76.56,
          71.97,
          78.21,
          78.38,
          79.76,
          84.77,
          82.39
         ],
         "population": [
          19000.0,
          30000.0,
          1250000.0,
          11000.0,
          5000.0,
          59000.0,
          82000.0,
          280.0,
          950000.0,
          126000.0,
          24000.0,
          47000.0,
          3800.0,
          4400.0,
          38600.0,
          147000.0,
          63000.0,
          59000.0,
          273000.0,
          25000.0,
          38000.0,
          1400000.0,
          11300.0,
          5500.0,
          67000.0,
          83000.0,
          340.0,
          1350000.0,
          126000.0,
          25000.0,
          51000.0,
          5000.0,
          5300.0,
          38000.0,
          146000.0,
          82000.0,
          67000.0,
          331000.0
         ]
        },
        "kind": "plot",
        "scales": [
         {
          "aesthetic": "x",
          "name": "GDP per capita (in dollars)",
          "limits": [
           null,
           null
          ]
         },
         {
          "aesthetic": "y",
          "name": "Life expectancy (years)",
          "limits": [
           null,
           null
          ]
         },
         {
          "aesthetic": "size",
          "range": [
           5.0,
           20.0
          ],
          "limits": [
           null,
           null
          ],
          "guide": "none"
         },
         {
          "aesthetic": "color",
          "discrete": true,
          "name": ""
         }
        ],
        "layers": [
         {
          "mapping": {
           "x": "gdp",
           "y": "lifeExp",
           "size": "population",
           "color": "year",
           "group": "&merged_groups"
          },
          "stat": "identity",
          "sampling": "none",
          "position": "identity",
          "geom": "point"
         }
        ]
       },
       "apply_color_scheme": true,
       "swing_enabled": true
      }
     },
     "execution_count": 3,
     "metadata": {},
     "output_type": "execute_result"
    }
   ],
   "source": [
    "data.groupBy { year }.plot {\n",
    "    layout.title = \"Life Expectancy and GDP by Country\"\n",
    "    points {\n",
    "        x(gdp) { axis.name = \"GDP per capita (in dollars)\" }\n",
    "        y(lifeExp) { axis.name = \"Life expectancy (years)\" }\n",
    "        size(population) {\n",
    "            legend.type = LegendType.None\n",
    "            scale = continuous(5.0..20.0)\n",
    "        }\n",
    "        color(year) {\n",
    "            legend.name = \"\"\n",
    "        }\n",
    "    }\n",
    "}"
   ],
   "metadata": {
    "collapsed": false,
    "ExecuteTime": {
     "end_time": "2023-11-20T23:36:50.600373Z",
     "start_time": "2023-11-20T23:36:49.803265Z"
    }
   }
  },
  {
   "cell_type": "code",
   "execution_count": 4,
   "outputs": [
    {
     "data": {
      "text/html": "            <iframe src='about:blank' style='border:none !important;' width='600' height='400' srcdoc=\"&lt;html lang=&quot;en&quot;>\n   &lt;head>\n       &lt;style> html, body { margin: 0; overflow: hidden; } &lt;/style>\n       &lt;script type=&quot;text/javascript&quot; data-lets-plot-script=&quot;library&quot; src=&quot;https://cdn.jsdelivr.net/gh/JetBrains/lets-plot@v4.0.1/js-package/distr/lets-plot.min.js&quot;>&lt;/script>\n   &lt;/head>\n   &lt;body>\n          &lt;div id=&quot;ZChkBw&quot;>&lt;/div>\n   &lt;script type=&quot;text/javascript&quot; data-lets-plot-script=&quot;plot&quot;>\n       var plotSpec={\n&quot;ggtitle&quot;:{\n&quot;text&quot;:&quot;Life Expectancy and GDP by Country (1998)&quot;\n},\n&quot;mapping&quot;:{\n},\n&quot;data&quot;:{\n&quot;country&quot;:[&quot;Australia&quot;,&quot;Canada&quot;,&quot;China&quot;,&quot;Cuba&quot;,&quot;Finland&quot;,&quot;France&quot;,&quot;Germany&quot;,&quot;Iceland&quot;,&quot;India&quot;,&quot;Japan&quot;,&quot;North Korea&quot;,&quot;South Korea&quot;,&quot;New Zealand&quot;,&quot;Norway&quot;,&quot;Poland&quot;,&quot;Russia&quot;,&quot;Turkey&quot;,&quot;United Kingdom&quot;,&quot;United States&quot;],\n&quot;gdp&quot;:[29000.0,32000.0,750.0,5000.0,28000.0,27000.0,32000.0,34000.0,450.0,33000.0,600.0,12000.0,22000.0,40000.0,9000.0,4000.0,3000.0,28000.0,35000.0],\n&quot;lifeExp&quot;:[75.49,76.03,66.35,58.75,79.64,82.92,80.68,70.71,60.3,82.78,69.57,74.61,71.18,71.43,75.22,72.65,74.56,75.19,81.12],\n&quot;population&quot;:[19000.0,30000.0,1250000.0,11000.0,5000.0,59000.0,82000.0,280.0,950000.0,126000.0,24000.0,47000.0,3800.0,4400.0,38600.0,147000.0,63000.0,59000.0,273000.0]\n},\n&quot;kind&quot;:&quot;plot&quot;,\n&quot;scales&quot;:[{\n&quot;aesthetic&quot;:&quot;x&quot;,\n&quot;name&quot;:&quot;GDP per capita (in dollars)&quot;,\n&quot;limits&quot;:[null,null]\n},{\n&quot;aesthetic&quot;:&quot;y&quot;,\n&quot;name&quot;:&quot;Life expectancy (years)&quot;,\n&quot;limits&quot;:[null,null]\n},{\n&quot;aesthetic&quot;:&quot;size&quot;,\n&quot;range&quot;:[2.0,15.0],\n&quot;limits&quot;:[null,null],\n&quot;guide&quot;:&quot;none&quot;\n},{\n&quot;aesthetic&quot;:&quot;color&quot;,\n&quot;scale_mapper_kind&quot;:&quot;color_hue&quot;\n}],\n&quot;layers&quot;:[{\n&quot;mapping&quot;:{\n&quot;x&quot;:&quot;gdp&quot;,\n&quot;y&quot;:&quot;lifeExp&quot;,\n&quot;size&quot;:&quot;population&quot;,\n&quot;color&quot;:&quot;country&quot;\n},\n&quot;stat&quot;:&quot;identity&quot;,\n&quot;sampling&quot;:&quot;none&quot;,\n&quot;position&quot;:&quot;identity&quot;,\n&quot;geom&quot;:&quot;point&quot;,\n&quot;data&quot;:{\n}\n}]\n};\n       var plotContainer = document.getElementById(&quot;ZChkBw&quot;);\n       LetsPlot.buildPlotFromProcessedSpecs(plotSpec, -1, -1, plotContainer);\n   &lt;/script>\n   &lt;/body>\n&lt;/html>\"></iframe>            \n        <svg id=4cf237f1-03d0-465e-8231-36990dd31e9f xmlns=\"http://www.w3.org/2000/svg\" xmlns:xlink=\"http://www.w3.org/1999/xlink\" class=\"plt-container\" width=\"600.0\" height=\"400.0\">\n  <style type=\"text/css\">\n  .plt-container {\n   font-family: Lucida Grande, sans-serif;\n   user-select: none;\n   -webkit-user-select: none;\n   -moz-user-select: none;\n   -ms-user-select: none;\n}\ntext {\n   text-rendering: optimizeLegibility;\n}\n#pWAvZJu .plot-title {\n   fill: #474747;\n   font-family: Lucida Grande, sans-serif;\n   font-size: 16.0px;\n   font-weight: normal;\n   font-style: normal;   \n}\n#pWAvZJu .plot-subtitle {\n   fill: #474747;\n   font-family: Lucida Grande, sans-serif;\n   font-size: 15.0px;\n   font-weight: normal;\n   font-style: normal;   \n}\n#pWAvZJu .plot-caption {\n   fill: #474747;\n   font-family: Lucida Grande, sans-serif;\n   font-size: 13.0px;\n   font-weight: normal;\n   font-style: normal;   \n}\n#pWAvZJu .legend-title {\n   fill: #474747;\n   font-family: Lucida Grande, sans-serif;\n   font-size: 15.0px;\n   font-weight: normal;\n   font-style: normal;   \n}\n#pWAvZJu .legend-item {\n   fill: #474747;\n   font-family: Lucida Grande, sans-serif;\n   font-size: 13.0px;\n   font-weight: normal;\n   font-style: normal;   \n}\n#pWAvZJu .axis-title-x {\n   fill: #474747;\n   font-family: Lucida Grande, sans-serif;\n   font-size: 15.0px;\n   font-weight: normal;\n   font-style: normal;   \n}\n#pWAvZJu .axis-text-x {\n   fill: #474747;\n   font-family: Lucida Grande, sans-serif;\n   font-size: 13.0px;\n   font-weight: normal;\n   font-style: normal;   \n}\n#ddqL0aU .axis-tooltip-text-x {\n   fill: #ffffff;\n   font-family: Lucida Grande, sans-serif;\n   font-size: 13.0px;\n   font-weight: normal;\n   font-style: normal;   \n}\n#pWAvZJu .axis-title-y {\n   fill: #474747;\n   font-family: Lucida Grande, sans-serif;\n   font-size: 15.0px;\n   font-weight: normal;\n   font-style: normal;   \n}\n#pWAvZJu .axis-text-y {\n   fill: #474747;\n   font-family: Lucida Grande, sans-serif;\n   font-size: 13.0px;\n   font-weight: normal;\n   font-style: normal;   \n}\n#ddqL0aU .axis-tooltip-text-y {\n   fill: #ffffff;\n   font-family: Lucida Grande, sans-serif;\n   font-size: 13.0px;\n   font-weight: normal;\n   font-style: normal;   \n}\n#pWAvZJu .facet-strip-text-x {\n   fill: #474747;\n   font-family: Lucida Grande, sans-serif;\n   font-size: 13.0px;\n   font-weight: normal;\n   font-style: normal;   \n}\n#pWAvZJu .facet-strip-text-y {\n   fill: #474747;\n   font-family: Lucida Grande, sans-serif;\n   font-size: 13.0px;\n   font-weight: normal;\n   font-style: normal;   \n}\n#ddqL0aU .tooltip-text {\n   fill: #474747;\n   font-family: Lucida Grande, sans-serif;\n   font-size: 13.0px;\n   font-weight: normal;\n   font-style: normal;   \n}\n#ddqL0aU .tooltip-title {\n   fill: #474747;\n   font-family: Lucida Grande, sans-serif;\n   font-size: 13.0px;\n   font-weight: bold;\n   font-style: normal;   \n}\n#ddqL0aU .tooltip-label {\n   fill: #474747;\n   font-family: Lucida Grande, sans-serif;\n   font-size: 13.0px;\n   font-weight: bold;\n   font-style: normal;   \n}\n\n  </style>\n  <g id=\"pWAvZJu\">\n    <path fill-rule=\"evenodd\" fill=\"rgb(255,255,255)\" fill-opacity=\"1.0\" d=\"M0.0 0.0 L0.0 400.0 L600.0 400.0 L600.0 0.0 Z\">\n    </path>\n    <g transform=\"translate(23.0 34.0 ) \">\n      <g transform=\"translate(21.961210910936405 320.0 ) \">\n        <line x1=\"13.72238459860421\" y1=\"-0.0\" x2=\"13.72238459860421\" y2=\"-320.0\" stroke=\"rgb(233,233,233)\" stroke-opacity=\"1.0\" stroke-width=\"1.0\">\n        </line>\n        <line x1=\"103.55796298553848\" y1=\"-0.0\" x2=\"103.55796298553848\" y2=\"-320.0\" stroke=\"rgb(233,233,233)\" stroke-opacity=\"1.0\" stroke-width=\"1.0\">\n        </line>\n        <line x1=\"193.39354137247275\" y1=\"-0.0\" x2=\"193.39354137247275\" y2=\"-320.0\" stroke=\"rgb(233,233,233)\" stroke-opacity=\"1.0\" stroke-width=\"1.0\">\n        </line>\n        <line x1=\"283.229119759407\" y1=\"-0.0\" x2=\"283.229119759407\" y2=\"-320.0\" stroke=\"rgb(233,233,233)\" stroke-opacity=\"1.0\" stroke-width=\"1.0\">\n        </line>\n        <line x1=\"373.0646981463413\" y1=\"-0.0\" x2=\"373.0646981463413\" y2=\"-320.0\" stroke=\"rgb(233,233,233)\" stroke-opacity=\"1.0\" stroke-width=\"1.0\">\n        </line>\n        <g transform=\"translate(13.72238459860421 0.0 ) \">\n          <line stroke-width=\"1.0\" stroke=\"rgb(71,71,71)\" stroke-opacity=\"1.0\" x2=\"0.0\" y2=\"4.0\">\n          </line>\n          <g transform=\"translate(0.0 7.0 ) \">\n            <text class=\"axis-text-x\" text-anchor=\"middle\" dy=\"0.7em\">\n            0\n            </text>\n          </g>\n        </g>\n        <g transform=\"translate(103.55796298553848 0.0 ) \">\n          <line stroke-width=\"1.0\" stroke=\"rgb(71,71,71)\" stroke-opacity=\"1.0\" x2=\"0.0\" y2=\"4.0\">\n          </line>\n          <g transform=\"translate(0.0 7.0 ) \">\n            <text class=\"axis-text-x\" text-anchor=\"middle\" dy=\"0.7em\">\n            10,000\n            </text>\n          </g>\n        </g>\n        <g transform=\"translate(193.39354137247275 0.0 ) \">\n          <line stroke-width=\"1.0\" stroke=\"rgb(71,71,71)\" stroke-opacity=\"1.0\" x2=\"0.0\" y2=\"4.0\">\n          </line>\n          <g transform=\"translate(0.0 7.0 ) \">\n            <text class=\"axis-text-x\" text-anchor=\"middle\" dy=\"0.7em\">\n            20,000\n            </text>\n          </g>\n        </g>\n        <g transform=\"translate(283.229119759407 0.0 ) \">\n          <line stroke-width=\"1.0\" stroke=\"rgb(71,71,71)\" stroke-opacity=\"1.0\" x2=\"0.0\" y2=\"4.0\">\n          </line>\n          <g transform=\"translate(0.0 7.0 ) \">\n            <text class=\"axis-text-x\" text-anchor=\"middle\" dy=\"0.7em\">\n            30,000\n            </text>\n          </g>\n        </g>\n        <g transform=\"translate(373.0646981463413 0.0 ) \">\n          <line stroke-width=\"1.0\" stroke=\"rgb(71,71,71)\" stroke-opacity=\"1.0\" x2=\"0.0\" y2=\"4.0\">\n          </line>\n          <g transform=\"translate(0.0 7.0 ) \">\n            <text class=\"axis-text-x\" text-anchor=\"middle\" dy=\"0.7em\">\n            40,000\n            </text>\n          </g>\n        </g>\n        <line x1=\"0.0\" y1=\"0.0\" x2=\"390.8296837723575\" y2=\"0.0\" stroke-width=\"1.0\" stroke=\"rgb(71,71,71)\" stroke-opacity=\"1.0\">\n        </line>\n      </g>\n      <g transform=\"translate(21.961210910936405 0.0 ) \">\n        <line x1=\"0.0\" y1=\"290.40959867604465\" x2=\"390.8296837723575\" y2=\"290.40959867604465\" stroke=\"rgb(233,233,233)\" stroke-opacity=\"1.0\" stroke-width=\"1.0\">\n        </line>\n        <line x1=\"0.0\" y1=\"230.22981156204162\" x2=\"390.8296837723575\" y2=\"230.22981156204162\" stroke=\"rgb(233,233,233)\" stroke-opacity=\"1.0\" stroke-width=\"1.0\">\n        </line>\n        <line x1=\"0.0\" y1=\"170.05002444803858\" x2=\"390.8296837723575\" y2=\"170.05002444803858\" stroke=\"rgb(233,233,233)\" stroke-opacity=\"1.0\" stroke-width=\"1.0\">\n        </line>\n        <line x1=\"0.0\" y1=\"109.87023733403544\" x2=\"390.8296837723575\" y2=\"109.87023733403544\" stroke=\"rgb(233,233,233)\" stroke-opacity=\"1.0\" stroke-width=\"1.0\">\n        </line>\n        <line x1=\"0.0\" y1=\"49.6904502200324\" x2=\"390.8296837723575\" y2=\"49.6904502200324\" stroke=\"rgb(233,233,233)\" stroke-opacity=\"1.0\" stroke-width=\"1.0\">\n        </line>\n        <g transform=\"translate(0.0 290.40959867604465 ) \">\n          <g transform=\"translate(-3.0 0.0 ) \">\n            <text class=\"axis-text-y\" text-anchor=\"end\" dy=\"0.35em\">\n            60\n            </text>\n          </g>\n        </g>\n        <g transform=\"translate(0.0 230.22981156204162 ) \">\n          <g transform=\"translate(-3.0 0.0 ) \">\n            <text class=\"axis-text-y\" text-anchor=\"end\" dy=\"0.35em\">\n            65\n            </text>\n          </g>\n        </g>\n        <g transform=\"translate(0.0 170.05002444803858 ) \">\n          <g transform=\"translate(-3.0 0.0 ) \">\n            <text class=\"axis-text-y\" text-anchor=\"end\" dy=\"0.35em\">\n            70\n            </text>\n          </g>\n        </g>\n        <g transform=\"translate(0.0 109.87023733403544 ) \">\n          <g transform=\"translate(-3.0 0.0 ) \">\n            <text class=\"axis-text-y\" text-anchor=\"end\" dy=\"0.35em\">\n            75\n            </text>\n          </g>\n        </g>\n        <g transform=\"translate(0.0 49.6904502200324 ) \">\n          <g transform=\"translate(-3.0 0.0 ) \">\n            <text class=\"axis-text-y\" text-anchor=\"end\" dy=\"0.35em\">\n            80\n            </text>\n          </g>\n        </g>\n      </g>\n      <g transform=\"translate(21.961210910936405 0.0 ) \" clip-path=\"url(#c7vH7ks)\" clip-bounds-jfx=\"[rect (0.0, 0.0), (390.8296837723575, 320.0)]\">\n        <defs>\n          <clipPath id=\"c7vH7ks\">\n            <rect x=\"0.0\" y=\"0.0\" width=\"390.8296837723575\" height=\"320.0\">\n            </rect>\n          </clipPath>\n        </defs>\n        <g>\n          \n          <g >\n            <circle fill=\"#e6a273\" stroke=\"#e6a273\" stroke-opacity=\"0.0\" stroke-width=\"0.0\" cx=\"274.2455619207136\" cy=\"103.97261819686321\" r=\"2.4142047818711396\" />\n            <circle fill=\"#e6c673\" stroke=\"#e6c673\" stroke-opacity=\"0.0\" stroke-width=\"0.0\" cx=\"301.19623543679387\" cy=\"97.47320118855077\" r=\"2.5400729763467016\" />\n            <circle fill=\"#e1e673\" stroke=\"#e1e673\" stroke-opacity=\"0.0\" stroke-width=\"0.0\" cx=\"20.46005297762428\" cy=\"213.98126904126082\" r=\"16.5\" />\n            <circle fill=\"#bde673\" stroke=\"#bde673\" stroke-opacity=\"0.0\" stroke-width=\"0.0\" cx=\"58.640173792071344\" cy=\"305.4545454545455\" r=\"2.3226642767980032\" />\n            <circle fill=\"#99e673\" stroke=\"#99e673\" stroke-opacity=\"0.0\" stroke-width=\"0.0\" cx=\"265.26200408202016\" cy=\"54.02339489224062\" r=\"2.2540088979931507\" />\n            <circle fill=\"#74e673\" stroke=\"#74e673\" stroke-opacity=\"0.0\" stroke-width=\"0.0\" cx=\"256.27844624332675\" cy=\"14.545454545454504\" r=\"2.871907307236821\" />\n            <circle fill=\"#73e695\" stroke=\"#73e695\" stroke-opacity=\"0.0\" stroke-width=\"0.0\" cx=\"301.19623543679387\" cy=\"41.50599917252782\" r=\"3.1350862593220885\" />\n            <circle fill=\"#73e6ba\" stroke=\"#73e6ba\" stroke-opacity=\"0.0\" stroke-width=\"0.0\" cx=\"319.1633511141807\" cy=\"161.50449467785018\" r=\"2.2\" />\n            <circle fill=\"#73e6de\" stroke=\"#73e6de\" stroke-opacity=\"0.0\" stroke-width=\"0.0\" cx=\"17.76498562601625\" cy=\"286.79881144920455\" r=\"13.067231059757386\" />\n            <circle fill=\"#73c9e6\" stroke=\"#73c9e6\" stroke-opacity=\"0.0\" stroke-width=\"0.0\" cx=\"310.17979327548727\" cy=\"16.23048858464665\" r=\"3.6385590372243386\" />\n            <circle fill=\"#73a5e6\" stroke=\"#73a5e6\" stroke-opacity=\"0.0\" stroke-width=\"0.0\" cx=\"19.112519301820264\" cy=\"175.22548613984293\" r=\"2.4714175975418495\" />\n            <circle fill=\"#7380e6\" stroke=\"#7380e6\" stroke-opacity=\"0.0\" stroke-width=\"0.0\" cx=\"121.52507866292532\" cy=\"114.5642607289277\" r=\"2.7345965496271165\" />\n            <circle fill=\"#8973e6\" stroke=\"#8973e6\" stroke-opacity=\"0.0\" stroke-width=\"0.0\" cx=\"211.3606570498596\" cy=\"155.84759468913376\" r=\"2.2402778222321804\" />\n            <circle fill=\"#ae73e6\" stroke=\"#ae73e6\" stroke-opacity=\"0.0\" stroke-width=\"0.0\" cx=\"373.0646981463413\" cy=\"152.83860533343352\" r=\"2.2471433601126654\" />\n            <circle fill=\"#d273e6\" stroke=\"#d273e6\" stroke-opacity=\"0.0\" stroke-width=\"0.0\" cx=\"94.57440514684505\" cy=\"107.22232670101937\" r=\"2.638479019300324\" />\n            <circle fill=\"#e673d5\" stroke=\"#e673d5\" stroke-opacity=\"0.0\" stroke-width=\"0.0\" cx=\"49.656615953377916\" cy=\"138.15473727761685\" r=\"3.8788528630413217\" />\n            <circle fill=\"#e673b1\" stroke=\"#e673b1\" stroke-opacity=\"0.0\" stroke-width=\"0.0\" cx=\"40.67305811468449\" cy=\"115.16605860006769\" r=\"2.9176775597733897\" />\n            <circle fill=\"#e6738c\" stroke=\"#e6738c\" stroke-opacity=\"0.0\" stroke-width=\"0.0\" cx=\"265.26200408202016\" cy=\"107.58340542370331\" r=\"2.871907307236821\" />\n            <circle fill=\"#e67d73\" stroke=\"#e67d73\" stroke-opacity=\"0.0\" stroke-width=\"0.0\" cx=\"328.1469089528741\" cy=\"36.21017790649569\" r=\"5.320615817943219\" />\n          </g>\n        </g>\n      </g>\n    </g>\n    <g transform=\"translate(44.9612109109364 15.2 ) \">\n      <text class=\"plot-title\" y=\"0.0\">\n      Life Expectancy and GDP by Country (1998)\n      </text>\n    </g>\n    <g transform=\"translate(14.5 194.0 ) rotate(-90.0 ) \">\n      <text class=\"axis-title-y\" y=\"0.0\" text-anchor=\"middle\">\n      Life expectancy (years)\n      </text>\n    </g>\n    <g transform=\"translate(240.37605279711516 391.5 ) \">\n      <text class=\"axis-title-x\" y=\"0.0\" text-anchor=\"middle\">\n      GDP per capita (in dollars)\n      </text>\n    </g>\n    <g transform=\"translate(450.51416785062077 24.0 ) \">\n      <rect x=\"5.0\" y=\"5.0\" height=\"469.5\" width=\"144.2091053167061\" stroke=\"rgb(71,71,71)\" stroke-opacity=\"1.0\" stroke-width=\"0.0\" fill=\"rgb(255,255,255)\" fill-opacity=\"1.0\">\n      </rect>\n      <g transform=\"translate(10.0 10.0 ) \">\n        <g transform=\"translate(0.0 10.5 ) \">\n          <text class=\"legend-title\" y=\"0.0\">\n          country\n          </text>\n        </g>\n        <g transform=\"translate(0.0 22.5 ) \">\n          <g transform=\"\">\n            <g>\n              <rect x=\"0.0\" y=\"0.0\" height=\"23.0\" width=\"23.0\" stroke-width=\"0.0\" fill=\"rgb(255,255,255)\" fill-opacity=\"1.0\">\n              </rect>\n              <g transform=\"translate(1.0 1.0 ) \">\n                <g>\n                  \n                  <g >\n                    <circle fill=\"#e6a273\" stroke=\"#e6a273\" stroke-opacity=\"0.0\" stroke-width=\"0.0\" cx=\"10.5\" cy=\"10.5\" r=\"5.5\" />\n                  </g>\n                </g>\n              </g>\n              <rect x=\"0.0\" y=\"0.0\" height=\"23.0\" width=\"23.0\" stroke=\"rgb(255,255,255)\" stroke-opacity=\"1.0\" stroke-width=\"1.0\" fill-opacity=\"0.0\">\n              </rect>\n            </g>\n            <g transform=\"translate(26.9903027277341 16.05 ) \">\n              <text class=\"legend-item\" y=\"0.0\">\n              Australia\n              </text>\n            </g>\n          </g>\n          <g transform=\"translate(0.0 23.0 ) \">\n            <g>\n              <rect x=\"0.0\" y=\"0.0\" height=\"23.0\" width=\"23.0\" stroke-width=\"0.0\" fill=\"rgb(255,255,255)\" fill-opacity=\"1.0\">\n              </rect>\n              <g transform=\"translate(1.0 1.0 ) \">\n                <g>\n                  \n                  <g >\n                    <circle fill=\"#e6c673\" stroke=\"#e6c673\" stroke-opacity=\"0.0\" stroke-width=\"0.0\" cx=\"10.5\" cy=\"10.5\" r=\"5.5\" />\n                  </g>\n                </g>\n              </g>\n              <rect x=\"0.0\" y=\"0.0\" height=\"23.0\" width=\"23.0\" stroke=\"rgb(255,255,255)\" stroke-opacity=\"1.0\" stroke-width=\"1.0\" fill-opacity=\"0.0\">\n              </rect>\n            </g>\n            <g transform=\"translate(26.9903027277341 16.05 ) \">\n              <text class=\"legend-item\" y=\"0.0\">\n              Canada\n              </text>\n            </g>\n          </g>\n          <g transform=\"translate(0.0 46.0 ) \">\n            <g>\n              <rect x=\"0.0\" y=\"0.0\" height=\"23.0\" width=\"23.0\" stroke-width=\"0.0\" fill=\"rgb(255,255,255)\" fill-opacity=\"1.0\">\n              </rect>\n              <g transform=\"translate(1.0 1.0 ) \">\n                <g>\n                  \n                  <g >\n                    <circle fill=\"#e1e673\" stroke=\"#e1e673\" stroke-opacity=\"0.0\" stroke-width=\"0.0\" cx=\"10.5\" cy=\"10.5\" r=\"5.5\" />\n                  </g>\n                </g>\n              </g>\n              <rect x=\"0.0\" y=\"0.0\" height=\"23.0\" width=\"23.0\" stroke=\"rgb(255,255,255)\" stroke-opacity=\"1.0\" stroke-width=\"1.0\" fill-opacity=\"0.0\">\n              </rect>\n            </g>\n            <g transform=\"translate(26.9903027277341 16.05 ) \">\n              <text class=\"legend-item\" y=\"0.0\">\n              China\n              </text>\n            </g>\n          </g>\n          <g transform=\"translate(0.0 69.0 ) \">\n            <g>\n              <rect x=\"0.0\" y=\"0.0\" height=\"23.0\" width=\"23.0\" stroke-width=\"0.0\" fill=\"rgb(255,255,255)\" fill-opacity=\"1.0\">\n              </rect>\n              <g transform=\"translate(1.0 1.0 ) \">\n                <g>\n                  \n                  <g >\n                    <circle fill=\"#bde673\" stroke=\"#bde673\" stroke-opacity=\"0.0\" stroke-width=\"0.0\" cx=\"10.5\" cy=\"10.5\" r=\"5.5\" />\n                  </g>\n                </g>\n              </g>\n              <rect x=\"0.0\" y=\"0.0\" height=\"23.0\" width=\"23.0\" stroke=\"rgb(255,255,255)\" stroke-opacity=\"1.0\" stroke-width=\"1.0\" fill-opacity=\"0.0\">\n              </rect>\n            </g>\n            <g transform=\"translate(26.9903027277341 16.05 ) \">\n              <text class=\"legend-item\" y=\"0.0\">\n              Cuba\n              </text>\n            </g>\n          </g>\n          <g transform=\"translate(0.0 92.0 ) \">\n            <g>\n              <rect x=\"0.0\" y=\"0.0\" height=\"23.0\" width=\"23.0\" stroke-width=\"0.0\" fill=\"rgb(255,255,255)\" fill-opacity=\"1.0\">\n              </rect>\n              <g transform=\"translate(1.0 1.0 ) \">\n                <g>\n                  \n                  <g >\n                    <circle fill=\"#99e673\" stroke=\"#99e673\" stroke-opacity=\"0.0\" stroke-width=\"0.0\" cx=\"10.5\" cy=\"10.5\" r=\"5.5\" />\n                  </g>\n                </g>\n              </g>\n              <rect x=\"0.0\" y=\"0.0\" height=\"23.0\" width=\"23.0\" stroke=\"rgb(255,255,255)\" stroke-opacity=\"1.0\" stroke-width=\"1.0\" fill-opacity=\"0.0\">\n              </rect>\n            </g>\n            <g transform=\"translate(26.9903027277341 16.05 ) \">\n              <text class=\"legend-item\" y=\"0.0\">\n              Finland\n              </text>\n            </g>\n          </g>\n          <g transform=\"translate(0.0 115.0 ) \">\n            <g>\n              <rect x=\"0.0\" y=\"0.0\" height=\"23.0\" width=\"23.0\" stroke-width=\"0.0\" fill=\"rgb(255,255,255)\" fill-opacity=\"1.0\">\n              </rect>\n              <g transform=\"translate(1.0 1.0 ) \">\n                <g>\n                  \n                  <g >\n                    <circle fill=\"#74e673\" stroke=\"#74e673\" stroke-opacity=\"0.0\" stroke-width=\"0.0\" cx=\"10.5\" cy=\"10.5\" r=\"5.5\" />\n                  </g>\n                </g>\n              </g>\n              <rect x=\"0.0\" y=\"0.0\" height=\"23.0\" width=\"23.0\" stroke=\"rgb(255,255,255)\" stroke-opacity=\"1.0\" stroke-width=\"1.0\" fill-opacity=\"0.0\">\n              </rect>\n            </g>\n            <g transform=\"translate(26.9903027277341 16.05 ) \">\n              <text class=\"legend-item\" y=\"0.0\">\n              France\n              </text>\n            </g>\n          </g>\n          <g transform=\"translate(0.0 138.0 ) \">\n            <g>\n              <rect x=\"0.0\" y=\"0.0\" height=\"23.0\" width=\"23.0\" stroke-width=\"0.0\" fill=\"rgb(255,255,255)\" fill-opacity=\"1.0\">\n              </rect>\n              <g transform=\"translate(1.0 1.0 ) \">\n                <g>\n                  \n                  <g >\n                    <circle fill=\"#73e695\" stroke=\"#73e695\" stroke-opacity=\"0.0\" stroke-width=\"0.0\" cx=\"10.5\" cy=\"10.5\" r=\"5.5\" />\n                  </g>\n                </g>\n              </g>\n              <rect x=\"0.0\" y=\"0.0\" height=\"23.0\" width=\"23.0\" stroke=\"rgb(255,255,255)\" stroke-opacity=\"1.0\" stroke-width=\"1.0\" fill-opacity=\"0.0\">\n              </rect>\n            </g>\n            <g transform=\"translate(26.9903027277341 16.05 ) \">\n              <text class=\"legend-item\" y=\"0.0\">\n              Germany\n              </text>\n            </g>\n          </g>\n          <g transform=\"translate(0.0 161.0 ) \">\n            <g>\n              <rect x=\"0.0\" y=\"0.0\" height=\"23.0\" width=\"23.0\" stroke-width=\"0.0\" fill=\"rgb(255,255,255)\" fill-opacity=\"1.0\">\n              </rect>\n              <g transform=\"translate(1.0 1.0 ) \">\n                <g>\n                  \n                  <g >\n                    <circle fill=\"#73e6ba\" stroke=\"#73e6ba\" stroke-opacity=\"0.0\" stroke-width=\"0.0\" cx=\"10.5\" cy=\"10.5\" r=\"5.5\" />\n                  </g>\n                </g>\n              </g>\n              <rect x=\"0.0\" y=\"0.0\" height=\"23.0\" width=\"23.0\" stroke=\"rgb(255,255,255)\" stroke-opacity=\"1.0\" stroke-width=\"1.0\" fill-opacity=\"0.0\">\n              </rect>\n            </g>\n            <g transform=\"translate(26.9903027277341 16.05 ) \">\n              <text class=\"legend-item\" y=\"0.0\">\n              Iceland\n              </text>\n            </g>\n          </g>\n          <g transform=\"translate(0.0 184.0 ) \">\n            <g>\n              <rect x=\"0.0\" y=\"0.0\" height=\"23.0\" width=\"23.0\" stroke-width=\"0.0\" fill=\"rgb(255,255,255)\" fill-opacity=\"1.0\">\n              </rect>\n              <g transform=\"translate(1.0 1.0 ) \">\n                <g>\n                  \n                  <g >\n                    <circle fill=\"#73e6de\" stroke=\"#73e6de\" stroke-opacity=\"0.0\" stroke-width=\"0.0\" cx=\"10.5\" cy=\"10.5\" r=\"5.5\" />\n                  </g>\n                </g>\n              </g>\n              <rect x=\"0.0\" y=\"0.0\" height=\"23.0\" width=\"23.0\" stroke=\"rgb(255,255,255)\" stroke-opacity=\"1.0\" stroke-width=\"1.0\" fill-opacity=\"0.0\">\n              </rect>\n            </g>\n            <g transform=\"translate(26.9903027277341 16.05 ) \">\n              <text class=\"legend-item\" y=\"0.0\">\n              India\n              </text>\n            </g>\n          </g>\n          <g transform=\"translate(0.0 207.0 ) \">\n            <g>\n              <rect x=\"0.0\" y=\"0.0\" height=\"23.0\" width=\"23.0\" stroke-width=\"0.0\" fill=\"rgb(255,255,255)\" fill-opacity=\"1.0\">\n              </rect>\n              <g transform=\"translate(1.0 1.0 ) \">\n                <g>\n                  \n                  <g >\n                    <circle fill=\"#73c9e6\" stroke=\"#73c9e6\" stroke-opacity=\"0.0\" stroke-width=\"0.0\" cx=\"10.5\" cy=\"10.5\" r=\"5.5\" />\n                  </g>\n                </g>\n              </g>\n              <rect x=\"0.0\" y=\"0.0\" height=\"23.0\" width=\"23.0\" stroke=\"rgb(255,255,255)\" stroke-opacity=\"1.0\" stroke-width=\"1.0\" fill-opacity=\"0.0\">\n              </rect>\n            </g>\n            <g transform=\"translate(26.9903027277341 16.05 ) \">\n              <text class=\"legend-item\" y=\"0.0\">\n              Japan\n              </text>\n            </g>\n          </g>\n          <g transform=\"translate(0.0 230.0 ) \">\n            <g>\n              <rect x=\"0.0\" y=\"0.0\" height=\"23.0\" width=\"23.0\" stroke-width=\"0.0\" fill=\"rgb(255,255,255)\" fill-opacity=\"1.0\">\n              </rect>\n              <g transform=\"translate(1.0 1.0 ) \">\n                <g>\n                  \n                  <g >\n                    <circle fill=\"#73a5e6\" stroke=\"#73a5e6\" stroke-opacity=\"0.0\" stroke-width=\"0.0\" cx=\"10.5\" cy=\"10.5\" r=\"5.5\" />\n                  </g>\n                </g>\n              </g>\n              <rect x=\"0.0\" y=\"0.0\" height=\"23.0\" width=\"23.0\" stroke=\"rgb(255,255,255)\" stroke-opacity=\"1.0\" stroke-width=\"1.0\" fill-opacity=\"0.0\">\n              </rect>\n            </g>\n            <g transform=\"translate(26.9903027277341 16.05 ) \">\n              <text class=\"legend-item\" y=\"0.0\">\n              North Korea\n              </text>\n            </g>\n          </g>\n          <g transform=\"translate(0.0 253.0 ) \">\n            <g>\n              <rect x=\"0.0\" y=\"0.0\" height=\"23.0\" width=\"23.0\" stroke-width=\"0.0\" fill=\"rgb(255,255,255)\" fill-opacity=\"1.0\">\n              </rect>\n              <g transform=\"translate(1.0 1.0 ) \">\n                <g>\n                  \n                  <g >\n                    <circle fill=\"#7380e6\" stroke=\"#7380e6\" stroke-opacity=\"0.0\" stroke-width=\"0.0\" cx=\"10.5\" cy=\"10.5\" r=\"5.5\" />\n                  </g>\n                </g>\n              </g>\n              <rect x=\"0.0\" y=\"0.0\" height=\"23.0\" width=\"23.0\" stroke=\"rgb(255,255,255)\" stroke-opacity=\"1.0\" stroke-width=\"1.0\" fill-opacity=\"0.0\">\n              </rect>\n            </g>\n            <g transform=\"translate(26.9903027277341 16.05 ) \">\n              <text class=\"legend-item\" y=\"0.0\">\n              South Korea\n              </text>\n            </g>\n          </g>\n          <g transform=\"translate(0.0 276.0 ) \">\n            <g>\n              <rect x=\"0.0\" y=\"0.0\" height=\"23.0\" width=\"23.0\" stroke-width=\"0.0\" fill=\"rgb(255,255,255)\" fill-opacity=\"1.0\">\n              </rect>\n              <g transform=\"translate(1.0 1.0 ) \">\n                <g>\n                  \n                  <g >\n                    <circle fill=\"#8973e6\" stroke=\"#8973e6\" stroke-opacity=\"0.0\" stroke-width=\"0.0\" cx=\"10.5\" cy=\"10.5\" r=\"5.5\" />\n                  </g>\n                </g>\n              </g>\n              <rect x=\"0.0\" y=\"0.0\" height=\"23.0\" width=\"23.0\" stroke=\"rgb(255,255,255)\" stroke-opacity=\"1.0\" stroke-width=\"1.0\" fill-opacity=\"0.0\">\n              </rect>\n            </g>\n            <g transform=\"translate(26.9903027277341 16.05 ) \">\n              <text class=\"legend-item\" y=\"0.0\">\n              New Zealand\n              </text>\n            </g>\n          </g>\n          <g transform=\"translate(0.0 299.0 ) \">\n            <g>\n              <rect x=\"0.0\" y=\"0.0\" height=\"23.0\" width=\"23.0\" stroke-width=\"0.0\" fill=\"rgb(255,255,255)\" fill-opacity=\"1.0\">\n              </rect>\n              <g transform=\"translate(1.0 1.0 ) \">\n                <g>\n                  \n                  <g >\n                    <circle fill=\"#ae73e6\" stroke=\"#ae73e6\" stroke-opacity=\"0.0\" stroke-width=\"0.0\" cx=\"10.5\" cy=\"10.5\" r=\"5.5\" />\n                  </g>\n                </g>\n              </g>\n              <rect x=\"0.0\" y=\"0.0\" height=\"23.0\" width=\"23.0\" stroke=\"rgb(255,255,255)\" stroke-opacity=\"1.0\" stroke-width=\"1.0\" fill-opacity=\"0.0\">\n              </rect>\n            </g>\n            <g transform=\"translate(26.9903027277341 16.05 ) \">\n              <text class=\"legend-item\" y=\"0.0\">\n              Norway\n              </text>\n            </g>\n          </g>\n          <g transform=\"translate(0.0 322.0 ) \">\n            <g>\n              <rect x=\"0.0\" y=\"0.0\" height=\"23.0\" width=\"23.0\" stroke-width=\"0.0\" fill=\"rgb(255,255,255)\" fill-opacity=\"1.0\">\n              </rect>\n              <g transform=\"translate(1.0 1.0 ) \">\n                <g>\n                  \n                  <g >\n                    <circle fill=\"#d273e6\" stroke=\"#d273e6\" stroke-opacity=\"0.0\" stroke-width=\"0.0\" cx=\"10.5\" cy=\"10.5\" r=\"5.5\" />\n                  </g>\n                </g>\n              </g>\n              <rect x=\"0.0\" y=\"0.0\" height=\"23.0\" width=\"23.0\" stroke=\"rgb(255,255,255)\" stroke-opacity=\"1.0\" stroke-width=\"1.0\" fill-opacity=\"0.0\">\n              </rect>\n            </g>\n            <g transform=\"translate(26.9903027277341 16.05 ) \">\n              <text class=\"legend-item\" y=\"0.0\">\n              Poland\n              </text>\n            </g>\n          </g>\n          <g transform=\"translate(0.0 345.0 ) \">\n            <g>\n              <rect x=\"0.0\" y=\"0.0\" height=\"23.0\" width=\"23.0\" stroke-width=\"0.0\" fill=\"rgb(255,255,255)\" fill-opacity=\"1.0\">\n              </rect>\n              <g transform=\"translate(1.0 1.0 ) \">\n                <g>\n                  \n                  <g >\n                    <circle fill=\"#e673d5\" stroke=\"#e673d5\" stroke-opacity=\"0.0\" stroke-width=\"0.0\" cx=\"10.5\" cy=\"10.5\" r=\"5.5\" />\n                  </g>\n                </g>\n              </g>\n              <rect x=\"0.0\" y=\"0.0\" height=\"23.0\" width=\"23.0\" stroke=\"rgb(255,255,255)\" stroke-opacity=\"1.0\" stroke-width=\"1.0\" fill-opacity=\"0.0\">\n              </rect>\n            </g>\n            <g transform=\"translate(26.9903027277341 16.05 ) \">\n              <text class=\"legend-item\" y=\"0.0\">\n              Russia\n              </text>\n            </g>\n          </g>\n          <g transform=\"translate(0.0 368.0 ) \">\n            <g>\n              <rect x=\"0.0\" y=\"0.0\" height=\"23.0\" width=\"23.0\" stroke-width=\"0.0\" fill=\"rgb(255,255,255)\" fill-opacity=\"1.0\">\n              </rect>\n              <g transform=\"translate(1.0 1.0 ) \">\n                <g>\n                  \n                  <g >\n                    <circle fill=\"#e673b1\" stroke=\"#e673b1\" stroke-opacity=\"0.0\" stroke-width=\"0.0\" cx=\"10.5\" cy=\"10.5\" r=\"5.5\" />\n                  </g>\n                </g>\n              </g>\n              <rect x=\"0.0\" y=\"0.0\" height=\"23.0\" width=\"23.0\" stroke=\"rgb(255,255,255)\" stroke-opacity=\"1.0\" stroke-width=\"1.0\" fill-opacity=\"0.0\">\n              </rect>\n            </g>\n            <g transform=\"translate(26.9903027277341 16.05 ) \">\n              <text class=\"legend-item\" y=\"0.0\">\n              Turkey\n              </text>\n            </g>\n          </g>\n          <g transform=\"translate(0.0 391.0 ) \">\n            <g>\n              <rect x=\"0.0\" y=\"0.0\" height=\"23.0\" width=\"23.0\" stroke-width=\"0.0\" fill=\"rgb(255,255,255)\" fill-opacity=\"1.0\">\n              </rect>\n              <g transform=\"translate(1.0 1.0 ) \">\n                <g>\n                  \n                  <g >\n                    <circle fill=\"#e6738c\" stroke=\"#e6738c\" stroke-opacity=\"0.0\" stroke-width=\"0.0\" cx=\"10.5\" cy=\"10.5\" r=\"5.5\" />\n                  </g>\n                </g>\n              </g>\n              <rect x=\"0.0\" y=\"0.0\" height=\"23.0\" width=\"23.0\" stroke=\"rgb(255,255,255)\" stroke-opacity=\"1.0\" stroke-width=\"1.0\" fill-opacity=\"0.0\">\n              </rect>\n            </g>\n            <g transform=\"translate(26.9903027277341 16.05 ) \">\n              <text class=\"legend-item\" y=\"0.0\">\n              United Kingdom\n              </text>\n            </g>\n          </g>\n          <g transform=\"translate(0.0 414.0 ) \">\n            <g>\n              <rect x=\"0.0\" y=\"0.0\" height=\"23.0\" width=\"23.0\" stroke-width=\"0.0\" fill=\"rgb(255,255,255)\" fill-opacity=\"1.0\">\n              </rect>\n              <g transform=\"translate(1.0 1.0 ) \">\n                <g>\n                  \n                  <g >\n                    <circle fill=\"#e67d73\" stroke=\"#e67d73\" stroke-opacity=\"0.0\" stroke-width=\"0.0\" cx=\"10.5\" cy=\"10.5\" r=\"5.5\" />\n                  </g>\n                </g>\n              </g>\n              <rect x=\"0.0\" y=\"0.0\" height=\"23.0\" width=\"23.0\" stroke=\"rgb(255,255,255)\" stroke-opacity=\"1.0\" stroke-width=\"1.0\" fill-opacity=\"0.0\">\n              </rect>\n            </g>\n            <g transform=\"translate(26.9903027277341 16.05 ) \">\n              <text class=\"legend-item\" y=\"0.0\">\n              United States\n              </text>\n            </g>\n          </g>\n        </g>\n      </g>\n    </g>\n    <path fill=\"rgb(0,0,0)\" fill-opacity=\"0.0\" stroke=\"rgb(71,71,71)\" stroke-opacity=\"1.0\" stroke-width=\"0.0\" d=\"M0.0 0.0 L0.0 400.0 L600.0 400.0 L600.0 0.0 Z\">\n    </path>\n  </g>\n  <g id=\"ddqL0aU\">\n  </g>\n</svg>\n        <script>document.getElementById(\"4cf237f1-03d0-465e-8231-36990dd31e9f\").style.display = \"none\";</script>",
      "application/plot+json": {
       "output_type": "lets_plot_spec",
       "output": {
        "ggtitle": {
         "text": "Life Expectancy and GDP by Country (1998)"
        },
        "mapping": {},
        "data": {
         "country": [
          "Australia",
          "Canada",
          "China",
          "Cuba",
          "Finland",
          "France",
          "Germany",
          "Iceland",
          "India",
          "Japan",
          "North Korea",
          "South Korea",
          "New Zealand",
          "Norway",
          "Poland",
          "Russia",
          "Turkey",
          "United Kingdom",
          "United States"
         ],
         "gdp": [
          29000.0,
          32000.0,
          750.0,
          5000.0,
          28000.0,
          27000.0,
          32000.0,
          34000.0,
          450.0,
          33000.0,
          600.0,
          12000.0,
          22000.0,
          40000.0,
          9000.0,
          4000.0,
          3000.0,
          28000.0,
          35000.0
         ],
         "lifeExp": [
          75.49,
          76.03,
          66.35,
          58.75,
          79.64,
          82.92,
          80.68,
          70.71,
          60.3,
          82.78,
          69.57,
          74.61,
          71.18,
          71.43,
          75.22,
          72.65,
          74.56,
          75.19,
          81.12
         ],
         "population": [
          19000.0,
          30000.0,
          1250000.0,
          11000.0,
          5000.0,
          59000.0,
          82000.0,
          280.0,
          950000.0,
          126000.0,
          24000.0,
          47000.0,
          3800.0,
          4400.0,
          38600.0,
          147000.0,
          63000.0,
          59000.0,
          273000.0
         ]
        },
        "kind": "plot",
        "scales": [
         {
          "aesthetic": "x",
          "name": "GDP per capita (in dollars)",
          "limits": [
           null,
           null
          ]
         },
         {
          "aesthetic": "y",
          "name": "Life expectancy (years)",
          "limits": [
           null,
           null
          ]
         },
         {
          "aesthetic": "size",
          "range": [
           2.0,
           15.0
          ],
          "limits": [
           null,
           null
          ],
          "guide": "none"
         },
         {
          "aesthetic": "color",
          "scale_mapper_kind": "color_hue"
         }
        ],
        "layers": [
         {
          "mapping": {
           "x": "gdp",
           "y": "lifeExp",
           "size": "population",
           "color": "country"
          },
          "stat": "identity",
          "sampling": "none",
          "position": "identity",
          "geom": "point"
         }
        ]
       },
       "apply_color_scheme": true,
       "swing_enabled": true
      }
     },
     "execution_count": 4,
     "metadata": {},
     "output_type": "execute_result"
    }
   ],
   "source": [
    "data.filter { year == 1998 }.plot {\n",
    "    layout.title = \"Life Expectancy and GDP by Country (1998)\"\n",
    "    points {\n",
    "        x(gdp) { axis.name = \"GDP per capita (in dollars)\" }\n",
    "        y(lifeExp) { axis.name = \"Life expectancy (years)\" }\n",
    "        size(population) {\n",
    "            legend.type = LegendType.None\n",
    "            scale = continuous(2.0..15.0)\n",
    "        }\n",
    "        color(country) {\n",
    "            scale = categoricalColorHue()\n",
    "        }\n",
    "    }\n",
    "}"
   ],
   "metadata": {
    "collapsed": false,
    "ExecuteTime": {
     "end_time": "2023-11-20T23:37:13.936635Z",
     "start_time": "2023-11-20T23:37:13.674094Z"
    }
   }
  },
  {
   "cell_type": "code",
   "execution_count": 5,
   "outputs": [
    {
     "data": {
      "text/html": "            <iframe src='about:blank' style='border:none !important;' width='600' height='400' srcdoc=\"&lt;html lang=&quot;en&quot;>\n   &lt;head>\n       &lt;style> html, body { margin: 0; overflow: hidden; } &lt;/style>\n       &lt;script type=&quot;text/javascript&quot; data-lets-plot-script=&quot;library&quot; src=&quot;https://cdn.jsdelivr.net/gh/JetBrains/lets-plot@v4.0.1/js-package/distr/lets-plot.min.js&quot;>&lt;/script>\n   &lt;/head>\n   &lt;body>\n          &lt;div id=&quot;3wqBFR&quot;>&lt;/div>\n   &lt;script type=&quot;text/javascript&quot; data-lets-plot-script=&quot;plot&quot;>\n       var plotSpec={\n&quot;ggtitle&quot;:{\n&quot;text&quot;:&quot;Life Expectancy and GDP by Country (2023)&quot;\n},\n&quot;mapping&quot;:{\n},\n&quot;data&quot;:{\n&quot;country&quot;:[&quot;Australia&quot;,&quot;Canada&quot;,&quot;China&quot;,&quot;Cuba&quot;,&quot;Finland&quot;,&quot;France&quot;,&quot;Germany&quot;,&quot;Iceland&quot;,&quot;India&quot;,&quot;Japan&quot;,&quot;North Korea&quot;,&quot;South Korea&quot;,&quot;New Zealand&quot;,&quot;Norway&quot;,&quot;Poland&quot;,&quot;Russia&quot;,&quot;Turkey&quot;,&quot;United Kingdom&quot;,&quot;United States&quot;],\n&quot;gdp&quot;:[55000.0,52000.0,10000.0,7000.0,48000.0,44000.0,50000.0,60000.0,2000.0,45000.0,1200.0,30000.0,34000.0,70000.0,15000.0,9000.0,10000.0,40000.0,60000.0],\n&quot;lifeExp&quot;:[79.44,73.6,70.46,63.34,72.1,78.15,80.7,79.88,63.13,81.53,59.33,71.59,76.56,71.97,78.21,78.38,79.76,84.77,82.39],\n&quot;population&quot;:[25000.0,38000.0,1400000.0,11300.0,5500.0,67000.0,83000.0,340.0,1350000.0,126000.0,25000.0,51000.0,5000.0,5300.0,38000.0,146000.0,82000.0,67000.0,331000.0]\n},\n&quot;kind&quot;:&quot;plot&quot;,\n&quot;scales&quot;:[{\n&quot;aesthetic&quot;:&quot;x&quot;,\n&quot;name&quot;:&quot;GDP per capita (in dollars)&quot;,\n&quot;limits&quot;:[null,null]\n},{\n&quot;aesthetic&quot;:&quot;y&quot;,\n&quot;name&quot;:&quot;Life expectancy (years)&quot;,\n&quot;limits&quot;:[null,null]\n},{\n&quot;aesthetic&quot;:&quot;size&quot;,\n&quot;range&quot;:[2.0,15.0],\n&quot;limits&quot;:[null,null],\n&quot;guide&quot;:&quot;none&quot;\n},{\n&quot;aesthetic&quot;:&quot;color&quot;,\n&quot;scale_mapper_kind&quot;:&quot;color_hue&quot;\n}],\n&quot;layers&quot;:[{\n&quot;mapping&quot;:{\n&quot;x&quot;:&quot;gdp&quot;,\n&quot;y&quot;:&quot;lifeExp&quot;,\n&quot;size&quot;:&quot;population&quot;,\n&quot;color&quot;:&quot;country&quot;\n},\n&quot;stat&quot;:&quot;identity&quot;,\n&quot;sampling&quot;:&quot;none&quot;,\n&quot;position&quot;:&quot;identity&quot;,\n&quot;geom&quot;:&quot;point&quot;,\n&quot;data&quot;:{\n}\n}]\n};\n       var plotContainer = document.getElementById(&quot;3wqBFR&quot;);\n       LetsPlot.buildPlotFromProcessedSpecs(plotSpec, -1, -1, plotContainer);\n   &lt;/script>\n   &lt;/body>\n&lt;/html>\"></iframe>            \n        <svg id=97653f32-083f-4c9c-9cac-34b1499b9736 xmlns=\"http://www.w3.org/2000/svg\" xmlns:xlink=\"http://www.w3.org/1999/xlink\" class=\"plt-container\" width=\"600.0\" height=\"400.0\">\n  <style type=\"text/css\">\n  .plt-container {\n   font-family: Lucida Grande, sans-serif;\n   user-select: none;\n   -webkit-user-select: none;\n   -moz-user-select: none;\n   -ms-user-select: none;\n}\ntext {\n   text-rendering: optimizeLegibility;\n}\n#pzApgBN .plot-title {\n   fill: #474747;\n   font-family: Lucida Grande, sans-serif;\n   font-size: 16.0px;\n   font-weight: normal;\n   font-style: normal;   \n}\n#pzApgBN .plot-subtitle {\n   fill: #474747;\n   font-family: Lucida Grande, sans-serif;\n   font-size: 15.0px;\n   font-weight: normal;\n   font-style: normal;   \n}\n#pzApgBN .plot-caption {\n   fill: #474747;\n   font-family: Lucida Grande, sans-serif;\n   font-size: 13.0px;\n   font-weight: normal;\n   font-style: normal;   \n}\n#pzApgBN .legend-title {\n   fill: #474747;\n   font-family: Lucida Grande, sans-serif;\n   font-size: 15.0px;\n   font-weight: normal;\n   font-style: normal;   \n}\n#pzApgBN .legend-item {\n   fill: #474747;\n   font-family: Lucida Grande, sans-serif;\n   font-size: 13.0px;\n   font-weight: normal;\n   font-style: normal;   \n}\n#pzApgBN .axis-title-x {\n   fill: #474747;\n   font-family: Lucida Grande, sans-serif;\n   font-size: 15.0px;\n   font-weight: normal;\n   font-style: normal;   \n}\n#pzApgBN .axis-text-x {\n   fill: #474747;\n   font-family: Lucida Grande, sans-serif;\n   font-size: 13.0px;\n   font-weight: normal;\n   font-style: normal;   \n}\n#d4CE49G .axis-tooltip-text-x {\n   fill: #ffffff;\n   font-family: Lucida Grande, sans-serif;\n   font-size: 13.0px;\n   font-weight: normal;\n   font-style: normal;   \n}\n#pzApgBN .axis-title-y {\n   fill: #474747;\n   font-family: Lucida Grande, sans-serif;\n   font-size: 15.0px;\n   font-weight: normal;\n   font-style: normal;   \n}\n#pzApgBN .axis-text-y {\n   fill: #474747;\n   font-family: Lucida Grande, sans-serif;\n   font-size: 13.0px;\n   font-weight: normal;\n   font-style: normal;   \n}\n#d4CE49G .axis-tooltip-text-y {\n   fill: #ffffff;\n   font-family: Lucida Grande, sans-serif;\n   font-size: 13.0px;\n   font-weight: normal;\n   font-style: normal;   \n}\n#pzApgBN .facet-strip-text-x {\n   fill: #474747;\n   font-family: Lucida Grande, sans-serif;\n   font-size: 13.0px;\n   font-weight: normal;\n   font-style: normal;   \n}\n#pzApgBN .facet-strip-text-y {\n   fill: #474747;\n   font-family: Lucida Grande, sans-serif;\n   font-size: 13.0px;\n   font-weight: normal;\n   font-style: normal;   \n}\n#d4CE49G .tooltip-text {\n   fill: #474747;\n   font-family: Lucida Grande, sans-serif;\n   font-size: 13.0px;\n   font-weight: normal;\n   font-style: normal;   \n}\n#d4CE49G .tooltip-title {\n   fill: #474747;\n   font-family: Lucida Grande, sans-serif;\n   font-size: 13.0px;\n   font-weight: bold;\n   font-style: normal;   \n}\n#d4CE49G .tooltip-label {\n   fill: #474747;\n   font-family: Lucida Grande, sans-serif;\n   font-size: 13.0px;\n   font-weight: bold;\n   font-style: normal;   \n}\n\n  </style>\n  <g id=\"pzApgBN\">\n    <path fill-rule=\"evenodd\" fill=\"rgb(255,255,255)\" fill-opacity=\"1.0\" d=\"M0.0 0.0 L0.0 400.0 L600.0 400.0 L600.0 0.0 Z\">\n    </path>\n    <g transform=\"translate(23.0 34.0 ) \">\n      <g transform=\"translate(21.961210910936405 320.0 ) \">\n        <line x1=\"11.567897616940813\" y1=\"-0.0\" x2=\"11.567897616940813\" y2=\"-320.0\" stroke=\"rgb(233,233,233)\" stroke-opacity=\"1.0\" stroke-width=\"1.0\">\n        </line>\n        <line x1=\"114.85269776819807\" y1=\"-0.0\" x2=\"114.85269776819807\" y2=\"-320.0\" stroke=\"rgb(233,233,233)\" stroke-opacity=\"1.0\" stroke-width=\"1.0\">\n        </line>\n        <line x1=\"218.13749791945534\" y1=\"-0.0\" x2=\"218.13749791945534\" y2=\"-320.0\" stroke=\"rgb(233,233,233)\" stroke-opacity=\"1.0\" stroke-width=\"1.0\">\n        </line>\n        <line x1=\"321.4222980707126\" y1=\"-0.0\" x2=\"321.4222980707126\" y2=\"-320.0\" stroke=\"rgb(233,233,233)\" stroke-opacity=\"1.0\" stroke-width=\"1.0\">\n        </line>\n        <g transform=\"translate(11.567897616940813 0.0 ) \">\n          <line stroke-width=\"1.0\" stroke=\"rgb(71,71,71)\" stroke-opacity=\"1.0\" x2=\"0.0\" y2=\"4.0\">\n          </line>\n          <g transform=\"translate(0.0 7.0 ) \">\n            <text class=\"axis-text-x\" text-anchor=\"middle\" dy=\"0.7em\">\n            0\n            </text>\n          </g>\n        </g>\n        <g transform=\"translate(114.85269776819807 0.0 ) \">\n          <line stroke-width=\"1.0\" stroke=\"rgb(71,71,71)\" stroke-opacity=\"1.0\" x2=\"0.0\" y2=\"4.0\">\n          </line>\n          <g transform=\"translate(0.0 7.0 ) \">\n            <text class=\"axis-text-x\" text-anchor=\"middle\" dy=\"0.7em\">\n            20,000\n            </text>\n          </g>\n        </g>\n        <g transform=\"translate(218.13749791945534 0.0 ) \">\n          <line stroke-width=\"1.0\" stroke=\"rgb(71,71,71)\" stroke-opacity=\"1.0\" x2=\"0.0\" y2=\"4.0\">\n          </line>\n          <g transform=\"translate(0.0 7.0 ) \">\n            <text class=\"axis-text-x\" text-anchor=\"middle\" dy=\"0.7em\">\n            40,000\n            </text>\n          </g>\n        </g>\n        <g transform=\"translate(321.4222980707126 0.0 ) \">\n          <line stroke-width=\"1.0\" stroke=\"rgb(71,71,71)\" stroke-opacity=\"1.0\" x2=\"0.0\" y2=\"4.0\">\n          </line>\n          <g transform=\"translate(0.0 7.0 ) \">\n            <text class=\"axis-text-x\" text-anchor=\"middle\" dy=\"0.7em\">\n            60,000\n            </text>\n          </g>\n        </g>\n        <line x1=\"0.0\" y1=\"0.0\" x2=\"390.8296837723575\" y2=\"0.0\" stroke-width=\"1.0\" stroke=\"rgb(71,71,71)\" stroke-opacity=\"1.0\">\n        </line>\n      </g>\n      <g transform=\"translate(21.961210910936405 0.0 ) \">\n        <line x1=\"0.0\" y1=\"297.7930245854774\" x2=\"390.8296837723575\" y2=\"297.7930245854774\" stroke=\"rgb(233,233,233)\" stroke-opacity=\"1.0\" stroke-width=\"1.0\">\n        </line>\n        <line x1=\"0.0\" y1=\"240.61749571183532\" x2=\"390.8296837723575\" y2=\"240.61749571183532\" stroke=\"rgb(233,233,233)\" stroke-opacity=\"1.0\" stroke-width=\"1.0\">\n        </line>\n        <line x1=\"0.0\" y1=\"183.44196683819325\" x2=\"390.8296837723575\" y2=\"183.44196683819325\" stroke=\"rgb(233,233,233)\" stroke-opacity=\"1.0\" stroke-width=\"1.0\">\n        </line>\n        <line x1=\"0.0\" y1=\"126.26643796455119\" x2=\"390.8296837723575\" y2=\"126.26643796455119\" stroke=\"rgb(233,233,233)\" stroke-opacity=\"1.0\" stroke-width=\"1.0\">\n        </line>\n        <line x1=\"0.0\" y1=\"69.09090909090912\" x2=\"390.8296837723575\" y2=\"69.09090909090912\" stroke=\"rgb(233,233,233)\" stroke-opacity=\"1.0\" stroke-width=\"1.0\">\n        </line>\n        <line x1=\"0.0\" y1=\"11.915380217267057\" x2=\"390.8296837723575\" y2=\"11.915380217267057\" stroke=\"rgb(233,233,233)\" stroke-opacity=\"1.0\" stroke-width=\"1.0\">\n        </line>\n        <g transform=\"translate(0.0 297.7930245854774 ) \">\n          <g transform=\"translate(-3.0 0.0 ) \">\n            <text class=\"axis-text-y\" text-anchor=\"end\" dy=\"0.35em\">\n            60\n            </text>\n          </g>\n        </g>\n        <g transform=\"translate(0.0 240.61749571183532 ) \">\n          <g transform=\"translate(-3.0 0.0 ) \">\n            <text class=\"axis-text-y\" text-anchor=\"end\" dy=\"0.35em\">\n            65\n            </text>\n          </g>\n        </g>\n        <g transform=\"translate(0.0 183.44196683819325 ) \">\n          <g transform=\"translate(-3.0 0.0 ) \">\n            <text class=\"axis-text-y\" text-anchor=\"end\" dy=\"0.35em\">\n            70\n            </text>\n          </g>\n        </g>\n        <g transform=\"translate(0.0 126.26643796455119 ) \">\n          <g transform=\"translate(-3.0 0.0 ) \">\n            <text class=\"axis-text-y\" text-anchor=\"end\" dy=\"0.35em\">\n            75\n            </text>\n          </g>\n        </g>\n        <g transform=\"translate(0.0 69.09090909090912 ) \">\n          <g transform=\"translate(-3.0 0.0 ) \">\n            <text class=\"axis-text-y\" text-anchor=\"end\" dy=\"0.35em\">\n            80\n            </text>\n          </g>\n        </g>\n        <g transform=\"translate(0.0 11.915380217267057 ) \">\n          <g transform=\"translate(-3.0 0.0 ) \">\n            <text class=\"axis-text-y\" text-anchor=\"end\" dy=\"0.35em\">\n            85\n            </text>\n          </g>\n        </g>\n      </g>\n      <g transform=\"translate(21.961210910936405 0.0 ) \" clip-path=\"url(#c22kTnJ)\" clip-bounds-jfx=\"[rect (0.0, 0.0), (390.8296837723575, 320.0)]\">\n        <defs>\n          <clipPath id=\"c22kTnJ\">\n            <rect x=\"0.0\" y=\"0.0\" width=\"390.8296837723575\" height=\"320.0\">\n            </rect>\n          </clipPath>\n        </defs>\n        <g>\n          \n          <g >\n            <circle fill=\"#e6a273\" stroke=\"#e6a273\" stroke-opacity=\"0.0\" stroke-width=\"0.0\" cx=\"295.6010980328983\" cy=\"75.49456832475698\" r=\"2.4519454724718863\" />\n            <circle fill=\"#e6c673\" stroke=\"#e6c673\" stroke-opacity=\"0.0\" stroke-width=\"0.0\" cx=\"280.10837801020966\" cy=\"142.275586049171\" r=\"2.5847634425503334\" />\n            <circle fill=\"#e1e673\" stroke=\"#e1e673\" stroke-opacity=\"0.0\" stroke-width=\"0.0\" cx=\"63.21029769256944\" cy=\"178.18181818181824\" r=\"16.5\" />\n            <circle fill=\"#bde673\" stroke=\"#bde673\" stroke-opacity=\"0.0\" stroke-width=\"0.0\" cx=\"47.71757766988085\" cy=\"259.59977129788444\" r=\"2.311975765543061\" />\n            <circle fill=\"#99e673\" stroke=\"#99e673\" stroke-opacity=\"0.0\" stroke-width=\"0.0\" cx=\"259.45141797995825\" cy=\"159.4282447112637\" r=\"2.252718517354215\" />\n            <circle fill=\"#74e673\" stroke=\"#74e673\" stroke-opacity=\"0.0\" stroke-width=\"0.0\" cx=\"238.7944579497068\" cy=\"90.24585477415656\" r=\"2.881049683494563\" />\n            <circle fill=\"#73e695\" stroke=\"#73e695\" stroke-opacity=\"0.0\" stroke-width=\"0.0\" cx=\"269.77989799508396\" cy=\"61.08633504859915\" r=\"3.0445179543603453\" />\n            <circle fill=\"#73e6ba\" stroke=\"#73e6ba\" stroke-opacity=\"0.0\" stroke-width=\"0.0\" cx=\"321.4222980707126\" cy=\"70.46312178387655\" r=\"2.2\" />\n            <circle fill=\"#73e6de\" stroke=\"#73e6de\" stroke-opacity=\"0.0\" stroke-width=\"0.0\" cx=\"21.89637763206654\" cy=\"262.00114351057744\" r=\"15.989161653544432\" />\n            <circle fill=\"#73c9e6\" stroke=\"#73c9e6\" stroke-opacity=\"0.0\" stroke-width=\"0.0\" cx=\"243.95869795726966\" cy=\"51.59519725557459\" r=\"3.4838389323121333\" />\n            <circle fill=\"#73a5e6\" stroke=\"#73a5e6\" stroke-opacity=\"0.0\" stroke-width=\"0.0\" cx=\"17.764985626016248\" cy=\"305.4545454545455\" r=\"2.4519454724718863\" />\n            <circle fill=\"#7380e6\" stroke=\"#7380e6\" stroke-opacity=\"0.0\" stroke-width=\"0.0\" cx=\"166.49509784382673\" cy=\"165.260148656375\" r=\"2.717581412628782\" />\n            <circle fill=\"#8973e6\" stroke=\"#8973e6\" stroke-opacity=\"0.0\" stroke-width=\"0.0\" cx=\"187.15205787407817\" cy=\"108.4276729559748\" r=\"2.2476101338896592\" />\n            <circle fill=\"#ae73e6\" stroke=\"#ae73e6\" stroke-opacity=\"0.0\" stroke-width=\"0.0\" cx=\"373.06469814634124\" cy=\"160.91480846197828\" r=\"2.250675163968393\" />\n            <circle fill=\"#d273e6\" stroke=\"#d273e6\" stroke-opacity=\"0.0\" stroke-width=\"0.0\" cx=\"89.03149773038376\" cy=\"89.55974842767307\" r=\"2.5847634425503334\" />\n            <circle fill=\"#e673d5\" stroke=\"#e673d5\" stroke-opacity=\"0.0\" stroke-width=\"0.0\" cx=\"58.04605768500658\" cy=\"87.61578044596922\" r=\"3.68817427089436\" />\n            <circle fill=\"#e673b1\" stroke=\"#e673b1\" stroke-opacity=\"0.0\" stroke-width=\"0.0\" cx=\"63.21029769256944\" cy=\"71.83533447684385\" r=\"3.034301187431234\" />\n            <circle fill=\"#e6738c\" stroke=\"#e6738c\" stroke-opacity=\"0.0\" stroke-width=\"0.0\" cx=\"218.13749791945534\" cy=\"14.545454545454618\" r=\"2.881049683494563\" />\n            <circle fill=\"#e67d73\" stroke=\"#e67d73\" stroke-opacity=\"0.0\" stroke-width=\"0.0\" cx=\"321.4222980707126\" cy=\"41.76100628930817\" r=\"5.578276152779962\" />\n          </g>\n        </g>\n      </g>\n    </g>\n    <g transform=\"translate(44.9612109109364 15.2 ) \">\n      <text class=\"plot-title\" y=\"0.0\">\n      Life Expectancy and GDP by Country (2023)\n      </text>\n    </g>\n    <g transform=\"translate(14.5 194.0 ) rotate(-90.0 ) \">\n      <text class=\"axis-title-y\" y=\"0.0\" text-anchor=\"middle\">\n      Life expectancy (years)\n      </text>\n    </g>\n    <g transform=\"translate(240.37605279711516 391.5 ) \">\n      <text class=\"axis-title-x\" y=\"0.0\" text-anchor=\"middle\">\n      GDP per capita (in dollars)\n      </text>\n    </g>\n    <g transform=\"translate(445.7908946832939 24.0 ) \">\n      <rect x=\"5.0\" y=\"5.0\" height=\"469.5\" width=\"144.2091053167061\" stroke=\"rgb(71,71,71)\" stroke-opacity=\"1.0\" stroke-width=\"0.0\" fill=\"rgb(255,255,255)\" fill-opacity=\"1.0\">\n      </rect>\n      <g transform=\"translate(10.0 10.0 ) \">\n        <g transform=\"translate(0.0 10.5 ) \">\n          <text class=\"legend-title\" y=\"0.0\">\n          country\n          </text>\n        </g>\n        <g transform=\"translate(0.0 22.5 ) \">\n          <g transform=\"\">\n            <g>\n              <rect x=\"0.0\" y=\"0.0\" height=\"23.0\" width=\"23.0\" stroke-width=\"0.0\" fill=\"rgb(255,255,255)\" fill-opacity=\"1.0\">\n              </rect>\n              <g transform=\"translate(1.0 1.0 ) \">\n                <g>\n                  \n                  <g >\n                    <circle fill=\"#e6a273\" stroke=\"#e6a273\" stroke-opacity=\"0.0\" stroke-width=\"0.0\" cx=\"10.5\" cy=\"10.5\" r=\"5.5\" />\n                  </g>\n                </g>\n              </g>\n              <rect x=\"0.0\" y=\"0.0\" height=\"23.0\" width=\"23.0\" stroke=\"rgb(255,255,255)\" stroke-opacity=\"1.0\" stroke-width=\"1.0\" fill-opacity=\"0.0\">\n              </rect>\n            </g>\n            <g transform=\"translate(26.9903027277341 16.05 ) \">\n              <text class=\"legend-item\" y=\"0.0\">\n              Australia\n              </text>\n            </g>\n          </g>\n          <g transform=\"translate(0.0 23.0 ) \">\n            <g>\n              <rect x=\"0.0\" y=\"0.0\" height=\"23.0\" width=\"23.0\" stroke-width=\"0.0\" fill=\"rgb(255,255,255)\" fill-opacity=\"1.0\">\n              </rect>\n              <g transform=\"translate(1.0 1.0 ) \">\n                <g>\n                  \n                  <g >\n                    <circle fill=\"#e6c673\" stroke=\"#e6c673\" stroke-opacity=\"0.0\" stroke-width=\"0.0\" cx=\"10.5\" cy=\"10.5\" r=\"5.5\" />\n                  </g>\n                </g>\n              </g>\n              <rect x=\"0.0\" y=\"0.0\" height=\"23.0\" width=\"23.0\" stroke=\"rgb(255,255,255)\" stroke-opacity=\"1.0\" stroke-width=\"1.0\" fill-opacity=\"0.0\">\n              </rect>\n            </g>\n            <g transform=\"translate(26.9903027277341 16.05 ) \">\n              <text class=\"legend-item\" y=\"0.0\">\n              Canada\n              </text>\n            </g>\n          </g>\n          <g transform=\"translate(0.0 46.0 ) \">\n            <g>\n              <rect x=\"0.0\" y=\"0.0\" height=\"23.0\" width=\"23.0\" stroke-width=\"0.0\" fill=\"rgb(255,255,255)\" fill-opacity=\"1.0\">\n              </rect>\n              <g transform=\"translate(1.0 1.0 ) \">\n                <g>\n                  \n                  <g >\n                    <circle fill=\"#e1e673\" stroke=\"#e1e673\" stroke-opacity=\"0.0\" stroke-width=\"0.0\" cx=\"10.5\" cy=\"10.5\" r=\"5.5\" />\n                  </g>\n                </g>\n              </g>\n              <rect x=\"0.0\" y=\"0.0\" height=\"23.0\" width=\"23.0\" stroke=\"rgb(255,255,255)\" stroke-opacity=\"1.0\" stroke-width=\"1.0\" fill-opacity=\"0.0\">\n              </rect>\n            </g>\n            <g transform=\"translate(26.9903027277341 16.05 ) \">\n              <text class=\"legend-item\" y=\"0.0\">\n              China\n              </text>\n            </g>\n          </g>\n          <g transform=\"translate(0.0 69.0 ) \">\n            <g>\n              <rect x=\"0.0\" y=\"0.0\" height=\"23.0\" width=\"23.0\" stroke-width=\"0.0\" fill=\"rgb(255,255,255)\" fill-opacity=\"1.0\">\n              </rect>\n              <g transform=\"translate(1.0 1.0 ) \">\n                <g>\n                  \n                  <g >\n                    <circle fill=\"#bde673\" stroke=\"#bde673\" stroke-opacity=\"0.0\" stroke-width=\"0.0\" cx=\"10.5\" cy=\"10.5\" r=\"5.5\" />\n                  </g>\n                </g>\n              </g>\n              <rect x=\"0.0\" y=\"0.0\" height=\"23.0\" width=\"23.0\" stroke=\"rgb(255,255,255)\" stroke-opacity=\"1.0\" stroke-width=\"1.0\" fill-opacity=\"0.0\">\n              </rect>\n            </g>\n            <g transform=\"translate(26.9903027277341 16.05 ) \">\n              <text class=\"legend-item\" y=\"0.0\">\n              Cuba\n              </text>\n            </g>\n          </g>\n          <g transform=\"translate(0.0 92.0 ) \">\n            <g>\n              <rect x=\"0.0\" y=\"0.0\" height=\"23.0\" width=\"23.0\" stroke-width=\"0.0\" fill=\"rgb(255,255,255)\" fill-opacity=\"1.0\">\n              </rect>\n              <g transform=\"translate(1.0 1.0 ) \">\n                <g>\n                  \n                  <g >\n                    <circle fill=\"#99e673\" stroke=\"#99e673\" stroke-opacity=\"0.0\" stroke-width=\"0.0\" cx=\"10.5\" cy=\"10.5\" r=\"5.5\" />\n                  </g>\n                </g>\n              </g>\n              <rect x=\"0.0\" y=\"0.0\" height=\"23.0\" width=\"23.0\" stroke=\"rgb(255,255,255)\" stroke-opacity=\"1.0\" stroke-width=\"1.0\" fill-opacity=\"0.0\">\n              </rect>\n            </g>\n            <g transform=\"translate(26.9903027277341 16.05 ) \">\n              <text class=\"legend-item\" y=\"0.0\">\n              Finland\n              </text>\n            </g>\n          </g>\n          <g transform=\"translate(0.0 115.0 ) \">\n            <g>\n              <rect x=\"0.0\" y=\"0.0\" height=\"23.0\" width=\"23.0\" stroke-width=\"0.0\" fill=\"rgb(255,255,255)\" fill-opacity=\"1.0\">\n              </rect>\n              <g transform=\"translate(1.0 1.0 ) \">\n                <g>\n                  \n                  <g >\n                    <circle fill=\"#74e673\" stroke=\"#74e673\" stroke-opacity=\"0.0\" stroke-width=\"0.0\" cx=\"10.5\" cy=\"10.5\" r=\"5.5\" />\n                  </g>\n                </g>\n              </g>\n              <rect x=\"0.0\" y=\"0.0\" height=\"23.0\" width=\"23.0\" stroke=\"rgb(255,255,255)\" stroke-opacity=\"1.0\" stroke-width=\"1.0\" fill-opacity=\"0.0\">\n              </rect>\n            </g>\n            <g transform=\"translate(26.9903027277341 16.05 ) \">\n              <text class=\"legend-item\" y=\"0.0\">\n              France\n              </text>\n            </g>\n          </g>\n          <g transform=\"translate(0.0 138.0 ) \">\n            <g>\n              <rect x=\"0.0\" y=\"0.0\" height=\"23.0\" width=\"23.0\" stroke-width=\"0.0\" fill=\"rgb(255,255,255)\" fill-opacity=\"1.0\">\n              </rect>\n              <g transform=\"translate(1.0 1.0 ) \">\n                <g>\n                  \n                  <g >\n                    <circle fill=\"#73e695\" stroke=\"#73e695\" stroke-opacity=\"0.0\" stroke-width=\"0.0\" cx=\"10.5\" cy=\"10.5\" r=\"5.5\" />\n                  </g>\n                </g>\n              </g>\n              <rect x=\"0.0\" y=\"0.0\" height=\"23.0\" width=\"23.0\" stroke=\"rgb(255,255,255)\" stroke-opacity=\"1.0\" stroke-width=\"1.0\" fill-opacity=\"0.0\">\n              </rect>\n            </g>\n            <g transform=\"translate(26.9903027277341 16.05 ) \">\n              <text class=\"legend-item\" y=\"0.0\">\n              Germany\n              </text>\n            </g>\n          </g>\n          <g transform=\"translate(0.0 161.0 ) \">\n            <g>\n              <rect x=\"0.0\" y=\"0.0\" height=\"23.0\" width=\"23.0\" stroke-width=\"0.0\" fill=\"rgb(255,255,255)\" fill-opacity=\"1.0\">\n              </rect>\n              <g transform=\"translate(1.0 1.0 ) \">\n                <g>\n                  \n                  <g >\n                    <circle fill=\"#73e6ba\" stroke=\"#73e6ba\" stroke-opacity=\"0.0\" stroke-width=\"0.0\" cx=\"10.5\" cy=\"10.5\" r=\"5.5\" />\n                  </g>\n                </g>\n              </g>\n              <rect x=\"0.0\" y=\"0.0\" height=\"23.0\" width=\"23.0\" stroke=\"rgb(255,255,255)\" stroke-opacity=\"1.0\" stroke-width=\"1.0\" fill-opacity=\"0.0\">\n              </rect>\n            </g>\n            <g transform=\"translate(26.9903027277341 16.05 ) \">\n              <text class=\"legend-item\" y=\"0.0\">\n              Iceland\n              </text>\n            </g>\n          </g>\n          <g transform=\"translate(0.0 184.0 ) \">\n            <g>\n              <rect x=\"0.0\" y=\"0.0\" height=\"23.0\" width=\"23.0\" stroke-width=\"0.0\" fill=\"rgb(255,255,255)\" fill-opacity=\"1.0\">\n              </rect>\n              <g transform=\"translate(1.0 1.0 ) \">\n                <g>\n                  \n                  <g >\n                    <circle fill=\"#73e6de\" stroke=\"#73e6de\" stroke-opacity=\"0.0\" stroke-width=\"0.0\" cx=\"10.5\" cy=\"10.5\" r=\"5.5\" />\n                  </g>\n                </g>\n              </g>\n              <rect x=\"0.0\" y=\"0.0\" height=\"23.0\" width=\"23.0\" stroke=\"rgb(255,255,255)\" stroke-opacity=\"1.0\" stroke-width=\"1.0\" fill-opacity=\"0.0\">\n              </rect>\n            </g>\n            <g transform=\"translate(26.9903027277341 16.05 ) \">\n              <text class=\"legend-item\" y=\"0.0\">\n              India\n              </text>\n            </g>\n          </g>\n          <g transform=\"translate(0.0 207.0 ) \">\n            <g>\n              <rect x=\"0.0\" y=\"0.0\" height=\"23.0\" width=\"23.0\" stroke-width=\"0.0\" fill=\"rgb(255,255,255)\" fill-opacity=\"1.0\">\n              </rect>\n              <g transform=\"translate(1.0 1.0 ) \">\n                <g>\n                  \n                  <g >\n                    <circle fill=\"#73c9e6\" stroke=\"#73c9e6\" stroke-opacity=\"0.0\" stroke-width=\"0.0\" cx=\"10.5\" cy=\"10.5\" r=\"5.5\" />\n                  </g>\n                </g>\n              </g>\n              <rect x=\"0.0\" y=\"0.0\" height=\"23.0\" width=\"23.0\" stroke=\"rgb(255,255,255)\" stroke-opacity=\"1.0\" stroke-width=\"1.0\" fill-opacity=\"0.0\">\n              </rect>\n            </g>\n            <g transform=\"translate(26.9903027277341 16.05 ) \">\n              <text class=\"legend-item\" y=\"0.0\">\n              Japan\n              </text>\n            </g>\n          </g>\n          <g transform=\"translate(0.0 230.0 ) \">\n            <g>\n              <rect x=\"0.0\" y=\"0.0\" height=\"23.0\" width=\"23.0\" stroke-width=\"0.0\" fill=\"rgb(255,255,255)\" fill-opacity=\"1.0\">\n              </rect>\n              <g transform=\"translate(1.0 1.0 ) \">\n                <g>\n                  \n                  <g >\n                    <circle fill=\"#73a5e6\" stroke=\"#73a5e6\" stroke-opacity=\"0.0\" stroke-width=\"0.0\" cx=\"10.5\" cy=\"10.5\" r=\"5.5\" />\n                  </g>\n                </g>\n              </g>\n              <rect x=\"0.0\" y=\"0.0\" height=\"23.0\" width=\"23.0\" stroke=\"rgb(255,255,255)\" stroke-opacity=\"1.0\" stroke-width=\"1.0\" fill-opacity=\"0.0\">\n              </rect>\n            </g>\n            <g transform=\"translate(26.9903027277341 16.05 ) \">\n              <text class=\"legend-item\" y=\"0.0\">\n              North Korea\n              </text>\n            </g>\n          </g>\n          <g transform=\"translate(0.0 253.0 ) \">\n            <g>\n              <rect x=\"0.0\" y=\"0.0\" height=\"23.0\" width=\"23.0\" stroke-width=\"0.0\" fill=\"rgb(255,255,255)\" fill-opacity=\"1.0\">\n              </rect>\n              <g transform=\"translate(1.0 1.0 ) \">\n                <g>\n                  \n                  <g >\n                    <circle fill=\"#7380e6\" stroke=\"#7380e6\" stroke-opacity=\"0.0\" stroke-width=\"0.0\" cx=\"10.5\" cy=\"10.5\" r=\"5.5\" />\n                  </g>\n                </g>\n              </g>\n              <rect x=\"0.0\" y=\"0.0\" height=\"23.0\" width=\"23.0\" stroke=\"rgb(255,255,255)\" stroke-opacity=\"1.0\" stroke-width=\"1.0\" fill-opacity=\"0.0\">\n              </rect>\n            </g>\n            <g transform=\"translate(26.9903027277341 16.05 ) \">\n              <text class=\"legend-item\" y=\"0.0\">\n              South Korea\n              </text>\n            </g>\n          </g>\n          <g transform=\"translate(0.0 276.0 ) \">\n            <g>\n              <rect x=\"0.0\" y=\"0.0\" height=\"23.0\" width=\"23.0\" stroke-width=\"0.0\" fill=\"rgb(255,255,255)\" fill-opacity=\"1.0\">\n              </rect>\n              <g transform=\"translate(1.0 1.0 ) \">\n                <g>\n                  \n                  <g >\n                    <circle fill=\"#8973e6\" stroke=\"#8973e6\" stroke-opacity=\"0.0\" stroke-width=\"0.0\" cx=\"10.5\" cy=\"10.5\" r=\"5.5\" />\n                  </g>\n                </g>\n              </g>\n              <rect x=\"0.0\" y=\"0.0\" height=\"23.0\" width=\"23.0\" stroke=\"rgb(255,255,255)\" stroke-opacity=\"1.0\" stroke-width=\"1.0\" fill-opacity=\"0.0\">\n              </rect>\n            </g>\n            <g transform=\"translate(26.9903027277341 16.05 ) \">\n              <text class=\"legend-item\" y=\"0.0\">\n              New Zealand\n              </text>\n            </g>\n          </g>\n          <g transform=\"translate(0.0 299.0 ) \">\n            <g>\n              <rect x=\"0.0\" y=\"0.0\" height=\"23.0\" width=\"23.0\" stroke-width=\"0.0\" fill=\"rgb(255,255,255)\" fill-opacity=\"1.0\">\n              </rect>\n              <g transform=\"translate(1.0 1.0 ) \">\n                <g>\n                  \n                  <g >\n                    <circle fill=\"#ae73e6\" stroke=\"#ae73e6\" stroke-opacity=\"0.0\" stroke-width=\"0.0\" cx=\"10.5\" cy=\"10.5\" r=\"5.5\" />\n                  </g>\n                </g>\n              </g>\n              <rect x=\"0.0\" y=\"0.0\" height=\"23.0\" width=\"23.0\" stroke=\"rgb(255,255,255)\" stroke-opacity=\"1.0\" stroke-width=\"1.0\" fill-opacity=\"0.0\">\n              </rect>\n            </g>\n            <g transform=\"translate(26.9903027277341 16.05 ) \">\n              <text class=\"legend-item\" y=\"0.0\">\n              Norway\n              </text>\n            </g>\n          </g>\n          <g transform=\"translate(0.0 322.0 ) \">\n            <g>\n              <rect x=\"0.0\" y=\"0.0\" height=\"23.0\" width=\"23.0\" stroke-width=\"0.0\" fill=\"rgb(255,255,255)\" fill-opacity=\"1.0\">\n              </rect>\n              <g transform=\"translate(1.0 1.0 ) \">\n                <g>\n                  \n                  <g >\n                    <circle fill=\"#d273e6\" stroke=\"#d273e6\" stroke-opacity=\"0.0\" stroke-width=\"0.0\" cx=\"10.5\" cy=\"10.5\" r=\"5.5\" />\n                  </g>\n                </g>\n              </g>\n              <rect x=\"0.0\" y=\"0.0\" height=\"23.0\" width=\"23.0\" stroke=\"rgb(255,255,255)\" stroke-opacity=\"1.0\" stroke-width=\"1.0\" fill-opacity=\"0.0\">\n              </rect>\n            </g>\n            <g transform=\"translate(26.9903027277341 16.05 ) \">\n              <text class=\"legend-item\" y=\"0.0\">\n              Poland\n              </text>\n            </g>\n          </g>\n          <g transform=\"translate(0.0 345.0 ) \">\n            <g>\n              <rect x=\"0.0\" y=\"0.0\" height=\"23.0\" width=\"23.0\" stroke-width=\"0.0\" fill=\"rgb(255,255,255)\" fill-opacity=\"1.0\">\n              </rect>\n              <g transform=\"translate(1.0 1.0 ) \">\n                <g>\n                  \n                  <g >\n                    <circle fill=\"#e673d5\" stroke=\"#e673d5\" stroke-opacity=\"0.0\" stroke-width=\"0.0\" cx=\"10.5\" cy=\"10.5\" r=\"5.5\" />\n                  </g>\n                </g>\n              </g>\n              <rect x=\"0.0\" y=\"0.0\" height=\"23.0\" width=\"23.0\" stroke=\"rgb(255,255,255)\" stroke-opacity=\"1.0\" stroke-width=\"1.0\" fill-opacity=\"0.0\">\n              </rect>\n            </g>\n            <g transform=\"translate(26.9903027277341 16.05 ) \">\n              <text class=\"legend-item\" y=\"0.0\">\n              Russia\n              </text>\n            </g>\n          </g>\n          <g transform=\"translate(0.0 368.0 ) \">\n            <g>\n              <rect x=\"0.0\" y=\"0.0\" height=\"23.0\" width=\"23.0\" stroke-width=\"0.0\" fill=\"rgb(255,255,255)\" fill-opacity=\"1.0\">\n              </rect>\n              <g transform=\"translate(1.0 1.0 ) \">\n                <g>\n                  \n                  <g >\n                    <circle fill=\"#e673b1\" stroke=\"#e673b1\" stroke-opacity=\"0.0\" stroke-width=\"0.0\" cx=\"10.5\" cy=\"10.5\" r=\"5.5\" />\n                  </g>\n                </g>\n              </g>\n              <rect x=\"0.0\" y=\"0.0\" height=\"23.0\" width=\"23.0\" stroke=\"rgb(255,255,255)\" stroke-opacity=\"1.0\" stroke-width=\"1.0\" fill-opacity=\"0.0\">\n              </rect>\n            </g>\n            <g transform=\"translate(26.9903027277341 16.05 ) \">\n              <text class=\"legend-item\" y=\"0.0\">\n              Turkey\n              </text>\n            </g>\n          </g>\n          <g transform=\"translate(0.0 391.0 ) \">\n            <g>\n              <rect x=\"0.0\" y=\"0.0\" height=\"23.0\" width=\"23.0\" stroke-width=\"0.0\" fill=\"rgb(255,255,255)\" fill-opacity=\"1.0\">\n              </rect>\n              <g transform=\"translate(1.0 1.0 ) \">\n                <g>\n                  \n                  <g >\n                    <circle fill=\"#e6738c\" stroke=\"#e6738c\" stroke-opacity=\"0.0\" stroke-width=\"0.0\" cx=\"10.5\" cy=\"10.5\" r=\"5.5\" />\n                  </g>\n                </g>\n              </g>\n              <rect x=\"0.0\" y=\"0.0\" height=\"23.0\" width=\"23.0\" stroke=\"rgb(255,255,255)\" stroke-opacity=\"1.0\" stroke-width=\"1.0\" fill-opacity=\"0.0\">\n              </rect>\n            </g>\n            <g transform=\"translate(26.9903027277341 16.05 ) \">\n              <text class=\"legend-item\" y=\"0.0\">\n              United Kingdom\n              </text>\n            </g>\n          </g>\n          <g transform=\"translate(0.0 414.0 ) \">\n            <g>\n              <rect x=\"0.0\" y=\"0.0\" height=\"23.0\" width=\"23.0\" stroke-width=\"0.0\" fill=\"rgb(255,255,255)\" fill-opacity=\"1.0\">\n              </rect>\n              <g transform=\"translate(1.0 1.0 ) \">\n                <g>\n                  \n                  <g >\n                    <circle fill=\"#e67d73\" stroke=\"#e67d73\" stroke-opacity=\"0.0\" stroke-width=\"0.0\" cx=\"10.5\" cy=\"10.5\" r=\"5.5\" />\n                  </g>\n                </g>\n              </g>\n              <rect x=\"0.0\" y=\"0.0\" height=\"23.0\" width=\"23.0\" stroke=\"rgb(255,255,255)\" stroke-opacity=\"1.0\" stroke-width=\"1.0\" fill-opacity=\"0.0\">\n              </rect>\n            </g>\n            <g transform=\"translate(26.9903027277341 16.05 ) \">\n              <text class=\"legend-item\" y=\"0.0\">\n              United States\n              </text>\n            </g>\n          </g>\n        </g>\n      </g>\n    </g>\n    <path fill=\"rgb(0,0,0)\" fill-opacity=\"0.0\" stroke=\"rgb(71,71,71)\" stroke-opacity=\"1.0\" stroke-width=\"0.0\" d=\"M0.0 0.0 L0.0 400.0 L600.0 400.0 L600.0 0.0 Z\">\n    </path>\n  </g>\n  <g id=\"d4CE49G\">\n  </g>\n</svg>\n        <script>document.getElementById(\"97653f32-083f-4c9c-9cac-34b1499b9736\").style.display = \"none\";</script>",
      "application/plot+json": {
       "output_type": "lets_plot_spec",
       "output": {
        "ggtitle": {
         "text": "Life Expectancy and GDP by Country (2023)"
        },
        "mapping": {},
        "data": {
         "country": [
          "Australia",
          "Canada",
          "China",
          "Cuba",
          "Finland",
          "France",
          "Germany",
          "Iceland",
          "India",
          "Japan",
          "North Korea",
          "South Korea",
          "New Zealand",
          "Norway",
          "Poland",
          "Russia",
          "Turkey",
          "United Kingdom",
          "United States"
         ],
         "gdp": [
          55000.0,
          52000.0,
          10000.0,
          7000.0,
          48000.0,
          44000.0,
          50000.0,
          60000.0,
          2000.0,
          45000.0,
          1200.0,
          30000.0,
          34000.0,
          70000.0,
          15000.0,
          9000.0,
          10000.0,
          40000.0,
          60000.0
         ],
         "lifeExp": [
          79.44,
          73.6,
          70.46,
          63.34,
          72.1,
          78.15,
          80.7,
          79.88,
          63.13,
          81.53,
          59.33,
          71.59,
          76.56,
          71.97,
          78.21,
          78.38,
          79.76,
          84.77,
          82.39
         ],
         "population": [
          25000.0,
          38000.0,
          1400000.0,
          11300.0,
          5500.0,
          67000.0,
          83000.0,
          340.0,
          1350000.0,
          126000.0,
          25000.0,
          51000.0,
          5000.0,
          5300.0,
          38000.0,
          146000.0,
          82000.0,
          67000.0,
          331000.0
         ]
        },
        "kind": "plot",
        "scales": [
         {
          "aesthetic": "x",
          "name": "GDP per capita (in dollars)",
          "limits": [
           null,
           null
          ]
         },
         {
          "aesthetic": "y",
          "name": "Life expectancy (years)",
          "limits": [
           null,
           null
          ]
         },
         {
          "aesthetic": "size",
          "range": [
           2.0,
           15.0
          ],
          "limits": [
           null,
           null
          ],
          "guide": "none"
         },
         {
          "aesthetic": "color",
          "scale_mapper_kind": "color_hue"
         }
        ],
        "layers": [
         {
          "mapping": {
           "x": "gdp",
           "y": "lifeExp",
           "size": "population",
           "color": "country"
          },
          "stat": "identity",
          "sampling": "none",
          "position": "identity",
          "geom": "point"
         }
        ]
       },
       "apply_color_scheme": true,
       "swing_enabled": true
      }
     },
     "execution_count": 5,
     "metadata": {},
     "output_type": "execute_result"
    }
   ],
   "source": [
    "data.filter { year == 2023 }.plot {\n",
    "    layout.title = \"Life Expectancy and GDP by Country (2023)\"\n",
    "    points {\n",
    "        x(gdp) { axis.name = \"GDP per capita (in dollars)\" }\n",
    "        y(lifeExp) { axis.name = \"Life expectancy (years)\" }\n",
    "        size(population) {\n",
    "            legend.type = LegendType.None\n",
    "            scale = continuous(2.0..15.0)\n",
    "        }\n",
    "        color(country) {\n",
    "            scale = categoricalColorHue()\n",
    "        }\n",
    "    }\n",
    "}"
   ],
   "metadata": {
    "collapsed": false,
    "ExecuteTime": {
     "end_time": "2023-11-20T23:37:26.666893Z",
     "start_time": "2023-11-20T23:37:26.500018Z"
    }
   }
  }
 ],
 "metadata": {
  "kernelspec": {
   "display_name": "Kotlin",
   "language": "kotlin",
   "name": "kotlin"
  },
  "language_info": {
   "name": "kotlin",
   "version": "1.9.0",
   "mimetype": "text/x-kotlin",
   "file_extension": ".kt",
   "pygments_lexer": "kotlin",
   "codemirror_mode": "text/x-kotlin",
   "nbconvert_exporter": ""
  }
 },
 "nbformat": 4,
 "nbformat_minor": 0
}
