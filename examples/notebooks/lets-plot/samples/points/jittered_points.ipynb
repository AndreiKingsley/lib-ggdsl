{
 "cells": [
  {
   "cell_type": "code",
   "execution_count": 1,
   "metadata": {
    "collapsed": true,
    "ExecuteTime": {
     "end_time": "2023-11-20T23:39:53.926044Z",
     "start_time": "2023-11-20T23:39:52.220776Z"
    }
   },
   "outputs": [],
   "source": [
    "%useLatestDescriptors\n",
    "%use dataframe\n",
    "%use kandy"
   ]
  },
  {
   "cell_type": "code",
   "execution_count": 2,
   "outputs": [],
   "source": [
    "val random = kotlin.random.Random(42)\n",
    "val data = dataFrameOf(\n",
    "    \"type\" to List(50) { \"a\" } + List(50) { \"b\" },\n",
    "    \"value\" to List(50) { kotlin.random.Random.nextDouble(0.1, 0.6) } +\n",
    "            List(50) { random.nextDouble(-0.5, 0.4) }\n",
    ")"
   ],
   "metadata": {
    "collapsed": false,
    "ExecuteTime": {
     "end_time": "2023-11-20T23:40:01.013468Z",
     "start_time": "2023-11-20T23:40:00.401882Z"
    }
   }
  },
  {
   "cell_type": "code",
   "execution_count": 3,
   "outputs": [
    {
     "data": {
      "text/html": "            <iframe src='about:blank' style='border:none !important;' width='600' height='400' srcdoc=\"&lt;html lang=&quot;en&quot;>\n   &lt;head>\n       &lt;style> html, body { margin: 0; overflow: hidden; } &lt;/style>\n       &lt;script type=&quot;text/javascript&quot; data-lets-plot-script=&quot;library&quot; src=&quot;https://cdn.jsdelivr.net/gh/JetBrains/lets-plot@v4.0.1/js-package/distr/lets-plot.min.js&quot;>&lt;/script>\n   &lt;/head>\n   &lt;body>\n          &lt;div id=&quot;atCKeh&quot;>&lt;/div>\n   &lt;script type=&quot;text/javascript&quot; data-lets-plot-script=&quot;plot&quot;>\n       var plotSpec={\n&quot;mapping&quot;:{\n},\n&quot;data&quot;:{\n&quot;type&quot;:[&quot;a&quot;,&quot;a&quot;,&quot;a&quot;,&quot;a&quot;,&quot;a&quot;,&quot;a&quot;,&quot;a&quot;,&quot;a&quot;,&quot;a&quot;,&quot;a&quot;,&quot;a&quot;,&quot;a&quot;,&quot;a&quot;,&quot;a&quot;,&quot;a&quot;,&quot;a&quot;,&quot;a&quot;,&quot;a&quot;,&quot;a&quot;,&quot;a&quot;,&quot;a&quot;,&quot;a&quot;,&quot;a&quot;,&quot;a&quot;,&quot;a&quot;,&quot;a&quot;,&quot;a&quot;,&quot;a&quot;,&quot;a&quot;,&quot;a&quot;,&quot;a&quot;,&quot;a&quot;,&quot;a&quot;,&quot;a&quot;,&quot;a&quot;,&quot;a&quot;,&quot;a&quot;,&quot;a&quot;,&quot;a&quot;,&quot;a&quot;,&quot;a&quot;,&quot;a&quot;,&quot;a&quot;,&quot;a&quot;,&quot;a&quot;,&quot;a&quot;,&quot;a&quot;,&quot;a&quot;,&quot;a&quot;,&quot;a&quot;,&quot;b&quot;,&quot;b&quot;,&quot;b&quot;,&quot;b&quot;,&quot;b&quot;,&quot;b&quot;,&quot;b&quot;,&quot;b&quot;,&quot;b&quot;,&quot;b&quot;,&quot;b&quot;,&quot;b&quot;,&quot;b&quot;,&quot;b&quot;,&quot;b&quot;,&quot;b&quot;,&quot;b&quot;,&quot;b&quot;,&quot;b&quot;,&quot;b&quot;,&quot;b&quot;,&quot;b&quot;,&quot;b&quot;,&quot;b&quot;,&quot;b&quot;,&quot;b&quot;,&quot;b&quot;,&quot;b&quot;,&quot;b&quot;,&quot;b&quot;,&quot;b&quot;,&quot;b&quot;,&quot;b&quot;,&quot;b&quot;,&quot;b&quot;,&quot;b&quot;,&quot;b&quot;,&quot;b&quot;,&quot;b&quot;,&quot;b&quot;,&quot;b&quot;,&quot;b&quot;,&quot;b&quot;,&quot;b&quot;,&quot;b&quot;,&quot;b&quot;,&quot;b&quot;,&quot;b&quot;,&quot;b&quot;,&quot;b&quot;],\n&quot;value&quot;:[0.28855264969992955,0.12709584224909024,0.3415831531149709,0.4956791381784338,0.19130709399469656,0.2843367801076907,0.3198843992039301,0.45200558977570415,0.5994463495709544,0.5715063331240993,0.11868865272381604,0.5132842576091424,0.2994164342066057,0.3742073747462946,0.3985081731730611,0.4946678879738645,0.2837416345625873,0.34160828813454225,0.10409110821054793,0.48383380536570686,0.5846954375240977,0.12373157341764676,0.18603220079826846,0.3210171161405828,0.22261560587445337,0.1242973111351536,0.5078954849596197,0.3035051554157998,0.34616534179561165,0.48440102480216707,0.5588301057464541,0.2981363625586093,0.1974823774042274,0.5341920466251346,0.28101743741174445,0.33526283958333336,0.46186872497731046,0.15170159239592437,0.27593331964176615,0.4315583477357202,0.5978155843219631,0.499273449136619,0.37011499177642515,0.26932692991326157,0.19697592244091736,0.3606415168170084,0.45448082993954664,0.34455042136027647,0.2374144355541218,0.3924858449272395,-0.296316260624914,0.3144611355121185,-0.2563446441859246,0.37344106107794794,-0.3347565448649431,0.03335888095656847,-0.23508186703812878,-0.375666335992444,0.033770042688826774,-0.4230668668094877,0.07185758997231317,0.22376552755624768,-0.17080554760001998,-0.2141860912808664,-0.17227709098896088,-0.1006784959164298,0.3595441477742257,-0.09647109632254053,-0.30098297416283964,-0.2735100943526576,-0.04016239791501952,0.013686573912068623,0.11252233951421664,0.035587965382634645,0.12262214138273886,0.33938117751438435,-0.31342260936798105,0.2827450255057874,-0.14985406595215822,-0.32641057096911785,0.3592242726757895,-0.306636787646816,0.08495680583295229,-0.013432321726961405,0.22416279796895178,0.03296425485623733,0.2477462930541865,0.08866707066297985,-0.13695169026890042,-9.76880900924182E-4,0.3932101466359573,0.39642591304863384,0.31017910482463273,-0.08643112928850605,-0.3526571506976529,0.28781954033834933,0.20247923090335274,0.1354330129973904,0.07133514890582549,-0.3737273459703222]\n},\n&quot;kind&quot;:&quot;plot&quot;,\n&quot;scales&quot;:[{\n&quot;aesthetic&quot;:&quot;x&quot;,\n&quot;discrete&quot;:true\n},{\n&quot;aesthetic&quot;:&quot;y&quot;,\n&quot;limits&quot;:[null,null]\n},{\n&quot;aesthetic&quot;:&quot;color&quot;,\n&quot;discrete&quot;:true\n}],\n&quot;layers&quot;:[{\n&quot;mapping&quot;:{\n&quot;x&quot;:&quot;type&quot;,\n&quot;y&quot;:&quot;value&quot;,\n&quot;color&quot;:&quot;type&quot;\n},\n&quot;stat&quot;:&quot;identity&quot;,\n&quot;sampling&quot;:&quot;none&quot;,\n&quot;position&quot;:&quot;jitter&quot;,\n&quot;geom&quot;:&quot;point&quot;,\n&quot;data&quot;:{\n}\n}]\n};\n       var plotContainer = document.getElementById(&quot;atCKeh&quot;);\n       LetsPlot.buildPlotFromProcessedSpecs(plotSpec, -1, -1, plotContainer);\n   &lt;/script>\n   &lt;/body>\n&lt;/html>\"></iframe>            \n        <svg id=502cbd1c-2f01-48a2-98a6-6bfe5891e990 xmlns=\"http://www.w3.org/2000/svg\" xmlns:xlink=\"http://www.w3.org/1999/xlink\" class=\"plt-container\" width=\"600.0\" height=\"400.0\">\n  <style type=\"text/css\">\n  .plt-container {\n   font-family: Lucida Grande, sans-serif;\n   user-select: none;\n   -webkit-user-select: none;\n   -moz-user-select: none;\n   -ms-user-select: none;\n}\ntext {\n   text-rendering: optimizeLegibility;\n}\n#ph4I6gD .plot-title {\n   fill: #474747;\n   font-family: Lucida Grande, sans-serif;\n   font-size: 16.0px;\n   font-weight: normal;\n   font-style: normal;   \n}\n#ph4I6gD .plot-subtitle {\n   fill: #474747;\n   font-family: Lucida Grande, sans-serif;\n   font-size: 15.0px;\n   font-weight: normal;\n   font-style: normal;   \n}\n#ph4I6gD .plot-caption {\n   fill: #474747;\n   font-family: Lucida Grande, sans-serif;\n   font-size: 13.0px;\n   font-weight: normal;\n   font-style: normal;   \n}\n#ph4I6gD .legend-title {\n   fill: #474747;\n   font-family: Lucida Grande, sans-serif;\n   font-size: 15.0px;\n   font-weight: normal;\n   font-style: normal;   \n}\n#ph4I6gD .legend-item {\n   fill: #474747;\n   font-family: Lucida Grande, sans-serif;\n   font-size: 13.0px;\n   font-weight: normal;\n   font-style: normal;   \n}\n#ph4I6gD .axis-title-x {\n   fill: #474747;\n   font-family: Lucida Grande, sans-serif;\n   font-size: 15.0px;\n   font-weight: normal;\n   font-style: normal;   \n}\n#ph4I6gD .axis-text-x {\n   fill: #474747;\n   font-family: Lucida Grande, sans-serif;\n   font-size: 13.0px;\n   font-weight: normal;\n   font-style: normal;   \n}\n#dn47tgz .axis-tooltip-text-x {\n   fill: #ffffff;\n   font-family: Lucida Grande, sans-serif;\n   font-size: 13.0px;\n   font-weight: normal;\n   font-style: normal;   \n}\n#ph4I6gD .axis-title-y {\n   fill: #474747;\n   font-family: Lucida Grande, sans-serif;\n   font-size: 15.0px;\n   font-weight: normal;\n   font-style: normal;   \n}\n#ph4I6gD .axis-text-y {\n   fill: #474747;\n   font-family: Lucida Grande, sans-serif;\n   font-size: 13.0px;\n   font-weight: normal;\n   font-style: normal;   \n}\n#dn47tgz .axis-tooltip-text-y {\n   fill: #ffffff;\n   font-family: Lucida Grande, sans-serif;\n   font-size: 13.0px;\n   font-weight: normal;\n   font-style: normal;   \n}\n#ph4I6gD .facet-strip-text-x {\n   fill: #474747;\n   font-family: Lucida Grande, sans-serif;\n   font-size: 13.0px;\n   font-weight: normal;\n   font-style: normal;   \n}\n#ph4I6gD .facet-strip-text-y {\n   fill: #474747;\n   font-family: Lucida Grande, sans-serif;\n   font-size: 13.0px;\n   font-weight: normal;\n   font-style: normal;   \n}\n#dn47tgz .tooltip-text {\n   fill: #474747;\n   font-family: Lucida Grande, sans-serif;\n   font-size: 13.0px;\n   font-weight: normal;\n   font-style: normal;   \n}\n#dn47tgz .tooltip-title {\n   fill: #474747;\n   font-family: Lucida Grande, sans-serif;\n   font-size: 13.0px;\n   font-weight: bold;\n   font-style: normal;   \n}\n#dn47tgz .tooltip-label {\n   fill: #474747;\n   font-family: Lucida Grande, sans-serif;\n   font-size: 13.0px;\n   font-weight: bold;\n   font-style: normal;   \n}\n\n  </style>\n  <g id=\"ph4I6gD\">\n    <path fill-rule=\"evenodd\" fill=\"rgb(255,255,255)\" fill-opacity=\"1.0\" d=\"M0.0 0.0 L0.0 400.0 L600.0 400.0 L600.0 0.0 Z\">\n    </path>\n    <g transform=\"translate(23.0 10.0 ) \">\n      <g transform=\"translate(35.01530667574961 344.0 ) \">\n        <line x1=\"130.04682396158034\" y1=\"-0.0\" x2=\"130.04682396158034\" y2=\"-344.0\" stroke=\"rgb(233,233,233)\" stroke-opacity=\"1.0\" stroke-width=\"1.0\">\n        </line>\n        <line x1=\"347.69558656294606\" y1=\"-0.0\" x2=\"347.69558656294606\" y2=\"-344.0\" stroke=\"rgb(233,233,233)\" stroke-opacity=\"1.0\" stroke-width=\"1.0\">\n        </line>\n        <g transform=\"translate(130.04682396158034 0.0 ) \">\n          <line stroke-width=\"1.0\" stroke=\"rgb(71,71,71)\" stroke-opacity=\"1.0\" x2=\"0.0\" y2=\"4.0\">\n          </line>\n          <g transform=\"translate(0.0 7.0 ) \">\n            <text class=\"axis-text-x\" text-anchor=\"middle\" dy=\"0.7em\">\n            a\n            </text>\n          </g>\n        </g>\n        <g transform=\"translate(347.69558656294606 0.0 ) \">\n          <line stroke-width=\"1.0\" stroke=\"rgb(71,71,71)\" stroke-opacity=\"1.0\" x2=\"0.0\" y2=\"4.0\">\n          </line>\n          <g transform=\"translate(0.0 7.0 ) \">\n            <text class=\"axis-text-x\" text-anchor=\"middle\" dy=\"0.7em\">\n            b\n            </text>\n          </g>\n        </g>\n        <line x1=\"0.0\" y1=\"0.0\" x2=\"477.0137851410481\" y2=\"0.0\" stroke-width=\"1.0\" stroke=\"rgb(71,71,71)\" stroke-opacity=\"1.0\">\n        </line>\n      </g>\n      <g transform=\"translate(35.01530667574961 0.0 ) \">\n        <line x1=\"0.0\" y1=\"321.31106650854633\" x2=\"477.0137851410481\" y2=\"321.31106650854633\" stroke=\"rgb(233,233,233)\" stroke-opacity=\"1.0\" stroke-width=\"1.0\">\n        </line>\n        <line x1=\"0.0\" y1=\"260.1420557770373\" x2=\"477.0137851410481\" y2=\"260.1420557770373\" stroke=\"rgb(233,233,233)\" stroke-opacity=\"1.0\" stroke-width=\"1.0\">\n        </line>\n        <line x1=\"0.0\" y1=\"198.9730450455283\" x2=\"477.0137851410481\" y2=\"198.9730450455283\" stroke=\"rgb(233,233,233)\" stroke-opacity=\"1.0\" stroke-width=\"1.0\">\n        </line>\n        <line x1=\"0.0\" y1=\"137.80403431401928\" x2=\"477.0137851410481\" y2=\"137.80403431401928\" stroke=\"rgb(233,233,233)\" stroke-opacity=\"1.0\" stroke-width=\"1.0\">\n        </line>\n        <line x1=\"0.0\" y1=\"76.63502358251026\" x2=\"477.0137851410481\" y2=\"76.63502358251026\" stroke=\"rgb(233,233,233)\" stroke-opacity=\"1.0\" stroke-width=\"1.0\">\n        </line>\n        <line x1=\"0.0\" y1=\"15.466012851001238\" x2=\"477.0137851410481\" y2=\"15.466012851001238\" stroke=\"rgb(233,233,233)\" stroke-opacity=\"1.0\" stroke-width=\"1.0\">\n        </line>\n        <g transform=\"translate(0.0 321.31106650854633 ) \">\n          <g transform=\"translate(-3.0 0.0 ) \">\n            <text class=\"axis-text-y\" text-anchor=\"end\" dy=\"0.35em\">\n            -0.4\n            </text>\n          </g>\n        </g>\n        <g transform=\"translate(0.0 260.1420557770373 ) \">\n          <g transform=\"translate(-3.0 0.0 ) \">\n            <text class=\"axis-text-y\" text-anchor=\"end\" dy=\"0.35em\">\n            -0.2\n            </text>\n          </g>\n        </g>\n        <g transform=\"translate(0.0 198.9730450455283 ) \">\n          <g transform=\"translate(-3.0 0.0 ) \">\n            <text class=\"axis-text-y\" text-anchor=\"end\" dy=\"0.35em\">\n            0.0\n            </text>\n          </g>\n        </g>\n        <g transform=\"translate(0.0 137.80403431401928 ) \">\n          <g transform=\"translate(-3.0 0.0 ) \">\n            <text class=\"axis-text-y\" text-anchor=\"end\" dy=\"0.35em\">\n            0.2\n            </text>\n          </g>\n        </g>\n        <g transform=\"translate(0.0 76.63502358251026 ) \">\n          <g transform=\"translate(-3.0 0.0 ) \">\n            <text class=\"axis-text-y\" text-anchor=\"end\" dy=\"0.35em\">\n            0.4\n            </text>\n          </g>\n        </g>\n        <g transform=\"translate(0.0 15.466012851001238 ) \">\n          <g transform=\"translate(-3.0 0.0 ) \">\n            <text class=\"axis-text-y\" text-anchor=\"end\" dy=\"0.35em\">\n            0.6\n            </text>\n          </g>\n        </g>\n      </g>\n      <g transform=\"translate(35.01530667574961 0.0 ) \" clip-path=\"url(#cpmj2NF)\" clip-bounds-jfx=\"[rect (0.0, 0.0), (477.0137851410481, 344.0)]\">\n        <defs>\n          <clipPath id=\"cpmj2NF\">\n            <rect x=\"0.0\" y=\"0.0\" width=\"477.0137851410481\" height=\"344.0\">\n            </rect>\n          </clipPath>\n        </defs>\n        <g>\n          \n          <g >\n            <circle fill=\"#e41a1c\" stroke=\"#e41a1c\" stroke-opacity=\"0.0\" stroke-width=\"0.0\" cx=\"61.090115501958806\" cy=\"110.71793148054705\" r=\"3.3000000000000003\" />\n            <circle fill=\"#e41a1c\" stroke=\"#e41a1c\" stroke-opacity=\"0.0\" stroke-width=\"0.0\" cx=\"54.363841145602876\" cy=\"160.10441214027614\" r=\"3.3000000000000003\" />\n            <circle fill=\"#e41a1c\" stroke=\"#e41a1c\" stroke-opacity=\"0.0\" stroke-width=\"0.0\" cx=\"141.35165783959067\" cy=\"94.50008736781243\" r=\"3.3000000000000003\" />\n            <circle fill=\"#e41a1c\" stroke=\"#e41a1c\" stroke-opacity=\"0.0\" stroke-width=\"0.0\" cx=\"150.4591698260505\" cy=\"47.37293609582679\" r=\"3.3000000000000003\" />\n            <circle fill=\"#e41a1c\" stroke=\"#e41a1c\" stroke-opacity=\"0.0\" stroke-width=\"0.0\" cx=\"80.76457941570891\" cy=\"140.46130311399716\" r=\"3.3000000000000003\" />\n            <circle fill=\"#e41a1c\" stroke=\"#e41a1c\" stroke-opacity=\"0.0\" stroke-width=\"0.0\" cx=\"163.49200773492214\" cy=\"112.0124431965424\" r=\"3.3000000000000003\" />\n            <circle fill=\"#e41a1c\" stroke=\"#e41a1c\" stroke-opacity=\"0.0\" stroke-width=\"0.0\" cx=\"148.90123277424385\" cy=\"101.13746919104324\" r=\"3.3000000000000003\" />\n            <circle fill=\"#e41a1c\" stroke=\"#e41a1c\" stroke-opacity=\"0.0\" stroke-width=\"0.0\" cx=\"189.01294875517158\" cy=\"60.73197712020274\" r=\"3.3000000000000003\" />\n            <circle fill=\"#e41a1c\" stroke=\"#e41a1c\" stroke-opacity=\"0.0\" stroke-width=\"0.0\" cx=\"115.42806851767253\" cy=\"15.635774695438329\" r=\"3.3000000000000003\" />\n            <circle fill=\"#e41a1c\" stroke=\"#e41a1c\" stroke-opacity=\"0.0\" stroke-width=\"0.0\" cx=\"183.0467185734598\" cy=\"24.17832825960957\" r=\"3.3000000000000003\" />\n            <circle fill=\"#e41a1c\" stroke=\"#e41a1c\" stroke-opacity=\"0.0\" stroke-width=\"0.0\" cx=\"104.88927087856284\" cy=\"162.67504668967268\" r=\"3.3000000000000003\" />\n            <circle fill=\"#e41a1c\" stroke=\"#e41a1c\" stroke-opacity=\"0.0\" stroke-width=\"0.0\" cx=\"44.69369197434389\" cy=\"41.985717048434964\" r=\"3.3000000000000003\" />\n            <circle fill=\"#e41a1c\" stroke=\"#e41a1c\" stroke-opacity=\"0.0\" stroke-width=\"0.0\" cx=\"145.77421532667384\" cy=\"107.39770464058925\" r=\"3.3000000000000003\" />\n            <circle fill=\"#e41a1c\" stroke=\"#e41a1c\" stroke-opacity=\"0.0\" stroke-width=\"0.0\" cx=\"158.01570538950259\" cy=\"84.52080408680415\" r=\"3.3000000000000003\" />\n            <circle fill=\"#e41a1c\" stroke=\"#e41a1c\" stroke-opacity=\"0.0\" stroke-width=\"0.0\" cx=\"133.09744415963655\" cy=\"77.09232203974642\" r=\"3.3000000000000003\" />\n            <circle fill=\"#e41a1c\" stroke=\"#e41a1c\" stroke-opacity=\"0.0\" stroke-width=\"0.0\" cx=\"123.85648421568092\" cy=\"47.679724130810655\" r=\"3.3000000000000003\" />\n            <circle fill=\"#e41a1c\" stroke=\"#e41a1c\" stroke-opacity=\"0.0\" stroke-width=\"0.0\" cx=\"198.57511559549675\" cy=\"112.18952124880711\" r=\"3.3000000000000003\" />\n            <circle fill=\"#e41a1c\" stroke=\"#e41a1c\" stroke-opacity=\"0.0\" stroke-width=\"0.0\" cx=\"150.53161623885492\" cy=\"94.49638426692108\" r=\"3.3000000000000003\" />\n            <circle fill=\"#e41a1c\" stroke=\"#e41a1c\" stroke-opacity=\"0.0\" stroke-width=\"0.0\" cx=\"149.14584175213537\" cy=\"167.1355437573707\" r=\"3.3000000000000003\" />\n            <circle fill=\"#e41a1c\" stroke=\"#e41a1c\" stroke-opacity=\"0.0\" stroke-width=\"0.0\" cx=\"213.46187605906277\" cy=\"50.997259149062614\" r=\"3.3000000000000003\" />\n            <circle fill=\"#e41a1c\" stroke=\"#e41a1c\" stroke-opacity=\"0.0\" stroke-width=\"0.0\" cx=\"164.96387640920983\" cy=\"20.147996909888008\" r=\"3.3000000000000003\" />\n            <circle fill=\"#e41a1c\" stroke=\"#e41a1c\" stroke-opacity=\"0.0\" stroke-width=\"0.0\" cx=\"179.5611471272654\" cy=\"161.13217063308306\" r=\"3.3000000000000003\" />\n            <circle fill=\"#e41a1c\" stroke=\"#e41a1c\" stroke-opacity=\"0.0\" stroke-width=\"0.0\" cx=\"211.78554614042417\" cy=\"142.07636733124127\" r=\"3.3000000000000003\" />\n            <circle fill=\"#e41a1c\" stroke=\"#e41a1c\" stroke-opacity=\"0.0\" stroke-width=\"0.0\" cx=\"86.59687836248338\" cy=\"100.79139390545537\" r=\"3.3000000000000003\" />\n            <circle fill=\"#e41a1c\" stroke=\"#e41a1c\" stroke-opacity=\"0.0\" stroke-width=\"0.0\" cx=\"190.5290012976979\" cy=\"130.8894720494884\" r=\"3.3000000000000003\" />\n            <circle fill=\"#e41a1c\" stroke=\"#e41a1c\" stroke-opacity=\"0.0\" stroke-width=\"0.0\" cx=\"139.50691768359525\" cy=\"160.95989384935547\" r=\"3.3000000000000003\" />\n            <circle fill=\"#e41a1c\" stroke=\"#e41a1c\" stroke-opacity=\"0.0\" stroke-width=\"0.0\" cx=\"44.366947531063886\" cy=\"43.63331775572004\" r=\"3.3000000000000003\" />\n            <circle fill=\"#e41a1c\" stroke=\"#e41a1c\" stroke-opacity=\"0.0\" stroke-width=\"0.0\" cx=\"64.90066258623216\" cy=\"106.14858582034857\" r=\"3.3000000000000003\" />\n            <circle fill=\"#e41a1c\" stroke=\"#e41a1c\" stroke-opacity=\"0.0\" stroke-width=\"0.0\" cx=\"135.2006169787456\" cy=\"93.09942825366846\" r=\"3.3000000000000003\" />\n            <circle fill=\"#e41a1c\" stroke=\"#e41a1c\" stroke-opacity=\"0.0\" stroke-width=\"0.0\" cx=\"137.04205845358396\" cy=\"50.81904714723035\" r=\"3.3000000000000003\" />\n            <circle fill=\"#e41a1c\" stroke=\"#e41a1c\" stroke-opacity=\"0.0\" stroke-width=\"0.0\" cx=\"198.32584173821706\" cy=\"28.05606844417025\" r=\"3.3000000000000003\" />\n            <circle fill=\"#e41a1c\" stroke=\"#e41a1c\" stroke-opacity=\"0.0\" stroke-width=\"0.0\" cx=\"78.79699578966773\" cy=\"107.78748695509786\" r=\"3.3000000000000003\" />\n            <circle fill=\"#e41a1c\" stroke=\"#e41a1c\" stroke-opacity=\"0.0\" stroke-width=\"0.0\" cx=\"100.53485701653926\" cy=\"138.5723666968891\" r=\"3.3000000000000003\" />\n            <circle fill=\"#e41a1c\" stroke=\"#e41a1c\" stroke-opacity=\"0.0\" stroke-width=\"0.0\" cx=\"160.7365230467795\" cy=\"35.59199929640235\" r=\"3.3000000000000003\" />\n            <circle fill=\"#e41a1c\" stroke=\"#e41a1c\" stroke-opacity=\"0.0\" stroke-width=\"0.0\" cx=\"72.54288280180855\" cy=\"113.02505346250045\" r=\"3.3000000000000003\" />\n            <circle fill=\"#e41a1c\" stroke=\"#e41a1c\" stroke-opacity=\"0.0\" stroke-width=\"0.0\" cx=\"117.70698580502908\" cy=\"96.435151603884\" r=\"3.3000000000000003\" />\n            <circle fill=\"#e41a1c\" stroke=\"#e41a1c\" stroke-opacity=\"0.0\" stroke-width=\"0.0\" cx=\"68.23873208819334\" cy=\"57.714473186977045\" r=\"3.3000000000000003\" />\n            <circle fill=\"#e41a1c\" stroke=\"#e41a1c\" stroke-opacity=\"0.0\" stroke-width=\"0.0\" cx=\"212.30204016480548\" cy=\"152.57360122577583\" r=\"3.3000000000000003\" />\n            <circle fill=\"#e41a1c\" stroke=\"#e41a1c\" stroke-opacity=\"0.0\" stroke-width=\"0.0\" cx=\"125.3889543927315\" cy=\"114.58048493879\" r=\"3.3000000000000003\" />\n            <circle fill=\"#e41a1c\" stroke=\"#e41a1c\" stroke-opacity=\"0.0\" stroke-width=\"0.0\" cx=\"80.97765656419384\" cy=\"66.98118131325225\" r=\"3.3000000000000003\" />\n            <circle fill=\"#e41a1c\" stroke=\"#e41a1c\" stroke-opacity=\"0.0\" stroke-width=\"0.0\" cx=\"217.04714579500774\" cy=\"16.13676593013784\" r=\"3.3000000000000003\" />\n            <circle fill=\"#e41a1c\" stroke=\"#e41a1c\" stroke-opacity=\"0.0\" stroke-width=\"0.0\" cx=\"138.67397221041034\" cy=\"46.270911358443016\" r=\"3.3000000000000003\" />\n            <circle fill=\"#e41a1c\" stroke=\"#e41a1c\" stroke-opacity=\"0.0\" stroke-width=\"0.0\" cx=\"63.070819356990384\" cy=\"85.77723325669002\" r=\"3.3000000000000003\" />\n            <circle fill=\"#e41a1c\" stroke=\"#e41a1c\" stroke-opacity=\"0.0\" stroke-width=\"0.0\" cx=\"115.42530928000612\" cy=\"116.60196359952192\" r=\"3.3000000000000003\" />\n            <circle fill=\"#e41a1c\" stroke=\"#e41a1c\" stroke-opacity=\"0.0\" stroke-width=\"0.0\" cx=\"44.52675856867063\" cy=\"138.7268288417221\" r=\"3.3000000000000003\" />\n            <circle fill=\"#e41a1c\" stroke=\"#e41a1c\" stroke-opacity=\"0.0\" stroke-width=\"0.0\" cx=\"156.30231069644304\" cy=\"88.67224918998136\" r=\"3.3000000000000003\" />\n            <circle fill=\"#e41a1c\" stroke=\"#e41a1c\" stroke-opacity=\"0.0\" stroke-width=\"0.0\" cx=\"113.44603088093834\" cy=\"59.974386135212455\" r=\"3.3000000000000003\" />\n            <circle fill=\"#e41a1c\" stroke=\"#e41a1c\" stroke-opacity=\"0.0\" stroke-width=\"0.0\" cx=\"85.38251866590252\" cy=\"93.594646110115\" r=\"3.3000000000000003\" />\n            <circle fill=\"#e41a1c\" stroke=\"#e41a1c\" stroke-opacity=\"0.0\" stroke-width=\"0.0\" cx=\"136.55785268057147\" cy=\"126.36268750271525\" r=\"3.3000000000000003\" />\n            <circle fill=\"#e41a1c\" stroke=\"#e41a1c\" stroke-opacity=\"0.0\" stroke-width=\"0.0\" cx=\"69.46999569881265\" cy=\"78.93469768093885\" r=\"3.3000000000000003\" />\n            <circle fill=\"#377eb8\" stroke=\"#377eb8\" stroke-opacity=\"0.0\" stroke-width=\"0.0\" cx=\"341.33086339662043\" cy=\"289.6014990521993\" r=\"3.3000000000000003\" />\n            <circle fill=\"#377eb8\" stroke=\"#377eb8\" stroke-opacity=\"0.0\" stroke-width=\"0.0\" cx=\"432.3284663161827\" cy=\"102.79878050007608\" r=\"3.3000000000000003\" />\n            <circle fill=\"#377eb8\" stroke=\"#377eb8\" stroke-opacity=\"0.0\" stroke-width=\"0.0\" cx=\"430.8983772891573\" cy=\"277.374263209324\" r=\"3.3000000000000003\" />\n            <circle fill=\"#377eb8\" stroke=\"#377eb8\" stroke-opacity=\"0.0\" stroke-width=\"0.0\" cx=\"268.90985975665285\" cy=\"84.75966098149928\" r=\"3.3000000000000003\" />\n            <circle fill=\"#377eb8\" stroke=\"#377eb8\" stroke-opacity=\"0.0\" stroke-width=\"0.0\" cx=\"377.04709839009536\" cy=\"301.35708436533025\" r=\"3.3000000000000003\" />\n            <circle fill=\"#377eb8\" stroke=\"#377eb8\" stroke-opacity=\"0.0\" stroke-width=\"0.0\" cx=\"327.8737836716067\" cy=\"188.7730014561993\" r=\"3.3000000000000003\" />\n            <circle fill=\"#377eb8\" stroke=\"#377eb8\" stroke-opacity=\"0.0\" stroke-width=\"0.0\" cx=\"333.01019328747265\" cy=\"270.86921568047893\" r=\"3.3000000000000003\" />\n            <circle fill=\"#377eb8\" stroke=\"#377eb8\" stroke-opacity=\"0.0\" stroke-width=\"0.0\" cx=\"403.66038850379414\" cy=\"313.8710413310066\" r=\"3.3000000000000003\" />\n            <circle fill=\"#377eb8\" stroke=\"#377eb8\" stroke-opacity=\"0.0\" stroke-width=\"0.0\" cx=\"308.36873620538086\" cy=\"188.64366514436622\" r=\"3.3000000000000003\" />\n            <circle fill=\"#377eb8\" stroke=\"#377eb8\" stroke-opacity=\"0.0\" stroke-width=\"0.0\" cx=\"388.51134391803566\" cy=\"328.36351147134906\" r=\"3.3000000000000003\" />\n            <circle fill=\"#377eb8\" stroke=\"#377eb8\" stroke-opacity=\"0.0\" stroke-width=\"0.0\" cx=\"298.476810789988\" cy=\"176.9950849118691\" r=\"3.3000000000000003\" />\n            <circle fill=\"#377eb8\" stroke=\"#377eb8\" stroke-opacity=\"0.0\" stroke-width=\"0.0\" cx=\"434.1900368030765\" cy=\"130.53365255057128\" r=\"3.3000000000000003\" />\n            <circle fill=\"#377eb8\" stroke=\"#377eb8\" stroke-opacity=\"0.0\" stroke-width=\"0.0\" cx=\"294.82311324309825\" cy=\"251.21220130410313\" r=\"3.3000000000000003\" />\n            <circle fill=\"#377eb8\" stroke=\"#377eb8\" stroke-opacity=\"0.0\" stroke-width=\"0.0\" cx=\"277.22661870833497\" cy=\"264.47878544259856\" r=\"3.3000000000000003\" />\n            <circle fill=\"#377eb8\" stroke=\"#377eb8\" stroke-opacity=\"0.0\" stroke-width=\"0.0\" cx=\"338.5944157230979\" cy=\"251.66246823061832\" r=\"3.3000000000000003\" />\n            <circle fill=\"#377eb8\" stroke=\"#377eb8\" stroke-opacity=\"0.0\" stroke-width=\"0.0\" cx=\"402.66041904834935\" cy=\"229.7668752514099\" r=\"3.3000000000000003\" />\n            <circle fill=\"#377eb8\" stroke=\"#377eb8\" stroke-opacity=\"0.0\" stroke-width=\"0.0\" cx=\"326.2498854653834\" cy=\"89.00674934336243\" r=\"3.3000000000000003\" />\n            <circle fill=\"#377eb8\" stroke=\"#377eb8\" stroke-opacity=\"0.0\" stroke-width=\"0.0\" cx=\"304.88190016412574\" cy=\"228.4781560878157\" r=\"3.3000000000000003\" />\n            <circle fill=\"#377eb8\" stroke=\"#377eb8\" stroke-opacity=\"0.0\" stroke-width=\"0.0\" cx=\"287.0683640853413\" cy=\"291.0283281746255\" r=\"3.3000000000000003\" />\n            <circle fill=\"#377eb8\" stroke=\"#377eb8\" stroke-opacity=\"0.0\" stroke-width=\"0.0\" cx=\"418.9018465854098\" cy=\"282.6263072380213\" r=\"3.3000000000000003\" />\n            <circle fill=\"#377eb8\" stroke=\"#377eb8\" stroke-opacity=\"0.0\" stroke-width=\"0.0\" cx=\"280.0756010932174\" cy=\"211.2550665467805\" r=\"3.3000000000000003\" />\n            <circle fill=\"#377eb8\" stroke=\"#377eb8\" stroke-opacity=\"0.0\" stroke-width=\"0.0\" cx=\"391.67690805828596\" cy=\"194.78656497637365\" r=\"3.3000000000000003\" />\n            <circle fill=\"#377eb8\" stroke=\"#377eb8\" stroke-opacity=\"0.0\" stroke-width=\"0.0\" cx=\"269.0053509348015\" cy=\"164.55704030744366\" r=\"3.3000000000000003\" />\n            <circle fill=\"#377eb8\" stroke=\"#377eb8\" stroke-opacity=\"0.0\" stroke-width=\"0.0\" cx=\"396.23933697053036\" cy=\"188.0862237181234\" r=\"3.3000000000000003\" />\n            <circle fill=\"#377eb8\" stroke=\"#377eb8\" stroke-opacity=\"0.0\" stroke-width=\"0.0\" cx=\"405.40090555200675\" cy=\"161.4682984912125\" r=\"3.3000000000000003\" />\n            <circle fill=\"#377eb8\" stroke=\"#377eb8\" stroke-opacity=\"0.0\" stroke-width=\"0.0\" cx=\"328.3210852652416\" cy=\"95.17680374118855\" r=\"3.3000000000000003\" />\n            <circle fill=\"#377eb8\" stroke=\"#377eb8\" stroke-opacity=\"0.0\" stroke-width=\"0.0\" cx=\"420.17005679818135\" cy=\"294.8327885229328\" r=\"3.3000000000000003\" />\n            <circle fill=\"#377eb8\" stroke=\"#377eb8\" stroke-opacity=\"0.0\" stroke-width=\"0.0\" cx=\"265.39142182881716\" cy=\"112.49675634097588\" r=\"3.3000000000000003\" />\n            <circle fill=\"#377eb8\" stroke=\"#377eb8\" stroke-opacity=\"0.0\" stroke-width=\"0.0\" cx=\"400.0772247288254\" cy=\"244.80333879914372\" r=\"3.3000000000000003\" />\n            <circle fill=\"#377eb8\" stroke=\"#377eb8\" stroke-opacity=\"0.0\" stroke-width=\"0.0\" cx=\"303.2787950094272\" cy=\"298.80275977926124\" r=\"3.3000000000000003\" />\n            <circle fill=\"#377eb8\" stroke=\"#377eb8\" stroke-opacity=\"0.0\" stroke-width=\"0.0\" cx=\"308.29238914379937\" cy=\"89.10408314199017\" r=\"3.3000000000000003\" />\n            <circle fill=\"#377eb8\" stroke=\"#377eb8\" stroke-opacity=\"0.0\" stroke-width=\"0.0\" cx=\"352.08281566820267\" cy=\"292.75943052279285\" r=\"3.3000000000000003\" />\n            <circle fill=\"#377eb8\" stroke=\"#377eb8\" stroke-opacity=\"0.0\" stroke-width=\"0.0\" cx=\"409.16583293866154\" cy=\"172.98936975988548\" r=\"3.3000000000000003\" />\n            <circle fill=\"#377eb8\" stroke=\"#377eb8\" stroke-opacity=\"0.0\" stroke-width=\"0.0\" cx=\"347.4310645848932\" cy=\"203.0790231965685\" r=\"3.3000000000000003\" />\n            <circle fill=\"#377eb8\" stroke=\"#377eb8\" stroke-opacity=\"0.0\" stroke-width=\"0.0\" cx=\"316.8755090376239\" cy=\"130.41198758887612\" r=\"3.3000000000000003\" />\n            <circle fill=\"#377eb8\" stroke=\"#377eb8\" stroke-opacity=\"0.0\" stroke-width=\"0.0\" cx=\"428.6707740925004\" cy=\"188.88943044286472\" r=\"3.3000000000000003\" />\n            <circle fill=\"#377eb8\" stroke=\"#377eb8\" stroke-opacity=\"0.0\" stroke-width=\"0.0\" cx=\"274.3724743433396\" cy=\"123.19830791926746\" r=\"3.3000000000000003\" />\n            <circle fill=\"#377eb8\" stroke=\"#377eb8\" stroke-opacity=\"0.0\" stroke-width=\"0.0\" cx=\"408.574378978604\" cy=\"171.85208346682194\" r=\"3.3000000000000003\" />\n            <circle fill=\"#377eb8\" stroke=\"#377eb8\" stroke-opacity=\"0.0\" stroke-width=\"0.0\" cx=\"357.2465728492536\" cy=\"240.8564731052614\" r=\"3.3000000000000003\" />\n            <circle fill=\"#377eb8\" stroke=\"#377eb8\" stroke-opacity=\"0.0\" stroke-width=\"0.0\" cx=\"331.88458937130144\" cy=\"199.26884523199462\" r=\"3.3000000000000003\" />\n            <circle fill=\"#377eb8\" stroke=\"#377eb8\" stroke-opacity=\"0.0\" stroke-width=\"0.0\" cx=\"430.9003797239512\" cy=\"78.71284882547334\" r=\"3.3000000000000003\" />\n            <circle fill=\"#377eb8\" stroke=\"#377eb8\" stroke-opacity=\"0.0\" stroke-width=\"0.0\" cx=\"382.5441250031064\" cy=\"77.72696613811652\" r=\"3.3000000000000003\" />\n            <circle fill=\"#377eb8\" stroke=\"#377eb8\" stroke-opacity=\"0.0\" stroke-width=\"0.0\" cx=\"345.7565582757119\" cy=\"104.1071307926769\" r=\"3.3000000000000003\" />\n            <circle fill=\"#377eb8\" stroke=\"#377eb8\" stroke-opacity=\"0.0\" stroke-width=\"0.0\" cx=\"360.622916329573\" cy=\"225.40517567687291\" r=\"3.3000000000000003\" />\n            <circle fill=\"#377eb8\" stroke=\"#377eb8\" stroke-opacity=\"0.0\" stroke-width=\"0.0\" cx=\"316.5043484501368\" cy=\"306.8287039736779\" r=\"3.3000000000000003\" />\n            <circle fill=\"#377eb8\" stroke=\"#377eb8\" stroke-opacity=\"0.0\" stroke-width=\"0.0\" cx=\"275.1485490974999\" cy=\"110.94230822248464\" r=\"3.3000000000000003\" />\n            <circle fill=\"#377eb8\" stroke=\"#377eb8\" stroke-opacity=\"0.0\" stroke-width=\"0.0\" cx=\"343.28924686817834\" cy=\"137.04458580272626\" r=\"3.3000000000000003\" />\n            <circle fill=\"#377eb8\" stroke=\"#377eb8\" stroke-opacity=\"0.0\" stroke-width=\"0.0\" cx=\"286.8780287069452\" cy=\"157.55456058738795\" r=\"3.3000000000000003\" />\n            <circle fill=\"#377eb8\" stroke=\"#377eb8\" stroke-opacity=\"0.0\" stroke-width=\"0.0\" cx=\"429.91865751103\" cy=\"177.15420620528337\" r=\"3.3000000000000003\" />\n            <circle fill=\"#377eb8\" stroke=\"#377eb8\" stroke-opacity=\"0.0\" stroke-width=\"0.0\" cx=\"269.4482356314254\" cy=\"313.2730706986764\" r=\"3.3000000000000003\" />\n          </g>\n        </g>\n      </g>\n    </g>\n    <g transform=\"translate(14.5 182.0 ) rotate(-90.0 ) \">\n      <text class=\"axis-title-y\" y=\"0.0\" text-anchor=\"middle\">\n      value\n      </text>\n    </g>\n    <g transform=\"translate(296.52219924627366 391.5 ) \">\n      <text class=\"axis-title-x\" y=\"0.0\" text-anchor=\"middle\">\n      type\n      </text>\n    </g>\n    <g transform=\"translate(545.0290918167977 137.75 ) \">\n      <rect x=\"5.0\" y=\"5.0\" height=\"78.5\" width=\"44.970908183202305\" stroke=\"rgb(71,71,71)\" stroke-opacity=\"1.0\" stroke-width=\"0.0\" fill=\"rgb(255,255,255)\" fill-opacity=\"1.0\">\n      </rect>\n      <g transform=\"translate(10.0 10.0 ) \">\n        <g transform=\"translate(0.0 10.5 ) \">\n          <text class=\"legend-title\" y=\"0.0\">\n          type\n          </text>\n        </g>\n        <g transform=\"translate(0.0 22.5 ) \">\n          <g transform=\"\">\n            <g>\n              <rect x=\"0.0\" y=\"0.0\" height=\"23.0\" width=\"23.0\" stroke-width=\"0.0\" fill=\"rgb(255,255,255)\" fill-opacity=\"1.0\">\n              </rect>\n              <g transform=\"translate(1.0 1.0 ) \">\n                <g>\n                  \n                  <g >\n                    <circle fill=\"#e41a1c\" stroke=\"#e41a1c\" stroke-opacity=\"0.0\" stroke-width=\"0.0\" cx=\"10.5\" cy=\"10.5\" r=\"5.5\" />\n                  </g>\n                </g>\n              </g>\n              <rect x=\"0.0\" y=\"0.0\" height=\"23.0\" width=\"23.0\" stroke=\"rgb(255,255,255)\" stroke-opacity=\"1.0\" stroke-width=\"1.0\" fill-opacity=\"0.0\">\n              </rect>\n            </g>\n            <g transform=\"translate(26.9903027277341 16.05 ) \">\n              <text class=\"legend-item\" y=\"0.0\">\n              a\n              </text>\n            </g>\n          </g>\n          <g transform=\"translate(0.0 23.0 ) \">\n            <g>\n              <rect x=\"0.0\" y=\"0.0\" height=\"23.0\" width=\"23.0\" stroke-width=\"0.0\" fill=\"rgb(255,255,255)\" fill-opacity=\"1.0\">\n              </rect>\n              <g transform=\"translate(1.0 1.0 ) \">\n                <g>\n                  \n                  <g >\n                    <circle fill=\"#377eb8\" stroke=\"#377eb8\" stroke-opacity=\"0.0\" stroke-width=\"0.0\" cx=\"10.5\" cy=\"10.5\" r=\"5.5\" />\n                  </g>\n                </g>\n              </g>\n              <rect x=\"0.0\" y=\"0.0\" height=\"23.0\" width=\"23.0\" stroke=\"rgb(255,255,255)\" stroke-opacity=\"1.0\" stroke-width=\"1.0\" fill-opacity=\"0.0\">\n              </rect>\n            </g>\n            <g transform=\"translate(26.9903027277341 16.05 ) \">\n              <text class=\"legend-item\" y=\"0.0\">\n              b\n              </text>\n            </g>\n          </g>\n        </g>\n      </g>\n    </g>\n    <path fill=\"rgb(0,0,0)\" fill-opacity=\"0.0\" stroke=\"rgb(71,71,71)\" stroke-opacity=\"1.0\" stroke-width=\"0.0\" d=\"M0.0 0.0 L0.0 400.0 L600.0 400.0 L600.0 0.0 Z\">\n    </path>\n  </g>\n  <g id=\"dn47tgz\">\n  </g>\n</svg>\n        <script>document.getElementById(\"502cbd1c-2f01-48a2-98a6-6bfe5891e990\").style.display = \"none\";</script>",
      "application/plot+json": {
       "output_type": "lets_plot_spec",
       "output": {
        "mapping": {},
        "data": {
         "type": [
          "a",
          "a",
          "a",
          "a",
          "a",
          "a",
          "a",
          "a",
          "a",
          "a",
          "a",
          "a",
          "a",
          "a",
          "a",
          "a",
          "a",
          "a",
          "a",
          "a",
          "a",
          "a",
          "a",
          "a",
          "a",
          "a",
          "a",
          "a",
          "a",
          "a",
          "a",
          "a",
          "a",
          "a",
          "a",
          "a",
          "a",
          "a",
          "a",
          "a",
          "a",
          "a",
          "a",
          "a",
          "a",
          "a",
          "a",
          "a",
          "a",
          "a",
          "b",
          "b",
          "b",
          "b",
          "b",
          "b",
          "b",
          "b",
          "b",
          "b",
          "b",
          "b",
          "b",
          "b",
          "b",
          "b",
          "b",
          "b",
          "b",
          "b",
          "b",
          "b",
          "b",
          "b",
          "b",
          "b",
          "b",
          "b",
          "b",
          "b",
          "b",
          "b",
          "b",
          "b",
          "b",
          "b",
          "b",
          "b",
          "b",
          "b",
          "b",
          "b",
          "b",
          "b",
          "b",
          "b",
          "b",
          "b",
          "b",
          "b"
         ],
         "value": [
          0.28855264,
          0.12709585,
          0.34158316,
          0.49567914,
          0.1913071,
          0.28433678,
          0.3198844,
          0.4520056,
          0.59944636,
          0.5715063,
          0.11868865,
          0.51328427,
          0.29941642,
          0.37420738,
          0.39850816,
          0.4946679,
          0.28374162,
          0.3416083,
          0.10409111,
          0.48383382,
          0.58469546,
          0.123731576,
          0.1860322,
          0.32101712,
          0.2226156,
          0.12429731,
          0.50789547,
          0.30350515,
          0.34616533,
          0.48440102,
          0.5588301,
          0.29813635,
          0.19748238,
          0.534192,
          0.28101742,
          0.33526284,
          0.46186873,
          0.1517016,
          0.27593333,
          0.43155834,
          0.5978156,
          0.49927345,
          0.37011498,
          0.26932693,
          0.19697592,
          0.3606415,
          0.45448083,
          0.34455043,
          0.23741443,
          0.39248586,
          -0.29631627,
          0.31446114,
          -0.25634465,
          0.37344107,
          -0.33475655,
          0.03335888,
          -0.23508187,
          -0.37566635,
          0.033770043,
          -0.42306685,
          0.07185759,
          0.22376552,
          -0.17080554,
          -0.21418609,
          -0.1722771,
          -0.100678496,
          0.35954416,
          -0.09647109,
          -0.30098298,
          -0.2735101,
          -0.0401624,
          0.013686574,
          0.11252234,
          0.035587966,
          0.12262214,
          0.3393812,
          -0.31342262,
          0.28274503,
          -0.14985406,
          -0.32641056,
          0.35922426,
          -0.30663678,
          0.0849568,
          -0.013432322,
          0.2241628,
          0.032964256,
          0.24774629,
          0.08866707,
          -0.13695168,
          -9.768809E-4,
          0.39321014,
          0.3964259,
          0.3101791,
          -0.08643113,
          -0.35265714,
          0.28781953,
          0.20247923,
          0.13543302,
          0.07133515,
          -0.37372735
         ]
        },
        "kind": "plot",
        "scales": [
         {
          "aesthetic": "x",
          "discrete": true
         },
         {
          "aesthetic": "y",
          "limits": [
           null,
           null
          ]
         },
         {
          "aesthetic": "color",
          "discrete": true
         }
        ],
        "layers": [
         {
          "mapping": {
           "x": "type",
           "y": "value",
           "color": "type"
          },
          "stat": "identity",
          "sampling": "none",
          "position": "jitter",
          "geom": "point"
         }
        ]
       },
       "apply_color_scheme": true,
       "swing_enabled": true
      }
     },
     "execution_count": 3,
     "metadata": {},
     "output_type": "execute_result"
    }
   ],
   "source": [
    "data.plot {\n",
    "    points {\n",
    "        x(type)\n",
    "        y(value)\n",
    "        color(type)\n",
    "        position = Position.jitter()\n",
    "    }\n",
    "}"
   ],
   "metadata": {
    "collapsed": false,
    "ExecuteTime": {
     "end_time": "2023-11-20T23:40:03.508835Z",
     "start_time": "2023-11-20T23:40:02.988225Z"
    }
   }
  }
 ],
 "metadata": {
  "kernelspec": {
   "display_name": "Kotlin",
   "language": "kotlin",
   "name": "kotlin"
  },
  "language_info": {
   "name": "kotlin",
   "version": "1.9.0",
   "mimetype": "text/x-kotlin",
   "file_extension": ".kt",
   "pygments_lexer": "kotlin",
   "codemirror_mode": "text/x-kotlin",
   "nbconvert_exporter": ""
  }
 },
 "nbformat": 4,
 "nbformat_minor": 0
}
