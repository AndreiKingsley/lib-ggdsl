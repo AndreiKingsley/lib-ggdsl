{
 "cells": [
  {
   "cell_type": "code",
   "execution_count": 1,
   "metadata": {
    "collapsed": true,
    "ExecuteTime": {
     "end_time": "2023-11-20T23:43:19.434433Z",
     "start_time": "2023-11-20T23:43:17.797700Z"
    }
   },
   "outputs": [],
   "source": [
    "%useLatestDescriptors\n",
    "%use dataframe\n",
    "%use kandy"
   ]
  },
  {
   "cell_type": "code",
   "execution_count": 2,
   "outputs": [],
   "source": [
    "val data = dataFrameOf(\n",
    "    \"xShot\" to listOf(\n",
    "        4.02, 5.24, 4.41, 3.99, 3.10, 4.73, 3.20, 6.53, 7.05, 2.81,\n",
    "        5.80, 3.87, 4.16, 6.78, 0.52, 0.64, 0.15, 6.09, 5.70, 6.37\n",
    "    ),\n",
    "    \"yShot\" to listOf(\n",
    "        2.39, 1.95, 1.13, 1.90, 0.29, 1.56, 0.35, 2.30, 1.27, 1.01,\n",
    "        0.65, 1.89, 1.11, 1.39, 0.05, 1.51, 1.49, 1.51, 2.30, 1.66\n",
    "    ),\n",
    "    \"outcome\" to listOf(\n",
    "        false, true, false, true, true, true, true, true, true, false,\n",
    "        true, true, false, false, true, false, false, true, true, false\n",
    "    )\n",
    ")"
   ],
   "metadata": {
    "collapsed": false,
    "ExecuteTime": {
     "end_time": "2023-11-20T23:43:22.109391Z",
     "start_time": "2023-11-20T23:43:21.555137Z"
    }
   }
  },
  {
   "cell_type": "code",
   "execution_count": 3,
   "outputs": [
    {
     "data": {
      "text/html": "            <iframe src='about:blank' style='border:none !important;' width='600' height='400' srcdoc=\"&lt;html lang=&quot;en&quot;>\n   &lt;head>\n       &lt;style> html, body { margin: 0; overflow: hidden; } &lt;/style>\n       &lt;script type=&quot;text/javascript&quot; data-lets-plot-script=&quot;library&quot; src=&quot;https://cdn.jsdelivr.net/gh/JetBrains/lets-plot@v4.0.1/js-package/distr/lets-plot.min.js&quot;>&lt;/script>\n   &lt;/head>\n   &lt;body>\n          &lt;div id=&quot;DL69EF&quot;>&lt;/div>\n   &lt;script type=&quot;text/javascript&quot; data-lets-plot-script=&quot;plot&quot;>\n       var plotSpec={\n&quot;ggtitle&quot;:{\n&quot;text&quot;:&quot;Penalty Shot Outcomes Analysis&quot;\n},\n&quot;mapping&quot;:{\n},\n&quot;data&quot;:{\n&quot;xShot&quot;:[4.02,5.24,4.41,3.99,3.1,4.73,3.2,6.53,7.05,2.81,5.8,3.87,4.16,6.78,0.52,0.64,0.15,6.09,5.7,6.37],\n&quot;yShot&quot;:[2.39,1.95,1.13,1.9,0.29,1.56,0.35,2.3,1.27,1.01,0.65,1.89,1.11,1.39,0.05,1.51,1.49,1.51,2.3,1.66],\n&quot;outcome&quot;:[false,true,false,true,true,true,true,true,true,false,true,true,false,false,true,false,false,true,true,false]\n},\n&quot;kind&quot;:&quot;plot&quot;,\n&quot;scales&quot;:[{\n&quot;aesthetic&quot;:&quot;x&quot;,\n&quot;name&quot;:&quot;Horizontal Position (meters)&quot;,\n&quot;limits&quot;:[null,null]\n},{\n&quot;aesthetic&quot;:&quot;y&quot;,\n&quot;name&quot;:&quot;Vertical Position (meters)&quot;,\n&quot;limits&quot;:[null,null]\n},{\n&quot;aesthetic&quot;:&quot;color&quot;,\n&quot;values&quot;:[&quot;#3ba272&quot;,&quot;#ee6666&quot;],\n&quot;name&quot;:&quot;Outcome\\n(Green for Goals\\nRed for Misses)&quot;,\n&quot;limits&quot;:[true,false]\n}],\n&quot;layers&quot;:[{\n&quot;mapping&quot;:{\n&quot;x&quot;:&quot;xShot&quot;,\n&quot;y&quot;:&quot;yShot&quot;,\n&quot;color&quot;:&quot;outcome&quot;\n},\n&quot;stat&quot;:&quot;identity&quot;,\n&quot;size&quot;:8.5,\n&quot;sampling&quot;:&quot;none&quot;,\n&quot;position&quot;:&quot;identity&quot;,\n&quot;geom&quot;:&quot;point&quot;,\n&quot;data&quot;:{\n}\n}]\n};\n       var plotContainer = document.getElementById(&quot;DL69EF&quot;);\n       LetsPlot.buildPlotFromProcessedSpecs(plotSpec, -1, -1, plotContainer);\n   &lt;/script>\n   &lt;/body>\n&lt;/html>\"></iframe>            \n        <svg id=e01fb5f0-78c1-4622-af49-3d12bd79418c xmlns=\"http://www.w3.org/2000/svg\" xmlns:xlink=\"http://www.w3.org/1999/xlink\" class=\"plt-container\" width=\"600.0\" height=\"400.0\">\n  <style type=\"text/css\">\n  .plt-container {\n   font-family: Lucida Grande, sans-serif;\n   user-select: none;\n   -webkit-user-select: none;\n   -moz-user-select: none;\n   -ms-user-select: none;\n}\ntext {\n   text-rendering: optimizeLegibility;\n}\n#pWKbaEG .plot-title {\n   fill: #474747;\n   font-family: Lucida Grande, sans-serif;\n   font-size: 16.0px;\n   font-weight: normal;\n   font-style: normal;   \n}\n#pWKbaEG .plot-subtitle {\n   fill: #474747;\n   font-family: Lucida Grande, sans-serif;\n   font-size: 15.0px;\n   font-weight: normal;\n   font-style: normal;   \n}\n#pWKbaEG .plot-caption {\n   fill: #474747;\n   font-family: Lucida Grande, sans-serif;\n   font-size: 13.0px;\n   font-weight: normal;\n   font-style: normal;   \n}\n#pWKbaEG .legend-title {\n   fill: #474747;\n   font-family: Lucida Grande, sans-serif;\n   font-size: 15.0px;\n   font-weight: normal;\n   font-style: normal;   \n}\n#pWKbaEG .legend-item {\n   fill: #474747;\n   font-family: Lucida Grande, sans-serif;\n   font-size: 13.0px;\n   font-weight: normal;\n   font-style: normal;   \n}\n#pWKbaEG .axis-title-x {\n   fill: #474747;\n   font-family: Lucida Grande, sans-serif;\n   font-size: 15.0px;\n   font-weight: normal;\n   font-style: normal;   \n}\n#pWKbaEG .axis-text-x {\n   fill: #474747;\n   font-family: Lucida Grande, sans-serif;\n   font-size: 13.0px;\n   font-weight: normal;\n   font-style: normal;   \n}\n#d4GERQB .axis-tooltip-text-x {\n   fill: #ffffff;\n   font-family: Lucida Grande, sans-serif;\n   font-size: 13.0px;\n   font-weight: normal;\n   font-style: normal;   \n}\n#pWKbaEG .axis-title-y {\n   fill: #474747;\n   font-family: Lucida Grande, sans-serif;\n   font-size: 15.0px;\n   font-weight: normal;\n   font-style: normal;   \n}\n#pWKbaEG .axis-text-y {\n   fill: #474747;\n   font-family: Lucida Grande, sans-serif;\n   font-size: 13.0px;\n   font-weight: normal;\n   font-style: normal;   \n}\n#d4GERQB .axis-tooltip-text-y {\n   fill: #ffffff;\n   font-family: Lucida Grande, sans-serif;\n   font-size: 13.0px;\n   font-weight: normal;\n   font-style: normal;   \n}\n#pWKbaEG .facet-strip-text-x {\n   fill: #474747;\n   font-family: Lucida Grande, sans-serif;\n   font-size: 13.0px;\n   font-weight: normal;\n   font-style: normal;   \n}\n#pWKbaEG .facet-strip-text-y {\n   fill: #474747;\n   font-family: Lucida Grande, sans-serif;\n   font-size: 13.0px;\n   font-weight: normal;\n   font-style: normal;   \n}\n#d4GERQB .tooltip-text {\n   fill: #474747;\n   font-family: Lucida Grande, sans-serif;\n   font-size: 13.0px;\n   font-weight: normal;\n   font-style: normal;   \n}\n#d4GERQB .tooltip-title {\n   fill: #474747;\n   font-family: Lucida Grande, sans-serif;\n   font-size: 13.0px;\n   font-weight: bold;\n   font-style: normal;   \n}\n#d4GERQB .tooltip-label {\n   fill: #474747;\n   font-family: Lucida Grande, sans-serif;\n   font-size: 13.0px;\n   font-weight: bold;\n   font-style: normal;   \n}\n\n  </style>\n  <g id=\"pWKbaEG\">\n    <path fill-rule=\"evenodd\" fill=\"rgb(255,255,255)\" fill-opacity=\"1.0\" d=\"M0.0 0.0 L0.0 400.0 L600.0 400.0 L600.0 0.0 Z\">\n    </path>\n    <g transform=\"translate(23.0 34.0 ) \">\n      <g transform=\"translate(27.034701220281416 320.0 ) \">\n        <line x1=\"9.97609574014582\" y1=\"-0.0\" x2=\"9.97609574014582\" y2=\"-320.0\" stroke=\"rgb(233,233,233)\" stroke-opacity=\"1.0\" stroke-width=\"1.0\">\n        </line>\n        <line x1=\"112.29502640830808\" y1=\"-0.0\" x2=\"112.29502640830808\" y2=\"-320.0\" stroke=\"rgb(233,233,233)\" stroke-opacity=\"1.0\" stroke-width=\"1.0\">\n        </line>\n        <line x1=\"214.6139570764703\" y1=\"-0.0\" x2=\"214.6139570764703\" y2=\"-320.0\" stroke=\"rgb(233,233,233)\" stroke-opacity=\"1.0\" stroke-width=\"1.0\">\n        </line>\n        <line x1=\"316.9328877446326\" y1=\"-0.0\" x2=\"316.9328877446326\" y2=\"-320.0\" stroke=\"rgb(233,233,233)\" stroke-opacity=\"1.0\" stroke-width=\"1.0\">\n        </line>\n        <g transform=\"translate(9.97609574014582 0.0 ) \">\n          <line stroke-width=\"1.0\" stroke=\"rgb(71,71,71)\" stroke-opacity=\"1.0\" x2=\"0.0\" y2=\"4.0\">\n          </line>\n          <g transform=\"translate(0.0 7.0 ) \">\n            <text class=\"axis-text-x\" text-anchor=\"middle\" dy=\"0.7em\">\n            0\n            </text>\n          </g>\n        </g>\n        <g transform=\"translate(112.29502640830808 0.0 ) \">\n          <line stroke-width=\"1.0\" stroke=\"rgb(71,71,71)\" stroke-opacity=\"1.0\" x2=\"0.0\" y2=\"4.0\">\n          </line>\n          <g transform=\"translate(0.0 7.0 ) \">\n            <text class=\"axis-text-x\" text-anchor=\"middle\" dy=\"0.7em\">\n            2\n            </text>\n          </g>\n        </g>\n        <g transform=\"translate(214.6139570764703 0.0 ) \">\n          <line stroke-width=\"1.0\" stroke=\"rgb(71,71,71)\" stroke-opacity=\"1.0\" x2=\"0.0\" y2=\"4.0\">\n          </line>\n          <g transform=\"translate(0.0 7.0 ) \">\n            <text class=\"axis-text-x\" text-anchor=\"middle\" dy=\"0.7em\">\n            4\n            </text>\n          </g>\n        </g>\n        <g transform=\"translate(316.9328877446326 0.0 ) \">\n          <line stroke-width=\"1.0\" stroke=\"rgb(71,71,71)\" stroke-opacity=\"1.0\" x2=\"0.0\" y2=\"4.0\">\n          </line>\n          <g transform=\"translate(0.0 7.0 ) \">\n            <text class=\"axis-text-x\" text-anchor=\"middle\" dy=\"0.7em\">\n            6\n            </text>\n          </g>\n        </g>\n        <line x1=\"0.0\" y1=\"0.0\" x2=\"388.3003418856757\" y2=\"0.0\" stroke-width=\"1.0\" stroke=\"rgb(71,71,71)\" stroke-opacity=\"1.0\">\n        </line>\n      </g>\n      <g transform=\"translate(27.034701220281416 0.0 ) \">\n        <line x1=\"0.0\" y1=\"311.6705516705517\" x2=\"388.3003418856757\" y2=\"311.6705516705517\" stroke=\"rgb(233,233,233)\" stroke-opacity=\"1.0\" stroke-width=\"1.0\">\n        </line>\n        <line x1=\"0.0\" y1=\"249.51048951048952\" x2=\"388.3003418856757\" y2=\"249.51048951048952\" stroke=\"rgb(233,233,233)\" stroke-opacity=\"1.0\" stroke-width=\"1.0\">\n        </line>\n        <line x1=\"0.0\" y1=\"187.35042735042737\" x2=\"388.3003418856757\" y2=\"187.35042735042737\" stroke=\"rgb(233,233,233)\" stroke-opacity=\"1.0\" stroke-width=\"1.0\">\n        </line>\n        <line x1=\"0.0\" y1=\"125.19036519036521\" x2=\"388.3003418856757\" y2=\"125.19036519036521\" stroke=\"rgb(233,233,233)\" stroke-opacity=\"1.0\" stroke-width=\"1.0\">\n        </line>\n        <line x1=\"0.0\" y1=\"63.03030303030306\" x2=\"388.3003418856757\" y2=\"63.03030303030306\" stroke=\"rgb(233,233,233)\" stroke-opacity=\"1.0\" stroke-width=\"1.0\">\n        </line>\n        <g transform=\"translate(0.0 311.6705516705517 ) \">\n          <g transform=\"translate(-3.0 0.0 ) \">\n            <text class=\"axis-text-y\" text-anchor=\"end\" dy=\"0.35em\">\n            0.0\n            </text>\n          </g>\n        </g>\n        <g transform=\"translate(0.0 249.51048951048952 ) \">\n          <g transform=\"translate(-3.0 0.0 ) \">\n            <text class=\"axis-text-y\" text-anchor=\"end\" dy=\"0.35em\">\n            0.5\n            </text>\n          </g>\n        </g>\n        <g transform=\"translate(0.0 187.35042735042737 ) \">\n          <g transform=\"translate(-3.0 0.0 ) \">\n            <text class=\"axis-text-y\" text-anchor=\"end\" dy=\"0.35em\">\n            1.0\n            </text>\n          </g>\n        </g>\n        <g transform=\"translate(0.0 125.19036519036521 ) \">\n          <g transform=\"translate(-3.0 0.0 ) \">\n            <text class=\"axis-text-y\" text-anchor=\"end\" dy=\"0.35em\">\n            1.5\n            </text>\n          </g>\n        </g>\n        <g transform=\"translate(0.0 63.03030303030306 ) \">\n          <g transform=\"translate(-3.0 0.0 ) \">\n            <text class=\"axis-text-y\" text-anchor=\"end\" dy=\"0.35em\">\n            2.0\n            </text>\n          </g>\n        </g>\n        <g transform=\"translate(0.0 0.8702408702409343 ) \">\n          <g transform=\"translate(-3.0 0.0 ) \">\n            <text class=\"axis-text-y\" text-anchor=\"end\" dy=\"0.35em\">\n            2.5\n            </text>\n          </g>\n        </g>\n      </g>\n      <g transform=\"translate(27.034701220281416 0.0 ) \" clip-path=\"url(#cPnUcVq)\" clip-bounds-jfx=\"[rect (0.0, 0.0), (388.3003418856757, 320.0)]\">\n        <defs>\n          <clipPath id=\"cPnUcVq\">\n            <rect x=\"0.0\" y=\"0.0\" width=\"388.3003418856757\" height=\"320.0\">\n            </rect>\n          </clipPath>\n        </defs>\n        <g>\n          \n          <g >\n            <circle fill=\"#ee6666\" stroke=\"#ee6666\" stroke-opacity=\"0.0\" stroke-width=\"0.0\" cx=\"215.6371463831519\" cy=\"14.545454545454561\" r=\"9.350000000000001\" />\n            <circle fill=\"#3ba272\" stroke=\"#3ba272\" stroke-opacity=\"0.0\" stroke-width=\"0.0\" cx=\"278.0516940907309\" cy=\"69.24630924630927\" r=\"9.350000000000001\" />\n            <circle fill=\"#ee6666\" stroke=\"#ee6666\" stroke-opacity=\"0.0\" stroke-width=\"0.0\" cx=\"235.58933786344357\" cy=\"171.18881118881123\" r=\"9.350000000000001\" />\n            <circle fill=\"#3ba272\" stroke=\"#3ba272\" stroke-opacity=\"0.0\" stroke-width=\"0.0\" cx=\"214.1023624231295\" cy=\"75.4623154623155\" r=\"9.350000000000001\" />\n            <circle fill=\"#3ba272\" stroke=\"#3ba272\" stroke-opacity=\"0.0\" stroke-width=\"0.0\" cx=\"168.5704382757973\" cy=\"275.61771561771565\" r=\"9.350000000000001\" />\n            <circle fill=\"#3ba272\" stroke=\"#3ba272\" stroke-opacity=\"0.0\" stroke-width=\"0.0\" cx=\"251.96036677034957\" cy=\"117.73115773115774\" r=\"9.350000000000001\" />\n            <circle fill=\"#3ba272\" stroke=\"#3ba272\" stroke-opacity=\"0.0\" stroke-width=\"0.0\" cx=\"173.68638480920544\" cy=\"268.1585081585082\" r=\"9.350000000000001\" />\n            <circle fill=\"#3ba272\" stroke=\"#3ba272\" stroke-opacity=\"0.0\" stroke-width=\"0.0\" cx=\"344.04740437169556\" cy=\"25.73426573426576\" r=\"9.350000000000001\" />\n            <circle fill=\"#3ba272\" stroke=\"#3ba272\" stroke-opacity=\"0.0\" stroke-width=\"0.0\" cx=\"370.65032634541774\" cy=\"153.7839937839938\" r=\"9.350000000000001\" />\n            <circle fill=\"#ee6666\" stroke=\"#ee6666\" stroke-opacity=\"0.0\" stroke-width=\"0.0\" cx=\"153.7341933289138\" cy=\"186.10722610722613\" r=\"9.350000000000001\" />\n            <circle fill=\"#3ba272\" stroke=\"#3ba272\" stroke-opacity=\"0.0\" stroke-width=\"0.0\" cx=\"306.7009946778163\" cy=\"230.86247086247087\" r=\"9.350000000000001\" />\n            <circle fill=\"#3ba272\" stroke=\"#3ba272\" stroke-opacity=\"0.0\" stroke-width=\"0.0\" cx=\"207.96322658303978\" cy=\"76.70551670551674\" r=\"9.350000000000001\" />\n            <circle fill=\"#ee6666\" stroke=\"#ee6666\" stroke-opacity=\"0.0\" stroke-width=\"0.0\" cx=\"222.7994715299233\" cy=\"173.67521367521368\" r=\"9.350000000000001\" />\n            <circle fill=\"#ee6666\" stroke=\"#ee6666\" stroke-opacity=\"0.0\" stroke-width=\"0.0\" cx=\"356.8372707052159\" cy=\"138.8655788655789\" r=\"9.350000000000001\" />\n            <circle fill=\"#3ba272\" stroke=\"#3ba272\" stroke-opacity=\"0.0\" stroke-width=\"0.0\" cx=\"36.579017713868005\" cy=\"305.45454545454544\" r=\"9.350000000000001\" />\n            <circle fill=\"#ee6666\" stroke=\"#ee6666\" stroke-opacity=\"0.0\" stroke-width=\"0.0\" cx=\"42.718153553957734\" cy=\"123.94716394716397\" r=\"9.350000000000001\" />\n            <circle fill=\"#ee6666\" stroke=\"#ee6666\" stroke-opacity=\"0.0\" stroke-width=\"0.0\" cx=\"17.65001554025799\" cy=\"126.43356643356645\" r=\"9.350000000000001\" />\n            <circle fill=\"#3ba272\" stroke=\"#3ba272\" stroke-opacity=\"0.0\" stroke-width=\"0.0\" cx=\"321.53723962469985\" cy=\"123.94716394716397\" r=\"9.350000000000001\" />\n            <circle fill=\"#3ba272\" stroke=\"#3ba272\" stroke-opacity=\"0.0\" stroke-width=\"0.0\" cx=\"301.58504814440823\" cy=\"25.73426573426576\" r=\"9.350000000000001\" />\n            <circle fill=\"#ee6666\" stroke=\"#ee6666\" stroke-opacity=\"0.0\" stroke-width=\"0.0\" cx=\"335.8618899182426\" cy=\"105.29914529914532\" r=\"9.350000000000001\" />\n          </g>\n        </g>\n      </g>\n    </g>\n    <g transform=\"translate(50.03470122028142 15.2 ) \">\n      <text class=\"plot-title\" y=\"0.0\">\n      Penalty Shot Outcomes Analysis\n      </text>\n    </g>\n    <g transform=\"translate(14.5 194.0 ) rotate(-90.0 ) \">\n      <text class=\"axis-title-y\" y=\"0.0\" text-anchor=\"middle\">\n      Vertical Position (meters)\n      </text>\n    </g>\n    <g transform=\"translate(244.18487216311928 391.5 ) \">\n      <text class=\"axis-title-x\" y=\"0.0\" text-anchor=\"middle\">\n      Horizontal Position (meters)\n      </text>\n    </g>\n    <g transform=\"translate(448.33504310595714 134.75 ) \">\n      <rect x=\"5.0\" y=\"5.0\" height=\"108.5\" width=\"141.66495689404286\" stroke=\"rgb(71,71,71)\" stroke-opacity=\"1.0\" stroke-width=\"0.0\" fill=\"rgb(255,255,255)\" fill-opacity=\"1.0\">\n      </rect>\n      <g transform=\"translate(10.0 10.0 ) \">\n        <g transform=\"translate(0.0 10.5 ) \">\n          <text class=\"legend-title\" y=\"0.0\">\n          Outcome\n          </text>\n          <text class=\"legend-title\" y=\"15.0\">\n          (Green for Goals\n          </text>\n          <text class=\"legend-title\" y=\"30.0\">\n          Red for Misses)\n          </text>\n        </g>\n        <g transform=\"translate(0.0 52.5 ) \">\n          <g transform=\"\">\n            <g>\n              <rect x=\"0.0\" y=\"0.0\" height=\"23.0\" width=\"23.0\" stroke-width=\"0.0\" fill=\"rgb(255,255,255)\" fill-opacity=\"1.0\">\n              </rect>\n              <g transform=\"translate(1.0 1.0 ) \">\n                <g>\n                  \n                  <g >\n                    <circle fill=\"#3ba272\" stroke=\"#3ba272\" stroke-opacity=\"0.0\" stroke-width=\"0.0\" cx=\"10.5\" cy=\"10.5\" r=\"5.5\" />\n                  </g>\n                </g>\n              </g>\n              <rect x=\"0.0\" y=\"0.0\" height=\"23.0\" width=\"23.0\" stroke=\"rgb(255,255,255)\" stroke-opacity=\"1.0\" stroke-width=\"1.0\" fill-opacity=\"0.0\">\n              </rect>\n            </g>\n            <g transform=\"translate(26.9903027277341 16.05 ) \">\n              <text class=\"legend-item\" y=\"0.0\">\n              true\n              </text>\n            </g>\n          </g>\n          <g transform=\"translate(0.0 23.0 ) \">\n            <g>\n              <rect x=\"0.0\" y=\"0.0\" height=\"23.0\" width=\"23.0\" stroke-width=\"0.0\" fill=\"rgb(255,255,255)\" fill-opacity=\"1.0\">\n              </rect>\n              <g transform=\"translate(1.0 1.0 ) \">\n                <g>\n                  \n                  <g >\n                    <circle fill=\"#ee6666\" stroke=\"#ee6666\" stroke-opacity=\"0.0\" stroke-width=\"0.0\" cx=\"10.5\" cy=\"10.5\" r=\"5.5\" />\n                  </g>\n                </g>\n              </g>\n              <rect x=\"0.0\" y=\"0.0\" height=\"23.0\" width=\"23.0\" stroke=\"rgb(255,255,255)\" stroke-opacity=\"1.0\" stroke-width=\"1.0\" fill-opacity=\"0.0\">\n              </rect>\n            </g>\n            <g transform=\"translate(26.9903027277341 16.05 ) \">\n              <text class=\"legend-item\" y=\"0.0\">\n              false\n              </text>\n            </g>\n          </g>\n        </g>\n      </g>\n    </g>\n    <path fill=\"rgb(0,0,0)\" fill-opacity=\"0.0\" stroke=\"rgb(71,71,71)\" stroke-opacity=\"1.0\" stroke-width=\"0.0\" d=\"M0.0 0.0 L0.0 400.0 L600.0 400.0 L600.0 0.0 Z\">\n    </path>\n  </g>\n  <g id=\"d4GERQB\">\n  </g>\n</svg>\n        <script>document.getElementById(\"e01fb5f0-78c1-4622-af49-3d12bd79418c\").style.display = \"none\";</script>",
      "application/plot+json": {
       "output_type": "lets_plot_spec",
       "output": {
        "ggtitle": {
         "text": "Penalty Shot Outcomes Analysis"
        },
        "mapping": {},
        "data": {
         "xShot": [
          4.02,
          5.24,
          4.41,
          3.99,
          3.1,
          4.73,
          3.2,
          6.53,
          7.05,
          2.81,
          5.8,
          3.87,
          4.16,
          6.78,
          0.52,
          0.64,
          0.15,
          6.09,
          5.7,
          6.37
         ],
         "yShot": [
          2.39,
          1.95,
          1.13,
          1.9,
          0.29,
          1.56,
          0.35,
          2.3,
          1.27,
          1.01,
          0.65,
          1.89,
          1.11,
          1.39,
          0.05,
          1.51,
          1.49,
          1.51,
          2.3,
          1.66
         ],
         "outcome": [
          false,
          true,
          false,
          true,
          true,
          true,
          true,
          true,
          true,
          false,
          true,
          true,
          false,
          false,
          true,
          false,
          false,
          true,
          true,
          false
         ]
        },
        "kind": "plot",
        "scales": [
         {
          "aesthetic": "x",
          "name": "Horizontal Position (meters)",
          "limits": [
           null,
           null
          ]
         },
         {
          "aesthetic": "y",
          "name": "Vertical Position (meters)",
          "limits": [
           null,
           null
          ]
         },
         {
          "aesthetic": "color",
          "values": [
           "#3ba272",
           "#ee6666"
          ],
          "name": "Outcome\n(Green for Goals\nRed for Misses)",
          "limits": [
           true,
           false
          ]
         }
        ],
        "layers": [
         {
          "mapping": {
           "x": "xShot",
           "y": "yShot",
           "color": "outcome"
          },
          "stat": "identity",
          "size": 8.5,
          "sampling": "none",
          "position": "identity",
          "geom": "point"
         }
        ]
       },
       "apply_color_scheme": true,
       "swing_enabled": true
      }
     },
     "execution_count": 3,
     "metadata": {},
     "output_type": "execute_result"
    }
   ],
   "source": [
    "data.plot {\n",
    "    layout.title = \"Penalty Shot Outcomes Analysis\"\n",
    "    points {\n",
    "        x(xShot) { axis.name = \"Horizontal Position (meters)\" }\n",
    "        y(yShot) { axis.name = \"Vertical Position (meters)\" }\n",
    "        size = 8.5\n",
    "        color(outcome) {\n",
    "            scale = categorical(\n",
    "                true to Color.GREEN, false to Color.RED\n",
    "            )\n",
    "            legend.name = \"Outcome\\n(Green for Goals\\nRed for Misses)\"\n",
    "        }\n",
    "    }\n",
    "}"
   ],
   "metadata": {
    "collapsed": false,
    "ExecuteTime": {
     "end_time": "2023-11-20T23:43:31.561614Z",
     "start_time": "2023-11-20T23:43:30.886934Z"
    }
   }
  }
 ],
 "metadata": {
  "kernelspec": {
   "display_name": "Kotlin",
   "language": "kotlin",
   "name": "kotlin"
  },
  "language_info": {
   "name": "kotlin",
   "version": "1.9.0",
   "mimetype": "text/x-kotlin",
   "file_extension": ".kt",
   "pygments_lexer": "kotlin",
   "codemirror_mode": "text/x-kotlin",
   "nbconvert_exporter": ""
  }
 },
 "nbformat": 4,
 "nbformat_minor": 0
}
