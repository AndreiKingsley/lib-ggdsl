{
 "cells": [
  {
   "cell_type": "code",
   "execution_count": 1,
   "metadata": {
    "collapsed": true,
    "ExecuteTime": {
     "end_time": "2023-11-20T23:39:05.087131Z",
     "start_time": "2023-11-20T23:39:03.749844Z"
    }
   },
   "outputs": [],
   "source": [
    "%useLatestDescriptors\n",
    "%use kandy"
   ]
  },
  {
   "cell_type": "code",
   "execution_count": 2,
   "outputs": [
    {
     "data": {
      "text/html": "            <iframe src='about:blank' style='border:none !important;' width='600' height='400' srcdoc=\"&lt;html lang=&quot;en&quot;>\n   &lt;head>\n       &lt;style> html, body { margin: 0; overflow: hidden; } &lt;/style>\n       &lt;script type=&quot;text/javascript&quot; data-lets-plot-script=&quot;library&quot; src=&quot;https://cdn.jsdelivr.net/gh/JetBrains/lets-plot@v4.0.1/js-package/distr/lets-plot.min.js&quot;>&lt;/script>\n   &lt;/head>\n   &lt;body>\n          &lt;div id=&quot;56KMuZ&quot;>&lt;/div>\n   &lt;script type=&quot;text/javascript&quot; data-lets-plot-script=&quot;plot&quot;>\n       var plotSpec={\n&quot;mapping&quot;:{\n},\n&quot;data&quot;:{\n},\n&quot;kind&quot;:&quot;plot&quot;,\n&quot;scales&quot;:[{\n&quot;aesthetic&quot;:&quot;x&quot;,\n&quot;limits&quot;:[null,null]\n},{\n&quot;aesthetic&quot;:&quot;y&quot;,\n&quot;limits&quot;:[null,null]\n}],\n&quot;layers&quot;:[{\n&quot;mapping&quot;:{\n&quot;x&quot;:&quot;x&quot;,\n&quot;y&quot;:&quot;y&quot;\n},\n&quot;stat&quot;:&quot;identity&quot;,\n&quot;data&quot;:{\n&quot;x&quot;:[-6.0,-5.8,-5.6,-5.4,-5.2,-5.0,-4.8,-4.6,-4.4,-4.2,-4.0,-3.8,-3.6,-3.4,-3.2,-3.0,-2.8,-2.6,-2.4,-2.2,-2.0,-1.8,-1.6,-1.4,-1.2,-1.0,-0.8,-0.6,-0.4,-0.2,0.0,0.2,0.4,0.6,0.8,1.0,1.2,1.4,1.6,1.8,2.0,2.2,2.4,2.6,2.8,3.0,3.2,3.4,3.6,3.8,4.0,4.2,4.4,4.6,4.8,5.0,5.2,5.4,5.6,5.8,6.0],\n&quot;y&quot;:[0.27941549819892586,0.46460217941375737,0.6312666378723216,0.7727644875559871,0.8834546557201531,0.9589242746631385,0.9961646088358407,0.9936910036334644,0.9516020738895161,0.8715757724135882,0.7568024953079282,0.6118578909427189,0.44252044329485246,0.2555411020268312,0.058374143427580086,-0.1411200080598672,-0.3349881501559051,-0.5155013718214642,-0.675463180551151,-0.8084964038195901,-0.9092974268256817,-0.9738476308781951,-0.9995736030415051,-0.9854497299884601,-0.9320390859672263,-0.8414709848078965,-0.7173560908995228,-0.5646424733950354,-0.3894183423086505,-0.19866933079506122,0.0,0.19866933079506122,0.3894183423086505,0.5646424733950354,0.7173560908995228,0.8414709848078965,0.9320390859672263,0.9854497299884601,0.9995736030415051,0.9738476308781951,0.9092974268256817,0.8084964038195901,0.675463180551151,0.5155013718214642,0.3349881501559051,0.1411200080598672,-0.058374143427580086,-0.2555411020268312,-0.44252044329485246,-0.6118578909427189,-0.7568024953079282,-0.8715757724135882,-0.9516020738895161,-0.9936910036334644,-0.9961646088358407,-0.9589242746631385,-0.8834546557201531,-0.7727644875559871,-0.6312666378723216,-0.46460217941375737,-0.27941549819892586]\n},\n&quot;sampling&quot;:&quot;none&quot;,\n&quot;position&quot;:&quot;identity&quot;,\n&quot;geom&quot;:&quot;point&quot;\n}]\n};\n       var plotContainer = document.getElementById(&quot;56KMuZ&quot;);\n       LetsPlot.buildPlotFromProcessedSpecs(plotSpec, -1, -1, plotContainer);\n   &lt;/script>\n   &lt;/body>\n&lt;/html>\"></iframe>            \n        <svg id=ff9632be-c1f0-48de-b33b-4cd1980d22aa xmlns=\"http://www.w3.org/2000/svg\" xmlns:xlink=\"http://www.w3.org/1999/xlink\" class=\"plt-container\" width=\"600.0\" height=\"400.0\">\n  <style type=\"text/css\">\n  .plt-container {\n   font-family: Lucida Grande, sans-serif;\n   user-select: none;\n   -webkit-user-select: none;\n   -moz-user-select: none;\n   -ms-user-select: none;\n}\ntext {\n   text-rendering: optimizeLegibility;\n}\n#pOOGb3J .plot-title {\n   fill: #474747;\n   font-family: Lucida Grande, sans-serif;\n   font-size: 16.0px;\n   font-weight: normal;\n   font-style: normal;   \n}\n#pOOGb3J .plot-subtitle {\n   fill: #474747;\n   font-family: Lucida Grande, sans-serif;\n   font-size: 15.0px;\n   font-weight: normal;\n   font-style: normal;   \n}\n#pOOGb3J .plot-caption {\n   fill: #474747;\n   font-family: Lucida Grande, sans-serif;\n   font-size: 13.0px;\n   font-weight: normal;\n   font-style: normal;   \n}\n#pOOGb3J .legend-title {\n   fill: #474747;\n   font-family: Lucida Grande, sans-serif;\n   font-size: 15.0px;\n   font-weight: normal;\n   font-style: normal;   \n}\n#pOOGb3J .legend-item {\n   fill: #474747;\n   font-family: Lucida Grande, sans-serif;\n   font-size: 13.0px;\n   font-weight: normal;\n   font-style: normal;   \n}\n#pOOGb3J .axis-title-x {\n   fill: #474747;\n   font-family: Lucida Grande, sans-serif;\n   font-size: 15.0px;\n   font-weight: normal;\n   font-style: normal;   \n}\n#pOOGb3J .axis-text-x {\n   fill: #474747;\n   font-family: Lucida Grande, sans-serif;\n   font-size: 13.0px;\n   font-weight: normal;\n   font-style: normal;   \n}\n#dW74gyt .axis-tooltip-text-x {\n   fill: #ffffff;\n   font-family: Lucida Grande, sans-serif;\n   font-size: 13.0px;\n   font-weight: normal;\n   font-style: normal;   \n}\n#pOOGb3J .axis-title-y {\n   fill: #474747;\n   font-family: Lucida Grande, sans-serif;\n   font-size: 15.0px;\n   font-weight: normal;\n   font-style: normal;   \n}\n#pOOGb3J .axis-text-y {\n   fill: #474747;\n   font-family: Lucida Grande, sans-serif;\n   font-size: 13.0px;\n   font-weight: normal;\n   font-style: normal;   \n}\n#dW74gyt .axis-tooltip-text-y {\n   fill: #ffffff;\n   font-family: Lucida Grande, sans-serif;\n   font-size: 13.0px;\n   font-weight: normal;\n   font-style: normal;   \n}\n#pOOGb3J .facet-strip-text-x {\n   fill: #474747;\n   font-family: Lucida Grande, sans-serif;\n   font-size: 13.0px;\n   font-weight: normal;\n   font-style: normal;   \n}\n#pOOGb3J .facet-strip-text-y {\n   fill: #474747;\n   font-family: Lucida Grande, sans-serif;\n   font-size: 13.0px;\n   font-weight: normal;\n   font-style: normal;   \n}\n#dW74gyt .tooltip-text {\n   fill: #474747;\n   font-family: Lucida Grande, sans-serif;\n   font-size: 13.0px;\n   font-weight: normal;\n   font-style: normal;   \n}\n#dW74gyt .tooltip-title {\n   fill: #474747;\n   font-family: Lucida Grande, sans-serif;\n   font-size: 13.0px;\n   font-weight: bold;\n   font-style: normal;   \n}\n#dW74gyt .tooltip-label {\n   fill: #474747;\n   font-family: Lucida Grande, sans-serif;\n   font-size: 13.0px;\n   font-weight: bold;\n   font-style: normal;   \n}\n\n  </style>\n  <g id=\"pOOGb3J\">\n    <path fill-rule=\"evenodd\" fill=\"rgb(255,255,255)\" fill-opacity=\"1.0\" d=\"M0.0 0.0 L0.0 400.0 L600.0 400.0 L600.0 0.0 Z\">\n    </path>\n    <g transform=\"translate(23.0 10.0 ) \">\n      <g transform=\"translate(35.01530667574961 344.0 ) \">\n        <line x1=\"24.18112242382955\" y1=\"-0.0\" x2=\"24.18112242382955\" y2=\"-344.0\" stroke=\"rgb(233,233,233)\" stroke-opacity=\"1.0\" stroke-width=\"1.0\">\n        </line>\n        <line x1=\"104.78486383659478\" y1=\"-0.0\" x2=\"104.78486383659478\" y2=\"-344.0\" stroke=\"rgb(233,233,233)\" stroke-opacity=\"1.0\" stroke-width=\"1.0\">\n        </line>\n        <line x1=\"185.38860524936\" y1=\"-0.0\" x2=\"185.38860524936\" y2=\"-344.0\" stroke=\"rgb(233,233,233)\" stroke-opacity=\"1.0\" stroke-width=\"1.0\">\n        </line>\n        <line x1=\"265.9923466621252\" y1=\"-0.0\" x2=\"265.9923466621252\" y2=\"-344.0\" stroke=\"rgb(233,233,233)\" stroke-opacity=\"1.0\" stroke-width=\"1.0\">\n        </line>\n        <line x1=\"346.5960880748904\" y1=\"-0.0\" x2=\"346.5960880748904\" y2=\"-344.0\" stroke=\"rgb(233,233,233)\" stroke-opacity=\"1.0\" stroke-width=\"1.0\">\n        </line>\n        <line x1=\"427.1998294876556\" y1=\"-0.0\" x2=\"427.1998294876556\" y2=\"-344.0\" stroke=\"rgb(233,233,233)\" stroke-opacity=\"1.0\" stroke-width=\"1.0\">\n        </line>\n        <line x1=\"507.8035709004209\" y1=\"-0.0\" x2=\"507.8035709004209\" y2=\"-344.0\" stroke=\"rgb(233,233,233)\" stroke-opacity=\"1.0\" stroke-width=\"1.0\">\n        </line>\n        <g transform=\"translate(24.18112242382955 0.0 ) \">\n          <line stroke-width=\"1.0\" stroke=\"rgb(71,71,71)\" stroke-opacity=\"1.0\" x2=\"0.0\" y2=\"4.0\">\n          </line>\n          <g transform=\"translate(0.0 7.0 ) \">\n            <text class=\"axis-text-x\" text-anchor=\"middle\" dy=\"0.7em\">\n            -6\n            </text>\n          </g>\n        </g>\n        <g transform=\"translate(104.78486383659478 0.0 ) \">\n          <line stroke-width=\"1.0\" stroke=\"rgb(71,71,71)\" stroke-opacity=\"1.0\" x2=\"0.0\" y2=\"4.0\">\n          </line>\n          <g transform=\"translate(0.0 7.0 ) \">\n            <text class=\"axis-text-x\" text-anchor=\"middle\" dy=\"0.7em\">\n            -4\n            </text>\n          </g>\n        </g>\n        <g transform=\"translate(185.38860524936 0.0 ) \">\n          <line stroke-width=\"1.0\" stroke=\"rgb(71,71,71)\" stroke-opacity=\"1.0\" x2=\"0.0\" y2=\"4.0\">\n          </line>\n          <g transform=\"translate(0.0 7.0 ) \">\n            <text class=\"axis-text-x\" text-anchor=\"middle\" dy=\"0.7em\">\n            -2\n            </text>\n          </g>\n        </g>\n        <g transform=\"translate(265.9923466621252 0.0 ) \">\n          <line stroke-width=\"1.0\" stroke=\"rgb(71,71,71)\" stroke-opacity=\"1.0\" x2=\"0.0\" y2=\"4.0\">\n          </line>\n          <g transform=\"translate(0.0 7.0 ) \">\n            <text class=\"axis-text-x\" text-anchor=\"middle\" dy=\"0.7em\">\n            0\n            </text>\n          </g>\n        </g>\n        <g transform=\"translate(346.5960880748904 0.0 ) \">\n          <line stroke-width=\"1.0\" stroke=\"rgb(71,71,71)\" stroke-opacity=\"1.0\" x2=\"0.0\" y2=\"4.0\">\n          </line>\n          <g transform=\"translate(0.0 7.0 ) \">\n            <text class=\"axis-text-x\" text-anchor=\"middle\" dy=\"0.7em\">\n            2\n            </text>\n          </g>\n        </g>\n        <g transform=\"translate(427.1998294876556 0.0 ) \">\n          <line stroke-width=\"1.0\" stroke=\"rgb(71,71,71)\" stroke-opacity=\"1.0\" x2=\"0.0\" y2=\"4.0\">\n          </line>\n          <g transform=\"translate(0.0 7.0 ) \">\n            <text class=\"axis-text-x\" text-anchor=\"middle\" dy=\"0.7em\">\n            4\n            </text>\n          </g>\n        </g>\n        <g transform=\"translate(507.8035709004209 0.0 ) \">\n          <line stroke-width=\"1.0\" stroke=\"rgb(71,71,71)\" stroke-opacity=\"1.0\" x2=\"0.0\" y2=\"4.0\">\n          </line>\n          <g transform=\"translate(0.0 7.0 ) \">\n            <text class=\"axis-text-x\" text-anchor=\"middle\" dy=\"0.7em\">\n            6\n            </text>\n          </g>\n        </g>\n        <line x1=\"0.0\" y1=\"0.0\" x2=\"531.9846933242504\" y2=\"0.0\" stroke-width=\"1.0\" stroke=\"rgb(71,71,71)\" stroke-opacity=\"1.0\">\n        </line>\n      </g>\n      <g transform=\"translate(35.01530667574961 0.0 ) \">\n        <line x1=\"0.0\" y1=\"328.4303377838837\" x2=\"531.9846933242504\" y2=\"328.4303377838837\" stroke=\"rgb(233,233,233)\" stroke-opacity=\"1.0\" stroke-width=\"1.0\">\n        </line>\n        <line x1=\"0.0\" y1=\"250.21516889194186\" x2=\"531.9846933242504\" y2=\"250.21516889194186\" stroke=\"rgb(233,233,233)\" stroke-opacity=\"1.0\" stroke-width=\"1.0\">\n        </line>\n        <line x1=\"0.0\" y1=\"172.0\" x2=\"531.9846933242504\" y2=\"172.0\" stroke=\"rgb(233,233,233)\" stroke-opacity=\"1.0\" stroke-width=\"1.0\">\n        </line>\n        <line x1=\"0.0\" y1=\"93.78483110805813\" x2=\"531.9846933242504\" y2=\"93.78483110805813\" stroke=\"rgb(233,233,233)\" stroke-opacity=\"1.0\" stroke-width=\"1.0\">\n        </line>\n        <line x1=\"0.0\" y1=\"15.569662216116257\" x2=\"531.9846933242504\" y2=\"15.569662216116257\" stroke=\"rgb(233,233,233)\" stroke-opacity=\"1.0\" stroke-width=\"1.0\">\n        </line>\n        <g transform=\"translate(0.0 328.4303377838837 ) \">\n          <g transform=\"translate(-3.0 0.0 ) \">\n            <text class=\"axis-text-y\" text-anchor=\"end\" dy=\"0.35em\">\n            -1.0\n            </text>\n          </g>\n        </g>\n        <g transform=\"translate(0.0 250.21516889194186 ) \">\n          <g transform=\"translate(-3.0 0.0 ) \">\n            <text class=\"axis-text-y\" text-anchor=\"end\" dy=\"0.35em\">\n            -0.5\n            </text>\n          </g>\n        </g>\n        <g transform=\"translate(0.0 172.0 ) \">\n          <g transform=\"translate(-3.0 0.0 ) \">\n            <text class=\"axis-text-y\" text-anchor=\"end\" dy=\"0.35em\">\n            0.0\n            </text>\n          </g>\n        </g>\n        <g transform=\"translate(0.0 93.78483110805813 ) \">\n          <g transform=\"translate(-3.0 0.0 ) \">\n            <text class=\"axis-text-y\" text-anchor=\"end\" dy=\"0.35em\">\n            0.5\n            </text>\n          </g>\n        </g>\n        <g transform=\"translate(0.0 15.569662216116257 ) \">\n          <g transform=\"translate(-3.0 0.0 ) \">\n            <text class=\"axis-text-y\" text-anchor=\"end\" dy=\"0.35em\">\n            1.0\n            </text>\n          </g>\n        </g>\n      </g>\n      <g transform=\"translate(35.01530667574961 0.0 ) \" clip-path=\"url(#c9VJ6bi)\" clip-bounds-jfx=\"[rect (0.0, 0.0), (531.9846933242504, 344.0)]\">\n        <defs>\n          <clipPath id=\"c9VJ6bi\">\n            <rect x=\"0.0\" y=\"0.0\" width=\"531.9846933242504\" height=\"344.0\">\n            </rect>\n          </clipPath>\n        </defs>\n        <g>\n          \n          <g >\n            <circle fill=\"#474747\" stroke=\"#474747\" stroke-opacity=\"0.0\" stroke-width=\"0.0\" cx=\"24.18112242382955\" cy=\"128.29093923468986\" r=\"3.3000000000000003\" />\n            <circle fill=\"#474747\" stroke=\"#474747\" stroke-opacity=\"0.0\" stroke-width=\"0.0\" cx=\"32.241496565106104\" cy=\"99.32212413917738\" r=\"3.3000000000000003\" />\n            <circle fill=\"#474747\" stroke=\"#474747\" stroke-opacity=\"0.0\" stroke-width=\"0.0\" cx=\"40.30187070638263\" cy=\"73.25074660593611\" r=\"3.3000000000000003\" />\n            <circle fill=\"#474747\" stroke=\"#474747\" stroke-opacity=\"0.0\" stroke-width=\"0.0\" cx=\"48.36224484765913\" cy=\"51.11619018422711\" r=\"3.3000000000000003\" />\n            <circle fill=\"#474747\" stroke=\"#474747\" stroke-opacity=\"0.0\" stroke-width=\"0.0\" cx=\"56.42261898893565\" cy=\"33.800889788951736\" r=\"3.3000000000000003\" />\n            <circle fill=\"#474747\" stroke=\"#474747\" stroke-opacity=\"0.0\" stroke-width=\"0.0\" cx=\"64.48299313021218\" cy=\"21.995151805279534\" r=\"3.3000000000000003\" />\n            <circle fill=\"#474747\" stroke=\"#474747\" stroke-opacity=\"0.0\" stroke-width=\"0.0\" cx=\"72.5433672714887\" cy=\"16.16963375145903\" r=\"3.3000000000000003\" />\n            <circle fill=\"#474747\" stroke=\"#474747\" stroke-opacity=\"0.0\" stroke-width=\"0.0\" cx=\"80.60374141276523\" cy=\"16.556580648810723\" r=\"3.3000000000000003\" />\n            <circle fill=\"#474747\" stroke=\"#474747\" stroke-opacity=\"0.0\" stroke-width=\"0.0\" cx=\"88.66411555404173\" cy=\"23.140566145618692\" r=\"3.3000000000000003\" />\n            <circle fill=\"#474747\" stroke=\"#474747\" stroke-opacity=\"0.0\" stroke-width=\"0.0\" cx=\"96.72448969531825\" cy=\"35.65910751709302\" r=\"3.3000000000000003\" />\n            <circle fill=\"#474747\" stroke=\"#474747\" stroke-opacity=\"0.0\" stroke-width=\"0.0\" cx=\"104.78486383659478\" cy=\"53.6131300232947\" r=\"3.3000000000000003\" />\n            <circle fill=\"#474747\" stroke=\"#474747\" stroke-opacity=\"0.0\" stroke-width=\"0.0\" cx=\"112.8452379778713\" cy=\"76.28686344409577\" r=\"3.3000000000000003\" />\n            <circle fill=\"#474747\" stroke=\"#474747\" stroke-opacity=\"0.0\" stroke-width=\"0.0\" cx=\"120.90561211914783\" cy=\"102.77637757911226\" r=\"3.3000000000000003\" />\n            <circle fill=\"#474747\" stroke=\"#474747\" stroke-opacity=\"0.0\" stroke-width=\"0.0\" cx=\"128.96598626042436\" cy=\"132.02561909227688\" r=\"3.3000000000000003\" />\n            <circle fill=\"#474747\" stroke=\"#474747\" stroke-opacity=\"0.0\" stroke-width=\"0.0\" cx=\"137.02636040170086\" cy=\"162.86851302577878\" r=\"3.3000000000000003\" />\n            <circle fill=\"#474747\" stroke=\"#474747\" stroke-opacity=\"0.0\" stroke-width=\"0.0\" cx=\"145.08673454297738\" cy=\"194.07545052886942\" r=\"3.3000000000000003\" />\n            <circle fill=\"#474747\" stroke=\"#474747\" stroke-opacity=\"0.0\" stroke-width=\"0.0\" cx=\"153.1471086842539\" cy=\"224.4023094824866\" r=\"3.3000000000000003\" />\n            <circle fill=\"#474747\" stroke=\"#474747\" stroke-opacity=\"0.0\" stroke-width=\"0.0\" cx=\"161.20748282553043\" cy=\"252.6400537220871\" r=\"3.3000000000000003\" />\n            <circle fill=\"#474747\" stroke=\"#474747\" stroke-opacity=\"0.0\" stroke-width=\"0.0\" cx=\"169.26785696680696\" cy=\"277.662933494193\" r=\"3.3000000000000003\" />\n            <circle fill=\"#474747\" stroke=\"#474747\" stroke-opacity=\"0.0\" stroke-width=\"0.0\" cx=\"177.32823110808346\" cy=\"298.47336554655374\" r=\"3.3000000000000003\" />\n            <circle fill=\"#474747\" stroke=\"#474747\" stroke-opacity=\"0.0\" stroke-width=\"0.0\" cx=\"185.38860524936\" cy=\"314.2417036243577\" r=\"3.3000000000000003\" />\n            <circle fill=\"#474747\" stroke=\"#474747\" stroke-opacity=\"0.0\" stroke-width=\"0.0\" cx=\"193.4489793906365\" cy=\"324.339313848311\" r=\"3.3000000000000003\" />\n            <circle fill=\"#474747\" stroke=\"#474747\" stroke-opacity=\"0.0\" stroke-width=\"0.0\" cx=\"201.50935353191304\" cy=\"328.3636363636364\" r=\"3.3000000000000003\" />\n            <circle fill=\"#474747\" stroke=\"#474747\" stroke-opacity=\"0.0\" stroke-width=\"0.0\" cx=\"209.56972767318956\" cy=\"326.15423413113183\" r=\"3.3000000000000003\" />\n            <circle fill=\"#474747\" stroke=\"#474747\" stroke-opacity=\"0.0\" stroke-width=\"0.0\" cx=\"217.6301018144661\" cy=\"317.79918904563544\" r=\"3.3000000000000003\" />\n            <circle fill=\"#474747\" stroke=\"#474747\" stroke-opacity=\"0.0\" stroke-width=\"0.0\" cx=\"225.6904759557426\" cy=\"303.63159038883657\" r=\"3.3000000000000003\" />\n            <circle fill=\"#474747\" stroke=\"#474747\" stroke-opacity=\"0.0\" stroke-width=\"0.0\" cx=\"233.7508500970191\" cy=\"284.21625561073876\" r=\"3.3000000000000003\" />\n            <circle fill=\"#474747\" stroke=\"#474747\" stroke-opacity=\"0.0\" stroke-width=\"0.0\" cx=\"241.81122423829567\" cy=\"260.327212840313\" r=\"3.3000000000000003\" />\n            <circle fill=\"#474747\" stroke=\"#474747\" stroke-opacity=\"0.0\" stroke-width=\"0.0\" cx=\"249.87159837957216\" cy=\"232.91684282658227\" r=\"3.3000000000000003\" />\n            <circle fill=\"#474747\" stroke=\"#474747\" stroke-opacity=\"0.0\" stroke-width=\"0.0\" cx=\"257.9319725208487\" cy=\"203.07791052356956\" r=\"3.3000000000000003\" />\n            <circle fill=\"#474747\" stroke=\"#474747\" stroke-opacity=\"0.0\" stroke-width=\"0.0\" cx=\"265.9923466621252\" cy=\"172.0\" r=\"3.3000000000000003\" />\n            <circle fill=\"#474747\" stroke=\"#474747\" stroke-opacity=\"0.0\" stroke-width=\"0.0\" cx=\"274.0527208034017\" cy=\"140.92208947643044\" r=\"3.3000000000000003\" />\n            <circle fill=\"#474747\" stroke=\"#474747\" stroke-opacity=\"0.0\" stroke-width=\"0.0\" cx=\"282.11309494467827\" cy=\"111.08315717341773\" r=\"3.3000000000000003\" />\n            <circle fill=\"#474747\" stroke=\"#474747\" stroke-opacity=\"0.0\" stroke-width=\"0.0\" cx=\"290.17346908595476\" cy=\"83.67278715968703\" r=\"3.3000000000000003\" />\n            <circle fill=\"#474747\" stroke=\"#474747\" stroke-opacity=\"0.0\" stroke-width=\"0.0\" cx=\"298.2338432272313\" cy=\"59.783744389261244\" r=\"3.3000000000000003\" />\n            <circle fill=\"#474747\" stroke=\"#474747\" stroke-opacity=\"0.0\" stroke-width=\"0.0\" cx=\"306.2942173685078\" cy=\"40.36840961116346\" r=\"3.3000000000000003\" />\n            <circle fill=\"#474747\" stroke=\"#474747\" stroke-opacity=\"0.0\" stroke-width=\"0.0\" cx=\"314.3545915097843\" cy=\"26.200810954364528\" r=\"3.3000000000000003\" />\n            <circle fill=\"#474747\" stroke=\"#474747\" stroke-opacity=\"0.0\" stroke-width=\"0.0\" cx=\"322.41496565106087\" cy=\"17.845765868868142\" r=\"3.3000000000000003\" />\n            <circle fill=\"#474747\" stroke=\"#474747\" stroke-opacity=\"0.0\" stroke-width=\"0.0\" cx=\"330.4753397923374\" cy=\"15.636363636363626\" r=\"3.3000000000000003\" />\n            <circle fill=\"#474747\" stroke=\"#474747\" stroke-opacity=\"0.0\" stroke-width=\"0.0\" cx=\"338.5357139336139\" cy=\"19.660686151688992\" r=\"3.3000000000000003\" />\n            <circle fill=\"#474747\" stroke=\"#474747\" stroke-opacity=\"0.0\" stroke-width=\"0.0\" cx=\"346.5960880748904\" cy=\"29.75829637564229\" r=\"3.3000000000000003\" />\n            <circle fill=\"#474747\" stroke=\"#474747\" stroke-opacity=\"0.0\" stroke-width=\"0.0\" cx=\"354.656462216167\" cy=\"45.52663445344625\" r=\"3.3000000000000003\" />\n            <circle fill=\"#474747\" stroke=\"#474747\" stroke-opacity=\"0.0\" stroke-width=\"0.0\" cx=\"362.71683635744347\" cy=\"66.337066505807\" r=\"3.3000000000000003\" />\n            <circle fill=\"#474747\" stroke=\"#474747\" stroke-opacity=\"0.0\" stroke-width=\"0.0\" cx=\"370.77721049872\" cy=\"91.35994627791291\" r=\"3.3000000000000003\" />\n            <circle fill=\"#474747\" stroke=\"#474747\" stroke-opacity=\"0.0\" stroke-width=\"0.0\" cx=\"378.8375846399965\" cy=\"119.5976905175134\" r=\"3.3000000000000003\" />\n            <circle fill=\"#474747\" stroke=\"#474747\" stroke-opacity=\"0.0\" stroke-width=\"0.0\" cx=\"386.897958781273\" cy=\"149.92454947113058\" r=\"3.3000000000000003\" />\n            <circle fill=\"#474747\" stroke=\"#474747\" stroke-opacity=\"0.0\" stroke-width=\"0.0\" cx=\"394.9583329225496\" cy=\"181.13148697422122\" r=\"3.3000000000000003\" />\n            <circle fill=\"#474747\" stroke=\"#474747\" stroke-opacity=\"0.0\" stroke-width=\"0.0\" cx=\"403.01870706382607\" cy=\"211.97438090772312\" r=\"3.3000000000000003\" />\n            <circle fill=\"#474747\" stroke=\"#474747\" stroke-opacity=\"0.0\" stroke-width=\"0.0\" cx=\"411.0790812051026\" cy=\"241.22362242088775\" r=\"3.3000000000000003\" />\n            <circle fill=\"#474747\" stroke=\"#474747\" stroke-opacity=\"0.0\" stroke-width=\"0.0\" cx=\"419.1394553463791\" cy=\"267.7131365559042\" r=\"3.3000000000000003\" />\n            <circle fill=\"#474747\" stroke=\"#474747\" stroke-opacity=\"0.0\" stroke-width=\"0.0\" cx=\"427.1998294876556\" cy=\"290.38686997670527\" r=\"3.3000000000000003\" />\n            <circle fill=\"#474747\" stroke=\"#474747\" stroke-opacity=\"0.0\" stroke-width=\"0.0\" cx=\"435.2602036289322\" cy=\"308.34089248290695\" r=\"3.3000000000000003\" />\n            <circle fill=\"#474747\" stroke=\"#474747\" stroke-opacity=\"0.0\" stroke-width=\"0.0\" cx=\"443.32057777020873\" cy=\"320.85943385438134\" r=\"3.3000000000000003\" />\n            <circle fill=\"#474747\" stroke=\"#474747\" stroke-opacity=\"0.0\" stroke-width=\"0.0\" cx=\"451.3809519114852\" cy=\"327.4434193511893\" r=\"3.3000000000000003\" />\n            <circle fill=\"#474747\" stroke=\"#474747\" stroke-opacity=\"0.0\" stroke-width=\"0.0\" cx=\"459.4413260527617\" cy=\"327.83036624854094\" r=\"3.3000000000000003\" />\n            <circle fill=\"#474747\" stroke=\"#474747\" stroke-opacity=\"0.0\" stroke-width=\"0.0\" cx=\"467.5017001940382\" cy=\"322.00484819472047\" r=\"3.3000000000000003\" />\n            <circle fill=\"#474747\" stroke=\"#474747\" stroke-opacity=\"0.0\" stroke-width=\"0.0\" cx=\"475.5620743353148\" cy=\"310.19911021104826\" r=\"3.3000000000000003\" />\n            <circle fill=\"#474747\" stroke=\"#474747\" stroke-opacity=\"0.0\" stroke-width=\"0.0\" cx=\"483.62244847659133\" cy=\"292.8838098157729\" r=\"3.3000000000000003\" />\n            <circle fill=\"#474747\" stroke=\"#474747\" stroke-opacity=\"0.0\" stroke-width=\"0.0\" cx=\"491.6828226178678\" cy=\"270.7492533940639\" r=\"3.3000000000000003\" />\n            <circle fill=\"#474747\" stroke=\"#474747\" stroke-opacity=\"0.0\" stroke-width=\"0.0\" cx=\"499.7431967591443\" cy=\"244.6778758608226\" r=\"3.3000000000000003\" />\n            <circle fill=\"#474747\" stroke=\"#474747\" stroke-opacity=\"0.0\" stroke-width=\"0.0\" cx=\"507.8035709004209\" cy=\"215.70906076531014\" r=\"3.3000000000000003\" />\n          </g>\n        </g>\n      </g>\n    </g>\n    <g transform=\"translate(14.5 182.0 ) rotate(-90.0 ) \">\n      <text class=\"axis-title-y\" y=\"0.0\" text-anchor=\"middle\">\n      y\n      </text>\n    </g>\n    <g transform=\"translate(324.00765333787484 391.5 ) \">\n      <text class=\"axis-title-x\" y=\"0.0\" text-anchor=\"middle\">\n      x\n      </text>\n    </g>\n    <path fill=\"rgb(0,0,0)\" fill-opacity=\"0.0\" stroke=\"rgb(71,71,71)\" stroke-opacity=\"1.0\" stroke-width=\"0.0\" d=\"M0.0 0.0 L0.0 400.0 L600.0 400.0 L600.0 0.0 Z\">\n    </path>\n  </g>\n  <g id=\"dW74gyt\">\n  </g>\n</svg>\n        <script>document.getElementById(\"ff9632be-c1f0-48de-b33b-4cd1980d22aa\").style.display = \"none\";</script>",
      "application/plot+json": {
       "output_type": "lets_plot_spec",
       "output": {
        "mapping": {},
        "data": {},
        "kind": "plot",
        "scales": [
         {
          "aesthetic": "x",
          "limits": [
           null,
           null
          ]
         },
         {
          "aesthetic": "y",
          "limits": [
           null,
           null
          ]
         }
        ],
        "layers": [
         {
          "mapping": {
           "x": "x",
           "y": "y"
          },
          "stat": "identity",
          "data": {
           "x": [
            -6.0,
            -5.8,
            -5.6,
            -5.4,
            -5.2,
            -5.0,
            -4.8,
            -4.6,
            -4.4,
            -4.2,
            -4.0,
            -3.8,
            -3.6,
            -3.4,
            -3.2,
            -3.0,
            -2.8,
            -2.6,
            -2.4,
            -2.2,
            -2.0,
            -1.8,
            -1.6,
            -1.4,
            -1.2,
            -1.0,
            -0.8,
            -0.6,
            -0.4,
            -0.2,
            0.0,
            0.2,
            0.4,
            0.6,
            0.8,
            1.0,
            1.2,
            1.4,
            1.6,
            1.8,
            2.0,
            2.2,
            2.4,
            2.6,
            2.8,
            3.0,
            3.2,
            3.4,
            3.6,
            3.8,
            4.0,
            4.2,
            4.4,
            4.6,
            4.8,
            5.0,
            5.2,
            5.4,
            5.6,
            5.8,
            6.0
           ],
           "y": [
            0.2794155,
            0.46460217,
            0.63126665,
            0.7727645,
            0.8834547,
            0.9589243,
            0.9961646,
            0.993691,
            0.9516021,
            0.8715758,
            0.7568025,
            0.6118579,
            0.44252044,
            0.25554112,
            0.058374144,
            -0.14112,
            -0.33498815,
            -0.5155014,
            -0.6754632,
            -0.8084964,
            -0.9092974,
            -0.9738476,
            -0.9995736,
            -0.98544973,
            -0.9320391,
            -0.84147096,
            -0.7173561,
            -0.5646425,
            -0.38941833,
            -0.19866933,
            0.0,
            0.19866933,
            0.38941833,
            0.5646425,
            0.7173561,
            0.84147096,
            0.9320391,
            0.98544973,
            0.9995736,
            0.9738476,
            0.9092974,
            0.8084964,
            0.6754632,
            0.5155014,
            0.33498815,
            0.14112,
            -0.058374144,
            -0.25554112,
            -0.44252044,
            -0.6118579,
            -0.7568025,
            -0.8715758,
            -0.9516021,
            -0.993691,
            -0.9961646,
            -0.9589243,
            -0.8834547,
            -0.7727645,
            -0.63126665,
            -0.46460217,
            -0.2794155
           ]
          },
          "sampling": "none",
          "position": "identity",
          "geom": "point"
         }
        ]
       },
       "apply_color_scheme": true,
       "swing_enabled": true
      }
     },
     "execution_count": 2,
     "metadata": {},
     "output_type": "execute_result"
    }
   ],
   "source": [
    "val xs = (-30..30).map { it.toDouble() / 5.0 }\n",
    "val function = { x: Double -> sin(x) }\n",
    "val ys = xs.map(function)\n",
    "\n",
    "plot {\n",
    "    points {\n",
    "        x(xs)\n",
    "        y(ys)\n",
    "    }\n",
    "}"
   ],
   "metadata": {
    "collapsed": false,
    "ExecuteTime": {
     "end_time": "2023-11-20T23:39:08.375626Z",
     "start_time": "2023-11-20T23:39:07.660407Z"
    }
   }
  }
 ],
 "metadata": {
  "kernelspec": {
   "display_name": "Kotlin",
   "language": "kotlin",
   "name": "kotlin"
  },
  "language_info": {
   "name": "kotlin",
   "version": "1.9.0",
   "mimetype": "text/x-kotlin",
   "file_extension": ".kt",
   "pygments_lexer": "kotlin",
   "codemirror_mode": "text/x-kotlin",
   "nbconvert_exporter": ""
  }
 },
 "nbformat": 4,
 "nbformat_minor": 0
}
