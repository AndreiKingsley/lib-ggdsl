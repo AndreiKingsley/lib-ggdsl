{
 "cells": [
  {
   "cell_type": "code",
   "execution_count": 1,
   "metadata": {
    "collapsed": true,
    "ExecuteTime": {
     "end_time": "2023-11-21T12:24:43.433426Z",
     "start_time": "2023-11-21T12:24:34.384019Z"
    }
   },
   "outputs": [],
   "source": [
    "%useLatestDescriptors\n",
    "%use dataframe\n",
    "%use kandy"
   ]
  },
  {
   "cell_type": "code",
   "execution_count": 2,
   "outputs": [
    {
     "data": {
      "text/html": "            <iframe onload=\"o_resize_iframe_out_1()\" style=\"width:100%;\" class=\"result_container\" id=\"iframe_out_1\" frameBorder=\"0\" srcdoc=\"        &lt;html theme='dark'&gt;\n        &lt;head&gt;\n            &lt;style type=&quot;text&sol;css&quot;&gt;\n                :root {\n    --background: #fff;\n    --background-odd: #f5f5f5;\n    --background-hover: #d9edfd;\n    --header-text-color: #474747;\n    --text-color: #848484;\n    --text-color-dark: #000;\n    --text-color-medium: #737373;\n    --text-color-pale: #b3b3b3;\n    --inner-border-color: #aaa;\n    --bold-border-color: #000;\n    --link-color: #296eaa;\n    --link-color-pale: #296eaa;\n    --link-hover: #1a466c;\n}\n\n:root[theme=&quot;dark&quot;], :root [data-jp-theme-light=&quot;false&quot;], .dataframe_dark{\n    --background: #303030;\n    --background-odd: #3c3c3c;\n    --background-hover: #464646;\n    --header-text-color: #dddddd;\n    --text-color: #b3b3b3;\n    --text-color-dark: #dddddd;\n    --text-color-medium: #b2b2b2;\n    --text-color-pale: #737373;\n    --inner-border-color: #707070;\n    --bold-border-color: #777777;\n    --link-color: #008dc0;\n    --link-color-pale: #97e1fb;\n    --link-hover: #00688e;\n}\n\np.dataframe_description {\n    color: var(--text-color-dark);\n}\n\ntable.dataframe {\n    font-family: &quot;Helvetica Neue&quot;, Helvetica, Arial, sans-serif;\n    font-size: 12px;\n    background-color: var(--background);\n    color: var(--text-color-dark);\n    border: none;\n    border-collapse: collapse;\n}\n\ntable.dataframe th, td {\n    padding: 6px;\n    border: 1px solid transparent;\n    text-align: left;\n}\n\ntable.dataframe th {\n    background-color: var(--background);\n    color: var(--header-text-color);\n}\n\ntable.dataframe td {\n    vertical-align: top;\n}\n\ntable.dataframe th.bottomBorder {\n    border-bottom-color: var(--bold-border-color);\n}\n\ntable.dataframe tbody &gt; tr:nth-child(odd) {\n    background: var(--background-odd);\n}\n\ntable.dataframe tbody &gt; tr:nth-child(even) {\n    background: var(--background);\n}\n\ntable.dataframe tbody &gt; tr:hover {\n    background: var(--background-hover);\n}\n\ntable.dataframe a {\n    cursor: pointer;\n    color: var(--link-color);\n    text-decoration: none;\n}\n\ntable.dataframe tr:hover &gt; td a {\n    color: var(--link-color-pale);\n}\n\ntable.dataframe a:hover {\n    color: var(--link-hover);\n    text-decoration: underline;\n}\n\ntable.dataframe img {\n    max-width: fit-content;\n}\n\ntable.dataframe th.complex {\n    background-color: var(--background);\n    border: 1px solid var(--background);\n}\n\ntable.dataframe .leftBorder {\n    border-left-color: var(--inner-border-color);\n}\n\ntable.dataframe .rightBorder {\n    border-right-color: var(--inner-border-color);\n}\n\ntable.dataframe .rightAlign {\n    text-align: right;\n}\n\ntable.dataframe .expanderSvg {\n    width: 8px;\n    height: 8px;\n    margin-right: 3px;\n}\n\ntable.dataframe .expander {\n    display: flex;\n    align-items: center;\n}\n\n&sol;* formatting *&sol;\n\ntable.dataframe .null {\n    color: var(--text-color-pale);\n}\n\ntable.dataframe .structural {\n    color: var(--text-color-medium);\n    font-weight: bold;\n}\n\ntable.dataframe .dataFrameCaption {\n    font-weight: bold;\n}\n\ntable.dataframe .numbers {\n    color: var(--text-color-dark);\n}\n\ntable.dataframe td:hover .formatted .structural, .null {\n    color: var(--text-color-dark);\n}\n\ntable.dataframe tr:hover .formatted .structural, .null {\n    color: var(--text-color-dark);\n}\n\n\n\n\n:root {\n    --scroll-bg: #f5f5f5;\n    --scroll-fg: #b3b3b3;\n}\n:root[theme=&quot;dark&quot;], :root [data-jp-theme-light=&quot;false&quot;]{\n    --scroll-bg: #3c3c3c;\n    --scroll-fg: #97e1fb;\n}\nbody {\n    scrollbar-color: var(--scroll-fg) var(--scroll-bg);\n}\nbody::-webkit-scrollbar {\n    width: 10px; &sol;* Mostly for vertical scrollbars *&sol;\n    height: 10px; &sol;* Mostly for horizontal scrollbars *&sol;\n}\nbody::-webkit-scrollbar-thumb {\n    background-color: var(--scroll-fg);\n}\nbody::-webkit-scrollbar-track {\n    background-color: var(--scroll-bg);\n}\n            &lt;&sol;style&gt;\n        &lt;&sol;head&gt;\n        &lt;body&gt;\n            \n&lt;table class=&quot;dataframe&quot; id=&quot;df_-2130706432&quot;&gt;&lt;&sol;table&gt;\n\n&lt;p class=&quot;dataframe_description&quot;&gt;... showing only top 20 of 350 rows&lt;&sol;p&gt;&lt;p class=&quot;dataframe_description&quot;&gt;DataFrame: rowsCount = 350, columnsCount = 2&lt;&sol;p&gt;\n\n        &lt;&sol;body&gt;\n        &lt;script&gt;\n            (function () {\n    window.DataFrame = window.DataFrame || new (function () {\n        this.addTable = function (df) {\n            let cols = df.cols;\n            for (let i = 0; i &lt; cols.length; i++) {\n                for (let c of cols[i].children) {\n                    cols[c].parent = i;\n                }\n            }\n            df.nrow = 0\n            for (let i = 0; i &lt; df.cols.length; i++) {\n                if (df.cols[i].values.length &gt; df.nrow) df.nrow = df.cols[i].values.length\n            }\n            if (df.id === df.rootId) {\n                df.expandedFrames = new Set()\n                df.childFrames = {}\n                const table = this.getTableElement(df.id)\n                table.df = df\n                for (let i = 0; i &lt; df.cols.length; i++) {\n                    let col = df.cols[i]\n                    if (col.parent === undefined &amp;&amp; col.children.length &gt; 0) col.expanded = true\n                }\n            } else {\n                const rootDf = this.getTableData(df.rootId)\n                rootDf.childFrames[df.id] = df\n            }\n        }\n\n        this.computeRenderData = function (df) {\n            let result = []\n            let pos = 0\n            for (let col = 0; col &lt; df.cols.length; col++) {\n                if (df.cols[col].parent === undefined)\n                    pos += this.computeRenderDataRec(df.cols, col, pos, 0, result, false, false)\n            }\n            for (let i = 0; i &lt; result.length; i++) {\n                let row = result[i]\n                for (let j = 0; j &lt; row.length; j++) {\n                    let cell = row[j]\n                    if (j === 0)\n                        cell.leftBd = false\n                    if (j &lt; row.length - 1) {\n                        let nextData = row[j + 1]\n                        if (nextData.leftBd) cell.rightBd = true\n                        else if (cell.rightBd) nextData.leftBd = true\n                    } else cell.rightBd = false\n                }\n            }\n            return result\n        }\n\n        this.computeRenderDataRec = function (cols, colId, pos, depth, result, leftBorder, rightBorder) {\n            if (result.length === depth) {\n                const array = [];\n                if (pos &gt; 0) {\n                    let j = 0\n                    for (let i = 0; j &lt; pos; i++) {\n                        let c = result[depth - 1][i]\n                        j += c.span\n                        let copy = Object.assign({empty: true}, c)\n                        array.push(copy)\n                    }\n                }\n                result.push(array)\n            }\n            const col = cols[colId];\n            let size = 0;\n            if (col.expanded) {\n                let childPos = pos\n                for (let i = 0; i &lt; col.children.length; i++) {\n                    let child = col.children[i]\n                    let childLeft = i === 0 &amp;&amp; (col.children.length &gt; 1 || leftBorder)\n                    let childRight = i === col.children.length - 1 &amp;&amp; (col.children.length &gt; 1 || rightBorder)\n                    let childSize = this.computeRenderDataRec(cols, child, childPos, depth + 1, result, childLeft, childRight)\n                    childPos += childSize\n                    size += childSize\n                }\n            } else {\n                for (let i = depth + 1; i &lt; result.length; i++)\n                    result[i].push({id: colId, span: 1, leftBd: leftBorder, rightBd: rightBorder, empty: true})\n                size = 1\n            }\n            let left = leftBorder\n            let right = rightBorder\n            if (size &gt; 1) {\n                left = true\n                right = true\n            }\n            result[depth].push({id: colId, span: size, leftBd: left, rightBd: right})\n            return size\n        }\n\n        this.getTableElement = function (id) {\n            return document.getElementById(&quot;df_&quot; + id)\n        }\n\n        this.getTableData = function (id) {\n            return this.getTableElement(id).df\n        }\n\n        this.createExpander = function (isExpanded) {\n            const svgNs = &quot;http:&sol;&sol;www.w3.org&sol;2000&sol;svg&quot;\n            let svg = document.createElementNS(svgNs, &quot;svg&quot;)\n            svg.classList.add(&quot;expanderSvg&quot;)\n            let path = document.createElementNS(svgNs, &quot;path&quot;)\n            if (isExpanded) {\n                svg.setAttribute(&quot;viewBox&quot;, &quot;0 -2 8 8&quot;)\n                path.setAttribute(&quot;d&quot;, &quot;M1 0 l-1 1 4 4 4 -4 -1 -1 -3 3Z&quot;)\n            } else {\n                svg.setAttribute(&quot;viewBox&quot;, &quot;-2 0 8 8&quot;)\n                path.setAttribute(&quot;d&quot;, &quot;M1 0 l-1 1 3 3 -3 3 1 1 4 -4Z&quot;)\n            }\n            path.setAttribute(&quot;fill&quot;, &quot;currentColor&quot;)\n            svg.appendChild(path)\n            return svg\n        }\n\n        this.renderTable = function (id) {\n\n            let table = this.getTableElement(id)\n\n            if (table === null) return\n\n            table.innerHTML = &quot;&quot;\n\n            let df = table.df\n            let rootDf = df.rootId === df.id ? df : this.getTableData(df.rootId)\n\n            &sol;&sol; header\n            let header = document.createElement(&quot;thead&quot;)\n            table.appendChild(header)\n\n            let renderData = this.computeRenderData(df)\n            for (let j = 0; j &lt; renderData.length; j++) {\n                let rowData = renderData[j]\n                let tr = document.createElement(&quot;tr&quot;);\n                let isLastRow = j === renderData.length - 1\n                header.appendChild(tr);\n                for (let i = 0; i &lt; rowData.length; i++) {\n                    let cell = rowData[i]\n                    let th = document.createElement(&quot;th&quot;);\n                    th.setAttribute(&quot;colspan&quot;, cell.span)\n                    let colId = cell.id\n                    let col = df.cols[colId];\n                    if (!cell.empty) {\n                        if (col.children.length === 0) {\n                            th.innerHTML = col.name\n                        } else {\n                            let link = document.createElement(&quot;a&quot;)\n                            link.className = &quot;expander&quot;\n                            let that = this\n                            link.onclick = function () {\n                                col.expanded = !col.expanded\n                                that.renderTable(id)\n                            }\n                            link.appendChild(this.createExpander(col.expanded))\n                            link.innerHTML += col.name\n                            th.appendChild(link)\n                        }\n                    }\n                    let classes = (cell.leftBd ? &quot; leftBorder&quot; : &quot;&quot;) + (cell.rightBd ? &quot; rightBorder&quot; : &quot;&quot;)\n                    if (col.rightAlign)\n                        classes += &quot; rightAlign&quot;\n                    if (isLastRow)\n                        classes += &quot; bottomBorder&quot;\n                    if (classes.length &gt; 0)\n                        th.setAttribute(&quot;class&quot;, classes)\n                    tr.appendChild(th)\n                }\n            }\n\n            &sol;&sol; body\n            let body = document.createElement(&quot;tbody&quot;)\n            table.appendChild(body)\n\n            let columns = renderData.pop()\n            for (let row = 0; row &lt; df.nrow; row++) {\n                let tr = document.createElement(&quot;tr&quot;);\n                body.appendChild(tr)\n                for (let i = 0; i &lt; columns.length; i++) {\n                    let cell = columns[i]\n                    let td = document.createElement(&quot;td&quot;);\n                    let colId = cell.id\n                    let col = df.cols[colId]\n                    let classes = (cell.leftBd ? &quot; leftBorder&quot; : &quot;&quot;) + (cell.rightBd ? &quot; rightBorder&quot; : &quot;&quot;)\n                    if (col.rightAlign)\n                        classes += &quot; rightAlign&quot;\n                    if (classes.length &gt; 0)\n                        td.setAttribute(&quot;class&quot;, classes)\n                    tr.appendChild(td)\n                    let value = col.values[row]\n                    if (value.frameId !== undefined) {\n                        let frameId = value.frameId\n                        let expanded = rootDf.expandedFrames.has(frameId)\n                        let link = document.createElement(&quot;a&quot;)\n                        link.className = &quot;expander&quot;\n                        let that = this\n                        link.onclick = function () {\n                            if (rootDf.expandedFrames.has(frameId))\n                                rootDf.expandedFrames.delete(frameId)\n                            else rootDf.expandedFrames.add(frameId)\n                            that.renderTable(id)\n                        }\n                        link.appendChild(this.createExpander(expanded))\n                        link.innerHTML += value.value\n                        if (expanded) {\n                            td.appendChild(link)\n                            td.appendChild(document.createElement(&quot;p&quot;))\n                            const childTable = document.createElement(&quot;table&quot;)\n                            childTable.className = &quot;dataframe&quot;\n                            childTable.id = &quot;df_&quot; + frameId\n                            let childDf = rootDf.childFrames[frameId]\n                            childTable.df = childDf\n                            td.appendChild(childTable)\n                            this.renderTable(frameId)\n                            if (childDf.nrow !== childDf.totalRows) {\n                                const footer = document.createElement(&quot;p&quot;)\n                                footer.innerText = `... showing only top ${childDf.nrow} of ${childDf.totalRows} rows`\n                                td.appendChild(footer)\n                            }\n                        } else {\n                            td.appendChild(link)\n                        }\n                    } else if (value.style !== undefined) {\n                        td.innerHTML = value.value\n                        td.setAttribute(&quot;style&quot;, value.style)\n                    } else td.innerHTML = value\n                    this.nodeScriptReplace(td)\n                }\n            }\n        }\n\n        this.nodeScriptReplace = function (node) {\n            if (this.nodeScriptIs(node) === true) {\n                node.parentNode.replaceChild(this.nodeScriptClone(node), node);\n            } else {\n                let i = -1, children = node.childNodes;\n                while (++i &lt; children.length) {\n                    this.nodeScriptReplace(children[i]);\n                }\n            }\n\n            return node;\n        }\n\n        this.nodeScriptClone = function (node) {\n            let script = document.createElement(&quot;script&quot;);\n            script.text = node.innerHTML;\n\n            let i = -1, attrs = node.attributes, attr;\n            while (++i &lt; attrs.length) {\n                script.setAttribute((attr = attrs[i]).name, attr.value);\n            }\n            return script;\n        }\n\n        this.nodeScriptIs = function (node) {\n            return node.tagName === 'SCRIPT';\n        }\n    })()\n\n    window.call_DataFrame = function (f) {\n        return f();\n    };\n\n    let funQueue = window[&quot;kotlinQueues&quot;] &amp;&amp; window[&quot;kotlinQueues&quot;][&quot;DataFrame&quot;];\n    if (funQueue) {\n        funQueue.forEach(function (f) {\n            f();\n        });\n        funQueue = [];\n    }\n})()\n\n&sol;*&lt;!--*&sol;\ncall_DataFrame(function() { DataFrame.addTable({ cols: [{ name: &quot;&lt;span title=&bsol;&quot;country: String&bsol;&quot;&gt;country&lt;&sol;span&gt;&quot;, children: [], rightAlign: false, values: [&quot;Australia&quot;,&quot;Canada&quot;,&quot;China&quot;,&quot;Germany&quot;,&quot;Japan&quot;,&quot;United Kingdom&quot;,&quot;United States&quot;,&quot;Australia&quot;,&quot;Canada&quot;,&quot;China&quot;,&quot;Germany&quot;,&quot;Japan&quot;,&quot;United Kingdom&quot;,&quot;United States&quot;,&quot;Australia&quot;,&quot;Canada&quot;,&quot;China&quot;,&quot;Germany&quot;,&quot;Japan&quot;,&quot;United Kingdom&quot;] }, \n{ name: &quot;&lt;span title=&bsol;&quot;lifeExp: Double&bsol;&quot;&gt;lifeExp&lt;&sol;span&gt;&quot;, children: [], rightAlign: true, values: [&quot;&lt;span class=&bsol;&quot;formatted&bsol;&quot; title=&bsol;&quot;&bsol;&quot;&gt;&lt;span class=&bsol;&quot;numbers&bsol;&quot;&gt;87,29&lt;&sol;span&gt;&lt;&sol;span&gt;&quot;,&quot;&lt;span class=&bsol;&quot;formatted&bsol;&quot; title=&bsol;&quot;&bsol;&quot;&gt;&lt;span class=&bsol;&quot;numbers&bsol;&quot;&gt;77,42&lt;&sol;span&gt;&lt;&sol;span&gt;&quot;,&quot;&lt;span class=&bsol;&quot;formatted&bsol;&quot; title=&bsol;&quot;&bsol;&quot;&gt;&lt;span class=&bsol;&quot;numbers&bsol;&quot;&gt;76,08&lt;&sol;span&gt;&lt;&sol;span&gt;&quot;,&quot;&lt;span class=&bsol;&quot;formatted&bsol;&quot; title=&bsol;&quot;&bsol;&quot;&gt;&lt;span class=&bsol;&quot;numbers&bsol;&quot;&gt;75,98&lt;&sol;span&gt;&lt;&sol;span&gt;&quot;,&quot;&lt;span class=&bsol;&quot;formatted&bsol;&quot; title=&bsol;&quot;&bsol;&quot;&gt;&lt;span class=&bsol;&quot;numbers&bsol;&quot;&gt;82,72&lt;&sol;span&gt;&lt;&sol;span&gt;&quot;,&quot;&lt;span class=&bsol;&quot;formatted&bsol;&quot; title=&bsol;&quot;&bsol;&quot;&gt;&lt;span class=&bsol;&quot;numbers&bsol;&quot;&gt;76,66&lt;&sol;span&gt;&lt;&sol;span&gt;&quot;,&quot;&lt;span class=&bsol;&quot;formatted&bsol;&quot; title=&bsol;&quot;&bsol;&quot;&gt;&lt;span class=&bsol;&quot;numbers&bsol;&quot;&gt;71,47&lt;&sol;span&gt;&lt;&sol;span&gt;&quot;,&quot;&lt;span class=&bsol;&quot;formatted&bsol;&quot; title=&bsol;&quot;&bsol;&quot;&gt;&lt;span class=&bsol;&quot;numbers&bsol;&quot;&gt;83,20&lt;&sol;span&gt;&lt;&sol;span&gt;&quot;,&quot;&lt;span class=&bsol;&quot;formatted&bsol;&quot; title=&bsol;&quot;&bsol;&quot;&gt;&lt;span class=&bsol;&quot;numbers&bsol;&quot;&gt;82,55&lt;&sol;span&gt;&lt;&sol;span&gt;&quot;,&quot;&lt;span class=&bsol;&quot;formatted&bsol;&quot; title=&bsol;&quot;&bsol;&quot;&gt;&lt;span class=&bsol;&quot;numbers&bsol;&quot;&gt;88,39&lt;&sol;span&gt;&lt;&sol;span&gt;&quot;,&quot;&lt;span class=&bsol;&quot;formatted&bsol;&quot; title=&bsol;&quot;&bsol;&quot;&gt;&lt;span class=&bsol;&quot;numbers&bsol;&quot;&gt;73,25&lt;&sol;span&gt;&lt;&sol;span&gt;&quot;,&quot;&lt;span class=&bsol;&quot;formatted&bsol;&quot; title=&bsol;&quot;&bsol;&quot;&gt;&lt;span class=&bsol;&quot;numbers&bsol;&quot;&gt;83,77&lt;&sol;span&gt;&lt;&sol;span&gt;&quot;,&quot;&lt;span class=&bsol;&quot;formatted&bsol;&quot; title=&bsol;&quot;&bsol;&quot;&gt;&lt;span class=&bsol;&quot;numbers&bsol;&quot;&gt;82,38&lt;&sol;span&gt;&lt;&sol;span&gt;&quot;,&quot;&lt;span class=&bsol;&quot;formatted&bsol;&quot; title=&bsol;&quot;&bsol;&quot;&gt;&lt;span class=&bsol;&quot;numbers&bsol;&quot;&gt;86,29&lt;&sol;span&gt;&lt;&sol;span&gt;&quot;,&quot;&lt;span class=&bsol;&quot;formatted&bsol;&quot; title=&bsol;&quot;&bsol;&quot;&gt;&lt;span class=&bsol;&quot;numbers&bsol;&quot;&gt;84,93&lt;&sol;span&gt;&lt;&sol;span&gt;&quot;,&quot;&lt;span class=&bsol;&quot;formatted&bsol;&quot; title=&bsol;&quot;&bsol;&quot;&gt;&lt;span class=&bsol;&quot;numbers&bsol;&quot;&gt;78,96&lt;&sol;span&gt;&lt;&sol;span&gt;&quot;,&quot;&lt;span class=&bsol;&quot;formatted&bsol;&quot; title=&bsol;&quot;&bsol;&quot;&gt;&lt;span class=&bsol;&quot;numbers&bsol;&quot;&gt;75,42&lt;&sol;span&gt;&lt;&sol;span&gt;&quot;,&quot;&lt;span class=&bsol;&quot;formatted&bsol;&quot; title=&bsol;&quot;&bsol;&quot;&gt;&lt;span class=&bsol;&quot;numbers&bsol;&quot;&gt;80,70&lt;&sol;span&gt;&lt;&sol;span&gt;&quot;,&quot;&lt;span class=&bsol;&quot;formatted&bsol;&quot; title=&bsol;&quot;&bsol;&quot;&gt;&lt;span class=&bsol;&quot;numbers&bsol;&quot;&gt;83,78&lt;&sol;span&gt;&lt;&sol;span&gt;&quot;,&quot;&lt;span class=&bsol;&quot;formatted&bsol;&quot; title=&bsol;&quot;&bsol;&quot;&gt;&lt;span class=&bsol;&quot;numbers&bsol;&quot;&gt;75,41&lt;&sol;span&gt;&lt;&sol;span&gt;&quot;] }, \n], id: -2130706432, rootId: -2130706432, totalRows: 350 } ) });\n&sol;*--&gt;*&sol;\n\ncall_DataFrame(function() { DataFrame.renderTable(-2130706432) });\n\n\n\n        &lt;&sol;script&gt;\n        &lt;&sol;html&gt;\"></iframe>\n            <script>\n                function o_resize_iframe_out_1() {\n                    let elem = document.getElementById(\"iframe_out_1\");\n                    resize_iframe_out_1(elem);\n                    setInterval(resize_iframe_out_1, 5000, elem);\n                }\n                function resize_iframe_out_1(el) {\n                    let h = el.contentWindow.document.body.scrollHeight;\n                    el.height = h === 0 ? 0 : h + 41;\n                }\n            </script>",
      "application/kotlindataframe+json": "{\"nrow\":350,\"ncol\":2,\"columns\":[\"country\",\"lifeExp\"],\"kotlin_dataframe\":[{\"country\":\"Australia\",\"lifeExp\":87.29},{\"country\":\"Canada\",\"lifeExp\":77.42},{\"country\":\"China\",\"lifeExp\":76.08},{\"country\":\"Germany\",\"lifeExp\":75.98},{\"country\":\"Japan\",\"lifeExp\":82.72},{\"country\":\"United Kingdom\",\"lifeExp\":76.66},{\"country\":\"United States\",\"lifeExp\":71.47},{\"country\":\"Australia\",\"lifeExp\":83.2},{\"country\":\"Canada\",\"lifeExp\":82.55},{\"country\":\"China\",\"lifeExp\":88.39},{\"country\":\"Germany\",\"lifeExp\":73.25},{\"country\":\"Japan\",\"lifeExp\":83.77},{\"country\":\"United Kingdom\",\"lifeExp\":82.38},{\"country\":\"United States\",\"lifeExp\":86.29},{\"country\":\"Australia\",\"lifeExp\":84.93},{\"country\":\"Canada\",\"lifeExp\":78.96},{\"country\":\"China\",\"lifeExp\":75.42},{\"country\":\"Germany\",\"lifeExp\":80.7},{\"country\":\"Japan\",\"lifeExp\":83.78},{\"country\":\"United Kingdom\",\"lifeExp\":75.41}]}"
     },
     "execution_count": 2,
     "metadata": {},
     "output_type": "execute_result"
    }
   ],
   "source": [
    "val countries = arrayOf(\"Australia\", \"Canada\", \"China\", \"Germany\", \"Japan\", \"United Kingdom\", \"United States\")\n",
    "\n",
    "val australiaLifeExpectancy = listOf(\n",
    "    87.29, 83.20, 84.93, 88.72, 87.60, 79.07, 84.85, 81.55, 81.69, 83.23,\n",
    "    82.43, 86.36, 84.28, 82.37, 83.33, 83.00, 86.48, 81.38, 82.94, 79.44, 74.34, 83.96, 84.59, 79.77, 88.81,\n",
    "    77.64, 82.14, 81.44, 86.60, 86.41, 82.46, 83.13, 79.34, 76.06, 80.96, 82.47, 85.69, 85.61, 80.84, 81.09,\n",
    "    78.85, 77.74, 76.88, 87.85, 80.47, 80.69, 78.24, 84.33, 77.16, 81.36\n",
    ")\n",
    "val canadaLifeExpectancy = listOf(\n",
    "    77.42, 82.55, 78.96, 76.28, 80.89, 82.71, 81.27, 82.21, 78.46, 79.55, 78.31,\n",
    "    79.56, 77.75, 74.09, 81.71, 79.39, 74.48, 82.85, 77.37, 81.21, 83.92, 81.52, 85.56, 76.06, 82.61, 78.26,\n",
    "    77.52, 78.68, 79.75, 81.22, 76.34, 84.60, 82.86, 74.86, 86.95, 88.58, 85.72, 80.28, 76.72, 85.22, 79.39,\n",
    "    85.89, 81.83, 84.91, 82.43, 83.83, 81.04, 80.07, 90.56, 79.77\n",
    ")\n",
    "val chinaLifeExpectancy = listOf(\n",
    "    76.08, 88.39, 75.42, 80.75, 79.44, 80.96, 86.69, 77.30, 81.14, 76.65, 63.39,\n",
    "    88.37, 78.89, 73.96, 87.45, 84.74, 82.90, 78.07, 89.43, 86.43, 78.80, 73.51, 85.01, 81.11, 79.09, 83.57,\n",
    "    83.69, 82.95, 77.55, 82.13, 79.85, 79.99, 78.67, 78.90, 79.85, 88.72, 72.23, 76.12, 74.75, 79.22, 85.58,\n",
    "    81.17, 74.86, 72.02, 85.43, 73.34, 81.60, 83.86, 79.86, 75.95\n",
    ")\n",
    "val germanyLifeExpectancy = listOf(\n",
    "    75.98, 73.25, 80.70, 69.84, 83.00, 82.91, 84.36, 75.75, 75.16, 85.21, 87.71,\n",
    "    80.55, 92.80, 80.20, 86.26, 74.87, 81.98, 85.70, 83.06, 78.86, 79.04, 73.85, 79.78, 79.95, 78.07, 81.57,\n",
    "    73.08, 72.05, 92.45, 76.85, 84.82, 80.43, 80.90, 80.26, 82.40, 80.84, 88.51, 87.48, 78.37, 71.97, 81.41,\n",
    "    88.58, 84.84, 89.01, 80.05, 82.32, 81.44, 89.74, 79.14, 86.96\n",
    ")\n",
    "val japanLifeExpectancy = listOf(\n",
    "    82.72, 83.77, 83.78, 78.10, 84.92, 80.83, 80.85, 80.02, 84.13, 82.95, 83.10,\n",
    "    84.34, 83.39, 79.09, 82.43, 86.71, 81.56, 80.90, 86.52, 80.25, 81.95, 82.91, 78.74, 82.05, 80.53, 84.14,\n",
    "    82.10, 81.56, 81.85, 87.35, 80.59, 83.85, 80.55, 85.67, 85.42, 83.47, 85.73, 80.95, 81.38, 82.91, 85.21,\n",
    "    87.31, 83.02, 78.46, 78.69, 82.79, 88.07, 81.24, 72.21, 89.26\n",
    ")\n",
    "val ukLifeExpectancy = listOf(\n",
    "    76.66, 82.38, 75.41, 77.95, 82.04, 81.03, 79.85, 75.26, 81.20, 81.83, 78.43,\n",
    "    83.02, 79.70, 80.96, 81.24, 80.68, 75.77, 81.59, 77.71, 75.22, 82.07, 82.25, 79.45, 80.73, 79.35, 80.89,\n",
    "    85.13, 78.91, 79.96, 82.28, 84.67, 77.76, 79.54, 85.25, 80.17, 80.98, 78.61, 78.73, 80.07, 77.14, 80.86,\n",
    "    81.71, 78.17, 79.85, 73.72, 75.23, 77.12, 80.75, 79.22, 83.58\n",
    ")\n",
    "val usaLifeExpectancy = listOf(\n",
    "    71.47, 86.29, 77.41, 74.60, 73.04, 77.52, 80.27, 76.45, 80.95, 72.47, 74.96,\n",
    "    79.30, 79.07, 77.33, 83.71, 77.28, 74.23, 75.89, 81.34, 82.65, 82.96, 82.33, 83.89, 76.20, 77.53, 75.34,\n",
    "    75.93, 78.74, 79.43, 74.50, 73.26, 77.73, 74.55, 73.39, 79.32, 74.14, 77.21, 73.90, 75.62, 72.88, 78.65,\n",
    "    80.89, 79.75, 73.08, 72.05, 71.45, 73.85, 80.82, 79.43, 80.90\n",
    ")\n",
    "\n",
    "val lifeExpectancyData = dataFrameOf(\n",
    "    \"Australia\" to australiaLifeExpectancy,\n",
    "    \"Canada\" to canadaLifeExpectancy,\n",
    "    \"China\" to chinaLifeExpectancy,\n",
    "    \"Germany\" to germanyLifeExpectancy,\n",
    "    \"Japan\" to japanLifeExpectancy,\n",
    "    \"United Kingdom\" to ukLifeExpectancy,\n",
    "    \"United States\" to usaLifeExpectancy\n",
    ").gather(*countries).into(\"country\", \"lifeExp\")\n",
    "\n",
    "lifeExpectancyData"
   ],
   "metadata": {
    "collapsed": false,
    "ExecuteTime": {
     "end_time": "2023-11-21T12:24:44.962113Z",
     "start_time": "2023-11-21T12:24:43.434038Z"
    }
   }
  },
  {
   "cell_type": "code",
   "execution_count": 3,
   "outputs": [
    {
     "data": {
      "text/html": "            <iframe src='about:blank' style='border:none !important;' width='600' height='400' srcdoc=\"&lt;html lang=&quot;en&quot;>\n   &lt;head>\n       &lt;style> html, body { margin: 0; overflow: hidden; } &lt;/style>\n       &lt;script type=&quot;text/javascript&quot; data-lets-plot-script=&quot;library&quot; src=&quot;https://cdn.jsdelivr.net/gh/JetBrains/lets-plot@v4.0.1/js-package/distr/lets-plot.min.js&quot;>&lt;/script>\n   &lt;/head>\n   &lt;body>\n          &lt;div id=&quot;1j1Qa0&quot;>&lt;/div>\n   &lt;script type=&quot;text/javascript&quot; data-lets-plot-script=&quot;plot&quot;>\n       var plotSpec={\n&quot;mapping&quot;:{\n},\n&quot;coord&quot;:{\n&quot;name&quot;:&quot;flip&quot;,\n&quot;flip&quot;:true\n},\n&quot;data&quot;:{\n},\n&quot;kind&quot;:&quot;plot&quot;,\n&quot;scales&quot;:[{\n&quot;aesthetic&quot;:&quot;x&quot;,\n&quot;name&quot;:&quot;country&quot;,\n&quot;limits&quot;:[null,null]\n},{\n&quot;aesthetic&quot;:&quot;y&quot;,\n&quot;name&quot;:&quot;lifeExp&quot;,\n&quot;limits&quot;:[null,null]\n},{\n&quot;aesthetic&quot;:&quot;x&quot;,\n&quot;discrete&quot;:true\n},{\n&quot;aesthetic&quot;:&quot;x&quot;,\n&quot;discrete&quot;:true\n},{\n&quot;aesthetic&quot;:&quot;y&quot;,\n&quot;limits&quot;:[null,null]\n}],\n&quot;layers&quot;:[{\n&quot;mapping&quot;:{\n&quot;x&quot;:&quot;x&quot;,\n&quot;ymin&quot;:&quot;min&quot;,\n&quot;lower&quot;:&quot;lower&quot;,\n&quot;middle&quot;:&quot;middle&quot;,\n&quot;upper&quot;:&quot;upper&quot;,\n&quot;ymax&quot;:&quot;max&quot;,\n&quot;y&quot;:&quot;y&quot;\n},\n&quot;stat&quot;:&quot;identity&quot;,\n&quot;data&quot;:{\n&quot;middle&quot;:[82.445,80.965,79.85499999999999,80.87,82.755,80.01499999999999,77.305],\n&quot;min&quot;:[74.34,74.09,72.02,69.84,78.1,73.72,71.45],\n&quot;max&quot;:[88.81,88.58,89.43,92.8,88.07,85.25,86.29],\n&quot;upper&quot;:[84.87,82.85249999999999,83.7325,84.9325,84.19,81.62,79.88],\n&quot;lower&quot;:[80.295,78.2975,76.51750000000001,78.295,80.845,78.11500000000001,74.20750000000001],\n&quot;x&quot;:[&quot;Australia&quot;,&quot;Canada&quot;,&quot;China&quot;,&quot;Germany&quot;,&quot;Japan&quot;,&quot;United Kingdom&quot;,&quot;United States&quot;]\n},\n&quot;sampling&quot;:&quot;none&quot;,\n&quot;position&quot;:&quot;identity&quot;,\n&quot;geom&quot;:&quot;boxplot&quot;\n},{\n&quot;mapping&quot;:{\n&quot;x&quot;:&quot;x&quot;,\n&quot;y&quot;:&quot;y&quot;\n},\n&quot;stat&quot;:&quot;identity&quot;,\n&quot;data&quot;:{\n&quot;x&quot;:[&quot;Canada&quot;,&quot;China&quot;,&quot;Japan&quot;,&quot;Japan&quot;],\n&quot;y&quot;:[90.56,63.39,72.21,89.26]\n},\n&quot;sampling&quot;:&quot;none&quot;,\n&quot;position&quot;:&quot;identity&quot;,\n&quot;geom&quot;:&quot;point&quot;\n}]\n};\n       var plotContainer = document.getElementById(&quot;1j1Qa0&quot;);\n       LetsPlot.buildPlotFromProcessedSpecs(plotSpec, -1, -1, plotContainer);\n   &lt;/script>\n   &lt;/body>\n&lt;/html>\"></iframe>            \n        <svg id=3c91f691-ad36-4182-bff8-e22ca9158e00 xmlns=\"http://www.w3.org/2000/svg\" xmlns:xlink=\"http://www.w3.org/1999/xlink\" class=\"plt-container\" width=\"600.0\" height=\"400.0\">\n  <style type=\"text/css\">\n  .plt-container {\n   font-family: Lucida Grande, sans-serif;\n   user-select: none;\n   -webkit-user-select: none;\n   -moz-user-select: none;\n   -ms-user-select: none;\n}\ntext {\n   text-rendering: optimizeLegibility;\n}\n#pQ8h7kZ .plot-title {\n   fill: #474747;\n   font-family: Lucida Grande, sans-serif;\n   font-size: 16.0px;\n   font-weight: normal;\n   font-style: normal;   \n}\n#pQ8h7kZ .plot-subtitle {\n   fill: #474747;\n   font-family: Lucida Grande, sans-serif;\n   font-size: 15.0px;\n   font-weight: normal;\n   font-style: normal;   \n}\n#pQ8h7kZ .plot-caption {\n   fill: #474747;\n   font-family: Lucida Grande, sans-serif;\n   font-size: 13.0px;\n   font-weight: normal;\n   font-style: normal;   \n}\n#pQ8h7kZ .legend-title {\n   fill: #474747;\n   font-family: Lucida Grande, sans-serif;\n   font-size: 15.0px;\n   font-weight: normal;\n   font-style: normal;   \n}\n#pQ8h7kZ .legend-item {\n   fill: #474747;\n   font-family: Lucida Grande, sans-serif;\n   font-size: 13.0px;\n   font-weight: normal;\n   font-style: normal;   \n}\n#pQ8h7kZ .axis-title-y {\n   fill: #474747;\n   font-family: Lucida Grande, sans-serif;\n   font-size: 15.0px;\n   font-weight: normal;\n   font-style: normal;   \n}\n#pQ8h7kZ .axis-text-y {\n   fill: #474747;\n   font-family: Lucida Grande, sans-serif;\n   font-size: 13.0px;\n   font-weight: normal;\n   font-style: normal;   \n}\n#dxNYq59 .axis-tooltip-text-y {\n   fill: #ffffff;\n   font-family: Lucida Grande, sans-serif;\n   font-size: 13.0px;\n   font-weight: normal;\n   font-style: normal;   \n}\n#pQ8h7kZ .axis-title-x {\n   fill: #474747;\n   font-family: Lucida Grande, sans-serif;\n   font-size: 15.0px;\n   font-weight: normal;\n   font-style: normal;   \n}\n#pQ8h7kZ .axis-text-x {\n   fill: #474747;\n   font-family: Lucida Grande, sans-serif;\n   font-size: 13.0px;\n   font-weight: normal;\n   font-style: normal;   \n}\n#dxNYq59 .axis-tooltip-text-x {\n   fill: #ffffff;\n   font-family: Lucida Grande, sans-serif;\n   font-size: 13.0px;\n   font-weight: normal;\n   font-style: normal;   \n}\n#pQ8h7kZ .facet-strip-text-x {\n   fill: #474747;\n   font-family: Lucida Grande, sans-serif;\n   font-size: 13.0px;\n   font-weight: normal;\n   font-style: normal;   \n}\n#pQ8h7kZ .facet-strip-text-y {\n   fill: #474747;\n   font-family: Lucida Grande, sans-serif;\n   font-size: 13.0px;\n   font-weight: normal;\n   font-style: normal;   \n}\n#dxNYq59 .tooltip-text {\n   fill: #474747;\n   font-family: Lucida Grande, sans-serif;\n   font-size: 13.0px;\n   font-weight: normal;\n   font-style: normal;   \n}\n#dxNYq59 .tooltip-title {\n   fill: #474747;\n   font-family: Lucida Grande, sans-serif;\n   font-size: 13.0px;\n   font-weight: bold;\n   font-style: normal;   \n}\n#dxNYq59 .tooltip-label {\n   fill: #474747;\n   font-family: Lucida Grande, sans-serif;\n   font-size: 13.0px;\n   font-weight: bold;\n   font-style: normal;   \n}\n\n  </style>\n  <g id=\"pQ8h7kZ\">\n    <path fill-rule=\"evenodd\" fill=\"rgb(255,255,255)\" fill-opacity=\"1.0\" d=\"M0.0 0.0 L0.0 400.0 L600.0 400.0 L600.0 0.0 Z\">\n    </path>\n    <g transform=\"translate(23.0 10.0 ) \">\n      <g transform=\"translate(117.21880258897198 348.0 ) \">\n        <line x1=\"42.82869087894255\" y1=\"-0.0\" x2=\"42.82869087894255\" y2=\"-348.0\" stroke=\"rgb(233,233,233)\" stroke-opacity=\"1.0\" stroke-width=\"1.0\">\n        </line>\n        <line x1=\"112.34450142746164\" y1=\"-0.0\" x2=\"112.34450142746164\" y2=\"-348.0\" stroke=\"rgb(233,233,233)\" stroke-opacity=\"1.0\" stroke-width=\"1.0\">\n        </line>\n        <line x1=\"181.8603119759806\" y1=\"-0.0\" x2=\"181.8603119759806\" y2=\"-348.0\" stroke=\"rgb(233,233,233)\" stroke-opacity=\"1.0\" stroke-width=\"1.0\">\n        </line>\n        <line x1=\"251.3761225244997\" y1=\"-0.0\" x2=\"251.3761225244997\" y2=\"-348.0\" stroke=\"rgb(233,233,233)\" stroke-opacity=\"1.0\" stroke-width=\"1.0\">\n        </line>\n        <line x1=\"320.8919330730188\" y1=\"-0.0\" x2=\"320.8919330730188\" y2=\"-348.0\" stroke=\"rgb(233,233,233)\" stroke-opacity=\"1.0\" stroke-width=\"1.0\">\n        </line>\n        <line x1=\"390.40774362153786\" y1=\"-0.0\" x2=\"390.40774362153786\" y2=\"-348.0\" stroke=\"rgb(233,233,233)\" stroke-opacity=\"1.0\" stroke-width=\"1.0\">\n        </line>\n        <g transform=\"translate(42.82869087894255 0.0 ) \">\n          <g transform=\"translate(0.0 3.0 ) \">\n            <text class=\"axis-text-y\" text-anchor=\"middle\" dy=\"0.7em\">\n            65\n            </text>\n          </g>\n        </g>\n        <g transform=\"translate(112.34450142746164 0.0 ) \">\n          <g transform=\"translate(0.0 3.0 ) \">\n            <text class=\"axis-text-y\" text-anchor=\"middle\" dy=\"0.7em\">\n            70\n            </text>\n          </g>\n        </g>\n        <g transform=\"translate(181.8603119759806 0.0 ) \">\n          <g transform=\"translate(0.0 3.0 ) \">\n            <text class=\"axis-text-y\" text-anchor=\"middle\" dy=\"0.7em\">\n            75\n            </text>\n          </g>\n        </g>\n        <g transform=\"translate(251.3761225244997 0.0 ) \">\n          <g transform=\"translate(0.0 3.0 ) \">\n            <text class=\"axis-text-y\" text-anchor=\"middle\" dy=\"0.7em\">\n            80\n            </text>\n          </g>\n        </g>\n        <g transform=\"translate(320.8919330730188 0.0 ) \">\n          <g transform=\"translate(0.0 3.0 ) \">\n            <text class=\"axis-text-y\" text-anchor=\"middle\" dy=\"0.7em\">\n            85\n            </text>\n          </g>\n        </g>\n        <g transform=\"translate(390.40774362153786 0.0 ) \">\n          <g transform=\"translate(0.0 3.0 ) \">\n            <text class=\"axis-text-y\" text-anchor=\"middle\" dy=\"0.7em\">\n            90\n            </text>\n          </g>\n        </g>\n      </g>\n      <g transform=\"translate(117.21880258897198 0.0 ) \">\n        <line x1=\"0.0\" y1=\"317.013698630137\" x2=\"449.781197411028\" y2=\"317.013698630137\" stroke=\"rgb(233,233,233)\" stroke-opacity=\"1.0\" stroke-width=\"1.0\">\n        </line>\n        <line x1=\"0.0\" y1=\"269.3424657534247\" x2=\"449.781197411028\" y2=\"269.3424657534247\" stroke=\"rgb(233,233,233)\" stroke-opacity=\"1.0\" stroke-width=\"1.0\">\n        </line>\n        <line x1=\"0.0\" y1=\"221.67123287671237\" x2=\"449.781197411028\" y2=\"221.67123287671237\" stroke=\"rgb(233,233,233)\" stroke-opacity=\"1.0\" stroke-width=\"1.0\">\n        </line>\n        <line x1=\"0.0\" y1=\"174.00000000000006\" x2=\"449.781197411028\" y2=\"174.00000000000006\" stroke=\"rgb(233,233,233)\" stroke-opacity=\"1.0\" stroke-width=\"1.0\">\n        </line>\n        <line x1=\"0.0\" y1=\"126.32876712328772\" x2=\"449.781197411028\" y2=\"126.32876712328772\" stroke=\"rgb(233,233,233)\" stroke-opacity=\"1.0\" stroke-width=\"1.0\">\n        </line>\n        <line x1=\"0.0\" y1=\"78.65753424657538\" x2=\"449.781197411028\" y2=\"78.65753424657538\" stroke=\"rgb(233,233,233)\" stroke-opacity=\"1.0\" stroke-width=\"1.0\">\n        </line>\n        <line x1=\"0.0\" y1=\"30.9863013698631\" x2=\"449.781197411028\" y2=\"30.9863013698631\" stroke=\"rgb(233,233,233)\" stroke-opacity=\"1.0\" stroke-width=\"1.0\">\n        </line>\n        <g transform=\"translate(0.0 317.013698630137 ) \">\n          <line stroke-width=\"1.0\" stroke=\"rgb(71,71,71)\" stroke-opacity=\"1.0\" x2=\"-4.0\" y2=\"0.0\">\n          </line>\n          <g transform=\"translate(-7.0 0.0 ) \">\n            <text class=\"axis-text-x\" text-anchor=\"end\" dy=\"0.35em\">\n            Australia\n            </text>\n          </g>\n        </g>\n        <g transform=\"translate(0.0 269.3424657534247 ) \">\n          <line stroke-width=\"1.0\" stroke=\"rgb(71,71,71)\" stroke-opacity=\"1.0\" x2=\"-4.0\" y2=\"0.0\">\n          </line>\n          <g transform=\"translate(-7.0 0.0 ) \">\n            <text class=\"axis-text-x\" text-anchor=\"end\" dy=\"0.35em\">\n            Canada\n            </text>\n          </g>\n        </g>\n        <g transform=\"translate(0.0 221.67123287671237 ) \">\n          <line stroke-width=\"1.0\" stroke=\"rgb(71,71,71)\" stroke-opacity=\"1.0\" x2=\"-4.0\" y2=\"0.0\">\n          </line>\n          <g transform=\"translate(-7.0 0.0 ) \">\n            <text class=\"axis-text-x\" text-anchor=\"end\" dy=\"0.35em\">\n            China\n            </text>\n          </g>\n        </g>\n        <g transform=\"translate(0.0 174.00000000000006 ) \">\n          <line stroke-width=\"1.0\" stroke=\"rgb(71,71,71)\" stroke-opacity=\"1.0\" x2=\"-4.0\" y2=\"0.0\">\n          </line>\n          <g transform=\"translate(-7.0 0.0 ) \">\n            <text class=\"axis-text-x\" text-anchor=\"end\" dy=\"0.35em\">\n            Germany\n            </text>\n          </g>\n        </g>\n        <g transform=\"translate(0.0 126.32876712328772 ) \">\n          <line stroke-width=\"1.0\" stroke=\"rgb(71,71,71)\" stroke-opacity=\"1.0\" x2=\"-4.0\" y2=\"0.0\">\n          </line>\n          <g transform=\"translate(-7.0 0.0 ) \">\n            <text class=\"axis-text-x\" text-anchor=\"end\" dy=\"0.35em\">\n            Japan\n            </text>\n          </g>\n        </g>\n        <g transform=\"translate(0.0 78.65753424657538 ) \">\n          <line stroke-width=\"1.0\" stroke=\"rgb(71,71,71)\" stroke-opacity=\"1.0\" x2=\"-4.0\" y2=\"0.0\">\n          </line>\n          <g transform=\"translate(-7.0 0.0 ) \">\n            <text class=\"axis-text-x\" text-anchor=\"end\" dy=\"0.35em\">\n            United Kingdom\n            </text>\n          </g>\n        </g>\n        <g transform=\"translate(0.0 30.9863013698631 ) \">\n          <line stroke-width=\"1.0\" stroke=\"rgb(71,71,71)\" stroke-opacity=\"1.0\" x2=\"-4.0\" y2=\"0.0\">\n          </line>\n          <g transform=\"translate(-7.0 0.0 ) \">\n            <text class=\"axis-text-x\" text-anchor=\"end\" dy=\"0.35em\">\n            United States\n            </text>\n          </g>\n        </g>\n        <line x1=\"0.0\" y1=\"0.0\" x2=\"0.0\" y2=\"348.0\" stroke-width=\"1.0\" stroke=\"rgb(71,71,71)\" stroke-opacity=\"1.0\">\n        </line>\n      </g>\n      <g transform=\"translate(117.21880258897198 0.0 ) \" clip-path=\"url(#cxHijtG)\" clip-bounds-jfx=\"[rect (0.0, 0.0), (449.781197411028, 348.0)]\">\n        <defs>\n          <clipPath id=\"cxHijtG\">\n            <rect x=\"0.0\" y=\"0.0\" width=\"449.781197411028\" height=\"348.0\">\n            </rect>\n          </clipPath>\n        </defs>\n        <rect x=\"255.47755534686246\" y=\"295.56164383561645\" height=\"42.90410958904113\" width=\"63.606966651894936\" stroke=\"rgb(71,71,71)\" stroke-opacity=\"1.0\" fill=\"rgb(255,255,255)\" fill-opacity=\"1.0\" stroke-width=\"1.6500000000000001\">\n        </rect>\n        <rect x=\"227.705989032729\" y=\"247.89041095890414\" height=\"42.9041095890411\" width=\"63.32890340970084\" stroke=\"rgb(71,71,71)\" stroke-opacity=\"1.0\" fill=\"rgb(255,255,255)\" fill-opacity=\"1.0\" stroke-width=\"1.6500000000000001\">\n        </rect>\n        <rect x=\"202.9583604774565\" y=\"200.21917808219183\" height=\"42.90410958904107\" width=\"100.31131462151279\" stroke=\"rgb(71,71,71)\" stroke-opacity=\"1.0\" fill=\"rgb(255,255,255)\" fill-opacity=\"1.0\" stroke-width=\"1.6500000000000001\">\n        </rect>\n        <rect x=\"227.6712311274547\" y=\"152.54794520547952\" height=\"42.90410958904107\" width=\"92.2822385031593\" stroke=\"rgb(71,71,71)\" stroke-opacity=\"1.0\" fill=\"rgb(255,255,255)\" fill-opacity=\"1.0\" stroke-width=\"1.6500000000000001\">\n        </rect>\n        <rect x=\"263.1242945071996\" y=\"104.87671232876716\" height=\"42.90410958904113\" width=\"46.50607725695909\" stroke=\"rgb(71,71,71)\" stroke-opacity=\"1.0\" fill=\"rgb(255,255,255)\" fill-opacity=\"1.0\" stroke-width=\"1.6500000000000001\">\n        </rect>\n        <rect x=\"225.1686619477083\" y=\"57.20547945205482\" height=\"42.90410958904113\" width=\"48.73058319451161\" stroke=\"rgb(71,71,71)\" stroke-opacity=\"1.0\" fill=\"rgb(255,255,255)\" fill-opacity=\"1.0\" stroke-width=\"1.6500000000000001\">\n        </rect>\n        <rect x=\"170.8420560040405\" y=\"9.534246575342536\" height=\"42.90410958904107\" width=\"78.86568706729486\" stroke=\"rgb(71,71,71)\" stroke-opacity=\"1.0\" fill=\"rgb(255,255,255)\" fill-opacity=\"1.0\" stroke-width=\"1.6500000000000001\">\n        </rect>\n        <line x1=\"285.3693538827255\" y1=\"338.4657534246576\" x2=\"285.3693538827255\" y2=\"295.56164383561645\" stroke=\"rgb(71,71,71)\" stroke-opacity=\"1.0\" fill=\"rgb(255,255,255)\" fill-opacity=\"1.0\" stroke-width=\"3.3000000000000003\">\n        </line>\n        <line x1=\"264.7926739603639\" y1=\"290.79452054794524\" x2=\"264.7926739603639\" y2=\"247.89041095890414\" stroke=\"rgb(71,71,71)\" stroke-opacity=\"1.0\" fill=\"rgb(255,255,255)\" fill-opacity=\"1.0\" stroke-width=\"3.3000000000000003\">\n        </line>\n        <line x1=\"249.36016401859263\" y1=\"243.1232876712329\" x2=\"249.36016401859263\" y2=\"200.21917808219183\" stroke=\"rgb(71,71,71)\" stroke-opacity=\"1.0\" fill=\"rgb(255,255,255)\" fill-opacity=\"1.0\" stroke-width=\"3.3000000000000003\">\n        </line>\n        <line x1=\"263.4718735599421\" y1=\"195.4520547945206\" x2=\"263.4718735599421\" y2=\"152.5479452054795\" stroke=\"rgb(71,71,71)\" stroke-opacity=\"1.0\" fill=\"rgb(255,255,255)\" fill-opacity=\"1.0\" stroke-width=\"3.3000000000000003\">\n        </line>\n        <line x1=\"289.6793341367337\" y1=\"147.78082191780828\" x2=\"289.6793341367337\" y2=\"104.87671232876716\" stroke=\"rgb(71,71,71)\" stroke-opacity=\"1.0\" fill=\"rgb(255,255,255)\" fill-opacity=\"1.0\" stroke-width=\"3.3000000000000003\">\n        </line>\n        <line x1=\"251.58466995614515\" y1=\"100.10958904109594\" x2=\"251.58466995614515\" y2=\"57.20547945205482\" stroke=\"rgb(71,71,71)\" stroke-opacity=\"1.0\" fill=\"rgb(255,255,255)\" fill-opacity=\"1.0\" stroke-width=\"3.3000000000000003\">\n        </line>\n        <line x1=\"213.9071006388482\" y1=\"52.438356164383606\" x2=\"213.9071006388482\" y2=\"9.534246575342536\" stroke=\"rgb(71,71,71)\" stroke-opacity=\"1.0\" fill=\"rgb(255,255,255)\" fill-opacity=\"1.0\" stroke-width=\"3.3000000000000003\">\n        </line>\n        <line x1=\"255.47755534686246\" y1=\"317.013698630137\" x2=\"172.6842249835762\" y2=\"317.013698630137\" stroke=\"rgb(71,71,71)\" stroke-opacity=\"1.0\" fill=\"rgb(255,255,255)\" fill-opacity=\"1.0\" stroke-width=\"1.6500000000000001\">\n        </line>\n        <line x1=\"172.6842249835762\" y1=\"327.7397260273973\" x2=\"172.6842249835762\" y2=\"306.28767123287673\" stroke=\"rgb(71,71,71)\" stroke-opacity=\"1.0\" fill=\"rgb(255,255,255)\" fill-opacity=\"1.0\" stroke-width=\"1.6500000000000001\">\n        </line>\n        <line x1=\"319.0845219987574\" y1=\"317.013698630137\" x2=\"373.8629807109904\" y2=\"317.013698630137\" stroke=\"rgb(71,71,71)\" stroke-opacity=\"1.0\" fill=\"rgb(255,255,255)\" fill-opacity=\"1.0\" stroke-width=\"1.6500000000000001\">\n        </line>\n        <line x1=\"373.8629807109904\" y1=\"327.7397260273973\" x2=\"373.8629807109904\" y2=\"306.28767123287673\" stroke=\"rgb(71,71,71)\" stroke-opacity=\"1.0\" fill=\"rgb(255,255,255)\" fill-opacity=\"1.0\" stroke-width=\"1.6500000000000001\">\n        </line>\n        <line x1=\"227.705989032729\" y1=\"269.3424657534247\" x2=\"169.20843445615026\" y2=\"269.3424657534247\" stroke=\"rgb(71,71,71)\" stroke-opacity=\"1.0\" fill=\"rgb(255,255,255)\" fill-opacity=\"1.0\" stroke-width=\"1.6500000000000001\">\n        </line>\n        <line x1=\"169.20843445615026\" y1=\"280.06849315068496\" x2=\"169.20843445615026\" y2=\"258.6164383561644\" stroke=\"rgb(71,71,71)\" stroke-opacity=\"1.0\" fill=\"rgb(255,255,255)\" fill-opacity=\"1.0\" stroke-width=\"1.6500000000000001\">\n        </line>\n        <line x1=\"291.03489244242985\" y1=\"269.3424657534247\" x2=\"370.66525342575835\" y2=\"269.3424657534247\" stroke=\"rgb(71,71,71)\" stroke-opacity=\"1.0\" fill=\"rgb(255,255,255)\" fill-opacity=\"1.0\" stroke-width=\"1.6500000000000001\">\n        </line>\n        <line x1=\"370.66525342575835\" y1=\"280.06849315068496\" x2=\"370.66525342575835\" y2=\"258.6164383561644\" stroke=\"rgb(71,71,71)\" stroke-opacity=\"1.0\" fill=\"rgb(255,255,255)\" fill-opacity=\"1.0\" stroke-width=\"1.6500000000000001\">\n        </line>\n        <line x1=\"202.9583604774565\" y1=\"221.67123287671237\" x2=\"140.42888888906327\" y2=\"221.67123287671237\" stroke=\"rgb(71,71,71)\" stroke-opacity=\"1.0\" fill=\"rgb(255,255,255)\" fill-opacity=\"1.0\" stroke-width=\"1.6500000000000001\">\n        </line>\n        <line x1=\"140.42888888906327\" y1=\"232.39726027397265\" x2=\"140.42888888906327\" y2=\"210.94520547945208\" stroke=\"rgb(71,71,71)\" stroke-opacity=\"1.0\" fill=\"rgb(255,255,255)\" fill-opacity=\"1.0\" stroke-width=\"1.6500000000000001\">\n        </line>\n        <line x1=\"303.2696750989693\" y1=\"221.67123287671237\" x2=\"382.4829412190069\" y2=\"221.67123287671237\" stroke=\"rgb(71,71,71)\" stroke-opacity=\"1.0\" fill=\"rgb(255,255,255)\" fill-opacity=\"1.0\" stroke-width=\"1.6500000000000001\">\n        </line>\n        <line x1=\"382.4829412190069\" y1=\"232.39726027397265\" x2=\"382.4829412190069\" y2=\"210.94520547945208\" stroke=\"rgb(71,71,71)\" stroke-opacity=\"1.0\" fill=\"rgb(255,255,255)\" fill-opacity=\"1.0\" stroke-width=\"1.6500000000000001\">\n        </line>\n        <line x1=\"227.6712311274547\" y1=\"174.00000000000006\" x2=\"110.11999548990912\" y2=\"174.00000000000006\" stroke=\"rgb(71,71,71)\" stroke-opacity=\"1.0\" fill=\"rgb(255,255,255)\" fill-opacity=\"1.0\" stroke-width=\"1.6500000000000001\">\n        </line>\n        <line x1=\"110.11999548990912\" y1=\"184.7260273972603\" x2=\"110.11999548990912\" y2=\"163.27397260273978\" stroke=\"rgb(71,71,71)\" stroke-opacity=\"1.0\" fill=\"rgb(255,255,255)\" fill-opacity=\"1.0\" stroke-width=\"1.6500000000000001\">\n        </line>\n        <line x1=\"319.953469630614\" y1=\"174.00000000000006\" x2=\"429.33659752870847\" y2=\"174.00000000000006\" stroke=\"rgb(71,71,71)\" stroke-opacity=\"1.0\" fill=\"rgb(255,255,255)\" fill-opacity=\"1.0\" stroke-width=\"1.6500000000000001\">\n        </line>\n        <line x1=\"429.33659752870847\" y1=\"184.7260273972603\" x2=\"429.33659752870847\" y2=\"163.27397260273978\" stroke=\"rgb(71,71,71)\" stroke-opacity=\"1.0\" fill=\"rgb(255,255,255)\" fill-opacity=\"1.0\" stroke-width=\"1.6500000000000001\">\n        </line>\n        <line x1=\"263.1242945071996\" y1=\"126.32876712328772\" x2=\"224.9601145160624\" y2=\"126.32876712328772\" stroke=\"rgb(71,71,71)\" stroke-opacity=\"1.0\" fill=\"rgb(255,255,255)\" fill-opacity=\"1.0\" stroke-width=\"1.6500000000000001\">\n        </line>\n        <line x1=\"224.9601145160624\" y1=\"137.054794520548\" x2=\"224.9601145160624\" y2=\"115.60273972602747\" stroke=\"rgb(71,71,71)\" stroke-opacity=\"1.0\" fill=\"rgb(255,255,255)\" fill-opacity=\"1.0\" stroke-width=\"1.6500000000000001\">\n        </line>\n        <line x1=\"309.63037176415867\" y1=\"126.32876712328772\" x2=\"363.5746407498094\" y2=\"126.32876712328772\" stroke=\"rgb(71,71,71)\" stroke-opacity=\"1.0\" fill=\"rgb(255,255,255)\" fill-opacity=\"1.0\" stroke-width=\"1.6500000000000001\">\n        </line>\n        <line x1=\"363.5746407498094\" y1=\"137.054794520548\" x2=\"363.5746407498094\" y2=\"115.60273972602747\" stroke=\"rgb(71,71,71)\" stroke-opacity=\"1.0\" fill=\"rgb(255,255,255)\" fill-opacity=\"1.0\" stroke-width=\"1.6500000000000001\">\n        </line>\n        <line x1=\"225.1686619477083\" y1=\"78.65753424657538\" x2=\"164.06426447555975\" y2=\"78.65753424657538\" stroke=\"rgb(71,71,71)\" stroke-opacity=\"1.0\" fill=\"rgb(255,255,255)\" fill-opacity=\"1.0\" stroke-width=\"1.6500000000000001\">\n        </line>\n        <line x1=\"164.06426447555975\" y1=\"89.38356164383566\" x2=\"164.06426447555975\" y2=\"67.93150684931513\" stroke=\"rgb(71,71,71)\" stroke-opacity=\"1.0\" fill=\"rgb(255,255,255)\" fill-opacity=\"1.0\" stroke-width=\"1.6500000000000001\">\n        </line>\n        <line x1=\"273.8992451422199\" y1=\"78.65753424657538\" x2=\"324.3677236004447\" y2=\"78.65753424657538\" stroke=\"rgb(71,71,71)\" stroke-opacity=\"1.0\" fill=\"rgb(255,255,255)\" fill-opacity=\"1.0\" stroke-width=\"1.6500000000000001\">\n        </line>\n        <line x1=\"324.3677236004447\" y1=\"89.38356164383566\" x2=\"324.3677236004447\" y2=\"67.93150684931513\" stroke=\"rgb(71,71,71)\" stroke-opacity=\"1.0\" fill=\"rgb(255,255,255)\" fill-opacity=\"1.0\" stroke-width=\"1.6500000000000001\">\n        </line>\n        <line x1=\"170.8420560040405\" y1=\"30.9863013698631\" x2=\"132.50408648653217\" y2=\"30.9863013698631\" stroke=\"rgb(71,71,71)\" stroke-opacity=\"1.0\" fill=\"rgb(255,255,255)\" fill-opacity=\"1.0\" stroke-width=\"1.6500000000000001\">\n        </line>\n        <line x1=\"132.50408648653217\" y1=\"41.712328767123324\" x2=\"132.50408648653217\" y2=\"20.260273972602818\" stroke=\"rgb(71,71,71)\" stroke-opacity=\"1.0\" fill=\"rgb(255,255,255)\" fill-opacity=\"1.0\" stroke-width=\"1.6500000000000001\">\n        </line>\n        <line x1=\"249.70774307133536\" y1=\"30.9863013698631\" x2=\"338.8270121945369\" y2=\"30.9863013698631\" stroke=\"rgb(71,71,71)\" stroke-opacity=\"1.0\" fill=\"rgb(255,255,255)\" fill-opacity=\"1.0\" stroke-width=\"1.6500000000000001\">\n        </line>\n        <line x1=\"338.8270121945369\" y1=\"41.712328767123324\" x2=\"338.8270121945369\" y2=\"20.260273972602818\" stroke=\"rgb(71,71,71)\" stroke-opacity=\"1.0\" fill=\"rgb(255,255,255)\" fill-opacity=\"1.0\" stroke-width=\"1.6500000000000001\">\n        </line>\n      </g>\n      <g transform=\"translate(117.21880258897198 0.0 ) \" clip-path=\"url(#c1keCCY)\" clip-bounds-jfx=\"[rect (0.0, 0.0), (449.781197411028, 348.0)]\">\n        <defs>\n          <clipPath id=\"c1keCCY\">\n            <rect x=\"0.0\" y=\"0.0\" width=\"449.781197411028\" height=\"348.0\">\n            </rect>\n          </clipPath>\n        </defs>\n        <g>\n          \n          <g >\n            <circle fill=\"#474747\" stroke=\"#474747\" stroke-opacity=\"0.0\" stroke-width=\"0.0\" cx=\"398.193514402972\" cy=\"269.3424657534247\" r=\"3.3000000000000003\" />\n            <circle fill=\"#474747\" stroke=\"#474747\" stroke-opacity=\"0.0\" stroke-width=\"0.0\" cx=\"20.444599882319494\" cy=\"221.67123287671237\" r=\"3.3000000000000003\" />\n            <circle fill=\"#474747\" stroke=\"#474747\" stroke-opacity=\"0.0\" stroke-width=\"0.0\" cx=\"143.07048968990705\" cy=\"126.32876712328772\" r=\"3.3000000000000003\" />\n            <circle fill=\"#474747\" stroke=\"#474747\" stroke-opacity=\"0.0\" stroke-width=\"0.0\" cx=\"380.1194036603571\" cy=\"126.32876712328772\" r=\"3.3000000000000003\" />\n          </g>\n        </g>\n      </g>\n    </g>\n    <g transform=\"translate(14.5 184.0 ) rotate(-90.0 ) \">\n      <text class=\"axis-title-x\" y=\"0.0\" text-anchor=\"middle\">\n      country\n      </text>\n    </g>\n    <g transform=\"translate(365.109401294486 391.5 ) \">\n      <text class=\"axis-title-y\" y=\"0.0\" text-anchor=\"middle\">\n      lifeExp\n      </text>\n    </g>\n    <path fill=\"rgb(0,0,0)\" fill-opacity=\"0.0\" stroke=\"rgb(71,71,71)\" stroke-opacity=\"1.0\" stroke-width=\"0.0\" d=\"M0.0 0.0 L0.0 400.0 L600.0 400.0 L600.0 0.0 Z\">\n    </path>\n  </g>\n  <g id=\"dxNYq59\">\n  </g>\n</svg>\n        <script>document.getElementById(\"3c91f691-ad36-4182-bff8-e22ca9158e00\").style.display = \"none\";</script>",
      "application/plot+json": {
       "output_type": "lets_plot_spec",
       "output": {
        "mapping": {},
        "coord": {
         "name": "flip",
         "flip": true
        },
        "data": {},
        "kind": "plot",
        "scales": [
         {
          "aesthetic": "x",
          "name": "country",
          "limits": [
           null,
           null
          ]
         },
         {
          "aesthetic": "y",
          "name": "lifeExp",
          "limits": [
           null,
           null
          ]
         },
         {
          "aesthetic": "x",
          "discrete": true
         },
         {
          "aesthetic": "x",
          "discrete": true
         },
         {
          "aesthetic": "y",
          "limits": [
           null,
           null
          ]
         }
        ],
        "layers": [
         {
          "mapping": {
           "x": "x",
           "ymin": "min",
           "lower": "lower",
           "middle": "middle",
           "upper": "upper",
           "ymax": "max",
           "y": "y"
          },
          "stat": "identity",
          "data": {
           "min": [
            74.34,
            74.09,
            72.02,
            69.84,
            78.1,
            73.72,
            71.45
           ],
           "middle": [
            82.445,
            80.965,
            79.855,
            80.87,
            82.755,
            80.015,
            77.305
           ],
           "max": [
            88.81,
            88.58,
            89.43,
            92.8,
            88.07,
            85.25,
            86.29
           ],
           "lower": [
            80.295,
            78.2975,
            76.5175,
            78.295,
            80.845,
            78.115,
            74.2075
           ],
           "upper": [
            84.87,
            82.8525,
            83.7325,
            84.9325,
            84.19,
            81.62,
            79.88
           ],
           "x": [
            "Australia",
            "Canada",
            "China",
            "Germany",
            "Japan",
            "United Kingdom",
            "United States"
           ],
           "y": [
            null,
            null,
            null,
            null,
            null,
            null,
            null
           ]
          },
          "sampling": "none",
          "position": "identity",
          "geom": "boxplot"
         },
         {
          "mapping": {
           "x": "x",
           "y": "y"
          },
          "stat": "identity",
          "data": {
           "x": [
            "Canada",
            "China",
            "Japan",
            "Japan"
           ],
           "y": [
            90.56,
            63.39,
            72.21,
            89.26
           ]
          },
          "sampling": "none",
          "position": "identity",
          "geom": "point"
         }
        ]
       },
       "apply_color_scheme": true,
       "swing_enabled": true
      }
     },
     "execution_count": 3,
     "metadata": {},
     "output_type": "execute_result"
    }
   ],
   "source": [
    "lifeExpectancyData.boxplot(\"country\", \"lifeExp\").configure { coordFlip() }"
   ],
   "metadata": {
    "collapsed": false,
    "ExecuteTime": {
     "end_time": "2023-11-21T12:24:46.225945Z",
     "start_time": "2023-11-21T12:24:44.946229Z"
    }
   }
  }
 ],
 "metadata": {
  "kernelspec": {
   "display_name": "Kotlin",
   "language": "kotlin",
   "name": "kotlin"
  },
  "language_info": {
   "name": "kotlin",
   "version": "1.9.0",
   "mimetype": "text/x-kotlin",
   "file_extension": ".kt",
   "pygments_lexer": "kotlin",
   "codemirror_mode": "text/x-kotlin",
   "nbconvert_exporter": ""
  },
  "ktnbPluginMetadata": {
   "projectLibraries": []
  }
 },
 "nbformat": 4,
 "nbformat_minor": 0
}
