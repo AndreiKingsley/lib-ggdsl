{
 "cells": [
  {
   "cell_type": "code",
   "execution_count": null,
   "metadata": {
    "collapsed": true
   },
   "outputs": [],
   "source": [
    "%useLatestDescriptors\n",
    "%use dataframe\n",
    "%use kandy"
   ]
  },
  {
   "cell_type": "code",
   "execution_count": null,
   "outputs": [],
   "source": [
    "val data = dataFrameOf(\n",
    "    \"expr0\" to listOf(\n",
    "        850, 740, 900, 1070, 930, 850, 950, 980, 980,\n",
    "        880, 1000, 980, 930, 650, 760, 810, 1000, 1000, 960, 960\n",
    "    ),\n",
    "    \"expr1\" to listOf(\n",
    "        960, 940, 960, 940, 880, 800, 850, 880, 900, 840, 830,\n",
    "        790, 810, 880, 880, 830, 800, 790, 760, 800\n",
    "    ),\n",
    "    \"expr2\" to listOf(\n",
    "        880, 880, 880, 860, 720, 720, 620, 860, 970, 950,\n",
    "        880, 910, 850, 870, 840, 840, 850, 840, 840, 840\n",
    "    ),\n",
    "    \"expr3\" to listOf(\n",
    "        890, 810, 810, 820, 800, 770, 760, 740, 750,\n",
    "        760, 910, 920, 890, 860, 880, 720, 840, 850, 850, 780\n",
    "    ),\n",
    "    \"expr4\" to listOf(\n",
    "        890, 840, 780, 810, 760, 810, 790, 810, 820,\n",
    "        850, 870, 870, 810, 740, 810, 940, 950, 800, 810, 870\n",
    "    )\n",
    ").gather(\"expr0\", \"expr1\", \"expr2\", \"expr3\", \"expr4\").into(\"expr\", \"value\")"
   ],
   "metadata": {
    "collapsed": false
   }
  },
  {
   "cell_type": "code",
   "execution_count": null,
   "outputs": [],
   "source": [
    "data.plot {\n",
    "    boxplot(\"expr\", \"value\") {\n",
    "        boxes {\n",
    "            borderLine.color = Color.BLUE\n",
    "        }\n",
    "    }\n",
    "}"
   ],
   "metadata": {
    "collapsed": false
   }
  }
 ],
 "metadata": {
  "kernelspec": {
   "display_name": "Kotlin",
   "language": "kotlin",
   "name": "kotlin"
  },
  "language_info": {
   "name": "kotlin",
   "version": "1.9.0",
   "mimetype": "text/x-kotlin",
   "file_extension": ".kt",
   "pygments_lexer": "kotlin",
   "codemirror_mode": "text/x-kotlin",
   "nbconvert_exporter": ""
  }
 },
 "nbformat": 4,
 "nbformat_minor": 0
}
