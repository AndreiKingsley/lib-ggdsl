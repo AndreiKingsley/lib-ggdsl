{
 "cells": [
  {
   "cell_type": "code",
   "execution_count": null,
   "metadata": {
    "collapsed": true
   },
   "outputs": [],
   "source": [
    "%useLatestDescriptors\n",
    "%use dataframe\n",
    "%use kandy"
   ]
  },
  {
   "cell_type": "code",
   "execution_count": null,
   "outputs": [],
   "source": [
    "val random = kotlin.random.Random(42)\n",
    "fun generateData(category: String) =\n",
    "    dataFrameOf((0..<10).map { it.toString() }) { List(100) { random.nextDouble(0.0, 100.0) } }\n",
    "        .gather(*(0..<10).map { it.toString() }.toTypedArray())\n",
    "        .into(\"num\", \"value\").add(\"category\") { category }\n",
    "\n",
    "val data = generateData(\"category0\")\n",
    "    .concat(generateData(\"category1\"))\n",
    "    .concat(generateData(\"category2\"))"
   ],
   "metadata": {
    "collapsed": false
   }
  },
  {
   "cell_type": "code",
   "execution_count": null,
   "outputs": [],
   "source": [
    "data.groupBy(\"category\").plot {\n",
    "    boxplot(\"num\", \"value\") {\n",
    "        boxes {\n",
    "            position = Position.dodge()\n",
    "        }\n",
    "    }\n",
    "}"
   ],
   "metadata": {
    "collapsed": false
   }
  }
 ],
 "metadata": {
  "kernelspec": {
   "display_name": "Kotlin",
   "language": "kotlin",
   "name": "kotlin"
  },
  "language_info": {
   "name": "kotlin",
   "version": "1.9.0",
   "mimetype": "text/x-kotlin",
   "file_extension": ".kt",
   "pygments_lexer": "kotlin",
   "codemirror_mode": "text/x-kotlin",
   "nbconvert_exporter": ""
  }
 },
 "nbformat": 4,
 "nbformat_minor": 0
}
