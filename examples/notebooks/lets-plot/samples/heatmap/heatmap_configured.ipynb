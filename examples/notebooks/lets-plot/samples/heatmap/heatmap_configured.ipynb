{
 "cells": [
  {
   "cell_type": "code",
   "execution_count": 1,
   "metadata": {
    "collapsed": true,
    "ExecuteTime": {
     "end_time": "2023-11-22T11:20:17.339660Z",
     "start_time": "2023-11-22T11:20:06.873980Z"
    }
   },
   "outputs": [],
   "source": [
    "%useLatestDescriptors\n",
    "%use kandy\n",
    "%use dataframe"
   ]
  },
  {
   "cell_type": "code",
   "execution_count": 25,
   "outputs": [
    {
     "data": {
      "text/html": "            <iframe src='about:blank' style='border:none !important;' width='600' height='400' srcdoc=\"&lt;html lang=&quot;en&quot;>\n   &lt;head>\n       &lt;style> html, body { margin: 0; overflow: hidden; } &lt;/style>\n       &lt;script type=&quot;text/javascript&quot; data-lets-plot-script=&quot;library&quot; src=&quot;https://cdn.jsdelivr.net/gh/JetBrains/lets-plot@v4.0.1/js-package/distr/lets-plot.min.js&quot;>&lt;/script>\n   &lt;/head>\n   &lt;body>\n          &lt;div id=&quot;Numy7d&quot;>&lt;/div>\n   &lt;script type=&quot;text/javascript&quot; data-lets-plot-script=&quot;plot&quot;>\n       var plotSpec={\n&quot;mapping&quot;:{\n},\n&quot;data&quot;:{\n},\n&quot;kind&quot;:&quot;plot&quot;,\n&quot;scales&quot;:[{\n&quot;aesthetic&quot;:&quot;x&quot;,\n&quot;name&quot;:&quot;embarked&quot;,\n&quot;limits&quot;:[null,null]\n},{\n&quot;aesthetic&quot;:&quot;y&quot;,\n&quot;name&quot;:&quot;pclass&quot;,\n&quot;limits&quot;:[null,null]\n},{\n&quot;aesthetic&quot;:&quot;x&quot;,\n&quot;limits&quot;:[null,null]\n},{\n&quot;aesthetic&quot;:&quot;y&quot;,\n&quot;limits&quot;:[null,null]\n},{\n&quot;aesthetic&quot;:&quot;fill&quot;,\n&quot;scale_mapper_kind&quot;:&quot;color_gradient&quot;,\n&quot;high&quot;:&quot;#ee6666&quot;,\n&quot;low&quot;:&quot;#ffffff&quot;,\n&quot;name&quot;:&quot;number of\\n passangers&quot;,\n&quot;limits&quot;:[null,null]\n},{\n&quot;aesthetic&quot;:&quot;y&quot;,\n&quot;breaks&quot;:[1.0,2.0,3.0],\n&quot;format&quot;:&quot;d&quot;,\n&quot;limits&quot;:[null,null]\n}],\n&quot;layers&quot;:[{\n&quot;mapping&quot;:{\n&quot;x&quot;:&quot;x&quot;,\n&quot;y&quot;:&quot;y&quot;,\n&quot;fill&quot;:&quot;count&quot;\n},\n&quot;stat&quot;:&quot;identity&quot;,\n&quot;data&quot;:{\n&quot;x&quot;:[null,&quot;AA&quot;,&quot;S&quot;,&quot;C&quot;,&quot;Q&quot;,&quot;C&quot;,&quot;S&quot;,&quot;Q&quot;,&quot;S&quot;,&quot;C&quot;,&quot;Q&quot;],\n&quot;count&quot;:[3.0,1.0,175.0,141.0,3.0,28.0,242.0,7.0,495.0,101.0,113.0],\n&quot;y&quot;:[1.0,1.0,1.0,1.0,1.0,2.0,2.0,2.0,3.0,3.0,3.0]\n},\n&quot;size&quot;:0.8,\n&quot;color&quot;:&quot;#000000&quot;,\n&quot;sampling&quot;:&quot;none&quot;,\n&quot;position&quot;:&quot;identity&quot;,\n&quot;geom&quot;:&quot;tile&quot;\n}]\n};\n       var plotContainer = document.getElementById(&quot;Numy7d&quot;);\n       LetsPlot.buildPlotFromProcessedSpecs(plotSpec, -1, -1, plotContainer);\n   &lt;/script>\n   &lt;/body>\n&lt;/html>\"></iframe>            \n        <svg id=5f10a6cc-7be4-4d62-8e01-f29dc533615c xmlns=\"http://www.w3.org/2000/svg\" xmlns:xlink=\"http://www.w3.org/1999/xlink\" class=\"plt-container\" width=\"600.0\" height=\"400.0\">\n  <style type=\"text/css\">\n  .plt-container {\n   font-family: Lucida Grande, sans-serif;\n   user-select: none;\n   -webkit-user-select: none;\n   -moz-user-select: none;\n   -ms-user-select: none;\n}\ntext {\n   text-rendering: optimizeLegibility;\n}\n#pEyLajO .plot-title {\n   fill: #474747;\n   font-family: Lucida Grande, sans-serif;\n   font-size: 16.0px;\n   font-weight: normal;\n   font-style: normal;   \n}\n#pEyLajO .plot-subtitle {\n   fill: #474747;\n   font-family: Lucida Grande, sans-serif;\n   font-size: 15.0px;\n   font-weight: normal;\n   font-style: normal;   \n}\n#pEyLajO .plot-caption {\n   fill: #474747;\n   font-family: Lucida Grande, sans-serif;\n   font-size: 13.0px;\n   font-weight: normal;\n   font-style: normal;   \n}\n#pEyLajO .legend-title {\n   fill: #474747;\n   font-family: Lucida Grande, sans-serif;\n   font-size: 15.0px;\n   font-weight: normal;\n   font-style: normal;   \n}\n#pEyLajO .legend-item {\n   fill: #474747;\n   font-family: Lucida Grande, sans-serif;\n   font-size: 13.0px;\n   font-weight: normal;\n   font-style: normal;   \n}\n#pEyLajO .axis-title-x {\n   fill: #474747;\n   font-family: Lucida Grande, sans-serif;\n   font-size: 15.0px;\n   font-weight: normal;\n   font-style: normal;   \n}\n#pEyLajO .axis-text-x {\n   fill: #474747;\n   font-family: Lucida Grande, sans-serif;\n   font-size: 13.0px;\n   font-weight: normal;\n   font-style: normal;   \n}\n#dWBmUAq .axis-tooltip-text-x {\n   fill: #ffffff;\n   font-family: Lucida Grande, sans-serif;\n   font-size: 13.0px;\n   font-weight: normal;\n   font-style: normal;   \n}\n#pEyLajO .axis-title-y {\n   fill: #474747;\n   font-family: Lucida Grande, sans-serif;\n   font-size: 15.0px;\n   font-weight: normal;\n   font-style: normal;   \n}\n#pEyLajO .axis-text-y {\n   fill: #474747;\n   font-family: Lucida Grande, sans-serif;\n   font-size: 13.0px;\n   font-weight: normal;\n   font-style: normal;   \n}\n#dWBmUAq .axis-tooltip-text-y {\n   fill: #ffffff;\n   font-family: Lucida Grande, sans-serif;\n   font-size: 13.0px;\n   font-weight: normal;\n   font-style: normal;   \n}\n#pEyLajO .facet-strip-text-x {\n   fill: #474747;\n   font-family: Lucida Grande, sans-serif;\n   font-size: 13.0px;\n   font-weight: normal;\n   font-style: normal;   \n}\n#pEyLajO .facet-strip-text-y {\n   fill: #474747;\n   font-family: Lucida Grande, sans-serif;\n   font-size: 13.0px;\n   font-weight: normal;\n   font-style: normal;   \n}\n#dWBmUAq .tooltip-text {\n   fill: #474747;\n   font-family: Lucida Grande, sans-serif;\n   font-size: 13.0px;\n   font-weight: normal;\n   font-style: normal;   \n}\n#dWBmUAq .tooltip-title {\n   fill: #474747;\n   font-family: Lucida Grande, sans-serif;\n   font-size: 13.0px;\n   font-weight: bold;\n   font-style: normal;   \n}\n#dWBmUAq .tooltip-label {\n   fill: #474747;\n   font-family: Lucida Grande, sans-serif;\n   font-size: 13.0px;\n   font-weight: bold;\n   font-style: normal;   \n}\n\n  </style>\n  <g id=\"pEyLajO\">\n    <path fill-rule=\"evenodd\" fill=\"rgb(255,255,255)\" fill-opacity=\"1.0\" d=\"M0.0 0.0 L0.0 400.0 L600.0 400.0 L600.0 0.0 Z\">\n    </path>\n    <g transform=\"translate(23.0 15.391306597580865 ) \">\n      <g transform=\"translate(13.980605455468202 333.21738680483827 ) \">\n        <line x1=\"70.68247598890508\" y1=\"-0.0\" x2=\"70.68247598890508\" y2=\"-333.21738680483827\" stroke=\"rgb(233,233,233)\" stroke-opacity=\"1.0\" stroke-width=\"1.0\">\n        </line>\n        <line x1=\"171.6574416873409\" y1=\"-0.0\" x2=\"171.6574416873409\" y2=\"-333.21738680483827\" stroke=\"rgb(233,233,233)\" stroke-opacity=\"1.0\" stroke-width=\"1.0\">\n        </line>\n        <line x1=\"272.6324073857768\" y1=\"-0.0\" x2=\"272.6324073857768\" y2=\"-333.21738680483827\" stroke=\"rgb(233,233,233)\" stroke-opacity=\"1.0\" stroke-width=\"1.0\">\n        </line>\n        <line x1=\"373.6073730842126\" y1=\"-0.0\" x2=\"373.6073730842126\" y2=\"-333.21738680483827\" stroke=\"rgb(233,233,233)\" stroke-opacity=\"1.0\" stroke-width=\"1.0\">\n        </line>\n        <g transform=\"translate(70.68247598890508 0.0 ) \">\n          <line stroke-width=\"1.0\" stroke=\"rgb(71,71,71)\" stroke-opacity=\"1.0\" x2=\"0.0\" y2=\"4.0\">\n          </line>\n          <g transform=\"translate(0.0 7.0 ) \">\n            <text class=\"axis-text-x\" text-anchor=\"middle\" dy=\"0.7em\">\n            AA\n            </text>\n          </g>\n        </g>\n        <g transform=\"translate(171.6574416873409 0.0 ) \">\n          <line stroke-width=\"1.0\" stroke=\"rgb(71,71,71)\" stroke-opacity=\"1.0\" x2=\"0.0\" y2=\"4.0\">\n          </line>\n          <g transform=\"translate(0.0 7.0 ) \">\n            <text class=\"axis-text-x\" text-anchor=\"middle\" dy=\"0.7em\">\n            S\n            </text>\n          </g>\n        </g>\n        <g transform=\"translate(272.6324073857768 0.0 ) \">\n          <line stroke-width=\"1.0\" stroke=\"rgb(71,71,71)\" stroke-opacity=\"1.0\" x2=\"0.0\" y2=\"4.0\">\n          </line>\n          <g transform=\"translate(0.0 7.0 ) \">\n            <text class=\"axis-text-x\" text-anchor=\"middle\" dy=\"0.7em\">\n            C\n            </text>\n          </g>\n        </g>\n        <g transform=\"translate(373.6073730842126 0.0 ) \">\n          <line stroke-width=\"1.0\" stroke=\"rgb(71,71,71)\" stroke-opacity=\"1.0\" x2=\"0.0\" y2=\"4.0\">\n          </line>\n          <g transform=\"translate(0.0 7.0 ) \">\n            <text class=\"axis-text-x\" text-anchor=\"middle\" dy=\"0.7em\">\n            Q\n            </text>\n          </g>\n        </g>\n        <line x1=\"0.0\" y1=\"0.0\" x2=\"444.28984907311775\" y2=\"0.0\" stroke-width=\"1.0\" stroke=\"rgb(71,71,71)\" stroke-opacity=\"1.0\">\n        </line>\n      </g>\n      <g transform=\"translate(13.980605455468202 0.0 ) \">\n        <line x1=\"0.0\" y1=\"267.58365910085496\" x2=\"444.28984907311775\" y2=\"267.58365910085496\" stroke=\"rgb(233,233,233)\" stroke-opacity=\"1.0\" stroke-width=\"1.0\">\n        </line>\n        <line x1=\"0.0\" y1=\"166.6086934024191\" x2=\"444.28984907311775\" y2=\"166.6086934024191\" stroke=\"rgb(233,233,233)\" stroke-opacity=\"1.0\" stroke-width=\"1.0\">\n        </line>\n        <line x1=\"0.0\" y1=\"65.63372770398325\" x2=\"444.28984907311775\" y2=\"65.63372770398325\" stroke=\"rgb(233,233,233)\" stroke-opacity=\"1.0\" stroke-width=\"1.0\">\n        </line>\n        <g transform=\"translate(0.0 267.58365910085496 ) \">\n          <g transform=\"translate(-3.0 0.0 ) \">\n            <text class=\"axis-text-y\" text-anchor=\"end\" dy=\"0.35em\">\n            1\n            </text>\n          </g>\n        </g>\n        <g transform=\"translate(0.0 166.6086934024191 ) \">\n          <g transform=\"translate(-3.0 0.0 ) \">\n            <text class=\"axis-text-y\" text-anchor=\"end\" dy=\"0.35em\">\n            2\n            </text>\n          </g>\n        </g>\n        <g transform=\"translate(0.0 65.63372770398325 ) \">\n          <g transform=\"translate(-3.0 0.0 ) \">\n            <text class=\"axis-text-y\" text-anchor=\"end\" dy=\"0.35em\">\n            3\n            </text>\n          </g>\n        </g>\n      </g>\n      <g transform=\"translate(13.980605455468202 0.0 ) \" clip-path=\"url(#cRKCWLq)\" clip-bounds-jfx=\"[rect (0.0, 0.0), (444.28984907311775, 333.21738680483827)]\">\n        <defs>\n          <clipPath id=\"cRKCWLq\">\n            <rect x=\"0.0\" y=\"0.0\" width=\"444.28984907311775\" height=\"333.21738680483827\">\n            </rect>\n          </clipPath>\n        </defs>\n        <g>\n          \n          <g >\n            <rect fill=\"#ffffff\" stroke=\"#000000\" stroke-width=\"1.7600000000000002\" x=\"20.194993139687163\" y=\"217.09617625163702\" height=\"100.97496569843582\" width=\"100.97496569843582\" />\n            <rect fill=\"#f9c7c7\" stroke=\"#000000\" stroke-width=\"1.7600000000000002\" x=\"121.169958838123\" y=\"217.09617625163702\" height=\"100.97496569843582\" width=\"100.97496569843585\" />\n            <rect fill=\"#fad2d2\" stroke=\"#000000\" stroke-width=\"1.7600000000000002\" x=\"222.14492453655885\" y=\"217.09617625163702\" height=\"100.97496569843582\" width=\"100.97496569843582\" />\n            <rect fill=\"#fffefe\" stroke=\"#000000\" stroke-width=\"1.7600000000000002\" x=\"323.11989023499467\" y=\"217.09617625163702\" height=\"100.97496569843582\" width=\"100.97496569843582\" />\n            <rect fill=\"#fef6f6\" stroke=\"#000000\" stroke-width=\"1.7600000000000002\" x=\"222.14492453655885\" y=\"116.1212105532012\" height=\"100.97496569843582\" width=\"100.97496569843582\" />\n            <rect fill=\"#f6b2b2\" stroke=\"#000000\" stroke-width=\"1.7600000000000002\" x=\"121.169958838123\" y=\"116.1212105532012\" height=\"100.97496569843582\" width=\"100.97496569843585\" />\n            <rect fill=\"#fffdfd\" stroke=\"#000000\" stroke-width=\"1.7600000000000002\" x=\"323.11989023499467\" y=\"116.1212105532012\" height=\"100.97496569843582\" width=\"100.97496569843582\" />\n            <rect fill=\"#ed6666\" stroke=\"#000000\" stroke-width=\"1.7600000000000002\" x=\"121.169958838123\" y=\"15.14624485476537\" height=\"100.97496569843582\" width=\"100.97496569843585\" />\n            <rect fill=\"#fbdede\" stroke=\"#000000\" stroke-width=\"1.7600000000000002\" x=\"222.14492453655885\" y=\"15.14624485476537\" height=\"100.97496569843582\" width=\"100.97496569843582\" />\n            <rect fill=\"#fbdbdb\" stroke=\"#000000\" stroke-width=\"1.7600000000000002\" x=\"323.11989023499467\" y=\"15.14624485476537\" height=\"100.97496569843582\" width=\"100.97496569843582\" />\n          </g>\n        </g>\n      </g>\n    </g>\n    <g transform=\"translate(14.5 182.0 ) rotate(-90.0 ) \">\n      <text class=\"axis-title-y\" y=\"0.0\" text-anchor=\"middle\">\n      pclass\n      </text>\n    </g>\n    <g transform=\"translate(259.12552999202705 386.10869340241914 ) \">\n      <text class=\"axis-title-x\" y=\"0.0\" text-anchor=\"middle\">\n      embarked\n      </text>\n    </g>\n    <g transform=\"translate(491.27045452858596 95.75 ) \">\n      <rect x=\"5.0\" y=\"5.0\" height=\"162.5\" width=\"98.72954547141403\" stroke=\"rgb(71,71,71)\" stroke-opacity=\"1.0\" stroke-width=\"0.0\" fill=\"rgb(255,255,255)\" fill-opacity=\"1.0\">\n      </rect>\n      <g transform=\"translate(10.0 10.0 ) \">\n        <g transform=\"translate(0.0 10.5 ) \">\n          <text class=\"legend-title\" y=\"0.0\">\n          number of\n          </text>\n          <text class=\"legend-title\" y=\"15.0\">\n          passangers\n          </text>\n        </g>\n        <g transform=\"translate(0.0 37.5 ) \">\n          <g>\n            <rect x=\"0.0\" y=\"0.0\" height=\"115.0\" width=\"23.0\" stroke-width=\"0.0\" fill=\"rgb(238,106,106)\" fill-opacity=\"1.0\">\n            </rect>\n            <rect x=\"0.0\" y=\"7.55\" height=\"107.45\" width=\"23.0\" stroke-width=\"0.0\" fill=\"rgb(238,113,113)\" fill-opacity=\"1.0\">\n            </rect>\n            <rect x=\"0.0\" y=\"13.1\" height=\"101.9\" width=\"23.0\" stroke-width=\"0.0\" fill=\"rgb(239,120,120)\" fill-opacity=\"1.0\">\n            </rect>\n            <rect x=\"0.0\" y=\"18.65\" height=\"96.35\" width=\"23.0\" stroke-width=\"0.0\" fill=\"rgb(240,127,127)\" fill-opacity=\"1.0\">\n            </rect>\n            <rect x=\"0.0\" y=\"24.2\" height=\"90.8\" width=\"23.0\" stroke-width=\"0.0\" fill=\"rgb(241,135,135)\" fill-opacity=\"1.0\">\n            </rect>\n            <rect x=\"0.0\" y=\"29.75\" height=\"85.25\" width=\"23.0\" stroke-width=\"0.0\" fill=\"rgb(242,142,142)\" fill-opacity=\"1.0\">\n            </rect>\n            <rect x=\"0.0\" y=\"35.3\" height=\"79.7\" width=\"23.0\" stroke-width=\"0.0\" fill=\"rgb(243,149,149)\" fill-opacity=\"1.0\">\n            </rect>\n            <rect x=\"0.0\" y=\"40.849999999999994\" height=\"74.15\" width=\"23.0\" stroke-width=\"0.0\" fill=\"rgb(244,157,157)\" fill-opacity=\"1.0\">\n            </rect>\n            <rect x=\"0.0\" y=\"46.39999999999999\" height=\"68.60000000000001\" width=\"23.0\" stroke-width=\"0.0\" fill=\"rgb(245,165,165)\" fill-opacity=\"1.0\">\n            </rect>\n            <rect x=\"0.0\" y=\"51.94999999999999\" height=\"63.05000000000001\" width=\"23.0\" stroke-width=\"0.0\" fill=\"rgb(246,172,172)\" fill-opacity=\"1.0\">\n            </rect>\n            <rect x=\"0.0\" y=\"57.499999999999986\" height=\"57.500000000000014\" width=\"23.0\" stroke-width=\"0.0\" fill=\"rgb(247,180,180)\" fill-opacity=\"1.0\">\n            </rect>\n            <rect x=\"0.0\" y=\"63.04999999999998\" height=\"51.95000000000002\" width=\"23.0\" stroke-width=\"0.0\" fill=\"rgb(247,187,187)\" fill-opacity=\"1.0\">\n            </rect>\n            <rect x=\"0.0\" y=\"68.59999999999998\" height=\"46.40000000000002\" width=\"23.0\" stroke-width=\"0.0\" fill=\"rgb(248,195,195)\" fill-opacity=\"1.0\">\n            </rect>\n            <rect x=\"0.0\" y=\"74.14999999999998\" height=\"40.85000000000002\" width=\"23.0\" stroke-width=\"0.0\" fill=\"rgb(249,203,203)\" fill-opacity=\"1.0\">\n            </rect>\n            <rect x=\"0.0\" y=\"79.69999999999997\" height=\"35.300000000000026\" width=\"23.0\" stroke-width=\"0.0\" fill=\"rgb(250,211,211)\" fill-opacity=\"1.0\">\n            </rect>\n            <rect x=\"0.0\" y=\"85.24999999999997\" height=\"29.75000000000003\" width=\"23.0\" stroke-width=\"0.0\" fill=\"rgb(251,219,219)\" fill-opacity=\"1.0\">\n            </rect>\n            <rect x=\"0.0\" y=\"90.79999999999997\" height=\"24.20000000000003\" width=\"23.0\" stroke-width=\"0.0\" fill=\"rgb(252,227,227)\" fill-opacity=\"1.0\">\n            </rect>\n            <rect x=\"0.0\" y=\"96.34999999999997\" height=\"18.650000000000034\" width=\"23.0\" stroke-width=\"0.0\" fill=\"rgb(253,235,235)\" fill-opacity=\"1.0\">\n            </rect>\n            <rect x=\"0.0\" y=\"101.89999999999996\" height=\"13.100000000000037\" width=\"23.0\" stroke-width=\"0.0\" fill=\"rgb(254,243,243)\" fill-opacity=\"1.0\">\n            </rect>\n            <rect x=\"0.0\" y=\"107.44999999999996\" height=\"7.55000000000004\" width=\"23.0\" stroke-width=\"0.0\" fill=\"rgb(255,251,251)\" fill-opacity=\"1.0\">\n            </rect>\n            <line x1=\"0.0\" y1=\"90.75506072874494\" x2=\"4.6\" y2=\"90.75506072874494\" stroke-width=\"1.0\" stroke=\"rgb(255,255,255)\" stroke-opacity=\"1.0\">\n            </line>\n            <line x1=\"18.4\" y1=\"90.75506072874494\" x2=\"23.0\" y2=\"90.75506072874494\" stroke-width=\"1.0\" stroke=\"rgb(255,255,255)\" stroke-opacity=\"1.0\">\n            </line>\n            <g transform=\"translate(26.9903027277341 95.30506072874493 ) \">\n              <text class=\"legend-item\" y=\"0.0\">\n              100\n              </text>\n            </g>\n            <line x1=\"0.0\" y1=\"68.28542510121457\" x2=\"4.6\" y2=\"68.28542510121457\" stroke-width=\"1.0\" stroke=\"rgb(255,255,255)\" stroke-opacity=\"1.0\">\n            </line>\n            <line x1=\"18.4\" y1=\"68.28542510121457\" x2=\"23.0\" y2=\"68.28542510121457\" stroke-width=\"1.0\" stroke=\"rgb(255,255,255)\" stroke-opacity=\"1.0\">\n            </line>\n            <g transform=\"translate(26.9903027277341 72.83542510121457 ) \">\n              <text class=\"legend-item\" y=\"0.0\">\n              200\n              </text>\n            </g>\n            <line x1=\"0.0\" y1=\"45.815789473684205\" x2=\"4.6\" y2=\"45.815789473684205\" stroke-width=\"1.0\" stroke=\"rgb(255,255,255)\" stroke-opacity=\"1.0\">\n            </line>\n            <line x1=\"18.4\" y1=\"45.815789473684205\" x2=\"23.0\" y2=\"45.815789473684205\" stroke-width=\"1.0\" stroke=\"rgb(255,255,255)\" stroke-opacity=\"1.0\">\n            </line>\n            <g transform=\"translate(26.9903027277341 50.3657894736842 ) \">\n              <text class=\"legend-item\" y=\"0.0\">\n              300\n              </text>\n            </g>\n            <line x1=\"0.0\" y1=\"23.34615384615384\" x2=\"4.6\" y2=\"23.34615384615384\" stroke-width=\"1.0\" stroke=\"rgb(255,255,255)\" stroke-opacity=\"1.0\">\n            </line>\n            <line x1=\"18.4\" y1=\"23.34615384615384\" x2=\"23.0\" y2=\"23.34615384615384\" stroke-width=\"1.0\" stroke=\"rgb(255,255,255)\" stroke-opacity=\"1.0\">\n            </line>\n            <g transform=\"translate(26.9903027277341 27.896153846153837 ) \">\n              <text class=\"legend-item\" y=\"0.0\">\n              400\n              </text>\n            </g>\n          </g>\n        </g>\n      </g>\n    </g>\n    <path fill=\"rgb(0,0,0)\" fill-opacity=\"0.0\" stroke=\"rgb(71,71,71)\" stroke-opacity=\"1.0\" stroke-width=\"0.0\" d=\"M0.0 0.0 L0.0 400.0 L600.0 400.0 L600.0 0.0 Z\">\n    </path>\n  </g>\n  <g id=\"dWBmUAq\">\n  </g>\n</svg>\n        <script>document.getElementById(\"5f10a6cc-7be4-4d62-8e01-f29dc533615c\").style.display = \"none\";</script>",
      "application/plot+json": {
       "output_type": "lets_plot_spec",
       "output": {
        "mapping": {},
        "data": {},
        "kind": "plot",
        "scales": [
         {
          "aesthetic": "x",
          "name": "embarked",
          "limits": [
           null,
           null
          ]
         },
         {
          "aesthetic": "y",
          "name": "pclass",
          "limits": [
           null,
           null
          ]
         },
         {
          "aesthetic": "x",
          "limits": [
           null,
           null
          ]
         },
         {
          "aesthetic": "y",
          "limits": [
           null,
           null
          ]
         },
         {
          "aesthetic": "fill",
          "scale_mapper_kind": "color_gradient",
          "high": "#ee6666",
          "low": "#ffffff",
          "name": "number of\n passangers",
          "limits": [
           null,
           null
          ]
         },
         {
          "aesthetic": "y",
          "breaks": [
           1.0,
           2.0,
           3.0
          ],
          "format": "d",
          "limits": [
           null,
           null
          ]
         }
        ],
        "layers": [
         {
          "mapping": {
           "x": "x",
           "y": "y",
           "fill": "count"
          },
          "stat": "identity",
          "data": {
           "x": [
            null,
            "AA",
            "S",
            "C",
            "Q",
            "C",
            "S",
            "Q",
            "S",
            "C",
            "Q"
           ],
           "count": [
            3.0,
            1.0,
            175.0,
            141.0,
            3.0,
            28.0,
            242.0,
            7.0,
            495.0,
            101.0,
            113.0
           ],
           "y": [
            1.0,
            1.0,
            1.0,
            1.0,
            1.0,
            2.0,
            2.0,
            2.0,
            3.0,
            3.0,
            3.0
           ]
          },
          "size": 0.8,
          "color": "#000000",
          "sampling": "none",
          "position": "identity",
          "geom": "tile"
         }
        ]
       },
       "apply_color_scheme": true,
       "swing_enabled": true
      }
     },
     "execution_count": 25,
     "metadata": {},
     "output_type": "execute_result"
    }
   ],
   "source": [
    "val df = DataFrame.readCSV(\n",
    "    fileOrUrl = \"https://raw.githubusercontent.com/Kotlin/dataframe/master/examples/idea-examples/titanic/src/main/resources/titanic.csv\",\n",
    "    delimiter = ';', parserOptions = ParserOptions(locale = java.util.Locale.FRENCH)\n",
    ")\n",
    "\n",
    "df.plot {\n",
    "    heatmap(\"embarked\", \"pclass\") {\n",
    "        borderLine {\n",
    "            width = 0.8\n",
    "            color = Color.BLACK\n",
    "        }\n",
    "        fillColor(Stat.count) {\n",
    "            scale = continuous(Color.WHITE..Color.RED)\n",
    "            legend.name = \"number of\\n passangers\"\n",
    "        }\n",
    "    }\n",
    "    y.axis.breaks(df[\"pclass\"].distinct().toList(), format = \"d\")\n",
    "}"
   ],
   "metadata": {
    "collapsed": false,
    "ExecuteTime": {
     "end_time": "2023-11-22T11:36:43.555482Z",
     "start_time": "2023-11-22T11:36:42.790751Z"
    }
   }
  }
 ],
 "metadata": {
  "kernelspec": {
   "display_name": "Kotlin",
   "language": "kotlin",
   "name": "kotlin"
  },
  "language_info": {
   "name": "kotlin",
   "version": "1.9.0",
   "mimetype": "text/x-kotlin",
   "file_extension": ".kt",
   "pygments_lexer": "kotlin",
   "codemirror_mode": "text/x-kotlin",
   "nbconvert_exporter": ""
  },
  "ktnbPluginMetadata": {
   "projectLibraries": []
  }
 },
 "nbformat": 4,
 "nbformat_minor": 0
}
