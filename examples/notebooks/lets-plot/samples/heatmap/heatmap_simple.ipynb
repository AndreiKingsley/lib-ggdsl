{
 "cells": [
  {
   "cell_type": "code",
   "execution_count": 2,
   "metadata": {
    "collapsed": true,
    "ExecuteTime": {
     "end_time": "2023-11-22T11:16:14.603118Z",
     "start_time": "2023-11-22T11:16:07.644678Z"
    }
   },
   "outputs": [],
   "source": [
    "%useLatestDescriptors\n",
    "%use kandy"
   ]
  },
  {
   "cell_type": "code",
   "execution_count": 5,
   "outputs": [
    {
     "data": {
      "text/html": "            <iframe src='about:blank' style='border:none !important;' width='600' height='400' srcdoc=\"&lt;html lang=&quot;en&quot;>\n   &lt;head>\n       &lt;style> html, body { margin: 0; overflow: hidden; } &lt;/style>\n       &lt;script type=&quot;text/javascript&quot; data-lets-plot-script=&quot;library&quot; src=&quot;https://cdn.jsdelivr.net/gh/JetBrains/lets-plot@v4.0.1/js-package/distr/lets-plot.min.js&quot;>&lt;/script>\n   &lt;/head>\n   &lt;body>\n          &lt;div id=&quot;axi3Lq&quot;>&lt;/div>\n   &lt;script type=&quot;text/javascript&quot; data-lets-plot-script=&quot;plot&quot;>\n       var plotSpec={\n&quot;mapping&quot;:{\n},\n&quot;data&quot;:{\n},\n&quot;kind&quot;:&quot;plot&quot;,\n&quot;scales&quot;:[{\n&quot;aesthetic&quot;:&quot;x&quot;,\n&quot;name&quot;:&quot;x&quot;,\n&quot;limits&quot;:[null,null]\n},{\n&quot;aesthetic&quot;:&quot;y&quot;,\n&quot;name&quot;:&quot;y&quot;,\n&quot;limits&quot;:[null,null]\n},{\n&quot;aesthetic&quot;:&quot;x&quot;,\n&quot;discrete&quot;:true\n},{\n&quot;aesthetic&quot;:&quot;y&quot;,\n&quot;discrete&quot;:true\n},{\n&quot;aesthetic&quot;:&quot;fill&quot;,\n&quot;scale_mapper_kind&quot;:&quot;color_gradient&quot;,\n&quot;limits&quot;:[null,null]\n}],\n&quot;layers&quot;:[{\n&quot;mapping&quot;:{\n&quot;x&quot;:&quot;x&quot;,\n&quot;y&quot;:&quot;y&quot;,\n&quot;fill&quot;:&quot;count&quot;\n},\n&quot;stat&quot;:&quot;identity&quot;,\n&quot;data&quot;:{\n&quot;count&quot;:[8.0,8.0,5.0,5.0,8.0,4.0,4.0,3.0,9.0,6.0,7.0,5.0,7.0,5.0,4.0,5.0,4.0,4.0,7.0,3.0,1.0],\n&quot;x&quot;:[&quot;Thu&quot;,&quot;Sun&quot;,&quot;Tue&quot;,&quot;Sat&quot;,&quot;Mon&quot;,&quot;Wed&quot;,&quot;Fri&quot;,&quot;Sun&quot;,&quot;Sat&quot;,&quot;Fri&quot;,&quot;Wed&quot;,&quot;Mon&quot;,&quot;Thu&quot;,&quot;Sun&quot;,&quot;Sat&quot;,&quot;Tue&quot;,&quot;Thu&quot;,&quot;Fri&quot;,&quot;Tue&quot;,&quot;Wed&quot;,&quot;Mon&quot;],\n&quot;y&quot;:[&quot;soda&quot;,&quot;tea&quot;,&quot;coffee&quot;,&quot;tea&quot;,&quot;soda&quot;,&quot;tea&quot;,&quot;coffee&quot;,&quot;soda&quot;,&quot;coffee&quot;,&quot;tea&quot;,&quot;soda&quot;,&quot;coffee&quot;,&quot;tea&quot;,&quot;coffee&quot;,&quot;soda&quot;,&quot;tea&quot;,&quot;coffee&quot;,&quot;soda&quot;,&quot;soda&quot;,&quot;coffee&quot;,&quot;tea&quot;]\n},\n&quot;sampling&quot;:&quot;none&quot;,\n&quot;position&quot;:&quot;identity&quot;,\n&quot;geom&quot;:&quot;tile&quot;\n}]\n};\n       var plotContainer = document.getElementById(&quot;axi3Lq&quot;);\n       LetsPlot.buildPlotFromProcessedSpecs(plotSpec, -1, -1, plotContainer);\n   &lt;/script>\n   &lt;/body>\n&lt;/html>\"></iframe>            \n        <svg id=e9f63785-e623-46fc-827a-b8808fdb3063 xmlns=\"http://www.w3.org/2000/svg\" xmlns:xlink=\"http://www.w3.org/1999/xlink\" class=\"plt-container\" width=\"600.0\" height=\"400.0\">\n  <style type=\"text/css\">\n  .plt-container {\n   font-family: Lucida Grande, sans-serif;\n   user-select: none;\n   -webkit-user-select: none;\n   -moz-user-select: none;\n   -ms-user-select: none;\n}\ntext {\n   text-rendering: optimizeLegibility;\n}\n#pGXsGd2 .plot-title {\n   fill: #474747;\n   font-family: Lucida Grande, sans-serif;\n   font-size: 16.0px;\n   font-weight: normal;\n   font-style: normal;   \n}\n#pGXsGd2 .plot-subtitle {\n   fill: #474747;\n   font-family: Lucida Grande, sans-serif;\n   font-size: 15.0px;\n   font-weight: normal;\n   font-style: normal;   \n}\n#pGXsGd2 .plot-caption {\n   fill: #474747;\n   font-family: Lucida Grande, sans-serif;\n   font-size: 13.0px;\n   font-weight: normal;\n   font-style: normal;   \n}\n#pGXsGd2 .legend-title {\n   fill: #474747;\n   font-family: Lucida Grande, sans-serif;\n   font-size: 15.0px;\n   font-weight: normal;\n   font-style: normal;   \n}\n#pGXsGd2 .legend-item {\n   fill: #474747;\n   font-family: Lucida Grande, sans-serif;\n   font-size: 13.0px;\n   font-weight: normal;\n   font-style: normal;   \n}\n#pGXsGd2 .axis-title-x {\n   fill: #474747;\n   font-family: Lucida Grande, sans-serif;\n   font-size: 15.0px;\n   font-weight: normal;\n   font-style: normal;   \n}\n#pGXsGd2 .axis-text-x {\n   fill: #474747;\n   font-family: Lucida Grande, sans-serif;\n   font-size: 13.0px;\n   font-weight: normal;\n   font-style: normal;   \n}\n#d1uETJl .axis-tooltip-text-x {\n   fill: #ffffff;\n   font-family: Lucida Grande, sans-serif;\n   font-size: 13.0px;\n   font-weight: normal;\n   font-style: normal;   \n}\n#pGXsGd2 .axis-title-y {\n   fill: #474747;\n   font-family: Lucida Grande, sans-serif;\n   font-size: 15.0px;\n   font-weight: normal;\n   font-style: normal;   \n}\n#pGXsGd2 .axis-text-y {\n   fill: #474747;\n   font-family: Lucida Grande, sans-serif;\n   font-size: 13.0px;\n   font-weight: normal;\n   font-style: normal;   \n}\n#d1uETJl .axis-tooltip-text-y {\n   fill: #ffffff;\n   font-family: Lucida Grande, sans-serif;\n   font-size: 13.0px;\n   font-weight: normal;\n   font-style: normal;   \n}\n#pGXsGd2 .facet-strip-text-x {\n   fill: #474747;\n   font-family: Lucida Grande, sans-serif;\n   font-size: 13.0px;\n   font-weight: normal;\n   font-style: normal;   \n}\n#pGXsGd2 .facet-strip-text-y {\n   fill: #474747;\n   font-family: Lucida Grande, sans-serif;\n   font-size: 13.0px;\n   font-weight: normal;\n   font-style: normal;   \n}\n#d1uETJl .tooltip-text {\n   fill: #474747;\n   font-family: Lucida Grande, sans-serif;\n   font-size: 13.0px;\n   font-weight: normal;\n   font-style: normal;   \n}\n#d1uETJl .tooltip-title {\n   fill: #474747;\n   font-family: Lucida Grande, sans-serif;\n   font-size: 13.0px;\n   font-weight: bold;\n   font-style: normal;   \n}\n#d1uETJl .tooltip-label {\n   fill: #474747;\n   font-family: Lucida Grande, sans-serif;\n   font-size: 13.0px;\n   font-weight: bold;\n   font-style: normal;   \n}\n\n  </style>\n  <g id=\"pGXsGd2\">\n    <path fill-rule=\"evenodd\" fill=\"rgb(255,255,255)\" fill-opacity=\"1.0\" d=\"M0.0 0.0 L0.0 400.0 L600.0 400.0 L600.0 0.0 Z\">\n    </path>\n    <g transform=\"translate(23.0 77.1874173937889 ) \">\n      <g transform=\"translate(48.06940244056283 209.62516521242222 ) \">\n        <line x1=\"43.15812224961633\" y1=\"-0.0\" x2=\"43.15812224961633\" y2=\"-209.62516521242222\" stroke=\"rgb(233,233,233)\" stroke-opacity=\"1.0\" stroke-width=\"1.0\">\n        </line>\n        <line x1=\"104.8125826062111\" y1=\"-0.0\" x2=\"104.8125826062111\" y2=\"-209.62516521242222\" stroke=\"rgb(233,233,233)\" stroke-opacity=\"1.0\" stroke-width=\"1.0\">\n        </line>\n        <line x1=\"166.46704296280586\" y1=\"-0.0\" x2=\"166.46704296280586\" y2=\"-209.62516521242222\" stroke=\"rgb(233,233,233)\" stroke-opacity=\"1.0\" stroke-width=\"1.0\">\n        </line>\n        <line x1=\"228.1215033194006\" y1=\"-0.0\" x2=\"228.1215033194006\" y2=\"-209.62516521242222\" stroke=\"rgb(233,233,233)\" stroke-opacity=\"1.0\" stroke-width=\"1.0\">\n        </line>\n        <line x1=\"289.7759636759954\" y1=\"-0.0\" x2=\"289.7759636759954\" y2=\"-209.62516521242222\" stroke=\"rgb(233,233,233)\" stroke-opacity=\"1.0\" stroke-width=\"1.0\">\n        </line>\n        <line x1=\"351.4304240325901\" y1=\"-0.0\" x2=\"351.4304240325901\" y2=\"-209.62516521242222\" stroke=\"rgb(233,233,233)\" stroke-opacity=\"1.0\" stroke-width=\"1.0\">\n        </line>\n        <line x1=\"413.0848843891849\" y1=\"-0.0\" x2=\"413.0848843891849\" y2=\"-209.62516521242222\" stroke=\"rgb(233,233,233)\" stroke-opacity=\"1.0\" stroke-width=\"1.0\">\n        </line>\n        <g transform=\"translate(43.15812224961633 0.0 ) \">\n          <line stroke-width=\"1.0\" stroke=\"rgb(71,71,71)\" stroke-opacity=\"1.0\" x2=\"0.0\" y2=\"4.0\">\n          </line>\n          <g transform=\"translate(0.0 7.0 ) \">\n            <text class=\"axis-text-x\" text-anchor=\"middle\" dy=\"0.7em\">\n            Thu\n            </text>\n          </g>\n        </g>\n        <g transform=\"translate(104.8125826062111 0.0 ) \">\n          <line stroke-width=\"1.0\" stroke=\"rgb(71,71,71)\" stroke-opacity=\"1.0\" x2=\"0.0\" y2=\"4.0\">\n          </line>\n          <g transform=\"translate(0.0 7.0 ) \">\n            <text class=\"axis-text-x\" text-anchor=\"middle\" dy=\"0.7em\">\n            Sun\n            </text>\n          </g>\n        </g>\n        <g transform=\"translate(166.46704296280586 0.0 ) \">\n          <line stroke-width=\"1.0\" stroke=\"rgb(71,71,71)\" stroke-opacity=\"1.0\" x2=\"0.0\" y2=\"4.0\">\n          </line>\n          <g transform=\"translate(0.0 7.0 ) \">\n            <text class=\"axis-text-x\" text-anchor=\"middle\" dy=\"0.7em\">\n            Tue\n            </text>\n          </g>\n        </g>\n        <g transform=\"translate(228.1215033194006 0.0 ) \">\n          <line stroke-width=\"1.0\" stroke=\"rgb(71,71,71)\" stroke-opacity=\"1.0\" x2=\"0.0\" y2=\"4.0\">\n          </line>\n          <g transform=\"translate(0.0 7.0 ) \">\n            <text class=\"axis-text-x\" text-anchor=\"middle\" dy=\"0.7em\">\n            Sat\n            </text>\n          </g>\n        </g>\n        <g transform=\"translate(289.7759636759954 0.0 ) \">\n          <line stroke-width=\"1.0\" stroke=\"rgb(71,71,71)\" stroke-opacity=\"1.0\" x2=\"0.0\" y2=\"4.0\">\n          </line>\n          <g transform=\"translate(0.0 7.0 ) \">\n            <text class=\"axis-text-x\" text-anchor=\"middle\" dy=\"0.7em\">\n            Mon\n            </text>\n          </g>\n        </g>\n        <g transform=\"translate(351.4304240325901 0.0 ) \">\n          <line stroke-width=\"1.0\" stroke=\"rgb(71,71,71)\" stroke-opacity=\"1.0\" x2=\"0.0\" y2=\"4.0\">\n          </line>\n          <g transform=\"translate(0.0 7.0 ) \">\n            <text class=\"axis-text-x\" text-anchor=\"middle\" dy=\"0.7em\">\n            Wed\n            </text>\n          </g>\n        </g>\n        <g transform=\"translate(413.0848843891849 0.0 ) \">\n          <line stroke-width=\"1.0\" stroke=\"rgb(71,71,71)\" stroke-opacity=\"1.0\" x2=\"0.0\" y2=\"4.0\">\n          </line>\n          <g transform=\"translate(0.0 7.0 ) \">\n            <text class=\"axis-text-x\" text-anchor=\"middle\" dy=\"0.7em\">\n            Fri\n            </text>\n          </g>\n        </g>\n        <line x1=\"0.0\" y1=\"0.0\" x2=\"456.24300663880126\" y2=\"0.0\" stroke-width=\"1.0\" stroke=\"rgb(71,71,71)\" stroke-opacity=\"1.0\">\n        </line>\n      </g>\n      <g transform=\"translate(48.06940244056283 0.0 ) \">\n        <line x1=\"0.0\" y1=\"166.4670429628059\" x2=\"456.24300663880126\" y2=\"166.4670429628059\" stroke=\"rgb(233,233,233)\" stroke-opacity=\"1.0\" stroke-width=\"1.0\">\n        </line>\n        <line x1=\"0.0\" y1=\"104.81258260621112\" x2=\"456.24300663880126\" y2=\"104.81258260621112\" stroke=\"rgb(233,233,233)\" stroke-opacity=\"1.0\" stroke-width=\"1.0\">\n        </line>\n        <line x1=\"0.0\" y1=\"43.15812224961637\" x2=\"456.24300663880126\" y2=\"43.15812224961637\" stroke=\"rgb(233,233,233)\" stroke-opacity=\"1.0\" stroke-width=\"1.0\">\n        </line>\n        <g transform=\"translate(0.0 166.4670429628059 ) \">\n          <g transform=\"translate(-3.0 0.0 ) \">\n            <text class=\"axis-text-y\" text-anchor=\"end\" dy=\"0.35em\">\n            soda\n            </text>\n          </g>\n        </g>\n        <g transform=\"translate(0.0 104.81258260621112 ) \">\n          <g transform=\"translate(-3.0 0.0 ) \">\n            <text class=\"axis-text-y\" text-anchor=\"end\" dy=\"0.35em\">\n            tea\n            </text>\n          </g>\n        </g>\n        <g transform=\"translate(0.0 43.15812224961637 ) \">\n          <g transform=\"translate(-3.0 0.0 ) \">\n            <text class=\"axis-text-y\" text-anchor=\"end\" dy=\"0.35em\">\n            coffee\n            </text>\n          </g>\n        </g>\n      </g>\n      <g transform=\"translate(48.06940244056283 0.0 ) \" clip-path=\"url(#cFDNG1H)\" clip-bounds-jfx=\"[rect (0.0, 0.0), (456.24300663880126, 209.62516521242222)]\">\n        <defs>\n          <clipPath id=\"cFDNG1H\">\n            <rect x=\"0.0\" y=\"0.0\" width=\"456.24300663880126\" height=\"209.62516521242222\">\n            </rect>\n          </clipPath>\n        </defs>\n        <g>\n          \n          <g >\n            <rect fill=\"#4d9fe1\" stroke=\"#ffffff\" stroke-width=\"0.0\" x=\"12.330892071318953\" y=\"135.6398127845085\" height=\"61.65446035659477\" width=\"61.654460356594754\" />\n            <rect fill=\"#4d9fe1\" stroke=\"#ffffff\" stroke-width=\"0.0\" x=\"73.98535242791371\" y=\"73.98535242791375\" height=\"61.654460356594754\" width=\"61.65446035659477\" />\n            <rect fill=\"#316b9d\" stroke=\"#ffffff\" stroke-width=\"0.0\" x=\"135.63981278450848\" y=\"12.330892071319\" height=\"61.654460356594754\" width=\"61.65446035659474\" />\n            <rect fill=\"#316b9d\" stroke=\"#ffffff\" stroke-width=\"0.0\" x=\"197.29427314110322\" y=\"73.98535242791375\" height=\"61.654460356594754\" width=\"61.6544603565948\" />\n            <rect fill=\"#4d9fe1\" stroke=\"#ffffff\" stroke-width=\"0.0\" x=\"258.948733497698\" y=\"135.6398127845085\" height=\"61.65446035659477\" width=\"61.65446035659471\" />\n            <rect fill=\"#295a86\" stroke=\"#ffffff\" stroke-width=\"0.0\" x=\"320.6031938542927\" y=\"73.98535242791375\" height=\"61.654460356594754\" width=\"61.65446035659477\" />\n            <rect fill=\"#295a86\" stroke=\"#ffffff\" stroke-width=\"0.0\" x=\"382.2576542108875\" y=\"12.330892071319\" height=\"61.654460356594754\" width=\"61.65446035659477\" />\n            <rect fill=\"#214a70\" stroke=\"#ffffff\" stroke-width=\"0.0\" x=\"73.98535242791371\" y=\"135.6398127845085\" height=\"61.65446035659477\" width=\"61.65446035659477\" />\n            <rect fill=\"#57b1f7\" stroke=\"#ffffff\" stroke-width=\"0.0\" x=\"197.29427314110322\" y=\"12.330892071319\" height=\"61.654460356594754\" width=\"61.6544603565948\" />\n            <rect fill=\"#3a7cb3\" stroke=\"#ffffff\" stroke-width=\"0.0\" x=\"382.2576542108875\" y=\"73.98535242791375\" height=\"61.654460356594754\" width=\"61.65446035659477\" />\n            <rect fill=\"#438dca\" stroke=\"#ffffff\" stroke-width=\"0.0\" x=\"320.6031938542927\" y=\"135.6398127845085\" height=\"61.65446035659477\" width=\"61.65446035659477\" />\n            <rect fill=\"#316b9d\" stroke=\"#ffffff\" stroke-width=\"0.0\" x=\"258.948733497698\" y=\"12.330892071319\" height=\"61.654460356594754\" width=\"61.65446035659471\" />\n            <rect fill=\"#438dca\" stroke=\"#ffffff\" stroke-width=\"0.0\" x=\"12.330892071318953\" y=\"73.98535242791375\" height=\"61.654460356594754\" width=\"61.654460356594754\" />\n            <rect fill=\"#316b9d\" stroke=\"#ffffff\" stroke-width=\"0.0\" x=\"73.98535242791371\" y=\"12.330892071319\" height=\"61.654460356594754\" width=\"61.65446035659477\" />\n            <rect fill=\"#295a86\" stroke=\"#ffffff\" stroke-width=\"0.0\" x=\"197.29427314110322\" y=\"135.6398127845085\" height=\"61.65446035659477\" width=\"61.6544603565948\" />\n            <rect fill=\"#316b9d\" stroke=\"#ffffff\" stroke-width=\"0.0\" x=\"135.63981278450848\" y=\"73.98535242791375\" height=\"61.654460356594754\" width=\"61.65446035659474\" />\n            <rect fill=\"#295a86\" stroke=\"#ffffff\" stroke-width=\"0.0\" x=\"12.330892071318953\" y=\"12.330892071319\" height=\"61.654460356594754\" width=\"61.654460356594754\" />\n            <rect fill=\"#295a86\" stroke=\"#ffffff\" stroke-width=\"0.0\" x=\"382.2576542108875\" y=\"135.6398127845085\" height=\"61.65446035659477\" width=\"61.65446035659477\" />\n            <rect fill=\"#438dca\" stroke=\"#ffffff\" stroke-width=\"0.0\" x=\"135.63981278450848\" y=\"135.6398127845085\" height=\"61.65446035659477\" width=\"61.65446035659474\" />\n            <rect fill=\"#214a70\" stroke=\"#ffffff\" stroke-width=\"0.0\" x=\"320.6031938542927\" y=\"12.330892071319\" height=\"61.654460356594754\" width=\"61.65446035659477\" />\n            <rect fill=\"#132a42\" stroke=\"#ffffff\" stroke-width=\"0.0\" x=\"258.948733497698\" y=\"73.98535242791375\" height=\"61.654460356594754\" width=\"61.65446035659471\" />\n          </g>\n        </g>\n      </g>\n    </g>\n    <g transform=\"translate(14.5 182.0 ) rotate(-90.0 ) \">\n      <text class=\"axis-title-y\" y=\"0.0\" text-anchor=\"middle\">\n      y\n      </text>\n    </g>\n    <g transform=\"translate(299.19090575996347 324.3125826062111 ) \">\n      <text class=\"axis-title-x\" y=\"0.0\" text-anchor=\"middle\">\n      x\n      </text>\n    </g>\n    <g transform=\"translate(537.3124090793641 103.25 ) \">\n      <rect x=\"5.0\" y=\"5.0\" height=\"147.5\" width=\"52.68759092063594\" stroke=\"rgb(71,71,71)\" stroke-opacity=\"1.0\" stroke-width=\"0.0\" fill=\"rgb(255,255,255)\" fill-opacity=\"1.0\">\n      </rect>\n      <g transform=\"translate(10.0 10.0 ) \">\n        <g transform=\"translate(0.0 10.5 ) \">\n          <text class=\"legend-title\" y=\"0.0\">\n          count\n          </text>\n        </g>\n        <g transform=\"translate(0.0 22.5 ) \">\n          <g>\n            <rect x=\"0.0\" y=\"0.0\" height=\"115.0\" width=\"23.0\" stroke-width=\"0.0\" fill=\"rgb(85,174,243)\" fill-opacity=\"1.0\">\n            </rect>\n            <rect x=\"0.0\" y=\"7.55\" height=\"107.45\" width=\"23.0\" stroke-width=\"0.0\" fill=\"rgb(81,166,234)\" fill-opacity=\"1.0\">\n            </rect>\n            <rect x=\"0.0\" y=\"13.1\" height=\"101.9\" width=\"23.0\" stroke-width=\"0.0\" fill=\"rgb(77,159,225)\" fill-opacity=\"1.0\">\n            </rect>\n            <rect x=\"0.0\" y=\"18.65\" height=\"96.35\" width=\"23.0\" stroke-width=\"0.0\" fill=\"rgb(73,152,216)\" fill-opacity=\"1.0\">\n            </rect>\n            <rect x=\"0.0\" y=\"24.2\" height=\"90.8\" width=\"23.0\" stroke-width=\"0.0\" fill=\"rgb(69,145,207)\" fill-opacity=\"1.0\">\n            </rect>\n            <rect x=\"0.0\" y=\"29.75\" height=\"85.25\" width=\"23.0\" stroke-width=\"0.0\" fill=\"rgb(65,138,198)\" fill-opacity=\"1.0\">\n            </rect>\n            <rect x=\"0.0\" y=\"35.3\" height=\"79.7\" width=\"23.0\" stroke-width=\"0.0\" fill=\"rgb(62,131,189)\" fill-opacity=\"1.0\">\n            </rect>\n            <rect x=\"0.0\" y=\"40.849999999999994\" height=\"74.15\" width=\"23.0\" stroke-width=\"0.0\" fill=\"rgb(58,124,179)\" fill-opacity=\"1.0\">\n            </rect>\n            <rect x=\"0.0\" y=\"46.39999999999999\" height=\"68.60000000000001\" width=\"23.0\" stroke-width=\"0.0\" fill=\"rgb(55,117,170)\" fill-opacity=\"1.0\">\n            </rect>\n            <rect x=\"0.0\" y=\"51.94999999999999\" height=\"63.05000000000001\" width=\"23.0\" stroke-width=\"0.0\" fill=\"rgb(51,110,161)\" fill-opacity=\"1.0\">\n            </rect>\n            <rect x=\"0.0\" y=\"57.499999999999986\" height=\"57.500000000000014\" width=\"23.0\" stroke-width=\"0.0\" fill=\"rgb(48,103,152)\" fill-opacity=\"1.0\">\n            </rect>\n            <rect x=\"0.0\" y=\"63.04999999999998\" height=\"51.95000000000002\" width=\"23.0\" stroke-width=\"0.0\" fill=\"rgb(44,97,143)\" fill-opacity=\"1.0\">\n            </rect>\n            <rect x=\"0.0\" y=\"68.59999999999998\" height=\"46.40000000000002\" width=\"23.0\" stroke-width=\"0.0\" fill=\"rgb(41,90,134)\" fill-opacity=\"1.0\">\n            </rect>\n            <rect x=\"0.0\" y=\"74.14999999999998\" height=\"40.85000000000002\" width=\"23.0\" stroke-width=\"0.0\" fill=\"rgb(38,83,125)\" fill-opacity=\"1.0\">\n            </rect>\n            <rect x=\"0.0\" y=\"79.69999999999997\" height=\"35.300000000000026\" width=\"23.0\" stroke-width=\"0.0\" fill=\"rgb(35,77,116)\" fill-opacity=\"1.0\">\n            </rect>\n            <rect x=\"0.0\" y=\"85.24999999999997\" height=\"29.75000000000003\" width=\"23.0\" stroke-width=\"0.0\" fill=\"rgb(32,70,107)\" fill-opacity=\"1.0\">\n            </rect>\n            <rect x=\"0.0\" y=\"90.79999999999997\" height=\"24.20000000000003\" width=\"23.0\" stroke-width=\"0.0\" fill=\"rgb(29,64,98)\" fill-opacity=\"1.0\">\n            </rect>\n            <rect x=\"0.0\" y=\"96.34999999999997\" height=\"18.650000000000034\" width=\"23.0\" stroke-width=\"0.0\" fill=\"rgb(26,58,89)\" fill-opacity=\"1.0\">\n            </rect>\n            <rect x=\"0.0\" y=\"101.89999999999996\" height=\"13.100000000000037\" width=\"23.0\" stroke-width=\"0.0\" fill=\"rgb(23,52,80)\" fill-opacity=\"1.0\">\n            </rect>\n            <rect x=\"0.0\" y=\"107.44999999999996\" height=\"7.55000000000004\" width=\"23.0\" stroke-width=\"0.0\" fill=\"rgb(20,45,71)\" fill-opacity=\"1.0\">\n            </rect>\n            <line x1=\"0.0\" y1=\"99.125\" x2=\"4.6\" y2=\"99.125\" stroke-width=\"1.0\" stroke=\"rgb(255,255,255)\" stroke-opacity=\"1.0\">\n            </line>\n            <line x1=\"18.4\" y1=\"99.125\" x2=\"23.0\" y2=\"99.125\" stroke-width=\"1.0\" stroke=\"rgb(255,255,255)\" stroke-opacity=\"1.0\">\n            </line>\n            <g transform=\"translate(26.9903027277341 103.675 ) \">\n              <text class=\"legend-item\" y=\"0.0\">\n              2\n              </text>\n            </g>\n            <line x1=\"0.0\" y1=\"71.375\" x2=\"4.6\" y2=\"71.375\" stroke-width=\"1.0\" stroke=\"rgb(255,255,255)\" stroke-opacity=\"1.0\">\n            </line>\n            <line x1=\"18.4\" y1=\"71.375\" x2=\"23.0\" y2=\"71.375\" stroke-width=\"1.0\" stroke=\"rgb(255,255,255)\" stroke-opacity=\"1.0\">\n            </line>\n            <g transform=\"translate(26.9903027277341 75.925 ) \">\n              <text class=\"legend-item\" y=\"0.0\">\n              4\n              </text>\n            </g>\n            <line x1=\"0.0\" y1=\"43.625\" x2=\"4.6\" y2=\"43.625\" stroke-width=\"1.0\" stroke=\"rgb(255,255,255)\" stroke-opacity=\"1.0\">\n            </line>\n            <line x1=\"18.4\" y1=\"43.625\" x2=\"23.0\" y2=\"43.625\" stroke-width=\"1.0\" stroke=\"rgb(255,255,255)\" stroke-opacity=\"1.0\">\n            </line>\n            <g transform=\"translate(26.9903027277341 48.175 ) \">\n              <text class=\"legend-item\" y=\"0.0\">\n              6\n              </text>\n            </g>\n            <line x1=\"0.0\" y1=\"15.875\" x2=\"4.6\" y2=\"15.875\" stroke-width=\"1.0\" stroke=\"rgb(255,255,255)\" stroke-opacity=\"1.0\">\n            </line>\n            <line x1=\"18.4\" y1=\"15.875\" x2=\"23.0\" y2=\"15.875\" stroke-width=\"1.0\" stroke=\"rgb(255,255,255)\" stroke-opacity=\"1.0\">\n            </line>\n            <g transform=\"translate(26.9903027277341 20.424999999999997 ) \">\n              <text class=\"legend-item\" y=\"0.0\">\n              8\n              </text>\n            </g>\n          </g>\n        </g>\n      </g>\n    </g>\n    <path fill=\"rgb(0,0,0)\" fill-opacity=\"0.0\" stroke=\"rgb(71,71,71)\" stroke-opacity=\"1.0\" stroke-width=\"0.0\" d=\"M0.0 0.0 L0.0 400.0 L600.0 400.0 L600.0 0.0 Z\">\n    </path>\n  </g>\n  <g id=\"d1uETJl\">\n  </g>\n</svg>\n        <script>document.getElementById(\"e9f63785-e623-46fc-827a-b8808fdb3063\").style.display = \"none\";</script>",
      "application/plot+json": {
       "output_type": "lets_plot_spec",
       "output": {
        "mapping": {},
        "data": {},
        "kind": "plot",
        "scales": [
         {
          "aesthetic": "x",
          "name": "x",
          "limits": [
           null,
           null
          ]
         },
         {
          "aesthetic": "y",
          "name": "y",
          "limits": [
           null,
           null
          ]
         },
         {
          "aesthetic": "x",
          "discrete": true
         },
         {
          "aesthetic": "y",
          "discrete": true
         },
         {
          "aesthetic": "fill",
          "scale_mapper_kind": "color_gradient",
          "limits": [
           null,
           null
          ]
         }
        ],
        "layers": [
         {
          "mapping": {
           "x": "x",
           "y": "y",
           "fill": "count"
          },
          "stat": "identity",
          "data": {
           "x": [
            "Thu",
            "Sun",
            "Tue",
            "Sat",
            "Mon",
            "Wed",
            "Fri",
            "Sun",
            "Sat",
            "Fri",
            "Wed",
            "Mon",
            "Thu",
            "Sun",
            "Sat",
            "Tue",
            "Thu",
            "Fri",
            "Tue",
            "Wed",
            "Mon"
           ],
           "count": [
            8.0,
            8.0,
            5.0,
            5.0,
            8.0,
            4.0,
            4.0,
            3.0,
            9.0,
            6.0,
            7.0,
            5.0,
            7.0,
            5.0,
            4.0,
            5.0,
            4.0,
            4.0,
            7.0,
            3.0,
            1.0
           ],
           "y": [
            "soda",
            "tea",
            "coffee",
            "tea",
            "soda",
            "tea",
            "coffee",
            "soda",
            "coffee",
            "tea",
            "soda",
            "coffee",
            "tea",
            "coffee",
            "soda",
            "tea",
            "coffee",
            "soda",
            "soda",
            "coffee",
            "tea"
           ]
          },
          "sampling": "none",
          "position": "identity",
          "geom": "tile"
         }
        ]
       },
       "apply_color_scheme": true,
       "swing_enabled": true
      }
     },
     "execution_count": 5,
     "metadata": {},
     "output_type": "execute_result"
    }
   ],
   "source": [
    "val days = listOf(\n",
    "    \"Thu\", \"Sun\", \"Tue\", \"Sat\", \"Mon\", \"Wed\", \"Fri\", \"Sun\",\n",
    "    \"Sat\", \"Thu\", \"Fri\", \"Tue\", \"Wed\", \"Sun\", \"Mon\", \"Thu\",\n",
    "    \"Sun\", \"Sat\", \"Tue\", \"Mon\", \"Thu\", \"Wed\", \"Fri\", \"Sat\",\n",
    "    \"Tue\", \"Sun\", \"Fri\", \"Sat\", \"Thu\", \"Mon\", \"Wed\", \"Tue\",\n",
    "    \"Thu\", \"Mon\", \"Sun\", \"Fri\", \"Wed\", \"Sat\", \"Tue\", \"Thu\",\n",
    "    \"Sat\", \"Tue\", \"Sun\", \"Mon\", \"Wed\", \"Fri\", \"Thu\", \"Sat\",\n",
    "    \"Thu\", \"Fri\", \"Sun\", \"Tue\", \"Sat\", \"Wed\", \"Mon\", \"Thu\",\n",
    "    \"Wed\", \"Tue\", \"Sat\", \"Fri\", \"Sun\", \"Thu\", \"Mon\", \"Tue\",\n",
    "    \"Fri\", \"Thu\", \"Wed\", \"Sun\", \"Sat\", \"Mon\", \"Tue\", \"Thu\",\n",
    "    \"Tue\", \"Wed\", \"Sun\", \"Mon\", \"Thu\", \"Sat\", \"Fri\", \"Tue\",\n",
    "    \"Thu\", \"Sun\", \"Fri\", \"Sat\", \"Mon\", \"Wed\", \"Tue\", \"Thu\",\n",
    "    \"Sat\", \"Mon\", \"Tue\", \"Thu\", \"Fri\", \"Sun\", \"Wed\", \"Sat\",\n",
    "    \"Sun\", \"Fri\", \"Tue\", \"Thu\", \"Sat\", \"Mon\", \"Wed\", \"Sun\",\n",
    "    \"Mon\", \"Wed\", \"Sat\", \"Fri\", \"Thu\", \"Tue\", \"Sun\", \"Sat\",\n",
    ")\n",
    "val drinks = listOf(\n",
    "    \"soda\", \"tea\", \"coffee\", \"tea\", \"soda\", \"tea\", \"coffee\", \"soda\",\n",
    "    \"coffee\", \"soda\", \"tea\", \"coffee\", \"soda\", \"tea\", \"coffee\", \"tea\",\n",
    "    \"coffee\", \"soda\", \"tea\", \"soda\", \"coffee\", \"tea\", \"soda\", \"coffee\",\n",
    "    \"soda\", \"tea\", \"coffee\", \"tea\", \"soda\", \"coffee\", \"tea\", \"soda\",\n",
    "    \"tea\", \"soda\", \"coffee\", \"tea\", \"soda\", \"coffee\", \"soda\", \"tea\",\n",
    "    \"coffee\", \"soda\", \"tea\", \"soda\", \"coffee\", \"tea\", \"soda\", \"coffee\",\n",
    "    \"soda\", \"coffee\", \"tea\", \"soda\", \"coffee\", \"soda\", \"tea\", \"coffee\",\n",
    "    \"soda\", \"coffee\", \"tea\", \"soda\", \"tea\", \"soda\", \"coffee\", \"tea\",\n",
    "    \"tea\", \"coffee\", \"soda\", \"tea\", \"coffee\", \"soda\", \"tea\", \"soda\",\n",
    "    \"tea\", \"soda\", \"coffee\", \"soda\", \"tea\", \"coffee\", \"soda\", \"coffee\",\n",
    "    \"tea\", \"coffee\", \"soda\", \"tea\", \"soda\", \"coffee\", \"soda\", \"tea\",\n",
    "    \"coffee\", \"soda\", \"tea\", \"coffee\", \"tea\", \"soda\", \"coffee\", \"soda\",\n",
    "    \"soda\", \"tea\", \"coffee\", \"soda\", \"tea\", \"coffee\", \"soda\", \"tea\",\n",
    "    \"coffee\", \"tea\", \"soda\", \"coffee\", \"tea\", \"soda\", \"coffee\", \"soda\"\n",
    ")\n",
    "\n",
    "plot {\n",
    "    heatmap(days, drinks)\n",
    "}"
   ],
   "metadata": {
    "collapsed": false,
    "ExecuteTime": {
     "end_time": "2023-11-22T11:16:34.254661Z",
     "start_time": "2023-11-22T11:16:33.348296Z"
    }
   }
  }
 ],
 "metadata": {
  "kernelspec": {
   "display_name": "Kotlin",
   "language": "kotlin",
   "name": "kotlin"
  },
  "language_info": {
   "name": "kotlin",
   "version": "1.9.0",
   "mimetype": "text/x-kotlin",
   "file_extension": ".kt",
   "pygments_lexer": "kotlin",
   "codemirror_mode": "text/x-kotlin",
   "nbconvert_exporter": ""
  },
  "ktnbPluginMetadata": {
   "projectLibraries": []
  }
 },
 "nbformat": 4,
 "nbformat_minor": 0
}
