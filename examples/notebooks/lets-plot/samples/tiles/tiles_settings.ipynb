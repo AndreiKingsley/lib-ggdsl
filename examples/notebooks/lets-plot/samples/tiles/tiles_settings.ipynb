{
 "cells": [
  {
   "cell_type": "code",
   "execution_count": 1,
   "metadata": {
    "collapsed": true,
    "ExecuteTime": {
     "end_time": "2023-11-20T23:51:00.009129Z",
     "start_time": "2023-11-20T23:50:58.497538Z"
    }
   },
   "outputs": [],
   "source": [
    "%useLatestDescriptors\n",
    "%use dataframe\n",
    "%use kandy"
   ]
  },
  {
   "cell_type": "code",
   "execution_count": 2,
   "outputs": [],
   "source": [
    "val data = dataFrameOf(\n",
    "    \"store\" to listOf(\"A\", \"B\", \"C\", \"A\", \"B\", \"C\", \"A\", \"B\", \"C\"),\n",
    "    \"time\" to listOf(\n",
    "        \"morning\", \"morning\", \"morning\",\n",
    "        \"afternoon\", \"afternoon\", \"afternoon\",\n",
    "        \"evening\", \"evening\", \"evening\"\n",
    "    ),\n",
    "    \"money\" to listOf(75, 64, 59, 82, 88, 91, 69, 77, 73)\n",
    ")"
   ],
   "metadata": {
    "collapsed": false,
    "ExecuteTime": {
     "end_time": "2023-11-20T23:51:01.898132Z",
     "start_time": "2023-11-20T23:51:01.476804Z"
    }
   }
  },
  {
   "cell_type": "code",
   "execution_count": 3,
   "outputs": [
    {
     "data": {
      "text/html": "            <iframe src='about:blank' style='border:none !important;' width='600' height='400' srcdoc=\"&lt;html lang=&quot;en&quot;>\n   &lt;head>\n       &lt;style> html, body { margin: 0; overflow: hidden; } &lt;/style>\n       &lt;script type=&quot;text/javascript&quot; data-lets-plot-script=&quot;library&quot; src=&quot;https://cdn.jsdelivr.net/gh/JetBrains/lets-plot@v4.0.1/js-package/distr/lets-plot.min.js&quot;>&lt;/script>\n   &lt;/head>\n   &lt;body>\n          &lt;div id=&quot;7t04qx&quot;>&lt;/div>\n   &lt;script type=&quot;text/javascript&quot; data-lets-plot-script=&quot;plot&quot;>\n       var plotSpec={\n&quot;mapping&quot;:{\n},\n&quot;data&quot;:{\n&quot;money&quot;:[75.0,64.0,59.0,82.0,88.0,91.0,69.0,77.0,73.0],\n&quot;store&quot;:[&quot;A&quot;,&quot;B&quot;,&quot;C&quot;,&quot;A&quot;,&quot;B&quot;,&quot;C&quot;,&quot;A&quot;,&quot;B&quot;,&quot;C&quot;],\n&quot;time&quot;:[&quot;morning&quot;,&quot;morning&quot;,&quot;morning&quot;,&quot;afternoon&quot;,&quot;afternoon&quot;,&quot;afternoon&quot;,&quot;evening&quot;,&quot;evening&quot;,&quot;evening&quot;]\n},\n&quot;kind&quot;:&quot;plot&quot;,\n&quot;scales&quot;:[{\n&quot;aesthetic&quot;:&quot;x&quot;,\n&quot;discrete&quot;:true\n},{\n&quot;aesthetic&quot;:&quot;y&quot;,\n&quot;discrete&quot;:true\n},{\n&quot;aesthetic&quot;:&quot;fill&quot;,\n&quot;scale_mapper_kind&quot;:&quot;color_gradient&quot;,\n&quot;high&quot;:&quot;#3ba272&quot;,\n&quot;low&quot;:&quot;#ee6666&quot;,\n&quot;limits&quot;:[null,null]\n}],\n&quot;layers&quot;:[{\n&quot;mapping&quot;:{\n&quot;x&quot;:&quot;store&quot;,\n&quot;y&quot;:&quot;time&quot;,\n&quot;fill&quot;:&quot;money&quot;\n},\n&quot;stat&quot;:&quot;identity&quot;,\n&quot;size&quot;:0.8,\n&quot;color&quot;:&quot;#000000&quot;,\n&quot;sampling&quot;:&quot;none&quot;,\n&quot;alpha&quot;:0.5,\n&quot;position&quot;:&quot;identity&quot;,\n&quot;geom&quot;:&quot;tile&quot;,\n&quot;height&quot;:0.7,\n&quot;data&quot;:{\n}\n}]\n};\n       var plotContainer = document.getElementById(&quot;7t04qx&quot;);\n       LetsPlot.buildPlotFromProcessedSpecs(plotSpec, -1, -1, plotContainer);\n   &lt;/script>\n   &lt;/body>\n&lt;/html>\"></iframe>            \n        <svg id=02b46e5a-2994-494f-a865-f234de24f180 xmlns=\"http://www.w3.org/2000/svg\" xmlns:xlink=\"http://www.w3.org/1999/xlink\" class=\"plt-container\" width=\"600.0\" height=\"400.0\">\n  <style type=\"text/css\">\n  .plt-container {\n   font-family: Lucida Grande, sans-serif;\n   user-select: none;\n   -webkit-user-select: none;\n   -moz-user-select: none;\n   -ms-user-select: none;\n}\ntext {\n   text-rendering: optimizeLegibility;\n}\n#po9a9Ah .plot-title {\n   fill: #474747;\n   font-family: Lucida Grande, sans-serif;\n   font-size: 16.0px;\n   font-weight: normal;\n   font-style: normal;   \n}\n#po9a9Ah .plot-subtitle {\n   fill: #474747;\n   font-family: Lucida Grande, sans-serif;\n   font-size: 15.0px;\n   font-weight: normal;\n   font-style: normal;   \n}\n#po9a9Ah .plot-caption {\n   fill: #474747;\n   font-family: Lucida Grande, sans-serif;\n   font-size: 13.0px;\n   font-weight: normal;\n   font-style: normal;   \n}\n#po9a9Ah .legend-title {\n   fill: #474747;\n   font-family: Lucida Grande, sans-serif;\n   font-size: 15.0px;\n   font-weight: normal;\n   font-style: normal;   \n}\n#po9a9Ah .legend-item {\n   fill: #474747;\n   font-family: Lucida Grande, sans-serif;\n   font-size: 13.0px;\n   font-weight: normal;\n   font-style: normal;   \n}\n#po9a9Ah .axis-title-x {\n   fill: #474747;\n   font-family: Lucida Grande, sans-serif;\n   font-size: 15.0px;\n   font-weight: normal;\n   font-style: normal;   \n}\n#po9a9Ah .axis-text-x {\n   fill: #474747;\n   font-family: Lucida Grande, sans-serif;\n   font-size: 13.0px;\n   font-weight: normal;\n   font-style: normal;   \n}\n#dmgpIKp .axis-tooltip-text-x {\n   fill: #ffffff;\n   font-family: Lucida Grande, sans-serif;\n   font-size: 13.0px;\n   font-weight: normal;\n   font-style: normal;   \n}\n#po9a9Ah .axis-title-y {\n   fill: #474747;\n   font-family: Lucida Grande, sans-serif;\n   font-size: 15.0px;\n   font-weight: normal;\n   font-style: normal;   \n}\n#po9a9Ah .axis-text-y {\n   fill: #474747;\n   font-family: Lucida Grande, sans-serif;\n   font-size: 13.0px;\n   font-weight: normal;\n   font-style: normal;   \n}\n#dmgpIKp .axis-tooltip-text-y {\n   fill: #ffffff;\n   font-family: Lucida Grande, sans-serif;\n   font-size: 13.0px;\n   font-weight: normal;\n   font-style: normal;   \n}\n#po9a9Ah .facet-strip-text-x {\n   fill: #474747;\n   font-family: Lucida Grande, sans-serif;\n   font-size: 13.0px;\n   font-weight: normal;\n   font-style: normal;   \n}\n#po9a9Ah .facet-strip-text-y {\n   fill: #474747;\n   font-family: Lucida Grande, sans-serif;\n   font-size: 13.0px;\n   font-weight: normal;\n   font-style: normal;   \n}\n#dmgpIKp .tooltip-text {\n   fill: #474747;\n   font-family: Lucida Grande, sans-serif;\n   font-size: 13.0px;\n   font-weight: normal;\n   font-style: normal;   \n}\n#dmgpIKp .tooltip-title {\n   fill: #474747;\n   font-family: Lucida Grande, sans-serif;\n   font-size: 13.0px;\n   font-weight: bold;\n   font-style: normal;   \n}\n#dmgpIKp .tooltip-label {\n   fill: #474747;\n   font-family: Lucida Grande, sans-serif;\n   font-size: 13.0px;\n   font-weight: bold;\n   font-style: normal;   \n}\n\n  </style>\n  <g id=\"po9a9Ah\">\n    <path fill-rule=\"evenodd\" fill=\"rgb(255,255,255)\" fill-opacity=\"1.0\" d=\"M0.0 0.0 L0.0 400.0 L600.0 400.0 L600.0 0.0 Z\">\n    </path>\n    <g transform=\"translate(48.32899766822925 10.0 ) \">\n      <g transform=\"translate(69.10410366084425 344.0 ) \">\n        <line x1=\"77.67741935483869\" y1=\"-0.0\" x2=\"77.67741935483869\" y2=\"-344.0\" stroke=\"rgb(233,233,233)\" stroke-opacity=\"1.0\" stroke-width=\"1.0\">\n        </line>\n        <line x1=\"188.64516129032253\" y1=\"-0.0\" x2=\"188.64516129032253\" y2=\"-344.0\" stroke=\"rgb(233,233,233)\" stroke-opacity=\"1.0\" stroke-width=\"1.0\">\n        </line>\n        <line x1=\"299.61290322580635\" y1=\"-0.0\" x2=\"299.61290322580635\" y2=\"-344.0\" stroke=\"rgb(233,233,233)\" stroke-opacity=\"1.0\" stroke-width=\"1.0\">\n        </line>\n        <g transform=\"translate(77.67741935483869 0.0 ) \">\n          <line stroke-width=\"1.0\" stroke=\"rgb(71,71,71)\" stroke-opacity=\"1.0\" x2=\"0.0\" y2=\"4.0\">\n          </line>\n          <g transform=\"translate(0.0 7.0 ) \">\n            <text class=\"axis-text-x\" text-anchor=\"middle\" dy=\"0.7em\">\n            A\n            </text>\n          </g>\n        </g>\n        <g transform=\"translate(188.64516129032253 0.0 ) \">\n          <line stroke-width=\"1.0\" stroke=\"rgb(71,71,71)\" stroke-opacity=\"1.0\" x2=\"0.0\" y2=\"4.0\">\n          </line>\n          <g transform=\"translate(0.0 7.0 ) \">\n            <text class=\"axis-text-x\" text-anchor=\"middle\" dy=\"0.7em\">\n            B\n            </text>\n          </g>\n        </g>\n        <g transform=\"translate(299.61290322580635 0.0 ) \">\n          <line stroke-width=\"1.0\" stroke=\"rgb(71,71,71)\" stroke-opacity=\"1.0\" x2=\"0.0\" y2=\"4.0\">\n          </line>\n          <g transform=\"translate(0.0 7.0 ) \">\n            <text class=\"axis-text-x\" text-anchor=\"middle\" dy=\"0.7em\">\n            C\n            </text>\n          </g>\n        </g>\n        <line x1=\"0.0\" y1=\"0.0\" x2=\"377.2903225806451\" y2=\"0.0\" stroke-width=\"1.0\" stroke=\"rgb(71,71,71)\" stroke-opacity=\"1.0\">\n        </line>\n      </g>\n      <g transform=\"translate(69.10410366084425 0.0 ) \">\n        <line x1=\"0.0\" y1=\"282.9677419354839\" x2=\"377.2903225806451\" y2=\"282.9677419354839\" stroke=\"rgb(233,233,233)\" stroke-opacity=\"1.0\" stroke-width=\"1.0\">\n        </line>\n        <line x1=\"0.0\" y1=\"172.00000000000006\" x2=\"377.2903225806451\" y2=\"172.00000000000006\" stroke=\"rgb(233,233,233)\" stroke-opacity=\"1.0\" stroke-width=\"1.0\">\n        </line>\n        <line x1=\"0.0\" y1=\"61.032258064516185\" x2=\"377.2903225806451\" y2=\"61.032258064516185\" stroke=\"rgb(233,233,233)\" stroke-opacity=\"1.0\" stroke-width=\"1.0\">\n        </line>\n        <g transform=\"translate(0.0 282.9677419354839 ) \">\n          <g transform=\"translate(-3.0 0.0 ) \">\n            <text class=\"axis-text-y\" text-anchor=\"end\" dy=\"0.35em\">\n            morning\n            </text>\n          </g>\n        </g>\n        <g transform=\"translate(0.0 172.00000000000006 ) \">\n          <g transform=\"translate(-3.0 0.0 ) \">\n            <text class=\"axis-text-y\" text-anchor=\"end\" dy=\"0.35em\">\n            afternoon\n            </text>\n          </g>\n        </g>\n        <g transform=\"translate(0.0 61.032258064516185 ) \">\n          <g transform=\"translate(-3.0 0.0 ) \">\n            <text class=\"axis-text-y\" text-anchor=\"end\" dy=\"0.35em\">\n            evening\n            </text>\n          </g>\n        </g>\n      </g>\n      <g transform=\"translate(69.10410366084425 0.0 ) \" clip-path=\"url(#cJjBOpS)\" clip-bounds-jfx=\"[rect (0.0, 0.0), (377.2903225806451, 344.0)]\">\n        <defs>\n          <clipPath id=\"cJjBOpS\">\n            <rect x=\"0.0\" y=\"0.0\" width=\"377.2903225806451\" height=\"344.0\">\n            </rect>\n          </clipPath>\n        </defs>\n        <g>\n          \n          <g >\n            <rect fill=\"#a8c84f\" fill-opacity=\"0.5\" stroke=\"#000000\" stroke-width=\"1.7600000000000002\" x=\"22.19354838709677\" y=\"244.12903225806457\" height=\"77.67741935483866\" width=\"110.96774193548384\" />\n            <rect fill=\"#e2925f\" fill-opacity=\"0.5\" stroke=\"#000000\" stroke-width=\"1.7600000000000002\" x=\"133.1612903225806\" y=\"244.12903225806457\" height=\"77.67741935483866\" width=\"110.96774193548384\" />\n            <rect fill=\"#ed6666\" fill-opacity=\"0.5\" stroke=\"#000000\" stroke-width=\"1.7600000000000002\" x=\"244.12903225806446\" y=\"244.12903225806457\" height=\"77.67741935483866\" width=\"110.96774193548384\" />\n            <rect fill=\"#5ab846\" fill-opacity=\"0.5\" stroke=\"#000000\" stroke-width=\"1.7600000000000002\" x=\"22.19354838709677\" y=\"133.16129032258067\" height=\"77.67741935483872\" width=\"110.96774193548384\" />\n            <rect fill=\"#3eaa5e\" fill-opacity=\"0.5\" stroke=\"#000000\" stroke-width=\"1.7600000000000002\" x=\"133.1612903225806\" y=\"133.16129032258067\" height=\"77.67741935483872\" width=\"110.96774193548384\" />\n            <rect fill=\"#3ba373\" fill-opacity=\"0.5\" stroke=\"#000000\" stroke-width=\"1.7600000000000002\" x=\"244.12903225806446\" y=\"133.16129032258067\" height=\"77.67741935483872\" width=\"110.96774193548384\" />\n            <rect fill=\"#d6bc57\" fill-opacity=\"0.5\" stroke=\"#000000\" stroke-width=\"1.7600000000000002\" x=\"22.19354838709677\" y=\"22.193548387096882\" height=\"77.67741935483866\" width=\"110.96774193548384\" />\n            <rect fill=\"#91c44c\" fill-opacity=\"0.5\" stroke=\"#000000\" stroke-width=\"1.7600000000000002\" x=\"133.1612903225806\" y=\"22.193548387096882\" height=\"77.67741935483866\" width=\"110.96774193548384\" />\n            <rect fill=\"#bfcd52\" fill-opacity=\"0.5\" stroke=\"#000000\" stroke-width=\"1.7600000000000002\" x=\"244.12903225806446\" y=\"22.193548387096882\" height=\"77.67741935483866\" width=\"110.96774193548384\" />\n          </g>\n        </g>\n      </g>\n    </g>\n    <g transform=\"translate(39.82899766822925 182.0 ) rotate(-90.0 ) \">\n      <text class=\"axis-title-y\" y=\"0.0\" text-anchor=\"middle\">\n      time\n      </text>\n    </g>\n    <g transform=\"translate(306.07826261939607 391.5 ) \">\n      <text class=\"axis-title-x\" y=\"0.0\" text-anchor=\"middle\">\n      store\n      </text>\n    </g>\n    <g transform=\"translate(504.7234239097187 103.25 ) \">\n      <rect x=\"5.0\" y=\"5.0\" height=\"147.5\" width=\"59.947578422052096\" stroke=\"rgb(71,71,71)\" stroke-opacity=\"1.0\" stroke-width=\"0.0\" fill=\"rgb(255,255,255)\" fill-opacity=\"1.0\">\n      </rect>\n      <g transform=\"translate(10.0 10.0 ) \">\n        <g transform=\"translate(0.0 10.5 ) \">\n          <text class=\"legend-title\" y=\"0.0\">\n          money\n          </text>\n        </g>\n        <g transform=\"translate(0.0 22.5 ) \">\n          <g>\n            <rect x=\"0.0\" y=\"0.0\" height=\"115.0\" width=\"23.0\" stroke-width=\"0.0\" fill=\"rgb(60,165,109)\" fill-opacity=\"1.0\">\n            </rect>\n            <rect x=\"0.0\" y=\"7.55\" height=\"107.45\" width=\"23.0\" stroke-width=\"0.0\" fill=\"rgb(62,169,98)\" fill-opacity=\"1.0\">\n            </rect>\n            <rect x=\"0.0\" y=\"13.1\" height=\"101.9\" width=\"23.0\" stroke-width=\"0.0\" fill=\"rgb(64,172,87)\" fill-opacity=\"1.0\">\n            </rect>\n            <rect x=\"0.0\" y=\"18.65\" height=\"96.35\" width=\"23.0\" stroke-width=\"0.0\" fill=\"rgb(66,176,76)\" fill-opacity=\"1.0\">\n            </rect>\n            <rect x=\"0.0\" y=\"24.2\" height=\"90.8\" width=\"23.0\" stroke-width=\"0.0\" fill=\"rgb(72,180,68)\" fill-opacity=\"1.0\">\n            </rect>\n            <rect x=\"0.0\" y=\"29.75\" height=\"85.25\" width=\"23.0\" stroke-width=\"0.0\" fill=\"rgb(88,184,70)\" fill-opacity=\"1.0\">\n            </rect>\n            <rect x=\"0.0\" y=\"35.3\" height=\"79.7\" width=\"23.0\" stroke-width=\"0.0\" fill=\"rgb(105,187,72)\" fill-opacity=\"1.0\">\n            </rect>\n            <rect x=\"0.0\" y=\"40.849999999999994\" height=\"74.15\" width=\"23.0\" stroke-width=\"0.0\" fill=\"rgb(123,191,74)\" fill-opacity=\"1.0\">\n            </rect>\n            <rect x=\"0.0\" y=\"46.39999999999999\" height=\"68.60000000000001\" width=\"23.0\" stroke-width=\"0.0\" fill=\"rgb(140,195,76)\" fill-opacity=\"1.0\">\n            </rect>\n            <rect x=\"0.0\" y=\"51.94999999999999\" height=\"63.05000000000001\" width=\"23.0\" stroke-width=\"0.0\" fill=\"rgb(159,198,78)\" fill-opacity=\"1.0\">\n            </rect>\n            <rect x=\"0.0\" y=\"57.499999999999986\" height=\"57.500000000000014\" width=\"23.0\" stroke-width=\"0.0\" fill=\"rgb(177,202,80)\" fill-opacity=\"1.0\">\n            </rect>\n            <rect x=\"0.0\" y=\"63.04999999999998\" height=\"51.95000000000002\" width=\"23.0\" stroke-width=\"0.0\" fill=\"rgb(196,206,82)\" fill-opacity=\"1.0\">\n            </rect>\n            <rect x=\"0.0\" y=\"68.59999999999998\" height=\"46.40000000000002\" width=\"23.0\" stroke-width=\"0.0\" fill=\"rgb(209,203,85)\" fill-opacity=\"1.0\">\n            </rect>\n            <rect x=\"0.0\" y=\"74.14999999999998\" height=\"40.85000000000002\" width=\"23.0\" stroke-width=\"0.0\" fill=\"rgb(213,191,87)\" fill-opacity=\"1.0\">\n            </rect>\n            <rect x=\"0.0\" y=\"79.69999999999997\" height=\"35.300000000000026\" width=\"23.0\" stroke-width=\"0.0\" fill=\"rgb(217,178,89)\" fill-opacity=\"1.0\">\n            </rect>\n            <rect x=\"0.0\" y=\"85.24999999999997\" height=\"29.75000000000003\" width=\"23.0\" stroke-width=\"0.0\" fill=\"rgb(221,165,91)\" fill-opacity=\"1.0\">\n            </rect>\n            <rect x=\"0.0\" y=\"90.79999999999997\" height=\"24.20000000000003\" width=\"23.0\" stroke-width=\"0.0\" fill=\"rgb(224,152,94)\" fill-opacity=\"1.0\">\n            </rect>\n            <rect x=\"0.0\" y=\"96.34999999999997\" height=\"18.650000000000034\" width=\"23.0\" stroke-width=\"0.0\" fill=\"rgb(228,138,96)\" fill-opacity=\"1.0\">\n            </rect>\n            <rect x=\"0.0\" y=\"101.89999999999996\" height=\"13.100000000000037\" width=\"23.0\" stroke-width=\"0.0\" fill=\"rgb(232,124,98)\" fill-opacity=\"1.0\">\n            </rect>\n            <rect x=\"0.0\" y=\"107.44999999999996\" height=\"7.55000000000004\" width=\"23.0\" stroke-width=\"0.0\" fill=\"rgb(235,109,101)\" fill-opacity=\"1.0\">\n            </rect>\n            <line x1=\"0.0\" y1=\"109.53125\" x2=\"4.6\" y2=\"109.53125\" stroke-width=\"1.0\" stroke=\"rgb(255,255,255)\" stroke-opacity=\"1.0\">\n            </line>\n            <line x1=\"18.4\" y1=\"109.53125\" x2=\"23.0\" y2=\"109.53125\" stroke-width=\"1.0\" stroke=\"rgb(255,255,255)\" stroke-opacity=\"1.0\">\n            </line>\n            <g transform=\"translate(26.9903027277341 114.08125 ) \">\n              <text class=\"legend-item\" y=\"0.0\">\n              60\n              </text>\n            </g>\n            <line x1=\"0.0\" y1=\"92.1875\" x2=\"4.6\" y2=\"92.1875\" stroke-width=\"1.0\" stroke=\"rgb(255,255,255)\" stroke-opacity=\"1.0\">\n            </line>\n            <line x1=\"18.4\" y1=\"92.1875\" x2=\"23.0\" y2=\"92.1875\" stroke-width=\"1.0\" stroke=\"rgb(255,255,255)\" stroke-opacity=\"1.0\">\n            </line>\n            <g transform=\"translate(26.9903027277341 96.7375 ) \">\n              <text class=\"legend-item\" y=\"0.0\">\n              65\n              </text>\n            </g>\n            <line x1=\"0.0\" y1=\"74.84375\" x2=\"4.6\" y2=\"74.84375\" stroke-width=\"1.0\" stroke=\"rgb(255,255,255)\" stroke-opacity=\"1.0\">\n            </line>\n            <line x1=\"18.4\" y1=\"74.84375\" x2=\"23.0\" y2=\"74.84375\" stroke-width=\"1.0\" stroke=\"rgb(255,255,255)\" stroke-opacity=\"1.0\">\n            </line>\n            <g transform=\"translate(26.9903027277341 79.39375 ) \">\n              <text class=\"legend-item\" y=\"0.0\">\n              70\n              </text>\n            </g>\n            <line x1=\"0.0\" y1=\"57.5\" x2=\"4.6\" y2=\"57.5\" stroke-width=\"1.0\" stroke=\"rgb(255,255,255)\" stroke-opacity=\"1.0\">\n            </line>\n            <line x1=\"18.4\" y1=\"57.5\" x2=\"23.0\" y2=\"57.5\" stroke-width=\"1.0\" stroke=\"rgb(255,255,255)\" stroke-opacity=\"1.0\">\n            </line>\n            <g transform=\"translate(26.9903027277341 62.05 ) \">\n              <text class=\"legend-item\" y=\"0.0\">\n              75\n              </text>\n            </g>\n            <line x1=\"0.0\" y1=\"40.15625\" x2=\"4.6\" y2=\"40.15625\" stroke-width=\"1.0\" stroke=\"rgb(255,255,255)\" stroke-opacity=\"1.0\">\n            </line>\n            <line x1=\"18.4\" y1=\"40.15625\" x2=\"23.0\" y2=\"40.15625\" stroke-width=\"1.0\" stroke=\"rgb(255,255,255)\" stroke-opacity=\"1.0\">\n            </line>\n            <g transform=\"translate(26.9903027277341 44.70625 ) \">\n              <text class=\"legend-item\" y=\"0.0\">\n              80\n              </text>\n            </g>\n            <line x1=\"0.0\" y1=\"22.8125\" x2=\"4.6\" y2=\"22.8125\" stroke-width=\"1.0\" stroke=\"rgb(255,255,255)\" stroke-opacity=\"1.0\">\n            </line>\n            <line x1=\"18.4\" y1=\"22.8125\" x2=\"23.0\" y2=\"22.8125\" stroke-width=\"1.0\" stroke=\"rgb(255,255,255)\" stroke-opacity=\"1.0\">\n            </line>\n            <g transform=\"translate(26.9903027277341 27.362499999999997 ) \">\n              <text class=\"legend-item\" y=\"0.0\">\n              85\n              </text>\n            </g>\n            <line x1=\"0.0\" y1=\"5.46875\" x2=\"4.6\" y2=\"5.46875\" stroke-width=\"1.0\" stroke=\"rgb(255,255,255)\" stroke-opacity=\"1.0\">\n            </line>\n            <line x1=\"18.4\" y1=\"5.46875\" x2=\"23.0\" y2=\"5.46875\" stroke-width=\"1.0\" stroke=\"rgb(255,255,255)\" stroke-opacity=\"1.0\">\n            </line>\n            <g transform=\"translate(26.9903027277341 10.018749999999999 ) \">\n              <text class=\"legend-item\" y=\"0.0\">\n              90\n              </text>\n            </g>\n          </g>\n        </g>\n      </g>\n    </g>\n    <path fill=\"rgb(0,0,0)\" fill-opacity=\"0.0\" stroke=\"rgb(71,71,71)\" stroke-opacity=\"1.0\" stroke-width=\"0.0\" d=\"M0.0 0.0 L0.0 400.0 L600.0 400.0 L600.0 0.0 Z\">\n    </path>\n  </g>\n  <g id=\"dmgpIKp\">\n  </g>\n</svg>\n        <script>document.getElementById(\"02b46e5a-2994-494f-a865-f234de24f180\").style.display = \"none\";</script>",
      "application/plot+json": {
       "output_type": "lets_plot_spec",
       "output": {
        "mapping": {},
        "data": {
         "money": [
          75.0,
          64.0,
          59.0,
          82.0,
          88.0,
          91.0,
          69.0,
          77.0,
          73.0
         ],
         "store": [
          "A",
          "B",
          "C",
          "A",
          "B",
          "C",
          "A",
          "B",
          "C"
         ],
         "time": [
          "morning",
          "morning",
          "morning",
          "afternoon",
          "afternoon",
          "afternoon",
          "evening",
          "evening",
          "evening"
         ]
        },
        "kind": "plot",
        "scales": [
         {
          "aesthetic": "x",
          "discrete": true
         },
         {
          "aesthetic": "y",
          "discrete": true
         },
         {
          "aesthetic": "fill",
          "scale_mapper_kind": "color_gradient",
          "high": "#3ba272",
          "low": "#ee6666",
          "limits": [
           null,
           null
          ]
         }
        ],
        "layers": [
         {
          "mapping": {
           "x": "store",
           "y": "time",
           "fill": "money"
          },
          "stat": "identity",
          "size": 0.8,
          "color": "#000000",
          "sampling": "none",
          "alpha": 0.5,
          "position": "identity",
          "geom": "tile",
          "height": 0.7
         }
        ]
       },
       "apply_color_scheme": true,
       "swing_enabled": true
      }
     },
     "execution_count": 3,
     "metadata": {},
     "output_type": "execute_result"
    }
   ],
   "source": [
    "data.plot {\n",
    "    tiles {\n",
    "        x(store)\n",
    "        y(time)\n",
    "        height = 0.7\n",
    "        borderLine {\n",
    "            width = 0.8\n",
    "            color = Color.BLACK\n",
    "        }\n",
    "        fillColor(money) {\n",
    "            scale = continuous(Color.RED..Color.GREEN)\n",
    "        }\n",
    "        alpha = 0.5\n",
    "    }\n",
    "}"
   ],
   "metadata": {
    "collapsed": false,
    "ExecuteTime": {
     "end_time": "2023-11-20T23:51:11.317850Z",
     "start_time": "2023-11-20T23:51:10.714111Z"
    }
   }
  }
 ],
 "metadata": {
  "kernelspec": {
   "display_name": "Kotlin",
   "language": "kotlin",
   "name": "kotlin"
  },
  "language_info": {
   "name": "kotlin",
   "version": "1.9.0",
   "mimetype": "text/x-kotlin",
   "file_extension": ".kt",
   "pygments_lexer": "kotlin",
   "codemirror_mode": "text/x-kotlin",
   "nbconvert_exporter": ""
  }
 },
 "nbformat": 4,
 "nbformat_minor": 0
}
