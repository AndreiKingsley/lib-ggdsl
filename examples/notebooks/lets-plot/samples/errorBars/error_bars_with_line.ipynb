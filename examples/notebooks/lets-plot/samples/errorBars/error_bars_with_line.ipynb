{
 "cells": [
  {
   "cell_type": "code",
   "execution_count": 1,
   "metadata": {
    "collapsed": true,
    "ExecuteTime": {
     "end_time": "2023-11-20T23:28:10.451740Z",
     "start_time": "2023-11-20T23:28:09.070646Z"
    }
   },
   "outputs": [],
   "source": [
    "%useLatestDescriptors\n",
    "%use dataframe\n",
    "%use kandy"
   ]
  },
  {
   "cell_type": "code",
   "execution_count": 2,
   "outputs": [],
   "source": [
    "val years = listOf(2018, 2019, 2020, 2021, 2022)\n",
    "val costMin = listOf(62.7, 64.7, 72.1, 73.7, 68.5)\n",
    "val costMax = listOf(68.9, 71.3, 78.9, 76.5, 72.1)\n",
    "val mid = costMin.zip(costMax).map { (it.first + it.second) / 2.0 }\n",
    "val data = dataFrameOf(\n",
    "    years.toColumn(\"years\"),\n",
    "    costMin.toColumn(\"min\"),\n",
    "    mid.toColumn(\"mid\"),\n",
    "    costMax.toColumn(\"max\")\n",
    ")"
   ],
   "metadata": {
    "collapsed": false,
    "ExecuteTime": {
     "end_time": "2023-11-20T23:28:12.854860Z",
     "start_time": "2023-11-20T23:28:12.211852Z"
    }
   }
  },
  {
   "cell_type": "code",
   "execution_count": 3,
   "outputs": [
    {
     "data": {
      "text/html": "            <iframe src='about:blank' style='border:none !important;' width='600' height='400' srcdoc=\"&lt;html lang=&quot;en&quot;>\n   &lt;head>\n       &lt;style> html, body { margin: 0; overflow: hidden; } &lt;/style>\n       &lt;script type=&quot;text/javascript&quot; data-lets-plot-script=&quot;library&quot; src=&quot;https://cdn.jsdelivr.net/gh/JetBrains/lets-plot@v4.0.1/js-package/distr/lets-plot.min.js&quot;>&lt;/script>\n   &lt;/head>\n   &lt;body>\n          &lt;div id=&quot;SS7kaM&quot;>&lt;/div>\n   &lt;script type=&quot;text/javascript&quot; data-lets-plot-script=&quot;plot&quot;>\n       var plotSpec={\n&quot;mapping&quot;:{\n},\n&quot;data&quot;:{\n&quot;min&quot;:[62.7,64.7,72.1,73.7,68.5],\n&quot;max&quot;:[68.9,71.3,78.9,76.5,72.1],\n&quot;mid&quot;:[65.80000000000001,68.0,75.5,75.1,70.3],\n&quot;years&quot;:[2018.0,2019.0,2020.0,2021.0,2022.0]\n},\n&quot;kind&quot;:&quot;plot&quot;,\n&quot;scales&quot;:[{\n&quot;aesthetic&quot;:&quot;x&quot;,\n&quot;limits&quot;:[null,null]\n},{\n&quot;aesthetic&quot;:&quot;y&quot;,\n&quot;limits&quot;:[null,null]\n},{\n&quot;aesthetic&quot;:&quot;x&quot;,\n&quot;limits&quot;:[null,null]\n},{\n&quot;aesthetic&quot;:&quot;y&quot;,\n&quot;limits&quot;:[null,null]\n}],\n&quot;layers&quot;:[{\n&quot;mapping&quot;:{\n&quot;x&quot;:&quot;years&quot;,\n&quot;y&quot;:&quot;mid&quot;\n},\n&quot;stat&quot;:&quot;identity&quot;,\n&quot;color&quot;:&quot;#5470c6&quot;,\n&quot;sampling&quot;:&quot;none&quot;,\n&quot;position&quot;:&quot;identity&quot;,\n&quot;geom&quot;:&quot;line&quot;,\n&quot;data&quot;:{\n}\n},{\n&quot;mapping&quot;:{\n&quot;x&quot;:&quot;years&quot;,\n&quot;y&quot;:&quot;mid&quot;,\n&quot;ymin&quot;:&quot;min&quot;,\n&quot;ymax&quot;:&quot;max&quot;\n},\n&quot;stat&quot;:&quot;identity&quot;,\n&quot;linetype&quot;:&quot;longdash&quot;,\n&quot;sampling&quot;:&quot;none&quot;,\n&quot;position&quot;:&quot;dodge&quot;,\n&quot;geom&quot;:&quot;errorbar&quot;,\n&quot;data&quot;:{\n}\n}]\n};\n       var plotContainer = document.getElementById(&quot;SS7kaM&quot;);\n       LetsPlot.buildPlotFromProcessedSpecs(plotSpec, -1, -1, plotContainer);\n   &lt;/script>\n   &lt;/body>\n&lt;/html>\"></iframe>            \n        <svg id=3c5a31e5-1a3a-4557-b46f-7baa69e463a9 xmlns=\"http://www.w3.org/2000/svg\" xmlns:xlink=\"http://www.w3.org/1999/xlink\" class=\"plt-container\" width=\"600.0\" height=\"400.0\">\n  <style type=\"text/css\">\n  .plt-container {\n   font-family: Lucida Grande, sans-serif;\n   user-select: none;\n   -webkit-user-select: none;\n   -moz-user-select: none;\n   -ms-user-select: none;\n}\ntext {\n   text-rendering: optimizeLegibility;\n}\n#p6e8qzj .plot-title {\n   fill: #474747;\n   font-family: Lucida Grande, sans-serif;\n   font-size: 16.0px;\n   font-weight: normal;\n   font-style: normal;   \n}\n#p6e8qzj .plot-subtitle {\n   fill: #474747;\n   font-family: Lucida Grande, sans-serif;\n   font-size: 15.0px;\n   font-weight: normal;\n   font-style: normal;   \n}\n#p6e8qzj .plot-caption {\n   fill: #474747;\n   font-family: Lucida Grande, sans-serif;\n   font-size: 13.0px;\n   font-weight: normal;\n   font-style: normal;   \n}\n#p6e8qzj .legend-title {\n   fill: #474747;\n   font-family: Lucida Grande, sans-serif;\n   font-size: 15.0px;\n   font-weight: normal;\n   font-style: normal;   \n}\n#p6e8qzj .legend-item {\n   fill: #474747;\n   font-family: Lucida Grande, sans-serif;\n   font-size: 13.0px;\n   font-weight: normal;\n   font-style: normal;   \n}\n#p6e8qzj .axis-title-x {\n   fill: #474747;\n   font-family: Lucida Grande, sans-serif;\n   font-size: 15.0px;\n   font-weight: normal;\n   font-style: normal;   \n}\n#p6e8qzj .axis-text-x {\n   fill: #474747;\n   font-family: Lucida Grande, sans-serif;\n   font-size: 13.0px;\n   font-weight: normal;\n   font-style: normal;   \n}\n#dp0GPVw .axis-tooltip-text-x {\n   fill: #ffffff;\n   font-family: Lucida Grande, sans-serif;\n   font-size: 13.0px;\n   font-weight: normal;\n   font-style: normal;   \n}\n#p6e8qzj .axis-title-y {\n   fill: #474747;\n   font-family: Lucida Grande, sans-serif;\n   font-size: 15.0px;\n   font-weight: normal;\n   font-style: normal;   \n}\n#p6e8qzj .axis-text-y {\n   fill: #474747;\n   font-family: Lucida Grande, sans-serif;\n   font-size: 13.0px;\n   font-weight: normal;\n   font-style: normal;   \n}\n#dp0GPVw .axis-tooltip-text-y {\n   fill: #ffffff;\n   font-family: Lucida Grande, sans-serif;\n   font-size: 13.0px;\n   font-weight: normal;\n   font-style: normal;   \n}\n#p6e8qzj .facet-strip-text-x {\n   fill: #474747;\n   font-family: Lucida Grande, sans-serif;\n   font-size: 13.0px;\n   font-weight: normal;\n   font-style: normal;   \n}\n#p6e8qzj .facet-strip-text-y {\n   fill: #474747;\n   font-family: Lucida Grande, sans-serif;\n   font-size: 13.0px;\n   font-weight: normal;\n   font-style: normal;   \n}\n#dp0GPVw .tooltip-text {\n   fill: #474747;\n   font-family: Lucida Grande, sans-serif;\n   font-size: 13.0px;\n   font-weight: normal;\n   font-style: normal;   \n}\n#dp0GPVw .tooltip-title {\n   fill: #474747;\n   font-family: Lucida Grande, sans-serif;\n   font-size: 13.0px;\n   font-weight: bold;\n   font-style: normal;   \n}\n#dp0GPVw .tooltip-label {\n   fill: #474747;\n   font-family: Lucida Grande, sans-serif;\n   font-size: 13.0px;\n   font-weight: bold;\n   font-style: normal;   \n}\n\n  </style>\n  <g id=\"p6e8qzj\">\n    <path fill-rule=\"evenodd\" fill=\"rgb(255,255,255)\" fill-opacity=\"1.0\" d=\"M0.0 0.0 L0.0 400.0 L600.0 400.0 L600.0 0.0 Z\">\n    </path>\n    <g transform=\"translate(23.0 10.0 ) \">\n      <g transform=\"translate(21.961210910936405 344.0 ) \">\n        <line x1=\"49.82734588711173\" y1=\"-0.0\" x2=\"49.82734588711173\" y2=\"-344.0\" stroke=\"rgb(233,233,233)\" stroke-opacity=\"1.0\" stroke-width=\"1.0\">\n        </line>\n        <line x1=\"161.17337021580897\" y1=\"-0.0\" x2=\"161.17337021580897\" y2=\"-344.0\" stroke=\"rgb(233,233,233)\" stroke-opacity=\"1.0\" stroke-width=\"1.0\">\n        </line>\n        <line x1=\"272.5193945445353\" y1=\"-0.0\" x2=\"272.5193945445353\" y2=\"-344.0\" stroke=\"rgb(233,233,233)\" stroke-opacity=\"1.0\" stroke-width=\"1.0\">\n        </line>\n        <line x1=\"383.86541887323256\" y1=\"-0.0\" x2=\"383.86541887323256\" y2=\"-344.0\" stroke=\"rgb(233,233,233)\" stroke-opacity=\"1.0\" stroke-width=\"1.0\">\n        </line>\n        <line x1=\"495.2114432019589\" y1=\"-0.0\" x2=\"495.2114432019589\" y2=\"-344.0\" stroke=\"rgb(233,233,233)\" stroke-opacity=\"1.0\" stroke-width=\"1.0\">\n        </line>\n        <g transform=\"translate(49.82734588711173 0.0 ) \">\n          <line stroke-width=\"1.0\" stroke=\"rgb(71,71,71)\" stroke-opacity=\"1.0\" x2=\"0.0\" y2=\"4.0\">\n          </line>\n          <g transform=\"translate(0.0 7.0 ) \">\n            <text class=\"axis-text-x\" text-anchor=\"middle\" dy=\"0.7em\">\n            2,018\n            </text>\n          </g>\n        </g>\n        <g transform=\"translate(161.17337021580897 0.0 ) \">\n          <line stroke-width=\"1.0\" stroke=\"rgb(71,71,71)\" stroke-opacity=\"1.0\" x2=\"0.0\" y2=\"4.0\">\n          </line>\n          <g transform=\"translate(0.0 7.0 ) \">\n            <text class=\"axis-text-x\" text-anchor=\"middle\" dy=\"0.7em\">\n            2,019\n            </text>\n          </g>\n        </g>\n        <g transform=\"translate(272.5193945445353 0.0 ) \">\n          <line stroke-width=\"1.0\" stroke=\"rgb(71,71,71)\" stroke-opacity=\"1.0\" x2=\"0.0\" y2=\"4.0\">\n          </line>\n          <g transform=\"translate(0.0 7.0 ) \">\n            <text class=\"axis-text-x\" text-anchor=\"middle\" dy=\"0.7em\">\n            2,020\n            </text>\n          </g>\n        </g>\n        <g transform=\"translate(383.86541887323256 0.0 ) \">\n          <line stroke-width=\"1.0\" stroke=\"rgb(71,71,71)\" stroke-opacity=\"1.0\" x2=\"0.0\" y2=\"4.0\">\n          </line>\n          <g transform=\"translate(0.0 7.0 ) \">\n            <text class=\"axis-text-x\" text-anchor=\"middle\" dy=\"0.7em\">\n            2,021\n            </text>\n          </g>\n        </g>\n        <g transform=\"translate(495.2114432019589 0.0 ) \">\n          <line stroke-width=\"1.0\" stroke=\"rgb(71,71,71)\" stroke-opacity=\"1.0\" x2=\"0.0\" y2=\"4.0\">\n          </line>\n          <g transform=\"translate(0.0 7.0 ) \">\n            <text class=\"axis-text-x\" text-anchor=\"middle\" dy=\"0.7em\">\n            2,022\n            </text>\n          </g>\n        </g>\n        <line x1=\"0.0\" y1=\"0.0\" x2=\"545.0387890890636\" y2=\"0.0\" stroke-width=\"1.0\" stroke=\"rgb(71,71,71)\" stroke-opacity=\"1.0\">\n        </line>\n      </g>\n      <g transform=\"translate(21.961210910936405 0.0 ) \">\n        <line x1=\"0.0\" y1=\"303.2682379349046\" x2=\"545.0387890890636\" y2=\"303.2682379349046\" stroke=\"rgb(233,233,233)\" stroke-opacity=\"1.0\" stroke-width=\"1.0\">\n        </line>\n        <line x1=\"0.0\" y1=\"264.6599326599328\" x2=\"545.0387890890636\" y2=\"264.6599326599328\" stroke=\"rgb(233,233,233)\" stroke-opacity=\"1.0\" stroke-width=\"1.0\">\n        </line>\n        <line x1=\"0.0\" y1=\"226.05162738496074\" x2=\"545.0387890890636\" y2=\"226.05162738496074\" stroke=\"rgb(233,233,233)\" stroke-opacity=\"1.0\" stroke-width=\"1.0\">\n        </line>\n        <line x1=\"0.0\" y1=\"187.4433221099889\" x2=\"545.0387890890636\" y2=\"187.4433221099889\" stroke=\"rgb(233,233,233)\" stroke-opacity=\"1.0\" stroke-width=\"1.0\">\n        </line>\n        <line x1=\"0.0\" y1=\"148.83501683501686\" x2=\"545.0387890890636\" y2=\"148.83501683501686\" stroke=\"rgb(233,233,233)\" stroke-opacity=\"1.0\" stroke-width=\"1.0\">\n        </line>\n        <line x1=\"0.0\" y1=\"110.22671156004503\" x2=\"545.0387890890636\" y2=\"110.22671156004503\" stroke=\"rgb(233,233,233)\" stroke-opacity=\"1.0\" stroke-width=\"1.0\">\n        </line>\n        <line x1=\"0.0\" y1=\"71.61840628507298\" x2=\"545.0387890890636\" y2=\"71.61840628507298\" stroke=\"rgb(233,233,233)\" stroke-opacity=\"1.0\" stroke-width=\"1.0\">\n        </line>\n        <line x1=\"0.0\" y1=\"33.01010101010115\" x2=\"545.0387890890636\" y2=\"33.01010101010115\" stroke=\"rgb(233,233,233)\" stroke-opacity=\"1.0\" stroke-width=\"1.0\">\n        </line>\n        <g transform=\"translate(0.0 341.87654320987644 ) \">\n          <g transform=\"translate(-3.0 0.0 ) \">\n            <text class=\"axis-text-y\" text-anchor=\"end\" dy=\"0.35em\">\n            62\n            </text>\n          </g>\n        </g>\n        <g transform=\"translate(0.0 303.2682379349046 ) \">\n          <g transform=\"translate(-3.0 0.0 ) \">\n            <text class=\"axis-text-y\" text-anchor=\"end\" dy=\"0.35em\">\n            64\n            </text>\n          </g>\n        </g>\n        <g transform=\"translate(0.0 264.6599326599328 ) \">\n          <g transform=\"translate(-3.0 0.0 ) \">\n            <text class=\"axis-text-y\" text-anchor=\"end\" dy=\"0.35em\">\n            66\n            </text>\n          </g>\n        </g>\n        <g transform=\"translate(0.0 226.05162738496074 ) \">\n          <g transform=\"translate(-3.0 0.0 ) \">\n            <text class=\"axis-text-y\" text-anchor=\"end\" dy=\"0.35em\">\n            68\n            </text>\n          </g>\n        </g>\n        <g transform=\"translate(0.0 187.4433221099889 ) \">\n          <g transform=\"translate(-3.0 0.0 ) \">\n            <text class=\"axis-text-y\" text-anchor=\"end\" dy=\"0.35em\">\n            70\n            </text>\n          </g>\n        </g>\n        <g transform=\"translate(0.0 148.83501683501686 ) \">\n          <g transform=\"translate(-3.0 0.0 ) \">\n            <text class=\"axis-text-y\" text-anchor=\"end\" dy=\"0.35em\">\n            72\n            </text>\n          </g>\n        </g>\n        <g transform=\"translate(0.0 110.22671156004503 ) \">\n          <g transform=\"translate(-3.0 0.0 ) \">\n            <text class=\"axis-text-y\" text-anchor=\"end\" dy=\"0.35em\">\n            74\n            </text>\n          </g>\n        </g>\n        <g transform=\"translate(0.0 71.61840628507298 ) \">\n          <g transform=\"translate(-3.0 0.0 ) \">\n            <text class=\"axis-text-y\" text-anchor=\"end\" dy=\"0.35em\">\n            76\n            </text>\n          </g>\n        </g>\n        <g transform=\"translate(0.0 33.01010101010115 ) \">\n          <g transform=\"translate(-3.0 0.0 ) \">\n            <text class=\"axis-text-y\" text-anchor=\"end\" dy=\"0.35em\">\n            78\n            </text>\n          </g>\n        </g>\n      </g>\n      <g transform=\"translate(21.961210910936405 0.0 ) \" clip-path=\"url(#cyYYsbt)\" clip-bounds-jfx=\"[rect (0.0, 0.0), (545.0387890890636, 344.0)]\">\n        <defs>\n          <clipPath id=\"cyYYsbt\">\n            <rect x=\"0.0\" y=\"0.0\" width=\"545.0387890890636\" height=\"344.0\">\n            </rect>\n          </clipPath>\n        </defs>\n        <g>\n          <path d=\"M49.82734588711173 268.52076318742957 L49.82734588711173 268.52076318742957 L161.17337021580897 226.05162738496074 L272.5193945445353 81.27048260381594 L383.86541887323256 88.99214365881062 L495.2114432019589 181.65207631874318 \" fill=\"none\" stroke-width=\"1.6500000000000001\" stroke=\"rgb(84,112,198)\" stroke-opacity=\"1.0\">\n          </path>\n        </g>\n      </g>\n      <g transform=\"translate(21.961210910936405 0.0 ) \" clip-path=\"url(#cX0KMyT)\" clip-bounds-jfx=\"[rect (0.0, 0.0), (545.0387890890636, 344.0)]\">\n        <defs>\n          <clipPath id=\"cX0KMyT\">\n            <rect x=\"0.0\" y=\"0.0\" width=\"545.0387890890636\" height=\"344.0\">\n            </rect>\n          </clipPath>\n        </defs>\n        <g>\n          <line x1=\"24.774490413139574\" y1=\"328.36363636363626\" x2=\"74.88020136108389\" y2=\"328.36363636363626\" stroke=\"rgb(71,71,71)\" stroke-opacity=\"1.0\" fill=\"rgb(17,142,216)\" fill-opacity=\"1.0\" stroke-width=\"1.6500000000000001\" stroke-dasharray=\"12.21,5.280000000000001\">\n          </line>\n          <line x1=\"24.774490413139574\" y1=\"208.67789001122333\" x2=\"74.88020136108389\" y2=\"208.67789001122333\" stroke=\"rgb(71,71,71)\" stroke-opacity=\"1.0\" fill=\"rgb(17,142,216)\" fill-opacity=\"1.0\" stroke-width=\"1.6500000000000001\" stroke-dasharray=\"12.21,5.280000000000001\">\n          </line>\n          <line x1=\"49.82734588711173\" y1=\"328.36363636363626\" x2=\"49.82734588711173\" y2=\"208.67789001122333\" stroke=\"rgb(71,71,71)\" stroke-opacity=\"1.0\" fill=\"rgb(17,142,216)\" fill-opacity=\"1.0\" stroke-width=\"1.6500000000000001\" stroke-dasharray=\"12.21,5.280000000000001\">\n          </line>\n        </g>\n        <g>\n          <line x1=\"136.12051474186592\" y1=\"289.75533108866443\" x2=\"186.22622568978113\" y2=\"289.75533108866443\" stroke=\"rgb(71,71,71)\" stroke-opacity=\"1.0\" fill=\"rgb(17,142,216)\" fill-opacity=\"1.0\" stroke-width=\"1.6500000000000001\" stroke-dasharray=\"12.21,5.280000000000001\">\n          </line>\n          <line x1=\"136.12051474186592\" y1=\"162.34792368125704\" x2=\"186.22622568978113\" y2=\"162.34792368125704\" stroke=\"rgb(71,71,71)\" stroke-opacity=\"1.0\" fill=\"rgb(17,142,216)\" fill-opacity=\"1.0\" stroke-width=\"1.6500000000000001\" stroke-dasharray=\"12.21,5.280000000000001\">\n          </line>\n          <line x1=\"161.17337021580897\" y1=\"289.75533108866443\" x2=\"161.17337021580897\" y2=\"162.34792368125704\" stroke=\"rgb(71,71,71)\" stroke-opacity=\"1.0\" fill=\"rgb(17,142,216)\" fill-opacity=\"1.0\" stroke-width=\"1.6500000000000001\" stroke-dasharray=\"12.21,5.280000000000001\">\n          </line>\n        </g>\n        <g>\n          <line x1=\"247.46653907059226\" y1=\"146.90460157126836\" x2=\"297.5722500185075\" y2=\"146.90460157126836\" stroke=\"rgb(71,71,71)\" stroke-opacity=\"1.0\" fill=\"rgb(17,142,216)\" fill-opacity=\"1.0\" stroke-width=\"1.6500000000000001\" stroke-dasharray=\"12.21,5.280000000000001\">\n          </line>\n          <line x1=\"247.46653907059226\" y1=\"15.63636363636374\" x2=\"297.5722500185075\" y2=\"15.63636363636374\" stroke=\"rgb(71,71,71)\" stroke-opacity=\"1.0\" fill=\"rgb(17,142,216)\" fill-opacity=\"1.0\" stroke-width=\"1.6500000000000001\" stroke-dasharray=\"12.21,5.280000000000001\">\n          </line>\n          <line x1=\"272.5193945445353\" y1=\"146.90460157126836\" x2=\"272.5193945445353\" y2=\"15.63636363636374\" stroke=\"rgb(71,71,71)\" stroke-opacity=\"1.0\" fill=\"rgb(17,142,216)\" fill-opacity=\"1.0\" stroke-width=\"1.6500000000000001\" stroke-dasharray=\"12.21,5.280000000000001\">\n          </line>\n        </g>\n        <g>\n          <line x1=\"358.8125633992895\" y1=\"116.01795735129076\" x2=\"408.9182743472338\" y2=\"116.01795735129076\" stroke=\"rgb(71,71,71)\" stroke-opacity=\"1.0\" fill=\"rgb(17,142,216)\" fill-opacity=\"1.0\" stroke-width=\"1.6500000000000001\" stroke-dasharray=\"12.21,5.280000000000001\">\n          </line>\n          <line x1=\"358.8125633992895\" y1=\"61.96632996633002\" x2=\"408.9182743472338\" y2=\"61.96632996633002\" stroke=\"rgb(71,71,71)\" stroke-opacity=\"1.0\" fill=\"rgb(17,142,216)\" fill-opacity=\"1.0\" stroke-width=\"1.6500000000000001\" stroke-dasharray=\"12.21,5.280000000000001\">\n          </line>\n          <line x1=\"383.86541887323256\" y1=\"116.01795735129076\" x2=\"383.86541887323256\" y2=\"61.96632996633002\" stroke=\"rgb(71,71,71)\" stroke-opacity=\"1.0\" fill=\"rgb(17,142,216)\" fill-opacity=\"1.0\" stroke-width=\"1.6500000000000001\" stroke-dasharray=\"12.21,5.280000000000001\">\n          </line>\n        </g>\n        <g>\n          <line x1=\"470.15858772801585\" y1=\"216.39955106621778\" x2=\"520.2642986759311\" y2=\"216.39955106621778\" stroke=\"rgb(71,71,71)\" stroke-opacity=\"1.0\" fill=\"rgb(17,142,216)\" fill-opacity=\"1.0\" stroke-width=\"1.6500000000000001\" stroke-dasharray=\"12.21,5.280000000000001\">\n          </line>\n          <line x1=\"470.15858772801585\" y1=\"146.90460157126836\" x2=\"520.2642986759311\" y2=\"146.90460157126836\" stroke=\"rgb(71,71,71)\" stroke-opacity=\"1.0\" fill=\"rgb(17,142,216)\" fill-opacity=\"1.0\" stroke-width=\"1.6500000000000001\" stroke-dasharray=\"12.21,5.280000000000001\">\n          </line>\n          <line x1=\"495.2114432019589\" y1=\"216.39955106621778\" x2=\"495.2114432019589\" y2=\"146.90460157126836\" stroke=\"rgb(71,71,71)\" stroke-opacity=\"1.0\" fill=\"rgb(17,142,216)\" fill-opacity=\"1.0\" stroke-width=\"1.6500000000000001\" stroke-dasharray=\"12.21,5.280000000000001\">\n          </line>\n        </g>\n      </g>\n    </g>\n    <g transform=\"translate(14.5 182.0 ) rotate(-90.0 ) \">\n      <text class=\"axis-title-y\" y=\"0.0\" text-anchor=\"middle\">\n      mid\n      </text>\n    </g>\n    <g transform=\"translate(317.4806054554682 391.5 ) \">\n      <text class=\"axis-title-x\" y=\"0.0\" text-anchor=\"middle\">\n      years\n      </text>\n    </g>\n    <path fill=\"rgb(0,0,0)\" fill-opacity=\"0.0\" stroke=\"rgb(71,71,71)\" stroke-opacity=\"1.0\" stroke-width=\"0.0\" d=\"M0.0 0.0 L0.0 400.0 L600.0 400.0 L600.0 0.0 Z\">\n    </path>\n  </g>\n  <g id=\"dp0GPVw\">\n  </g>\n</svg>\n        <script>document.getElementById(\"3c5a31e5-1a3a-4557-b46f-7baa69e463a9\").style.display = \"none\";</script>",
      "application/plot+json": {
       "output_type": "lets_plot_spec",
       "output": {
        "mapping": {},
        "data": {
         "min": [
          62.7,
          64.7,
          72.1,
          73.7,
          68.5
         ],
         "max": [
          68.9,
          71.3,
          78.9,
          76.5,
          72.1
         ],
         "mid": [
          65.8,
          68.0,
          75.5,
          75.1,
          70.3
         ],
         "years": [
          2018.0,
          2019.0,
          2020.0,
          2021.0,
          2022.0
         ]
        },
        "kind": "plot",
        "scales": [
         {
          "aesthetic": "x",
          "limits": [
           null,
           null
          ]
         },
         {
          "aesthetic": "y",
          "limits": [
           null,
           null
          ]
         },
         {
          "aesthetic": "x",
          "limits": [
           null,
           null
          ]
         },
         {
          "aesthetic": "y",
          "limits": [
           null,
           null
          ]
         }
        ],
        "layers": [
         {
          "mapping": {
           "x": "years",
           "y": "mid"
          },
          "stat": "identity",
          "color": "#5470c6",
          "sampling": "none",
          "position": "identity",
          "geom": "line"
         },
         {
          "mapping": {
           "x": "years",
           "y": "mid",
           "ymin": "min",
           "ymax": "max"
          },
          "stat": "identity",
          "linetype": "longdash",
          "sampling": "none",
          "position": "dodge",
          "geom": "errorbar"
         }
        ]
       },
       "apply_color_scheme": true,
       "swing_enabled": true
      }
     },
     "execution_count": 3,
     "metadata": {},
     "output_type": "execute_result"
    }
   ],
   "source": [
    "data.plot {\n",
    "    x(years)\n",
    "    y(mid)\n",
    "    line {\n",
    "        color = Color.BLUE\n",
    "    }\n",
    "    errorBars {\n",
    "        yMin(min)\n",
    "        yMax(max)\n",
    "        borderLine.type = LineType.LONGDASH\n",
    "    }\n",
    "}"
   ],
   "metadata": {
    "collapsed": false,
    "ExecuteTime": {
     "end_time": "2023-11-20T23:28:27.158253Z",
     "start_time": "2023-11-20T23:28:26.665562Z"
    }
   }
  }
 ],
 "metadata": {
  "kernelspec": {
   "display_name": "Kotlin",
   "language": "kotlin",
   "name": "kotlin"
  },
  "language_info": {
   "name": "kotlin",
   "version": "1.9.0",
   "mimetype": "text/x-kotlin",
   "file_extension": ".kt",
   "pygments_lexer": "kotlin",
   "codemirror_mode": "text/x-kotlin",
   "nbconvert_exporter": ""
  }
 },
 "nbformat": 4,
 "nbformat_minor": 0
}
