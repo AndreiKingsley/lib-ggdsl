{
 "cells": [
  {
   "cell_type": "code",
   "execution_count": null,
   "metadata": {
    "collapsed": true
   },
   "outputs": [],
   "source": [
    "%useLatestDescriptors\n",
    "%use dataframe\n",
    "%use kandy"
   ]
  },
  {
   "cell_type": "code",
   "execution_count": null,
   "outputs": [],
   "source": [
    "val random = java.util.Random(42)\n",
    "\n",
    "val valuesA = List(100) { 3.0 + random.nextGaussian() * 0.5 }\n",
    "val valuesB = List(100) { 1.5 + random.nextDouble() * 4.5 }\n",
    "val valuesC = valuesA.zip(valuesB).map { (it.first + it.second) / 2.0 }\n",
    "\n",
    "\n",
    "val df = dataFrameOf(\n",
    "    \"value\" to valuesA + valuesB + valuesC,\n",
    "    \"group\" to List(100) { \"a\" } + List(100) { \"b\" } + List(100) { \"c\" }\n",
    ")"
   ],
   "metadata": {
    "collapsed": false
   }
  },
  {
   "cell_type": "code",
   "execution_count": null,
   "outputs": [],
   "source": [
    "df.plot {\n",
    "    statBoxplot(group, value) {\n",
    "        errorBars {\n",
    "            x(Stat.x)\n",
    "            yMin(Stat.min)\n",
    "            yMax(Stat.max)\n",
    "            borderLine.color(Stat.x)\n",
    "        }\n",
    "    }\n",
    "}"
   ],
   "metadata": {
    "collapsed": false
   }
  }
 ],
 "metadata": {
  "kernelspec": {
   "display_name": "Kotlin",
   "language": "kotlin",
   "name": "kotlin"
  },
  "language_info": {
   "name": "kotlin",
   "version": "1.9.0",
   "mimetype": "text/x-kotlin",
   "file_extension": ".kt",
   "pygments_lexer": "kotlin",
   "codemirror_mode": "text/x-kotlin",
   "nbconvert_exporter": ""
  }
 },
 "nbformat": 4,
 "nbformat_minor": 0
}
