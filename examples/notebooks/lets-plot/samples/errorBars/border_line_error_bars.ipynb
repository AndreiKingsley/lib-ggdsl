{
 "cells": [
  {
   "cell_type": "code",
   "execution_count": 1,
   "metadata": {
    "collapsed": true,
    "ExecuteTime": {
     "end_time": "2023-11-20T23:25:23.696680Z",
     "start_time": "2023-11-20T23:25:22.208530Z"
    }
   },
   "outputs": [],
   "source": [
    "%useLatestDescriptors\n",
    "%use kandy"
   ]
  },
  {
   "cell_type": "code",
   "execution_count": 2,
   "outputs": [
    {
     "data": {
      "text/html": "            <iframe src='about:blank' style='border:none !important;' width='600' height='400' srcdoc=\"&lt;html lang=&quot;en&quot;>\n   &lt;head>\n       &lt;style> html, body { margin: 0; overflow: hidden; } &lt;/style>\n       &lt;script type=&quot;text/javascript&quot; data-lets-plot-script=&quot;library&quot; src=&quot;https://cdn.jsdelivr.net/gh/JetBrains/lets-plot@v4.0.1/js-package/distr/lets-plot.min.js&quot;>&lt;/script>\n   &lt;/head>\n   &lt;body>\n          &lt;div id=&quot;jyP1xY&quot;>&lt;/div>\n   &lt;script type=&quot;text/javascript&quot; data-lets-plot-script=&quot;plot&quot;>\n       var plotSpec={\n&quot;mapping&quot;:{\n},\n&quot;data&quot;:{\n},\n&quot;kind&quot;:&quot;plot&quot;,\n&quot;scales&quot;:[{\n&quot;aesthetic&quot;:&quot;x&quot;,\n&quot;limits&quot;:[null,null]\n},{\n&quot;aesthetic&quot;:&quot;color&quot;,\n&quot;scale_mapper_kind&quot;:&quot;color_gradient&quot;,\n&quot;high&quot;:&quot;#3ba272&quot;,\n&quot;low&quot;:&quot;#000000&quot;,\n&quot;limits&quot;:[null,null]\n}],\n&quot;layers&quot;:[{\n&quot;mapping&quot;:{\n&quot;x&quot;:&quot;x&quot;,\n&quot;ymin&quot;:&quot;ymin&quot;,\n&quot;ymax&quot;:&quot;ymax&quot;,\n&quot;color&quot;:&quot;color&quot;\n},\n&quot;stat&quot;:&quot;identity&quot;,\n&quot;data&quot;:{\n&quot;ymin&quot;:[62.7,64.7,72.1,73.7,68.5],\n&quot;ymax&quot;:[68.9,71.3,78.9,76.5,72.1],\n&quot;color&quot;:[65.80000000000001,68.0,75.5,75.1,70.3],\n&quot;x&quot;:[2018.0,2019.0,2020.0,2021.0,2022.0]\n},\n&quot;size&quot;:1.8,\n&quot;sampling&quot;:&quot;none&quot;,\n&quot;position&quot;:&quot;dodge&quot;,\n&quot;geom&quot;:&quot;errorbar&quot;\n}]\n};\n       var plotContainer = document.getElementById(&quot;jyP1xY&quot;);\n       LetsPlot.buildPlotFromProcessedSpecs(plotSpec, -1, -1, plotContainer);\n   &lt;/script>\n   &lt;/body>\n&lt;/html>\"></iframe>            \n        <svg id=b4f77422-499b-4701-a2dc-0fc4e779deb1 xmlns=\"http://www.w3.org/2000/svg\" xmlns:xlink=\"http://www.w3.org/1999/xlink\" class=\"plt-container\" width=\"600.0\" height=\"400.0\">\n  <style type=\"text/css\">\n  .plt-container {\n   font-family: Lucida Grande, sans-serif;\n   user-select: none;\n   -webkit-user-select: none;\n   -moz-user-select: none;\n   -ms-user-select: none;\n}\ntext {\n   text-rendering: optimizeLegibility;\n}\n#peLsZxO .plot-title {\n   fill: #474747;\n   font-family: Lucida Grande, sans-serif;\n   font-size: 16.0px;\n   font-weight: normal;\n   font-style: normal;   \n}\n#peLsZxO .plot-subtitle {\n   fill: #474747;\n   font-family: Lucida Grande, sans-serif;\n   font-size: 15.0px;\n   font-weight: normal;\n   font-style: normal;   \n}\n#peLsZxO .plot-caption {\n   fill: #474747;\n   font-family: Lucida Grande, sans-serif;\n   font-size: 13.0px;\n   font-weight: normal;\n   font-style: normal;   \n}\n#peLsZxO .legend-title {\n   fill: #474747;\n   font-family: Lucida Grande, sans-serif;\n   font-size: 15.0px;\n   font-weight: normal;\n   font-style: normal;   \n}\n#peLsZxO .legend-item {\n   fill: #474747;\n   font-family: Lucida Grande, sans-serif;\n   font-size: 13.0px;\n   font-weight: normal;\n   font-style: normal;   \n}\n#peLsZxO .axis-title-x {\n   fill: #474747;\n   font-family: Lucida Grande, sans-serif;\n   font-size: 15.0px;\n   font-weight: normal;\n   font-style: normal;   \n}\n#peLsZxO .axis-text-x {\n   fill: #474747;\n   font-family: Lucida Grande, sans-serif;\n   font-size: 13.0px;\n   font-weight: normal;\n   font-style: normal;   \n}\n#di3DEls .axis-tooltip-text-x {\n   fill: #ffffff;\n   font-family: Lucida Grande, sans-serif;\n   font-size: 13.0px;\n   font-weight: normal;\n   font-style: normal;   \n}\n#peLsZxO .axis-title-y {\n   fill: #474747;\n   font-family: Lucida Grande, sans-serif;\n   font-size: 15.0px;\n   font-weight: normal;\n   font-style: normal;   \n}\n#peLsZxO .axis-text-y {\n   fill: #474747;\n   font-family: Lucida Grande, sans-serif;\n   font-size: 13.0px;\n   font-weight: normal;\n   font-style: normal;   \n}\n#di3DEls .axis-tooltip-text-y {\n   fill: #ffffff;\n   font-family: Lucida Grande, sans-serif;\n   font-size: 13.0px;\n   font-weight: normal;\n   font-style: normal;   \n}\n#peLsZxO .facet-strip-text-x {\n   fill: #474747;\n   font-family: Lucida Grande, sans-serif;\n   font-size: 13.0px;\n   font-weight: normal;\n   font-style: normal;   \n}\n#peLsZxO .facet-strip-text-y {\n   fill: #474747;\n   font-family: Lucida Grande, sans-serif;\n   font-size: 13.0px;\n   font-weight: normal;\n   font-style: normal;   \n}\n#di3DEls .tooltip-text {\n   fill: #474747;\n   font-family: Lucida Grande, sans-serif;\n   font-size: 13.0px;\n   font-weight: normal;\n   font-style: normal;   \n}\n#di3DEls .tooltip-title {\n   fill: #474747;\n   font-family: Lucida Grande, sans-serif;\n   font-size: 13.0px;\n   font-weight: bold;\n   font-style: normal;   \n}\n#di3DEls .tooltip-label {\n   fill: #474747;\n   font-family: Lucida Grande, sans-serif;\n   font-size: 13.0px;\n   font-weight: bold;\n   font-style: normal;   \n}\n\n  </style>\n  <g id=\"peLsZxO\">\n    <path fill-rule=\"evenodd\" fill=\"rgb(255,255,255)\" fill-opacity=\"1.0\" d=\"M0.0 0.0 L0.0 400.0 L600.0 400.0 L600.0 0.0 Z\">\n    </path>\n    <g transform=\"translate(23.0 10.0 ) \">\n      <g transform=\"translate(21.961210910936405 344.0 ) \">\n        <line x1=\"44.07233008460025\" y1=\"-0.0\" x2=\"44.07233008460025\" y2=\"-344.0\" stroke=\"rgb(233,233,233)\" stroke-opacity=\"1.0\" stroke-width=\"1.0\">\n        </line>\n        <line x1=\"142.55798390490236\" y1=\"-0.0\" x2=\"142.55798390490236\" y2=\"-344.0\" stroke=\"rgb(233,233,233)\" stroke-opacity=\"1.0\" stroke-width=\"1.0\">\n        </line>\n        <line x1=\"241.04363772520446\" y1=\"-0.0\" x2=\"241.04363772520446\" y2=\"-344.0\" stroke=\"rgb(233,233,233)\" stroke-opacity=\"1.0\" stroke-width=\"1.0\">\n        </line>\n        <line x1=\"339.52929154550657\" y1=\"-0.0\" x2=\"339.52929154550657\" y2=\"-344.0\" stroke=\"rgb(233,233,233)\" stroke-opacity=\"1.0\" stroke-width=\"1.0\">\n        </line>\n        <line x1=\"438.01494536580867\" y1=\"-0.0\" x2=\"438.01494536580867\" y2=\"-344.0\" stroke=\"rgb(233,233,233)\" stroke-opacity=\"1.0\" stroke-width=\"1.0\">\n        </line>\n        <g transform=\"translate(44.07233008460025 0.0 ) \">\n          <line stroke-width=\"1.0\" stroke=\"rgb(71,71,71)\" stroke-opacity=\"1.0\" x2=\"0.0\" y2=\"4.0\">\n          </line>\n          <g transform=\"translate(0.0 7.0 ) \">\n            <text class=\"axis-text-x\" text-anchor=\"middle\" dy=\"0.7em\">\n            2,018\n            </text>\n          </g>\n        </g>\n        <g transform=\"translate(142.55798390490236 0.0 ) \">\n          <line stroke-width=\"1.0\" stroke=\"rgb(71,71,71)\" stroke-opacity=\"1.0\" x2=\"0.0\" y2=\"4.0\">\n          </line>\n          <g transform=\"translate(0.0 7.0 ) \">\n            <text class=\"axis-text-x\" text-anchor=\"middle\" dy=\"0.7em\">\n            2,019\n            </text>\n          </g>\n        </g>\n        <g transform=\"translate(241.04363772520446 0.0 ) \">\n          <line stroke-width=\"1.0\" stroke=\"rgb(71,71,71)\" stroke-opacity=\"1.0\" x2=\"0.0\" y2=\"4.0\">\n          </line>\n          <g transform=\"translate(0.0 7.0 ) \">\n            <text class=\"axis-text-x\" text-anchor=\"middle\" dy=\"0.7em\">\n            2,020\n            </text>\n          </g>\n        </g>\n        <g transform=\"translate(339.52929154550657 0.0 ) \">\n          <line stroke-width=\"1.0\" stroke=\"rgb(71,71,71)\" stroke-opacity=\"1.0\" x2=\"0.0\" y2=\"4.0\">\n          </line>\n          <g transform=\"translate(0.0 7.0 ) \">\n            <text class=\"axis-text-x\" text-anchor=\"middle\" dy=\"0.7em\">\n            2,021\n            </text>\n          </g>\n        </g>\n        <g transform=\"translate(438.01494536580867 0.0 ) \">\n          <line stroke-width=\"1.0\" stroke=\"rgb(71,71,71)\" stroke-opacity=\"1.0\" x2=\"0.0\" y2=\"4.0\">\n          </line>\n          <g transform=\"translate(0.0 7.0 ) \">\n            <text class=\"axis-text-x\" text-anchor=\"middle\" dy=\"0.7em\">\n            2,022\n            </text>\n          </g>\n        </g>\n        <line x1=\"0.0\" y1=\"0.0\" x2=\"482.0872754503931\" y2=\"0.0\" stroke-width=\"1.0\" stroke=\"rgb(71,71,71)\" stroke-opacity=\"1.0\">\n        </line>\n      </g>\n      <g transform=\"translate(21.961210910936405 0.0 ) \">\n        <line x1=\"0.0\" y1=\"303.2682379349046\" x2=\"482.0872754503931\" y2=\"303.2682379349046\" stroke=\"rgb(233,233,233)\" stroke-opacity=\"1.0\" stroke-width=\"1.0\">\n        </line>\n        <line x1=\"0.0\" y1=\"264.6599326599328\" x2=\"482.0872754503931\" y2=\"264.6599326599328\" stroke=\"rgb(233,233,233)\" stroke-opacity=\"1.0\" stroke-width=\"1.0\">\n        </line>\n        <line x1=\"0.0\" y1=\"226.05162738496074\" x2=\"482.0872754503931\" y2=\"226.05162738496074\" stroke=\"rgb(233,233,233)\" stroke-opacity=\"1.0\" stroke-width=\"1.0\">\n        </line>\n        <line x1=\"0.0\" y1=\"187.4433221099889\" x2=\"482.0872754503931\" y2=\"187.4433221099889\" stroke=\"rgb(233,233,233)\" stroke-opacity=\"1.0\" stroke-width=\"1.0\">\n        </line>\n        <line x1=\"0.0\" y1=\"148.83501683501686\" x2=\"482.0872754503931\" y2=\"148.83501683501686\" stroke=\"rgb(233,233,233)\" stroke-opacity=\"1.0\" stroke-width=\"1.0\">\n        </line>\n        <line x1=\"0.0\" y1=\"110.22671156004503\" x2=\"482.0872754503931\" y2=\"110.22671156004503\" stroke=\"rgb(233,233,233)\" stroke-opacity=\"1.0\" stroke-width=\"1.0\">\n        </line>\n        <line x1=\"0.0\" y1=\"71.61840628507298\" x2=\"482.0872754503931\" y2=\"71.61840628507298\" stroke=\"rgb(233,233,233)\" stroke-opacity=\"1.0\" stroke-width=\"1.0\">\n        </line>\n        <line x1=\"0.0\" y1=\"33.01010101010115\" x2=\"482.0872754503931\" y2=\"33.01010101010115\" stroke=\"rgb(233,233,233)\" stroke-opacity=\"1.0\" stroke-width=\"1.0\">\n        </line>\n        <g transform=\"translate(0.0 341.87654320987644 ) \">\n          <g transform=\"translate(-3.0 0.0 ) \">\n            <text class=\"axis-text-y\" text-anchor=\"end\" dy=\"0.35em\">\n            62\n            </text>\n          </g>\n        </g>\n        <g transform=\"translate(0.0 303.2682379349046 ) \">\n          <g transform=\"translate(-3.0 0.0 ) \">\n            <text class=\"axis-text-y\" text-anchor=\"end\" dy=\"0.35em\">\n            64\n            </text>\n          </g>\n        </g>\n        <g transform=\"translate(0.0 264.6599326599328 ) \">\n          <g transform=\"translate(-3.0 0.0 ) \">\n            <text class=\"axis-text-y\" text-anchor=\"end\" dy=\"0.35em\">\n            66\n            </text>\n          </g>\n        </g>\n        <g transform=\"translate(0.0 226.05162738496074 ) \">\n          <g transform=\"translate(-3.0 0.0 ) \">\n            <text class=\"axis-text-y\" text-anchor=\"end\" dy=\"0.35em\">\n            68\n            </text>\n          </g>\n        </g>\n        <g transform=\"translate(0.0 187.4433221099889 ) \">\n          <g transform=\"translate(-3.0 0.0 ) \">\n            <text class=\"axis-text-y\" text-anchor=\"end\" dy=\"0.35em\">\n            70\n            </text>\n          </g>\n        </g>\n        <g transform=\"translate(0.0 148.83501683501686 ) \">\n          <g transform=\"translate(-3.0 0.0 ) \">\n            <text class=\"axis-text-y\" text-anchor=\"end\" dy=\"0.35em\">\n            72\n            </text>\n          </g>\n        </g>\n        <g transform=\"translate(0.0 110.22671156004503 ) \">\n          <g transform=\"translate(-3.0 0.0 ) \">\n            <text class=\"axis-text-y\" text-anchor=\"end\" dy=\"0.35em\">\n            74\n            </text>\n          </g>\n        </g>\n        <g transform=\"translate(0.0 71.61840628507298 ) \">\n          <g transform=\"translate(-3.0 0.0 ) \">\n            <text class=\"axis-text-y\" text-anchor=\"end\" dy=\"0.35em\">\n            76\n            </text>\n          </g>\n        </g>\n        <g transform=\"translate(0.0 33.01010101010115 ) \">\n          <g transform=\"translate(-3.0 0.0 ) \">\n            <text class=\"axis-text-y\" text-anchor=\"end\" dy=\"0.35em\">\n            78\n            </text>\n          </g>\n        </g>\n      </g>\n      <g transform=\"translate(21.961210910936405 0.0 ) \" clip-path=\"url(#ccgHHVF)\" clip-bounds-jfx=\"[rect (0.0, 0.0), (482.0872754503931, 344.0)]\">\n        <defs>\n          <clipPath id=\"ccgHHVF\">\n            <rect x=\"0.0\" y=\"0.0\" width=\"482.0872754503931\" height=\"344.0\">\n            </rect>\n          </clipPath>\n        </defs>\n        <g>\n          <line x1=\"21.913057975034462\" y1=\"328.36363636363626\" x2=\"66.23160219416604\" y2=\"328.36363636363626\" stroke=\"rgb(0,0,0)\" stroke-opacity=\"1.0\" fill=\"rgb(17,142,216)\" fill-opacity=\"1.0\" stroke-width=\"3.9600000000000004\">\n          </line>\n          <line x1=\"21.913057975034462\" y1=\"208.67789001122333\" x2=\"66.23160219416604\" y2=\"208.67789001122333\" stroke=\"rgb(0,0,0)\" stroke-opacity=\"1.0\" fill=\"rgb(17,142,216)\" fill-opacity=\"1.0\" stroke-width=\"3.9600000000000004\">\n          </line>\n          <line x1=\"44.07233008460025\" y1=\"328.36363636363626\" x2=\"44.07233008460025\" y2=\"208.67789001122333\" stroke=\"rgb(0,0,0)\" stroke-opacity=\"1.0\" fill=\"rgb(17,142,216)\" fill-opacity=\"1.0\" stroke-width=\"3.9600000000000004\">\n          </line>\n        </g>\n        <g>\n          <line x1=\"120.39871179533657\" y1=\"289.75533108866443\" x2=\"164.71725601446815\" y2=\"289.75533108866443\" stroke=\"rgb(32,37,35)\" stroke-opacity=\"1.0\" fill=\"rgb(17,142,216)\" fill-opacity=\"1.0\" stroke-width=\"3.9600000000000004\">\n          </line>\n          <line x1=\"120.39871179533657\" y1=\"162.34792368125704\" x2=\"164.71725601446815\" y2=\"162.34792368125704\" stroke=\"rgb(32,37,35)\" stroke-opacity=\"1.0\" fill=\"rgb(17,142,216)\" fill-opacity=\"1.0\" stroke-width=\"3.9600000000000004\">\n          </line>\n          <line x1=\"142.55798390490236\" y1=\"289.75533108866443\" x2=\"142.55798390490236\" y2=\"162.34792368125704\" stroke=\"rgb(32,37,35)\" stroke-opacity=\"1.0\" fill=\"rgb(17,142,216)\" fill-opacity=\"1.0\" stroke-width=\"3.9600000000000004\">\n          </line>\n        </g>\n        <g>\n          <line x1=\"218.88436561563867\" y1=\"146.90460157126836\" x2=\"263.20290983477025\" y2=\"146.90460157126836\" stroke=\"rgb(59,163,115)\" stroke-opacity=\"1.0\" fill=\"rgb(17,142,216)\" fill-opacity=\"1.0\" stroke-width=\"3.9600000000000004\">\n          </line>\n          <line x1=\"218.88436561563867\" y1=\"15.63636363636374\" x2=\"263.20290983477025\" y2=\"15.63636363636374\" stroke=\"rgb(59,163,115)\" stroke-opacity=\"1.0\" fill=\"rgb(17,142,216)\" fill-opacity=\"1.0\" stroke-width=\"3.9600000000000004\">\n          </line>\n          <line x1=\"241.04363772520446\" y1=\"146.90460157126836\" x2=\"241.04363772520446\" y2=\"15.63636363636374\" stroke=\"rgb(59,163,115)\" stroke-opacity=\"1.0\" fill=\"rgb(17,142,216)\" fill-opacity=\"1.0\" stroke-width=\"3.9600000000000004\">\n          </line>\n        </g>\n        <g>\n          <line x1=\"317.3700194359408\" y1=\"116.01795735129076\" x2=\"361.68856365510146\" y2=\"116.01795735129076\" stroke=\"rgb(60,156,112)\" stroke-opacity=\"1.0\" fill=\"rgb(17,142,216)\" fill-opacity=\"1.0\" stroke-width=\"3.9600000000000004\">\n          </line>\n          <line x1=\"317.3700194359408\" y1=\"61.96632996633002\" x2=\"361.68856365510146\" y2=\"61.96632996633002\" stroke=\"rgb(60,156,112)\" stroke-opacity=\"1.0\" fill=\"rgb(17,142,216)\" fill-opacity=\"1.0\" stroke-width=\"3.9600000000000004\">\n          </line>\n          <line x1=\"339.52929154550657\" y1=\"116.01795735129076\" x2=\"339.52929154550657\" y2=\"61.96632996633002\" stroke=\"rgb(60,156,112)\" stroke-opacity=\"1.0\" fill=\"rgb(17,142,216)\" fill-opacity=\"1.0\" stroke-width=\"3.9600000000000004\">\n          </line>\n        </g>\n        <g>\n          <line x1=\"415.8556732562429\" y1=\"216.39955106621778\" x2=\"460.17421747540357\" y2=\"216.39955106621778\" stroke=\"rgb(53,76,65)\" stroke-opacity=\"1.0\" fill=\"rgb(17,142,216)\" fill-opacity=\"1.0\" stroke-width=\"3.9600000000000004\">\n          </line>\n          <line x1=\"415.8556732562429\" y1=\"146.90460157126836\" x2=\"460.17421747540357\" y2=\"146.90460157126836\" stroke=\"rgb(53,76,65)\" stroke-opacity=\"1.0\" fill=\"rgb(17,142,216)\" fill-opacity=\"1.0\" stroke-width=\"3.9600000000000004\">\n          </line>\n          <line x1=\"438.01494536580867\" y1=\"216.39955106621778\" x2=\"438.01494536580867\" y2=\"146.90460157126836\" stroke=\"rgb(53,76,65)\" stroke-opacity=\"1.0\" fill=\"rgb(17,142,216)\" fill-opacity=\"1.0\" stroke-width=\"3.9600000000000004\">\n          </line>\n        </g>\n      </g>\n    </g>\n    <g transform=\"translate(14.5 182.0 ) rotate(-90.0 ) \">\n      <text class=\"axis-title-y\" y=\"0.0\" text-anchor=\"middle\">\n      y\n      </text>\n    </g>\n    <g transform=\"translate(286.004848636133 391.5 ) \">\n      <text class=\"axis-title-x\" y=\"0.0\" text-anchor=\"middle\">\n      x\n      </text>\n    </g>\n    <g transform=\"translate(537.0484863613295 103.25 ) \">\n      <rect x=\"5.0\" y=\"5.0\" height=\"147.5\" width=\"52.951513638670505\" stroke=\"rgb(71,71,71)\" stroke-opacity=\"1.0\" stroke-width=\"0.0\" fill=\"rgb(255,255,255)\" fill-opacity=\"1.0\">\n      </rect>\n      <g transform=\"translate(10.0 10.0 ) \">\n        <g transform=\"translate(0.0 10.5 ) \">\n          <text class=\"legend-title\" y=\"0.0\">\n          color\n          </text>\n        </g>\n        <g transform=\"translate(0.0 22.5 ) \">\n          <g>\n            <rect x=\"0.0\" y=\"0.0\" height=\"115.0\" width=\"23.0\" stroke-width=\"0.0\" fill=\"rgb(60,159,113)\" fill-opacity=\"1.0\">\n            </rect>\n            <rect x=\"0.0\" y=\"7.55\" height=\"107.45\" width=\"23.0\" stroke-width=\"0.0\" fill=\"rgb(62,151,109)\" fill-opacity=\"1.0\">\n            </rect>\n            <rect x=\"0.0\" y=\"13.1\" height=\"101.9\" width=\"23.0\" stroke-width=\"0.0\" fill=\"rgb(63,143,106)\" fill-opacity=\"1.0\">\n            </rect>\n            <rect x=\"0.0\" y=\"18.65\" height=\"96.35\" width=\"23.0\" stroke-width=\"0.0\" fill=\"rgb(64,135,102)\" fill-opacity=\"1.0\">\n            </rect>\n            <rect x=\"0.0\" y=\"24.2\" height=\"90.8\" width=\"23.0\" stroke-width=\"0.0\" fill=\"rgb(64,126,97)\" fill-opacity=\"1.0\">\n            </rect>\n            <rect x=\"0.0\" y=\"29.75\" height=\"85.25\" width=\"23.0\" stroke-width=\"0.0\" fill=\"rgb(63,118,93)\" fill-opacity=\"1.0\">\n            </rect>\n            <rect x=\"0.0\" y=\"35.3\" height=\"79.7\" width=\"23.0\" stroke-width=\"0.0\" fill=\"rgb(63,110,88)\" fill-opacity=\"1.0\">\n            </rect>\n            <rect x=\"0.0\" y=\"40.849999999999994\" height=\"74.15\" width=\"23.0\" stroke-width=\"0.0\" fill=\"rgb(61,102,83)\" fill-opacity=\"1.0\">\n            </rect>\n            <rect x=\"0.0\" y=\"46.39999999999999\" height=\"68.60000000000001\" width=\"23.0\" stroke-width=\"0.0\" fill=\"rgb(59,94,78)\" fill-opacity=\"1.0\">\n            </rect>\n            <rect x=\"0.0\" y=\"51.94999999999999\" height=\"63.05000000000001\" width=\"23.0\" stroke-width=\"0.0\" fill=\"rgb(57,86,72)\" fill-opacity=\"1.0\">\n            </rect>\n            <rect x=\"0.0\" y=\"57.499999999999986\" height=\"57.500000000000014\" width=\"23.0\" stroke-width=\"0.0\" fill=\"rgb(54,78,67)\" fill-opacity=\"1.0\">\n            </rect>\n            <rect x=\"0.0\" y=\"63.04999999999998\" height=\"51.95000000000002\" width=\"23.0\" stroke-width=\"0.0\" fill=\"rgb(50,69,61)\" fill-opacity=\"1.0\">\n            </rect>\n            <rect x=\"0.0\" y=\"68.59999999999998\" height=\"46.40000000000002\" width=\"23.0\" stroke-width=\"0.0\" fill=\"rgb(47,61,54)\" fill-opacity=\"1.0\">\n            </rect>\n            <rect x=\"0.0\" y=\"74.14999999999998\" height=\"40.85000000000002\" width=\"23.0\" stroke-width=\"0.0\" fill=\"rgb(42,53,48)\" fill-opacity=\"1.0\">\n            </rect>\n            <rect x=\"0.0\" y=\"79.69999999999997\" height=\"35.300000000000026\" width=\"23.0\" stroke-width=\"0.0\" fill=\"rgb(37,45,41)\" fill-opacity=\"1.0\">\n            </rect>\n            <rect x=\"0.0\" y=\"85.24999999999997\" height=\"29.75000000000003\" width=\"23.0\" stroke-width=\"0.0\" fill=\"rgb(31,37,34)\" fill-opacity=\"1.0\">\n            </rect>\n            <rect x=\"0.0\" y=\"90.79999999999997\" height=\"24.20000000000003\" width=\"23.0\" stroke-width=\"0.0\" fill=\"rgb(25,29,27)\" fill-opacity=\"1.0\">\n            </rect>\n            <rect x=\"0.0\" y=\"96.34999999999997\" height=\"18.650000000000034\" width=\"23.0\" stroke-width=\"0.0\" fill=\"rgb(19,20,20)\" fill-opacity=\"1.0\">\n            </rect>\n            <rect x=\"0.0\" y=\"101.89999999999996\" height=\"13.100000000000037\" width=\"23.0\" stroke-width=\"0.0\" fill=\"rgb(12,12,12)\" fill-opacity=\"1.0\">\n            </rect>\n            <rect x=\"0.0\" y=\"107.44999999999996\" height=\"7.55000000000004\" width=\"23.0\" stroke-width=\"0.0\" fill=\"rgb(4,4,4)\" fill-opacity=\"1.0\">\n            </rect>\n            <line x1=\"0.0\" y1=\"110.7113402061857\" x2=\"4.6\" y2=\"110.7113402061857\" stroke-width=\"1.0\" stroke=\"rgb(255,255,255)\" stroke-opacity=\"1.0\">\n            </line>\n            <line x1=\"18.4\" y1=\"110.7113402061857\" x2=\"23.0\" y2=\"110.7113402061857\" stroke-width=\"1.0\" stroke=\"rgb(255,255,255)\" stroke-opacity=\"1.0\">\n            </line>\n            <g transform=\"translate(26.9903027277341 115.2613402061857 ) \">\n              <text class=\"legend-item\" y=\"0.0\">\n              66\n              </text>\n            </g>\n            <line x1=\"0.0\" y1=\"87.8247422680414\" x2=\"4.6\" y2=\"87.8247422680414\" stroke-width=\"1.0\" stroke=\"rgb(255,255,255)\" stroke-opacity=\"1.0\">\n            </line>\n            <line x1=\"18.4\" y1=\"87.8247422680414\" x2=\"23.0\" y2=\"87.8247422680414\" stroke-width=\"1.0\" stroke=\"rgb(255,255,255)\" stroke-opacity=\"1.0\">\n            </line>\n            <g transform=\"translate(26.9903027277341 92.3747422680414 ) \">\n              <text class=\"legend-item\" y=\"0.0\">\n              68\n              </text>\n            </g>\n            <line x1=\"0.0\" y1=\"64.938144329897\" x2=\"4.6\" y2=\"64.938144329897\" stroke-width=\"1.0\" stroke=\"rgb(255,255,255)\" stroke-opacity=\"1.0\">\n            </line>\n            <line x1=\"18.4\" y1=\"64.938144329897\" x2=\"23.0\" y2=\"64.938144329897\" stroke-width=\"1.0\" stroke=\"rgb(255,255,255)\" stroke-opacity=\"1.0\">\n            </line>\n            <g transform=\"translate(26.9903027277341 69.488144329897 ) \">\n              <text class=\"legend-item\" y=\"0.0\">\n              70\n              </text>\n            </g>\n            <line x1=\"0.0\" y1=\"42.05154639175271\" x2=\"4.6\" y2=\"42.05154639175271\" stroke-width=\"1.0\" stroke=\"rgb(255,255,255)\" stroke-opacity=\"1.0\">\n            </line>\n            <line x1=\"18.4\" y1=\"42.05154639175271\" x2=\"23.0\" y2=\"42.05154639175271\" stroke-width=\"1.0\" stroke=\"rgb(255,255,255)\" stroke-opacity=\"1.0\">\n            </line>\n            <g transform=\"translate(26.9903027277341 46.601546391752706 ) \">\n              <text class=\"legend-item\" y=\"0.0\">\n              72\n              </text>\n            </g>\n            <line x1=\"0.0\" y1=\"19.164948453608304\" x2=\"4.6\" y2=\"19.164948453608304\" stroke-width=\"1.0\" stroke=\"rgb(255,255,255)\" stroke-opacity=\"1.0\">\n            </line>\n            <line x1=\"18.4\" y1=\"19.164948453608304\" x2=\"23.0\" y2=\"19.164948453608304\" stroke-width=\"1.0\" stroke=\"rgb(255,255,255)\" stroke-opacity=\"1.0\">\n            </line>\n            <g transform=\"translate(26.9903027277341 23.7149484536083 ) \">\n              <text class=\"legend-item\" y=\"0.0\">\n              74\n              </text>\n            </g>\n          </g>\n        </g>\n      </g>\n    </g>\n    <path fill=\"rgb(0,0,0)\" fill-opacity=\"0.0\" stroke=\"rgb(71,71,71)\" stroke-opacity=\"1.0\" stroke-width=\"0.0\" d=\"M0.0 0.0 L0.0 400.0 L600.0 400.0 L600.0 0.0 Z\">\n    </path>\n  </g>\n  <g id=\"di3DEls\">\n  </g>\n</svg>\n        <script>document.getElementById(\"b4f77422-499b-4701-a2dc-0fc4e779deb1\").style.display = \"none\";</script>",
      "application/plot+json": {
       "output_type": "lets_plot_spec",
       "output": {
        "mapping": {},
        "data": {},
        "kind": "plot",
        "scales": [
         {
          "aesthetic": "x",
          "limits": [
           null,
           null
          ]
         },
         {
          "aesthetic": "color",
          "scale_mapper_kind": "color_gradient",
          "high": "#3ba272",
          "low": "#000000",
          "limits": [
           null,
           null
          ]
         }
        ],
        "layers": [
         {
          "mapping": {
           "x": "x",
           "ymin": "ymin",
           "ymax": "ymax",
           "color": "color"
          },
          "stat": "identity",
          "data": {
           "ymin": [
            62.7,
            64.7,
            72.1,
            73.7,
            68.5
           ],
           "ymax": [
            68.9,
            71.3,
            78.9,
            76.5,
            72.1
           ],
           "color": [
            65.8,
            68.0,
            75.5,
            75.1,
            70.3
           ],
           "x": [
            2018.0,
            2019.0,
            2020.0,
            2021.0,
            2022.0
           ]
          },
          "size": 1.8,
          "sampling": "none",
          "position": "dodge",
          "geom": "errorbar"
         }
        ]
       },
       "apply_color_scheme": true,
       "swing_enabled": true
      }
     },
     "execution_count": 2,
     "metadata": {},
     "output_type": "execute_result"
    }
   ],
   "source": [
    "val years = listOf(2018, 2019, 2020, 2021, 2022)\n",
    "val costMin = listOf(62.7, 64.7, 72.1, 73.7, 68.5)\n",
    "val costMax = listOf(68.9, 71.3, 78.9, 76.5, 72.1)\n",
    "val mid = costMin.zip(costMax).map { (it.first + it.second) / 2.0 }\n",
    "\n",
    "plot {\n",
    "    errorBars {\n",
    "        x(years)\n",
    "        yMin(costMin)\n",
    "        yMax(costMax)\n",
    "        borderLine {\n",
    "            color(mid) {\n",
    "                scale = continuous(Color.BLACK..Color.GREEN)\n",
    "            }\n",
    "            width = 1.8\n",
    "        }\n",
    "    }\n",
    "}"
   ],
   "metadata": {
    "collapsed": false,
    "ExecuteTime": {
     "end_time": "2023-11-20T23:25:32.477586Z",
     "start_time": "2023-11-20T23:25:31.591424Z"
    }
   }
  }
 ],
 "metadata": {
  "kernelspec": {
   "display_name": "Kotlin",
   "language": "kotlin",
   "name": "kotlin"
  },
  "language_info": {
   "name": "kotlin",
   "version": "1.9.0",
   "mimetype": "text/x-kotlin",
   "file_extension": ".kt",
   "pygments_lexer": "kotlin",
   "codemirror_mode": "text/x-kotlin",
   "nbconvert_exporter": ""
  }
 },
 "nbformat": 4,
 "nbformat_minor": 0
}
