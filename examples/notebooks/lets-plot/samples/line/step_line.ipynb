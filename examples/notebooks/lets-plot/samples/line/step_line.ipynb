{
 "cells": [
  {
   "cell_type": "code",
   "execution_count": 2,
   "metadata": {
    "collapsed": true,
    "ExecuteTime": {
     "end_time": "2023-11-17T23:31:03.198396Z",
     "start_time": "2023-11-17T23:31:02.932425Z"
    }
   },
   "outputs": [],
   "source": [
    "%use kandy\n",
    "%use dataframe"
   ]
  },
  {
   "cell_type": "code",
   "execution_count": 3,
   "outputs": [
    {
     "data": {
      "text/html": "            <iframe src='about:blank' style='border:none !important;' width='600' height='400' srcdoc=\"&lt;html lang=&quot;en&quot;>\n   &lt;head>\n       &lt;style> html, body { margin: 0; overflow: hidden; } &lt;/style>\n       &lt;script type=&quot;text/javascript&quot; data-lets-plot-script=&quot;library&quot; src=&quot;https://cdn.jsdelivr.net/gh/JetBrains/lets-plot@v4.0.1/js-package/distr/lets-plot.min.js&quot;>&lt;/script>\n   &lt;/head>\n   &lt;body>\n          &lt;div id=&quot;qlnayb&quot;>&lt;/div>\n   &lt;script type=&quot;text/javascript&quot; data-lets-plot-script=&quot;plot&quot;>\n       var plotSpec={\n&quot;ggtitle&quot;:{\n&quot;text&quot;:&quot;Step line&quot;\n},\n&quot;mapping&quot;:{\n},\n&quot;data&quot;:{\n&quot;y*&quot;:[220.0,282.0,201.0,234.0,290.0,430.0,410.0],\n&quot;x&quot;:[&quot;Mon&quot;,&quot;Tue&quot;,&quot;Wed&quot;,&quot;Thu&quot;,&quot;Fri&quot;,&quot;Sat&quot;,&quot;Sun&quot;],\n&quot;y**&quot;:[450.0,432.0,401.0,454.0,590.0,530.0,510.0],\n&quot;y&quot;:[120.0,132.0,101.0,134.0,90.0,230.0,210.0]\n},\n&quot;kind&quot;:&quot;plot&quot;,\n&quot;scales&quot;:[{\n&quot;aesthetic&quot;:&quot;x&quot;,\n&quot;discrete&quot;:true\n},{\n&quot;aesthetic&quot;:&quot;y&quot;,\n&quot;limits&quot;:[null,null]\n},{\n&quot;aesthetic&quot;:&quot;x&quot;,\n&quot;discrete&quot;:true\n},{\n&quot;aesthetic&quot;:&quot;y&quot;,\n&quot;limits&quot;:[null,null]\n},{\n&quot;aesthetic&quot;:&quot;x&quot;,\n&quot;discrete&quot;:true\n},{\n&quot;aesthetic&quot;:&quot;y&quot;,\n&quot;limits&quot;:[null,null]\n},{\n&quot;aesthetic&quot;:&quot;x&quot;,\n&quot;discrete&quot;:true\n},{\n&quot;aesthetic&quot;:&quot;y&quot;,\n&quot;limits&quot;:[null,null]\n},{\n&quot;aesthetic&quot;:&quot;x&quot;,\n&quot;discrete&quot;:true\n},{\n&quot;aesthetic&quot;:&quot;y&quot;,\n&quot;limits&quot;:[null,null]\n},{\n&quot;aesthetic&quot;:&quot;x&quot;,\n&quot;discrete&quot;:true\n},{\n&quot;aesthetic&quot;:&quot;y&quot;,\n&quot;limits&quot;:[null,null]\n}],\n&quot;layers&quot;:[{\n&quot;mapping&quot;:{\n&quot;x&quot;:&quot;x&quot;,\n&quot;y&quot;:&quot;y&quot;\n},\n&quot;stat&quot;:&quot;identity&quot;,\n&quot;color&quot;:&quot;#73c0de&quot;,\n&quot;sampling&quot;:&quot;none&quot;,\n&quot;position&quot;:&quot;identity&quot;,\n&quot;geom&quot;:&quot;step&quot;,\n&quot;data&quot;:{\n}\n},{\n&quot;mapping&quot;:{\n&quot;x&quot;:&quot;x&quot;,\n&quot;y&quot;:&quot;y&quot;\n},\n&quot;stat&quot;:&quot;identity&quot;,\n&quot;shape&quot;:1.0,\n&quot;color&quot;:&quot;#5470c6&quot;,\n&quot;sampling&quot;:&quot;none&quot;,\n&quot;position&quot;:&quot;identity&quot;,\n&quot;geom&quot;:&quot;point&quot;,\n&quot;data&quot;:{\n}\n},{\n&quot;mapping&quot;:{\n&quot;x&quot;:&quot;x&quot;,\n&quot;y&quot;:&quot;y*&quot;\n},\n&quot;stat&quot;:&quot;identity&quot;,\n&quot;color&quot;:&quot;#3ba272&quot;,\n&quot;linetype&quot;:&quot;longdash&quot;,\n&quot;sampling&quot;:&quot;none&quot;,\n&quot;position&quot;:&quot;identity&quot;,\n&quot;geom&quot;:&quot;step&quot;,\n&quot;data&quot;:{\n}\n},{\n&quot;mapping&quot;:{\n&quot;x&quot;:&quot;x&quot;,\n&quot;y&quot;:&quot;y*&quot;\n},\n&quot;stat&quot;:&quot;identity&quot;,\n&quot;shape&quot;:10.0,\n&quot;color&quot;:&quot;#3ba272&quot;,\n&quot;sampling&quot;:&quot;none&quot;,\n&quot;position&quot;:&quot;identity&quot;,\n&quot;geom&quot;:&quot;point&quot;,\n&quot;data&quot;:{\n}\n},{\n&quot;mapping&quot;:{\n&quot;x&quot;:&quot;x&quot;,\n&quot;y&quot;:&quot;y**&quot;\n},\n&quot;stat&quot;:&quot;identity&quot;,\n&quot;color&quot;:&quot;#fac858&quot;,\n&quot;sampling&quot;:&quot;none&quot;,\n&quot;position&quot;:&quot;identity&quot;,\n&quot;geom&quot;:&quot;step&quot;,\n&quot;data&quot;:{\n}\n},{\n&quot;mapping&quot;:{\n&quot;x&quot;:&quot;x&quot;,\n&quot;y&quot;:&quot;y**&quot;\n},\n&quot;stat&quot;:&quot;identity&quot;,\n&quot;shape&quot;:21.0,\n&quot;color&quot;:&quot;#a39999&quot;,\n&quot;sampling&quot;:&quot;none&quot;,\n&quot;position&quot;:&quot;identity&quot;,\n&quot;geom&quot;:&quot;point&quot;,\n&quot;fill&quot;:&quot;#fac858&quot;,\n&quot;data&quot;:{\n}\n}]\n};\n       var plotContainer = document.getElementById(&quot;qlnayb&quot;);\n       LetsPlot.buildPlotFromProcessedSpecs(plotSpec, -1, -1, plotContainer);\n   &lt;/script>\n   &lt;/body>\n&lt;/html>\"></iframe>            \n        <svg id=30841967-f235-49bf-888b-3063018afe3d xmlns=\"http://www.w3.org/2000/svg\" xmlns:xlink=\"http://www.w3.org/1999/xlink\" class=\"plt-container\" width=\"600.0\" height=\"400.0\">\n  <style type=\"text/css\">\n  .plt-container {\n   font-family: Lucida Grande, sans-serif;\n   user-select: none;\n   -webkit-user-select: none;\n   -moz-user-select: none;\n   -ms-user-select: none;\n}\ntext {\n   text-rendering: optimizeLegibility;\n}\n#pMyk8Ef .plot-title {\n   fill: #474747;\n   font-family: Lucida Grande, sans-serif;\n   font-size: 16.0px;\n   font-weight: normal;\n   font-style: normal;   \n}\n#pMyk8Ef .plot-subtitle {\n   fill: #474747;\n   font-family: Lucida Grande, sans-serif;\n   font-size: 15.0px;\n   font-weight: normal;\n   font-style: normal;   \n}\n#pMyk8Ef .plot-caption {\n   fill: #474747;\n   font-family: Lucida Grande, sans-serif;\n   font-size: 13.0px;\n   font-weight: normal;\n   font-style: normal;   \n}\n#pMyk8Ef .legend-title {\n   fill: #474747;\n   font-family: Lucida Grande, sans-serif;\n   font-size: 15.0px;\n   font-weight: normal;\n   font-style: normal;   \n}\n#pMyk8Ef .legend-item {\n   fill: #474747;\n   font-family: Lucida Grande, sans-serif;\n   font-size: 13.0px;\n   font-weight: normal;\n   font-style: normal;   \n}\n#pMyk8Ef .axis-title-x {\n   fill: #474747;\n   font-family: Lucida Grande, sans-serif;\n   font-size: 15.0px;\n   font-weight: normal;\n   font-style: normal;   \n}\n#pMyk8Ef .axis-text-x {\n   fill: #474747;\n   font-family: Lucida Grande, sans-serif;\n   font-size: 13.0px;\n   font-weight: normal;\n   font-style: normal;   \n}\n#dUFnaHm .axis-tooltip-text-x {\n   fill: #ffffff;\n   font-family: Lucida Grande, sans-serif;\n   font-size: 13.0px;\n   font-weight: normal;\n   font-style: normal;   \n}\n#pMyk8Ef .axis-title-y {\n   fill: #474747;\n   font-family: Lucida Grande, sans-serif;\n   font-size: 15.0px;\n   font-weight: normal;\n   font-style: normal;   \n}\n#pMyk8Ef .axis-text-y {\n   fill: #474747;\n   font-family: Lucida Grande, sans-serif;\n   font-size: 13.0px;\n   font-weight: normal;\n   font-style: normal;   \n}\n#dUFnaHm .axis-tooltip-text-y {\n   fill: #ffffff;\n   font-family: Lucida Grande, sans-serif;\n   font-size: 13.0px;\n   font-weight: normal;\n   font-style: normal;   \n}\n#pMyk8Ef .facet-strip-text-x {\n   fill: #474747;\n   font-family: Lucida Grande, sans-serif;\n   font-size: 13.0px;\n   font-weight: normal;\n   font-style: normal;   \n}\n#pMyk8Ef .facet-strip-text-y {\n   fill: #474747;\n   font-family: Lucida Grande, sans-serif;\n   font-size: 13.0px;\n   font-weight: normal;\n   font-style: normal;   \n}\n#dUFnaHm .tooltip-text {\n   fill: #474747;\n   font-family: Lucida Grande, sans-serif;\n   font-size: 13.0px;\n   font-weight: normal;\n   font-style: normal;   \n}\n#dUFnaHm .tooltip-title {\n   fill: #474747;\n   font-family: Lucida Grande, sans-serif;\n   font-size: 13.0px;\n   font-weight: bold;\n   font-style: normal;   \n}\n#dUFnaHm .tooltip-label {\n   fill: #474747;\n   font-family: Lucida Grande, sans-serif;\n   font-size: 13.0px;\n   font-weight: bold;\n   font-style: normal;   \n}\n\n  </style>\n  <g id=\"pMyk8Ef\">\n    <path fill-rule=\"evenodd\" fill=\"rgb(255,255,255)\" fill-opacity=\"1.0\" d=\"M0.0 0.0 L0.0 400.0 L600.0 400.0 L600.0 0.0 Z\">\n    </path>\n    <g transform=\"translate(23.0 34.0 ) \">\n      <g transform=\"translate(29.941816366404606 320.0 ) \">\n        <line x1=\"16.783068238549856\" y1=\"-0.0\" x2=\"16.783068238549856\" y2=\"-320.0\" stroke=\"rgb(233,233,233)\" stroke-opacity=\"1.0\" stroke-width=\"1.0\">\n        </line>\n        <line x1=\"100.69840943129913\" y1=\"-0.0\" x2=\"100.69840943129913\" y2=\"-320.0\" stroke=\"rgb(233,233,233)\" stroke-opacity=\"1.0\" stroke-width=\"1.0\">\n        </line>\n        <line x1=\"184.61375062404838\" y1=\"-0.0\" x2=\"184.61375062404838\" y2=\"-320.0\" stroke=\"rgb(233,233,233)\" stroke-opacity=\"1.0\" stroke-width=\"1.0\">\n        </line>\n        <line x1=\"268.52909181679763\" y1=\"-0.0\" x2=\"268.52909181679763\" y2=\"-320.0\" stroke=\"rgb(233,233,233)\" stroke-opacity=\"1.0\" stroke-width=\"1.0\">\n        </line>\n        <line x1=\"352.4444330095469\" y1=\"-0.0\" x2=\"352.4444330095469\" y2=\"-320.0\" stroke=\"rgb(233,233,233)\" stroke-opacity=\"1.0\" stroke-width=\"1.0\">\n        </line>\n        <line x1=\"436.3597742022962\" y1=\"-0.0\" x2=\"436.3597742022962\" y2=\"-320.0\" stroke=\"rgb(233,233,233)\" stroke-opacity=\"1.0\" stroke-width=\"1.0\">\n        </line>\n        <line x1=\"520.2751153950454\" y1=\"-0.0\" x2=\"520.2751153950454\" y2=\"-320.0\" stroke=\"rgb(233,233,233)\" stroke-opacity=\"1.0\" stroke-width=\"1.0\">\n        </line>\n        <g transform=\"translate(16.783068238549856 0.0 ) \">\n          <line stroke-width=\"1.0\" stroke=\"rgb(71,71,71)\" stroke-opacity=\"1.0\" x2=\"0.0\" y2=\"4.0\">\n          </line>\n          <g transform=\"translate(0.0 7.0 ) \">\n            <text class=\"axis-text-x\" text-anchor=\"middle\" dy=\"0.7em\">\n            Mon\n            </text>\n          </g>\n        </g>\n        <g transform=\"translate(100.69840943129913 0.0 ) \">\n          <line stroke-width=\"1.0\" stroke=\"rgb(71,71,71)\" stroke-opacity=\"1.0\" x2=\"0.0\" y2=\"4.0\">\n          </line>\n          <g transform=\"translate(0.0 7.0 ) \">\n            <text class=\"axis-text-x\" text-anchor=\"middle\" dy=\"0.7em\">\n            Tue\n            </text>\n          </g>\n        </g>\n        <g transform=\"translate(184.61375062404838 0.0 ) \">\n          <line stroke-width=\"1.0\" stroke=\"rgb(71,71,71)\" stroke-opacity=\"1.0\" x2=\"0.0\" y2=\"4.0\">\n          </line>\n          <g transform=\"translate(0.0 7.0 ) \">\n            <text class=\"axis-text-x\" text-anchor=\"middle\" dy=\"0.7em\">\n            Wed\n            </text>\n          </g>\n        </g>\n        <g transform=\"translate(268.52909181679763 0.0 ) \">\n          <line stroke-width=\"1.0\" stroke=\"rgb(71,71,71)\" stroke-opacity=\"1.0\" x2=\"0.0\" y2=\"4.0\">\n          </line>\n          <g transform=\"translate(0.0 7.0 ) \">\n            <text class=\"axis-text-x\" text-anchor=\"middle\" dy=\"0.7em\">\n            Thu\n            </text>\n          </g>\n        </g>\n        <g transform=\"translate(352.4444330095469 0.0 ) \">\n          <line stroke-width=\"1.0\" stroke=\"rgb(71,71,71)\" stroke-opacity=\"1.0\" x2=\"0.0\" y2=\"4.0\">\n          </line>\n          <g transform=\"translate(0.0 7.0 ) \">\n            <text class=\"axis-text-x\" text-anchor=\"middle\" dy=\"0.7em\">\n            Fri\n            </text>\n          </g>\n        </g>\n        <g transform=\"translate(436.3597742022962 0.0 ) \">\n          <line stroke-width=\"1.0\" stroke=\"rgb(71,71,71)\" stroke-opacity=\"1.0\" x2=\"0.0\" y2=\"4.0\">\n          </line>\n          <g transform=\"translate(0.0 7.0 ) \">\n            <text class=\"axis-text-x\" text-anchor=\"middle\" dy=\"0.7em\">\n            Sat\n            </text>\n          </g>\n        </g>\n        <g transform=\"translate(520.2751153950454 0.0 ) \">\n          <line stroke-width=\"1.0\" stroke=\"rgb(71,71,71)\" stroke-opacity=\"1.0\" x2=\"0.0\" y2=\"4.0\">\n          </line>\n          <g transform=\"translate(0.0 7.0 ) \">\n            <text class=\"axis-text-x\" text-anchor=\"middle\" dy=\"0.7em\">\n            Sun\n            </text>\n          </g>\n        </g>\n        <line x1=\"0.0\" y1=\"0.0\" x2=\"537.0581836335954\" y2=\"0.0\" stroke-width=\"1.0\" stroke=\"rgb(71,71,71)\" stroke-opacity=\"1.0\">\n        </line>\n      </g>\n      <g transform=\"translate(29.941816366404606 0.0 ) \">\n        <line x1=\"0.0\" y1=\"299.6363636363636\" x2=\"537.0581836335954\" y2=\"299.6363636363636\" stroke=\"rgb(233,233,233)\" stroke-opacity=\"1.0\" stroke-width=\"1.0\">\n        </line>\n        <line x1=\"0.0\" y1=\"241.45454545454544\" x2=\"537.0581836335954\" y2=\"241.45454545454544\" stroke=\"rgb(233,233,233)\" stroke-opacity=\"1.0\" stroke-width=\"1.0\">\n        </line>\n        <line x1=\"0.0\" y1=\"183.27272727272728\" x2=\"537.0581836335954\" y2=\"183.27272727272728\" stroke=\"rgb(233,233,233)\" stroke-opacity=\"1.0\" stroke-width=\"1.0\">\n        </line>\n        <line x1=\"0.0\" y1=\"125.0909090909091\" x2=\"537.0581836335954\" y2=\"125.0909090909091\" stroke=\"rgb(233,233,233)\" stroke-opacity=\"1.0\" stroke-width=\"1.0\">\n        </line>\n        <line x1=\"0.0\" y1=\"66.90909090909093\" x2=\"537.0581836335954\" y2=\"66.90909090909093\" stroke=\"rgb(233,233,233)\" stroke-opacity=\"1.0\" stroke-width=\"1.0\">\n        </line>\n        <line x1=\"0.0\" y1=\"8.727272727272748\" x2=\"537.0581836335954\" y2=\"8.727272727272748\" stroke=\"rgb(233,233,233)\" stroke-opacity=\"1.0\" stroke-width=\"1.0\">\n        </line>\n        <g transform=\"translate(0.0 299.6363636363636 ) \">\n          <g transform=\"translate(-3.0 0.0 ) \">\n            <text class=\"axis-text-y\" text-anchor=\"end\" dy=\"0.35em\">\n            100\n            </text>\n          </g>\n        </g>\n        <g transform=\"translate(0.0 241.45454545454544 ) \">\n          <g transform=\"translate(-3.0 0.0 ) \">\n            <text class=\"axis-text-y\" text-anchor=\"end\" dy=\"0.35em\">\n            200\n            </text>\n          </g>\n        </g>\n        <g transform=\"translate(0.0 183.27272727272728 ) \">\n          <g transform=\"translate(-3.0 0.0 ) \">\n            <text class=\"axis-text-y\" text-anchor=\"end\" dy=\"0.35em\">\n            300\n            </text>\n          </g>\n        </g>\n        <g transform=\"translate(0.0 125.0909090909091 ) \">\n          <g transform=\"translate(-3.0 0.0 ) \">\n            <text class=\"axis-text-y\" text-anchor=\"end\" dy=\"0.35em\">\n            400\n            </text>\n          </g>\n        </g>\n        <g transform=\"translate(0.0 66.90909090909093 ) \">\n          <g transform=\"translate(-3.0 0.0 ) \">\n            <text class=\"axis-text-y\" text-anchor=\"end\" dy=\"0.35em\">\n            500\n            </text>\n          </g>\n        </g>\n        <g transform=\"translate(0.0 8.727272727272748 ) \">\n          <g transform=\"translate(-3.0 0.0 ) \">\n            <text class=\"axis-text-y\" text-anchor=\"end\" dy=\"0.35em\">\n            600\n            </text>\n          </g>\n        </g>\n      </g>\n      <g transform=\"translate(29.941816366404606 0.0 ) \" clip-path=\"url(#cucNGIV)\" clip-bounds-jfx=\"[rect (0.0, 0.0), (537.0581836335954, 320.0)]\">\n        <defs>\n          <clipPath id=\"cucNGIV\">\n            <rect x=\"0.0\" y=\"0.0\" width=\"537.0581836335954\" height=\"320.0\">\n            </rect>\n          </clipPath>\n        </defs>\n        <g>\n          <path d=\"M16.783068238549856 288.0 L16.783068238549856 288.0 L100.69840943129913 288.0 L100.69840943129913 281.0181818181818 L184.61375062404838 281.0181818181818 L184.61375062404838 299.05454545454546 L268.52909181679763 299.05454545454546 L268.52909181679763 279.8545454545455 L352.4444330095469 279.8545454545455 L352.4444330095469 305.45454545454544 L436.3597742022962 305.45454545454544 L436.3597742022962 224.0 L520.2751153950454 224.0 L520.2751153950454 235.63636363636363 \" fill=\"none\" stroke-width=\"1.6500000000000001\" stroke=\"rgb(115,192,222)\" stroke-opacity=\"1.0\">\n          </path>\n        </g>\n      </g>\n      <g transform=\"translate(29.941816366404606 0.0 ) \" clip-path=\"url(#cM71xEe)\" clip-bounds-jfx=\"[rect (0.0, 0.0), (537.0581836335954, 320.0)]\">\n        <defs>\n          <clipPath id=\"cM71xEe\">\n            <rect x=\"0.0\" y=\"0.0\" width=\"537.0581836335954\" height=\"320.0\">\n            </rect>\n          </clipPath>\n        </defs>\n        <g>\n          \n          <g >\n            <circle fill=\"#000000\" fill-opacity=\"0.0\" stroke=\"#5470c6\" stroke-width=\"1.6500000000000001\" cx=\"16.783068238549856\" cy=\"288.0\" r=\"4.125\" />\n            <circle fill=\"#000000\" fill-opacity=\"0.0\" stroke=\"#5470c6\" stroke-width=\"1.6500000000000001\" cx=\"100.69840943129913\" cy=\"281.0181818181818\" r=\"4.125\" />\n            <circle fill=\"#000000\" fill-opacity=\"0.0\" stroke=\"#5470c6\" stroke-width=\"1.6500000000000001\" cx=\"184.61375062404838\" cy=\"299.05454545454546\" r=\"4.125\" />\n            <circle fill=\"#000000\" fill-opacity=\"0.0\" stroke=\"#5470c6\" stroke-width=\"1.6500000000000001\" cx=\"268.52909181679763\" cy=\"279.8545454545455\" r=\"4.125\" />\n            <circle fill=\"#000000\" fill-opacity=\"0.0\" stroke=\"#5470c6\" stroke-width=\"1.6500000000000001\" cx=\"352.4444330095469\" cy=\"305.45454545454544\" r=\"4.125\" />\n            <circle fill=\"#000000\" fill-opacity=\"0.0\" stroke=\"#5470c6\" stroke-width=\"1.6500000000000001\" cx=\"436.3597742022962\" cy=\"224.0\" r=\"4.125\" />\n            <circle fill=\"#000000\" fill-opacity=\"0.0\" stroke=\"#5470c6\" stroke-width=\"1.6500000000000001\" cx=\"520.2751153950454\" cy=\"235.63636363636363\" r=\"4.125\" />\n          </g>\n        </g>\n      </g>\n      <g transform=\"translate(29.941816366404606 0.0 ) \" clip-path=\"url(#c67HPcP)\" clip-bounds-jfx=\"[rect (0.0, 0.0), (537.0581836335954, 320.0)]\">\n        <defs>\n          <clipPath id=\"c67HPcP\">\n            <rect x=\"0.0\" y=\"0.0\" width=\"537.0581836335954\" height=\"320.0\">\n            </rect>\n          </clipPath>\n        </defs>\n        <g>\n          <path d=\"M16.783068238549856 229.8181818181818 L16.783068238549856 229.8181818181818 L100.69840943129913 229.8181818181818 L100.69840943129913 193.74545454545455 L184.61375062404838 193.74545454545455 L184.61375062404838 240.87272727272727 L268.52909181679763 240.87272727272727 L268.52909181679763 221.6727272727273 L352.4444330095469 221.6727272727273 L352.4444330095469 189.0909090909091 L436.3597742022962 189.0909090909091 L436.3597742022962 107.63636363636365 L520.2751153950454 107.63636363636365 L520.2751153950454 119.27272727272728 \" fill=\"none\" stroke-width=\"1.6500000000000001\" stroke=\"rgb(59,162,114)\" stroke-opacity=\"1.0\" stroke-dasharray=\"12.21,5.280000000000001\">\n          </path>\n        </g>\n      </g>\n      <g transform=\"translate(29.941816366404606 0.0 ) \" clip-path=\"url(#cQxZ5Yx)\" clip-bounds-jfx=\"[rect (0.0, 0.0), (537.0581836335954, 320.0)]\">\n        <defs>\n          <clipPath id=\"cQxZ5Yx\">\n            <rect x=\"0.0\" y=\"0.0\" width=\"537.0581836335954\" height=\"320.0\">\n            </rect>\n          </clipPath>\n        </defs>\n        <g>\n          \n          <g >\n            <circle fill=\"#000000\" fill-opacity=\"0.0\" stroke=\"#3ba272\" stroke-width=\"1.6500000000000001\" cx=\"16.783068238549856\" cy=\"229.8181818181818\" r=\"4.125\" />\n            <line fill=\"#000000\" fill-opacity=\"0.0\" stroke=\"#3ba272\" stroke-width=\"1.6500000000000001\" x1=\"11.833068238549856\" y1=\"229.8181818181818\" x2=\"21.733068238549855\" y2=\"229.8181818181818\" />\n            <line fill=\"#000000\" fill-opacity=\"0.0\" stroke=\"#3ba272\" stroke-width=\"1.6500000000000001\" x1=\"16.783068238549856\" y1=\"224.86818181818182\" x2=\"16.783068238549856\" y2=\"234.76818181818183\" />\n            <circle fill=\"#000000\" fill-opacity=\"0.0\" stroke=\"#3ba272\" stroke-width=\"1.6500000000000001\" cx=\"100.69840943129913\" cy=\"193.74545454545455\" r=\"4.125\" />\n            <line fill=\"#000000\" fill-opacity=\"0.0\" stroke=\"#3ba272\" stroke-width=\"1.6500000000000001\" x1=\"95.74840943129912\" y1=\"193.74545454545455\" x2=\"105.64840943129913\" y2=\"193.74545454545455\" />\n            <line fill=\"#000000\" fill-opacity=\"0.0\" stroke=\"#3ba272\" stroke-width=\"1.6500000000000001\" x1=\"100.69840943129913\" y1=\"188.79545454545456\" x2=\"100.69840943129913\" y2=\"198.69545454545457\" />\n            <circle fill=\"#000000\" fill-opacity=\"0.0\" stroke=\"#3ba272\" stroke-width=\"1.6500000000000001\" cx=\"184.61375062404838\" cy=\"240.87272727272727\" r=\"4.125\" />\n            <line fill=\"#000000\" fill-opacity=\"0.0\" stroke=\"#3ba272\" stroke-width=\"1.6500000000000001\" x1=\"179.6637506240484\" y1=\"240.87272727272727\" x2=\"189.5637506240484\" y2=\"240.87272727272727\" />\n            <line fill=\"#000000\" fill-opacity=\"0.0\" stroke=\"#3ba272\" stroke-width=\"1.6500000000000001\" x1=\"184.61375062404838\" y1=\"235.9227272727273\" x2=\"184.61375062404838\" y2=\"245.8227272727273\" />\n            <circle fill=\"#000000\" fill-opacity=\"0.0\" stroke=\"#3ba272\" stroke-width=\"1.6500000000000001\" cx=\"268.52909181679763\" cy=\"221.6727272727273\" r=\"4.125\" />\n            <line fill=\"#000000\" fill-opacity=\"0.0\" stroke=\"#3ba272\" stroke-width=\"1.6500000000000001\" x1=\"263.57909181679764\" y1=\"221.6727272727273\" x2=\"273.4790918167976\" y2=\"221.6727272727273\" />\n            <line fill=\"#000000\" fill-opacity=\"0.0\" stroke=\"#3ba272\" stroke-width=\"1.6500000000000001\" x1=\"268.52909181679763\" y1=\"216.7227272727273\" x2=\"268.52909181679763\" y2=\"226.6227272727273\" />\n            <circle fill=\"#000000\" fill-opacity=\"0.0\" stroke=\"#3ba272\" stroke-width=\"1.6500000000000001\" cx=\"352.4444330095469\" cy=\"189.0909090909091\" r=\"4.125\" />\n            <line fill=\"#000000\" fill-opacity=\"0.0\" stroke=\"#3ba272\" stroke-width=\"1.6500000000000001\" x1=\"347.4944330095469\" y1=\"189.0909090909091\" x2=\"357.3944330095469\" y2=\"189.0909090909091\" />\n            <line fill=\"#000000\" fill-opacity=\"0.0\" stroke=\"#3ba272\" stroke-width=\"1.6500000000000001\" x1=\"352.4444330095469\" y1=\"184.1409090909091\" x2=\"352.4444330095469\" y2=\"194.0409090909091\" />\n            <circle fill=\"#000000\" fill-opacity=\"0.0\" stroke=\"#3ba272\" stroke-width=\"1.6500000000000001\" cx=\"436.3597742022962\" cy=\"107.63636363636365\" r=\"4.125\" />\n            <line fill=\"#000000\" fill-opacity=\"0.0\" stroke=\"#3ba272\" stroke-width=\"1.6500000000000001\" x1=\"431.4097742022962\" y1=\"107.63636363636365\" x2=\"441.3097742022962\" y2=\"107.63636363636365\" />\n            <line fill=\"#000000\" fill-opacity=\"0.0\" stroke=\"#3ba272\" stroke-width=\"1.6500000000000001\" x1=\"436.3597742022962\" y1=\"102.68636363636365\" x2=\"436.3597742022962\" y2=\"112.58636363636366\" />\n            <circle fill=\"#000000\" fill-opacity=\"0.0\" stroke=\"#3ba272\" stroke-width=\"1.6500000000000001\" cx=\"520.2751153950454\" cy=\"119.27272727272728\" r=\"4.125\" />\n            <line fill=\"#000000\" fill-opacity=\"0.0\" stroke=\"#3ba272\" stroke-width=\"1.6500000000000001\" x1=\"515.3251153950454\" y1=\"119.27272727272728\" x2=\"525.2251153950453\" y2=\"119.27272727272728\" />\n            <line fill=\"#000000\" fill-opacity=\"0.0\" stroke=\"#3ba272\" stroke-width=\"1.6500000000000001\" x1=\"520.2751153950454\" y1=\"114.32272727272728\" x2=\"520.2751153950454\" y2=\"124.22272727272728\" />\n          </g>\n        </g>\n      </g>\n      <g transform=\"translate(29.941816366404606 0.0 ) \" clip-path=\"url(#cExMjFr)\" clip-bounds-jfx=\"[rect (0.0, 0.0), (537.0581836335954, 320.0)]\">\n        <defs>\n          <clipPath id=\"cExMjFr\">\n            <rect x=\"0.0\" y=\"0.0\" width=\"537.0581836335954\" height=\"320.0\">\n            </rect>\n          </clipPath>\n        </defs>\n        <g>\n          <path d=\"M16.783068238549856 96.0 L16.783068238549856 96.0 L100.69840943129913 96.0 L100.69840943129913 106.47272727272727 L184.61375062404838 106.47272727272727 L184.61375062404838 124.50909090909093 L268.52909181679763 124.50909090909093 L268.52909181679763 93.67272727272729 L352.4444330095469 93.67272727272729 L352.4444330095469 14.545454545454561 L436.3597742022962 14.545454545454561 L436.3597742022962 49.45454545454544 L520.2751153950454 49.45454545454544 L520.2751153950454 61.09090909090912 \" fill=\"none\" stroke-width=\"1.6500000000000001\" stroke=\"rgb(250,200,88)\" stroke-opacity=\"1.0\">\n          </path>\n        </g>\n      </g>\n      <g transform=\"translate(29.941816366404606 0.0 ) \" clip-path=\"url(#cGmHfZb)\" clip-bounds-jfx=\"[rect (0.0, 0.0), (537.0581836335954, 320.0)]\">\n        <defs>\n          <clipPath id=\"cGmHfZb\">\n            <rect x=\"0.0\" y=\"0.0\" width=\"537.0581836335954\" height=\"320.0\">\n            </rect>\n          </clipPath>\n        </defs>\n        <g>\n          \n          <g >\n            <circle fill=\"#fac858\" stroke=\"#a39999\" stroke-width=\"1.6500000000000001\" cx=\"16.783068238549856\" cy=\"96.0\" r=\"4.125\" />\n            <circle fill=\"#fac858\" stroke=\"#a39999\" stroke-width=\"1.6500000000000001\" cx=\"100.69840943129913\" cy=\"106.47272727272727\" r=\"4.125\" />\n            <circle fill=\"#fac858\" stroke=\"#a39999\" stroke-width=\"1.6500000000000001\" cx=\"184.61375062404838\" cy=\"124.50909090909093\" r=\"4.125\" />\n            <circle fill=\"#fac858\" stroke=\"#a39999\" stroke-width=\"1.6500000000000001\" cx=\"268.52909181679763\" cy=\"93.67272727272729\" r=\"4.125\" />\n            <circle fill=\"#fac858\" stroke=\"#a39999\" stroke-width=\"1.6500000000000001\" cx=\"352.4444330095469\" cy=\"14.545454545454561\" r=\"4.125\" />\n            <circle fill=\"#fac858\" stroke=\"#a39999\" stroke-width=\"1.6500000000000001\" cx=\"436.3597742022962\" cy=\"49.45454545454544\" r=\"4.125\" />\n            <circle fill=\"#fac858\" stroke=\"#a39999\" stroke-width=\"1.6500000000000001\" cx=\"520.2751153950454\" cy=\"61.09090909090912\" r=\"4.125\" />\n          </g>\n        </g>\n      </g>\n    </g>\n    <g transform=\"translate(52.94181636640461 15.2 ) \">\n      <text class=\"plot-title\" y=\"0.0\">\n      Step line\n      </text>\n    </g>\n    <g transform=\"translate(14.5 194.0 ) rotate(-90.0 ) \">\n      <text class=\"axis-title-y\" y=\"0.0\" text-anchor=\"middle\">\n      y\n      </text>\n    </g>\n    <g transform=\"translate(321.4709081832023 391.5 ) \">\n      <text class=\"axis-title-x\" y=\"0.0\" text-anchor=\"middle\">\n      x\n      </text>\n    </g>\n    <path fill=\"rgb(0,0,0)\" fill-opacity=\"0.0\" stroke=\"rgb(71,71,71)\" stroke-opacity=\"1.0\" stroke-width=\"0.0\" d=\"M0.0 0.0 L0.0 400.0 L600.0 400.0 L600.0 0.0 Z\">\n    </path>\n  </g>\n  <g id=\"dUFnaHm\">\n  </g>\n</svg>\n        <script>document.getElementById(\"30841967-f235-49bf-888b-3063018afe3d\").style.display = \"none\";</script>",
      "application/plot+json": {
       "output_type": "lets_plot_spec",
       "output": {
        "ggtitle": {
         "text": "Step line"
        },
        "mapping": {},
        "data": {
         "y*": [
          220.0,
          282.0,
          201.0,
          234.0,
          290.0,
          430.0,
          410.0
         ],
         "x": [
          "Mon",
          "Tue",
          "Wed",
          "Thu",
          "Fri",
          "Sat",
          "Sun"
         ],
         "y**": [
          450.0,
          432.0,
          401.0,
          454.0,
          590.0,
          530.0,
          510.0
         ],
         "y": [
          120.0,
          132.0,
          101.0,
          134.0,
          90.0,
          230.0,
          210.0
         ]
        },
        "kind": "plot",
        "scales": [
         {
          "aesthetic": "x",
          "discrete": true
         },
         {
          "aesthetic": "y",
          "limits": [
           null,
           null
          ]
         },
         {
          "aesthetic": "x",
          "discrete": true
         },
         {
          "aesthetic": "y",
          "limits": [
           null,
           null
          ]
         },
         {
          "aesthetic": "x",
          "discrete": true
         },
         {
          "aesthetic": "y",
          "limits": [
           null,
           null
          ]
         },
         {
          "aesthetic": "x",
          "discrete": true
         },
         {
          "aesthetic": "y",
          "limits": [
           null,
           null
          ]
         },
         {
          "aesthetic": "x",
          "discrete": true
         },
         {
          "aesthetic": "y",
          "limits": [
           null,
           null
          ]
         },
         {
          "aesthetic": "x",
          "discrete": true
         },
         {
          "aesthetic": "y",
          "limits": [
           null,
           null
          ]
         }
        ],
        "layers": [
         {
          "mapping": {
           "x": "x",
           "y": "y"
          },
          "stat": "identity",
          "color": "#73c0de",
          "sampling": "none",
          "position": "identity",
          "geom": "step"
         },
         {
          "mapping": {
           "x": "x",
           "y": "y"
          },
          "stat": "identity",
          "shape": 1.0,
          "color": "#5470c6",
          "sampling": "none",
          "position": "identity",
          "geom": "point"
         },
         {
          "mapping": {
           "x": "x",
           "y": "y*"
          },
          "stat": "identity",
          "color": "#3ba272",
          "linetype": "longdash",
          "sampling": "none",
          "position": "identity",
          "geom": "step"
         },
         {
          "mapping": {
           "x": "x",
           "y": "y*"
          },
          "stat": "identity",
          "shape": 10.0,
          "color": "#3ba272",
          "sampling": "none",
          "position": "identity",
          "geom": "point"
         },
         {
          "mapping": {
           "x": "x",
           "y": "y**"
          },
          "stat": "identity",
          "color": "#fac858",
          "sampling": "none",
          "position": "identity",
          "geom": "step"
         },
         {
          "mapping": {
           "x": "x",
           "y": "y**"
          },
          "stat": "identity",
          "shape": 21.0,
          "color": "#a39999",
          "sampling": "none",
          "position": "identity",
          "geom": "point",
          "fill": "#fac858"
         }
        ]
       },
       "apply_color_scheme": true,
       "swing_enabled": true
      }
     },
     "execution_count": 3,
     "metadata": {},
     "output_type": "execute_result"
    }
   ],
   "source": [
    "val week = listOf(\"Mon\", \"Tue\", \"Wed\", \"Thu\", \"Fri\", \"Sat\", \"Sun\")\n",
    "val start = listOf(120, 132, 101, 134, 90, 230, 210)\n",
    "val middle = listOf(220, 282, 201, 234, 290, 430, 410)\n",
    "val end = listOf(450, 432, 401, 454, 590, 530, 510)\n",
    "\n",
    "plot {\n",
    "    x(week)\n",
    "    step { y(start); color = Color.LIGHT_BLUE }\n",
    "    points { y(start); symbol = Symbol.CIRCLE_OPEN; color = Color.BLUE }\n",
    "\n",
    "    step {\n",
    "        y(middle)\n",
    "        color = Color.GREEN\n",
    "        lineType = LineType.LONGDASH\n",
    "    }\n",
    "    points {\n",
    "        y(middle)\n",
    "        symbol = Symbol.CIRCLE_PLUS\n",
    "        color = Color.GREEN\n",
    "    }\n",
    "\n",
    "    step {\n",
    "        y(end)\n",
    "        color = Color.YELLOW\n",
    "    }\n",
    "    points {\n",
    "        y(end)\n",
    "        symbol = Symbol.CIRCLE_FILLED\n",
    "        fillColor = Color.YELLOW\n",
    "        color = Color.GREY\n",
    "    }\n",
    "    layout {\n",
    "        title = \"Step line\"\n",
    "    }\n",
    "}"
   ],
   "metadata": {
    "collapsed": false,
    "ExecuteTime": {
     "end_time": "2023-11-17T23:31:04.389850Z",
     "start_time": "2023-11-17T23:31:03.198744Z"
    }
   }
  }
 ],
 "metadata": {
  "kernelspec": {
   "display_name": "Kotlin",
   "language": "kotlin",
   "name": "kotlin"
  },
  "language_info": {
   "name": "kotlin",
   "version": "1.9.0",
   "mimetype": "text/x-kotlin",
   "file_extension": ".kt",
   "pygments_lexer": "kotlin",
   "codemirror_mode": "text/x-kotlin",
   "nbconvert_exporter": ""
  }
 },
 "nbformat": 4,
 "nbformat_minor": 0
}
