{
 "cells": [
  {
   "cell_type": "code",
   "execution_count": 1,
   "metadata": {
    "collapsed": true,
    "ExecuteTime": {
     "end_time": "2023-11-17T23:26:14.757988Z",
     "start_time": "2023-11-17T23:26:14.006889Z"
    }
   },
   "outputs": [],
   "source": [
    "%use kandy\n",
    "%use dataframe"
   ]
  },
  {
   "cell_type": "code",
   "execution_count": 2,
   "outputs": [
    {
     "data": {
      "text/html": "            <iframe src='about:blank' style='border:none !important;' width='700' height='550' srcdoc=\"&lt;html lang=&quot;en&quot;>\n   &lt;head>\n       &lt;style> html, body { margin: 0; overflow: hidden; } &lt;/style>\n       &lt;script type=&quot;text/javascript&quot; data-lets-plot-script=&quot;library&quot; src=&quot;https://cdn.jsdelivr.net/gh/JetBrains/lets-plot@v4.0.1/js-package/distr/lets-plot.min.js&quot;>&lt;/script>\n   &lt;/head>\n   &lt;body>\n          &lt;div id=&quot;RynLRK&quot;>&lt;/div>\n   &lt;script type=&quot;text/javascript&quot; data-lets-plot-script=&quot;plot&quot;>\n       var plotSpec={\n&quot;ggtitle&quot;:{\n&quot;text&quot;:&quot;Performance Dependency on Temperature&quot;,\n&quot;subtitle&quot;:&quot;Analysis of Material Performance Decline at Extremely Low Temperatures&quot;\n},\n&quot;mapping&quot;:{\n},\n&quot;data&quot;:{\n},\n&quot;ggsize&quot;:{\n&quot;width&quot;:700.0,\n&quot;height&quot;:550.0\n},\n&quot;kind&quot;:&quot;plot&quot;,\n&quot;scales&quot;:[{\n&quot;aesthetic&quot;:&quot;y&quot;,\n&quot;limits&quot;:[null,null]\n},{\n&quot;aesthetic&quot;:&quot;x&quot;,\n&quot;name&quot;:&quot;Temperature (°C)&quot;,\n&quot;limits&quot;:[null,null]\n},{\n&quot;aesthetic&quot;:&quot;y&quot;,\n&quot;name&quot;:&quot;Performance Measure&quot;\n}],\n&quot;layers&quot;:[{\n&quot;mapping&quot;:{\n&quot;y&quot;:&quot;y&quot;,\n&quot;x&quot;:&quot;x&quot;\n},\n&quot;stat&quot;:&quot;identity&quot;,\n&quot;data&quot;:{\n&quot;x&quot;:[-45.5,-44.4,-40.0,-43.2,-41.5,-35.5,-39.9],\n&quot;y&quot;:[100.0,90.0,80.0,70.0,60.0,50.0,40.0]\n},\n&quot;color&quot;:&quot;#5470c6&quot;,\n&quot;linetype&quot;:&quot;longdash&quot;,\n&quot;sampling&quot;:&quot;none&quot;,\n&quot;position&quot;:&quot;identity&quot;,\n&quot;geom&quot;:&quot;path&quot;\n}]\n};\n       var plotContainer = document.getElementById(&quot;RynLRK&quot;);\n       LetsPlot.buildPlotFromProcessedSpecs(plotSpec, -1, -1, plotContainer);\n   &lt;/script>\n   &lt;/body>\n&lt;/html>\"></iframe>            \n        <svg id=907965b5-c326-4d08-8461-e829686a7ae2 xmlns=\"http://www.w3.org/2000/svg\" xmlns:xlink=\"http://www.w3.org/1999/xlink\" class=\"plt-container\" width=\"700.0\" height=\"550.0\">\n  <style type=\"text/css\">\n  .plt-container {\n   font-family: Lucida Grande, sans-serif;\n   user-select: none;\n   -webkit-user-select: none;\n   -moz-user-select: none;\n   -ms-user-select: none;\n}\ntext {\n   text-rendering: optimizeLegibility;\n}\n#p5Pj0fn .plot-title {\n   fill: #474747;\n   font-family: Lucida Grande, sans-serif;\n   font-size: 16.0px;\n   font-weight: normal;\n   font-style: normal;   \n}\n#p5Pj0fn .plot-subtitle {\n   fill: #474747;\n   font-family: Lucida Grande, sans-serif;\n   font-size: 15.0px;\n   font-weight: normal;\n   font-style: normal;   \n}\n#p5Pj0fn .plot-caption {\n   fill: #474747;\n   font-family: Lucida Grande, sans-serif;\n   font-size: 13.0px;\n   font-weight: normal;\n   font-style: normal;   \n}\n#p5Pj0fn .legend-title {\n   fill: #474747;\n   font-family: Lucida Grande, sans-serif;\n   font-size: 15.0px;\n   font-weight: normal;\n   font-style: normal;   \n}\n#p5Pj0fn .legend-item {\n   fill: #474747;\n   font-family: Lucida Grande, sans-serif;\n   font-size: 13.0px;\n   font-weight: normal;\n   font-style: normal;   \n}\n#p5Pj0fn .axis-title-x {\n   fill: #474747;\n   font-family: Lucida Grande, sans-serif;\n   font-size: 15.0px;\n   font-weight: normal;\n   font-style: normal;   \n}\n#p5Pj0fn .axis-text-x {\n   fill: #474747;\n   font-family: Lucida Grande, sans-serif;\n   font-size: 13.0px;\n   font-weight: normal;\n   font-style: normal;   \n}\n#dCcfzey .axis-tooltip-text-x {\n   fill: #ffffff;\n   font-family: Lucida Grande, sans-serif;\n   font-size: 13.0px;\n   font-weight: normal;\n   font-style: normal;   \n}\n#p5Pj0fn .axis-title-y {\n   fill: #474747;\n   font-family: Lucida Grande, sans-serif;\n   font-size: 15.0px;\n   font-weight: normal;\n   font-style: normal;   \n}\n#p5Pj0fn .axis-text-y {\n   fill: #474747;\n   font-family: Lucida Grande, sans-serif;\n   font-size: 13.0px;\n   font-weight: normal;\n   font-style: normal;   \n}\n#dCcfzey .axis-tooltip-text-y {\n   fill: #ffffff;\n   font-family: Lucida Grande, sans-serif;\n   font-size: 13.0px;\n   font-weight: normal;\n   font-style: normal;   \n}\n#p5Pj0fn .facet-strip-text-x {\n   fill: #474747;\n   font-family: Lucida Grande, sans-serif;\n   font-size: 13.0px;\n   font-weight: normal;\n   font-style: normal;   \n}\n#p5Pj0fn .facet-strip-text-y {\n   fill: #474747;\n   font-family: Lucida Grande, sans-serif;\n   font-size: 13.0px;\n   font-weight: normal;\n   font-style: normal;   \n}\n#dCcfzey .tooltip-text {\n   fill: #474747;\n   font-family: Lucida Grande, sans-serif;\n   font-size: 13.0px;\n   font-weight: normal;\n   font-style: normal;   \n}\n#dCcfzey .tooltip-title {\n   fill: #474747;\n   font-family: Lucida Grande, sans-serif;\n   font-size: 13.0px;\n   font-weight: bold;\n   font-style: normal;   \n}\n#dCcfzey .tooltip-label {\n   fill: #474747;\n   font-family: Lucida Grande, sans-serif;\n   font-size: 13.0px;\n   font-weight: bold;\n   font-style: normal;   \n}\n\n  </style>\n  <g id=\"p5Pj0fn\">\n    <path fill-rule=\"evenodd\" fill=\"rgb(255,255,255)\" fill-opacity=\"1.0\" d=\"M0.0 0.0 L0.0 550.0 L700.0 550.0 L700.0 0.0 Z\">\n    </path>\n    <g transform=\"translate(23.0 57.0 ) \">\n      <g transform=\"translate(29.941816366404606 447.0 ) \">\n        <line x1=\"57.91438033032682\" y1=\"-0.0\" x2=\"57.91438033032682\" y2=\"-447.0\" stroke=\"rgb(233,233,233)\" stroke-opacity=\"1.0\" stroke-width=\"1.0\">\n        </line>\n        <line x1=\"115.82876066065364\" y1=\"-0.0\" x2=\"115.82876066065364\" y2=\"-447.0\" stroke=\"rgb(233,233,233)\" stroke-opacity=\"1.0\" stroke-width=\"1.0\">\n        </line>\n        <line x1=\"173.74314099098046\" y1=\"-0.0\" x2=\"173.74314099098046\" y2=\"-447.0\" stroke=\"rgb(233,233,233)\" stroke-opacity=\"1.0\" stroke-width=\"1.0\">\n        </line>\n        <line x1=\"231.65752132130729\" y1=\"-0.0\" x2=\"231.65752132130729\" y2=\"-447.0\" stroke=\"rgb(233,233,233)\" stroke-opacity=\"1.0\" stroke-width=\"1.0\">\n        </line>\n        <line x1=\"289.5719016516341\" y1=\"-0.0\" x2=\"289.5719016516341\" y2=\"-447.0\" stroke=\"rgb(233,233,233)\" stroke-opacity=\"1.0\" stroke-width=\"1.0\">\n        </line>\n        <line x1=\"347.4862819819614\" y1=\"-0.0\" x2=\"347.4862819819614\" y2=\"-447.0\" stroke=\"rgb(233,233,233)\" stroke-opacity=\"1.0\" stroke-width=\"1.0\">\n        </line>\n        <line x1=\"405.4006623122882\" y1=\"-0.0\" x2=\"405.4006623122882\" y2=\"-447.0\" stroke=\"rgb(233,233,233)\" stroke-opacity=\"1.0\" stroke-width=\"1.0\">\n        </line>\n        <line x1=\"463.315042642615\" y1=\"-0.0\" x2=\"463.315042642615\" y2=\"-447.0\" stroke=\"rgb(233,233,233)\" stroke-opacity=\"1.0\" stroke-width=\"1.0\">\n        </line>\n        <line x1=\"521.2294229729418\" y1=\"-0.0\" x2=\"521.2294229729418\" y2=\"-447.0\" stroke=\"rgb(233,233,233)\" stroke-opacity=\"1.0\" stroke-width=\"1.0\">\n        </line>\n        <line x1=\"579.1438033032687\" y1=\"-0.0\" x2=\"579.1438033032687\" y2=\"-447.0\" stroke=\"rgb(233,233,233)\" stroke-opacity=\"1.0\" stroke-width=\"1.0\">\n        </line>\n        <g transform=\"translate(0.0 0.0 ) \">\n          <line stroke-width=\"1.0\" stroke=\"rgb(71,71,71)\" stroke-opacity=\"1.0\" x2=\"0.0\" y2=\"4.0\">\n          </line>\n          <g transform=\"translate(0.0 7.0 ) \">\n            <text class=\"axis-text-x\" text-anchor=\"middle\" dy=\"0.7em\">\n            -46\n            </text>\n          </g>\n        </g>\n        <g transform=\"translate(57.91438033032682 0.0 ) \">\n          <line stroke-width=\"1.0\" stroke=\"rgb(71,71,71)\" stroke-opacity=\"1.0\" x2=\"0.0\" y2=\"4.0\">\n          </line>\n          <g transform=\"translate(0.0 7.0 ) \">\n            <text class=\"axis-text-x\" text-anchor=\"middle\" dy=\"0.7em\">\n            -45\n            </text>\n          </g>\n        </g>\n        <g transform=\"translate(115.82876066065364 0.0 ) \">\n          <line stroke-width=\"1.0\" stroke=\"rgb(71,71,71)\" stroke-opacity=\"1.0\" x2=\"0.0\" y2=\"4.0\">\n          </line>\n          <g transform=\"translate(0.0 7.0 ) \">\n            <text class=\"axis-text-x\" text-anchor=\"middle\" dy=\"0.7em\">\n            -44\n            </text>\n          </g>\n        </g>\n        <g transform=\"translate(173.74314099098046 0.0 ) \">\n          <line stroke-width=\"1.0\" stroke=\"rgb(71,71,71)\" stroke-opacity=\"1.0\" x2=\"0.0\" y2=\"4.0\">\n          </line>\n          <g transform=\"translate(0.0 7.0 ) \">\n            <text class=\"axis-text-x\" text-anchor=\"middle\" dy=\"0.7em\">\n            -43\n            </text>\n          </g>\n        </g>\n        <g transform=\"translate(231.65752132130729 0.0 ) \">\n          <line stroke-width=\"1.0\" stroke=\"rgb(71,71,71)\" stroke-opacity=\"1.0\" x2=\"0.0\" y2=\"4.0\">\n          </line>\n          <g transform=\"translate(0.0 7.0 ) \">\n            <text class=\"axis-text-x\" text-anchor=\"middle\" dy=\"0.7em\">\n            -42\n            </text>\n          </g>\n        </g>\n        <g transform=\"translate(289.5719016516341 0.0 ) \">\n          <line stroke-width=\"1.0\" stroke=\"rgb(71,71,71)\" stroke-opacity=\"1.0\" x2=\"0.0\" y2=\"4.0\">\n          </line>\n          <g transform=\"translate(0.0 7.0 ) \">\n            <text class=\"axis-text-x\" text-anchor=\"middle\" dy=\"0.7em\">\n            -41\n            </text>\n          </g>\n        </g>\n        <g transform=\"translate(347.4862819819614 0.0 ) \">\n          <line stroke-width=\"1.0\" stroke=\"rgb(71,71,71)\" stroke-opacity=\"1.0\" x2=\"0.0\" y2=\"4.0\">\n          </line>\n          <g transform=\"translate(0.0 7.0 ) \">\n            <text class=\"axis-text-x\" text-anchor=\"middle\" dy=\"0.7em\">\n            -40\n            </text>\n          </g>\n        </g>\n        <g transform=\"translate(405.4006623122882 0.0 ) \">\n          <line stroke-width=\"1.0\" stroke=\"rgb(71,71,71)\" stroke-opacity=\"1.0\" x2=\"0.0\" y2=\"4.0\">\n          </line>\n          <g transform=\"translate(0.0 7.0 ) \">\n            <text class=\"axis-text-x\" text-anchor=\"middle\" dy=\"0.7em\">\n            -39\n            </text>\n          </g>\n        </g>\n        <g transform=\"translate(463.315042642615 0.0 ) \">\n          <line stroke-width=\"1.0\" stroke=\"rgb(71,71,71)\" stroke-opacity=\"1.0\" x2=\"0.0\" y2=\"4.0\">\n          </line>\n          <g transform=\"translate(0.0 7.0 ) \">\n            <text class=\"axis-text-x\" text-anchor=\"middle\" dy=\"0.7em\">\n            -38\n            </text>\n          </g>\n        </g>\n        <g transform=\"translate(521.2294229729418 0.0 ) \">\n          <line stroke-width=\"1.0\" stroke=\"rgb(71,71,71)\" stroke-opacity=\"1.0\" x2=\"0.0\" y2=\"4.0\">\n          </line>\n          <g transform=\"translate(0.0 7.0 ) \">\n            <text class=\"axis-text-x\" text-anchor=\"middle\" dy=\"0.7em\">\n            -37\n            </text>\n          </g>\n        </g>\n        <g transform=\"translate(579.1438033032687 0.0 ) \">\n          <line stroke-width=\"1.0\" stroke=\"rgb(71,71,71)\" stroke-opacity=\"1.0\" x2=\"0.0\" y2=\"4.0\">\n          </line>\n          <g transform=\"translate(0.0 7.0 ) \">\n            <text class=\"axis-text-x\" text-anchor=\"middle\" dy=\"0.7em\">\n            -36\n            </text>\n          </g>\n        </g>\n        <line x1=\"0.0\" y1=\"0.0\" x2=\"637.0581836335954\" y2=\"0.0\" stroke-width=\"1.0\" stroke=\"rgb(71,71,71)\" stroke-opacity=\"1.0\">\n        </line>\n      </g>\n      <g transform=\"translate(29.941816366404606 0.0 ) \">\n        <line x1=\"0.0\" y1=\"426.68181818181824\" x2=\"637.0581836335954\" y2=\"426.68181818181824\" stroke=\"rgb(233,233,233)\" stroke-opacity=\"1.0\" stroke-width=\"1.0\">\n        </line>\n        <line x1=\"0.0\" y1=\"392.81818181818187\" x2=\"637.0581836335954\" y2=\"392.81818181818187\" stroke=\"rgb(233,233,233)\" stroke-opacity=\"1.0\" stroke-width=\"1.0\">\n        </line>\n        <line x1=\"0.0\" y1=\"358.9545454545455\" x2=\"637.0581836335954\" y2=\"358.9545454545455\" stroke=\"rgb(233,233,233)\" stroke-opacity=\"1.0\" stroke-width=\"1.0\">\n        </line>\n        <line x1=\"0.0\" y1=\"325.0909090909091\" x2=\"637.0581836335954\" y2=\"325.0909090909091\" stroke=\"rgb(233,233,233)\" stroke-opacity=\"1.0\" stroke-width=\"1.0\">\n        </line>\n        <line x1=\"0.0\" y1=\"291.22727272727275\" x2=\"637.0581836335954\" y2=\"291.22727272727275\" stroke=\"rgb(233,233,233)\" stroke-opacity=\"1.0\" stroke-width=\"1.0\">\n        </line>\n        <line x1=\"0.0\" y1=\"257.36363636363643\" x2=\"637.0581836335954\" y2=\"257.36363636363643\" stroke=\"rgb(233,233,233)\" stroke-opacity=\"1.0\" stroke-width=\"1.0\">\n        </line>\n        <line x1=\"0.0\" y1=\"223.50000000000006\" x2=\"637.0581836335954\" y2=\"223.50000000000006\" stroke=\"rgb(233,233,233)\" stroke-opacity=\"1.0\" stroke-width=\"1.0\">\n        </line>\n        <line x1=\"0.0\" y1=\"189.63636363636368\" x2=\"637.0581836335954\" y2=\"189.63636363636368\" stroke=\"rgb(233,233,233)\" stroke-opacity=\"1.0\" stroke-width=\"1.0\">\n        </line>\n        <line x1=\"0.0\" y1=\"155.77272727272737\" x2=\"637.0581836335954\" y2=\"155.77272727272737\" stroke=\"rgb(233,233,233)\" stroke-opacity=\"1.0\" stroke-width=\"1.0\">\n        </line>\n        <line x1=\"0.0\" y1=\"121.90909090909099\" x2=\"637.0581836335954\" y2=\"121.90909090909099\" stroke=\"rgb(233,233,233)\" stroke-opacity=\"1.0\" stroke-width=\"1.0\">\n        </line>\n        <line x1=\"0.0\" y1=\"88.04545454545462\" x2=\"637.0581836335954\" y2=\"88.04545454545462\" stroke=\"rgb(233,233,233)\" stroke-opacity=\"1.0\" stroke-width=\"1.0\">\n        </line>\n        <line x1=\"0.0\" y1=\"54.181818181818244\" x2=\"637.0581836335954\" y2=\"54.181818181818244\" stroke=\"rgb(233,233,233)\" stroke-opacity=\"1.0\" stroke-width=\"1.0\">\n        </line>\n        <line x1=\"0.0\" y1=\"20.31818181818187\" x2=\"637.0581836335954\" y2=\"20.31818181818187\" stroke=\"rgb(233,233,233)\" stroke-opacity=\"1.0\" stroke-width=\"1.0\">\n        </line>\n        <g transform=\"translate(0.0 426.68181818181824 ) \">\n          <g transform=\"translate(-3.0 0.0 ) \">\n            <text class=\"axis-text-y\" text-anchor=\"end\" dy=\"0.35em\">\n            40\n            </text>\n          </g>\n        </g>\n        <g transform=\"translate(0.0 392.81818181818187 ) \">\n          <g transform=\"translate(-3.0 0.0 ) \">\n            <text class=\"axis-text-y\" text-anchor=\"end\" dy=\"0.35em\">\n            45\n            </text>\n          </g>\n        </g>\n        <g transform=\"translate(0.0 358.9545454545455 ) \">\n          <g transform=\"translate(-3.0 0.0 ) \">\n            <text class=\"axis-text-y\" text-anchor=\"end\" dy=\"0.35em\">\n            50\n            </text>\n          </g>\n        </g>\n        <g transform=\"translate(0.0 325.0909090909091 ) \">\n          <g transform=\"translate(-3.0 0.0 ) \">\n            <text class=\"axis-text-y\" text-anchor=\"end\" dy=\"0.35em\">\n            55\n            </text>\n          </g>\n        </g>\n        <g transform=\"translate(0.0 291.22727272727275 ) \">\n          <g transform=\"translate(-3.0 0.0 ) \">\n            <text class=\"axis-text-y\" text-anchor=\"end\" dy=\"0.35em\">\n            60\n            </text>\n          </g>\n        </g>\n        <g transform=\"translate(0.0 257.36363636363643 ) \">\n          <g transform=\"translate(-3.0 0.0 ) \">\n            <text class=\"axis-text-y\" text-anchor=\"end\" dy=\"0.35em\">\n            65\n            </text>\n          </g>\n        </g>\n        <g transform=\"translate(0.0 223.50000000000006 ) \">\n          <g transform=\"translate(-3.0 0.0 ) \">\n            <text class=\"axis-text-y\" text-anchor=\"end\" dy=\"0.35em\">\n            70\n            </text>\n          </g>\n        </g>\n        <g transform=\"translate(0.0 189.63636363636368 ) \">\n          <g transform=\"translate(-3.0 0.0 ) \">\n            <text class=\"axis-text-y\" text-anchor=\"end\" dy=\"0.35em\">\n            75\n            </text>\n          </g>\n        </g>\n        <g transform=\"translate(0.0 155.77272727272737 ) \">\n          <g transform=\"translate(-3.0 0.0 ) \">\n            <text class=\"axis-text-y\" text-anchor=\"end\" dy=\"0.35em\">\n            80\n            </text>\n          </g>\n        </g>\n        <g transform=\"translate(0.0 121.90909090909099 ) \">\n          <g transform=\"translate(-3.0 0.0 ) \">\n            <text class=\"axis-text-y\" text-anchor=\"end\" dy=\"0.35em\">\n            85\n            </text>\n          </g>\n        </g>\n        <g transform=\"translate(0.0 88.04545454545462 ) \">\n          <g transform=\"translate(-3.0 0.0 ) \">\n            <text class=\"axis-text-y\" text-anchor=\"end\" dy=\"0.35em\">\n            90\n            </text>\n          </g>\n        </g>\n        <g transform=\"translate(0.0 54.181818181818244 ) \">\n          <g transform=\"translate(-3.0 0.0 ) \">\n            <text class=\"axis-text-y\" text-anchor=\"end\" dy=\"0.35em\">\n            95\n            </text>\n          </g>\n        </g>\n        <g transform=\"translate(0.0 20.31818181818187 ) \">\n          <g transform=\"translate(-3.0 0.0 ) \">\n            <text class=\"axis-text-y\" text-anchor=\"end\" dy=\"0.35em\">\n            100\n            </text>\n          </g>\n        </g>\n      </g>\n      <g transform=\"translate(29.941816366404606 0.0 ) \" clip-path=\"url(#c361wFI)\" clip-bounds-jfx=\"[rect (0.0, 0.0), (637.0581836335954, 447.0)]\">\n        <defs>\n          <clipPath id=\"c361wFI\">\n            <rect x=\"0.0\" y=\"0.0\" width=\"637.0581836335954\" height=\"447.0\">\n            </rect>\n          </clipPath>\n        </defs>\n        <g>\n          <path d=\"M28.95719016516341 20.31818181818187 L28.95719016516341 20.31818181818187 L92.66300852852328 88.04545454545462 L347.4862819819614 155.77272727272737 L162.16026492491528 223.50000000000006 L260.6147114864707 291.22727272727275 L608.1009934684321 358.9545454545455 L353.277720014994 426.68181818181824 \" fill=\"none\" stroke-width=\"1.6500000000000001\" stroke=\"rgb(84,112,198)\" stroke-opacity=\"1.0\" stroke-dasharray=\"12.21,5.280000000000001\">\n          </path>\n        </g>\n      </g>\n    </g>\n    <g transform=\"translate(52.94181636640461 15.2 ) \">\n      <text class=\"plot-title\" y=\"0.0\">\n      Performance Dependency on Temperature\n      </text>\n    </g>\n    <g transform=\"translate(52.94181636640461 38.5 ) \">\n      <text class=\"plot-subtitle\" y=\"0.0\">\n      Analysis of Material Performance Decline at Extremely Low Temperatures\n      </text>\n    </g>\n    <g transform=\"translate(14.5 280.5 ) rotate(-90.0 ) \">\n      <text class=\"axis-title-y\" y=\"0.0\" text-anchor=\"middle\">\n      Performance Measure\n      </text>\n    </g>\n    <g transform=\"translate(371.4709081832023 541.5 ) \">\n      <text class=\"axis-title-x\" y=\"0.0\" text-anchor=\"middle\">\n      Temperature (°C)\n      </text>\n    </g>\n    <path fill=\"rgb(0,0,0)\" fill-opacity=\"0.0\" stroke=\"rgb(71,71,71)\" stroke-opacity=\"1.0\" stroke-width=\"0.0\" d=\"M0.0 0.0 L0.0 550.0 L700.0 550.0 L700.0 0.0 Z\">\n    </path>\n  </g>\n  <g id=\"dCcfzey\">\n  </g>\n</svg>\n        <script>document.getElementById(\"907965b5-c326-4d08-8461-e829686a7ae2\").style.display = \"none\";</script>",
      "application/plot+json": {
       "output_type": "lets_plot_spec",
       "output": {
        "ggtitle": {
         "text": "Performance Dependency on Temperature",
         "subtitle": "Analysis of Material Performance Decline at Extremely Low Temperatures"
        },
        "mapping": {},
        "data": {},
        "ggsize": {
         "width": 700.0,
         "height": 550.0
        },
        "kind": "plot",
        "scales": [
         {
          "aesthetic": "y",
          "limits": [
           null,
           null
          ]
         },
         {
          "aesthetic": "x",
          "name": "Temperature (°C)",
          "limits": [
           null,
           null
          ]
         },
         {
          "aesthetic": "y",
          "name": "Performance Measure"
         }
        ],
        "layers": [
         {
          "mapping": {
           "y": "y",
           "x": "x"
          },
          "stat": "identity",
          "data": {
           "x": [
            -45.5,
            -44.4,
            -40.0,
            -43.2,
            -41.5,
            -35.5,
            -39.9
           ],
           "y": [
            100.0,
            90.0,
            80.0,
            70.0,
            60.0,
            50.0,
            40.0
           ]
          },
          "color": "#5470c6",
          "linetype": "longdash",
          "sampling": "none",
          "position": "identity",
          "geom": "path"
         }
        ]
       },
       "apply_color_scheme": true,
       "swing_enabled": true
      }
     },
     "execution_count": 2,
     "metadata": {},
     "output_type": "execute_result"
    }
   ],
   "source": [
    "val dist = listOf(100, 90, 80, 70, 60, 50, 40)\n",
    "val temp = listOf(-45.5, -44.4, -40.0, -43.2, -41.5, -35.5, -39.9)\n",
    "\n",
    "plot {\n",
    "    layout {\n",
    "        title = \"Performance Dependency on Temperature\"\n",
    "        subtitle = \"Analysis of Material Performance Decline at Extremely Low Temperatures\"\n",
    "        yAxisLabel = \"Performance Measure\"\n",
    "        size = 700 to 550\n",
    "    }\n",
    "    path {\n",
    "        y(dist)\n",
    "        x(temp) {\n",
    "            axis.name = \"Temperature (°C)\"\n",
    "        }\n",
    "        color = Color.BLUE\n",
    "        type = LineType.LONGDASH\n",
    "    }\n",
    "}"
   ],
   "metadata": {
    "collapsed": false,
    "ExecuteTime": {
     "end_time": "2023-11-17T23:26:15.392184Z",
     "start_time": "2023-11-17T23:26:14.758535Z"
    }
   }
  }
 ],
 "metadata": {
  "kernelspec": {
   "display_name": "Kotlin",
   "language": "kotlin",
   "name": "kotlin"
  },
  "language_info": {
   "name": "kotlin",
   "version": "1.9.0",
   "mimetype": "text/x-kotlin",
   "file_extension": ".kt",
   "pygments_lexer": "kotlin",
   "codemirror_mode": "text/x-kotlin",
   "nbconvert_exporter": ""
  }
 },
 "nbformat": 4,
 "nbformat_minor": 0
}
