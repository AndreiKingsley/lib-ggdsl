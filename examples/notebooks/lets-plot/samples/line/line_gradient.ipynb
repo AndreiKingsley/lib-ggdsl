{
 "cells": [
  {
   "cell_type": "code",
   "execution_count": 1,
   "metadata": {
    "collapsed": true,
    "ExecuteTime": {
     "end_time": "2023-11-17T23:20:26.537439Z",
     "start_time": "2023-11-17T23:20:12.121190Z"
    }
   },
   "outputs": [],
   "source": [
    "%use kandy\n",
    "%use dataframe"
   ]
  },
  {
   "cell_type": "code",
   "execution_count": 2,
   "outputs": [],
   "source": [
    "val monthTemp = dataFrameOf(\"month\", \"temp\")(\n",
    "    \"January\", -5,\n",
    "    \"February\", -3,\n",
    "    \"March\", 2,\n",
    "    \"April\", 10,\n",
    "    \"May\", 16,\n",
    "    \"June\", 20,\n",
    "    \"July\", 22,\n",
    "    \"August\", 21,\n",
    "    \"September\", 15,\n",
    "    \"October\", 9,\n",
    "    \"November\", 3,\n",
    "    \"December\", -2\n",
    ")"
   ],
   "metadata": {
    "collapsed": false,
    "ExecuteTime": {
     "end_time": "2023-11-17T23:20:26.538043Z",
     "start_time": "2023-11-17T23:20:12.869280Z"
    }
   }
  },
  {
   "cell_type": "code",
   "execution_count": 3,
   "outputs": [
    {
     "data": {
      "text/html": "            <iframe src='about:blank' style='border:none !important;' width='600' height='400' srcdoc=\"&lt;html lang=&quot;en&quot;>\n   &lt;head>\n       &lt;style> html, body { margin: 0; overflow: hidden; } &lt;/style>\n       &lt;script type=&quot;text/javascript&quot; data-lets-plot-script=&quot;library&quot; src=&quot;https://cdn.jsdelivr.net/gh/JetBrains/lets-plot@v4.0.1/js-package/distr/lets-plot.min.js&quot;>&lt;/script>\n   &lt;/head>\n   &lt;body>\n          &lt;div id=&quot;aZ1IO4&quot;>&lt;/div>\n   &lt;script type=&quot;text/javascript&quot; data-lets-plot-script=&quot;plot&quot;>\n       var plotSpec={\n&quot;mapping&quot;:{\n},\n&quot;data&quot;:{\n&quot;temp&quot;:[-5.0,-3.0,2.0,10.0,16.0,20.0,22.0,21.0,15.0,9.0,3.0,-2.0],\n&quot;month&quot;:[&quot;January&quot;,&quot;February&quot;,&quot;March&quot;,&quot;April&quot;,&quot;May&quot;,&quot;June&quot;,&quot;July&quot;,&quot;August&quot;,&quot;September&quot;,&quot;October&quot;,&quot;November&quot;,&quot;December&quot;]\n},\n&quot;kind&quot;:&quot;plot&quot;,\n&quot;scales&quot;:[{\n&quot;aesthetic&quot;:&quot;x&quot;,\n&quot;discrete&quot;:true\n},{\n&quot;aesthetic&quot;:&quot;y&quot;,\n&quot;limits&quot;:[-10.0,25.0]\n},{\n&quot;aesthetic&quot;:&quot;color&quot;,\n&quot;scale_mapper_kind&quot;:&quot;color_gradient&quot;,\n&quot;high&quot;:&quot;#ee6666&quot;,\n&quot;low&quot;:&quot;#5470c6&quot;,\n&quot;limits&quot;:[null,null]\n}],\n&quot;layers&quot;:[{\n&quot;mapping&quot;:{\n&quot;x&quot;:&quot;month&quot;,\n&quot;y&quot;:&quot;temp&quot;,\n&quot;color&quot;:&quot;temp&quot;\n},\n&quot;stat&quot;:&quot;identity&quot;,\n&quot;size&quot;:3.0,\n&quot;sampling&quot;:&quot;none&quot;,\n&quot;position&quot;:&quot;identity&quot;,\n&quot;geom&quot;:&quot;line&quot;,\n&quot;data&quot;:{\n}\n}]\n};\n       var plotContainer = document.getElementById(&quot;aZ1IO4&quot;);\n       LetsPlot.buildPlotFromProcessedSpecs(plotSpec, -1, -1, plotContainer);\n   &lt;/script>\n   &lt;/body>\n&lt;/html>\"></iframe>            \n        <svg id=79eda033-9e1e-44fd-94b0-814fbbc0a1e9 xmlns=\"http://www.w3.org/2000/svg\" xmlns:xlink=\"http://www.w3.org/1999/xlink\" class=\"plt-container\" width=\"600.0\" height=\"400.0\">\n  <style type=\"text/css\">\n  .plt-container {\n   font-family: Lucida Grande, sans-serif;\n   user-select: none;\n   -webkit-user-select: none;\n   -moz-user-select: none;\n   -ms-user-select: none;\n}\ntext {\n   text-rendering: optimizeLegibility;\n}\n#pLmAViY .plot-title {\n   fill: #474747;\n   font-family: Lucida Grande, sans-serif;\n   font-size: 16.0px;\n   font-weight: normal;\n   font-style: normal;   \n}\n#pLmAViY .plot-subtitle {\n   fill: #474747;\n   font-family: Lucida Grande, sans-serif;\n   font-size: 15.0px;\n   font-weight: normal;\n   font-style: normal;   \n}\n#pLmAViY .plot-caption {\n   fill: #474747;\n   font-family: Lucida Grande, sans-serif;\n   font-size: 13.0px;\n   font-weight: normal;\n   font-style: normal;   \n}\n#pLmAViY .legend-title {\n   fill: #474747;\n   font-family: Lucida Grande, sans-serif;\n   font-size: 15.0px;\n   font-weight: normal;\n   font-style: normal;   \n}\n#pLmAViY .legend-item {\n   fill: #474747;\n   font-family: Lucida Grande, sans-serif;\n   font-size: 13.0px;\n   font-weight: normal;\n   font-style: normal;   \n}\n#pLmAViY .axis-title-x {\n   fill: #474747;\n   font-family: Lucida Grande, sans-serif;\n   font-size: 15.0px;\n   font-weight: normal;\n   font-style: normal;   \n}\n#pLmAViY .axis-text-x {\n   fill: #474747;\n   font-family: Lucida Grande, sans-serif;\n   font-size: 13.0px;\n   font-weight: normal;\n   font-style: normal;   \n}\n#d5Bn9l5 .axis-tooltip-text-x {\n   fill: #ffffff;\n   font-family: Lucida Grande, sans-serif;\n   font-size: 13.0px;\n   font-weight: normal;\n   font-style: normal;   \n}\n#pLmAViY .axis-title-y {\n   fill: #474747;\n   font-family: Lucida Grande, sans-serif;\n   font-size: 15.0px;\n   font-weight: normal;\n   font-style: normal;   \n}\n#pLmAViY .axis-text-y {\n   fill: #474747;\n   font-family: Lucida Grande, sans-serif;\n   font-size: 13.0px;\n   font-weight: normal;\n   font-style: normal;   \n}\n#d5Bn9l5 .axis-tooltip-text-y {\n   fill: #ffffff;\n   font-family: Lucida Grande, sans-serif;\n   font-size: 13.0px;\n   font-weight: normal;\n   font-style: normal;   \n}\n#pLmAViY .facet-strip-text-x {\n   fill: #474747;\n   font-family: Lucida Grande, sans-serif;\n   font-size: 13.0px;\n   font-weight: normal;\n   font-style: normal;   \n}\n#pLmAViY .facet-strip-text-y {\n   fill: #474747;\n   font-family: Lucida Grande, sans-serif;\n   font-size: 13.0px;\n   font-weight: normal;\n   font-style: normal;   \n}\n#d5Bn9l5 .tooltip-text {\n   fill: #474747;\n   font-family: Lucida Grande, sans-serif;\n   font-size: 13.0px;\n   font-weight: normal;\n   font-style: normal;   \n}\n#d5Bn9l5 .tooltip-title {\n   fill: #474747;\n   font-family: Lucida Grande, sans-serif;\n   font-size: 13.0px;\n   font-weight: bold;\n   font-style: normal;   \n}\n#d5Bn9l5 .tooltip-label {\n   fill: #474747;\n   font-family: Lucida Grande, sans-serif;\n   font-size: 13.0px;\n   font-weight: bold;\n   font-style: normal;   \n}\n\n  </style>\n  <g id=\"pLmAViY\">\n    <path fill-rule=\"evenodd\" fill=\"rgb(255,255,255)\" fill-opacity=\"1.0\" d=\"M0.0 0.0 L0.0 400.0 L600.0 400.0 L600.0 0.0 Z\">\n    </path>\n    <g transform=\"translate(23.0 10.0 ) \">\n      <g transform=\"translate(29.941816366404606 285.73695078369224 ) \">\n        <line x1=\"8.317660877103947\" y1=\"-0.0\" x2=\"8.317660877103947\" y2=\"-285.73695078369224\" stroke=\"rgb(233,233,233)\" stroke-opacity=\"1.0\" stroke-width=\"1.0\">\n        </line>\n        <line x1=\"49.90596526262368\" y1=\"-0.0\" x2=\"49.90596526262368\" y2=\"-285.73695078369224\" stroke=\"rgb(233,233,233)\" stroke-opacity=\"1.0\" stroke-width=\"1.0\">\n        </line>\n        <line x1=\"91.49426964814342\" y1=\"-0.0\" x2=\"91.49426964814342\" y2=\"-285.73695078369224\" stroke=\"rgb(233,233,233)\" stroke-opacity=\"1.0\" stroke-width=\"1.0\">\n        </line>\n        <line x1=\"133.08257403366315\" y1=\"-0.0\" x2=\"133.08257403366315\" y2=\"-285.73695078369224\" stroke=\"rgb(233,233,233)\" stroke-opacity=\"1.0\" stroke-width=\"1.0\">\n        </line>\n        <line x1=\"174.67087841918288\" y1=\"-0.0\" x2=\"174.67087841918288\" y2=\"-285.73695078369224\" stroke=\"rgb(233,233,233)\" stroke-opacity=\"1.0\" stroke-width=\"1.0\">\n        </line>\n        <line x1=\"216.25918280470262\" y1=\"-0.0\" x2=\"216.25918280470262\" y2=\"-285.73695078369224\" stroke=\"rgb(233,233,233)\" stroke-opacity=\"1.0\" stroke-width=\"1.0\">\n        </line>\n        <line x1=\"257.84748719022235\" y1=\"-0.0\" x2=\"257.84748719022235\" y2=\"-285.73695078369224\" stroke=\"rgb(233,233,233)\" stroke-opacity=\"1.0\" stroke-width=\"1.0\">\n        </line>\n        <line x1=\"299.4357915757421\" y1=\"-0.0\" x2=\"299.4357915757421\" y2=\"-285.73695078369224\" stroke=\"rgb(233,233,233)\" stroke-opacity=\"1.0\" stroke-width=\"1.0\">\n        </line>\n        <line x1=\"341.0240959612618\" y1=\"-0.0\" x2=\"341.0240959612618\" y2=\"-285.73695078369224\" stroke=\"rgb(233,233,233)\" stroke-opacity=\"1.0\" stroke-width=\"1.0\">\n        </line>\n        <line x1=\"382.61240034678156\" y1=\"-0.0\" x2=\"382.61240034678156\" y2=\"-285.73695078369224\" stroke=\"rgb(233,233,233)\" stroke-opacity=\"1.0\" stroke-width=\"1.0\">\n        </line>\n        <line x1=\"424.2007047323013\" y1=\"-0.0\" x2=\"424.2007047323013\" y2=\"-285.73695078369224\" stroke=\"rgb(233,233,233)\" stroke-opacity=\"1.0\" stroke-width=\"1.0\">\n        </line>\n        <line x1=\"465.789009117821\" y1=\"-0.0\" x2=\"465.789009117821\" y2=\"-285.73695078369224\" stroke=\"rgb(233,233,233)\" stroke-opacity=\"1.0\" stroke-width=\"1.0\">\n        </line>\n        <g transform=\"translate(8.317660877103947 0.0 ) \">\n          <line stroke-width=\"1.0\" stroke=\"rgb(71,71,71)\" stroke-opacity=\"1.0\" x2=\"0.0\" y2=\"4.0\">\n          </line>\n          <g transform=\"translate(0.0 7.0 ) rotate(90.0 ) \">\n            <text class=\"axis-text-x\" dy=\"0.35em\">\n            January\n            </text>\n          </g>\n        </g>\n        <g transform=\"translate(49.90596526262368 0.0 ) \">\n          <line stroke-width=\"1.0\" stroke=\"rgb(71,71,71)\" stroke-opacity=\"1.0\" x2=\"0.0\" y2=\"4.0\">\n          </line>\n          <g transform=\"translate(0.0 7.0 ) rotate(90.0 ) \">\n            <text class=\"axis-text-x\" dy=\"0.35em\">\n            February\n            </text>\n          </g>\n        </g>\n        <g transform=\"translate(91.49426964814342 0.0 ) \">\n          <line stroke-width=\"1.0\" stroke=\"rgb(71,71,71)\" stroke-opacity=\"1.0\" x2=\"0.0\" y2=\"4.0\">\n          </line>\n          <g transform=\"translate(0.0 7.0 ) rotate(90.0 ) \">\n            <text class=\"axis-text-x\" dy=\"0.35em\">\n            March\n            </text>\n          </g>\n        </g>\n        <g transform=\"translate(133.08257403366315 0.0 ) \">\n          <line stroke-width=\"1.0\" stroke=\"rgb(71,71,71)\" stroke-opacity=\"1.0\" x2=\"0.0\" y2=\"4.0\">\n          </line>\n          <g transform=\"translate(0.0 7.0 ) rotate(90.0 ) \">\n            <text class=\"axis-text-x\" dy=\"0.35em\">\n            April\n            </text>\n          </g>\n        </g>\n        <g transform=\"translate(174.67087841918288 0.0 ) \">\n          <line stroke-width=\"1.0\" stroke=\"rgb(71,71,71)\" stroke-opacity=\"1.0\" x2=\"0.0\" y2=\"4.0\">\n          </line>\n          <g transform=\"translate(0.0 7.0 ) rotate(90.0 ) \">\n            <text class=\"axis-text-x\" dy=\"0.35em\">\n            May\n            </text>\n          </g>\n        </g>\n        <g transform=\"translate(216.25918280470262 0.0 ) \">\n          <line stroke-width=\"1.0\" stroke=\"rgb(71,71,71)\" stroke-opacity=\"1.0\" x2=\"0.0\" y2=\"4.0\">\n          </line>\n          <g transform=\"translate(0.0 7.0 ) rotate(90.0 ) \">\n            <text class=\"axis-text-x\" dy=\"0.35em\">\n            June\n            </text>\n          </g>\n        </g>\n        <g transform=\"translate(257.84748719022235 0.0 ) \">\n          <line stroke-width=\"1.0\" stroke=\"rgb(71,71,71)\" stroke-opacity=\"1.0\" x2=\"0.0\" y2=\"4.0\">\n          </line>\n          <g transform=\"translate(0.0 7.0 ) rotate(90.0 ) \">\n            <text class=\"axis-text-x\" dy=\"0.35em\">\n            July\n            </text>\n          </g>\n        </g>\n        <g transform=\"translate(299.4357915757421 0.0 ) \">\n          <line stroke-width=\"1.0\" stroke=\"rgb(71,71,71)\" stroke-opacity=\"1.0\" x2=\"0.0\" y2=\"4.0\">\n          </line>\n          <g transform=\"translate(0.0 7.0 ) rotate(90.0 ) \">\n            <text class=\"axis-text-x\" dy=\"0.35em\">\n            August\n            </text>\n          </g>\n        </g>\n        <g transform=\"translate(341.0240959612618 0.0 ) \">\n          <line stroke-width=\"1.0\" stroke=\"rgb(71,71,71)\" stroke-opacity=\"1.0\" x2=\"0.0\" y2=\"4.0\">\n          </line>\n          <g transform=\"translate(0.0 7.0 ) rotate(90.0 ) \">\n            <text class=\"axis-text-x\" dy=\"0.35em\">\n            September\n            </text>\n          </g>\n        </g>\n        <g transform=\"translate(382.61240034678156 0.0 ) \">\n          <line stroke-width=\"1.0\" stroke=\"rgb(71,71,71)\" stroke-opacity=\"1.0\" x2=\"0.0\" y2=\"4.0\">\n          </line>\n          <g transform=\"translate(0.0 7.0 ) rotate(90.0 ) \">\n            <text class=\"axis-text-x\" dy=\"0.35em\">\n            October\n            </text>\n          </g>\n        </g>\n        <g transform=\"translate(424.2007047323013 0.0 ) \">\n          <line stroke-width=\"1.0\" stroke=\"rgb(71,71,71)\" stroke-opacity=\"1.0\" x2=\"0.0\" y2=\"4.0\">\n          </line>\n          <g transform=\"translate(0.0 7.0 ) rotate(90.0 ) \">\n            <text class=\"axis-text-x\" dy=\"0.35em\">\n            November\n            </text>\n          </g>\n        </g>\n        <g transform=\"translate(465.789009117821 0.0 ) \">\n          <line stroke-width=\"1.0\" stroke=\"rgb(71,71,71)\" stroke-opacity=\"1.0\" x2=\"0.0\" y2=\"4.0\">\n          </line>\n          <g transform=\"translate(0.0 7.0 ) rotate(90.0 ) \">\n            <text class=\"axis-text-x\" dy=\"0.35em\">\n            December\n            </text>\n          </g>\n        </g>\n        <line x1=\"0.0\" y1=\"0.0\" x2=\"474.1066699949249\" y2=\"0.0\" stroke-width=\"1.0\" stroke=\"rgb(71,71,71)\" stroke-opacity=\"1.0\">\n        </line>\n      </g>\n      <g transform=\"translate(29.941816366404606 0.0 ) \">\n        <line x1=\"0.0\" y1=\"272.74890756625166\" x2=\"474.1066699949249\" y2=\"272.74890756625166\" stroke=\"rgb(233,233,233)\" stroke-opacity=\"1.0\" stroke-width=\"1.0\">\n        </line>\n        <line x1=\"0.0\" y1=\"235.6402126592787\" x2=\"474.1066699949249\" y2=\"235.6402126592787\" stroke=\"rgb(233,233,233)\" stroke-opacity=\"1.0\" stroke-width=\"1.0\">\n        </line>\n        <line x1=\"0.0\" y1=\"198.53151775230566\" x2=\"474.1066699949249\" y2=\"198.53151775230566\" stroke=\"rgb(233,233,233)\" stroke-opacity=\"1.0\" stroke-width=\"1.0\">\n        </line>\n        <line x1=\"0.0\" y1=\"161.42282284533263\" x2=\"474.1066699949249\" y2=\"161.42282284533263\" stroke=\"rgb(233,233,233)\" stroke-opacity=\"1.0\" stroke-width=\"1.0\">\n        </line>\n        <line x1=\"0.0\" y1=\"124.31412793835963\" x2=\"474.1066699949249\" y2=\"124.31412793835963\" stroke=\"rgb(233,233,233)\" stroke-opacity=\"1.0\" stroke-width=\"1.0\">\n        </line>\n        <line x1=\"0.0\" y1=\"87.2054330313866\" x2=\"474.1066699949249\" y2=\"87.2054330313866\" stroke=\"rgb(233,233,233)\" stroke-opacity=\"1.0\" stroke-width=\"1.0\">\n        </line>\n        <line x1=\"0.0\" y1=\"50.096738124413605\" x2=\"474.1066699949249\" y2=\"50.096738124413605\" stroke=\"rgb(233,233,233)\" stroke-opacity=\"1.0\" stroke-width=\"1.0\">\n        </line>\n        <line x1=\"0.0\" y1=\"12.988043217440577\" x2=\"474.1066699949249\" y2=\"12.988043217440577\" stroke=\"rgb(233,233,233)\" stroke-opacity=\"1.0\" stroke-width=\"1.0\">\n        </line>\n        <g transform=\"translate(0.0 272.74890756625166 ) \">\n          <g transform=\"translate(-3.0 0.0 ) \">\n            <text class=\"axis-text-y\" text-anchor=\"end\" dy=\"0.35em\">\n            -10\n            </text>\n          </g>\n        </g>\n        <g transform=\"translate(0.0 235.6402126592787 ) \">\n          <g transform=\"translate(-3.0 0.0 ) \">\n            <text class=\"axis-text-y\" text-anchor=\"end\" dy=\"0.35em\">\n            -5\n            </text>\n          </g>\n        </g>\n        <g transform=\"translate(0.0 198.53151775230566 ) \">\n          <g transform=\"translate(-3.0 0.0 ) \">\n            <text class=\"axis-text-y\" text-anchor=\"end\" dy=\"0.35em\">\n            0\n            </text>\n          </g>\n        </g>\n        <g transform=\"translate(0.0 161.42282284533263 ) \">\n          <g transform=\"translate(-3.0 0.0 ) \">\n            <text class=\"axis-text-y\" text-anchor=\"end\" dy=\"0.35em\">\n            5\n            </text>\n          </g>\n        </g>\n        <g transform=\"translate(0.0 124.31412793835963 ) \">\n          <g transform=\"translate(-3.0 0.0 ) \">\n            <text class=\"axis-text-y\" text-anchor=\"end\" dy=\"0.35em\">\n            10\n            </text>\n          </g>\n        </g>\n        <g transform=\"translate(0.0 87.2054330313866 ) \">\n          <g transform=\"translate(-3.0 0.0 ) \">\n            <text class=\"axis-text-y\" text-anchor=\"end\" dy=\"0.35em\">\n            15\n            </text>\n          </g>\n        </g>\n        <g transform=\"translate(0.0 50.096738124413605 ) \">\n          <g transform=\"translate(-3.0 0.0 ) \">\n            <text class=\"axis-text-y\" text-anchor=\"end\" dy=\"0.35em\">\n            20\n            </text>\n          </g>\n        </g>\n        <g transform=\"translate(0.0 12.988043217440577 ) \">\n          <g transform=\"translate(-3.0 0.0 ) \">\n            <text class=\"axis-text-y\" text-anchor=\"end\" dy=\"0.35em\">\n            25\n            </text>\n          </g>\n        </g>\n      </g>\n      <g transform=\"translate(29.941816366404606 0.0 ) \" clip-path=\"url(#caun3wO)\" clip-bounds-jfx=\"[rect (0.0, 0.0), (474.1066699949249, 285.73695078369224)]\">\n        <defs>\n          <clipPath id=\"caun3wO\">\n            <rect x=\"0.0\" y=\"0.0\" width=\"474.1066699949249\" height=\"285.73695078369224\">\n            </rect>\n          </clipPath>\n        </defs>\n        <g>\n          <path d=\"M8.317660877103947 235.6402126592787 L8.317660877103947 235.6402126592787 L29.111813069863814 228.21847367788408 \" fill=\"none\" stroke-width=\"6.6000000000000005\" stroke=\"rgb(84,112,199)\" stroke-opacity=\"1.0\">\n          </path>\n        </g>\n        <g>\n          <path d=\"M29.111813069863814 228.21847367788408 L29.111813069863814 228.21847367788408 L49.90596526262368 220.79673469648947 L70.70011745538355 202.24238724300295 \" fill=\"none\" stroke-width=\"6.6000000000000005\" stroke=\"rgb(85,94,202)\" stroke-opacity=\"1.0\">\n          </path>\n        </g>\n        <g>\n          <path d=\"M70.70011745538355 202.24238724300295 L70.70011745538355 202.24238724300295 L91.49426964814342 183.68803978951647 L112.28842184090328 154.00108386393805 \" fill=\"none\" stroke-width=\"6.6000000000000005\" stroke=\"rgb(129,88,209)\" stroke-opacity=\"1.0\">\n          </path>\n        </g>\n        <g>\n          <path d=\"M112.28842184090328 154.00108386393805 L112.28842184090328 154.00108386393805 L133.08257403366315 124.31412793835963 L153.87672622642302 102.04891099417583 \" fill=\"none\" stroke-width=\"6.6000000000000005\" stroke=\"rgb(220,94,220)\" stroke-opacity=\"1.0\">\n          </path>\n        </g>\n        <g>\n          <path d=\"M153.87672622642302 102.04891099417583 L153.87672622642302 102.04891099417583 L174.67087841918288 79.78369404999201 L195.46503061194275 64.9402160872028 \" fill=\"none\" stroke-width=\"6.6000000000000005\" stroke=\"rgb(229,98,163)\" stroke-opacity=\"1.0\">\n          </path>\n        </g>\n        <g>\n          <path d=\"M195.46503061194275 64.9402160872028 L195.46503061194275 64.9402160872028 L216.25918280470262 50.096738124413605 L237.05333499746249 42.674999143018994 \" fill=\"none\" stroke-width=\"6.6000000000000005\" stroke=\"rgb(234,101,123)\" stroke-opacity=\"1.0\">\n          </path>\n        </g>\n        <g>\n          <path d=\"M237.05333499746249 42.674999143018994 L237.05333499746249 42.674999143018994 L257.84748719022235 35.25326016162438 L278.64163938298225 38.96412965232169 \" fill=\"none\" stroke-width=\"6.6000000000000005\" stroke=\"rgb(237,102,102)\" stroke-opacity=\"1.0\">\n          </path>\n        </g>\n        <g>\n          <path d=\"M278.64163938298225 38.96412965232169 L278.64163938298225 38.96412965232169 L299.4357915757421 42.674999143018994 L320.2299437685019 64.9402160872028 \" fill=\"none\" stroke-width=\"6.6000000000000005\" stroke=\"rgb(236,101,112)\" stroke-opacity=\"1.0\">\n          </path>\n        </g>\n        <g>\n          <path d=\"M320.2299437685019 64.9402160872028 L320.2299437685019 64.9402160872028 L341.0240959612618 87.2054330313866 L361.8182481540217 109.47064997557042 \" fill=\"none\" stroke-width=\"6.6000000000000005\" stroke=\"rgb(227,97,173)\" stroke-opacity=\"1.0\">\n          </path>\n        </g>\n        <g>\n          <path d=\"M361.8182481540217 109.47064997557042 L361.8182481540217 109.47064997557042 L382.61240034678156 131.73586691975424 L403.4065525395414 154.00108386393805 \" fill=\"none\" stroke-width=\"6.6000000000000005\" stroke=\"rgb(209,93,219)\" stroke-opacity=\"1.0\">\n          </path>\n        </g>\n        <g>\n          <path d=\"M403.4065525395414 154.00108386393805 L403.4065525395414 154.00108386393805 L424.2007047323013 176.26630080812185 L444.9948569250612 194.82064826160837 \" fill=\"none\" stroke-width=\"6.6000000000000005\" stroke=\"rgb(140,89,210)\" stroke-opacity=\"1.0\">\n          </path>\n        </g>\n        <g>\n          <path d=\"M444.9948569250612 194.82064826160837 L444.9948569250612 194.82064826160837 L465.789009117821 213.37499571509485 \" fill=\"none\" stroke-width=\"6.6000000000000005\" stroke=\"rgb(86,86,203)\" stroke-opacity=\"1.0\">\n          </path>\n        </g>\n      </g>\n    </g>\n    <g transform=\"translate(14.5 152.86847539184612 ) rotate(-90.0 ) \">\n      <text class=\"axis-title-y\" y=\"0.0\" text-anchor=\"middle\">\n      temp\n      </text>\n    </g>\n    <g transform=\"translate(289.9951513638671 391.5 ) \">\n      <text class=\"axis-title-x\" y=\"0.0\" text-anchor=\"middle\">\n      month\n      </text>\n    </g>\n    <g transform=\"translate(537.0484863613295 74.11847539184612 ) \">\n      <rect x=\"5.0\" y=\"5.0\" height=\"147.5\" width=\"52.951513638670505\" stroke=\"rgb(71,71,71)\" stroke-opacity=\"1.0\" stroke-width=\"0.0\" fill=\"rgb(255,255,255)\" fill-opacity=\"1.0\">\n      </rect>\n      <g transform=\"translate(10.0 10.0 ) \">\n        <g transform=\"translate(0.0 10.5 ) \">\n          <text class=\"legend-title\" y=\"0.0\">\n          temp\n          </text>\n        </g>\n        <g transform=\"translate(0.0 22.5 ) \">\n          <g>\n            <rect x=\"0.0\" y=\"0.0\" height=\"115.0\" width=\"23.0\" stroke-width=\"0.0\" fill=\"rgb(236,102,109)\" fill-opacity=\"1.0\">\n            </rect>\n            <rect x=\"0.0\" y=\"7.55\" height=\"107.45\" width=\"23.0\" stroke-width=\"0.0\" fill=\"rgb(234,101,123)\" fill-opacity=\"1.0\">\n            </rect>\n            <rect x=\"0.0\" y=\"13.1\" height=\"101.9\" width=\"23.0\" stroke-width=\"0.0\" fill=\"rgb(232,100,137)\" fill-opacity=\"1.0\">\n            </rect>\n            <rect x=\"0.0\" y=\"18.65\" height=\"96.35\" width=\"23.0\" stroke-width=\"0.0\" fill=\"rgb(230,99,150)\" fill-opacity=\"1.0\">\n            </rect>\n            <rect x=\"0.0\" y=\"24.2\" height=\"90.8\" width=\"23.0\" stroke-width=\"0.0\" fill=\"rgb(229,98,164)\" fill-opacity=\"1.0\">\n            </rect>\n            <rect x=\"0.0\" y=\"29.75\" height=\"85.25\" width=\"23.0\" stroke-width=\"0.0\" fill=\"rgb(227,97,177)\" fill-opacity=\"1.0\">\n            </rect>\n            <rect x=\"0.0\" y=\"35.3\" height=\"79.7\" width=\"23.0\" stroke-width=\"0.0\" fill=\"rgb(225,96,190)\" fill-opacity=\"1.0\">\n            </rect>\n            <rect x=\"0.0\" y=\"40.849999999999994\" height=\"74.15\" width=\"23.0\" stroke-width=\"0.0\" fill=\"rgb(223,95,203)\" fill-opacity=\"1.0\">\n            </rect>\n            <rect x=\"0.0\" y=\"46.39999999999999\" height=\"68.60000000000001\" width=\"23.0\" stroke-width=\"0.0\" fill=\"rgb(221,94,215)\" fill-opacity=\"1.0\">\n            </rect>\n            <rect x=\"0.0\" y=\"51.94999999999999\" height=\"63.05000000000001\" width=\"23.0\" stroke-width=\"0.0\" fill=\"rgb(211,93,219)\" fill-opacity=\"1.0\">\n            </rect>\n            <rect x=\"0.0\" y=\"57.499999999999986\" height=\"57.500000000000014\" width=\"23.0\" stroke-width=\"0.0\" fill=\"rgb(195,92,217)\" fill-opacity=\"1.0\">\n            </rect>\n            <rect x=\"0.0\" y=\"63.04999999999998\" height=\"51.95000000000002\" width=\"23.0\" stroke-width=\"0.0\" fill=\"rgb(179,91,215)\" fill-opacity=\"1.0\">\n            </rect>\n            <rect x=\"0.0\" y=\"68.59999999999998\" height=\"46.40000000000002\" width=\"23.0\" stroke-width=\"0.0\" fill=\"rgb(164,90,213)\" fill-opacity=\"1.0\">\n            </rect>\n            <rect x=\"0.0\" y=\"74.14999999999998\" height=\"40.85000000000002\" width=\"23.0\" stroke-width=\"0.0\" fill=\"rgb(148,89,211)\" fill-opacity=\"1.0\">\n            </rect>\n            <rect x=\"0.0\" y=\"79.69999999999997\" height=\"35.300000000000026\" width=\"23.0\" stroke-width=\"0.0\" fill=\"rgb(133,89,209)\" fill-opacity=\"1.0\">\n            </rect>\n            <rect x=\"0.0\" y=\"85.24999999999997\" height=\"29.75000000000003\" width=\"23.0\" stroke-width=\"0.0\" fill=\"rgb(119,88,208)\" fill-opacity=\"1.0\">\n            </rect>\n            <rect x=\"0.0\" y=\"90.79999999999997\" height=\"24.20000000000003\" width=\"23.0\" stroke-width=\"0.0\" fill=\"rgb(104,87,206)\" fill-opacity=\"1.0\">\n            </rect>\n            <rect x=\"0.0\" y=\"96.34999999999997\" height=\"18.650000000000034\" width=\"23.0\" stroke-width=\"0.0\" fill=\"rgb(90,86,204)\" fill-opacity=\"1.0\">\n            </rect>\n            <rect x=\"0.0\" y=\"101.89999999999996\" height=\"13.100000000000037\" width=\"23.0\" stroke-width=\"0.0\" fill=\"rgb(85,94,202)\" fill-opacity=\"1.0\">\n            </rect>\n            <rect x=\"0.0\" y=\"107.44999999999996\" height=\"7.55000000000004\" width=\"23.0\" stroke-width=\"0.0\" fill=\"rgb(84,106,200)\" fill-opacity=\"1.0\">\n            </rect>\n            <line x1=\"0.0\" y1=\"113.0\" x2=\"4.6\" y2=\"113.0\" stroke-width=\"1.0\" stroke=\"rgb(255,255,255)\" stroke-opacity=\"1.0\">\n            </line>\n            <line x1=\"18.4\" y1=\"113.0\" x2=\"23.0\" y2=\"113.0\" stroke-width=\"1.0\" stroke=\"rgb(255,255,255)\" stroke-opacity=\"1.0\">\n            </line>\n            <g transform=\"translate(26.9903027277341 117.55 ) \">\n              <text class=\"legend-item\" y=\"0.0\">\n              -5\n              </text>\n            </g>\n            <line x1=\"0.0\" y1=\"92.44444444444444\" x2=\"4.6\" y2=\"92.44444444444444\" stroke-width=\"1.0\" stroke=\"rgb(255,255,255)\" stroke-opacity=\"1.0\">\n            </line>\n            <line x1=\"18.4\" y1=\"92.44444444444444\" x2=\"23.0\" y2=\"92.44444444444444\" stroke-width=\"1.0\" stroke=\"rgb(255,255,255)\" stroke-opacity=\"1.0\">\n            </line>\n            <g transform=\"translate(26.9903027277341 96.99444444444444 ) \">\n              <text class=\"legend-item\" y=\"0.0\">\n              0\n              </text>\n            </g>\n            <line x1=\"0.0\" y1=\"71.88888888888889\" x2=\"4.6\" y2=\"71.88888888888889\" stroke-width=\"1.0\" stroke=\"rgb(255,255,255)\" stroke-opacity=\"1.0\">\n            </line>\n            <line x1=\"18.4\" y1=\"71.88888888888889\" x2=\"23.0\" y2=\"71.88888888888889\" stroke-width=\"1.0\" stroke=\"rgb(255,255,255)\" stroke-opacity=\"1.0\">\n            </line>\n            <g transform=\"translate(26.9903027277341 76.43888888888888 ) \">\n              <text class=\"legend-item\" y=\"0.0\">\n              5\n              </text>\n            </g>\n            <line x1=\"0.0\" y1=\"51.333333333333336\" x2=\"4.6\" y2=\"51.333333333333336\" stroke-width=\"1.0\" stroke=\"rgb(255,255,255)\" stroke-opacity=\"1.0\">\n            </line>\n            <line x1=\"18.4\" y1=\"51.333333333333336\" x2=\"23.0\" y2=\"51.333333333333336\" stroke-width=\"1.0\" stroke=\"rgb(255,255,255)\" stroke-opacity=\"1.0\">\n            </line>\n            <g transform=\"translate(26.9903027277341 55.88333333333333 ) \">\n              <text class=\"legend-item\" y=\"0.0\">\n              10\n              </text>\n            </g>\n            <line x1=\"0.0\" y1=\"30.777777777777786\" x2=\"4.6\" y2=\"30.777777777777786\" stroke-width=\"1.0\" stroke=\"rgb(255,255,255)\" stroke-opacity=\"1.0\">\n            </line>\n            <line x1=\"18.4\" y1=\"30.777777777777786\" x2=\"23.0\" y2=\"30.777777777777786\" stroke-width=\"1.0\" stroke=\"rgb(255,255,255)\" stroke-opacity=\"1.0\">\n            </line>\n            <g transform=\"translate(26.9903027277341 35.32777777777778 ) \">\n              <text class=\"legend-item\" y=\"0.0\">\n              15\n              </text>\n            </g>\n            <line x1=\"0.0\" y1=\"10.222222222222229\" x2=\"4.6\" y2=\"10.222222222222229\" stroke-width=\"1.0\" stroke=\"rgb(255,255,255)\" stroke-opacity=\"1.0\">\n            </line>\n            <line x1=\"18.4\" y1=\"10.222222222222229\" x2=\"23.0\" y2=\"10.222222222222229\" stroke-width=\"1.0\" stroke=\"rgb(255,255,255)\" stroke-opacity=\"1.0\">\n            </line>\n            <g transform=\"translate(26.9903027277341 14.772222222222227 ) \">\n              <text class=\"legend-item\" y=\"0.0\">\n              20\n              </text>\n            </g>\n          </g>\n        </g>\n      </g>\n    </g>\n    <path fill=\"rgb(0,0,0)\" fill-opacity=\"0.0\" stroke=\"rgb(71,71,71)\" stroke-opacity=\"1.0\" stroke-width=\"0.0\" d=\"M0.0 0.0 L0.0 400.0 L600.0 400.0 L600.0 0.0 Z\">\n    </path>\n  </g>\n  <g id=\"d5Bn9l5\">\n  </g>\n</svg>\n        <script>document.getElementById(\"79eda033-9e1e-44fd-94b0-814fbbc0a1e9\").style.display = \"none\";</script>",
      "application/plot+json": {
       "output_type": "lets_plot_spec",
       "output": {
        "mapping": {},
        "data": {
         "temp": [
          -5.0,
          -3.0,
          2.0,
          10.0,
          16.0,
          20.0,
          22.0,
          21.0,
          15.0,
          9.0,
          3.0,
          -2.0
         ],
         "month": [
          "January",
          "February",
          "March",
          "April",
          "May",
          "June",
          "July",
          "August",
          "September",
          "October",
          "November",
          "December"
         ]
        },
        "kind": "plot",
        "scales": [
         {
          "aesthetic": "x",
          "discrete": true
         },
         {
          "aesthetic": "y",
          "limits": [
           -10.0,
           25.0
          ]
         },
         {
          "aesthetic": "color",
          "scale_mapper_kind": "color_gradient",
          "high": "#ee6666",
          "low": "#5470c6",
          "limits": [
           null,
           null
          ]
         }
        ],
        "layers": [
         {
          "mapping": {
           "x": "month",
           "y": "temp",
           "color": "temp"
          },
          "stat": "identity",
          "size": 3.0,
          "sampling": "none",
          "position": "identity",
          "geom": "line"
         }
        ]
       },
       "apply_color_scheme": true,
       "swing_enabled": true
      }
     },
     "execution_count": 3,
     "metadata": {},
     "output_type": "execute_result"
    }
   ],
   "source": [
    "monthTemp.plot {\n",
    "    line {\n",
    "        x(month)\n",
    "        y(temp) {\n",
    "            scale = continuous(-10..25) // axis scale\n",
    "        }\n",
    "        color(temp) {\n",
    "            scale = continuous(Color.BLUE..Color.RED)\n",
    "        }\n",
    "        width = 3.0\n",
    "    }\n",
    "}"
   ],
   "metadata": {
    "collapsed": false,
    "ExecuteTime": {
     "end_time": "2023-11-17T23:20:26.551382Z",
     "start_time": "2023-11-17T23:20:13.214850Z"
    }
   }
  }
 ],
 "metadata": {
  "kernelspec": {
   "display_name": "Kotlin",
   "language": "kotlin",
   "name": "kotlin"
  },
  "language_info": {
   "name": "kotlin",
   "version": "1.9.0",
   "mimetype": "text/x-kotlin",
   "file_extension": ".kt",
   "pygments_lexer": "kotlin",
   "codemirror_mode": "text/x-kotlin",
   "nbconvert_exporter": ""
  }
 },
 "nbformat": 4,
 "nbformat_minor": 0
}
