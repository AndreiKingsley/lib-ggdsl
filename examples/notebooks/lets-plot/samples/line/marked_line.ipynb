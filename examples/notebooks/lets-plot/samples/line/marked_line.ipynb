{
 "cells": [
  {
   "cell_type": "code",
   "execution_count": 1,
   "metadata": {
    "collapsed": true,
    "ExecuteTime": {
     "end_time": "2023-11-17T23:18:18.468465Z",
     "start_time": "2023-11-17T23:18:17.697815Z"
    }
   },
   "outputs": [],
   "source": [
    "%use kandy\n",
    "%use dataframe"
   ]
  },
  {
   "cell_type": "code",
   "execution_count": 2,
   "outputs": [],
   "source": [
    "val months = listOf(\n",
    "    \"January\", \"February\",\n",
    "    \"March\", \"April\", \"May\",\n",
    "    \"June\", \"July\", \"August\",\n",
    "    \"September\", \"October\", \"November\",\n",
    "    \"December\"\n",
    ")\n",
    "val tempBerlin =\n",
    "    listOf(-0.5, 0.0, 4.8, 9.0, 14.3, 17.5, 19.2, 18.9, 14.5, 9.7, 4.7, 1.0)\n",
    "val tempMadrid =\n",
    "    listOf(6.3, 7.9, 11.2, 12.9, 16.7, 21.1, 24.7, 24.2, 20.3, 15.4, 9.9, 6.6)\n",
    "\n",
    "val df = dataFrameOf(\n",
    "    \"month\" to months + months,\n",
    "    \"temperature\" to tempBerlin + tempMadrid,\n",
    "    \"city\" to List(12) { \"Berlin\" } + List(12) { \"Madrid\" }\n",
    ")"
   ],
   "metadata": {
    "collapsed": false,
    "ExecuteTime": {
     "end_time": "2023-11-17T23:24:52.200546Z",
     "start_time": "2023-11-17T23:24:51.625463Z"
    }
   }
  },
  {
   "cell_type": "code",
   "execution_count": 5,
   "outputs": [
    {
     "data": {
      "text/html": "            <iframe src='about:blank' style='border:none !important;' width='1000' height='450' srcdoc=\"&lt;html lang=&quot;en&quot;>\n   &lt;head>\n       &lt;style> html, body { margin: 0; overflow: hidden; } &lt;/style>\n       &lt;script type=&quot;text/javascript&quot; data-lets-plot-script=&quot;library&quot; src=&quot;https://cdn.jsdelivr.net/gh/JetBrains/lets-plot@v4.0.1/js-package/distr/lets-plot.min.js&quot;>&lt;/script>\n   &lt;/head>\n   &lt;body>\n          &lt;div id=&quot;rKdO9D&quot;>&lt;/div>\n   &lt;script type=&quot;text/javascript&quot; data-lets-plot-script=&quot;plot&quot;>\n       var plotSpec={\n&quot;mapping&quot;:{\n},\n&quot;data&quot;:{\n&quot;month&quot;:[&quot;January&quot;,&quot;February&quot;,&quot;March&quot;,&quot;April&quot;,&quot;May&quot;,&quot;June&quot;,&quot;July&quot;,&quot;August&quot;,&quot;September&quot;,&quot;October&quot;,&quot;November&quot;,&quot;December&quot;,&quot;January&quot;,&quot;February&quot;,&quot;March&quot;,&quot;April&quot;,&quot;May&quot;,&quot;June&quot;,&quot;July&quot;,&quot;August&quot;,&quot;September&quot;,&quot;October&quot;,&quot;November&quot;,&quot;December&quot;],\n&quot;city&quot;:[&quot;Berlin&quot;,&quot;Berlin&quot;,&quot;Berlin&quot;,&quot;Berlin&quot;,&quot;Berlin&quot;,&quot;Berlin&quot;,&quot;Berlin&quot;,&quot;Berlin&quot;,&quot;Berlin&quot;,&quot;Berlin&quot;,&quot;Berlin&quot;,&quot;Berlin&quot;,&quot;Madrid&quot;,&quot;Madrid&quot;,&quot;Madrid&quot;,&quot;Madrid&quot;,&quot;Madrid&quot;,&quot;Madrid&quot;,&quot;Madrid&quot;,&quot;Madrid&quot;,&quot;Madrid&quot;,&quot;Madrid&quot;,&quot;Madrid&quot;,&quot;Madrid&quot;],\n&quot;temperature&quot;:[-0.5,0.0,4.8,9.0,14.3,17.5,19.2,18.9,14.5,9.7,4.7,1.0,6.3,7.9,11.2,12.9,16.7,21.1,24.7,24.2,20.3,15.4,9.9,6.6]\n},\n&quot;ggsize&quot;:{\n&quot;width&quot;:1000.0,\n&quot;height&quot;:450.0\n},\n&quot;kind&quot;:&quot;plot&quot;,\n&quot;scales&quot;:[{\n&quot;aesthetic&quot;:&quot;x&quot;,\n&quot;discrete&quot;:true\n},{\n&quot;aesthetic&quot;:&quot;y&quot;,\n&quot;limits&quot;:[null,null]\n},{\n&quot;aesthetic&quot;:&quot;color&quot;,\n&quot;values&quot;:[&quot;#9a60b4&quot;,&quot;#fc8452&quot;],\n&quot;limits&quot;:[&quot;Berlin&quot;,&quot;Madrid&quot;]\n}],\n&quot;layers&quot;:[{\n&quot;mapping&quot;:{\n&quot;x&quot;:&quot;month&quot;,\n&quot;y&quot;:&quot;temperature&quot;,\n&quot;color&quot;:&quot;city&quot;\n},\n&quot;stat&quot;:&quot;identity&quot;,\n&quot;size&quot;:1.5,\n&quot;sampling&quot;:&quot;none&quot;,\n&quot;position&quot;:&quot;identity&quot;,\n&quot;geom&quot;:&quot;line&quot;,\n&quot;data&quot;:{\n}\n},{\n&quot;mapping&quot;:{\n},\n&quot;stat&quot;:&quot;identity&quot;,\n&quot;yintercept&quot;:9.424999999999999,\n&quot;color&quot;:&quot;#9a60b4&quot;,\n&quot;linetype&quot;:&quot;dashed&quot;,\n&quot;sampling&quot;:&quot;none&quot;,\n&quot;alpha&quot;:0.9,\n&quot;position&quot;:&quot;identity&quot;,\n&quot;geom&quot;:&quot;hline&quot;,\n&quot;data&quot;:{\n}\n},{\n&quot;mapping&quot;:{\n},\n&quot;stat&quot;:&quot;identity&quot;,\n&quot;yintercept&quot;:14.766666666666667,\n&quot;color&quot;:&quot;#fc8452&quot;,\n&quot;linetype&quot;:&quot;dashed&quot;,\n&quot;sampling&quot;:&quot;none&quot;,\n&quot;alpha&quot;:0.9,\n&quot;position&quot;:&quot;identity&quot;,\n&quot;geom&quot;:&quot;hline&quot;,\n&quot;data&quot;:{\n}\n}]\n};\n       var plotContainer = document.getElementById(&quot;rKdO9D&quot;);\n       LetsPlot.buildPlotFromProcessedSpecs(plotSpec, -1, -1, plotContainer);\n   &lt;/script>\n   &lt;/body>\n&lt;/html>\"></iframe>            \n        <svg id=5942ce99-559c-4fab-a8cf-ee8f126d1b86 xmlns=\"http://www.w3.org/2000/svg\" xmlns:xlink=\"http://www.w3.org/1999/xlink\" class=\"plt-container\" width=\"1000.0\" height=\"450.0\">\n  <style type=\"text/css\">\n  .plt-container {\n   font-family: Lucida Grande, sans-serif;\n   user-select: none;\n   -webkit-user-select: none;\n   -moz-user-select: none;\n   -ms-user-select: none;\n}\ntext {\n   text-rendering: optimizeLegibility;\n}\n#pBnkLCX .plot-title {\n   fill: #474747;\n   font-family: Lucida Grande, sans-serif;\n   font-size: 16.0px;\n   font-weight: normal;\n   font-style: normal;   \n}\n#pBnkLCX .plot-subtitle {\n   fill: #474747;\n   font-family: Lucida Grande, sans-serif;\n   font-size: 15.0px;\n   font-weight: normal;\n   font-style: normal;   \n}\n#pBnkLCX .plot-caption {\n   fill: #474747;\n   font-family: Lucida Grande, sans-serif;\n   font-size: 13.0px;\n   font-weight: normal;\n   font-style: normal;   \n}\n#pBnkLCX .legend-title {\n   fill: #474747;\n   font-family: Lucida Grande, sans-serif;\n   font-size: 15.0px;\n   font-weight: normal;\n   font-style: normal;   \n}\n#pBnkLCX .legend-item {\n   fill: #474747;\n   font-family: Lucida Grande, sans-serif;\n   font-size: 13.0px;\n   font-weight: normal;\n   font-style: normal;   \n}\n#pBnkLCX .axis-title-x {\n   fill: #474747;\n   font-family: Lucida Grande, sans-serif;\n   font-size: 15.0px;\n   font-weight: normal;\n   font-style: normal;   \n}\n#pBnkLCX .axis-text-x {\n   fill: #474747;\n   font-family: Lucida Grande, sans-serif;\n   font-size: 13.0px;\n   font-weight: normal;\n   font-style: normal;   \n}\n#dDbFx4L .axis-tooltip-text-x {\n   fill: #ffffff;\n   font-family: Lucida Grande, sans-serif;\n   font-size: 13.0px;\n   font-weight: normal;\n   font-style: normal;   \n}\n#pBnkLCX .axis-title-y {\n   fill: #474747;\n   font-family: Lucida Grande, sans-serif;\n   font-size: 15.0px;\n   font-weight: normal;\n   font-style: normal;   \n}\n#pBnkLCX .axis-text-y {\n   fill: #474747;\n   font-family: Lucida Grande, sans-serif;\n   font-size: 13.0px;\n   font-weight: normal;\n   font-style: normal;   \n}\n#dDbFx4L .axis-tooltip-text-y {\n   fill: #ffffff;\n   font-family: Lucida Grande, sans-serif;\n   font-size: 13.0px;\n   font-weight: normal;\n   font-style: normal;   \n}\n#pBnkLCX .facet-strip-text-x {\n   fill: #474747;\n   font-family: Lucida Grande, sans-serif;\n   font-size: 13.0px;\n   font-weight: normal;\n   font-style: normal;   \n}\n#pBnkLCX .facet-strip-text-y {\n   fill: #474747;\n   font-family: Lucida Grande, sans-serif;\n   font-size: 13.0px;\n   font-weight: normal;\n   font-style: normal;   \n}\n#dDbFx4L .tooltip-text {\n   fill: #474747;\n   font-family: Lucida Grande, sans-serif;\n   font-size: 13.0px;\n   font-weight: normal;\n   font-style: normal;   \n}\n#dDbFx4L .tooltip-title {\n   fill: #474747;\n   font-family: Lucida Grande, sans-serif;\n   font-size: 13.0px;\n   font-weight: bold;\n   font-style: normal;   \n}\n#dDbFx4L .tooltip-label {\n   fill: #474747;\n   font-family: Lucida Grande, sans-serif;\n   font-size: 13.0px;\n   font-weight: bold;\n   font-style: normal;   \n}\n\n  </style>\n  <g id=\"pBnkLCX\">\n    <path fill-rule=\"evenodd\" fill=\"rgb(255,255,255)\" fill-opacity=\"1.0\" d=\"M0.0 0.0 L0.0 450.0 L1000.0 450.0 L1000.0 0.0 Z\">\n    </path>\n    <g transform=\"translate(23.0 10.0 ) \">\n      <g transform=\"translate(21.961210910936405 335.73695078369224 ) \">\n        <line x1=\"14.957793156122737\" y1=\"-0.0\" x2=\"14.957793156122737\" y2=\"-335.73695078369224\" stroke=\"rgb(233,233,233)\" stroke-opacity=\"1.0\" stroke-width=\"1.0\">\n        </line>\n        <line x1=\"89.74675893673641\" y1=\"-0.0\" x2=\"89.74675893673641\" y2=\"-335.73695078369224\" stroke=\"rgb(233,233,233)\" stroke-opacity=\"1.0\" stroke-width=\"1.0\">\n        </line>\n        <line x1=\"164.5357247173501\" y1=\"-0.0\" x2=\"164.5357247173501\" y2=\"-335.73695078369224\" stroke=\"rgb(233,233,233)\" stroke-opacity=\"1.0\" stroke-width=\"1.0\">\n        </line>\n        <line x1=\"239.32469049796376\" y1=\"-0.0\" x2=\"239.32469049796376\" y2=\"-335.73695078369224\" stroke=\"rgb(233,233,233)\" stroke-opacity=\"1.0\" stroke-width=\"1.0\">\n        </line>\n        <line x1=\"314.1136562785775\" y1=\"-0.0\" x2=\"314.1136562785775\" y2=\"-335.73695078369224\" stroke=\"rgb(233,233,233)\" stroke-opacity=\"1.0\" stroke-width=\"1.0\">\n        </line>\n        <line x1=\"388.9026220591912\" y1=\"-0.0\" x2=\"388.9026220591912\" y2=\"-335.73695078369224\" stroke=\"rgb(233,233,233)\" stroke-opacity=\"1.0\" stroke-width=\"1.0\">\n        </line>\n        <line x1=\"463.6915878398048\" y1=\"-0.0\" x2=\"463.6915878398048\" y2=\"-335.73695078369224\" stroke=\"rgb(233,233,233)\" stroke-opacity=\"1.0\" stroke-width=\"1.0\">\n        </line>\n        <line x1=\"538.4805536204185\" y1=\"-0.0\" x2=\"538.4805536204185\" y2=\"-335.73695078369224\" stroke=\"rgb(233,233,233)\" stroke-opacity=\"1.0\" stroke-width=\"1.0\">\n        </line>\n        <line x1=\"613.2695194010322\" y1=\"-0.0\" x2=\"613.2695194010322\" y2=\"-335.73695078369224\" stroke=\"rgb(233,233,233)\" stroke-opacity=\"1.0\" stroke-width=\"1.0\">\n        </line>\n        <line x1=\"688.0584851816459\" y1=\"-0.0\" x2=\"688.0584851816459\" y2=\"-335.73695078369224\" stroke=\"rgb(233,233,233)\" stroke-opacity=\"1.0\" stroke-width=\"1.0\">\n        </line>\n        <line x1=\"762.8474509622596\" y1=\"-0.0\" x2=\"762.8474509622596\" y2=\"-335.73695078369224\" stroke=\"rgb(233,233,233)\" stroke-opacity=\"1.0\" stroke-width=\"1.0\">\n        </line>\n        <line x1=\"837.6364167428733\" y1=\"-0.0\" x2=\"837.6364167428733\" y2=\"-335.73695078369224\" stroke=\"rgb(233,233,233)\" stroke-opacity=\"1.0\" stroke-width=\"1.0\">\n        </line>\n        <g transform=\"translate(14.957793156122737 0.0 ) \">\n          <line stroke-width=\"1.0\" stroke=\"rgb(71,71,71)\" stroke-opacity=\"1.0\" x2=\"0.0\" y2=\"4.0\">\n          </line>\n          <g transform=\"translate(0.0 7.0 ) rotate(90.0 ) \">\n            <text class=\"axis-text-x\" dy=\"0.35em\">\n            January\n            </text>\n          </g>\n        </g>\n        <g transform=\"translate(89.74675893673641 0.0 ) \">\n          <line stroke-width=\"1.0\" stroke=\"rgb(71,71,71)\" stroke-opacity=\"1.0\" x2=\"0.0\" y2=\"4.0\">\n          </line>\n          <g transform=\"translate(0.0 7.0 ) rotate(90.0 ) \">\n            <text class=\"axis-text-x\" dy=\"0.35em\">\n            February\n            </text>\n          </g>\n        </g>\n        <g transform=\"translate(164.5357247173501 0.0 ) \">\n          <line stroke-width=\"1.0\" stroke=\"rgb(71,71,71)\" stroke-opacity=\"1.0\" x2=\"0.0\" y2=\"4.0\">\n          </line>\n          <g transform=\"translate(0.0 7.0 ) rotate(90.0 ) \">\n            <text class=\"axis-text-x\" dy=\"0.35em\">\n            March\n            </text>\n          </g>\n        </g>\n        <g transform=\"translate(239.32469049796376 0.0 ) \">\n          <line stroke-width=\"1.0\" stroke=\"rgb(71,71,71)\" stroke-opacity=\"1.0\" x2=\"0.0\" y2=\"4.0\">\n          </line>\n          <g transform=\"translate(0.0 7.0 ) rotate(90.0 ) \">\n            <text class=\"axis-text-x\" dy=\"0.35em\">\n            April\n            </text>\n          </g>\n        </g>\n        <g transform=\"translate(314.1136562785775 0.0 ) \">\n          <line stroke-width=\"1.0\" stroke=\"rgb(71,71,71)\" stroke-opacity=\"1.0\" x2=\"0.0\" y2=\"4.0\">\n          </line>\n          <g transform=\"translate(0.0 7.0 ) rotate(90.0 ) \">\n            <text class=\"axis-text-x\" dy=\"0.35em\">\n            May\n            </text>\n          </g>\n        </g>\n        <g transform=\"translate(388.9026220591912 0.0 ) \">\n          <line stroke-width=\"1.0\" stroke=\"rgb(71,71,71)\" stroke-opacity=\"1.0\" x2=\"0.0\" y2=\"4.0\">\n          </line>\n          <g transform=\"translate(0.0 7.0 ) rotate(90.0 ) \">\n            <text class=\"axis-text-x\" dy=\"0.35em\">\n            June\n            </text>\n          </g>\n        </g>\n        <g transform=\"translate(463.6915878398048 0.0 ) \">\n          <line stroke-width=\"1.0\" stroke=\"rgb(71,71,71)\" stroke-opacity=\"1.0\" x2=\"0.0\" y2=\"4.0\">\n          </line>\n          <g transform=\"translate(0.0 7.0 ) rotate(90.0 ) \">\n            <text class=\"axis-text-x\" dy=\"0.35em\">\n            July\n            </text>\n          </g>\n        </g>\n        <g transform=\"translate(538.4805536204185 0.0 ) \">\n          <line stroke-width=\"1.0\" stroke=\"rgb(71,71,71)\" stroke-opacity=\"1.0\" x2=\"0.0\" y2=\"4.0\">\n          </line>\n          <g transform=\"translate(0.0 7.0 ) rotate(90.0 ) \">\n            <text class=\"axis-text-x\" dy=\"0.35em\">\n            August\n            </text>\n          </g>\n        </g>\n        <g transform=\"translate(613.2695194010322 0.0 ) \">\n          <line stroke-width=\"1.0\" stroke=\"rgb(71,71,71)\" stroke-opacity=\"1.0\" x2=\"0.0\" y2=\"4.0\">\n          </line>\n          <g transform=\"translate(0.0 7.0 ) rotate(90.0 ) \">\n            <text class=\"axis-text-x\" dy=\"0.35em\">\n            September\n            </text>\n          </g>\n        </g>\n        <g transform=\"translate(688.0584851816459 0.0 ) \">\n          <line stroke-width=\"1.0\" stroke=\"rgb(71,71,71)\" stroke-opacity=\"1.0\" x2=\"0.0\" y2=\"4.0\">\n          </line>\n          <g transform=\"translate(0.0 7.0 ) rotate(90.0 ) \">\n            <text class=\"axis-text-x\" dy=\"0.35em\">\n            October\n            </text>\n          </g>\n        </g>\n        <g transform=\"translate(762.8474509622596 0.0 ) \">\n          <line stroke-width=\"1.0\" stroke=\"rgb(71,71,71)\" stroke-opacity=\"1.0\" x2=\"0.0\" y2=\"4.0\">\n          </line>\n          <g transform=\"translate(0.0 7.0 ) rotate(90.0 ) \">\n            <text class=\"axis-text-x\" dy=\"0.35em\">\n            November\n            </text>\n          </g>\n        </g>\n        <g transform=\"translate(837.6364167428733 0.0 ) \">\n          <line stroke-width=\"1.0\" stroke=\"rgb(71,71,71)\" stroke-opacity=\"1.0\" x2=\"0.0\" y2=\"4.0\">\n          </line>\n          <g transform=\"translate(0.0 7.0 ) rotate(90.0 ) \">\n            <text class=\"axis-text-x\" dy=\"0.35em\">\n            December\n            </text>\n          </g>\n        </g>\n        <line x1=\"0.0\" y1=\"0.0\" x2=\"852.5942098989958\" y2=\"0.0\" stroke-width=\"1.0\" stroke=\"rgb(71,71,71)\" stroke-opacity=\"1.0\">\n        </line>\n      </g>\n      <g transform=\"translate(21.961210910936405 0.0 ) \">\n        <line x1=\"0.0\" y1=\"314.42031898790225\" x2=\"852.5942098989958\" y2=\"314.42031898790225\" stroke=\"rgb(233,233,233)\" stroke-opacity=\"1.0\" stroke-width=\"1.0\">\n        </line>\n        <line x1=\"0.0\" y1=\"253.86170593168072\" x2=\"852.5942098989958\" y2=\"253.86170593168072\" stroke=\"rgb(233,233,233)\" stroke-opacity=\"1.0\" stroke-width=\"1.0\">\n        </line>\n        <line x1=\"0.0\" y1=\"193.30309287545919\" x2=\"852.5942098989958\" y2=\"193.30309287545919\" stroke=\"rgb(233,233,233)\" stroke-opacity=\"1.0\" stroke-width=\"1.0\">\n        </line>\n        <line x1=\"0.0\" y1=\"132.74447981923765\" x2=\"852.5942098989958\" y2=\"132.74447981923765\" stroke=\"rgb(233,233,233)\" stroke-opacity=\"1.0\" stroke-width=\"1.0\">\n        </line>\n        <line x1=\"0.0\" y1=\"72.18586676301612\" x2=\"852.5942098989958\" y2=\"72.18586676301612\" stroke=\"rgb(233,233,233)\" stroke-opacity=\"1.0\" stroke-width=\"1.0\">\n        </line>\n        <line x1=\"0.0\" y1=\"11.62725370679459\" x2=\"852.5942098989958\" y2=\"11.62725370679459\" stroke=\"rgb(233,233,233)\" stroke-opacity=\"1.0\" stroke-width=\"1.0\">\n        </line>\n        <g transform=\"translate(0.0 314.42031898790225 ) \">\n          <g transform=\"translate(-3.0 0.0 ) \">\n            <text class=\"axis-text-y\" text-anchor=\"end\" dy=\"0.35em\">\n            0\n            </text>\n          </g>\n        </g>\n        <g transform=\"translate(0.0 253.86170593168072 ) \">\n          <g transform=\"translate(-3.0 0.0 ) \">\n            <text class=\"axis-text-y\" text-anchor=\"end\" dy=\"0.35em\">\n            5\n            </text>\n          </g>\n        </g>\n        <g transform=\"translate(0.0 193.30309287545919 ) \">\n          <g transform=\"translate(-3.0 0.0 ) \">\n            <text class=\"axis-text-y\" text-anchor=\"end\" dy=\"0.35em\">\n            10\n            </text>\n          </g>\n        </g>\n        <g transform=\"translate(0.0 132.74447981923765 ) \">\n          <g transform=\"translate(-3.0 0.0 ) \">\n            <text class=\"axis-text-y\" text-anchor=\"end\" dy=\"0.35em\">\n            15\n            </text>\n          </g>\n        </g>\n        <g transform=\"translate(0.0 72.18586676301612 ) \">\n          <g transform=\"translate(-3.0 0.0 ) \">\n            <text class=\"axis-text-y\" text-anchor=\"end\" dy=\"0.35em\">\n            20\n            </text>\n          </g>\n        </g>\n        <g transform=\"translate(0.0 11.62725370679459 ) \">\n          <g transform=\"translate(-3.0 0.0 ) \">\n            <text class=\"axis-text-y\" text-anchor=\"end\" dy=\"0.35em\">\n            25\n            </text>\n          </g>\n        </g>\n      </g>\n      <g transform=\"translate(21.961210910936405 0.0 ) \" clip-path=\"url(#cI1Wy5R)\" clip-bounds-jfx=\"[rect (0.0, 0.0), (852.5942098989958, 335.73695078369224)]\">\n        <defs>\n          <clipPath id=\"cI1Wy5R\">\n            <rect x=\"0.0\" y=\"0.0\" width=\"852.5942098989958\" height=\"335.73695078369224\">\n            </rect>\n          </clipPath>\n        </defs>\n        <g>\n          <path d=\"M14.957793156122737 320.4761802935244 L14.957793156122737 320.4761802935244 L89.74675893673641 314.42031898790225 L164.5357247173501 256.2840504539296 L239.32469049796376 205.4148154867035 L314.1136562785775 141.22268564710865 L388.9026220591912 102.46517329112689 L463.6915878398048 81.87524485201158 L538.4805536204185 85.50876163538487 L613.2695194010322 138.80034112485978 L688.0584851816459 196.93660965883248 L762.8474509622596 257.495222715054 L837.6364167428733 302.30859637665793 \" fill=\"none\" stroke-width=\"3.3000000000000003\" stroke=\"rgb(154,96,180)\" stroke-opacity=\"1.0\">\n          </path>\n        </g>\n        <g>\n          <path d=\"M14.957793156122737 238.1164665370631 L14.957793156122737 238.1164665370631 L89.74675893673641 218.73771035907222 L164.5357247173501 178.76902574196603 L239.32469049796376 158.1790973028507 L314.1136562785775 112.15455138012234 L388.9026220591912 58.862971890647344 L463.6915878398048 15.260770490167886 L538.4805536204185 21.316631795790045 L613.2695194010322 68.5523499796428 L688.0584851816459 127.89979077473993 L762.8474509622596 194.51426513658362 L837.6364167428733 234.4829497536898 \" fill=\"none\" stroke-width=\"3.3000000000000003\" stroke=\"rgb(252,132,82)\" stroke-opacity=\"1.0\">\n          </path>\n        </g>\n      </g>\n      <g transform=\"translate(21.961210910936405 0.0 ) \" clip-path=\"url(#clOT1mu)\" clip-bounds-jfx=\"[rect (0.0, 0.0), (852.5942098989958, 335.73695078369224)]\">\n        <defs>\n          <clipPath id=\"clOT1mu\">\n            <rect x=\"0.0\" y=\"0.0\" width=\"852.5942098989958\" height=\"335.73695078369224\">\n            </rect>\n          </clipPath>\n        </defs>\n        <line x1=\"0.0\" y1=\"200.26733337692468\" x2=\"852.5942098989959\" y2=\"200.26733337692468\" stroke=\"rgb(154,96,180)\" stroke-opacity=\"0.9\" fill=\"rgb(17,142,216)\" fill-opacity=\"0.9\" stroke-width=\"1.6500000000000001\" stroke-dasharray=\"7.095000000000001,7.095000000000001\">\n        </line>\n      </g>\n      <g transform=\"translate(21.961210910936405 0.0 ) \" clip-path=\"url(#cS54J5o)\" clip-bounds-jfx=\"[rect (0.0, 0.0), (852.5942098989958, 335.73695078369224)]\">\n        <defs>\n          <clipPath id=\"cS54J5o\">\n            <rect x=\"0.0\" y=\"0.0\" width=\"852.5942098989958\" height=\"335.73695078369224\">\n            </rect>\n          </clipPath>\n        </defs>\n        <line x1=\"0.0\" y1=\"135.57054842852799\" x2=\"852.5942098989959\" y2=\"135.57054842852799\" stroke=\"rgb(252,132,82)\" stroke-opacity=\"0.9\" fill=\"rgb(17,142,216)\" fill-opacity=\"0.9\" stroke-width=\"1.6500000000000001\" stroke-dasharray=\"7.095000000000001,7.095000000000001\">\n        </line>\n      </g>\n    </g>\n    <g transform=\"translate(14.5 177.86847539184612 ) rotate(-90.0 ) \">\n      <text class=\"axis-title-y\" y=\"0.0\" text-anchor=\"middle\">\n      temperature\n      </text>\n    </g>\n    <g transform=\"translate(471.2583158604343 441.5 ) \">\n      <text class=\"axis-title-x\" y=\"0.0\" text-anchor=\"middle\">\n      month\n      </text>\n    </g>\n    <g transform=\"translate(907.5554208099322 133.61847539184612 ) \">\n      <rect x=\"5.0\" y=\"5.0\" height=\"78.5\" width=\"82.44457919006773\" stroke=\"rgb(71,71,71)\" stroke-opacity=\"1.0\" stroke-width=\"0.0\" fill=\"rgb(255,255,255)\" fill-opacity=\"1.0\">\n      </rect>\n      <g transform=\"translate(10.0 10.0 ) \">\n        <g transform=\"translate(0.0 10.5 ) \">\n          <text class=\"legend-title\" y=\"0.0\">\n          city\n          </text>\n        </g>\n        <g transform=\"translate(0.0 22.5 ) \">\n          <g transform=\"\">\n            <g>\n              <rect x=\"0.0\" y=\"0.0\" height=\"23.0\" width=\"23.0\" stroke-width=\"0.0\" fill=\"rgb(255,255,255)\" fill-opacity=\"1.0\">\n              </rect>\n              <g transform=\"translate(1.0 1.0 ) \">\n                <g>\n                  <line x1=\"0.0\" y1=\"10.5\" x2=\"21.0\" y2=\"10.5\" stroke=\"rgb(154,96,180)\" stroke-opacity=\"1.0\" fill=\"rgb(255,255,255)\" fill-opacity=\"1.0\" stroke-width=\"1.6500000000000001\">\n                  </line>\n                </g>\n              </g>\n              <rect x=\"0.0\" y=\"0.0\" height=\"23.0\" width=\"23.0\" stroke=\"rgb(255,255,255)\" stroke-opacity=\"1.0\" stroke-width=\"1.0\" fill-opacity=\"0.0\">\n              </rect>\n            </g>\n            <g transform=\"translate(26.9903027277341 16.05 ) \">\n              <text class=\"legend-item\" y=\"0.0\">\n              Berlin\n              </text>\n            </g>\n          </g>\n          <g transform=\"translate(0.0 23.0 ) \">\n            <g>\n              <rect x=\"0.0\" y=\"0.0\" height=\"23.0\" width=\"23.0\" stroke-width=\"0.0\" fill=\"rgb(255,255,255)\" fill-opacity=\"1.0\">\n              </rect>\n              <g transform=\"translate(1.0 1.0 ) \">\n                <g>\n                  <line x1=\"0.0\" y1=\"10.5\" x2=\"21.0\" y2=\"10.5\" stroke=\"rgb(252,132,82)\" stroke-opacity=\"1.0\" fill=\"rgb(255,255,255)\" fill-opacity=\"1.0\" stroke-width=\"1.6500000000000001\">\n                  </line>\n                </g>\n              </g>\n              <rect x=\"0.0\" y=\"0.0\" height=\"23.0\" width=\"23.0\" stroke=\"rgb(255,255,255)\" stroke-opacity=\"1.0\" stroke-width=\"1.0\" fill-opacity=\"0.0\">\n              </rect>\n            </g>\n            <g transform=\"translate(26.9903027277341 16.05 ) \">\n              <text class=\"legend-item\" y=\"0.0\">\n              Madrid\n              </text>\n            </g>\n          </g>\n        </g>\n      </g>\n    </g>\n    <path fill=\"rgb(0,0,0)\" fill-opacity=\"0.0\" stroke=\"rgb(71,71,71)\" stroke-opacity=\"1.0\" stroke-width=\"0.0\" d=\"M0.0 0.0 L0.0 450.0 L1000.0 450.0 L1000.0 0.0 Z\">\n    </path>\n  </g>\n  <g id=\"dDbFx4L\">\n  </g>\n</svg>\n        <script>document.getElementById(\"5942ce99-559c-4fab-a8cf-ee8f126d1b86\").style.display = \"none\";</script>",
      "application/plot+json": {
       "output_type": "lets_plot_spec",
       "output": {
        "mapping": {},
        "data": {
         "month": [
          "January",
          "February",
          "March",
          "April",
          "May",
          "June",
          "July",
          "August",
          "September",
          "October",
          "November",
          "December",
          "January",
          "February",
          "March",
          "April",
          "May",
          "June",
          "July",
          "August",
          "September",
          "October",
          "November",
          "December"
         ],
         "city": [
          "Berlin",
          "Berlin",
          "Berlin",
          "Berlin",
          "Berlin",
          "Berlin",
          "Berlin",
          "Berlin",
          "Berlin",
          "Berlin",
          "Berlin",
          "Berlin",
          "Madrid",
          "Madrid",
          "Madrid",
          "Madrid",
          "Madrid",
          "Madrid",
          "Madrid",
          "Madrid",
          "Madrid",
          "Madrid",
          "Madrid",
          "Madrid"
         ],
         "temperature": [
          -0.5,
          0.0,
          4.8,
          9.0,
          14.3,
          17.5,
          19.2,
          18.9,
          14.5,
          9.7,
          4.7,
          1.0,
          6.3,
          7.9,
          11.2,
          12.9,
          16.7,
          21.1,
          24.7,
          24.2,
          20.3,
          15.4,
          9.9,
          6.6
         ]
        },
        "ggsize": {
         "width": 1000.0,
         "height": 450.0
        },
        "kind": "plot",
        "scales": [
         {
          "aesthetic": "x",
          "discrete": true
         },
         {
          "aesthetic": "y",
          "limits": [
           null,
           null
          ]
         },
         {
          "aesthetic": "color",
          "values": [
           "#9a60b4",
           "#fc8452"
          ],
          "limits": [
           "Berlin",
           "Madrid"
          ]
         }
        ],
        "layers": [
         {
          "mapping": {
           "x": "month",
           "y": "temperature",
           "color": "city"
          },
          "stat": "identity",
          "size": 1.5,
          "sampling": "none",
          "position": "identity",
          "geom": "line"
         },
         {
          "mapping": {},
          "stat": "identity",
          "yintercept": 9.425,
          "color": "#9a60b4",
          "linetype": "dashed",
          "sampling": "none",
          "alpha": 0.9,
          "position": "identity",
          "geom": "hline"
         },
         {
          "mapping": {},
          "stat": "identity",
          "yintercept": 14.766666,
          "color": "#fc8452",
          "linetype": "dashed",
          "sampling": "none",
          "alpha": 0.9,
          "position": "identity",
          "geom": "hline"
         }
        ]
       },
       "apply_color_scheme": true,
       "swing_enabled": true
      }
     },
     "execution_count": 5,
     "metadata": {},
     "output_type": "execute_result"
    }
   ],
   "source": [
    "df.plot {\n",
    "    line {\n",
    "        x(month)\n",
    "        y(temperature)\n",
    "        color(city) {\n",
    "            scale = categorical(\"Berlin\" to Color.PURPLE, \"Madrid\" to Color.ORANGE)\n",
    "        }\n",
    "        width = 1.5\n",
    "    }\n",
    "    hLine {\n",
    "        yIntercept.constant(tempBerlin.average())\n",
    "        color = Color.PURPLE\n",
    "        alpha = 0.9\n",
    "        type = LineType.DASHED\n",
    "    }\n",
    "    hLine {\n",
    "        yIntercept.constant(tempMadrid.average())\n",
    "        color = Color.ORANGE\n",
    "        alpha = 0.9\n",
    "        type = LineType.DASHED\n",
    "    }\n",
    "    layout.size = 1000 to 450\n",
    "}"
   ],
   "metadata": {
    "collapsed": false,
    "ExecuteTime": {
     "end_time": "2023-11-17T23:25:37.521530Z",
     "start_time": "2023-11-17T23:25:37.371868Z"
    }
   }
  }
 ],
 "metadata": {
  "kernelspec": {
   "display_name": "Kotlin",
   "language": "kotlin",
   "name": "kotlin"
  },
  "language_info": {
   "name": "kotlin",
   "version": "1.9.0",
   "mimetype": "text/x-kotlin",
   "file_extension": ".kt",
   "pygments_lexer": "kotlin",
   "codemirror_mode": "text/x-kotlin",
   "nbconvert_exporter": ""
  }
 },
 "nbformat": 4,
 "nbformat_minor": 0
}
