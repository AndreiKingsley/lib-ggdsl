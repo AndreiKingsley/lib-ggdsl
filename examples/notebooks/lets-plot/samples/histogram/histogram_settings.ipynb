{
 "cells": [
  {
   "cell_type": "code",
   "execution_count": 1,
   "metadata": {
    "collapsed": true,
    "ExecuteTime": {
     "end_time": "2023-11-22T10:19:50.477586Z",
     "start_time": "2023-11-22T10:19:44.248683Z"
    }
   },
   "outputs": [],
   "source": [
    "%useLatestDescriptors\n",
    "%use kandy"
   ]
  },
  {
   "cell_type": "code",
   "execution_count": 6,
   "outputs": [
    {
     "data": {
      "text/html": "            <iframe src='about:blank' style='border:none !important;' width='600' height='400' srcdoc=\"&lt;html lang=&quot;en&quot;>\n   &lt;head>\n       &lt;style> html, body { margin: 0; overflow: hidden; } &lt;/style>\n       &lt;script type=&quot;text/javascript&quot; data-lets-plot-script=&quot;library&quot; src=&quot;https://cdn.jsdelivr.net/gh/JetBrains/lets-plot@v4.0.1/js-package/distr/lets-plot.min.js&quot;>&lt;/script>\n   &lt;/head>\n   &lt;body>\n          &lt;div id=&quot;Gm7zCe&quot;>&lt;/div>\n   &lt;script type=&quot;text/javascript&quot; data-lets-plot-script=&quot;plot&quot;>\n       var plotSpec={\n&quot;mapping&quot;:{\n},\n&quot;data&quot;:{\n},\n&quot;kind&quot;:&quot;plot&quot;,\n&quot;scales&quot;:[{\n&quot;aesthetic&quot;:&quot;x&quot;,\n&quot;name&quot;:&quot;x&quot;,\n&quot;limits&quot;:[null,null]\n},{\n&quot;aesthetic&quot;:&quot;x&quot;,\n&quot;limits&quot;:[null,null]\n},{\n&quot;aesthetic&quot;:&quot;y&quot;,\n&quot;limits&quot;:[null,null]\n}],\n&quot;layers&quot;:[{\n&quot;mapping&quot;:{\n&quot;x&quot;:&quot;x&quot;,\n&quot;y&quot;:&quot;count&quot;\n},\n&quot;stat&quot;:&quot;identity&quot;,\n&quot;data&quot;:{\n&quot;count&quot;:[2.0,1.0,1.0,6.0,3.0,7.0,6.0,13.0,3.0,4.0,5.0,4.0],\n&quot;x&quot;:[4.724999999999998,4.8824999999999985,5.039999999999998,5.197499999999998,5.354999999999999,5.512499999999998,5.669999999999998,5.827499999999999,5.984999999999998,6.142499999999998,6.299999999999998,6.457499999999998]\n},\n&quot;color&quot;:&quot;#3ba272&quot;,\n&quot;size&quot;:0.5,\n&quot;sampling&quot;:&quot;none&quot;,\n&quot;alpha&quot;:0.9,\n&quot;width&quot;:0.8,\n&quot;position&quot;:&quot;identity&quot;,\n&quot;geom&quot;:&quot;bar&quot;,\n&quot;fill&quot;:&quot;#ee6666&quot;\n}]\n};\n       var plotContainer = document.getElementById(&quot;Gm7zCe&quot;);\n       LetsPlot.buildPlotFromProcessedSpecs(plotSpec, -1, -1, plotContainer);\n   &lt;/script>\n   &lt;/body>\n&lt;/html>\"></iframe>            \n        <svg id=295b5874-3d7f-4eee-9d36-35058d671fed xmlns=\"http://www.w3.org/2000/svg\" xmlns:xlink=\"http://www.w3.org/1999/xlink\" class=\"plt-container\" width=\"600.0\" height=\"400.0\">\n  <style type=\"text/css\">\n  .plt-container {\n   font-family: Lucida Grande, sans-serif;\n   user-select: none;\n   -webkit-user-select: none;\n   -moz-user-select: none;\n   -ms-user-select: none;\n}\ntext {\n   text-rendering: optimizeLegibility;\n}\n#pZD2zid .plot-title {\n   fill: #474747;\n   font-family: Lucida Grande, sans-serif;\n   font-size: 16.0px;\n   font-weight: normal;\n   font-style: normal;   \n}\n#pZD2zid .plot-subtitle {\n   fill: #474747;\n   font-family: Lucida Grande, sans-serif;\n   font-size: 15.0px;\n   font-weight: normal;\n   font-style: normal;   \n}\n#pZD2zid .plot-caption {\n   fill: #474747;\n   font-family: Lucida Grande, sans-serif;\n   font-size: 13.0px;\n   font-weight: normal;\n   font-style: normal;   \n}\n#pZD2zid .legend-title {\n   fill: #474747;\n   font-family: Lucida Grande, sans-serif;\n   font-size: 15.0px;\n   font-weight: normal;\n   font-style: normal;   \n}\n#pZD2zid .legend-item {\n   fill: #474747;\n   font-family: Lucida Grande, sans-serif;\n   font-size: 13.0px;\n   font-weight: normal;\n   font-style: normal;   \n}\n#pZD2zid .axis-title-x {\n   fill: #474747;\n   font-family: Lucida Grande, sans-serif;\n   font-size: 15.0px;\n   font-weight: normal;\n   font-style: normal;   \n}\n#pZD2zid .axis-text-x {\n   fill: #474747;\n   font-family: Lucida Grande, sans-serif;\n   font-size: 13.0px;\n   font-weight: normal;\n   font-style: normal;   \n}\n#dsZWicE .axis-tooltip-text-x {\n   fill: #ffffff;\n   font-family: Lucida Grande, sans-serif;\n   font-size: 13.0px;\n   font-weight: normal;\n   font-style: normal;   \n}\n#pZD2zid .axis-title-y {\n   fill: #474747;\n   font-family: Lucida Grande, sans-serif;\n   font-size: 15.0px;\n   font-weight: normal;\n   font-style: normal;   \n}\n#pZD2zid .axis-text-y {\n   fill: #474747;\n   font-family: Lucida Grande, sans-serif;\n   font-size: 13.0px;\n   font-weight: normal;\n   font-style: normal;   \n}\n#dsZWicE .axis-tooltip-text-y {\n   fill: #ffffff;\n   font-family: Lucida Grande, sans-serif;\n   font-size: 13.0px;\n   font-weight: normal;\n   font-style: normal;   \n}\n#pZD2zid .facet-strip-text-x {\n   fill: #474747;\n   font-family: Lucida Grande, sans-serif;\n   font-size: 13.0px;\n   font-weight: normal;\n   font-style: normal;   \n}\n#pZD2zid .facet-strip-text-y {\n   fill: #474747;\n   font-family: Lucida Grande, sans-serif;\n   font-size: 13.0px;\n   font-weight: normal;\n   font-style: normal;   \n}\n#dsZWicE .tooltip-text {\n   fill: #474747;\n   font-family: Lucida Grande, sans-serif;\n   font-size: 13.0px;\n   font-weight: normal;\n   font-style: normal;   \n}\n#dsZWicE .tooltip-title {\n   fill: #474747;\n   font-family: Lucida Grande, sans-serif;\n   font-size: 13.0px;\n   font-weight: bold;\n   font-style: normal;   \n}\n#dsZWicE .tooltip-label {\n   fill: #474747;\n   font-family: Lucida Grande, sans-serif;\n   font-size: 13.0px;\n   font-weight: bold;\n   font-style: normal;   \n}\n\n  </style>\n  <g id=\"pZD2zid\">\n    <path fill-rule=\"evenodd\" fill=\"rgb(255,255,255)\" fill-opacity=\"1.0\" d=\"M0.0 0.0 L0.0 400.0 L600.0 400.0 L600.0 0.0 Z\">\n    </path>\n    <g transform=\"translate(23.0 10.0 ) \">\n      <g transform=\"translate(21.961210910936405 344.0 ) \">\n        <line x1=\"114.88778349509903\" y1=\"-0.0\" x2=\"114.88778349509903\" y2=\"-344.0\" stroke=\"rgb(233,233,233)\" stroke-opacity=\"1.0\" stroke-width=\"1.0\">\n        </line>\n        <line x1=\"248.19147148616298\" y1=\"-0.0\" x2=\"248.19147148616298\" y2=\"-344.0\" stroke=\"rgb(233,233,233)\" stroke-opacity=\"1.0\" stroke-width=\"1.0\">\n        </line>\n        <line x1=\"381.49515947722716\" y1=\"-0.0\" x2=\"381.49515947722716\" y2=\"-344.0\" stroke=\"rgb(233,233,233)\" stroke-opacity=\"1.0\" stroke-width=\"1.0\">\n        </line>\n        <line x1=\"514.7988474682913\" y1=\"-0.0\" x2=\"514.7988474682913\" y2=\"-344.0\" stroke=\"rgb(233,233,233)\" stroke-opacity=\"1.0\" stroke-width=\"1.0\">\n        </line>\n        <g transform=\"translate(114.88778349509903 0.0 ) \">\n          <line stroke-width=\"1.0\" stroke=\"rgb(71,71,71)\" stroke-opacity=\"1.0\" x2=\"0.0\" y2=\"4.0\">\n          </line>\n          <g transform=\"translate(0.0 7.0 ) \">\n            <text class=\"axis-text-x\" text-anchor=\"middle\" dy=\"0.7em\">\n            5.0\n            </text>\n          </g>\n        </g>\n        <g transform=\"translate(248.19147148616298 0.0 ) \">\n          <line stroke-width=\"1.0\" stroke=\"rgb(71,71,71)\" stroke-opacity=\"1.0\" x2=\"0.0\" y2=\"4.0\">\n          </line>\n          <g transform=\"translate(0.0 7.0 ) \">\n            <text class=\"axis-text-x\" text-anchor=\"middle\" dy=\"0.7em\">\n            5.5\n            </text>\n          </g>\n        </g>\n        <g transform=\"translate(381.49515947722716 0.0 ) \">\n          <line stroke-width=\"1.0\" stroke=\"rgb(71,71,71)\" stroke-opacity=\"1.0\" x2=\"0.0\" y2=\"4.0\">\n          </line>\n          <g transform=\"translate(0.0 7.0 ) \">\n            <text class=\"axis-text-x\" text-anchor=\"middle\" dy=\"0.7em\">\n            6.0\n            </text>\n          </g>\n        </g>\n        <g transform=\"translate(514.7988474682913 0.0 ) \">\n          <line stroke-width=\"1.0\" stroke=\"rgb(71,71,71)\" stroke-opacity=\"1.0\" x2=\"0.0\" y2=\"4.0\">\n          </line>\n          <g transform=\"translate(0.0 7.0 ) \">\n            <text class=\"axis-text-x\" text-anchor=\"middle\" dy=\"0.7em\">\n            6.5\n            </text>\n          </g>\n        </g>\n        <line x1=\"0.0\" y1=\"0.0\" x2=\"545.0387890890636\" y2=\"0.0\" stroke-width=\"1.0\" stroke=\"rgb(71,71,71)\" stroke-opacity=\"1.0\">\n        </line>\n      </g>\n      <g transform=\"translate(21.961210910936405 0.0 ) \">\n        <line x1=\"0.0\" y1=\"293.5970695970696\" x2=\"545.0387890890636\" y2=\"293.5970695970696\" stroke=\"rgb(233,233,233)\" stroke-opacity=\"1.0\" stroke-width=\"1.0\">\n        </line>\n        <line x1=\"0.0\" y1=\"243.1941391941392\" x2=\"545.0387890890636\" y2=\"243.1941391941392\" stroke=\"rgb(233,233,233)\" stroke-opacity=\"1.0\" stroke-width=\"1.0\">\n        </line>\n        <line x1=\"0.0\" y1=\"192.7912087912088\" x2=\"545.0387890890636\" y2=\"192.7912087912088\" stroke=\"rgb(233,233,233)\" stroke-opacity=\"1.0\" stroke-width=\"1.0\">\n        </line>\n        <line x1=\"0.0\" y1=\"142.3882783882784\" x2=\"545.0387890890636\" y2=\"142.3882783882784\" stroke=\"rgb(233,233,233)\" stroke-opacity=\"1.0\" stroke-width=\"1.0\">\n        </line>\n        <line x1=\"0.0\" y1=\"91.985347985348\" x2=\"545.0387890890636\" y2=\"91.985347985348\" stroke=\"rgb(233,233,233)\" stroke-opacity=\"1.0\" stroke-width=\"1.0\">\n        </line>\n        <line x1=\"0.0\" y1=\"41.58241758241758\" x2=\"545.0387890890636\" y2=\"41.58241758241758\" stroke=\"rgb(233,233,233)\" stroke-opacity=\"1.0\" stroke-width=\"1.0\">\n        </line>\n        <g transform=\"translate(0.0 344.0 ) \">\n          <g transform=\"translate(-3.0 0.0 ) \">\n            <text class=\"axis-text-y\" text-anchor=\"end\" dy=\"0.35em\">\n            0\n            </text>\n          </g>\n        </g>\n        <g transform=\"translate(0.0 293.5970695970696 ) \">\n          <g transform=\"translate(-3.0 0.0 ) \">\n            <text class=\"axis-text-y\" text-anchor=\"end\" dy=\"0.35em\">\n            2\n            </text>\n          </g>\n        </g>\n        <g transform=\"translate(0.0 243.1941391941392 ) \">\n          <g transform=\"translate(-3.0 0.0 ) \">\n            <text class=\"axis-text-y\" text-anchor=\"end\" dy=\"0.35em\">\n            4\n            </text>\n          </g>\n        </g>\n        <g transform=\"translate(0.0 192.7912087912088 ) \">\n          <g transform=\"translate(-3.0 0.0 ) \">\n            <text class=\"axis-text-y\" text-anchor=\"end\" dy=\"0.35em\">\n            6\n            </text>\n          </g>\n        </g>\n        <g transform=\"translate(0.0 142.3882783882784 ) \">\n          <g transform=\"translate(-3.0 0.0 ) \">\n            <text class=\"axis-text-y\" text-anchor=\"end\" dy=\"0.35em\">\n            8\n            </text>\n          </g>\n        </g>\n        <g transform=\"translate(0.0 91.985347985348 ) \">\n          <g transform=\"translate(-3.0 0.0 ) \">\n            <text class=\"axis-text-y\" text-anchor=\"end\" dy=\"0.35em\">\n            10\n            </text>\n          </g>\n        </g>\n        <g transform=\"translate(0.0 41.58241758241758 ) \">\n          <g transform=\"translate(-3.0 0.0 ) \">\n            <text class=\"axis-text-y\" text-anchor=\"end\" dy=\"0.35em\">\n            12\n            </text>\n          </g>\n        </g>\n      </g>\n      <g transform=\"translate(21.961210910936405 0.0 ) \" clip-path=\"url(#cWvEWzS)\" clip-bounds-jfx=\"[rect (0.0, 0.0), (545.0387890890636, 344.0)]\">\n        <defs>\n          <clipPath id=\"cWvEWzS\">\n            <rect x=\"0.0\" y=\"0.0\" width=\"545.0387890890636\" height=\"344.0\">\n            </rect>\n          </clipPath>\n        </defs>\n        <rect x=\"486.67176930217624\" y=\"243.1941391941392\" height=\"100.80586080586079\" width=\"33.59252937374799\" stroke=\"rgb(59,162,114)\" stroke-opacity=\"1.0\" fill=\"rgb(238,102,102)\" fill-opacity=\"0.9\" stroke-width=\"1.1\">\n        </rect>\n        <rect x=\"444.6811075849912\" y=\"217.99267399267399\" height=\"126.00732600732601\" width=\"33.59252937374799\" stroke=\"rgb(59,162,114)\" stroke-opacity=\"1.0\" fill=\"rgb(238,102,102)\" fill-opacity=\"0.9\" stroke-width=\"1.1\">\n        </rect>\n        <rect x=\"402.6904458678059\" y=\"243.1941391941392\" height=\"100.80586080586079\" width=\"33.59252937374799\" stroke=\"rgb(59,162,114)\" stroke-opacity=\"1.0\" fill=\"rgb(238,102,102)\" fill-opacity=\"0.9\" stroke-width=\"1.1\">\n        </rect>\n        <rect x=\"360.69978415062064\" y=\"268.3956043956044\" height=\"75.60439560439562\" width=\"33.59252937374799\" stroke=\"rgb(59,162,114)\" stroke-opacity=\"1.0\" fill=\"rgb(238,102,102)\" fill-opacity=\"0.9\" stroke-width=\"1.1\">\n        </rect>\n        <rect x=\"318.7091224334358\" y=\"16.380952380952408\" height=\"327.6190476190476\" width=\"33.59252937374799\" stroke=\"rgb(59,162,114)\" stroke-opacity=\"1.0\" fill=\"rgb(238,102,102)\" fill-opacity=\"0.9\" stroke-width=\"1.1\">\n        </rect>\n        <rect x=\"276.7184607162503\" y=\"192.7912087912088\" height=\"151.2087912087912\" width=\"33.59252937374799\" stroke=\"rgb(59,162,114)\" stroke-opacity=\"1.0\" fill=\"rgb(238,102,102)\" fill-opacity=\"0.9\" stroke-width=\"1.1\">\n        </rect>\n        <rect x=\"234.72779899906527\" y=\"167.5897435897436\" height=\"176.4102564102564\" width=\"33.59252937374799\" stroke=\"rgb(59,162,114)\" stroke-opacity=\"1.0\" fill=\"rgb(238,102,102)\" fill-opacity=\"0.9\" stroke-width=\"1.1\">\n        </rect>\n        <rect x=\"192.73713728188022\" y=\"268.3956043956044\" height=\"75.60439560439562\" width=\"33.59252937374799\" stroke=\"rgb(59,162,114)\" stroke-opacity=\"1.0\" fill=\"rgb(238,102,102)\" fill-opacity=\"0.9\" stroke-width=\"1.1\">\n        </rect>\n        <rect x=\"150.74647556469472\" y=\"192.7912087912088\" height=\"151.2087912087912\" width=\"33.59252937374799\" stroke=\"rgb(59,162,114)\" stroke-opacity=\"1.0\" fill=\"rgb(238,102,102)\" fill-opacity=\"0.9\" stroke-width=\"1.1\">\n        </rect>\n        <rect x=\"108.75581384750967\" y=\"318.7985347985348\" height=\"25.201465201465226\" width=\"33.59252937374799\" stroke=\"rgb(59,162,114)\" stroke-opacity=\"1.0\" fill=\"rgb(238,102,102)\" fill-opacity=\"0.9\" stroke-width=\"1.1\">\n        </rect>\n        <rect x=\"66.76515213032462\" y=\"318.7985347985348\" height=\"25.201465201465226\" width=\"33.59252937374799\" stroke=\"rgb(59,162,114)\" stroke-opacity=\"1.0\" fill=\"rgb(238,102,102)\" fill-opacity=\"0.9\" stroke-width=\"1.1\">\n        </rect>\n        <rect x=\"24.77449041313912\" y=\"293.5970695970696\" height=\"50.402930402930394\" width=\"33.59252937374799\" stroke=\"rgb(59,162,114)\" stroke-opacity=\"1.0\" fill=\"rgb(238,102,102)\" fill-opacity=\"0.9\" stroke-width=\"1.1\">\n        </rect>\n      </g>\n    </g>\n    <g transform=\"translate(14.5 182.0 ) rotate(-90.0 ) \">\n      <text class=\"axis-title-y\" y=\"0.0\" text-anchor=\"middle\">\n      count\n      </text>\n    </g>\n    <g transform=\"translate(317.4806054554682 391.5 ) \">\n      <text class=\"axis-title-x\" y=\"0.0\" text-anchor=\"middle\">\n      x\n      </text>\n    </g>\n    <path fill=\"rgb(0,0,0)\" fill-opacity=\"0.0\" stroke=\"rgb(71,71,71)\" stroke-opacity=\"1.0\" stroke-width=\"0.0\" d=\"M0.0 0.0 L0.0 400.0 L600.0 400.0 L600.0 0.0 Z\">\n    </path>\n  </g>\n  <g id=\"dsZWicE\">\n  </g>\n</svg>\n        <script>document.getElementById(\"295b5874-3d7f-4eee-9d36-35058d671fed\").style.display = \"none\";</script>",
      "application/plot+json": {
       "output_type": "lets_plot_spec",
       "output": {
        "mapping": {},
        "data": {},
        "kind": "plot",
        "scales": [
         {
          "aesthetic": "x",
          "name": "x",
          "limits": [
           null,
           null
          ]
         },
         {
          "aesthetic": "x",
          "limits": [
           null,
           null
          ]
         },
         {
          "aesthetic": "y",
          "limits": [
           null,
           null
          ]
         }
        ],
        "layers": [
         {
          "mapping": {
           "x": "x",
           "y": "count"
          },
          "stat": "identity",
          "data": {
           "x": [
            4.725,
            4.8825,
            5.04,
            5.1975,
            5.355,
            5.5125,
            5.67,
            5.8275,
            5.985,
            6.1425,
            6.3,
            6.4575
           ],
           "count": [
            2.0,
            1.0,
            1.0,
            6.0,
            3.0,
            7.0,
            6.0,
            13.0,
            3.0,
            4.0,
            5.0,
            4.0
           ]
          },
          "color": "#3ba272",
          "size": 0.5,
          "sampling": "none",
          "alpha": 0.9,
          "width": 0.8,
          "position": "identity",
          "geom": "bar",
          "fill": "#ee6666"
         }
        ]
       },
       "apply_color_scheme": true,
       "swing_enabled": true
      }
     },
     "execution_count": 6,
     "metadata": {},
     "output_type": "execute_result"
    }
   ],
   "source": [
    "val experimentalData = listOf(\n",
    "    5.92, 6.44, 5.87, 4.99, 5.23,\n",
    "    5.67, 4.89, 5.34, 5.78, 5.12,\n",
    "    5.56, 5.23, 5.78, 6.01, 5.56,\n",
    "    5.67, 5.89, 5.45, 6.12, 5.78,\n",
    "    6.34, 5.67, 6.45, 5.34, 5.89,\n",
    "    6.01, 5.78, 5.23, 5.67, 6.12,\n",
    "    6.23, 5.45, 5.56, 5.67, 5.78,\n",
    "    5.56, 6.23, 5.78, 6.34, 6.12,\n",
    "    5.89, 6.45, 5.78, 6.34, 5.67,\n",
    "    6.56, 5.45, 5.78, 5.89, 6.12,\n",
    "    4.67, 4.79, 5.14, 5.28, 5.22,\n",
    ")\n",
    "\n",
    "plot { \n",
    "    histogram(experimentalData, binsOption = BinsOption.byNumber(12)) {\n",
    "        width = 0.8\n",
    "        alpha = 0.9\n",
    "        fillColor = Color.RED\n",
    "        borderLine {\n",
    "            color = Color.GREEN\n",
    "            width = 0.5\n",
    "        }\n",
    "        x.axis.name = \"length\"\n",
    "    }\n",
    "    layout.title = \"Flight length experiment\"\n",
    "}"
   ],
   "metadata": {
    "collapsed": false,
    "ExecuteTime": {
     "end_time": "2023-11-22T10:20:33.070600Z",
     "start_time": "2023-11-22T10:20:32.798979Z"
    }
   }
  }
 ],
 "metadata": {
  "kernelspec": {
   "display_name": "Kotlin",
   "language": "kotlin",
   "name": "kotlin"
  },
  "language_info": {
   "name": "kotlin",
   "version": "1.9.0",
   "mimetype": "text/x-kotlin",
   "file_extension": ".kt",
   "pygments_lexer": "kotlin",
   "codemirror_mode": "text/x-kotlin",
   "nbconvert_exporter": ""
  },
  "ktnbPluginMetadata": {
   "projectLibraries": []
  }
 },
 "nbformat": 4,
 "nbformat_minor": 0
}
