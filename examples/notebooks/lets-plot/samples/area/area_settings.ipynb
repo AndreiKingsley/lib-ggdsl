{
 "cells": [
  {
   "cell_type": "code",
   "execution_count": 1,
   "metadata": {
    "collapsed": true,
    "ExecuteTime": {
     "end_time": "2023-11-20T22:36:05.323146Z",
     "start_time": "2023-11-20T22:36:03.861722Z"
    }
   },
   "outputs": [],
   "source": [
    "%useLatestDescriptors\n",
    "%use kandy\n",
    "%use dataframe"
   ]
  },
  {
   "cell_type": "code",
   "execution_count": 2,
   "outputs": [],
   "source": [
    "val loadServer = dataFrameOf(\n",
    "    \"time\" to listOf(\"00:00\", \"03:00\", \"06:00\", \"09:00\", \"12:00\", \"15:00\", \"18:00\", \"21:00\"),\n",
    "    \"load\" to listOf(10, 5, 15, 50, 75, 60, 80, 40)\n",
    ")"
   ],
   "metadata": {
    "collapsed": false,
    "ExecuteTime": {
     "end_time": "2023-11-20T22:36:21.950758Z",
     "start_time": "2023-11-20T22:36:21.499659Z"
    }
   }
  },
  {
   "cell_type": "code",
   "execution_count": 3,
   "outputs": [
    {
     "data": {
      "text/html": "            <iframe src='about:blank' style='border:none !important;' width='600' height='400' srcdoc=\"&lt;html lang=&quot;en&quot;>\n   &lt;head>\n       &lt;style> html, body { margin: 0; overflow: hidden; } &lt;/style>\n       &lt;script type=&quot;text/javascript&quot; data-lets-plot-script=&quot;library&quot; src=&quot;https://cdn.jsdelivr.net/gh/JetBrains/lets-plot@v4.0.1/js-package/distr/lets-plot.min.js&quot;>&lt;/script>\n   &lt;/head>\n   &lt;body>\n          &lt;div id=&quot;8SMADD&quot;>&lt;/div>\n   &lt;script type=&quot;text/javascript&quot; data-lets-plot-script=&quot;plot&quot;>\n       var plotSpec={\n&quot;ggtitle&quot;:{\n&quot;text&quot;:&quot;Daily Server Load Dynamics&quot;\n},\n&quot;mapping&quot;:{\n},\n&quot;data&quot;:{\n&quot;load&quot;:[10.0,5.0,15.0,50.0,75.0,60.0,80.0,40.0],\n&quot;time&quot;:[&quot;00:00&quot;,&quot;03:00&quot;,&quot;06:00&quot;,&quot;09:00&quot;,&quot;12:00&quot;,&quot;15:00&quot;,&quot;18:00&quot;,&quot;21:00&quot;]\n},\n&quot;kind&quot;:&quot;plot&quot;,\n&quot;scales&quot;:[{\n&quot;aesthetic&quot;:&quot;x&quot;,\n&quot;discrete&quot;:true,\n&quot;name&quot;:&quot;Time&quot;\n},{\n&quot;aesthetic&quot;:&quot;y&quot;,\n&quot;name&quot;:&quot;Load (%)&quot;,\n&quot;limits&quot;:[0.0,100.0]\n}],\n&quot;layers&quot;:[{\n&quot;mapping&quot;:{\n&quot;x&quot;:&quot;time&quot;,\n&quot;y&quot;:&quot;load&quot;\n},\n&quot;stat&quot;:&quot;identity&quot;,\n&quot;color&quot;:&quot;#fc8452&quot;,\n&quot;size&quot;:2.5,\n&quot;linetype&quot;:&quot;dashed&quot;,\n&quot;sampling&quot;:&quot;none&quot;,\n&quot;alpha&quot;:0.7,\n&quot;position&quot;:&quot;identity&quot;,\n&quot;geom&quot;:&quot;area&quot;,\n&quot;fill&quot;:&quot;#ee6666&quot;,\n&quot;data&quot;:{\n}\n}]\n};\n       var plotContainer = document.getElementById(&quot;8SMADD&quot;);\n       LetsPlot.buildPlotFromProcessedSpecs(plotSpec, -1, -1, plotContainer);\n   &lt;/script>\n   &lt;/body>\n&lt;/html>\"></iframe>            \n        <svg id=f63f30f3-ed28-4c7f-bb16-7fbfe1ad7a7a xmlns=\"http://www.w3.org/2000/svg\" xmlns:xlink=\"http://www.w3.org/1999/xlink\" class=\"plt-container\" width=\"600.0\" height=\"400.0\">\n  <style type=\"text/css\">\n  .plt-container {\n   font-family: Lucida Grande, sans-serif;\n   user-select: none;\n   -webkit-user-select: none;\n   -moz-user-select: none;\n   -ms-user-select: none;\n}\ntext {\n   text-rendering: optimizeLegibility;\n}\n#pBPnq2z .plot-title {\n   fill: #474747;\n   font-family: Lucida Grande, sans-serif;\n   font-size: 16.0px;\n   font-weight: normal;\n   font-style: normal;   \n}\n#pBPnq2z .plot-subtitle {\n   fill: #474747;\n   font-family: Lucida Grande, sans-serif;\n   font-size: 15.0px;\n   font-weight: normal;\n   font-style: normal;   \n}\n#pBPnq2z .plot-caption {\n   fill: #474747;\n   font-family: Lucida Grande, sans-serif;\n   font-size: 13.0px;\n   font-weight: normal;\n   font-style: normal;   \n}\n#pBPnq2z .legend-title {\n   fill: #474747;\n   font-family: Lucida Grande, sans-serif;\n   font-size: 15.0px;\n   font-weight: normal;\n   font-style: normal;   \n}\n#pBPnq2z .legend-item {\n   fill: #474747;\n   font-family: Lucida Grande, sans-serif;\n   font-size: 13.0px;\n   font-weight: normal;\n   font-style: normal;   \n}\n#pBPnq2z .axis-title-x {\n   fill: #474747;\n   font-family: Lucida Grande, sans-serif;\n   font-size: 15.0px;\n   font-weight: normal;\n   font-style: normal;   \n}\n#pBPnq2z .axis-text-x {\n   fill: #474747;\n   font-family: Lucida Grande, sans-serif;\n   font-size: 13.0px;\n   font-weight: normal;\n   font-style: normal;   \n}\n#dQIDedF .axis-tooltip-text-x {\n   fill: #ffffff;\n   font-family: Lucida Grande, sans-serif;\n   font-size: 13.0px;\n   font-weight: normal;\n   font-style: normal;   \n}\n#pBPnq2z .axis-title-y {\n   fill: #474747;\n   font-family: Lucida Grande, sans-serif;\n   font-size: 15.0px;\n   font-weight: normal;\n   font-style: normal;   \n}\n#pBPnq2z .axis-text-y {\n   fill: #474747;\n   font-family: Lucida Grande, sans-serif;\n   font-size: 13.0px;\n   font-weight: normal;\n   font-style: normal;   \n}\n#dQIDedF .axis-tooltip-text-y {\n   fill: #ffffff;\n   font-family: Lucida Grande, sans-serif;\n   font-size: 13.0px;\n   font-weight: normal;\n   font-style: normal;   \n}\n#pBPnq2z .facet-strip-text-x {\n   fill: #474747;\n   font-family: Lucida Grande, sans-serif;\n   font-size: 13.0px;\n   font-weight: normal;\n   font-style: normal;   \n}\n#pBPnq2z .facet-strip-text-y {\n   fill: #474747;\n   font-family: Lucida Grande, sans-serif;\n   font-size: 13.0px;\n   font-weight: normal;\n   font-style: normal;   \n}\n#dQIDedF .tooltip-text {\n   fill: #474747;\n   font-family: Lucida Grande, sans-serif;\n   font-size: 13.0px;\n   font-weight: normal;\n   font-style: normal;   \n}\n#dQIDedF .tooltip-title {\n   fill: #474747;\n   font-family: Lucida Grande, sans-serif;\n   font-size: 13.0px;\n   font-weight: bold;\n   font-style: normal;   \n}\n#dQIDedF .tooltip-label {\n   fill: #474747;\n   font-family: Lucida Grande, sans-serif;\n   font-size: 13.0px;\n   font-weight: bold;\n   font-style: normal;   \n}\n\n  </style>\n  <g id=\"pBPnq2z\">\n    <path fill-rule=\"evenodd\" fill=\"rgb(255,255,255)\" fill-opacity=\"1.0\" d=\"M0.0 0.0 L0.0 400.0 L600.0 400.0 L600.0 0.0 Z\">\n    </path>\n    <g transform=\"translate(23.0 34.0 ) \">\n      <g transform=\"translate(29.941816366404606 320.0 ) \">\n        <line x1=\"14.515086044151227\" y1=\"-0.0\" x2=\"14.515086044151227\" y2=\"-320.0\" stroke=\"rgb(233,233,233)\" stroke-opacity=\"1.0\" stroke-width=\"1.0\">\n        </line>\n        <line x1=\"87.09051626490736\" y1=\"-0.0\" x2=\"87.09051626490736\" y2=\"-320.0\" stroke=\"rgb(233,233,233)\" stroke-opacity=\"1.0\" stroke-width=\"1.0\">\n        </line>\n        <line x1=\"159.66594648566348\" y1=\"-0.0\" x2=\"159.66594648566348\" y2=\"-320.0\" stroke=\"rgb(233,233,233)\" stroke-opacity=\"1.0\" stroke-width=\"1.0\">\n        </line>\n        <line x1=\"232.24137670641963\" y1=\"-0.0\" x2=\"232.24137670641963\" y2=\"-320.0\" stroke=\"rgb(233,233,233)\" stroke-opacity=\"1.0\" stroke-width=\"1.0\">\n        </line>\n        <line x1=\"304.8168069271758\" y1=\"-0.0\" x2=\"304.8168069271758\" y2=\"-320.0\" stroke=\"rgb(233,233,233)\" stroke-opacity=\"1.0\" stroke-width=\"1.0\">\n        </line>\n        <line x1=\"377.3922371479319\" y1=\"-0.0\" x2=\"377.3922371479319\" y2=\"-320.0\" stroke=\"rgb(233,233,233)\" stroke-opacity=\"1.0\" stroke-width=\"1.0\">\n        </line>\n        <line x1=\"449.96766736868807\" y1=\"-0.0\" x2=\"449.96766736868807\" y2=\"-320.0\" stroke=\"rgb(233,233,233)\" stroke-opacity=\"1.0\" stroke-width=\"1.0\">\n        </line>\n        <line x1=\"522.5430975894442\" y1=\"-0.0\" x2=\"522.5430975894442\" y2=\"-320.0\" stroke=\"rgb(233,233,233)\" stroke-opacity=\"1.0\" stroke-width=\"1.0\">\n        </line>\n        <g transform=\"translate(14.515086044151227 0.0 ) \">\n          <line stroke-width=\"1.0\" stroke=\"rgb(71,71,71)\" stroke-opacity=\"1.0\" x2=\"0.0\" y2=\"4.0\">\n          </line>\n          <g transform=\"translate(0.0 7.0 ) \">\n            <text class=\"axis-text-x\" text-anchor=\"middle\" dy=\"0.7em\">\n            00:00\n            </text>\n          </g>\n        </g>\n        <g transform=\"translate(87.09051626490736 0.0 ) \">\n          <line stroke-width=\"1.0\" stroke=\"rgb(71,71,71)\" stroke-opacity=\"1.0\" x2=\"0.0\" y2=\"4.0\">\n          </line>\n          <g transform=\"translate(0.0 7.0 ) \">\n            <text class=\"axis-text-x\" text-anchor=\"middle\" dy=\"0.7em\">\n            03:00\n            </text>\n          </g>\n        </g>\n        <g transform=\"translate(159.66594648566348 0.0 ) \">\n          <line stroke-width=\"1.0\" stroke=\"rgb(71,71,71)\" stroke-opacity=\"1.0\" x2=\"0.0\" y2=\"4.0\">\n          </line>\n          <g transform=\"translate(0.0 7.0 ) \">\n            <text class=\"axis-text-x\" text-anchor=\"middle\" dy=\"0.7em\">\n            06:00\n            </text>\n          </g>\n        </g>\n        <g transform=\"translate(232.24137670641963 0.0 ) \">\n          <line stroke-width=\"1.0\" stroke=\"rgb(71,71,71)\" stroke-opacity=\"1.0\" x2=\"0.0\" y2=\"4.0\">\n          </line>\n          <g transform=\"translate(0.0 7.0 ) \">\n            <text class=\"axis-text-x\" text-anchor=\"middle\" dy=\"0.7em\">\n            09:00\n            </text>\n          </g>\n        </g>\n        <g transform=\"translate(304.8168069271758 0.0 ) \">\n          <line stroke-width=\"1.0\" stroke=\"rgb(71,71,71)\" stroke-opacity=\"1.0\" x2=\"0.0\" y2=\"4.0\">\n          </line>\n          <g transform=\"translate(0.0 7.0 ) \">\n            <text class=\"axis-text-x\" text-anchor=\"middle\" dy=\"0.7em\">\n            12:00\n            </text>\n          </g>\n        </g>\n        <g transform=\"translate(377.3922371479319 0.0 ) \">\n          <line stroke-width=\"1.0\" stroke=\"rgb(71,71,71)\" stroke-opacity=\"1.0\" x2=\"0.0\" y2=\"4.0\">\n          </line>\n          <g transform=\"translate(0.0 7.0 ) \">\n            <text class=\"axis-text-x\" text-anchor=\"middle\" dy=\"0.7em\">\n            15:00\n            </text>\n          </g>\n        </g>\n        <g transform=\"translate(449.96766736868807 0.0 ) \">\n          <line stroke-width=\"1.0\" stroke=\"rgb(71,71,71)\" stroke-opacity=\"1.0\" x2=\"0.0\" y2=\"4.0\">\n          </line>\n          <g transform=\"translate(0.0 7.0 ) \">\n            <text class=\"axis-text-x\" text-anchor=\"middle\" dy=\"0.7em\">\n            18:00\n            </text>\n          </g>\n        </g>\n        <g transform=\"translate(522.5430975894442 0.0 ) \">\n          <line stroke-width=\"1.0\" stroke=\"rgb(71,71,71)\" stroke-opacity=\"1.0\" x2=\"0.0\" y2=\"4.0\">\n          </line>\n          <g transform=\"translate(0.0 7.0 ) \">\n            <text class=\"axis-text-x\" text-anchor=\"middle\" dy=\"0.7em\">\n            21:00\n            </text>\n          </g>\n        </g>\n        <line x1=\"0.0\" y1=\"0.0\" x2=\"537.0581836335954\" y2=\"0.0\" stroke-width=\"1.0\" stroke=\"rgb(71,71,71)\" stroke-opacity=\"1.0\">\n        </line>\n      </g>\n      <g transform=\"translate(29.941816366404606 0.0 ) \">\n        <line x1=\"0.0\" y1=\"259.04761904761904\" x2=\"537.0581836335954\" y2=\"259.04761904761904\" stroke=\"rgb(233,233,233)\" stroke-opacity=\"1.0\" stroke-width=\"1.0\">\n        </line>\n        <line x1=\"0.0\" y1=\"198.0952380952381\" x2=\"537.0581836335954\" y2=\"198.0952380952381\" stroke=\"rgb(233,233,233)\" stroke-opacity=\"1.0\" stroke-width=\"1.0\">\n        </line>\n        <line x1=\"0.0\" y1=\"137.14285714285717\" x2=\"537.0581836335954\" y2=\"137.14285714285717\" stroke=\"rgb(233,233,233)\" stroke-opacity=\"1.0\" stroke-width=\"1.0\">\n        </line>\n        <line x1=\"0.0\" y1=\"76.1904761904762\" x2=\"537.0581836335954\" y2=\"76.1904761904762\" stroke=\"rgb(233,233,233)\" stroke-opacity=\"1.0\" stroke-width=\"1.0\">\n        </line>\n        <line x1=\"0.0\" y1=\"15.23809523809524\" x2=\"537.0581836335954\" y2=\"15.23809523809524\" stroke=\"rgb(233,233,233)\" stroke-opacity=\"1.0\" stroke-width=\"1.0\">\n        </line>\n        <g transform=\"translate(0.0 320.0 ) \">\n          <g transform=\"translate(-3.0 0.0 ) \">\n            <text class=\"axis-text-y\" text-anchor=\"end\" dy=\"0.35em\">\n            0\n            </text>\n          </g>\n        </g>\n        <g transform=\"translate(0.0 259.04761904761904 ) \">\n          <g transform=\"translate(-3.0 0.0 ) \">\n            <text class=\"axis-text-y\" text-anchor=\"end\" dy=\"0.35em\">\n            20\n            </text>\n          </g>\n        </g>\n        <g transform=\"translate(0.0 198.0952380952381 ) \">\n          <g transform=\"translate(-3.0 0.0 ) \">\n            <text class=\"axis-text-y\" text-anchor=\"end\" dy=\"0.35em\">\n            40\n            </text>\n          </g>\n        </g>\n        <g transform=\"translate(0.0 137.14285714285717 ) \">\n          <g transform=\"translate(-3.0 0.0 ) \">\n            <text class=\"axis-text-y\" text-anchor=\"end\" dy=\"0.35em\">\n            60\n            </text>\n          </g>\n        </g>\n        <g transform=\"translate(0.0 76.1904761904762 ) \">\n          <g transform=\"translate(-3.0 0.0 ) \">\n            <text class=\"axis-text-y\" text-anchor=\"end\" dy=\"0.35em\">\n            80\n            </text>\n          </g>\n        </g>\n        <g transform=\"translate(0.0 15.23809523809524 ) \">\n          <g transform=\"translate(-3.0 0.0 ) \">\n            <text class=\"axis-text-y\" text-anchor=\"end\" dy=\"0.35em\">\n            100\n            </text>\n          </g>\n        </g>\n      </g>\n      <g transform=\"translate(29.941816366404606 0.0 ) \" clip-path=\"url(#c1s6VNJ)\" clip-bounds-jfx=\"[rect (0.0, 0.0), (537.0581836335954, 320.0)]\">\n        <defs>\n          <clipPath id=\"c1s6VNJ\">\n            <rect x=\"0.0\" y=\"0.0\" width=\"537.0581836335954\" height=\"320.0\">\n            </rect>\n          </clipPath>\n        </defs>\n        <g>\n          <path d=\"M14.515086044151227 289.5238095238095 L14.515086044151227 289.5238095238095 L87.09051626490736 304.76190476190476 L159.66594648566348 274.2857142857143 L232.24137670641963 167.61904761904762 L304.8168069271758 91.42857142857144 L377.3922371479319 137.14285714285717 L449.96766736868807 76.1904761904762 L522.5430975894442 198.0952380952381 L522.5430975894442 320.0 L449.96766736868807 320.0 L377.3922371479319 320.0 L304.8168069271758 320.0 L232.24137670641963 320.0 L159.66594648566348 320.0 L87.09051626490736 320.0 L14.515086044151227 320.0 Z\" fill=\"rgb(238,102,102)\" stroke-width=\"1.0\" fill-opacity=\"0.6980392156862745\">\n          </path>\n        </g>\n        <g>\n          <path d=\"M14.515086044151227 289.5238095238095 L14.515086044151227 289.5238095238095 L87.09051626490736 304.76190476190476 L159.66594648566348 274.2857142857143 L232.24137670641963 167.61904761904762 L304.8168069271758 91.42857142857144 L377.3922371479319 137.14285714285717 L449.96766736868807 76.1904761904762 L522.5430975894442 198.0952380952381 \" fill=\"none\" stroke-width=\"5.5\" stroke=\"rgb(252,132,82)\" stroke-opacity=\"1.0\" stroke-dasharray=\"23.65,23.65\">\n          </path>\n        </g>\n      </g>\n    </g>\n    <g transform=\"translate(52.94181636640461 15.2 ) \">\n      <text class=\"plot-title\" y=\"0.0\">\n      Daily Server Load Dynamics\n      </text>\n    </g>\n    <g transform=\"translate(14.5 194.0 ) rotate(-90.0 ) \">\n      <text class=\"axis-title-y\" y=\"0.0\" text-anchor=\"middle\">\n      Load (%)\n      </text>\n    </g>\n    <g transform=\"translate(321.4709081832023 391.5 ) \">\n      <text class=\"axis-title-x\" y=\"0.0\" text-anchor=\"middle\">\n      Time\n      </text>\n    </g>\n    <path fill=\"rgb(0,0,0)\" fill-opacity=\"0.0\" stroke=\"rgb(71,71,71)\" stroke-opacity=\"1.0\" stroke-width=\"0.0\" d=\"M0.0 0.0 L0.0 400.0 L600.0 400.0 L600.0 0.0 Z\">\n    </path>\n  </g>\n  <g id=\"dQIDedF\">\n  </g>\n</svg>\n        <script>document.getElementById(\"f63f30f3-ed28-4c7f-bb16-7fbfe1ad7a7a\").style.display = \"none\";</script>",
      "application/plot+json": {
       "output_type": "lets_plot_spec",
       "output": {
        "ggtitle": {
         "text": "Daily Server Load Dynamics"
        },
        "mapping": {},
        "data": {
         "load": [
          10.0,
          5.0,
          15.0,
          50.0,
          75.0,
          60.0,
          80.0,
          40.0
         ],
         "time": [
          "00:00",
          "03:00",
          "06:00",
          "09:00",
          "12:00",
          "15:00",
          "18:00",
          "21:00"
         ]
        },
        "kind": "plot",
        "scales": [
         {
          "aesthetic": "x",
          "discrete": true,
          "name": "Time"
         },
         {
          "aesthetic": "y",
          "name": "Load (%)",
          "limits": [
           0.0,
           100.0
          ]
         }
        ],
        "layers": [
         {
          "mapping": {
           "x": "time",
           "y": "load"
          },
          "stat": "identity",
          "color": "#fc8452",
          "size": 2.5,
          "linetype": "dashed",
          "sampling": "none",
          "alpha": 0.7,
          "position": "identity",
          "geom": "area",
          "fill": "#ee6666"
         }
        ]
       },
       "apply_color_scheme": true,
       "swing_enabled": true
      }
     },
     "execution_count": 3,
     "metadata": {},
     "output_type": "execute_result"
    }
   ],
   "source": [
    "loadServer.plot {\n",
    "    layout.title = \"Daily Server Load Dynamics\"\n",
    "    area {\n",
    "        x(time) { axis.name = \"Time\" }\n",
    "        y(load) {\n",
    "            axis.name = \"Load (%)\"\n",
    "            scale = continuous(0..100)\n",
    "        }\n",
    "        borderLine {\n",
    "            color = Color.ORANGE\n",
    "            type = LineType.DASHED\n",
    "            width = 2.5\n",
    "        }\n",
    "        fillColor = Color.RED\n",
    "        alpha = 0.7\n",
    "    }\n",
    "}"
   ],
   "metadata": {
    "collapsed": false,
    "ExecuteTime": {
     "end_time": "2023-11-20T22:36:27.021572Z",
     "start_time": "2023-11-20T22:36:26.327229Z"
    }
   }
  }
 ],
 "metadata": {
  "kernelspec": {
   "display_name": "Kotlin",
   "language": "kotlin",
   "name": "kotlin"
  },
  "language_info": {
   "name": "kotlin",
   "version": "1.9.0",
   "mimetype": "text/x-kotlin",
   "file_extension": ".kt",
   "pygments_lexer": "kotlin",
   "codemirror_mode": "text/x-kotlin",
   "nbconvert_exporter": ""
  }
 },
 "nbformat": 4,
 "nbformat_minor": 0
}
