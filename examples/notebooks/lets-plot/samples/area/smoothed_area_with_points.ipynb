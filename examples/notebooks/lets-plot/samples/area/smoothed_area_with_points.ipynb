{
 "cells": [
  {
   "cell_type": "code",
   "execution_count": null,
   "metadata": {
    "collapsed": true
   },
   "outputs": [],
   "source": [
    "%useLatestDescriptors\n",
    "%use kandy"
   ]
  },
  {
   "cell_type": "code",
   "execution_count": null,
   "outputs": [],
   "source": [
    "val xs = listOf(-3.0, -2.5, -2.0, -1.5, -1.0, 0.0, 1.0, 1.5, 2.0, 2.5, 3.0)\n",
    "val ys = listOf(5.4, 1.2, 3.4, 0.7, 0.8, 2.1, 0.6, 2.2, 3.4, 4.5, 6.7)\n",
    "\n",
    "plot {\n",
    "    statSmooth(xs, ys, method = SmoothMethod.LOESS(span = 0.3)) {\n",
    "        area {\n",
    "            x(Stat.x)\n",
    "            y(Stat.y)\n",
    "            alpha = 0.75\n",
    "            fillColor = Color.LIGHT_GREEN\n",
    "            borderLine.color = Color.LIGHT_PURPLE\n",
    "        }\n",
    "    }\n",
    "    points {\n",
    "        size = 4.0\n",
    "        color = Color.ORANGE\n",
    "        x(xs)\n",
    "        y(ys)\n",
    "    }\n",
    "}"
   ],
   "metadata": {
    "collapsed": false
   }
  }
 ],
 "metadata": {
  "kernelspec": {
   "display_name": "Kotlin",
   "language": "kotlin",
   "name": "kotlin"
  },
  "language_info": {
   "name": "kotlin",
   "version": "1.9.0",
   "mimetype": "text/x-kotlin",
   "file_extension": ".kt",
   "pygments_lexer": "kotlin",
   "codemirror_mode": "text/x-kotlin",
   "nbconvert_exporter": ""
  }
 },
 "nbformat": 4,
 "nbformat_minor": 0
}
