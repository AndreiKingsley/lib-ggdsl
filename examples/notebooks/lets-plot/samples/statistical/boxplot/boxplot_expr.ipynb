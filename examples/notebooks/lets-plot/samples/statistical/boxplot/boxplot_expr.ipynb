{
 "cells": [
  {
   "cell_type": "code",
   "execution_count": 1,
   "metadata": {
    "collapsed": true,
    "ExecuteTime": {
     "end_time": "2023-11-21T12:27:17.545097Z",
     "start_time": "2023-11-21T12:27:09.144562Z"
    }
   },
   "outputs": [],
   "source": [
    "%useLatestDescriptors\n",
    "%use dataframe\n",
    "%use kandy"
   ]
  },
  {
   "cell_type": "code",
   "execution_count": 2,
   "outputs": [],
   "source": [
    "val data = dataFrameOf(\n",
    "    \"expr0\" to listOf(\n",
    "        850, 740, 900, 1070, 930, 850, 950, 980, 980,\n",
    "        880, 1000, 980, 930, 650, 760, 810, 1000, 1000, 960, 960\n",
    "    ),\n",
    "    \"expr1\" to listOf(\n",
    "        960, 940, 960, 940, 880, 800, 850, 880, 900, 840, 830,\n",
    "        790, 810, 880, 880, 830, 800, 790, 760, 800\n",
    "    ),\n",
    "    \"expr2\" to listOf(\n",
    "        880, 880, 880, 860, 720, 720, 620, 860, 970, 950,\n",
    "        880, 910, 850, 870, 840, 840, 850, 840, 840, 840\n",
    "    ),\n",
    "    \"expr3\" to listOf(\n",
    "        890, 810, 810, 820, 800, 770, 760, 740, 750,\n",
    "        760, 910, 920, 890, 860, 880, 720, 840, 850, 850, 780\n",
    "    ),\n",
    "    \"expr4\" to listOf(\n",
    "        890, 840, 780, 810, 760, 810, 790, 810, 820,\n",
    "        850, 870, 870, 810, 740, 810, 940, 950, 800, 810, 870\n",
    "    )\n",
    ").gather(\"expr0\", \"expr1\", \"expr2\", \"expr3\", \"expr4\").into(\"expr\", \"value\")"
   ],
   "metadata": {
    "collapsed": false,
    "ExecuteTime": {
     "end_time": "2023-11-21T12:27:18.552360Z",
     "start_time": "2023-11-21T12:27:17.545933Z"
    }
   }
  },
  {
   "cell_type": "code",
   "execution_count": 3,
   "outputs": [
    {
     "data": {
      "text/html": "            <iframe src='about:blank' style='border:none !important;' width='600' height='400' srcdoc=\"&lt;html lang=&quot;en&quot;>\n   &lt;head>\n       &lt;style> html, body { margin: 0; overflow: hidden; } &lt;/style>\n       &lt;script type=&quot;text/javascript&quot; data-lets-plot-script=&quot;library&quot; src=&quot;https://cdn.jsdelivr.net/gh/JetBrains/lets-plot@v4.0.1/js-package/distr/lets-plot.min.js&quot;>&lt;/script>\n   &lt;/head>\n   &lt;body>\n          &lt;div id=&quot;bIPoNB&quot;>&lt;/div>\n   &lt;script type=&quot;text/javascript&quot; data-lets-plot-script=&quot;plot&quot;>\n       var plotSpec={\n&quot;mapping&quot;:{\n},\n&quot;data&quot;:{\n},\n&quot;kind&quot;:&quot;plot&quot;,\n&quot;scales&quot;:[{\n&quot;aesthetic&quot;:&quot;x&quot;,\n&quot;name&quot;:&quot;expr&quot;,\n&quot;limits&quot;:[null,null]\n},{\n&quot;aesthetic&quot;:&quot;y&quot;,\n&quot;name&quot;:&quot;value&quot;,\n&quot;limits&quot;:[null,null]\n},{\n&quot;aesthetic&quot;:&quot;x&quot;,\n&quot;discrete&quot;:true\n},{\n&quot;aesthetic&quot;:&quot;x&quot;,\n&quot;discrete&quot;:true\n},{\n&quot;aesthetic&quot;:&quot;y&quot;,\n&quot;limits&quot;:[null,null]\n}],\n&quot;layers&quot;:[{\n&quot;mapping&quot;:{\n&quot;x&quot;:&quot;x&quot;,\n&quot;ymin&quot;:&quot;min&quot;,\n&quot;lower&quot;:&quot;lower&quot;,\n&quot;middle&quot;:&quot;middle&quot;,\n&quot;upper&quot;:&quot;upper&quot;,\n&quot;ymax&quot;:&quot;max&quot;,\n&quot;y&quot;:&quot;y&quot;\n},\n&quot;stat&quot;:&quot;identity&quot;,\n&quot;data&quot;:{\n&quot;middle&quot;:[940.0,845.0,855.0,815.0,810.0],\n&quot;min&quot;:[740.0,760.0,840.0,720.0,740.0],\n&quot;max&quot;:[1070.0,960.0,910.0,920.0,950.0],\n&quot;lower&quot;:[850.0,800.0,840.0,762.5,802.5],\n&quot;upper&quot;:[980.0,895.0,880.0,875.0,870.0],\n&quot;x&quot;:[&quot;expr0&quot;,&quot;expr1&quot;,&quot;expr2&quot;,&quot;expr3&quot;,&quot;expr4&quot;]\n},\n&quot;color&quot;:&quot;#5470c6&quot;,\n&quot;sampling&quot;:&quot;none&quot;,\n&quot;position&quot;:&quot;identity&quot;,\n&quot;geom&quot;:&quot;boxplot&quot;\n},{\n&quot;mapping&quot;:{\n&quot;x&quot;:&quot;x&quot;,\n&quot;y&quot;:&quot;y&quot;\n},\n&quot;stat&quot;:&quot;identity&quot;,\n&quot;data&quot;:{\n&quot;x&quot;:[&quot;expr0&quot;,&quot;expr2&quot;,&quot;expr2&quot;,&quot;expr2&quot;,&quot;expr2&quot;,&quot;expr2&quot;],\n&quot;y&quot;:[650.0,720.0,720.0,620.0,970.0,950.0]\n},\n&quot;sampling&quot;:&quot;none&quot;,\n&quot;position&quot;:&quot;identity&quot;,\n&quot;geom&quot;:&quot;point&quot;\n}]\n};\n       var plotContainer = document.getElementById(&quot;bIPoNB&quot;);\n       LetsPlot.buildPlotFromProcessedSpecs(plotSpec, -1, -1, plotContainer);\n   &lt;/script>\n   &lt;/body>\n&lt;/html>\"></iframe>            \n        <svg id=5af2d9d0-3530-4b67-99cb-f6c03235417d xmlns=\"http://www.w3.org/2000/svg\" xmlns:xlink=\"http://www.w3.org/1999/xlink\" class=\"plt-container\" width=\"600.0\" height=\"400.0\">\n  <style type=\"text/css\">\n  .plt-container {\n   font-family: Lucida Grande, sans-serif;\n   user-select: none;\n   -webkit-user-select: none;\n   -moz-user-select: none;\n   -ms-user-select: none;\n}\ntext {\n   text-rendering: optimizeLegibility;\n}\n#pGukgBK .plot-title {\n   fill: #474747;\n   font-family: Lucida Grande, sans-serif;\n   font-size: 16.0px;\n   font-weight: normal;\n   font-style: normal;   \n}\n#pGukgBK .plot-subtitle {\n   fill: #474747;\n   font-family: Lucida Grande, sans-serif;\n   font-size: 15.0px;\n   font-weight: normal;\n   font-style: normal;   \n}\n#pGukgBK .plot-caption {\n   fill: #474747;\n   font-family: Lucida Grande, sans-serif;\n   font-size: 13.0px;\n   font-weight: normal;\n   font-style: normal;   \n}\n#pGukgBK .legend-title {\n   fill: #474747;\n   font-family: Lucida Grande, sans-serif;\n   font-size: 15.0px;\n   font-weight: normal;\n   font-style: normal;   \n}\n#pGukgBK .legend-item {\n   fill: #474747;\n   font-family: Lucida Grande, sans-serif;\n   font-size: 13.0px;\n   font-weight: normal;\n   font-style: normal;   \n}\n#pGukgBK .axis-title-x {\n   fill: #474747;\n   font-family: Lucida Grande, sans-serif;\n   font-size: 15.0px;\n   font-weight: normal;\n   font-style: normal;   \n}\n#pGukgBK .axis-text-x {\n   fill: #474747;\n   font-family: Lucida Grande, sans-serif;\n   font-size: 13.0px;\n   font-weight: normal;\n   font-style: normal;   \n}\n#dPVKs3b .axis-tooltip-text-x {\n   fill: #ffffff;\n   font-family: Lucida Grande, sans-serif;\n   font-size: 13.0px;\n   font-weight: normal;\n   font-style: normal;   \n}\n#pGukgBK .axis-title-y {\n   fill: #474747;\n   font-family: Lucida Grande, sans-serif;\n   font-size: 15.0px;\n   font-weight: normal;\n   font-style: normal;   \n}\n#pGukgBK .axis-text-y {\n   fill: #474747;\n   font-family: Lucida Grande, sans-serif;\n   font-size: 13.0px;\n   font-weight: normal;\n   font-style: normal;   \n}\n#dPVKs3b .axis-tooltip-text-y {\n   fill: #ffffff;\n   font-family: Lucida Grande, sans-serif;\n   font-size: 13.0px;\n   font-weight: normal;\n   font-style: normal;   \n}\n#pGukgBK .facet-strip-text-x {\n   fill: #474747;\n   font-family: Lucida Grande, sans-serif;\n   font-size: 13.0px;\n   font-weight: normal;\n   font-style: normal;   \n}\n#pGukgBK .facet-strip-text-y {\n   fill: #474747;\n   font-family: Lucida Grande, sans-serif;\n   font-size: 13.0px;\n   font-weight: normal;\n   font-style: normal;   \n}\n#dPVKs3b .tooltip-text {\n   fill: #474747;\n   font-family: Lucida Grande, sans-serif;\n   font-size: 13.0px;\n   font-weight: normal;\n   font-style: normal;   \n}\n#dPVKs3b .tooltip-title {\n   fill: #474747;\n   font-family: Lucida Grande, sans-serif;\n   font-size: 13.0px;\n   font-weight: bold;\n   font-style: normal;   \n}\n#dPVKs3b .tooltip-label {\n   fill: #474747;\n   font-family: Lucida Grande, sans-serif;\n   font-size: 13.0px;\n   font-weight: bold;\n   font-style: normal;   \n}\n\n  </style>\n  <g id=\"pGukgBK\">\n    <path fill-rule=\"evenodd\" fill=\"rgb(255,255,255)\" fill-opacity=\"1.0\" d=\"M0.0 0.0 L0.0 400.0 L600.0 400.0 L600.0 0.0 Z\">\n    </path>\n    <g transform=\"translate(23.0 10.0 ) \">\n      <g transform=\"translate(42.99591213121782 344.0 ) \">\n        <line x1=\"64.26465228579404\" y1=\"-0.0\" x2=\"64.26465228579404\" y2=\"-344.0\" stroke=\"rgb(233,233,233)\" stroke-opacity=\"1.0\" stroke-width=\"1.0\">\n        </line>\n        <line x1=\"163.13334811009256\" y1=\"-0.0\" x2=\"163.13334811009256\" y2=\"-344.0\" stroke=\"rgb(233,233,233)\" stroke-opacity=\"1.0\" stroke-width=\"1.0\">\n        </line>\n        <line x1=\"262.00204393439105\" y1=\"-0.0\" x2=\"262.00204393439105\" y2=\"-344.0\" stroke=\"rgb(233,233,233)\" stroke-opacity=\"1.0\" stroke-width=\"1.0\">\n        </line>\n        <line x1=\"360.8707397586896\" y1=\"-0.0\" x2=\"360.8707397586896\" y2=\"-344.0\" stroke=\"rgb(233,233,233)\" stroke-opacity=\"1.0\" stroke-width=\"1.0\">\n        </line>\n        <line x1=\"459.7394355829881\" y1=\"-0.0\" x2=\"459.7394355829881\" y2=\"-344.0\" stroke=\"rgb(233,233,233)\" stroke-opacity=\"1.0\" stroke-width=\"1.0\">\n        </line>\n        <g transform=\"translate(64.26465228579404 0.0 ) \">\n          <line stroke-width=\"1.0\" stroke=\"rgb(71,71,71)\" stroke-opacity=\"1.0\" x2=\"0.0\" y2=\"4.0\">\n          </line>\n          <g transform=\"translate(0.0 7.0 ) \">\n            <text class=\"axis-text-x\" text-anchor=\"middle\" dy=\"0.7em\">\n            expr0\n            </text>\n          </g>\n        </g>\n        <g transform=\"translate(163.13334811009256 0.0 ) \">\n          <line stroke-width=\"1.0\" stroke=\"rgb(71,71,71)\" stroke-opacity=\"1.0\" x2=\"0.0\" y2=\"4.0\">\n          </line>\n          <g transform=\"translate(0.0 7.0 ) \">\n            <text class=\"axis-text-x\" text-anchor=\"middle\" dy=\"0.7em\">\n            expr1\n            </text>\n          </g>\n        </g>\n        <g transform=\"translate(262.00204393439105 0.0 ) \">\n          <line stroke-width=\"1.0\" stroke=\"rgb(71,71,71)\" stroke-opacity=\"1.0\" x2=\"0.0\" y2=\"4.0\">\n          </line>\n          <g transform=\"translate(0.0 7.0 ) \">\n            <text class=\"axis-text-x\" text-anchor=\"middle\" dy=\"0.7em\">\n            expr2\n            </text>\n          </g>\n        </g>\n        <g transform=\"translate(360.8707397586896 0.0 ) \">\n          <line stroke-width=\"1.0\" stroke=\"rgb(71,71,71)\" stroke-opacity=\"1.0\" x2=\"0.0\" y2=\"4.0\">\n          </line>\n          <g transform=\"translate(0.0 7.0 ) \">\n            <text class=\"axis-text-x\" text-anchor=\"middle\" dy=\"0.7em\">\n            expr3\n            </text>\n          </g>\n        </g>\n        <g transform=\"translate(459.7394355829881 0.0 ) \">\n          <line stroke-width=\"1.0\" stroke=\"rgb(71,71,71)\" stroke-opacity=\"1.0\" x2=\"0.0\" y2=\"4.0\">\n          </line>\n          <g transform=\"translate(0.0 7.0 ) \">\n            <text class=\"axis-text-x\" text-anchor=\"middle\" dy=\"0.7em\">\n            expr4\n            </text>\n          </g>\n        </g>\n        <line x1=\"0.0\" y1=\"0.0\" x2=\"524.0040878687822\" y2=\"0.0\" stroke-width=\"1.0\" stroke=\"rgb(71,71,71)\" stroke-opacity=\"1.0\">\n        </line>\n      </g>\n      <g transform=\"translate(42.99591213121782 0.0 ) \">\n        <line x1=\"0.0\" y1=\"307.51515151515156\" x2=\"524.0040878687822\" y2=\"307.51515151515156\" stroke=\"rgb(233,233,233)\" stroke-opacity=\"1.0\" stroke-width=\"1.0\">\n        </line>\n        <line x1=\"0.0\" y1=\"272.76767676767685\" x2=\"524.0040878687822\" y2=\"272.76767676767685\" stroke=\"rgb(233,233,233)\" stroke-opacity=\"1.0\" stroke-width=\"1.0\">\n        </line>\n        <line x1=\"0.0\" y1=\"238.02020202020208\" x2=\"524.0040878687822\" y2=\"238.02020202020208\" stroke=\"rgb(233,233,233)\" stroke-opacity=\"1.0\" stroke-width=\"1.0\">\n        </line>\n        <line x1=\"0.0\" y1=\"203.27272727272737\" x2=\"524.0040878687822\" y2=\"203.27272727272737\" stroke=\"rgb(233,233,233)\" stroke-opacity=\"1.0\" stroke-width=\"1.0\">\n        </line>\n        <line x1=\"0.0\" y1=\"168.52525252525254\" x2=\"524.0040878687822\" y2=\"168.52525252525254\" stroke=\"rgb(233,233,233)\" stroke-opacity=\"1.0\" stroke-width=\"1.0\">\n        </line>\n        <line x1=\"0.0\" y1=\"133.77777777777783\" x2=\"524.0040878687822\" y2=\"133.77777777777783\" stroke=\"rgb(233,233,233)\" stroke-opacity=\"1.0\" stroke-width=\"1.0\">\n        </line>\n        <line x1=\"0.0\" y1=\"99.03030303030312\" x2=\"524.0040878687822\" y2=\"99.03030303030312\" stroke=\"rgb(233,233,233)\" stroke-opacity=\"1.0\" stroke-width=\"1.0\">\n        </line>\n        <line x1=\"0.0\" y1=\"64.28282828282829\" x2=\"524.0040878687822\" y2=\"64.28282828282829\" stroke=\"rgb(233,233,233)\" stroke-opacity=\"1.0\" stroke-width=\"1.0\">\n        </line>\n        <line x1=\"0.0\" y1=\"29.53535353535358\" x2=\"524.0040878687822\" y2=\"29.53535353535358\" stroke=\"rgb(233,233,233)\" stroke-opacity=\"1.0\" stroke-width=\"1.0\">\n        </line>\n        <g transform=\"translate(0.0 342.2626262626263 ) \">\n          <g transform=\"translate(-3.0 0.0 ) \">\n            <text class=\"axis-text-y\" text-anchor=\"end\" dy=\"0.35em\">\n            600\n            </text>\n          </g>\n        </g>\n        <g transform=\"translate(0.0 307.51515151515156 ) \">\n          <g transform=\"translate(-3.0 0.0 ) \">\n            <text class=\"axis-text-y\" text-anchor=\"end\" dy=\"0.35em\">\n            650\n            </text>\n          </g>\n        </g>\n        <g transform=\"translate(0.0 272.76767676767685 ) \">\n          <g transform=\"translate(-3.0 0.0 ) \">\n            <text class=\"axis-text-y\" text-anchor=\"end\" dy=\"0.35em\">\n            700\n            </text>\n          </g>\n        </g>\n        <g transform=\"translate(0.0 238.02020202020208 ) \">\n          <g transform=\"translate(-3.0 0.0 ) \">\n            <text class=\"axis-text-y\" text-anchor=\"end\" dy=\"0.35em\">\n            750\n            </text>\n          </g>\n        </g>\n        <g transform=\"translate(0.0 203.27272727272737 ) \">\n          <g transform=\"translate(-3.0 0.0 ) \">\n            <text class=\"axis-text-y\" text-anchor=\"end\" dy=\"0.35em\">\n            800\n            </text>\n          </g>\n        </g>\n        <g transform=\"translate(0.0 168.52525252525254 ) \">\n          <g transform=\"translate(-3.0 0.0 ) \">\n            <text class=\"axis-text-y\" text-anchor=\"end\" dy=\"0.35em\">\n            850\n            </text>\n          </g>\n        </g>\n        <g transform=\"translate(0.0 133.77777777777783 ) \">\n          <g transform=\"translate(-3.0 0.0 ) \">\n            <text class=\"axis-text-y\" text-anchor=\"end\" dy=\"0.35em\">\n            900\n            </text>\n          </g>\n        </g>\n        <g transform=\"translate(0.0 99.03030303030312 ) \">\n          <g transform=\"translate(-3.0 0.0 ) \">\n            <text class=\"axis-text-y\" text-anchor=\"end\" dy=\"0.35em\">\n            950\n            </text>\n          </g>\n        </g>\n        <g transform=\"translate(0.0 64.28282828282829 ) \">\n          <g transform=\"translate(-3.0 0.0 ) \">\n            <text class=\"axis-text-y\" text-anchor=\"end\" dy=\"0.35em\">\n            1,000\n            </text>\n          </g>\n        </g>\n        <g transform=\"translate(0.0 29.53535353535358 ) \">\n          <g transform=\"translate(-3.0 0.0 ) \">\n            <text class=\"axis-text-y\" text-anchor=\"end\" dy=\"0.35em\">\n            1,050\n            </text>\n          </g>\n        </g>\n      </g>\n      <g transform=\"translate(42.99591213121782 0.0 ) \" clip-path=\"url(#cM5VWfJ)\" clip-bounds-jfx=\"[rect (0.0, 0.0), (524.0040878687822, 344.0)]\">\n        <defs>\n          <clipPath id=\"cM5VWfJ\">\n            <rect x=\"0.0\" y=\"0.0\" width=\"524.0040878687822\" height=\"344.0\">\n            </rect>\n          </clipPath>\n        </defs>\n        <rect x=\"19.773739164859713\" y=\"78.18181818181824\" height=\"90.3434343434343\" width=\"88.98182624186867\" stroke=\"rgb(84,112,198)\" stroke-opacity=\"1.0\" fill=\"rgb(255,255,255)\" fill-opacity=\"1.0\" stroke-width=\"1.6500000000000001\">\n        </rect>\n        <rect x=\"118.64243498915823\" y=\"137.2525252525253\" height=\"66.02020202020208\" width=\"88.98182624186865\" stroke=\"rgb(84,112,198)\" stroke-opacity=\"1.0\" fill=\"rgb(255,255,255)\" fill-opacity=\"1.0\" stroke-width=\"1.6500000000000001\">\n        </rect>\n        <rect x=\"217.51113081345676\" y=\"147.67676767676778\" height=\"27.797979797979792\" width=\"88.98182624186865\" stroke=\"rgb(84,112,198)\" stroke-opacity=\"1.0\" fill=\"rgb(255,255,255)\" fill-opacity=\"1.0\" stroke-width=\"1.6500000000000001\">\n        </rect>\n        <rect x=\"316.37982663775523\" y=\"151.15151515151524\" height=\"78.18181818181813\" width=\"88.98182624186865\" stroke=\"rgb(84,112,198)\" stroke-opacity=\"1.0\" fill=\"rgb(255,255,255)\" fill-opacity=\"1.0\" stroke-width=\"1.6500000000000001\">\n        </rect>\n        <rect x=\"415.24852246205376\" y=\"154.6262626262627\" height=\"46.90909090909088\" width=\"88.9818262418687\" stroke=\"rgb(84,112,198)\" stroke-opacity=\"1.0\" fill=\"rgb(255,255,255)\" fill-opacity=\"1.0\" stroke-width=\"1.6500000000000001\">\n        </rect>\n        <line x1=\"19.773739164859713\" y1=\"105.97979797979804\" x2=\"108.75556540672838\" y2=\"105.97979797979804\" stroke=\"rgb(84,112,198)\" stroke-opacity=\"1.0\" fill=\"rgb(255,255,255)\" fill-opacity=\"1.0\" stroke-width=\"3.3000000000000003\">\n        </line>\n        <line x1=\"118.64243498915823\" y1=\"172.0000000000001\" x2=\"207.62426123102688\" y2=\"172.0000000000001\" stroke=\"rgb(84,112,198)\" stroke-opacity=\"1.0\" fill=\"rgb(255,255,255)\" fill-opacity=\"1.0\" stroke-width=\"3.3000000000000003\">\n        </line>\n        <line x1=\"217.51113081345676\" y1=\"165.05050505050508\" x2=\"306.4929570553254\" y2=\"165.05050505050508\" stroke=\"rgb(84,112,198)\" stroke-opacity=\"1.0\" fill=\"rgb(255,255,255)\" fill-opacity=\"1.0\" stroke-width=\"3.3000000000000003\">\n        </line>\n        <line x1=\"316.37982663775523\" y1=\"192.84848484848487\" x2=\"405.36165287962393\" y2=\"192.84848484848487\" stroke=\"rgb(84,112,198)\" stroke-opacity=\"1.0\" fill=\"rgb(255,255,255)\" fill-opacity=\"1.0\" stroke-width=\"3.3000000000000003\">\n        </line>\n        <line x1=\"415.24852246205376\" y1=\"196.32323232323233\" x2=\"504.23034870392246\" y2=\"196.32323232323233\" stroke=\"rgb(84,112,198)\" stroke-opacity=\"1.0\" fill=\"rgb(255,255,255)\" fill-opacity=\"1.0\" stroke-width=\"3.3000000000000003\">\n        </line>\n        <line x1=\"64.26465228579404\" y1=\"168.52525252525254\" x2=\"64.26465228579404\" y2=\"244.969696969697\" stroke=\"rgb(84,112,198)\" stroke-opacity=\"1.0\" fill=\"rgb(255,255,255)\" fill-opacity=\"1.0\" stroke-width=\"1.6500000000000001\">\n        </line>\n        <line x1=\"42.01919572532688\" y1=\"244.969696969697\" x2=\"86.5101088462612\" y2=\"244.969696969697\" stroke=\"rgb(84,112,198)\" stroke-opacity=\"1.0\" fill=\"rgb(255,255,255)\" fill-opacity=\"1.0\" stroke-width=\"1.6500000000000001\">\n        </line>\n        <line x1=\"64.26465228579404\" y1=\"78.18181818181824\" x2=\"64.26465228579404\" y2=\"15.63636363636374\" stroke=\"rgb(84,112,198)\" stroke-opacity=\"1.0\" fill=\"rgb(255,255,255)\" fill-opacity=\"1.0\" stroke-width=\"1.6500000000000001\">\n        </line>\n        <line x1=\"42.01919572532688\" y1=\"15.63636363636374\" x2=\"86.5101088462612\" y2=\"15.63636363636374\" stroke=\"rgb(84,112,198)\" stroke-opacity=\"1.0\" fill=\"rgb(255,255,255)\" fill-opacity=\"1.0\" stroke-width=\"1.6500000000000001\">\n        </line>\n        <line x1=\"163.13334811009256\" y1=\"203.27272727272737\" x2=\"163.13334811009256\" y2=\"231.07070707070716\" stroke=\"rgb(84,112,198)\" stroke-opacity=\"1.0\" fill=\"rgb(255,255,255)\" fill-opacity=\"1.0\" stroke-width=\"1.6500000000000001\">\n        </line>\n        <line x1=\"140.8878915496254\" y1=\"231.07070707070716\" x2=\"185.37880467055973\" y2=\"231.07070707070716\" stroke=\"rgb(84,112,198)\" stroke-opacity=\"1.0\" fill=\"rgb(255,255,255)\" fill-opacity=\"1.0\" stroke-width=\"1.6500000000000001\">\n        </line>\n        <line x1=\"163.13334811009256\" y1=\"137.2525252525253\" x2=\"163.13334811009256\" y2=\"92.08080808080808\" stroke=\"rgb(84,112,198)\" stroke-opacity=\"1.0\" fill=\"rgb(255,255,255)\" fill-opacity=\"1.0\" stroke-width=\"1.6500000000000001\">\n        </line>\n        <line x1=\"140.8878915496254\" y1=\"92.08080808080808\" x2=\"185.37880467055973\" y2=\"92.08080808080808\" stroke=\"rgb(84,112,198)\" stroke-opacity=\"1.0\" fill=\"rgb(255,255,255)\" fill-opacity=\"1.0\" stroke-width=\"1.6500000000000001\">\n        </line>\n        <line x1=\"262.00204393439105\" y1=\"175.47474747474757\" x2=\"262.00204393439105\" y2=\"175.47474747474757\" stroke=\"rgb(84,112,198)\" stroke-opacity=\"1.0\" fill=\"rgb(255,255,255)\" fill-opacity=\"1.0\" stroke-width=\"1.6500000000000001\">\n        </line>\n        <line x1=\"239.75658737392388\" y1=\"175.47474747474757\" x2=\"284.24750049485823\" y2=\"175.47474747474757\" stroke=\"rgb(84,112,198)\" stroke-opacity=\"1.0\" fill=\"rgb(255,255,255)\" fill-opacity=\"1.0\" stroke-width=\"1.6500000000000001\">\n        </line>\n        <line x1=\"262.00204393439105\" y1=\"147.67676767676778\" x2=\"262.00204393439105\" y2=\"126.82828282828291\" stroke=\"rgb(84,112,198)\" stroke-opacity=\"1.0\" fill=\"rgb(255,255,255)\" fill-opacity=\"1.0\" stroke-width=\"1.6500000000000001\">\n        </line>\n        <line x1=\"239.75658737392388\" y1=\"126.82828282828291\" x2=\"284.24750049485823\" y2=\"126.82828282828291\" stroke=\"rgb(84,112,198)\" stroke-opacity=\"1.0\" fill=\"rgb(255,255,255)\" fill-opacity=\"1.0\" stroke-width=\"1.6500000000000001\">\n        </line>\n        <line x1=\"360.8707397586896\" y1=\"229.33333333333337\" x2=\"360.8707397586896\" y2=\"258.86868686868695\" stroke=\"rgb(84,112,198)\" stroke-opacity=\"1.0\" fill=\"rgb(255,255,255)\" fill-opacity=\"1.0\" stroke-width=\"1.6500000000000001\">\n        </line>\n        <line x1=\"338.6252831982224\" y1=\"258.86868686868695\" x2=\"383.11619631915676\" y2=\"258.86868686868695\" stroke=\"rgb(84,112,198)\" stroke-opacity=\"1.0\" fill=\"rgb(255,255,255)\" fill-opacity=\"1.0\" stroke-width=\"1.6500000000000001\">\n        </line>\n        <line x1=\"360.8707397586896\" y1=\"151.15151515151524\" x2=\"360.8707397586896\" y2=\"119.87878787878799\" stroke=\"rgb(84,112,198)\" stroke-opacity=\"1.0\" fill=\"rgb(255,255,255)\" fill-opacity=\"1.0\" stroke-width=\"1.6500000000000001\">\n        </line>\n        <line x1=\"338.6252831982224\" y1=\"119.87878787878799\" x2=\"383.11619631915676\" y2=\"119.87878787878799\" stroke=\"rgb(84,112,198)\" stroke-opacity=\"1.0\" fill=\"rgb(255,255,255)\" fill-opacity=\"1.0\" stroke-width=\"1.6500000000000001\">\n        </line>\n        <line x1=\"459.7394355829881\" y1=\"201.53535353535358\" x2=\"459.7394355829881\" y2=\"244.969696969697\" stroke=\"rgb(84,112,198)\" stroke-opacity=\"1.0\" fill=\"rgb(255,255,255)\" fill-opacity=\"1.0\" stroke-width=\"1.6500000000000001\">\n        </line>\n        <line x1=\"437.49397902252093\" y1=\"244.969696969697\" x2=\"481.9848921434552\" y2=\"244.969696969697\" stroke=\"rgb(84,112,198)\" stroke-opacity=\"1.0\" fill=\"rgb(255,255,255)\" fill-opacity=\"1.0\" stroke-width=\"1.6500000000000001\">\n        </line>\n        <line x1=\"459.7394355829881\" y1=\"154.6262626262627\" x2=\"459.7394355829881\" y2=\"99.03030303030312\" stroke=\"rgb(84,112,198)\" stroke-opacity=\"1.0\" fill=\"rgb(255,255,255)\" fill-opacity=\"1.0\" stroke-width=\"1.6500000000000001\">\n        </line>\n        <line x1=\"437.49397902252093\" y1=\"99.03030303030312\" x2=\"481.9848921434552\" y2=\"99.03030303030312\" stroke=\"rgb(84,112,198)\" stroke-opacity=\"1.0\" fill=\"rgb(255,255,255)\" fill-opacity=\"1.0\" stroke-width=\"1.6500000000000001\">\n        </line>\n      </g>\n      <g transform=\"translate(42.99591213121782 0.0 ) \" clip-path=\"url(#cH3flr3)\" clip-bounds-jfx=\"[rect (0.0, 0.0), (524.0040878687822, 344.0)]\">\n        <defs>\n          <clipPath id=\"cH3flr3\">\n            <rect x=\"0.0\" y=\"0.0\" width=\"524.0040878687822\" height=\"344.0\">\n            </rect>\n          </clipPath>\n        </defs>\n        <g>\n          \n          <g >\n            <circle fill=\"#474747\" stroke=\"#474747\" stroke-opacity=\"0.0\" stroke-width=\"0.0\" cx=\"64.26465228579404\" cy=\"307.51515151515156\" r=\"3.3000000000000003\" />\n            <circle fill=\"#474747\" stroke=\"#474747\" stroke-opacity=\"0.0\" stroke-width=\"0.0\" cx=\"262.00204393439105\" cy=\"258.86868686868695\" r=\"3.3000000000000003\" />\n            <circle fill=\"#474747\" stroke=\"#474747\" stroke-opacity=\"0.0\" stroke-width=\"0.0\" cx=\"262.00204393439105\" cy=\"258.86868686868695\" r=\"3.3000000000000003\" />\n            <circle fill=\"#474747\" stroke=\"#474747\" stroke-opacity=\"0.0\" stroke-width=\"0.0\" cx=\"262.00204393439105\" cy=\"328.36363636363643\" r=\"3.3000000000000003\" />\n            <circle fill=\"#474747\" stroke=\"#474747\" stroke-opacity=\"0.0\" stroke-width=\"0.0\" cx=\"262.00204393439105\" cy=\"85.13131313131316\" r=\"3.3000000000000003\" />\n            <circle fill=\"#474747\" stroke=\"#474747\" stroke-opacity=\"0.0\" stroke-width=\"0.0\" cx=\"262.00204393439105\" cy=\"99.03030303030312\" r=\"3.3000000000000003\" />\n          </g>\n        </g>\n      </g>\n    </g>\n    <g transform=\"translate(14.5 182.0 ) rotate(-90.0 ) \">\n      <text class=\"axis-title-y\" y=\"0.0\" text-anchor=\"middle\">\n      value\n      </text>\n    </g>\n    <g transform=\"translate(327.99795606560895 391.5 ) \">\n      <text class=\"axis-title-x\" y=\"0.0\" text-anchor=\"middle\">\n      expr\n      </text>\n    </g>\n    <path fill=\"rgb(0,0,0)\" fill-opacity=\"0.0\" stroke=\"rgb(71,71,71)\" stroke-opacity=\"1.0\" stroke-width=\"0.0\" d=\"M0.0 0.0 L0.0 400.0 L600.0 400.0 L600.0 0.0 Z\">\n    </path>\n  </g>\n  <g id=\"dPVKs3b\">\n  </g>\n</svg>\n        <script>document.getElementById(\"5af2d9d0-3530-4b67-99cb-f6c03235417d\").style.display = \"none\";</script>",
      "application/plot+json": {
       "output_type": "lets_plot_spec",
       "output": {
        "mapping": {},
        "data": {},
        "kind": "plot",
        "scales": [
         {
          "aesthetic": "x",
          "name": "expr",
          "limits": [
           null,
           null
          ]
         },
         {
          "aesthetic": "y",
          "name": "value",
          "limits": [
           null,
           null
          ]
         },
         {
          "aesthetic": "x",
          "discrete": true
         },
         {
          "aesthetic": "x",
          "discrete": true
         },
         {
          "aesthetic": "y",
          "limits": [
           null,
           null
          ]
         }
        ],
        "layers": [
         {
          "mapping": {
           "x": "x",
           "ymin": "min",
           "lower": "lower",
           "middle": "middle",
           "upper": "upper",
           "ymax": "max",
           "y": "y"
          },
          "stat": "identity",
          "data": {
           "min": [
            740.0,
            760.0,
            840.0,
            720.0,
            740.0
           ],
           "middle": [
            940.0,
            845.0,
            855.0,
            815.0,
            810.0
           ],
           "max": [
            1070.0,
            960.0,
            910.0,
            920.0,
            950.0
           ],
           "lower": [
            850.0,
            800.0,
            840.0,
            762.5,
            802.5
           ],
           "upper": [
            980.0,
            895.0,
            880.0,
            875.0,
            870.0
           ],
           "x": [
            "expr0",
            "expr1",
            "expr2",
            "expr3",
            "expr4"
           ],
           "y": [
            null,
            null,
            null,
            null,
            null
           ]
          },
          "color": "#5470c6",
          "sampling": "none",
          "position": "identity",
          "geom": "boxplot"
         },
         {
          "mapping": {
           "x": "x",
           "y": "y"
          },
          "stat": "identity",
          "data": {
           "x": [
            "expr0",
            "expr2",
            "expr2",
            "expr2",
            "expr2",
            "expr2"
           ],
           "y": [
            650.0,
            720.0,
            720.0,
            620.0,
            970.0,
            950.0
           ]
          },
          "sampling": "none",
          "position": "identity",
          "geom": "point"
         }
        ]
       },
       "apply_color_scheme": true,
       "swing_enabled": true
      }
     },
     "execution_count": 3,
     "metadata": {},
     "output_type": "execute_result"
    }
   ],
   "source": [
    "data.plot {\n",
    "    boxplot(\"expr\", \"value\") {\n",
    "        boxes {\n",
    "            borderLine.color = Color.BLUE\n",
    "        }\n",
    "    }\n",
    "}"
   ],
   "metadata": {
    "collapsed": false,
    "ExecuteTime": {
     "end_time": "2023-11-21T12:27:19.672895Z",
     "start_time": "2023-11-21T12:27:18.549679Z"
    }
   }
  }
 ],
 "metadata": {
  "kernelspec": {
   "display_name": "Kotlin",
   "language": "kotlin",
   "name": "kotlin"
  },
  "language_info": {
   "name": "kotlin",
   "version": "1.9.0",
   "mimetype": "text/x-kotlin",
   "file_extension": ".kt",
   "pygments_lexer": "kotlin",
   "codemirror_mode": "text/x-kotlin",
   "nbconvert_exporter": ""
  },
  "ktnbPluginMetadata": {
   "projectLibraries": []
  }
 },
 "nbformat": 4,
 "nbformat_minor": 0
}
