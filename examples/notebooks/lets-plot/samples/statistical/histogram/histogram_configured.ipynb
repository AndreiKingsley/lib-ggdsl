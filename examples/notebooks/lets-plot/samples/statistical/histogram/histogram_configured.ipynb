{
 "cells": [
  {
   "cell_type": "code",
   "execution_count": 1,
   "metadata": {
    "collapsed": true,
    "ExecuteTime": {
     "end_time": "2023-11-21T09:40:07.315375Z",
     "start_time": "2023-11-21T09:40:02.016418Z"
    }
   },
   "outputs": [],
   "source": [
    "%useLatestDescriptors\n",
    "%use kandy"
   ]
  },
  {
   "cell_type": "code",
   "execution_count": 5,
   "outputs": [
    {
     "data": {
      "text/html": "            <iframe src='about:blank' style='border:none !important;' width='600' height='400' srcdoc=\"&lt;html lang=&quot;en&quot;>\n   &lt;head>\n       &lt;style> html, body { margin: 0; overflow: hidden; } &lt;/style>\n       &lt;script type=&quot;text/javascript&quot; data-lets-plot-script=&quot;library&quot; src=&quot;https://cdn.jsdelivr.net/gh/JetBrains/lets-plot@v4.0.1/js-package/distr/lets-plot.min.js&quot;>&lt;/script>\n   &lt;/head>\n   &lt;body>\n          &lt;div id=&quot;Xfvarl&quot;>&lt;/div>\n   &lt;script type=&quot;text/javascript&quot; data-lets-plot-script=&quot;plot&quot;>\n       var plotSpec={\n&quot;mapping&quot;:{\n},\n&quot;data&quot;:{\n},\n&quot;kind&quot;:&quot;plot&quot;,\n&quot;scales&quot;:[{\n&quot;aesthetic&quot;:&quot;x&quot;,\n&quot;name&quot;:&quot;x&quot;,\n&quot;limits&quot;:[null,null]\n},{\n&quot;aesthetic&quot;:&quot;x&quot;,\n&quot;limits&quot;:[null,null]\n},{\n&quot;aesthetic&quot;:&quot;y&quot;,\n&quot;limits&quot;:[null,null]\n}],\n&quot;layers&quot;:[{\n&quot;mapping&quot;:{\n&quot;x&quot;:&quot;x&quot;,\n&quot;y&quot;:&quot;count&quot;\n},\n&quot;stat&quot;:&quot;identity&quot;,\n&quot;data&quot;:{\n&quot;x&quot;:[-2.7933164926252774,-2.3942712793930947,-1.9952260661609122,-1.5961808529287298,-1.1971356396965471,-0.7980904264643647,-0.3990452132321822,2.220446049250313E-16,0.3990452132321829,0.7980904264643653,1.1971356396965476,1.5961808529287302,1.995226066160913,2.394271279393095,2.793316492625278],\n&quot;count&quot;:[5.0,8.0,27.0,32.0,76.0,122.0,123.0,147.0,162.0,128.0,83.0,54.0,22.0,7.0,4.0]\n},\n&quot;color&quot;:&quot;#3ba272&quot;,\n&quot;size&quot;:0.5,\n&quot;sampling&quot;:&quot;none&quot;,\n&quot;alpha&quot;:0.5,\n&quot;width&quot;:0.7,\n&quot;position&quot;:&quot;identity&quot;,\n&quot;geom&quot;:&quot;bar&quot;,\n&quot;fill&quot;:&quot;#ee6666&quot;\n}]\n};\n       var plotContainer = document.getElementById(&quot;Xfvarl&quot;);\n       LetsPlot.buildPlotFromProcessedSpecs(plotSpec, -1, -1, plotContainer);\n   &lt;/script>\n   &lt;/body>\n&lt;/html>\"></iframe>            \n        <svg id=464f596b-e597-4443-bf53-b4dce83acb64 xmlns=\"http://www.w3.org/2000/svg\" xmlns:xlink=\"http://www.w3.org/1999/xlink\" class=\"plt-container\" width=\"600.0\" height=\"400.0\">\n  <style type=\"text/css\">\n  .plt-container {\n   font-family: Lucida Grande, sans-serif;\n   user-select: none;\n   -webkit-user-select: none;\n   -moz-user-select: none;\n   -ms-user-select: none;\n}\ntext {\n   text-rendering: optimizeLegibility;\n}\n#p35FmTh .plot-title {\n   fill: #474747;\n   font-family: Lucida Grande, sans-serif;\n   font-size: 16.0px;\n   font-weight: normal;\n   font-style: normal;   \n}\n#p35FmTh .plot-subtitle {\n   fill: #474747;\n   font-family: Lucida Grande, sans-serif;\n   font-size: 15.0px;\n   font-weight: normal;\n   font-style: normal;   \n}\n#p35FmTh .plot-caption {\n   fill: #474747;\n   font-family: Lucida Grande, sans-serif;\n   font-size: 13.0px;\n   font-weight: normal;\n   font-style: normal;   \n}\n#p35FmTh .legend-title {\n   fill: #474747;\n   font-family: Lucida Grande, sans-serif;\n   font-size: 15.0px;\n   font-weight: normal;\n   font-style: normal;   \n}\n#p35FmTh .legend-item {\n   fill: #474747;\n   font-family: Lucida Grande, sans-serif;\n   font-size: 13.0px;\n   font-weight: normal;\n   font-style: normal;   \n}\n#p35FmTh .axis-title-x {\n   fill: #474747;\n   font-family: Lucida Grande, sans-serif;\n   font-size: 15.0px;\n   font-weight: normal;\n   font-style: normal;   \n}\n#p35FmTh .axis-text-x {\n   fill: #474747;\n   font-family: Lucida Grande, sans-serif;\n   font-size: 13.0px;\n   font-weight: normal;\n   font-style: normal;   \n}\n#dnFzdEp .axis-tooltip-text-x {\n   fill: #ffffff;\n   font-family: Lucida Grande, sans-serif;\n   font-size: 13.0px;\n   font-weight: normal;\n   font-style: normal;   \n}\n#p35FmTh .axis-title-y {\n   fill: #474747;\n   font-family: Lucida Grande, sans-serif;\n   font-size: 15.0px;\n   font-weight: normal;\n   font-style: normal;   \n}\n#p35FmTh .axis-text-y {\n   fill: #474747;\n   font-family: Lucida Grande, sans-serif;\n   font-size: 13.0px;\n   font-weight: normal;\n   font-style: normal;   \n}\n#dnFzdEp .axis-tooltip-text-y {\n   fill: #ffffff;\n   font-family: Lucida Grande, sans-serif;\n   font-size: 13.0px;\n   font-weight: normal;\n   font-style: normal;   \n}\n#p35FmTh .facet-strip-text-x {\n   fill: #474747;\n   font-family: Lucida Grande, sans-serif;\n   font-size: 13.0px;\n   font-weight: normal;\n   font-style: normal;   \n}\n#p35FmTh .facet-strip-text-y {\n   fill: #474747;\n   font-family: Lucida Grande, sans-serif;\n   font-size: 13.0px;\n   font-weight: normal;\n   font-style: normal;   \n}\n#dnFzdEp .tooltip-text {\n   fill: #474747;\n   font-family: Lucida Grande, sans-serif;\n   font-size: 13.0px;\n   font-weight: normal;\n   font-style: normal;   \n}\n#dnFzdEp .tooltip-title {\n   fill: #474747;\n   font-family: Lucida Grande, sans-serif;\n   font-size: 13.0px;\n   font-weight: bold;\n   font-style: normal;   \n}\n#dnFzdEp .tooltip-label {\n   fill: #474747;\n   font-family: Lucida Grande, sans-serif;\n   font-size: 13.0px;\n   font-weight: bold;\n   font-style: normal;   \n}\n\n  </style>\n  <g id=\"p35FmTh\">\n    <path fill-rule=\"evenodd\" fill=\"rgb(255,255,255)\" fill-opacity=\"1.0\" d=\"M0.0 0.0 L0.0 400.0 L600.0 400.0 L600.0 0.0 Z\">\n    </path>\n    <g transform=\"translate(23.0 10.0 ) \">\n      <g transform=\"translate(29.941816366404606 344.0 ) \">\n        <line x1=\"18.833734199948736\" y1=\"-0.0\" x2=\"18.833734199948736\" y2=\"-344.0\" stroke=\"rgb(233,233,233)\" stroke-opacity=\"1.0\" stroke-width=\"1.0\">\n        </line>\n        <line x1=\"102.06552007223172\" y1=\"-0.0\" x2=\"102.06552007223172\" y2=\"-344.0\" stroke=\"rgb(233,233,233)\" stroke-opacity=\"1.0\" stroke-width=\"1.0\">\n        </line>\n        <line x1=\"185.2973059445147\" y1=\"-0.0\" x2=\"185.2973059445147\" y2=\"-344.0\" stroke=\"rgb(233,233,233)\" stroke-opacity=\"1.0\" stroke-width=\"1.0\">\n        </line>\n        <line x1=\"268.5290918167977\" y1=\"-0.0\" x2=\"268.5290918167977\" y2=\"-344.0\" stroke=\"rgb(233,233,233)\" stroke-opacity=\"1.0\" stroke-width=\"1.0\">\n        </line>\n        <line x1=\"351.76087768908064\" y1=\"-0.0\" x2=\"351.76087768908064\" y2=\"-344.0\" stroke=\"rgb(233,233,233)\" stroke-opacity=\"1.0\" stroke-width=\"1.0\">\n        </line>\n        <line x1=\"434.99266356136366\" y1=\"-0.0\" x2=\"434.99266356136366\" y2=\"-344.0\" stroke=\"rgb(233,233,233)\" stroke-opacity=\"1.0\" stroke-width=\"1.0\">\n        </line>\n        <line x1=\"518.2244494336467\" y1=\"-0.0\" x2=\"518.2244494336467\" y2=\"-344.0\" stroke=\"rgb(233,233,233)\" stroke-opacity=\"1.0\" stroke-width=\"1.0\">\n        </line>\n        <g transform=\"translate(18.833734199948736 0.0 ) \">\n          <line stroke-width=\"1.0\" stroke=\"rgb(71,71,71)\" stroke-opacity=\"1.0\" x2=\"0.0\" y2=\"4.0\">\n          </line>\n          <g transform=\"translate(0.0 7.0 ) \">\n            <text class=\"axis-text-x\" text-anchor=\"middle\" dy=\"0.7em\">\n            -3\n            </text>\n          </g>\n        </g>\n        <g transform=\"translate(102.06552007223172 0.0 ) \">\n          <line stroke-width=\"1.0\" stroke=\"rgb(71,71,71)\" stroke-opacity=\"1.0\" x2=\"0.0\" y2=\"4.0\">\n          </line>\n          <g transform=\"translate(0.0 7.0 ) \">\n            <text class=\"axis-text-x\" text-anchor=\"middle\" dy=\"0.7em\">\n            -2\n            </text>\n          </g>\n        </g>\n        <g transform=\"translate(185.2973059445147 0.0 ) \">\n          <line stroke-width=\"1.0\" stroke=\"rgb(71,71,71)\" stroke-opacity=\"1.0\" x2=\"0.0\" y2=\"4.0\">\n          </line>\n          <g transform=\"translate(0.0 7.0 ) \">\n            <text class=\"axis-text-x\" text-anchor=\"middle\" dy=\"0.7em\">\n            -1\n            </text>\n          </g>\n        </g>\n        <g transform=\"translate(268.5290918167977 0.0 ) \">\n          <line stroke-width=\"1.0\" stroke=\"rgb(71,71,71)\" stroke-opacity=\"1.0\" x2=\"0.0\" y2=\"4.0\">\n          </line>\n          <g transform=\"translate(0.0 7.0 ) \">\n            <text class=\"axis-text-x\" text-anchor=\"middle\" dy=\"0.7em\">\n            0\n            </text>\n          </g>\n        </g>\n        <g transform=\"translate(351.76087768908064 0.0 ) \">\n          <line stroke-width=\"1.0\" stroke=\"rgb(71,71,71)\" stroke-opacity=\"1.0\" x2=\"0.0\" y2=\"4.0\">\n          </line>\n          <g transform=\"translate(0.0 7.0 ) \">\n            <text class=\"axis-text-x\" text-anchor=\"middle\" dy=\"0.7em\">\n            1\n            </text>\n          </g>\n        </g>\n        <g transform=\"translate(434.99266356136366 0.0 ) \">\n          <line stroke-width=\"1.0\" stroke=\"rgb(71,71,71)\" stroke-opacity=\"1.0\" x2=\"0.0\" y2=\"4.0\">\n          </line>\n          <g transform=\"translate(0.0 7.0 ) \">\n            <text class=\"axis-text-x\" text-anchor=\"middle\" dy=\"0.7em\">\n            2\n            </text>\n          </g>\n        </g>\n        <g transform=\"translate(518.2244494336467 0.0 ) \">\n          <line stroke-width=\"1.0\" stroke=\"rgb(71,71,71)\" stroke-opacity=\"1.0\" x2=\"0.0\" y2=\"4.0\">\n          </line>\n          <g transform=\"translate(0.0 7.0 ) \">\n            <text class=\"axis-text-x\" text-anchor=\"middle\" dy=\"0.7em\">\n            3\n            </text>\n          </g>\n        </g>\n        <line x1=\"0.0\" y1=\"0.0\" x2=\"537.0581836335954\" y2=\"0.0\" stroke-width=\"1.0\" stroke=\"rgb(71,71,71)\" stroke-opacity=\"1.0\">\n        </line>\n      </g>\n      <g transform=\"translate(29.941816366404606 0.0 ) \">\n        <line x1=\"0.0\" y1=\"303.55320399764844\" x2=\"537.0581836335954\" y2=\"303.55320399764844\" stroke=\"rgb(233,233,233)\" stroke-opacity=\"1.0\" stroke-width=\"1.0\">\n        </line>\n        <line x1=\"0.0\" y1=\"263.1064079952969\" x2=\"537.0581836335954\" y2=\"263.1064079952969\" stroke=\"rgb(233,233,233)\" stroke-opacity=\"1.0\" stroke-width=\"1.0\">\n        </line>\n        <line x1=\"0.0\" y1=\"222.65961199294532\" x2=\"537.0581836335954\" y2=\"222.65961199294532\" stroke=\"rgb(233,233,233)\" stroke-opacity=\"1.0\" stroke-width=\"1.0\">\n        </line>\n        <line x1=\"0.0\" y1=\"182.21281599059375\" x2=\"537.0581836335954\" y2=\"182.21281599059375\" stroke=\"rgb(233,233,233)\" stroke-opacity=\"1.0\" stroke-width=\"1.0\">\n        </line>\n        <line x1=\"0.0\" y1=\"141.7660199882422\" x2=\"537.0581836335954\" y2=\"141.7660199882422\" stroke=\"rgb(233,233,233)\" stroke-opacity=\"1.0\" stroke-width=\"1.0\">\n        </line>\n        <line x1=\"0.0\" y1=\"101.31922398589063\" x2=\"537.0581836335954\" y2=\"101.31922398589063\" stroke=\"rgb(233,233,233)\" stroke-opacity=\"1.0\" stroke-width=\"1.0\">\n        </line>\n        <line x1=\"0.0\" y1=\"60.87242798353907\" x2=\"537.0581836335954\" y2=\"60.87242798353907\" stroke=\"rgb(233,233,233)\" stroke-opacity=\"1.0\" stroke-width=\"1.0\">\n        </line>\n        <line x1=\"0.0\" y1=\"20.425631981187507\" x2=\"537.0581836335954\" y2=\"20.425631981187507\" stroke=\"rgb(233,233,233)\" stroke-opacity=\"1.0\" stroke-width=\"1.0\">\n        </line>\n        <g transform=\"translate(0.0 344.0 ) \">\n          <g transform=\"translate(-3.0 0.0 ) \">\n            <text class=\"axis-text-y\" text-anchor=\"end\" dy=\"0.35em\">\n            0\n            </text>\n          </g>\n        </g>\n        <g transform=\"translate(0.0 303.55320399764844 ) \">\n          <g transform=\"translate(-3.0 0.0 ) \">\n            <text class=\"axis-text-y\" text-anchor=\"end\" dy=\"0.35em\">\n            20\n            </text>\n          </g>\n        </g>\n        <g transform=\"translate(0.0 263.1064079952969 ) \">\n          <g transform=\"translate(-3.0 0.0 ) \">\n            <text class=\"axis-text-y\" text-anchor=\"end\" dy=\"0.35em\">\n            40\n            </text>\n          </g>\n        </g>\n        <g transform=\"translate(0.0 222.65961199294532 ) \">\n          <g transform=\"translate(-3.0 0.0 ) \">\n            <text class=\"axis-text-y\" text-anchor=\"end\" dy=\"0.35em\">\n            60\n            </text>\n          </g>\n        </g>\n        <g transform=\"translate(0.0 182.21281599059375 ) \">\n          <g transform=\"translate(-3.0 0.0 ) \">\n            <text class=\"axis-text-y\" text-anchor=\"end\" dy=\"0.35em\">\n            80\n            </text>\n          </g>\n        </g>\n        <g transform=\"translate(0.0 141.7660199882422 ) \">\n          <g transform=\"translate(-3.0 0.0 ) \">\n            <text class=\"axis-text-y\" text-anchor=\"end\" dy=\"0.35em\">\n            100\n            </text>\n          </g>\n        </g>\n        <g transform=\"translate(0.0 101.31922398589063 ) \">\n          <g transform=\"translate(-3.0 0.0 ) \">\n            <text class=\"axis-text-y\" text-anchor=\"end\" dy=\"0.35em\">\n            120\n            </text>\n          </g>\n        </g>\n        <g transform=\"translate(0.0 60.87242798353907 ) \">\n          <g transform=\"translate(-3.0 0.0 ) \">\n            <text class=\"axis-text-y\" text-anchor=\"end\" dy=\"0.35em\">\n            140\n            </text>\n          </g>\n        </g>\n        <g transform=\"translate(0.0 20.425631981187507 ) \">\n          <g transform=\"translate(-3.0 0.0 ) \">\n            <text class=\"axis-text-y\" text-anchor=\"end\" dy=\"0.35em\">\n            160\n            </text>\n          </g>\n        </g>\n      </g>\n      <g transform=\"translate(29.941816366404606 0.0 ) \" clip-path=\"url(#cVAo1oR)\" clip-bounds-jfx=\"[rect (0.0, 0.0), (537.0581836335954, 344.0)]\">\n        <defs>\n          <clipPath id=\"cVAo1oR\">\n            <rect x=\"0.0\" y=\"0.0\" width=\"537.0581836335954\" height=\"344.0\">\n            </rect>\n          </clipPath>\n        </defs>\n        <rect x=\"489.3971759951162\" y=\"335.9106407995297\" height=\"8.089359200470312\" width=\"23.249272018770398\" stroke=\"rgb(59,162,114)\" stroke-opacity=\"1.0\" fill=\"rgb(238,102,102)\" fill-opacity=\"0.5\" stroke-width=\"1.1\">\n        </rect>\n        <rect x=\"456.18393025401565\" y=\"329.843621399177\" height=\"14.156378600823018\" width=\"23.249272018770284\" stroke=\"rgb(59,162,114)\" stroke-opacity=\"1.0\" fill=\"rgb(238,102,102)\" fill-opacity=\"0.5\" stroke-width=\"1.1\">\n        </rect>\n        <rect x=\"422.9706845129151\" y=\"299.5085243974133\" height=\"44.49147560258672\" width=\"23.249272018770398\" stroke=\"rgb(59,162,114)\" stroke-opacity=\"1.0\" fill=\"rgb(238,102,102)\" fill-opacity=\"0.5\" stroke-width=\"1.1\">\n        </rect>\n        <rect x=\"389.75743877181463\" y=\"234.79365079365078\" height=\"109.20634920634922\" width=\"23.24927201877034\" stroke=\"rgb(59,162,114)\" stroke-opacity=\"1.0\" fill=\"rgb(238,102,102)\" fill-opacity=\"0.5\" stroke-width=\"1.1\">\n        </rect>\n        <rect x=\"356.5441930307141\" y=\"176.14579659024102\" height=\"167.85420340975898\" width=\"23.24927201877034\" stroke=\"rgb(59,162,114)\" stroke-opacity=\"1.0\" fill=\"rgb(238,102,102)\" fill-opacity=\"0.5\" stroke-width=\"1.1\">\n        </rect>\n        <rect x=\"323.33094728961356\" y=\"85.14050558495\" height=\"258.85949441505\" width=\"23.24927201877034\" stroke=\"rgb(59,162,114)\" stroke-opacity=\"1.0\" fill=\"rgb(238,102,102)\" fill-opacity=\"0.5\" stroke-width=\"1.1\">\n        </rect>\n        <rect x=\"290.1177015485131\" y=\"16.38095238095235\" height=\"327.61904761904765\" width=\"23.24927201877034\" stroke=\"rgb(59,162,114)\" stroke-opacity=\"1.0\" fill=\"rgb(238,102,102)\" fill-opacity=\"0.5\" stroke-width=\"1.1\">\n        </rect>\n        <rect x=\"256.90445580741255\" y=\"46.71604938271605\" height=\"297.28395061728395\" width=\"23.24927201877034\" stroke=\"rgb(59,162,114)\" stroke-opacity=\"1.0\" fill=\"rgb(238,102,102)\" fill-opacity=\"0.5\" stroke-width=\"1.1\">\n        </rect>\n        <rect x=\"223.691210066312\" y=\"95.2522045855379\" height=\"248.7477954144621\" width=\"23.24927201877034\" stroke=\"rgb(59,162,114)\" stroke-opacity=\"1.0\" fill=\"rgb(238,102,102)\" fill-opacity=\"0.5\" stroke-width=\"1.1\">\n        </rect>\n        <rect x=\"190.4779643252115\" y=\"97.27454438565547\" height=\"246.72545561434453\" width=\"23.24927201877034\" stroke=\"rgb(59,162,114)\" stroke-opacity=\"1.0\" fill=\"rgb(238,102,102)\" fill-opacity=\"0.5\" stroke-width=\"1.1\">\n        </rect>\n        <rect x=\"157.264718584111\" y=\"190.30217519106407\" height=\"153.69782480893593\" width=\"23.24927201877034\" stroke=\"rgb(59,162,114)\" stroke-opacity=\"1.0\" fill=\"rgb(238,102,102)\" fill-opacity=\"0.5\" stroke-width=\"1.1\">\n        </rect>\n        <rect x=\"124.05147284301046\" y=\"279.2851263962375\" height=\"64.7148736037625\" width=\"23.24927201877034\" stroke=\"rgb(59,162,114)\" stroke-opacity=\"1.0\" fill=\"rgb(238,102,102)\" fill-opacity=\"0.5\" stroke-width=\"1.1\">\n        </rect>\n        <rect x=\"90.83822710190995\" y=\"289.3968253968254\" height=\"54.60317460317458\" width=\"23.24927201877034\" stroke=\"rgb(59,162,114)\" stroke-opacity=\"1.0\" fill=\"rgb(238,102,102)\" fill-opacity=\"0.5\" stroke-width=\"1.1\">\n        </rect>\n        <rect x=\"57.62498136080944\" y=\"327.8212815990594\" height=\"16.178718400940625\" width=\"23.24927201877037\" stroke=\"rgb(59,162,114)\" stroke-opacity=\"1.0\" fill=\"rgb(238,102,102)\" fill-opacity=\"0.5\" stroke-width=\"1.1\">\n        </rect>\n        <rect x=\"24.411735619708907\" y=\"333.8883009994121\" height=\"10.111699000587919\" width=\"23.24927201877034\" stroke=\"rgb(59,162,114)\" stroke-opacity=\"1.0\" fill=\"rgb(238,102,102)\" fill-opacity=\"0.5\" stroke-width=\"1.1\">\n        </rect>\n      </g>\n    </g>\n    <g transform=\"translate(14.5 182.0 ) rotate(-90.0 ) \">\n      <text class=\"axis-title-y\" y=\"0.0\" text-anchor=\"middle\">\n      count\n      </text>\n    </g>\n    <g transform=\"translate(321.4709081832023 391.5 ) \">\n      <text class=\"axis-title-x\" y=\"0.0\" text-anchor=\"middle\">\n      x\n      </text>\n    </g>\n    <path fill=\"rgb(0,0,0)\" fill-opacity=\"0.0\" stroke=\"rgb(71,71,71)\" stroke-opacity=\"1.0\" stroke-width=\"0.0\" d=\"M0.0 0.0 L0.0 400.0 L600.0 400.0 L600.0 0.0 Z\">\n    </path>\n  </g>\n  <g id=\"dnFzdEp\">\n  </g>\n</svg>\n        <script>document.getElementById(\"464f596b-e597-4443-bf53-b4dce83acb64\").style.display = \"none\";</script>",
      "application/plot+json": {
       "output_type": "lets_plot_spec",
       "output": {
        "mapping": {},
        "data": {},
        "kind": "plot",
        "scales": [
         {
          "aesthetic": "x",
          "name": "x",
          "limits": [
           null,
           null
          ]
         },
         {
          "aesthetic": "x",
          "limits": [
           null,
           null
          ]
         },
         {
          "aesthetic": "y",
          "limits": [
           null,
           null
          ]
         }
        ],
        "layers": [
         {
          "mapping": {
           "x": "x",
           "y": "count"
          },
          "stat": "identity",
          "data": {
           "x": [
            -2.7933166,
            -2.3942714,
            -1.995226,
            -1.5961808,
            -1.1971357,
            -0.7980904,
            -0.3990452,
            2.220446E-16,
            0.3990452,
            0.7980904,
            1.1971357,
            1.5961808,
            1.995226,
            2.3942714,
            2.7933166
           ],
           "count": [
            5.0,
            8.0,
            27.0,
            32.0,
            76.0,
            122.0,
            123.0,
            147.0,
            162.0,
            128.0,
            83.0,
            54.0,
            22.0,
            7.0,
            4.0
           ]
          },
          "color": "#3ba272",
          "size": 0.5,
          "sampling": "none",
          "alpha": 0.5,
          "width": 0.7,
          "position": "identity",
          "geom": "bar",
          "fill": "#ee6666"
         }
        ]
       },
       "apply_color_scheme": true,
       "swing_enabled": true
      }
     },
     "execution_count": 5,
     "metadata": {},
     "output_type": "execute_result"
    }
   ],
   "source": [
    "val random = java.util.Random(42)\n",
    "\n",
    "val sample = List(1000) {random.nextGaussian()}\n",
    "\n",
    "plot { \n",
    "    histogram(sample, binsOption = BinsOption.byNumber(15)) {\n",
    "        width = 0.7\n",
    "        alpha = 0.5\n",
    "        fillColor = Color.RED\n",
    "        borderLine {\n",
    "            color = Color.GREEN\n",
    "            width = 0.5\n",
    "        }\n",
    "    }\n",
    "}"
   ],
   "metadata": {
    "collapsed": false,
    "ExecuteTime": {
     "end_time": "2023-11-21T09:47:22.256249Z",
     "start_time": "2023-11-21T09:47:21.996755Z"
    }
   }
  }
 ],
 "metadata": {
  "kernelspec": {
   "display_name": "Kotlin",
   "language": "kotlin",
   "name": "kotlin"
  },
  "language_info": {
   "name": "kotlin",
   "version": "1.9.0",
   "mimetype": "text/x-kotlin",
   "file_extension": ".kt",
   "pygments_lexer": "kotlin",
   "codemirror_mode": "text/x-kotlin",
   "nbconvert_exporter": ""
  },
  "ktnbPluginMetadata": {
   "projectLibraries": []
  }
 },
 "nbformat": 4,
 "nbformat_minor": 0
}
