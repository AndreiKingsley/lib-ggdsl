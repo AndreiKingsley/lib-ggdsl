{
 "cells": [
  {
   "cell_type": "code",
   "execution_count": 1,
   "metadata": {
    "collapsed": true,
    "ExecuteTime": {
     "end_time": "2023-11-21T12:00:20.635287Z",
     "start_time": "2023-11-21T12:00:08.861761Z"
    }
   },
   "outputs": [],
   "source": [
    "%useLatestDescriptors\n",
    "%use kandy"
   ]
  },
  {
   "cell_type": "code",
   "execution_count": 2,
   "outputs": [
    {
     "data": {
      "text/html": "            <iframe src='about:blank' style='border:none !important;' width='600' height='400' srcdoc=\"&lt;html lang=&quot;en&quot;>\n   &lt;head>\n       &lt;style> html, body { margin: 0; overflow: hidden; } &lt;/style>\n       &lt;script type=&quot;text/javascript&quot; data-lets-plot-script=&quot;library&quot; src=&quot;https://cdn.jsdelivr.net/gh/JetBrains/lets-plot@v4.0.1/js-package/distr/lets-plot.min.js&quot;>&lt;/script>\n   &lt;/head>\n   &lt;body>\n          &lt;div id=&quot;0L2YJe&quot;>&lt;/div>\n   &lt;script type=&quot;text/javascript&quot; data-lets-plot-script=&quot;plot&quot;>\n       var plotSpec={\n&quot;mapping&quot;:{\n},\n&quot;data&quot;:{\n},\n&quot;kind&quot;:&quot;plot&quot;,\n&quot;scales&quot;:[{\n&quot;aesthetic&quot;:&quot;x&quot;,\n&quot;name&quot;:&quot;x&quot;,\n&quot;limits&quot;:[null,null]\n},{\n&quot;aesthetic&quot;:&quot;y&quot;,\n&quot;name&quot;:&quot;y&quot;,\n&quot;limits&quot;:[null,null]\n},{\n&quot;aesthetic&quot;:&quot;x&quot;,\n&quot;discrete&quot;:true\n},{\n&quot;aesthetic&quot;:&quot;y&quot;,\n&quot;discrete&quot;:true\n},{\n&quot;aesthetic&quot;:&quot;fill&quot;,\n&quot;scale_mapper_kind&quot;:&quot;color_gradient&quot;,\n&quot;limits&quot;:[null,null]\n}],\n&quot;layers&quot;:[{\n&quot;mapping&quot;:{\n&quot;x&quot;:&quot;x&quot;,\n&quot;y&quot;:&quot;y&quot;,\n&quot;fill&quot;:&quot;count&quot;\n},\n&quot;stat&quot;:&quot;identity&quot;,\n&quot;data&quot;:{\n&quot;x&quot;:[&quot;Paphos&quot;,&quot;Yerevan&quot;,&quot;Yerevan&quot;,&quot;Amsterdam&quot;,&quot;Amsterdam&quot;,&quot;Yerevan&quot;,&quot;Amsterdam&quot;,&quot;Berlin&quot;,&quot;Paphos&quot;,&quot;Berlin&quot;,&quot;Berlin&quot;,&quot;Paphos&quot;],\n&quot;count&quot;:[99.0,78.0,72.0,71.0,74.0,77.0,89.0,98.0,79.0,85.0,90.0,88.0],\n&quot;y&quot;:[&quot;10pm&quot;,&quot;6pm&quot;,&quot;10pm&quot;,&quot;4am&quot;,&quot;6pm&quot;,&quot;4am&quot;,&quot;10pm&quot;,&quot;6pm&quot;,&quot;4am&quot;,&quot;4am&quot;,&quot;10pm&quot;,&quot;6pm&quot;]\n},\n&quot;sampling&quot;:&quot;none&quot;,\n&quot;position&quot;:&quot;identity&quot;,\n&quot;geom&quot;:&quot;tile&quot;\n}]\n};\n       var plotContainer = document.getElementById(&quot;0L2YJe&quot;);\n       LetsPlot.buildPlotFromProcessedSpecs(plotSpec, -1, -1, plotContainer);\n   &lt;/script>\n   &lt;/body>\n&lt;/html>\"></iframe>            \n        <svg id=20897f06-a6aa-4d90-8290-350e4f3ee0ac xmlns=\"http://www.w3.org/2000/svg\" xmlns:xlink=\"http://www.w3.org/1999/xlink\" class=\"plt-container\" width=\"600.0\" height=\"400.0\">\n  <style type=\"text/css\">\n  .plt-container {\n   font-family: Lucida Grande, sans-serif;\n   user-select: none;\n   -webkit-user-select: none;\n   -moz-user-select: none;\n   -ms-user-select: none;\n}\ntext {\n   text-rendering: optimizeLegibility;\n}\n#pDRIDUq .plot-title {\n   fill: #474747;\n   font-family: Lucida Grande, sans-serif;\n   font-size: 16.0px;\n   font-weight: normal;\n   font-style: normal;   \n}\n#pDRIDUq .plot-subtitle {\n   fill: #474747;\n   font-family: Lucida Grande, sans-serif;\n   font-size: 15.0px;\n   font-weight: normal;\n   font-style: normal;   \n}\n#pDRIDUq .plot-caption {\n   fill: #474747;\n   font-family: Lucida Grande, sans-serif;\n   font-size: 13.0px;\n   font-weight: normal;\n   font-style: normal;   \n}\n#pDRIDUq .legend-title {\n   fill: #474747;\n   font-family: Lucida Grande, sans-serif;\n   font-size: 15.0px;\n   font-weight: normal;\n   font-style: normal;   \n}\n#pDRIDUq .legend-item {\n   fill: #474747;\n   font-family: Lucida Grande, sans-serif;\n   font-size: 13.0px;\n   font-weight: normal;\n   font-style: normal;   \n}\n#pDRIDUq .axis-title-x {\n   fill: #474747;\n   font-family: Lucida Grande, sans-serif;\n   font-size: 15.0px;\n   font-weight: normal;\n   font-style: normal;   \n}\n#pDRIDUq .axis-text-x {\n   fill: #474747;\n   font-family: Lucida Grande, sans-serif;\n   font-size: 13.0px;\n   font-weight: normal;\n   font-style: normal;   \n}\n#dfm8gB4 .axis-tooltip-text-x {\n   fill: #ffffff;\n   font-family: Lucida Grande, sans-serif;\n   font-size: 13.0px;\n   font-weight: normal;\n   font-style: normal;   \n}\n#pDRIDUq .axis-title-y {\n   fill: #474747;\n   font-family: Lucida Grande, sans-serif;\n   font-size: 15.0px;\n   font-weight: normal;\n   font-style: normal;   \n}\n#pDRIDUq .axis-text-y {\n   fill: #474747;\n   font-family: Lucida Grande, sans-serif;\n   font-size: 13.0px;\n   font-weight: normal;\n   font-style: normal;   \n}\n#dfm8gB4 .axis-tooltip-text-y {\n   fill: #ffffff;\n   font-family: Lucida Grande, sans-serif;\n   font-size: 13.0px;\n   font-weight: normal;\n   font-style: normal;   \n}\n#pDRIDUq .facet-strip-text-x {\n   fill: #474747;\n   font-family: Lucida Grande, sans-serif;\n   font-size: 13.0px;\n   font-weight: normal;\n   font-style: normal;   \n}\n#pDRIDUq .facet-strip-text-y {\n   fill: #474747;\n   font-family: Lucida Grande, sans-serif;\n   font-size: 13.0px;\n   font-weight: normal;\n   font-style: normal;   \n}\n#dfm8gB4 .tooltip-text {\n   fill: #474747;\n   font-family: Lucida Grande, sans-serif;\n   font-size: 13.0px;\n   font-weight: normal;\n   font-style: normal;   \n}\n#dfm8gB4 .tooltip-title {\n   fill: #474747;\n   font-family: Lucida Grande, sans-serif;\n   font-size: 13.0px;\n   font-weight: bold;\n   font-style: normal;   \n}\n#dfm8gB4 .tooltip-label {\n   fill: #474747;\n   font-family: Lucida Grande, sans-serif;\n   font-size: 13.0px;\n   font-weight: bold;\n   font-style: normal;   \n}\n\n  </style>\n  <g id=\"pDRIDUq\">\n    <path fill-rule=\"evenodd\" fill=\"rgb(255,255,255)\" fill-opacity=\"1.0\" d=\"M0.0 0.0 L0.0 400.0 L600.0 400.0 L600.0 0.0 Z\">\n    </path>\n    <g transform=\"translate(31.782359964725288 10.0 ) \">\n      <g transform=\"translate(41.307295843643615 344.0 ) \">\n        <line x1=\"70.8235294117647\" y1=\"-0.0\" x2=\"70.8235294117647\" y2=\"-344.0\" stroke=\"rgb(233,233,233)\" stroke-opacity=\"1.0\" stroke-width=\"1.0\">\n        </line>\n        <line x1=\"172.0\" y1=\"-0.0\" x2=\"172.0\" y2=\"-344.0\" stroke=\"rgb(233,233,233)\" stroke-opacity=\"1.0\" stroke-width=\"1.0\">\n        </line>\n        <line x1=\"273.17647058823525\" y1=\"-0.0\" x2=\"273.17647058823525\" y2=\"-344.0\" stroke=\"rgb(233,233,233)\" stroke-opacity=\"1.0\" stroke-width=\"1.0\">\n        </line>\n        <line x1=\"374.35294117647055\" y1=\"-0.0\" x2=\"374.35294117647055\" y2=\"-344.0\" stroke=\"rgb(233,233,233)\" stroke-opacity=\"1.0\" stroke-width=\"1.0\">\n        </line>\n        <g transform=\"translate(70.8235294117647 0.0 ) \">\n          <line stroke-width=\"1.0\" stroke=\"rgb(71,71,71)\" stroke-opacity=\"1.0\" x2=\"0.0\" y2=\"4.0\">\n          </line>\n          <g transform=\"translate(0.0 7.0 ) \">\n            <text class=\"axis-text-x\" text-anchor=\"middle\" dy=\"0.7em\">\n            Paphos\n            </text>\n          </g>\n        </g>\n        <g transform=\"translate(172.0 0.0 ) \">\n          <line stroke-width=\"1.0\" stroke=\"rgb(71,71,71)\" stroke-opacity=\"1.0\" x2=\"0.0\" y2=\"4.0\">\n          </line>\n          <g transform=\"translate(0.0 7.0 ) \">\n            <text class=\"axis-text-x\" text-anchor=\"middle\" dy=\"0.7em\">\n            Yerevan\n            </text>\n          </g>\n        </g>\n        <g transform=\"translate(273.17647058823525 0.0 ) \">\n          <line stroke-width=\"1.0\" stroke=\"rgb(71,71,71)\" stroke-opacity=\"1.0\" x2=\"0.0\" y2=\"4.0\">\n          </line>\n          <g transform=\"translate(0.0 7.0 ) \">\n            <text class=\"axis-text-x\" text-anchor=\"middle\" dy=\"0.7em\">\n            Amsterdam\n            </text>\n          </g>\n        </g>\n        <g transform=\"translate(374.35294117647055 0.0 ) \">\n          <line stroke-width=\"1.0\" stroke=\"rgb(71,71,71)\" stroke-opacity=\"1.0\" x2=\"0.0\" y2=\"4.0\">\n          </line>\n          <g transform=\"translate(0.0 7.0 ) \">\n            <text class=\"axis-text-x\" text-anchor=\"middle\" dy=\"0.7em\">\n            Berlin\n            </text>\n          </g>\n        </g>\n        <line x1=\"0.0\" y1=\"0.0\" x2=\"445.1764705882353\" y2=\"0.0\" stroke-width=\"1.0\" stroke=\"rgb(71,71,71)\" stroke-opacity=\"1.0\">\n        </line>\n      </g>\n      <g transform=\"translate(41.307295843643615 0.0 ) \">\n        <line x1=\"0.0\" y1=\"273.1764705882353\" x2=\"445.1764705882353\" y2=\"273.1764705882353\" stroke=\"rgb(233,233,233)\" stroke-opacity=\"1.0\" stroke-width=\"1.0\">\n        </line>\n        <line x1=\"0.0\" y1=\"172.0\" x2=\"445.1764705882353\" y2=\"172.0\" stroke=\"rgb(233,233,233)\" stroke-opacity=\"1.0\" stroke-width=\"1.0\">\n        </line>\n        <line x1=\"0.0\" y1=\"70.82352941176472\" x2=\"445.1764705882353\" y2=\"70.82352941176472\" stroke=\"rgb(233,233,233)\" stroke-opacity=\"1.0\" stroke-width=\"1.0\">\n        </line>\n        <g transform=\"translate(0.0 273.1764705882353 ) \">\n          <g transform=\"translate(-3.0 0.0 ) \">\n            <text class=\"axis-text-y\" text-anchor=\"end\" dy=\"0.35em\">\n            10pm\n            </text>\n          </g>\n        </g>\n        <g transform=\"translate(0.0 172.0 ) \">\n          <g transform=\"translate(-3.0 0.0 ) \">\n            <text class=\"axis-text-y\" text-anchor=\"end\" dy=\"0.35em\">\n            6pm\n            </text>\n          </g>\n        </g>\n        <g transform=\"translate(0.0 70.82352941176472 ) \">\n          <g transform=\"translate(-3.0 0.0 ) \">\n            <text class=\"axis-text-y\" text-anchor=\"end\" dy=\"0.35em\">\n            4am\n            </text>\n          </g>\n        </g>\n      </g>\n      <g transform=\"translate(41.307295843643615 0.0 ) \" clip-path=\"url(#cA2UFmL)\" clip-bounds-jfx=\"[rect (0.0, 0.0), (445.1764705882353, 344.0)]\">\n        <defs>\n          <clipPath id=\"cA2UFmL\">\n            <rect x=\"0.0\" y=\"0.0\" width=\"445.1764705882353\" height=\"344.0\">\n            </rect>\n          </clipPath>\n        </defs>\n        <g>\n          \n          <g >\n            <rect fill=\"#57b1f7\" stroke=\"#ffffff\" stroke-width=\"0.0\" x=\"20.23529411764705\" y=\"222.58823529411765\" height=\"101.17647058823528\" width=\"101.1764705882353\" />\n            <rect fill=\"#214a70\" stroke=\"#ffffff\" stroke-width=\"0.0\" x=\"121.41176470588235\" y=\"121.41176470588238\" height=\"101.17647058823528\" width=\"101.17647058823528\" />\n            <rect fill=\"#152f49\" stroke=\"#ffffff\" stroke-width=\"0.0\" x=\"121.41176470588235\" y=\"222.58823529411765\" height=\"101.17647058823528\" width=\"101.17647058823528\" />\n            <rect fill=\"#132a42\" stroke=\"#ffffff\" stroke-width=\"0.0\" x=\"222.58823529411762\" y=\"20.235294117647072\" height=\"101.1764705882353\" width=\"101.1764705882353\" />\n            <rect fill=\"#193856\" stroke=\"#ffffff\" stroke-width=\"0.0\" x=\"222.58823529411762\" y=\"121.41176470588238\" height=\"101.17647058823528\" width=\"101.1764705882353\" />\n            <rect fill=\"#1f4569\" stroke=\"#ffffff\" stroke-width=\"0.0\" x=\"121.41176470588235\" y=\"20.235294117647072\" height=\"101.1764705882353\" width=\"101.17647058823528\" />\n            <rect fill=\"#3b7eb7\" stroke=\"#ffffff\" stroke-width=\"0.0\" x=\"222.58823529411762\" y=\"222.58823529411765\" height=\"101.17647058823528\" width=\"101.1764705882353\" />\n            <rect fill=\"#54acf1\" stroke=\"#ffffff\" stroke-width=\"0.0\" x=\"323.7647058823529\" y=\"121.41176470588238\" height=\"101.17647058823528\" width=\"101.1764705882353\" />\n            <rect fill=\"#234e76\" stroke=\"#ffffff\" stroke-width=\"0.0\" x=\"20.23529411764705\" y=\"20.235294117647072\" height=\"101.1764705882353\" width=\"101.1764705882353\" />\n            <rect fill=\"#316b9d\" stroke=\"#ffffff\" stroke-width=\"0.0\" x=\"323.7647058823529\" y=\"20.235294117647072\" height=\"101.1764705882353\" width=\"101.1764705882353\" />\n            <rect fill=\"#3e83bd\" stroke=\"#ffffff\" stroke-width=\"0.0\" x=\"323.7647058823529\" y=\"222.58823529411765\" height=\"101.17647058823528\" width=\"101.1764705882353\" />\n            <rect fill=\"#3979b0\" stroke=\"#ffffff\" stroke-width=\"0.0\" x=\"20.23529411764705\" y=\"121.41176470588238\" height=\"101.17647058823528\" width=\"101.1764705882353\" />\n          </g>\n        </g>\n      </g>\n    </g>\n    <g transform=\"translate(23.282359964725288 182.0 ) rotate(-90.0 ) \">\n      <text class=\"axis-title-y\" y=\"0.0\" text-anchor=\"middle\">\n      y\n      </text>\n    </g>\n    <g transform=\"translate(295.67789110248657 391.5 ) \">\n      <text class=\"axis-title-x\" y=\"0.0\" text-anchor=\"middle\">\n      x\n      </text>\n    </g>\n    <g transform=\"translate(528.2661263966042 103.25 ) \">\n      <rect x=\"5.0\" y=\"5.0\" height=\"147.5\" width=\"52.951513638670505\" stroke=\"rgb(71,71,71)\" stroke-opacity=\"1.0\" stroke-width=\"0.0\" fill=\"rgb(255,255,255)\" fill-opacity=\"1.0\">\n      </rect>\n      <g transform=\"translate(10.0 10.0 ) \">\n        <g transform=\"translate(0.0 10.5 ) \">\n          <text class=\"legend-title\" y=\"0.0\">\n          count\n          </text>\n        </g>\n        <g transform=\"translate(0.0 22.5 ) \">\n          <g>\n            <rect x=\"0.0\" y=\"0.0\" height=\"115.0\" width=\"23.0\" stroke-width=\"0.0\" fill=\"rgb(85,174,243)\" fill-opacity=\"1.0\">\n            </rect>\n            <rect x=\"0.0\" y=\"7.55\" height=\"107.45\" width=\"23.0\" stroke-width=\"0.0\" fill=\"rgb(81,166,234)\" fill-opacity=\"1.0\">\n            </rect>\n            <rect x=\"0.0\" y=\"13.1\" height=\"101.9\" width=\"23.0\" stroke-width=\"0.0\" fill=\"rgb(77,159,225)\" fill-opacity=\"1.0\">\n            </rect>\n            <rect x=\"0.0\" y=\"18.65\" height=\"96.35\" width=\"23.0\" stroke-width=\"0.0\" fill=\"rgb(73,152,216)\" fill-opacity=\"1.0\">\n            </rect>\n            <rect x=\"0.0\" y=\"24.2\" height=\"90.8\" width=\"23.0\" stroke-width=\"0.0\" fill=\"rgb(69,145,207)\" fill-opacity=\"1.0\">\n            </rect>\n            <rect x=\"0.0\" y=\"29.75\" height=\"85.25\" width=\"23.0\" stroke-width=\"0.0\" fill=\"rgb(65,138,198)\" fill-opacity=\"1.0\">\n            </rect>\n            <rect x=\"0.0\" y=\"35.3\" height=\"79.7\" width=\"23.0\" stroke-width=\"0.0\" fill=\"rgb(62,131,189)\" fill-opacity=\"1.0\">\n            </rect>\n            <rect x=\"0.0\" y=\"40.849999999999994\" height=\"74.15\" width=\"23.0\" stroke-width=\"0.0\" fill=\"rgb(58,124,179)\" fill-opacity=\"1.0\">\n            </rect>\n            <rect x=\"0.0\" y=\"46.39999999999999\" height=\"68.60000000000001\" width=\"23.0\" stroke-width=\"0.0\" fill=\"rgb(55,117,170)\" fill-opacity=\"1.0\">\n            </rect>\n            <rect x=\"0.0\" y=\"51.94999999999999\" height=\"63.05000000000001\" width=\"23.0\" stroke-width=\"0.0\" fill=\"rgb(51,110,161)\" fill-opacity=\"1.0\">\n            </rect>\n            <rect x=\"0.0\" y=\"57.499999999999986\" height=\"57.500000000000014\" width=\"23.0\" stroke-width=\"0.0\" fill=\"rgb(48,103,152)\" fill-opacity=\"1.0\">\n            </rect>\n            <rect x=\"0.0\" y=\"63.04999999999998\" height=\"51.95000000000002\" width=\"23.0\" stroke-width=\"0.0\" fill=\"rgb(44,97,143)\" fill-opacity=\"1.0\">\n            </rect>\n            <rect x=\"0.0\" y=\"68.59999999999998\" height=\"46.40000000000002\" width=\"23.0\" stroke-width=\"0.0\" fill=\"rgb(41,90,134)\" fill-opacity=\"1.0\">\n            </rect>\n            <rect x=\"0.0\" y=\"74.14999999999998\" height=\"40.85000000000002\" width=\"23.0\" stroke-width=\"0.0\" fill=\"rgb(38,83,125)\" fill-opacity=\"1.0\">\n            </rect>\n            <rect x=\"0.0\" y=\"79.69999999999997\" height=\"35.300000000000026\" width=\"23.0\" stroke-width=\"0.0\" fill=\"rgb(35,77,116)\" fill-opacity=\"1.0\">\n            </rect>\n            <rect x=\"0.0\" y=\"85.24999999999997\" height=\"29.75000000000003\" width=\"23.0\" stroke-width=\"0.0\" fill=\"rgb(32,70,107)\" fill-opacity=\"1.0\">\n            </rect>\n            <rect x=\"0.0\" y=\"90.79999999999997\" height=\"24.20000000000003\" width=\"23.0\" stroke-width=\"0.0\" fill=\"rgb(29,64,98)\" fill-opacity=\"1.0\">\n            </rect>\n            <rect x=\"0.0\" y=\"96.34999999999997\" height=\"18.650000000000034\" width=\"23.0\" stroke-width=\"0.0\" fill=\"rgb(26,58,89)\" fill-opacity=\"1.0\">\n            </rect>\n            <rect x=\"0.0\" y=\"101.89999999999996\" height=\"13.100000000000037\" width=\"23.0\" stroke-width=\"0.0\" fill=\"rgb(23,52,80)\" fill-opacity=\"1.0\">\n            </rect>\n            <rect x=\"0.0\" y=\"107.44999999999996\" height=\"7.55000000000004\" width=\"23.0\" stroke-width=\"0.0\" fill=\"rgb(20,45,71)\" fill-opacity=\"1.0\">\n            </rect>\n            <line x1=\"0.0\" y1=\"97.14285714285717\" x2=\"4.6\" y2=\"97.14285714285717\" stroke-width=\"1.0\" stroke=\"rgb(255,255,255)\" stroke-opacity=\"1.0\">\n            </line>\n            <line x1=\"18.4\" y1=\"97.14285714285717\" x2=\"23.0\" y2=\"97.14285714285717\" stroke-width=\"1.0\" stroke=\"rgb(255,255,255)\" stroke-opacity=\"1.0\">\n            </line>\n            <g transform=\"translate(26.9903027277341 101.69285714285716 ) \">\n              <text class=\"legend-item\" y=\"0.0\">\n              75\n              </text>\n            </g>\n            <line x1=\"0.0\" y1=\"77.32142857142856\" x2=\"4.6\" y2=\"77.32142857142856\" stroke-width=\"1.0\" stroke=\"rgb(255,255,255)\" stroke-opacity=\"1.0\">\n            </line>\n            <line x1=\"18.4\" y1=\"77.32142857142856\" x2=\"23.0\" y2=\"77.32142857142856\" stroke-width=\"1.0\" stroke=\"rgb(255,255,255)\" stroke-opacity=\"1.0\">\n            </line>\n            <g transform=\"translate(26.9903027277341 81.87142857142855 ) \">\n              <text class=\"legend-item\" y=\"0.0\">\n              80\n              </text>\n            </g>\n            <line x1=\"0.0\" y1=\"57.5\" x2=\"4.6\" y2=\"57.5\" stroke-width=\"1.0\" stroke=\"rgb(255,255,255)\" stroke-opacity=\"1.0\">\n            </line>\n            <line x1=\"18.4\" y1=\"57.5\" x2=\"23.0\" y2=\"57.5\" stroke-width=\"1.0\" stroke=\"rgb(255,255,255)\" stroke-opacity=\"1.0\">\n            </line>\n            <g transform=\"translate(26.9903027277341 62.05 ) \">\n              <text class=\"legend-item\" y=\"0.0\">\n              85\n              </text>\n            </g>\n            <line x1=\"0.0\" y1=\"37.678571428571445\" x2=\"4.6\" y2=\"37.678571428571445\" stroke-width=\"1.0\" stroke=\"rgb(255,255,255)\" stroke-opacity=\"1.0\">\n            </line>\n            <line x1=\"18.4\" y1=\"37.678571428571445\" x2=\"23.0\" y2=\"37.678571428571445\" stroke-width=\"1.0\" stroke=\"rgb(255,255,255)\" stroke-opacity=\"1.0\">\n            </line>\n            <g transform=\"translate(26.9903027277341 42.22857142857144 ) \">\n              <text class=\"legend-item\" y=\"0.0\">\n              90\n              </text>\n            </g>\n            <line x1=\"0.0\" y1=\"17.857142857142833\" x2=\"4.6\" y2=\"17.857142857142833\" stroke-width=\"1.0\" stroke=\"rgb(255,255,255)\" stroke-opacity=\"1.0\">\n            </line>\n            <line x1=\"18.4\" y1=\"17.857142857142833\" x2=\"23.0\" y2=\"17.857142857142833\" stroke-width=\"1.0\" stroke=\"rgb(255,255,255)\" stroke-opacity=\"1.0\">\n            </line>\n            <g transform=\"translate(26.9903027277341 22.40714285714283 ) \">\n              <text class=\"legend-item\" y=\"0.0\">\n              95\n              </text>\n            </g>\n          </g>\n        </g>\n      </g>\n    </g>\n    <path fill=\"rgb(0,0,0)\" fill-opacity=\"0.0\" stroke=\"rgb(71,71,71)\" stroke-opacity=\"1.0\" stroke-width=\"0.0\" d=\"M0.0 0.0 L0.0 400.0 L600.0 400.0 L600.0 0.0 Z\">\n    </path>\n  </g>\n  <g id=\"dfm8gB4\">\n  </g>\n</svg>\n        <script>document.getElementById(\"20897f06-a6aa-4d90-8290-350e4f3ee0ac\").style.display = \"none\";</script>",
      "application/plot+json": {
       "output_type": "lets_plot_spec",
       "output": {
        "mapping": {},
        "data": {},
        "kind": "plot",
        "scales": [
         {
          "aesthetic": "x",
          "name": "x",
          "limits": [
           null,
           null
          ]
         },
         {
          "aesthetic": "y",
          "name": "y",
          "limits": [
           null,
           null
          ]
         },
         {
          "aesthetic": "x",
          "discrete": true
         },
         {
          "aesthetic": "y",
          "discrete": true
         },
         {
          "aesthetic": "fill",
          "scale_mapper_kind": "color_gradient",
          "limits": [
           null,
           null
          ]
         }
        ],
        "layers": [
         {
          "mapping": {
           "x": "x",
           "y": "y",
           "fill": "count"
          },
          "stat": "identity",
          "data": {
           "x": [
            "Paphos",
            "Yerevan",
            "Yerevan",
            "Amsterdam",
            "Amsterdam",
            "Yerevan",
            "Amsterdam",
            "Berlin",
            "Paphos",
            "Berlin",
            "Berlin",
            "Paphos"
           ],
           "count": [
            99.0,
            78.0,
            72.0,
            71.0,
            74.0,
            77.0,
            89.0,
            98.0,
            79.0,
            85.0,
            90.0,
            88.0
           ],
           "y": [
            "10pm",
            "6pm",
            "10pm",
            "4am",
            "6pm",
            "4am",
            "10pm",
            "6pm",
            "4am",
            "4am",
            "10pm",
            "6pm"
           ]
          },
          "sampling": "none",
          "position": "identity",
          "geom": "tile"
         }
        ]
       },
       "apply_color_scheme": true,
       "swing_enabled": true
      }
     },
     "execution_count": 2,
     "metadata": {},
     "output_type": "execute_result"
    }
   ],
   "source": [
    "val cities = listOf(\"Yerevan\", \"Berlin\", \"Paphos\", \"Amsterdam\")\n",
    "val times = listOf(\"6pm\", \"10pm\", \"4am\")\n",
    "\n",
    "val city = List(1000) {cities.random() }\n",
    "val time = List(1000) {times.random()}\n",
    "\n",
    "plot { \n",
    "    heatmap(city, time)\n",
    "}"
   ],
   "metadata": {
    "collapsed": false,
    "ExecuteTime": {
     "end_time": "2023-11-21T12:04:02.367727Z",
     "start_time": "2023-11-21T12:04:01.131524Z"
    }
   }
  }
 ],
 "metadata": {
  "kernelspec": {
   "display_name": "Kotlin",
   "language": "kotlin",
   "name": "kotlin"
  },
  "language_info": {
   "name": "kotlin",
   "version": "1.9.0",
   "mimetype": "text/x-kotlin",
   "file_extension": ".kt",
   "pygments_lexer": "kotlin",
   "codemirror_mode": "text/x-kotlin",
   "nbconvert_exporter": ""
  },
  "ktnbPluginMetadata": {
   "projectLibraries": []
  }
 },
 "nbformat": 4,
 "nbformat_minor": 0
}
