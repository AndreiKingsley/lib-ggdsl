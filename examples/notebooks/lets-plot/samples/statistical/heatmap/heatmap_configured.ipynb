{
 "cells": [
  {
   "cell_type": "code",
   "execution_count": 1,
   "metadata": {
    "collapsed": true,
    "ExecuteTime": {
     "end_time": "2023-11-21T12:05:10.314884Z",
     "start_time": "2023-11-21T12:05:03.552501Z"
    }
   },
   "outputs": [],
   "source": [
    "%useLatestDescriptors\n",
    "%use kandy"
   ]
  },
  {
   "cell_type": "code",
   "execution_count": 4,
   "outputs": [
    {
     "data": {
      "text/html": "            <iframe src='about:blank' style='border:none !important;' width='600' height='400' srcdoc=\"&lt;html lang=&quot;en&quot;>\n   &lt;head>\n       &lt;style> html, body { margin: 0; overflow: hidden; } &lt;/style>\n       &lt;script type=&quot;text/javascript&quot; data-lets-plot-script=&quot;library&quot; src=&quot;https://cdn.jsdelivr.net/gh/JetBrains/lets-plot@v4.0.1/js-package/distr/lets-plot.min.js&quot;>&lt;/script>\n   &lt;/head>\n   &lt;body>\n          &lt;div id=&quot;1NCtzX&quot;>&lt;/div>\n   &lt;script type=&quot;text/javascript&quot; data-lets-plot-script=&quot;plot&quot;>\n       var plotSpec={\n&quot;mapping&quot;:{\n},\n&quot;data&quot;:{\n},\n&quot;kind&quot;:&quot;plot&quot;,\n&quot;scales&quot;:[{\n&quot;aesthetic&quot;:&quot;x&quot;,\n&quot;name&quot;:&quot;x&quot;,\n&quot;limits&quot;:[null,null]\n},{\n&quot;aesthetic&quot;:&quot;y&quot;,\n&quot;name&quot;:&quot;y&quot;,\n&quot;limits&quot;:[null,null]\n},{\n&quot;aesthetic&quot;:&quot;x&quot;,\n&quot;limits&quot;:[null,null]\n},{\n&quot;aesthetic&quot;:&quot;y&quot;,\n&quot;discrete&quot;:true\n},{\n&quot;aesthetic&quot;:&quot;fill&quot;,\n&quot;scale_mapper_kind&quot;:&quot;color_gradientn&quot;,\n&quot;limits&quot;:[null,null],\n&quot;colors&quot;:[&quot;#ffffff&quot;,&quot;#fac858&quot;,&quot;#ee6666&quot;]\n},{\n&quot;aesthetic&quot;:&quot;x&quot;,\n&quot;format&quot;:&quot;d&quot;,\n&quot;limits&quot;:[null,null]\n}],\n&quot;layers&quot;:[{\n&quot;mapping&quot;:{\n&quot;x&quot;:&quot;x&quot;,\n&quot;y&quot;:&quot;y&quot;,\n&quot;fill&quot;:&quot;count&quot;\n},\n&quot;stat&quot;:&quot;identity&quot;,\n&quot;data&quot;:{\n&quot;count&quot;:[59.0,55.0,66.0,69.0,68.0,59.0,67.0,58.0,78.0,57.0,65.0,49.0,53.0,80.0,60.0,57.0],\n&quot;x&quot;:[2022.0,2020.0,2021.0,2023.0,2021.0,2023.0,2021.0,2020.0,2023.0,2022.0,2023.0,2020.0,2022.0,2022.0,2020.0,2021.0],\n&quot;y&quot;:[&quot;Amsterdam&quot;,&quot;Amsterdam&quot;,&quot;Amsterdam&quot;,&quot;Amsterdam&quot;,&quot;Yerevan&quot;,&quot;Paphos&quot;,&quot;Paphos&quot;,&quot;Berlin&quot;,&quot;Yerevan&quot;,&quot;Paphos&quot;,&quot;Berlin&quot;,&quot;Yerevan&quot;,&quot;Yerevan&quot;,&quot;Berlin&quot;,&quot;Paphos&quot;,&quot;Berlin&quot;]\n},\n&quot;size&quot;:0.5,\n&quot;color&quot;:&quot;#000000&quot;,\n&quot;sampling&quot;:&quot;none&quot;,\n&quot;position&quot;:&quot;identity&quot;,\n&quot;geom&quot;:&quot;tile&quot;\n}]\n};\n       var plotContainer = document.getElementById(&quot;1NCtzX&quot;);\n       LetsPlot.buildPlotFromProcessedSpecs(plotSpec, -1, -1, plotContainer);\n   &lt;/script>\n   &lt;/body>\n&lt;/html>\"></iframe>            \n        <svg id=ada7bff6-4c9a-4a19-8972-2a423e483262 xmlns=\"http://www.w3.org/2000/svg\" xmlns:xlink=\"http://www.w3.org/1999/xlink\" class=\"plt-container\" width=\"600.0\" height=\"400.0\">\n  <style type=\"text/css\">\n  .plt-container {\n   font-family: Lucida Grande, sans-serif;\n   user-select: none;\n   -webkit-user-select: none;\n   -moz-user-select: none;\n   -ms-user-select: none;\n}\ntext {\n   text-rendering: optimizeLegibility;\n}\n#p5yf82F .plot-title {\n   fill: #474747;\n   font-family: Lucida Grande, sans-serif;\n   font-size: 16.0px;\n   font-weight: normal;\n   font-style: normal;   \n}\n#p5yf82F .plot-subtitle {\n   fill: #474747;\n   font-family: Lucida Grande, sans-serif;\n   font-size: 15.0px;\n   font-weight: normal;\n   font-style: normal;   \n}\n#p5yf82F .plot-caption {\n   fill: #474747;\n   font-family: Lucida Grande, sans-serif;\n   font-size: 13.0px;\n   font-weight: normal;\n   font-style: normal;   \n}\n#p5yf82F .legend-title {\n   fill: #474747;\n   font-family: Lucida Grande, sans-serif;\n   font-size: 15.0px;\n   font-weight: normal;\n   font-style: normal;   \n}\n#p5yf82F .legend-item {\n   fill: #474747;\n   font-family: Lucida Grande, sans-serif;\n   font-size: 13.0px;\n   font-weight: normal;\n   font-style: normal;   \n}\n#p5yf82F .axis-title-x {\n   fill: #474747;\n   font-family: Lucida Grande, sans-serif;\n   font-size: 15.0px;\n   font-weight: normal;\n   font-style: normal;   \n}\n#p5yf82F .axis-text-x {\n   fill: #474747;\n   font-family: Lucida Grande, sans-serif;\n   font-size: 13.0px;\n   font-weight: normal;\n   font-style: normal;   \n}\n#dHR9ReS .axis-tooltip-text-x {\n   fill: #ffffff;\n   font-family: Lucida Grande, sans-serif;\n   font-size: 13.0px;\n   font-weight: normal;\n   font-style: normal;   \n}\n#p5yf82F .axis-title-y {\n   fill: #474747;\n   font-family: Lucida Grande, sans-serif;\n   font-size: 15.0px;\n   font-weight: normal;\n   font-style: normal;   \n}\n#p5yf82F .axis-text-y {\n   fill: #474747;\n   font-family: Lucida Grande, sans-serif;\n   font-size: 13.0px;\n   font-weight: normal;\n   font-style: normal;   \n}\n#dHR9ReS .axis-tooltip-text-y {\n   fill: #ffffff;\n   font-family: Lucida Grande, sans-serif;\n   font-size: 13.0px;\n   font-weight: normal;\n   font-style: normal;   \n}\n#p5yf82F .facet-strip-text-x {\n   fill: #474747;\n   font-family: Lucida Grande, sans-serif;\n   font-size: 13.0px;\n   font-weight: normal;\n   font-style: normal;   \n}\n#p5yf82F .facet-strip-text-y {\n   fill: #474747;\n   font-family: Lucida Grande, sans-serif;\n   font-size: 13.0px;\n   font-weight: normal;\n   font-style: normal;   \n}\n#dHR9ReS .tooltip-text {\n   fill: #474747;\n   font-family: Lucida Grande, sans-serif;\n   font-size: 13.0px;\n   font-weight: normal;\n   font-style: normal;   \n}\n#dHR9ReS .tooltip-title {\n   fill: #474747;\n   font-family: Lucida Grande, sans-serif;\n   font-size: 13.0px;\n   font-weight: bold;\n   font-style: normal;   \n}\n#dHR9ReS .tooltip-label {\n   fill: #474747;\n   font-family: Lucida Grande, sans-serif;\n   font-size: 13.0px;\n   font-weight: bold;\n   font-style: normal;   \n}\n\n  </style>\n  <g id=\"p5yf82F\">\n    <path fill-rule=\"evenodd\" fill=\"rgb(255,255,255)\" fill-opacity=\"1.0\" d=\"M0.0 0.0 L0.0 400.0 L600.0 400.0 L600.0 0.0 Z\">\n    </path>\n    <g transform=\"translate(62.70028156162192 10.0 ) \">\n      <g transform=\"translate(80.64792323807859 344.0 ) \">\n        <line x1=\"54.72727272726479\" y1=\"-0.0\" x2=\"54.72727272726479\" y2=\"-344.0\" stroke=\"rgb(233,233,233)\" stroke-opacity=\"1.0\" stroke-width=\"1.0\">\n        </line>\n        <line x1=\"132.90909090908826\" y1=\"-0.0\" x2=\"132.90909090908826\" y2=\"-344.0\" stroke=\"rgb(233,233,233)\" stroke-opacity=\"1.0\" stroke-width=\"1.0\">\n        </line>\n        <line x1=\"211.09090909091174\" y1=\"-0.0\" x2=\"211.09090909091174\" y2=\"-344.0\" stroke=\"rgb(233,233,233)\" stroke-opacity=\"1.0\" stroke-width=\"1.0\">\n        </line>\n        <line x1=\"289.2727272727352\" y1=\"-0.0\" x2=\"289.2727272727352\" y2=\"-344.0\" stroke=\"rgb(233,233,233)\" stroke-opacity=\"1.0\" stroke-width=\"1.0\">\n        </line>\n        <g transform=\"translate(54.72727272726479 0.0 ) \">\n          <line stroke-width=\"1.0\" stroke=\"rgb(71,71,71)\" stroke-opacity=\"1.0\" x2=\"0.0\" y2=\"4.0\">\n          </line>\n          <g transform=\"translate(0.0 7.0 ) \">\n            <text class=\"axis-text-x\" text-anchor=\"middle\" dy=\"0.7em\">\n            2020\n            </text>\n          </g>\n        </g>\n        <g transform=\"translate(132.90909090908826 0.0 ) \">\n          <line stroke-width=\"1.0\" stroke=\"rgb(71,71,71)\" stroke-opacity=\"1.0\" x2=\"0.0\" y2=\"4.0\">\n          </line>\n          <g transform=\"translate(0.0 7.0 ) \">\n            <text class=\"axis-text-x\" text-anchor=\"middle\" dy=\"0.7em\">\n            2021\n            </text>\n          </g>\n        </g>\n        <g transform=\"translate(211.09090909091174 0.0 ) \">\n          <line stroke-width=\"1.0\" stroke=\"rgb(71,71,71)\" stroke-opacity=\"1.0\" x2=\"0.0\" y2=\"4.0\">\n          </line>\n          <g transform=\"translate(0.0 7.0 ) \">\n            <text class=\"axis-text-x\" text-anchor=\"middle\" dy=\"0.7em\">\n            2022\n            </text>\n          </g>\n        </g>\n        <g transform=\"translate(289.2727272727352 0.0 ) \">\n          <line stroke-width=\"1.0\" stroke=\"rgb(71,71,71)\" stroke-opacity=\"1.0\" x2=\"0.0\" y2=\"4.0\">\n          </line>\n          <g transform=\"translate(0.0 7.0 ) \">\n            <text class=\"axis-text-x\" text-anchor=\"middle\" dy=\"0.7em\">\n            2023\n            </text>\n          </g>\n        </g>\n        <line x1=\"0.0\" y1=\"0.0\" x2=\"344.0000000000071\" y2=\"0.0\" stroke-width=\"1.0\" stroke=\"rgb(71,71,71)\" stroke-opacity=\"1.0\">\n        </line>\n      </g>\n      <g transform=\"translate(80.64792323807859 0.0 ) \">\n        <line x1=\"0.0\" y1=\"289.27272727272725\" x2=\"344.0000000000071\" y2=\"289.27272727272725\" stroke=\"rgb(233,233,233)\" stroke-opacity=\"1.0\" stroke-width=\"1.0\">\n        </line>\n        <line x1=\"0.0\" y1=\"211.09090909090907\" x2=\"344.0000000000071\" y2=\"211.09090909090907\" stroke=\"rgb(233,233,233)\" stroke-opacity=\"1.0\" stroke-width=\"1.0\">\n        </line>\n        <line x1=\"0.0\" y1=\"132.9090909090909\" x2=\"344.0000000000071\" y2=\"132.9090909090909\" stroke=\"rgb(233,233,233)\" stroke-opacity=\"1.0\" stroke-width=\"1.0\">\n        </line>\n        <line x1=\"0.0\" y1=\"54.72727272727275\" x2=\"344.0000000000071\" y2=\"54.72727272727275\" stroke=\"rgb(233,233,233)\" stroke-opacity=\"1.0\" stroke-width=\"1.0\">\n        </line>\n        <g transform=\"translate(0.0 289.27272727272725 ) \">\n          <g transform=\"translate(-3.0 0.0 ) \">\n            <text class=\"axis-text-y\" text-anchor=\"end\" dy=\"0.35em\">\n            Amsterdam\n            </text>\n          </g>\n        </g>\n        <g transform=\"translate(0.0 211.09090909090907 ) \">\n          <g transform=\"translate(-3.0 0.0 ) \">\n            <text class=\"axis-text-y\" text-anchor=\"end\" dy=\"0.35em\">\n            Yerevan\n            </text>\n          </g>\n        </g>\n        <g transform=\"translate(0.0 132.9090909090909 ) \">\n          <g transform=\"translate(-3.0 0.0 ) \">\n            <text class=\"axis-text-y\" text-anchor=\"end\" dy=\"0.35em\">\n            Paphos\n            </text>\n          </g>\n        </g>\n        <g transform=\"translate(0.0 54.72727272727275 ) \">\n          <g transform=\"translate(-3.0 0.0 ) \">\n            <text class=\"axis-text-y\" text-anchor=\"end\" dy=\"0.35em\">\n            Berlin\n            </text>\n          </g>\n        </g>\n      </g>\n      <g transform=\"translate(80.64792323807859 0.0 ) \" clip-path=\"url(#coUmfSc)\" clip-bounds-jfx=\"[rect (0.0, 0.0), (344.0000000000071, 344.0)]\">\n        <defs>\n          <clipPath id=\"coUmfSc\">\n            <rect x=\"0.0\" y=\"0.0\" width=\"344.0000000000071\" height=\"344.0\">\n            </rect>\n          </clipPath>\n        </defs>\n        <g>\n          \n          <g >\n            <rect fill=\"#fcdb92\" stroke=\"#000000\" stroke-width=\"1.1\" x=\"172.0\" y=\"250.18181818181816\" height=\"78.18181818181816\" width=\"78.18181818182347\" />\n            <rect fill=\"#fde9bd\" stroke=\"#000000\" stroke-width=\"1.1\" x=\"15.636363636353053\" y=\"250.18181818181816\" height=\"78.18181818181816\" width=\"78.18181818182347\" />\n            <rect fill=\"#f9bd59\" stroke=\"#000000\" stroke-width=\"1.1\" x=\"93.81818181817653\" y=\"250.18181818181816\" height=\"78.18181818181816\" width=\"78.18181818182347\" />\n            <rect fill=\"#f6a85c\" stroke=\"#000000\" stroke-width=\"1.1\" x=\"250.18181818182347\" y=\"250.18181818181816\" height=\"78.18181818181816\" width=\"78.18181818179437\" />\n            <rect fill=\"#f7ae5b\" stroke=\"#000000\" stroke-width=\"1.1\" x=\"93.81818181817653\" y=\"172.0\" height=\"78.18181818181816\" width=\"78.18181818182347\" />\n            <rect fill=\"#fcdb92\" stroke=\"#000000\" stroke-width=\"1.1\" x=\"250.18181818182347\" y=\"93.81818181818181\" height=\"78.18181818181819\" width=\"78.18181818179437\" />\n            <rect fill=\"#f8b55a\" stroke=\"#000000\" stroke-width=\"1.1\" x=\"93.81818181817653\" y=\"93.81818181818181\" height=\"78.18181818181819\" width=\"78.18181818182347\" />\n            <rect fill=\"#fcdf9d\" stroke=\"#000000\" stroke-width=\"1.1\" x=\"15.636363636353053\" y=\"15.636363636363626\" height=\"78.18181818181819\" width=\"78.18181818182347\" />\n            <rect fill=\"#ef7164\" stroke=\"#000000\" stroke-width=\"1.1\" x=\"250.18181818182347\" y=\"172.0\" height=\"78.18181818181816\" width=\"78.18181818179437\" />\n            <rect fill=\"#fce2a8\" stroke=\"#000000\" stroke-width=\"1.1\" x=\"172.0\" y=\"93.81818181818181\" height=\"78.18181818181819\" width=\"78.18181818182347\" />\n            <rect fill=\"#f9c458\" stroke=\"#000000\" stroke-width=\"1.1\" x=\"250.18181818182347\" y=\"15.636363636363626\" height=\"78.18181818181819\" width=\"78.18181818179437\" />\n            <rect fill=\"#ffffff\" stroke=\"#000000\" stroke-width=\"1.1\" x=\"15.636363636353053\" y=\"172.0\" height=\"78.18181818181816\" width=\"78.18181818182347\" />\n            <rect fill=\"#fef1d3\" stroke=\"#000000\" stroke-width=\"1.1\" x=\"172.0\" y=\"172.0\" height=\"78.18181818181816\" width=\"78.18181818182347\" />\n            <rect fill=\"#ed6666\" stroke=\"#000000\" stroke-width=\"1.1\" x=\"172.0\" y=\"15.636363636363626\" height=\"78.18181818181819\" width=\"78.18181818182347\" />\n            <rect fill=\"#fbd887\" stroke=\"#000000\" stroke-width=\"1.1\" x=\"15.636363636353053\" y=\"93.81818181818181\" height=\"78.18181818181819\" width=\"78.18181818182347\" />\n            <rect fill=\"#fce2a8\" stroke=\"#000000\" stroke-width=\"1.1\" x=\"93.81818181817653\" y=\"15.636363636363626\" height=\"78.18181818181819\" width=\"78.18181818182347\" />\n          </g>\n        </g>\n      </g>\n    </g>\n    <g transform=\"translate(54.20028156162192 182.0 ) rotate(-90.0 ) \">\n      <text class=\"axis-title-y\" y=\"0.0\" text-anchor=\"middle\">\n      y\n      </text>\n    </g>\n    <g transform=\"translate(315.34820479970404 391.5 ) \">\n      <text class=\"axis-title-x\" y=\"0.0\" text-anchor=\"middle\">\n      x\n      </text>\n    </g>\n    <g transform=\"translate(497.3482047997075 103.25 ) \">\n      <rect x=\"5.0\" y=\"5.0\" height=\"147.5\" width=\"52.951513638670505\" stroke=\"rgb(71,71,71)\" stroke-opacity=\"1.0\" stroke-width=\"0.0\" fill=\"rgb(255,255,255)\" fill-opacity=\"1.0\">\n      </rect>\n      <g transform=\"translate(10.0 10.0 ) \">\n        <g transform=\"translate(0.0 10.5 ) \">\n          <text class=\"legend-title\" y=\"0.0\">\n          count\n          </text>\n        </g>\n        <g transform=\"translate(0.0 22.5 ) \">\n          <g>\n            <rect x=\"0.0\" y=\"0.0\" height=\"115.0\" width=\"23.0\" stroke-width=\"0.0\" fill=\"rgb(238,106,101)\" fill-opacity=\"1.0\">\n            </rect>\n            <rect x=\"0.0\" y=\"7.55\" height=\"107.45\" width=\"23.0\" stroke-width=\"0.0\" fill=\"rgb(239,114,100)\" fill-opacity=\"1.0\">\n            </rect>\n            <rect x=\"0.0\" y=\"13.1\" height=\"101.9\" width=\"23.0\" stroke-width=\"0.0\" fill=\"rgb(240,123,99)\" fill-opacity=\"1.0\">\n            </rect>\n            <rect x=\"0.0\" y=\"18.65\" height=\"96.35\" width=\"23.0\" stroke-width=\"0.0\" fill=\"rgb(242,132,97)\" fill-opacity=\"1.0\">\n            </rect>\n            <rect x=\"0.0\" y=\"24.2\" height=\"90.8\" width=\"23.0\" stroke-width=\"0.0\" fill=\"rgb(243,141,96)\" fill-opacity=\"1.0\">\n            </rect>\n            <rect x=\"0.0\" y=\"29.75\" height=\"85.25\" width=\"23.0\" stroke-width=\"0.0\" fill=\"rgb(244,151,94)\" fill-opacity=\"1.0\">\n            </rect>\n            <rect x=\"0.0\" y=\"35.3\" height=\"79.7\" width=\"23.0\" stroke-width=\"0.0\" fill=\"rgb(245,161,93)\" fill-opacity=\"1.0\">\n            </rect>\n            <rect x=\"0.0\" y=\"40.849999999999994\" height=\"74.15\" width=\"23.0\" stroke-width=\"0.0\" fill=\"rgb(247,172,91)\" fill-opacity=\"1.0\">\n            </rect>\n            <rect x=\"0.0\" y=\"46.39999999999999\" height=\"68.60000000000001\" width=\"23.0\" stroke-width=\"0.0\" fill=\"rgb(248,183,90)\" fill-opacity=\"1.0\">\n            </rect>\n            <rect x=\"0.0\" y=\"51.94999999999999\" height=\"63.05000000000001\" width=\"23.0\" stroke-width=\"0.0\" fill=\"rgb(249,194,88)\" fill-opacity=\"1.0\">\n            </rect>\n            <rect x=\"0.0\" y=\"57.499999999999986\" height=\"57.500000000000014\" width=\"23.0\" stroke-width=\"0.0\" fill=\"rgb(250,202,96)\" fill-opacity=\"1.0\">\n            </rect>\n            <rect x=\"0.0\" y=\"63.04999999999998\" height=\"51.95000000000002\" width=\"23.0\" stroke-width=\"0.0\" fill=\"rgb(251,208,112)\" fill-opacity=\"1.0\">\n            </rect>\n            <rect x=\"0.0\" y=\"68.59999999999998\" height=\"46.40000000000002\" width=\"23.0\" stroke-width=\"0.0\" fill=\"rgb(251,213,129)\" fill-opacity=\"1.0\">\n            </rect>\n            <rect x=\"0.0\" y=\"74.14999999999998\" height=\"40.85000000000002\" width=\"23.0\" stroke-width=\"0.0\" fill=\"rgb(252,219,145)\" fill-opacity=\"1.0\">\n            </rect>\n            <rect x=\"0.0\" y=\"79.69999999999997\" height=\"35.300000000000026\" width=\"23.0\" stroke-width=\"0.0\" fill=\"rgb(252,224,162)\" fill-opacity=\"1.0\">\n            </rect>\n            <rect x=\"0.0\" y=\"85.24999999999997\" height=\"29.75000000000003\" width=\"23.0\" stroke-width=\"0.0\" fill=\"rgb(253,230,179)\" fill-opacity=\"1.0\">\n            </rect>\n            <rect x=\"0.0\" y=\"90.79999999999997\" height=\"24.20000000000003\" width=\"23.0\" stroke-width=\"0.0\" fill=\"rgb(253,235,196)\" fill-opacity=\"1.0\">\n            </rect>\n            <rect x=\"0.0\" y=\"96.34999999999997\" height=\"18.650000000000034\" width=\"23.0\" stroke-width=\"0.0\" fill=\"rgb(254,241,212)\" fill-opacity=\"1.0\">\n            </rect>\n            <rect x=\"0.0\" y=\"101.89999999999996\" height=\"13.100000000000037\" width=\"23.0\" stroke-width=\"0.0\" fill=\"rgb(254,247,229)\" fill-opacity=\"1.0\">\n            </rect>\n            <rect x=\"0.0\" y=\"107.44999999999996\" height=\"7.55000000000004\" width=\"23.0\" stroke-width=\"0.0\" fill=\"rgb(255,252,246)\" fill-opacity=\"1.0\">\n            </rect>\n            <line x1=\"0.0\" y1=\"109.41935483870967\" x2=\"4.6\" y2=\"109.41935483870967\" stroke-width=\"1.0\" stroke=\"rgb(255,255,255)\" stroke-opacity=\"1.0\">\n            </line>\n            <line x1=\"18.4\" y1=\"109.41935483870967\" x2=\"23.0\" y2=\"109.41935483870967\" stroke-width=\"1.0\" stroke=\"rgb(255,255,255)\" stroke-opacity=\"1.0\">\n            </line>\n            <g transform=\"translate(26.9903027277341 113.96935483870966 ) \">\n              <text class=\"legend-item\" y=\"0.0\">\n              50\n              </text>\n            </g>\n            <line x1=\"0.0\" y1=\"91.51612903225805\" x2=\"4.6\" y2=\"91.51612903225805\" stroke-width=\"1.0\" stroke=\"rgb(255,255,255)\" stroke-opacity=\"1.0\">\n            </line>\n            <line x1=\"18.4\" y1=\"91.51612903225805\" x2=\"23.0\" y2=\"91.51612903225805\" stroke-width=\"1.0\" stroke=\"rgb(255,255,255)\" stroke-opacity=\"1.0\">\n            </line>\n            <g transform=\"translate(26.9903027277341 96.06612903225805 ) \">\n              <text class=\"legend-item\" y=\"0.0\">\n              55\n              </text>\n            </g>\n            <line x1=\"0.0\" y1=\"73.61290322580643\" x2=\"4.6\" y2=\"73.61290322580643\" stroke-width=\"1.0\" stroke=\"rgb(255,255,255)\" stroke-opacity=\"1.0\">\n            </line>\n            <line x1=\"18.4\" y1=\"73.61290322580643\" x2=\"23.0\" y2=\"73.61290322580643\" stroke-width=\"1.0\" stroke=\"rgb(255,255,255)\" stroke-opacity=\"1.0\">\n            </line>\n            <g transform=\"translate(26.9903027277341 78.16290322580643 ) \">\n              <text class=\"legend-item\" y=\"0.0\">\n              60\n              </text>\n            </g>\n            <line x1=\"0.0\" y1=\"55.70967741935482\" x2=\"4.6\" y2=\"55.70967741935482\" stroke-width=\"1.0\" stroke=\"rgb(255,255,255)\" stroke-opacity=\"1.0\">\n            </line>\n            <line x1=\"18.4\" y1=\"55.70967741935482\" x2=\"23.0\" y2=\"55.70967741935482\" stroke-width=\"1.0\" stroke=\"rgb(255,255,255)\" stroke-opacity=\"1.0\">\n            </line>\n            <g transform=\"translate(26.9903027277341 60.259677419354816 ) \">\n              <text class=\"legend-item\" y=\"0.0\">\n              65\n              </text>\n            </g>\n            <line x1=\"0.0\" y1=\"37.80645161290323\" x2=\"4.6\" y2=\"37.80645161290323\" stroke-width=\"1.0\" stroke=\"rgb(255,255,255)\" stroke-opacity=\"1.0\">\n            </line>\n            <line x1=\"18.4\" y1=\"37.80645161290323\" x2=\"23.0\" y2=\"37.80645161290323\" stroke-width=\"1.0\" stroke=\"rgb(255,255,255)\" stroke-opacity=\"1.0\">\n            </line>\n            <g transform=\"translate(26.9903027277341 42.35645161290323 ) \">\n              <text class=\"legend-item\" y=\"0.0\">\n              70\n              </text>\n            </g>\n            <line x1=\"0.0\" y1=\"19.903225806451587\" x2=\"4.6\" y2=\"19.903225806451587\" stroke-width=\"1.0\" stroke=\"rgb(255,255,255)\" stroke-opacity=\"1.0\">\n            </line>\n            <line x1=\"18.4\" y1=\"19.903225806451587\" x2=\"23.0\" y2=\"19.903225806451587\" stroke-width=\"1.0\" stroke=\"rgb(255,255,255)\" stroke-opacity=\"1.0\">\n            </line>\n            <g transform=\"translate(26.9903027277341 24.453225806451584 ) \">\n              <text class=\"legend-item\" y=\"0.0\">\n              75\n              </text>\n            </g>\n            <line x1=\"0.0\" y1=\"2.0\" x2=\"4.6\" y2=\"2.0\" stroke-width=\"1.0\" stroke=\"rgb(255,255,255)\" stroke-opacity=\"1.0\">\n            </line>\n            <line x1=\"18.4\" y1=\"2.0\" x2=\"23.0\" y2=\"2.0\" stroke-width=\"1.0\" stroke=\"rgb(255,255,255)\" stroke-opacity=\"1.0\">\n            </line>\n            <g transform=\"translate(26.9903027277341 6.549999999999999 ) \">\n              <text class=\"legend-item\" y=\"0.0\">\n              80\n              </text>\n            </g>\n          </g>\n        </g>\n      </g>\n    </g>\n    <path fill=\"rgb(0,0,0)\" fill-opacity=\"0.0\" stroke=\"rgb(71,71,71)\" stroke-opacity=\"1.0\" stroke-width=\"0.0\" d=\"M0.0 0.0 L0.0 400.0 L600.0 400.0 L600.0 0.0 Z\">\n    </path>\n  </g>\n  <g id=\"dHR9ReS\">\n  </g>\n</svg>\n        <script>document.getElementById(\"ada7bff6-4c9a-4a19-8972-2a423e483262\").style.display = \"none\";</script>",
      "application/plot+json": {
       "output_type": "lets_plot_spec",
       "output": {
        "mapping": {},
        "data": {},
        "kind": "plot",
        "scales": [
         {
          "aesthetic": "x",
          "name": "x",
          "limits": [
           null,
           null
          ]
         },
         {
          "aesthetic": "y",
          "name": "y",
          "limits": [
           null,
           null
          ]
         },
         {
          "aesthetic": "x",
          "limits": [
           null,
           null
          ]
         },
         {
          "aesthetic": "y",
          "discrete": true
         },
         {
          "aesthetic": "fill",
          "scale_mapper_kind": "color_gradientn",
          "limits": [
           null,
           null
          ],
          "colors": [
           "#ffffff",
           "#fac858",
           "#ee6666"
          ]
         },
         {
          "aesthetic": "x",
          "format": "d",
          "limits": [
           null,
           null
          ]
         }
        ],
        "layers": [
         {
          "mapping": {
           "x": "x",
           "y": "y",
           "fill": "count"
          },
          "stat": "identity",
          "data": {
           "x": [
            2022.0,
            2020.0,
            2021.0,
            2023.0,
            2021.0,
            2023.0,
            2021.0,
            2020.0,
            2023.0,
            2022.0,
            2023.0,
            2020.0,
            2022.0,
            2022.0,
            2020.0,
            2021.0
           ],
           "count": [
            59.0,
            55.0,
            66.0,
            69.0,
            68.0,
            59.0,
            67.0,
            58.0,
            78.0,
            57.0,
            65.0,
            49.0,
            53.0,
            80.0,
            60.0,
            57.0
           ],
           "y": [
            "Amsterdam",
            "Amsterdam",
            "Amsterdam",
            "Amsterdam",
            "Yerevan",
            "Paphos",
            "Paphos",
            "Berlin",
            "Yerevan",
            "Paphos",
            "Berlin",
            "Yerevan",
            "Yerevan",
            "Berlin",
            "Paphos",
            "Berlin"
           ]
          },
          "size": 0.5,
          "color": "#000000",
          "sampling": "none",
          "position": "identity",
          "geom": "tile"
         }
        ]
       },
       "apply_color_scheme": true,
       "swing_enabled": true
      }
     },
     "execution_count": 4,
     "metadata": {},
     "output_type": "execute_result"
    }
   ],
   "source": [
    "val cities = listOf(\"Yerevan\", \"Berlin\", \"Paphos\", \"Amsterdam\")\n",
    "val years = listOf(2020, 2021, 2022, 2023)\n",
    "\n",
    "val city = List(1000) {cities.random() }\n",
    "val year = List(1000) {years.random()}\n",
    "\n",
    "plot { \n",
    "    heatmap(year, city) {\n",
    "        borderLine {\n",
    "            width = 0.5\n",
    "            color = Color.BLACK\n",
    "        }\n",
    "        fillColor(Stat.count) {\n",
    "            scale = continuousColorGradientN(listOf(Color.WHITE, Color.YELLOW, Color.RED))\n",
    "        }\n",
    "    }\n",
    "    x.axis.breaks(format = \"d\")\n",
    "}"
   ],
   "metadata": {
    "collapsed": false,
    "ExecuteTime": {
     "end_time": "2023-11-21T12:08:38.384587Z",
     "start_time": "2023-11-21T12:08:38.008038Z"
    }
   }
  }
 ],
 "metadata": {
  "kernelspec": {
   "display_name": "Kotlin",
   "language": "kotlin",
   "name": "kotlin"
  },
  "language_info": {
   "name": "kotlin",
   "version": "1.9.0",
   "mimetype": "text/x-kotlin",
   "file_extension": ".kt",
   "pygments_lexer": "kotlin",
   "codemirror_mode": "text/x-kotlin",
   "nbconvert_exporter": ""
  },
  "ktnbPluginMetadata": {
   "projectLibraries": []
  }
 },
 "nbformat": 4,
 "nbformat_minor": 0
}
