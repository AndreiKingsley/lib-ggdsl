{
 "cells": [
  {
   "cell_type": "code",
   "execution_count": 1,
   "metadata": {
    "collapsed": true,
    "ExecuteTime": {
     "end_time": "2024-02-22T11:01:48.354251Z",
     "start_time": "2024-02-22T11:01:39.819985Z"
    }
   },
   "outputs": [],
   "source": [
    "%use kandy(0.6.0-dev-42, 0.1.1-dev-5)"
   ]
  },
  {
   "cell_type": "code",
   "outputs": [
    {
     "data": {
      "text/html": "            <iframe src='about:blank' style='border:none !important;' width='600' height='400' srcdoc=\"&lt;html lang=&quot;en&quot;>\n   &lt;head>\n       &lt;meta charset=&quot;UTF-8&quot;>\n       &lt;style> html, body { margin: 0; overflow: hidden; } &lt;/style>\n       &lt;script type=&quot;text/javascript&quot; data-lets-plot-script=&quot;library&quot; src=&quot;https://cdn.jsdelivr.net/gh/JetBrains/lets-plot@v4.2.0/js-package/distr/lets-plot.min.js&quot;>&lt;/script>\n   &lt;/head>\n   &lt;body>\n          &lt;div id=&quot;1FZVOP&quot;>&lt;/div>\n   &lt;script type=&quot;text/javascript&quot; data-lets-plot-script=&quot;plot&quot;>\n       var plotSpec={\n&quot;mapping&quot;:{\n},\n&quot;data&quot;:{\n},\n&quot;kind&quot;:&quot;plot&quot;,\n&quot;scales&quot;:[{\n&quot;aesthetic&quot;:&quot;x&quot;,\n&quot;name&quot;:&quot;x&quot;,\n&quot;limits&quot;:[null,null]\n},{\n&quot;aesthetic&quot;:&quot;y&quot;,\n&quot;name&quot;:&quot;&quot;,\n&quot;limits&quot;:[null,null]\n},{\n&quot;aesthetic&quot;:&quot;x&quot;,\n&quot;discrete&quot;:true\n},{\n&quot;aesthetic&quot;:&quot;fill&quot;,\n&quot;values&quot;:[&quot;#3ba272&quot;,&quot;#ee6666&quot;],\n&quot;limits&quot;:[true,false],\n&quot;guide&quot;:&quot;none&quot;\n},{\n&quot;aesthetic&quot;:&quot;color&quot;,\n&quot;values&quot;:[&quot;#3ba272&quot;,&quot;#ee6666&quot;],\n&quot;limits&quot;:[true,false],\n&quot;guide&quot;:&quot;none&quot;\n},{\n&quot;aesthetic&quot;:&quot;linetype&quot;,\n&quot;values&quot;:[1.0,1.0],\n&quot;limits&quot;:[true,false],\n&quot;guide&quot;:&quot;none&quot;\n},{\n&quot;aesthetic&quot;:&quot;size&quot;,\n&quot;values&quot;:[0.6,0.6],\n&quot;limits&quot;:[true,false],\n&quot;guide&quot;:&quot;none&quot;\n},{\n&quot;aesthetic&quot;:&quot;alpha&quot;,\n&quot;values&quot;:[1.0,1.0],\n&quot;limits&quot;:[true,false],\n&quot;guide&quot;:&quot;none&quot;\n}],\n&quot;layers&quot;:[{\n&quot;mapping&quot;:{\n&quot;x&quot;:&quot;x&quot;,\n&quot;ymin&quot;:&quot;min&quot;,\n&quot;lower&quot;:&quot;lower&quot;,\n&quot;middle&quot;:&quot;middle&quot;,\n&quot;upper&quot;:&quot;upper&quot;,\n&quot;ymax&quot;:&quot;max&quot;,\n&quot;fill&quot;:&quot;isIncreased&quot;,\n&quot;color&quot;:&quot;isIncreased&quot;,\n&quot;linetype&quot;:&quot;isIncreased&quot;,\n&quot;size&quot;:&quot;isIncreased&quot;,\n&quot;alpha&quot;:&quot;isIncreased&quot;\n},\n&quot;stat&quot;:&quot;identity&quot;,\n&quot;data&quot;:{\n&quot;middle&quot;:[null,null,null,null,null],\n&quot;min&quot;:[7.5,6.1,8.5,5.4,4.0],\n&quot;max&quot;:[15.5,9.6,10.7,11.7,9.9],\n&quot;isIncreased&quot;:[false,true,true,false,true],\n&quot;upper&quot;:[14.2,8.6,10.7,11.2,9.8],\n&quot;lower&quot;:[8.0,6.7,8.8,6.5,4.0],\n&quot;x&quot;:[&quot;Jan&quot;,&quot;Feb&quot;,&quot;Mar&quot;,&quot;Apr&quot;,&quot;May&quot;],\n&quot;close&quot;:[8.0,8.6,10.7,6.5,9.8],\n&quot;open&quot;:[14.2,6.7,8.8,11.2,4.0]\n},\n&quot;whisker_width&quot;:0.0,\n&quot;sampling&quot;:&quot;none&quot;,\n&quot;position&quot;:&quot;identity&quot;,\n&quot;geom&quot;:&quot;boxplot&quot;,\n&quot;tooltips&quot;:{\n&quot;formats&quot;:[{\n&quot;field&quot;:&quot;open&quot;,\n&quot;format&quot;:&quot;.2f&quot;\n},{\n&quot;field&quot;:&quot;max&quot;,\n&quot;format&quot;:&quot;.2f&quot;\n},{\n&quot;field&quot;:&quot;min&quot;,\n&quot;format&quot;:&quot;.2f&quot;\n},{\n&quot;field&quot;:&quot;close&quot;,\n&quot;format&quot;:&quot;.2f&quot;\n}],\n&quot;title&quot;:&quot;@x&quot;,\n&quot;lines&quot;:[&quot;open|@open&quot;,&quot;high|@max&quot;,&quot;low|@min&quot;,&quot;close|@close&quot;],\n&quot;disable_splitting&quot;:true\n}\n}]\n};\n       var plotContainer = document.getElementById(&quot;1FZVOP&quot;);\n       LetsPlot.buildPlotFromProcessedSpecs(plotSpec, -1, -1, plotContainer);\n   &lt;/script>\n   &lt;/body>\n&lt;/html>\"></iframe>            <svg xmlns=\"http://www.w3.org/2000/svg\" xmlns:xlink=\"http://www.w3.org/1999/xlink\" class=\"plt-container\" id=e5c45a5d-5fa1-46e4-8b6a-301c61639d65 width=\"100%\" height=\"100%\" style=\"max-width: 600.0px; max-height: 400.0px;\" viewBox=\"0 0 600.0 400.0\" preserveAspectRatio=\"xMinYMin meet\">\n  <style type=\"text/css\">\n  .plt-container {\n   font-family: Lucida Grande, sans-serif;\n   user-select: none;\n   -webkit-user-select: none;\n   -moz-user-select: none;\n   -ms-user-select: none;\n}\ntext {\n   text-rendering: optimizeLegibility;\n}\n#ptfTQnW .plot-title {\n   fill: #474747;\n   font-family: Lucida Grande, sans-serif;\n   font-size: 16.0px;\n   font-weight: normal;\n   font-style: normal;   \n}\n#ptfTQnW .plot-subtitle {\n   fill: #474747;\n   font-family: Lucida Grande, sans-serif;\n   font-size: 15.0px;\n   font-weight: normal;\n   font-style: normal;   \n}\n#ptfTQnW .plot-caption {\n   fill: #474747;\n   font-family: Lucida Grande, sans-serif;\n   font-size: 13.0px;\n   font-weight: normal;\n   font-style: normal;   \n}\n#ptfTQnW .legend-title {\n   fill: #474747;\n   font-family: Lucida Grande, sans-serif;\n   font-size: 15.0px;\n   font-weight: normal;\n   font-style: normal;   \n}\n#ptfTQnW .legend-item {\n   fill: #474747;\n   font-family: Lucida Grande, sans-serif;\n   font-size: 13.0px;\n   font-weight: normal;\n   font-style: normal;   \n}\n#ptfTQnW .axis-title-x {\n   fill: #474747;\n   font-family: Lucida Grande, sans-serif;\n   font-size: 15.0px;\n   font-weight: normal;\n   font-style: normal;   \n}\n#ptfTQnW .axis-text-x {\n   fill: #474747;\n   font-family: Lucida Grande, sans-serif;\n   font-size: 13.0px;\n   font-weight: normal;\n   font-style: normal;   \n}\n#dHbEZWi .axis-tooltip-text-x {\n   fill: #ffffff;\n   font-family: Lucida Grande, sans-serif;\n   font-size: 13.0px;\n   font-weight: normal;\n   font-style: normal;   \n}\n#ptfTQnW .axis-title-y {\n   fill: #474747;\n   font-family: Lucida Grande, sans-serif;\n   font-size: 15.0px;\n   font-weight: normal;\n   font-style: normal;   \n}\n#ptfTQnW .axis-text-y {\n   fill: #474747;\n   font-family: Lucida Grande, sans-serif;\n   font-size: 13.0px;\n   font-weight: normal;\n   font-style: normal;   \n}\n#dHbEZWi .axis-tooltip-text-y {\n   fill: #ffffff;\n   font-family: Lucida Grande, sans-serif;\n   font-size: 13.0px;\n   font-weight: normal;\n   font-style: normal;   \n}\n#ptfTQnW .facet-strip-text-x {\n   fill: #474747;\n   font-family: Lucida Grande, sans-serif;\n   font-size: 13.0px;\n   font-weight: normal;\n   font-style: normal;   \n}\n#ptfTQnW .facet-strip-text-y {\n   fill: #474747;\n   font-family: Lucida Grande, sans-serif;\n   font-size: 13.0px;\n   font-weight: normal;\n   font-style: normal;   \n}\n#dHbEZWi .tooltip-text {\n   fill: #474747;\n   font-family: Lucida Grande, sans-serif;\n   font-size: 13.0px;\n   font-weight: normal;\n   font-style: normal;   \n}\n#dHbEZWi .tooltip-title {\n   fill: #474747;\n   font-family: Lucida Grande, sans-serif;\n   font-size: 13.0px;\n   font-weight: bold;\n   font-style: normal;   \n}\n#dHbEZWi .tooltip-label {\n   fill: #474747;\n   font-family: Lucida Grande, sans-serif;\n   font-size: 13.0px;\n   font-weight: bold;\n   font-style: normal;   \n}\n\n  </style>\n  <g id=\"ptfTQnW\">\n    <path fill-rule=\"evenodd\" fill=\"rgb(255,255,255)\" fill-opacity=\"1.0\" d=\"M0.0 0.0 L0.0 400.0 L600.0 400.0 L600.0 0.0 Z\">\n    </path>\n    <g transform=\"translate(23.0 10.0 ) \">\n      <g transform=\"translate(21.961210910936405 0.0 ) \">\n        <line x1=\"66.84437979394175\" y1=\"344.0\" x2=\"66.84437979394175\" y2=\"0.0\" stroke=\"rgb(233,233,233)\" stroke-opacity=\"1.0\" stroke-width=\"1.0\" fill=\"none\">\n        </line>\n        <line x1=\"169.68188716923675\" y1=\"344.0\" x2=\"169.68188716923675\" y2=\"0.0\" stroke=\"rgb(233,233,233)\" stroke-opacity=\"1.0\" stroke-width=\"1.0\" fill=\"none\">\n        </line>\n        <line x1=\"272.5193945445318\" y1=\"344.0\" x2=\"272.5193945445318\" y2=\"0.0\" stroke=\"rgb(233,233,233)\" stroke-opacity=\"1.0\" stroke-width=\"1.0\" fill=\"none\">\n        </line>\n        <line x1=\"375.3569019198268\" y1=\"344.0\" x2=\"375.3569019198268\" y2=\"0.0\" stroke=\"rgb(233,233,233)\" stroke-opacity=\"1.0\" stroke-width=\"1.0\" fill=\"none\">\n        </line>\n        <line x1=\"478.1944092951218\" y1=\"344.0\" x2=\"478.1944092951218\" y2=\"0.0\" stroke=\"rgb(233,233,233)\" stroke-opacity=\"1.0\" stroke-width=\"1.0\" fill=\"none\">\n        </line>\n      </g>\n      <g transform=\"translate(21.961210910936405 344.0 ) \">\n        <g transform=\"translate(66.84437979394175 0.0 ) \">\n          <line stroke-width=\"1.0\" stroke=\"rgb(71,71,71)\" stroke-opacity=\"1.0\" x2=\"0.0\" y2=\"4.0\">\n          </line>\n          <g transform=\"translate(0.0 7.0 ) \">\n            <text class=\"axis-text-x\" text-anchor=\"middle\" dy=\"0.7em\">\n              <tspan>Jan</tspan>\n            </text>\n          </g>\n        </g>\n        <g transform=\"translate(169.68188716923675 0.0 ) \">\n          <line stroke-width=\"1.0\" stroke=\"rgb(71,71,71)\" stroke-opacity=\"1.0\" x2=\"0.0\" y2=\"4.0\">\n          </line>\n          <g transform=\"translate(0.0 7.0 ) \">\n            <text class=\"axis-text-x\" text-anchor=\"middle\" dy=\"0.7em\">\n              <tspan>Feb</tspan>\n            </text>\n          </g>\n        </g>\n        <g transform=\"translate(272.5193945445318 0.0 ) \">\n          <line stroke-width=\"1.0\" stroke=\"rgb(71,71,71)\" stroke-opacity=\"1.0\" x2=\"0.0\" y2=\"4.0\">\n          </line>\n          <g transform=\"translate(0.0 7.0 ) \">\n            <text class=\"axis-text-x\" text-anchor=\"middle\" dy=\"0.7em\">\n              <tspan>Mar</tspan>\n            </text>\n          </g>\n        </g>\n        <g transform=\"translate(375.3569019198268 0.0 ) \">\n          <line stroke-width=\"1.0\" stroke=\"rgb(71,71,71)\" stroke-opacity=\"1.0\" x2=\"0.0\" y2=\"4.0\">\n          </line>\n          <g transform=\"translate(0.0 7.0 ) \">\n            <text class=\"axis-text-x\" text-anchor=\"middle\" dy=\"0.7em\">\n              <tspan>Apr</tspan>\n            </text>\n          </g>\n        </g>\n        <g transform=\"translate(478.1944092951218 0.0 ) \">\n          <line stroke-width=\"1.0\" stroke=\"rgb(71,71,71)\" stroke-opacity=\"1.0\" x2=\"0.0\" y2=\"4.0\">\n          </line>\n          <g transform=\"translate(0.0 7.0 ) \">\n            <text class=\"axis-text-x\" text-anchor=\"middle\" dy=\"0.7em\">\n              <tspan>May</tspan>\n            </text>\n          </g>\n        </g>\n        <line x1=\"0.0\" y1=\"0.0\" x2=\"545.0387890890636\" y2=\"0.0\" stroke-width=\"1.0\" stroke=\"rgb(71,71,71)\" stroke-opacity=\"1.0\">\n        </line>\n      </g>\n      <g transform=\"translate(21.961210910936405 0.0 ) \">\n        <line x1=\"0.0\" y1=\"328.3636363636364\" x2=\"545.0387890890636\" y2=\"328.3636363636364\" stroke=\"rgb(233,233,233)\" stroke-opacity=\"1.0\" stroke-width=\"1.0\" fill=\"none\">\n        </line>\n        <line x1=\"0.0\" y1=\"273.97628458498025\" x2=\"545.0387890890636\" y2=\"273.97628458498025\" stroke=\"rgb(233,233,233)\" stroke-opacity=\"1.0\" stroke-width=\"1.0\" fill=\"none\">\n        </line>\n        <line x1=\"0.0\" y1=\"219.5889328063241\" x2=\"545.0387890890636\" y2=\"219.5889328063241\" stroke=\"rgb(233,233,233)\" stroke-opacity=\"1.0\" stroke-width=\"1.0\" fill=\"none\">\n        </line>\n        <line x1=\"0.0\" y1=\"165.20158102766794\" x2=\"545.0387890890636\" y2=\"165.20158102766794\" stroke=\"rgb(233,233,233)\" stroke-opacity=\"1.0\" stroke-width=\"1.0\" fill=\"none\">\n        </line>\n        <line x1=\"0.0\" y1=\"110.81422924901182\" x2=\"545.0387890890636\" y2=\"110.81422924901182\" stroke=\"rgb(233,233,233)\" stroke-opacity=\"1.0\" stroke-width=\"1.0\" fill=\"none\">\n        </line>\n        <line x1=\"0.0\" y1=\"56.42687747035569\" x2=\"545.0387890890636\" y2=\"56.42687747035569\" stroke=\"rgb(233,233,233)\" stroke-opacity=\"1.0\" stroke-width=\"1.0\" fill=\"none\">\n        </line>\n      </g>\n      <g transform=\"translate(21.961210910936405 0.0 ) \">\n        <g transform=\"translate(0.0 328.3636363636364 ) \">\n          <g transform=\"translate(-3.0 0.0 ) \">\n            <text class=\"axis-text-y\" text-anchor=\"end\" dy=\"0.35em\">\n              <tspan>4</tspan>\n            </text>\n          </g>\n        </g>\n        <g transform=\"translate(0.0 273.97628458498025 ) \">\n          <g transform=\"translate(-3.0 0.0 ) \">\n            <text class=\"axis-text-y\" text-anchor=\"end\" dy=\"0.35em\">\n              <tspan>6</tspan>\n            </text>\n          </g>\n        </g>\n        <g transform=\"translate(0.0 219.5889328063241 ) \">\n          <g transform=\"translate(-3.0 0.0 ) \">\n            <text class=\"axis-text-y\" text-anchor=\"end\" dy=\"0.35em\">\n              <tspan>8</tspan>\n            </text>\n          </g>\n        </g>\n        <g transform=\"translate(0.0 165.20158102766794 ) \">\n          <g transform=\"translate(-3.0 0.0 ) \">\n            <text class=\"axis-text-y\" text-anchor=\"end\" dy=\"0.35em\">\n              <tspan>10</tspan>\n            </text>\n          </g>\n        </g>\n        <g transform=\"translate(0.0 110.81422924901182 ) \">\n          <g transform=\"translate(-3.0 0.0 ) \">\n            <text class=\"axis-text-y\" text-anchor=\"end\" dy=\"0.35em\">\n              <tspan>12</tspan>\n            </text>\n          </g>\n        </g>\n        <g transform=\"translate(0.0 56.42687747035569 ) \">\n          <g transform=\"translate(-3.0 0.0 ) \">\n            <text class=\"axis-text-y\" text-anchor=\"end\" dy=\"0.35em\">\n              <tspan>14</tspan>\n            </text>\n          </g>\n        </g>\n        <g transform=\"translate(0.0 2.0395256916995663 ) \">\n          <g transform=\"translate(-3.0 0.0 ) \">\n            <text class=\"axis-text-y\" text-anchor=\"end\" dy=\"0.35em\">\n              <tspan>16</tspan>\n            </text>\n          </g>\n        </g>\n      </g>\n      <g transform=\"translate(21.961210910936405 0.0 ) \" clip-path=\"url(#c31j7Mj)\" clip-bounds-jfx=\"[rect (0.0, 0.0), (545.0387890890636, 344.0)]\">\n        <defs>\n          <clipPath id=\"c31j7Mj\">\n            <rect x=\"0.0\" y=\"0.0\" width=\"545.0387890890636\" height=\"344.0\">\n            </rect>\n          </clipPath>\n        </defs>\n        <rect x=\"20.567501475059004\" y=\"50.988142292490124\" height=\"168.60079051383397\" width=\"92.5537566377655\" stroke=\"rgb(238,102,102)\" stroke-opacity=\"1.0\" fill=\"rgb(238,102,102)\" fill-opacity=\"1.0\" stroke-width=\"1.32\">\n        </rect>\n        <rect x=\"123.40500885035402\" y=\"203.27272727272725\" height=\"51.66798418972331\" width=\"92.5537566377655\" stroke=\"rgb(59,162,114)\" stroke-opacity=\"1.0\" fill=\"rgb(59,162,114)\" fill-opacity=\"1.0\" stroke-width=\"1.32\">\n        </rect>\n        <rect x=\"226.242516225649\" y=\"146.16600790513831\" height=\"51.66798418972331\" width=\"92.5537566377655\" stroke=\"rgb(59,162,114)\" stroke-opacity=\"1.0\" fill=\"rgb(59,162,114)\" fill-opacity=\"1.0\" stroke-width=\"1.32\">\n        </rect>\n        <rect x=\"329.080023600944\" y=\"132.5691699604743\" height=\"127.81027667984188\" width=\"92.5537566377655\" stroke=\"rgb(238,102,102)\" stroke-opacity=\"1.0\" fill=\"rgb(238,102,102)\" fill-opacity=\"1.0\" stroke-width=\"1.32\">\n        </rect>\n        <rect x=\"431.917530976239\" y=\"170.64031620553357\" height=\"157.7233201581028\" width=\"92.5537566377655\" stroke=\"rgb(59,162,114)\" stroke-opacity=\"1.0\" fill=\"rgb(59,162,114)\" fill-opacity=\"1.0\" stroke-width=\"1.32\">\n        </rect>\n        <line x1=\"66.84437979394175\" y1=\"219.5889328063241\" x2=\"66.84437979394175\" y2=\"233.18577075098813\" stroke=\"rgb(238,102,102)\" stroke-opacity=\"1.0\" fill=\"rgb(238,102,102)\" fill-opacity=\"1.0\" stroke-width=\"1.32\">\n        </line>\n        <line x1=\"66.84437979394175\" y1=\"233.18577075098813\" x2=\"66.84437979394175\" y2=\"233.18577075098813\" stroke=\"rgb(238,102,102)\" stroke-opacity=\"1.0\" fill=\"rgb(238,102,102)\" fill-opacity=\"1.0\" stroke-width=\"1.32\">\n        </line>\n        <line x1=\"66.84437979394175\" y1=\"50.988142292490124\" x2=\"66.84437979394175\" y2=\"15.636363636363626\" stroke=\"rgb(238,102,102)\" stroke-opacity=\"1.0\" fill=\"rgb(238,102,102)\" fill-opacity=\"1.0\" stroke-width=\"1.32\">\n        </line>\n        <line x1=\"66.84437979394175\" y1=\"15.636363636363626\" x2=\"66.84437979394175\" y2=\"15.636363636363626\" stroke=\"rgb(238,102,102)\" stroke-opacity=\"1.0\" fill=\"rgb(238,102,102)\" fill-opacity=\"1.0\" stroke-width=\"1.32\">\n        </line>\n        <line x1=\"169.68188716923675\" y1=\"254.94071146245057\" x2=\"169.68188716923675\" y2=\"271.25691699604744\" stroke=\"rgb(59,162,114)\" stroke-opacity=\"1.0\" fill=\"rgb(59,162,114)\" fill-opacity=\"1.0\" stroke-width=\"1.32\">\n        </line>\n        <line x1=\"169.68188716923675\" y1=\"271.25691699604744\" x2=\"169.68188716923675\" y2=\"271.25691699604744\" stroke=\"rgb(59,162,114)\" stroke-opacity=\"1.0\" fill=\"rgb(59,162,114)\" fill-opacity=\"1.0\" stroke-width=\"1.32\">\n        </line>\n        <line x1=\"169.68188716923675\" y1=\"203.27272727272725\" x2=\"169.68188716923675\" y2=\"176.0790513833992\" stroke=\"rgb(59,162,114)\" stroke-opacity=\"1.0\" fill=\"rgb(59,162,114)\" fill-opacity=\"1.0\" stroke-width=\"1.32\">\n        </line>\n        <line x1=\"169.68188716923675\" y1=\"176.0790513833992\" x2=\"169.68188716923675\" y2=\"176.0790513833992\" stroke=\"rgb(59,162,114)\" stroke-opacity=\"1.0\" fill=\"rgb(59,162,114)\" fill-opacity=\"1.0\" stroke-width=\"1.32\">\n        </line>\n        <line x1=\"272.5193945445318\" y1=\"197.83399209486163\" x2=\"272.5193945445318\" y2=\"205.99209486166006\" stroke=\"rgb(59,162,114)\" stroke-opacity=\"1.0\" fill=\"rgb(59,162,114)\" fill-opacity=\"1.0\" stroke-width=\"1.32\">\n        </line>\n        <line x1=\"272.5193945445318\" y1=\"205.99209486166006\" x2=\"272.5193945445318\" y2=\"205.99209486166006\" stroke=\"rgb(59,162,114)\" stroke-opacity=\"1.0\" fill=\"rgb(59,162,114)\" fill-opacity=\"1.0\" stroke-width=\"1.32\">\n        </line>\n        <line x1=\"272.5193945445318\" y1=\"146.16600790513831\" x2=\"272.5193945445318\" y2=\"146.16600790513831\" stroke=\"rgb(59,162,114)\" stroke-opacity=\"1.0\" fill=\"rgb(59,162,114)\" fill-opacity=\"1.0\" stroke-width=\"1.32\">\n        </line>\n        <line x1=\"272.5193945445318\" y1=\"146.16600790513831\" x2=\"272.5193945445318\" y2=\"146.16600790513831\" stroke=\"rgb(59,162,114)\" stroke-opacity=\"1.0\" fill=\"rgb(59,162,114)\" fill-opacity=\"1.0\" stroke-width=\"1.32\">\n        </line>\n        <line x1=\"375.3569019198268\" y1=\"260.3794466403162\" x2=\"375.3569019198268\" y2=\"290.29249011857706\" stroke=\"rgb(238,102,102)\" stroke-opacity=\"1.0\" fill=\"rgb(238,102,102)\" fill-opacity=\"1.0\" stroke-width=\"1.32\">\n        </line>\n        <line x1=\"375.3569019198268\" y1=\"290.29249011857706\" x2=\"375.3569019198268\" y2=\"290.29249011857706\" stroke=\"rgb(238,102,102)\" stroke-opacity=\"1.0\" fill=\"rgb(238,102,102)\" fill-opacity=\"1.0\" stroke-width=\"1.32\">\n        </line>\n        <line x1=\"375.3569019198268\" y1=\"132.5691699604743\" x2=\"375.3569019198268\" y2=\"118.97233201581025\" stroke=\"rgb(238,102,102)\" stroke-opacity=\"1.0\" fill=\"rgb(238,102,102)\" fill-opacity=\"1.0\" stroke-width=\"1.32\">\n        </line>\n        <line x1=\"375.3569019198268\" y1=\"118.97233201581025\" x2=\"375.3569019198268\" y2=\"118.97233201581025\" stroke=\"rgb(238,102,102)\" stroke-opacity=\"1.0\" fill=\"rgb(238,102,102)\" fill-opacity=\"1.0\" stroke-width=\"1.32\">\n        </line>\n        <line x1=\"478.1944092951218\" y1=\"328.3636363636364\" x2=\"478.1944092951218\" y2=\"328.3636363636364\" stroke=\"rgb(59,162,114)\" stroke-opacity=\"1.0\" fill=\"rgb(59,162,114)\" fill-opacity=\"1.0\" stroke-width=\"1.32\">\n        </line>\n        <line x1=\"478.1944092951218\" y1=\"328.3636363636364\" x2=\"478.1944092951218\" y2=\"328.3636363636364\" stroke=\"rgb(59,162,114)\" stroke-opacity=\"1.0\" fill=\"rgb(59,162,114)\" fill-opacity=\"1.0\" stroke-width=\"1.32\">\n        </line>\n        <line x1=\"478.1944092951218\" y1=\"170.64031620553357\" x2=\"478.1944092951218\" y2=\"167.92094861660075\" stroke=\"rgb(59,162,114)\" stroke-opacity=\"1.0\" fill=\"rgb(59,162,114)\" fill-opacity=\"1.0\" stroke-width=\"1.32\">\n        </line>\n        <line x1=\"478.1944092951218\" y1=\"167.92094861660075\" x2=\"478.1944092951218\" y2=\"167.92094861660075\" stroke=\"rgb(59,162,114)\" stroke-opacity=\"1.0\" fill=\"rgb(59,162,114)\" fill-opacity=\"1.0\" stroke-width=\"1.32\">\n        </line>\n      </g>\n    </g>\n    <g transform=\"translate(14.5 182.0 ) rotate(-90.0 ) \">\n      <text class=\"axis-title-y\" y=\"0.0\" text-anchor=\"middle\">\n        <tspan></tspan>\n      </text>\n    </g>\n    <g transform=\"translate(317.4806054554682 391.5 ) \">\n      <text class=\"axis-title-x\" y=\"0.0\" text-anchor=\"middle\">\n        <tspan>x</tspan>\n      </text>\n    </g>\n    <path fill=\"rgb(0,0,0)\" fill-opacity=\"0.0\" stroke=\"rgb(71,71,71)\" stroke-opacity=\"1.0\" stroke-width=\"0.0\" d=\"M0.0 0.0 L0.0 400.0 L600.0 400.0 L600.0 0.0 Z\">\n    </path>\n  </g>\n  <g id=\"dHbEZWi\">\n  </g>\n</svg>\n        <script>document.getElementById(\"e5c45a5d-5fa1-46e4-8b6a-301c61639d65\").style.display = \"none\";</script>",
      "application/plot+json": {
       "output_type": "lets_plot_spec",
       "output": {
        "mapping": {},
        "data": {},
        "kind": "plot",
        "scales": [
         {
          "aesthetic": "x",
          "name": "x",
          "limits": [
           null,
           null
          ]
         },
         {
          "aesthetic": "y",
          "name": "",
          "limits": [
           null,
           null
          ]
         },
         {
          "aesthetic": "x",
          "discrete": true
         },
         {
          "aesthetic": "fill",
          "values": [
           "#3ba272",
           "#ee6666"
          ],
          "limits": [
           true,
           false
          ],
          "guide": "none"
         },
         {
          "aesthetic": "color",
          "values": [
           "#3ba272",
           "#ee6666"
          ],
          "limits": [
           true,
           false
          ],
          "guide": "none"
         },
         {
          "aesthetic": "linetype",
          "values": [
           1.0,
           1.0
          ],
          "limits": [
           true,
           false
          ],
          "guide": "none"
         },
         {
          "aesthetic": "size",
          "values": [
           0.6,
           0.6
          ],
          "limits": [
           true,
           false
          ],
          "guide": "none"
         },
         {
          "aesthetic": "alpha",
          "values": [
           1.0,
           1.0
          ],
          "limits": [
           true,
           false
          ],
          "guide": "none"
         }
        ],
        "layers": [
         {
          "mapping": {
           "x": "x",
           "ymin": "min",
           "lower": "lower",
           "middle": "middle",
           "upper": "upper",
           "ymax": "max",
           "fill": "isIncreased",
           "color": "isIncreased",
           "linetype": "isIncreased",
           "size": "isIncreased",
           "alpha": "isIncreased"
          },
          "stat": "identity",
          "data": {
           "min": [
            7.5,
            6.1,
            8.5,
            5.4,
            4.0
           ],
           "middle": [
            null,
            null,
            null,
            null,
            null
           ],
           "max": [
            15.5,
            9.6,
            10.7,
            11.7,
            9.9
           ],
           "isIncreased": [
            false,
            true,
            true,
            false,
            true
           ],
           "lower": [
            8.0,
            6.7,
            8.8,
            6.5,
            4.0
           ],
           "upper": [
            14.2,
            8.6,
            10.7,
            11.2,
            9.8
           ],
           "x": [
            "Jan",
            "Feb",
            "Mar",
            "Apr",
            "May"
           ],
           "close": [
            8.0,
            8.6,
            10.7,
            6.5,
            9.8
           ],
           "open": [
            14.2,
            6.7,
            8.8,
            11.2,
            4.0
           ]
          },
          "whisker_width": 0.0,
          "sampling": "none",
          "position": "identity",
          "geom": "boxplot",
          "tooltips": {
           "formats": [
            {
             "field": "open",
             "format": ".2f"
            },
            {
             "field": "max",
             "format": ".2f"
            },
            {
             "field": "min",
             "format": ".2f"
            },
            {
             "field": "close",
             "format": ".2f"
            }
           ],
           "title": "@x",
           "lines": [
            "open|@open",
            "high|@max",
            "low|@min",
            "close|@close"
           ],
           "disable_splitting": true
          }
         }
        ]
       },
       "apply_color_scheme": true,
       "swing_enabled": true
      }
     },
     "execution_count": 2,
     "metadata": {},
     "output_type": "execute_result"
    }
   ],
   "source": [
    "val month = listOf(\"Jan\", \"Feb\", \"Mar\", \"Apr\", \"May\")\n",
    "val open = listOf(14.2, 6.7, 8.8, 11.2, 4.0)\n",
    "val high = listOf(15.5, 9.6, 10.7, 11.7, 9.9)\n",
    "val low = listOf(7.5, 6.1, 8.5, 5.4, 4.0)\n",
    "val close = listOf(8.0, 8.6, 10.7, 6.5, 9.8)\n",
    "\n",
    "plot {\n",
    "    candlestick(month, open, high, low, close)\n",
    "}"
   ],
   "metadata": {
    "collapsed": false,
    "ExecuteTime": {
     "end_time": "2024-02-22T11:01:50.198315Z",
     "start_time": "2024-02-22T11:01:48.369464Z"
    }
   },
   "execution_count": 2
  }
 ],
 "metadata": {
  "kernelspec": {
   "display_name": "Kotlin",
   "language": "kotlin",
   "name": "kotlin"
  },
  "language_info": {
   "name": "kotlin",
   "version": "1.9.0",
   "mimetype": "text/x-kotlin",
   "file_extension": ".kt",
   "pygments_lexer": "kotlin",
   "codemirror_mode": "text/x-kotlin",
   "nbconvert_exporter": ""
  },
  "ktnbPluginMetadata": {
   "projectLibraries": []
  }
 },
 "nbformat": 4,
 "nbformat_minor": 0
}
