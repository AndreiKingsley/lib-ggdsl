{
 "cells": [
  {
   "cell_type": "code",
   "execution_count": 1,
   "metadata": {
    "collapsed": true,
    "ExecuteTime": {
     "end_time": "2024-02-22T11:01:52.896412Z",
     "start_time": "2024-02-22T11:01:41.704313Z"
    }
   },
   "outputs": [],
   "source": [
    "%use kandy(0.6.0-dev-42, 0.1.1-dev-5), dataframe, datetime"
   ]
  },
  {
   "cell_type": "code",
   "outputs": [
    {
     "data": {
      "text/html": "            <iframe src='about:blank' style='border:none !important;' width='600' height='400' srcdoc=\"&lt;html lang=&quot;en&quot;>\n   &lt;head>\n       &lt;meta charset=&quot;UTF-8&quot;>\n       &lt;style> html, body { margin: 0; overflow: hidden; } &lt;/style>\n       &lt;script type=&quot;text/javascript&quot; data-lets-plot-script=&quot;library&quot; src=&quot;https://cdn.jsdelivr.net/gh/JetBrains/lets-plot@v4.2.0/js-package/distr/lets-plot.min.js&quot;>&lt;/script>\n   &lt;/head>\n   &lt;body>\n          &lt;div id=&quot;4xCFhz&quot;>&lt;/div>\n   &lt;script type=&quot;text/javascript&quot; data-lets-plot-script=&quot;plot&quot;>\n       var plotSpec={\n&quot;mapping&quot;:{\n},\n&quot;data&quot;:{\n},\n&quot;kind&quot;:&quot;plot&quot;,\n&quot;scales&quot;:[{\n&quot;aesthetic&quot;:&quot;x&quot;,\n&quot;name&quot;:&quot;date&quot;,\n&quot;limits&quot;:[null,null]\n},{\n&quot;aesthetic&quot;:&quot;y&quot;,\n&quot;name&quot;:&quot;&quot;,\n&quot;limits&quot;:[null,null]\n},{\n&quot;aesthetic&quot;:&quot;x&quot;,\n&quot;datetime&quot;:true,\n&quot;limits&quot;:[null,null]\n},{\n&quot;aesthetic&quot;:&quot;fill&quot;,\n&quot;values&quot;:[&quot;#00fefe&quot;,&quot;#ea2211&quot;],\n&quot;limits&quot;:[true,false],\n&quot;guide&quot;:&quot;none&quot;\n},{\n&quot;aesthetic&quot;:&quot;color&quot;,\n&quot;values&quot;:[&quot;#3ba272&quot;,&quot;#ee6666&quot;],\n&quot;limits&quot;:[true,false],\n&quot;guide&quot;:&quot;none&quot;\n},{\n&quot;aesthetic&quot;:&quot;linetype&quot;,\n&quot;values&quot;:[1.0,1.0],\n&quot;limits&quot;:[true,false],\n&quot;guide&quot;:&quot;none&quot;\n},{\n&quot;aesthetic&quot;:&quot;size&quot;,\n&quot;values&quot;:[0.6,0.6],\n&quot;limits&quot;:[true,false],\n&quot;guide&quot;:&quot;none&quot;\n},{\n&quot;aesthetic&quot;:&quot;alpha&quot;,\n&quot;values&quot;:[0.9,0.5],\n&quot;limits&quot;:[true,false],\n&quot;guide&quot;:&quot;none&quot;\n},{\n&quot;aesthetic&quot;:&quot;y&quot;,\n&quot;name&quot;:&quot;Price, €&quot;,\n&quot;limits&quot;:[null,null]\n},{\n&quot;aesthetic&quot;:&quot;x&quot;,\n&quot;name&quot;:&quot;Date&quot;,\n&quot;limits&quot;:[null,null]\n}],\n&quot;layers&quot;:[{\n&quot;mapping&quot;:{\n&quot;x&quot;:&quot;x&quot;,\n&quot;ymin&quot;:&quot;min&quot;,\n&quot;lower&quot;:&quot;lower&quot;,\n&quot;middle&quot;:&quot;middle&quot;,\n&quot;upper&quot;:&quot;upper&quot;,\n&quot;ymax&quot;:&quot;max&quot;,\n&quot;fill&quot;:&quot;isIncreased&quot;,\n&quot;color&quot;:&quot;isIncreased&quot;,\n&quot;linetype&quot;:&quot;isIncreased&quot;,\n&quot;size&quot;:&quot;isIncreased&quot;,\n&quot;alpha&quot;:&quot;isIncreased&quot;\n},\n&quot;stat&quot;:&quot;identity&quot;,\n&quot;data&quot;:{\n&quot;min&quot;:[8.0,10.0,9.0,11.0,12.0,15.0,18.0,17.0,18.0,22.0],\n&quot;middle&quot;:[null,null,null,null,null,null,null,null,null,null],\n&quot;max&quot;:[18.0,17.0,20.0,22.0,18.0,22.0,25.0,24.0,27.0,28.0],\n&quot;isIncreased&quot;:[true,false,true,false,true,true,true,false,true,false],\n&quot;lower&quot;:[10.0,12.0,12.0,14.0,14.0,16.0,20.0,19.0,19.0,23.0],\n&quot;upper&quot;:[15.0,15.0,18.0,18.0,16.0,20.0,22.0,22.0,25.0,25.0],\n&quot;x&quot;:[1.6409808E12,1.6410672E12,1.6411536E12,1.64124E12,1.6413264E12,1.6414128E12,1.6414992E12,1.6415856E12,1.641672E12,1.6417584E12],\n&quot;close&quot;:[15.0,12.0,18.0,14.0,16.0,20.0,22.0,19.0,25.0,23.0],\n&quot;open&quot;:[10.0,15.0,12.0,18.0,14.0,16.0,20.0,22.0,19.0,25.0]\n},\n&quot;whisker_width&quot;:0.0,\n&quot;color&quot;:&quot;#000000&quot;,\n&quot;sampling&quot;:&quot;none&quot;,\n&quot;width&quot;:0.7,\n&quot;position&quot;:&quot;identity&quot;,\n&quot;geom&quot;:&quot;boxplot&quot;,\n&quot;data_meta&quot;:{\n&quot;series_annotations&quot;:[{\n&quot;column&quot;:&quot;x&quot;,\n&quot;type&quot;:&quot;datetime&quot;\n}]\n},\n&quot;tooltips&quot;:{\n&quot;formats&quot;:[{\n&quot;field&quot;:&quot;x&quot;,\n&quot;format&quot;:&quot;%d/%m/%y&quot;\n},{\n&quot;field&quot;:&quot;open&quot;,\n&quot;format&quot;:&quot;.2f&quot;\n},{\n&quot;field&quot;:&quot;max&quot;,\n&quot;format&quot;:&quot;.2f&quot;\n},{\n&quot;field&quot;:&quot;min&quot;,\n&quot;format&quot;:&quot;.2f&quot;\n},{\n&quot;field&quot;:&quot;close&quot;,\n&quot;format&quot;:&quot;.2f&quot;\n}],\n&quot;title&quot;:&quot;@x&quot;,\n&quot;lines&quot;:[&quot;open|@open&quot;,&quot;high|@max&quot;,&quot;low|@min&quot;,&quot;close|@close&quot;],\n&quot;disable_splitting&quot;:true\n}\n}]\n};\n       var plotContainer = document.getElementById(&quot;4xCFhz&quot;);\n       LetsPlot.buildPlotFromProcessedSpecs(plotSpec, -1, -1, plotContainer);\n   &lt;/script>\n   &lt;/body>\n&lt;/html>\"></iframe>            <svg xmlns=\"http://www.w3.org/2000/svg\" xmlns:xlink=\"http://www.w3.org/1999/xlink\" class=\"plt-container\" id=3a89231c-e052-46da-9b58-fea6a9c548e7 width=\"100%\" height=\"100%\" style=\"max-width: 600.0px; max-height: 400.0px;\" viewBox=\"0 0 600.0 400.0\" preserveAspectRatio=\"xMinYMin meet\">\n  <style type=\"text/css\">\n  .plt-container {\n   font-family: Lucida Grande, sans-serif;\n   user-select: none;\n   -webkit-user-select: none;\n   -moz-user-select: none;\n   -ms-user-select: none;\n}\ntext {\n   text-rendering: optimizeLegibility;\n}\n#pGAhagl .plot-title {\n   fill: #474747;\n   font-family: Lucida Grande, sans-serif;\n   font-size: 16.0px;\n   font-weight: normal;\n   font-style: normal;   \n}\n#pGAhagl .plot-subtitle {\n   fill: #474747;\n   font-family: Lucida Grande, sans-serif;\n   font-size: 15.0px;\n   font-weight: normal;\n   font-style: normal;   \n}\n#pGAhagl .plot-caption {\n   fill: #474747;\n   font-family: Lucida Grande, sans-serif;\n   font-size: 13.0px;\n   font-weight: normal;\n   font-style: normal;   \n}\n#pGAhagl .legend-title {\n   fill: #474747;\n   font-family: Lucida Grande, sans-serif;\n   font-size: 15.0px;\n   font-weight: normal;\n   font-style: normal;   \n}\n#pGAhagl .legend-item {\n   fill: #474747;\n   font-family: Lucida Grande, sans-serif;\n   font-size: 13.0px;\n   font-weight: normal;\n   font-style: normal;   \n}\n#pGAhagl .axis-title-x {\n   fill: #474747;\n   font-family: Lucida Grande, sans-serif;\n   font-size: 15.0px;\n   font-weight: normal;\n   font-style: normal;   \n}\n#pGAhagl .axis-text-x {\n   fill: #474747;\n   font-family: Lucida Grande, sans-serif;\n   font-size: 13.0px;\n   font-weight: normal;\n   font-style: normal;   \n}\n#dhPuLJM .axis-tooltip-text-x {\n   fill: #ffffff;\n   font-family: Lucida Grande, sans-serif;\n   font-size: 13.0px;\n   font-weight: normal;\n   font-style: normal;   \n}\n#pGAhagl .axis-title-y {\n   fill: #474747;\n   font-family: Lucida Grande, sans-serif;\n   font-size: 15.0px;\n   font-weight: normal;\n   font-style: normal;   \n}\n#pGAhagl .axis-text-y {\n   fill: #474747;\n   font-family: Lucida Grande, sans-serif;\n   font-size: 13.0px;\n   font-weight: normal;\n   font-style: normal;   \n}\n#dhPuLJM .axis-tooltip-text-y {\n   fill: #ffffff;\n   font-family: Lucida Grande, sans-serif;\n   font-size: 13.0px;\n   font-weight: normal;\n   font-style: normal;   \n}\n#pGAhagl .facet-strip-text-x {\n   fill: #474747;\n   font-family: Lucida Grande, sans-serif;\n   font-size: 13.0px;\n   font-weight: normal;\n   font-style: normal;   \n}\n#pGAhagl .facet-strip-text-y {\n   fill: #474747;\n   font-family: Lucida Grande, sans-serif;\n   font-size: 13.0px;\n   font-weight: normal;\n   font-style: normal;   \n}\n#dhPuLJM .tooltip-text {\n   fill: #474747;\n   font-family: Lucida Grande, sans-serif;\n   font-size: 13.0px;\n   font-weight: normal;\n   font-style: normal;   \n}\n#dhPuLJM .tooltip-title {\n   fill: #474747;\n   font-family: Lucida Grande, sans-serif;\n   font-size: 13.0px;\n   font-weight: bold;\n   font-style: normal;   \n}\n#dhPuLJM .tooltip-label {\n   fill: #474747;\n   font-family: Lucida Grande, sans-serif;\n   font-size: 13.0px;\n   font-weight: bold;\n   font-style: normal;   \n}\n\n  </style>\n  <g id=\"pGAhagl\">\n    <path fill-rule=\"evenodd\" fill=\"rgb(255,255,255)\" fill-opacity=\"1.0\" d=\"M0.0 0.0 L0.0 400.0 L600.0 400.0 L600.0 0.0 Z\">\n    </path>\n    <g transform=\"translate(23.0 10.0 ) \">\n      <g transform=\"translate(21.961210910936405 0.0 ) \">\n        <line x1=\"102.24798277043737\" y1=\"344.0\" x2=\"102.24798277043737\" y2=\"0.0\" stroke=\"rgb(233,233,233)\" stroke-opacity=\"1.0\" stroke-width=\"1.0\" fill=\"none\">\n        </line>\n        <line x1=\"204.41082983487286\" y1=\"344.0\" x2=\"204.41082983487286\" y2=\"0.0\" stroke=\"rgb(233,233,233)\" stroke-opacity=\"1.0\" stroke-width=\"1.0\" fill=\"none\">\n        </line>\n        <line x1=\"306.57367689942475\" y1=\"344.0\" x2=\"306.57367689942475\" y2=\"0.0\" stroke=\"rgb(233,233,233)\" stroke-opacity=\"1.0\" stroke-width=\"1.0\" fill=\"none\">\n        </line>\n        <line x1=\"408.73652396386024\" y1=\"344.0\" x2=\"408.73652396386024\" y2=\"0.0\" stroke=\"rgb(233,233,233)\" stroke-opacity=\"1.0\" stroke-width=\"1.0\" fill=\"none\">\n        </line>\n        <line x1=\"510.89937102841213\" y1=\"344.0\" x2=\"510.89937102841213\" y2=\"0.0\" stroke=\"rgb(233,233,233)\" stroke-opacity=\"1.0\" stroke-width=\"1.0\" fill=\"none\">\n        </line>\n      </g>\n      <g transform=\"translate(21.961210910936405 344.0 ) \">\n        <g transform=\"translate(0.08513570588547736 0.0 ) \">\n          <line stroke-width=\"1.0\" stroke=\"rgb(71,71,71)\" stroke-opacity=\"1.0\" x2=\"0.0\" y2=\"4.0\">\n          </line>\n          <g transform=\"translate(0.0 7.0 ) \">\n            <text class=\"axis-text-x\" text-anchor=\"middle\" dy=\"0.7em\">\n              <tspan>Dec 31</tspan>\n            </text>\n          </g>\n        </g>\n        <g transform=\"translate(102.24798277043737 0.0 ) \">\n          <line stroke-width=\"1.0\" stroke=\"rgb(71,71,71)\" stroke-opacity=\"1.0\" x2=\"0.0\" y2=\"4.0\">\n          </line>\n          <g transform=\"translate(0.0 7.0 ) \">\n            <text class=\"axis-text-x\" text-anchor=\"middle\" dy=\"0.7em\">\n              <tspan>Jan 2</tspan>\n            </text>\n          </g>\n        </g>\n        <g transform=\"translate(204.41082983487286 0.0 ) \">\n          <line stroke-width=\"1.0\" stroke=\"rgb(71,71,71)\" stroke-opacity=\"1.0\" x2=\"0.0\" y2=\"4.0\">\n          </line>\n          <g transform=\"translate(0.0 7.0 ) \">\n            <text class=\"axis-text-x\" text-anchor=\"middle\" dy=\"0.7em\">\n              <tspan>Jan 4</tspan>\n            </text>\n          </g>\n        </g>\n        <g transform=\"translate(306.57367689942475 0.0 ) \">\n          <line stroke-width=\"1.0\" stroke=\"rgb(71,71,71)\" stroke-opacity=\"1.0\" x2=\"0.0\" y2=\"4.0\">\n          </line>\n          <g transform=\"translate(0.0 7.0 ) \">\n            <text class=\"axis-text-x\" text-anchor=\"middle\" dy=\"0.7em\">\n              <tspan>Jan 6</tspan>\n            </text>\n          </g>\n        </g>\n        <g transform=\"translate(408.73652396386024 0.0 ) \">\n          <line stroke-width=\"1.0\" stroke=\"rgb(71,71,71)\" stroke-opacity=\"1.0\" x2=\"0.0\" y2=\"4.0\">\n          </line>\n          <g transform=\"translate(0.0 7.0 ) \">\n            <text class=\"axis-text-x\" text-anchor=\"middle\" dy=\"0.7em\">\n              <tspan>Jan 8</tspan>\n            </text>\n          </g>\n        </g>\n        <g transform=\"translate(510.89937102841213 0.0 ) \">\n          <line stroke-width=\"1.0\" stroke=\"rgb(71,71,71)\" stroke-opacity=\"1.0\" x2=\"0.0\" y2=\"4.0\">\n          </line>\n          <g transform=\"translate(0.0 7.0 ) \">\n            <text class=\"axis-text-x\" text-anchor=\"middle\" dy=\"0.7em\">\n              <tspan>Jan 10</tspan>\n            </text>\n          </g>\n        </g>\n        <line x1=\"0.0\" y1=\"0.0\" x2=\"545.0387890890636\" y2=\"0.0\" stroke-width=\"1.0\" stroke=\"rgb(71,71,71)\" stroke-opacity=\"1.0\">\n        </line>\n      </g>\n      <g transform=\"translate(21.961210910936405 0.0 ) \">\n        <line x1=\"0.0\" y1=\"297.09090909090907\" x2=\"545.0387890890706\" y2=\"297.09090909090907\" stroke=\"rgb(233,233,233)\" stroke-opacity=\"1.0\" stroke-width=\"1.0\" fill=\"none\">\n        </line>\n        <line x1=\"0.0\" y1=\"218.90909090909088\" x2=\"545.0387890890706\" y2=\"218.90909090909088\" stroke=\"rgb(233,233,233)\" stroke-opacity=\"1.0\" stroke-width=\"1.0\" fill=\"none\">\n        </line>\n        <line x1=\"0.0\" y1=\"140.7272727272727\" x2=\"545.0387890890706\" y2=\"140.7272727272727\" stroke=\"rgb(233,233,233)\" stroke-opacity=\"1.0\" stroke-width=\"1.0\" fill=\"none\">\n        </line>\n        <line x1=\"0.0\" y1=\"62.545454545454504\" x2=\"545.0387890890706\" y2=\"62.545454545454504\" stroke=\"rgb(233,233,233)\" stroke-opacity=\"1.0\" stroke-width=\"1.0\" fill=\"none\">\n        </line>\n      </g>\n      <g transform=\"translate(21.961210910936405 0.0 ) \">\n        <g transform=\"translate(0.0 297.09090909090907 ) \">\n          <g transform=\"translate(-3.0 0.0 ) \">\n            <text class=\"axis-text-y\" text-anchor=\"end\" dy=\"0.35em\">\n              <tspan>10</tspan>\n            </text>\n          </g>\n        </g>\n        <g transform=\"translate(0.0 218.90909090909088 ) \">\n          <g transform=\"translate(-3.0 0.0 ) \">\n            <text class=\"axis-text-y\" text-anchor=\"end\" dy=\"0.35em\">\n              <tspan>15</tspan>\n            </text>\n          </g>\n        </g>\n        <g transform=\"translate(0.0 140.7272727272727 ) \">\n          <g transform=\"translate(-3.0 0.0 ) \">\n            <text class=\"axis-text-y\" text-anchor=\"end\" dy=\"0.35em\">\n              <tspan>20</tspan>\n            </text>\n          </g>\n        </g>\n        <g transform=\"translate(0.0 62.545454545454504 ) \">\n          <g transform=\"translate(-3.0 0.0 ) \">\n            <text class=\"axis-text-y\" text-anchor=\"end\" dy=\"0.35em\">\n              <tspan>25</tspan>\n            </text>\n          </g>\n        </g>\n      </g>\n      <g transform=\"translate(21.961210910936405 0.0 ) \" clip-path=\"url(#cIzrzDI)\" clip-bounds-jfx=\"[rect (0.0, 0.0), (545.0387890890636, 344.0)]\">\n        <defs>\n          <clipPath id=\"cIzrzDI\">\n            <rect x=\"0.0\" y=\"0.0\" width=\"545.0387890890636\" height=\"344.0\">\n            </rect>\n          </clipPath>\n        </defs>\n        <rect x=\"24.774490413139574\" y=\"218.90909090909088\" height=\"78.18181818181819\" width=\"35.756996472598985\" stroke=\"rgb(0,0,0)\" stroke-opacity=\"1.0\" fill=\"rgb(0,254,254)\" fill-opacity=\"0.9\" stroke-width=\"1.32\">\n        </rect>\n        <rect x=\"75.85591394547373\" y=\"218.90909090909088\" height=\"46.909090909090935\" width=\"35.75699647248257\" stroke=\"rgb(0,0,0)\" stroke-opacity=\"1.0\" fill=\"rgb(234,34,17)\" fill-opacity=\"0.5\" stroke-width=\"1.32\">\n        </rect>\n        <rect x=\"126.93733747769147\" y=\"172.0\" height=\"93.81818181818181\" width=\"35.756996472598985\" stroke=\"rgb(0,0,0)\" stroke-opacity=\"1.0\" fill=\"rgb(0,254,254)\" fill-opacity=\"0.9\" stroke-width=\"1.32\">\n        </rect>\n        <rect x=\"178.0187610099092\" y=\"172.0\" height=\"62.54545454545453\" width=\"35.756996472598985\" stroke=\"rgb(0,0,0)\" stroke-opacity=\"1.0\" fill=\"rgb(234,34,17)\" fill-opacity=\"0.5\" stroke-width=\"1.32\">\n        </rect>\n        <rect x=\"229.10018454212695\" y=\"203.27272727272725\" height=\"31.27272727272728\" width=\"35.756996472598985\" stroke=\"rgb(0,0,0)\" stroke-opacity=\"1.0\" fill=\"rgb(0,254,254)\" fill-opacity=\"0.9\" stroke-width=\"1.32\">\n        </rect>\n        <rect x=\"280.1816080744611\" y=\"140.7272727272727\" height=\"62.54545454545456\" width=\"35.75699647248257\" stroke=\"rgb(0,0,0)\" stroke-opacity=\"1.0\" fill=\"rgb(0,254,254)\" fill-opacity=\"0.9\" stroke-width=\"1.32\">\n        </rect>\n        <rect x=\"331.26303160667885\" y=\"109.45454545454544\" height=\"31.272727272727252\" width=\"35.756996472598985\" stroke=\"rgb(0,0,0)\" stroke-opacity=\"1.0\" fill=\"rgb(0,254,254)\" fill-opacity=\"0.9\" stroke-width=\"1.32\">\n        </rect>\n        <rect x=\"382.3444551388966\" y=\"109.45454545454544\" height=\"46.90909090909088\" width=\"35.756996472598985\" stroke=\"rgb(0,0,0)\" stroke-opacity=\"1.0\" fill=\"rgb(234,34,17)\" fill-opacity=\"0.5\" stroke-width=\"1.32\">\n        </rect>\n        <rect x=\"433.42587867111433\" y=\"62.545454545454504\" height=\"93.81818181818181\" width=\"35.756996472598985\" stroke=\"rgb(0,0,0)\" stroke-opacity=\"1.0\" fill=\"rgb(0,254,254)\" fill-opacity=\"0.9\" stroke-width=\"1.32\">\n        </rect>\n        <rect x=\"484.5073022034485\" y=\"62.545454545454504\" height=\"31.27272727272731\" width=\"35.75699647248257\" stroke=\"rgb(0,0,0)\" stroke-opacity=\"1.0\" fill=\"rgb(234,34,17)\" fill-opacity=\"0.5\" stroke-width=\"1.32\">\n        </rect>\n        <line x1=\"42.65298864943907\" y1=\"297.09090909090907\" x2=\"42.65298864943907\" y2=\"328.3636363636364\" stroke=\"rgb(0,0,0)\" stroke-opacity=\"1.0\" fill=\"rgb(0,254,254)\" fill-opacity=\"0.9\" stroke-width=\"1.32\">\n        </line>\n        <line x1=\"42.65298864943907\" y1=\"328.3636363636364\" x2=\"42.65298864943907\" y2=\"328.3636363636364\" stroke=\"rgb(0,0,0)\" stroke-opacity=\"1.0\" fill=\"rgb(0,254,254)\" fill-opacity=\"0.9\" stroke-width=\"1.32\">\n        </line>\n        <line x1=\"42.65298864943907\" y1=\"218.90909090909088\" x2=\"42.65298864943907\" y2=\"172.0\" stroke=\"rgb(0,0,0)\" stroke-opacity=\"1.0\" fill=\"rgb(0,254,254)\" fill-opacity=\"0.9\" stroke-width=\"1.32\">\n        </line>\n        <line x1=\"42.65298864943907\" y1=\"172.0\" x2=\"42.65298864943907\" y2=\"172.0\" stroke=\"rgb(0,0,0)\" stroke-opacity=\"1.0\" fill=\"rgb(0,254,254)\" fill-opacity=\"0.9\" stroke-width=\"1.32\">\n        </line>\n        <line x1=\"93.73441218165681\" y1=\"265.8181818181818\" x2=\"93.73441218165681\" y2=\"297.09090909090907\" stroke=\"rgb(0,0,0)\" stroke-opacity=\"1.0\" fill=\"rgb(234,34,17)\" fill-opacity=\"0.5\" stroke-width=\"1.32\">\n        </line>\n        <line x1=\"93.73441218165681\" y1=\"297.09090909090907\" x2=\"93.73441218165681\" y2=\"297.09090909090907\" stroke=\"rgb(0,0,0)\" stroke-opacity=\"1.0\" fill=\"rgb(234,34,17)\" fill-opacity=\"0.5\" stroke-width=\"1.32\">\n        </line>\n        <line x1=\"93.73441218165681\" y1=\"218.90909090909088\" x2=\"93.73441218165681\" y2=\"187.63636363636363\" stroke=\"rgb(0,0,0)\" stroke-opacity=\"1.0\" fill=\"rgb(234,34,17)\" fill-opacity=\"0.5\" stroke-width=\"1.32\">\n        </line>\n        <line x1=\"93.73441218165681\" y1=\"187.63636363636363\" x2=\"93.73441218165681\" y2=\"187.63636363636363\" stroke=\"rgb(0,0,0)\" stroke-opacity=\"1.0\" fill=\"rgb(234,34,17)\" fill-opacity=\"0.5\" stroke-width=\"1.32\">\n        </line>\n        <line x1=\"144.81583571399096\" y1=\"265.8181818181818\" x2=\"144.81583571399096\" y2=\"312.72727272727275\" stroke=\"rgb(0,0,0)\" stroke-opacity=\"1.0\" fill=\"rgb(0,254,254)\" fill-opacity=\"0.9\" stroke-width=\"1.32\">\n        </line>\n        <line x1=\"144.81583571399096\" y1=\"312.72727272727275\" x2=\"144.81583571399096\" y2=\"312.72727272727275\" stroke=\"rgb(0,0,0)\" stroke-opacity=\"1.0\" fill=\"rgb(0,254,254)\" fill-opacity=\"0.9\" stroke-width=\"1.32\">\n        </line>\n        <line x1=\"144.81583571399096\" y1=\"172.0\" x2=\"144.81583571399096\" y2=\"140.7272727272727\" stroke=\"rgb(0,0,0)\" stroke-opacity=\"1.0\" fill=\"rgb(0,254,254)\" fill-opacity=\"0.9\" stroke-width=\"1.32\">\n        </line>\n        <line x1=\"144.81583571399096\" y1=\"140.7272727272727\" x2=\"144.81583571399096\" y2=\"140.7272727272727\" stroke=\"rgb(0,0,0)\" stroke-opacity=\"1.0\" fill=\"rgb(0,254,254)\" fill-opacity=\"0.9\" stroke-width=\"1.32\">\n        </line>\n        <line x1=\"195.8972592462087\" y1=\"234.54545454545453\" x2=\"195.8972592462087\" y2=\"281.45454545454544\" stroke=\"rgb(0,0,0)\" stroke-opacity=\"1.0\" fill=\"rgb(234,34,17)\" fill-opacity=\"0.5\" stroke-width=\"1.32\">\n        </line>\n        <line x1=\"195.8972592462087\" y1=\"281.45454545454544\" x2=\"195.8972592462087\" y2=\"281.45454545454544\" stroke=\"rgb(0,0,0)\" stroke-opacity=\"1.0\" fill=\"rgb(234,34,17)\" fill-opacity=\"0.5\" stroke-width=\"1.32\">\n        </line>\n        <line x1=\"195.8972592462087\" y1=\"172.0\" x2=\"195.8972592462087\" y2=\"109.45454545454544\" stroke=\"rgb(0,0,0)\" stroke-opacity=\"1.0\" fill=\"rgb(234,34,17)\" fill-opacity=\"0.5\" stroke-width=\"1.32\">\n        </line>\n        <line x1=\"195.8972592462087\" y1=\"109.45454545454544\" x2=\"195.8972592462087\" y2=\"109.45454545454544\" stroke=\"rgb(0,0,0)\" stroke-opacity=\"1.0\" fill=\"rgb(234,34,17)\" fill-opacity=\"0.5\" stroke-width=\"1.32\">\n        </line>\n        <line x1=\"246.97868277842645\" y1=\"234.54545454545453\" x2=\"246.97868277842645\" y2=\"265.8181818181818\" stroke=\"rgb(0,0,0)\" stroke-opacity=\"1.0\" fill=\"rgb(0,254,254)\" fill-opacity=\"0.9\" stroke-width=\"1.32\">\n        </line>\n        <line x1=\"246.97868277842645\" y1=\"265.8181818181818\" x2=\"246.97868277842645\" y2=\"265.8181818181818\" stroke=\"rgb(0,0,0)\" stroke-opacity=\"1.0\" fill=\"rgb(0,254,254)\" fill-opacity=\"0.9\" stroke-width=\"1.32\">\n        </line>\n        <line x1=\"246.97868277842645\" y1=\"203.27272727272725\" x2=\"246.97868277842645\" y2=\"172.0\" stroke=\"rgb(0,0,0)\" stroke-opacity=\"1.0\" fill=\"rgb(0,254,254)\" fill-opacity=\"0.9\" stroke-width=\"1.32\">\n        </line>\n        <line x1=\"246.97868277842645\" y1=\"172.0\" x2=\"246.97868277842645\" y2=\"172.0\" stroke=\"rgb(0,0,0)\" stroke-opacity=\"1.0\" fill=\"rgb(0,254,254)\" fill-opacity=\"0.9\" stroke-width=\"1.32\">\n        </line>\n        <line x1=\"298.0601063106442\" y1=\"203.27272727272725\" x2=\"298.0601063106442\" y2=\"218.90909090909088\" stroke=\"rgb(0,0,0)\" stroke-opacity=\"1.0\" fill=\"rgb(0,254,254)\" fill-opacity=\"0.9\" stroke-width=\"1.32\">\n        </line>\n        <line x1=\"298.0601063106442\" y1=\"218.90909090909088\" x2=\"298.0601063106442\" y2=\"218.90909090909088\" stroke=\"rgb(0,0,0)\" stroke-opacity=\"1.0\" fill=\"rgb(0,254,254)\" fill-opacity=\"0.9\" stroke-width=\"1.32\">\n        </line>\n        <line x1=\"298.0601063106442\" y1=\"140.7272727272727\" x2=\"298.0601063106442\" y2=\"109.45454545454544\" stroke=\"rgb(0,0,0)\" stroke-opacity=\"1.0\" fill=\"rgb(0,254,254)\" fill-opacity=\"0.9\" stroke-width=\"1.32\">\n        </line>\n        <line x1=\"298.0601063106442\" y1=\"109.45454545454544\" x2=\"298.0601063106442\" y2=\"109.45454545454544\" stroke=\"rgb(0,0,0)\" stroke-opacity=\"1.0\" fill=\"rgb(0,254,254)\" fill-opacity=\"0.9\" stroke-width=\"1.32\">\n        </line>\n        <line x1=\"349.14152984297834\" y1=\"140.7272727272727\" x2=\"349.14152984297834\" y2=\"172.0\" stroke=\"rgb(0,0,0)\" stroke-opacity=\"1.0\" fill=\"rgb(0,254,254)\" fill-opacity=\"0.9\" stroke-width=\"1.32\">\n        </line>\n        <line x1=\"349.14152984297834\" y1=\"172.0\" x2=\"349.14152984297834\" y2=\"172.0\" stroke=\"rgb(0,0,0)\" stroke-opacity=\"1.0\" fill=\"rgb(0,254,254)\" fill-opacity=\"0.9\" stroke-width=\"1.32\">\n        </line>\n        <line x1=\"349.14152984297834\" y1=\"109.45454545454544\" x2=\"349.14152984297834\" y2=\"62.545454545454504\" stroke=\"rgb(0,0,0)\" stroke-opacity=\"1.0\" fill=\"rgb(0,254,254)\" fill-opacity=\"0.9\" stroke-width=\"1.32\">\n        </line>\n        <line x1=\"349.14152984297834\" y1=\"62.545454545454504\" x2=\"349.14152984297834\" y2=\"62.545454545454504\" stroke=\"rgb(0,0,0)\" stroke-opacity=\"1.0\" fill=\"rgb(0,254,254)\" fill-opacity=\"0.9\" stroke-width=\"1.32\">\n        </line>\n        <line x1=\"400.2229533751961\" y1=\"156.36363636363632\" x2=\"400.2229533751961\" y2=\"187.63636363636363\" stroke=\"rgb(0,0,0)\" stroke-opacity=\"1.0\" fill=\"rgb(234,34,17)\" fill-opacity=\"0.5\" stroke-width=\"1.32\">\n        </line>\n        <line x1=\"400.2229533751961\" y1=\"187.63636363636363\" x2=\"400.2229533751961\" y2=\"187.63636363636363\" stroke=\"rgb(0,0,0)\" stroke-opacity=\"1.0\" fill=\"rgb(234,34,17)\" fill-opacity=\"0.5\" stroke-width=\"1.32\">\n        </line>\n        <line x1=\"400.2229533751961\" y1=\"109.45454545454544\" x2=\"400.2229533751961\" y2=\"78.18181818181819\" stroke=\"rgb(0,0,0)\" stroke-opacity=\"1.0\" fill=\"rgb(234,34,17)\" fill-opacity=\"0.5\" stroke-width=\"1.32\">\n        </line>\n        <line x1=\"400.2229533751961\" y1=\"78.18181818181819\" x2=\"400.2229533751961\" y2=\"78.18181818181819\" stroke=\"rgb(0,0,0)\" stroke-opacity=\"1.0\" fill=\"rgb(234,34,17)\" fill-opacity=\"0.5\" stroke-width=\"1.32\">\n        </line>\n        <line x1=\"451.3043769074138\" y1=\"156.36363636363632\" x2=\"451.3043769074138\" y2=\"172.0\" stroke=\"rgb(0,0,0)\" stroke-opacity=\"1.0\" fill=\"rgb(0,254,254)\" fill-opacity=\"0.9\" stroke-width=\"1.32\">\n        </line>\n        <line x1=\"451.3043769074138\" y1=\"172.0\" x2=\"451.3043769074138\" y2=\"172.0\" stroke=\"rgb(0,0,0)\" stroke-opacity=\"1.0\" fill=\"rgb(0,254,254)\" fill-opacity=\"0.9\" stroke-width=\"1.32\">\n        </line>\n        <line x1=\"451.3043769074138\" y1=\"62.545454545454504\" x2=\"451.3043769074138\" y2=\"31.272727272727252\" stroke=\"rgb(0,0,0)\" stroke-opacity=\"1.0\" fill=\"rgb(0,254,254)\" fill-opacity=\"0.9\" stroke-width=\"1.32\">\n        </line>\n        <line x1=\"451.3043769074138\" y1=\"31.272727272727252\" x2=\"451.3043769074138\" y2=\"31.272727272727252\" stroke=\"rgb(0,0,0)\" stroke-opacity=\"1.0\" fill=\"rgb(0,254,254)\" fill-opacity=\"0.9\" stroke-width=\"1.32\">\n        </line>\n        <line x1=\"502.38580043963157\" y1=\"93.81818181818181\" x2=\"502.38580043963157\" y2=\"109.45454545454544\" stroke=\"rgb(0,0,0)\" stroke-opacity=\"1.0\" fill=\"rgb(234,34,17)\" fill-opacity=\"0.5\" stroke-width=\"1.32\">\n        </line>\n        <line x1=\"502.38580043963157\" y1=\"109.45454545454544\" x2=\"502.38580043963157\" y2=\"109.45454545454544\" stroke=\"rgb(0,0,0)\" stroke-opacity=\"1.0\" fill=\"rgb(234,34,17)\" fill-opacity=\"0.5\" stroke-width=\"1.32\">\n        </line>\n        <line x1=\"502.38580043963157\" y1=\"62.545454545454504\" x2=\"502.38580043963157\" y2=\"15.636363636363626\" stroke=\"rgb(0,0,0)\" stroke-opacity=\"1.0\" fill=\"rgb(234,34,17)\" fill-opacity=\"0.5\" stroke-width=\"1.32\">\n        </line>\n        <line x1=\"502.38580043963157\" y1=\"15.636363636363626\" x2=\"502.38580043963157\" y2=\"15.636363636363626\" stroke=\"rgb(0,0,0)\" stroke-opacity=\"1.0\" fill=\"rgb(234,34,17)\" fill-opacity=\"0.5\" stroke-width=\"1.32\">\n        </line>\n      </g>\n    </g>\n    <g transform=\"translate(14.5 182.0 ) rotate(-90.0 ) \">\n      <text class=\"axis-title-y\" y=\"0.0\" text-anchor=\"middle\">\n        <tspan>Price, €</tspan>\n      </text>\n    </g>\n    <g transform=\"translate(317.4806054554682 391.5 ) \">\n      <text class=\"axis-title-x\" y=\"0.0\" text-anchor=\"middle\">\n        <tspan>Date</tspan>\n      </text>\n    </g>\n    <path fill=\"rgb(0,0,0)\" fill-opacity=\"0.0\" stroke=\"rgb(71,71,71)\" stroke-opacity=\"1.0\" stroke-width=\"0.0\" d=\"M0.0 0.0 L0.0 400.0 L600.0 400.0 L600.0 0.0 Z\">\n    </path>\n  </g>\n  <g id=\"dhPuLJM\">\n  </g>\n</svg>\n        <script>document.getElementById(\"3a89231c-e052-46da-9b58-fea6a9c548e7\").style.display = \"none\";</script>",
      "application/plot+json": {
       "output_type": "lets_plot_spec",
       "output": {
        "mapping": {},
        "data": {},
        "kind": "plot",
        "scales": [
         {
          "aesthetic": "x",
          "name": "date",
          "limits": [
           null,
           null
          ]
         },
         {
          "aesthetic": "y",
          "name": "",
          "limits": [
           null,
           null
          ]
         },
         {
          "aesthetic": "x",
          "datetime": true,
          "limits": [
           null,
           null
          ]
         },
         {
          "aesthetic": "fill",
          "values": [
           "#00fefe",
           "#ea2211"
          ],
          "limits": [
           true,
           false
          ],
          "guide": "none"
         },
         {
          "aesthetic": "color",
          "values": [
           "#3ba272",
           "#ee6666"
          ],
          "limits": [
           true,
           false
          ],
          "guide": "none"
         },
         {
          "aesthetic": "linetype",
          "values": [
           1.0,
           1.0
          ],
          "limits": [
           true,
           false
          ],
          "guide": "none"
         },
         {
          "aesthetic": "size",
          "values": [
           0.6,
           0.6
          ],
          "limits": [
           true,
           false
          ],
          "guide": "none"
         },
         {
          "aesthetic": "alpha",
          "values": [
           0.9,
           0.5
          ],
          "limits": [
           true,
           false
          ],
          "guide": "none"
         },
         {
          "aesthetic": "y",
          "name": "Price, €",
          "limits": [
           null,
           null
          ]
         },
         {
          "aesthetic": "x",
          "name": "Date",
          "limits": [
           null,
           null
          ]
         }
        ],
        "layers": [
         {
          "mapping": {
           "x": "x",
           "ymin": "min",
           "lower": "lower",
           "middle": "middle",
           "upper": "upper",
           "ymax": "max",
           "fill": "isIncreased",
           "color": "isIncreased",
           "linetype": "isIncreased",
           "size": "isIncreased",
           "alpha": "isIncreased"
          },
          "stat": "identity",
          "data": {
           "min": [
            8.0,
            10.0,
            9.0,
            11.0,
            12.0,
            15.0,
            18.0,
            17.0,
            18.0,
            22.0
           ],
           "middle": [
            null,
            null,
            null,
            null,
            null,
            null,
            null,
            null,
            null,
            null
           ],
           "max": [
            18.0,
            17.0,
            20.0,
            22.0,
            18.0,
            22.0,
            25.0,
            24.0,
            27.0,
            28.0
           ],
           "isIncreased": [
            true,
            false,
            true,
            false,
            true,
            true,
            true,
            false,
            true,
            false
           ],
           "lower": [
            10.0,
            12.0,
            12.0,
            14.0,
            14.0,
            16.0,
            20.0,
            19.0,
            19.0,
            23.0
           ],
           "upper": [
            15.0,
            15.0,
            18.0,
            18.0,
            16.0,
            20.0,
            22.0,
            22.0,
            25.0,
            25.0
           ],
           "x": [
            1640980800000,
            1641067200000,
            1641153600000,
            1641240000000,
            1641326400000,
            1641412800000,
            1641499200000,
            1641585600000,
            1641672000000,
            1641758400000
           ],
           "close": [
            15.0,
            12.0,
            18.0,
            14.0,
            16.0,
            20.0,
            22.0,
            19.0,
            25.0,
            23.0
           ],
           "open": [
            10.0,
            15.0,
            12.0,
            18.0,
            14.0,
            16.0,
            20.0,
            22.0,
            19.0,
            25.0
           ]
          },
          "whisker_width": 0.0,
          "color": "#000000",
          "sampling": "none",
          "width": 0.7,
          "position": "identity",
          "geom": "boxplot",
          "data_meta": {
           "series_annotations": [
            {
             "column": "x",
             "type": "datetime"
            }
           ]
          },
          "tooltips": {
           "formats": [
            {
             "field": "x",
             "format": "%d/%m/%y"
            },
            {
             "field": "open",
             "format": ".2f"
            },
            {
             "field": "max",
             "format": ".2f"
            },
            {
             "field": "min",
             "format": ".2f"
            },
            {
             "field": "close",
             "format": ".2f"
            }
           ],
           "title": "@x",
           "lines": [
            "open|@open",
            "high|@max",
            "low|@min",
            "close|@close"
           ],
           "disable_splitting": true
          }
         }
        ]
       },
       "apply_color_scheme": true,
       "swing_enabled": true
      }
     },
     "execution_count": 2,
     "metadata": {},
     "output_type": "execute_result"
    }
   ],
   "source": [
    "val df = dataFrameOf(\n",
    "    \"date\" to List(10) { LocalDate(2022, 1, it + 1) },\n",
    "    \"open\" to listOf(10.0, 15.0, 12.0, 18.0, 14.0, 16.0, 20.0, 22.0, 19.0, 25.0),\n",
    "    \"high\" to listOf(18.0, 17.0, 20.0, 22.0, 18.0, 22.0, 25.0, 24.0, 27.0, 28.0),\n",
    "    \"low\" to listOf(8.0, 10.0, 9.0, 11.0, 12.0, 15.0, 18.0, 17.0, 18.0, 22.0),\n",
    "    \"close\" to listOf(15.0, 12.0, 18.0, 14.0, 16.0, 20.0, 22.0, 19.0, 25.0, 23.0),\n",
    ")\n",
    "\n",
    "df.plot {\n",
    "    candlestick(\"date\", \"open\", \"high\", \"low\", \"close\") {\n",
    "        increase {\n",
    "            fillColor = Color.hex(\"#00fefe\")\n",
    "            alpha = 0.9\n",
    "        }\n",
    "        decrease {\n",
    "            fillColor = Color.hex(\"#ea2211\")\n",
    "            alpha = 0.5\n",
    "        }\n",
    "        borderLine.color = Color.BLACK\n",
    "        width = 0.7\n",
    "    }\n",
    "    y.axis.name = \"Price, €\"\n",
    "    x.axis.name = \"Date\"\n",
    "}"
   ],
   "metadata": {
    "collapsed": false,
    "ExecuteTime": {
     "end_time": "2024-02-22T11:01:55.165823Z",
     "start_time": "2024-02-22T11:01:52.917556Z"
    }
   },
   "execution_count": 2
  }
 ],
 "metadata": {
  "kernelspec": {
   "display_name": "Kotlin",
   "language": "kotlin",
   "name": "kotlin"
  },
  "language_info": {
   "name": "kotlin",
   "version": "1.9.0",
   "mimetype": "text/x-kotlin",
   "file_extension": ".kt",
   "pygments_lexer": "kotlin",
   "codemirror_mode": "text/x-kotlin",
   "nbconvert_exporter": ""
  },
  "ktnbPluginMetadata": {
   "projectLibraries": []
  }
 },
 "nbformat": 4,
 "nbformat_minor": 0
}
