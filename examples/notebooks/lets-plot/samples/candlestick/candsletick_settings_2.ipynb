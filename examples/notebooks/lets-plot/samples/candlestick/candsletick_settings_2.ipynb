{
 "cells": [
  {
   "cell_type": "code",
   "execution_count": 1,
   "metadata": {
    "collapsed": true,
    "ExecuteTime": {
     "end_time": "2024-02-22T11:08:37.508741Z",
     "start_time": "2024-02-22T11:08:26.258084Z"
    }
   },
   "outputs": [],
   "source": [
    "%use kandy(0.6.0-dev-42, 0.1.1-dev-6), dataframe, datetime"
   ]
  },
  {
   "cell_type": "code",
   "outputs": [
    {
     "data": {
      "text/html": "            <iframe src='about:blank' style='border:none !important;' width='750' height='400' srcdoc=\"&lt;html lang=&quot;en&quot;>\n   &lt;head>\n       &lt;meta charset=&quot;UTF-8&quot;>\n       &lt;style> html, body { margin: 0; overflow: hidden; } &lt;/style>\n       &lt;script type=&quot;text/javascript&quot; data-lets-plot-script=&quot;library&quot; src=&quot;https://cdn.jsdelivr.net/gh/JetBrains/lets-plot@v4.2.0/js-package/distr/lets-plot.min.js&quot;>&lt;/script>\n   &lt;/head>\n   &lt;body>\n          &lt;div id=&quot;bMO73D&quot;>&lt;/div>\n   &lt;script type=&quot;text/javascript&quot; data-lets-plot-script=&quot;plot&quot;>\n       var plotSpec={\n&quot;mapping&quot;:{\n},\n&quot;data&quot;:{\n},\n&quot;ggsize&quot;:{\n&quot;width&quot;:750.0,\n&quot;height&quot;:400.0\n},\n&quot;kind&quot;:&quot;plot&quot;,\n&quot;scales&quot;:[{\n&quot;aesthetic&quot;:&quot;x&quot;,\n&quot;name&quot;:&quot;x&quot;,\n&quot;limits&quot;:[null,null]\n},{\n&quot;aesthetic&quot;:&quot;y&quot;,\n&quot;name&quot;:&quot;&quot;,\n&quot;limits&quot;:[null,null]\n},{\n&quot;aesthetic&quot;:&quot;x&quot;,\n&quot;limits&quot;:[null,null]\n},{\n&quot;aesthetic&quot;:&quot;alpha&quot;,\n&quot;breaks&quot;:[true,false],\n&quot;values&quot;:[1.0,0.05],\n&quot;name&quot;:&quot;&quot;,\n&quot;limits&quot;:[true,false],\n&quot;labels&quot;:[&quot;increase&quot;,&quot;decrease&quot;]\n},{\n&quot;aesthetic&quot;:&quot;fill&quot;,\n&quot;values&quot;:[&quot;#3ba272&quot;,&quot;#ee6666&quot;],\n&quot;limits&quot;:[true,false],\n&quot;guide&quot;:&quot;none&quot;\n},{\n&quot;aesthetic&quot;:&quot;color&quot;,\n&quot;values&quot;:[&quot;#3ba272&quot;,&quot;#ee6666&quot;],\n&quot;limits&quot;:[true,false],\n&quot;guide&quot;:&quot;none&quot;\n},{\n&quot;aesthetic&quot;:&quot;linetype&quot;,\n&quot;values&quot;:[1.0,1.0],\n&quot;limits&quot;:[true,false],\n&quot;guide&quot;:&quot;none&quot;\n},{\n&quot;aesthetic&quot;:&quot;size&quot;,\n&quot;values&quot;:[0.6,0.6],\n&quot;limits&quot;:[true,false],\n&quot;guide&quot;:&quot;none&quot;\n},{\n&quot;aesthetic&quot;:&quot;x&quot;,\n&quot;name&quot;:&quot;Year&quot;,\n&quot;format&quot;:&quot;d&quot;,\n&quot;limits&quot;:[null,null]\n}],\n&quot;layers&quot;:[{\n&quot;mapping&quot;:{\n&quot;x&quot;:&quot;x&quot;,\n&quot;ymin&quot;:&quot;min&quot;,\n&quot;lower&quot;:&quot;lower&quot;,\n&quot;middle&quot;:&quot;middle&quot;,\n&quot;upper&quot;:&quot;upper&quot;,\n&quot;ymax&quot;:&quot;max&quot;,\n&quot;alpha&quot;:&quot;isIncreased&quot;,\n&quot;fill&quot;:&quot;isIncreased&quot;,\n&quot;color&quot;:&quot;isIncreased&quot;,\n&quot;linetype&quot;:&quot;isIncreased&quot;,\n&quot;size&quot;:&quot;isIncreased&quot;\n},\n&quot;stat&quot;:&quot;identity&quot;,\n&quot;data&quot;:{\n&quot;middle&quot;:[null,null,null,null,null,null],\n&quot;min&quot;:[8.0,10.0,9.0,11.0,12.0,15.0],\n&quot;max&quot;:[18.0,17.0,20.0,22.0,18.0,22.0],\n&quot;isIncreased&quot;:[true,false,true,false,true,true],\n&quot;lower&quot;:[10.0,12.0,12.0,14.0,14.0,16.0],\n&quot;upper&quot;:[15.0,15.0,18.0,18.0,16.0,20.0],\n&quot;x&quot;:[2018.0,2019.0,2020.0,2021.0,2022.0,2023.0],\n&quot;close&quot;:[15.0,12.0,18.0,14.0,16.0,20.0],\n&quot;open&quot;:[10.0,15.0,12.0,18.0,14.0,16.0]\n},\n&quot;whisker_width&quot;:0.0,\n&quot;color&quot;:&quot;#a39999&quot;,\n&quot;sampling&quot;:&quot;none&quot;,\n&quot;position&quot;:&quot;identity&quot;,\n&quot;geom&quot;:&quot;boxplot&quot;,\n&quot;fill&quot;:&quot;#a39999&quot;,\n&quot;tooltips&quot;:{\n&quot;formats&quot;:[{\n&quot;field&quot;:&quot;open&quot;,\n&quot;format&quot;:&quot;.2f&quot;\n},{\n&quot;field&quot;:&quot;max&quot;,\n&quot;format&quot;:&quot;.2f&quot;\n},{\n&quot;field&quot;:&quot;min&quot;,\n&quot;format&quot;:&quot;.2f&quot;\n},{\n&quot;field&quot;:&quot;close&quot;,\n&quot;format&quot;:&quot;.2f&quot;\n}],\n&quot;title&quot;:&quot;@x&quot;,\n&quot;lines&quot;:[&quot;open|@open&quot;,&quot;high|@max&quot;,&quot;low|@min&quot;,&quot;close|@close&quot;],\n&quot;disable_splitting&quot;:true\n}\n}]\n};\n       var plotContainer = document.getElementById(&quot;bMO73D&quot;);\n       LetsPlot.buildPlotFromProcessedSpecs(plotSpec, -1, -1, plotContainer);\n   &lt;/script>\n   &lt;/body>\n&lt;/html>\"></iframe>            <svg xmlns=\"http://www.w3.org/2000/svg\" xmlns:xlink=\"http://www.w3.org/1999/xlink\" class=\"plt-container\" id=e7f579cf-6061-4c65-83ba-2af722b6afd6 width=\"100%\" height=\"100%\" style=\"max-width: 750.0px; max-height: 400.0px;\" viewBox=\"0 0 750.0 400.0\" preserveAspectRatio=\"xMinYMin meet\">\n  <style type=\"text/css\">\n  .plt-container {\n   font-family: Lucida Grande, sans-serif;\n   user-select: none;\n   -webkit-user-select: none;\n   -moz-user-select: none;\n   -ms-user-select: none;\n}\ntext {\n   text-rendering: optimizeLegibility;\n}\n#pVADua0 .plot-title {\n   fill: #474747;\n   font-family: Lucida Grande, sans-serif;\n   font-size: 16.0px;\n   font-weight: normal;\n   font-style: normal;   \n}\n#pVADua0 .plot-subtitle {\n   fill: #474747;\n   font-family: Lucida Grande, sans-serif;\n   font-size: 15.0px;\n   font-weight: normal;\n   font-style: normal;   \n}\n#pVADua0 .plot-caption {\n   fill: #474747;\n   font-family: Lucida Grande, sans-serif;\n   font-size: 13.0px;\n   font-weight: normal;\n   font-style: normal;   \n}\n#pVADua0 .legend-title {\n   fill: #474747;\n   font-family: Lucida Grande, sans-serif;\n   font-size: 15.0px;\n   font-weight: normal;\n   font-style: normal;   \n}\n#pVADua0 .legend-item {\n   fill: #474747;\n   font-family: Lucida Grande, sans-serif;\n   font-size: 13.0px;\n   font-weight: normal;\n   font-style: normal;   \n}\n#pVADua0 .axis-title-x {\n   fill: #474747;\n   font-family: Lucida Grande, sans-serif;\n   font-size: 15.0px;\n   font-weight: normal;\n   font-style: normal;   \n}\n#pVADua0 .axis-text-x {\n   fill: #474747;\n   font-family: Lucida Grande, sans-serif;\n   font-size: 13.0px;\n   font-weight: normal;\n   font-style: normal;   \n}\n#d5JueKZ .axis-tooltip-text-x {\n   fill: #ffffff;\n   font-family: Lucida Grande, sans-serif;\n   font-size: 13.0px;\n   font-weight: normal;\n   font-style: normal;   \n}\n#pVADua0 .axis-title-y {\n   fill: #474747;\n   font-family: Lucida Grande, sans-serif;\n   font-size: 15.0px;\n   font-weight: normal;\n   font-style: normal;   \n}\n#pVADua0 .axis-text-y {\n   fill: #474747;\n   font-family: Lucida Grande, sans-serif;\n   font-size: 13.0px;\n   font-weight: normal;\n   font-style: normal;   \n}\n#d5JueKZ .axis-tooltip-text-y {\n   fill: #ffffff;\n   font-family: Lucida Grande, sans-serif;\n   font-size: 13.0px;\n   font-weight: normal;\n   font-style: normal;   \n}\n#pVADua0 .facet-strip-text-x {\n   fill: #474747;\n   font-family: Lucida Grande, sans-serif;\n   font-size: 13.0px;\n   font-weight: normal;\n   font-style: normal;   \n}\n#pVADua0 .facet-strip-text-y {\n   fill: #474747;\n   font-family: Lucida Grande, sans-serif;\n   font-size: 13.0px;\n   font-weight: normal;\n   font-style: normal;   \n}\n#d5JueKZ .tooltip-text {\n   fill: #474747;\n   font-family: Lucida Grande, sans-serif;\n   font-size: 13.0px;\n   font-weight: normal;\n   font-style: normal;   \n}\n#d5JueKZ .tooltip-title {\n   fill: #474747;\n   font-family: Lucida Grande, sans-serif;\n   font-size: 13.0px;\n   font-weight: bold;\n   font-style: normal;   \n}\n#d5JueKZ .tooltip-label {\n   fill: #474747;\n   font-family: Lucida Grande, sans-serif;\n   font-size: 13.0px;\n   font-weight: bold;\n   font-style: normal;   \n}\n\n  </style>\n  <g id=\"pVADua0\">\n    <path fill-rule=\"evenodd\" fill=\"rgb(255,255,255)\" fill-opacity=\"1.0\" d=\"M0.0 0.0 L0.0 400.0 L750.0 400.0 L750.0 0.0 Z\">\n    </path>\n    <g transform=\"translate(23.0 10.0 ) \">\n      <g transform=\"translate(21.961210910936405 0.0 ) \">\n        <line x1=\"67.39561087958282\" y1=\"344.0\" x2=\"67.39561087958282\" y2=\"-5.6843418860808015E-14\" stroke=\"rgb(233,233,233)\" stroke-opacity=\"1.0\" stroke-width=\"1.0\" fill=\"none\">\n        </line>\n        <line x1=\"157.85951810050756\" y1=\"344.0\" x2=\"157.85951810050756\" y2=\"-5.6843418860808015E-14\" stroke=\"rgb(233,233,233)\" stroke-opacity=\"1.0\" stroke-width=\"1.0\" fill=\"none\">\n        </line>\n        <line x1=\"248.3234253214032\" y1=\"344.0\" x2=\"248.3234253214032\" y2=\"-5.6843418860808015E-14\" stroke=\"rgb(233,233,233)\" stroke-opacity=\"1.0\" stroke-width=\"1.0\" fill=\"none\">\n        </line>\n        <line x1=\"338.78733254232793\" y1=\"344.0\" x2=\"338.78733254232793\" y2=\"-5.6843418860808015E-14\" stroke=\"rgb(233,233,233)\" stroke-opacity=\"1.0\" stroke-width=\"1.0\" fill=\"none\">\n        </line>\n        <line x1=\"429.25123976322357\" y1=\"344.0\" x2=\"429.25123976322357\" y2=\"-5.6843418860808015E-14\" stroke=\"rgb(233,233,233)\" stroke-opacity=\"1.0\" stroke-width=\"1.0\" fill=\"none\">\n        </line>\n        <line x1=\"519.7151469841192\" y1=\"344.0\" x2=\"519.7151469841192\" y2=\"-5.6843418860808015E-14\" stroke=\"rgb(233,233,233)\" stroke-opacity=\"1.0\" stroke-width=\"1.0\" fill=\"none\">\n        </line>\n      </g>\n      <g transform=\"translate(21.961210910936405 344.0 ) \">\n        <g transform=\"translate(67.39561087958282 0.0 ) \">\n          <line stroke-width=\"1.0\" stroke=\"rgb(71,71,71)\" stroke-opacity=\"1.0\" x2=\"0.0\" y2=\"4.0\">\n          </line>\n          <g transform=\"translate(0.0 7.0 ) \">\n            <text class=\"axis-text-x\" text-anchor=\"middle\" dy=\"0.7em\">\n              <tspan>2018</tspan>\n            </text>\n          </g>\n        </g>\n        <g transform=\"translate(157.85951810050756 0.0 ) \">\n          <line stroke-width=\"1.0\" stroke=\"rgb(71,71,71)\" stroke-opacity=\"1.0\" x2=\"0.0\" y2=\"4.0\">\n          </line>\n          <g transform=\"translate(0.0 7.0 ) \">\n            <text class=\"axis-text-x\" text-anchor=\"middle\" dy=\"0.7em\">\n              <tspan>2019</tspan>\n            </text>\n          </g>\n        </g>\n        <g transform=\"translate(248.3234253214032 0.0 ) \">\n          <line stroke-width=\"1.0\" stroke=\"rgb(71,71,71)\" stroke-opacity=\"1.0\" x2=\"0.0\" y2=\"4.0\">\n          </line>\n          <g transform=\"translate(0.0 7.0 ) \">\n            <text class=\"axis-text-x\" text-anchor=\"middle\" dy=\"0.7em\">\n              <tspan>2020</tspan>\n            </text>\n          </g>\n        </g>\n        <g transform=\"translate(338.78733254232793 0.0 ) \">\n          <line stroke-width=\"1.0\" stroke=\"rgb(71,71,71)\" stroke-opacity=\"1.0\" x2=\"0.0\" y2=\"4.0\">\n          </line>\n          <g transform=\"translate(0.0 7.0 ) \">\n            <text class=\"axis-text-x\" text-anchor=\"middle\" dy=\"0.7em\">\n              <tspan>2021</tspan>\n            </text>\n          </g>\n        </g>\n        <g transform=\"translate(429.25123976322357 0.0 ) \">\n          <line stroke-width=\"1.0\" stroke=\"rgb(71,71,71)\" stroke-opacity=\"1.0\" x2=\"0.0\" y2=\"4.0\">\n          </line>\n          <g transform=\"translate(0.0 7.0 ) \">\n            <text class=\"axis-text-x\" text-anchor=\"middle\" dy=\"0.7em\">\n              <tspan>2022</tspan>\n            </text>\n          </g>\n        </g>\n        <g transform=\"translate(519.7151469841192 0.0 ) \">\n          <line stroke-width=\"1.0\" stroke=\"rgb(71,71,71)\" stroke-opacity=\"1.0\" x2=\"0.0\" y2=\"4.0\">\n          </line>\n          <g transform=\"translate(0.0 7.0 ) \">\n            <text class=\"axis-text-x\" text-anchor=\"middle\" dy=\"0.7em\">\n              <tspan>2023</tspan>\n            </text>\n          </g>\n        </g>\n        <line x1=\"0.0\" y1=\"0.0\" x2=\"587.110757863707\" y2=\"0.0\" stroke-width=\"1.0\" stroke=\"rgb(71,71,71)\" stroke-opacity=\"1.0\">\n        </line>\n      </g>\n      <g transform=\"translate(21.961210910936405 0.0 ) \">\n        <line x1=\"0.0\" y1=\"328.3636363636364\" x2=\"587.110757863702\" y2=\"328.3636363636364\" stroke=\"rgb(233,233,233)\" stroke-opacity=\"1.0\" stroke-width=\"1.0\" fill=\"none\">\n        </line>\n        <line x1=\"0.0\" y1=\"283.68831168831167\" x2=\"587.110757863702\" y2=\"283.68831168831167\" stroke=\"rgb(233,233,233)\" stroke-opacity=\"1.0\" stroke-width=\"1.0\" fill=\"none\">\n        </line>\n        <line x1=\"0.0\" y1=\"239.01298701298697\" x2=\"587.110757863702\" y2=\"239.01298701298697\" stroke=\"rgb(233,233,233)\" stroke-opacity=\"1.0\" stroke-width=\"1.0\" fill=\"none\">\n        </line>\n        <line x1=\"0.0\" y1=\"194.33766233766232\" x2=\"587.110757863702\" y2=\"194.33766233766232\" stroke=\"rgb(233,233,233)\" stroke-opacity=\"1.0\" stroke-width=\"1.0\" fill=\"none\">\n        </line>\n        <line x1=\"0.0\" y1=\"149.66233766233762\" x2=\"587.110757863702\" y2=\"149.66233766233762\" stroke=\"rgb(233,233,233)\" stroke-opacity=\"1.0\" stroke-width=\"1.0\" fill=\"none\">\n        </line>\n        <line x1=\"0.0\" y1=\"104.98701298701292\" x2=\"587.110757863702\" y2=\"104.98701298701292\" stroke=\"rgb(233,233,233)\" stroke-opacity=\"1.0\" stroke-width=\"1.0\" fill=\"none\">\n        </line>\n        <line x1=\"0.0\" y1=\"60.31168831168827\" x2=\"587.110757863702\" y2=\"60.31168831168827\" stroke=\"rgb(233,233,233)\" stroke-opacity=\"1.0\" stroke-width=\"1.0\" fill=\"none\">\n        </line>\n        <line x1=\"0.0\" y1=\"15.63636363636357\" x2=\"587.110757863702\" y2=\"15.63636363636357\" stroke=\"rgb(233,233,233)\" stroke-opacity=\"1.0\" stroke-width=\"1.0\" fill=\"none\">\n        </line>\n      </g>\n      <g transform=\"translate(21.961210910936405 0.0 ) \">\n        <g transform=\"translate(0.0 328.3636363636364 ) \">\n          <g transform=\"translate(-3.0 0.0 ) \">\n            <text class=\"axis-text-y\" text-anchor=\"end\" dy=\"0.35em\">\n              <tspan>8</tspan>\n            </text>\n          </g>\n        </g>\n        <g transform=\"translate(0.0 283.68831168831167 ) \">\n          <g transform=\"translate(-3.0 0.0 ) \">\n            <text class=\"axis-text-y\" text-anchor=\"end\" dy=\"0.35em\">\n              <tspan>10</tspan>\n            </text>\n          </g>\n        </g>\n        <g transform=\"translate(0.0 239.01298701298697 ) \">\n          <g transform=\"translate(-3.0 0.0 ) \">\n            <text class=\"axis-text-y\" text-anchor=\"end\" dy=\"0.35em\">\n              <tspan>12</tspan>\n            </text>\n          </g>\n        </g>\n        <g transform=\"translate(0.0 194.33766233766232 ) \">\n          <g transform=\"translate(-3.0 0.0 ) \">\n            <text class=\"axis-text-y\" text-anchor=\"end\" dy=\"0.35em\">\n              <tspan>14</tspan>\n            </text>\n          </g>\n        </g>\n        <g transform=\"translate(0.0 149.66233766233762 ) \">\n          <g transform=\"translate(-3.0 0.0 ) \">\n            <text class=\"axis-text-y\" text-anchor=\"end\" dy=\"0.35em\">\n              <tspan>16</tspan>\n            </text>\n          </g>\n        </g>\n        <g transform=\"translate(0.0 104.98701298701292 ) \">\n          <g transform=\"translate(-3.0 0.0 ) \">\n            <text class=\"axis-text-y\" text-anchor=\"end\" dy=\"0.35em\">\n              <tspan>18</tspan>\n            </text>\n          </g>\n        </g>\n        <g transform=\"translate(0.0 60.31168831168827 ) \">\n          <g transform=\"translate(-3.0 0.0 ) \">\n            <text class=\"axis-text-y\" text-anchor=\"end\" dy=\"0.35em\">\n              <tspan>20</tspan>\n            </text>\n          </g>\n        </g>\n        <g transform=\"translate(0.0 15.63636363636357 ) \">\n          <g transform=\"translate(-3.0 0.0 ) \">\n            <text class=\"axis-text-y\" text-anchor=\"end\" dy=\"0.35em\">\n              <tspan>22</tspan>\n            </text>\n          </g>\n        </g>\n      </g>\n      <g transform=\"translate(21.961210910936405 0.0 ) \" clip-path=\"url(#cFtU0jZ)\" clip-bounds-jfx=\"[rect (0.0, 0.0), (587.110757863707, 344.0)]\">\n        <defs>\n          <clipPath id=\"cFtU0jZ\">\n            <rect x=\"0.0\" y=\"0.0\" width=\"587.110757863707\" height=\"344.0\">\n            </rect>\n          </clipPath>\n        </defs>\n        <rect x=\"26.686852630169597\" y=\"171.99999999999994\" height=\"111.68831168831173\" width=\"81.41751649882644\" stroke=\"rgb(163,153,153)\" stroke-opacity=\"1.0\" fill=\"rgb(163,153,153)\" fill-opacity=\"1.0\" stroke-width=\"1.32\">\n        </rect>\n        <rect x=\"117.15075985109434\" y=\"171.99999999999994\" height=\"67.01298701298703\" width=\"81.41751649882644\" stroke=\"rgb(163,153,153)\" stroke-opacity=\"1.0\" fill=\"rgb(163,153,153)\" fill-opacity=\"0.05\" stroke-width=\"1.32\">\n        </rect>\n        <rect x=\"207.61466707198997\" y=\"104.98701298701292\" height=\"134.02597402597405\" width=\"81.41751649882644\" stroke=\"rgb(163,153,153)\" stroke-opacity=\"1.0\" fill=\"rgb(163,153,153)\" fill-opacity=\"1.0\" stroke-width=\"1.32\">\n        </rect>\n        <rect x=\"298.0785742929147\" y=\"104.98701298701292\" height=\"89.3506493506494\" width=\"81.41751649882644\" stroke=\"rgb(163,153,153)\" stroke-opacity=\"1.0\" fill=\"rgb(163,153,153)\" fill-opacity=\"0.05\" stroke-width=\"1.32\">\n        </rect>\n        <rect x=\"388.54248151381034\" y=\"149.66233766233762\" height=\"44.6753246753247\" width=\"81.41751649882644\" stroke=\"rgb(163,153,153)\" stroke-opacity=\"1.0\" fill=\"rgb(163,153,153)\" fill-opacity=\"1.0\" stroke-width=\"1.32\">\n        </rect>\n        <rect x=\"479.006388734706\" y=\"60.31168831168827\" height=\"89.35064935064935\" width=\"81.41751649882644\" stroke=\"rgb(163,153,153)\" stroke-opacity=\"1.0\" fill=\"rgb(163,153,153)\" fill-opacity=\"1.0\" stroke-width=\"1.32\">\n        </rect>\n        <line x1=\"67.39561087958282\" y1=\"283.68831168831167\" x2=\"67.39561087958282\" y2=\"328.3636363636364\" stroke=\"rgb(163,153,153)\" stroke-opacity=\"1.0\" fill=\"rgb(163,153,153)\" fill-opacity=\"1.0\" stroke-width=\"1.32\">\n        </line>\n        <line x1=\"67.39561087958282\" y1=\"328.3636363636364\" x2=\"67.39561087958282\" y2=\"328.3636363636364\" stroke=\"rgb(163,153,153)\" stroke-opacity=\"1.0\" fill=\"rgb(163,153,153)\" fill-opacity=\"1.0\" stroke-width=\"1.32\">\n        </line>\n        <line x1=\"67.39561087958282\" y1=\"171.99999999999994\" x2=\"67.39561087958282\" y2=\"104.98701298701292\" stroke=\"rgb(163,153,153)\" stroke-opacity=\"1.0\" fill=\"rgb(163,153,153)\" fill-opacity=\"1.0\" stroke-width=\"1.32\">\n        </line>\n        <line x1=\"67.39561087958282\" y1=\"104.98701298701292\" x2=\"67.39561087958282\" y2=\"104.98701298701292\" stroke=\"rgb(163,153,153)\" stroke-opacity=\"1.0\" fill=\"rgb(163,153,153)\" fill-opacity=\"1.0\" stroke-width=\"1.32\">\n        </line>\n        <line x1=\"157.85951810050756\" y1=\"239.01298701298697\" x2=\"157.85951810050756\" y2=\"283.68831168831167\" stroke=\"rgb(163,153,153)\" stroke-opacity=\"1.0\" fill=\"rgb(163,153,153)\" fill-opacity=\"0.05\" stroke-width=\"1.32\">\n        </line>\n        <line x1=\"157.85951810050756\" y1=\"283.68831168831167\" x2=\"157.85951810050756\" y2=\"283.68831168831167\" stroke=\"rgb(163,153,153)\" stroke-opacity=\"1.0\" fill=\"rgb(163,153,153)\" fill-opacity=\"0.05\" stroke-width=\"1.32\">\n        </line>\n        <line x1=\"157.85951810050756\" y1=\"171.99999999999994\" x2=\"157.85951810050756\" y2=\"127.3246753246753\" stroke=\"rgb(163,153,153)\" stroke-opacity=\"1.0\" fill=\"rgb(163,153,153)\" fill-opacity=\"0.05\" stroke-width=\"1.32\">\n        </line>\n        <line x1=\"157.85951810050756\" y1=\"127.3246753246753\" x2=\"157.85951810050756\" y2=\"127.3246753246753\" stroke=\"rgb(163,153,153)\" stroke-opacity=\"1.0\" fill=\"rgb(163,153,153)\" fill-opacity=\"0.05\" stroke-width=\"1.32\">\n        </line>\n        <line x1=\"248.3234253214032\" y1=\"239.01298701298697\" x2=\"248.3234253214032\" y2=\"306.025974025974\" stroke=\"rgb(163,153,153)\" stroke-opacity=\"1.0\" fill=\"rgb(163,153,153)\" fill-opacity=\"1.0\" stroke-width=\"1.32\">\n        </line>\n        <line x1=\"248.3234253214032\" y1=\"306.025974025974\" x2=\"248.3234253214032\" y2=\"306.025974025974\" stroke=\"rgb(163,153,153)\" stroke-opacity=\"1.0\" fill=\"rgb(163,153,153)\" fill-opacity=\"1.0\" stroke-width=\"1.32\">\n        </line>\n        <line x1=\"248.3234253214032\" y1=\"104.98701298701292\" x2=\"248.3234253214032\" y2=\"60.31168831168827\" stroke=\"rgb(163,153,153)\" stroke-opacity=\"1.0\" fill=\"rgb(163,153,153)\" fill-opacity=\"1.0\" stroke-width=\"1.32\">\n        </line>\n        <line x1=\"248.3234253214032\" y1=\"60.31168831168827\" x2=\"248.3234253214032\" y2=\"60.31168831168827\" stroke=\"rgb(163,153,153)\" stroke-opacity=\"1.0\" fill=\"rgb(163,153,153)\" fill-opacity=\"1.0\" stroke-width=\"1.32\">\n        </line>\n        <line x1=\"338.78733254232793\" y1=\"194.33766233766232\" x2=\"338.78733254232793\" y2=\"261.3506493506493\" stroke=\"rgb(163,153,153)\" stroke-opacity=\"1.0\" fill=\"rgb(163,153,153)\" fill-opacity=\"0.05\" stroke-width=\"1.32\">\n        </line>\n        <line x1=\"338.78733254232793\" y1=\"261.3506493506493\" x2=\"338.78733254232793\" y2=\"261.3506493506493\" stroke=\"rgb(163,153,153)\" stroke-opacity=\"1.0\" fill=\"rgb(163,153,153)\" fill-opacity=\"0.05\" stroke-width=\"1.32\">\n        </line>\n        <line x1=\"338.78733254232793\" y1=\"104.98701298701292\" x2=\"338.78733254232793\" y2=\"15.63636363636357\" stroke=\"rgb(163,153,153)\" stroke-opacity=\"1.0\" fill=\"rgb(163,153,153)\" fill-opacity=\"0.05\" stroke-width=\"1.32\">\n        </line>\n        <line x1=\"338.78733254232793\" y1=\"15.63636363636357\" x2=\"338.78733254232793\" y2=\"15.63636363636357\" stroke=\"rgb(163,153,153)\" stroke-opacity=\"1.0\" fill=\"rgb(163,153,153)\" fill-opacity=\"0.05\" stroke-width=\"1.32\">\n        </line>\n        <line x1=\"429.25123976322357\" y1=\"194.33766233766232\" x2=\"429.25123976322357\" y2=\"239.01298701298697\" stroke=\"rgb(163,153,153)\" stroke-opacity=\"1.0\" fill=\"rgb(163,153,153)\" fill-opacity=\"1.0\" stroke-width=\"1.32\">\n        </line>\n        <line x1=\"429.25123976322357\" y1=\"239.01298701298697\" x2=\"429.25123976322357\" y2=\"239.01298701298697\" stroke=\"rgb(163,153,153)\" stroke-opacity=\"1.0\" fill=\"rgb(163,153,153)\" fill-opacity=\"1.0\" stroke-width=\"1.32\">\n        </line>\n        <line x1=\"429.25123976322357\" y1=\"149.66233766233762\" x2=\"429.25123976322357\" y2=\"104.98701298701292\" stroke=\"rgb(163,153,153)\" stroke-opacity=\"1.0\" fill=\"rgb(163,153,153)\" fill-opacity=\"1.0\" stroke-width=\"1.32\">\n        </line>\n        <line x1=\"429.25123976322357\" y1=\"104.98701298701292\" x2=\"429.25123976322357\" y2=\"104.98701298701292\" stroke=\"rgb(163,153,153)\" stroke-opacity=\"1.0\" fill=\"rgb(163,153,153)\" fill-opacity=\"1.0\" stroke-width=\"1.32\">\n        </line>\n        <line x1=\"519.7151469841192\" y1=\"149.66233766233762\" x2=\"519.7151469841192\" y2=\"171.99999999999994\" stroke=\"rgb(163,153,153)\" stroke-opacity=\"1.0\" fill=\"rgb(163,153,153)\" fill-opacity=\"1.0\" stroke-width=\"1.32\">\n        </line>\n        <line x1=\"519.7151469841192\" y1=\"171.99999999999994\" x2=\"519.7151469841192\" y2=\"171.99999999999994\" stroke=\"rgb(163,153,153)\" stroke-opacity=\"1.0\" fill=\"rgb(163,153,153)\" fill-opacity=\"1.0\" stroke-width=\"1.32\">\n        </line>\n        <line x1=\"519.7151469841192\" y1=\"60.31168831168827\" x2=\"519.7151469841192\" y2=\"15.63636363636357\" stroke=\"rgb(163,153,153)\" stroke-opacity=\"1.0\" fill=\"rgb(163,153,153)\" fill-opacity=\"1.0\" stroke-width=\"1.32\">\n        </line>\n        <line x1=\"519.7151469841192\" y1=\"15.63636363636357\" x2=\"519.7151469841192\" y2=\"15.63636363636357\" stroke=\"rgb(163,153,153)\" stroke-opacity=\"1.0\" fill=\"rgb(163,153,153)\" fill-opacity=\"1.0\" stroke-width=\"1.32\">\n        </line>\n      </g>\n    </g>\n    <g transform=\"translate(14.5 182.0 ) rotate(-90.0 ) \">\n      <text class=\"axis-title-y\" y=\"0.0\" text-anchor=\"middle\">\n        <tspan></tspan>\n      </text>\n    </g>\n    <g transform=\"translate(338.5165898427899 391.5 ) \">\n      <text class=\"axis-title-x\" y=\"0.0\" text-anchor=\"middle\">\n        <tspan>Year</tspan>\n      </text>\n    </g>\n    <g transform=\"translate(642.0719687746434 145.25 ) \">\n      <rect x=\"5.0\" y=\"5.0\" height=\"63.5\" width=\"97.92803122535652\" stroke=\"rgb(71,71,71)\" stroke-opacity=\"1.0\" stroke-width=\"0.0\" fill=\"rgb(255,255,255)\" fill-opacity=\"1.0\">\n      </rect>\n      <g transform=\"translate(10.0 10.0 ) \">\n        <g transform=\"translate(0.0 7.5 ) \">\n          <g transform=\"\">\n            <g>\n              <rect x=\"0.0\" y=\"0.0\" height=\"23.0\" width=\"23.0\" stroke-width=\"0.0\" fill=\"rgb(255,255,255)\" fill-opacity=\"1.0\">\n              </rect>\n              <g transform=\"translate(1.0 1.0 ) \">\n                <g>\n                  <rect x=\"2.759999999999999\" y=\"4.695\" height=\"11.610000000000001\" width=\"15.480000000000002\" stroke=\"rgb(163,153,153)\" stroke-opacity=\"1.0\" fill=\"rgb(163,153,153)\" fill-opacity=\"1.0\" stroke-width=\"1.6500000000000001\">\n                  </rect>\n                  <line x1=\"2.759999999999999\" y1=\"10.5\" x2=\"18.240000000000002\" y2=\"10.5\" stroke=\"rgb(163,153,153)\" stroke-opacity=\"1.0\" fill=\"rgb(163,153,153)\" fill-opacity=\"1.0\" stroke-width=\"1.6500000000000001\">\n                  </line>\n                  <line x1=\"10.5\" y1=\"16.305000000000003\" x2=\"10.5\" y2=\"20.175\" stroke=\"rgb(163,153,153)\" stroke-opacity=\"1.0\" fill=\"rgb(163,153,153)\" fill-opacity=\"1.0\" stroke-width=\"1.6500000000000001\">\n                  </line>\n                  <line x1=\"10.5\" y1=\"0.8250000000000001\" x2=\"10.5\" y2=\"4.695\" stroke=\"rgb(163,153,153)\" stroke-opacity=\"1.0\" fill=\"rgb(163,153,153)\" fill-opacity=\"1.0\" stroke-width=\"1.6500000000000001\">\n                  </line>\n                </g>\n              </g>\n              <rect x=\"0.0\" y=\"0.0\" height=\"23.0\" width=\"23.0\" stroke=\"rgb(255,255,255)\" stroke-opacity=\"1.0\" stroke-width=\"1.0\" fill-opacity=\"0.0\">\n              </rect>\n            </g>\n            <g transform=\"translate(26.9903027277341 16.05 ) \">\n              <text class=\"legend-item\" y=\"0.0\">\n                <tspan>increase</tspan>\n              </text>\n            </g>\n          </g>\n          <g transform=\"translate(0.0 23.0 ) \">\n            <g>\n              <rect x=\"0.0\" y=\"0.0\" height=\"23.0\" width=\"23.0\" stroke-width=\"0.0\" fill=\"rgb(255,255,255)\" fill-opacity=\"1.0\">\n              </rect>\n              <g transform=\"translate(1.0 1.0 ) \">\n                <g>\n                  <rect x=\"2.759999999999999\" y=\"4.695\" height=\"11.610000000000001\" width=\"15.480000000000002\" stroke=\"rgb(163,153,153)\" stroke-opacity=\"1.0\" fill=\"rgb(163,153,153)\" fill-opacity=\"0.05\" stroke-width=\"1.6500000000000001\">\n                  </rect>\n                  <line x1=\"2.759999999999999\" y1=\"10.5\" x2=\"18.240000000000002\" y2=\"10.5\" stroke=\"rgb(163,153,153)\" stroke-opacity=\"1.0\" fill=\"rgb(163,153,153)\" fill-opacity=\"0.05\" stroke-width=\"1.6500000000000001\">\n                  </line>\n                  <line x1=\"10.5\" y1=\"16.305000000000003\" x2=\"10.5\" y2=\"20.175\" stroke=\"rgb(163,153,153)\" stroke-opacity=\"1.0\" fill=\"rgb(163,153,153)\" fill-opacity=\"0.05\" stroke-width=\"1.6500000000000001\">\n                  </line>\n                  <line x1=\"10.5\" y1=\"0.8250000000000001\" x2=\"10.5\" y2=\"4.695\" stroke=\"rgb(163,153,153)\" stroke-opacity=\"1.0\" fill=\"rgb(163,153,153)\" fill-opacity=\"0.05\" stroke-width=\"1.6500000000000001\">\n                  </line>\n                </g>\n              </g>\n              <rect x=\"0.0\" y=\"0.0\" height=\"23.0\" width=\"23.0\" stroke=\"rgb(255,255,255)\" stroke-opacity=\"1.0\" stroke-width=\"1.0\" fill-opacity=\"0.0\">\n              </rect>\n            </g>\n            <g transform=\"translate(26.9903027277341 16.05 ) \">\n              <text class=\"legend-item\" y=\"0.0\">\n                <tspan>decrease</tspan>\n              </text>\n            </g>\n          </g>\n        </g>\n      </g>\n    </g>\n    <path fill=\"rgb(0,0,0)\" fill-opacity=\"0.0\" stroke=\"rgb(71,71,71)\" stroke-opacity=\"1.0\" stroke-width=\"0.0\" d=\"M0.0 0.0 L0.0 400.0 L750.0 400.0 L750.0 0.0 Z\">\n    </path>\n  </g>\n  <g id=\"d5JueKZ\">\n  </g>\n</svg>\n        <script>document.getElementById(\"e7f579cf-6061-4c65-83ba-2af722b6afd6\").style.display = \"none\";</script>",
      "application/plot+json": {
       "output_type": "lets_plot_spec",
       "output": {
        "mapping": {},
        "data": {},
        "ggsize": {
         "width": 750.0,
         "height": 400.0
        },
        "kind": "plot",
        "scales": [
         {
          "aesthetic": "x",
          "name": "x",
          "limits": [
           null,
           null
          ]
         },
         {
          "aesthetic": "y",
          "name": "",
          "limits": [
           null,
           null
          ]
         },
         {
          "aesthetic": "x",
          "limits": [
           null,
           null
          ]
         },
         {
          "aesthetic": "alpha",
          "breaks": [
           true,
           false
          ],
          "values": [
           1.0,
           0.05
          ],
          "name": "",
          "limits": [
           true,
           false
          ],
          "labels": [
           "increase",
           "decrease"
          ]
         },
         {
          "aesthetic": "fill",
          "values": [
           "#3ba272",
           "#ee6666"
          ],
          "limits": [
           true,
           false
          ],
          "guide": "none"
         },
         {
          "aesthetic": "color",
          "values": [
           "#3ba272",
           "#ee6666"
          ],
          "limits": [
           true,
           false
          ],
          "guide": "none"
         },
         {
          "aesthetic": "linetype",
          "values": [
           1.0,
           1.0
          ],
          "limits": [
           true,
           false
          ],
          "guide": "none"
         },
         {
          "aesthetic": "size",
          "values": [
           0.6,
           0.6
          ],
          "limits": [
           true,
           false
          ],
          "guide": "none"
         },
         {
          "aesthetic": "x",
          "name": "Year",
          "format": "d",
          "limits": [
           null,
           null
          ]
         }
        ],
        "layers": [
         {
          "mapping": {
           "x": "x",
           "ymin": "min",
           "lower": "lower",
           "middle": "middle",
           "upper": "upper",
           "ymax": "max",
           "alpha": "isIncreased",
           "fill": "isIncreased",
           "color": "isIncreased",
           "linetype": "isIncreased",
           "size": "isIncreased"
          },
          "stat": "identity",
          "data": {
           "min": [
            8.0,
            10.0,
            9.0,
            11.0,
            12.0,
            15.0
           ],
           "middle": [
            null,
            null,
            null,
            null,
            null,
            null
           ],
           "max": [
            18.0,
            17.0,
            20.0,
            22.0,
            18.0,
            22.0
           ],
           "isIncreased": [
            true,
            false,
            true,
            false,
            true,
            true
           ],
           "lower": [
            10.0,
            12.0,
            12.0,
            14.0,
            14.0,
            16.0
           ],
           "upper": [
            15.0,
            15.0,
            18.0,
            18.0,
            16.0,
            20.0
           ],
           "x": [
            2018.0,
            2019.0,
            2020.0,
            2021.0,
            2022.0,
            2023.0
           ],
           "close": [
            15.0,
            12.0,
            18.0,
            14.0,
            16.0,
            20.0
           ],
           "open": [
            10.0,
            15.0,
            12.0,
            18.0,
            14.0,
            16.0
           ]
          },
          "whisker_width": 0.0,
          "color": "#a39999",
          "sampling": "none",
          "position": "identity",
          "geom": "boxplot",
          "fill": "#a39999",
          "tooltips": {
           "formats": [
            {
             "field": "open",
             "format": ".2f"
            },
            {
             "field": "max",
             "format": ".2f"
            },
            {
             "field": "min",
             "format": ".2f"
            },
            {
             "field": "close",
             "format": ".2f"
            }
           ],
           "title": "@x",
           "lines": [
            "open|@open",
            "high|@max",
            "low|@min",
            "close|@close"
           ],
           "disable_splitting": true
          }
         }
        ]
       },
       "apply_color_scheme": true,
       "swing_enabled": true
      }
     },
     "execution_count": 7,
     "metadata": {},
     "output_type": "execute_result"
    }
   ],
   "source": [
    "val year = listOf(2018, 2019, 2020, 2021, 2022, 2023)\n",
    "val opens = listOf(10.0, 15.0, 12.0, 18.0, 14.0, 16.0)\n",
    "val highs = listOf(18.0, 17.0, 20.0, 22.0, 18.0, 22.0)\n",
    "val lows = listOf(8.0, 10.0, 9.0, 11.0, 12.0, 15.0)\n",
    "val closes = listOf(15.0, 12.0, 18.0, 14.0, 16.0, 20.0)\n",
    "\n",
    "plot {\n",
    "    candlestick(year, opens, highs, lows, closes) {\n",
    "        alpha(Stat.isIncreased) {\n",
    "            scale = categorical(true to 1.0, false to 0.05)\n",
    "            legend {\n",
    "                name = \"\"\n",
    "                breaksLabeled(true to \"increase\", false to \"decrease\")\n",
    "            }\n",
    "        }\n",
    "        fillColor = Color.GREY\n",
    "        borderLine.color = Color.GREY\n",
    "    }\n",
    "    x.axis {\n",
    "        name = \"Year\"\n",
    "        breaks(format = \"d\")\n",
    "    }\n",
    "    layout.size = 750 to 400\n",
    "}"
   ],
   "metadata": {
    "collapsed": false,
    "ExecuteTime": {
     "end_time": "2024-02-22T11:11:18.151824Z",
     "start_time": "2024-02-22T11:11:17.750573Z"
    }
   },
   "execution_count": 7
  }
 ],
 "metadata": {
  "kernelspec": {
   "display_name": "Kotlin",
   "language": "kotlin",
   "name": "kotlin"
  },
  "language_info": {
   "name": "kotlin",
   "version": "1.9.0",
   "mimetype": "text/x-kotlin",
   "file_extension": ".kt",
   "pygments_lexer": "kotlin",
   "codemirror_mode": "text/x-kotlin",
   "nbconvert_exporter": ""
  },
  "ktnbPluginMetadata": {
   "projectLibraries": []
  }
 },
 "nbformat": 4,
 "nbformat_minor": 0
}
