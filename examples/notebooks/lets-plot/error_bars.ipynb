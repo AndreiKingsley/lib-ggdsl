{
 "cells": [
  {
   "cell_type": "markdown",
   "metadata": {},
   "source": [
    "https://nbviewer.org/github/JetBrains/lets-plot-kotlin/blob/master/docs/examples/jupyter-notebooks/error_bars.ipynb"
   ]
  },
  {
   "cell_type": "code",
   "execution_count": 1,
   "metadata": {
    "ExecuteTime": {
     "end_time": "2023-07-21T11:22:39.199971Z",
     "start_time": "2023-07-21T11:22:23.044557Z"
    }
   },
   "outputs": [
    {
     "data": {
      "text/plain": ""
     },
     "metadata": {},
     "output_type": "display_data"
    },
    {
     "data": {
      "text/html": "            <div id=\"kotlin_out_0\"/>\n            <script type=\"text/javascript\">\n                            if(!window.kotlinQueues) {\n                window.kotlinQueues = {};\n            }\n            if(!window.kotlinQueues[\"kandyLetsPlot\"]) {\n                var resQueue = [];\n                window.kotlinQueues[\"kandyLetsPlot\"] = resQueue;\n                window[\"call_kandyLetsPlot\"] = function(f) {\n                    resQueue.push(f);\n                }\n            }\n            (function (){\n                var modifiers = [(function(script) {\n    script.src = \"https://cdn.jsdelivr.net/gh/JetBrains/lets-plot@v3.1.0/js-package/distr/lets-plot.min.js\"\n    script.type = \"text/javascript\";\n})];\n                var e = document.getElementById(\"kotlin_out_0\");\n                modifiers.forEach(function (gen) {\n                    var script = document.createElement(\"script\");\n                    gen(script)\n                    script.addEventListener(\"load\", function() {\n                        window[\"call_kandyLetsPlot\"] = function(f) {f();};\n                        window.kotlinQueues[\"kandyLetsPlot\"].forEach(function(f) {f();});\n                        window.kotlinQueues[\"kandyLetsPlot\"] = [];\n                    }, false);\n                    script.addEventListener(\"error\", function() {\n                        window[\"call_kandyLetsPlot\"] = function(f) {};\n                        window.kotlinQueues[\"kandyLetsPlot\"] = [];\n                        var div = document.createElement(\"div\");\n                        div.style.color = 'darkred';\n                        div.textContent = 'Error loading resource kandyLetsPlot';\n                        document.getElementById(\"kotlin_out_0\").appendChild(div);\n                    }, false);\n                    \n                    e.appendChild(script);\n                });\n            })();\n            </script>"
     },
     "metadata": {},
     "output_type": "display_data"
    }
   ],
   "source": [
    "%use kandy(0.4.4)\n",
    "%use dataframe(0.11.0)"
   ]
  },
  {
   "cell_type": "markdown",
   "metadata": {},
   "source": [
    "### Plotting means and error ranges.\n",
    "\n",
    "There are several ways to show error ranges on a plot. Among them are\n",
    "- `geomErrorBar()`\n",
    "- `geomCrossbar()`\n",
    "- `geomLineRange()`\n",
    "- `geomPointRange()`"
   ]
  },
  {
   "cell_type": "code",
   "execution_count": 2,
   "metadata": {
    "ExecuteTime": {
     "end_time": "2023-07-21T11:22:39.574570Z",
     "start_time": "2023-07-21T11:22:39.200283Z"
    }
   },
   "outputs": [],
   "source": [
    "// This example was found at: www.cookbook-r.com/Graphs/Plotting_means_and_error_bars_(ggplot2)\n",
    "val data = mapOf(\n",
    "    \"supp\" to listOf(\"OJ\", \"OJ\", \"OJ\", \"VC\", \"VC\", \"VC\"),\n",
    "    \"dose\" to listOf(0.5, 1.0, 2.0, 0.5, 1.0, 2.0),\n",
    "    \"length\" to listOf(13.23, 22.70, 26.06, 7.98, 16.77, 26.14),\n",
    "    \"len_min\" to listOf(11.83, 21.2, 24.50, 4.24, 15.26, 23.35),\n",
    "    \"len_max\" to listOf(15.63, 24.9, 27.11, 10.72, 19.28, 28.93)\n",
    ")"
   ]
  },
  {
   "cell_type": "code",
   "execution_count": 3,
   "metadata": {
    "ExecuteTime": {
     "end_time": "2023-07-21T11:22:39.776962Z",
     "start_time": "2023-07-21T11:22:39.576905Z"
    }
   },
   "outputs": [],
   "source": [
    "val supp = column<String>(\"supp\")\n",
    "val dose = column<Double>(\"dose\")\n",
    "val length = column<Double>(\"length\")\n",
    "val lenMin = column<Double>(\"len_min\")\n",
    "val lenMax = column<Double>(\"len_max\")"
   ]
  },
  {
   "cell_type": "markdown",
   "metadata": {},
   "source": [
    "### Error-bars with lines and points."
   ]
  },
  {
   "cell_type": "code",
   "execution_count": 4,
   "metadata": {
    "ExecuteTime": {
     "end_time": "2023-07-21T11:22:40.702459Z",
     "start_time": "2023-07-21T11:22:39.778370Z"
    }
   },
   "outputs": [
    {
     "data": {
      "text/html": "            <script type=\"text/javascript\" data-lets-plot-script=\"library\" src=\"https://cdn.jsdelivr.net/gh/JetBrains/lets-plot@v3.1.0/js-package/distr/lets-plot.min.js\"></script>    \n               <div id=\"OoN4UN\"></div>\n   <script type=\"text/javascript\" data-lets-plot-script=\"plot\">\n       var plotSpec={\n\"mapping\":{\n},\n\"data\":{\n\"dose\":[0.5,1.0,2.0,0.5,1.0,2.0],\n\"supp\":[\"OJ\",\"OJ\",\"OJ\",\"VC\",\"VC\",\"VC\"],\n\"length\":[13.23,22.7,26.06,7.98,16.77,26.14],\n\"len_min\":[11.83,21.2,24.5,4.24,15.26,23.35],\n\"len_max\":[15.63,24.9,27.11,10.72,19.28,28.93]\n},\n\"kind\":\"plot\",\n\"scales\":[{\n\"aesthetic\":\"x\",\n\"limits\":[null,null]\n},{\n\"aesthetic\":\"color\",\n\"discrete\":true\n},{\n\"aesthetic\":\"x\",\n\"limits\":[null,null]\n},{\n\"aesthetic\":\"y\",\n\"limits\":[null,null]\n},{\n\"aesthetic\":\"color\",\n\"discrete\":true\n},{\n\"aesthetic\":\"x\",\n\"limits\":[null,null]\n},{\n\"aesthetic\":\"y\",\n\"limits\":[null,null]\n},{\n\"aesthetic\":\"color\",\n\"discrete\":true\n}],\n\"layers\":[{\n\"mapping\":{\n\"x\":\"dose\",\n\"ymin\":\"len_min\",\n\"ymax\":\"len_max\",\n\"color\":\"supp\"\n},\n\"stat\":\"identity\",\n\"sampling\":\"none\",\n\"width\":0.1,\n\"position\":\"identity\",\n\"geom\":\"errorbar\",\n\"data\":{\n}\n},{\n\"mapping\":{\n\"x\":\"dose\",\n\"y\":\"length\",\n\"color\":\"supp\"\n},\n\"stat\":\"identity\",\n\"sampling\":\"none\",\n\"position\":\"identity\",\n\"geom\":\"line\",\n\"data\":{\n}\n},{\n\"mapping\":{\n\"x\":\"dose\",\n\"y\":\"length\",\n\"color\":\"supp\"\n},\n\"stat\":\"identity\",\n\"sampling\":\"none\",\n\"position\":\"identity\",\n\"geom\":\"point\",\n\"data\":{\n}\n}]\n};\n       var plotContainer = document.getElementById(\"OoN4UN\");\n       LetsPlot.buildPlotFromProcessedSpecs(plotSpec, -1, -1, plotContainer);\n   </script>            \n        <svg id=98c644ac-006e-4496-a835-67aabef8e813 xmlns=\"http://www.w3.org/2000/svg\" xmlns:xlink=\"http://www.w3.org/1999/xlink\" class=\"plt-container\" width=\"600.0\" height=\"400.0\">\n  <style type=\"text/css\">\n  .plt-container {\n   font-family: Lucida Grande, sans-serif;\n   user-select: none;\n   -webkit-user-select: none;\n   -moz-user-select: none;\n   -ms-user-select: none;\n}\ntext {\n   text-rendering: optimizeLegibility;\n}\n#p8CbH3c .plot-title {\n   fill: #474747;\n   font-family: Lucida Grande, sans-serif;\n   font-size: 16.0px;\n   font-weight: normal;\n   font-style: normal;   \n}\n#p8CbH3c .plot-subtitle {\n   fill: #474747;\n   font-family: Lucida Grande, sans-serif;\n   font-size: 15.0px;\n   font-weight: normal;\n   font-style: normal;   \n}\n#p8CbH3c .plot-caption {\n   fill: #474747;\n   font-family: Lucida Grande, sans-serif;\n   font-size: 13.0px;\n   font-weight: normal;\n   font-style: normal;   \n}\n#p8CbH3c .legend-title {\n   fill: #474747;\n   font-family: Lucida Grande, sans-serif;\n   font-size: 15.0px;\n   font-weight: normal;\n   font-style: normal;   \n}\n#p8CbH3c .legend-item {\n   fill: #474747;\n   font-family: Lucida Grande, sans-serif;\n   font-size: 13.0px;\n   font-weight: normal;\n   font-style: normal;   \n}\n#p8CbH3c .axis-title-x {\n   fill: #474747;\n   font-family: Lucida Grande, sans-serif;\n   font-size: 15.0px;\n   font-weight: normal;\n   font-style: normal;   \n}\n#p8CbH3c .axis-text-x {\n   fill: #474747;\n   font-family: Lucida Grande, sans-serif;\n   font-size: 13.0px;\n   font-weight: normal;\n   font-style: normal;   \n}\n#dcLlF7M .axis-tooltip-text-x {\n   fill: #ffffff;\n   font-family: Lucida Grande, sans-serif;\n   font-size: 13.0px;\n   font-weight: normal;\n   font-style: normal;   \n}\n#p8CbH3c .axis-title-y {\n   fill: #474747;\n   font-family: Lucida Grande, sans-serif;\n   font-size: 15.0px;\n   font-weight: normal;\n   font-style: normal;   \n}\n#p8CbH3c .axis-text-y {\n   fill: #474747;\n   font-family: Lucida Grande, sans-serif;\n   font-size: 13.0px;\n   font-weight: normal;\n   font-style: normal;   \n}\n#dcLlF7M .axis-tooltip-text-y {\n   fill: #ffffff;\n   font-family: Lucida Grande, sans-serif;\n   font-size: 13.0px;\n   font-weight: normal;\n   font-style: normal;   \n}\n#p8CbH3c .facet-strip-text-x {\n   fill: #474747;\n   font-family: Lucida Grande, sans-serif;\n   font-size: 13.0px;\n   font-weight: normal;\n   font-style: normal;   \n}\n#p8CbH3c .facet-strip-text-y {\n   fill: #474747;\n   font-family: Lucida Grande, sans-serif;\n   font-size: 13.0px;\n   font-weight: normal;\n   font-style: normal;   \n}\n#dcLlF7M .tooltip-text {\n   fill: #474747;\n   font-family: Lucida Grande, sans-serif;\n   font-size: 13.0px;\n   font-weight: normal;\n   font-style: normal;   \n}\n#dcLlF7M .tooltip-title {\n   fill: #474747;\n   font-family: Lucida Grande, sans-serif;\n   font-size: 13.0px;\n   font-weight: bold;\n   font-style: normal;   \n}\n#dcLlF7M .tooltip-label {\n   fill: #474747;\n   font-family: Lucida Grande, sans-serif;\n   font-size: 13.0px;\n   font-weight: bold;\n   font-style: normal;   \n}\n\n  </style>\n  <g id=\"p8CbH3c\">\n    <rect x=\"0.0\" y=\"0.0\" height=\"400.0\" width=\"600.0\" stroke=\"rgb(71,71,71)\" stroke-opacity=\"1.0\" stroke-width=\"0.0\" fill=\"rgb(255,255,255)\" fill-opacity=\"1.0\">\n    </rect>\n    <g transform=\"translate(23.0 10.0 ) \">\n      <g transform=\"translate(21.961210910936405 344.0 ) \">\n        <line x1=\"56.813229291342495\" y1=\"-0.0\" x2=\"56.813229291342495\" y2=\"-344.0\" stroke=\"rgb(233,233,233)\" stroke-opacity=\"1.0\" stroke-width=\"1.0\">\n        </line>\n        <line x1=\"112.92506069019926\" y1=\"-0.0\" x2=\"112.92506069019926\" y2=\"-344.0\" stroke=\"rgb(233,233,233)\" stroke-opacity=\"1.0\" stroke-width=\"1.0\">\n        </line>\n        <line x1=\"169.03689208905604\" y1=\"-0.0\" x2=\"169.03689208905604\" y2=\"-344.0\" stroke=\"rgb(233,233,233)\" stroke-opacity=\"1.0\" stroke-width=\"1.0\">\n        </line>\n        <line x1=\"225.14872348791278\" y1=\"-0.0\" x2=\"225.14872348791278\" y2=\"-344.0\" stroke=\"rgb(233,233,233)\" stroke-opacity=\"1.0\" stroke-width=\"1.0\">\n        </line>\n        <line x1=\"281.26055488676957\" y1=\"-0.0\" x2=\"281.26055488676957\" y2=\"-344.0\" stroke=\"rgb(233,233,233)\" stroke-opacity=\"1.0\" stroke-width=\"1.0\">\n        </line>\n        <line x1=\"337.3723862856263\" y1=\"-0.0\" x2=\"337.3723862856263\" y2=\"-344.0\" stroke=\"rgb(233,233,233)\" stroke-opacity=\"1.0\" stroke-width=\"1.0\">\n        </line>\n        <line x1=\"393.4842176844831\" y1=\"-0.0\" x2=\"393.4842176844831\" y2=\"-344.0\" stroke=\"rgb(233,233,233)\" stroke-opacity=\"1.0\" stroke-width=\"1.0\">\n        </line>\n        <line x1=\"449.5960490833398\" y1=\"-0.0\" x2=\"449.5960490833398\" y2=\"-344.0\" stroke=\"rgb(233,233,233)\" stroke-opacity=\"1.0\" stroke-width=\"1.0\">\n        </line>\n        <g transform=\"translate(0.7013978924857156 0.0 ) \">\n          <line stroke-width=\"1.0\" stroke=\"rgb(71,71,71)\" stroke-opacity=\"1.0\" x2=\"0.0\" y2=\"4.0\">\n          </line>\n          <g transform=\"translate(0.0 7.0 ) \">\n            <text class=\"axis-text-x\" text-anchor=\"middle\" dy=\"0.7em\">\n            0.4\n            </text>\n          </g>\n        </g>\n        <g transform=\"translate(56.813229291342495 0.0 ) \">\n          <line stroke-width=\"1.0\" stroke=\"rgb(71,71,71)\" stroke-opacity=\"1.0\" x2=\"0.0\" y2=\"4.0\">\n          </line>\n          <g transform=\"translate(0.0 7.0 ) \">\n            <text class=\"axis-text-x\" text-anchor=\"middle\" dy=\"0.7em\">\n            0.6\n            </text>\n          </g>\n        </g>\n        <g transform=\"translate(112.92506069019926 0.0 ) \">\n          <line stroke-width=\"1.0\" stroke=\"rgb(71,71,71)\" stroke-opacity=\"1.0\" x2=\"0.0\" y2=\"4.0\">\n          </line>\n          <g transform=\"translate(0.0 7.0 ) \">\n            <text class=\"axis-text-x\" text-anchor=\"middle\" dy=\"0.7em\">\n            0.8\n            </text>\n          </g>\n        </g>\n        <g transform=\"translate(169.03689208905604 0.0 ) \">\n          <line stroke-width=\"1.0\" stroke=\"rgb(71,71,71)\" stroke-opacity=\"1.0\" x2=\"0.0\" y2=\"4.0\">\n          </line>\n          <g transform=\"translate(0.0 7.0 ) \">\n            <text class=\"axis-text-x\" text-anchor=\"middle\" dy=\"0.7em\">\n            1.0\n            </text>\n          </g>\n        </g>\n        <g transform=\"translate(225.14872348791278 0.0 ) \">\n          <line stroke-width=\"1.0\" stroke=\"rgb(71,71,71)\" stroke-opacity=\"1.0\" x2=\"0.0\" y2=\"4.0\">\n          </line>\n          <g transform=\"translate(0.0 7.0 ) \">\n            <text class=\"axis-text-x\" text-anchor=\"middle\" dy=\"0.7em\">\n            1.2\n            </text>\n          </g>\n        </g>\n        <g transform=\"translate(281.26055488676957 0.0 ) \">\n          <line stroke-width=\"1.0\" stroke=\"rgb(71,71,71)\" stroke-opacity=\"1.0\" x2=\"0.0\" y2=\"4.0\">\n          </line>\n          <g transform=\"translate(0.0 7.0 ) \">\n            <text class=\"axis-text-x\" text-anchor=\"middle\" dy=\"0.7em\">\n            1.4\n            </text>\n          </g>\n        </g>\n        <g transform=\"translate(337.3723862856263 0.0 ) \">\n          <line stroke-width=\"1.0\" stroke=\"rgb(71,71,71)\" stroke-opacity=\"1.0\" x2=\"0.0\" y2=\"4.0\">\n          </line>\n          <g transform=\"translate(0.0 7.0 ) \">\n            <text class=\"axis-text-x\" text-anchor=\"middle\" dy=\"0.7em\">\n            1.6\n            </text>\n          </g>\n        </g>\n        <g transform=\"translate(393.4842176844831 0.0 ) \">\n          <line stroke-width=\"1.0\" stroke=\"rgb(71,71,71)\" stroke-opacity=\"1.0\" x2=\"0.0\" y2=\"4.0\">\n          </line>\n          <g transform=\"translate(0.0 7.0 ) \">\n            <text class=\"axis-text-x\" text-anchor=\"middle\" dy=\"0.7em\">\n            1.8\n            </text>\n          </g>\n        </g>\n        <g transform=\"translate(449.5960490833398 0.0 ) \">\n          <line stroke-width=\"1.0\" stroke=\"rgb(71,71,71)\" stroke-opacity=\"1.0\" x2=\"0.0\" y2=\"4.0\">\n          </line>\n          <g transform=\"translate(0.0 7.0 ) \">\n            <text class=\"axis-text-x\" text-anchor=\"middle\" dy=\"0.7em\">\n            2.0\n            </text>\n          </g>\n        </g>\n        <line x1=\"0.0\" y1=\"0.0\" x2=\"478.35336267525395\" y2=\"0.0\" stroke-width=\"1.0\" stroke=\"rgb(71,71,71)\" stroke-opacity=\"1.0\">\n        </line>\n      </g>\n      <g transform=\"translate(21.961210910936405 0.0 ) \">\n        <line x1=\"0.0\" y1=\"318.7373614639714\" x2=\"478.35336267525395\" y2=\"318.7373614639714\" stroke=\"rgb(233,233,233)\" stroke-opacity=\"1.0\" stroke-width=\"1.0\">\n        </line>\n        <line x1=\"0.0\" y1=\"255.40660554512317\" x2=\"478.35336267525395\" y2=\"255.40660554512317\" stroke=\"rgb(233,233,233)\" stroke-opacity=\"1.0\" stroke-width=\"1.0\">\n        </line>\n        <line x1=\"0.0\" y1=\"192.0758496262749\" x2=\"478.35336267525395\" y2=\"192.0758496262749\" stroke=\"rgb(233,233,233)\" stroke-opacity=\"1.0\" stroke-width=\"1.0\">\n        </line>\n        <line x1=\"0.0\" y1=\"128.74509370742663\" x2=\"478.35336267525395\" y2=\"128.74509370742663\" stroke=\"rgb(233,233,233)\" stroke-opacity=\"1.0\" stroke-width=\"1.0\">\n        </line>\n        <line x1=\"0.0\" y1=\"65.4143377885784\" x2=\"478.35336267525395\" y2=\"65.4143377885784\" stroke=\"rgb(233,233,233)\" stroke-opacity=\"1.0\" stroke-width=\"1.0\">\n        </line>\n        <g transform=\"translate(0.0 318.7373614639714 ) \">\n          <g transform=\"translate(-3.0 0.0 ) \">\n            <text class=\"axis-text-y\" text-anchor=\"end\" dy=\"0.35em\">\n            5\n            </text>\n          </g>\n        </g>\n        <g transform=\"translate(0.0 255.40660554512317 ) \">\n          <g transform=\"translate(-3.0 0.0 ) \">\n            <text class=\"axis-text-y\" text-anchor=\"end\" dy=\"0.35em\">\n            10\n            </text>\n          </g>\n        </g>\n        <g transform=\"translate(0.0 192.0758496262749 ) \">\n          <g transform=\"translate(-3.0 0.0 ) \">\n            <text class=\"axis-text-y\" text-anchor=\"end\" dy=\"0.35em\">\n            15\n            </text>\n          </g>\n        </g>\n        <g transform=\"translate(0.0 128.74509370742663 ) \">\n          <g transform=\"translate(-3.0 0.0 ) \">\n            <text class=\"axis-text-y\" text-anchor=\"end\" dy=\"0.35em\">\n            20\n            </text>\n          </g>\n        </g>\n        <g transform=\"translate(0.0 65.4143377885784 ) \">\n          <g transform=\"translate(-3.0 0.0 ) \">\n            <text class=\"axis-text-y\" text-anchor=\"end\" dy=\"0.35em\">\n            25\n            </text>\n          </g>\n        </g>\n        <g transform=\"translate(0.0 2.0835818697300965 ) \">\n          <g transform=\"translate(-3.0 0.0 ) \">\n            <text class=\"axis-text-y\" text-anchor=\"end\" dy=\"0.35em\">\n            30\n            </text>\n          </g>\n        </g>\n      </g>\n      <g transform=\"translate(21.961210910936405 0.0 ) \" clip-path=\"url(#cwjOTHE)\" clip-bounds-jfx=\"[rect (0.0, 0.0), (478.35336267525395, 344.0)]\">\n        <defs>\n          <clipPath id=\"cwjOTHE\">\n            <rect x=\"0.0\" y=\"0.0\" width=\"478.35336267525395\" height=\"344.0\">\n            </rect>\n          </clipPath>\n        </defs>\n        <g>\n          <line x1=\"21.743334667057\" y1=\"232.2275488788247\" x2=\"35.7712925167712\" y2=\"232.2275488788247\" stroke=\"rgb(102,194,165)\" stroke-opacity=\"1.0\" fill=\"rgb(17,142,216)\" fill-opacity=\"1.0\" stroke-width=\"1.0\">\n          </line>\n          <line x1=\"21.743334667057\" y1=\"184.09617438050003\" x2=\"35.7712925167712\" y2=\"184.09617438050003\" stroke=\"rgb(102,194,165)\" stroke-opacity=\"1.0\" fill=\"rgb(17,142,216)\" fill-opacity=\"1.0\" stroke-width=\"1.0\">\n          </line>\n          <line x1=\"28.757313591914098\" y1=\"232.2275488788247\" x2=\"28.757313591914098\" y2=\"184.09617438050003\" stroke=\"rgb(102,194,165)\" stroke-opacity=\"1.0\" fill=\"rgb(17,142,216)\" fill-opacity=\"1.0\" stroke-width=\"1.0\">\n          </line>\n        </g>\n        <g>\n          <line x1=\"162.02291316419894\" y1=\"113.5457122869031\" x2=\"176.05087101391314\" y2=\"113.5457122869031\" stroke=\"rgb(102,194,165)\" stroke-opacity=\"1.0\" fill=\"rgb(17,142,216)\" fill-opacity=\"1.0\" stroke-width=\"1.0\">\n          </line>\n          <line x1=\"162.02291316419894\" y1=\"66.68095290695538\" x2=\"176.05087101391314\" y2=\"66.68095290695538\" stroke=\"rgb(102,194,165)\" stroke-opacity=\"1.0\" fill=\"rgb(17,142,216)\" fill-opacity=\"1.0\" stroke-width=\"1.0\">\n          </line>\n          <line x1=\"169.03689208905604\" y1=\"113.5457122869031\" x2=\"169.03689208905604\" y2=\"66.68095290695538\" stroke=\"rgb(102,194,165)\" stroke-opacity=\"1.0\" fill=\"rgb(17,142,216)\" fill-opacity=\"1.0\" stroke-width=\"1.0\">\n          </line>\n        </g>\n        <g>\n          <line x1=\"442.58207015848285\" y1=\"71.74741338046323\" x2=\"456.61002800819693\" y2=\"71.74741338046323\" stroke=\"rgb(102,194,165)\" stroke-opacity=\"1.0\" fill=\"rgb(17,142,216)\" fill-opacity=\"1.0\" stroke-width=\"1.0\">\n          </line>\n          <line x1=\"442.58207015848285\" y1=\"38.68875879082441\" x2=\"456.61002800819693\" y2=\"38.68875879082441\" stroke=\"rgb(102,194,165)\" stroke-opacity=\"1.0\" fill=\"rgb(17,142,216)\" fill-opacity=\"1.0\" stroke-width=\"1.0\">\n          </line>\n          <line x1=\"449.5960490833399\" y1=\"71.74741338046323\" x2=\"449.5960490833399\" y2=\"38.68875879082441\" stroke=\"rgb(102,194,165)\" stroke-opacity=\"1.0\" fill=\"rgb(17,142,216)\" fill-opacity=\"1.0\" stroke-width=\"1.0\">\n          </line>\n        </g>\n        <g>\n          <line x1=\"21.743334667057\" y1=\"328.3636363636364\" x2=\"35.7712925167712\" y2=\"328.3636363636364\" stroke=\"rgb(252,141,98)\" stroke-opacity=\"1.0\" fill=\"rgb(17,142,216)\" fill-opacity=\"1.0\" stroke-width=\"1.0\">\n          </line>\n          <line x1=\"21.743334667057\" y1=\"246.28697669280902\" x2=\"35.7712925167712\" y2=\"246.28697669280902\" stroke=\"rgb(252,141,98)\" stroke-opacity=\"1.0\" fill=\"rgb(17,142,216)\" fill-opacity=\"1.0\" stroke-width=\"1.0\">\n          </line>\n          <line x1=\"28.757313591914098\" y1=\"328.3636363636364\" x2=\"28.757313591914098\" y2=\"246.28697669280902\" stroke=\"rgb(252,141,98)\" stroke-opacity=\"1.0\" fill=\"rgb(17,142,216)\" fill-opacity=\"1.0\" stroke-width=\"1.0\">\n          </line>\n        </g>\n        <g>\n          <line x1=\"162.02291316419894\" y1=\"188.7826503184948\" x2=\"176.05087101391314\" y2=\"188.7826503184948\" stroke=\"rgb(252,141,98)\" stroke-opacity=\"1.0\" fill=\"rgb(17,142,216)\" fill-opacity=\"1.0\" stroke-width=\"1.0\">\n          </line>\n          <line x1=\"162.02291316419894\" y1=\"137.86472255974078\" x2=\"176.05087101391314\" y2=\"137.86472255974078\" stroke=\"rgb(252,141,98)\" stroke-opacity=\"1.0\" fill=\"rgb(17,142,216)\" fill-opacity=\"1.0\" stroke-width=\"1.0\">\n          </line>\n          <line x1=\"169.03689208905604\" y1=\"188.7826503184948\" x2=\"169.03689208905604\" y2=\"137.86472255974078\" stroke=\"rgb(252,141,98)\" stroke-opacity=\"1.0\" fill=\"rgb(17,142,216)\" fill-opacity=\"1.0\" stroke-width=\"1.0\">\n          </line>\n        </g>\n        <g>\n          <line x1=\"442.58207015848285\" y1=\"86.31348724179827\" x2=\"456.61002800819693\" y2=\"86.31348724179827\" stroke=\"rgb(252,141,98)\" stroke-opacity=\"1.0\" fill=\"rgb(17,142,216)\" fill-opacity=\"1.0\" stroke-width=\"1.0\">\n          </line>\n          <line x1=\"442.58207015848285\" y1=\"15.636363636363626\" x2=\"456.61002800819693\" y2=\"15.636363636363626\" stroke=\"rgb(252,141,98)\" stroke-opacity=\"1.0\" fill=\"rgb(17,142,216)\" fill-opacity=\"1.0\" stroke-width=\"1.0\">\n          </line>\n          <line x1=\"449.5960490833399\" y1=\"86.31348724179827\" x2=\"449.5960490833399\" y2=\"15.636363636363626\" stroke=\"rgb(252,141,98)\" stroke-opacity=\"1.0\" fill=\"rgb(17,142,216)\" fill-opacity=\"1.0\" stroke-width=\"1.0\">\n          </line>\n        </g>\n      </g>\n      <g transform=\"translate(21.961210910936405 0.0 ) \" clip-path=\"url(#cj1u7tg)\" clip-bounds-jfx=\"[rect (0.0, 0.0), (478.35336267525395, 344.0)]\">\n        <defs>\n          <clipPath id=\"cj1u7tg\">\n            <rect x=\"0.0\" y=\"0.0\" width=\"478.35336267525395\" height=\"344.0\">\n            </rect>\n          </clipPath>\n        </defs>\n        <g>\n          <path d=\"M28.757313591914098 214.4949372215472 L28.757313591914098 214.4949372215472 L169.03689208905604 94.54648551124859 L449.5960490833399 51.988217533782574 \" fill=\"none\" stroke-width=\"1.0\" stroke=\"rgb(102,194,165)\" stroke-opacity=\"1.0\">\n          </path>\n        </g>\n        <g>\n          <path d=\"M28.757313591914098 280.9922309363379 L28.757313591914098 280.9922309363379 L169.03689208905604 169.65676203100264 L449.5960490833399 50.97492543908095 \" fill=\"none\" stroke-width=\"1.0\" stroke=\"rgb(252,141,98)\" stroke-opacity=\"1.0\">\n          </path>\n        </g>\n      </g>\n      <g transform=\"translate(21.961210910936405 0.0 ) \" clip-path=\"url(#c5Bxc6B)\" clip-bounds-jfx=\"[rect (0.0, 0.0), (478.35336267525395, 344.0)]\">\n        <defs>\n          <clipPath id=\"c5Bxc6B\">\n            <rect x=\"0.0\" y=\"0.0\" width=\"478.35336267525395\" height=\"344.0\">\n            </rect>\n          </clipPath>\n        </defs>\n        <g>\n          \n          <g >\n            <circle fill=\"#66c2a5\" stroke=\"#66c2a5\" stroke-opacity=\"0.0\" stroke-width=\"0.0\" cx=\"28.757313591914098\" cy=\"214.4949372215472\" r=\"2.2\" />\n            <circle fill=\"#66c2a5\" stroke=\"#66c2a5\" stroke-opacity=\"0.0\" stroke-width=\"0.0\" cx=\"169.03689208905604\" cy=\"94.54648551124859\" r=\"2.2\" />\n            <circle fill=\"#66c2a5\" stroke=\"#66c2a5\" stroke-opacity=\"0.0\" stroke-width=\"0.0\" cx=\"449.5960490833399\" cy=\"51.988217533782574\" r=\"2.2\" />\n            <circle fill=\"#fc8d62\" stroke=\"#fc8d62\" stroke-opacity=\"0.0\" stroke-width=\"0.0\" cx=\"28.757313591914098\" cy=\"280.9922309363379\" r=\"2.2\" />\n            <circle fill=\"#fc8d62\" stroke=\"#fc8d62\" stroke-opacity=\"0.0\" stroke-width=\"0.0\" cx=\"169.03689208905604\" cy=\"169.65676203100264\" r=\"2.2\" />\n            <circle fill=\"#fc8d62\" stroke=\"#fc8d62\" stroke-opacity=\"0.0\" stroke-width=\"0.0\" cx=\"449.5960490833399\" cy=\"50.97492543908095\" r=\"2.2\" />\n          </g>\n        </g>\n      </g>\n    </g>\n    <g transform=\"translate(14.5 182.0 ) rotate(-90.0 ) \">\n      <text class=\"axis-title-y\" y=\"0.0\" text-anchor=\"middle\">\n      length\n      </text>\n    </g>\n    <g transform=\"translate(284.1378922485634 391.5 ) \">\n      <text class=\"axis-title-x\" y=\"0.0\" text-anchor=\"middle\">\n      dose\n      </text>\n    </g>\n    <g transform=\"translate(533.3145735861904 137.75 ) \">\n      <rect x=\"5.0\" y=\"5.0\" height=\"78.5\" width=\"56.685426413809644\" stroke=\"rgb(71,71,71)\" stroke-opacity=\"1.0\" stroke-width=\"0.0\" fill=\"rgb(255,255,255)\" fill-opacity=\"1.0\">\n      </rect>\n      <g transform=\"translate(10.0 10.0 ) \">\n        <g transform=\"translate(0.0 10.5 ) \">\n          <text class=\"legend-title\" y=\"0.0\">\n          supp\n          </text>\n        </g>\n        <g transform=\"translate(0.0 22.5 ) \">\n          <g transform=\"\">\n            <g>\n              <rect x=\"0.0\" y=\"0.0\" height=\"23.0\" width=\"23.0\" stroke-width=\"0.0\" fill=\"rgb(255,255,255)\" fill-opacity=\"1.0\">\n              </rect>\n              <g transform=\"translate(1.0 1.0 ) \">\n                <g>\n                  <line x1=\"0.5\" y1=\"0.5\" x2=\"20.5\" y2=\"0.5\" stroke=\"rgb(102,194,165)\" stroke-opacity=\"1.0\" fill=\"rgb(17,142,216)\" fill-opacity=\"1.0\" stroke-width=\"1.0\">\n                  </line>\n                  <line x1=\"0.5\" y1=\"20.5\" x2=\"20.5\" y2=\"20.5\" stroke=\"rgb(102,194,165)\" stroke-opacity=\"1.0\" fill=\"rgb(17,142,216)\" fill-opacity=\"1.0\" stroke-width=\"1.0\">\n                  </line>\n                  <line x1=\"10.5\" y1=\"0.5\" x2=\"10.5\" y2=\"20.5\" stroke=\"rgb(102,194,165)\" stroke-opacity=\"1.0\" fill=\"rgb(17,142,216)\" fill-opacity=\"1.0\" stroke-width=\"1.0\">\n                  </line>\n                </g>\n                <g>\n                  <line x1=\"0.0\" y1=\"10.5\" x2=\"21.0\" y2=\"10.5\" stroke=\"rgb(102,194,165)\" stroke-opacity=\"1.0\" fill=\"rgb(17,142,216)\" fill-opacity=\"1.0\" stroke-width=\"1.0\">\n                  </line>\n                </g>\n                <g>\n                  \n                  <g >\n                    <circle fill=\"#66c2a5\" stroke=\"#66c2a5\" stroke-opacity=\"0.0\" stroke-width=\"0.0\" cx=\"10.5\" cy=\"10.5\" r=\"5.5\" />\n                  </g>\n                </g>\n              </g>\n              <rect x=\"0.0\" y=\"0.0\" height=\"23.0\" width=\"23.0\" stroke=\"rgb(255,255,255)\" stroke-opacity=\"1.0\" stroke-width=\"1.0\" fill-opacity=\"0.0\">\n              </rect>\n            </g>\n            <g transform=\"translate(26.9903027277341 16.05 ) \">\n              <text class=\"legend-item\" y=\"0.0\">\n              OJ\n              </text>\n            </g>\n          </g>\n          <g transform=\"translate(0.0 23.0 ) \">\n            <g>\n              <rect x=\"0.0\" y=\"0.0\" height=\"23.0\" width=\"23.0\" stroke-width=\"0.0\" fill=\"rgb(255,255,255)\" fill-opacity=\"1.0\">\n              </rect>\n              <g transform=\"translate(1.0 1.0 ) \">\n                <g>\n                  <line x1=\"0.5\" y1=\"0.5\" x2=\"20.5\" y2=\"0.5\" stroke=\"rgb(252,141,98)\" stroke-opacity=\"1.0\" fill=\"rgb(17,142,216)\" fill-opacity=\"1.0\" stroke-width=\"1.0\">\n                  </line>\n                  <line x1=\"0.5\" y1=\"20.5\" x2=\"20.5\" y2=\"20.5\" stroke=\"rgb(252,141,98)\" stroke-opacity=\"1.0\" fill=\"rgb(17,142,216)\" fill-opacity=\"1.0\" stroke-width=\"1.0\">\n                  </line>\n                  <line x1=\"10.5\" y1=\"0.5\" x2=\"10.5\" y2=\"20.5\" stroke=\"rgb(252,141,98)\" stroke-opacity=\"1.0\" fill=\"rgb(17,142,216)\" fill-opacity=\"1.0\" stroke-width=\"1.0\">\n                  </line>\n                </g>\n                <g>\n                  <line x1=\"0.0\" y1=\"10.5\" x2=\"21.0\" y2=\"10.5\" stroke=\"rgb(252,141,98)\" stroke-opacity=\"1.0\" fill=\"rgb(17,142,216)\" fill-opacity=\"1.0\" stroke-width=\"1.0\">\n                  </line>\n                </g>\n                <g>\n                  \n                  <g >\n                    <circle fill=\"#fc8d62\" stroke=\"#fc8d62\" stroke-opacity=\"0.0\" stroke-width=\"0.0\" cx=\"10.5\" cy=\"10.5\" r=\"5.5\" />\n                  </g>\n                </g>\n              </g>\n              <rect x=\"0.0\" y=\"0.0\" height=\"23.0\" width=\"23.0\" stroke=\"rgb(255,255,255)\" stroke-opacity=\"1.0\" stroke-width=\"1.0\" fill-opacity=\"0.0\">\n              </rect>\n            </g>\n            <g transform=\"translate(26.9903027277341 16.05 ) \">\n              <text class=\"legend-item\" y=\"0.0\">\n              VC\n              </text>\n            </g>\n          </g>\n        </g>\n      </g>\n    </g>\n  </g>\n  <g id=\"dcLlF7M\">\n  </g>\n</svg>\n        <script>document.getElementById(\"98c644ac-006e-4496-a835-67aabef8e813\").style.display = \"none\";</script>",
      "application/plot+json": {
       "output_type": "lets_plot_spec",
       "output": {
        "mapping": {},
        "data": {
         "dose": [
          0.5,
          1.0,
          2.0,
          0.5,
          1.0,
          2.0
         ],
         "supp": [
          "OJ",
          "OJ",
          "OJ",
          "VC",
          "VC",
          "VC"
         ],
         "length": [
          13.23,
          22.7,
          26.06,
          7.98,
          16.77,
          26.14
         ],
         "len_min": [
          11.83,
          21.2,
          24.5,
          4.24,
          15.26,
          23.35
         ],
         "len_max": [
          15.63,
          24.9,
          27.11,
          10.72,
          19.28,
          28.93
         ]
        },
        "kind": "plot",
        "scales": [
         {
          "aesthetic": "x",
          "limits": [
           null,
           null
          ]
         },
         {
          "aesthetic": "color",
          "discrete": true
         },
         {
          "aesthetic": "x",
          "limits": [
           null,
           null
          ]
         },
         {
          "aesthetic": "y",
          "limits": [
           null,
           null
          ]
         },
         {
          "aesthetic": "color",
          "discrete": true
         },
         {
          "aesthetic": "x",
          "limits": [
           null,
           null
          ]
         },
         {
          "aesthetic": "y",
          "limits": [
           null,
           null
          ]
         },
         {
          "aesthetic": "color",
          "discrete": true
         }
        ],
        "layers": [
         {
          "mapping": {
           "x": "dose",
           "ymin": "len_min",
           "ymax": "len_max",
           "color": "supp"
          },
          "stat": "identity",
          "sampling": "none",
          "width": 0.1,
          "position": "identity",
          "geom": "errorbar"
         },
         {
          "mapping": {
           "x": "dose",
           "y": "length",
           "color": "supp"
          },
          "stat": "identity",
          "sampling": "none",
          "position": "identity",
          "geom": "line"
         },
         {
          "mapping": {
           "x": "dose",
           "y": "length",
           "color": "supp"
          },
          "stat": "identity",
          "sampling": "none",
          "position": "identity",
          "geom": "point"
         }
        ]
       },
       "apply_color_scheme": true,
       "swing_enabled": true
      }
     },
     "execution_count": 4,
     "metadata": {},
     "output_type": "execute_result"
    }
   ],
   "source": [
    "plot(data) {\n",
    "    x(dose)\n",
    "\n",
    "    errorBar {\n",
    "        yMin(lenMin)\n",
    "        yMax(lenMax)\n",
    "\n",
    "        // todo just line?\n",
    "        borderLine.color(supp)\n",
    "\n",
    "        width = .1\n",
    "    }\n",
    "\n",
    "    line {\n",
    "        y(length)\n",
    "\n",
    "        color(supp)\n",
    "    }\n",
    "\n",
    "    points {\n",
    "        y(length)\n",
    "\n",
    "        color(supp)\n",
    "     }\n",
    "}"
   ]
  },
  {
   "cell_type": "code",
   "execution_count": 5,
   "metadata": {
    "ExecuteTime": {
     "end_time": "2023-07-21T11:22:40.992944Z",
     "start_time": "2023-07-21T11:22:40.701366Z"
    }
   },
   "outputs": [
    {
     "data": {
      "text/html": "            <script type=\"text/javascript\" data-lets-plot-script=\"library\" src=\"https://cdn.jsdelivr.net/gh/JetBrains/lets-plot@v3.1.0/js-package/distr/lets-plot.min.js\"></script>    \n               <div id=\"eIlmyz\"></div>\n   <script type=\"text/javascript\" data-lets-plot-script=\"plot\">\n       var plotSpec={\n\"mapping\":{\n},\n\"data\":{\n\"dose\":[0.5,1.0,2.0,0.5,1.0,2.0],\n\"supp\":[\"OJ\",\"OJ\",\"OJ\",\"VC\",\"VC\",\"VC\"],\n\"length\":[13.23,22.7,26.06,7.98,16.77,26.14],\n\"len_min\":[11.83,21.2,24.5,4.24,15.26,23.35],\n\"len_max\":[15.63,24.9,27.11,10.72,19.28,28.93]\n},\n\"kind\":\"plot\",\n\"scales\":[{\n\"aesthetic\":\"x\",\n\"limits\":[null,null]\n},{\n\"aesthetic\":\"color\",\n\"discrete\":true\n},{\n\"aesthetic\":\"x\",\n\"limits\":[null,null]\n},{\n\"aesthetic\":\"y\",\n\"limits\":[null,null]\n},{\n\"aesthetic\":\"color\",\n\"discrete\":true\n},{\n\"aesthetic\":\"x\",\n\"limits\":[null,null]\n},{\n\"aesthetic\":\"y\",\n\"limits\":[null,null]\n},{\n\"aesthetic\":\"color\",\n\"discrete\":true\n}],\n\"layers\":[{\n\"mapping\":{\n\"x\":\"dose\",\n\"ymin\":\"len_min\",\n\"ymax\":\"len_max\",\n\"color\":\"supp\"\n},\n\"stat\":\"identity\",\n\"sampling\":\"none\",\n\"width\":0.1,\n\"position\":{\n\"name\":\"dodge\",\n\"width\":0.1\n},\n\"geom\":\"errorbar\",\n\"data\":{\n}\n},{\n\"mapping\":{\n\"x\":\"dose\",\n\"y\":\"length\",\n\"color\":\"supp\"\n},\n\"stat\":\"identity\",\n\"sampling\":\"none\",\n\"position\":{\n\"name\":\"dodge\",\n\"width\":0.1\n},\n\"geom\":\"line\",\n\"data\":{\n}\n},{\n\"mapping\":{\n\"x\":\"dose\",\n\"y\":\"length\",\n\"color\":\"supp\"\n},\n\"stat\":\"identity\",\n\"sampling\":\"none\",\n\"position\":{\n\"name\":\"dodge\",\n\"width\":0.1\n},\n\"geom\":\"point\",\n\"data\":{\n}\n}]\n};\n       var plotContainer = document.getElementById(\"eIlmyz\");\n       LetsPlot.buildPlotFromProcessedSpecs(plotSpec, -1, -1, plotContainer);\n   </script>            \n        <svg id=a88a3725-cb3d-4698-8cc0-3042db276f55 xmlns=\"http://www.w3.org/2000/svg\" xmlns:xlink=\"http://www.w3.org/1999/xlink\" class=\"plt-container\" width=\"600.0\" height=\"400.0\">\n  <style type=\"text/css\">\n  .plt-container {\n   font-family: Lucida Grande, sans-serif;\n   user-select: none;\n   -webkit-user-select: none;\n   -moz-user-select: none;\n   -ms-user-select: none;\n}\ntext {\n   text-rendering: optimizeLegibility;\n}\n#p2xeiDt .plot-title {\n   fill: #474747;\n   font-family: Lucida Grande, sans-serif;\n   font-size: 16.0px;\n   font-weight: normal;\n   font-style: normal;   \n}\n#p2xeiDt .plot-subtitle {\n   fill: #474747;\n   font-family: Lucida Grande, sans-serif;\n   font-size: 15.0px;\n   font-weight: normal;\n   font-style: normal;   \n}\n#p2xeiDt .plot-caption {\n   fill: #474747;\n   font-family: Lucida Grande, sans-serif;\n   font-size: 13.0px;\n   font-weight: normal;\n   font-style: normal;   \n}\n#p2xeiDt .legend-title {\n   fill: #474747;\n   font-family: Lucida Grande, sans-serif;\n   font-size: 15.0px;\n   font-weight: normal;\n   font-style: normal;   \n}\n#p2xeiDt .legend-item {\n   fill: #474747;\n   font-family: Lucida Grande, sans-serif;\n   font-size: 13.0px;\n   font-weight: normal;\n   font-style: normal;   \n}\n#p2xeiDt .axis-title-x {\n   fill: #474747;\n   font-family: Lucida Grande, sans-serif;\n   font-size: 15.0px;\n   font-weight: normal;\n   font-style: normal;   \n}\n#p2xeiDt .axis-text-x {\n   fill: #474747;\n   font-family: Lucida Grande, sans-serif;\n   font-size: 13.0px;\n   font-weight: normal;\n   font-style: normal;   \n}\n#drzTq73 .axis-tooltip-text-x {\n   fill: #ffffff;\n   font-family: Lucida Grande, sans-serif;\n   font-size: 13.0px;\n   font-weight: normal;\n   font-style: normal;   \n}\n#p2xeiDt .axis-title-y {\n   fill: #474747;\n   font-family: Lucida Grande, sans-serif;\n   font-size: 15.0px;\n   font-weight: normal;\n   font-style: normal;   \n}\n#p2xeiDt .axis-text-y {\n   fill: #474747;\n   font-family: Lucida Grande, sans-serif;\n   font-size: 13.0px;\n   font-weight: normal;\n   font-style: normal;   \n}\n#drzTq73 .axis-tooltip-text-y {\n   fill: #ffffff;\n   font-family: Lucida Grande, sans-serif;\n   font-size: 13.0px;\n   font-weight: normal;\n   font-style: normal;   \n}\n#p2xeiDt .facet-strip-text-x {\n   fill: #474747;\n   font-family: Lucida Grande, sans-serif;\n   font-size: 13.0px;\n   font-weight: normal;\n   font-style: normal;   \n}\n#p2xeiDt .facet-strip-text-y {\n   fill: #474747;\n   font-family: Lucida Grande, sans-serif;\n   font-size: 13.0px;\n   font-weight: normal;\n   font-style: normal;   \n}\n#drzTq73 .tooltip-text {\n   fill: #474747;\n   font-family: Lucida Grande, sans-serif;\n   font-size: 13.0px;\n   font-weight: normal;\n   font-style: normal;   \n}\n#drzTq73 .tooltip-title {\n   fill: #474747;\n   font-family: Lucida Grande, sans-serif;\n   font-size: 13.0px;\n   font-weight: bold;\n   font-style: normal;   \n}\n#drzTq73 .tooltip-label {\n   fill: #474747;\n   font-family: Lucida Grande, sans-serif;\n   font-size: 13.0px;\n   font-weight: bold;\n   font-style: normal;   \n}\n\n  </style>\n  <g id=\"p2xeiDt\">\n    <rect x=\"0.0\" y=\"0.0\" height=\"400.0\" width=\"600.0\" stroke=\"rgb(71,71,71)\" stroke-opacity=\"1.0\" stroke-width=\"0.0\" fill=\"rgb(255,255,255)\" fill-opacity=\"1.0\">\n    </rect>\n    <g transform=\"translate(23.0 10.0 ) \">\n      <g transform=\"translate(21.961210910936405 344.0 ) \">\n        <line x1=\"56.813229291342495\" y1=\"-0.0\" x2=\"56.813229291342495\" y2=\"-344.0\" stroke=\"rgb(233,233,233)\" stroke-opacity=\"1.0\" stroke-width=\"1.0\">\n        </line>\n        <line x1=\"112.92506069019926\" y1=\"-0.0\" x2=\"112.92506069019926\" y2=\"-344.0\" stroke=\"rgb(233,233,233)\" stroke-opacity=\"1.0\" stroke-width=\"1.0\">\n        </line>\n        <line x1=\"169.03689208905604\" y1=\"-0.0\" x2=\"169.03689208905604\" y2=\"-344.0\" stroke=\"rgb(233,233,233)\" stroke-opacity=\"1.0\" stroke-width=\"1.0\">\n        </line>\n        <line x1=\"225.14872348791278\" y1=\"-0.0\" x2=\"225.14872348791278\" y2=\"-344.0\" stroke=\"rgb(233,233,233)\" stroke-opacity=\"1.0\" stroke-width=\"1.0\">\n        </line>\n        <line x1=\"281.26055488676957\" y1=\"-0.0\" x2=\"281.26055488676957\" y2=\"-344.0\" stroke=\"rgb(233,233,233)\" stroke-opacity=\"1.0\" stroke-width=\"1.0\">\n        </line>\n        <line x1=\"337.3723862856263\" y1=\"-0.0\" x2=\"337.3723862856263\" y2=\"-344.0\" stroke=\"rgb(233,233,233)\" stroke-opacity=\"1.0\" stroke-width=\"1.0\">\n        </line>\n        <line x1=\"393.4842176844831\" y1=\"-0.0\" x2=\"393.4842176844831\" y2=\"-344.0\" stroke=\"rgb(233,233,233)\" stroke-opacity=\"1.0\" stroke-width=\"1.0\">\n        </line>\n        <line x1=\"449.5960490833398\" y1=\"-0.0\" x2=\"449.5960490833398\" y2=\"-344.0\" stroke=\"rgb(233,233,233)\" stroke-opacity=\"1.0\" stroke-width=\"1.0\">\n        </line>\n        <g transform=\"translate(0.7013978924857156 0.0 ) \">\n          <line stroke-width=\"1.0\" stroke=\"rgb(71,71,71)\" stroke-opacity=\"1.0\" x2=\"0.0\" y2=\"4.0\">\n          </line>\n          <g transform=\"translate(0.0 7.0 ) \">\n            <text class=\"axis-text-x\" text-anchor=\"middle\" dy=\"0.7em\">\n            0.4\n            </text>\n          </g>\n        </g>\n        <g transform=\"translate(56.813229291342495 0.0 ) \">\n          <line stroke-width=\"1.0\" stroke=\"rgb(71,71,71)\" stroke-opacity=\"1.0\" x2=\"0.0\" y2=\"4.0\">\n          </line>\n          <g transform=\"translate(0.0 7.0 ) \">\n            <text class=\"axis-text-x\" text-anchor=\"middle\" dy=\"0.7em\">\n            0.6\n            </text>\n          </g>\n        </g>\n        <g transform=\"translate(112.92506069019926 0.0 ) \">\n          <line stroke-width=\"1.0\" stroke=\"rgb(71,71,71)\" stroke-opacity=\"1.0\" x2=\"0.0\" y2=\"4.0\">\n          </line>\n          <g transform=\"translate(0.0 7.0 ) \">\n            <text class=\"axis-text-x\" text-anchor=\"middle\" dy=\"0.7em\">\n            0.8\n            </text>\n          </g>\n        </g>\n        <g transform=\"translate(169.03689208905604 0.0 ) \">\n          <line stroke-width=\"1.0\" stroke=\"rgb(71,71,71)\" stroke-opacity=\"1.0\" x2=\"0.0\" y2=\"4.0\">\n          </line>\n          <g transform=\"translate(0.0 7.0 ) \">\n            <text class=\"axis-text-x\" text-anchor=\"middle\" dy=\"0.7em\">\n            1.0\n            </text>\n          </g>\n        </g>\n        <g transform=\"translate(225.14872348791278 0.0 ) \">\n          <line stroke-width=\"1.0\" stroke=\"rgb(71,71,71)\" stroke-opacity=\"1.0\" x2=\"0.0\" y2=\"4.0\">\n          </line>\n          <g transform=\"translate(0.0 7.0 ) \">\n            <text class=\"axis-text-x\" text-anchor=\"middle\" dy=\"0.7em\">\n            1.2\n            </text>\n          </g>\n        </g>\n        <g transform=\"translate(281.26055488676957 0.0 ) \">\n          <line stroke-width=\"1.0\" stroke=\"rgb(71,71,71)\" stroke-opacity=\"1.0\" x2=\"0.0\" y2=\"4.0\">\n          </line>\n          <g transform=\"translate(0.0 7.0 ) \">\n            <text class=\"axis-text-x\" text-anchor=\"middle\" dy=\"0.7em\">\n            1.4\n            </text>\n          </g>\n        </g>\n        <g transform=\"translate(337.3723862856263 0.0 ) \">\n          <line stroke-width=\"1.0\" stroke=\"rgb(71,71,71)\" stroke-opacity=\"1.0\" x2=\"0.0\" y2=\"4.0\">\n          </line>\n          <g transform=\"translate(0.0 7.0 ) \">\n            <text class=\"axis-text-x\" text-anchor=\"middle\" dy=\"0.7em\">\n            1.6\n            </text>\n          </g>\n        </g>\n        <g transform=\"translate(393.4842176844831 0.0 ) \">\n          <line stroke-width=\"1.0\" stroke=\"rgb(71,71,71)\" stroke-opacity=\"1.0\" x2=\"0.0\" y2=\"4.0\">\n          </line>\n          <g transform=\"translate(0.0 7.0 ) \">\n            <text class=\"axis-text-x\" text-anchor=\"middle\" dy=\"0.7em\">\n            1.8\n            </text>\n          </g>\n        </g>\n        <g transform=\"translate(449.5960490833398 0.0 ) \">\n          <line stroke-width=\"1.0\" stroke=\"rgb(71,71,71)\" stroke-opacity=\"1.0\" x2=\"0.0\" y2=\"4.0\">\n          </line>\n          <g transform=\"translate(0.0 7.0 ) \">\n            <text class=\"axis-text-x\" text-anchor=\"middle\" dy=\"0.7em\">\n            2.0\n            </text>\n          </g>\n        </g>\n        <line x1=\"0.0\" y1=\"0.0\" x2=\"478.35336267525395\" y2=\"0.0\" stroke-width=\"1.0\" stroke=\"rgb(71,71,71)\" stroke-opacity=\"1.0\">\n        </line>\n      </g>\n      <g transform=\"translate(21.961210910936405 0.0 ) \">\n        <line x1=\"0.0\" y1=\"318.7373614639714\" x2=\"478.35336267525395\" y2=\"318.7373614639714\" stroke=\"rgb(233,233,233)\" stroke-opacity=\"1.0\" stroke-width=\"1.0\">\n        </line>\n        <line x1=\"0.0\" y1=\"255.40660554512317\" x2=\"478.35336267525395\" y2=\"255.40660554512317\" stroke=\"rgb(233,233,233)\" stroke-opacity=\"1.0\" stroke-width=\"1.0\">\n        </line>\n        <line x1=\"0.0\" y1=\"192.0758496262749\" x2=\"478.35336267525395\" y2=\"192.0758496262749\" stroke=\"rgb(233,233,233)\" stroke-opacity=\"1.0\" stroke-width=\"1.0\">\n        </line>\n        <line x1=\"0.0\" y1=\"128.74509370742663\" x2=\"478.35336267525395\" y2=\"128.74509370742663\" stroke=\"rgb(233,233,233)\" stroke-opacity=\"1.0\" stroke-width=\"1.0\">\n        </line>\n        <line x1=\"0.0\" y1=\"65.4143377885784\" x2=\"478.35336267525395\" y2=\"65.4143377885784\" stroke=\"rgb(233,233,233)\" stroke-opacity=\"1.0\" stroke-width=\"1.0\">\n        </line>\n        <g transform=\"translate(0.0 318.7373614639714 ) \">\n          <g transform=\"translate(-3.0 0.0 ) \">\n            <text class=\"axis-text-y\" text-anchor=\"end\" dy=\"0.35em\">\n            5\n            </text>\n          </g>\n        </g>\n        <g transform=\"translate(0.0 255.40660554512317 ) \">\n          <g transform=\"translate(-3.0 0.0 ) \">\n            <text class=\"axis-text-y\" text-anchor=\"end\" dy=\"0.35em\">\n            10\n            </text>\n          </g>\n        </g>\n        <g transform=\"translate(0.0 192.0758496262749 ) \">\n          <g transform=\"translate(-3.0 0.0 ) \">\n            <text class=\"axis-text-y\" text-anchor=\"end\" dy=\"0.35em\">\n            15\n            </text>\n          </g>\n        </g>\n        <g transform=\"translate(0.0 128.74509370742663 ) \">\n          <g transform=\"translate(-3.0 0.0 ) \">\n            <text class=\"axis-text-y\" text-anchor=\"end\" dy=\"0.35em\">\n            20\n            </text>\n          </g>\n        </g>\n        <g transform=\"translate(0.0 65.4143377885784 ) \">\n          <g transform=\"translate(-3.0 0.0 ) \">\n            <text class=\"axis-text-y\" text-anchor=\"end\" dy=\"0.35em\">\n            25\n            </text>\n          </g>\n        </g>\n        <g transform=\"translate(0.0 2.0835818697300965 ) \">\n          <g transform=\"translate(-3.0 0.0 ) \">\n            <text class=\"axis-text-y\" text-anchor=\"end\" dy=\"0.35em\">\n            30\n            </text>\n          </g>\n        </g>\n      </g>\n      <g transform=\"translate(21.961210910936405 0.0 ) \" clip-path=\"url(#cLfa9Zb)\" clip-bounds-jfx=\"[rect (0.0, 0.0), (478.35336267525395, 344.0)]\">\n        <defs>\n          <clipPath id=\"cLfa9Zb\">\n            <rect x=\"0.0\" y=\"0.0\" width=\"478.35336267525395\" height=\"344.0\">\n            </rect>\n          </clipPath>\n        </defs>\n        <g>\n          <line x1=\"21.743334667057\" y1=\"232.2275488788247\" x2=\"28.757313591914098\" y2=\"232.2275488788247\" stroke=\"rgb(102,194,165)\" stroke-opacity=\"1.0\" fill=\"rgb(17,142,216)\" fill-opacity=\"1.0\" stroke-width=\"1.0\">\n          </line>\n          <line x1=\"21.743334667057\" y1=\"184.09617438050003\" x2=\"28.757313591914098\" y2=\"184.09617438050003\" stroke=\"rgb(102,194,165)\" stroke-opacity=\"1.0\" fill=\"rgb(17,142,216)\" fill-opacity=\"1.0\" stroke-width=\"1.0\">\n          </line>\n          <line x1=\"25.25032412948555\" y1=\"232.2275488788247\" x2=\"25.25032412948555\" y2=\"184.09617438050003\" stroke=\"rgb(102,194,165)\" stroke-opacity=\"1.0\" fill=\"rgb(17,142,216)\" fill-opacity=\"1.0\" stroke-width=\"1.0\">\n          </line>\n        </g>\n        <g>\n          <line x1=\"162.02291316419894\" y1=\"113.5457122869031\" x2=\"169.03689208905604\" y2=\"113.5457122869031\" stroke=\"rgb(102,194,165)\" stroke-opacity=\"1.0\" fill=\"rgb(17,142,216)\" fill-opacity=\"1.0\" stroke-width=\"1.0\">\n          </line>\n          <line x1=\"162.02291316419894\" y1=\"66.68095290695538\" x2=\"169.03689208905604\" y2=\"66.68095290695538\" stroke=\"rgb(102,194,165)\" stroke-opacity=\"1.0\" fill=\"rgb(17,142,216)\" fill-opacity=\"1.0\" stroke-width=\"1.0\">\n          </line>\n          <line x1=\"165.52990262662752\" y1=\"113.5457122869031\" x2=\"165.52990262662752\" y2=\"66.68095290695538\" stroke=\"rgb(102,194,165)\" stroke-opacity=\"1.0\" fill=\"rgb(17,142,216)\" fill-opacity=\"1.0\" stroke-width=\"1.0\">\n          </line>\n        </g>\n        <g>\n          <line x1=\"442.58207015848285\" y1=\"71.74741338046323\" x2=\"449.5960490833399\" y2=\"71.74741338046323\" stroke=\"rgb(102,194,165)\" stroke-opacity=\"1.0\" fill=\"rgb(17,142,216)\" fill-opacity=\"1.0\" stroke-width=\"1.0\">\n          </line>\n          <line x1=\"442.58207015848285\" y1=\"38.68875879082441\" x2=\"449.5960490833399\" y2=\"38.68875879082441\" stroke=\"rgb(102,194,165)\" stroke-opacity=\"1.0\" fill=\"rgb(17,142,216)\" fill-opacity=\"1.0\" stroke-width=\"1.0\">\n          </line>\n          <line x1=\"446.0890596209113\" y1=\"71.74741338046323\" x2=\"446.0890596209113\" y2=\"38.68875879082441\" stroke=\"rgb(102,194,165)\" stroke-opacity=\"1.0\" fill=\"rgb(17,142,216)\" fill-opacity=\"1.0\" stroke-width=\"1.0\">\n          </line>\n        </g>\n        <g>\n          <line x1=\"28.757313591914098\" y1=\"328.3636363636364\" x2=\"35.7712925167712\" y2=\"328.3636363636364\" stroke=\"rgb(252,141,98)\" stroke-opacity=\"1.0\" fill=\"rgb(17,142,216)\" fill-opacity=\"1.0\" stroke-width=\"1.0\">\n          </line>\n          <line x1=\"28.757313591914098\" y1=\"246.28697669280902\" x2=\"35.7712925167712\" y2=\"246.28697669280902\" stroke=\"rgb(252,141,98)\" stroke-opacity=\"1.0\" fill=\"rgb(17,142,216)\" fill-opacity=\"1.0\" stroke-width=\"1.0\">\n          </line>\n          <line x1=\"32.26430305434265\" y1=\"328.3636363636364\" x2=\"32.26430305434265\" y2=\"246.28697669280902\" stroke=\"rgb(252,141,98)\" stroke-opacity=\"1.0\" fill=\"rgb(17,142,216)\" fill-opacity=\"1.0\" stroke-width=\"1.0\">\n          </line>\n        </g>\n        <g>\n          <line x1=\"169.03689208905604\" y1=\"188.7826503184948\" x2=\"176.05087101391314\" y2=\"188.7826503184948\" stroke=\"rgb(252,141,98)\" stroke-opacity=\"1.0\" fill=\"rgb(17,142,216)\" fill-opacity=\"1.0\" stroke-width=\"1.0\">\n          </line>\n          <line x1=\"169.03689208905604\" y1=\"137.86472255974078\" x2=\"176.05087101391314\" y2=\"137.86472255974078\" stroke=\"rgb(252,141,98)\" stroke-opacity=\"1.0\" fill=\"rgb(17,142,216)\" fill-opacity=\"1.0\" stroke-width=\"1.0\">\n          </line>\n          <line x1=\"172.54388155148456\" y1=\"188.7826503184948\" x2=\"172.54388155148456\" y2=\"137.86472255974078\" stroke=\"rgb(252,141,98)\" stroke-opacity=\"1.0\" fill=\"rgb(17,142,216)\" fill-opacity=\"1.0\" stroke-width=\"1.0\">\n          </line>\n        </g>\n        <g>\n          <line x1=\"449.5960490833399\" y1=\"86.31348724179827\" x2=\"456.61002800819693\" y2=\"86.31348724179827\" stroke=\"rgb(252,141,98)\" stroke-opacity=\"1.0\" fill=\"rgb(17,142,216)\" fill-opacity=\"1.0\" stroke-width=\"1.0\">\n          </line>\n          <line x1=\"449.5960490833399\" y1=\"15.636363636363626\" x2=\"456.61002800819693\" y2=\"15.636363636363626\" stroke=\"rgb(252,141,98)\" stroke-opacity=\"1.0\" fill=\"rgb(17,142,216)\" fill-opacity=\"1.0\" stroke-width=\"1.0\">\n          </line>\n          <line x1=\"453.10303854576847\" y1=\"86.31348724179827\" x2=\"453.10303854576847\" y2=\"15.636363636363626\" stroke=\"rgb(252,141,98)\" stroke-opacity=\"1.0\" fill=\"rgb(17,142,216)\" fill-opacity=\"1.0\" stroke-width=\"1.0\">\n          </line>\n        </g>\n      </g>\n      <g transform=\"translate(21.961210910936405 0.0 ) \" clip-path=\"url(#cTr6GP2)\" clip-bounds-jfx=\"[rect (0.0, 0.0), (478.35336267525395, 344.0)]\">\n        <defs>\n          <clipPath id=\"cTr6GP2\">\n            <rect x=\"0.0\" y=\"0.0\" width=\"478.35336267525395\" height=\"344.0\">\n            </rect>\n          </clipPath>\n        </defs>\n        <g>\n          <path d=\"M25.25032412948555 214.4949372215472 L25.25032412948555 214.4949372215472 L165.52990262662752 94.54648551124859 L446.0890596209113 51.988217533782574 \" fill=\"none\" stroke-width=\"1.0\" stroke=\"rgb(102,194,165)\" stroke-opacity=\"1.0\">\n          </path>\n        </g>\n        <g>\n          <path d=\"M32.26430305434265 280.9922309363379 L32.26430305434265 280.9922309363379 L172.54388155148456 169.65676203100264 L453.10303854576847 50.97492543908095 \" fill=\"none\" stroke-width=\"1.0\" stroke=\"rgb(252,141,98)\" stroke-opacity=\"1.0\">\n          </path>\n        </g>\n      </g>\n      <g transform=\"translate(21.961210910936405 0.0 ) \" clip-path=\"url(#cDKYI5F)\" clip-bounds-jfx=\"[rect (0.0, 0.0), (478.35336267525395, 344.0)]\">\n        <defs>\n          <clipPath id=\"cDKYI5F\">\n            <rect x=\"0.0\" y=\"0.0\" width=\"478.35336267525395\" height=\"344.0\">\n            </rect>\n          </clipPath>\n        </defs>\n        <g>\n          \n          <g >\n            <circle fill=\"#66c2a5\" stroke=\"#66c2a5\" stroke-opacity=\"0.0\" stroke-width=\"0.0\" cx=\"25.25032412948555\" cy=\"214.4949372215472\" r=\"2.2\" />\n            <circle fill=\"#66c2a5\" stroke=\"#66c2a5\" stroke-opacity=\"0.0\" stroke-width=\"0.0\" cx=\"165.52990262662752\" cy=\"94.54648551124859\" r=\"2.2\" />\n            <circle fill=\"#66c2a5\" stroke=\"#66c2a5\" stroke-opacity=\"0.0\" stroke-width=\"0.0\" cx=\"446.0890596209113\" cy=\"51.988217533782574\" r=\"2.2\" />\n            <circle fill=\"#fc8d62\" stroke=\"#fc8d62\" stroke-opacity=\"0.0\" stroke-width=\"0.0\" cx=\"32.26430305434265\" cy=\"280.9922309363379\" r=\"2.2\" />\n            <circle fill=\"#fc8d62\" stroke=\"#fc8d62\" stroke-opacity=\"0.0\" stroke-width=\"0.0\" cx=\"172.54388155148456\" cy=\"169.65676203100264\" r=\"2.2\" />\n            <circle fill=\"#fc8d62\" stroke=\"#fc8d62\" stroke-opacity=\"0.0\" stroke-width=\"0.0\" cx=\"453.10303854576847\" cy=\"50.97492543908095\" r=\"2.2\" />\n          </g>\n        </g>\n      </g>\n    </g>\n    <g transform=\"translate(14.5 182.0 ) rotate(-90.0 ) \">\n      <text class=\"axis-title-y\" y=\"0.0\" text-anchor=\"middle\">\n      length\n      </text>\n    </g>\n    <g transform=\"translate(284.1378922485634 391.5 ) \">\n      <text class=\"axis-title-x\" y=\"0.0\" text-anchor=\"middle\">\n      dose\n      </text>\n    </g>\n    <g transform=\"translate(533.3145735861904 137.75 ) \">\n      <rect x=\"5.0\" y=\"5.0\" height=\"78.5\" width=\"56.685426413809644\" stroke=\"rgb(71,71,71)\" stroke-opacity=\"1.0\" stroke-width=\"0.0\" fill=\"rgb(255,255,255)\" fill-opacity=\"1.0\">\n      </rect>\n      <g transform=\"translate(10.0 10.0 ) \">\n        <g transform=\"translate(0.0 10.5 ) \">\n          <text class=\"legend-title\" y=\"0.0\">\n          supp\n          </text>\n        </g>\n        <g transform=\"translate(0.0 22.5 ) \">\n          <g transform=\"\">\n            <g>\n              <rect x=\"0.0\" y=\"0.0\" height=\"23.0\" width=\"23.0\" stroke-width=\"0.0\" fill=\"rgb(255,255,255)\" fill-opacity=\"1.0\">\n              </rect>\n              <g transform=\"translate(1.0 1.0 ) \">\n                <g>\n                  <line x1=\"0.5\" y1=\"0.5\" x2=\"20.5\" y2=\"0.5\" stroke=\"rgb(102,194,165)\" stroke-opacity=\"1.0\" fill=\"rgb(17,142,216)\" fill-opacity=\"1.0\" stroke-width=\"1.0\">\n                  </line>\n                  <line x1=\"0.5\" y1=\"20.5\" x2=\"20.5\" y2=\"20.5\" stroke=\"rgb(102,194,165)\" stroke-opacity=\"1.0\" fill=\"rgb(17,142,216)\" fill-opacity=\"1.0\" stroke-width=\"1.0\">\n                  </line>\n                  <line x1=\"10.5\" y1=\"0.5\" x2=\"10.5\" y2=\"20.5\" stroke=\"rgb(102,194,165)\" stroke-opacity=\"1.0\" fill=\"rgb(17,142,216)\" fill-opacity=\"1.0\" stroke-width=\"1.0\">\n                  </line>\n                </g>\n                <g>\n                  <line x1=\"0.0\" y1=\"10.5\" x2=\"21.0\" y2=\"10.5\" stroke=\"rgb(102,194,165)\" stroke-opacity=\"1.0\" fill=\"rgb(17,142,216)\" fill-opacity=\"1.0\" stroke-width=\"1.0\">\n                  </line>\n                </g>\n                <g>\n                  \n                  <g >\n                    <circle fill=\"#66c2a5\" stroke=\"#66c2a5\" stroke-opacity=\"0.0\" stroke-width=\"0.0\" cx=\"10.5\" cy=\"10.5\" r=\"5.5\" />\n                  </g>\n                </g>\n              </g>\n              <rect x=\"0.0\" y=\"0.0\" height=\"23.0\" width=\"23.0\" stroke=\"rgb(255,255,255)\" stroke-opacity=\"1.0\" stroke-width=\"1.0\" fill-opacity=\"0.0\">\n              </rect>\n            </g>\n            <g transform=\"translate(26.9903027277341 16.05 ) \">\n              <text class=\"legend-item\" y=\"0.0\">\n              OJ\n              </text>\n            </g>\n          </g>\n          <g transform=\"translate(0.0 23.0 ) \">\n            <g>\n              <rect x=\"0.0\" y=\"0.0\" height=\"23.0\" width=\"23.0\" stroke-width=\"0.0\" fill=\"rgb(255,255,255)\" fill-opacity=\"1.0\">\n              </rect>\n              <g transform=\"translate(1.0 1.0 ) \">\n                <g>\n                  <line x1=\"0.5\" y1=\"0.5\" x2=\"20.5\" y2=\"0.5\" stroke=\"rgb(252,141,98)\" stroke-opacity=\"1.0\" fill=\"rgb(17,142,216)\" fill-opacity=\"1.0\" stroke-width=\"1.0\">\n                  </line>\n                  <line x1=\"0.5\" y1=\"20.5\" x2=\"20.5\" y2=\"20.5\" stroke=\"rgb(252,141,98)\" stroke-opacity=\"1.0\" fill=\"rgb(17,142,216)\" fill-opacity=\"1.0\" stroke-width=\"1.0\">\n                  </line>\n                  <line x1=\"10.5\" y1=\"0.5\" x2=\"10.5\" y2=\"20.5\" stroke=\"rgb(252,141,98)\" stroke-opacity=\"1.0\" fill=\"rgb(17,142,216)\" fill-opacity=\"1.0\" stroke-width=\"1.0\">\n                  </line>\n                </g>\n                <g>\n                  <line x1=\"0.0\" y1=\"10.5\" x2=\"21.0\" y2=\"10.5\" stroke=\"rgb(252,141,98)\" stroke-opacity=\"1.0\" fill=\"rgb(17,142,216)\" fill-opacity=\"1.0\" stroke-width=\"1.0\">\n                  </line>\n                </g>\n                <g>\n                  \n                  <g >\n                    <circle fill=\"#fc8d62\" stroke=\"#fc8d62\" stroke-opacity=\"0.0\" stroke-width=\"0.0\" cx=\"10.5\" cy=\"10.5\" r=\"5.5\" />\n                  </g>\n                </g>\n              </g>\n              <rect x=\"0.0\" y=\"0.0\" height=\"23.0\" width=\"23.0\" stroke=\"rgb(255,255,255)\" stroke-opacity=\"1.0\" stroke-width=\"1.0\" fill-opacity=\"0.0\">\n              </rect>\n            </g>\n            <g transform=\"translate(26.9903027277341 16.05 ) \">\n              <text class=\"legend-item\" y=\"0.0\">\n              VC\n              </text>\n            </g>\n          </g>\n        </g>\n      </g>\n    </g>\n  </g>\n  <g id=\"drzTq73\">\n  </g>\n</svg>\n        <script>document.getElementById(\"a88a3725-cb3d-4698-8cc0-3042db276f55\").style.display = \"none\";</script>",
      "application/plot+json": {
       "output_type": "lets_plot_spec",
       "output": {
        "mapping": {},
        "data": {
         "dose": [
          0.5,
          1.0,
          2.0,
          0.5,
          1.0,
          2.0
         ],
         "supp": [
          "OJ",
          "OJ",
          "OJ",
          "VC",
          "VC",
          "VC"
         ],
         "length": [
          13.23,
          22.7,
          26.06,
          7.98,
          16.77,
          26.14
         ],
         "len_min": [
          11.83,
          21.2,
          24.5,
          4.24,
          15.26,
          23.35
         ],
         "len_max": [
          15.63,
          24.9,
          27.11,
          10.72,
          19.28,
          28.93
         ]
        },
        "kind": "plot",
        "scales": [
         {
          "aesthetic": "x",
          "limits": [
           null,
           null
          ]
         },
         {
          "aesthetic": "color",
          "discrete": true
         },
         {
          "aesthetic": "x",
          "limits": [
           null,
           null
          ]
         },
         {
          "aesthetic": "y",
          "limits": [
           null,
           null
          ]
         },
         {
          "aesthetic": "color",
          "discrete": true
         },
         {
          "aesthetic": "x",
          "limits": [
           null,
           null
          ]
         },
         {
          "aesthetic": "y",
          "limits": [
           null,
           null
          ]
         },
         {
          "aesthetic": "color",
          "discrete": true
         }
        ],
        "layers": [
         {
          "mapping": {
           "x": "dose",
           "ymin": "len_min",
           "ymax": "len_max",
           "color": "supp"
          },
          "stat": "identity",
          "sampling": "none",
          "width": 0.1,
          "position": {
           "name": "dodge",
           "width": 0.1
          },
          "geom": "errorbar"
         },
         {
          "mapping": {
           "x": "dose",
           "y": "length",
           "color": "supp"
          },
          "stat": "identity",
          "sampling": "none",
          "position": {
           "name": "dodge",
           "width": 0.1
          },
          "geom": "line"
         },
         {
          "mapping": {
           "x": "dose",
           "y": "length",
           "color": "supp"
          },
          "stat": "identity",
          "sampling": "none",
          "position": {
           "name": "dodge",
           "width": 0.1
          },
          "geom": "point"
         }
        ]
       },
       "apply_color_scheme": true,
       "swing_enabled": true
      }
     },
     "execution_count": 5,
     "metadata": {},
     "output_type": "execute_result"
    }
   ],
   "source": [
    "val posD = Position.Dodge(0.1)\n",
    "plot(data) {\n",
    "    x(dose)\n",
    "\n",
    "    errorBar {\n",
    "        yMin(lenMin)\n",
    "        yMax(lenMax)\n",
    "\n",
    "        borderLine.color(supp)\n",
    "\n",
    "        width = .1\n",
    "\n",
    "        position = posD\n",
    "    }\n",
    "\n",
    "    line {\n",
    "        y(length)\n",
    "\n",
    "        color(supp)\n",
    "\n",
    "        position = posD\n",
    "    }\n",
    "\n",
    "    points {\n",
    "        y(length)\n",
    "\n",
    "        color(supp)\n",
    "\n",
    "        position = posD\n",
    "     }\n",
    "}"
   ]
  },
  {
   "cell_type": "code",
   "execution_count": 6,
   "metadata": {
    "ExecuteTime": {
     "end_time": "2023-07-21T11:22:41.240310Z",
     "start_time": "2023-07-21T11:22:40.993556Z"
    }
   },
   "outputs": [
    {
     "name": "stderr",
     "output_type": "stream",
     "text": [
      "Line_13.jupyter.kts (33:3 - 4) Unresolved reference: s"
     ]
    }
   ],
   "source": [
    "plot(data) {\n",
    "    x(dose)\n",
    "    groupBy(supp) {\n",
    "        errorBar {\n",
    "            yMin(lenMin)\n",
    "            yMax(lenMax)\n",
    "\n",
    "            borderLine.color = Color.BLACK\n",
    "\n",
    "            width = .1\n",
    "\n",
    "            position = posD\n",
    "        }\n",
    "    }\n",
    "    \n",
    "\n",
    "    line {\n",
    "        y(length)\n",
    "\n",
    "        color(supp)\n",
    "\n",
    "        position = posD\n",
    "    }\n",
    "\n",
    "    points {\n",
    "        y(length)\n",
    "\n",
    "        color(supp)\n",
    "        size = 5.0\n",
    "\n",
    "        position = posD\n",
    "     }\n",
    "}.s"
   ]
  },
  {
   "cell_type": "code",
   "execution_count": 7,
   "metadata": {},
   "outputs": [],
   "source": [
    "val customColorScale = Scale.categorical<String, Color>(\n",
    "    range = listOf(Color.ORANGE, Color.named(\"dark_green\"))\n",
    ")"
   ]
  },
  {
   "cell_type": "code",
   "execution_count": 8,
   "metadata": {},
   "outputs": [
    {
     "data": {
      "text/html": "            <script type=\"text/javascript\" data-lets-plot-script=\"library\" src=\"https://cdn.jsdelivr.net/gh/JetBrains/lets-plot@v3.1.0/js-package/distr/lets-plot.min.js\"></script>    \n               <div id=\"nAKavs\"></div>\n   <script type=\"text/javascript\" data-lets-plot-script=\"plot\">\n       var plotSpec={\n\"ggtitle\":{\n\"text\":\"The Effect of Vitamin C on Tooth Growth in Guinea Pigs\"\n},\n\"mapping\":{\n},\n\"data\":{\n\"dose\":[0.5,1.0,2.0,0.5,1.0,2.0],\n\"supp\":[\"OJ\",\"OJ\",\"OJ\",\"VC\",\"VC\",\"VC\"],\n\"length\":[13.23,22.7,26.06,7.98,16.77,26.14]\n},\n\"ggsize\":{\n\"width\":700.0,\n\"height\":400.0\n},\n\"kind\":\"plot\",\n\"scales\":[{\n\"aesthetic\":\"x\",\n\"limits\":[null,null]\n},{\n\"aesthetic\":\"x\",\n\"limits\":[null,null]\n},{\n\"aesthetic\":\"y\",\n\"limits\":[null,null]\n},{\n\"aesthetic\":\"color\",\n\"values\":[\"#fc8452\",\"dark_green\"]\n},{\n\"aesthetic\":\"x\",\n\"limits\":[null,null]\n},{\n\"aesthetic\":\"y\",\n\"limits\":[null,null]\n},{\n\"aesthetic\":\"color\",\n\"values\":[\"#fc8452\",\"dark_green\"]\n},{\n\"aesthetic\":\"x\",\n\"name\":\"Dose (mg)\"\n},{\n\"aesthetic\":\"y\",\n\"name\":\"Tooth length (mm)\"\n}],\n\"layers\":[{\n\"mapping\":{\n\"x\":\"dose\",\n\"ymin\":\"len_min\",\n\"ymax\":\"len_max\",\n\"group\":\"&merged_groups\"\n},\n\"stat\":\"identity\",\n\"data\":{\n\"dose\":[0.5,1.0,2.0,0.5,1.0,2.0],\n\"&merged_groups\":[\"OJ\",\"OJ\",\"OJ\",\"VC\",\"VC\",\"VC\"],\n\"len_min\":[11.83,21.2,24.5,4.24,15.26,23.35],\n\"len_max\":[15.63,24.9,27.11,10.72,19.28,28.93]\n},\n\"color\":\"#000000\",\n\"sampling\":\"none\",\n\"width\":0.1,\n\"position\":{\n\"name\":\"dodge\",\n\"width\":0.1\n},\n\"geom\":\"errorbar\"\n},{\n\"mapping\":{\n\"x\":\"dose\",\n\"y\":\"length\",\n\"color\":\"supp\"\n},\n\"stat\":\"identity\",\n\"sampling\":\"none\",\n\"position\":{\n\"name\":\"dodge\",\n\"width\":0.1\n},\n\"geom\":\"line\",\n\"data\":{\n}\n},{\n\"mapping\":{\n\"x\":\"dose\",\n\"y\":\"length\",\n\"color\":\"supp\"\n},\n\"stat\":\"identity\",\n\"shape\":21.0,\n\"size\":5.0,\n\"sampling\":\"none\",\n\"position\":{\n\"name\":\"dodge\",\n\"width\":0.1\n},\n\"geom\":\"point\",\n\"fill\":\"#ffffff\",\n\"data\":{\n}\n}],\n\"theme\":{\n\"axis_ontop\":false,\n\"axis_ontop_y\":false,\n\"axis_ontop_x\":false,\n\"legend_justification\":[1.0,0.0],\n\"legend_position\":[1.0,0.0]\n}\n};\n       var plotContainer = document.getElementById(\"nAKavs\");\n       LetsPlot.buildPlotFromProcessedSpecs(plotSpec, -1, -1, plotContainer);\n   </script>            \n        <svg id=7942b484-5ed4-4e43-b60a-f3b9d7c2c739 xmlns=\"http://www.w3.org/2000/svg\" xmlns:xlink=\"http://www.w3.org/1999/xlink\" class=\"plt-container\" width=\"700.0\" height=\"400.0\">\n  <style type=\"text/css\">\n  .plt-container {\n   font-family: Lucida Grande, sans-serif;\n   user-select: none;\n   -webkit-user-select: none;\n   -moz-user-select: none;\n   -ms-user-select: none;\n}\ntext {\n   text-rendering: optimizeLegibility;\n}\n#p9Vy83A .plot-title {\n   fill: #474747;\n   font-family: Lucida Grande, sans-serif;\n   font-size: 16.0px;\n   font-weight: normal;\n   font-style: normal;   \n}\n#p9Vy83A .plot-subtitle {\n   fill: #474747;\n   font-family: Lucida Grande, sans-serif;\n   font-size: 15.0px;\n   font-weight: normal;\n   font-style: normal;   \n}\n#p9Vy83A .plot-caption {\n   fill: #474747;\n   font-family: Lucida Grande, sans-serif;\n   font-size: 13.0px;\n   font-weight: normal;\n   font-style: normal;   \n}\n#p9Vy83A .legend-title {\n   fill: #474747;\n   font-family: Lucida Grande, sans-serif;\n   font-size: 15.0px;\n   font-weight: normal;\n   font-style: normal;   \n}\n#p9Vy83A .legend-item {\n   fill: #474747;\n   font-family: Lucida Grande, sans-serif;\n   font-size: 13.0px;\n   font-weight: normal;\n   font-style: normal;   \n}\n#p9Vy83A .axis-title-x {\n   fill: #474747;\n   font-family: Lucida Grande, sans-serif;\n   font-size: 15.0px;\n   font-weight: normal;\n   font-style: normal;   \n}\n#p9Vy83A .axis-text-x {\n   fill: #474747;\n   font-family: Lucida Grande, sans-serif;\n   font-size: 13.0px;\n   font-weight: normal;\n   font-style: normal;   \n}\n#dusdqVs .axis-tooltip-text-x {\n   fill: #ffffff;\n   font-family: Lucida Grande, sans-serif;\n   font-size: 13.0px;\n   font-weight: normal;\n   font-style: normal;   \n}\n#p9Vy83A .axis-title-y {\n   fill: #474747;\n   font-family: Lucida Grande, sans-serif;\n   font-size: 15.0px;\n   font-weight: normal;\n   font-style: normal;   \n}\n#p9Vy83A .axis-text-y {\n   fill: #474747;\n   font-family: Lucida Grande, sans-serif;\n   font-size: 13.0px;\n   font-weight: normal;\n   font-style: normal;   \n}\n#dusdqVs .axis-tooltip-text-y {\n   fill: #ffffff;\n   font-family: Lucida Grande, sans-serif;\n   font-size: 13.0px;\n   font-weight: normal;\n   font-style: normal;   \n}\n#p9Vy83A .facet-strip-text-x {\n   fill: #474747;\n   font-family: Lucida Grande, sans-serif;\n   font-size: 13.0px;\n   font-weight: normal;\n   font-style: normal;   \n}\n#p9Vy83A .facet-strip-text-y {\n   fill: #474747;\n   font-family: Lucida Grande, sans-serif;\n   font-size: 13.0px;\n   font-weight: normal;\n   font-style: normal;   \n}\n#dusdqVs .tooltip-text {\n   fill: #474747;\n   font-family: Lucida Grande, sans-serif;\n   font-size: 13.0px;\n   font-weight: normal;\n   font-style: normal;   \n}\n#dusdqVs .tooltip-title {\n   fill: #474747;\n   font-family: Lucida Grande, sans-serif;\n   font-size: 13.0px;\n   font-weight: bold;\n   font-style: normal;   \n}\n#dusdqVs .tooltip-label {\n   fill: #474747;\n   font-family: Lucida Grande, sans-serif;\n   font-size: 13.0px;\n   font-weight: bold;\n   font-style: normal;   \n}\n\n  </style>\n  <g id=\"p9Vy83A\">\n    <rect x=\"0.0\" y=\"0.0\" height=\"400.0\" width=\"700.0\" stroke=\"rgb(71,71,71)\" stroke-opacity=\"1.0\" stroke-width=\"0.0\" fill=\"rgb(255,255,255)\" fill-opacity=\"1.0\">\n    </rect>\n    <g transform=\"translate(23.0 34.0 ) \">\n      <g transform=\"translate(21.961210910936405 320.0 ) \">\n        <line x1=\"76.6101787627774\" y1=\"-0.0\" x2=\"76.6101787627774\" y2=\"-320.0\" stroke=\"rgb(233,233,233)\" stroke-opacity=\"1.0\" stroke-width=\"1.0\">\n        </line>\n        <line x1=\"152.27455284947104\" y1=\"-0.0\" x2=\"152.27455284947104\" y2=\"-320.0\" stroke=\"rgb(233,233,233)\" stroke-opacity=\"1.0\" stroke-width=\"1.0\">\n        </line>\n        <line x1=\"227.9389269361647\" y1=\"-0.0\" x2=\"227.9389269361647\" y2=\"-320.0\" stroke=\"rgb(233,233,233)\" stroke-opacity=\"1.0\" stroke-width=\"1.0\">\n        </line>\n        <line x1=\"303.6033010228584\" y1=\"-0.0\" x2=\"303.6033010228584\" y2=\"-320.0\" stroke=\"rgb(233,233,233)\" stroke-opacity=\"1.0\" stroke-width=\"1.0\">\n        </line>\n        <line x1=\"379.26767510955204\" y1=\"-0.0\" x2=\"379.26767510955204\" y2=\"-320.0\" stroke=\"rgb(233,233,233)\" stroke-opacity=\"1.0\" stroke-width=\"1.0\">\n        </line>\n        <line x1=\"454.9320491962457\" y1=\"-0.0\" x2=\"454.9320491962457\" y2=\"-320.0\" stroke=\"rgb(233,233,233)\" stroke-opacity=\"1.0\" stroke-width=\"1.0\">\n        </line>\n        <line x1=\"530.5964232829392\" y1=\"-0.0\" x2=\"530.5964232829392\" y2=\"-320.0\" stroke=\"rgb(233,233,233)\" stroke-opacity=\"1.0\" stroke-width=\"1.0\">\n        </line>\n        <line x1=\"606.2607973696329\" y1=\"-0.0\" x2=\"606.2607973696329\" y2=\"-320.0\" stroke=\"rgb(233,233,233)\" stroke-opacity=\"1.0\" stroke-width=\"1.0\">\n        </line>\n        <g transform=\"translate(0.9458046760836964 0.0 ) \">\n          <line stroke-width=\"1.0\" stroke=\"rgb(71,71,71)\" stroke-opacity=\"1.0\" x2=\"0.0\" y2=\"4.0\">\n          </line>\n          <g transform=\"translate(0.0 7.0 ) \">\n            <text class=\"axis-text-x\" text-anchor=\"middle\" dy=\"0.7em\">\n            0.4\n            </text>\n          </g>\n        </g>\n        <g transform=\"translate(76.6101787627774 0.0 ) \">\n          <line stroke-width=\"1.0\" stroke=\"rgb(71,71,71)\" stroke-opacity=\"1.0\" x2=\"0.0\" y2=\"4.0\">\n          </line>\n          <g transform=\"translate(0.0 7.0 ) \">\n            <text class=\"axis-text-x\" text-anchor=\"middle\" dy=\"0.7em\">\n            0.6\n            </text>\n          </g>\n        </g>\n        <g transform=\"translate(152.27455284947104 0.0 ) \">\n          <line stroke-width=\"1.0\" stroke=\"rgb(71,71,71)\" stroke-opacity=\"1.0\" x2=\"0.0\" y2=\"4.0\">\n          </line>\n          <g transform=\"translate(0.0 7.0 ) \">\n            <text class=\"axis-text-x\" text-anchor=\"middle\" dy=\"0.7em\">\n            0.8\n            </text>\n          </g>\n        </g>\n        <g transform=\"translate(227.9389269361647 0.0 ) \">\n          <line stroke-width=\"1.0\" stroke=\"rgb(71,71,71)\" stroke-opacity=\"1.0\" x2=\"0.0\" y2=\"4.0\">\n          </line>\n          <g transform=\"translate(0.0 7.0 ) \">\n            <text class=\"axis-text-x\" text-anchor=\"middle\" dy=\"0.7em\">\n            1.0\n            </text>\n          </g>\n        </g>\n        <g transform=\"translate(303.6033010228584 0.0 ) \">\n          <line stroke-width=\"1.0\" stroke=\"rgb(71,71,71)\" stroke-opacity=\"1.0\" x2=\"0.0\" y2=\"4.0\">\n          </line>\n          <g transform=\"translate(0.0 7.0 ) \">\n            <text class=\"axis-text-x\" text-anchor=\"middle\" dy=\"0.7em\">\n            1.2\n            </text>\n          </g>\n        </g>\n        <g transform=\"translate(379.26767510955204 0.0 ) \">\n          <line stroke-width=\"1.0\" stroke=\"rgb(71,71,71)\" stroke-opacity=\"1.0\" x2=\"0.0\" y2=\"4.0\">\n          </line>\n          <g transform=\"translate(0.0 7.0 ) \">\n            <text class=\"axis-text-x\" text-anchor=\"middle\" dy=\"0.7em\">\n            1.4\n            </text>\n          </g>\n        </g>\n        <g transform=\"translate(454.9320491962457 0.0 ) \">\n          <line stroke-width=\"1.0\" stroke=\"rgb(71,71,71)\" stroke-opacity=\"1.0\" x2=\"0.0\" y2=\"4.0\">\n          </line>\n          <g transform=\"translate(0.0 7.0 ) \">\n            <text class=\"axis-text-x\" text-anchor=\"middle\" dy=\"0.7em\">\n            1.6\n            </text>\n          </g>\n        </g>\n        <g transform=\"translate(530.5964232829392 0.0 ) \">\n          <line stroke-width=\"1.0\" stroke=\"rgb(71,71,71)\" stroke-opacity=\"1.0\" x2=\"0.0\" y2=\"4.0\">\n          </line>\n          <g transform=\"translate(0.0 7.0 ) \">\n            <text class=\"axis-text-x\" text-anchor=\"middle\" dy=\"0.7em\">\n            1.8\n            </text>\n          </g>\n        </g>\n        <g transform=\"translate(606.2607973696329 0.0 ) \">\n          <line stroke-width=\"1.0\" stroke=\"rgb(71,71,71)\" stroke-opacity=\"1.0\" x2=\"0.0\" y2=\"4.0\">\n          </line>\n          <g transform=\"translate(0.0 7.0 ) \">\n            <text class=\"axis-text-x\" text-anchor=\"middle\" dy=\"0.7em\">\n            2.0\n            </text>\n          </g>\n        </g>\n        <line x1=\"0.0\" y1=\"0.0\" x2=\"645.0387890890636\" y2=\"0.0\" stroke-width=\"1.0\" stroke=\"rgb(71,71,71)\" stroke-opacity=\"1.0\">\n        </line>\n      </g>\n      <g transform=\"translate(21.961210910936405 0.0 ) \">\n        <line x1=\"0.0\" y1=\"296.4998711292758\" x2=\"645.0387890890636\" y2=\"296.4998711292758\" stroke=\"rgb(233,233,233)\" stroke-opacity=\"1.0\" stroke-width=\"1.0\">\n        </line>\n        <line x1=\"0.0\" y1=\"237.58754004197505\" x2=\"645.0387890890636\" y2=\"237.58754004197505\" stroke=\"rgb(233,233,233)\" stroke-opacity=\"1.0\" stroke-width=\"1.0\">\n        </line>\n        <line x1=\"0.0\" y1=\"178.67520895467436\" x2=\"645.0387890890636\" y2=\"178.67520895467436\" stroke=\"rgb(233,233,233)\" stroke-opacity=\"1.0\" stroke-width=\"1.0\">\n        </line>\n        <line x1=\"0.0\" y1=\"119.76287786737365\" x2=\"645.0387890890636\" y2=\"119.76287786737365\" stroke=\"rgb(233,233,233)\" stroke-opacity=\"1.0\" stroke-width=\"1.0\">\n        </line>\n        <line x1=\"0.0\" y1=\"60.85054678007293\" x2=\"645.0387890890636\" y2=\"60.85054678007293\" stroke=\"rgb(233,233,233)\" stroke-opacity=\"1.0\" stroke-width=\"1.0\">\n        </line>\n        <g transform=\"translate(0.0 296.4998711292758 ) \">\n          <g transform=\"translate(-3.0 0.0 ) \">\n            <text class=\"axis-text-y\" text-anchor=\"end\" dy=\"0.35em\">\n            5\n            </text>\n          </g>\n        </g>\n        <g transform=\"translate(0.0 237.58754004197505 ) \">\n          <g transform=\"translate(-3.0 0.0 ) \">\n            <text class=\"axis-text-y\" text-anchor=\"end\" dy=\"0.35em\">\n            10\n            </text>\n          </g>\n        </g>\n        <g transform=\"translate(0.0 178.67520895467436 ) \">\n          <g transform=\"translate(-3.0 0.0 ) \">\n            <text class=\"axis-text-y\" text-anchor=\"end\" dy=\"0.35em\">\n            15\n            </text>\n          </g>\n        </g>\n        <g transform=\"translate(0.0 119.76287786737365 ) \">\n          <g transform=\"translate(-3.0 0.0 ) \">\n            <text class=\"axis-text-y\" text-anchor=\"end\" dy=\"0.35em\">\n            20\n            </text>\n          </g>\n        </g>\n        <g transform=\"translate(0.0 60.85054678007293 ) \">\n          <g transform=\"translate(-3.0 0.0 ) \">\n            <text class=\"axis-text-y\" text-anchor=\"end\" dy=\"0.35em\">\n            25\n            </text>\n          </g>\n        </g>\n        <g transform=\"translate(0.0 1.9382156927722463 ) \">\n          <g transform=\"translate(-3.0 0.0 ) \">\n            <text class=\"axis-text-y\" text-anchor=\"end\" dy=\"0.35em\">\n            30\n            </text>\n          </g>\n        </g>\n      </g>\n      <g transform=\"translate(21.961210910936405 0.0 ) \" clip-path=\"url(#cvaGi4s)\" clip-bounds-jfx=\"[rect (0.0, 0.0), (645.0387890890636, 320.0)]\">\n        <defs>\n          <clipPath id=\"cvaGi4s\">\n            <rect x=\"0.0\" y=\"0.0\" width=\"645.0387890890636\" height=\"320.0\">\n            </rect>\n          </clipPath>\n        </defs>\n        <g>\n          <line x1=\"29.319944958593823\" y1=\"216.025626864023\" x2=\"38.77799171943053\" y2=\"216.025626864023\" stroke=\"rgb(0,0,0)\" stroke-opacity=\"1.0\" fill=\"rgb(17,142,216)\" fill-opacity=\"1.0\" stroke-width=\"1.0\">\n          </line>\n          <line x1=\"29.319944958593823\" y1=\"171.25225523767446\" x2=\"38.77799171943053\" y2=\"171.25225523767446\" stroke=\"rgb(0,0,0)\" stroke-opacity=\"1.0\" fill=\"rgb(17,142,216)\" fill-opacity=\"1.0\" stroke-width=\"1.0\">\n          </line>\n          <line x1=\"34.04896833901216\" y1=\"216.025626864023\" x2=\"34.04896833901216\" y2=\"171.25225523767446\" stroke=\"rgb(0,0,0)\" stroke-opacity=\"1.0\" fill=\"rgb(17,142,216)\" fill-opacity=\"1.0\" stroke-width=\"1.0\">\n          </line>\n        </g>\n        <g>\n          <line x1=\"218.48088017532797\" y1=\"105.62391840642147\" x2=\"227.9389269361647\" y2=\"105.62391840642147\" stroke=\"rgb(0,0,0)\" stroke-opacity=\"1.0\" fill=\"rgb(17,142,216)\" fill-opacity=\"1.0\" stroke-width=\"1.0\">\n          </line>\n          <line x1=\"218.48088017532797\" y1=\"62.02879340181897\" x2=\"227.9389269361647\" y2=\"62.02879340181897\" stroke=\"rgb(0,0,0)\" stroke-opacity=\"1.0\" fill=\"rgb(17,142,216)\" fill-opacity=\"1.0\" stroke-width=\"1.0\">\n          </line>\n          <line x1=\"223.2099035557464\" y1=\"105.62391840642147\" x2=\"223.2099035557464\" y2=\"62.02879340181897\" stroke=\"rgb(0,0,0)\" stroke-opacity=\"1.0\" fill=\"rgb(17,142,216)\" fill-opacity=\"1.0\" stroke-width=\"1.0\">\n          </line>\n        </g>\n        <g>\n          <line x1=\"596.8027506087965\" y1=\"66.74177988880302\" x2=\"606.2607973696331\" y2=\"66.74177988880302\" stroke=\"rgb(0,0,0)\" stroke-opacity=\"1.0\" fill=\"rgb(17,142,216)\" fill-opacity=\"1.0\" stroke-width=\"1.0\">\n          </line>\n          <line x1=\"596.8027506087965\" y1=\"35.98954306123204\" x2=\"606.2607973696331\" y2=\"35.98954306123204\" stroke=\"rgb(0,0,0)\" stroke-opacity=\"1.0\" fill=\"rgb(17,142,216)\" fill-opacity=\"1.0\" stroke-width=\"1.0\">\n          </line>\n          <line x1=\"601.5317739892148\" y1=\"66.74177988880302\" x2=\"601.5317739892148\" y2=\"35.98954306123204\" stroke=\"rgb(0,0,0)\" stroke-opacity=\"1.0\" fill=\"rgb(17,142,216)\" fill-opacity=\"1.0\" stroke-width=\"1.0\">\n          </line>\n        </g>\n        <g>\n          <line x1=\"38.77799171943053\" y1=\"305.4545454545455\" x2=\"48.23603848026724\" y2=\"305.4545454545455\" stroke=\"rgb(0,0,0)\" stroke-opacity=\"1.0\" fill=\"rgb(17,142,216)\" fill-opacity=\"1.0\" stroke-width=\"1.0\">\n          </line>\n          <line x1=\"38.77799171943053\" y1=\"229.10416436540373\" x2=\"48.23603848026724\" y2=\"229.10416436540373\" stroke=\"rgb(0,0,0)\" stroke-opacity=\"1.0\" fill=\"rgb(17,142,216)\" fill-opacity=\"1.0\" stroke-width=\"1.0\">\n          </line>\n          <line x1=\"43.50701509984887\" y1=\"305.4545454545455\" x2=\"43.50701509984887\" y2=\"229.10416436540373\" stroke=\"rgb(0,0,0)\" stroke-opacity=\"1.0\" fill=\"rgb(17,142,216)\" fill-opacity=\"1.0\" stroke-width=\"1.0\">\n          </line>\n        </g>\n        <g>\n          <line x1=\"227.9389269361647\" y1=\"175.61176773813472\" x2=\"237.39697369700139\" y2=\"175.61176773813472\" stroke=\"rgb(0,0,0)\" stroke-opacity=\"1.0\" fill=\"rgb(17,142,216)\" fill-opacity=\"1.0\" stroke-width=\"1.0\">\n          </line>\n          <line x1=\"227.9389269361647\" y1=\"128.24625354394493\" x2=\"237.39697369700139\" y2=\"128.24625354394493\" stroke=\"rgb(0,0,0)\" stroke-opacity=\"1.0\" fill=\"rgb(17,142,216)\" fill-opacity=\"1.0\" stroke-width=\"1.0\">\n          </line>\n          <line x1=\"232.66795031658302\" y1=\"175.61176773813472\" x2=\"232.66795031658302\" y2=\"128.24625354394493\" stroke=\"rgb(0,0,0)\" stroke-opacity=\"1.0\" fill=\"rgb(17,142,216)\" fill-opacity=\"1.0\" stroke-width=\"1.0\">\n          </line>\n        </g>\n        <g>\n          <line x1=\"606.2607973696331\" y1=\"80.29161603888213\" x2=\"615.7188441304697\" y2=\"80.29161603888213\" stroke=\"rgb(0,0,0)\" stroke-opacity=\"1.0\" fill=\"rgb(17,142,216)\" fill-opacity=\"1.0\" stroke-width=\"1.0\">\n          </line>\n          <line x1=\"606.2607973696331\" y1=\"14.545454545454561\" x2=\"615.7188441304697\" y2=\"14.545454545454561\" stroke=\"rgb(0,0,0)\" stroke-opacity=\"1.0\" fill=\"rgb(17,142,216)\" fill-opacity=\"1.0\" stroke-width=\"1.0\">\n          </line>\n          <line x1=\"610.9898207500514\" y1=\"80.29161603888213\" x2=\"610.9898207500514\" y2=\"14.545454545454561\" stroke=\"rgb(0,0,0)\" stroke-opacity=\"1.0\" fill=\"rgb(17,142,216)\" fill-opacity=\"1.0\" stroke-width=\"1.0\">\n          </line>\n        </g>\n      </g>\n      <g transform=\"translate(21.961210910936405 0.0 ) \" clip-path=\"url(#c3es6Wu)\" clip-bounds-jfx=\"[rect (0.0, 0.0), (645.0387890890636, 320.0)]\">\n        <defs>\n          <clipPath id=\"c3es6Wu\">\n            <rect x=\"0.0\" y=\"0.0\" width=\"645.0387890890636\" height=\"320.0\">\n            </rect>\n          </clipPath>\n        </defs>\n        <g>\n          <path d=\"M34.04896833901216 199.5301741595788 L34.04896833901216 199.5301741595788 L223.2099035557464 87.95021908023125 L601.5317739892148 48.361132589565216 \" fill=\"none\" stroke-width=\"1.0\" stroke=\"rgb(252,132,82)\" stroke-opacity=\"1.0\">\n          </path>\n        </g>\n        <g>\n          <path d=\"M43.50701509984887 261.38812180124455 L43.50701509984887 261.38812180124455 L232.66795031658302 157.8202437497699 L610.9898207500514 47.41853529216837 \" fill=\"none\" stroke-width=\"1.0\" stroke=\"rgb(0,128,0)\" stroke-opacity=\"1.0\">\n          </path>\n        </g>\n      </g>\n      <g transform=\"translate(21.961210910936405 0.0 ) \" clip-path=\"url(#cXe7jyU)\" clip-bounds-jfx=\"[rect (0.0, 0.0), (645.0387890890636, 320.0)]\">\n        <defs>\n          <clipPath id=\"cXe7jyU\">\n            <rect x=\"0.0\" y=\"0.0\" width=\"645.0387890890636\" height=\"320.0\">\n            </rect>\n          </clipPath>\n        </defs>\n        <g>\n          \n          <g >\n            <circle fill=\"#ffffff\" stroke=\"#fc8452\" stroke-width=\"0.55\" cx=\"34.04896833901216\" cy=\"199.5301741595788\" r=\"5.775\" />\n            <circle fill=\"#ffffff\" stroke=\"#fc8452\" stroke-width=\"0.55\" cx=\"223.2099035557464\" cy=\"87.95021908023125\" r=\"5.775\" />\n            <circle fill=\"#ffffff\" stroke=\"#fc8452\" stroke-width=\"0.55\" cx=\"601.5317739892148\" cy=\"48.361132589565216\" r=\"5.775\" />\n            <circle fill=\"#ffffff\" stroke=\"#008000\" stroke-width=\"0.55\" cx=\"43.50701509984887\" cy=\"261.38812180124455\" r=\"5.775\" />\n            <circle fill=\"#ffffff\" stroke=\"#008000\" stroke-width=\"0.55\" cx=\"232.66795031658302\" cy=\"157.8202437497699\" r=\"5.775\" />\n            <circle fill=\"#ffffff\" stroke=\"#008000\" stroke-width=\"0.55\" cx=\"610.9898207500514\" cy=\"47.41853529216837\" r=\"5.775\" />\n          </g>\n        </g>\n      </g>\n    </g>\n    <g transform=\"translate(44.9612109109364 15.2 ) \">\n      <text class=\"plot-title\" y=\"0.0\">\n      The Effect of Vitamin C on Tooth Growth in Guinea Pigs\n      </text>\n    </g>\n    <g transform=\"translate(14.5 194.0 ) rotate(-90.0 ) \">\n      <text class=\"axis-title-y\" y=\"0.0\" text-anchor=\"middle\">\n      Tooth length (mm)\n      </text>\n    </g>\n    <g transform=\"translate(367.4806054554682 391.5 ) \">\n      <text class=\"axis-title-x\" y=\"0.0\" text-anchor=\"middle\">\n      Dose (mg)\n      </text>\n    </g>\n    <g transform=\"translate(623.3145735861904 265.5 ) \">\n      <rect x=\"5.0\" y=\"5.0\" height=\"78.5\" width=\"56.685426413809644\" stroke=\"rgb(71,71,71)\" stroke-opacity=\"1.0\" stroke-width=\"0.0\" fill=\"rgb(255,255,255)\" fill-opacity=\"1.0\">\n      </rect>\n      <g transform=\"translate(10.0 10.0 ) \">\n        <g transform=\"translate(0.0 10.5 ) \">\n          <text class=\"legend-title\" y=\"0.0\">\n          supp\n          </text>\n        </g>\n        <g transform=\"translate(0.0 22.5 ) \">\n          <g transform=\"\">\n            <g>\n              <rect x=\"0.0\" y=\"0.0\" height=\"23.0\" width=\"23.0\" stroke-width=\"0.0\" fill=\"rgb(255,255,255)\" fill-opacity=\"1.0\">\n              </rect>\n              <g transform=\"translate(1.0 1.0 ) \">\n                <g>\n                  <line x1=\"0.0\" y1=\"10.5\" x2=\"21.0\" y2=\"10.5\" stroke=\"rgb(252,132,82)\" stroke-opacity=\"1.0\" fill=\"rgb(17,142,216)\" fill-opacity=\"1.0\" stroke-width=\"1.0\">\n                  </line>\n                </g>\n                <g>\n                  \n                  <g >\n                    <circle fill=\"#ffffff\" stroke=\"#fc8452\" stroke-width=\"0.55\" cx=\"10.5\" cy=\"10.5\" r=\"5.775\" />\n                  </g>\n                </g>\n              </g>\n              <rect x=\"0.0\" y=\"0.0\" height=\"23.0\" width=\"23.0\" stroke=\"rgb(255,255,255)\" stroke-opacity=\"1.0\" stroke-width=\"1.0\" fill-opacity=\"0.0\">\n              </rect>\n            </g>\n            <g transform=\"translate(26.9903027277341 16.05 ) \">\n              <text class=\"legend-item\" y=\"0.0\">\n              OJ\n              </text>\n            </g>\n          </g>\n          <g transform=\"translate(0.0 23.0 ) \">\n            <g>\n              <rect x=\"0.0\" y=\"0.0\" height=\"23.0\" width=\"23.0\" stroke-width=\"0.0\" fill=\"rgb(255,255,255)\" fill-opacity=\"1.0\">\n              </rect>\n              <g transform=\"translate(1.0 1.0 ) \">\n                <g>\n                  <line x1=\"0.0\" y1=\"10.5\" x2=\"21.0\" y2=\"10.5\" stroke=\"rgb(0,128,0)\" stroke-opacity=\"1.0\" fill=\"rgb(17,142,216)\" fill-opacity=\"1.0\" stroke-width=\"1.0\">\n                  </line>\n                </g>\n                <g>\n                  \n                  <g >\n                    <circle fill=\"#ffffff\" stroke=\"#008000\" stroke-width=\"0.55\" cx=\"10.5\" cy=\"10.5\" r=\"5.775\" />\n                  </g>\n                </g>\n              </g>\n              <rect x=\"0.0\" y=\"0.0\" height=\"23.0\" width=\"23.0\" stroke=\"rgb(255,255,255)\" stroke-opacity=\"1.0\" stroke-width=\"1.0\" fill-opacity=\"0.0\">\n              </rect>\n            </g>\n            <g transform=\"translate(26.9903027277341 16.05 ) \">\n              <text class=\"legend-item\" y=\"0.0\">\n              VC\n              </text>\n            </g>\n          </g>\n        </g>\n      </g>\n    </g>\n  </g>\n  <g id=\"dusdqVs\">\n  </g>\n</svg>\n        <script>document.getElementById(\"7942b484-5ed4-4e43-b60a-f3b9d7c2c739\").style.display = \"none\";</script>",
      "application/plot+json": {
       "output_type": "lets_plot_spec",
       "output": {
        "ggtitle": {
         "text": "The Effect of Vitamin C on Tooth Growth in Guinea Pigs"
        },
        "mapping": {},
        "data": {
         "dose": [
          0.5,
          1.0,
          2.0,
          0.5,
          1.0,
          2.0
         ],
         "supp": [
          "OJ",
          "OJ",
          "OJ",
          "VC",
          "VC",
          "VC"
         ],
         "length": [
          13.23,
          22.7,
          26.06,
          7.98,
          16.77,
          26.14
         ]
        },
        "ggsize": {
         "width": 700.0,
         "height": 400.0
        },
        "kind": "plot",
        "scales": [
         {
          "aesthetic": "x",
          "limits": [
           null,
           null
          ]
         },
         {
          "aesthetic": "x",
          "limits": [
           null,
           null
          ]
         },
         {
          "aesthetic": "y",
          "limits": [
           null,
           null
          ]
         },
         {
          "aesthetic": "color",
          "values": [
           "#fc8452",
           "dark_green"
          ]
         },
         {
          "aesthetic": "x",
          "limits": [
           null,
           null
          ]
         },
         {
          "aesthetic": "y",
          "limits": [
           null,
           null
          ]
         },
         {
          "aesthetic": "color",
          "values": [
           "#fc8452",
           "dark_green"
          ]
         },
         {
          "aesthetic": "x",
          "name": "Dose (mg)"
         },
         {
          "aesthetic": "y",
          "name": "Tooth length (mm)"
         }
        ],
        "layers": [
         {
          "mapping": {
           "x": "dose",
           "ymin": "len_min",
           "ymax": "len_max",
           "group": "&merged_groups"
          },
          "stat": "identity",
          "data": {
           "dose": [
            0.5,
            1.0,
            2.0,
            0.5,
            1.0,
            2.0
           ],
           "&merged_groups": [
            "OJ",
            "OJ",
            "OJ",
            "VC",
            "VC",
            "VC"
           ],
           "supp": [
            "OJ",
            "OJ",
            "OJ",
            "VC",
            "VC",
            "VC"
           ],
           "len_min": [
            11.83,
            21.2,
            24.5,
            4.24,
            15.26,
            23.35
           ],
           "len_max": [
            15.63,
            24.9,
            27.11,
            10.72,
            19.28,
            28.93
           ]
          },
          "color": "#000000",
          "sampling": "none",
          "width": 0.1,
          "position": {
           "name": "dodge",
           "width": 0.1
          },
          "geom": "errorbar"
         },
         {
          "mapping": {
           "x": "dose",
           "y": "length",
           "color": "supp"
          },
          "stat": "identity",
          "sampling": "none",
          "position": {
           "name": "dodge",
           "width": 0.1
          },
          "geom": "line"
         },
         {
          "mapping": {
           "x": "dose",
           "y": "length",
           "color": "supp"
          },
          "stat": "identity",
          "shape": 21.0,
          "size": 5.0,
          "sampling": "none",
          "position": {
           "name": "dodge",
           "width": 0.1
          },
          "geom": "point",
          "fill": "#ffffff"
         }
        ],
        "theme": {
         "axis_ontop": false,
         "axis_ontop_y": false,
         "axis_ontop_x": false,
         "legend_justification": [
          1.0,
          0.0
         ],
         "legend_position": [
          1.0,
          0.0
         ]
        }
       },
       "apply_color_scheme": true,
       "swing_enabled": true
      }
     },
     "execution_count": 8,
     "metadata": {},
     "output_type": "execute_result"
    }
   ],
   "source": [
    "plot(data) {\n",
    "    x(dose)\n",
    "\n",
    "    groupBy(supp) {\n",
    "        errorBar {\n",
    "            yMin(lenMin)\n",
    "            yMax(lenMax)\n",
    "\n",
    "            borderLine.color = Color.BLACK\n",
    "\n",
    "            width = .1\n",
    "\n",
    "            position = posD\n",
    "        }\n",
    "    }\n",
    "\n",
    "    line {\n",
    "        y(length)\n",
    "\n",
    "        color(supp) { scale = customColorScale }\n",
    "        \n",
    "        position = posD\n",
    "    }\n",
    "\n",
    "    points {\n",
    "        y(length)\n",
    "\n",
    "        symbol = Symbol.CIRCLE_FILLED\n",
    "        size = 5.0\n",
    "        fillColor = Color.WHITE\n",
    "        color(supp) { scale = customColorScale }\n",
    "\n",
    "        position = posD\n",
    "     }\n",
    "\n",
    "     layout {\n",
    "         title = \"The Effect of Vitamin C on Tooth Growth in Guinea Pigs\" \n",
    "         size = 700 to 400\n",
    "         // TODO Ok?\n",
    "         xAxisLabel = \"Dose (mg)\"\n",
    "         yAxisLabel = \"Tooth length (mm)\"\n",
    "         \n",
    "         theme {\n",
    "             legend {\n",
    "                 justification(1.0, 0.0)\n",
    "                 position(1.0, 0.0)\n",
    "             }\n",
    "         }\n",
    "     }\n",
    "     \n",
    "}"
   ]
  },
  {
   "cell_type": "markdown",
   "metadata": {},
   "source": [
    "### Error-bars on bar plot."
   ]
  },
  {
   "cell_type": "code",
   "execution_count": 9,
   "metadata": {},
   "outputs": [
    {
     "data": {
      "text/html": "            <script type=\"text/javascript\" data-lets-plot-script=\"library\" src=\"https://cdn.jsdelivr.net/gh/JetBrains/lets-plot@v3.1.0/js-package/distr/lets-plot.min.js\"></script>    \n               <div id=\"fVOxCp\"></div>\n   <script type=\"text/javascript\" data-lets-plot-script=\"plot\">\n       var plotSpec={\n\"mapping\":{\n},\n\"data\":{\n\"dose\":[0.5,1.0,2.0,0.5,1.0,2.0],\n\"supp\":[\"OJ\",\"OJ\",\"OJ\",\"VC\",\"VC\",\"VC\"],\n\"length\":[13.23,22.7,26.06,7.98,16.77,26.14]\n},\n\"ggsize\":{\n\"width\":700.0,\n\"height\":400.0\n},\n\"kind\":\"plot\",\n\"scales\":[{\n\"aesthetic\":\"x\",\n\"limits\":[null,null]\n},{\n\"aesthetic\":\"y\",\n\"limits\":[null,null]\n},{\n\"aesthetic\":\"fill\",\n\"values\":[\"#fc8452\",\"dark_green\"]\n},{\n\"aesthetic\":\"x\",\n\"limits\":[null,null]\n},{\n\"aesthetic\":\"x\",\n\"name\":\"Dose (mg)\"\n},{\n\"aesthetic\":\"y\",\n\"name\":\"Tooth length (mm)\"\n}],\n\"layers\":[{\n\"mapping\":{\n\"x\":\"dose\",\n\"y\":\"length\",\n\"fill\":\"supp\"\n},\n\"stat\":\"identity\",\n\"color\":\"#000000\",\n\"sampling\":\"none\",\n\"position\":\"dodge\",\n\"geom\":\"bar\",\n\"data\":{\n}\n},{\n\"mapping\":{\n\"x\":\"dose\",\n\"ymin\":\"len_min\",\n\"ymax\":\"len_max\",\n\"group\":\"&merged_groups\"\n},\n\"stat\":\"identity\",\n\"data\":{\n\"dose\":[0.5,1.0,2.0,0.5,1.0,2.0],\n\"&merged_groups\":[\"OJ\",\"OJ\",\"OJ\",\"VC\",\"VC\",\"VC\"],\n\"len_min\":[11.83,21.2,24.5,4.24,15.26,23.35],\n\"len_max\":[15.63,24.9,27.11,10.72,19.28,28.93]\n},\n\"color\":\"#000000\",\n\"sampling\":\"none\",\n\"width\":0.1,\n\"position\":{\n\"name\":\"dodge\",\n\"width\":0.9\n},\n\"geom\":\"errorbar\"\n}],\n\"theme\":{\n\"axis_ontop\":false,\n\"axis_ontop_y\":false,\n\"axis_ontop_x\":false,\n\"legend_justification\":[0.0,1.0],\n\"legend_position\":[0.0,1.0]\n}\n};\n       var plotContainer = document.getElementById(\"fVOxCp\");\n       LetsPlot.buildPlotFromProcessedSpecs(plotSpec, -1, -1, plotContainer);\n   </script>            \n        <svg id=c75bee10-f4de-4621-9e23-31c3edd56aad xmlns=\"http://www.w3.org/2000/svg\" xmlns:xlink=\"http://www.w3.org/1999/xlink\" class=\"plt-container\" width=\"700.0\" height=\"400.0\">\n  <style type=\"text/css\">\n  .plt-container {\n   font-family: Lucida Grande, sans-serif;\n   user-select: none;\n   -webkit-user-select: none;\n   -moz-user-select: none;\n   -ms-user-select: none;\n}\ntext {\n   text-rendering: optimizeLegibility;\n}\n#pIVlBut .plot-title {\n   fill: #474747;\n   font-family: Lucida Grande, sans-serif;\n   font-size: 16.0px;\n   font-weight: normal;\n   font-style: normal;   \n}\n#pIVlBut .plot-subtitle {\n   fill: #474747;\n   font-family: Lucida Grande, sans-serif;\n   font-size: 15.0px;\n   font-weight: normal;\n   font-style: normal;   \n}\n#pIVlBut .plot-caption {\n   fill: #474747;\n   font-family: Lucida Grande, sans-serif;\n   font-size: 13.0px;\n   font-weight: normal;\n   font-style: normal;   \n}\n#pIVlBut .legend-title {\n   fill: #474747;\n   font-family: Lucida Grande, sans-serif;\n   font-size: 15.0px;\n   font-weight: normal;\n   font-style: normal;   \n}\n#pIVlBut .legend-item {\n   fill: #474747;\n   font-family: Lucida Grande, sans-serif;\n   font-size: 13.0px;\n   font-weight: normal;\n   font-style: normal;   \n}\n#pIVlBut .axis-title-x {\n   fill: #474747;\n   font-family: Lucida Grande, sans-serif;\n   font-size: 15.0px;\n   font-weight: normal;\n   font-style: normal;   \n}\n#pIVlBut .axis-text-x {\n   fill: #474747;\n   font-family: Lucida Grande, sans-serif;\n   font-size: 13.0px;\n   font-weight: normal;\n   font-style: normal;   \n}\n#d7o6HBs .axis-tooltip-text-x {\n   fill: #ffffff;\n   font-family: Lucida Grande, sans-serif;\n   font-size: 13.0px;\n   font-weight: normal;\n   font-style: normal;   \n}\n#pIVlBut .axis-title-y {\n   fill: #474747;\n   font-family: Lucida Grande, sans-serif;\n   font-size: 15.0px;\n   font-weight: normal;\n   font-style: normal;   \n}\n#pIVlBut .axis-text-y {\n   fill: #474747;\n   font-family: Lucida Grande, sans-serif;\n   font-size: 13.0px;\n   font-weight: normal;\n   font-style: normal;   \n}\n#d7o6HBs .axis-tooltip-text-y {\n   fill: #ffffff;\n   font-family: Lucida Grande, sans-serif;\n   font-size: 13.0px;\n   font-weight: normal;\n   font-style: normal;   \n}\n#pIVlBut .facet-strip-text-x {\n   fill: #474747;\n   font-family: Lucida Grande, sans-serif;\n   font-size: 13.0px;\n   font-weight: normal;\n   font-style: normal;   \n}\n#pIVlBut .facet-strip-text-y {\n   fill: #474747;\n   font-family: Lucida Grande, sans-serif;\n   font-size: 13.0px;\n   font-weight: normal;\n   font-style: normal;   \n}\n#d7o6HBs .tooltip-text {\n   fill: #474747;\n   font-family: Lucida Grande, sans-serif;\n   font-size: 13.0px;\n   font-weight: normal;\n   font-style: normal;   \n}\n#d7o6HBs .tooltip-title {\n   fill: #474747;\n   font-family: Lucida Grande, sans-serif;\n   font-size: 13.0px;\n   font-weight: bold;\n   font-style: normal;   \n}\n#d7o6HBs .tooltip-label {\n   fill: #474747;\n   font-family: Lucida Grande, sans-serif;\n   font-size: 13.0px;\n   font-weight: bold;\n   font-style: normal;   \n}\n\n  </style>\n  <g id=\"pIVlBut\">\n    <rect x=\"0.0\" y=\"0.0\" height=\"400.0\" width=\"700.0\" stroke=\"rgb(71,71,71)\" stroke-opacity=\"1.0\" stroke-width=\"0.0\" fill=\"rgb(255,255,255)\" fill-opacity=\"1.0\">\n    </rect>\n    <g transform=\"translate(23.0 10.0 ) \">\n      <g transform=\"translate(21.961210910936405 344.0 ) \">\n        <line x1=\"6.766141144290877\" y1=\"-0.0\" x2=\"6.766141144290877\" y2=\"-344.0\" stroke=\"rgb(233,233,233)\" stroke-opacity=\"1.0\" stroke-width=\"1.0\">\n        </line>\n        <line x1=\"66.909617982432\" y1=\"-0.0\" x2=\"66.909617982432\" y2=\"-344.0\" stroke=\"rgb(233,233,233)\" stroke-opacity=\"1.0\" stroke-width=\"1.0\">\n        </line>\n        <line x1=\"127.05309482057314\" y1=\"-0.0\" x2=\"127.05309482057314\" y2=\"-344.0\" stroke=\"rgb(233,233,233)\" stroke-opacity=\"1.0\" stroke-width=\"1.0\">\n        </line>\n        <line x1=\"187.19657165871422\" y1=\"-0.0\" x2=\"187.19657165871422\" y2=\"-344.0\" stroke=\"rgb(233,233,233)\" stroke-opacity=\"1.0\" stroke-width=\"1.0\">\n        </line>\n        <line x1=\"247.34004849685533\" y1=\"-0.0\" x2=\"247.34004849685533\" y2=\"-344.0\" stroke=\"rgb(233,233,233)\" stroke-opacity=\"1.0\" stroke-width=\"1.0\">\n        </line>\n        <line x1=\"307.48352533499644\" y1=\"-0.0\" x2=\"307.48352533499644\" y2=\"-344.0\" stroke=\"rgb(233,233,233)\" stroke-opacity=\"1.0\" stroke-width=\"1.0\">\n        </line>\n        <line x1=\"367.62700217313756\" y1=\"-0.0\" x2=\"367.62700217313756\" y2=\"-344.0\" stroke=\"rgb(233,233,233)\" stroke-opacity=\"1.0\" stroke-width=\"1.0\">\n        </line>\n        <line x1=\"427.7704790112786\" y1=\"-0.0\" x2=\"427.7704790112786\" y2=\"-344.0\" stroke=\"rgb(233,233,233)\" stroke-opacity=\"1.0\" stroke-width=\"1.0\">\n        </line>\n        <line x1=\"487.9139558494197\" y1=\"-0.0\" x2=\"487.9139558494197\" y2=\"-344.0\" stroke=\"rgb(233,233,233)\" stroke-opacity=\"1.0\" stroke-width=\"1.0\">\n        </line>\n        <line x1=\"548.0574326875608\" y1=\"-0.0\" x2=\"548.0574326875608\" y2=\"-344.0\" stroke=\"rgb(233,233,233)\" stroke-opacity=\"1.0\" stroke-width=\"1.0\">\n        </line>\n        <line x1=\"608.200909525702\" y1=\"-0.0\" x2=\"608.200909525702\" y2=\"-344.0\" stroke=\"rgb(233,233,233)\" stroke-opacity=\"1.0\" stroke-width=\"1.0\">\n        </line>\n        <g transform=\"translate(6.766141144290877 0.0 ) \">\n          <line stroke-width=\"1.0\" stroke=\"rgb(71,71,71)\" stroke-opacity=\"1.0\" x2=\"0.0\" y2=\"4.0\">\n          </line>\n          <g transform=\"translate(0.0 7.0 ) \">\n            <text class=\"axis-text-x\" text-anchor=\"middle\" dy=\"0.7em\">\n            0.2\n            </text>\n          </g>\n        </g>\n        <g transform=\"translate(66.909617982432 0.0 ) \">\n          <line stroke-width=\"1.0\" stroke=\"rgb(71,71,71)\" stroke-opacity=\"1.0\" x2=\"0.0\" y2=\"4.0\">\n          </line>\n          <g transform=\"translate(0.0 7.0 ) \">\n            <text class=\"axis-text-x\" text-anchor=\"middle\" dy=\"0.7em\">\n            0.4\n            </text>\n          </g>\n        </g>\n        <g transform=\"translate(127.05309482057314 0.0 ) \">\n          <line stroke-width=\"1.0\" stroke=\"rgb(71,71,71)\" stroke-opacity=\"1.0\" x2=\"0.0\" y2=\"4.0\">\n          </line>\n          <g transform=\"translate(0.0 7.0 ) \">\n            <text class=\"axis-text-x\" text-anchor=\"middle\" dy=\"0.7em\">\n            0.6\n            </text>\n          </g>\n        </g>\n        <g transform=\"translate(187.19657165871422 0.0 ) \">\n          <line stroke-width=\"1.0\" stroke=\"rgb(71,71,71)\" stroke-opacity=\"1.0\" x2=\"0.0\" y2=\"4.0\">\n          </line>\n          <g transform=\"translate(0.0 7.0 ) \">\n            <text class=\"axis-text-x\" text-anchor=\"middle\" dy=\"0.7em\">\n            0.8\n            </text>\n          </g>\n        </g>\n        <g transform=\"translate(247.34004849685533 0.0 ) \">\n          <line stroke-width=\"1.0\" stroke=\"rgb(71,71,71)\" stroke-opacity=\"1.0\" x2=\"0.0\" y2=\"4.0\">\n          </line>\n          <g transform=\"translate(0.0 7.0 ) \">\n            <text class=\"axis-text-x\" text-anchor=\"middle\" dy=\"0.7em\">\n            1.0\n            </text>\n          </g>\n        </g>\n        <g transform=\"translate(307.48352533499644 0.0 ) \">\n          <line stroke-width=\"1.0\" stroke=\"rgb(71,71,71)\" stroke-opacity=\"1.0\" x2=\"0.0\" y2=\"4.0\">\n          </line>\n          <g transform=\"translate(0.0 7.0 ) \">\n            <text class=\"axis-text-x\" text-anchor=\"middle\" dy=\"0.7em\">\n            1.2\n            </text>\n          </g>\n        </g>\n        <g transform=\"translate(367.62700217313756 0.0 ) \">\n          <line stroke-width=\"1.0\" stroke=\"rgb(71,71,71)\" stroke-opacity=\"1.0\" x2=\"0.0\" y2=\"4.0\">\n          </line>\n          <g transform=\"translate(0.0 7.0 ) \">\n            <text class=\"axis-text-x\" text-anchor=\"middle\" dy=\"0.7em\">\n            1.4\n            </text>\n          </g>\n        </g>\n        <g transform=\"translate(427.7704790112786 0.0 ) \">\n          <line stroke-width=\"1.0\" stroke=\"rgb(71,71,71)\" stroke-opacity=\"1.0\" x2=\"0.0\" y2=\"4.0\">\n          </line>\n          <g transform=\"translate(0.0 7.0 ) \">\n            <text class=\"axis-text-x\" text-anchor=\"middle\" dy=\"0.7em\">\n            1.6\n            </text>\n          </g>\n        </g>\n        <g transform=\"translate(487.9139558494197 0.0 ) \">\n          <line stroke-width=\"1.0\" stroke=\"rgb(71,71,71)\" stroke-opacity=\"1.0\" x2=\"0.0\" y2=\"4.0\">\n          </line>\n          <g transform=\"translate(0.0 7.0 ) \">\n            <text class=\"axis-text-x\" text-anchor=\"middle\" dy=\"0.7em\">\n            1.8\n            </text>\n          </g>\n        </g>\n        <g transform=\"translate(548.0574326875608 0.0 ) \">\n          <line stroke-width=\"1.0\" stroke=\"rgb(71,71,71)\" stroke-opacity=\"1.0\" x2=\"0.0\" y2=\"4.0\">\n          </line>\n          <g transform=\"translate(0.0 7.0 ) \">\n            <text class=\"axis-text-x\" text-anchor=\"middle\" dy=\"0.7em\">\n            2.0\n            </text>\n          </g>\n        </g>\n        <g transform=\"translate(608.200909525702 0.0 ) \">\n          <line stroke-width=\"1.0\" stroke=\"rgb(71,71,71)\" stroke-opacity=\"1.0\" x2=\"0.0\" y2=\"4.0\">\n          </line>\n          <g transform=\"translate(0.0 7.0 ) \">\n            <text class=\"axis-text-x\" text-anchor=\"middle\" dy=\"0.7em\">\n            2.2\n            </text>\n          </g>\n        </g>\n        <line x1=\"0.0\" y1=\"0.0\" x2=\"645.0387890890636\" y2=\"0.0\" stroke-width=\"1.0\" stroke=\"rgb(71,71,71)\" stroke-opacity=\"1.0\">\n        </line>\n      </g>\n      <g transform=\"translate(21.961210910936405 0.0 ) \">\n        <line x1=\"0.0\" y1=\"287.3772817803236\" x2=\"645.0387890890636\" y2=\"287.3772817803236\" stroke=\"rgb(233,233,233)\" stroke-opacity=\"1.0\" stroke-width=\"1.0\">\n        </line>\n        <line x1=\"0.0\" y1=\"230.75456356064723\" x2=\"645.0387890890636\" y2=\"230.75456356064723\" stroke=\"rgb(233,233,233)\" stroke-opacity=\"1.0\" stroke-width=\"1.0\">\n        </line>\n        <line x1=\"0.0\" y1=\"174.1318453409708\" x2=\"645.0387890890636\" y2=\"174.1318453409708\" stroke=\"rgb(233,233,233)\" stroke-opacity=\"1.0\" stroke-width=\"1.0\">\n        </line>\n        <line x1=\"0.0\" y1=\"117.50912712129443\" x2=\"645.0387890890636\" y2=\"117.50912712129443\" stroke=\"rgb(233,233,233)\" stroke-opacity=\"1.0\" stroke-width=\"1.0\">\n        </line>\n        <line x1=\"0.0\" y1=\"60.88640890161804\" x2=\"645.0387890890636\" y2=\"60.88640890161804\" stroke=\"rgb(233,233,233)\" stroke-opacity=\"1.0\" stroke-width=\"1.0\">\n        </line>\n        <g transform=\"translate(0.0 344.0 ) \">\n          <g transform=\"translate(-3.0 0.0 ) \">\n            <text class=\"axis-text-y\" text-anchor=\"end\" dy=\"0.35em\">\n            0\n            </text>\n          </g>\n        </g>\n        <g transform=\"translate(0.0 287.3772817803236 ) \">\n          <g transform=\"translate(-3.0 0.0 ) \">\n            <text class=\"axis-text-y\" text-anchor=\"end\" dy=\"0.35em\">\n            5\n            </text>\n          </g>\n        </g>\n        <g transform=\"translate(0.0 230.75456356064723 ) \">\n          <g transform=\"translate(-3.0 0.0 ) \">\n            <text class=\"axis-text-y\" text-anchor=\"end\" dy=\"0.35em\">\n            10\n            </text>\n          </g>\n        </g>\n        <g transform=\"translate(0.0 174.1318453409708 ) \">\n          <g transform=\"translate(-3.0 0.0 ) \">\n            <text class=\"axis-text-y\" text-anchor=\"end\" dy=\"0.35em\">\n            15\n            </text>\n          </g>\n        </g>\n        <g transform=\"translate(0.0 117.50912712129443 ) \">\n          <g transform=\"translate(-3.0 0.0 ) \">\n            <text class=\"axis-text-y\" text-anchor=\"end\" dy=\"0.35em\">\n            20\n            </text>\n          </g>\n        </g>\n        <g transform=\"translate(0.0 60.88640890161804 ) \">\n          <g transform=\"translate(-3.0 0.0 ) \">\n            <text class=\"axis-text-y\" text-anchor=\"end\" dy=\"0.35em\">\n            25\n            </text>\n          </g>\n        </g>\n        <g transform=\"translate(0.0 4.263690681941625 ) \">\n          <g transform=\"translate(-3.0 0.0 ) \">\n            <text class=\"axis-text-y\" text-anchor=\"end\" dy=\"0.35em\">\n            30\n            </text>\n          </g>\n        </g>\n      </g>\n      <g transform=\"translate(21.961210910936405 0.0 ) \" clip-path=\"url(#cHi2U84)\" clip-bounds-jfx=\"[rect (0.0, 0.0), (645.0387890890636, 344.0)]\">\n        <defs>\n          <clipPath id=\"cHi2U84\">\n            <rect x=\"0.0\" y=\"0.0\" width=\"645.0387890890636\" height=\"344.0\">\n            </rect>\n          </clipPath>\n        </defs>\n        <rect x=\"548.0574326875609\" y=\"47.9764291475318\" height=\"296.0235708524682\" width=\"67.66141144290873\" stroke=\"rgb(0,0,0)\" stroke-opacity=\"1.0\" fill=\"rgb(0,128,0)\" fill-opacity=\"1.0\" stroke-width=\"1.0\">\n        </rect>\n        <rect x=\"247.34004849685533\" y=\"154.08740309120537\" height=\"189.91259690879463\" width=\"67.66141144290879\" stroke=\"rgb(0,0,0)\" stroke-opacity=\"1.0\" fill=\"rgb(0,128,0)\" fill-opacity=\"1.0\" stroke-width=\"1.0\">\n        </rect>\n        <rect x=\"96.98135640150255\" y=\"253.63014172139646\" height=\"90.36985827860354\" width=\"67.66141144290879\" stroke=\"rgb(0,0,0)\" stroke-opacity=\"1.0\" fill=\"rgb(0,128,0)\" fill-opacity=\"1.0\" stroke-width=\"1.0\">\n        </rect>\n        <rect x=\"480.39602124465216\" y=\"48.88239263904666\" height=\"295.11760736095334\" width=\"67.66141144290873\" stroke=\"rgb(0,0,0)\" stroke-opacity=\"1.0\" fill=\"rgb(252,132,82)\" fill-opacity=\"1.0\" stroke-width=\"1.0\">\n        </rect>\n        <rect x=\"179.67863705394657\" y=\"86.9328592826692\" height=\"257.0671407173308\" width=\"67.66141144290876\" stroke=\"rgb(0,0,0)\" stroke-opacity=\"1.0\" fill=\"rgb(252,132,82)\" fill-opacity=\"1.0\" stroke-width=\"1.0\">\n        </rect>\n        <rect x=\"29.3199449585938\" y=\"194.17628759073625\" height=\"149.82371240926375\" width=\"67.66141144290876\" stroke=\"rgb(0,0,0)\" stroke-opacity=\"1.0\" fill=\"rgb(252,132,82)\" fill-opacity=\"1.0\" stroke-width=\"1.0\">\n        </rect>\n      </g>\n      <g transform=\"translate(21.961210910936405 0.0 ) \" clip-path=\"url(#c5eGzDV)\" clip-bounds-jfx=\"[rect (0.0, 0.0), (645.0387890890636, 344.0)]\">\n        <defs>\n          <clipPath id=\"c5eGzDV\">\n            <rect x=\"0.0\" y=\"0.0\" width=\"645.0387890890636\" height=\"344.0\">\n            </rect>\n          </clipPath>\n        </defs>\n        <g>\n          <line x1=\"59.39168337766434\" y1=\"210.03064869224565\" x2=\"66.909617982432\" y2=\"210.03064869224565\" stroke=\"rgb(0,0,0)\" stroke-opacity=\"1.0\" fill=\"rgb(17,142,216)\" fill-opacity=\"1.0\" stroke-width=\"1.0\">\n          </line>\n          <line x1=\"59.39168337766434\" y1=\"166.99738284529158\" x2=\"66.909617982432\" y2=\"166.99738284529158\" stroke=\"rgb(0,0,0)\" stroke-opacity=\"1.0\" fill=\"rgb(17,142,216)\" fill-opacity=\"1.0\" stroke-width=\"1.0\">\n          </line>\n          <line x1=\"63.150650680048166\" y1=\"210.03064869224565\" x2=\"63.150650680048166\" y2=\"166.99738284529158\" stroke=\"rgb(0,0,0)\" stroke-opacity=\"1.0\" fill=\"rgb(17,142,216)\" fill-opacity=\"1.0\" stroke-width=\"1.0\">\n          </line>\n        </g>\n        <g>\n          <line x1=\"209.75037547301713\" y1=\"103.9196747485721\" x2=\"217.26831007778475\" y2=\"103.9196747485721\" stroke=\"rgb(0,0,0)\" stroke-opacity=\"1.0\" fill=\"rgb(17,142,216)\" fill-opacity=\"1.0\" stroke-width=\"1.0\">\n          </line>\n          <line x1=\"209.75037547301713\" y1=\"62.01886326601158\" x2=\"217.26831007778475\" y2=\"62.01886326601158\" stroke=\"rgb(0,0,0)\" stroke-opacity=\"1.0\" fill=\"rgb(17,142,216)\" fill-opacity=\"1.0\" stroke-width=\"1.0\">\n          </line>\n          <line x1=\"213.50934277540097\" y1=\"103.9196747485721\" x2=\"213.50934277540097\" y2=\"62.01886326601158\" stroke=\"rgb(0,0,0)\" stroke-opacity=\"1.0\" fill=\"rgb(17,142,216)\" fill-opacity=\"1.0\" stroke-width=\"1.0\">\n          </line>\n        </g>\n        <g>\n          <line x1=\"510.46775966372275\" y1=\"66.54868072358568\" x2=\"517.9856942684903\" y2=\"66.54868072358568\" stroke=\"rgb(0,0,0)\" stroke-opacity=\"1.0\" fill=\"rgb(17,142,216)\" fill-opacity=\"1.0\" stroke-width=\"1.0\">\n          </line>\n          <line x1=\"510.46775966372275\" y1=\"36.991621812914616\" x2=\"517.9856942684903\" y2=\"36.991621812914616\" stroke=\"rgb(0,0,0)\" stroke-opacity=\"1.0\" fill=\"rgb(17,142,216)\" fill-opacity=\"1.0\" stroke-width=\"1.0\">\n          </line>\n          <line x1=\"514.2267269661065\" y1=\"66.54868072358568\" x2=\"514.2267269661065\" y2=\"36.991621812914616\" stroke=\"rgb(0,0,0)\" stroke-opacity=\"1.0\" fill=\"rgb(17,142,216)\" fill-opacity=\"1.0\" stroke-width=\"1.0\">\n          </line>\n        </g>\n        <g>\n          <line x1=\"127.05309482057311\" y1=\"295.9839349497144\" x2=\"134.57102942534075\" y2=\"295.9839349497144\" stroke=\"rgb(0,0,0)\" stroke-opacity=\"1.0\" fill=\"rgb(17,142,216)\" fill-opacity=\"1.0\" stroke-width=\"1.0\">\n          </line>\n          <line x1=\"127.05309482057311\" y1=\"222.6008921370138\" x2=\"134.57102942534075\" y2=\"222.6008921370138\" stroke=\"rgb(0,0,0)\" stroke-opacity=\"1.0\" fill=\"rgb(17,142,216)\" fill-opacity=\"1.0\" stroke-width=\"1.0\">\n          </line>\n          <line x1=\"130.81206212295695\" y1=\"295.9839349497144\" x2=\"130.81206212295695\" y2=\"222.6008921370138\" stroke=\"rgb(0,0,0)\" stroke-opacity=\"1.0\" fill=\"rgb(17,142,216)\" fill-opacity=\"1.0\" stroke-width=\"1.0\">\n          </line>\n        </g>\n        <g>\n          <line x1=\"277.4117869159259\" y1=\"171.18746399354765\" x2=\"284.92972152069353\" y2=\"171.18746399354765\" stroke=\"rgb(0,0,0)\" stroke-opacity=\"1.0\" fill=\"rgb(17,142,216)\" fill-opacity=\"1.0\" stroke-width=\"1.0\">\n          </line>\n          <line x1=\"277.4117869159259\" y1=\"125.66279854492782\" x2=\"284.92972152069353\" y2=\"125.66279854492782\" stroke=\"rgb(0,0,0)\" stroke-opacity=\"1.0\" fill=\"rgb(17,142,216)\" fill-opacity=\"1.0\" stroke-width=\"1.0\">\n          </line>\n          <line x1=\"281.1707542183097\" y1=\"171.18746399354765\" x2=\"281.1707542183097\" y2=\"125.66279854492782\" stroke=\"rgb(0,0,0)\" stroke-opacity=\"1.0\" fill=\"rgb(17,142,216)\" fill-opacity=\"1.0\" stroke-width=\"1.0\">\n          </line>\n        </g>\n        <g>\n          <line x1=\"578.1291711066315\" y1=\"79.5719059141112\" x2=\"585.647105711399\" y2=\"79.5719059141112\" stroke=\"rgb(0,0,0)\" stroke-opacity=\"1.0\" fill=\"rgb(17,142,216)\" fill-opacity=\"1.0\" stroke-width=\"1.0\">\n          </line>\n          <line x1=\"578.1291711066315\" y1=\"16.380952380952408\" x2=\"585.647105711399\" y2=\"16.380952380952408\" stroke=\"rgb(0,0,0)\" stroke-opacity=\"1.0\" fill=\"rgb(17,142,216)\" fill-opacity=\"1.0\" stroke-width=\"1.0\">\n          </line>\n          <line x1=\"581.8881384090153\" y1=\"79.5719059141112\" x2=\"581.8881384090153\" y2=\"16.380952380952408\" stroke=\"rgb(0,0,0)\" stroke-opacity=\"1.0\" fill=\"rgb(17,142,216)\" fill-opacity=\"1.0\" stroke-width=\"1.0\">\n          </line>\n        </g>\n      </g>\n    </g>\n    <g transform=\"translate(14.5 182.0 ) rotate(-90.0 ) \">\n      <text class=\"axis-title-y\" y=\"0.0\" text-anchor=\"middle\">\n      Tooth length (mm)\n      </text>\n    </g>\n    <g transform=\"translate(367.4806054554682 391.5 ) \">\n      <text class=\"axis-title-x\" y=\"0.0\" text-anchor=\"middle\">\n      Dose (mg)\n      </text>\n    </g>\n    <g transform=\"translate(44.9612109109364 10.0 ) \">\n      <rect x=\"5.0\" y=\"5.0\" height=\"78.5\" width=\"56.685426413809644\" stroke=\"rgb(71,71,71)\" stroke-opacity=\"1.0\" stroke-width=\"0.0\" fill=\"rgb(255,255,255)\" fill-opacity=\"1.0\">\n      </rect>\n      <g transform=\"translate(10.0 10.0 ) \">\n        <g transform=\"translate(0.0 10.5 ) \">\n          <text class=\"legend-title\" y=\"0.0\">\n          supp\n          </text>\n        </g>\n        <g transform=\"translate(0.0 22.5 ) \">\n          <g transform=\"\">\n            <g>\n              <rect x=\"0.0\" y=\"0.0\" height=\"23.0\" width=\"23.0\" stroke-width=\"0.0\" fill=\"rgb(255,255,255)\" fill-opacity=\"1.0\">\n              </rect>\n              <g transform=\"translate(1.0 1.0 ) \">\n                <g>\n                  <rect x=\"0.0\" y=\"0.0\" height=\"21.0\" width=\"21.0\" stroke=\"rgb(0,0,0)\" stroke-opacity=\"1.0\" fill=\"rgb(252,132,82)\" fill-opacity=\"1.0\" stroke-width=\"1.5\">\n                  </rect>\n                </g>\n              </g>\n              <rect x=\"0.0\" y=\"0.0\" height=\"23.0\" width=\"23.0\" stroke=\"rgb(255,255,255)\" stroke-opacity=\"1.0\" stroke-width=\"1.0\" fill-opacity=\"0.0\">\n              </rect>\n            </g>\n            <g transform=\"translate(26.9903027277341 16.05 ) \">\n              <text class=\"legend-item\" y=\"0.0\">\n              OJ\n              </text>\n            </g>\n          </g>\n          <g transform=\"translate(0.0 23.0 ) \">\n            <g>\n              <rect x=\"0.0\" y=\"0.0\" height=\"23.0\" width=\"23.0\" stroke-width=\"0.0\" fill=\"rgb(255,255,255)\" fill-opacity=\"1.0\">\n              </rect>\n              <g transform=\"translate(1.0 1.0 ) \">\n                <g>\n                  <rect x=\"0.0\" y=\"0.0\" height=\"21.0\" width=\"21.0\" stroke=\"rgb(0,0,0)\" stroke-opacity=\"1.0\" fill=\"rgb(0,128,0)\" fill-opacity=\"1.0\" stroke-width=\"1.5\">\n                  </rect>\n                </g>\n              </g>\n              <rect x=\"0.0\" y=\"0.0\" height=\"23.0\" width=\"23.0\" stroke=\"rgb(255,255,255)\" stroke-opacity=\"1.0\" stroke-width=\"1.0\" fill-opacity=\"0.0\">\n              </rect>\n            </g>\n            <g transform=\"translate(26.9903027277341 16.05 ) \">\n              <text class=\"legend-item\" y=\"0.0\">\n              VC\n              </text>\n            </g>\n          </g>\n        </g>\n      </g>\n    </g>\n  </g>\n  <g id=\"d7o6HBs\">\n  </g>\n</svg>\n        <script>document.getElementById(\"c75bee10-f4de-4621-9e23-31c3edd56aad\").style.display = \"none\";</script>",
      "application/plot+json": {
       "output_type": "lets_plot_spec",
       "output": {
        "mapping": {},
        "data": {
         "dose": [
          0.5,
          1.0,
          2.0,
          0.5,
          1.0,
          2.0
         ],
         "supp": [
          "OJ",
          "OJ",
          "OJ",
          "VC",
          "VC",
          "VC"
         ],
         "length": [
          13.23,
          22.7,
          26.06,
          7.98,
          16.77,
          26.14
         ]
        },
        "ggsize": {
         "width": 700.0,
         "height": 400.0
        },
        "kind": "plot",
        "scales": [
         {
          "aesthetic": "x",
          "limits": [
           null,
           null
          ]
         },
         {
          "aesthetic": "y",
          "limits": [
           null,
           null
          ]
         },
         {
          "aesthetic": "fill",
          "values": [
           "#fc8452",
           "dark_green"
          ]
         },
         {
          "aesthetic": "x",
          "limits": [
           null,
           null
          ]
         },
         {
          "aesthetic": "x",
          "name": "Dose (mg)"
         },
         {
          "aesthetic": "y",
          "name": "Tooth length (mm)"
         }
        ],
        "layers": [
         {
          "mapping": {
           "x": "dose",
           "y": "length",
           "fill": "supp"
          },
          "stat": "identity",
          "color": "#000000",
          "sampling": "none",
          "position": "dodge",
          "geom": "bar"
         },
         {
          "mapping": {
           "x": "dose",
           "ymin": "len_min",
           "ymax": "len_max",
           "group": "&merged_groups"
          },
          "stat": "identity",
          "data": {
           "dose": [
            0.5,
            1.0,
            2.0,
            0.5,
            1.0,
            2.0
           ],
           "&merged_groups": [
            "OJ",
            "OJ",
            "OJ",
            "VC",
            "VC",
            "VC"
           ],
           "supp": [
            "OJ",
            "OJ",
            "OJ",
            "VC",
            "VC",
            "VC"
           ],
           "length": [
            13.23,
            22.7,
            26.06,
            7.98,
            16.77,
            26.14
           ],
           "len_min": [
            11.83,
            21.2,
            24.5,
            4.24,
            15.26,
            23.35
           ],
           "len_max": [
            15.63,
            24.9,
            27.11,
            10.72,
            19.28,
            28.93
           ]
          },
          "color": "#000000",
          "sampling": "none",
          "width": 0.1,
          "position": {
           "name": "dodge",
           "width": 0.9
          },
          "geom": "errorbar"
         }
        ],
        "theme": {
         "axis_ontop": false,
         "axis_ontop_y": false,
         "axis_ontop_x": false,
         "legend_justification": [
          0.0,
          1.0
         ],
         "legend_position": [
          0.0,
          1.0
         ]
        }
       },
       "apply_color_scheme": true,
       "swing_enabled": true
      }
     },
     "execution_count": 9,
     "metadata": {},
     "output_type": "execute_result"
    }
   ],
   "source": [
    "plot(data) {\n",
    "    x(dose)\n",
    "    \n",
    "    bars {\n",
    "        y(length)\n",
    "\n",
    "        fillColor(supp) { scale = customColorScale }\n",
    "\n",
    "        borderLine.color = Color.BLACK\n",
    "\n",
    "        position = Position.Dodge()\n",
    "    }\n",
    "    \n",
    "    groupBy(supp) {\n",
    "        errorBar {\n",
    "            yMin(lenMin)\n",
    "            yMax(lenMax)\n",
    "\n",
    "            borderLine.color = Color.BLACK\n",
    "\n",
    "            width = .1\n",
    "\n",
    "            position = Position.Dodge(0.9)\n",
    "        }\n",
    "    }\n",
    "    \n",
    "    \n",
    "    layout {\n",
    "         size = 700 to 400\n",
    "         xAxisLabel = \"Dose (mg)\"\n",
    "         yAxisLabel = \"Tooth length (mm)\"\n",
    "        \n",
    "         theme {\n",
    "             legend {\n",
    "                 justification(0.0, 1.0)\n",
    "                 position(0.0, 1.0)\n",
    "             }\n",
    "         }\n",
    "     }\n",
    "}"
   ]
  },
  {
   "cell_type": "markdown",
   "metadata": {},
   "source": [
    "### Crossbars."
   ]
  },
  {
   "cell_type": "code",
   "execution_count": 10,
   "metadata": {},
   "outputs": [
    {
     "data": {
      "text/html": "            <script type=\"text/javascript\" data-lets-plot-script=\"library\" src=\"https://cdn.jsdelivr.net/gh/JetBrains/lets-plot@v3.1.0/js-package/distr/lets-plot.min.js\"></script>    \n               <div id=\"OXUwFL\"></div>\n   <script type=\"text/javascript\" data-lets-plot-script=\"plot\">\n       var plotSpec={\n\"mapping\":{\n},\n\"data\":{\n\"dose\":[0.5,1.0,2.0,0.5,1.0,2.0],\n\"supp\":[\"OJ\",\"OJ\",\"OJ\",\"VC\",\"VC\",\"VC\"],\n\"length\":[13.23,22.7,26.06,7.98,16.77,26.14],\n\"len_min\":[11.83,21.2,24.5,4.24,15.26,23.35],\n\"len_max\":[15.63,24.9,27.11,10.72,19.28,28.93]\n},\n\"ggsize\":{\n\"width\":700.0,\n\"height\":400.0\n},\n\"kind\":\"plot\",\n\"scales\":[{\n\"aesthetic\":\"x\",\n\"limits\":[null,null]\n},{\n\"aesthetic\":\"color\",\n\"values\":[\"#fc8452\",\"dark_green\"]\n},{\n\"aesthetic\":\"x\",\n\"name\":\"Dose (mg)\"\n},{\n\"aesthetic\":\"y\",\n\"name\":\"Tooth length (mm)\"\n}],\n\"layers\":[{\n\"mapping\":{\n\"x\":\"dose\",\n\"ymin\":\"len_min\",\n\"ymax\":\"len_max\",\n\"middle\":\"length\",\n\"color\":\"supp\"\n},\n\"stat\":\"identity\",\n\"sampling\":\"none\",\n\"position\":{\n\"name\":\"dodge\",\n\"width\":0.95\n},\n\"geom\":\"crossbar\",\n\"fatten\":5.0,\n\"data\":{\n}\n}]\n};\n       var plotContainer = document.getElementById(\"OXUwFL\");\n       LetsPlot.buildPlotFromProcessedSpecs(plotSpec, -1, -1, plotContainer);\n   </script>            \n        <svg id=4786f43f-4c6b-4c5c-96d9-fd70490839cf xmlns=\"http://www.w3.org/2000/svg\" xmlns:xlink=\"http://www.w3.org/1999/xlink\" class=\"plt-container\" width=\"700.0\" height=\"400.0\">\n  <style type=\"text/css\">\n  .plt-container {\n   font-family: Lucida Grande, sans-serif;\n   user-select: none;\n   -webkit-user-select: none;\n   -moz-user-select: none;\n   -ms-user-select: none;\n}\ntext {\n   text-rendering: optimizeLegibility;\n}\n#phUVgdh .plot-title {\n   fill: #474747;\n   font-family: Lucida Grande, sans-serif;\n   font-size: 16.0px;\n   font-weight: normal;\n   font-style: normal;   \n}\n#phUVgdh .plot-subtitle {\n   fill: #474747;\n   font-family: Lucida Grande, sans-serif;\n   font-size: 15.0px;\n   font-weight: normal;\n   font-style: normal;   \n}\n#phUVgdh .plot-caption {\n   fill: #474747;\n   font-family: Lucida Grande, sans-serif;\n   font-size: 13.0px;\n   font-weight: normal;\n   font-style: normal;   \n}\n#phUVgdh .legend-title {\n   fill: #474747;\n   font-family: Lucida Grande, sans-serif;\n   font-size: 15.0px;\n   font-weight: normal;\n   font-style: normal;   \n}\n#phUVgdh .legend-item {\n   fill: #474747;\n   font-family: Lucida Grande, sans-serif;\n   font-size: 13.0px;\n   font-weight: normal;\n   font-style: normal;   \n}\n#phUVgdh .axis-title-x {\n   fill: #474747;\n   font-family: Lucida Grande, sans-serif;\n   font-size: 15.0px;\n   font-weight: normal;\n   font-style: normal;   \n}\n#phUVgdh .axis-text-x {\n   fill: #474747;\n   font-family: Lucida Grande, sans-serif;\n   font-size: 13.0px;\n   font-weight: normal;\n   font-style: normal;   \n}\n#dlyfJzD .axis-tooltip-text-x {\n   fill: #ffffff;\n   font-family: Lucida Grande, sans-serif;\n   font-size: 13.0px;\n   font-weight: normal;\n   font-style: normal;   \n}\n#phUVgdh .axis-title-y {\n   fill: #474747;\n   font-family: Lucida Grande, sans-serif;\n   font-size: 15.0px;\n   font-weight: normal;\n   font-style: normal;   \n}\n#phUVgdh .axis-text-y {\n   fill: #474747;\n   font-family: Lucida Grande, sans-serif;\n   font-size: 13.0px;\n   font-weight: normal;\n   font-style: normal;   \n}\n#dlyfJzD .axis-tooltip-text-y {\n   fill: #ffffff;\n   font-family: Lucida Grande, sans-serif;\n   font-size: 13.0px;\n   font-weight: normal;\n   font-style: normal;   \n}\n#phUVgdh .facet-strip-text-x {\n   fill: #474747;\n   font-family: Lucida Grande, sans-serif;\n   font-size: 13.0px;\n   font-weight: normal;\n   font-style: normal;   \n}\n#phUVgdh .facet-strip-text-y {\n   fill: #474747;\n   font-family: Lucida Grande, sans-serif;\n   font-size: 13.0px;\n   font-weight: normal;\n   font-style: normal;   \n}\n#dlyfJzD .tooltip-text {\n   fill: #474747;\n   font-family: Lucida Grande, sans-serif;\n   font-size: 13.0px;\n   font-weight: normal;\n   font-style: normal;   \n}\n#dlyfJzD .tooltip-title {\n   fill: #474747;\n   font-family: Lucida Grande, sans-serif;\n   font-size: 13.0px;\n   font-weight: bold;\n   font-style: normal;   \n}\n#dlyfJzD .tooltip-label {\n   fill: #474747;\n   font-family: Lucida Grande, sans-serif;\n   font-size: 13.0px;\n   font-weight: bold;\n   font-style: normal;   \n}\n\n  </style>\n  <g id=\"phUVgdh\">\n    <rect x=\"0.0\" y=\"0.0\" height=\"400.0\" width=\"700.0\" stroke=\"rgb(71,71,71)\" stroke-opacity=\"1.0\" stroke-width=\"0.0\" fill=\"rgb(255,255,255)\" fill-opacity=\"1.0\">\n    </rect>\n    <g transform=\"translate(23.0 10.0 ) \">\n      <g transform=\"translate(21.961210910936405 344.0 ) \">\n        <line x1=\"6.06664366442574\" y1=\"-0.0\" x2=\"6.06664366442574\" y2=\"-344.0\" stroke=\"rgb(233,233,233)\" stroke-opacity=\"1.0\" stroke-width=\"1.0\">\n        </line>\n        <line x1=\"59.99236512598787\" y1=\"-0.0\" x2=\"59.99236512598787\" y2=\"-344.0\" stroke=\"rgb(233,233,233)\" stroke-opacity=\"1.0\" stroke-width=\"1.0\">\n        </line>\n        <line x1=\"113.91808658755\" y1=\"-0.0\" x2=\"113.91808658755\" y2=\"-344.0\" stroke=\"rgb(233,233,233)\" stroke-opacity=\"1.0\" stroke-width=\"1.0\">\n        </line>\n        <line x1=\"167.8438080491121\" y1=\"-0.0\" x2=\"167.8438080491121\" y2=\"-344.0\" stroke=\"rgb(233,233,233)\" stroke-opacity=\"1.0\" stroke-width=\"1.0\">\n        </line>\n        <line x1=\"221.76952951067423\" y1=\"-0.0\" x2=\"221.76952951067423\" y2=\"-344.0\" stroke=\"rgb(233,233,233)\" stroke-opacity=\"1.0\" stroke-width=\"1.0\">\n        </line>\n        <line x1=\"275.69525097223635\" y1=\"-0.0\" x2=\"275.69525097223635\" y2=\"-344.0\" stroke=\"rgb(233,233,233)\" stroke-opacity=\"1.0\" stroke-width=\"1.0\">\n        </line>\n        <line x1=\"329.6209724337985\" y1=\"-0.0\" x2=\"329.6209724337985\" y2=\"-344.0\" stroke=\"rgb(233,233,233)\" stroke-opacity=\"1.0\" stroke-width=\"1.0\">\n        </line>\n        <line x1=\"383.5466938953606\" y1=\"-0.0\" x2=\"383.5466938953606\" y2=\"-344.0\" stroke=\"rgb(233,233,233)\" stroke-opacity=\"1.0\" stroke-width=\"1.0\">\n        </line>\n        <line x1=\"437.47241535692274\" y1=\"-0.0\" x2=\"437.47241535692274\" y2=\"-344.0\" stroke=\"rgb(233,233,233)\" stroke-opacity=\"1.0\" stroke-width=\"1.0\">\n        </line>\n        <line x1=\"491.3981368184848\" y1=\"-0.0\" x2=\"491.3981368184848\" y2=\"-344.0\" stroke=\"rgb(233,233,233)\" stroke-opacity=\"1.0\" stroke-width=\"1.0\">\n        </line>\n        <line x1=\"545.3238582800469\" y1=\"-0.0\" x2=\"545.3238582800469\" y2=\"-344.0\" stroke=\"rgb(233,233,233)\" stroke-opacity=\"1.0\" stroke-width=\"1.0\">\n        </line>\n        <g transform=\"translate(6.06664366442574 0.0 ) \">\n          <line stroke-width=\"1.0\" stroke=\"rgb(71,71,71)\" stroke-opacity=\"1.0\" x2=\"0.0\" y2=\"4.0\">\n          </line>\n          <g transform=\"translate(0.0 7.0 ) \">\n            <text class=\"axis-text-x\" text-anchor=\"middle\" dy=\"0.7em\">\n            0.2\n            </text>\n          </g>\n        </g>\n        <g transform=\"translate(59.99236512598787 0.0 ) \">\n          <line stroke-width=\"1.0\" stroke=\"rgb(71,71,71)\" stroke-opacity=\"1.0\" x2=\"0.0\" y2=\"4.0\">\n          </line>\n          <g transform=\"translate(0.0 7.0 ) \">\n            <text class=\"axis-text-x\" text-anchor=\"middle\" dy=\"0.7em\">\n            0.4\n            </text>\n          </g>\n        </g>\n        <g transform=\"translate(113.91808658755 0.0 ) \">\n          <line stroke-width=\"1.0\" stroke=\"rgb(71,71,71)\" stroke-opacity=\"1.0\" x2=\"0.0\" y2=\"4.0\">\n          </line>\n          <g transform=\"translate(0.0 7.0 ) \">\n            <text class=\"axis-text-x\" text-anchor=\"middle\" dy=\"0.7em\">\n            0.6\n            </text>\n          </g>\n        </g>\n        <g transform=\"translate(167.8438080491121 0.0 ) \">\n          <line stroke-width=\"1.0\" stroke=\"rgb(71,71,71)\" stroke-opacity=\"1.0\" x2=\"0.0\" y2=\"4.0\">\n          </line>\n          <g transform=\"translate(0.0 7.0 ) \">\n            <text class=\"axis-text-x\" text-anchor=\"middle\" dy=\"0.7em\">\n            0.8\n            </text>\n          </g>\n        </g>\n        <g transform=\"translate(221.76952951067423 0.0 ) \">\n          <line stroke-width=\"1.0\" stroke=\"rgb(71,71,71)\" stroke-opacity=\"1.0\" x2=\"0.0\" y2=\"4.0\">\n          </line>\n          <g transform=\"translate(0.0 7.0 ) \">\n            <text class=\"axis-text-x\" text-anchor=\"middle\" dy=\"0.7em\">\n            1.0\n            </text>\n          </g>\n        </g>\n        <g transform=\"translate(275.69525097223635 0.0 ) \">\n          <line stroke-width=\"1.0\" stroke=\"rgb(71,71,71)\" stroke-opacity=\"1.0\" x2=\"0.0\" y2=\"4.0\">\n          </line>\n          <g transform=\"translate(0.0 7.0 ) \">\n            <text class=\"axis-text-x\" text-anchor=\"middle\" dy=\"0.7em\">\n            1.2\n            </text>\n          </g>\n        </g>\n        <g transform=\"translate(329.6209724337985 0.0 ) \">\n          <line stroke-width=\"1.0\" stroke=\"rgb(71,71,71)\" stroke-opacity=\"1.0\" x2=\"0.0\" y2=\"4.0\">\n          </line>\n          <g transform=\"translate(0.0 7.0 ) \">\n            <text class=\"axis-text-x\" text-anchor=\"middle\" dy=\"0.7em\">\n            1.4\n            </text>\n          </g>\n        </g>\n        <g transform=\"translate(383.5466938953606 0.0 ) \">\n          <line stroke-width=\"1.0\" stroke=\"rgb(71,71,71)\" stroke-opacity=\"1.0\" x2=\"0.0\" y2=\"4.0\">\n          </line>\n          <g transform=\"translate(0.0 7.0 ) \">\n            <text class=\"axis-text-x\" text-anchor=\"middle\" dy=\"0.7em\">\n            1.6\n            </text>\n          </g>\n        </g>\n        <g transform=\"translate(437.47241535692274 0.0 ) \">\n          <line stroke-width=\"1.0\" stroke=\"rgb(71,71,71)\" stroke-opacity=\"1.0\" x2=\"0.0\" y2=\"4.0\">\n          </line>\n          <g transform=\"translate(0.0 7.0 ) \">\n            <text class=\"axis-text-x\" text-anchor=\"middle\" dy=\"0.7em\">\n            1.8\n            </text>\n          </g>\n        </g>\n        <g transform=\"translate(491.3981368184848 0.0 ) \">\n          <line stroke-width=\"1.0\" stroke=\"rgb(71,71,71)\" stroke-opacity=\"1.0\" x2=\"0.0\" y2=\"4.0\">\n          </line>\n          <g transform=\"translate(0.0 7.0 ) \">\n            <text class=\"axis-text-x\" text-anchor=\"middle\" dy=\"0.7em\">\n            2.0\n            </text>\n          </g>\n        </g>\n        <g transform=\"translate(545.3238582800469 0.0 ) \">\n          <line stroke-width=\"1.0\" stroke=\"rgb(71,71,71)\" stroke-opacity=\"1.0\" x2=\"0.0\" y2=\"4.0\">\n          </line>\n          <g transform=\"translate(0.0 7.0 ) \">\n            <text class=\"axis-text-x\" text-anchor=\"middle\" dy=\"0.7em\">\n            2.2\n            </text>\n          </g>\n        </g>\n        <line x1=\"0.0\" y1=\"0.0\" x2=\"578.353362675254\" y2=\"0.0\" stroke-width=\"1.0\" stroke=\"rgb(71,71,71)\" stroke-opacity=\"1.0\">\n        </line>\n      </g>\n      <g transform=\"translate(21.961210910936405 0.0 ) \">\n        <line x1=\"0.0\" y1=\"318.7373614639714\" x2=\"578.353362675254\" y2=\"318.7373614639714\" stroke=\"rgb(233,233,233)\" stroke-opacity=\"1.0\" stroke-width=\"1.0\">\n        </line>\n        <line x1=\"0.0\" y1=\"255.40660554512317\" x2=\"578.353362675254\" y2=\"255.40660554512317\" stroke=\"rgb(233,233,233)\" stroke-opacity=\"1.0\" stroke-width=\"1.0\">\n        </line>\n        <line x1=\"0.0\" y1=\"192.0758496262749\" x2=\"578.353362675254\" y2=\"192.0758496262749\" stroke=\"rgb(233,233,233)\" stroke-opacity=\"1.0\" stroke-width=\"1.0\">\n        </line>\n        <line x1=\"0.0\" y1=\"128.74509370742663\" x2=\"578.353362675254\" y2=\"128.74509370742663\" stroke=\"rgb(233,233,233)\" stroke-opacity=\"1.0\" stroke-width=\"1.0\">\n        </line>\n        <line x1=\"0.0\" y1=\"65.4143377885784\" x2=\"578.353362675254\" y2=\"65.4143377885784\" stroke=\"rgb(233,233,233)\" stroke-opacity=\"1.0\" stroke-width=\"1.0\">\n        </line>\n        <g transform=\"translate(0.0 318.7373614639714 ) \">\n          <g transform=\"translate(-3.0 0.0 ) \">\n            <text class=\"axis-text-y\" text-anchor=\"end\" dy=\"0.35em\">\n            5\n            </text>\n          </g>\n        </g>\n        <g transform=\"translate(0.0 255.40660554512317 ) \">\n          <g transform=\"translate(-3.0 0.0 ) \">\n            <text class=\"axis-text-y\" text-anchor=\"end\" dy=\"0.35em\">\n            10\n            </text>\n          </g>\n        </g>\n        <g transform=\"translate(0.0 192.0758496262749 ) \">\n          <g transform=\"translate(-3.0 0.0 ) \">\n            <text class=\"axis-text-y\" text-anchor=\"end\" dy=\"0.35em\">\n            15\n            </text>\n          </g>\n        </g>\n        <g transform=\"translate(0.0 128.74509370742663 ) \">\n          <g transform=\"translate(-3.0 0.0 ) \">\n            <text class=\"axis-text-y\" text-anchor=\"end\" dy=\"0.35em\">\n            20\n            </text>\n          </g>\n        </g>\n        <g transform=\"translate(0.0 65.4143377885784 ) \">\n          <g transform=\"translate(-3.0 0.0 ) \">\n            <text class=\"axis-text-y\" text-anchor=\"end\" dy=\"0.35em\">\n            25\n            </text>\n          </g>\n        </g>\n        <g transform=\"translate(0.0 2.0835818697300965 ) \">\n          <g transform=\"translate(-3.0 0.0 ) \">\n            <text class=\"axis-text-y\" text-anchor=\"end\" dy=\"0.35em\">\n            30\n            </text>\n          </g>\n        </g>\n      </g>\n      <g transform=\"translate(21.961210910936405 0.0 ) \" clip-path=\"url(#cwvIN0W)\" clip-bounds-jfx=\"[rect (0.0, 0.0), (578.353362675254, 344.0)]\">\n        <defs>\n          <clipPath id=\"cwvIN0W\">\n            <rect x=\"0.0\" y=\"0.0\" width=\"578.353362675254\" height=\"344.0\">\n            </rect>\n          </clipPath>\n        </defs>\n        <rect x=\"24.603610416837732\" y=\"184.09617438050003\" height=\"48.131374498324675\" width=\"60.66643664425738\" stroke=\"rgb(252,132,82)\" stroke-opacity=\"1.0\" fill=\"rgb(255,255,255)\" fill-opacity=\"1.0\" stroke-width=\"1.0\">\n        </rect>\n        <rect x=\"159.41791407074302\" y=\"66.68095290695538\" height=\"46.864759379947714\" width=\"60.666436644257374\" stroke=\"rgb(252,132,82)\" stroke-opacity=\"1.0\" fill=\"rgb(255,255,255)\" fill-opacity=\"1.0\" stroke-width=\"1.0\">\n        </rect>\n        <rect x=\"429.0465213785536\" y=\"38.68875879082441\" height=\"33.05865458963882\" width=\"60.666436644257374\" stroke=\"rgb(252,132,82)\" stroke-opacity=\"1.0\" fill=\"rgb(255,255,255)\" fill-opacity=\"1.0\" stroke-width=\"1.0\">\n        </rect>\n        <rect x=\"88.64040465244273\" y=\"246.28697669280902\" height=\"82.07665967082735\" width=\"60.66643664425743\" stroke=\"rgb(0,128,0)\" stroke-opacity=\"1.0\" fill=\"rgb(255,255,255)\" fill-opacity=\"1.0\" stroke-width=\"1.0\">\n        </rect>\n        <rect x=\"223.45470830634807\" y=\"137.86472255974078\" height=\"50.91792775875402\" width=\"60.66643664425746\" stroke=\"rgb(0,128,0)\" stroke-opacity=\"1.0\" fill=\"rgb(255,255,255)\" fill-opacity=\"1.0\" stroke-width=\"1.0\">\n        </rect>\n        <rect x=\"493.08331561415855\" y=\"15.636363636363626\" height=\"70.67712360543464\" width=\"60.6664366442576\" stroke=\"rgb(0,128,0)\" stroke-opacity=\"1.0\" fill=\"rgb(255,255,255)\" fill-opacity=\"1.0\" stroke-width=\"1.0\">\n        </rect>\n        <line x1=\"24.603610416837732\" y1=\"214.4949372215472\" x2=\"85.27004706109511\" y2=\"214.4949372215472\" stroke=\"rgb(252,132,82)\" stroke-opacity=\"1.0\" fill=\"rgb(255,255,255)\" fill-opacity=\"1.0\" stroke-width=\"5.0\">\n        </line>\n        <line x1=\"159.41791407074302\" y1=\"94.54648551124859\" x2=\"220.0843507150004\" y2=\"94.54648551124859\" stroke=\"rgb(252,132,82)\" stroke-opacity=\"1.0\" fill=\"rgb(255,255,255)\" fill-opacity=\"1.0\" stroke-width=\"5.0\">\n        </line>\n        <line x1=\"429.0465213785536\" y1=\"51.988217533782574\" x2=\"489.712958022811\" y2=\"51.988217533782574\" stroke=\"rgb(252,132,82)\" stroke-opacity=\"1.0\" fill=\"rgb(255,255,255)\" fill-opacity=\"1.0\" stroke-width=\"5.0\">\n        </line>\n        <line x1=\"88.64040465244273\" y1=\"280.9922309363379\" x2=\"149.30684129670013\" y2=\"280.9922309363379\" stroke=\"rgb(0,128,0)\" stroke-opacity=\"1.0\" fill=\"rgb(255,255,255)\" fill-opacity=\"1.0\" stroke-width=\"5.0\">\n        </line>\n        <line x1=\"223.45470830634807\" y1=\"169.65676203100264\" x2=\"284.1211449506055\" y2=\"169.65676203100264\" stroke=\"rgb(0,128,0)\" stroke-opacity=\"1.0\" fill=\"rgb(255,255,255)\" fill-opacity=\"1.0\" stroke-width=\"5.0\">\n        </line>\n        <line x1=\"493.08331561415855\" y1=\"50.97492543908095\" x2=\"553.7497522584162\" y2=\"50.97492543908095\" stroke=\"rgb(0,128,0)\" stroke-opacity=\"1.0\" fill=\"rgb(255,255,255)\" fill-opacity=\"1.0\" stroke-width=\"5.0\">\n        </line>\n      </g>\n    </g>\n    <g transform=\"translate(14.5 182.0 ) rotate(-90.0 ) \">\n      <text class=\"axis-title-y\" y=\"0.0\" text-anchor=\"middle\">\n      Tooth length (mm)\n      </text>\n    </g>\n    <g transform=\"translate(334.1378922485634 391.5 ) \">\n      <text class=\"axis-title-x\" y=\"0.0\" text-anchor=\"middle\">\n      Dose (mg)\n      </text>\n    </g>\n    <g transform=\"translate(633.3145735861904 137.75 ) \">\n      <rect x=\"5.0\" y=\"5.0\" height=\"78.5\" width=\"56.685426413809644\" stroke=\"rgb(71,71,71)\" stroke-opacity=\"1.0\" stroke-width=\"0.0\" fill=\"rgb(255,255,255)\" fill-opacity=\"1.0\">\n      </rect>\n      <g transform=\"translate(10.0 10.0 ) \">\n        <g transform=\"translate(0.0 10.5 ) \">\n          <text class=\"legend-title\" y=\"0.0\">\n          supp\n          </text>\n        </g>\n        <g transform=\"translate(0.0 22.5 ) \">\n          <g transform=\"\">\n            <g>\n              <rect x=\"0.0\" y=\"0.0\" height=\"23.0\" width=\"23.0\" stroke-width=\"0.0\" fill=\"rgb(255,255,255)\" fill-opacity=\"1.0\">\n              </rect>\n              <g transform=\"translate(1.0 1.0 ) \">\n                <g>\n                  <rect x=\"2.5\" y=\"0.5\" height=\"20.0\" width=\"16.0\" stroke=\"rgb(252,132,82)\" stroke-opacity=\"1.0\" fill=\"rgb(255,255,255)\" fill-opacity=\"1.0\" stroke-width=\"1.0\">\n                  </rect>\n                  <line x1=\"2.5\" y1=\"10.5\" x2=\"18.5\" y2=\"10.5\" stroke=\"rgb(252,132,82)\" stroke-opacity=\"1.0\" fill=\"rgb(255,255,255)\" fill-opacity=\"1.0\" stroke-width=\"1.0\">\n                  </line>\n                </g>\n              </g>\n              <rect x=\"0.0\" y=\"0.0\" height=\"23.0\" width=\"23.0\" stroke=\"rgb(255,255,255)\" stroke-opacity=\"1.0\" stroke-width=\"1.0\" fill-opacity=\"0.0\">\n              </rect>\n            </g>\n            <g transform=\"translate(26.9903027277341 16.05 ) \">\n              <text class=\"legend-item\" y=\"0.0\">\n              OJ\n              </text>\n            </g>\n          </g>\n          <g transform=\"translate(0.0 23.0 ) \">\n            <g>\n              <rect x=\"0.0\" y=\"0.0\" height=\"23.0\" width=\"23.0\" stroke-width=\"0.0\" fill=\"rgb(255,255,255)\" fill-opacity=\"1.0\">\n              </rect>\n              <g transform=\"translate(1.0 1.0 ) \">\n                <g>\n                  <rect x=\"2.5\" y=\"0.5\" height=\"20.0\" width=\"16.0\" stroke=\"rgb(0,128,0)\" stroke-opacity=\"1.0\" fill=\"rgb(255,255,255)\" fill-opacity=\"1.0\" stroke-width=\"1.0\">\n                  </rect>\n                  <line x1=\"2.5\" y1=\"10.5\" x2=\"18.5\" y2=\"10.5\" stroke=\"rgb(0,128,0)\" stroke-opacity=\"1.0\" fill=\"rgb(255,255,255)\" fill-opacity=\"1.0\" stroke-width=\"1.0\">\n                  </line>\n                </g>\n              </g>\n              <rect x=\"0.0\" y=\"0.0\" height=\"23.0\" width=\"23.0\" stroke=\"rgb(255,255,255)\" stroke-opacity=\"1.0\" stroke-width=\"1.0\" fill-opacity=\"0.0\">\n              </rect>\n            </g>\n            <g transform=\"translate(26.9903027277341 16.05 ) \">\n              <text class=\"legend-item\" y=\"0.0\">\n              VC\n              </text>\n            </g>\n          </g>\n        </g>\n      </g>\n    </g>\n  </g>\n  <g id=\"dlyfJzD\">\n  </g>\n</svg>\n        <script>document.getElementById(\"4786f43f-4c6b-4c5c-96d9-fd70490839cf\").style.display = \"none\";</script>",
      "application/plot+json": {
       "output_type": "lets_plot_spec",
       "output": {
        "mapping": {},
        "data": {
         "dose": [
          0.5,
          1.0,
          2.0,
          0.5,
          1.0,
          2.0
         ],
         "supp": [
          "OJ",
          "OJ",
          "OJ",
          "VC",
          "VC",
          "VC"
         ],
         "length": [
          13.23,
          22.7,
          26.06,
          7.98,
          16.77,
          26.14
         ],
         "len_min": [
          11.83,
          21.2,
          24.5,
          4.24,
          15.26,
          23.35
         ],
         "len_max": [
          15.63,
          24.9,
          27.11,
          10.72,
          19.28,
          28.93
         ]
        },
        "ggsize": {
         "width": 700.0,
         "height": 400.0
        },
        "kind": "plot",
        "scales": [
         {
          "aesthetic": "x",
          "limits": [
           null,
           null
          ]
         },
         {
          "aesthetic": "color",
          "values": [
           "#fc8452",
           "dark_green"
          ]
         },
         {
          "aesthetic": "x",
          "name": "Dose (mg)"
         },
         {
          "aesthetic": "y",
          "name": "Tooth length (mm)"
         }
        ],
        "layers": [
         {
          "mapping": {
           "x": "dose",
           "ymin": "len_min",
           "ymax": "len_max",
           "middle": "length",
           "color": "supp"
          },
          "stat": "identity",
          "sampling": "none",
          "position": {
           "name": "dodge",
           "width": 0.95
          },
          "geom": "crossbar",
          "fatten": 5.0
         }
        ]
       },
       "apply_color_scheme": true,
       "swing_enabled": true
      }
     },
     "execution_count": 10,
     "metadata": {},
     "output_type": "execute_result"
    }
   ],
   "source": [
    "plot(data) {\n",
    "    x(dose)\n",
    "\n",
    "    crossBar {\n",
    "        yMin(lenMin)\n",
    "        yMax(lenMax)\n",
    "        middle(length)\n",
    "\n",
    "        fatten = 5.0\n",
    "\n",
    "        borderLine.color(supp) { scale = customColorScale }\n",
    "        position = Position.Dodge(0.95)\n",
    "     }\n",
    "\n",
    "     layout {\n",
    "         size = 700 to 400\n",
    "         xAxisLabel = \"Dose (mg)\"\n",
    "         yAxisLabel = \"Tooth length (mm)\"\n",
    "     }\n",
    "}"
   ]
  },
  {
   "cell_type": "markdown",
   "metadata": {},
   "source": [
    "### Line-range."
   ]
  },
  {
   "cell_type": "code",
   "execution_count": 11,
   "metadata": {},
   "outputs": [
    {
     "data": {
      "text/html": "            <script type=\"text/javascript\" data-lets-plot-script=\"library\" src=\"https://cdn.jsdelivr.net/gh/JetBrains/lets-plot@v3.1.0/js-package/distr/lets-plot.min.js\"></script>    \n               <div id=\"uOrkby\"></div>\n   <script type=\"text/javascript\" data-lets-plot-script=\"plot\">\n       var plotSpec={\n\"mapping\":{\n},\n\"data\":{\n\"dose\":[0.5,1.0,2.0,0.5,1.0,2.0],\n\"supp\":[\"OJ\",\"OJ\",\"OJ\",\"VC\",\"VC\",\"VC\"],\n\"length\":[13.23,22.7,26.06,7.98,16.77,26.14],\n\"len_min\":[11.83,21.2,24.5,4.24,15.26,23.35],\n\"len_max\":[15.63,24.9,27.11,10.72,19.28,28.93]\n},\n\"ggsize\":{\n\"width\":700.0,\n\"height\":400.0\n},\n\"kind\":\"plot\",\n\"scales\":[{\n\"aesthetic\":\"x\",\n\"limits\":[null,null]\n},{\n\"aesthetic\":\"color\",\n\"values\":[\"#fc8452\",\"dark_green\"]\n},{\n\"aesthetic\":\"x\",\n\"limits\":[null,null]\n},{\n\"aesthetic\":\"y\",\n\"limits\":[null,null]\n},{\n\"aesthetic\":\"color\",\n\"values\":[\"#fc8452\",\"dark_green\"]\n},{\n\"aesthetic\":\"x\",\n\"name\":\"Dose (mg)\"\n},{\n\"aesthetic\":\"y\",\n\"name\":\"Tooth length (mm)\"\n}],\n\"layers\":[{\n\"mapping\":{\n\"x\":\"dose\",\n\"ymin\":\"len_min\",\n\"ymax\":\"len_max\",\n\"color\":\"supp\"\n},\n\"stat\":\"identity\",\n\"sampling\":\"none\",\n\"position\":{\n\"name\":\"dodge\",\n\"width\":0.1\n},\n\"geom\":\"linerange\",\n\"data\":{\n}\n},{\n\"mapping\":{\n\"x\":\"dose\",\n\"y\":\"length\",\n\"color\":\"supp\"\n},\n\"stat\":\"identity\",\n\"sampling\":\"none\",\n\"position\":{\n\"name\":\"dodge\",\n\"width\":0.1\n},\n\"geom\":\"line\",\n\"data\":{\n}\n}]\n};\n       var plotContainer = document.getElementById(\"uOrkby\");\n       LetsPlot.buildPlotFromProcessedSpecs(plotSpec, -1, -1, plotContainer);\n   </script>            \n        <svg id=26da3df7-0f70-4998-a7aa-99a36521f2e7 xmlns=\"http://www.w3.org/2000/svg\" xmlns:xlink=\"http://www.w3.org/1999/xlink\" class=\"plt-container\" width=\"700.0\" height=\"400.0\">\n  <style type=\"text/css\">\n  .plt-container {\n   font-family: Lucida Grande, sans-serif;\n   user-select: none;\n   -webkit-user-select: none;\n   -moz-user-select: none;\n   -ms-user-select: none;\n}\ntext {\n   text-rendering: optimizeLegibility;\n}\n#pcGzDSi .plot-title {\n   fill: #474747;\n   font-family: Lucida Grande, sans-serif;\n   font-size: 16.0px;\n   font-weight: normal;\n   font-style: normal;   \n}\n#pcGzDSi .plot-subtitle {\n   fill: #474747;\n   font-family: Lucida Grande, sans-serif;\n   font-size: 15.0px;\n   font-weight: normal;\n   font-style: normal;   \n}\n#pcGzDSi .plot-caption {\n   fill: #474747;\n   font-family: Lucida Grande, sans-serif;\n   font-size: 13.0px;\n   font-weight: normal;\n   font-style: normal;   \n}\n#pcGzDSi .legend-title {\n   fill: #474747;\n   font-family: Lucida Grande, sans-serif;\n   font-size: 15.0px;\n   font-weight: normal;\n   font-style: normal;   \n}\n#pcGzDSi .legend-item {\n   fill: #474747;\n   font-family: Lucida Grande, sans-serif;\n   font-size: 13.0px;\n   font-weight: normal;\n   font-style: normal;   \n}\n#pcGzDSi .axis-title-x {\n   fill: #474747;\n   font-family: Lucida Grande, sans-serif;\n   font-size: 15.0px;\n   font-weight: normal;\n   font-style: normal;   \n}\n#pcGzDSi .axis-text-x {\n   fill: #474747;\n   font-family: Lucida Grande, sans-serif;\n   font-size: 13.0px;\n   font-weight: normal;\n   font-style: normal;   \n}\n#d4aLO8q .axis-tooltip-text-x {\n   fill: #ffffff;\n   font-family: Lucida Grande, sans-serif;\n   font-size: 13.0px;\n   font-weight: normal;\n   font-style: normal;   \n}\n#pcGzDSi .axis-title-y {\n   fill: #474747;\n   font-family: Lucida Grande, sans-serif;\n   font-size: 15.0px;\n   font-weight: normal;\n   font-style: normal;   \n}\n#pcGzDSi .axis-text-y {\n   fill: #474747;\n   font-family: Lucida Grande, sans-serif;\n   font-size: 13.0px;\n   font-weight: normal;\n   font-style: normal;   \n}\n#d4aLO8q .axis-tooltip-text-y {\n   fill: #ffffff;\n   font-family: Lucida Grande, sans-serif;\n   font-size: 13.0px;\n   font-weight: normal;\n   font-style: normal;   \n}\n#pcGzDSi .facet-strip-text-x {\n   fill: #474747;\n   font-family: Lucida Grande, sans-serif;\n   font-size: 13.0px;\n   font-weight: normal;\n   font-style: normal;   \n}\n#pcGzDSi .facet-strip-text-y {\n   fill: #474747;\n   font-family: Lucida Grande, sans-serif;\n   font-size: 13.0px;\n   font-weight: normal;\n   font-style: normal;   \n}\n#d4aLO8q .tooltip-text {\n   fill: #474747;\n   font-family: Lucida Grande, sans-serif;\n   font-size: 13.0px;\n   font-weight: normal;\n   font-style: normal;   \n}\n#d4aLO8q .tooltip-title {\n   fill: #474747;\n   font-family: Lucida Grande, sans-serif;\n   font-size: 13.0px;\n   font-weight: bold;\n   font-style: normal;   \n}\n#d4aLO8q .tooltip-label {\n   fill: #474747;\n   font-family: Lucida Grande, sans-serif;\n   font-size: 13.0px;\n   font-weight: bold;\n   font-style: normal;   \n}\n\n  </style>\n  <g id=\"pcGzDSi\">\n    <rect x=\"0.0\" y=\"0.0\" height=\"400.0\" width=\"700.0\" stroke=\"rgb(71,71,71)\" stroke-opacity=\"1.0\" stroke-width=\"0.0\" fill=\"rgb(255,255,255)\" fill-opacity=\"1.0\">\n    </rect>\n    <g transform=\"translate(23.0 10.0 ) \">\n      <g transform=\"translate(21.961210910936405 344.0 ) \">\n        <line x1=\"65.07552739490566\" y1=\"-0.0\" x2=\"65.07552739490566\" y2=\"-344.0\" stroke=\"rgb(233,233,233)\" stroke-opacity=\"1.0\" stroke-width=\"1.0\">\n        </line>\n        <line x1=\"134.02972860805068\" y1=\"-0.0\" x2=\"134.02972860805068\" y2=\"-344.0\" stroke=\"rgb(233,233,233)\" stroke-opacity=\"1.0\" stroke-width=\"1.0\">\n        </line>\n        <line x1=\"202.98392982119566\" y1=\"-0.0\" x2=\"202.98392982119566\" y2=\"-344.0\" stroke=\"rgb(233,233,233)\" stroke-opacity=\"1.0\" stroke-width=\"1.0\">\n        </line>\n        <line x1=\"271.93813103434064\" y1=\"-0.0\" x2=\"271.93813103434064\" y2=\"-344.0\" stroke=\"rgb(233,233,233)\" stroke-opacity=\"1.0\" stroke-width=\"1.0\">\n        </line>\n        <line x1=\"340.8923322474857\" y1=\"-0.0\" x2=\"340.8923322474857\" y2=\"-344.0\" stroke=\"rgb(233,233,233)\" stroke-opacity=\"1.0\" stroke-width=\"1.0\">\n        </line>\n        <line x1=\"409.84653346063067\" y1=\"-0.0\" x2=\"409.84653346063067\" y2=\"-344.0\" stroke=\"rgb(233,233,233)\" stroke-opacity=\"1.0\" stroke-width=\"1.0\">\n        </line>\n        <line x1=\"478.80073467377565\" y1=\"-0.0\" x2=\"478.80073467377565\" y2=\"-344.0\" stroke=\"rgb(233,233,233)\" stroke-opacity=\"1.0\" stroke-width=\"1.0\">\n        </line>\n        <line x1=\"547.7549358869206\" y1=\"-0.0\" x2=\"547.7549358869206\" y2=\"-344.0\" stroke=\"rgb(233,233,233)\" stroke-opacity=\"1.0\" stroke-width=\"1.0\">\n        </line>\n        <g transform=\"translate(65.07552739490566 0.0 ) \">\n          <line stroke-width=\"1.0\" stroke=\"rgb(71,71,71)\" stroke-opacity=\"1.0\" x2=\"0.0\" y2=\"4.0\">\n          </line>\n          <g transform=\"translate(0.0 7.0 ) \">\n            <text class=\"axis-text-x\" text-anchor=\"middle\" dy=\"0.7em\">\n            0.6\n            </text>\n          </g>\n        </g>\n        <g transform=\"translate(134.02972860805068 0.0 ) \">\n          <line stroke-width=\"1.0\" stroke=\"rgb(71,71,71)\" stroke-opacity=\"1.0\" x2=\"0.0\" y2=\"4.0\">\n          </line>\n          <g transform=\"translate(0.0 7.0 ) \">\n            <text class=\"axis-text-x\" text-anchor=\"middle\" dy=\"0.7em\">\n            0.8\n            </text>\n          </g>\n        </g>\n        <g transform=\"translate(202.98392982119566 0.0 ) \">\n          <line stroke-width=\"1.0\" stroke=\"rgb(71,71,71)\" stroke-opacity=\"1.0\" x2=\"0.0\" y2=\"4.0\">\n          </line>\n          <g transform=\"translate(0.0 7.0 ) \">\n            <text class=\"axis-text-x\" text-anchor=\"middle\" dy=\"0.7em\">\n            1.0\n            </text>\n          </g>\n        </g>\n        <g transform=\"translate(271.93813103434064 0.0 ) \">\n          <line stroke-width=\"1.0\" stroke=\"rgb(71,71,71)\" stroke-opacity=\"1.0\" x2=\"0.0\" y2=\"4.0\">\n          </line>\n          <g transform=\"translate(0.0 7.0 ) \">\n            <text class=\"axis-text-x\" text-anchor=\"middle\" dy=\"0.7em\">\n            1.2\n            </text>\n          </g>\n        </g>\n        <g transform=\"translate(340.8923322474857 0.0 ) \">\n          <line stroke-width=\"1.0\" stroke=\"rgb(71,71,71)\" stroke-opacity=\"1.0\" x2=\"0.0\" y2=\"4.0\">\n          </line>\n          <g transform=\"translate(0.0 7.0 ) \">\n            <text class=\"axis-text-x\" text-anchor=\"middle\" dy=\"0.7em\">\n            1.4\n            </text>\n          </g>\n        </g>\n        <g transform=\"translate(409.84653346063067 0.0 ) \">\n          <line stroke-width=\"1.0\" stroke=\"rgb(71,71,71)\" stroke-opacity=\"1.0\" x2=\"0.0\" y2=\"4.0\">\n          </line>\n          <g transform=\"translate(0.0 7.0 ) \">\n            <text class=\"axis-text-x\" text-anchor=\"middle\" dy=\"0.7em\">\n            1.6\n            </text>\n          </g>\n        </g>\n        <g transform=\"translate(478.80073467377565 0.0 ) \">\n          <line stroke-width=\"1.0\" stroke=\"rgb(71,71,71)\" stroke-opacity=\"1.0\" x2=\"0.0\" y2=\"4.0\">\n          </line>\n          <g transform=\"translate(0.0 7.0 ) \">\n            <text class=\"axis-text-x\" text-anchor=\"middle\" dy=\"0.7em\">\n            1.8\n            </text>\n          </g>\n        </g>\n        <g transform=\"translate(547.7549358869206 0.0 ) \">\n          <line stroke-width=\"1.0\" stroke=\"rgb(71,71,71)\" stroke-opacity=\"1.0\" x2=\"0.0\" y2=\"4.0\">\n          </line>\n          <g transform=\"translate(0.0 7.0 ) \">\n            <text class=\"axis-text-x\" text-anchor=\"middle\" dy=\"0.7em\">\n            2.0\n            </text>\n          </g>\n        </g>\n        <line x1=\"0.0\" y1=\"0.0\" x2=\"578.353362675254\" y2=\"0.0\" stroke-width=\"1.0\" stroke=\"rgb(71,71,71)\" stroke-opacity=\"1.0\">\n        </line>\n      </g>\n      <g transform=\"translate(21.961210910936405 0.0 ) \">\n        <line x1=\"0.0\" y1=\"318.7373614639714\" x2=\"578.353362675254\" y2=\"318.7373614639714\" stroke=\"rgb(233,233,233)\" stroke-opacity=\"1.0\" stroke-width=\"1.0\">\n        </line>\n        <line x1=\"0.0\" y1=\"255.40660554512317\" x2=\"578.353362675254\" y2=\"255.40660554512317\" stroke=\"rgb(233,233,233)\" stroke-opacity=\"1.0\" stroke-width=\"1.0\">\n        </line>\n        <line x1=\"0.0\" y1=\"192.0758496262749\" x2=\"578.353362675254\" y2=\"192.0758496262749\" stroke=\"rgb(233,233,233)\" stroke-opacity=\"1.0\" stroke-width=\"1.0\">\n        </line>\n        <line x1=\"0.0\" y1=\"128.74509370742663\" x2=\"578.353362675254\" y2=\"128.74509370742663\" stroke=\"rgb(233,233,233)\" stroke-opacity=\"1.0\" stroke-width=\"1.0\">\n        </line>\n        <line x1=\"0.0\" y1=\"65.4143377885784\" x2=\"578.353362675254\" y2=\"65.4143377885784\" stroke=\"rgb(233,233,233)\" stroke-opacity=\"1.0\" stroke-width=\"1.0\">\n        </line>\n        <g transform=\"translate(0.0 318.7373614639714 ) \">\n          <g transform=\"translate(-3.0 0.0 ) \">\n            <text class=\"axis-text-y\" text-anchor=\"end\" dy=\"0.35em\">\n            5\n            </text>\n          </g>\n        </g>\n        <g transform=\"translate(0.0 255.40660554512317 ) \">\n          <g transform=\"translate(-3.0 0.0 ) \">\n            <text class=\"axis-text-y\" text-anchor=\"end\" dy=\"0.35em\">\n            10\n            </text>\n          </g>\n        </g>\n        <g transform=\"translate(0.0 192.0758496262749 ) \">\n          <g transform=\"translate(-3.0 0.0 ) \">\n            <text class=\"axis-text-y\" text-anchor=\"end\" dy=\"0.35em\">\n            15\n            </text>\n          </g>\n        </g>\n        <g transform=\"translate(0.0 128.74509370742663 ) \">\n          <g transform=\"translate(-3.0 0.0 ) \">\n            <text class=\"axis-text-y\" text-anchor=\"end\" dy=\"0.35em\">\n            20\n            </text>\n          </g>\n        </g>\n        <g transform=\"translate(0.0 65.4143377885784 ) \">\n          <g transform=\"translate(-3.0 0.0 ) \">\n            <text class=\"axis-text-y\" text-anchor=\"end\" dy=\"0.35em\">\n            25\n            </text>\n          </g>\n        </g>\n        <g transform=\"translate(0.0 2.0835818697300965 ) \">\n          <g transform=\"translate(-3.0 0.0 ) \">\n            <text class=\"axis-text-y\" text-anchor=\"end\" dy=\"0.35em\">\n            30\n            </text>\n          </g>\n        </g>\n      </g>\n      <g transform=\"translate(21.961210910936405 0.0 ) \" clip-path=\"url(#cOHpT5Q)\" clip-bounds-jfx=\"[rect (0.0, 0.0), (578.353362675254, 344.0)]\">\n        <defs>\n          <clipPath id=\"cOHpT5Q\">\n            <rect x=\"0.0\" y=\"0.0\" width=\"578.353362675254\" height=\"344.0\">\n            </rect>\n          </clipPath>\n        </defs>\n        <line x1=\"26.288789212511546\" y1=\"232.2275488788247\" x2=\"26.288789212511546\" y2=\"184.09617438050003\" stroke=\"rgb(252,132,82)\" stroke-opacity=\"1.0\" fill=\"rgb(17,142,216)\" fill-opacity=\"1.0\" stroke-width=\"1.0\">\n        </line>\n        <line x1=\"198.6742922453741\" y1=\"113.5457122869031\" x2=\"198.6742922453741\" y2=\"66.68095290695538\" stroke=\"rgb(252,132,82)\" stroke-opacity=\"1.0\" fill=\"rgb(17,142,216)\" fill-opacity=\"1.0\" stroke-width=\"1.0\">\n        </line>\n        <line x1=\"543.4452983110992\" y1=\"71.74741338046323\" x2=\"543.4452983110992\" y2=\"38.68875879082441\" stroke=\"rgb(252,132,82)\" stroke-opacity=\"1.0\" fill=\"rgb(17,142,216)\" fill-opacity=\"1.0\" stroke-width=\"1.0\">\n        </line>\n        <line x1=\"34.908064364154654\" y1=\"328.3636363636364\" x2=\"34.908064364154654\" y2=\"246.28697669280902\" stroke=\"rgb(0,128,0)\" stroke-opacity=\"1.0\" fill=\"rgb(17,142,216)\" fill-opacity=\"1.0\" stroke-width=\"1.0\">\n        </line>\n        <line x1=\"207.29356739701723\" y1=\"188.7826503184948\" x2=\"207.29356739701723\" y2=\"137.86472255974078\" stroke=\"rgb(0,128,0)\" stroke-opacity=\"1.0\" fill=\"rgb(17,142,216)\" fill-opacity=\"1.0\" stroke-width=\"1.0\">\n        </line>\n        <line x1=\"552.0645734627424\" y1=\"86.31348724179827\" x2=\"552.0645734627424\" y2=\"15.636363636363626\" stroke=\"rgb(0,128,0)\" stroke-opacity=\"1.0\" fill=\"rgb(17,142,216)\" fill-opacity=\"1.0\" stroke-width=\"1.0\">\n        </line>\n      </g>\n      <g transform=\"translate(21.961210910936405 0.0 ) \" clip-path=\"url(#cHxHRuS)\" clip-bounds-jfx=\"[rect (0.0, 0.0), (578.353362675254, 344.0)]\">\n        <defs>\n          <clipPath id=\"cHxHRuS\">\n            <rect x=\"0.0\" y=\"0.0\" width=\"578.353362675254\" height=\"344.0\">\n            </rect>\n          </clipPath>\n        </defs>\n        <g>\n          <path d=\"M26.288789212511546 214.4949372215472 L26.288789212511546 214.4949372215472 L198.6742922453741 94.54648551124859 L543.4452983110992 51.988217533782574 \" fill=\"none\" stroke-width=\"1.0\" stroke=\"rgb(252,132,82)\" stroke-opacity=\"1.0\">\n          </path>\n        </g>\n        <g>\n          <path d=\"M34.908064364154654 280.9922309363379 L34.908064364154654 280.9922309363379 L207.29356739701723 169.65676203100264 L552.0645734627424 50.97492543908095 \" fill=\"none\" stroke-width=\"1.0\" stroke=\"rgb(0,128,0)\" stroke-opacity=\"1.0\">\n          </path>\n        </g>\n      </g>\n    </g>\n    <g transform=\"translate(14.5 182.0 ) rotate(-90.0 ) \">\n      <text class=\"axis-title-y\" y=\"0.0\" text-anchor=\"middle\">\n      Tooth length (mm)\n      </text>\n    </g>\n    <g transform=\"translate(334.1378922485634 391.5 ) \">\n      <text class=\"axis-title-x\" y=\"0.0\" text-anchor=\"middle\">\n      Dose (mg)\n      </text>\n    </g>\n    <g transform=\"translate(633.3145735861904 137.75 ) \">\n      <rect x=\"5.0\" y=\"5.0\" height=\"78.5\" width=\"56.685426413809644\" stroke=\"rgb(71,71,71)\" stroke-opacity=\"1.0\" stroke-width=\"0.0\" fill=\"rgb(255,255,255)\" fill-opacity=\"1.0\">\n      </rect>\n      <g transform=\"translate(10.0 10.0 ) \">\n        <g transform=\"translate(0.0 10.5 ) \">\n          <text class=\"legend-title\" y=\"0.0\">\n          supp\n          </text>\n        </g>\n        <g transform=\"translate(0.0 22.5 ) \">\n          <g transform=\"\">\n            <g>\n              <rect x=\"0.0\" y=\"0.0\" height=\"23.0\" width=\"23.0\" stroke-width=\"0.0\" fill=\"rgb(255,255,255)\" fill-opacity=\"1.0\">\n              </rect>\n              <g transform=\"translate(1.0 1.0 ) \">\n                <g>\n                  <line x1=\"10.5\" y1=\"0.0\" x2=\"10.5\" y2=\"21.0\" stroke=\"rgb(252,132,82)\" stroke-opacity=\"1.0\" fill=\"rgb(17,142,216)\" fill-opacity=\"1.0\" stroke-width=\"1.0\">\n                  </line>\n                </g>\n                <g>\n                  <line x1=\"0.0\" y1=\"10.5\" x2=\"21.0\" y2=\"10.5\" stroke=\"rgb(252,132,82)\" stroke-opacity=\"1.0\" fill=\"rgb(17,142,216)\" fill-opacity=\"1.0\" stroke-width=\"1.0\">\n                  </line>\n                </g>\n              </g>\n              <rect x=\"0.0\" y=\"0.0\" height=\"23.0\" width=\"23.0\" stroke=\"rgb(255,255,255)\" stroke-opacity=\"1.0\" stroke-width=\"1.0\" fill-opacity=\"0.0\">\n              </rect>\n            </g>\n            <g transform=\"translate(26.9903027277341 16.05 ) \">\n              <text class=\"legend-item\" y=\"0.0\">\n              OJ\n              </text>\n            </g>\n          </g>\n          <g transform=\"translate(0.0 23.0 ) \">\n            <g>\n              <rect x=\"0.0\" y=\"0.0\" height=\"23.0\" width=\"23.0\" stroke-width=\"0.0\" fill=\"rgb(255,255,255)\" fill-opacity=\"1.0\">\n              </rect>\n              <g transform=\"translate(1.0 1.0 ) \">\n                <g>\n                  <line x1=\"10.5\" y1=\"0.0\" x2=\"10.5\" y2=\"21.0\" stroke=\"rgb(0,128,0)\" stroke-opacity=\"1.0\" fill=\"rgb(17,142,216)\" fill-opacity=\"1.0\" stroke-width=\"1.0\">\n                  </line>\n                </g>\n                <g>\n                  <line x1=\"0.0\" y1=\"10.5\" x2=\"21.0\" y2=\"10.5\" stroke=\"rgb(0,128,0)\" stroke-opacity=\"1.0\" fill=\"rgb(17,142,216)\" fill-opacity=\"1.0\" stroke-width=\"1.0\">\n                  </line>\n                </g>\n              </g>\n              <rect x=\"0.0\" y=\"0.0\" height=\"23.0\" width=\"23.0\" stroke=\"rgb(255,255,255)\" stroke-opacity=\"1.0\" stroke-width=\"1.0\" fill-opacity=\"0.0\">\n              </rect>\n            </g>\n            <g transform=\"translate(26.9903027277341 16.05 ) \">\n              <text class=\"legend-item\" y=\"0.0\">\n              VC\n              </text>\n            </g>\n          </g>\n        </g>\n      </g>\n    </g>\n  </g>\n  <g id=\"d4aLO8q\">\n  </g>\n</svg>\n        <script>document.getElementById(\"26da3df7-0f70-4998-a7aa-99a36521f2e7\").style.display = \"none\";</script>",
      "application/plot+json": {
       "output_type": "lets_plot_spec",
       "output": {
        "mapping": {},
        "data": {
         "dose": [
          0.5,
          1.0,
          2.0,
          0.5,
          1.0,
          2.0
         ],
         "supp": [
          "OJ",
          "OJ",
          "OJ",
          "VC",
          "VC",
          "VC"
         ],
         "length": [
          13.23,
          22.7,
          26.06,
          7.98,
          16.77,
          26.14
         ],
         "len_min": [
          11.83,
          21.2,
          24.5,
          4.24,
          15.26,
          23.35
         ],
         "len_max": [
          15.63,
          24.9,
          27.11,
          10.72,
          19.28,
          28.93
         ]
        },
        "ggsize": {
         "width": 700.0,
         "height": 400.0
        },
        "kind": "plot",
        "scales": [
         {
          "aesthetic": "x",
          "limits": [
           null,
           null
          ]
         },
         {
          "aesthetic": "color",
          "values": [
           "#fc8452",
           "dark_green"
          ]
         },
         {
          "aesthetic": "x",
          "limits": [
           null,
           null
          ]
         },
         {
          "aesthetic": "y",
          "limits": [
           null,
           null
          ]
         },
         {
          "aesthetic": "color",
          "values": [
           "#fc8452",
           "dark_green"
          ]
         },
         {
          "aesthetic": "x",
          "name": "Dose (mg)"
         },
         {
          "aesthetic": "y",
          "name": "Tooth length (mm)"
         }
        ],
        "layers": [
         {
          "mapping": {
           "x": "dose",
           "ymin": "len_min",
           "ymax": "len_max",
           "color": "supp"
          },
          "stat": "identity",
          "sampling": "none",
          "position": {
           "name": "dodge",
           "width": 0.1
          },
          "geom": "linerange"
         },
         {
          "mapping": {
           "x": "dose",
           "y": "length",
           "color": "supp"
          },
          "stat": "identity",
          "sampling": "none",
          "position": {
           "name": "dodge",
           "width": 0.1
          },
          "geom": "line"
         }
        ]
       },
       "apply_color_scheme": true,
       "swing_enabled": true
      }
     },
     "execution_count": 11,
     "metadata": {},
     "output_type": "execute_result"
    }
   ],
   "source": [
    "plot(data) {\n",
    "    x(dose)\n",
    "\n",
    "    lineRange {\n",
    "        yMin(lenMin)\n",
    "        yMax(lenMax)\n",
    "\n",
    "        borderLine.color(supp) { scale = customColorScale }\n",
    "        position = posD\n",
    "    }\n",
    "\n",
    "    line {\n",
    "        y(length)\n",
    "        color(supp) { scale = customColorScale }\n",
    "\n",
    "        position = posD\n",
    "    }\n",
    "    \n",
    "    layout {\n",
    "         size = 700 to 400\n",
    "         xAxisLabel = \"Dose (mg)\"\n",
    "         yAxisLabel = \"Tooth length (mm)\"\n",
    "     }\n",
    "}"
   ]
  },
  {
   "cell_type": "markdown",
   "metadata": {},
   "source": [
    "### Point-range."
   ]
  },
  {
   "cell_type": "code",
   "execution_count": 12,
   "metadata": {},
   "outputs": [
    {
     "data": {
      "text/html": "            <script type=\"text/javascript\" data-lets-plot-script=\"library\" src=\"https://cdn.jsdelivr.net/gh/JetBrains/lets-plot@v3.1.0/js-package/distr/lets-plot.min.js\"></script>    \n               <div id=\"VcFz0v\"></div>\n   <script type=\"text/javascript\" data-lets-plot-script=\"plot\">\n       var plotSpec={\n\"mapping\":{\n},\n\"data\":{\n\"dose\":[0.5,1.0,2.0,0.5,1.0,2.0],\n\"supp\":[\"OJ\",\"OJ\",\"OJ\",\"VC\",\"VC\",\"VC\"],\n\"length\":[13.23,22.7,26.06,7.98,16.77,26.14],\n\"len_min\":[11.83,21.2,24.5,4.24,15.26,23.35],\n\"len_max\":[15.63,24.9,27.11,10.72,19.28,28.93]\n},\n\"ggsize\":{\n\"width\":700.0,\n\"height\":400.0\n},\n\"kind\":\"plot\",\n\"scales\":[{\n\"aesthetic\":\"x\",\n\"limits\":[null,null]\n},{\n\"aesthetic\":\"y\",\n\"limits\":[null,null]\n},{\n\"aesthetic\":\"color\",\n\"values\":[\"#fc8452\",\"dark_green\"]\n},{\n\"aesthetic\":\"x\",\n\"limits\":[null,null]\n},{\n\"aesthetic\":\"y\",\n\"limits\":[null,null]\n},{\n\"aesthetic\":\"color\",\n\"values\":[\"#fc8452\",\"dark_green\"]\n},{\n\"aesthetic\":\"x\",\n\"name\":\"Dose (mg)\"\n},{\n\"aesthetic\":\"y\",\n\"name\":\"Tooth length (mm)\"\n}],\n\"layers\":[{\n\"mapping\":{\n\"x\":\"dose\",\n\"y\":\"length\",\n\"ymin\":\"len_min\",\n\"ymax\":\"len_max\",\n\"color\":\"supp\"\n},\n\"stat\":\"identity\",\n\"sampling\":\"none\",\n\"position\":{\n\"name\":\"dodge\",\n\"width\":0.1\n},\n\"geom\":\"pointrange\",\n\"data\":{\n}\n},{\n\"mapping\":{\n\"x\":\"dose\",\n\"y\":\"length\",\n\"color\":\"supp\"\n},\n\"stat\":\"identity\",\n\"sampling\":\"none\",\n\"position\":{\n\"name\":\"dodge\",\n\"width\":0.1\n},\n\"geom\":\"line\",\n\"data\":{\n}\n}]\n};\n       var plotContainer = document.getElementById(\"VcFz0v\");\n       LetsPlot.buildPlotFromProcessedSpecs(plotSpec, -1, -1, plotContainer);\n   </script>            \n        <svg id=107f68ce-cd5b-4ed1-9580-5887907b8867 xmlns=\"http://www.w3.org/2000/svg\" xmlns:xlink=\"http://www.w3.org/1999/xlink\" class=\"plt-container\" width=\"700.0\" height=\"400.0\">\n  <style type=\"text/css\">\n  .plt-container {\n   font-family: Lucida Grande, sans-serif;\n   user-select: none;\n   -webkit-user-select: none;\n   -moz-user-select: none;\n   -ms-user-select: none;\n}\ntext {\n   text-rendering: optimizeLegibility;\n}\n#p8t8G8h .plot-title {\n   fill: #474747;\n   font-family: Lucida Grande, sans-serif;\n   font-size: 16.0px;\n   font-weight: normal;\n   font-style: normal;   \n}\n#p8t8G8h .plot-subtitle {\n   fill: #474747;\n   font-family: Lucida Grande, sans-serif;\n   font-size: 15.0px;\n   font-weight: normal;\n   font-style: normal;   \n}\n#p8t8G8h .plot-caption {\n   fill: #474747;\n   font-family: Lucida Grande, sans-serif;\n   font-size: 13.0px;\n   font-weight: normal;\n   font-style: normal;   \n}\n#p8t8G8h .legend-title {\n   fill: #474747;\n   font-family: Lucida Grande, sans-serif;\n   font-size: 15.0px;\n   font-weight: normal;\n   font-style: normal;   \n}\n#p8t8G8h .legend-item {\n   fill: #474747;\n   font-family: Lucida Grande, sans-serif;\n   font-size: 13.0px;\n   font-weight: normal;\n   font-style: normal;   \n}\n#p8t8G8h .axis-title-x {\n   fill: #474747;\n   font-family: Lucida Grande, sans-serif;\n   font-size: 15.0px;\n   font-weight: normal;\n   font-style: normal;   \n}\n#p8t8G8h .axis-text-x {\n   fill: #474747;\n   font-family: Lucida Grande, sans-serif;\n   font-size: 13.0px;\n   font-weight: normal;\n   font-style: normal;   \n}\n#dh1bvfR .axis-tooltip-text-x {\n   fill: #ffffff;\n   font-family: Lucida Grande, sans-serif;\n   font-size: 13.0px;\n   font-weight: normal;\n   font-style: normal;   \n}\n#p8t8G8h .axis-title-y {\n   fill: #474747;\n   font-family: Lucida Grande, sans-serif;\n   font-size: 15.0px;\n   font-weight: normal;\n   font-style: normal;   \n}\n#p8t8G8h .axis-text-y {\n   fill: #474747;\n   font-family: Lucida Grande, sans-serif;\n   font-size: 13.0px;\n   font-weight: normal;\n   font-style: normal;   \n}\n#dh1bvfR .axis-tooltip-text-y {\n   fill: #ffffff;\n   font-family: Lucida Grande, sans-serif;\n   font-size: 13.0px;\n   font-weight: normal;\n   font-style: normal;   \n}\n#p8t8G8h .facet-strip-text-x {\n   fill: #474747;\n   font-family: Lucida Grande, sans-serif;\n   font-size: 13.0px;\n   font-weight: normal;\n   font-style: normal;   \n}\n#p8t8G8h .facet-strip-text-y {\n   fill: #474747;\n   font-family: Lucida Grande, sans-serif;\n   font-size: 13.0px;\n   font-weight: normal;\n   font-style: normal;   \n}\n#dh1bvfR .tooltip-text {\n   fill: #474747;\n   font-family: Lucida Grande, sans-serif;\n   font-size: 13.0px;\n   font-weight: normal;\n   font-style: normal;   \n}\n#dh1bvfR .tooltip-title {\n   fill: #474747;\n   font-family: Lucida Grande, sans-serif;\n   font-size: 13.0px;\n   font-weight: bold;\n   font-style: normal;   \n}\n#dh1bvfR .tooltip-label {\n   fill: #474747;\n   font-family: Lucida Grande, sans-serif;\n   font-size: 13.0px;\n   font-weight: bold;\n   font-style: normal;   \n}\n\n  </style>\n  <g id=\"p8t8G8h\">\n    <rect x=\"0.0\" y=\"0.0\" height=\"400.0\" width=\"700.0\" stroke=\"rgb(71,71,71)\" stroke-opacity=\"1.0\" stroke-width=\"0.0\" fill=\"rgb(255,255,255)\" fill-opacity=\"1.0\">\n    </rect>\n    <g transform=\"translate(23.0 10.0 ) \">\n      <g transform=\"translate(21.961210910936405 344.0 ) \">\n        <line x1=\"65.07552739490566\" y1=\"-0.0\" x2=\"65.07552739490566\" y2=\"-344.0\" stroke=\"rgb(233,233,233)\" stroke-opacity=\"1.0\" stroke-width=\"1.0\">\n        </line>\n        <line x1=\"134.02972860805068\" y1=\"-0.0\" x2=\"134.02972860805068\" y2=\"-344.0\" stroke=\"rgb(233,233,233)\" stroke-opacity=\"1.0\" stroke-width=\"1.0\">\n        </line>\n        <line x1=\"202.98392982119566\" y1=\"-0.0\" x2=\"202.98392982119566\" y2=\"-344.0\" stroke=\"rgb(233,233,233)\" stroke-opacity=\"1.0\" stroke-width=\"1.0\">\n        </line>\n        <line x1=\"271.93813103434064\" y1=\"-0.0\" x2=\"271.93813103434064\" y2=\"-344.0\" stroke=\"rgb(233,233,233)\" stroke-opacity=\"1.0\" stroke-width=\"1.0\">\n        </line>\n        <line x1=\"340.8923322474857\" y1=\"-0.0\" x2=\"340.8923322474857\" y2=\"-344.0\" stroke=\"rgb(233,233,233)\" stroke-opacity=\"1.0\" stroke-width=\"1.0\">\n        </line>\n        <line x1=\"409.84653346063067\" y1=\"-0.0\" x2=\"409.84653346063067\" y2=\"-344.0\" stroke=\"rgb(233,233,233)\" stroke-opacity=\"1.0\" stroke-width=\"1.0\">\n        </line>\n        <line x1=\"478.80073467377565\" y1=\"-0.0\" x2=\"478.80073467377565\" y2=\"-344.0\" stroke=\"rgb(233,233,233)\" stroke-opacity=\"1.0\" stroke-width=\"1.0\">\n        </line>\n        <line x1=\"547.7549358869206\" y1=\"-0.0\" x2=\"547.7549358869206\" y2=\"-344.0\" stroke=\"rgb(233,233,233)\" stroke-opacity=\"1.0\" stroke-width=\"1.0\">\n        </line>\n        <g transform=\"translate(65.07552739490566 0.0 ) \">\n          <line stroke-width=\"1.0\" stroke=\"rgb(71,71,71)\" stroke-opacity=\"1.0\" x2=\"0.0\" y2=\"4.0\">\n          </line>\n          <g transform=\"translate(0.0 7.0 ) \">\n            <text class=\"axis-text-x\" text-anchor=\"middle\" dy=\"0.7em\">\n            0.6\n            </text>\n          </g>\n        </g>\n        <g transform=\"translate(134.02972860805068 0.0 ) \">\n          <line stroke-width=\"1.0\" stroke=\"rgb(71,71,71)\" stroke-opacity=\"1.0\" x2=\"0.0\" y2=\"4.0\">\n          </line>\n          <g transform=\"translate(0.0 7.0 ) \">\n            <text class=\"axis-text-x\" text-anchor=\"middle\" dy=\"0.7em\">\n            0.8\n            </text>\n          </g>\n        </g>\n        <g transform=\"translate(202.98392982119566 0.0 ) \">\n          <line stroke-width=\"1.0\" stroke=\"rgb(71,71,71)\" stroke-opacity=\"1.0\" x2=\"0.0\" y2=\"4.0\">\n          </line>\n          <g transform=\"translate(0.0 7.0 ) \">\n            <text class=\"axis-text-x\" text-anchor=\"middle\" dy=\"0.7em\">\n            1.0\n            </text>\n          </g>\n        </g>\n        <g transform=\"translate(271.93813103434064 0.0 ) \">\n          <line stroke-width=\"1.0\" stroke=\"rgb(71,71,71)\" stroke-opacity=\"1.0\" x2=\"0.0\" y2=\"4.0\">\n          </line>\n          <g transform=\"translate(0.0 7.0 ) \">\n            <text class=\"axis-text-x\" text-anchor=\"middle\" dy=\"0.7em\">\n            1.2\n            </text>\n          </g>\n        </g>\n        <g transform=\"translate(340.8923322474857 0.0 ) \">\n          <line stroke-width=\"1.0\" stroke=\"rgb(71,71,71)\" stroke-opacity=\"1.0\" x2=\"0.0\" y2=\"4.0\">\n          </line>\n          <g transform=\"translate(0.0 7.0 ) \">\n            <text class=\"axis-text-x\" text-anchor=\"middle\" dy=\"0.7em\">\n            1.4\n            </text>\n          </g>\n        </g>\n        <g transform=\"translate(409.84653346063067 0.0 ) \">\n          <line stroke-width=\"1.0\" stroke=\"rgb(71,71,71)\" stroke-opacity=\"1.0\" x2=\"0.0\" y2=\"4.0\">\n          </line>\n          <g transform=\"translate(0.0 7.0 ) \">\n            <text class=\"axis-text-x\" text-anchor=\"middle\" dy=\"0.7em\">\n            1.6\n            </text>\n          </g>\n        </g>\n        <g transform=\"translate(478.80073467377565 0.0 ) \">\n          <line stroke-width=\"1.0\" stroke=\"rgb(71,71,71)\" stroke-opacity=\"1.0\" x2=\"0.0\" y2=\"4.0\">\n          </line>\n          <g transform=\"translate(0.0 7.0 ) \">\n            <text class=\"axis-text-x\" text-anchor=\"middle\" dy=\"0.7em\">\n            1.8\n            </text>\n          </g>\n        </g>\n        <g transform=\"translate(547.7549358869206 0.0 ) \">\n          <line stroke-width=\"1.0\" stroke=\"rgb(71,71,71)\" stroke-opacity=\"1.0\" x2=\"0.0\" y2=\"4.0\">\n          </line>\n          <g transform=\"translate(0.0 7.0 ) \">\n            <text class=\"axis-text-x\" text-anchor=\"middle\" dy=\"0.7em\">\n            2.0\n            </text>\n          </g>\n        </g>\n        <line x1=\"0.0\" y1=\"0.0\" x2=\"578.353362675254\" y2=\"0.0\" stroke-width=\"1.0\" stroke=\"rgb(71,71,71)\" stroke-opacity=\"1.0\">\n        </line>\n      </g>\n      <g transform=\"translate(21.961210910936405 0.0 ) \">\n        <line x1=\"0.0\" y1=\"318.7373614639714\" x2=\"578.353362675254\" y2=\"318.7373614639714\" stroke=\"rgb(233,233,233)\" stroke-opacity=\"1.0\" stroke-width=\"1.0\">\n        </line>\n        <line x1=\"0.0\" y1=\"255.40660554512317\" x2=\"578.353362675254\" y2=\"255.40660554512317\" stroke=\"rgb(233,233,233)\" stroke-opacity=\"1.0\" stroke-width=\"1.0\">\n        </line>\n        <line x1=\"0.0\" y1=\"192.0758496262749\" x2=\"578.353362675254\" y2=\"192.0758496262749\" stroke=\"rgb(233,233,233)\" stroke-opacity=\"1.0\" stroke-width=\"1.0\">\n        </line>\n        <line x1=\"0.0\" y1=\"128.74509370742663\" x2=\"578.353362675254\" y2=\"128.74509370742663\" stroke=\"rgb(233,233,233)\" stroke-opacity=\"1.0\" stroke-width=\"1.0\">\n        </line>\n        <line x1=\"0.0\" y1=\"65.4143377885784\" x2=\"578.353362675254\" y2=\"65.4143377885784\" stroke=\"rgb(233,233,233)\" stroke-opacity=\"1.0\" stroke-width=\"1.0\">\n        </line>\n        <g transform=\"translate(0.0 318.7373614639714 ) \">\n          <g transform=\"translate(-3.0 0.0 ) \">\n            <text class=\"axis-text-y\" text-anchor=\"end\" dy=\"0.35em\">\n            5\n            </text>\n          </g>\n        </g>\n        <g transform=\"translate(0.0 255.40660554512317 ) \">\n          <g transform=\"translate(-3.0 0.0 ) \">\n            <text class=\"axis-text-y\" text-anchor=\"end\" dy=\"0.35em\">\n            10\n            </text>\n          </g>\n        </g>\n        <g transform=\"translate(0.0 192.0758496262749 ) \">\n          <g transform=\"translate(-3.0 0.0 ) \">\n            <text class=\"axis-text-y\" text-anchor=\"end\" dy=\"0.35em\">\n            15\n            </text>\n          </g>\n        </g>\n        <g transform=\"translate(0.0 128.74509370742663 ) \">\n          <g transform=\"translate(-3.0 0.0 ) \">\n            <text class=\"axis-text-y\" text-anchor=\"end\" dy=\"0.35em\">\n            20\n            </text>\n          </g>\n        </g>\n        <g transform=\"translate(0.0 65.4143377885784 ) \">\n          <g transform=\"translate(-3.0 0.0 ) \">\n            <text class=\"axis-text-y\" text-anchor=\"end\" dy=\"0.35em\">\n            25\n            </text>\n          </g>\n        </g>\n        <g transform=\"translate(0.0 2.0835818697300965 ) \">\n          <g transform=\"translate(-3.0 0.0 ) \">\n            <text class=\"axis-text-y\" text-anchor=\"end\" dy=\"0.35em\">\n            30\n            </text>\n          </g>\n        </g>\n      </g>\n      <g transform=\"translate(21.961210910936405 0.0 ) \" clip-path=\"url(#crR4XP1)\" clip-bounds-jfx=\"[rect (0.0, 0.0), (578.353362675254, 344.0)]\">\n        <defs>\n          <clipPath id=\"crR4XP1\">\n            <rect x=\"0.0\" y=\"0.0\" width=\"578.353362675254\" height=\"344.0\">\n            </rect>\n          </clipPath>\n        </defs>\n        <line x1=\"26.288789212511546\" y1=\"232.2275488788247\" x2=\"26.288789212511546\" y2=\"184.09617438050003\" stroke=\"rgb(252,132,82)\" stroke-opacity=\"1.0\" fill=\"rgb(17,142,216)\" fill-opacity=\"1.0\" stroke-width=\"1.0\">\n        </line>\n        <g>\n          \n          <g >\n            <circle fill=\"#fc8452\" stroke=\"#fc8452\" stroke-opacity=\"0.0\" stroke-width=\"0.0\" cx=\"26.288789212511546\" cy=\"214.4949372215472\" r=\"2.75\" />\n          </g>\n        </g>\n        <line x1=\"198.6742922453741\" y1=\"113.5457122869031\" x2=\"198.6742922453741\" y2=\"66.68095290695538\" stroke=\"rgb(252,132,82)\" stroke-opacity=\"1.0\" fill=\"rgb(17,142,216)\" fill-opacity=\"1.0\" stroke-width=\"1.0\">\n        </line>\n        <g>\n          \n          <g >\n            <circle fill=\"#fc8452\" stroke=\"#fc8452\" stroke-opacity=\"0.0\" stroke-width=\"0.0\" cx=\"198.6742922453741\" cy=\"94.54648551124859\" r=\"2.75\" />\n          </g>\n        </g>\n        <line x1=\"543.4452983110992\" y1=\"71.74741338046323\" x2=\"543.4452983110992\" y2=\"38.68875879082441\" stroke=\"rgb(252,132,82)\" stroke-opacity=\"1.0\" fill=\"rgb(17,142,216)\" fill-opacity=\"1.0\" stroke-width=\"1.0\">\n        </line>\n        <g>\n          \n          <g >\n            <circle fill=\"#fc8452\" stroke=\"#fc8452\" stroke-opacity=\"0.0\" stroke-width=\"0.0\" cx=\"543.4452983110992\" cy=\"51.988217533782574\" r=\"2.75\" />\n          </g>\n        </g>\n        <line x1=\"34.908064364154654\" y1=\"328.3636363636364\" x2=\"34.908064364154654\" y2=\"246.28697669280902\" stroke=\"rgb(0,128,0)\" stroke-opacity=\"1.0\" fill=\"rgb(17,142,216)\" fill-opacity=\"1.0\" stroke-width=\"1.0\">\n        </line>\n        <g>\n          \n          <g >\n            <circle fill=\"#008000\" stroke=\"#008000\" stroke-opacity=\"0.0\" stroke-width=\"0.0\" cx=\"34.908064364154654\" cy=\"280.9922309363379\" r=\"2.75\" />\n          </g>\n        </g>\n        <line x1=\"207.29356739701723\" y1=\"188.7826503184948\" x2=\"207.29356739701723\" y2=\"137.86472255974078\" stroke=\"rgb(0,128,0)\" stroke-opacity=\"1.0\" fill=\"rgb(17,142,216)\" fill-opacity=\"1.0\" stroke-width=\"1.0\">\n        </line>\n        <g>\n          \n          <g >\n            <circle fill=\"#008000\" stroke=\"#008000\" stroke-opacity=\"0.0\" stroke-width=\"0.0\" cx=\"207.29356739701723\" cy=\"169.65676203100264\" r=\"2.75\" />\n          </g>\n        </g>\n        <line x1=\"552.0645734627424\" y1=\"86.31348724179827\" x2=\"552.0645734627424\" y2=\"15.636363636363626\" stroke=\"rgb(0,128,0)\" stroke-opacity=\"1.0\" fill=\"rgb(17,142,216)\" fill-opacity=\"1.0\" stroke-width=\"1.0\">\n        </line>\n        <g>\n          \n          <g >\n            <circle fill=\"#008000\" stroke=\"#008000\" stroke-opacity=\"0.0\" stroke-width=\"0.0\" cx=\"552.0645734627424\" cy=\"50.97492543908095\" r=\"2.75\" />\n          </g>\n        </g>\n      </g>\n      <g transform=\"translate(21.961210910936405 0.0 ) \" clip-path=\"url(#cDC1tL2)\" clip-bounds-jfx=\"[rect (0.0, 0.0), (578.353362675254, 344.0)]\">\n        <defs>\n          <clipPath id=\"cDC1tL2\">\n            <rect x=\"0.0\" y=\"0.0\" width=\"578.353362675254\" height=\"344.0\">\n            </rect>\n          </clipPath>\n        </defs>\n        <g>\n          <path d=\"M26.288789212511546 214.4949372215472 L26.288789212511546 214.4949372215472 L198.6742922453741 94.54648551124859 L543.4452983110992 51.988217533782574 \" fill=\"none\" stroke-width=\"1.0\" stroke=\"rgb(252,132,82)\" stroke-opacity=\"1.0\">\n          </path>\n        </g>\n        <g>\n          <path d=\"M34.908064364154654 280.9922309363379 L34.908064364154654 280.9922309363379 L207.29356739701723 169.65676203100264 L552.0645734627424 50.97492543908095 \" fill=\"none\" stroke-width=\"1.0\" stroke=\"rgb(0,128,0)\" stroke-opacity=\"1.0\">\n          </path>\n        </g>\n      </g>\n    </g>\n    <g transform=\"translate(14.5 182.0 ) rotate(-90.0 ) \">\n      <text class=\"axis-title-y\" y=\"0.0\" text-anchor=\"middle\">\n      Tooth length (mm)\n      </text>\n    </g>\n    <g transform=\"translate(334.1378922485634 391.5 ) \">\n      <text class=\"axis-title-x\" y=\"0.0\" text-anchor=\"middle\">\n      Dose (mg)\n      </text>\n    </g>\n    <g transform=\"translate(633.3145735861904 137.75 ) \">\n      <rect x=\"5.0\" y=\"5.0\" height=\"78.5\" width=\"56.685426413809644\" stroke=\"rgb(71,71,71)\" stroke-opacity=\"1.0\" stroke-width=\"0.0\" fill=\"rgb(255,255,255)\" fill-opacity=\"1.0\">\n      </rect>\n      <g transform=\"translate(10.0 10.0 ) \">\n        <g transform=\"translate(0.0 10.5 ) \">\n          <text class=\"legend-title\" y=\"0.0\">\n          supp\n          </text>\n        </g>\n        <g transform=\"translate(0.0 22.5 ) \">\n          <g transform=\"\">\n            <g>\n              <rect x=\"0.0\" y=\"0.0\" height=\"23.0\" width=\"23.0\" stroke-width=\"0.0\" fill=\"rgb(255,255,255)\" fill-opacity=\"1.0\">\n              </rect>\n              <g transform=\"translate(1.0 1.0 ) \">\n                <g>\n                  <g>\n                    <line x1=\"10.5\" y1=\"0.0\" x2=\"10.5\" y2=\"21.0\" stroke=\"rgb(252,132,82)\" stroke-opacity=\"1.0\" fill=\"rgb(17,142,216)\" fill-opacity=\"1.0\" stroke-width=\"1.0\">\n                    </line>\n                  </g>\n                  <g>\n                    \n                    <g >\n                      <circle fill=\"#fc8452\" stroke=\"#fc8452\" stroke-opacity=\"0.0\" stroke-width=\"0.0\" cx=\"10.5\" cy=\"10.5\" r=\"2.75\" />\n                    </g>\n                  </g>\n                </g>\n                <g>\n                  <line x1=\"0.0\" y1=\"10.5\" x2=\"21.0\" y2=\"10.5\" stroke=\"rgb(252,132,82)\" stroke-opacity=\"1.0\" fill=\"rgb(17,142,216)\" fill-opacity=\"1.0\" stroke-width=\"1.0\">\n                  </line>\n                </g>\n              </g>\n              <rect x=\"0.0\" y=\"0.0\" height=\"23.0\" width=\"23.0\" stroke=\"rgb(255,255,255)\" stroke-opacity=\"1.0\" stroke-width=\"1.0\" fill-opacity=\"0.0\">\n              </rect>\n            </g>\n            <g transform=\"translate(26.9903027277341 16.05 ) \">\n              <text class=\"legend-item\" y=\"0.0\">\n              OJ\n              </text>\n            </g>\n          </g>\n          <g transform=\"translate(0.0 23.0 ) \">\n            <g>\n              <rect x=\"0.0\" y=\"0.0\" height=\"23.0\" width=\"23.0\" stroke-width=\"0.0\" fill=\"rgb(255,255,255)\" fill-opacity=\"1.0\">\n              </rect>\n              <g transform=\"translate(1.0 1.0 ) \">\n                <g>\n                  <g>\n                    <line x1=\"10.5\" y1=\"0.0\" x2=\"10.5\" y2=\"21.0\" stroke=\"rgb(0,128,0)\" stroke-opacity=\"1.0\" fill=\"rgb(17,142,216)\" fill-opacity=\"1.0\" stroke-width=\"1.0\">\n                    </line>\n                  </g>\n                  <g>\n                    \n                    <g >\n                      <circle fill=\"#008000\" stroke=\"#008000\" stroke-opacity=\"0.0\" stroke-width=\"0.0\" cx=\"10.5\" cy=\"10.5\" r=\"2.75\" />\n                    </g>\n                  </g>\n                </g>\n                <g>\n                  <line x1=\"0.0\" y1=\"10.5\" x2=\"21.0\" y2=\"10.5\" stroke=\"rgb(0,128,0)\" stroke-opacity=\"1.0\" fill=\"rgb(17,142,216)\" fill-opacity=\"1.0\" stroke-width=\"1.0\">\n                  </line>\n                </g>\n              </g>\n              <rect x=\"0.0\" y=\"0.0\" height=\"23.0\" width=\"23.0\" stroke=\"rgb(255,255,255)\" stroke-opacity=\"1.0\" stroke-width=\"1.0\" fill-opacity=\"0.0\">\n              </rect>\n            </g>\n            <g transform=\"translate(26.9903027277341 16.05 ) \">\n              <text class=\"legend-item\" y=\"0.0\">\n              VC\n              </text>\n            </g>\n          </g>\n        </g>\n      </g>\n    </g>\n  </g>\n  <g id=\"dh1bvfR\">\n  </g>\n</svg>\n        <script>document.getElementById(\"107f68ce-cd5b-4ed1-9580-5887907b8867\").style.display = \"none\";</script>",
      "application/plot+json": {
       "output_type": "lets_plot_spec",
       "output": {
        "mapping": {},
        "data": {
         "dose": [
          0.5,
          1.0,
          2.0,
          0.5,
          1.0,
          2.0
         ],
         "supp": [
          "OJ",
          "OJ",
          "OJ",
          "VC",
          "VC",
          "VC"
         ],
         "length": [
          13.23,
          22.7,
          26.06,
          7.98,
          16.77,
          26.14
         ],
         "len_min": [
          11.83,
          21.2,
          24.5,
          4.24,
          15.26,
          23.35
         ],
         "len_max": [
          15.63,
          24.9,
          27.11,
          10.72,
          19.28,
          28.93
         ]
        },
        "ggsize": {
         "width": 700.0,
         "height": 400.0
        },
        "kind": "plot",
        "scales": [
         {
          "aesthetic": "x",
          "limits": [
           null,
           null
          ]
         },
         {
          "aesthetic": "y",
          "limits": [
           null,
           null
          ]
         },
         {
          "aesthetic": "color",
          "values": [
           "#fc8452",
           "dark_green"
          ]
         },
         {
          "aesthetic": "x",
          "limits": [
           null,
           null
          ]
         },
         {
          "aesthetic": "y",
          "limits": [
           null,
           null
          ]
         },
         {
          "aesthetic": "color",
          "values": [
           "#fc8452",
           "dark_green"
          ]
         },
         {
          "aesthetic": "x",
          "name": "Dose (mg)"
         },
         {
          "aesthetic": "y",
          "name": "Tooth length (mm)"
         }
        ],
        "layers": [
         {
          "mapping": {
           "x": "dose",
           "y": "length",
           "ymin": "len_min",
           "ymax": "len_max",
           "color": "supp"
          },
          "stat": "identity",
          "sampling": "none",
          "position": {
           "name": "dodge",
           "width": 0.1
          },
          "geom": "pointrange"
         },
         {
          "mapping": {
           "x": "dose",
           "y": "length",
           "color": "supp"
          },
          "stat": "identity",
          "sampling": "none",
          "position": {
           "name": "dodge",
           "width": 0.1
          },
          "geom": "line"
         }
        ]
       },
       "apply_color_scheme": true,
       "swing_enabled": true
      }
     },
     "execution_count": 12,
     "metadata": {},
     "output_type": "execute_result"
    }
   ],
   "source": [
    "plot(data) {\n",
    "    x(dose)\n",
    "\n",
    "    pointRange {\n",
    "        y(length)\n",
    "        yMin(lenMin)\n",
    "        yMax(lenMax)\n",
    "\n",
    "        color(supp) { scale = customColorScale }\n",
    "        position = posD\n",
    "    }\n",
    "\n",
    "    line {\n",
    "        y(length)\n",
    "        color(supp) { scale = customColorScale }\n",
    "\n",
    "        position = posD\n",
    "    }\n",
    "    \n",
    "    layout {\n",
    "         size = 700 to 400\n",
    "         xAxisLabel = \"Dose (mg)\"\n",
    "         yAxisLabel = \"Tooth length (mm)\"\n",
    "     }\n",
    "}"
   ]
  },
  {
   "cell_type": "code",
   "execution_count": 13,
   "metadata": {},
   "outputs": [
    {
     "data": {
      "text/html": "            <script type=\"text/javascript\" data-lets-plot-script=\"library\" src=\"https://cdn.jsdelivr.net/gh/JetBrains/lets-plot@v3.1.0/js-package/distr/lets-plot.min.js\"></script>    \n               <div id=\"rbOrUV\"></div>\n   <script type=\"text/javascript\" data-lets-plot-script=\"plot\">\n       var plotSpec={\n\"mapping\":{\n},\n\"data\":{\n\"dose\":[0.5,1.0,2.0,0.5,1.0,2.0],\n\"supp\":[\"OJ\",\"OJ\",\"OJ\",\"VC\",\"VC\",\"VC\"],\n\"length\":[13.23,22.7,26.06,7.98,16.77,26.14],\n\"len_min\":[11.83,21.2,24.5,4.24,15.26,23.35],\n\"len_max\":[15.63,24.9,27.11,10.72,19.28,28.93]\n},\n\"ggsize\":{\n\"width\":700.0,\n\"height\":400.0\n},\n\"kind\":\"plot\",\n\"scales\":[{\n\"aesthetic\":\"x\",\n\"limits\":[null,null]\n},{\n\"aesthetic\":\"y\",\n\"limits\":[null,null]\n},{\n\"aesthetic\":\"color\",\n\"values\":[\"#fc8452\",\"dark_green\"]\n},{\n\"aesthetic\":\"x\",\n\"limits\":[null,null]\n},{\n\"aesthetic\":\"y\",\n\"limits\":[null,null]\n},{\n\"aesthetic\":\"fill\",\n\"values\":[\"#fc8452\",\"dark_green\"]\n},{\n\"aesthetic\":\"x\",\n\"name\":\"Dose (mg)\"\n},{\n\"aesthetic\":\"y\",\n\"name\":\"Tooth length (mm)\"\n}],\n\"layers\":[{\n\"mapping\":{\n\"x\":\"dose\",\n\"y\":\"length\",\n\"color\":\"supp\"\n},\n\"stat\":\"identity\",\n\"sampling\":\"none\",\n\"position\":{\n\"name\":\"dodge\",\n\"width\":0.1\n},\n\"geom\":\"line\",\n\"data\":{\n}\n},{\n\"mapping\":{\n\"x\":\"dose\",\n\"y\":\"length\",\n\"ymin\":\"len_min\",\n\"ymax\":\"len_max\",\n\"fill\":\"supp\"\n},\n\"stat\":\"identity\",\n\"size\":5.0,\n\"color\":\"#E6E6E6\",\n\"shape\":23.0,\n\"sampling\":\"none\",\n\"position\":{\n\"name\":\"dodge\",\n\"width\":0.1\n},\n\"geom\":\"pointrange\",\n\"fatten\":1.0,\n\"data\":{\n}\n}]\n};\n       var plotContainer = document.getElementById(\"rbOrUV\");\n       LetsPlot.buildPlotFromProcessedSpecs(plotSpec, -1, -1, plotContainer);\n   </script>            \n        <svg id=d10b55bd-5067-4b68-8e26-b349ec455da9 xmlns=\"http://www.w3.org/2000/svg\" xmlns:xlink=\"http://www.w3.org/1999/xlink\" class=\"plt-container\" width=\"700.0\" height=\"400.0\">\n  <style type=\"text/css\">\n  .plt-container {\n   font-family: Lucida Grande, sans-serif;\n   user-select: none;\n   -webkit-user-select: none;\n   -moz-user-select: none;\n   -ms-user-select: none;\n}\ntext {\n   text-rendering: optimizeLegibility;\n}\n#pUW71r3 .plot-title {\n   fill: #474747;\n   font-family: Lucida Grande, sans-serif;\n   font-size: 16.0px;\n   font-weight: normal;\n   font-style: normal;   \n}\n#pUW71r3 .plot-subtitle {\n   fill: #474747;\n   font-family: Lucida Grande, sans-serif;\n   font-size: 15.0px;\n   font-weight: normal;\n   font-style: normal;   \n}\n#pUW71r3 .plot-caption {\n   fill: #474747;\n   font-family: Lucida Grande, sans-serif;\n   font-size: 13.0px;\n   font-weight: normal;\n   font-style: normal;   \n}\n#pUW71r3 .legend-title {\n   fill: #474747;\n   font-family: Lucida Grande, sans-serif;\n   font-size: 15.0px;\n   font-weight: normal;\n   font-style: normal;   \n}\n#pUW71r3 .legend-item {\n   fill: #474747;\n   font-family: Lucida Grande, sans-serif;\n   font-size: 13.0px;\n   font-weight: normal;\n   font-style: normal;   \n}\n#pUW71r3 .axis-title-x {\n   fill: #474747;\n   font-family: Lucida Grande, sans-serif;\n   font-size: 15.0px;\n   font-weight: normal;\n   font-style: normal;   \n}\n#pUW71r3 .axis-text-x {\n   fill: #474747;\n   font-family: Lucida Grande, sans-serif;\n   font-size: 13.0px;\n   font-weight: normal;\n   font-style: normal;   \n}\n#dnNEtw1 .axis-tooltip-text-x {\n   fill: #ffffff;\n   font-family: Lucida Grande, sans-serif;\n   font-size: 13.0px;\n   font-weight: normal;\n   font-style: normal;   \n}\n#pUW71r3 .axis-title-y {\n   fill: #474747;\n   font-family: Lucida Grande, sans-serif;\n   font-size: 15.0px;\n   font-weight: normal;\n   font-style: normal;   \n}\n#pUW71r3 .axis-text-y {\n   fill: #474747;\n   font-family: Lucida Grande, sans-serif;\n   font-size: 13.0px;\n   font-weight: normal;\n   font-style: normal;   \n}\n#dnNEtw1 .axis-tooltip-text-y {\n   fill: #ffffff;\n   font-family: Lucida Grande, sans-serif;\n   font-size: 13.0px;\n   font-weight: normal;\n   font-style: normal;   \n}\n#pUW71r3 .facet-strip-text-x {\n   fill: #474747;\n   font-family: Lucida Grande, sans-serif;\n   font-size: 13.0px;\n   font-weight: normal;\n   font-style: normal;   \n}\n#pUW71r3 .facet-strip-text-y {\n   fill: #474747;\n   font-family: Lucida Grande, sans-serif;\n   font-size: 13.0px;\n   font-weight: normal;\n   font-style: normal;   \n}\n#dnNEtw1 .tooltip-text {\n   fill: #474747;\n   font-family: Lucida Grande, sans-serif;\n   font-size: 13.0px;\n   font-weight: normal;\n   font-style: normal;   \n}\n#dnNEtw1 .tooltip-title {\n   fill: #474747;\n   font-family: Lucida Grande, sans-serif;\n   font-size: 13.0px;\n   font-weight: bold;\n   font-style: normal;   \n}\n#dnNEtw1 .tooltip-label {\n   fill: #474747;\n   font-family: Lucida Grande, sans-serif;\n   font-size: 13.0px;\n   font-weight: bold;\n   font-style: normal;   \n}\n\n  </style>\n  <g id=\"pUW71r3\">\n    <rect x=\"0.0\" y=\"0.0\" height=\"400.0\" width=\"700.0\" stroke=\"rgb(71,71,71)\" stroke-opacity=\"1.0\" stroke-width=\"0.0\" fill=\"rgb(255,255,255)\" fill-opacity=\"1.0\">\n    </rect>\n    <g transform=\"translate(23.0 10.0 ) \">\n      <g transform=\"translate(21.961210910936405 344.0 ) \">\n        <line x1=\"65.07552739490566\" y1=\"-0.0\" x2=\"65.07552739490566\" y2=\"-344.0\" stroke=\"rgb(233,233,233)\" stroke-opacity=\"1.0\" stroke-width=\"1.0\">\n        </line>\n        <line x1=\"134.02972860805068\" y1=\"-0.0\" x2=\"134.02972860805068\" y2=\"-344.0\" stroke=\"rgb(233,233,233)\" stroke-opacity=\"1.0\" stroke-width=\"1.0\">\n        </line>\n        <line x1=\"202.98392982119566\" y1=\"-0.0\" x2=\"202.98392982119566\" y2=\"-344.0\" stroke=\"rgb(233,233,233)\" stroke-opacity=\"1.0\" stroke-width=\"1.0\">\n        </line>\n        <line x1=\"271.93813103434064\" y1=\"-0.0\" x2=\"271.93813103434064\" y2=\"-344.0\" stroke=\"rgb(233,233,233)\" stroke-opacity=\"1.0\" stroke-width=\"1.0\">\n        </line>\n        <line x1=\"340.8923322474857\" y1=\"-0.0\" x2=\"340.8923322474857\" y2=\"-344.0\" stroke=\"rgb(233,233,233)\" stroke-opacity=\"1.0\" stroke-width=\"1.0\">\n        </line>\n        <line x1=\"409.84653346063067\" y1=\"-0.0\" x2=\"409.84653346063067\" y2=\"-344.0\" stroke=\"rgb(233,233,233)\" stroke-opacity=\"1.0\" stroke-width=\"1.0\">\n        </line>\n        <line x1=\"478.80073467377565\" y1=\"-0.0\" x2=\"478.80073467377565\" y2=\"-344.0\" stroke=\"rgb(233,233,233)\" stroke-opacity=\"1.0\" stroke-width=\"1.0\">\n        </line>\n        <line x1=\"547.7549358869206\" y1=\"-0.0\" x2=\"547.7549358869206\" y2=\"-344.0\" stroke=\"rgb(233,233,233)\" stroke-opacity=\"1.0\" stroke-width=\"1.0\">\n        </line>\n        <g transform=\"translate(65.07552739490566 0.0 ) \">\n          <line stroke-width=\"1.0\" stroke=\"rgb(71,71,71)\" stroke-opacity=\"1.0\" x2=\"0.0\" y2=\"4.0\">\n          </line>\n          <g transform=\"translate(0.0 7.0 ) \">\n            <text class=\"axis-text-x\" text-anchor=\"middle\" dy=\"0.7em\">\n            0.6\n            </text>\n          </g>\n        </g>\n        <g transform=\"translate(134.02972860805068 0.0 ) \">\n          <line stroke-width=\"1.0\" stroke=\"rgb(71,71,71)\" stroke-opacity=\"1.0\" x2=\"0.0\" y2=\"4.0\">\n          </line>\n          <g transform=\"translate(0.0 7.0 ) \">\n            <text class=\"axis-text-x\" text-anchor=\"middle\" dy=\"0.7em\">\n            0.8\n            </text>\n          </g>\n        </g>\n        <g transform=\"translate(202.98392982119566 0.0 ) \">\n          <line stroke-width=\"1.0\" stroke=\"rgb(71,71,71)\" stroke-opacity=\"1.0\" x2=\"0.0\" y2=\"4.0\">\n          </line>\n          <g transform=\"translate(0.0 7.0 ) \">\n            <text class=\"axis-text-x\" text-anchor=\"middle\" dy=\"0.7em\">\n            1.0\n            </text>\n          </g>\n        </g>\n        <g transform=\"translate(271.93813103434064 0.0 ) \">\n          <line stroke-width=\"1.0\" stroke=\"rgb(71,71,71)\" stroke-opacity=\"1.0\" x2=\"0.0\" y2=\"4.0\">\n          </line>\n          <g transform=\"translate(0.0 7.0 ) \">\n            <text class=\"axis-text-x\" text-anchor=\"middle\" dy=\"0.7em\">\n            1.2\n            </text>\n          </g>\n        </g>\n        <g transform=\"translate(340.8923322474857 0.0 ) \">\n          <line stroke-width=\"1.0\" stroke=\"rgb(71,71,71)\" stroke-opacity=\"1.0\" x2=\"0.0\" y2=\"4.0\">\n          </line>\n          <g transform=\"translate(0.0 7.0 ) \">\n            <text class=\"axis-text-x\" text-anchor=\"middle\" dy=\"0.7em\">\n            1.4\n            </text>\n          </g>\n        </g>\n        <g transform=\"translate(409.84653346063067 0.0 ) \">\n          <line stroke-width=\"1.0\" stroke=\"rgb(71,71,71)\" stroke-opacity=\"1.0\" x2=\"0.0\" y2=\"4.0\">\n          </line>\n          <g transform=\"translate(0.0 7.0 ) \">\n            <text class=\"axis-text-x\" text-anchor=\"middle\" dy=\"0.7em\">\n            1.6\n            </text>\n          </g>\n        </g>\n        <g transform=\"translate(478.80073467377565 0.0 ) \">\n          <line stroke-width=\"1.0\" stroke=\"rgb(71,71,71)\" stroke-opacity=\"1.0\" x2=\"0.0\" y2=\"4.0\">\n          </line>\n          <g transform=\"translate(0.0 7.0 ) \">\n            <text class=\"axis-text-x\" text-anchor=\"middle\" dy=\"0.7em\">\n            1.8\n            </text>\n          </g>\n        </g>\n        <g transform=\"translate(547.7549358869206 0.0 ) \">\n          <line stroke-width=\"1.0\" stroke=\"rgb(71,71,71)\" stroke-opacity=\"1.0\" x2=\"0.0\" y2=\"4.0\">\n          </line>\n          <g transform=\"translate(0.0 7.0 ) \">\n            <text class=\"axis-text-x\" text-anchor=\"middle\" dy=\"0.7em\">\n            2.0\n            </text>\n          </g>\n        </g>\n        <line x1=\"0.0\" y1=\"0.0\" x2=\"578.353362675254\" y2=\"0.0\" stroke-width=\"1.0\" stroke=\"rgb(71,71,71)\" stroke-opacity=\"1.0\">\n        </line>\n      </g>\n      <g transform=\"translate(21.961210910936405 0.0 ) \">\n        <line x1=\"0.0\" y1=\"318.7373614639714\" x2=\"578.353362675254\" y2=\"318.7373614639714\" stroke=\"rgb(233,233,233)\" stroke-opacity=\"1.0\" stroke-width=\"1.0\">\n        </line>\n        <line x1=\"0.0\" y1=\"255.40660554512317\" x2=\"578.353362675254\" y2=\"255.40660554512317\" stroke=\"rgb(233,233,233)\" stroke-opacity=\"1.0\" stroke-width=\"1.0\">\n        </line>\n        <line x1=\"0.0\" y1=\"192.0758496262749\" x2=\"578.353362675254\" y2=\"192.0758496262749\" stroke=\"rgb(233,233,233)\" stroke-opacity=\"1.0\" stroke-width=\"1.0\">\n        </line>\n        <line x1=\"0.0\" y1=\"128.74509370742663\" x2=\"578.353362675254\" y2=\"128.74509370742663\" stroke=\"rgb(233,233,233)\" stroke-opacity=\"1.0\" stroke-width=\"1.0\">\n        </line>\n        <line x1=\"0.0\" y1=\"65.4143377885784\" x2=\"578.353362675254\" y2=\"65.4143377885784\" stroke=\"rgb(233,233,233)\" stroke-opacity=\"1.0\" stroke-width=\"1.0\">\n        </line>\n        <g transform=\"translate(0.0 318.7373614639714 ) \">\n          <g transform=\"translate(-3.0 0.0 ) \">\n            <text class=\"axis-text-y\" text-anchor=\"end\" dy=\"0.35em\">\n            5\n            </text>\n          </g>\n        </g>\n        <g transform=\"translate(0.0 255.40660554512317 ) \">\n          <g transform=\"translate(-3.0 0.0 ) \">\n            <text class=\"axis-text-y\" text-anchor=\"end\" dy=\"0.35em\">\n            10\n            </text>\n          </g>\n        </g>\n        <g transform=\"translate(0.0 192.0758496262749 ) \">\n          <g transform=\"translate(-3.0 0.0 ) \">\n            <text class=\"axis-text-y\" text-anchor=\"end\" dy=\"0.35em\">\n            15\n            </text>\n          </g>\n        </g>\n        <g transform=\"translate(0.0 128.74509370742663 ) \">\n          <g transform=\"translate(-3.0 0.0 ) \">\n            <text class=\"axis-text-y\" text-anchor=\"end\" dy=\"0.35em\">\n            20\n            </text>\n          </g>\n        </g>\n        <g transform=\"translate(0.0 65.4143377885784 ) \">\n          <g transform=\"translate(-3.0 0.0 ) \">\n            <text class=\"axis-text-y\" text-anchor=\"end\" dy=\"0.35em\">\n            25\n            </text>\n          </g>\n        </g>\n        <g transform=\"translate(0.0 2.0835818697300965 ) \">\n          <g transform=\"translate(-3.0 0.0 ) \">\n            <text class=\"axis-text-y\" text-anchor=\"end\" dy=\"0.35em\">\n            30\n            </text>\n          </g>\n        </g>\n      </g>\n      <g transform=\"translate(21.961210910936405 0.0 ) \" clip-path=\"url(#cjNIs6F)\" clip-bounds-jfx=\"[rect (0.0, 0.0), (578.353362675254, 344.0)]\">\n        <defs>\n          <clipPath id=\"cjNIs6F\">\n            <rect x=\"0.0\" y=\"0.0\" width=\"578.353362675254\" height=\"344.0\">\n            </rect>\n          </clipPath>\n        </defs>\n        <g>\n          <path d=\"M26.288789212511546 214.4949372215472 L26.288789212511546 214.4949372215472 L198.6742922453741 94.54648551124859 L543.4452983110992 51.988217533782574 \" fill=\"none\" stroke-width=\"1.0\" stroke=\"rgb(252,132,82)\" stroke-opacity=\"1.0\">\n          </path>\n        </g>\n        <g>\n          <path d=\"M34.908064364154654 280.9922309363379 L34.908064364154654 280.9922309363379 L207.29356739701723 169.65676203100264 L552.0645734627424 50.97492543908095 \" fill=\"none\" stroke-width=\"1.0\" stroke=\"rgb(0,128,0)\" stroke-opacity=\"1.0\">\n          </path>\n        </g>\n      </g>\n      <g transform=\"translate(21.961210910936405 0.0 ) \" clip-path=\"url(#clMetVb)\" clip-bounds-jfx=\"[rect (0.0, 0.0), (578.353362675254, 344.0)]\">\n        <defs>\n          <clipPath id=\"clMetVb\">\n            <rect x=\"0.0\" y=\"0.0\" width=\"578.353362675254\" height=\"344.0\">\n            </rect>\n          </clipPath>\n        </defs>\n        <line x1=\"26.288789212511546\" y1=\"232.2275488788247\" x2=\"26.288789212511546\" y2=\"184.09617438050003\" stroke=\"rgb(230,230,230)\" stroke-opacity=\"1.0\" fill=\"rgb(252,132,82)\" fill-opacity=\"1.0\" stroke-width=\"10.0\">\n        </line>\n        <g>\n          \n          <g >\n            <path fill=\"#fc8452\" stroke=\"#e6e6e6\" stroke-width=\"0.55\" d=\"M26.288789212511546 208.6060284918946 L26.288789212511546 208.6060284918946 L32.177697942164144 214.4949372215472 L26.288789212511546 220.3838459511998 L20.399880482858944 214.4949372215472 Z\" />\n          </g>\n        </g>\n        <line x1=\"198.6742922453741\" y1=\"113.5457122869031\" x2=\"198.6742922453741\" y2=\"66.68095290695538\" stroke=\"rgb(230,230,230)\" stroke-opacity=\"1.0\" fill=\"rgb(252,132,82)\" fill-opacity=\"1.0\" stroke-width=\"10.0\">\n        </line>\n        <g>\n          \n          <g >\n            <path fill=\"#fc8452\" stroke=\"#e6e6e6\" stroke-width=\"0.55\" d=\"M198.6742922453741 88.65757678159599 L198.6742922453741 88.65757678159599 L204.5632009750267 94.54648551124859 L198.6742922453741 100.43539424090119 L192.7853835157215 94.54648551124859 Z\" />\n          </g>\n        </g>\n        <line x1=\"543.4452983110992\" y1=\"71.74741338046323\" x2=\"543.4452983110992\" y2=\"38.68875879082441\" stroke=\"rgb(230,230,230)\" stroke-opacity=\"1.0\" fill=\"rgb(252,132,82)\" fill-opacity=\"1.0\" stroke-width=\"10.0\">\n        </line>\n        <g>\n          \n          <g >\n            <path fill=\"#fc8452\" stroke=\"#e6e6e6\" stroke-width=\"0.55\" d=\"M543.4452983110992 46.099308804129976 L543.4452983110992 46.099308804129976 L549.3342070407518 51.988217533782574 L543.4452983110992 57.87712626343518 L537.5563895814466 51.988217533782574 Z\" />\n          </g>\n        </g>\n        <line x1=\"34.908064364154654\" y1=\"328.3636363636364\" x2=\"34.908064364154654\" y2=\"246.28697669280902\" stroke=\"rgb(230,230,230)\" stroke-opacity=\"1.0\" fill=\"rgb(0,128,0)\" fill-opacity=\"1.0\" stroke-width=\"10.0\">\n        </line>\n        <g>\n          \n          <g >\n            <path fill=\"#008000\" stroke=\"#e6e6e6\" stroke-width=\"0.55\" d=\"M34.908064364154654 275.1033222066853 L34.908064364154654 275.1033222066853 L40.79697309380725 280.9922309363379 L34.908064364154654 286.8811396659905 L29.019155634502052 280.9922309363379 Z\" />\n          </g>\n        </g>\n        <line x1=\"207.29356739701723\" y1=\"188.7826503184948\" x2=\"207.29356739701723\" y2=\"137.86472255974078\" stroke=\"rgb(230,230,230)\" stroke-opacity=\"1.0\" fill=\"rgb(0,128,0)\" fill-opacity=\"1.0\" stroke-width=\"10.0\">\n        </line>\n        <g>\n          \n          <g >\n            <path fill=\"#008000\" stroke=\"#e6e6e6\" stroke-width=\"0.55\" d=\"M207.29356739701723 163.76785330135004 L207.29356739701723 163.76785330135004 L213.18247612666983 169.65676203100264 L207.29356739701723 175.54567076065524 L201.40465866736463 169.65676203100264 Z\" />\n          </g>\n        </g>\n        <line x1=\"552.0645734627424\" y1=\"86.31348724179827\" x2=\"552.0645734627424\" y2=\"15.636363636363626\" stroke=\"rgb(230,230,230)\" stroke-opacity=\"1.0\" fill=\"rgb(0,128,0)\" fill-opacity=\"1.0\" stroke-width=\"10.0\">\n        </line>\n        <g>\n          \n          <g >\n            <path fill=\"#008000\" stroke=\"#e6e6e6\" stroke-width=\"0.55\" d=\"M552.0645734627424 45.08601670942835 L552.0645734627424 45.08601670942835 L557.953482192395 50.97492543908095 L552.0645734627424 56.863834168733554 L546.1756647330898 50.97492543908095 Z\" />\n          </g>\n        </g>\n      </g>\n    </g>\n    <g transform=\"translate(14.5 182.0 ) rotate(-90.0 ) \">\n      <text class=\"axis-title-y\" y=\"0.0\" text-anchor=\"middle\">\n      Tooth length (mm)\n      </text>\n    </g>\n    <g transform=\"translate(334.1378922485634 391.5 ) \">\n      <text class=\"axis-title-x\" y=\"0.0\" text-anchor=\"middle\">\n      Dose (mg)\n      </text>\n    </g>\n    <g transform=\"translate(633.3145735861904 137.75 ) \">\n      <rect x=\"5.0\" y=\"5.0\" height=\"78.5\" width=\"56.685426413809644\" stroke=\"rgb(71,71,71)\" stroke-opacity=\"1.0\" stroke-width=\"0.0\" fill=\"rgb(255,255,255)\" fill-opacity=\"1.0\">\n      </rect>\n      <g transform=\"translate(10.0 10.0 ) \">\n        <g transform=\"translate(0.0 10.5 ) \">\n          <text class=\"legend-title\" y=\"0.0\">\n          supp\n          </text>\n        </g>\n        <g transform=\"translate(0.0 22.5 ) \">\n          <g transform=\"\">\n            <g>\n              <rect x=\"0.0\" y=\"0.0\" height=\"23.0\" width=\"23.0\" stroke-width=\"0.0\" fill=\"rgb(255,255,255)\" fill-opacity=\"1.0\">\n              </rect>\n              <g transform=\"translate(1.0 1.0 ) \">\n                <g>\n                  <line x1=\"0.0\" y1=\"10.5\" x2=\"21.0\" y2=\"10.5\" stroke=\"rgb(252,132,82)\" stroke-opacity=\"1.0\" fill=\"rgb(17,142,216)\" fill-opacity=\"1.0\" stroke-width=\"1.0\">\n                  </line>\n                </g>\n                <g>\n                  <g>\n                    <line x1=\"10.5\" y1=\"0.0\" x2=\"10.5\" y2=\"21.0\" stroke=\"rgb(230,230,230)\" stroke-opacity=\"1.0\" fill=\"rgb(252,132,82)\" fill-opacity=\"1.0\" stroke-width=\"1.0\">\n                    </line>\n                  </g>\n                  <g>\n                    \n                    <g >\n                      <path fill=\"#fc8452\" stroke=\"#e6e6e6\" stroke-width=\"0.55\" d=\"M10.5 7.361091270347399 L10.5 7.361091270347399 L13.638908729652602 10.5 L10.5 13.638908729652602 L7.361091270347399 10.5 Z\" />\n                    </g>\n                  </g>\n                </g>\n              </g>\n              <rect x=\"0.0\" y=\"0.0\" height=\"23.0\" width=\"23.0\" stroke=\"rgb(255,255,255)\" stroke-opacity=\"1.0\" stroke-width=\"1.0\" fill-opacity=\"0.0\">\n              </rect>\n            </g>\n            <g transform=\"translate(26.9903027277341 16.05 ) \">\n              <text class=\"legend-item\" y=\"0.0\">\n              OJ\n              </text>\n            </g>\n          </g>\n          <g transform=\"translate(0.0 23.0 ) \">\n            <g>\n              <rect x=\"0.0\" y=\"0.0\" height=\"23.0\" width=\"23.0\" stroke-width=\"0.0\" fill=\"rgb(255,255,255)\" fill-opacity=\"1.0\">\n              </rect>\n              <g transform=\"translate(1.0 1.0 ) \">\n                <g>\n                  <line x1=\"0.0\" y1=\"10.5\" x2=\"21.0\" y2=\"10.5\" stroke=\"rgb(0,128,0)\" stroke-opacity=\"1.0\" fill=\"rgb(17,142,216)\" fill-opacity=\"1.0\" stroke-width=\"1.0\">\n                  </line>\n                </g>\n                <g>\n                  <g>\n                    <line x1=\"10.5\" y1=\"0.0\" x2=\"10.5\" y2=\"21.0\" stroke=\"rgb(230,230,230)\" stroke-opacity=\"1.0\" fill=\"rgb(0,128,0)\" fill-opacity=\"1.0\" stroke-width=\"1.0\">\n                    </line>\n                  </g>\n                  <g>\n                    \n                    <g >\n                      <path fill=\"#008000\" stroke=\"#e6e6e6\" stroke-width=\"0.55\" d=\"M10.5 7.361091270347399 L10.5 7.361091270347399 L13.638908729652602 10.5 L10.5 13.638908729652602 L7.361091270347399 10.5 Z\" />\n                    </g>\n                  </g>\n                </g>\n              </g>\n              <rect x=\"0.0\" y=\"0.0\" height=\"23.0\" width=\"23.0\" stroke=\"rgb(255,255,255)\" stroke-opacity=\"1.0\" stroke-width=\"1.0\" fill-opacity=\"0.0\">\n              </rect>\n            </g>\n            <g transform=\"translate(26.9903027277341 16.05 ) \">\n              <text class=\"legend-item\" y=\"0.0\">\n              VC\n              </text>\n            </g>\n          </g>\n        </g>\n      </g>\n    </g>\n  </g>\n  <g id=\"dnNEtw1\">\n  </g>\n</svg>\n        <script>document.getElementById(\"d10b55bd-5067-4b68-8e26-b349ec455da9\").style.display = \"none\";</script>",
      "application/plot+json": {
       "output_type": "lets_plot_spec",
       "output": {
        "mapping": {},
        "data": {
         "dose": [
          0.5,
          1.0,
          2.0,
          0.5,
          1.0,
          2.0
         ],
         "supp": [
          "OJ",
          "OJ",
          "OJ",
          "VC",
          "VC",
          "VC"
         ],
         "length": [
          13.23,
          22.7,
          26.06,
          7.98,
          16.77,
          26.14
         ],
         "len_min": [
          11.83,
          21.2,
          24.5,
          4.24,
          15.26,
          23.35
         ],
         "len_max": [
          15.63,
          24.9,
          27.11,
          10.72,
          19.28,
          28.93
         ]
        },
        "ggsize": {
         "width": 700.0,
         "height": 400.0
        },
        "kind": "plot",
        "scales": [
         {
          "aesthetic": "x",
          "limits": [
           null,
           null
          ]
         },
         {
          "aesthetic": "y",
          "limits": [
           null,
           null
          ]
         },
         {
          "aesthetic": "color",
          "values": [
           "#fc8452",
           "dark_green"
          ]
         },
         {
          "aesthetic": "x",
          "limits": [
           null,
           null
          ]
         },
         {
          "aesthetic": "y",
          "limits": [
           null,
           null
          ]
         },
         {
          "aesthetic": "fill",
          "values": [
           "#fc8452",
           "dark_green"
          ]
         },
         {
          "aesthetic": "x",
          "name": "Dose (mg)"
         },
         {
          "aesthetic": "y",
          "name": "Tooth length (mm)"
         }
        ],
        "layers": [
         {
          "mapping": {
           "x": "dose",
           "y": "length",
           "color": "supp"
          },
          "stat": "identity",
          "sampling": "none",
          "position": {
           "name": "dodge",
           "width": 0.1
          },
          "geom": "line"
         },
         {
          "mapping": {
           "x": "dose",
           "y": "length",
           "ymin": "len_min",
           "ymax": "len_max",
           "fill": "supp"
          },
          "stat": "identity",
          "size": 5.0,
          "color": "#E6E6E6",
          "shape": 23.0,
          "sampling": "none",
          "position": {
           "name": "dodge",
           "width": 0.1
          },
          "geom": "pointrange",
          "fatten": 1.0
         }
        ]
       },
       "apply_color_scheme": true,
       "swing_enabled": true
      }
     },
     "execution_count": 13,
     "metadata": {},
     "output_type": "execute_result"
    }
   ],
   "source": [
    "plot(data) {\n",
    "    x(dose)\n",
    "\n",
    "    line {\n",
    "        y(length)\n",
    "        color(supp) { scale = customColorScale }\n",
    "\n",
    "        position = posD\n",
    "    }\n",
    "\n",
    "    pointRange {\n",
    "        y(length)\n",
    "        yMin(lenMin)\n",
    "        yMax(lenMax)\n",
    "\n",
    "        size = 5.0\n",
    "        \n",
    "        color = Color.rgb(230, 230, 230)\n",
    "        \n",
    "        innerPoint {\n",
    "            fatten = 1.0\n",
    "            symbol = Symbol.DIAMOND_FILLED\n",
    "            fillColor(supp) { scale = customColorScale }\n",
    "        }\n",
    "        \n",
    "        position = posD\n",
    "    }\n",
    "\n",
    "    layout {\n",
    "         size = 700 to 400\n",
    "         xAxisLabel = \"Dose (mg)\"\n",
    "         yAxisLabel = \"Tooth length (mm)\"\n",
    "     }\n",
    "}"
   ]
  }
 ],
 "metadata": {
  "kernelspec": {
   "display_name": "Kotlin",
   "language": "kotlin",
   "name": "kotlin"
  },
  "language_info": {
   "codemirror_mode": "text/x-kotlin",
   "file_extension": ".kt",
   "mimetype": "text/x-kotlin",
   "name": "kotlin",
   "nbconvert_exporter": "",
   "pygments_lexer": "kotlin",
   "version": "1.8.20-Beta"
  }
 },
 "nbformat": 4,
 "nbformat_minor": 4
}
