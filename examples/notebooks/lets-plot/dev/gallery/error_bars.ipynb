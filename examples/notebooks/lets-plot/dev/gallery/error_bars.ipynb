{
 "cells": [
  {
   "cell_type": "markdown",
   "source": [
    "# Error bars charts in Kandy"
   ],
   "metadata": {
    "collapsed": false
   }
  },
  {
   "cell_type": "code",
   "execution_count": 1,
   "metadata": {
    "collapsed": true,
    "ExecuteTime": {
     "end_time": "2023-11-17T11:28:49.877315Z",
     "start_time": "2023-11-17T11:28:41.899338Z"
    }
   },
   "outputs": [],
   "source": [
    "%useLatestDescriptors\n",
    "%use kandy(0.5.0-rc-3)"
   ]
  },
  {
   "cell_type": "markdown",
   "source": [
    "## Simple error bars chart"
   ],
   "metadata": {
    "collapsed": false
   }
  },
  {
   "cell_type": "code",
   "execution_count": 2,
   "outputs": [
    {
     "data": {
      "text/html": "            <iframe src='about:blank' style='border:none !important;' width='600' height='400' srcdoc=\"&lt;html lang=&quot;en&quot;>\n   &lt;head>\n       &lt;style> html, body { margin: 0; overflow: hidden; } &lt;/style>\n       &lt;script type=&quot;text/javascript&quot; data-lets-plot-script=&quot;library&quot; src=&quot;https://cdn.jsdelivr.net/gh/JetBrains/lets-plot@v4.0.1/js-package/distr/lets-plot.min.js&quot;>&lt;/script>\n   &lt;/head>\n   &lt;body>\n          &lt;div id=&quot;nUygH2&quot;>&lt;/div>\n   &lt;script type=&quot;text/javascript&quot; data-lets-plot-script=&quot;plot&quot;>\n       var plotSpec={\n&quot;mapping&quot;:{\n},\n&quot;data&quot;:{\n},\n&quot;kind&quot;:&quot;plot&quot;,\n&quot;scales&quot;:[{\n&quot;aesthetic&quot;:&quot;x&quot;,\n&quot;discrete&quot;:true\n}],\n&quot;layers&quot;:[{\n&quot;mapping&quot;:{\n&quot;x&quot;:&quot;x&quot;,\n&quot;ymin&quot;:&quot;ymin&quot;,\n&quot;ymax&quot;:&quot;ymax&quot;\n},\n&quot;stat&quot;:&quot;identity&quot;,\n&quot;data&quot;:{\n&quot;ymin&quot;:[62.7,64.7,72.1,73.7,68.5],\n&quot;ymax&quot;:[68.9,71.3,78.9,76.5,72.1],\n&quot;x&quot;:[&quot;2018&quot;,&quot;2019&quot;,&quot;2020&quot;,&quot;2021&quot;,&quot;2022&quot;]\n},\n&quot;sampling&quot;:&quot;none&quot;,\n&quot;position&quot;:&quot;dodge&quot;,\n&quot;geom&quot;:&quot;errorbar&quot;\n}]\n};\n       var plotContainer = document.getElementById(&quot;nUygH2&quot;);\n       LetsPlot.buildPlotFromProcessedSpecs(plotSpec, -1, -1, plotContainer);\n   &lt;/script>\n   &lt;/body>\n&lt;/html>\"></iframe>            \n        <svg id=7ae65227-7a70-4b66-a4e4-94c9bd0abacf xmlns=\"http://www.w3.org/2000/svg\" xmlns:xlink=\"http://www.w3.org/1999/xlink\" class=\"plt-container\" width=\"600.0\" height=\"400.0\">\n  <style type=\"text/css\">\n  .plt-container {\n   font-family: Lucida Grande, sans-serif;\n   user-select: none;\n   -webkit-user-select: none;\n   -moz-user-select: none;\n   -ms-user-select: none;\n}\ntext {\n   text-rendering: optimizeLegibility;\n}\n#pt7BM4a .plot-title {\n   fill: #474747;\n   font-family: Lucida Grande, sans-serif;\n   font-size: 16.0px;\n   font-weight: normal;\n   font-style: normal;   \n}\n#pt7BM4a .plot-subtitle {\n   fill: #474747;\n   font-family: Lucida Grande, sans-serif;\n   font-size: 15.0px;\n   font-weight: normal;\n   font-style: normal;   \n}\n#pt7BM4a .plot-caption {\n   fill: #474747;\n   font-family: Lucida Grande, sans-serif;\n   font-size: 13.0px;\n   font-weight: normal;\n   font-style: normal;   \n}\n#pt7BM4a .legend-title {\n   fill: #474747;\n   font-family: Lucida Grande, sans-serif;\n   font-size: 15.0px;\n   font-weight: normal;\n   font-style: normal;   \n}\n#pt7BM4a .legend-item {\n   fill: #474747;\n   font-family: Lucida Grande, sans-serif;\n   font-size: 13.0px;\n   font-weight: normal;\n   font-style: normal;   \n}\n#pt7BM4a .axis-title-x {\n   fill: #474747;\n   font-family: Lucida Grande, sans-serif;\n   font-size: 15.0px;\n   font-weight: normal;\n   font-style: normal;   \n}\n#pt7BM4a .axis-text-x {\n   fill: #474747;\n   font-family: Lucida Grande, sans-serif;\n   font-size: 13.0px;\n   font-weight: normal;\n   font-style: normal;   \n}\n#dtOLnnF .axis-tooltip-text-x {\n   fill: #ffffff;\n   font-family: Lucida Grande, sans-serif;\n   font-size: 13.0px;\n   font-weight: normal;\n   font-style: normal;   \n}\n#pt7BM4a .axis-title-y {\n   fill: #474747;\n   font-family: Lucida Grande, sans-serif;\n   font-size: 15.0px;\n   font-weight: normal;\n   font-style: normal;   \n}\n#pt7BM4a .axis-text-y {\n   fill: #474747;\n   font-family: Lucida Grande, sans-serif;\n   font-size: 13.0px;\n   font-weight: normal;\n   font-style: normal;   \n}\n#dtOLnnF .axis-tooltip-text-y {\n   fill: #ffffff;\n   font-family: Lucida Grande, sans-serif;\n   font-size: 13.0px;\n   font-weight: normal;\n   font-style: normal;   \n}\n#pt7BM4a .facet-strip-text-x {\n   fill: #474747;\n   font-family: Lucida Grande, sans-serif;\n   font-size: 13.0px;\n   font-weight: normal;\n   font-style: normal;   \n}\n#pt7BM4a .facet-strip-text-y {\n   fill: #474747;\n   font-family: Lucida Grande, sans-serif;\n   font-size: 13.0px;\n   font-weight: normal;\n   font-style: normal;   \n}\n#dtOLnnF .tooltip-text {\n   fill: #474747;\n   font-family: Lucida Grande, sans-serif;\n   font-size: 13.0px;\n   font-weight: normal;\n   font-style: normal;   \n}\n#dtOLnnF .tooltip-title {\n   fill: #474747;\n   font-family: Lucida Grande, sans-serif;\n   font-size: 13.0px;\n   font-weight: bold;\n   font-style: normal;   \n}\n#dtOLnnF .tooltip-label {\n   fill: #474747;\n   font-family: Lucida Grande, sans-serif;\n   font-size: 13.0px;\n   font-weight: bold;\n   font-style: normal;   \n}\n\n  </style>\n  <g id=\"pt7BM4a\">\n    <path fill-rule=\"evenodd\" fill=\"rgb(255,255,255)\" fill-opacity=\"1.0\" d=\"M0.0 0.0 L0.0 400.0 L600.0 400.0 L600.0 0.0 Z\">\n    </path>\n    <g transform=\"translate(23.0 10.0 ) \">\n      <g transform=\"translate(21.961210910936405 344.0 ) \">\n        <line x1=\"47.76113100264991\" y1=\"-0.0\" x2=\"47.76113100264991\" y2=\"-344.0\" stroke=\"rgb(233,233,233)\" stroke-opacity=\"1.0\" stroke-width=\"1.0\">\n        </line>\n        <line x1=\"160.14026277359088\" y1=\"-0.0\" x2=\"160.14026277359088\" y2=\"-344.0\" stroke=\"rgb(233,233,233)\" stroke-opacity=\"1.0\" stroke-width=\"1.0\">\n        </line>\n        <line x1=\"272.51939454453185\" y1=\"-0.0\" x2=\"272.51939454453185\" y2=\"-344.0\" stroke=\"rgb(233,233,233)\" stroke-opacity=\"1.0\" stroke-width=\"1.0\">\n        </line>\n        <line x1=\"384.8985263154728\" y1=\"-0.0\" x2=\"384.8985263154728\" y2=\"-344.0\" stroke=\"rgb(233,233,233)\" stroke-opacity=\"1.0\" stroke-width=\"1.0\">\n        </line>\n        <line x1=\"497.27765808641374\" y1=\"-0.0\" x2=\"497.27765808641374\" y2=\"-344.0\" stroke=\"rgb(233,233,233)\" stroke-opacity=\"1.0\" stroke-width=\"1.0\">\n        </line>\n        <g transform=\"translate(47.76113100264991 0.0 ) \">\n          <line stroke-width=\"1.0\" stroke=\"rgb(71,71,71)\" stroke-opacity=\"1.0\" x2=\"0.0\" y2=\"4.0\">\n          </line>\n          <g transform=\"translate(0.0 7.0 ) \">\n            <text class=\"axis-text-x\" text-anchor=\"middle\" dy=\"0.7em\">\n            2018\n            </text>\n          </g>\n        </g>\n        <g transform=\"translate(160.14026277359088 0.0 ) \">\n          <line stroke-width=\"1.0\" stroke=\"rgb(71,71,71)\" stroke-opacity=\"1.0\" x2=\"0.0\" y2=\"4.0\">\n          </line>\n          <g transform=\"translate(0.0 7.0 ) \">\n            <text class=\"axis-text-x\" text-anchor=\"middle\" dy=\"0.7em\">\n            2019\n            </text>\n          </g>\n        </g>\n        <g transform=\"translate(272.51939454453185 0.0 ) \">\n          <line stroke-width=\"1.0\" stroke=\"rgb(71,71,71)\" stroke-opacity=\"1.0\" x2=\"0.0\" y2=\"4.0\">\n          </line>\n          <g transform=\"translate(0.0 7.0 ) \">\n            <text class=\"axis-text-x\" text-anchor=\"middle\" dy=\"0.7em\">\n            2020\n            </text>\n          </g>\n        </g>\n        <g transform=\"translate(384.8985263154728 0.0 ) \">\n          <line stroke-width=\"1.0\" stroke=\"rgb(71,71,71)\" stroke-opacity=\"1.0\" x2=\"0.0\" y2=\"4.0\">\n          </line>\n          <g transform=\"translate(0.0 7.0 ) \">\n            <text class=\"axis-text-x\" text-anchor=\"middle\" dy=\"0.7em\">\n            2021\n            </text>\n          </g>\n        </g>\n        <g transform=\"translate(497.27765808641374 0.0 ) \">\n          <line stroke-width=\"1.0\" stroke=\"rgb(71,71,71)\" stroke-opacity=\"1.0\" x2=\"0.0\" y2=\"4.0\">\n          </line>\n          <g transform=\"translate(0.0 7.0 ) \">\n            <text class=\"axis-text-x\" text-anchor=\"middle\" dy=\"0.7em\">\n            2022\n            </text>\n          </g>\n        </g>\n        <line x1=\"0.0\" y1=\"0.0\" x2=\"545.0387890890636\" y2=\"0.0\" stroke-width=\"1.0\" stroke=\"rgb(71,71,71)\" stroke-opacity=\"1.0\">\n        </line>\n      </g>\n      <g transform=\"translate(21.961210910936405 0.0 ) \">\n        <line x1=\"0.0\" y1=\"303.2682379349046\" x2=\"545.0387890890636\" y2=\"303.2682379349046\" stroke=\"rgb(233,233,233)\" stroke-opacity=\"1.0\" stroke-width=\"1.0\">\n        </line>\n        <line x1=\"0.0\" y1=\"264.6599326599328\" x2=\"545.0387890890636\" y2=\"264.6599326599328\" stroke=\"rgb(233,233,233)\" stroke-opacity=\"1.0\" stroke-width=\"1.0\">\n        </line>\n        <line x1=\"0.0\" y1=\"226.05162738496074\" x2=\"545.0387890890636\" y2=\"226.05162738496074\" stroke=\"rgb(233,233,233)\" stroke-opacity=\"1.0\" stroke-width=\"1.0\">\n        </line>\n        <line x1=\"0.0\" y1=\"187.4433221099889\" x2=\"545.0387890890636\" y2=\"187.4433221099889\" stroke=\"rgb(233,233,233)\" stroke-opacity=\"1.0\" stroke-width=\"1.0\">\n        </line>\n        <line x1=\"0.0\" y1=\"148.83501683501686\" x2=\"545.0387890890636\" y2=\"148.83501683501686\" stroke=\"rgb(233,233,233)\" stroke-opacity=\"1.0\" stroke-width=\"1.0\">\n        </line>\n        <line x1=\"0.0\" y1=\"110.22671156004503\" x2=\"545.0387890890636\" y2=\"110.22671156004503\" stroke=\"rgb(233,233,233)\" stroke-opacity=\"1.0\" stroke-width=\"1.0\">\n        </line>\n        <line x1=\"0.0\" y1=\"71.61840628507298\" x2=\"545.0387890890636\" y2=\"71.61840628507298\" stroke=\"rgb(233,233,233)\" stroke-opacity=\"1.0\" stroke-width=\"1.0\">\n        </line>\n        <line x1=\"0.0\" y1=\"33.01010101010115\" x2=\"545.0387890890636\" y2=\"33.01010101010115\" stroke=\"rgb(233,233,233)\" stroke-opacity=\"1.0\" stroke-width=\"1.0\">\n        </line>\n        <g transform=\"translate(0.0 341.87654320987644 ) \">\n          <g transform=\"translate(-3.0 0.0 ) \">\n            <text class=\"axis-text-y\" text-anchor=\"end\" dy=\"0.35em\">\n            62\n            </text>\n          </g>\n        </g>\n        <g transform=\"translate(0.0 303.2682379349046 ) \">\n          <g transform=\"translate(-3.0 0.0 ) \">\n            <text class=\"axis-text-y\" text-anchor=\"end\" dy=\"0.35em\">\n            64\n            </text>\n          </g>\n        </g>\n        <g transform=\"translate(0.0 264.6599326599328 ) \">\n          <g transform=\"translate(-3.0 0.0 ) \">\n            <text class=\"axis-text-y\" text-anchor=\"end\" dy=\"0.35em\">\n            66\n            </text>\n          </g>\n        </g>\n        <g transform=\"translate(0.0 226.05162738496074 ) \">\n          <g transform=\"translate(-3.0 0.0 ) \">\n            <text class=\"axis-text-y\" text-anchor=\"end\" dy=\"0.35em\">\n            68\n            </text>\n          </g>\n        </g>\n        <g transform=\"translate(0.0 187.4433221099889 ) \">\n          <g transform=\"translate(-3.0 0.0 ) \">\n            <text class=\"axis-text-y\" text-anchor=\"end\" dy=\"0.35em\">\n            70\n            </text>\n          </g>\n        </g>\n        <g transform=\"translate(0.0 148.83501683501686 ) \">\n          <g transform=\"translate(-3.0 0.0 ) \">\n            <text class=\"axis-text-y\" text-anchor=\"end\" dy=\"0.35em\">\n            72\n            </text>\n          </g>\n        </g>\n        <g transform=\"translate(0.0 110.22671156004503 ) \">\n          <g transform=\"translate(-3.0 0.0 ) \">\n            <text class=\"axis-text-y\" text-anchor=\"end\" dy=\"0.35em\">\n            74\n            </text>\n          </g>\n        </g>\n        <g transform=\"translate(0.0 71.61840628507298 ) \">\n          <g transform=\"translate(-3.0 0.0 ) \">\n            <text class=\"axis-text-y\" text-anchor=\"end\" dy=\"0.35em\">\n            76\n            </text>\n          </g>\n        </g>\n        <g transform=\"translate(0.0 33.01010101010115 ) \">\n          <g transform=\"translate(-3.0 0.0 ) \">\n            <text class=\"axis-text-y\" text-anchor=\"end\" dy=\"0.35em\">\n            78\n            </text>\n          </g>\n        </g>\n      </g>\n      <g transform=\"translate(21.961210910936405 0.0 ) \" clip-path=\"url(#cwfhLbs)\" clip-bounds-jfx=\"[rect (0.0, 0.0), (545.0387890890636, 344.0)]\">\n        <defs>\n          <clipPath id=\"cwfhLbs\">\n            <rect x=\"0.0\" y=\"0.0\" width=\"545.0387890890636\" height=\"344.0\">\n            </rect>\n          </clipPath>\n        </defs>\n        <g>\n          <line x1=\"22.475826354188197\" y1=\"328.36363636363626\" x2=\"73.04643565111162\" y2=\"328.36363636363626\" stroke=\"rgb(71,71,71)\" stroke-opacity=\"1.0\" fill=\"rgb(17,142,216)\" fill-opacity=\"1.0\" stroke-width=\"1.6500000000000001\">\n          </line>\n          <line x1=\"22.475826354188197\" y1=\"208.67789001122333\" x2=\"73.04643565111162\" y2=\"208.67789001122333\" stroke=\"rgb(71,71,71)\" stroke-opacity=\"1.0\" fill=\"rgb(17,142,216)\" fill-opacity=\"1.0\" stroke-width=\"1.6500000000000001\">\n          </line>\n          <line x1=\"47.76113100264991\" y1=\"328.36363636363626\" x2=\"47.76113100264991\" y2=\"208.67789001122333\" stroke=\"rgb(71,71,71)\" stroke-opacity=\"1.0\" fill=\"rgb(17,142,216)\" fill-opacity=\"1.0\" stroke-width=\"1.6500000000000001\">\n          </line>\n        </g>\n        <g>\n          <line x1=\"134.85495812512914\" y1=\"289.75533108866443\" x2=\"185.42556742205258\" y2=\"289.75533108866443\" stroke=\"rgb(71,71,71)\" stroke-opacity=\"1.0\" fill=\"rgb(17,142,216)\" fill-opacity=\"1.0\" stroke-width=\"1.6500000000000001\">\n          </line>\n          <line x1=\"134.85495812512914\" y1=\"162.34792368125704\" x2=\"185.42556742205258\" y2=\"162.34792368125704\" stroke=\"rgb(71,71,71)\" stroke-opacity=\"1.0\" fill=\"rgb(17,142,216)\" fill-opacity=\"1.0\" stroke-width=\"1.6500000000000001\">\n          </line>\n          <line x1=\"160.14026277359088\" y1=\"289.75533108866443\" x2=\"160.14026277359088\" y2=\"162.34792368125704\" stroke=\"rgb(71,71,71)\" stroke-opacity=\"1.0\" fill=\"rgb(17,142,216)\" fill-opacity=\"1.0\" stroke-width=\"1.6500000000000001\">\n          </line>\n        </g>\n        <g>\n          <line x1=\"247.2340898960701\" y1=\"146.90460157126836\" x2=\"297.80469919299355\" y2=\"146.90460157126836\" stroke=\"rgb(71,71,71)\" stroke-opacity=\"1.0\" fill=\"rgb(17,142,216)\" fill-opacity=\"1.0\" stroke-width=\"1.6500000000000001\">\n          </line>\n          <line x1=\"247.2340898960701\" y1=\"15.63636363636374\" x2=\"297.80469919299355\" y2=\"15.63636363636374\" stroke=\"rgb(71,71,71)\" stroke-opacity=\"1.0\" fill=\"rgb(17,142,216)\" fill-opacity=\"1.0\" stroke-width=\"1.6500000000000001\">\n          </line>\n          <line x1=\"272.51939454453185\" y1=\"146.90460157126836\" x2=\"272.51939454453185\" y2=\"15.63636363636374\" stroke=\"rgb(71,71,71)\" stroke-opacity=\"1.0\" fill=\"rgb(17,142,216)\" fill-opacity=\"1.0\" stroke-width=\"1.6500000000000001\">\n          </line>\n        </g>\n        <g>\n          <line x1=\"359.61322166701103\" y1=\"116.01795735129076\" x2=\"410.1838309639345\" y2=\"116.01795735129076\" stroke=\"rgb(71,71,71)\" stroke-opacity=\"1.0\" fill=\"rgb(17,142,216)\" fill-opacity=\"1.0\" stroke-width=\"1.6500000000000001\">\n          </line>\n          <line x1=\"359.61322166701103\" y1=\"61.96632996633002\" x2=\"410.1838309639345\" y2=\"61.96632996633002\" stroke=\"rgb(71,71,71)\" stroke-opacity=\"1.0\" fill=\"rgb(17,142,216)\" fill-opacity=\"1.0\" stroke-width=\"1.6500000000000001\">\n          </line>\n          <line x1=\"384.8985263154728\" y1=\"116.01795735129076\" x2=\"384.8985263154728\" y2=\"61.96632996633002\" stroke=\"rgb(71,71,71)\" stroke-opacity=\"1.0\" fill=\"rgb(17,142,216)\" fill-opacity=\"1.0\" stroke-width=\"1.6500000000000001\">\n          </line>\n        </g>\n        <g>\n          <line x1=\"471.99235343795203\" y1=\"216.39955106621778\" x2=\"522.5629627348754\" y2=\"216.39955106621778\" stroke=\"rgb(71,71,71)\" stroke-opacity=\"1.0\" fill=\"rgb(17,142,216)\" fill-opacity=\"1.0\" stroke-width=\"1.6500000000000001\">\n          </line>\n          <line x1=\"471.99235343795203\" y1=\"146.90460157126836\" x2=\"522.5629627348754\" y2=\"146.90460157126836\" stroke=\"rgb(71,71,71)\" stroke-opacity=\"1.0\" fill=\"rgb(17,142,216)\" fill-opacity=\"1.0\" stroke-width=\"1.6500000000000001\">\n          </line>\n          <line x1=\"497.27765808641374\" y1=\"216.39955106621778\" x2=\"497.27765808641374\" y2=\"146.90460157126836\" stroke=\"rgb(71,71,71)\" stroke-opacity=\"1.0\" fill=\"rgb(17,142,216)\" fill-opacity=\"1.0\" stroke-width=\"1.6500000000000001\">\n          </line>\n        </g>\n      </g>\n    </g>\n    <g transform=\"translate(14.5 182.0 ) rotate(-90.0 ) \">\n      <text class=\"axis-title-y\" y=\"0.0\" text-anchor=\"middle\">\n      y\n      </text>\n    </g>\n    <g transform=\"translate(317.4806054554682 391.5 ) \">\n      <text class=\"axis-title-x\" y=\"0.0\" text-anchor=\"middle\">\n      x\n      </text>\n    </g>\n    <path fill=\"rgb(0,0,0)\" fill-opacity=\"0.0\" stroke=\"rgb(71,71,71)\" stroke-opacity=\"1.0\" stroke-width=\"0.0\" d=\"M0.0 0.0 L0.0 400.0 L600.0 400.0 L600.0 0.0 Z\">\n    </path>\n  </g>\n  <g id=\"dtOLnnF\">\n  </g>\n</svg>\n        <script>document.getElementById(\"7ae65227-7a70-4b66-a4e4-94c9bd0abacf\").style.display = \"none\";</script>",
      "application/plot+json": {
       "output_type": "lets_plot_spec",
       "output": {
        "mapping": {},
        "data": {},
        "kind": "plot",
        "scales": [
         {
          "aesthetic": "x",
          "discrete": true
         }
        ],
        "layers": [
         {
          "mapping": {
           "x": "x",
           "ymin": "ymin",
           "ymax": "ymax"
          },
          "stat": "identity",
          "data": {
           "ymin": [
            62.7,
            64.7,
            72.1,
            73.7,
            68.5
           ],
           "ymax": [
            68.9,
            71.3,
            78.9,
            76.5,
            72.1
           ],
           "x": [
            "2018",
            "2019",
            "2020",
            "2021",
            "2022"
           ]
          },
          "sampling": "none",
          "position": "dodge",
          "geom": "errorbar"
         }
        ]
       },
       "apply_color_scheme": true,
       "swing_enabled": true
      }
     },
     "execution_count": 2,
     "metadata": {},
     "output_type": "execute_result"
    }
   ],
   "source": [
    "val years = listOf(\"2018\", \"2019\", \"2020\", \"2021\", \"2022\")\n",
    "val costMin = listOf(62.7, 64.7, 72.1, 73.7, 68.5)\n",
    "val costMax = listOf(68.9, 71.3, 78.9, 76.5, 72.1)\n",
    "plot {\n",
    "    errorBars { \n",
    "        x(years)\n",
    "        yMin(costMin)\n",
    "        yMax(costMax)\n",
    "    }\n",
    "}"
   ],
   "metadata": {
    "collapsed": false,
    "ExecuteTime": {
     "end_time": "2023-11-17T11:28:51.592622Z",
     "start_time": "2023-11-17T11:28:49.880953Z"
    }
   }
  },
  {
   "cell_type": "markdown",
   "source": [
    "## Simple error bars settings"
   ],
   "metadata": {
    "collapsed": false
   }
  },
  {
   "cell_type": "code",
   "execution_count": 3,
   "outputs": [
    {
     "data": {
      "text/html": "            <iframe src='about:blank' style='border:none !important;' width='600' height='400' srcdoc=\"&lt;html lang=&quot;en&quot;>\n   &lt;head>\n       &lt;style> html, body { margin: 0; overflow: hidden; } &lt;/style>\n       &lt;script type=&quot;text/javascript&quot; data-lets-plot-script=&quot;library&quot; src=&quot;https://cdn.jsdelivr.net/gh/JetBrains/lets-plot@v4.0.1/js-package/distr/lets-plot.min.js&quot;>&lt;/script>\n   &lt;/head>\n   &lt;body>\n          &lt;div id=&quot;jQkWke&quot;>&lt;/div>\n   &lt;script type=&quot;text/javascript&quot; data-lets-plot-script=&quot;plot&quot;>\n       var plotSpec={\n&quot;mapping&quot;:{\n},\n&quot;data&quot;:{\n},\n&quot;kind&quot;:&quot;plot&quot;,\n&quot;scales&quot;:[{\n&quot;aesthetic&quot;:&quot;x&quot;,\n&quot;discrete&quot;:true\n}],\n&quot;layers&quot;:[{\n&quot;mapping&quot;:{\n&quot;x&quot;:&quot;x&quot;,\n&quot;ymin&quot;:&quot;ymin&quot;,\n&quot;ymax&quot;:&quot;ymax&quot;\n},\n&quot;stat&quot;:&quot;identity&quot;,\n&quot;data&quot;:{\n&quot;ymin&quot;:[62.7,64.7,72.1,73.7,68.5],\n&quot;ymax&quot;:[68.9,71.3,78.9,76.5,72.1],\n&quot;x&quot;:[&quot;2018&quot;,&quot;2019&quot;,&quot;2020&quot;,&quot;2021&quot;,&quot;2022&quot;]\n},\n&quot;size&quot;:1.5,\n&quot;color&quot;:&quot;#ee6666&quot;,\n&quot;sampling&quot;:&quot;none&quot;,\n&quot;width&quot;:1.1,\n&quot;position&quot;:&quot;dodge&quot;,\n&quot;geom&quot;:&quot;errorbar&quot;\n}]\n};\n       var plotContainer = document.getElementById(&quot;jQkWke&quot;);\n       LetsPlot.buildPlotFromProcessedSpecs(plotSpec, -1, -1, plotContainer);\n   &lt;/script>\n   &lt;/body>\n&lt;/html>\"></iframe>            \n        <svg id=854e61ac-6b59-442a-9e2c-89a6f33b24c8 xmlns=\"http://www.w3.org/2000/svg\" xmlns:xlink=\"http://www.w3.org/1999/xlink\" class=\"plt-container\" width=\"600.0\" height=\"400.0\">\n  <style type=\"text/css\">\n  .plt-container {\n   font-family: Lucida Grande, sans-serif;\n   user-select: none;\n   -webkit-user-select: none;\n   -moz-user-select: none;\n   -ms-user-select: none;\n}\ntext {\n   text-rendering: optimizeLegibility;\n}\n#plBaukk .plot-title {\n   fill: #474747;\n   font-family: Lucida Grande, sans-serif;\n   font-size: 16.0px;\n   font-weight: normal;\n   font-style: normal;   \n}\n#plBaukk .plot-subtitle {\n   fill: #474747;\n   font-family: Lucida Grande, sans-serif;\n   font-size: 15.0px;\n   font-weight: normal;\n   font-style: normal;   \n}\n#plBaukk .plot-caption {\n   fill: #474747;\n   font-family: Lucida Grande, sans-serif;\n   font-size: 13.0px;\n   font-weight: normal;\n   font-style: normal;   \n}\n#plBaukk .legend-title {\n   fill: #474747;\n   font-family: Lucida Grande, sans-serif;\n   font-size: 15.0px;\n   font-weight: normal;\n   font-style: normal;   \n}\n#plBaukk .legend-item {\n   fill: #474747;\n   font-family: Lucida Grande, sans-serif;\n   font-size: 13.0px;\n   font-weight: normal;\n   font-style: normal;   \n}\n#plBaukk .axis-title-x {\n   fill: #474747;\n   font-family: Lucida Grande, sans-serif;\n   font-size: 15.0px;\n   font-weight: normal;\n   font-style: normal;   \n}\n#plBaukk .axis-text-x {\n   fill: #474747;\n   font-family: Lucida Grande, sans-serif;\n   font-size: 13.0px;\n   font-weight: normal;\n   font-style: normal;   \n}\n#duLvBuJ .axis-tooltip-text-x {\n   fill: #ffffff;\n   font-family: Lucida Grande, sans-serif;\n   font-size: 13.0px;\n   font-weight: normal;\n   font-style: normal;   \n}\n#plBaukk .axis-title-y {\n   fill: #474747;\n   font-family: Lucida Grande, sans-serif;\n   font-size: 15.0px;\n   font-weight: normal;\n   font-style: normal;   \n}\n#plBaukk .axis-text-y {\n   fill: #474747;\n   font-family: Lucida Grande, sans-serif;\n   font-size: 13.0px;\n   font-weight: normal;\n   font-style: normal;   \n}\n#duLvBuJ .axis-tooltip-text-y {\n   fill: #ffffff;\n   font-family: Lucida Grande, sans-serif;\n   font-size: 13.0px;\n   font-weight: normal;\n   font-style: normal;   \n}\n#plBaukk .facet-strip-text-x {\n   fill: #474747;\n   font-family: Lucida Grande, sans-serif;\n   font-size: 13.0px;\n   font-weight: normal;\n   font-style: normal;   \n}\n#plBaukk .facet-strip-text-y {\n   fill: #474747;\n   font-family: Lucida Grande, sans-serif;\n   font-size: 13.0px;\n   font-weight: normal;\n   font-style: normal;   \n}\n#duLvBuJ .tooltip-text {\n   fill: #474747;\n   font-family: Lucida Grande, sans-serif;\n   font-size: 13.0px;\n   font-weight: normal;\n   font-style: normal;   \n}\n#duLvBuJ .tooltip-title {\n   fill: #474747;\n   font-family: Lucida Grande, sans-serif;\n   font-size: 13.0px;\n   font-weight: bold;\n   font-style: normal;   \n}\n#duLvBuJ .tooltip-label {\n   fill: #474747;\n   font-family: Lucida Grande, sans-serif;\n   font-size: 13.0px;\n   font-weight: bold;\n   font-style: normal;   \n}\n\n  </style>\n  <g id=\"plBaukk\">\n    <path fill-rule=\"evenodd\" fill=\"rgb(255,255,255)\" fill-opacity=\"1.0\" d=\"M0.0 0.0 L0.0 400.0 L600.0 400.0 L600.0 0.0 Z\">\n    </path>\n    <g transform=\"translate(23.0 10.0 ) \">\n      <g transform=\"translate(21.961210910936405 344.0 ) \">\n        <line x1=\"74.32347123941776\" y1=\"-0.0\" x2=\"74.32347123941776\" y2=\"-344.0\" stroke=\"rgb(233,233,233)\" stroke-opacity=\"1.0\" stroke-width=\"1.0\">\n        </line>\n        <line x1=\"173.42143289197477\" y1=\"-0.0\" x2=\"173.42143289197477\" y2=\"-344.0\" stroke=\"rgb(233,233,233)\" stroke-opacity=\"1.0\" stroke-width=\"1.0\">\n        </line>\n        <line x1=\"272.5193945445318\" y1=\"-0.0\" x2=\"272.5193945445318\" y2=\"-344.0\" stroke=\"rgb(233,233,233)\" stroke-opacity=\"1.0\" stroke-width=\"1.0\">\n        </line>\n        <line x1=\"371.6173561970888\" y1=\"-0.0\" x2=\"371.6173561970888\" y2=\"-344.0\" stroke=\"rgb(233,233,233)\" stroke-opacity=\"1.0\" stroke-width=\"1.0\">\n        </line>\n        <line x1=\"470.7153178496458\" y1=\"-0.0\" x2=\"470.7153178496458\" y2=\"-344.0\" stroke=\"rgb(233,233,233)\" stroke-opacity=\"1.0\" stroke-width=\"1.0\">\n        </line>\n        <g transform=\"translate(74.32347123941776 0.0 ) \">\n          <line stroke-width=\"1.0\" stroke=\"rgb(71,71,71)\" stroke-opacity=\"1.0\" x2=\"0.0\" y2=\"4.0\">\n          </line>\n          <g transform=\"translate(0.0 7.0 ) \">\n            <text class=\"axis-text-x\" text-anchor=\"middle\" dy=\"0.7em\">\n            2018\n            </text>\n          </g>\n        </g>\n        <g transform=\"translate(173.42143289197477 0.0 ) \">\n          <line stroke-width=\"1.0\" stroke=\"rgb(71,71,71)\" stroke-opacity=\"1.0\" x2=\"0.0\" y2=\"4.0\">\n          </line>\n          <g transform=\"translate(0.0 7.0 ) \">\n            <text class=\"axis-text-x\" text-anchor=\"middle\" dy=\"0.7em\">\n            2019\n            </text>\n          </g>\n        </g>\n        <g transform=\"translate(272.5193945445318 0.0 ) \">\n          <line stroke-width=\"1.0\" stroke=\"rgb(71,71,71)\" stroke-opacity=\"1.0\" x2=\"0.0\" y2=\"4.0\">\n          </line>\n          <g transform=\"translate(0.0 7.0 ) \">\n            <text class=\"axis-text-x\" text-anchor=\"middle\" dy=\"0.7em\">\n            2020\n            </text>\n          </g>\n        </g>\n        <g transform=\"translate(371.6173561970888 0.0 ) \">\n          <line stroke-width=\"1.0\" stroke=\"rgb(71,71,71)\" stroke-opacity=\"1.0\" x2=\"0.0\" y2=\"4.0\">\n          </line>\n          <g transform=\"translate(0.0 7.0 ) \">\n            <text class=\"axis-text-x\" text-anchor=\"middle\" dy=\"0.7em\">\n            2021\n            </text>\n          </g>\n        </g>\n        <g transform=\"translate(470.7153178496458 0.0 ) \">\n          <line stroke-width=\"1.0\" stroke=\"rgb(71,71,71)\" stroke-opacity=\"1.0\" x2=\"0.0\" y2=\"4.0\">\n          </line>\n          <g transform=\"translate(0.0 7.0 ) \">\n            <text class=\"axis-text-x\" text-anchor=\"middle\" dy=\"0.7em\">\n            2022\n            </text>\n          </g>\n        </g>\n        <line x1=\"0.0\" y1=\"0.0\" x2=\"545.0387890890636\" y2=\"0.0\" stroke-width=\"1.0\" stroke=\"rgb(71,71,71)\" stroke-opacity=\"1.0\">\n        </line>\n      </g>\n      <g transform=\"translate(21.961210910936405 0.0 ) \">\n        <line x1=\"0.0\" y1=\"303.2682379349046\" x2=\"545.0387890890636\" y2=\"303.2682379349046\" stroke=\"rgb(233,233,233)\" stroke-opacity=\"1.0\" stroke-width=\"1.0\">\n        </line>\n        <line x1=\"0.0\" y1=\"264.6599326599328\" x2=\"545.0387890890636\" y2=\"264.6599326599328\" stroke=\"rgb(233,233,233)\" stroke-opacity=\"1.0\" stroke-width=\"1.0\">\n        </line>\n        <line x1=\"0.0\" y1=\"226.05162738496074\" x2=\"545.0387890890636\" y2=\"226.05162738496074\" stroke=\"rgb(233,233,233)\" stroke-opacity=\"1.0\" stroke-width=\"1.0\">\n        </line>\n        <line x1=\"0.0\" y1=\"187.4433221099889\" x2=\"545.0387890890636\" y2=\"187.4433221099889\" stroke=\"rgb(233,233,233)\" stroke-opacity=\"1.0\" stroke-width=\"1.0\">\n        </line>\n        <line x1=\"0.0\" y1=\"148.83501683501686\" x2=\"545.0387890890636\" y2=\"148.83501683501686\" stroke=\"rgb(233,233,233)\" stroke-opacity=\"1.0\" stroke-width=\"1.0\">\n        </line>\n        <line x1=\"0.0\" y1=\"110.22671156004503\" x2=\"545.0387890890636\" y2=\"110.22671156004503\" stroke=\"rgb(233,233,233)\" stroke-opacity=\"1.0\" stroke-width=\"1.0\">\n        </line>\n        <line x1=\"0.0\" y1=\"71.61840628507298\" x2=\"545.0387890890636\" y2=\"71.61840628507298\" stroke=\"rgb(233,233,233)\" stroke-opacity=\"1.0\" stroke-width=\"1.0\">\n        </line>\n        <line x1=\"0.0\" y1=\"33.01010101010115\" x2=\"545.0387890890636\" y2=\"33.01010101010115\" stroke=\"rgb(233,233,233)\" stroke-opacity=\"1.0\" stroke-width=\"1.0\">\n        </line>\n        <g transform=\"translate(0.0 341.87654320987644 ) \">\n          <g transform=\"translate(-3.0 0.0 ) \">\n            <text class=\"axis-text-y\" text-anchor=\"end\" dy=\"0.35em\">\n            62\n            </text>\n          </g>\n        </g>\n        <g transform=\"translate(0.0 303.2682379349046 ) \">\n          <g transform=\"translate(-3.0 0.0 ) \">\n            <text class=\"axis-text-y\" text-anchor=\"end\" dy=\"0.35em\">\n            64\n            </text>\n          </g>\n        </g>\n        <g transform=\"translate(0.0 264.6599326599328 ) \">\n          <g transform=\"translate(-3.0 0.0 ) \">\n            <text class=\"axis-text-y\" text-anchor=\"end\" dy=\"0.35em\">\n            66\n            </text>\n          </g>\n        </g>\n        <g transform=\"translate(0.0 226.05162738496074 ) \">\n          <g transform=\"translate(-3.0 0.0 ) \">\n            <text class=\"axis-text-y\" text-anchor=\"end\" dy=\"0.35em\">\n            68\n            </text>\n          </g>\n        </g>\n        <g transform=\"translate(0.0 187.4433221099889 ) \">\n          <g transform=\"translate(-3.0 0.0 ) \">\n            <text class=\"axis-text-y\" text-anchor=\"end\" dy=\"0.35em\">\n            70\n            </text>\n          </g>\n        </g>\n        <g transform=\"translate(0.0 148.83501683501686 ) \">\n          <g transform=\"translate(-3.0 0.0 ) \">\n            <text class=\"axis-text-y\" text-anchor=\"end\" dy=\"0.35em\">\n            72\n            </text>\n          </g>\n        </g>\n        <g transform=\"translate(0.0 110.22671156004503 ) \">\n          <g transform=\"translate(-3.0 0.0 ) \">\n            <text class=\"axis-text-y\" text-anchor=\"end\" dy=\"0.35em\">\n            74\n            </text>\n          </g>\n        </g>\n        <g transform=\"translate(0.0 71.61840628507298 ) \">\n          <g transform=\"translate(-3.0 0.0 ) \">\n            <text class=\"axis-text-y\" text-anchor=\"end\" dy=\"0.35em\">\n            76\n            </text>\n          </g>\n        </g>\n        <g transform=\"translate(0.0 33.01010101010115 ) \">\n          <g transform=\"translate(-3.0 0.0 ) \">\n            <text class=\"axis-text-y\" text-anchor=\"end\" dy=\"0.35em\">\n            78\n            </text>\n          </g>\n        </g>\n      </g>\n      <g transform=\"translate(21.961210910936405 0.0 ) \" clip-path=\"url(#cpGL2tP)\" clip-bounds-jfx=\"[rect (0.0, 0.0), (545.0387890890636, 344.0)]\">\n        <defs>\n          <clipPath id=\"cpGL2tP\">\n            <rect x=\"0.0\" y=\"0.0\" width=\"545.0387890890636\" height=\"344.0\">\n            </rect>\n          </clipPath>\n        </defs>\n        <g>\n          <line x1=\"19.81959233051139\" y1=\"328.36363636363626\" x2=\"128.82735014832411\" y2=\"328.36363636363626\" stroke=\"rgb(238,102,102)\" stroke-opacity=\"1.0\" fill=\"rgb(17,142,216)\" fill-opacity=\"1.0\" stroke-width=\"3.3000000000000003\">\n          </line>\n          <line x1=\"19.81959233051139\" y1=\"208.67789001122333\" x2=\"128.82735014832411\" y2=\"208.67789001122333\" stroke=\"rgb(238,102,102)\" stroke-opacity=\"1.0\" fill=\"rgb(17,142,216)\" fill-opacity=\"1.0\" stroke-width=\"3.3000000000000003\">\n          </line>\n          <line x1=\"74.32347123941776\" y1=\"328.36363636363626\" x2=\"74.32347123941776\" y2=\"208.67789001122333\" stroke=\"rgb(238,102,102)\" stroke-opacity=\"1.0\" fill=\"rgb(17,142,216)\" fill-opacity=\"1.0\" stroke-width=\"3.3000000000000003\">\n          </line>\n        </g>\n        <g>\n          <line x1=\"118.91755398306842\" y1=\"289.75533108866443\" x2=\"227.92531180088113\" y2=\"289.75533108866443\" stroke=\"rgb(238,102,102)\" stroke-opacity=\"1.0\" fill=\"rgb(17,142,216)\" fill-opacity=\"1.0\" stroke-width=\"3.3000000000000003\">\n          </line>\n          <line x1=\"118.91755398306842\" y1=\"162.34792368125704\" x2=\"227.92531180088113\" y2=\"162.34792368125704\" stroke=\"rgb(238,102,102)\" stroke-opacity=\"1.0\" fill=\"rgb(17,142,216)\" fill-opacity=\"1.0\" stroke-width=\"3.3000000000000003\">\n          </line>\n          <line x1=\"173.42143289197477\" y1=\"289.75533108866443\" x2=\"173.42143289197477\" y2=\"162.34792368125704\" stroke=\"rgb(238,102,102)\" stroke-opacity=\"1.0\" fill=\"rgb(17,142,216)\" fill-opacity=\"1.0\" stroke-width=\"3.3000000000000003\">\n          </line>\n        </g>\n        <g>\n          <line x1=\"218.01551563562543\" y1=\"146.90460157126836\" x2=\"327.02327345343815\" y2=\"146.90460157126836\" stroke=\"rgb(238,102,102)\" stroke-opacity=\"1.0\" fill=\"rgb(17,142,216)\" fill-opacity=\"1.0\" stroke-width=\"3.3000000000000003\">\n          </line>\n          <line x1=\"218.01551563562543\" y1=\"15.63636363636374\" x2=\"327.02327345343815\" y2=\"15.63636363636374\" stroke=\"rgb(238,102,102)\" stroke-opacity=\"1.0\" fill=\"rgb(17,142,216)\" fill-opacity=\"1.0\" stroke-width=\"3.3000000000000003\">\n          </line>\n          <line x1=\"272.5193945445318\" y1=\"146.90460157126836\" x2=\"272.5193945445318\" y2=\"15.63636363636374\" stroke=\"rgb(238,102,102)\" stroke-opacity=\"1.0\" fill=\"rgb(17,142,216)\" fill-opacity=\"1.0\" stroke-width=\"3.3000000000000003\">\n          </line>\n        </g>\n        <g>\n          <line x1=\"317.1134772881825\" y1=\"116.01795735129076\" x2=\"426.1212351059952\" y2=\"116.01795735129076\" stroke=\"rgb(238,102,102)\" stroke-opacity=\"1.0\" fill=\"rgb(17,142,216)\" fill-opacity=\"1.0\" stroke-width=\"3.3000000000000003\">\n          </line>\n          <line x1=\"317.1134772881825\" y1=\"61.96632996633002\" x2=\"426.1212351059952\" y2=\"61.96632996633002\" stroke=\"rgb(238,102,102)\" stroke-opacity=\"1.0\" fill=\"rgb(17,142,216)\" fill-opacity=\"1.0\" stroke-width=\"3.3000000000000003\">\n          </line>\n          <line x1=\"371.6173561970888\" y1=\"116.01795735129076\" x2=\"371.6173561970888\" y2=\"61.96632996633002\" stroke=\"rgb(238,102,102)\" stroke-opacity=\"1.0\" fill=\"rgb(17,142,216)\" fill-opacity=\"1.0\" stroke-width=\"3.3000000000000003\">\n          </line>\n        </g>\n        <g>\n          <line x1=\"416.21143894073947\" y1=\"216.39955106621778\" x2=\"525.2191967585522\" y2=\"216.39955106621778\" stroke=\"rgb(238,102,102)\" stroke-opacity=\"1.0\" fill=\"rgb(17,142,216)\" fill-opacity=\"1.0\" stroke-width=\"3.3000000000000003\">\n          </line>\n          <line x1=\"416.21143894073947\" y1=\"146.90460157126836\" x2=\"525.2191967585522\" y2=\"146.90460157126836\" stroke=\"rgb(238,102,102)\" stroke-opacity=\"1.0\" fill=\"rgb(17,142,216)\" fill-opacity=\"1.0\" stroke-width=\"3.3000000000000003\">\n          </line>\n          <line x1=\"470.7153178496458\" y1=\"216.39955106621778\" x2=\"470.7153178496458\" y2=\"146.90460157126836\" stroke=\"rgb(238,102,102)\" stroke-opacity=\"1.0\" fill=\"rgb(17,142,216)\" fill-opacity=\"1.0\" stroke-width=\"3.3000000000000003\">\n          </line>\n        </g>\n      </g>\n    </g>\n    <g transform=\"translate(14.5 182.0 ) rotate(-90.0 ) \">\n      <text class=\"axis-title-y\" y=\"0.0\" text-anchor=\"middle\">\n      y\n      </text>\n    </g>\n    <g transform=\"translate(317.4806054554682 391.5 ) \">\n      <text class=\"axis-title-x\" y=\"0.0\" text-anchor=\"middle\">\n      x\n      </text>\n    </g>\n    <path fill=\"rgb(0,0,0)\" fill-opacity=\"0.0\" stroke=\"rgb(71,71,71)\" stroke-opacity=\"1.0\" stroke-width=\"0.0\" d=\"M0.0 0.0 L0.0 400.0 L600.0 400.0 L600.0 0.0 Z\">\n    </path>\n  </g>\n  <g id=\"duLvBuJ\">\n  </g>\n</svg>\n        <script>document.getElementById(\"854e61ac-6b59-442a-9e2c-89a6f33b24c8\").style.display = \"none\";</script>",
      "application/plot+json": {
       "output_type": "lets_plot_spec",
       "output": {
        "mapping": {},
        "data": {},
        "kind": "plot",
        "scales": [
         {
          "aesthetic": "x",
          "discrete": true
         }
        ],
        "layers": [
         {
          "mapping": {
           "x": "x",
           "ymin": "ymin",
           "ymax": "ymax"
          },
          "stat": "identity",
          "data": {
           "ymin": [
            62.7,
            64.7,
            72.1,
            73.7,
            68.5
           ],
           "ymax": [
            68.9,
            71.3,
            78.9,
            76.5,
            72.1
           ],
           "x": [
            "2018",
            "2019",
            "2020",
            "2021",
            "2022"
           ]
          },
          "size": 1.5,
          "color": "#ee6666",
          "sampling": "none",
          "width": 1.1,
          "position": "dodge",
          "geom": "errorbar"
         }
        ]
       },
       "apply_color_scheme": true,
       "swing_enabled": true
      }
     },
     "execution_count": 3,
     "metadata": {},
     "output_type": "execute_result"
    }
   ],
   "source": [
    "plot {\n",
    "    errorBars { \n",
    "        x(years)\n",
    "        yMin(costMin)\n",
    "        yMax(costMax)\n",
    "        width = 1.1\n",
    "        borderLine {\n",
    "            width = 1.5\n",
    "            color = Color.RED\n",
    "        }\n",
    "    }\n",
    "}"
   ],
   "metadata": {
    "collapsed": false,
    "ExecuteTime": {
     "end_time": "2023-11-17T11:28:52.093708Z",
     "start_time": "2023-11-17T11:28:51.590797Z"
    }
   }
  },
  {
   "cell_type": "markdown",
   "source": [
    "## Error bars with line"
   ],
   "metadata": {
    "collapsed": false
   }
  },
  {
   "cell_type": "code",
   "execution_count": 4,
   "outputs": [
    {
     "data": {
      "text/html": "            <iframe src='about:blank' style='border:none !important;' width='600' height='400' srcdoc=\"&lt;html lang=&quot;en&quot;>\n   &lt;head>\n       &lt;style> html, body { margin: 0; overflow: hidden; } &lt;/style>\n       &lt;script type=&quot;text/javascript&quot; data-lets-plot-script=&quot;library&quot; src=&quot;https://cdn.jsdelivr.net/gh/JetBrains/lets-plot@v4.0.1/js-package/distr/lets-plot.min.js&quot;>&lt;/script>\n   &lt;/head>\n   &lt;body>\n          &lt;div id=&quot;GlhGIO&quot;>&lt;/div>\n   &lt;script type=&quot;text/javascript&quot; data-lets-plot-script=&quot;plot&quot;>\n       var plotSpec={\n&quot;mapping&quot;:{\n},\n&quot;data&quot;:{\n&quot;ymin&quot;:[62.7,64.7,72.1,73.7,68.5],\n&quot;ymax&quot;:[68.9,71.3,78.9,76.5,72.1],\n&quot;x&quot;:[&quot;2018&quot;,&quot;2019&quot;,&quot;2020&quot;,&quot;2021&quot;,&quot;2022&quot;],\n&quot;y&quot;:[65.80000000000001,68.0,75.5,75.1,70.3]\n},\n&quot;kind&quot;:&quot;plot&quot;,\n&quot;scales&quot;:[{\n&quot;aesthetic&quot;:&quot;x&quot;,\n&quot;discrete&quot;:true\n},{\n&quot;aesthetic&quot;:&quot;y&quot;,\n&quot;limits&quot;:[null,null]\n},{\n&quot;aesthetic&quot;:&quot;x&quot;,\n&quot;discrete&quot;:true\n},{\n&quot;aesthetic&quot;:&quot;y&quot;,\n&quot;limits&quot;:[null,null]\n}],\n&quot;layers&quot;:[{\n&quot;mapping&quot;:{\n&quot;x&quot;:&quot;x&quot;,\n&quot;y&quot;:&quot;y&quot;\n},\n&quot;stat&quot;:&quot;identity&quot;,\n&quot;color&quot;:&quot;#5470c6&quot;,\n&quot;sampling&quot;:&quot;none&quot;,\n&quot;position&quot;:&quot;identity&quot;,\n&quot;geom&quot;:&quot;line&quot;,\n&quot;data&quot;:{\n}\n},{\n&quot;mapping&quot;:{\n&quot;x&quot;:&quot;x&quot;,\n&quot;y&quot;:&quot;y&quot;,\n&quot;ymin&quot;:&quot;ymin&quot;,\n&quot;ymax&quot;:&quot;ymax&quot;\n},\n&quot;stat&quot;:&quot;identity&quot;,\n&quot;linetype&quot;:&quot;longdash&quot;,\n&quot;sampling&quot;:&quot;none&quot;,\n&quot;position&quot;:&quot;dodge&quot;,\n&quot;geom&quot;:&quot;errorbar&quot;,\n&quot;data&quot;:{\n}\n}]\n};\n       var plotContainer = document.getElementById(&quot;GlhGIO&quot;);\n       LetsPlot.buildPlotFromProcessedSpecs(plotSpec, -1, -1, plotContainer);\n   &lt;/script>\n   &lt;/body>\n&lt;/html>\"></iframe>            \n        <svg id=7c44b5b1-5e6d-49c7-acb9-f4922d41f3b8 xmlns=\"http://www.w3.org/2000/svg\" xmlns:xlink=\"http://www.w3.org/1999/xlink\" class=\"plt-container\" width=\"600.0\" height=\"400.0\">\n  <style type=\"text/css\">\n  .plt-container {\n   font-family: Lucida Grande, sans-serif;\n   user-select: none;\n   -webkit-user-select: none;\n   -moz-user-select: none;\n   -ms-user-select: none;\n}\ntext {\n   text-rendering: optimizeLegibility;\n}\n#pl69DrX .plot-title {\n   fill: #474747;\n   font-family: Lucida Grande, sans-serif;\n   font-size: 16.0px;\n   font-weight: normal;\n   font-style: normal;   \n}\n#pl69DrX .plot-subtitle {\n   fill: #474747;\n   font-family: Lucida Grande, sans-serif;\n   font-size: 15.0px;\n   font-weight: normal;\n   font-style: normal;   \n}\n#pl69DrX .plot-caption {\n   fill: #474747;\n   font-family: Lucida Grande, sans-serif;\n   font-size: 13.0px;\n   font-weight: normal;\n   font-style: normal;   \n}\n#pl69DrX .legend-title {\n   fill: #474747;\n   font-family: Lucida Grande, sans-serif;\n   font-size: 15.0px;\n   font-weight: normal;\n   font-style: normal;   \n}\n#pl69DrX .legend-item {\n   fill: #474747;\n   font-family: Lucida Grande, sans-serif;\n   font-size: 13.0px;\n   font-weight: normal;\n   font-style: normal;   \n}\n#pl69DrX .axis-title-x {\n   fill: #474747;\n   font-family: Lucida Grande, sans-serif;\n   font-size: 15.0px;\n   font-weight: normal;\n   font-style: normal;   \n}\n#pl69DrX .axis-text-x {\n   fill: #474747;\n   font-family: Lucida Grande, sans-serif;\n   font-size: 13.0px;\n   font-weight: normal;\n   font-style: normal;   \n}\n#ddVLlzB .axis-tooltip-text-x {\n   fill: #ffffff;\n   font-family: Lucida Grande, sans-serif;\n   font-size: 13.0px;\n   font-weight: normal;\n   font-style: normal;   \n}\n#pl69DrX .axis-title-y {\n   fill: #474747;\n   font-family: Lucida Grande, sans-serif;\n   font-size: 15.0px;\n   font-weight: normal;\n   font-style: normal;   \n}\n#pl69DrX .axis-text-y {\n   fill: #474747;\n   font-family: Lucida Grande, sans-serif;\n   font-size: 13.0px;\n   font-weight: normal;\n   font-style: normal;   \n}\n#ddVLlzB .axis-tooltip-text-y {\n   fill: #ffffff;\n   font-family: Lucida Grande, sans-serif;\n   font-size: 13.0px;\n   font-weight: normal;\n   font-style: normal;   \n}\n#pl69DrX .facet-strip-text-x {\n   fill: #474747;\n   font-family: Lucida Grande, sans-serif;\n   font-size: 13.0px;\n   font-weight: normal;\n   font-style: normal;   \n}\n#pl69DrX .facet-strip-text-y {\n   fill: #474747;\n   font-family: Lucida Grande, sans-serif;\n   font-size: 13.0px;\n   font-weight: normal;\n   font-style: normal;   \n}\n#ddVLlzB .tooltip-text {\n   fill: #474747;\n   font-family: Lucida Grande, sans-serif;\n   font-size: 13.0px;\n   font-weight: normal;\n   font-style: normal;   \n}\n#ddVLlzB .tooltip-title {\n   fill: #474747;\n   font-family: Lucida Grande, sans-serif;\n   font-size: 13.0px;\n   font-weight: bold;\n   font-style: normal;   \n}\n#ddVLlzB .tooltip-label {\n   fill: #474747;\n   font-family: Lucida Grande, sans-serif;\n   font-size: 13.0px;\n   font-weight: bold;\n   font-style: normal;   \n}\n\n  </style>\n  <g id=\"pl69DrX\">\n    <path fill-rule=\"evenodd\" fill=\"rgb(255,255,255)\" fill-opacity=\"1.0\" d=\"M0.0 0.0 L0.0 400.0 L600.0 400.0 L600.0 0.0 Z\">\n    </path>\n    <g transform=\"translate(23.0 10.0 ) \">\n      <g transform=\"translate(21.961210910936405 344.0 ) \">\n        <line x1=\"47.76113100264991\" y1=\"-0.0\" x2=\"47.76113100264991\" y2=\"-344.0\" stroke=\"rgb(233,233,233)\" stroke-opacity=\"1.0\" stroke-width=\"1.0\">\n        </line>\n        <line x1=\"160.14026277359088\" y1=\"-0.0\" x2=\"160.14026277359088\" y2=\"-344.0\" stroke=\"rgb(233,233,233)\" stroke-opacity=\"1.0\" stroke-width=\"1.0\">\n        </line>\n        <line x1=\"272.51939454453185\" y1=\"-0.0\" x2=\"272.51939454453185\" y2=\"-344.0\" stroke=\"rgb(233,233,233)\" stroke-opacity=\"1.0\" stroke-width=\"1.0\">\n        </line>\n        <line x1=\"384.8985263154728\" y1=\"-0.0\" x2=\"384.8985263154728\" y2=\"-344.0\" stroke=\"rgb(233,233,233)\" stroke-opacity=\"1.0\" stroke-width=\"1.0\">\n        </line>\n        <line x1=\"497.27765808641374\" y1=\"-0.0\" x2=\"497.27765808641374\" y2=\"-344.0\" stroke=\"rgb(233,233,233)\" stroke-opacity=\"1.0\" stroke-width=\"1.0\">\n        </line>\n        <g transform=\"translate(47.76113100264991 0.0 ) \">\n          <line stroke-width=\"1.0\" stroke=\"rgb(71,71,71)\" stroke-opacity=\"1.0\" x2=\"0.0\" y2=\"4.0\">\n          </line>\n          <g transform=\"translate(0.0 7.0 ) \">\n            <text class=\"axis-text-x\" text-anchor=\"middle\" dy=\"0.7em\">\n            2018\n            </text>\n          </g>\n        </g>\n        <g transform=\"translate(160.14026277359088 0.0 ) \">\n          <line stroke-width=\"1.0\" stroke=\"rgb(71,71,71)\" stroke-opacity=\"1.0\" x2=\"0.0\" y2=\"4.0\">\n          </line>\n          <g transform=\"translate(0.0 7.0 ) \">\n            <text class=\"axis-text-x\" text-anchor=\"middle\" dy=\"0.7em\">\n            2019\n            </text>\n          </g>\n        </g>\n        <g transform=\"translate(272.51939454453185 0.0 ) \">\n          <line stroke-width=\"1.0\" stroke=\"rgb(71,71,71)\" stroke-opacity=\"1.0\" x2=\"0.0\" y2=\"4.0\">\n          </line>\n          <g transform=\"translate(0.0 7.0 ) \">\n            <text class=\"axis-text-x\" text-anchor=\"middle\" dy=\"0.7em\">\n            2020\n            </text>\n          </g>\n        </g>\n        <g transform=\"translate(384.8985263154728 0.0 ) \">\n          <line stroke-width=\"1.0\" stroke=\"rgb(71,71,71)\" stroke-opacity=\"1.0\" x2=\"0.0\" y2=\"4.0\">\n          </line>\n          <g transform=\"translate(0.0 7.0 ) \">\n            <text class=\"axis-text-x\" text-anchor=\"middle\" dy=\"0.7em\">\n            2021\n            </text>\n          </g>\n        </g>\n        <g transform=\"translate(497.27765808641374 0.0 ) \">\n          <line stroke-width=\"1.0\" stroke=\"rgb(71,71,71)\" stroke-opacity=\"1.0\" x2=\"0.0\" y2=\"4.0\">\n          </line>\n          <g transform=\"translate(0.0 7.0 ) \">\n            <text class=\"axis-text-x\" text-anchor=\"middle\" dy=\"0.7em\">\n            2022\n            </text>\n          </g>\n        </g>\n        <line x1=\"0.0\" y1=\"0.0\" x2=\"545.0387890890636\" y2=\"0.0\" stroke-width=\"1.0\" stroke=\"rgb(71,71,71)\" stroke-opacity=\"1.0\">\n        </line>\n      </g>\n      <g transform=\"translate(21.961210910936405 0.0 ) \">\n        <line x1=\"0.0\" y1=\"303.2682379349046\" x2=\"545.0387890890636\" y2=\"303.2682379349046\" stroke=\"rgb(233,233,233)\" stroke-opacity=\"1.0\" stroke-width=\"1.0\">\n        </line>\n        <line x1=\"0.0\" y1=\"264.6599326599328\" x2=\"545.0387890890636\" y2=\"264.6599326599328\" stroke=\"rgb(233,233,233)\" stroke-opacity=\"1.0\" stroke-width=\"1.0\">\n        </line>\n        <line x1=\"0.0\" y1=\"226.05162738496074\" x2=\"545.0387890890636\" y2=\"226.05162738496074\" stroke=\"rgb(233,233,233)\" stroke-opacity=\"1.0\" stroke-width=\"1.0\">\n        </line>\n        <line x1=\"0.0\" y1=\"187.4433221099889\" x2=\"545.0387890890636\" y2=\"187.4433221099889\" stroke=\"rgb(233,233,233)\" stroke-opacity=\"1.0\" stroke-width=\"1.0\">\n        </line>\n        <line x1=\"0.0\" y1=\"148.83501683501686\" x2=\"545.0387890890636\" y2=\"148.83501683501686\" stroke=\"rgb(233,233,233)\" stroke-opacity=\"1.0\" stroke-width=\"1.0\">\n        </line>\n        <line x1=\"0.0\" y1=\"110.22671156004503\" x2=\"545.0387890890636\" y2=\"110.22671156004503\" stroke=\"rgb(233,233,233)\" stroke-opacity=\"1.0\" stroke-width=\"1.0\">\n        </line>\n        <line x1=\"0.0\" y1=\"71.61840628507298\" x2=\"545.0387890890636\" y2=\"71.61840628507298\" stroke=\"rgb(233,233,233)\" stroke-opacity=\"1.0\" stroke-width=\"1.0\">\n        </line>\n        <line x1=\"0.0\" y1=\"33.01010101010115\" x2=\"545.0387890890636\" y2=\"33.01010101010115\" stroke=\"rgb(233,233,233)\" stroke-opacity=\"1.0\" stroke-width=\"1.0\">\n        </line>\n        <g transform=\"translate(0.0 341.87654320987644 ) \">\n          <g transform=\"translate(-3.0 0.0 ) \">\n            <text class=\"axis-text-y\" text-anchor=\"end\" dy=\"0.35em\">\n            62\n            </text>\n          </g>\n        </g>\n        <g transform=\"translate(0.0 303.2682379349046 ) \">\n          <g transform=\"translate(-3.0 0.0 ) \">\n            <text class=\"axis-text-y\" text-anchor=\"end\" dy=\"0.35em\">\n            64\n            </text>\n          </g>\n        </g>\n        <g transform=\"translate(0.0 264.6599326599328 ) \">\n          <g transform=\"translate(-3.0 0.0 ) \">\n            <text class=\"axis-text-y\" text-anchor=\"end\" dy=\"0.35em\">\n            66\n            </text>\n          </g>\n        </g>\n        <g transform=\"translate(0.0 226.05162738496074 ) \">\n          <g transform=\"translate(-3.0 0.0 ) \">\n            <text class=\"axis-text-y\" text-anchor=\"end\" dy=\"0.35em\">\n            68\n            </text>\n          </g>\n        </g>\n        <g transform=\"translate(0.0 187.4433221099889 ) \">\n          <g transform=\"translate(-3.0 0.0 ) \">\n            <text class=\"axis-text-y\" text-anchor=\"end\" dy=\"0.35em\">\n            70\n            </text>\n          </g>\n        </g>\n        <g transform=\"translate(0.0 148.83501683501686 ) \">\n          <g transform=\"translate(-3.0 0.0 ) \">\n            <text class=\"axis-text-y\" text-anchor=\"end\" dy=\"0.35em\">\n            72\n            </text>\n          </g>\n        </g>\n        <g transform=\"translate(0.0 110.22671156004503 ) \">\n          <g transform=\"translate(-3.0 0.0 ) \">\n            <text class=\"axis-text-y\" text-anchor=\"end\" dy=\"0.35em\">\n            74\n            </text>\n          </g>\n        </g>\n        <g transform=\"translate(0.0 71.61840628507298 ) \">\n          <g transform=\"translate(-3.0 0.0 ) \">\n            <text class=\"axis-text-y\" text-anchor=\"end\" dy=\"0.35em\">\n            76\n            </text>\n          </g>\n        </g>\n        <g transform=\"translate(0.0 33.01010101010115 ) \">\n          <g transform=\"translate(-3.0 0.0 ) \">\n            <text class=\"axis-text-y\" text-anchor=\"end\" dy=\"0.35em\">\n            78\n            </text>\n          </g>\n        </g>\n      </g>\n      <g transform=\"translate(21.961210910936405 0.0 ) \" clip-path=\"url(#cs0hgR8)\" clip-bounds-jfx=\"[rect (0.0, 0.0), (545.0387890890636, 344.0)]\">\n        <defs>\n          <clipPath id=\"cs0hgR8\">\n            <rect x=\"0.0\" y=\"0.0\" width=\"545.0387890890636\" height=\"344.0\">\n            </rect>\n          </clipPath>\n        </defs>\n        <g>\n          <path d=\"M47.76113100264991 268.52076318742957 L47.76113100264991 268.52076318742957 L160.14026277359088 226.05162738496074 L272.51939454453185 81.27048260381594 L384.8985263154728 88.99214365881062 L497.27765808641374 181.65207631874318 \" fill=\"none\" stroke-width=\"1.6500000000000001\" stroke=\"rgb(84,112,198)\" stroke-opacity=\"1.0\">\n          </path>\n        </g>\n      </g>\n      <g transform=\"translate(21.961210910936405 0.0 ) \" clip-path=\"url(#cKJpASz)\" clip-bounds-jfx=\"[rect (0.0, 0.0), (545.0387890890636, 344.0)]\">\n        <defs>\n          <clipPath id=\"cKJpASz\">\n            <rect x=\"0.0\" y=\"0.0\" width=\"545.0387890890636\" height=\"344.0\">\n            </rect>\n          </clipPath>\n        </defs>\n        <g>\n          <line x1=\"22.475826354188197\" y1=\"328.36363636363626\" x2=\"73.04643565111162\" y2=\"328.36363636363626\" stroke=\"rgb(71,71,71)\" stroke-opacity=\"1.0\" fill=\"rgb(17,142,216)\" fill-opacity=\"1.0\" stroke-width=\"1.6500000000000001\" stroke-dasharray=\"12.21,5.280000000000001\">\n          </line>\n          <line x1=\"22.475826354188197\" y1=\"208.67789001122333\" x2=\"73.04643565111162\" y2=\"208.67789001122333\" stroke=\"rgb(71,71,71)\" stroke-opacity=\"1.0\" fill=\"rgb(17,142,216)\" fill-opacity=\"1.0\" stroke-width=\"1.6500000000000001\" stroke-dasharray=\"12.21,5.280000000000001\">\n          </line>\n          <line x1=\"47.76113100264991\" y1=\"328.36363636363626\" x2=\"47.76113100264991\" y2=\"208.67789001122333\" stroke=\"rgb(71,71,71)\" stroke-opacity=\"1.0\" fill=\"rgb(17,142,216)\" fill-opacity=\"1.0\" stroke-width=\"1.6500000000000001\" stroke-dasharray=\"12.21,5.280000000000001\">\n          </line>\n        </g>\n        <g>\n          <line x1=\"134.85495812512914\" y1=\"289.75533108866443\" x2=\"185.42556742205258\" y2=\"289.75533108866443\" stroke=\"rgb(71,71,71)\" stroke-opacity=\"1.0\" fill=\"rgb(17,142,216)\" fill-opacity=\"1.0\" stroke-width=\"1.6500000000000001\" stroke-dasharray=\"12.21,5.280000000000001\">\n          </line>\n          <line x1=\"134.85495812512914\" y1=\"162.34792368125704\" x2=\"185.42556742205258\" y2=\"162.34792368125704\" stroke=\"rgb(71,71,71)\" stroke-opacity=\"1.0\" fill=\"rgb(17,142,216)\" fill-opacity=\"1.0\" stroke-width=\"1.6500000000000001\" stroke-dasharray=\"12.21,5.280000000000001\">\n          </line>\n          <line x1=\"160.14026277359088\" y1=\"289.75533108866443\" x2=\"160.14026277359088\" y2=\"162.34792368125704\" stroke=\"rgb(71,71,71)\" stroke-opacity=\"1.0\" fill=\"rgb(17,142,216)\" fill-opacity=\"1.0\" stroke-width=\"1.6500000000000001\" stroke-dasharray=\"12.21,5.280000000000001\">\n          </line>\n        </g>\n        <g>\n          <line x1=\"247.2340898960701\" y1=\"146.90460157126836\" x2=\"297.80469919299355\" y2=\"146.90460157126836\" stroke=\"rgb(71,71,71)\" stroke-opacity=\"1.0\" fill=\"rgb(17,142,216)\" fill-opacity=\"1.0\" stroke-width=\"1.6500000000000001\" stroke-dasharray=\"12.21,5.280000000000001\">\n          </line>\n          <line x1=\"247.2340898960701\" y1=\"15.63636363636374\" x2=\"297.80469919299355\" y2=\"15.63636363636374\" stroke=\"rgb(71,71,71)\" stroke-opacity=\"1.0\" fill=\"rgb(17,142,216)\" fill-opacity=\"1.0\" stroke-width=\"1.6500000000000001\" stroke-dasharray=\"12.21,5.280000000000001\">\n          </line>\n          <line x1=\"272.51939454453185\" y1=\"146.90460157126836\" x2=\"272.51939454453185\" y2=\"15.63636363636374\" stroke=\"rgb(71,71,71)\" stroke-opacity=\"1.0\" fill=\"rgb(17,142,216)\" fill-opacity=\"1.0\" stroke-width=\"1.6500000000000001\" stroke-dasharray=\"12.21,5.280000000000001\">\n          </line>\n        </g>\n        <g>\n          <line x1=\"359.61322166701103\" y1=\"116.01795735129076\" x2=\"410.1838309639345\" y2=\"116.01795735129076\" stroke=\"rgb(71,71,71)\" stroke-opacity=\"1.0\" fill=\"rgb(17,142,216)\" fill-opacity=\"1.0\" stroke-width=\"1.6500000000000001\" stroke-dasharray=\"12.21,5.280000000000001\">\n          </line>\n          <line x1=\"359.61322166701103\" y1=\"61.96632996633002\" x2=\"410.1838309639345\" y2=\"61.96632996633002\" stroke=\"rgb(71,71,71)\" stroke-opacity=\"1.0\" fill=\"rgb(17,142,216)\" fill-opacity=\"1.0\" stroke-width=\"1.6500000000000001\" stroke-dasharray=\"12.21,5.280000000000001\">\n          </line>\n          <line x1=\"384.8985263154728\" y1=\"116.01795735129076\" x2=\"384.8985263154728\" y2=\"61.96632996633002\" stroke=\"rgb(71,71,71)\" stroke-opacity=\"1.0\" fill=\"rgb(17,142,216)\" fill-opacity=\"1.0\" stroke-width=\"1.6500000000000001\" stroke-dasharray=\"12.21,5.280000000000001\">\n          </line>\n        </g>\n        <g>\n          <line x1=\"471.99235343795203\" y1=\"216.39955106621778\" x2=\"522.5629627348754\" y2=\"216.39955106621778\" stroke=\"rgb(71,71,71)\" stroke-opacity=\"1.0\" fill=\"rgb(17,142,216)\" fill-opacity=\"1.0\" stroke-width=\"1.6500000000000001\" stroke-dasharray=\"12.21,5.280000000000001\">\n          </line>\n          <line x1=\"471.99235343795203\" y1=\"146.90460157126836\" x2=\"522.5629627348754\" y2=\"146.90460157126836\" stroke=\"rgb(71,71,71)\" stroke-opacity=\"1.0\" fill=\"rgb(17,142,216)\" fill-opacity=\"1.0\" stroke-width=\"1.6500000000000001\" stroke-dasharray=\"12.21,5.280000000000001\">\n          </line>\n          <line x1=\"497.27765808641374\" y1=\"216.39955106621778\" x2=\"497.27765808641374\" y2=\"146.90460157126836\" stroke=\"rgb(71,71,71)\" stroke-opacity=\"1.0\" fill=\"rgb(17,142,216)\" fill-opacity=\"1.0\" stroke-width=\"1.6500000000000001\" stroke-dasharray=\"12.21,5.280000000000001\">\n          </line>\n        </g>\n      </g>\n    </g>\n    <g transform=\"translate(14.5 182.0 ) rotate(-90.0 ) \">\n      <text class=\"axis-title-y\" y=\"0.0\" text-anchor=\"middle\">\n      y\n      </text>\n    </g>\n    <g transform=\"translate(317.4806054554682 391.5 ) \">\n      <text class=\"axis-title-x\" y=\"0.0\" text-anchor=\"middle\">\n      x\n      </text>\n    </g>\n    <path fill=\"rgb(0,0,0)\" fill-opacity=\"0.0\" stroke=\"rgb(71,71,71)\" stroke-opacity=\"1.0\" stroke-width=\"0.0\" d=\"M0.0 0.0 L0.0 400.0 L600.0 400.0 L600.0 0.0 Z\">\n    </path>\n  </g>\n  <g id=\"ddVLlzB\">\n  </g>\n</svg>\n        <script>document.getElementById(\"7c44b5b1-5e6d-49c7-acb9-f4922d41f3b8\").style.display = \"none\";</script>",
      "application/plot+json": {
       "output_type": "lets_plot_spec",
       "output": {
        "mapping": {},
        "data": {
         "ymin": [
          62.7,
          64.7,
          72.1,
          73.7,
          68.5
         ],
         "ymax": [
          68.9,
          71.3,
          78.9,
          76.5,
          72.1
         ],
         "x": [
          "2018",
          "2019",
          "2020",
          "2021",
          "2022"
         ],
         "y": [
          65.8,
          68.0,
          75.5,
          75.1,
          70.3
         ]
        },
        "kind": "plot",
        "scales": [
         {
          "aesthetic": "x",
          "discrete": true
         },
         {
          "aesthetic": "y",
          "limits": [
           null,
           null
          ]
         },
         {
          "aesthetic": "x",
          "discrete": true
         },
         {
          "aesthetic": "y",
          "limits": [
           null,
           null
          ]
         }
        ],
        "layers": [
         {
          "mapping": {
           "x": "x",
           "y": "y"
          },
          "stat": "identity",
          "color": "#5470c6",
          "sampling": "none",
          "position": "identity",
          "geom": "line"
         },
         {
          "mapping": {
           "x": "x",
           "y": "y",
           "ymin": "ymin",
           "ymax": "ymax"
          },
          "stat": "identity",
          "linetype": "longdash",
          "sampling": "none",
          "position": "dodge",
          "geom": "errorbar"
         }
        ]
       },
       "apply_color_scheme": true,
       "swing_enabled": true
      }
     },
     "execution_count": 4,
     "metadata": {},
     "output_type": "execute_result"
    }
   ],
   "source": [
    "val mid = costMin.zip(costMax).map { (it.first + it.second) / 2.0 }\n",
    "plot {\n",
    "    x(years)\n",
    "    y(mid)\n",
    "    line {\n",
    "        color = Color.BLUE\n",
    "    }\n",
    "    errorBars {\n",
    "        yMin(costMin)\n",
    "        yMax(costMax)\n",
    "        borderLine.type = LineType.LONGDASH\n",
    "    }\n",
    "}"
   ],
   "metadata": {
    "collapsed": false,
    "ExecuteTime": {
     "end_time": "2023-11-17T11:28:52.733190Z",
     "start_time": "2023-11-17T11:28:52.082176Z"
    }
   }
  },
  {
   "cell_type": "markdown",
   "source": [
    "## Fixed coordinate"
   ],
   "metadata": {
    "collapsed": false
   }
  },
  {
   "cell_type": "code",
   "execution_count": 5,
   "outputs": [
    {
     "data": {
      "text/html": "            <iframe src='about:blank' style='border:none !important;' width='600' height='400' srcdoc=\"&lt;html lang=&quot;en&quot;>\n   &lt;head>\n       &lt;style> html, body { margin: 0; overflow: hidden; } &lt;/style>\n       &lt;script type=&quot;text/javascript&quot; data-lets-plot-script=&quot;library&quot; src=&quot;https://cdn.jsdelivr.net/gh/JetBrains/lets-plot@v4.0.1/js-package/distr/lets-plot.min.js&quot;>&lt;/script>\n   &lt;/head>\n   &lt;body>\n          &lt;div id=&quot;BYAS71&quot;>&lt;/div>\n   &lt;script type=&quot;text/javascript&quot; data-lets-plot-script=&quot;plot&quot;>\n       var plotSpec={\n&quot;mapping&quot;:{\n},\n&quot;data&quot;:{\n},\n&quot;kind&quot;:&quot;plot&quot;,\n&quot;scales&quot;:[{\n&quot;aesthetic&quot;:&quot;x&quot;,\n&quot;discrete&quot;:true\n}],\n&quot;layers&quot;:[{\n&quot;ymin&quot;:20.0,\n&quot;mapping&quot;:{\n&quot;x&quot;:&quot;x&quot;,\n&quot;ymax&quot;:&quot;ymax&quot;\n},\n&quot;stat&quot;:&quot;identity&quot;,\n&quot;data&quot;:{\n&quot;ymax&quot;:[68.9,71.3,78.9,76.5,72.1],\n&quot;x&quot;:[&quot;2018&quot;,&quot;2019&quot;,&quot;2020&quot;,&quot;2021&quot;,&quot;2022&quot;]\n},\n&quot;size&quot;:1.3,\n&quot;sampling&quot;:&quot;none&quot;,\n&quot;width&quot;:0.5,\n&quot;position&quot;:&quot;dodge&quot;,\n&quot;geom&quot;:&quot;errorbar&quot;\n}]\n};\n       var plotContainer = document.getElementById(&quot;BYAS71&quot;);\n       LetsPlot.buildPlotFromProcessedSpecs(plotSpec, -1, -1, plotContainer);\n   &lt;/script>\n   &lt;/body>\n&lt;/html>\"></iframe>            \n        <svg id=d6efd883-c201-4472-a386-01503ce7b791 xmlns=\"http://www.w3.org/2000/svg\" xmlns:xlink=\"http://www.w3.org/1999/xlink\" class=\"plt-container\" width=\"600.0\" height=\"400.0\">\n  <style type=\"text/css\">\n  .plt-container {\n   font-family: Lucida Grande, sans-serif;\n   user-select: none;\n   -webkit-user-select: none;\n   -moz-user-select: none;\n   -ms-user-select: none;\n}\ntext {\n   text-rendering: optimizeLegibility;\n}\n#pTlCfNR .plot-title {\n   fill: #474747;\n   font-family: Lucida Grande, sans-serif;\n   font-size: 16.0px;\n   font-weight: normal;\n   font-style: normal;   \n}\n#pTlCfNR .plot-subtitle {\n   fill: #474747;\n   font-family: Lucida Grande, sans-serif;\n   font-size: 15.0px;\n   font-weight: normal;\n   font-style: normal;   \n}\n#pTlCfNR .plot-caption {\n   fill: #474747;\n   font-family: Lucida Grande, sans-serif;\n   font-size: 13.0px;\n   font-weight: normal;\n   font-style: normal;   \n}\n#pTlCfNR .legend-title {\n   fill: #474747;\n   font-family: Lucida Grande, sans-serif;\n   font-size: 15.0px;\n   font-weight: normal;\n   font-style: normal;   \n}\n#pTlCfNR .legend-item {\n   fill: #474747;\n   font-family: Lucida Grande, sans-serif;\n   font-size: 13.0px;\n   font-weight: normal;\n   font-style: normal;   \n}\n#pTlCfNR .axis-title-x {\n   fill: #474747;\n   font-family: Lucida Grande, sans-serif;\n   font-size: 15.0px;\n   font-weight: normal;\n   font-style: normal;   \n}\n#pTlCfNR .axis-text-x {\n   fill: #474747;\n   font-family: Lucida Grande, sans-serif;\n   font-size: 13.0px;\n   font-weight: normal;\n   font-style: normal;   \n}\n#dwmbvxE .axis-tooltip-text-x {\n   fill: #ffffff;\n   font-family: Lucida Grande, sans-serif;\n   font-size: 13.0px;\n   font-weight: normal;\n   font-style: normal;   \n}\n#pTlCfNR .axis-title-y {\n   fill: #474747;\n   font-family: Lucida Grande, sans-serif;\n   font-size: 15.0px;\n   font-weight: normal;\n   font-style: normal;   \n}\n#pTlCfNR .axis-text-y {\n   fill: #474747;\n   font-family: Lucida Grande, sans-serif;\n   font-size: 13.0px;\n   font-weight: normal;\n   font-style: normal;   \n}\n#dwmbvxE .axis-tooltip-text-y {\n   fill: #ffffff;\n   font-family: Lucida Grande, sans-serif;\n   font-size: 13.0px;\n   font-weight: normal;\n   font-style: normal;   \n}\n#pTlCfNR .facet-strip-text-x {\n   fill: #474747;\n   font-family: Lucida Grande, sans-serif;\n   font-size: 13.0px;\n   font-weight: normal;\n   font-style: normal;   \n}\n#pTlCfNR .facet-strip-text-y {\n   fill: #474747;\n   font-family: Lucida Grande, sans-serif;\n   font-size: 13.0px;\n   font-weight: normal;\n   font-style: normal;   \n}\n#dwmbvxE .tooltip-text {\n   fill: #474747;\n   font-family: Lucida Grande, sans-serif;\n   font-size: 13.0px;\n   font-weight: normal;\n   font-style: normal;   \n}\n#dwmbvxE .tooltip-title {\n   fill: #474747;\n   font-family: Lucida Grande, sans-serif;\n   font-size: 13.0px;\n   font-weight: bold;\n   font-style: normal;   \n}\n#dwmbvxE .tooltip-label {\n   fill: #474747;\n   font-family: Lucida Grande, sans-serif;\n   font-size: 13.0px;\n   font-weight: bold;\n   font-style: normal;   \n}\n\n  </style>\n  <g id=\"pTlCfNR\">\n    <path fill-rule=\"evenodd\" fill=\"rgb(255,255,255)\" fill-opacity=\"1.0\" d=\"M0.0 0.0 L0.0 400.0 L600.0 400.0 L600.0 0.0 Z\">\n    </path>\n    <g transform=\"translate(23.0 10.0 ) \">\n      <g transform=\"translate(21.961210910936405 344.0 ) \">\n        <line x1=\"50.054582671444614\" y1=\"-0.0\" x2=\"50.054582671444614\" y2=\"-344.0\" stroke=\"rgb(233,233,233)\" stroke-opacity=\"1.0\" stroke-width=\"1.0\">\n        </line>\n        <line x1=\"161.2869886079882\" y1=\"-0.0\" x2=\"161.2869886079882\" y2=\"-344.0\" stroke=\"rgb(233,233,233)\" stroke-opacity=\"1.0\" stroke-width=\"1.0\">\n        </line>\n        <line x1=\"272.5193945445318\" y1=\"-0.0\" x2=\"272.5193945445318\" y2=\"-344.0\" stroke=\"rgb(233,233,233)\" stroke-opacity=\"1.0\" stroke-width=\"1.0\">\n        </line>\n        <line x1=\"383.75180048107535\" y1=\"-0.0\" x2=\"383.75180048107535\" y2=\"-344.0\" stroke=\"rgb(233,233,233)\" stroke-opacity=\"1.0\" stroke-width=\"1.0\">\n        </line>\n        <line x1=\"494.98420641761896\" y1=\"-0.0\" x2=\"494.98420641761896\" y2=\"-344.0\" stroke=\"rgb(233,233,233)\" stroke-opacity=\"1.0\" stroke-width=\"1.0\">\n        </line>\n        <g transform=\"translate(50.054582671444614 0.0 ) \">\n          <line stroke-width=\"1.0\" stroke=\"rgb(71,71,71)\" stroke-opacity=\"1.0\" x2=\"0.0\" y2=\"4.0\">\n          </line>\n          <g transform=\"translate(0.0 7.0 ) \">\n            <text class=\"axis-text-x\" text-anchor=\"middle\" dy=\"0.7em\">\n            2018\n            </text>\n          </g>\n        </g>\n        <g transform=\"translate(161.2869886079882 0.0 ) \">\n          <line stroke-width=\"1.0\" stroke=\"rgb(71,71,71)\" stroke-opacity=\"1.0\" x2=\"0.0\" y2=\"4.0\">\n          </line>\n          <g transform=\"translate(0.0 7.0 ) \">\n            <text class=\"axis-text-x\" text-anchor=\"middle\" dy=\"0.7em\">\n            2019\n            </text>\n          </g>\n        </g>\n        <g transform=\"translate(272.5193945445318 0.0 ) \">\n          <line stroke-width=\"1.0\" stroke=\"rgb(71,71,71)\" stroke-opacity=\"1.0\" x2=\"0.0\" y2=\"4.0\">\n          </line>\n          <g transform=\"translate(0.0 7.0 ) \">\n            <text class=\"axis-text-x\" text-anchor=\"middle\" dy=\"0.7em\">\n            2020\n            </text>\n          </g>\n        </g>\n        <g transform=\"translate(383.75180048107535 0.0 ) \">\n          <line stroke-width=\"1.0\" stroke=\"rgb(71,71,71)\" stroke-opacity=\"1.0\" x2=\"0.0\" y2=\"4.0\">\n          </line>\n          <g transform=\"translate(0.0 7.0 ) \">\n            <text class=\"axis-text-x\" text-anchor=\"middle\" dy=\"0.7em\">\n            2021\n            </text>\n          </g>\n        </g>\n        <g transform=\"translate(494.98420641761896 0.0 ) \">\n          <line stroke-width=\"1.0\" stroke=\"rgb(71,71,71)\" stroke-opacity=\"1.0\" x2=\"0.0\" y2=\"4.0\">\n          </line>\n          <g transform=\"translate(0.0 7.0 ) \">\n            <text class=\"axis-text-x\" text-anchor=\"middle\" dy=\"0.7em\">\n            2022\n            </text>\n          </g>\n        </g>\n        <line x1=\"0.0\" y1=\"0.0\" x2=\"545.0387890890636\" y2=\"0.0\" stroke-width=\"1.0\" stroke=\"rgb(71,71,71)\" stroke-opacity=\"1.0\">\n        </line>\n      </g>\n      <g transform=\"translate(21.961210910936405 0.0 ) \">\n        <line x1=\"0.0\" y1=\"328.3636363636363\" x2=\"545.0387890890636\" y2=\"328.3636363636363\" stroke=\"rgb(233,233,233)\" stroke-opacity=\"1.0\" stroke-width=\"1.0\">\n        </line>\n        <line x1=\"0.0\" y1=\"275.2690229973761\" x2=\"545.0387890890636\" y2=\"275.2690229973761\" stroke=\"rgb(233,233,233)\" stroke-opacity=\"1.0\" stroke-width=\"1.0\">\n        </line>\n        <line x1=\"0.0\" y1=\"222.17440963111588\" x2=\"545.0387890890636\" y2=\"222.17440963111588\" stroke=\"rgb(233,233,233)\" stroke-opacity=\"1.0\" stroke-width=\"1.0\">\n        </line>\n        <line x1=\"0.0\" y1=\"169.07979626485564\" x2=\"545.0387890890636\" y2=\"169.07979626485564\" stroke=\"rgb(233,233,233)\" stroke-opacity=\"1.0\" stroke-width=\"1.0\">\n        </line>\n        <line x1=\"0.0\" y1=\"115.98518289859544\" x2=\"545.0387890890636\" y2=\"115.98518289859544\" stroke=\"rgb(233,233,233)\" stroke-opacity=\"1.0\" stroke-width=\"1.0\">\n        </line>\n        <line x1=\"0.0\" y1=\"62.89056953233518\" x2=\"545.0387890890636\" y2=\"62.89056953233518\" stroke=\"rgb(233,233,233)\" stroke-opacity=\"1.0\" stroke-width=\"1.0\">\n        </line>\n        <line x1=\"0.0\" y1=\"9.795956166074973\" x2=\"545.0387890890636\" y2=\"9.795956166074973\" stroke=\"rgb(233,233,233)\" stroke-opacity=\"1.0\" stroke-width=\"1.0\">\n        </line>\n        <g transform=\"translate(0.0 328.3636363636363 ) \">\n          <g transform=\"translate(-3.0 0.0 ) \">\n            <text class=\"axis-text-y\" text-anchor=\"end\" dy=\"0.35em\">\n            20\n            </text>\n          </g>\n        </g>\n        <g transform=\"translate(0.0 275.2690229973761 ) \">\n          <g transform=\"translate(-3.0 0.0 ) \">\n            <text class=\"axis-text-y\" text-anchor=\"end\" dy=\"0.35em\">\n            30\n            </text>\n          </g>\n        </g>\n        <g transform=\"translate(0.0 222.17440963111588 ) \">\n          <g transform=\"translate(-3.0 0.0 ) \">\n            <text class=\"axis-text-y\" text-anchor=\"end\" dy=\"0.35em\">\n            40\n            </text>\n          </g>\n        </g>\n        <g transform=\"translate(0.0 169.07979626485564 ) \">\n          <g transform=\"translate(-3.0 0.0 ) \">\n            <text class=\"axis-text-y\" text-anchor=\"end\" dy=\"0.35em\">\n            50\n            </text>\n          </g>\n        </g>\n        <g transform=\"translate(0.0 115.98518289859544 ) \">\n          <g transform=\"translate(-3.0 0.0 ) \">\n            <text class=\"axis-text-y\" text-anchor=\"end\" dy=\"0.35em\">\n            60\n            </text>\n          </g>\n        </g>\n        <g transform=\"translate(0.0 62.89056953233518 ) \">\n          <g transform=\"translate(-3.0 0.0 ) \">\n            <text class=\"axis-text-y\" text-anchor=\"end\" dy=\"0.35em\">\n            70\n            </text>\n          </g>\n        </g>\n        <g transform=\"translate(0.0 9.795956166074973 ) \">\n          <g transform=\"translate(-3.0 0.0 ) \">\n            <text class=\"axis-text-y\" text-anchor=\"end\" dy=\"0.35em\">\n            80\n            </text>\n          </g>\n        </g>\n      </g>\n      <g transform=\"translate(21.961210910936405 0.0 ) \" clip-path=\"url(#cfnECr6)\" clip-bounds-jfx=\"[rect (0.0, 0.0), (545.0387890890636, 344.0)]\">\n        <defs>\n          <clipPath id=\"cfnECr6\">\n            <rect x=\"0.0\" y=\"0.0\" width=\"545.0387890890636\" height=\"344.0\">\n            </rect>\n          </clipPath>\n        </defs>\n        <g>\n          <line x1=\"22.246481187308717\" y1=\"328.3636363636363\" x2=\"77.86268415558051\" y2=\"328.3636363636363\" stroke=\"rgb(71,71,71)\" stroke-opacity=\"1.0\" fill=\"rgb(17,142,216)\" fill-opacity=\"1.0\" stroke-width=\"2.8600000000000003\">\n          </line>\n          <line x1=\"22.246481187308717\" y1=\"68.73097700262377\" x2=\"77.86268415558051\" y2=\"68.73097700262377\" stroke=\"rgb(71,71,71)\" stroke-opacity=\"1.0\" fill=\"rgb(17,142,216)\" fill-opacity=\"1.0\" stroke-width=\"2.8600000000000003\">\n          </line>\n          <line x1=\"50.054582671444614\" y1=\"328.3636363636363\" x2=\"50.054582671444614\" y2=\"68.73097700262377\" stroke=\"rgb(71,71,71)\" stroke-opacity=\"1.0\" fill=\"rgb(17,142,216)\" fill-opacity=\"1.0\" stroke-width=\"2.8600000000000003\">\n          </line>\n        </g>\n        <g>\n          <line x1=\"133.4788871238523\" y1=\"328.3636363636363\" x2=\"189.0950900921241\" y2=\"328.3636363636363\" stroke=\"rgb(71,71,71)\" stroke-opacity=\"1.0\" fill=\"rgb(17,142,216)\" fill-opacity=\"1.0\" stroke-width=\"2.8600000000000003\">\n          </line>\n          <line x1=\"133.4788871238523\" y1=\"55.98826979472136\" x2=\"189.0950900921241\" y2=\"55.98826979472136\" stroke=\"rgb(71,71,71)\" stroke-opacity=\"1.0\" fill=\"rgb(17,142,216)\" fill-opacity=\"1.0\" stroke-width=\"2.8600000000000003\">\n          </line>\n          <line x1=\"161.2869886079882\" y1=\"328.3636363636363\" x2=\"161.2869886079882\" y2=\"55.98826979472136\" stroke=\"rgb(71,71,71)\" stroke-opacity=\"1.0\" fill=\"rgb(17,142,216)\" fill-opacity=\"1.0\" stroke-width=\"2.8600000000000003\">\n          </line>\n        </g>\n        <g>\n          <line x1=\"244.7112930603959\" y1=\"328.3636363636363\" x2=\"300.32749602866767\" y2=\"328.3636363636363\" stroke=\"rgb(71,71,71)\" stroke-opacity=\"1.0\" fill=\"rgb(17,142,216)\" fill-opacity=\"1.0\" stroke-width=\"2.8600000000000003\">\n          </line>\n          <line x1=\"244.7112930603959\" y1=\"15.63636363636357\" x2=\"300.32749602866767\" y2=\"15.63636363636357\" stroke=\"rgb(71,71,71)\" stroke-opacity=\"1.0\" fill=\"rgb(17,142,216)\" fill-opacity=\"1.0\" stroke-width=\"2.8600000000000003\">\n          </line>\n          <line x1=\"272.5193945445318\" y1=\"328.3636363636363\" x2=\"272.5193945445318\" y2=\"15.63636363636357\" stroke=\"rgb(71,71,71)\" stroke-opacity=\"1.0\" fill=\"rgb(17,142,216)\" fill-opacity=\"1.0\" stroke-width=\"2.8600000000000003\">\n          </line>\n        </g>\n        <g>\n          <line x1=\"355.9436989969395\" y1=\"328.3636363636363\" x2=\"411.5599019652113\" y2=\"328.3636363636363\" stroke=\"rgb(71,71,71)\" stroke-opacity=\"1.0\" fill=\"rgb(17,142,216)\" fill-opacity=\"1.0\" stroke-width=\"2.8600000000000003\">\n          </line>\n          <line x1=\"355.9436989969395\" y1=\"28.37907084426604\" x2=\"411.5599019652113\" y2=\"28.37907084426604\" stroke=\"rgb(71,71,71)\" stroke-opacity=\"1.0\" fill=\"rgb(17,142,216)\" fill-opacity=\"1.0\" stroke-width=\"2.8600000000000003\">\n          </line>\n          <line x1=\"383.75180048107535\" y1=\"328.3636363636363\" x2=\"383.75180048107535\" y2=\"28.37907084426604\" stroke=\"rgb(71,71,71)\" stroke-opacity=\"1.0\" fill=\"rgb(17,142,216)\" fill-opacity=\"1.0\" stroke-width=\"2.8600000000000003\">\n          </line>\n        </g>\n        <g>\n          <line x1=\"467.1761049334831\" y1=\"328.3636363636363\" x2=\"522.7923079017548\" y2=\"328.3636363636363\" stroke=\"rgb(71,71,71)\" stroke-opacity=\"1.0\" fill=\"rgb(17,142,216)\" fill-opacity=\"1.0\" stroke-width=\"2.8600000000000003\">\n          </line>\n          <line x1=\"467.1761049334831\" y1=\"51.740700725420595\" x2=\"522.7923079017548\" y2=\"51.740700725420595\" stroke=\"rgb(71,71,71)\" stroke-opacity=\"1.0\" fill=\"rgb(17,142,216)\" fill-opacity=\"1.0\" stroke-width=\"2.8600000000000003\">\n          </line>\n          <line x1=\"494.98420641761896\" y1=\"328.3636363636363\" x2=\"494.98420641761896\" y2=\"51.740700725420595\" stroke=\"rgb(71,71,71)\" stroke-opacity=\"1.0\" fill=\"rgb(17,142,216)\" fill-opacity=\"1.0\" stroke-width=\"2.8600000000000003\">\n          </line>\n        </g>\n      </g>\n    </g>\n    <g transform=\"translate(14.5 182.0 ) rotate(-90.0 ) \">\n      <text class=\"axis-title-y\" y=\"0.0\" text-anchor=\"middle\">\n      y\n      </text>\n    </g>\n    <g transform=\"translate(317.4806054554682 391.5 ) \">\n      <text class=\"axis-title-x\" y=\"0.0\" text-anchor=\"middle\">\n      x\n      </text>\n    </g>\n    <path fill=\"rgb(0,0,0)\" fill-opacity=\"0.0\" stroke=\"rgb(71,71,71)\" stroke-opacity=\"1.0\" stroke-width=\"0.0\" d=\"M0.0 0.0 L0.0 400.0 L600.0 400.0 L600.0 0.0 Z\">\n    </path>\n  </g>\n  <g id=\"dwmbvxE\">\n  </g>\n</svg>\n        <script>document.getElementById(\"d6efd883-c201-4472-a386-01503ce7b791\").style.display = \"none\";</script>",
      "application/plot+json": {
       "output_type": "lets_plot_spec",
       "output": {
        "mapping": {},
        "data": {},
        "kind": "plot",
        "scales": [
         {
          "aesthetic": "x",
          "discrete": true
         }
        ],
        "layers": [
         {
          "ymin": 20.0,
          "mapping": {
           "x": "x",
           "ymax": "ymax"
          },
          "stat": "identity",
          "data": {
           "ymax": [
            68.9,
            71.3,
            78.9,
            76.5,
            72.1
           ],
           "x": [
            "2018",
            "2019",
            "2020",
            "2021",
            "2022"
           ]
          },
          "size": 1.3,
          "sampling": "none",
          "width": 0.5,
          "position": "dodge",
          "geom": "errorbar"
         }
        ]
       },
       "apply_color_scheme": true,
       "swing_enabled": true
      }
     },
     "execution_count": 5,
     "metadata": {},
     "output_type": "execute_result"
    }
   ],
   "source": [
    "plot {\n",
    "    errorBars { \n",
    "        x(years)\n",
    "        yMin.constant(20.0)\n",
    "        yMax(costMax)\n",
    "        width = 0.5\n",
    "        borderLine.width = 1.3\n",
    "    }\n",
    "}"
   ],
   "metadata": {
    "collapsed": false,
    "ExecuteTime": {
     "end_time": "2023-11-17T11:28:52.901004Z",
     "start_time": "2023-11-17T11:28:52.731772Z"
    }
   }
  },
  {
   "cell_type": "markdown",
   "source": [
    "## Border line color gradient"
   ],
   "metadata": {
    "collapsed": false
   }
  },
  {
   "cell_type": "code",
   "execution_count": 6,
   "outputs": [
    {
     "data": {
      "text/html": "            <iframe src='about:blank' style='border:none !important;' width='600' height='400' srcdoc=\"&lt;html lang=&quot;en&quot;>\n   &lt;head>\n       &lt;style> html, body { margin: 0; overflow: hidden; } &lt;/style>\n       &lt;script type=&quot;text/javascript&quot; data-lets-plot-script=&quot;library&quot; src=&quot;https://cdn.jsdelivr.net/gh/JetBrains/lets-plot@v4.0.1/js-package/distr/lets-plot.min.js&quot;>&lt;/script>\n   &lt;/head>\n   &lt;body>\n          &lt;div id=&quot;mZx8vu&quot;>&lt;/div>\n   &lt;script type=&quot;text/javascript&quot; data-lets-plot-script=&quot;plot&quot;>\n       var plotSpec={\n&quot;mapping&quot;:{\n},\n&quot;data&quot;:{\n},\n&quot;kind&quot;:&quot;plot&quot;,\n&quot;scales&quot;:[{\n&quot;aesthetic&quot;:&quot;x&quot;,\n&quot;discrete&quot;:true\n},{\n&quot;aesthetic&quot;:&quot;color&quot;,\n&quot;scale_mapper_kind&quot;:&quot;color_gradient&quot;,\n&quot;high&quot;:&quot;#3ba272&quot;,\n&quot;low&quot;:&quot;#000000&quot;,\n&quot;limits&quot;:[null,null]\n}],\n&quot;layers&quot;:[{\n&quot;mapping&quot;:{\n&quot;x&quot;:&quot;x&quot;,\n&quot;ymin&quot;:&quot;ymin&quot;,\n&quot;ymax&quot;:&quot;ymax&quot;,\n&quot;color&quot;:&quot;color&quot;\n},\n&quot;stat&quot;:&quot;identity&quot;,\n&quot;data&quot;:{\n&quot;ymin&quot;:[62.7,64.7,72.1,73.7,68.5],\n&quot;ymax&quot;:[68.9,71.3,78.9,76.5,72.1],\n&quot;color&quot;:[65.80000000000001,68.0,75.5,75.1,70.3],\n&quot;x&quot;:[&quot;2018&quot;,&quot;2019&quot;,&quot;2020&quot;,&quot;2021&quot;,&quot;2022&quot;]\n},\n&quot;size&quot;:1.8,\n&quot;sampling&quot;:&quot;none&quot;,\n&quot;position&quot;:&quot;dodge&quot;,\n&quot;geom&quot;:&quot;errorbar&quot;\n}]\n};\n       var plotContainer = document.getElementById(&quot;mZx8vu&quot;);\n       LetsPlot.buildPlotFromProcessedSpecs(plotSpec, -1, -1, plotContainer);\n   &lt;/script>\n   &lt;/body>\n&lt;/html>\"></iframe>            \n        <svg id=47dfb825-dd1e-489a-b446-39327b720365 xmlns=\"http://www.w3.org/2000/svg\" xmlns:xlink=\"http://www.w3.org/1999/xlink\" class=\"plt-container\" width=\"600.0\" height=\"400.0\">\n  <style type=\"text/css\">\n  .plt-container {\n   font-family: Lucida Grande, sans-serif;\n   user-select: none;\n   -webkit-user-select: none;\n   -moz-user-select: none;\n   -ms-user-select: none;\n}\ntext {\n   text-rendering: optimizeLegibility;\n}\n#p6abkOY .plot-title {\n   fill: #474747;\n   font-family: Lucida Grande, sans-serif;\n   font-size: 16.0px;\n   font-weight: normal;\n   font-style: normal;   \n}\n#p6abkOY .plot-subtitle {\n   fill: #474747;\n   font-family: Lucida Grande, sans-serif;\n   font-size: 15.0px;\n   font-weight: normal;\n   font-style: normal;   \n}\n#p6abkOY .plot-caption {\n   fill: #474747;\n   font-family: Lucida Grande, sans-serif;\n   font-size: 13.0px;\n   font-weight: normal;\n   font-style: normal;   \n}\n#p6abkOY .legend-title {\n   fill: #474747;\n   font-family: Lucida Grande, sans-serif;\n   font-size: 15.0px;\n   font-weight: normal;\n   font-style: normal;   \n}\n#p6abkOY .legend-item {\n   fill: #474747;\n   font-family: Lucida Grande, sans-serif;\n   font-size: 13.0px;\n   font-weight: normal;\n   font-style: normal;   \n}\n#p6abkOY .axis-title-x {\n   fill: #474747;\n   font-family: Lucida Grande, sans-serif;\n   font-size: 15.0px;\n   font-weight: normal;\n   font-style: normal;   \n}\n#p6abkOY .axis-text-x {\n   fill: #474747;\n   font-family: Lucida Grande, sans-serif;\n   font-size: 13.0px;\n   font-weight: normal;\n   font-style: normal;   \n}\n#d4Dv1tn .axis-tooltip-text-x {\n   fill: #ffffff;\n   font-family: Lucida Grande, sans-serif;\n   font-size: 13.0px;\n   font-weight: normal;\n   font-style: normal;   \n}\n#p6abkOY .axis-title-y {\n   fill: #474747;\n   font-family: Lucida Grande, sans-serif;\n   font-size: 15.0px;\n   font-weight: normal;\n   font-style: normal;   \n}\n#p6abkOY .axis-text-y {\n   fill: #474747;\n   font-family: Lucida Grande, sans-serif;\n   font-size: 13.0px;\n   font-weight: normal;\n   font-style: normal;   \n}\n#d4Dv1tn .axis-tooltip-text-y {\n   fill: #ffffff;\n   font-family: Lucida Grande, sans-serif;\n   font-size: 13.0px;\n   font-weight: normal;\n   font-style: normal;   \n}\n#p6abkOY .facet-strip-text-x {\n   fill: #474747;\n   font-family: Lucida Grande, sans-serif;\n   font-size: 13.0px;\n   font-weight: normal;\n   font-style: normal;   \n}\n#p6abkOY .facet-strip-text-y {\n   fill: #474747;\n   font-family: Lucida Grande, sans-serif;\n   font-size: 13.0px;\n   font-weight: normal;\n   font-style: normal;   \n}\n#d4Dv1tn .tooltip-text {\n   fill: #474747;\n   font-family: Lucida Grande, sans-serif;\n   font-size: 13.0px;\n   font-weight: normal;\n   font-style: normal;   \n}\n#d4Dv1tn .tooltip-title {\n   fill: #474747;\n   font-family: Lucida Grande, sans-serif;\n   font-size: 13.0px;\n   font-weight: bold;\n   font-style: normal;   \n}\n#d4Dv1tn .tooltip-label {\n   fill: #474747;\n   font-family: Lucida Grande, sans-serif;\n   font-size: 13.0px;\n   font-weight: bold;\n   font-style: normal;   \n}\n\n  </style>\n  <g id=\"p6abkOY\">\n    <path fill-rule=\"evenodd\" fill=\"rgb(255,255,255)\" fill-opacity=\"1.0\" d=\"M0.0 0.0 L0.0 400.0 L600.0 400.0 L600.0 0.0 Z\">\n    </path>\n    <g transform=\"translate(23.0 10.0 ) \">\n      <g transform=\"translate(21.961210910936405 344.0 ) \">\n        <line x1=\"42.24476125080765\" y1=\"-0.0\" x2=\"42.24476125080765\" y2=\"-344.0\" stroke=\"rgb(233,233,233)\" stroke-opacity=\"1.0\" stroke-width=\"1.0\">\n        </line>\n        <line x1=\"141.6441994880021\" y1=\"-0.0\" x2=\"141.6441994880021\" y2=\"-344.0\" stroke=\"rgb(233,233,233)\" stroke-opacity=\"1.0\" stroke-width=\"1.0\">\n        </line>\n        <line x1=\"241.04363772519656\" y1=\"-0.0\" x2=\"241.04363772519656\" y2=\"-344.0\" stroke=\"rgb(233,233,233)\" stroke-opacity=\"1.0\" stroke-width=\"1.0\">\n        </line>\n        <line x1=\"340.44307596239105\" y1=\"-0.0\" x2=\"340.44307596239105\" y2=\"-344.0\" stroke=\"rgb(233,233,233)\" stroke-opacity=\"1.0\" stroke-width=\"1.0\">\n        </line>\n        <line x1=\"439.8425141995855\" y1=\"-0.0\" x2=\"439.8425141995855\" y2=\"-344.0\" stroke=\"rgb(233,233,233)\" stroke-opacity=\"1.0\" stroke-width=\"1.0\">\n        </line>\n        <g transform=\"translate(42.24476125080765 0.0 ) \">\n          <line stroke-width=\"1.0\" stroke=\"rgb(71,71,71)\" stroke-opacity=\"1.0\" x2=\"0.0\" y2=\"4.0\">\n          </line>\n          <g transform=\"translate(0.0 7.0 ) \">\n            <text class=\"axis-text-x\" text-anchor=\"middle\" dy=\"0.7em\">\n            2018\n            </text>\n          </g>\n        </g>\n        <g transform=\"translate(141.6441994880021 0.0 ) \">\n          <line stroke-width=\"1.0\" stroke=\"rgb(71,71,71)\" stroke-opacity=\"1.0\" x2=\"0.0\" y2=\"4.0\">\n          </line>\n          <g transform=\"translate(0.0 7.0 ) \">\n            <text class=\"axis-text-x\" text-anchor=\"middle\" dy=\"0.7em\">\n            2019\n            </text>\n          </g>\n        </g>\n        <g transform=\"translate(241.04363772519656 0.0 ) \">\n          <line stroke-width=\"1.0\" stroke=\"rgb(71,71,71)\" stroke-opacity=\"1.0\" x2=\"0.0\" y2=\"4.0\">\n          </line>\n          <g transform=\"translate(0.0 7.0 ) \">\n            <text class=\"axis-text-x\" text-anchor=\"middle\" dy=\"0.7em\">\n            2020\n            </text>\n          </g>\n        </g>\n        <g transform=\"translate(340.44307596239105 0.0 ) \">\n          <line stroke-width=\"1.0\" stroke=\"rgb(71,71,71)\" stroke-opacity=\"1.0\" x2=\"0.0\" y2=\"4.0\">\n          </line>\n          <g transform=\"translate(0.0 7.0 ) \">\n            <text class=\"axis-text-x\" text-anchor=\"middle\" dy=\"0.7em\">\n            2021\n            </text>\n          </g>\n        </g>\n        <g transform=\"translate(439.8425141995855 0.0 ) \">\n          <line stroke-width=\"1.0\" stroke=\"rgb(71,71,71)\" stroke-opacity=\"1.0\" x2=\"0.0\" y2=\"4.0\">\n          </line>\n          <g transform=\"translate(0.0 7.0 ) \">\n            <text class=\"axis-text-x\" text-anchor=\"middle\" dy=\"0.7em\">\n            2022\n            </text>\n          </g>\n        </g>\n        <line x1=\"0.0\" y1=\"0.0\" x2=\"482.0872754503931\" y2=\"0.0\" stroke-width=\"1.0\" stroke=\"rgb(71,71,71)\" stroke-opacity=\"1.0\">\n        </line>\n      </g>\n      <g transform=\"translate(21.961210910936405 0.0 ) \">\n        <line x1=\"0.0\" y1=\"303.2682379349046\" x2=\"482.0872754503931\" y2=\"303.2682379349046\" stroke=\"rgb(233,233,233)\" stroke-opacity=\"1.0\" stroke-width=\"1.0\">\n        </line>\n        <line x1=\"0.0\" y1=\"264.6599326599328\" x2=\"482.0872754503931\" y2=\"264.6599326599328\" stroke=\"rgb(233,233,233)\" stroke-opacity=\"1.0\" stroke-width=\"1.0\">\n        </line>\n        <line x1=\"0.0\" y1=\"226.05162738496074\" x2=\"482.0872754503931\" y2=\"226.05162738496074\" stroke=\"rgb(233,233,233)\" stroke-opacity=\"1.0\" stroke-width=\"1.0\">\n        </line>\n        <line x1=\"0.0\" y1=\"187.4433221099889\" x2=\"482.0872754503931\" y2=\"187.4433221099889\" stroke=\"rgb(233,233,233)\" stroke-opacity=\"1.0\" stroke-width=\"1.0\">\n        </line>\n        <line x1=\"0.0\" y1=\"148.83501683501686\" x2=\"482.0872754503931\" y2=\"148.83501683501686\" stroke=\"rgb(233,233,233)\" stroke-opacity=\"1.0\" stroke-width=\"1.0\">\n        </line>\n        <line x1=\"0.0\" y1=\"110.22671156004503\" x2=\"482.0872754503931\" y2=\"110.22671156004503\" stroke=\"rgb(233,233,233)\" stroke-opacity=\"1.0\" stroke-width=\"1.0\">\n        </line>\n        <line x1=\"0.0\" y1=\"71.61840628507298\" x2=\"482.0872754503931\" y2=\"71.61840628507298\" stroke=\"rgb(233,233,233)\" stroke-opacity=\"1.0\" stroke-width=\"1.0\">\n        </line>\n        <line x1=\"0.0\" y1=\"33.01010101010115\" x2=\"482.0872754503931\" y2=\"33.01010101010115\" stroke=\"rgb(233,233,233)\" stroke-opacity=\"1.0\" stroke-width=\"1.0\">\n        </line>\n        <g transform=\"translate(0.0 341.87654320987644 ) \">\n          <g transform=\"translate(-3.0 0.0 ) \">\n            <text class=\"axis-text-y\" text-anchor=\"end\" dy=\"0.35em\">\n            62\n            </text>\n          </g>\n        </g>\n        <g transform=\"translate(0.0 303.2682379349046 ) \">\n          <g transform=\"translate(-3.0 0.0 ) \">\n            <text class=\"axis-text-y\" text-anchor=\"end\" dy=\"0.35em\">\n            64\n            </text>\n          </g>\n        </g>\n        <g transform=\"translate(0.0 264.6599326599328 ) \">\n          <g transform=\"translate(-3.0 0.0 ) \">\n            <text class=\"axis-text-y\" text-anchor=\"end\" dy=\"0.35em\">\n            66\n            </text>\n          </g>\n        </g>\n        <g transform=\"translate(0.0 226.05162738496074 ) \">\n          <g transform=\"translate(-3.0 0.0 ) \">\n            <text class=\"axis-text-y\" text-anchor=\"end\" dy=\"0.35em\">\n            68\n            </text>\n          </g>\n        </g>\n        <g transform=\"translate(0.0 187.4433221099889 ) \">\n          <g transform=\"translate(-3.0 0.0 ) \">\n            <text class=\"axis-text-y\" text-anchor=\"end\" dy=\"0.35em\">\n            70\n            </text>\n          </g>\n        </g>\n        <g transform=\"translate(0.0 148.83501683501686 ) \">\n          <g transform=\"translate(-3.0 0.0 ) \">\n            <text class=\"axis-text-y\" text-anchor=\"end\" dy=\"0.35em\">\n            72\n            </text>\n          </g>\n        </g>\n        <g transform=\"translate(0.0 110.22671156004503 ) \">\n          <g transform=\"translate(-3.0 0.0 ) \">\n            <text class=\"axis-text-y\" text-anchor=\"end\" dy=\"0.35em\">\n            74\n            </text>\n          </g>\n        </g>\n        <g transform=\"translate(0.0 71.61840628507298 ) \">\n          <g transform=\"translate(-3.0 0.0 ) \">\n            <text class=\"axis-text-y\" text-anchor=\"end\" dy=\"0.35em\">\n            76\n            </text>\n          </g>\n        </g>\n        <g transform=\"translate(0.0 33.01010101010115 ) \">\n          <g transform=\"translate(-3.0 0.0 ) \">\n            <text class=\"axis-text-y\" text-anchor=\"end\" dy=\"0.35em\">\n            78\n            </text>\n          </g>\n        </g>\n      </g>\n      <g transform=\"translate(21.961210910936405 0.0 ) \" clip-path=\"url(#cnufffl)\" clip-bounds-jfx=\"[rect (0.0, 0.0), (482.0872754503931, 344.0)]\">\n        <defs>\n          <clipPath id=\"cnufffl\">\n            <rect x=\"0.0\" y=\"0.0\" width=\"482.0872754503931\" height=\"344.0\">\n            </rect>\n          </clipPath>\n        </defs>\n        <g>\n          <line x1=\"19.879887647438895\" y1=\"328.36363636363626\" x2=\"64.6096348541764\" y2=\"328.36363636363626\" stroke=\"rgb(0,0,0)\" stroke-opacity=\"1.0\" fill=\"rgb(17,142,216)\" fill-opacity=\"1.0\" stroke-width=\"3.9600000000000004\">\n          </line>\n          <line x1=\"19.879887647438895\" y1=\"208.67789001122333\" x2=\"64.6096348541764\" y2=\"208.67789001122333\" stroke=\"rgb(0,0,0)\" stroke-opacity=\"1.0\" fill=\"rgb(17,142,216)\" fill-opacity=\"1.0\" stroke-width=\"3.9600000000000004\">\n          </line>\n          <line x1=\"42.24476125080765\" y1=\"328.36363636363626\" x2=\"42.24476125080765\" y2=\"208.67789001122333\" stroke=\"rgb(0,0,0)\" stroke-opacity=\"1.0\" fill=\"rgb(17,142,216)\" fill-opacity=\"1.0\" stroke-width=\"3.9600000000000004\">\n          </line>\n        </g>\n        <g>\n          <line x1=\"119.27932588463335\" y1=\"289.75533108866443\" x2=\"164.00907309137088\" y2=\"289.75533108866443\" stroke=\"rgb(32,37,35)\" stroke-opacity=\"1.0\" fill=\"rgb(17,142,216)\" fill-opacity=\"1.0\" stroke-width=\"3.9600000000000004\">\n          </line>\n          <line x1=\"119.27932588463335\" y1=\"162.34792368125704\" x2=\"164.00907309137088\" y2=\"162.34792368125704\" stroke=\"rgb(32,37,35)\" stroke-opacity=\"1.0\" fill=\"rgb(17,142,216)\" fill-opacity=\"1.0\" stroke-width=\"3.9600000000000004\">\n          </line>\n          <line x1=\"141.6441994880021\" y1=\"289.75533108866443\" x2=\"141.6441994880021\" y2=\"162.34792368125704\" stroke=\"rgb(32,37,35)\" stroke-opacity=\"1.0\" fill=\"rgb(17,142,216)\" fill-opacity=\"1.0\" stroke-width=\"3.9600000000000004\">\n          </line>\n        </g>\n        <g>\n          <line x1=\"218.6787641218278\" y1=\"146.90460157126836\" x2=\"263.40851132856534\" y2=\"146.90460157126836\" stroke=\"rgb(59,163,115)\" stroke-opacity=\"1.0\" fill=\"rgb(17,142,216)\" fill-opacity=\"1.0\" stroke-width=\"3.9600000000000004\">\n          </line>\n          <line x1=\"218.6787641218278\" y1=\"15.63636363636374\" x2=\"263.40851132856534\" y2=\"15.63636363636374\" stroke=\"rgb(59,163,115)\" stroke-opacity=\"1.0\" fill=\"rgb(17,142,216)\" fill-opacity=\"1.0\" stroke-width=\"3.9600000000000004\">\n          </line>\n          <line x1=\"241.04363772519656\" y1=\"146.90460157126836\" x2=\"241.04363772519656\" y2=\"15.63636363636374\" stroke=\"rgb(59,163,115)\" stroke-opacity=\"1.0\" fill=\"rgb(17,142,216)\" fill-opacity=\"1.0\" stroke-width=\"3.9600000000000004\">\n          </line>\n        </g>\n        <g>\n          <line x1=\"318.07820235902227\" y1=\"116.01795735129076\" x2=\"362.80794956575977\" y2=\"116.01795735129076\" stroke=\"rgb(60,156,112)\" stroke-opacity=\"1.0\" fill=\"rgb(17,142,216)\" fill-opacity=\"1.0\" stroke-width=\"3.9600000000000004\">\n          </line>\n          <line x1=\"318.07820235902227\" y1=\"61.96632996633002\" x2=\"362.80794956575977\" y2=\"61.96632996633002\" stroke=\"rgb(60,156,112)\" stroke-opacity=\"1.0\" fill=\"rgb(17,142,216)\" fill-opacity=\"1.0\" stroke-width=\"3.9600000000000004\">\n          </line>\n          <line x1=\"340.44307596239105\" y1=\"116.01795735129076\" x2=\"340.44307596239105\" y2=\"61.96632996633002\" stroke=\"rgb(60,156,112)\" stroke-opacity=\"1.0\" fill=\"rgb(17,142,216)\" fill-opacity=\"1.0\" stroke-width=\"3.9600000000000004\">\n          </line>\n        </g>\n        <g>\n          <line x1=\"417.4776405962167\" y1=\"216.39955106621778\" x2=\"462.2073878029542\" y2=\"216.39955106621778\" stroke=\"rgb(53,76,65)\" stroke-opacity=\"1.0\" fill=\"rgb(17,142,216)\" fill-opacity=\"1.0\" stroke-width=\"3.9600000000000004\">\n          </line>\n          <line x1=\"417.4776405962167\" y1=\"146.90460157126836\" x2=\"462.2073878029542\" y2=\"146.90460157126836\" stroke=\"rgb(53,76,65)\" stroke-opacity=\"1.0\" fill=\"rgb(17,142,216)\" fill-opacity=\"1.0\" stroke-width=\"3.9600000000000004\">\n          </line>\n          <line x1=\"439.8425141995855\" y1=\"216.39955106621778\" x2=\"439.8425141995855\" y2=\"146.90460157126836\" stroke=\"rgb(53,76,65)\" stroke-opacity=\"1.0\" fill=\"rgb(17,142,216)\" fill-opacity=\"1.0\" stroke-width=\"3.9600000000000004\">\n          </line>\n        </g>\n      </g>\n    </g>\n    <g transform=\"translate(14.5 182.0 ) rotate(-90.0 ) \">\n      <text class=\"axis-title-y\" y=\"0.0\" text-anchor=\"middle\">\n      y\n      </text>\n    </g>\n    <g transform=\"translate(286.004848636133 391.5 ) \">\n      <text class=\"axis-title-x\" y=\"0.0\" text-anchor=\"middle\">\n      x\n      </text>\n    </g>\n    <g transform=\"translate(537.0484863613295 103.25 ) \">\n      <rect x=\"5.0\" y=\"5.0\" height=\"147.5\" width=\"52.951513638670505\" stroke=\"rgb(71,71,71)\" stroke-opacity=\"1.0\" stroke-width=\"0.0\" fill=\"rgb(255,255,255)\" fill-opacity=\"1.0\">\n      </rect>\n      <g transform=\"translate(10.0 10.0 ) \">\n        <g transform=\"translate(0.0 10.5 ) \">\n          <text class=\"legend-title\" y=\"0.0\">\n          color\n          </text>\n        </g>\n        <g transform=\"translate(0.0 22.5 ) \">\n          <g>\n            <rect x=\"0.0\" y=\"0.0\" height=\"115.0\" width=\"23.0\" stroke-width=\"0.0\" fill=\"rgb(60,159,113)\" fill-opacity=\"1.0\">\n            </rect>\n            <rect x=\"0.0\" y=\"7.55\" height=\"107.45\" width=\"23.0\" stroke-width=\"0.0\" fill=\"rgb(62,151,109)\" fill-opacity=\"1.0\">\n            </rect>\n            <rect x=\"0.0\" y=\"13.1\" height=\"101.9\" width=\"23.0\" stroke-width=\"0.0\" fill=\"rgb(63,143,106)\" fill-opacity=\"1.0\">\n            </rect>\n            <rect x=\"0.0\" y=\"18.65\" height=\"96.35\" width=\"23.0\" stroke-width=\"0.0\" fill=\"rgb(64,135,102)\" fill-opacity=\"1.0\">\n            </rect>\n            <rect x=\"0.0\" y=\"24.2\" height=\"90.8\" width=\"23.0\" stroke-width=\"0.0\" fill=\"rgb(64,126,97)\" fill-opacity=\"1.0\">\n            </rect>\n            <rect x=\"0.0\" y=\"29.75\" height=\"85.25\" width=\"23.0\" stroke-width=\"0.0\" fill=\"rgb(63,118,93)\" fill-opacity=\"1.0\">\n            </rect>\n            <rect x=\"0.0\" y=\"35.3\" height=\"79.7\" width=\"23.0\" stroke-width=\"0.0\" fill=\"rgb(63,110,88)\" fill-opacity=\"1.0\">\n            </rect>\n            <rect x=\"0.0\" y=\"40.849999999999994\" height=\"74.15\" width=\"23.0\" stroke-width=\"0.0\" fill=\"rgb(61,102,83)\" fill-opacity=\"1.0\">\n            </rect>\n            <rect x=\"0.0\" y=\"46.39999999999999\" height=\"68.60000000000001\" width=\"23.0\" stroke-width=\"0.0\" fill=\"rgb(59,94,78)\" fill-opacity=\"1.0\">\n            </rect>\n            <rect x=\"0.0\" y=\"51.94999999999999\" height=\"63.05000000000001\" width=\"23.0\" stroke-width=\"0.0\" fill=\"rgb(57,86,72)\" fill-opacity=\"1.0\">\n            </rect>\n            <rect x=\"0.0\" y=\"57.499999999999986\" height=\"57.500000000000014\" width=\"23.0\" stroke-width=\"0.0\" fill=\"rgb(54,78,67)\" fill-opacity=\"1.0\">\n            </rect>\n            <rect x=\"0.0\" y=\"63.04999999999998\" height=\"51.95000000000002\" width=\"23.0\" stroke-width=\"0.0\" fill=\"rgb(50,69,61)\" fill-opacity=\"1.0\">\n            </rect>\n            <rect x=\"0.0\" y=\"68.59999999999998\" height=\"46.40000000000002\" width=\"23.0\" stroke-width=\"0.0\" fill=\"rgb(47,61,54)\" fill-opacity=\"1.0\">\n            </rect>\n            <rect x=\"0.0\" y=\"74.14999999999998\" height=\"40.85000000000002\" width=\"23.0\" stroke-width=\"0.0\" fill=\"rgb(42,53,48)\" fill-opacity=\"1.0\">\n            </rect>\n            <rect x=\"0.0\" y=\"79.69999999999997\" height=\"35.300000000000026\" width=\"23.0\" stroke-width=\"0.0\" fill=\"rgb(37,45,41)\" fill-opacity=\"1.0\">\n            </rect>\n            <rect x=\"0.0\" y=\"85.24999999999997\" height=\"29.75000000000003\" width=\"23.0\" stroke-width=\"0.0\" fill=\"rgb(31,37,34)\" fill-opacity=\"1.0\">\n            </rect>\n            <rect x=\"0.0\" y=\"90.79999999999997\" height=\"24.20000000000003\" width=\"23.0\" stroke-width=\"0.0\" fill=\"rgb(25,29,27)\" fill-opacity=\"1.0\">\n            </rect>\n            <rect x=\"0.0\" y=\"96.34999999999997\" height=\"18.650000000000034\" width=\"23.0\" stroke-width=\"0.0\" fill=\"rgb(19,20,20)\" fill-opacity=\"1.0\">\n            </rect>\n            <rect x=\"0.0\" y=\"101.89999999999996\" height=\"13.100000000000037\" width=\"23.0\" stroke-width=\"0.0\" fill=\"rgb(12,12,12)\" fill-opacity=\"1.0\">\n            </rect>\n            <rect x=\"0.0\" y=\"107.44999999999996\" height=\"7.55000000000004\" width=\"23.0\" stroke-width=\"0.0\" fill=\"rgb(4,4,4)\" fill-opacity=\"1.0\">\n            </rect>\n            <line x1=\"0.0\" y1=\"110.7113402061857\" x2=\"4.6\" y2=\"110.7113402061857\" stroke-width=\"1.0\" stroke=\"rgb(255,255,255)\" stroke-opacity=\"1.0\">\n            </line>\n            <line x1=\"18.4\" y1=\"110.7113402061857\" x2=\"23.0\" y2=\"110.7113402061857\" stroke-width=\"1.0\" stroke=\"rgb(255,255,255)\" stroke-opacity=\"1.0\">\n            </line>\n            <g transform=\"translate(26.9903027277341 115.2613402061857 ) \">\n              <text class=\"legend-item\" y=\"0.0\">\n              66\n              </text>\n            </g>\n            <line x1=\"0.0\" y1=\"87.8247422680414\" x2=\"4.6\" y2=\"87.8247422680414\" stroke-width=\"1.0\" stroke=\"rgb(255,255,255)\" stroke-opacity=\"1.0\">\n            </line>\n            <line x1=\"18.4\" y1=\"87.8247422680414\" x2=\"23.0\" y2=\"87.8247422680414\" stroke-width=\"1.0\" stroke=\"rgb(255,255,255)\" stroke-opacity=\"1.0\">\n            </line>\n            <g transform=\"translate(26.9903027277341 92.3747422680414 ) \">\n              <text class=\"legend-item\" y=\"0.0\">\n              68\n              </text>\n            </g>\n            <line x1=\"0.0\" y1=\"64.938144329897\" x2=\"4.6\" y2=\"64.938144329897\" stroke-width=\"1.0\" stroke=\"rgb(255,255,255)\" stroke-opacity=\"1.0\">\n            </line>\n            <line x1=\"18.4\" y1=\"64.938144329897\" x2=\"23.0\" y2=\"64.938144329897\" stroke-width=\"1.0\" stroke=\"rgb(255,255,255)\" stroke-opacity=\"1.0\">\n            </line>\n            <g transform=\"translate(26.9903027277341 69.488144329897 ) \">\n              <text class=\"legend-item\" y=\"0.0\">\n              70\n              </text>\n            </g>\n            <line x1=\"0.0\" y1=\"42.05154639175271\" x2=\"4.6\" y2=\"42.05154639175271\" stroke-width=\"1.0\" stroke=\"rgb(255,255,255)\" stroke-opacity=\"1.0\">\n            </line>\n            <line x1=\"18.4\" y1=\"42.05154639175271\" x2=\"23.0\" y2=\"42.05154639175271\" stroke-width=\"1.0\" stroke=\"rgb(255,255,255)\" stroke-opacity=\"1.0\">\n            </line>\n            <g transform=\"translate(26.9903027277341 46.601546391752706 ) \">\n              <text class=\"legend-item\" y=\"0.0\">\n              72\n              </text>\n            </g>\n            <line x1=\"0.0\" y1=\"19.164948453608304\" x2=\"4.6\" y2=\"19.164948453608304\" stroke-width=\"1.0\" stroke=\"rgb(255,255,255)\" stroke-opacity=\"1.0\">\n            </line>\n            <line x1=\"18.4\" y1=\"19.164948453608304\" x2=\"23.0\" y2=\"19.164948453608304\" stroke-width=\"1.0\" stroke=\"rgb(255,255,255)\" stroke-opacity=\"1.0\">\n            </line>\n            <g transform=\"translate(26.9903027277341 23.7149484536083 ) \">\n              <text class=\"legend-item\" y=\"0.0\">\n              74\n              </text>\n            </g>\n          </g>\n        </g>\n      </g>\n    </g>\n    <path fill=\"rgb(0,0,0)\" fill-opacity=\"0.0\" stroke=\"rgb(71,71,71)\" stroke-opacity=\"1.0\" stroke-width=\"0.0\" d=\"M0.0 0.0 L0.0 400.0 L600.0 400.0 L600.0 0.0 Z\">\n    </path>\n  </g>\n  <g id=\"d4Dv1tn\">\n  </g>\n</svg>\n        <script>document.getElementById(\"47dfb825-dd1e-489a-b446-39327b720365\").style.display = \"none\";</script>",
      "application/plot+json": {
       "output_type": "lets_plot_spec",
       "output": {
        "mapping": {},
        "data": {},
        "kind": "plot",
        "scales": [
         {
          "aesthetic": "x",
          "discrete": true
         },
         {
          "aesthetic": "color",
          "scale_mapper_kind": "color_gradient",
          "high": "#3ba272",
          "low": "#000000",
          "limits": [
           null,
           null
          ]
         }
        ],
        "layers": [
         {
          "mapping": {
           "x": "x",
           "ymin": "ymin",
           "ymax": "ymax",
           "color": "color"
          },
          "stat": "identity",
          "data": {
           "ymin": [
            62.7,
            64.7,
            72.1,
            73.7,
            68.5
           ],
           "ymax": [
            68.9,
            71.3,
            78.9,
            76.5,
            72.1
           ],
           "color": [
            65.8,
            68.0,
            75.5,
            75.1,
            70.3
           ],
           "x": [
            "2018",
            "2019",
            "2020",
            "2021",
            "2022"
           ]
          },
          "size": 1.8,
          "sampling": "none",
          "position": "dodge",
          "geom": "errorbar"
         }
        ]
       },
       "apply_color_scheme": true,
       "swing_enabled": true
      }
     },
     "execution_count": 6,
     "metadata": {},
     "output_type": "execute_result"
    }
   ],
   "source": [
    "plot {\n",
    "    errorBars { \n",
    "        x(years)\n",
    "        yMin(costMin)\n",
    "        yMax(costMax)\n",
    "        borderLine {\n",
    "            color(mid) {\n",
    "                scale = continuous(Color.BLACK..Color.GREEN)\n",
    "            }\n",
    "            width = 1.8\n",
    "        }\n",
    "    }\n",
    "}"
   ],
   "metadata": {
    "collapsed": false,
    "ExecuteTime": {
     "end_time": "2023-11-17T11:28:53.319492Z",
     "start_time": "2023-11-17T11:28:52.897866Z"
    }
   }
  },
  {
   "cell_type": "markdown",
   "source": [
    "## Errorbars with DataFrame"
   ],
   "metadata": {
    "collapsed": false
   }
  },
  {
   "cell_type": "code",
   "execution_count": 7,
   "outputs": [
    {
     "data": {
      "text/html": "            <iframe src='about:blank' style='border:none !important;' width='600' height='400' srcdoc=\"&lt;html lang=&quot;en&quot;>\n   &lt;head>\n       &lt;style> html, body { margin: 0; overflow: hidden; } &lt;/style>\n       &lt;script type=&quot;text/javascript&quot; data-lets-plot-script=&quot;library&quot; src=&quot;https://cdn.jsdelivr.net/gh/JetBrains/lets-plot@v4.0.1/js-package/distr/lets-plot.min.js&quot;>&lt;/script>\n   &lt;/head>\n   &lt;body>\n          &lt;div id=&quot;Lvm9zo&quot;>&lt;/div>\n   &lt;script type=&quot;text/javascript&quot; data-lets-plot-script=&quot;plot&quot;>\n       var plotSpec={\n&quot;mapping&quot;:{\n},\n&quot;data&quot;:{\n&quot;year&quot;:[&quot;2018&quot;,&quot;2019&quot;,&quot;2020&quot;,&quot;2021&quot;,&quot;2022&quot;],\n&quot;minimal cost&quot;:[62.7,64.7,72.1,73.7,68.5],\n&quot;maximal cost&quot;:[68.9,71.3,78.9,76.5,72.1]\n},\n&quot;kind&quot;:&quot;plot&quot;,\n&quot;scales&quot;:[{\n&quot;aesthetic&quot;:&quot;x&quot;,\n&quot;discrete&quot;:true\n}],\n&quot;layers&quot;:[{\n&quot;mapping&quot;:{\n&quot;x&quot;:&quot;year&quot;,\n&quot;ymin&quot;:&quot;minimal cost&quot;,\n&quot;ymax&quot;:&quot;maximal cost&quot;\n},\n&quot;stat&quot;:&quot;identity&quot;,\n&quot;sampling&quot;:&quot;none&quot;,\n&quot;position&quot;:&quot;dodge&quot;,\n&quot;geom&quot;:&quot;errorbar&quot;,\n&quot;data&quot;:{\n}\n}]\n};\n       var plotContainer = document.getElementById(&quot;Lvm9zo&quot;);\n       LetsPlot.buildPlotFromProcessedSpecs(plotSpec, -1, -1, plotContainer);\n   &lt;/script>\n   &lt;/body>\n&lt;/html>\"></iframe>            \n        <svg id=b0bf8ee1-e0a8-496f-b9fd-7b86a72e73f1 xmlns=\"http://www.w3.org/2000/svg\" xmlns:xlink=\"http://www.w3.org/1999/xlink\" class=\"plt-container\" width=\"600.0\" height=\"400.0\">\n  <style type=\"text/css\">\n  .plt-container {\n   font-family: Lucida Grande, sans-serif;\n   user-select: none;\n   -webkit-user-select: none;\n   -moz-user-select: none;\n   -ms-user-select: none;\n}\ntext {\n   text-rendering: optimizeLegibility;\n}\n#pOGfBCv .plot-title {\n   fill: #474747;\n   font-family: Lucida Grande, sans-serif;\n   font-size: 16.0px;\n   font-weight: normal;\n   font-style: normal;   \n}\n#pOGfBCv .plot-subtitle {\n   fill: #474747;\n   font-family: Lucida Grande, sans-serif;\n   font-size: 15.0px;\n   font-weight: normal;\n   font-style: normal;   \n}\n#pOGfBCv .plot-caption {\n   fill: #474747;\n   font-family: Lucida Grande, sans-serif;\n   font-size: 13.0px;\n   font-weight: normal;\n   font-style: normal;   \n}\n#pOGfBCv .legend-title {\n   fill: #474747;\n   font-family: Lucida Grande, sans-serif;\n   font-size: 15.0px;\n   font-weight: normal;\n   font-style: normal;   \n}\n#pOGfBCv .legend-item {\n   fill: #474747;\n   font-family: Lucida Grande, sans-serif;\n   font-size: 13.0px;\n   font-weight: normal;\n   font-style: normal;   \n}\n#pOGfBCv .axis-title-x {\n   fill: #474747;\n   font-family: Lucida Grande, sans-serif;\n   font-size: 15.0px;\n   font-weight: normal;\n   font-style: normal;   \n}\n#pOGfBCv .axis-text-x {\n   fill: #474747;\n   font-family: Lucida Grande, sans-serif;\n   font-size: 13.0px;\n   font-weight: normal;\n   font-style: normal;   \n}\n#d0zVlQl .axis-tooltip-text-x {\n   fill: #ffffff;\n   font-family: Lucida Grande, sans-serif;\n   font-size: 13.0px;\n   font-weight: normal;\n   font-style: normal;   \n}\n#pOGfBCv .axis-title-y {\n   fill: #474747;\n   font-family: Lucida Grande, sans-serif;\n   font-size: 15.0px;\n   font-weight: normal;\n   font-style: normal;   \n}\n#pOGfBCv .axis-text-y {\n   fill: #474747;\n   font-family: Lucida Grande, sans-serif;\n   font-size: 13.0px;\n   font-weight: normal;\n   font-style: normal;   \n}\n#d0zVlQl .axis-tooltip-text-y {\n   fill: #ffffff;\n   font-family: Lucida Grande, sans-serif;\n   font-size: 13.0px;\n   font-weight: normal;\n   font-style: normal;   \n}\n#pOGfBCv .facet-strip-text-x {\n   fill: #474747;\n   font-family: Lucida Grande, sans-serif;\n   font-size: 13.0px;\n   font-weight: normal;\n   font-style: normal;   \n}\n#pOGfBCv .facet-strip-text-y {\n   fill: #474747;\n   font-family: Lucida Grande, sans-serif;\n   font-size: 13.0px;\n   font-weight: normal;\n   font-style: normal;   \n}\n#d0zVlQl .tooltip-text {\n   fill: #474747;\n   font-family: Lucida Grande, sans-serif;\n   font-size: 13.0px;\n   font-weight: normal;\n   font-style: normal;   \n}\n#d0zVlQl .tooltip-title {\n   fill: #474747;\n   font-family: Lucida Grande, sans-serif;\n   font-size: 13.0px;\n   font-weight: bold;\n   font-style: normal;   \n}\n#d0zVlQl .tooltip-label {\n   fill: #474747;\n   font-family: Lucida Grande, sans-serif;\n   font-size: 13.0px;\n   font-weight: bold;\n   font-style: normal;   \n}\n\n  </style>\n  <g id=\"pOGfBCv\">\n    <path fill-rule=\"evenodd\" fill=\"rgb(255,255,255)\" fill-opacity=\"1.0\" d=\"M0.0 0.0 L0.0 400.0 L600.0 400.0 L600.0 0.0 Z\">\n    </path>\n    <g transform=\"translate(23.0 10.0 ) \">\n      <g transform=\"translate(21.961210910936405 344.0 ) \">\n        <line x1=\"47.76113100264991\" y1=\"-0.0\" x2=\"47.76113100264991\" y2=\"-344.0\" stroke=\"rgb(233,233,233)\" stroke-opacity=\"1.0\" stroke-width=\"1.0\">\n        </line>\n        <line x1=\"160.14026277359088\" y1=\"-0.0\" x2=\"160.14026277359088\" y2=\"-344.0\" stroke=\"rgb(233,233,233)\" stroke-opacity=\"1.0\" stroke-width=\"1.0\">\n        </line>\n        <line x1=\"272.51939454453185\" y1=\"-0.0\" x2=\"272.51939454453185\" y2=\"-344.0\" stroke=\"rgb(233,233,233)\" stroke-opacity=\"1.0\" stroke-width=\"1.0\">\n        </line>\n        <line x1=\"384.8985263154728\" y1=\"-0.0\" x2=\"384.8985263154728\" y2=\"-344.0\" stroke=\"rgb(233,233,233)\" stroke-opacity=\"1.0\" stroke-width=\"1.0\">\n        </line>\n        <line x1=\"497.27765808641374\" y1=\"-0.0\" x2=\"497.27765808641374\" y2=\"-344.0\" stroke=\"rgb(233,233,233)\" stroke-opacity=\"1.0\" stroke-width=\"1.0\">\n        </line>\n        <g transform=\"translate(47.76113100264991 0.0 ) \">\n          <line stroke-width=\"1.0\" stroke=\"rgb(71,71,71)\" stroke-opacity=\"1.0\" x2=\"0.0\" y2=\"4.0\">\n          </line>\n          <g transform=\"translate(0.0 7.0 ) \">\n            <text class=\"axis-text-x\" text-anchor=\"middle\" dy=\"0.7em\">\n            2018\n            </text>\n          </g>\n        </g>\n        <g transform=\"translate(160.14026277359088 0.0 ) \">\n          <line stroke-width=\"1.0\" stroke=\"rgb(71,71,71)\" stroke-opacity=\"1.0\" x2=\"0.0\" y2=\"4.0\">\n          </line>\n          <g transform=\"translate(0.0 7.0 ) \">\n            <text class=\"axis-text-x\" text-anchor=\"middle\" dy=\"0.7em\">\n            2019\n            </text>\n          </g>\n        </g>\n        <g transform=\"translate(272.51939454453185 0.0 ) \">\n          <line stroke-width=\"1.0\" stroke=\"rgb(71,71,71)\" stroke-opacity=\"1.0\" x2=\"0.0\" y2=\"4.0\">\n          </line>\n          <g transform=\"translate(0.0 7.0 ) \">\n            <text class=\"axis-text-x\" text-anchor=\"middle\" dy=\"0.7em\">\n            2020\n            </text>\n          </g>\n        </g>\n        <g transform=\"translate(384.8985263154728 0.0 ) \">\n          <line stroke-width=\"1.0\" stroke=\"rgb(71,71,71)\" stroke-opacity=\"1.0\" x2=\"0.0\" y2=\"4.0\">\n          </line>\n          <g transform=\"translate(0.0 7.0 ) \">\n            <text class=\"axis-text-x\" text-anchor=\"middle\" dy=\"0.7em\">\n            2021\n            </text>\n          </g>\n        </g>\n        <g transform=\"translate(497.27765808641374 0.0 ) \">\n          <line stroke-width=\"1.0\" stroke=\"rgb(71,71,71)\" stroke-opacity=\"1.0\" x2=\"0.0\" y2=\"4.0\">\n          </line>\n          <g transform=\"translate(0.0 7.0 ) \">\n            <text class=\"axis-text-x\" text-anchor=\"middle\" dy=\"0.7em\">\n            2022\n            </text>\n          </g>\n        </g>\n        <line x1=\"0.0\" y1=\"0.0\" x2=\"545.0387890890636\" y2=\"0.0\" stroke-width=\"1.0\" stroke=\"rgb(71,71,71)\" stroke-opacity=\"1.0\">\n        </line>\n      </g>\n      <g transform=\"translate(21.961210910936405 0.0 ) \">\n        <line x1=\"0.0\" y1=\"303.2682379349046\" x2=\"545.0387890890636\" y2=\"303.2682379349046\" stroke=\"rgb(233,233,233)\" stroke-opacity=\"1.0\" stroke-width=\"1.0\">\n        </line>\n        <line x1=\"0.0\" y1=\"264.6599326599328\" x2=\"545.0387890890636\" y2=\"264.6599326599328\" stroke=\"rgb(233,233,233)\" stroke-opacity=\"1.0\" stroke-width=\"1.0\">\n        </line>\n        <line x1=\"0.0\" y1=\"226.05162738496074\" x2=\"545.0387890890636\" y2=\"226.05162738496074\" stroke=\"rgb(233,233,233)\" stroke-opacity=\"1.0\" stroke-width=\"1.0\">\n        </line>\n        <line x1=\"0.0\" y1=\"187.4433221099889\" x2=\"545.0387890890636\" y2=\"187.4433221099889\" stroke=\"rgb(233,233,233)\" stroke-opacity=\"1.0\" stroke-width=\"1.0\">\n        </line>\n        <line x1=\"0.0\" y1=\"148.83501683501686\" x2=\"545.0387890890636\" y2=\"148.83501683501686\" stroke=\"rgb(233,233,233)\" stroke-opacity=\"1.0\" stroke-width=\"1.0\">\n        </line>\n        <line x1=\"0.0\" y1=\"110.22671156004503\" x2=\"545.0387890890636\" y2=\"110.22671156004503\" stroke=\"rgb(233,233,233)\" stroke-opacity=\"1.0\" stroke-width=\"1.0\">\n        </line>\n        <line x1=\"0.0\" y1=\"71.61840628507298\" x2=\"545.0387890890636\" y2=\"71.61840628507298\" stroke=\"rgb(233,233,233)\" stroke-opacity=\"1.0\" stroke-width=\"1.0\">\n        </line>\n        <line x1=\"0.0\" y1=\"33.01010101010115\" x2=\"545.0387890890636\" y2=\"33.01010101010115\" stroke=\"rgb(233,233,233)\" stroke-opacity=\"1.0\" stroke-width=\"1.0\">\n        </line>\n        <g transform=\"translate(0.0 341.87654320987644 ) \">\n          <g transform=\"translate(-3.0 0.0 ) \">\n            <text class=\"axis-text-y\" text-anchor=\"end\" dy=\"0.35em\">\n            62\n            </text>\n          </g>\n        </g>\n        <g transform=\"translate(0.0 303.2682379349046 ) \">\n          <g transform=\"translate(-3.0 0.0 ) \">\n            <text class=\"axis-text-y\" text-anchor=\"end\" dy=\"0.35em\">\n            64\n            </text>\n          </g>\n        </g>\n        <g transform=\"translate(0.0 264.6599326599328 ) \">\n          <g transform=\"translate(-3.0 0.0 ) \">\n            <text class=\"axis-text-y\" text-anchor=\"end\" dy=\"0.35em\">\n            66\n            </text>\n          </g>\n        </g>\n        <g transform=\"translate(0.0 226.05162738496074 ) \">\n          <g transform=\"translate(-3.0 0.0 ) \">\n            <text class=\"axis-text-y\" text-anchor=\"end\" dy=\"0.35em\">\n            68\n            </text>\n          </g>\n        </g>\n        <g transform=\"translate(0.0 187.4433221099889 ) \">\n          <g transform=\"translate(-3.0 0.0 ) \">\n            <text class=\"axis-text-y\" text-anchor=\"end\" dy=\"0.35em\">\n            70\n            </text>\n          </g>\n        </g>\n        <g transform=\"translate(0.0 148.83501683501686 ) \">\n          <g transform=\"translate(-3.0 0.0 ) \">\n            <text class=\"axis-text-y\" text-anchor=\"end\" dy=\"0.35em\">\n            72\n            </text>\n          </g>\n        </g>\n        <g transform=\"translate(0.0 110.22671156004503 ) \">\n          <g transform=\"translate(-3.0 0.0 ) \">\n            <text class=\"axis-text-y\" text-anchor=\"end\" dy=\"0.35em\">\n            74\n            </text>\n          </g>\n        </g>\n        <g transform=\"translate(0.0 71.61840628507298 ) \">\n          <g transform=\"translate(-3.0 0.0 ) \">\n            <text class=\"axis-text-y\" text-anchor=\"end\" dy=\"0.35em\">\n            76\n            </text>\n          </g>\n        </g>\n        <g transform=\"translate(0.0 33.01010101010115 ) \">\n          <g transform=\"translate(-3.0 0.0 ) \">\n            <text class=\"axis-text-y\" text-anchor=\"end\" dy=\"0.35em\">\n            78\n            </text>\n          </g>\n        </g>\n      </g>\n      <g transform=\"translate(21.961210910936405 0.0 ) \" clip-path=\"url(#cjZA9BF)\" clip-bounds-jfx=\"[rect (0.0, 0.0), (545.0387890890636, 344.0)]\">\n        <defs>\n          <clipPath id=\"cjZA9BF\">\n            <rect x=\"0.0\" y=\"0.0\" width=\"545.0387890890636\" height=\"344.0\">\n            </rect>\n          </clipPath>\n        </defs>\n        <g>\n          <line x1=\"22.475826354188197\" y1=\"328.36363636363626\" x2=\"73.04643565111162\" y2=\"328.36363636363626\" stroke=\"rgb(71,71,71)\" stroke-opacity=\"1.0\" fill=\"rgb(17,142,216)\" fill-opacity=\"1.0\" stroke-width=\"1.6500000000000001\">\n          </line>\n          <line x1=\"22.475826354188197\" y1=\"208.67789001122333\" x2=\"73.04643565111162\" y2=\"208.67789001122333\" stroke=\"rgb(71,71,71)\" stroke-opacity=\"1.0\" fill=\"rgb(17,142,216)\" fill-opacity=\"1.0\" stroke-width=\"1.6500000000000001\">\n          </line>\n          <line x1=\"47.76113100264991\" y1=\"328.36363636363626\" x2=\"47.76113100264991\" y2=\"208.67789001122333\" stroke=\"rgb(71,71,71)\" stroke-opacity=\"1.0\" fill=\"rgb(17,142,216)\" fill-opacity=\"1.0\" stroke-width=\"1.6500000000000001\">\n          </line>\n        </g>\n        <g>\n          <line x1=\"134.85495812512914\" y1=\"289.75533108866443\" x2=\"185.42556742205258\" y2=\"289.75533108866443\" stroke=\"rgb(71,71,71)\" stroke-opacity=\"1.0\" fill=\"rgb(17,142,216)\" fill-opacity=\"1.0\" stroke-width=\"1.6500000000000001\">\n          </line>\n          <line x1=\"134.85495812512914\" y1=\"162.34792368125704\" x2=\"185.42556742205258\" y2=\"162.34792368125704\" stroke=\"rgb(71,71,71)\" stroke-opacity=\"1.0\" fill=\"rgb(17,142,216)\" fill-opacity=\"1.0\" stroke-width=\"1.6500000000000001\">\n          </line>\n          <line x1=\"160.14026277359088\" y1=\"289.75533108866443\" x2=\"160.14026277359088\" y2=\"162.34792368125704\" stroke=\"rgb(71,71,71)\" stroke-opacity=\"1.0\" fill=\"rgb(17,142,216)\" fill-opacity=\"1.0\" stroke-width=\"1.6500000000000001\">\n          </line>\n        </g>\n        <g>\n          <line x1=\"247.2340898960701\" y1=\"146.90460157126836\" x2=\"297.80469919299355\" y2=\"146.90460157126836\" stroke=\"rgb(71,71,71)\" stroke-opacity=\"1.0\" fill=\"rgb(17,142,216)\" fill-opacity=\"1.0\" stroke-width=\"1.6500000000000001\">\n          </line>\n          <line x1=\"247.2340898960701\" y1=\"15.63636363636374\" x2=\"297.80469919299355\" y2=\"15.63636363636374\" stroke=\"rgb(71,71,71)\" stroke-opacity=\"1.0\" fill=\"rgb(17,142,216)\" fill-opacity=\"1.0\" stroke-width=\"1.6500000000000001\">\n          </line>\n          <line x1=\"272.51939454453185\" y1=\"146.90460157126836\" x2=\"272.51939454453185\" y2=\"15.63636363636374\" stroke=\"rgb(71,71,71)\" stroke-opacity=\"1.0\" fill=\"rgb(17,142,216)\" fill-opacity=\"1.0\" stroke-width=\"1.6500000000000001\">\n          </line>\n        </g>\n        <g>\n          <line x1=\"359.61322166701103\" y1=\"116.01795735129076\" x2=\"410.1838309639345\" y2=\"116.01795735129076\" stroke=\"rgb(71,71,71)\" stroke-opacity=\"1.0\" fill=\"rgb(17,142,216)\" fill-opacity=\"1.0\" stroke-width=\"1.6500000000000001\">\n          </line>\n          <line x1=\"359.61322166701103\" y1=\"61.96632996633002\" x2=\"410.1838309639345\" y2=\"61.96632996633002\" stroke=\"rgb(71,71,71)\" stroke-opacity=\"1.0\" fill=\"rgb(17,142,216)\" fill-opacity=\"1.0\" stroke-width=\"1.6500000000000001\">\n          </line>\n          <line x1=\"384.8985263154728\" y1=\"116.01795735129076\" x2=\"384.8985263154728\" y2=\"61.96632996633002\" stroke=\"rgb(71,71,71)\" stroke-opacity=\"1.0\" fill=\"rgb(17,142,216)\" fill-opacity=\"1.0\" stroke-width=\"1.6500000000000001\">\n          </line>\n        </g>\n        <g>\n          <line x1=\"471.99235343795203\" y1=\"216.39955106621778\" x2=\"522.5629627348754\" y2=\"216.39955106621778\" stroke=\"rgb(71,71,71)\" stroke-opacity=\"1.0\" fill=\"rgb(17,142,216)\" fill-opacity=\"1.0\" stroke-width=\"1.6500000000000001\">\n          </line>\n          <line x1=\"471.99235343795203\" y1=\"146.90460157126836\" x2=\"522.5629627348754\" y2=\"146.90460157126836\" stroke=\"rgb(71,71,71)\" stroke-opacity=\"1.0\" fill=\"rgb(17,142,216)\" fill-opacity=\"1.0\" stroke-width=\"1.6500000000000001\">\n          </line>\n          <line x1=\"497.27765808641374\" y1=\"216.39955106621778\" x2=\"497.27765808641374\" y2=\"146.90460157126836\" stroke=\"rgb(71,71,71)\" stroke-opacity=\"1.0\" fill=\"rgb(17,142,216)\" fill-opacity=\"1.0\" stroke-width=\"1.6500000000000001\">\n          </line>\n        </g>\n      </g>\n    </g>\n    <g transform=\"translate(14.5 182.0 ) rotate(-90.0 ) \">\n      <text class=\"axis-title-y\" y=\"0.0\" text-anchor=\"middle\">\n      y\n      </text>\n    </g>\n    <g transform=\"translate(317.4806054554682 391.5 ) \">\n      <text class=\"axis-title-x\" y=\"0.0\" text-anchor=\"middle\">\n      year\n      </text>\n    </g>\n    <path fill=\"rgb(0,0,0)\" fill-opacity=\"0.0\" stroke=\"rgb(71,71,71)\" stroke-opacity=\"1.0\" stroke-width=\"0.0\" d=\"M0.0 0.0 L0.0 400.0 L600.0 400.0 L600.0 0.0 Z\">\n    </path>\n  </g>\n  <g id=\"d0zVlQl\">\n  </g>\n</svg>\n        <script>document.getElementById(\"b0bf8ee1-e0a8-496f-b9fd-7b86a72e73f1\").style.display = \"none\";</script>",
      "application/plot+json": {
       "output_type": "lets_plot_spec",
       "output": {
        "mapping": {},
        "data": {
         "year": [
          "2018",
          "2019",
          "2020",
          "2021",
          "2022"
         ],
         "minimal cost": [
          62.7,
          64.7,
          72.1,
          73.7,
          68.5
         ],
         "maximal cost": [
          68.9,
          71.3,
          78.9,
          76.5,
          72.1
         ]
        },
        "kind": "plot",
        "scales": [
         {
          "aesthetic": "x",
          "discrete": true
         }
        ],
        "layers": [
         {
          "mapping": {
           "x": "year",
           "ymin": "minimal cost",
           "ymax": "maximal cost"
          },
          "stat": "identity",
          "sampling": "none",
          "position": "dodge",
          "geom": "errorbar"
         }
        ]
       },
       "apply_color_scheme": true,
       "swing_enabled": true
      }
     },
     "execution_count": 7,
     "metadata": {},
     "output_type": "execute_result"
    }
   ],
   "source": [
    "val df = dataFrameOf(\"year\" to years, \"minimal cost\" to costMin, \"maximal cost\" to costMax)\n",
    "df.plot { \n",
    "    errorBars { \n",
    "        x(\"year\")\n",
    "        yMin(\"minimal cost\")\n",
    "        yMax(\"maximal cost\")\n",
    "    }\n",
    "}"
   ],
   "metadata": {
    "collapsed": false,
    "ExecuteTime": {
     "end_time": "2023-11-17T11:28:54.165530Z",
     "start_time": "2023-11-17T11:28:53.299613Z"
    }
   }
  },
  {
   "cell_type": "markdown",
   "source": [
    "## Axis scale"
   ],
   "metadata": {
    "collapsed": false
   }
  },
  {
   "cell_type": "code",
   "execution_count": 8,
   "outputs": [
    {
     "data": {
      "text/html": "            <iframe src='about:blank' style='border:none !important;' width='600' height='400' srcdoc=\"&lt;html lang=&quot;en&quot;>\n   &lt;head>\n       &lt;style> html, body { margin: 0; overflow: hidden; } &lt;/style>\n       &lt;script type=&quot;text/javascript&quot; data-lets-plot-script=&quot;library&quot; src=&quot;https://cdn.jsdelivr.net/gh/JetBrains/lets-plot@v4.0.1/js-package/distr/lets-plot.min.js&quot;>&lt;/script>\n   &lt;/head>\n   &lt;body>\n          &lt;div id=&quot;EYnrH9&quot;>&lt;/div>\n   &lt;script type=&quot;text/javascript&quot; data-lets-plot-script=&quot;plot&quot;>\n       var plotSpec={\n&quot;mapping&quot;:{\n},\n&quot;data&quot;:{\n},\n&quot;kind&quot;:&quot;plot&quot;,\n&quot;scales&quot;:[{\n&quot;aesthetic&quot;:&quot;y&quot;,\n&quot;limits&quot;:[60.0,80.0]\n},{\n&quot;aesthetic&quot;:&quot;x&quot;,\n&quot;discrete&quot;:true\n}],\n&quot;layers&quot;:[{\n&quot;mapping&quot;:{\n&quot;x&quot;:&quot;x&quot;,\n&quot;ymin&quot;:&quot;ymin&quot;,\n&quot;ymax&quot;:&quot;ymax&quot;\n},\n&quot;stat&quot;:&quot;identity&quot;,\n&quot;data&quot;:{\n&quot;ymin&quot;:[62.7,64.7,72.1,73.7,68.5],\n&quot;ymax&quot;:[68.9,71.3,78.9,76.5,72.1],\n&quot;x&quot;:[&quot;2018&quot;,&quot;2019&quot;,&quot;2020&quot;,&quot;2021&quot;,&quot;2022&quot;]\n},\n&quot;sampling&quot;:&quot;none&quot;,\n&quot;position&quot;:&quot;dodge&quot;,\n&quot;geom&quot;:&quot;errorbar&quot;\n}]\n};\n       var plotContainer = document.getElementById(&quot;EYnrH9&quot;);\n       LetsPlot.buildPlotFromProcessedSpecs(plotSpec, -1, -1, plotContainer);\n   &lt;/script>\n   &lt;/body>\n&lt;/html>\"></iframe>            \n        <svg id=2a0719c4-78bf-4496-beb3-d84e840ed816 xmlns=\"http://www.w3.org/2000/svg\" xmlns:xlink=\"http://www.w3.org/1999/xlink\" class=\"plt-container\" width=\"600.0\" height=\"400.0\">\n  <style type=\"text/css\">\n  .plt-container {\n   font-family: Lucida Grande, sans-serif;\n   user-select: none;\n   -webkit-user-select: none;\n   -moz-user-select: none;\n   -ms-user-select: none;\n}\ntext {\n   text-rendering: optimizeLegibility;\n}\n#pvhv4yN .plot-title {\n   fill: #474747;\n   font-family: Lucida Grande, sans-serif;\n   font-size: 16.0px;\n   font-weight: normal;\n   font-style: normal;   \n}\n#pvhv4yN .plot-subtitle {\n   fill: #474747;\n   font-family: Lucida Grande, sans-serif;\n   font-size: 15.0px;\n   font-weight: normal;\n   font-style: normal;   \n}\n#pvhv4yN .plot-caption {\n   fill: #474747;\n   font-family: Lucida Grande, sans-serif;\n   font-size: 13.0px;\n   font-weight: normal;\n   font-style: normal;   \n}\n#pvhv4yN .legend-title {\n   fill: #474747;\n   font-family: Lucida Grande, sans-serif;\n   font-size: 15.0px;\n   font-weight: normal;\n   font-style: normal;   \n}\n#pvhv4yN .legend-item {\n   fill: #474747;\n   font-family: Lucida Grande, sans-serif;\n   font-size: 13.0px;\n   font-weight: normal;\n   font-style: normal;   \n}\n#pvhv4yN .axis-title-x {\n   fill: #474747;\n   font-family: Lucida Grande, sans-serif;\n   font-size: 15.0px;\n   font-weight: normal;\n   font-style: normal;   \n}\n#pvhv4yN .axis-text-x {\n   fill: #474747;\n   font-family: Lucida Grande, sans-serif;\n   font-size: 13.0px;\n   font-weight: normal;\n   font-style: normal;   \n}\n#d1O0Ae2 .axis-tooltip-text-x {\n   fill: #ffffff;\n   font-family: Lucida Grande, sans-serif;\n   font-size: 13.0px;\n   font-weight: normal;\n   font-style: normal;   \n}\n#pvhv4yN .axis-title-y {\n   fill: #474747;\n   font-family: Lucida Grande, sans-serif;\n   font-size: 15.0px;\n   font-weight: normal;\n   font-style: normal;   \n}\n#pvhv4yN .axis-text-y {\n   fill: #474747;\n   font-family: Lucida Grande, sans-serif;\n   font-size: 13.0px;\n   font-weight: normal;\n   font-style: normal;   \n}\n#d1O0Ae2 .axis-tooltip-text-y {\n   fill: #ffffff;\n   font-family: Lucida Grande, sans-serif;\n   font-size: 13.0px;\n   font-weight: normal;\n   font-style: normal;   \n}\n#pvhv4yN .facet-strip-text-x {\n   fill: #474747;\n   font-family: Lucida Grande, sans-serif;\n   font-size: 13.0px;\n   font-weight: normal;\n   font-style: normal;   \n}\n#pvhv4yN .facet-strip-text-y {\n   fill: #474747;\n   font-family: Lucida Grande, sans-serif;\n   font-size: 13.0px;\n   font-weight: normal;\n   font-style: normal;   \n}\n#d1O0Ae2 .tooltip-text {\n   fill: #474747;\n   font-family: Lucida Grande, sans-serif;\n   font-size: 13.0px;\n   font-weight: normal;\n   font-style: normal;   \n}\n#d1O0Ae2 .tooltip-title {\n   fill: #474747;\n   font-family: Lucida Grande, sans-serif;\n   font-size: 13.0px;\n   font-weight: bold;\n   font-style: normal;   \n}\n#d1O0Ae2 .tooltip-label {\n   fill: #474747;\n   font-family: Lucida Grande, sans-serif;\n   font-size: 13.0px;\n   font-weight: bold;\n   font-style: normal;   \n}\n\n  </style>\n  <g id=\"pvhv4yN\">\n    <path fill-rule=\"evenodd\" fill=\"rgb(255,255,255)\" fill-opacity=\"1.0\" d=\"M0.0 0.0 L0.0 400.0 L600.0 400.0 L600.0 0.0 Z\">\n    </path>\n    <g transform=\"translate(23.0 10.0 ) \">\n      <g transform=\"translate(21.961210910936405 344.0 ) \">\n        <line x1=\"47.76113100264991\" y1=\"-0.0\" x2=\"47.76113100264991\" y2=\"-344.0\" stroke=\"rgb(233,233,233)\" stroke-opacity=\"1.0\" stroke-width=\"1.0\">\n        </line>\n        <line x1=\"160.14026277359088\" y1=\"-0.0\" x2=\"160.14026277359088\" y2=\"-344.0\" stroke=\"rgb(233,233,233)\" stroke-opacity=\"1.0\" stroke-width=\"1.0\">\n        </line>\n        <line x1=\"272.51939454453185\" y1=\"-0.0\" x2=\"272.51939454453185\" y2=\"-344.0\" stroke=\"rgb(233,233,233)\" stroke-opacity=\"1.0\" stroke-width=\"1.0\">\n        </line>\n        <line x1=\"384.8985263154728\" y1=\"-0.0\" x2=\"384.8985263154728\" y2=\"-344.0\" stroke=\"rgb(233,233,233)\" stroke-opacity=\"1.0\" stroke-width=\"1.0\">\n        </line>\n        <line x1=\"497.27765808641374\" y1=\"-0.0\" x2=\"497.27765808641374\" y2=\"-344.0\" stroke=\"rgb(233,233,233)\" stroke-opacity=\"1.0\" stroke-width=\"1.0\">\n        </line>\n        <g transform=\"translate(47.76113100264991 0.0 ) \">\n          <line stroke-width=\"1.0\" stroke=\"rgb(71,71,71)\" stroke-opacity=\"1.0\" x2=\"0.0\" y2=\"4.0\">\n          </line>\n          <g transform=\"translate(0.0 7.0 ) \">\n            <text class=\"axis-text-x\" text-anchor=\"middle\" dy=\"0.7em\">\n            2018\n            </text>\n          </g>\n        </g>\n        <g transform=\"translate(160.14026277359088 0.0 ) \">\n          <line stroke-width=\"1.0\" stroke=\"rgb(71,71,71)\" stroke-opacity=\"1.0\" x2=\"0.0\" y2=\"4.0\">\n          </line>\n          <g transform=\"translate(0.0 7.0 ) \">\n            <text class=\"axis-text-x\" text-anchor=\"middle\" dy=\"0.7em\">\n            2019\n            </text>\n          </g>\n        </g>\n        <g transform=\"translate(272.51939454453185 0.0 ) \">\n          <line stroke-width=\"1.0\" stroke=\"rgb(71,71,71)\" stroke-opacity=\"1.0\" x2=\"0.0\" y2=\"4.0\">\n          </line>\n          <g transform=\"translate(0.0 7.0 ) \">\n            <text class=\"axis-text-x\" text-anchor=\"middle\" dy=\"0.7em\">\n            2020\n            </text>\n          </g>\n        </g>\n        <g transform=\"translate(384.8985263154728 0.0 ) \">\n          <line stroke-width=\"1.0\" stroke=\"rgb(71,71,71)\" stroke-opacity=\"1.0\" x2=\"0.0\" y2=\"4.0\">\n          </line>\n          <g transform=\"translate(0.0 7.0 ) \">\n            <text class=\"axis-text-x\" text-anchor=\"middle\" dy=\"0.7em\">\n            2021\n            </text>\n          </g>\n        </g>\n        <g transform=\"translate(497.27765808641374 0.0 ) \">\n          <line stroke-width=\"1.0\" stroke=\"rgb(71,71,71)\" stroke-opacity=\"1.0\" x2=\"0.0\" y2=\"4.0\">\n          </line>\n          <g transform=\"translate(0.0 7.0 ) \">\n            <text class=\"axis-text-x\" text-anchor=\"middle\" dy=\"0.7em\">\n            2022\n            </text>\n          </g>\n        </g>\n        <line x1=\"0.0\" y1=\"0.0\" x2=\"545.0387890890636\" y2=\"0.0\" stroke-width=\"1.0\" stroke=\"rgb(71,71,71)\" stroke-opacity=\"1.0\">\n        </line>\n      </g>\n      <g transform=\"translate(21.961210910936405 0.0 ) \">\n        <line x1=\"0.0\" y1=\"328.36363636363626\" x2=\"545.0387890890636\" y2=\"328.36363636363626\" stroke=\"rgb(233,233,233)\" stroke-opacity=\"1.0\" stroke-width=\"1.0\">\n        </line>\n        <line x1=\"0.0\" y1=\"250.18181818181813\" x2=\"545.0387890890636\" y2=\"250.18181818181813\" stroke=\"rgb(233,233,233)\" stroke-opacity=\"1.0\" stroke-width=\"1.0\">\n        </line>\n        <line x1=\"0.0\" y1=\"172.0\" x2=\"545.0387890890636\" y2=\"172.0\" stroke=\"rgb(233,233,233)\" stroke-opacity=\"1.0\" stroke-width=\"1.0\">\n        </line>\n        <line x1=\"0.0\" y1=\"93.81818181818176\" x2=\"545.0387890890636\" y2=\"93.81818181818176\" stroke=\"rgb(233,233,233)\" stroke-opacity=\"1.0\" stroke-width=\"1.0\">\n        </line>\n        <line x1=\"0.0\" y1=\"15.636363636363512\" x2=\"545.0387890890636\" y2=\"15.636363636363512\" stroke=\"rgb(233,233,233)\" stroke-opacity=\"1.0\" stroke-width=\"1.0\">\n        </line>\n        <g transform=\"translate(0.0 328.36363636363626 ) \">\n          <g transform=\"translate(-3.0 0.0 ) \">\n            <text class=\"axis-text-y\" text-anchor=\"end\" dy=\"0.35em\">\n            60\n            </text>\n          </g>\n        </g>\n        <g transform=\"translate(0.0 250.18181818181813 ) \">\n          <g transform=\"translate(-3.0 0.0 ) \">\n            <text class=\"axis-text-y\" text-anchor=\"end\" dy=\"0.35em\">\n            65\n            </text>\n          </g>\n        </g>\n        <g transform=\"translate(0.0 172.0 ) \">\n          <g transform=\"translate(-3.0 0.0 ) \">\n            <text class=\"axis-text-y\" text-anchor=\"end\" dy=\"0.35em\">\n            70\n            </text>\n          </g>\n        </g>\n        <g transform=\"translate(0.0 93.81818181818176 ) \">\n          <g transform=\"translate(-3.0 0.0 ) \">\n            <text class=\"axis-text-y\" text-anchor=\"end\" dy=\"0.35em\">\n            75\n            </text>\n          </g>\n        </g>\n        <g transform=\"translate(0.0 15.636363636363512 ) \">\n          <g transform=\"translate(-3.0 0.0 ) \">\n            <text class=\"axis-text-y\" text-anchor=\"end\" dy=\"0.35em\">\n            80\n            </text>\n          </g>\n        </g>\n      </g>\n      <g transform=\"translate(21.961210910936405 0.0 ) \" clip-path=\"url(#conNxjr)\" clip-bounds-jfx=\"[rect (0.0, 0.0), (545.0387890890636, 344.0)]\">\n        <defs>\n          <clipPath id=\"conNxjr\">\n            <rect x=\"0.0\" y=\"0.0\" width=\"545.0387890890636\" height=\"344.0\">\n            </rect>\n          </clipPath>\n        </defs>\n        <g>\n          <line x1=\"22.475826354188197\" y1=\"286.1454545454544\" x2=\"73.04643565111162\" y2=\"286.1454545454544\" stroke=\"rgb(71,71,71)\" stroke-opacity=\"1.0\" fill=\"rgb(17,142,216)\" fill-opacity=\"1.0\" stroke-width=\"1.6500000000000001\">\n          </line>\n          <line x1=\"22.475826354188197\" y1=\"189.19999999999982\" x2=\"73.04643565111162\" y2=\"189.19999999999982\" stroke=\"rgb(71,71,71)\" stroke-opacity=\"1.0\" fill=\"rgb(17,142,216)\" fill-opacity=\"1.0\" stroke-width=\"1.6500000000000001\">\n          </line>\n          <line x1=\"47.76113100264991\" y1=\"286.1454545454544\" x2=\"47.76113100264991\" y2=\"189.19999999999982\" stroke=\"rgb(71,71,71)\" stroke-opacity=\"1.0\" fill=\"rgb(17,142,216)\" fill-opacity=\"1.0\" stroke-width=\"1.6500000000000001\">\n          </line>\n        </g>\n        <g>\n          <line x1=\"134.85495812512914\" y1=\"254.87272727272716\" x2=\"185.42556742205258\" y2=\"254.87272727272716\" stroke=\"rgb(71,71,71)\" stroke-opacity=\"1.0\" fill=\"rgb(17,142,216)\" fill-opacity=\"1.0\" stroke-width=\"1.6500000000000001\">\n          </line>\n          <line x1=\"134.85495812512914\" y1=\"151.67272727272734\" x2=\"185.42556742205258\" y2=\"151.67272727272734\" stroke=\"rgb(71,71,71)\" stroke-opacity=\"1.0\" fill=\"rgb(17,142,216)\" fill-opacity=\"1.0\" stroke-width=\"1.6500000000000001\">\n          </line>\n          <line x1=\"160.14026277359088\" y1=\"254.87272727272716\" x2=\"160.14026277359088\" y2=\"151.67272727272734\" stroke=\"rgb(71,71,71)\" stroke-opacity=\"1.0\" fill=\"rgb(17,142,216)\" fill-opacity=\"1.0\" stroke-width=\"1.6500000000000001\">\n          </line>\n        </g>\n        <g>\n          <line x1=\"247.2340898960701\" y1=\"139.16363636363644\" x2=\"297.80469919299355\" y2=\"139.16363636363644\" stroke=\"rgb(71,71,71)\" stroke-opacity=\"1.0\" fill=\"rgb(17,142,216)\" fill-opacity=\"1.0\" stroke-width=\"1.6500000000000001\">\n          </line>\n          <line x1=\"247.2340898960701\" y1=\"32.83636363636356\" x2=\"297.80469919299355\" y2=\"32.83636363636356\" stroke=\"rgb(71,71,71)\" stroke-opacity=\"1.0\" fill=\"rgb(17,142,216)\" fill-opacity=\"1.0\" stroke-width=\"1.6500000000000001\">\n          </line>\n          <line x1=\"272.51939454453185\" y1=\"139.16363636363644\" x2=\"272.51939454453185\" y2=\"32.83636363636356\" stroke=\"rgb(71,71,71)\" stroke-opacity=\"1.0\" fill=\"rgb(17,142,216)\" fill-opacity=\"1.0\" stroke-width=\"1.6500000000000001\">\n          </line>\n        </g>\n        <g>\n          <line x1=\"359.61322166701103\" y1=\"114.14545454545441\" x2=\"410.1838309639345\" y2=\"114.14545454545441\" stroke=\"rgb(71,71,71)\" stroke-opacity=\"1.0\" fill=\"rgb(17,142,216)\" fill-opacity=\"1.0\" stroke-width=\"1.6500000000000001\">\n          </line>\n          <line x1=\"359.61322166701103\" y1=\"70.36363636363626\" x2=\"410.1838309639345\" y2=\"70.36363636363626\" stroke=\"rgb(71,71,71)\" stroke-opacity=\"1.0\" fill=\"rgb(17,142,216)\" fill-opacity=\"1.0\" stroke-width=\"1.6500000000000001\">\n          </line>\n          <line x1=\"384.8985263154728\" y1=\"114.14545454545441\" x2=\"384.8985263154728\" y2=\"70.36363636363626\" stroke=\"rgb(71,71,71)\" stroke-opacity=\"1.0\" fill=\"rgb(17,142,216)\" fill-opacity=\"1.0\" stroke-width=\"1.6500000000000001\">\n          </line>\n        </g>\n        <g>\n          <line x1=\"471.99235343795203\" y1=\"195.4545454545455\" x2=\"522.5629627348754\" y2=\"195.4545454545455\" stroke=\"rgb(71,71,71)\" stroke-opacity=\"1.0\" fill=\"rgb(17,142,216)\" fill-opacity=\"1.0\" stroke-width=\"1.6500000000000001\">\n          </line>\n          <line x1=\"471.99235343795203\" y1=\"139.16363636363644\" x2=\"522.5629627348754\" y2=\"139.16363636363644\" stroke=\"rgb(71,71,71)\" stroke-opacity=\"1.0\" fill=\"rgb(17,142,216)\" fill-opacity=\"1.0\" stroke-width=\"1.6500000000000001\">\n          </line>\n          <line x1=\"497.27765808641374\" y1=\"195.4545454545455\" x2=\"497.27765808641374\" y2=\"139.16363636363644\" stroke=\"rgb(71,71,71)\" stroke-opacity=\"1.0\" fill=\"rgb(17,142,216)\" fill-opacity=\"1.0\" stroke-width=\"1.6500000000000001\">\n          </line>\n        </g>\n      </g>\n    </g>\n    <g transform=\"translate(14.5 182.0 ) rotate(-90.0 ) \">\n      <text class=\"axis-title-y\" y=\"0.0\" text-anchor=\"middle\">\n      y\n      </text>\n    </g>\n    <g transform=\"translate(317.4806054554682 391.5 ) \">\n      <text class=\"axis-title-x\" y=\"0.0\" text-anchor=\"middle\">\n      x\n      </text>\n    </g>\n    <path fill=\"rgb(0,0,0)\" fill-opacity=\"0.0\" stroke=\"rgb(71,71,71)\" stroke-opacity=\"1.0\" stroke-width=\"0.0\" d=\"M0.0 0.0 L0.0 400.0 L600.0 400.0 L600.0 0.0 Z\">\n    </path>\n  </g>\n  <g id=\"d1O0Ae2\">\n  </g>\n</svg>\n        <script>document.getElementById(\"2a0719c4-78bf-4496-beb3-d84e840ed816\").style.display = \"none\";</script>",
      "application/plot+json": {
       "output_type": "lets_plot_spec",
       "output": {
        "mapping": {},
        "data": {},
        "kind": "plot",
        "scales": [
         {
          "aesthetic": "y",
          "limits": [
           60.0,
           80.0
          ]
         },
         {
          "aesthetic": "x",
          "discrete": true
         }
        ],
        "layers": [
         {
          "mapping": {
           "x": "x",
           "ymin": "ymin",
           "ymax": "ymax"
          },
          "stat": "identity",
          "data": {
           "ymin": [
            62.7,
            64.7,
            72.1,
            73.7,
            68.5
           ],
           "ymax": [
            68.9,
            71.3,
            78.9,
            76.5,
            72.1
           ],
           "x": [
            "2018",
            "2019",
            "2020",
            "2021",
            "2022"
           ]
          },
          "sampling": "none",
          "position": "dodge",
          "geom": "errorbar"
         }
        ]
       },
       "apply_color_scheme": true,
       "swing_enabled": true
      }
     },
     "execution_count": 8,
     "metadata": {},
     "output_type": "execute_result"
    }
   ],
   "source": [
    "plot {\n",
    "    errorBars { \n",
    "        x(years)\n",
    "        yMin(costMin)\n",
    "        yMax(costMax)\n",
    "        y {\n",
    "            scale = continuous(60.0..80.0)\n",
    "        }\n",
    "    }\n",
    "}"
   ],
   "metadata": {
    "collapsed": false,
    "ExecuteTime": {
     "end_time": "2023-11-17T11:28:54.412711Z",
     "start_time": "2023-11-17T11:28:54.162288Z"
    }
   }
  },
  {
   "cell_type": "markdown",
   "source": [
    "## Reversed axis"
   ],
   "metadata": {
    "collapsed": false
   }
  },
  {
   "cell_type": "code",
   "execution_count": 9,
   "outputs": [
    {
     "data": {
      "text/html": "            <iframe src='about:blank' style='border:none !important;' width='600' height='400' srcdoc=\"&lt;html lang=&quot;en&quot;>\n   &lt;head>\n       &lt;style> html, body { margin: 0; overflow: hidden; } &lt;/style>\n       &lt;script type=&quot;text/javascript&quot; data-lets-plot-script=&quot;library&quot; src=&quot;https://cdn.jsdelivr.net/gh/JetBrains/lets-plot@v4.0.1/js-package/distr/lets-plot.min.js&quot;>&lt;/script>\n   &lt;/head>\n   &lt;body>\n          &lt;div id=&quot;WJgip1&quot;>&lt;/div>\n   &lt;script type=&quot;text/javascript&quot; data-lets-plot-script=&quot;plot&quot;>\n       var plotSpec={\n&quot;mapping&quot;:{\n},\n&quot;data&quot;:{\n},\n&quot;kind&quot;:&quot;plot&quot;,\n&quot;scales&quot;:[{\n&quot;aesthetic&quot;:&quot;y&quot;,\n&quot;limits&quot;:[null,null],\n&quot;trans&quot;:&quot;REVERSE&quot;\n},{\n&quot;aesthetic&quot;:&quot;x&quot;,\n&quot;discrete&quot;:true\n}],\n&quot;layers&quot;:[{\n&quot;mapping&quot;:{\n&quot;x&quot;:&quot;x&quot;,\n&quot;ymin&quot;:&quot;ymin&quot;,\n&quot;ymax&quot;:&quot;ymax&quot;\n},\n&quot;stat&quot;:&quot;identity&quot;,\n&quot;data&quot;:{\n&quot;ymin&quot;:[62.7,64.7,72.1,73.7,68.5],\n&quot;ymax&quot;:[68.9,71.3,78.9,76.5,72.1],\n&quot;x&quot;:[&quot;2018&quot;,&quot;2019&quot;,&quot;2020&quot;,&quot;2021&quot;,&quot;2022&quot;]\n},\n&quot;sampling&quot;:&quot;none&quot;,\n&quot;position&quot;:&quot;dodge&quot;,\n&quot;geom&quot;:&quot;errorbar&quot;\n}]\n};\n       var plotContainer = document.getElementById(&quot;WJgip1&quot;);\n       LetsPlot.buildPlotFromProcessedSpecs(plotSpec, -1, -1, plotContainer);\n   &lt;/script>\n   &lt;/body>\n&lt;/html>\"></iframe>            \n        <svg id=c3d6c751-92e3-49e3-bac4-b406a9ddc80c xmlns=\"http://www.w3.org/2000/svg\" xmlns:xlink=\"http://www.w3.org/1999/xlink\" class=\"plt-container\" width=\"600.0\" height=\"400.0\">\n  <style type=\"text/css\">\n  .plt-container {\n   font-family: Lucida Grande, sans-serif;\n   user-select: none;\n   -webkit-user-select: none;\n   -moz-user-select: none;\n   -ms-user-select: none;\n}\ntext {\n   text-rendering: optimizeLegibility;\n}\n#pYXa68F .plot-title {\n   fill: #474747;\n   font-family: Lucida Grande, sans-serif;\n   font-size: 16.0px;\n   font-weight: normal;\n   font-style: normal;   \n}\n#pYXa68F .plot-subtitle {\n   fill: #474747;\n   font-family: Lucida Grande, sans-serif;\n   font-size: 15.0px;\n   font-weight: normal;\n   font-style: normal;   \n}\n#pYXa68F .plot-caption {\n   fill: #474747;\n   font-family: Lucida Grande, sans-serif;\n   font-size: 13.0px;\n   font-weight: normal;\n   font-style: normal;   \n}\n#pYXa68F .legend-title {\n   fill: #474747;\n   font-family: Lucida Grande, sans-serif;\n   font-size: 15.0px;\n   font-weight: normal;\n   font-style: normal;   \n}\n#pYXa68F .legend-item {\n   fill: #474747;\n   font-family: Lucida Grande, sans-serif;\n   font-size: 13.0px;\n   font-weight: normal;\n   font-style: normal;   \n}\n#pYXa68F .axis-title-x {\n   fill: #474747;\n   font-family: Lucida Grande, sans-serif;\n   font-size: 15.0px;\n   font-weight: normal;\n   font-style: normal;   \n}\n#pYXa68F .axis-text-x {\n   fill: #474747;\n   font-family: Lucida Grande, sans-serif;\n   font-size: 13.0px;\n   font-weight: normal;\n   font-style: normal;   \n}\n#dVfmj9P .axis-tooltip-text-x {\n   fill: #ffffff;\n   font-family: Lucida Grande, sans-serif;\n   font-size: 13.0px;\n   font-weight: normal;\n   font-style: normal;   \n}\n#pYXa68F .axis-title-y {\n   fill: #474747;\n   font-family: Lucida Grande, sans-serif;\n   font-size: 15.0px;\n   font-weight: normal;\n   font-style: normal;   \n}\n#pYXa68F .axis-text-y {\n   fill: #474747;\n   font-family: Lucida Grande, sans-serif;\n   font-size: 13.0px;\n   font-weight: normal;\n   font-style: normal;   \n}\n#dVfmj9P .axis-tooltip-text-y {\n   fill: #ffffff;\n   font-family: Lucida Grande, sans-serif;\n   font-size: 13.0px;\n   font-weight: normal;\n   font-style: normal;   \n}\n#pYXa68F .facet-strip-text-x {\n   fill: #474747;\n   font-family: Lucida Grande, sans-serif;\n   font-size: 13.0px;\n   font-weight: normal;\n   font-style: normal;   \n}\n#pYXa68F .facet-strip-text-y {\n   fill: #474747;\n   font-family: Lucida Grande, sans-serif;\n   font-size: 13.0px;\n   font-weight: normal;\n   font-style: normal;   \n}\n#dVfmj9P .tooltip-text {\n   fill: #474747;\n   font-family: Lucida Grande, sans-serif;\n   font-size: 13.0px;\n   font-weight: normal;\n   font-style: normal;   \n}\n#dVfmj9P .tooltip-title {\n   fill: #474747;\n   font-family: Lucida Grande, sans-serif;\n   font-size: 13.0px;\n   font-weight: bold;\n   font-style: normal;   \n}\n#dVfmj9P .tooltip-label {\n   fill: #474747;\n   font-family: Lucida Grande, sans-serif;\n   font-size: 13.0px;\n   font-weight: bold;\n   font-style: normal;   \n}\n\n  </style>\n  <g id=\"pYXa68F\">\n    <path fill-rule=\"evenodd\" fill=\"rgb(255,255,255)\" fill-opacity=\"1.0\" d=\"M0.0 0.0 L0.0 400.0 L600.0 400.0 L600.0 0.0 Z\">\n    </path>\n    <g transform=\"translate(23.0 10.0 ) \">\n      <g transform=\"translate(21.961210910936405 344.0 ) \">\n        <line x1=\"47.76113100264991\" y1=\"-0.0\" x2=\"47.76113100264991\" y2=\"-344.0\" stroke=\"rgb(233,233,233)\" stroke-opacity=\"1.0\" stroke-width=\"1.0\">\n        </line>\n        <line x1=\"160.14026277359088\" y1=\"-0.0\" x2=\"160.14026277359088\" y2=\"-344.0\" stroke=\"rgb(233,233,233)\" stroke-opacity=\"1.0\" stroke-width=\"1.0\">\n        </line>\n        <line x1=\"272.51939454453185\" y1=\"-0.0\" x2=\"272.51939454453185\" y2=\"-344.0\" stroke=\"rgb(233,233,233)\" stroke-opacity=\"1.0\" stroke-width=\"1.0\">\n        </line>\n        <line x1=\"384.8985263154728\" y1=\"-0.0\" x2=\"384.8985263154728\" y2=\"-344.0\" stroke=\"rgb(233,233,233)\" stroke-opacity=\"1.0\" stroke-width=\"1.0\">\n        </line>\n        <line x1=\"497.27765808641374\" y1=\"-0.0\" x2=\"497.27765808641374\" y2=\"-344.0\" stroke=\"rgb(233,233,233)\" stroke-opacity=\"1.0\" stroke-width=\"1.0\">\n        </line>\n        <g transform=\"translate(47.76113100264991 0.0 ) \">\n          <line stroke-width=\"1.0\" stroke=\"rgb(71,71,71)\" stroke-opacity=\"1.0\" x2=\"0.0\" y2=\"4.0\">\n          </line>\n          <g transform=\"translate(0.0 7.0 ) \">\n            <text class=\"axis-text-x\" text-anchor=\"middle\" dy=\"0.7em\">\n            2018\n            </text>\n          </g>\n        </g>\n        <g transform=\"translate(160.14026277359088 0.0 ) \">\n          <line stroke-width=\"1.0\" stroke=\"rgb(71,71,71)\" stroke-opacity=\"1.0\" x2=\"0.0\" y2=\"4.0\">\n          </line>\n          <g transform=\"translate(0.0 7.0 ) \">\n            <text class=\"axis-text-x\" text-anchor=\"middle\" dy=\"0.7em\">\n            2019\n            </text>\n          </g>\n        </g>\n        <g transform=\"translate(272.51939454453185 0.0 ) \">\n          <line stroke-width=\"1.0\" stroke=\"rgb(71,71,71)\" stroke-opacity=\"1.0\" x2=\"0.0\" y2=\"4.0\">\n          </line>\n          <g transform=\"translate(0.0 7.0 ) \">\n            <text class=\"axis-text-x\" text-anchor=\"middle\" dy=\"0.7em\">\n            2020\n            </text>\n          </g>\n        </g>\n        <g transform=\"translate(384.8985263154728 0.0 ) \">\n          <line stroke-width=\"1.0\" stroke=\"rgb(71,71,71)\" stroke-opacity=\"1.0\" x2=\"0.0\" y2=\"4.0\">\n          </line>\n          <g transform=\"translate(0.0 7.0 ) \">\n            <text class=\"axis-text-x\" text-anchor=\"middle\" dy=\"0.7em\">\n            2021\n            </text>\n          </g>\n        </g>\n        <g transform=\"translate(497.27765808641374 0.0 ) \">\n          <line stroke-width=\"1.0\" stroke=\"rgb(71,71,71)\" stroke-opacity=\"1.0\" x2=\"0.0\" y2=\"4.0\">\n          </line>\n          <g transform=\"translate(0.0 7.0 ) \">\n            <text class=\"axis-text-x\" text-anchor=\"middle\" dy=\"0.7em\">\n            2022\n            </text>\n          </g>\n        </g>\n        <line x1=\"0.0\" y1=\"0.0\" x2=\"545.0387890890636\" y2=\"0.0\" stroke-width=\"1.0\" stroke=\"rgb(71,71,71)\" stroke-opacity=\"1.0\">\n        </line>\n      </g>\n      <g transform=\"translate(21.961210910936405 0.0 ) \">\n        <line x1=\"0.0\" y1=\"40.73176206509538\" x2=\"545.0387890890636\" y2=\"40.73176206509538\" stroke=\"rgb(233,233,233)\" stroke-opacity=\"1.0\" stroke-width=\"1.0\">\n        </line>\n        <line x1=\"0.0\" y1=\"79.34006734006721\" x2=\"545.0387890890636\" y2=\"79.34006734006721\" stroke=\"rgb(233,233,233)\" stroke-opacity=\"1.0\" stroke-width=\"1.0\">\n        </line>\n        <line x1=\"0.0\" y1=\"117.94837261503926\" x2=\"545.0387890890636\" y2=\"117.94837261503926\" stroke=\"rgb(233,233,233)\" stroke-opacity=\"1.0\" stroke-width=\"1.0\">\n        </line>\n        <line x1=\"0.0\" y1=\"156.5566778900111\" x2=\"545.0387890890636\" y2=\"156.5566778900111\" stroke=\"rgb(233,233,233)\" stroke-opacity=\"1.0\" stroke-width=\"1.0\">\n        </line>\n        <line x1=\"0.0\" y1=\"195.16498316498314\" x2=\"545.0387890890636\" y2=\"195.16498316498314\" stroke=\"rgb(233,233,233)\" stroke-opacity=\"1.0\" stroke-width=\"1.0\">\n        </line>\n        <line x1=\"0.0\" y1=\"233.77328843995497\" x2=\"545.0387890890636\" y2=\"233.77328843995497\" stroke=\"rgb(233,233,233)\" stroke-opacity=\"1.0\" stroke-width=\"1.0\">\n        </line>\n        <line x1=\"0.0\" y1=\"272.381593714927\" x2=\"545.0387890890636\" y2=\"272.381593714927\" stroke=\"rgb(233,233,233)\" stroke-opacity=\"1.0\" stroke-width=\"1.0\">\n        </line>\n        <line x1=\"0.0\" y1=\"310.98989898989885\" x2=\"545.0387890890636\" y2=\"310.98989898989885\" stroke=\"rgb(233,233,233)\" stroke-opacity=\"1.0\" stroke-width=\"1.0\">\n        </line>\n        <g transform=\"translate(0.0 2.123456790123555 ) \">\n          <g transform=\"translate(-3.0 0.0 ) \">\n            <text class=\"axis-text-y\" text-anchor=\"end\" dy=\"0.35em\">\n            62\n            </text>\n          </g>\n        </g>\n        <g transform=\"translate(0.0 40.73176206509538 ) \">\n          <g transform=\"translate(-3.0 0.0 ) \">\n            <text class=\"axis-text-y\" text-anchor=\"end\" dy=\"0.35em\">\n            64\n            </text>\n          </g>\n        </g>\n        <g transform=\"translate(0.0 79.34006734006721 ) \">\n          <g transform=\"translate(-3.0 0.0 ) \">\n            <text class=\"axis-text-y\" text-anchor=\"end\" dy=\"0.35em\">\n            66\n            </text>\n          </g>\n        </g>\n        <g transform=\"translate(0.0 117.94837261503926 ) \">\n          <g transform=\"translate(-3.0 0.0 ) \">\n            <text class=\"axis-text-y\" text-anchor=\"end\" dy=\"0.35em\">\n            68\n            </text>\n          </g>\n        </g>\n        <g transform=\"translate(0.0 156.5566778900111 ) \">\n          <g transform=\"translate(-3.0 0.0 ) \">\n            <text class=\"axis-text-y\" text-anchor=\"end\" dy=\"0.35em\">\n            70\n            </text>\n          </g>\n        </g>\n        <g transform=\"translate(0.0 195.16498316498314 ) \">\n          <g transform=\"translate(-3.0 0.0 ) \">\n            <text class=\"axis-text-y\" text-anchor=\"end\" dy=\"0.35em\">\n            72\n            </text>\n          </g>\n        </g>\n        <g transform=\"translate(0.0 233.77328843995497 ) \">\n          <g transform=\"translate(-3.0 0.0 ) \">\n            <text class=\"axis-text-y\" text-anchor=\"end\" dy=\"0.35em\">\n            74\n            </text>\n          </g>\n        </g>\n        <g transform=\"translate(0.0 272.381593714927 ) \">\n          <g transform=\"translate(-3.0 0.0 ) \">\n            <text class=\"axis-text-y\" text-anchor=\"end\" dy=\"0.35em\">\n            76\n            </text>\n          </g>\n        </g>\n        <g transform=\"translate(0.0 310.98989898989885 ) \">\n          <g transform=\"translate(-3.0 0.0 ) \">\n            <text class=\"axis-text-y\" text-anchor=\"end\" dy=\"0.35em\">\n            78\n            </text>\n          </g>\n        </g>\n      </g>\n      <g transform=\"translate(21.961210910936405 0.0 ) \" clip-path=\"url(#cITx0lH)\" clip-bounds-jfx=\"[rect (0.0, 0.0), (545.0387890890636, 344.0)]\">\n        <defs>\n          <clipPath id=\"cITx0lH\">\n            <rect x=\"0.0\" y=\"0.0\" width=\"545.0387890890636\" height=\"344.0\">\n            </rect>\n          </clipPath>\n        </defs>\n        <g>\n          <line x1=\"22.475826354188197\" y1=\"15.63636363636374\" x2=\"73.04643565111162\" y2=\"15.63636363636374\" stroke=\"rgb(71,71,71)\" stroke-opacity=\"1.0\" fill=\"rgb(17,142,216)\" fill-opacity=\"1.0\" stroke-width=\"1.6500000000000001\">\n          </line>\n          <line x1=\"22.475826354188197\" y1=\"135.32210998877667\" x2=\"73.04643565111162\" y2=\"135.32210998877667\" stroke=\"rgb(71,71,71)\" stroke-opacity=\"1.0\" fill=\"rgb(17,142,216)\" fill-opacity=\"1.0\" stroke-width=\"1.6500000000000001\">\n          </line>\n          <line x1=\"47.76113100264991\" y1=\"15.63636363636374\" x2=\"47.76113100264991\" y2=\"135.32210998877667\" stroke=\"rgb(71,71,71)\" stroke-opacity=\"1.0\" fill=\"rgb(17,142,216)\" fill-opacity=\"1.0\" stroke-width=\"1.6500000000000001\">\n          </line>\n        </g>\n        <g>\n          <line x1=\"134.85495812512914\" y1=\"54.244668911335566\" x2=\"185.42556742205258\" y2=\"54.244668911335566\" stroke=\"rgb(71,71,71)\" stroke-opacity=\"1.0\" fill=\"rgb(17,142,216)\" fill-opacity=\"1.0\" stroke-width=\"1.6500000000000001\">\n          </line>\n          <line x1=\"134.85495812512914\" y1=\"181.65207631874296\" x2=\"185.42556742205258\" y2=\"181.65207631874296\" stroke=\"rgb(71,71,71)\" stroke-opacity=\"1.0\" fill=\"rgb(17,142,216)\" fill-opacity=\"1.0\" stroke-width=\"1.6500000000000001\">\n          </line>\n          <line x1=\"160.14026277359088\" y1=\"54.244668911335566\" x2=\"160.14026277359088\" y2=\"181.65207631874296\" stroke=\"rgb(71,71,71)\" stroke-opacity=\"1.0\" fill=\"rgb(17,142,216)\" fill-opacity=\"1.0\" stroke-width=\"1.6500000000000001\">\n          </line>\n        </g>\n        <g>\n          <line x1=\"247.2340898960701\" y1=\"197.09539842873164\" x2=\"297.80469919299355\" y2=\"197.09539842873164\" stroke=\"rgb(71,71,71)\" stroke-opacity=\"1.0\" fill=\"rgb(17,142,216)\" fill-opacity=\"1.0\" stroke-width=\"1.6500000000000001\">\n          </line>\n          <line x1=\"247.2340898960701\" y1=\"328.36363636363626\" x2=\"297.80469919299355\" y2=\"328.36363636363626\" stroke=\"rgb(71,71,71)\" stroke-opacity=\"1.0\" fill=\"rgb(17,142,216)\" fill-opacity=\"1.0\" stroke-width=\"1.6500000000000001\">\n          </line>\n          <line x1=\"272.51939454453185\" y1=\"197.09539842873164\" x2=\"272.51939454453185\" y2=\"328.36363636363626\" stroke=\"rgb(71,71,71)\" stroke-opacity=\"1.0\" fill=\"rgb(17,142,216)\" fill-opacity=\"1.0\" stroke-width=\"1.6500000000000001\">\n          </line>\n        </g>\n        <g>\n          <line x1=\"359.61322166701103\" y1=\"227.98204264870924\" x2=\"410.1838309639345\" y2=\"227.98204264870924\" stroke=\"rgb(71,71,71)\" stroke-opacity=\"1.0\" fill=\"rgb(17,142,216)\" fill-opacity=\"1.0\" stroke-width=\"1.6500000000000001\">\n          </line>\n          <line x1=\"359.61322166701103\" y1=\"282.03367003367\" x2=\"410.1838309639345\" y2=\"282.03367003367\" stroke=\"rgb(71,71,71)\" stroke-opacity=\"1.0\" fill=\"rgb(17,142,216)\" fill-opacity=\"1.0\" stroke-width=\"1.6500000000000001\">\n          </line>\n          <line x1=\"384.8985263154728\" y1=\"227.98204264870924\" x2=\"384.8985263154728\" y2=\"282.03367003367\" stroke=\"rgb(71,71,71)\" stroke-opacity=\"1.0\" fill=\"rgb(17,142,216)\" fill-opacity=\"1.0\" stroke-width=\"1.6500000000000001\">\n          </line>\n        </g>\n        <g>\n          <line x1=\"471.99235343795203\" y1=\"127.60044893378222\" x2=\"522.5629627348754\" y2=\"127.60044893378222\" stroke=\"rgb(71,71,71)\" stroke-opacity=\"1.0\" fill=\"rgb(17,142,216)\" fill-opacity=\"1.0\" stroke-width=\"1.6500000000000001\">\n          </line>\n          <line x1=\"471.99235343795203\" y1=\"197.09539842873164\" x2=\"522.5629627348754\" y2=\"197.09539842873164\" stroke=\"rgb(71,71,71)\" stroke-opacity=\"1.0\" fill=\"rgb(17,142,216)\" fill-opacity=\"1.0\" stroke-width=\"1.6500000000000001\">\n          </line>\n          <line x1=\"497.27765808641374\" y1=\"127.60044893378222\" x2=\"497.27765808641374\" y2=\"197.09539842873164\" stroke=\"rgb(71,71,71)\" stroke-opacity=\"1.0\" fill=\"rgb(17,142,216)\" fill-opacity=\"1.0\" stroke-width=\"1.6500000000000001\">\n          </line>\n        </g>\n      </g>\n    </g>\n    <g transform=\"translate(14.5 182.0 ) rotate(-90.0 ) \">\n      <text class=\"axis-title-y\" y=\"0.0\" text-anchor=\"middle\">\n      y\n      </text>\n    </g>\n    <g transform=\"translate(317.4806054554682 391.5 ) \">\n      <text class=\"axis-title-x\" y=\"0.0\" text-anchor=\"middle\">\n      x\n      </text>\n    </g>\n    <path fill=\"rgb(0,0,0)\" fill-opacity=\"0.0\" stroke=\"rgb(71,71,71)\" stroke-opacity=\"1.0\" stroke-width=\"0.0\" d=\"M0.0 0.0 L0.0 400.0 L600.0 400.0 L600.0 0.0 Z\">\n    </path>\n  </g>\n  <g id=\"dVfmj9P\">\n  </g>\n</svg>\n        <script>document.getElementById(\"c3d6c751-92e3-49e3-bac4-b406a9ddc80c\").style.display = \"none\";</script>",
      "application/plot+json": {
       "output_type": "lets_plot_spec",
       "output": {
        "mapping": {},
        "data": {},
        "kind": "plot",
        "scales": [
         {
          "aesthetic": "y",
          "limits": [
           null,
           null
          ],
          "trans": "REVERSE"
         },
         {
          "aesthetic": "x",
          "discrete": true
         }
        ],
        "layers": [
         {
          "mapping": {
           "x": "x",
           "ymin": "ymin",
           "ymax": "ymax"
          },
          "stat": "identity",
          "data": {
           "ymin": [
            62.7,
            64.7,
            72.1,
            73.7,
            68.5
           ],
           "ymax": [
            68.9,
            71.3,
            78.9,
            76.5,
            72.1
           ],
           "x": [
            "2018",
            "2019",
            "2020",
            "2021",
            "2022"
           ]
          },
          "sampling": "none",
          "position": "dodge",
          "geom": "errorbar"
         }
        ]
       },
       "apply_color_scheme": true,
       "swing_enabled": true
      }
     },
     "execution_count": 9,
     "metadata": {},
     "output_type": "execute_result"
    }
   ],
   "source": [
    "plot { \n",
    "    errorBars { \n",
    "        x(years)\n",
    "        yMin(costMin)\n",
    "        yMax(costMax)\n",
    "        y {\n",
    "            scale = continuous(transform = Transformation.REVERSE)\n",
    "        }\n",
    "    }\n",
    "}"
   ],
   "metadata": {
    "collapsed": false,
    "ExecuteTime": {
     "end_time": "2023-11-17T11:28:54.674785Z",
     "start_time": "2023-11-17T11:28:54.408638Z"
    }
   }
  },
  {
   "cell_type": "markdown",
   "source": [
    "## Grouped error bars"
   ],
   "metadata": {
    "collapsed": false
   }
  },
  {
   "cell_type": "code",
   "execution_count": 25,
   "outputs": [
    {
     "data": {
      "text/html": "            <iframe src='about:blank' style='border:none !important;' width='600' height='400' srcdoc=\"&lt;html lang=&quot;en&quot;>\n   &lt;head>\n       &lt;style> html, body { margin: 0; overflow: hidden; } &lt;/style>\n       &lt;script type=&quot;text/javascript&quot; data-lets-plot-script=&quot;library&quot; src=&quot;https://cdn.jsdelivr.net/gh/JetBrains/lets-plot@v4.0.1/js-package/distr/lets-plot.min.js&quot;>&lt;/script>\n   &lt;/head>\n   &lt;body>\n          &lt;div id=&quot;E5J0C9&quot;>&lt;/div>\n   &lt;script type=&quot;text/javascript&quot; data-lets-plot-script=&quot;plot&quot;>\n       var plotSpec={\n&quot;mapping&quot;:{\n},\n&quot;data&quot;:{\n&quot;&amp;merged_groups&quot;:[&quot;a&quot;,&quot;a&quot;,&quot;a&quot;,&quot;a&quot;,&quot;a&quot;,&quot;b&quot;,&quot;b&quot;,&quot;b&quot;,&quot;b&quot;,&quot;b&quot;],\n&quot;min&quot;:[2.0,3.4,3.5,5.5,2.5,1.0,2.0,3.0,4.0,3.7],\n&quot;max&quot;:[3.0,5.2,5.0,5.8,3.4,5.0,4.0,3.5,5.0,4.2],\n&quot;time&quot;:[1.0,2.0,3.0,4.0,5.0,1.0,2.0,3.0,4.0,5.0],\n&quot;category&quot;:[&quot;a&quot;,&quot;a&quot;,&quot;a&quot;,&quot;a&quot;,&quot;a&quot;,&quot;b&quot;,&quot;b&quot;,&quot;b&quot;,&quot;b&quot;,&quot;b&quot;]\n},\n&quot;kind&quot;:&quot;plot&quot;,\n&quot;scales&quot;:[{\n&quot;aesthetic&quot;:&quot;x&quot;,\n&quot;limits&quot;:[null,null]\n},{\n&quot;aesthetic&quot;:&quot;color&quot;,\n&quot;discrete&quot;:true\n}],\n&quot;layers&quot;:[{\n&quot;mapping&quot;:{\n&quot;x&quot;:&quot;time&quot;,\n&quot;ymin&quot;:&quot;min&quot;,\n&quot;ymax&quot;:&quot;max&quot;,\n&quot;color&quot;:&quot;category&quot;,\n&quot;group&quot;:&quot;&amp;merged_groups&quot;\n},\n&quot;stat&quot;:&quot;identity&quot;,\n&quot;sampling&quot;:&quot;none&quot;,\n&quot;position&quot;:&quot;dodge&quot;,\n&quot;geom&quot;:&quot;errorbar&quot;,\n&quot;data&quot;:{\n}\n}]\n};\n       var plotContainer = document.getElementById(&quot;E5J0C9&quot;);\n       LetsPlot.buildPlotFromProcessedSpecs(plotSpec, -1, -1, plotContainer);\n   &lt;/script>\n   &lt;/body>\n&lt;/html>\"></iframe>            \n        <svg id=06e5bd71-1f31-4a69-b020-ef05d4962258 xmlns=\"http://www.w3.org/2000/svg\" xmlns:xlink=\"http://www.w3.org/1999/xlink\" class=\"plt-container\" width=\"600.0\" height=\"400.0\">\n  <style type=\"text/css\">\n  .plt-container {\n   font-family: Lucida Grande, sans-serif;\n   user-select: none;\n   -webkit-user-select: none;\n   -moz-user-select: none;\n   -ms-user-select: none;\n}\ntext {\n   text-rendering: optimizeLegibility;\n}\n#pDpKPG5 .plot-title {\n   fill: #474747;\n   font-family: Lucida Grande, sans-serif;\n   font-size: 16.0px;\n   font-weight: normal;\n   font-style: normal;   \n}\n#pDpKPG5 .plot-subtitle {\n   fill: #474747;\n   font-family: Lucida Grande, sans-serif;\n   font-size: 15.0px;\n   font-weight: normal;\n   font-style: normal;   \n}\n#pDpKPG5 .plot-caption {\n   fill: #474747;\n   font-family: Lucida Grande, sans-serif;\n   font-size: 13.0px;\n   font-weight: normal;\n   font-style: normal;   \n}\n#pDpKPG5 .legend-title {\n   fill: #474747;\n   font-family: Lucida Grande, sans-serif;\n   font-size: 15.0px;\n   font-weight: normal;\n   font-style: normal;   \n}\n#pDpKPG5 .legend-item {\n   fill: #474747;\n   font-family: Lucida Grande, sans-serif;\n   font-size: 13.0px;\n   font-weight: normal;\n   font-style: normal;   \n}\n#pDpKPG5 .axis-title-x {\n   fill: #474747;\n   font-family: Lucida Grande, sans-serif;\n   font-size: 15.0px;\n   font-weight: normal;\n   font-style: normal;   \n}\n#pDpKPG5 .axis-text-x {\n   fill: #474747;\n   font-family: Lucida Grande, sans-serif;\n   font-size: 13.0px;\n   font-weight: normal;\n   font-style: normal;   \n}\n#dbLapuD .axis-tooltip-text-x {\n   fill: #ffffff;\n   font-family: Lucida Grande, sans-serif;\n   font-size: 13.0px;\n   font-weight: normal;\n   font-style: normal;   \n}\n#pDpKPG5 .axis-title-y {\n   fill: #474747;\n   font-family: Lucida Grande, sans-serif;\n   font-size: 15.0px;\n   font-weight: normal;\n   font-style: normal;   \n}\n#pDpKPG5 .axis-text-y {\n   fill: #474747;\n   font-family: Lucida Grande, sans-serif;\n   font-size: 13.0px;\n   font-weight: normal;\n   font-style: normal;   \n}\n#dbLapuD .axis-tooltip-text-y {\n   fill: #ffffff;\n   font-family: Lucida Grande, sans-serif;\n   font-size: 13.0px;\n   font-weight: normal;\n   font-style: normal;   \n}\n#pDpKPG5 .facet-strip-text-x {\n   fill: #474747;\n   font-family: Lucida Grande, sans-serif;\n   font-size: 13.0px;\n   font-weight: normal;\n   font-style: normal;   \n}\n#pDpKPG5 .facet-strip-text-y {\n   fill: #474747;\n   font-family: Lucida Grande, sans-serif;\n   font-size: 13.0px;\n   font-weight: normal;\n   font-style: normal;   \n}\n#dbLapuD .tooltip-text {\n   fill: #474747;\n   font-family: Lucida Grande, sans-serif;\n   font-size: 13.0px;\n   font-weight: normal;\n   font-style: normal;   \n}\n#dbLapuD .tooltip-title {\n   fill: #474747;\n   font-family: Lucida Grande, sans-serif;\n   font-size: 13.0px;\n   font-weight: bold;\n   font-style: normal;   \n}\n#dbLapuD .tooltip-label {\n   fill: #474747;\n   font-family: Lucida Grande, sans-serif;\n   font-size: 13.0px;\n   font-weight: bold;\n   font-style: normal;   \n}\n\n  </style>\n  <g id=\"pDpKPG5\">\n    <path fill-rule=\"evenodd\" fill=\"rgb(255,255,255)\" fill-opacity=\"1.0\" d=\"M0.0 0.0 L0.0 400.0 L600.0 400.0 L600.0 0.0 Z\">\n    </path>\n    <g transform=\"translate(23.0 10.0 ) \">\n      <g transform=\"translate(13.980605455468202 344.0 ) \">\n        <line x1=\"42.607210428865805\" y1=\"-0.0\" x2=\"42.607210428865805\" y2=\"-344.0\" stroke=\"rgb(233,233,233)\" stroke-opacity=\"1.0\" stroke-width=\"1.0\">\n        </line>\n        <line x1=\"137.8188538453257\" y1=\"-0.0\" x2=\"137.8188538453257\" y2=\"-344.0\" stroke=\"rgb(233,233,233)\" stroke-opacity=\"1.0\" stroke-width=\"1.0\">\n        </line>\n        <line x1=\"233.0304972617856\" y1=\"-0.0\" x2=\"233.0304972617856\" y2=\"-344.0\" stroke=\"rgb(233,233,233)\" stroke-opacity=\"1.0\" stroke-width=\"1.0\">\n        </line>\n        <line x1=\"328.2421406782455\" y1=\"-0.0\" x2=\"328.2421406782455\" y2=\"-344.0\" stroke=\"rgb(233,233,233)\" stroke-opacity=\"1.0\" stroke-width=\"1.0\">\n        </line>\n        <line x1=\"423.4537840947054\" y1=\"-0.0\" x2=\"423.4537840947054\" y2=\"-344.0\" stroke=\"rgb(233,233,233)\" stroke-opacity=\"1.0\" stroke-width=\"1.0\">\n        </line>\n        <g transform=\"translate(42.607210428865805 0.0 ) \">\n          <line stroke-width=\"1.0\" stroke=\"rgb(71,71,71)\" stroke-opacity=\"1.0\" x2=\"0.0\" y2=\"4.0\">\n          </line>\n          <g transform=\"translate(0.0 7.0 ) \">\n            <text class=\"axis-text-x\" text-anchor=\"middle\" dy=\"0.7em\">\n            1\n            </text>\n          </g>\n        </g>\n        <g transform=\"translate(137.8188538453257 0.0 ) \">\n          <line stroke-width=\"1.0\" stroke=\"rgb(71,71,71)\" stroke-opacity=\"1.0\" x2=\"0.0\" y2=\"4.0\">\n          </line>\n          <g transform=\"translate(0.0 7.0 ) \">\n            <text class=\"axis-text-x\" text-anchor=\"middle\" dy=\"0.7em\">\n            2\n            </text>\n          </g>\n        </g>\n        <g transform=\"translate(233.0304972617856 0.0 ) \">\n          <line stroke-width=\"1.0\" stroke=\"rgb(71,71,71)\" stroke-opacity=\"1.0\" x2=\"0.0\" y2=\"4.0\">\n          </line>\n          <g transform=\"translate(0.0 7.0 ) \">\n            <text class=\"axis-text-x\" text-anchor=\"middle\" dy=\"0.7em\">\n            3\n            </text>\n          </g>\n        </g>\n        <g transform=\"translate(328.2421406782455 0.0 ) \">\n          <line stroke-width=\"1.0\" stroke=\"rgb(71,71,71)\" stroke-opacity=\"1.0\" x2=\"0.0\" y2=\"4.0\">\n          </line>\n          <g transform=\"translate(0.0 7.0 ) \">\n            <text class=\"axis-text-x\" text-anchor=\"middle\" dy=\"0.7em\">\n            4\n            </text>\n          </g>\n        </g>\n        <g transform=\"translate(423.4537840947054 0.0 ) \">\n          <line stroke-width=\"1.0\" stroke=\"rgb(71,71,71)\" stroke-opacity=\"1.0\" x2=\"0.0\" y2=\"4.0\">\n          </line>\n          <g transform=\"translate(0.0 7.0 ) \">\n            <text class=\"axis-text-x\" text-anchor=\"middle\" dy=\"0.7em\">\n            5\n            </text>\n          </g>\n        </g>\n        <line x1=\"0.0\" y1=\"0.0\" x2=\"466.06099452357114\" y2=\"0.0\" stroke-width=\"1.0\" stroke=\"rgb(71,71,71)\" stroke-opacity=\"1.0\">\n        </line>\n      </g>\n      <g transform=\"translate(13.980605455468202 0.0 ) \">\n        <line x1=\"0.0\" y1=\"328.3636363636364\" x2=\"466.06099452357114\" y2=\"328.3636363636364\" stroke=\"rgb(233,233,233)\" stroke-opacity=\"1.0\" stroke-width=\"1.0\">\n        </line>\n        <line x1=\"0.0\" y1=\"263.21212121212125\" x2=\"466.06099452357114\" y2=\"263.21212121212125\" stroke=\"rgb(233,233,233)\" stroke-opacity=\"1.0\" stroke-width=\"1.0\">\n        </line>\n        <line x1=\"0.0\" y1=\"198.06060606060606\" x2=\"466.06099452357114\" y2=\"198.06060606060606\" stroke=\"rgb(233,233,233)\" stroke-opacity=\"1.0\" stroke-width=\"1.0\">\n        </line>\n        <line x1=\"0.0\" y1=\"132.90909090909093\" x2=\"466.06099452357114\" y2=\"132.90909090909093\" stroke=\"rgb(233,233,233)\" stroke-opacity=\"1.0\" stroke-width=\"1.0\">\n        </line>\n        <line x1=\"0.0\" y1=\"67.75757575757581\" x2=\"466.06099452357114\" y2=\"67.75757575757581\" stroke=\"rgb(233,233,233)\" stroke-opacity=\"1.0\" stroke-width=\"1.0\">\n        </line>\n        <g transform=\"translate(0.0 328.3636363636364 ) \">\n          <g transform=\"translate(-3.0 0.0 ) \">\n            <text class=\"axis-text-y\" text-anchor=\"end\" dy=\"0.35em\">\n            1\n            </text>\n          </g>\n        </g>\n        <g transform=\"translate(0.0 263.21212121212125 ) \">\n          <g transform=\"translate(-3.0 0.0 ) \">\n            <text class=\"axis-text-y\" text-anchor=\"end\" dy=\"0.35em\">\n            2\n            </text>\n          </g>\n        </g>\n        <g transform=\"translate(0.0 198.06060606060606 ) \">\n          <g transform=\"translate(-3.0 0.0 ) \">\n            <text class=\"axis-text-y\" text-anchor=\"end\" dy=\"0.35em\">\n            3\n            </text>\n          </g>\n        </g>\n        <g transform=\"translate(0.0 132.90909090909093 ) \">\n          <g transform=\"translate(-3.0 0.0 ) \">\n            <text class=\"axis-text-y\" text-anchor=\"end\" dy=\"0.35em\">\n            4\n            </text>\n          </g>\n        </g>\n        <g transform=\"translate(0.0 67.75757575757581 ) \">\n          <g transform=\"translate(-3.0 0.0 ) \">\n            <text class=\"axis-text-y\" text-anchor=\"end\" dy=\"0.35em\">\n            5\n            </text>\n          </g>\n        </g>\n        <g transform=\"translate(0.0 2.6060606060606233 ) \">\n          <g transform=\"translate(-3.0 0.0 ) \">\n            <text class=\"axis-text-y\" text-anchor=\"end\" dy=\"0.35em\">\n            6\n            </text>\n          </g>\n        </g>\n      </g>\n      <g transform=\"translate(13.980605455468202 0.0 ) \" clip-path=\"url(#c5kIomc)\" clip-bounds-jfx=\"[rect (0.0, 0.0), (466.06099452357114, 344.0)]\">\n        <defs>\n          <clipPath id=\"c5kIomc\">\n            <rect x=\"0.0\" y=\"0.0\" width=\"466.06099452357114\" height=\"344.0\">\n            </rect>\n          </clipPath>\n        </defs>\n        <g>\n          <line x1=\"21.184590660162335\" y1=\"263.21212121212125\" x2=\"42.607210428865805\" y2=\"263.21212121212125\" stroke=\"rgb(228,26,28)\" stroke-opacity=\"1.0\" fill=\"rgb(17,142,216)\" fill-opacity=\"1.0\" stroke-width=\"1.6500000000000001\">\n          </line>\n          <line x1=\"21.184590660162335\" y1=\"198.06060606060606\" x2=\"42.607210428865805\" y2=\"198.06060606060606\" stroke=\"rgb(228,26,28)\" stroke-opacity=\"1.0\" fill=\"rgb(17,142,216)\" fill-opacity=\"1.0\" stroke-width=\"1.6500000000000001\">\n          </line>\n          <line x1=\"31.895900544514056\" y1=\"263.21212121212125\" x2=\"31.895900544514056\" y2=\"198.06060606060606\" stroke=\"rgb(228,26,28)\" stroke-opacity=\"1.0\" fill=\"rgb(17,142,216)\" fill-opacity=\"1.0\" stroke-width=\"1.6500000000000001\">\n          </line>\n        </g>\n        <g>\n          <line x1=\"116.39623407662219\" y1=\"172.00000000000003\" x2=\"137.8188538453257\" y2=\"172.00000000000003\" stroke=\"rgb(228,26,28)\" stroke-opacity=\"1.0\" fill=\"rgb(17,142,216)\" fill-opacity=\"1.0\" stroke-width=\"1.6500000000000001\">\n          </line>\n          <line x1=\"116.39623407662219\" y1=\"54.72727272727275\" x2=\"137.8188538453257\" y2=\"54.72727272727275\" stroke=\"rgb(228,26,28)\" stroke-opacity=\"1.0\" fill=\"rgb(17,142,216)\" fill-opacity=\"1.0\" stroke-width=\"1.6500000000000001\">\n          </line>\n          <line x1=\"127.10754396097394\" y1=\"172.00000000000003\" x2=\"127.10754396097394\" y2=\"54.72727272727275\" stroke=\"rgb(228,26,28)\" stroke-opacity=\"1.0\" fill=\"rgb(17,142,216)\" fill-opacity=\"1.0\" stroke-width=\"1.6500000000000001\">\n          </line>\n        </g>\n        <g>\n          <line x1=\"211.6078774930821\" y1=\"165.4848484848485\" x2=\"233.0304972617856\" y2=\"165.4848484848485\" stroke=\"rgb(228,26,28)\" stroke-opacity=\"1.0\" fill=\"rgb(17,142,216)\" fill-opacity=\"1.0\" stroke-width=\"1.6500000000000001\">\n          </line>\n          <line x1=\"211.6078774930821\" y1=\"67.75757575757581\" x2=\"233.0304972617856\" y2=\"67.75757575757581\" stroke=\"rgb(228,26,28)\" stroke-opacity=\"1.0\" fill=\"rgb(17,142,216)\" fill-opacity=\"1.0\" stroke-width=\"1.6500000000000001\">\n          </line>\n          <line x1=\"222.31918737743385\" y1=\"165.4848484848485\" x2=\"222.31918737743385\" y2=\"67.75757575757581\" stroke=\"rgb(228,26,28)\" stroke-opacity=\"1.0\" fill=\"rgb(17,142,216)\" fill-opacity=\"1.0\" stroke-width=\"1.6500000000000001\">\n          </line>\n        </g>\n        <g>\n          <line x1=\"306.819520909542\" y1=\"35.181818181818244\" x2=\"328.2421406782455\" y2=\"35.181818181818244\" stroke=\"rgb(228,26,28)\" stroke-opacity=\"1.0\" fill=\"rgb(17,142,216)\" fill-opacity=\"1.0\" stroke-width=\"1.6500000000000001\">\n          </line>\n          <line x1=\"306.819520909542\" y1=\"15.636363636363683\" x2=\"328.2421406782455\" y2=\"15.636363636363683\" stroke=\"rgb(228,26,28)\" stroke-opacity=\"1.0\" fill=\"rgb(17,142,216)\" fill-opacity=\"1.0\" stroke-width=\"1.6500000000000001\">\n          </line>\n          <line x1=\"317.53083079389376\" y1=\"35.181818181818244\" x2=\"317.53083079389376\" y2=\"15.636363636363683\" stroke=\"rgb(228,26,28)\" stroke-opacity=\"1.0\" fill=\"rgb(17,142,216)\" fill-opacity=\"1.0\" stroke-width=\"1.6500000000000001\">\n          </line>\n        </g>\n        <g>\n          <line x1=\"402.03116432600194\" y1=\"230.63636363636365\" x2=\"423.4537840947054\" y2=\"230.63636363636365\" stroke=\"rgb(228,26,28)\" stroke-opacity=\"1.0\" fill=\"rgb(17,142,216)\" fill-opacity=\"1.0\" stroke-width=\"1.6500000000000001\">\n          </line>\n          <line x1=\"402.03116432600194\" y1=\"172.00000000000003\" x2=\"423.4537840947054\" y2=\"172.00000000000003\" stroke=\"rgb(228,26,28)\" stroke-opacity=\"1.0\" fill=\"rgb(17,142,216)\" fill-opacity=\"1.0\" stroke-width=\"1.6500000000000001\">\n          </line>\n          <line x1=\"412.7424742103537\" y1=\"230.63636363636365\" x2=\"412.7424742103537\" y2=\"172.00000000000003\" stroke=\"rgb(228,26,28)\" stroke-opacity=\"1.0\" fill=\"rgb(17,142,216)\" fill-opacity=\"1.0\" stroke-width=\"1.6500000000000001\">\n          </line>\n        </g>\n        <g>\n          <line x1=\"42.607210428865805\" y1=\"328.3636363636364\" x2=\"64.02983019756928\" y2=\"328.3636363636364\" stroke=\"rgb(55,126,184)\" stroke-opacity=\"1.0\" fill=\"rgb(17,142,216)\" fill-opacity=\"1.0\" stroke-width=\"1.6500000000000001\">\n          </line>\n          <line x1=\"42.607210428865805\" y1=\"67.75757575757581\" x2=\"64.02983019756928\" y2=\"67.75757575757581\" stroke=\"rgb(55,126,184)\" stroke-opacity=\"1.0\" fill=\"rgb(17,142,216)\" fill-opacity=\"1.0\" stroke-width=\"1.6500000000000001\">\n          </line>\n          <line x1=\"53.318520313217554\" y1=\"328.3636363636364\" x2=\"53.318520313217554\" y2=\"67.75757575757581\" stroke=\"rgb(55,126,184)\" stroke-opacity=\"1.0\" fill=\"rgb(17,142,216)\" fill-opacity=\"1.0\" stroke-width=\"1.6500000000000001\">\n          </line>\n        </g>\n        <g>\n          <line x1=\"137.8188538453257\" y1=\"263.21212121212125\" x2=\"159.2414736140292\" y2=\"263.21212121212125\" stroke=\"rgb(55,126,184)\" stroke-opacity=\"1.0\" fill=\"rgb(17,142,216)\" fill-opacity=\"1.0\" stroke-width=\"1.6500000000000001\">\n          </line>\n          <line x1=\"137.8188538453257\" y1=\"132.90909090909093\" x2=\"159.2414736140292\" y2=\"132.90909090909093\" stroke=\"rgb(55,126,184)\" stroke-opacity=\"1.0\" fill=\"rgb(17,142,216)\" fill-opacity=\"1.0\" stroke-width=\"1.6500000000000001\">\n          </line>\n          <line x1=\"148.5301637296774\" y1=\"263.21212121212125\" x2=\"148.5301637296774\" y2=\"132.90909090909093\" stroke=\"rgb(55,126,184)\" stroke-opacity=\"1.0\" fill=\"rgb(17,142,216)\" fill-opacity=\"1.0\" stroke-width=\"1.6500000000000001\">\n          </line>\n        </g>\n        <g>\n          <line x1=\"233.0304972617856\" y1=\"198.06060606060606\" x2=\"254.4531170304891\" y2=\"198.06060606060606\" stroke=\"rgb(55,126,184)\" stroke-opacity=\"1.0\" fill=\"rgb(17,142,216)\" fill-opacity=\"1.0\" stroke-width=\"1.6500000000000001\">\n          </line>\n          <line x1=\"233.0304972617856\" y1=\"165.4848484848485\" x2=\"254.4531170304891\" y2=\"165.4848484848485\" stroke=\"rgb(55,126,184)\" stroke-opacity=\"1.0\" fill=\"rgb(17,142,216)\" fill-opacity=\"1.0\" stroke-width=\"1.6500000000000001\">\n          </line>\n          <line x1=\"243.7418071461373\" y1=\"198.06060606060606\" x2=\"243.7418071461373\" y2=\"165.4848484848485\" stroke=\"rgb(55,126,184)\" stroke-opacity=\"1.0\" fill=\"rgb(17,142,216)\" fill-opacity=\"1.0\" stroke-width=\"1.6500000000000001\">\n          </line>\n        </g>\n        <g>\n          <line x1=\"328.2421406782455\" y1=\"132.90909090909093\" x2=\"349.66476044694895\" y2=\"132.90909090909093\" stroke=\"rgb(55,126,184)\" stroke-opacity=\"1.0\" fill=\"rgb(17,142,216)\" fill-opacity=\"1.0\" stroke-width=\"1.6500000000000001\">\n          </line>\n          <line x1=\"328.2421406782455\" y1=\"67.75757575757581\" x2=\"349.66476044694895\" y2=\"67.75757575757581\" stroke=\"rgb(55,126,184)\" stroke-opacity=\"1.0\" fill=\"rgb(17,142,216)\" fill-opacity=\"1.0\" stroke-width=\"1.6500000000000001\">\n          </line>\n          <line x1=\"338.95345056259725\" y1=\"132.90909090909093\" x2=\"338.95345056259725\" y2=\"67.75757575757581\" stroke=\"rgb(55,126,184)\" stroke-opacity=\"1.0\" fill=\"rgb(17,142,216)\" fill-opacity=\"1.0\" stroke-width=\"1.6500000000000001\">\n          </line>\n        </g>\n        <g>\n          <line x1=\"423.4537840947054\" y1=\"152.45454545454547\" x2=\"444.8764038634088\" y2=\"152.45454545454547\" stroke=\"rgb(55,126,184)\" stroke-opacity=\"1.0\" fill=\"rgb(17,142,216)\" fill-opacity=\"1.0\" stroke-width=\"1.6500000000000001\">\n          </line>\n          <line x1=\"423.4537840947054\" y1=\"119.87878787878788\" x2=\"444.8764038634088\" y2=\"119.87878787878788\" stroke=\"rgb(55,126,184)\" stroke-opacity=\"1.0\" fill=\"rgb(17,142,216)\" fill-opacity=\"1.0\" stroke-width=\"1.6500000000000001\">\n          </line>\n          <line x1=\"434.16509397905713\" y1=\"152.45454545454547\" x2=\"434.16509397905713\" y2=\"119.87878787878788\" stroke=\"rgb(55,126,184)\" stroke-opacity=\"1.0\" fill=\"rgb(17,142,216)\" fill-opacity=\"1.0\" stroke-width=\"1.6500000000000001\">\n          </line>\n        </g>\n      </g>\n    </g>\n    <g transform=\"translate(14.5 182.0 ) rotate(-90.0 ) \">\n      <text class=\"axis-title-y\" y=\"0.0\" text-anchor=\"middle\">\n      y\n      </text>\n    </g>\n    <g transform=\"translate(270.0111027172538 391.5 ) \">\n      <text class=\"axis-title-x\" y=\"0.0\" text-anchor=\"middle\">\n      time\n      </text>\n    </g>\n    <g transform=\"translate(513.0415999790393 137.75 ) \">\n      <rect x=\"5.0\" y=\"5.0\" height=\"78.5\" width=\"76.95840002096065\" stroke=\"rgb(71,71,71)\" stroke-opacity=\"1.0\" stroke-width=\"0.0\" fill=\"rgb(255,255,255)\" fill-opacity=\"1.0\">\n      </rect>\n      <g transform=\"translate(10.0 10.0 ) \">\n        <g transform=\"translate(0.0 10.5 ) \">\n          <text class=\"legend-title\" y=\"0.0\">\n          category\n          </text>\n        </g>\n        <g transform=\"translate(0.0 22.5 ) \">\n          <g transform=\"\">\n            <g>\n              <rect x=\"0.0\" y=\"0.0\" height=\"23.0\" width=\"23.0\" stroke-width=\"0.0\" fill=\"rgb(255,255,255)\" fill-opacity=\"1.0\">\n              </rect>\n              <g transform=\"translate(1.0 1.0 ) \">\n                <g>\n                  <line x1=\"6.146249999999999\" y1=\"0.8250000000000001\" x2=\"14.853750000000002\" y2=\"0.8250000000000001\" stroke=\"rgb(228,26,28)\" stroke-opacity=\"1.0\" fill=\"rgb(255,255,255)\" fill-opacity=\"1.0\" stroke-width=\"1.6500000000000001\">\n                  </line>\n                  <line x1=\"6.146249999999999\" y1=\"20.175\" x2=\"14.853750000000002\" y2=\"20.175\" stroke=\"rgb(228,26,28)\" stroke-opacity=\"1.0\" fill=\"rgb(255,255,255)\" fill-opacity=\"1.0\" stroke-width=\"1.6500000000000001\">\n                  </line>\n                  <line x1=\"10.5\" y1=\"0.8250000000000001\" x2=\"10.5\" y2=\"20.175\" stroke=\"rgb(228,26,28)\" stroke-opacity=\"1.0\" fill=\"rgb(255,255,255)\" fill-opacity=\"1.0\" stroke-width=\"1.6500000000000001\">\n                  </line>\n                </g>\n              </g>\n              <rect x=\"0.0\" y=\"0.0\" height=\"23.0\" width=\"23.0\" stroke=\"rgb(255,255,255)\" stroke-opacity=\"1.0\" stroke-width=\"1.0\" fill-opacity=\"0.0\">\n              </rect>\n            </g>\n            <g transform=\"translate(26.9903027277341 16.05 ) \">\n              <text class=\"legend-item\" y=\"0.0\">\n              a\n              </text>\n            </g>\n          </g>\n          <g transform=\"translate(0.0 23.0 ) \">\n            <g>\n              <rect x=\"0.0\" y=\"0.0\" height=\"23.0\" width=\"23.0\" stroke-width=\"0.0\" fill=\"rgb(255,255,255)\" fill-opacity=\"1.0\">\n              </rect>\n              <g transform=\"translate(1.0 1.0 ) \">\n                <g>\n                  <line x1=\"6.146249999999999\" y1=\"0.8250000000000001\" x2=\"14.853750000000002\" y2=\"0.8250000000000001\" stroke=\"rgb(55,126,184)\" stroke-opacity=\"1.0\" fill=\"rgb(255,255,255)\" fill-opacity=\"1.0\" stroke-width=\"1.6500000000000001\">\n                  </line>\n                  <line x1=\"6.146249999999999\" y1=\"20.175\" x2=\"14.853750000000002\" y2=\"20.175\" stroke=\"rgb(55,126,184)\" stroke-opacity=\"1.0\" fill=\"rgb(255,255,255)\" fill-opacity=\"1.0\" stroke-width=\"1.6500000000000001\">\n                  </line>\n                  <line x1=\"10.5\" y1=\"0.8250000000000001\" x2=\"10.5\" y2=\"20.175\" stroke=\"rgb(55,126,184)\" stroke-opacity=\"1.0\" fill=\"rgb(255,255,255)\" fill-opacity=\"1.0\" stroke-width=\"1.6500000000000001\">\n                  </line>\n                </g>\n              </g>\n              <rect x=\"0.0\" y=\"0.0\" height=\"23.0\" width=\"23.0\" stroke=\"rgb(255,255,255)\" stroke-opacity=\"1.0\" stroke-width=\"1.0\" fill-opacity=\"0.0\">\n              </rect>\n            </g>\n            <g transform=\"translate(26.9903027277341 16.05 ) \">\n              <text class=\"legend-item\" y=\"0.0\">\n              b\n              </text>\n            </g>\n          </g>\n        </g>\n      </g>\n    </g>\n    <path fill=\"rgb(0,0,0)\" fill-opacity=\"0.0\" stroke=\"rgb(71,71,71)\" stroke-opacity=\"1.0\" stroke-width=\"0.0\" d=\"M0.0 0.0 L0.0 400.0 L600.0 400.0 L600.0 0.0 Z\">\n    </path>\n  </g>\n  <g id=\"dbLapuD\">\n  </g>\n</svg>\n        <script>document.getElementById(\"06e5bd71-1f31-4a69-b020-ef05d4962258\").style.display = \"none\";</script>",
      "application/plot+json": {
       "output_type": "lets_plot_spec",
       "output": {
        "mapping": {},
        "data": {
         "&merged_groups": [
          "a",
          "a",
          "a",
          "a",
          "a",
          "b",
          "b",
          "b",
          "b",
          "b"
         ],
         "min": [
          2.0,
          3.4,
          3.5,
          5.5,
          2.5,
          1.0,
          2.0,
          3.0,
          4.0,
          3.7
         ],
         "max": [
          3.0,
          5.2,
          5.0,
          5.8,
          3.4,
          5.0,
          4.0,
          3.5,
          5.0,
          4.2
         ],
         "time": [
          1.0,
          2.0,
          3.0,
          4.0,
          5.0,
          1.0,
          2.0,
          3.0,
          4.0,
          5.0
         ],
         "category": [
          "a",
          "a",
          "a",
          "a",
          "a",
          "b",
          "b",
          "b",
          "b",
          "b"
         ]
        },
        "kind": "plot",
        "scales": [
         {
          "aesthetic": "x",
          "limits": [
           null,
           null
          ]
         },
         {
          "aesthetic": "color",
          "discrete": true
         }
        ],
        "layers": [
         {
          "mapping": {
           "x": "time",
           "ymin": "min",
           "ymax": "max",
           "color": "category",
           "group": "&merged_groups"
          },
          "stat": "identity",
          "sampling": "none",
          "position": "dodge",
          "geom": "errorbar"
         }
        ]
       },
       "apply_color_scheme": true,
       "swing_enabled": true
      }
     },
     "execution_count": 25,
     "metadata": {},
     "output_type": "execute_result"
    }
   ],
   "source": [
    "val time = listOf(1, 2, 3, 4, 5)\n",
    "val minsA = listOf(2.0, 3.4, 3.5, 5.5, 2.5)\n",
    "val minsB = listOf(1.0, 2.0, 3.0, 4.0, 3.7)\n",
    "val maxsA = listOf(3.0, 5.2, 5.0, 5.8, 3.4)\n",
    "val maxsB = listOf(5.0, 4.0, 3.5, 5.0, 4.2)\n",
    "val df = dataFrameOf(\n",
    "    \"time\" to time + time,\n",
    "    \"min\" to minsA + minsB,\n",
    "    \"max\" to maxsA + maxsB,\n",
    "    \"category\" to List(5) { \"a\" } + List(5) { \"b\" }\n",
    ")\n",
    "df.groupBy(\"category\").plot {\n",
    "    errorBars {\n",
    "        x(\"time\")\n",
    "        yMin(\"min\")\n",
    "        yMax(\"max\")\n",
    "        borderLine.color(\"category\")\n",
    "    }\n",
    "}"
   ],
   "metadata": {
    "collapsed": false,
    "ExecuteTime": {
     "end_time": "2023-11-17T11:31:37.215171Z",
     "start_time": "2023-11-17T11:31:36.844953Z"
    }
   }
  },
  {
   "cell_type": "markdown",
   "source": [
    "## With \"boxplot\" statistic"
   ],
   "metadata": {
    "collapsed": false
   }
  },
  {
   "cell_type": "code",
   "execution_count": 27,
   "outputs": [
    {
     "data": {
      "text/html": "            <iframe src='about:blank' style='border:none !important;' width='600' height='400' srcdoc=\"&lt;html lang=&quot;en&quot;>\n   &lt;head>\n       &lt;style> html, body { margin: 0; overflow: hidden; } &lt;/style>\n       &lt;script type=&quot;text/javascript&quot; data-lets-plot-script=&quot;library&quot; src=&quot;https://cdn.jsdelivr.net/gh/JetBrains/lets-plot@v4.0.1/js-package/distr/lets-plot.min.js&quot;>&lt;/script>\n   &lt;/head>\n   &lt;body>\n          &lt;div id=&quot;03gz9x&quot;>&lt;/div>\n   &lt;script type=&quot;text/javascript&quot; data-lets-plot-script=&quot;plot&quot;>\n       var plotSpec={\n&quot;mapping&quot;:{\n},\n&quot;data&quot;:{\n},\n&quot;kind&quot;:&quot;plot&quot;,\n&quot;scales&quot;:[{\n&quot;aesthetic&quot;:&quot;x&quot;,\n&quot;discrete&quot;:true\n},{\n&quot;aesthetic&quot;:&quot;color&quot;,\n&quot;discrete&quot;:true\n}],\n&quot;layers&quot;:[{\n&quot;mapping&quot;:{\n&quot;x&quot;:&quot;x&quot;,\n&quot;ymin&quot;:&quot;min&quot;,\n&quot;ymax&quot;:&quot;max&quot;,\n&quot;color&quot;:&quot;x&quot;\n},\n&quot;stat&quot;:&quot;identity&quot;,\n&quot;data&quot;:{\n&quot;min&quot;:[1.7954074175428276,1.5393158434035827,1.9815823952307277],\n&quot;max&quot;:[4.198810008970772,4.488780385469386,4.0206297503440025],\n&quot;x&quot;:[&quot;a&quot;,&quot;b&quot;,&quot;c&quot;]\n},\n&quot;sampling&quot;:&quot;none&quot;,\n&quot;position&quot;:&quot;dodge&quot;,\n&quot;geom&quot;:&quot;errorbar&quot;\n}]\n};\n       var plotContainer = document.getElementById(&quot;03gz9x&quot;);\n       LetsPlot.buildPlotFromProcessedSpecs(plotSpec, -1, -1, plotContainer);\n   &lt;/script>\n   &lt;/body>\n&lt;/html>\"></iframe>            \n        <svg id=c3fd0174-e337-4592-bf13-784f401173e5 xmlns=\"http://www.w3.org/2000/svg\" xmlns:xlink=\"http://www.w3.org/1999/xlink\" class=\"plt-container\" width=\"600.0\" height=\"400.0\">\n  <style type=\"text/css\">\n  .plt-container {\n   font-family: Lucida Grande, sans-serif;\n   user-select: none;\n   -webkit-user-select: none;\n   -moz-user-select: none;\n   -ms-user-select: none;\n}\ntext {\n   text-rendering: optimizeLegibility;\n}\n#puwmCzq .plot-title {\n   fill: #474747;\n   font-family: Lucida Grande, sans-serif;\n   font-size: 16.0px;\n   font-weight: normal;\n   font-style: normal;   \n}\n#puwmCzq .plot-subtitle {\n   fill: #474747;\n   font-family: Lucida Grande, sans-serif;\n   font-size: 15.0px;\n   font-weight: normal;\n   font-style: normal;   \n}\n#puwmCzq .plot-caption {\n   fill: #474747;\n   font-family: Lucida Grande, sans-serif;\n   font-size: 13.0px;\n   font-weight: normal;\n   font-style: normal;   \n}\n#puwmCzq .legend-title {\n   fill: #474747;\n   font-family: Lucida Grande, sans-serif;\n   font-size: 15.0px;\n   font-weight: normal;\n   font-style: normal;   \n}\n#puwmCzq .legend-item {\n   fill: #474747;\n   font-family: Lucida Grande, sans-serif;\n   font-size: 13.0px;\n   font-weight: normal;\n   font-style: normal;   \n}\n#puwmCzq .axis-title-x {\n   fill: #474747;\n   font-family: Lucida Grande, sans-serif;\n   font-size: 15.0px;\n   font-weight: normal;\n   font-style: normal;   \n}\n#puwmCzq .axis-text-x {\n   fill: #474747;\n   font-family: Lucida Grande, sans-serif;\n   font-size: 13.0px;\n   font-weight: normal;\n   font-style: normal;   \n}\n#drv7Vkx .axis-tooltip-text-x {\n   fill: #ffffff;\n   font-family: Lucida Grande, sans-serif;\n   font-size: 13.0px;\n   font-weight: normal;\n   font-style: normal;   \n}\n#puwmCzq .axis-title-y {\n   fill: #474747;\n   font-family: Lucida Grande, sans-serif;\n   font-size: 15.0px;\n   font-weight: normal;\n   font-style: normal;   \n}\n#puwmCzq .axis-text-y {\n   fill: #474747;\n   font-family: Lucida Grande, sans-serif;\n   font-size: 13.0px;\n   font-weight: normal;\n   font-style: normal;   \n}\n#drv7Vkx .axis-tooltip-text-y {\n   fill: #ffffff;\n   font-family: Lucida Grande, sans-serif;\n   font-size: 13.0px;\n   font-weight: normal;\n   font-style: normal;   \n}\n#puwmCzq .facet-strip-text-x {\n   fill: #474747;\n   font-family: Lucida Grande, sans-serif;\n   font-size: 13.0px;\n   font-weight: normal;\n   font-style: normal;   \n}\n#puwmCzq .facet-strip-text-y {\n   fill: #474747;\n   font-family: Lucida Grande, sans-serif;\n   font-size: 13.0px;\n   font-weight: normal;\n   font-style: normal;   \n}\n#drv7Vkx .tooltip-text {\n   fill: #474747;\n   font-family: Lucida Grande, sans-serif;\n   font-size: 13.0px;\n   font-weight: normal;\n   font-style: normal;   \n}\n#drv7Vkx .tooltip-title {\n   fill: #474747;\n   font-family: Lucida Grande, sans-serif;\n   font-size: 13.0px;\n   font-weight: bold;\n   font-style: normal;   \n}\n#drv7Vkx .tooltip-label {\n   fill: #474747;\n   font-family: Lucida Grande, sans-serif;\n   font-size: 13.0px;\n   font-weight: bold;\n   font-style: normal;   \n}\n\n  </style>\n  <g id=\"puwmCzq\">\n    <path fill-rule=\"evenodd\" fill=\"rgb(255,255,255)\" fill-opacity=\"1.0\" d=\"M0.0 0.0 L0.0 400.0 L600.0 400.0 L600.0 0.0 Z\">\n    </path>\n    <g transform=\"translate(23.0 10.0 ) \">\n      <g transform=\"translate(27.034701220281416 344.0 ) \">\n        <line x1=\"72.32372491351558\" y1=\"-0.0\" x2=\"72.32372491351558\" y2=\"-344.0\" stroke=\"rgb(233,233,233)\" stroke-opacity=\"1.0\" stroke-width=\"1.0\">\n        </line>\n        <line x1=\"242.4971952982581\" y1=\"-0.0\" x2=\"242.4971952982581\" y2=\"-344.0\" stroke=\"rgb(233,233,233)\" stroke-opacity=\"1.0\" stroke-width=\"1.0\">\n        </line>\n        <line x1=\"412.6706656830006\" y1=\"-0.0\" x2=\"412.6706656830006\" y2=\"-344.0\" stroke=\"rgb(233,233,233)\" stroke-opacity=\"1.0\" stroke-width=\"1.0\">\n        </line>\n        <g transform=\"translate(72.32372491351558 0.0 ) \">\n          <line stroke-width=\"1.0\" stroke=\"rgb(71,71,71)\" stroke-opacity=\"1.0\" x2=\"0.0\" y2=\"4.0\">\n          </line>\n          <g transform=\"translate(0.0 7.0 ) \">\n            <text class=\"axis-text-x\" text-anchor=\"middle\" dy=\"0.7em\">\n            a\n            </text>\n          </g>\n        </g>\n        <g transform=\"translate(242.4971952982581 0.0 ) \">\n          <line stroke-width=\"1.0\" stroke=\"rgb(71,71,71)\" stroke-opacity=\"1.0\" x2=\"0.0\" y2=\"4.0\">\n          </line>\n          <g transform=\"translate(0.0 7.0 ) \">\n            <text class=\"axis-text-x\" text-anchor=\"middle\" dy=\"0.7em\">\n            b\n            </text>\n          </g>\n        </g>\n        <g transform=\"translate(412.6706656830006 0.0 ) \">\n          <line stroke-width=\"1.0\" stroke=\"rgb(71,71,71)\" stroke-opacity=\"1.0\" x2=\"0.0\" y2=\"4.0\">\n          </line>\n          <g transform=\"translate(0.0 7.0 ) \">\n            <text class=\"axis-text-x\" text-anchor=\"middle\" dy=\"0.7em\">\n            c\n            </text>\n          </g>\n        </g>\n        <line x1=\"0.0\" y1=\"0.0\" x2=\"484.9943905965163\" y2=\"0.0\" stroke-width=\"1.0\" stroke=\"rgb(71,71,71)\" stroke-opacity=\"1.0\">\n        </line>\n      </g>\n      <g transform=\"translate(27.034701220281416 0.0 ) \">\n        <line x1=\"0.0\" y1=\"332.5322358864377\" x2=\"484.9943905965163\" y2=\"332.5322358864377\" stroke=\"rgb(233,233,233)\" stroke-opacity=\"1.0\" stroke-width=\"1.0\">\n        </line>\n        <line x1=\"0.0\" y1=\"279.51799071293266\" x2=\"484.9943905965163\" y2=\"279.51799071293266\" stroke=\"rgb(233,233,233)\" stroke-opacity=\"1.0\" stroke-width=\"1.0\">\n        </line>\n        <line x1=\"0.0\" y1=\"226.5037455394276\" x2=\"484.9943905965163\" y2=\"226.5037455394276\" stroke=\"rgb(233,233,233)\" stroke-opacity=\"1.0\" stroke-width=\"1.0\">\n        </line>\n        <line x1=\"0.0\" y1=\"173.48950036592254\" x2=\"484.9943905965163\" y2=\"173.48950036592254\" stroke=\"rgb(233,233,233)\" stroke-opacity=\"1.0\" stroke-width=\"1.0\">\n        </line>\n        <line x1=\"0.0\" y1=\"120.47525519241748\" x2=\"484.9943905965163\" y2=\"120.47525519241748\" stroke=\"rgb(233,233,233)\" stroke-opacity=\"1.0\" stroke-width=\"1.0\">\n        </line>\n        <line x1=\"0.0\" y1=\"67.46101001891242\" x2=\"484.9943905965163\" y2=\"67.46101001891242\" stroke=\"rgb(233,233,233)\" stroke-opacity=\"1.0\" stroke-width=\"1.0\">\n        </line>\n        <line x1=\"0.0\" y1=\"14.446764845407358\" x2=\"484.9943905965163\" y2=\"14.446764845407358\" stroke=\"rgb(233,233,233)\" stroke-opacity=\"1.0\" stroke-width=\"1.0\">\n        </line>\n        <g transform=\"translate(0.0 332.5322358864377 ) \">\n          <g transform=\"translate(-3.0 0.0 ) \">\n            <text class=\"axis-text-y\" text-anchor=\"end\" dy=\"0.35em\">\n            1.5\n            </text>\n          </g>\n        </g>\n        <g transform=\"translate(0.0 279.51799071293266 ) \">\n          <g transform=\"translate(-3.0 0.0 ) \">\n            <text class=\"axis-text-y\" text-anchor=\"end\" dy=\"0.35em\">\n            2.0\n            </text>\n          </g>\n        </g>\n        <g transform=\"translate(0.0 226.5037455394276 ) \">\n          <g transform=\"translate(-3.0 0.0 ) \">\n            <text class=\"axis-text-y\" text-anchor=\"end\" dy=\"0.35em\">\n            2.5\n            </text>\n          </g>\n        </g>\n        <g transform=\"translate(0.0 173.48950036592254 ) \">\n          <g transform=\"translate(-3.0 0.0 ) \">\n            <text class=\"axis-text-y\" text-anchor=\"end\" dy=\"0.35em\">\n            3.0\n            </text>\n          </g>\n        </g>\n        <g transform=\"translate(0.0 120.47525519241748 ) \">\n          <g transform=\"translate(-3.0 0.0 ) \">\n            <text class=\"axis-text-y\" text-anchor=\"end\" dy=\"0.35em\">\n            3.5\n            </text>\n          </g>\n        </g>\n        <g transform=\"translate(0.0 67.46101001891242 ) \">\n          <g transform=\"translate(-3.0 0.0 ) \">\n            <text class=\"axis-text-y\" text-anchor=\"end\" dy=\"0.35em\">\n            4.0\n            </text>\n          </g>\n        </g>\n        <g transform=\"translate(0.0 14.446764845407358 ) \">\n          <g transform=\"translate(-3.0 0.0 ) \">\n            <text class=\"axis-text-y\" text-anchor=\"end\" dy=\"0.35em\">\n            4.5\n            </text>\n          </g>\n        </g>\n      </g>\n      <g transform=\"translate(27.034701220281416 0.0 ) \" clip-path=\"url(#cb5RhZF)\" clip-bounds-jfx=\"[rect (0.0, 0.0), (484.9943905965163, 344.0)]\">\n        <defs>\n          <clipPath id=\"cb5RhZF\">\n            <rect x=\"0.0\" y=\"0.0\" width=\"484.9943905965163\" height=\"344.0\">\n            </rect>\n          </clipPath>\n        </defs>\n        <g>\n          <line x1=\"34.034694076948504\" y1=\"301.2106333670628\" x2=\"110.61275575008264\" y2=\"301.2106333670628\" stroke=\"rgb(228,26,28)\" stroke-opacity=\"1.0\" fill=\"rgb(17,142,216)\" fill-opacity=\"1.0\" stroke-width=\"1.6500000000000001\">\n          </line>\n          <line x1=\"34.034694076948504\" y1=\"46.381484901865974\" x2=\"110.61275575008264\" y2=\"46.381484901865974\" stroke=\"rgb(228,26,28)\" stroke-opacity=\"1.0\" fill=\"rgb(17,142,216)\" fill-opacity=\"1.0\" stroke-width=\"1.6500000000000001\">\n          </line>\n          <line x1=\"72.32372491351558\" y1=\"301.2106333670628\" x2=\"72.32372491351558\" y2=\"46.381484901865974\" stroke=\"rgb(228,26,28)\" stroke-opacity=\"1.0\" fill=\"rgb(17,142,216)\" fill-opacity=\"1.0\" stroke-width=\"1.6500000000000001\">\n          </line>\n        </g>\n        <g>\n          <line x1=\"204.20816446169104\" y1=\"328.3636363636364\" x2=\"280.7862261348252\" y2=\"328.3636363636364\" stroke=\"rgb(55,126,184)\" stroke-opacity=\"1.0\" fill=\"rgb(17,142,216)\" fill-opacity=\"1.0\" stroke-width=\"1.6500000000000001\">\n          </line>\n          <line x1=\"204.20816446169104\" y1=\"15.636363636363683\" x2=\"280.7862261348252\" y2=\"15.636363636363683\" stroke=\"rgb(55,126,184)\" stroke-opacity=\"1.0\" fill=\"rgb(17,142,216)\" fill-opacity=\"1.0\" stroke-width=\"1.6500000000000001\">\n          </line>\n          <line x1=\"242.4971952982581\" y1=\"328.3636363636364\" x2=\"242.4971952982581\" y2=\"15.636363636363683\" stroke=\"rgb(55,126,184)\" stroke-opacity=\"1.0\" fill=\"rgb(17,142,216)\" fill-opacity=\"1.0\" stroke-width=\"1.6500000000000001\">\n          </line>\n        </g>\n        <g>\n          <line x1=\"374.3816348464336\" y1=\"281.4707815424265\" x2=\"450.95969651956773\" y2=\"281.4707815424265\" stroke=\"rgb(77,175,74)\" stroke-opacity=\"1.0\" fill=\"rgb(17,142,216)\" fill-opacity=\"1.0\" stroke-width=\"1.6500000000000001\">\n          </line>\n          <line x1=\"374.3816348464336\" y1=\"65.2736687337021\" x2=\"450.95969651956773\" y2=\"65.2736687337021\" stroke=\"rgb(77,175,74)\" stroke-opacity=\"1.0\" fill=\"rgb(17,142,216)\" fill-opacity=\"1.0\" stroke-width=\"1.6500000000000001\">\n          </line>\n          <line x1=\"412.6706656830006\" y1=\"281.4707815424265\" x2=\"412.6706656830006\" y2=\"65.2736687337021\" stroke=\"rgb(77,175,74)\" stroke-opacity=\"1.0\" fill=\"rgb(17,142,216)\" fill-opacity=\"1.0\" stroke-width=\"1.6500000000000001\">\n          </line>\n        </g>\n      </g>\n    </g>\n    <g transform=\"translate(14.5 182.0 ) rotate(-90.0 ) \">\n      <text class=\"axis-title-y\" y=\"0.0\" text-anchor=\"middle\">\n      y\n      </text>\n    </g>\n    <g transform=\"translate(292.5318965185396 391.5 ) \">\n      <text class=\"axis-title-x\" y=\"0.0\" text-anchor=\"middle\">\n      x\n      </text>\n    </g>\n    <g transform=\"translate(545.0290918167977 126.25 ) \">\n      <rect x=\"5.0\" y=\"5.0\" height=\"101.5\" width=\"44.970908183202305\" stroke=\"rgb(71,71,71)\" stroke-opacity=\"1.0\" stroke-width=\"0.0\" fill=\"rgb(255,255,255)\" fill-opacity=\"1.0\">\n      </rect>\n      <g transform=\"translate(10.0 10.0 ) \">\n        <g transform=\"translate(0.0 10.5 ) \">\n          <text class=\"legend-title\" y=\"0.0\">\n          x\n          </text>\n        </g>\n        <g transform=\"translate(0.0 22.5 ) \">\n          <g transform=\"\">\n            <g>\n              <rect x=\"0.0\" y=\"0.0\" height=\"23.0\" width=\"23.0\" stroke-width=\"0.0\" fill=\"rgb(255,255,255)\" fill-opacity=\"1.0\">\n              </rect>\n              <g transform=\"translate(1.0 1.0 ) \">\n                <g>\n                  <line x1=\"6.146249999999999\" y1=\"0.8250000000000001\" x2=\"14.853750000000002\" y2=\"0.8250000000000001\" stroke=\"rgb(228,26,28)\" stroke-opacity=\"1.0\" fill=\"rgb(255,255,255)\" fill-opacity=\"1.0\" stroke-width=\"1.6500000000000001\">\n                  </line>\n                  <line x1=\"6.146249999999999\" y1=\"20.175\" x2=\"14.853750000000002\" y2=\"20.175\" stroke=\"rgb(228,26,28)\" stroke-opacity=\"1.0\" fill=\"rgb(255,255,255)\" fill-opacity=\"1.0\" stroke-width=\"1.6500000000000001\">\n                  </line>\n                  <line x1=\"10.5\" y1=\"0.8250000000000001\" x2=\"10.5\" y2=\"20.175\" stroke=\"rgb(228,26,28)\" stroke-opacity=\"1.0\" fill=\"rgb(255,255,255)\" fill-opacity=\"1.0\" stroke-width=\"1.6500000000000001\">\n                  </line>\n                </g>\n              </g>\n              <rect x=\"0.0\" y=\"0.0\" height=\"23.0\" width=\"23.0\" stroke=\"rgb(255,255,255)\" stroke-opacity=\"1.0\" stroke-width=\"1.0\" fill-opacity=\"0.0\">\n              </rect>\n            </g>\n            <g transform=\"translate(26.9903027277341 16.05 ) \">\n              <text class=\"legend-item\" y=\"0.0\">\n              a\n              </text>\n            </g>\n          </g>\n          <g transform=\"translate(0.0 23.0 ) \">\n            <g>\n              <rect x=\"0.0\" y=\"0.0\" height=\"23.0\" width=\"23.0\" stroke-width=\"0.0\" fill=\"rgb(255,255,255)\" fill-opacity=\"1.0\">\n              </rect>\n              <g transform=\"translate(1.0 1.0 ) \">\n                <g>\n                  <line x1=\"6.146249999999999\" y1=\"0.8250000000000001\" x2=\"14.853750000000002\" y2=\"0.8250000000000001\" stroke=\"rgb(55,126,184)\" stroke-opacity=\"1.0\" fill=\"rgb(255,255,255)\" fill-opacity=\"1.0\" stroke-width=\"1.6500000000000001\">\n                  </line>\n                  <line x1=\"6.146249999999999\" y1=\"20.175\" x2=\"14.853750000000002\" y2=\"20.175\" stroke=\"rgb(55,126,184)\" stroke-opacity=\"1.0\" fill=\"rgb(255,255,255)\" fill-opacity=\"1.0\" stroke-width=\"1.6500000000000001\">\n                  </line>\n                  <line x1=\"10.5\" y1=\"0.8250000000000001\" x2=\"10.5\" y2=\"20.175\" stroke=\"rgb(55,126,184)\" stroke-opacity=\"1.0\" fill=\"rgb(255,255,255)\" fill-opacity=\"1.0\" stroke-width=\"1.6500000000000001\">\n                  </line>\n                </g>\n              </g>\n              <rect x=\"0.0\" y=\"0.0\" height=\"23.0\" width=\"23.0\" stroke=\"rgb(255,255,255)\" stroke-opacity=\"1.0\" stroke-width=\"1.0\" fill-opacity=\"0.0\">\n              </rect>\n            </g>\n            <g transform=\"translate(26.9903027277341 16.05 ) \">\n              <text class=\"legend-item\" y=\"0.0\">\n              b\n              </text>\n            </g>\n          </g>\n          <g transform=\"translate(0.0 46.0 ) \">\n            <g>\n              <rect x=\"0.0\" y=\"0.0\" height=\"23.0\" width=\"23.0\" stroke-width=\"0.0\" fill=\"rgb(255,255,255)\" fill-opacity=\"1.0\">\n              </rect>\n              <g transform=\"translate(1.0 1.0 ) \">\n                <g>\n                  <line x1=\"6.146249999999999\" y1=\"0.8250000000000001\" x2=\"14.853750000000002\" y2=\"0.8250000000000001\" stroke=\"rgb(77,175,74)\" stroke-opacity=\"1.0\" fill=\"rgb(255,255,255)\" fill-opacity=\"1.0\" stroke-width=\"1.6500000000000001\">\n                  </line>\n                  <line x1=\"6.146249999999999\" y1=\"20.175\" x2=\"14.853750000000002\" y2=\"20.175\" stroke=\"rgb(77,175,74)\" stroke-opacity=\"1.0\" fill=\"rgb(255,255,255)\" fill-opacity=\"1.0\" stroke-width=\"1.6500000000000001\">\n                  </line>\n                  <line x1=\"10.5\" y1=\"0.8250000000000001\" x2=\"10.5\" y2=\"20.175\" stroke=\"rgb(77,175,74)\" stroke-opacity=\"1.0\" fill=\"rgb(255,255,255)\" fill-opacity=\"1.0\" stroke-width=\"1.6500000000000001\">\n                  </line>\n                </g>\n              </g>\n              <rect x=\"0.0\" y=\"0.0\" height=\"23.0\" width=\"23.0\" stroke=\"rgb(255,255,255)\" stroke-opacity=\"1.0\" stroke-width=\"1.0\" fill-opacity=\"0.0\">\n              </rect>\n            </g>\n            <g transform=\"translate(26.9903027277341 16.05 ) \">\n              <text class=\"legend-item\" y=\"0.0\">\n              c\n              </text>\n            </g>\n          </g>\n        </g>\n      </g>\n    </g>\n    <path fill=\"rgb(0,0,0)\" fill-opacity=\"0.0\" stroke=\"rgb(71,71,71)\" stroke-opacity=\"1.0\" stroke-width=\"0.0\" d=\"M0.0 0.0 L0.0 400.0 L600.0 400.0 L600.0 0.0 Z\">\n    </path>\n  </g>\n  <g id=\"drv7Vkx\">\n  </g>\n</svg>\n        <script>document.getElementById(\"c3fd0174-e337-4592-bf13-784f401173e5\").style.display = \"none\";</script>",
      "application/plot+json": {
       "output_type": "lets_plot_spec",
       "output": {
        "mapping": {},
        "data": {},
        "kind": "plot",
        "scales": [
         {
          "aesthetic": "x",
          "discrete": true
         },
         {
          "aesthetic": "color",
          "discrete": true
         }
        ],
        "layers": [
         {
          "mapping": {
           "x": "x",
           "ymin": "min",
           "ymax": "max",
           "color": "x"
          },
          "stat": "identity",
          "data": {
           "min": [
            1.7954074,
            1.5393158,
            1.9815824
           ],
           "max": [
            4.19881,
            4.4887805,
            4.02063
           ],
           "x": [
            "a",
            "b",
            "c"
           ]
          },
          "sampling": "none",
          "position": "dodge",
          "geom": "errorbar"
         }
        ]
       },
       "apply_color_scheme": true,
       "swing_enabled": true
      }
     },
     "execution_count": 27,
     "metadata": {},
     "output_type": "execute_result"
    }
   ],
   "source": [
    "import java.util.Random\n",
    "\n",
    "val random = Random(777)\n",
    "\n",
    "val valuesA = List(100) { random.nextGaussian(3.0, 0.5) }\n",
    "val valuesB = List(100) { random.nextDouble(1.5, 4.5) }\n",
    "val valuesC = valuesA.zip(valuesB).map { (it.first + it.second) / 2.0 }\n",
    "\n",
    "\n",
    "val df = dataFrameOf(\n",
    "    \"value\" to valuesA + valuesB + valuesC,\n",
    "    \"group\" to  List(100) {\"a\"} + List(100) {\"b\"} + List(100) {\"c\"}\n",
    ")\n",
    "\n",
    "df.plot {\n",
    "   statBoxplot(\"group\", \"value\") {\n",
    "       errorBars { \n",
    "           x(Stat.x)\n",
    "           yMin(Stat.min)\n",
    "           yMax(Stat.max)\n",
    "           borderLine.color(Stat.x)\n",
    "       }\n",
    "   }\n",
    "}"
   ],
   "metadata": {
    "collapsed": false,
    "ExecuteTime": {
     "end_time": "2023-11-17T11:39:53.846099Z",
     "start_time": "2023-11-17T11:39:53.143191Z"
    }
   }
  }
 ],
 "metadata": {
  "kernelspec": {
   "display_name": "Kotlin",
   "language": "kotlin",
   "name": "kotlin"
  },
  "language_info": {
   "name": "kotlin",
   "version": "1.9.0",
   "mimetype": "text/x-kotlin",
   "file_extension": ".kt",
   "pygments_lexer": "kotlin",
   "codemirror_mode": "text/x-kotlin",
   "nbconvert_exporter": ""
  },
  "ktnbPluginMetadata": {
   "projectLibraries": []
  }
 },
 "nbformat": 4,
 "nbformat_minor": 0
}
