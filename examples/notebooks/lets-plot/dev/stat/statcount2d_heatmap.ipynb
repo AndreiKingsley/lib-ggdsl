{
 "cells": [
  {
   "cell_type": "markdown",
   "source": [
    "# \"Count2D\" statistics & heatmap"
   ],
   "metadata": {
    "collapsed": false
   }
  },
  {
   "cell_type": "markdown",
   "source": [
    " Statistics \"count2d\" are calculated on the sample of two categorical variables (usually provided as two samples of single variable - `x` and `y`); it counts the number of observations in each pair of x-category and y-category. \n",
    " It's weighted; it means the weighted count for each pair is calculated (each element within a pair counted along with its weight)."
   ],
   "metadata": {
    "collapsed": false
   }
  },
  {
   "cell_type": "markdown",
   "source": [
    "This notebook uses definitions from [DataFrame](https://kotlin.github.io/dataframe/overview.html)."
   ],
   "metadata": {
    "collapsed": false
   }
  },
  {
   "cell_type": "markdown",
   "source": [
    "## Usage"
   ],
   "metadata": {
    "collapsed": false
   }
  },
  {
   "cell_type": "markdown",
   "source": [
    "\"Count2D\" plots give a visual representation of the two-variables discrete sample distribution."
   ],
   "metadata": {
    "collapsed": false
   }
  },
  {
   "cell_type": "markdown",
   "source": [
    "## Arguments"
   ],
   "metadata": {
    "collapsed": false
   }
  },
  {
   "cell_type": "markdown",
   "source": [
    "* Input (mandatory):\n",
    "  - `x` - `x`-part of input sample;\n",
    "  - `y` - `y`-part of input sample; \n",
    "* Weights (optional):\n",
    "  - `weights` - set of weights of the same size as the input samples; `null` (by default) means all weights are equal to `1.0` and the weighted count is equal to the normal one;"
   ],
   "metadata": {
    "collapsed": false
   }
  },
  {
   "cell_type": "markdown",
   "source": [
    "### Generalized signature"
   ],
   "metadata": {
    "collapsed": false
   }
  },
  {
   "cell_type": "markdown",
   "source": [
    "The specific signature depends on the function, but all functions related to \"count2d\" statistic (which will be discussed further below - different variations of `statCount2D()`, `heatmap()`) have approximately the same signature with the arguments above:\n",
    "\n",
    "```\n",
    "statCount2DArgs := \n",
    "   x,\n",
    "   y, \n",
    "   weights = null\n",
    "```\n",
    "\n",
    "The possible types of `x`, `y` and `weights` depend on where a certain function is used. They can be simply `Iterable` (`List`, `Set`, etc.) or a reference to a column in a `DataFrame` (`String`, `ColumnAccessor`) or the `DataColumn` itself. `x` elements are type of `X` - generic type parameter; `y` elements are type of `Y` - generic type parameter."
   ],
   "metadata": {
    "collapsed": false
   }
  },
  {
   "cell_type": "markdown",
   "source": [
    "## Output statistics"
   ],
   "metadata": {
    "collapsed": false
   }
  },
  {
   "cell_type": "markdown",
   "source": [
    "| name               | type   | description                                                   |\n",
    "|--------------------|--------|---------------------------------------------------------------|\n",
    "| Stat.x             | X      | `x`-category                                                  |\n",
    "| Stat.y             | Y      | `y`-category                                                  |\n",
    "| Stat.count         | Int    | Number of observations in this category                       |\n",
    "| Stat.countWeighted | Double | Weighted count (sum of observations weights in this category) |"
   ],
   "metadata": {
    "collapsed": false
   }
  },
  {
   "cell_type": "markdown",
   "source": [
    "## StatCount plots"
   ],
   "metadata": {
    "collapsed": false
   }
  },
  {
   "cell_type": "code",
   "execution_count": 1,
   "outputs": [
    {
     "data": {
      "text/plain": ""
     },
     "metadata": {},
     "output_type": "display_data"
    },
    {
     "data": {
      "text/html": "            <div id=\"kotlin_out_0\"></div>\n            <script type=\"text/javascript\">\n                            if(!window.kotlinQueues) {\n                window.kotlinQueues = {};\n            }\n            if(!window.kotlinQueues[\"kandyLetsPlot\"]) {\n                var resQueue = [];\n                window.kotlinQueues[\"kandyLetsPlot\"] = resQueue;\n                window[\"call_kandyLetsPlot\"] = function(f) {\n                    resQueue.push(f);\n                }\n            }\n            (function (){\n                var modifiers = [(function(script) {\n    script.src = \"https://cdn.jsdelivr.net/gh/JetBrains/lets-plot@v4.0.0/js-package/distr/lets-plot.min.js\"\n    script.type = \"text/javascript\";\n})];\n                var e = document.getElementById(\"kotlin_out_0\");\n                modifiers.forEach(function (gen) {\n                    var script = document.createElement(\"script\");\n                    gen(script)\n                    script.addEventListener(\"load\", function() {\n                        window[\"call_kandyLetsPlot\"] = function(f) {f();};\n                        window.kotlinQueues[\"kandyLetsPlot\"].forEach(function(f) {f();});\n                        window.kotlinQueues[\"kandyLetsPlot\"] = [];\n                    }, false);\n                    script.addEventListener(\"error\", function() {\n                        window[\"call_kandyLetsPlot\"] = function(f) {};\n                        window.kotlinQueues[\"kandyLetsPlot\"] = [];\n                        var div = document.createElement(\"div\");\n                        div.style.color = 'darkred';\n                        div.textContent = 'Error loading resource kandyLetsPlot';\n                        document.getElementById(\"kotlin_out_0\").appendChild(div);\n                    }, false);\n                    \n                    e.appendChild(script);\n                });\n            })();\n            </script>"
     },
     "metadata": {},
     "output_type": "display_data"
    }
   ],
   "source": [
    "%use dataframe(0.11.1)\n",
    "%use kandy(0.4.5-dev-28)\n",
    "@file:Repository(\"https://packages.jetbrains.team/maven/p/kds/kotlin-ds-maven\")\n",
    "@file:DependsOn(\"org.jetbrains.kotlinx:kotlin-statistics-jvm:0.0.0-dev-6\")"
   ],
   "metadata": {
    "collapsed": false,
    "ExecuteTime": {
     "end_time": "2023-10-19T12:05:30.132105Z",
     "start_time": "2023-10-19T12:05:11.524867Z"
    }
   }
  },
  {
   "cell_type": "code",
   "execution_count": 2,
   "outputs": [
    {
     "data": {
      "text/html": "            <iframe onload=\"o_resize_iframe_out_1()\" style=\"width:100%;\" class=\"result_container\" id=\"iframe_out_1\" frameBorder=\"0\" srcdoc=\"        &lt;html&gt;\n        &lt;head&gt;\n            &lt;style type=&quot;text&sol;css&quot;&gt;\n                :root {\n    --background: #fff;\n    --background-odd: #f5f5f5;\n    --background-hover: #d9edfd;\n    --header-text-color: #474747;\n    --text-color: #848484;\n    --text-color-dark: #000;\n    --text-color-medium: #737373;\n    --text-color-pale: #b3b3b3;\n    --inner-border-color: #aaa;\n    --bold-border-color: #000;\n    --link-color: #296eaa;\n    --link-color-pale: #296eaa;\n    --link-hover: #1a466c;\n}\n\n:root[theme=&quot;dark&quot;], :root [data-jp-theme-light=&quot;false&quot;], .dataframe_dark{\n    --background: #303030;\n    --background-odd: #3c3c3c;\n    --background-hover: #464646;\n    --header-text-color: #dddddd;\n    --text-color: #b3b3b3;\n    --text-color-dark: #dddddd;\n    --text-color-medium: #b2b2b2;\n    --text-color-pale: #737373;\n    --inner-border-color: #707070;\n    --bold-border-color: #777777;\n    --link-color: #008dc0;\n    --link-color-pale: #97e1fb;\n    --link-hover: #00688e;\n}\n\np.dataframe_description {\n    color: var(--text-color-dark);\n}\n\ntable.dataframe {\n    font-family: &quot;Helvetica Neue&quot;, Helvetica, Arial, sans-serif;\n    font-size: 12px;\n    background-color: var(--background);\n    color: var(--text-color-dark);\n    border: none;\n    border-collapse: collapse;\n}\n\ntable.dataframe th, td {\n    padding: 6px;\n    border: 1px solid transparent;\n    text-align: left;\n}\n\ntable.dataframe th {\n    background-color: var(--background);\n    color: var(--header-text-color);\n}\n\ntable.dataframe td {\n    vertical-align: top;\n}\n\ntable.dataframe th.bottomBorder {\n    border-bottom-color: var(--bold-border-color);\n}\n\ntable.dataframe tbody &gt; tr:nth-child(odd) {\n    background: var(--background-odd);\n}\n\ntable.dataframe tbody &gt; tr:nth-child(even) {\n    background: var(--background);\n}\n\ntable.dataframe tbody &gt; tr:hover {\n    background: var(--background-hover);\n}\n\ntable.dataframe a {\n    cursor: pointer;\n    color: var(--link-color);\n    text-decoration: none;\n}\n\ntable.dataframe tr:hover &gt; td a {\n    color: var(--link-color-pale);\n}\n\ntable.dataframe a:hover {\n    color: var(--link-hover);\n    text-decoration: underline;\n}\n\ntable.dataframe img {\n    max-width: fit-content;\n}\n\ntable.dataframe th.complex {\n    background-color: var(--background);\n    border: 1px solid var(--background);\n}\n\ntable.dataframe .leftBorder {\n    border-left-color: var(--inner-border-color);\n}\n\ntable.dataframe .rightBorder {\n    border-right-color: var(--inner-border-color);\n}\n\ntable.dataframe .rightAlign {\n    text-align: right;\n}\n\ntable.dataframe .expanderSvg {\n    width: 8px;\n    height: 8px;\n    margin-right: 3px;\n}\n\ntable.dataframe .expander {\n    display: flex;\n    align-items: center;\n}\n\n&sol;* formatting *&sol;\n\ntable.dataframe .null {\n    color: var(--text-color-pale);\n}\n\ntable.dataframe .structural {\n    color: var(--text-color-medium);\n    font-weight: bold;\n}\n\ntable.dataframe .dataFrameCaption {\n    font-weight: bold;\n}\n\ntable.dataframe .numbers {\n    color: var(--text-color-dark);\n}\n\ntable.dataframe td:hover .formatted .structural, .null {\n    color: var(--text-color-dark);\n}\n\ntable.dataframe tr:hover .formatted .structural, .null {\n    color: var(--text-color-dark);\n}\n\n\n\n\n:root {\n    --scroll-bg: #f5f5f5;\n    --scroll-fg: #b3b3b3;\n}\n:root[theme=&quot;dark&quot;], :root [data-jp-theme-light=&quot;false&quot;]{\n    --scroll-bg: #3c3c3c;\n    --scroll-fg: #97e1fb;\n}\nbody {\n    scrollbar-color: var(--scroll-fg) var(--scroll-bg);\n}\nbody::-webkit-scrollbar {\n    width: 10px; &sol;* Mostly for vertical scrollbars *&sol;\n    height: 10px; &sol;* Mostly for horizontal scrollbars *&sol;\n}\nbody::-webkit-scrollbar-thumb {\n    background-color: var(--scroll-fg);\n}\nbody::-webkit-scrollbar-track {\n    background-color: var(--scroll-bg);\n}\n            &lt;&sol;style&gt;\n        &lt;&sol;head&gt;\n        &lt;body&gt;\n            \n&lt;table class=&quot;dataframe&quot; id=&quot;df_1694498816&quot;&gt;&lt;&sol;table&gt;\n\n&lt;p class=&quot;dataframe_description&quot;&gt;DataFrame: rowsCount = 5, columnsCount = 12&lt;&sol;p&gt;\n\n        &lt;&sol;body&gt;\n        &lt;script&gt;\n            (function () {\n    window.DataFrame = window.DataFrame || new (function () {\n        this.addTable = function (df) {\n            let cols = df.cols;\n            for (let i = 0; i &lt; cols.length; i++) {\n                for (let c of cols[i].children) {\n                    cols[c].parent = i;\n                }\n            }\n            df.nrow = 0\n            for (let i = 0; i &lt; df.cols.length; i++) {\n                if (df.cols[i].values.length &gt; df.nrow) df.nrow = df.cols[i].values.length\n            }\n            if (df.id === df.rootId) {\n                df.expandedFrames = new Set()\n                df.childFrames = {}\n                const table = this.getTableElement(df.id)\n                table.df = df\n                for (let i = 0; i &lt; df.cols.length; i++) {\n                    let col = df.cols[i]\n                    if (col.parent === undefined &amp;&amp; col.children.length &gt; 0) col.expanded = true\n                }\n            } else {\n                const rootDf = this.getTableData(df.rootId)\n                rootDf.childFrames[df.id] = df\n            }\n        }\n\n        this.computeRenderData = function (df) {\n            let result = []\n            let pos = 0\n            for (let col = 0; col &lt; df.cols.length; col++) {\n                if (df.cols[col].parent === undefined)\n                    pos += this.computeRenderDataRec(df.cols, col, pos, 0, result, false, false)\n            }\n            for (let i = 0; i &lt; result.length; i++) {\n                let row = result[i]\n                for (let j = 0; j &lt; row.length; j++) {\n                    let cell = row[j]\n                    if (j === 0)\n                        cell.leftBd = false\n                    if (j &lt; row.length - 1) {\n                        let nextData = row[j + 1]\n                        if (nextData.leftBd) cell.rightBd = true\n                        else if (cell.rightBd) nextData.leftBd = true\n                    } else cell.rightBd = false\n                }\n            }\n            return result\n        }\n\n        this.computeRenderDataRec = function (cols, colId, pos, depth, result, leftBorder, rightBorder) {\n            if (result.length === depth) {\n                const array = [];\n                if (pos &gt; 0) {\n                    let j = 0\n                    for (let i = 0; j &lt; pos; i++) {\n                        let c = result[depth - 1][i]\n                        j += c.span\n                        let copy = Object.assign({empty: true}, c)\n                        array.push(copy)\n                    }\n                }\n                result.push(array)\n            }\n            const col = cols[colId];\n            let size = 0;\n            if (col.expanded) {\n                let childPos = pos\n                for (let i = 0; i &lt; col.children.length; i++) {\n                    let child = col.children[i]\n                    let childLeft = i === 0 &amp;&amp; (col.children.length &gt; 1 || leftBorder)\n                    let childRight = i === col.children.length - 1 &amp;&amp; (col.children.length &gt; 1 || rightBorder)\n                    let childSize = this.computeRenderDataRec(cols, child, childPos, depth + 1, result, childLeft, childRight)\n                    childPos += childSize\n                    size += childSize\n                }\n            } else {\n                for (let i = depth + 1; i &lt; result.length; i++)\n                    result[i].push({id: colId, span: 1, leftBd: leftBorder, rightBd: rightBorder, empty: true})\n                size = 1\n            }\n            let left = leftBorder\n            let right = rightBorder\n            if (size &gt; 1) {\n                left = true\n                right = true\n            }\n            result[depth].push({id: colId, span: size, leftBd: left, rightBd: right})\n            return size\n        }\n\n        this.getTableElement = function (id) {\n            return document.getElementById(&quot;df_&quot; + id)\n        }\n\n        this.getTableData = function (id) {\n            return this.getTableElement(id).df\n        }\n\n        this.createExpander = function (isExpanded) {\n            const svgNs = &quot;http:&sol;&sol;www.w3.org&sol;2000&sol;svg&quot;\n            let svg = document.createElementNS(svgNs, &quot;svg&quot;)\n            svg.classList.add(&quot;expanderSvg&quot;)\n            let path = document.createElementNS(svgNs, &quot;path&quot;)\n            if (isExpanded) {\n                svg.setAttribute(&quot;viewBox&quot;, &quot;0 -2 8 8&quot;)\n                path.setAttribute(&quot;d&quot;, &quot;M1 0 l-1 1 4 4 4 -4 -1 -1 -3 3Z&quot;)\n            } else {\n                svg.setAttribute(&quot;viewBox&quot;, &quot;-2 0 8 8&quot;)\n                path.setAttribute(&quot;d&quot;, &quot;M1 0 l-1 1 3 3 -3 3 1 1 4 -4Z&quot;)\n            }\n            path.setAttribute(&quot;fill&quot;, &quot;currentColor&quot;)\n            svg.appendChild(path)\n            return svg\n        }\n\n        this.renderTable = function (id) {\n\n            let table = this.getTableElement(id)\n\n            if (table === null) return\n\n            table.innerHTML = &quot;&quot;\n\n            let df = table.df\n            let rootDf = df.rootId === df.id ? df : this.getTableData(df.rootId)\n\n            &sol;&sol; header\n            let header = document.createElement(&quot;thead&quot;)\n            table.appendChild(header)\n\n            let renderData = this.computeRenderData(df)\n            for (let j = 0; j &lt; renderData.length; j++) {\n                let rowData = renderData[j]\n                let tr = document.createElement(&quot;tr&quot;);\n                let isLastRow = j === renderData.length - 1\n                header.appendChild(tr);\n                for (let i = 0; i &lt; rowData.length; i++) {\n                    let cell = rowData[i]\n                    let th = document.createElement(&quot;th&quot;);\n                    th.setAttribute(&quot;colspan&quot;, cell.span)\n                    let colId = cell.id\n                    let col = df.cols[colId];\n                    if (!cell.empty) {\n                        if (col.children.length === 0) {\n                            th.innerHTML = col.name\n                        } else {\n                            let link = document.createElement(&quot;a&quot;)\n                            link.className = &quot;expander&quot;\n                            let that = this\n                            link.onclick = function () {\n                                col.expanded = !col.expanded\n                                that.renderTable(id)\n                            }\n                            link.appendChild(this.createExpander(col.expanded))\n                            link.innerHTML += col.name\n                            th.appendChild(link)\n                        }\n                    }\n                    let classes = (cell.leftBd ? &quot; leftBorder&quot; : &quot;&quot;) + (cell.rightBd ? &quot; rightBorder&quot; : &quot;&quot;)\n                    if (col.rightAlign)\n                        classes += &quot; rightAlign&quot;\n                    if (isLastRow)\n                        classes += &quot; bottomBorder&quot;\n                    if (classes.length &gt; 0)\n                        th.setAttribute(&quot;class&quot;, classes)\n                    tr.appendChild(th)\n                }\n            }\n\n            &sol;&sol; body\n            let body = document.createElement(&quot;tbody&quot;)\n            table.appendChild(body)\n\n            let columns = renderData.pop()\n            for (let row = 0; row &lt; df.nrow; row++) {\n                let tr = document.createElement(&quot;tr&quot;);\n                body.appendChild(tr)\n                for (let i = 0; i &lt; columns.length; i++) {\n                    let cell = columns[i]\n                    let td = document.createElement(&quot;td&quot;);\n                    let colId = cell.id\n                    let col = df.cols[colId]\n                    let classes = (cell.leftBd ? &quot; leftBorder&quot; : &quot;&quot;) + (cell.rightBd ? &quot; rightBorder&quot; : &quot;&quot;)\n                    if (col.rightAlign)\n                        classes += &quot; rightAlign&quot;\n                    if (classes.length &gt; 0)\n                        td.setAttribute(&quot;class&quot;, classes)\n                    tr.appendChild(td)\n                    let value = col.values[row]\n                    if (value.frameId !== undefined) {\n                        let frameId = value.frameId\n                        let expanded = rootDf.expandedFrames.has(frameId)\n                        let link = document.createElement(&quot;a&quot;)\n                        link.className = &quot;expander&quot;\n                        let that = this\n                        link.onclick = function () {\n                            if (rootDf.expandedFrames.has(frameId))\n                                rootDf.expandedFrames.delete(frameId)\n                            else rootDf.expandedFrames.add(frameId)\n                            that.renderTable(id)\n                        }\n                        link.appendChild(this.createExpander(expanded))\n                        link.innerHTML += value.value\n                        if (expanded) {\n                            td.appendChild(link)\n                            td.appendChild(document.createElement(&quot;p&quot;))\n                            const childTable = document.createElement(&quot;table&quot;)\n                            childTable.className = &quot;dataframe&quot;\n                            childTable.id = &quot;df_&quot; + frameId\n                            let childDf = rootDf.childFrames[frameId]\n                            childTable.df = childDf\n                            td.appendChild(childTable)\n                            this.renderTable(frameId)\n                            if (childDf.nrow !== childDf.totalRows) {\n                                const footer = document.createElement(&quot;p&quot;)\n                                footer.innerText = `... showing only top ${childDf.nrow} of ${childDf.totalRows} rows`\n                                td.appendChild(footer)\n                            }\n                        } else {\n                            td.appendChild(link)\n                        }\n                    } else if (value.style !== undefined) {\n                        td.innerHTML = value.value\n                        td.setAttribute(&quot;style&quot;, value.style)\n                    } else td.innerHTML = value\n                    this.nodeScriptReplace(td)\n                }\n            }\n        }\n\n        this.nodeScriptReplace = function (node) {\n            if (this.nodeScriptIs(node) === true) {\n                node.parentNode.replaceChild(this.nodeScriptClone(node), node);\n            } else {\n                let i = -1, children = node.childNodes;\n                while (++i &lt; children.length) {\n                    this.nodeScriptReplace(children[i]);\n                }\n            }\n\n            return node;\n        }\n\n        this.nodeScriptClone = function (node) {\n            let script = document.createElement(&quot;script&quot;);\n            script.text = node.innerHTML;\n\n            let i = -1, attrs = node.attributes, attr;\n            while (++i &lt; attrs.length) {\n                script.setAttribute((attr = attrs[i]).name, attr.value);\n            }\n            return script;\n        }\n\n        this.nodeScriptIs = function (node) {\n            return node.tagName === 'SCRIPT';\n        }\n    })()\n\n    window.call_DataFrame = function (f) {\n        return f();\n    };\n\n    let funQueue = window[&quot;kotlinQueues&quot;] &amp;&amp; window[&quot;kotlinQueues&quot;][&quot;DataFrame&quot;];\n    if (funQueue) {\n        funQueue.forEach(function (f) {\n            f();\n        });\n        funQueue = [];\n    }\n})()\n\n&sol;*&lt;!--*&sol;\ncall_DataFrame(function() { DataFrame.addTable({ cols: [{ name: &quot;&lt;span title=&bsol;&quot;untitled: Int&bsol;&quot;&gt;untitled&lt;&sol;span&gt;&quot;, children: [], rightAlign: true, values: [&quot;&lt;span class=&bsol;&quot;formatted&bsol;&quot; title=&bsol;&quot;&bsol;&quot;&gt;&lt;span class=&bsol;&quot;numbers&bsol;&quot;&gt;1&lt;&sol;span&gt;&lt;&sol;span&gt;&quot;,&quot;&lt;span class=&bsol;&quot;formatted&bsol;&quot; title=&bsol;&quot;&bsol;&quot;&gt;&lt;span class=&bsol;&quot;numbers&bsol;&quot;&gt;2&lt;&sol;span&gt;&lt;&sol;span&gt;&quot;,&quot;&lt;span class=&bsol;&quot;formatted&bsol;&quot; title=&bsol;&quot;&bsol;&quot;&gt;&lt;span class=&bsol;&quot;numbers&bsol;&quot;&gt;3&lt;&sol;span&gt;&lt;&sol;span&gt;&quot;,&quot;&lt;span class=&bsol;&quot;formatted&bsol;&quot; title=&bsol;&quot;&bsol;&quot;&gt;&lt;span class=&bsol;&quot;numbers&bsol;&quot;&gt;4&lt;&sol;span&gt;&lt;&sol;span&gt;&quot;,&quot;&lt;span class=&bsol;&quot;formatted&bsol;&quot; title=&bsol;&quot;&bsol;&quot;&gt;&lt;span class=&bsol;&quot;numbers&bsol;&quot;&gt;5&lt;&sol;span&gt;&lt;&sol;span&gt;&quot;] }, \n{ name: &quot;&lt;span title=&bsol;&quot;manufacturer: String&bsol;&quot;&gt;manufacturer&lt;&sol;span&gt;&quot;, children: [], rightAlign: false, values: [&quot;audi&quot;,&quot;audi&quot;,&quot;audi&quot;,&quot;audi&quot;,&quot;audi&quot;] }, \n{ name: &quot;&lt;span title=&bsol;&quot;model: String&bsol;&quot;&gt;model&lt;&sol;span&gt;&quot;, children: [], rightAlign: false, values: [&quot;a4&quot;,&quot;a4&quot;,&quot;a4&quot;,&quot;a4&quot;,&quot;a4&quot;] }, \n{ name: &quot;&lt;span title=&bsol;&quot;displ: Double&bsol;&quot;&gt;displ&lt;&sol;span&gt;&quot;, children: [], rightAlign: true, values: [&quot;&lt;span class=&bsol;&quot;formatted&bsol;&quot; title=&bsol;&quot;&bsol;&quot;&gt;&lt;span class=&bsol;&quot;numbers&bsol;&quot;&gt;1,8&lt;&sol;span&gt;&lt;&sol;span&gt;&quot;,&quot;&lt;span class=&bsol;&quot;formatted&bsol;&quot; title=&bsol;&quot;&bsol;&quot;&gt;&lt;span class=&bsol;&quot;numbers&bsol;&quot;&gt;1,8&lt;&sol;span&gt;&lt;&sol;span&gt;&quot;,&quot;&lt;span class=&bsol;&quot;formatted&bsol;&quot; title=&bsol;&quot;&bsol;&quot;&gt;&lt;span class=&bsol;&quot;numbers&bsol;&quot;&gt;2,0&lt;&sol;span&gt;&lt;&sol;span&gt;&quot;,&quot;&lt;span class=&bsol;&quot;formatted&bsol;&quot; title=&bsol;&quot;&bsol;&quot;&gt;&lt;span class=&bsol;&quot;numbers&bsol;&quot;&gt;2,0&lt;&sol;span&gt;&lt;&sol;span&gt;&quot;,&quot;&lt;span class=&bsol;&quot;formatted&bsol;&quot; title=&bsol;&quot;&bsol;&quot;&gt;&lt;span class=&bsol;&quot;numbers&bsol;&quot;&gt;2,8&lt;&sol;span&gt;&lt;&sol;span&gt;&quot;] }, \n{ name: &quot;&lt;span title=&bsol;&quot;year: Int&bsol;&quot;&gt;year&lt;&sol;span&gt;&quot;, children: [], rightAlign: true, values: [&quot;&lt;span class=&bsol;&quot;formatted&bsol;&quot; title=&bsol;&quot;&bsol;&quot;&gt;&lt;span class=&bsol;&quot;numbers&bsol;&quot;&gt;1999&lt;&sol;span&gt;&lt;&sol;span&gt;&quot;,&quot;&lt;span class=&bsol;&quot;formatted&bsol;&quot; title=&bsol;&quot;&bsol;&quot;&gt;&lt;span class=&bsol;&quot;numbers&bsol;&quot;&gt;1999&lt;&sol;span&gt;&lt;&sol;span&gt;&quot;,&quot;&lt;span class=&bsol;&quot;formatted&bsol;&quot; title=&bsol;&quot;&bsol;&quot;&gt;&lt;span class=&bsol;&quot;numbers&bsol;&quot;&gt;2008&lt;&sol;span&gt;&lt;&sol;span&gt;&quot;,&quot;&lt;span class=&bsol;&quot;formatted&bsol;&quot; title=&bsol;&quot;&bsol;&quot;&gt;&lt;span class=&bsol;&quot;numbers&bsol;&quot;&gt;2008&lt;&sol;span&gt;&lt;&sol;span&gt;&quot;,&quot;&lt;span class=&bsol;&quot;formatted&bsol;&quot; title=&bsol;&quot;&bsol;&quot;&gt;&lt;span class=&bsol;&quot;numbers&bsol;&quot;&gt;1999&lt;&sol;span&gt;&lt;&sol;span&gt;&quot;] }, \n{ name: &quot;&lt;span title=&bsol;&quot;cyl: Int&bsol;&quot;&gt;cyl&lt;&sol;span&gt;&quot;, children: [], rightAlign: true, values: [&quot;&lt;span class=&bsol;&quot;formatted&bsol;&quot; title=&bsol;&quot;&bsol;&quot;&gt;&lt;span class=&bsol;&quot;numbers&bsol;&quot;&gt;4&lt;&sol;span&gt;&lt;&sol;span&gt;&quot;,&quot;&lt;span class=&bsol;&quot;formatted&bsol;&quot; title=&bsol;&quot;&bsol;&quot;&gt;&lt;span class=&bsol;&quot;numbers&bsol;&quot;&gt;4&lt;&sol;span&gt;&lt;&sol;span&gt;&quot;,&quot;&lt;span class=&bsol;&quot;formatted&bsol;&quot; title=&bsol;&quot;&bsol;&quot;&gt;&lt;span class=&bsol;&quot;numbers&bsol;&quot;&gt;4&lt;&sol;span&gt;&lt;&sol;span&gt;&quot;,&quot;&lt;span class=&bsol;&quot;formatted&bsol;&quot; title=&bsol;&quot;&bsol;&quot;&gt;&lt;span class=&bsol;&quot;numbers&bsol;&quot;&gt;4&lt;&sol;span&gt;&lt;&sol;span&gt;&quot;,&quot;&lt;span class=&bsol;&quot;formatted&bsol;&quot; title=&bsol;&quot;&bsol;&quot;&gt;&lt;span class=&bsol;&quot;numbers&bsol;&quot;&gt;6&lt;&sol;span&gt;&lt;&sol;span&gt;&quot;] }, \n{ name: &quot;&lt;span title=&bsol;&quot;trans: String&bsol;&quot;&gt;trans&lt;&sol;span&gt;&quot;, children: [], rightAlign: false, values: [&quot;auto(l5)&quot;,&quot;manual(m5)&quot;,&quot;manual(m6)&quot;,&quot;auto(av)&quot;,&quot;auto(l5)&quot;] }, \n{ name: &quot;&lt;span title=&bsol;&quot;drv: String&bsol;&quot;&gt;drv&lt;&sol;span&gt;&quot;, children: [], rightAlign: false, values: [&quot;f&quot;,&quot;f&quot;,&quot;f&quot;,&quot;f&quot;,&quot;f&quot;] }, \n{ name: &quot;&lt;span title=&bsol;&quot;cty: Int&bsol;&quot;&gt;cty&lt;&sol;span&gt;&quot;, children: [], rightAlign: true, values: [&quot;&lt;span class=&bsol;&quot;formatted&bsol;&quot; title=&bsol;&quot;&bsol;&quot;&gt;&lt;span class=&bsol;&quot;numbers&bsol;&quot;&gt;18&lt;&sol;span&gt;&lt;&sol;span&gt;&quot;,&quot;&lt;span class=&bsol;&quot;formatted&bsol;&quot; title=&bsol;&quot;&bsol;&quot;&gt;&lt;span class=&bsol;&quot;numbers&bsol;&quot;&gt;21&lt;&sol;span&gt;&lt;&sol;span&gt;&quot;,&quot;&lt;span class=&bsol;&quot;formatted&bsol;&quot; title=&bsol;&quot;&bsol;&quot;&gt;&lt;span class=&bsol;&quot;numbers&bsol;&quot;&gt;20&lt;&sol;span&gt;&lt;&sol;span&gt;&quot;,&quot;&lt;span class=&bsol;&quot;formatted&bsol;&quot; title=&bsol;&quot;&bsol;&quot;&gt;&lt;span class=&bsol;&quot;numbers&bsol;&quot;&gt;21&lt;&sol;span&gt;&lt;&sol;span&gt;&quot;,&quot;&lt;span class=&bsol;&quot;formatted&bsol;&quot; title=&bsol;&quot;&bsol;&quot;&gt;&lt;span class=&bsol;&quot;numbers&bsol;&quot;&gt;16&lt;&sol;span&gt;&lt;&sol;span&gt;&quot;] }, \n{ name: &quot;&lt;span title=&bsol;&quot;hwy: Int&bsol;&quot;&gt;hwy&lt;&sol;span&gt;&quot;, children: [], rightAlign: true, values: [&quot;&lt;span class=&bsol;&quot;formatted&bsol;&quot; title=&bsol;&quot;&bsol;&quot;&gt;&lt;span class=&bsol;&quot;numbers&bsol;&quot;&gt;29&lt;&sol;span&gt;&lt;&sol;span&gt;&quot;,&quot;&lt;span class=&bsol;&quot;formatted&bsol;&quot; title=&bsol;&quot;&bsol;&quot;&gt;&lt;span class=&bsol;&quot;numbers&bsol;&quot;&gt;29&lt;&sol;span&gt;&lt;&sol;span&gt;&quot;,&quot;&lt;span class=&bsol;&quot;formatted&bsol;&quot; title=&bsol;&quot;&bsol;&quot;&gt;&lt;span class=&bsol;&quot;numbers&bsol;&quot;&gt;31&lt;&sol;span&gt;&lt;&sol;span&gt;&quot;,&quot;&lt;span class=&bsol;&quot;formatted&bsol;&quot; title=&bsol;&quot;&bsol;&quot;&gt;&lt;span class=&bsol;&quot;numbers&bsol;&quot;&gt;30&lt;&sol;span&gt;&lt;&sol;span&gt;&quot;,&quot;&lt;span class=&bsol;&quot;formatted&bsol;&quot; title=&bsol;&quot;&bsol;&quot;&gt;&lt;span class=&bsol;&quot;numbers&bsol;&quot;&gt;26&lt;&sol;span&gt;&lt;&sol;span&gt;&quot;] }, \n{ name: &quot;&lt;span title=&bsol;&quot;fl: String&bsol;&quot;&gt;fl&lt;&sol;span&gt;&quot;, children: [], rightAlign: false, values: [&quot;p&quot;,&quot;p&quot;,&quot;p&quot;,&quot;p&quot;,&quot;p&quot;] }, \n{ name: &quot;&lt;span title=&bsol;&quot;class: String&bsol;&quot;&gt;class&lt;&sol;span&gt;&quot;, children: [], rightAlign: false, values: [&quot;compact&quot;,&quot;compact&quot;,&quot;compact&quot;,&quot;compact&quot;,&quot;compact&quot;] }, \n], id: 1694498816, rootId: 1694498816, totalRows: 5 } ) });\n&sol;*--&gt;*&sol;\n\ncall_DataFrame(function() { DataFrame.renderTable(1694498816) });\n\n\n\n        &lt;&sol;script&gt;\n        &lt;&sol;html&gt;\"></iframe>\n            <script>\n                function o_resize_iframe_out_1() {\n                    let elem = document.getElementById(\"iframe_out_1\");\n                    resize_iframe_out_1(elem);\n                    setInterval(resize_iframe_out_1, 5000, elem);\n                }\n                function resize_iframe_out_1(el) {\n                    let h = el.contentWindow.document.body.scrollHeight;\n                    el.height = h === 0 ? 0 : h + 41;\n                }\n            </script>",
      "application/kotlindataframe+json": "{\"nrow\":5,\"ncol\":12,\"columns\":[\"untitled\",\"manufacturer\",\"model\",\"displ\",\"year\",\"cyl\",\"trans\",\"drv\",\"cty\",\"hwy\",\"fl\",\"class\"],\"kotlin_dataframe\":[{\"untitled\":1,\"manufacturer\":\"audi\",\"model\":\"a4\",\"displ\":1.8,\"year\":1999,\"cyl\":4,\"trans\":\"auto(l5)\",\"drv\":\"f\",\"cty\":18,\"hwy\":29,\"fl\":\"p\",\"class\":\"compact\"},{\"untitled\":2,\"manufacturer\":\"audi\",\"model\":\"a4\",\"displ\":1.8,\"year\":1999,\"cyl\":4,\"trans\":\"manual(m5)\",\"drv\":\"f\",\"cty\":21,\"hwy\":29,\"fl\":\"p\",\"class\":\"compact\"},{\"untitled\":3,\"manufacturer\":\"audi\",\"model\":\"a4\",\"displ\":2.0,\"year\":2008,\"cyl\":4,\"trans\":\"manual(m6)\",\"drv\":\"f\",\"cty\":20,\"hwy\":31,\"fl\":\"p\",\"class\":\"compact\"},{\"untitled\":4,\"manufacturer\":\"audi\",\"model\":\"a4\",\"displ\":2.0,\"year\":2008,\"cyl\":4,\"trans\":\"auto(av)\",\"drv\":\"f\",\"cty\":21,\"hwy\":30,\"fl\":\"p\",\"class\":\"compact\"},{\"untitled\":5,\"manufacturer\":\"audi\",\"model\":\"a4\",\"displ\":2.8,\"year\":1999,\"cyl\":6,\"trans\":\"auto(l5)\",\"drv\":\"f\",\"cty\":16,\"hwy\":26,\"fl\":\"p\",\"class\":\"compact\"}]}"
     },
     "execution_count": 2,
     "metadata": {},
     "output_type": "execute_result"
    }
   ],
   "source": [
    "// use \"mpg\" dataset\n",
    "val mpgDF = DataFrame.readCSV(\"https://raw.githubusercontent.com/JetBrains/lets-plot-kotlin/master/docs/examples/data/mpg.csv\")\n",
    "mpgDF.head(5)"
   ],
   "metadata": {
    "collapsed": false,
    "ExecuteTime": {
     "end_time": "2023-10-19T12:05:34.339262Z",
     "start_time": "2023-10-19T12:05:30.125083Z"
    }
   }
  },
  {
   "cell_type": "code",
   "execution_count": 3,
   "outputs": [
    {
     "data": {
      "text/html": "            <iframe onload=\"o_resize_iframe_out_2()\" style=\"width:100%;\" class=\"result_container\" id=\"iframe_out_2\" frameBorder=\"0\" srcdoc=\"        &lt;html&gt;\n        &lt;head&gt;\n            &lt;style type=&quot;text&sol;css&quot;&gt;\n                :root {\n    --background: #fff;\n    --background-odd: #f5f5f5;\n    --background-hover: #d9edfd;\n    --header-text-color: #474747;\n    --text-color: #848484;\n    --text-color-dark: #000;\n    --text-color-medium: #737373;\n    --text-color-pale: #b3b3b3;\n    --inner-border-color: #aaa;\n    --bold-border-color: #000;\n    --link-color: #296eaa;\n    --link-color-pale: #296eaa;\n    --link-hover: #1a466c;\n}\n\n:root[theme=&quot;dark&quot;], :root [data-jp-theme-light=&quot;false&quot;], .dataframe_dark{\n    --background: #303030;\n    --background-odd: #3c3c3c;\n    --background-hover: #464646;\n    --header-text-color: #dddddd;\n    --text-color: #b3b3b3;\n    --text-color-dark: #dddddd;\n    --text-color-medium: #b2b2b2;\n    --text-color-pale: #737373;\n    --inner-border-color: #707070;\n    --bold-border-color: #777777;\n    --link-color: #008dc0;\n    --link-color-pale: #97e1fb;\n    --link-hover: #00688e;\n}\n\np.dataframe_description {\n    color: var(--text-color-dark);\n}\n\ntable.dataframe {\n    font-family: &quot;Helvetica Neue&quot;, Helvetica, Arial, sans-serif;\n    font-size: 12px;\n    background-color: var(--background);\n    color: var(--text-color-dark);\n    border: none;\n    border-collapse: collapse;\n}\n\ntable.dataframe th, td {\n    padding: 6px;\n    border: 1px solid transparent;\n    text-align: left;\n}\n\ntable.dataframe th {\n    background-color: var(--background);\n    color: var(--header-text-color);\n}\n\ntable.dataframe td {\n    vertical-align: top;\n}\n\ntable.dataframe th.bottomBorder {\n    border-bottom-color: var(--bold-border-color);\n}\n\ntable.dataframe tbody &gt; tr:nth-child(odd) {\n    background: var(--background-odd);\n}\n\ntable.dataframe tbody &gt; tr:nth-child(even) {\n    background: var(--background);\n}\n\ntable.dataframe tbody &gt; tr:hover {\n    background: var(--background-hover);\n}\n\ntable.dataframe a {\n    cursor: pointer;\n    color: var(--link-color);\n    text-decoration: none;\n}\n\ntable.dataframe tr:hover &gt; td a {\n    color: var(--link-color-pale);\n}\n\ntable.dataframe a:hover {\n    color: var(--link-hover);\n    text-decoration: underline;\n}\n\ntable.dataframe img {\n    max-width: fit-content;\n}\n\ntable.dataframe th.complex {\n    background-color: var(--background);\n    border: 1px solid var(--background);\n}\n\ntable.dataframe .leftBorder {\n    border-left-color: var(--inner-border-color);\n}\n\ntable.dataframe .rightBorder {\n    border-right-color: var(--inner-border-color);\n}\n\ntable.dataframe .rightAlign {\n    text-align: right;\n}\n\ntable.dataframe .expanderSvg {\n    width: 8px;\n    height: 8px;\n    margin-right: 3px;\n}\n\ntable.dataframe .expander {\n    display: flex;\n    align-items: center;\n}\n\n&sol;* formatting *&sol;\n\ntable.dataframe .null {\n    color: var(--text-color-pale);\n}\n\ntable.dataframe .structural {\n    color: var(--text-color-medium);\n    font-weight: bold;\n}\n\ntable.dataframe .dataFrameCaption {\n    font-weight: bold;\n}\n\ntable.dataframe .numbers {\n    color: var(--text-color-dark);\n}\n\ntable.dataframe td:hover .formatted .structural, .null {\n    color: var(--text-color-dark);\n}\n\ntable.dataframe tr:hover .formatted .structural, .null {\n    color: var(--text-color-dark);\n}\n\n\n\n\n:root {\n    --scroll-bg: #f5f5f5;\n    --scroll-fg: #b3b3b3;\n}\n:root[theme=&quot;dark&quot;], :root [data-jp-theme-light=&quot;false&quot;]{\n    --scroll-bg: #3c3c3c;\n    --scroll-fg: #97e1fb;\n}\nbody {\n    scrollbar-color: var(--scroll-fg) var(--scroll-bg);\n}\nbody::-webkit-scrollbar {\n    width: 10px; &sol;* Mostly for vertical scrollbars *&sol;\n    height: 10px; &sol;* Mostly for horizontal scrollbars *&sol;\n}\nbody::-webkit-scrollbar-thumb {\n    background-color: var(--scroll-fg);\n}\nbody::-webkit-scrollbar-track {\n    background-color: var(--scroll-bg);\n}\n            &lt;&sol;style&gt;\n        &lt;&sol;head&gt;\n        &lt;body&gt;\n            \n&lt;table class=&quot;dataframe&quot; id=&quot;df_1694498817&quot;&gt;&lt;&sol;table&gt;\n\n&lt;p class=&quot;dataframe_description&quot;&gt;DataFrame: rowsCount = 5, columnsCount = 3&lt;&sol;p&gt;\n\n        &lt;&sol;body&gt;\n        &lt;script&gt;\n            (function () {\n    window.DataFrame = window.DataFrame || new (function () {\n        this.addTable = function (df) {\n            let cols = df.cols;\n            for (let i = 0; i &lt; cols.length; i++) {\n                for (let c of cols[i].children) {\n                    cols[c].parent = i;\n                }\n            }\n            df.nrow = 0\n            for (let i = 0; i &lt; df.cols.length; i++) {\n                if (df.cols[i].values.length &gt; df.nrow) df.nrow = df.cols[i].values.length\n            }\n            if (df.id === df.rootId) {\n                df.expandedFrames = new Set()\n                df.childFrames = {}\n                const table = this.getTableElement(df.id)\n                table.df = df\n                for (let i = 0; i &lt; df.cols.length; i++) {\n                    let col = df.cols[i]\n                    if (col.parent === undefined &amp;&amp; col.children.length &gt; 0) col.expanded = true\n                }\n            } else {\n                const rootDf = this.getTableData(df.rootId)\n                rootDf.childFrames[df.id] = df\n            }\n        }\n\n        this.computeRenderData = function (df) {\n            let result = []\n            let pos = 0\n            for (let col = 0; col &lt; df.cols.length; col++) {\n                if (df.cols[col].parent === undefined)\n                    pos += this.computeRenderDataRec(df.cols, col, pos, 0, result, false, false)\n            }\n            for (let i = 0; i &lt; result.length; i++) {\n                let row = result[i]\n                for (let j = 0; j &lt; row.length; j++) {\n                    let cell = row[j]\n                    if (j === 0)\n                        cell.leftBd = false\n                    if (j &lt; row.length - 1) {\n                        let nextData = row[j + 1]\n                        if (nextData.leftBd) cell.rightBd = true\n                        else if (cell.rightBd) nextData.leftBd = true\n                    } else cell.rightBd = false\n                }\n            }\n            return result\n        }\n\n        this.computeRenderDataRec = function (cols, colId, pos, depth, result, leftBorder, rightBorder) {\n            if (result.length === depth) {\n                const array = [];\n                if (pos &gt; 0) {\n                    let j = 0\n                    for (let i = 0; j &lt; pos; i++) {\n                        let c = result[depth - 1][i]\n                        j += c.span\n                        let copy = Object.assign({empty: true}, c)\n                        array.push(copy)\n                    }\n                }\n                result.push(array)\n            }\n            const col = cols[colId];\n            let size = 0;\n            if (col.expanded) {\n                let childPos = pos\n                for (let i = 0; i &lt; col.children.length; i++) {\n                    let child = col.children[i]\n                    let childLeft = i === 0 &amp;&amp; (col.children.length &gt; 1 || leftBorder)\n                    let childRight = i === col.children.length - 1 &amp;&amp; (col.children.length &gt; 1 || rightBorder)\n                    let childSize = this.computeRenderDataRec(cols, child, childPos, depth + 1, result, childLeft, childRight)\n                    childPos += childSize\n                    size += childSize\n                }\n            } else {\n                for (let i = depth + 1; i &lt; result.length; i++)\n                    result[i].push({id: colId, span: 1, leftBd: leftBorder, rightBd: rightBorder, empty: true})\n                size = 1\n            }\n            let left = leftBorder\n            let right = rightBorder\n            if (size &gt; 1) {\n                left = true\n                right = true\n            }\n            result[depth].push({id: colId, span: size, leftBd: left, rightBd: right})\n            return size\n        }\n\n        this.getTableElement = function (id) {\n            return document.getElementById(&quot;df_&quot; + id)\n        }\n\n        this.getTableData = function (id) {\n            return this.getTableElement(id).df\n        }\n\n        this.createExpander = function (isExpanded) {\n            const svgNs = &quot;http:&sol;&sol;www.w3.org&sol;2000&sol;svg&quot;\n            let svg = document.createElementNS(svgNs, &quot;svg&quot;)\n            svg.classList.add(&quot;expanderSvg&quot;)\n            let path = document.createElementNS(svgNs, &quot;path&quot;)\n            if (isExpanded) {\n                svg.setAttribute(&quot;viewBox&quot;, &quot;0 -2 8 8&quot;)\n                path.setAttribute(&quot;d&quot;, &quot;M1 0 l-1 1 4 4 4 -4 -1 -1 -3 3Z&quot;)\n            } else {\n                svg.setAttribute(&quot;viewBox&quot;, &quot;-2 0 8 8&quot;)\n                path.setAttribute(&quot;d&quot;, &quot;M1 0 l-1 1 3 3 -3 3 1 1 4 -4Z&quot;)\n            }\n            path.setAttribute(&quot;fill&quot;, &quot;currentColor&quot;)\n            svg.appendChild(path)\n            return svg\n        }\n\n        this.renderTable = function (id) {\n\n            let table = this.getTableElement(id)\n\n            if (table === null) return\n\n            table.innerHTML = &quot;&quot;\n\n            let df = table.df\n            let rootDf = df.rootId === df.id ? df : this.getTableData(df.rootId)\n\n            &sol;&sol; header\n            let header = document.createElement(&quot;thead&quot;)\n            table.appendChild(header)\n\n            let renderData = this.computeRenderData(df)\n            for (let j = 0; j &lt; renderData.length; j++) {\n                let rowData = renderData[j]\n                let tr = document.createElement(&quot;tr&quot;);\n                let isLastRow = j === renderData.length - 1\n                header.appendChild(tr);\n                for (let i = 0; i &lt; rowData.length; i++) {\n                    let cell = rowData[i]\n                    let th = document.createElement(&quot;th&quot;);\n                    th.setAttribute(&quot;colspan&quot;, cell.span)\n                    let colId = cell.id\n                    let col = df.cols[colId];\n                    if (!cell.empty) {\n                        if (col.children.length === 0) {\n                            th.innerHTML = col.name\n                        } else {\n                            let link = document.createElement(&quot;a&quot;)\n                            link.className = &quot;expander&quot;\n                            let that = this\n                            link.onclick = function () {\n                                col.expanded = !col.expanded\n                                that.renderTable(id)\n                            }\n                            link.appendChild(this.createExpander(col.expanded))\n                            link.innerHTML += col.name\n                            th.appendChild(link)\n                        }\n                    }\n                    let classes = (cell.leftBd ? &quot; leftBorder&quot; : &quot;&quot;) + (cell.rightBd ? &quot; rightBorder&quot; : &quot;&quot;)\n                    if (col.rightAlign)\n                        classes += &quot; rightAlign&quot;\n                    if (isLastRow)\n                        classes += &quot; bottomBorder&quot;\n                    if (classes.length &gt; 0)\n                        th.setAttribute(&quot;class&quot;, classes)\n                    tr.appendChild(th)\n                }\n            }\n\n            &sol;&sol; body\n            let body = document.createElement(&quot;tbody&quot;)\n            table.appendChild(body)\n\n            let columns = renderData.pop()\n            for (let row = 0; row &lt; df.nrow; row++) {\n                let tr = document.createElement(&quot;tr&quot;);\n                body.appendChild(tr)\n                for (let i = 0; i &lt; columns.length; i++) {\n                    let cell = columns[i]\n                    let td = document.createElement(&quot;td&quot;);\n                    let colId = cell.id\n                    let col = df.cols[colId]\n                    let classes = (cell.leftBd ? &quot; leftBorder&quot; : &quot;&quot;) + (cell.rightBd ? &quot; rightBorder&quot; : &quot;&quot;)\n                    if (col.rightAlign)\n                        classes += &quot; rightAlign&quot;\n                    if (classes.length &gt; 0)\n                        td.setAttribute(&quot;class&quot;, classes)\n                    tr.appendChild(td)\n                    let value = col.values[row]\n                    if (value.frameId !== undefined) {\n                        let frameId = value.frameId\n                        let expanded = rootDf.expandedFrames.has(frameId)\n                        let link = document.createElement(&quot;a&quot;)\n                        link.className = &quot;expander&quot;\n                        let that = this\n                        link.onclick = function () {\n                            if (rootDf.expandedFrames.has(frameId))\n                                rootDf.expandedFrames.delete(frameId)\n                            else rootDf.expandedFrames.add(frameId)\n                            that.renderTable(id)\n                        }\n                        link.appendChild(this.createExpander(expanded))\n                        link.innerHTML += value.value\n                        if (expanded) {\n                            td.appendChild(link)\n                            td.appendChild(document.createElement(&quot;p&quot;))\n                            const childTable = document.createElement(&quot;table&quot;)\n                            childTable.className = &quot;dataframe&quot;\n                            childTable.id = &quot;df_&quot; + frameId\n                            let childDf = rootDf.childFrames[frameId]\n                            childTable.df = childDf\n                            td.appendChild(childTable)\n                            this.renderTable(frameId)\n                            if (childDf.nrow !== childDf.totalRows) {\n                                const footer = document.createElement(&quot;p&quot;)\n                                footer.innerText = `... showing only top ${childDf.nrow} of ${childDf.totalRows} rows`\n                                td.appendChild(footer)\n                            }\n                        } else {\n                            td.appendChild(link)\n                        }\n                    } else if (value.style !== undefined) {\n                        td.innerHTML = value.value\n                        td.setAttribute(&quot;style&quot;, value.style)\n                    } else td.innerHTML = value\n                    this.nodeScriptReplace(td)\n                }\n            }\n        }\n\n        this.nodeScriptReplace = function (node) {\n            if (this.nodeScriptIs(node) === true) {\n                node.parentNode.replaceChild(this.nodeScriptClone(node), node);\n            } else {\n                let i = -1, children = node.childNodes;\n                while (++i &lt; children.length) {\n                    this.nodeScriptReplace(children[i]);\n                }\n            }\n\n            return node;\n        }\n\n        this.nodeScriptClone = function (node) {\n            let script = document.createElement(&quot;script&quot;);\n            script.text = node.innerHTML;\n\n            let i = -1, attrs = node.attributes, attr;\n            while (++i &lt; attrs.length) {\n                script.setAttribute((attr = attrs[i]).name, attr.value);\n            }\n            return script;\n        }\n\n        this.nodeScriptIs = function (node) {\n            return node.tagName === 'SCRIPT';\n        }\n    })()\n\n    window.call_DataFrame = function (f) {\n        return f();\n    };\n\n    let funQueue = window[&quot;kotlinQueues&quot;] &amp;&amp; window[&quot;kotlinQueues&quot;][&quot;DataFrame&quot;];\n    if (funQueue) {\n        funQueue.forEach(function (f) {\n            f();\n        });\n        funQueue = [];\n    }\n})()\n\n&sol;*&lt;!--*&sol;\ncall_DataFrame(function() { DataFrame.addTable({ cols: [{ name: &quot;&lt;span title=&bsol;&quot;class: String&bsol;&quot;&gt;class&lt;&sol;span&gt;&quot;, children: [], rightAlign: false, values: [&quot;compact&quot;,&quot;compact&quot;,&quot;compact&quot;,&quot;compact&quot;,&quot;compact&quot;] }, \n{ name: &quot;&lt;span title=&bsol;&quot;drv: String&bsol;&quot;&gt;drv&lt;&sol;span&gt;&quot;, children: [], rightAlign: false, values: [&quot;f&quot;,&quot;f&quot;,&quot;f&quot;,&quot;f&quot;,&quot;f&quot;] }, \n{ name: &quot;&lt;span title=&bsol;&quot;hwy: Int&bsol;&quot;&gt;hwy&lt;&sol;span&gt;&quot;, children: [], rightAlign: true, values: [&quot;&lt;span class=&bsol;&quot;formatted&bsol;&quot; title=&bsol;&quot;&bsol;&quot;&gt;&lt;span class=&bsol;&quot;numbers&bsol;&quot;&gt;29&lt;&sol;span&gt;&lt;&sol;span&gt;&quot;,&quot;&lt;span class=&bsol;&quot;formatted&bsol;&quot; title=&bsol;&quot;&bsol;&quot;&gt;&lt;span class=&bsol;&quot;numbers&bsol;&quot;&gt;29&lt;&sol;span&gt;&lt;&sol;span&gt;&quot;,&quot;&lt;span class=&bsol;&quot;formatted&bsol;&quot; title=&bsol;&quot;&bsol;&quot;&gt;&lt;span class=&bsol;&quot;numbers&bsol;&quot;&gt;31&lt;&sol;span&gt;&lt;&sol;span&gt;&quot;,&quot;&lt;span class=&bsol;&quot;formatted&bsol;&quot; title=&bsol;&quot;&bsol;&quot;&gt;&lt;span class=&bsol;&quot;numbers&bsol;&quot;&gt;30&lt;&sol;span&gt;&lt;&sol;span&gt;&quot;,&quot;&lt;span class=&bsol;&quot;formatted&bsol;&quot; title=&bsol;&quot;&bsol;&quot;&gt;&lt;span class=&bsol;&quot;numbers&bsol;&quot;&gt;26&lt;&sol;span&gt;&lt;&sol;span&gt;&quot;] }, \n], id: 1694498817, rootId: 1694498817, totalRows: 5 } ) });\n&sol;*--&gt;*&sol;\n\ncall_DataFrame(function() { DataFrame.renderTable(1694498817) });\n\n\n\n        &lt;&sol;script&gt;\n        &lt;&sol;html&gt;\"></iframe>\n            <script>\n                function o_resize_iframe_out_2() {\n                    let elem = document.getElementById(\"iframe_out_2\");\n                    resize_iframe_out_2(elem);\n                    setInterval(resize_iframe_out_2, 5000, elem);\n                }\n                function resize_iframe_out_2(el) {\n                    let h = el.contentWindow.document.body.scrollHeight;\n                    el.height = h === 0 ? 0 : h + 41;\n                }\n            </script>",
      "application/kotlindataframe+json": "{\"nrow\":5,\"ncol\":3,\"columns\":[\"class\",\"drv\",\"hwy\"],\"kotlin_dataframe\":[{\"class\":\"compact\",\"drv\":\"f\",\"hwy\":29},{\"class\":\"compact\",\"drv\":\"f\",\"hwy\":29},{\"class\":\"compact\",\"drv\":\"f\",\"hwy\":31},{\"class\":\"compact\",\"drv\":\"f\",\"hwy\":30},{\"class\":\"compact\",\"drv\":\"f\",\"hwy\":26}]}"
     },
     "execution_count": 3,
     "metadata": {},
     "output_type": "execute_result"
    }
   ],
   "source": [
    "// we need only three columns\n",
    "val df = mpgDF[\"class\", \"drv\", \"hwy\"]\n",
    "df.head(5)"
   ],
   "metadata": {
    "collapsed": false,
    "ExecuteTime": {
     "end_time": "2023-10-19T12:05:34.889098Z",
     "start_time": "2023-10-19T12:05:34.333168Z"
    }
   }
  },
  {
   "cell_type": "markdown",
   "source": [
    "It has a signature\n",
    "\n",
    "<table>\n",
    "  <thead>\n",
    "    <tr>\n",
    "      <th>class</th>\n",
    "      <th>drv</th>\n",
    "      <th>hwy</th>\n",
    "    </tr>\n",
    "  </thead>\n",
    "</table>"
   ],
   "metadata": {
    "collapsed": false
   }
  },
  {
   "cell_type": "markdown",
   "source": [
    "Let's take a look at `StatCount2D` output DataFrame:"
   ],
   "metadata": {
    "collapsed": false
   }
  },
  {
   "cell_type": "code",
   "execution_count": 4,
   "outputs": [
    {
     "data": {
      "text/html": "            <iframe onload=\"o_resize_iframe_out_3()\" style=\"width:100%;\" class=\"result_container\" id=\"iframe_out_3\" frameBorder=\"0\" srcdoc=\"        &lt;html&gt;\n        &lt;head&gt;\n            &lt;style type=&quot;text&sol;css&quot;&gt;\n                :root {\n    --background: #fff;\n    --background-odd: #f5f5f5;\n    --background-hover: #d9edfd;\n    --header-text-color: #474747;\n    --text-color: #848484;\n    --text-color-dark: #000;\n    --text-color-medium: #737373;\n    --text-color-pale: #b3b3b3;\n    --inner-border-color: #aaa;\n    --bold-border-color: #000;\n    --link-color: #296eaa;\n    --link-color-pale: #296eaa;\n    --link-hover: #1a466c;\n}\n\n:root[theme=&quot;dark&quot;], :root [data-jp-theme-light=&quot;false&quot;], .dataframe_dark{\n    --background: #303030;\n    --background-odd: #3c3c3c;\n    --background-hover: #464646;\n    --header-text-color: #dddddd;\n    --text-color: #b3b3b3;\n    --text-color-dark: #dddddd;\n    --text-color-medium: #b2b2b2;\n    --text-color-pale: #737373;\n    --inner-border-color: #707070;\n    --bold-border-color: #777777;\n    --link-color: #008dc0;\n    --link-color-pale: #97e1fb;\n    --link-hover: #00688e;\n}\n\np.dataframe_description {\n    color: var(--text-color-dark);\n}\n\ntable.dataframe {\n    font-family: &quot;Helvetica Neue&quot;, Helvetica, Arial, sans-serif;\n    font-size: 12px;\n    background-color: var(--background);\n    color: var(--text-color-dark);\n    border: none;\n    border-collapse: collapse;\n}\n\ntable.dataframe th, td {\n    padding: 6px;\n    border: 1px solid transparent;\n    text-align: left;\n}\n\ntable.dataframe th {\n    background-color: var(--background);\n    color: var(--header-text-color);\n}\n\ntable.dataframe td {\n    vertical-align: top;\n}\n\ntable.dataframe th.bottomBorder {\n    border-bottom-color: var(--bold-border-color);\n}\n\ntable.dataframe tbody &gt; tr:nth-child(odd) {\n    background: var(--background-odd);\n}\n\ntable.dataframe tbody &gt; tr:nth-child(even) {\n    background: var(--background);\n}\n\ntable.dataframe tbody &gt; tr:hover {\n    background: var(--background-hover);\n}\n\ntable.dataframe a {\n    cursor: pointer;\n    color: var(--link-color);\n    text-decoration: none;\n}\n\ntable.dataframe tr:hover &gt; td a {\n    color: var(--link-color-pale);\n}\n\ntable.dataframe a:hover {\n    color: var(--link-hover);\n    text-decoration: underline;\n}\n\ntable.dataframe img {\n    max-width: fit-content;\n}\n\ntable.dataframe th.complex {\n    background-color: var(--background);\n    border: 1px solid var(--background);\n}\n\ntable.dataframe .leftBorder {\n    border-left-color: var(--inner-border-color);\n}\n\ntable.dataframe .rightBorder {\n    border-right-color: var(--inner-border-color);\n}\n\ntable.dataframe .rightAlign {\n    text-align: right;\n}\n\ntable.dataframe .expanderSvg {\n    width: 8px;\n    height: 8px;\n    margin-right: 3px;\n}\n\ntable.dataframe .expander {\n    display: flex;\n    align-items: center;\n}\n\n&sol;* formatting *&sol;\n\ntable.dataframe .null {\n    color: var(--text-color-pale);\n}\n\ntable.dataframe .structural {\n    color: var(--text-color-medium);\n    font-weight: bold;\n}\n\ntable.dataframe .dataFrameCaption {\n    font-weight: bold;\n}\n\ntable.dataframe .numbers {\n    color: var(--text-color-dark);\n}\n\ntable.dataframe td:hover .formatted .structural, .null {\n    color: var(--text-color-dark);\n}\n\ntable.dataframe tr:hover .formatted .structural, .null {\n    color: var(--text-color-dark);\n}\n\n\n\n\n:root {\n    --scroll-bg: #f5f5f5;\n    --scroll-fg: #b3b3b3;\n}\n:root[theme=&quot;dark&quot;], :root [data-jp-theme-light=&quot;false&quot;]{\n    --scroll-bg: #3c3c3c;\n    --scroll-fg: #97e1fb;\n}\nbody {\n    scrollbar-color: var(--scroll-fg) var(--scroll-bg);\n}\nbody::-webkit-scrollbar {\n    width: 10px; &sol;* Mostly for vertical scrollbars *&sol;\n    height: 10px; &sol;* Mostly for horizontal scrollbars *&sol;\n}\nbody::-webkit-scrollbar-thumb {\n    background-color: var(--scroll-fg);\n}\nbody::-webkit-scrollbar-track {\n    background-color: var(--scroll-bg);\n}\n            &lt;&sol;style&gt;\n        &lt;&sol;head&gt;\n        &lt;body&gt;\n            \n&lt;table class=&quot;dataframe&quot; id=&quot;df_1694498818&quot;&gt;&lt;&sol;table&gt;\n\n&lt;p class=&quot;dataframe_description&quot;&gt;DataFrame: rowsCount = 12, columnsCount = 1&lt;&sol;p&gt;\n\n        &lt;&sol;body&gt;\n        &lt;script&gt;\n            (function () {\n    window.DataFrame = window.DataFrame || new (function () {\n        this.addTable = function (df) {\n            let cols = df.cols;\n            for (let i = 0; i &lt; cols.length; i++) {\n                for (let c of cols[i].children) {\n                    cols[c].parent = i;\n                }\n            }\n            df.nrow = 0\n            for (let i = 0; i &lt; df.cols.length; i++) {\n                if (df.cols[i].values.length &gt; df.nrow) df.nrow = df.cols[i].values.length\n            }\n            if (df.id === df.rootId) {\n                df.expandedFrames = new Set()\n                df.childFrames = {}\n                const table = this.getTableElement(df.id)\n                table.df = df\n                for (let i = 0; i &lt; df.cols.length; i++) {\n                    let col = df.cols[i]\n                    if (col.parent === undefined &amp;&amp; col.children.length &gt; 0) col.expanded = true\n                }\n            } else {\n                const rootDf = this.getTableData(df.rootId)\n                rootDf.childFrames[df.id] = df\n            }\n        }\n\n        this.computeRenderData = function (df) {\n            let result = []\n            let pos = 0\n            for (let col = 0; col &lt; df.cols.length; col++) {\n                if (df.cols[col].parent === undefined)\n                    pos += this.computeRenderDataRec(df.cols, col, pos, 0, result, false, false)\n            }\n            for (let i = 0; i &lt; result.length; i++) {\n                let row = result[i]\n                for (let j = 0; j &lt; row.length; j++) {\n                    let cell = row[j]\n                    if (j === 0)\n                        cell.leftBd = false\n                    if (j &lt; row.length - 1) {\n                        let nextData = row[j + 1]\n                        if (nextData.leftBd) cell.rightBd = true\n                        else if (cell.rightBd) nextData.leftBd = true\n                    } else cell.rightBd = false\n                }\n            }\n            return result\n        }\n\n        this.computeRenderDataRec = function (cols, colId, pos, depth, result, leftBorder, rightBorder) {\n            if (result.length === depth) {\n                const array = [];\n                if (pos &gt; 0) {\n                    let j = 0\n                    for (let i = 0; j &lt; pos; i++) {\n                        let c = result[depth - 1][i]\n                        j += c.span\n                        let copy = Object.assign({empty: true}, c)\n                        array.push(copy)\n                    }\n                }\n                result.push(array)\n            }\n            const col = cols[colId];\n            let size = 0;\n            if (col.expanded) {\n                let childPos = pos\n                for (let i = 0; i &lt; col.children.length; i++) {\n                    let child = col.children[i]\n                    let childLeft = i === 0 &amp;&amp; (col.children.length &gt; 1 || leftBorder)\n                    let childRight = i === col.children.length - 1 &amp;&amp; (col.children.length &gt; 1 || rightBorder)\n                    let childSize = this.computeRenderDataRec(cols, child, childPos, depth + 1, result, childLeft, childRight)\n                    childPos += childSize\n                    size += childSize\n                }\n            } else {\n                for (let i = depth + 1; i &lt; result.length; i++)\n                    result[i].push({id: colId, span: 1, leftBd: leftBorder, rightBd: rightBorder, empty: true})\n                size = 1\n            }\n            let left = leftBorder\n            let right = rightBorder\n            if (size &gt; 1) {\n                left = true\n                right = true\n            }\n            result[depth].push({id: colId, span: size, leftBd: left, rightBd: right})\n            return size\n        }\n\n        this.getTableElement = function (id) {\n            return document.getElementById(&quot;df_&quot; + id)\n        }\n\n        this.getTableData = function (id) {\n            return this.getTableElement(id).df\n        }\n\n        this.createExpander = function (isExpanded) {\n            const svgNs = &quot;http:&sol;&sol;www.w3.org&sol;2000&sol;svg&quot;\n            let svg = document.createElementNS(svgNs, &quot;svg&quot;)\n            svg.classList.add(&quot;expanderSvg&quot;)\n            let path = document.createElementNS(svgNs, &quot;path&quot;)\n            if (isExpanded) {\n                svg.setAttribute(&quot;viewBox&quot;, &quot;0 -2 8 8&quot;)\n                path.setAttribute(&quot;d&quot;, &quot;M1 0 l-1 1 4 4 4 -4 -1 -1 -3 3Z&quot;)\n            } else {\n                svg.setAttribute(&quot;viewBox&quot;, &quot;-2 0 8 8&quot;)\n                path.setAttribute(&quot;d&quot;, &quot;M1 0 l-1 1 3 3 -3 3 1 1 4 -4Z&quot;)\n            }\n            path.setAttribute(&quot;fill&quot;, &quot;currentColor&quot;)\n            svg.appendChild(path)\n            return svg\n        }\n\n        this.renderTable = function (id) {\n\n            let table = this.getTableElement(id)\n\n            if (table === null) return\n\n            table.innerHTML = &quot;&quot;\n\n            let df = table.df\n            let rootDf = df.rootId === df.id ? df : this.getTableData(df.rootId)\n\n            &sol;&sol; header\n            let header = document.createElement(&quot;thead&quot;)\n            table.appendChild(header)\n\n            let renderData = this.computeRenderData(df)\n            for (let j = 0; j &lt; renderData.length; j++) {\n                let rowData = renderData[j]\n                let tr = document.createElement(&quot;tr&quot;);\n                let isLastRow = j === renderData.length - 1\n                header.appendChild(tr);\n                for (let i = 0; i &lt; rowData.length; i++) {\n                    let cell = rowData[i]\n                    let th = document.createElement(&quot;th&quot;);\n                    th.setAttribute(&quot;colspan&quot;, cell.span)\n                    let colId = cell.id\n                    let col = df.cols[colId];\n                    if (!cell.empty) {\n                        if (col.children.length === 0) {\n                            th.innerHTML = col.name\n                        } else {\n                            let link = document.createElement(&quot;a&quot;)\n                            link.className = &quot;expander&quot;\n                            let that = this\n                            link.onclick = function () {\n                                col.expanded = !col.expanded\n                                that.renderTable(id)\n                            }\n                            link.appendChild(this.createExpander(col.expanded))\n                            link.innerHTML += col.name\n                            th.appendChild(link)\n                        }\n                    }\n                    let classes = (cell.leftBd ? &quot; leftBorder&quot; : &quot;&quot;) + (cell.rightBd ? &quot; rightBorder&quot; : &quot;&quot;)\n                    if (col.rightAlign)\n                        classes += &quot; rightAlign&quot;\n                    if (isLastRow)\n                        classes += &quot; bottomBorder&quot;\n                    if (classes.length &gt; 0)\n                        th.setAttribute(&quot;class&quot;, classes)\n                    tr.appendChild(th)\n                }\n            }\n\n            &sol;&sol; body\n            let body = document.createElement(&quot;tbody&quot;)\n            table.appendChild(body)\n\n            let columns = renderData.pop()\n            for (let row = 0; row &lt; df.nrow; row++) {\n                let tr = document.createElement(&quot;tr&quot;);\n                body.appendChild(tr)\n                for (let i = 0; i &lt; columns.length; i++) {\n                    let cell = columns[i]\n                    let td = document.createElement(&quot;td&quot;);\n                    let colId = cell.id\n                    let col = df.cols[colId]\n                    let classes = (cell.leftBd ? &quot; leftBorder&quot; : &quot;&quot;) + (cell.rightBd ? &quot; rightBorder&quot; : &quot;&quot;)\n                    if (col.rightAlign)\n                        classes += &quot; rightAlign&quot;\n                    if (classes.length &gt; 0)\n                        td.setAttribute(&quot;class&quot;, classes)\n                    tr.appendChild(td)\n                    let value = col.values[row]\n                    if (value.frameId !== undefined) {\n                        let frameId = value.frameId\n                        let expanded = rootDf.expandedFrames.has(frameId)\n                        let link = document.createElement(&quot;a&quot;)\n                        link.className = &quot;expander&quot;\n                        let that = this\n                        link.onclick = function () {\n                            if (rootDf.expandedFrames.has(frameId))\n                                rootDf.expandedFrames.delete(frameId)\n                            else rootDf.expandedFrames.add(frameId)\n                            that.renderTable(id)\n                        }\n                        link.appendChild(this.createExpander(expanded))\n                        link.innerHTML += value.value\n                        if (expanded) {\n                            td.appendChild(link)\n                            td.appendChild(document.createElement(&quot;p&quot;))\n                            const childTable = document.createElement(&quot;table&quot;)\n                            childTable.className = &quot;dataframe&quot;\n                            childTable.id = &quot;df_&quot; + frameId\n                            let childDf = rootDf.childFrames[frameId]\n                            childTable.df = childDf\n                            td.appendChild(childTable)\n                            this.renderTable(frameId)\n                            if (childDf.nrow !== childDf.totalRows) {\n                                const footer = document.createElement(&quot;p&quot;)\n                                footer.innerText = `... showing only top ${childDf.nrow} of ${childDf.totalRows} rows`\n                                td.appendChild(footer)\n                            }\n                        } else {\n                            td.appendChild(link)\n                        }\n                    } else if (value.style !== undefined) {\n                        td.innerHTML = value.value\n                        td.setAttribute(&quot;style&quot;, value.style)\n                    } else td.innerHTML = value\n                    this.nodeScriptReplace(td)\n                }\n            }\n        }\n\n        this.nodeScriptReplace = function (node) {\n            if (this.nodeScriptIs(node) === true) {\n                node.parentNode.replaceChild(this.nodeScriptClone(node), node);\n            } else {\n                let i = -1, children = node.childNodes;\n                while (++i &lt; children.length) {\n                    this.nodeScriptReplace(children[i]);\n                }\n            }\n\n            return node;\n        }\n\n        this.nodeScriptClone = function (node) {\n            let script = document.createElement(&quot;script&quot;);\n            script.text = node.innerHTML;\n\n            let i = -1, attrs = node.attributes, attr;\n            while (++i &lt; attrs.length) {\n                script.setAttribute((attr = attrs[i]).name, attr.value);\n            }\n            return script;\n        }\n\n        this.nodeScriptIs = function (node) {\n            return node.tagName === 'SCRIPT';\n        }\n    })()\n\n    window.call_DataFrame = function (f) {\n        return f();\n    };\n\n    let funQueue = window[&quot;kotlinQueues&quot;] &amp;&amp; window[&quot;kotlinQueues&quot;][&quot;DataFrame&quot;];\n    if (funQueue) {\n        funQueue.forEach(function (f) {\n            f();\n        });\n        funQueue = [];\n    }\n})()\n\n&sol;*&lt;!--*&sol;\ncall_DataFrame(function() { DataFrame.addTable({ cols: [{ name: &quot;&lt;span title=&bsol;&quot;x: String&bsol;&quot;&gt;x&lt;&sol;span&gt;&quot;, children: [], rightAlign: false, values: [&quot;compact&quot;,&quot;compact&quot;,&quot;midsize&quot;,&quot;suv&quot;,&quot;2seater&quot;,&quot;suv&quot;,&quot;midsize&quot;,&quot;minivan&quot;,&quot;pickup&quot;,&quot;subcompact&quot;,&quot;subcompact&quot;,&quot;subcompact&quot;] }, \n{ name: &quot;&lt;span title=&bsol;&quot;y: String&bsol;&quot;&gt;y&lt;&sol;span&gt;&quot;, children: [], rightAlign: false, values: [&quot;f&quot;,&quot;4&quot;,&quot;4&quot;,&quot;r&quot;,&quot;r&quot;,&quot;4&quot;,&quot;f&quot;,&quot;f&quot;,&quot;4&quot;,&quot;r&quot;,&quot;f&quot;,&quot;4&quot;] }, \n{ name: &quot;&lt;span title=&bsol;&quot;count: Int&bsol;&quot;&gt;count&lt;&sol;span&gt;&quot;, children: [], rightAlign: true, values: [&quot;&lt;span class=&bsol;&quot;formatted&bsol;&quot; title=&bsol;&quot;&bsol;&quot;&gt;&lt;span class=&bsol;&quot;numbers&bsol;&quot;&gt;35&lt;&sol;span&gt;&lt;&sol;span&gt;&quot;,&quot;&lt;span class=&bsol;&quot;formatted&bsol;&quot; title=&bsol;&quot;&bsol;&quot;&gt;&lt;span class=&bsol;&quot;numbers&bsol;&quot;&gt;12&lt;&sol;span&gt;&lt;&sol;span&gt;&quot;,&quot;&lt;span class=&bsol;&quot;formatted&bsol;&quot; title=&bsol;&quot;&bsol;&quot;&gt;&lt;span class=&bsol;&quot;numbers&bsol;&quot;&gt;3&lt;&sol;span&gt;&lt;&sol;span&gt;&quot;,&quot;&lt;span class=&bsol;&quot;formatted&bsol;&quot; title=&bsol;&quot;&bsol;&quot;&gt;&lt;span class=&bsol;&quot;numbers&bsol;&quot;&gt;11&lt;&sol;span&gt;&lt;&sol;span&gt;&quot;,&quot;&lt;span class=&bsol;&quot;formatted&bsol;&quot; title=&bsol;&quot;&bsol;&quot;&gt;&lt;span class=&bsol;&quot;numbers&bsol;&quot;&gt;5&lt;&sol;span&gt;&lt;&sol;span&gt;&quot;,&quot;&lt;span class=&bsol;&quot;formatted&bsol;&quot; title=&bsol;&quot;&bsol;&quot;&gt;&lt;span class=&bsol;&quot;numbers&bsol;&quot;&gt;51&lt;&sol;span&gt;&lt;&sol;span&gt;&quot;,&quot;&lt;span class=&bsol;&quot;formatted&bsol;&quot; title=&bsol;&quot;&bsol;&quot;&gt;&lt;span class=&bsol;&quot;numbers&bsol;&quot;&gt;38&lt;&sol;span&gt;&lt;&sol;span&gt;&quot;,&quot;&lt;span class=&bsol;&quot;formatted&bsol;&quot; title=&bsol;&quot;&bsol;&quot;&gt;&lt;span class=&bsol;&quot;numbers&bsol;&quot;&gt;11&lt;&sol;span&gt;&lt;&sol;span&gt;&quot;,&quot;&lt;span class=&bsol;&quot;formatted&bsol;&quot; title=&bsol;&quot;&bsol;&quot;&gt;&lt;span class=&bsol;&quot;numbers&bsol;&quot;&gt;33&lt;&sol;span&gt;&lt;&sol;span&gt;&quot;,&quot;&lt;span class=&bsol;&quot;formatted&bsol;&quot; title=&bsol;&quot;&bsol;&quot;&gt;&lt;span class=&bsol;&quot;numbers&bsol;&quot;&gt;9&lt;&sol;span&gt;&lt;&sol;span&gt;&quot;,&quot;&lt;span class=&bsol;&quot;formatted&bsol;&quot; title=&bsol;&quot;&bsol;&quot;&gt;&lt;span class=&bsol;&quot;numbers&bsol;&quot;&gt;22&lt;&sol;span&gt;&lt;&sol;span&gt;&quot;,&quot;&lt;span class=&bsol;&quot;formatted&bsol;&quot; title=&bsol;&quot;&bsol;&quot;&gt;&lt;span class=&bsol;&quot;numbers&bsol;&quot;&gt;4&lt;&sol;span&gt;&lt;&sol;span&gt;&quot;] }, \n{ name: &quot;&lt;span title=&bsol;&quot;countWeighted: Number&bsol;&quot;&gt;countWeighted&lt;&sol;span&gt;&quot;, children: [], rightAlign: true, values: [&quot;&lt;span class=&bsol;&quot;formatted&bsol;&quot; title=&bsol;&quot;&bsol;&quot;&gt;&lt;span class=&bsol;&quot;numbers&bsol;&quot;&gt;1020&lt;&sol;span&gt;&lt;&sol;span&gt;&quot;,&quot;&lt;span class=&bsol;&quot;formatted&bsol;&quot; title=&bsol;&quot;&bsol;&quot;&gt;&lt;span class=&bsol;&quot;numbers&bsol;&quot;&gt;310&lt;&sol;span&gt;&lt;&sol;span&gt;&quot;,&quot;&lt;span class=&bsol;&quot;formatted&bsol;&quot; title=&bsol;&quot;&bsol;&quot;&gt;&lt;span class=&bsol;&quot;numbers&bsol;&quot;&gt;72&lt;&sol;span&gt;&lt;&sol;span&gt;&quot;,&quot;&lt;span class=&bsol;&quot;formatted&bsol;&quot; title=&bsol;&quot;&bsol;&quot;&gt;&lt;span class=&bsol;&quot;numbers&bsol;&quot;&gt;192&lt;&sol;span&gt;&lt;&sol;span&gt;&quot;,&quot;&lt;span class=&bsol;&quot;formatted&bsol;&quot; title=&bsol;&quot;&bsol;&quot;&gt;&lt;span class=&bsol;&quot;numbers&bsol;&quot;&gt;124&lt;&sol;span&gt;&lt;&sol;span&gt;&quot;,&quot;&lt;span class=&bsol;&quot;formatted&bsol;&quot; title=&bsol;&quot;&bsol;&quot;&gt;&lt;span class=&bsol;&quot;numbers&bsol;&quot;&gt;932&lt;&sol;span&gt;&lt;&sol;span&gt;&quot;,&quot;&lt;span class=&bsol;&quot;formatted&bsol;&quot; title=&bsol;&quot;&bsol;&quot;&gt;&lt;span class=&bsol;&quot;numbers&bsol;&quot;&gt;1047&lt;&sol;span&gt;&lt;&sol;span&gt;&quot;,&quot;&lt;span class=&bsol;&quot;formatted&bsol;&quot; title=&bsol;&quot;&bsol;&quot;&gt;&lt;span class=&bsol;&quot;numbers&bsol;&quot;&gt;246&lt;&sol;span&gt;&lt;&sol;span&gt;&quot;,&quot;&lt;span class=&bsol;&quot;formatted&bsol;&quot; title=&bsol;&quot;&bsol;&quot;&gt;&lt;span class=&bsol;&quot;numbers&bsol;&quot;&gt;557&lt;&sol;span&gt;&lt;&sol;span&gt;&quot;,&quot;&lt;span class=&bsol;&quot;formatted&bsol;&quot; title=&bsol;&quot;&bsol;&quot;&gt;&lt;span class=&bsol;&quot;numbers&bsol;&quot;&gt;209&lt;&sol;span&gt;&lt;&sol;span&gt;&quot;,&quot;&lt;span class=&bsol;&quot;formatted&bsol;&quot; title=&bsol;&quot;&bsol;&quot;&gt;&lt;span class=&bsol;&quot;numbers&bsol;&quot;&gt;672&lt;&sol;span&gt;&lt;&sol;span&gt;&quot;,&quot;&lt;span class=&bsol;&quot;formatted&bsol;&quot; title=&bsol;&quot;&bsol;&quot;&gt;&lt;span class=&bsol;&quot;numbers&bsol;&quot;&gt;104&lt;&sol;span&gt;&lt;&sol;span&gt;&quot;] }, \n{ name: &quot;&lt;span title=&bsol;&quot;Stat: DataRow&bsol;&quot;&gt;Stat&lt;&sol;span&gt;&quot;, children: [0, 1, 2, 3], rightAlign: false, values: [&quot;&lt;span class=&bsol;&quot;formatted&bsol;&quot; title=&bsol;&quot;x: compact&bsol;ny: f&bsol;ncount: 35&bsol;ncountWeighted: 1020&bsol;&quot;&gt;&lt;span class=&bsol;&quot;structural&bsol;&quot;&gt;{ &lt;&sol;span&gt;&lt;span class=&bsol;&quot;structural&bsol;&quot;&gt;x: &lt;&sol;span&gt;compact&lt;span class=&bsol;&quot;structural&bsol;&quot;&gt;, &lt;&sol;span&gt;&lt;span class=&bsol;&quot;structural&bsol;&quot;&gt;y: &lt;&sol;span&gt;f&lt;span class=&bsol;&quot;structural&bsol;&quot;&gt;, &lt;&sol;span&gt;&lt;span class=&bsol;&quot;structural&bsol;&quot;&gt;count: &lt;&sol;span&gt;&lt;span class=&bsol;&quot;numbers&bsol;&quot;&gt;35&lt;&sol;span&gt;&lt;span class=&bsol;&quot;structural&bsol;&quot;&gt;, &lt;&sol;span&gt;&lt;span class=&bsol;&quot;structural&bsol;&quot;&gt;coun...&lt;&sol;span&gt;&lt;span class=&bsol;&quot;structural&bsol;&quot;&gt; }&lt;&sol;span&gt;&lt;&sol;span&gt;&quot;,&quot;&lt;span class=&bsol;&quot;formatted&bsol;&quot; title=&bsol;&quot;x: compact&bsol;ny: 4&bsol;ncount: 12&bsol;ncountWeighted: 310&bsol;&quot;&gt;&lt;span class=&bsol;&quot;structural&bsol;&quot;&gt;{ &lt;&sol;span&gt;&lt;span class=&bsol;&quot;structural&bsol;&quot;&gt;x: &lt;&sol;span&gt;compact&lt;span class=&bsol;&quot;structural&bsol;&quot;&gt;, &lt;&sol;span&gt;&lt;span class=&bsol;&quot;structural&bsol;&quot;&gt;y: &lt;&sol;span&gt;4&lt;span class=&bsol;&quot;structural&bsol;&quot;&gt;, &lt;&sol;span&gt;&lt;span class=&bsol;&quot;structural&bsol;&quot;&gt;count: &lt;&sol;span&gt;&lt;span class=&bsol;&quot;numbers&bsol;&quot;&gt;12&lt;&sol;span&gt;&lt;span class=&bsol;&quot;structural&bsol;&quot;&gt;, &lt;&sol;span&gt;&lt;span class=&bsol;&quot;structural&bsol;&quot;&gt;coun...&lt;&sol;span&gt;&lt;span class=&bsol;&quot;structural&bsol;&quot;&gt; }&lt;&sol;span&gt;&lt;&sol;span&gt;&quot;,&quot;&lt;span class=&bsol;&quot;formatted&bsol;&quot; title=&bsol;&quot;x: midsize&bsol;ny: 4&bsol;ncount: 3&bsol;ncountWeighted: 72&bsol;&quot;&gt;&lt;span class=&bsol;&quot;structural&bsol;&quot;&gt;{ &lt;&sol;span&gt;&lt;span class=&bsol;&quot;structural&bsol;&quot;&gt;x: &lt;&sol;span&gt;midsize&lt;span class=&bsol;&quot;structural&bsol;&quot;&gt;, &lt;&sol;span&gt;&lt;span class=&bsol;&quot;structural&bsol;&quot;&gt;y: &lt;&sol;span&gt;4&lt;span class=&bsol;&quot;structural&bsol;&quot;&gt;, &lt;&sol;span&gt;&lt;span class=&bsol;&quot;structural&bsol;&quot;&gt;count: &lt;&sol;span&gt;&lt;span class=&bsol;&quot;numbers&bsol;&quot;&gt;3&lt;&sol;span&gt;&lt;span class=&bsol;&quot;structural&bsol;&quot;&gt;, &lt;&sol;span&gt;&lt;span class=&bsol;&quot;structural&bsol;&quot;&gt;count...&lt;&sol;span&gt;&lt;span class=&bsol;&quot;structural&bsol;&quot;&gt; }&lt;&sol;span&gt;&lt;&sol;span&gt;&quot;,&quot;&lt;span class=&bsol;&quot;formatted&bsol;&quot; title=&bsol;&quot;x: suv&bsol;ny: r&bsol;ncount: 11&bsol;ncountWeighted: 192&bsol;&quot;&gt;&lt;span class=&bsol;&quot;structural&bsol;&quot;&gt;{ &lt;&sol;span&gt;&lt;span class=&bsol;&quot;structural&bsol;&quot;&gt;x: &lt;&sol;span&gt;suv&lt;span class=&bsol;&quot;structural&bsol;&quot;&gt;, &lt;&sol;span&gt;&lt;span class=&bsol;&quot;structural&bsol;&quot;&gt;y: &lt;&sol;span&gt;r&lt;span class=&bsol;&quot;structural&bsol;&quot;&gt;, &lt;&sol;span&gt;&lt;span class=&bsol;&quot;structural&bsol;&quot;&gt;count: &lt;&sol;span&gt;&lt;span class=&bsol;&quot;numbers&bsol;&quot;&gt;11&lt;&sol;span&gt;&lt;span class=&bsol;&quot;structural&bsol;&quot;&gt;, &lt;&sol;span&gt;&lt;span class=&bsol;&quot;structural&bsol;&quot;&gt;countWei...&lt;&sol;span&gt;&lt;span class=&bsol;&quot;structural&bsol;&quot;&gt; }&lt;&sol;span&gt;&lt;&sol;span&gt;&quot;,&quot;&lt;span class=&bsol;&quot;formatted&bsol;&quot; title=&bsol;&quot;x: 2seater&bsol;ny: r&bsol;ncount: 5&bsol;ncountWeighted: 124&bsol;&quot;&gt;&lt;span class=&bsol;&quot;structural&bsol;&quot;&gt;{ &lt;&sol;span&gt;&lt;span class=&bsol;&quot;structural&bsol;&quot;&gt;x: &lt;&sol;span&gt;2seater&lt;span class=&bsol;&quot;structural&bsol;&quot;&gt;, &lt;&sol;span&gt;&lt;span class=&bsol;&quot;structural&bsol;&quot;&gt;y: &lt;&sol;span&gt;r&lt;span class=&bsol;&quot;structural&bsol;&quot;&gt;, &lt;&sol;span&gt;&lt;span class=&bsol;&quot;structural&bsol;&quot;&gt;count: &lt;&sol;span&gt;&lt;span class=&bsol;&quot;numbers&bsol;&quot;&gt;5&lt;&sol;span&gt;&lt;span class=&bsol;&quot;structural&bsol;&quot;&gt;, &lt;&sol;span&gt;&lt;span class=&bsol;&quot;structural&bsol;&quot;&gt;count...&lt;&sol;span&gt;&lt;span class=&bsol;&quot;structural&bsol;&quot;&gt; }&lt;&sol;span&gt;&lt;&sol;span&gt;&quot;,&quot;&lt;span class=&bsol;&quot;formatted&bsol;&quot; title=&bsol;&quot;x: suv&bsol;ny: 4&bsol;ncount: 51&bsol;ncountWeighted: 932&bsol;&quot;&gt;&lt;span class=&bsol;&quot;structural&bsol;&quot;&gt;{ &lt;&sol;span&gt;&lt;span class=&bsol;&quot;structural&bsol;&quot;&gt;x: &lt;&sol;span&gt;suv&lt;span class=&bsol;&quot;structural&bsol;&quot;&gt;, &lt;&sol;span&gt;&lt;span class=&bsol;&quot;structural&bsol;&quot;&gt;y: &lt;&sol;span&gt;4&lt;span class=&bsol;&quot;structural&bsol;&quot;&gt;, &lt;&sol;span&gt;&lt;span class=&bsol;&quot;structural&bsol;&quot;&gt;count: &lt;&sol;span&gt;&lt;span class=&bsol;&quot;numbers&bsol;&quot;&gt;51&lt;&sol;span&gt;&lt;span class=&bsol;&quot;structural&bsol;&quot;&gt;, &lt;&sol;span&gt;&lt;span class=&bsol;&quot;structural&bsol;&quot;&gt;countWei...&lt;&sol;span&gt;&lt;span class=&bsol;&quot;structural&bsol;&quot;&gt; }&lt;&sol;span&gt;&lt;&sol;span&gt;&quot;,&quot;&lt;span class=&bsol;&quot;formatted&bsol;&quot; title=&bsol;&quot;x: midsize&bsol;ny: f&bsol;ncount: 38&bsol;ncountWeighted: 1047&bsol;&quot;&gt;&lt;span class=&bsol;&quot;structural&bsol;&quot;&gt;{ &lt;&sol;span&gt;&lt;span class=&bsol;&quot;structural&bsol;&quot;&gt;x: &lt;&sol;span&gt;midsize&lt;span class=&bsol;&quot;structural&bsol;&quot;&gt;, &lt;&sol;span&gt;&lt;span class=&bsol;&quot;structural&bsol;&quot;&gt;y: &lt;&sol;span&gt;f&lt;span class=&bsol;&quot;structural&bsol;&quot;&gt;, &lt;&sol;span&gt;&lt;span class=&bsol;&quot;structural&bsol;&quot;&gt;count: &lt;&sol;span&gt;&lt;span class=&bsol;&quot;numbers&bsol;&quot;&gt;38&lt;&sol;span&gt;&lt;span class=&bsol;&quot;structural&bsol;&quot;&gt;, &lt;&sol;span&gt;&lt;span class=&bsol;&quot;structural&bsol;&quot;&gt;coun...&lt;&sol;span&gt;&lt;span class=&bsol;&quot;structural&bsol;&quot;&gt; }&lt;&sol;span&gt;&lt;&sol;span&gt;&quot;,&quot;&lt;span class=&bsol;&quot;formatted&bsol;&quot; title=&bsol;&quot;x: minivan&bsol;ny: f&bsol;ncount: 11&bsol;ncountWeighted: 246&bsol;&quot;&gt;&lt;span class=&bsol;&quot;structural&bsol;&quot;&gt;{ &lt;&sol;span&gt;&lt;span class=&bsol;&quot;structural&bsol;&quot;&gt;x: &lt;&sol;span&gt;minivan&lt;span class=&bsol;&quot;structural&bsol;&quot;&gt;, &lt;&sol;span&gt;&lt;span class=&bsol;&quot;structural&bsol;&quot;&gt;y: &lt;&sol;span&gt;f&lt;span class=&bsol;&quot;structural&bsol;&quot;&gt;, &lt;&sol;span&gt;&lt;span class=&bsol;&quot;structural&bsol;&quot;&gt;count: &lt;&sol;span&gt;&lt;span class=&bsol;&quot;numbers&bsol;&quot;&gt;11&lt;&sol;span&gt;&lt;span class=&bsol;&quot;structural&bsol;&quot;&gt;, &lt;&sol;span&gt;&lt;span class=&bsol;&quot;structural&bsol;&quot;&gt;coun...&lt;&sol;span&gt;&lt;span class=&bsol;&quot;structural&bsol;&quot;&gt; }&lt;&sol;span&gt;&lt;&sol;span&gt;&quot;,&quot;&lt;span class=&bsol;&quot;formatted&bsol;&quot; title=&bsol;&quot;x: pickup&bsol;ny: 4&bsol;ncount: 33&bsol;ncountWeighted: 557&bsol;&quot;&gt;&lt;span class=&bsol;&quot;structural&bsol;&quot;&gt;{ &lt;&sol;span&gt;&lt;span class=&bsol;&quot;structural&bsol;&quot;&gt;x: &lt;&sol;span&gt;pickup&lt;span class=&bsol;&quot;structural&bsol;&quot;&gt;, &lt;&sol;span&gt;&lt;span class=&bsol;&quot;structural&bsol;&quot;&gt;y: &lt;&sol;span&gt;4&lt;span class=&bsol;&quot;structural&bsol;&quot;&gt;, &lt;&sol;span&gt;&lt;span class=&bsol;&quot;structural&bsol;&quot;&gt;count: &lt;&sol;span&gt;&lt;span class=&bsol;&quot;numbers&bsol;&quot;&gt;33&lt;&sol;span&gt;&lt;span class=&bsol;&quot;structural&bsol;&quot;&gt;, &lt;&sol;span&gt;&lt;span class=&bsol;&quot;structural&bsol;&quot;&gt;count...&lt;&sol;span&gt;&lt;span class=&bsol;&quot;structural&bsol;&quot;&gt; }&lt;&sol;span&gt;&lt;&sol;span&gt;&quot;,&quot;&lt;span class=&bsol;&quot;formatted&bsol;&quot; title=&bsol;&quot;x: subcompact&bsol;ny: r&bsol;ncount: 9&bsol;ncountWeighted: 209&bsol;&quot;&gt;&lt;span class=&bsol;&quot;structural&bsol;&quot;&gt;{ &lt;&sol;span&gt;&lt;span class=&bsol;&quot;structural&bsol;&quot;&gt;x: &lt;&sol;span&gt;subcompact&lt;span class=&bsol;&quot;structural&bsol;&quot;&gt;, &lt;&sol;span&gt;&lt;span class=&bsol;&quot;structural&bsol;&quot;&gt;y: &lt;&sol;span&gt;r&lt;span class=&bsol;&quot;structural&bsol;&quot;&gt;, &lt;&sol;span&gt;&lt;span class=&bsol;&quot;structural&bsol;&quot;&gt;count: &lt;&sol;span&gt;&lt;span class=&bsol;&quot;numbers&bsol;&quot;&gt;9&lt;&sol;span&gt;&lt;span class=&bsol;&quot;structural&bsol;&quot;&gt;, &lt;&sol;span&gt;&lt;span class=&bsol;&quot;structural&bsol;&quot;&gt;co...&lt;&sol;span&gt;&lt;span class=&bsol;&quot;structural&bsol;&quot;&gt; }&lt;&sol;span&gt;&lt;&sol;span&gt;&quot;,&quot;&lt;span class=&bsol;&quot;formatted&bsol;&quot; title=&bsol;&quot;x: subcompact&bsol;ny: f&bsol;ncount: 22&bsol;ncountWeighted: 672&bsol;&quot;&gt;&lt;span class=&bsol;&quot;structural&bsol;&quot;&gt;{ &lt;&sol;span&gt;&lt;span class=&bsol;&quot;structural&bsol;&quot;&gt;x: &lt;&sol;span&gt;subcompact&lt;span class=&bsol;&quot;structural&bsol;&quot;&gt;, &lt;&sol;span&gt;&lt;span class=&bsol;&quot;structural&bsol;&quot;&gt;y: &lt;&sol;span&gt;f&lt;span class=&bsol;&quot;structural&bsol;&quot;&gt;, &lt;&sol;span&gt;&lt;span class=&bsol;&quot;structural&bsol;&quot;&gt;count: &lt;&sol;span&gt;&lt;span class=&bsol;&quot;numbers&bsol;&quot;&gt;22&lt;&sol;span&gt;&lt;span class=&bsol;&quot;structural&bsol;&quot;&gt;, &lt;&sol;span&gt;&lt;span class=&bsol;&quot;structural&bsol;&quot;&gt;c...&lt;&sol;span&gt;&lt;span class=&bsol;&quot;structural&bsol;&quot;&gt; }&lt;&sol;span&gt;&lt;&sol;span&gt;&quot;,&quot;&lt;span class=&bsol;&quot;formatted&bsol;&quot; title=&bsol;&quot;x: subcompact&bsol;ny: 4&bsol;ncount: 4&bsol;ncountWeighted: 104&bsol;&quot;&gt;&lt;span class=&bsol;&quot;structural&bsol;&quot;&gt;{ &lt;&sol;span&gt;&lt;span class=&bsol;&quot;structural&bsol;&quot;&gt;x: &lt;&sol;span&gt;subcompact&lt;span class=&bsol;&quot;structural&bsol;&quot;&gt;, &lt;&sol;span&gt;&lt;span class=&bsol;&quot;structural&bsol;&quot;&gt;y: &lt;&sol;span&gt;4&lt;span class=&bsol;&quot;structural&bsol;&quot;&gt;, &lt;&sol;span&gt;&lt;span class=&bsol;&quot;structural&bsol;&quot;&gt;count: &lt;&sol;span&gt;&lt;span class=&bsol;&quot;numbers&bsol;&quot;&gt;4&lt;&sol;span&gt;&lt;span class=&bsol;&quot;structural&bsol;&quot;&gt;, &lt;&sol;span&gt;&lt;span class=&bsol;&quot;structural&bsol;&quot;&gt;co...&lt;&sol;span&gt;&lt;span class=&bsol;&quot;structural&bsol;&quot;&gt; }&lt;&sol;span&gt;&lt;&sol;span&gt;&quot;] }, \n], id: 1694498818, rootId: 1694498818, totalRows: 12 } ) });\n&sol;*--&gt;*&sol;\n\ncall_DataFrame(function() { DataFrame.renderTable(1694498818) });\n\n\n\n        &lt;&sol;script&gt;\n        &lt;&sol;html&gt;\"></iframe>\n            <script>\n                function o_resize_iframe_out_3() {\n                    let elem = document.getElementById(\"iframe_out_3\");\n                    resize_iframe_out_3(elem);\n                    setInterval(resize_iframe_out_3, 5000, elem);\n                }\n                function resize_iframe_out_3(el) {\n                    let h = el.contentWindow.document.body.scrollHeight;\n                    el.height = h === 0 ? 0 : h + 41;\n                }\n            </script>",
      "application/kotlindataframe+json": "{\"nrow\":12,\"ncol\":1,\"columns\":[\"Stat\"],\"kotlin_dataframe\":[{\"Stat\":{\"x\":\"compact\",\"y\":\"f\",\"count\":35,\"countWeighted\":\"1020\"}},{\"Stat\":{\"x\":\"compact\",\"y\":\"4\",\"count\":12,\"countWeighted\":\"310\"}},{\"Stat\":{\"x\":\"midsize\",\"y\":\"4\",\"count\":3,\"countWeighted\":\"72\"}},{\"Stat\":{\"x\":\"suv\",\"y\":\"r\",\"count\":11,\"countWeighted\":\"192\"}},{\"Stat\":{\"x\":\"2seater\",\"y\":\"r\",\"count\":5,\"countWeighted\":\"124\"}},{\"Stat\":{\"x\":\"suv\",\"y\":\"4\",\"count\":51,\"countWeighted\":\"932\"}},{\"Stat\":{\"x\":\"midsize\",\"y\":\"f\",\"count\":38,\"countWeighted\":\"1047\"}},{\"Stat\":{\"x\":\"minivan\",\"y\":\"f\",\"count\":11,\"countWeighted\":\"246\"}},{\"Stat\":{\"x\":\"pickup\",\"y\":\"4\",\"count\":33,\"countWeighted\":\"557\"}},{\"Stat\":{\"x\":\"subcompact\",\"y\":\"r\",\"count\":9,\"countWeighted\":\"209\"}},{\"Stat\":{\"x\":\"subcompact\",\"y\":\"f\",\"count\":22,\"countWeighted\":\"672\"}},{\"Stat\":{\"x\":\"subcompact\",\"y\":\"4\",\"count\":4,\"countWeighted\":\"104\"}}]}"
     },
     "execution_count": 4,
     "metadata": {},
     "output_type": "execute_result"
    }
   ],
   "source": [
    "df.statCount2D(\"class\", \"drv\", \"hwy\")"
   ],
   "metadata": {
    "collapsed": false,
    "ExecuteTime": {
     "end_time": "2023-10-19T12:05:35.171102Z",
     "start_time": "2023-10-19T12:05:34.879926Z"
    }
   }
  },
  {
   "cell_type": "markdown",
   "source": [
    "It has the following signature:\n",
    "\n",
    "<table>\n",
    "  <thead>\n",
    "    <tr>\n",
    "      <th alignt=\"left\" colspan=\"4\">Stat</th>\n",
    "    </tr>\n",
    "  </thead>\n",
    "  <thead>\n",
    "    <tr>\n",
    "      <th>x</th>\n",
    "      <th>y</th>\n",
    "      <th>count</th>\n",
    "      <th>countWeighted</th>\n",
    "    </tr>\n",
    "  </thead>\n",
    "</table>"
   ],
   "metadata": {
    "collapsed": false
   }
  },
  {
   "cell_type": "markdown",
   "source": [
    "As you can see, we got a `DataFrame` with one `ColumnGroup` called `Stat` which contains several columns with statics. For `statCount2D`, each row corresponds to one pair of categories. `Stat.x` is the column with its `x`-category; `Stat.y` is the column with its `y`-category; `Stat.count` contains the number of observations in the pair. `Stat.countWeighted` - weighted version of `count`.\n",
    "`DataFrame` with \"count2D\" statistics is called `StatCount2DFrame`"
   ],
   "metadata": {
    "collapsed": false
   }
  },
  {
   "cell_type": "markdown",
   "source": [
    "### `statCount2D` plot transform"
   ],
   "metadata": {
    "collapsed": false
   }
  },
  {
   "cell_type": "markdown",
   "source": [
    "`statCount2D(statCount2DArgs) { /*new plotting context*/ }` modifies a plotting context - instead of original data (no matter was it empty or not) new `statCount2D` dataset (calculated on given arguments; inputs and weights can be provided as `Iterable` or as dataset column reference - by name as a `String`, as a `ColumnReference` or as a `DataColumn`) is used inside a new context (original dataset and primary context are not affected - you can add layers using initial dataset outside the `statCount2D` context). Since the old dataset is irrelevant, we cannot use references for its columns. But we can refer to the new ones. They are all contained in the `Stat` group and can be called inside the new context:"
   ],
   "metadata": {
    "collapsed": false
   }
  },
  {
   "cell_type": "code",
   "execution_count": 5,
   "outputs": [
    {
     "data": {
      "text/html": "            <script type=\"text/javascript\" data-lets-plot-script=\"library\" src=\"https://cdn.jsdelivr.net/gh/JetBrains/lets-plot@v4.0.0/js-package/distr/lets-plot.min.js\"></script>    \n               <div id=\"a4h96F\"></div>\n   <script type=\"text/javascript\" data-lets-plot-script=\"plot\">\n       var plotSpec={\n\"mapping\":{\n},\n\"data\":{\n},\n\"kind\":\"plot\",\n\"scales\":[{\n\"aesthetic\":\"x\",\n\"discrete\":true,\n\"expand\":[0.0,0.5]\n},{\n\"aesthetic\":\"y\",\n\"discrete\":true\n},{\n\"aesthetic\":\"size\",\n\"range\":[10.0,30.0],\n\"limits\":[null,null]\n}],\n\"layers\":[{\n\"mapping\":{\n\"x\":\"x\",\n\"y\":\"y\",\n\"size\":\"count\"\n},\n\"stat\":\"identity\",\n\"data\":{\n\"count\":[35.0,12.0,3.0,11.0,5.0,51.0,38.0,11.0,33.0,9.0,22.0,4.0],\n\"x\":[\"compact\",\"compact\",\"midsize\",\"suv\",\"2seater\",\"suv\",\"midsize\",\"minivan\",\"pickup\",\"subcompact\",\"subcompact\",\"subcompact\"],\n\"y\":[\"f\",\"4\",\"4\",\"r\",\"r\",\"4\",\"f\",\"f\",\"4\",\"r\",\"f\",\"4\"]\n},\n\"color\":\"#ee6666\",\n\"sampling\":\"none\",\n\"position\":\"identity\",\n\"geom\":\"point\"\n}]\n};\n       var plotContainer = document.getElementById(\"a4h96F\");\n       LetsPlot.buildPlotFromProcessedSpecs(plotSpec, -1, -1, plotContainer);\n   </script>            \n        <svg id=cb761f21-fcfa-4234-8e1e-4eff64a319cb xmlns=\"http://www.w3.org/2000/svg\" xmlns:xlink=\"http://www.w3.org/1999/xlink\" class=\"plt-container\" width=\"600.0\" height=\"400.0\">\n  <style type=\"text/css\">\n  .plt-container {\n   font-family: Lucida Grande, sans-serif;\n   user-select: none;\n   -webkit-user-select: none;\n   -moz-user-select: none;\n   -ms-user-select: none;\n}\ntext {\n   text-rendering: optimizeLegibility;\n}\n#pBKGBiu .plot-title {\n   fill: #474747;\n   font-family: Lucida Grande, sans-serif;\n   font-size: 16.0px;\n   font-weight: normal;\n   font-style: normal;   \n}\n#pBKGBiu .plot-subtitle {\n   fill: #474747;\n   font-family: Lucida Grande, sans-serif;\n   font-size: 15.0px;\n   font-weight: normal;\n   font-style: normal;   \n}\n#pBKGBiu .plot-caption {\n   fill: #474747;\n   font-family: Lucida Grande, sans-serif;\n   font-size: 13.0px;\n   font-weight: normal;\n   font-style: normal;   \n}\n#pBKGBiu .legend-title {\n   fill: #474747;\n   font-family: Lucida Grande, sans-serif;\n   font-size: 15.0px;\n   font-weight: normal;\n   font-style: normal;   \n}\n#pBKGBiu .legend-item {\n   fill: #474747;\n   font-family: Lucida Grande, sans-serif;\n   font-size: 13.0px;\n   font-weight: normal;\n   font-style: normal;   \n}\n#pBKGBiu .axis-title-x {\n   fill: #474747;\n   font-family: Lucida Grande, sans-serif;\n   font-size: 15.0px;\n   font-weight: normal;\n   font-style: normal;   \n}\n#pBKGBiu .axis-text-x {\n   fill: #474747;\n   font-family: Lucida Grande, sans-serif;\n   font-size: 13.0px;\n   font-weight: normal;\n   font-style: normal;   \n}\n#dOxJKG2 .axis-tooltip-text-x {\n   fill: #ffffff;\n   font-family: Lucida Grande, sans-serif;\n   font-size: 13.0px;\n   font-weight: normal;\n   font-style: normal;   \n}\n#pBKGBiu .axis-title-y {\n   fill: #474747;\n   font-family: Lucida Grande, sans-serif;\n   font-size: 15.0px;\n   font-weight: normal;\n   font-style: normal;   \n}\n#pBKGBiu .axis-text-y {\n   fill: #474747;\n   font-family: Lucida Grande, sans-serif;\n   font-size: 13.0px;\n   font-weight: normal;\n   font-style: normal;   \n}\n#dOxJKG2 .axis-tooltip-text-y {\n   fill: #ffffff;\n   font-family: Lucida Grande, sans-serif;\n   font-size: 13.0px;\n   font-weight: normal;\n   font-style: normal;   \n}\n#pBKGBiu .facet-strip-text-x {\n   fill: #474747;\n   font-family: Lucida Grande, sans-serif;\n   font-size: 13.0px;\n   font-weight: normal;\n   font-style: normal;   \n}\n#pBKGBiu .facet-strip-text-y {\n   fill: #474747;\n   font-family: Lucida Grande, sans-serif;\n   font-size: 13.0px;\n   font-weight: normal;\n   font-style: normal;   \n}\n#dOxJKG2 .tooltip-text {\n   fill: #474747;\n   font-family: Lucida Grande, sans-serif;\n   font-size: 13.0px;\n   font-weight: normal;\n   font-style: normal;   \n}\n#dOxJKG2 .tooltip-title {\n   fill: #474747;\n   font-family: Lucida Grande, sans-serif;\n   font-size: 13.0px;\n   font-weight: bold;\n   font-style: normal;   \n}\n#dOxJKG2 .tooltip-label {\n   fill: #474747;\n   font-family: Lucida Grande, sans-serif;\n   font-size: 13.0px;\n   font-weight: bold;\n   font-style: normal;   \n}\n\n  </style>\n  <g id=\"pBKGBiu\">\n    <rect x=\"0.0\" y=\"0.0\" height=\"400.0\" width=\"600.0\" stroke=\"rgb(71,71,71)\" stroke-opacity=\"1.0\" stroke-width=\"0.0\" fill=\"rgb(255,255,255)\" fill-opacity=\"1.0\">\n    </rect>\n    <g transform=\"translate(23.0 10.0 ) \">\n      <g transform=\"translate(13.980605455468202 328.4 ) \">\n        <line x1=\"31.790562921847233\" y1=\"-0.0\" x2=\"31.790562921847233\" y2=\"-328.4\" stroke=\"rgb(233,233,233)\" stroke-opacity=\"1.0\" stroke-width=\"1.0\">\n        </line>\n        <line x1=\"95.3716887655417\" y1=\"-0.0\" x2=\"95.3716887655417\" y2=\"-328.4\" stroke=\"rgb(233,233,233)\" stroke-opacity=\"1.0\" stroke-width=\"1.0\">\n        </line>\n        <line x1=\"158.95281460923616\" y1=\"-0.0\" x2=\"158.95281460923616\" y2=\"-328.4\" stroke=\"rgb(233,233,233)\" stroke-opacity=\"1.0\" stroke-width=\"1.0\">\n        </line>\n        <line x1=\"222.53394045293064\" y1=\"-0.0\" x2=\"222.53394045293064\" y2=\"-328.4\" stroke=\"rgb(233,233,233)\" stroke-opacity=\"1.0\" stroke-width=\"1.0\">\n        </line>\n        <line x1=\"286.1150662966251\" y1=\"-0.0\" x2=\"286.1150662966251\" y2=\"-328.4\" stroke=\"rgb(233,233,233)\" stroke-opacity=\"1.0\" stroke-width=\"1.0\">\n        </line>\n        <line x1=\"349.69619214031957\" y1=\"-0.0\" x2=\"349.69619214031957\" y2=\"-328.4\" stroke=\"rgb(233,233,233)\" stroke-opacity=\"1.0\" stroke-width=\"1.0\">\n        </line>\n        <line x1=\"413.2773179840141\" y1=\"-0.0\" x2=\"413.2773179840141\" y2=\"-328.4\" stroke=\"rgb(233,233,233)\" stroke-opacity=\"1.0\" stroke-width=\"1.0\">\n        </line>\n        <g transform=\"translate(31.790562921847233 0.0 ) \">\n          <line stroke-width=\"1.0\" stroke=\"rgb(71,71,71)\" stroke-opacity=\"1.0\" x2=\"0.0\" y2=\"4.0\">\n          </line>\n          <g transform=\"translate(0.0 7.0 ) \">\n            <text class=\"axis-text-x\" text-anchor=\"middle\" dy=\"0.7em\">\n            compact\n            </text>\n          </g>\n        </g>\n        <g transform=\"translate(95.3716887655417 0.0 ) \">\n          <line stroke-width=\"1.0\" stroke=\"rgb(71,71,71)\" stroke-opacity=\"1.0\" x2=\"0.0\" y2=\"4.0\">\n          </line>\n          <g transform=\"translate(0.0 22.6 ) \">\n            <text class=\"axis-text-x\" text-anchor=\"middle\" dy=\"0.7em\">\n            midsize\n            </text>\n          </g>\n        </g>\n        <g transform=\"translate(158.95281460923616 0.0 ) \">\n          <line stroke-width=\"1.0\" stroke=\"rgb(71,71,71)\" stroke-opacity=\"1.0\" x2=\"0.0\" y2=\"4.0\">\n          </line>\n          <g transform=\"translate(0.0 7.0 ) \">\n            <text class=\"axis-text-x\" text-anchor=\"middle\" dy=\"0.7em\">\n            suv\n            </text>\n          </g>\n        </g>\n        <g transform=\"translate(222.53394045293064 0.0 ) \">\n          <line stroke-width=\"1.0\" stroke=\"rgb(71,71,71)\" stroke-opacity=\"1.0\" x2=\"0.0\" y2=\"4.0\">\n          </line>\n          <g transform=\"translate(0.0 22.6 ) \">\n            <text class=\"axis-text-x\" text-anchor=\"middle\" dy=\"0.7em\">\n            2seater\n            </text>\n          </g>\n        </g>\n        <g transform=\"translate(286.1150662966251 0.0 ) \">\n          <line stroke-width=\"1.0\" stroke=\"rgb(71,71,71)\" stroke-opacity=\"1.0\" x2=\"0.0\" y2=\"4.0\">\n          </line>\n          <g transform=\"translate(0.0 7.0 ) \">\n            <text class=\"axis-text-x\" text-anchor=\"middle\" dy=\"0.7em\">\n            minivan\n            </text>\n          </g>\n        </g>\n        <g transform=\"translate(349.69619214031957 0.0 ) \">\n          <line stroke-width=\"1.0\" stroke=\"rgb(71,71,71)\" stroke-opacity=\"1.0\" x2=\"0.0\" y2=\"4.0\">\n          </line>\n          <g transform=\"translate(0.0 22.6 ) \">\n            <text class=\"axis-text-x\" text-anchor=\"middle\" dy=\"0.7em\">\n            pickup\n            </text>\n          </g>\n        </g>\n        <g transform=\"translate(413.2773179840141 0.0 ) \">\n          <line stroke-width=\"1.0\" stroke=\"rgb(71,71,71)\" stroke-opacity=\"1.0\" x2=\"0.0\" y2=\"4.0\">\n          </line>\n          <g transform=\"translate(0.0 7.0 ) \">\n            <text class=\"axis-text-x\" text-anchor=\"middle\" dy=\"0.7em\">\n            subcompact\n            </text>\n          </g>\n        </g>\n        <line x1=\"0.0\" y1=\"0.0\" x2=\"445.0678809058613\" y2=\"0.0\" stroke-width=\"1.0\" stroke=\"rgb(71,71,71)\" stroke-opacity=\"1.0\">\n        </line>\n      </g>\n      <g transform=\"translate(13.980605455468202 0.0 ) \">\n        <line x1=\"0.0\" y1=\"301.0333333333333\" x2=\"445.0678809058613\" y2=\"301.0333333333333\" stroke=\"rgb(233,233,233)\" stroke-opacity=\"1.0\" stroke-width=\"1.0\">\n        </line>\n        <line x1=\"0.0\" y1=\"164.2\" x2=\"445.0678809058613\" y2=\"164.2\" stroke=\"rgb(233,233,233)\" stroke-opacity=\"1.0\" stroke-width=\"1.0\">\n        </line>\n        <line x1=\"0.0\" y1=\"27.366666666666674\" x2=\"445.0678809058613\" y2=\"27.366666666666674\" stroke=\"rgb(233,233,233)\" stroke-opacity=\"1.0\" stroke-width=\"1.0\">\n        </line>\n        <g transform=\"translate(0.0 301.0333333333333 ) \">\n          <g transform=\"translate(-3.0 0.0 ) \">\n            <text class=\"axis-text-y\" text-anchor=\"end\" dy=\"0.35em\">\n            f\n            </text>\n          </g>\n        </g>\n        <g transform=\"translate(0.0 164.2 ) \">\n          <g transform=\"translate(-3.0 0.0 ) \">\n            <text class=\"axis-text-y\" text-anchor=\"end\" dy=\"0.35em\">\n            4\n            </text>\n          </g>\n        </g>\n        <g transform=\"translate(0.0 27.366666666666674 ) \">\n          <g transform=\"translate(-3.0 0.0 ) \">\n            <text class=\"axis-text-y\" text-anchor=\"end\" dy=\"0.35em\">\n            r\n            </text>\n          </g>\n        </g>\n      </g>\n      <g transform=\"translate(13.980605455468202 0.0 ) \" clip-path=\"url(#cUBmyXI)\" clip-bounds-jfx=\"[rect (0.0, 0.0), (445.0678809058613, 328.4)]\">\n        <defs>\n          <clipPath id=\"cUBmyXI\">\n            <rect x=\"0.0\" y=\"0.0\" width=\"445.0678809058613\" height=\"328.4\">\n            </rect>\n          </clipPath>\n        </defs>\n        <g>\n          \n          <g >\n            <circle fill=\"#ee6666\" stroke=\"#ee6666\" stroke-opacity=\"0.0\" stroke-width=\"0.0\" cx=\"31.790562921847233\" cy=\"301.0333333333333\" r=\"25.66666666666667\" />\n            <circle fill=\"#ee6666\" stroke=\"#ee6666\" stroke-opacity=\"0.0\" stroke-width=\"0.0\" cx=\"31.790562921847233\" cy=\"164.2\" r=\"15.125000000000002\" />\n            <circle fill=\"#ee6666\" stroke=\"#ee6666\" stroke-opacity=\"0.0\" stroke-width=\"0.0\" cx=\"95.3716887655417\" cy=\"164.2\" r=\"11.0\" />\n            <circle fill=\"#ee6666\" stroke=\"#ee6666\" stroke-opacity=\"0.0\" stroke-width=\"0.0\" cx=\"158.95281460923616\" cy=\"27.366666666666674\" r=\"14.666666666666668\" />\n            <circle fill=\"#ee6666\" stroke=\"#ee6666\" stroke-opacity=\"0.0\" stroke-width=\"0.0\" cx=\"222.53394045293064\" cy=\"27.366666666666674\" r=\"11.916666666666668\" />\n            <circle fill=\"#ee6666\" stroke=\"#ee6666\" stroke-opacity=\"0.0\" stroke-width=\"0.0\" cx=\"158.95281460923616\" cy=\"164.2\" r=\"33.0\" />\n            <circle fill=\"#ee6666\" stroke=\"#ee6666\" stroke-opacity=\"0.0\" stroke-width=\"0.0\" cx=\"95.3716887655417\" cy=\"301.0333333333333\" r=\"27.04166666666667\" />\n            <circle fill=\"#ee6666\" stroke=\"#ee6666\" stroke-opacity=\"0.0\" stroke-width=\"0.0\" cx=\"286.1150662966251\" cy=\"301.0333333333333\" r=\"14.666666666666668\" />\n            <circle fill=\"#ee6666\" stroke=\"#ee6666\" stroke-opacity=\"0.0\" stroke-width=\"0.0\" cx=\"349.69619214031957\" cy=\"164.2\" r=\"24.750000000000004\" />\n            <circle fill=\"#ee6666\" stroke=\"#ee6666\" stroke-opacity=\"0.0\" stroke-width=\"0.0\" cx=\"413.2773179840141\" cy=\"27.366666666666674\" r=\"13.750000000000002\" />\n            <circle fill=\"#ee6666\" stroke=\"#ee6666\" stroke-opacity=\"0.0\" stroke-width=\"0.0\" cx=\"413.2773179840141\" cy=\"301.0333333333333\" r=\"19.708333333333336\" />\n            <circle fill=\"#ee6666\" stroke=\"#ee6666\" stroke-opacity=\"0.0\" stroke-width=\"0.0\" cx=\"413.2773179840141\" cy=\"164.2\" r=\"11.458333333333334\" />\n          </g>\n        </g>\n      </g>\n    </g>\n    <g transform=\"translate(14.5 174.2 ) rotate(-90.0 ) \">\n      <text class=\"axis-title-y\" y=\"0.0\" text-anchor=\"middle\">\n      y\n      </text>\n    </g>\n    <g transform=\"translate(259.5145459083988 391.5 ) \">\n      <text class=\"axis-title-x\" y=\"0.0\" text-anchor=\"middle\">\n      x\n      </text>\n    </g>\n    <g transform=\"translate(500.3998301546471 28.94999999999999 ) \">\n      <rect x=\"5.0\" y=\"5.0\" height=\"280.5\" width=\"97.9515136386705\" stroke=\"rgb(71,71,71)\" stroke-opacity=\"1.0\" stroke-width=\"0.0\" fill=\"rgb(255,255,255)\" fill-opacity=\"1.0\">\n      </rect>\n      <g transform=\"translate(10.0 10.0 ) \">\n        <g transform=\"translate(0.0 10.5 ) \">\n          <text class=\"legend-title\" y=\"0.0\">\n          count\n          </text>\n        </g>\n        <g transform=\"translate(0.0 22.5 ) \">\n          <g transform=\"\">\n            <g>\n              <rect x=\"0.0\" y=\"0.0\" height=\"32.0\" width=\"68.0\" stroke-width=\"0.0\" fill=\"rgb(255,255,255)\" fill-opacity=\"1.0\">\n              </rect>\n              <g transform=\"translate(1.0 1.0 ) \">\n                <g>\n                  \n                  <g >\n                    <circle fill=\"#ee6666\" stroke=\"#ee6666\" stroke-opacity=\"0.0\" stroke-width=\"0.0\" cx=\"33.0\" cy=\"15.0\" r=\"14.208333333333336\" />\n                  </g>\n                </g>\n              </g>\n              <rect x=\"0.0\" y=\"0.0\" height=\"32.0\" width=\"68.0\" stroke=\"rgb(255,255,255)\" stroke-opacity=\"1.0\" stroke-width=\"1.0\" fill-opacity=\"0.0\">\n              </rect>\n            </g>\n            <g transform=\"translate(71.9903027277341 20.55 ) \">\n              <text class=\"legend-item\" y=\"0.0\">\n              10\n              </text>\n            </g>\n          </g>\n          <g transform=\"translate(0.0 32.0 ) \">\n            <g>\n              <rect x=\"0.0\" y=\"0.0\" height=\"40.0\" width=\"68.0\" stroke-width=\"0.0\" fill=\"rgb(255,255,255)\" fill-opacity=\"1.0\">\n              </rect>\n              <g transform=\"translate(1.0 1.0 ) \">\n                <g>\n                  \n                  <g >\n                    <circle fill=\"#ee6666\" stroke=\"#ee6666\" stroke-opacity=\"0.0\" stroke-width=\"0.0\" cx=\"33.0\" cy=\"19.0\" r=\"18.79166666666667\" />\n                  </g>\n                </g>\n              </g>\n              <rect x=\"0.0\" y=\"0.0\" height=\"40.0\" width=\"68.0\" stroke=\"rgb(255,255,255)\" stroke-opacity=\"1.0\" stroke-width=\"1.0\" fill-opacity=\"0.0\">\n              </rect>\n            </g>\n            <g transform=\"translate(71.9903027277341 24.55 ) \">\n              <text class=\"legend-item\" y=\"0.0\">\n              20\n              </text>\n            </g>\n          </g>\n          <g transform=\"translate(0.0 72.0 ) \">\n            <g>\n              <rect x=\"0.0\" y=\"0.0\" height=\"50.0\" width=\"68.0\" stroke-width=\"0.0\" fill=\"rgb(255,255,255)\" fill-opacity=\"1.0\">\n              </rect>\n              <g transform=\"translate(1.0 1.0 ) \">\n                <g>\n                  \n                  <g >\n                    <circle fill=\"#ee6666\" stroke=\"#ee6666\" stroke-opacity=\"0.0\" stroke-width=\"0.0\" cx=\"33.0\" cy=\"24.0\" r=\"23.375000000000004\" />\n                  </g>\n                </g>\n              </g>\n              <rect x=\"0.0\" y=\"0.0\" height=\"50.0\" width=\"68.0\" stroke=\"rgb(255,255,255)\" stroke-opacity=\"1.0\" stroke-width=\"1.0\" fill-opacity=\"0.0\">\n              </rect>\n            </g>\n            <g transform=\"translate(71.9903027277341 29.55 ) \">\n              <text class=\"legend-item\" y=\"0.0\">\n              30\n              </text>\n            </g>\n          </g>\n          <g transform=\"translate(0.0 122.0 ) \">\n            <g>\n              <rect x=\"0.0\" y=\"0.0\" height=\"58.0\" width=\"68.0\" stroke-width=\"0.0\" fill=\"rgb(255,255,255)\" fill-opacity=\"1.0\">\n              </rect>\n              <g transform=\"translate(1.0 1.0 ) \">\n                <g>\n                  \n                  <g >\n                    <circle fill=\"#ee6666\" stroke=\"#ee6666\" stroke-opacity=\"0.0\" stroke-width=\"0.0\" cx=\"33.0\" cy=\"28.0\" r=\"27.958333333333336\" />\n                  </g>\n                </g>\n              </g>\n              <rect x=\"0.0\" y=\"0.0\" height=\"58.0\" width=\"68.0\" stroke=\"rgb(255,255,255)\" stroke-opacity=\"1.0\" stroke-width=\"1.0\" fill-opacity=\"0.0\">\n              </rect>\n            </g>\n            <g transform=\"translate(71.9903027277341 33.55 ) \">\n              <text class=\"legend-item\" y=\"0.0\">\n              40\n              </text>\n            </g>\n          </g>\n          <g transform=\"translate(0.0 180.0 ) \">\n            <g>\n              <rect x=\"0.0\" y=\"0.0\" height=\"68.0\" width=\"68.0\" stroke-width=\"0.0\" fill=\"rgb(255,255,255)\" fill-opacity=\"1.0\">\n              </rect>\n              <g transform=\"translate(1.0 1.0 ) \">\n                <g>\n                  \n                  <g >\n                    <circle fill=\"#ee6666\" stroke=\"#ee6666\" stroke-opacity=\"0.0\" stroke-width=\"0.0\" cx=\"33.0\" cy=\"33.0\" r=\"32.54166666666667\" />\n                  </g>\n                </g>\n              </g>\n              <rect x=\"0.0\" y=\"0.0\" height=\"68.0\" width=\"68.0\" stroke=\"rgb(255,255,255)\" stroke-opacity=\"1.0\" stroke-width=\"1.0\" fill-opacity=\"0.0\">\n              </rect>\n            </g>\n            <g transform=\"translate(71.9903027277341 38.55 ) \">\n              <text class=\"legend-item\" y=\"0.0\">\n              50\n              </text>\n            </g>\n          </g>\n        </g>\n      </g>\n    </g>\n  </g>\n  <g id=\"dOxJKG2\">\n  </g>\n</svg>\n        <script>document.getElementById(\"cb761f21-fcfa-4234-8e1e-4eff64a319cb\").style.display = \"none\";</script>",
      "application/plot+json": {
       "output_type": "lets_plot_spec",
       "output": {
        "mapping": {},
        "data": {},
        "kind": "plot",
        "scales": [
         {
          "aesthetic": "x",
          "discrete": true,
          "expand": [
           0.0,
           0.5
          ]
         },
         {
          "aesthetic": "y",
          "discrete": true
         },
         {
          "aesthetic": "size",
          "range": [
           10.0,
           30.0
          ],
          "limits": [
           null,
           null
          ]
         }
        ],
        "layers": [
         {
          "mapping": {
           "x": "x",
           "y": "y",
           "size": "count"
          },
          "stat": "identity",
          "data": {
           "x": [
            "compact",
            "compact",
            "midsize",
            "suv",
            "2seater",
            "suv",
            "midsize",
            "minivan",
            "pickup",
            "subcompact",
            "subcompact",
            "subcompact"
           ],
           "count": [
            35.0,
            12.0,
            3.0,
            11.0,
            5.0,
            51.0,
            38.0,
            11.0,
            33.0,
            9.0,
            22.0,
            4.0
           ],
           "y": [
            "f",
            "4",
            "4",
            "r",
            "r",
            "4",
            "f",
            "f",
            "4",
            "r",
            "f",
            "4"
           ]
          },
          "color": "#ee6666",
          "sampling": "none",
          "position": "identity",
          "geom": "point"
         }
        ]
       },
       "apply_color_scheme": true,
       "swing_enabled": true
      }
     },
     "execution_count": 5,
     "metadata": {},
     "output_type": "execute_result"
    }
   ],
   "source": [
    "plot {\n",
    "    statCount2D(df.`class`, df.drv) {\n",
    "        // new `StatCount` dataset here\n",
    "        points {\n",
    "            // use `Stat.*` columns for mappings\n",
    "            x(Stat.x) {\n",
    "                axis.expand(0.0, 0.5)\n",
    "            }\n",
    "            y(Stat.y)\n",
    "            size(Stat.count) {\n",
    "                scale = continuous(10.0..30.0)\n",
    "            }\n",
    "            color = Color.RED\n",
    "        }\n",
    "    }\n",
    "} "
   ],
   "metadata": {
    "collapsed": false,
    "ExecuteTime": {
     "end_time": "2023-10-19T12:05:36.597669Z",
     "start_time": "2023-10-19T12:05:35.141789Z"
    }
   }
  },
  {
   "cell_type": "markdown",
   "source": [
    "### Heatmap layer"
   ],
   "metadata": {
    "collapsed": false
   }
  },
  {
   "cell_type": "markdown",
   "source": [
    "Heatmap is a statistical plot used for visualizing the distribution of two categorical variables sample. It's a tile plot where each tile is representing one of pair of categories: its `x` coordinate is corresponding to `x` category, `y` to `y` category, and its color to count of this pair. So basically, we can build a heatmap with `statCount2D` as follows:"
   ],
   "metadata": {
    "collapsed": false
   }
  },
  {
   "cell_type": "code",
   "execution_count": 6,
   "outputs": [
    {
     "data": {
      "text/html": "            <script type=\"text/javascript\" data-lets-plot-script=\"library\" src=\"https://cdn.jsdelivr.net/gh/JetBrains/lets-plot@v4.0.0/js-package/distr/lets-plot.min.js\"></script>    \n               <div id=\"BWZirL\"></div>\n   <script type=\"text/javascript\" data-lets-plot-script=\"plot\">\n       var plotSpec={\n\"ggtitle\":{\n\"text\":\"`statCount2D()` + `tile()` layer\"\n},\n\"mapping\":{\n},\n\"data\":{\n},\n\"kind\":\"plot\",\n\"scales\":[{\n\"aesthetic\":\"x\",\n\"discrete\":true\n},{\n\"aesthetic\":\"y\",\n\"discrete\":true\n},{\n\"aesthetic\":\"fill\",\n\"scale_mapper_kind\":\"color_gradient\",\n\"limits\":[null,null]\n}],\n\"layers\":[{\n\"mapping\":{\n\"x\":\"x\",\n\"y\":\"y\",\n\"fill\":\"count\"\n},\n\"stat\":\"identity\",\n\"data\":{\n\"count\":[35.0,12.0,3.0,11.0,5.0,51.0,38.0,11.0,33.0,9.0,22.0,4.0],\n\"x\":[\"compact\",\"compact\",\"midsize\",\"suv\",\"2seater\",\"suv\",\"midsize\",\"minivan\",\"pickup\",\"subcompact\",\"subcompact\",\"subcompact\"],\n\"y\":[\"f\",\"4\",\"4\",\"r\",\"r\",\"4\",\"f\",\"f\",\"4\",\"r\",\"f\",\"4\"]\n},\n\"sampling\":\"none\",\n\"position\":\"identity\",\n\"geom\":\"tile\"\n}]\n};\n       var plotContainer = document.getElementById(\"BWZirL\");\n       LetsPlot.buildPlotFromProcessedSpecs(plotSpec, -1, -1, plotContainer);\n   </script>            \n        <svg id=3b84016b-1595-4722-8b5c-1af04f2c7626 xmlns=\"http://www.w3.org/2000/svg\" xmlns:xlink=\"http://www.w3.org/1999/xlink\" class=\"plt-container\" width=\"600.0\" height=\"400.0\">\n  <style type=\"text/css\">\n  .plt-container {\n   font-family: Lucida Grande, sans-serif;\n   user-select: none;\n   -webkit-user-select: none;\n   -moz-user-select: none;\n   -ms-user-select: none;\n}\ntext {\n   text-rendering: optimizeLegibility;\n}\n#pJL5Zz1 .plot-title {\n   fill: #474747;\n   font-family: Lucida Grande, sans-serif;\n   font-size: 16.0px;\n   font-weight: normal;\n   font-style: normal;   \n}\n#pJL5Zz1 .plot-subtitle {\n   fill: #474747;\n   font-family: Lucida Grande, sans-serif;\n   font-size: 15.0px;\n   font-weight: normal;\n   font-style: normal;   \n}\n#pJL5Zz1 .plot-caption {\n   fill: #474747;\n   font-family: Lucida Grande, sans-serif;\n   font-size: 13.0px;\n   font-weight: normal;\n   font-style: normal;   \n}\n#pJL5Zz1 .legend-title {\n   fill: #474747;\n   font-family: Lucida Grande, sans-serif;\n   font-size: 15.0px;\n   font-weight: normal;\n   font-style: normal;   \n}\n#pJL5Zz1 .legend-item {\n   fill: #474747;\n   font-family: Lucida Grande, sans-serif;\n   font-size: 13.0px;\n   font-weight: normal;\n   font-style: normal;   \n}\n#pJL5Zz1 .axis-title-x {\n   fill: #474747;\n   font-family: Lucida Grande, sans-serif;\n   font-size: 15.0px;\n   font-weight: normal;\n   font-style: normal;   \n}\n#pJL5Zz1 .axis-text-x {\n   fill: #474747;\n   font-family: Lucida Grande, sans-serif;\n   font-size: 13.0px;\n   font-weight: normal;\n   font-style: normal;   \n}\n#dVfTMK0 .axis-tooltip-text-x {\n   fill: #ffffff;\n   font-family: Lucida Grande, sans-serif;\n   font-size: 13.0px;\n   font-weight: normal;\n   font-style: normal;   \n}\n#pJL5Zz1 .axis-title-y {\n   fill: #474747;\n   font-family: Lucida Grande, sans-serif;\n   font-size: 15.0px;\n   font-weight: normal;\n   font-style: normal;   \n}\n#pJL5Zz1 .axis-text-y {\n   fill: #474747;\n   font-family: Lucida Grande, sans-serif;\n   font-size: 13.0px;\n   font-weight: normal;\n   font-style: normal;   \n}\n#dVfTMK0 .axis-tooltip-text-y {\n   fill: #ffffff;\n   font-family: Lucida Grande, sans-serif;\n   font-size: 13.0px;\n   font-weight: normal;\n   font-style: normal;   \n}\n#pJL5Zz1 .facet-strip-text-x {\n   fill: #474747;\n   font-family: Lucida Grande, sans-serif;\n   font-size: 13.0px;\n   font-weight: normal;\n   font-style: normal;   \n}\n#pJL5Zz1 .facet-strip-text-y {\n   fill: #474747;\n   font-family: Lucida Grande, sans-serif;\n   font-size: 13.0px;\n   font-weight: normal;\n   font-style: normal;   \n}\n#dVfTMK0 .tooltip-text {\n   fill: #474747;\n   font-family: Lucida Grande, sans-serif;\n   font-size: 13.0px;\n   font-weight: normal;\n   font-style: normal;   \n}\n#dVfTMK0 .tooltip-title {\n   fill: #474747;\n   font-family: Lucida Grande, sans-serif;\n   font-size: 13.0px;\n   font-weight: bold;\n   font-style: normal;   \n}\n#dVfTMK0 .tooltip-label {\n   fill: #474747;\n   font-family: Lucida Grande, sans-serif;\n   font-size: 13.0px;\n   font-weight: bold;\n   font-style: normal;   \n}\n\n  </style>\n  <g id=\"pJL5Zz1\">\n    <rect x=\"0.0\" y=\"0.0\" height=\"400.0\" width=\"600.0\" stroke=\"rgb(71,71,71)\" stroke-opacity=\"1.0\" stroke-width=\"0.0\" fill=\"rgb(255,255,255)\" fill-opacity=\"1.0\">\n    </rect>\n    <g transform=\"translate(23.0 73.61683817027509 ) \">\n      <g transform=\"translate(13.980605455468202 225.16632365944983 ) \">\n        <line x1=\"46.35777251812201\" y1=\"-0.0\" x2=\"46.35777251812201\" y2=\"-225.16632365944983\" stroke=\"rgb(233,233,233)\" stroke-opacity=\"1.0\" stroke-width=\"1.0\">\n        </line>\n        <line x1=\"112.5831618297249\" y1=\"-0.0\" x2=\"112.5831618297249\" y2=\"-225.16632365944983\" stroke=\"rgb(233,233,233)\" stroke-opacity=\"1.0\" stroke-width=\"1.0\">\n        </line>\n        <line x1=\"178.80855114132777\" y1=\"-0.0\" x2=\"178.80855114132777\" y2=\"-225.16632365944983\" stroke=\"rgb(233,233,233)\" stroke-opacity=\"1.0\" stroke-width=\"1.0\">\n        </line>\n        <line x1=\"245.03394045293064\" y1=\"-0.0\" x2=\"245.03394045293064\" y2=\"-225.16632365944983\" stroke=\"rgb(233,233,233)\" stroke-opacity=\"1.0\" stroke-width=\"1.0\">\n        </line>\n        <line x1=\"311.25932976453356\" y1=\"-0.0\" x2=\"311.25932976453356\" y2=\"-225.16632365944983\" stroke=\"rgb(233,233,233)\" stroke-opacity=\"1.0\" stroke-width=\"1.0\">\n        </line>\n        <line x1=\"377.48471907613646\" y1=\"-0.0\" x2=\"377.48471907613646\" y2=\"-225.16632365944983\" stroke=\"rgb(233,233,233)\" stroke-opacity=\"1.0\" stroke-width=\"1.0\">\n        </line>\n        <line x1=\"443.7101083877393\" y1=\"-0.0\" x2=\"443.7101083877393\" y2=\"-225.16632365944983\" stroke=\"rgb(233,233,233)\" stroke-opacity=\"1.0\" stroke-width=\"1.0\">\n        </line>\n        <g transform=\"translate(46.35777251812201 0.0 ) \">\n          <line stroke-width=\"1.0\" stroke=\"rgb(71,71,71)\" stroke-opacity=\"1.0\" x2=\"0.0\" y2=\"4.0\">\n          </line>\n          <g transform=\"translate(0.0 7.0 ) \">\n            <text class=\"axis-text-x\" text-anchor=\"middle\" dy=\"0.7em\">\n            compact\n            </text>\n          </g>\n        </g>\n        <g transform=\"translate(112.5831618297249 0.0 ) \">\n          <line stroke-width=\"1.0\" stroke=\"rgb(71,71,71)\" stroke-opacity=\"1.0\" x2=\"0.0\" y2=\"4.0\">\n          </line>\n          <g transform=\"translate(0.0 22.6 ) \">\n            <text class=\"axis-text-x\" text-anchor=\"middle\" dy=\"0.7em\">\n            midsize\n            </text>\n          </g>\n        </g>\n        <g transform=\"translate(178.80855114132777 0.0 ) \">\n          <line stroke-width=\"1.0\" stroke=\"rgb(71,71,71)\" stroke-opacity=\"1.0\" x2=\"0.0\" y2=\"4.0\">\n          </line>\n          <g transform=\"translate(0.0 7.0 ) \">\n            <text class=\"axis-text-x\" text-anchor=\"middle\" dy=\"0.7em\">\n            suv\n            </text>\n          </g>\n        </g>\n        <g transform=\"translate(245.03394045293064 0.0 ) \">\n          <line stroke-width=\"1.0\" stroke=\"rgb(71,71,71)\" stroke-opacity=\"1.0\" x2=\"0.0\" y2=\"4.0\">\n          </line>\n          <g transform=\"translate(0.0 22.6 ) \">\n            <text class=\"axis-text-x\" text-anchor=\"middle\" dy=\"0.7em\">\n            2seater\n            </text>\n          </g>\n        </g>\n        <g transform=\"translate(311.25932976453356 0.0 ) \">\n          <line stroke-width=\"1.0\" stroke=\"rgb(71,71,71)\" stroke-opacity=\"1.0\" x2=\"0.0\" y2=\"4.0\">\n          </line>\n          <g transform=\"translate(0.0 7.0 ) \">\n            <text class=\"axis-text-x\" text-anchor=\"middle\" dy=\"0.7em\">\n            minivan\n            </text>\n          </g>\n        </g>\n        <g transform=\"translate(377.48471907613646 0.0 ) \">\n          <line stroke-width=\"1.0\" stroke=\"rgb(71,71,71)\" stroke-opacity=\"1.0\" x2=\"0.0\" y2=\"4.0\">\n          </line>\n          <g transform=\"translate(0.0 22.6 ) \">\n            <text class=\"axis-text-x\" text-anchor=\"middle\" dy=\"0.7em\">\n            pickup\n            </text>\n          </g>\n        </g>\n        <g transform=\"translate(443.7101083877393 0.0 ) \">\n          <line stroke-width=\"1.0\" stroke=\"rgb(71,71,71)\" stroke-opacity=\"1.0\" x2=\"0.0\" y2=\"4.0\">\n          </line>\n          <g transform=\"translate(0.0 7.0 ) \">\n            <text class=\"axis-text-x\" text-anchor=\"middle\" dy=\"0.7em\">\n            subcompact\n            </text>\n          </g>\n        </g>\n        <line x1=\"0.0\" y1=\"0.0\" x2=\"490.06788090586133\" y2=\"0.0\" stroke-width=\"1.0\" stroke=\"rgb(71,71,71)\" stroke-opacity=\"1.0\">\n        </line>\n      </g>\n      <g transform=\"translate(13.980605455468202 0.0 ) \">\n        <line x1=\"0.0\" y1=\"178.80855114132783\" x2=\"490.06788090586133\" y2=\"178.80855114132783\" stroke=\"rgb(233,233,233)\" stroke-opacity=\"1.0\" stroke-width=\"1.0\">\n        </line>\n        <line x1=\"0.0\" y1=\"112.58316182972494\" x2=\"490.06788090586133\" y2=\"112.58316182972494\" stroke=\"rgb(233,233,233)\" stroke-opacity=\"1.0\" stroke-width=\"1.0\">\n        </line>\n        <line x1=\"0.0\" y1=\"46.35777251812206\" x2=\"490.06788090586133\" y2=\"46.35777251812206\" stroke=\"rgb(233,233,233)\" stroke-opacity=\"1.0\" stroke-width=\"1.0\">\n        </line>\n        <g transform=\"translate(0.0 178.80855114132783 ) \">\n          <g transform=\"translate(-3.0 0.0 ) \">\n            <text class=\"axis-text-y\" text-anchor=\"end\" dy=\"0.35em\">\n            f\n            </text>\n          </g>\n        </g>\n        <g transform=\"translate(0.0 112.58316182972494 ) \">\n          <g transform=\"translate(-3.0 0.0 ) \">\n            <text class=\"axis-text-y\" text-anchor=\"end\" dy=\"0.35em\">\n            4\n            </text>\n          </g>\n        </g>\n        <g transform=\"translate(0.0 46.35777251812206 ) \">\n          <g transform=\"translate(-3.0 0.0 ) \">\n            <text class=\"axis-text-y\" text-anchor=\"end\" dy=\"0.35em\">\n            r\n            </text>\n          </g>\n        </g>\n      </g>\n      <g transform=\"translate(13.980605455468202 0.0 ) \" clip-path=\"url(#c9FcnHw)\" clip-bounds-jfx=\"[rect (0.0, 0.0), (490.06788090586133, 225.16632365944983)]\">\n        <defs>\n          <clipPath id=\"c9FcnHw\">\n            <rect x=\"0.0\" y=\"0.0\" width=\"490.06788090586133\" height=\"225.16632365944983\">\n            </rect>\n          </clipPath>\n        </defs>\n        <g>\n          \n          <g >\n            <rect fill=\"#3d82bb\" stroke=\"#000000\" stroke-opacity=\"0.0\" stroke-width=\"1.6500000000000001\" x=\"13.24507786232057\" y=\"145.69585648552638\" height=\"66.2253893116029\" width=\"66.22538931160288\" />\n            <rect fill=\"#1d4264\" stroke=\"#000000\" stroke-opacity=\"0.0\" stroke-width=\"1.6500000000000001\" x=\"13.24507786232057\" y=\"79.47046717392351\" height=\"66.22538931160287\" width=\"66.22538931160288\" />\n            <rect fill=\"#132a42\" stroke=\"#000000\" stroke-opacity=\"0.0\" stroke-width=\"1.6500000000000001\" x=\"79.47046717392345\" y=\"79.47046717392351\" height=\"66.22538931160287\" width=\"66.22538931160287\" />\n            <rect fill=\"#1c3f60\" stroke=\"#000000\" stroke-opacity=\"0.0\" stroke-width=\"1.6500000000000001\" x=\"145.69585648552632\" y=\"13.245077862320613\" height=\"66.2253893116029\" width=\"66.2253893116029\" />\n            <rect fill=\"#15304a\" stroke=\"#000000\" stroke-opacity=\"0.0\" stroke-width=\"1.6500000000000001\" x=\"211.92124579712922\" y=\"13.245077862320613\" height=\"66.2253893116029\" width=\"66.22538931160287\" />\n            <rect fill=\"#57b1f7\" stroke=\"#000000\" stroke-opacity=\"0.0\" stroke-width=\"1.6500000000000001\" x=\"145.69585648552632\" y=\"79.47046717392351\" height=\"66.22538931160287\" width=\"66.2253893116029\" />\n            <rect fill=\"#428ac6\" stroke=\"#000000\" stroke-opacity=\"0.0\" stroke-width=\"1.6500000000000001\" x=\"79.47046717392345\" y=\"145.69585648552638\" height=\"66.2253893116029\" width=\"66.22538931160287\" />\n            <rect fill=\"#1c3f60\" stroke=\"#000000\" stroke-opacity=\"0.0\" stroke-width=\"1.6500000000000001\" x=\"278.1466351087321\" y=\"145.69585648552638\" height=\"66.2253893116029\" width=\"66.2253893116029\" />\n            <rect fill=\"#3a7cb3\" stroke=\"#000000\" stroke-opacity=\"0.0\" stroke-width=\"1.6500000000000001\" x=\"344.372024420335\" y=\"79.47046717392351\" height=\"66.22538931160287\" width=\"66.2253893116029\" />\n            <rect fill=\"#1a3a59\" stroke=\"#000000\" stroke-opacity=\"0.0\" stroke-width=\"1.6500000000000001\" x=\"410.5974137319379\" y=\"13.245077862320613\" height=\"66.2253893116029\" width=\"66.2253893116029\" />\n            <rect fill=\"#2a5d8a\" stroke=\"#000000\" stroke-opacity=\"0.0\" stroke-width=\"1.6500000000000001\" x=\"410.5974137319379\" y=\"145.69585648552638\" height=\"66.2253893116029\" width=\"66.2253893116029\" />\n            <rect fill=\"#142d46\" stroke=\"#000000\" stroke-opacity=\"0.0\" stroke-width=\"1.6500000000000001\" x=\"410.5974137319379\" y=\"79.47046717392351\" height=\"66.22538931160287\" width=\"66.2253893116029\" />\n          </g>\n        </g>\n      </g>\n    </g>\n    <g transform=\"translate(36.9806054554682 54.81683817027509 ) \">\n      <text class=\"plot-title\" y=\"0.0\">\n      `statCount2D()` + `tile()` layer\n      </text>\n    </g>\n    <g transform=\"translate(14.5 186.2 ) rotate(-90.0 ) \">\n      <text class=\"axis-title-y\" y=\"0.0\" text-anchor=\"middle\">\n      y\n      </text>\n    </g>\n    <g transform=\"translate(282.0145459083989 351.88316182972494 ) \">\n      <text class=\"axis-title-x\" y=\"0.0\" text-anchor=\"middle\">\n      x\n      </text>\n    </g>\n    <g transform=\"translate(537.0484863613295 107.44999999999999 ) \">\n      <rect x=\"5.0\" y=\"5.0\" height=\"147.5\" width=\"52.951513638670505\" stroke=\"rgb(71,71,71)\" stroke-opacity=\"1.0\" stroke-width=\"0.0\" fill=\"rgb(255,255,255)\" fill-opacity=\"1.0\">\n      </rect>\n      <g transform=\"translate(10.0 10.0 ) \">\n        <g transform=\"translate(0.0 10.5 ) \">\n          <text class=\"legend-title\" y=\"0.0\">\n          count\n          </text>\n        </g>\n        <g transform=\"translate(0.0 22.5 ) \">\n          <g>\n            <rect x=\"0.0\" y=\"0.0\" height=\"115.0\" width=\"23.0\" stroke-width=\"0.0\" fill=\"rgb(85,174,243)\" fill-opacity=\"1.0\">\n            </rect>\n            <rect x=\"0.0\" y=\"7.55\" height=\"107.45\" width=\"23.0\" stroke-width=\"0.0\" fill=\"rgb(81,166,234)\" fill-opacity=\"1.0\">\n            </rect>\n            <rect x=\"0.0\" y=\"13.1\" height=\"101.9\" width=\"23.0\" stroke-width=\"0.0\" fill=\"rgb(77,159,225)\" fill-opacity=\"1.0\">\n            </rect>\n            <rect x=\"0.0\" y=\"18.65\" height=\"96.35\" width=\"23.0\" stroke-width=\"0.0\" fill=\"rgb(73,152,216)\" fill-opacity=\"1.0\">\n            </rect>\n            <rect x=\"0.0\" y=\"24.2\" height=\"90.8\" width=\"23.0\" stroke-width=\"0.0\" fill=\"rgb(69,145,207)\" fill-opacity=\"1.0\">\n            </rect>\n            <rect x=\"0.0\" y=\"29.75\" height=\"85.25\" width=\"23.0\" stroke-width=\"0.0\" fill=\"rgb(65,138,198)\" fill-opacity=\"1.0\">\n            </rect>\n            <rect x=\"0.0\" y=\"35.3\" height=\"79.7\" width=\"23.0\" stroke-width=\"0.0\" fill=\"rgb(62,131,189)\" fill-opacity=\"1.0\">\n            </rect>\n            <rect x=\"0.0\" y=\"40.849999999999994\" height=\"74.15\" width=\"23.0\" stroke-width=\"0.0\" fill=\"rgb(58,124,179)\" fill-opacity=\"1.0\">\n            </rect>\n            <rect x=\"0.0\" y=\"46.39999999999999\" height=\"68.60000000000001\" width=\"23.0\" stroke-width=\"0.0\" fill=\"rgb(55,117,170)\" fill-opacity=\"1.0\">\n            </rect>\n            <rect x=\"0.0\" y=\"51.94999999999999\" height=\"63.05000000000001\" width=\"23.0\" stroke-width=\"0.0\" fill=\"rgb(51,110,161)\" fill-opacity=\"1.0\">\n            </rect>\n            <rect x=\"0.0\" y=\"57.499999999999986\" height=\"57.500000000000014\" width=\"23.0\" stroke-width=\"0.0\" fill=\"rgb(48,103,152)\" fill-opacity=\"1.0\">\n            </rect>\n            <rect x=\"0.0\" y=\"63.04999999999998\" height=\"51.95000000000002\" width=\"23.0\" stroke-width=\"0.0\" fill=\"rgb(44,97,143)\" fill-opacity=\"1.0\">\n            </rect>\n            <rect x=\"0.0\" y=\"68.59999999999998\" height=\"46.40000000000002\" width=\"23.0\" stroke-width=\"0.0\" fill=\"rgb(41,90,134)\" fill-opacity=\"1.0\">\n            </rect>\n            <rect x=\"0.0\" y=\"74.14999999999998\" height=\"40.85000000000002\" width=\"23.0\" stroke-width=\"0.0\" fill=\"rgb(38,83,125)\" fill-opacity=\"1.0\">\n            </rect>\n            <rect x=\"0.0\" y=\"79.69999999999997\" height=\"35.300000000000026\" width=\"23.0\" stroke-width=\"0.0\" fill=\"rgb(35,77,116)\" fill-opacity=\"1.0\">\n            </rect>\n            <rect x=\"0.0\" y=\"85.24999999999997\" height=\"29.75000000000003\" width=\"23.0\" stroke-width=\"0.0\" fill=\"rgb(32,70,107)\" fill-opacity=\"1.0\">\n            </rect>\n            <rect x=\"0.0\" y=\"90.79999999999997\" height=\"24.20000000000003\" width=\"23.0\" stroke-width=\"0.0\" fill=\"rgb(29,64,98)\" fill-opacity=\"1.0\">\n            </rect>\n            <rect x=\"0.0\" y=\"96.34999999999997\" height=\"18.650000000000034\" width=\"23.0\" stroke-width=\"0.0\" fill=\"rgb(26,58,89)\" fill-opacity=\"1.0\">\n            </rect>\n            <rect x=\"0.0\" y=\"101.89999999999996\" height=\"13.100000000000037\" width=\"23.0\" stroke-width=\"0.0\" fill=\"rgb(23,52,80)\" fill-opacity=\"1.0\">\n            </rect>\n            <rect x=\"0.0\" y=\"107.44999999999996\" height=\"7.55000000000004\" width=\"23.0\" stroke-width=\"0.0\" fill=\"rgb(20,45,71)\" fill-opacity=\"1.0\">\n            </rect>\n            <line x1=\"0.0\" y1=\"96.8125\" x2=\"4.6\" y2=\"96.8125\" stroke-width=\"1.0\" stroke=\"rgb(255,255,255)\" stroke-opacity=\"1.0\">\n            </line>\n            <line x1=\"18.4\" y1=\"96.8125\" x2=\"23.0\" y2=\"96.8125\" stroke-width=\"1.0\" stroke=\"rgb(255,255,255)\" stroke-opacity=\"1.0\">\n            </line>\n            <g transform=\"translate(26.9903027277341 101.3625 ) \">\n              <text class=\"legend-item\" y=\"0.0\">\n              10\n              </text>\n            </g>\n            <line x1=\"0.0\" y1=\"73.6875\" x2=\"4.6\" y2=\"73.6875\" stroke-width=\"1.0\" stroke=\"rgb(255,255,255)\" stroke-opacity=\"1.0\">\n            </line>\n            <line x1=\"18.4\" y1=\"73.6875\" x2=\"23.0\" y2=\"73.6875\" stroke-width=\"1.0\" stroke=\"rgb(255,255,255)\" stroke-opacity=\"1.0\">\n            </line>\n            <g transform=\"translate(26.9903027277341 78.2375 ) \">\n              <text class=\"legend-item\" y=\"0.0\">\n              20\n              </text>\n            </g>\n            <line x1=\"0.0\" y1=\"50.5625\" x2=\"4.6\" y2=\"50.5625\" stroke-width=\"1.0\" stroke=\"rgb(255,255,255)\" stroke-opacity=\"1.0\">\n            </line>\n            <line x1=\"18.4\" y1=\"50.5625\" x2=\"23.0\" y2=\"50.5625\" stroke-width=\"1.0\" stroke=\"rgb(255,255,255)\" stroke-opacity=\"1.0\">\n            </line>\n            <g transform=\"translate(26.9903027277341 55.1125 ) \">\n              <text class=\"legend-item\" y=\"0.0\">\n              30\n              </text>\n            </g>\n            <line x1=\"0.0\" y1=\"27.4375\" x2=\"4.6\" y2=\"27.4375\" stroke-width=\"1.0\" stroke=\"rgb(255,255,255)\" stroke-opacity=\"1.0\">\n            </line>\n            <line x1=\"18.4\" y1=\"27.4375\" x2=\"23.0\" y2=\"27.4375\" stroke-width=\"1.0\" stroke=\"rgb(255,255,255)\" stroke-opacity=\"1.0\">\n            </line>\n            <g transform=\"translate(26.9903027277341 31.987499999999997 ) \">\n              <text class=\"legend-item\" y=\"0.0\">\n              40\n              </text>\n            </g>\n            <line x1=\"0.0\" y1=\"4.3125\" x2=\"4.6\" y2=\"4.3125\" stroke-width=\"1.0\" stroke=\"rgb(255,255,255)\" stroke-opacity=\"1.0\">\n            </line>\n            <line x1=\"18.4\" y1=\"4.3125\" x2=\"23.0\" y2=\"4.3125\" stroke-width=\"1.0\" stroke=\"rgb(255,255,255)\" stroke-opacity=\"1.0\">\n            </line>\n            <g transform=\"translate(26.9903027277341 8.862499999999999 ) \">\n              <text class=\"legend-item\" y=\"0.0\">\n              50\n              </text>\n            </g>\n          </g>\n        </g>\n      </g>\n    </g>\n  </g>\n  <g id=\"dVfTMK0\">\n  </g>\n</svg>\n        <script>document.getElementById(\"3b84016b-1595-4722-8b5c-1af04f2c7626\").style.display = \"none\";</script>",
      "application/plot+json": {
       "output_type": "lets_plot_spec",
       "output": {
        "ggtitle": {
         "text": "`statCount2D()` + `tile()` layer"
        },
        "mapping": {},
        "data": {},
        "kind": "plot",
        "scales": [
         {
          "aesthetic": "x",
          "discrete": true
         },
         {
          "aesthetic": "y",
          "discrete": true
         },
         {
          "aesthetic": "fill",
          "scale_mapper_kind": "color_gradient",
          "limits": [
           null,
           null
          ]
         }
        ],
        "layers": [
         {
          "mapping": {
           "x": "x",
           "y": "y",
           "fill": "count"
          },
          "stat": "identity",
          "data": {
           "x": [
            "compact",
            "compact",
            "midsize",
            "suv",
            "2seater",
            "suv",
            "midsize",
            "minivan",
            "pickup",
            "subcompact",
            "subcompact",
            "subcompact"
           ],
           "count": [
            35.0,
            12.0,
            3.0,
            11.0,
            5.0,
            51.0,
            38.0,
            11.0,
            33.0,
            9.0,
            22.0,
            4.0
           ],
           "y": [
            "f",
            "4",
            "4",
            "r",
            "r",
            "4",
            "f",
            "f",
            "4",
            "r",
            "f",
            "4"
           ]
          },
          "sampling": "none",
          "position": "identity",
          "geom": "tile"
         }
        ]
       },
       "apply_color_scheme": true,
       "swing_enabled": true
      }
     },
     "execution_count": 6,
     "metadata": {},
     "output_type": "execute_result"
    }
   ],
   "source": [
    "val statCount2DAndTilePlot = mpgDF.plot {\n",
    "    statCount2D(\"class\", \"drv\") {\n",
    "        tile {\n",
    "            x(Stat.x)\n",
    "            y(Stat.y)\n",
    "            fillColor(Stat.count)\n",
    "        }\n",
    "    }\n",
    "    layout.title = \"`statCount2D()` + `tile()` layer\"\n",
    "}\n",
    "statCount2DAndTilePlot"
   ],
   "metadata": {
    "collapsed": false,
    "ExecuteTime": {
     "end_time": "2023-10-19T12:05:36.855785Z",
     "start_time": "2023-10-19T12:05:36.597032Z"
    }
   }
  },
  {
   "cell_type": "markdown",
   "source": [
    "But we can do it even faster with `heatmap(statCount2DArgs)` method:"
   ],
   "metadata": {
    "collapsed": false
   }
  },
  {
   "cell_type": "code",
   "execution_count": 7,
   "outputs": [
    {
     "data": {
      "text/html": "            <script type=\"text/javascript\" data-lets-plot-script=\"library\" src=\"https://cdn.jsdelivr.net/gh/JetBrains/lets-plot@v4.0.0/js-package/distr/lets-plot.min.js\"></script>    \n               <div id=\"5dTtqH\"></div>\n   <script type=\"text/javascript\" data-lets-plot-script=\"plot\">\n       var plotSpec={\n\"ggtitle\":{\n\"text\":\"`heatmap()` layer\"\n},\n\"mapping\":{\n},\n\"data\":{\n},\n\"kind\":\"plot\",\n\"scales\":[{\n\"aesthetic\":\"x\",\n\"name\":\"class\",\n\"limits\":[null,null]\n},{\n\"aesthetic\":\"y\",\n\"name\":\"drv\",\n\"limits\":[null,null]\n},{\n\"aesthetic\":\"x\",\n\"discrete\":true\n},{\n\"aesthetic\":\"y\",\n\"discrete\":true\n},{\n\"aesthetic\":\"fill\",\n\"scale_mapper_kind\":\"color_gradient\",\n\"limits\":[null,null]\n}],\n\"layers\":[{\n\"mapping\":{\n\"x\":\"x\",\n\"y\":\"y\",\n\"fill\":\"count\"\n},\n\"stat\":\"identity\",\n\"data\":{\n\"count\":[35.0,12.0,3.0,11.0,5.0,51.0,38.0,11.0,33.0,9.0,22.0,4.0],\n\"x\":[\"compact\",\"compact\",\"midsize\",\"suv\",\"2seater\",\"suv\",\"midsize\",\"minivan\",\"pickup\",\"subcompact\",\"subcompact\",\"subcompact\"],\n\"y\":[\"f\",\"4\",\"4\",\"r\",\"r\",\"4\",\"f\",\"f\",\"4\",\"r\",\"f\",\"4\"]\n},\n\"sampling\":\"none\",\n\"position\":\"identity\",\n\"geom\":\"tile\"\n}]\n};\n       var plotContainer = document.getElementById(\"5dTtqH\");\n       LetsPlot.buildPlotFromProcessedSpecs(plotSpec, -1, -1, plotContainer);\n   </script>            \n        <svg id=58a41e5f-1d59-4dfe-a810-16fd7c04e7f4 xmlns=\"http://www.w3.org/2000/svg\" xmlns:xlink=\"http://www.w3.org/1999/xlink\" class=\"plt-container\" width=\"600.0\" height=\"400.0\">\n  <style type=\"text/css\">\n  .plt-container {\n   font-family: Lucida Grande, sans-serif;\n   user-select: none;\n   -webkit-user-select: none;\n   -moz-user-select: none;\n   -ms-user-select: none;\n}\ntext {\n   text-rendering: optimizeLegibility;\n}\n#pSnmDHo .plot-title {\n   fill: #474747;\n   font-family: Lucida Grande, sans-serif;\n   font-size: 16.0px;\n   font-weight: normal;\n   font-style: normal;   \n}\n#pSnmDHo .plot-subtitle {\n   fill: #474747;\n   font-family: Lucida Grande, sans-serif;\n   font-size: 15.0px;\n   font-weight: normal;\n   font-style: normal;   \n}\n#pSnmDHo .plot-caption {\n   fill: #474747;\n   font-family: Lucida Grande, sans-serif;\n   font-size: 13.0px;\n   font-weight: normal;\n   font-style: normal;   \n}\n#pSnmDHo .legend-title {\n   fill: #474747;\n   font-family: Lucida Grande, sans-serif;\n   font-size: 15.0px;\n   font-weight: normal;\n   font-style: normal;   \n}\n#pSnmDHo .legend-item {\n   fill: #474747;\n   font-family: Lucida Grande, sans-serif;\n   font-size: 13.0px;\n   font-weight: normal;\n   font-style: normal;   \n}\n#pSnmDHo .axis-title-x {\n   fill: #474747;\n   font-family: Lucida Grande, sans-serif;\n   font-size: 15.0px;\n   font-weight: normal;\n   font-style: normal;   \n}\n#pSnmDHo .axis-text-x {\n   fill: #474747;\n   font-family: Lucida Grande, sans-serif;\n   font-size: 13.0px;\n   font-weight: normal;\n   font-style: normal;   \n}\n#dx3jJyT .axis-tooltip-text-x {\n   fill: #ffffff;\n   font-family: Lucida Grande, sans-serif;\n   font-size: 13.0px;\n   font-weight: normal;\n   font-style: normal;   \n}\n#pSnmDHo .axis-title-y {\n   fill: #474747;\n   font-family: Lucida Grande, sans-serif;\n   font-size: 15.0px;\n   font-weight: normal;\n   font-style: normal;   \n}\n#pSnmDHo .axis-text-y {\n   fill: #474747;\n   font-family: Lucida Grande, sans-serif;\n   font-size: 13.0px;\n   font-weight: normal;\n   font-style: normal;   \n}\n#dx3jJyT .axis-tooltip-text-y {\n   fill: #ffffff;\n   font-family: Lucida Grande, sans-serif;\n   font-size: 13.0px;\n   font-weight: normal;\n   font-style: normal;   \n}\n#pSnmDHo .facet-strip-text-x {\n   fill: #474747;\n   font-family: Lucida Grande, sans-serif;\n   font-size: 13.0px;\n   font-weight: normal;\n   font-style: normal;   \n}\n#pSnmDHo .facet-strip-text-y {\n   fill: #474747;\n   font-family: Lucida Grande, sans-serif;\n   font-size: 13.0px;\n   font-weight: normal;\n   font-style: normal;   \n}\n#dx3jJyT .tooltip-text {\n   fill: #474747;\n   font-family: Lucida Grande, sans-serif;\n   font-size: 13.0px;\n   font-weight: normal;\n   font-style: normal;   \n}\n#dx3jJyT .tooltip-title {\n   fill: #474747;\n   font-family: Lucida Grande, sans-serif;\n   font-size: 13.0px;\n   font-weight: bold;\n   font-style: normal;   \n}\n#dx3jJyT .tooltip-label {\n   fill: #474747;\n   font-family: Lucida Grande, sans-serif;\n   font-size: 13.0px;\n   font-weight: bold;\n   font-style: normal;   \n}\n\n  </style>\n  <g id=\"pSnmDHo\">\n    <rect x=\"0.0\" y=\"0.0\" height=\"400.0\" width=\"600.0\" stroke=\"rgb(71,71,71)\" stroke-opacity=\"1.0\" stroke-width=\"0.0\" fill=\"rgb(255,255,255)\" fill-opacity=\"1.0\">\n    </rect>\n    <g transform=\"translate(23.0 73.61683817027509 ) \">\n      <g transform=\"translate(13.980605455468202 225.16632365944983 ) \">\n        <line x1=\"46.35777251812201\" y1=\"-0.0\" x2=\"46.35777251812201\" y2=\"-225.16632365944983\" stroke=\"rgb(233,233,233)\" stroke-opacity=\"1.0\" stroke-width=\"1.0\">\n        </line>\n        <line x1=\"112.5831618297249\" y1=\"-0.0\" x2=\"112.5831618297249\" y2=\"-225.16632365944983\" stroke=\"rgb(233,233,233)\" stroke-opacity=\"1.0\" stroke-width=\"1.0\">\n        </line>\n        <line x1=\"178.80855114132777\" y1=\"-0.0\" x2=\"178.80855114132777\" y2=\"-225.16632365944983\" stroke=\"rgb(233,233,233)\" stroke-opacity=\"1.0\" stroke-width=\"1.0\">\n        </line>\n        <line x1=\"245.03394045293064\" y1=\"-0.0\" x2=\"245.03394045293064\" y2=\"-225.16632365944983\" stroke=\"rgb(233,233,233)\" stroke-opacity=\"1.0\" stroke-width=\"1.0\">\n        </line>\n        <line x1=\"311.25932976453356\" y1=\"-0.0\" x2=\"311.25932976453356\" y2=\"-225.16632365944983\" stroke=\"rgb(233,233,233)\" stroke-opacity=\"1.0\" stroke-width=\"1.0\">\n        </line>\n        <line x1=\"377.48471907613646\" y1=\"-0.0\" x2=\"377.48471907613646\" y2=\"-225.16632365944983\" stroke=\"rgb(233,233,233)\" stroke-opacity=\"1.0\" stroke-width=\"1.0\">\n        </line>\n        <line x1=\"443.7101083877393\" y1=\"-0.0\" x2=\"443.7101083877393\" y2=\"-225.16632365944983\" stroke=\"rgb(233,233,233)\" stroke-opacity=\"1.0\" stroke-width=\"1.0\">\n        </line>\n        <g transform=\"translate(46.35777251812201 0.0 ) \">\n          <line stroke-width=\"1.0\" stroke=\"rgb(71,71,71)\" stroke-opacity=\"1.0\" x2=\"0.0\" y2=\"4.0\">\n          </line>\n          <g transform=\"translate(0.0 7.0 ) \">\n            <text class=\"axis-text-x\" text-anchor=\"middle\" dy=\"0.7em\">\n            compact\n            </text>\n          </g>\n        </g>\n        <g transform=\"translate(112.5831618297249 0.0 ) \">\n          <line stroke-width=\"1.0\" stroke=\"rgb(71,71,71)\" stroke-opacity=\"1.0\" x2=\"0.0\" y2=\"4.0\">\n          </line>\n          <g transform=\"translate(0.0 22.6 ) \">\n            <text class=\"axis-text-x\" text-anchor=\"middle\" dy=\"0.7em\">\n            midsize\n            </text>\n          </g>\n        </g>\n        <g transform=\"translate(178.80855114132777 0.0 ) \">\n          <line stroke-width=\"1.0\" stroke=\"rgb(71,71,71)\" stroke-opacity=\"1.0\" x2=\"0.0\" y2=\"4.0\">\n          </line>\n          <g transform=\"translate(0.0 7.0 ) \">\n            <text class=\"axis-text-x\" text-anchor=\"middle\" dy=\"0.7em\">\n            suv\n            </text>\n          </g>\n        </g>\n        <g transform=\"translate(245.03394045293064 0.0 ) \">\n          <line stroke-width=\"1.0\" stroke=\"rgb(71,71,71)\" stroke-opacity=\"1.0\" x2=\"0.0\" y2=\"4.0\">\n          </line>\n          <g transform=\"translate(0.0 22.6 ) \">\n            <text class=\"axis-text-x\" text-anchor=\"middle\" dy=\"0.7em\">\n            2seater\n            </text>\n          </g>\n        </g>\n        <g transform=\"translate(311.25932976453356 0.0 ) \">\n          <line stroke-width=\"1.0\" stroke=\"rgb(71,71,71)\" stroke-opacity=\"1.0\" x2=\"0.0\" y2=\"4.0\">\n          </line>\n          <g transform=\"translate(0.0 7.0 ) \">\n            <text class=\"axis-text-x\" text-anchor=\"middle\" dy=\"0.7em\">\n            minivan\n            </text>\n          </g>\n        </g>\n        <g transform=\"translate(377.48471907613646 0.0 ) \">\n          <line stroke-width=\"1.0\" stroke=\"rgb(71,71,71)\" stroke-opacity=\"1.0\" x2=\"0.0\" y2=\"4.0\">\n          </line>\n          <g transform=\"translate(0.0 22.6 ) \">\n            <text class=\"axis-text-x\" text-anchor=\"middle\" dy=\"0.7em\">\n            pickup\n            </text>\n          </g>\n        </g>\n        <g transform=\"translate(443.7101083877393 0.0 ) \">\n          <line stroke-width=\"1.0\" stroke=\"rgb(71,71,71)\" stroke-opacity=\"1.0\" x2=\"0.0\" y2=\"4.0\">\n          </line>\n          <g transform=\"translate(0.0 7.0 ) \">\n            <text class=\"axis-text-x\" text-anchor=\"middle\" dy=\"0.7em\">\n            subcompact\n            </text>\n          </g>\n        </g>\n        <line x1=\"0.0\" y1=\"0.0\" x2=\"490.06788090586133\" y2=\"0.0\" stroke-width=\"1.0\" stroke=\"rgb(71,71,71)\" stroke-opacity=\"1.0\">\n        </line>\n      </g>\n      <g transform=\"translate(13.980605455468202 0.0 ) \">\n        <line x1=\"0.0\" y1=\"178.80855114132783\" x2=\"490.06788090586133\" y2=\"178.80855114132783\" stroke=\"rgb(233,233,233)\" stroke-opacity=\"1.0\" stroke-width=\"1.0\">\n        </line>\n        <line x1=\"0.0\" y1=\"112.58316182972494\" x2=\"490.06788090586133\" y2=\"112.58316182972494\" stroke=\"rgb(233,233,233)\" stroke-opacity=\"1.0\" stroke-width=\"1.0\">\n        </line>\n        <line x1=\"0.0\" y1=\"46.35777251812206\" x2=\"490.06788090586133\" y2=\"46.35777251812206\" stroke=\"rgb(233,233,233)\" stroke-opacity=\"1.0\" stroke-width=\"1.0\">\n        </line>\n        <g transform=\"translate(0.0 178.80855114132783 ) \">\n          <g transform=\"translate(-3.0 0.0 ) \">\n            <text class=\"axis-text-y\" text-anchor=\"end\" dy=\"0.35em\">\n            f\n            </text>\n          </g>\n        </g>\n        <g transform=\"translate(0.0 112.58316182972494 ) \">\n          <g transform=\"translate(-3.0 0.0 ) \">\n            <text class=\"axis-text-y\" text-anchor=\"end\" dy=\"0.35em\">\n            4\n            </text>\n          </g>\n        </g>\n        <g transform=\"translate(0.0 46.35777251812206 ) \">\n          <g transform=\"translate(-3.0 0.0 ) \">\n            <text class=\"axis-text-y\" text-anchor=\"end\" dy=\"0.35em\">\n            r\n            </text>\n          </g>\n        </g>\n      </g>\n      <g transform=\"translate(13.980605455468202 0.0 ) \" clip-path=\"url(#cXeeLfZ)\" clip-bounds-jfx=\"[rect (0.0, 0.0), (490.06788090586133, 225.16632365944983)]\">\n        <defs>\n          <clipPath id=\"cXeeLfZ\">\n            <rect x=\"0.0\" y=\"0.0\" width=\"490.06788090586133\" height=\"225.16632365944983\">\n            </rect>\n          </clipPath>\n        </defs>\n        <g>\n          \n          <g >\n            <rect fill=\"#3d82bb\" stroke=\"#000000\" stroke-opacity=\"0.0\" stroke-width=\"1.6500000000000001\" x=\"13.24507786232057\" y=\"145.69585648552638\" height=\"66.2253893116029\" width=\"66.22538931160288\" />\n            <rect fill=\"#1d4264\" stroke=\"#000000\" stroke-opacity=\"0.0\" stroke-width=\"1.6500000000000001\" x=\"13.24507786232057\" y=\"79.47046717392351\" height=\"66.22538931160287\" width=\"66.22538931160288\" />\n            <rect fill=\"#132a42\" stroke=\"#000000\" stroke-opacity=\"0.0\" stroke-width=\"1.6500000000000001\" x=\"79.47046717392345\" y=\"79.47046717392351\" height=\"66.22538931160287\" width=\"66.22538931160287\" />\n            <rect fill=\"#1c3f60\" stroke=\"#000000\" stroke-opacity=\"0.0\" stroke-width=\"1.6500000000000001\" x=\"145.69585648552632\" y=\"13.245077862320613\" height=\"66.2253893116029\" width=\"66.2253893116029\" />\n            <rect fill=\"#15304a\" stroke=\"#000000\" stroke-opacity=\"0.0\" stroke-width=\"1.6500000000000001\" x=\"211.92124579712922\" y=\"13.245077862320613\" height=\"66.2253893116029\" width=\"66.22538931160287\" />\n            <rect fill=\"#57b1f7\" stroke=\"#000000\" stroke-opacity=\"0.0\" stroke-width=\"1.6500000000000001\" x=\"145.69585648552632\" y=\"79.47046717392351\" height=\"66.22538931160287\" width=\"66.2253893116029\" />\n            <rect fill=\"#428ac6\" stroke=\"#000000\" stroke-opacity=\"0.0\" stroke-width=\"1.6500000000000001\" x=\"79.47046717392345\" y=\"145.69585648552638\" height=\"66.2253893116029\" width=\"66.22538931160287\" />\n            <rect fill=\"#1c3f60\" stroke=\"#000000\" stroke-opacity=\"0.0\" stroke-width=\"1.6500000000000001\" x=\"278.1466351087321\" y=\"145.69585648552638\" height=\"66.2253893116029\" width=\"66.2253893116029\" />\n            <rect fill=\"#3a7cb3\" stroke=\"#000000\" stroke-opacity=\"0.0\" stroke-width=\"1.6500000000000001\" x=\"344.372024420335\" y=\"79.47046717392351\" height=\"66.22538931160287\" width=\"66.2253893116029\" />\n            <rect fill=\"#1a3a59\" stroke=\"#000000\" stroke-opacity=\"0.0\" stroke-width=\"1.6500000000000001\" x=\"410.5974137319379\" y=\"13.245077862320613\" height=\"66.2253893116029\" width=\"66.2253893116029\" />\n            <rect fill=\"#2a5d8a\" stroke=\"#000000\" stroke-opacity=\"0.0\" stroke-width=\"1.6500000000000001\" x=\"410.5974137319379\" y=\"145.69585648552638\" height=\"66.2253893116029\" width=\"66.2253893116029\" />\n            <rect fill=\"#142d46\" stroke=\"#000000\" stroke-opacity=\"0.0\" stroke-width=\"1.6500000000000001\" x=\"410.5974137319379\" y=\"79.47046717392351\" height=\"66.22538931160287\" width=\"66.2253893116029\" />\n          </g>\n        </g>\n      </g>\n    </g>\n    <g transform=\"translate(36.9806054554682 54.81683817027509 ) \">\n      <text class=\"plot-title\" y=\"0.0\">\n      `heatmap()` layer\n      </text>\n    </g>\n    <g transform=\"translate(14.5 186.2 ) rotate(-90.0 ) \">\n      <text class=\"axis-title-y\" y=\"0.0\" text-anchor=\"middle\">\n      drv\n      </text>\n    </g>\n    <g transform=\"translate(282.0145459083989 351.88316182972494 ) \">\n      <text class=\"axis-title-x\" y=\"0.0\" text-anchor=\"middle\">\n      class\n      </text>\n    </g>\n    <g transform=\"translate(537.0484863613295 107.44999999999999 ) \">\n      <rect x=\"5.0\" y=\"5.0\" height=\"147.5\" width=\"52.951513638670505\" stroke=\"rgb(71,71,71)\" stroke-opacity=\"1.0\" stroke-width=\"0.0\" fill=\"rgb(255,255,255)\" fill-opacity=\"1.0\">\n      </rect>\n      <g transform=\"translate(10.0 10.0 ) \">\n        <g transform=\"translate(0.0 10.5 ) \">\n          <text class=\"legend-title\" y=\"0.0\">\n          count\n          </text>\n        </g>\n        <g transform=\"translate(0.0 22.5 ) \">\n          <g>\n            <rect x=\"0.0\" y=\"0.0\" height=\"115.0\" width=\"23.0\" stroke-width=\"0.0\" fill=\"rgb(85,174,243)\" fill-opacity=\"1.0\">\n            </rect>\n            <rect x=\"0.0\" y=\"7.55\" height=\"107.45\" width=\"23.0\" stroke-width=\"0.0\" fill=\"rgb(81,166,234)\" fill-opacity=\"1.0\">\n            </rect>\n            <rect x=\"0.0\" y=\"13.1\" height=\"101.9\" width=\"23.0\" stroke-width=\"0.0\" fill=\"rgb(77,159,225)\" fill-opacity=\"1.0\">\n            </rect>\n            <rect x=\"0.0\" y=\"18.65\" height=\"96.35\" width=\"23.0\" stroke-width=\"0.0\" fill=\"rgb(73,152,216)\" fill-opacity=\"1.0\">\n            </rect>\n            <rect x=\"0.0\" y=\"24.2\" height=\"90.8\" width=\"23.0\" stroke-width=\"0.0\" fill=\"rgb(69,145,207)\" fill-opacity=\"1.0\">\n            </rect>\n            <rect x=\"0.0\" y=\"29.75\" height=\"85.25\" width=\"23.0\" stroke-width=\"0.0\" fill=\"rgb(65,138,198)\" fill-opacity=\"1.0\">\n            </rect>\n            <rect x=\"0.0\" y=\"35.3\" height=\"79.7\" width=\"23.0\" stroke-width=\"0.0\" fill=\"rgb(62,131,189)\" fill-opacity=\"1.0\">\n            </rect>\n            <rect x=\"0.0\" y=\"40.849999999999994\" height=\"74.15\" width=\"23.0\" stroke-width=\"0.0\" fill=\"rgb(58,124,179)\" fill-opacity=\"1.0\">\n            </rect>\n            <rect x=\"0.0\" y=\"46.39999999999999\" height=\"68.60000000000001\" width=\"23.0\" stroke-width=\"0.0\" fill=\"rgb(55,117,170)\" fill-opacity=\"1.0\">\n            </rect>\n            <rect x=\"0.0\" y=\"51.94999999999999\" height=\"63.05000000000001\" width=\"23.0\" stroke-width=\"0.0\" fill=\"rgb(51,110,161)\" fill-opacity=\"1.0\">\n            </rect>\n            <rect x=\"0.0\" y=\"57.499999999999986\" height=\"57.500000000000014\" width=\"23.0\" stroke-width=\"0.0\" fill=\"rgb(48,103,152)\" fill-opacity=\"1.0\">\n            </rect>\n            <rect x=\"0.0\" y=\"63.04999999999998\" height=\"51.95000000000002\" width=\"23.0\" stroke-width=\"0.0\" fill=\"rgb(44,97,143)\" fill-opacity=\"1.0\">\n            </rect>\n            <rect x=\"0.0\" y=\"68.59999999999998\" height=\"46.40000000000002\" width=\"23.0\" stroke-width=\"0.0\" fill=\"rgb(41,90,134)\" fill-opacity=\"1.0\">\n            </rect>\n            <rect x=\"0.0\" y=\"74.14999999999998\" height=\"40.85000000000002\" width=\"23.0\" stroke-width=\"0.0\" fill=\"rgb(38,83,125)\" fill-opacity=\"1.0\">\n            </rect>\n            <rect x=\"0.0\" y=\"79.69999999999997\" height=\"35.300000000000026\" width=\"23.0\" stroke-width=\"0.0\" fill=\"rgb(35,77,116)\" fill-opacity=\"1.0\">\n            </rect>\n            <rect x=\"0.0\" y=\"85.24999999999997\" height=\"29.75000000000003\" width=\"23.0\" stroke-width=\"0.0\" fill=\"rgb(32,70,107)\" fill-opacity=\"1.0\">\n            </rect>\n            <rect x=\"0.0\" y=\"90.79999999999997\" height=\"24.20000000000003\" width=\"23.0\" stroke-width=\"0.0\" fill=\"rgb(29,64,98)\" fill-opacity=\"1.0\">\n            </rect>\n            <rect x=\"0.0\" y=\"96.34999999999997\" height=\"18.650000000000034\" width=\"23.0\" stroke-width=\"0.0\" fill=\"rgb(26,58,89)\" fill-opacity=\"1.0\">\n            </rect>\n            <rect x=\"0.0\" y=\"101.89999999999996\" height=\"13.100000000000037\" width=\"23.0\" stroke-width=\"0.0\" fill=\"rgb(23,52,80)\" fill-opacity=\"1.0\">\n            </rect>\n            <rect x=\"0.0\" y=\"107.44999999999996\" height=\"7.55000000000004\" width=\"23.0\" stroke-width=\"0.0\" fill=\"rgb(20,45,71)\" fill-opacity=\"1.0\">\n            </rect>\n            <line x1=\"0.0\" y1=\"96.8125\" x2=\"4.6\" y2=\"96.8125\" stroke-width=\"1.0\" stroke=\"rgb(255,255,255)\" stroke-opacity=\"1.0\">\n            </line>\n            <line x1=\"18.4\" y1=\"96.8125\" x2=\"23.0\" y2=\"96.8125\" stroke-width=\"1.0\" stroke=\"rgb(255,255,255)\" stroke-opacity=\"1.0\">\n            </line>\n            <g transform=\"translate(26.9903027277341 101.3625 ) \">\n              <text class=\"legend-item\" y=\"0.0\">\n              10\n              </text>\n            </g>\n            <line x1=\"0.0\" y1=\"73.6875\" x2=\"4.6\" y2=\"73.6875\" stroke-width=\"1.0\" stroke=\"rgb(255,255,255)\" stroke-opacity=\"1.0\">\n            </line>\n            <line x1=\"18.4\" y1=\"73.6875\" x2=\"23.0\" y2=\"73.6875\" stroke-width=\"1.0\" stroke=\"rgb(255,255,255)\" stroke-opacity=\"1.0\">\n            </line>\n            <g transform=\"translate(26.9903027277341 78.2375 ) \">\n              <text class=\"legend-item\" y=\"0.0\">\n              20\n              </text>\n            </g>\n            <line x1=\"0.0\" y1=\"50.5625\" x2=\"4.6\" y2=\"50.5625\" stroke-width=\"1.0\" stroke=\"rgb(255,255,255)\" stroke-opacity=\"1.0\">\n            </line>\n            <line x1=\"18.4\" y1=\"50.5625\" x2=\"23.0\" y2=\"50.5625\" stroke-width=\"1.0\" stroke=\"rgb(255,255,255)\" stroke-opacity=\"1.0\">\n            </line>\n            <g transform=\"translate(26.9903027277341 55.1125 ) \">\n              <text class=\"legend-item\" y=\"0.0\">\n              30\n              </text>\n            </g>\n            <line x1=\"0.0\" y1=\"27.4375\" x2=\"4.6\" y2=\"27.4375\" stroke-width=\"1.0\" stroke=\"rgb(255,255,255)\" stroke-opacity=\"1.0\">\n            </line>\n            <line x1=\"18.4\" y1=\"27.4375\" x2=\"23.0\" y2=\"27.4375\" stroke-width=\"1.0\" stroke=\"rgb(255,255,255)\" stroke-opacity=\"1.0\">\n            </line>\n            <g transform=\"translate(26.9903027277341 31.987499999999997 ) \">\n              <text class=\"legend-item\" y=\"0.0\">\n              40\n              </text>\n            </g>\n            <line x1=\"0.0\" y1=\"4.3125\" x2=\"4.6\" y2=\"4.3125\" stroke-width=\"1.0\" stroke=\"rgb(255,255,255)\" stroke-opacity=\"1.0\">\n            </line>\n            <line x1=\"18.4\" y1=\"4.3125\" x2=\"23.0\" y2=\"4.3125\" stroke-width=\"1.0\" stroke=\"rgb(255,255,255)\" stroke-opacity=\"1.0\">\n            </line>\n            <g transform=\"translate(26.9903027277341 8.862499999999999 ) \">\n              <text class=\"legend-item\" y=\"0.0\">\n              50\n              </text>\n            </g>\n          </g>\n        </g>\n      </g>\n    </g>\n  </g>\n  <g id=\"dx3jJyT\">\n  </g>\n</svg>\n        <script>document.getElementById(\"58a41e5f-1d59-4dfe-a810-16fd7c04e7f4\").style.display = \"none\";</script>",
      "application/plot+json": {
       "output_type": "lets_plot_spec",
       "output": {
        "ggtitle": {
         "text": "`heatmap()` layer"
        },
        "mapping": {},
        "data": {},
        "kind": "plot",
        "scales": [
         {
          "aesthetic": "x",
          "name": "class",
          "limits": [
           null,
           null
          ]
         },
         {
          "aesthetic": "y",
          "name": "drv",
          "limits": [
           null,
           null
          ]
         },
         {
          "aesthetic": "x",
          "discrete": true
         },
         {
          "aesthetic": "y",
          "discrete": true
         },
         {
          "aesthetic": "fill",
          "scale_mapper_kind": "color_gradient",
          "limits": [
           null,
           null
          ]
         }
        ],
        "layers": [
         {
          "mapping": {
           "x": "x",
           "y": "y",
           "fill": "count"
          },
          "stat": "identity",
          "data": {
           "x": [
            "compact",
            "compact",
            "midsize",
            "suv",
            "2seater",
            "suv",
            "midsize",
            "minivan",
            "pickup",
            "subcompact",
            "subcompact",
            "subcompact"
           ],
           "count": [
            35.0,
            12.0,
            3.0,
            11.0,
            5.0,
            51.0,
            38.0,
            11.0,
            33.0,
            9.0,
            22.0,
            4.0
           ],
           "y": [
            "f",
            "4",
            "4",
            "r",
            "r",
            "4",
            "f",
            "f",
            "4",
            "r",
            "f",
            "4"
           ]
          },
          "sampling": "none",
          "position": "identity",
          "geom": "tile"
         }
        ]
       },
       "apply_color_scheme": true,
       "swing_enabled": true
      }
     },
     "execution_count": 7,
     "metadata": {},
     "output_type": "execute_result"
    }
   ],
   "source": [
    "val heatmapLayerPlot = df.plot {\n",
    "    heatmap(`class`, drv)\n",
    "    layout.title = \"`heatmap()` layer\"\n",
    "}\n",
    "heatmapLayerPlot"
   ],
   "metadata": {
    "collapsed": false,
    "ExecuteTime": {
     "end_time": "2023-10-19T12:05:37.137852Z",
     "start_time": "2023-10-19T12:05:36.856187Z"
    }
   }
  },
  {
   "cell_type": "markdown",
   "source": [
    "Let's compare them:"
   ],
   "metadata": {
    "collapsed": false
   }
  },
  {
   "cell_type": "code",
   "execution_count": 8,
   "outputs": [
    {
     "data": {
      "text/html": "            <script type=\"text/javascript\" data-lets-plot-script=\"library\" src=\"https://cdn.jsdelivr.net/gh/JetBrains/lets-plot@v4.0.0/js-package/distr/lets-plot.min.js\"></script>    \n               <div id=\"c4gZqa\"></div>\n   <script type=\"text/javascript\" data-lets-plot-script=\"plot\">\n       var plotSpec={\n\"layout\":{\n\"name\":\"grid\",\n\"ncol\":2,\n\"nrow\":1,\n\"fit\":true,\n\"align\":false\n},\n\"figures\":[{\n\"ggtitle\":{\n\"text\":\"`statCount2D()` + `tile()` layer\"\n},\n\"mapping\":{\n},\n\"data\":{\n},\n\"kind\":\"plot\",\n\"scales\":[{\n\"aesthetic\":\"x\",\n\"discrete\":true\n},{\n\"aesthetic\":\"y\",\n\"discrete\":true\n},{\n\"aesthetic\":\"fill\",\n\"scale_mapper_kind\":\"color_gradient\",\n\"limits\":[null,null]\n}],\n\"layers\":[{\n\"mapping\":{\n\"x\":\"x\",\n\"y\":\"y\",\n\"fill\":\"count\"\n},\n\"stat\":\"identity\",\n\"data\":{\n\"x\":[\"compact\",\"compact\",\"midsize\",\"suv\",\"2seater\",\"suv\",\"midsize\",\"minivan\",\"pickup\",\"subcompact\",\"subcompact\",\"subcompact\"],\n\"count\":[35.0,12.0,3.0,11.0,5.0,51.0,38.0,11.0,33.0,9.0,22.0,4.0],\n\"y\":[\"f\",\"4\",\"4\",\"r\",\"r\",\"4\",\"f\",\"f\",\"4\",\"r\",\"f\",\"4\"]\n},\n\"sampling\":\"none\",\n\"position\":\"identity\",\n\"geom\":\"tile\"\n}]\n},{\n\"ggtitle\":{\n\"text\":\"`heatmap()` layer\"\n},\n\"mapping\":{\n},\n\"data\":{\n},\n\"kind\":\"plot\",\n\"scales\":[{\n\"aesthetic\":\"x\",\n\"name\":\"class\",\n\"limits\":[null,null]\n},{\n\"aesthetic\":\"y\",\n\"name\":\"drv\",\n\"limits\":[null,null]\n},{\n\"aesthetic\":\"x\",\n\"discrete\":true\n},{\n\"aesthetic\":\"y\",\n\"discrete\":true\n},{\n\"aesthetic\":\"fill\",\n\"scale_mapper_kind\":\"color_gradient\",\n\"limits\":[null,null]\n}],\n\"layers\":[{\n\"mapping\":{\n\"x\":\"x\",\n\"y\":\"y\",\n\"fill\":\"count\"\n},\n\"stat\":\"identity\",\n\"data\":{\n\"count\":[35.0,12.0,3.0,11.0,5.0,51.0,38.0,11.0,33.0,9.0,22.0,4.0],\n\"x\":[\"compact\",\"compact\",\"midsize\",\"suv\",\"2seater\",\"suv\",\"midsize\",\"minivan\",\"pickup\",\"subcompact\",\"subcompact\",\"subcompact\"],\n\"y\":[\"f\",\"4\",\"4\",\"r\",\"r\",\"4\",\"f\",\"f\",\"4\",\"r\",\"f\",\"4\"]\n},\n\"sampling\":\"none\",\n\"position\":\"identity\",\n\"geom\":\"tile\"\n}]\n}],\n\"kind\":\"subplots\"\n};\n       var plotContainer = document.getElementById(\"c4gZqa\");\n       LetsPlot.buildPlotFromProcessedSpecs(plotSpec, -1, -1, plotContainer);\n   </script>            \n        <svg id=52472ed8-62fe-47a4-ac9d-6594e398a2b0 xmlns=\"http://www.w3.org/2000/svg\" xmlns:xlink=\"http://www.w3.org/1999/xlink\" class=\"plt-container\" width=\"900.0\" height=\"400.0\">\n  <g id=\"pcXSibn\">\n  </g>\n  <svg xmlns=\"http://www.w3.org/2000/svg\" xmlns:xlink=\"http://www.w3.org/1999/xlink\" class=\"plt-container\" width=\"448.0\" height=\"400.0\" x=\"0.0\" y=\"0.0\">\n    <style type=\"text/css\">\n    .plt-container {\n   font-family: Lucida Grande, sans-serif;\n   user-select: none;\n   -webkit-user-select: none;\n   -moz-user-select: none;\n   -ms-user-select: none;\n}\ntext {\n   text-rendering: optimizeLegibility;\n}\n#pbGz4zv .plot-title {\n   fill: #474747;\n   font-family: Lucida Grande, sans-serif;\n   font-size: 16.0px;\n   font-weight: normal;\n   font-style: normal;   \n}\n#pbGz4zv .plot-subtitle {\n   fill: #474747;\n   font-family: Lucida Grande, sans-serif;\n   font-size: 15.0px;\n   font-weight: normal;\n   font-style: normal;   \n}\n#pbGz4zv .plot-caption {\n   fill: #474747;\n   font-family: Lucida Grande, sans-serif;\n   font-size: 13.0px;\n   font-weight: normal;\n   font-style: normal;   \n}\n#pbGz4zv .legend-title {\n   fill: #474747;\n   font-family: Lucida Grande, sans-serif;\n   font-size: 15.0px;\n   font-weight: normal;\n   font-style: normal;   \n}\n#pbGz4zv .legend-item {\n   fill: #474747;\n   font-family: Lucida Grande, sans-serif;\n   font-size: 13.0px;\n   font-weight: normal;\n   font-style: normal;   \n}\n#pbGz4zv .axis-title-x {\n   fill: #474747;\n   font-family: Lucida Grande, sans-serif;\n   font-size: 15.0px;\n   font-weight: normal;\n   font-style: normal;   \n}\n#pbGz4zv .axis-text-x {\n   fill: #474747;\n   font-family: Lucida Grande, sans-serif;\n   font-size: 13.0px;\n   font-weight: normal;\n   font-style: normal;   \n}\n#dhc24aW .axis-tooltip-text-x {\n   fill: #ffffff;\n   font-family: Lucida Grande, sans-serif;\n   font-size: 13.0px;\n   font-weight: normal;\n   font-style: normal;   \n}\n#pbGz4zv .axis-title-y {\n   fill: #474747;\n   font-family: Lucida Grande, sans-serif;\n   font-size: 15.0px;\n   font-weight: normal;\n   font-style: normal;   \n}\n#pbGz4zv .axis-text-y {\n   fill: #474747;\n   font-family: Lucida Grande, sans-serif;\n   font-size: 13.0px;\n   font-weight: normal;\n   font-style: normal;   \n}\n#dhc24aW .axis-tooltip-text-y {\n   fill: #ffffff;\n   font-family: Lucida Grande, sans-serif;\n   font-size: 13.0px;\n   font-weight: normal;\n   font-style: normal;   \n}\n#pbGz4zv .facet-strip-text-x {\n   fill: #474747;\n   font-family: Lucida Grande, sans-serif;\n   font-size: 13.0px;\n   font-weight: normal;\n   font-style: normal;   \n}\n#pbGz4zv .facet-strip-text-y {\n   fill: #474747;\n   font-family: Lucida Grande, sans-serif;\n   font-size: 13.0px;\n   font-weight: normal;\n   font-style: normal;   \n}\n#dhc24aW .tooltip-text {\n   fill: #474747;\n   font-family: Lucida Grande, sans-serif;\n   font-size: 13.0px;\n   font-weight: normal;\n   font-style: normal;   \n}\n#dhc24aW .tooltip-title {\n   fill: #474747;\n   font-family: Lucida Grande, sans-serif;\n   font-size: 13.0px;\n   font-weight: bold;\n   font-style: normal;   \n}\n#dhc24aW .tooltip-label {\n   fill: #474747;\n   font-family: Lucida Grande, sans-serif;\n   font-size: 13.0px;\n   font-weight: bold;\n   font-style: normal;   \n}\n\n    </style>\n    <g id=\"pbGz4zv\">\n      <rect x=\"0.0\" y=\"0.0\" height=\"400.0\" width=\"448.0\" stroke=\"rgb(71,71,71)\" stroke-opacity=\"1.0\" stroke-width=\"0.0\" fill=\"rgb(255,255,255)\" fill-opacity=\"1.0\">\n      </rect>\n      <g transform=\"translate(23.0 82.69385037402921 ) \">\n        <g transform=\"translate(13.980605455468202 155.32848582161196 ) \">\n          <line x1=\"31.979394139743633\" y1=\"-0.0\" x2=\"31.979394139743633\" y2=\"-155.32848582161196\" stroke=\"rgb(233,233,233)\" stroke-opacity=\"1.0\" stroke-width=\"1.0\">\n          </line>\n          <line x1=\"77.66424291080597\" y1=\"-0.0\" x2=\"77.66424291080597\" y2=\"-155.32848582161196\" stroke=\"rgb(233,233,233)\" stroke-opacity=\"1.0\" stroke-width=\"1.0\">\n          </line>\n          <line x1=\"123.3490916818683\" y1=\"-0.0\" x2=\"123.3490916818683\" y2=\"-155.32848582161196\" stroke=\"rgb(233,233,233)\" stroke-opacity=\"1.0\" stroke-width=\"1.0\">\n          </line>\n          <line x1=\"169.03394045293066\" y1=\"-0.0\" x2=\"169.03394045293066\" y2=\"-155.32848582161196\" stroke=\"rgb(233,233,233)\" stroke-opacity=\"1.0\" stroke-width=\"1.0\">\n          </line>\n          <line x1=\"214.71878922399299\" y1=\"-0.0\" x2=\"214.71878922399299\" y2=\"-155.32848582161196\" stroke=\"rgb(233,233,233)\" stroke-opacity=\"1.0\" stroke-width=\"1.0\">\n          </line>\n          <line x1=\"260.4036379950553\" y1=\"-0.0\" x2=\"260.4036379950553\" y2=\"-155.32848582161196\" stroke=\"rgb(233,233,233)\" stroke-opacity=\"1.0\" stroke-width=\"1.0\">\n          </line>\n          <line x1=\"306.0884867661177\" y1=\"-0.0\" x2=\"306.0884867661177\" y2=\"-155.32848582161196\" stroke=\"rgb(233,233,233)\" stroke-opacity=\"1.0\" stroke-width=\"1.0\">\n          </line>\n          <g transform=\"translate(31.979394139743633 0.0 ) \">\n            <line stroke-width=\"1.0\" stroke=\"rgb(71,71,71)\" stroke-opacity=\"1.0\" x2=\"0.0\" y2=\"4.0\">\n            </line>\n            <g transform=\"translate(0.0 7.0 ) rotate(90.0 ) \">\n              <text class=\"axis-text-x\" dy=\"0.35em\">\n              compact\n              </text>\n            </g>\n          </g>\n          <g transform=\"translate(77.66424291080597 0.0 ) \">\n            <line stroke-width=\"1.0\" stroke=\"rgb(71,71,71)\" stroke-opacity=\"1.0\" x2=\"0.0\" y2=\"4.0\">\n            </line>\n            <g transform=\"translate(0.0 7.0 ) rotate(90.0 ) \">\n              <text class=\"axis-text-x\" dy=\"0.35em\">\n              midsize\n              </text>\n            </g>\n          </g>\n          <g transform=\"translate(123.3490916818683 0.0 ) \">\n            <line stroke-width=\"1.0\" stroke=\"rgb(71,71,71)\" stroke-opacity=\"1.0\" x2=\"0.0\" y2=\"4.0\">\n            </line>\n            <g transform=\"translate(0.0 7.0 ) rotate(90.0 ) \">\n              <text class=\"axis-text-x\" dy=\"0.35em\">\n              suv\n              </text>\n            </g>\n          </g>\n          <g transform=\"translate(169.03394045293066 0.0 ) \">\n            <line stroke-width=\"1.0\" stroke=\"rgb(71,71,71)\" stroke-opacity=\"1.0\" x2=\"0.0\" y2=\"4.0\">\n            </line>\n            <g transform=\"translate(0.0 7.0 ) rotate(90.0 ) \">\n              <text class=\"axis-text-x\" dy=\"0.35em\">\n              2seater\n              </text>\n            </g>\n          </g>\n          <g transform=\"translate(214.71878922399299 0.0 ) \">\n            <line stroke-width=\"1.0\" stroke=\"rgb(71,71,71)\" stroke-opacity=\"1.0\" x2=\"0.0\" y2=\"4.0\">\n            </line>\n            <g transform=\"translate(0.0 7.0 ) rotate(90.0 ) \">\n              <text class=\"axis-text-x\" dy=\"0.35em\">\n              minivan\n              </text>\n            </g>\n          </g>\n          <g transform=\"translate(260.4036379950553 0.0 ) \">\n            <line stroke-width=\"1.0\" stroke=\"rgb(71,71,71)\" stroke-opacity=\"1.0\" x2=\"0.0\" y2=\"4.0\">\n            </line>\n            <g transform=\"translate(0.0 7.0 ) rotate(90.0 ) \">\n              <text class=\"axis-text-x\" dy=\"0.35em\">\n              pickup\n              </text>\n            </g>\n          </g>\n          <g transform=\"translate(306.0884867661177 0.0 ) \">\n            <line stroke-width=\"1.0\" stroke=\"rgb(71,71,71)\" stroke-opacity=\"1.0\" x2=\"0.0\" y2=\"4.0\">\n            </line>\n            <g transform=\"translate(0.0 7.0 ) rotate(90.0 ) \">\n              <text class=\"axis-text-x\" dy=\"0.35em\">\n              subcompact\n              </text>\n            </g>\n          </g>\n          <line x1=\"0.0\" y1=\"0.0\" x2=\"338.0678809058613\" y2=\"0.0\" stroke-width=\"1.0\" stroke=\"rgb(71,71,71)\" stroke-opacity=\"1.0\">\n          </line>\n        </g>\n        <g transform=\"translate(13.980605455468202 0.0 ) \">\n          <line x1=\"0.0\" y1=\"123.34909168186833\" x2=\"338.0678809058613\" y2=\"123.34909168186833\" stroke=\"rgb(233,233,233)\" stroke-opacity=\"1.0\" stroke-width=\"1.0\">\n          </line>\n          <line x1=\"0.0\" y1=\"77.664242910806\" x2=\"338.0678809058613\" y2=\"77.664242910806\" stroke=\"rgb(233,233,233)\" stroke-opacity=\"1.0\" stroke-width=\"1.0\">\n          </line>\n          <line x1=\"0.0\" y1=\"31.97939413974366\" x2=\"338.0678809058613\" y2=\"31.97939413974366\" stroke=\"rgb(233,233,233)\" stroke-opacity=\"1.0\" stroke-width=\"1.0\">\n          </line>\n          <g transform=\"translate(0.0 123.34909168186833 ) \">\n            <g transform=\"translate(-3.0 0.0 ) \">\n              <text class=\"axis-text-y\" text-anchor=\"end\" dy=\"0.35em\">\n              f\n              </text>\n            </g>\n          </g>\n          <g transform=\"translate(0.0 77.664242910806 ) \">\n            <g transform=\"translate(-3.0 0.0 ) \">\n              <text class=\"axis-text-y\" text-anchor=\"end\" dy=\"0.35em\">\n              4\n              </text>\n            </g>\n          </g>\n          <g transform=\"translate(0.0 31.97939413974366 ) \">\n            <g transform=\"translate(-3.0 0.0 ) \">\n              <text class=\"axis-text-y\" text-anchor=\"end\" dy=\"0.35em\">\n              r\n              </text>\n            </g>\n          </g>\n        </g>\n        <g transform=\"translate(13.980605455468202 0.0 ) \" clip-path=\"url(#cmOPvLy)\" clip-bounds-jfx=\"[rect (0.0, 0.0), (338.0678809058613, 155.32848582161196)]\">\n          <defs>\n            <clipPath id=\"cmOPvLy\">\n              <rect x=\"0.0\" y=\"0.0\" width=\"338.0678809058613\" height=\"155.32848582161196\">\n              </rect>\n            </clipPath>\n          </defs>\n          <g>\n            \n            <g >\n              <rect fill=\"#3d82bb\" stroke=\"#000000\" stroke-opacity=\"0.0\" stroke-width=\"1.6500000000000001\" x=\"9.136969754212465\" y=\"100.50666729633716\" height=\"45.68484877106235\" width=\"45.684848771062335\" />\n              <rect fill=\"#1d4264\" stroke=\"#000000\" stroke-opacity=\"0.0\" stroke-width=\"1.6500000000000001\" x=\"9.136969754212465\" y=\"54.82181852527482\" height=\"45.684848771062335\" width=\"45.684848771062335\" />\n              <rect fill=\"#132a42\" stroke=\"#000000\" stroke-opacity=\"0.0\" stroke-width=\"1.6500000000000001\" x=\"54.8218185252748\" y=\"54.82181852527482\" height=\"45.684848771062335\" width=\"45.68484877106234\" />\n              <rect fill=\"#1c3f60\" stroke=\"#000000\" stroke-opacity=\"0.0\" stroke-width=\"1.6500000000000001\" x=\"100.50666729633714\" y=\"9.136969754212501\" height=\"45.68484877106232\" width=\"45.684848771062306\" />\n              <rect fill=\"#15304a\" stroke=\"#000000\" stroke-opacity=\"0.0\" stroke-width=\"1.6500000000000001\" x=\"146.19151606739945\" y=\"9.136969754212501\" height=\"45.68484877106232\" width=\"45.68484877106238\" />\n              <rect fill=\"#57b1f7\" stroke=\"#000000\" stroke-opacity=\"0.0\" stroke-width=\"1.6500000000000001\" x=\"100.50666729633714\" y=\"54.82181852527482\" height=\"45.684848771062335\" width=\"45.684848771062306\" />\n              <rect fill=\"#428ac6\" stroke=\"#000000\" stroke-opacity=\"0.0\" stroke-width=\"1.6500000000000001\" x=\"54.8218185252748\" y=\"100.50666729633716\" height=\"45.68484877106235\" width=\"45.68484877106234\" />\n              <rect fill=\"#1c3f60\" stroke=\"#000000\" stroke-opacity=\"0.0\" stroke-width=\"1.6500000000000001\" x=\"191.87636483846183\" y=\"100.50666729633716\" height=\"45.68484877106235\" width=\"45.68484877106232\" />\n              <rect fill=\"#3a7cb3\" stroke=\"#000000\" stroke-opacity=\"0.0\" stroke-width=\"1.6500000000000001\" x=\"237.56121360952415\" y=\"54.82181852527482\" height=\"45.684848771062335\" width=\"45.68484877106232\" />\n              <rect fill=\"#1a3a59\" stroke=\"#000000\" stroke-opacity=\"0.0\" stroke-width=\"1.6500000000000001\" x=\"283.24606238058647\" y=\"9.136969754212501\" height=\"45.68484877106232\" width=\"45.68484877106238\" />\n              <rect fill=\"#2a5d8a\" stroke=\"#000000\" stroke-opacity=\"0.0\" stroke-width=\"1.6500000000000001\" x=\"283.24606238058647\" y=\"100.50666729633716\" height=\"45.68484877106235\" width=\"45.68484877106238\" />\n              <rect fill=\"#142d46\" stroke=\"#000000\" stroke-opacity=\"0.0\" stroke-width=\"1.6500000000000001\" x=\"283.24606238058647\" y=\"54.82181852527482\" height=\"45.684848771062335\" width=\"45.68484877106238\" />\n            </g>\n          </g>\n        </g>\n      </g>\n      <g transform=\"translate(36.9806054554682 63.89385037402921 ) \">\n        <text class=\"plot-title\" y=\"0.0\">\n        `statCount2D()` + `tile()` layer\n        </text>\n      </g>\n      <g transform=\"translate(14.5 160.3580932848352 ) rotate(-90.0 ) \">\n        <text class=\"axis-title-y\" y=\"0.0\" text-anchor=\"middle\">\n        y\n        </text>\n      </g>\n      <g transform=\"translate(206.01454590839884 342.80614962597076 ) \">\n        <text class=\"axis-title-x\" y=\"0.0\" text-anchor=\"middle\">\n        x\n        </text>\n      </g>\n      <g transform=\"translate(385.0484863613295 81.6080932848352 ) \">\n        <rect x=\"5.0\" y=\"5.0\" height=\"147.5\" width=\"52.951513638670505\" stroke=\"rgb(71,71,71)\" stroke-opacity=\"1.0\" stroke-width=\"0.0\" fill=\"rgb(255,255,255)\" fill-opacity=\"1.0\">\n        </rect>\n        <g transform=\"translate(10.0 10.0 ) \">\n          <g transform=\"translate(0.0 10.5 ) \">\n            <text class=\"legend-title\" y=\"0.0\">\n            count\n            </text>\n          </g>\n          <g transform=\"translate(0.0 22.5 ) \">\n            <g>\n              <rect x=\"0.0\" y=\"0.0\" height=\"115.0\" width=\"23.0\" stroke-width=\"0.0\" fill=\"rgb(85,174,243)\" fill-opacity=\"1.0\">\n              </rect>\n              <rect x=\"0.0\" y=\"7.55\" height=\"107.45\" width=\"23.0\" stroke-width=\"0.0\" fill=\"rgb(81,166,234)\" fill-opacity=\"1.0\">\n              </rect>\n              <rect x=\"0.0\" y=\"13.1\" height=\"101.9\" width=\"23.0\" stroke-width=\"0.0\" fill=\"rgb(77,159,225)\" fill-opacity=\"1.0\">\n              </rect>\n              <rect x=\"0.0\" y=\"18.65\" height=\"96.35\" width=\"23.0\" stroke-width=\"0.0\" fill=\"rgb(73,152,216)\" fill-opacity=\"1.0\">\n              </rect>\n              <rect x=\"0.0\" y=\"24.2\" height=\"90.8\" width=\"23.0\" stroke-width=\"0.0\" fill=\"rgb(69,145,207)\" fill-opacity=\"1.0\">\n              </rect>\n              <rect x=\"0.0\" y=\"29.75\" height=\"85.25\" width=\"23.0\" stroke-width=\"0.0\" fill=\"rgb(65,138,198)\" fill-opacity=\"1.0\">\n              </rect>\n              <rect x=\"0.0\" y=\"35.3\" height=\"79.7\" width=\"23.0\" stroke-width=\"0.0\" fill=\"rgb(62,131,189)\" fill-opacity=\"1.0\">\n              </rect>\n              <rect x=\"0.0\" y=\"40.849999999999994\" height=\"74.15\" width=\"23.0\" stroke-width=\"0.0\" fill=\"rgb(58,124,179)\" fill-opacity=\"1.0\">\n              </rect>\n              <rect x=\"0.0\" y=\"46.39999999999999\" height=\"68.60000000000001\" width=\"23.0\" stroke-width=\"0.0\" fill=\"rgb(55,117,170)\" fill-opacity=\"1.0\">\n              </rect>\n              <rect x=\"0.0\" y=\"51.94999999999999\" height=\"63.05000000000001\" width=\"23.0\" stroke-width=\"0.0\" fill=\"rgb(51,110,161)\" fill-opacity=\"1.0\">\n              </rect>\n              <rect x=\"0.0\" y=\"57.499999999999986\" height=\"57.500000000000014\" width=\"23.0\" stroke-width=\"0.0\" fill=\"rgb(48,103,152)\" fill-opacity=\"1.0\">\n              </rect>\n              <rect x=\"0.0\" y=\"63.04999999999998\" height=\"51.95000000000002\" width=\"23.0\" stroke-width=\"0.0\" fill=\"rgb(44,97,143)\" fill-opacity=\"1.0\">\n              </rect>\n              <rect x=\"0.0\" y=\"68.59999999999998\" height=\"46.40000000000002\" width=\"23.0\" stroke-width=\"0.0\" fill=\"rgb(41,90,134)\" fill-opacity=\"1.0\">\n              </rect>\n              <rect x=\"0.0\" y=\"74.14999999999998\" height=\"40.85000000000002\" width=\"23.0\" stroke-width=\"0.0\" fill=\"rgb(38,83,125)\" fill-opacity=\"1.0\">\n              </rect>\n              <rect x=\"0.0\" y=\"79.69999999999997\" height=\"35.300000000000026\" width=\"23.0\" stroke-width=\"0.0\" fill=\"rgb(35,77,116)\" fill-opacity=\"1.0\">\n              </rect>\n              <rect x=\"0.0\" y=\"85.24999999999997\" height=\"29.75000000000003\" width=\"23.0\" stroke-width=\"0.0\" fill=\"rgb(32,70,107)\" fill-opacity=\"1.0\">\n              </rect>\n              <rect x=\"0.0\" y=\"90.79999999999997\" height=\"24.20000000000003\" width=\"23.0\" stroke-width=\"0.0\" fill=\"rgb(29,64,98)\" fill-opacity=\"1.0\">\n              </rect>\n              <rect x=\"0.0\" y=\"96.34999999999997\" height=\"18.650000000000034\" width=\"23.0\" stroke-width=\"0.0\" fill=\"rgb(26,58,89)\" fill-opacity=\"1.0\">\n              </rect>\n              <rect x=\"0.0\" y=\"101.89999999999996\" height=\"13.100000000000037\" width=\"23.0\" stroke-width=\"0.0\" fill=\"rgb(23,52,80)\" fill-opacity=\"1.0\">\n              </rect>\n              <rect x=\"0.0\" y=\"107.44999999999996\" height=\"7.55000000000004\" width=\"23.0\" stroke-width=\"0.0\" fill=\"rgb(20,45,71)\" fill-opacity=\"1.0\">\n              </rect>\n              <line x1=\"0.0\" y1=\"96.8125\" x2=\"4.6\" y2=\"96.8125\" stroke-width=\"1.0\" stroke=\"rgb(255,255,255)\" stroke-opacity=\"1.0\">\n              </line>\n              <line x1=\"18.4\" y1=\"96.8125\" x2=\"23.0\" y2=\"96.8125\" stroke-width=\"1.0\" stroke=\"rgb(255,255,255)\" stroke-opacity=\"1.0\">\n              </line>\n              <g transform=\"translate(26.9903027277341 101.3625 ) \">\n                <text class=\"legend-item\" y=\"0.0\">\n                10\n                </text>\n              </g>\n              <line x1=\"0.0\" y1=\"73.6875\" x2=\"4.6\" y2=\"73.6875\" stroke-width=\"1.0\" stroke=\"rgb(255,255,255)\" stroke-opacity=\"1.0\">\n              </line>\n              <line x1=\"18.4\" y1=\"73.6875\" x2=\"23.0\" y2=\"73.6875\" stroke-width=\"1.0\" stroke=\"rgb(255,255,255)\" stroke-opacity=\"1.0\">\n              </line>\n              <g transform=\"translate(26.9903027277341 78.2375 ) \">\n                <text class=\"legend-item\" y=\"0.0\">\n                20\n                </text>\n              </g>\n              <line x1=\"0.0\" y1=\"50.5625\" x2=\"4.6\" y2=\"50.5625\" stroke-width=\"1.0\" stroke=\"rgb(255,255,255)\" stroke-opacity=\"1.0\">\n              </line>\n              <line x1=\"18.4\" y1=\"50.5625\" x2=\"23.0\" y2=\"50.5625\" stroke-width=\"1.0\" stroke=\"rgb(255,255,255)\" stroke-opacity=\"1.0\">\n              </line>\n              <g transform=\"translate(26.9903027277341 55.1125 ) \">\n                <text class=\"legend-item\" y=\"0.0\">\n                30\n                </text>\n              </g>\n              <line x1=\"0.0\" y1=\"27.4375\" x2=\"4.6\" y2=\"27.4375\" stroke-width=\"1.0\" stroke=\"rgb(255,255,255)\" stroke-opacity=\"1.0\">\n              </line>\n              <line x1=\"18.4\" y1=\"27.4375\" x2=\"23.0\" y2=\"27.4375\" stroke-width=\"1.0\" stroke=\"rgb(255,255,255)\" stroke-opacity=\"1.0\">\n              </line>\n              <g transform=\"translate(26.9903027277341 31.987499999999997 ) \">\n                <text class=\"legend-item\" y=\"0.0\">\n                40\n                </text>\n              </g>\n              <line x1=\"0.0\" y1=\"4.3125\" x2=\"4.6\" y2=\"4.3125\" stroke-width=\"1.0\" stroke=\"rgb(255,255,255)\" stroke-opacity=\"1.0\">\n              </line>\n              <line x1=\"18.4\" y1=\"4.3125\" x2=\"23.0\" y2=\"4.3125\" stroke-width=\"1.0\" stroke=\"rgb(255,255,255)\" stroke-opacity=\"1.0\">\n              </line>\n              <g transform=\"translate(26.9903027277341 8.862499999999999 ) \">\n                <text class=\"legend-item\" y=\"0.0\">\n                50\n                </text>\n              </g>\n            </g>\n          </g>\n        </g>\n      </g>\n    </g>\n    <g id=\"dhc24aW\">\n    </g>\n  </svg>\n  <svg xmlns=\"http://www.w3.org/2000/svg\" xmlns:xlink=\"http://www.w3.org/1999/xlink\" class=\"plt-container\" width=\"448.0\" height=\"400.0\" x=\"452.0\" y=\"0.0\">\n    <style type=\"text/css\">\n    .plt-container {\n   font-family: Lucida Grande, sans-serif;\n   user-select: none;\n   -webkit-user-select: none;\n   -moz-user-select: none;\n   -ms-user-select: none;\n}\ntext {\n   text-rendering: optimizeLegibility;\n}\n#pDGowwC .plot-title {\n   fill: #474747;\n   font-family: Lucida Grande, sans-serif;\n   font-size: 16.0px;\n   font-weight: normal;\n   font-style: normal;   \n}\n#pDGowwC .plot-subtitle {\n   fill: #474747;\n   font-family: Lucida Grande, sans-serif;\n   font-size: 15.0px;\n   font-weight: normal;\n   font-style: normal;   \n}\n#pDGowwC .plot-caption {\n   fill: #474747;\n   font-family: Lucida Grande, sans-serif;\n   font-size: 13.0px;\n   font-weight: normal;\n   font-style: normal;   \n}\n#pDGowwC .legend-title {\n   fill: #474747;\n   font-family: Lucida Grande, sans-serif;\n   font-size: 15.0px;\n   font-weight: normal;\n   font-style: normal;   \n}\n#pDGowwC .legend-item {\n   fill: #474747;\n   font-family: Lucida Grande, sans-serif;\n   font-size: 13.0px;\n   font-weight: normal;\n   font-style: normal;   \n}\n#pDGowwC .axis-title-x {\n   fill: #474747;\n   font-family: Lucida Grande, sans-serif;\n   font-size: 15.0px;\n   font-weight: normal;\n   font-style: normal;   \n}\n#pDGowwC .axis-text-x {\n   fill: #474747;\n   font-family: Lucida Grande, sans-serif;\n   font-size: 13.0px;\n   font-weight: normal;\n   font-style: normal;   \n}\n#dyFXzuu .axis-tooltip-text-x {\n   fill: #ffffff;\n   font-family: Lucida Grande, sans-serif;\n   font-size: 13.0px;\n   font-weight: normal;\n   font-style: normal;   \n}\n#pDGowwC .axis-title-y {\n   fill: #474747;\n   font-family: Lucida Grande, sans-serif;\n   font-size: 15.0px;\n   font-weight: normal;\n   font-style: normal;   \n}\n#pDGowwC .axis-text-y {\n   fill: #474747;\n   font-family: Lucida Grande, sans-serif;\n   font-size: 13.0px;\n   font-weight: normal;\n   font-style: normal;   \n}\n#dyFXzuu .axis-tooltip-text-y {\n   fill: #ffffff;\n   font-family: Lucida Grande, sans-serif;\n   font-size: 13.0px;\n   font-weight: normal;\n   font-style: normal;   \n}\n#pDGowwC .facet-strip-text-x {\n   fill: #474747;\n   font-family: Lucida Grande, sans-serif;\n   font-size: 13.0px;\n   font-weight: normal;\n   font-style: normal;   \n}\n#pDGowwC .facet-strip-text-y {\n   fill: #474747;\n   font-family: Lucida Grande, sans-serif;\n   font-size: 13.0px;\n   font-weight: normal;\n   font-style: normal;   \n}\n#dyFXzuu .tooltip-text {\n   fill: #474747;\n   font-family: Lucida Grande, sans-serif;\n   font-size: 13.0px;\n   font-weight: normal;\n   font-style: normal;   \n}\n#dyFXzuu .tooltip-title {\n   fill: #474747;\n   font-family: Lucida Grande, sans-serif;\n   font-size: 13.0px;\n   font-weight: bold;\n   font-style: normal;   \n}\n#dyFXzuu .tooltip-label {\n   fill: #474747;\n   font-family: Lucida Grande, sans-serif;\n   font-size: 13.0px;\n   font-weight: bold;\n   font-style: normal;   \n}\n\n    </style>\n    <g id=\"pDGowwC\">\n      <rect x=\"0.0\" y=\"0.0\" height=\"400.0\" width=\"448.0\" stroke=\"rgb(71,71,71)\" stroke-opacity=\"1.0\" stroke-width=\"0.0\" fill=\"rgb(255,255,255)\" fill-opacity=\"1.0\">\n      </rect>\n      <g transform=\"translate(23.0 82.69385037402921 ) \">\n        <g transform=\"translate(13.980605455468202 155.32848582161196 ) \">\n          <line x1=\"31.979394139743633\" y1=\"-0.0\" x2=\"31.979394139743633\" y2=\"-155.32848582161196\" stroke=\"rgb(233,233,233)\" stroke-opacity=\"1.0\" stroke-width=\"1.0\">\n          </line>\n          <line x1=\"77.66424291080597\" y1=\"-0.0\" x2=\"77.66424291080597\" y2=\"-155.32848582161196\" stroke=\"rgb(233,233,233)\" stroke-opacity=\"1.0\" stroke-width=\"1.0\">\n          </line>\n          <line x1=\"123.3490916818683\" y1=\"-0.0\" x2=\"123.3490916818683\" y2=\"-155.32848582161196\" stroke=\"rgb(233,233,233)\" stroke-opacity=\"1.0\" stroke-width=\"1.0\">\n          </line>\n          <line x1=\"169.03394045293066\" y1=\"-0.0\" x2=\"169.03394045293066\" y2=\"-155.32848582161196\" stroke=\"rgb(233,233,233)\" stroke-opacity=\"1.0\" stroke-width=\"1.0\">\n          </line>\n          <line x1=\"214.71878922399299\" y1=\"-0.0\" x2=\"214.71878922399299\" y2=\"-155.32848582161196\" stroke=\"rgb(233,233,233)\" stroke-opacity=\"1.0\" stroke-width=\"1.0\">\n          </line>\n          <line x1=\"260.4036379950553\" y1=\"-0.0\" x2=\"260.4036379950553\" y2=\"-155.32848582161196\" stroke=\"rgb(233,233,233)\" stroke-opacity=\"1.0\" stroke-width=\"1.0\">\n          </line>\n          <line x1=\"306.0884867661177\" y1=\"-0.0\" x2=\"306.0884867661177\" y2=\"-155.32848582161196\" stroke=\"rgb(233,233,233)\" stroke-opacity=\"1.0\" stroke-width=\"1.0\">\n          </line>\n          <g transform=\"translate(31.979394139743633 0.0 ) \">\n            <line stroke-width=\"1.0\" stroke=\"rgb(71,71,71)\" stroke-opacity=\"1.0\" x2=\"0.0\" y2=\"4.0\">\n            </line>\n            <g transform=\"translate(0.0 7.0 ) rotate(90.0 ) \">\n              <text class=\"axis-text-x\" dy=\"0.35em\">\n              compact\n              </text>\n            </g>\n          </g>\n          <g transform=\"translate(77.66424291080597 0.0 ) \">\n            <line stroke-width=\"1.0\" stroke=\"rgb(71,71,71)\" stroke-opacity=\"1.0\" x2=\"0.0\" y2=\"4.0\">\n            </line>\n            <g transform=\"translate(0.0 7.0 ) rotate(90.0 ) \">\n              <text class=\"axis-text-x\" dy=\"0.35em\">\n              midsize\n              </text>\n            </g>\n          </g>\n          <g transform=\"translate(123.3490916818683 0.0 ) \">\n            <line stroke-width=\"1.0\" stroke=\"rgb(71,71,71)\" stroke-opacity=\"1.0\" x2=\"0.0\" y2=\"4.0\">\n            </line>\n            <g transform=\"translate(0.0 7.0 ) rotate(90.0 ) \">\n              <text class=\"axis-text-x\" dy=\"0.35em\">\n              suv\n              </text>\n            </g>\n          </g>\n          <g transform=\"translate(169.03394045293066 0.0 ) \">\n            <line stroke-width=\"1.0\" stroke=\"rgb(71,71,71)\" stroke-opacity=\"1.0\" x2=\"0.0\" y2=\"4.0\">\n            </line>\n            <g transform=\"translate(0.0 7.0 ) rotate(90.0 ) \">\n              <text class=\"axis-text-x\" dy=\"0.35em\">\n              2seater\n              </text>\n            </g>\n          </g>\n          <g transform=\"translate(214.71878922399299 0.0 ) \">\n            <line stroke-width=\"1.0\" stroke=\"rgb(71,71,71)\" stroke-opacity=\"1.0\" x2=\"0.0\" y2=\"4.0\">\n            </line>\n            <g transform=\"translate(0.0 7.0 ) rotate(90.0 ) \">\n              <text class=\"axis-text-x\" dy=\"0.35em\">\n              minivan\n              </text>\n            </g>\n          </g>\n          <g transform=\"translate(260.4036379950553 0.0 ) \">\n            <line stroke-width=\"1.0\" stroke=\"rgb(71,71,71)\" stroke-opacity=\"1.0\" x2=\"0.0\" y2=\"4.0\">\n            </line>\n            <g transform=\"translate(0.0 7.0 ) rotate(90.0 ) \">\n              <text class=\"axis-text-x\" dy=\"0.35em\">\n              pickup\n              </text>\n            </g>\n          </g>\n          <g transform=\"translate(306.0884867661177 0.0 ) \">\n            <line stroke-width=\"1.0\" stroke=\"rgb(71,71,71)\" stroke-opacity=\"1.0\" x2=\"0.0\" y2=\"4.0\">\n            </line>\n            <g transform=\"translate(0.0 7.0 ) rotate(90.0 ) \">\n              <text class=\"axis-text-x\" dy=\"0.35em\">\n              subcompact\n              </text>\n            </g>\n          </g>\n          <line x1=\"0.0\" y1=\"0.0\" x2=\"338.0678809058613\" y2=\"0.0\" stroke-width=\"1.0\" stroke=\"rgb(71,71,71)\" stroke-opacity=\"1.0\">\n          </line>\n        </g>\n        <g transform=\"translate(13.980605455468202 0.0 ) \">\n          <line x1=\"0.0\" y1=\"123.34909168186833\" x2=\"338.0678809058613\" y2=\"123.34909168186833\" stroke=\"rgb(233,233,233)\" stroke-opacity=\"1.0\" stroke-width=\"1.0\">\n          </line>\n          <line x1=\"0.0\" y1=\"77.664242910806\" x2=\"338.0678809058613\" y2=\"77.664242910806\" stroke=\"rgb(233,233,233)\" stroke-opacity=\"1.0\" stroke-width=\"1.0\">\n          </line>\n          <line x1=\"0.0\" y1=\"31.97939413974366\" x2=\"338.0678809058613\" y2=\"31.97939413974366\" stroke=\"rgb(233,233,233)\" stroke-opacity=\"1.0\" stroke-width=\"1.0\">\n          </line>\n          <g transform=\"translate(0.0 123.34909168186833 ) \">\n            <g transform=\"translate(-3.0 0.0 ) \">\n              <text class=\"axis-text-y\" text-anchor=\"end\" dy=\"0.35em\">\n              f\n              </text>\n            </g>\n          </g>\n          <g transform=\"translate(0.0 77.664242910806 ) \">\n            <g transform=\"translate(-3.0 0.0 ) \">\n              <text class=\"axis-text-y\" text-anchor=\"end\" dy=\"0.35em\">\n              4\n              </text>\n            </g>\n          </g>\n          <g transform=\"translate(0.0 31.97939413974366 ) \">\n            <g transform=\"translate(-3.0 0.0 ) \">\n              <text class=\"axis-text-y\" text-anchor=\"end\" dy=\"0.35em\">\n              r\n              </text>\n            </g>\n          </g>\n        </g>\n        <g transform=\"translate(13.980605455468202 0.0 ) \" clip-path=\"url(#cAziG1F)\" clip-bounds-jfx=\"[rect (0.0, 0.0), (338.0678809058613, 155.32848582161196)]\">\n          <defs>\n            <clipPath id=\"cAziG1F\">\n              <rect x=\"0.0\" y=\"0.0\" width=\"338.0678809058613\" height=\"155.32848582161196\">\n              </rect>\n            </clipPath>\n          </defs>\n          <g>\n            \n            <g >\n              <rect fill=\"#3d82bb\" stroke=\"#000000\" stroke-opacity=\"0.0\" stroke-width=\"1.6500000000000001\" x=\"9.136969754212465\" y=\"100.50666729633716\" height=\"45.68484877106235\" width=\"45.684848771062335\" />\n              <rect fill=\"#1d4264\" stroke=\"#000000\" stroke-opacity=\"0.0\" stroke-width=\"1.6500000000000001\" x=\"9.136969754212465\" y=\"54.82181852527482\" height=\"45.684848771062335\" width=\"45.684848771062335\" />\n              <rect fill=\"#132a42\" stroke=\"#000000\" stroke-opacity=\"0.0\" stroke-width=\"1.6500000000000001\" x=\"54.8218185252748\" y=\"54.82181852527482\" height=\"45.684848771062335\" width=\"45.68484877106234\" />\n              <rect fill=\"#1c3f60\" stroke=\"#000000\" stroke-opacity=\"0.0\" stroke-width=\"1.6500000000000001\" x=\"100.50666729633714\" y=\"9.136969754212501\" height=\"45.68484877106232\" width=\"45.684848771062306\" />\n              <rect fill=\"#15304a\" stroke=\"#000000\" stroke-opacity=\"0.0\" stroke-width=\"1.6500000000000001\" x=\"146.19151606739945\" y=\"9.136969754212501\" height=\"45.68484877106232\" width=\"45.68484877106238\" />\n              <rect fill=\"#57b1f7\" stroke=\"#000000\" stroke-opacity=\"0.0\" stroke-width=\"1.6500000000000001\" x=\"100.50666729633714\" y=\"54.82181852527482\" height=\"45.684848771062335\" width=\"45.684848771062306\" />\n              <rect fill=\"#428ac6\" stroke=\"#000000\" stroke-opacity=\"0.0\" stroke-width=\"1.6500000000000001\" x=\"54.8218185252748\" y=\"100.50666729633716\" height=\"45.68484877106235\" width=\"45.68484877106234\" />\n              <rect fill=\"#1c3f60\" stroke=\"#000000\" stroke-opacity=\"0.0\" stroke-width=\"1.6500000000000001\" x=\"191.87636483846183\" y=\"100.50666729633716\" height=\"45.68484877106235\" width=\"45.68484877106232\" />\n              <rect fill=\"#3a7cb3\" stroke=\"#000000\" stroke-opacity=\"0.0\" stroke-width=\"1.6500000000000001\" x=\"237.56121360952415\" y=\"54.82181852527482\" height=\"45.684848771062335\" width=\"45.68484877106232\" />\n              <rect fill=\"#1a3a59\" stroke=\"#000000\" stroke-opacity=\"0.0\" stroke-width=\"1.6500000000000001\" x=\"283.24606238058647\" y=\"9.136969754212501\" height=\"45.68484877106232\" width=\"45.68484877106238\" />\n              <rect fill=\"#2a5d8a\" stroke=\"#000000\" stroke-opacity=\"0.0\" stroke-width=\"1.6500000000000001\" x=\"283.24606238058647\" y=\"100.50666729633716\" height=\"45.68484877106235\" width=\"45.68484877106238\" />\n              <rect fill=\"#142d46\" stroke=\"#000000\" stroke-opacity=\"0.0\" stroke-width=\"1.6500000000000001\" x=\"283.24606238058647\" y=\"54.82181852527482\" height=\"45.684848771062335\" width=\"45.68484877106238\" />\n            </g>\n          </g>\n        </g>\n      </g>\n      <g transform=\"translate(36.9806054554682 63.89385037402921 ) \">\n        <text class=\"plot-title\" y=\"0.0\">\n        `heatmap()` layer\n        </text>\n      </g>\n      <g transform=\"translate(14.5 160.3580932848352 ) rotate(-90.0 ) \">\n        <text class=\"axis-title-y\" y=\"0.0\" text-anchor=\"middle\">\n        drv\n        </text>\n      </g>\n      <g transform=\"translate(206.01454590839884 342.80614962597076 ) \">\n        <text class=\"axis-title-x\" y=\"0.0\" text-anchor=\"middle\">\n        class\n        </text>\n      </g>\n      <g transform=\"translate(385.0484863613295 81.6080932848352 ) \">\n        <rect x=\"5.0\" y=\"5.0\" height=\"147.5\" width=\"52.951513638670505\" stroke=\"rgb(71,71,71)\" stroke-opacity=\"1.0\" stroke-width=\"0.0\" fill=\"rgb(255,255,255)\" fill-opacity=\"1.0\">\n        </rect>\n        <g transform=\"translate(10.0 10.0 ) \">\n          <g transform=\"translate(0.0 10.5 ) \">\n            <text class=\"legend-title\" y=\"0.0\">\n            count\n            </text>\n          </g>\n          <g transform=\"translate(0.0 22.5 ) \">\n            <g>\n              <rect x=\"0.0\" y=\"0.0\" height=\"115.0\" width=\"23.0\" stroke-width=\"0.0\" fill=\"rgb(85,174,243)\" fill-opacity=\"1.0\">\n              </rect>\n              <rect x=\"0.0\" y=\"7.55\" height=\"107.45\" width=\"23.0\" stroke-width=\"0.0\" fill=\"rgb(81,166,234)\" fill-opacity=\"1.0\">\n              </rect>\n              <rect x=\"0.0\" y=\"13.1\" height=\"101.9\" width=\"23.0\" stroke-width=\"0.0\" fill=\"rgb(77,159,225)\" fill-opacity=\"1.0\">\n              </rect>\n              <rect x=\"0.0\" y=\"18.65\" height=\"96.35\" width=\"23.0\" stroke-width=\"0.0\" fill=\"rgb(73,152,216)\" fill-opacity=\"1.0\">\n              </rect>\n              <rect x=\"0.0\" y=\"24.2\" height=\"90.8\" width=\"23.0\" stroke-width=\"0.0\" fill=\"rgb(69,145,207)\" fill-opacity=\"1.0\">\n              </rect>\n              <rect x=\"0.0\" y=\"29.75\" height=\"85.25\" width=\"23.0\" stroke-width=\"0.0\" fill=\"rgb(65,138,198)\" fill-opacity=\"1.0\">\n              </rect>\n              <rect x=\"0.0\" y=\"35.3\" height=\"79.7\" width=\"23.0\" stroke-width=\"0.0\" fill=\"rgb(62,131,189)\" fill-opacity=\"1.0\">\n              </rect>\n              <rect x=\"0.0\" y=\"40.849999999999994\" height=\"74.15\" width=\"23.0\" stroke-width=\"0.0\" fill=\"rgb(58,124,179)\" fill-opacity=\"1.0\">\n              </rect>\n              <rect x=\"0.0\" y=\"46.39999999999999\" height=\"68.60000000000001\" width=\"23.0\" stroke-width=\"0.0\" fill=\"rgb(55,117,170)\" fill-opacity=\"1.0\">\n              </rect>\n              <rect x=\"0.0\" y=\"51.94999999999999\" height=\"63.05000000000001\" width=\"23.0\" stroke-width=\"0.0\" fill=\"rgb(51,110,161)\" fill-opacity=\"1.0\">\n              </rect>\n              <rect x=\"0.0\" y=\"57.499999999999986\" height=\"57.500000000000014\" width=\"23.0\" stroke-width=\"0.0\" fill=\"rgb(48,103,152)\" fill-opacity=\"1.0\">\n              </rect>\n              <rect x=\"0.0\" y=\"63.04999999999998\" height=\"51.95000000000002\" width=\"23.0\" stroke-width=\"0.0\" fill=\"rgb(44,97,143)\" fill-opacity=\"1.0\">\n              </rect>\n              <rect x=\"0.0\" y=\"68.59999999999998\" height=\"46.40000000000002\" width=\"23.0\" stroke-width=\"0.0\" fill=\"rgb(41,90,134)\" fill-opacity=\"1.0\">\n              </rect>\n              <rect x=\"0.0\" y=\"74.14999999999998\" height=\"40.85000000000002\" width=\"23.0\" stroke-width=\"0.0\" fill=\"rgb(38,83,125)\" fill-opacity=\"1.0\">\n              </rect>\n              <rect x=\"0.0\" y=\"79.69999999999997\" height=\"35.300000000000026\" width=\"23.0\" stroke-width=\"0.0\" fill=\"rgb(35,77,116)\" fill-opacity=\"1.0\">\n              </rect>\n              <rect x=\"0.0\" y=\"85.24999999999997\" height=\"29.75000000000003\" width=\"23.0\" stroke-width=\"0.0\" fill=\"rgb(32,70,107)\" fill-opacity=\"1.0\">\n              </rect>\n              <rect x=\"0.0\" y=\"90.79999999999997\" height=\"24.20000000000003\" width=\"23.0\" stroke-width=\"0.0\" fill=\"rgb(29,64,98)\" fill-opacity=\"1.0\">\n              </rect>\n              <rect x=\"0.0\" y=\"96.34999999999997\" height=\"18.650000000000034\" width=\"23.0\" stroke-width=\"0.0\" fill=\"rgb(26,58,89)\" fill-opacity=\"1.0\">\n              </rect>\n              <rect x=\"0.0\" y=\"101.89999999999996\" height=\"13.100000000000037\" width=\"23.0\" stroke-width=\"0.0\" fill=\"rgb(23,52,80)\" fill-opacity=\"1.0\">\n              </rect>\n              <rect x=\"0.0\" y=\"107.44999999999996\" height=\"7.55000000000004\" width=\"23.0\" stroke-width=\"0.0\" fill=\"rgb(20,45,71)\" fill-opacity=\"1.0\">\n              </rect>\n              <line x1=\"0.0\" y1=\"96.8125\" x2=\"4.6\" y2=\"96.8125\" stroke-width=\"1.0\" stroke=\"rgb(255,255,255)\" stroke-opacity=\"1.0\">\n              </line>\n              <line x1=\"18.4\" y1=\"96.8125\" x2=\"23.0\" y2=\"96.8125\" stroke-width=\"1.0\" stroke=\"rgb(255,255,255)\" stroke-opacity=\"1.0\">\n              </line>\n              <g transform=\"translate(26.9903027277341 101.3625 ) \">\n                <text class=\"legend-item\" y=\"0.0\">\n                10\n                </text>\n              </g>\n              <line x1=\"0.0\" y1=\"73.6875\" x2=\"4.6\" y2=\"73.6875\" stroke-width=\"1.0\" stroke=\"rgb(255,255,255)\" stroke-opacity=\"1.0\">\n              </line>\n              <line x1=\"18.4\" y1=\"73.6875\" x2=\"23.0\" y2=\"73.6875\" stroke-width=\"1.0\" stroke=\"rgb(255,255,255)\" stroke-opacity=\"1.0\">\n              </line>\n              <g transform=\"translate(26.9903027277341 78.2375 ) \">\n                <text class=\"legend-item\" y=\"0.0\">\n                20\n                </text>\n              </g>\n              <line x1=\"0.0\" y1=\"50.5625\" x2=\"4.6\" y2=\"50.5625\" stroke-width=\"1.0\" stroke=\"rgb(255,255,255)\" stroke-opacity=\"1.0\">\n              </line>\n              <line x1=\"18.4\" y1=\"50.5625\" x2=\"23.0\" y2=\"50.5625\" stroke-width=\"1.0\" stroke=\"rgb(255,255,255)\" stroke-opacity=\"1.0\">\n              </line>\n              <g transform=\"translate(26.9903027277341 55.1125 ) \">\n                <text class=\"legend-item\" y=\"0.0\">\n                30\n                </text>\n              </g>\n              <line x1=\"0.0\" y1=\"27.4375\" x2=\"4.6\" y2=\"27.4375\" stroke-width=\"1.0\" stroke=\"rgb(255,255,255)\" stroke-opacity=\"1.0\">\n              </line>\n              <line x1=\"18.4\" y1=\"27.4375\" x2=\"23.0\" y2=\"27.4375\" stroke-width=\"1.0\" stroke=\"rgb(255,255,255)\" stroke-opacity=\"1.0\">\n              </line>\n              <g transform=\"translate(26.9903027277341 31.987499999999997 ) \">\n                <text class=\"legend-item\" y=\"0.0\">\n                40\n                </text>\n              </g>\n              <line x1=\"0.0\" y1=\"4.3125\" x2=\"4.6\" y2=\"4.3125\" stroke-width=\"1.0\" stroke=\"rgb(255,255,255)\" stroke-opacity=\"1.0\">\n              </line>\n              <line x1=\"18.4\" y1=\"4.3125\" x2=\"23.0\" y2=\"4.3125\" stroke-width=\"1.0\" stroke=\"rgb(255,255,255)\" stroke-opacity=\"1.0\">\n              </line>\n              <g transform=\"translate(26.9903027277341 8.862499999999999 ) \">\n                <text class=\"legend-item\" y=\"0.0\">\n                50\n                </text>\n              </g>\n            </g>\n          </g>\n        </g>\n      </g>\n    </g>\n    <g id=\"dyFXzuu\">\n    </g>\n  </svg>\n</svg>\n        <script>document.getElementById(\"52472ed8-62fe-47a4-ac9d-6594e398a2b0\").style.display = \"none\";</script>",
      "application/plot+json": {
       "output_type": "lets_plot_spec",
       "output": {
        "kind": "subplots",
        "figures": [
         {
          "ggtitle": {
           "text": "`statCount2D()` + `tile()` layer"
          },
          "mapping": {},
          "data": {},
          "kind": "plot",
          "scales": [
           {
            "aesthetic": "x",
            "discrete": true
           },
           {
            "aesthetic": "y",
            "discrete": true
           },
           {
            "aesthetic": "fill",
            "scale_mapper_kind": "color_gradient",
            "limits": [
             null,
             null
            ]
           }
          ],
          "layers": [
           {
            "mapping": {
             "x": "x",
             "y": "y",
             "fill": "count"
            },
            "stat": "identity",
            "data": {
             "x": [
              "compact",
              "compact",
              "midsize",
              "suv",
              "2seater",
              "suv",
              "midsize",
              "minivan",
              "pickup",
              "subcompact",
              "subcompact",
              "subcompact"
             ],
             "count": [
              35.0,
              12.0,
              3.0,
              11.0,
              5.0,
              51.0,
              38.0,
              11.0,
              33.0,
              9.0,
              22.0,
              4.0
             ],
             "y": [
              "f",
              "4",
              "4",
              "r",
              "r",
              "4",
              "f",
              "f",
              "4",
              "r",
              "f",
              "4"
             ]
            },
            "sampling": "none",
            "position": "identity",
            "geom": "tile"
           }
          ]
         },
         {
          "ggtitle": {
           "text": "`heatmap()` layer"
          },
          "mapping": {},
          "data": {},
          "kind": "plot",
          "scales": [
           {
            "aesthetic": "x",
            "name": "class",
            "limits": [
             null,
             null
            ]
           },
           {
            "aesthetic": "y",
            "name": "drv",
            "limits": [
             null,
             null
            ]
           },
           {
            "aesthetic": "x",
            "discrete": true
           },
           {
            "aesthetic": "y",
            "discrete": true
           },
           {
            "aesthetic": "fill",
            "scale_mapper_kind": "color_gradient",
            "limits": [
             null,
             null
            ]
           }
          ],
          "layers": [
           {
            "mapping": {
             "x": "x",
             "y": "y",
             "fill": "count"
            },
            "stat": "identity",
            "data": {
             "x": [
              "compact",
              "compact",
              "midsize",
              "suv",
              "2seater",
              "suv",
              "midsize",
              "minivan",
              "pickup",
              "subcompact",
              "subcompact",
              "subcompact"
             ],
             "count": [
              35.0,
              12.0,
              3.0,
              11.0,
              5.0,
              51.0,
              38.0,
              11.0,
              33.0,
              9.0,
              22.0,
              4.0
             ],
             "y": [
              "f",
              "4",
              "4",
              "r",
              "r",
              "4",
              "f",
              "f",
              "4",
              "r",
              "f",
              "4"
             ]
            },
            "sampling": "none",
            "position": "identity",
            "geom": "tile"
           }
          ]
         }
        ],
        "layout": {
         "name": "grid",
         "ncol": 2,
         "nrow": 1,
         "fit": true,
         "align": false
        }
       },
       "apply_color_scheme": true,
       "swing_enabled": true
      }
     },
     "execution_count": 8,
     "metadata": {},
     "output_type": "execute_result"
    }
   ],
   "source": [
    "plotGrid(listOf(statCount2DAndTilePlot, heatmapLayerPlot))"
   ],
   "metadata": {
    "collapsed": false,
    "ExecuteTime": {
     "end_time": "2023-10-19T12:05:37.303863Z",
     "start_time": "2023-10-19T12:05:37.134308Z"
    }
   }
  },
  {
   "cell_type": "markdown",
   "source": [
    "These two plots are identical. Indeed, `heatmap` just uses `statCount2D` and `tile` and performs coordinates and `fillColor` mappings under the hood. And of course we can customize heatmap layer: `heatmap()` optionally opens a new context, where we can configure tiles (as in usual context opened by `tile { ... }`) - even change default mappings. `StatCount2D` dataset of heatmap also can be accessed here."
   ],
   "metadata": {
    "collapsed": false
   }
  },
  {
   "cell_type": "code",
   "execution_count": 9,
   "outputs": [
    {
     "data": {
      "text/html": "            <script type=\"text/javascript\" data-lets-plot-script=\"library\" src=\"https://cdn.jsdelivr.net/gh/JetBrains/lets-plot@v4.0.0/js-package/distr/lets-plot.min.js\"></script>    \n               <div id=\"tw8xQB\"></div>\n   <script type=\"text/javascript\" data-lets-plot-script=\"plot\">\n       var plotSpec={\n\"mapping\":{\n},\n\"data\":{\n},\n\"kind\":\"plot\",\n\"scales\":[{\n\"aesthetic\":\"x\",\n\"name\":\"class\",\n\"limits\":[null,null]\n},{\n\"aesthetic\":\"y\",\n\"name\":\"drv\",\n\"limits\":[null,null]\n},{\n\"aesthetic\":\"x\",\n\"discrete\":true\n},{\n\"aesthetic\":\"y\",\n\"discrete\":true\n},{\n\"aesthetic\":\"fill\",\n\"scale_mapper_kind\":\"color_brewer\",\n\"palette\":\"Reds\",\n\"limits\":[null,null]\n}],\n\"layers\":[{\n\"mapping\":{\n\"x\":\"y\",\n\"y\":\"x\",\n\"fill\":\"count\"\n},\n\"stat\":\"identity\",\n\"data\":{\n\"x\":[\"compact\",\"compact\",\"midsize\",\"suv\",\"2seater\",\"suv\",\"midsize\",\"minivan\",\"pickup\",\"subcompact\",\"subcompact\",\"subcompact\"],\n\"count\":[35.0,12.0,3.0,11.0,5.0,51.0,38.0,11.0,33.0,9.0,22.0,4.0],\n\"y\":[\"f\",\"4\",\"4\",\"r\",\"r\",\"4\",\"f\",\"f\",\"4\",\"r\",\"f\",\"4\"]\n},\n\"sampling\":\"none\",\n\"position\":\"identity\",\n\"geom\":\"tile\"\n}]\n};\n       var plotContainer = document.getElementById(\"tw8xQB\");\n       LetsPlot.buildPlotFromProcessedSpecs(plotSpec, -1, -1, plotContainer);\n   </script>            \n        <svg id=d138159e-eba3-4ca8-abad-dec3fe7dbbde xmlns=\"http://www.w3.org/2000/svg\" xmlns:xlink=\"http://www.w3.org/1999/xlink\" class=\"plt-container\" width=\"600.0\" height=\"400.0\">\n  <style type=\"text/css\">\n  .plt-container {\n   font-family: Lucida Grande, sans-serif;\n   user-select: none;\n   -webkit-user-select: none;\n   -moz-user-select: none;\n   -ms-user-select: none;\n}\ntext {\n   text-rendering: optimizeLegibility;\n}\n#ph2EcbX .plot-title {\n   fill: #474747;\n   font-family: Lucida Grande, sans-serif;\n   font-size: 16.0px;\n   font-weight: normal;\n   font-style: normal;   \n}\n#ph2EcbX .plot-subtitle {\n   fill: #474747;\n   font-family: Lucida Grande, sans-serif;\n   font-size: 15.0px;\n   font-weight: normal;\n   font-style: normal;   \n}\n#ph2EcbX .plot-caption {\n   fill: #474747;\n   font-family: Lucida Grande, sans-serif;\n   font-size: 13.0px;\n   font-weight: normal;\n   font-style: normal;   \n}\n#ph2EcbX .legend-title {\n   fill: #474747;\n   font-family: Lucida Grande, sans-serif;\n   font-size: 15.0px;\n   font-weight: normal;\n   font-style: normal;   \n}\n#ph2EcbX .legend-item {\n   fill: #474747;\n   font-family: Lucida Grande, sans-serif;\n   font-size: 13.0px;\n   font-weight: normal;\n   font-style: normal;   \n}\n#ph2EcbX .axis-title-x {\n   fill: #474747;\n   font-family: Lucida Grande, sans-serif;\n   font-size: 15.0px;\n   font-weight: normal;\n   font-style: normal;   \n}\n#ph2EcbX .axis-text-x {\n   fill: #474747;\n   font-family: Lucida Grande, sans-serif;\n   font-size: 13.0px;\n   font-weight: normal;\n   font-style: normal;   \n}\n#dedde52 .axis-tooltip-text-x {\n   fill: #ffffff;\n   font-family: Lucida Grande, sans-serif;\n   font-size: 13.0px;\n   font-weight: normal;\n   font-style: normal;   \n}\n#ph2EcbX .axis-title-y {\n   fill: #474747;\n   font-family: Lucida Grande, sans-serif;\n   font-size: 15.0px;\n   font-weight: normal;\n   font-style: normal;   \n}\n#ph2EcbX .axis-text-y {\n   fill: #474747;\n   font-family: Lucida Grande, sans-serif;\n   font-size: 13.0px;\n   font-weight: normal;\n   font-style: normal;   \n}\n#dedde52 .axis-tooltip-text-y {\n   fill: #ffffff;\n   font-family: Lucida Grande, sans-serif;\n   font-size: 13.0px;\n   font-weight: normal;\n   font-style: normal;   \n}\n#ph2EcbX .facet-strip-text-x {\n   fill: #474747;\n   font-family: Lucida Grande, sans-serif;\n   font-size: 13.0px;\n   font-weight: normal;\n   font-style: normal;   \n}\n#ph2EcbX .facet-strip-text-y {\n   fill: #474747;\n   font-family: Lucida Grande, sans-serif;\n   font-size: 13.0px;\n   font-weight: normal;\n   font-style: normal;   \n}\n#dedde52 .tooltip-text {\n   fill: #474747;\n   font-family: Lucida Grande, sans-serif;\n   font-size: 13.0px;\n   font-weight: normal;\n   font-style: normal;   \n}\n#dedde52 .tooltip-title {\n   fill: #474747;\n   font-family: Lucida Grande, sans-serif;\n   font-size: 13.0px;\n   font-weight: bold;\n   font-style: normal;   \n}\n#dedde52 .tooltip-label {\n   fill: #474747;\n   font-family: Lucida Grande, sans-serif;\n   font-size: 13.0px;\n   font-weight: bold;\n   font-style: normal;   \n}\n\n  </style>\n  <g id=\"ph2EcbX\">\n    <rect x=\"0.0\" y=\"0.0\" height=\"400.0\" width=\"600.0\" stroke=\"rgb(71,71,71)\" stroke-opacity=\"1.0\" stroke-width=\"0.0\" fill=\"rgb(255,255,255)\" fill-opacity=\"1.0\">\n    </rect>\n    <g transform=\"translate(152.8553094384729 10.0 ) \">\n      <g transform=\"translate(86.28381343032963 344.0 ) \">\n        <line x1=\"32.54054054054054\" y1=\"-0.0\" x2=\"32.54054054054054\" y2=\"-344.0\" stroke=\"rgb(233,233,233)\" stroke-opacity=\"1.0\" stroke-width=\"1.0\">\n        </line>\n        <line x1=\"79.02702702702703\" y1=\"-0.0\" x2=\"79.02702702702703\" y2=\"-344.0\" stroke=\"rgb(233,233,233)\" stroke-opacity=\"1.0\" stroke-width=\"1.0\">\n        </line>\n        <line x1=\"125.51351351351352\" y1=\"-0.0\" x2=\"125.51351351351352\" y2=\"-344.0\" stroke=\"rgb(233,233,233)\" stroke-opacity=\"1.0\" stroke-width=\"1.0\">\n        </line>\n        <g transform=\"translate(32.54054054054054 0.0 ) \">\n          <line stroke-width=\"1.0\" stroke=\"rgb(71,71,71)\" stroke-opacity=\"1.0\" x2=\"0.0\" y2=\"4.0\">\n          </line>\n          <g transform=\"translate(0.0 7.0 ) \">\n            <text class=\"axis-text-x\" text-anchor=\"middle\" dy=\"0.7em\">\n            f\n            </text>\n          </g>\n        </g>\n        <g transform=\"translate(79.02702702702703 0.0 ) \">\n          <line stroke-width=\"1.0\" stroke=\"rgb(71,71,71)\" stroke-opacity=\"1.0\" x2=\"0.0\" y2=\"4.0\">\n          </line>\n          <g transform=\"translate(0.0 7.0 ) \">\n            <text class=\"axis-text-x\" text-anchor=\"middle\" dy=\"0.7em\">\n            4\n            </text>\n          </g>\n        </g>\n        <g transform=\"translate(125.51351351351352 0.0 ) \">\n          <line stroke-width=\"1.0\" stroke=\"rgb(71,71,71)\" stroke-opacity=\"1.0\" x2=\"0.0\" y2=\"4.0\">\n          </line>\n          <g transform=\"translate(0.0 7.0 ) \">\n            <text class=\"axis-text-x\" text-anchor=\"middle\" dy=\"0.7em\">\n            r\n            </text>\n          </g>\n        </g>\n        <line x1=\"0.0\" y1=\"0.0\" x2=\"158.05405405405406\" y2=\"0.0\" stroke-width=\"1.0\" stroke=\"rgb(71,71,71)\" stroke-opacity=\"1.0\">\n        </line>\n      </g>\n      <g transform=\"translate(86.28381343032963 0.0 ) \">\n        <line x1=\"0.0\" y1=\"311.4594594594595\" x2=\"158.05405405405406\" y2=\"311.4594594594595\" stroke=\"rgb(233,233,233)\" stroke-opacity=\"1.0\" stroke-width=\"1.0\">\n        </line>\n        <line x1=\"0.0\" y1=\"264.972972972973\" x2=\"158.05405405405406\" y2=\"264.972972972973\" stroke=\"rgb(233,233,233)\" stroke-opacity=\"1.0\" stroke-width=\"1.0\">\n        </line>\n        <line x1=\"0.0\" y1=\"218.4864864864865\" x2=\"158.05405405405406\" y2=\"218.4864864864865\" stroke=\"rgb(233,233,233)\" stroke-opacity=\"1.0\" stroke-width=\"1.0\">\n        </line>\n        <line x1=\"0.0\" y1=\"172.00000000000003\" x2=\"158.05405405405406\" y2=\"172.00000000000003\" stroke=\"rgb(233,233,233)\" stroke-opacity=\"1.0\" stroke-width=\"1.0\">\n        </line>\n        <line x1=\"0.0\" y1=\"125.51351351351354\" x2=\"158.05405405405406\" y2=\"125.51351351351354\" stroke=\"rgb(233,233,233)\" stroke-opacity=\"1.0\" stroke-width=\"1.0\">\n        </line>\n        <line x1=\"0.0\" y1=\"79.02702702702706\" x2=\"158.05405405405406\" y2=\"79.02702702702706\" stroke=\"rgb(233,233,233)\" stroke-opacity=\"1.0\" stroke-width=\"1.0\">\n        </line>\n        <line x1=\"0.0\" y1=\"32.540540540540576\" x2=\"158.05405405405406\" y2=\"32.540540540540576\" stroke=\"rgb(233,233,233)\" stroke-opacity=\"1.0\" stroke-width=\"1.0\">\n        </line>\n        <g transform=\"translate(0.0 311.4594594594595 ) \">\n          <g transform=\"translate(-3.0 0.0 ) \">\n            <text class=\"axis-text-y\" text-anchor=\"end\" dy=\"0.35em\">\n            compact\n            </text>\n          </g>\n        </g>\n        <g transform=\"translate(0.0 264.972972972973 ) \">\n          <g transform=\"translate(-3.0 0.0 ) \">\n            <text class=\"axis-text-y\" text-anchor=\"end\" dy=\"0.35em\">\n            midsize\n            </text>\n          </g>\n        </g>\n        <g transform=\"translate(0.0 218.4864864864865 ) \">\n          <g transform=\"translate(-3.0 0.0 ) \">\n            <text class=\"axis-text-y\" text-anchor=\"end\" dy=\"0.35em\">\n            suv\n            </text>\n          </g>\n        </g>\n        <g transform=\"translate(0.0 172.00000000000003 ) \">\n          <g transform=\"translate(-3.0 0.0 ) \">\n            <text class=\"axis-text-y\" text-anchor=\"end\" dy=\"0.35em\">\n            2seater\n            </text>\n          </g>\n        </g>\n        <g transform=\"translate(0.0 125.51351351351354 ) \">\n          <g transform=\"translate(-3.0 0.0 ) \">\n            <text class=\"axis-text-y\" text-anchor=\"end\" dy=\"0.35em\">\n            minivan\n            </text>\n          </g>\n        </g>\n        <g transform=\"translate(0.0 79.02702702702706 ) \">\n          <g transform=\"translate(-3.0 0.0 ) \">\n            <text class=\"axis-text-y\" text-anchor=\"end\" dy=\"0.35em\">\n            pickup\n            </text>\n          </g>\n        </g>\n        <g transform=\"translate(0.0 32.540540540540576 ) \">\n          <g transform=\"translate(-3.0 0.0 ) \">\n            <text class=\"axis-text-y\" text-anchor=\"end\" dy=\"0.35em\">\n            subcompact\n            </text>\n          </g>\n        </g>\n      </g>\n      <g transform=\"translate(86.28381343032963 0.0 ) \" clip-path=\"url(#cnlcYUG)\" clip-bounds-jfx=\"[rect (0.0, 0.0), (158.05405405405406, 344.0)]\">\n        <defs>\n          <clipPath id=\"cnlcYUG\">\n            <rect x=\"0.0\" y=\"0.0\" width=\"158.05405405405406\" height=\"344.0\">\n            </rect>\n          </clipPath>\n        </defs>\n        <g>\n          \n          <g >\n            <rect fill=\"#cb181d\" stroke=\"#000000\" stroke-opacity=\"0.0\" stroke-width=\"1.6500000000000001\" x=\"9.297297297297298\" y=\"288.21621621621625\" height=\"46.486486486486456\" width=\"46.486486486486484\" />\n            <rect fill=\"#fee0d2\" stroke=\"#000000\" stroke-opacity=\"0.0\" stroke-width=\"1.6500000000000001\" x=\"55.78378378378378\" y=\"288.21621621621625\" height=\"46.486486486486456\" width=\"46.48648648648648\" />\n            <rect fill=\"#fff5f0\" stroke=\"#000000\" stroke-opacity=\"0.0\" stroke-width=\"1.6500000000000001\" x=\"55.78378378378378\" y=\"241.72972972972974\" height=\"46.48648648648651\" width=\"46.48648648648648\" />\n            <rect fill=\"#fee0d2\" stroke=\"#000000\" stroke-opacity=\"0.0\" stroke-width=\"1.6500000000000001\" x=\"102.27027027027026\" y=\"195.24324324324328\" height=\"46.486486486486456\" width=\"46.486486486486484\" />\n            <rect fill=\"#fff5f0\" stroke=\"#000000\" stroke-opacity=\"0.0\" stroke-width=\"1.6500000000000001\" x=\"102.27027027027026\" y=\"148.75675675675677\" height=\"46.48648648648651\" width=\"46.486486486486484\" />\n            <rect fill=\"#67000d\" stroke=\"#000000\" stroke-opacity=\"0.0\" stroke-width=\"1.6500000000000001\" x=\"55.78378378378378\" y=\"195.24324324324328\" height=\"46.486486486486456\" width=\"46.48648648648648\" />\n            <rect fill=\"#cb181d\" stroke=\"#000000\" stroke-opacity=\"0.0\" stroke-width=\"1.6500000000000001\" x=\"9.297297297297298\" y=\"241.72972972972974\" height=\"46.48648648648651\" width=\"46.486486486486484\" />\n            <rect fill=\"#fee0d2\" stroke=\"#000000\" stroke-opacity=\"0.0\" stroke-width=\"1.6500000000000001\" x=\"9.297297297297298\" y=\"102.27027027027032\" height=\"46.486486486486456\" width=\"46.486486486486484\" />\n            <rect fill=\"#ef3b2c\" stroke=\"#000000\" stroke-opacity=\"0.0\" stroke-width=\"1.6500000000000001\" x=\"55.78378378378378\" y=\"55.783783783783804\" height=\"46.48648648648651\" width=\"46.48648648648648\" />\n            <rect fill=\"#fee0d2\" stroke=\"#000000\" stroke-opacity=\"0.0\" stroke-width=\"1.6500000000000001\" x=\"102.27027027027026\" y=\"9.297297297297348\" height=\"46.486486486486456\" width=\"46.486486486486484\" />\n            <rect fill=\"#fc9272\" stroke=\"#000000\" stroke-opacity=\"0.0\" stroke-width=\"1.6500000000000001\" x=\"9.297297297297298\" y=\"9.297297297297348\" height=\"46.486486486486456\" width=\"46.486486486486484\" />\n            <rect fill=\"#fff5f0\" stroke=\"#000000\" stroke-opacity=\"0.0\" stroke-width=\"1.6500000000000001\" x=\"55.78378378378378\" y=\"9.297297297297348\" height=\"46.486486486486456\" width=\"46.48648648648648\" />\n          </g>\n        </g>\n      </g>\n    </g>\n    <g transform=\"translate(144.3553094384729 182.0 ) rotate(-90.0 ) \">\n      <text class=\"axis-title-y\" y=\"0.0\" text-anchor=\"middle\">\n      drv\n      </text>\n    </g>\n    <g transform=\"translate(318.16614989582956 391.5 ) \">\n      <text class=\"axis-title-x\" y=\"0.0\" text-anchor=\"middle\">\n      class\n      </text>\n    </g>\n    <g transform=\"translate(407.1931769228566 103.25 ) \">\n      <rect x=\"5.0\" y=\"5.0\" height=\"147.5\" width=\"52.951513638670505\" stroke=\"rgb(71,71,71)\" stroke-opacity=\"1.0\" stroke-width=\"0.0\" fill=\"rgb(255,255,255)\" fill-opacity=\"1.0\">\n      </rect>\n      <g transform=\"translate(10.0 10.0 ) \">\n        <g transform=\"translate(0.0 10.5 ) \">\n          <text class=\"legend-title\" y=\"0.0\">\n          count\n          </text>\n        </g>\n        <g transform=\"translate(0.0 22.5 ) \">\n          <g transform=\"\">\n            <g>\n              <rect x=\"0.0\" y=\"0.0\" height=\"23.0\" width=\"23.0\" stroke-width=\"0.0\" fill=\"rgb(255,255,255)\" fill-opacity=\"1.0\">\n              </rect>\n              <g transform=\"translate(1.0 1.0 ) \">\n                <g>\n                  <rect x=\"0.0\" y=\"0.0\" height=\"21.0\" width=\"21.0\" stroke=\"rgb(0,0,0)\" stroke-opacity=\"0.0\" fill=\"rgb(254,224,210)\" fill-opacity=\"1.0\" stroke-width=\"1.5\">\n                  </rect>\n                </g>\n              </g>\n              <rect x=\"0.0\" y=\"0.0\" height=\"23.0\" width=\"23.0\" stroke=\"rgb(255,255,255)\" stroke-opacity=\"1.0\" stroke-width=\"1.0\" fill-opacity=\"0.0\">\n              </rect>\n            </g>\n            <g transform=\"translate(26.9903027277341 16.05 ) \">\n              <text class=\"legend-item\" y=\"0.0\">\n              10\n              </text>\n            </g>\n          </g>\n          <g transform=\"translate(0.0 23.0 ) \">\n            <g>\n              <rect x=\"0.0\" y=\"0.0\" height=\"23.0\" width=\"23.0\" stroke-width=\"0.0\" fill=\"rgb(255,255,255)\" fill-opacity=\"1.0\">\n              </rect>\n              <g transform=\"translate(1.0 1.0 ) \">\n                <g>\n                  <rect x=\"0.0\" y=\"0.0\" height=\"21.0\" width=\"21.0\" stroke=\"rgb(0,0,0)\" stroke-opacity=\"0.0\" fill=\"rgb(252,146,114)\" fill-opacity=\"1.0\" stroke-width=\"1.5\">\n                  </rect>\n                </g>\n              </g>\n              <rect x=\"0.0\" y=\"0.0\" height=\"23.0\" width=\"23.0\" stroke=\"rgb(255,255,255)\" stroke-opacity=\"1.0\" stroke-width=\"1.0\" fill-opacity=\"0.0\">\n              </rect>\n            </g>\n            <g transform=\"translate(26.9903027277341 16.05 ) \">\n              <text class=\"legend-item\" y=\"0.0\">\n              20\n              </text>\n            </g>\n          </g>\n          <g transform=\"translate(0.0 46.0 ) \">\n            <g>\n              <rect x=\"0.0\" y=\"0.0\" height=\"23.0\" width=\"23.0\" stroke-width=\"0.0\" fill=\"rgb(255,255,255)\" fill-opacity=\"1.0\">\n              </rect>\n              <g transform=\"translate(1.0 1.0 ) \">\n                <g>\n                  <rect x=\"0.0\" y=\"0.0\" height=\"21.0\" width=\"21.0\" stroke=\"rgb(0,0,0)\" stroke-opacity=\"0.0\" fill=\"rgb(239,59,44)\" fill-opacity=\"1.0\" stroke-width=\"1.5\">\n                  </rect>\n                </g>\n              </g>\n              <rect x=\"0.0\" y=\"0.0\" height=\"23.0\" width=\"23.0\" stroke=\"rgb(255,255,255)\" stroke-opacity=\"1.0\" stroke-width=\"1.0\" fill-opacity=\"0.0\">\n              </rect>\n            </g>\n            <g transform=\"translate(26.9903027277341 16.05 ) \">\n              <text class=\"legend-item\" y=\"0.0\">\n              30\n              </text>\n            </g>\n          </g>\n          <g transform=\"translate(0.0 69.0 ) \">\n            <g>\n              <rect x=\"0.0\" y=\"0.0\" height=\"23.0\" width=\"23.0\" stroke-width=\"0.0\" fill=\"rgb(255,255,255)\" fill-opacity=\"1.0\">\n              </rect>\n              <g transform=\"translate(1.0 1.0 ) \">\n                <g>\n                  <rect x=\"0.0\" y=\"0.0\" height=\"21.0\" width=\"21.0\" stroke=\"rgb(0,0,0)\" stroke-opacity=\"0.0\" fill=\"rgb(203,24,29)\" fill-opacity=\"1.0\" stroke-width=\"1.5\">\n                  </rect>\n                </g>\n              </g>\n              <rect x=\"0.0\" y=\"0.0\" height=\"23.0\" width=\"23.0\" stroke=\"rgb(255,255,255)\" stroke-opacity=\"1.0\" stroke-width=\"1.0\" fill-opacity=\"0.0\">\n              </rect>\n            </g>\n            <g transform=\"translate(26.9903027277341 16.05 ) \">\n              <text class=\"legend-item\" y=\"0.0\">\n              40\n              </text>\n            </g>\n          </g>\n          <g transform=\"translate(0.0 92.0 ) \">\n            <g>\n              <rect x=\"0.0\" y=\"0.0\" height=\"23.0\" width=\"23.0\" stroke-width=\"0.0\" fill=\"rgb(255,255,255)\" fill-opacity=\"1.0\">\n              </rect>\n              <g transform=\"translate(1.0 1.0 ) \">\n                <g>\n                  <rect x=\"0.0\" y=\"0.0\" height=\"21.0\" width=\"21.0\" stroke=\"rgb(0,0,0)\" stroke-opacity=\"0.0\" fill=\"rgb(103,0,13)\" fill-opacity=\"1.0\" stroke-width=\"1.5\">\n                  </rect>\n                </g>\n              </g>\n              <rect x=\"0.0\" y=\"0.0\" height=\"23.0\" width=\"23.0\" stroke=\"rgb(255,255,255)\" stroke-opacity=\"1.0\" stroke-width=\"1.0\" fill-opacity=\"0.0\">\n              </rect>\n            </g>\n            <g transform=\"translate(26.9903027277341 16.05 ) \">\n              <text class=\"legend-item\" y=\"0.0\">\n              50\n              </text>\n            </g>\n          </g>\n        </g>\n      </g>\n    </g>\n  </g>\n  <g id=\"dedde52\">\n  </g>\n</svg>\n        <script>document.getElementById(\"d138159e-eba3-4ca8-abad-dec3fe7dbbde\").style.display = \"none\";</script>",
      "application/plot+json": {
       "output_type": "lets_plot_spec",
       "output": {
        "mapping": {},
        "data": {},
        "kind": "plot",
        "scales": [
         {
          "aesthetic": "x",
          "name": "class",
          "limits": [
           null,
           null
          ]
         },
         {
          "aesthetic": "y",
          "name": "drv",
          "limits": [
           null,
           null
          ]
         },
         {
          "aesthetic": "x",
          "discrete": true
         },
         {
          "aesthetic": "y",
          "discrete": true
         },
         {
          "aesthetic": "fill",
          "scale_mapper_kind": "color_brewer",
          "palette": "Reds",
          "limits": [
           null,
           null
          ]
         }
        ],
        "layers": [
         {
          "mapping": {
           "x": "y",
           "y": "x",
           "fill": "count"
          },
          "stat": "identity",
          "data": {
           "x": [
            "compact",
            "compact",
            "midsize",
            "suv",
            "2seater",
            "suv",
            "midsize",
            "minivan",
            "pickup",
            "subcompact",
            "subcompact",
            "subcompact"
           ],
           "count": [
            35.0,
            12.0,
            3.0,
            11.0,
            5.0,
            51.0,
            38.0,
            11.0,
            33.0,
            9.0,
            22.0,
            4.0
           ],
           "y": [
            "f",
            "4",
            "4",
            "r",
            "r",
            "4",
            "f",
            "f",
            "4",
            "r",
            "f",
            "4"
           ]
          },
          "sampling": "none",
          "position": "identity",
          "geom": "tile"
         }
        ]
       },
       "apply_color_scheme": true,
       "swing_enabled": true
      }
     },
     "execution_count": 9,
     "metadata": {},
     "output_type": "execute_result"
    }
   ],
   "source": [
    "df.plot {\n",
    "    heatmap(`class`, drv) {\n",
    "        // swap coordinate mappings:\n",
    "        x(Stat.y)\n",
    "        y(Stat.x)\n",
    "        // default mapping but with custom scale\n",
    "        fillColor(Stat.count) {\n",
    "            scale = continuousColorBrewer(BrewerPalette.Sequential.Reds)\n",
    "        }\n",
    "    }\n",
    "}"
   ],
   "metadata": {
    "collapsed": false,
    "ExecuteTime": {
     "end_time": "2023-10-19T12:05:37.528416Z",
     "start_time": "2023-10-19T12:05:37.289682Z"
    }
   }
  },
  {
   "cell_type": "markdown",
   "source": [
    "If we specify weights, `Stat.countWeighted` mapped to `fillColor` by default:"
   ],
   "metadata": {
    "collapsed": false
   }
  },
  {
   "cell_type": "code",
   "execution_count": 10,
   "outputs": [
    {
     "data": {
      "text/html": "            <script type=\"text/javascript\" data-lets-plot-script=\"library\" src=\"https://cdn.jsdelivr.net/gh/JetBrains/lets-plot@v4.0.0/js-package/distr/lets-plot.min.js\"></script>    \n               <div id=\"XMwcBA\"></div>\n   <script type=\"text/javascript\" data-lets-plot-script=\"plot\">\n       var plotSpec={\n\"mapping\":{\n},\n\"data\":{\n},\n\"kind\":\"plot\",\n\"scales\":[{\n\"aesthetic\":\"x\",\n\"name\":\"class\",\n\"limits\":[null,null]\n},{\n\"aesthetic\":\"y\",\n\"name\":\"drv\",\n\"limits\":[null,null]\n},{\n\"aesthetic\":\"x\",\n\"discrete\":true\n},{\n\"aesthetic\":\"y\",\n\"discrete\":true\n},{\n\"aesthetic\":\"fill\",\n\"scale_mapper_kind\":\"color_gradient\",\n\"limits\":[null,null]\n}],\n\"layers\":[{\n\"mapping\":{\n\"x\":\"x\",\n\"y\":\"y\",\n\"fill\":\"countWeighted\"\n},\n\"stat\":\"identity\",\n\"data\":{\n\"x\":[\"compact\",\"compact\",\"midsize\",\"suv\",\"2seater\",\"suv\",\"midsize\",\"minivan\",\"pickup\",\"subcompact\",\"subcompact\",\"subcompact\"],\n\"y\":[\"f\",\"4\",\"4\",\"r\",\"r\",\"4\",\"f\",\"f\",\"4\",\"r\",\"f\",\"4\"],\n\"countWeighted\":[1020.0,310.0,72.0,192.0,124.0,932.0,1047.0,246.0,557.0,209.0,672.0,104.0]\n},\n\"sampling\":\"none\",\n\"position\":\"identity\",\n\"geom\":\"tile\"\n}]\n};\n       var plotContainer = document.getElementById(\"XMwcBA\");\n       LetsPlot.buildPlotFromProcessedSpecs(plotSpec, -1, -1, plotContainer);\n   </script>            \n        <svg id=14545f76-2782-4ac6-b9c8-115e7d8cd89a xmlns=\"http://www.w3.org/2000/svg\" xmlns:xlink=\"http://www.w3.org/1999/xlink\" class=\"plt-container\" width=\"600.0\" height=\"400.0\">\n  <style type=\"text/css\">\n  .plt-container {\n   font-family: Lucida Grande, sans-serif;\n   user-select: none;\n   -webkit-user-select: none;\n   -moz-user-select: none;\n   -ms-user-select: none;\n}\ntext {\n   text-rendering: optimizeLegibility;\n}\n#pQ9sHOZ .plot-title {\n   fill: #474747;\n   font-family: Lucida Grande, sans-serif;\n   font-size: 16.0px;\n   font-weight: normal;\n   font-style: normal;   \n}\n#pQ9sHOZ .plot-subtitle {\n   fill: #474747;\n   font-family: Lucida Grande, sans-serif;\n   font-size: 15.0px;\n   font-weight: normal;\n   font-style: normal;   \n}\n#pQ9sHOZ .plot-caption {\n   fill: #474747;\n   font-family: Lucida Grande, sans-serif;\n   font-size: 13.0px;\n   font-weight: normal;\n   font-style: normal;   \n}\n#pQ9sHOZ .legend-title {\n   fill: #474747;\n   font-family: Lucida Grande, sans-serif;\n   font-size: 15.0px;\n   font-weight: normal;\n   font-style: normal;   \n}\n#pQ9sHOZ .legend-item {\n   fill: #474747;\n   font-family: Lucida Grande, sans-serif;\n   font-size: 13.0px;\n   font-weight: normal;\n   font-style: normal;   \n}\n#pQ9sHOZ .axis-title-x {\n   fill: #474747;\n   font-family: Lucida Grande, sans-serif;\n   font-size: 15.0px;\n   font-weight: normal;\n   font-style: normal;   \n}\n#pQ9sHOZ .axis-text-x {\n   fill: #474747;\n   font-family: Lucida Grande, sans-serif;\n   font-size: 13.0px;\n   font-weight: normal;\n   font-style: normal;   \n}\n#dvdmfiq .axis-tooltip-text-x {\n   fill: #ffffff;\n   font-family: Lucida Grande, sans-serif;\n   font-size: 13.0px;\n   font-weight: normal;\n   font-style: normal;   \n}\n#pQ9sHOZ .axis-title-y {\n   fill: #474747;\n   font-family: Lucida Grande, sans-serif;\n   font-size: 15.0px;\n   font-weight: normal;\n   font-style: normal;   \n}\n#pQ9sHOZ .axis-text-y {\n   fill: #474747;\n   font-family: Lucida Grande, sans-serif;\n   font-size: 13.0px;\n   font-weight: normal;\n   font-style: normal;   \n}\n#dvdmfiq .axis-tooltip-text-y {\n   fill: #ffffff;\n   font-family: Lucida Grande, sans-serif;\n   font-size: 13.0px;\n   font-weight: normal;\n   font-style: normal;   \n}\n#pQ9sHOZ .facet-strip-text-x {\n   fill: #474747;\n   font-family: Lucida Grande, sans-serif;\n   font-size: 13.0px;\n   font-weight: normal;\n   font-style: normal;   \n}\n#pQ9sHOZ .facet-strip-text-y {\n   fill: #474747;\n   font-family: Lucida Grande, sans-serif;\n   font-size: 13.0px;\n   font-weight: normal;\n   font-style: normal;   \n}\n#dvdmfiq .tooltip-text {\n   fill: #474747;\n   font-family: Lucida Grande, sans-serif;\n   font-size: 13.0px;\n   font-weight: normal;\n   font-style: normal;   \n}\n#dvdmfiq .tooltip-title {\n   fill: #474747;\n   font-family: Lucida Grande, sans-serif;\n   font-size: 13.0px;\n   font-weight: bold;\n   font-style: normal;   \n}\n#dvdmfiq .tooltip-label {\n   fill: #474747;\n   font-family: Lucida Grande, sans-serif;\n   font-size: 13.0px;\n   font-weight: bold;\n   font-style: normal;   \n}\n\n  </style>\n  <g id=\"pQ9sHOZ\">\n    <rect x=\"0.0\" y=\"0.0\" height=\"400.0\" width=\"600.0\" stroke=\"rgb(71,71,71)\" stroke-opacity=\"1.0\" stroke-width=\"0.0\" fill=\"rgb(255,255,255)\" fill-opacity=\"1.0\">\n    </rect>\n    <g transform=\"translate(23.0 52.648468515484865 ) \">\n      <g transform=\"translate(13.980605455468202 191.41924953870065 ) \">\n        <line x1=\"39.40984549326189\" y1=\"-0.0\" x2=\"39.40984549326189\" y2=\"-191.41924953870065\" stroke=\"rgb(233,233,233)\" stroke-opacity=\"1.0\" stroke-width=\"1.0\">\n        </line>\n        <line x1=\"95.70962476935031\" y1=\"-0.0\" x2=\"95.70962476935031\" y2=\"-191.41924953870065\" stroke=\"rgb(233,233,233)\" stroke-opacity=\"1.0\" stroke-width=\"1.0\">\n        </line>\n        <line x1=\"152.00940404543874\" y1=\"-0.0\" x2=\"152.00940404543874\" y2=\"-191.41924953870065\" stroke=\"rgb(233,233,233)\" stroke-opacity=\"1.0\" stroke-width=\"1.0\">\n        </line>\n        <line x1=\"208.30918332152714\" y1=\"-0.0\" x2=\"208.30918332152714\" y2=\"-191.41924953870065\" stroke=\"rgb(233,233,233)\" stroke-opacity=\"1.0\" stroke-width=\"1.0\">\n        </line>\n        <line x1=\"264.6089625976156\" y1=\"-0.0\" x2=\"264.6089625976156\" y2=\"-191.41924953870065\" stroke=\"rgb(233,233,233)\" stroke-opacity=\"1.0\" stroke-width=\"1.0\">\n        </line>\n        <line x1=\"320.908741873704\" y1=\"-0.0\" x2=\"320.908741873704\" y2=\"-191.41924953870065\" stroke=\"rgb(233,233,233)\" stroke-opacity=\"1.0\" stroke-width=\"1.0\">\n        </line>\n        <line x1=\"377.20852114979243\" y1=\"-0.0\" x2=\"377.20852114979243\" y2=\"-191.41924953870065\" stroke=\"rgb(233,233,233)\" stroke-opacity=\"1.0\" stroke-width=\"1.0\">\n        </line>\n        <g transform=\"translate(39.40984549326189 0.0 ) \">\n          <line stroke-width=\"1.0\" stroke=\"rgb(71,71,71)\" stroke-opacity=\"1.0\" x2=\"0.0\" y2=\"4.0\">\n          </line>\n          <g transform=\"translate(0.0 7.0 ) rotate(90.0 ) \">\n            <text class=\"axis-text-x\" dy=\"0.35em\">\n            compact\n            </text>\n          </g>\n        </g>\n        <g transform=\"translate(95.70962476935031 0.0 ) \">\n          <line stroke-width=\"1.0\" stroke=\"rgb(71,71,71)\" stroke-opacity=\"1.0\" x2=\"0.0\" y2=\"4.0\">\n          </line>\n          <g transform=\"translate(0.0 7.0 ) rotate(90.0 ) \">\n            <text class=\"axis-text-x\" dy=\"0.35em\">\n            midsize\n            </text>\n          </g>\n        </g>\n        <g transform=\"translate(152.00940404543874 0.0 ) \">\n          <line stroke-width=\"1.0\" stroke=\"rgb(71,71,71)\" stroke-opacity=\"1.0\" x2=\"0.0\" y2=\"4.0\">\n          </line>\n          <g transform=\"translate(0.0 7.0 ) rotate(90.0 ) \">\n            <text class=\"axis-text-x\" dy=\"0.35em\">\n            suv\n            </text>\n          </g>\n        </g>\n        <g transform=\"translate(208.30918332152714 0.0 ) \">\n          <line stroke-width=\"1.0\" stroke=\"rgb(71,71,71)\" stroke-opacity=\"1.0\" x2=\"0.0\" y2=\"4.0\">\n          </line>\n          <g transform=\"translate(0.0 7.0 ) rotate(90.0 ) \">\n            <text class=\"axis-text-x\" dy=\"0.35em\">\n            2seater\n            </text>\n          </g>\n        </g>\n        <g transform=\"translate(264.6089625976156 0.0 ) \">\n          <line stroke-width=\"1.0\" stroke=\"rgb(71,71,71)\" stroke-opacity=\"1.0\" x2=\"0.0\" y2=\"4.0\">\n          </line>\n          <g transform=\"translate(0.0 7.0 ) rotate(90.0 ) \">\n            <text class=\"axis-text-x\" dy=\"0.35em\">\n            minivan\n            </text>\n          </g>\n        </g>\n        <g transform=\"translate(320.908741873704 0.0 ) \">\n          <line stroke-width=\"1.0\" stroke=\"rgb(71,71,71)\" stroke-opacity=\"1.0\" x2=\"0.0\" y2=\"4.0\">\n          </line>\n          <g transform=\"translate(0.0 7.0 ) rotate(90.0 ) \">\n            <text class=\"axis-text-x\" dy=\"0.35em\">\n            pickup\n            </text>\n          </g>\n        </g>\n        <g transform=\"translate(377.20852114979243 0.0 ) \">\n          <line stroke-width=\"1.0\" stroke=\"rgb(71,71,71)\" stroke-opacity=\"1.0\" x2=\"0.0\" y2=\"4.0\">\n          </line>\n          <g transform=\"translate(0.0 7.0 ) rotate(90.0 ) \">\n            <text class=\"axis-text-x\" dy=\"0.35em\">\n            subcompact\n            </text>\n          </g>\n        </g>\n        <line x1=\"0.0\" y1=\"0.0\" x2=\"416.61836664305434\" y2=\"0.0\" stroke-width=\"1.0\" stroke=\"rgb(71,71,71)\" stroke-opacity=\"1.0\">\n        </line>\n      </g>\n      <g transform=\"translate(13.980605455468202 0.0 ) \">\n        <line x1=\"0.0\" y1=\"152.00940404543877\" x2=\"416.61836664305434\" y2=\"152.00940404543877\" stroke=\"rgb(233,233,233)\" stroke-opacity=\"1.0\" stroke-width=\"1.0\">\n        </line>\n        <line x1=\"0.0\" y1=\"95.70962476935034\" x2=\"416.61836664305434\" y2=\"95.70962476935034\" stroke=\"rgb(233,233,233)\" stroke-opacity=\"1.0\" stroke-width=\"1.0\">\n        </line>\n        <line x1=\"0.0\" y1=\"39.409845493261926\" x2=\"416.61836664305434\" y2=\"39.409845493261926\" stroke=\"rgb(233,233,233)\" stroke-opacity=\"1.0\" stroke-width=\"1.0\">\n        </line>\n        <g transform=\"translate(0.0 152.00940404543877 ) \">\n          <g transform=\"translate(-3.0 0.0 ) \">\n            <text class=\"axis-text-y\" text-anchor=\"end\" dy=\"0.35em\">\n            f\n            </text>\n          </g>\n        </g>\n        <g transform=\"translate(0.0 95.70962476935034 ) \">\n          <g transform=\"translate(-3.0 0.0 ) \">\n            <text class=\"axis-text-y\" text-anchor=\"end\" dy=\"0.35em\">\n            4\n            </text>\n          </g>\n        </g>\n        <g transform=\"translate(0.0 39.409845493261926 ) \">\n          <g transform=\"translate(-3.0 0.0 ) \">\n            <text class=\"axis-text-y\" text-anchor=\"end\" dy=\"0.35em\">\n            r\n            </text>\n          </g>\n        </g>\n      </g>\n      <g transform=\"translate(13.980605455468202 0.0 ) \" clip-path=\"url(#cEJlL9f)\" clip-bounds-jfx=\"[rect (0.0, 0.0), (416.61836664305434, 191.41924953870065)]\">\n        <defs>\n          <clipPath id=\"cEJlL9f\">\n            <rect x=\"0.0\" y=\"0.0\" width=\"416.61836664305434\" height=\"191.41924953870065\">\n            </rect>\n          </clipPath>\n        </defs>\n        <g>\n          \n          <g >\n            <rect fill=\"#54adf2\" stroke=\"#000000\" stroke-opacity=\"0.0\" stroke-width=\"1.6500000000000001\" x=\"11.25995585521768\" y=\"123.85951440739456\" height=\"56.29977927608843\" width=\"56.299779276088415\" />\n            <rect fill=\"#21496e\" stroke=\"#000000\" stroke-opacity=\"0.0\" stroke-width=\"1.6500000000000001\" x=\"11.25995585521768\" y=\"67.55973513130614\" height=\"56.299779276088415\" width=\"56.299779276088415\" />\n            <rect fill=\"#132a42\" stroke=\"#000000\" stroke-opacity=\"0.0\" stroke-width=\"1.6500000000000001\" x=\"67.5597351313061\" y=\"67.55973513130614\" height=\"56.299779276088415\" width=\"56.29977927608843\" />\n            <rect fill=\"#1a3a59\" stroke=\"#000000\" stroke-opacity=\"0.0\" stroke-width=\"1.6500000000000001\" x=\"123.85951440739453\" y=\"11.259955855217726\" height=\"56.299779276088415\" width=\"56.2997792760884\" />\n            <rect fill=\"#16314c\" stroke=\"#000000\" stroke-opacity=\"0.0\" stroke-width=\"1.6500000000000001\" x=\"180.15929368348293\" y=\"11.259955855217726\" height=\"56.299779276088415\" width=\"56.29977927608843\" />\n            <rect fill=\"#4da0e2\" stroke=\"#000000\" stroke-opacity=\"0.0\" stroke-width=\"1.6500000000000001\" x=\"123.85951440739453\" y=\"67.55973513130614\" height=\"56.299779276088415\" width=\"56.2997792760884\" />\n            <rect fill=\"#57b1f7\" stroke=\"#000000\" stroke-opacity=\"0.0\" stroke-width=\"1.6500000000000001\" x=\"67.5597351313061\" y=\"123.85951440739456\" height=\"56.29977927608843\" width=\"56.29977927608843\" />\n            <rect fill=\"#1d4163\" stroke=\"#000000\" stroke-opacity=\"0.0\" stroke-width=\"1.6500000000000001\" x=\"236.45907295957136\" y=\"123.85951440739456\" height=\"56.29977927608843\" width=\"56.29977927608843\" />\n            <rect fill=\"#316a9c\" stroke=\"#000000\" stroke-opacity=\"0.0\" stroke-width=\"1.6500000000000001\" x=\"292.7588522356598\" y=\"67.55973513130614\" height=\"56.299779276088415\" width=\"56.29977927608843\" />\n            <rect fill=\"#1b3c5c\" stroke=\"#000000\" stroke-opacity=\"0.0\" stroke-width=\"1.6500000000000001\" x=\"349.0586315117482\" y=\"11.259955855217726\" height=\"56.299779276088415\" width=\"56.29977927608843\" />\n            <rect fill=\"#397ab2\" stroke=\"#000000\" stroke-opacity=\"0.0\" stroke-width=\"1.6500000000000001\" x=\"349.0586315117482\" y=\"123.85951440739456\" height=\"56.29977927608843\" width=\"56.29977927608843\" />\n            <rect fill=\"#142e48\" stroke=\"#000000\" stroke-opacity=\"0.0\" stroke-width=\"1.6500000000000001\" x=\"349.0586315117482\" y=\"67.55973513130614\" height=\"56.299779276088415\" width=\"56.29977927608843\" />\n          </g>\n        </g>\n      </g>\n    </g>\n    <g transform=\"translate(14.5 148.3580932848352 ) rotate(-90.0 ) \">\n      <text class=\"axis-title-y\" y=\"0.0\" text-anchor=\"middle\">\n      drv\n      </text>\n    </g>\n    <g transform=\"translate(245.28978877699538 348.85153148451514 ) \">\n      <text class=\"axis-title-x\" y=\"0.0\" text-anchor=\"middle\">\n      class\n      </text>\n    </g>\n    <g transform=\"translate(463.59897209852255 69.6080932848352 ) \">\n      <rect x=\"5.0\" y=\"5.0\" height=\"147.5\" width=\"126.40102790147745\" stroke=\"rgb(71,71,71)\" stroke-opacity=\"1.0\" stroke-width=\"0.0\" fill=\"rgb(255,255,255)\" fill-opacity=\"1.0\">\n      </rect>\n      <g transform=\"translate(10.0 10.0 ) \">\n        <g transform=\"translate(0.0 10.5 ) \">\n          <text class=\"legend-title\" y=\"0.0\">\n          countWeighted\n          </text>\n        </g>\n        <g transform=\"translate(0.0 22.5 ) \">\n          <g>\n            <rect x=\"0.0\" y=\"0.0\" height=\"115.0\" width=\"23.0\" stroke-width=\"0.0\" fill=\"rgb(85,174,243)\" fill-opacity=\"1.0\">\n            </rect>\n            <rect x=\"0.0\" y=\"7.55\" height=\"107.45\" width=\"23.0\" stroke-width=\"0.0\" fill=\"rgb(81,166,234)\" fill-opacity=\"1.0\">\n            </rect>\n            <rect x=\"0.0\" y=\"13.1\" height=\"101.9\" width=\"23.0\" stroke-width=\"0.0\" fill=\"rgb(77,159,225)\" fill-opacity=\"1.0\">\n            </rect>\n            <rect x=\"0.0\" y=\"18.65\" height=\"96.35\" width=\"23.0\" stroke-width=\"0.0\" fill=\"rgb(73,152,216)\" fill-opacity=\"1.0\">\n            </rect>\n            <rect x=\"0.0\" y=\"24.2\" height=\"90.8\" width=\"23.0\" stroke-width=\"0.0\" fill=\"rgb(69,145,207)\" fill-opacity=\"1.0\">\n            </rect>\n            <rect x=\"0.0\" y=\"29.75\" height=\"85.25\" width=\"23.0\" stroke-width=\"0.0\" fill=\"rgb(65,138,198)\" fill-opacity=\"1.0\">\n            </rect>\n            <rect x=\"0.0\" y=\"35.3\" height=\"79.7\" width=\"23.0\" stroke-width=\"0.0\" fill=\"rgb(62,131,189)\" fill-opacity=\"1.0\">\n            </rect>\n            <rect x=\"0.0\" y=\"40.849999999999994\" height=\"74.15\" width=\"23.0\" stroke-width=\"0.0\" fill=\"rgb(58,124,179)\" fill-opacity=\"1.0\">\n            </rect>\n            <rect x=\"0.0\" y=\"46.39999999999999\" height=\"68.60000000000001\" width=\"23.0\" stroke-width=\"0.0\" fill=\"rgb(55,117,170)\" fill-opacity=\"1.0\">\n            </rect>\n            <rect x=\"0.0\" y=\"51.94999999999999\" height=\"63.05000000000001\" width=\"23.0\" stroke-width=\"0.0\" fill=\"rgb(51,110,161)\" fill-opacity=\"1.0\">\n            </rect>\n            <rect x=\"0.0\" y=\"57.499999999999986\" height=\"57.500000000000014\" width=\"23.0\" stroke-width=\"0.0\" fill=\"rgb(48,103,152)\" fill-opacity=\"1.0\">\n            </rect>\n            <rect x=\"0.0\" y=\"63.04999999999998\" height=\"51.95000000000002\" width=\"23.0\" stroke-width=\"0.0\" fill=\"rgb(44,97,143)\" fill-opacity=\"1.0\">\n            </rect>\n            <rect x=\"0.0\" y=\"68.59999999999998\" height=\"46.40000000000002\" width=\"23.0\" stroke-width=\"0.0\" fill=\"rgb(41,90,134)\" fill-opacity=\"1.0\">\n            </rect>\n            <rect x=\"0.0\" y=\"74.14999999999998\" height=\"40.85000000000002\" width=\"23.0\" stroke-width=\"0.0\" fill=\"rgb(38,83,125)\" fill-opacity=\"1.0\">\n            </rect>\n            <rect x=\"0.0\" y=\"79.69999999999997\" height=\"35.300000000000026\" width=\"23.0\" stroke-width=\"0.0\" fill=\"rgb(35,77,116)\" fill-opacity=\"1.0\">\n            </rect>\n            <rect x=\"0.0\" y=\"85.24999999999997\" height=\"29.75000000000003\" width=\"23.0\" stroke-width=\"0.0\" fill=\"rgb(32,70,107)\" fill-opacity=\"1.0\">\n            </rect>\n            <rect x=\"0.0\" y=\"90.79999999999997\" height=\"24.20000000000003\" width=\"23.0\" stroke-width=\"0.0\" fill=\"rgb(29,64,98)\" fill-opacity=\"1.0\">\n            </rect>\n            <rect x=\"0.0\" y=\"96.34999999999997\" height=\"18.650000000000034\" width=\"23.0\" stroke-width=\"0.0\" fill=\"rgb(26,58,89)\" fill-opacity=\"1.0\">\n            </rect>\n            <rect x=\"0.0\" y=\"101.89999999999996\" height=\"13.100000000000037\" width=\"23.0\" stroke-width=\"0.0\" fill=\"rgb(23,52,80)\" fill-opacity=\"1.0\">\n            </rect>\n            <rect x=\"0.0\" y=\"107.44999999999996\" height=\"7.55000000000004\" width=\"23.0\" stroke-width=\"0.0\" fill=\"rgb(20,45,71)\" fill-opacity=\"1.0\">\n            </rect>\n            <line x1=\"0.0\" y1=\"98.4276923076923\" x2=\"4.6\" y2=\"98.4276923076923\" stroke-width=\"1.0\" stroke=\"rgb(255,255,255)\" stroke-opacity=\"1.0\">\n            </line>\n            <line x1=\"18.4\" y1=\"98.4276923076923\" x2=\"23.0\" y2=\"98.4276923076923\" stroke-width=\"1.0\" stroke=\"rgb(255,255,255)\" stroke-opacity=\"1.0\">\n            </line>\n            <g transform=\"translate(26.9903027277341 102.9776923076923 ) \">\n              <text class=\"legend-item\" y=\"0.0\">\n              200\n              </text>\n            </g>\n            <line x1=\"0.0\" y1=\"75.65846153846152\" x2=\"4.6\" y2=\"75.65846153846152\" stroke-width=\"1.0\" stroke=\"rgb(255,255,255)\" stroke-opacity=\"1.0\">\n            </line>\n            <line x1=\"18.4\" y1=\"75.65846153846152\" x2=\"23.0\" y2=\"75.65846153846152\" stroke-width=\"1.0\" stroke=\"rgb(255,255,255)\" stroke-opacity=\"1.0\">\n            </line>\n            <g transform=\"translate(26.9903027277341 80.20846153846152 ) \">\n              <text class=\"legend-item\" y=\"0.0\">\n              400\n              </text>\n            </g>\n            <line x1=\"0.0\" y1=\"52.889230769230764\" x2=\"4.6\" y2=\"52.889230769230764\" stroke-width=\"1.0\" stroke=\"rgb(255,255,255)\" stroke-opacity=\"1.0\">\n            </line>\n            <line x1=\"18.4\" y1=\"52.889230769230764\" x2=\"23.0\" y2=\"52.889230769230764\" stroke-width=\"1.0\" stroke=\"rgb(255,255,255)\" stroke-opacity=\"1.0\">\n            </line>\n            <g transform=\"translate(26.9903027277341 57.43923076923076 ) \">\n              <text class=\"legend-item\" y=\"0.0\">\n              600\n              </text>\n            </g>\n            <line x1=\"0.0\" y1=\"30.11999999999999\" x2=\"4.6\" y2=\"30.11999999999999\" stroke-width=\"1.0\" stroke=\"rgb(255,255,255)\" stroke-opacity=\"1.0\">\n            </line>\n            <line x1=\"18.4\" y1=\"30.11999999999999\" x2=\"23.0\" y2=\"30.11999999999999\" stroke-width=\"1.0\" stroke=\"rgb(255,255,255)\" stroke-opacity=\"1.0\">\n            </line>\n            <g transform=\"translate(26.9903027277341 34.66999999999999 ) \">\n              <text class=\"legend-item\" y=\"0.0\">\n              800\n              </text>\n            </g>\n            <line x1=\"0.0\" y1=\"7.350769230769217\" x2=\"4.6\" y2=\"7.350769230769217\" stroke-width=\"1.0\" stroke=\"rgb(255,255,255)\" stroke-opacity=\"1.0\">\n            </line>\n            <line x1=\"18.4\" y1=\"7.350769230769217\" x2=\"23.0\" y2=\"7.350769230769217\" stroke-width=\"1.0\" stroke=\"rgb(255,255,255)\" stroke-opacity=\"1.0\">\n            </line>\n            <g transform=\"translate(26.9903027277341 11.900769230769216 ) \">\n              <text class=\"legend-item\" y=\"0.0\">\n              1,000\n              </text>\n            </g>\n          </g>\n        </g>\n      </g>\n    </g>\n  </g>\n  <g id=\"dvdmfiq\">\n  </g>\n</svg>\n        <script>document.getElementById(\"14545f76-2782-4ac6-b9c8-115e7d8cd89a\").style.display = \"none\";</script>",
      "application/plot+json": {
       "output_type": "lets_plot_spec",
       "output": {
        "mapping": {},
        "data": {},
        "kind": "plot",
        "scales": [
         {
          "aesthetic": "x",
          "name": "class",
          "limits": [
           null,
           null
          ]
         },
         {
          "aesthetic": "y",
          "name": "drv",
          "limits": [
           null,
           null
          ]
         },
         {
          "aesthetic": "x",
          "discrete": true
         },
         {
          "aesthetic": "y",
          "discrete": true
         },
         {
          "aesthetic": "fill",
          "scale_mapper_kind": "color_gradient",
          "limits": [
           null,
           null
          ]
         }
        ],
        "layers": [
         {
          "mapping": {
           "x": "x",
           "y": "y",
           "fill": "countWeighted"
          },
          "stat": "identity",
          "data": {
           "x": [
            "compact",
            "compact",
            "midsize",
            "suv",
            "2seater",
            "suv",
            "midsize",
            "minivan",
            "pickup",
            "subcompact",
            "subcompact",
            "subcompact"
           ],
           "y": [
            "f",
            "4",
            "4",
            "r",
            "r",
            "4",
            "f",
            "f",
            "4",
            "r",
            "f",
            "4"
           ],
           "countWeighted": [
            1020.0,
            310.0,
            72.0,
            192.0,
            124.0,
            932.0,
            1047.0,
            246.0,
            557.0,
            209.0,
            672.0,
            104.0
           ]
          },
          "sampling": "none",
          "position": "identity",
          "geom": "tile"
         }
        ]
       },
       "apply_color_scheme": true,
       "swing_enabled": true
      }
     },
     "execution_count": 10,
     "metadata": {},
     "output_type": "execute_result"
    }
   ],
   "source": [
    "df.plot {\n",
    "    heatmap(`class`, drv, hwy)\n",
    "}"
   ],
   "metadata": {
    "collapsed": false,
    "ExecuteTime": {
     "end_time": "2023-10-19T12:05:37.657717Z",
     "start_time": "2023-10-19T12:05:37.525833Z"
    }
   }
  },
  {
   "cell_type": "markdown",
   "source": [
    "### `heatmap` plot"
   ],
   "metadata": {
    "collapsed": false
   }
  },
  {
   "cell_type": "markdown",
   "source": [
    "`heatmap(statCount2DArgs)` and `DataFrame.heatmap(statCount2DArgs)` is a family of functions for fast plotting a heatmap."
   ],
   "metadata": {
    "collapsed": false
   }
  },
  {
   "cell_type": "code",
   "execution_count": 11,
   "outputs": [
    {
     "data": {
      "text/html": "            <script type=\"text/javascript\" data-lets-plot-script=\"library\" src=\"https://cdn.jsdelivr.net/gh/JetBrains/lets-plot@v4.0.0/js-package/distr/lets-plot.min.js\"></script>    \n               <div id=\"3KI5OI\"></div>\n   <script type=\"text/javascript\" data-lets-plot-script=\"plot\">\n       var plotSpec={\n\"mapping\":{\n},\n\"data\":{\n\"x\":[\"A\",\"B\",\"B\",\"C\"],\n\"count\":[3.0,2.0,2.0,1.0],\n\"y\":[1.0,2.0,1.0,2.0]\n},\n\"kind\":\"plot\",\n\"scales\":[{\n\"aesthetic\":\"x\",\n\"discrete\":true\n},{\n\"aesthetic\":\"y\",\n\"limits\":[null,null]\n},{\n\"aesthetic\":\"fill\",\n\"scale_mapper_kind\":\"color_gradient\",\n\"limits\":[null,null]\n},{\n\"aesthetic\":\"x\",\n\"name\":\"x\",\n\"limits\":[null,null]\n},{\n\"aesthetic\":\"y\",\n\"name\":\"y\",\n\"limits\":[null,null]\n}],\n\"layers\":[{\n\"mapping\":{\n\"x\":\"x\",\n\"y\":\"y\",\n\"fill\":\"count\"\n},\n\"stat\":\"identity\",\n\"sampling\":\"none\",\n\"position\":\"identity\",\n\"geom\":\"tile\",\n\"data\":{\n}\n}]\n};\n       var plotContainer = document.getElementById(\"3KI5OI\");\n       LetsPlot.buildPlotFromProcessedSpecs(plotSpec, -1, -1, plotContainer);\n   </script>            \n        <svg id=7ff1ea80-22fa-4bf6-8a59-cc4981b0ce39 xmlns=\"http://www.w3.org/2000/svg\" xmlns:xlink=\"http://www.w3.org/1999/xlink\" class=\"plt-container\" width=\"600.0\" height=\"400.0\">\n  <style type=\"text/css\">\n  .plt-container {\n   font-family: Lucida Grande, sans-serif;\n   user-select: none;\n   -webkit-user-select: none;\n   -moz-user-select: none;\n   -ms-user-select: none;\n}\ntext {\n   text-rendering: optimizeLegibility;\n}\n#pUNSmZF .plot-title {\n   fill: #474747;\n   font-family: Lucida Grande, sans-serif;\n   font-size: 16.0px;\n   font-weight: normal;\n   font-style: normal;   \n}\n#pUNSmZF .plot-subtitle {\n   fill: #474747;\n   font-family: Lucida Grande, sans-serif;\n   font-size: 15.0px;\n   font-weight: normal;\n   font-style: normal;   \n}\n#pUNSmZF .plot-caption {\n   fill: #474747;\n   font-family: Lucida Grande, sans-serif;\n   font-size: 13.0px;\n   font-weight: normal;\n   font-style: normal;   \n}\n#pUNSmZF .legend-title {\n   fill: #474747;\n   font-family: Lucida Grande, sans-serif;\n   font-size: 15.0px;\n   font-weight: normal;\n   font-style: normal;   \n}\n#pUNSmZF .legend-item {\n   fill: #474747;\n   font-family: Lucida Grande, sans-serif;\n   font-size: 13.0px;\n   font-weight: normal;\n   font-style: normal;   \n}\n#pUNSmZF .axis-title-x {\n   fill: #474747;\n   font-family: Lucida Grande, sans-serif;\n   font-size: 15.0px;\n   font-weight: normal;\n   font-style: normal;   \n}\n#pUNSmZF .axis-text-x {\n   fill: #474747;\n   font-family: Lucida Grande, sans-serif;\n   font-size: 13.0px;\n   font-weight: normal;\n   font-style: normal;   \n}\n#dcBaIeK .axis-tooltip-text-x {\n   fill: #ffffff;\n   font-family: Lucida Grande, sans-serif;\n   font-size: 13.0px;\n   font-weight: normal;\n   font-style: normal;   \n}\n#pUNSmZF .axis-title-y {\n   fill: #474747;\n   font-family: Lucida Grande, sans-serif;\n   font-size: 15.0px;\n   font-weight: normal;\n   font-style: normal;   \n}\n#pUNSmZF .axis-text-y {\n   fill: #474747;\n   font-family: Lucida Grande, sans-serif;\n   font-size: 13.0px;\n   font-weight: normal;\n   font-style: normal;   \n}\n#dcBaIeK .axis-tooltip-text-y {\n   fill: #ffffff;\n   font-family: Lucida Grande, sans-serif;\n   font-size: 13.0px;\n   font-weight: normal;\n   font-style: normal;   \n}\n#pUNSmZF .facet-strip-text-x {\n   fill: #474747;\n   font-family: Lucida Grande, sans-serif;\n   font-size: 13.0px;\n   font-weight: normal;\n   font-style: normal;   \n}\n#pUNSmZF .facet-strip-text-y {\n   fill: #474747;\n   font-family: Lucida Grande, sans-serif;\n   font-size: 13.0px;\n   font-weight: normal;\n   font-style: normal;   \n}\n#dcBaIeK .tooltip-text {\n   fill: #474747;\n   font-family: Lucida Grande, sans-serif;\n   font-size: 13.0px;\n   font-weight: normal;\n   font-style: normal;   \n}\n#dcBaIeK .tooltip-title {\n   fill: #474747;\n   font-family: Lucida Grande, sans-serif;\n   font-size: 13.0px;\n   font-weight: bold;\n   font-style: normal;   \n}\n#dcBaIeK .tooltip-label {\n   fill: #474747;\n   font-family: Lucida Grande, sans-serif;\n   font-size: 13.0px;\n   font-weight: bold;\n   font-style: normal;   \n}\n\n  </style>\n  <g id=\"pUNSmZF\">\n    <rect x=\"0.0\" y=\"0.0\" height=\"400.0\" width=\"600.0\" stroke=\"rgb(71,71,71)\" stroke-opacity=\"1.0\" stroke-width=\"0.0\" fill=\"rgb(255,255,255)\" fill-opacity=\"1.0\">\n    </rect>\n    <g transform=\"translate(23.0 29.313434025037253 ) \">\n      <g transform=\"translate(27.034701220281416 305.3731319499255 ) \">\n        <line x1=\"97.16417834770354\" y1=\"-0.0\" x2=\"97.16417834770354\" y2=\"-305.3731319499255\" stroke=\"rgb(233,233,233)\" stroke-opacity=\"1.0\" stroke-width=\"1.0\">\n        </line>\n        <line x1=\"235.97014741585147\" y1=\"-0.0\" x2=\"235.97014741585147\" y2=\"-305.3731319499255\" stroke=\"rgb(233,233,233)\" stroke-opacity=\"1.0\" stroke-width=\"1.0\">\n        </line>\n        <line x1=\"374.77611648399943\" y1=\"-0.0\" x2=\"374.77611648399943\" y2=\"-305.3731319499255\" stroke=\"rgb(233,233,233)\" stroke-opacity=\"1.0\" stroke-width=\"1.0\">\n        </line>\n        <g transform=\"translate(97.16417834770354 0.0 ) \">\n          <line stroke-width=\"1.0\" stroke=\"rgb(71,71,71)\" stroke-opacity=\"1.0\" x2=\"0.0\" y2=\"4.0\">\n          </line>\n          <g transform=\"translate(0.0 7.0 ) \">\n            <text class=\"axis-text-x\" text-anchor=\"middle\" dy=\"0.7em\">\n            A\n            </text>\n          </g>\n        </g>\n        <g transform=\"translate(235.97014741585147 0.0 ) \">\n          <line stroke-width=\"1.0\" stroke=\"rgb(71,71,71)\" stroke-opacity=\"1.0\" x2=\"0.0\" y2=\"4.0\">\n          </line>\n          <g transform=\"translate(0.0 7.0 ) \">\n            <text class=\"axis-text-x\" text-anchor=\"middle\" dy=\"0.7em\">\n            B\n            </text>\n          </g>\n        </g>\n        <g transform=\"translate(374.77611648399943 0.0 ) \">\n          <line stroke-width=\"1.0\" stroke=\"rgb(71,71,71)\" stroke-opacity=\"1.0\" x2=\"0.0\" y2=\"4.0\">\n          </line>\n          <g transform=\"translate(0.0 7.0 ) \">\n            <text class=\"axis-text-x\" text-anchor=\"middle\" dy=\"0.7em\">\n            C\n            </text>\n          </g>\n        </g>\n        <line x1=\"0.0\" y1=\"0.0\" x2=\"471.94029483170306\" y2=\"0.0\" stroke-width=\"1.0\" stroke=\"rgb(71,71,71)\" stroke-opacity=\"1.0\">\n        </line>\n      </g>\n      <g transform=\"translate(27.034701220281416 0.0 ) \">\n        <line x1=\"0.0\" y1=\"291.4925350431107\" x2=\"471.94029483170306\" y2=\"291.4925350431107\" stroke=\"rgb(233,233,233)\" stroke-opacity=\"1.0\" stroke-width=\"1.0\">\n        </line>\n        <line x1=\"0.0\" y1=\"222.08955050903677\" x2=\"471.94029483170306\" y2=\"222.08955050903677\" stroke=\"rgb(233,233,233)\" stroke-opacity=\"1.0\" stroke-width=\"1.0\">\n        </line>\n        <line x1=\"0.0\" y1=\"152.6865659749628\" x2=\"471.94029483170306\" y2=\"152.6865659749628\" stroke=\"rgb(233,233,233)\" stroke-opacity=\"1.0\" stroke-width=\"1.0\">\n        </line>\n        <line x1=\"0.0\" y1=\"83.28358144088884\" x2=\"471.94029483170306\" y2=\"83.28358144088884\" stroke=\"rgb(233,233,233)\" stroke-opacity=\"1.0\" stroke-width=\"1.0\">\n        </line>\n        <line x1=\"0.0\" y1=\"13.880596906814844\" x2=\"471.94029483170306\" y2=\"13.880596906814844\" stroke=\"rgb(233,233,233)\" stroke-opacity=\"1.0\" stroke-width=\"1.0\">\n        </line>\n        <g transform=\"translate(0.0 291.4925350431107 ) \">\n          <g transform=\"translate(-3.0 0.0 ) \">\n            <text class=\"axis-text-y\" text-anchor=\"end\" dy=\"0.35em\">\n            0.5\n            </text>\n          </g>\n        </g>\n        <g transform=\"translate(0.0 222.08955050903677 ) \">\n          <g transform=\"translate(-3.0 0.0 ) \">\n            <text class=\"axis-text-y\" text-anchor=\"end\" dy=\"0.35em\">\n            1.0\n            </text>\n          </g>\n        </g>\n        <g transform=\"translate(0.0 152.6865659749628 ) \">\n          <g transform=\"translate(-3.0 0.0 ) \">\n            <text class=\"axis-text-y\" text-anchor=\"end\" dy=\"0.35em\">\n            1.5\n            </text>\n          </g>\n        </g>\n        <g transform=\"translate(0.0 83.28358144088884 ) \">\n          <g transform=\"translate(-3.0 0.0 ) \">\n            <text class=\"axis-text-y\" text-anchor=\"end\" dy=\"0.35em\">\n            2.0\n            </text>\n          </g>\n        </g>\n        <g transform=\"translate(0.0 13.880596906814844 ) \">\n          <g transform=\"translate(-3.0 0.0 ) \">\n            <text class=\"axis-text-y\" text-anchor=\"end\" dy=\"0.35em\">\n            2.5\n            </text>\n          </g>\n        </g>\n      </g>\n      <g transform=\"translate(27.034701220281416 0.0 ) \" clip-path=\"url(#cFEeTL0)\" clip-bounds-jfx=\"[rect (0.0, 0.0), (471.94029483170306, 305.3731319499255)]\">\n        <defs>\n          <clipPath id=\"cFEeTL0\">\n            <rect x=\"0.0\" y=\"0.0\" width=\"471.94029483170306\" height=\"305.3731319499255\">\n            </rect>\n          </clipPath>\n        </defs>\n        <g>\n          \n          <g >\n            <rect fill=\"#57b1f7\" stroke=\"#000000\" stroke-opacity=\"0.0\" stroke-width=\"1.6500000000000001\" x=\"27.761193813629575\" y=\"152.6865659749628\" height=\"138.8059690681479\" width=\"138.80596906814793\" />\n            <rect fill=\"#316b9d\" stroke=\"#000000\" stroke-opacity=\"0.0\" stroke-width=\"1.6500000000000001\" x=\"166.5671628817775\" y=\"13.880596906814844\" height=\"138.80596906814796\" width=\"138.80596906814793\" />\n            <rect fill=\"#316b9d\" stroke=\"#000000\" stroke-opacity=\"0.0\" stroke-width=\"1.6500000000000001\" x=\"166.5671628817775\" y=\"152.6865659749628\" height=\"138.8059690681479\" width=\"138.80596906814793\" />\n            <rect fill=\"#132a42\" stroke=\"#000000\" stroke-opacity=\"0.0\" stroke-width=\"1.6500000000000001\" x=\"305.37313194992544\" y=\"13.880596906814844\" height=\"138.80596906814796\" width=\"138.805969068148\" />\n          </g>\n        </g>\n      </g>\n    </g>\n    <g transform=\"translate(14.5 182.0 ) rotate(-90.0 ) \">\n      <text class=\"axis-title-y\" y=\"0.0\" text-anchor=\"middle\">\n      y\n      </text>\n    </g>\n    <g transform=\"translate(286.0048486361329 372.1865659749627 ) \">\n      <text class=\"axis-title-x\" y=\"0.0\" text-anchor=\"middle\">\n      x\n      </text>\n    </g>\n    <g transform=\"translate(531.9749960519845 103.25 ) \">\n      <rect x=\"5.0\" y=\"5.0\" height=\"147.5\" width=\"58.02500394801552\" stroke=\"rgb(71,71,71)\" stroke-opacity=\"1.0\" stroke-width=\"0.0\" fill=\"rgb(255,255,255)\" fill-opacity=\"1.0\">\n      </rect>\n      <g transform=\"translate(10.0 10.0 ) \">\n        <g transform=\"translate(0.0 10.5 ) \">\n          <text class=\"legend-title\" y=\"0.0\">\n          count\n          </text>\n        </g>\n        <g transform=\"translate(0.0 22.5 ) \">\n          <g>\n            <rect x=\"0.0\" y=\"0.0\" height=\"115.0\" width=\"23.0\" stroke-width=\"0.0\" fill=\"rgb(85,174,243)\" fill-opacity=\"1.0\">\n            </rect>\n            <rect x=\"0.0\" y=\"7.55\" height=\"107.45\" width=\"23.0\" stroke-width=\"0.0\" fill=\"rgb(81,166,234)\" fill-opacity=\"1.0\">\n            </rect>\n            <rect x=\"0.0\" y=\"13.1\" height=\"101.9\" width=\"23.0\" stroke-width=\"0.0\" fill=\"rgb(77,159,225)\" fill-opacity=\"1.0\">\n            </rect>\n            <rect x=\"0.0\" y=\"18.65\" height=\"96.35\" width=\"23.0\" stroke-width=\"0.0\" fill=\"rgb(73,152,216)\" fill-opacity=\"1.0\">\n            </rect>\n            <rect x=\"0.0\" y=\"24.2\" height=\"90.8\" width=\"23.0\" stroke-width=\"0.0\" fill=\"rgb(69,145,207)\" fill-opacity=\"1.0\">\n            </rect>\n            <rect x=\"0.0\" y=\"29.75\" height=\"85.25\" width=\"23.0\" stroke-width=\"0.0\" fill=\"rgb(65,138,198)\" fill-opacity=\"1.0\">\n            </rect>\n            <rect x=\"0.0\" y=\"35.3\" height=\"79.7\" width=\"23.0\" stroke-width=\"0.0\" fill=\"rgb(62,131,189)\" fill-opacity=\"1.0\">\n            </rect>\n            <rect x=\"0.0\" y=\"40.849999999999994\" height=\"74.15\" width=\"23.0\" stroke-width=\"0.0\" fill=\"rgb(58,124,179)\" fill-opacity=\"1.0\">\n            </rect>\n            <rect x=\"0.0\" y=\"46.39999999999999\" height=\"68.60000000000001\" width=\"23.0\" stroke-width=\"0.0\" fill=\"rgb(55,117,170)\" fill-opacity=\"1.0\">\n            </rect>\n            <rect x=\"0.0\" y=\"51.94999999999999\" height=\"63.05000000000001\" width=\"23.0\" stroke-width=\"0.0\" fill=\"rgb(51,110,161)\" fill-opacity=\"1.0\">\n            </rect>\n            <rect x=\"0.0\" y=\"57.499999999999986\" height=\"57.500000000000014\" width=\"23.0\" stroke-width=\"0.0\" fill=\"rgb(48,103,152)\" fill-opacity=\"1.0\">\n            </rect>\n            <rect x=\"0.0\" y=\"63.04999999999998\" height=\"51.95000000000002\" width=\"23.0\" stroke-width=\"0.0\" fill=\"rgb(44,97,143)\" fill-opacity=\"1.0\">\n            </rect>\n            <rect x=\"0.0\" y=\"68.59999999999998\" height=\"46.40000000000002\" width=\"23.0\" stroke-width=\"0.0\" fill=\"rgb(41,90,134)\" fill-opacity=\"1.0\">\n            </rect>\n            <rect x=\"0.0\" y=\"74.14999999999998\" height=\"40.85000000000002\" width=\"23.0\" stroke-width=\"0.0\" fill=\"rgb(38,83,125)\" fill-opacity=\"1.0\">\n            </rect>\n            <rect x=\"0.0\" y=\"79.69999999999997\" height=\"35.300000000000026\" width=\"23.0\" stroke-width=\"0.0\" fill=\"rgb(35,77,116)\" fill-opacity=\"1.0\">\n            </rect>\n            <rect x=\"0.0\" y=\"85.24999999999997\" height=\"29.75000000000003\" width=\"23.0\" stroke-width=\"0.0\" fill=\"rgb(32,70,107)\" fill-opacity=\"1.0\">\n            </rect>\n            <rect x=\"0.0\" y=\"90.79999999999997\" height=\"24.20000000000003\" width=\"23.0\" stroke-width=\"0.0\" fill=\"rgb(29,64,98)\" fill-opacity=\"1.0\">\n            </rect>\n            <rect x=\"0.0\" y=\"96.34999999999997\" height=\"18.650000000000034\" width=\"23.0\" stroke-width=\"0.0\" fill=\"rgb(26,58,89)\" fill-opacity=\"1.0\">\n            </rect>\n            <rect x=\"0.0\" y=\"101.89999999999996\" height=\"13.100000000000037\" width=\"23.0\" stroke-width=\"0.0\" fill=\"rgb(23,52,80)\" fill-opacity=\"1.0\">\n            </rect>\n            <rect x=\"0.0\" y=\"107.44999999999996\" height=\"7.55000000000004\" width=\"23.0\" stroke-width=\"0.0\" fill=\"rgb(20,45,71)\" fill-opacity=\"1.0\">\n            </rect>\n            <line x1=\"0.0\" y1=\"113.0\" x2=\"4.6\" y2=\"113.0\" stroke-width=\"1.0\" stroke=\"rgb(255,255,255)\" stroke-opacity=\"1.0\">\n            </line>\n            <line x1=\"18.4\" y1=\"113.0\" x2=\"23.0\" y2=\"113.0\" stroke-width=\"1.0\" stroke=\"rgb(255,255,255)\" stroke-opacity=\"1.0\">\n            </line>\n            <g transform=\"translate(26.9903027277341 117.55 ) \">\n              <text class=\"legend-item\" y=\"0.0\">\n              1.0\n              </text>\n            </g>\n            <line x1=\"0.0\" y1=\"85.25\" x2=\"4.6\" y2=\"85.25\" stroke-width=\"1.0\" stroke=\"rgb(255,255,255)\" stroke-opacity=\"1.0\">\n            </line>\n            <line x1=\"18.4\" y1=\"85.25\" x2=\"23.0\" y2=\"85.25\" stroke-width=\"1.0\" stroke=\"rgb(255,255,255)\" stroke-opacity=\"1.0\">\n            </line>\n            <g transform=\"translate(26.9903027277341 89.8 ) \">\n              <text class=\"legend-item\" y=\"0.0\">\n              1.5\n              </text>\n            </g>\n            <line x1=\"0.0\" y1=\"57.5\" x2=\"4.6\" y2=\"57.5\" stroke-width=\"1.0\" stroke=\"rgb(255,255,255)\" stroke-opacity=\"1.0\">\n            </line>\n            <line x1=\"18.4\" y1=\"57.5\" x2=\"23.0\" y2=\"57.5\" stroke-width=\"1.0\" stroke=\"rgb(255,255,255)\" stroke-opacity=\"1.0\">\n            </line>\n            <g transform=\"translate(26.9903027277341 62.05 ) \">\n              <text class=\"legend-item\" y=\"0.0\">\n              2.0\n              </text>\n            </g>\n            <line x1=\"0.0\" y1=\"29.75\" x2=\"4.6\" y2=\"29.75\" stroke-width=\"1.0\" stroke=\"rgb(255,255,255)\" stroke-opacity=\"1.0\">\n            </line>\n            <line x1=\"18.4\" y1=\"29.75\" x2=\"23.0\" y2=\"29.75\" stroke-width=\"1.0\" stroke=\"rgb(255,255,255)\" stroke-opacity=\"1.0\">\n            </line>\n            <g transform=\"translate(26.9903027277341 34.3 ) \">\n              <text class=\"legend-item\" y=\"0.0\">\n              2.5\n              </text>\n            </g>\n            <line x1=\"0.0\" y1=\"2.0\" x2=\"4.6\" y2=\"2.0\" stroke-width=\"1.0\" stroke=\"rgb(255,255,255)\" stroke-opacity=\"1.0\">\n            </line>\n            <line x1=\"18.4\" y1=\"2.0\" x2=\"23.0\" y2=\"2.0\" stroke-width=\"1.0\" stroke=\"rgb(255,255,255)\" stroke-opacity=\"1.0\">\n            </line>\n            <g transform=\"translate(26.9903027277341 6.549999999999999 ) \">\n              <text class=\"legend-item\" y=\"0.0\">\n              3.0\n              </text>\n            </g>\n          </g>\n        </g>\n      </g>\n    </g>\n  </g>\n  <g id=\"dcBaIeK\">\n  </g>\n</svg>\n        <script>document.getElementById(\"7ff1ea80-22fa-4bf6-8a59-cc4981b0ce39\").style.display = \"none\";</script>",
      "application/plot+json": {
       "output_type": "lets_plot_spec",
       "output": {
        "mapping": {},
        "data": {
         "x": [
          "A",
          "B",
          "B",
          "C"
         ],
         "count": [
          3.0,
          2.0,
          2.0,
          1.0
         ],
         "y": [
          1.0,
          2.0,
          1.0,
          2.0
         ]
        },
        "kind": "plot",
        "scales": [
         {
          "aesthetic": "x",
          "discrete": true
         },
         {
          "aesthetic": "y",
          "limits": [
           null,
           null
          ]
         },
         {
          "aesthetic": "fill",
          "scale_mapper_kind": "color_gradient",
          "limits": [
           null,
           null
          ]
         },
         {
          "aesthetic": "x",
          "name": "x",
          "limits": [
           null,
           null
          ]
         },
         {
          "aesthetic": "y",
          "name": "y",
          "limits": [
           null,
           null
          ]
         }
        ],
        "layers": [
         {
          "mapping": {
           "x": "x",
           "y": "y",
           "fill": "count"
          },
          "stat": "identity",
          "sampling": "none",
          "position": "identity",
          "geom": "tile"
         }
        ]
       },
       "apply_color_scheme": true,
       "swing_enabled": true
      }
     },
     "execution_count": 11,
     "metadata": {},
     "output_type": "execute_result"
    }
   ],
   "source": [
    "heatmap(\n",
    "   listOf(\"A\", \"A\", \"A\", \"B\", \"B\", \"C\", \"B\", \"B\"),\n",
    "   listOf(1, 1, 1, 2, 1, 2, 1, 2),\n",
    ")"
   ],
   "metadata": {
    "collapsed": false,
    "ExecuteTime": {
     "end_time": "2023-10-19T12:05:37.783482Z",
     "start_time": "2023-10-19T12:05:37.648905Z"
    }
   }
  },
  {
   "cell_type": "code",
   "execution_count": 12,
   "outputs": [
    {
     "data": {
      "text/html": "            <script type=\"text/javascript\" data-lets-plot-script=\"library\" src=\"https://cdn.jsdelivr.net/gh/JetBrains/lets-plot@v4.0.0/js-package/distr/lets-plot.min.js\"></script>    \n               <div id=\"93rcxs\"></div>\n   <script type=\"text/javascript\" data-lets-plot-script=\"plot\">\n       var plotSpec={\n\"mapping\":{\n},\n\"data\":{\n\"x\":[\"compact\",\"compact\",\"midsize\",\"suv\",\"2seater\",\"suv\",\"midsize\",\"minivan\",\"pickup\",\"subcompact\",\"subcompact\",\"subcompact\"],\n\"count\":[35.0,12.0,3.0,11.0,5.0,51.0,38.0,11.0,33.0,9.0,22.0,4.0],\n\"y\":[\"f\",\"4\",\"4\",\"r\",\"r\",\"4\",\"f\",\"f\",\"4\",\"r\",\"f\",\"4\"]\n},\n\"kind\":\"plot\",\n\"scales\":[{\n\"aesthetic\":\"x\",\n\"discrete\":true\n},{\n\"aesthetic\":\"y\",\n\"discrete\":true\n},{\n\"aesthetic\":\"fill\",\n\"scale_mapper_kind\":\"color_gradient\",\n\"limits\":[null,null]\n},{\n\"aesthetic\":\"x\",\n\"name\":\"class\",\n\"limits\":[null,null]\n},{\n\"aesthetic\":\"y\",\n\"name\":\"drv\",\n\"limits\":[null,null]\n}],\n\"layers\":[{\n\"mapping\":{\n\"x\":\"x\",\n\"y\":\"y\",\n\"fill\":\"count\"\n},\n\"stat\":\"identity\",\n\"sampling\":\"none\",\n\"position\":\"identity\",\n\"geom\":\"tile\",\n\"data\":{\n}\n}]\n};\n       var plotContainer = document.getElementById(\"93rcxs\");\n       LetsPlot.buildPlotFromProcessedSpecs(plotSpec, -1, -1, plotContainer);\n   </script>            \n        <svg id=ebe8e20a-f3ae-44a1-a36a-465989f08627 xmlns=\"http://www.w3.org/2000/svg\" xmlns:xlink=\"http://www.w3.org/1999/xlink\" class=\"plt-container\" width=\"600.0\" height=\"400.0\">\n  <style type=\"text/css\">\n  .plt-container {\n   font-family: Lucida Grande, sans-serif;\n   user-select: none;\n   -webkit-user-select: none;\n   -moz-user-select: none;\n   -ms-user-select: none;\n}\ntext {\n   text-rendering: optimizeLegibility;\n}\n#pDj2BUC .plot-title {\n   fill: #474747;\n   font-family: Lucida Grande, sans-serif;\n   font-size: 16.0px;\n   font-weight: normal;\n   font-style: normal;   \n}\n#pDj2BUC .plot-subtitle {\n   fill: #474747;\n   font-family: Lucida Grande, sans-serif;\n   font-size: 15.0px;\n   font-weight: normal;\n   font-style: normal;   \n}\n#pDj2BUC .plot-caption {\n   fill: #474747;\n   font-family: Lucida Grande, sans-serif;\n   font-size: 13.0px;\n   font-weight: normal;\n   font-style: normal;   \n}\n#pDj2BUC .legend-title {\n   fill: #474747;\n   font-family: Lucida Grande, sans-serif;\n   font-size: 15.0px;\n   font-weight: normal;\n   font-style: normal;   \n}\n#pDj2BUC .legend-item {\n   fill: #474747;\n   font-family: Lucida Grande, sans-serif;\n   font-size: 13.0px;\n   font-weight: normal;\n   font-style: normal;   \n}\n#pDj2BUC .axis-title-x {\n   fill: #474747;\n   font-family: Lucida Grande, sans-serif;\n   font-size: 15.0px;\n   font-weight: normal;\n   font-style: normal;   \n}\n#pDj2BUC .axis-text-x {\n   fill: #474747;\n   font-family: Lucida Grande, sans-serif;\n   font-size: 13.0px;\n   font-weight: normal;\n   font-style: normal;   \n}\n#dLh34rQ .axis-tooltip-text-x {\n   fill: #ffffff;\n   font-family: Lucida Grande, sans-serif;\n   font-size: 13.0px;\n   font-weight: normal;\n   font-style: normal;   \n}\n#pDj2BUC .axis-title-y {\n   fill: #474747;\n   font-family: Lucida Grande, sans-serif;\n   font-size: 15.0px;\n   font-weight: normal;\n   font-style: normal;   \n}\n#pDj2BUC .axis-text-y {\n   fill: #474747;\n   font-family: Lucida Grande, sans-serif;\n   font-size: 13.0px;\n   font-weight: normal;\n   font-style: normal;   \n}\n#dLh34rQ .axis-tooltip-text-y {\n   fill: #ffffff;\n   font-family: Lucida Grande, sans-serif;\n   font-size: 13.0px;\n   font-weight: normal;\n   font-style: normal;   \n}\n#pDj2BUC .facet-strip-text-x {\n   fill: #474747;\n   font-family: Lucida Grande, sans-serif;\n   font-size: 13.0px;\n   font-weight: normal;\n   font-style: normal;   \n}\n#pDj2BUC .facet-strip-text-y {\n   fill: #474747;\n   font-family: Lucida Grande, sans-serif;\n   font-size: 13.0px;\n   font-weight: normal;\n   font-style: normal;   \n}\n#dLh34rQ .tooltip-text {\n   fill: #474747;\n   font-family: Lucida Grande, sans-serif;\n   font-size: 13.0px;\n   font-weight: normal;\n   font-style: normal;   \n}\n#dLh34rQ .tooltip-title {\n   fill: #474747;\n   font-family: Lucida Grande, sans-serif;\n   font-size: 13.0px;\n   font-weight: bold;\n   font-style: normal;   \n}\n#dLh34rQ .tooltip-label {\n   fill: #474747;\n   font-family: Lucida Grande, sans-serif;\n   font-size: 13.0px;\n   font-weight: bold;\n   font-style: normal;   \n}\n\n  </style>\n  <g id=\"pDj2BUC\">\n    <rect x=\"0.0\" y=\"0.0\" height=\"400.0\" width=\"600.0\" stroke=\"rgb(71,71,71)\" stroke-opacity=\"1.0\" stroke-width=\"0.0\" fill=\"rgb(255,255,255)\" fill-opacity=\"1.0\">\n    </rect>\n    <g transform=\"translate(23.0 61.61683817027509 ) \">\n      <g transform=\"translate(13.980605455468202 225.16632365944983 ) \">\n        <line x1=\"46.35777251812201\" y1=\"-0.0\" x2=\"46.35777251812201\" y2=\"-225.16632365944983\" stroke=\"rgb(233,233,233)\" stroke-opacity=\"1.0\" stroke-width=\"1.0\">\n        </line>\n        <line x1=\"112.5831618297249\" y1=\"-0.0\" x2=\"112.5831618297249\" y2=\"-225.16632365944983\" stroke=\"rgb(233,233,233)\" stroke-opacity=\"1.0\" stroke-width=\"1.0\">\n        </line>\n        <line x1=\"178.80855114132777\" y1=\"-0.0\" x2=\"178.80855114132777\" y2=\"-225.16632365944983\" stroke=\"rgb(233,233,233)\" stroke-opacity=\"1.0\" stroke-width=\"1.0\">\n        </line>\n        <line x1=\"245.03394045293064\" y1=\"-0.0\" x2=\"245.03394045293064\" y2=\"-225.16632365944983\" stroke=\"rgb(233,233,233)\" stroke-opacity=\"1.0\" stroke-width=\"1.0\">\n        </line>\n        <line x1=\"311.25932976453356\" y1=\"-0.0\" x2=\"311.25932976453356\" y2=\"-225.16632365944983\" stroke=\"rgb(233,233,233)\" stroke-opacity=\"1.0\" stroke-width=\"1.0\">\n        </line>\n        <line x1=\"377.48471907613646\" y1=\"-0.0\" x2=\"377.48471907613646\" y2=\"-225.16632365944983\" stroke=\"rgb(233,233,233)\" stroke-opacity=\"1.0\" stroke-width=\"1.0\">\n        </line>\n        <line x1=\"443.7101083877393\" y1=\"-0.0\" x2=\"443.7101083877393\" y2=\"-225.16632365944983\" stroke=\"rgb(233,233,233)\" stroke-opacity=\"1.0\" stroke-width=\"1.0\">\n        </line>\n        <g transform=\"translate(46.35777251812201 0.0 ) \">\n          <line stroke-width=\"1.0\" stroke=\"rgb(71,71,71)\" stroke-opacity=\"1.0\" x2=\"0.0\" y2=\"4.0\">\n          </line>\n          <g transform=\"translate(0.0 7.0 ) \">\n            <text class=\"axis-text-x\" text-anchor=\"middle\" dy=\"0.7em\">\n            compact\n            </text>\n          </g>\n        </g>\n        <g transform=\"translate(112.5831618297249 0.0 ) \">\n          <line stroke-width=\"1.0\" stroke=\"rgb(71,71,71)\" stroke-opacity=\"1.0\" x2=\"0.0\" y2=\"4.0\">\n          </line>\n          <g transform=\"translate(0.0 22.6 ) \">\n            <text class=\"axis-text-x\" text-anchor=\"middle\" dy=\"0.7em\">\n            midsize\n            </text>\n          </g>\n        </g>\n        <g transform=\"translate(178.80855114132777 0.0 ) \">\n          <line stroke-width=\"1.0\" stroke=\"rgb(71,71,71)\" stroke-opacity=\"1.0\" x2=\"0.0\" y2=\"4.0\">\n          </line>\n          <g transform=\"translate(0.0 7.0 ) \">\n            <text class=\"axis-text-x\" text-anchor=\"middle\" dy=\"0.7em\">\n            suv\n            </text>\n          </g>\n        </g>\n        <g transform=\"translate(245.03394045293064 0.0 ) \">\n          <line stroke-width=\"1.0\" stroke=\"rgb(71,71,71)\" stroke-opacity=\"1.0\" x2=\"0.0\" y2=\"4.0\">\n          </line>\n          <g transform=\"translate(0.0 22.6 ) \">\n            <text class=\"axis-text-x\" text-anchor=\"middle\" dy=\"0.7em\">\n            2seater\n            </text>\n          </g>\n        </g>\n        <g transform=\"translate(311.25932976453356 0.0 ) \">\n          <line stroke-width=\"1.0\" stroke=\"rgb(71,71,71)\" stroke-opacity=\"1.0\" x2=\"0.0\" y2=\"4.0\">\n          </line>\n          <g transform=\"translate(0.0 7.0 ) \">\n            <text class=\"axis-text-x\" text-anchor=\"middle\" dy=\"0.7em\">\n            minivan\n            </text>\n          </g>\n        </g>\n        <g transform=\"translate(377.48471907613646 0.0 ) \">\n          <line stroke-width=\"1.0\" stroke=\"rgb(71,71,71)\" stroke-opacity=\"1.0\" x2=\"0.0\" y2=\"4.0\">\n          </line>\n          <g transform=\"translate(0.0 22.6 ) \">\n            <text class=\"axis-text-x\" text-anchor=\"middle\" dy=\"0.7em\">\n            pickup\n            </text>\n          </g>\n        </g>\n        <g transform=\"translate(443.7101083877393 0.0 ) \">\n          <line stroke-width=\"1.0\" stroke=\"rgb(71,71,71)\" stroke-opacity=\"1.0\" x2=\"0.0\" y2=\"4.0\">\n          </line>\n          <g transform=\"translate(0.0 7.0 ) \">\n            <text class=\"axis-text-x\" text-anchor=\"middle\" dy=\"0.7em\">\n            subcompact\n            </text>\n          </g>\n        </g>\n        <line x1=\"0.0\" y1=\"0.0\" x2=\"490.06788090586133\" y2=\"0.0\" stroke-width=\"1.0\" stroke=\"rgb(71,71,71)\" stroke-opacity=\"1.0\">\n        </line>\n      </g>\n      <g transform=\"translate(13.980605455468202 0.0 ) \">\n        <line x1=\"0.0\" y1=\"178.80855114132783\" x2=\"490.06788090586133\" y2=\"178.80855114132783\" stroke=\"rgb(233,233,233)\" stroke-opacity=\"1.0\" stroke-width=\"1.0\">\n        </line>\n        <line x1=\"0.0\" y1=\"112.58316182972494\" x2=\"490.06788090586133\" y2=\"112.58316182972494\" stroke=\"rgb(233,233,233)\" stroke-opacity=\"1.0\" stroke-width=\"1.0\">\n        </line>\n        <line x1=\"0.0\" y1=\"46.35777251812206\" x2=\"490.06788090586133\" y2=\"46.35777251812206\" stroke=\"rgb(233,233,233)\" stroke-opacity=\"1.0\" stroke-width=\"1.0\">\n        </line>\n        <g transform=\"translate(0.0 178.80855114132783 ) \">\n          <g transform=\"translate(-3.0 0.0 ) \">\n            <text class=\"axis-text-y\" text-anchor=\"end\" dy=\"0.35em\">\n            f\n            </text>\n          </g>\n        </g>\n        <g transform=\"translate(0.0 112.58316182972494 ) \">\n          <g transform=\"translate(-3.0 0.0 ) \">\n            <text class=\"axis-text-y\" text-anchor=\"end\" dy=\"0.35em\">\n            4\n            </text>\n          </g>\n        </g>\n        <g transform=\"translate(0.0 46.35777251812206 ) \">\n          <g transform=\"translate(-3.0 0.0 ) \">\n            <text class=\"axis-text-y\" text-anchor=\"end\" dy=\"0.35em\">\n            r\n            </text>\n          </g>\n        </g>\n      </g>\n      <g transform=\"translate(13.980605455468202 0.0 ) \" clip-path=\"url(#cWrcupz)\" clip-bounds-jfx=\"[rect (0.0, 0.0), (490.06788090586133, 225.16632365944983)]\">\n        <defs>\n          <clipPath id=\"cWrcupz\">\n            <rect x=\"0.0\" y=\"0.0\" width=\"490.06788090586133\" height=\"225.16632365944983\">\n            </rect>\n          </clipPath>\n        </defs>\n        <g>\n          \n          <g >\n            <rect fill=\"#3d82bb\" stroke=\"#000000\" stroke-opacity=\"0.0\" stroke-width=\"1.6500000000000001\" x=\"13.24507786232057\" y=\"145.69585648552638\" height=\"66.2253893116029\" width=\"66.22538931160288\" />\n            <rect fill=\"#1d4264\" stroke=\"#000000\" stroke-opacity=\"0.0\" stroke-width=\"1.6500000000000001\" x=\"13.24507786232057\" y=\"79.47046717392351\" height=\"66.22538931160287\" width=\"66.22538931160288\" />\n            <rect fill=\"#132a42\" stroke=\"#000000\" stroke-opacity=\"0.0\" stroke-width=\"1.6500000000000001\" x=\"79.47046717392345\" y=\"79.47046717392351\" height=\"66.22538931160287\" width=\"66.22538931160287\" />\n            <rect fill=\"#1c3f60\" stroke=\"#000000\" stroke-opacity=\"0.0\" stroke-width=\"1.6500000000000001\" x=\"145.69585648552632\" y=\"13.245077862320613\" height=\"66.2253893116029\" width=\"66.2253893116029\" />\n            <rect fill=\"#15304a\" stroke=\"#000000\" stroke-opacity=\"0.0\" stroke-width=\"1.6500000000000001\" x=\"211.92124579712922\" y=\"13.245077862320613\" height=\"66.2253893116029\" width=\"66.22538931160287\" />\n            <rect fill=\"#57b1f7\" stroke=\"#000000\" stroke-opacity=\"0.0\" stroke-width=\"1.6500000000000001\" x=\"145.69585648552632\" y=\"79.47046717392351\" height=\"66.22538931160287\" width=\"66.2253893116029\" />\n            <rect fill=\"#428ac6\" stroke=\"#000000\" stroke-opacity=\"0.0\" stroke-width=\"1.6500000000000001\" x=\"79.47046717392345\" y=\"145.69585648552638\" height=\"66.2253893116029\" width=\"66.22538931160287\" />\n            <rect fill=\"#1c3f60\" stroke=\"#000000\" stroke-opacity=\"0.0\" stroke-width=\"1.6500000000000001\" x=\"278.1466351087321\" y=\"145.69585648552638\" height=\"66.2253893116029\" width=\"66.2253893116029\" />\n            <rect fill=\"#3a7cb3\" stroke=\"#000000\" stroke-opacity=\"0.0\" stroke-width=\"1.6500000000000001\" x=\"344.372024420335\" y=\"79.47046717392351\" height=\"66.22538931160287\" width=\"66.2253893116029\" />\n            <rect fill=\"#1a3a59\" stroke=\"#000000\" stroke-opacity=\"0.0\" stroke-width=\"1.6500000000000001\" x=\"410.5974137319379\" y=\"13.245077862320613\" height=\"66.2253893116029\" width=\"66.2253893116029\" />\n            <rect fill=\"#2a5d8a\" stroke=\"#000000\" stroke-opacity=\"0.0\" stroke-width=\"1.6500000000000001\" x=\"410.5974137319379\" y=\"145.69585648552638\" height=\"66.2253893116029\" width=\"66.2253893116029\" />\n            <rect fill=\"#142d46\" stroke=\"#000000\" stroke-opacity=\"0.0\" stroke-width=\"1.6500000000000001\" x=\"410.5974137319379\" y=\"79.47046717392351\" height=\"66.22538931160287\" width=\"66.2253893116029\" />\n          </g>\n        </g>\n      </g>\n    </g>\n    <g transform=\"translate(14.5 174.2 ) rotate(-90.0 ) \">\n      <text class=\"axis-title-y\" y=\"0.0\" text-anchor=\"middle\">\n      drv\n      </text>\n    </g>\n    <g transform=\"translate(282.0145459083989 339.88316182972494 ) \">\n      <text class=\"axis-title-x\" y=\"0.0\" text-anchor=\"middle\">\n      class\n      </text>\n    </g>\n    <g transform=\"translate(537.0484863613295 95.44999999999999 ) \">\n      <rect x=\"5.0\" y=\"5.0\" height=\"147.5\" width=\"52.951513638670505\" stroke=\"rgb(71,71,71)\" stroke-opacity=\"1.0\" stroke-width=\"0.0\" fill=\"rgb(255,255,255)\" fill-opacity=\"1.0\">\n      </rect>\n      <g transform=\"translate(10.0 10.0 ) \">\n        <g transform=\"translate(0.0 10.5 ) \">\n          <text class=\"legend-title\" y=\"0.0\">\n          count\n          </text>\n        </g>\n        <g transform=\"translate(0.0 22.5 ) \">\n          <g>\n            <rect x=\"0.0\" y=\"0.0\" height=\"115.0\" width=\"23.0\" stroke-width=\"0.0\" fill=\"rgb(85,174,243)\" fill-opacity=\"1.0\">\n            </rect>\n            <rect x=\"0.0\" y=\"7.55\" height=\"107.45\" width=\"23.0\" stroke-width=\"0.0\" fill=\"rgb(81,166,234)\" fill-opacity=\"1.0\">\n            </rect>\n            <rect x=\"0.0\" y=\"13.1\" height=\"101.9\" width=\"23.0\" stroke-width=\"0.0\" fill=\"rgb(77,159,225)\" fill-opacity=\"1.0\">\n            </rect>\n            <rect x=\"0.0\" y=\"18.65\" height=\"96.35\" width=\"23.0\" stroke-width=\"0.0\" fill=\"rgb(73,152,216)\" fill-opacity=\"1.0\">\n            </rect>\n            <rect x=\"0.0\" y=\"24.2\" height=\"90.8\" width=\"23.0\" stroke-width=\"0.0\" fill=\"rgb(69,145,207)\" fill-opacity=\"1.0\">\n            </rect>\n            <rect x=\"0.0\" y=\"29.75\" height=\"85.25\" width=\"23.0\" stroke-width=\"0.0\" fill=\"rgb(65,138,198)\" fill-opacity=\"1.0\">\n            </rect>\n            <rect x=\"0.0\" y=\"35.3\" height=\"79.7\" width=\"23.0\" stroke-width=\"0.0\" fill=\"rgb(62,131,189)\" fill-opacity=\"1.0\">\n            </rect>\n            <rect x=\"0.0\" y=\"40.849999999999994\" height=\"74.15\" width=\"23.0\" stroke-width=\"0.0\" fill=\"rgb(58,124,179)\" fill-opacity=\"1.0\">\n            </rect>\n            <rect x=\"0.0\" y=\"46.39999999999999\" height=\"68.60000000000001\" width=\"23.0\" stroke-width=\"0.0\" fill=\"rgb(55,117,170)\" fill-opacity=\"1.0\">\n            </rect>\n            <rect x=\"0.0\" y=\"51.94999999999999\" height=\"63.05000000000001\" width=\"23.0\" stroke-width=\"0.0\" fill=\"rgb(51,110,161)\" fill-opacity=\"1.0\">\n            </rect>\n            <rect x=\"0.0\" y=\"57.499999999999986\" height=\"57.500000000000014\" width=\"23.0\" stroke-width=\"0.0\" fill=\"rgb(48,103,152)\" fill-opacity=\"1.0\">\n            </rect>\n            <rect x=\"0.0\" y=\"63.04999999999998\" height=\"51.95000000000002\" width=\"23.0\" stroke-width=\"0.0\" fill=\"rgb(44,97,143)\" fill-opacity=\"1.0\">\n            </rect>\n            <rect x=\"0.0\" y=\"68.59999999999998\" height=\"46.40000000000002\" width=\"23.0\" stroke-width=\"0.0\" fill=\"rgb(41,90,134)\" fill-opacity=\"1.0\">\n            </rect>\n            <rect x=\"0.0\" y=\"74.14999999999998\" height=\"40.85000000000002\" width=\"23.0\" stroke-width=\"0.0\" fill=\"rgb(38,83,125)\" fill-opacity=\"1.0\">\n            </rect>\n            <rect x=\"0.0\" y=\"79.69999999999997\" height=\"35.300000000000026\" width=\"23.0\" stroke-width=\"0.0\" fill=\"rgb(35,77,116)\" fill-opacity=\"1.0\">\n            </rect>\n            <rect x=\"0.0\" y=\"85.24999999999997\" height=\"29.75000000000003\" width=\"23.0\" stroke-width=\"0.0\" fill=\"rgb(32,70,107)\" fill-opacity=\"1.0\">\n            </rect>\n            <rect x=\"0.0\" y=\"90.79999999999997\" height=\"24.20000000000003\" width=\"23.0\" stroke-width=\"0.0\" fill=\"rgb(29,64,98)\" fill-opacity=\"1.0\">\n            </rect>\n            <rect x=\"0.0\" y=\"96.34999999999997\" height=\"18.650000000000034\" width=\"23.0\" stroke-width=\"0.0\" fill=\"rgb(26,58,89)\" fill-opacity=\"1.0\">\n            </rect>\n            <rect x=\"0.0\" y=\"101.89999999999996\" height=\"13.100000000000037\" width=\"23.0\" stroke-width=\"0.0\" fill=\"rgb(23,52,80)\" fill-opacity=\"1.0\">\n            </rect>\n            <rect x=\"0.0\" y=\"107.44999999999996\" height=\"7.55000000000004\" width=\"23.0\" stroke-width=\"0.0\" fill=\"rgb(20,45,71)\" fill-opacity=\"1.0\">\n            </rect>\n            <line x1=\"0.0\" y1=\"96.8125\" x2=\"4.6\" y2=\"96.8125\" stroke-width=\"1.0\" stroke=\"rgb(255,255,255)\" stroke-opacity=\"1.0\">\n            </line>\n            <line x1=\"18.4\" y1=\"96.8125\" x2=\"23.0\" y2=\"96.8125\" stroke-width=\"1.0\" stroke=\"rgb(255,255,255)\" stroke-opacity=\"1.0\">\n            </line>\n            <g transform=\"translate(26.9903027277341 101.3625 ) \">\n              <text class=\"legend-item\" y=\"0.0\">\n              10\n              </text>\n            </g>\n            <line x1=\"0.0\" y1=\"73.6875\" x2=\"4.6\" y2=\"73.6875\" stroke-width=\"1.0\" stroke=\"rgb(255,255,255)\" stroke-opacity=\"1.0\">\n            </line>\n            <line x1=\"18.4\" y1=\"73.6875\" x2=\"23.0\" y2=\"73.6875\" stroke-width=\"1.0\" stroke=\"rgb(255,255,255)\" stroke-opacity=\"1.0\">\n            </line>\n            <g transform=\"translate(26.9903027277341 78.2375 ) \">\n              <text class=\"legend-item\" y=\"0.0\">\n              20\n              </text>\n            </g>\n            <line x1=\"0.0\" y1=\"50.5625\" x2=\"4.6\" y2=\"50.5625\" stroke-width=\"1.0\" stroke=\"rgb(255,255,255)\" stroke-opacity=\"1.0\">\n            </line>\n            <line x1=\"18.4\" y1=\"50.5625\" x2=\"23.0\" y2=\"50.5625\" stroke-width=\"1.0\" stroke=\"rgb(255,255,255)\" stroke-opacity=\"1.0\">\n            </line>\n            <g transform=\"translate(26.9903027277341 55.1125 ) \">\n              <text class=\"legend-item\" y=\"0.0\">\n              30\n              </text>\n            </g>\n            <line x1=\"0.0\" y1=\"27.4375\" x2=\"4.6\" y2=\"27.4375\" stroke-width=\"1.0\" stroke=\"rgb(255,255,255)\" stroke-opacity=\"1.0\">\n            </line>\n            <line x1=\"18.4\" y1=\"27.4375\" x2=\"23.0\" y2=\"27.4375\" stroke-width=\"1.0\" stroke=\"rgb(255,255,255)\" stroke-opacity=\"1.0\">\n            </line>\n            <g transform=\"translate(26.9903027277341 31.987499999999997 ) \">\n              <text class=\"legend-item\" y=\"0.0\">\n              40\n              </text>\n            </g>\n            <line x1=\"0.0\" y1=\"4.3125\" x2=\"4.6\" y2=\"4.3125\" stroke-width=\"1.0\" stroke=\"rgb(255,255,255)\" stroke-opacity=\"1.0\">\n            </line>\n            <line x1=\"18.4\" y1=\"4.3125\" x2=\"23.0\" y2=\"4.3125\" stroke-width=\"1.0\" stroke=\"rgb(255,255,255)\" stroke-opacity=\"1.0\">\n            </line>\n            <g transform=\"translate(26.9903027277341 8.862499999999999 ) \">\n              <text class=\"legend-item\" y=\"0.0\">\n              50\n              </text>\n            </g>\n          </g>\n        </g>\n      </g>\n    </g>\n  </g>\n  <g id=\"dLh34rQ\">\n  </g>\n</svg>\n        <script>document.getElementById(\"ebe8e20a-f3ae-44a1-a36a-465989f08627\").style.display = \"none\";</script>",
      "application/plot+json": {
       "output_type": "lets_plot_spec",
       "output": {
        "mapping": {},
        "data": {
         "x": [
          "compact",
          "compact",
          "midsize",
          "suv",
          "2seater",
          "suv",
          "midsize",
          "minivan",
          "pickup",
          "subcompact",
          "subcompact",
          "subcompact"
         ],
         "count": [
          35.0,
          12.0,
          3.0,
          11.0,
          5.0,
          51.0,
          38.0,
          11.0,
          33.0,
          9.0,
          22.0,
          4.0
         ],
         "y": [
          "f",
          "4",
          "4",
          "r",
          "r",
          "4",
          "f",
          "f",
          "4",
          "r",
          "f",
          "4"
         ]
        },
        "kind": "plot",
        "scales": [
         {
          "aesthetic": "x",
          "discrete": true
         },
         {
          "aesthetic": "y",
          "discrete": true
         },
         {
          "aesthetic": "fill",
          "scale_mapper_kind": "color_gradient",
          "limits": [
           null,
           null
          ]
         },
         {
          "aesthetic": "x",
          "name": "class",
          "limits": [
           null,
           null
          ]
         },
         {
          "aesthetic": "y",
          "name": "drv",
          "limits": [
           null,
           null
          ]
         }
        ],
        "layers": [
         {
          "mapping": {
           "x": "x",
           "y": "y",
           "fill": "count"
          },
          "stat": "identity",
          "sampling": "none",
          "position": "identity",
          "geom": "tile"
         }
        ]
       },
       "apply_color_scheme": true,
       "swing_enabled": true
      }
     },
     "execution_count": 12,
     "metadata": {},
     "output_type": "execute_result"
    }
   ],
   "source": [
    "df.heatmap(\"class\", \"drv\")"
   ],
   "metadata": {
    "collapsed": false,
    "ExecuteTime": {
     "end_time": "2023-10-19T12:05:37.863176Z",
     "start_time": "2023-10-19T12:05:37.781188Z"
    }
   }
  },
  {
   "cell_type": "markdown",
   "source": [
    "In case you want to provide inputs and weights using column selection DSL, it's a bit different from the usual one - you should assign `x` and `y` inputs and (optionally) `weight` throw invocation eponymous functions:"
   ],
   "metadata": {
    "collapsed": false
   }
  },
  {
   "cell_type": "code",
   "execution_count": 13,
   "outputs": [
    {
     "data": {
      "text/html": "            <script type=\"text/javascript\" data-lets-plot-script=\"library\" src=\"https://cdn.jsdelivr.net/gh/JetBrains/lets-plot@v4.0.0/js-package/distr/lets-plot.min.js\"></script>    \n               <div id=\"jxpnBf\"></div>\n   <script type=\"text/javascript\" data-lets-plot-script=\"plot\">\n       var plotSpec={\n\"mapping\":{\n},\n\"data\":{\n\"x\":[\"compact\",\"compact\",\"midsize\",\"suv\",\"2seater\",\"suv\",\"midsize\",\"minivan\",\"pickup\",\"subcompact\",\"subcompact\",\"subcompact\"],\n\"y\":[\"f\",\"4\",\"4\",\"r\",\"r\",\"4\",\"f\",\"f\",\"4\",\"r\",\"f\",\"4\"],\n\"countWeighted\":[1020.0,310.0,72.0,192.0,124.0,932.0,1047.0,246.0,557.0,209.0,672.0,104.0]\n},\n\"kind\":\"plot\",\n\"scales\":[{\n\"aesthetic\":\"x\",\n\"discrete\":true\n},{\n\"aesthetic\":\"y\",\n\"discrete\":true\n},{\n\"aesthetic\":\"fill\",\n\"scale_mapper_kind\":\"color_gradient\",\n\"limits\":[null,null]\n},{\n\"aesthetic\":\"x\",\n\"name\":\"class\",\n\"limits\":[null,null]\n},{\n\"aesthetic\":\"y\",\n\"name\":\"drv\",\n\"limits\":[null,null]\n}],\n\"layers\":[{\n\"mapping\":{\n\"x\":\"x\",\n\"y\":\"y\",\n\"fill\":\"countWeighted\"\n},\n\"stat\":\"identity\",\n\"sampling\":\"none\",\n\"position\":\"identity\",\n\"geom\":\"tile\",\n\"data\":{\n}\n}]\n};\n       var plotContainer = document.getElementById(\"jxpnBf\");\n       LetsPlot.buildPlotFromProcessedSpecs(plotSpec, -1, -1, plotContainer);\n   </script>            \n        <svg id=6575aa62-bd09-4df8-8da1-91d343c35e6b xmlns=\"http://www.w3.org/2000/svg\" xmlns:xlink=\"http://www.w3.org/1999/xlink\" class=\"plt-container\" width=\"600.0\" height=\"400.0\">\n  <style type=\"text/css\">\n  .plt-container {\n   font-family: Lucida Grande, sans-serif;\n   user-select: none;\n   -webkit-user-select: none;\n   -moz-user-select: none;\n   -ms-user-select: none;\n}\ntext {\n   text-rendering: optimizeLegibility;\n}\n#p42jfTp .plot-title {\n   fill: #474747;\n   font-family: Lucida Grande, sans-serif;\n   font-size: 16.0px;\n   font-weight: normal;\n   font-style: normal;   \n}\n#p42jfTp .plot-subtitle {\n   fill: #474747;\n   font-family: Lucida Grande, sans-serif;\n   font-size: 15.0px;\n   font-weight: normal;\n   font-style: normal;   \n}\n#p42jfTp .plot-caption {\n   fill: #474747;\n   font-family: Lucida Grande, sans-serif;\n   font-size: 13.0px;\n   font-weight: normal;\n   font-style: normal;   \n}\n#p42jfTp .legend-title {\n   fill: #474747;\n   font-family: Lucida Grande, sans-serif;\n   font-size: 15.0px;\n   font-weight: normal;\n   font-style: normal;   \n}\n#p42jfTp .legend-item {\n   fill: #474747;\n   font-family: Lucida Grande, sans-serif;\n   font-size: 13.0px;\n   font-weight: normal;\n   font-style: normal;   \n}\n#p42jfTp .axis-title-x {\n   fill: #474747;\n   font-family: Lucida Grande, sans-serif;\n   font-size: 15.0px;\n   font-weight: normal;\n   font-style: normal;   \n}\n#p42jfTp .axis-text-x {\n   fill: #474747;\n   font-family: Lucida Grande, sans-serif;\n   font-size: 13.0px;\n   font-weight: normal;\n   font-style: normal;   \n}\n#dUjHuqO .axis-tooltip-text-x {\n   fill: #ffffff;\n   font-family: Lucida Grande, sans-serif;\n   font-size: 13.0px;\n   font-weight: normal;\n   font-style: normal;   \n}\n#p42jfTp .axis-title-y {\n   fill: #474747;\n   font-family: Lucida Grande, sans-serif;\n   font-size: 15.0px;\n   font-weight: normal;\n   font-style: normal;   \n}\n#p42jfTp .axis-text-y {\n   fill: #474747;\n   font-family: Lucida Grande, sans-serif;\n   font-size: 13.0px;\n   font-weight: normal;\n   font-style: normal;   \n}\n#dUjHuqO .axis-tooltip-text-y {\n   fill: #ffffff;\n   font-family: Lucida Grande, sans-serif;\n   font-size: 13.0px;\n   font-weight: normal;\n   font-style: normal;   \n}\n#p42jfTp .facet-strip-text-x {\n   fill: #474747;\n   font-family: Lucida Grande, sans-serif;\n   font-size: 13.0px;\n   font-weight: normal;\n   font-style: normal;   \n}\n#p42jfTp .facet-strip-text-y {\n   fill: #474747;\n   font-family: Lucida Grande, sans-serif;\n   font-size: 13.0px;\n   font-weight: normal;\n   font-style: normal;   \n}\n#dUjHuqO .tooltip-text {\n   fill: #474747;\n   font-family: Lucida Grande, sans-serif;\n   font-size: 13.0px;\n   font-weight: normal;\n   font-style: normal;   \n}\n#dUjHuqO .tooltip-title {\n   fill: #474747;\n   font-family: Lucida Grande, sans-serif;\n   font-size: 13.0px;\n   font-weight: bold;\n   font-style: normal;   \n}\n#dUjHuqO .tooltip-label {\n   fill: #474747;\n   font-family: Lucida Grande, sans-serif;\n   font-size: 13.0px;\n   font-weight: bold;\n   font-style: normal;   \n}\n\n  </style>\n  <g id=\"p42jfTp\">\n    <rect x=\"0.0\" y=\"0.0\" height=\"400.0\" width=\"600.0\" stroke=\"rgb(71,71,71)\" stroke-opacity=\"1.0\" stroke-width=\"0.0\" fill=\"rgb(255,255,255)\" fill-opacity=\"1.0\">\n    </rect>\n    <g transform=\"translate(23.0 52.648468515484865 ) \">\n      <g transform=\"translate(13.980605455468202 191.41924953870065 ) \">\n        <line x1=\"39.40984549326189\" y1=\"-0.0\" x2=\"39.40984549326189\" y2=\"-191.41924953870065\" stroke=\"rgb(233,233,233)\" stroke-opacity=\"1.0\" stroke-width=\"1.0\">\n        </line>\n        <line x1=\"95.70962476935031\" y1=\"-0.0\" x2=\"95.70962476935031\" y2=\"-191.41924953870065\" stroke=\"rgb(233,233,233)\" stroke-opacity=\"1.0\" stroke-width=\"1.0\">\n        </line>\n        <line x1=\"152.00940404543874\" y1=\"-0.0\" x2=\"152.00940404543874\" y2=\"-191.41924953870065\" stroke=\"rgb(233,233,233)\" stroke-opacity=\"1.0\" stroke-width=\"1.0\">\n        </line>\n        <line x1=\"208.30918332152714\" y1=\"-0.0\" x2=\"208.30918332152714\" y2=\"-191.41924953870065\" stroke=\"rgb(233,233,233)\" stroke-opacity=\"1.0\" stroke-width=\"1.0\">\n        </line>\n        <line x1=\"264.6089625976156\" y1=\"-0.0\" x2=\"264.6089625976156\" y2=\"-191.41924953870065\" stroke=\"rgb(233,233,233)\" stroke-opacity=\"1.0\" stroke-width=\"1.0\">\n        </line>\n        <line x1=\"320.908741873704\" y1=\"-0.0\" x2=\"320.908741873704\" y2=\"-191.41924953870065\" stroke=\"rgb(233,233,233)\" stroke-opacity=\"1.0\" stroke-width=\"1.0\">\n        </line>\n        <line x1=\"377.20852114979243\" y1=\"-0.0\" x2=\"377.20852114979243\" y2=\"-191.41924953870065\" stroke=\"rgb(233,233,233)\" stroke-opacity=\"1.0\" stroke-width=\"1.0\">\n        </line>\n        <g transform=\"translate(39.40984549326189 0.0 ) \">\n          <line stroke-width=\"1.0\" stroke=\"rgb(71,71,71)\" stroke-opacity=\"1.0\" x2=\"0.0\" y2=\"4.0\">\n          </line>\n          <g transform=\"translate(0.0 7.0 ) rotate(90.0 ) \">\n            <text class=\"axis-text-x\" dy=\"0.35em\">\n            compact\n            </text>\n          </g>\n        </g>\n        <g transform=\"translate(95.70962476935031 0.0 ) \">\n          <line stroke-width=\"1.0\" stroke=\"rgb(71,71,71)\" stroke-opacity=\"1.0\" x2=\"0.0\" y2=\"4.0\">\n          </line>\n          <g transform=\"translate(0.0 7.0 ) rotate(90.0 ) \">\n            <text class=\"axis-text-x\" dy=\"0.35em\">\n            midsize\n            </text>\n          </g>\n        </g>\n        <g transform=\"translate(152.00940404543874 0.0 ) \">\n          <line stroke-width=\"1.0\" stroke=\"rgb(71,71,71)\" stroke-opacity=\"1.0\" x2=\"0.0\" y2=\"4.0\">\n          </line>\n          <g transform=\"translate(0.0 7.0 ) rotate(90.0 ) \">\n            <text class=\"axis-text-x\" dy=\"0.35em\">\n            suv\n            </text>\n          </g>\n        </g>\n        <g transform=\"translate(208.30918332152714 0.0 ) \">\n          <line stroke-width=\"1.0\" stroke=\"rgb(71,71,71)\" stroke-opacity=\"1.0\" x2=\"0.0\" y2=\"4.0\">\n          </line>\n          <g transform=\"translate(0.0 7.0 ) rotate(90.0 ) \">\n            <text class=\"axis-text-x\" dy=\"0.35em\">\n            2seater\n            </text>\n          </g>\n        </g>\n        <g transform=\"translate(264.6089625976156 0.0 ) \">\n          <line stroke-width=\"1.0\" stroke=\"rgb(71,71,71)\" stroke-opacity=\"1.0\" x2=\"0.0\" y2=\"4.0\">\n          </line>\n          <g transform=\"translate(0.0 7.0 ) rotate(90.0 ) \">\n            <text class=\"axis-text-x\" dy=\"0.35em\">\n            minivan\n            </text>\n          </g>\n        </g>\n        <g transform=\"translate(320.908741873704 0.0 ) \">\n          <line stroke-width=\"1.0\" stroke=\"rgb(71,71,71)\" stroke-opacity=\"1.0\" x2=\"0.0\" y2=\"4.0\">\n          </line>\n          <g transform=\"translate(0.0 7.0 ) rotate(90.0 ) \">\n            <text class=\"axis-text-x\" dy=\"0.35em\">\n            pickup\n            </text>\n          </g>\n        </g>\n        <g transform=\"translate(377.20852114979243 0.0 ) \">\n          <line stroke-width=\"1.0\" stroke=\"rgb(71,71,71)\" stroke-opacity=\"1.0\" x2=\"0.0\" y2=\"4.0\">\n          </line>\n          <g transform=\"translate(0.0 7.0 ) rotate(90.0 ) \">\n            <text class=\"axis-text-x\" dy=\"0.35em\">\n            subcompact\n            </text>\n          </g>\n        </g>\n        <line x1=\"0.0\" y1=\"0.0\" x2=\"416.61836664305434\" y2=\"0.0\" stroke-width=\"1.0\" stroke=\"rgb(71,71,71)\" stroke-opacity=\"1.0\">\n        </line>\n      </g>\n      <g transform=\"translate(13.980605455468202 0.0 ) \">\n        <line x1=\"0.0\" y1=\"152.00940404543877\" x2=\"416.61836664305434\" y2=\"152.00940404543877\" stroke=\"rgb(233,233,233)\" stroke-opacity=\"1.0\" stroke-width=\"1.0\">\n        </line>\n        <line x1=\"0.0\" y1=\"95.70962476935034\" x2=\"416.61836664305434\" y2=\"95.70962476935034\" stroke=\"rgb(233,233,233)\" stroke-opacity=\"1.0\" stroke-width=\"1.0\">\n        </line>\n        <line x1=\"0.0\" y1=\"39.409845493261926\" x2=\"416.61836664305434\" y2=\"39.409845493261926\" stroke=\"rgb(233,233,233)\" stroke-opacity=\"1.0\" stroke-width=\"1.0\">\n        </line>\n        <g transform=\"translate(0.0 152.00940404543877 ) \">\n          <g transform=\"translate(-3.0 0.0 ) \">\n            <text class=\"axis-text-y\" text-anchor=\"end\" dy=\"0.35em\">\n            f\n            </text>\n          </g>\n        </g>\n        <g transform=\"translate(0.0 95.70962476935034 ) \">\n          <g transform=\"translate(-3.0 0.0 ) \">\n            <text class=\"axis-text-y\" text-anchor=\"end\" dy=\"0.35em\">\n            4\n            </text>\n          </g>\n        </g>\n        <g transform=\"translate(0.0 39.409845493261926 ) \">\n          <g transform=\"translate(-3.0 0.0 ) \">\n            <text class=\"axis-text-y\" text-anchor=\"end\" dy=\"0.35em\">\n            r\n            </text>\n          </g>\n        </g>\n      </g>\n      <g transform=\"translate(13.980605455468202 0.0 ) \" clip-path=\"url(#cprSx73)\" clip-bounds-jfx=\"[rect (0.0, 0.0), (416.61836664305434, 191.41924953870065)]\">\n        <defs>\n          <clipPath id=\"cprSx73\">\n            <rect x=\"0.0\" y=\"0.0\" width=\"416.61836664305434\" height=\"191.41924953870065\">\n            </rect>\n          </clipPath>\n        </defs>\n        <g>\n          \n          <g >\n            <rect fill=\"#54adf2\" stroke=\"#000000\" stroke-opacity=\"0.0\" stroke-width=\"1.6500000000000001\" x=\"11.25995585521768\" y=\"123.85951440739456\" height=\"56.29977927608843\" width=\"56.299779276088415\" />\n            <rect fill=\"#21496e\" stroke=\"#000000\" stroke-opacity=\"0.0\" stroke-width=\"1.6500000000000001\" x=\"11.25995585521768\" y=\"67.55973513130614\" height=\"56.299779276088415\" width=\"56.299779276088415\" />\n            <rect fill=\"#132a42\" stroke=\"#000000\" stroke-opacity=\"0.0\" stroke-width=\"1.6500000000000001\" x=\"67.5597351313061\" y=\"67.55973513130614\" height=\"56.299779276088415\" width=\"56.29977927608843\" />\n            <rect fill=\"#1a3a59\" stroke=\"#000000\" stroke-opacity=\"0.0\" stroke-width=\"1.6500000000000001\" x=\"123.85951440739453\" y=\"11.259955855217726\" height=\"56.299779276088415\" width=\"56.2997792760884\" />\n            <rect fill=\"#16314c\" stroke=\"#000000\" stroke-opacity=\"0.0\" stroke-width=\"1.6500000000000001\" x=\"180.15929368348293\" y=\"11.259955855217726\" height=\"56.299779276088415\" width=\"56.29977927608843\" />\n            <rect fill=\"#4da0e2\" stroke=\"#000000\" stroke-opacity=\"0.0\" stroke-width=\"1.6500000000000001\" x=\"123.85951440739453\" y=\"67.55973513130614\" height=\"56.299779276088415\" width=\"56.2997792760884\" />\n            <rect fill=\"#57b1f7\" stroke=\"#000000\" stroke-opacity=\"0.0\" stroke-width=\"1.6500000000000001\" x=\"67.5597351313061\" y=\"123.85951440739456\" height=\"56.29977927608843\" width=\"56.29977927608843\" />\n            <rect fill=\"#1d4163\" stroke=\"#000000\" stroke-opacity=\"0.0\" stroke-width=\"1.6500000000000001\" x=\"236.45907295957136\" y=\"123.85951440739456\" height=\"56.29977927608843\" width=\"56.29977927608843\" />\n            <rect fill=\"#316a9c\" stroke=\"#000000\" stroke-opacity=\"0.0\" stroke-width=\"1.6500000000000001\" x=\"292.7588522356598\" y=\"67.55973513130614\" height=\"56.299779276088415\" width=\"56.29977927608843\" />\n            <rect fill=\"#1b3c5c\" stroke=\"#000000\" stroke-opacity=\"0.0\" stroke-width=\"1.6500000000000001\" x=\"349.0586315117482\" y=\"11.259955855217726\" height=\"56.299779276088415\" width=\"56.29977927608843\" />\n            <rect fill=\"#397ab2\" stroke=\"#000000\" stroke-opacity=\"0.0\" stroke-width=\"1.6500000000000001\" x=\"349.0586315117482\" y=\"123.85951440739456\" height=\"56.29977927608843\" width=\"56.29977927608843\" />\n            <rect fill=\"#142e48\" stroke=\"#000000\" stroke-opacity=\"0.0\" stroke-width=\"1.6500000000000001\" x=\"349.0586315117482\" y=\"67.55973513130614\" height=\"56.299779276088415\" width=\"56.29977927608843\" />\n          </g>\n        </g>\n      </g>\n    </g>\n    <g transform=\"translate(14.5 148.3580932848352 ) rotate(-90.0 ) \">\n      <text class=\"axis-title-y\" y=\"0.0\" text-anchor=\"middle\">\n      drv\n      </text>\n    </g>\n    <g transform=\"translate(245.28978877699538 348.85153148451514 ) \">\n      <text class=\"axis-title-x\" y=\"0.0\" text-anchor=\"middle\">\n      class\n      </text>\n    </g>\n    <g transform=\"translate(463.59897209852255 69.6080932848352 ) \">\n      <rect x=\"5.0\" y=\"5.0\" height=\"147.5\" width=\"126.40102790147745\" stroke=\"rgb(71,71,71)\" stroke-opacity=\"1.0\" stroke-width=\"0.0\" fill=\"rgb(255,255,255)\" fill-opacity=\"1.0\">\n      </rect>\n      <g transform=\"translate(10.0 10.0 ) \">\n        <g transform=\"translate(0.0 10.5 ) \">\n          <text class=\"legend-title\" y=\"0.0\">\n          countWeighted\n          </text>\n        </g>\n        <g transform=\"translate(0.0 22.5 ) \">\n          <g>\n            <rect x=\"0.0\" y=\"0.0\" height=\"115.0\" width=\"23.0\" stroke-width=\"0.0\" fill=\"rgb(85,174,243)\" fill-opacity=\"1.0\">\n            </rect>\n            <rect x=\"0.0\" y=\"7.55\" height=\"107.45\" width=\"23.0\" stroke-width=\"0.0\" fill=\"rgb(81,166,234)\" fill-opacity=\"1.0\">\n            </rect>\n            <rect x=\"0.0\" y=\"13.1\" height=\"101.9\" width=\"23.0\" stroke-width=\"0.0\" fill=\"rgb(77,159,225)\" fill-opacity=\"1.0\">\n            </rect>\n            <rect x=\"0.0\" y=\"18.65\" height=\"96.35\" width=\"23.0\" stroke-width=\"0.0\" fill=\"rgb(73,152,216)\" fill-opacity=\"1.0\">\n            </rect>\n            <rect x=\"0.0\" y=\"24.2\" height=\"90.8\" width=\"23.0\" stroke-width=\"0.0\" fill=\"rgb(69,145,207)\" fill-opacity=\"1.0\">\n            </rect>\n            <rect x=\"0.0\" y=\"29.75\" height=\"85.25\" width=\"23.0\" stroke-width=\"0.0\" fill=\"rgb(65,138,198)\" fill-opacity=\"1.0\">\n            </rect>\n            <rect x=\"0.0\" y=\"35.3\" height=\"79.7\" width=\"23.0\" stroke-width=\"0.0\" fill=\"rgb(62,131,189)\" fill-opacity=\"1.0\">\n            </rect>\n            <rect x=\"0.0\" y=\"40.849999999999994\" height=\"74.15\" width=\"23.0\" stroke-width=\"0.0\" fill=\"rgb(58,124,179)\" fill-opacity=\"1.0\">\n            </rect>\n            <rect x=\"0.0\" y=\"46.39999999999999\" height=\"68.60000000000001\" width=\"23.0\" stroke-width=\"0.0\" fill=\"rgb(55,117,170)\" fill-opacity=\"1.0\">\n            </rect>\n            <rect x=\"0.0\" y=\"51.94999999999999\" height=\"63.05000000000001\" width=\"23.0\" stroke-width=\"0.0\" fill=\"rgb(51,110,161)\" fill-opacity=\"1.0\">\n            </rect>\n            <rect x=\"0.0\" y=\"57.499999999999986\" height=\"57.500000000000014\" width=\"23.0\" stroke-width=\"0.0\" fill=\"rgb(48,103,152)\" fill-opacity=\"1.0\">\n            </rect>\n            <rect x=\"0.0\" y=\"63.04999999999998\" height=\"51.95000000000002\" width=\"23.0\" stroke-width=\"0.0\" fill=\"rgb(44,97,143)\" fill-opacity=\"1.0\">\n            </rect>\n            <rect x=\"0.0\" y=\"68.59999999999998\" height=\"46.40000000000002\" width=\"23.0\" stroke-width=\"0.0\" fill=\"rgb(41,90,134)\" fill-opacity=\"1.0\">\n            </rect>\n            <rect x=\"0.0\" y=\"74.14999999999998\" height=\"40.85000000000002\" width=\"23.0\" stroke-width=\"0.0\" fill=\"rgb(38,83,125)\" fill-opacity=\"1.0\">\n            </rect>\n            <rect x=\"0.0\" y=\"79.69999999999997\" height=\"35.300000000000026\" width=\"23.0\" stroke-width=\"0.0\" fill=\"rgb(35,77,116)\" fill-opacity=\"1.0\">\n            </rect>\n            <rect x=\"0.0\" y=\"85.24999999999997\" height=\"29.75000000000003\" width=\"23.0\" stroke-width=\"0.0\" fill=\"rgb(32,70,107)\" fill-opacity=\"1.0\">\n            </rect>\n            <rect x=\"0.0\" y=\"90.79999999999997\" height=\"24.20000000000003\" width=\"23.0\" stroke-width=\"0.0\" fill=\"rgb(29,64,98)\" fill-opacity=\"1.0\">\n            </rect>\n            <rect x=\"0.0\" y=\"96.34999999999997\" height=\"18.650000000000034\" width=\"23.0\" stroke-width=\"0.0\" fill=\"rgb(26,58,89)\" fill-opacity=\"1.0\">\n            </rect>\n            <rect x=\"0.0\" y=\"101.89999999999996\" height=\"13.100000000000037\" width=\"23.0\" stroke-width=\"0.0\" fill=\"rgb(23,52,80)\" fill-opacity=\"1.0\">\n            </rect>\n            <rect x=\"0.0\" y=\"107.44999999999996\" height=\"7.55000000000004\" width=\"23.0\" stroke-width=\"0.0\" fill=\"rgb(20,45,71)\" fill-opacity=\"1.0\">\n            </rect>\n            <line x1=\"0.0\" y1=\"98.4276923076923\" x2=\"4.6\" y2=\"98.4276923076923\" stroke-width=\"1.0\" stroke=\"rgb(255,255,255)\" stroke-opacity=\"1.0\">\n            </line>\n            <line x1=\"18.4\" y1=\"98.4276923076923\" x2=\"23.0\" y2=\"98.4276923076923\" stroke-width=\"1.0\" stroke=\"rgb(255,255,255)\" stroke-opacity=\"1.0\">\n            </line>\n            <g transform=\"translate(26.9903027277341 102.9776923076923 ) \">\n              <text class=\"legend-item\" y=\"0.0\">\n              200\n              </text>\n            </g>\n            <line x1=\"0.0\" y1=\"75.65846153846152\" x2=\"4.6\" y2=\"75.65846153846152\" stroke-width=\"1.0\" stroke=\"rgb(255,255,255)\" stroke-opacity=\"1.0\">\n            </line>\n            <line x1=\"18.4\" y1=\"75.65846153846152\" x2=\"23.0\" y2=\"75.65846153846152\" stroke-width=\"1.0\" stroke=\"rgb(255,255,255)\" stroke-opacity=\"1.0\">\n            </line>\n            <g transform=\"translate(26.9903027277341 80.20846153846152 ) \">\n              <text class=\"legend-item\" y=\"0.0\">\n              400\n              </text>\n            </g>\n            <line x1=\"0.0\" y1=\"52.889230769230764\" x2=\"4.6\" y2=\"52.889230769230764\" stroke-width=\"1.0\" stroke=\"rgb(255,255,255)\" stroke-opacity=\"1.0\">\n            </line>\n            <line x1=\"18.4\" y1=\"52.889230769230764\" x2=\"23.0\" y2=\"52.889230769230764\" stroke-width=\"1.0\" stroke=\"rgb(255,255,255)\" stroke-opacity=\"1.0\">\n            </line>\n            <g transform=\"translate(26.9903027277341 57.43923076923076 ) \">\n              <text class=\"legend-item\" y=\"0.0\">\n              600\n              </text>\n            </g>\n            <line x1=\"0.0\" y1=\"30.11999999999999\" x2=\"4.6\" y2=\"30.11999999999999\" stroke-width=\"1.0\" stroke=\"rgb(255,255,255)\" stroke-opacity=\"1.0\">\n            </line>\n            <line x1=\"18.4\" y1=\"30.11999999999999\" x2=\"23.0\" y2=\"30.11999999999999\" stroke-width=\"1.0\" stroke=\"rgb(255,255,255)\" stroke-opacity=\"1.0\">\n            </line>\n            <g transform=\"translate(26.9903027277341 34.66999999999999 ) \">\n              <text class=\"legend-item\" y=\"0.0\">\n              800\n              </text>\n            </g>\n            <line x1=\"0.0\" y1=\"7.350769230769217\" x2=\"4.6\" y2=\"7.350769230769217\" stroke-width=\"1.0\" stroke=\"rgb(255,255,255)\" stroke-opacity=\"1.0\">\n            </line>\n            <line x1=\"18.4\" y1=\"7.350769230769217\" x2=\"23.0\" y2=\"7.350769230769217\" stroke-width=\"1.0\" stroke=\"rgb(255,255,255)\" stroke-opacity=\"1.0\">\n            </line>\n            <g transform=\"translate(26.9903027277341 11.900769230769216 ) \">\n              <text class=\"legend-item\" y=\"0.0\">\n              1,000\n              </text>\n            </g>\n          </g>\n        </g>\n      </g>\n    </g>\n  </g>\n  <g id=\"dUjHuqO\">\n  </g>\n</svg>\n        <script>document.getElementById(\"6575aa62-bd09-4df8-8da1-91d343c35e6b\").style.display = \"none\";</script>",
      "application/plot+json": {
       "output_type": "lets_plot_spec",
       "output": {
        "mapping": {},
        "data": {
         "x": [
          "compact",
          "compact",
          "midsize",
          "suv",
          "2seater",
          "suv",
          "midsize",
          "minivan",
          "pickup",
          "subcompact",
          "subcompact",
          "subcompact"
         ],
         "y": [
          "f",
          "4",
          "4",
          "r",
          "r",
          "4",
          "f",
          "f",
          "4",
          "r",
          "f",
          "4"
         ],
         "countWeighted": [
          1020.0,
          310.0,
          72.0,
          192.0,
          124.0,
          932.0,
          1047.0,
          246.0,
          557.0,
          209.0,
          672.0,
          104.0
         ]
        },
        "kind": "plot",
        "scales": [
         {
          "aesthetic": "x",
          "discrete": true
         },
         {
          "aesthetic": "y",
          "discrete": true
         },
         {
          "aesthetic": "fill",
          "scale_mapper_kind": "color_gradient",
          "limits": [
           null,
           null
          ]
         },
         {
          "aesthetic": "x",
          "name": "class",
          "limits": [
           null,
           null
          ]
         },
         {
          "aesthetic": "y",
          "name": "drv",
          "limits": [
           null,
           null
          ]
         }
        ],
        "layers": [
         {
          "mapping": {
           "x": "x",
           "y": "y",
           "fill": "countWeighted"
          },
          "stat": "identity",
          "sampling": "none",
          "position": "identity",
          "geom": "tile"
         }
        ]
       },
       "apply_color_scheme": true,
       "swing_enabled": true
      }
     },
     "execution_count": 13,
     "metadata": {},
     "output_type": "execute_result"
    }
   ],
   "source": [
    "df.heatmap() {\n",
    "    x(`class`)\n",
    "    y(drv)\n",
    "    weight(hwy)\n",
    "}"
   ],
   "metadata": {
    "collapsed": false,
    "ExecuteTime": {
     "end_time": "2023-10-19T12:05:38.034492Z",
     "start_time": "2023-10-19T12:05:37.857484Z"
    }
   }
  },
  {
   "cell_type": "markdown",
   "source": [
    "Heatmap plot can be configured with `.configure {}` extension - it opens context that combines tile, `StatCount2D` and plot context; that means you can configure tile settings, mappings using `StatCount2D` dataset and any plot adjustments:"
   ],
   "metadata": {
    "collapsed": false
   }
  },
  {
   "cell_type": "code",
   "execution_count": 14,
   "outputs": [
    {
     "data": {
      "text/html": "            <script type=\"text/javascript\" data-lets-plot-script=\"library\" src=\"https://cdn.jsdelivr.net/gh/JetBrains/lets-plot@v4.0.0/js-package/distr/lets-plot.min.js\"></script>    \n               <div id=\"AIMMgh\"></div>\n   <script type=\"text/javascript\" data-lets-plot-script=\"plot\">\n       var plotSpec={\n\"ggtitle\":{\n\"text\":\"Configured `heatmap` plot\"\n},\n\"mapping\":{\n},\n\"data\":{\n\"count\":[35.0,12.0,3.0,11.0,5.0,51.0,38.0,11.0,33.0,9.0,22.0,4.0],\n\"x\":[\"compact\",\"compact\",\"midsize\",\"suv\",\"2seater\",\"suv\",\"midsize\",\"minivan\",\"pickup\",\"subcompact\",\"subcompact\",\"subcompact\"],\n\"y\":[\"f\",\"4\",\"4\",\"r\",\"r\",\"4\",\"f\",\"f\",\"4\",\"r\",\"f\",\"4\"]\n},\n\"ggsize\":{\n\"width\":600.0,\n\"height\":350.0\n},\n\"kind\":\"plot\",\n\"scales\":[{\n\"aesthetic\":\"x\",\n\"name\":\"class\",\n\"limits\":[null,null]\n},{\n\"aesthetic\":\"y\",\n\"name\":\"drv\",\n\"limits\":[null,null]\n},{\n\"aesthetic\":\"x\",\n\"discrete\":true\n},{\n\"aesthetic\":\"y\",\n\"discrete\":true\n},{\n\"aesthetic\":\"fill\",\n\"scale_mapper_kind\":\"color_gradient\",\n\"high\":\"#ee6666\",\n\"low\":\"#3ba272\",\n\"limits\":[null,null]\n},{\n\"aesthetic\":\"x\",\n\"name\":\"class\",\n\"limits\":[null,null]\n},{\n\"aesthetic\":\"y\",\n\"name\":\"drv\",\n\"limits\":[null,null]\n}],\n\"layers\":[{\n\"mapping\":{\n\"x\":\"x\",\n\"y\":\"y\",\n\"fill\":\"count\"\n},\n\"stat\":\"identity\",\n\"sampling\":\"none\",\n\"alpha\":0.6,\n\"position\":\"identity\",\n\"geom\":\"tile\",\n\"data\":{\n}\n}]\n};\n       var plotContainer = document.getElementById(\"AIMMgh\");\n       LetsPlot.buildPlotFromProcessedSpecs(plotSpec, -1, -1, plotContainer);\n   </script>            \n        <svg id=94e32685-5154-43ae-835d-cce7f73c40fa xmlns=\"http://www.w3.org/2000/svg\" xmlns:xlink=\"http://www.w3.org/1999/xlink\" class=\"plt-container\" width=\"600.0\" height=\"350.0\">\n  <style type=\"text/css\">\n  .plt-container {\n   font-family: Lucida Grande, sans-serif;\n   user-select: none;\n   -webkit-user-select: none;\n   -moz-user-select: none;\n   -ms-user-select: none;\n}\ntext {\n   text-rendering: optimizeLegibility;\n}\n#pC7kN5q .plot-title {\n   fill: #474747;\n   font-family: Lucida Grande, sans-serif;\n   font-size: 16.0px;\n   font-weight: normal;\n   font-style: normal;   \n}\n#pC7kN5q .plot-subtitle {\n   fill: #474747;\n   font-family: Lucida Grande, sans-serif;\n   font-size: 15.0px;\n   font-weight: normal;\n   font-style: normal;   \n}\n#pC7kN5q .plot-caption {\n   fill: #474747;\n   font-family: Lucida Grande, sans-serif;\n   font-size: 13.0px;\n   font-weight: normal;\n   font-style: normal;   \n}\n#pC7kN5q .legend-title {\n   fill: #474747;\n   font-family: Lucida Grande, sans-serif;\n   font-size: 15.0px;\n   font-weight: normal;\n   font-style: normal;   \n}\n#pC7kN5q .legend-item {\n   fill: #474747;\n   font-family: Lucida Grande, sans-serif;\n   font-size: 13.0px;\n   font-weight: normal;\n   font-style: normal;   \n}\n#pC7kN5q .axis-title-x {\n   fill: #474747;\n   font-family: Lucida Grande, sans-serif;\n   font-size: 15.0px;\n   font-weight: normal;\n   font-style: normal;   \n}\n#pC7kN5q .axis-text-x {\n   fill: #474747;\n   font-family: Lucida Grande, sans-serif;\n   font-size: 13.0px;\n   font-weight: normal;\n   font-style: normal;   \n}\n#dIE6dWm .axis-tooltip-text-x {\n   fill: #ffffff;\n   font-family: Lucida Grande, sans-serif;\n   font-size: 13.0px;\n   font-weight: normal;\n   font-style: normal;   \n}\n#pC7kN5q .axis-title-y {\n   fill: #474747;\n   font-family: Lucida Grande, sans-serif;\n   font-size: 15.0px;\n   font-weight: normal;\n   font-style: normal;   \n}\n#pC7kN5q .axis-text-y {\n   fill: #474747;\n   font-family: Lucida Grande, sans-serif;\n   font-size: 13.0px;\n   font-weight: normal;\n   font-style: normal;   \n}\n#dIE6dWm .axis-tooltip-text-y {\n   fill: #ffffff;\n   font-family: Lucida Grande, sans-serif;\n   font-size: 13.0px;\n   font-weight: normal;\n   font-style: normal;   \n}\n#pC7kN5q .facet-strip-text-x {\n   fill: #474747;\n   font-family: Lucida Grande, sans-serif;\n   font-size: 13.0px;\n   font-weight: normal;\n   font-style: normal;   \n}\n#pC7kN5q .facet-strip-text-y {\n   fill: #474747;\n   font-family: Lucida Grande, sans-serif;\n   font-size: 13.0px;\n   font-weight: normal;\n   font-style: normal;   \n}\n#dIE6dWm .tooltip-text {\n   fill: #474747;\n   font-family: Lucida Grande, sans-serif;\n   font-size: 13.0px;\n   font-weight: normal;\n   font-style: normal;   \n}\n#dIE6dWm .tooltip-title {\n   fill: #474747;\n   font-family: Lucida Grande, sans-serif;\n   font-size: 13.0px;\n   font-weight: bold;\n   font-style: normal;   \n}\n#dIE6dWm .tooltip-label {\n   fill: #474747;\n   font-family: Lucida Grande, sans-serif;\n   font-size: 13.0px;\n   font-weight: bold;\n   font-style: normal;   \n}\n\n  </style>\n  <g id=\"pC7kN5q\">\n    <rect x=\"0.0\" y=\"0.0\" height=\"350.0\" width=\"600.0\" stroke=\"rgb(71,71,71)\" stroke-opacity=\"1.0\" stroke-width=\"0.0\" fill=\"rgb(255,255,255)\" fill-opacity=\"1.0\">\n    </rect>\n    <g transform=\"translate(23.0 48.61683817027509 ) \">\n      <g transform=\"translate(13.980605455468202 225.16632365944983 ) \">\n        <line x1=\"46.35777251812201\" y1=\"-0.0\" x2=\"46.35777251812201\" y2=\"-225.16632365944983\" stroke=\"rgb(233,233,233)\" stroke-opacity=\"1.0\" stroke-width=\"1.0\">\n        </line>\n        <line x1=\"112.5831618297249\" y1=\"-0.0\" x2=\"112.5831618297249\" y2=\"-225.16632365944983\" stroke=\"rgb(233,233,233)\" stroke-opacity=\"1.0\" stroke-width=\"1.0\">\n        </line>\n        <line x1=\"178.80855114132777\" y1=\"-0.0\" x2=\"178.80855114132777\" y2=\"-225.16632365944983\" stroke=\"rgb(233,233,233)\" stroke-opacity=\"1.0\" stroke-width=\"1.0\">\n        </line>\n        <line x1=\"245.03394045293064\" y1=\"-0.0\" x2=\"245.03394045293064\" y2=\"-225.16632365944983\" stroke=\"rgb(233,233,233)\" stroke-opacity=\"1.0\" stroke-width=\"1.0\">\n        </line>\n        <line x1=\"311.25932976453356\" y1=\"-0.0\" x2=\"311.25932976453356\" y2=\"-225.16632365944983\" stroke=\"rgb(233,233,233)\" stroke-opacity=\"1.0\" stroke-width=\"1.0\">\n        </line>\n        <line x1=\"377.48471907613646\" y1=\"-0.0\" x2=\"377.48471907613646\" y2=\"-225.16632365944983\" stroke=\"rgb(233,233,233)\" stroke-opacity=\"1.0\" stroke-width=\"1.0\">\n        </line>\n        <line x1=\"443.7101083877393\" y1=\"-0.0\" x2=\"443.7101083877393\" y2=\"-225.16632365944983\" stroke=\"rgb(233,233,233)\" stroke-opacity=\"1.0\" stroke-width=\"1.0\">\n        </line>\n        <g transform=\"translate(46.35777251812201 0.0 ) \">\n          <line stroke-width=\"1.0\" stroke=\"rgb(71,71,71)\" stroke-opacity=\"1.0\" x2=\"0.0\" y2=\"4.0\">\n          </line>\n          <g transform=\"translate(0.0 7.0 ) \">\n            <text class=\"axis-text-x\" text-anchor=\"middle\" dy=\"0.7em\">\n            compact\n            </text>\n          </g>\n        </g>\n        <g transform=\"translate(112.5831618297249 0.0 ) \">\n          <line stroke-width=\"1.0\" stroke=\"rgb(71,71,71)\" stroke-opacity=\"1.0\" x2=\"0.0\" y2=\"4.0\">\n          </line>\n          <g transform=\"translate(0.0 22.6 ) \">\n            <text class=\"axis-text-x\" text-anchor=\"middle\" dy=\"0.7em\">\n            midsize\n            </text>\n          </g>\n        </g>\n        <g transform=\"translate(178.80855114132777 0.0 ) \">\n          <line stroke-width=\"1.0\" stroke=\"rgb(71,71,71)\" stroke-opacity=\"1.0\" x2=\"0.0\" y2=\"4.0\">\n          </line>\n          <g transform=\"translate(0.0 7.0 ) \">\n            <text class=\"axis-text-x\" text-anchor=\"middle\" dy=\"0.7em\">\n            suv\n            </text>\n          </g>\n        </g>\n        <g transform=\"translate(245.03394045293064 0.0 ) \">\n          <line stroke-width=\"1.0\" stroke=\"rgb(71,71,71)\" stroke-opacity=\"1.0\" x2=\"0.0\" y2=\"4.0\">\n          </line>\n          <g transform=\"translate(0.0 22.6 ) \">\n            <text class=\"axis-text-x\" text-anchor=\"middle\" dy=\"0.7em\">\n            2seater\n            </text>\n          </g>\n        </g>\n        <g transform=\"translate(311.25932976453356 0.0 ) \">\n          <line stroke-width=\"1.0\" stroke=\"rgb(71,71,71)\" stroke-opacity=\"1.0\" x2=\"0.0\" y2=\"4.0\">\n          </line>\n          <g transform=\"translate(0.0 7.0 ) \">\n            <text class=\"axis-text-x\" text-anchor=\"middle\" dy=\"0.7em\">\n            minivan\n            </text>\n          </g>\n        </g>\n        <g transform=\"translate(377.48471907613646 0.0 ) \">\n          <line stroke-width=\"1.0\" stroke=\"rgb(71,71,71)\" stroke-opacity=\"1.0\" x2=\"0.0\" y2=\"4.0\">\n          </line>\n          <g transform=\"translate(0.0 22.6 ) \">\n            <text class=\"axis-text-x\" text-anchor=\"middle\" dy=\"0.7em\">\n            pickup\n            </text>\n          </g>\n        </g>\n        <g transform=\"translate(443.7101083877393 0.0 ) \">\n          <line stroke-width=\"1.0\" stroke=\"rgb(71,71,71)\" stroke-opacity=\"1.0\" x2=\"0.0\" y2=\"4.0\">\n          </line>\n          <g transform=\"translate(0.0 7.0 ) \">\n            <text class=\"axis-text-x\" text-anchor=\"middle\" dy=\"0.7em\">\n            subcompact\n            </text>\n          </g>\n        </g>\n        <line x1=\"0.0\" y1=\"0.0\" x2=\"490.06788090586133\" y2=\"0.0\" stroke-width=\"1.0\" stroke=\"rgb(71,71,71)\" stroke-opacity=\"1.0\">\n        </line>\n      </g>\n      <g transform=\"translate(13.980605455468202 0.0 ) \">\n        <line x1=\"0.0\" y1=\"178.80855114132783\" x2=\"490.06788090586133\" y2=\"178.80855114132783\" stroke=\"rgb(233,233,233)\" stroke-opacity=\"1.0\" stroke-width=\"1.0\">\n        </line>\n        <line x1=\"0.0\" y1=\"112.58316182972494\" x2=\"490.06788090586133\" y2=\"112.58316182972494\" stroke=\"rgb(233,233,233)\" stroke-opacity=\"1.0\" stroke-width=\"1.0\">\n        </line>\n        <line x1=\"0.0\" y1=\"46.35777251812206\" x2=\"490.06788090586133\" y2=\"46.35777251812206\" stroke=\"rgb(233,233,233)\" stroke-opacity=\"1.0\" stroke-width=\"1.0\">\n        </line>\n        <g transform=\"translate(0.0 178.80855114132783 ) \">\n          <g transform=\"translate(-3.0 0.0 ) \">\n            <text class=\"axis-text-y\" text-anchor=\"end\" dy=\"0.35em\">\n            f\n            </text>\n          </g>\n        </g>\n        <g transform=\"translate(0.0 112.58316182972494 ) \">\n          <g transform=\"translate(-3.0 0.0 ) \">\n            <text class=\"axis-text-y\" text-anchor=\"end\" dy=\"0.35em\">\n            4\n            </text>\n          </g>\n        </g>\n        <g transform=\"translate(0.0 46.35777251812206 ) \">\n          <g transform=\"translate(-3.0 0.0 ) \">\n            <text class=\"axis-text-y\" text-anchor=\"end\" dy=\"0.35em\">\n            r\n            </text>\n          </g>\n        </g>\n      </g>\n      <g transform=\"translate(13.980605455468202 0.0 ) \" clip-path=\"url(#ct3BgqO)\" clip-bounds-jfx=\"[rect (0.0, 0.0), (490.06788090586133, 225.16632365944983)]\">\n        <defs>\n          <clipPath id=\"ct3BgqO\">\n            <rect x=\"0.0\" y=\"0.0\" width=\"490.06788090586133\" height=\"225.16632365944983\">\n            </rect>\n          </clipPath>\n        </defs>\n        <g>\n          \n          <g >\n            <rect fill=\"#d4c156\" fill-opacity=\"0.6\" stroke=\"#000000\" stroke-opacity=\"0.0\" stroke-width=\"1.6500000000000001\" x=\"13.24507786232057\" y=\"145.69585648552638\" height=\"66.2253893116029\" width=\"66.22538931160288\" />\n            <rect fill=\"#42b149\" fill-opacity=\"0.6\" stroke=\"#000000\" stroke-opacity=\"0.0\" stroke-width=\"1.6500000000000001\" x=\"13.24507786232057\" y=\"79.47046717392351\" height=\"66.22538931160287\" width=\"66.22538931160288\" />\n            <rect fill=\"#3ba373\" fill-opacity=\"0.6\" stroke=\"#000000\" stroke-opacity=\"0.0\" stroke-width=\"1.6500000000000001\" x=\"79.47046717392345\" y=\"79.47046717392351\" height=\"66.22538931160287\" width=\"66.22538931160287\" />\n            <rect fill=\"#41b04e\" fill-opacity=\"0.6\" stroke=\"#000000\" stroke-opacity=\"0.0\" stroke-width=\"1.6500000000000001\" x=\"145.69585648552632\" y=\"13.245077862320613\" height=\"66.2253893116029\" width=\"66.2253893116029\" />\n            <rect fill=\"#3ca66a\" fill-opacity=\"0.6\" stroke=\"#000000\" stroke-opacity=\"0.0\" stroke-width=\"1.6500000000000001\" x=\"211.92124579712922\" y=\"13.245077862320613\" height=\"66.2253893116029\" width=\"66.22538931160287\" />\n            <rect fill=\"#ed6666\" fill-opacity=\"0.6\" stroke=\"#000000\" stroke-opacity=\"0.0\" stroke-width=\"1.6500000000000001\" x=\"145.69585648552632\" y=\"79.47046717392351\" height=\"66.22538931160287\" width=\"66.2253893116029\" />\n            <rect fill=\"#d9b159\" fill-opacity=\"0.6\" stroke=\"#000000\" stroke-opacity=\"0.0\" stroke-width=\"1.6500000000000001\" x=\"79.47046717392345\" y=\"145.69585648552638\" height=\"66.2253893116029\" width=\"66.22538931160287\" />\n            <rect fill=\"#41b04e\" fill-opacity=\"0.6\" stroke=\"#000000\" stroke-opacity=\"0.0\" stroke-width=\"1.6500000000000001\" x=\"278.1466351087321\" y=\"145.69585648552638\" height=\"66.2253893116029\" width=\"66.2253893116029\" />\n            <rect fill=\"#d1cb55\" fill-opacity=\"0.6\" stroke=\"#000000\" stroke-opacity=\"0.0\" stroke-width=\"1.6500000000000001\" x=\"344.372024420335\" y=\"79.47046717392351\" height=\"66.22538931160287\" width=\"66.2253893116029\" />\n            <rect fill=\"#40ac57\" fill-opacity=\"0.6\" stroke=\"#000000\" stroke-opacity=\"0.0\" stroke-width=\"1.6500000000000001\" x=\"410.5974137319379\" y=\"13.245077862320613\" height=\"66.2253893116029\" width=\"66.2253893116029\" />\n            <rect fill=\"#82c04b\" fill-opacity=\"0.6\" stroke=\"#000000\" stroke-opacity=\"0.0\" stroke-width=\"1.6500000000000001\" x=\"410.5974137319379\" y=\"145.69585648552638\" height=\"66.2253893116029\" width=\"66.2253893116029\" />\n            <rect fill=\"#3ca56e\" fill-opacity=\"0.6\" stroke=\"#000000\" stroke-opacity=\"0.0\" stroke-width=\"1.6500000000000001\" x=\"410.5974137319379\" y=\"79.47046717392351\" height=\"66.22538931160287\" width=\"66.2253893116029\" />\n          </g>\n        </g>\n      </g>\n    </g>\n    <g transform=\"translate(36.9806054554682 29.816838170275087 ) \">\n      <text class=\"plot-title\" y=\"0.0\">\n      Configured `heatmap` plot\n      </text>\n    </g>\n    <g transform=\"translate(14.5 161.2 ) rotate(-90.0 ) \">\n      <text class=\"axis-title-y\" y=\"0.0\" text-anchor=\"middle\">\n      drv\n      </text>\n    </g>\n    <g transform=\"translate(282.0145459083989 326.88316182972494 ) \">\n      <text class=\"axis-title-x\" y=\"0.0\" text-anchor=\"middle\">\n      class\n      </text>\n    </g>\n    <g transform=\"translate(537.0484863613295 82.44999999999999 ) \">\n      <rect x=\"5.0\" y=\"5.0\" height=\"147.5\" width=\"52.951513638670505\" stroke=\"rgb(71,71,71)\" stroke-opacity=\"1.0\" stroke-width=\"0.0\" fill=\"rgb(255,255,255)\" fill-opacity=\"1.0\">\n      </rect>\n      <g transform=\"translate(10.0 10.0 ) \">\n        <g transform=\"translate(0.0 10.5 ) \">\n          <text class=\"legend-title\" y=\"0.0\">\n          count\n          </text>\n        </g>\n        <g transform=\"translate(0.0 22.5 ) \">\n          <g>\n            <rect x=\"0.0\" y=\"0.0\" height=\"115.0\" width=\"23.0\" stroke-width=\"0.0\" fill=\"rgb(235,109,101)\" fill-opacity=\"1.0\">\n            </rect>\n            <rect x=\"0.0\" y=\"7.55\" height=\"107.45\" width=\"23.0\" stroke-width=\"0.0\" fill=\"rgb(232,124,98)\" fill-opacity=\"1.0\">\n            </rect>\n            <rect x=\"0.0\" y=\"13.1\" height=\"101.9\" width=\"23.0\" stroke-width=\"0.0\" fill=\"rgb(228,138,96)\" fill-opacity=\"1.0\">\n            </rect>\n            <rect x=\"0.0\" y=\"18.65\" height=\"96.35\" width=\"23.0\" stroke-width=\"0.0\" fill=\"rgb(224,152,94)\" fill-opacity=\"1.0\">\n            </rect>\n            <rect x=\"0.0\" y=\"24.2\" height=\"90.8\" width=\"23.0\" stroke-width=\"0.0\" fill=\"rgb(221,165,91)\" fill-opacity=\"1.0\">\n            </rect>\n            <rect x=\"0.0\" y=\"29.75\" height=\"85.25\" width=\"23.0\" stroke-width=\"0.0\" fill=\"rgb(217,178,89)\" fill-opacity=\"1.0\">\n            </rect>\n            <rect x=\"0.0\" y=\"35.3\" height=\"79.7\" width=\"23.0\" stroke-width=\"0.0\" fill=\"rgb(213,191,87)\" fill-opacity=\"1.0\">\n            </rect>\n            <rect x=\"0.0\" y=\"40.849999999999994\" height=\"74.15\" width=\"23.0\" stroke-width=\"0.0\" fill=\"rgb(209,203,85)\" fill-opacity=\"1.0\">\n            </rect>\n            <rect x=\"0.0\" y=\"46.39999999999999\" height=\"68.60000000000001\" width=\"23.0\" stroke-width=\"0.0\" fill=\"rgb(196,206,82)\" fill-opacity=\"1.0\">\n            </rect>\n            <rect x=\"0.0\" y=\"51.94999999999999\" height=\"63.05000000000001\" width=\"23.0\" stroke-width=\"0.0\" fill=\"rgb(177,202,80)\" fill-opacity=\"1.0\">\n            </rect>\n            <rect x=\"0.0\" y=\"57.499999999999986\" height=\"57.500000000000014\" width=\"23.0\" stroke-width=\"0.0\" fill=\"rgb(159,198,78)\" fill-opacity=\"1.0\">\n            </rect>\n            <rect x=\"0.0\" y=\"63.04999999999998\" height=\"51.95000000000002\" width=\"23.0\" stroke-width=\"0.0\" fill=\"rgb(140,195,76)\" fill-opacity=\"1.0\">\n            </rect>\n            <rect x=\"0.0\" y=\"68.59999999999998\" height=\"46.40000000000002\" width=\"23.0\" stroke-width=\"0.0\" fill=\"rgb(123,191,74)\" fill-opacity=\"1.0\">\n            </rect>\n            <rect x=\"0.0\" y=\"74.14999999999998\" height=\"40.85000000000002\" width=\"23.0\" stroke-width=\"0.0\" fill=\"rgb(105,187,72)\" fill-opacity=\"1.0\">\n            </rect>\n            <rect x=\"0.0\" y=\"79.69999999999997\" height=\"35.300000000000026\" width=\"23.0\" stroke-width=\"0.0\" fill=\"rgb(88,184,70)\" fill-opacity=\"1.0\">\n            </rect>\n            <rect x=\"0.0\" y=\"85.24999999999997\" height=\"29.75000000000003\" width=\"23.0\" stroke-width=\"0.0\" fill=\"rgb(72,180,68)\" fill-opacity=\"1.0\">\n            </rect>\n            <rect x=\"0.0\" y=\"90.79999999999997\" height=\"24.20000000000003\" width=\"23.0\" stroke-width=\"0.0\" fill=\"rgb(66,176,76)\" fill-opacity=\"1.0\">\n            </rect>\n            <rect x=\"0.0\" y=\"96.34999999999997\" height=\"18.650000000000034\" width=\"23.0\" stroke-width=\"0.0\" fill=\"rgb(64,172,87)\" fill-opacity=\"1.0\">\n            </rect>\n            <rect x=\"0.0\" y=\"101.89999999999996\" height=\"13.100000000000037\" width=\"23.0\" stroke-width=\"0.0\" fill=\"rgb(62,169,98)\" fill-opacity=\"1.0\">\n            </rect>\n            <rect x=\"0.0\" y=\"107.44999999999996\" height=\"7.55000000000004\" width=\"23.0\" stroke-width=\"0.0\" fill=\"rgb(60,165,109)\" fill-opacity=\"1.0\">\n            </rect>\n            <line x1=\"0.0\" y1=\"96.8125\" x2=\"4.6\" y2=\"96.8125\" stroke-width=\"1.0\" stroke=\"rgb(255,255,255)\" stroke-opacity=\"1.0\">\n            </line>\n            <line x1=\"18.4\" y1=\"96.8125\" x2=\"23.0\" y2=\"96.8125\" stroke-width=\"1.0\" stroke=\"rgb(255,255,255)\" stroke-opacity=\"1.0\">\n            </line>\n            <g transform=\"translate(26.9903027277341 101.3625 ) \">\n              <text class=\"legend-item\" y=\"0.0\">\n              10\n              </text>\n            </g>\n            <line x1=\"0.0\" y1=\"73.6875\" x2=\"4.6\" y2=\"73.6875\" stroke-width=\"1.0\" stroke=\"rgb(255,255,255)\" stroke-opacity=\"1.0\">\n            </line>\n            <line x1=\"18.4\" y1=\"73.6875\" x2=\"23.0\" y2=\"73.6875\" stroke-width=\"1.0\" stroke=\"rgb(255,255,255)\" stroke-opacity=\"1.0\">\n            </line>\n            <g transform=\"translate(26.9903027277341 78.2375 ) \">\n              <text class=\"legend-item\" y=\"0.0\">\n              20\n              </text>\n            </g>\n            <line x1=\"0.0\" y1=\"50.5625\" x2=\"4.6\" y2=\"50.5625\" stroke-width=\"1.0\" stroke=\"rgb(255,255,255)\" stroke-opacity=\"1.0\">\n            </line>\n            <line x1=\"18.4\" y1=\"50.5625\" x2=\"23.0\" y2=\"50.5625\" stroke-width=\"1.0\" stroke=\"rgb(255,255,255)\" stroke-opacity=\"1.0\">\n            </line>\n            <g transform=\"translate(26.9903027277341 55.1125 ) \">\n              <text class=\"legend-item\" y=\"0.0\">\n              30\n              </text>\n            </g>\n            <line x1=\"0.0\" y1=\"27.4375\" x2=\"4.6\" y2=\"27.4375\" stroke-width=\"1.0\" stroke=\"rgb(255,255,255)\" stroke-opacity=\"1.0\">\n            </line>\n            <line x1=\"18.4\" y1=\"27.4375\" x2=\"23.0\" y2=\"27.4375\" stroke-width=\"1.0\" stroke=\"rgb(255,255,255)\" stroke-opacity=\"1.0\">\n            </line>\n            <g transform=\"translate(26.9903027277341 31.987499999999997 ) \">\n              <text class=\"legend-item\" y=\"0.0\">\n              40\n              </text>\n            </g>\n            <line x1=\"0.0\" y1=\"4.3125\" x2=\"4.6\" y2=\"4.3125\" stroke-width=\"1.0\" stroke=\"rgb(255,255,255)\" stroke-opacity=\"1.0\">\n            </line>\n            <line x1=\"18.4\" y1=\"4.3125\" x2=\"23.0\" y2=\"4.3125\" stroke-width=\"1.0\" stroke=\"rgb(255,255,255)\" stroke-opacity=\"1.0\">\n            </line>\n            <g transform=\"translate(26.9903027277341 8.862499999999999 ) \">\n              <text class=\"legend-item\" y=\"0.0\">\n              50\n              </text>\n            </g>\n          </g>\n        </g>\n      </g>\n    </g>\n  </g>\n  <g id=\"dIE6dWm\">\n  </g>\n</svg>\n        <script>document.getElementById(\"94e32685-5154-43ae-835d-cce7f73c40fa\").style.display = \"none\";</script>",
      "application/plot+json": {
       "output_type": "lets_plot_spec",
       "output": {
        "ggtitle": {
         "text": "Configured `heatmap` plot"
        },
        "mapping": {},
        "data": {
         "x": [
          "compact",
          "compact",
          "midsize",
          "suv",
          "2seater",
          "suv",
          "midsize",
          "minivan",
          "pickup",
          "subcompact",
          "subcompact",
          "subcompact"
         ],
         "count": [
          35.0,
          12.0,
          3.0,
          11.0,
          5.0,
          51.0,
          38.0,
          11.0,
          33.0,
          9.0,
          22.0,
          4.0
         ],
         "y": [
          "f",
          "4",
          "4",
          "r",
          "r",
          "4",
          "f",
          "f",
          "4",
          "r",
          "f",
          "4"
         ],
         "countWeighted": [
          1020.0,
          310.0,
          72.0,
          192.0,
          124.0,
          932.0,
          1047.0,
          246.0,
          557.0,
          209.0,
          672.0,
          104.0
         ]
        },
        "ggsize": {
         "width": 600.0,
         "height": 350.0
        },
        "kind": "plot",
        "scales": [
         {
          "aesthetic": "x",
          "name": "class",
          "limits": [
           null,
           null
          ]
         },
         {
          "aesthetic": "y",
          "name": "drv",
          "limits": [
           null,
           null
          ]
         },
         {
          "aesthetic": "x",
          "discrete": true
         },
         {
          "aesthetic": "y",
          "discrete": true
         },
         {
          "aesthetic": "fill",
          "scale_mapper_kind": "color_gradient",
          "high": "#ee6666",
          "low": "#3ba272",
          "limits": [
           null,
           null
          ]
         },
         {
          "aesthetic": "x",
          "name": "class",
          "limits": [
           null,
           null
          ]
         },
         {
          "aesthetic": "y",
          "name": "drv",
          "limits": [
           null,
           null
          ]
         }
        ],
        "layers": [
         {
          "mapping": {
           "x": "x",
           "y": "y",
           "fill": "count"
          },
          "stat": "identity",
          "sampling": "none",
          "alpha": 0.6,
          "position": "identity",
          "geom": "tile"
         }
        ]
       },
       "apply_color_scheme": true,
       "swing_enabled": true
      }
     },
     "execution_count": 14,
     "metadata": {},
     "output_type": "execute_result"
    }
   ],
   "source": [
    "df.heatmap {\n",
    "    x(`class`)\n",
    "    y(drv)\n",
    "    weight(hwy)\n",
    "}.configure {\n",
    "    // Tile + StatCount2D + PlotContext\n",
    "    // can't add new layer\n",
    "    // can add tile mapping, including for `Stat.*` columns\n",
    "    fillColor(Stat.count) {\n",
    "        scale = continuous(Color.GREEN..Color.RED)\n",
    "    }\n",
    "    alpha = 0.6\n",
    "    // can configure general plot adjustments\n",
    "    layout {\n",
    "        title = \"Configured `heatmap` plot\"\n",
    "        size = 600 to 350\n",
    "    }\n",
    "}"
   ],
   "metadata": {
    "collapsed": false,
    "ExecuteTime": {
     "end_time": "2023-10-19T12:05:38.312031Z",
     "start_time": "2023-10-19T12:05:38.010801Z"
    }
   }
  }
 ],
 "metadata": {
  "kernelspec": {
   "display_name": "Kotlin",
   "language": "kotlin",
   "name": "kotlin"
  },
  "language_info": {
   "name": "kotlin",
   "version": "1.9.0",
   "mimetype": "text/x-kotlin",
   "file_extension": ".kt",
   "pygments_lexer": "kotlin",
   "codemirror_mode": "text/x-kotlin",
   "nbconvert_exporter": ""
  },
  "ktnbPluginMetadata": {
   "projectLibraries": []
  }
 },
 "nbformat": 4,
 "nbformat_minor": 0
}
