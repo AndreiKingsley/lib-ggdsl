{
 "cells": [
  {
   "cell_type": "code",
   "execution_count": 1,
   "metadata": {
    "ExecuteTime": {
     "end_time": "2023-11-13T11:23:58.228896Z",
     "start_time": "2023-11-13T11:23:49.035571Z"
    }
   },
   "outputs": [
    {
     "data": {
      "text/plain": ""
     },
     "metadata": {},
     "output_type": "display_data"
    },
    {
     "data": {
      "text/html": "            <div id=\"kotlin_out_0\"></div>\n            <script type=\"text/javascript\">\n                            if(!window.kotlinQueues) {\n                window.kotlinQueues = {};\n            }\n            if(!window.kotlinQueues[\"kandyLetsPlot\"]) {\n                var resQueue = [];\n                window.kotlinQueues[\"kandyLetsPlot\"] = resQueue;\n                window[\"call_kandyLetsPlot\"] = function(f) {\n                    resQueue.push(f);\n                }\n            }\n            (function (){\n                var modifiers = [(function(script) {\n    script.src = \"https://cdn.jsdelivr.net/gh/JetBrains/lets-plot@v4.0.1/js-package/distr/lets-plot.min.js\"\n    script.type = \"text/javascript\";\n})];\n                var e = document.getElementById(\"kotlin_out_0\");\n                modifiers.forEach(function (gen) {\n                    var script = document.createElement(\"script\");\n                    gen(script)\n                    script.addEventListener(\"load\", function() {\n                        window[\"call_kandyLetsPlot\"] = function(f) {f();};\n                        window.kotlinQueues[\"kandyLetsPlot\"].forEach(function(f) {f();});\n                        window.kotlinQueues[\"kandyLetsPlot\"] = [];\n                    }, false);\n                    script.addEventListener(\"error\", function() {\n                        window[\"call_kandyLetsPlot\"] = function(f) {};\n                        window.kotlinQueues[\"kandyLetsPlot\"] = [];\n                        var div = document.createElement(\"div\");\n                        div.style.color = 'darkred';\n                        div.textContent = 'Error loading resource kandyLetsPlot';\n                        document.getElementById(\"kotlin_out_0\").appendChild(div);\n                    }, false);\n                    \n                    e.appendChild(script);\n                });\n            })();\n            </script>"
     },
     "metadata": {},
     "output_type": "display_data"
    }
   ],
   "source": [
    "%use kandy(0.5.0-rc-1)\n",
    "%use dataframe(0.12.0)\n",
    "import java.util.Random"
   ]
  },
  {
   "cell_type": "code",
   "execution_count": 2,
   "metadata": {
    "ExecuteTime": {
     "end_time": "2023-11-13T11:23:58.974450Z",
     "start_time": "2023-11-13T11:23:58.231108Z"
    }
   },
   "outputs": [],
   "source": [
    "// This example was found at: \n",
    "// www.cookbook-r.com/Graphs/Scatterplots_(ggplot2)\n",
    "\n",
    "val rand = java.util.Random(123)\n",
    "val n = 20\n",
    "val data = mapOf<String, List<Any>>(\n",
    "    \"cond\" to List(n / 2) { \"A\" } + List(n / 2) { \"B\" },\n",
    "    \"xvar\" to List(n) { i:Int-> i }, \n",
    "    \"yvar\" to List(n) { i:Int-> i + rand.nextGaussian() * 3 }\n",
    ")"
   ]
  },
  {
   "cell_type": "code",
   "execution_count": 3,
   "metadata": {
    "ExecuteTime": {
     "end_time": "2023-11-13T11:23:59.121463Z",
     "start_time": "2023-11-13T11:23:58.973506Z"
    }
   },
   "outputs": [],
   "source": [
    "val cond = \"cond\"<String>()\n",
    "val xvar = \"xvar\"<Int>()\n",
    "val yvar = \"yvar\"<Double>()"
   ]
  },
  {
   "cell_type": "markdown",
   "metadata": {},
   "source": [
    "#### Basic scatter plot"
   ]
  },
  {
   "cell_type": "code",
   "execution_count": 4,
   "metadata": {
    "ExecuteTime": {
     "end_time": "2023-11-13T11:23:59.996706Z",
     "start_time": "2023-11-13T11:23:59.106406Z"
    }
   },
   "outputs": [
    {
     "data": {
      "text/html": "            <script type=\"text/javascript\" data-lets-plot-script=\"library\" src=\"https://cdn.jsdelivr.net/gh/JetBrains/lets-plot@v4.0.1/js-package/distr/lets-plot.min.js\"></script>    \n               <div id=\"XAJ12Y\"></div>\n   <script type=\"text/javascript\" data-lets-plot-script=\"plot\">\n       var plotSpec={\n\"mapping\":{\n},\n\"data\":{\n\"yvar\":[-4.31414792742272,2.9025852255330413,2.678186038496493,3.8323801422104644,4.552957466631817,3.9043586677544218,10.056090493036294,8.077708681007955,7.384161947842241,12.052485955548157,14.114693281686685,5.329404481450428,10.598634211929852,10.98677740976943,8.96180814139117,14.194166026725489,15.099984576207884,12.734927210327559,18.2859058065098,17.832111113004313],\n\"xvar\":[0.0,1.0,2.0,3.0,4.0,5.0,6.0,7.0,8.0,9.0,10.0,11.0,12.0,13.0,14.0,15.0,16.0,17.0,18.0,19.0]\n},\n\"ggsize\":{\n\"width\":300.0,\n\"height\":250.0\n},\n\"kind\":\"plot\",\n\"scales\":[{\n\"aesthetic\":\"x\",\n\"limits\":[null,null]\n},{\n\"aesthetic\":\"y\",\n\"limits\":[null,null]\n}],\n\"layers\":[{\n\"mapping\":{\n\"x\":\"xvar\",\n\"y\":\"yvar\"\n},\n\"stat\":\"identity\",\n\"shape\":1.0,\n\"sampling\":\"none\",\n\"position\":\"identity\",\n\"geom\":\"point\",\n\"data\":{\n}\n}]\n};\n       var plotContainer = document.getElementById(\"XAJ12Y\");\n       LetsPlot.buildPlotFromProcessedSpecs(plotSpec, -1, -1, plotContainer);\n   </script>            \n        <svg id=8c1eb03a-e41b-4b0a-a9ff-f31bf346c6fe xmlns=\"http://www.w3.org/2000/svg\" xmlns:xlink=\"http://www.w3.org/1999/xlink\" class=\"plt-container\" width=\"300.0\" height=\"250.0\">\n  <style type=\"text/css\">\n  .plt-container {\n   font-family: Lucida Grande, sans-serif;\n   user-select: none;\n   -webkit-user-select: none;\n   -moz-user-select: none;\n   -ms-user-select: none;\n}\ntext {\n   text-rendering: optimizeLegibility;\n}\n#pon51Ot .plot-title {\n   fill: #474747;\n   font-family: Lucida Grande, sans-serif;\n   font-size: 16.0px;\n   font-weight: normal;\n   font-style: normal;   \n}\n#pon51Ot .plot-subtitle {\n   fill: #474747;\n   font-family: Lucida Grande, sans-serif;\n   font-size: 15.0px;\n   font-weight: normal;\n   font-style: normal;   \n}\n#pon51Ot .plot-caption {\n   fill: #474747;\n   font-family: Lucida Grande, sans-serif;\n   font-size: 13.0px;\n   font-weight: normal;\n   font-style: normal;   \n}\n#pon51Ot .legend-title {\n   fill: #474747;\n   font-family: Lucida Grande, sans-serif;\n   font-size: 15.0px;\n   font-weight: normal;\n   font-style: normal;   \n}\n#pon51Ot .legend-item {\n   fill: #474747;\n   font-family: Lucida Grande, sans-serif;\n   font-size: 13.0px;\n   font-weight: normal;\n   font-style: normal;   \n}\n#pon51Ot .axis-title-x {\n   fill: #474747;\n   font-family: Lucida Grande, sans-serif;\n   font-size: 15.0px;\n   font-weight: normal;\n   font-style: normal;   \n}\n#pon51Ot .axis-text-x {\n   fill: #474747;\n   font-family: Lucida Grande, sans-serif;\n   font-size: 13.0px;\n   font-weight: normal;\n   font-style: normal;   \n}\n#d47qIGP .axis-tooltip-text-x {\n   fill: #ffffff;\n   font-family: Lucida Grande, sans-serif;\n   font-size: 13.0px;\n   font-weight: normal;\n   font-style: normal;   \n}\n#pon51Ot .axis-title-y {\n   fill: #474747;\n   font-family: Lucida Grande, sans-serif;\n   font-size: 15.0px;\n   font-weight: normal;\n   font-style: normal;   \n}\n#pon51Ot .axis-text-y {\n   fill: #474747;\n   font-family: Lucida Grande, sans-serif;\n   font-size: 13.0px;\n   font-weight: normal;\n   font-style: normal;   \n}\n#d47qIGP .axis-tooltip-text-y {\n   fill: #ffffff;\n   font-family: Lucida Grande, sans-serif;\n   font-size: 13.0px;\n   font-weight: normal;\n   font-style: normal;   \n}\n#pon51Ot .facet-strip-text-x {\n   fill: #474747;\n   font-family: Lucida Grande, sans-serif;\n   font-size: 13.0px;\n   font-weight: normal;\n   font-style: normal;   \n}\n#pon51Ot .facet-strip-text-y {\n   fill: #474747;\n   font-family: Lucida Grande, sans-serif;\n   font-size: 13.0px;\n   font-weight: normal;\n   font-style: normal;   \n}\n#d47qIGP .tooltip-text {\n   fill: #474747;\n   font-family: Lucida Grande, sans-serif;\n   font-size: 13.0px;\n   font-weight: normal;\n   font-style: normal;   \n}\n#d47qIGP .tooltip-title {\n   fill: #474747;\n   font-family: Lucida Grande, sans-serif;\n   font-size: 13.0px;\n   font-weight: bold;\n   font-style: normal;   \n}\n#d47qIGP .tooltip-label {\n   fill: #474747;\n   font-family: Lucida Grande, sans-serif;\n   font-size: 13.0px;\n   font-weight: bold;\n   font-style: normal;   \n}\n\n  </style>\n  <g id=\"pon51Ot\">\n    <path fill-rule=\"evenodd\" fill=\"rgb(255,255,255)\" fill-opacity=\"1.0\" d=\"M0.0 0.0 L0.0 250.0 L300.0 250.0 L300.0 0.0 Z\">\n    </path>\n    <g transform=\"translate(23.0 10.0 ) \">\n      <g transform=\"translate(21.961210910936405 194.0 ) \">\n        <line x1=\"11.138126776775618\" y1=\"-0.0\" x2=\"11.138126776775618\" y2=\"-194.0\" stroke=\"rgb(233,233,233)\" stroke-opacity=\"1.0\" stroke-width=\"1.0\">\n        </line>\n        <line x1=\"69.75984665454203\" y1=\"-0.0\" x2=\"69.75984665454203\" y2=\"-194.0\" stroke=\"rgb(233,233,233)\" stroke-opacity=\"1.0\" stroke-width=\"1.0\">\n        </line>\n        <line x1=\"128.38156653230843\" y1=\"-0.0\" x2=\"128.38156653230843\" y2=\"-194.0\" stroke=\"rgb(233,233,233)\" stroke-opacity=\"1.0\" stroke-width=\"1.0\">\n        </line>\n        <line x1=\"187.00328641007485\" y1=\"-0.0\" x2=\"187.00328641007485\" y2=\"-194.0\" stroke=\"rgb(233,233,233)\" stroke-opacity=\"1.0\" stroke-width=\"1.0\">\n        </line>\n        <g transform=\"translate(11.138126776775618 0.0 ) \">\n          <line stroke-width=\"1.0\" stroke=\"rgb(71,71,71)\" stroke-opacity=\"1.0\" x2=\"0.0\" y2=\"4.0\">\n          </line>\n          <g transform=\"translate(0.0 7.0 ) \">\n            <text class=\"axis-text-x\" text-anchor=\"middle\" dy=\"0.7em\">\n            0\n            </text>\n          </g>\n        </g>\n        <g transform=\"translate(69.75984665454203 0.0 ) \">\n          <line stroke-width=\"1.0\" stroke=\"rgb(71,71,71)\" stroke-opacity=\"1.0\" x2=\"0.0\" y2=\"4.0\">\n          </line>\n          <g transform=\"translate(0.0 7.0 ) \">\n            <text class=\"axis-text-x\" text-anchor=\"middle\" dy=\"0.7em\">\n            5\n            </text>\n          </g>\n        </g>\n        <g transform=\"translate(128.38156653230843 0.0 ) \">\n          <line stroke-width=\"1.0\" stroke=\"rgb(71,71,71)\" stroke-opacity=\"1.0\" x2=\"0.0\" y2=\"4.0\">\n          </line>\n          <g transform=\"translate(0.0 7.0 ) \">\n            <text class=\"axis-text-x\" text-anchor=\"middle\" dy=\"0.7em\">\n            10\n            </text>\n          </g>\n        </g>\n        <g transform=\"translate(187.00328641007485 0.0 ) \">\n          <line stroke-width=\"1.0\" stroke=\"rgb(71,71,71)\" stroke-opacity=\"1.0\" x2=\"0.0\" y2=\"4.0\">\n          </line>\n          <g transform=\"translate(0.0 7.0 ) \">\n            <text class=\"axis-text-x\" text-anchor=\"middle\" dy=\"0.7em\">\n            15\n            </text>\n          </g>\n        </g>\n        <line x1=\"0.0\" y1=\"0.0\" x2=\"245.03878908906358\" y2=\"0.0\" stroke-width=\"1.0\" stroke=\"rgb(71,71,71)\" stroke-opacity=\"1.0\">\n        </line>\n      </g>\n      <g transform=\"translate(21.961210910936405 0.0 ) \">\n        <line x1=\"0.0\" y1=\"151.51557892201782\" x2=\"245.03878908906358\" y2=\"151.51557892201782\" stroke=\"rgb(233,233,233)\" stroke-opacity=\"1.0\" stroke-width=\"1.0\">\n        </line>\n        <line x1=\"0.0\" y1=\"112.49716807221577\" x2=\"245.03878908906358\" y2=\"112.49716807221577\" stroke=\"rgb(233,233,233)\" stroke-opacity=\"1.0\" stroke-width=\"1.0\">\n        </line>\n        <line x1=\"0.0\" y1=\"73.47875722241372\" x2=\"245.03878908906358\" y2=\"73.47875722241372\" stroke=\"rgb(233,233,233)\" stroke-opacity=\"1.0\" stroke-width=\"1.0\">\n        </line>\n        <line x1=\"0.0\" y1=\"34.46034637261167\" x2=\"245.03878908906358\" y2=\"34.46034637261167\" stroke=\"rgb(233,233,233)\" stroke-opacity=\"1.0\" stroke-width=\"1.0\">\n        </line>\n        <g transform=\"translate(0.0 190.53398977181988 ) \">\n          <g transform=\"translate(-3.0 0.0 ) \">\n            <text class=\"axis-text-y\" text-anchor=\"end\" dy=\"0.35em\">\n            -5\n            </text>\n          </g>\n        </g>\n        <g transform=\"translate(0.0 151.51557892201782 ) \">\n          <g transform=\"translate(-3.0 0.0 ) \">\n            <text class=\"axis-text-y\" text-anchor=\"end\" dy=\"0.35em\">\n            0\n            </text>\n          </g>\n        </g>\n        <g transform=\"translate(0.0 112.49716807221577 ) \">\n          <g transform=\"translate(-3.0 0.0 ) \">\n            <text class=\"axis-text-y\" text-anchor=\"end\" dy=\"0.35em\">\n            5\n            </text>\n          </g>\n        </g>\n        <g transform=\"translate(0.0 73.47875722241372 ) \">\n          <g transform=\"translate(-3.0 0.0 ) \">\n            <text class=\"axis-text-y\" text-anchor=\"end\" dy=\"0.35em\">\n            10\n            </text>\n          </g>\n        </g>\n        <g transform=\"translate(0.0 34.46034637261167 ) \">\n          <g transform=\"translate(-3.0 0.0 ) \">\n            <text class=\"axis-text-y\" text-anchor=\"end\" dy=\"0.35em\">\n            15\n            </text>\n          </g>\n        </g>\n      </g>\n      <g transform=\"translate(21.961210910936405 0.0 ) \" clip-path=\"url(#cV0pQ5y)\" clip-bounds-jfx=\"[rect (0.0, 0.0), (245.03878908906358, 194.0)]\">\n        <defs>\n          <clipPath id=\"cV0pQ5y\">\n            <rect x=\"0.0\" y=\"0.0\" width=\"245.03878908906358\" height=\"194.0\">\n            </rect>\n          </clipPath>\n        </defs>\n        <g>\n          \n          <g >\n            <circle fill=\"#000000\" fill-opacity=\"0.0\" stroke=\"#474747\" stroke-width=\"1.6500000000000001\" cx=\"11.138126776775618\" cy=\"185.18181818181816\" r=\"4.125\" />\n            <circle fill=\"#000000\" fill-opacity=\"0.0\" stroke=\"#474747\" stroke-width=\"1.6500000000000001\" cx=\"22.8624707523289\" cy=\"128.8647263507351\" r=\"4.125\" />\n            <circle fill=\"#000000\" fill-opacity=\"0.0\" stroke=\"#474747\" stroke-width=\"1.6500000000000001\" cx=\"34.586814727882185\" cy=\"130.61586628556583\" r=\"4.125\" />\n            <circle fill=\"#000000\" fill-opacity=\"0.0\" stroke=\"#474747\" stroke-width=\"1.6500000000000001\" cx=\"46.31115870343547\" cy=\"121.60890233773968\" r=\"4.125\" />\n            <circle fill=\"#000000\" fill-opacity=\"0.0\" stroke=\"#474747\" stroke-width=\"1.6500000000000001\" cx=\"58.03550267898875\" cy=\"115.98574591907499\" r=\"4.125\" />\n            <circle fill=\"#000000\" fill-opacity=\"0.0\" stroke=\"#474747\" stroke-width=\"1.6500000000000001\" cx=\"69.75984665454203\" cy=\"121.04720480133226\" r=\"4.125\" />\n            <circle fill=\"#000000\" fill-opacity=\"0.0\" stroke=\"#474747\" stroke-width=\"1.6500000000000001\" cx=\"81.48419063009531\" cy=\"73.04104484200211\" r=\"4.125\" />\n            <circle fill=\"#000000\" fill-opacity=\"0.0\" stroke=\"#474747\" stroke-width=\"1.6500000000000001\" cx=\"93.2085346056486\" cy=\"88.47970771390162\" r=\"4.125\" />\n            <circle fill=\"#000000\" fill-opacity=\"0.0\" stroke=\"#474747\" stroke-width=\"1.6500000000000001\" cx=\"104.93287858120188\" cy=\"93.89192598954119\" r=\"4.125\" />\n            <circle fill=\"#000000\" fill-opacity=\"0.0\" stroke=\"#474747\" stroke-width=\"1.6500000000000001\" cx=\"116.65722255675516\" cy=\"57.46180916700841\" r=\"4.125\" />\n            <circle fill=\"#000000\" fill-opacity=\"0.0\" stroke=\"#474747\" stroke-width=\"1.6500000000000001\" cx=\"128.38156653230843\" cy=\"41.36899862525944\" r=\"4.125\" />\n            <circle fill=\"#000000\" fill-opacity=\"0.0\" stroke=\"#474747\" stroke-width=\"1.6500000000000001\" cx=\"140.10591050786172\" cy=\"109.92660019361601\" r=\"4.125\" />\n            <circle fill=\"#000000\" fill-opacity=\"0.0\" stroke=\"#474747\" stroke-width=\"1.6500000000000001\" cx=\"151.830254483415\" cy=\"68.80720609644843\" r=\"4.125\" />\n            <circle fill=\"#000000\" fill-opacity=\"0.0\" stroke=\"#474747\" stroke-width=\"1.6500000000000001\" cx=\"163.55459845896826\" cy=\"65.7782599440763\" r=\"4.125\" />\n            <circle fill=\"#000000\" fill-opacity=\"0.0\" stroke=\"#474747\" stroke-width=\"1.6500000000000001\" cx=\"175.27894243452155\" cy=\"81.58047651843751\" r=\"4.125\" />\n            <circle fill=\"#000000\" fill-opacity=\"0.0\" stroke=\"#474747\" stroke-width=\"1.6500000000000001\" cx=\"187.00328641007485\" cy=\"40.748818581802325\" r=\"4.125\" />\n            <circle fill=\"#000000\" fill-opacity=\"0.0\" stroke=\"#474747\" stroke-width=\"1.6500000000000001\" cx=\"198.72763038562812\" cy=\"33.68009851798715\" r=\"4.125\" />\n            <circle fill=\"#000000\" fill-opacity=\"0.0\" stroke=\"#474747\" stroke-width=\"1.6500000000000001\" cx=\"210.45197436118139\" cy=\"52.13625451504099\" r=\"4.125\" />\n            <circle fill=\"#000000\" fill-opacity=\"0.0\" stroke=\"#474747\" stroke-width=\"1.6500000000000001\" cx=\"222.17631833673468\" cy=\"8.818181818181756\" r=\"4.125\" />\n            <circle fill=\"#000000\" fill-opacity=\"0.0\" stroke=\"#474747\" stroke-width=\"1.6500000000000001\" cx=\"233.90066231228798\" cy=\"12.359451376713167\" r=\"4.125\" />\n          </g>\n        </g>\n      </g>\n    </g>\n    <g transform=\"translate(14.5 107.0 ) rotate(-90.0 ) \">\n      <text class=\"axis-title-y\" y=\"0.0\" text-anchor=\"middle\">\n      yvar\n      </text>\n    </g>\n    <g transform=\"translate(167.4806054554682 241.5 ) \">\n      <text class=\"axis-title-x\" y=\"0.0\" text-anchor=\"middle\">\n      xvar\n      </text>\n    </g>\n    <path fill=\"rgb(0,0,0)\" fill-opacity=\"0.0\" stroke=\"rgb(71,71,71)\" stroke-opacity=\"1.0\" stroke-width=\"0.0\" d=\"M0.0 0.0 L0.0 250.0 L300.0 250.0 L300.0 0.0 Z\">\n    </path>\n  </g>\n  <g id=\"d47qIGP\">\n  </g>\n</svg>\n        <script>document.getElementById(\"8c1eb03a-e41b-4b0a-a9ff-f31bf346c6fe\").style.display = \"none\";</script>",
      "application/plot+json": {
       "output_type": "lets_plot_spec",
       "output": {
        "mapping": {},
        "data": {
         "yvar": [
          -4.314148,
          2.9025853,
          2.678186,
          3.83238,
          4.5529575,
          3.9043586,
          10.05609,
          8.077708,
          7.384162,
          12.052486,
          14.114694,
          5.3294044,
          10.598634,
          10.986777,
          8.961808,
          14.194166,
          15.099984,
          12.734927,
          18.285906,
          17.832111
         ],
         "xvar": [
          0.0,
          1.0,
          2.0,
          3.0,
          4.0,
          5.0,
          6.0,
          7.0,
          8.0,
          9.0,
          10.0,
          11.0,
          12.0,
          13.0,
          14.0,
          15.0,
          16.0,
          17.0,
          18.0,
          19.0
         ]
        },
        "ggsize": {
         "width": 300.0,
         "height": 250.0
        },
        "kind": "plot",
        "scales": [
         {
          "aesthetic": "x",
          "limits": [
           null,
           null
          ]
         },
         {
          "aesthetic": "y",
          "limits": [
           null,
           null
          ]
         }
        ],
        "layers": [
         {
          "mapping": {
           "x": "xvar",
           "y": "yvar"
          },
          "stat": "identity",
          "shape": 1.0,
          "sampling": "none",
          "position": "identity",
          "geom": "point"
         }
        ]
       },
       "apply_color_scheme": true,
       "swing_enabled": true
      }
     },
     "execution_count": 4,
     "metadata": {},
     "output_type": "execute_result"
    }
   ],
   "source": [
    "plot(data) {\n",
    "    points {\n",
    "        x(xvar)\n",
    "        y(yvar)\n",
    "        symbol = Symbol.CIRCLE_OPEN\n",
    "    }\n",
    "    layout { \n",
    "        size = 300 to 250\n",
    "    }\n",
    "}"
   ]
  },
  {
   "cell_type": "code",
   "execution_count": 5,
   "metadata": {
    "ExecuteTime": {
     "end_time": "2023-11-13T11:24:00.358558Z",
     "start_time": "2023-11-13T11:23:59.977800Z"
    }
   },
   "outputs": [
    {
     "data": {
      "text/html": "            <script type=\"text/javascript\" data-lets-plot-script=\"library\" src=\"https://cdn.jsdelivr.net/gh/JetBrains/lets-plot@v4.0.1/js-package/distr/lets-plot.min.js\"></script>    \n               <div id=\"sFU0QO\"></div>\n   <script type=\"text/javascript\" data-lets-plot-script=\"plot\">\n       var plotSpec={\n\"mapping\":{\n},\n\"data\":{\n\"yvar\":[-4.31414792742272,2.9025852255330413,2.678186038496493,3.8323801422104644,4.552957466631817,3.9043586677544218,10.056090493036294,8.077708681007955,7.384161947842241,12.052485955548157,14.114693281686685,5.329404481450428,10.598634211929852,10.98677740976943,8.96180814139117,14.194166026725489,15.099984576207884,12.734927210327559,18.2859058065098,17.832111113004313],\n\"xvar\":[0.0,1.0,2.0,3.0,4.0,5.0,6.0,7.0,8.0,9.0,10.0,11.0,12.0,13.0,14.0,15.0,16.0,17.0,18.0,19.0],\n\"cond\":[\"A\",\"A\",\"A\",\"A\",\"A\",\"A\",\"A\",\"A\",\"A\",\"A\",\"B\",\"B\",\"B\",\"B\",\"B\",\"B\",\"B\",\"B\",\"B\",\"B\"]\n},\n\"ggsize\":{\n\"width\":500.0,\n\"height\":250.0\n},\n\"kind\":\"plot\",\n\"scales\":[{\n\"aesthetic\":\"x\",\n\"limits\":[null,null]\n},{\n\"aesthetic\":\"y\",\n\"limits\":[null,null]\n},{\n\"aesthetic\":\"color\",\n\"discrete\":true\n},{\n\"aesthetic\":\"shape\"\n}],\n\"layers\":[{\n\"mapping\":{\n\"x\":\"xvar\",\n\"y\":\"yvar\",\n\"color\":\"cond\",\n\"shape\":\"cond\"\n},\n\"stat\":\"identity\",\n\"size\":5.0,\n\"sampling\":\"none\",\n\"position\":\"identity\",\n\"geom\":\"point\",\n\"data\":{\n}\n}]\n};\n       var plotContainer = document.getElementById(\"sFU0QO\");\n       LetsPlot.buildPlotFromProcessedSpecs(plotSpec, -1, -1, plotContainer);\n   </script>            \n        <svg id=d3f2188d-aad9-445d-a4cf-1f2025edb228 xmlns=\"http://www.w3.org/2000/svg\" xmlns:xlink=\"http://www.w3.org/1999/xlink\" class=\"plt-container\" width=\"500.0\" height=\"250.0\">\n  <style type=\"text/css\">\n  .plt-container {\n   font-family: Lucida Grande, sans-serif;\n   user-select: none;\n   -webkit-user-select: none;\n   -moz-user-select: none;\n   -ms-user-select: none;\n}\ntext {\n   text-rendering: optimizeLegibility;\n}\n#pp0Owzf .plot-title {\n   fill: #474747;\n   font-family: Lucida Grande, sans-serif;\n   font-size: 16.0px;\n   font-weight: normal;\n   font-style: normal;   \n}\n#pp0Owzf .plot-subtitle {\n   fill: #474747;\n   font-family: Lucida Grande, sans-serif;\n   font-size: 15.0px;\n   font-weight: normal;\n   font-style: normal;   \n}\n#pp0Owzf .plot-caption {\n   fill: #474747;\n   font-family: Lucida Grande, sans-serif;\n   font-size: 13.0px;\n   font-weight: normal;\n   font-style: normal;   \n}\n#pp0Owzf .legend-title {\n   fill: #474747;\n   font-family: Lucida Grande, sans-serif;\n   font-size: 15.0px;\n   font-weight: normal;\n   font-style: normal;   \n}\n#pp0Owzf .legend-item {\n   fill: #474747;\n   font-family: Lucida Grande, sans-serif;\n   font-size: 13.0px;\n   font-weight: normal;\n   font-style: normal;   \n}\n#pp0Owzf .axis-title-x {\n   fill: #474747;\n   font-family: Lucida Grande, sans-serif;\n   font-size: 15.0px;\n   font-weight: normal;\n   font-style: normal;   \n}\n#pp0Owzf .axis-text-x {\n   fill: #474747;\n   font-family: Lucida Grande, sans-serif;\n   font-size: 13.0px;\n   font-weight: normal;\n   font-style: normal;   \n}\n#dqWSXxn .axis-tooltip-text-x {\n   fill: #ffffff;\n   font-family: Lucida Grande, sans-serif;\n   font-size: 13.0px;\n   font-weight: normal;\n   font-style: normal;   \n}\n#pp0Owzf .axis-title-y {\n   fill: #474747;\n   font-family: Lucida Grande, sans-serif;\n   font-size: 15.0px;\n   font-weight: normal;\n   font-style: normal;   \n}\n#pp0Owzf .axis-text-y {\n   fill: #474747;\n   font-family: Lucida Grande, sans-serif;\n   font-size: 13.0px;\n   font-weight: normal;\n   font-style: normal;   \n}\n#dqWSXxn .axis-tooltip-text-y {\n   fill: #ffffff;\n   font-family: Lucida Grande, sans-serif;\n   font-size: 13.0px;\n   font-weight: normal;\n   font-style: normal;   \n}\n#pp0Owzf .facet-strip-text-x {\n   fill: #474747;\n   font-family: Lucida Grande, sans-serif;\n   font-size: 13.0px;\n   font-weight: normal;\n   font-style: normal;   \n}\n#pp0Owzf .facet-strip-text-y {\n   fill: #474747;\n   font-family: Lucida Grande, sans-serif;\n   font-size: 13.0px;\n   font-weight: normal;\n   font-style: normal;   \n}\n#dqWSXxn .tooltip-text {\n   fill: #474747;\n   font-family: Lucida Grande, sans-serif;\n   font-size: 13.0px;\n   font-weight: normal;\n   font-style: normal;   \n}\n#dqWSXxn .tooltip-title {\n   fill: #474747;\n   font-family: Lucida Grande, sans-serif;\n   font-size: 13.0px;\n   font-weight: bold;\n   font-style: normal;   \n}\n#dqWSXxn .tooltip-label {\n   fill: #474747;\n   font-family: Lucida Grande, sans-serif;\n   font-size: 13.0px;\n   font-weight: bold;\n   font-style: normal;   \n}\n\n  </style>\n  <g id=\"pp0Owzf\">\n    <path fill-rule=\"evenodd\" fill=\"rgb(255,255,255)\" fill-opacity=\"1.0\" d=\"M0.0 0.0 L0.0 250.0 L500.0 250.0 L500.0 0.0 Z\">\n    </path>\n    <g transform=\"translate(23.0 10.0 ) \">\n      <g transform=\"translate(21.961210910936405 194.0 ) \">\n        <line x1=\"17.64549656901326\" y1=\"-0.0\" x2=\"17.64549656901326\" y2=\"-194.0\" stroke=\"rgb(233,233,233)\" stroke-opacity=\"1.0\" stroke-width=\"1.0\">\n        </line>\n        <line x1=\"110.51653114276726\" y1=\"-0.0\" x2=\"110.51653114276726\" y2=\"-194.0\" stroke=\"rgb(233,233,233)\" stroke-opacity=\"1.0\" stroke-width=\"1.0\">\n        </line>\n        <line x1=\"203.38756571652127\" y1=\"-0.0\" x2=\"203.38756571652127\" y2=\"-194.0\" stroke=\"rgb(233,233,233)\" stroke-opacity=\"1.0\" stroke-width=\"1.0\">\n        </line>\n        <line x1=\"296.25860029027524\" y1=\"-0.0\" x2=\"296.25860029027524\" y2=\"-194.0\" stroke=\"rgb(233,233,233)\" stroke-opacity=\"1.0\" stroke-width=\"1.0\">\n        </line>\n        <g transform=\"translate(17.64549656901326 0.0 ) \">\n          <line stroke-width=\"1.0\" stroke=\"rgb(71,71,71)\" stroke-opacity=\"1.0\" x2=\"0.0\" y2=\"4.0\">\n          </line>\n          <g transform=\"translate(0.0 7.0 ) \">\n            <text class=\"axis-text-x\" text-anchor=\"middle\" dy=\"0.7em\">\n            0\n            </text>\n          </g>\n        </g>\n        <g transform=\"translate(110.51653114276726 0.0 ) \">\n          <line stroke-width=\"1.0\" stroke=\"rgb(71,71,71)\" stroke-opacity=\"1.0\" x2=\"0.0\" y2=\"4.0\">\n          </line>\n          <g transform=\"translate(0.0 7.0 ) \">\n            <text class=\"axis-text-x\" text-anchor=\"middle\" dy=\"0.7em\">\n            5\n            </text>\n          </g>\n        </g>\n        <g transform=\"translate(203.38756571652127 0.0 ) \">\n          <line stroke-width=\"1.0\" stroke=\"rgb(71,71,71)\" stroke-opacity=\"1.0\" x2=\"0.0\" y2=\"4.0\">\n          </line>\n          <g transform=\"translate(0.0 7.0 ) \">\n            <text class=\"axis-text-x\" text-anchor=\"middle\" dy=\"0.7em\">\n            10\n            </text>\n          </g>\n        </g>\n        <g transform=\"translate(296.25860029027524 0.0 ) \">\n          <line stroke-width=\"1.0\" stroke=\"rgb(71,71,71)\" stroke-opacity=\"1.0\" x2=\"0.0\" y2=\"4.0\">\n          </line>\n          <g transform=\"translate(0.0 7.0 ) \">\n            <text class=\"axis-text-x\" text-anchor=\"middle\" dy=\"0.7em\">\n            15\n            </text>\n          </g>\n        </g>\n        <line x1=\"0.0\" y1=\"0.0\" x2=\"388.2009245182917\" y2=\"0.0\" stroke-width=\"1.0\" stroke=\"rgb(71,71,71)\" stroke-opacity=\"1.0\">\n        </line>\n      </g>\n      <g transform=\"translate(21.961210910936405 0.0 ) \">\n        <line x1=\"0.0\" y1=\"151.51557892201782\" x2=\"388.2009245182917\" y2=\"151.51557892201782\" stroke=\"rgb(233,233,233)\" stroke-opacity=\"1.0\" stroke-width=\"1.0\">\n        </line>\n        <line x1=\"0.0\" y1=\"112.49716807221577\" x2=\"388.2009245182917\" y2=\"112.49716807221577\" stroke=\"rgb(233,233,233)\" stroke-opacity=\"1.0\" stroke-width=\"1.0\">\n        </line>\n        <line x1=\"0.0\" y1=\"73.47875722241372\" x2=\"388.2009245182917\" y2=\"73.47875722241372\" stroke=\"rgb(233,233,233)\" stroke-opacity=\"1.0\" stroke-width=\"1.0\">\n        </line>\n        <line x1=\"0.0\" y1=\"34.46034637261167\" x2=\"388.2009245182917\" y2=\"34.46034637261167\" stroke=\"rgb(233,233,233)\" stroke-opacity=\"1.0\" stroke-width=\"1.0\">\n        </line>\n        <g transform=\"translate(0.0 190.53398977181988 ) \">\n          <g transform=\"translate(-3.0 0.0 ) \">\n            <text class=\"axis-text-y\" text-anchor=\"end\" dy=\"0.35em\">\n            -5\n            </text>\n          </g>\n        </g>\n        <g transform=\"translate(0.0 151.51557892201782 ) \">\n          <g transform=\"translate(-3.0 0.0 ) \">\n            <text class=\"axis-text-y\" text-anchor=\"end\" dy=\"0.35em\">\n            0\n            </text>\n          </g>\n        </g>\n        <g transform=\"translate(0.0 112.49716807221577 ) \">\n          <g transform=\"translate(-3.0 0.0 ) \">\n            <text class=\"axis-text-y\" text-anchor=\"end\" dy=\"0.35em\">\n            5\n            </text>\n          </g>\n        </g>\n        <g transform=\"translate(0.0 73.47875722241372 ) \">\n          <g transform=\"translate(-3.0 0.0 ) \">\n            <text class=\"axis-text-y\" text-anchor=\"end\" dy=\"0.35em\">\n            10\n            </text>\n          </g>\n        </g>\n        <g transform=\"translate(0.0 34.46034637261167 ) \">\n          <g transform=\"translate(-3.0 0.0 ) \">\n            <text class=\"axis-text-y\" text-anchor=\"end\" dy=\"0.35em\">\n            15\n            </text>\n          </g>\n        </g>\n      </g>\n      <g transform=\"translate(21.961210910936405 0.0 ) \" clip-path=\"url(#cZQzn41)\" clip-bounds-jfx=\"[rect (0.0, 0.0), (388.2009245182917, 194.0)]\">\n        <defs>\n          <clipPath id=\"cZQzn41\">\n            <rect x=\"0.0\" y=\"0.0\" width=\"388.2009245182917\" height=\"194.0\">\n            </rect>\n          </clipPath>\n        </defs>\n        <g>\n          \n          <g >\n            <circle fill=\"#e41a1c\" stroke=\"#e41a1c\" stroke-opacity=\"0.0\" stroke-width=\"0.0\" cx=\"17.64549656901326\" cy=\"185.18181818181816\" r=\"5.5\" />\n            <circle fill=\"#e41a1c\" stroke=\"#e41a1c\" stroke-opacity=\"0.0\" stroke-width=\"0.0\" cx=\"36.219703483764064\" cy=\"128.8647263507351\" r=\"5.5\" />\n            <circle fill=\"#e41a1c\" stroke=\"#e41a1c\" stroke-opacity=\"0.0\" stroke-width=\"0.0\" cx=\"54.79391039851486\" cy=\"130.61586628556583\" r=\"5.5\" />\n            <circle fill=\"#e41a1c\" stroke=\"#e41a1c\" stroke-opacity=\"0.0\" stroke-width=\"0.0\" cx=\"73.36811731326566\" cy=\"121.60890233773968\" r=\"5.5\" />\n            <circle fill=\"#e41a1c\" stroke=\"#e41a1c\" stroke-opacity=\"0.0\" stroke-width=\"0.0\" cx=\"91.94232422801646\" cy=\"115.98574591907499\" r=\"5.5\" />\n            <circle fill=\"#e41a1c\" stroke=\"#e41a1c\" stroke-opacity=\"0.0\" stroke-width=\"0.0\" cx=\"110.51653114276726\" cy=\"121.04720480133226\" r=\"5.5\" />\n            <circle fill=\"#e41a1c\" stroke=\"#e41a1c\" stroke-opacity=\"0.0\" stroke-width=\"0.0\" cx=\"129.09073805751805\" cy=\"73.04104484200211\" r=\"5.5\" />\n            <circle fill=\"#e41a1c\" stroke=\"#e41a1c\" stroke-opacity=\"0.0\" stroke-width=\"0.0\" cx=\"147.66494497226887\" cy=\"88.47970771390162\" r=\"5.5\" />\n            <circle fill=\"#e41a1c\" stroke=\"#e41a1c\" stroke-opacity=\"0.0\" stroke-width=\"0.0\" cx=\"166.23915188701966\" cy=\"93.89192598954119\" r=\"5.5\" />\n            <circle fill=\"#e41a1c\" stroke=\"#e41a1c\" stroke-opacity=\"0.0\" stroke-width=\"0.0\" cx=\"184.81335880177045\" cy=\"57.46180916700841\" r=\"5.5\" />\n            <path fill=\"#377eb8\" stroke=\"#377eb8\" stroke-opacity=\"0.0\" stroke-width=\"0.0\" d=\"M203.38756571652127 36.60585890444502 L203.38756571652127 36.60585890444502 L208.88756571652127 46.132138346073845 L197.88756571652127 46.132138346073845 Z\" />\n            <path fill=\"#377eb8\" stroke=\"#377eb8\" stroke-opacity=\"0.0\" stroke-width=\"0.0\" d=\"M221.96177263127205 105.1634604728016 L221.96177263127205 105.1634604728016 L227.46177263127205 114.68973991443042 L216.46177263127205 114.68973991443042 Z\" />\n            <path fill=\"#377eb8\" stroke=\"#377eb8\" stroke-opacity=\"0.0\" stroke-width=\"0.0\" d=\"M240.53597954602284 64.04406637563402 L240.53597954602284 64.04406637563402 L246.03597954602284 73.57034581726283 L235.03597954602284 73.57034581726283 Z\" />\n            <path fill=\"#377eb8\" stroke=\"#377eb8\" stroke-opacity=\"0.0\" stroke-width=\"0.0\" d=\"M259.11018646077366 61.01512022326188 L259.11018646077366 61.01512022326188 L264.61018646077366 70.5413996648907 L253.61018646077366 70.5413996648907 Z\" />\n            <path fill=\"#377eb8\" stroke=\"#377eb8\" stroke-opacity=\"0.0\" stroke-width=\"0.0\" d=\"M277.68439337552445 76.8173367976231 L277.68439337552445 76.8173367976231 L283.18439337552445 86.34361623925192 L272.18439337552445 86.34361623925192 Z\" />\n            <path fill=\"#377eb8\" stroke=\"#377eb8\" stroke-opacity=\"0.0\" stroke-width=\"0.0\" d=\"M296.25860029027524 35.98567886098791 L296.25860029027524 35.98567886098791 L301.75860029027524 45.51195830261673 L290.75860029027524 45.51195830261673 Z\" />\n            <path fill=\"#377eb8\" stroke=\"#377eb8\" stroke-opacity=\"0.0\" stroke-width=\"0.0\" d=\"M314.83280720502603 28.916958797172736 L314.83280720502603 28.916958797172736 L320.33280720502603 38.443238238801555 L309.33280720502603 38.443238238801555 Z\" />\n            <path fill=\"#377eb8\" stroke=\"#377eb8\" stroke-opacity=\"0.0\" stroke-width=\"0.0\" d=\"M333.4070141197768 47.373114794226574 L333.4070141197768 47.373114794226574 L338.9070141197768 56.8993942358554 L327.9070141197768 56.8993942358554 Z\" />\n            <path fill=\"#377eb8\" stroke=\"#377eb8\" stroke-opacity=\"0.0\" stroke-width=\"0.0\" d=\"M351.9812210345276 4.055042097367344 L351.9812210345276 4.055042097367344 L357.4812210345276 13.581321538996168 L346.4812210345276 13.581321538996168 Z\" />\n            <path fill=\"#377eb8\" stroke=\"#377eb8\" stroke-opacity=\"0.0\" stroke-width=\"0.0\" d=\"M370.5554279492785 7.596311655898755 L370.5554279492785 7.596311655898755 L376.0554279492785 17.12259109752758 L365.0554279492785 17.12259109752758 Z\" />\n          </g>\n        </g>\n      </g>\n    </g>\n    <g transform=\"translate(14.5 107.0 ) rotate(-90.0 ) \">\n      <text class=\"axis-title-y\" y=\"0.0\" text-anchor=\"middle\">\n      yvar\n      </text>\n    </g>\n    <g transform=\"translate(239.06167317008226 241.5 ) \">\n      <text class=\"axis-title-x\" y=\"0.0\" text-anchor=\"middle\">\n      xvar\n      </text>\n    </g>\n    <g transform=\"translate(443.1621354292281 62.75 ) \">\n      <rect x=\"5.0\" y=\"5.0\" height=\"78.5\" width=\"46.83786457077187\" stroke=\"rgb(71,71,71)\" stroke-opacity=\"1.0\" stroke-width=\"0.0\" fill=\"rgb(255,255,255)\" fill-opacity=\"1.0\">\n      </rect>\n      <g transform=\"translate(10.0 10.0 ) \">\n        <g transform=\"translate(0.0 10.5 ) \">\n          <text class=\"legend-title\" y=\"0.0\">\n          cond\n          </text>\n        </g>\n        <g transform=\"translate(0.0 22.5 ) \">\n          <g transform=\"\">\n            <g>\n              <rect x=\"0.0\" y=\"0.0\" height=\"23.0\" width=\"23.0\" stroke-width=\"0.0\" fill=\"rgb(255,255,255)\" fill-opacity=\"1.0\">\n              </rect>\n              <g transform=\"translate(1.0 1.0 ) \">\n                <g>\n                  \n                  <g >\n                    <circle fill=\"#e41a1c\" stroke=\"#e41a1c\" stroke-opacity=\"0.0\" stroke-width=\"0.0\" cx=\"10.5\" cy=\"10.5\" r=\"5.5\" />\n                  </g>\n                </g>\n              </g>\n              <rect x=\"0.0\" y=\"0.0\" height=\"23.0\" width=\"23.0\" stroke=\"rgb(255,255,255)\" stroke-opacity=\"1.0\" stroke-width=\"1.0\" fill-opacity=\"0.0\">\n              </rect>\n            </g>\n            <g transform=\"translate(26.9903027277341 16.05 ) \">\n              <text class=\"legend-item\" y=\"0.0\">\n              A\n              </text>\n            </g>\n          </g>\n          <g transform=\"translate(0.0 23.0 ) \">\n            <g>\n              <rect x=\"0.0\" y=\"0.0\" height=\"23.0\" width=\"23.0\" stroke-width=\"0.0\" fill=\"rgb(255,255,255)\" fill-opacity=\"1.0\">\n              </rect>\n              <g transform=\"translate(1.0 1.0 ) \">\n                <g>\n                  \n                  <g >\n                    <path fill=\"#377eb8\" stroke=\"#377eb8\" stroke-opacity=\"0.0\" stroke-width=\"0.0\" d=\"M10.5 5.736860279185588 L10.5 5.736860279185588 L16.0 15.263139720814412 L5.0 15.263139720814412 Z\" />\n                  </g>\n                </g>\n              </g>\n              <rect x=\"0.0\" y=\"0.0\" height=\"23.0\" width=\"23.0\" stroke=\"rgb(255,255,255)\" stroke-opacity=\"1.0\" stroke-width=\"1.0\" fill-opacity=\"0.0\">\n              </rect>\n            </g>\n            <g transform=\"translate(26.9903027277341 16.05 ) \">\n              <text class=\"legend-item\" y=\"0.0\">\n              B\n              </text>\n            </g>\n          </g>\n        </g>\n      </g>\n    </g>\n    <path fill=\"rgb(0,0,0)\" fill-opacity=\"0.0\" stroke=\"rgb(71,71,71)\" stroke-opacity=\"1.0\" stroke-width=\"0.0\" d=\"M0.0 0.0 L0.0 250.0 L500.0 250.0 L500.0 0.0 Z\">\n    </path>\n  </g>\n  <g id=\"dqWSXxn\">\n  </g>\n</svg>\n        <script>document.getElementById(\"d3f2188d-aad9-445d-a4cf-1f2025edb228\").style.display = \"none\";</script>",
      "application/plot+json": {
       "output_type": "lets_plot_spec",
       "output": {
        "mapping": {},
        "data": {
         "yvar": [
          -4.314148,
          2.9025853,
          2.678186,
          3.83238,
          4.5529575,
          3.9043586,
          10.05609,
          8.077708,
          7.384162,
          12.052486,
          14.114694,
          5.3294044,
          10.598634,
          10.986777,
          8.961808,
          14.194166,
          15.099984,
          12.734927,
          18.285906,
          17.832111
         ],
         "xvar": [
          0.0,
          1.0,
          2.0,
          3.0,
          4.0,
          5.0,
          6.0,
          7.0,
          8.0,
          9.0,
          10.0,
          11.0,
          12.0,
          13.0,
          14.0,
          15.0,
          16.0,
          17.0,
          18.0,
          19.0
         ],
         "cond": [
          "A",
          "A",
          "A",
          "A",
          "A",
          "A",
          "A",
          "A",
          "A",
          "A",
          "B",
          "B",
          "B",
          "B",
          "B",
          "B",
          "B",
          "B",
          "B",
          "B"
         ]
        },
        "ggsize": {
         "width": 500.0,
         "height": 250.0
        },
        "kind": "plot",
        "scales": [
         {
          "aesthetic": "x",
          "limits": [
           null,
           null
          ]
         },
         {
          "aesthetic": "y",
          "limits": [
           null,
           null
          ]
         },
         {
          "aesthetic": "color",
          "discrete": true
         },
         {
          "aesthetic": "shape"
         }
        ],
        "layers": [
         {
          "mapping": {
           "x": "xvar",
           "y": "yvar",
           "color": "cond",
           "shape": "cond"
          },
          "stat": "identity",
          "size": 5.0,
          "sampling": "none",
          "position": "identity",
          "geom": "point"
         }
        ]
       },
       "apply_color_scheme": true,
       "swing_enabled": true
      }
     },
     "execution_count": 5,
     "metadata": {},
     "output_type": "execute_result"
    }
   ],
   "source": [
    "plot(data) {\n",
    "    points {\n",
    "        x(xvar)\n",
    "        y(yvar)\n",
    "        color(cond)\n",
    "        symbol(cond)\n",
    "        size = 5.0\n",
    "    }\n",
    "    layout { \n",
    "        size = 500 to 250\n",
    "    }\n",
    "}"
   ]
  },
  {
   "cell_type": "code",
   "execution_count": 6,
   "metadata": {
    "ExecuteTime": {
     "end_time": "2023-11-13T11:24:00.644416Z",
     "start_time": "2023-11-13T11:24:00.349452Z"
    }
   },
   "outputs": [
    {
     "data": {
      "text/html": "            <script type=\"text/javascript\" data-lets-plot-script=\"library\" src=\"https://cdn.jsdelivr.net/gh/JetBrains/lets-plot@v4.0.1/js-package/distr/lets-plot.min.js\"></script>    \n               <div id=\"bJ3oCT\"></div>\n   <script type=\"text/javascript\" data-lets-plot-script=\"plot\">\n       var plotSpec={\n\"mapping\":{\n},\n\"data\":{\n\"yvar\":[-4.31414792742272,2.9025852255330413,2.678186038496493,3.8323801422104644,4.552957466631817,3.9043586677544218,10.056090493036294,8.077708681007955,7.384161947842241,12.052485955548157,14.114693281686685,5.329404481450428,10.598634211929852,10.98677740976943,8.96180814139117,14.194166026725489,15.099984576207884,12.734927210327559,18.2859058065098,17.832111113004313],\n\"xvar\":[0.0,1.0,2.0,3.0,4.0,5.0,6.0,7.0,8.0,9.0,10.0,11.0,12.0,13.0,14.0,15.0,16.0,17.0,18.0,19.0],\n\"cond\":[\"A\",\"A\",\"A\",\"A\",\"A\",\"A\",\"A\",\"A\",\"A\",\"A\",\"B\",\"B\",\"B\",\"B\",\"B\",\"B\",\"B\",\"B\",\"B\",\"B\"]\n},\n\"ggsize\":{\n\"width\":500.0,\n\"height\":250.0\n},\n\"kind\":\"plot\",\n\"scales\":[{\n\"aesthetic\":\"x\",\n\"limits\":[null,null]\n},{\n\"aesthetic\":\"y\",\n\"limits\":[null,null]\n},{\n\"aesthetic\":\"color\",\n\"discrete\":true\n},{\n\"aesthetic\":\"shape\",\n\"values\":[1.0,2.0]\n}],\n\"layers\":[{\n\"mapping\":{\n\"x\":\"xvar\",\n\"y\":\"yvar\",\n\"color\":\"cond\",\n\"shape\":\"cond\"\n},\n\"stat\":\"identity\",\n\"size\":5.0,\n\"sampling\":\"none\",\n\"position\":\"identity\",\n\"geom\":\"point\",\n\"data\":{\n}\n}]\n};\n       var plotContainer = document.getElementById(\"bJ3oCT\");\n       LetsPlot.buildPlotFromProcessedSpecs(plotSpec, -1, -1, plotContainer);\n   </script>            \n        <svg id=3ed78c37-0aa6-4400-885f-5b7c6d44657d xmlns=\"http://www.w3.org/2000/svg\" xmlns:xlink=\"http://www.w3.org/1999/xlink\" class=\"plt-container\" width=\"500.0\" height=\"250.0\">\n  <style type=\"text/css\">\n  .plt-container {\n   font-family: Lucida Grande, sans-serif;\n   user-select: none;\n   -webkit-user-select: none;\n   -moz-user-select: none;\n   -ms-user-select: none;\n}\ntext {\n   text-rendering: optimizeLegibility;\n}\n#paExiWT .plot-title {\n   fill: #474747;\n   font-family: Lucida Grande, sans-serif;\n   font-size: 16.0px;\n   font-weight: normal;\n   font-style: normal;   \n}\n#paExiWT .plot-subtitle {\n   fill: #474747;\n   font-family: Lucida Grande, sans-serif;\n   font-size: 15.0px;\n   font-weight: normal;\n   font-style: normal;   \n}\n#paExiWT .plot-caption {\n   fill: #474747;\n   font-family: Lucida Grande, sans-serif;\n   font-size: 13.0px;\n   font-weight: normal;\n   font-style: normal;   \n}\n#paExiWT .legend-title {\n   fill: #474747;\n   font-family: Lucida Grande, sans-serif;\n   font-size: 15.0px;\n   font-weight: normal;\n   font-style: normal;   \n}\n#paExiWT .legend-item {\n   fill: #474747;\n   font-family: Lucida Grande, sans-serif;\n   font-size: 13.0px;\n   font-weight: normal;\n   font-style: normal;   \n}\n#paExiWT .axis-title-x {\n   fill: #474747;\n   font-family: Lucida Grande, sans-serif;\n   font-size: 15.0px;\n   font-weight: normal;\n   font-style: normal;   \n}\n#paExiWT .axis-text-x {\n   fill: #474747;\n   font-family: Lucida Grande, sans-serif;\n   font-size: 13.0px;\n   font-weight: normal;\n   font-style: normal;   \n}\n#d4zsaUx .axis-tooltip-text-x {\n   fill: #ffffff;\n   font-family: Lucida Grande, sans-serif;\n   font-size: 13.0px;\n   font-weight: normal;\n   font-style: normal;   \n}\n#paExiWT .axis-title-y {\n   fill: #474747;\n   font-family: Lucida Grande, sans-serif;\n   font-size: 15.0px;\n   font-weight: normal;\n   font-style: normal;   \n}\n#paExiWT .axis-text-y {\n   fill: #474747;\n   font-family: Lucida Grande, sans-serif;\n   font-size: 13.0px;\n   font-weight: normal;\n   font-style: normal;   \n}\n#d4zsaUx .axis-tooltip-text-y {\n   fill: #ffffff;\n   font-family: Lucida Grande, sans-serif;\n   font-size: 13.0px;\n   font-weight: normal;\n   font-style: normal;   \n}\n#paExiWT .facet-strip-text-x {\n   fill: #474747;\n   font-family: Lucida Grande, sans-serif;\n   font-size: 13.0px;\n   font-weight: normal;\n   font-style: normal;   \n}\n#paExiWT .facet-strip-text-y {\n   fill: #474747;\n   font-family: Lucida Grande, sans-serif;\n   font-size: 13.0px;\n   font-weight: normal;\n   font-style: normal;   \n}\n#d4zsaUx .tooltip-text {\n   fill: #474747;\n   font-family: Lucida Grande, sans-serif;\n   font-size: 13.0px;\n   font-weight: normal;\n   font-style: normal;   \n}\n#d4zsaUx .tooltip-title {\n   fill: #474747;\n   font-family: Lucida Grande, sans-serif;\n   font-size: 13.0px;\n   font-weight: bold;\n   font-style: normal;   \n}\n#d4zsaUx .tooltip-label {\n   fill: #474747;\n   font-family: Lucida Grande, sans-serif;\n   font-size: 13.0px;\n   font-weight: bold;\n   font-style: normal;   \n}\n\n  </style>\n  <g id=\"paExiWT\">\n    <path fill-rule=\"evenodd\" fill=\"rgb(255,255,255)\" fill-opacity=\"1.0\" d=\"M0.0 0.0 L0.0 250.0 L500.0 250.0 L500.0 0.0 Z\">\n    </path>\n    <g transform=\"translate(23.0 10.0 ) \">\n      <g transform=\"translate(21.961210910936405 194.0 ) \">\n        <line x1=\"17.64549656901326\" y1=\"-0.0\" x2=\"17.64549656901326\" y2=\"-194.0\" stroke=\"rgb(233,233,233)\" stroke-opacity=\"1.0\" stroke-width=\"1.0\">\n        </line>\n        <line x1=\"110.51653114276726\" y1=\"-0.0\" x2=\"110.51653114276726\" y2=\"-194.0\" stroke=\"rgb(233,233,233)\" stroke-opacity=\"1.0\" stroke-width=\"1.0\">\n        </line>\n        <line x1=\"203.38756571652127\" y1=\"-0.0\" x2=\"203.38756571652127\" y2=\"-194.0\" stroke=\"rgb(233,233,233)\" stroke-opacity=\"1.0\" stroke-width=\"1.0\">\n        </line>\n        <line x1=\"296.25860029027524\" y1=\"-0.0\" x2=\"296.25860029027524\" y2=\"-194.0\" stroke=\"rgb(233,233,233)\" stroke-opacity=\"1.0\" stroke-width=\"1.0\">\n        </line>\n        <g transform=\"translate(17.64549656901326 0.0 ) \">\n          <line stroke-width=\"1.0\" stroke=\"rgb(71,71,71)\" stroke-opacity=\"1.0\" x2=\"0.0\" y2=\"4.0\">\n          </line>\n          <g transform=\"translate(0.0 7.0 ) \">\n            <text class=\"axis-text-x\" text-anchor=\"middle\" dy=\"0.7em\">\n            0\n            </text>\n          </g>\n        </g>\n        <g transform=\"translate(110.51653114276726 0.0 ) \">\n          <line stroke-width=\"1.0\" stroke=\"rgb(71,71,71)\" stroke-opacity=\"1.0\" x2=\"0.0\" y2=\"4.0\">\n          </line>\n          <g transform=\"translate(0.0 7.0 ) \">\n            <text class=\"axis-text-x\" text-anchor=\"middle\" dy=\"0.7em\">\n            5\n            </text>\n          </g>\n        </g>\n        <g transform=\"translate(203.38756571652127 0.0 ) \">\n          <line stroke-width=\"1.0\" stroke=\"rgb(71,71,71)\" stroke-opacity=\"1.0\" x2=\"0.0\" y2=\"4.0\">\n          </line>\n          <g transform=\"translate(0.0 7.0 ) \">\n            <text class=\"axis-text-x\" text-anchor=\"middle\" dy=\"0.7em\">\n            10\n            </text>\n          </g>\n        </g>\n        <g transform=\"translate(296.25860029027524 0.0 ) \">\n          <line stroke-width=\"1.0\" stroke=\"rgb(71,71,71)\" stroke-opacity=\"1.0\" x2=\"0.0\" y2=\"4.0\">\n          </line>\n          <g transform=\"translate(0.0 7.0 ) \">\n            <text class=\"axis-text-x\" text-anchor=\"middle\" dy=\"0.7em\">\n            15\n            </text>\n          </g>\n        </g>\n        <line x1=\"0.0\" y1=\"0.0\" x2=\"388.2009245182917\" y2=\"0.0\" stroke-width=\"1.0\" stroke=\"rgb(71,71,71)\" stroke-opacity=\"1.0\">\n        </line>\n      </g>\n      <g transform=\"translate(21.961210910936405 0.0 ) \">\n        <line x1=\"0.0\" y1=\"151.51557892201782\" x2=\"388.2009245182917\" y2=\"151.51557892201782\" stroke=\"rgb(233,233,233)\" stroke-opacity=\"1.0\" stroke-width=\"1.0\">\n        </line>\n        <line x1=\"0.0\" y1=\"112.49716807221577\" x2=\"388.2009245182917\" y2=\"112.49716807221577\" stroke=\"rgb(233,233,233)\" stroke-opacity=\"1.0\" stroke-width=\"1.0\">\n        </line>\n        <line x1=\"0.0\" y1=\"73.47875722241372\" x2=\"388.2009245182917\" y2=\"73.47875722241372\" stroke=\"rgb(233,233,233)\" stroke-opacity=\"1.0\" stroke-width=\"1.0\">\n        </line>\n        <line x1=\"0.0\" y1=\"34.46034637261167\" x2=\"388.2009245182917\" y2=\"34.46034637261167\" stroke=\"rgb(233,233,233)\" stroke-opacity=\"1.0\" stroke-width=\"1.0\">\n        </line>\n        <g transform=\"translate(0.0 190.53398977181988 ) \">\n          <g transform=\"translate(-3.0 0.0 ) \">\n            <text class=\"axis-text-y\" text-anchor=\"end\" dy=\"0.35em\">\n            -5\n            </text>\n          </g>\n        </g>\n        <g transform=\"translate(0.0 151.51557892201782 ) \">\n          <g transform=\"translate(-3.0 0.0 ) \">\n            <text class=\"axis-text-y\" text-anchor=\"end\" dy=\"0.35em\">\n            0\n            </text>\n          </g>\n        </g>\n        <g transform=\"translate(0.0 112.49716807221577 ) \">\n          <g transform=\"translate(-3.0 0.0 ) \">\n            <text class=\"axis-text-y\" text-anchor=\"end\" dy=\"0.35em\">\n            5\n            </text>\n          </g>\n        </g>\n        <g transform=\"translate(0.0 73.47875722241372 ) \">\n          <g transform=\"translate(-3.0 0.0 ) \">\n            <text class=\"axis-text-y\" text-anchor=\"end\" dy=\"0.35em\">\n            10\n            </text>\n          </g>\n        </g>\n        <g transform=\"translate(0.0 34.46034637261167 ) \">\n          <g transform=\"translate(-3.0 0.0 ) \">\n            <text class=\"axis-text-y\" text-anchor=\"end\" dy=\"0.35em\">\n            15\n            </text>\n          </g>\n        </g>\n      </g>\n      <g transform=\"translate(21.961210910936405 0.0 ) \" clip-path=\"url(#cdPLmIp)\" clip-bounds-jfx=\"[rect (0.0, 0.0), (388.2009245182917, 194.0)]\">\n        <defs>\n          <clipPath id=\"cdPLmIp\">\n            <rect x=\"0.0\" y=\"0.0\" width=\"388.2009245182917\" height=\"194.0\">\n            </rect>\n          </clipPath>\n        </defs>\n        <g>\n          \n          <g >\n            <circle fill=\"#000000\" fill-opacity=\"0.0\" stroke=\"#e41a1c\" stroke-width=\"1.6500000000000001\" cx=\"17.64549656901326\" cy=\"185.18181818181816\" r=\"6.325\" />\n            <circle fill=\"#000000\" fill-opacity=\"0.0\" stroke=\"#e41a1c\" stroke-width=\"1.6500000000000001\" cx=\"36.219703483764064\" cy=\"128.8647263507351\" r=\"6.325\" />\n            <circle fill=\"#000000\" fill-opacity=\"0.0\" stroke=\"#e41a1c\" stroke-width=\"1.6500000000000001\" cx=\"54.79391039851486\" cy=\"130.61586628556583\" r=\"6.325\" />\n            <circle fill=\"#000000\" fill-opacity=\"0.0\" stroke=\"#e41a1c\" stroke-width=\"1.6500000000000001\" cx=\"73.36811731326566\" cy=\"121.60890233773968\" r=\"6.325\" />\n            <circle fill=\"#000000\" fill-opacity=\"0.0\" stroke=\"#e41a1c\" stroke-width=\"1.6500000000000001\" cx=\"91.94232422801646\" cy=\"115.98574591907499\" r=\"6.325\" />\n            <circle fill=\"#000000\" fill-opacity=\"0.0\" stroke=\"#e41a1c\" stroke-width=\"1.6500000000000001\" cx=\"110.51653114276726\" cy=\"121.04720480133226\" r=\"6.325\" />\n            <circle fill=\"#000000\" fill-opacity=\"0.0\" stroke=\"#e41a1c\" stroke-width=\"1.6500000000000001\" cx=\"129.09073805751805\" cy=\"73.04104484200211\" r=\"6.325\" />\n            <circle fill=\"#000000\" fill-opacity=\"0.0\" stroke=\"#e41a1c\" stroke-width=\"1.6500000000000001\" cx=\"147.66494497226887\" cy=\"88.47970771390162\" r=\"6.325\" />\n            <circle fill=\"#000000\" fill-opacity=\"0.0\" stroke=\"#e41a1c\" stroke-width=\"1.6500000000000001\" cx=\"166.23915188701966\" cy=\"93.89192598954119\" r=\"6.325\" />\n            <circle fill=\"#000000\" fill-opacity=\"0.0\" stroke=\"#e41a1c\" stroke-width=\"1.6500000000000001\" cx=\"184.81335880177045\" cy=\"57.46180916700841\" r=\"6.325\" />\n            <path fill=\"#000000\" fill-opacity=\"0.0\" stroke=\"#377eb8\" stroke-width=\"1.6500000000000001\" d=\"M203.38756571652127 36.30388794632286 L203.38756571652127 36.30388794632286 L209.71256571652128 47.25910930419601 L197.06256571652128 47.25910930419601 Z\" />\n            <path fill=\"#000000\" fill-opacity=\"0.0\" stroke=\"#377eb8\" stroke-width=\"1.6500000000000001\" d=\"M221.96177263127205 104.86148951467943 L221.96177263127205 104.86148951467943 L228.28677263127207 115.81671087255258 L215.63677263127207 115.81671087255258 Z\" />\n            <path fill=\"#000000\" fill-opacity=\"0.0\" stroke=\"#377eb8\" stroke-width=\"1.6500000000000001\" d=\"M240.53597954602284 63.74209541751185 L240.53597954602284 63.74209541751185 L246.86097954602286 74.69731677538499 L234.21097954602286 74.69731677538499 Z\" />\n            <path fill=\"#000000\" fill-opacity=\"0.0\" stroke=\"#377eb8\" stroke-width=\"1.6500000000000001\" d=\"M259.11018646077366 60.71314926513972 L259.11018646077366 60.71314926513972 L265.43518646077365 71.66837062301286 L252.78518646077367 71.66837062301286 Z\" />\n            <path fill=\"#000000\" fill-opacity=\"0.0\" stroke=\"#377eb8\" stroke-width=\"1.6500000000000001\" d=\"M277.68439337552445 76.51536583950093 L277.68439337552445 76.51536583950093 L284.00939337552444 87.47058719737407 L271.35939337552446 87.47058719737407 Z\" />\n            <path fill=\"#000000\" fill-opacity=\"0.0\" stroke=\"#377eb8\" stroke-width=\"1.6500000000000001\" d=\"M296.25860029027524 35.68370790286575 L296.25860029027524 35.68370790286575 L302.5836002902752 46.6389292607389 L289.93360029027525 46.6389292607389 Z\" />\n            <path fill=\"#000000\" fill-opacity=\"0.0\" stroke=\"#377eb8\" stroke-width=\"1.6500000000000001\" d=\"M314.83280720502603 28.614987839050574 L314.83280720502603 28.614987839050574 L321.157807205026 39.57020919692372 L308.50780720502604 39.57020919692372 Z\" />\n            <path fill=\"#000000\" fill-opacity=\"0.0\" stroke=\"#377eb8\" stroke-width=\"1.6500000000000001\" d=\"M333.4070141197768 47.07114383610441 L333.4070141197768 47.07114383610441 L339.7320141197768 58.02636519397756 L327.08201411977683 58.02636519397756 Z\" />\n            <path fill=\"#000000\" fill-opacity=\"0.0\" stroke=\"#377eb8\" stroke-width=\"1.6500000000000001\" d=\"M351.9812210345276 3.7530711392451823 L351.9812210345276 3.7530711392451823 L358.3062210345276 14.708292497118329 L345.6562210345276 14.708292497118329 Z\" />\n            <path fill=\"#000000\" fill-opacity=\"0.0\" stroke=\"#377eb8\" stroke-width=\"1.6500000000000001\" d=\"M370.5554279492785 7.294340697776594 L370.5554279492785 7.294340697776594 L376.8804279492785 18.24956205564974 L364.2304279492785 18.24956205564974 Z\" />\n          </g>\n        </g>\n      </g>\n    </g>\n    <g transform=\"translate(14.5 107.0 ) rotate(-90.0 ) \">\n      <text class=\"axis-title-y\" y=\"0.0\" text-anchor=\"middle\">\n      yvar\n      </text>\n    </g>\n    <g transform=\"translate(239.06167317008226 241.5 ) \">\n      <text class=\"axis-title-x\" y=\"0.0\" text-anchor=\"middle\">\n      xvar\n      </text>\n    </g>\n    <g transform=\"translate(443.1621354292281 62.75 ) \">\n      <rect x=\"5.0\" y=\"5.0\" height=\"78.5\" width=\"46.83786457077187\" stroke=\"rgb(71,71,71)\" stroke-opacity=\"1.0\" stroke-width=\"0.0\" fill=\"rgb(255,255,255)\" fill-opacity=\"1.0\">\n      </rect>\n      <g transform=\"translate(10.0 10.0 ) \">\n        <g transform=\"translate(0.0 10.5 ) \">\n          <text class=\"legend-title\" y=\"0.0\">\n          cond\n          </text>\n        </g>\n        <g transform=\"translate(0.0 22.5 ) \">\n          <g transform=\"\">\n            <g>\n              <rect x=\"0.0\" y=\"0.0\" height=\"23.0\" width=\"23.0\" stroke-width=\"0.0\" fill=\"rgb(255,255,255)\" fill-opacity=\"1.0\">\n              </rect>\n              <g transform=\"translate(1.0 1.0 ) \">\n                <g>\n                  \n                  <g >\n                    <circle fill=\"#000000\" fill-opacity=\"0.0\" stroke=\"#e41a1c\" stroke-width=\"1.6500000000000001\" cx=\"10.5\" cy=\"10.5\" r=\"6.325\" />\n                  </g>\n                </g>\n              </g>\n              <rect x=\"0.0\" y=\"0.0\" height=\"23.0\" width=\"23.0\" stroke=\"rgb(255,255,255)\" stroke-opacity=\"1.0\" stroke-width=\"1.0\" fill-opacity=\"0.0\">\n              </rect>\n            </g>\n            <g transform=\"translate(26.9903027277341 16.05 ) \">\n              <text class=\"legend-item\" y=\"0.0\">\n              A\n              </text>\n            </g>\n          </g>\n          <g transform=\"translate(0.0 23.0 ) \">\n            <g>\n              <rect x=\"0.0\" y=\"0.0\" height=\"23.0\" width=\"23.0\" stroke-width=\"0.0\" fill=\"rgb(255,255,255)\" fill-opacity=\"1.0\">\n              </rect>\n              <g transform=\"translate(1.0 1.0 ) \">\n                <g>\n                  \n                  <g >\n                    <path fill=\"#000000\" fill-opacity=\"0.0\" stroke=\"#377eb8\" stroke-width=\"1.6500000000000001\" d=\"M10.5 5.434889321063427 L10.5 5.434889321063427 L16.825 16.390110678936573 L4.175 16.390110678936573 Z\" />\n                  </g>\n                </g>\n              </g>\n              <rect x=\"0.0\" y=\"0.0\" height=\"23.0\" width=\"23.0\" stroke=\"rgb(255,255,255)\" stroke-opacity=\"1.0\" stroke-width=\"1.0\" fill-opacity=\"0.0\">\n              </rect>\n            </g>\n            <g transform=\"translate(26.9903027277341 16.05 ) \">\n              <text class=\"legend-item\" y=\"0.0\">\n              B\n              </text>\n            </g>\n          </g>\n        </g>\n      </g>\n    </g>\n    <path fill=\"rgb(0,0,0)\" fill-opacity=\"0.0\" stroke=\"rgb(71,71,71)\" stroke-opacity=\"1.0\" stroke-width=\"0.0\" d=\"M0.0 0.0 L0.0 250.0 L500.0 250.0 L500.0 0.0 Z\">\n    </path>\n  </g>\n  <g id=\"d4zsaUx\">\n  </g>\n</svg>\n        <script>document.getElementById(\"3ed78c37-0aa6-4400-885f-5b7c6d44657d\").style.display = \"none\";</script>",
      "application/plot+json": {
       "output_type": "lets_plot_spec",
       "output": {
        "mapping": {},
        "data": {
         "yvar": [
          -4.314148,
          2.9025853,
          2.678186,
          3.83238,
          4.5529575,
          3.9043586,
          10.05609,
          8.077708,
          7.384162,
          12.052486,
          14.114694,
          5.3294044,
          10.598634,
          10.986777,
          8.961808,
          14.194166,
          15.099984,
          12.734927,
          18.285906,
          17.832111
         ],
         "xvar": [
          0.0,
          1.0,
          2.0,
          3.0,
          4.0,
          5.0,
          6.0,
          7.0,
          8.0,
          9.0,
          10.0,
          11.0,
          12.0,
          13.0,
          14.0,
          15.0,
          16.0,
          17.0,
          18.0,
          19.0
         ],
         "cond": [
          "A",
          "A",
          "A",
          "A",
          "A",
          "A",
          "A",
          "A",
          "A",
          "A",
          "B",
          "B",
          "B",
          "B",
          "B",
          "B",
          "B",
          "B",
          "B",
          "B"
         ]
        },
        "ggsize": {
         "width": 500.0,
         "height": 250.0
        },
        "kind": "plot",
        "scales": [
         {
          "aesthetic": "x",
          "limits": [
           null,
           null
          ]
         },
         {
          "aesthetic": "y",
          "limits": [
           null,
           null
          ]
         },
         {
          "aesthetic": "color",
          "discrete": true
         },
         {
          "aesthetic": "shape",
          "values": [
           1.0,
           2.0
          ]
         }
        ],
        "layers": [
         {
          "mapping": {
           "x": "xvar",
           "y": "yvar",
           "color": "cond",
           "shape": "cond"
          },
          "stat": "identity",
          "size": 5.0,
          "sampling": "none",
          "position": "identity",
          "geom": "point"
         }
        ]
       },
       "apply_color_scheme": true,
       "swing_enabled": true
      }
     },
     "execution_count": 6,
     "metadata": {},
     "output_type": "execute_result"
    }
   ],
   "source": [
    "plot(data) {\n",
    "    points {\n",
    "        x(xvar)\n",
    "        y(yvar)\n",
    "        color(cond)\n",
    "        symbol(cond) {\n",
    "            scale = categorical(range = listOf(Symbol.CIRCLE_OPEN, Symbol.TRIANGLE_OPEN))\n",
    "        }\n",
    "        size = 5.0\n",
    "    }\n",
    "    layout { \n",
    "        size = 500 to 250\n",
    "    }\n",
    "}"
   ]
  },
  {
   "cell_type": "markdown",
   "metadata": {},
   "source": [
    "#### Handling overplotting"
   ]
  },
  {
   "cell_type": "code",
   "execution_count": 7,
   "metadata": {
    "ExecuteTime": {
     "end_time": "2023-11-13T11:24:00.985698Z",
     "start_time": "2023-11-13T11:24:00.643650Z"
    }
   },
   "outputs": [],
   "source": [
    "// Create data with overlapping points.\n",
    "val data1 = mapOf(\n",
    "        \"xvar\" to (data[\"xvar\"] as List<Double>).map { (it / 5).toInt() * 5 },\n",
    "        \"yvar\" to (data[\"yvar\"] as List<Double>).map { (it / 5).toInt() * 5 },\n",
    "    )"
   ]
  },
  {
   "cell_type": "code",
   "execution_count": 8,
   "metadata": {
    "ExecuteTime": {
     "end_time": "2023-11-13T11:24:01.224088Z",
     "start_time": "2023-11-13T11:24:00.987337Z"
    }
   },
   "outputs": [
    {
     "data": {
      "text/html": "            <script type=\"text/javascript\" data-lets-plot-script=\"library\" src=\"https://cdn.jsdelivr.net/gh/JetBrains/lets-plot@v4.0.1/js-package/distr/lets-plot.min.js\"></script>    \n               <div id=\"hqNiZi\"></div>\n   <script type=\"text/javascript\" data-lets-plot-script=\"plot\">\n       var plotSpec={\n\"mapping\":{\n},\n\"data\":{\n\"yvar\":[0.0,0.0,0.0,0.0,0.0,0.0,10.0,5.0,5.0,10.0,10.0,5.0,10.0,10.0,5.0,10.0,15.0,10.0,15.0,15.0],\n\"xvar\":[0.0,0.0,0.0,0.0,0.0,5.0,5.0,5.0,5.0,5.0,10.0,10.0,10.0,10.0,10.0,15.0,15.0,15.0,15.0,15.0]\n},\n\"ggsize\":{\n\"width\":500.0,\n\"height\":250.0\n},\n\"kind\":\"plot\",\n\"scales\":[{\n\"aesthetic\":\"x\",\n\"breaks\":[0.0,5.0,10.0,15.0],\n\"limits\":[null,null]\n},{\n\"aesthetic\":\"y\",\n\"limits\":[null,null]\n}],\n\"layers\":[{\n\"mapping\":{\n\"x\":\"xvar\",\n\"y\":\"yvar\"\n},\n\"stat\":\"identity\",\n\"size\":7.0,\n\"sampling\":\"none\",\n\"alpha\":0.3,\n\"position\":\"identity\",\n\"geom\":\"point\",\n\"data\":{\n}\n}]\n};\n       var plotContainer = document.getElementById(\"hqNiZi\");\n       LetsPlot.buildPlotFromProcessedSpecs(plotSpec, -1, -1, plotContainer);\n   </script>            \n        <svg id=3a623189-0198-4305-a5fc-01bae19ee671 xmlns=\"http://www.w3.org/2000/svg\" xmlns:xlink=\"http://www.w3.org/1999/xlink\" class=\"plt-container\" width=\"500.0\" height=\"250.0\">\n  <style type=\"text/css\">\n  .plt-container {\n   font-family: Lucida Grande, sans-serif;\n   user-select: none;\n   -webkit-user-select: none;\n   -moz-user-select: none;\n   -ms-user-select: none;\n}\ntext {\n   text-rendering: optimizeLegibility;\n}\n#pICopoQ .plot-title {\n   fill: #474747;\n   font-family: Lucida Grande, sans-serif;\n   font-size: 16.0px;\n   font-weight: normal;\n   font-style: normal;   \n}\n#pICopoQ .plot-subtitle {\n   fill: #474747;\n   font-family: Lucida Grande, sans-serif;\n   font-size: 15.0px;\n   font-weight: normal;\n   font-style: normal;   \n}\n#pICopoQ .plot-caption {\n   fill: #474747;\n   font-family: Lucida Grande, sans-serif;\n   font-size: 13.0px;\n   font-weight: normal;\n   font-style: normal;   \n}\n#pICopoQ .legend-title {\n   fill: #474747;\n   font-family: Lucida Grande, sans-serif;\n   font-size: 15.0px;\n   font-weight: normal;\n   font-style: normal;   \n}\n#pICopoQ .legend-item {\n   fill: #474747;\n   font-family: Lucida Grande, sans-serif;\n   font-size: 13.0px;\n   font-weight: normal;\n   font-style: normal;   \n}\n#pICopoQ .axis-title-x {\n   fill: #474747;\n   font-family: Lucida Grande, sans-serif;\n   font-size: 15.0px;\n   font-weight: normal;\n   font-style: normal;   \n}\n#pICopoQ .axis-text-x {\n   fill: #474747;\n   font-family: Lucida Grande, sans-serif;\n   font-size: 13.0px;\n   font-weight: normal;\n   font-style: normal;   \n}\n#dxIDOoj .axis-tooltip-text-x {\n   fill: #ffffff;\n   font-family: Lucida Grande, sans-serif;\n   font-size: 13.0px;\n   font-weight: normal;\n   font-style: normal;   \n}\n#pICopoQ .axis-title-y {\n   fill: #474747;\n   font-family: Lucida Grande, sans-serif;\n   font-size: 15.0px;\n   font-weight: normal;\n   font-style: normal;   \n}\n#pICopoQ .axis-text-y {\n   fill: #474747;\n   font-family: Lucida Grande, sans-serif;\n   font-size: 13.0px;\n   font-weight: normal;\n   font-style: normal;   \n}\n#dxIDOoj .axis-tooltip-text-y {\n   fill: #ffffff;\n   font-family: Lucida Grande, sans-serif;\n   font-size: 13.0px;\n   font-weight: normal;\n   font-style: normal;   \n}\n#pICopoQ .facet-strip-text-x {\n   fill: #474747;\n   font-family: Lucida Grande, sans-serif;\n   font-size: 13.0px;\n   font-weight: normal;\n   font-style: normal;   \n}\n#pICopoQ .facet-strip-text-y {\n   fill: #474747;\n   font-family: Lucida Grande, sans-serif;\n   font-size: 13.0px;\n   font-weight: normal;\n   font-style: normal;   \n}\n#dxIDOoj .tooltip-text {\n   fill: #474747;\n   font-family: Lucida Grande, sans-serif;\n   font-size: 13.0px;\n   font-weight: normal;\n   font-style: normal;   \n}\n#dxIDOoj .tooltip-title {\n   fill: #474747;\n   font-family: Lucida Grande, sans-serif;\n   font-size: 13.0px;\n   font-weight: bold;\n   font-style: normal;   \n}\n#dxIDOoj .tooltip-label {\n   fill: #474747;\n   font-family: Lucida Grande, sans-serif;\n   font-size: 13.0px;\n   font-weight: bold;\n   font-style: normal;   \n}\n\n  </style>\n  <g id=\"pICopoQ\">\n    <path fill-rule=\"evenodd\" fill=\"rgb(255,255,255)\" fill-opacity=\"1.0\" d=\"M0.0 0.0 L0.0 250.0 L500.0 250.0 L500.0 0.0 Z\">\n    </path>\n    <g transform=\"translate(23.0 10.0 ) \">\n      <g transform=\"translate(21.961210910936405 194.0 ) \">\n        <line x1=\"20.229035867684708\" y1=\"-0.0\" x2=\"20.229035867684708\" y2=\"-194.0\" stroke=\"rgb(233,233,233)\" stroke-opacity=\"1.0\" stroke-width=\"1.0\">\n        </line>\n        <line x1=\"155.08927498558276\" y1=\"-0.0\" x2=\"155.08927498558276\" y2=\"-194.0\" stroke=\"rgb(233,233,233)\" stroke-opacity=\"1.0\" stroke-width=\"1.0\">\n        </line>\n        <line x1=\"289.94951410348085\" y1=\"-0.0\" x2=\"289.94951410348085\" y2=\"-194.0\" stroke=\"rgb(233,233,233)\" stroke-opacity=\"1.0\" stroke-width=\"1.0\">\n        </line>\n        <line x1=\"424.8097532213789\" y1=\"-0.0\" x2=\"424.8097532213789\" y2=\"-194.0\" stroke=\"rgb(233,233,233)\" stroke-opacity=\"1.0\" stroke-width=\"1.0\">\n        </line>\n        <g transform=\"translate(20.229035867684708 0.0 ) \">\n          <line stroke-width=\"1.0\" stroke=\"rgb(71,71,71)\" stroke-opacity=\"1.0\" x2=\"0.0\" y2=\"4.0\">\n          </line>\n          <g transform=\"translate(0.0 7.0 ) \">\n            <text class=\"axis-text-x\" text-anchor=\"middle\" dy=\"0.7em\">\n            0.0\n            </text>\n          </g>\n        </g>\n        <g transform=\"translate(155.08927498558276 0.0 ) \">\n          <line stroke-width=\"1.0\" stroke=\"rgb(71,71,71)\" stroke-opacity=\"1.0\" x2=\"0.0\" y2=\"4.0\">\n          </line>\n          <g transform=\"translate(0.0 7.0 ) \">\n            <text class=\"axis-text-x\" text-anchor=\"middle\" dy=\"0.7em\">\n            5.0\n            </text>\n          </g>\n        </g>\n        <g transform=\"translate(289.94951410348085 0.0 ) \">\n          <line stroke-width=\"1.0\" stroke=\"rgb(71,71,71)\" stroke-opacity=\"1.0\" x2=\"0.0\" y2=\"4.0\">\n          </line>\n          <g transform=\"translate(0.0 7.0 ) \">\n            <text class=\"axis-text-x\" text-anchor=\"middle\" dy=\"0.7em\">\n            10.0\n            </text>\n          </g>\n        </g>\n        <g transform=\"translate(424.8097532213789 0.0 ) \">\n          <line stroke-width=\"1.0\" stroke=\"rgb(71,71,71)\" stroke-opacity=\"1.0\" x2=\"0.0\" y2=\"4.0\">\n          </line>\n          <g transform=\"translate(0.0 7.0 ) \">\n            <text class=\"axis-text-x\" text-anchor=\"middle\" dy=\"0.7em\">\n            15.0\n            </text>\n          </g>\n        </g>\n        <line x1=\"0.0\" y1=\"0.0\" x2=\"445.0387890890636\" y2=\"0.0\" stroke-width=\"1.0\" stroke=\"rgb(71,71,71)\" stroke-opacity=\"1.0\">\n        </line>\n      </g>\n      <g transform=\"translate(21.961210910936405 0.0 ) \">\n        <line x1=\"0.0\" y1=\"185.1818181818182\" x2=\"445.0387890890636\" y2=\"185.1818181818182\" stroke=\"rgb(233,233,233)\" stroke-opacity=\"1.0\" stroke-width=\"1.0\">\n        </line>\n        <line x1=\"0.0\" y1=\"126.3939393939394\" x2=\"445.0387890890636\" y2=\"126.3939393939394\" stroke=\"rgb(233,233,233)\" stroke-opacity=\"1.0\" stroke-width=\"1.0\">\n        </line>\n        <line x1=\"0.0\" y1=\"67.60606060606061\" x2=\"445.0387890890636\" y2=\"67.60606060606061\" stroke=\"rgb(233,233,233)\" stroke-opacity=\"1.0\" stroke-width=\"1.0\">\n        </line>\n        <line x1=\"0.0\" y1=\"8.818181818181813\" x2=\"445.0387890890636\" y2=\"8.818181818181813\" stroke=\"rgb(233,233,233)\" stroke-opacity=\"1.0\" stroke-width=\"1.0\">\n        </line>\n        <g transform=\"translate(0.0 185.1818181818182 ) \">\n          <g transform=\"translate(-3.0 0.0 ) \">\n            <text class=\"axis-text-y\" text-anchor=\"end\" dy=\"0.35em\">\n            0\n            </text>\n          </g>\n        </g>\n        <g transform=\"translate(0.0 126.3939393939394 ) \">\n          <g transform=\"translate(-3.0 0.0 ) \">\n            <text class=\"axis-text-y\" text-anchor=\"end\" dy=\"0.35em\">\n            5\n            </text>\n          </g>\n        </g>\n        <g transform=\"translate(0.0 67.60606060606061 ) \">\n          <g transform=\"translate(-3.0 0.0 ) \">\n            <text class=\"axis-text-y\" text-anchor=\"end\" dy=\"0.35em\">\n            10\n            </text>\n          </g>\n        </g>\n        <g transform=\"translate(0.0 8.818181818181813 ) \">\n          <g transform=\"translate(-3.0 0.0 ) \">\n            <text class=\"axis-text-y\" text-anchor=\"end\" dy=\"0.35em\">\n            15\n            </text>\n          </g>\n        </g>\n      </g>\n      <g transform=\"translate(21.961210910936405 0.0 ) \" clip-path=\"url(#ccQKF3x)\" clip-bounds-jfx=\"[rect (0.0, 0.0), (445.0387890890636, 194.0)]\">\n        <defs>\n          <clipPath id=\"ccQKF3x\">\n            <rect x=\"0.0\" y=\"0.0\" width=\"445.0387890890636\" height=\"194.0\">\n            </rect>\n          </clipPath>\n        </defs>\n        <g>\n          \n          <g >\n            <circle fill=\"#474747\" fill-opacity=\"0.3\" stroke=\"#474747\" stroke-opacity=\"0.0\" stroke-width=\"0.0\" cx=\"20.229035867684708\" cy=\"185.1818181818182\" r=\"7.700000000000001\" />\n            <circle fill=\"#474747\" fill-opacity=\"0.3\" stroke=\"#474747\" stroke-opacity=\"0.0\" stroke-width=\"0.0\" cx=\"20.229035867684708\" cy=\"185.1818181818182\" r=\"7.700000000000001\" />\n            <circle fill=\"#474747\" fill-opacity=\"0.3\" stroke=\"#474747\" stroke-opacity=\"0.0\" stroke-width=\"0.0\" cx=\"20.229035867684708\" cy=\"185.1818181818182\" r=\"7.700000000000001\" />\n            <circle fill=\"#474747\" fill-opacity=\"0.3\" stroke=\"#474747\" stroke-opacity=\"0.0\" stroke-width=\"0.0\" cx=\"20.229035867684708\" cy=\"185.1818181818182\" r=\"7.700000000000001\" />\n            <circle fill=\"#474747\" fill-opacity=\"0.3\" stroke=\"#474747\" stroke-opacity=\"0.0\" stroke-width=\"0.0\" cx=\"20.229035867684708\" cy=\"185.1818181818182\" r=\"7.700000000000001\" />\n            <circle fill=\"#474747\" fill-opacity=\"0.3\" stroke=\"#474747\" stroke-opacity=\"0.0\" stroke-width=\"0.0\" cx=\"155.08927498558276\" cy=\"185.1818181818182\" r=\"7.700000000000001\" />\n            <circle fill=\"#474747\" fill-opacity=\"0.3\" stroke=\"#474747\" stroke-opacity=\"0.0\" stroke-width=\"0.0\" cx=\"155.08927498558276\" cy=\"67.60606060606061\" r=\"7.700000000000001\" />\n            <circle fill=\"#474747\" fill-opacity=\"0.3\" stroke=\"#474747\" stroke-opacity=\"0.0\" stroke-width=\"0.0\" cx=\"155.08927498558276\" cy=\"126.3939393939394\" r=\"7.700000000000001\" />\n            <circle fill=\"#474747\" fill-opacity=\"0.3\" stroke=\"#474747\" stroke-opacity=\"0.0\" stroke-width=\"0.0\" cx=\"155.08927498558276\" cy=\"126.3939393939394\" r=\"7.700000000000001\" />\n            <circle fill=\"#474747\" fill-opacity=\"0.3\" stroke=\"#474747\" stroke-opacity=\"0.0\" stroke-width=\"0.0\" cx=\"155.08927498558276\" cy=\"67.60606060606061\" r=\"7.700000000000001\" />\n            <circle fill=\"#474747\" fill-opacity=\"0.3\" stroke=\"#474747\" stroke-opacity=\"0.0\" stroke-width=\"0.0\" cx=\"289.94951410348085\" cy=\"67.60606060606061\" r=\"7.700000000000001\" />\n            <circle fill=\"#474747\" fill-opacity=\"0.3\" stroke=\"#474747\" stroke-opacity=\"0.0\" stroke-width=\"0.0\" cx=\"289.94951410348085\" cy=\"126.3939393939394\" r=\"7.700000000000001\" />\n            <circle fill=\"#474747\" fill-opacity=\"0.3\" stroke=\"#474747\" stroke-opacity=\"0.0\" stroke-width=\"0.0\" cx=\"289.94951410348085\" cy=\"67.60606060606061\" r=\"7.700000000000001\" />\n            <circle fill=\"#474747\" fill-opacity=\"0.3\" stroke=\"#474747\" stroke-opacity=\"0.0\" stroke-width=\"0.0\" cx=\"289.94951410348085\" cy=\"67.60606060606061\" r=\"7.700000000000001\" />\n            <circle fill=\"#474747\" fill-opacity=\"0.3\" stroke=\"#474747\" stroke-opacity=\"0.0\" stroke-width=\"0.0\" cx=\"289.94951410348085\" cy=\"126.3939393939394\" r=\"7.700000000000001\" />\n            <circle fill=\"#474747\" fill-opacity=\"0.3\" stroke=\"#474747\" stroke-opacity=\"0.0\" stroke-width=\"0.0\" cx=\"424.8097532213789\" cy=\"67.60606060606061\" r=\"7.700000000000001\" />\n            <circle fill=\"#474747\" fill-opacity=\"0.3\" stroke=\"#474747\" stroke-opacity=\"0.0\" stroke-width=\"0.0\" cx=\"424.8097532213789\" cy=\"8.818181818181813\" r=\"7.700000000000001\" />\n            <circle fill=\"#474747\" fill-opacity=\"0.3\" stroke=\"#474747\" stroke-opacity=\"0.0\" stroke-width=\"0.0\" cx=\"424.8097532213789\" cy=\"67.60606060606061\" r=\"7.700000000000001\" />\n            <circle fill=\"#474747\" fill-opacity=\"0.3\" stroke=\"#474747\" stroke-opacity=\"0.0\" stroke-width=\"0.0\" cx=\"424.8097532213789\" cy=\"8.818181818181813\" r=\"7.700000000000001\" />\n            <circle fill=\"#474747\" fill-opacity=\"0.3\" stroke=\"#474747\" stroke-opacity=\"0.0\" stroke-width=\"0.0\" cx=\"424.8097532213789\" cy=\"8.818181818181813\" r=\"7.700000000000001\" />\n          </g>\n        </g>\n      </g>\n    </g>\n    <g transform=\"translate(14.5 107.0 ) rotate(-90.0 ) \">\n      <text class=\"axis-title-y\" y=\"0.0\" text-anchor=\"middle\">\n      yvar\n      </text>\n    </g>\n    <g transform=\"translate(267.4806054554682 241.5 ) \">\n      <text class=\"axis-title-x\" y=\"0.0\" text-anchor=\"middle\">\n      xvar\n      </text>\n    </g>\n    <path fill=\"rgb(0,0,0)\" fill-opacity=\"0.0\" stroke=\"rgb(71,71,71)\" stroke-opacity=\"1.0\" stroke-width=\"0.0\" d=\"M0.0 0.0 L0.0 250.0 L500.0 250.0 L500.0 0.0 Z\">\n    </path>\n  </g>\n  <g id=\"dxIDOoj\">\n  </g>\n</svg>\n        <script>document.getElementById(\"3a623189-0198-4305-a5fc-01bae19ee671\").style.display = \"none\";</script>",
      "application/plot+json": {
       "output_type": "lets_plot_spec",
       "output": {
        "mapping": {},
        "data": {
         "yvar": [
          0.0,
          0.0,
          0.0,
          0.0,
          0.0,
          0.0,
          10.0,
          5.0,
          5.0,
          10.0,
          10.0,
          5.0,
          10.0,
          10.0,
          5.0,
          10.0,
          15.0,
          10.0,
          15.0,
          15.0
         ],
         "xvar": [
          0.0,
          0.0,
          0.0,
          0.0,
          0.0,
          5.0,
          5.0,
          5.0,
          5.0,
          5.0,
          10.0,
          10.0,
          10.0,
          10.0,
          10.0,
          15.0,
          15.0,
          15.0,
          15.0,
          15.0
         ]
        },
        "ggsize": {
         "width": 500.0,
         "height": 250.0
        },
        "kind": "plot",
        "scales": [
         {
          "aesthetic": "x",
          "breaks": [
           0.0,
           5.0,
           10.0,
           15.0
          ],
          "limits": [
           null,
           null
          ]
         },
         {
          "aesthetic": "y",
          "limits": [
           null,
           null
          ]
         }
        ],
        "layers": [
         {
          "mapping": {
           "x": "xvar",
           "y": "yvar"
          },
          "stat": "identity",
          "size": 7.0,
          "sampling": "none",
          "alpha": 0.3,
          "position": "identity",
          "geom": "point"
         }
        ]
       },
       "apply_color_scheme": true,
       "swing_enabled": true
      }
     },
     "execution_count": 8,
     "metadata": {},
     "output_type": "execute_result"
    }
   ],
   "source": [
    "plot(data1) {\n",
    "    points {\n",
    "        x(xvar) {\n",
    "            axis.breaks(listOf(0, 5, 10, 15))\n",
    "        }\n",
    "        y(\"yvar\"<Int>())\n",
    "        alpha = .3\n",
    "        size = 7.0\n",
    "    }\n",
    "    layout { \n",
    "        size = 500 to 250\n",
    "    }\n",
    "}"
   ]
  },
  {
   "cell_type": "code",
   "execution_count": 10,
   "metadata": {
    "ExecuteTime": {
     "end_time": "2023-11-13T11:24:14.489082Z",
     "start_time": "2023-11-13T11:24:14.152545Z"
    }
   },
   "outputs": [
    {
     "data": {
      "text/html": "            <script type=\"text/javascript\" data-lets-plot-script=\"library\" src=\"https://cdn.jsdelivr.net/gh/JetBrains/lets-plot@v4.0.1/js-package/distr/lets-plot.min.js\"></script>    \n               <div id=\"x2bSy4\"></div>\n   <script type=\"text/javascript\" data-lets-plot-script=\"plot\">\n       var plotSpec={\n\"mapping\":{\n},\n\"data\":{\n\"yvar\":[0.0,0.0,0.0,0.0,0.0,0.0,10.0,5.0,5.0,10.0,10.0,5.0,10.0,10.0,5.0,10.0,15.0,10.0,15.0,15.0],\n\"xvar\":[0.0,0.0,0.0,0.0,0.0,5.0,5.0,5.0,5.0,5.0,10.0,10.0,10.0,10.0,10.0,15.0,15.0,15.0,15.0,15.0]\n},\n\"ggsize\":{\n\"width\":500.0,\n\"height\":250.0\n},\n\"kind\":\"plot\",\n\"scales\":[{\n\"aesthetic\":\"x\",\n\"breaks\":[0.0,5.0,10.0,15.0],\n\"limits\":[null,null]\n},{\n\"aesthetic\":\"y\",\n\"limits\":[null,null]\n}],\n\"layers\":[{\n\"mapping\":{\n\"x\":\"xvar\",\n\"y\":\"yvar\"\n},\n\"stat\":\"identity\",\n\"shape\":1.0,\n\"sampling\":\"none\",\n\"position\":{\n\"name\":\"jitter\",\n\"width\":0.1,\n\"height\":0.1\n},\n\"geom\":\"point\",\n\"data\":{\n}\n}]\n};\n       var plotContainer = document.getElementById(\"x2bSy4\");\n       LetsPlot.buildPlotFromProcessedSpecs(plotSpec, -1, -1, plotContainer);\n   </script>            \n        <svg id=15201e90-f4fe-427b-8035-e091f7b52f64 xmlns=\"http://www.w3.org/2000/svg\" xmlns:xlink=\"http://www.w3.org/1999/xlink\" class=\"plt-container\" width=\"500.0\" height=\"250.0\">\n  <style type=\"text/css\">\n  .plt-container {\n   font-family: Lucida Grande, sans-serif;\n   user-select: none;\n   -webkit-user-select: none;\n   -moz-user-select: none;\n   -ms-user-select: none;\n}\ntext {\n   text-rendering: optimizeLegibility;\n}\n#p6TuP1F .plot-title {\n   fill: #474747;\n   font-family: Lucida Grande, sans-serif;\n   font-size: 16.0px;\n   font-weight: normal;\n   font-style: normal;   \n}\n#p6TuP1F .plot-subtitle {\n   fill: #474747;\n   font-family: Lucida Grande, sans-serif;\n   font-size: 15.0px;\n   font-weight: normal;\n   font-style: normal;   \n}\n#p6TuP1F .plot-caption {\n   fill: #474747;\n   font-family: Lucida Grande, sans-serif;\n   font-size: 13.0px;\n   font-weight: normal;\n   font-style: normal;   \n}\n#p6TuP1F .legend-title {\n   fill: #474747;\n   font-family: Lucida Grande, sans-serif;\n   font-size: 15.0px;\n   font-weight: normal;\n   font-style: normal;   \n}\n#p6TuP1F .legend-item {\n   fill: #474747;\n   font-family: Lucida Grande, sans-serif;\n   font-size: 13.0px;\n   font-weight: normal;\n   font-style: normal;   \n}\n#p6TuP1F .axis-title-x {\n   fill: #474747;\n   font-family: Lucida Grande, sans-serif;\n   font-size: 15.0px;\n   font-weight: normal;\n   font-style: normal;   \n}\n#p6TuP1F .axis-text-x {\n   fill: #474747;\n   font-family: Lucida Grande, sans-serif;\n   font-size: 13.0px;\n   font-weight: normal;\n   font-style: normal;   \n}\n#d0yKRUz .axis-tooltip-text-x {\n   fill: #ffffff;\n   font-family: Lucida Grande, sans-serif;\n   font-size: 13.0px;\n   font-weight: normal;\n   font-style: normal;   \n}\n#p6TuP1F .axis-title-y {\n   fill: #474747;\n   font-family: Lucida Grande, sans-serif;\n   font-size: 15.0px;\n   font-weight: normal;\n   font-style: normal;   \n}\n#p6TuP1F .axis-text-y {\n   fill: #474747;\n   font-family: Lucida Grande, sans-serif;\n   font-size: 13.0px;\n   font-weight: normal;\n   font-style: normal;   \n}\n#d0yKRUz .axis-tooltip-text-y {\n   fill: #ffffff;\n   font-family: Lucida Grande, sans-serif;\n   font-size: 13.0px;\n   font-weight: normal;\n   font-style: normal;   \n}\n#p6TuP1F .facet-strip-text-x {\n   fill: #474747;\n   font-family: Lucida Grande, sans-serif;\n   font-size: 13.0px;\n   font-weight: normal;\n   font-style: normal;   \n}\n#p6TuP1F .facet-strip-text-y {\n   fill: #474747;\n   font-family: Lucida Grande, sans-serif;\n   font-size: 13.0px;\n   font-weight: normal;\n   font-style: normal;   \n}\n#d0yKRUz .tooltip-text {\n   fill: #474747;\n   font-family: Lucida Grande, sans-serif;\n   font-size: 13.0px;\n   font-weight: normal;\n   font-style: normal;   \n}\n#d0yKRUz .tooltip-title {\n   fill: #474747;\n   font-family: Lucida Grande, sans-serif;\n   font-size: 13.0px;\n   font-weight: bold;\n   font-style: normal;   \n}\n#d0yKRUz .tooltip-label {\n   fill: #474747;\n   font-family: Lucida Grande, sans-serif;\n   font-size: 13.0px;\n   font-weight: bold;\n   font-style: normal;   \n}\n\n  </style>\n  <g id=\"p6TuP1F\">\n    <path fill-rule=\"evenodd\" fill=\"rgb(255,255,255)\" fill-opacity=\"1.0\" d=\"M0.0 0.0 L0.0 250.0 L500.0 250.0 L500.0 0.0 Z\">\n    </path>\n    <g transform=\"translate(23.0 10.0 ) \">\n      <g transform=\"translate(21.961210910936405 194.0 ) \">\n        <line x1=\"28.475176560387016\" y1=\"-0.0\" x2=\"28.475176560387016\" y2=\"-194.0\" stroke=\"rgb(233,233,233)\" stroke-opacity=\"1.0\" stroke-width=\"1.0\">\n        </line>\n        <line x1=\"157.11122126728336\" y1=\"-0.0\" x2=\"157.11122126728336\" y2=\"-194.0\" stroke=\"rgb(233,233,233)\" stroke-opacity=\"1.0\" stroke-width=\"1.0\">\n        </line>\n        <line x1=\"285.7472659741797\" y1=\"-0.0\" x2=\"285.7472659741797\" y2=\"-194.0\" stroke=\"rgb(233,233,233)\" stroke-opacity=\"1.0\" stroke-width=\"1.0\">\n        </line>\n        <line x1=\"414.38331068107607\" y1=\"-0.0\" x2=\"414.38331068107607\" y2=\"-194.0\" stroke=\"rgb(233,233,233)\" stroke-opacity=\"1.0\" stroke-width=\"1.0\">\n        </line>\n        <g transform=\"translate(28.475176560387016 0.0 ) \">\n          <line stroke-width=\"1.0\" stroke=\"rgb(71,71,71)\" stroke-opacity=\"1.0\" x2=\"0.0\" y2=\"4.0\">\n          </line>\n          <g transform=\"translate(0.0 7.0 ) \">\n            <text class=\"axis-text-x\" text-anchor=\"middle\" dy=\"0.7em\">\n            0.0\n            </text>\n          </g>\n        </g>\n        <g transform=\"translate(157.11122126728336 0.0 ) \">\n          <line stroke-width=\"1.0\" stroke=\"rgb(71,71,71)\" stroke-opacity=\"1.0\" x2=\"0.0\" y2=\"4.0\">\n          </line>\n          <g transform=\"translate(0.0 7.0 ) \">\n            <text class=\"axis-text-x\" text-anchor=\"middle\" dy=\"0.7em\">\n            5.0\n            </text>\n          </g>\n        </g>\n        <g transform=\"translate(285.7472659741797 0.0 ) \">\n          <line stroke-width=\"1.0\" stroke=\"rgb(71,71,71)\" stroke-opacity=\"1.0\" x2=\"0.0\" y2=\"4.0\">\n          </line>\n          <g transform=\"translate(0.0 7.0 ) \">\n            <text class=\"axis-text-x\" text-anchor=\"middle\" dy=\"0.7em\">\n            10.0\n            </text>\n          </g>\n        </g>\n        <g transform=\"translate(414.38331068107607 0.0 ) \">\n          <line stroke-width=\"1.0\" stroke=\"rgb(71,71,71)\" stroke-opacity=\"1.0\" x2=\"0.0\" y2=\"4.0\">\n          </line>\n          <g transform=\"translate(0.0 7.0 ) \">\n            <text class=\"axis-text-x\" text-anchor=\"middle\" dy=\"0.7em\">\n            15.0\n            </text>\n          </g>\n        </g>\n        <line x1=\"0.0\" y1=\"0.0\" x2=\"445.0387890890636\" y2=\"0.0\" stroke-width=\"1.0\" stroke=\"rgb(71,71,71)\" stroke-opacity=\"1.0\">\n        </line>\n      </g>\n      <g transform=\"translate(21.961210910936405 0.0 ) \">\n        <line x1=\"0.0\" y1=\"183.42295218718442\" x2=\"445.0387890890636\" y2=\"183.42295218718442\" stroke=\"rgb(233,233,233)\" stroke-opacity=\"1.0\" stroke-width=\"1.0\">\n        </line>\n        <line x1=\"0.0\" y1=\"125.30321563389253\" x2=\"445.0387890890636\" y2=\"125.30321563389253\" stroke=\"rgb(233,233,233)\" stroke-opacity=\"1.0\" stroke-width=\"1.0\">\n        </line>\n        <line x1=\"0.0\" y1=\"67.18347908060063\" x2=\"445.0387890890636\" y2=\"67.18347908060063\" stroke=\"rgb(233,233,233)\" stroke-opacity=\"1.0\" stroke-width=\"1.0\">\n        </line>\n        <line x1=\"0.0\" y1=\"9.063742527308733\" x2=\"445.0387890890636\" y2=\"9.063742527308733\" stroke=\"rgb(233,233,233)\" stroke-opacity=\"1.0\" stroke-width=\"1.0\">\n        </line>\n        <g transform=\"translate(0.0 183.42295218718442 ) \">\n          <g transform=\"translate(-3.0 0.0 ) \">\n            <text class=\"axis-text-y\" text-anchor=\"end\" dy=\"0.35em\">\n            0\n            </text>\n          </g>\n        </g>\n        <g transform=\"translate(0.0 125.30321563389253 ) \">\n          <g transform=\"translate(-3.0 0.0 ) \">\n            <text class=\"axis-text-y\" text-anchor=\"end\" dy=\"0.35em\">\n            5\n            </text>\n          </g>\n        </g>\n        <g transform=\"translate(0.0 67.18347908060063 ) \">\n          <g transform=\"translate(-3.0 0.0 ) \">\n            <text class=\"axis-text-y\" text-anchor=\"end\" dy=\"0.35em\">\n            10\n            </text>\n          </g>\n        </g>\n        <g transform=\"translate(0.0 9.063742527308733 ) \">\n          <g transform=\"translate(-3.0 0.0 ) \">\n            <text class=\"axis-text-y\" text-anchor=\"end\" dy=\"0.35em\">\n            15\n            </text>\n          </g>\n        </g>\n      </g>\n      <g transform=\"translate(21.961210910936405 0.0 ) \" clip-path=\"url(#cv9MOyQ)\" clip-bounds-jfx=\"[rect (0.0, 0.0), (445.0387890890636, 194.0)]\">\n        <defs>\n          <clipPath id=\"cv9MOyQ\">\n            <rect x=\"0.0\" y=\"0.0\" width=\"445.0387890890636\" height=\"194.0\">\n            </rect>\n          </clipPath>\n        </defs>\n        <g>\n          \n          <g >\n            <circle fill=\"#000000\" fill-opacity=\"0.0\" stroke=\"#474747\" stroke-width=\"1.6500000000000001\" cx=\"36.04192814953973\" cy=\"186.1451624286989\" r=\"4.125\" />\n            <circle fill=\"#000000\" fill-opacity=\"0.0\" stroke=\"#474747\" stroke-width=\"1.6500000000000001\" cx=\"29.656031701967205\" cy=\"182.00720313825508\" r=\"4.125\" />\n            <circle fill=\"#000000\" fill-opacity=\"0.0\" stroke=\"#474747\" stroke-width=\"1.6500000000000001\" cx=\"23.678692531842245\" cy=\"188.0358042843457\" r=\"4.125\" />\n            <circle fill=\"#000000\" fill-opacity=\"0.0\" stroke=\"#474747\" stroke-width=\"1.6500000000000001\" cx=\"39.71041547321227\" cy=\"187.8685712144795\" r=\"4.125\" />\n            <circle fill=\"#000000\" fill-opacity=\"0.0\" stroke=\"#474747\" stroke-width=\"1.6500000000000001\" cx=\"32.78328916998785\" cy=\"180.8623249864106\" r=\"4.125\" />\n            <circle fill=\"#000000\" fill-opacity=\"0.0\" stroke=\"#474747\" stroke-width=\"1.6500000000000001\" cx=\"161.26381240862386\" cy=\"187.73585914115554\" r=\"4.125\" />\n            <circle fill=\"#000000\" fill-opacity=\"0.0\" stroke=\"#474747\" stroke-width=\"1.6500000000000001\" cx=\"160.2325809443916\" cy=\"64.56268152971711\" r=\"4.125\" />\n            <circle fill=\"#000000\" fill-opacity=\"0.0\" stroke=\"#474747\" stroke-width=\"1.6500000000000001\" cx=\"165.6482493182916\" cy=\"124.12106611782737\" r=\"4.125\" />\n            <circle fill=\"#000000\" fill-opacity=\"0.0\" stroke=\"#474747\" stroke-width=\"1.6500000000000001\" cx=\"160.0337498696082\" cy=\"125.51532703223678\" r=\"4.125\" />\n            <circle fill=\"#000000\" fill-opacity=\"0.0\" stroke=\"#474747\" stroke-width=\"1.6500000000000001\" cx=\"151.16559627124067\" cy=\"63.95517449917628\" r=\"4.125\" />\n            <circle fill=\"#000000\" fill-opacity=\"0.0\" stroke=\"#474747\" stroke-width=\"1.6500000000000001\" cx=\"283.9701435134517\" cy=\"70.0972284353446\" r=\"4.125\" />\n            <circle fill=\"#000000\" fill-opacity=\"0.0\" stroke=\"#474747\" stroke-width=\"1.6500000000000001\" cx=\"286.5343964098664\" cy=\"122.60260425501048\" r=\"4.125\" />\n            <circle fill=\"#000000\" fill-opacity=\"0.0\" stroke=\"#474747\" stroke-width=\"1.6500000000000001\" cx=\"290.88423319108233\" cy=\"70.6877036430937\" r=\"4.125\" />\n            <circle fill=\"#000000\" fill-opacity=\"0.0\" stroke=\"#474747\" stroke-width=\"1.6500000000000001\" cx=\"282.17636879665577\" cy=\"63.015598478191365\" r=\"4.125\" />\n            <circle fill=\"#000000\" fill-opacity=\"0.0\" stroke=\"#474747\" stroke-width=\"1.6500000000000001\" cx=\"280.37309738262763\" cy=\"130.47712234017908\" r=\"4.125\" />\n            <circle fill=\"#000000\" fill-opacity=\"0.0\" stroke=\"#474747\" stroke-width=\"1.6500000000000001\" cx=\"414.7766280222481\" cy=\"62.777811305159275\" r=\"4.125\" />\n            <circle fill=\"#000000\" fill-opacity=\"0.0\" stroke=\"#474747\" stroke-width=\"1.6500000000000001\" cx=\"418.4957491788632\" cy=\"10.983538812439491\" r=\"4.125\" />\n            <circle fill=\"#000000\" fill-opacity=\"0.0\" stroke=\"#474747\" stroke-width=\"1.6500000000000001\" cx=\"421.1305121784171\" cy=\"68.86905842346255\" r=\"4.125\" />\n            <circle fill=\"#000000\" fill-opacity=\"0.0\" stroke=\"#474747\" stroke-width=\"1.6500000000000001\" cx=\"423.4215768477446\" cy=\"6.327178452565249\" r=\"4.125\" />\n            <circle fill=\"#000000\" fill-opacity=\"0.0\" stroke=\"#474747\" stroke-width=\"1.6500000000000001\" cx=\"425.259945030319\" cy=\"11.7109580464913\" r=\"4.125\" />\n          </g>\n        </g>\n      </g>\n    </g>\n    <g transform=\"translate(14.5 107.0 ) rotate(-90.0 ) \">\n      <text class=\"axis-title-y\" y=\"0.0\" text-anchor=\"middle\">\n      yvar\n      </text>\n    </g>\n    <g transform=\"translate(267.4806054554682 241.5 ) \">\n      <text class=\"axis-title-x\" y=\"0.0\" text-anchor=\"middle\">\n      xvar\n      </text>\n    </g>\n    <path fill=\"rgb(0,0,0)\" fill-opacity=\"0.0\" stroke=\"rgb(71,71,71)\" stroke-opacity=\"1.0\" stroke-width=\"0.0\" d=\"M0.0 0.0 L0.0 250.0 L500.0 250.0 L500.0 0.0 Z\">\n    </path>\n  </g>\n  <g id=\"d0yKRUz\">\n  </g>\n</svg>\n        <script>document.getElementById(\"15201e90-f4fe-427b-8035-e091f7b52f64\").style.display = \"none\";</script>",
      "application/plot+json": {
       "output_type": "lets_plot_spec",
       "output": {
        "mapping": {},
        "data": {
         "yvar": [
          0.0,
          0.0,
          0.0,
          0.0,
          0.0,
          0.0,
          10.0,
          5.0,
          5.0,
          10.0,
          10.0,
          5.0,
          10.0,
          10.0,
          5.0,
          10.0,
          15.0,
          10.0,
          15.0,
          15.0
         ],
         "xvar": [
          0.0,
          0.0,
          0.0,
          0.0,
          0.0,
          5.0,
          5.0,
          5.0,
          5.0,
          5.0,
          10.0,
          10.0,
          10.0,
          10.0,
          10.0,
          15.0,
          15.0,
          15.0,
          15.0,
          15.0
         ]
        },
        "ggsize": {
         "width": 500.0,
         "height": 250.0
        },
        "kind": "plot",
        "scales": [
         {
          "aesthetic": "x",
          "breaks": [
           0.0,
           5.0,
           10.0,
           15.0
          ],
          "limits": [
           null,
           null
          ]
         },
         {
          "aesthetic": "y",
          "limits": [
           null,
           null
          ]
         }
        ],
        "layers": [
         {
          "mapping": {
           "x": "xvar",
           "y": "yvar"
          },
          "stat": "identity",
          "shape": 1.0,
          "sampling": "none",
          "position": {
           "name": "jitter",
           "width": 0.1,
           "height": 0.1
          },
          "geom": "point"
         }
        ]
       },
       "apply_color_scheme": true,
       "swing_enabled": true
      }
     },
     "execution_count": 10,
     "metadata": {},
     "output_type": "execute_result"
    }
   ],
   "source": [
    "plot(data1) {\n",
    "    points {\n",
    "        x(xvar) {\n",
    "            axis.breaks(listOf(0, 5, 10, 15))\n",
    "        }\n",
    "        y(\"yvar\"<Int>())\n",
    "        symbol = Symbol.CIRCLE_OPEN\n",
    "        \n",
    "        position = Position.jitter(.1, .1)\n",
    "    }\n",
    "    layout { \n",
    "        size = 500 to 250\n",
    "    }\n",
    "}"
   ]
  }
 ],
 "metadata": {
  "kernelspec": {
   "display_name": "Kotlin",
   "language": "kotlin",
   "name": "kotlin"
  },
  "language_info": {
   "codemirror_mode": "text/x-kotlin",
   "file_extension": ".kt",
   "mimetype": "text/x-kotlin",
   "name": "kotlin",
   "nbconvert_exporter": "",
   "pygments_lexer": "kotlin",
   "version": "1.8.20-Beta"
  }
 },
 "nbformat": 4,
 "nbformat_minor": 4
}
