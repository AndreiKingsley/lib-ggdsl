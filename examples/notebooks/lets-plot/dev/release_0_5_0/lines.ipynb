{
 "cells": [
  {
   "cell_type": "markdown",
   "id": "872680a6",
   "metadata": {},
   "source": [
    "# Lines in Kandy"
   ]
  },
  {
   "cell_type": "code",
   "execution_count": null,
   "outputs": [],
   "source": [
    "%use kandy(0.5.0-rc-1)\n",
    "%use dataframe(0.12.0)"
   ],
   "metadata": {
    "collapsed": false
   },
   "id": "a91ea8a175081227"
  },
  {
   "cell_type": "markdown",
   "id": "91a3bca2",
   "metadata": {},
   "source": [
    "## Vertical, horizontal and oblique lines"
   ]
  },
  {
   "cell_type": "code",
   "execution_count": 1,
   "id": "b62278c4",
   "metadata": {
    "ExecuteTime": {
     "end_time": "2023-11-13T11:02:05.009531Z",
     "start_time": "2023-11-13T11:02:02.984686Z"
    }
   },
   "outputs": [
    {
     "data": {
      "text/html": "            <iframe onload=\"o_resize_iframe_out_1()\" style=\"width:100%;\" class=\"result_container\" id=\"iframe_out_1\" frameBorder=\"0\" srcdoc=\"        &lt;html theme='dark'&gt;\n        &lt;head&gt;\n            &lt;style type=&quot;text&sol;css&quot;&gt;\n                :root {\n    --background: #fff;\n    --background-odd: #f5f5f5;\n    --background-hover: #d9edfd;\n    --header-text-color: #474747;\n    --text-color: #848484;\n    --text-color-dark: #000;\n    --text-color-medium: #737373;\n    --text-color-pale: #b3b3b3;\n    --inner-border-color: #aaa;\n    --bold-border-color: #000;\n    --link-color: #296eaa;\n    --link-color-pale: #296eaa;\n    --link-hover: #1a466c;\n}\n\n:root[theme=&quot;dark&quot;], :root [data-jp-theme-light=&quot;false&quot;], .dataframe_dark{\n    --background: #303030;\n    --background-odd: #3c3c3c;\n    --background-hover: #464646;\n    --header-text-color: #dddddd;\n    --text-color: #b3b3b3;\n    --text-color-dark: #dddddd;\n    --text-color-medium: #b2b2b2;\n    --text-color-pale: #737373;\n    --inner-border-color: #707070;\n    --bold-border-color: #777777;\n    --link-color: #008dc0;\n    --link-color-pale: #97e1fb;\n    --link-hover: #00688e;\n}\n\np.dataframe_description {\n    color: var(--text-color-dark);\n}\n\ntable.dataframe {\n    font-family: &quot;Helvetica Neue&quot;, Helvetica, Arial, sans-serif;\n    font-size: 12px;\n    background-color: var(--background);\n    color: var(--text-color-dark);\n    border: none;\n    border-collapse: collapse;\n}\n\ntable.dataframe th, td {\n    padding: 6px;\n    border: 1px solid transparent;\n    text-align: left;\n}\n\ntable.dataframe th {\n    background-color: var(--background);\n    color: var(--header-text-color);\n}\n\ntable.dataframe td {\n    vertical-align: top;\n}\n\ntable.dataframe th.bottomBorder {\n    border-bottom-color: var(--bold-border-color);\n}\n\ntable.dataframe tbody &gt; tr:nth-child(odd) {\n    background: var(--background-odd);\n}\n\ntable.dataframe tbody &gt; tr:nth-child(even) {\n    background: var(--background);\n}\n\ntable.dataframe tbody &gt; tr:hover {\n    background: var(--background-hover);\n}\n\ntable.dataframe a {\n    cursor: pointer;\n    color: var(--link-color);\n    text-decoration: none;\n}\n\ntable.dataframe tr:hover &gt; td a {\n    color: var(--link-color-pale);\n}\n\ntable.dataframe a:hover {\n    color: var(--link-hover);\n    text-decoration: underline;\n}\n\ntable.dataframe img {\n    max-width: fit-content;\n}\n\ntable.dataframe th.complex {\n    background-color: var(--background);\n    border: 1px solid var(--background);\n}\n\ntable.dataframe .leftBorder {\n    border-left-color: var(--inner-border-color);\n}\n\ntable.dataframe .rightBorder {\n    border-right-color: var(--inner-border-color);\n}\n\ntable.dataframe .rightAlign {\n    text-align: right;\n}\n\ntable.dataframe .expanderSvg {\n    width: 8px;\n    height: 8px;\n    margin-right: 3px;\n}\n\ntable.dataframe .expander {\n    display: flex;\n    align-items: center;\n}\n\n&sol;* formatting *&sol;\n\ntable.dataframe .null {\n    color: var(--text-color-pale);\n}\n\ntable.dataframe .structural {\n    color: var(--text-color-medium);\n    font-weight: bold;\n}\n\ntable.dataframe .dataFrameCaption {\n    font-weight: bold;\n}\n\ntable.dataframe .numbers {\n    color: var(--text-color-dark);\n}\n\ntable.dataframe td:hover .formatted .structural, .null {\n    color: var(--text-color-dark);\n}\n\ntable.dataframe tr:hover .formatted .structural, .null {\n    color: var(--text-color-dark);\n}\n\n\n\n\n:root {\n    --scroll-bg: #f5f5f5;\n    --scroll-fg: #b3b3b3;\n}\n:root[theme=&quot;dark&quot;], :root [data-jp-theme-light=&quot;false&quot;]{\n    --scroll-bg: #3c3c3c;\n    --scroll-fg: #97e1fb;\n}\nbody {\n    scrollbar-color: var(--scroll-fg) var(--scroll-bg);\n}\nbody::-webkit-scrollbar {\n    width: 10px; &sol;* Mostly for vertical scrollbars *&sol;\n    height: 10px; &sol;* Mostly for horizontal scrollbars *&sol;\n}\nbody::-webkit-scrollbar-thumb {\n    background-color: var(--scroll-fg);\n}\nbody::-webkit-scrollbar-track {\n    background-color: var(--scroll-bg);\n}\n            &lt;&sol;style&gt;\n        &lt;&sol;head&gt;\n        &lt;body&gt;\n            \n&lt;table class=&quot;dataframe&quot; id=&quot;df_2080374784&quot;&gt;&lt;&sol;table&gt;\n\n&lt;p class=&quot;dataframe_description&quot;&gt;DataFrame: rowsCount = 5, columnsCount = 12&lt;&sol;p&gt;\n\n        &lt;&sol;body&gt;\n        &lt;script&gt;\n            (function () {\n    window.DataFrame = window.DataFrame || new (function () {\n        this.addTable = function (df) {\n            let cols = df.cols;\n            for (let i = 0; i &lt; cols.length; i++) {\n                for (let c of cols[i].children) {\n                    cols[c].parent = i;\n                }\n            }\n            df.nrow = 0\n            for (let i = 0; i &lt; df.cols.length; i++) {\n                if (df.cols[i].values.length &gt; df.nrow) df.nrow = df.cols[i].values.length\n            }\n            if (df.id === df.rootId) {\n                df.expandedFrames = new Set()\n                df.childFrames = {}\n                const table = this.getTableElement(df.id)\n                table.df = df\n                for (let i = 0; i &lt; df.cols.length; i++) {\n                    let col = df.cols[i]\n                    if (col.parent === undefined &amp;&amp; col.children.length &gt; 0) col.expanded = true\n                }\n            } else {\n                const rootDf = this.getTableData(df.rootId)\n                rootDf.childFrames[df.id] = df\n            }\n        }\n\n        this.computeRenderData = function (df) {\n            let result = []\n            let pos = 0\n            for (let col = 0; col &lt; df.cols.length; col++) {\n                if (df.cols[col].parent === undefined)\n                    pos += this.computeRenderDataRec(df.cols, col, pos, 0, result, false, false)\n            }\n            for (let i = 0; i &lt; result.length; i++) {\n                let row = result[i]\n                for (let j = 0; j &lt; row.length; j++) {\n                    let cell = row[j]\n                    if (j === 0)\n                        cell.leftBd = false\n                    if (j &lt; row.length - 1) {\n                        let nextData = row[j + 1]\n                        if (nextData.leftBd) cell.rightBd = true\n                        else if (cell.rightBd) nextData.leftBd = true\n                    } else cell.rightBd = false\n                }\n            }\n            return result\n        }\n\n        this.computeRenderDataRec = function (cols, colId, pos, depth, result, leftBorder, rightBorder) {\n            if (result.length === depth) {\n                const array = [];\n                if (pos &gt; 0) {\n                    let j = 0\n                    for (let i = 0; j &lt; pos; i++) {\n                        let c = result[depth - 1][i]\n                        j += c.span\n                        let copy = Object.assign({empty: true}, c)\n                        array.push(copy)\n                    }\n                }\n                result.push(array)\n            }\n            const col = cols[colId];\n            let size = 0;\n            if (col.expanded) {\n                let childPos = pos\n                for (let i = 0; i &lt; col.children.length; i++) {\n                    let child = col.children[i]\n                    let childLeft = i === 0 &amp;&amp; (col.children.length &gt; 1 || leftBorder)\n                    let childRight = i === col.children.length - 1 &amp;&amp; (col.children.length &gt; 1 || rightBorder)\n                    let childSize = this.computeRenderDataRec(cols, child, childPos, depth + 1, result, childLeft, childRight)\n                    childPos += childSize\n                    size += childSize\n                }\n            } else {\n                for (let i = depth + 1; i &lt; result.length; i++)\n                    result[i].push({id: colId, span: 1, leftBd: leftBorder, rightBd: rightBorder, empty: true})\n                size = 1\n            }\n            let left = leftBorder\n            let right = rightBorder\n            if (size &gt; 1) {\n                left = true\n                right = true\n            }\n            result[depth].push({id: colId, span: size, leftBd: left, rightBd: right})\n            return size\n        }\n\n        this.getTableElement = function (id) {\n            return document.getElementById(&quot;df_&quot; + id)\n        }\n\n        this.getTableData = function (id) {\n            return this.getTableElement(id).df\n        }\n\n        this.createExpander = function (isExpanded) {\n            const svgNs = &quot;http:&sol;&sol;www.w3.org&sol;2000&sol;svg&quot;\n            let svg = document.createElementNS(svgNs, &quot;svg&quot;)\n            svg.classList.add(&quot;expanderSvg&quot;)\n            let path = document.createElementNS(svgNs, &quot;path&quot;)\n            if (isExpanded) {\n                svg.setAttribute(&quot;viewBox&quot;, &quot;0 -2 8 8&quot;)\n                path.setAttribute(&quot;d&quot;, &quot;M1 0 l-1 1 4 4 4 -4 -1 -1 -3 3Z&quot;)\n            } else {\n                svg.setAttribute(&quot;viewBox&quot;, &quot;-2 0 8 8&quot;)\n                path.setAttribute(&quot;d&quot;, &quot;M1 0 l-1 1 3 3 -3 3 1 1 4 -4Z&quot;)\n            }\n            path.setAttribute(&quot;fill&quot;, &quot;currentColor&quot;)\n            svg.appendChild(path)\n            return svg\n        }\n\n        this.renderTable = function (id) {\n\n            let table = this.getTableElement(id)\n\n            if (table === null) return\n\n            table.innerHTML = &quot;&quot;\n\n            let df = table.df\n            let rootDf = df.rootId === df.id ? df : this.getTableData(df.rootId)\n\n            &sol;&sol; header\n            let header = document.createElement(&quot;thead&quot;)\n            table.appendChild(header)\n\n            let renderData = this.computeRenderData(df)\n            for (let j = 0; j &lt; renderData.length; j++) {\n                let rowData = renderData[j]\n                let tr = document.createElement(&quot;tr&quot;);\n                let isLastRow = j === renderData.length - 1\n                header.appendChild(tr);\n                for (let i = 0; i &lt; rowData.length; i++) {\n                    let cell = rowData[i]\n                    let th = document.createElement(&quot;th&quot;);\n                    th.setAttribute(&quot;colspan&quot;, cell.span)\n                    let colId = cell.id\n                    let col = df.cols[colId];\n                    if (!cell.empty) {\n                        if (col.children.length === 0) {\n                            th.innerHTML = col.name\n                        } else {\n                            let link = document.createElement(&quot;a&quot;)\n                            link.className = &quot;expander&quot;\n                            let that = this\n                            link.onclick = function () {\n                                col.expanded = !col.expanded\n                                that.renderTable(id)\n                            }\n                            link.appendChild(this.createExpander(col.expanded))\n                            link.innerHTML += col.name\n                            th.appendChild(link)\n                        }\n                    }\n                    let classes = (cell.leftBd ? &quot; leftBorder&quot; : &quot;&quot;) + (cell.rightBd ? &quot; rightBorder&quot; : &quot;&quot;)\n                    if (col.rightAlign)\n                        classes += &quot; rightAlign&quot;\n                    if (isLastRow)\n                        classes += &quot; bottomBorder&quot;\n                    if (classes.length &gt; 0)\n                        th.setAttribute(&quot;class&quot;, classes)\n                    tr.appendChild(th)\n                }\n            }\n\n            &sol;&sol; body\n            let body = document.createElement(&quot;tbody&quot;)\n            table.appendChild(body)\n\n            let columns = renderData.pop()\n            for (let row = 0; row &lt; df.nrow; row++) {\n                let tr = document.createElement(&quot;tr&quot;);\n                body.appendChild(tr)\n                for (let i = 0; i &lt; columns.length; i++) {\n                    let cell = columns[i]\n                    let td = document.createElement(&quot;td&quot;);\n                    let colId = cell.id\n                    let col = df.cols[colId]\n                    let classes = (cell.leftBd ? &quot; leftBorder&quot; : &quot;&quot;) + (cell.rightBd ? &quot; rightBorder&quot; : &quot;&quot;)\n                    if (col.rightAlign)\n                        classes += &quot; rightAlign&quot;\n                    if (classes.length &gt; 0)\n                        td.setAttribute(&quot;class&quot;, classes)\n                    tr.appendChild(td)\n                    let value = col.values[row]\n                    if (value.frameId !== undefined) {\n                        let frameId = value.frameId\n                        let expanded = rootDf.expandedFrames.has(frameId)\n                        let link = document.createElement(&quot;a&quot;)\n                        link.className = &quot;expander&quot;\n                        let that = this\n                        link.onclick = function () {\n                            if (rootDf.expandedFrames.has(frameId))\n                                rootDf.expandedFrames.delete(frameId)\n                            else rootDf.expandedFrames.add(frameId)\n                            that.renderTable(id)\n                        }\n                        link.appendChild(this.createExpander(expanded))\n                        link.innerHTML += value.value\n                        if (expanded) {\n                            td.appendChild(link)\n                            td.appendChild(document.createElement(&quot;p&quot;))\n                            const childTable = document.createElement(&quot;table&quot;)\n                            childTable.className = &quot;dataframe&quot;\n                            childTable.id = &quot;df_&quot; + frameId\n                            let childDf = rootDf.childFrames[frameId]\n                            childTable.df = childDf\n                            td.appendChild(childTable)\n                            this.renderTable(frameId)\n                            if (childDf.nrow !== childDf.totalRows) {\n                                const footer = document.createElement(&quot;p&quot;)\n                                footer.innerText = `... showing only top ${childDf.nrow} of ${childDf.totalRows} rows`\n                                td.appendChild(footer)\n                            }\n                        } else {\n                            td.appendChild(link)\n                        }\n                    } else if (value.style !== undefined) {\n                        td.innerHTML = value.value\n                        td.setAttribute(&quot;style&quot;, value.style)\n                    } else td.innerHTML = value\n                    this.nodeScriptReplace(td)\n                }\n            }\n        }\n\n        this.nodeScriptReplace = function (node) {\n            if (this.nodeScriptIs(node) === true) {\n                node.parentNode.replaceChild(this.nodeScriptClone(node), node);\n            } else {\n                let i = -1, children = node.childNodes;\n                while (++i &lt; children.length) {\n                    this.nodeScriptReplace(children[i]);\n                }\n            }\n\n            return node;\n        }\n\n        this.nodeScriptClone = function (node) {\n            let script = document.createElement(&quot;script&quot;);\n            script.text = node.innerHTML;\n\n            let i = -1, attrs = node.attributes, attr;\n            while (++i &lt; attrs.length) {\n                script.setAttribute((attr = attrs[i]).name, attr.value);\n            }\n            return script;\n        }\n\n        this.nodeScriptIs = function (node) {\n            return node.tagName === 'SCRIPT';\n        }\n    })()\n\n    window.call_DataFrame = function (f) {\n        return f();\n    };\n\n    let funQueue = window[&quot;kotlinQueues&quot;] &amp;&amp; window[&quot;kotlinQueues&quot;][&quot;DataFrame&quot;];\n    if (funQueue) {\n        funQueue.forEach(function (f) {\n            f();\n        });\n        funQueue = [];\n    }\n})()\n\n&sol;*&lt;!--*&sol;\ncall_DataFrame(function() { DataFrame.addTable({ cols: [{ name: &quot;&lt;span title=&bsol;&quot;untitled: Int&bsol;&quot;&gt;untitled&lt;&sol;span&gt;&quot;, children: [], rightAlign: true, values: [&quot;&lt;span class=&bsol;&quot;formatted&bsol;&quot; title=&bsol;&quot;&bsol;&quot;&gt;&lt;span class=&bsol;&quot;numbers&bsol;&quot;&gt;1&lt;&sol;span&gt;&lt;&sol;span&gt;&quot;,&quot;&lt;span class=&bsol;&quot;formatted&bsol;&quot; title=&bsol;&quot;&bsol;&quot;&gt;&lt;span class=&bsol;&quot;numbers&bsol;&quot;&gt;2&lt;&sol;span&gt;&lt;&sol;span&gt;&quot;,&quot;&lt;span class=&bsol;&quot;formatted&bsol;&quot; title=&bsol;&quot;&bsol;&quot;&gt;&lt;span class=&bsol;&quot;numbers&bsol;&quot;&gt;3&lt;&sol;span&gt;&lt;&sol;span&gt;&quot;,&quot;&lt;span class=&bsol;&quot;formatted&bsol;&quot; title=&bsol;&quot;&bsol;&quot;&gt;&lt;span class=&bsol;&quot;numbers&bsol;&quot;&gt;4&lt;&sol;span&gt;&lt;&sol;span&gt;&quot;,&quot;&lt;span class=&bsol;&quot;formatted&bsol;&quot; title=&bsol;&quot;&bsol;&quot;&gt;&lt;span class=&bsol;&quot;numbers&bsol;&quot;&gt;5&lt;&sol;span&gt;&lt;&sol;span&gt;&quot;] }, \n{ name: &quot;&lt;span title=&bsol;&quot;manufacturer: String&bsol;&quot;&gt;manufacturer&lt;&sol;span&gt;&quot;, children: [], rightAlign: false, values: [&quot;audi&quot;,&quot;audi&quot;,&quot;audi&quot;,&quot;audi&quot;,&quot;audi&quot;] }, \n{ name: &quot;&lt;span title=&bsol;&quot;model: String&bsol;&quot;&gt;model&lt;&sol;span&gt;&quot;, children: [], rightAlign: false, values: [&quot;a4&quot;,&quot;a4&quot;,&quot;a4&quot;,&quot;a4&quot;,&quot;a4&quot;] }, \n{ name: &quot;&lt;span title=&bsol;&quot;displ: Double&bsol;&quot;&gt;displ&lt;&sol;span&gt;&quot;, children: [], rightAlign: true, values: [&quot;&lt;span class=&bsol;&quot;formatted&bsol;&quot; title=&bsol;&quot;&bsol;&quot;&gt;&lt;span class=&bsol;&quot;numbers&bsol;&quot;&gt;1,8&lt;&sol;span&gt;&lt;&sol;span&gt;&quot;,&quot;&lt;span class=&bsol;&quot;formatted&bsol;&quot; title=&bsol;&quot;&bsol;&quot;&gt;&lt;span class=&bsol;&quot;numbers&bsol;&quot;&gt;1,8&lt;&sol;span&gt;&lt;&sol;span&gt;&quot;,&quot;&lt;span class=&bsol;&quot;formatted&bsol;&quot; title=&bsol;&quot;&bsol;&quot;&gt;&lt;span class=&bsol;&quot;numbers&bsol;&quot;&gt;2,0&lt;&sol;span&gt;&lt;&sol;span&gt;&quot;,&quot;&lt;span class=&bsol;&quot;formatted&bsol;&quot; title=&bsol;&quot;&bsol;&quot;&gt;&lt;span class=&bsol;&quot;numbers&bsol;&quot;&gt;2,0&lt;&sol;span&gt;&lt;&sol;span&gt;&quot;,&quot;&lt;span class=&bsol;&quot;formatted&bsol;&quot; title=&bsol;&quot;&bsol;&quot;&gt;&lt;span class=&bsol;&quot;numbers&bsol;&quot;&gt;2,8&lt;&sol;span&gt;&lt;&sol;span&gt;&quot;] }, \n{ name: &quot;&lt;span title=&bsol;&quot;year: Int&bsol;&quot;&gt;year&lt;&sol;span&gt;&quot;, children: [], rightAlign: true, values: [&quot;&lt;span class=&bsol;&quot;formatted&bsol;&quot; title=&bsol;&quot;&bsol;&quot;&gt;&lt;span class=&bsol;&quot;numbers&bsol;&quot;&gt;1999&lt;&sol;span&gt;&lt;&sol;span&gt;&quot;,&quot;&lt;span class=&bsol;&quot;formatted&bsol;&quot; title=&bsol;&quot;&bsol;&quot;&gt;&lt;span class=&bsol;&quot;numbers&bsol;&quot;&gt;1999&lt;&sol;span&gt;&lt;&sol;span&gt;&quot;,&quot;&lt;span class=&bsol;&quot;formatted&bsol;&quot; title=&bsol;&quot;&bsol;&quot;&gt;&lt;span class=&bsol;&quot;numbers&bsol;&quot;&gt;2008&lt;&sol;span&gt;&lt;&sol;span&gt;&quot;,&quot;&lt;span class=&bsol;&quot;formatted&bsol;&quot; title=&bsol;&quot;&bsol;&quot;&gt;&lt;span class=&bsol;&quot;numbers&bsol;&quot;&gt;2008&lt;&sol;span&gt;&lt;&sol;span&gt;&quot;,&quot;&lt;span class=&bsol;&quot;formatted&bsol;&quot; title=&bsol;&quot;&bsol;&quot;&gt;&lt;span class=&bsol;&quot;numbers&bsol;&quot;&gt;1999&lt;&sol;span&gt;&lt;&sol;span&gt;&quot;] }, \n{ name: &quot;&lt;span title=&bsol;&quot;cyl: Int&bsol;&quot;&gt;cyl&lt;&sol;span&gt;&quot;, children: [], rightAlign: true, values: [&quot;&lt;span class=&bsol;&quot;formatted&bsol;&quot; title=&bsol;&quot;&bsol;&quot;&gt;&lt;span class=&bsol;&quot;numbers&bsol;&quot;&gt;4&lt;&sol;span&gt;&lt;&sol;span&gt;&quot;,&quot;&lt;span class=&bsol;&quot;formatted&bsol;&quot; title=&bsol;&quot;&bsol;&quot;&gt;&lt;span class=&bsol;&quot;numbers&bsol;&quot;&gt;4&lt;&sol;span&gt;&lt;&sol;span&gt;&quot;,&quot;&lt;span class=&bsol;&quot;formatted&bsol;&quot; title=&bsol;&quot;&bsol;&quot;&gt;&lt;span class=&bsol;&quot;numbers&bsol;&quot;&gt;4&lt;&sol;span&gt;&lt;&sol;span&gt;&quot;,&quot;&lt;span class=&bsol;&quot;formatted&bsol;&quot; title=&bsol;&quot;&bsol;&quot;&gt;&lt;span class=&bsol;&quot;numbers&bsol;&quot;&gt;4&lt;&sol;span&gt;&lt;&sol;span&gt;&quot;,&quot;&lt;span class=&bsol;&quot;formatted&bsol;&quot; title=&bsol;&quot;&bsol;&quot;&gt;&lt;span class=&bsol;&quot;numbers&bsol;&quot;&gt;6&lt;&sol;span&gt;&lt;&sol;span&gt;&quot;] }, \n{ name: &quot;&lt;span title=&bsol;&quot;trans: String&bsol;&quot;&gt;trans&lt;&sol;span&gt;&quot;, children: [], rightAlign: false, values: [&quot;auto(l5)&quot;,&quot;manual(m5)&quot;,&quot;manual(m6)&quot;,&quot;auto(av)&quot;,&quot;auto(l5)&quot;] }, \n{ name: &quot;&lt;span title=&bsol;&quot;drv: String&bsol;&quot;&gt;drv&lt;&sol;span&gt;&quot;, children: [], rightAlign: false, values: [&quot;f&quot;,&quot;f&quot;,&quot;f&quot;,&quot;f&quot;,&quot;f&quot;] }, \n{ name: &quot;&lt;span title=&bsol;&quot;cty: Int&bsol;&quot;&gt;cty&lt;&sol;span&gt;&quot;, children: [], rightAlign: true, values: [&quot;&lt;span class=&bsol;&quot;formatted&bsol;&quot; title=&bsol;&quot;&bsol;&quot;&gt;&lt;span class=&bsol;&quot;numbers&bsol;&quot;&gt;18&lt;&sol;span&gt;&lt;&sol;span&gt;&quot;,&quot;&lt;span class=&bsol;&quot;formatted&bsol;&quot; title=&bsol;&quot;&bsol;&quot;&gt;&lt;span class=&bsol;&quot;numbers&bsol;&quot;&gt;21&lt;&sol;span&gt;&lt;&sol;span&gt;&quot;,&quot;&lt;span class=&bsol;&quot;formatted&bsol;&quot; title=&bsol;&quot;&bsol;&quot;&gt;&lt;span class=&bsol;&quot;numbers&bsol;&quot;&gt;20&lt;&sol;span&gt;&lt;&sol;span&gt;&quot;,&quot;&lt;span class=&bsol;&quot;formatted&bsol;&quot; title=&bsol;&quot;&bsol;&quot;&gt;&lt;span class=&bsol;&quot;numbers&bsol;&quot;&gt;21&lt;&sol;span&gt;&lt;&sol;span&gt;&quot;,&quot;&lt;span class=&bsol;&quot;formatted&bsol;&quot; title=&bsol;&quot;&bsol;&quot;&gt;&lt;span class=&bsol;&quot;numbers&bsol;&quot;&gt;16&lt;&sol;span&gt;&lt;&sol;span&gt;&quot;] }, \n{ name: &quot;&lt;span title=&bsol;&quot;hwy: Int&bsol;&quot;&gt;hwy&lt;&sol;span&gt;&quot;, children: [], rightAlign: true, values: [&quot;&lt;span class=&bsol;&quot;formatted&bsol;&quot; title=&bsol;&quot;&bsol;&quot;&gt;&lt;span class=&bsol;&quot;numbers&bsol;&quot;&gt;29&lt;&sol;span&gt;&lt;&sol;span&gt;&quot;,&quot;&lt;span class=&bsol;&quot;formatted&bsol;&quot; title=&bsol;&quot;&bsol;&quot;&gt;&lt;span class=&bsol;&quot;numbers&bsol;&quot;&gt;29&lt;&sol;span&gt;&lt;&sol;span&gt;&quot;,&quot;&lt;span class=&bsol;&quot;formatted&bsol;&quot; title=&bsol;&quot;&bsol;&quot;&gt;&lt;span class=&bsol;&quot;numbers&bsol;&quot;&gt;31&lt;&sol;span&gt;&lt;&sol;span&gt;&quot;,&quot;&lt;span class=&bsol;&quot;formatted&bsol;&quot; title=&bsol;&quot;&bsol;&quot;&gt;&lt;span class=&bsol;&quot;numbers&bsol;&quot;&gt;30&lt;&sol;span&gt;&lt;&sol;span&gt;&quot;,&quot;&lt;span class=&bsol;&quot;formatted&bsol;&quot; title=&bsol;&quot;&bsol;&quot;&gt;&lt;span class=&bsol;&quot;numbers&bsol;&quot;&gt;26&lt;&sol;span&gt;&lt;&sol;span&gt;&quot;] }, \n{ name: &quot;&lt;span title=&bsol;&quot;fl: String&bsol;&quot;&gt;fl&lt;&sol;span&gt;&quot;, children: [], rightAlign: false, values: [&quot;p&quot;,&quot;p&quot;,&quot;p&quot;,&quot;p&quot;,&quot;p&quot;] }, \n{ name: &quot;&lt;span title=&bsol;&quot;class: String&bsol;&quot;&gt;class&lt;&sol;span&gt;&quot;, children: [], rightAlign: false, values: [&quot;compact&quot;,&quot;compact&quot;,&quot;compact&quot;,&quot;compact&quot;,&quot;compact&quot;] }, \n], id: 2080374784, rootId: 2080374784, totalRows: 5 } ) });\n&sol;*--&gt;*&sol;\n\ncall_DataFrame(function() { DataFrame.renderTable(2080374784) });\n\n\n\n        &lt;&sol;script&gt;\n        &lt;&sol;html&gt;\"></iframe>\n            <script>\n                function o_resize_iframe_out_1() {\n                    let elem = document.getElementById(\"iframe_out_1\");\n                    resize_iframe_out_1(elem);\n                    setInterval(resize_iframe_out_1, 5000, elem);\n                }\n                function resize_iframe_out_1(el) {\n                    let h = el.contentWindow.document.body.scrollHeight;\n                    el.height = h === 0 ? 0 : h + 41;\n                }\n            </script>",
      "application/kotlindataframe+json": "{\"nrow\":5,\"ncol\":12,\"columns\":[\"untitled\",\"manufacturer\",\"model\",\"displ\",\"year\",\"cyl\",\"trans\",\"drv\",\"cty\",\"hwy\",\"fl\",\"class\"],\"kotlin_dataframe\":[{\"untitled\":1,\"manufacturer\":\"audi\",\"model\":\"a4\",\"displ\":1.8,\"year\":1999,\"cyl\":4,\"trans\":\"auto(l5)\",\"drv\":\"f\",\"cty\":18,\"hwy\":29,\"fl\":\"p\",\"class\":\"compact\"},{\"untitled\":2,\"manufacturer\":\"audi\",\"model\":\"a4\",\"displ\":1.8,\"year\":1999,\"cyl\":4,\"trans\":\"manual(m5)\",\"drv\":\"f\",\"cty\":21,\"hwy\":29,\"fl\":\"p\",\"class\":\"compact\"},{\"untitled\":3,\"manufacturer\":\"audi\",\"model\":\"a4\",\"displ\":2.0,\"year\":2008,\"cyl\":4,\"trans\":\"manual(m6)\",\"drv\":\"f\",\"cty\":20,\"hwy\":31,\"fl\":\"p\",\"class\":\"compact\"},{\"untitled\":4,\"manufacturer\":\"audi\",\"model\":\"a4\",\"displ\":2.0,\"year\":2008,\"cyl\":4,\"trans\":\"auto(av)\",\"drv\":\"f\",\"cty\":21,\"hwy\":30,\"fl\":\"p\",\"class\":\"compact\"},{\"untitled\":5,\"manufacturer\":\"audi\",\"model\":\"a4\",\"displ\":2.8,\"year\":1999,\"cyl\":6,\"trans\":\"auto(l5)\",\"drv\":\"f\",\"cty\":16,\"hwy\":26,\"fl\":\"p\",\"class\":\"compact\"}]}"
     },
     "execution_count": 1,
     "metadata": {},
     "output_type": "execute_result"
    }
   ],
   "source": [
    "val mpgDf = DataFrame.readCSV(\"https://raw.githubusercontent.com/JetBrains/lets-plot-kotlin/master/docs/examples/data/mpg.csv\")\n",
    "mpgDf.head()"
   ]
  },
  {
   "cell_type": "code",
   "execution_count": 2,
   "id": "781fdc93",
   "metadata": {
    "ExecuteTime": {
     "end_time": "2023-11-13T11:02:05.251111Z",
     "start_time": "2023-11-13T11:02:05.009496Z"
    }
   },
   "outputs": [],
   "source": [
    "val ctyMedian = mpgDf.median {cty}\n",
    "val hwyMedian = mpgDf.median {hwy}"
   ]
  },
  {
   "cell_type": "code",
   "execution_count": 3,
   "id": "bf6e4020",
   "metadata": {
    "ExecuteTime": {
     "end_time": "2023-11-13T11:02:05.572536Z",
     "start_time": "2023-11-13T11:02:05.251952Z"
    }
   },
   "outputs": [
    {
     "name": "stderr",
     "output_type": "stream",
     "text": [
      "Line_8.jupyter.kts (1:19 - 24) Unresolved reference: Color\n",
      "Line_8.jupyter.kts (2:7 - 11) Unresolved reference: plot\n",
      "Line_8.jupyter.kts (3:7 - 13) Unresolved reference: points\n",
      "Line_8.jupyter.kts (4:11 - 12) Unresolved reference: x\n",
      "Line_8.jupyter.kts (4:13 - 16) Unresolved reference. None of the following candidates is applicable because of receiver type mismatch: \n",
      "public final val ColumnsContainer<Line_5_jupyter._DataFrameType>.cty: DataColumn<Int> defined in Line_5_jupyter\n",
      "public final val ColumnsContainer<Line_5_jupyter._DataFrameType?>.cty: DataColumn<Int?> defined in Line_5_jupyter\n",
      "public final val DataRow<Line_5_jupyter._DataFrameType>.cty: Int defined in Line_5_jupyter\n",
      "public final val DataRow<Line_5_jupyter._DataFrameType?>.cty: Int? defined in Line_5_jupyter\n",
      "Line_8.jupyter.kts (5:11 - 12) Unresolved reference: y\n",
      "Line_8.jupyter.kts (5:13 - 16) Unresolved reference. None of the following candidates is applicable because of receiver type mismatch: \n",
      "public final val ColumnsContainer<Line_5_jupyter._DataFrameType>.hwy: DataColumn<Int> defined in Line_5_jupyter\n",
      "public final val ColumnsContainer<Line_5_jupyter._DataFrameType?>.hwy: DataColumn<Int?> defined in Line_5_jupyter\n",
      "public final val DataRow<Line_5_jupyter._DataFrameType>.hwy: Int defined in Line_5_jupyter\n",
      "public final val DataRow<Line_5_jupyter._DataFrameType?>.hwy: Int? defined in Line_5_jupyter\n",
      "Line_8.jupyter.kts (7:7 - 12) Unresolved reference: vLine\n",
      "Line_8.jupyter.kts (8:11 - 21) Unresolved reference: xIntercept\n",
      "Line_8.jupyter.kts (9:11 - 16) Unresolved reference: color\n",
      "Line_8.jupyter.kts (10:11 - 15) Unresolved reference. None of the following candidates is applicable because of receiver type mismatch: \n",
      "public val AnyCol /* = DataColumn<*> */.type: KType defined in org.jetbrains.kotlinx.dataframe\n",
      "public val ColumnsContainer<ColumnDescription>.type: DataColumn<KType> defined in org.jetbrains.kotlinx.dataframe.api\n",
      "public val ColumnsContainer<ColumnDescription?>.type: DataColumn<KType?> defined in org.jetbrains.kotlinx.dataframe.api\n",
      "public val DataRow<ColumnDescription>.type: KType defined in org.jetbrains.kotlinx.dataframe.api\n",
      "public val DataRow<ColumnDescription?>.type: KType? defined in org.jetbrains.kotlinx.dataframe.api\n",
      "Line_8.jupyter.kts (10:18 - 26) Unresolved reference: LineType\n",
      "Line_8.jupyter.kts (12:7 - 12) Unresolved reference: hLine\n",
      "Line_8.jupyter.kts (13:11 - 21) Unresolved reference: yIntercept\n",
      "Line_8.jupyter.kts (14:11 - 16) Unresolved reference: color\n",
      "Line_8.jupyter.kts (15:11 - 15) Unresolved reference. None of the following candidates is applicable because of receiver type mismatch: \n",
      "public val AnyCol /* = DataColumn<*> */.type: KType defined in org.jetbrains.kotlinx.dataframe\n",
      "public val ColumnsContainer<ColumnDescription>.type: DataColumn<KType> defined in org.jetbrains.kotlinx.dataframe.api\n",
      "public val ColumnsContainer<ColumnDescription?>.type: DataColumn<KType?> defined in org.jetbrains.kotlinx.dataframe.api\n",
      "public val DataRow<ColumnDescription>.type: KType defined in org.jetbrains.kotlinx.dataframe.api\n",
      "public val DataRow<ColumnDescription?>.type: KType? defined in org.jetbrains.kotlinx.dataframe.api\n",
      "Line_8.jupyter.kts (15:18 - 26) Unresolved reference: LineType\n",
      "Line_8.jupyter.kts (17:7 - 17) Unresolved reference: smoothLine\n",
      "Line_8.jupyter.kts (18:11 - 16) Unresolved reference: slope\n",
      "Line_8.jupyter.kts (18:26 - 34) Unresolved reference: regModel\n",
      "Line_8.jupyter.kts (19:11 - 20) Unresolved reference: intercept\n",
      "Line_8.jupyter.kts (19:30 - 38) Unresolved reference: regModel\n",
      "Line_8.jupyter.kts (20:11 - 16) Unresolved reference: color\n",
      "Line_8.jupyter.kts (20:19 - 24) Unresolved reference: Color"
     ]
    }
   ],
   "source": [
    "val medianColor = Color.hex(\"#756bb1\")\n",
    "mpgDf.plot {\n",
    "      points { \n",
    "          x(cty)\n",
    "          y(hwy)\n",
    "      }\n",
    "      vLine {\n",
    "          xIntercept.constant(ctyMedian)\n",
    "          color = medianColor\n",
    "          type = LineType.DASHED\n",
    "      }\n",
    "      hLine {\n",
    "          yIntercept.constant(hwyMedian)\n",
    "          color = medianColor\n",
    "          type = LineType.DASHED\n",
    "      }\n",
    "      smoothLine(\"cty\", \"hwy\") {\n",
    "          slope.constant(regModel.slope)\n",
    "          intercept.constant(regModel.intercept)\n",
    "          color = Color.hex(\"#de2d26\")\n",
    "      }\n",
    "}"
   ]
  },
  {
   "cell_type": "markdown",
   "id": "4211165f",
   "metadata": {},
   "source": [
    "## Broken lines"
   ]
  },
  {
   "cell_type": "code",
   "execution_count": 4,
   "id": "d1c840c9",
   "metadata": {
    "ExecuteTime": {
     "end_time": "2023-11-13T11:02:06.086472Z",
     "start_time": "2023-11-13T11:02:05.572373Z"
    }
   },
   "outputs": [],
   "source": [
    "fun generateParabolicDataMap(n: Int = 25, a: Double = 1.0): Map<String, List<Double>> {\n",
    "    val rand = java.util.Random(42)\n",
    "    val x = List(2 * n + 1) { i -> a * (i - n).toDouble() / n }\n",
    "    val y = x.map { i -> i * i + rand.nextGaussian() }\n",
    "    return mapOf(\"x\" to x, \"y\" to y)\n",
    "}\n",
    "\n",
    "val pDataMap = generateParabolicDataMap(a = 3.0)"
   ]
  },
  {
   "cell_type": "code",
   "execution_count": 5,
   "id": "f935467f",
   "metadata": {
    "ExecuteTime": {
     "end_time": "2023-11-13T11:02:06.159862Z",
     "start_time": "2023-11-13T11:02:06.074747Z"
    }
   },
   "outputs": [],
   "source": [
    "val xSrc = column<Double>(\"x\")\n",
    "val ySrc = column<Double>(\"y\")"
   ]
  },
  {
   "cell_type": "code",
   "execution_count": 6,
   "id": "107bb897",
   "metadata": {
    "ExecuteTime": {
     "end_time": "2023-11-13T11:02:06.205770Z",
     "start_time": "2023-11-13T11:02:06.158419Z"
    }
   },
   "outputs": [
    {
     "name": "stderr",
     "output_type": "stream",
     "text": [
      "Line_11.jupyter.kts (1:1 - 5) Unresolved reference: plot\n",
      "Line_11.jupyter.kts (2:5 - 9) Unresolved reference: line\n",
      "Line_11.jupyter.kts (3:9 - 10) Unresolved reference: x\n",
      "Line_11.jupyter.kts (4:9 - 10) Unresolved reference: y"
     ]
    }
   ],
   "source": [
    "plot(pDataMap) {\n",
    "    line {\n",
    "        x(xSrc)\n",
    "        y(ySrc)\n",
    "    }\n",
    "}"
   ]
  },
  {
   "cell_type": "code",
   "execution_count": 7,
   "id": "72efb291",
   "metadata": {
    "ExecuteTime": {
     "start_time": "2023-11-13T11:02:06.204013Z"
    }
   },
   "outputs": [
    {
     "name": "stderr",
     "output_type": "stream",
     "text": [
      "Line_12.jupyter.kts (1:1 - 5) Unresolved reference: plot\n",
      "Line_12.jupyter.kts (2:5 - 9) Expression 'path' cannot be invoked as a function. The function 'invoke()' is not found\n",
      "Line_12.jupyter.kts (2:5 - 9) Unresolved reference. None of the following candidates is applicable because of receiver type mismatch: \n",
      "public val AnyCol /* = DataColumn<*> */.path: ColumnPath defined in org.jetbrains.kotlinx.dataframe\n",
      "public val ColumnsContainer<ColumnDescription>.path: DataColumn<ColumnPath> defined in org.jetbrains.kotlinx.dataframe.api\n",
      "public val ColumnsContainer<ColumnDescription?>.path: DataColumn<ColumnPath?> defined in org.jetbrains.kotlinx.dataframe.api\n",
      "public val DataRow<ColumnDescription>.path: ColumnPath defined in org.jetbrains.kotlinx.dataframe.api\n",
      "public val DataRow<ColumnDescription?>.path: ColumnPath? defined in org.jetbrains.kotlinx.dataframe.api\n",
      "Line_12.jupyter.kts (3:9 - 10) Unresolved reference: x\n",
      "Line_12.jupyter.kts (4:9 - 10) Unresolved reference: y"
     ]
    }
   ],
   "source": [
    "plot(pDataMap) {\n",
    "    path {\n",
    "        x(xSrc)\n",
    "        y(ySrc)\n",
    "    }\n",
    "}"
   ]
  },
  {
   "cell_type": "code",
   "execution_count": 8,
   "id": "e9ee7717",
   "metadata": {
    "ExecuteTime": {
     "end_time": "2023-11-13T11:02:06.324948Z",
     "start_time": "2023-11-13T11:02:06.267690Z"
    }
   },
   "outputs": [
    {
     "name": "stderr",
     "output_type": "stream",
     "text": [
      "Line_13.jupyter.kts (1:1 - 5) Unresolved reference: plot\n",
      "Line_13.jupyter.kts (2:5 - 9) Unresolved reference. None of the following candidates is applicable because of receiver type mismatch: \n",
      "public infix fun CharProgression.step(step: Int): CharProgression defined in kotlin.ranges\n",
      "public infix fun IntProgression.step(step: Int): IntProgression defined in kotlin.ranges\n",
      "public infix fun LongProgression.step(step: Long): LongProgression defined in kotlin.ranges\n",
      "public infix fun UIntProgression.step(step: Int): UIntProgression defined in kotlin.ranges\n",
      "public infix fun ULongProgression.step(step: Long): ULongProgression defined in kotlin.ranges\n",
      "Line_13.jupyter.kts (3:9 - 10) Unresolved reference: x\n",
      "Line_13.jupyter.kts (4:9 - 10) Unresolved reference: y"
     ]
    }
   ],
   "source": [
    "plot(pDataMap) {\n",
    "    step  {\n",
    "        x(xSrc)\n",
    "        y(ySrc)\n",
    "    }\n",
    "}"
   ]
  },
  {
   "cell_type": "markdown",
   "id": "5ebb12bf",
   "metadata": {},
   "source": [
    "And what is the difference between `geomLine()` and `geomPath()`?\n",
    "\n",
    "Let's have a look at the following example:"
   ]
  },
  {
   "cell_type": "code",
   "execution_count": 9,
   "id": "ec5263cf",
   "metadata": {
    "ExecuteTime": {
     "end_time": "2023-11-13T11:02:06.657911Z",
     "start_time": "2023-11-13T11:02:06.317519Z"
    }
   },
   "outputs": [],
   "source": [
    "fun generateArchimedeanDataMap(n: Int = 25, k: Double = 1.0, a: Double = 1.0): Map<String, List<Double>> {\n",
    "    val phi = List(n) { i -> 2.0 * PI * k * i.toDouble() / (n - 1) }\n",
    "    val r = phi.map { angle -> (a * angle) / (2.0 * PI) }\n",
    "    val x = (r zip phi).map { p -> p.first * cos(p.second) }\n",
    "    val y = (r zip phi).map { p -> p.first * sin(p.second) }\n",
    "    return mapOf(\"x\" to x, \"y\" to y)\n",
    "}\n",
    "\n",
    "val aDataMap = generateArchimedeanDataMap(n = 200, k = 2.0)"
   ]
  },
  {
   "cell_type": "code",
   "execution_count": 10,
   "id": "dfe791d8",
   "metadata": {
    "ExecuteTime": {
     "end_time": "2023-11-13T11:02:06.706724Z",
     "start_time": "2023-11-13T11:02:06.658621Z"
    }
   },
   "outputs": [
    {
     "name": "stderr",
     "output_type": "stream",
     "text": [
      "Line_15.jupyter.kts (1:1 - 5) Unresolved reference: plot\n",
      "Line_15.jupyter.kts (2:5 - 9) Unresolved reference: line\n",
      "Line_15.jupyter.kts (3:9 - 10) Unresolved reference: x\n",
      "Line_15.jupyter.kts (4:9 - 10) Unresolved reference: y\n",
      "Line_15.jupyter.kts (6:5 - 11) Unresolved reference: layout\n",
      "Line_15.jupyter.kts (6:12 - 17) Variable expected"
     ]
    }
   ],
   "source": [
    "plot(aDataMap) {\n",
    "    line {\n",
    "        x(xSrc)\n",
    "        y(ySrc)\n",
    "    }\n",
    "    layout.title = \"Plotting with geomLine()\"\n",
    "}"
   ]
  },
  {
   "cell_type": "code",
   "execution_count": 11,
   "id": "aea4c291",
   "metadata": {
    "ExecuteTime": {
     "start_time": "2023-11-13T11:02:06.706142Z"
    }
   },
   "outputs": [
    {
     "name": "stderr",
     "output_type": "stream",
     "text": [
      "Line_16.jupyter.kts (1:1 - 5) Unresolved reference: plot\n",
      "Line_16.jupyter.kts (2:5 - 9) Expression 'path' cannot be invoked as a function. The function 'invoke()' is not found\n",
      "Line_16.jupyter.kts (2:5 - 9) Unresolved reference. None of the following candidates is applicable because of receiver type mismatch: \n",
      "public val AnyCol /* = DataColumn<*> */.path: ColumnPath defined in org.jetbrains.kotlinx.dataframe\n",
      "public val ColumnsContainer<ColumnDescription>.path: DataColumn<ColumnPath> defined in org.jetbrains.kotlinx.dataframe.api\n",
      "public val ColumnsContainer<ColumnDescription?>.path: DataColumn<ColumnPath?> defined in org.jetbrains.kotlinx.dataframe.api\n",
      "public val DataRow<ColumnDescription>.path: ColumnPath defined in org.jetbrains.kotlinx.dataframe.api\n",
      "public val DataRow<ColumnDescription?>.path: ColumnPath? defined in org.jetbrains.kotlinx.dataframe.api\n",
      "Line_16.jupyter.kts (3:9 - 10) Unresolved reference: x\n",
      "Line_16.jupyter.kts (4:9 - 10) Unresolved reference: y\n",
      "Line_16.jupyter.kts (6:5 - 11) Unresolved reference: layout\n",
      "Line_16.jupyter.kts (6:12 - 17) Variable expected"
     ]
    }
   ],
   "source": [
    "plot(aDataMap) {\n",
    "    path {\n",
    "        x(xSrc)\n",
    "        y(ySrc)\n",
    "    }\n",
    "    layout.title = \"Plotting with geomPath()\"\n",
    "}"
   ]
  },
  {
   "cell_type": "markdown",
   "id": "96c52474",
   "metadata": {},
   "source": [
    "Also an interesting plot could be drawed with `geomSegment()`:"
   ]
  },
  {
   "cell_type": "code",
   "execution_count": 12,
   "id": "a2eada5a",
   "metadata": {
    "ExecuteTime": {
     "end_time": "2023-11-13T11:02:06.848648Z",
     "start_time": "2023-11-13T11:02:06.769431Z"
    }
   },
   "outputs": [
    {
     "name": "stderr",
     "output_type": "stream",
     "text": [
      "Line_17.jupyter.kts (1:1 - 5) Unresolved reference: plot\n",
      "Line_17.jupyter.kts (2:5 - 12) Unresolved reference: segment\n",
      "Line_17.jupyter.kts (3:9 - 15) Unresolved reference: xBegin\n",
      "Line_17.jupyter.kts (4:9 - 15) Unresolved reference: yBegin\n",
      "Line_17.jupyter.kts (5:9 - 13) Unresolved reference: xEnd\n",
      "Line_17.jupyter.kts (6:9 - 13) Unresolved reference: yEnd"
     ]
    }
   ],
   "source": [
    "plot(generateArchimedeanDataMap(n = 50)) {\n",
    "    segment {\n",
    "        xBegin(xSrc)\n",
    "        yBegin(ySrc)\n",
    "        xEnd.constant(0.0)\n",
    "        yEnd.constant(0.0)\n",
    "    }\n",
    "}"
   ]
  }
 ],
 "metadata": {
  "kernelspec": {
   "display_name": "Kotlin",
   "language": "kotlin",
   "name": "kotlin"
  },
  "language_info": {
   "codemirror_mode": "text/x-kotlin",
   "file_extension": ".kt",
   "mimetype": "text/x-kotlin",
   "name": "kotlin",
   "nbconvert_exporter": "",
   "pygments_lexer": "kotlin",
   "version": "1.8.20-Beta"
  }
 },
 "nbformat": 4,
 "nbformat_minor": 5
}
