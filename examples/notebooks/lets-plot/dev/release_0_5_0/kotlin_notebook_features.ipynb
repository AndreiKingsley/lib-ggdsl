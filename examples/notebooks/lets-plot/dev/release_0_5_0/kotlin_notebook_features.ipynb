{
 "cells": [
  {
   "cell_type": "markdown",
   "source": [
    "This notebook demonstrates the features available when working with kandy-lets-plot in [Kotlin Notebook](https://plugins.jetbrains.com/plugin/16340-kotlin-notebook)"
   ],
   "metadata": {
    "collapsed": false
   }
  },
  {
   "cell_type": "code",
   "execution_count": 1,
   "outputs": [],
   "source": [
    "//%use kandy(0.5.0-rc-dev)\n",
    "@file:DependsOn(\"org.jetbrains.kotlinx:kandy-lets-plot:0.5.0-rc-dev\")"
   ],
   "metadata": {
    "collapsed": false,
    "ExecuteTime": {
     "end_time": "2023-11-10T13:51:53.938545Z",
     "start_time": "2023-11-10T13:51:50.140812Z"
    }
   }
  },
  {
   "cell_type": "code",
   "execution_count": 2,
   "outputs": [],
   "source": [
    "%use dataframe(0.12.0)"
   ],
   "metadata": {
    "collapsed": false,
    "ExecuteTime": {
     "end_time": "2023-11-10T13:51:55.313216Z",
     "start_time": "2023-11-10T13:51:53.940152Z"
    }
   }
  },
  {
   "cell_type": "markdown",
   "source": [
    "# Swing render"
   ],
   "metadata": {
    "collapsed": false
   }
  },
  {
   "cell_type": "markdown",
   "source": [
    "By default, Kotlin Notebook uses Swing to display plots:"
   ],
   "metadata": {
    "collapsed": false
   }
  },
  {
   "cell_type": "code",
   "execution_count": 3,
   "outputs": [],
   "source": [
    "import kotlin.random.Random\n",
    "\n",
    "val simpleData = dataFrameOf(\n",
    "    \"time\" to (1..10).toList(),\n",
    "    \"value\" to List(10) { Random.nextDouble(0.0, 1.0) },\n",
    "    \"type\" to (List(5) { \"a\" } + List(5) { \"b\" }).shuffled(),\n",
    "    \"active\" to List(10) { Random.nextBoolean() },\n",
    ")"
   ],
   "metadata": {
    "collapsed": false,
    "ExecuteTime": {
     "end_time": "2023-11-10T13:51:56.628594Z",
     "start_time": "2023-11-10T13:51:55.314926Z"
    }
   }
  },
  {
   "cell_type": "code",
   "execution_count": 4,
   "outputs": [],
   "source": [
    "val plot = simpleData.plot {\n",
    "    points {\n",
    "        x(time)\n",
    "        y(value)\n",
    "        color(type)\n",
    "        size = 6.0\n",
    "\n",
    "        tooltips(type, active)\n",
    "    }\n",
    "}"
   ],
   "metadata": {
    "collapsed": false,
    "ExecuteTime": {
     "end_time": "2023-11-10T13:51:57.163270Z",
     "start_time": "2023-11-10T13:51:56.630886Z"
    }
   }
  },
  {
   "cell_type": "code",
   "execution_count": 5,
   "outputs": [
    {
     "data": {
      "text/html": "            <iframe src='about:blank' style='border:none !important;' width='600' height='400' srcdoc=\"&lt;html lang=&quot;en&quot;>\n   &lt;head>\n       &lt;style> html, body { margin: 0; overflow: hidden; } &lt;/style>\n       &lt;script type=&quot;text/javascript&quot; data-lets-plot-script=&quot;library&quot; src=&quot;https://cdn.jsdelivr.net/gh/JetBrains/lets-plot@v4.0.1/js-package/distr/lets-plot.min.js&quot;>&lt;/script>\n   &lt;/head>\n   &lt;body>\n          &lt;div id=&quot;OpfWpY&quot;>&lt;/div>\n   &lt;script type=&quot;text/javascript&quot; data-lets-plot-script=&quot;plot&quot;>\n       var plotSpec={\n&quot;mapping&quot;:{\n},\n&quot;data&quot;:{\n&quot;active&quot;:[false,true,true,true,false,false,false,false,false,true],\n&quot;time&quot;:[1.0,2.0,3.0,4.0,5.0,6.0,7.0,8.0,9.0,10.0],\n&quot;type&quot;:[&quot;b&quot;,&quot;b&quot;,&quot;a&quot;,&quot;a&quot;,&quot;b&quot;,&quot;a&quot;,&quot;b&quot;,&quot;b&quot;,&quot;a&quot;,&quot;a&quot;],\n&quot;value&quot;:[0.08251227896654156,0.5848450237518364,0.02729070152107238,0.556931724781022,0.548493919162769,0.27288162486563083,0.21374955914659988,0.26485961454338935,0.5534041298159895,0.739903499400028]\n},\n&quot;kind&quot;:&quot;plot&quot;,\n&quot;scales&quot;:[{\n&quot;aesthetic&quot;:&quot;x&quot;,\n&quot;limits&quot;:[null,null]\n},{\n&quot;aesthetic&quot;:&quot;y&quot;,\n&quot;limits&quot;:[null,null]\n},{\n&quot;aesthetic&quot;:&quot;color&quot;,\n&quot;discrete&quot;:true\n}],\n&quot;layers&quot;:[{\n&quot;mapping&quot;:{\n&quot;x&quot;:&quot;time&quot;,\n&quot;y&quot;:&quot;value&quot;,\n&quot;color&quot;:&quot;type&quot;\n},\n&quot;stat&quot;:&quot;identity&quot;,\n&quot;size&quot;:6.0,\n&quot;sampling&quot;:&quot;none&quot;,\n&quot;position&quot;:&quot;identity&quot;,\n&quot;geom&quot;:&quot;point&quot;,\n&quot;tooltips&quot;:{\n&quot;variables&quot;:[&quot;type&quot;,&quot;active&quot;]\n},\n&quot;data&quot;:{\n}\n}]\n};\n       var plotContainer = document.getElementById(&quot;OpfWpY&quot;);\n       LetsPlot.buildPlotFromProcessedSpecs(plotSpec, -1, -1, plotContainer);\n   &lt;/script>\n   &lt;/body>\n&lt;/html>\"></iframe>            \n        <svg id=f1fd7400-53f0-4c8a-8849-35948c97823c xmlns=\"http://www.w3.org/2000/svg\" xmlns:xlink=\"http://www.w3.org/1999/xlink\" class=\"plt-container\" width=\"600.0\" height=\"400.0\">\n  <style type=\"text/css\">\n  .plt-container {\n   font-family: Lucida Grande, sans-serif;\n   user-select: none;\n   -webkit-user-select: none;\n   -moz-user-select: none;\n   -ms-user-select: none;\n}\ntext {\n   text-rendering: optimizeLegibility;\n}\n#pOlitFW .plot-title {\n   fill: #474747;\n   font-family: Lucida Grande, sans-serif;\n   font-size: 16.0px;\n   font-weight: normal;\n   font-style: normal;   \n}\n#pOlitFW .plot-subtitle {\n   fill: #474747;\n   font-family: Lucida Grande, sans-serif;\n   font-size: 15.0px;\n   font-weight: normal;\n   font-style: normal;   \n}\n#pOlitFW .plot-caption {\n   fill: #474747;\n   font-family: Lucida Grande, sans-serif;\n   font-size: 13.0px;\n   font-weight: normal;\n   font-style: normal;   \n}\n#pOlitFW .legend-title {\n   fill: #474747;\n   font-family: Lucida Grande, sans-serif;\n   font-size: 15.0px;\n   font-weight: normal;\n   font-style: normal;   \n}\n#pOlitFW .legend-item {\n   fill: #474747;\n   font-family: Lucida Grande, sans-serif;\n   font-size: 13.0px;\n   font-weight: normal;\n   font-style: normal;   \n}\n#pOlitFW .axis-title-x {\n   fill: #474747;\n   font-family: Lucida Grande, sans-serif;\n   font-size: 15.0px;\n   font-weight: normal;\n   font-style: normal;   \n}\n#pOlitFW .axis-text-x {\n   fill: #474747;\n   font-family: Lucida Grande, sans-serif;\n   font-size: 13.0px;\n   font-weight: normal;\n   font-style: normal;   \n}\n#d2fRJH3 .axis-tooltip-text-x {\n   fill: #ffffff;\n   font-family: Lucida Grande, sans-serif;\n   font-size: 13.0px;\n   font-weight: normal;\n   font-style: normal;   \n}\n#pOlitFW .axis-title-y {\n   fill: #474747;\n   font-family: Lucida Grande, sans-serif;\n   font-size: 15.0px;\n   font-weight: normal;\n   font-style: normal;   \n}\n#pOlitFW .axis-text-y {\n   fill: #474747;\n   font-family: Lucida Grande, sans-serif;\n   font-size: 13.0px;\n   font-weight: normal;\n   font-style: normal;   \n}\n#d2fRJH3 .axis-tooltip-text-y {\n   fill: #ffffff;\n   font-family: Lucida Grande, sans-serif;\n   font-size: 13.0px;\n   font-weight: normal;\n   font-style: normal;   \n}\n#pOlitFW .facet-strip-text-x {\n   fill: #474747;\n   font-family: Lucida Grande, sans-serif;\n   font-size: 13.0px;\n   font-weight: normal;\n   font-style: normal;   \n}\n#pOlitFW .facet-strip-text-y {\n   fill: #474747;\n   font-family: Lucida Grande, sans-serif;\n   font-size: 13.0px;\n   font-weight: normal;\n   font-style: normal;   \n}\n#d2fRJH3 .tooltip-text {\n   fill: #474747;\n   font-family: Lucida Grande, sans-serif;\n   font-size: 13.0px;\n   font-weight: normal;\n   font-style: normal;   \n}\n#d2fRJH3 .tooltip-title {\n   fill: #474747;\n   font-family: Lucida Grande, sans-serif;\n   font-size: 13.0px;\n   font-weight: bold;\n   font-style: normal;   \n}\n#d2fRJH3 .tooltip-label {\n   fill: #474747;\n   font-family: Lucida Grande, sans-serif;\n   font-size: 13.0px;\n   font-weight: bold;\n   font-style: normal;   \n}\n\n  </style>\n  <g id=\"pOlitFW\">\n    <path fill-rule=\"evenodd\" fill=\"rgb(255,255,255)\" fill-opacity=\"1.0\" d=\"M0.0 0.0 L0.0 400.0 L600.0 400.0 L600.0 0.0 Z\">\n    </path>\n    <g transform=\"translate(23.0 10.0 ) \">\n      <g transform=\"translate(27.034701220281416 344.0 ) \">\n        <line x1=\"71.03453195605543\" y1=\"-0.0\" x2=\"71.03453195605543\" y2=\"-344.0\" stroke=\"rgb(233,233,233)\" stroke-opacity=\"1.0\" stroke-width=\"1.0\">\n        </line>\n        <line x1=\"169.01319672302844\" y1=\"-0.0\" x2=\"169.01319672302844\" y2=\"-344.0\" stroke=\"rgb(233,233,233)\" stroke-opacity=\"1.0\" stroke-width=\"1.0\">\n        </line>\n        <line x1=\"266.9918614900015\" y1=\"-0.0\" x2=\"266.9918614900015\" y2=\"-344.0\" stroke=\"rgb(233,233,233)\" stroke-opacity=\"1.0\" stroke-width=\"1.0\">\n        </line>\n        <line x1=\"364.9705262569745\" y1=\"-0.0\" x2=\"364.9705262569745\" y2=\"-344.0\" stroke=\"rgb(233,233,233)\" stroke-opacity=\"1.0\" stroke-width=\"1.0\">\n        </line>\n        <line x1=\"462.9491910239475\" y1=\"-0.0\" x2=\"462.9491910239475\" y2=\"-344.0\" stroke=\"rgb(233,233,233)\" stroke-opacity=\"1.0\" stroke-width=\"1.0\">\n        </line>\n        <g transform=\"translate(71.03453195605543 0.0 ) \">\n          <line stroke-width=\"1.0\" stroke=\"rgb(71,71,71)\" stroke-opacity=\"1.0\" x2=\"0.0\" y2=\"4.0\">\n          </line>\n          <g transform=\"translate(0.0 7.0 ) \">\n            <text class=\"axis-text-x\" text-anchor=\"middle\" dy=\"0.7em\">\n            2\n            </text>\n          </g>\n        </g>\n        <g transform=\"translate(169.01319672302844 0.0 ) \">\n          <line stroke-width=\"1.0\" stroke=\"rgb(71,71,71)\" stroke-opacity=\"1.0\" x2=\"0.0\" y2=\"4.0\">\n          </line>\n          <g transform=\"translate(0.0 7.0 ) \">\n            <text class=\"axis-text-x\" text-anchor=\"middle\" dy=\"0.7em\">\n            4\n            </text>\n          </g>\n        </g>\n        <g transform=\"translate(266.9918614900015 0.0 ) \">\n          <line stroke-width=\"1.0\" stroke=\"rgb(71,71,71)\" stroke-opacity=\"1.0\" x2=\"0.0\" y2=\"4.0\">\n          </line>\n          <g transform=\"translate(0.0 7.0 ) \">\n            <text class=\"axis-text-x\" text-anchor=\"middle\" dy=\"0.7em\">\n            6\n            </text>\n          </g>\n        </g>\n        <g transform=\"translate(364.9705262569745 0.0 ) \">\n          <line stroke-width=\"1.0\" stroke=\"rgb(71,71,71)\" stroke-opacity=\"1.0\" x2=\"0.0\" y2=\"4.0\">\n          </line>\n          <g transform=\"translate(0.0 7.0 ) \">\n            <text class=\"axis-text-x\" text-anchor=\"middle\" dy=\"0.7em\">\n            8\n            </text>\n          </g>\n        </g>\n        <g transform=\"translate(462.9491910239475 0.0 ) \">\n          <line stroke-width=\"1.0\" stroke=\"rgb(71,71,71)\" stroke-opacity=\"1.0\" x2=\"0.0\" y2=\"4.0\">\n          </line>\n          <g transform=\"translate(0.0 7.0 ) \">\n            <text class=\"axis-text-x\" text-anchor=\"middle\" dy=\"0.7em\">\n            10\n            </text>\n          </g>\n        </g>\n        <line x1=\"0.0\" y1=\"0.0\" x2=\"484.9943905965163\" y2=\"0.0\" stroke-width=\"1.0\" stroke=\"rgb(71,71,71)\" stroke-opacity=\"1.0\">\n        </line>\n      </g>\n      <g transform=\"translate(27.034701220281416 0.0 ) \">\n        <line x1=\"0.0\" y1=\"296.45545188686725\" x2=\"484.9943905965163\" y2=\"296.45545188686725\" stroke=\"rgb(233,233,233)\" stroke-opacity=\"1.0\" stroke-width=\"1.0\">\n        </line>\n        <line x1=\"0.0\" y1=\"252.57085233180953\" x2=\"484.9943905965163\" y2=\"252.57085233180953\" stroke=\"rgb(233,233,233)\" stroke-opacity=\"1.0\" stroke-width=\"1.0\">\n        </line>\n        <line x1=\"0.0\" y1=\"208.68625277675176\" x2=\"484.9943905965163\" y2=\"208.68625277675176\" stroke=\"rgb(233,233,233)\" stroke-opacity=\"1.0\" stroke-width=\"1.0\">\n        </line>\n        <line x1=\"0.0\" y1=\"164.801653221694\" x2=\"484.9943905965163\" y2=\"164.801653221694\" stroke=\"rgb(233,233,233)\" stroke-opacity=\"1.0\" stroke-width=\"1.0\">\n        </line>\n        <line x1=\"0.0\" y1=\"120.91705366663626\" x2=\"484.9943905965163\" y2=\"120.91705366663626\" stroke=\"rgb(233,233,233)\" stroke-opacity=\"1.0\" stroke-width=\"1.0\">\n        </line>\n        <line x1=\"0.0\" y1=\"77.03245411157855\" x2=\"484.9943905965163\" y2=\"77.03245411157855\" stroke=\"rgb(233,233,233)\" stroke-opacity=\"1.0\" stroke-width=\"1.0\">\n        </line>\n        <line x1=\"0.0\" y1=\"33.14785455652077\" x2=\"484.9943905965163\" y2=\"33.14785455652077\" stroke=\"rgb(233,233,233)\" stroke-opacity=\"1.0\" stroke-width=\"1.0\">\n        </line>\n        <g transform=\"translate(0.0 340.340051441925 ) \">\n          <g transform=\"translate(-3.0 0.0 ) \">\n            <text class=\"axis-text-y\" text-anchor=\"end\" dy=\"0.35em\">\n            0.0\n            </text>\n          </g>\n        </g>\n        <g transform=\"translate(0.0 296.45545188686725 ) \">\n          <g transform=\"translate(-3.0 0.0 ) \">\n            <text class=\"axis-text-y\" text-anchor=\"end\" dy=\"0.35em\">\n            0.1\n            </text>\n          </g>\n        </g>\n        <g transform=\"translate(0.0 252.57085233180953 ) \">\n          <g transform=\"translate(-3.0 0.0 ) \">\n            <text class=\"axis-text-y\" text-anchor=\"end\" dy=\"0.35em\">\n            0.2\n            </text>\n          </g>\n        </g>\n        <g transform=\"translate(0.0 208.68625277675176 ) \">\n          <g transform=\"translate(-3.0 0.0 ) \">\n            <text class=\"axis-text-y\" text-anchor=\"end\" dy=\"0.35em\">\n            0.3\n            </text>\n          </g>\n        </g>\n        <g transform=\"translate(0.0 164.801653221694 ) \">\n          <g transform=\"translate(-3.0 0.0 ) \">\n            <text class=\"axis-text-y\" text-anchor=\"end\" dy=\"0.35em\">\n            0.4\n            </text>\n          </g>\n        </g>\n        <g transform=\"translate(0.0 120.91705366663626 ) \">\n          <g transform=\"translate(-3.0 0.0 ) \">\n            <text class=\"axis-text-y\" text-anchor=\"end\" dy=\"0.35em\">\n            0.5\n            </text>\n          </g>\n        </g>\n        <g transform=\"translate(0.0 77.03245411157855 ) \">\n          <g transform=\"translate(-3.0 0.0 ) \">\n            <text class=\"axis-text-y\" text-anchor=\"end\" dy=\"0.35em\">\n            0.6\n            </text>\n          </g>\n        </g>\n        <g transform=\"translate(0.0 33.14785455652077 ) \">\n          <g transform=\"translate(-3.0 0.0 ) \">\n            <text class=\"axis-text-y\" text-anchor=\"end\" dy=\"0.35em\">\n            0.7\n            </text>\n          </g>\n        </g>\n      </g>\n      <g transform=\"translate(27.034701220281416 0.0 ) \" clip-path=\"url(#c7c3n2b)\" clip-bounds-jfx=\"[rect (0.0, 0.0), (484.9943905965163, 344.0)]\">\n        <defs>\n          <clipPath id=\"c7c3n2b\">\n            <rect x=\"0.0\" y=\"0.0\" width=\"484.9943905965163\" height=\"344.0\">\n            </rect>\n          </clipPath>\n        </defs>\n        <g>\n          \n          <g >\n            <circle fill=\"#e41a1c\" stroke=\"#e41a1c\" stroke-opacity=\"0.0\" stroke-width=\"0.0\" cx=\"22.045199572568926\" cy=\"304.12986823370613\" r=\"6.6000000000000005\" />\n            <circle fill=\"#e41a1c\" stroke=\"#e41a1c\" stroke-opacity=\"0.0\" stroke-width=\"0.0\" cx=\"71.03453195605543\" cy=\"83.68315475074922\" r=\"6.6000000000000005\" />\n            <circle fill=\"#377eb8\" stroke=\"#377eb8\" stroke-opacity=\"0.0\" stroke-width=\"0.0\" cx=\"120.02386433954194\" cy=\"328.3636363636364\" r=\"6.6000000000000005\" />\n            <circle fill=\"#377eb8\" stroke=\"#377eb8\" stroke-opacity=\"0.0\" stroke-width=\"0.0\" cx=\"169.01319672302844\" cy=\"95.93279422669715\" r=\"6.6000000000000005\" />\n            <circle fill=\"#e41a1c\" stroke=\"#e41a1c\" stroke-opacity=\"0.0\" stroke-width=\"0.0\" cx=\"218.00252910651494\" cy=\"99.63569143350168\" r=\"6.6000000000000005\" />\n            <circle fill=\"#377eb8\" stroke=\"#377eb8\" stroke-opacity=\"0.0\" stroke-width=\"0.0\" cx=\"266.9918614900015\" cy=\"220.58704311030803\" r=\"6.6000000000000005\" />\n            <circle fill=\"#e41a1c\" stroke=\"#e41a1c\" stroke-opacity=\"0.0\" stroke-width=\"0.0\" cx=\"315.981193873488\" cy=\"246.53691335973835\" r=\"6.6000000000000005\" />\n            <circle fill=\"#e41a1c\" stroke=\"#e41a1c\" stroke-opacity=\"0.0\" stroke-width=\"0.0\" cx=\"364.9705262569745\" cy=\"224.1074702164891\" r=\"6.6000000000000005\" />\n            <circle fill=\"#377eb8\" stroke=\"#377eb8\" stroke-opacity=\"0.0\" stroke-width=\"0.0\" cx=\"413.959858640461\" cy=\"97.48086515102605\" r=\"6.6000000000000005\" />\n            <circle fill=\"#377eb8\" stroke=\"#377eb8\" stroke-opacity=\"0.0\" stroke-width=\"0.0\" cx=\"462.9491910239475\" cy=\"15.636363636363626\" r=\"6.6000000000000005\" />\n          </g>\n        </g>\n      </g>\n    </g>\n    <g transform=\"translate(14.5 182.0 ) rotate(-90.0 ) \">\n      <text class=\"axis-title-y\" y=\"0.0\" text-anchor=\"middle\">\n      value\n      </text>\n    </g>\n    <g transform=\"translate(292.5318965185396 391.5 ) \">\n      <text class=\"axis-title-x\" y=\"0.0\" text-anchor=\"middle\">\n      time\n      </text>\n    </g>\n    <g transform=\"translate(545.0290918167977 137.75 ) \">\n      <rect x=\"5.0\" y=\"5.0\" height=\"78.5\" width=\"44.970908183202305\" stroke=\"rgb(71,71,71)\" stroke-opacity=\"1.0\" stroke-width=\"0.0\" fill=\"rgb(255,255,255)\" fill-opacity=\"1.0\">\n      </rect>\n      <g transform=\"translate(10.0 10.0 ) \">\n        <g transform=\"translate(0.0 10.5 ) \">\n          <text class=\"legend-title\" y=\"0.0\">\n          type\n          </text>\n        </g>\n        <g transform=\"translate(0.0 22.5 ) \">\n          <g transform=\"\">\n            <g>\n              <rect x=\"0.0\" y=\"0.0\" height=\"23.0\" width=\"23.0\" stroke-width=\"0.0\" fill=\"rgb(255,255,255)\" fill-opacity=\"1.0\">\n              </rect>\n              <g transform=\"translate(1.0 1.0 ) \">\n                <g>\n                  \n                  <g >\n                    <circle fill=\"#e41a1c\" stroke=\"#e41a1c\" stroke-opacity=\"0.0\" stroke-width=\"0.0\" cx=\"10.5\" cy=\"10.5\" r=\"5.5\" />\n                  </g>\n                </g>\n              </g>\n              <rect x=\"0.0\" y=\"0.0\" height=\"23.0\" width=\"23.0\" stroke=\"rgb(255,255,255)\" stroke-opacity=\"1.0\" stroke-width=\"1.0\" fill-opacity=\"0.0\">\n              </rect>\n            </g>\n            <g transform=\"translate(26.9903027277341 16.05 ) \">\n              <text class=\"legend-item\" y=\"0.0\">\n              b\n              </text>\n            </g>\n          </g>\n          <g transform=\"translate(0.0 23.0 ) \">\n            <g>\n              <rect x=\"0.0\" y=\"0.0\" height=\"23.0\" width=\"23.0\" stroke-width=\"0.0\" fill=\"rgb(255,255,255)\" fill-opacity=\"1.0\">\n              </rect>\n              <g transform=\"translate(1.0 1.0 ) \">\n                <g>\n                  \n                  <g >\n                    <circle fill=\"#377eb8\" stroke=\"#377eb8\" stroke-opacity=\"0.0\" stroke-width=\"0.0\" cx=\"10.5\" cy=\"10.5\" r=\"5.5\" />\n                  </g>\n                </g>\n              </g>\n              <rect x=\"0.0\" y=\"0.0\" height=\"23.0\" width=\"23.0\" stroke=\"rgb(255,255,255)\" stroke-opacity=\"1.0\" stroke-width=\"1.0\" fill-opacity=\"0.0\">\n              </rect>\n            </g>\n            <g transform=\"translate(26.9903027277341 16.05 ) \">\n              <text class=\"legend-item\" y=\"0.0\">\n              a\n              </text>\n            </g>\n          </g>\n        </g>\n      </g>\n    </g>\n    <path fill=\"rgb(0,0,0)\" fill-opacity=\"0.0\" stroke=\"rgb(71,71,71)\" stroke-opacity=\"1.0\" stroke-width=\"0.0\" d=\"M0.0 0.0 L0.0 400.0 L600.0 400.0 L600.0 0.0 Z\">\n    </path>\n  </g>\n  <g id=\"d2fRJH3\">\n  </g>\n</svg>\n        <script>document.getElementById(\"f1fd7400-53f0-4c8a-8849-35948c97823c\").style.display = \"none\";</script>",
      "application/plot+json": {
       "output_type": "lets_plot_spec",
       "output": {
        "mapping": {},
        "data": {
         "active": [
          false,
          true,
          true,
          true,
          false,
          false,
          false,
          false,
          false,
          true
         ],
         "time": [
          1.0,
          2.0,
          3.0,
          4.0,
          5.0,
          6.0,
          7.0,
          8.0,
          9.0,
          10.0
         ],
         "type": [
          "b",
          "b",
          "a",
          "a",
          "b",
          "a",
          "b",
          "b",
          "a",
          "a"
         ],
         "value": [
          0.08251228,
          0.584845,
          0.027290702,
          0.55693173,
          0.5484939,
          0.27288163,
          0.21374956,
          0.26485962,
          0.55340415,
          0.7399035
         ]
        },
        "kind": "plot",
        "scales": [
         {
          "aesthetic": "x",
          "limits": [
           null,
           null
          ]
         },
         {
          "aesthetic": "y",
          "limits": [
           null,
           null
          ]
         },
         {
          "aesthetic": "color",
          "discrete": true
         }
        ],
        "layers": [
         {
          "mapping": {
           "x": "time",
           "y": "value",
           "color": "type"
          },
          "stat": "identity",
          "size": 6.0,
          "sampling": "none",
          "position": "identity",
          "geom": "point",
          "tooltips": {
           "variables": [
            "type",
            "active"
           ]
          }
         }
        ]
       },
       "apply_color_scheme": true,
       "swing_enabled": true
      }
     },
     "execution_count": 5,
     "metadata": {},
     "output_type": "execute_result"
    }
   ],
   "source": [
    "plot"
   ],
   "metadata": {
    "collapsed": false,
    "ExecuteTime": {
     "end_time": "2023-11-10T13:51:57.689569Z",
     "start_time": "2023-11-10T13:51:57.165484Z"
    }
   }
  },
  {
   "cell_type": "markdown",
   "source": [
    "Swing rendering has a lot of advantages: it is more performant (when using tooltips), you can change its size (in this case it will be scaled), and also has a dynamically changing color scheme (see [the relevant section](#dynamic-color-scheme)).\n",
    "\n",
    "However, you can disable it manually and use web rendering (may not work at all in Kotlin Notebook). To do this, before displaying the plot, it is necessary to change the corresponding option in `kandyConfig` (notebook parameter)"
   ],
   "metadata": {
    "collapsed": false
   }
  },
  {
   "cell_type": "code",
   "execution_count": 6,
   "outputs": [],
   "source": [
    "kandyConfig.swingEnabled = false"
   ],
   "metadata": {
    "collapsed": false,
    "ExecuteTime": {
     "end_time": "2023-11-10T13:51:57.745542Z",
     "start_time": "2023-11-10T13:51:57.688996Z"
    }
   }
  },
  {
   "cell_type": "code",
   "execution_count": 7,
   "outputs": [
    {
     "data": {
      "text/html": "            <iframe src='about:blank' style='border:none !important;' width='600' height='400' srcdoc=\"&lt;html lang=&quot;en&quot;>\n   &lt;head>\n       &lt;style> html, body { margin: 0; overflow: hidden; } &lt;/style>\n       &lt;script type=&quot;text/javascript&quot; data-lets-plot-script=&quot;library&quot; src=&quot;https://cdn.jsdelivr.net/gh/JetBrains/lets-plot@v4.0.1/js-package/distr/lets-plot.min.js&quot;>&lt;/script>\n   &lt;/head>\n   &lt;body>\n          &lt;div id=&quot;qWhL0i&quot;>&lt;/div>\n   &lt;script type=&quot;text/javascript&quot; data-lets-plot-script=&quot;plot&quot;>\n       var plotSpec={\n&quot;mapping&quot;:{\n},\n&quot;data&quot;:{\n&quot;active&quot;:[false,true,true,true,false,false,false,false,false,true],\n&quot;time&quot;:[1.0,2.0,3.0,4.0,5.0,6.0,7.0,8.0,9.0,10.0],\n&quot;type&quot;:[&quot;b&quot;,&quot;b&quot;,&quot;a&quot;,&quot;a&quot;,&quot;b&quot;,&quot;a&quot;,&quot;b&quot;,&quot;b&quot;,&quot;a&quot;,&quot;a&quot;],\n&quot;value&quot;:[0.08251227896654156,0.5848450237518364,0.02729070152107238,0.556931724781022,0.548493919162769,0.27288162486563083,0.21374955914659988,0.26485961454338935,0.5534041298159895,0.739903499400028]\n},\n&quot;kind&quot;:&quot;plot&quot;,\n&quot;scales&quot;:[{\n&quot;aesthetic&quot;:&quot;x&quot;,\n&quot;limits&quot;:[null,null]\n},{\n&quot;aesthetic&quot;:&quot;y&quot;,\n&quot;limits&quot;:[null,null]\n},{\n&quot;aesthetic&quot;:&quot;color&quot;,\n&quot;discrete&quot;:true\n}],\n&quot;layers&quot;:[{\n&quot;mapping&quot;:{\n&quot;x&quot;:&quot;time&quot;,\n&quot;y&quot;:&quot;value&quot;,\n&quot;color&quot;:&quot;type&quot;\n},\n&quot;stat&quot;:&quot;identity&quot;,\n&quot;size&quot;:6.0,\n&quot;sampling&quot;:&quot;none&quot;,\n&quot;position&quot;:&quot;identity&quot;,\n&quot;geom&quot;:&quot;point&quot;,\n&quot;tooltips&quot;:{\n&quot;variables&quot;:[&quot;type&quot;,&quot;active&quot;]\n},\n&quot;data&quot;:{\n}\n}]\n};\n       var plotContainer = document.getElementById(&quot;qWhL0i&quot;);\n       LetsPlot.buildPlotFromProcessedSpecs(plotSpec, -1, -1, plotContainer);\n   &lt;/script>\n   &lt;/body>\n&lt;/html>\"></iframe>            \n        <svg id=8f96935d-de64-4b58-8952-50142a590888 xmlns=\"http://www.w3.org/2000/svg\" xmlns:xlink=\"http://www.w3.org/1999/xlink\" class=\"plt-container\" width=\"600.0\" height=\"400.0\">\n  <style type=\"text/css\">\n  .plt-container {\n   font-family: Lucida Grande, sans-serif;\n   user-select: none;\n   -webkit-user-select: none;\n   -moz-user-select: none;\n   -ms-user-select: none;\n}\ntext {\n   text-rendering: optimizeLegibility;\n}\n#pIq2lYQ .plot-title {\n   fill: #474747;\n   font-family: Lucida Grande, sans-serif;\n   font-size: 16.0px;\n   font-weight: normal;\n   font-style: normal;   \n}\n#pIq2lYQ .plot-subtitle {\n   fill: #474747;\n   font-family: Lucida Grande, sans-serif;\n   font-size: 15.0px;\n   font-weight: normal;\n   font-style: normal;   \n}\n#pIq2lYQ .plot-caption {\n   fill: #474747;\n   font-family: Lucida Grande, sans-serif;\n   font-size: 13.0px;\n   font-weight: normal;\n   font-style: normal;   \n}\n#pIq2lYQ .legend-title {\n   fill: #474747;\n   font-family: Lucida Grande, sans-serif;\n   font-size: 15.0px;\n   font-weight: normal;\n   font-style: normal;   \n}\n#pIq2lYQ .legend-item {\n   fill: #474747;\n   font-family: Lucida Grande, sans-serif;\n   font-size: 13.0px;\n   font-weight: normal;\n   font-style: normal;   \n}\n#pIq2lYQ .axis-title-x {\n   fill: #474747;\n   font-family: Lucida Grande, sans-serif;\n   font-size: 15.0px;\n   font-weight: normal;\n   font-style: normal;   \n}\n#pIq2lYQ .axis-text-x {\n   fill: #474747;\n   font-family: Lucida Grande, sans-serif;\n   font-size: 13.0px;\n   font-weight: normal;\n   font-style: normal;   \n}\n#dUYPAn2 .axis-tooltip-text-x {\n   fill: #ffffff;\n   font-family: Lucida Grande, sans-serif;\n   font-size: 13.0px;\n   font-weight: normal;\n   font-style: normal;   \n}\n#pIq2lYQ .axis-title-y {\n   fill: #474747;\n   font-family: Lucida Grande, sans-serif;\n   font-size: 15.0px;\n   font-weight: normal;\n   font-style: normal;   \n}\n#pIq2lYQ .axis-text-y {\n   fill: #474747;\n   font-family: Lucida Grande, sans-serif;\n   font-size: 13.0px;\n   font-weight: normal;\n   font-style: normal;   \n}\n#dUYPAn2 .axis-tooltip-text-y {\n   fill: #ffffff;\n   font-family: Lucida Grande, sans-serif;\n   font-size: 13.0px;\n   font-weight: normal;\n   font-style: normal;   \n}\n#pIq2lYQ .facet-strip-text-x {\n   fill: #474747;\n   font-family: Lucida Grande, sans-serif;\n   font-size: 13.0px;\n   font-weight: normal;\n   font-style: normal;   \n}\n#pIq2lYQ .facet-strip-text-y {\n   fill: #474747;\n   font-family: Lucida Grande, sans-serif;\n   font-size: 13.0px;\n   font-weight: normal;\n   font-style: normal;   \n}\n#dUYPAn2 .tooltip-text {\n   fill: #474747;\n   font-family: Lucida Grande, sans-serif;\n   font-size: 13.0px;\n   font-weight: normal;\n   font-style: normal;   \n}\n#dUYPAn2 .tooltip-title {\n   fill: #474747;\n   font-family: Lucida Grande, sans-serif;\n   font-size: 13.0px;\n   font-weight: bold;\n   font-style: normal;   \n}\n#dUYPAn2 .tooltip-label {\n   fill: #474747;\n   font-family: Lucida Grande, sans-serif;\n   font-size: 13.0px;\n   font-weight: bold;\n   font-style: normal;   \n}\n\n  </style>\n  <g id=\"pIq2lYQ\">\n    <path fill-rule=\"evenodd\" fill=\"rgb(255,255,255)\" fill-opacity=\"1.0\" d=\"M0.0 0.0 L0.0 400.0 L600.0 400.0 L600.0 0.0 Z\">\n    </path>\n    <g transform=\"translate(23.0 10.0 ) \">\n      <g transform=\"translate(27.034701220281416 344.0 ) \">\n        <line x1=\"71.03453195605543\" y1=\"-0.0\" x2=\"71.03453195605543\" y2=\"-344.0\" stroke=\"rgb(233,233,233)\" stroke-opacity=\"1.0\" stroke-width=\"1.0\">\n        </line>\n        <line x1=\"169.01319672302844\" y1=\"-0.0\" x2=\"169.01319672302844\" y2=\"-344.0\" stroke=\"rgb(233,233,233)\" stroke-opacity=\"1.0\" stroke-width=\"1.0\">\n        </line>\n        <line x1=\"266.9918614900015\" y1=\"-0.0\" x2=\"266.9918614900015\" y2=\"-344.0\" stroke=\"rgb(233,233,233)\" stroke-opacity=\"1.0\" stroke-width=\"1.0\">\n        </line>\n        <line x1=\"364.9705262569745\" y1=\"-0.0\" x2=\"364.9705262569745\" y2=\"-344.0\" stroke=\"rgb(233,233,233)\" stroke-opacity=\"1.0\" stroke-width=\"1.0\">\n        </line>\n        <line x1=\"462.9491910239475\" y1=\"-0.0\" x2=\"462.9491910239475\" y2=\"-344.0\" stroke=\"rgb(233,233,233)\" stroke-opacity=\"1.0\" stroke-width=\"1.0\">\n        </line>\n        <g transform=\"translate(71.03453195605543 0.0 ) \">\n          <line stroke-width=\"1.0\" stroke=\"rgb(71,71,71)\" stroke-opacity=\"1.0\" x2=\"0.0\" y2=\"4.0\">\n          </line>\n          <g transform=\"translate(0.0 7.0 ) \">\n            <text class=\"axis-text-x\" text-anchor=\"middle\" dy=\"0.7em\">\n            2\n            </text>\n          </g>\n        </g>\n        <g transform=\"translate(169.01319672302844 0.0 ) \">\n          <line stroke-width=\"1.0\" stroke=\"rgb(71,71,71)\" stroke-opacity=\"1.0\" x2=\"0.0\" y2=\"4.0\">\n          </line>\n          <g transform=\"translate(0.0 7.0 ) \">\n            <text class=\"axis-text-x\" text-anchor=\"middle\" dy=\"0.7em\">\n            4\n            </text>\n          </g>\n        </g>\n        <g transform=\"translate(266.9918614900015 0.0 ) \">\n          <line stroke-width=\"1.0\" stroke=\"rgb(71,71,71)\" stroke-opacity=\"1.0\" x2=\"0.0\" y2=\"4.0\">\n          </line>\n          <g transform=\"translate(0.0 7.0 ) \">\n            <text class=\"axis-text-x\" text-anchor=\"middle\" dy=\"0.7em\">\n            6\n            </text>\n          </g>\n        </g>\n        <g transform=\"translate(364.9705262569745 0.0 ) \">\n          <line stroke-width=\"1.0\" stroke=\"rgb(71,71,71)\" stroke-opacity=\"1.0\" x2=\"0.0\" y2=\"4.0\">\n          </line>\n          <g transform=\"translate(0.0 7.0 ) \">\n            <text class=\"axis-text-x\" text-anchor=\"middle\" dy=\"0.7em\">\n            8\n            </text>\n          </g>\n        </g>\n        <g transform=\"translate(462.9491910239475 0.0 ) \">\n          <line stroke-width=\"1.0\" stroke=\"rgb(71,71,71)\" stroke-opacity=\"1.0\" x2=\"0.0\" y2=\"4.0\">\n          </line>\n          <g transform=\"translate(0.0 7.0 ) \">\n            <text class=\"axis-text-x\" text-anchor=\"middle\" dy=\"0.7em\">\n            10\n            </text>\n          </g>\n        </g>\n        <line x1=\"0.0\" y1=\"0.0\" x2=\"484.9943905965163\" y2=\"0.0\" stroke-width=\"1.0\" stroke=\"rgb(71,71,71)\" stroke-opacity=\"1.0\">\n        </line>\n      </g>\n      <g transform=\"translate(27.034701220281416 0.0 ) \">\n        <line x1=\"0.0\" y1=\"296.45545188686725\" x2=\"484.9943905965163\" y2=\"296.45545188686725\" stroke=\"rgb(233,233,233)\" stroke-opacity=\"1.0\" stroke-width=\"1.0\">\n        </line>\n        <line x1=\"0.0\" y1=\"252.57085233180953\" x2=\"484.9943905965163\" y2=\"252.57085233180953\" stroke=\"rgb(233,233,233)\" stroke-opacity=\"1.0\" stroke-width=\"1.0\">\n        </line>\n        <line x1=\"0.0\" y1=\"208.68625277675176\" x2=\"484.9943905965163\" y2=\"208.68625277675176\" stroke=\"rgb(233,233,233)\" stroke-opacity=\"1.0\" stroke-width=\"1.0\">\n        </line>\n        <line x1=\"0.0\" y1=\"164.801653221694\" x2=\"484.9943905965163\" y2=\"164.801653221694\" stroke=\"rgb(233,233,233)\" stroke-opacity=\"1.0\" stroke-width=\"1.0\">\n        </line>\n        <line x1=\"0.0\" y1=\"120.91705366663626\" x2=\"484.9943905965163\" y2=\"120.91705366663626\" stroke=\"rgb(233,233,233)\" stroke-opacity=\"1.0\" stroke-width=\"1.0\">\n        </line>\n        <line x1=\"0.0\" y1=\"77.03245411157855\" x2=\"484.9943905965163\" y2=\"77.03245411157855\" stroke=\"rgb(233,233,233)\" stroke-opacity=\"1.0\" stroke-width=\"1.0\">\n        </line>\n        <line x1=\"0.0\" y1=\"33.14785455652077\" x2=\"484.9943905965163\" y2=\"33.14785455652077\" stroke=\"rgb(233,233,233)\" stroke-opacity=\"1.0\" stroke-width=\"1.0\">\n        </line>\n        <g transform=\"translate(0.0 340.340051441925 ) \">\n          <g transform=\"translate(-3.0 0.0 ) \">\n            <text class=\"axis-text-y\" text-anchor=\"end\" dy=\"0.35em\">\n            0.0\n            </text>\n          </g>\n        </g>\n        <g transform=\"translate(0.0 296.45545188686725 ) \">\n          <g transform=\"translate(-3.0 0.0 ) \">\n            <text class=\"axis-text-y\" text-anchor=\"end\" dy=\"0.35em\">\n            0.1\n            </text>\n          </g>\n        </g>\n        <g transform=\"translate(0.0 252.57085233180953 ) \">\n          <g transform=\"translate(-3.0 0.0 ) \">\n            <text class=\"axis-text-y\" text-anchor=\"end\" dy=\"0.35em\">\n            0.2\n            </text>\n          </g>\n        </g>\n        <g transform=\"translate(0.0 208.68625277675176 ) \">\n          <g transform=\"translate(-3.0 0.0 ) \">\n            <text class=\"axis-text-y\" text-anchor=\"end\" dy=\"0.35em\">\n            0.3\n            </text>\n          </g>\n        </g>\n        <g transform=\"translate(0.0 164.801653221694 ) \">\n          <g transform=\"translate(-3.0 0.0 ) \">\n            <text class=\"axis-text-y\" text-anchor=\"end\" dy=\"0.35em\">\n            0.4\n            </text>\n          </g>\n        </g>\n        <g transform=\"translate(0.0 120.91705366663626 ) \">\n          <g transform=\"translate(-3.0 0.0 ) \">\n            <text class=\"axis-text-y\" text-anchor=\"end\" dy=\"0.35em\">\n            0.5\n            </text>\n          </g>\n        </g>\n        <g transform=\"translate(0.0 77.03245411157855 ) \">\n          <g transform=\"translate(-3.0 0.0 ) \">\n            <text class=\"axis-text-y\" text-anchor=\"end\" dy=\"0.35em\">\n            0.6\n            </text>\n          </g>\n        </g>\n        <g transform=\"translate(0.0 33.14785455652077 ) \">\n          <g transform=\"translate(-3.0 0.0 ) \">\n            <text class=\"axis-text-y\" text-anchor=\"end\" dy=\"0.35em\">\n            0.7\n            </text>\n          </g>\n        </g>\n      </g>\n      <g transform=\"translate(27.034701220281416 0.0 ) \" clip-path=\"url(#cQCJssL)\" clip-bounds-jfx=\"[rect (0.0, 0.0), (484.9943905965163, 344.0)]\">\n        <defs>\n          <clipPath id=\"cQCJssL\">\n            <rect x=\"0.0\" y=\"0.0\" width=\"484.9943905965163\" height=\"344.0\">\n            </rect>\n          </clipPath>\n        </defs>\n        <g>\n          \n          <g >\n            <circle fill=\"#e41a1c\" stroke=\"#e41a1c\" stroke-opacity=\"0.0\" stroke-width=\"0.0\" cx=\"22.045199572568926\" cy=\"304.12986823370613\" r=\"6.6000000000000005\" />\n            <circle fill=\"#e41a1c\" stroke=\"#e41a1c\" stroke-opacity=\"0.0\" stroke-width=\"0.0\" cx=\"71.03453195605543\" cy=\"83.68315475074922\" r=\"6.6000000000000005\" />\n            <circle fill=\"#377eb8\" stroke=\"#377eb8\" stroke-opacity=\"0.0\" stroke-width=\"0.0\" cx=\"120.02386433954194\" cy=\"328.3636363636364\" r=\"6.6000000000000005\" />\n            <circle fill=\"#377eb8\" stroke=\"#377eb8\" stroke-opacity=\"0.0\" stroke-width=\"0.0\" cx=\"169.01319672302844\" cy=\"95.93279422669715\" r=\"6.6000000000000005\" />\n            <circle fill=\"#e41a1c\" stroke=\"#e41a1c\" stroke-opacity=\"0.0\" stroke-width=\"0.0\" cx=\"218.00252910651494\" cy=\"99.63569143350168\" r=\"6.6000000000000005\" />\n            <circle fill=\"#377eb8\" stroke=\"#377eb8\" stroke-opacity=\"0.0\" stroke-width=\"0.0\" cx=\"266.9918614900015\" cy=\"220.58704311030803\" r=\"6.6000000000000005\" />\n            <circle fill=\"#e41a1c\" stroke=\"#e41a1c\" stroke-opacity=\"0.0\" stroke-width=\"0.0\" cx=\"315.981193873488\" cy=\"246.53691335973835\" r=\"6.6000000000000005\" />\n            <circle fill=\"#e41a1c\" stroke=\"#e41a1c\" stroke-opacity=\"0.0\" stroke-width=\"0.0\" cx=\"364.9705262569745\" cy=\"224.1074702164891\" r=\"6.6000000000000005\" />\n            <circle fill=\"#377eb8\" stroke=\"#377eb8\" stroke-opacity=\"0.0\" stroke-width=\"0.0\" cx=\"413.959858640461\" cy=\"97.48086515102605\" r=\"6.6000000000000005\" />\n            <circle fill=\"#377eb8\" stroke=\"#377eb8\" stroke-opacity=\"0.0\" stroke-width=\"0.0\" cx=\"462.9491910239475\" cy=\"15.636363636363626\" r=\"6.6000000000000005\" />\n          </g>\n        </g>\n      </g>\n    </g>\n    <g transform=\"translate(14.5 182.0 ) rotate(-90.0 ) \">\n      <text class=\"axis-title-y\" y=\"0.0\" text-anchor=\"middle\">\n      value\n      </text>\n    </g>\n    <g transform=\"translate(292.5318965185396 391.5 ) \">\n      <text class=\"axis-title-x\" y=\"0.0\" text-anchor=\"middle\">\n      time\n      </text>\n    </g>\n    <g transform=\"translate(545.0290918167977 137.75 ) \">\n      <rect x=\"5.0\" y=\"5.0\" height=\"78.5\" width=\"44.970908183202305\" stroke=\"rgb(71,71,71)\" stroke-opacity=\"1.0\" stroke-width=\"0.0\" fill=\"rgb(255,255,255)\" fill-opacity=\"1.0\">\n      </rect>\n      <g transform=\"translate(10.0 10.0 ) \">\n        <g transform=\"translate(0.0 10.5 ) \">\n          <text class=\"legend-title\" y=\"0.0\">\n          type\n          </text>\n        </g>\n        <g transform=\"translate(0.0 22.5 ) \">\n          <g transform=\"\">\n            <g>\n              <rect x=\"0.0\" y=\"0.0\" height=\"23.0\" width=\"23.0\" stroke-width=\"0.0\" fill=\"rgb(255,255,255)\" fill-opacity=\"1.0\">\n              </rect>\n              <g transform=\"translate(1.0 1.0 ) \">\n                <g>\n                  \n                  <g >\n                    <circle fill=\"#e41a1c\" stroke=\"#e41a1c\" stroke-opacity=\"0.0\" stroke-width=\"0.0\" cx=\"10.5\" cy=\"10.5\" r=\"5.5\" />\n                  </g>\n                </g>\n              </g>\n              <rect x=\"0.0\" y=\"0.0\" height=\"23.0\" width=\"23.0\" stroke=\"rgb(255,255,255)\" stroke-opacity=\"1.0\" stroke-width=\"1.0\" fill-opacity=\"0.0\">\n              </rect>\n            </g>\n            <g transform=\"translate(26.9903027277341 16.05 ) \">\n              <text class=\"legend-item\" y=\"0.0\">\n              b\n              </text>\n            </g>\n          </g>\n          <g transform=\"translate(0.0 23.0 ) \">\n            <g>\n              <rect x=\"0.0\" y=\"0.0\" height=\"23.0\" width=\"23.0\" stroke-width=\"0.0\" fill=\"rgb(255,255,255)\" fill-opacity=\"1.0\">\n              </rect>\n              <g transform=\"translate(1.0 1.0 ) \">\n                <g>\n                  \n                  <g >\n                    <circle fill=\"#377eb8\" stroke=\"#377eb8\" stroke-opacity=\"0.0\" stroke-width=\"0.0\" cx=\"10.5\" cy=\"10.5\" r=\"5.5\" />\n                  </g>\n                </g>\n              </g>\n              <rect x=\"0.0\" y=\"0.0\" height=\"23.0\" width=\"23.0\" stroke=\"rgb(255,255,255)\" stroke-opacity=\"1.0\" stroke-width=\"1.0\" fill-opacity=\"0.0\">\n              </rect>\n            </g>\n            <g transform=\"translate(26.9903027277341 16.05 ) \">\n              <text class=\"legend-item\" y=\"0.0\">\n              a\n              </text>\n            </g>\n          </g>\n        </g>\n      </g>\n    </g>\n    <path fill=\"rgb(0,0,0)\" fill-opacity=\"0.0\" stroke=\"rgb(71,71,71)\" stroke-opacity=\"1.0\" stroke-width=\"0.0\" d=\"M0.0 0.0 L0.0 400.0 L600.0 400.0 L600.0 0.0 Z\">\n    </path>\n  </g>\n  <g id=\"dUYPAn2\">\n  </g>\n</svg>\n        <script>document.getElementById(\"8f96935d-de64-4b58-8952-50142a590888\").style.display = \"none\";</script>",
      "application/plot+json": {
       "output_type": "lets_plot_spec",
       "output": {
        "mapping": {},
        "data": {
         "active": [
          false,
          true,
          true,
          true,
          false,
          false,
          false,
          false,
          false,
          true
         ],
         "time": [
          1.0,
          2.0,
          3.0,
          4.0,
          5.0,
          6.0,
          7.0,
          8.0,
          9.0,
          10.0
         ],
         "type": [
          "b",
          "b",
          "a",
          "a",
          "b",
          "a",
          "b",
          "b",
          "a",
          "a"
         ],
         "value": [
          0.08251228,
          0.584845,
          0.027290702,
          0.55693173,
          0.5484939,
          0.27288163,
          0.21374956,
          0.26485962,
          0.55340415,
          0.7399035
         ]
        },
        "kind": "plot",
        "scales": [
         {
          "aesthetic": "x",
          "limits": [
           null,
           null
          ]
         },
         {
          "aesthetic": "y",
          "limits": [
           null,
           null
          ]
         },
         {
          "aesthetic": "color",
          "discrete": true
         }
        ],
        "layers": [
         {
          "mapping": {
           "x": "time",
           "y": "value",
           "color": "type"
          },
          "stat": "identity",
          "size": 6.0,
          "sampling": "none",
          "position": "identity",
          "geom": "point",
          "tooltips": {
           "variables": [
            "type",
            "active"
           ]
          }
         }
        ]
       },
       "apply_color_scheme": true,
       "swing_enabled": false
      }
     },
     "execution_count": 7,
     "metadata": {},
     "output_type": "execute_result"
    }
   ],
   "source": [
    "plot"
   ],
   "metadata": {
    "collapsed": false,
    "ExecuteTime": {
     "end_time": "2023-11-10T13:51:57.850497Z",
     "start_time": "2023-11-10T13:51:57.745676Z"
    }
   }
  },
  {
   "cell_type": "markdown",
   "source": [
    "## Dynamic color scheme"
   ],
   "metadata": {
    "collapsed": false
   }
  },
  {
   "cell_type": "markdown",
   "source": [
    "If you are using a non-light color scheme in the editor, you may have noticed that the swing rendered plot has automatically changed its theme to match the environment theme. If not already, you can check this by changing the theme of your editor to, for example, Darcula. Even without restarting the cell, the next plot (just like the first swing plot) will change the theme to match yours."
   ],
   "metadata": {
    "collapsed": false
   }
  },
  {
   "cell_type": "code",
   "execution_count": 8,
   "outputs": [],
   "source": [
    "// switching the swing rendering back on\n",
    "kandyConfig.swingEnabled = true"
   ],
   "metadata": {
    "collapsed": false,
    "ExecuteTime": {
     "end_time": "2023-11-10T13:51:57.919324Z",
     "start_time": "2023-11-10T13:51:57.848853Z"
    }
   }
  },
  {
   "cell_type": "code",
   "execution_count": 9,
   "outputs": [
    {
     "data": {
      "text/html": "            <iframe src='about:blank' style='border:none !important;' width='600' height='400' srcdoc=\"&lt;html lang=&quot;en&quot;>\n   &lt;head>\n       &lt;style> html, body { margin: 0; overflow: hidden; } &lt;/style>\n       &lt;script type=&quot;text/javascript&quot; data-lets-plot-script=&quot;library&quot; src=&quot;https://cdn.jsdelivr.net/gh/JetBrains/lets-plot@v4.0.1/js-package/distr/lets-plot.min.js&quot;>&lt;/script>\n   &lt;/head>\n   &lt;body>\n          &lt;div id=&quot;j0JE2X&quot;>&lt;/div>\n   &lt;script type=&quot;text/javascript&quot; data-lets-plot-script=&quot;plot&quot;>\n       var plotSpec={\n&quot;mapping&quot;:{\n},\n&quot;data&quot;:{\n&quot;active&quot;:[false,true,true,true,false,false,false,false,false,true],\n&quot;time&quot;:[1.0,2.0,3.0,4.0,5.0,6.0,7.0,8.0,9.0,10.0],\n&quot;type&quot;:[&quot;b&quot;,&quot;b&quot;,&quot;a&quot;,&quot;a&quot;,&quot;b&quot;,&quot;a&quot;,&quot;b&quot;,&quot;b&quot;,&quot;a&quot;,&quot;a&quot;],\n&quot;value&quot;:[0.08251227896654156,0.5848450237518364,0.02729070152107238,0.556931724781022,0.548493919162769,0.27288162486563083,0.21374955914659988,0.26485961454338935,0.5534041298159895,0.739903499400028]\n},\n&quot;kind&quot;:&quot;plot&quot;,\n&quot;scales&quot;:[{\n&quot;aesthetic&quot;:&quot;x&quot;,\n&quot;limits&quot;:[null,null]\n},{\n&quot;aesthetic&quot;:&quot;y&quot;,\n&quot;limits&quot;:[null,null]\n},{\n&quot;aesthetic&quot;:&quot;color&quot;,\n&quot;discrete&quot;:true\n}],\n&quot;layers&quot;:[{\n&quot;mapping&quot;:{\n&quot;x&quot;:&quot;time&quot;,\n&quot;y&quot;:&quot;value&quot;,\n&quot;color&quot;:&quot;type&quot;\n},\n&quot;stat&quot;:&quot;identity&quot;,\n&quot;size&quot;:6.0,\n&quot;sampling&quot;:&quot;none&quot;,\n&quot;position&quot;:&quot;identity&quot;,\n&quot;geom&quot;:&quot;point&quot;,\n&quot;tooltips&quot;:{\n&quot;variables&quot;:[&quot;type&quot;,&quot;active&quot;]\n},\n&quot;data&quot;:{\n}\n}]\n};\n       var plotContainer = document.getElementById(&quot;j0JE2X&quot;);\n       LetsPlot.buildPlotFromProcessedSpecs(plotSpec, -1, -1, plotContainer);\n   &lt;/script>\n   &lt;/body>\n&lt;/html>\"></iframe>            \n        <svg id=d153524b-5954-4f83-a863-2a073a10389a xmlns=\"http://www.w3.org/2000/svg\" xmlns:xlink=\"http://www.w3.org/1999/xlink\" class=\"plt-container\" width=\"600.0\" height=\"400.0\">\n  <style type=\"text/css\">\n  .plt-container {\n   font-family: Lucida Grande, sans-serif;\n   user-select: none;\n   -webkit-user-select: none;\n   -moz-user-select: none;\n   -ms-user-select: none;\n}\ntext {\n   text-rendering: optimizeLegibility;\n}\n#pL4GGxg .plot-title {\n   fill: #474747;\n   font-family: Lucida Grande, sans-serif;\n   font-size: 16.0px;\n   font-weight: normal;\n   font-style: normal;   \n}\n#pL4GGxg .plot-subtitle {\n   fill: #474747;\n   font-family: Lucida Grande, sans-serif;\n   font-size: 15.0px;\n   font-weight: normal;\n   font-style: normal;   \n}\n#pL4GGxg .plot-caption {\n   fill: #474747;\n   font-family: Lucida Grande, sans-serif;\n   font-size: 13.0px;\n   font-weight: normal;\n   font-style: normal;   \n}\n#pL4GGxg .legend-title {\n   fill: #474747;\n   font-family: Lucida Grande, sans-serif;\n   font-size: 15.0px;\n   font-weight: normal;\n   font-style: normal;   \n}\n#pL4GGxg .legend-item {\n   fill: #474747;\n   font-family: Lucida Grande, sans-serif;\n   font-size: 13.0px;\n   font-weight: normal;\n   font-style: normal;   \n}\n#pL4GGxg .axis-title-x {\n   fill: #474747;\n   font-family: Lucida Grande, sans-serif;\n   font-size: 15.0px;\n   font-weight: normal;\n   font-style: normal;   \n}\n#pL4GGxg .axis-text-x {\n   fill: #474747;\n   font-family: Lucida Grande, sans-serif;\n   font-size: 13.0px;\n   font-weight: normal;\n   font-style: normal;   \n}\n#dRZX3Ab .axis-tooltip-text-x {\n   fill: #ffffff;\n   font-family: Lucida Grande, sans-serif;\n   font-size: 13.0px;\n   font-weight: normal;\n   font-style: normal;   \n}\n#pL4GGxg .axis-title-y {\n   fill: #474747;\n   font-family: Lucida Grande, sans-serif;\n   font-size: 15.0px;\n   font-weight: normal;\n   font-style: normal;   \n}\n#pL4GGxg .axis-text-y {\n   fill: #474747;\n   font-family: Lucida Grande, sans-serif;\n   font-size: 13.0px;\n   font-weight: normal;\n   font-style: normal;   \n}\n#dRZX3Ab .axis-tooltip-text-y {\n   fill: #ffffff;\n   font-family: Lucida Grande, sans-serif;\n   font-size: 13.0px;\n   font-weight: normal;\n   font-style: normal;   \n}\n#pL4GGxg .facet-strip-text-x {\n   fill: #474747;\n   font-family: Lucida Grande, sans-serif;\n   font-size: 13.0px;\n   font-weight: normal;\n   font-style: normal;   \n}\n#pL4GGxg .facet-strip-text-y {\n   fill: #474747;\n   font-family: Lucida Grande, sans-serif;\n   font-size: 13.0px;\n   font-weight: normal;\n   font-style: normal;   \n}\n#dRZX3Ab .tooltip-text {\n   fill: #474747;\n   font-family: Lucida Grande, sans-serif;\n   font-size: 13.0px;\n   font-weight: normal;\n   font-style: normal;   \n}\n#dRZX3Ab .tooltip-title {\n   fill: #474747;\n   font-family: Lucida Grande, sans-serif;\n   font-size: 13.0px;\n   font-weight: bold;\n   font-style: normal;   \n}\n#dRZX3Ab .tooltip-label {\n   fill: #474747;\n   font-family: Lucida Grande, sans-serif;\n   font-size: 13.0px;\n   font-weight: bold;\n   font-style: normal;   \n}\n\n  </style>\n  <g id=\"pL4GGxg\">\n    <path fill-rule=\"evenodd\" fill=\"rgb(255,255,255)\" fill-opacity=\"1.0\" d=\"M0.0 0.0 L0.0 400.0 L600.0 400.0 L600.0 0.0 Z\">\n    </path>\n    <g transform=\"translate(23.0 10.0 ) \">\n      <g transform=\"translate(27.034701220281416 344.0 ) \">\n        <line x1=\"71.03453195605543\" y1=\"-0.0\" x2=\"71.03453195605543\" y2=\"-344.0\" stroke=\"rgb(233,233,233)\" stroke-opacity=\"1.0\" stroke-width=\"1.0\">\n        </line>\n        <line x1=\"169.01319672302844\" y1=\"-0.0\" x2=\"169.01319672302844\" y2=\"-344.0\" stroke=\"rgb(233,233,233)\" stroke-opacity=\"1.0\" stroke-width=\"1.0\">\n        </line>\n        <line x1=\"266.9918614900015\" y1=\"-0.0\" x2=\"266.9918614900015\" y2=\"-344.0\" stroke=\"rgb(233,233,233)\" stroke-opacity=\"1.0\" stroke-width=\"1.0\">\n        </line>\n        <line x1=\"364.9705262569745\" y1=\"-0.0\" x2=\"364.9705262569745\" y2=\"-344.0\" stroke=\"rgb(233,233,233)\" stroke-opacity=\"1.0\" stroke-width=\"1.0\">\n        </line>\n        <line x1=\"462.9491910239475\" y1=\"-0.0\" x2=\"462.9491910239475\" y2=\"-344.0\" stroke=\"rgb(233,233,233)\" stroke-opacity=\"1.0\" stroke-width=\"1.0\">\n        </line>\n        <g transform=\"translate(71.03453195605543 0.0 ) \">\n          <line stroke-width=\"1.0\" stroke=\"rgb(71,71,71)\" stroke-opacity=\"1.0\" x2=\"0.0\" y2=\"4.0\">\n          </line>\n          <g transform=\"translate(0.0 7.0 ) \">\n            <text class=\"axis-text-x\" text-anchor=\"middle\" dy=\"0.7em\">\n            2\n            </text>\n          </g>\n        </g>\n        <g transform=\"translate(169.01319672302844 0.0 ) \">\n          <line stroke-width=\"1.0\" stroke=\"rgb(71,71,71)\" stroke-opacity=\"1.0\" x2=\"0.0\" y2=\"4.0\">\n          </line>\n          <g transform=\"translate(0.0 7.0 ) \">\n            <text class=\"axis-text-x\" text-anchor=\"middle\" dy=\"0.7em\">\n            4\n            </text>\n          </g>\n        </g>\n        <g transform=\"translate(266.9918614900015 0.0 ) \">\n          <line stroke-width=\"1.0\" stroke=\"rgb(71,71,71)\" stroke-opacity=\"1.0\" x2=\"0.0\" y2=\"4.0\">\n          </line>\n          <g transform=\"translate(0.0 7.0 ) \">\n            <text class=\"axis-text-x\" text-anchor=\"middle\" dy=\"0.7em\">\n            6\n            </text>\n          </g>\n        </g>\n        <g transform=\"translate(364.9705262569745 0.0 ) \">\n          <line stroke-width=\"1.0\" stroke=\"rgb(71,71,71)\" stroke-opacity=\"1.0\" x2=\"0.0\" y2=\"4.0\">\n          </line>\n          <g transform=\"translate(0.0 7.0 ) \">\n            <text class=\"axis-text-x\" text-anchor=\"middle\" dy=\"0.7em\">\n            8\n            </text>\n          </g>\n        </g>\n        <g transform=\"translate(462.9491910239475 0.0 ) \">\n          <line stroke-width=\"1.0\" stroke=\"rgb(71,71,71)\" stroke-opacity=\"1.0\" x2=\"0.0\" y2=\"4.0\">\n          </line>\n          <g transform=\"translate(0.0 7.0 ) \">\n            <text class=\"axis-text-x\" text-anchor=\"middle\" dy=\"0.7em\">\n            10\n            </text>\n          </g>\n        </g>\n        <line x1=\"0.0\" y1=\"0.0\" x2=\"484.9943905965163\" y2=\"0.0\" stroke-width=\"1.0\" stroke=\"rgb(71,71,71)\" stroke-opacity=\"1.0\">\n        </line>\n      </g>\n      <g transform=\"translate(27.034701220281416 0.0 ) \">\n        <line x1=\"0.0\" y1=\"296.45545188686725\" x2=\"484.9943905965163\" y2=\"296.45545188686725\" stroke=\"rgb(233,233,233)\" stroke-opacity=\"1.0\" stroke-width=\"1.0\">\n        </line>\n        <line x1=\"0.0\" y1=\"252.57085233180953\" x2=\"484.9943905965163\" y2=\"252.57085233180953\" stroke=\"rgb(233,233,233)\" stroke-opacity=\"1.0\" stroke-width=\"1.0\">\n        </line>\n        <line x1=\"0.0\" y1=\"208.68625277675176\" x2=\"484.9943905965163\" y2=\"208.68625277675176\" stroke=\"rgb(233,233,233)\" stroke-opacity=\"1.0\" stroke-width=\"1.0\">\n        </line>\n        <line x1=\"0.0\" y1=\"164.801653221694\" x2=\"484.9943905965163\" y2=\"164.801653221694\" stroke=\"rgb(233,233,233)\" stroke-opacity=\"1.0\" stroke-width=\"1.0\">\n        </line>\n        <line x1=\"0.0\" y1=\"120.91705366663626\" x2=\"484.9943905965163\" y2=\"120.91705366663626\" stroke=\"rgb(233,233,233)\" stroke-opacity=\"1.0\" stroke-width=\"1.0\">\n        </line>\n        <line x1=\"0.0\" y1=\"77.03245411157855\" x2=\"484.9943905965163\" y2=\"77.03245411157855\" stroke=\"rgb(233,233,233)\" stroke-opacity=\"1.0\" stroke-width=\"1.0\">\n        </line>\n        <line x1=\"0.0\" y1=\"33.14785455652077\" x2=\"484.9943905965163\" y2=\"33.14785455652077\" stroke=\"rgb(233,233,233)\" stroke-opacity=\"1.0\" stroke-width=\"1.0\">\n        </line>\n        <g transform=\"translate(0.0 340.340051441925 ) \">\n          <g transform=\"translate(-3.0 0.0 ) \">\n            <text class=\"axis-text-y\" text-anchor=\"end\" dy=\"0.35em\">\n            0.0\n            </text>\n          </g>\n        </g>\n        <g transform=\"translate(0.0 296.45545188686725 ) \">\n          <g transform=\"translate(-3.0 0.0 ) \">\n            <text class=\"axis-text-y\" text-anchor=\"end\" dy=\"0.35em\">\n            0.1\n            </text>\n          </g>\n        </g>\n        <g transform=\"translate(0.0 252.57085233180953 ) \">\n          <g transform=\"translate(-3.0 0.0 ) \">\n            <text class=\"axis-text-y\" text-anchor=\"end\" dy=\"0.35em\">\n            0.2\n            </text>\n          </g>\n        </g>\n        <g transform=\"translate(0.0 208.68625277675176 ) \">\n          <g transform=\"translate(-3.0 0.0 ) \">\n            <text class=\"axis-text-y\" text-anchor=\"end\" dy=\"0.35em\">\n            0.3\n            </text>\n          </g>\n        </g>\n        <g transform=\"translate(0.0 164.801653221694 ) \">\n          <g transform=\"translate(-3.0 0.0 ) \">\n            <text class=\"axis-text-y\" text-anchor=\"end\" dy=\"0.35em\">\n            0.4\n            </text>\n          </g>\n        </g>\n        <g transform=\"translate(0.0 120.91705366663626 ) \">\n          <g transform=\"translate(-3.0 0.0 ) \">\n            <text class=\"axis-text-y\" text-anchor=\"end\" dy=\"0.35em\">\n            0.5\n            </text>\n          </g>\n        </g>\n        <g transform=\"translate(0.0 77.03245411157855 ) \">\n          <g transform=\"translate(-3.0 0.0 ) \">\n            <text class=\"axis-text-y\" text-anchor=\"end\" dy=\"0.35em\">\n            0.6\n            </text>\n          </g>\n        </g>\n        <g transform=\"translate(0.0 33.14785455652077 ) \">\n          <g transform=\"translate(-3.0 0.0 ) \">\n            <text class=\"axis-text-y\" text-anchor=\"end\" dy=\"0.35em\">\n            0.7\n            </text>\n          </g>\n        </g>\n      </g>\n      <g transform=\"translate(27.034701220281416 0.0 ) \" clip-path=\"url(#cTqR8ki)\" clip-bounds-jfx=\"[rect (0.0, 0.0), (484.9943905965163, 344.0)]\">\n        <defs>\n          <clipPath id=\"cTqR8ki\">\n            <rect x=\"0.0\" y=\"0.0\" width=\"484.9943905965163\" height=\"344.0\">\n            </rect>\n          </clipPath>\n        </defs>\n        <g>\n          \n          <g >\n            <circle fill=\"#e41a1c\" stroke=\"#e41a1c\" stroke-opacity=\"0.0\" stroke-width=\"0.0\" cx=\"22.045199572568926\" cy=\"304.12986823370613\" r=\"6.6000000000000005\" />\n            <circle fill=\"#e41a1c\" stroke=\"#e41a1c\" stroke-opacity=\"0.0\" stroke-width=\"0.0\" cx=\"71.03453195605543\" cy=\"83.68315475074922\" r=\"6.6000000000000005\" />\n            <circle fill=\"#377eb8\" stroke=\"#377eb8\" stroke-opacity=\"0.0\" stroke-width=\"0.0\" cx=\"120.02386433954194\" cy=\"328.3636363636364\" r=\"6.6000000000000005\" />\n            <circle fill=\"#377eb8\" stroke=\"#377eb8\" stroke-opacity=\"0.0\" stroke-width=\"0.0\" cx=\"169.01319672302844\" cy=\"95.93279422669715\" r=\"6.6000000000000005\" />\n            <circle fill=\"#e41a1c\" stroke=\"#e41a1c\" stroke-opacity=\"0.0\" stroke-width=\"0.0\" cx=\"218.00252910651494\" cy=\"99.63569143350168\" r=\"6.6000000000000005\" />\n            <circle fill=\"#377eb8\" stroke=\"#377eb8\" stroke-opacity=\"0.0\" stroke-width=\"0.0\" cx=\"266.9918614900015\" cy=\"220.58704311030803\" r=\"6.6000000000000005\" />\n            <circle fill=\"#e41a1c\" stroke=\"#e41a1c\" stroke-opacity=\"0.0\" stroke-width=\"0.0\" cx=\"315.981193873488\" cy=\"246.53691335973835\" r=\"6.6000000000000005\" />\n            <circle fill=\"#e41a1c\" stroke=\"#e41a1c\" stroke-opacity=\"0.0\" stroke-width=\"0.0\" cx=\"364.9705262569745\" cy=\"224.1074702164891\" r=\"6.6000000000000005\" />\n            <circle fill=\"#377eb8\" stroke=\"#377eb8\" stroke-opacity=\"0.0\" stroke-width=\"0.0\" cx=\"413.959858640461\" cy=\"97.48086515102605\" r=\"6.6000000000000005\" />\n            <circle fill=\"#377eb8\" stroke=\"#377eb8\" stroke-opacity=\"0.0\" stroke-width=\"0.0\" cx=\"462.9491910239475\" cy=\"15.636363636363626\" r=\"6.6000000000000005\" />\n          </g>\n        </g>\n      </g>\n    </g>\n    <g transform=\"translate(14.5 182.0 ) rotate(-90.0 ) \">\n      <text class=\"axis-title-y\" y=\"0.0\" text-anchor=\"middle\">\n      value\n      </text>\n    </g>\n    <g transform=\"translate(292.5318965185396 391.5 ) \">\n      <text class=\"axis-title-x\" y=\"0.0\" text-anchor=\"middle\">\n      time\n      </text>\n    </g>\n    <g transform=\"translate(545.0290918167977 137.75 ) \">\n      <rect x=\"5.0\" y=\"5.0\" height=\"78.5\" width=\"44.970908183202305\" stroke=\"rgb(71,71,71)\" stroke-opacity=\"1.0\" stroke-width=\"0.0\" fill=\"rgb(255,255,255)\" fill-opacity=\"1.0\">\n      </rect>\n      <g transform=\"translate(10.0 10.0 ) \">\n        <g transform=\"translate(0.0 10.5 ) \">\n          <text class=\"legend-title\" y=\"0.0\">\n          type\n          </text>\n        </g>\n        <g transform=\"translate(0.0 22.5 ) \">\n          <g transform=\"\">\n            <g>\n              <rect x=\"0.0\" y=\"0.0\" height=\"23.0\" width=\"23.0\" stroke-width=\"0.0\" fill=\"rgb(255,255,255)\" fill-opacity=\"1.0\">\n              </rect>\n              <g transform=\"translate(1.0 1.0 ) \">\n                <g>\n                  \n                  <g >\n                    <circle fill=\"#e41a1c\" stroke=\"#e41a1c\" stroke-opacity=\"0.0\" stroke-width=\"0.0\" cx=\"10.5\" cy=\"10.5\" r=\"5.5\" />\n                  </g>\n                </g>\n              </g>\n              <rect x=\"0.0\" y=\"0.0\" height=\"23.0\" width=\"23.0\" stroke=\"rgb(255,255,255)\" stroke-opacity=\"1.0\" stroke-width=\"1.0\" fill-opacity=\"0.0\">\n              </rect>\n            </g>\n            <g transform=\"translate(26.9903027277341 16.05 ) \">\n              <text class=\"legend-item\" y=\"0.0\">\n              b\n              </text>\n            </g>\n          </g>\n          <g transform=\"translate(0.0 23.0 ) \">\n            <g>\n              <rect x=\"0.0\" y=\"0.0\" height=\"23.0\" width=\"23.0\" stroke-width=\"0.0\" fill=\"rgb(255,255,255)\" fill-opacity=\"1.0\">\n              </rect>\n              <g transform=\"translate(1.0 1.0 ) \">\n                <g>\n                  \n                  <g >\n                    <circle fill=\"#377eb8\" stroke=\"#377eb8\" stroke-opacity=\"0.0\" stroke-width=\"0.0\" cx=\"10.5\" cy=\"10.5\" r=\"5.5\" />\n                  </g>\n                </g>\n              </g>\n              <rect x=\"0.0\" y=\"0.0\" height=\"23.0\" width=\"23.0\" stroke=\"rgb(255,255,255)\" stroke-opacity=\"1.0\" stroke-width=\"1.0\" fill-opacity=\"0.0\">\n              </rect>\n            </g>\n            <g transform=\"translate(26.9903027277341 16.05 ) \">\n              <text class=\"legend-item\" y=\"0.0\">\n              a\n              </text>\n            </g>\n          </g>\n        </g>\n      </g>\n    </g>\n    <path fill=\"rgb(0,0,0)\" fill-opacity=\"0.0\" stroke=\"rgb(71,71,71)\" stroke-opacity=\"1.0\" stroke-width=\"0.0\" d=\"M0.0 0.0 L0.0 400.0 L600.0 400.0 L600.0 0.0 Z\">\n    </path>\n  </g>\n  <g id=\"dRZX3Ab\">\n  </g>\n</svg>\n        <script>document.getElementById(\"d153524b-5954-4f83-a863-2a073a10389a\").style.display = \"none\";</script>",
      "application/plot+json": {
       "output_type": "lets_plot_spec",
       "output": {
        "mapping": {},
        "data": {
         "active": [
          false,
          true,
          true,
          true,
          false,
          false,
          false,
          false,
          false,
          true
         ],
         "time": [
          1.0,
          2.0,
          3.0,
          4.0,
          5.0,
          6.0,
          7.0,
          8.0,
          9.0,
          10.0
         ],
         "type": [
          "b",
          "b",
          "a",
          "a",
          "b",
          "a",
          "b",
          "b",
          "a",
          "a"
         ],
         "value": [
          0.08251228,
          0.584845,
          0.027290702,
          0.55693173,
          0.5484939,
          0.27288163,
          0.21374956,
          0.26485962,
          0.55340415,
          0.7399035
         ]
        },
        "kind": "plot",
        "scales": [
         {
          "aesthetic": "x",
          "limits": [
           null,
           null
          ]
         },
         {
          "aesthetic": "y",
          "limits": [
           null,
           null
          ]
         },
         {
          "aesthetic": "color",
          "discrete": true
         }
        ],
        "layers": [
         {
          "mapping": {
           "x": "time",
           "y": "value",
           "color": "type"
          },
          "stat": "identity",
          "size": 6.0,
          "sampling": "none",
          "position": "identity",
          "geom": "point",
          "tooltips": {
           "variables": [
            "type",
            "active"
           ]
          }
         }
        ]
       },
       "apply_color_scheme": true,
       "swing_enabled": true
      }
     },
     "execution_count": 9,
     "metadata": {},
     "output_type": "execute_result"
    }
   ],
   "source": [
    "plot"
   ],
   "metadata": {
    "collapsed": false,
    "ExecuteTime": {
     "end_time": "2023-11-10T13:51:58.031577Z",
     "start_time": "2023-11-10T13:51:57.904419Z"
    }
   }
  },
  {
   "cell_type": "markdown",
   "source": [
    "To disable the automatic theme change, you need to change the corresponding flag in `kandyConfig`:"
   ],
   "metadata": {
    "collapsed": false
   }
  },
  {
   "cell_type": "code",
   "execution_count": 10,
   "outputs": [],
   "source": [
    "kandyConfig.applyColorScheme = false"
   ],
   "metadata": {
    "collapsed": false,
    "ExecuteTime": {
     "end_time": "2023-11-10T13:51:58.104670Z",
     "start_time": "2023-11-10T13:51:58.016314Z"
    }
   }
  },
  {
   "cell_type": "code",
   "execution_count": 11,
   "outputs": [
    {
     "data": {
      "text/html": "            <iframe src='about:blank' style='border:none !important;' width='600' height='400' srcdoc=\"&lt;html lang=&quot;en&quot;>\n   &lt;head>\n       &lt;style> html, body { margin: 0; overflow: hidden; } &lt;/style>\n       &lt;script type=&quot;text/javascript&quot; data-lets-plot-script=&quot;library&quot; src=&quot;https://cdn.jsdelivr.net/gh/JetBrains/lets-plot@v4.0.1/js-package/distr/lets-plot.min.js&quot;>&lt;/script>\n   &lt;/head>\n   &lt;body>\n          &lt;div id=&quot;Mg4Led&quot;>&lt;/div>\n   &lt;script type=&quot;text/javascript&quot; data-lets-plot-script=&quot;plot&quot;>\n       var plotSpec={\n&quot;mapping&quot;:{\n},\n&quot;data&quot;:{\n&quot;active&quot;:[false,true,true,true,false,false,false,false,false,true],\n&quot;time&quot;:[1.0,2.0,3.0,4.0,5.0,6.0,7.0,8.0,9.0,10.0],\n&quot;type&quot;:[&quot;b&quot;,&quot;b&quot;,&quot;a&quot;,&quot;a&quot;,&quot;b&quot;,&quot;a&quot;,&quot;b&quot;,&quot;b&quot;,&quot;a&quot;,&quot;a&quot;],\n&quot;value&quot;:[0.08251227896654156,0.5848450237518364,0.02729070152107238,0.556931724781022,0.548493919162769,0.27288162486563083,0.21374955914659988,0.26485961454338935,0.5534041298159895,0.739903499400028]\n},\n&quot;kind&quot;:&quot;plot&quot;,\n&quot;scales&quot;:[{\n&quot;aesthetic&quot;:&quot;x&quot;,\n&quot;limits&quot;:[null,null]\n},{\n&quot;aesthetic&quot;:&quot;y&quot;,\n&quot;limits&quot;:[null,null]\n},{\n&quot;aesthetic&quot;:&quot;color&quot;,\n&quot;discrete&quot;:true\n}],\n&quot;layers&quot;:[{\n&quot;mapping&quot;:{\n&quot;x&quot;:&quot;time&quot;,\n&quot;y&quot;:&quot;value&quot;,\n&quot;color&quot;:&quot;type&quot;\n},\n&quot;stat&quot;:&quot;identity&quot;,\n&quot;size&quot;:6.0,\n&quot;sampling&quot;:&quot;none&quot;,\n&quot;position&quot;:&quot;identity&quot;,\n&quot;geom&quot;:&quot;point&quot;,\n&quot;tooltips&quot;:{\n&quot;variables&quot;:[&quot;type&quot;,&quot;active&quot;]\n},\n&quot;data&quot;:{\n}\n}]\n};\n       var plotContainer = document.getElementById(&quot;Mg4Led&quot;);\n       LetsPlot.buildPlotFromProcessedSpecs(plotSpec, -1, -1, plotContainer);\n   &lt;/script>\n   &lt;/body>\n&lt;/html>\"></iframe>            \n        <svg id=b4f94d8d-15b7-4024-8980-8c5cb1c9d6ed xmlns=\"http://www.w3.org/2000/svg\" xmlns:xlink=\"http://www.w3.org/1999/xlink\" class=\"plt-container\" width=\"600.0\" height=\"400.0\">\n  <style type=\"text/css\">\n  .plt-container {\n   font-family: Lucida Grande, sans-serif;\n   user-select: none;\n   -webkit-user-select: none;\n   -moz-user-select: none;\n   -ms-user-select: none;\n}\ntext {\n   text-rendering: optimizeLegibility;\n}\n#plA4EDg .plot-title {\n   fill: #474747;\n   font-family: Lucida Grande, sans-serif;\n   font-size: 16.0px;\n   font-weight: normal;\n   font-style: normal;   \n}\n#plA4EDg .plot-subtitle {\n   fill: #474747;\n   font-family: Lucida Grande, sans-serif;\n   font-size: 15.0px;\n   font-weight: normal;\n   font-style: normal;   \n}\n#plA4EDg .plot-caption {\n   fill: #474747;\n   font-family: Lucida Grande, sans-serif;\n   font-size: 13.0px;\n   font-weight: normal;\n   font-style: normal;   \n}\n#plA4EDg .legend-title {\n   fill: #474747;\n   font-family: Lucida Grande, sans-serif;\n   font-size: 15.0px;\n   font-weight: normal;\n   font-style: normal;   \n}\n#plA4EDg .legend-item {\n   fill: #474747;\n   font-family: Lucida Grande, sans-serif;\n   font-size: 13.0px;\n   font-weight: normal;\n   font-style: normal;   \n}\n#plA4EDg .axis-title-x {\n   fill: #474747;\n   font-family: Lucida Grande, sans-serif;\n   font-size: 15.0px;\n   font-weight: normal;\n   font-style: normal;   \n}\n#plA4EDg .axis-text-x {\n   fill: #474747;\n   font-family: Lucida Grande, sans-serif;\n   font-size: 13.0px;\n   font-weight: normal;\n   font-style: normal;   \n}\n#dpyHQPd .axis-tooltip-text-x {\n   fill: #ffffff;\n   font-family: Lucida Grande, sans-serif;\n   font-size: 13.0px;\n   font-weight: normal;\n   font-style: normal;   \n}\n#plA4EDg .axis-title-y {\n   fill: #474747;\n   font-family: Lucida Grande, sans-serif;\n   font-size: 15.0px;\n   font-weight: normal;\n   font-style: normal;   \n}\n#plA4EDg .axis-text-y {\n   fill: #474747;\n   font-family: Lucida Grande, sans-serif;\n   font-size: 13.0px;\n   font-weight: normal;\n   font-style: normal;   \n}\n#dpyHQPd .axis-tooltip-text-y {\n   fill: #ffffff;\n   font-family: Lucida Grande, sans-serif;\n   font-size: 13.0px;\n   font-weight: normal;\n   font-style: normal;   \n}\n#plA4EDg .facet-strip-text-x {\n   fill: #474747;\n   font-family: Lucida Grande, sans-serif;\n   font-size: 13.0px;\n   font-weight: normal;\n   font-style: normal;   \n}\n#plA4EDg .facet-strip-text-y {\n   fill: #474747;\n   font-family: Lucida Grande, sans-serif;\n   font-size: 13.0px;\n   font-weight: normal;\n   font-style: normal;   \n}\n#dpyHQPd .tooltip-text {\n   fill: #474747;\n   font-family: Lucida Grande, sans-serif;\n   font-size: 13.0px;\n   font-weight: normal;\n   font-style: normal;   \n}\n#dpyHQPd .tooltip-title {\n   fill: #474747;\n   font-family: Lucida Grande, sans-serif;\n   font-size: 13.0px;\n   font-weight: bold;\n   font-style: normal;   \n}\n#dpyHQPd .tooltip-label {\n   fill: #474747;\n   font-family: Lucida Grande, sans-serif;\n   font-size: 13.0px;\n   font-weight: bold;\n   font-style: normal;   \n}\n\n  </style>\n  <g id=\"plA4EDg\">\n    <path fill-rule=\"evenodd\" fill=\"rgb(255,255,255)\" fill-opacity=\"1.0\" d=\"M0.0 0.0 L0.0 400.0 L600.0 400.0 L600.0 0.0 Z\">\n    </path>\n    <g transform=\"translate(23.0 10.0 ) \">\n      <g transform=\"translate(27.034701220281416 344.0 ) \">\n        <line x1=\"71.03453195605543\" y1=\"-0.0\" x2=\"71.03453195605543\" y2=\"-344.0\" stroke=\"rgb(233,233,233)\" stroke-opacity=\"1.0\" stroke-width=\"1.0\">\n        </line>\n        <line x1=\"169.01319672302844\" y1=\"-0.0\" x2=\"169.01319672302844\" y2=\"-344.0\" stroke=\"rgb(233,233,233)\" stroke-opacity=\"1.0\" stroke-width=\"1.0\">\n        </line>\n        <line x1=\"266.9918614900015\" y1=\"-0.0\" x2=\"266.9918614900015\" y2=\"-344.0\" stroke=\"rgb(233,233,233)\" stroke-opacity=\"1.0\" stroke-width=\"1.0\">\n        </line>\n        <line x1=\"364.9705262569745\" y1=\"-0.0\" x2=\"364.9705262569745\" y2=\"-344.0\" stroke=\"rgb(233,233,233)\" stroke-opacity=\"1.0\" stroke-width=\"1.0\">\n        </line>\n        <line x1=\"462.9491910239475\" y1=\"-0.0\" x2=\"462.9491910239475\" y2=\"-344.0\" stroke=\"rgb(233,233,233)\" stroke-opacity=\"1.0\" stroke-width=\"1.0\">\n        </line>\n        <g transform=\"translate(71.03453195605543 0.0 ) \">\n          <line stroke-width=\"1.0\" stroke=\"rgb(71,71,71)\" stroke-opacity=\"1.0\" x2=\"0.0\" y2=\"4.0\">\n          </line>\n          <g transform=\"translate(0.0 7.0 ) \">\n            <text class=\"axis-text-x\" text-anchor=\"middle\" dy=\"0.7em\">\n            2\n            </text>\n          </g>\n        </g>\n        <g transform=\"translate(169.01319672302844 0.0 ) \">\n          <line stroke-width=\"1.0\" stroke=\"rgb(71,71,71)\" stroke-opacity=\"1.0\" x2=\"0.0\" y2=\"4.0\">\n          </line>\n          <g transform=\"translate(0.0 7.0 ) \">\n            <text class=\"axis-text-x\" text-anchor=\"middle\" dy=\"0.7em\">\n            4\n            </text>\n          </g>\n        </g>\n        <g transform=\"translate(266.9918614900015 0.0 ) \">\n          <line stroke-width=\"1.0\" stroke=\"rgb(71,71,71)\" stroke-opacity=\"1.0\" x2=\"0.0\" y2=\"4.0\">\n          </line>\n          <g transform=\"translate(0.0 7.0 ) \">\n            <text class=\"axis-text-x\" text-anchor=\"middle\" dy=\"0.7em\">\n            6\n            </text>\n          </g>\n        </g>\n        <g transform=\"translate(364.9705262569745 0.0 ) \">\n          <line stroke-width=\"1.0\" stroke=\"rgb(71,71,71)\" stroke-opacity=\"1.0\" x2=\"0.0\" y2=\"4.0\">\n          </line>\n          <g transform=\"translate(0.0 7.0 ) \">\n            <text class=\"axis-text-x\" text-anchor=\"middle\" dy=\"0.7em\">\n            8\n            </text>\n          </g>\n        </g>\n        <g transform=\"translate(462.9491910239475 0.0 ) \">\n          <line stroke-width=\"1.0\" stroke=\"rgb(71,71,71)\" stroke-opacity=\"1.0\" x2=\"0.0\" y2=\"4.0\">\n          </line>\n          <g transform=\"translate(0.0 7.0 ) \">\n            <text class=\"axis-text-x\" text-anchor=\"middle\" dy=\"0.7em\">\n            10\n            </text>\n          </g>\n        </g>\n        <line x1=\"0.0\" y1=\"0.0\" x2=\"484.9943905965163\" y2=\"0.0\" stroke-width=\"1.0\" stroke=\"rgb(71,71,71)\" stroke-opacity=\"1.0\">\n        </line>\n      </g>\n      <g transform=\"translate(27.034701220281416 0.0 ) \">\n        <line x1=\"0.0\" y1=\"296.45545188686725\" x2=\"484.9943905965163\" y2=\"296.45545188686725\" stroke=\"rgb(233,233,233)\" stroke-opacity=\"1.0\" stroke-width=\"1.0\">\n        </line>\n        <line x1=\"0.0\" y1=\"252.57085233180953\" x2=\"484.9943905965163\" y2=\"252.57085233180953\" stroke=\"rgb(233,233,233)\" stroke-opacity=\"1.0\" stroke-width=\"1.0\">\n        </line>\n        <line x1=\"0.0\" y1=\"208.68625277675176\" x2=\"484.9943905965163\" y2=\"208.68625277675176\" stroke=\"rgb(233,233,233)\" stroke-opacity=\"1.0\" stroke-width=\"1.0\">\n        </line>\n        <line x1=\"0.0\" y1=\"164.801653221694\" x2=\"484.9943905965163\" y2=\"164.801653221694\" stroke=\"rgb(233,233,233)\" stroke-opacity=\"1.0\" stroke-width=\"1.0\">\n        </line>\n        <line x1=\"0.0\" y1=\"120.91705366663626\" x2=\"484.9943905965163\" y2=\"120.91705366663626\" stroke=\"rgb(233,233,233)\" stroke-opacity=\"1.0\" stroke-width=\"1.0\">\n        </line>\n        <line x1=\"0.0\" y1=\"77.03245411157855\" x2=\"484.9943905965163\" y2=\"77.03245411157855\" stroke=\"rgb(233,233,233)\" stroke-opacity=\"1.0\" stroke-width=\"1.0\">\n        </line>\n        <line x1=\"0.0\" y1=\"33.14785455652077\" x2=\"484.9943905965163\" y2=\"33.14785455652077\" stroke=\"rgb(233,233,233)\" stroke-opacity=\"1.0\" stroke-width=\"1.0\">\n        </line>\n        <g transform=\"translate(0.0 340.340051441925 ) \">\n          <g transform=\"translate(-3.0 0.0 ) \">\n            <text class=\"axis-text-y\" text-anchor=\"end\" dy=\"0.35em\">\n            0.0\n            </text>\n          </g>\n        </g>\n        <g transform=\"translate(0.0 296.45545188686725 ) \">\n          <g transform=\"translate(-3.0 0.0 ) \">\n            <text class=\"axis-text-y\" text-anchor=\"end\" dy=\"0.35em\">\n            0.1\n            </text>\n          </g>\n        </g>\n        <g transform=\"translate(0.0 252.57085233180953 ) \">\n          <g transform=\"translate(-3.0 0.0 ) \">\n            <text class=\"axis-text-y\" text-anchor=\"end\" dy=\"0.35em\">\n            0.2\n            </text>\n          </g>\n        </g>\n        <g transform=\"translate(0.0 208.68625277675176 ) \">\n          <g transform=\"translate(-3.0 0.0 ) \">\n            <text class=\"axis-text-y\" text-anchor=\"end\" dy=\"0.35em\">\n            0.3\n            </text>\n          </g>\n        </g>\n        <g transform=\"translate(0.0 164.801653221694 ) \">\n          <g transform=\"translate(-3.0 0.0 ) \">\n            <text class=\"axis-text-y\" text-anchor=\"end\" dy=\"0.35em\">\n            0.4\n            </text>\n          </g>\n        </g>\n        <g transform=\"translate(0.0 120.91705366663626 ) \">\n          <g transform=\"translate(-3.0 0.0 ) \">\n            <text class=\"axis-text-y\" text-anchor=\"end\" dy=\"0.35em\">\n            0.5\n            </text>\n          </g>\n        </g>\n        <g transform=\"translate(0.0 77.03245411157855 ) \">\n          <g transform=\"translate(-3.0 0.0 ) \">\n            <text class=\"axis-text-y\" text-anchor=\"end\" dy=\"0.35em\">\n            0.6\n            </text>\n          </g>\n        </g>\n        <g transform=\"translate(0.0 33.14785455652077 ) \">\n          <g transform=\"translate(-3.0 0.0 ) \">\n            <text class=\"axis-text-y\" text-anchor=\"end\" dy=\"0.35em\">\n            0.7\n            </text>\n          </g>\n        </g>\n      </g>\n      <g transform=\"translate(27.034701220281416 0.0 ) \" clip-path=\"url(#cnXe8yW)\" clip-bounds-jfx=\"[rect (0.0, 0.0), (484.9943905965163, 344.0)]\">\n        <defs>\n          <clipPath id=\"cnXe8yW\">\n            <rect x=\"0.0\" y=\"0.0\" width=\"484.9943905965163\" height=\"344.0\">\n            </rect>\n          </clipPath>\n        </defs>\n        <g>\n          \n          <g >\n            <circle fill=\"#e41a1c\" stroke=\"#e41a1c\" stroke-opacity=\"0.0\" stroke-width=\"0.0\" cx=\"22.045199572568926\" cy=\"304.12986823370613\" r=\"6.6000000000000005\" />\n            <circle fill=\"#e41a1c\" stroke=\"#e41a1c\" stroke-opacity=\"0.0\" stroke-width=\"0.0\" cx=\"71.03453195605543\" cy=\"83.68315475074922\" r=\"6.6000000000000005\" />\n            <circle fill=\"#377eb8\" stroke=\"#377eb8\" stroke-opacity=\"0.0\" stroke-width=\"0.0\" cx=\"120.02386433954194\" cy=\"328.3636363636364\" r=\"6.6000000000000005\" />\n            <circle fill=\"#377eb8\" stroke=\"#377eb8\" stroke-opacity=\"0.0\" stroke-width=\"0.0\" cx=\"169.01319672302844\" cy=\"95.93279422669715\" r=\"6.6000000000000005\" />\n            <circle fill=\"#e41a1c\" stroke=\"#e41a1c\" stroke-opacity=\"0.0\" stroke-width=\"0.0\" cx=\"218.00252910651494\" cy=\"99.63569143350168\" r=\"6.6000000000000005\" />\n            <circle fill=\"#377eb8\" stroke=\"#377eb8\" stroke-opacity=\"0.0\" stroke-width=\"0.0\" cx=\"266.9918614900015\" cy=\"220.58704311030803\" r=\"6.6000000000000005\" />\n            <circle fill=\"#e41a1c\" stroke=\"#e41a1c\" stroke-opacity=\"0.0\" stroke-width=\"0.0\" cx=\"315.981193873488\" cy=\"246.53691335973835\" r=\"6.6000000000000005\" />\n            <circle fill=\"#e41a1c\" stroke=\"#e41a1c\" stroke-opacity=\"0.0\" stroke-width=\"0.0\" cx=\"364.9705262569745\" cy=\"224.1074702164891\" r=\"6.6000000000000005\" />\n            <circle fill=\"#377eb8\" stroke=\"#377eb8\" stroke-opacity=\"0.0\" stroke-width=\"0.0\" cx=\"413.959858640461\" cy=\"97.48086515102605\" r=\"6.6000000000000005\" />\n            <circle fill=\"#377eb8\" stroke=\"#377eb8\" stroke-opacity=\"0.0\" stroke-width=\"0.0\" cx=\"462.9491910239475\" cy=\"15.636363636363626\" r=\"6.6000000000000005\" />\n          </g>\n        </g>\n      </g>\n    </g>\n    <g transform=\"translate(14.5 182.0 ) rotate(-90.0 ) \">\n      <text class=\"axis-title-y\" y=\"0.0\" text-anchor=\"middle\">\n      value\n      </text>\n    </g>\n    <g transform=\"translate(292.5318965185396 391.5 ) \">\n      <text class=\"axis-title-x\" y=\"0.0\" text-anchor=\"middle\">\n      time\n      </text>\n    </g>\n    <g transform=\"translate(545.0290918167977 137.75 ) \">\n      <rect x=\"5.0\" y=\"5.0\" height=\"78.5\" width=\"44.970908183202305\" stroke=\"rgb(71,71,71)\" stroke-opacity=\"1.0\" stroke-width=\"0.0\" fill=\"rgb(255,255,255)\" fill-opacity=\"1.0\">\n      </rect>\n      <g transform=\"translate(10.0 10.0 ) \">\n        <g transform=\"translate(0.0 10.5 ) \">\n          <text class=\"legend-title\" y=\"0.0\">\n          type\n          </text>\n        </g>\n        <g transform=\"translate(0.0 22.5 ) \">\n          <g transform=\"\">\n            <g>\n              <rect x=\"0.0\" y=\"0.0\" height=\"23.0\" width=\"23.0\" stroke-width=\"0.0\" fill=\"rgb(255,255,255)\" fill-opacity=\"1.0\">\n              </rect>\n              <g transform=\"translate(1.0 1.0 ) \">\n                <g>\n                  \n                  <g >\n                    <circle fill=\"#e41a1c\" stroke=\"#e41a1c\" stroke-opacity=\"0.0\" stroke-width=\"0.0\" cx=\"10.5\" cy=\"10.5\" r=\"5.5\" />\n                  </g>\n                </g>\n              </g>\n              <rect x=\"0.0\" y=\"0.0\" height=\"23.0\" width=\"23.0\" stroke=\"rgb(255,255,255)\" stroke-opacity=\"1.0\" stroke-width=\"1.0\" fill-opacity=\"0.0\">\n              </rect>\n            </g>\n            <g transform=\"translate(26.9903027277341 16.05 ) \">\n              <text class=\"legend-item\" y=\"0.0\">\n              b\n              </text>\n            </g>\n          </g>\n          <g transform=\"translate(0.0 23.0 ) \">\n            <g>\n              <rect x=\"0.0\" y=\"0.0\" height=\"23.0\" width=\"23.0\" stroke-width=\"0.0\" fill=\"rgb(255,255,255)\" fill-opacity=\"1.0\">\n              </rect>\n              <g transform=\"translate(1.0 1.0 ) \">\n                <g>\n                  \n                  <g >\n                    <circle fill=\"#377eb8\" stroke=\"#377eb8\" stroke-opacity=\"0.0\" stroke-width=\"0.0\" cx=\"10.5\" cy=\"10.5\" r=\"5.5\" />\n                  </g>\n                </g>\n              </g>\n              <rect x=\"0.0\" y=\"0.0\" height=\"23.0\" width=\"23.0\" stroke=\"rgb(255,255,255)\" stroke-opacity=\"1.0\" stroke-width=\"1.0\" fill-opacity=\"0.0\">\n              </rect>\n            </g>\n            <g transform=\"translate(26.9903027277341 16.05 ) \">\n              <text class=\"legend-item\" y=\"0.0\">\n              a\n              </text>\n            </g>\n          </g>\n        </g>\n      </g>\n    </g>\n    <path fill=\"rgb(0,0,0)\" fill-opacity=\"0.0\" stroke=\"rgb(71,71,71)\" stroke-opacity=\"1.0\" stroke-width=\"0.0\" d=\"M0.0 0.0 L0.0 400.0 L600.0 400.0 L600.0 0.0 Z\">\n    </path>\n  </g>\n  <g id=\"dpyHQPd\">\n  </g>\n</svg>\n        <script>document.getElementById(\"b4f94d8d-15b7-4024-8980-8c5cb1c9d6ed\").style.display = \"none\";</script>",
      "application/plot+json": {
       "output_type": "lets_plot_spec",
       "output": {
        "mapping": {},
        "data": {
         "active": [
          false,
          true,
          true,
          true,
          false,
          false,
          false,
          false,
          false,
          true
         ],
         "time": [
          1.0,
          2.0,
          3.0,
          4.0,
          5.0,
          6.0,
          7.0,
          8.0,
          9.0,
          10.0
         ],
         "type": [
          "b",
          "b",
          "a",
          "a",
          "b",
          "a",
          "b",
          "b",
          "a",
          "a"
         ],
         "value": [
          0.08251228,
          0.584845,
          0.027290702,
          0.55693173,
          0.5484939,
          0.27288163,
          0.21374956,
          0.26485962,
          0.55340415,
          0.7399035
         ]
        },
        "kind": "plot",
        "scales": [
         {
          "aesthetic": "x",
          "limits": [
           null,
           null
          ]
         },
         {
          "aesthetic": "y",
          "limits": [
           null,
           null
          ]
         },
         {
          "aesthetic": "color",
          "discrete": true
         }
        ],
        "layers": [
         {
          "mapping": {
           "x": "time",
           "y": "value",
           "color": "type"
          },
          "stat": "identity",
          "size": 6.0,
          "sampling": "none",
          "position": "identity",
          "geom": "point",
          "tooltips": {
           "variables": [
            "type",
            "active"
           ]
          }
         }
        ]
       },
       "apply_color_scheme": false,
       "swing_enabled": true
      }
     },
     "execution_count": 11,
     "metadata": {},
     "output_type": "execute_result"
    }
   ],
   "source": [
    "plot"
   ],
   "metadata": {
    "collapsed": false,
    "ExecuteTime": {
     "end_time": "2023-11-10T13:51:58.198054Z",
     "start_time": "2023-11-10T13:51:58.092894Z"
    }
   }
  },
  {
   "cell_type": "markdown",
   "source": [
    "Also note that automatic theme change does not work if you set the theme manually (via `layout.flavor`):"
   ],
   "metadata": {
    "collapsed": false
   }
  },
  {
   "cell_type": "code",
   "execution_count": 12,
   "outputs": [],
   "source": [
    "kandyConfig.applyColorScheme = true"
   ],
   "metadata": {
    "collapsed": false,
    "ExecuteTime": {
     "end_time": "2023-11-10T13:51:58.251897Z",
     "start_time": "2023-11-10T13:51:58.195926Z"
    }
   }
  },
  {
   "cell_type": "code",
   "execution_count": 13,
   "outputs": [
    {
     "data": {
      "text/html": "            <iframe src='about:blank' style='border:none !important;' width='600' height='400' srcdoc=\"&lt;html lang=&quot;en&quot;>\n   &lt;head>\n       &lt;style> html, body { margin: 0; overflow: hidden; } &lt;/style>\n       &lt;script type=&quot;text/javascript&quot; data-lets-plot-script=&quot;library&quot; src=&quot;https://cdn.jsdelivr.net/gh/JetBrains/lets-plot@v4.0.1/js-package/distr/lets-plot.min.js&quot;>&lt;/script>\n   &lt;/head>\n   &lt;body>\n          &lt;div id=&quot;YRUlyQ&quot;>&lt;/div>\n   &lt;script type=&quot;text/javascript&quot; data-lets-plot-script=&quot;plot&quot;>\n       var plotSpec={\n&quot;mapping&quot;:{\n},\n&quot;data&quot;:{\n&quot;active&quot;:[false,true,true,true,false,false,false,false,false,true],\n&quot;time&quot;:[1.0,2.0,3.0,4.0,5.0,6.0,7.0,8.0,9.0,10.0],\n&quot;type&quot;:[&quot;b&quot;,&quot;b&quot;,&quot;a&quot;,&quot;a&quot;,&quot;b&quot;,&quot;a&quot;,&quot;b&quot;,&quot;b&quot;,&quot;a&quot;,&quot;a&quot;],\n&quot;value&quot;:[0.08251227896654156,0.5848450237518364,0.02729070152107238,0.556931724781022,0.548493919162769,0.27288162486563083,0.21374955914659988,0.26485961454338935,0.5534041298159895,0.739903499400028]\n},\n&quot;kind&quot;:&quot;plot&quot;,\n&quot;scales&quot;:[{\n&quot;aesthetic&quot;:&quot;x&quot;,\n&quot;limits&quot;:[null,null]\n},{\n&quot;aesthetic&quot;:&quot;y&quot;,\n&quot;limits&quot;:[null,null]\n},{\n&quot;aesthetic&quot;:&quot;color&quot;,\n&quot;discrete&quot;:true\n}],\n&quot;layers&quot;:[{\n&quot;mapping&quot;:{\n&quot;x&quot;:&quot;time&quot;,\n&quot;y&quot;:&quot;value&quot;,\n&quot;color&quot;:&quot;type&quot;\n},\n&quot;stat&quot;:&quot;identity&quot;,\n&quot;size&quot;:6.0,\n&quot;sampling&quot;:&quot;none&quot;,\n&quot;position&quot;:&quot;identity&quot;,\n&quot;geom&quot;:&quot;point&quot;,\n&quot;tooltips&quot;:{\n&quot;variables&quot;:[&quot;type&quot;,&quot;active&quot;]\n},\n&quot;data&quot;:{\n}\n}],\n&quot;theme&quot;:{\n&quot;flavor&quot;:&quot;high_contrast_dark&quot;\n}\n};\n       var plotContainer = document.getElementById(&quot;YRUlyQ&quot;);\n       LetsPlot.buildPlotFromProcessedSpecs(plotSpec, -1, -1, plotContainer);\n   &lt;/script>\n   &lt;/body>\n&lt;/html>\"></iframe>            \n        <svg id=ed335397-80a6-4a3a-a96c-9e08435f0317 xmlns=\"http://www.w3.org/2000/svg\" xmlns:xlink=\"http://www.w3.org/1999/xlink\" class=\"plt-container\" width=\"600.0\" height=\"400.0\">\n  <style type=\"text/css\">\n  .plt-container {\n   font-family: Lucida Grande, sans-serif;\n   user-select: none;\n   -webkit-user-select: none;\n   -moz-user-select: none;\n   -ms-user-select: none;\n}\ntext {\n   text-rendering: optimizeLegibility;\n}\n#p1yLQTZ .plot-title {\n   fill: #ffffff;\n   font-family: Lucida Grande, sans-serif;\n   font-size: 16.0px;\n   font-weight: normal;\n   font-style: normal;   \n}\n#p1yLQTZ .plot-subtitle {\n   fill: #ffffff;\n   font-family: Lucida Grande, sans-serif;\n   font-size: 15.0px;\n   font-weight: normal;\n   font-style: normal;   \n}\n#p1yLQTZ .plot-caption {\n   fill: #ffffff;\n   font-family: Lucida Grande, sans-serif;\n   font-size: 13.0px;\n   font-weight: normal;\n   font-style: normal;   \n}\n#p1yLQTZ .legend-title {\n   fill: #ffffff;\n   font-family: Lucida Grande, sans-serif;\n   font-size: 15.0px;\n   font-weight: normal;\n   font-style: normal;   \n}\n#p1yLQTZ .legend-item {\n   fill: #ffffff;\n   font-family: Lucida Grande, sans-serif;\n   font-size: 13.0px;\n   font-weight: normal;\n   font-style: normal;   \n}\n#p1yLQTZ .axis-title-x {\n   fill: #ffffff;\n   font-family: Lucida Grande, sans-serif;\n   font-size: 15.0px;\n   font-weight: normal;\n   font-style: normal;   \n}\n#p1yLQTZ .axis-text-x {\n   fill: #ffffff;\n   font-family: Lucida Grande, sans-serif;\n   font-size: 13.0px;\n   font-weight: normal;\n   font-style: normal;   \n}\n#dD08PzV .axis-tooltip-text-x {\n   fill: #000000;\n   font-family: Lucida Grande, sans-serif;\n   font-size: 13.0px;\n   font-weight: normal;\n   font-style: normal;   \n}\n#p1yLQTZ .axis-title-y {\n   fill: #ffffff;\n   font-family: Lucida Grande, sans-serif;\n   font-size: 15.0px;\n   font-weight: normal;\n   font-style: normal;   \n}\n#p1yLQTZ .axis-text-y {\n   fill: #ffffff;\n   font-family: Lucida Grande, sans-serif;\n   font-size: 13.0px;\n   font-weight: normal;\n   font-style: normal;   \n}\n#dD08PzV .axis-tooltip-text-y {\n   fill: #000000;\n   font-family: Lucida Grande, sans-serif;\n   font-size: 13.0px;\n   font-weight: normal;\n   font-style: normal;   \n}\n#p1yLQTZ .facet-strip-text-x {\n   fill: #ffffff;\n   font-family: Lucida Grande, sans-serif;\n   font-size: 13.0px;\n   font-weight: normal;\n   font-style: normal;   \n}\n#p1yLQTZ .facet-strip-text-y {\n   fill: #ffffff;\n   font-family: Lucida Grande, sans-serif;\n   font-size: 13.0px;\n   font-weight: normal;\n   font-style: normal;   \n}\n#dD08PzV .tooltip-text {\n   fill: #ffffff;\n   font-family: Lucida Grande, sans-serif;\n   font-size: 13.0px;\n   font-weight: normal;\n   font-style: normal;   \n}\n#dD08PzV .tooltip-title {\n   fill: #ffffff;\n   font-family: Lucida Grande, sans-serif;\n   font-size: 13.0px;\n   font-weight: bold;\n   font-style: normal;   \n}\n#dD08PzV .tooltip-label {\n   fill: #ffffff;\n   font-family: Lucida Grande, sans-serif;\n   font-size: 13.0px;\n   font-weight: bold;\n   font-style: normal;   \n}\n\n  </style>\n  <g id=\"p1yLQTZ\">\n    <path fill-rule=\"evenodd\" fill=\"rgb(0,0,0)\" fill-opacity=\"1.0\" d=\"M0.0 0.0 L0.0 400.0 L600.0 400.0 L600.0 0.0 Z\">\n    </path>\n    <g transform=\"translate(23.0 10.0 ) \">\n      <g transform=\"translate(27.034701220281416 344.0 ) \">\n        <line x1=\"71.03453195605543\" y1=\"-0.0\" x2=\"71.03453195605543\" y2=\"-344.0\" stroke=\"rgb(71,71,71)\" stroke-opacity=\"1.0\" stroke-width=\"1.0\">\n        </line>\n        <line x1=\"169.01319672302844\" y1=\"-0.0\" x2=\"169.01319672302844\" y2=\"-344.0\" stroke=\"rgb(71,71,71)\" stroke-opacity=\"1.0\" stroke-width=\"1.0\">\n        </line>\n        <line x1=\"266.9918614900015\" y1=\"-0.0\" x2=\"266.9918614900015\" y2=\"-344.0\" stroke=\"rgb(71,71,71)\" stroke-opacity=\"1.0\" stroke-width=\"1.0\">\n        </line>\n        <line x1=\"364.9705262569745\" y1=\"-0.0\" x2=\"364.9705262569745\" y2=\"-344.0\" stroke=\"rgb(71,71,71)\" stroke-opacity=\"1.0\" stroke-width=\"1.0\">\n        </line>\n        <line x1=\"462.9491910239475\" y1=\"-0.0\" x2=\"462.9491910239475\" y2=\"-344.0\" stroke=\"rgb(71,71,71)\" stroke-opacity=\"1.0\" stroke-width=\"1.0\">\n        </line>\n        <g transform=\"translate(71.03453195605543 0.0 ) \">\n          <line stroke-width=\"1.0\" stroke=\"rgb(255,255,255)\" stroke-opacity=\"1.0\" x2=\"0.0\" y2=\"4.0\">\n          </line>\n          <g transform=\"translate(0.0 7.0 ) \">\n            <text class=\"axis-text-x\" text-anchor=\"middle\" dy=\"0.7em\">\n            2\n            </text>\n          </g>\n        </g>\n        <g transform=\"translate(169.01319672302844 0.0 ) \">\n          <line stroke-width=\"1.0\" stroke=\"rgb(255,255,255)\" stroke-opacity=\"1.0\" x2=\"0.0\" y2=\"4.0\">\n          </line>\n          <g transform=\"translate(0.0 7.0 ) \">\n            <text class=\"axis-text-x\" text-anchor=\"middle\" dy=\"0.7em\">\n            4\n            </text>\n          </g>\n        </g>\n        <g transform=\"translate(266.9918614900015 0.0 ) \">\n          <line stroke-width=\"1.0\" stroke=\"rgb(255,255,255)\" stroke-opacity=\"1.0\" x2=\"0.0\" y2=\"4.0\">\n          </line>\n          <g transform=\"translate(0.0 7.0 ) \">\n            <text class=\"axis-text-x\" text-anchor=\"middle\" dy=\"0.7em\">\n            6\n            </text>\n          </g>\n        </g>\n        <g transform=\"translate(364.9705262569745 0.0 ) \">\n          <line stroke-width=\"1.0\" stroke=\"rgb(255,255,255)\" stroke-opacity=\"1.0\" x2=\"0.0\" y2=\"4.0\">\n          </line>\n          <g transform=\"translate(0.0 7.0 ) \">\n            <text class=\"axis-text-x\" text-anchor=\"middle\" dy=\"0.7em\">\n            8\n            </text>\n          </g>\n        </g>\n        <g transform=\"translate(462.9491910239475 0.0 ) \">\n          <line stroke-width=\"1.0\" stroke=\"rgb(255,255,255)\" stroke-opacity=\"1.0\" x2=\"0.0\" y2=\"4.0\">\n          </line>\n          <g transform=\"translate(0.0 7.0 ) \">\n            <text class=\"axis-text-x\" text-anchor=\"middle\" dy=\"0.7em\">\n            10\n            </text>\n          </g>\n        </g>\n        <line x1=\"0.0\" y1=\"0.0\" x2=\"484.9943905965163\" y2=\"0.0\" stroke-width=\"1.0\" stroke=\"rgb(255,255,255)\" stroke-opacity=\"1.0\">\n        </line>\n      </g>\n      <g transform=\"translate(27.034701220281416 0.0 ) \">\n        <line x1=\"0.0\" y1=\"296.45545188686725\" x2=\"484.9943905965163\" y2=\"296.45545188686725\" stroke=\"rgb(71,71,71)\" stroke-opacity=\"1.0\" stroke-width=\"1.0\">\n        </line>\n        <line x1=\"0.0\" y1=\"252.57085233180953\" x2=\"484.9943905965163\" y2=\"252.57085233180953\" stroke=\"rgb(71,71,71)\" stroke-opacity=\"1.0\" stroke-width=\"1.0\">\n        </line>\n        <line x1=\"0.0\" y1=\"208.68625277675176\" x2=\"484.9943905965163\" y2=\"208.68625277675176\" stroke=\"rgb(71,71,71)\" stroke-opacity=\"1.0\" stroke-width=\"1.0\">\n        </line>\n        <line x1=\"0.0\" y1=\"164.801653221694\" x2=\"484.9943905965163\" y2=\"164.801653221694\" stroke=\"rgb(71,71,71)\" stroke-opacity=\"1.0\" stroke-width=\"1.0\">\n        </line>\n        <line x1=\"0.0\" y1=\"120.91705366663626\" x2=\"484.9943905965163\" y2=\"120.91705366663626\" stroke=\"rgb(71,71,71)\" stroke-opacity=\"1.0\" stroke-width=\"1.0\">\n        </line>\n        <line x1=\"0.0\" y1=\"77.03245411157855\" x2=\"484.9943905965163\" y2=\"77.03245411157855\" stroke=\"rgb(71,71,71)\" stroke-opacity=\"1.0\" stroke-width=\"1.0\">\n        </line>\n        <line x1=\"0.0\" y1=\"33.14785455652077\" x2=\"484.9943905965163\" y2=\"33.14785455652077\" stroke=\"rgb(71,71,71)\" stroke-opacity=\"1.0\" stroke-width=\"1.0\">\n        </line>\n        <g transform=\"translate(0.0 340.340051441925 ) \">\n          <g transform=\"translate(-3.0 0.0 ) \">\n            <text class=\"axis-text-y\" text-anchor=\"end\" dy=\"0.35em\">\n            0.0\n            </text>\n          </g>\n        </g>\n        <g transform=\"translate(0.0 296.45545188686725 ) \">\n          <g transform=\"translate(-3.0 0.0 ) \">\n            <text class=\"axis-text-y\" text-anchor=\"end\" dy=\"0.35em\">\n            0.1\n            </text>\n          </g>\n        </g>\n        <g transform=\"translate(0.0 252.57085233180953 ) \">\n          <g transform=\"translate(-3.0 0.0 ) \">\n            <text class=\"axis-text-y\" text-anchor=\"end\" dy=\"0.35em\">\n            0.2\n            </text>\n          </g>\n        </g>\n        <g transform=\"translate(0.0 208.68625277675176 ) \">\n          <g transform=\"translate(-3.0 0.0 ) \">\n            <text class=\"axis-text-y\" text-anchor=\"end\" dy=\"0.35em\">\n            0.3\n            </text>\n          </g>\n        </g>\n        <g transform=\"translate(0.0 164.801653221694 ) \">\n          <g transform=\"translate(-3.0 0.0 ) \">\n            <text class=\"axis-text-y\" text-anchor=\"end\" dy=\"0.35em\">\n            0.4\n            </text>\n          </g>\n        </g>\n        <g transform=\"translate(0.0 120.91705366663626 ) \">\n          <g transform=\"translate(-3.0 0.0 ) \">\n            <text class=\"axis-text-y\" text-anchor=\"end\" dy=\"0.35em\">\n            0.5\n            </text>\n          </g>\n        </g>\n        <g transform=\"translate(0.0 77.03245411157855 ) \">\n          <g transform=\"translate(-3.0 0.0 ) \">\n            <text class=\"axis-text-y\" text-anchor=\"end\" dy=\"0.35em\">\n            0.6\n            </text>\n          </g>\n        </g>\n        <g transform=\"translate(0.0 33.14785455652077 ) \">\n          <g transform=\"translate(-3.0 0.0 ) \">\n            <text class=\"axis-text-y\" text-anchor=\"end\" dy=\"0.35em\">\n            0.7\n            </text>\n          </g>\n        </g>\n      </g>\n      <g transform=\"translate(27.034701220281416 0.0 ) \" clip-path=\"url(#c1Z99E0)\" clip-bounds-jfx=\"[rect (0.0, 0.0), (484.9943905965163, 344.0)]\">\n        <defs>\n          <clipPath id=\"c1Z99E0\">\n            <rect x=\"0.0\" y=\"0.0\" width=\"484.9943905965163\" height=\"344.0\">\n            </rect>\n          </clipPath>\n        </defs>\n        <g>\n          \n          <g >\n            <circle fill=\"#e41a1c\" stroke=\"#e41a1c\" stroke-opacity=\"0.0\" stroke-width=\"0.0\" cx=\"22.045199572568926\" cy=\"304.12986823370613\" r=\"6.6000000000000005\" />\n            <circle fill=\"#e41a1c\" stroke=\"#e41a1c\" stroke-opacity=\"0.0\" stroke-width=\"0.0\" cx=\"71.03453195605543\" cy=\"83.68315475074922\" r=\"6.6000000000000005\" />\n            <circle fill=\"#377eb8\" stroke=\"#377eb8\" stroke-opacity=\"0.0\" stroke-width=\"0.0\" cx=\"120.02386433954194\" cy=\"328.3636363636364\" r=\"6.6000000000000005\" />\n            <circle fill=\"#377eb8\" stroke=\"#377eb8\" stroke-opacity=\"0.0\" stroke-width=\"0.0\" cx=\"169.01319672302844\" cy=\"95.93279422669715\" r=\"6.6000000000000005\" />\n            <circle fill=\"#e41a1c\" stroke=\"#e41a1c\" stroke-opacity=\"0.0\" stroke-width=\"0.0\" cx=\"218.00252910651494\" cy=\"99.63569143350168\" r=\"6.6000000000000005\" />\n            <circle fill=\"#377eb8\" stroke=\"#377eb8\" stroke-opacity=\"0.0\" stroke-width=\"0.0\" cx=\"266.9918614900015\" cy=\"220.58704311030803\" r=\"6.6000000000000005\" />\n            <circle fill=\"#e41a1c\" stroke=\"#e41a1c\" stroke-opacity=\"0.0\" stroke-width=\"0.0\" cx=\"315.981193873488\" cy=\"246.53691335973835\" r=\"6.6000000000000005\" />\n            <circle fill=\"#e41a1c\" stroke=\"#e41a1c\" stroke-opacity=\"0.0\" stroke-width=\"0.0\" cx=\"364.9705262569745\" cy=\"224.1074702164891\" r=\"6.6000000000000005\" />\n            <circle fill=\"#377eb8\" stroke=\"#377eb8\" stroke-opacity=\"0.0\" stroke-width=\"0.0\" cx=\"413.959858640461\" cy=\"97.48086515102605\" r=\"6.6000000000000005\" />\n            <circle fill=\"#377eb8\" stroke=\"#377eb8\" stroke-opacity=\"0.0\" stroke-width=\"0.0\" cx=\"462.9491910239475\" cy=\"15.636363636363626\" r=\"6.6000000000000005\" />\n          </g>\n        </g>\n      </g>\n    </g>\n    <g transform=\"translate(14.5 182.0 ) rotate(-90.0 ) \">\n      <text class=\"axis-title-y\" y=\"0.0\" text-anchor=\"middle\">\n      value\n      </text>\n    </g>\n    <g transform=\"translate(292.5318965185396 391.5 ) \">\n      <text class=\"axis-title-x\" y=\"0.0\" text-anchor=\"middle\">\n      time\n      </text>\n    </g>\n    <g transform=\"translate(545.0290918167977 137.75 ) \">\n      <rect x=\"5.0\" y=\"5.0\" height=\"78.5\" width=\"44.970908183202305\" stroke=\"rgb(255,255,255)\" stroke-opacity=\"1.0\" stroke-width=\"0.0\" fill=\"rgb(0,0,0)\" fill-opacity=\"1.0\">\n      </rect>\n      <g transform=\"translate(10.0 10.0 ) \">\n        <g transform=\"translate(0.0 10.5 ) \">\n          <text class=\"legend-title\" y=\"0.0\">\n          type\n          </text>\n        </g>\n        <g transform=\"translate(0.0 22.5 ) \">\n          <g transform=\"\">\n            <g>\n              <rect x=\"0.0\" y=\"0.0\" height=\"23.0\" width=\"23.0\" stroke-width=\"0.0\" fill=\"rgb(0,0,0)\" fill-opacity=\"1.0\">\n              </rect>\n              <g transform=\"translate(1.0 1.0 ) \">\n                <g>\n                  \n                  <g >\n                    <circle fill=\"#e41a1c\" stroke=\"#e41a1c\" stroke-opacity=\"0.0\" stroke-width=\"0.0\" cx=\"10.5\" cy=\"10.5\" r=\"5.5\" />\n                  </g>\n                </g>\n              </g>\n              <rect x=\"0.0\" y=\"0.0\" height=\"23.0\" width=\"23.0\" stroke=\"rgb(0,0,0)\" stroke-opacity=\"1.0\" stroke-width=\"1.0\" fill-opacity=\"0.0\">\n              </rect>\n            </g>\n            <g transform=\"translate(26.9903027277341 16.05 ) \">\n              <text class=\"legend-item\" y=\"0.0\">\n              b\n              </text>\n            </g>\n          </g>\n          <g transform=\"translate(0.0 23.0 ) \">\n            <g>\n              <rect x=\"0.0\" y=\"0.0\" height=\"23.0\" width=\"23.0\" stroke-width=\"0.0\" fill=\"rgb(0,0,0)\" fill-opacity=\"1.0\">\n              </rect>\n              <g transform=\"translate(1.0 1.0 ) \">\n                <g>\n                  \n                  <g >\n                    <circle fill=\"#377eb8\" stroke=\"#377eb8\" stroke-opacity=\"0.0\" stroke-width=\"0.0\" cx=\"10.5\" cy=\"10.5\" r=\"5.5\" />\n                  </g>\n                </g>\n              </g>\n              <rect x=\"0.0\" y=\"0.0\" height=\"23.0\" width=\"23.0\" stroke=\"rgb(0,0,0)\" stroke-opacity=\"1.0\" stroke-width=\"1.0\" fill-opacity=\"0.0\">\n              </rect>\n            </g>\n            <g transform=\"translate(26.9903027277341 16.05 ) \">\n              <text class=\"legend-item\" y=\"0.0\">\n              a\n              </text>\n            </g>\n          </g>\n        </g>\n      </g>\n    </g>\n    <path fill=\"rgb(0,0,0)\" fill-opacity=\"0.0\" stroke=\"rgb(255,255,255)\" stroke-opacity=\"1.0\" stroke-width=\"0.0\" d=\"M0.0 0.0 L0.0 400.0 L600.0 400.0 L600.0 0.0 Z\">\n    </path>\n  </g>\n  <g id=\"dD08PzV\">\n  </g>\n</svg>\n        <script>document.getElementById(\"ed335397-80a6-4a3a-a96c-9e08435f0317\").style.display = \"none\";</script>",
      "application/plot+json": {
       "output_type": "lets_plot_spec",
       "output": {
        "mapping": {},
        "data": {
         "active": [
          false,
          true,
          true,
          true,
          false,
          false,
          false,
          false,
          false,
          true
         ],
         "time": [
          1.0,
          2.0,
          3.0,
          4.0,
          5.0,
          6.0,
          7.0,
          8.0,
          9.0,
          10.0
         ],
         "type": [
          "b",
          "b",
          "a",
          "a",
          "b",
          "a",
          "b",
          "b",
          "a",
          "a"
         ],
         "value": [
          0.08251228,
          0.584845,
          0.027290702,
          0.55693173,
          0.5484939,
          0.27288163,
          0.21374956,
          0.26485962,
          0.55340415,
          0.7399035
         ]
        },
        "kind": "plot",
        "scales": [
         {
          "aesthetic": "x",
          "limits": [
           null,
           null
          ]
         },
         {
          "aesthetic": "y",
          "limits": [
           null,
           null
          ]
         },
         {
          "aesthetic": "color",
          "discrete": true
         }
        ],
        "layers": [
         {
          "mapping": {
           "x": "time",
           "y": "value",
           "color": "type"
          },
          "stat": "identity",
          "size": 6.0,
          "sampling": "none",
          "position": "identity",
          "geom": "point",
          "tooltips": {
           "variables": [
            "type",
            "active"
           ]
          }
         }
        ],
        "theme": {
         "flavor": "high_contrast_dark"
        }
       },
       "apply_color_scheme": true,
       "swing_enabled": true
      }
     },
     "execution_count": 13,
     "metadata": {},
     "output_type": "execute_result"
    }
   ],
   "source": [
    "simpleData.plot {\n",
    "    points {\n",
    "        x(time)\n",
    "        y(value)\n",
    "        color(type)\n",
    "        size = 6.0\n",
    "\n",
    "        tooltips(type, active)\n",
    "    }\n",
    "\n",
    "    // if you are using a high contrast dark theme,\n",
    "    // please change used flavor or your theme\n",
    "    // to make sure we are not lying to you)))\n",
    "    layout.flavor = Flavor.HIGH_CONTRAST_DARK\n",
    "}"
   ],
   "metadata": {
    "collapsed": false,
    "ExecuteTime": {
     "end_time": "2023-11-10T13:51:58.456081Z",
     "start_time": "2023-11-10T13:51:58.251332Z"
    }
   }
  }
 ],
 "metadata": {
  "kernelspec": {
   "display_name": "Kotlin",
   "language": "kotlin",
   "name": "kotlin"
  },
  "language_info": {
   "name": "kotlin",
   "version": "1.8.20-Beta",
   "mimetype": "text/x-kotlin",
   "file_extension": ".kt",
   "pygments_lexer": "kotlin",
   "codemirror_mode": "text/x-kotlin",
   "nbconvert_exporter": ""
  }
 },
 "nbformat": 4,
 "nbformat_minor": 0
}
