{
 "cells": [
  {
   "cell_type": "markdown",
   "source": [
    "# Pie chart"
   ],
   "metadata": {
    "collapsed": false
   }
  },
  {
   "cell_type": "code",
   "execution_count": 1,
   "outputs": [
    {
     "data": {
      "text/plain": ""
     },
     "metadata": {},
     "output_type": "display_data"
    },
    {
     "data": {
      "text/html": "            <div id=\"kotlin_out_0\"></div>\n            <script type=\"text/javascript\">\n                            if(!window.kotlinQueues) {\n                window.kotlinQueues = {};\n            }\n            if(!window.kotlinQueues[\"kandyLetsPlot\"]) {\n                var resQueue = [];\n                window.kotlinQueues[\"kandyLetsPlot\"] = resQueue;\n                window[\"call_kandyLetsPlot\"] = function(f) {\n                    resQueue.push(f);\n                }\n            }\n            (function (){\n                var modifiers = [(function(script) {\n    script.src = \"https://cdn.jsdelivr.net/gh/JetBrains/lets-plot@v4.0.1/js-package/distr/lets-plot.min.js\"\n    script.type = \"text/javascript\";\n})];\n                var e = document.getElementById(\"kotlin_out_0\");\n                modifiers.forEach(function (gen) {\n                    var script = document.createElement(\"script\");\n                    gen(script)\n                    script.addEventListener(\"load\", function() {\n                        window[\"call_kandyLetsPlot\"] = function(f) {f();};\n                        window.kotlinQueues[\"kandyLetsPlot\"].forEach(function(f) {f();});\n                        window.kotlinQueues[\"kandyLetsPlot\"] = [];\n                    }, false);\n                    script.addEventListener(\"error\", function() {\n                        window[\"call_kandyLetsPlot\"] = function(f) {};\n                        window.kotlinQueues[\"kandyLetsPlot\"] = [];\n                        var div = document.createElement(\"div\");\n                        div.style.color = 'darkred';\n                        div.textContent = 'Error loading resource kandyLetsPlot';\n                        document.getElementById(\"kotlin_out_0\").appendChild(div);\n                    }, false);\n                    \n                    e.appendChild(script);\n                });\n            })();\n            </script>"
     },
     "metadata": {},
     "output_type": "display_data"
    }
   ],
   "source": [
    "%use kandy(0.5.0-rc-1)\n",
    "%use dataframe(0.12.0)"
   ],
   "metadata": {
    "collapsed": false,
    "ExecuteTime": {
     "end_time": "2023-11-13T11:13:12.468928Z",
     "start_time": "2023-11-13T11:13:05.085591Z"
    }
   }
  },
  {
   "cell_type": "code",
   "execution_count": 2,
   "outputs": [],
   "source": [
    "val blankTheme = theme {\n",
    "    global.line {\n",
    "        blank = true\n",
    "    }\n",
    "    blankAxes()\n",
    "}"
   ],
   "metadata": {
    "collapsed": false,
    "ExecuteTime": {
     "end_time": "2023-11-13T11:13:12.735507Z",
     "start_time": "2023-11-13T11:13:12.470185Z"
    }
   }
  },
  {
   "cell_type": "code",
   "execution_count": 3,
   "outputs": [],
   "source": [
    "val (w, h) = 400 to 250\n",
    "\n",
    "val data = dataFrameOf(\n",
    "    \"name\" to listOf('a', 'b', 'c', 'd', 'b'),\n",
    "    \"value\" to listOf(40, 90, 10, 50, 20)\n",
    ")"
   ],
   "metadata": {
    "collapsed": false,
    "ExecuteTime": {
     "end_time": "2023-11-13T11:13:13.478934Z",
     "start_time": "2023-11-13T11:13:12.737081Z"
    }
   }
  },
  {
   "cell_type": "markdown",
   "source": [
    "## Basic pie chart"
   ],
   "metadata": {
    "collapsed": false
   }
  },
  {
   "cell_type": "code",
   "execution_count": 4,
   "outputs": [
    {
     "data": {
      "text/html": "            <script type=\"text/javascript\" data-lets-plot-script=\"library\" src=\"https://cdn.jsdelivr.net/gh/JetBrains/lets-plot@v4.0.1/js-package/distr/lets-plot.min.js\"></script>    \n               <div id=\"KaI6Lb\"></div>\n   <script type=\"text/javascript\" data-lets-plot-script=\"plot\">\n       var plotSpec={\n\"mapping\":{\n},\n\"data\":{\n\"name\":[\"a\",\"b\",\"c\",\"d\",\"b\"],\n\"value\":[40.0,90.0,10.0,50.0,20.0]\n},\n\"ggsize\":{\n\"width\":400.0,\n\"height\":250.0\n},\n\"kind\":\"plot\",\n\"scales\":[{\n\"aesthetic\":\"fill\",\n\"discrete\":true\n}],\n\"layers\":[{\n\"mapping\":{\n\"slice\":\"value\",\n\"fill\":\"name\"\n},\n\"stat\":\"identity\",\n\"sampling\":\"none\",\n\"position\":\"identity\",\n\"geom\":\"pie\",\n\"data\":{\n}\n}]\n};\n       var plotContainer = document.getElementById(\"KaI6Lb\");\n       LetsPlot.buildPlotFromProcessedSpecs(plotSpec, -1, -1, plotContainer);\n   </script>            \n        <svg id=b8da5388-2524-4bcb-adce-c4f96a00cd87 xmlns=\"http://www.w3.org/2000/svg\" xmlns:xlink=\"http://www.w3.org/1999/xlink\" class=\"plt-container\" width=\"400.0\" height=\"250.0\">\n  <style type=\"text/css\">\n  .plt-container {\n   font-family: Lucida Grande, sans-serif;\n   user-select: none;\n   -webkit-user-select: none;\n   -moz-user-select: none;\n   -ms-user-select: none;\n}\ntext {\n   text-rendering: optimizeLegibility;\n}\n#pa0xmUz .plot-title {\n   fill: #474747;\n   font-family: Lucida Grande, sans-serif;\n   font-size: 16.0px;\n   font-weight: normal;\n   font-style: normal;   \n}\n#pa0xmUz .plot-subtitle {\n   fill: #474747;\n   font-family: Lucida Grande, sans-serif;\n   font-size: 15.0px;\n   font-weight: normal;\n   font-style: normal;   \n}\n#pa0xmUz .plot-caption {\n   fill: #474747;\n   font-family: Lucida Grande, sans-serif;\n   font-size: 13.0px;\n   font-weight: normal;\n   font-style: normal;   \n}\n#pa0xmUz .legend-title {\n   fill: #474747;\n   font-family: Lucida Grande, sans-serif;\n   font-size: 15.0px;\n   font-weight: normal;\n   font-style: normal;   \n}\n#pa0xmUz .legend-item {\n   fill: #474747;\n   font-family: Lucida Grande, sans-serif;\n   font-size: 13.0px;\n   font-weight: normal;\n   font-style: normal;   \n}\n#pa0xmUz .axis-title-x {\n   fill: #474747;\n   font-family: Lucida Grande, sans-serif;\n   font-size: 15.0px;\n   font-weight: normal;\n   font-style: normal;   \n}\n#pa0xmUz .axis-text-x {\n   fill: #474747;\n   font-family: Lucida Grande, sans-serif;\n   font-size: 13.0px;\n   font-weight: normal;\n   font-style: normal;   \n}\n#dfovvtc .axis-tooltip-text-x {\n   fill: #ffffff;\n   font-family: Lucida Grande, sans-serif;\n   font-size: 13.0px;\n   font-weight: normal;\n   font-style: normal;   \n}\n#pa0xmUz .axis-title-y {\n   fill: #474747;\n   font-family: Lucida Grande, sans-serif;\n   font-size: 15.0px;\n   font-weight: normal;\n   font-style: normal;   \n}\n#pa0xmUz .axis-text-y {\n   fill: #474747;\n   font-family: Lucida Grande, sans-serif;\n   font-size: 13.0px;\n   font-weight: normal;\n   font-style: normal;   \n}\n#dfovvtc .axis-tooltip-text-y {\n   fill: #ffffff;\n   font-family: Lucida Grande, sans-serif;\n   font-size: 13.0px;\n   font-weight: normal;\n   font-style: normal;   \n}\n#pa0xmUz .facet-strip-text-x {\n   fill: #474747;\n   font-family: Lucida Grande, sans-serif;\n   font-size: 13.0px;\n   font-weight: normal;\n   font-style: normal;   \n}\n#pa0xmUz .facet-strip-text-y {\n   fill: #474747;\n   font-family: Lucida Grande, sans-serif;\n   font-size: 13.0px;\n   font-weight: normal;\n   font-style: normal;   \n}\n#dfovvtc .tooltip-text {\n   fill: #474747;\n   font-family: Lucida Grande, sans-serif;\n   font-size: 13.0px;\n   font-weight: normal;\n   font-style: normal;   \n}\n#dfovvtc .tooltip-title {\n   fill: #474747;\n   font-family: Lucida Grande, sans-serif;\n   font-size: 13.0px;\n   font-weight: bold;\n   font-style: normal;   \n}\n#dfovvtc .tooltip-label {\n   fill: #474747;\n   font-family: Lucida Grande, sans-serif;\n   font-size: 13.0px;\n   font-weight: bold;\n   font-style: normal;   \n}\n\n  </style>\n  <g id=\"pa0xmUz\">\n    <path fill-rule=\"evenodd\" fill=\"rgb(255,255,255)\" fill-opacity=\"1.0\" d=\"M0.0 0.0 L0.0 250.0 L400.0 250.0 L400.0 0.0 Z\">\n    </path>\n    <g transform=\"translate(23.0 10.0 ) \">\n      <g transform=\"translate(35.01530667574961 194.0 ) \">\n        <line x1=\"27.124550581235383\" y1=\"-0.0\" x2=\"27.124550581235383\" y2=\"-194.0\" stroke=\"rgb(233,233,233)\" stroke-opacity=\"1.0\" stroke-width=\"1.0\">\n        </line>\n        <line x1=\"81.37365174370616\" y1=\"-0.0\" x2=\"81.37365174370616\" y2=\"-194.0\" stroke=\"rgb(233,233,233)\" stroke-opacity=\"1.0\" stroke-width=\"1.0\">\n        </line>\n        <line x1=\"135.62275290617694\" y1=\"-0.0\" x2=\"135.62275290617694\" y2=\"-194.0\" stroke=\"rgb(233,233,233)\" stroke-opacity=\"1.0\" stroke-width=\"1.0\">\n        </line>\n        <line x1=\"189.87185406864774\" y1=\"-0.0\" x2=\"189.87185406864774\" y2=\"-194.0\" stroke=\"rgb(233,233,233)\" stroke-opacity=\"1.0\" stroke-width=\"1.0\">\n        </line>\n        <line x1=\"244.1209552311185\" y1=\"-0.0\" x2=\"244.1209552311185\" y2=\"-194.0\" stroke=\"rgb(233,233,233)\" stroke-opacity=\"1.0\" stroke-width=\"1.0\">\n        </line>\n        <g transform=\"translate(27.124550581235383 0.0 ) \">\n          <line stroke-width=\"1.0\" stroke=\"rgb(71,71,71)\" stroke-opacity=\"1.0\" x2=\"0.0\" y2=\"4.0\">\n          </line>\n          <g transform=\"translate(0.0 7.0 ) \">\n            <text class=\"axis-text-x\" text-anchor=\"middle\" dy=\"0.7em\">\n            -0.4\n            </text>\n          </g>\n        </g>\n        <g transform=\"translate(81.37365174370616 0.0 ) \">\n          <line stroke-width=\"1.0\" stroke=\"rgb(71,71,71)\" stroke-opacity=\"1.0\" x2=\"0.0\" y2=\"4.0\">\n          </line>\n          <g transform=\"translate(0.0 7.0 ) \">\n            <text class=\"axis-text-x\" text-anchor=\"middle\" dy=\"0.7em\">\n            -0.2\n            </text>\n          </g>\n        </g>\n        <g transform=\"translate(135.62275290617694 0.0 ) \">\n          <line stroke-width=\"1.0\" stroke=\"rgb(71,71,71)\" stroke-opacity=\"1.0\" x2=\"0.0\" y2=\"4.0\">\n          </line>\n          <g transform=\"translate(0.0 7.0 ) \">\n            <text class=\"axis-text-x\" text-anchor=\"middle\" dy=\"0.7em\">\n            0.0\n            </text>\n          </g>\n        </g>\n        <g transform=\"translate(189.87185406864774 0.0 ) \">\n          <line stroke-width=\"1.0\" stroke=\"rgb(71,71,71)\" stroke-opacity=\"1.0\" x2=\"0.0\" y2=\"4.0\">\n          </line>\n          <g transform=\"translate(0.0 7.0 ) \">\n            <text class=\"axis-text-x\" text-anchor=\"middle\" dy=\"0.7em\">\n            0.2\n            </text>\n          </g>\n        </g>\n        <g transform=\"translate(244.1209552311185 0.0 ) \">\n          <line stroke-width=\"1.0\" stroke=\"rgb(71,71,71)\" stroke-opacity=\"1.0\" x2=\"0.0\" y2=\"4.0\">\n          </line>\n          <g transform=\"translate(0.0 7.0 ) \">\n            <text class=\"axis-text-x\" text-anchor=\"middle\" dy=\"0.7em\">\n            0.4\n            </text>\n          </g>\n        </g>\n        <line x1=\"0.0\" y1=\"0.0\" x2=\"271.2455058123539\" y2=\"0.0\" stroke-width=\"1.0\" stroke=\"rgb(71,71,71)\" stroke-opacity=\"1.0\">\n        </line>\n      </g>\n      <g transform=\"translate(35.01530667574961 0.0 ) \">\n        <line x1=\"0.0\" y1=\"174.60000000000002\" x2=\"271.2455058123539\" y2=\"174.60000000000002\" stroke=\"rgb(233,233,233)\" stroke-opacity=\"1.0\" stroke-width=\"1.0\">\n        </line>\n        <line x1=\"0.0\" y1=\"135.8\" x2=\"271.2455058123539\" y2=\"135.8\" stroke=\"rgb(233,233,233)\" stroke-opacity=\"1.0\" stroke-width=\"1.0\">\n        </line>\n        <line x1=\"0.0\" y1=\"97.0\" x2=\"271.2455058123539\" y2=\"97.0\" stroke=\"rgb(233,233,233)\" stroke-opacity=\"1.0\" stroke-width=\"1.0\">\n        </line>\n        <line x1=\"0.0\" y1=\"58.199999999999996\" x2=\"271.2455058123539\" y2=\"58.199999999999996\" stroke=\"rgb(233,233,233)\" stroke-opacity=\"1.0\" stroke-width=\"1.0\">\n        </line>\n        <line x1=\"0.0\" y1=\"19.39999999999999\" x2=\"271.2455058123539\" y2=\"19.39999999999999\" stroke=\"rgb(233,233,233)\" stroke-opacity=\"1.0\" stroke-width=\"1.0\">\n        </line>\n        <g transform=\"translate(0.0 174.60000000000002 ) \">\n          <g transform=\"translate(-3.0 0.0 ) \">\n            <text class=\"axis-text-y\" text-anchor=\"end\" dy=\"0.35em\">\n            -0.4\n            </text>\n          </g>\n        </g>\n        <g transform=\"translate(0.0 135.8 ) \">\n          <g transform=\"translate(-3.0 0.0 ) \">\n            <text class=\"axis-text-y\" text-anchor=\"end\" dy=\"0.35em\">\n            -0.2\n            </text>\n          </g>\n        </g>\n        <g transform=\"translate(0.0 97.0 ) \">\n          <g transform=\"translate(-3.0 0.0 ) \">\n            <text class=\"axis-text-y\" text-anchor=\"end\" dy=\"0.35em\">\n            0.0\n            </text>\n          </g>\n        </g>\n        <g transform=\"translate(0.0 58.199999999999996 ) \">\n          <g transform=\"translate(-3.0 0.0 ) \">\n            <text class=\"axis-text-y\" text-anchor=\"end\" dy=\"0.35em\">\n            0.2\n            </text>\n          </g>\n        </g>\n        <g transform=\"translate(0.0 19.39999999999999 ) \">\n          <g transform=\"translate(-3.0 0.0 ) \">\n            <text class=\"axis-text-y\" text-anchor=\"end\" dy=\"0.35em\">\n            0.4\n            </text>\n          </g>\n        </g>\n      </g>\n      <g transform=\"translate(35.01530667574961 0.0 ) \" clip-path=\"url(#cV85S8r)\" clip-bounds-jfx=\"[rect (0.0, 0.0), (271.2455058123539, 194.0)]\">\n        <defs>\n          <clipPath id=\"cV85S8r\">\n            <rect x=\"0.0\" y=\"0.0\" width=\"271.2455058123539\" height=\"194.0\">\n            </rect>\n          </clipPath>\n        </defs>\n        <g>\n          <path d=\"M135.62275290617694 97.0 L89.07906547396674 78.73294878168024 A50.0 50.0 0.0 0 1 135.62275290617694 47.0 L135.62275290617694 97.0 A0.0 0.0 0.0 0 0 135.62275290617694 97.0 \" fill=\"rgb(228,26,28)\" stroke-width=\"1.0\" fill-opacity=\"1.0\">\n          </path>\n        </g>\n        <g>\n          <path d=\"M135.62275290617694 97.0 L135.62275290617694 47.0 A50.0 50.0 0.0 0 1 157.31693986205485 142.04844339512096 L135.62275290617694 97.0 A0.0 0.0 0.0 0 0 135.62275290617694 97.0 \" fill=\"rgb(55,126,184)\" stroke-width=\"1.0\" fill-opacity=\"1.0\">\n          </path>\n        </g>\n        <g>\n          <path d=\"M135.62275290617694 97.0 L157.31693986205485 142.04844339512096 A50.0 50.0 0.0 0 1 143.07486621498566 146.44154131125643 L135.62275290617694 97.0 A0.0 0.0 0.0 0 0 135.62275290617694 97.0 \" fill=\"rgb(77,175,74)\" stroke-width=\"1.0\" fill-opacity=\"1.0\">\n          </path>\n        </g>\n        <g>\n          <path d=\"M135.62275290617694 97.0 L143.07486621498566 146.44154131125643 A50.0 50.0 0.0 0 1 86.87635729708576 108.12604669781572 L135.62275290617694 97.0 A0.0 0.0 0.0 0 0 135.62275290617694 97.0 \" fill=\"rgb(152,78,163)\" stroke-width=\"1.0\" fill-opacity=\"1.0\">\n          </path>\n        </g>\n        <g>\n          <path d=\"M135.62275290617694 97.0 L86.87635729708576 108.12604669781572 A50.0 50.0 0.0 0 1 89.07906547396672 78.73294878168028 L135.62275290617694 97.0 A0.0 0.0 0.0 0 0 135.62275290617694 97.0 \" fill=\"rgb(55,126,184)\" stroke-width=\"1.0\" fill-opacity=\"1.0\">\n          </path>\n        </g>\n        <g>\n          <path d=\"M89.07906547396674 78.73294878168024 A50.0 50.0 0.0 0 1 135.62275290617694 47.0 M135.62275290617694 97.0 A0.0 0.0 0.0 0 0 135.62275290617694 97.0 \" fill=\"none\" stroke-width=\"0.75\" stroke=\"rgb(255,255,255)\" stroke-opacity=\"1.0\">\n          </path>\n        </g>\n        <g>\n          <path d=\"M135.62275290617694 47.0 A50.0 50.0 0.0 0 1 157.31693986205485 142.04844339512096 M135.62275290617694 97.0 A0.0 0.0 0.0 0 0 135.62275290617694 97.0 \" fill=\"none\" stroke-width=\"0.75\" stroke=\"rgb(255,255,255)\" stroke-opacity=\"1.0\">\n          </path>\n        </g>\n        <g>\n          <path d=\"M157.31693986205485 142.04844339512096 A50.0 50.0 0.0 0 1 143.07486621498566 146.44154131125643 M135.62275290617694 97.0 A0.0 0.0 0.0 0 0 135.62275290617694 97.0 \" fill=\"none\" stroke-width=\"0.75\" stroke=\"rgb(255,255,255)\" stroke-opacity=\"1.0\">\n          </path>\n        </g>\n        <g>\n          <path d=\"M143.07486621498566 146.44154131125643 A50.0 50.0 0.0 0 1 86.87635729708576 108.12604669781572 M135.62275290617694 97.0 A0.0 0.0 0.0 0 0 135.62275290617694 97.0 \" fill=\"none\" stroke-width=\"0.75\" stroke=\"rgb(255,255,255)\" stroke-opacity=\"1.0\">\n          </path>\n        </g>\n        <g>\n          <path d=\"M86.87635729708576 108.12604669781572 A50.0 50.0 0.0 0 1 89.07906547396672 78.73294878168028 M135.62275290617694 97.0 A0.0 0.0 0.0 0 0 135.62275290617694 97.0 \" fill=\"none\" stroke-width=\"0.75\" stroke=\"rgb(255,255,255)\" stroke-opacity=\"1.0\">\n          </path>\n        </g>\n        <g>\n          <path d=\"M135.62275290617694 97.0 L89.07906547396674 78.73294878168024 M135.62275290617694 97.0 L135.62275290617694 47.0 \" fill=\"none\" stroke-width=\"0.75\" stroke=\"rgb(255,255,255)\" stroke-opacity=\"1.0\">\n          </path>\n        </g>\n        <g>\n          <path d=\"M135.62275290617694 97.0 L135.62275290617694 47.0 M135.62275290617694 97.0 L157.31693986205485 142.04844339512096 \" fill=\"none\" stroke-width=\"0.75\" stroke=\"rgb(255,255,255)\" stroke-opacity=\"1.0\">\n          </path>\n        </g>\n        <g>\n          <path d=\"M135.62275290617694 97.0 L157.31693986205485 142.04844339512096 M135.62275290617694 97.0 L143.07486621498566 146.44154131125643 \" fill=\"none\" stroke-width=\"0.75\" stroke=\"rgb(255,255,255)\" stroke-opacity=\"1.0\">\n          </path>\n        </g>\n        <g>\n          <path d=\"M135.62275290617694 97.0 L143.07486621498566 146.44154131125643 M135.62275290617694 97.0 L86.87635729708576 108.12604669781572 \" fill=\"none\" stroke-width=\"0.75\" stroke=\"rgb(255,255,255)\" stroke-opacity=\"1.0\">\n          </path>\n        </g>\n        <g>\n          <path d=\"M135.62275290617694 97.0 L86.87635729708576 108.12604669781572 M135.62275290617694 97.0 L89.07906547396672 78.73294878168028 \" fill=\"none\" stroke-width=\"0.75\" stroke=\"rgb(255,255,255)\" stroke-opacity=\"1.0\">\n          </path>\n        </g>\n      </g>\n    </g>\n    <g transform=\"translate(14.5 107.0 ) rotate(-90.0 ) \">\n      <text class=\"axis-title-y\" y=\"0.0\" text-anchor=\"middle\">\n      y\n      </text>\n    </g>\n    <g transform=\"translate(193.63805958192654 241.5 ) \">\n      <text class=\"axis-title-x\" y=\"0.0\" text-anchor=\"middle\">\n      x\n      </text>\n    </g>\n    <g transform=\"translate(339.2608124881035 39.75 ) \">\n      <rect x=\"5.0\" y=\"5.0\" height=\"124.5\" width=\"50.739187511896475\" stroke=\"rgb(71,71,71)\" stroke-opacity=\"1.0\" stroke-width=\"0.0\" fill=\"rgb(255,255,255)\" fill-opacity=\"1.0\">\n      </rect>\n      <g transform=\"translate(10.0 10.0 ) \">\n        <g transform=\"translate(0.0 10.5 ) \">\n          <text class=\"legend-title\" y=\"0.0\">\n          name\n          </text>\n        </g>\n        <g transform=\"translate(0.0 22.5 ) \">\n          <g transform=\"\">\n            <g>\n              <rect x=\"0.0\" y=\"0.0\" height=\"23.0\" width=\"23.0\" stroke-width=\"0.0\" fill=\"rgb(255,255,255)\" fill-opacity=\"1.0\">\n              </rect>\n              <g transform=\"translate(1.0 1.0 ) \">\n                <g>\n                  <circle cx=\"10.5\" cy=\"10.5\" r=\"5.0\" fill=\"rgb(228,26,28)\" fill-opacity=\"1.0\" stroke=\"rgb(71,71,71)\" stroke-opacity=\"1.0\" stroke-width=\"0.75\">\n                  </circle>\n                </g>\n              </g>\n              <rect x=\"0.0\" y=\"0.0\" height=\"23.0\" width=\"23.0\" stroke=\"rgb(255,255,255)\" stroke-opacity=\"1.0\" stroke-width=\"1.0\" fill-opacity=\"0.0\">\n              </rect>\n            </g>\n            <g transform=\"translate(26.9903027277341 16.05 ) \">\n              <text class=\"legend-item\" y=\"0.0\">\n              a\n              </text>\n            </g>\n          </g>\n          <g transform=\"translate(0.0 23.0 ) \">\n            <g>\n              <rect x=\"0.0\" y=\"0.0\" height=\"23.0\" width=\"23.0\" stroke-width=\"0.0\" fill=\"rgb(255,255,255)\" fill-opacity=\"1.0\">\n              </rect>\n              <g transform=\"translate(1.0 1.0 ) \">\n                <g>\n                  <circle cx=\"10.5\" cy=\"10.5\" r=\"5.0\" fill=\"rgb(55,126,184)\" fill-opacity=\"1.0\" stroke=\"rgb(71,71,71)\" stroke-opacity=\"1.0\" stroke-width=\"0.75\">\n                  </circle>\n                </g>\n              </g>\n              <rect x=\"0.0\" y=\"0.0\" height=\"23.0\" width=\"23.0\" stroke=\"rgb(255,255,255)\" stroke-opacity=\"1.0\" stroke-width=\"1.0\" fill-opacity=\"0.0\">\n              </rect>\n            </g>\n            <g transform=\"translate(26.9903027277341 16.05 ) \">\n              <text class=\"legend-item\" y=\"0.0\">\n              b\n              </text>\n            </g>\n          </g>\n          <g transform=\"translate(0.0 46.0 ) \">\n            <g>\n              <rect x=\"0.0\" y=\"0.0\" height=\"23.0\" width=\"23.0\" stroke-width=\"0.0\" fill=\"rgb(255,255,255)\" fill-opacity=\"1.0\">\n              </rect>\n              <g transform=\"translate(1.0 1.0 ) \">\n                <g>\n                  <circle cx=\"10.5\" cy=\"10.5\" r=\"5.0\" fill=\"rgb(77,175,74)\" fill-opacity=\"1.0\" stroke=\"rgb(71,71,71)\" stroke-opacity=\"1.0\" stroke-width=\"0.75\">\n                  </circle>\n                </g>\n              </g>\n              <rect x=\"0.0\" y=\"0.0\" height=\"23.0\" width=\"23.0\" stroke=\"rgb(255,255,255)\" stroke-opacity=\"1.0\" stroke-width=\"1.0\" fill-opacity=\"0.0\">\n              </rect>\n            </g>\n            <g transform=\"translate(26.9903027277341 16.05 ) \">\n              <text class=\"legend-item\" y=\"0.0\">\n              c\n              </text>\n            </g>\n          </g>\n          <g transform=\"translate(0.0 69.0 ) \">\n            <g>\n              <rect x=\"0.0\" y=\"0.0\" height=\"23.0\" width=\"23.0\" stroke-width=\"0.0\" fill=\"rgb(255,255,255)\" fill-opacity=\"1.0\">\n              </rect>\n              <g transform=\"translate(1.0 1.0 ) \">\n                <g>\n                  <circle cx=\"10.5\" cy=\"10.5\" r=\"5.0\" fill=\"rgb(152,78,163)\" fill-opacity=\"1.0\" stroke=\"rgb(71,71,71)\" stroke-opacity=\"1.0\" stroke-width=\"0.75\">\n                  </circle>\n                </g>\n              </g>\n              <rect x=\"0.0\" y=\"0.0\" height=\"23.0\" width=\"23.0\" stroke=\"rgb(255,255,255)\" stroke-opacity=\"1.0\" stroke-width=\"1.0\" fill-opacity=\"0.0\">\n              </rect>\n            </g>\n            <g transform=\"translate(26.9903027277341 16.05 ) \">\n              <text class=\"legend-item\" y=\"0.0\">\n              d\n              </text>\n            </g>\n          </g>\n        </g>\n      </g>\n    </g>\n    <path fill=\"rgb(0,0,0)\" fill-opacity=\"0.0\" stroke=\"rgb(71,71,71)\" stroke-opacity=\"1.0\" stroke-width=\"0.0\" d=\"M0.0 0.0 L0.0 250.0 L400.0 250.0 L400.0 0.0 Z\">\n    </path>\n  </g>\n  <g id=\"dfovvtc\">\n  </g>\n</svg>\n        <script>document.getElementById(\"b8da5388-2524-4bcb-adce-c4f96a00cd87\").style.display = \"none\";</script>",
      "application/plot+json": {
       "output_type": "lets_plot_spec",
       "output": {
        "mapping": {},
        "data": {
         "name": [
          "a",
          "b",
          "c",
          "d",
          "b"
         ],
         "value": [
          40.0,
          90.0,
          10.0,
          50.0,
          20.0
         ]
        },
        "ggsize": {
         "width": 400.0,
         "height": 250.0
        },
        "kind": "plot",
        "scales": [
         {
          "aesthetic": "fill",
          "discrete": true
         }
        ],
        "layers": [
         {
          "mapping": {
           "slice": "value",
           "fill": "name"
          },
          "stat": "identity",
          "sampling": "none",
          "position": "identity",
          "geom": "pie"
         }
        ]
       },
       "apply_color_scheme": true,
       "swing_enabled": true
      }
     },
     "execution_count": 4,
     "metadata": {},
     "output_type": "execute_result"
    }
   ],
   "source": [
    "data.plot {\n",
    "    pie {\n",
    "        slice(value)\n",
    "        fillColor(name)\n",
    "    }\n",
    "    layout {\n",
    "        size = w to h\n",
    "    }\n",
    " }"
   ],
   "metadata": {
    "collapsed": false,
    "ExecuteTime": {
     "end_time": "2023-11-13T11:13:14.210582Z",
     "start_time": "2023-11-13T11:13:13.480179Z"
    }
   }
  },
  {
   "cell_type": "markdown",
   "source": [
    "### Improve appearance"
   ],
   "metadata": {
    "collapsed": false
   }
  },
  {
   "cell_type": "markdown",
   "source": [
    "- configure stroke\n",
    "- make the pie bigger\n",
    "- add hole to draw donut-like chart\n",
    "- use blank theme\n",
    "- use better colors"
   ],
   "metadata": {
    "collapsed": false
   }
  },
  {
   "cell_type": "code",
   "execution_count": 5,
   "outputs": [
    {
     "data": {
      "text/html": "            <script type=\"text/javascript\" data-lets-plot-script=\"library\" src=\"https://cdn.jsdelivr.net/gh/JetBrains/lets-plot@v4.0.1/js-package/distr/lets-plot.min.js\"></script>    \n               <div id=\"MK3EZy\"></div>\n   <script type=\"text/javascript\" data-lets-plot-script=\"plot\">\n       var plotSpec={\n\"mapping\":{\n},\n\"data\":{\n\"name\":[\"a\",\"b\",\"c\",\"d\",\"b\"],\n\"value\":[40.0,90.0,10.0,50.0,20.0]\n},\n\"ggsize\":{\n\"width\":400.0,\n\"height\":250.0\n},\n\"kind\":\"plot\",\n\"scales\":[{\n\"aesthetic\":\"fill\",\n\"scale_mapper_kind\":\"color_brewer\",\n\"palette\":\"Set1\"\n}],\n\"layers\":[{\n\"hole\":0.5,\n\"mapping\":{\n\"slice\":\"value\",\n\"fill\":\"name\"\n},\n\"stat\":\"identity\",\n\"size\":20.0,\n\"sampling\":\"none\",\n\"stroke_color\":\"#ffffff\",\n\"position\":\"identity\",\n\"geom\":\"pie\",\n\"stroke\":1.0,\n\"data\":{\n}\n}],\n\"theme\":{\n\"axis\":\"blank\",\n\"axis_ontop\":false,\n\"axis_ontop_y\":false,\n\"line\":{\n\"blank\":true\n},\n\"axis_ontop_x\":false\n}\n};\n       var plotContainer = document.getElementById(\"MK3EZy\");\n       LetsPlot.buildPlotFromProcessedSpecs(plotSpec, -1, -1, plotContainer);\n   </script>            \n        <svg id=ce8fe34f-7681-4401-b93c-8dd4c817fb4a xmlns=\"http://www.w3.org/2000/svg\" xmlns:xlink=\"http://www.w3.org/1999/xlink\" class=\"plt-container\" width=\"400.0\" height=\"250.0\">\n  <style type=\"text/css\">\n  .plt-container {\n   font-family: Lucida Grande, sans-serif;\n   user-select: none;\n   -webkit-user-select: none;\n   -moz-user-select: none;\n   -ms-user-select: none;\n}\ntext {\n   text-rendering: optimizeLegibility;\n}\n#pTBRJmM .plot-title {\n   fill: #474747;\n   font-family: Lucida Grande, sans-serif;\n   font-size: 16.0px;\n   font-weight: normal;\n   font-style: normal;   \n}\n#pTBRJmM .plot-subtitle {\n   fill: #474747;\n   font-family: Lucida Grande, sans-serif;\n   font-size: 15.0px;\n   font-weight: normal;\n   font-style: normal;   \n}\n#pTBRJmM .plot-caption {\n   fill: #474747;\n   font-family: Lucida Grande, sans-serif;\n   font-size: 13.0px;\n   font-weight: normal;\n   font-style: normal;   \n}\n#pTBRJmM .legend-title {\n   fill: #474747;\n   font-family: Lucida Grande, sans-serif;\n   font-size: 15.0px;\n   font-weight: normal;\n   font-style: normal;   \n}\n#pTBRJmM .legend-item {\n   fill: #474747;\n   font-family: Lucida Grande, sans-serif;\n   font-size: 13.0px;\n   font-weight: normal;\n   font-style: normal;   \n}\n#pTBRJmM .axis-title-x {\n   fill: #474747;\n   font-family: Lucida Grande, sans-serif;\n   font-size: 15.0px;\n   font-weight: normal;\n   font-style: normal;   \n}\n#pTBRJmM .axis-text-x {\n   fill: #474747;\n   font-family: Lucida Grande, sans-serif;\n   font-size: 13.0px;\n   font-weight: normal;\n   font-style: normal;   \n}\n#dYquf2g .axis-tooltip-text-x {\n   fill: #ffffff;\n   font-family: Lucida Grande, sans-serif;\n   font-size: 13.0px;\n   font-weight: normal;\n   font-style: normal;   \n}\n#pTBRJmM .axis-title-y {\n   fill: #474747;\n   font-family: Lucida Grande, sans-serif;\n   font-size: 15.0px;\n   font-weight: normal;\n   font-style: normal;   \n}\n#pTBRJmM .axis-text-y {\n   fill: #474747;\n   font-family: Lucida Grande, sans-serif;\n   font-size: 13.0px;\n   font-weight: normal;\n   font-style: normal;   \n}\n#dYquf2g .axis-tooltip-text-y {\n   fill: #ffffff;\n   font-family: Lucida Grande, sans-serif;\n   font-size: 13.0px;\n   font-weight: normal;\n   font-style: normal;   \n}\n#pTBRJmM .facet-strip-text-x {\n   fill: #474747;\n   font-family: Lucida Grande, sans-serif;\n   font-size: 13.0px;\n   font-weight: normal;\n   font-style: normal;   \n}\n#pTBRJmM .facet-strip-text-y {\n   fill: #474747;\n   font-family: Lucida Grande, sans-serif;\n   font-size: 13.0px;\n   font-weight: normal;\n   font-style: normal;   \n}\n#dYquf2g .tooltip-text {\n   fill: #474747;\n   font-family: Lucida Grande, sans-serif;\n   font-size: 13.0px;\n   font-weight: normal;\n   font-style: normal;   \n}\n#dYquf2g .tooltip-title {\n   fill: #474747;\n   font-family: Lucida Grande, sans-serif;\n   font-size: 13.0px;\n   font-weight: bold;\n   font-style: normal;   \n}\n#dYquf2g .tooltip-label {\n   fill: #474747;\n   font-family: Lucida Grande, sans-serif;\n   font-size: 13.0px;\n   font-weight: bold;\n   font-style: normal;   \n}\n\n  </style>\n  <g id=\"pTBRJmM\">\n    <path fill-rule=\"evenodd\" fill=\"rgb(255,255,255)\" fill-opacity=\"1.0\" d=\"M0.0 0.0 L0.0 250.0 L400.0 250.0 L400.0 0.0 Z\">\n    </path>\n    <g transform=\"translate(10.0 10.0 ) \">\n      <g transform=\"translate(0.0 230.0 ) \">\n      </g>\n      <g transform=\"\">\n      </g>\n      <g transform=\"\" clip-path=\"url(#cPJYNi4)\" clip-bounds-jfx=\"[rect (0.0, 0.0), (319.2608124881035, 230.0)]\">\n        <defs>\n          <clipPath id=\"cPJYNi4\">\n            <rect x=\"0.0\" y=\"0.0\" width=\"319.2608124881035\" height=\"230.0\">\n            </rect>\n          </clipPath>\n        </defs>\n        <g>\n          <path d=\"M113.08671881184155 96.73294878168024 L66.54303137963134 78.46589756336047 A100.0 100.0 0.0 0 1 159.63040624405176 15.0 L159.63040624405176 65.0 A50.0 50.0 0.0 0 0 113.08671881184155 96.73294878168024 \" fill=\"rgb(228,26,28)\" stroke-width=\"1.0\" fill-opacity=\"1.0\">\n          </path>\n        </g>\n        <g>\n          <path d=\"M159.63040624405176 65.0 L159.63040624405176 15.0 A100.0 100.0 0.0 0 1 203.01878015580758 205.0968867902419 L181.32459319992967 160.04844339512096 A50.0 50.0 0.0 0 0 159.63040624405176 65.0 \" fill=\"rgb(55,126,184)\" stroke-width=\"1.0\" fill-opacity=\"1.0\">\n          </path>\n        </g>\n        <g>\n          <path d=\"M181.32459319992967 160.04844339512096 L203.01878015580758 205.0968867902419 A100.0 100.0 0.0 0 1 174.53463286166922 213.88308262251286 L167.08251955286048 164.44154131125643 A50.0 50.0 0.0 0 0 181.32459319992967 160.04844339512096 \" fill=\"rgb(77,175,74)\" stroke-width=\"1.0\" fill-opacity=\"1.0\">\n          </path>\n        </g>\n        <g>\n          <path d=\"M167.08251955286048 164.44154131125643 L174.53463286166922 213.88308262251286 A100.0 100.0 0.0 0 1 62.137615025869394 137.25209339563145 L110.88401063496057 126.12604669781572 A50.0 50.0 0.0 0 0 167.08251955286048 164.44154131125643 \" fill=\"rgb(152,78,163)\" stroke-width=\"1.0\" fill-opacity=\"1.0\">\n          </path>\n        </g>\n        <g>\n          <path d=\"M110.88401063496057 126.12604669781572 L62.137615025869394 137.25209339563145 A100.0 100.0 0.0 0 1 66.54303137963132 78.46589756336054 L113.08671881184154 96.73294878168028 A50.0 50.0 0.0 0 0 110.88401063496057 126.12604669781572 \" fill=\"rgb(55,126,184)\" stroke-width=\"1.0\" fill-opacity=\"1.0\">\n          </path>\n        </g>\n        <g>\n          <path d=\"M66.54303137963134 78.46589756336047 A100.0 100.0 0.0 0 1 159.63040624405176 15.0 M159.63040624405176 65.0 A50.0 50.0 0.0 0 0 113.08671881184155 96.73294878168024 \" fill=\"none\" stroke-width=\"1.0\" stroke=\"rgb(255,255,255)\" stroke-opacity=\"1.0\">\n          </path>\n        </g>\n        <g>\n          <path d=\"M159.63040624405176 15.0 A100.0 100.0 0.0 0 1 203.01878015580758 205.0968867902419 M181.32459319992967 160.04844339512096 A50.0 50.0 0.0 0 0 159.63040624405176 65.0 \" fill=\"none\" stroke-width=\"1.0\" stroke=\"rgb(255,255,255)\" stroke-opacity=\"1.0\">\n          </path>\n        </g>\n        <g>\n          <path d=\"M203.01878015580758 205.0968867902419 A100.0 100.0 0.0 0 1 174.53463286166922 213.88308262251286 M167.08251955286048 164.44154131125643 A50.0 50.0 0.0 0 0 181.32459319992967 160.04844339512096 \" fill=\"none\" stroke-width=\"1.0\" stroke=\"rgb(255,255,255)\" stroke-opacity=\"1.0\">\n          </path>\n        </g>\n        <g>\n          <path d=\"M174.53463286166922 213.88308262251286 A100.0 100.0 0.0 0 1 62.137615025869394 137.25209339563145 M110.88401063496057 126.12604669781572 A50.0 50.0 0.0 0 0 167.08251955286048 164.44154131125643 \" fill=\"none\" stroke-width=\"1.0\" stroke=\"rgb(255,255,255)\" stroke-opacity=\"1.0\">\n          </path>\n        </g>\n        <g>\n          <path d=\"M62.137615025869394 137.25209339563145 A100.0 100.0 0.0 0 1 66.54303137963132 78.46589756336054 M113.08671881184154 96.73294878168028 A50.0 50.0 0.0 0 0 110.88401063496057 126.12604669781572 \" fill=\"none\" stroke-width=\"1.0\" stroke=\"rgb(255,255,255)\" stroke-opacity=\"1.0\">\n          </path>\n        </g>\n        <g>\n          <path d=\"M113.08671881184155 96.73294878168024 L66.54303137963134 78.46589756336047 M159.63040624405176 65.0 L159.63040624405176 15.0 \" fill=\"none\" stroke-width=\"0.75\" stroke=\"rgb(255,255,255)\" stroke-opacity=\"1.0\">\n          </path>\n        </g>\n        <g>\n          <path d=\"M159.63040624405176 65.0 L159.63040624405176 15.0 M181.32459319992967 160.04844339512096 L203.01878015580758 205.0968867902419 \" fill=\"none\" stroke-width=\"0.75\" stroke=\"rgb(255,255,255)\" stroke-opacity=\"1.0\">\n          </path>\n        </g>\n        <g>\n          <path d=\"M181.32459319992967 160.04844339512096 L203.01878015580758 205.0968867902419 M167.08251955286048 164.44154131125643 L174.53463286166922 213.88308262251286 \" fill=\"none\" stroke-width=\"0.75\" stroke=\"rgb(255,255,255)\" stroke-opacity=\"1.0\">\n          </path>\n        </g>\n        <g>\n          <path d=\"M167.08251955286048 164.44154131125643 L174.53463286166922 213.88308262251286 M110.88401063496057 126.12604669781572 L62.137615025869394 137.25209339563145 \" fill=\"none\" stroke-width=\"0.75\" stroke=\"rgb(255,255,255)\" stroke-opacity=\"1.0\">\n          </path>\n        </g>\n        <g>\n          <path d=\"M110.88401063496057 126.12604669781572 L62.137615025869394 137.25209339563145 M113.08671881184154 96.73294878168028 L66.54303137963132 78.46589756336054 \" fill=\"none\" stroke-width=\"0.75\" stroke=\"rgb(255,255,255)\" stroke-opacity=\"1.0\">\n          </path>\n        </g>\n      </g>\n    </g>\n    <g transform=\"translate(339.2608124881035 57.75 ) \">\n      <rect x=\"5.0\" y=\"5.0\" height=\"124.5\" width=\"50.739187511896475\" stroke=\"rgb(71,71,71)\" stroke-opacity=\"1.0\" stroke-width=\"0.0\" fill=\"rgb(255,255,255)\" fill-opacity=\"1.0\">\n      </rect>\n      <g transform=\"translate(10.0 10.0 ) \">\n        <g transform=\"translate(0.0 10.5 ) \">\n          <text class=\"legend-title\" y=\"0.0\">\n          name\n          </text>\n        </g>\n        <g transform=\"translate(0.0 22.5 ) \">\n          <g transform=\"\">\n            <g>\n              <rect x=\"0.0\" y=\"0.0\" height=\"23.0\" width=\"23.0\" stroke-width=\"0.0\" fill=\"rgb(255,255,255)\" fill-opacity=\"1.0\">\n              </rect>\n              <g transform=\"translate(1.0 1.0 ) \">\n                <g>\n                  <circle cx=\"10.5\" cy=\"10.5\" r=\"5.0\" fill=\"rgb(228,26,28)\" fill-opacity=\"1.0\" stroke=\"rgb(71,71,71)\" stroke-opacity=\"1.0\" stroke-width=\"0.75\">\n                  </circle>\n                </g>\n              </g>\n              <rect x=\"0.0\" y=\"0.0\" height=\"23.0\" width=\"23.0\" stroke=\"rgb(255,255,255)\" stroke-opacity=\"1.0\" stroke-width=\"1.0\" fill-opacity=\"0.0\">\n              </rect>\n            </g>\n            <g transform=\"translate(26.9903027277341 16.05 ) \">\n              <text class=\"legend-item\" y=\"0.0\">\n              a\n              </text>\n            </g>\n          </g>\n          <g transform=\"translate(0.0 23.0 ) \">\n            <g>\n              <rect x=\"0.0\" y=\"0.0\" height=\"23.0\" width=\"23.0\" stroke-width=\"0.0\" fill=\"rgb(255,255,255)\" fill-opacity=\"1.0\">\n              </rect>\n              <g transform=\"translate(1.0 1.0 ) \">\n                <g>\n                  <circle cx=\"10.5\" cy=\"10.5\" r=\"5.0\" fill=\"rgb(55,126,184)\" fill-opacity=\"1.0\" stroke=\"rgb(71,71,71)\" stroke-opacity=\"1.0\" stroke-width=\"0.75\">\n                  </circle>\n                </g>\n              </g>\n              <rect x=\"0.0\" y=\"0.0\" height=\"23.0\" width=\"23.0\" stroke=\"rgb(255,255,255)\" stroke-opacity=\"1.0\" stroke-width=\"1.0\" fill-opacity=\"0.0\">\n              </rect>\n            </g>\n            <g transform=\"translate(26.9903027277341 16.05 ) \">\n              <text class=\"legend-item\" y=\"0.0\">\n              b\n              </text>\n            </g>\n          </g>\n          <g transform=\"translate(0.0 46.0 ) \">\n            <g>\n              <rect x=\"0.0\" y=\"0.0\" height=\"23.0\" width=\"23.0\" stroke-width=\"0.0\" fill=\"rgb(255,255,255)\" fill-opacity=\"1.0\">\n              </rect>\n              <g transform=\"translate(1.0 1.0 ) \">\n                <g>\n                  <circle cx=\"10.5\" cy=\"10.5\" r=\"5.0\" fill=\"rgb(77,175,74)\" fill-opacity=\"1.0\" stroke=\"rgb(71,71,71)\" stroke-opacity=\"1.0\" stroke-width=\"0.75\">\n                  </circle>\n                </g>\n              </g>\n              <rect x=\"0.0\" y=\"0.0\" height=\"23.0\" width=\"23.0\" stroke=\"rgb(255,255,255)\" stroke-opacity=\"1.0\" stroke-width=\"1.0\" fill-opacity=\"0.0\">\n              </rect>\n            </g>\n            <g transform=\"translate(26.9903027277341 16.05 ) \">\n              <text class=\"legend-item\" y=\"0.0\">\n              c\n              </text>\n            </g>\n          </g>\n          <g transform=\"translate(0.0 69.0 ) \">\n            <g>\n              <rect x=\"0.0\" y=\"0.0\" height=\"23.0\" width=\"23.0\" stroke-width=\"0.0\" fill=\"rgb(255,255,255)\" fill-opacity=\"1.0\">\n              </rect>\n              <g transform=\"translate(1.0 1.0 ) \">\n                <g>\n                  <circle cx=\"10.5\" cy=\"10.5\" r=\"5.0\" fill=\"rgb(152,78,163)\" fill-opacity=\"1.0\" stroke=\"rgb(71,71,71)\" stroke-opacity=\"1.0\" stroke-width=\"0.75\">\n                  </circle>\n                </g>\n              </g>\n              <rect x=\"0.0\" y=\"0.0\" height=\"23.0\" width=\"23.0\" stroke=\"rgb(255,255,255)\" stroke-opacity=\"1.0\" stroke-width=\"1.0\" fill-opacity=\"0.0\">\n              </rect>\n            </g>\n            <g transform=\"translate(26.9903027277341 16.05 ) \">\n              <text class=\"legend-item\" y=\"0.0\">\n              d\n              </text>\n            </g>\n          </g>\n        </g>\n      </g>\n    </g>\n    <path fill=\"rgb(0,0,0)\" fill-opacity=\"0.0\" stroke=\"rgb(71,71,71)\" stroke-opacity=\"1.0\" stroke-width=\"0.0\" d=\"M0.0 0.0 L0.0 250.0 L400.0 250.0 L400.0 0.0 Z\">\n    </path>\n  </g>\n  <g id=\"dYquf2g\">\n  </g>\n</svg>\n        <script>document.getElementById(\"ce8fe34f-7681-4401-b93c-8dd4c817fb4a\").style.display = \"none\";</script>",
      "application/plot+json": {
       "output_type": "lets_plot_spec",
       "output": {
        "mapping": {},
        "data": {
         "name": [
          "a",
          "b",
          "c",
          "d",
          "b"
         ],
         "value": [
          40.0,
          90.0,
          10.0,
          50.0,
          20.0
         ]
        },
        "ggsize": {
         "width": 400.0,
         "height": 250.0
        },
        "kind": "plot",
        "scales": [
         {
          "aesthetic": "fill",
          "scale_mapper_kind": "color_brewer",
          "palette": "Set1"
         }
        ],
        "layers": [
         {
          "hole": 0.5,
          "mapping": {
           "slice": "value",
           "fill": "name"
          },
          "stat": "identity",
          "size": 20.0,
          "sampling": "none",
          "stroke_color": "#ffffff",
          "position": "identity",
          "geom": "pie",
          "stroke": 1.0
         }
        ],
        "theme": {
         "axis": "blank",
         "axis_ontop": false,
         "axis_ontop_y": false,
         "line": {
          "blank": true
         },
         "axis_ontop_x": false
        }
       },
       "apply_color_scheme": true,
       "swing_enabled": true
      }
     },
     "execution_count": 5,
     "metadata": {},
     "output_type": "execute_result"
    }
   ],
   "source": [
    "data.plot {\n",
    "    pie {\n",
    "        slice(value)\n",
    "        fillColor(name) {\n",
    "            scale = categoricalColorBrewer(BrewerPalette.Qualitative.Set1)\n",
    "        }\n",
    "        size = 20.0\n",
    "        stroke = 1.0\n",
    "        strokeColor = Color.WHITE\n",
    "        hole = 0.5\n",
    "    }\n",
    "    layout {\n",
    "        theme(blankTheme)\n",
    "        size = w to h\n",
    "    }\n",
    "}"
   ],
   "metadata": {
    "collapsed": false,
    "ExecuteTime": {
     "end_time": "2023-11-13T11:13:14.580317Z",
     "start_time": "2023-11-13T11:13:14.209218Z"
    }
   }
  },
  {
   "cell_type": "markdown",
   "source": [
    "## Explode"
   ],
   "metadata": {
    "collapsed": false
   }
  },
  {
   "cell_type": "code",
   "execution_count": 6,
   "outputs": [],
   "source": [
    "val length = dataFrameOf(\n",
    "  \"name\" to listOf(\"20-50 km\", \"50-75 km\", \"10-20 km\", \"75-100 km\", \"3-5 km\", \"7-10 km\", \"5-7 km\", \">100 km\", \"2-3 km\"),\n",
    "  \"count\" to listOf(1109, 696, 353, 192, 168, 86, 74, 65, 53),\n",
    "  \"explode\" to listOf(0, 0, 0, 0.1, 0.1, 0.2, 0.3, 0.4, 0.6)\n",
    ")"
   ],
   "metadata": {
    "collapsed": false,
    "ExecuteTime": {
     "end_time": "2023-11-13T11:13:15.129296Z",
     "start_time": "2023-11-13T11:13:14.579717Z"
    }
   }
  },
  {
   "cell_type": "code",
   "execution_count": 7,
   "outputs": [
    {
     "data": {
      "text/html": "            <script type=\"text/javascript\" data-lets-plot-script=\"library\" src=\"https://cdn.jsdelivr.net/gh/JetBrains/lets-plot@v4.0.1/js-package/distr/lets-plot.min.js\"></script>    \n               <div id=\"CC6xhc\"></div>\n   <script type=\"text/javascript\" data-lets-plot-script=\"plot\">\n       var plotSpec={\n\"mapping\":{\n},\n\"data\":{\n\"explode\":[0.0,0.0,0.0,0.1,0.1,0.2,0.3,0.4,0.6],\n\"name\":[\"20-50 km\",\"50-75 km\",\"10-20 km\",\"75-100 km\",\"3-5 km\",\"7-10 km\",\"5-7 km\",\">100 km\",\"2-3 km\"],\n\"count\":[1109.0,696.0,353.0,192.0,168.0,86.0,74.0,65.0,53.0]\n},\n\"kind\":\"plot\",\n\"scales\":[{\n\"aesthetic\":\"fill\",\n\"scale_mapper_kind\":\"color_gradient\",\n\"high\":\"#91cc75\",\n\"low\":\"dark_blue\",\n\"limits\":[null,null]\n}],\n\"layers\":[{\n\"mapping\":{\n\"fill\":\"name\",\n\"slice\":\"count\",\n\"explode\":\"explode\"\n},\n\"stat\":\"identity\",\n\"size\":20.0,\n\"sampling\":\"none\",\n\"stroke_color\":\"#000000\",\n\"position\":\"identity\",\n\"geom\":\"pie\",\n\"stroke\":1.0,\n\"data\":{\n}\n}],\n\"theme\":{\n\"axis\":\"blank\",\n\"axis_ontop\":false,\n\"axis_ontop_y\":false,\n\"line\":{\n\"blank\":true\n},\n\"axis_ontop_x\":false\n}\n};\n       var plotContainer = document.getElementById(\"CC6xhc\");\n       LetsPlot.buildPlotFromProcessedSpecs(plotSpec, -1, -1, plotContainer);\n   </script>            \n        <svg id=3b53aeba-6ed6-49b0-b843-01757dd34424 xmlns=\"http://www.w3.org/2000/svg\" xmlns:xlink=\"http://www.w3.org/1999/xlink\" class=\"plt-container\" width=\"600.0\" height=\"400.0\">\n  <style type=\"text/css\">\n  .plt-container {\n   font-family: Lucida Grande, sans-serif;\n   user-select: none;\n   -webkit-user-select: none;\n   -moz-user-select: none;\n   -ms-user-select: none;\n}\ntext {\n   text-rendering: optimizeLegibility;\n}\n#pDzrLbH .plot-title {\n   fill: #474747;\n   font-family: Lucida Grande, sans-serif;\n   font-size: 16.0px;\n   font-weight: normal;\n   font-style: normal;   \n}\n#pDzrLbH .plot-subtitle {\n   fill: #474747;\n   font-family: Lucida Grande, sans-serif;\n   font-size: 15.0px;\n   font-weight: normal;\n   font-style: normal;   \n}\n#pDzrLbH .plot-caption {\n   fill: #474747;\n   font-family: Lucida Grande, sans-serif;\n   font-size: 13.0px;\n   font-weight: normal;\n   font-style: normal;   \n}\n#pDzrLbH .legend-title {\n   fill: #474747;\n   font-family: Lucida Grande, sans-serif;\n   font-size: 15.0px;\n   font-weight: normal;\n   font-style: normal;   \n}\n#pDzrLbH .legend-item {\n   fill: #474747;\n   font-family: Lucida Grande, sans-serif;\n   font-size: 13.0px;\n   font-weight: normal;\n   font-style: normal;   \n}\n#pDzrLbH .axis-title-x {\n   fill: #474747;\n   font-family: Lucida Grande, sans-serif;\n   font-size: 15.0px;\n   font-weight: normal;\n   font-style: normal;   \n}\n#pDzrLbH .axis-text-x {\n   fill: #474747;\n   font-family: Lucida Grande, sans-serif;\n   font-size: 13.0px;\n   font-weight: normal;\n   font-style: normal;   \n}\n#dFPKqw7 .axis-tooltip-text-x {\n   fill: #ffffff;\n   font-family: Lucida Grande, sans-serif;\n   font-size: 13.0px;\n   font-weight: normal;\n   font-style: normal;   \n}\n#pDzrLbH .axis-title-y {\n   fill: #474747;\n   font-family: Lucida Grande, sans-serif;\n   font-size: 15.0px;\n   font-weight: normal;\n   font-style: normal;   \n}\n#pDzrLbH .axis-text-y {\n   fill: #474747;\n   font-family: Lucida Grande, sans-serif;\n   font-size: 13.0px;\n   font-weight: normal;\n   font-style: normal;   \n}\n#dFPKqw7 .axis-tooltip-text-y {\n   fill: #ffffff;\n   font-family: Lucida Grande, sans-serif;\n   font-size: 13.0px;\n   font-weight: normal;\n   font-style: normal;   \n}\n#pDzrLbH .facet-strip-text-x {\n   fill: #474747;\n   font-family: Lucida Grande, sans-serif;\n   font-size: 13.0px;\n   font-weight: normal;\n   font-style: normal;   \n}\n#pDzrLbH .facet-strip-text-y {\n   fill: #474747;\n   font-family: Lucida Grande, sans-serif;\n   font-size: 13.0px;\n   font-weight: normal;\n   font-style: normal;   \n}\n#dFPKqw7 .tooltip-text {\n   fill: #474747;\n   font-family: Lucida Grande, sans-serif;\n   font-size: 13.0px;\n   font-weight: normal;\n   font-style: normal;   \n}\n#dFPKqw7 .tooltip-title {\n   fill: #474747;\n   font-family: Lucida Grande, sans-serif;\n   font-size: 13.0px;\n   font-weight: bold;\n   font-style: normal;   \n}\n#dFPKqw7 .tooltip-label {\n   fill: #474747;\n   font-family: Lucida Grande, sans-serif;\n   font-size: 13.0px;\n   font-weight: bold;\n   font-style: normal;   \n}\n\n  </style>\n  <g id=\"pDzrLbH\">\n    <path fill-rule=\"evenodd\" fill=\"rgb(255,255,255)\" fill-opacity=\"1.0\" d=\"M0.0 0.0 L0.0 400.0 L600.0 400.0 L600.0 0.0 Z\">\n    </path>\n    <g transform=\"translate(10.0 10.0 ) \">\n      <g transform=\"translate(0.0 380.0 ) \">\n      </g>\n      <g transform=\"\">\n      </g>\n      <g transform=\"\" clip-path=\"url(#cN9CMBZ)\" clip-bounds-jfx=\"[rect (0.0, 0.0), (460.70648929740446, 380.0)]\">\n        <defs>\n          <clipPath id=\"cN9CMBZ\">\n            <rect x=\"0.0\" y=\"0.0\" width=\"460.70648929740446\" height=\"380.0\">\n            </rect>\n          </clipPath>\n        </defs>\n        <g>\n          <path d=\"M230.35324464870223 190.0 L169.87901441115528 269.6421212498522 A100.0 100.0 0.0 0 1 230.35324464870223 90.0 L230.35324464870223 190.0 A0.0 0.0 0.0 0 0 230.35324464870223 190.0 \" fill=\"rgb(0,0,128)\" stroke-width=\"1.0\" fill-opacity=\"1.0\">\n          </path>\n        </g>\n        <g>\n          <path d=\"M230.35324464870223 190.0 L230.35324464870223 90.0 A100.0 100.0 0.0 0 1 330.35097218857663 189.32584359304573 L230.35324464870223 190.0 A0.0 0.0 0.0 0 0 230.35324464870223 190.0 \" fill=\"rgb(10,47,137)\" stroke-width=\"1.0\" fill-opacity=\"1.0\">\n          </path>\n        </g>\n        <g>\n          <path d=\"M230.35324464870223 190.0 L330.35097218857663 189.32584359304573 A100.0 100.0 0.0 0 1 300.9844274522588 260.7900841627595 L230.35324464870223 190.0 A0.0 0.0 0.0 0 0 230.35324464870223 190.0 \" fill=\"rgb(21,94,147)\" stroke-width=\"1.0\" fill-opacity=\"1.0\">\n          </path>\n        </g>\n        <g>\n          <path d=\"M235.737291874738 198.426863916536 L306.36847467829455 269.21694807929555 A100.0 100.0 0.0 0 1 270.2910124987032 292.2673689825306 L235.737291874738 198.426863916536 A0.0 0.0 0.0 0 0 235.737291874738 198.426863916536 \" fill=\"rgb(33,140,156)\" stroke-width=\"1.0\" fill-opacity=\"1.0\">\n          </path>\n        </g>\n        <g>\n          <path d=\"M231.98635646893922 199.8657460834243 L266.5400770929044 293.7062511494189 A100.0 100.0 0.0 0 1 229.51468265276733 299.835195559484 L231.98635646893922 199.8657460834243 A0.0 0.0 0.0 0 0 231.98635646893922 199.8657460834243 \" fill=\"rgb(47,166,147)\" stroke-width=\"1.0\" fill-opacity=\"1.0\">\n          </path>\n        </g>\n        <g>\n          <path d=\"M227.93221527410768 209.85292464014685 L225.4605414579358 309.82237411620656 A100.0 100.0 0.0 0 1 206.30653707064857 307.48657684183615 L227.93221527410768 209.85292464014685 A0.0 0.0 0.0 0 0 227.93221527410768 209.85292464014685 \" fill=\"rgb(62,175,124)\" stroke-width=\"1.0\" fill-opacity=\"1.0\">\n          </path>\n        </g>\n        <g>\n          <path d=\"M221.45538781924685 218.65009849620964 L199.82970961578775 316.283750697899 A100.0 100.0 0.0 0 1 183.96694919646788 311.3572555533977 L221.45538781924685 218.65009849620964 A0.0 0.0 0.0 0 0 221.45538781924685 218.65009849620964 \" fill=\"rgb(79,185,106)\" stroke-width=\"1.0\" fill-opacity=\"1.0\">\n          </path>\n        </g>\n        <g>\n          <path d=\"M212.69193517240774 225.88980562196667 L175.20349654962877 318.59696267915473 A100.0 100.0 0.0 0 1 162.10923482792407 312.1532997887356 L212.69193517240774 225.88980562196667 A0.0 0.0 0.0 0 0 212.69193517240774 225.88980562196667 \" fill=\"rgb(100,194,97)\" stroke-width=\"1.0\" fill-opacity=\"1.0\">\n          </path>\n        </g>\n        <g>\n          <path d=\"M196.97700164766007 239.8600682223298 L146.3943013031764 326.1235623890987 A100.0 100.0 0.0 0 1 136.50277141011316 319.502189472182 L196.97700164766007 239.8600682223298 A0.0 0.0 0.0 0 0 196.97700164766007 239.8600682223298 \" fill=\"rgb(145,204,116)\" stroke-width=\"1.0\" fill-opacity=\"1.0\">\n          </path>\n        </g>\n        <g>\n          <path d=\"M169.87901441115528 269.6421212498522 A100.0 100.0 0.0 0 1 230.35324464870223 90.0 M230.35324464870223 190.0 A0.0 0.0 0.0 0 0 230.35324464870223 190.0 \" fill=\"none\" stroke-width=\"1.0\" stroke=\"rgb(255,255,255)\" stroke-opacity=\"1.0\">\n          </path>\n        </g>\n        <g>\n          <path d=\"M230.35324464870223 90.0 A100.0 100.0 0.0 0 1 330.35097218857663 189.32584359304573 M230.35324464870223 190.0 A0.0 0.0 0.0 0 0 230.35324464870223 190.0 \" fill=\"none\" stroke-width=\"1.0\" stroke=\"rgb(255,255,255)\" stroke-opacity=\"1.0\">\n          </path>\n        </g>\n        <g>\n          <path d=\"M330.35097218857663 189.32584359304573 A100.0 100.0 0.0 0 1 300.9844274522588 260.7900841627595 M230.35324464870223 190.0 A0.0 0.0 0.0 0 0 230.35324464870223 190.0 \" fill=\"none\" stroke-width=\"1.0\" stroke=\"rgb(255,255,255)\" stroke-opacity=\"1.0\">\n          </path>\n        </g>\n        <g>\n          <path d=\"M306.36847467829455 269.21694807929555 A100.0 100.0 0.0 0 1 270.2910124987032 292.2673689825306 M235.737291874738 198.426863916536 A0.0 0.0 0.0 0 0 235.737291874738 198.426863916536 \" fill=\"none\" stroke-width=\"1.0\" stroke=\"rgb(255,255,255)\" stroke-opacity=\"1.0\">\n          </path>\n        </g>\n        <g>\n          <path d=\"M266.5400770929044 293.7062511494189 A100.0 100.0 0.0 0 1 229.51468265276733 299.835195559484 M231.98635646893922 199.8657460834243 A0.0 0.0 0.0 0 0 231.98635646893922 199.8657460834243 \" fill=\"none\" stroke-width=\"1.0\" stroke=\"rgb(255,255,255)\" stroke-opacity=\"1.0\">\n          </path>\n        </g>\n        <g>\n          <path d=\"M225.4605414579358 309.82237411620656 A100.0 100.0 0.0 0 1 206.30653707064857 307.48657684183615 M227.93221527410768 209.85292464014685 A0.0 0.0 0.0 0 0 227.93221527410768 209.85292464014685 \" fill=\"none\" stroke-width=\"1.0\" stroke=\"rgb(255,255,255)\" stroke-opacity=\"1.0\">\n          </path>\n        </g>\n        <g>\n          <path d=\"M199.82970961578775 316.283750697899 A100.0 100.0 0.0 0 1 183.96694919646788 311.3572555533977 M221.45538781924685 218.65009849620964 A0.0 0.0 0.0 0 0 221.45538781924685 218.65009849620964 \" fill=\"none\" stroke-width=\"1.0\" stroke=\"rgb(255,255,255)\" stroke-opacity=\"1.0\">\n          </path>\n        </g>\n        <g>\n          <path d=\"M175.20349654962877 318.59696267915473 A100.0 100.0 0.0 0 1 162.10923482792407 312.1532997887356 M212.69193517240774 225.88980562196667 A0.0 0.0 0.0 0 0 212.69193517240774 225.88980562196667 \" fill=\"none\" stroke-width=\"1.0\" stroke=\"rgb(255,255,255)\" stroke-opacity=\"1.0\">\n          </path>\n        </g>\n        <g>\n          <path d=\"M146.3943013031764 326.1235623890987 A100.0 100.0 0.0 0 1 136.50277141011316 319.502189472182 M196.97700164766007 239.8600682223298 A0.0 0.0 0.0 0 0 196.97700164766007 239.8600682223298 \" fill=\"none\" stroke-width=\"1.0\" stroke=\"rgb(255,255,255)\" stroke-opacity=\"1.0\">\n          </path>\n        </g>\n        <g>\n          <path d=\"M230.35324464870223 190.0 L230.35324464870223 90.0 \" fill=\"none\" stroke-width=\"0.75\" stroke=\"rgb(255,255,255)\" stroke-opacity=\"1.0\">\n          </path>\n        </g>\n        <g>\n          <path d=\"M230.35324464870223 190.0 L230.35324464870223 90.0 M230.35324464870223 190.0 L330.35097218857663 189.32584359304573 \" fill=\"none\" stroke-width=\"0.75\" stroke=\"rgb(255,255,255)\" stroke-opacity=\"1.0\">\n          </path>\n        </g>\n        <g>\n          <path d=\"M230.35324464870223 190.0 L330.35097218857663 189.32584359304573 \" fill=\"none\" stroke-width=\"0.75\" stroke=\"rgb(255,255,255)\" stroke-opacity=\"1.0\">\n          </path>\n        </g>\n        <g>\n          <path d=\"\" fill=\"none\" stroke-width=\"0.75\" stroke=\"rgb(255,255,255)\" stroke-opacity=\"1.0\">\n          </path>\n        </g>\n        <g>\n          <path d=\"\" fill=\"none\" stroke-width=\"0.75\" stroke=\"rgb(255,255,255)\" stroke-opacity=\"1.0\">\n          </path>\n        </g>\n        <g>\n          <path d=\"\" fill=\"none\" stroke-width=\"0.75\" stroke=\"rgb(255,255,255)\" stroke-opacity=\"1.0\">\n          </path>\n        </g>\n        <g>\n          <path d=\"\" fill=\"none\" stroke-width=\"0.75\" stroke=\"rgb(255,255,255)\" stroke-opacity=\"1.0\">\n          </path>\n        </g>\n        <g>\n          <path d=\"\" fill=\"none\" stroke-width=\"0.75\" stroke=\"rgb(255,255,255)\" stroke-opacity=\"1.0\">\n          </path>\n        </g>\n        <g>\n          <path d=\"\" fill=\"none\" stroke-width=\"0.75\" stroke=\"rgb(255,255,255)\" stroke-opacity=\"1.0\">\n          </path>\n        </g>\n      </g>\n    </g>\n    <g transform=\"translate(480.70648929740446 75.25 ) \">\n      <rect x=\"5.0\" y=\"5.0\" height=\"239.5\" width=\"109.29351070259553\" stroke=\"rgb(71,71,71)\" stroke-opacity=\"1.0\" stroke-width=\"0.0\" fill=\"rgb(255,255,255)\" fill-opacity=\"1.0\">\n      </rect>\n      <g transform=\"translate(10.0 10.0 ) \">\n        <g transform=\"translate(0.0 10.5 ) \">\n          <text class=\"legend-title\" y=\"0.0\">\n          name\n          </text>\n        </g>\n        <g transform=\"translate(0.0 22.5 ) \">\n          <g transform=\"\">\n            <g>\n              <rect x=\"0.0\" y=\"0.0\" height=\"23.0\" width=\"23.0\" stroke-width=\"0.0\" fill=\"rgb(255,255,255)\" fill-opacity=\"1.0\">\n              </rect>\n              <g transform=\"translate(1.0 1.0 ) \">\n                <g>\n                  <circle cx=\"10.5\" cy=\"10.5\" r=\"5.0\" fill=\"rgb(0,0,128)\" fill-opacity=\"1.0\" stroke=\"rgb(71,71,71)\" stroke-opacity=\"1.0\" stroke-width=\"0.75\">\n                  </circle>\n                </g>\n              </g>\n              <rect x=\"0.0\" y=\"0.0\" height=\"23.0\" width=\"23.0\" stroke=\"rgb(255,255,255)\" stroke-opacity=\"1.0\" stroke-width=\"1.0\" fill-opacity=\"0.0\">\n              </rect>\n            </g>\n            <g transform=\"translate(26.9903027277341 16.05 ) \">\n              <text class=\"legend-item\" y=\"0.0\">\n              20-50 km\n              </text>\n            </g>\n          </g>\n          <g transform=\"translate(0.0 23.0 ) \">\n            <g>\n              <rect x=\"0.0\" y=\"0.0\" height=\"23.0\" width=\"23.0\" stroke-width=\"0.0\" fill=\"rgb(255,255,255)\" fill-opacity=\"1.0\">\n              </rect>\n              <g transform=\"translate(1.0 1.0 ) \">\n                <g>\n                  <circle cx=\"10.5\" cy=\"10.5\" r=\"5.0\" fill=\"rgb(10,47,137)\" fill-opacity=\"1.0\" stroke=\"rgb(71,71,71)\" stroke-opacity=\"1.0\" stroke-width=\"0.75\">\n                  </circle>\n                </g>\n              </g>\n              <rect x=\"0.0\" y=\"0.0\" height=\"23.0\" width=\"23.0\" stroke=\"rgb(255,255,255)\" stroke-opacity=\"1.0\" stroke-width=\"1.0\" fill-opacity=\"0.0\">\n              </rect>\n            </g>\n            <g transform=\"translate(26.9903027277341 16.05 ) \">\n              <text class=\"legend-item\" y=\"0.0\">\n              50-75 km\n              </text>\n            </g>\n          </g>\n          <g transform=\"translate(0.0 46.0 ) \">\n            <g>\n              <rect x=\"0.0\" y=\"0.0\" height=\"23.0\" width=\"23.0\" stroke-width=\"0.0\" fill=\"rgb(255,255,255)\" fill-opacity=\"1.0\">\n              </rect>\n              <g transform=\"translate(1.0 1.0 ) \">\n                <g>\n                  <circle cx=\"10.5\" cy=\"10.5\" r=\"5.0\" fill=\"rgb(21,94,147)\" fill-opacity=\"1.0\" stroke=\"rgb(71,71,71)\" stroke-opacity=\"1.0\" stroke-width=\"0.75\">\n                  </circle>\n                </g>\n              </g>\n              <rect x=\"0.0\" y=\"0.0\" height=\"23.0\" width=\"23.0\" stroke=\"rgb(255,255,255)\" stroke-opacity=\"1.0\" stroke-width=\"1.0\" fill-opacity=\"0.0\">\n              </rect>\n            </g>\n            <g transform=\"translate(26.9903027277341 16.05 ) \">\n              <text class=\"legend-item\" y=\"0.0\">\n              10-20 km\n              </text>\n            </g>\n          </g>\n          <g transform=\"translate(0.0 69.0 ) \">\n            <g>\n              <rect x=\"0.0\" y=\"0.0\" height=\"23.0\" width=\"23.0\" stroke-width=\"0.0\" fill=\"rgb(255,255,255)\" fill-opacity=\"1.0\">\n              </rect>\n              <g transform=\"translate(1.0 1.0 ) \">\n                <g>\n                  <circle cx=\"10.5\" cy=\"10.5\" r=\"5.0\" fill=\"rgb(33,140,156)\" fill-opacity=\"1.0\" stroke=\"rgb(71,71,71)\" stroke-opacity=\"1.0\" stroke-width=\"0.75\">\n                  </circle>\n                </g>\n              </g>\n              <rect x=\"0.0\" y=\"0.0\" height=\"23.0\" width=\"23.0\" stroke=\"rgb(255,255,255)\" stroke-opacity=\"1.0\" stroke-width=\"1.0\" fill-opacity=\"0.0\">\n              </rect>\n            </g>\n            <g transform=\"translate(26.9903027277341 16.05 ) \">\n              <text class=\"legend-item\" y=\"0.0\">\n              75-100 km\n              </text>\n            </g>\n          </g>\n          <g transform=\"translate(0.0 92.0 ) \">\n            <g>\n              <rect x=\"0.0\" y=\"0.0\" height=\"23.0\" width=\"23.0\" stroke-width=\"0.0\" fill=\"rgb(255,255,255)\" fill-opacity=\"1.0\">\n              </rect>\n              <g transform=\"translate(1.0 1.0 ) \">\n                <g>\n                  <circle cx=\"10.5\" cy=\"10.5\" r=\"5.0\" fill=\"rgb(47,166,147)\" fill-opacity=\"1.0\" stroke=\"rgb(71,71,71)\" stroke-opacity=\"1.0\" stroke-width=\"0.75\">\n                  </circle>\n                </g>\n              </g>\n              <rect x=\"0.0\" y=\"0.0\" height=\"23.0\" width=\"23.0\" stroke=\"rgb(255,255,255)\" stroke-opacity=\"1.0\" stroke-width=\"1.0\" fill-opacity=\"0.0\">\n              </rect>\n            </g>\n            <g transform=\"translate(26.9903027277341 16.05 ) \">\n              <text class=\"legend-item\" y=\"0.0\">\n              3-5 km\n              </text>\n            </g>\n          </g>\n          <g transform=\"translate(0.0 115.0 ) \">\n            <g>\n              <rect x=\"0.0\" y=\"0.0\" height=\"23.0\" width=\"23.0\" stroke-width=\"0.0\" fill=\"rgb(255,255,255)\" fill-opacity=\"1.0\">\n              </rect>\n              <g transform=\"translate(1.0 1.0 ) \">\n                <g>\n                  <circle cx=\"10.5\" cy=\"10.5\" r=\"5.0\" fill=\"rgb(62,175,124)\" fill-opacity=\"1.0\" stroke=\"rgb(71,71,71)\" stroke-opacity=\"1.0\" stroke-width=\"0.75\">\n                  </circle>\n                </g>\n              </g>\n              <rect x=\"0.0\" y=\"0.0\" height=\"23.0\" width=\"23.0\" stroke=\"rgb(255,255,255)\" stroke-opacity=\"1.0\" stroke-width=\"1.0\" fill-opacity=\"0.0\">\n              </rect>\n            </g>\n            <g transform=\"translate(26.9903027277341 16.05 ) \">\n              <text class=\"legend-item\" y=\"0.0\">\n              7-10 km\n              </text>\n            </g>\n          </g>\n          <g transform=\"translate(0.0 138.0 ) \">\n            <g>\n              <rect x=\"0.0\" y=\"0.0\" height=\"23.0\" width=\"23.0\" stroke-width=\"0.0\" fill=\"rgb(255,255,255)\" fill-opacity=\"1.0\">\n              </rect>\n              <g transform=\"translate(1.0 1.0 ) \">\n                <g>\n                  <circle cx=\"10.5\" cy=\"10.5\" r=\"5.0\" fill=\"rgb(79,185,106)\" fill-opacity=\"1.0\" stroke=\"rgb(71,71,71)\" stroke-opacity=\"1.0\" stroke-width=\"0.75\">\n                  </circle>\n                </g>\n              </g>\n              <rect x=\"0.0\" y=\"0.0\" height=\"23.0\" width=\"23.0\" stroke=\"rgb(255,255,255)\" stroke-opacity=\"1.0\" stroke-width=\"1.0\" fill-opacity=\"0.0\">\n              </rect>\n            </g>\n            <g transform=\"translate(26.9903027277341 16.05 ) \">\n              <text class=\"legend-item\" y=\"0.0\">\n              5-7 km\n              </text>\n            </g>\n          </g>\n          <g transform=\"translate(0.0 161.0 ) \">\n            <g>\n              <rect x=\"0.0\" y=\"0.0\" height=\"23.0\" width=\"23.0\" stroke-width=\"0.0\" fill=\"rgb(255,255,255)\" fill-opacity=\"1.0\">\n              </rect>\n              <g transform=\"translate(1.0 1.0 ) \">\n                <g>\n                  <circle cx=\"10.5\" cy=\"10.5\" r=\"5.0\" fill=\"rgb(100,194,97)\" fill-opacity=\"1.0\" stroke=\"rgb(71,71,71)\" stroke-opacity=\"1.0\" stroke-width=\"0.75\">\n                  </circle>\n                </g>\n              </g>\n              <rect x=\"0.0\" y=\"0.0\" height=\"23.0\" width=\"23.0\" stroke=\"rgb(255,255,255)\" stroke-opacity=\"1.0\" stroke-width=\"1.0\" fill-opacity=\"0.0\">\n              </rect>\n            </g>\n            <g transform=\"translate(26.9903027277341 16.05 ) \">\n              <text class=\"legend-item\" y=\"0.0\">\n              &gt;100 km\n              </text>\n            </g>\n          </g>\n          <g transform=\"translate(0.0 184.0 ) \">\n            <g>\n              <rect x=\"0.0\" y=\"0.0\" height=\"23.0\" width=\"23.0\" stroke-width=\"0.0\" fill=\"rgb(255,255,255)\" fill-opacity=\"1.0\">\n              </rect>\n              <g transform=\"translate(1.0 1.0 ) \">\n                <g>\n                  <circle cx=\"10.5\" cy=\"10.5\" r=\"5.0\" fill=\"rgb(145,204,116)\" fill-opacity=\"1.0\" stroke=\"rgb(71,71,71)\" stroke-opacity=\"1.0\" stroke-width=\"0.75\">\n                  </circle>\n                </g>\n              </g>\n              <rect x=\"0.0\" y=\"0.0\" height=\"23.0\" width=\"23.0\" stroke=\"rgb(255,255,255)\" stroke-opacity=\"1.0\" stroke-width=\"1.0\" fill-opacity=\"0.0\">\n              </rect>\n            </g>\n            <g transform=\"translate(26.9903027277341 16.05 ) \">\n              <text class=\"legend-item\" y=\"0.0\">\n              2-3 km\n              </text>\n            </g>\n          </g>\n        </g>\n      </g>\n    </g>\n    <path fill=\"rgb(0,0,0)\" fill-opacity=\"0.0\" stroke=\"rgb(71,71,71)\" stroke-opacity=\"1.0\" stroke-width=\"0.0\" d=\"M0.0 0.0 L0.0 400.0 L600.0 400.0 L600.0 0.0 Z\">\n    </path>\n  </g>\n  <g id=\"dFPKqw7\">\n  </g>\n</svg>\n        <script>document.getElementById(\"3b53aeba-6ed6-49b0-b843-01757dd34424\").style.display = \"none\";</script>",
      "application/plot+json": {
       "output_type": "lets_plot_spec",
       "output": {
        "mapping": {},
        "data": {
         "explode": [
          0.0,
          0.0,
          0.0,
          0.1,
          0.1,
          0.2,
          0.3,
          0.4,
          0.6
         ],
         "name": [
          "20-50 km",
          "50-75 km",
          "10-20 km",
          "75-100 km",
          "3-5 km",
          "7-10 km",
          "5-7 km",
          ">100 km",
          "2-3 km"
         ],
         "count": [
          1109.0,
          696.0,
          353.0,
          192.0,
          168.0,
          86.0,
          74.0,
          65.0,
          53.0
         ]
        },
        "kind": "plot",
        "scales": [
         {
          "aesthetic": "fill",
          "scale_mapper_kind": "color_gradient",
          "high": "#91cc75",
          "low": "dark_blue",
          "limits": [
           null,
           null
          ]
         }
        ],
        "layers": [
         {
          "mapping": {
           "fill": "name",
           "slice": "count",
           "explode": "explode"
          },
          "stat": "identity",
          "size": 20.0,
          "sampling": "none",
          "stroke_color": "#000000",
          "position": "identity",
          "geom": "pie",
          "stroke": 1.0
         }
        ],
        "theme": {
         "axis": "blank",
         "axis_ontop": false,
         "axis_ontop_y": false,
         "line": {
          "blank": true
         },
         "axis_ontop_x": false
        }
       },
       "apply_color_scheme": true,
       "swing_enabled": true
      }
     },
     "execution_count": 7,
     "metadata": {},
     "output_type": "execute_result"
    }
   ],
   "source": [
    "length.plot {\n",
    "    pie {\n",
    "        fillColor(name) {\n",
    "            scale = continuous(Color.named(\"dark_blue\"), Color.LIGHT_GREEN)\n",
    "        }\n",
    "        slice(count)\n",
    "        explode(explode)\n",
    "        stroke = 1.0\n",
    "        strokeColor = Color.BLACK\n",
    "        size = 20.0\n",
    "     }\n",
    "     layout.theme(blankTheme)\n",
    " }"
   ],
   "metadata": {
    "collapsed": false,
    "ExecuteTime": {
     "end_time": "2023-11-13T11:13:15.429888Z",
     "start_time": "2023-11-13T11:13:15.131231Z"
    }
   }
  },
  {
   "cell_type": "code",
   "execution_count": 8,
   "outputs": [],
   "source": [
    "val calories = dataFrameOf(\n",
    "    \"slice\" to listOf(35, 25, 25, 15),\n",
    "    \"label\" to listOf(\"Apples\", \"Bananas\", \"Cherries\", \"Dates\"),\n",
    "    \"explode\" to listOf(0.1, 0, 0, 0)\n",
    ")"
   ],
   "metadata": {
    "collapsed": false,
    "ExecuteTime": {
     "end_time": "2023-11-13T11:13:15.958371Z",
     "start_time": "2023-11-13T11:13:15.426381Z"
    }
   }
  },
  {
   "cell_type": "code",
   "execution_count": 9,
   "outputs": [
    {
     "data": {
      "text/html": "            <script type=\"text/javascript\" data-lets-plot-script=\"library\" src=\"https://cdn.jsdelivr.net/gh/JetBrains/lets-plot@v4.0.1/js-package/distr/lets-plot.min.js\"></script>    \n               <div id=\"d6VhfN\"></div>\n   <script type=\"text/javascript\" data-lets-plot-script=\"plot\">\n       var plotSpec={\n\"layout\":{\n\"name\":\"grid\",\n\"ncol\":2,\n\"nrow\":1,\n\"fit\":true,\n\"align\":false\n},\n\"figures\":[{\n\"mapping\":{\n},\n\"data\":{\n\"slice\":[35.0,25.0,25.0,15.0],\n\"explode\":[0.1,0.0,0.0,0.0],\n\"label\":[\"Apples\",\"Bananas\",\"Cherries\",\"Dates\"]\n},\n\"ggsize\":{\n\"width\":400.0,\n\"height\":250.0\n},\n\"kind\":\"plot\",\n\"scales\":[{\n\"aesthetic\":\"fill\",\n\"scale_mapper_kind\":\"color_brewer\",\n\"palette\":\"Set1\"\n}],\n\"layers\":[{\n\"mapping\":{\n\"slice\":\"slice\",\n\"explode\":\"explode\",\n\"fill\":\"label\"\n},\n\"stat\":\"identity\",\n\"size\":15.0,\n\"sampling\":\"none\",\n\"position\":\"identity\",\n\"geom\":\"pie\",\n\"data\":{\n}\n}],\n\"theme\":{\n\"axis\":\"blank\",\n\"axis_ontop\":false,\n\"axis_ontop_y\":false,\n\"line\":{\n\"blank\":true\n},\n\"axis_ontop_x\":false\n}\n},{\n\"mapping\":{\n},\n\"data\":{\n\"slice\":[35.0,25.0,25.0,15.0],\n\"explode\":[0.1,0.0,0.0,0.0],\n\"label\":[\"Apples\",\"Bananas\",\"Cherries\",\"Dates\"]\n},\n\"ggsize\":{\n\"width\":400.0,\n\"height\":250.0\n},\n\"kind\":\"plot\",\n\"scales\":[{\n\"aesthetic\":\"fill\",\n\"scale_mapper_kind\":\"color_brewer\",\n\"palette\":\"Set1\"\n}],\n\"layers\":[{\n\"hole\":0.8,\n\"mapping\":{\n\"slice\":\"slice\",\n\"explode\":\"explode\",\n\"fill\":\"label\"\n},\n\"stat\":\"identity\",\n\"size\":15.0,\n\"sampling\":\"none\",\n\"position\":\"identity\",\n\"geom\":\"pie\",\n\"data\":{\n}\n}],\n\"theme\":{\n\"axis\":\"blank\",\n\"axis_ontop\":false,\n\"axis_ontop_y\":false,\n\"line\":{\n\"blank\":true\n},\n\"axis_ontop_x\":false\n}\n}],\n\"kind\":\"subplots\"\n};\n       var plotContainer = document.getElementById(\"d6VhfN\");\n       LetsPlot.buildPlotFromProcessedSpecs(plotSpec, -1, -1, plotContainer);\n   </script>            \n        <svg id=affe2869-1ec9-4166-9caf-bca32554ccb6 xmlns=\"http://www.w3.org/2000/svg\" xmlns:xlink=\"http://www.w3.org/1999/xlink\" class=\"plt-container\" width=\"900.0\" height=\"400.0\">\n  <g id=\"pZsFfP3\">\n  </g>\n  <svg xmlns=\"http://www.w3.org/2000/svg\" xmlns:xlink=\"http://www.w3.org/1999/xlink\" class=\"plt-container\" width=\"448.0\" height=\"400.0\" x=\"0.0\" y=\"0.0\">\n    <style type=\"text/css\">\n    .plt-container {\n   font-family: Lucida Grande, sans-serif;\n   user-select: none;\n   -webkit-user-select: none;\n   -moz-user-select: none;\n   -ms-user-select: none;\n}\ntext {\n   text-rendering: optimizeLegibility;\n}\n#phRoAdI .plot-title {\n   fill: #474747;\n   font-family: Lucida Grande, sans-serif;\n   font-size: 16.0px;\n   font-weight: normal;\n   font-style: normal;   \n}\n#phRoAdI .plot-subtitle {\n   fill: #474747;\n   font-family: Lucida Grande, sans-serif;\n   font-size: 15.0px;\n   font-weight: normal;\n   font-style: normal;   \n}\n#phRoAdI .plot-caption {\n   fill: #474747;\n   font-family: Lucida Grande, sans-serif;\n   font-size: 13.0px;\n   font-weight: normal;\n   font-style: normal;   \n}\n#phRoAdI .legend-title {\n   fill: #474747;\n   font-family: Lucida Grande, sans-serif;\n   font-size: 15.0px;\n   font-weight: normal;\n   font-style: normal;   \n}\n#phRoAdI .legend-item {\n   fill: #474747;\n   font-family: Lucida Grande, sans-serif;\n   font-size: 13.0px;\n   font-weight: normal;\n   font-style: normal;   \n}\n#phRoAdI .axis-title-x {\n   fill: #474747;\n   font-family: Lucida Grande, sans-serif;\n   font-size: 15.0px;\n   font-weight: normal;\n   font-style: normal;   \n}\n#phRoAdI .axis-text-x {\n   fill: #474747;\n   font-family: Lucida Grande, sans-serif;\n   font-size: 13.0px;\n   font-weight: normal;\n   font-style: normal;   \n}\n#dnc2H6p .axis-tooltip-text-x {\n   fill: #ffffff;\n   font-family: Lucida Grande, sans-serif;\n   font-size: 13.0px;\n   font-weight: normal;\n   font-style: normal;   \n}\n#phRoAdI .axis-title-y {\n   fill: #474747;\n   font-family: Lucida Grande, sans-serif;\n   font-size: 15.0px;\n   font-weight: normal;\n   font-style: normal;   \n}\n#phRoAdI .axis-text-y {\n   fill: #474747;\n   font-family: Lucida Grande, sans-serif;\n   font-size: 13.0px;\n   font-weight: normal;\n   font-style: normal;   \n}\n#dnc2H6p .axis-tooltip-text-y {\n   fill: #ffffff;\n   font-family: Lucida Grande, sans-serif;\n   font-size: 13.0px;\n   font-weight: normal;\n   font-style: normal;   \n}\n#phRoAdI .facet-strip-text-x {\n   fill: #474747;\n   font-family: Lucida Grande, sans-serif;\n   font-size: 13.0px;\n   font-weight: normal;\n   font-style: normal;   \n}\n#phRoAdI .facet-strip-text-y {\n   fill: #474747;\n   font-family: Lucida Grande, sans-serif;\n   font-size: 13.0px;\n   font-weight: normal;\n   font-style: normal;   \n}\n#dnc2H6p .tooltip-text {\n   fill: #474747;\n   font-family: Lucida Grande, sans-serif;\n   font-size: 13.0px;\n   font-weight: normal;\n   font-style: normal;   \n}\n#dnc2H6p .tooltip-title {\n   fill: #474747;\n   font-family: Lucida Grande, sans-serif;\n   font-size: 13.0px;\n   font-weight: bold;\n   font-style: normal;   \n}\n#dnc2H6p .tooltip-label {\n   fill: #474747;\n   font-family: Lucida Grande, sans-serif;\n   font-size: 13.0px;\n   font-weight: bold;\n   font-style: normal;   \n}\n\n    </style>\n    <g id=\"phRoAdI\">\n      <path fill-rule=\"evenodd\" fill=\"rgb(255,255,255)\" fill-opacity=\"1.0\" d=\"M0.0 0.0 L0.0 400.0 L448.0 400.0 L448.0 0.0 Z\">\n      </path>\n      <g transform=\"translate(10.0 10.0 ) \">\n        <g transform=\"translate(0.0 380.0 ) \">\n        </g>\n        <g transform=\"\">\n        </g>\n        <g transform=\"\" clip-path=\"url(#ceCk0Lq)\" clip-bounds-jfx=\"[rect (0.0, 0.0), (323.2785026964189, 380.0)]\">\n          <defs>\n            <clipPath id=\"ceCk0Lq\">\n              <rect x=\"0.0\" y=\"0.0\" width=\"323.2785026964189\" height=\"380.0\">\n              </rect>\n            </clipPath>\n          </defs>\n          <g>\n            <path d=\"M154.9567024167967 186.59507125195339 L94.28042783867564 230.67896517388886 A75.0 75.0 0.0 0 1 154.9567024167967 111.59507125195339 L154.9567024167967 186.59507125195339 A0.0 0.0 0.0 0 0 154.9567024167967 186.59507125195339 \" fill=\"rgb(228,26,28)\" stroke-width=\"1.0\" fill-opacity=\"1.0\">\n            </path>\n          </g>\n          <g>\n            <path d=\"M161.63925134820946 190.0 L161.63925134820946 115.0 A75.0 75.0 0.0 0 1 236.63925134820946 190.0 L161.63925134820946 190.0 A0.0 0.0 0.0 0 0 161.63925134820946 190.0 \" fill=\"rgb(55,126,184)\" stroke-width=\"1.0\" fill-opacity=\"1.0\">\n            </path>\n          </g>\n          <g>\n            <path d=\"M161.63925134820946 190.0 L236.63925134820946 190.0 A75.0 75.0 0.0 0 1 161.63925134820946 265.0 L161.63925134820946 190.0 A0.0 0.0 0.0 0 0 161.63925134820946 190.0 \" fill=\"rgb(77,175,74)\" stroke-width=\"1.0\" fill-opacity=\"1.0\">\n            </path>\n          </g>\n          <g>\n            <path d=\"M161.63925134820946 190.0 L161.63925134820946 265.0 A75.0 75.0 0.0 0 1 100.9629767700884 234.0838939219355 L161.63925134820946 190.0 A0.0 0.0 0.0 0 0 161.63925134820946 190.0 \" fill=\"rgb(152,78,163)\" stroke-width=\"1.0\" fill-opacity=\"1.0\">\n            </path>\n          </g>\n          <g>\n            <path d=\"M94.28042783867564 230.67896517388886 A75.0 75.0 0.0 0 1 154.9567024167967 111.59507125195339 M154.9567024167967 186.59507125195339 A0.0 0.0 0.0 0 0 154.9567024167967 186.59507125195339 \" fill=\"none\" stroke-width=\"0.75\" stroke=\"rgb(255,255,255)\" stroke-opacity=\"1.0\">\n            </path>\n          </g>\n          <g>\n            <path d=\"M161.63925134820946 115.0 A75.0 75.0 0.0 0 1 236.63925134820946 190.0 M161.63925134820946 190.0 A0.0 0.0 0.0 0 0 161.63925134820946 190.0 \" fill=\"none\" stroke-width=\"0.75\" stroke=\"rgb(255,255,255)\" stroke-opacity=\"1.0\">\n            </path>\n          </g>\n          <g>\n            <path d=\"M236.63925134820946 190.0 A75.0 75.0 0.0 0 1 161.63925134820946 265.0 M161.63925134820946 190.0 A0.0 0.0 0.0 0 0 161.63925134820946 190.0 \" fill=\"none\" stroke-width=\"0.75\" stroke=\"rgb(255,255,255)\" stroke-opacity=\"1.0\">\n            </path>\n          </g>\n          <g>\n            <path d=\"M161.63925134820946 265.0 A75.0 75.0 0.0 0 1 100.9629767700884 234.0838939219355 M161.63925134820946 190.0 A0.0 0.0 0.0 0 0 161.63925134820946 190.0 \" fill=\"none\" stroke-width=\"0.75\" stroke=\"rgb(255,255,255)\" stroke-opacity=\"1.0\">\n            </path>\n          </g>\n          <g>\n            <path d=\"\" fill=\"none\" stroke-width=\"0.75\" stroke=\"rgb(255,255,255)\" stroke-opacity=\"1.0\">\n            </path>\n          </g>\n          <g>\n            <path d=\"M161.63925134820946 190.0 L236.63925134820946 190.0 \" fill=\"none\" stroke-width=\"0.75\" stroke=\"rgb(255,255,255)\" stroke-opacity=\"1.0\">\n            </path>\n          </g>\n          <g>\n            <path d=\"M161.63925134820946 190.0 L236.63925134820946 190.0 M161.63925134820946 190.0 L161.63925134820946 265.0 \" fill=\"none\" stroke-width=\"0.75\" stroke=\"rgb(255,255,255)\" stroke-opacity=\"1.0\">\n            </path>\n          </g>\n          <g>\n            <path d=\"M161.63925134820946 190.0 L161.63925134820946 265.0 \" fill=\"none\" stroke-width=\"0.75\" stroke=\"rgb(255,255,255)\" stroke-opacity=\"1.0\">\n            </path>\n          </g>\n        </g>\n      </g>\n      <g transform=\"translate(343.2785026964189 132.75 ) \">\n        <rect x=\"5.0\" y=\"5.0\" height=\"124.5\" width=\"94.72149730358109\" stroke=\"rgb(71,71,71)\" stroke-opacity=\"1.0\" stroke-width=\"0.0\" fill=\"rgb(255,255,255)\" fill-opacity=\"1.0\">\n        </rect>\n        <g transform=\"translate(10.0 10.0 ) \">\n          <g transform=\"translate(0.0 10.5 ) \">\n            <text class=\"legend-title\" y=\"0.0\">\n            label\n            </text>\n          </g>\n          <g transform=\"translate(0.0 22.5 ) \">\n            <g transform=\"\">\n              <g>\n                <rect x=\"0.0\" y=\"0.0\" height=\"23.0\" width=\"23.0\" stroke-width=\"0.0\" fill=\"rgb(255,255,255)\" fill-opacity=\"1.0\">\n                </rect>\n                <g transform=\"translate(1.0 1.0 ) \">\n                  <g>\n                    <circle cx=\"10.5\" cy=\"10.5\" r=\"5.0\" fill=\"rgb(228,26,28)\" fill-opacity=\"1.0\" stroke=\"rgb(71,71,71)\" stroke-opacity=\"1.0\" stroke-width=\"0.75\">\n                    </circle>\n                  </g>\n                </g>\n                <rect x=\"0.0\" y=\"0.0\" height=\"23.0\" width=\"23.0\" stroke=\"rgb(255,255,255)\" stroke-opacity=\"1.0\" stroke-width=\"1.0\" fill-opacity=\"0.0\">\n                </rect>\n              </g>\n              <g transform=\"translate(26.9903027277341 16.05 ) \">\n                <text class=\"legend-item\" y=\"0.0\">\n                Apples\n                </text>\n              </g>\n            </g>\n            <g transform=\"translate(0.0 23.0 ) \">\n              <g>\n                <rect x=\"0.0\" y=\"0.0\" height=\"23.0\" width=\"23.0\" stroke-width=\"0.0\" fill=\"rgb(255,255,255)\" fill-opacity=\"1.0\">\n                </rect>\n                <g transform=\"translate(1.0 1.0 ) \">\n                  <g>\n                    <circle cx=\"10.5\" cy=\"10.5\" r=\"5.0\" fill=\"rgb(55,126,184)\" fill-opacity=\"1.0\" stroke=\"rgb(71,71,71)\" stroke-opacity=\"1.0\" stroke-width=\"0.75\">\n                    </circle>\n                  </g>\n                </g>\n                <rect x=\"0.0\" y=\"0.0\" height=\"23.0\" width=\"23.0\" stroke=\"rgb(255,255,255)\" stroke-opacity=\"1.0\" stroke-width=\"1.0\" fill-opacity=\"0.0\">\n                </rect>\n              </g>\n              <g transform=\"translate(26.9903027277341 16.05 ) \">\n                <text class=\"legend-item\" y=\"0.0\">\n                Bananas\n                </text>\n              </g>\n            </g>\n            <g transform=\"translate(0.0 46.0 ) \">\n              <g>\n                <rect x=\"0.0\" y=\"0.0\" height=\"23.0\" width=\"23.0\" stroke-width=\"0.0\" fill=\"rgb(255,255,255)\" fill-opacity=\"1.0\">\n                </rect>\n                <g transform=\"translate(1.0 1.0 ) \">\n                  <g>\n                    <circle cx=\"10.5\" cy=\"10.5\" r=\"5.0\" fill=\"rgb(77,175,74)\" fill-opacity=\"1.0\" stroke=\"rgb(71,71,71)\" stroke-opacity=\"1.0\" stroke-width=\"0.75\">\n                    </circle>\n                  </g>\n                </g>\n                <rect x=\"0.0\" y=\"0.0\" height=\"23.0\" width=\"23.0\" stroke=\"rgb(255,255,255)\" stroke-opacity=\"1.0\" stroke-width=\"1.0\" fill-opacity=\"0.0\">\n                </rect>\n              </g>\n              <g transform=\"translate(26.9903027277341 16.05 ) \">\n                <text class=\"legend-item\" y=\"0.0\">\n                Cherries\n                </text>\n              </g>\n            </g>\n            <g transform=\"translate(0.0 69.0 ) \">\n              <g>\n                <rect x=\"0.0\" y=\"0.0\" height=\"23.0\" width=\"23.0\" stroke-width=\"0.0\" fill=\"rgb(255,255,255)\" fill-opacity=\"1.0\">\n                </rect>\n                <g transform=\"translate(1.0 1.0 ) \">\n                  <g>\n                    <circle cx=\"10.5\" cy=\"10.5\" r=\"5.0\" fill=\"rgb(152,78,163)\" fill-opacity=\"1.0\" stroke=\"rgb(71,71,71)\" stroke-opacity=\"1.0\" stroke-width=\"0.75\">\n                    </circle>\n                  </g>\n                </g>\n                <rect x=\"0.0\" y=\"0.0\" height=\"23.0\" width=\"23.0\" stroke=\"rgb(255,255,255)\" stroke-opacity=\"1.0\" stroke-width=\"1.0\" fill-opacity=\"0.0\">\n                </rect>\n              </g>\n              <g transform=\"translate(26.9903027277341 16.05 ) \">\n                <text class=\"legend-item\" y=\"0.0\">\n                Dates\n                </text>\n              </g>\n            </g>\n          </g>\n        </g>\n      </g>\n      <path fill=\"rgb(0,0,0)\" fill-opacity=\"0.0\" stroke=\"rgb(71,71,71)\" stroke-opacity=\"1.0\" stroke-width=\"0.0\" d=\"M0.0 0.0 L0.0 400.0 L448.0 400.0 L448.0 0.0 Z\">\n      </path>\n    </g>\n    <g id=\"dnc2H6p\">\n    </g>\n  </svg>\n  <svg xmlns=\"http://www.w3.org/2000/svg\" xmlns:xlink=\"http://www.w3.org/1999/xlink\" class=\"plt-container\" width=\"448.0\" height=\"400.0\" x=\"452.0\" y=\"0.0\">\n    <style type=\"text/css\">\n    .plt-container {\n   font-family: Lucida Grande, sans-serif;\n   user-select: none;\n   -webkit-user-select: none;\n   -moz-user-select: none;\n   -ms-user-select: none;\n}\ntext {\n   text-rendering: optimizeLegibility;\n}\n#ppOrrQp .plot-title {\n   fill: #474747;\n   font-family: Lucida Grande, sans-serif;\n   font-size: 16.0px;\n   font-weight: normal;\n   font-style: normal;   \n}\n#ppOrrQp .plot-subtitle {\n   fill: #474747;\n   font-family: Lucida Grande, sans-serif;\n   font-size: 15.0px;\n   font-weight: normal;\n   font-style: normal;   \n}\n#ppOrrQp .plot-caption {\n   fill: #474747;\n   font-family: Lucida Grande, sans-serif;\n   font-size: 13.0px;\n   font-weight: normal;\n   font-style: normal;   \n}\n#ppOrrQp .legend-title {\n   fill: #474747;\n   font-family: Lucida Grande, sans-serif;\n   font-size: 15.0px;\n   font-weight: normal;\n   font-style: normal;   \n}\n#ppOrrQp .legend-item {\n   fill: #474747;\n   font-family: Lucida Grande, sans-serif;\n   font-size: 13.0px;\n   font-weight: normal;\n   font-style: normal;   \n}\n#ppOrrQp .axis-title-x {\n   fill: #474747;\n   font-family: Lucida Grande, sans-serif;\n   font-size: 15.0px;\n   font-weight: normal;\n   font-style: normal;   \n}\n#ppOrrQp .axis-text-x {\n   fill: #474747;\n   font-family: Lucida Grande, sans-serif;\n   font-size: 13.0px;\n   font-weight: normal;\n   font-style: normal;   \n}\n#dsVvCQt .axis-tooltip-text-x {\n   fill: #ffffff;\n   font-family: Lucida Grande, sans-serif;\n   font-size: 13.0px;\n   font-weight: normal;\n   font-style: normal;   \n}\n#ppOrrQp .axis-title-y {\n   fill: #474747;\n   font-family: Lucida Grande, sans-serif;\n   font-size: 15.0px;\n   font-weight: normal;\n   font-style: normal;   \n}\n#ppOrrQp .axis-text-y {\n   fill: #474747;\n   font-family: Lucida Grande, sans-serif;\n   font-size: 13.0px;\n   font-weight: normal;\n   font-style: normal;   \n}\n#dsVvCQt .axis-tooltip-text-y {\n   fill: #ffffff;\n   font-family: Lucida Grande, sans-serif;\n   font-size: 13.0px;\n   font-weight: normal;\n   font-style: normal;   \n}\n#ppOrrQp .facet-strip-text-x {\n   fill: #474747;\n   font-family: Lucida Grande, sans-serif;\n   font-size: 13.0px;\n   font-weight: normal;\n   font-style: normal;   \n}\n#ppOrrQp .facet-strip-text-y {\n   fill: #474747;\n   font-family: Lucida Grande, sans-serif;\n   font-size: 13.0px;\n   font-weight: normal;\n   font-style: normal;   \n}\n#dsVvCQt .tooltip-text {\n   fill: #474747;\n   font-family: Lucida Grande, sans-serif;\n   font-size: 13.0px;\n   font-weight: normal;\n   font-style: normal;   \n}\n#dsVvCQt .tooltip-title {\n   fill: #474747;\n   font-family: Lucida Grande, sans-serif;\n   font-size: 13.0px;\n   font-weight: bold;\n   font-style: normal;   \n}\n#dsVvCQt .tooltip-label {\n   fill: #474747;\n   font-family: Lucida Grande, sans-serif;\n   font-size: 13.0px;\n   font-weight: bold;\n   font-style: normal;   \n}\n\n    </style>\n    <g id=\"ppOrrQp\">\n      <path fill-rule=\"evenodd\" fill=\"rgb(255,255,255)\" fill-opacity=\"1.0\" d=\"M0.0 0.0 L0.0 400.0 L448.0 400.0 L448.0 0.0 Z\">\n      </path>\n      <g transform=\"translate(10.0 10.0 ) \">\n        <g transform=\"translate(0.0 380.0 ) \">\n        </g>\n        <g transform=\"\">\n        </g>\n        <g transform=\"\" clip-path=\"url(#cuF8edf)\" clip-bounds-jfx=\"[rect (0.0, 0.0), (323.2785026964189, 380.0)]\">\n          <defs>\n            <clipPath id=\"cuF8edf\">\n              <rect x=\"0.0\" y=\"0.0\" width=\"323.2785026964189\" height=\"380.0\">\n              </rect>\n            </clipPath>\n          </defs>\n          <g>\n            <path d=\"M106.41568275429985 221.86218638950177 L94.28042783867564 230.67896517388886 A75.0 75.0 0.0 0 1 154.9567024167967 111.59507125195339 L154.9567024167967 126.59507125195339 A60.0 60.0 0.0 0 0 106.41568275429985 221.86218638950177 \" fill=\"rgb(228,26,28)\" stroke-width=\"1.0\" fill-opacity=\"1.0\">\n            </path>\n          </g>\n          <g>\n            <path d=\"M161.63925134820946 130.0 L161.63925134820946 115.0 A75.0 75.0 0.0 0 1 236.63925134820946 190.0 L221.63925134820946 190.0 A60.0 60.0 0.0 0 0 161.63925134820946 130.0 \" fill=\"rgb(55,126,184)\" stroke-width=\"1.0\" fill-opacity=\"1.0\">\n            </path>\n          </g>\n          <g>\n            <path d=\"M221.63925134820946 190.0 L236.63925134820946 190.0 A75.0 75.0 0.0 0 1 161.63925134820946 265.0 L161.63925134820946 250.0 A60.0 60.0 0.0 0 0 221.63925134820946 190.0 \" fill=\"rgb(77,175,74)\" stroke-width=\"1.0\" fill-opacity=\"1.0\">\n            </path>\n          </g>\n          <g>\n            <path d=\"M161.63925134820946 250.0 L161.63925134820946 265.0 A75.0 75.0 0.0 0 1 100.9629767700884 234.0838939219355 L113.09823168571262 225.2671151375484 A60.0 60.0 0.0 0 0 161.63925134820946 250.0 \" fill=\"rgb(152,78,163)\" stroke-width=\"1.0\" fill-opacity=\"1.0\">\n            </path>\n          </g>\n          <g>\n            <path d=\"M94.28042783867564 230.67896517388886 A75.0 75.0 0.0 0 1 154.9567024167967 111.59507125195339 M154.9567024167967 126.59507125195339 A60.0 60.0 0.0 0 0 106.41568275429985 221.86218638950177 \" fill=\"none\" stroke-width=\"0.75\" stroke=\"rgb(255,255,255)\" stroke-opacity=\"1.0\">\n            </path>\n          </g>\n          <g>\n            <path d=\"M161.63925134820946 115.0 A75.0 75.0 0.0 0 1 236.63925134820946 190.0 M221.63925134820946 190.0 A60.0 60.0 0.0 0 0 161.63925134820946 130.0 \" fill=\"none\" stroke-width=\"0.75\" stroke=\"rgb(255,255,255)\" stroke-opacity=\"1.0\">\n            </path>\n          </g>\n          <g>\n            <path d=\"M236.63925134820946 190.0 A75.0 75.0 0.0 0 1 161.63925134820946 265.0 M161.63925134820946 250.0 A60.0 60.0 0.0 0 0 221.63925134820946 190.0 \" fill=\"none\" stroke-width=\"0.75\" stroke=\"rgb(255,255,255)\" stroke-opacity=\"1.0\">\n            </path>\n          </g>\n          <g>\n            <path d=\"M161.63925134820946 265.0 A75.0 75.0 0.0 0 1 100.9629767700884 234.0838939219355 M113.09823168571262 225.2671151375484 A60.0 60.0 0.0 0 0 161.63925134820946 250.0 \" fill=\"none\" stroke-width=\"0.75\" stroke=\"rgb(255,255,255)\" stroke-opacity=\"1.0\">\n            </path>\n          </g>\n          <g>\n            <path d=\"\" fill=\"none\" stroke-width=\"0.75\" stroke=\"rgb(255,255,255)\" stroke-opacity=\"1.0\">\n            </path>\n          </g>\n          <g>\n            <path d=\"M221.63925134820946 190.0 L236.63925134820946 190.0 \" fill=\"none\" stroke-width=\"0.75\" stroke=\"rgb(255,255,255)\" stroke-opacity=\"1.0\">\n            </path>\n          </g>\n          <g>\n            <path d=\"M221.63925134820946 190.0 L236.63925134820946 190.0 M161.63925134820946 250.0 L161.63925134820946 265.0 \" fill=\"none\" stroke-width=\"0.75\" stroke=\"rgb(255,255,255)\" stroke-opacity=\"1.0\">\n            </path>\n          </g>\n          <g>\n            <path d=\"M161.63925134820946 250.0 L161.63925134820946 265.0 \" fill=\"none\" stroke-width=\"0.75\" stroke=\"rgb(255,255,255)\" stroke-opacity=\"1.0\">\n            </path>\n          </g>\n        </g>\n      </g>\n      <g transform=\"translate(343.2785026964189 132.75 ) \">\n        <rect x=\"5.0\" y=\"5.0\" height=\"124.5\" width=\"94.72149730358109\" stroke=\"rgb(71,71,71)\" stroke-opacity=\"1.0\" stroke-width=\"0.0\" fill=\"rgb(255,255,255)\" fill-opacity=\"1.0\">\n        </rect>\n        <g transform=\"translate(10.0 10.0 ) \">\n          <g transform=\"translate(0.0 10.5 ) \">\n            <text class=\"legend-title\" y=\"0.0\">\n            label\n            </text>\n          </g>\n          <g transform=\"translate(0.0 22.5 ) \">\n            <g transform=\"\">\n              <g>\n                <rect x=\"0.0\" y=\"0.0\" height=\"23.0\" width=\"23.0\" stroke-width=\"0.0\" fill=\"rgb(255,255,255)\" fill-opacity=\"1.0\">\n                </rect>\n                <g transform=\"translate(1.0 1.0 ) \">\n                  <g>\n                    <circle cx=\"10.5\" cy=\"10.5\" r=\"5.0\" fill=\"rgb(228,26,28)\" fill-opacity=\"1.0\" stroke=\"rgb(71,71,71)\" stroke-opacity=\"1.0\" stroke-width=\"0.75\">\n                    </circle>\n                  </g>\n                </g>\n                <rect x=\"0.0\" y=\"0.0\" height=\"23.0\" width=\"23.0\" stroke=\"rgb(255,255,255)\" stroke-opacity=\"1.0\" stroke-width=\"1.0\" fill-opacity=\"0.0\">\n                </rect>\n              </g>\n              <g transform=\"translate(26.9903027277341 16.05 ) \">\n                <text class=\"legend-item\" y=\"0.0\">\n                Apples\n                </text>\n              </g>\n            </g>\n            <g transform=\"translate(0.0 23.0 ) \">\n              <g>\n                <rect x=\"0.0\" y=\"0.0\" height=\"23.0\" width=\"23.0\" stroke-width=\"0.0\" fill=\"rgb(255,255,255)\" fill-opacity=\"1.0\">\n                </rect>\n                <g transform=\"translate(1.0 1.0 ) \">\n                  <g>\n                    <circle cx=\"10.5\" cy=\"10.5\" r=\"5.0\" fill=\"rgb(55,126,184)\" fill-opacity=\"1.0\" stroke=\"rgb(71,71,71)\" stroke-opacity=\"1.0\" stroke-width=\"0.75\">\n                    </circle>\n                  </g>\n                </g>\n                <rect x=\"0.0\" y=\"0.0\" height=\"23.0\" width=\"23.0\" stroke=\"rgb(255,255,255)\" stroke-opacity=\"1.0\" stroke-width=\"1.0\" fill-opacity=\"0.0\">\n                </rect>\n              </g>\n              <g transform=\"translate(26.9903027277341 16.05 ) \">\n                <text class=\"legend-item\" y=\"0.0\">\n                Bananas\n                </text>\n              </g>\n            </g>\n            <g transform=\"translate(0.0 46.0 ) \">\n              <g>\n                <rect x=\"0.0\" y=\"0.0\" height=\"23.0\" width=\"23.0\" stroke-width=\"0.0\" fill=\"rgb(255,255,255)\" fill-opacity=\"1.0\">\n                </rect>\n                <g transform=\"translate(1.0 1.0 ) \">\n                  <g>\n                    <circle cx=\"10.5\" cy=\"10.5\" r=\"5.0\" fill=\"rgb(77,175,74)\" fill-opacity=\"1.0\" stroke=\"rgb(71,71,71)\" stroke-opacity=\"1.0\" stroke-width=\"0.75\">\n                    </circle>\n                  </g>\n                </g>\n                <rect x=\"0.0\" y=\"0.0\" height=\"23.0\" width=\"23.0\" stroke=\"rgb(255,255,255)\" stroke-opacity=\"1.0\" stroke-width=\"1.0\" fill-opacity=\"0.0\">\n                </rect>\n              </g>\n              <g transform=\"translate(26.9903027277341 16.05 ) \">\n                <text class=\"legend-item\" y=\"0.0\">\n                Cherries\n                </text>\n              </g>\n            </g>\n            <g transform=\"translate(0.0 69.0 ) \">\n              <g>\n                <rect x=\"0.0\" y=\"0.0\" height=\"23.0\" width=\"23.0\" stroke-width=\"0.0\" fill=\"rgb(255,255,255)\" fill-opacity=\"1.0\">\n                </rect>\n                <g transform=\"translate(1.0 1.0 ) \">\n                  <g>\n                    <circle cx=\"10.5\" cy=\"10.5\" r=\"5.0\" fill=\"rgb(152,78,163)\" fill-opacity=\"1.0\" stroke=\"rgb(71,71,71)\" stroke-opacity=\"1.0\" stroke-width=\"0.75\">\n                    </circle>\n                  </g>\n                </g>\n                <rect x=\"0.0\" y=\"0.0\" height=\"23.0\" width=\"23.0\" stroke=\"rgb(255,255,255)\" stroke-opacity=\"1.0\" stroke-width=\"1.0\" fill-opacity=\"0.0\">\n                </rect>\n              </g>\n              <g transform=\"translate(26.9903027277341 16.05 ) \">\n                <text class=\"legend-item\" y=\"0.0\">\n                Dates\n                </text>\n              </g>\n            </g>\n          </g>\n        </g>\n      </g>\n      <path fill=\"rgb(0,0,0)\" fill-opacity=\"0.0\" stroke=\"rgb(71,71,71)\" stroke-opacity=\"1.0\" stroke-width=\"0.0\" d=\"M0.0 0.0 L0.0 400.0 L448.0 400.0 L448.0 0.0 Z\">\n      </path>\n    </g>\n    <g id=\"dsVvCQt\">\n    </g>\n  </svg>\n</svg>\n        <script>document.getElementById(\"affe2869-1ec9-4166-9caf-bca32554ccb6\").style.display = \"none\";</script>",
      "application/plot+json": {
       "output_type": "lets_plot_spec",
       "output": {
        "kind": "subplots",
        "figures": [
         {
          "mapping": {},
          "data": {
           "slice": [
            35.0,
            25.0,
            25.0,
            15.0
           ],
           "explode": [
            0.1,
            0.0,
            0.0,
            0.0
           ],
           "label": [
            "Apples",
            "Bananas",
            "Cherries",
            "Dates"
           ]
          },
          "ggsize": {
           "width": 400.0,
           "height": 250.0
          },
          "kind": "plot",
          "scales": [
           {
            "aesthetic": "fill",
            "scale_mapper_kind": "color_brewer",
            "palette": "Set1"
           }
          ],
          "layers": [
           {
            "mapping": {
             "slice": "slice",
             "explode": "explode",
             "fill": "label"
            },
            "stat": "identity",
            "size": 15.0,
            "sampling": "none",
            "position": "identity",
            "geom": "pie"
           }
          ],
          "theme": {
           "axis": "blank",
           "axis_ontop": false,
           "axis_ontop_y": false,
           "line": {
            "blank": true
           },
           "axis_ontop_x": false
          }
         },
         {
          "mapping": {},
          "data": {
           "slice": [
            35.0,
            25.0,
            25.0,
            15.0
           ],
           "explode": [
            0.1,
            0.0,
            0.0,
            0.0
           ],
           "label": [
            "Apples",
            "Bananas",
            "Cherries",
            "Dates"
           ]
          },
          "ggsize": {
           "width": 400.0,
           "height": 250.0
          },
          "kind": "plot",
          "scales": [
           {
            "aesthetic": "fill",
            "scale_mapper_kind": "color_brewer",
            "palette": "Set1"
           }
          ],
          "layers": [
           {
            "hole": 0.8,
            "mapping": {
             "slice": "slice",
             "explode": "explode",
             "fill": "label"
            },
            "stat": "identity",
            "size": 15.0,
            "sampling": "none",
            "position": "identity",
            "geom": "pie"
           }
          ],
          "theme": {
           "axis": "blank",
           "axis_ontop": false,
           "axis_ontop_y": false,
           "line": {
            "blank": true
           },
           "axis_ontop_x": false
          }
         }
        ],
        "layout": {
         "name": "grid",
         "ncol": 2,
         "nrow": 1,
         "fit": true,
         "align": false
        }
       },
       "apply_color_scheme": true,
       "swing_enabled": true
      }
     },
     "execution_count": 9,
     "metadata": {},
     "output_type": "execute_result"
    }
   ],
   "source": [
    "plotGrid(\n",
    "    listOf(\n",
    "        calories.plot {\n",
    "            pie {\n",
    "                slice(slice)\n",
    "                explode(explode)\n",
    "                fillColor(label) {\n",
    "                    scale = categoricalColorBrewer(BrewerPalette.Qualitative.Set1)\n",
    "                }\n",
    "                size = 15.0\n",
    "            }\n",
    "            layout {\n",
    "                size = w to h\n",
    "                theme(blankTheme)\n",
    "            }\n",
    "        },\n",
    "        calories.plot {\n",
    "            pie {\n",
    "                slice(slice)\n",
    "                explode(explode)\n",
    "                fillColor(label) {\n",
    "                    scale = categoricalColorBrewer(BrewerPalette.Qualitative.Set1)\n",
    "                }\n",
    "                size = 15.0\n",
    "                hole = 0.8\n",
    "            }\n",
    "            layout {\n",
    "                size = w to h\n",
    "                theme(blankTheme)\n",
    "            }\n",
    "        }\n",
    "    )\n",
    ")"
   ],
   "metadata": {
    "collapsed": false,
    "ExecuteTime": {
     "end_time": "2023-11-13T11:13:16.466396Z",
     "start_time": "2023-11-13T11:13:15.960318Z"
    }
   }
  }
 ],
 "metadata": {
  "kernelspec": {
   "display_name": "Kotlin",
   "language": "kotlin",
   "name": "kotlin"
  },
  "language_info": {
   "name": "kotlin",
   "version": "1.8.20",
   "mimetype": "text/x-kotlin",
   "file_extension": ".kt",
   "pygments_lexer": "kotlin",
   "codemirror_mode": "text/x-kotlin",
   "nbconvert_exporter": ""
  },
  "ktnbPluginMetadata": {
   "projectLibraries": []
  }
 },
 "nbformat": 4,
 "nbformat_minor": 0
}
