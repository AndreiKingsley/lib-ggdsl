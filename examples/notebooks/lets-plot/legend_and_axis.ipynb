{
 "cells": [
  {
   "cell_type": "code",
   "execution_count": null,
   "metadata": {},
   "outputs": [],
   "source": [
    "%useLatestDescriptors\n",
    "%use kandy\n",
    "%use dataframe"
   ]
  },
  {
   "cell_type": "code",
   "execution_count": null,
   "metadata": {},
   "outputs": [],
   "source": [
    "val mpg_df = DataFrame.readCSV(\"https://raw.githubusercontent.com/JetBrains/lets-plot-kotlin/master/docs/examples/data/mpg.csv\")\n",
    "mpg_df.head()"
   ]
  },
  {
   "cell_type": "code",
   "execution_count": null,
   "metadata": {},
   "outputs": [],
   "source": [
    "mpg_df.plot {\n",
    "    points { \n",
    "        x(displ)\n",
    "        y(hwy)\n",
    "        color(manufacturer)\n",
    "        size = 5.0\n",
    "    }\n",
    "    layout.size = 600 to 250\n",
    "}"
   ]
  },
  {
   "cell_type": "code",
   "execution_count": null,
   "metadata": {},
   "outputs": [],
   "source": [
    "mpg_df.plot {\n",
    "    points {\n",
    "        x(displ)\n",
    "        y(hwy)\n",
    "        color(manufacturer) {\n",
    "            legend {\n",
    "                type = LegendType.DiscreteLegend(nCol = 2)\n",
    "            }\n",
    "        }\n",
    "        size = 5.0\n",
    "    }\n",
    "    layout {\n",
    "        title = \"Two columns legend\"\n",
    "        size = 600 to 250\n",
    "    }\n",
    "}"
   ]
  },
  {
   "cell_type": "code",
   "execution_count": null,
   "metadata": {},
   "outputs": [],
   "source": [
    "mpg_df.plot {\n",
    "    points { \n",
    "        x(displ)\n",
    "        y(hwy)\n",
    "        color(manufacturer) { \n",
    "            legend {\n",
    "                type = LegendType.DiscreteLegend(nCol = 2, byRow = true)\n",
    "            }\n",
    "        }\n",
    "        size = 5.0\n",
    "    }\n",
    "    layout{\n",
    "        title = \"Two columns legend filled by rows\"\n",
    "        size = 600 to 250\n",
    "    }\n",
    "}"
   ]
  },
  {
   "cell_type": "code",
   "execution_count": null,
   "metadata": {},
   "outputs": [],
   "source": [
    "mpg_df.plot {\n",
    "    points { \n",
    "        x(displ)\n",
    "        y(hwy)\n",
    "        color(manufacturer) { \n",
    "            legend {\n",
    "                type = LegendType.DiscreteLegend(nRow = 5)\n",
    "            }\n",
    "        }\n",
    "        size = 5.0\n",
    "    }\n",
    "    layout{\n",
    "        title = \"Five rows legend and below\"\n",
    "        size = 700 to 400\n",
    "        theme {\n",
    "            axis.title{\n",
    "                blank = true\n",
    "            }\n",
    "            legend.position = LegendPosition.Bottom\n",
    "        }\n",
    "    }\n",
    "}"
   ]
  },
  {
   "cell_type": "code",
   "execution_count": null,
   "metadata": {},
   "outputs": [],
   "source": [
    "mpg_df.plot {\n",
    "    x(displ)\n",
    "    y(hwy)\n",
    "    points {\n",
    "        size = 5.0\n",
    "        color(cty)\n",
    "        symbol(drv)\n",
    "    }\n",
    "    layout.size = 700 to 350\n",
    "}"
   ]
  },
  {
   "cell_type": "code",
   "execution_count": null,
   "metadata": {},
   "outputs": [],
   "source": [
    "mpg_df.plot {\n",
    "    x(displ)\n",
    "    y(hwy)\n",
    "    points {\n",
    "        size = 5.0\n",
    "        color(cty)\n",
    "        symbol(drv)\n",
    "    }\n",
    "    layout{\n",
    "        size = 700 to 350\n",
    "        theme {\n",
    "            legend {\n",
    "                justification(1.0, 1.0)\n",
    "                position(1.0, 1.0)\n",
    "                direction = LegendDirection.HORIZONTAL\n",
    "            }\n",
    "        }\n",
    "    }\n",
    "}"
   ]
  },
  {
   "cell_type": "code",
   "execution_count": null,
   "metadata": {},
   "outputs": [],
   "source": [
    "mpg_df.plot {\n",
    "    x(displ)\n",
    "    y(hwy)\n",
    "    points {\n",
    "        size = 5.0\n",
    "        color(cty) { \n",
    "            scale = continuous(range = Color.named(\"dark_blue\")..Color.named(\"light_blue\")) \n",
    "            legend {\n",
    "                name = \"City MPG\"\n",
    "                type = LegendType.ColorBar(barHeight=10.0, barWidth=300.0)\n",
    "            }\n",
    "        }\n",
    "        symbol(drv) { \n",
    "            legend{\n",
    "                name = \"Drive-train\"\n",
    "                breaksLabeled(\"f\" to \"front\", \"r\" to \"rear\", \"4\" to \"4X4\")\n",
    "            }\n",
    "        }\n",
    "    }\n",
    "    layout{\n",
    "        size = 700 to 350\n",
    "        theme {\n",
    "            yAxis.line {\n",
    "                blank = true\n",
    "            }\n",
    "            legend {\n",
    "                justification(1.0, 1.0)\n",
    "                position(1.0, 1.0)\n",
    "                direction = LegendDirection.HORIZONTAL\n",
    "            }\n",
    "        }\n",
    "        xAxisLabel = \"Engine displacement (L)\"\n",
    "        yAxisLabel = \"Highway MPG\"\n",
    "    }\n",
    "}"
   ]
  }
 ],
 "metadata": {
  "kernelspec": {
   "display_name": "Kotlin",
   "language": "kotlin",
   "name": "kotlin"
  },
  "language_info": {
   "codemirror_mode": "text/x-kotlin",
   "file_extension": ".kt",
   "mimetype": "text/x-kotlin",
   "name": "kotlin",
   "nbconvert_exporter": "",
   "pygments_lexer": "kotlin",
   "version": "1.8.20-Beta"
  }
 },
 "nbformat": 4,
 "nbformat_minor": 4
}
