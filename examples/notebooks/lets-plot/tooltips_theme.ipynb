{
 "cells": [
  {
   "cell_type": "code",
   "execution_count": null,
   "id": "human-easter",
   "metadata": {},
   "outputs": [],
   "source": [
    "%useLatestDescriptors\n",
    "%use kandy"
   ]
  },
  {
   "cell_type": "code",
   "execution_count": null,
   "id": "short-render",
   "metadata": {},
   "outputs": [],
   "source": [
    "val dat = mapOf(\"x\" to listOf(0.0, 1.0), \"y\" to listOf(0.0, 1.0))"
   ]
  },
  {
   "cell_type": "code",
   "execution_count": null,
   "id": "4df4efb2",
   "metadata": {},
   "outputs": [],
   "source": [
    "plot(dat) {\n",
    "    tile {\n",
    "        x(\"x\"<Double>())\n",
    "        y(\"y\"<Double>())\n",
    "        fillColor = Color.named(\"light-gray\")\n",
    "        \n",
    "        tooltips(title = \"Tooltip title\") {\n",
    "            line(\"label|value\")\n",
    "        }\n",
    "    }\n",
    "}"
   ]
  },
  {
   "cell_type": "markdown",
   "id": "nonprofit-usage",
   "metadata": {},
   "source": [
    "### Tooltip properties in theme:\n",
    "\n",
    "- `tooltip` - tooltip rectangle;\n",
    "- `tooltipText` - text in general tooltip;\n",
    "- `tooltipTitleText` - tooltip title text;\n",
    "- `axisTooltipText[X|Y]` - axis tooltip text (inherits from 'tooltipText')\n"
   ]
  },
  {
   "cell_type": "code",
   "execution_count": null,
   "id": "96c90487",
   "metadata": {},
   "outputs": [],
   "source": [
    "plot(dat) {\n",
    "    tile {\n",
    "        x(\"x\"<Double>())\n",
    "        y(\"y\"<Double>())\n",
    "        fillColor = Color.named(\"light-gray\")\n",
    "        \n",
    "        tooltips(title = \"Tooltip title\") {\n",
    "            line(\"label|value\")\n",
    "        }\n",
    "        \n",
    "    }\n",
    "    \n",
    "    layout.theme { \n",
    "        layerTooltips {\n",
    "            background {\n",
    "                borderLineColor = Color.hex(\"#225e32\")\n",
    "                fillColor = Color.hex(\"#238b45\")\n",
    "                borderLineWidth = 2.0\n",
    "            }\n",
    "            text {\n",
    "                color = Color.hex(\"#bae4b3\")\n",
    "            }\n",
    "            title {\n",
    "                color = Color.hex(\"#edf8e9\")\n",
    "            }\n",
    "        }\n",
    "        xAxis.tooltip.text {\n",
    "            color = Color.GREEN\n",
    "        }\n",
    "    }\n",
    "}"
   ]
  }
 ],
 "metadata": {
  "kernelspec": {
   "display_name": "Kotlin",
   "language": "kotlin",
   "name": "kotlin"
  },
  "language_info": {
   "codemirror_mode": "text/x-kotlin",
   "file_extension": ".kt",
   "mimetype": "text/x-kotlin",
   "name": "kotlin",
   "nbconvert_exporter": "",
   "pygments_lexer": "kotlin",
   "version": "1.8.20-Beta"
  }
 },
 "nbformat": 4,
 "nbformat_minor": 5
}
