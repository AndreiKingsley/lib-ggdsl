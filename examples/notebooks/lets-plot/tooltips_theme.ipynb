{
 "cells": [
  {
   "cell_type": "code",
   "execution_count": 1,
   "id": "human-easter",
   "metadata": {},
   "outputs": [
    {
     "data": {
      "text/html": [
       "   <div id=\"llpvBn\"></div>\n",
       "   <script type=\"text/javascript\" data-lets-plot-script=\"library\">\n",
       "       if(!window.letsPlotCallQueue) {\n",
       "           window.letsPlotCallQueue = [];\n",
       "       }; \n",
       "       window.letsPlotCall = function(f) {\n",
       "           window.letsPlotCallQueue.push(f);\n",
       "       };\n",
       "       (function() {\n",
       "           var script = document.createElement(\"script\");\n",
       "           script.type = \"text/javascript\";\n",
       "           script.src = \"https://cdn.jsdelivr.net/gh/JetBrains/lets-plot@v3.1.0/js-package/distr/lets-plot.min.js\";\n",
       "           script.onload = function() {\n",
       "               window.letsPlotCall = function(f) {f();};\n",
       "               window.letsPlotCallQueue.forEach(function(f) {f();});\n",
       "               window.letsPlotCallQueue = [];\n",
       "               \n",
       "               \n",
       "           };\n",
       "           script.onerror = function(event) {\n",
       "               window.letsPlotCall = function(f) {};\n",
       "               window.letsPlotCallQueue = [];\n",
       "               var div = document.createElement(\"div\");\n",
       "               div.style.color = 'darkred';\n",
       "               div.textContent = 'Error loading Lets-Plot JS';\n",
       "               document.getElementById(\"llpvBn\").appendChild(div);\n",
       "           };\n",
       "           var e = document.getElementById(\"llpvBn\");\n",
       "           e.appendChild(script);\n",
       "       })();\n",
       "   </script>"
      ]
     },
     "metadata": {},
     "output_type": "display_data"
    }
   ],
   "source": [
    "%useLatestDescriptors\n",
    "%use ggdsl"
   ]
  },
  {
   "cell_type": "code",
   "execution_count": 2,
   "id": "short-render",
   "metadata": {},
   "outputs": [],
   "source": [
    "val dat = mapOf(\"x\" to listOf(0.0, 1.0), \"y\" to listOf(0.0, 1.0))"
   ]
  },
  {
   "cell_type": "code",
   "execution_count": 4,
   "id": "4df4efb2",
   "metadata": {},
   "outputs": [
    {
     "data": {
      "application/plot+json": {
       "apply_color_scheme": true,
       "output": {
        "data": {
         "x": [
          0,
          1
         ],
         "y": [
          0,
          1
         ]
        },
        "kind": "plot",
        "layers": [
         {
          "fill": "light-gray",
          "geom": "tile",
          "mapping": {
           "x": "x",
           "y": "y"
          },
          "position": "identity",
          "sampling": "none",
          "stat": "identity",
          "tooltips": {
           "lines": [
            "label|value"
           ],
           "title": "Tooltip title"
          }
         }
        ],
        "mapping": {},
        "scales": [
         {
          "aesthetic": "x",
          "limits": [
           null,
           null
          ]
         },
         {
          "aesthetic": "y",
          "limits": [
           null,
           null
          ]
         }
        ]
       },
       "output_type": "lets_plot_spec",
       "swing_enabled": true
      },
      "text/html": [
       "   <div id=\"cMV4hd\"></div>\n",
       "   <script type=\"text/javascript\" data-lets-plot-script=\"plot\">\n",
       "       (function() {\n",
       "           var plotSpec={\n",
       "\"mapping\":{\n",
       "},\n",
       "\"data\":{\n",
       "\"x\":[0.0,1.0],\n",
       "\"y\":[0.0,1.0]\n",
       "},\n",
       "\"kind\":\"plot\",\n",
       "\"scales\":[{\n",
       "\"aesthetic\":\"x\",\n",
       "\"limits\":[null,null]\n",
       "},{\n",
       "\"aesthetic\":\"y\",\n",
       "\"limits\":[null,null]\n",
       "}],\n",
       "\"layers\":[{\n",
       "\"mapping\":{\n",
       "\"x\":\"x\",\n",
       "\"y\":\"y\"\n",
       "},\n",
       "\"stat\":\"identity\",\n",
       "\"sampling\":\"none\",\n",
       "\"position\":\"identity\",\n",
       "\"geom\":\"tile\",\n",
       "\"fill\":\"light-gray\",\n",
       "\"tooltips\":{\n",
       "\"title\":\"Tooltip title\",\n",
       "\"lines\":[\"label|value\"]\n",
       "},\n",
       "\"data\":{\n",
       "}\n",
       "}]\n",
       "};\n",
       "           var plotContainer = document.getElementById(\"cMV4hd\");\n",
       "           window.letsPlotCall(function() {{\n",
       "               LetsPlot.buildPlotFromProcessedSpecs(plotSpec, -1, -1, plotContainer);\n",
       "           }});\n",
       "       })();    \n",
       "   </script>"
      ]
     },
     "execution_count": 4,
     "metadata": {},
     "output_type": "execute_result"
    }
   ],
   "source": [
    "plot(dat) {\n",
    "    tile {\n",
    "        x(\"x\"<Double>())\n",
    "        y(\"y\"<Double>())\n",
    "        fillColor = Color.named(\"light-gray\")\n",
    "        \n",
    "        tooltips(title = \"Tooltip title\") {\n",
    "            line(\"label|value\")\n",
    "        }\n",
    "    }\n",
    "}"
   ]
  },
  {
   "cell_type": "markdown",
   "id": "nonprofit-usage",
   "metadata": {},
   "source": [
    "### Tooltip properties in theme:\n",
    "\n",
    "- `tooltip` - tooltip rectangle;\n",
    "- `tooltipText` - text in general tooltip;\n",
    "- `tooltipTitleText` - tooltip title text;\n",
    "- `axisTooltipText[X|Y]` - axis tooltip text (inherits from 'tooltipText')\n"
   ]
  },
  {
   "cell_type": "code",
   "execution_count": 5,
   "id": "96c90487",
   "metadata": {},
   "outputs": [
    {
     "data": {
      "application/plot+json": {
       "apply_color_scheme": true,
       "output": {
        "data": {
         "x": [
          0,
          1
         ],
         "y": [
          0,
          1
         ]
        },
        "kind": "plot",
        "layers": [
         {
          "fill": "light-gray",
          "geom": "tile",
          "mapping": {
           "x": "x",
           "y": "y"
          },
          "position": "identity",
          "sampling": "none",
          "stat": "identity",
          "tooltips": {
           "lines": [
            "label|value"
           ],
           "title": "Tooltip title"
          }
         }
        ],
        "mapping": {},
        "scales": [
         {
          "aesthetic": "x",
          "limits": [
           null,
           null
          ]
         },
         {
          "aesthetic": "y",
          "limits": [
           null,
           null
          ]
         }
        ],
        "theme": {
         "axis_ontop": false,
         "axis_ontop_x": false,
         "axis_ontop_y": false,
         "axis_tooltip_text_x": {
          "blank": false,
          "color": "#3ba272",
          "face": false
         },
         "tooltip": {
          "blank": false,
          "color": "#225e32",
          "fill": "#238b45",
          "size": 2
         },
         "tooltip_text": {
          "blank": false,
          "color": "#bae4b3",
          "face": false
         },
         "tooltip_title_text": {
          "blank": false,
          "color": "#edf8e9",
          "face": false
         }
        }
       },
       "output_type": "lets_plot_spec",
       "swing_enabled": true
      },
      "text/html": [
       "   <div id=\"AJl0lm\"></div>\n",
       "   <script type=\"text/javascript\" data-lets-plot-script=\"plot\">\n",
       "       (function() {\n",
       "           var plotSpec={\n",
       "\"mapping\":{\n",
       "},\n",
       "\"data\":{\n",
       "\"x\":[0.0,1.0],\n",
       "\"y\":[0.0,1.0]\n",
       "},\n",
       "\"kind\":\"plot\",\n",
       "\"scales\":[{\n",
       "\"aesthetic\":\"x\",\n",
       "\"limits\":[null,null]\n",
       "},{\n",
       "\"aesthetic\":\"y\",\n",
       "\"limits\":[null,null]\n",
       "}],\n",
       "\"layers\":[{\n",
       "\"mapping\":{\n",
       "\"x\":\"x\",\n",
       "\"y\":\"y\"\n",
       "},\n",
       "\"stat\":\"identity\",\n",
       "\"sampling\":\"none\",\n",
       "\"position\":\"identity\",\n",
       "\"geom\":\"tile\",\n",
       "\"fill\":\"light-gray\",\n",
       "\"tooltips\":{\n",
       "\"title\":\"Tooltip title\",\n",
       "\"lines\":[\"label|value\"]\n",
       "},\n",
       "\"data\":{\n",
       "}\n",
       "}],\n",
       "\"theme\":{\n",
       "\"tooltip_title_text\":{\n",
       "\"color\":\"#edf8e9\",\n",
       "\"face\":false,\n",
       "\"blank\":false\n",
       "},\n",
       "\"axis_ontop\":false,\n",
       "\"axis_tooltip_text_x\":{\n",
       "\"color\":\"#3ba272\",\n",
       "\"face\":false,\n",
       "\"blank\":false\n",
       "},\n",
       "\"tooltip\":{\n",
       "\"fill\":\"#238b45\",\n",
       "\"color\":\"#225e32\",\n",
       "\"size\":2.0,\n",
       "\"blank\":false\n",
       "},\n",
       "\"tooltip_text\":{\n",
       "\"color\":\"#bae4b3\",\n",
       "\"face\":false,\n",
       "\"blank\":false\n",
       "},\n",
       "\"axis_ontop_y\":false,\n",
       "\"axis_ontop_x\":false\n",
       "}\n",
       "};\n",
       "           var plotContainer = document.getElementById(\"AJl0lm\");\n",
       "           window.letsPlotCall(function() {{\n",
       "               LetsPlot.buildPlotFromProcessedSpecs(plotSpec, -1, -1, plotContainer);\n",
       "           }});\n",
       "       })();    \n",
       "   </script>"
      ]
     },
     "execution_count": 5,
     "metadata": {},
     "output_type": "execute_result"
    }
   ],
   "source": [
    "plot(dat) {\n",
    "    tile {\n",
    "        x(\"x\"<Double>())\n",
    "        y(\"y\"<Double>())\n",
    "        fillColor = Color.named(\"light-gray\")\n",
    "        \n",
    "        tooltips(title = \"Tooltip title\") {\n",
    "            line(\"label|value\")\n",
    "        }\n",
    "        \n",
    "    }\n",
    "    \n",
    "    layout.theme { \n",
    "        layerTooltips {\n",
    "            background {\n",
    "                borderLineColor = Color.hex(\"#225e32\")\n",
    "                fillColor = Color.hex(\"#238b45\")\n",
    "                borderLineWidth = 2.0\n",
    "            }\n",
    "            text {\n",
    "                color = Color.hex(\"#bae4b3\")\n",
    "            }\n",
    "            title {\n",
    "                color = Color.hex(\"#edf8e9\")\n",
    "            }\n",
    "        }\n",
    "        xAxis.tooltip.text {\n",
    "            color = Color.GREEN\n",
    "        }\n",
    "    }\n",
    "}"
   ]
  }
 ],
 "metadata": {
  "kernelspec": {
   "display_name": "Kotlin",
   "language": "kotlin",
   "name": "kotlin"
  },
  "language_info": {
   "codemirror_mode": "text/x-kotlin",
   "file_extension": ".kt",
   "mimetype": "text/x-kotlin",
   "name": "kotlin",
   "nbconvert_exporter": "",
   "pygments_lexer": "kotlin",
   "version": "1.8.20-Beta"
  }
 },
 "nbformat": 4,
 "nbformat_minor": 5
}
