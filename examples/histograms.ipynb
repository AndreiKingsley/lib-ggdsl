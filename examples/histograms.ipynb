{
 "cells": [
  {
   "cell_type": "code",
   "execution_count": 4,
   "metadata": {
    "datalore": {
     "hide_input_from_viewers": false,
     "hide_output_from_viewers": false,
     "node_id": "UAJZ9WlEGslnW9Rgbww7eT",
     "type": "CODE"
    },
    "pycharm": {
     "name": "#%%\n"
    }
   },
   "outputs": [
    {
     "data": {
      "text/html": [
       "   <div id=\"0FOM5z\"></div>\n",
       "   <script type=\"text/javascript\" data-lets-plot-script=\"library\">\n",
       "       if(!window.letsPlotCallQueue) {\n",
       "           window.letsPlotCallQueue = [];\n",
       "       }; \n",
       "       window.letsPlotCall = function(f) {\n",
       "           window.letsPlotCallQueue.push(f);\n",
       "       };\n",
       "       (function() {\n",
       "           var script = document.createElement(\"script\");\n",
       "           script.type = \"text/javascript\";\n",
       "           script.src = \"https://cdn.jsdelivr.net/gh/JetBrains/lets-plot@v2.4.0/js-package/distr/lets-plot.min.js\";\n",
       "           script.onload = function() {\n",
       "               window.letsPlotCall = function(f) {f();};\n",
       "               window.letsPlotCallQueue.forEach(function(f) {f();});\n",
       "               window.letsPlotCallQueue = [];\n",
       "               \n",
       "               \n",
       "           };\n",
       "           script.onerror = function(event) {\n",
       "               window.letsPlotCall = function(f) {};\n",
       "               window.letsPlotCallQueue = [];\n",
       "               var div = document.createElement(\"div\");\n",
       "               div.style.color = 'darkred';\n",
       "               div.textContent = 'Error loading Lets-Plot JS';\n",
       "               document.getElementById(\"0FOM5z\").appendChild(div);\n",
       "           };\n",
       "           var e = document.getElementById(\"0FOM5z\");\n",
       "           e.appendChild(script);\n",
       "       })();\n",
       "   </script>"
      ]
     },
     "metadata": {},
     "output_type": "display_data"
    }
   ],
   "source": [
    "%useLatestDescriptors\n",
    "%use lets-plot\n",
    "%use ggdsl(0.1.4-dev-1)"
   ]
  },
  {
   "cell_type": "code",
   "execution_count": 5,
   "metadata": {
    "datalore": {
     "hide_input_from_viewers": false,
     "hide_output_from_viewers": false,
     "node_id": "SVzS3HJP3fGxhUMsKqG3GF",
     "type": "CODE"
    },
    "pycharm": {
     "name": "#%%\n"
    }
   },
   "outputs": [],
   "source": [
    "import java.util.*\n",
    "val numbers = IntArray(1000) {Random().nextGaussian().times(25).toInt()}"
   ]
  },
  {
   "cell_type": "code",
   "execution_count": 6,
   "metadata": {
    "datalore": {
     "hide_input_from_viewers": false,
     "hide_output_from_viewers": false,
     "node_id": "3sZzpMuTb7f6JV7f7tsvog",
     "type": "CODE"
    },
    "pycharm": {
     "name": "#%%\n"
    }
   },
   "outputs": [],
   "source": [
    "fun countHistogram(values: IntArray, binWidth: Int = 10): Pair<IntArray, IntArray>{\n",
    "    val sorted = values.sorted()\n",
    "    val binCeneters = mutableListOf<Int>()\n",
    "    val counts = mutableListOf<Int>()\n",
    "    var currentBinStart = sorted.first()\n",
    "    var currentCnt = 0\n",
    "    sorted.forEach { \n",
    "        while (currentBinStart + binWidth < it){\n",
    "            binCeneters.add(currentBinStart + binWidth / 2)\n",
    "            counts.add(currentCnt)\n",
    "            currentCnt = 0\n",
    "            currentBinStart += binWidth\n",
    "        }\n",
    "        currentCnt++\n",
    "    }\n",
    "    binCeneters.add(currentBinStart + binWidth / 2)\n",
    "    counts.add(currentCnt)\n",
    "    return binCeneters.toIntArray() to counts.toIntArray()\n",
    "}"
   ]
  },
  {
   "cell_type": "code",
   "execution_count": 7,
   "metadata": {
    "datalore": {
     "hide_input_from_viewers": false,
     "hide_output_from_viewers": false,
     "node_id": "6Abwu9rXCnguP5HKc3MjtD",
     "type": "CODE"
    },
    "pycharm": {
     "name": "#%%\n"
    }
   },
   "outputs": [],
   "source": [
    "val histData: NamedData = with(countHistogram(numbers)){\n",
    "    mapOf(\n",
    "        \"binCenters\" to (first.toList()),\n",
    "        \"count\" to (second.toList()),\n",
    "    )\n",
    "}"
   ]
  },
  {
   "cell_type": "code",
   "execution_count": 8,
   "metadata": {
    "datalore": {
     "hide_input_from_viewers": false,
     "hide_output_from_viewers": false,
     "node_id": "h87Ykkn9n1Hb4lFlIWDPV1",
     "type": "CODE"
    },
    "pycharm": {
     "name": "#%%\n"
    }
   },
   "outputs": [],
   "source": [
    "val binCenters = source<Int>(\"binCenters\")\n",
    "val count = source<Int>(\"count\")"
   ]
  },
  {
   "cell_type": "code",
   "execution_count": 9,
   "metadata": {
    "datalore": {
     "hide_input_from_viewers": false,
     "hide_output_from_viewers": false,
     "node_id": "YaXHBguRnK8lX3ZukVrfjy",
     "type": "CODE"
    },
    "pycharm": {
     "name": "#%%\n"
    }
   },
   "outputs": [
    {
     "data": {
      "text/html": [
       "            <script type=\"text/javascript\" data-lets-plot-script=\"library\" src=\"https://cdn.jsdelivr.net/gh/JetBrains/lets-plot@v2.4.0/js-package/distr/lets-plot.min.js\"></script>    \n",
       "               <div id=\"J4NDMe\"></div>\n",
       "   <script type=\"text/javascript\" data-lets-plot-script=\"plot\">\n",
       "       var plotSpec={\n",
       "\"mapping\":{\n",
       "},\n",
       "\"data\":{\n",
       "},\n",
       "\"kind\":\"plot\",\n",
       "\"scales\":[{\n",
       "\"aesthetic\":\"x\"\n",
       "},{\n",
       "\"aesthetic\":\"y\"\n",
       "}],\n",
       "\"layers\":[{\n",
       "\"mapping\":{\n",
       "\"x\":\"binCenters\",\n",
       "\"y\":\"count\"\n",
       "},\n",
       "\"stat\":\"identity\",\n",
       "\"data\":{\n",
       "\"binCenters\":[-76.0,-66.0,-56.0,-46.0,-36.0,-26.0,-16.0,-6.0,4.0,14.0,24.0,34.0,44.0,54.0,64.0,74.0],\n",
       "\"count\":[3.0,5.0,18.0,33.0,55.0,84.0,135.0,156.0,169.0,127.0,107.0,51.0,30.0,20.0,5.0,2.0]\n",
       "},\n",
       "\"width\":1.0,\n",
       "\"position\":\"identity\",\n",
       "\"geom\":\"bar\"\n",
       "}]\n",
       "};\n",
       "       var plotContainer = document.getElementById(\"J4NDMe\");\n",
       "       LetsPlot.buildPlotFromProcessedSpecs(plotSpec, -1, -1, plotContainer);\n",
       "   </script>    "
      ]
     },
     "execution_count": 9,
     "metadata": {},
     "output_type": "execute_result"
    }
   ],
   "source": [
    "plot(histData) { \n",
    "    x(binCenters)\n",
    "    y(count)\n",
    "\n",
    "    bar { \n",
    "        width(1.0)\n",
    "     }\n",
    " }"
   ]
  },
  {
   "cell_type": "code",
   "execution_count": 10,
   "metadata": {},
   "outputs": [
    {
     "data": {
      "text/html": [
       "   <div id=\"S4SBnT\"></div>\n",
       "   <script type=\"text/javascript\" data-lets-plot-script=\"plot\">\n",
       "       (function() {\n",
       "           var plotSpec={\n",
       "\"mapping\":{\n",
       "},\n",
       "\"data\":{\n",
       "},\n",
       "\"kind\":\"plot\",\n",
       "\"scales\":[],\n",
       "\"layers\":[{\n",
       "\"mapping\":{\n",
       "\"x\":\"x\"\n",
       "},\n",
       "\"stat\":\"bin\",\n",
       "\"position\":\"stack\",\n",
       "\"binwidth\":10.0,\n",
       "\"geom\":\"histogram\",\n",
       "\"data\":{\n",
       "\"..count..\":[1.0,3.0,9.0,16.0,39.0,61.0,96.0,132.0,180.0,145.0,124.0,98.0,50.0,24.0,17.0,3.0,2.0,0.0],\n",
       "\"x\":[-83.0,-73.0,-63.0,-53.0,-43.0,-33.0,-23.0,-13.0,-3.0,7.0,17.0,27.0,37.0,47.0,57.0,67.0,77.0,87.0]\n",
       "}\n",
       "}]\n",
       "};\n",
       "           var plotContainer = document.getElementById(\"S4SBnT\");\n",
       "           window.letsPlotCall(function() {{\n",
       "               LetsPlot.buildPlotFromProcessedSpecs(plotSpec, -1, -1, plotContainer);\n",
       "           }});\n",
       "       })();    \n",
       "   </script>"
      ]
     },
     "execution_count": 10,
     "metadata": {},
     "output_type": "execute_result"
    }
   ],
   "source": [
    "letsPlot(mapOf(\"x\" to numbers)) + geomHistogram(binWidth = 10) {\n",
    "    x = \"x\"\n",
    "}"
   ]
  },
  {
   "cell_type": "code",
   "execution_count": 11,
   "metadata": {},
   "outputs": [],
   "source": [
    "import org.jetbrains.kotlinx.ggdsl.ir.Plot\n",
    "import org.jetbrains.kotlinx.ggdsl.ir.data.DataSource\n",
    "\n",
    "fun histogram(values: IntArray, binWidth: Int = 10): Plot{\n",
    "    val histData: NamedData = with(countHistogram(values, binWidth)){\n",
    "        mapOf(\n",
    "            \"binCenters\" to (first.toList()),\n",
    "            \"count\" to (second.toList()),\n",
    "        )\n",
    "    }\n",
    "    val binCenters = source<Int>(\"binCenters\")\n",
    "    val count = source<Int>(\"count\")\n",
    "    return plot(histData) { \n",
    "        x(binCenters)\n",
    "        y(count)\n",
    "\n",
    "        bar { \n",
    "            width(1.0)\n",
    "         }\n",
    "     }\n",
    "}"
   ]
  },
  {
   "cell_type": "code",
   "execution_count": 13,
   "metadata": {},
   "outputs": [],
   "source": [
    "import java.util.*\n",
    "val sample = IntArray(1000) {Random().nextGaussian().times(25).toInt()}"
   ]
  },
  {
   "cell_type": "code",
   "execution_count": 14,
   "metadata": {},
   "outputs": [
    {
     "data": {
      "text/html": [
       "            <script type=\"text/javascript\" data-lets-plot-script=\"library\" src=\"https://cdn.jsdelivr.net/gh/JetBrains/lets-plot@v2.4.0/js-package/distr/lets-plot.min.js\"></script>    \n",
       "               <div id=\"TSBSwH\"></div>\n",
       "   <script type=\"text/javascript\" data-lets-plot-script=\"plot\">\n",
       "       var plotSpec={\n",
       "\"mapping\":{\n",
       "},\n",
       "\"data\":{\n",
       "},\n",
       "\"kind\":\"plot\",\n",
       "\"scales\":[{\n",
       "\"aesthetic\":\"x\"\n",
       "},{\n",
       "\"aesthetic\":\"y\"\n",
       "}],\n",
       "\"layers\":[{\n",
       "\"mapping\":{\n",
       "\"x\":\"binCenters\",\n",
       "\"y\":\"count\"\n",
       "},\n",
       "\"stat\":\"identity\",\n",
       "\"data\":{\n",
       "\"binCenters\":[-88.0,-78.0,-68.0,-58.0,-48.0,-38.0,-28.0,-18.0,-8.0,2.0,12.0,22.0,32.0,42.0,52.0,62.0,72.0],\n",
       "\"count\":[1.0,0.0,4.0,15.0,21.0,40.0,78.0,123.0,147.0,174.0,137.0,117.0,84.0,41.0,12.0,3.0,3.0]\n",
       "},\n",
       "\"width\":1.0,\n",
       "\"position\":\"identity\",\n",
       "\"geom\":\"bar\"\n",
       "}]\n",
       "};\n",
       "       var plotContainer = document.getElementById(\"TSBSwH\");\n",
       "       LetsPlot.buildPlotFromProcessedSpecs(plotSpec, -1, -1, plotContainer);\n",
       "   </script>    "
      ]
     },
     "execution_count": 14,
     "metadata": {},
     "output_type": "execute_result"
    }
   ],
   "source": [
    "histogram(sample)"
   ]
  },
  {
   "cell_type": "code",
   "execution_count": 18,
   "metadata": {},
   "outputs": [
    {
     "name": "stderr",
     "output_type": "stream",
     "text": [
      "Line_297.jupyter-kts (5:6 - 6) Expecting ')'"
     ]
    }
   ],
   "source": [
    "plot {\n",
    "    histogram(sample.toList(), bins = Bins.byWidth(10.0)) {} \n",
    "    layout{\n",
    "        xAxisLabel = \"value\"\n",
    "    }\n",
    "}"
   ]
  },
  {
   "cell_type": "code",
   "execution_count": null,
   "metadata": {},
   "outputs": [],
   "source": []
  }
 ],
 "metadata": {
  "datalore": {
   "base_environment": "default",
   "computation_mode": "JUPYTER",
   "package_manager": "pip",
   "packages": [],
   "version": 1
  },
  "kernelspec": {
   "display_name": "Kotlin",
   "language": "kotlin",
   "name": "kotlin"
  },
  "language_info": {
   "codemirror_mode": "text/x-kotlin",
   "file_extension": ".kt",
   "mimetype": "text/x-kotlin",
   "name": "kotlin",
   "nbconvert_exporter": "",
   "pygments_lexer": "kotlin",
   "version": "1.8.0-dev-707"
  }
 },
 "nbformat": 4,
 "nbformat_minor": 4
}
