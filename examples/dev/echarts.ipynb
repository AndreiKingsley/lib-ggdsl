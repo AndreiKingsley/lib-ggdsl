{
 "cells": [
  {
   "cell_type": "code",
   "execution_count": 5,
   "metadata": {
    "pycharm": {
     "name": "#%%\n"
    }
   },
   "outputs": [],
   "source": [
    "%useLatestDescriptors\n",
    "%use ggdsl-echarts(0.1.1-dev-16)\n",
    "import org.jetbrains.kotlinx.ggdsl.echarts.layers.*"
   ]
  },
  {
   "cell_type": "code",
   "execution_count": 2,
   "metadata": {
    "pycharm": {
     "name": "#%%\n"
    }
   },
   "outputs": [
    {
     "data": {
      "text/html": [
       "            <div id=\"kotlin_out_1\"/>\n",
       "            <script type=\"text/javascript\">\n",
       "                            if(!window.kotlinQueues) {\n",
       "                window.kotlinQueues = {};\n",
       "            }\n",
       "            if(!window.kotlinQueues[\"DataFrame\"]) {\n",
       "                var resQueue = [];\n",
       "                window.kotlinQueues[\"DataFrame\"] = resQueue;\n",
       "                window[\"call_DataFrame\"] = function(f) {\n",
       "                    resQueue.push(f);\n",
       "                }\n",
       "            }\n",
       "            (function (){\n",
       "                var modifiers = [(function(script) {\n",
       "    script.src = \"https://cdn.jsdelivr.net/gh/Kotlin/dataframe@d6467c1389bc031958acd5310fce39167b5cc581/src/main/resources/init.js\"\n",
       "    script.type = \"text/javascript\";\n",
       "})];\n",
       "                var e = document.getElementById(\"kotlin_out_1\");\n",
       "                modifiers.forEach(function (gen) {\n",
       "                    var script = document.createElement(\"script\");\n",
       "                    gen(script)\n",
       "                    script.addEventListener(\"load\", function() {\n",
       "                        window[\"call_DataFrame\"] = function(f) {f();};\n",
       "                        window.kotlinQueues[\"DataFrame\"].forEach(function(f) {f();});\n",
       "                        window.kotlinQueues[\"DataFrame\"] = [];\n",
       "                    }, false);\n",
       "                    script.addEventListener(\"error\", function() {\n",
       "                        window[\"call_DataFrame\"] = function(f) {};\n",
       "                        window.kotlinQueues[\"DataFrame\"] = [];\n",
       "                        var div = document.createElement(\"div\");\n",
       "                        div.style.color = 'darkred';\n",
       "                        div.textContent = 'Error loading resource DataFrame';\n",
       "                        document.getElementById(\"kotlin_out_1\").appendChild(div);\n",
       "                    }, false);\n",
       "                    \n",
       "                    e.appendChild(script);\n",
       "                });\n",
       "            })();\n",
       "            </script>"
      ]
     },
     "metadata": {},
     "output_type": "display_data"
    },
    {
     "data": {
      "text/html": [
       "                <style>\n",
       "                :root {\n",
       "    --background: #fff;\n",
       "    --background-odd: #f5f5f5;\n",
       "    --background-hover: #d9edfd;\n",
       "    --header-text-color: #474747;\n",
       "    --text-color: #848484;\n",
       "    --text-color-dark: #000;\n",
       "    --text-color-medium: #737373;\n",
       "    --text-color-pale: #b3b3b3;\n",
       "    --inner-border-color: #aaa;\n",
       "    --bold-border-color: #000;\n",
       "    --link-color: #296eaa;\n",
       "    --link-color-pale: #296eaa;\n",
       "    --link-hover: #1a466c;\n",
       "}\n",
       "\n",
       ":root[theme=\"dark\"], :root [data-jp-theme-light=\"false\"]{\n",
       "    --background: #303030;\n",
       "    --background-odd: #3c3c3c;\n",
       "    --background-hover: #464646;\n",
       "    --header-text-color: #dddddd;\n",
       "    --text-color: #b3b3b3;\n",
       "    --text-color-dark: #dddddd;\n",
       "    --text-color-medium: #b2b2b2;\n",
       "    --text-color-pale: #737373;\n",
       "    --inner-border-color: #707070;\n",
       "    --bold-border-color: #777777;\n",
       "    --link-color: #008dc0;\n",
       "    --link-color-pale: #97e1fb;\n",
       "    --link-hover: #00688e;\n",
       "}\n",
       "\n",
       "table.dataframe {\n",
       "    font-family: \"Helvetica Neue\", Helvetica, Arial, sans-serif;\n",
       "    font-size: 12px;\n",
       "    background-color: var(--background);\n",
       "    color: var(--text-color-dark);\n",
       "    border: none;\n",
       "    border-collapse: collapse;\n",
       "}\n",
       "\n",
       "table.dataframe th, td {\n",
       "    padding: 6px;\n",
       "    border: 1px solid transparent;\n",
       "    text-align: left;\n",
       "}\n",
       "\n",
       "table.dataframe th {\n",
       "    background-color: var(--background);\n",
       "    color: var(--header-text-color);\n",
       "}\n",
       "\n",
       "table.dataframe td {\n",
       "    vertical-align: top;\n",
       "}\n",
       "\n",
       "table.dataframe th.bottomBorder {\n",
       "    border-bottom-color: var(--bold-border-color);\n",
       "}\n",
       "\n",
       "table.dataframe tbody > tr:nth-child(odd) {\n",
       "    background: var(--background-odd);\n",
       "}\n",
       "\n",
       "table.dataframe tbody > tr:nth-child(even) {\n",
       "    background: var(--background);\n",
       "}\n",
       "\n",
       "table.dataframe tbody > tr:hover {\n",
       "    background: var(--background-hover);\n",
       "}\n",
       "\n",
       "table.dataframe a {\n",
       "    cursor: pointer;\n",
       "    color: var(--link-color);\n",
       "    text-decoration: none;\n",
       "}\n",
       "\n",
       "table.dataframe tr:hover > td a {\n",
       "    color: var(--link-color-pale);\n",
       "}\n",
       "\n",
       "table.dataframe a:hover {\n",
       "    color: var(--link-hover);\n",
       "    text-decoration: underline;\n",
       "}\n",
       "\n",
       "table.dataframe img {\n",
       "    max-width: fit-content;\n",
       "}\n",
       "\n",
       "table.dataframe th.complex {\n",
       "    background-color: var(--background);\n",
       "    border: 1px solid var(--background);\n",
       "}\n",
       "\n",
       "table.dataframe .leftBorder {\n",
       "    border-left-color: var(--inner-border-color);\n",
       "}\n",
       "\n",
       "table.dataframe .rightBorder {\n",
       "    border-right-color: var(--inner-border-color);\n",
       "}\n",
       "\n",
       "table.dataframe .rightAlign {\n",
       "    text-align: right;\n",
       "}\n",
       "\n",
       "table.dataframe .expanderSvg {\n",
       "    width: 8px;\n",
       "    height: 8px;\n",
       "    margin-right: 3px;\n",
       "}\n",
       "\n",
       "table.dataframe .expander {\n",
       "    display: flex;\n",
       "    align-items: center;\n",
       "}\n",
       "\n",
       "/* formatting */\n",
       "\n",
       "table.dataframe .null {\n",
       "    color: var(--text-color-pale);\n",
       "}\n",
       "\n",
       "table.dataframe .structural {\n",
       "    color: var(--text-color-medium);\n",
       "    font-weight: bold;\n",
       "}\n",
       "\n",
       "table.dataframe .dataFrameCaption {\n",
       "    font-weight: bold;\n",
       "}\n",
       "\n",
       "table.dataframe .numbers {\n",
       "    color: var(--text-color-dark);\n",
       "}\n",
       "\n",
       "table.dataframe td:hover .formatted .structural, .null {\n",
       "    color: var(--text-color-dark);\n",
       "}\n",
       "\n",
       "table.dataframe tr:hover .formatted .structural, .null {\n",
       "    color: var(--text-color-dark);\n",
       "}\n",
       "\n",
       "\n",
       "                </style>"
      ]
     },
     "metadata": {},
     "output_type": "display_data"
    },
    {
     "data": {
      "text/html": [
       "        <html>\n",
       "        <head>\n",
       "            <style type=\"text/css\">\n",
       "                \n",
       "\n",
       "            </style>\n",
       "        </head>\n",
       "        <body>\n",
       "            <table class=\"dataframe\" id=\"df_-1275068416\"></table>\n",
       "\n",
       "<p>DataFrame: rowsCount = 5, columnsCount = 9</p>\n",
       "        </body>\n",
       "        <script>\n",
       "            /*<!--*/\n",
       "call_DataFrame(function() { DataFrame.addTable({ cols: [{ name: \"<span title=\\\"miles per gallon: java.math.BigDecimal\\\">miles per gallon</span>\", children: [], rightAlign: true, values: [\"<span class=\\\"formatted\\\" title=\\\"\\\"><span class=\\\"numbers\\\">18,0</span></span>\",\"<span class=\\\"formatted\\\" title=\\\"\\\"><span class=\\\"numbers\\\">15,0</span></span>\",\"<span class=\\\"formatted\\\" title=\\\"\\\"><span class=\\\"numbers\\\">18,0</span></span>\",\"<span class=\\\"formatted\\\" title=\\\"\\\"><span class=\\\"numbers\\\">16,0</span></span>\",\"<span class=\\\"formatted\\\" title=\\\"\\\"><span class=\\\"numbers\\\">17,0</span></span>\"] }, \n",
       "{ name: \"<span title=\\\"number of cylinders: Int\\\">number of cylinders</span>\", children: [], rightAlign: true, values: [\"<span class=\\\"formatted\\\" title=\\\"\\\"><span class=\\\"numbers\\\">8</span></span>\",\"<span class=\\\"formatted\\\" title=\\\"\\\"><span class=\\\"numbers\\\">8</span></span>\",\"<span class=\\\"formatted\\\" title=\\\"\\\"><span class=\\\"numbers\\\">8</span></span>\",\"<span class=\\\"formatted\\\" title=\\\"\\\"><span class=\\\"numbers\\\">8</span></span>\",\"<span class=\\\"formatted\\\" title=\\\"\\\"><span class=\\\"numbers\\\">8</span></span>\"] }, \n",
       "{ name: \"<span title=\\\"engine displacement (cu. inches): java.math.BigDecimal\\\">engine displacement (cu. inches)</span>\", children: [], rightAlign: true, values: [\"<span class=\\\"formatted\\\" title=\\\"\\\"><span class=\\\"numbers\\\">307,0</span></span>\",\"<span class=\\\"formatted\\\" title=\\\"\\\"><span class=\\\"numbers\\\">350,0</span></span>\",\"<span class=\\\"formatted\\\" title=\\\"\\\"><span class=\\\"numbers\\\">318,0</span></span>\",\"<span class=\\\"formatted\\\" title=\\\"\\\"><span class=\\\"numbers\\\">304,0</span></span>\",\"<span class=\\\"formatted\\\" title=\\\"\\\"><span class=\\\"numbers\\\">302,0</span></span>\"] }, \n",
       "{ name: \"<span title=\\\"engine horsepower: Int\\\">engine horsepower</span>\", children: [], rightAlign: true, values: [\"<span class=\\\"formatted\\\" title=\\\"\\\"><span class=\\\"numbers\\\">130</span></span>\",\"<span class=\\\"formatted\\\" title=\\\"\\\"><span class=\\\"numbers\\\">165</span></span>\",\"<span class=\\\"formatted\\\" title=\\\"\\\"><span class=\\\"numbers\\\">150</span></span>\",\"<span class=\\\"formatted\\\" title=\\\"\\\"><span class=\\\"numbers\\\">150</span></span>\",\"<span class=\\\"formatted\\\" title=\\\"\\\"><span class=\\\"numbers\\\">140</span></span>\"] }, \n",
       "{ name: \"<span title=\\\"vehicle weight (lbs.): Int\\\">vehicle weight (lbs.)</span>\", children: [], rightAlign: true, values: [\"<span class=\\\"formatted\\\" title=\\\"\\\"><span class=\\\"numbers\\\">3504</span></span>\",\"<span class=\\\"formatted\\\" title=\\\"\\\"><span class=\\\"numbers\\\">3693</span></span>\",\"<span class=\\\"formatted\\\" title=\\\"\\\"><span class=\\\"numbers\\\">3436</span></span>\",\"<span class=\\\"formatted\\\" title=\\\"\\\"><span class=\\\"numbers\\\">3433</span></span>\",\"<span class=\\\"formatted\\\" title=\\\"\\\"><span class=\\\"numbers\\\">3449</span></span>\"] }, \n",
       "{ name: \"<span title=\\\"time to accelerate (sec.): java.math.BigDecimal\\\">time to accelerate (sec.)</span>\", children: [], rightAlign: true, values: [\"<span class=\\\"formatted\\\" title=\\\"\\\"><span class=\\\"numbers\\\">12,0</span></span>\",\"<span class=\\\"formatted\\\" title=\\\"\\\"><span class=\\\"numbers\\\">11,5</span></span>\",\"<span class=\\\"formatted\\\" title=\\\"\\\"><span class=\\\"numbers\\\">11,0</span></span>\",\"<span class=\\\"formatted\\\" title=\\\"\\\"><span class=\\\"numbers\\\">12,0</span></span>\",\"<span class=\\\"formatted\\\" title=\\\"\\\"><span class=\\\"numbers\\\">10,5</span></span>\"] }, \n",
       "{ name: \"<span title=\\\"model year: Int\\\">model year</span>\", children: [], rightAlign: true, values: [\"<span class=\\\"formatted\\\" title=\\\"\\\"><span class=\\\"numbers\\\">70</span></span>\",\"<span class=\\\"formatted\\\" title=\\\"\\\"><span class=\\\"numbers\\\">70</span></span>\",\"<span class=\\\"formatted\\\" title=\\\"\\\"><span class=\\\"numbers\\\">70</span></span>\",\"<span class=\\\"formatted\\\" title=\\\"\\\"><span class=\\\"numbers\\\">70</span></span>\",\"<span class=\\\"formatted\\\" title=\\\"\\\"><span class=\\\"numbers\\\">70</span></span>\"] }, \n",
       "{ name: \"<span title=\\\"origin of car: String\\\">origin of car</span>\", children: [], rightAlign: false, values: [\"US\",\"US\",\"US\",\"US\",\"US\"] }, \n",
       "{ name: \"<span title=\\\"vehicle name: String\\\">vehicle name</span>\", children: [], rightAlign: false, values: [\"chevrolet chevelle malibu\",\"buick skylark 320\",\"plymouth satellite\",\"amc rebel sst\",\"ford torino\"] }, \n",
       "], id: -1275068416, rootId: -1275068416, totalRows: 5 } ) });\n",
       "/*-->*/\n",
       "\n",
       "call_DataFrame(function() { DataFrame.renderTable(-1275068416) });\n",
       "\n",
       "\n",
       "        </script>\n",
       "        </html>"
      ]
     },
     "execution_count": 2,
     "metadata": {},
     "output_type": "execute_result"
    }
   ],
   "source": [
    "%use dataframe\n",
    "@file:DependsOn(\"org.jetbrains.kotlinx:ggdsl-dataframe:0.1.1-dev-16\")\n",
    "val mpgDF = DataFrame.readCSV(\"https://raw.githubusercontent.com/JetBrains/lets-plot-kotlin/master/docs/examples/data/mpg2.csv\")\n",
    "mpgDF.head(5)"
   ]
  },
  {
   "cell_type": "code",
   "execution_count": null,
   "metadata": {},
   "outputs": [],
   "source": []
  },
  {
   "cell_type": "code",
   "execution_count": 3,
   "metadata": {
    "pycharm": {
     "name": "#%%\n"
    }
   },
   "outputs": [],
   "source": [
    "val datasetMpg = mpgDF.toNamedData()\n",
    "\n",
    "val mpg = source<Double>(\"miles per gallon\")\n",
    "val ehp = source<Int>(\"engine horsepower\")\n",
    "val origin = source<String>(\"origin of car\")\n",
    "val noc = source<Int>(\"number of cylinders\")"
   ]
  },
  {
   "cell_type": "code",
   "execution_count": 7,
   "metadata": {
    "pycharm": {
     "name": "#%%\n"
    }
   },
   "outputs": [
    {
     "name": "stderr",
     "output_type": "stream",
     "text": [
      "Line_73.jupyter-kts (8:12 - 17) Variable 'scale' is never used\n",
      "Line_73.jupyter-kts (9:9 - 15) Not enough information to infer type variable DomainType\n",
      "Line_73.jupyter-kts (9:16 - 29) Unresolved reference: EchartsSymbol\n",
      "Line_73.jupyter-kts (11:21 - 43) Type mismatch: inferred type is StandardColor but Double was expected"
     ]
    }
   ],
   "source": [
    "plot(datasetMpg) { \n",
    "    x(mpg.scaled(\n",
    "        continuousPos(limits = 10.0 to 40.0)\n",
    "    ))\n",
    "    y(ehp)\n",
    "    points { \n",
    "        \n",
    "    \n",
    "        symbol(Symbol.DIAMOND)\n",
    "        color(origin.scaled())\n",
    "        borderColor(Color.fromRGB(0, 0, 0))\n",
    "         \n",
    "        size(noc.scaled(\n",
    "        \n",
    "            continuous(\n",
    "                domainLimits = 3 to 8,\n",
    "                rangeLimits = 10.0 to 35.0\n",
    "            )\n",
    "        ))\n",
    "    }\n",
    "   \n",
    "\n",
    "    layout {\n",
    "        title = \"Fuel consumption\"\n",
    "        size = 800 to 600\n",
    "    }\n",
    "}.toOption()"
   ]
  },
  {
   "cell_type": "code",
   "execution_count": 5,
   "metadata": {
    "datalore": {
     "hide_input_from_viewers": false,
     "hide_output_from_viewers": false,
     "type": "CODE"
    },
    "pycharm": {
     "name": "#%%\n"
    }
   },
   "outputs": [],
   "source": [
    "val observationsA: NamedData = mapOf(\n",
    "    \"time\"   to listOf(9.21, 3.41, 1.12, 4.21),\n",
    "    \"value\"  to listOf(10.3, 1.51, 8.21, 7.45)\n",
    ")\n",
    "\n",
    "val observationsB:NamedData = mapOf(\n",
    "    \"time\"   to listOf(5.21, 3.99, 3.12, 5.21),\n",
    "    \"value\"  to listOf(8.3, 2.51, 7.21, 6.45)\n",
    ")\n",
    "\n",
    "val observationsC: NamedData = mapOf(\n",
    "    \"time\"   to listOf(10.21, 4.41, 1.92, 2.21),\n",
    "    \"value\"  to listOf(3.34, 3.51, 8.77, 9.45)\n",
    ")\n",
    "\n",
    "val time = source<Double>(\"time\")\n",
    "val value = source<Double>(\"value\")"
   ]
  },
  {
   "cell_type": "code",
   "execution_count": 6,
   "metadata": {
    "datalore": {
     "hide_input_from_viewers": false,
     "hide_output_from_viewers": false,
     "type": "CODE"
    },
    "pycharm": {
     "name": "#%%\n"
    }
   },
   "outputs": [],
   "source": [
    "val coordScale = continuousPos(0.0 to 12.0)\n",
    "\n",
    "val plotA = plot(observationsA) {\n",
    "\n",
    "    points {\n",
    "        x(time.scaled(coordScale))\n",
    "        y(value.scaled(coordScale))\n",
    "\n",
    "        symbol(Symbol.CIRCLE)\n",
    "\n",
    "        color(Color.fromHex(\"#ff00ff\"))\n",
    "        size(10.0)\n",
    "    }\n",
    "   \n",
    "}\n",
    "\n",
    "val plotB = plot(observationsB) {\n",
    "\n",
    "    points {\n",
    "        x(time.scaled(coordScale))\n",
    "        y(value.scaled(coordScale))\n",
    "\n",
    "        symbol(Symbol.TRIANGLE)\n",
    "\n",
    "        color(Color.fromName(\"blue\"))\n",
    "        size(15.0)\n",
    "    }\n",
    "}\n",
    "\n",
    "val plotC = plot(observationsC) {\n",
    "\n",
    "    points {\n",
    "        x(time.scaled(coordScale))\n",
    "        y(value.scaled(coordScale))\n",
    "\n",
    "        symbol(Symbol.RECTANGLE)\n",
    "\n",
    "        color(Color.fromRGB(0, 255, 0))\n",
    "        size(18.0)\n",
    "    }\n",
    "}"
   ]
  },
  {
   "cell_type": "code",
   "execution_count": 7,
   "metadata": {
    "datalore": {
     "hide_input_from_viewers": false,
     "hide_output_from_viewers": false,
     "type": "CODE"
    },
    "pycharm": {
     "name": "#%%\n"
    }
   },
   "outputs": [
    {
     "data": {
      "text/html": [
       "<html>\n",
       "  <head>\n",
       "    <meta charset=\"utf-8\">\n",
       "    <title>MY BEAUTIFUL PLOT</title>\n",
       "    <script type=\"text/javascript\" src=\"https://cdn.jsdelivr.net/npm/echarts@5.2.2/dist/echarts.min.js\"></script>\n",
       "  </head>\n",
       "  <body>\n",
       "    <div id=\"main\" style=\"width: 1000px;height:800px;background: white\"></div>\n",
       "    <script type=\"text/javascript\">var myChart = echarts.init(document.getElementById('main'));\n",
       "var options = [{'dataset':{'source':[['time','value'],['9.21','10.3'],['3.41','1.51'],['1.12','8.21'],['4.21','7.45']]},'xAxis':[{'type':'value','min':'0.0','max':'12.0','axisTick':{'alignWithLabel':true},'scale':false}],'yAxis':[{'type':'value','min':'0.0','max':'12.0','axisTick':{'alignWithLabel':true},'scale':false}],'visualMap':[],'series':[{'type':'scatter','encode':{'x':'time','y':'value'},'itemStyle':{'color':'#ff00ff'},'symbolSize':40,'symbol':'circle','showSymbol':false,'universalTransition':true}],'animation':true,'animationThreshold':2000,'animationDuration':1000,'animationEasing':'cubicOut','animationDelay':0},{'dataset':{'source':[['time','value'],['5.21','8.3'],['3.99','2.51'],['3.12','7.21'],['5.21','6.45']]},'xAxis':[{'type':'value','min':'0.0','max':'12.0','axisTick':{'alignWithLabel':true},'scale':false}],'yAxis':[{'type':'value','min':'0.0','max':'12.0','axisTick':{'alignWithLabel':true},'scale':false}],'visualMap':[],'series':[{'type':'scatter','encode':{'x':'time','y':'value'},'itemStyle':{'color':'blue'},'symbolSize':60,'symbol':'triangle','showSymbol':false,'universalTransition':true}],'animation':true,'animationThreshold':2000,'animationDuration':1000,'animationEasing':'cubicOut','animationDelay':0},{'dataset':{'source':[['time','value'],['10.21','3.34'],['4.41','3.51'],['1.92','8.77'],['2.21','9.45']]},'xAxis':[{'type':'value','min':'0.0','max':'12.0','axisTick':{'alignWithLabel':true},'scale':false}],'yAxis':[{'type':'value','min':'0.0','max':'12.0','axisTick':{'alignWithLabel':true},'scale':false}],'visualMap':[],'series':[{'type':'scatter','encode':{'x':'time','y':'value'},'itemStyle':{'color':'#00FF00'},'symbolSize':72,'symbol':'rect','showSymbol':false,'universalTransition':true}],'animation':true,'animationThreshold':2000,'animationDuration':1000,'animationEasing':'cubicOut','animationDelay':0}];\n",
       "var option = options[0];\n",
       "myChart.setOption(option);\n",
       "var maxStates = 3;\n",
       "var nextState = 1 % maxStates;\n",
       "setInterval(function () {\n",
       "    option = options[nextState];\n",
       "    nextState = (nextState + 1) % maxStates;\n",
       "    myChart.setOption(option, true);\n",
       "}, 2000);</script>\n",
       "  </body>\n",
       "</html>\n"
      ]
     },
     "execution_count": 7,
     "metadata": {
      "text/html": {
       "isolated": true
      }
     },
     "output_type": "execute_result"
    }
   ],
   "source": [
    "PlotChangeAnimation(listOf(plotA, plotB, plotC), 2000)"
   ]
  }
 ],
 "metadata": {
  "datalore": {
   "base_environment": "default",
   "computation_mode": "JUPYTER",
   "package_manager": "pip",
   "packages": [],
   "version": 1
  },
  "kernelspec": {
   "display_name": "Kotlin",
   "language": "kotlin",
   "name": "kotlin"
  },
  "language_info": {
   "codemirror_mode": "text/x-kotlin",
   "file_extension": ".kt",
   "mimetype": "text/x-kotlin",
   "name": "kotlin",
   "nbconvert_exporter": "",
   "pygments_lexer": "kotlin",
   "version": "1.8.0-dev-707"
  }
 },
 "nbformat": 4,
 "nbformat_minor": 4
}
