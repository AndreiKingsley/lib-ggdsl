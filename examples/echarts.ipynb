{
 "cells": [
  {
   "cell_type": "code",
   "execution_count": null,
   "outputs": [],
   "source": [
    "%useLatestDescriptors\n",
    "%use ggdsl-echarts"
   ],
   "metadata": {
    "collapsed": false,
    "pycharm": {
     "name": "#%%\n"
    }
   }
  },
  {
   "cell_type": "code",
   "execution_count": null,
   "outputs": [],
   "source": [
    "%use dataframe\n",
    "val mpgDF = DataFrame.readCSV(\"https://raw.githubusercontent.com/JetBrains/lets-plot-kotlin/master/docs/examples/data/mpg2.csv\")\n",
    "mpgDF.head(5)"
   ],
   "metadata": {
    "collapsed": false,
    "pycharm": {
     "name": "#%%\n"
    }
   }
  },
  {
   "cell_type": "code",
   "execution_count": null,
   "outputs": [],
   "source": [
    "fun DataFrame<*>.toNamedData(): NamedData {\n",
    "    return toMap().map { it.key to it.value.map { it!! } }.toMap()\n",
    "}\n",
    "val smallDf = mpgDF.shuffle().head(100)\n",
    "val datasetMpg = smallDf.toNamedData()\n",
    "\n",
    "val mpg = source<Double>(\"miles per gallon\")\n",
    "val ehp = source<Int>(\"engine horsepower\")\n",
    "val origin = source<String>(\"origin of car\")\n",
    "val noc = source<Int>(\"number of cylinders\")"
   ],
   "metadata": {
    "collapsed": false,
    "pycharm": {
     "name": "#%%\n"
    }
   }
  },
  {
   "cell_type": "code",
   "execution_count": null,
   "outputs": [],
   "source": [
    "plot(datasetMpg) { \n",
    "    x(mpg.scaled(\n",
    "        continuousPos(limits = 10.0 to 40.0)\n",
    "    ))\n",
    "    y(ehp)\n",
    "    points { \n",
    "        \n",
    "       val scale = origin.scaled()\n",
    "        symbol(EchartsSymbol.DIAMOND)\n",
    "        color(origin.scaled())\n",
    "        borderColor(Color.fromRGB(0, 0, 0))\n",
    "         \n",
    "        size(noc.scaled(\n",
    "        \n",
    "            continuous(\n",
    "                domainLimits = 3 to 8,\n",
    "                rangeLimits = 10.0 to 35.0\n",
    "            )\n",
    "        ))\n",
    "    }\n",
    "   \n",
    "    layout.size = 800 to 600\n",
    "    layout {\n",
    "        title = \"Fuel consumption\"\n",
    "    }\n",
    "}.toOption()"
   ],
   "metadata": {
    "collapsed": false,
    "pycharm": {
     "name": "#%%\n"
    }
   }
  },
  {
   "cell_type": "code",
   "execution_count": 7,
   "metadata": {
    "datalore": {
     "hide_input_from_viewers": false,
     "hide_output_from_viewers": false,
     "type": "CODE"
    },
    "pycharm": {
     "name": "#%%\n"
    }
   },
   "outputs": [],
   "source": [
    "val observationsA: NamedData = mapOf(\n",
    "    \"time\"   to listOf(9.21, 3.41, 1.12, 4.21),\n",
    "    \"value\"  to listOf(10.3, 1.51, 8.21, 7.45)\n",
    ")\n",
    "\n",
    "val observationsB:NamedData = mapOf(\n",
    "    \"time\"   to listOf(5.21, 3.99, 3.12, 5.21),\n",
    "    \"value\"  to listOf(8.3, 2.51, 7.21, 6.45)\n",
    ")\n",
    "\n",
    "val observationsC: NamedData = mapOf(\n",
    "    \"time\"   to listOf(10.21, 4.41, 1.92, 2.21),\n",
    "    \"value\"  to listOf(3.34, 3.51, 8.77, 9.45)\n",
    ")\n",
    "\n",
    "val time = source<Double>(\"time\")\n",
    "val value = source<Double>(\"value\")"
   ]
  },
  {
   "cell_type": "code",
   "execution_count": 8,
   "metadata": {
    "datalore": {
     "hide_input_from_viewers": false,
     "hide_output_from_viewers": false,
     "type": "CODE"
    },
    "pycharm": {
     "name": "#%%\n"
    }
   },
   "outputs": [],
   "source": [
    "val coordScale = continuousPos(0.0 to 12.0)\n",
    "\n",
    "val plotA = plot(observationsA) {\n",
    "\n",
    "    points {\n",
    "        x(time.scaled(coordScale))\n",
    "        y(value.scaled(coordScale))\n",
    "\n",
    "        symbol(Symbol.CIRCLE)\n",
    "\n",
    "        color(Color.fromHex(\"#ff00ff\"))\n",
    "        size(10.0)\n",
    "    }\n",
    "   \n",
    "}\n",
    "\n",
    "val plotB = plot(observationsB) {\n",
    "\n",
    "    points {\n",
    "        x(time.scaled(coordScale))\n",
    "        y(value.scaled(coordScale))\n",
    "\n",
    "        symbol(Symbol.TRIANGLE)\n",
    "\n",
    "        color(Color.fromName(\"blue\"))\n",
    "        size(15.0)\n",
    "    }\n",
    "}\n",
    "\n",
    "val plotC = plot(observationsC) {\n",
    "\n",
    "    points {\n",
    "        x(time.scaled(coordScale))\n",
    "        y(value.scaled(coordScale))\n",
    "\n",
    "        symbol(Symbol.RECTANGLE)\n",
    "\n",
    "        color(Color.fromRGB(0, 255, 0))\n",
    "        size(18.0)\n",
    "    }\n",
    "}"
   ]
  },
  {
   "cell_type": "code",
   "execution_count": 9,
   "metadata": {
    "datalore": {
     "hide_input_from_viewers": false,
     "hide_output_from_viewers": false,
     "type": "CODE"
    },
    "pycharm": {
     "name": "#%%\n"
    }
   },
   "outputs": [
    {
     "data": {
      "text/html": [
       "<html>\n",
       "  <head>\n",
       "    <meta charset=\"utf-8\">\n",
       "    <title>MY BEAUTIFUL PLOT</title>\n",
       "    <script type=\"text/javascript\" src=\"https://cdn.jsdelivr.net/npm/echarts@5.2.2/dist/echarts.min.js\"></script>\n",
       "  </head>\n",
       "  <body>\n",
       "    <div id=\"main\" style=\"width: 1000px;height:800px;background: white\"></div>\n",
       "    <script type=\"text/javascript\">var myChart = echarts.init(document.getElementById('main'));\n",
       "var options = [{'dataset':{'source':[['time','value'],['9.21','10.3'],['3.41','1.51'],['1.12','8.21'],['4.21','7.45']]},'xAxis':[{'type':'value','min':'0.0','max':'12.0','axisTick':{'alignWithLabel':true},'scale':false}],'yAxis':[{'type':'value','min':'0.0','max':'12.0','axisTick':{'alignWithLabel':true},'scale':false}],'visualMap':[],'series':[{'type':'scatter','encode':{'x':'time','y':'value'},'itemStyle':{'color':'#ff00ff'},'symbolSize':40,'symbol':'circle','showSymbol':false,'universalTransition':true}],'animation':true,'animationThreshold':2000,'animationDuration':1000,'animationEasing':'cubicOut','animationDelay':0},{'dataset':{'source':[['time','value'],['5.21','8.3'],['3.99','2.51'],['3.12','7.21'],['5.21','6.45']]},'xAxis':[{'type':'value','min':'0.0','max':'12.0','axisTick':{'alignWithLabel':true},'scale':false}],'yAxis':[{'type':'value','min':'0.0','max':'12.0','axisTick':{'alignWithLabel':true},'scale':false}],'visualMap':[],'series':[{'type':'scatter','encode':{'x':'time','y':'value'},'itemStyle':{'color':'blue'},'symbolSize':60,'symbol':'triangle','showSymbol':false,'universalTransition':true}],'animation':true,'animationThreshold':2000,'animationDuration':1000,'animationEasing':'cubicOut','animationDelay':0},{'dataset':{'source':[['time','value'],['10.21','3.34'],['4.41','3.51'],['1.92','8.77'],['2.21','9.45']]},'xAxis':[{'type':'value','min':'0.0','max':'12.0','axisTick':{'alignWithLabel':true},'scale':false}],'yAxis':[{'type':'value','min':'0.0','max':'12.0','axisTick':{'alignWithLabel':true},'scale':false}],'visualMap':[],'series':[{'type':'scatter','encode':{'x':'time','y':'value'},'itemStyle':{'color':'#00FF00'},'symbolSize':72,'symbol':'rect','showSymbol':false,'universalTransition':true}],'animation':true,'animationThreshold':2000,'animationDuration':1000,'animationEasing':'cubicOut','animationDelay':0}];\n",
       "var option = options[0];\n",
       "myChart.setOption(option);\n",
       "var maxStates = 3;\n",
       "var nextState = 1 % maxStates;\n",
       "setInterval(function () {\n",
       "    option = options[nextState];\n",
       "    nextState = (nextState + 1) % maxStates;\n",
       "    myChart.setOption(option, true);\n",
       "}, 2000);</script>\n",
       "  </body>\n",
       "</html>\n"
      ]
     },
     "execution_count": 9,
     "metadata": {
      "text/html": {
       "isolated": true
      }
     },
     "output_type": "execute_result"
    }
   ],
   "source": [
    "PlotChangeAnimation(listOf(plotA, plotB, plotC), 2000)"
   ]
  },
  {
   "cell_type": "code",
   "execution_count": null,
   "metadata": {
    "datalore": {
     "hide_input_from_viewers": false,
     "hide_output_from_viewers": false,
     "type": "CODE"
    },
    "pycharm": {
     "name": "#%%\n"
    }
   },
   "outputs": [],
   "source": []
  }
 ],
 "metadata": {
  "datalore": {
   "base_environment": "default",
   "computation_mode": "JUPYTER",
   "package_manager": "pip",
   "packages": [],
   "version": 1
  },
  "kernelspec": {
   "display_name": "Kotlin",
   "language": "kotlin",
   "name": "kotlin"
  },
  "language_info": {
   "codemirror_mode": "text/x-kotlin",
   "file_extension": ".kt",
   "mimetype": "text/x-kotlin",
   "name": "kotlin",
   "nbconvert_exporter": "",
   "pygments_lexer": "kotlin",
   "version": "1.7.20-dev-1299"
  }
 },
 "nbformat": 4,
 "nbformat_minor": 4
}