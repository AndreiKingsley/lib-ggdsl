{
 "cells": [
  {
   "cell_type": "code",
   "execution_count": 1,
   "metadata": {
    "pycharm": {
     "name": "#%%\n"
    }
   },
   "outputs": [
    {
     "data": {
      "text/html": [
       "            <div id=\"kotlin_out_0\"/>\n",
       "            <script type=\"text/javascript\">\n",
       "                            if(!window.kotlinQueues) {\n",
       "                window.kotlinQueues = {};\n",
       "            }\n",
       "            if(!window.kotlinQueues[\"echarts\"]) {\n",
       "                var resQueue = [];\n",
       "                window.kotlinQueues[\"echarts\"] = resQueue;\n",
       "                window[\"call_echarts\"] = function(f) {\n",
       "                    resQueue.push(f);\n",
       "                }\n",
       "            }\n",
       "            (function (){\n",
       "                var modifiers = [(function(script) {\n",
       "    script.src = \"https://cdn.jsdelivr.net/npm/echarts@5.2.2/dist/echarts.min.js\"\n",
       "    script.type = \"text/javascript\";\n",
       "}),\n",
       "(function(script) {\n",
       "    script.textContent = \"\"\n",
       "    script.type = \"text/javascript\";\n",
       "})];\n",
       "                var e = document.getElementById(\"kotlin_out_0\");\n",
       "                modifiers.forEach(function (gen) {\n",
       "                    var script = document.createElement(\"script\");\n",
       "                    gen(script)\n",
       "                    script.addEventListener(\"load\", function() {\n",
       "                        window[\"call_echarts\"] = function(f) {f();};\n",
       "                        window.kotlinQueues[\"echarts\"].forEach(function(f) {f();});\n",
       "                        window.kotlinQueues[\"echarts\"] = [];\n",
       "                    }, false);\n",
       "                    script.addEventListener(\"error\", function() {\n",
       "                        window[\"call_echarts\"] = function(f) {};\n",
       "                        window.kotlinQueues[\"echarts\"] = [];\n",
       "                        var div = document.createElement(\"div\");\n",
       "                        div.style.color = 'darkred';\n",
       "                        div.textContent = 'Error loading resource echarts';\n",
       "                        document.getElementById(\"kotlin_out_0\").appendChild(div);\n",
       "                    }, false);\n",
       "                    \n",
       "                    e.appendChild(script);\n",
       "                });\n",
       "            })();\n",
       "            </script>"
      ]
     },
     "metadata": {},
     "output_type": "display_data"
    }
   ],
   "source": [
    "%useLatestDescriptors\n",
    "%use ggdsl-echarts"
   ]
  },
  {
   "cell_type": "code",
   "execution_count": 2,
   "metadata": {
    "pycharm": {
     "name": "#%%\n"
    }
   },
   "outputs": [
    {
     "data": {
      "text/html": [
       "            <div id=\"kotlin_out_1\"/>\n",
       "            <script type=\"text/javascript\">\n",
       "                            if(!window.kotlinQueues) {\n",
       "                window.kotlinQueues = {};\n",
       "            }\n",
       "            if(!window.kotlinQueues[\"DataFrame\"]) {\n",
       "                var resQueue = [];\n",
       "                window.kotlinQueues[\"DataFrame\"] = resQueue;\n",
       "                window[\"call_DataFrame\"] = function(f) {\n",
       "                    resQueue.push(f);\n",
       "                }\n",
       "            }\n",
       "            (function (){\n",
       "                var modifiers = [(function(script) {\n",
       "    script.src = \"https://cdn.jsdelivr.net/gh/Kotlin/dataframe@d6467c1389bc031958acd5310fce39167b5cc581/src/main/resources/init.js\"\n",
       "    script.type = \"text/javascript\";\n",
       "})];\n",
       "                var e = document.getElementById(\"kotlin_out_1\");\n",
       "                modifiers.forEach(function (gen) {\n",
       "                    var script = document.createElement(\"script\");\n",
       "                    gen(script)\n",
       "                    script.addEventListener(\"load\", function() {\n",
       "                        window[\"call_DataFrame\"] = function(f) {f();};\n",
       "                        window.kotlinQueues[\"DataFrame\"].forEach(function(f) {f();});\n",
       "                        window.kotlinQueues[\"DataFrame\"] = [];\n",
       "                    }, false);\n",
       "                    script.addEventListener(\"error\", function() {\n",
       "                        window[\"call_DataFrame\"] = function(f) {};\n",
       "                        window.kotlinQueues[\"DataFrame\"] = [];\n",
       "                        var div = document.createElement(\"div\");\n",
       "                        div.style.color = 'darkred';\n",
       "                        div.textContent = 'Error loading resource DataFrame';\n",
       "                        document.getElementById(\"kotlin_out_1\").appendChild(div);\n",
       "                    }, false);\n",
       "                    \n",
       "                    e.appendChild(script);\n",
       "                });\n",
       "            })();\n",
       "            </script>"
      ]
     },
     "metadata": {},
     "output_type": "display_data"
    },
    {
     "data": {
      "text/html": [
       "                <style>\n",
       "                :root {\n",
       "    --background: #fff;\n",
       "    --background-odd: #f5f5f5;\n",
       "    --background-hover: #d9edfd;\n",
       "    --header-text-color: #474747;\n",
       "    --text-color: #848484;\n",
       "    --text-color-dark: #000;\n",
       "    --text-color-medium: #737373;\n",
       "    --text-color-pale: #b3b3b3;\n",
       "    --inner-border-color: #aaa;\n",
       "    --bold-border-color: #000;\n",
       "    --link-color: #296eaa;\n",
       "    --link-color-pale: #296eaa;\n",
       "    --link-hover: #1a466c;\n",
       "}\n",
       "\n",
       ":root[theme=\"dark\"], :root [data-jp-theme-light=\"false\"]{\n",
       "    --background: #303030;\n",
       "    --background-odd: #3c3c3c;\n",
       "    --background-hover: #464646;\n",
       "    --header-text-color: #dddddd;\n",
       "    --text-color: #b3b3b3;\n",
       "    --text-color-dark: #dddddd;\n",
       "    --text-color-medium: #b2b2b2;\n",
       "    --text-color-pale: #737373;\n",
       "    --inner-border-color: #707070;\n",
       "    --bold-border-color: #777777;\n",
       "    --link-color: #008dc0;\n",
       "    --link-color-pale: #97e1fb;\n",
       "    --link-hover: #00688e;\n",
       "}\n",
       "\n",
       "table.dataframe {\n",
       "    font-family: \"Helvetica Neue\", Helvetica, Arial, sans-serif;\n",
       "    font-size: 12px;\n",
       "    background-color: var(--background);\n",
       "    color: var(--text-color-dark);\n",
       "    border: none;\n",
       "    border-collapse: collapse;\n",
       "}\n",
       "\n",
       "table.dataframe th, td {\n",
       "    padding: 6px;\n",
       "    border: 1px solid transparent;\n",
       "    text-align: left;\n",
       "}\n",
       "\n",
       "table.dataframe th {\n",
       "    background-color: var(--background);\n",
       "    color: var(--header-text-color);\n",
       "}\n",
       "\n",
       "table.dataframe td {\n",
       "    vertical-align: top;\n",
       "}\n",
       "\n",
       "table.dataframe th.bottomBorder {\n",
       "    border-bottom-color: var(--bold-border-color);\n",
       "}\n",
       "\n",
       "table.dataframe tbody > tr:nth-child(odd) {\n",
       "    background: var(--background-odd);\n",
       "}\n",
       "\n",
       "table.dataframe tbody > tr:nth-child(even) {\n",
       "    background: var(--background);\n",
       "}\n",
       "\n",
       "table.dataframe tbody > tr:hover {\n",
       "    background: var(--background-hover);\n",
       "}\n",
       "\n",
       "table.dataframe a {\n",
       "    cursor: pointer;\n",
       "    color: var(--link-color);\n",
       "    text-decoration: none;\n",
       "}\n",
       "\n",
       "table.dataframe tr:hover > td a {\n",
       "    color: var(--link-color-pale);\n",
       "}\n",
       "\n",
       "table.dataframe a:hover {\n",
       "    color: var(--link-hover);\n",
       "    text-decoration: underline;\n",
       "}\n",
       "\n",
       "table.dataframe img {\n",
       "    max-width: fit-content;\n",
       "}\n",
       "\n",
       "table.dataframe th.complex {\n",
       "    background-color: var(--background);\n",
       "    border: 1px solid var(--background);\n",
       "}\n",
       "\n",
       "table.dataframe .leftBorder {\n",
       "    border-left-color: var(--inner-border-color);\n",
       "}\n",
       "\n",
       "table.dataframe .rightBorder {\n",
       "    border-right-color: var(--inner-border-color);\n",
       "}\n",
       "\n",
       "table.dataframe .rightAlign {\n",
       "    text-align: right;\n",
       "}\n",
       "\n",
       "table.dataframe .expanderSvg {\n",
       "    width: 8px;\n",
       "    height: 8px;\n",
       "    margin-right: 3px;\n",
       "}\n",
       "\n",
       "table.dataframe .expander {\n",
       "    display: flex;\n",
       "    align-items: center;\n",
       "}\n",
       "\n",
       "/* formatting */\n",
       "\n",
       "table.dataframe .null {\n",
       "    color: var(--text-color-pale);\n",
       "}\n",
       "\n",
       "table.dataframe .structural {\n",
       "    color: var(--text-color-medium);\n",
       "    font-weight: bold;\n",
       "}\n",
       "\n",
       "table.dataframe .dataFrameCaption {\n",
       "    font-weight: bold;\n",
       "}\n",
       "\n",
       "table.dataframe .numbers {\n",
       "    color: var(--text-color-dark);\n",
       "}\n",
       "\n",
       "table.dataframe td:hover .formatted .structural, .null {\n",
       "    color: var(--text-color-dark);\n",
       "}\n",
       "\n",
       "table.dataframe tr:hover .formatted .structural, .null {\n",
       "    color: var(--text-color-dark);\n",
       "}\n",
       "\n",
       "\n",
       "                </style>"
      ]
     },
     "metadata": {},
     "output_type": "display_data"
    },
    {
     "data": {
      "text/html": [
       "        <html>\n",
       "        <head>\n",
       "            <style type=\"text/css\">\n",
       "                \n",
       "\n",
       "            </style>\n",
       "        </head>\n",
       "        <body>\n",
       "            <table class=\"dataframe\" id=\"df_603979776\"></table>\n",
       "\n",
       "<p>DataFrame: rowsCount = 5, columnsCount = 9</p>\n",
       "        </body>\n",
       "        <script>\n",
       "            /*<!--*/\n",
       "call_DataFrame(function() { DataFrame.addTable({ cols: [{ name: \"<span title=\\\"miles per gallon: java.math.BigDecimal\\\">miles per gallon</span>\", children: [], rightAlign: true, values: [\"<span class=\\\"formatted\\\" title=\\\"\\\"><span class=\\\"numbers\\\">18,0</span></span>\",\"<span class=\\\"formatted\\\" title=\\\"\\\"><span class=\\\"numbers\\\">15,0</span></span>\",\"<span class=\\\"formatted\\\" title=\\\"\\\"><span class=\\\"numbers\\\">18,0</span></span>\",\"<span class=\\\"formatted\\\" title=\\\"\\\"><span class=\\\"numbers\\\">16,0</span></span>\",\"<span class=\\\"formatted\\\" title=\\\"\\\"><span class=\\\"numbers\\\">17,0</span></span>\"] }, \n",
       "{ name: \"<span title=\\\"number of cylinders: Int\\\">number of cylinders</span>\", children: [], rightAlign: true, values: [\"<span class=\\\"formatted\\\" title=\\\"\\\"><span class=\\\"numbers\\\">8</span></span>\",\"<span class=\\\"formatted\\\" title=\\\"\\\"><span class=\\\"numbers\\\">8</span></span>\",\"<span class=\\\"formatted\\\" title=\\\"\\\"><span class=\\\"numbers\\\">8</span></span>\",\"<span class=\\\"formatted\\\" title=\\\"\\\"><span class=\\\"numbers\\\">8</span></span>\",\"<span class=\\\"formatted\\\" title=\\\"\\\"><span class=\\\"numbers\\\">8</span></span>\"] }, \n",
       "{ name: \"<span title=\\\"engine displacement (cu. inches): java.math.BigDecimal\\\">engine displacement (cu. inches)</span>\", children: [], rightAlign: true, values: [\"<span class=\\\"formatted\\\" title=\\\"\\\"><span class=\\\"numbers\\\">307,0</span></span>\",\"<span class=\\\"formatted\\\" title=\\\"\\\"><span class=\\\"numbers\\\">350,0</span></span>\",\"<span class=\\\"formatted\\\" title=\\\"\\\"><span class=\\\"numbers\\\">318,0</span></span>\",\"<span class=\\\"formatted\\\" title=\\\"\\\"><span class=\\\"numbers\\\">304,0</span></span>\",\"<span class=\\\"formatted\\\" title=\\\"\\\"><span class=\\\"numbers\\\">302,0</span></span>\"] }, \n",
       "{ name: \"<span title=\\\"engine horsepower: Int\\\">engine horsepower</span>\", children: [], rightAlign: true, values: [\"<span class=\\\"formatted\\\" title=\\\"\\\"><span class=\\\"numbers\\\">130</span></span>\",\"<span class=\\\"formatted\\\" title=\\\"\\\"><span class=\\\"numbers\\\">165</span></span>\",\"<span class=\\\"formatted\\\" title=\\\"\\\"><span class=\\\"numbers\\\">150</span></span>\",\"<span class=\\\"formatted\\\" title=\\\"\\\"><span class=\\\"numbers\\\">150</span></span>\",\"<span class=\\\"formatted\\\" title=\\\"\\\"><span class=\\\"numbers\\\">140</span></span>\"] }, \n",
       "{ name: \"<span title=\\\"vehicle weight (lbs.): Int\\\">vehicle weight (lbs.)</span>\", children: [], rightAlign: true, values: [\"<span class=\\\"formatted\\\" title=\\\"\\\"><span class=\\\"numbers\\\">3504</span></span>\",\"<span class=\\\"formatted\\\" title=\\\"\\\"><span class=\\\"numbers\\\">3693</span></span>\",\"<span class=\\\"formatted\\\" title=\\\"\\\"><span class=\\\"numbers\\\">3436</span></span>\",\"<span class=\\\"formatted\\\" title=\\\"\\\"><span class=\\\"numbers\\\">3433</span></span>\",\"<span class=\\\"formatted\\\" title=\\\"\\\"><span class=\\\"numbers\\\">3449</span></span>\"] }, \n",
       "{ name: \"<span title=\\\"time to accelerate (sec.): java.math.BigDecimal\\\">time to accelerate (sec.)</span>\", children: [], rightAlign: true, values: [\"<span class=\\\"formatted\\\" title=\\\"\\\"><span class=\\\"numbers\\\">12,0</span></span>\",\"<span class=\\\"formatted\\\" title=\\\"\\\"><span class=\\\"numbers\\\">11,5</span></span>\",\"<span class=\\\"formatted\\\" title=\\\"\\\"><span class=\\\"numbers\\\">11,0</span></span>\",\"<span class=\\\"formatted\\\" title=\\\"\\\"><span class=\\\"numbers\\\">12,0</span></span>\",\"<span class=\\\"formatted\\\" title=\\\"\\\"><span class=\\\"numbers\\\">10,5</span></span>\"] }, \n",
       "{ name: \"<span title=\\\"model year: Int\\\">model year</span>\", children: [], rightAlign: true, values: [\"<span class=\\\"formatted\\\" title=\\\"\\\"><span class=\\\"numbers\\\">70</span></span>\",\"<span class=\\\"formatted\\\" title=\\\"\\\"><span class=\\\"numbers\\\">70</span></span>\",\"<span class=\\\"formatted\\\" title=\\\"\\\"><span class=\\\"numbers\\\">70</span></span>\",\"<span class=\\\"formatted\\\" title=\\\"\\\"><span class=\\\"numbers\\\">70</span></span>\",\"<span class=\\\"formatted\\\" title=\\\"\\\"><span class=\\\"numbers\\\">70</span></span>\"] }, \n",
       "{ name: \"<span title=\\\"origin of car: String\\\">origin of car</span>\", children: [], rightAlign: false, values: [\"US\",\"US\",\"US\",\"US\",\"US\"] }, \n",
       "{ name: \"<span title=\\\"vehicle name: String\\\">vehicle name</span>\", children: [], rightAlign: false, values: [\"chevrolet chevelle malibu\",\"buick skylark 320\",\"plymouth satellite\",\"amc rebel sst\",\"ford torino\"] }, \n",
       "], id: 603979776, rootId: 603979776, totalRows: 5 } ) });\n",
       "/*-->*/\n",
       "\n",
       "call_DataFrame(function() { DataFrame.renderTable(603979776) });\n",
       "\n",
       "\n",
       "        </script>\n",
       "        </html>"
      ]
     },
     "execution_count": 2,
     "metadata": {},
     "output_type": "execute_result"
    }
   ],
   "source": [
    "%use dataframe\n",
    "val mpgDF = DataFrame.readCSV(\"https://raw.githubusercontent.com/JetBrains/lets-plot-kotlin/master/docs/examples/data/mpg2.csv\")\n",
    "mpgDF.head(5)"
   ]
  },
  {
   "cell_type": "code",
   "execution_count": 3,
   "metadata": {
    "pycharm": {
     "name": "#%%\n"
    }
   },
   "outputs": [],
   "source": [
    "fun DataFrame<*>.toNamedData(): NamedData {\n",
    "    return toMap().map { it.key to it.value.map { it!! } }.toMap()\n",
    "}\n",
    "val smallDf = mpgDF.shuffle().head(100)\n",
    "val datasetMpg = smallDf.toNamedData()\n",
    "\n",
    "val mpg = source<Double>(\"miles per gallon\")\n",
    "val ehp = source<Int>(\"engine horsepower\")\n",
    "val origin = source<String>(\"origin of car\")\n",
    "val noc = source<Int>(\"number of cylinders\")"
   ]
  },
  {
   "cell_type": "code",
   "execution_count": 4,
   "metadata": {
    "pycharm": {
     "name": "#%%\n"
    }
   },
   "outputs": [
    {
     "data": {
      "text/html": [
       "<html>\n",
       "  <head>\n",
       "    <meta charset=\"utf-8\">\n",
       "    <title>MY BEAUTIFUL PLOT</title>\n",
       "    <script type=\"text/javascript\" src=\"https://cdn.jsdelivr.net/npm/echarts@5.2.2/dist/echarts.min.js\"></script>\n",
       "  </head>\n",
       "  <body>\n",
       "    <div id=\"main\" style=\"width: 800px;height:600px;background: white\"></div>\n",
       "    <script type=\"text/javascript\">var myChart = echarts.init(document.getElementById('main'));\n",
       "var option = {\"dataset\":{\"source\":[[\"miles per gallon\",\"number of cylinders\",\"engine displacement (cu. inches)\",\"engine horsepower\",\"vehicle weight (lbs.)\",\"time to accelerate (sec.)\",\"model year\",\"origin of car\",\"vehicle name\"],[\"16.0\",\"8\",\"400.0\",\"180\",\"4220\",\"11.1\",\"77\",\"US\",\"pontiac grand prix lj\"],[\"28.0\",\"4\",\"112.0\",\"88\",\"2605\",\"19.6\",\"82\",\"US\",\"chevrolet cavalier\"],[\"36.0\",\"4\",\"105.0\",\"74\",\"1980\",\"15.3\",\"82\",\"Europe\",\"volkswagen rabbit l\"],[\"35.0\",\"4\",\"72.0\",\"69\",\"1613\",\"18.0\",\"71\",\"Asia\",\"datsun 1200\"],[\"32.0\",\"4\",\"83.0\",\"61\",\"2003\",\"19.0\",\"74\",\"Asia\",\"datsun 710\"],[\"24.0\",\"4\",\"107.0\",\"90\",\"2430\",\"14.5\",\"70\",\"Europe\",\"audi 100 ls\"],[\"18.0\",\"6\",\"250.0\",\"88\",\"3021\",\"16.5\",\"73\",\"US\",\"ford maverick\"],[\"26.0\",\"4\",\"108.0\",\"93\",\"2391\",\"15.5\",\"74\",\"Asia\",\"subaru\"],[\"11.0\",\"8\",\"429.0\",\"208\",\"4633\",\"11.0\",\"72\",\"US\",\"mercury marquis\"],[\"26.0\",\"4\",\"98.0\",\"90\",\"2265\",\"15.5\",\"73\",\"Europe\",\"fiat 124 sport coupe\"],[\"15.0\",\"6\",\"250.0\",\"72\",\"3432\",\"21.0\",\"75\",\"US\",\"mercury monarch\"],[\"30.7\",\"6\",\"145.0\",\"76\",\"3160\",\"19.6\",\"81\",\"Europe\",\"volvo diesel\"],[\"39.0\",\"4\",\"86.0\",\"64\",\"1875\",\"16.4\",\"81\",\"US\",\"plymouth champ\"],[\"17.5\",\"8\",\"305.0\",\"140\",\"4215\",\"13.0\",\"76\",\"US\",\"chevrolet chevelle malibu classic\"],[\"16.0\",\"8\",\"318.0\",\"150\",\"4498\",\"14.5\",\"75\",\"US\",\"plymouth grand fury\"],[\"17.5\",\"8\",\"318.0\",\"140\",\"4080\",\"13.7\",\"78\",\"US\",\"dodge magnum xe\"],[\"37.2\",\"4\",\"86.0\",\"65\",\"2019\",\"16.4\",\"80\",\"Asia\",\"datsun 310\"],[\"16.0\",\"8\",\"400.0\",\"230\",\"4278\",\"9.5\",\"73\",\"US\",\"pontiac grand prix\"],[\"21.0\",\"6\",\"155.0\",\"107\",\"2472\",\"14.0\",\"73\",\"US\",\"mercury capri v6\"],[\"14.0\",\"8\",\"455.0\",\"225\",\"3086\",\"10.0\",\"70\",\"US\",\"buick estate wagon (sw)\"],[\"37.7\",\"4\",\"89.0\",\"62\",\"2050\",\"17.3\",\"81\",\"Asia\",\"toyota tercel\"],[\"20.6\",\"6\",\"231.0\",\"105\",\"3380\",\"15.8\",\"78\",\"US\",\"buick century special\"],[\"20.5\",\"6\",\"200.0\",\"95\",\"3155\",\"18.2\",\"78\",\"US\",\"chevrolet malibu\"],[\"31.3\",\"4\",\"120.0\",\"75\",\"2542\",\"17.5\",\"80\",\"Asia\",\"mazda 626\"],[\"26.6\",\"8\",\"350.0\",\"105\",\"3725\",\"19.0\",\"81\",\"US\",\"oldsmobile cutlass ls\"],[\"18.5\",\"6\",\"250.0\",\"110\",\"3645\",\"16.2\",\"76\",\"US\",\"pontiac ventura sj\"],[\"19.0\",\"6\",\"156.0\",\"108\",\"2930\",\"15.5\",\"76\",\"Asia\",\"toyota mark ii\"],[\"14.0\",\"8\",\"304.0\",\"150\",\"4257\",\"15.5\",\"74\",\"US\",\"amc matador (sw)\"],[\"34.1\",\"4\",\"91.0\",\"68\",\"1985\",\"16.0\",\"81\",\"Asia\",\"mazda glc 4\"],[\"27.0\",\"4\",\"151.0\",\"90\",\"2950\",\"17.3\",\"82\",\"US\",\"chevrolet camaro\"],[\"27.9\",\"4\",\"156.0\",\"105\",\"2800\",\"14.4\",\"80\",\"US\",\"dodge colt\"],[\"16.0\",\"6\",\"258.0\",\"110\",\"3632\",\"18.0\",\"74\",\"US\",\"amc matador\"],[\"22.0\",\"6\",\"232.0\",\"112\",\"2835\",\"14.7\",\"82\",\"US\",\"ford granada l\"],[\"23.0\",\"6\",\"198.0\",\"95\",\"2904\",\"16.0\",\"73\",\"US\",\"plymouth duster\"],[\"23.0\",\"4\",\"97.0\",\"54\",\"2254\",\"23.5\",\"72\",\"Europe\",\"volkswagen type 3\"],[\"19.0\",\"6\",\"225.0\",\"95\",\"3264\",\"16.0\",\"75\",\"US\",\"plymouth valiant custom\"],[\"22.0\",\"4\",\"121.0\",\"98\",\"2945\",\"14.5\",\"75\",\"Europe\",\"volvo 244dl\"],[\"20.3\",\"5\",\"131.0\",\"103\",\"2830\",\"15.9\",\"78\",\"Europe\",\"audi 5000\"],[\"11.0\",\"8\",\"318.0\",\"210\",\"4382\",\"13.5\",\"70\",\"US\",\"dodge d200\"],[\"31.8\",\"4\",\"85.0\",\"65\",\"2020\",\"19.2\",\"79\",\"Asia\",\"datsun 210\"],[\"24.0\",\"4\",\"113.0\",\"95\",\"2278\",\"15.5\",\"72\",\"Asia\",\"toyota corona hardtop\"],[\"14.0\",\"8\",\"318.0\",\"150\",\"4077\",\"14.0\",\"72\",\"US\",\"plymouth satellite custom (sw)\"],[\"23.0\",\"4\",\"115.0\",\"95\",\"2694\",\"15.0\",\"75\",\"Europe\",\"audi 100ls\"],[\"23.9\",\"8\",\"260.0\",\"90\",\"3420\",\"22.2\",\"79\",\"US\",\"oldsmobile cutlass salon brougham\"],[\"44.3\",\"4\",\"90.0\",\"48\",\"2085\",\"21.7\",\"80\",\"Europe\",\"vw rabbit c (diesel)\"],[\"26.4\",\"4\",\"140.0\",\"88\",\"2870\",\"18.1\",\"80\",\"US\",\"ford fairmont\"],[\"19.4\",\"6\",\"232.0\",\"90\",\"3210\",\"17.2\",\"78\",\"US\",\"amc concord\"],[\"20.0\",\"4\",\"97.0\",\"88\",\"2279\",\"19.0\",\"73\",\"Asia\",\"toyota carina\"],[\"28.0\",\"4\",\"90.0\",\"75\",\"2125\",\"14.5\",\"74\",\"US\",\"dodge colt\"],[\"22.0\",\"4\",\"140.0\",\"72\",\"2408\",\"19.0\",\"71\",\"US\",\"chevrolet vega (sw)\"],[\"26.0\",\"4\",\"97.0\",\"46\",\"1950\",\"21.0\",\"73\",\"Europe\",\"volkswagen super beetle\"],[\"17.7\",\"6\",\"231.0\",\"165\",\"3445\",\"13.4\",\"78\",\"US\",\"buick regal sport coupe (turbo)\"],[\"15.0\",\"8\",\"318.0\",\"150\",\"4135\",\"13.5\",\"72\",\"US\",\"plymouth fury iii\"],[\"39.1\",\"4\",\"79.0\",\"58\",\"1755\",\"16.9\",\"81\",\"Asia\",\"toyota starlet\"],[\"29.9\",\"4\",\"98.0\",\"65\",\"2380\",\"20.7\",\"81\",\"US\",\"ford escort 2h\"],[\"15.0\",\"8\",\"350.0\",\"145\",\"4440\",\"14.0\",\"75\",\"US\",\"chevrolet bel air\"],[\"39.4\",\"4\",\"85.0\",\"70\",\"2070\",\"18.6\",\"78\",\"Asia\",\"datsun b210 gx\"],[\"16.0\",\"8\",\"400.0\",\"170\",\"4668\",\"11.5\",\"75\",\"US\",\"pontiac catalina\"],[\"29.8\",\"4\",\"89.0\",\"62\",\"1845\",\"15.3\",\"80\",\"Europe\",\"vokswagen rabbit\"],[\"18.0\",\"4\",\"121.0\",\"112\",\"2933\",\"14.5\",\"72\",\"Europe\",\"volvo 145e (sw)\"],[\"22.0\",\"6\",\"250.0\",\"105\",\"3353\",\"14.5\",\"76\",\"US\",\"chevrolet nova\"],[\"25.4\",\"5\",\"183.0\",\"77\",\"3530\",\"20.1\",\"79\",\"Europe\",\"mercedes benz 300d\"],[\"12.0\",\"8\",\"455.0\",\"225\",\"4951\",\"11.0\",\"73\",\"US\",\"buick electra 225 custom\"],[\"10.0\",\"8\",\"307.0\",\"200\",\"4376\",\"15.0\",\"70\",\"US\",\"chevy c20\"],[\"15.5\",\"8\",\"351.0\",\"142\",\"4054\",\"14.3\",\"79\",\"US\",\"ford country squire (sw)\"],[\"30.9\",\"4\",\"105.0\",\"75\",\"2230\",\"14.5\",\"78\",\"US\",\"dodge omni\"],[\"18.2\",\"8\",\"318.0\",\"135\",\"3830\",\"15.2\",\"79\",\"US\",\"dodge st. regis\"],[\"18.0\",\"6\",\"225.0\",\"105\",\"3121\",\"16.5\",\"73\",\"US\",\"plymouth valiant\"],[\"13.0\",\"8\",\"350.0\",\"175\",\"4100\",\"13.0\",\"73\",\"US\",\"buick century 350\"],[\"12.0\",\"8\",\"429.0\",\"198\",\"4952\",\"11.5\",\"73\",\"US\",\"mercury marquis brougham\"],[\"26.0\",\"4\",\"116.0\",\"75\",\"2246\",\"14.0\",\"74\",\"Europe\",\"fiat 124 tc\"],[\"37.3\",\"4\",\"91.0\",\"69\",\"2130\",\"14.7\",\"79\",\"Europe\",\"fiat strada custom\"],[\"30.5\",\"4\",\"97.0\",\"78\",\"2190\",\"14.1\",\"77\",\"Europe\",\"volkswagen dasher\"],[\"31.5\",\"4\",\"98.0\",\"68\",\"2045\",\"18.5\",\"77\",\"Asia\",\"honda accord cvcc\"],[\"24.0\",\"6\",\"200.0\",\"81\",\"3012\",\"17.6\",\"76\",\"US\",\"ford maverick\"],[\"22.0\",\"6\",\"146.0\",\"97\",\"2815\",\"14.5\",\"77\",\"Asia\",\"datsun 810\"],[\"19.2\",\"6\",\"231.0\",\"105\",\"3535\",\"19.2\",\"78\",\"US\",\"pontiac phoenix lj\"],[\"19.0\",\"6\",\"250.0\",\"88\",\"3302\",\"15.5\",\"71\",\"US\",\"ford torino 500\"],[\"23.2\",\"4\",\"156.0\",\"105\",\"2745\",\"16.7\",\"78\",\"US\",\"plymouth sapporo\"],[\"30.0\",\"4\",\"79.0\",\"70\",\"2074\",\"19.5\",\"71\",\"Europe\",\"peugeot 304\"],[\"29.0\",\"4\",\"97.0\",\"75\",\"2171\",\"16.0\",\"75\",\"Asia\",\"toyota corolla\"],[\"26.0\",\"4\",\"97.0\",\"75\",\"2265\",\"18.2\",\"77\",\"Asia\",\"toyota corolla liftback\"],[\"15.5\",\"8\",\"318.0\",\"145\",\"4140\",\"13.7\",\"77\",\"US\",\"dodge monaco brougham\"],[\"25.0\",\"4\",\"116.0\",\"81\",\"2220\",\"16.9\",\"76\",\"Europe\",\"opel 1900\"],[\"28.1\",\"4\",\"141.0\",\"80\",\"3230\",\"20.4\",\"81\",\"Europe\",\"peugeot 505s turbo diesel\"],[\"15.0\",\"8\",\"390.0\",\"190\",\"3850\",\"8.5\",\"70\",\"US\",\"amc ambassador dpl\"],[\"35.0\",\"4\",\"122.0\",\"88\",\"2500\",\"15.1\",\"80\",\"Europe\",\"triumph tr7 coupe\"],[\"22.0\",\"6\",\"225.0\",\"100\",\"3233\",\"15.4\",\"76\",\"US\",\"plymouth valiant\"],[\"16.5\",\"8\",\"351.0\",\"138\",\"3955\",\"13.2\",\"79\",\"US\",\"mercury grand marquis\"],[\"24.5\",\"4\",\"98.0\",\"60\",\"2164\",\"22.1\",\"76\",\"US\",\"chevrolet woody\"],[\"16.2\",\"6\",\"163.0\",\"133\",\"3410\",\"15.8\",\"78\",\"Europe\",\"peugeot 604sl\"],[\"17.6\",\"8\",\"302.0\",\"129\",\"3725\",\"13.4\",\"79\",\"US\",\"ford ltd landau\"],[\"25.0\",\"4\",\"110.0\",\"87\",\"2672\",\"17.5\",\"70\",\"Europe\",\"peugeot 504\"],[\"13.0\",\"8\",\"400.0\",\"150\",\"4464\",\"12.0\",\"73\",\"US\",\"chevrolet caprice classic\"],[\"30.0\",\"4\",\"111.0\",\"80\",\"2155\",\"14.8\",\"77\",\"US\",\"buick opel isuzu deluxe\"],[\"15.0\",\"8\",\"383.0\",\"170\",\"3563\",\"10.0\",\"70\",\"US\",\"dodge challenger se\"],[\"13.0\",\"8\",\"440.0\",\"215\",\"4735\",\"11.0\",\"73\",\"US\",\"chrysler new yorker brougham\"],[\"19.0\",\"6\",\"232.0\",\"100\",\"2901\",\"16.0\",\"74\",\"US\",\"amc hornet\"],[\"36.0\",\"4\",\"120.0\",\"88\",\"2160\",\"14.5\",\"82\",\"Asia\",\"nissan stanza xe\"],[\"26.8\",\"6\",\"173.0\",\"115\",\"2700\",\"12.9\",\"79\",\"US\",\"oldsmobile omega brougham\"]]},\"xAxis\":[{\"type\":\"value\",\"min\":\"10.0\",\"max\":\"40.0\",\"axisTick\":{\"alignWithLabel\":true},\"scale\":false}],\"yAxis\":[{\"type\":\"value\",\"axisTick\":{\"alignWithLabel\":true},\"scale\":false}],\"visualMap\":[{\"type\":\"piecewise\",\"dimension\":7,\"seriesIndex\":0,\"categories\":[\"US\",\"Europe\",\"Asia\"],\"inRange\":{\"color\":[\"red\",\"blue\",\"green\"]},\"top\":0,\"right\":10},{\"type\":\"continuous\",\"dimension\":1,\"seriesIndex\":0,\"min\":3.0,\"max\":8.0,\"inRange\":{\"symbolSize\":[10.0,35.0]},\"top\":150,\"right\":10}],\"series\":[{\"type\":\"scatter\",\"encode\":{\"x\":\"miles per gallon\",\"y\":\"engine horsepower\"},\"itemStyle\":{\"borderColor\":\"#000000\"},\"symbol\":\"diamond\",\"showSymbol\":false,\"universalTransition\":true}],\"title\":{\"text\":\"Fuel consumption\"},\"animation\":true,\"animationThreshold\":2000,\"animationDuration\":1000,\"animationEasing\":\"cubicOut\",\"animationDelay\":0};\n",
       "myChart.setOption(option);</script>\n",
       "  </body>\n",
       "</html>\n"
      ]
     },
     "execution_count": 4,
     "metadata": {
      "text/html": {
       "isolated": true
      }
     },
     "output_type": "execute_result"
    }
   ],
   "source": [
    "plot(datasetMpg) { \n",
    "    x(mpg.scaled(\n",
    "        continuousPos(limits = 10.0 to 40.0)\n",
    "    ))\n",
    "    y(ehp)\n",
    "    points { \n",
    "        \n",
    "       val scale = origin.scaled()\n",
    "        symbol(EchartsSymbol.DIAMOND)\n",
    "        color(origin.scaled())\n",
    "        borderColor(Color.fromRGB(0, 0, 0))\n",
    "         \n",
    "        size(noc.scaled(\n",
    "        \n",
    "            continuous(\n",
    "                domainLimits = 3 to 8,\n",
    "                rangeLimits = 10.0 to 35.0\n",
    "            )\n",
    "        ))\n",
    "    }\n",
    "   \n",
    "    layout.size = 800 to 600\n",
    "    layout {\n",
    "        title = \"Fuel consumption\"\n",
    "    }\n",
    "}.toOption()"
   ]
  },
  {
   "cell_type": "code",
   "execution_count": 5,
   "metadata": {
    "datalore": {
     "hide_input_from_viewers": false,
     "hide_output_from_viewers": false,
     "type": "CODE"
    },
    "pycharm": {
     "name": "#%%\n"
    }
   },
   "outputs": [],
   "source": [
    "val observationsA: NamedData = mapOf(\n",
    "    \"time\"   to listOf(9.21, 3.41, 1.12, 4.21),\n",
    "    \"value\"  to listOf(10.3, 1.51, 8.21, 7.45)\n",
    ")\n",
    "\n",
    "val observationsB:NamedData = mapOf(\n",
    "    \"time\"   to listOf(5.21, 3.99, 3.12, 5.21),\n",
    "    \"value\"  to listOf(8.3, 2.51, 7.21, 6.45)\n",
    ")\n",
    "\n",
    "val observationsC: NamedData = mapOf(\n",
    "    \"time\"   to listOf(10.21, 4.41, 1.92, 2.21),\n",
    "    \"value\"  to listOf(3.34, 3.51, 8.77, 9.45)\n",
    ")\n",
    "\n",
    "val time = source<Double>(\"time\")\n",
    "val value = source<Double>(\"value\")"
   ]
  },
  {
   "cell_type": "code",
   "execution_count": 6,
   "metadata": {
    "datalore": {
     "hide_input_from_viewers": false,
     "hide_output_from_viewers": false,
     "type": "CODE"
    },
    "pycharm": {
     "name": "#%%\n"
    }
   },
   "outputs": [],
   "source": [
    "val coordScale = continuousPos(0.0 to 12.0)\n",
    "\n",
    "val plotA = plot(observationsA) {\n",
    "\n",
    "    points {\n",
    "        x(time.scaled(coordScale))\n",
    "        y(value.scaled(coordScale))\n",
    "\n",
    "        symbol(Symbol.CIRCLE)\n",
    "\n",
    "        color(Color.fromHex(\"#ff00ff\"))\n",
    "        size(10.0)\n",
    "    }\n",
    "   \n",
    "}\n",
    "\n",
    "val plotB = plot(observationsB) {\n",
    "\n",
    "    points {\n",
    "        x(time.scaled(coordScale))\n",
    "        y(value.scaled(coordScale))\n",
    "\n",
    "        symbol(Symbol.TRIANGLE)\n",
    "\n",
    "        color(Color.fromName(\"blue\"))\n",
    "        size(15.0)\n",
    "    }\n",
    "}\n",
    "\n",
    "val plotC = plot(observationsC) {\n",
    "\n",
    "    points {\n",
    "        x(time.scaled(coordScale))\n",
    "        y(value.scaled(coordScale))\n",
    "\n",
    "        symbol(Symbol.RECTANGLE)\n",
    "\n",
    "        color(Color.fromRGB(0, 255, 0))\n",
    "        size(18.0)\n",
    "    }\n",
    "}"
   ]
  },
  {
   "cell_type": "code",
   "execution_count": 7,
   "metadata": {
    "datalore": {
     "hide_input_from_viewers": false,
     "hide_output_from_viewers": false,
     "type": "CODE"
    },
    "pycharm": {
     "name": "#%%\n"
    }
   },
   "outputs": [
    {
     "data": {
      "text/html": [
       "<html>\n",
       "  <head>\n",
       "    <meta charset=\"utf-8\">\n",
       "    <title>MY BEAUTIFUL PLOT</title>\n",
       "    <script type=\"text/javascript\" src=\"https://cdn.jsdelivr.net/npm/echarts@5.2.2/dist/echarts.min.js\"></script>\n",
       "  </head>\n",
       "  <body>\n",
       "    <div id=\"main\" style=\"width: 1000px;height:800px;background: white\"></div>\n",
       "    <script type=\"text/javascript\">var myChart = echarts.init(document.getElementById('main'));\n",
       "var options = [{'dataset':{'source':[['time','value'],['9.21','10.3'],['3.41','1.51'],['1.12','8.21'],['4.21','7.45']]},'xAxis':[{'type':'value','min':'0.0','max':'12.0','axisTick':{'alignWithLabel':true},'scale':false}],'yAxis':[{'type':'value','min':'0.0','max':'12.0','axisTick':{'alignWithLabel':true},'scale':false}],'visualMap':[],'series':[{'type':'scatter','encode':{'x':'time','y':'value'},'itemStyle':{'color':'#ff00ff'},'symbolSize':40,'symbol':'circle','showSymbol':false,'universalTransition':true}],'animation':true,'animationThreshold':2000,'animationDuration':1000,'animationEasing':'cubicOut','animationDelay':0},{'dataset':{'source':[['time','value'],['5.21','8.3'],['3.99','2.51'],['3.12','7.21'],['5.21','6.45']]},'xAxis':[{'type':'value','min':'0.0','max':'12.0','axisTick':{'alignWithLabel':true},'scale':false}],'yAxis':[{'type':'value','min':'0.0','max':'12.0','axisTick':{'alignWithLabel':true},'scale':false}],'visualMap':[],'series':[{'type':'scatter','encode':{'x':'time','y':'value'},'itemStyle':{'color':'blue'},'symbolSize':60,'symbol':'triangle','showSymbol':false,'universalTransition':true}],'animation':true,'animationThreshold':2000,'animationDuration':1000,'animationEasing':'cubicOut','animationDelay':0},{'dataset':{'source':[['time','value'],['10.21','3.34'],['4.41','3.51'],['1.92','8.77'],['2.21','9.45']]},'xAxis':[{'type':'value','min':'0.0','max':'12.0','axisTick':{'alignWithLabel':true},'scale':false}],'yAxis':[{'type':'value','min':'0.0','max':'12.0','axisTick':{'alignWithLabel':true},'scale':false}],'visualMap':[],'series':[{'type':'scatter','encode':{'x':'time','y':'value'},'itemStyle':{'color':'#00FF00'},'symbolSize':72,'symbol':'rect','showSymbol':false,'universalTransition':true}],'animation':true,'animationThreshold':2000,'animationDuration':1000,'animationEasing':'cubicOut','animationDelay':0}];\n",
       "var option = options[0];\n",
       "myChart.setOption(option);\n",
       "var maxStates = 3;\n",
       "var nextState = 1 % maxStates;\n",
       "setInterval(function () {\n",
       "    option = options[nextState];\n",
       "    nextState = (nextState + 1) % maxStates;\n",
       "    myChart.setOption(option, true);\n",
       "}, 2000);</script>\n",
       "  </body>\n",
       "</html>\n"
      ]
     },
     "execution_count": 7,
     "metadata": {
      "text/html": {
       "isolated": true
      }
     },
     "output_type": "execute_result"
    }
   ],
   "source": [
    "PlotChangeAnimation(listOf(plotA, plotB, plotC), 2000)"
   ]
  }
 ],
 "metadata": {
  "datalore": {
   "base_environment": "default",
   "computation_mode": "JUPYTER",
   "package_manager": "pip",
   "packages": [],
   "version": 1
  },
  "kernelspec": {
   "display_name": "Kotlin",
   "language": "kotlin",
   "name": "kotlin"
  },
  "language_info": {
   "codemirror_mode": "text/x-kotlin",
   "file_extension": ".kt",
   "mimetype": "text/x-kotlin",
   "name": "kotlin",
   "nbconvert_exporter": "",
   "pygments_lexer": "kotlin",
   "version": "1.7.20-dev-1299"
  }
 },
 "nbformat": 4,
 "nbformat_minor": 4
}
