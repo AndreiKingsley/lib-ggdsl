{
 "cells": [
  {
   "cell_type": "markdown",
   "metadata": {
    "datalore": {
     "hide_input_from_viewers": false,
     "hide_output_from_viewers": false,
     "type": "MD"
    },
    "pycharm": {
     "name": "#%% md\n"
    }
   },
   "source": [
    "[Replica of the example from lets-plot(click)](https://nbviewer.org/github/JetBrains/lets-plot-kotlin/blob/master/docs/examples/jupyter-notebooks/error_bars.ipynb)"
   ]
  },
  {
   "cell_type": "code",
   "execution_count": 27,
   "metadata": {
    "pycharm": {
     "name": "#%%\n"
    }
   },
   "outputs": [
    {
     "data": {
      "text/html": "   <div id=\"fUgerg\"></div>\n   <script type=\"text/javascript\" data-lets-plot-script=\"library\">\n       if(!window.letsPlotCallQueue) {\n           window.letsPlotCallQueue = [];\n       }; \n       window.letsPlotCall = function(f) {\n           window.letsPlotCallQueue.push(f);\n       };\n       (function() {\n           var script = document.createElement(\"script\");\n           script.type = \"text/javascript\";\n           script.src = \"https://cdn.jsdelivr.net/gh/JetBrains/lets-plot@v2.4.0/js-package/distr/lets-plot.min.js\";\n           script.onload = function() {\n               window.letsPlotCall = function(f) {f();};\n               window.letsPlotCallQueue.forEach(function(f) {f();});\n               window.letsPlotCallQueue = [];\n               \n               \n           };\n           script.onerror = function(event) {\n               window.letsPlotCall = function(f) {};\n               window.letsPlotCallQueue = [];\n               var div = document.createElement(\"div\");\n               div.style.color = 'darkred';\n               div.textContent = 'Error loading Lets-Plot JS';\n               document.getElementById(\"fUgerg\").appendChild(div);\n           };\n           var e = document.getElementById(\"fUgerg\");\n           e.appendChild(script);\n       })();\n   </script>"
     },
     "metadata": {},
     "output_type": "display_data"
    }
   ],
   "source": [
    "%useLatestDescriptors\n",
    "%use lets-plot\n",
    "%use ggdsl-lets-plot"
   ]
  },
  {
   "cell_type": "code",
   "execution_count": 28,
   "metadata": {
    "pycharm": {
     "name": "#%%\n"
    }
   },
   "outputs": [],
   "source": [
    "val dataset: NamedData = mapOf(\n",
    "    \"supp\" to listOf(\"OJ\", \"OJ\", \"OJ\", \"VC\", \"VC\", \"VC\"),\n",
    "    \"dose\" to listOf(0.5, 1.0, 2.0, 0.5, 1.0, 2.0),\n",
    "    \"length\" to listOf(13.23, 22.70, 26.06, 7.98, 16.77, 26.14),\n",
    "    \"len_min\" to listOf(11.83, 21.2, 24.50, 4.24, 15.26, 23.35),\n",
    "    \"len_max\" to listOf(15.63, 24.9, 27.11, 10.72, 19.28, 28.93)\n",
    ")"
   ]
  },
  {
   "cell_type": "code",
   "execution_count": 3,
   "metadata": {
    "pycharm": {
     "name": "#%%\n"
    }
   },
   "outputs": [],
   "source": [
    "val supp = source<String>(\"supp\")\n",
    "val dose = source<Double>(\"dose\")\n",
    "val length = source<Double>(\"length\")\n",
    "val lenMin = source<Double>(\"len_min\")\n",
    "val lenMax = source<Double>(\"len_max\")"
   ]
  },
  {
   "cell_type": "code",
   "execution_count": 26,
   "metadata": {
    "pycharm": {
     "name": "#%%\n"
    }
   },
   "outputs": [
    {
     "data": {
      "text/plain": "Plot(data={supp=[OJ, OJ, OJ, VC, VC, VC], dose=[0.5, 1.0, 2.0, 0.5, 1.0, 2.0], length=[13.23, 22.7, 26.06, 7.98, 16.77, 26.14], len_min=[11.83, 21.2, 24.5, 4.24, 15.26, 23.35], len_max=[15.63, 24.9, 27.11, 10.72, 19.28, 28.93]}, mapping=jetbrains.letsPlot.intern.Options@6f012914, features=[org.jetbrains.kotlinx.ggdsl.letsplot.translator.LayerWrapper@18fdb6cf, org.jetbrains.kotlinx.ggdsl.letsplot.translator.LayerWrapper@d02f8d, org.jetbrains.kotlinx.ggdsl.letsplot.translator.LayerWrapper@60baef24])"
     },
     "execution_count": 26,
     "metadata": {},
     "output_type": "execute_result"
    }
   ],
   "source": [
    "plot(dataset) {\n",
    "    x(dose)\n",
    "\n",
    "    errorBar {\n",
    "        yMin(lenMin)\n",
    "        yMax(lenMax)\n",
    "\n",
    "        color(supp)\n",
    "\n",
    "        width(.1)\n",
    "    }\n",
    "\n",
    "    line { // TODO grouping of diffrent layers???\n",
    "        y(length)\n",
    "\n",
    "        color(supp)\n",
    "    }\n",
    "\n",
    "    points {\n",
    "        y(length)\n",
    "\n",
    "        color(supp)\n",
    "     }\n",
    "}.toLestPlot()"
   ]
  },
  {
   "cell_type": "code",
   "execution_count": 5,
   "metadata": {
    "pycharm": {
     "name": "#%%\n"
    }
   },
   "outputs": [
    {
     "data": {
      "text/plain": "Plot(data={supp=[OJ, OJ, OJ, VC, VC, VC], dose=[0.5, 1.0, 2.0, 0.5, 1.0, 2.0], length=[13.23, 22.7, 26.06, 7.98, 16.77, 26.14], len_min=[11.83, 21.2, 24.5, 4.24, 15.26, 23.35], len_max=[15.63, 24.9, 27.11, 10.72, 19.28, 28.93]}, mapping=jetbrains.letsPlot.intern.Options@1450078a, features=[org.jetbrains.kotlinx.ggdsl.letsplot.translator.LayerWrapper@c68a5f8, org.jetbrains.kotlinx.ggdsl.letsplot.translator.LayerWrapper@69c6161d, org.jetbrains.kotlinx.ggdsl.letsplot.translator.LayerWrapper@3aefae67])"
     },
     "execution_count": 5,
     "metadata": {},
     "output_type": "execute_result"
    }
   ],
   "source": [
    "val pd = Position.Dodge(0.1)\n",
    "plot(dataset) {\n",
    "    x(dose)\n",
    "\n",
    "    errorBar {\n",
    "        yMin(lenMin)\n",
    "        yMax(lenMax)\n",
    "\n",
    "        color(supp)\n",
    "\n",
    "        width(.1)\n",
    "\n",
    "        position = pd\n",
    "    }\n",
    "\n",
    "    line {\n",
    "        y(length)\n",
    "\n",
    "        color(supp)\n",
    "\n",
    "        position = pd\n",
    "    }\n",
    "\n",
    "    points {\n",
    "        y(length)\n",
    "\n",
    "        color(supp)\n",
    "\n",
    "        position = pd\n",
    "     }\n",
    "}.toLestPlot()"
   ]
  },
  {
   "cell_type": "code",
   "execution_count": 6,
   "metadata": {
    "pycharm": {
     "name": "#%%\n"
    }
   },
   "outputs": [
    {
     "data": {
      "text/plain": "Plot(data={supp=[OJ, OJ, OJ, VC, VC, VC], dose=[0.5, 1.0, 2.0, 0.5, 1.0, 2.0], length=[13.23, 22.7, 26.06, 7.98, 16.77, 26.14], len_min=[11.83, 21.2, 24.5, 4.24, 15.26, 23.35], len_max=[15.63, 24.9, 27.11, 10.72, 19.28, 28.93]}, mapping=jetbrains.letsPlot.intern.Options@796d3c9f, features=[org.jetbrains.kotlinx.ggdsl.letsplot.translator.LayerWrapper@6bff19ff, org.jetbrains.kotlinx.ggdsl.letsplot.translator.LayerWrapper@41e1455d, org.jetbrains.kotlinx.ggdsl.letsplot.translator.LayerWrapper@4e558728])"
     },
     "execution_count": 6,
     "metadata": {},
     "output_type": "execute_result"
    }
   ],
   "source": [
    "plot(dataset) {\n",
    "    x(dose)\n",
    "\n",
    "    errorBar {\n",
    "        yMin(lenMin)\n",
    "        yMax(lenMax)\n",
    "\n",
    "        color(Color.BLACK)\n",
    "\n",
    "        width(.1)\n",
    "\n",
    "        position = pd\n",
    "        // NO GROUPPING(((\n",
    "    }\n",
    "\n",
    "    line {\n",
    "        y(length)\n",
    "\n",
    "        color(supp)\n",
    "\n",
    "        position = pd\n",
    "    }\n",
    "\n",
    "    points {\n",
    "        y(length)\n",
    "\n",
    "        color(supp)\n",
    "\n",
    "        position = pd\n",
    "     }\n",
    "}.toLestPlot()"
   ]
  },
  {
   "cell_type": "code",
   "execution_count": 7,
   "metadata": {
    "pycharm": {
     "name": "#%%\n"
    }
   },
   "outputs": [],
   "source": [
    "val customColorScale = categorical<String, Color>(\n",
    "    rangeValues = listOf(Color.ORANGE, Color.fromName(\"dark_green\"))\n",
    ")"
   ]
  },
  {
   "cell_type": "code",
   "execution_count": 8,
   "metadata": {
    "pycharm": {
     "name": "#%%\n"
    }
   },
   "outputs": [
    {
     "name": "stderr",
     "output_type": "stream",
     "text": [
      "class org.jetbrains.kotlinx.ggdsl.echarts.EChartsLayout can not implement org.jetbrains.kotlinx.ggdsl.ir.Layout, because it is not an interface (org.jetbrains.kotlinx.ggdsl.ir.Layout is in unnamed module of loader java.net.URLClassLoader @727711e4)\n",
      "java.lang.IncompatibleClassChangeError: class org.jetbrains.kotlinx.ggdsl.echarts.EChartsLayout can not implement org.jetbrains.kotlinx.ggdsl.ir.Layout, because it is not an interface (org.jetbrains.kotlinx.ggdsl.ir.Layout is in unnamed module of loader java.net.URLClassLoader @727711e4)\n",
      "\tat java.base/java.lang.ClassLoader.defineClass1(Native Method)\n",
      "\tat java.base/java.lang.ClassLoader.defineClass(ClassLoader.java:1012)\n",
      "\tat java.base/java.security.SecureClassLoader.defineClass(SecureClassLoader.java:150)\n",
      "\tat java.base/java.net.URLClassLoader.defineClass(URLClassLoader.java:524)\n",
      "\tat java.base/java.net.URLClassLoader$1.run(URLClassLoader.java:427)\n",
      "\tat java.base/java.net.URLClassLoader$1.run(URLClassLoader.java:421)\n",
      "\tat java.base/java.security.AccessController.doPrivileged(AccessController.java:712)\n",
      "\tat java.base/java.net.URLClassLoader.findClass(URLClassLoader.java:420)\n",
      "\tat java.base/java.lang.ClassLoader.loadClass(ClassLoader.java:587)\n",
      "\tat java.base/java.lang.ClassLoader.loadClass(ClassLoader.java:574)\n",
      "\tat java.base/java.lang.ClassLoader.loadClass(ClassLoader.java:574)\n",
      "\tat java.base/java.lang.ClassLoader.loadClass(ClassLoader.java:574)\n",
      "\tat java.base/java.lang.ClassLoader.loadClass(ClassLoader.java:574)\n",
      "\tat java.base/java.lang.ClassLoader.loadClass(ClassLoader.java:574)\n",
      "\tat java.base/java.lang.ClassLoader.loadClass(ClassLoader.java:574)\n",
      "\tat java.base/java.lang.ClassLoader.loadClass(ClassLoader.java:574)\n",
      "\tat java.base/java.lang.ClassLoader.loadClass(ClassLoader.java:574)\n",
      "\tat java.base/java.lang.ClassLoader.loadClass(ClassLoader.java:574)\n",
      "\tat java.base/java.lang.ClassLoader.loadClass(ClassLoader.java:520)\n",
      "\tat Line_17.<init>(Line_17.jupyter-kts:91)\n",
      "\tat java.base/jdk.internal.reflect.NativeConstructorAccessorImpl.newInstance0(Native Method)\n",
      "\tat java.base/jdk.internal.reflect.NativeConstructorAccessorImpl.newInstance(NativeConstructorAccessorImpl.java:77)\n",
      "\tat java.base/jdk.internal.reflect.DelegatingConstructorAccessorImpl.newInstance(DelegatingConstructorAccessorImpl.java:45)\n",
      "\tat java.base/java.lang.reflect.Constructor.newInstanceWithCaller(Constructor.java:499)\n",
      "\tat java.base/java.lang.reflect.Constructor.newInstance(Constructor.java:480)\n",
      "\tat kotlin.script.experimental.jvm.BasicJvmScriptEvaluator.evalWithConfigAndOtherScriptsResults(BasicJvmScriptEvaluator.kt:105)\n",
      "\tat kotlin.script.experimental.jvm.BasicJvmScriptEvaluator.invoke$suspendImpl(BasicJvmScriptEvaluator.kt:47)\n",
      "\tat kotlin.script.experimental.jvm.BasicJvmScriptEvaluator.invoke(BasicJvmScriptEvaluator.kt)\n",
      "\tat kotlin.script.experimental.jvm.BasicJvmReplEvaluator.eval(BasicJvmReplEvaluator.kt:49)\n",
      "\tat org.jetbrains.kotlinx.jupyter.repl.impl.InternalEvaluatorImpl$eval$resultWithDiagnostics$1.invokeSuspend(InternalEvaluatorImpl.kt:103)\n",
      "\tat kotlin.coroutines.jvm.internal.BaseContinuationImpl.resumeWith(ContinuationImpl.kt:33)\n",
      "\tat kotlinx.coroutines.DispatchedTask.run(DispatchedTask.kt:106)\n",
      "\tat kotlinx.coroutines.EventLoopImplBase.processNextEvent(EventLoop.common.kt:284)\n",
      "\tat kotlinx.coroutines.BlockingCoroutine.joinBlocking(Builders.kt:85)\n",
      "\tat kotlinx.coroutines.BuildersKt__BuildersKt.runBlocking(Builders.kt:59)\n",
      "\tat kotlinx.coroutines.BuildersKt.runBlocking(Unknown Source)\n",
      "\tat kotlinx.coroutines.BuildersKt__BuildersKt.runBlocking$default(Builders.kt:38)\n",
      "\tat kotlinx.coroutines.BuildersKt.runBlocking$default(Unknown Source)\n",
      "\tat org.jetbrains.kotlinx.jupyter.repl.impl.InternalEvaluatorImpl.eval(InternalEvaluatorImpl.kt:103)\n",
      "\tat org.jetbrains.kotlinx.jupyter.repl.impl.CellExecutorImpl$execute$1$result$1.invoke(CellExecutorImpl.kt:71)\n",
      "\tat org.jetbrains.kotlinx.jupyter.repl.impl.CellExecutorImpl$execute$1$result$1.invoke(CellExecutorImpl.kt:69)\n",
      "\tat org.jetbrains.kotlinx.jupyter.ReplForJupyterImpl.withHost(repl.kt:635)\n",
      "\tat org.jetbrains.kotlinx.jupyter.repl.impl.CellExecutorImpl.execute(CellExecutorImpl.kt:69)\n",
      "\tat org.jetbrains.kotlinx.jupyter.repl.CellExecutor$DefaultImpls.execute$default(CellExecutor.kt:15)\n",
      "\tat org.jetbrains.kotlinx.jupyter.ReplForJupyterImpl$evalEx$1.invoke(repl.kt:444)\n",
      "\tat org.jetbrains.kotlinx.jupyter.ReplForJupyterImpl$evalEx$1.invoke(repl.kt:433)\n",
      "\tat org.jetbrains.kotlinx.jupyter.ReplForJupyterImpl.withEvalContext(repl.kt:397)\n",
      "\tat org.jetbrains.kotlinx.jupyter.ReplForJupyterImpl.evalEx(repl.kt:433)\n",
      "\tat org.jetbrains.kotlinx.jupyter.ReplForJupyterImpl.eval(repl.kt:485)\n",
      "\tat org.jetbrains.kotlinx.jupyter.messaging.ProtocolKt$shellMessagesHandler$2$res$1.invoke(protocol.kt:321)\n",
      "\tat org.jetbrains.kotlinx.jupyter.messaging.ProtocolKt$shellMessagesHandler$2$res$1.invoke(protocol.kt:320)\n",
      "\tat org.jetbrains.kotlinx.jupyter.JupyterExecutorImpl$runExecution$execThread$1.invoke(execution.kt:33)\n",
      "\tat org.jetbrains.kotlinx.jupyter.JupyterExecutorImpl$runExecution$execThread$1.invoke(execution.kt:31)\n",
      "\tat kotlin.concurrent.ThreadsKt$thread$thread$1.run(Thread.kt:30)\n"
     ]
    }
   ],
   "source": [
    "plot(dataset) {\n",
    "    x(dose)\n",
    "\n",
    "    errorBar {\n",
    "        yMin(lenMin)\n",
    "        yMax(lenMax)\n",
    "\n",
    "        color(Color.BLACK)\n",
    "\n",
    "        width(.1)\n",
    "\n",
    "        position = pd\n",
    "    }\n",
    "\n",
    "    line {\n",
    "        y(length)\n",
    "\n",
    "        color(supp.scaled(customColorScale))\n",
    "\n",
    "        position = pd\n",
    "    }\n",
    "\n",
    "    points {\n",
    "        y(length)\n",
    "\n",
    "        size(5.0)\n",
    "        color(Color.WHITE)\n",
    "\n",
    "        position = pd\n",
    "     }\n",
    "\n",
    "     layout {\n",
    "         title = \"The Effect of Vitamin C on Tooth Growth in Guinea Pigs\" \n",
    "         size = 700 to 400\n",
    "     }\n",
    "}.toLestPlot()"
   ]
  },
  {
   "cell_type": "code",
   "execution_count": 9,
   "metadata": {
    "pycharm": {
     "name": "#%%\n"
    }
   },
   "outputs": [
    {
     "data": {
      "text/plain": "Plot(data={supp=[OJ, OJ, OJ, VC, VC, VC], dose=[0.5, 1.0, 2.0, 0.5, 1.0, 2.0], length=[13.23, 22.7, 26.06, 7.98, 16.77, 26.14], len_min=[11.83, 21.2, 24.5, 4.24, 15.26, 23.35], len_max=[15.63, 24.9, 27.11, 10.72, 19.28, 28.93]}, mapping=jetbrains.letsPlot.intern.Options@585ac855, features=[org.jetbrains.kotlinx.ggdsl.letsplot.translator.LayerWrapper@5bb8f9e2, org.jetbrains.kotlinx.ggdsl.letsplot.translator.LayerWrapper@6a933be2, jetbrains.letsPlot.intern.Scale@5f78de22])"
     },
     "execution_count": 9,
     "metadata": {},
     "output_type": "execute_result"
    }
   ],
   "source": [
    "plot(dataset) {\n",
    "    x(dose)\n",
    "\n",
    "    errorBar {\n",
    "        yMin(lenMin)\n",
    "        yMax(lenMax)\n",
    "\n",
    "        color(Color.BLACK)\n",
    "\n",
    "        width(.1)\n",
    "\n",
    "        position = pd\n",
    "    }\n",
    "\n",
    "    bars {\n",
    "        y(length)\n",
    "\n",
    "        color(supp.scaled(customColorScale))\n",
    "\n",
    "        borderColor(Color.BLACK)\n",
    "\n",
    "        position = Position.Dodge()\n",
    "     }\n",
    "}.toLestPlot()"
   ]
  },
  {
   "cell_type": "code",
   "execution_count": 10,
   "metadata": {
    "pycharm": {
     "name": "#%%\n"
    }
   },
   "outputs": [
    {
     "data": {
      "text/plain": "Plot(data={supp=[OJ, OJ, OJ, VC, VC, VC], dose=[0.5, 1.0, 2.0, 0.5, 1.0, 2.0], length=[13.23, 22.7, 26.06, 7.98, 16.77, 26.14], len_min=[11.83, 21.2, 24.5, 4.24, 15.26, 23.35], len_max=[15.63, 24.9, 27.11, 10.72, 19.28, 28.93]}, mapping=jetbrains.letsPlot.intern.Options@4d8539de, features=[org.jetbrains.kotlinx.ggdsl.letsplot.translator.LayerWrapper@3eba57a7, jetbrains.letsPlot.intern.Scale@272a179c, jetbrains.letsPlot.intern.OptionsMap@30feffc])"
     },
     "execution_count": 10,
     "metadata": {},
     "output_type": "execute_result"
    }
   ],
   "source": [
    "plot(dataset) {\n",
    "    x(dose)\n",
    "\n",
    "    crossBar {\n",
    "        yMin(lenMin)\n",
    "        yMax(lenMax)\n",
    "        middle(length)\n",
    "\n",
    "        fatten(5.0)\n",
    "\n",
    "        color(supp.scaled(customColorScale)) // todo mappable borderColor???\n",
    "        position = Position.Dodge()\n",
    "     }\n",
    "\n",
    "     layout.size = 700 to 400\n",
    "}.toLestPlot()"
   ]
  },
  {
   "cell_type": "code",
   "execution_count": 11,
   "metadata": {
    "pycharm": {
     "name": "#%%\n"
    }
   },
   "outputs": [
    {
     "data": {
      "text/plain": "Plot(data={supp=[OJ, OJ, OJ, VC, VC, VC], dose=[0.5, 1.0, 2.0, 0.5, 1.0, 2.0], length=[13.23, 22.7, 26.06, 7.98, 16.77, 26.14], len_min=[11.83, 21.2, 24.5, 4.24, 15.26, 23.35], len_max=[15.63, 24.9, 27.11, 10.72, 19.28, 28.93]}, mapping=jetbrains.letsPlot.intern.Options@bcb09a6, features=[org.jetbrains.kotlinx.ggdsl.letsplot.translator.LayerWrapper@7c2a69b4, jetbrains.letsPlot.intern.Scale@a619c2, org.jetbrains.kotlinx.ggdsl.letsplot.translator.LayerWrapper@648ee871, jetbrains.letsPlot.intern.Scale@375b5b7f])"
     },
     "execution_count": 11,
     "metadata": {},
     "output_type": "execute_result"
    }
   ],
   "source": [
    "plot(dataset) {\n",
    "    x(dose)\n",
    "\n",
    "    lineRange {\n",
    "        yMin(lenMin)\n",
    "        yMax(lenMax)\n",
    "\n",
    "        color(supp.scaled(customColorScale))\n",
    "        position = pd\n",
    "    }\n",
    "\n",
    "    line {\n",
    "        y(length)\n",
    "        color(supp.scaled(customColorScale))\n",
    "\n",
    "        position = pd\n",
    "    }\n",
    "}.toLestPlot()"
   ]
  },
  {
   "cell_type": "code",
   "execution_count": 12,
   "metadata": {
    "pycharm": {
     "name": "#%%\n"
    }
   },
   "outputs": [
    {
     "data": {
      "text/plain": "Plot(data={supp=[OJ, OJ, OJ, VC, VC, VC], dose=[0.5, 1.0, 2.0, 0.5, 1.0, 2.0], length=[13.23, 22.7, 26.06, 7.98, 16.77, 26.14], len_min=[11.83, 21.2, 24.5, 4.24, 15.26, 23.35], len_max=[15.63, 24.9, 27.11, 10.72, 19.28, 28.93]}, mapping=jetbrains.letsPlot.intern.Options@28cb9120, features=[org.jetbrains.kotlinx.ggdsl.letsplot.translator.LayerWrapper@3b152928, jetbrains.letsPlot.intern.Scale@56781d96, org.jetbrains.kotlinx.ggdsl.letsplot.translator.LayerWrapper@5173200b, jetbrains.letsPlot.intern.Scale@25c5e994])"
     },
     "execution_count": 12,
     "metadata": {},
     "output_type": "execute_result"
    }
   ],
   "source": [
    "plot(dataset) {\n",
    "    x(dose)\n",
    "\n",
    "    pointRange {\n",
    "        y(length)\n",
    "        yMin(lenMin)\n",
    "        yMax(lenMax)\n",
    "\n",
    "        lineColor(supp.scaled(customColorScale)) //TODO subgeom context\n",
    "        position = pd\n",
    "    }\n",
    "\n",
    "    line {\n",
    "        y(length)\n",
    "        color(supp.scaled(customColorScale))\n",
    "\n",
    "        position = pd\n",
    "    }\n",
    "}.toLestPlot()"
   ]
  },
  {
   "cell_type": "code",
   "execution_count": 13,
   "metadata": {
    "pycharm": {
     "name": "#%%\n"
    }
   },
   "outputs": [
    {
     "data": {
      "text/plain": "Plot(data={supp=[OJ, OJ, OJ, VC, VC, VC], dose=[0.5, 1.0, 2.0, 0.5, 1.0, 2.0], length=[13.23, 22.7, 26.06, 7.98, 16.77, 26.14], len_min=[11.83, 21.2, 24.5, 4.24, 15.26, 23.35], len_max=[15.63, 24.9, 27.11, 10.72, 19.28, 28.93]}, mapping=jetbrains.letsPlot.intern.Options@2189e7a7, features=[org.jetbrains.kotlinx.ggdsl.letsplot.translator.LayerWrapper@69b2f8e5, jetbrains.letsPlot.intern.Scale@6331250e, org.jetbrains.kotlinx.ggdsl.letsplot.translator.LayerWrapper@a10c1b5, jetbrains.letsPlot.intern.Scale@644abb8f])"
     },
     "execution_count": 13,
     "metadata": {},
     "output_type": "execute_result"
    }
   ],
   "source": [
    "plot(dataset) {\n",
    "    x(dose)\n",
    "\n",
    "    line {\n",
    "        y(length)\n",
    "        color(supp.scaled(customColorScale))\n",
    "\n",
    "        position = pd\n",
    "    }\n",
    "\n",
    "    pointRange {\n",
    "        y(length)\n",
    "        yMin(lenMin)\n",
    "        yMax(lenMax)\n",
    "\n",
    "        size(5.0)\n",
    "        fatten(1.0)\n",
    "        lineColor(Color.fromRGB(230, 230, 230))\n",
    "        pointColor(supp.scaled(customColorScale))\n",
    "\n",
    "        //TODO subgeom context\n",
    "        symbol(LetsPlotSymbol.DIAMOND)\n",
    "        position = pd\n",
    "    }\n",
    "\n",
    "}.toLestPlot()"
   ]
  },
  {
   "cell_type": "markdown",
   "metadata": {
    "pycharm": {
     "name": "#%% md\n"
    }
   },
   "source": [
    "https://nbviewer.org/github/JetBrains/lets-plot-kotlin/blob/master/docs/examples/jupyter-notebooks/facets.ipynb"
   ]
  },
  {
   "cell_type": "code",
   "execution_count": 14,
   "metadata": {
    "pycharm": {
     "name": "#%%\n"
    }
   },
   "outputs": [
    {
     "data": {
      "text/html": "            <div id=\"kotlin_out_1\"/>\n            <script type=\"text/javascript\">\n                            if(!window.kotlinQueues) {\n                window.kotlinQueues = {};\n            }\n            if(!window.kotlinQueues[\"DataFrame\"]) {\n                var resQueue = [];\n                window.kotlinQueues[\"DataFrame\"] = resQueue;\n                window[\"call_DataFrame\"] = function(f) {\n                    resQueue.push(f);\n                }\n            }\n            (function (){\n                var modifiers = [(function(script) {\n    script.src = \"https://cdn.jsdelivr.net/gh/Kotlin/dataframe@d6467c1389bc031958acd5310fce39167b5cc581/src/main/resources/init.js\"\n    script.type = \"text/javascript\";\n})];\n                var e = document.getElementById(\"kotlin_out_1\");\n                modifiers.forEach(function (gen) {\n                    var script = document.createElement(\"script\");\n                    gen(script)\n                    script.addEventListener(\"load\", function() {\n                        window[\"call_DataFrame\"] = function(f) {f();};\n                        window.kotlinQueues[\"DataFrame\"].forEach(function(f) {f();});\n                        window.kotlinQueues[\"DataFrame\"] = [];\n                    }, false);\n                    script.addEventListener(\"error\", function() {\n                        window[\"call_DataFrame\"] = function(f) {};\n                        window.kotlinQueues[\"DataFrame\"] = [];\n                        var div = document.createElement(\"div\");\n                        div.style.color = 'darkred';\n                        div.textContent = 'Error loading resource DataFrame';\n                        document.getElementById(\"kotlin_out_1\").appendChild(div);\n                    }, false);\n                    \n                    e.appendChild(script);\n                });\n            })();\n            </script>"
     },
     "metadata": {},
     "output_type": "display_data"
    },
    {
     "data": {
      "text/html": "                <style>\n                :root {\n    --background: #fff;\n    --background-odd: #f5f5f5;\n    --background-hover: #d9edfd;\n    --header-text-color: #474747;\n    --text-color: #848484;\n    --text-color-dark: #000;\n    --text-color-medium: #737373;\n    --text-color-pale: #b3b3b3;\n    --inner-border-color: #aaa;\n    --bold-border-color: #000;\n    --link-color: #296eaa;\n    --link-color-pale: #296eaa;\n    --link-hover: #1a466c;\n}\n\n:root[theme=\"dark\"], :root [data-jp-theme-light=\"false\"]{\n    --background: #303030;\n    --background-odd: #3c3c3c;\n    --background-hover: #464646;\n    --header-text-color: #dddddd;\n    --text-color: #b3b3b3;\n    --text-color-dark: #dddddd;\n    --text-color-medium: #b2b2b2;\n    --text-color-pale: #737373;\n    --inner-border-color: #707070;\n    --bold-border-color: #777777;\n    --link-color: #008dc0;\n    --link-color-pale: #97e1fb;\n    --link-hover: #00688e;\n}\n\ntable.dataframe {\n    font-family: \"Helvetica Neue\", Helvetica, Arial, sans-serif;\n    font-size: 12px;\n    background-color: var(--background);\n    color: var(--text-color-dark);\n    border: none;\n    border-collapse: collapse;\n}\n\ntable.dataframe th, td {\n    padding: 6px;\n    border: 1px solid transparent;\n    text-align: left;\n}\n\ntable.dataframe th {\n    background-color: var(--background);\n    color: var(--header-text-color);\n}\n\ntable.dataframe td {\n    vertical-align: top;\n}\n\ntable.dataframe th.bottomBorder {\n    border-bottom-color: var(--bold-border-color);\n}\n\ntable.dataframe tbody > tr:nth-child(odd) {\n    background: var(--background-odd);\n}\n\ntable.dataframe tbody > tr:nth-child(even) {\n    background: var(--background);\n}\n\ntable.dataframe tbody > tr:hover {\n    background: var(--background-hover);\n}\n\ntable.dataframe a {\n    cursor: pointer;\n    color: var(--link-color);\n    text-decoration: none;\n}\n\ntable.dataframe tr:hover > td a {\n    color: var(--link-color-pale);\n}\n\ntable.dataframe a:hover {\n    color: var(--link-hover);\n    text-decoration: underline;\n}\n\ntable.dataframe img {\n    max-width: fit-content;\n}\n\ntable.dataframe th.complex {\n    background-color: var(--background);\n    border: 1px solid var(--background);\n}\n\ntable.dataframe .leftBorder {\n    border-left-color: var(--inner-border-color);\n}\n\ntable.dataframe .rightBorder {\n    border-right-color: var(--inner-border-color);\n}\n\ntable.dataframe .rightAlign {\n    text-align: right;\n}\n\ntable.dataframe .expanderSvg {\n    width: 8px;\n    height: 8px;\n    margin-right: 3px;\n}\n\ntable.dataframe .expander {\n    display: flex;\n    align-items: center;\n}\n\n/* formatting */\n\ntable.dataframe .null {\n    color: var(--text-color-pale);\n}\n\ntable.dataframe .structural {\n    color: var(--text-color-medium);\n    font-weight: bold;\n}\n\ntable.dataframe .dataFrameCaption {\n    font-weight: bold;\n}\n\ntable.dataframe .numbers {\n    color: var(--text-color-dark);\n}\n\ntable.dataframe td:hover .formatted .structural, .null {\n    color: var(--text-color-dark);\n}\n\ntable.dataframe tr:hover .formatted .structural, .null {\n    color: var(--text-color-dark);\n}\n\n\n                </style>"
     },
     "metadata": {},
     "output_type": "display_data"
    }
   ],
   "source": [
    "%use dataframe"
   ]
  },
  {
   "cell_type": "code",
   "execution_count": 15,
   "metadata": {
    "pycharm": {
     "name": "#%%\n"
    }
   },
   "outputs": [
    {
     "name": "stderr",
     "output_type": "stream",
     "text": [
      "Line_28.jupyter-kts (20:23 - 30) Cannot access class 'org.jetbrains.kotlinx.dataframe.DataFrame'. Check your module classpath for missing or conflicting dependencies\n",
      "Line_28.jupyter-kts (20:23 - 30) Cannot access class 'org.jetbrains.kotlinx.dataframe.DataFrame.Companion'. Check your module classpath for missing or conflicting dependencies\n",
      "Line_28.jupyter-kts (21:1 - 6) Cannot access class 'org.jetbrains.kotlinx.dataframe.DataFrame'. Check your module classpath for missing or conflicting dependencies\n",
      "Line_28.jupyter-kts (21:1 - 6) Cannot access class 'org.jetbrains.kotlinx.dataframe.DataFrame'. Check your module classpath for missing or conflicting dependencies\n",
      "Line_28.jupyter-kts (21:7 - 11) Cannot access class 'org.jetbrains.kotlinx.dataframe.DataFrame'. Check your module classpath for missing or conflicting dependencies"
     ]
    }
   ],
   "source": [
    "val mpgDF = DataFrame.readCSV(\"https://raw.githubusercontent.com/JetBrains/lets-plot-kotlin/master/docs/examples/data/mpg2.csv\")\n",
    "mpgDF.head(5)"
   ]
  },
  {
   "cell_type": "code",
   "execution_count": 16,
   "metadata": {
    "pycharm": {
     "name": "#%%\n"
    }
   },
   "outputs": [
    {
     "name": "stderr",
     "output_type": "stream",
     "text": [
      "Line_29.jupyter-kts (20:1 - 6) Unresolved reference: mpgDF"
     ]
    }
   ],
   "source": [
    "mpgDF.schema()"
   ]
  },
  {
   "cell_type": "code",
   "execution_count": 17,
   "metadata": {
    "pycharm": {
     "name": "#%%\n"
    }
   },
   "outputs": [
    {
     "name": "stderr",
     "output_type": "stream",
     "text": [
      "Line_30.jupyter-kts (21:12 - 17) Cannot access class 'org.jetbrains.kotlinx.dataframe.DataFrame'. Check your module classpath for missing or conflicting dependencies\n",
      "Line_30.jupyter-kts (23:18 - 23) Unresolved reference: mpgDF"
     ]
    }
   ],
   "source": [
    "fun DataFrame<*>.toNamedData(): NamedData {\n",
    "    return toMap().map { it.key to it.value.map { it!! } }.toMap()\n",
    "}\n",
    "val datasetMpg = mpgDF.toNamedData()"
   ]
  },
  {
   "cell_type": "code",
   "execution_count": 18,
   "metadata": {
    "pycharm": {
     "name": "#%%\n"
    }
   },
   "outputs": [],
   "source": [
    "val mpg = source<Double>(\"miles per gallon\")\n",
    "val ehp = source<Int>(\"engine horsepower\")\n",
    "val origin = source<String>(\"origin of car\")\n",
    "val noc = source<Int>(\"number of cylinders\")"
   ]
  },
  {
   "cell_type": "code",
   "execution_count": 19,
   "metadata": {
    "pycharm": {
     "name": "#%%\n"
    }
   },
   "outputs": [
    {
     "name": "stderr",
     "output_type": "stream",
     "text": [
      "Line_32.jupyter-kts (20:6 - 16) Unresolved reference: datasetMpg"
     ]
    }
   ],
   "source": [
    "plot(datasetMpg) {\n",
    "    x(ehp)\n",
    "    y(mpg)\n",
    "    points { color(origin) }\n",
    "}.toLestPlot()"
   ]
  },
  {
   "cell_type": "code",
   "execution_count": 20,
   "metadata": {
    "pycharm": {
     "name": "#%%\n"
    }
   },
   "outputs": [
    {
     "name": "stderr",
     "output_type": "stream",
     "text": [
      "Line_33.jupyter-kts (20:6 - 16) Unresolved reference: datasetMpg"
     ]
    }
   ],
   "source": [
    "plot(datasetMpg) {\n",
    "    x(ehp)\n",
    "    y(mpg)\n",
    "    points { color(origin) }\n",
    "\n",
    "    facetGrid { x(noc) }\n",
    "}.toLestPlot()"
   ]
  },
  {
   "cell_type": "code",
   "execution_count": 21,
   "metadata": {
    "pycharm": {
     "name": "#%%\n"
    }
   },
   "outputs": [
    {
     "name": "stderr",
     "output_type": "stream",
     "text": [
      "Line_34.jupyter-kts (20:6 - 16) Unresolved reference: datasetMpg"
     ]
    }
   ],
   "source": [
    "plot(datasetMpg) {\n",
    "    x(ehp)\n",
    "    y(mpg)\n",
    "    points { color(origin) }\n",
    "\n",
    "    facetGrid { \n",
    "        x(noc) \n",
    "        y(origin)\n",
    "    }\n",
    "}.toLestPlot()"
   ]
  },
  {
   "cell_type": "code",
   "execution_count": 22,
   "metadata": {
    "pycharm": {
     "name": "#%%\n"
    }
   },
   "outputs": [
    {
     "name": "stderr",
     "output_type": "stream",
     "text": [
      "Line_35.jupyter-kts (20:6 - 16) Unresolved reference: datasetMpg"
     ]
    }
   ],
   "source": [
    "plot(datasetMpg) {\n",
    "    x(ehp)\n",
    "    y(mpg)\n",
    "    points { color(origin) }\n",
    "\n",
    "    facetGrid { \n",
    "        x(noc) \n",
    "        y(origin)\n",
    "        yOrder=OrderDirection.DESCENDING\n",
    "    }\n",
    "}.toLestPlot()"
   ]
  },
  {
   "cell_type": "markdown",
   "metadata": {
    "pycharm": {
     "name": "#%% md\n"
    }
   },
   "source": [
    "EXAMPLE WITH MPG"
   ]
  },
  {
   "cell_type": "code",
   "execution_count": 23,
   "metadata": {
    "pycharm": {
     "name": "#%%\n"
    }
   },
   "outputs": [
    {
     "name": "stderr",
     "output_type": "stream",
     "text": [
      "Line_36.jupyter-kts (20:23 - 30) Cannot access class 'org.jetbrains.kotlinx.dataframe.DataFrame'. Check your module classpath for missing or conflicting dependencies\n",
      "Line_36.jupyter-kts (20:23 - 30) Cannot access class 'org.jetbrains.kotlinx.dataframe.DataFrame.Companion'. Check your module classpath for missing or conflicting dependencies\n",
      "Line_36.jupyter-kts (21:1 - 6) Cannot access class 'org.jetbrains.kotlinx.dataframe.DataFrame'. Check your module classpath for missing or conflicting dependencies\n",
      "Line_36.jupyter-kts (21:1 - 6) Cannot access class 'org.jetbrains.kotlinx.dataframe.DataFrame'. Check your module classpath for missing or conflicting dependencies\n",
      "Line_36.jupyter-kts (21:7 - 11) Cannot access class 'org.jetbrains.kotlinx.dataframe.DataFrame'. Check your module classpath for missing or conflicting dependencies"
     ]
    }
   ],
   "source": [
    "val mpgDF = DataFrame.readCSV(\"https://raw.githubusercontent.com/JetBrains/lets-plot-kotlin/master/docs/examples/data/mpg2.csv\")\n",
    "mpgDF.head(5)"
   ]
  },
  {
   "cell_type": "code",
   "execution_count": 24,
   "metadata": {
    "pycharm": {
     "name": "#%%\n"
    }
   },
   "outputs": [
    {
     "name": "stderr",
     "output_type": "stream",
     "text": [
      "Line_37.jupyter-kts (21:12 - 17) Cannot access class 'org.jetbrains.kotlinx.dataframe.DataFrame'. Check your module classpath for missing or conflicting dependencies\n",
      "Line_37.jupyter-kts (23:15 - 20) Unresolved reference: mpgDF"
     ]
    }
   ],
   "source": [
    "fun DataFrame<*>.toNamedData(): NamedData {\n",
    "    return toMap().map { it.key to it.value.map { it!! } }.toMap()\n",
    "}\n",
    "val smallDf = mpgDF.shuffle().head(100)\n",
    "val datasetMpg = smallDf.toNamedData()\n",
    "\n",
    "val mpg = source<Double>(\"miles per gallon\")\n",
    "val ehp = source<Int>(\"engine horsepower\")\n",
    "val origin = source<String>(\"origin of car\")\n",
    "val noc = source<Int>(\"number of cylinders\")"
   ]
  },
  {
   "cell_type": "code",
   "execution_count": 25,
   "metadata": {
    "pycharm": {
     "name": "#%%\n"
    }
   },
   "outputs": [
    {
     "name": "stderr",
     "output_type": "stream",
     "text": [
      "Line_38.jupyter-kts (20:6 - 16) Unresolved reference: datasetMpg"
     ]
    }
   ],
   "source": [
    "plot(datasetMpg) { \n",
    "    x(mpg.scaled(\n",
    "        continuousPos(limits = 10.0 to 40.0)\n",
    "    ))\n",
    "    y(ehp)\n",
    "    points { \n",
    "       \n",
    "        symbol(LetsPlotSymbol.DIAMOND)\n",
    "        color(origin.scaled())\n",
    "        borderColor(Color.fromRGB(0, 0, 0))\n",
    "         \n",
    "        size(noc.scaled(\n",
    "            categorical(\n",
    "                domainCategories = listOf(3,4,5,6,7,8),\n",
    "                rangeValues = listOf(3.0, 4.0, 5.0, 6.0, 7.0, 8.0)\n",
    "            )\n",
    "        ))\n",
    "    }\n",
    "   \n",
    "    layout.size = 1000 to 600\n",
    "    layout {\n",
    "        title = \"Fuel consumption\"\n",
    "    }\n",
    "}.toLestPlot()"
   ]
  }
 ],
 "metadata": {
  "datalore": {
   "base_environment": "default",
   "computation_mode": "JUPYTER",
   "package_manager": "pip",
   "packages": [],
   "version": 1
  },
  "kernelspec": {
   "display_name": "Kotlin",
   "language": "kotlin",
   "name": "kotlin"
  },
  "language_info": {
   "codemirror_mode": "text/x-kotlin",
   "file_extension": ".kt",
   "mimetype": "text/x-kotlin",
   "name": "kotlin",
   "nbconvert_exporter": "",
   "pygments_lexer": "kotlin",
   "version": "1.7.20-dev-1299"
  }
 },
 "nbformat": 4,
 "nbformat_minor": 4
}