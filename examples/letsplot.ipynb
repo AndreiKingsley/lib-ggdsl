{
 "cells": [
  {
   "cell_type": "markdown",
   "metadata": {
    "datalore": {
     "hide_input_from_viewers": false,
     "hide_output_from_viewers": false,
     "type": "MD"
    },
    "pycharm": {
     "name": "#%% md\n"
    }
   },
   "source": [
    "[Replica of the example from lets-plot(click)](https://nbviewer.org/github/JetBrains/lets-plot-kotlin/blob/master/docs/examples/jupyter-notebooks/error_bars.ipynb)"
   ]
  },
  {
   "cell_type": "code",
   "execution_count": 1,
   "metadata": {
    "pycharm": {
     "name": "#%%\n"
    }
   },
   "outputs": [
    {
     "data": {
      "text/html": []
     },
     "metadata": {},
     "output_type": "display_data"
    }
   ],
   "source": [
    "%useLatestDescriptors\n",
    "%use ggdsl-lets-plot(0.1.4-dev-5)"
   ]
  },
  {
   "cell_type": "code",
   "execution_count": 2,
   "metadata": {
    "pycharm": {
     "name": "#%%\n"
    }
   },
   "outputs": [],
   "source": [
    "val dataset: NamedData = mapOf(\n",
    "    \"supp\" to listOf(\"OJ\", \"OJ\", \"OJ\", \"VC\", \"VC\", \"VC\"),\n",
    "    \"dose\" to listOf(0.5, 1.0, 2.0, 0.5, 1.0, 2.0),\n",
    "    \"length\" to listOf(13.23, 22.70, 26.06, 7.98, 16.77, 26.14),\n",
    "    \"len_min\" to listOf(11.83, 21.2, 24.50, 4.24, 15.26, 23.35),\n",
    "    \"len_max\" to listOf(15.63, 24.9, 27.11, 10.72, 19.28, 28.93)\n",
    ")"
   ]
  },
  {
   "cell_type": "code",
   "execution_count": 3,
   "metadata": {
    "pycharm": {
     "name": "#%%\n"
    }
   },
   "outputs": [],
   "source": [
    "val supp = source<String>(\"supp\")\n",
    "val dose = source<Double>(\"dose\")\n",
    "val length = source<Double>(\"length\")\n",
    "val lenMin = source<Double>(\"len_min\")\n",
    "val lenMax = source<Double>(\"len_max\")"
   ]
  },
  {
   "cell_type": "code",
   "execution_count": 4,
   "metadata": {
    "pycharm": {
     "name": "#%%\n"
    }
   },
   "outputs": [
    {
     "data": {
      "text/html": [
       "            <script type=\"text/javascript\" data-lets-plot-script=\"library\" src=\"https://cdn.jsdelivr.net/gh/JetBrains/lets-plot@v2.4.0/js-package/distr/lets-plot.min.js\"></script>    \n",
       "               <div id=\"ClSLCF\"></div>\n",
       "   <script type=\"text/javascript\" data-lets-plot-script=\"plot\">\n",
       "       var plotSpec={\n",
       "\"mapping\":{\n",
       "},\n",
       "\"data\":{\n",
       "},\n",
       "\"kind\":\"plot\",\n",
       "\"scales\":[{\n",
       "\"aesthetic\":\"x\"\n",
       "},{\n",
       "\"aesthetic\":\"x\"\n",
       "},{\n",
       "\"aesthetic\":\"y\"\n",
       "},{\n",
       "\"aesthetic\":\"x\"\n",
       "},{\n",
       "\"aesthetic\":\"y\"\n",
       "}],\n",
       "\"layers\":[{\n",
       "\"mapping\":{\n",
       "\"x\":\"dose\",\n",
       "\"ymin\":\"len_min\",\n",
       "\"ymax\":\"len_max\",\n",
       "\"color\":\"supp\"\n",
       "},\n",
       "\"stat\":\"identity\",\n",
       "\"data\":{\n",
       "\"dose\":[0.5,1.0,2.0,0.5,1.0,2.0],\n",
       "\"supp\":[\"OJ\",\"OJ\",\"OJ\",\"VC\",\"VC\",\"VC\"],\n",
       "\"len_min\":[11.83,21.2,24.5,4.24,15.26,23.35],\n",
       "\"len_max\":[15.63,24.9,27.11,10.72,19.28,28.93]\n",
       "},\n",
       "\"width\":0.1,\n",
       "\"position\":\"identity\",\n",
       "\"geom\":\"errorbar\"\n",
       "},{\n",
       "\"mapping\":{\n",
       "\"x\":\"dose\",\n",
       "\"y\":\"length\",\n",
       "\"color\":\"supp\"\n",
       "},\n",
       "\"stat\":\"identity\",\n",
       "\"data\":{\n",
       "\"dose\":[0.5,1.0,2.0,0.5,1.0,2.0],\n",
       "\"supp\":[\"OJ\",\"OJ\",\"OJ\",\"VC\",\"VC\",\"VC\"],\n",
       "\"length\":[13.23,22.7,26.06,7.98,16.77,26.14]\n",
       "},\n",
       "\"position\":\"identity\",\n",
       "\"geom\":\"line\"\n",
       "},{\n",
       "\"mapping\":{\n",
       "\"x\":\"dose\",\n",
       "\"y\":\"length\",\n",
       "\"color\":\"supp\"\n",
       "},\n",
       "\"stat\":\"identity\",\n",
       "\"data\":{\n",
       "\"dose\":[0.5,1.0,2.0,0.5,1.0,2.0],\n",
       "\"supp\":[\"OJ\",\"OJ\",\"OJ\",\"VC\",\"VC\",\"VC\"],\n",
       "\"length\":[13.23,22.7,26.06,7.98,16.77,26.14]\n",
       "},\n",
       "\"position\":\"identity\",\n",
       "\"geom\":\"point\"\n",
       "}]\n",
       "};\n",
       "       var plotContainer = document.getElementById(\"ClSLCF\");\n",
       "       LetsPlot.buildPlotFromProcessedSpecs(plotSpec, -1, -1, plotContainer);\n",
       "   </script>    "
      ]
     },
     "execution_count": 4,
     "metadata": {},
     "output_type": "execute_result"
    }
   ],
   "source": [
    "plot(dataset) {\n",
    "    x(dose)\n",
    "\n",
    "    errorBar {\n",
    "        yMin(lenMin)\n",
    "        yMax(lenMax)\n",
    "\n",
    "        // todo just line?\n",
    "        borderLine.color(supp)\n",
    "\n",
    "        width(.1)\n",
    "    }\n",
    "\n",
    "    line {\n",
    "        y(length)\n",
    "\n",
    "        color(supp)\n",
    "    }\n",
    "\n",
    "    points {\n",
    "        y(length)\n",
    "\n",
    "        color(supp)\n",
    "     }\n",
    "}"
   ]
  },
  {
   "cell_type": "code",
   "execution_count": 5,
   "metadata": {
    "pycharm": {
     "name": "#%%\n"
    }
   },
   "outputs": [
    {
     "data": {
      "text/html": [
       "            <script type=\"text/javascript\" data-lets-plot-script=\"library\" src=\"https://cdn.jsdelivr.net/gh/JetBrains/lets-plot@v2.4.0/js-package/distr/lets-plot.min.js\"></script>    \n",
       "               <div id=\"98skED\"></div>\n",
       "   <script type=\"text/javascript\" data-lets-plot-script=\"plot\">\n",
       "       var plotSpec={\n",
       "\"mapping\":{\n",
       "},\n",
       "\"data\":{\n",
       "},\n",
       "\"kind\":\"plot\",\n",
       "\"scales\":[{\n",
       "\"aesthetic\":\"x\"\n",
       "},{\n",
       "\"aesthetic\":\"x\"\n",
       "},{\n",
       "\"aesthetic\":\"y\"\n",
       "},{\n",
       "\"aesthetic\":\"x\"\n",
       "},{\n",
       "\"aesthetic\":\"y\"\n",
       "}],\n",
       "\"layers\":[{\n",
       "\"mapping\":{\n",
       "\"x\":\"dose\",\n",
       "\"ymin\":\"len_min\",\n",
       "\"ymax\":\"len_max\",\n",
       "\"color\":\"supp\"\n",
       "},\n",
       "\"stat\":\"identity\",\n",
       "\"data\":{\n",
       "\"dose\":[0.5,1.0,2.0,0.5,1.0,2.0],\n",
       "\"supp\":[\"OJ\",\"OJ\",\"OJ\",\"VC\",\"VC\",\"VC\"],\n",
       "\"len_min\":[11.83,21.2,24.5,4.24,15.26,23.35],\n",
       "\"len_max\":[15.63,24.9,27.11,10.72,19.28,28.93]\n",
       "},\n",
       "\"width\":0.1,\n",
       "\"position\":{\n",
       "\"name\":\"dodge\",\n",
       "\"width\":0.1,\n",
       "\"kind\":\"pos\"\n",
       "},\n",
       "\"geom\":\"errorbar\"\n",
       "},{\n",
       "\"mapping\":{\n",
       "\"x\":\"dose\",\n",
       "\"y\":\"length\",\n",
       "\"color\":\"supp\"\n",
       "},\n",
       "\"stat\":\"identity\",\n",
       "\"data\":{\n",
       "\"dose\":[0.5,1.0,2.0,0.5,1.0,2.0],\n",
       "\"supp\":[\"OJ\",\"OJ\",\"OJ\",\"VC\",\"VC\",\"VC\"],\n",
       "\"length\":[13.23,22.7,26.06,7.98,16.77,26.14]\n",
       "},\n",
       "\"position\":{\n",
       "\"name\":\"dodge\",\n",
       "\"width\":0.1,\n",
       "\"kind\":\"pos\"\n",
       "},\n",
       "\"geom\":\"line\"\n",
       "},{\n",
       "\"mapping\":{\n",
       "\"x\":\"dose\",\n",
       "\"y\":\"length\",\n",
       "\"color\":\"supp\"\n",
       "},\n",
       "\"stat\":\"identity\",\n",
       "\"data\":{\n",
       "\"dose\":[0.5,1.0,2.0,0.5,1.0,2.0],\n",
       "\"supp\":[\"OJ\",\"OJ\",\"OJ\",\"VC\",\"VC\",\"VC\"],\n",
       "\"length\":[13.23,22.7,26.06,7.98,16.77,26.14]\n",
       "},\n",
       "\"position\":{\n",
       "\"name\":\"dodge\",\n",
       "\"width\":0.1,\n",
       "\"kind\":\"pos\"\n",
       "},\n",
       "\"geom\":\"point\"\n",
       "}]\n",
       "};\n",
       "       var plotContainer = document.getElementById(\"98skED\");\n",
       "       LetsPlot.buildPlotFromProcessedSpecs(plotSpec, -1, -1, plotContainer);\n",
       "   </script>    "
      ]
     },
     "execution_count": 5,
     "metadata": {},
     "output_type": "execute_result"
    }
   ],
   "source": [
    "val pd = Position.Dodge(0.1)\n",
    "plot(dataset) {\n",
    "    x(dose)\n",
    "\n",
    "    errorBar {\n",
    "        yMin(lenMin)\n",
    "        yMax(lenMax)\n",
    "\n",
    "        borderLine.color(supp)\n",
    "\n",
    "        width(.1)\n",
    "\n",
    "        position = pd\n",
    "    }\n",
    "\n",
    "    line {\n",
    "        y(length)\n",
    "\n",
    "        color(supp)\n",
    "\n",
    "        position = pd\n",
    "    }\n",
    "\n",
    "    points {\n",
    "        y(length)\n",
    "\n",
    "        color(supp)\n",
    "\n",
    "        position = pd\n",
    "     }\n",
    "}"
   ]
  },
  {
   "cell_type": "code",
   "execution_count": 6,
   "metadata": {
    "pycharm": {
     "name": "#%%\n"
    }
   },
   "outputs": [
    {
     "data": {
      "text/html": [
       "            <script type=\"text/javascript\" data-lets-plot-script=\"library\" src=\"https://cdn.jsdelivr.net/gh/JetBrains/lets-plot@v2.4.0/js-package/distr/lets-plot.min.js\"></script>    \n",
       "               <div id=\"N2gYhe\"></div>\n",
       "   <script type=\"text/javascript\" data-lets-plot-script=\"plot\">\n",
       "       var plotSpec={\n",
       "\"mapping\":{\n",
       "},\n",
       "\"data\":{\n",
       "},\n",
       "\"kind\":\"plot\",\n",
       "\"scales\":[{\n",
       "\"aesthetic\":\"x\"\n",
       "},{\n",
       "\"aesthetic\":\"x\"\n",
       "},{\n",
       "\"aesthetic\":\"y\"\n",
       "},{\n",
       "\"aesthetic\":\"x\"\n",
       "},{\n",
       "\"aesthetic\":\"y\"\n",
       "}],\n",
       "\"layers\":[{\n",
       "\"mapping\":{\n",
       "\"x\":\"dose\",\n",
       "\"ymin\":\"len_min\",\n",
       "\"ymax\":\"len_max\",\n",
       "\"group\":\"supp\"\n",
       "},\n",
       "\"stat\":\"identity\",\n",
       "\"data\":{\n",
       "\"dose\":[0.5,1.0,2.0,0.5,1.0,2.0],\n",
       "\"supp\":[\"OJ\",\"OJ\",\"OJ\",\"VC\",\"VC\",\"VC\"],\n",
       "\"len_min\":[11.83,21.2,24.5,4.24,15.26,23.35],\n",
       "\"len_max\":[15.63,24.9,27.11,10.72,19.28,28.93]\n",
       "},\n",
       "\"color\":\"black\",\n",
       "\"width\":0.1,\n",
       "\"position\":{\n",
       "\"name\":\"dodge\",\n",
       "\"width\":0.1,\n",
       "\"kind\":\"pos\"\n",
       "},\n",
       "\"geom\":\"errorbar\"\n",
       "},{\n",
       "\"mapping\":{\n",
       "\"x\":\"dose\",\n",
       "\"y\":\"length\",\n",
       "\"color\":\"supp\"\n",
       "},\n",
       "\"stat\":\"identity\",\n",
       "\"data\":{\n",
       "\"dose\":[0.5,1.0,2.0,0.5,1.0,2.0],\n",
       "\"supp\":[\"OJ\",\"OJ\",\"OJ\",\"VC\",\"VC\",\"VC\"],\n",
       "\"length\":[13.23,22.7,26.06,7.98,16.77,26.14]\n",
       "},\n",
       "\"position\":{\n",
       "\"name\":\"dodge\",\n",
       "\"width\":0.1,\n",
       "\"kind\":\"pos\"\n",
       "},\n",
       "\"geom\":\"line\"\n",
       "},{\n",
       "\"mapping\":{\n",
       "\"x\":\"dose\",\n",
       "\"y\":\"length\",\n",
       "\"color\":\"supp\"\n",
       "},\n",
       "\"stat\":\"identity\",\n",
       "\"data\":{\n",
       "\"dose\":[0.5,1.0,2.0,0.5,1.0,2.0],\n",
       "\"supp\":[\"OJ\",\"OJ\",\"OJ\",\"VC\",\"VC\",\"VC\"],\n",
       "\"length\":[13.23,22.7,26.06,7.98,16.77,26.14]\n",
       "},\n",
       "\"size\":5.0,\n",
       "\"position\":{\n",
       "\"name\":\"dodge\",\n",
       "\"width\":0.1,\n",
       "\"kind\":\"pos\"\n",
       "},\n",
       "\"geom\":\"point\"\n",
       "}]\n",
       "};\n",
       "       var plotContainer = document.getElementById(\"N2gYhe\");\n",
       "       LetsPlot.buildPlotFromProcessedSpecs(plotSpec, -1, -1, plotContainer);\n",
       "   </script>    "
      ]
     },
     "execution_count": 6,
     "metadata": {},
     "output_type": "execute_result"
    }
   ],
   "source": [
    "plot(dataset) {\n",
    "    x(dose)\n",
    "\n",
    "    errorBar {\n",
    "        yMin(lenMin)\n",
    "        yMax(lenMax)\n",
    "\n",
    "        borderLine.color(Color.BLACK)\n",
    "\n",
    "        width(.1)\n",
    "\n",
    "        position = pd\n",
    "        group(supp)\n",
    "    }\n",
    "\n",
    "    line {\n",
    "        y(length)\n",
    "\n",
    "        color(supp)\n",
    "\n",
    "        position = pd\n",
    "    }\n",
    "\n",
    "    points {\n",
    "        y(length)\n",
    "\n",
    "        color(supp)\n",
    "        size(5.0)\n",
    "\n",
    "        position = pd\n",
    "     }\n",
    "}"
   ]
  },
  {
   "cell_type": "code",
   "execution_count": 7,
   "metadata": {
    "pycharm": {
     "name": "#%%\n"
    }
   },
   "outputs": [],
   "source": [
    "val customColorScale = categorical<String, Color>(\n",
    "    rangeValues = listOf(Color.ORANGE, Color.fromName(\"dark_green\"))\n",
    ")"
   ]
  },
  {
   "cell_type": "code",
   "execution_count": 8,
   "metadata": {
    "pycharm": {
     "name": "#%%\n"
    }
   },
   "outputs": [
    {
     "data": {
      "text/html": [
       "            <script type=\"text/javascript\" data-lets-plot-script=\"library\" src=\"https://cdn.jsdelivr.net/gh/JetBrains/lets-plot@v2.4.0/js-package/distr/lets-plot.min.js\"></script>    \n",
       "               <div id=\"fcOB09\"></div>\n",
       "   <script type=\"text/javascript\" data-lets-plot-script=\"plot\">\n",
       "       var plotSpec={\n",
       "\"ggtitle\":{\n",
       "\"text\":\"The Effect of Vitamin C on Tooth Growth in Guinea Pigs\"\n",
       "},\n",
       "\"mapping\":{\n",
       "},\n",
       "\"data\":{\n",
       "},\n",
       "\"ggsize\":{\n",
       "\"width\":700.0,\n",
       "\"height\":400.0\n",
       "},\n",
       "\"kind\":\"plot\",\n",
       "\"scales\":[{\n",
       "\"aesthetic\":\"x\"\n",
       "},{\n",
       "\"aesthetic\":\"x\"\n",
       "},{\n",
       "\"aesthetic\":\"y\"\n",
       "},{\n",
       "\"aesthetic\":\"color\",\n",
       "\"values\":[\"orange\",\"dark_green\"]\n",
       "},{\n",
       "\"aesthetic\":\"x\"\n",
       "},{\n",
       "\"aesthetic\":\"y\"\n",
       "},{\n",
       "\"aesthetic\":\"color\",\n",
       "\"values\":[\"orange\",\"dark_green\"]\n",
       "},{\n",
       "\"aesthetic\":\"x\",\n",
       "\"name\":\"Dose (mg)\"\n",
       "},{\n",
       "\"aesthetic\":\"y\",\n",
       "\"name\":\"Tooth length (mm)\"\n",
       "}],\n",
       "\"layers\":[{\n",
       "\"mapping\":{\n",
       "\"x\":\"dose\",\n",
       "\"ymin\":\"len_min\",\n",
       "\"ymax\":\"len_max\",\n",
       "\"group\":\"supp\"\n",
       "},\n",
       "\"stat\":\"identity\",\n",
       "\"data\":{\n",
       "\"dose\":[0.5,1.0,2.0,0.5,1.0,2.0],\n",
       "\"supp\":[\"OJ\",\"OJ\",\"OJ\",\"VC\",\"VC\",\"VC\"],\n",
       "\"len_min\":[11.83,21.2,24.5,4.24,15.26,23.35],\n",
       "\"len_max\":[15.63,24.9,27.11,10.72,19.28,28.93]\n",
       "},\n",
       "\"color\":\"black\",\n",
       "\"width\":0.1,\n",
       "\"position\":{\n",
       "\"name\":\"dodge\",\n",
       "\"width\":0.1,\n",
       "\"kind\":\"pos\"\n",
       "},\n",
       "\"geom\":\"errorbar\"\n",
       "},{\n",
       "\"mapping\":{\n",
       "\"x\":\"dose\",\n",
       "\"y\":\"length\",\n",
       "\"color\":\"supp\"\n",
       "},\n",
       "\"stat\":\"identity\",\n",
       "\"data\":{\n",
       "\"dose\":[0.5,1.0,2.0,0.5,1.0,2.0],\n",
       "\"supp\":[\"OJ\",\"OJ\",\"OJ\",\"VC\",\"VC\",\"VC\"],\n",
       "\"length\":[13.23,22.7,26.06,7.98,16.77,26.14]\n",
       "},\n",
       "\"position\":{\n",
       "\"name\":\"dodge\",\n",
       "\"width\":0.1,\n",
       "\"kind\":\"pos\"\n",
       "},\n",
       "\"geom\":\"line\"\n",
       "},{\n",
       "\"mapping\":{\n",
       "\"x\":\"dose\",\n",
       "\"y\":\"length\",\n",
       "\"color\":\"supp\"\n",
       "},\n",
       "\"stat\":\"identity\",\n",
       "\"data\":{\n",
       "\"dose\":[0.5,1.0,2.0,0.5,1.0,2.0],\n",
       "\"supp\":[\"OJ\",\"OJ\",\"OJ\",\"VC\",\"VC\",\"VC\"],\n",
       "\"length\":[13.23,22.7,26.06,7.98,16.77,26.14]\n",
       "},\n",
       "\"shape\":21.0,\n",
       "\"size\":5.0,\n",
       "\"position\":{\n",
       "\"name\":\"dodge\",\n",
       "\"width\":0.1,\n",
       "\"kind\":\"pos\"\n",
       "},\n",
       "\"geom\":\"point\",\n",
       "\"fill\":\"white\"\n",
       "}]\n",
       "};\n",
       "       var plotContainer = document.getElementById(\"fcOB09\");\n",
       "       LetsPlot.buildPlotFromProcessedSpecs(plotSpec, -1, -1, plotContainer);\n",
       "   </script>    "
      ]
     },
     "execution_count": 8,
     "metadata": {},
     "output_type": "execute_result"
    }
   ],
   "source": [
    "plot(dataset) {\n",
    "    x(dose)\n",
    "\n",
    "    errorBar {\n",
    "        yMin(lenMin)\n",
    "        yMax(lenMax)\n",
    "\n",
    "        borderLine.color(Color.BLACK)\n",
    "\n",
    "        width(.1)\n",
    "\n",
    "        position = pd\n",
    "        group(supp)\n",
    "    }\n",
    "\n",
    "    line {\n",
    "        y(length)\n",
    "\n",
    "        color(supp.scaled(customColorScale))\n",
    "\n",
    "        position = pd\n",
    "    }\n",
    "\n",
    "    points {\n",
    "        y(length)\n",
    "\n",
    "        symbol(Symbol.CIRCLE_FILLED)\n",
    "        size(5.0)\n",
    "        fillColor(Color.WHITE)\n",
    "        color(supp.scaled(customColorScale))\n",
    "\n",
    "        position = pd\n",
    "     }\n",
    "\n",
    "     layout {\n",
    "         title = \"The Effect of Vitamin C on Tooth Growth in Guinea Pigs\" \n",
    "         size = 700 to 400\n",
    "         // TODO Ok?\n",
    "         xAxisLabel = \"Dose (mg)\"\n",
    "         yAxisLabel = \"Tooth length (mm)\"\n",
    "     }\n",
    "     \n",
    "     theme {\n",
    "         legend {\n",
    "             justification(1.0, 0.0)\n",
    "             position(1.0, 0.0)\n",
    "         }\n",
    "     }\n",
    "}"
   ]
  },
  {
   "cell_type": "code",
   "execution_count": 10,
   "metadata": {
    "pycharm": {
     "name": "#%%\n"
    }
   },
   "outputs": [
    {
     "data": {
      "text/html": [
       "            <script type=\"text/javascript\" data-lets-plot-script=\"library\" src=\"https://cdn.jsdelivr.net/gh/JetBrains/lets-plot@v2.4.0/js-package/distr/lets-plot.min.js\"></script>    \n",
       "               <div id=\"lzeTZ0\"></div>\n",
       "   <script type=\"text/javascript\" data-lets-plot-script=\"plot\">\n",
       "       var plotSpec={\n",
       "\"mapping\":{\n",
       "},\n",
       "\"data\":{\n",
       "},\n",
       "\"ggsize\":{\n",
       "\"width\":700.0,\n",
       "\"height\":400.0\n",
       "},\n",
       "\"kind\":\"plot\",\n",
       "\"scales\":[{\n",
       "\"aesthetic\":\"x\"\n",
       "},{\n",
       "\"aesthetic\":\"y\"\n",
       "},{\n",
       "\"aesthetic\":\"fill\",\n",
       "\"values\":[\"orange\",\"dark_green\"]\n",
       "},{\n",
       "\"aesthetic\":\"x\"\n",
       "},{\n",
       "\"aesthetic\":\"x\",\n",
       "\"name\":\"Dose (mg)\"\n",
       "},{\n",
       "\"aesthetic\":\"y\",\n",
       "\"name\":\"Tooth length (mm)\"\n",
       "}],\n",
       "\"layers\":[{\n",
       "\"mapping\":{\n",
       "\"x\":\"dose\",\n",
       "\"y\":\"length\",\n",
       "\"fill\":\"supp\"\n",
       "},\n",
       "\"stat\":\"identity\",\n",
       "\"data\":{\n",
       "\"dose\":[0.5,1.0,2.0,0.5,1.0,2.0],\n",
       "\"supp\":[\"OJ\",\"OJ\",\"OJ\",\"VC\",\"VC\",\"VC\"],\n",
       "\"length\":[13.23,22.7,26.06,7.98,16.77,26.14]\n",
       "},\n",
       "\"color\":\"black\",\n",
       "\"position\":\"dodge\",\n",
       "\"geom\":\"bar\"\n",
       "},{\n",
       "\"mapping\":{\n",
       "\"x\":\"dose\",\n",
       "\"ymin\":\"len_min\",\n",
       "\"ymax\":\"len_max\",\n",
       "\"group\":\"supp\"\n",
       "},\n",
       "\"stat\":\"identity\",\n",
       "\"data\":{\n",
       "\"dose\":[0.5,1.0,2.0,0.5,1.0,2.0],\n",
       "\"supp\":[\"OJ\",\"OJ\",\"OJ\",\"VC\",\"VC\",\"VC\"],\n",
       "\"len_min\":[11.83,21.2,24.5,4.24,15.26,23.35],\n",
       "\"len_max\":[15.63,24.9,27.11,10.72,19.28,28.93]\n",
       "},\n",
       "\"color\":\"black\",\n",
       "\"width\":0.1,\n",
       "\"position\":{\n",
       "\"name\":\"dodge\",\n",
       "\"width\":0.9,\n",
       "\"kind\":\"pos\"\n",
       "},\n",
       "\"geom\":\"errorbar\"\n",
       "}]\n",
       "};\n",
       "       var plotContainer = document.getElementById(\"lzeTZ0\");\n",
       "       LetsPlot.buildPlotFromProcessedSpecs(plotSpec, -1, -1, plotContainer);\n",
       "   </script>    "
      ]
     },
     "execution_count": 10,
     "metadata": {},
     "output_type": "execute_result"
    }
   ],
   "source": [
    "plot(dataset) {\n",
    "    x(dose)\n",
    "    \n",
    "    bar {\n",
    "        y(length)\n",
    "\n",
    "        color(supp.scaled(customColorScale))\n",
    "\n",
    "        borderLine.color(Color.BLACK)\n",
    "\n",
    "        position = Position.Dodge()\n",
    "    }\n",
    "\n",
    "    errorBar {\n",
    "        yMin(lenMin)\n",
    "        yMax(lenMax)\n",
    "\n",
    "        borderLine.color(Color.BLACK)\n",
    "\n",
    "        width(.1)\n",
    "\n",
    "        position = Position.Dodge(0.9)\n",
    "        group(supp)\n",
    "    }\n",
    "    \n",
    "    theme {\n",
    "         legend {\n",
    "             justification = LegendJustification.Custom(0.0, 0.0)\n",
    "             justification(0.1, 0.1)\n",
    "             position(0.1, 0.1)\n",
    "         }\n",
    "     }\n",
    "    \n",
    "    layout {\n",
    "         size = 700 to 400\n",
    "         xAxisLabel = \"Dose (mg)\"\n",
    "         yAxisLabel = \"Tooth length (mm)\"\n",
    "     }\n",
    "}"
   ]
  },
  {
   "cell_type": "code",
   "execution_count": 11,
   "metadata": {
    "pycharm": {
     "name": "#%%\n"
    }
   },
   "outputs": [
    {
     "data": {
      "text/html": [
       "            <script type=\"text/javascript\" data-lets-plot-script=\"library\" src=\"https://cdn.jsdelivr.net/gh/JetBrains/lets-plot@v2.4.0/js-package/distr/lets-plot.min.js\"></script>    \n",
       "               <div id=\"GESNCU\"></div>\n",
       "   <script type=\"text/javascript\" data-lets-plot-script=\"plot\">\n",
       "       var plotSpec={\n",
       "\"mapping\":{\n",
       "},\n",
       "\"data\":{\n",
       "},\n",
       "\"ggsize\":{\n",
       "\"width\":700.0,\n",
       "\"height\":400.0\n",
       "},\n",
       "\"kind\":\"plot\",\n",
       "\"scales\":[{\n",
       "\"aesthetic\":\"x\"\n",
       "},{\n",
       "\"aesthetic\":\"color\",\n",
       "\"values\":[\"orange\",\"dark_green\"]\n",
       "},{\n",
       "\"aesthetic\":\"x\",\n",
       "\"name\":\"Dose (mg)\"\n",
       "},{\n",
       "\"aesthetic\":\"y\",\n",
       "\"name\":\"Tooth length (mm)\"\n",
       "}],\n",
       "\"layers\":[{\n",
       "\"mapping\":{\n",
       "\"x\":\"dose\",\n",
       "\"ymin\":\"len_min\",\n",
       "\"ymax\":\"len_max\",\n",
       "\"middle\":\"length\",\n",
       "\"color\":\"supp\"\n",
       "},\n",
       "\"stat\":\"identity\",\n",
       "\"data\":{\n",
       "\"dose\":[0.5,1.0,2.0,0.5,1.0,2.0],\n",
       "\"supp\":[\"OJ\",\"OJ\",\"OJ\",\"VC\",\"VC\",\"VC\"],\n",
       "\"length\":[13.23,22.7,26.06,7.98,16.77,26.14],\n",
       "\"len_min\":[11.83,21.2,24.5,4.24,15.26,23.35],\n",
       "\"len_max\":[15.63,24.9,27.11,10.72,19.28,28.93]\n",
       "},\n",
       "\"position\":\"dodge\",\n",
       "\"geom\":\"crossbar\",\n",
       "\"fatten\":5.0\n",
       "}]\n",
       "};\n",
       "       var plotContainer = document.getElementById(\"GESNCU\");\n",
       "       LetsPlot.buildPlotFromProcessedSpecs(plotSpec, -1, -1, plotContainer);\n",
       "   </script>    "
      ]
     },
     "execution_count": 11,
     "metadata": {},
     "output_type": "execute_result"
    }
   ],
   "source": [
    "plot(dataset) {\n",
    "    x(dose)\n",
    "\n",
    "    crossBar {\n",
    "        yMin(lenMin)\n",
    "        yMax(lenMax)\n",
    "        middle(length)\n",
    "\n",
    "        fatten(5.0)\n",
    "\n",
    "        borderLine.color(supp.scaled(customColorScale)) \n",
    "        position = Position.Dodge()\n",
    "     }\n",
    "\n",
    "     layout {\n",
    "         size = 700 to 400\n",
    "         xAxisLabel = \"Dose (mg)\"\n",
    "         yAxisLabel = \"Tooth length (mm)\"\n",
    "     }\n",
    "}"
   ]
  },
  {
   "cell_type": "code",
   "execution_count": 12,
   "metadata": {
    "pycharm": {
     "name": "#%%\n"
    }
   },
   "outputs": [
    {
     "data": {
      "text/html": [
       "            <script type=\"text/javascript\" data-lets-plot-script=\"library\" src=\"https://cdn.jsdelivr.net/gh/JetBrains/lets-plot@v2.4.0/js-package/distr/lets-plot.min.js\"></script>    \n",
       "               <div id=\"gPuUeo\"></div>\n",
       "   <script type=\"text/javascript\" data-lets-plot-script=\"plot\">\n",
       "       var plotSpec={\n",
       "\"mapping\":{\n",
       "},\n",
       "\"data\":{\n",
       "},\n",
       "\"ggsize\":{\n",
       "\"width\":700.0,\n",
       "\"height\":400.0\n",
       "},\n",
       "\"kind\":\"plot\",\n",
       "\"scales\":[{\n",
       "\"aesthetic\":\"x\"\n",
       "},{\n",
       "\"aesthetic\":\"color\",\n",
       "\"values\":[\"orange\",\"dark_green\"]\n",
       "},{\n",
       "\"aesthetic\":\"x\"\n",
       "},{\n",
       "\"aesthetic\":\"y\"\n",
       "},{\n",
       "\"aesthetic\":\"color\",\n",
       "\"values\":[\"orange\",\"dark_green\"]\n",
       "},{\n",
       "\"aesthetic\":\"x\",\n",
       "\"name\":\"Dose (mg)\"\n",
       "},{\n",
       "\"aesthetic\":\"y\",\n",
       "\"name\":\"Tooth length (mm)\"\n",
       "}],\n",
       "\"layers\":[{\n",
       "\"mapping\":{\n",
       "\"x\":\"dose\",\n",
       "\"ymin\":\"len_min\",\n",
       "\"ymax\":\"len_max\",\n",
       "\"color\":\"supp\"\n",
       "},\n",
       "\"stat\":\"identity\",\n",
       "\"data\":{\n",
       "\"dose\":[0.5,1.0,2.0,0.5,1.0,2.0],\n",
       "\"supp\":[\"OJ\",\"OJ\",\"OJ\",\"VC\",\"VC\",\"VC\"],\n",
       "\"len_min\":[11.83,21.2,24.5,4.24,15.26,23.35],\n",
       "\"len_max\":[15.63,24.9,27.11,10.72,19.28,28.93]\n",
       "},\n",
       "\"position\":{\n",
       "\"name\":\"dodge\",\n",
       "\"width\":0.1,\n",
       "\"kind\":\"pos\"\n",
       "},\n",
       "\"geom\":\"linerange\"\n",
       "},{\n",
       "\"mapping\":{\n",
       "\"x\":\"dose\",\n",
       "\"y\":\"length\",\n",
       "\"color\":\"supp\"\n",
       "},\n",
       "\"stat\":\"identity\",\n",
       "\"data\":{\n",
       "\"dose\":[0.5,1.0,2.0,0.5,1.0,2.0],\n",
       "\"supp\":[\"OJ\",\"OJ\",\"OJ\",\"VC\",\"VC\",\"VC\"],\n",
       "\"length\":[13.23,22.7,26.06,7.98,16.77,26.14]\n",
       "},\n",
       "\"position\":{\n",
       "\"name\":\"dodge\",\n",
       "\"width\":0.1,\n",
       "\"kind\":\"pos\"\n",
       "},\n",
       "\"geom\":\"line\"\n",
       "}]\n",
       "};\n",
       "       var plotContainer = document.getElementById(\"gPuUeo\");\n",
       "       LetsPlot.buildPlotFromProcessedSpecs(plotSpec, -1, -1, plotContainer);\n",
       "   </script>    "
      ]
     },
     "execution_count": 12,
     "metadata": {},
     "output_type": "execute_result"
    }
   ],
   "source": [
    "plot(dataset) {\n",
    "    x(dose)\n",
    "\n",
    "    lineRange {\n",
    "        yMin(lenMin)\n",
    "        yMax(lenMax)\n",
    "\n",
    "        // todo just line?\n",
    "        borderLine.color(supp.scaled(customColorScale))\n",
    "        position = pd\n",
    "    }\n",
    "\n",
    "    line {\n",
    "        y(length)\n",
    "        color(supp.scaled(customColorScale))\n",
    "\n",
    "        position = pd\n",
    "    }\n",
    "    \n",
    "    layout {\n",
    "         size = 700 to 400\n",
    "         xAxisLabel = \"Dose (mg)\"\n",
    "         yAxisLabel = \"Tooth length (mm)\"\n",
    "     }\n",
    "}"
   ]
  },
  {
   "cell_type": "code",
   "execution_count": 13,
   "metadata": {
    "pycharm": {
     "name": "#%%\n"
    }
   },
   "outputs": [
    {
     "data": {
      "text/html": [
       "            <script type=\"text/javascript\" data-lets-plot-script=\"library\" src=\"https://cdn.jsdelivr.net/gh/JetBrains/lets-plot@v2.4.0/js-package/distr/lets-plot.min.js\"></script>    \n",
       "               <div id=\"rSeGzQ\"></div>\n",
       "   <script type=\"text/javascript\" data-lets-plot-script=\"plot\">\n",
       "       var plotSpec={\n",
       "\"mapping\":{\n",
       "},\n",
       "\"data\":{\n",
       "},\n",
       "\"ggsize\":{\n",
       "\"width\":700.0,\n",
       "\"height\":400.0\n",
       "},\n",
       "\"kind\":\"plot\",\n",
       "\"scales\":[{\n",
       "\"aesthetic\":\"x\"\n",
       "},{\n",
       "\"aesthetic\":\"y\"\n",
       "},{\n",
       "\"aesthetic\":\"color\",\n",
       "\"values\":[\"orange\",\"dark_green\"]\n",
       "},{\n",
       "\"aesthetic\":\"x\"\n",
       "},{\n",
       "\"aesthetic\":\"y\"\n",
       "},{\n",
       "\"aesthetic\":\"color\",\n",
       "\"values\":[\"orange\",\"dark_green\"]\n",
       "},{\n",
       "\"aesthetic\":\"x\",\n",
       "\"name\":\"Dose (mg)\"\n",
       "},{\n",
       "\"aesthetic\":\"y\",\n",
       "\"name\":\"Tooth length (mm)\"\n",
       "}],\n",
       "\"layers\":[{\n",
       "\"mapping\":{\n",
       "\"x\":\"dose\",\n",
       "\"y\":\"length\",\n",
       "\"ymin\":\"len_min\",\n",
       "\"ymax\":\"len_max\",\n",
       "\"color\":\"supp\"\n",
       "},\n",
       "\"stat\":\"identity\",\n",
       "\"data\":{\n",
       "\"dose\":[0.5,1.0,2.0,0.5,1.0,2.0],\n",
       "\"supp\":[\"OJ\",\"OJ\",\"OJ\",\"VC\",\"VC\",\"VC\"],\n",
       "\"length\":[13.23,22.7,26.06,7.98,16.77,26.14],\n",
       "\"len_min\":[11.83,21.2,24.5,4.24,15.26,23.35],\n",
       "\"len_max\":[15.63,24.9,27.11,10.72,19.28,28.93]\n",
       "},\n",
       "\"position\":{\n",
       "\"name\":\"dodge\",\n",
       "\"width\":0.1,\n",
       "\"kind\":\"pos\"\n",
       "},\n",
       "\"geom\":\"pointrange\"\n",
       "},{\n",
       "\"mapping\":{\n",
       "\"x\":\"dose\",\n",
       "\"y\":\"length\",\n",
       "\"color\":\"supp\"\n",
       "},\n",
       "\"stat\":\"identity\",\n",
       "\"data\":{\n",
       "\"dose\":[0.5,1.0,2.0,0.5,1.0,2.0],\n",
       "\"supp\":[\"OJ\",\"OJ\",\"OJ\",\"VC\",\"VC\",\"VC\"],\n",
       "\"length\":[13.23,22.7,26.06,7.98,16.77,26.14]\n",
       "},\n",
       "\"position\":{\n",
       "\"name\":\"dodge\",\n",
       "\"width\":0.1,\n",
       "\"kind\":\"pos\"\n",
       "},\n",
       "\"geom\":\"line\"\n",
       "}]\n",
       "};\n",
       "       var plotContainer = document.getElementById(\"rSeGzQ\");\n",
       "       LetsPlot.buildPlotFromProcessedSpecs(plotSpec, -1, -1, plotContainer);\n",
       "   </script>    "
      ]
     },
     "execution_count": 13,
     "metadata": {},
     "output_type": "execute_result"
    }
   ],
   "source": [
    "plot(dataset) {\n",
    "    x(dose)\n",
    "\n",
    "    pointRange {\n",
    "        y(length)\n",
    "        yMin(lenMin)\n",
    "        yMax(lenMax)\n",
    "\n",
    "        color(supp.scaled(customColorScale))\n",
    "        position = pd\n",
    "    }\n",
    "\n",
    "    line {\n",
    "        y(length)\n",
    "        color(supp.scaled(customColorScale))\n",
    "\n",
    "        position = pd\n",
    "    }\n",
    "    \n",
    "    layout {\n",
    "         size = 700 to 400\n",
    "         xAxisLabel = \"Dose (mg)\"\n",
    "         yAxisLabel = \"Tooth length (mm)\"\n",
    "     }\n",
    "}"
   ]
  },
  {
   "cell_type": "code",
   "execution_count": 14,
   "metadata": {
    "pycharm": {
     "name": "#%%\n"
    }
   },
   "outputs": [
    {
     "data": {
      "text/html": [
       "            <script type=\"text/javascript\" data-lets-plot-script=\"library\" src=\"https://cdn.jsdelivr.net/gh/JetBrains/lets-plot@v2.4.0/js-package/distr/lets-plot.min.js\"></script>    \n",
       "               <div id=\"lkIuWR\"></div>\n",
       "   <script type=\"text/javascript\" data-lets-plot-script=\"plot\">\n",
       "       var plotSpec={\n",
       "\"mapping\":{\n",
       "},\n",
       "\"data\":{\n",
       "},\n",
       "\"ggsize\":{\n",
       "\"width\":700.0,\n",
       "\"height\":400.0\n",
       "},\n",
       "\"kind\":\"plot\",\n",
       "\"scales\":[{\n",
       "\"aesthetic\":\"x\"\n",
       "},{\n",
       "\"aesthetic\":\"y\"\n",
       "},{\n",
       "\"aesthetic\":\"color\",\n",
       "\"values\":[\"orange\",\"dark_green\"]\n",
       "},{\n",
       "\"aesthetic\":\"x\"\n",
       "},{\n",
       "\"aesthetic\":\"y\"\n",
       "},{\n",
       "\"aesthetic\":\"fill\",\n",
       "\"values\":[\"orange\",\"dark_green\"]\n",
       "},{\n",
       "\"aesthetic\":\"x\",\n",
       "\"name\":\"Dose (mg)\"\n",
       "},{\n",
       "\"aesthetic\":\"y\",\n",
       "\"name\":\"Tooth length (mm)\"\n",
       "}],\n",
       "\"layers\":[{\n",
       "\"mapping\":{\n",
       "\"x\":\"dose\",\n",
       "\"y\":\"length\",\n",
       "\"color\":\"supp\"\n",
       "},\n",
       "\"stat\":\"identity\",\n",
       "\"data\":{\n",
       "\"dose\":[0.5,1.0,2.0,0.5,1.0,2.0],\n",
       "\"supp\":[\"OJ\",\"OJ\",\"OJ\",\"VC\",\"VC\",\"VC\"],\n",
       "\"length\":[13.23,22.7,26.06,7.98,16.77,26.14]\n",
       "},\n",
       "\"position\":{\n",
       "\"name\":\"dodge\",\n",
       "\"width\":0.1,\n",
       "\"kind\":\"pos\"\n",
       "},\n",
       "\"geom\":\"line\"\n",
       "},{\n",
       "\"mapping\":{\n",
       "\"x\":\"dose\",\n",
       "\"y\":\"length\",\n",
       "\"ymin\":\"len_min\",\n",
       "\"ymax\":\"len_max\",\n",
       "\"fill\":\"supp\"\n",
       "},\n",
       "\"stat\":\"identity\",\n",
       "\"data\":{\n",
       "\"dose\":[0.5,1.0,2.0,0.5,1.0,2.0],\n",
       "\"supp\":[\"OJ\",\"OJ\",\"OJ\",\"VC\",\"VC\",\"VC\"],\n",
       "\"length\":[13.23,22.7,26.06,7.98,16.77,26.14],\n",
       "\"len_min\":[11.83,21.2,24.5,4.24,15.26,23.35],\n",
       "\"len_max\":[15.63,24.9,27.11,10.72,19.28,28.93]\n",
       "},\n",
       "\"size\":5.0,\n",
       "\"color\":\"#E6E6E6\",\n",
       "\"shape\":23.0,\n",
       "\"position\":{\n",
       "\"name\":\"dodge\",\n",
       "\"width\":0.1,\n",
       "\"kind\":\"pos\"\n",
       "},\n",
       "\"geom\":\"pointrange\",\n",
       "\"fatten\":1.0\n",
       "}]\n",
       "};\n",
       "       var plotContainer = document.getElementById(\"lkIuWR\");\n",
       "       LetsPlot.buildPlotFromProcessedSpecs(plotSpec, -1, -1, plotContainer);\n",
       "   </script>    "
      ]
     },
     "execution_count": 14,
     "metadata": {},
     "output_type": "execute_result"
    }
   ],
   "source": [
    "plot(dataset) {\n",
    "    x(dose)\n",
    "\n",
    "    line {\n",
    "        y(length)\n",
    "        color(supp.scaled(customColorScale))\n",
    "\n",
    "        position = pd\n",
    "    }\n",
    "\n",
    "    pointRange {\n",
    "        y(length)\n",
    "        yMin(lenMin)\n",
    "        yMax(lenMax)\n",
    "\n",
    "        size(5.0)\n",
    "        \n",
    "        color(Color.fromRGB(230, 230, 230))\n",
    "        \n",
    "        innerPoint {\n",
    "            fatten(1.0)\n",
    "            symbol(Symbol.DIAMOND_FILLED)\n",
    "            fillColor(supp.scaled(customColorScale))\n",
    "        }\n",
    "        \n",
    "        position = pd\n",
    "    }\n",
    "\n",
    "    layout {\n",
    "         size = 700 to 400\n",
    "         xAxisLabel = \"Dose (mg)\"\n",
    "         yAxisLabel = \"Tooth length (mm)\"\n",
    "     }\n",
    "}"
   ]
  },
  {
   "cell_type": "markdown",
   "metadata": {
    "pycharm": {
     "name": "#%% md\n"
    }
   },
   "source": [
    "https://nbviewer.org/github/JetBrains/lets-plot-kotlin/blob/master/docs/examples/jupyter-notebooks/facets.ipynb"
   ]
  },
  {
   "cell_type": "code",
   "execution_count": 15,
   "metadata": {
    "pycharm": {
     "name": "#%%\n"
    }
   },
   "outputs": [
    {
     "data": {
      "text/html": [
       "            <div id=\"kotlin_out_0\"/>\n",
       "            <script type=\"text/javascript\">\n",
       "                            if(!window.kotlinQueues) {\n",
       "                window.kotlinQueues = {};\n",
       "            }\n",
       "            if(!window.kotlinQueues[\"DataFrame\"]) {\n",
       "                var resQueue = [];\n",
       "                window.kotlinQueues[\"DataFrame\"] = resQueue;\n",
       "                window[\"call_DataFrame\"] = function(f) {\n",
       "                    resQueue.push(f);\n",
       "                }\n",
       "            }\n",
       "            (function (){\n",
       "                var modifiers = [(function(script) {\n",
       "    script.src = \"https://cdn.jsdelivr.net/gh/Kotlin/dataframe@d6467c1389bc031958acd5310fce39167b5cc581/src/main/resources/init.js\"\n",
       "    script.type = \"text/javascript\";\n",
       "})];\n",
       "                var e = document.getElementById(\"kotlin_out_0\");\n",
       "                modifiers.forEach(function (gen) {\n",
       "                    var script = document.createElement(\"script\");\n",
       "                    gen(script)\n",
       "                    script.addEventListener(\"load\", function() {\n",
       "                        window[\"call_DataFrame\"] = function(f) {f();};\n",
       "                        window.kotlinQueues[\"DataFrame\"].forEach(function(f) {f();});\n",
       "                        window.kotlinQueues[\"DataFrame\"] = [];\n",
       "                    }, false);\n",
       "                    script.addEventListener(\"error\", function() {\n",
       "                        window[\"call_DataFrame\"] = function(f) {};\n",
       "                        window.kotlinQueues[\"DataFrame\"] = [];\n",
       "                        var div = document.createElement(\"div\");\n",
       "                        div.style.color = 'darkred';\n",
       "                        div.textContent = 'Error loading resource DataFrame';\n",
       "                        document.getElementById(\"kotlin_out_0\").appendChild(div);\n",
       "                    }, false);\n",
       "                    \n",
       "                    e.appendChild(script);\n",
       "                });\n",
       "            })();\n",
       "            </script>"
      ]
     },
     "metadata": {},
     "output_type": "display_data"
    },
    {
     "data": {
      "text/html": [
       "                <style>\n",
       "                :root {\n",
       "    --background: #fff;\n",
       "    --background-odd: #f5f5f5;\n",
       "    --background-hover: #d9edfd;\n",
       "    --header-text-color: #474747;\n",
       "    --text-color: #848484;\n",
       "    --text-color-dark: #000;\n",
       "    --text-color-medium: #737373;\n",
       "    --text-color-pale: #b3b3b3;\n",
       "    --inner-border-color: #aaa;\n",
       "    --bold-border-color: #000;\n",
       "    --link-color: #296eaa;\n",
       "    --link-color-pale: #296eaa;\n",
       "    --link-hover: #1a466c;\n",
       "}\n",
       "\n",
       ":root[theme=\"dark\"], :root [data-jp-theme-light=\"false\"]{\n",
       "    --background: #303030;\n",
       "    --background-odd: #3c3c3c;\n",
       "    --background-hover: #464646;\n",
       "    --header-text-color: #dddddd;\n",
       "    --text-color: #b3b3b3;\n",
       "    --text-color-dark: #dddddd;\n",
       "    --text-color-medium: #b2b2b2;\n",
       "    --text-color-pale: #737373;\n",
       "    --inner-border-color: #707070;\n",
       "    --bold-border-color: #777777;\n",
       "    --link-color: #008dc0;\n",
       "    --link-color-pale: #97e1fb;\n",
       "    --link-hover: #00688e;\n",
       "}\n",
       "\n",
       "table.dataframe {\n",
       "    font-family: \"Helvetica Neue\", Helvetica, Arial, sans-serif;\n",
       "    font-size: 12px;\n",
       "    background-color: var(--background);\n",
       "    color: var(--text-color-dark);\n",
       "    border: none;\n",
       "    border-collapse: collapse;\n",
       "}\n",
       "\n",
       "table.dataframe th, td {\n",
       "    padding: 6px;\n",
       "    border: 1px solid transparent;\n",
       "    text-align: left;\n",
       "}\n",
       "\n",
       "table.dataframe th {\n",
       "    background-color: var(--background);\n",
       "    color: var(--header-text-color);\n",
       "}\n",
       "\n",
       "table.dataframe td {\n",
       "    vertical-align: top;\n",
       "}\n",
       "\n",
       "table.dataframe th.bottomBorder {\n",
       "    border-bottom-color: var(--bold-border-color);\n",
       "}\n",
       "\n",
       "table.dataframe tbody > tr:nth-child(odd) {\n",
       "    background: var(--background-odd);\n",
       "}\n",
       "\n",
       "table.dataframe tbody > tr:nth-child(even) {\n",
       "    background: var(--background);\n",
       "}\n",
       "\n",
       "table.dataframe tbody > tr:hover {\n",
       "    background: var(--background-hover);\n",
       "}\n",
       "\n",
       "table.dataframe a {\n",
       "    cursor: pointer;\n",
       "    color: var(--link-color);\n",
       "    text-decoration: none;\n",
       "}\n",
       "\n",
       "table.dataframe tr:hover > td a {\n",
       "    color: var(--link-color-pale);\n",
       "}\n",
       "\n",
       "table.dataframe a:hover {\n",
       "    color: var(--link-hover);\n",
       "    text-decoration: underline;\n",
       "}\n",
       "\n",
       "table.dataframe img {\n",
       "    max-width: fit-content;\n",
       "}\n",
       "\n",
       "table.dataframe th.complex {\n",
       "    background-color: var(--background);\n",
       "    border: 1px solid var(--background);\n",
       "}\n",
       "\n",
       "table.dataframe .leftBorder {\n",
       "    border-left-color: var(--inner-border-color);\n",
       "}\n",
       "\n",
       "table.dataframe .rightBorder {\n",
       "    border-right-color: var(--inner-border-color);\n",
       "}\n",
       "\n",
       "table.dataframe .rightAlign {\n",
       "    text-align: right;\n",
       "}\n",
       "\n",
       "table.dataframe .expanderSvg {\n",
       "    width: 8px;\n",
       "    height: 8px;\n",
       "    margin-right: 3px;\n",
       "}\n",
       "\n",
       "table.dataframe .expander {\n",
       "    display: flex;\n",
       "    align-items: center;\n",
       "}\n",
       "\n",
       "/* formatting */\n",
       "\n",
       "table.dataframe .null {\n",
       "    color: var(--text-color-pale);\n",
       "}\n",
       "\n",
       "table.dataframe .structural {\n",
       "    color: var(--text-color-medium);\n",
       "    font-weight: bold;\n",
       "}\n",
       "\n",
       "table.dataframe .dataFrameCaption {\n",
       "    font-weight: bold;\n",
       "}\n",
       "\n",
       "table.dataframe .numbers {\n",
       "    color: var(--text-color-dark);\n",
       "}\n",
       "\n",
       "table.dataframe td:hover .formatted .structural, .null {\n",
       "    color: var(--text-color-dark);\n",
       "}\n",
       "\n",
       "table.dataframe tr:hover .formatted .structural, .null {\n",
       "    color: var(--text-color-dark);\n",
       "}\n",
       "\n",
       "\n",
       "                </style>"
      ]
     },
     "metadata": {},
     "output_type": "display_data"
    }
   ],
   "source": [
    "%use dataframe"
   ]
  },
  {
   "cell_type": "code",
   "execution_count": 16,
   "metadata": {
    "pycharm": {
     "name": "#%%\n"
    }
   },
   "outputs": [
    {
     "data": {
      "text/html": [
       "        <html>\n",
       "        <head>\n",
       "            <style type=\"text/css\">\n",
       "                \n",
       "\n",
       "            </style>\n",
       "        </head>\n",
       "        <body>\n",
       "            <table class=\"dataframe\" id=\"df_-973078528\"></table>\n",
       "\n",
       "<p>DataFrame: rowsCount = 5, columnsCount = 9</p>\n",
       "        </body>\n",
       "        <script>\n",
       "            /*<!--*/\n",
       "call_DataFrame(function() { DataFrame.addTable({ cols: [{ name: \"<span title=\\\"miles per gallon: java.math.BigDecimal\\\">miles per gallon</span>\", children: [], rightAlign: true, values: [\"<span class=\\\"formatted\\\" title=\\\"\\\"><span class=\\\"numbers\\\">18,0</span></span>\",\"<span class=\\\"formatted\\\" title=\\\"\\\"><span class=\\\"numbers\\\">15,0</span></span>\",\"<span class=\\\"formatted\\\" title=\\\"\\\"><span class=\\\"numbers\\\">18,0</span></span>\",\"<span class=\\\"formatted\\\" title=\\\"\\\"><span class=\\\"numbers\\\">16,0</span></span>\",\"<span class=\\\"formatted\\\" title=\\\"\\\"><span class=\\\"numbers\\\">17,0</span></span>\"] }, \n",
       "{ name: \"<span title=\\\"number of cylinders: Int\\\">number of cylinders</span>\", children: [], rightAlign: true, values: [\"<span class=\\\"formatted\\\" title=\\\"\\\"><span class=\\\"numbers\\\">8</span></span>\",\"<span class=\\\"formatted\\\" title=\\\"\\\"><span class=\\\"numbers\\\">8</span></span>\",\"<span class=\\\"formatted\\\" title=\\\"\\\"><span class=\\\"numbers\\\">8</span></span>\",\"<span class=\\\"formatted\\\" title=\\\"\\\"><span class=\\\"numbers\\\">8</span></span>\",\"<span class=\\\"formatted\\\" title=\\\"\\\"><span class=\\\"numbers\\\">8</span></span>\"] }, \n",
       "{ name: \"<span title=\\\"engine displacement (cu. inches): java.math.BigDecimal\\\">engine displacement (cu. inches)</span>\", children: [], rightAlign: true, values: [\"<span class=\\\"formatted\\\" title=\\\"\\\"><span class=\\\"numbers\\\">307,0</span></span>\",\"<span class=\\\"formatted\\\" title=\\\"\\\"><span class=\\\"numbers\\\">350,0</span></span>\",\"<span class=\\\"formatted\\\" title=\\\"\\\"><span class=\\\"numbers\\\">318,0</span></span>\",\"<span class=\\\"formatted\\\" title=\\\"\\\"><span class=\\\"numbers\\\">304,0</span></span>\",\"<span class=\\\"formatted\\\" title=\\\"\\\"><span class=\\\"numbers\\\">302,0</span></span>\"] }, \n",
       "{ name: \"<span title=\\\"engine horsepower: Int\\\">engine horsepower</span>\", children: [], rightAlign: true, values: [\"<span class=\\\"formatted\\\" title=\\\"\\\"><span class=\\\"numbers\\\">130</span></span>\",\"<span class=\\\"formatted\\\" title=\\\"\\\"><span class=\\\"numbers\\\">165</span></span>\",\"<span class=\\\"formatted\\\" title=\\\"\\\"><span class=\\\"numbers\\\">150</span></span>\",\"<span class=\\\"formatted\\\" title=\\\"\\\"><span class=\\\"numbers\\\">150</span></span>\",\"<span class=\\\"formatted\\\" title=\\\"\\\"><span class=\\\"numbers\\\">140</span></span>\"] }, \n",
       "{ name: \"<span title=\\\"vehicle weight (lbs.): Int\\\">vehicle weight (lbs.)</span>\", children: [], rightAlign: true, values: [\"<span class=\\\"formatted\\\" title=\\\"\\\"><span class=\\\"numbers\\\">3504</span></span>\",\"<span class=\\\"formatted\\\" title=\\\"\\\"><span class=\\\"numbers\\\">3693</span></span>\",\"<span class=\\\"formatted\\\" title=\\\"\\\"><span class=\\\"numbers\\\">3436</span></span>\",\"<span class=\\\"formatted\\\" title=\\\"\\\"><span class=\\\"numbers\\\">3433</span></span>\",\"<span class=\\\"formatted\\\" title=\\\"\\\"><span class=\\\"numbers\\\">3449</span></span>\"] }, \n",
       "{ name: \"<span title=\\\"time to accelerate (sec.): java.math.BigDecimal\\\">time to accelerate (sec.)</span>\", children: [], rightAlign: true, values: [\"<span class=\\\"formatted\\\" title=\\\"\\\"><span class=\\\"numbers\\\">12,0</span></span>\",\"<span class=\\\"formatted\\\" title=\\\"\\\"><span class=\\\"numbers\\\">11,5</span></span>\",\"<span class=\\\"formatted\\\" title=\\\"\\\"><span class=\\\"numbers\\\">11,0</span></span>\",\"<span class=\\\"formatted\\\" title=\\\"\\\"><span class=\\\"numbers\\\">12,0</span></span>\",\"<span class=\\\"formatted\\\" title=\\\"\\\"><span class=\\\"numbers\\\">10,5</span></span>\"] }, \n",
       "{ name: \"<span title=\\\"model year: Int\\\">model year</span>\", children: [], rightAlign: true, values: [\"<span class=\\\"formatted\\\" title=\\\"\\\"><span class=\\\"numbers\\\">70</span></span>\",\"<span class=\\\"formatted\\\" title=\\\"\\\"><span class=\\\"numbers\\\">70</span></span>\",\"<span class=\\\"formatted\\\" title=\\\"\\\"><span class=\\\"numbers\\\">70</span></span>\",\"<span class=\\\"formatted\\\" title=\\\"\\\"><span class=\\\"numbers\\\">70</span></span>\",\"<span class=\\\"formatted\\\" title=\\\"\\\"><span class=\\\"numbers\\\">70</span></span>\"] }, \n",
       "{ name: \"<span title=\\\"origin of car: String\\\">origin of car</span>\", children: [], rightAlign: false, values: [\"US\",\"US\",\"US\",\"US\",\"US\"] }, \n",
       "{ name: \"<span title=\\\"vehicle name: String\\\">vehicle name</span>\", children: [], rightAlign: false, values: [\"chevrolet chevelle malibu\",\"buick skylark 320\",\"plymouth satellite\",\"amc rebel sst\",\"ford torino\"] }, \n",
       "], id: -973078528, rootId: -973078528, totalRows: 5 } ) });\n",
       "/*-->*/\n",
       "\n",
       "call_DataFrame(function() { DataFrame.renderTable(-973078528) });\n",
       "\n",
       "\n",
       "        </script>\n",
       "        </html>"
      ]
     },
     "execution_count": 16,
     "metadata": {},
     "output_type": "execute_result"
    }
   ],
   "source": [
    "val mpgDF = DataFrame.readCSV(\"https://raw.githubusercontent.com/JetBrains/lets-plot-kotlin/master/docs/examples/data/mpg2.csv\")\n",
    "mpgDF.head(5)"
   ]
  },
  {
   "cell_type": "code",
   "execution_count": 17,
   "metadata": {
    "pycharm": {
     "name": "#%%\n"
    }
   },
   "outputs": [
    {
     "data": {
      "text/plain": [
       "miles per gallon: java.math.BigDecimal\n",
       "number of cylinders: Int\n",
       "engine displacement (cu. inches): java.math.BigDecimal\n",
       "engine horsepower: Int\n",
       "vehicle weight (lbs.): Int\n",
       "time to accelerate (sec.): java.math.BigDecimal\n",
       "model year: Int\n",
       "origin of car: String\n",
       "vehicle name: String\n"
      ]
     },
     "execution_count": 17,
     "metadata": {},
     "output_type": "execute_result"
    }
   ],
   "source": [
    "mpgDF.schema()"
   ]
  },
  {
   "cell_type": "code",
   "execution_count": 18,
   "metadata": {
    "pycharm": {
     "name": "#%%\n"
    }
   },
   "outputs": [
    {
     "name": "stderr",
     "output_type": "stream",
     "text": [
      "Line_23.jupyter-kts (1:24 - 35) Unresolved reference: toNamedData"
     ]
    }
   ],
   "source": [
    "val datasetMpg = mpgDF.toNamedData()\n",
    "val mpg = source<Double>(\"miles per gallon\")\n",
    "val ehp = source<Int>(\"engine horsepower\")\n",
    "val origin = source<String>(\"origin of car\")\n",
    "val noc = source<Int>(\"number of cylinders\")"
   ]
  },
  {
   "cell_type": "code",
   "execution_count": 19,
   "metadata": {
    "pycharm": {
     "name": "#%%\n"
    }
   },
   "outputs": [
    {
     "name": "stderr",
     "output_type": "stream",
     "text": [
      "Line_24.jupyter-kts (1:6 - 16) Unresolved reference: datasetMpg\n",
      "Line_24.jupyter-kts (2:7 - 10) Unresolved reference: ehp\n",
      "Line_24.jupyter-kts (3:7 - 10) Unresolved reference: mpg\n",
      "Line_24.jupyter-kts (4:20 - 26) Unresolved reference: origin"
     ]
    }
   ],
   "source": [
    "plot(datasetMpg) {\n",
    "    x(ehp)\n",
    "    y(mpg)\n",
    "    points { color(origin) }\n",
    "}"
   ]
  },
  {
   "cell_type": "code",
   "execution_count": 20,
   "metadata": {
    "pycharm": {
     "name": "#%%\n"
    }
   },
   "outputs": [
    {
     "name": "stderr",
     "output_type": "stream",
     "text": [
      "Line_25.jupyter-kts (1:6 - 16) Unresolved reference: datasetMpg\n",
      "Line_25.jupyter-kts (2:7 - 10) Unresolved reference: ehp\n",
      "Line_25.jupyter-kts (3:7 - 10) Unresolved reference: mpg\n",
      "Line_25.jupyter-kts (4:20 - 26) Unresolved reference: origin\n",
      "Line_25.jupyter-kts (6:15 - 18) Unresolved reference: noc"
     ]
    }
   ],
   "source": [
    "plot(datasetMpg) {\n",
    "    x(ehp)\n",
    "    y(mpg)\n",
    "    points { color(origin) }\n",
    "\n",
    "    facetGrid(noc)\n",
    "}"
   ]
  },
  {
   "cell_type": "code",
   "execution_count": 21,
   "metadata": {
    "pycharm": {
     "name": "#%%\n"
    }
   },
   "outputs": [
    {
     "name": "stderr",
     "output_type": "stream",
     "text": [
      "Line_26.jupyter-kts (1:6 - 16) Unresolved reference: datasetMpg\n",
      "Line_26.jupyter-kts (2:7 - 10) Unresolved reference: ehp\n",
      "Line_26.jupyter-kts (3:7 - 10) Unresolved reference: mpg\n",
      "Line_26.jupyter-kts (4:20 - 26) Unresolved reference: origin\n",
      "Line_26.jupyter-kts (7:13 - 16) Unresolved reference: noc\n",
      "Line_26.jupyter-kts (8:13 - 19) Unresolved reference: origin"
     ]
    }
   ],
   "source": [
    "plot(datasetMpg) {\n",
    "    x(ehp)\n",
    "    y(mpg)\n",
    "    points { color(origin) }\n",
    "\n",
    "    facetGrid ( \n",
    "        x = noc ,\n",
    "        y = origin\n",
    "    )\n",
    "}"
   ]
  },
  {
   "cell_type": "code",
   "execution_count": 22,
   "metadata": {
    "pycharm": {
     "name": "#%%\n"
    }
   },
   "outputs": [
    {
     "name": "stderr",
     "output_type": "stream",
     "text": [
      "Line_27.jupyter-kts (1:6 - 16) Unresolved reference: datasetMpg\n",
      "Line_27.jupyter-kts (2:7 - 10) Unresolved reference: ehp\n",
      "Line_27.jupyter-kts (3:7 - 10) Unresolved reference: mpg\n",
      "Line_27.jupyter-kts (4:20 - 26) Unresolved reference: origin\n",
      "Line_27.jupyter-kts (7:13 - 16) Unresolved reference: noc\n",
      "Line_27.jupyter-kts (8:13 - 19) Unresolved reference: origin"
     ]
    }
   ],
   "source": [
    "plot(datasetMpg) {\n",
    "    x(ehp)\n",
    "    y(mpg)\n",
    "    points { color(origin) }\n",
    "\n",
    "    facetGrid (\n",
    "        x = noc, \n",
    "        y = origin,\n",
    "        yOrder=OrderDirection.DESCENDING\n",
    "    )\n",
    "}"
   ]
  },
  {
   "cell_type": "markdown",
   "metadata": {
    "pycharm": {
     "name": "#%% md\n"
    }
   },
   "source": [
    "EXAMPLE WITH MPG"
   ]
  },
  {
   "cell_type": "code",
   "execution_count": 23,
   "metadata": {
    "pycharm": {
     "name": "#%%\n"
    }
   },
   "outputs": [
    {
     "data": {
      "text/html": [
       "        <html>\n",
       "        <head>\n",
       "            <style type=\"text/css\">\n",
       "                \n",
       "\n",
       "            </style>\n",
       "        </head>\n",
       "        <body>\n",
       "            <table class=\"dataframe\" id=\"df_-973078527\"></table>\n",
       "\n",
       "<p>DataFrame: rowsCount = 5, columnsCount = 9</p>\n",
       "        </body>\n",
       "        <script>\n",
       "            /*<!--*/\n",
       "call_DataFrame(function() { DataFrame.addTable({ cols: [{ name: \"<span title=\\\"miles per gallon: java.math.BigDecimal\\\">miles per gallon</span>\", children: [], rightAlign: true, values: [\"<span class=\\\"formatted\\\" title=\\\"\\\"><span class=\\\"numbers\\\">18,0</span></span>\",\"<span class=\\\"formatted\\\" title=\\\"\\\"><span class=\\\"numbers\\\">15,0</span></span>\",\"<span class=\\\"formatted\\\" title=\\\"\\\"><span class=\\\"numbers\\\">18,0</span></span>\",\"<span class=\\\"formatted\\\" title=\\\"\\\"><span class=\\\"numbers\\\">16,0</span></span>\",\"<span class=\\\"formatted\\\" title=\\\"\\\"><span class=\\\"numbers\\\">17,0</span></span>\"] }, \n",
       "{ name: \"<span title=\\\"number of cylinders: Int\\\">number of cylinders</span>\", children: [], rightAlign: true, values: [\"<span class=\\\"formatted\\\" title=\\\"\\\"><span class=\\\"numbers\\\">8</span></span>\",\"<span class=\\\"formatted\\\" title=\\\"\\\"><span class=\\\"numbers\\\">8</span></span>\",\"<span class=\\\"formatted\\\" title=\\\"\\\"><span class=\\\"numbers\\\">8</span></span>\",\"<span class=\\\"formatted\\\" title=\\\"\\\"><span class=\\\"numbers\\\">8</span></span>\",\"<span class=\\\"formatted\\\" title=\\\"\\\"><span class=\\\"numbers\\\">8</span></span>\"] }, \n",
       "{ name: \"<span title=\\\"engine displacement (cu. inches): java.math.BigDecimal\\\">engine displacement (cu. inches)</span>\", children: [], rightAlign: true, values: [\"<span class=\\\"formatted\\\" title=\\\"\\\"><span class=\\\"numbers\\\">307,0</span></span>\",\"<span class=\\\"formatted\\\" title=\\\"\\\"><span class=\\\"numbers\\\">350,0</span></span>\",\"<span class=\\\"formatted\\\" title=\\\"\\\"><span class=\\\"numbers\\\">318,0</span></span>\",\"<span class=\\\"formatted\\\" title=\\\"\\\"><span class=\\\"numbers\\\">304,0</span></span>\",\"<span class=\\\"formatted\\\" title=\\\"\\\"><span class=\\\"numbers\\\">302,0</span></span>\"] }, \n",
       "{ name: \"<span title=\\\"engine horsepower: Int\\\">engine horsepower</span>\", children: [], rightAlign: true, values: [\"<span class=\\\"formatted\\\" title=\\\"\\\"><span class=\\\"numbers\\\">130</span></span>\",\"<span class=\\\"formatted\\\" title=\\\"\\\"><span class=\\\"numbers\\\">165</span></span>\",\"<span class=\\\"formatted\\\" title=\\\"\\\"><span class=\\\"numbers\\\">150</span></span>\",\"<span class=\\\"formatted\\\" title=\\\"\\\"><span class=\\\"numbers\\\">150</span></span>\",\"<span class=\\\"formatted\\\" title=\\\"\\\"><span class=\\\"numbers\\\">140</span></span>\"] }, \n",
       "{ name: \"<span title=\\\"vehicle weight (lbs.): Int\\\">vehicle weight (lbs.)</span>\", children: [], rightAlign: true, values: [\"<span class=\\\"formatted\\\" title=\\\"\\\"><span class=\\\"numbers\\\">3504</span></span>\",\"<span class=\\\"formatted\\\" title=\\\"\\\"><span class=\\\"numbers\\\">3693</span></span>\",\"<span class=\\\"formatted\\\" title=\\\"\\\"><span class=\\\"numbers\\\">3436</span></span>\",\"<span class=\\\"formatted\\\" title=\\\"\\\"><span class=\\\"numbers\\\">3433</span></span>\",\"<span class=\\\"formatted\\\" title=\\\"\\\"><span class=\\\"numbers\\\">3449</span></span>\"] }, \n",
       "{ name: \"<span title=\\\"time to accelerate (sec.): java.math.BigDecimal\\\">time to accelerate (sec.)</span>\", children: [], rightAlign: true, values: [\"<span class=\\\"formatted\\\" title=\\\"\\\"><span class=\\\"numbers\\\">12,0</span></span>\",\"<span class=\\\"formatted\\\" title=\\\"\\\"><span class=\\\"numbers\\\">11,5</span></span>\",\"<span class=\\\"formatted\\\" title=\\\"\\\"><span class=\\\"numbers\\\">11,0</span></span>\",\"<span class=\\\"formatted\\\" title=\\\"\\\"><span class=\\\"numbers\\\">12,0</span></span>\",\"<span class=\\\"formatted\\\" title=\\\"\\\"><span class=\\\"numbers\\\">10,5</span></span>\"] }, \n",
       "{ name: \"<span title=\\\"model year: Int\\\">model year</span>\", children: [], rightAlign: true, values: [\"<span class=\\\"formatted\\\" title=\\\"\\\"><span class=\\\"numbers\\\">70</span></span>\",\"<span class=\\\"formatted\\\" title=\\\"\\\"><span class=\\\"numbers\\\">70</span></span>\",\"<span class=\\\"formatted\\\" title=\\\"\\\"><span class=\\\"numbers\\\">70</span></span>\",\"<span class=\\\"formatted\\\" title=\\\"\\\"><span class=\\\"numbers\\\">70</span></span>\",\"<span class=\\\"formatted\\\" title=\\\"\\\"><span class=\\\"numbers\\\">70</span></span>\"] }, \n",
       "{ name: \"<span title=\\\"origin of car: String\\\">origin of car</span>\", children: [], rightAlign: false, values: [\"US\",\"US\",\"US\",\"US\",\"US\"] }, \n",
       "{ name: \"<span title=\\\"vehicle name: String\\\">vehicle name</span>\", children: [], rightAlign: false, values: [\"chevrolet chevelle malibu\",\"buick skylark 320\",\"plymouth satellite\",\"amc rebel sst\",\"ford torino\"] }, \n",
       "], id: -973078527, rootId: -973078527, totalRows: 5 } ) });\n",
       "/*-->*/\n",
       "\n",
       "call_DataFrame(function() { DataFrame.renderTable(-973078527) });\n",
       "\n",
       "\n",
       "        </script>\n",
       "        </html>"
      ]
     },
     "execution_count": 23,
     "metadata": {},
     "output_type": "execute_result"
    }
   ],
   "source": [
    "val mpgDF = DataFrame.readCSV(\"https://raw.githubusercontent.com/JetBrains/lets-plot-kotlin/master/docs/examples/data/mpg2.csv\")\n",
    "mpgDF.head(5)"
   ]
  },
  {
   "cell_type": "code",
   "execution_count": 24,
   "metadata": {
    "pycharm": {
     "name": "#%%\n"
    }
   },
   "outputs": [
    {
     "name": "stderr",
     "output_type": "stream",
     "text": [
      "Line_31.jupyter-kts (1:7 - 13) Unresolved reference: create\n",
      "Line_31.jupyter-kts (2:7 - 25) Unresolved reference. None of the following candidates is applicable because of receiver type mismatch: \n",
      "public final val ColumnsContainer<Line_20._DataFrameType>.`miles per gallon`: DataColumn<BigDecimal> defined in Line_20\n",
      "public final val DataRow<Line_20._DataFrameType>.`miles per gallon`: BigDecimal defined in Line_20\n",
      "Line_31.jupyter-kts (5:7 - 26) Unresolved reference. None of the following candidates is applicable because of receiver type mismatch: \n",
      "public final val ColumnsContainer<Line_20._DataFrameType>.`engine horsepower`: DataColumn<Int> defined in Line_20\n",
      "public final val DataRow<Line_20._DataFrameType>.`engine horsepower`: Int defined in Line_20\n",
      "Line_31.jupyter-kts (9:19 - 34) Unresolved reference. None of the following candidates is applicable because of receiver type mismatch: \n",
      "public final val ColumnsContainer<Line_20._DataFrameType>.`origin of car`: DataColumn<String> defined in Line_20\n",
      "public final val DataRow<Line_20._DataFrameType>.`origin of car`: String defined in Line_20\n",
      "Line_31.jupyter-kts (12:14 - 35) Unresolved reference. None of the following candidates is applicable because of receiver type mismatch: \n",
      "public final val ColumnsContainer<Line_20._DataFrameType>.`number of cylinders`: DataColumn<Int> defined in Line_20\n",
      "public final val DataRow<Line_20._DataFrameType>.`number of cylinders`: Int defined in Line_20"
     ]
    }
   ],
   "source": [
    "mpgDF.create {plot { \n",
    "    x(`miles per gallon`.scaled(\n",
    "        continuousPos(limits = 10.0 to 40.0)\n",
    "    ))\n",
    "    y(`engine horsepower`)\n",
    "    points { \n",
    "       \n",
    "        symbol(Symbol.DIAMOND_FILLED)\n",
    "        fillColor(`origin of car`.scaled())\n",
    "        color(Color.fromRGB(0, 0, 0))\n",
    "         \n",
    "        size(`number of cylinders`)\n",
    "    }\n",
    "   \n",
    "    layout {\n",
    "        size = 1000 to 600\n",
    "        title = \"Fuel consumption\"\n",
    "    }\n",
    "}}"
   ]
  },
  {
   "cell_type": "code",
   "execution_count": null,
   "metadata": {},
   "outputs": [],
   "source": []
  }
 ],
 "metadata": {
  "datalore": {
   "base_environment": "default",
   "computation_mode": "JUPYTER",
   "package_manager": "pip",
   "packages": [],
   "version": 1
  },
  "kernelspec": {
   "display_name": "Kotlin",
   "language": "kotlin",
   "name": "kotlin"
  },
  "language_info": {
   "codemirror_mode": "text/x-kotlin",
   "file_extension": ".kt",
   "mimetype": "text/x-kotlin",
   "name": "kotlin",
   "nbconvert_exporter": "",
   "pygments_lexer": "kotlin",
   "version": "1.8.0-dev-707"
  }
 },
 "nbformat": 4,
 "nbformat_minor": 4
}
