{
 "cells": [
  {
   "cell_type": "markdown",
   "metadata": {
    "datalore": {
     "hide_input_from_viewers": false,
     "hide_output_from_viewers": false,
     "type": "MD"
    },
    "pycharm": {
     "name": "#%% md\n"
    }
   },
   "source": [
    "[Replica of the example from lets-plot(click)](https://nbviewer.org/github/JetBrains/lets-plot-kotlin/blob/master/docs/examples/jupyter-notebooks/error_bars.ipynb)"
   ]
  },
  {
   "cell_type": "code",
   "execution_count": 27,
   "metadata": {
    "pycharm": {
     "name": "#%%\n"
    }
   },
   "outputs": [
    {
     "data": {
      "text/html": [
       "   <div id=\"4VOwIZ\"></div>\n",
       "   <script type=\"text/javascript\" data-lets-plot-script=\"library\">\n",
       "       if(!window.letsPlotCallQueue) {\n",
       "           window.letsPlotCallQueue = [];\n",
       "       }; \n",
       "       window.letsPlotCall = function(f) {\n",
       "           window.letsPlotCallQueue.push(f);\n",
       "       };\n",
       "       (function() {\n",
       "           var script = document.createElement(\"script\");\n",
       "           script.type = \"text/javascript\";\n",
       "           script.src = \"https://cdn.jsdelivr.net/gh/JetBrains/lets-plot@v2.3.0/js-package/distr/lets-plot.min.js\";\n",
       "           script.onload = function() {\n",
       "               window.letsPlotCall = function(f) {f();};\n",
       "               window.letsPlotCallQueue.forEach(function(f) {f();});\n",
       "               window.letsPlotCallQueue = [];\n",
       "               \n",
       "               \n",
       "           };\n",
       "           script.onerror = function(event) {\n",
       "               window.letsPlotCall = function(f) {};\n",
       "               window.letsPlotCallQueue = [];\n",
       "               var div = document.createElement(\"div\");\n",
       "               div.style.color = 'darkred';\n",
       "               div.textContent = 'Error loading Lets-Plot JS';\n",
       "               document.getElementById(\"4VOwIZ\").appendChild(div);\n",
       "           };\n",
       "           var e = document.getElementById(\"4VOwIZ\");\n",
       "           e.appendChild(script);\n",
       "       })();\n",
       "   </script>"
      ]
     },
     "metadata": {},
     "output_type": "display_data"
    }
   ],
   "source": [
    "%useLatestDescriptors\n",
    "%use lets-plot\n",
    "%use ggdsl-lets-plot"
   ]
  },
  {
   "cell_type": "code",
   "execution_count": 28,
   "metadata": {
    "pycharm": {
     "name": "#%%\n"
    }
   },
   "outputs": [],
   "source": [
    "val dataset: NamedData = mapOf(\n",
    "    \"supp\" to listOf(\"OJ\", \"OJ\", \"OJ\", \"VC\", \"VC\", \"VC\"),\n",
    "    \"dose\" to listOf(0.5, 1.0, 2.0, 0.5, 1.0, 2.0),\n",
    "    \"length\" to listOf(13.23, 22.70, 26.06, 7.98, 16.77, 26.14),\n",
    "    \"len_min\" to listOf(11.83, 21.2, 24.50, 4.24, 15.26, 23.35),\n",
    "    \"len_max\" to listOf(15.63, 24.9, 27.11, 10.72, 19.28, 28.93)\n",
    ")"
   ]
  },
  {
   "cell_type": "code",
   "execution_count": 29,
   "metadata": {
    "pycharm": {
     "name": "#%%\n"
    }
   },
   "outputs": [],
   "source": [
    "val supp = source<String>(\"supp\")\n",
    "val dose = source<Double>(\"dose\")\n",
    "val length = source<Double>(\"length\")\n",
    "val lenMin = source<Double>(\"len_min\")\n",
    "val lenMax = source<Double>(\"len_max\")"
   ]
  },
  {
   "cell_type": "code",
   "execution_count": 30,
   "metadata": {
    "pycharm": {
     "name": "#%%\n"
    }
   },
   "outputs": [
    {
     "data": {
      "text/html": [
       "   <div id=\"WNt0p1\"></div>\n",
       "   <script type=\"text/javascript\" data-lets-plot-script=\"plot\">\n",
       "       (function() {\n",
       "           var plotSpec={\n",
       "\"mapping\":{\n",
       "},\n",
       "\"data\":{\n",
       "},\n",
       "\"kind\":\"plot\",\n",
       "\"scales\":[],\n",
       "\"layers\":[{\n",
       "\"mapping\":{\n",
       "\"x\":\"dose\",\n",
       "\"ymin\":\"len_min\",\n",
       "\"ymax\":\"len_max\",\n",
       "\"color\":\"supp\"\n",
       "},\n",
       "\"stat\":\"identity\",\n",
       "\"data\":{\n",
       "\"dose\":[0.5,1.0,2.0,0.5,1.0,2.0],\n",
       "\"supp\":[\"OJ\",\"OJ\",\"OJ\",\"VC\",\"VC\",\"VC\"],\n",
       "\"len_min\":[11.83,21.2,24.5,4.24,15.26,23.35],\n",
       "\"len_max\":[15.63,24.9,27.11,10.72,19.28,28.93]\n",
       "},\n",
       "\"width\":0.1,\n",
       "\"position\":\"identity\",\n",
       "\"geom\":\"errorbar\"\n",
       "},{\n",
       "\"mapping\":{\n",
       "\"x\":\"dose\",\n",
       "\"y\":\"length\",\n",
       "\"color\":\"supp\"\n",
       "},\n",
       "\"stat\":\"identity\",\n",
       "\"data\":{\n",
       "\"dose\":[0.5,1.0,2.0,0.5,1.0,2.0],\n",
       "\"supp\":[\"OJ\",\"OJ\",\"OJ\",\"VC\",\"VC\",\"VC\"],\n",
       "\"length\":[13.23,22.7,26.06,7.98,16.77,26.14]\n",
       "},\n",
       "\"position\":\"identity\",\n",
       "\"geom\":\"path\"\n",
       "},{\n",
       "\"mapping\":{\n",
       "\"x\":\"dose\",\n",
       "\"y\":\"length\",\n",
       "\"fill\":\"supp\"\n",
       "},\n",
       "\"stat\":\"identity\",\n",
       "\"data\":{\n",
       "\"dose\":[0.5,1.0,2.0,0.5,1.0,2.0],\n",
       "\"supp\":[\"OJ\",\"OJ\",\"OJ\",\"VC\",\"VC\",\"VC\"],\n",
       "\"length\":[13.23,22.7,26.06,7.98,16.77,26.14]\n",
       "},\n",
       "\"shape\":21.0,\n",
       "\"position\":\"identity\",\n",
       "\"geom\":\"point\"\n",
       "}]\n",
       "};\n",
       "           var plotContainer = document.getElementById(\"WNt0p1\");\n",
       "           window.letsPlotCall(function() {{\n",
       "               LetsPlot.buildPlotFromProcessedSpecs(plotSpec, -1, -1, plotContainer);\n",
       "           }});\n",
       "       })();    \n",
       "   </script>"
      ]
     },
     "execution_count": 30,
     "metadata": {},
     "output_type": "execute_result"
    }
   ],
   "source": [
    "plot(dataset) {\n",
    "    x(dose)\n",
    "\n",
    "    errorBar {\n",
    "        yMin(lenMin)\n",
    "        yMax(lenMax)\n",
    "\n",
    "        color(supp)\n",
    "\n",
    "        width(.1)\n",
    "    }\n",
    "\n",
    "    line { // TODO grouping of diffrent layers???\n",
    "        y(length)\n",
    "\n",
    "        color(supp)\n",
    "    }\n",
    "\n",
    "    points {\n",
    "        y(length)\n",
    "\n",
    "        color(supp)\n",
    "     }\n",
    "}.toLestPlot()"
   ]
  },
  {
   "cell_type": "code",
   "execution_count": 31,
   "metadata": {
    "pycharm": {
     "name": "#%%\n"
    }
   },
   "outputs": [
    {
     "data": {
      "text/html": [
       "   <div id=\"2HBD1Z\"></div>\n",
       "   <script type=\"text/javascript\" data-lets-plot-script=\"plot\">\n",
       "       (function() {\n",
       "           var plotSpec={\n",
       "\"mapping\":{\n",
       "},\n",
       "\"data\":{\n",
       "},\n",
       "\"kind\":\"plot\",\n",
       "\"scales\":[],\n",
       "\"layers\":[{\n",
       "\"mapping\":{\n",
       "\"x\":\"dose\",\n",
       "\"ymin\":\"len_min\",\n",
       "\"ymax\":\"len_max\",\n",
       "\"color\":\"supp\"\n",
       "},\n",
       "\"stat\":\"identity\",\n",
       "\"data\":{\n",
       "\"dose\":[0.5,1.0,2.0,0.5,1.0,2.0],\n",
       "\"supp\":[\"OJ\",\"OJ\",\"OJ\",\"VC\",\"VC\",\"VC\"],\n",
       "\"len_min\":[11.83,21.2,24.5,4.24,15.26,23.35],\n",
       "\"len_max\":[15.63,24.9,27.11,10.72,19.28,28.93]\n",
       "},\n",
       "\"width\":0.1,\n",
       "\"position\":{\n",
       "\"name\":\"dodge\",\n",
       "\"width\":0.1,\n",
       "\"kind\":\"pos\"\n",
       "},\n",
       "\"geom\":\"errorbar\"\n",
       "},{\n",
       "\"mapping\":{\n",
       "\"x\":\"dose\",\n",
       "\"y\":\"length\",\n",
       "\"color\":\"supp\"\n",
       "},\n",
       "\"stat\":\"identity\",\n",
       "\"data\":{\n",
       "\"dose\":[0.5,1.0,2.0,0.5,1.0,2.0],\n",
       "\"supp\":[\"OJ\",\"OJ\",\"OJ\",\"VC\",\"VC\",\"VC\"],\n",
       "\"length\":[13.23,22.7,26.06,7.98,16.77,26.14]\n",
       "},\n",
       "\"position\":{\n",
       "\"name\":\"dodge\",\n",
       "\"width\":0.1,\n",
       "\"kind\":\"pos\"\n",
       "},\n",
       "\"geom\":\"path\"\n",
       "},{\n",
       "\"mapping\":{\n",
       "\"x\":\"dose\",\n",
       "\"y\":\"length\",\n",
       "\"fill\":\"supp\"\n",
       "},\n",
       "\"stat\":\"identity\",\n",
       "\"data\":{\n",
       "\"dose\":[0.5,1.0,2.0,0.5,1.0,2.0],\n",
       "\"supp\":[\"OJ\",\"OJ\",\"OJ\",\"VC\",\"VC\",\"VC\"],\n",
       "\"length\":[13.23,22.7,26.06,7.98,16.77,26.14]\n",
       "},\n",
       "\"shape\":21.0,\n",
       "\"position\":{\n",
       "\"name\":\"dodge\",\n",
       "\"width\":0.1,\n",
       "\"kind\":\"pos\"\n",
       "},\n",
       "\"geom\":\"point\"\n",
       "}]\n",
       "};\n",
       "           var plotContainer = document.getElementById(\"2HBD1Z\");\n",
       "           window.letsPlotCall(function() {{\n",
       "               LetsPlot.buildPlotFromProcessedSpecs(plotSpec, -1, -1, plotContainer);\n",
       "           }});\n",
       "       })();    \n",
       "   </script>"
      ]
     },
     "execution_count": 31,
     "metadata": {},
     "output_type": "execute_result"
    }
   ],
   "source": [
    "val pd = Position.Dodge(0.1)\n",
    "plot(dataset) {\n",
    "    x(dose)\n",
    "\n",
    "    errorBar {\n",
    "        yMin(lenMin)\n",
    "        yMax(lenMax)\n",
    "\n",
    "        color(supp)\n",
    "\n",
    "        width(.1)\n",
    "\n",
    "        position = pd\n",
    "    }\n",
    "\n",
    "    line {\n",
    "        y(length)\n",
    "\n",
    "        color(supp)\n",
    "\n",
    "        position = pd\n",
    "    }\n",
    "\n",
    "    points {\n",
    "        y(length)\n",
    "\n",
    "        color(supp)\n",
    "\n",
    "        position = pd\n",
    "     }\n",
    "}.toLestPlot()"
   ]
  },
  {
   "cell_type": "code",
   "execution_count": 32,
   "metadata": {
    "pycharm": {
     "name": "#%%\n"
    }
   },
   "outputs": [
    {
     "data": {
      "text/html": [
       "   <div id=\"SylTzz\"></div>\n",
       "   <script type=\"text/javascript\" data-lets-plot-script=\"plot\">\n",
       "       (function() {\n",
       "           var plotSpec={\n",
       "\"mapping\":{\n",
       "},\n",
       "\"data\":{\n",
       "},\n",
       "\"kind\":\"plot\",\n",
       "\"scales\":[],\n",
       "\"layers\":[{\n",
       "\"mapping\":{\n",
       "\"x\":\"dose\",\n",
       "\"ymin\":\"len_min\",\n",
       "\"ymax\":\"len_max\"\n",
       "},\n",
       "\"stat\":\"identity\",\n",
       "\"data\":{\n",
       "\"dose\":[0.5,1.0,2.0,0.5,1.0,2.0],\n",
       "\"len_min\":[11.83,21.2,24.5,4.24,15.26,23.35],\n",
       "\"len_max\":[15.63,24.9,27.11,10.72,19.28,28.93]\n",
       "},\n",
       "\"color\":\"black\",\n",
       "\"width\":0.1,\n",
       "\"position\":{\n",
       "\"name\":\"dodge\",\n",
       "\"width\":0.1,\n",
       "\"kind\":\"pos\"\n",
       "},\n",
       "\"geom\":\"errorbar\"\n",
       "},{\n",
       "\"mapping\":{\n",
       "\"x\":\"dose\",\n",
       "\"y\":\"length\",\n",
       "\"color\":\"supp\"\n",
       "},\n",
       "\"stat\":\"identity\",\n",
       "\"data\":{\n",
       "\"dose\":[0.5,1.0,2.0,0.5,1.0,2.0],\n",
       "\"supp\":[\"OJ\",\"OJ\",\"OJ\",\"VC\",\"VC\",\"VC\"],\n",
       "\"length\":[13.23,22.7,26.06,7.98,16.77,26.14]\n",
       "},\n",
       "\"position\":{\n",
       "\"name\":\"dodge\",\n",
       "\"width\":0.1,\n",
       "\"kind\":\"pos\"\n",
       "},\n",
       "\"geom\":\"path\"\n",
       "},{\n",
       "\"mapping\":{\n",
       "\"x\":\"dose\",\n",
       "\"y\":\"length\",\n",
       "\"fill\":\"supp\"\n",
       "},\n",
       "\"stat\":\"identity\",\n",
       "\"data\":{\n",
       "\"dose\":[0.5,1.0,2.0,0.5,1.0,2.0],\n",
       "\"supp\":[\"OJ\",\"OJ\",\"OJ\",\"VC\",\"VC\",\"VC\"],\n",
       "\"length\":[13.23,22.7,26.06,7.98,16.77,26.14]\n",
       "},\n",
       "\"shape\":21.0,\n",
       "\"position\":{\n",
       "\"name\":\"dodge\",\n",
       "\"width\":0.1,\n",
       "\"kind\":\"pos\"\n",
       "},\n",
       "\"geom\":\"point\"\n",
       "}]\n",
       "};\n",
       "           var plotContainer = document.getElementById(\"SylTzz\");\n",
       "           window.letsPlotCall(function() {{\n",
       "               LetsPlot.buildPlotFromProcessedSpecs(plotSpec, -1, -1, plotContainer);\n",
       "           }});\n",
       "       })();    \n",
       "   </script>"
      ]
     },
     "execution_count": 32,
     "metadata": {},
     "output_type": "execute_result"
    }
   ],
   "source": [
    "plot(dataset) {\n",
    "    x(dose)\n",
    "\n",
    "    errorBar {\n",
    "        yMin(lenMin)\n",
    "        yMax(lenMax)\n",
    "\n",
    "        color(Color.BLACK)\n",
    "\n",
    "        width(.1)\n",
    "\n",
    "        position = pd\n",
    "        // NO GROUPPING(((\n",
    "    }\n",
    "\n",
    "    line {\n",
    "        y(length)\n",
    "\n",
    "        color(supp)\n",
    "\n",
    "        position = pd\n",
    "    }\n",
    "\n",
    "    points {\n",
    "        y(length)\n",
    "\n",
    "        color(supp)\n",
    "\n",
    "        position = pd\n",
    "     }\n",
    "}.toLestPlot()"
   ]
  },
  {
   "cell_type": "code",
   "execution_count": 33,
   "metadata": {
    "pycharm": {
     "name": "#%%\n"
    }
   },
   "outputs": [],
   "source": [
    "val customColorScale = categorical<String, Color>(\n",
    "    rangeValues = listOf(Color.ORANGE, Color.fromName(\"dark_green\"))\n",
    ")"
   ]
  },
  {
   "cell_type": "code",
   "execution_count": null,
   "outputs": [],
   "source": [
    "plot(dataset) {\n",
    "    x(dose)\n",
    "\n",
    "    errorBar {\n",
    "        yMin(lenMin)\n",
    "        yMax(lenMax)\n",
    "\n",
    "        color(Color.BLACK)\n",
    "\n",
    "        width(.1)\n",
    "\n",
    "        position = pd\n",
    "    }\n",
    "\n",
    "    line {\n",
    "        y(length)\n",
    "\n",
    "        color(supp.scaled(customColorScale))\n",
    "\n",
    "        position = pd\n",
    "    }\n",
    "\n",
    "    points {\n",
    "        y(length)\n",
    "\n",
    "        size(5.0)\n",
    "        color(Color.WHITE)\n",
    "\n",
    "        position = pd\n",
    "     }\n",
    "\n",
    "     layout {\n",
    "         title = \"The Effect of Vitamin C on Tooth Growth in Guinea Pigs\" \n",
    "         size = 700 to 400\n",
    "     }\n",
    "}.toLestPlot()"
   ],
   "metadata": {
    "collapsed": false,
    "pycharm": {
     "name": "#%%\n"
    }
   }
  },
  {
   "cell_type": "code",
   "execution_count": null,
   "outputs": [],
   "source": [
    "plot(dataset) {\n",
    "    x(dose)\n",
    "\n",
    "    errorBar {\n",
    "        yMin(lenMin)\n",
    "        yMax(lenMax)\n",
    "\n",
    "        color(Color.BLACK)\n",
    "\n",
    "        width(.1)\n",
    "\n",
    "        position = pd\n",
    "    }\n",
    "\n",
    "    bars {\n",
    "        y(length)\n",
    "\n",
    "        color(supp.scaled(customColorScale))\n",
    "\n",
    "        borderColor(Color.BLACK)\n",
    "\n",
    "        position = Position.Dodge()\n",
    "     }\n",
    "}.toLestPlot()"
   ],
   "metadata": {
    "collapsed": false,
    "pycharm": {
     "name": "#%%\n"
    }
   }
  },
  {
   "cell_type": "code",
   "execution_count": null,
   "outputs": [],
   "source": [
    "plot(dataset) {\n",
    "    x(dose)\n",
    "\n",
    "    crossBar {\n",
    "        yMin(lenMin)\n",
    "        yMax(lenMax)\n",
    "        middle(length)\n",
    "\n",
    "        fatten(5.0)\n",
    "\n",
    "        color(supp.scaled(customColorScale)) // todo mappable borderColor???\n",
    "        position = Position.Dodge()\n",
    "     }\n",
    "\n",
    "     layout.size = 700 to 400\n",
    "}.toLestPlot()"
   ],
   "metadata": {
    "collapsed": false,
    "pycharm": {
     "name": "#%%\n"
    }
   }
  },
  {
   "cell_type": "code",
   "execution_count": null,
   "outputs": [],
   "source": [
    "plot(dataset) {\n",
    "    x(dose)\n",
    "\n",
    "    lineRange {\n",
    "        yMin(lenMin)\n",
    "        yMax(lenMax)\n",
    "\n",
    "        color(supp.scaled(customColorScale))\n",
    "        position = pd\n",
    "    }\n",
    "\n",
    "    line {\n",
    "        y(length)\n",
    "        color(supp.scaled(customColorScale))\n",
    "\n",
    "        position = pd\n",
    "    }\n",
    "}.toLestPlot()"
   ],
   "metadata": {
    "collapsed": false,
    "pycharm": {
     "name": "#%%\n"
    }
   }
  },
  {
   "cell_type": "code",
   "execution_count": null,
   "outputs": [],
   "source": [
    "plot(dataset) {\n",
    "    x(dose)\n",
    "\n",
    "    pointRange {\n",
    "        y(length)\n",
    "        yMin(lenMin)\n",
    "        yMax(lenMax)\n",
    "\n",
    "        lineColor(supp.scaled(customColorScale)) //TODO subgeom context\n",
    "        position = pd\n",
    "    }\n",
    "\n",
    "    line {\n",
    "        y(length)\n",
    "        color(supp.scaled(customColorScale))\n",
    "\n",
    "        position = pd\n",
    "    }\n",
    "}.toLestPlot()"
   ],
   "metadata": {
    "collapsed": false,
    "pycharm": {
     "name": "#%%\n"
    }
   }
  },
  {
   "cell_type": "code",
   "execution_count": null,
   "outputs": [],
   "source": [
    "plot(dataset) {\n",
    "    x(dose)\n",
    "\n",
    "    line {\n",
    "        y(length)\n",
    "        color(supp.scaled(customColorScale))\n",
    "\n",
    "        position = pd\n",
    "    }\n",
    "\n",
    "    pointRange {\n",
    "        y(length)\n",
    "        yMin(lenMin)\n",
    "        yMax(lenMax)\n",
    "\n",
    "        size(5.0)\n",
    "        fatten(1.0)\n",
    "        lineColor(Color.fromRGB(230, 230, 230))\n",
    "        pointColor(supp.scaled(customColorScale))\n",
    "\n",
    "        //TODO subgeom context\n",
    "        symbol(LetsPlotSymbol.DIAMOND)\n",
    "        position = pd\n",
    "    }\n",
    "\n",
    "}.toLestPlot()"
   ],
   "metadata": {
    "collapsed": false,
    "pycharm": {
     "name": "#%%\n"
    }
   }
  },
  {
   "cell_type": "markdown",
   "source": [
    "https://nbviewer.org/github/JetBrains/lets-plot-kotlin/blob/master/docs/examples/jupyter-notebooks/facets.ipynb"
   ],
   "metadata": {
    "collapsed": false,
    "pycharm": {
     "name": "#%% md\n"
    }
   }
  },
  {
   "cell_type": "code",
   "execution_count": null,
   "outputs": [],
   "source": [
    "%use dataframe"
   ],
   "metadata": {
    "collapsed": false,
    "pycharm": {
     "name": "#%%\n"
    }
   }
  },
  {
   "cell_type": "code",
   "execution_count": null,
   "outputs": [],
   "source": [
    "val mpgDF = DataFrame.readCSV(\"https://raw.githubusercontent.com/JetBrains/lets-plot-kotlin/master/docs/examples/data/mpg2.csv\")\n",
    "mpgDF.head(5)"
   ],
   "metadata": {
    "collapsed": false,
    "pycharm": {
     "name": "#%%\n"
    }
   }
  },
  {
   "cell_type": "code",
   "execution_count": null,
   "outputs": [],
   "source": [
    "mpgDF.schema()"
   ],
   "metadata": {
    "collapsed": false,
    "pycharm": {
     "name": "#%%\n"
    }
   }
  },
  {
   "cell_type": "code",
   "execution_count": null,
   "outputs": [],
   "source": [
    "fun DataFrame<*>.toNamedData(): NamedData {\n",
    "    return toMap().map { it.key to it.value.map { it!! } }.toMap()\n",
    "}\n",
    "val datasetMpg = mpgDF.toNamedData()"
   ],
   "metadata": {
    "collapsed": false,
    "pycharm": {
     "name": "#%%\n"
    }
   }
  },
  {
   "cell_type": "code",
   "execution_count": null,
   "outputs": [],
   "source": [
    "val mpg = source<Double>(\"miles per gallon\")\n",
    "val ehp = source<Int>(\"engine horsepower\")\n",
    "val origin = source<String>(\"origin of car\")\n",
    "val noc = source<Int>(\"number of cylinders\")"
   ],
   "metadata": {
    "collapsed": false,
    "pycharm": {
     "name": "#%%\n"
    }
   }
  },
  {
   "cell_type": "code",
   "execution_count": null,
   "outputs": [],
   "source": [
    "plot(datasetMpg) {\n",
    "    x(ehp)\n",
    "    y(mpg)\n",
    "    points { color(origin) }\n",
    "}.toLestPlot()"
   ],
   "metadata": {
    "collapsed": false,
    "pycharm": {
     "name": "#%%\n"
    }
   }
  },
  {
   "cell_type": "code",
   "execution_count": null,
   "outputs": [],
   "source": [
    "plot(datasetMpg) {\n",
    "    x(ehp)\n",
    "    y(mpg)\n",
    "    points { color(origin) }\n",
    "\n",
    "    facetGrid { x(noc) }\n",
    "}.toLestPlot()"
   ],
   "metadata": {
    "collapsed": false,
    "pycharm": {
     "name": "#%%\n"
    }
   }
  },
  {
   "cell_type": "code",
   "execution_count": null,
   "outputs": [],
   "source": [
    "plot(datasetMpg) {\n",
    "    x(ehp)\n",
    "    y(mpg)\n",
    "    points { color(origin) }\n",
    "\n",
    "    facetGrid { \n",
    "        x(noc) \n",
    "        y(origin)\n",
    "    }\n",
    "}.toLestPlot()"
   ],
   "metadata": {
    "collapsed": false,
    "pycharm": {
     "name": "#%%\n"
    }
   }
  },
  {
   "cell_type": "code",
   "execution_count": null,
   "outputs": [],
   "source": [
    "plot(datasetMpg) {\n",
    "    x(ehp)\n",
    "    y(mpg)\n",
    "    points { color(origin) }\n",
    "\n",
    "    facetGrid { \n",
    "        x(noc) \n",
    "        y(origin)\n",
    "        yOrder=OrderDirection.DESCENDING\n",
    "    }\n",
    "}.toLestPlot()"
   ],
   "metadata": {
    "collapsed": false,
    "pycharm": {
     "name": "#%%\n"
    }
   }
  },
  {
   "cell_type": "markdown",
   "source": [
    "EXAMPLE WITH MPG"
   ],
   "metadata": {
    "collapsed": false,
    "pycharm": {
     "name": "#%% md\n"
    }
   }
  },
  {
   "cell_type": "code",
   "execution_count": null,
   "outputs": [],
   "source": [
    "val mpgDF = DataFrame.readCSV(\"https://raw.githubusercontent.com/JetBrains/lets-plot-kotlin/master/docs/examples/data/mpg2.csv\")\n",
    "mpgDF.head(5)"
   ],
   "metadata": {
    "collapsed": false,
    "pycharm": {
     "name": "#%%\n"
    }
   }
  },
  {
   "cell_type": "code",
   "execution_count": null,
   "outputs": [],
   "source": [
    "fun DataFrame<*>.toNamedData(): NamedData {\n",
    "    return toMap().map { it.key to it.value.map { it!! } }.toMap()\n",
    "}\n",
    "val smallDf = mpgDF.shuffle().head(100)\n",
    "val datasetMpg = smallDf.toNamedData()\n",
    "\n",
    "val mpg = source<Double>(\"miles per gallon\")\n",
    "val ehp = source<Int>(\"engine horsepower\")\n",
    "val origin = source<String>(\"origin of car\")\n",
    "val noc = source<Int>(\"number of cylinders\")"
   ],
   "metadata": {
    "collapsed": false,
    "pycharm": {
     "name": "#%%\n"
    }
   }
  },
  {
   "cell_type": "code",
   "execution_count": null,
   "outputs": [],
   "source": [
    "plot(datasetMpg) { \n",
    "    x(mpg.scaled(\n",
    "        continuousPos(limits = 10.0 to 40.0)\n",
    "    ))\n",
    "    y(ehp)\n",
    "    points { \n",
    "       \n",
    "        symbol(LetsPlotSymbol.DIAMOND)\n",
    "        color(origin.scaled())\n",
    "        borderColor(Color.fromRGB(0, 0, 0))\n",
    "         \n",
    "        size(noc.scaled(\n",
    "            categorical(\n",
    "                domainCategories = listOf(3,4,5,6,7,8),\n",
    "                rangeValues = listOf(3.0, 4.0, 5.0, 6.0, 7.0, 8.0)\n",
    "            )\n",
    "        ))\n",
    "    }\n",
    "   \n",
    "    layout.size = 1000 to 600\n",
    "    layout {\n",
    "        title = \"Fuel consumption\"\n",
    "    }\n",
    "}.toLestPlot()"
   ],
   "metadata": {
    "collapsed": false,
    "pycharm": {
     "name": "#%%\n"
    }
   }
  },
  {
   "cell_type": "code",
   "execution_count": null,
   "outputs": [],
   "source": [],
   "metadata": {
    "collapsed": false,
    "pycharm": {
     "name": "#%%\n"
    }
   }
  },
  {
   "cell_type": "code",
   "execution_count": null,
   "metadata": {
    "pycharm": {
     "name": "#%%\n"
    }
   },
   "outputs": [],
   "source": []
  },
  {
   "cell_type": "code",
   "execution_count": null,
   "metadata": {},
   "outputs": [],
   "source": []
  }
 ],
 "metadata": {
  "datalore": {
   "base_environment": "default",
   "computation_mode": "JUPYTER",
   "package_manager": "pip",
   "packages": [],
   "version": 1
  },
  "kernelspec": {
   "display_name": "Kotlin",
   "language": "kotlin",
   "name": "kotlin"
  },
  "language_info": {
   "codemirror_mode": "text/x-kotlin",
   "file_extension": ".kt",
   "mimetype": "text/x-kotlin",
   "name": "kotlin",
   "nbconvert_exporter": "",
   "pygments_lexer": "kotlin",
   "version": "1.7.20-dev-1299"
  }
 },
 "nbformat": 4,
 "nbformat_minor": 4
}