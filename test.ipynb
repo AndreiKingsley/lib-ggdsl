{
 "cells": [
  {
   "cell_type": "code",
   "execution_count": 1,
   "outputs": [],
   "source": [],
   "metadata": {
    "collapsed": false,
    "ExecuteTime": {
     "end_time": "2023-07-10T13:13:25.098822Z",
     "start_time": "2023-07-10T13:13:25.077121Z"
    }
   }
  },
  {
   "cell_type": "code",
   "execution_count": 2,
   "outputs": [
    {
     "data": {
      "text/plain": ""
     },
     "metadata": {},
     "output_type": "display_data"
    },
    {
     "data": {
      "text/html": "            <div id=\"kotlin_out_0\"/>\n            <script type=\"text/javascript\">\n                            if(!window.kotlinQueues) {\n                window.kotlinQueues = {};\n            }\n            if(!window.kotlinQueues[\"kandyLetsPlot\"]) {\n                var resQueue = [];\n                window.kotlinQueues[\"kandyLetsPlot\"] = resQueue;\n                window[\"call_kandyLetsPlot\"] = function(f) {\n                    resQueue.push(f);\n                }\n            }\n            (function (){\n                var modifiers = [(function(script) {\n    script.src = \"https://cdn.jsdelivr.net/gh/JetBrains/lets-plot@v3.1.0/js-package/distr/lets-plot.min.js\"\n    script.type = \"text/javascript\";\n})];\n                var e = document.getElementById(\"kotlin_out_0\");\n                modifiers.forEach(function (gen) {\n                    var script = document.createElement(\"script\");\n                    gen(script)\n                    script.addEventListener(\"load\", function() {\n                        window[\"call_kandyLetsPlot\"] = function(f) {f();};\n                        window.kotlinQueues[\"kandyLetsPlot\"].forEach(function(f) {f();});\n                        window.kotlinQueues[\"kandyLetsPlot\"] = [];\n                    }, false);\n                    script.addEventListener(\"error\", function() {\n                        window[\"call_kandyLetsPlot\"] = function(f) {};\n                        window.kotlinQueues[\"kandyLetsPlot\"] = [];\n                        var div = document.createElement(\"div\");\n                        div.style.color = 'darkred';\n                        div.textContent = 'Error loading resource kandyLetsPlot';\n                        document.getElementById(\"kotlin_out_0\").appendChild(div);\n                    }, false);\n                    \n                    e.appendChild(script);\n                });\n            })();\n            </script>"
     },
     "metadata": {},
     "output_type": "display_data"
    }
   ],
   "source": [
    "@file:Repository(\"*mavenLocal\")\n",
    "@file:DependsOn(\"org.jetbrains.kotlinx:kandy-api:0.4.4\")\n",
    "@file:DependsOn(\"org.jetbrains.kotlinx:kandy-lets-plot:0.4.4\")"
   ],
   "metadata": {
    "collapsed": false,
    "ExecuteTime": {
     "end_time": "2023-07-10T13:13:34.638362Z",
     "start_time": "2023-07-10T13:13:25.081631Z"
    }
   }
  },
  {
   "cell_type": "code",
   "execution_count": 3,
   "outputs": [],
   "source": [
    "import kotlin.random.Random\n",
    "\n",
    "val randomValues = List(1000) { Random.nextDouble() }"
   ],
   "metadata": {
    "collapsed": false,
    "ExecuteTime": {
     "end_time": "2023-07-10T13:13:34.914094Z",
     "start_time": "2023-07-10T13:13:34.630161Z"
    }
   }
  },
  {
   "cell_type": "code",
   "execution_count": 4,
   "outputs": [],
   "source": [
    "val df = dataFrameOf(\n",
    "    \"values\" to randomValues\n",
    ")"
   ],
   "metadata": {
    "collapsed": false,
    "ExecuteTime": {
     "end_time": "2023-07-10T13:13:35.646218Z",
     "start_time": "2023-07-10T13:13:34.916830Z"
    }
   }
  },
  {
   "cell_type": "code",
   "execution_count": 5,
   "outputs": [
    {
     "data": {
      "text/html": "            <script type=\"text/javascript\" data-lets-plot-script=\"library\" src=\"https://cdn.jsdelivr.net/gh/JetBrains/lets-plot@v3.1.0/js-package/distr/lets-plot.min.js\"></script>    \n               <div id=\"rLDjHT\"></div>\n   <script type=\"text/javascript\" data-lets-plot-script=\"plot\">\n       var plotSpec={\n\"mapping\":{\n},\n\"data\":{\n\"STAT_COUNT\":[59.0,114.0,122.0,110.0,109.0,113.0,123.0,114.0,112.0,24.0],\n\"STAT_BINS\":[0.0,0.11387280541862128,0.22774561083724257,0.34161841625586387,0.45549122167448514,0.5693640270931064,0.6832368325117277,0.797109637930349,0.9109824433489703,1.0248552487675915]\n},\n\"kind\":\"plot\",\n\"scales\":[{\n\"aesthetic\":\"x\",\n\"limits\":[null,null]\n},{\n\"aesthetic\":\"y\",\n\"limits\":[null,null]\n}],\n\"layers\":[{\n\"mapping\":{\n\"x\":\"STAT_BINS\",\n\"y\":\"STAT_COUNT\"\n},\n\"stat\":\"identity\",\n\"sampling\":\"none\",\n\"position\":\"dodge\",\n\"geom\":\"bar\",\n\"data\":{\n}\n}]\n};\n       var plotContainer = document.getElementById(\"rLDjHT\");\n       LetsPlot.buildPlotFromProcessedSpecs(plotSpec, -1, -1, plotContainer);\n   </script>            \n        <svg id=183f2939-3034-4355-b42d-b95a5a374a66 xmlns=\"http://www.w3.org/2000/svg\" xmlns:xlink=\"http://www.w3.org/1999/xlink\" class=\"plt-container\" width=\"600.0\" height=\"400.0\">\n  <style type=\"text/css\">\n  .plt-container {\n   font-family: Lucida Grande, sans-serif;\n   user-select: none;\n   -webkit-user-select: none;\n   -moz-user-select: none;\n   -ms-user-select: none;\n}\ntext {\n   text-rendering: optimizeLegibility;\n}\n#pKSwxRM .plot-title {\n   fill: #474747;\n   font-family: Lucida Grande, sans-serif;\n   font-size: 16.0px;\n   font-weight: normal;\n   font-style: normal;   \n}\n#pKSwxRM .plot-subtitle {\n   fill: #474747;\n   font-family: Lucida Grande, sans-serif;\n   font-size: 15.0px;\n   font-weight: normal;\n   font-style: normal;   \n}\n#pKSwxRM .plot-caption {\n   fill: #474747;\n   font-family: Lucida Grande, sans-serif;\n   font-size: 13.0px;\n   font-weight: normal;\n   font-style: normal;   \n}\n#pKSwxRM .legend-title {\n   fill: #474747;\n   font-family: Lucida Grande, sans-serif;\n   font-size: 15.0px;\n   font-weight: normal;\n   font-style: normal;   \n}\n#pKSwxRM .legend-item {\n   fill: #474747;\n   font-family: Lucida Grande, sans-serif;\n   font-size: 13.0px;\n   font-weight: normal;\n   font-style: normal;   \n}\n#pKSwxRM .axis-title-x {\n   fill: #474747;\n   font-family: Lucida Grande, sans-serif;\n   font-size: 15.0px;\n   font-weight: normal;\n   font-style: normal;   \n}\n#pKSwxRM .axis-text-x {\n   fill: #474747;\n   font-family: Lucida Grande, sans-serif;\n   font-size: 13.0px;\n   font-weight: normal;\n   font-style: normal;   \n}\n#d0emTgy .axis-tooltip-text-x {\n   fill: #ffffff;\n   font-family: Lucida Grande, sans-serif;\n   font-size: 13.0px;\n   font-weight: normal;\n   font-style: normal;   \n}\n#pKSwxRM .axis-title-y {\n   fill: #474747;\n   font-family: Lucida Grande, sans-serif;\n   font-size: 15.0px;\n   font-weight: normal;\n   font-style: normal;   \n}\n#pKSwxRM .axis-text-y {\n   fill: #474747;\n   font-family: Lucida Grande, sans-serif;\n   font-size: 13.0px;\n   font-weight: normal;\n   font-style: normal;   \n}\n#d0emTgy .axis-tooltip-text-y {\n   fill: #ffffff;\n   font-family: Lucida Grande, sans-serif;\n   font-size: 13.0px;\n   font-weight: normal;\n   font-style: normal;   \n}\n#pKSwxRM .facet-strip-text-x {\n   fill: #474747;\n   font-family: Lucida Grande, sans-serif;\n   font-size: 13.0px;\n   font-weight: normal;\n   font-style: normal;   \n}\n#pKSwxRM .facet-strip-text-y {\n   fill: #474747;\n   font-family: Lucida Grande, sans-serif;\n   font-size: 13.0px;\n   font-weight: normal;\n   font-style: normal;   \n}\n#d0emTgy .tooltip-text {\n   fill: #474747;\n   font-family: Lucida Grande, sans-serif;\n   font-size: 13.0px;\n   font-weight: normal;\n   font-style: normal;   \n}\n#d0emTgy .tooltip-title {\n   fill: #474747;\n   font-family: Lucida Grande, sans-serif;\n   font-size: 13.0px;\n   font-weight: bold;\n   font-style: normal;   \n}\n#d0emTgy .tooltip-label {\n   fill: #474747;\n   font-family: Lucida Grande, sans-serif;\n   font-size: 13.0px;\n   font-weight: bold;\n   font-style: normal;   \n}\n\n  </style>\n  <g id=\"pKSwxRM\">\n    <rect x=\"0.0\" y=\"0.0\" height=\"400.0\" width=\"600.0\" stroke=\"rgb(71,71,71)\" stroke-opacity=\"1.0\" stroke-width=\"0.0\" fill=\"rgb(255,255,255)\" fill-opacity=\"1.0\">\n    </rect>\n    <g transform=\"translate(23.0 10.0 ) \">\n      <g transform=\"translate(29.941816366404606 344.0 ) \">\n        <line x1=\"46.60422254671695\" y1=\"-0.0\" x2=\"46.60422254671695\" y2=\"-344.0\" stroke=\"rgb(233,233,233)\" stroke-opacity=\"1.0\" stroke-width=\"1.0\">\n        </line>\n        <line x1=\"133.22128170192926\" y1=\"-0.0\" x2=\"133.22128170192926\" y2=\"-344.0\" stroke=\"rgb(233,233,233)\" stroke-opacity=\"1.0\" stroke-width=\"1.0\">\n        </line>\n        <line x1=\"219.8383408571416\" y1=\"-0.0\" x2=\"219.8383408571416\" y2=\"-344.0\" stroke=\"rgb(233,233,233)\" stroke-opacity=\"1.0\" stroke-width=\"1.0\">\n        </line>\n        <line x1=\"306.4554000123539\" y1=\"-0.0\" x2=\"306.4554000123539\" y2=\"-344.0\" stroke=\"rgb(233,233,233)\" stroke-opacity=\"1.0\" stroke-width=\"1.0\">\n        </line>\n        <line x1=\"393.0724591675662\" y1=\"-0.0\" x2=\"393.0724591675662\" y2=\"-344.0\" stroke=\"rgb(233,233,233)\" stroke-opacity=\"1.0\" stroke-width=\"1.0\">\n        </line>\n        <line x1=\"479.6895183227785\" y1=\"-0.0\" x2=\"479.6895183227785\" y2=\"-344.0\" stroke=\"rgb(233,233,233)\" stroke-opacity=\"1.0\" stroke-width=\"1.0\">\n        </line>\n        <g transform=\"translate(46.60422254671695 0.0 ) \">\n          <line stroke-width=\"1.0\" stroke=\"rgb(71,71,71)\" stroke-opacity=\"1.0\" x2=\"0.0\" y2=\"4.0\">\n          </line>\n          <g transform=\"translate(0.0 7.0 ) \">\n            <text class=\"axis-text-x\" text-anchor=\"middle\" dy=\"0.7em\">\n            0.0\n            </text>\n          </g>\n        </g>\n        <g transform=\"translate(133.22128170192926 0.0 ) \">\n          <line stroke-width=\"1.0\" stroke=\"rgb(71,71,71)\" stroke-opacity=\"1.0\" x2=\"0.0\" y2=\"4.0\">\n          </line>\n          <g transform=\"translate(0.0 7.0 ) \">\n            <text class=\"axis-text-x\" text-anchor=\"middle\" dy=\"0.7em\">\n            0.2\n            </text>\n          </g>\n        </g>\n        <g transform=\"translate(219.8383408571416 0.0 ) \">\n          <line stroke-width=\"1.0\" stroke=\"rgb(71,71,71)\" stroke-opacity=\"1.0\" x2=\"0.0\" y2=\"4.0\">\n          </line>\n          <g transform=\"translate(0.0 7.0 ) \">\n            <text class=\"axis-text-x\" text-anchor=\"middle\" dy=\"0.7em\">\n            0.4\n            </text>\n          </g>\n        </g>\n        <g transform=\"translate(306.4554000123539 0.0 ) \">\n          <line stroke-width=\"1.0\" stroke=\"rgb(71,71,71)\" stroke-opacity=\"1.0\" x2=\"0.0\" y2=\"4.0\">\n          </line>\n          <g transform=\"translate(0.0 7.0 ) \">\n            <text class=\"axis-text-x\" text-anchor=\"middle\" dy=\"0.7em\">\n            0.6\n            </text>\n          </g>\n        </g>\n        <g transform=\"translate(393.0724591675662 0.0 ) \">\n          <line stroke-width=\"1.0\" stroke=\"rgb(71,71,71)\" stroke-opacity=\"1.0\" x2=\"0.0\" y2=\"4.0\">\n          </line>\n          <g transform=\"translate(0.0 7.0 ) \">\n            <text class=\"axis-text-x\" text-anchor=\"middle\" dy=\"0.7em\">\n            0.8\n            </text>\n          </g>\n        </g>\n        <g transform=\"translate(479.6895183227785 0.0 ) \">\n          <line stroke-width=\"1.0\" stroke=\"rgb(71,71,71)\" stroke-opacity=\"1.0\" x2=\"0.0\" y2=\"4.0\">\n          </line>\n          <g transform=\"translate(0.0 7.0 ) \">\n            <text class=\"axis-text-x\" text-anchor=\"middle\" dy=\"0.7em\">\n            1.0\n            </text>\n          </g>\n        </g>\n        <line x1=\"0.0\" y1=\"0.0\" x2=\"537.0581836335954\" y2=\"0.0\" stroke-width=\"1.0\" stroke=\"rgb(71,71,71)\" stroke-opacity=\"1.0\">\n        </line>\n      </g>\n      <g transform=\"translate(29.941816366404606 0.0 ) \">\n        <line x1=\"0.0\" y1=\"290.7286101432443\" x2=\"537.0581836335954\" y2=\"290.7286101432443\" stroke=\"rgb(233,233,233)\" stroke-opacity=\"1.0\" stroke-width=\"1.0\">\n        </line>\n        <line x1=\"0.0\" y1=\"237.45722028648856\" x2=\"537.0581836335954\" y2=\"237.45722028648856\" stroke=\"rgb(233,233,233)\" stroke-opacity=\"1.0\" stroke-width=\"1.0\">\n        </line>\n        <line x1=\"0.0\" y1=\"184.18583042973287\" x2=\"537.0581836335954\" y2=\"184.18583042973287\" stroke=\"rgb(233,233,233)\" stroke-opacity=\"1.0\" stroke-width=\"1.0\">\n        </line>\n        <line x1=\"0.0\" y1=\"130.91444057297716\" x2=\"537.0581836335954\" y2=\"130.91444057297716\" stroke=\"rgb(233,233,233)\" stroke-opacity=\"1.0\" stroke-width=\"1.0\">\n        </line>\n        <line x1=\"0.0\" y1=\"77.64305071622147\" x2=\"537.0581836335954\" y2=\"77.64305071622147\" stroke=\"rgb(233,233,233)\" stroke-opacity=\"1.0\" stroke-width=\"1.0\">\n        </line>\n        <line x1=\"0.0\" y1=\"24.37166085946575\" x2=\"537.0581836335954\" y2=\"24.37166085946575\" stroke=\"rgb(233,233,233)\" stroke-opacity=\"1.0\" stroke-width=\"1.0\">\n        </line>\n        <g transform=\"translate(0.0 344.0 ) \">\n          <g transform=\"translate(-3.0 0.0 ) \">\n            <text class=\"axis-text-y\" text-anchor=\"end\" dy=\"0.35em\">\n            0\n            </text>\n          </g>\n        </g>\n        <g transform=\"translate(0.0 290.7286101432443 ) \">\n          <g transform=\"translate(-3.0 0.0 ) \">\n            <text class=\"axis-text-y\" text-anchor=\"end\" dy=\"0.35em\">\n            20\n            </text>\n          </g>\n        </g>\n        <g transform=\"translate(0.0 237.45722028648856 ) \">\n          <g transform=\"translate(-3.0 0.0 ) \">\n            <text class=\"axis-text-y\" text-anchor=\"end\" dy=\"0.35em\">\n            40\n            </text>\n          </g>\n        </g>\n        <g transform=\"translate(0.0 184.18583042973287 ) \">\n          <g transform=\"translate(-3.0 0.0 ) \">\n            <text class=\"axis-text-y\" text-anchor=\"end\" dy=\"0.35em\">\n            60\n            </text>\n          </g>\n        </g>\n        <g transform=\"translate(0.0 130.91444057297716 ) \">\n          <g transform=\"translate(-3.0 0.0 ) \">\n            <text class=\"axis-text-y\" text-anchor=\"end\" dy=\"0.35em\">\n            80\n            </text>\n          </g>\n        </g>\n        <g transform=\"translate(0.0 77.64305071622147 ) \">\n          <g transform=\"translate(-3.0 0.0 ) \">\n            <text class=\"axis-text-y\" text-anchor=\"end\" dy=\"0.35em\">\n            100\n            </text>\n          </g>\n        </g>\n        <g transform=\"translate(0.0 24.37166085946575 ) \">\n          <g transform=\"translate(-3.0 0.0 ) \">\n            <text class=\"axis-text-y\" text-anchor=\"end\" dy=\"0.35em\">\n            120\n            </text>\n          </g>\n        </g>\n      </g>\n      <g transform=\"translate(29.941816366404606 0.0 ) \" clip-path=\"url(#clNej0R)\" clip-bounds-jfx=\"[rect (0.0, 0.0), (537.0581836335954, 344.0)]\">\n        <defs>\n          <clipPath id=\"clNej0R\">\n            <rect x=\"0.0\" y=\"0.0\" width=\"537.0581836335954\" height=\"344.0\">\n            </rect>\n          </clipPath>\n        </defs>\n        <rect x=\"468.2614741598704\" y=\"280.07433217189316\" height=\"63.92566782810684\" width=\"44.38497385401621\" stroke=\"rgb(0,0,0)\" stroke-opacity=\"0.0\" fill=\"rgb(17,142,216)\" fill-opacity=\"1.0\" stroke-width=\"1.0\">\n        </rect>\n        <rect x=\"418.9448365442969\" y=\"45.68021680216805\" height=\"298.31978319783195\" width=\"44.38497385401615\" stroke=\"rgb(0,0,0)\" stroke-opacity=\"0.0\" fill=\"rgb(17,142,216)\" fill-opacity=\"1.0\" stroke-width=\"1.0\">\n        </rect>\n        <rect x=\"369.6281989287234\" y=\"40.35307781649243\" height=\"303.64692218350757\" width=\"44.384973854016096\" stroke=\"rgb(0,0,0)\" stroke-opacity=\"0.0\" fill=\"rgb(17,142,216)\" fill-opacity=\"1.0\" stroke-width=\"1.0\">\n        </rect>\n        <rect x=\"320.3115613131499\" y=\"16.38095238095235\" height=\"327.61904761904765\" width=\"44.384973854016096\" stroke=\"rgb(0,0,0)\" stroke-opacity=\"0.0\" fill=\"rgb(17,142,216)\" fill-opacity=\"1.0\" stroke-width=\"1.0\">\n        </rect>\n        <rect x=\"270.9949236975764\" y=\"43.01664730933021\" height=\"300.9833526906698\" width=\"44.38497385401615\" stroke=\"rgb(0,0,0)\" stroke-opacity=\"0.0\" fill=\"rgb(17,142,216)\" fill-opacity=\"1.0\" stroke-width=\"1.0\">\n        </rect>\n        <rect x=\"221.6782860820029\" y=\"53.67092528068139\" height=\"290.3290747193186\" width=\"44.384973854016096\" stroke=\"rgb(0,0,0)\" stroke-opacity=\"0.0\" fill=\"rgb(17,142,216)\" fill-opacity=\"1.0\" stroke-width=\"1.0\">\n        </rect>\n        <rect x=\"172.36164846642941\" y=\"51.00735578784361\" height=\"292.9926442121564\" width=\"44.384973854016124\" stroke=\"rgb(0,0,0)\" stroke-opacity=\"0.0\" fill=\"rgb(17,142,216)\" fill-opacity=\"1.0\" stroke-width=\"1.0\">\n        </rect>\n        <rect x=\"123.0450108508559\" y=\"19.04452187379019\" height=\"324.9554781262098\" width=\"44.384973854016124\" stroke=\"rgb(0,0,0)\" stroke-opacity=\"0.0\" fill=\"rgb(17,142,216)\" fill-opacity=\"1.0\" stroke-width=\"1.0\">\n        </rect>\n        <rect x=\"73.72837323528239\" y=\"40.35307781649243\" height=\"303.64692218350757\" width=\"44.384973854016124\" stroke=\"rgb(0,0,0)\" stroke-opacity=\"0.0\" fill=\"rgb(17,142,216)\" fill-opacity=\"1.0\" stroke-width=\"1.0\">\n        </rect>\n        <rect x=\"24.411735619708885\" y=\"186.84939992257065\" height=\"157.15060007742935\" width=\"44.38497385401612\" stroke=\"rgb(0,0,0)\" stroke-opacity=\"0.0\" fill=\"rgb(17,142,216)\" fill-opacity=\"1.0\" stroke-width=\"1.0\">\n        </rect>\n      </g>\n    </g>\n    <g transform=\"translate(14.5 182.0 ) rotate(-90.0 ) \">\n      <text class=\"axis-title-y\" y=\"0.0\" text-anchor=\"middle\">\n      STAT_COUNT\n      </text>\n    </g>\n    <g transform=\"translate(321.4709081832023 391.5 ) \">\n      <text class=\"axis-title-x\" y=\"0.0\" text-anchor=\"middle\">\n      STAT_BINS\n      </text>\n    </g>\n  </g>\n  <g id=\"d0emTgy\">\n  </g>\n</svg>\n        <script>document.getElementById(\"183f2939-3034-4355-b42d-b95a5a374a66\").style.display = \"none\";</script>",
      "application/plot+json": {
       "output_type": "lets_plot_spec",
       "output": {
        "mapping": {},
        "data": {
         "STAT_COUNT": [
          59.0,
          114.0,
          122.0,
          110.0,
          109.0,
          113.0,
          123.0,
          114.0,
          112.0,
          24.0
         ],
         "STAT_BINS": [
          0.0,
          0.113872804,
          0.22774561,
          0.34161842,
          0.45549121,
          0.569364,
          0.68323684,
          0.79710966,
          0.91098243,
          1.0248553
         ]
        },
        "kind": "plot",
        "scales": [
         {
          "aesthetic": "x",
          "limits": [
           null,
           null
          ]
         },
         {
          "aesthetic": "y",
          "limits": [
           null,
           null
          ]
         }
        ],
        "layers": [
         {
          "mapping": {
           "x": "STAT_BINS",
           "y": "STAT_COUNT"
          },
          "stat": "identity",
          "sampling": "none",
          "position": "dodge",
          "geom": "bar"
         }
        ]
       },
       "apply_color_scheme": true,
       "swing_enabled": true
      }
     },
     "execution_count": 5,
     "metadata": {},
     "output_type": "execute_result"
    }
   ],
   "source": [
    "randomValues.histogram()"
   ],
   "metadata": {
    "collapsed": false,
    "ExecuteTime": {
     "end_time": "2023-07-10T13:13:36.232602Z",
     "start_time": "2023-07-10T13:13:35.648221Z"
    }
   }
  },
  {
   "cell_type": "code",
   "execution_count": 6,
   "outputs": [
    {
     "data": {
      "text/html": "            <script type=\"text/javascript\" data-lets-plot-script=\"library\" src=\"https://cdn.jsdelivr.net/gh/JetBrains/lets-plot@v3.1.0/js-package/distr/lets-plot.min.js\"></script>    \n               <div id=\"G0tHi4\"></div>\n   <script type=\"text/javascript\" data-lets-plot-script=\"plot\">\n       var plotSpec={\n\"ggtitle\":{\n\"text\":\"Values distribution\"\n},\n\"mapping\":{\n},\n\"data\":{\n\"STAT_DENSITY\":[0.48454062229485767,1.1673024082557935,1.0351549658117414,1.2113515557371444,0.9250320971083648,1.3875481456625471,1.2113515557371444,1.0131303920710661,1.2333761294778196,0.9030075233676894,1.1232532607744428,1.0571795395524168,1.0131303920710661,1.255400703218495,0.9911058183303907,1.2994498506998455,1.1232532607744428,1.0792041132930923,0.9690812445897153,1.0792041132930923,0.4625160485541824,0.0],\n\"STAT_BINS\":[0.0,0.05,0.1,0.15000000000000002,0.2,0.25,0.30000000000000004,0.35000000000000003,0.4,0.45,0.5,0.55,0.6000000000000001,0.65,0.7000000000000001,0.75,0.8,0.8500000000000001,0.9,0.9500000000000001,1.0,1.05]\n},\n\"kind\":\"plot\",\n\"scales\":[{\n\"aesthetic\":\"x\",\n\"limits\":[null,null]\n},{\n\"aesthetic\":\"y\",\n\"limits\":[null,null]\n},{\n\"aesthetic\":\"fill\",\n\"scale_mapper_kind\":\"color_gradient\",\n\"high\":\"#ee6666\",\n\"low\":\"#3ba272\",\n\"limits\":[null,null]\n}],\n\"layers\":[{\n\"mapping\":{\n\"x\":\"STAT_BINS\",\n\"y\":\"STAT_DENSITY\",\n\"fill\":\"STAT_DENSITY\"\n},\n\"stat\":\"identity\",\n\"sampling\":\"none\",\n\"width\":1.0,\n\"position\":\"dodge\",\n\"geom\":\"bar\",\n\"data\":{\n}\n}]\n};\n       var plotContainer = document.getElementById(\"G0tHi4\");\n       LetsPlot.buildPlotFromProcessedSpecs(plotSpec, -1, -1, plotContainer);\n   </script>            \n        <svg id=50d3c3fb-7ac2-411e-b908-ff41c487a01f xmlns=\"http://www.w3.org/2000/svg\" xmlns:xlink=\"http://www.w3.org/1999/xlink\" class=\"plt-container\" width=\"600.0\" height=\"400.0\">\n  <style type=\"text/css\">\n  .plt-container {\n   font-family: Lucida Grande, sans-serif;\n   user-select: none;\n   -webkit-user-select: none;\n   -moz-user-select: none;\n   -ms-user-select: none;\n}\ntext {\n   text-rendering: optimizeLegibility;\n}\n#pQNTr3k .plot-title {\n   fill: #474747;\n   font-family: Lucida Grande, sans-serif;\n   font-size: 16.0px;\n   font-weight: normal;\n   font-style: normal;   \n}\n#pQNTr3k .plot-subtitle {\n   fill: #474747;\n   font-family: Lucida Grande, sans-serif;\n   font-size: 15.0px;\n   font-weight: normal;\n   font-style: normal;   \n}\n#pQNTr3k .plot-caption {\n   fill: #474747;\n   font-family: Lucida Grande, sans-serif;\n   font-size: 13.0px;\n   font-weight: normal;\n   font-style: normal;   \n}\n#pQNTr3k .legend-title {\n   fill: #474747;\n   font-family: Lucida Grande, sans-serif;\n   font-size: 15.0px;\n   font-weight: normal;\n   font-style: normal;   \n}\n#pQNTr3k .legend-item {\n   fill: #474747;\n   font-family: Lucida Grande, sans-serif;\n   font-size: 13.0px;\n   font-weight: normal;\n   font-style: normal;   \n}\n#pQNTr3k .axis-title-x {\n   fill: #474747;\n   font-family: Lucida Grande, sans-serif;\n   font-size: 15.0px;\n   font-weight: normal;\n   font-style: normal;   \n}\n#pQNTr3k .axis-text-x {\n   fill: #474747;\n   font-family: Lucida Grande, sans-serif;\n   font-size: 13.0px;\n   font-weight: normal;\n   font-style: normal;   \n}\n#djKsxXh .axis-tooltip-text-x {\n   fill: #ffffff;\n   font-family: Lucida Grande, sans-serif;\n   font-size: 13.0px;\n   font-weight: normal;\n   font-style: normal;   \n}\n#pQNTr3k .axis-title-y {\n   fill: #474747;\n   font-family: Lucida Grande, sans-serif;\n   font-size: 15.0px;\n   font-weight: normal;\n   font-style: normal;   \n}\n#pQNTr3k .axis-text-y {\n   fill: #474747;\n   font-family: Lucida Grande, sans-serif;\n   font-size: 13.0px;\n   font-weight: normal;\n   font-style: normal;   \n}\n#djKsxXh .axis-tooltip-text-y {\n   fill: #ffffff;\n   font-family: Lucida Grande, sans-serif;\n   font-size: 13.0px;\n   font-weight: normal;\n   font-style: normal;   \n}\n#pQNTr3k .facet-strip-text-x {\n   fill: #474747;\n   font-family: Lucida Grande, sans-serif;\n   font-size: 13.0px;\n   font-weight: normal;\n   font-style: normal;   \n}\n#pQNTr3k .facet-strip-text-y {\n   fill: #474747;\n   font-family: Lucida Grande, sans-serif;\n   font-size: 13.0px;\n   font-weight: normal;\n   font-style: normal;   \n}\n#djKsxXh .tooltip-text {\n   fill: #474747;\n   font-family: Lucida Grande, sans-serif;\n   font-size: 13.0px;\n   font-weight: normal;\n   font-style: normal;   \n}\n#djKsxXh .tooltip-title {\n   fill: #474747;\n   font-family: Lucida Grande, sans-serif;\n   font-size: 13.0px;\n   font-weight: bold;\n   font-style: normal;   \n}\n#djKsxXh .tooltip-label {\n   fill: #474747;\n   font-family: Lucida Grande, sans-serif;\n   font-size: 13.0px;\n   font-weight: bold;\n   font-style: normal;   \n}\n\n  </style>\n  <g id=\"pQNTr3k\">\n    <rect x=\"0.0\" y=\"0.0\" height=\"400.0\" width=\"600.0\" stroke=\"rgb(71,71,71)\" stroke-opacity=\"1.0\" stroke-width=\"0.0\" fill=\"rgb(255,255,255)\" fill-opacity=\"1.0\">\n    </rect>\n    <g transform=\"translate(23.0 34.0 ) \">\n      <g transform=\"translate(27.034701220281416 320.0 ) \">\n        <line x1=\"25.753766849055086\" y1=\"-0.0\" x2=\"25.753766849055086\" y2=\"-320.0\" stroke=\"rgb(233,233,233)\" stroke-opacity=\"1.0\" stroke-width=\"1.0\">\n        </line>\n        <line x1=\"90.13818397169284\" y1=\"-0.0\" x2=\"90.13818397169284\" y2=\"-320.0\" stroke=\"rgb(233,233,233)\" stroke-opacity=\"1.0\" stroke-width=\"1.0\">\n        </line>\n        <line x1=\"154.5226010943306\" y1=\"-0.0\" x2=\"154.5226010943306\" y2=\"-320.0\" stroke=\"rgb(233,233,233)\" stroke-opacity=\"1.0\" stroke-width=\"1.0\">\n        </line>\n        <line x1=\"218.90701821696837\" y1=\"-0.0\" x2=\"218.90701821696837\" y2=\"-320.0\" stroke=\"rgb(233,233,233)\" stroke-opacity=\"1.0\" stroke-width=\"1.0\">\n        </line>\n        <line x1=\"283.2914353396061\" y1=\"-0.0\" x2=\"283.2914353396061\" y2=\"-320.0\" stroke=\"rgb(233,233,233)\" stroke-opacity=\"1.0\" stroke-width=\"1.0\">\n        </line>\n        <line x1=\"347.6758524622438\" y1=\"-0.0\" x2=\"347.6758524622438\" y2=\"-320.0\" stroke=\"rgb(233,233,233)\" stroke-opacity=\"1.0\" stroke-width=\"1.0\">\n        </line>\n        <g transform=\"translate(25.753766849055086 0.0 ) \">\n          <line stroke-width=\"1.0\" stroke=\"rgb(71,71,71)\" stroke-opacity=\"1.0\" x2=\"0.0\" y2=\"4.0\">\n          </line>\n          <g transform=\"translate(0.0 7.0 ) \">\n            <text class=\"axis-text-x\" text-anchor=\"middle\" dy=\"0.7em\">\n            0.0\n            </text>\n          </g>\n        </g>\n        <g transform=\"translate(90.13818397169284 0.0 ) \">\n          <line stroke-width=\"1.0\" stroke=\"rgb(71,71,71)\" stroke-opacity=\"1.0\" x2=\"0.0\" y2=\"4.0\">\n          </line>\n          <g transform=\"translate(0.0 7.0 ) \">\n            <text class=\"axis-text-x\" text-anchor=\"middle\" dy=\"0.7em\">\n            0.2\n            </text>\n          </g>\n        </g>\n        <g transform=\"translate(154.5226010943306 0.0 ) \">\n          <line stroke-width=\"1.0\" stroke=\"rgb(71,71,71)\" stroke-opacity=\"1.0\" x2=\"0.0\" y2=\"4.0\">\n          </line>\n          <g transform=\"translate(0.0 7.0 ) \">\n            <text class=\"axis-text-x\" text-anchor=\"middle\" dy=\"0.7em\">\n            0.4\n            </text>\n          </g>\n        </g>\n        <g transform=\"translate(218.90701821696837 0.0 ) \">\n          <line stroke-width=\"1.0\" stroke=\"rgb(71,71,71)\" stroke-opacity=\"1.0\" x2=\"0.0\" y2=\"4.0\">\n          </line>\n          <g transform=\"translate(0.0 7.0 ) \">\n            <text class=\"axis-text-x\" text-anchor=\"middle\" dy=\"0.7em\">\n            0.6\n            </text>\n          </g>\n        </g>\n        <g transform=\"translate(283.2914353396061 0.0 ) \">\n          <line stroke-width=\"1.0\" stroke=\"rgb(71,71,71)\" stroke-opacity=\"1.0\" x2=\"0.0\" y2=\"4.0\">\n          </line>\n          <g transform=\"translate(0.0 7.0 ) \">\n            <text class=\"axis-text-x\" text-anchor=\"middle\" dy=\"0.7em\">\n            0.8\n            </text>\n          </g>\n        </g>\n        <g transform=\"translate(347.6758524622438 0.0 ) \">\n          <line stroke-width=\"1.0\" stroke=\"rgb(71,71,71)\" stroke-opacity=\"1.0\" x2=\"0.0\" y2=\"4.0\">\n          </line>\n          <g transform=\"translate(0.0 7.0 ) \">\n            <text class=\"axis-text-x\" text-anchor=\"middle\" dy=\"0.7em\">\n            1.0\n            </text>\n          </g>\n        </g>\n        <line x1=\"0.0\" y1=\"0.0\" x2=\"389.5257235919584\" y2=\"0.0\" stroke-width=\"1.0\" stroke=\"rgb(71,71,71)\" stroke-opacity=\"1.0\">\n        </line>\n      </g>\n      <g transform=\"translate(27.034701220281416 0.0 ) \">\n        <line x1=\"0.0\" y1=\"276.071880357509\" x2=\"389.5257235919584\" y2=\"276.071880357509\" stroke=\"rgb(233,233,233)\" stroke-opacity=\"1.0\" stroke-width=\"1.0\">\n        </line>\n        <line x1=\"0.0\" y1=\"232.14376071501795\" x2=\"389.5257235919584\" y2=\"232.14376071501795\" stroke=\"rgb(233,233,233)\" stroke-opacity=\"1.0\" stroke-width=\"1.0\">\n        </line>\n        <line x1=\"0.0\" y1=\"188.2156410725269\" x2=\"389.5257235919584\" y2=\"188.2156410725269\" stroke=\"rgb(233,233,233)\" stroke-opacity=\"1.0\" stroke-width=\"1.0\">\n        </line>\n        <line x1=\"0.0\" y1=\"144.28752143003587\" x2=\"389.5257235919584\" y2=\"144.28752143003587\" stroke=\"rgb(233,233,233)\" stroke-opacity=\"1.0\" stroke-width=\"1.0\">\n        </line>\n        <line x1=\"0.0\" y1=\"100.35940178754484\" x2=\"389.5257235919584\" y2=\"100.35940178754484\" stroke=\"rgb(233,233,233)\" stroke-opacity=\"1.0\" stroke-width=\"1.0\">\n        </line>\n        <line x1=\"0.0\" y1=\"56.43128214505384\" x2=\"389.5257235919584\" y2=\"56.43128214505384\" stroke=\"rgb(233,233,233)\" stroke-opacity=\"1.0\" stroke-width=\"1.0\">\n        </line>\n        <line x1=\"0.0\" y1=\"12.503162502562816\" x2=\"389.5257235919584\" y2=\"12.503162502562816\" stroke=\"rgb(233,233,233)\" stroke-opacity=\"1.0\" stroke-width=\"1.0\">\n        </line>\n        <g transform=\"translate(0.0 320.0 ) \">\n          <g transform=\"translate(-3.0 0.0 ) \">\n            <text class=\"axis-text-y\" text-anchor=\"end\" dy=\"0.35em\">\n            0.0\n            </text>\n          </g>\n        </g>\n        <g transform=\"translate(0.0 276.071880357509 ) \">\n          <g transform=\"translate(-3.0 0.0 ) \">\n            <text class=\"axis-text-y\" text-anchor=\"end\" dy=\"0.35em\">\n            0.2\n            </text>\n          </g>\n        </g>\n        <g transform=\"translate(0.0 232.14376071501795 ) \">\n          <g transform=\"translate(-3.0 0.0 ) \">\n            <text class=\"axis-text-y\" text-anchor=\"end\" dy=\"0.35em\">\n            0.4\n            </text>\n          </g>\n        </g>\n        <g transform=\"translate(0.0 188.2156410725269 ) \">\n          <g transform=\"translate(-3.0 0.0 ) \">\n            <text class=\"axis-text-y\" text-anchor=\"end\" dy=\"0.35em\">\n            0.6\n            </text>\n          </g>\n        </g>\n        <g transform=\"translate(0.0 144.28752143003587 ) \">\n          <g transform=\"translate(-3.0 0.0 ) \">\n            <text class=\"axis-text-y\" text-anchor=\"end\" dy=\"0.35em\">\n            0.8\n            </text>\n          </g>\n        </g>\n        <g transform=\"translate(0.0 100.35940178754484 ) \">\n          <g transform=\"translate(-3.0 0.0 ) \">\n            <text class=\"axis-text-y\" text-anchor=\"end\" dy=\"0.35em\">\n            1.0\n            </text>\n          </g>\n        </g>\n        <g transform=\"translate(0.0 56.43128214505384 ) \">\n          <g transform=\"translate(-3.0 0.0 ) \">\n            <text class=\"axis-text-y\" text-anchor=\"end\" dy=\"0.35em\">\n            1.2\n            </text>\n          </g>\n        </g>\n        <g transform=\"translate(0.0 12.503162502562816 ) \">\n          <g transform=\"translate(-3.0 0.0 ) \">\n            <text class=\"axis-text-y\" text-anchor=\"end\" dy=\"0.35em\">\n            1.4\n            </text>\n          </g>\n        </g>\n      </g>\n      <g transform=\"translate(27.034701220281416 0.0 ) \" clip-path=\"url(#cCIiCKr)\" clip-bounds-jfx=\"[rect (0.0, 0.0), (389.5257235919584, 320.0)]\">\n        <defs>\n          <clipPath id=\"cCIiCKr\">\n            <rect x=\"0.0\" y=\"0.0\" width=\"389.5257235919584\" height=\"320.0\">\n            </rect>\n          </clipPath>\n        </defs>\n        <rect x=\"355.7239046025736\" y=\"320.0\" height=\"0.1\" width=\"16.096104280659404\" stroke=\"rgb(0,0,0)\" stroke-opacity=\"0.0\" fill=\"rgb(59,163,115)\" fill-opacity=\"1.0\" stroke-width=\"1.0\">\n        </rect>\n        <rect x=\"339.62780032191415\" y=\"218.41269841269843\" height=\"101.58730158730157\" width=\"16.096104280659347\" stroke=\"rgb(0,0,0)\" stroke-opacity=\"0.0\" fill=\"rgb(108,188,72)\" fill-opacity=\"1.0\" stroke-width=\"1.0\">\n        </rect>\n        <rect x=\"323.5316960412547\" y=\"82.96296296296299\" height=\"237.037037037037\" width=\"16.096104280659404\" stroke=\"rgb(0,0,0)\" stroke-opacity=\"0.0\" fill=\"rgb(221,164,91)\" fill-opacity=\"1.0\" stroke-width=\"1.0\">\n        </rect>\n        <rect x=\"307.43559176059523\" y=\"107.15041572184435\" height=\"212.84958427815565\" width=\"16.096104280659404\" stroke=\"rgb(0,0,0)\" stroke-opacity=\"0.0\" fill=\"rgb(215,185,88)\" fill-opacity=\"1.0\" stroke-width=\"1.0\">\n        </rect>\n        <rect x=\"291.3394874799358\" y=\"82.96296296296299\" height=\"237.037037037037\" width=\"16.09610428065946\" stroke=\"rgb(0,0,0)\" stroke-opacity=\"0.0\" fill=\"rgb(221,164,91)\" fill-opacity=\"1.0\" stroke-width=\"1.0\">\n        </rect>\n        <rect x=\"275.2433831992764\" y=\"73.28798185941051\" height=\"246.7120181405895\" width=\"16.096104280659404\" stroke=\"rgb(0,0,0)\" stroke-opacity=\"0.0\" fill=\"rgb(223,156,93)\" fill-opacity=\"1.0\" stroke-width=\"1.0\">\n        </rect>\n        <rect x=\"259.14727891861696\" y=\"34.58805744520038\" height=\"285.4119425547996\" width=\"16.096104280659404\" stroke=\"rgb(0,0,0)\" stroke-opacity=\"0.0\" fill=\"rgb(232,120,99)\" fill-opacity=\"1.0\" stroke-width=\"1.0\">\n        </rect>\n        <rect x=\"243.05117463795753\" y=\"102.31292517006807\" height=\"217.68707482993193\" width=\"16.096104280659375\" stroke=\"rgb(0,0,0)\" stroke-opacity=\"0.0\" fill=\"rgb(216,181,89)\" fill-opacity=\"1.0\" stroke-width=\"1.0\">\n        </rect>\n        <rect x=\"226.95507035729807\" y=\"44.26303854875289\" height=\"275.7369614512471\" width=\"16.096104280659404\" stroke=\"rgb(0,0,0)\" stroke-opacity=\"0.0\" fill=\"rgb(230,129,97)\" fill-opacity=\"1.0\" stroke-width=\"1.0\">\n        </rect>\n        <rect x=\"210.8589660766387\" y=\"97.47543461829179\" height=\"222.52456538170821\" width=\"16.096104280659404\" stroke=\"rgb(0,0,0)\" stroke-opacity=\"0.0\" fill=\"rgb(217,177,89)\" fill-opacity=\"1.0\" stroke-width=\"1.0\">\n        </rect>\n        <rect x=\"194.76286179597923\" y=\"87.80045351473927\" height=\"232.19954648526073\" width=\"16.096104280659432\" stroke=\"rgb(0,0,0)\" stroke-opacity=\"0.0\" fill=\"rgb(220,168,91)\" fill-opacity=\"1.0\" stroke-width=\"1.0\">\n        </rect>\n        <rect x=\"178.66675751531977\" y=\"73.28798185941051\" height=\"246.7120181405895\" width=\"16.096104280659404\" stroke=\"rgb(0,0,0)\" stroke-opacity=\"0.0\" fill=\"rgb(223,156,93)\" fill-opacity=\"1.0\" stroke-width=\"1.0\">\n        </rect>\n        <rect x=\"162.57065323466034\" y=\"121.66288737717312\" height=\"198.33711262282688\" width=\"16.096104280659404\" stroke=\"rgb(0,0,0)\" stroke-opacity=\"0.0\" fill=\"rgb(211,197,86)\" fill-opacity=\"1.0\" stroke-width=\"1.0\">\n        </rect>\n        <rect x=\"146.47454895400088\" y=\"49.10052910052917\" height=\"270.8994708994708\" width=\"16.096104280659432\" stroke=\"rgb(0,0,0)\" stroke-opacity=\"0.0\" fill=\"rgb(229,134,97)\" fill-opacity=\"1.0\" stroke-width=\"1.0\">\n        </rect>\n        <rect x=\"130.37844467334145\" y=\"97.47543461829179\" height=\"222.52456538170821\" width=\"16.096104280659432\" stroke=\"rgb(0,0,0)\" stroke-opacity=\"0.0\" fill=\"rgb(217,177,89)\" fill-opacity=\"1.0\" stroke-width=\"1.0\">\n        </rect>\n        <rect x=\"114.28234039268202\" y=\"53.9380196523054\" height=\"266.0619803476946\" width=\"16.096104280659432\" stroke=\"rgb(0,0,0)\" stroke-opacity=\"0.0\" fill=\"rgb(228,138,96)\" fill-opacity=\"1.0\" stroke-width=\"1.0\">\n        </rect>\n        <rect x=\"98.18623611202257\" y=\"15.238095238095298\" height=\"304.7619047619047\" width=\"16.096104280659404\" stroke=\"rgb(0,0,0)\" stroke-opacity=\"0.0\" fill=\"rgb(237,102,102)\" fill-opacity=\"1.0\" stroke-width=\"1.0\">\n        </rect>\n        <rect x=\"82.09013183136314\" y=\"116.82539682539687\" height=\"203.17460317460313\" width=\"16.096104280659404\" stroke=\"rgb(0,0,0)\" stroke-opacity=\"0.0\" fill=\"rgb(213,193,86)\" fill-opacity=\"1.0\" stroke-width=\"1.0\">\n        </rect>\n        <rect x=\"65.9940275507037\" y=\"53.9380196523054\" height=\"266.0619803476946\" width=\"16.096104280659404\" stroke=\"rgb(0,0,0)\" stroke-opacity=\"0.0\" fill=\"rgb(228,138,96)\" fill-opacity=\"1.0\" stroke-width=\"1.0\">\n        </rect>\n        <rect x=\"49.89792327004426\" y=\"92.63794406651556\" height=\"227.36205593348444\" width=\"16.096104280659418\" stroke=\"rgb(0,0,0)\" stroke-opacity=\"0.0\" fill=\"rgb(218,173,90)\" fill-opacity=\"1.0\" stroke-width=\"1.0\">\n        </rect>\n        <rect x=\"33.80181898938481\" y=\"63.61300075585797\" height=\"256.38699924414203\" width=\"16.096104280659418\" stroke=\"rgb(0,0,0)\" stroke-opacity=\"0.0\" fill=\"rgb(225,147,94)\" fill-opacity=\"1.0\" stroke-width=\"1.0\">\n        </rect>\n        <rect x=\"17.705714708725377\" y=\"213.57520786092218\" height=\"106.42479213907782\" width=\"16.09610428065942\" stroke=\"rgb(0,0,0)\" stroke-opacity=\"0.0\" fill=\"rgb(113,189,73)\" fill-opacity=\"1.0\" stroke-width=\"1.0\">\n        </rect>\n      </g>\n    </g>\n    <g transform=\"translate(50.03470122028142 15.2 ) \">\n      <text class=\"plot-title\" y=\"0.0\">\n      Values distribution\n      </text>\n    </g>\n    <g transform=\"translate(14.5 194.0 ) rotate(-90.0 ) \">\n      <text class=\"axis-title-y\" y=\"0.0\" text-anchor=\"middle\">\n      STAT_DENSITY\n      </text>\n    </g>\n    <g transform=\"translate(244.79756301626063 391.5 ) \">\n      <text class=\"axis-title-x\" y=\"0.0\" text-anchor=\"middle\">\n      STAT_BINS\n      </text>\n    </g>\n    <g transform=\"translate(449.56042481223983 115.25 ) \">\n      <rect x=\"5.0\" y=\"5.0\" height=\"147.5\" width=\"140.4395751877602\" stroke=\"rgb(71,71,71)\" stroke-opacity=\"1.0\" stroke-width=\"0.0\" fill=\"rgb(255,255,255)\" fill-opacity=\"1.0\">\n      </rect>\n      <g transform=\"translate(10.0 10.0 ) \">\n        <g transform=\"translate(0.0 10.5 ) \">\n          <text class=\"legend-title\" y=\"0.0\">\n          STAT_DENSITY\n          </text>\n        </g>\n        <g transform=\"translate(0.0 22.5 ) \">\n          <g>\n            <rect x=\"0.0\" y=\"0.0\" height=\"115.0\" width=\"23.0\" stroke-width=\"0.0\" fill=\"rgb(235,109,101)\" fill-opacity=\"1.0\">\n            </rect>\n            <rect x=\"0.0\" y=\"7.55\" height=\"107.45\" width=\"23.0\" stroke-width=\"0.0\" fill=\"rgb(232,124,98)\" fill-opacity=\"1.0\">\n            </rect>\n            <rect x=\"0.0\" y=\"13.1\" height=\"101.9\" width=\"23.0\" stroke-width=\"0.0\" fill=\"rgb(228,138,96)\" fill-opacity=\"1.0\">\n            </rect>\n            <rect x=\"0.0\" y=\"18.65\" height=\"96.35\" width=\"23.0\" stroke-width=\"0.0\" fill=\"rgb(224,152,94)\" fill-opacity=\"1.0\">\n            </rect>\n            <rect x=\"0.0\" y=\"24.2\" height=\"90.8\" width=\"23.0\" stroke-width=\"0.0\" fill=\"rgb(221,165,91)\" fill-opacity=\"1.0\">\n            </rect>\n            <rect x=\"0.0\" y=\"29.75\" height=\"85.25\" width=\"23.0\" stroke-width=\"0.0\" fill=\"rgb(217,178,89)\" fill-opacity=\"1.0\">\n            </rect>\n            <rect x=\"0.0\" y=\"35.3\" height=\"79.7\" width=\"23.0\" stroke-width=\"0.0\" fill=\"rgb(213,191,87)\" fill-opacity=\"1.0\">\n            </rect>\n            <rect x=\"0.0\" y=\"40.849999999999994\" height=\"74.15\" width=\"23.0\" stroke-width=\"0.0\" fill=\"rgb(209,203,85)\" fill-opacity=\"1.0\">\n            </rect>\n            <rect x=\"0.0\" y=\"46.39999999999999\" height=\"68.60000000000001\" width=\"23.0\" stroke-width=\"0.0\" fill=\"rgb(196,206,82)\" fill-opacity=\"1.0\">\n            </rect>\n            <rect x=\"0.0\" y=\"51.94999999999999\" height=\"63.05000000000001\" width=\"23.0\" stroke-width=\"0.0\" fill=\"rgb(177,202,80)\" fill-opacity=\"1.0\">\n            </rect>\n            <rect x=\"0.0\" y=\"57.499999999999986\" height=\"57.500000000000014\" width=\"23.0\" stroke-width=\"0.0\" fill=\"rgb(159,198,78)\" fill-opacity=\"1.0\">\n            </rect>\n            <rect x=\"0.0\" y=\"63.04999999999998\" height=\"51.95000000000002\" width=\"23.0\" stroke-width=\"0.0\" fill=\"rgb(140,195,76)\" fill-opacity=\"1.0\">\n            </rect>\n            <rect x=\"0.0\" y=\"68.59999999999998\" height=\"46.40000000000002\" width=\"23.0\" stroke-width=\"0.0\" fill=\"rgb(123,191,74)\" fill-opacity=\"1.0\">\n            </rect>\n            <rect x=\"0.0\" y=\"74.14999999999998\" height=\"40.85000000000002\" width=\"23.0\" stroke-width=\"0.0\" fill=\"rgb(105,187,72)\" fill-opacity=\"1.0\">\n            </rect>\n            <rect x=\"0.0\" y=\"79.69999999999997\" height=\"35.300000000000026\" width=\"23.0\" stroke-width=\"0.0\" fill=\"rgb(88,184,70)\" fill-opacity=\"1.0\">\n            </rect>\n            <rect x=\"0.0\" y=\"85.24999999999997\" height=\"29.75000000000003\" width=\"23.0\" stroke-width=\"0.0\" fill=\"rgb(72,180,68)\" fill-opacity=\"1.0\">\n            </rect>\n            <rect x=\"0.0\" y=\"90.79999999999997\" height=\"24.20000000000003\" width=\"23.0\" stroke-width=\"0.0\" fill=\"rgb(66,176,76)\" fill-opacity=\"1.0\">\n            </rect>\n            <rect x=\"0.0\" y=\"96.34999999999997\" height=\"18.650000000000034\" width=\"23.0\" stroke-width=\"0.0\" fill=\"rgb(64,172,87)\" fill-opacity=\"1.0\">\n            </rect>\n            <rect x=\"0.0\" y=\"101.89999999999996\" height=\"13.100000000000037\" width=\"23.0\" stroke-width=\"0.0\" fill=\"rgb(62,169,98)\" fill-opacity=\"1.0\">\n            </rect>\n            <rect x=\"0.0\" y=\"107.44999999999996\" height=\"7.55000000000004\" width=\"23.0\" stroke-width=\"0.0\" fill=\"rgb(60,165,109)\" fill-opacity=\"1.0\">\n            </rect>\n            <line x1=\"0.0\" y1=\"113.0\" x2=\"4.6\" y2=\"113.0\" stroke-width=\"1.0\" stroke=\"rgb(255,255,255)\" stroke-opacity=\"1.0\">\n            </line>\n            <line x1=\"18.4\" y1=\"113.0\" x2=\"23.0\" y2=\"113.0\" stroke-width=\"1.0\" stroke=\"rgb(255,255,255)\" stroke-opacity=\"1.0\">\n            </line>\n            <g transform=\"translate(26.9903027277341 117.55 ) \">\n              <text class=\"legend-item\" y=\"0.0\">\n              0.0\n              </text>\n            </g>\n            <line x1=\"0.0\" y1=\"97.00055517396146\" x2=\"4.6\" y2=\"97.00055517396146\" stroke-width=\"1.0\" stroke=\"rgb(255,255,255)\" stroke-opacity=\"1.0\">\n            </line>\n            <line x1=\"18.4\" y1=\"97.00055517396146\" x2=\"23.0\" y2=\"97.00055517396146\" stroke-width=\"1.0\" stroke=\"rgb(255,255,255)\" stroke-opacity=\"1.0\">\n            </line>\n            <g transform=\"translate(26.9903027277341 101.55055517396146 ) \">\n              <text class=\"legend-item\" y=\"0.0\">\n              0.2\n              </text>\n            </g>\n            <line x1=\"0.0\" y1=\"81.00111034792293\" x2=\"4.6\" y2=\"81.00111034792293\" stroke-width=\"1.0\" stroke=\"rgb(255,255,255)\" stroke-opacity=\"1.0\">\n            </line>\n            <line x1=\"18.4\" y1=\"81.00111034792293\" x2=\"23.0\" y2=\"81.00111034792293\" stroke-width=\"1.0\" stroke=\"rgb(255,255,255)\" stroke-opacity=\"1.0\">\n            </line>\n            <g transform=\"translate(26.9903027277341 85.55111034792293 ) \">\n              <text class=\"legend-item\" y=\"0.0\">\n              0.4\n              </text>\n            </g>\n            <line x1=\"0.0\" y1=\"65.0016655218844\" x2=\"4.6\" y2=\"65.0016655218844\" stroke-width=\"1.0\" stroke=\"rgb(255,255,255)\" stroke-opacity=\"1.0\">\n            </line>\n            <line x1=\"18.4\" y1=\"65.0016655218844\" x2=\"23.0\" y2=\"65.0016655218844\" stroke-width=\"1.0\" stroke=\"rgb(255,255,255)\" stroke-opacity=\"1.0\">\n            </line>\n            <g transform=\"translate(26.9903027277341 69.5516655218844 ) \">\n              <text class=\"legend-item\" y=\"0.0\">\n              0.6\n              </text>\n            </g>\n            <line x1=\"0.0\" y1=\"49.002220695845864\" x2=\"4.6\" y2=\"49.002220695845864\" stroke-width=\"1.0\" stroke=\"rgb(255,255,255)\" stroke-opacity=\"1.0\">\n            </line>\n            <line x1=\"18.4\" y1=\"49.002220695845864\" x2=\"23.0\" y2=\"49.002220695845864\" stroke-width=\"1.0\" stroke=\"rgb(255,255,255)\" stroke-opacity=\"1.0\">\n            </line>\n            <g transform=\"translate(26.9903027277341 53.55222069584586 ) \">\n              <text class=\"legend-item\" y=\"0.0\">\n              0.8\n              </text>\n            </g>\n            <line x1=\"0.0\" y1=\"33.00277586980734\" x2=\"4.6\" y2=\"33.00277586980734\" stroke-width=\"1.0\" stroke=\"rgb(255,255,255)\" stroke-opacity=\"1.0\">\n            </line>\n            <line x1=\"18.4\" y1=\"33.00277586980734\" x2=\"23.0\" y2=\"33.00277586980734\" stroke-width=\"1.0\" stroke=\"rgb(255,255,255)\" stroke-opacity=\"1.0\">\n            </line>\n            <g transform=\"translate(26.9903027277341 37.552775869807334 ) \">\n              <text class=\"legend-item\" y=\"0.0\">\n              1.0\n              </text>\n            </g>\n            <line x1=\"0.0\" y1=\"17.00333104376881\" x2=\"4.6\" y2=\"17.00333104376881\" stroke-width=\"1.0\" stroke=\"rgb(255,255,255)\" stroke-opacity=\"1.0\">\n            </line>\n            <line x1=\"18.4\" y1=\"17.00333104376881\" x2=\"23.0\" y2=\"17.00333104376881\" stroke-width=\"1.0\" stroke=\"rgb(255,255,255)\" stroke-opacity=\"1.0\">\n            </line>\n            <g transform=\"translate(26.9903027277341 21.553331043768807 ) \">\n              <text class=\"legend-item\" y=\"0.0\">\n              1.2\n              </text>\n            </g>\n          </g>\n        </g>\n      </g>\n    </g>\n  </g>\n  <g id=\"djKsxXh\">\n  </g>\n</svg>\n        <script>document.getElementById(\"50d3c3fb-7ac2-411e-b908-ff41c487a01f\").style.display = \"none\";</script>",
      "application/plot+json": {
       "output_type": "lets_plot_spec",
       "output": {
        "ggtitle": {
         "text": "Values distribution"
        },
        "mapping": {},
        "data": {
         "STAT_DENSITY": [
          0.4845406,
          1.1673024,
          1.0351549,
          1.2113515,
          0.9250321,
          1.3875481,
          1.2113515,
          1.0131304,
          1.2333761,
          0.9030075,
          1.1232532,
          1.0571796,
          1.0131304,
          1.2554007,
          0.9911058,
          1.2994498,
          1.1232532,
          1.0792041,
          0.9690812,
          1.0792041,
          0.46251604,
          0.0
         ],
         "STAT_COUNT": [
          22.0,
          53.0,
          47.0,
          55.0,
          42.0,
          63.0,
          55.0,
          46.0,
          56.0,
          41.0,
          51.0,
          48.0,
          46.0,
          57.0,
          45.0,
          59.0,
          51.0,
          49.0,
          44.0,
          49.0,
          21.0,
          0.0
         ],
         "STAT_BINS": [
          0.0,
          0.05,
          0.1,
          0.15,
          0.2,
          0.25,
          0.3,
          0.35,
          0.4,
          0.45,
          0.5,
          0.55,
          0.6,
          0.65,
          0.7,
          0.75,
          0.8,
          0.85,
          0.9,
          0.95,
          1.0,
          1.05
         ]
        },
        "kind": "plot",
        "scales": [
         {
          "aesthetic": "x",
          "limits": [
           null,
           null
          ]
         },
         {
          "aesthetic": "y",
          "limits": [
           null,
           null
          ]
         },
         {
          "aesthetic": "fill",
          "scale_mapper_kind": "color_gradient",
          "high": "#ee6666",
          "low": "#3ba272",
          "limits": [
           null,
           null
          ]
         }
        ],
        "layers": [
         {
          "mapping": {
           "x": "STAT_BINS",
           "y": "STAT_DENSITY",
           "fill": "STAT_DENSITY"
          },
          "stat": "identity",
          "sampling": "none",
          "width": 1.0,
          "position": "dodge",
          "geom": "bar"
         }
        ]
       },
       "apply_color_scheme": true,
       "swing_enabled": true
      }
     },
     "execution_count": 6,
     "metadata": {},
     "output_type": "execute_result"
    }
   ],
   "source": [
    "df.values.histogram(Bins.byWidth(0.05)) {\n",
    "    y(Stat.DENSITY)\n",
    "    fillColor(Stat.DENSITY) {\n",
    "        scale = continuous(Color.GREEN..Color.RED)\n",
    "    }\n",
    "    width = 1.0\n",
    "    layout.title = \"Values distribution\"\n",
    "}"
   ],
   "metadata": {
    "collapsed": false,
    "ExecuteTime": {
     "end_time": "2023-07-10T13:13:36.683674Z",
     "start_time": "2023-07-10T13:13:36.205246Z"
    }
   }
  },
  {
   "cell_type": "code",
   "execution_count": 7,
   "outputs": [
    {
     "data": {
      "text/html": "            <script type=\"text/javascript\" data-lets-plot-script=\"library\" src=\"https://cdn.jsdelivr.net/gh/JetBrains/lets-plot@v3.1.0/js-package/distr/lets-plot.min.js\"></script>    \n               <div id=\"BN7SK0\"></div>\n   <script type=\"text/javascript\" data-lets-plot-script=\"plot\">\n       var plotSpec={\n\"mapping\":{\n},\n\"data\":{\n\"STAT_COUNT\":[22.0,53.0,47.0,55.0,42.0,63.0,55.0,46.0,56.0,41.0,51.0,48.0,46.0,57.0,45.0,59.0,51.0,49.0,44.0,49.0,21.0,0.0],\n\"STAT_BINS\":[0.0,0.05,0.1,0.15000000000000002,0.2,0.25,0.30000000000000004,0.35000000000000003,0.4,0.45,0.5,0.55,0.6000000000000001,0.65,0.7000000000000001,0.75,0.8,0.8500000000000001,0.9,0.9500000000000001,1.0,1.05]\n},\n\"kind\":\"plot\",\n\"scales\":[{\n\"aesthetic\":\"x\",\n\"limits\":[null,null]\n},{\n\"aesthetic\":\"y\",\n\"limits\":[null,null]\n}],\n\"layers\":[{\n\"mapping\":{\n\"x\":\"STAT_BINS\",\n\"y\":\"STAT_COUNT\"\n},\n\"stat\":\"identity\",\n\"sampling\":\"none\",\n\"position\":\"dodge\",\n\"geom\":\"bar\",\n\"data\":{\n}\n}]\n};\n       var plotContainer = document.getElementById(\"BN7SK0\");\n       LetsPlot.buildPlotFromProcessedSpecs(plotSpec, -1, -1, plotContainer);\n   </script>            \n        <svg id=037a4601-649c-4d49-8b6b-fb4c25c8d7bf xmlns=\"http://www.w3.org/2000/svg\" xmlns:xlink=\"http://www.w3.org/1999/xlink\" class=\"plt-container\" width=\"600.0\" height=\"400.0\">\n  <style type=\"text/css\">\n  .plt-container {\n   font-family: Lucida Grande, sans-serif;\n   user-select: none;\n   -webkit-user-select: none;\n   -moz-user-select: none;\n   -ms-user-select: none;\n}\ntext {\n   text-rendering: optimizeLegibility;\n}\n#pWtfMfn .plot-title {\n   fill: #474747;\n   font-family: Lucida Grande, sans-serif;\n   font-size: 16.0px;\n   font-weight: normal;\n   font-style: normal;   \n}\n#pWtfMfn .plot-subtitle {\n   fill: #474747;\n   font-family: Lucida Grande, sans-serif;\n   font-size: 15.0px;\n   font-weight: normal;\n   font-style: normal;   \n}\n#pWtfMfn .plot-caption {\n   fill: #474747;\n   font-family: Lucida Grande, sans-serif;\n   font-size: 13.0px;\n   font-weight: normal;\n   font-style: normal;   \n}\n#pWtfMfn .legend-title {\n   fill: #474747;\n   font-family: Lucida Grande, sans-serif;\n   font-size: 15.0px;\n   font-weight: normal;\n   font-style: normal;   \n}\n#pWtfMfn .legend-item {\n   fill: #474747;\n   font-family: Lucida Grande, sans-serif;\n   font-size: 13.0px;\n   font-weight: normal;\n   font-style: normal;   \n}\n#pWtfMfn .axis-title-x {\n   fill: #474747;\n   font-family: Lucida Grande, sans-serif;\n   font-size: 15.0px;\n   font-weight: normal;\n   font-style: normal;   \n}\n#pWtfMfn .axis-text-x {\n   fill: #474747;\n   font-family: Lucida Grande, sans-serif;\n   font-size: 13.0px;\n   font-weight: normal;\n   font-style: normal;   \n}\n#dP1O9Eb .axis-tooltip-text-x {\n   fill: #ffffff;\n   font-family: Lucida Grande, sans-serif;\n   font-size: 13.0px;\n   font-weight: normal;\n   font-style: normal;   \n}\n#pWtfMfn .axis-title-y {\n   fill: #474747;\n   font-family: Lucida Grande, sans-serif;\n   font-size: 15.0px;\n   font-weight: normal;\n   font-style: normal;   \n}\n#pWtfMfn .axis-text-y {\n   fill: #474747;\n   font-family: Lucida Grande, sans-serif;\n   font-size: 13.0px;\n   font-weight: normal;\n   font-style: normal;   \n}\n#dP1O9Eb .axis-tooltip-text-y {\n   fill: #ffffff;\n   font-family: Lucida Grande, sans-serif;\n   font-size: 13.0px;\n   font-weight: normal;\n   font-style: normal;   \n}\n#pWtfMfn .facet-strip-text-x {\n   fill: #474747;\n   font-family: Lucida Grande, sans-serif;\n   font-size: 13.0px;\n   font-weight: normal;\n   font-style: normal;   \n}\n#pWtfMfn .facet-strip-text-y {\n   fill: #474747;\n   font-family: Lucida Grande, sans-serif;\n   font-size: 13.0px;\n   font-weight: normal;\n   font-style: normal;   \n}\n#dP1O9Eb .tooltip-text {\n   fill: #474747;\n   font-family: Lucida Grande, sans-serif;\n   font-size: 13.0px;\n   font-weight: normal;\n   font-style: normal;   \n}\n#dP1O9Eb .tooltip-title {\n   fill: #474747;\n   font-family: Lucida Grande, sans-serif;\n   font-size: 13.0px;\n   font-weight: bold;\n   font-style: normal;   \n}\n#dP1O9Eb .tooltip-label {\n   fill: #474747;\n   font-family: Lucida Grande, sans-serif;\n   font-size: 13.0px;\n   font-weight: bold;\n   font-style: normal;   \n}\n\n  </style>\n  <g id=\"pWtfMfn\">\n    <rect x=\"0.0\" y=\"0.0\" height=\"400.0\" width=\"600.0\" stroke=\"rgb(71,71,71)\" stroke-opacity=\"1.0\" stroke-width=\"0.0\" fill=\"rgb(255,255,255)\" fill-opacity=\"1.0\">\n    </rect>\n    <g transform=\"translate(23.0 10.0 ) \">\n      <g transform=\"translate(21.961210910936405 344.0 ) \">\n        <line x1=\"34.95578784319647\" y1=\"-0.0\" x2=\"34.95578784319647\" y2=\"-344.0\" stroke=\"rgb(233,233,233)\" stroke-opacity=\"1.0\" stroke-width=\"1.0\">\n        </line>\n        <line x1=\"125.45620944370515\" y1=\"-0.0\" x2=\"125.45620944370515\" y2=\"-344.0\" stroke=\"rgb(233,233,233)\" stroke-opacity=\"1.0\" stroke-width=\"1.0\">\n        </line>\n        <line x1=\"215.95663104421385\" y1=\"-0.0\" x2=\"215.95663104421385\" y2=\"-344.0\" stroke=\"rgb(233,233,233)\" stroke-opacity=\"1.0\" stroke-width=\"1.0\">\n        </line>\n        <line x1=\"306.4570526447225\" y1=\"-0.0\" x2=\"306.4570526447225\" y2=\"-344.0\" stroke=\"rgb(233,233,233)\" stroke-opacity=\"1.0\" stroke-width=\"1.0\">\n        </line>\n        <line x1=\"396.9574742452312\" y1=\"-0.0\" x2=\"396.9574742452312\" y2=\"-344.0\" stroke=\"rgb(233,233,233)\" stroke-opacity=\"1.0\" stroke-width=\"1.0\">\n        </line>\n        <line x1=\"487.45789584573987\" y1=\"-0.0\" x2=\"487.45789584573987\" y2=\"-344.0\" stroke=\"rgb(233,233,233)\" stroke-opacity=\"1.0\" stroke-width=\"1.0\">\n        </line>\n        <g transform=\"translate(34.95578784319647 0.0 ) \">\n          <line stroke-width=\"1.0\" stroke=\"rgb(71,71,71)\" stroke-opacity=\"1.0\" x2=\"0.0\" y2=\"4.0\">\n          </line>\n          <g transform=\"translate(0.0 7.0 ) \">\n            <text class=\"axis-text-x\" text-anchor=\"middle\" dy=\"0.7em\">\n            0.0\n            </text>\n          </g>\n        </g>\n        <g transform=\"translate(125.45620944370515 0.0 ) \">\n          <line stroke-width=\"1.0\" stroke=\"rgb(71,71,71)\" stroke-opacity=\"1.0\" x2=\"0.0\" y2=\"4.0\">\n          </line>\n          <g transform=\"translate(0.0 7.0 ) \">\n            <text class=\"axis-text-x\" text-anchor=\"middle\" dy=\"0.7em\">\n            0.2\n            </text>\n          </g>\n        </g>\n        <g transform=\"translate(215.95663104421385 0.0 ) \">\n          <line stroke-width=\"1.0\" stroke=\"rgb(71,71,71)\" stroke-opacity=\"1.0\" x2=\"0.0\" y2=\"4.0\">\n          </line>\n          <g transform=\"translate(0.0 7.0 ) \">\n            <text class=\"axis-text-x\" text-anchor=\"middle\" dy=\"0.7em\">\n            0.4\n            </text>\n          </g>\n        </g>\n        <g transform=\"translate(306.4570526447225 0.0 ) \">\n          <line stroke-width=\"1.0\" stroke=\"rgb(71,71,71)\" stroke-opacity=\"1.0\" x2=\"0.0\" y2=\"4.0\">\n          </line>\n          <g transform=\"translate(0.0 7.0 ) \">\n            <text class=\"axis-text-x\" text-anchor=\"middle\" dy=\"0.7em\">\n            0.6\n            </text>\n          </g>\n        </g>\n        <g transform=\"translate(396.9574742452312 0.0 ) \">\n          <line stroke-width=\"1.0\" stroke=\"rgb(71,71,71)\" stroke-opacity=\"1.0\" x2=\"0.0\" y2=\"4.0\">\n          </line>\n          <g transform=\"translate(0.0 7.0 ) \">\n            <text class=\"axis-text-x\" text-anchor=\"middle\" dy=\"0.7em\">\n            0.8\n            </text>\n          </g>\n        </g>\n        <g transform=\"translate(487.45789584573987 0.0 ) \">\n          <line stroke-width=\"1.0\" stroke=\"rgb(71,71,71)\" stroke-opacity=\"1.0\" x2=\"0.0\" y2=\"4.0\">\n          </line>\n          <g transform=\"translate(0.0 7.0 ) \">\n            <text class=\"axis-text-x\" text-anchor=\"middle\" dy=\"0.7em\">\n            1.0\n            </text>\n          </g>\n        </g>\n        <line x1=\"0.0\" y1=\"0.0\" x2=\"545.0387890890636\" y2=\"0.0\" stroke-width=\"1.0\" stroke=\"rgb(71,71,71)\" stroke-opacity=\"1.0\">\n        </line>\n      </g>\n      <g transform=\"translate(21.961210910936405 0.0 ) \">\n        <line x1=\"0.0\" y1=\"291.99697656840516\" x2=\"545.0387890890636\" y2=\"291.99697656840516\" stroke=\"rgb(233,233,233)\" stroke-opacity=\"1.0\" stroke-width=\"1.0\">\n        </line>\n        <line x1=\"0.0\" y1=\"239.9939531368103\" x2=\"545.0387890890636\" y2=\"239.9939531368103\" stroke=\"rgb(233,233,233)\" stroke-opacity=\"1.0\" stroke-width=\"1.0\">\n        </line>\n        <line x1=\"0.0\" y1=\"187.99092970521542\" x2=\"545.0387890890636\" y2=\"187.99092970521542\" stroke=\"rgb(233,233,233)\" stroke-opacity=\"1.0\" stroke-width=\"1.0\">\n        </line>\n        <line x1=\"0.0\" y1=\"135.98790627362058\" x2=\"545.0387890890636\" y2=\"135.98790627362058\" stroke=\"rgb(233,233,233)\" stroke-opacity=\"1.0\" stroke-width=\"1.0\">\n        </line>\n        <line x1=\"0.0\" y1=\"83.98488284202574\" x2=\"545.0387890890636\" y2=\"83.98488284202574\" stroke=\"rgb(233,233,233)\" stroke-opacity=\"1.0\" stroke-width=\"1.0\">\n        </line>\n        <line x1=\"0.0\" y1=\"31.981859410430843\" x2=\"545.0387890890636\" y2=\"31.981859410430843\" stroke=\"rgb(233,233,233)\" stroke-opacity=\"1.0\" stroke-width=\"1.0\">\n        </line>\n        <g transform=\"translate(0.0 344.0 ) \">\n          <g transform=\"translate(-3.0 0.0 ) \">\n            <text class=\"axis-text-y\" text-anchor=\"end\" dy=\"0.35em\">\n            0\n            </text>\n          </g>\n        </g>\n        <g transform=\"translate(0.0 291.99697656840516 ) \">\n          <g transform=\"translate(-3.0 0.0 ) \">\n            <text class=\"axis-text-y\" text-anchor=\"end\" dy=\"0.35em\">\n            10\n            </text>\n          </g>\n        </g>\n        <g transform=\"translate(0.0 239.9939531368103 ) \">\n          <g transform=\"translate(-3.0 0.0 ) \">\n            <text class=\"axis-text-y\" text-anchor=\"end\" dy=\"0.35em\">\n            20\n            </text>\n          </g>\n        </g>\n        <g transform=\"translate(0.0 187.99092970521542 ) \">\n          <g transform=\"translate(-3.0 0.0 ) \">\n            <text class=\"axis-text-y\" text-anchor=\"end\" dy=\"0.35em\">\n            30\n            </text>\n          </g>\n        </g>\n        <g transform=\"translate(0.0 135.98790627362058 ) \">\n          <g transform=\"translate(-3.0 0.0 ) \">\n            <text class=\"axis-text-y\" text-anchor=\"end\" dy=\"0.35em\">\n            40\n            </text>\n          </g>\n        </g>\n        <g transform=\"translate(0.0 83.98488284202574 ) \">\n          <g transform=\"translate(-3.0 0.0 ) \">\n            <text class=\"axis-text-y\" text-anchor=\"end\" dy=\"0.35em\">\n            50\n            </text>\n          </g>\n        </g>\n        <g transform=\"translate(0.0 31.981859410430843 ) \">\n          <g transform=\"translate(-3.0 0.0 ) \">\n            <text class=\"axis-text-y\" text-anchor=\"end\" dy=\"0.35em\">\n            60\n            </text>\n          </g>\n        </g>\n      </g>\n      <g transform=\"translate(21.961210910936405 0.0 ) \" clip-path=\"url(#ccVHUf1)\" clip-bounds-jfx=\"[rect (0.0, 0.0), (545.0387890890636, 344.0)]\">\n        <defs>\n          <clipPath id=\"ccVHUf1\">\n            <rect x=\"0.0\" y=\"0.0\" width=\"545.0387890890636\" height=\"344.0\">\n            </rect>\n          </clipPath>\n        </defs>\n        <rect x=\"499.90170381580987\" y=\"344.0\" height=\"0.1\" width=\"20.362594860114484\" stroke=\"rgb(0,0,0)\" stroke-opacity=\"0.0\" fill=\"rgb(17,142,216)\" fill-opacity=\"1.0\" stroke-width=\"1.0\">\n        </rect>\n        <rect x=\"477.27659841568266\" y=\"234.7936507936508\" height=\"109.20634920634919\" width=\"20.362594860114427\" stroke=\"rgb(0,0,0)\" stroke-opacity=\"0.0\" fill=\"rgb(17,142,216)\" fill-opacity=\"1.0\" stroke-width=\"1.0\">\n        </rect>\n        <rect x=\"454.6514930155555\" y=\"89.18518518518522\" height=\"254.81481481481478\" width=\"20.362594860114427\" stroke=\"rgb(0,0,0)\" stroke-opacity=\"0.0\" fill=\"rgb(17,142,216)\" fill-opacity=\"1.0\" stroke-width=\"1.0\">\n        </rect>\n        <rect x=\"432.02638761542835\" y=\"115.18669690098264\" height=\"228.81330309901736\" width=\"20.362594860114427\" stroke=\"rgb(0,0,0)\" stroke-opacity=\"0.0\" fill=\"rgb(17,142,216)\" fill-opacity=\"1.0\" stroke-width=\"1.0\">\n        </rect>\n        <rect x=\"409.4012822153012\" y=\"89.18518518518522\" height=\"254.81481481481478\" width=\"20.362594860114427\" stroke=\"rgb(0,0,0)\" stroke-opacity=\"0.0\" fill=\"rgb(17,142,216)\" fill-opacity=\"1.0\" stroke-width=\"1.0\">\n        </rect>\n        <rect x=\"386.776176815174\" y=\"78.78458049886626\" height=\"265.21541950113374\" width=\"20.362594860114427\" stroke=\"rgb(0,0,0)\" stroke-opacity=\"0.0\" fill=\"rgb(17,142,216)\" fill-opacity=\"1.0\" stroke-width=\"1.0\">\n        </rect>\n        <rect x=\"364.15107141504683\" y=\"37.18216175359038\" height=\"306.8178382464096\" width=\"20.36259486011437\" stroke=\"rgb(0,0,0)\" stroke-opacity=\"0.0\" fill=\"rgb(17,142,216)\" fill-opacity=\"1.0\" stroke-width=\"1.0\">\n        </rect>\n        <rect x=\"341.5259660149197\" y=\"109.98639455782316\" height=\"234.01360544217684\" width=\"20.362594860114427\" stroke=\"rgb(0,0,0)\" stroke-opacity=\"0.0\" fill=\"rgb(17,142,216)\" fill-opacity=\"1.0\" stroke-width=\"1.0\">\n        </rect>\n        <rect x=\"318.90086061479246\" y=\"47.582766439909335\" height=\"296.41723356009066\" width=\"20.362594860114427\" stroke=\"rgb(0,0,0)\" stroke-opacity=\"0.0\" fill=\"rgb(17,142,216)\" fill-opacity=\"1.0\" stroke-width=\"1.0\">\n        </rect>\n        <rect x=\"296.2757552146653\" y=\"104.78609221466365\" height=\"239.21390778533635\" width=\"20.362594860114427\" stroke=\"rgb(0,0,0)\" stroke-opacity=\"0.0\" fill=\"rgb(17,142,216)\" fill-opacity=\"1.0\" stroke-width=\"1.0\">\n        </rect>\n        <rect x=\"273.65064981453816\" y=\"94.3854875283447\" height=\"249.6145124716553\" width=\"20.362594860114427\" stroke=\"rgb(0,0,0)\" stroke-opacity=\"0.0\" fill=\"rgb(17,142,216)\" fill-opacity=\"1.0\" stroke-width=\"1.0\">\n        </rect>\n        <rect x=\"251.02554441441097\" y=\"78.78458049886626\" height=\"265.21541950113374\" width=\"20.3625948601144\" stroke=\"rgb(0,0,0)\" stroke-opacity=\"0.0\" fill=\"rgb(17,142,216)\" fill-opacity=\"1.0\" stroke-width=\"1.0\">\n        </rect>\n        <rect x=\"228.40043901428382\" y=\"130.7876039304611\" height=\"213.2123960695389\" width=\"20.3625948601144\" stroke=\"rgb(0,0,0)\" stroke-opacity=\"0.0\" fill=\"rgb(17,142,216)\" fill-opacity=\"1.0\" stroke-width=\"1.0\">\n        </rect>\n        <rect x=\"205.77533361415664\" y=\"52.78306878306881\" height=\"291.2169312169312\" width=\"20.362594860114427\" stroke=\"rgb(0,0,0)\" stroke-opacity=\"0.0\" fill=\"rgb(17,142,216)\" fill-opacity=\"1.0\" stroke-width=\"1.0\">\n        </rect>\n        <rect x=\"183.15022821402948\" y=\"104.78609221466365\" height=\"239.21390778533635\" width=\"20.362594860114427\" stroke=\"rgb(0,0,0)\" stroke-opacity=\"0.0\" fill=\"rgb(17,142,216)\" fill-opacity=\"1.0\" stroke-width=\"1.0\">\n        </rect>\n        <rect x=\"160.5251228139023\" y=\"57.98337112622829\" height=\"286.0166288737717\" width=\"20.362594860114427\" stroke=\"rgb(0,0,0)\" stroke-opacity=\"0.0\" fill=\"rgb(17,142,216)\" fill-opacity=\"1.0\" stroke-width=\"1.0\">\n        </rect>\n        <rect x=\"137.90001741377512\" y=\"16.380952380952408\" height=\"327.6190476190476\" width=\"20.362594860114427\" stroke=\"rgb(0,0,0)\" stroke-opacity=\"0.0\" fill=\"rgb(17,142,216)\" fill-opacity=\"1.0\" stroke-width=\"1.0\">\n        </rect>\n        <rect x=\"115.27491201364793\" y=\"125.58730158730162\" height=\"218.41269841269838\" width=\"20.362594860114427\" stroke=\"rgb(0,0,0)\" stroke-opacity=\"0.0\" fill=\"rgb(17,142,216)\" fill-opacity=\"1.0\" stroke-width=\"1.0\">\n        </rect>\n        <rect x=\"92.64980661352078\" y=\"57.98337112622829\" height=\"286.0166288737717\" width=\"20.362594860114427\" stroke=\"rgb(0,0,0)\" stroke-opacity=\"0.0\" fill=\"rgb(17,142,216)\" fill-opacity=\"1.0\" stroke-width=\"1.0\">\n        </rect>\n        <rect x=\"70.0247012133936\" y=\"99.58578987150418\" height=\"244.41421012849582\" width=\"20.362594860114427\" stroke=\"rgb(0,0,0)\" stroke-opacity=\"0.0\" fill=\"rgb(17,142,216)\" fill-opacity=\"1.0\" stroke-width=\"1.0\">\n        </rect>\n        <rect x=\"47.39959581326643\" y=\"68.38397581254725\" height=\"275.61602418745275\" width=\"20.362594860114427\" stroke=\"rgb(0,0,0)\" stroke-opacity=\"0.0\" fill=\"rgb(17,142,216)\" fill-opacity=\"1.0\" stroke-width=\"1.0\">\n        </rect>\n        <rect x=\"24.774490413139254\" y=\"229.5933484504913\" height=\"114.4066515495087\" width=\"20.362594860114427\" stroke=\"rgb(0,0,0)\" stroke-opacity=\"0.0\" fill=\"rgb(17,142,216)\" fill-opacity=\"1.0\" stroke-width=\"1.0\">\n        </rect>\n      </g>\n    </g>\n    <g transform=\"translate(14.5 182.0 ) rotate(-90.0 ) \">\n      <text class=\"axis-title-y\" y=\"0.0\" text-anchor=\"middle\">\n      STAT_COUNT\n      </text>\n    </g>\n    <g transform=\"translate(317.4806054554682 391.5 ) \">\n      <text class=\"axis-title-x\" y=\"0.0\" text-anchor=\"middle\">\n      STAT_BINS\n      </text>\n    </g>\n  </g>\n  <g id=\"dP1O9Eb\">\n  </g>\n</svg>\n        <script>document.getElementById(\"037a4601-649c-4d49-8b6b-fb4c25c8d7bf\").style.display = \"none\";</script>",
      "application/plot+json": {
       "output_type": "lets_plot_spec",
       "output": {
        "mapping": {},
        "data": {
         "STAT_COUNT": [
          22.0,
          53.0,
          47.0,
          55.0,
          42.0,
          63.0,
          55.0,
          46.0,
          56.0,
          41.0,
          51.0,
          48.0,
          46.0,
          57.0,
          45.0,
          59.0,
          51.0,
          49.0,
          44.0,
          49.0,
          21.0,
          0.0
         ],
         "STAT_BINS": [
          0.0,
          0.05,
          0.1,
          0.15,
          0.2,
          0.25,
          0.3,
          0.35,
          0.4,
          0.45,
          0.5,
          0.55,
          0.6,
          0.65,
          0.7,
          0.75,
          0.8,
          0.85,
          0.9,
          0.95,
          1.0,
          1.05
         ]
        },
        "kind": "plot",
        "scales": [
         {
          "aesthetic": "x",
          "limits": [
           null,
           null
          ]
         },
         {
          "aesthetic": "y",
          "limits": [
           null,
           null
          ]
         }
        ],
        "layers": [
         {
          "mapping": {
           "x": "STAT_BINS",
           "y": "STAT_COUNT"
          },
          "stat": "identity",
          "sampling": "none",
          "position": "dodge",
          "geom": "bar"
         }
        ]
       },
       "apply_color_scheme": true,
       "swing_enabled": true
      }
     },
     "execution_count": 7,
     "metadata": {},
     "output_type": "execute_result"
    }
   ],
   "source": [
    "df.histogram(\"values\", Bins.byWidth(0.05))"
   ],
   "metadata": {
    "collapsed": false,
    "ExecuteTime": {
     "end_time": "2023-07-10T13:13:36.819287Z",
     "start_time": "2023-07-10T13:13:36.685805Z"
    }
   }
  },
  {
   "cell_type": "code",
   "execution_count": 8,
   "outputs": [
    {
     "name": "stderr",
     "output_type": "stream",
     "text": [
      "Line_14.jupyter.kts (1:4 - 13) No value passed for parameter 'column'\n",
      "Line_14.jupyter.kts (1:15 - 21) Unresolved reference. None of the following candidates is applicable because of receiver type mismatch: \n",
      "public final val ColumnsContainer<Line_9_jupyter._DataFrameType>.values: DataColumn<Double> defined in Line_9_jupyter\n",
      "public final val ColumnsContainer<Line_9_jupyter._DataFrameType?>.values: DataColumn<Double?> defined in Line_9_jupyter\n",
      "public final val DataRow<Line_9_jupyter._DataFrameType>.values: Double defined in Line_9_jupyter\n",
      "public final val DataRow<Line_9_jupyter._DataFrameType?>.values: Double? defined in Line_9_jupyter"
     ]
    }
   ],
   "source": [
    "df.histogram {values}"
   ],
   "metadata": {
    "collapsed": false,
    "ExecuteTime": {
     "end_time": "2023-07-10T13:13:36.910686Z",
     "start_time": "2023-07-10T13:13:36.805929Z"
    }
   }
  },
  {
   "cell_type": "code",
   "execution_count": 9,
   "outputs": [
    {
     "name": "stderr",
     "output_type": "stream",
     "text": [
      "Line_15.jupyter.kts (1:23 - 26) Expecting an element\n",
      "Line_15.jupyter.kts (1:28 - 31) Expecting an element\n",
      "Line_15.jupyter.kts (1:31 - 32) Unexpected tokens (use ';' to separate expressions on the same line)"
     ]
    }
   ],
   "source": [
    "df.histogram {values} ... {....}"
   ],
   "metadata": {
    "collapsed": false,
    "ExecuteTime": {
     "start_time": "2023-07-10T13:13:36.887976Z"
    }
   }
  },
  {
   "cell_type": "code",
   "execution_count": 10,
   "outputs": [
    {
     "data": {
      "text/html": "            <script type=\"text/javascript\" data-lets-plot-script=\"library\" src=\"https://cdn.jsdelivr.net/gh/JetBrains/lets-plot@v3.1.0/js-package/distr/lets-plot.min.js\"></script>    \n               <div id=\"jcmbvw\"></div>\n   <script type=\"text/javascript\" data-lets-plot-script=\"plot\">\n       var plotSpec={\n\"mapping\":{\n},\n\"data\":{\n\"STAT_COUNT\":[22.0,53.0,47.0,55.0,42.0,63.0,55.0,46.0,56.0,41.0,51.0,48.0,46.0,57.0,45.0,59.0,51.0,49.0,44.0,49.0,21.0,0.0],\n\"STAT_BINS\":[0.0,0.05,0.1,0.15000000000000002,0.2,0.25,0.30000000000000004,0.35000000000000003,0.4,0.45,0.5,0.55,0.6000000000000001,0.65,0.7000000000000001,0.75,0.8,0.8500000000000001,0.9,0.9500000000000001,1.0,1.05]\n},\n\"kind\":\"plot\",\n\"scales\":[{\n\"aesthetic\":\"x\",\n\"limits\":[null,null]\n},{\n\"aesthetic\":\"y\",\n\"limits\":[null,null]\n}],\n\"layers\":[{\n\"mapping\":{\n\"x\":\"STAT_BINS\",\n\"y\":\"STAT_COUNT\"\n},\n\"stat\":\"identity\",\n\"size\":5.0,\n\"color\":\"#ee6666\",\n\"sampling\":\"none\",\n\"position\":\"identity\",\n\"geom\":\"line\",\n\"data\":{\n}\n}]\n};\n       var plotContainer = document.getElementById(\"jcmbvw\");\n       LetsPlot.buildPlotFromProcessedSpecs(plotSpec, -1, -1, plotContainer);\n   </script>            \n        <svg id=ab616104-9f2f-43ee-9d4a-8f9dc259c409 xmlns=\"http://www.w3.org/2000/svg\" xmlns:xlink=\"http://www.w3.org/1999/xlink\" class=\"plt-container\" width=\"600.0\" height=\"400.0\">\n  <style type=\"text/css\">\n  .plt-container {\n   font-family: Lucida Grande, sans-serif;\n   user-select: none;\n   -webkit-user-select: none;\n   -moz-user-select: none;\n   -ms-user-select: none;\n}\ntext {\n   text-rendering: optimizeLegibility;\n}\n#pka2mfD .plot-title {\n   fill: #474747;\n   font-family: Lucida Grande, sans-serif;\n   font-size: 16.0px;\n   font-weight: normal;\n   font-style: normal;   \n}\n#pka2mfD .plot-subtitle {\n   fill: #474747;\n   font-family: Lucida Grande, sans-serif;\n   font-size: 15.0px;\n   font-weight: normal;\n   font-style: normal;   \n}\n#pka2mfD .plot-caption {\n   fill: #474747;\n   font-family: Lucida Grande, sans-serif;\n   font-size: 13.0px;\n   font-weight: normal;\n   font-style: normal;   \n}\n#pka2mfD .legend-title {\n   fill: #474747;\n   font-family: Lucida Grande, sans-serif;\n   font-size: 15.0px;\n   font-weight: normal;\n   font-style: normal;   \n}\n#pka2mfD .legend-item {\n   fill: #474747;\n   font-family: Lucida Grande, sans-serif;\n   font-size: 13.0px;\n   font-weight: normal;\n   font-style: normal;   \n}\n#pka2mfD .axis-title-x {\n   fill: #474747;\n   font-family: Lucida Grande, sans-serif;\n   font-size: 15.0px;\n   font-weight: normal;\n   font-style: normal;   \n}\n#pka2mfD .axis-text-x {\n   fill: #474747;\n   font-family: Lucida Grande, sans-serif;\n   font-size: 13.0px;\n   font-weight: normal;\n   font-style: normal;   \n}\n#dA0EUIG .axis-tooltip-text-x {\n   fill: #ffffff;\n   font-family: Lucida Grande, sans-serif;\n   font-size: 13.0px;\n   font-weight: normal;\n   font-style: normal;   \n}\n#pka2mfD .axis-title-y {\n   fill: #474747;\n   font-family: Lucida Grande, sans-serif;\n   font-size: 15.0px;\n   font-weight: normal;\n   font-style: normal;   \n}\n#pka2mfD .axis-text-y {\n   fill: #474747;\n   font-family: Lucida Grande, sans-serif;\n   font-size: 13.0px;\n   font-weight: normal;\n   font-style: normal;   \n}\n#dA0EUIG .axis-tooltip-text-y {\n   fill: #ffffff;\n   font-family: Lucida Grande, sans-serif;\n   font-size: 13.0px;\n   font-weight: normal;\n   font-style: normal;   \n}\n#pka2mfD .facet-strip-text-x {\n   fill: #474747;\n   font-family: Lucida Grande, sans-serif;\n   font-size: 13.0px;\n   font-weight: normal;\n   font-style: normal;   \n}\n#pka2mfD .facet-strip-text-y {\n   fill: #474747;\n   font-family: Lucida Grande, sans-serif;\n   font-size: 13.0px;\n   font-weight: normal;\n   font-style: normal;   \n}\n#dA0EUIG .tooltip-text {\n   fill: #474747;\n   font-family: Lucida Grande, sans-serif;\n   font-size: 13.0px;\n   font-weight: normal;\n   font-style: normal;   \n}\n#dA0EUIG .tooltip-title {\n   fill: #474747;\n   font-family: Lucida Grande, sans-serif;\n   font-size: 13.0px;\n   font-weight: bold;\n   font-style: normal;   \n}\n#dA0EUIG .tooltip-label {\n   fill: #474747;\n   font-family: Lucida Grande, sans-serif;\n   font-size: 13.0px;\n   font-weight: bold;\n   font-style: normal;   \n}\n\n  </style>\n  <g id=\"pka2mfD\">\n    <rect x=\"0.0\" y=\"0.0\" height=\"400.0\" width=\"600.0\" stroke=\"rgb(71,71,71)\" stroke-opacity=\"1.0\" stroke-width=\"0.0\" fill=\"rgb(255,255,255)\" fill-opacity=\"1.0\">\n    </rect>\n    <g transform=\"translate(23.0 10.0 ) \">\n      <g transform=\"translate(21.961210910936405 344.0 ) \">\n        <line x1=\"24.774490413139254\" y1=\"-0.0\" x2=\"24.774490413139254\" y2=\"-344.0\" stroke=\"rgb(233,233,233)\" stroke-opacity=\"1.0\" stroke-width=\"1.0\">\n        </line>\n        <line x1=\"119.15350151081262\" y1=\"-0.0\" x2=\"119.15350151081262\" y2=\"-344.0\" stroke=\"rgb(233,233,233)\" stroke-opacity=\"1.0\" stroke-width=\"1.0\">\n        </line>\n        <line x1=\"213.53251260848597\" y1=\"-0.0\" x2=\"213.53251260848597\" y2=\"-344.0\" stroke=\"rgb(233,233,233)\" stroke-opacity=\"1.0\" stroke-width=\"1.0\">\n        </line>\n        <line x1=\"307.9115237061593\" y1=\"-0.0\" x2=\"307.9115237061593\" y2=\"-344.0\" stroke=\"rgb(233,233,233)\" stroke-opacity=\"1.0\" stroke-width=\"1.0\">\n        </line>\n        <line x1=\"402.29053480383266\" y1=\"-0.0\" x2=\"402.29053480383266\" y2=\"-344.0\" stroke=\"rgb(233,233,233)\" stroke-opacity=\"1.0\" stroke-width=\"1.0\">\n        </line>\n        <line x1=\"496.66954590150596\" y1=\"-0.0\" x2=\"496.66954590150596\" y2=\"-344.0\" stroke=\"rgb(233,233,233)\" stroke-opacity=\"1.0\" stroke-width=\"1.0\">\n        </line>\n        <g transform=\"translate(24.774490413139254 0.0 ) \">\n          <line stroke-width=\"1.0\" stroke=\"rgb(71,71,71)\" stroke-opacity=\"1.0\" x2=\"0.0\" y2=\"4.0\">\n          </line>\n          <g transform=\"translate(0.0 7.0 ) \">\n            <text class=\"axis-text-x\" text-anchor=\"middle\" dy=\"0.7em\">\n            0.0\n            </text>\n          </g>\n        </g>\n        <g transform=\"translate(119.15350151081262 0.0 ) \">\n          <line stroke-width=\"1.0\" stroke=\"rgb(71,71,71)\" stroke-opacity=\"1.0\" x2=\"0.0\" y2=\"4.0\">\n          </line>\n          <g transform=\"translate(0.0 7.0 ) \">\n            <text class=\"axis-text-x\" text-anchor=\"middle\" dy=\"0.7em\">\n            0.2\n            </text>\n          </g>\n        </g>\n        <g transform=\"translate(213.53251260848597 0.0 ) \">\n          <line stroke-width=\"1.0\" stroke=\"rgb(71,71,71)\" stroke-opacity=\"1.0\" x2=\"0.0\" y2=\"4.0\">\n          </line>\n          <g transform=\"translate(0.0 7.0 ) \">\n            <text class=\"axis-text-x\" text-anchor=\"middle\" dy=\"0.7em\">\n            0.4\n            </text>\n          </g>\n        </g>\n        <g transform=\"translate(307.9115237061593 0.0 ) \">\n          <line stroke-width=\"1.0\" stroke=\"rgb(71,71,71)\" stroke-opacity=\"1.0\" x2=\"0.0\" y2=\"4.0\">\n          </line>\n          <g transform=\"translate(0.0 7.0 ) \">\n            <text class=\"axis-text-x\" text-anchor=\"middle\" dy=\"0.7em\">\n            0.6\n            </text>\n          </g>\n        </g>\n        <g transform=\"translate(402.29053480383266 0.0 ) \">\n          <line stroke-width=\"1.0\" stroke=\"rgb(71,71,71)\" stroke-opacity=\"1.0\" x2=\"0.0\" y2=\"4.0\">\n          </line>\n          <g transform=\"translate(0.0 7.0 ) \">\n            <text class=\"axis-text-x\" text-anchor=\"middle\" dy=\"0.7em\">\n            0.8\n            </text>\n          </g>\n        </g>\n        <g transform=\"translate(496.66954590150596 0.0 ) \">\n          <line stroke-width=\"1.0\" stroke=\"rgb(71,71,71)\" stroke-opacity=\"1.0\" x2=\"0.0\" y2=\"4.0\">\n          </line>\n          <g transform=\"translate(0.0 7.0 ) \">\n            <text class=\"axis-text-x\" text-anchor=\"middle\" dy=\"0.7em\">\n            1.0\n            </text>\n          </g>\n        </g>\n        <line x1=\"0.0\" y1=\"0.0\" x2=\"545.0387890890636\" y2=\"0.0\" stroke-width=\"1.0\" stroke=\"rgb(71,71,71)\" stroke-opacity=\"1.0\">\n        </line>\n      </g>\n      <g transform=\"translate(21.961210910936405 0.0 ) \">\n        <line x1=\"0.0\" y1=\"328.3636363636364\" x2=\"545.0387890890636\" y2=\"328.3636363636364\" stroke=\"rgb(233,233,233)\" stroke-opacity=\"1.0\" stroke-width=\"1.0\">\n        </line>\n        <line x1=\"0.0\" y1=\"278.72438672438676\" x2=\"545.0387890890636\" y2=\"278.72438672438676\" stroke=\"rgb(233,233,233)\" stroke-opacity=\"1.0\" stroke-width=\"1.0\">\n        </line>\n        <line x1=\"0.0\" y1=\"229.0851370851371\" x2=\"545.0387890890636\" y2=\"229.0851370851371\" stroke=\"rgb(233,233,233)\" stroke-opacity=\"1.0\" stroke-width=\"1.0\">\n        </line>\n        <line x1=\"0.0\" y1=\"179.44588744588748\" x2=\"545.0387890890636\" y2=\"179.44588744588748\" stroke=\"rgb(233,233,233)\" stroke-opacity=\"1.0\" stroke-width=\"1.0\">\n        </line>\n        <line x1=\"0.0\" y1=\"129.80663780663784\" x2=\"545.0387890890636\" y2=\"129.80663780663784\" stroke=\"rgb(233,233,233)\" stroke-opacity=\"1.0\" stroke-width=\"1.0\">\n        </line>\n        <line x1=\"0.0\" y1=\"80.1673881673882\" x2=\"545.0387890890636\" y2=\"80.1673881673882\" stroke=\"rgb(233,233,233)\" stroke-opacity=\"1.0\" stroke-width=\"1.0\">\n        </line>\n        <line x1=\"0.0\" y1=\"30.528138528138584\" x2=\"545.0387890890636\" y2=\"30.528138528138584\" stroke=\"rgb(233,233,233)\" stroke-opacity=\"1.0\" stroke-width=\"1.0\">\n        </line>\n        <g transform=\"translate(0.0 328.3636363636364 ) \">\n          <g transform=\"translate(-3.0 0.0 ) \">\n            <text class=\"axis-text-y\" text-anchor=\"end\" dy=\"0.35em\">\n            0\n            </text>\n          </g>\n        </g>\n        <g transform=\"translate(0.0 278.72438672438676 ) \">\n          <g transform=\"translate(-3.0 0.0 ) \">\n            <text class=\"axis-text-y\" text-anchor=\"end\" dy=\"0.35em\">\n            10\n            </text>\n          </g>\n        </g>\n        <g transform=\"translate(0.0 229.0851370851371 ) \">\n          <g transform=\"translate(-3.0 0.0 ) \">\n            <text class=\"axis-text-y\" text-anchor=\"end\" dy=\"0.35em\">\n            20\n            </text>\n          </g>\n        </g>\n        <g transform=\"translate(0.0 179.44588744588748 ) \">\n          <g transform=\"translate(-3.0 0.0 ) \">\n            <text class=\"axis-text-y\" text-anchor=\"end\" dy=\"0.35em\">\n            30\n            </text>\n          </g>\n        </g>\n        <g transform=\"translate(0.0 129.80663780663784 ) \">\n          <g transform=\"translate(-3.0 0.0 ) \">\n            <text class=\"axis-text-y\" text-anchor=\"end\" dy=\"0.35em\">\n            40\n            </text>\n          </g>\n        </g>\n        <g transform=\"translate(0.0 80.1673881673882 ) \">\n          <g transform=\"translate(-3.0 0.0 ) \">\n            <text class=\"axis-text-y\" text-anchor=\"end\" dy=\"0.35em\">\n            50\n            </text>\n          </g>\n        </g>\n        <g transform=\"translate(0.0 30.528138528138584 ) \">\n          <g transform=\"translate(-3.0 0.0 ) \">\n            <text class=\"axis-text-y\" text-anchor=\"end\" dy=\"0.35em\">\n            60\n            </text>\n          </g>\n        </g>\n      </g>\n      <g transform=\"translate(21.961210910936405 0.0 ) \" clip-path=\"url(#cmp5EWP)\" clip-bounds-jfx=\"[rect (0.0, 0.0), (545.0387890890636, 344.0)]\">\n        <defs>\n          <clipPath id=\"cmp5EWP\">\n            <rect x=\"0.0\" y=\"0.0\" width=\"545.0387890890636\" height=\"344.0\">\n            </rect>\n          </clipPath>\n        </defs>\n        <g>\n          <path d=\"M24.774490413139254 219.1572871572872 L24.774490413139254 219.1572871572872 L48.36924318755759 65.2756132756133 L71.96399596197594 95.0591630591631 L95.55874873639428 55.34776334776336 L119.15350151081262 119.8787878787879 L142.74825428523093 15.636363636363683 L166.3430070596493 55.34776334776336 L189.93775983406763 100.02308802308806 L213.53251260848597 50.38383838383845 L237.12726538290428 124.84271284271287 L260.7220181573226 75.20346320346323 L284.31677093174096 90.09523809523813 L307.9115237061593 100.02308802308806 L331.50627648057764 45.419913419913485 L355.101029254996 104.98701298701303 L378.69578202941426 35.49206349206355 L402.29053480383266 75.20346320346323 L425.885287578251 85.13131313131316 L449.4800403526693 109.950937950938 L473.0747931270877 85.13131313131316 L496.66954590150596 224.12121212121212 L520.2642986759244 328.3636363636364 \" fill=\"none\" stroke-width=\"10.0\" stroke=\"rgb(238,102,102)\" stroke-opacity=\"1.0\">\n          </path>\n        </g>\n      </g>\n    </g>\n    <g transform=\"translate(14.5 182.0 ) rotate(-90.0 ) \">\n      <text class=\"axis-title-y\" y=\"0.0\" text-anchor=\"middle\">\n      STAT_COUNT\n      </text>\n    </g>\n    <g transform=\"translate(317.4806054554682 391.5 ) \">\n      <text class=\"axis-title-x\" y=\"0.0\" text-anchor=\"middle\">\n      STAT_BINS\n      </text>\n    </g>\n  </g>\n  <g id=\"dA0EUIG\">\n  </g>\n</svg>\n        <script>document.getElementById(\"ab616104-9f2f-43ee-9d4a-8f9dc259c409\").style.display = \"none\";</script>",
      "application/plot+json": {
       "output_type": "lets_plot_spec",
       "output": {
        "mapping": {},
        "data": {
         "STAT_COUNT": [
          22.0,
          53.0,
          47.0,
          55.0,
          42.0,
          63.0,
          55.0,
          46.0,
          56.0,
          41.0,
          51.0,
          48.0,
          46.0,
          57.0,
          45.0,
          59.0,
          51.0,
          49.0,
          44.0,
          49.0,
          21.0,
          0.0
         ],
         "STAT_BINS": [
          0.0,
          0.05,
          0.1,
          0.15,
          0.2,
          0.25,
          0.3,
          0.35,
          0.4,
          0.45,
          0.5,
          0.55,
          0.6,
          0.65,
          0.7,
          0.75,
          0.8,
          0.85,
          0.9,
          0.95,
          1.0,
          1.05
         ]
        },
        "kind": "plot",
        "scales": [
         {
          "aesthetic": "x",
          "limits": [
           null,
           null
          ]
         },
         {
          "aesthetic": "y",
          "limits": [
           null,
           null
          ]
         }
        ],
        "layers": [
         {
          "mapping": {
           "x": "STAT_BINS",
           "y": "STAT_COUNT"
          },
          "stat": "identity",
          "size": 5.0,
          "color": "#ee6666",
          "sampling": "none",
          "position": "identity",
          "geom": "line"
         }
        ]
       },
       "apply_color_scheme": true,
       "swing_enabled": true
      }
     },
     "execution_count": 10,
     "metadata": {},
     "output_type": "execute_result"
    }
   ],
   "source": [
    "df.statBin(Bins.byWidth(0.05)) { values }.plot {\n",
    "     line {\n",
    "        x(Stat.BINS)\n",
    "        y(Stat.COUNT)\n",
    "        width = 5.0\n",
    "        color = Color.RED\n",
    "    }\n",
    "}"
   ],
   "metadata": {
    "collapsed": false
   }
  },
  {
   "cell_type": "markdown",
   "source": [
    "histogram = statBin + bars\n",
    "statBin = bin + count + bin transform (limits -> center )"
   ],
   "metadata": {
    "collapsed": false
   }
  }
 ],
 "metadata": {
  "kernelspec": {
   "display_name": "Kotlin",
   "language": "kotlin",
   "name": "kotlin"
  },
  "language_info": {
   "name": "kotlin",
   "version": "1.8.20",
   "mimetype": "text/x-kotlin",
   "file_extension": ".kt",
   "pygments_lexer": "kotlin",
   "codemirror_mode": "text/x-kotlin",
   "nbconvert_exporter": ""
  },
  "ktnbPluginMetadata": {
   "isAddProjectLibrariesToClasspath": false
  }
 },
 "nbformat": 4,
 "nbformat_minor": 0
}
